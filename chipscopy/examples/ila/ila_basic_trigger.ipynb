{
 "cells": [
  {
   "cell_type": "code",
   "execution_count": null,
   "metadata": {},
   "outputs": [],
   "source": [
    "# Copyright 2021 Xilinx, Inc.\n",
    "# \n",
    "# Licensed under the Apache License, Version 2.0 (the \"License\");\n",
    "# you may not use this file except in compliance with the License.\n",
    "# You may obtain a copy of the License at\n",
    "# \n",
    "#     http://www.apache.org/licenses/LICENSE-2.0\n",
    "# \n",
    "# Unless required by applicable law or agreed to in writing, software\n",
    "# distributed under the License is distributed on an \"AS IS\" BASIS,\n",
    "# WITHOUT WARRANTIES OR CONDITIONS OF ANY KIND, either express or implied.\n",
    "# See the License for the specific language governing permissions and\n",
    "# limitations under the License."
   ]
  },
  {
   "cell_type": "markdown",
   "metadata": {},
   "source": [
    "ILA Basic Trigger Example\n",
    "========================="
   ]
  },
  {
   "cell_type": "markdown",
   "metadata": {},
   "source": [
    "Description\n",
    "-----------\n",
    "This demo shows how to do four things:\n",
    "1. Connect to a Versal target device via ChipScope Server (cs_server)\n",
    "   and Hardware Server (hw_server)\n",
    "2. Program a Versal target device using a design PDI file\n",
    "3. Run a basic trigger on the ILA core\n",
    "4. Retrieve and dump the data buffer captured by the ILA core\n",
    "\n",
    "Requirements\n",
    "------------\n",
    "The following is required to run this demo:\n",
    "1. Local or remote access to a Versal device\n",
    "2. 2021.1 cs_server and hw_server applications\n",
    "3. Python 3.8 environment\n",
    "4. A clone of the chipscopy git enterprise repository:\n",
    "   - https://gitenterprise.xilinx.com/chipscope/chipscopy\n",
    "\n",
    "---"
   ]
  },
  {
   "cell_type": "markdown",
   "metadata": {},
   "source": [
    "## Step 1 - Set up environment"
   ]
  },
  {
   "cell_type": "code",
   "execution_count": 1,
   "metadata": {
    "lines_to_next_cell": 1
   },
   "outputs": [],
   "source": [
    "import os\n",
    "from enum import Enum\n",
    "from chipscopy import get_examples_dir_or_die, null_callback\n",
    "from statistics import mean, median\n",
    "from chipscopy.api.ila import export_waveform, get_waveform_probe_data, get_waveform_data"
   ]
  },
  {
   "cell_type": "code",
   "execution_count": 2,
   "metadata": {},
   "outputs": [],
   "source": [
    "# Specify locations of the running hw_server and cs_server below.\n",
    "CS_URL = os.getenv(\"CS_SERVER_URL\", \"TCP:localhost:3042\")\n",
    "HW_URL = os.getenv(\"HW_SERVER_URL\", \"TCP:localhost:3121\")\n",
    "BOARD = os.getenv(\"HW_SERVER_BOARD\", \"vck190/production/2.0\")"
   ]
  },
  {
   "cell_type": "code",
   "execution_count": 3,
   "metadata": {},
   "outputs": [],
   "source": [
    "EXAMPLES_DIR = get_examples_dir_or_die()\n",
    "PDI_FILE = f\"{EXAMPLES_DIR}/designs/{BOARD}/ks_demo/ks_demo_wrapper.pdi\"\n",
    "assert os.path.isfile(PDI_FILE)\n",
    "LTX_FILE = f\"{EXAMPLES_DIR}/designs/{BOARD}/ks_demo/ks_demo_wrapper.ltx\"\n",
    "assert os.path.isfile(LTX_FILE)"
   ]
  },
  {
   "cell_type": "code",
   "execution_count": 4,
   "metadata": {},
   "outputs": [
    {
     "name": "stdout",
     "output_type": "stream",
     "text": [
      "HW_URL=TCP:ibert-1:3121\n",
      "CS_URL=TCP:localhost:3042\n",
      "PDI=C:\\Users\\jant\\PycharmProjects\\chipscopy\\chipscopy\\examples/designs/vck190/production/2.0/ks_demo/ks_demo_wrapper.pdi\n",
      "LTX=C:\\Users\\jant\\PycharmProjects\\chipscopy\\chipscopy\\examples/designs/vck190/production/2.0/ks_demo/ks_demo_wrapper.ltx\n"
     ]
    }
   ],
   "source": [
    "print(f\"HW_URL={HW_URL}\")\n",
    "print(f\"CS_URL={CS_URL}\")\n",
    "print(f\"PDI={PDI_FILE}\")\n",
    "print(f\"LTX={LTX_FILE}\")"
   ]
  },
  {
   "cell_type": "markdown",
   "metadata": {},
   "source": [
    "## Step 2 - Create a session and connect to the server(s)\n",
    "Here we create a new session and print out some versioning information for diagnostic purposes.\n",
    "The session is a container that keeps track of devices and debug cores."
   ]
  },
  {
   "cell_type": "code",
   "execution_count": 5,
   "metadata": {},
   "outputs": [],
   "source": [
    "import chipscopy\n",
    "from chipscopy import create_session, report_versions"
   ]
  },
  {
   "cell_type": "code",
   "execution_count": 6,
   "metadata": {},
   "outputs": [
    {
     "name": "stdout",
     "output_type": "stream",
     "text": [
      "Using chipscopy api version: 2021.1.1613109357\n"
     ]
    },
    {
     "data": {
      "text/html": [
       "<pre style=\"white-space:pre;overflow-x:auto;line-height:normal;font-family:Menlo,'DejaVu Sans Mono',consolas,'Courier New',monospace\">\n",
       "\n",
       "</pre>\n"
      ],
      "text/plain": [
       "<rich.jupyter.JupyterRenderable at 0x23e406fc070>"
      ]
     },
     "metadata": {},
     "output_type": "display_data"
    },
    {
     "data": {
      "text/html": [
       "<pre style=\"white-space:pre;overflow-x:auto;line-height:normal;font-family:Menlo,'DejaVu Sans Mono',consolas,'Courier New',monospace\"><span style=\"font-style: italic\">                      ChipScoPy Version Information                      </span>\n",
       "┌────────────────────────────┬──────────────────────────────────────────┐\n",
       "│<span style=\"font-weight: bold\">                     Entity </span>│<span style=\"font-weight: bold\"> Version                                  </span>│\n",
       "├────────────────────────────┼──────────────────────────────────────────┤\n",
       "│                  ChipScoPy │ ┌───────────┬──────────────────────┐     │\n",
       "│                            │ │<span style=\"font-weight: bold\"> Attribute </span>│<span style=\"font-weight: bold\"> Value                </span>│     │\n",
       "│                            │ ├───────────┼──────────────────────┤     │\n",
       "│                            │ │     Build │ 2021.1.1613109357    │     │\n",
       "│                            │ │ Timestamp │ Feb 11 2021-21:55:57 │     │\n",
       "│                            │ └───────────┴──────────────────────┘     │\n",
       "│                            │                                          │\n",
       "│   hw_server @ ibert-1:3121 │ ┌───────────┬──────────────────────────┐ │\n",
       "│                            │ │<span style=\"font-weight: bold\"> Attribute </span>│<span style=\"font-weight: bold\"> Value                    </span>│ │\n",
       "│                            │ ├───────────┼──────────────────────────┤ │\n",
       "│                            │ │    Status │ Connected                │ │\n",
       "│                            │ │     Build │ 1616719924               │ │\n",
       "│                            │ │   Version │ 2021.1.0                 │ │\n",
       "│                            │ │ Timestamp │ Thu Mar 25 18:52:04 2021 │ │\n",
       "│                            │ └───────────┴──────────────────────────┘ │\n",
       "│                            │                                          │\n",
       "│ cs_server @ localhost:3042 │ ┌───────────────┬──────────────────────┐ │\n",
       "│                            │ │<span style=\"font-weight: bold\">     Attribute </span>│<span style=\"font-weight: bold\"> Value                </span>│ │\n",
       "│                            │ ├───────────────┼──────────────────────┤ │\n",
       "│                            │ │        Status │ Connected            │ │\n",
       "│                            │ │         Build │ 1596824635           │ │\n",
       "│                            │ │       Version │ 2021.1               │ │\n",
       "│                            │ │     Timestamp │ Aug 07 2020-11:23:55 │ │\n",
       "│                            │ │       Package │ 2020.2.1596824635    │ │\n",
       "│                            │ │ Artifact type │ git                  │ │\n",
       "│                            │ └───────────────┴──────────────────────┘ │\n",
       "└────────────────────────────┴──────────────────────────────────────────┘\n",
       "</pre>\n"
      ],
      "text/plain": [
       "<rich.jupyter.JupyterRenderable at 0x23e406fc940>"
      ]
     },
     "metadata": {},
     "output_type": "display_data"
    },
    {
     "data": {
      "text/html": [
       "<pre style=\"white-space:pre;overflow-x:auto;line-height:normal;font-family:Menlo,'DejaVu Sans Mono',consolas,'Courier New',monospace\">\n",
       "\n",
       "</pre>\n"
      ],
      "text/plain": [
       "<rich.jupyter.JupyterRenderable at 0x23e4065b8b0>"
      ]
     },
     "metadata": {},
     "output_type": "display_data"
    }
   ],
   "source": [
    "print(f\"Using chipscopy api version: {chipscopy.__version__}\")\n",
    "session = create_session(cs_server_url=CS_URL, hw_server_url=HW_URL)\n",
    "report_versions(session)"
   ]
  },
  {
   "cell_type": "markdown",
   "metadata": {},
   "source": [
    "## Step 3 - Get our device from the session"
   ]
  },
  {
   "cell_type": "code",
   "execution_count": 7,
   "metadata": {},
   "outputs": [
    {
     "name": "stdout",
     "output_type": "stream",
     "text": [
      "Device count: 1\n"
     ]
    }
   ],
   "source": [
    "# Use the first available device and setup its debug cores\n",
    "if len(session.devices) == 0:\n",
    "    raise ValueError(\"No devices detected\")\n",
    "print(f\"Device count: {len(session.devices)}\")\n",
    "versal_device = session.devices[0]"
   ]
  },
  {
   "cell_type": "markdown",
   "metadata": {},
   "source": [
    "## Step 4 - Program the device with our example PDI"
   ]
  },
  {
   "cell_type": "code",
   "execution_count": 8,
   "metadata": {},
   "outputs": [
    {
     "name": "stdout",
     "output_type": "stream",
     "text": [
      "Programming C:\\Users\\jant\\PycharmProjects\\chipscopy\\chipscopy\\examples/designs/vck190/production/2.0/ks_demo/ks_demo_wrapper.pdi...\n"
     ]
    },
    {
     "data": {
      "text/html": [
       "<pre style=\"white-space:pre;overflow-x:auto;line-height:normal;font-family:Menlo,'DejaVu Sans Mono',consolas,'Courier New',monospace\">\n",
       "<span style=\"font-weight: bold\">--&gt; INFO: </span>Programming PDI file C:\\Users\\jant\\PycharmProjects\\chipscopy\\chipscopy\\examples\\des\n",
       "igns\\vck190\\production\\2.0\\ks_demo\\ks_demo_wrapper.pdi\n",
       "    \n",
       "</pre>\n"
      ],
      "text/plain": [
       "<rich.jupyter.JupyterRenderable at 0x23e4065be80>"
      ]
     },
     "metadata": {},
     "output_type": "display_data"
    },
    {
     "data": {
      "application/vnd.jupyter.widget-view+json": {
       "model_id": "cdf6d5b9eea04377b72df09258c30cd4",
       "version_major": 2,
       "version_minor": 0
      },
      "text/plain": [
       "Output()"
      ]
     },
     "metadata": {},
     "output_type": "display_data"
    }
   ],
   "source": [
    "print(f\"Programming {PDI_FILE}...\")\n",
    "versal_device.program(PDI_FILE)"
   ]
  },
  {
   "cell_type": "markdown",
   "metadata": {},
   "source": [
    "## Step 5 - Detect Debug Cores"
   ]
  },
  {
   "cell_type": "code",
   "execution_count": 9,
   "metadata": {},
   "outputs": [
    {
     "name": "stdout",
     "output_type": "stream",
     "text": [
      "Discovering debug cores...\n"
     ]
    }
   ],
   "source": [
    "print(f\"Discovering debug cores...\")\n",
    "versal_device.discover_and_setup_cores(ltx_file=LTX_FILE)"
   ]
  },
  {
   "cell_type": "code",
   "execution_count": 10,
   "metadata": {},
   "outputs": [
    {
     "name": "stdout",
     "output_type": "stream",
     "text": [
      "\n",
      "Found 4 ILA cores in design\n"
     ]
    }
   ],
   "source": [
    "ila_count = len(versal_device.ila_cores)\n",
    "print(f\"\\nFound {ila_count} ILA cores in design\")"
   ]
  },
  {
   "cell_type": "code",
   "execution_count": 11,
   "metadata": {},
   "outputs": [],
   "source": [
    "if ila_count == 0:\n",
    "    print(\"No ILA core found! Exiting...\")\n",
    "    raise ValueError(\"No ILA cores detected\")"
   ]
  },
  {
   "cell_type": "code",
   "execution_count": 12,
   "metadata": {},
   "outputs": [
    {
     "name": "stdout",
     "output_type": "stream",
     "text": [
      "    ILA Core #0: NAME=ks_demo_i/axis_ila_dma, UUID=1CBBF19A124D562B8B39E5D39BB10BE3\n",
      "    ILA Core #1: NAME=ks_demo_i/axis_ila_bram, UUID=20E8B004FC865B87883C4CCDC77D830D\n",
      "    ILA Core #2: NAME=ks_demo_i/ila_fast_counter_0, UUID=8F904C7908B25897BEAB95475B844358\n",
      "    ILA Core #3: NAME=ks_demo_i/ila_slow_counter_0, UUID=CA49247E0AB35CCBB6093B473F933C0E\n"
     ]
    }
   ],
   "source": [
    "# List all detected ILA Cores\n",
    "ila_cores = versal_device.ila_cores\n",
    "for index, ila_core in enumerate(ila_cores):\n",
    "    print(f\"    ILA Core #{index}: NAME={ila_core.name}, UUID={ila_core.core_info.uuid}\")"
   ]
  },
  {
   "cell_type": "markdown",
   "metadata": {},
   "source": [
    "### Some ways to query debug cores"
   ]
  },
  {
   "cell_type": "code",
   "execution_count": 13,
   "metadata": {},
   "outputs": [],
   "source": [
    "# Get the ila cores matching a given name. filter_by returns a list, even if just one item is present.\n",
    "ila_by_name = versal_device.ila_cores.filter_by(name=\"ks_demo_i/ila_slow_counter_0\")[0]\n",
    "# Get ILA by uuid:\n",
    "ila_by_uuid = versal_device.ila_cores.filter_by(uuid=\"CA49247E0AB35CCBB6093B473F933C0E\")[0]\n",
    "# This also works to get an ila by index:\n",
    "ila_by_index = versal_device.ila_cores[3]"
   ]
  },
  {
   "cell_type": "code",
   "execution_count": 14,
   "metadata": {},
   "outputs": [],
   "source": [
    "assert ila_by_name is ila_by_uuid\n",
    "assert ila_by_name is ila_by_index"
   ]
  },
  {
   "cell_type": "code",
   "execution_count": 15,
   "metadata": {},
   "outputs": [],
   "source": [
    "my_ila = ila_by_name"
   ]
  },
  {
   "cell_type": "code",
   "execution_count": 16,
   "metadata": {},
   "outputs": [
    {
     "name": "stdout",
     "output_type": "stream",
     "text": [
      "USING ILA: ks_demo_i/ila_slow_counter_0\n"
     ]
    }
   ],
   "source": [
    "print(f\"USING ILA: {my_ila.name}\")"
   ]
  },
  {
   "cell_type": "markdown",
   "metadata": {},
   "source": [
    "## Step 6 - Get Information for this ILA Core\n"
   ]
  },
  {
   "cell_type": "code",
   "execution_count": 17,
   "metadata": {},
   "outputs": [],
   "source": [
    "from pprint import pformat"
   ]
  },
  {
   "cell_type": "code",
   "execution_count": 18,
   "metadata": {
    "lines_to_next_cell": 2,
    "scrolled": true
   },
   "outputs": [
    {
     "name": "stdout",
     "output_type": "stream",
     "text": [
      "\n",
      "ILA Name: ks_demo_i/ila_slow_counter_0\n",
      "\n",
      "ILA Core Info { 'core_major_ver': 1,\n",
      "  'core_minor_ver': 0,\n",
      "  'core_type': 1,\n",
      "  'drv_ver': 4,\n",
      "  'tool_major_ver': 19,\n",
      "  'tool_minor_ver': 1,\n",
      "  'uuid': 'CA49247E0AB35CCBB6093B473F933C0E'}\n",
      "\n",
      "ILA Static Info { 'data_depth': 1024,\n",
      "  'data_width': 72,\n",
      "  'has_advanced_trigger': True,\n",
      "  'has_capture_control': False,\n",
      "  'has_trig_in': True,\n",
      "  'has_trig_out': True,\n",
      "  'match_unit_count': 40,\n",
      "  'port_count': 10}\n",
      "\n",
      "ILA ports: [ ILAPort(bit_width=1, data_bit_index=0, index=0, is_trigger=True, is_data=True, match_unit_count=4, match_unit_type=<ILAMatchUnitType.LARGE: 2>),\n",
      "  ILAPort(bit_width=1, data_bit_index=1, index=1, is_trigger=True, is_data=True, match_unit_count=4, match_unit_type=<ILAMatchUnitType.LARGE: 2>),\n",
      "  ILAPort(bit_width=1, data_bit_index=2, index=2, is_trigger=True, is_data=True, match_unit_count=4, match_unit_type=<ILAMatchUnitType.LARGE: 2>),\n",
      "  ILAPort(bit_width=1, data_bit_index=3, index=3, is_trigger=True, is_data=True, match_unit_count=4, match_unit_type=<ILAMatchUnitType.LARGE: 2>),\n",
      "  ILAPort(bit_width=32, data_bit_index=4, index=4, is_trigger=True, is_data=True, match_unit_count=4, match_unit_type=<ILAMatchUnitType.LARGE: 2>),\n",
      "  ILAPort(bit_width=32, data_bit_index=36, index=5, is_trigger=True, is_data=True, match_unit_count=4, match_unit_type=<ILAMatchUnitType.LARGE: 2>),\n",
      "  ILAPort(bit_width=1, data_bit_index=68, index=6, is_trigger=True, is_data=True, match_unit_count=4, match_unit_type=<ILAMatchUnitType.LARGE: 2>),\n",
      "  ILAPort(bit_width=1, data_bit_index=69, index=7, is_trigger=True, is_data=True, match_unit_count=4, match_unit_type=<ILAMatchUnitType.LARGE: 2>),\n",
      "  ILAPort(bit_width=1, data_bit_index=70, index=8, is_trigger=True, is_data=True, match_unit_count=4, match_unit_type=<ILAMatchUnitType.LARGE: 2>),\n",
      "  ILAPort(bit_width=1, data_bit_index=71, index=9, is_trigger=True, is_data=True, match_unit_count=4, match_unit_type=<ILAMatchUnitType.LARGE: 2>)]\n",
      "\n",
      "ILA probes: { 'ks_demo_i/ila_fast_counter_0_TRIG_IN_ack': ILAProbe(name='ks_demo_i/ila_fast_counter_0_TRIG_IN_ack', bit_width=1, is_data=True, is_trigger=True, map='port7[0:0]', mu_count=4),\n",
      "  'ks_demo_i/ila_fast_counter_0_TRIG_OUT_trig': ILAProbe(name='ks_demo_i/ila_fast_counter_0_TRIG_OUT_trig', bit_width=1, is_data=True, is_trigger=True, map='port8[0:0]', mu_count=4),\n",
      "  'ks_demo_i/ila_slow_counter_0_TRIG_IN_ack': ILAProbe(name='ks_demo_i/ila_slow_counter_0_TRIG_IN_ack', bit_width=1, is_data=True, is_trigger=True, map='port9[0:0]', mu_count=4),\n",
      "  'ks_demo_i/ila_slow_counter_0_TRIG_OUT_trig': ILAProbe(name='ks_demo_i/ila_slow_counter_0_TRIG_OUT_trig', bit_width=1, is_data=True, is_trigger=True, map='port6[0:0]', mu_count=4),\n",
      "  'ks_demo_i/slow_counter_0_CE_1': ILAProbe(name='ks_demo_i/slow_counter_0_CE_1', bit_width=1, is_data=True, is_trigger=True, map='port0[0:0]', mu_count=4),\n",
      "  'ks_demo_i/slow_counter_0_LOAD_1': ILAProbe(name='ks_demo_i/slow_counter_0_LOAD_1', bit_width=1, is_data=True, is_trigger=True, map='port3[0:0]', mu_count=4),\n",
      "  'ks_demo_i/slow_counter_0_L_1': ILAProbe(name='ks_demo_i/slow_counter_0_L_1', bit_width=32, is_data=True, is_trigger=True, map='port4[31:0]', mu_count=4),\n",
      "  'ks_demo_i/slow_counter_0_Q_1': ILAProbe(name='ks_demo_i/slow_counter_0_Q_1', bit_width=32, is_data=True, is_trigger=True, map='port5[31:0]', mu_count=4),\n",
      "  'ks_demo_i/slow_counter_0_SCLR_1': ILAProbe(name='ks_demo_i/slow_counter_0_SCLR_1', bit_width=1, is_data=True, is_trigger=True, map='port1[0:0]', mu_count=4),\n",
      "  'ks_demo_i/slow_counter_0_UP_1': ILAProbe(name='ks_demo_i/slow_counter_0_UP_1', bit_width=1, is_data=True, is_trigger=True, map='port2[0:0]', mu_count=4)}\n"
     ]
    }
   ],
   "source": [
    "print(\"\\nILA Name:\", my_ila.name)\n",
    "print(\"\\nILA Core Info\", my_ila.core_info)\n",
    "print(\"\\nILA Static Info\", my_ila.static_info)\n",
    "print(\"\\nILA ports:\", pformat(my_ila.ports, 2))\n",
    "print(\"\\nILA probes:\", pformat(my_ila.probes, 2))"
   ]
  },
  {
   "cell_type": "markdown",
   "metadata": {},
   "source": [
    "## Step 7 - Trigger on a probe value\n",
    "\n",
    "This ILA core is connected to a counter on probe 'ks_demo_i/slow_counter_0_Q_1'.\n",
    "Here we will trigger on the hex value equal to 0xXXXX_ABCD'\n",
    "\n",
    "Once the buffer is full of captured data, status['is_full'] == True"
   ]
  },
  {
   "cell_type": "code",
   "execution_count": 19,
   "metadata": {},
   "outputs": [
    {
     "name": "stdout",
     "output_type": "stream",
     "text": [
      "Running trigger on probe 'ks_demo_i/slow_counter_0_Q_1' ...\n"
     ]
    }
   ],
   "source": [
    "print(\"Running trigger on probe 'ks_demo_i/slow_counter_0_Q_1' ...\")"
   ]
  },
  {
   "cell_type": "code",
   "execution_count": 20,
   "metadata": {},
   "outputs": [],
   "source": [
    "# Set probe compare value to hex 0xXXXX_ABCD\n",
    "my_ila.set_probe_trigger_value(\"ks_demo_i/slow_counter_0_Q_1\", [\"==\", \"0xXXXX_ABCD\"])"
   ]
  },
  {
   "cell_type": "code",
   "execution_count": 21,
   "metadata": {},
   "outputs": [],
   "source": [
    "# default values: trigger position in middle of window, trigger condition AND.\n",
    "my_ila.run_basic_trigger(window_count=3, window_size=8, trigger_position=0)"
   ]
  },
  {
   "cell_type": "code",
   "execution_count": 22,
   "metadata": {},
   "outputs": [
    {
     "name": "stdout",
     "output_type": "stream",
     "text": [
      "\n",
      "ILA Status { 'capture_state': <ILAState.IDLE: 0>,\n",
      "  'is_armed': False,\n",
      "  'is_full': True,\n",
      "  'samples_captured': 0,\n",
      "  'samples_requested': 8,\n",
      "  'trigger_position_requested': 0,\n",
      "  'windows_captured': 3,\n",
      "  'windows_requested': 3}\n"
     ]
    }
   ],
   "source": [
    "my_ila.refresh_status()\n",
    "print(\"\\nILA Status\", my_ila.status)"
   ]
  },
  {
   "cell_type": "markdown",
   "metadata": {},
   "source": [
    "## Step 8 - Upload captured waveform\n",
    "Wait at most half a minutes, for ILA to trigger and capture data."
   ]
  },
  {
   "cell_type": "code",
   "execution_count": 23,
   "metadata": {},
   "outputs": [],
   "source": [
    "my_ila.monitor_status(max_wait_minutes=0.5)\n",
    "my_ila.upload()\n",
    "if not my_ila.waveform:\n",
    "    print(\"\\nUpload failed!\")"
   ]
  },
  {
   "cell_type": "markdown",
   "metadata": {},
   "source": [
    "### Print out probe 'ks_demo_i/slow_counter_0_Q_1' data, in CSV format.\n",
    "\n",
    "Below is a snippet that gets values for probe 'ks_demo_i/slow_counter_0_Q_1' in a list.\n",
    "The list contains namedtuples for each probe 'ks_demo_i/slow_counter_0_Q_1' sample captured."
   ]
  },
  {
   "cell_type": "code",
   "execution_count": 24,
   "metadata": {
    "lines_to_next_cell": 2,
    "pycharm": {
     "name": "#%%\n"
    }
   },
   "outputs": [
    {
     "name": "stdout",
     "output_type": "stream",
     "text": [
      "\n",
      "Dump signal ks_demo_i/slow_counter_0_Q_1 waveform to stdout in CSV format:\n",
      "\n",
      "Sample in Buffer,Sample in Window,TRIGGER,ks_demo_i/slow_counter_0_Q_1\n",
      "Radix - UNSIGNED,UNSIGNED,UNSIGNED,HEX\n",
      "0,0,1,221DABCD\n",
      "1,1,0,221DABCE\n",
      "2,2,0,221DABCF\n",
      "3,3,0,221DABD0\n",
      "4,4,0,221DABD1\n",
      "5,5,0,221DABD2\n",
      "6,6,0,221DABD3\n",
      "7,7,0,221DABD4\n",
      "8,0,1,221EABCD\n",
      "9,1,0,221EABCE\n",
      "10,2,0,221EABCF\n",
      "11,3,0,221EABD0\n",
      "12,4,0,221EABD1\n",
      "13,5,0,221EABD2\n",
      "14,6,0,221EABD3\n",
      "15,7,0,221EABD4\n",
      "16,0,1,221FABCD\n",
      "17,1,0,221FABCE\n",
      "18,2,0,221FABCF\n",
      "19,3,0,221FABD0\n",
      "20,4,0,221FABD1\n",
      "21,5,0,221FABD2\n",
      "22,6,0,221FABD3\n",
      "23,7,0,221FABD4\n"
     ]
    }
   ],
   "source": [
    "print(\"\\nDump signal ks_demo_i/slow_counter_0_Q_1 waveform to stdout in CSV format:\\n\")\n",
    "export_waveform(my_ila.waveform, export_format=\"CSV\", probe_names=[\"ks_demo_i/slow_counter_0_Q_1\"])"
   ]
  },
  {
   "cell_type": "markdown",
   "metadata": {},
   "source": [
    "### Get samples for probe 'ks_demo_i/slow_counter_0_Q_1'. Dump in decimal and hex.\n",
    "\n",
    "The waveform data is put into a sorted dict.\n",
    "First 4 entries in sorting order are: trigger, sample index, window index, window sample index.\n",
    "The comes probe values. In this case only the requested probe 'ks_demo_i/slow_counter_0_Q_1'."
   ]
  },
  {
   "cell_type": "code",
   "execution_count": 25,
   "metadata": {
    "lines_to_next_cell": 2
   },
   "outputs": [
    {
     "name": "stdout",
     "output_type": "stream",
     "text": [
      "\n",
      "Get ILA captured values for ks_demo_i/slow_counter_0_Q_1, dump in decimal and hex.\n",
      "Window:0  Window Sample:0   572369869  0x221DABCD <-- Trigger\n",
      "Window:0  Window Sample:1   572369870  0x221DABCE \n",
      "Window:0  Window Sample:2   572369871  0x221DABCF \n",
      "Window:0  Window Sample:3   572369872  0x221DABD0 \n",
      "Window:0  Window Sample:4   572369873  0x221DABD1 \n",
      "Window:0  Window Sample:5   572369874  0x221DABD2 \n",
      "Window:0  Window Sample:6   572369875  0x221DABD3 \n",
      "Window:0  Window Sample:7   572369876  0x221DABD4 \n",
      "Window:1  Window Sample:0   572435405  0x221EABCD <-- Trigger\n",
      "Window:1  Window Sample:1   572435406  0x221EABCE \n",
      "Window:1  Window Sample:2   572435407  0x221EABCF \n",
      "Window:1  Window Sample:3   572435408  0x221EABD0 \n",
      "Window:1  Window Sample:4   572435409  0x221EABD1 \n",
      "Window:1  Window Sample:5   572435410  0x221EABD2 \n",
      "Window:1  Window Sample:6   572435411  0x221EABD3 \n",
      "Window:1  Window Sample:7   572435412  0x221EABD4 \n",
      "Window:2  Window Sample:0   572500941  0x221FABCD <-- Trigger\n",
      "Window:2  Window Sample:1   572500942  0x221FABCE \n",
      "Window:2  Window Sample:2   572500943  0x221FABCF \n",
      "Window:2  Window Sample:3   572500944  0x221FABD0 \n",
      "Window:2  Window Sample:4   572500945  0x221FABD1 \n",
      "Window:2  Window Sample:5   572500946  0x221FABD2 \n",
      "Window:2  Window Sample:6   572500947  0x221FABD3 \n",
      "Window:2  Window Sample:7   572500948  0x221FABD4 \n"
     ]
    }
   ],
   "source": [
    "print(\"\\nGet ILA captured values for ks_demo_i/slow_counter_0_Q_1, dump in decimal and hex.\")\n",
    "samples = get_waveform_data(\n",
    "    my_ila.waveform,\n",
    "    [\"ks_demo_i/slow_counter_0_Q_1\"],\n",
    "    include_trigger=True,\n",
    "    include_sample_info=True,\n",
    ")\n",
    "for trigger, sample_index, window_index, window_sample_index, value in zip(*samples.values()):\n",
    "    trigger = \"<-- Trigger\" if trigger else \"\"\n",
    "    print(\n",
    "        f\"Window:{window_index}  Window Sample:{window_sample_index}  {value:10}  0x{value:08X} {trigger}\"\n",
    "    )"
   ]
  },
  {
   "cell_type": "markdown",
   "metadata": {
    "pycharm": {
     "name": "#%% md\n"
    }
   },
   "source": [
    "### Print mean and median for probe 'ks_demo_i/slow_counter_0_Q_1' values."
   ]
  },
  {
   "cell_type": "code",
   "execution_count": 26,
   "metadata": {},
   "outputs": [
    {
     "name": "stdout",
     "output_type": "stream",
     "text": [
      "\n",
      "Mean Value: 572435408.5\n"
     ]
    }
   ],
   "source": [
    "mean_value = mean(samples[\"ks_demo_i/slow_counter_0_Q_1\"])\n",
    "print(f\"\\nMean Value: {mean_value}\")"
   ]
  },
  {
   "cell_type": "code",
   "execution_count": 27,
   "metadata": {
    "pycharm": {
     "name": "#%%\n"
    }
   },
   "outputs": [
    {
     "name": "stdout",
     "output_type": "stream",
     "text": [
      "Median Value: 572435408.5\n"
     ]
    }
   ],
   "source": [
    "values = get_waveform_probe_data(my_ila.waveform, \"ks_demo_i/slow_counter_0_Q_1\")\n",
    "median_value = median(values)\n",
    "print(f\"Median Value: {median_value}\")"
   ]
  },
  {
   "cell_type": "code",
   "execution_count": null,
   "metadata": {},
   "outputs": [],
   "source": []
  }
 ],
 "metadata": {
  "jupytext": {
   "cell_metadata_filter": "-all",
   "formats": "examples///ipynb,examples///py:percent",
   "main_language": "python",
   "notebook_metadata_filter": "-all"
  },
  "kernelspec": {
   "display_name": "Python 3",
   "language": "python",
   "name": "python3"
  },
  "language_info": {
   "codemirror_mode": {
    "name": "ipython",
    "version": 3
   },
   "file_extension": ".py",
   "mimetype": "text/x-python",
   "name": "python",
   "nbconvert_exporter": "python",
   "pygments_lexer": "ipython3",
   "version": "3.8.8"
  }
 },
 "nbformat": 4,
 "nbformat_minor": 2
}
