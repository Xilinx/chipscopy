{
 "cells": [
  {
   "cell_type": "code",
   "execution_count": 1,
   "id": "0e57108a",
   "metadata": {
    "execution": {
     "iopub.execute_input": "2023-10-20T19:03:29.019433Z",
     "iopub.status.busy": "2023-10-20T19:03:29.018249Z",
     "iopub.status.idle": "2023-10-20T19:03:29.024055Z",
     "shell.execute_reply": "2023-10-20T19:03:29.023238Z"
    },
    "papermill": {
     "duration": 0.016804,
     "end_time": "2023-10-20T19:03:29.025439",
     "exception": false,
     "start_time": "2023-10-20T19:03:29.008635",
     "status": "completed"
    },
    "tags": []
   },
   "outputs": [],
   "source": [
    "# Copyright (C) 2022, Xilinx, Inc.\n",
    "# Copyright (C) 2022-2023, Advanced Micro Devices, Inc.\n",
    "#\n",
    "# Licensed under the Apache License, Version 2.0 (the \"License\");\n",
    "# you may not use this file except in compliance with the License.\n",
    "# You may obtain a copy of the License at\n",
    "#\n",
    "#     http://www.apache.org/licenses/LICENSE-2.0\n",
    "#\n",
    "# Unless required by applicable law or agreed to in writing, software\n",
    "# distributed under the License is distributed on an \"AS IS\" BASIS,\n",
    "# WITHOUT WARRANTIES OR CONDITIONS OF ANY KIND, either express or implied.\n",
    "# See the License for the specific language governing permissions and\n",
    "# limitations under the License."
   ]
  },
  {
   "cell_type": "markdown",
   "id": "6c3d50fb",
   "metadata": {
    "papermill": {
     "duration": 0.007909,
     "end_time": "2023-10-20T19:03:29.040158",
     "exception": false,
     "start_time": "2023-10-20T19:03:29.032249",
     "status": "completed"
    },
    "tags": []
   },
   "source": [
    "ILA Advanced Trigger Example\n",
    "========================="
   ]
  },
  {
   "cell_type": "markdown",
   "id": "1d2a5807",
   "metadata": {
    "papermill": {
     "duration": 0.006304,
     "end_time": "2023-10-20T19:03:29.052913",
     "exception": false,
     "start_time": "2023-10-20T19:03:29.046609",
     "status": "completed"
    },
    "tags": []
   },
   "source": [
    "Description\n",
    "-----------\n",
    "This demo shows how to use the ILA Advanced Trigger Mode.\n",
    "In this mode, the trigger setup is described in text using the ILA Trigger State Machine (TSM) language.\n",
    "See UG908 Vivado Design User Guide: Programming and Debugging, Appendix B \"Trigger State Machine Language Description\". \n",
    "\n",
    "\n",
    "Requirements\n",
    "------------\n",
    "The following is required to run this demo:\n",
    "1. Local or remote access to a Versal device\n",
    "2. 2023.2 cs_server and hw_server applications\n",
    "3. Python 3.8 environment\n",
    "4. A clone of the chipscopy git enterprise repository:\n",
    "   - https://gitenterprise.xilinx.com/chipscope/chipscopy\n",
    "\n",
    "---"
   ]
  },
  {
   "cell_type": "markdown",
   "id": "73aa520f",
   "metadata": {
    "papermill": {
     "duration": 0.006509,
     "end_time": "2023-10-20T19:03:29.065833",
     "exception": false,
     "start_time": "2023-10-20T19:03:29.059324",
     "status": "completed"
    },
    "tags": []
   },
   "source": [
    "## Step 1 - Set up environment"
   ]
  },
  {
   "cell_type": "code",
   "execution_count": 2,
   "id": "4f23a830",
   "metadata": {
    "execution": {
     "iopub.execute_input": "2023-10-20T19:03:29.084686Z",
     "iopub.status.busy": "2023-10-20T19:03:29.084367Z",
     "iopub.status.idle": "2023-10-20T19:03:29.329360Z",
     "shell.execute_reply": "2023-10-20T19:03:29.328329Z"
    },
    "papermill": {
     "duration": 0.259495,
     "end_time": "2023-10-20T19:03:29.331786",
     "exception": false,
     "start_time": "2023-10-20T19:03:29.072291",
     "status": "completed"
    },
    "tags": []
   },
   "outputs": [],
   "source": [
    "import os\n",
    "from enum import Enum\n",
    "import chipscopy\n",
    "from chipscopy import create_session, get_design_files, null_callback, report_versions\n",
    "from chipscopy.api.ila import ILAStatus, ILAWaveform\n",
    "from io import StringIO\n",
    "from pprint import pformat"
   ]
  },
  {
   "cell_type": "code",
   "execution_count": 3,
   "id": "b2b68657",
   "metadata": {
    "execution": {
     "iopub.execute_input": "2023-10-20T19:03:29.347166Z",
     "iopub.status.busy": "2023-10-20T19:03:29.346953Z",
     "iopub.status.idle": "2023-10-20T19:03:29.352025Z",
     "shell.execute_reply": "2023-10-20T19:03:29.351281Z"
    },
    "papermill": {
     "duration": 0.014253,
     "end_time": "2023-10-20T19:03:29.353389",
     "exception": false,
     "start_time": "2023-10-20T19:03:29.339136",
     "status": "completed"
    },
    "tags": []
   },
   "outputs": [],
   "source": [
    "# Specify locations of the running hw_server and cs_server below.\n",
    "CS_URL = os.getenv(\"CS_SERVER_URL\", \"TCP:localhost:3042\")\n",
    "HW_URL = os.getenv(\"HW_SERVER_URL\", \"TCP:localhost:3121\")\n",
    "\n",
    "# specify hw and if programming is desired\n",
    "HW_PLATFORM = os.getenv(\"HW_PLATFORM\", \"vck190\")\n",
    "PROG_DEVICE = os.getenv(\"PROG_DEVICE\", 'True').lower() in ('true', '1', 't')"
   ]
  },
  {
   "cell_type": "code",
   "execution_count": 4,
   "id": "0fe2f208",
   "metadata": {
    "execution": {
     "iopub.execute_input": "2023-10-20T19:03:29.367610Z",
     "iopub.status.busy": "2023-10-20T19:03:29.367398Z",
     "iopub.status.idle": "2023-10-20T19:03:29.373936Z",
     "shell.execute_reply": "2023-10-20T19:03:29.373172Z"
    },
    "papermill": {
     "duration": 0.015293,
     "end_time": "2023-10-20T19:03:29.375335",
     "exception": false,
     "start_time": "2023-10-20T19:03:29.360042",
     "status": "completed"
    },
    "tags": []
   },
   "outputs": [],
   "source": [
    "design_files = get_design_files(f\"{HW_PLATFORM}/production/chipscopy_ced\")\n",
    "PROGRAMMING_FILE = design_files.programming_file\n",
    "PROBES_FILE = design_files.probes_file\n",
    "assert os.path.isfile(PROGRAMMING_FILE)\n",
    "assert os.path.isfile(PROBES_FILE)"
   ]
  },
  {
   "cell_type": "code",
   "execution_count": 5,
   "id": "03e7addf",
   "metadata": {
    "execution": {
     "iopub.execute_input": "2023-10-20T19:03:29.390072Z",
     "iopub.status.busy": "2023-10-20T19:03:29.389298Z",
     "iopub.status.idle": "2023-10-20T19:03:29.394015Z",
     "shell.execute_reply": "2023-10-20T19:03:29.393224Z"
    },
    "papermill": {
     "duration": 0.013577,
     "end_time": "2023-10-20T19:03:29.395495",
     "exception": false,
     "start_time": "2023-10-20T19:03:29.381918",
     "status": "completed"
    },
    "tags": []
   },
   "outputs": [
    {
     "name": "stdout",
     "output_type": "stream",
     "text": [
      "HW_URL=TCP:localhost:3121\n",
      "CS_URL=TCP:localhost:3042\n",
      "PDI=/wrk/xcohdnobkup3/dkopelov/chipscopy/chipscopy/examples/designs/vck190/production/chipscopy_ced/chipscopy_wrapper.pdi\n",
      "LTX=/wrk/xcohdnobkup3/dkopelov/chipscopy/chipscopy/examples/designs/vck190/production/chipscopy_ced/chipscopy_wrapper.ltx\n"
     ]
    }
   ],
   "source": [
    "print(f\"HW_URL={HW_URL}\")\n",
    "print(f\"CS_URL={CS_URL}\")\n",
    "print(f\"PDI={PROGRAMMING_FILE}\")\n",
    "print(f\"LTX={PROBES_FILE}\")"
   ]
  },
  {
   "cell_type": "markdown",
   "id": "7dfd328f",
   "metadata": {
    "papermill": {
     "duration": 0.007789,
     "end_time": "2023-10-20T19:03:29.411408",
     "exception": false,
     "start_time": "2023-10-20T19:03:29.403619",
     "status": "completed"
    },
    "tags": []
   },
   "source": [
    "## Step 2 - Create a session and connect to the server(s)\n",
    "Here we create a new session and print out some versioning information for diagnostic purposes.\n",
    "The session is a container that keeps track of devices and debug cores."
   ]
  },
  {
   "cell_type": "code",
   "execution_count": 6,
   "id": "13047152",
   "metadata": {
    "execution": {
     "iopub.execute_input": "2023-10-20T19:03:29.429988Z",
     "iopub.status.busy": "2023-10-20T19:03:29.429086Z",
     "iopub.status.idle": "2023-10-20T19:03:30.827126Z",
     "shell.execute_reply": "2023-10-20T19:03:30.826198Z"
    },
    "papermill": {
     "duration": 1.409897,
     "end_time": "2023-10-20T19:03:30.828597",
     "exception": false,
     "start_time": "2023-10-20T19:03:29.418700",
     "status": "completed"
    },
    "tags": []
   },
   "outputs": [
    {
     "name": "stdout",
     "output_type": "stream",
     "text": [
      "Using chipscopy api version: 2023.2.1693353190\n"
     ]
    },
    {
     "data": {
      "text/html": [
       "<pre style=\"white-space:pre;overflow-x:auto;line-height:normal;font-family:Menlo,'DejaVu Sans Mono',consolas,'Courier New',monospace\">\n",
       "\n",
       "</pre>\n"
      ],
      "text/plain": [
       "<rich.jupyter.JupyterRenderable at 0x7f835c784fa0>"
      ]
     },
     "metadata": {},
     "output_type": "display_data"
    },
    {
     "data": {
      "text/html": [
       "<pre style=\"white-space:pre;overflow-x:auto;line-height:normal;font-family:Menlo,'DejaVu Sans Mono',consolas,'Courier New',monospace\"><span style=\"font-style: italic\">                      ChipScoPy Version Information                      </span>\n",
       "┌────────────────────────────┬──────────────────────────────────────────┐\n",
       "│<span style=\"font-weight: bold\">                     Entity </span>│<span style=\"font-weight: bold\"> Version                                  </span>│\n",
       "├────────────────────────────┼──────────────────────────────────────────┤\n",
       "│                  ChipScoPy │ ┌───────────┬──────────────────────┐     │\n",
       "│                            │ │<span style=\"font-weight: bold\"> Attribute </span>│<span style=\"font-weight: bold\"> Value                </span>│     │\n",
       "│                            │ ├───────────┼──────────────────────┤     │\n",
       "│                            │ │     Build │ 2023.2.1693353190    │     │\n",
       "│                            │ │ Timestamp │ Aug 29 2023-17:53:10 │     │\n",
       "│                            │ └───────────┴──────────────────────┘     │\n",
       "│                            │                                          │\n",
       "│ hw_server @ localhost:3121 │ ┌───────────┬──────────────────────────┐ │\n",
       "│                            │ │<span style=\"font-weight: bold\"> Attribute </span>│<span style=\"font-weight: bold\"> Value                    </span>│ │\n",
       "│                            │ ├───────────┼──────────────────────────┤ │\n",
       "│                            │ │    Status │ Connected                │ │\n",
       "│                            │ │     Build │ 1683493450               │ │\n",
       "│                            │ │   Version │ 2023.1                   │ │\n",
       "│                            │ │ Timestamp │ Sun May  7 15:04:10 2023 │ │\n",
       "│                            │ └───────────┴──────────────────────────┘ │\n",
       "│                            │                                          │\n",
       "│ cs_server @ localhost:3042 │ ┌───────────────┬──────────────────────┐ │\n",
       "│                            │ │<span style=\"font-weight: bold\">     Attribute </span>│<span style=\"font-weight: bold\"> Value                </span>│ │\n",
       "│                            │ ├───────────────┼──────────────────────┤ │\n",
       "│                            │ │        Status │ Connected            │ │\n",
       "│                            │ │         Build │ 1696910516           │ │\n",
       "│                            │ │       Version │ 2023.2.0             │ │\n",
       "│                            │ │     Timestamp │ Oct 09 2023-22:01:56 │ │\n",
       "│                            │ │       Package │ 2023.2.1696910516    │ │\n",
       "│                            │ │ Artifact type │ pyinstaller          │ │\n",
       "│                            │ └───────────────┴──────────────────────┘ │\n",
       "└────────────────────────────┴──────────────────────────────────────────┘\n",
       "</pre>\n"
      ],
      "text/plain": [
       "<rich.jupyter.JupyterRenderable at 0x7f835c784610>"
      ]
     },
     "metadata": {},
     "output_type": "display_data"
    },
    {
     "data": {
      "text/html": [
       "<pre style=\"white-space:pre;overflow-x:auto;line-height:normal;font-family:Menlo,'DejaVu Sans Mono',consolas,'Courier New',monospace\">\n",
       "\n",
       "</pre>\n"
      ],
      "text/plain": [
       "<rich.jupyter.JupyterRenderable at 0x7f835c784fa0>"
      ]
     },
     "metadata": {},
     "output_type": "display_data"
    }
   ],
   "source": [
    "print(f\"Using chipscopy api version: {chipscopy.__version__}\")\n",
    "session = create_session(cs_server_url=CS_URL, hw_server_url=HW_URL)\n",
    "report_versions(session)"
   ]
  },
  {
   "cell_type": "markdown",
   "id": "11bdbe6f",
   "metadata": {
    "papermill": {
     "duration": 0.007176,
     "end_time": "2023-10-20T19:03:30.844104",
     "exception": false,
     "start_time": "2023-10-20T19:03:30.836928",
     "status": "completed"
    },
    "tags": []
   },
   "source": [
    "## Step 3 - Get our device from the session"
   ]
  },
  {
   "cell_type": "code",
   "execution_count": 7,
   "id": "2968f776",
   "metadata": {
    "execution": {
     "iopub.execute_input": "2023-10-20T19:03:30.860248Z",
     "iopub.status.busy": "2023-10-20T19:03:30.859992Z",
     "iopub.status.idle": "2023-10-20T19:03:30.865585Z",
     "shell.execute_reply": "2023-10-20T19:03:30.864820Z"
    },
    "papermill": {
     "duration": 0.015278,
     "end_time": "2023-10-20T19:03:30.866876",
     "exception": false,
     "start_time": "2023-10-20T19:03:30.851598",
     "status": "completed"
    },
    "tags": []
   },
   "outputs": [
    {
     "name": "stdout",
     "output_type": "stream",
     "text": [
      "Device count: 1\n"
     ]
    }
   ],
   "source": [
    "# Use the first available device and setup its debug cores\n",
    "if len(session.devices) == 0:\n",
    "    raise ValueError(\"No devices detected\")\n",
    "print(f\"Device count: {len(session.devices)}\")\n",
    "versal_device = session.devices.get(family=\"versal\")"
   ]
  },
  {
   "cell_type": "markdown",
   "id": "1e02cda8",
   "metadata": {
    "papermill": {
     "duration": 0.007826,
     "end_time": "2023-10-20T19:03:30.882159",
     "exception": false,
     "start_time": "2023-10-20T19:03:30.874333",
     "status": "completed"
    },
    "tags": []
   },
   "source": [
    "## Step 4 - Program the device with our example programming file"
   ]
  },
  {
   "cell_type": "code",
   "execution_count": 8,
   "id": "dbca19c3",
   "metadata": {
    "execution": {
     "iopub.execute_input": "2023-10-20T19:03:30.899208Z",
     "iopub.status.busy": "2023-10-20T19:03:30.898978Z",
     "iopub.status.idle": "2023-10-20T19:03:37.982455Z",
     "shell.execute_reply": "2023-10-20T19:03:37.981473Z"
    },
    "papermill": {
     "duration": 7.094273,
     "end_time": "2023-10-20T19:03:37.984480",
     "exception": false,
     "start_time": "2023-10-20T19:03:30.890207",
     "status": "completed"
    },
    "tags": []
   },
   "outputs": [
    {
     "name": "stdout",
     "output_type": "stream",
     "text": [
      "Programming /wrk/xcohdnobkup3/dkopelov/chipscopy/chipscopy/examples/designs/vck190/production/chipscopy_ced/chipscopy_wrapper.pdi...\n"
     ]
    },
    {
     "data": {
      "text/html": [
       "<pre style=\"white-space:pre;overflow-x:auto;line-height:normal;font-family:Menlo,'DejaVu Sans Mono',consolas,'Courier New',monospace\">\n",
       "<span style=\"font-weight: bold\">--&gt; INFO: </span>Programming device with: /wrk/xcohdnobkup3/dkopelov/chipscopy/chipscopy/examples/de\n",
       "signs/vck190/production/chipscopy_ced/chipscopy_wrapper.pdi\n",
       "    \n",
       "</pre>\n"
      ],
      "text/plain": [
       "<rich.jupyter.JupyterRenderable at 0x7f835c784af0>"
      ]
     },
     "metadata": {},
     "output_type": "display_data"
    },
    {
     "name": "stderr",
     "output_type": "stream",
     "text": [
      "/wrk/xcohdnobkup3/dkopelov/chipscopy/chipscopy-venv-py38/lib/python3.8/site-packages/rich/live.py:216: UserWarning: install \"ipywidgets\" for Jupyter support\n",
      "  warnings.warn('install \"ipywidgets\" for Jupyter support')\n"
     ]
    }
   ],
   "source": [
    "print(f\"Programming {PROGRAMMING_FILE}...\")\n",
    "if PROG_DEVICE:\n",
    "    versal_device.program(PROGRAMMING_FILE)\n",
    "else:\n",
    "    print(\"skipping programming\")"
   ]
  },
  {
   "cell_type": "markdown",
   "id": "0296437b",
   "metadata": {
    "papermill": {
     "duration": 0.007823,
     "end_time": "2023-10-20T19:03:38.001272",
     "exception": false,
     "start_time": "2023-10-20T19:03:37.993449",
     "status": "completed"
    },
    "tags": []
   },
   "source": [
    "## Step 5 - Detect Debug Cores"
   ]
  },
  {
   "cell_type": "code",
   "execution_count": 9,
   "id": "4a64cddf",
   "metadata": {
    "execution": {
     "iopub.execute_input": "2023-10-20T19:03:38.017431Z",
     "iopub.status.busy": "2023-10-20T19:03:38.017188Z",
     "iopub.status.idle": "2023-10-20T19:03:38.098059Z",
     "shell.execute_reply": "2023-10-20T19:03:38.096665Z"
    },
    "papermill": {
     "duration": 0.091223,
     "end_time": "2023-10-20T19:03:38.099922",
     "exception": false,
     "start_time": "2023-10-20T19:03:38.008699",
     "status": "completed"
    },
    "tags": []
   },
   "outputs": [
    {
     "name": "stdout",
     "output_type": "stream",
     "text": [
      "Discovering debug cores...\n"
     ]
    }
   ],
   "source": [
    "print(f\"Discovering debug cores...\")\n",
    "versal_device.discover_and_setup_cores(ltx_file=PROBES_FILE)"
   ]
  },
  {
   "cell_type": "code",
   "execution_count": 10,
   "id": "8403cfb1",
   "metadata": {
    "execution": {
     "iopub.execute_input": "2023-10-20T19:03:38.119398Z",
     "iopub.status.busy": "2023-10-20T19:03:38.118571Z",
     "iopub.status.idle": "2023-10-20T19:03:39.714431Z",
     "shell.execute_reply": "2023-10-20T19:03:39.713546Z"
    },
    "papermill": {
     "duration": 1.60711,
     "end_time": "2023-10-20T19:03:39.716124",
     "exception": false,
     "start_time": "2023-10-20T19:03:38.109014",
     "status": "completed"
    },
    "tags": []
   },
   "outputs": [
    {
     "name": "stdout",
     "output_type": "stream",
     "text": [
      "\n",
      "Found 3 ILA cores in design\n"
     ]
    }
   ],
   "source": [
    "ila_count = len(versal_device.ila_cores)\n",
    "print(f\"\\nFound {ila_count} ILA cores in design\")"
   ]
  },
  {
   "cell_type": "code",
   "execution_count": 11,
   "id": "7d75fc2f",
   "metadata": {
    "execution": {
     "iopub.execute_input": "2023-10-20T19:03:39.775465Z",
     "iopub.status.busy": "2023-10-20T19:03:39.775228Z",
     "iopub.status.idle": "2023-10-20T19:03:39.779180Z",
     "shell.execute_reply": "2023-10-20T19:03:39.778524Z"
    },
    "papermill": {
     "duration": 0.014128,
     "end_time": "2023-10-20T19:03:39.780735",
     "exception": false,
     "start_time": "2023-10-20T19:03:39.766607",
     "status": "completed"
    },
    "tags": []
   },
   "outputs": [],
   "source": [
    "if ila_count == 0:\n",
    "    print(\"No ILA core found! Exiting...\")\n",
    "    raise ValueError(\"No ILA cores detected\")"
   ]
  },
  {
   "cell_type": "code",
   "execution_count": 12,
   "id": "895a7c3e",
   "metadata": {
    "execution": {
     "iopub.execute_input": "2023-10-20T19:03:39.797255Z",
     "iopub.status.busy": "2023-10-20T19:03:39.797055Z",
     "iopub.status.idle": "2023-10-20T19:03:39.809639Z",
     "shell.execute_reply": "2023-10-20T19:03:39.808474Z"
    },
    "papermill": {
     "duration": 0.022624,
     "end_time": "2023-10-20T19:03:39.811343",
     "exception": false,
     "start_time": "2023-10-20T19:03:39.788719",
     "status": "completed"
    },
    "tags": []
   },
   "outputs": [
    {
     "name": "stdout",
     "output_type": "stream",
     "text": [
      "    ILA Core #0: NAME=chipscopy_i/counters/ila_fast_counter_0, UUID=D62FB110F1A25D439EB15D9149F450CE\n",
      "    ILA Core #1: NAME=chipscopy_i/counters/ila_slow_counter_0, UUID=9125D1429AD25223AECDD656C2856755\n",
      "    ILA Core #2: NAME=chipscopy_i/noc_tg_bc/noc_bc_axis_ila_0, UUID=C53C0D3572B655B6A8A13A86686D262D\n"
     ]
    }
   ],
   "source": [
    "# List all detected ILA Cores\n",
    "ila_cores = versal_device.ila_cores\n",
    "for index, ila_core in enumerate(ila_cores):\n",
    "    print(f\"    ILA Core #{index}: NAME={ila_core.name}, UUID={ila_core.core_info.uuid}\")"
   ]
  },
  {
   "cell_type": "code",
   "execution_count": 13,
   "id": "b0c94fd8",
   "metadata": {
    "execution": {
     "iopub.execute_input": "2023-10-20T19:03:39.833250Z",
     "iopub.status.busy": "2023-10-20T19:03:39.832801Z",
     "iopub.status.idle": "2023-10-20T19:03:39.838573Z",
     "shell.execute_reply": "2023-10-20T19:03:39.837865Z"
    },
    "papermill": {
     "duration": 0.017179,
     "end_time": "2023-10-20T19:03:39.839876",
     "exception": false,
     "start_time": "2023-10-20T19:03:39.822697",
     "status": "completed"
    },
    "tags": []
   },
   "outputs": [
    {
     "name": "stdout",
     "output_type": "stream",
     "text": [
      "USING ILA: chipscopy_i/counters/ila_slow_counter_0\n"
     ]
    }
   ],
   "source": [
    "# Get the ILA cores matching a given name. filter_by returns a list, even if just one item is present.\n",
    "my_ila = versal_device.ila_cores.filter_by(name=\"chipscopy_i/counters/ila_slow_counter_0\")[0]\n",
    "\n",
    "print(f\"USING ILA: {my_ila.name}\")"
   ]
  },
  {
   "cell_type": "markdown",
   "id": "863f6d60",
   "metadata": {
    "papermill": {
     "duration": 0.011462,
     "end_time": "2023-10-20T19:03:39.859842",
     "exception": false,
     "start_time": "2023-10-20T19:03:39.848380",
     "status": "completed"
    },
    "tags": []
   },
   "source": [
    "## Step 6 - Get Information for this ILA Core\n",
    "Note:\n",
    "- 'has_advanced_trigger' is True. This ILA supports the advanced trigger feature.\n",
    "- 'tsm_counter_widths' shows 4 counters of bit width 16."
   ]
  },
  {
   "cell_type": "code",
   "execution_count": 14,
   "id": "e8bad3fa",
   "metadata": {
    "execution": {
     "iopub.execute_input": "2023-10-20T19:03:39.879269Z",
     "iopub.status.busy": "2023-10-20T19:03:39.878674Z",
     "iopub.status.idle": "2023-10-20T19:03:40.155322Z",
     "shell.execute_reply": "2023-10-20T19:03:40.154174Z"
    },
    "lines_to_next_cell": 2,
    "papermill": {
     "duration": 0.287913,
     "end_time": "2023-10-20T19:03:40.156891",
     "exception": false,
     "start_time": "2023-10-20T19:03:39.868978",
     "status": "completed"
    },
    "tags": []
   },
   "outputs": [
    {
     "name": "stdout",
     "output_type": "stream",
     "text": [
      "\n",
      "ILA Name: chipscopy_i/counters/ila_slow_counter_0\n",
      "\n",
      "ILA Core Info { 'core_major_ver': 1,\n",
      "  'core_minor_ver': 0,\n",
      "  'core_type': 1,\n",
      "  'drv_ver': 8,\n",
      "  'tool_major_ver': 19,\n",
      "  'tool_minor_ver': 1,\n",
      "  'uuid': '9125D1429AD25223AECDD656C2856755'}\n"
     ]
    },
    {
     "name": "stdout",
     "output_type": "stream",
     "text": [
      "\n",
      "ILA Static Info { 'data_depth': 4096,\n",
      "  'data_width': 105,\n",
      "  'has_advanced_trigger': True,\n",
      "  'has_capture_control': True,\n",
      "  'has_trig_in': True,\n",
      "  'has_trig_out': True,\n",
      "  'match_unit_count': 52,\n",
      "  'port_count': 13,\n",
      "  'tsm_counter_widths': [16, 16, 16, 16]}\n"
     ]
    }
   ],
   "source": [
    "print(\"\\nILA Name:\", my_ila.name)\n",
    "print(\"\\nILA Core Info\", my_ila.core_info)\n",
    "print(\"\\nILA Static Info\", my_ila.static_info)"
   ]
  },
  {
   "cell_type": "markdown",
   "id": "72fbd083",
   "metadata": {
    "papermill": {
     "duration": 0.008245,
     "end_time": "2023-10-20T19:03:40.174537",
     "exception": false,
     "start_time": "2023-10-20T19:03:40.166292",
     "status": "completed"
    },
    "tags": []
   },
   "source": [
    "## Step 7 -  Trigger Immediately using Advanced Trigger Mode\n",
    "\n",
    "Trigger State Machine trigger descriptions may be in a text file, or in a io.StringIO object.\n",
    "Some of the ILA status information applies only to Advanced Trigger Mode:\n",
    "- tsm_counters\n",
    "- tsm_flags\n",
    "- tsm_state\n",
    "- tsm_state_name"
   ]
  },
  {
   "cell_type": "code",
   "execution_count": 15,
   "id": "5830cb43",
   "metadata": {
    "execution": {
     "iopub.execute_input": "2023-10-20T19:03:40.199005Z",
     "iopub.status.busy": "2023-10-20T19:03:40.197751Z",
     "iopub.status.idle": "2023-10-20T19:03:41.277168Z",
     "shell.execute_reply": "2023-10-20T19:03:41.276004Z"
    },
    "papermill": {
     "duration": 1.095997,
     "end_time": "2023-10-20T19:03:41.279295",
     "exception": false,
     "start_time": "2023-10-20T19:03:40.183298",
     "status": "completed"
    },
    "tags": []
   },
   "outputs": [
    {
     "name": "stdout",
     "output_type": "stream",
     "text": [
      "\n",
      "ILA Status:\n",
      "\n",
      "Trigger State Machine counter values:       [0, 0, 0, 0]\n",
      "Trigger State Machine flags:                [False, False, False, False]\n",
      "Trigger State Machine current state index:  0\n",
      "Trigger State Machine current state name :  my_state0\n"
     ]
    }
   ],
   "source": [
    "TRIGGER_NOW_TSM = StringIO(\n",
    "\"\"\"\n",
    "    state my_state0:\n",
    "        trigger;\n",
    "\"\"\"\n",
    ")\n",
    "\n",
    "# Note, if the TSM text is in a file, you can give the file path string as the first argument.\n",
    "my_ila.run_advanced_trigger(TRIGGER_NOW_TSM, trigger_position=0, window_count=1, window_size=8)\n",
    "\n",
    "\n",
    "my_ila.refresh_status()\n",
    "print(\"\\nILA Status:\\n\")\n",
    "print(\"Trigger State Machine counter values:      \", my_ila.status.tsm_counters)\n",
    "print(\"Trigger State Machine flags:               \", my_ila.status.tsm_flags)\n",
    "print(\"Trigger State Machine current state index: \", my_ila.status.tsm_state)\n",
    "print(\"Trigger State Machine current state name : \", my_ila.status.tsm_state_name)"
   ]
  },
  {
   "cell_type": "markdown",
   "id": "8052d57f",
   "metadata": {
    "papermill": {
     "duration": 0.008128,
     "end_time": "2023-10-20T19:03:41.296587",
     "exception": false,
     "start_time": "2023-10-20T19:03:41.288459",
     "status": "completed"
    },
    "tags": []
   },
   "source": [
    "## Step 8 - Upload Captured Waveform\n",
    "Wait at most half a minutes, for ILA to trigger and capture data."
   ]
  },
  {
   "cell_type": "code",
   "execution_count": 16,
   "id": "b7b92709",
   "metadata": {
    "execution": {
     "iopub.execute_input": "2023-10-20T19:03:41.317275Z",
     "iopub.status.busy": "2023-10-20T19:03:41.316579Z",
     "iopub.status.idle": "2023-10-20T19:03:41.508581Z",
     "shell.execute_reply": "2023-10-20T19:03:41.507615Z"
    },
    "papermill": {
     "duration": 0.205094,
     "end_time": "2023-10-20T19:03:41.511046",
     "exception": false,
     "start_time": "2023-10-20T19:03:41.305952",
     "status": "completed"
    },
    "tags": []
   },
   "outputs": [],
   "source": [
    "my_ila.wait_till_done(max_wait_minutes=0.5)\n",
    "my_ila.upload()\n",
    "if not my_ila.waveform:\n",
    "    print(\"\\nUpload failed!\")"
   ]
  },
  {
   "cell_type": "markdown",
   "id": "dad0811f",
   "metadata": {
    "papermill": {
     "duration": 0.008846,
     "end_time": "2023-10-20T19:03:41.530430",
     "exception": false,
     "start_time": "2023-10-20T19:03:41.521584",
     "status": "completed"
    },
    "tags": []
   },
   "source": [
    "## Step 9 - Print samples for probe 'chipscopy_i/counters/slow_counter_0_Q_1'. \n",
    "\n",
    "Using the function ILAWaveform.get_data(), the waveform data is put into a sorted dict.\n",
    "First 4 entries in sorting order are: trigger, sample index, window index, window sample index.\n",
    "Then comes probe values. In this case just one probe."
   ]
  },
  {
   "cell_type": "code",
   "execution_count": 17,
   "id": "ffeb871b",
   "metadata": {
    "execution": {
     "iopub.execute_input": "2023-10-20T19:03:41.550762Z",
     "iopub.status.busy": "2023-10-20T19:03:41.549535Z",
     "iopub.status.idle": "2023-10-20T19:03:41.557680Z",
     "shell.execute_reply": "2023-10-20T19:03:41.556819Z"
    },
    "lines_to_next_cell": 2,
    "papermill": {
     "duration": 0.020029,
     "end_time": "2023-10-20T19:03:41.559070",
     "exception": false,
     "start_time": "2023-10-20T19:03:41.539041",
     "status": "completed"
    },
    "tags": []
   },
   "outputs": [
    {
     "name": "stdout",
     "output_type": "stream",
     "text": [
      "Window:0  Window Sample:0  dec: 326592047  hex:0x1377662F <-- Trigger\n",
      "Window:0  Window Sample:1  dec: 326592048  hex:0x13776630 \n",
      "Window:0  Window Sample:2  dec: 326592049  hex:0x13776631 \n",
      "Window:0  Window Sample:3  dec: 326592050  hex:0x13776632 \n",
      "Window:0  Window Sample:4  dec: 326592051  hex:0x13776633 \n",
      "Window:0  Window Sample:5  dec: 326592052  hex:0x13776634 \n",
      "Window:0  Window Sample:6  dec: 326592053  hex:0x13776635 \n",
      "Window:0  Window Sample:7  dec: 326592054  hex:0x13776636 \n"
     ]
    }
   ],
   "source": [
    "counter_probe_name = 'chipscopy_i/counters/slow_counter_0_Q_1'\n",
    "\n",
    "def print_probe_values(waveform: ILAWaveform, probe_names: [str]):\n",
    "    samples = waveform.get_data(\n",
    "        probe_names,\n",
    "        include_trigger=True,\n",
    "        include_sample_info=True,\n",
    "    )\n",
    "    for trigger, sample_index, window_index, window_sample_index, value in zip(*samples.values()):\n",
    "        trigger = \"<-- Trigger\" if trigger else \"\"\n",
    "        print(\n",
    "            f\"Window:{window_index}  Window Sample:{window_sample_index}  dec:{value:10}  hex:0x{value:08X} {trigger}\"\n",
    "        )\n",
    "\n",
    "print_probe_values(my_ila.waveform, [counter_probe_name])"
   ]
  },
  {
   "cell_type": "markdown",
   "id": "e4794121",
   "metadata": {
    "papermill": {
     "duration": 0.013038,
     "end_time": "2023-10-20T19:03:41.580946",
     "exception": false,
     "start_time": "2023-10-20T19:03:41.567908",
     "status": "completed"
    },
    "tags": []
   },
   "source": [
    "## Step 10 - Check if TSM is Valid\n",
    "- The TSM below has undefined probe names and undefined states.\n",
    "- Use \"compile_only=True\" argument when just checking if the TSM text is valid.\n",
    "- The run_advanced_trigger() function returns a tuple with 2 values: \"error_count\" and \"error_message\"."
   ]
  },
  {
   "cell_type": "code",
   "execution_count": 18,
   "id": "14e26710",
   "metadata": {
    "execution": {
     "iopub.execute_input": "2023-10-20T19:03:41.601328Z",
     "iopub.status.busy": "2023-10-20T19:03:41.600861Z",
     "iopub.status.idle": "2023-10-20T19:03:41.642194Z",
     "shell.execute_reply": "2023-10-20T19:03:41.640870Z"
    },
    "papermill": {
     "duration": 0.054634,
     "end_time": "2023-10-20T19:03:41.644582",
     "exception": false,
     "start_time": "2023-10-20T19:03:41.589948",
     "status": "completed"
    },
    "tags": []
   },
   "outputs": [
    {
     "name": "stdout",
     "output_type": "stream",
     "text": [
      "\n",
      "\n",
      "The Advanced Trigger State machine \"TSM_WITH_ERRORS\" has 6 error(s).\n",
      "\n",
      "[Line 3:10] Undefined probe: \"chipscopy_ex_i/counters/slow_counter_0_Q_1\"\n",
      "[Line 8:13] Unknown state \"state_2\".\n",
      "[Line 11:13] Unknown state \"state_3\".\n",
      "[Line 14:10] Undefined probe: \"chipscopy_i/counters23/slow_counter_0_Q_1\"\n",
      "[Line 18:13] Unknown state \"state_2\".\n",
      "[Line 21:11] Unknown state \"state_3\".\n",
      "\n"
     ]
    }
   ],
   "source": [
    "TSM_WITH_ERRORS = StringIO(\n",
    "    \"\"\"\n",
    "    state state_a:\n",
    "      if (chipscopy_ex_i/counters/slow_counter_0_Q_1 == 32'hXX33_0000 &&\n",
    "          chipscopy_i/counters/slow_sine_Dout >= 'habcd) then\n",
    "        trigger;\n",
    "      elseif (chipscopy_i/counters/slow_sine_Dout >= 'habcd) then\n",
    "        reset_counter $counter0;\n",
    "        goto state_2;\n",
    "      else\n",
    "        reset_counter $counter1;\n",
    "        goto state_3;\n",
    "      endif\n",
    "    state state_b:\n",
    "      if (chipscopy_i/counters23/slow_counter_0_Q_1 == 32'h3333_0000) then\n",
    "        trigger;\n",
    "      else\n",
    "        reset_counter $counter3;\n",
    "        goto state_2;\n",
    "      endif\n",
    "    state state_c:\n",
    "      goto state_3;\n",
    "    \"\"\"\n",
    ")\n",
    "\n",
    "# Check the TSM text for errors, using \"compile_only=True\n",
    "#\n",
    "error_count, error_message = my_ila.run_advanced_trigger(TSM_WITH_ERRORS, compile_only=True)\n",
    "print(f'\\n\\nThe Advanced Trigger State machine \"TSM_WITH_ERRORS\" has {error_count} error(s).'\n",
    "      f'\\n\\n{error_message}')"
   ]
  },
  {
   "cell_type": "markdown",
   "id": "1cd8b03e",
   "metadata": {
    "papermill": {
     "duration": 0.011172,
     "end_time": "2023-10-20T19:03:41.667342",
     "exception": false,
     "start_time": "2023-10-20T19:03:41.656170",
     "status": "completed"
    },
    "tags": []
   },
   "source": [
    "## Step 11 - Define a Status Progress Monitor Function\n",
    "Monitor TSM specific status, when ILA capture is active."
   ]
  },
  {
   "cell_type": "code",
   "execution_count": 19,
   "id": "d112a366",
   "metadata": {
    "execution": {
     "iopub.execute_input": "2023-10-20T19:03:41.687714Z",
     "iopub.status.busy": "2023-10-20T19:03:41.687023Z",
     "iopub.status.idle": "2023-10-20T19:03:41.692481Z",
     "shell.execute_reply": "2023-10-20T19:03:41.691702Z"
    },
    "papermill": {
     "duration": 0.017478,
     "end_time": "2023-10-20T19:03:41.693979",
     "exception": false,
     "start_time": "2023-10-20T19:03:41.676501",
     "status": "completed"
    },
    "tags": []
   },
   "outputs": [],
   "source": [
    "def status_progress(future):\n",
    "    \"\"\"Called in Event Thread\"\"\"\n",
    "    st = future.progress\n",
    "\n",
    "    if st.is_full:\n",
    "        print(f\"\\nAll data has been captured.\")\n",
    "    else:\n",
    "        print(f\"State: {st.tsm_state_name}   Counters: {st.tsm_counters}    Flags: {st.tsm_flags}\")       "
   ]
  },
  {
   "cell_type": "markdown",
   "id": "608960e8",
   "metadata": {
    "papermill": {
     "duration": 0.009187,
     "end_time": "2023-10-20T19:03:41.712509",
     "exception": false,
     "start_time": "2023-10-20T19:03:41.703322",
     "status": "completed"
    },
    "tags": []
   },
   "source": [
    "## Step 12 - Run Trigger State Machine with Flags and Counters\n",
    "In STATE_A:\n",
    "- Remain in STATE_A until hex value ending with \"33_0000\", has occurred 8 times (counter values 0-7).\n",
    "- Set \\$flag0\n",
    "- Go to state STATE_B\n",
    "\n",
    "In STATE_B:\n",
    "- Count hex value ending with \"AAA_BBBB\" 10 times (counter values 0-9).\n",
    "- Then set \\$flag1 and trigger."
   ]
  },
  {
   "cell_type": "code",
   "execution_count": 20,
   "id": "154a5a64",
   "metadata": {
    "execution": {
     "iopub.execute_input": "2023-10-20T19:03:41.735380Z",
     "iopub.status.busy": "2023-10-20T19:03:41.734316Z",
     "iopub.status.idle": "2023-10-20T19:04:09.655387Z",
     "shell.execute_reply": "2023-10-20T19:04:09.653901Z"
    },
    "papermill": {
     "duration": 27.934827,
     "end_time": "2023-10-20T19:04:09.657248",
     "exception": false,
     "start_time": "2023-10-20T19:03:41.722421",
     "status": "completed"
    },
    "tags": []
   },
   "outputs": [
    {
     "name": "stdout",
     "output_type": "stream",
     "text": [
      "State: STATE_A   Counters: [1, 0, 0, 0]    Flags: [False, False, False, False]\n"
     ]
    },
    {
     "name": "stdout",
     "output_type": "stream",
     "text": [
      "State: STATE_A   Counters: [4, 0, 0, 0]    Flags: [False, False, False, False]\n"
     ]
    },
    {
     "name": "stdout",
     "output_type": "stream",
     "text": [
      "State: STATE_A   Counters: [7, 0, 0, 0]    Flags: [False, False, False, False]\n"
     ]
    },
    {
     "name": "stdout",
     "output_type": "stream",
     "text": [
      "State: STATE_B   Counters: [7, 0, 0, 0]    Flags: [True, False, False, False]\n"
     ]
    },
    {
     "name": "stdout",
     "output_type": "stream",
     "text": [
      "State: STATE_B   Counters: [7, 1, 0, 0]    Flags: [True, False, False, False]\n"
     ]
    },
    {
     "name": "stdout",
     "output_type": "stream",
     "text": [
      "State: STATE_B   Counters: [7, 2, 0, 0]    Flags: [True, False, False, False]\n"
     ]
    },
    {
     "name": "stdout",
     "output_type": "stream",
     "text": [
      "State: STATE_B   Counters: [7, 3, 0, 0]    Flags: [True, False, False, False]\n"
     ]
    },
    {
     "name": "stdout",
     "output_type": "stream",
     "text": [
      "State: STATE_B   Counters: [7, 4, 0, 0]    Flags: [True, False, False, False]\n"
     ]
    },
    {
     "name": "stdout",
     "output_type": "stream",
     "text": [
      "State: STATE_B   Counters: [7, 5, 0, 0]    Flags: [True, False, False, False]\n"
     ]
    },
    {
     "name": "stdout",
     "output_type": "stream",
     "text": [
      "State: STATE_B   Counters: [7, 6, 0, 0]    Flags: [True, False, False, False]\n"
     ]
    },
    {
     "name": "stdout",
     "output_type": "stream",
     "text": [
      "State: STATE_B   Counters: [7, 7, 0, 0]    Flags: [True, False, False, False]\n"
     ]
    },
    {
     "name": "stdout",
     "output_type": "stream",
     "text": [
      "State: STATE_B   Counters: [7, 8, 0, 0]    Flags: [True, False, False, False]\n"
     ]
    },
    {
     "name": "stdout",
     "output_type": "stream",
     "text": [
      "State: STATE_B   Counters: [7, 9, 0, 0]    Flags: [True, False, False, False]\n"
     ]
    },
    {
     "name": "stdout",
     "output_type": "stream",
     "text": [
      "\n",
      "All data has been captured.\n",
      "\n",
      "Counters: [7, 9, 0, 0]    Flags: [True, True, False, False]\n"
     ]
    }
   ],
   "source": [
    "TSM_FLAGS_COUNTERS = StringIO(\n",
    "    f\"\"\"\n",
    "    state STATE_A:\n",
    "        if ( {counter_probe_name} == 32'hxx33_0000 && $counter0 == 'u7) then\n",
    "            set_flag $flag0;\n",
    "            goto STATE_B;\n",
    "        elseif ( {counter_probe_name} == 32'hxx33_0000) then\n",
    "            increment_counter $counter0;\n",
    "            goto STATE_A;\n",
    "        else\n",
    "            goto STATE_A;\n",
    "      endif\n",
    "      \n",
    "    state STATE_B:\n",
    "        if ( {counter_probe_name} == 32'hxAAA_BBBB && $counter1 == 'u9) then\n",
    "            set_flag $flag1;\n",
    "            trigger;\n",
    "        elseif ( {counter_probe_name} == 32'hxAAA_BBBB) then\n",
    "            increment_counter $counter1;\n",
    "            goto STATE_B;\n",
    "        else\n",
    "            goto STATE_B;\n",
    "      endif\n",
    "      \n",
    "\"\"\"\n",
    ")\n",
    "\n",
    "my_ila.run_advanced_trigger(TSM_FLAGS_COUNTERS, window_size=8)\n",
    "\n",
    "future = my_ila.monitor_status(max_wait_minutes=1.0, progress=status_progress, done=chipscopy.null_callback)\n",
    "\n",
    "# future.result is blocking, until monitor_status() function has completed or timed-out or been cancelled.\n",
    "# Meanwhile, the status_progress() function is called twice per second to print out status.\n",
    "status = future.result\n",
    "print(f\"\\nCounters: {status.tsm_counters}    Flags: {status.tsm_flags}\")"
   ]
  },
  {
   "cell_type": "markdown",
   "id": "c4525266",
   "metadata": {
    "papermill": {
     "duration": 0.010999,
     "end_time": "2023-10-20T19:04:09.680263",
     "exception": false,
     "start_time": "2023-10-20T19:04:09.669264",
     "status": "completed"
    },
    "tags": []
   },
   "source": [
    "## Step 13 - Upload Captured Waveform"
   ]
  },
  {
   "cell_type": "code",
   "execution_count": 21,
   "id": "32e7ef66",
   "metadata": {
    "execution": {
     "iopub.execute_input": "2023-10-20T19:04:09.700542Z",
     "iopub.status.busy": "2023-10-20T19:04:09.700257Z",
     "iopub.status.idle": "2023-10-20T19:04:09.863923Z",
     "shell.execute_reply": "2023-10-20T19:04:09.862643Z"
    },
    "papermill": {
     "duration": 0.176589,
     "end_time": "2023-10-20T19:04:09.866302",
     "exception": false,
     "start_time": "2023-10-20T19:04:09.689713",
     "status": "completed"
    },
    "tags": []
   },
   "outputs": [],
   "source": [
    "my_ila.upload()\n",
    "if not my_ila.waveform:\n",
    "    print(\"\\nUpload failed!\")"
   ]
  },
  {
   "cell_type": "markdown",
   "id": "b71d086e",
   "metadata": {
    "papermill": {
     "duration": 0.01213,
     "end_time": "2023-10-20T19:04:09.888797",
     "exception": false,
     "start_time": "2023-10-20T19:04:09.876667",
     "status": "completed"
    },
    "tags": []
   },
   "source": [
    "## Step 14 - Print samples for probe 'chipscopy_i/counters/slow_counter_0_Q_1'. "
   ]
  },
  {
   "cell_type": "code",
   "execution_count": 22,
   "id": "e23c4865",
   "metadata": {
    "execution": {
     "iopub.execute_input": "2023-10-20T19:04:09.912544Z",
     "iopub.status.busy": "2023-10-20T19:04:09.912320Z",
     "iopub.status.idle": "2023-10-20T19:04:09.917252Z",
     "shell.execute_reply": "2023-10-20T19:04:09.916441Z"
    },
    "papermill": {
     "duration": 0.019398,
     "end_time": "2023-10-20T19:04:09.918583",
     "exception": false,
     "start_time": "2023-10-20T19:04:09.899185",
     "status": "completed"
    },
    "tags": []
   },
   "outputs": [
    {
     "name": "stdout",
     "output_type": "stream",
     "text": [
      "Window:0  Window Sample:0  dec:3131751351  hex:0xBAAABBB7 \n",
      "Window:0  Window Sample:1  dec:3131751352  hex:0xBAAABBB8 \n",
      "Window:0  Window Sample:2  dec:3131751353  hex:0xBAAABBB9 \n",
      "Window:0  Window Sample:3  dec:3131751354  hex:0xBAAABBBA \n",
      "Window:0  Window Sample:4  dec:3131751355  hex:0xBAAABBBB <-- Trigger\n",
      "Window:0  Window Sample:5  dec:3131751356  hex:0xBAAABBBC \n",
      "Window:0  Window Sample:6  dec:3131751357  hex:0xBAAABBBD \n",
      "Window:0  Window Sample:7  dec:3131751358  hex:0xBAAABBBE \n"
     ]
    }
   ],
   "source": [
    "print_probe_values(my_ila.waveform, [counter_probe_name])"
   ]
  },
  {
   "cell_type": "code",
   "execution_count": null,
   "id": "f7540911",
   "metadata": {
    "papermill": {
     "duration": 0.009485,
     "end_time": "2023-10-20T19:04:09.939500",
     "exception": false,
     "start_time": "2023-10-20T19:04:09.930015",
     "status": "completed"
    },
    "tags": []
   },
   "outputs": [],
   "source": []
  }
 ],
 "metadata": {
  "jupytext": {
   "cell_metadata_filter": "-all",
   "main_language": "python",
   "notebook_metadata_filter": "-all"
  },
  "language_info": {
   "codemirror_mode": {
    "name": "ipython",
    "version": 3
   },
   "file_extension": ".py",
   "mimetype": "text/x-python",
   "name": "python",
   "nbconvert_exporter": "python",
   "pygments_lexer": "ipython3",
   "version": "3.8.3"
  },
  "papermill": {
   "default_parameters": {},
   "duration": 43.697446,
   "end_time": "2023-10-20T19:04:10.269396",
   "environment_variables": {},
   "exception": null,
   "input_path": "chipscopy/examples/ila_and_vio/ila_advanced_trigger.ipynb",
   "output_path": "chipscopy/examples/ila_and_vio/ila_advanced_trigger.ipynb",
   "parameters": {},
   "start_time": "2023-10-20T19:03:26.571950",
   "version": "2.4.0"
  }
 },
 "nbformat": 4,
 "nbformat_minor": 5
}