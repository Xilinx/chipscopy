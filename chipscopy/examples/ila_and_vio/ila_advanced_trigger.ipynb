{
 "cells": [
  {
   "cell_type": "code",
   "execution_count": 1,
   "id": "0e57108a",
   "metadata": {
    "execution": {
     "iopub.execute_input": "2023-10-24T22:08:38.774318Z",
     "iopub.status.busy": "2023-10-24T22:08:38.773919Z",
     "iopub.status.idle": "2023-10-24T22:08:38.779474Z",
     "shell.execute_reply": "2023-10-24T22:08:38.778772Z"
    },
    "papermill": {
     "duration": 0.015134,
     "end_time": "2023-10-24T22:08:38.780852",
     "exception": false,
     "start_time": "2023-10-24T22:08:38.765718",
     "status": "completed"
    },
    "tags": []
   },
   "outputs": [],
   "source": [
    "# Copyright (C) 2022, Xilinx, Inc.\n",
    "# Copyright (C) 2022-2023, Advanced Micro Devices, Inc.\n",
    "#\n",
    "# Licensed under the Apache License, Version 2.0 (the \"License\");\n",
    "# you may not use this file except in compliance with the License.\n",
    "# You may obtain a copy of the License at\n",
    "#\n",
    "#     http://www.apache.org/licenses/LICENSE-2.0\n",
    "#\n",
    "# Unless required by applicable law or agreed to in writing, software\n",
    "# distributed under the License is distributed on an \"AS IS\" BASIS,\n",
    "# WITHOUT WARRANTIES OR CONDITIONS OF ANY KIND, either express or implied.\n",
    "# See the License for the specific language governing permissions and\n",
    "# limitations under the License."
   ]
  },
  {
   "cell_type": "markdown",
   "id": "6c3d50fb",
   "metadata": {
    "papermill": {
     "duration": 0.00537,
     "end_time": "2023-10-24T22:08:38.793923",
     "exception": false,
     "start_time": "2023-10-24T22:08:38.788553",
     "status": "completed"
    },
    "tags": []
   },
   "source": [
    "ILA Advanced Trigger Example\n",
    "========================="
   ]
  },
  {
   "cell_type": "markdown",
   "id": "1d2a5807",
   "metadata": {
    "papermill": {
     "duration": 0.005126,
     "end_time": "2023-10-24T22:08:38.804878",
     "exception": false,
     "start_time": "2023-10-24T22:08:38.799752",
     "status": "completed"
    },
    "tags": []
   },
   "source": [
    "Description\n",
    "-----------\n",
    "This demo shows how to use the ILA Advanced Trigger Mode.\n",
    "In this mode, the trigger setup is described in text using the ILA Trigger State Machine (TSM) language.\n",
    "See UG908 Vivado Design User Guide: Programming and Debugging, Appendix B \"Trigger State Machine Language Description\". \n",
    "\n",
    "\n",
    "Requirements\n",
    "------------\n",
    "The following is required to run this demo:\n",
    "1. Local or remote access to a Versal device\n",
    "2. 2023.2 cs_server and hw_server applications\n",
    "3. Python 3.8 environment\n",
    "4. A clone of the chipscopy git enterprise repository:\n",
    "   - https://gitenterprise.xilinx.com/chipscope/chipscopy\n",
    "\n",
    "---"
   ]
  },
  {
   "cell_type": "markdown",
   "id": "73aa520f",
   "metadata": {
    "papermill": {
     "duration": 0.006058,
     "end_time": "2023-10-24T22:08:38.816875",
     "exception": false,
     "start_time": "2023-10-24T22:08:38.810817",
     "status": "completed"
    },
    "tags": []
   },
   "source": [
    "## Step 1 - Set up environment"
   ]
  },
  {
   "cell_type": "code",
   "execution_count": 2,
   "id": "4f23a830",
   "metadata": {
    "execution": {
     "iopub.execute_input": "2023-10-24T22:08:38.828265Z",
     "iopub.status.busy": "2023-10-24T22:08:38.828069Z",
     "iopub.status.idle": "2023-10-24T22:08:39.448981Z",
     "shell.execute_reply": "2023-10-24T22:08:39.448112Z"
    },
    "papermill": {
     "duration": 0.629043,
     "end_time": "2023-10-24T22:08:39.451111",
     "exception": false,
     "start_time": "2023-10-24T22:08:38.822068",
     "status": "completed"
    },
    "tags": []
   },
   "outputs": [],
   "source": [
    "import os\n",
    "from enum import Enum\n",
    "import chipscopy\n",
    "from chipscopy import create_session, get_design_files, null_callback, report_versions\n",
    "from chipscopy.api.ila import ILAStatus, ILAWaveform\n",
    "from io import StringIO\n",
    "from pprint import pformat"
   ]
  },
  {
   "cell_type": "code",
   "execution_count": 3,
   "id": "b2b68657",
   "metadata": {
    "execution": {
     "iopub.execute_input": "2023-10-24T22:08:39.462975Z",
     "iopub.status.busy": "2023-10-24T22:08:39.462686Z",
     "iopub.status.idle": "2023-10-24T22:08:39.467115Z",
     "shell.execute_reply": "2023-10-24T22:08:39.466442Z"
    },
    "papermill": {
     "duration": 0.011775,
     "end_time": "2023-10-24T22:08:39.468569",
     "exception": false,
     "start_time": "2023-10-24T22:08:39.456794",
     "status": "completed"
    },
    "tags": []
   },
   "outputs": [],
   "source": [
    "# Specify locations of the running hw_server and cs_server below.\n",
    "CS_URL = os.getenv(\"CS_SERVER_URL\", \"TCP:localhost:3042\")\n",
    "HW_URL = os.getenv(\"HW_SERVER_URL\", \"TCP:localhost:3121\")\n",
    "\n",
    "# specify hw and if programming is desired\n",
    "HW_PLATFORM = os.getenv(\"HW_PLATFORM\", \"vck190\")\n",
    "PROG_DEVICE = os.getenv(\"PROG_DEVICE\", 'True').lower() in ('true', '1', 't')"
   ]
  },
  {
   "cell_type": "code",
   "execution_count": 4,
   "id": "0fe2f208",
   "metadata": {
    "execution": {
     "iopub.execute_input": "2023-10-24T22:08:39.479282Z",
     "iopub.status.busy": "2023-10-24T22:08:39.479098Z",
     "iopub.status.idle": "2023-10-24T22:08:39.484150Z",
     "shell.execute_reply": "2023-10-24T22:08:39.483410Z"
    },
    "papermill": {
     "duration": 0.011972,
     "end_time": "2023-10-24T22:08:39.485378",
     "exception": false,
     "start_time": "2023-10-24T22:08:39.473406",
     "status": "completed"
    },
    "tags": []
   },
   "outputs": [],
   "source": [
    "design_files = get_design_files(f\"{HW_PLATFORM}/production/chipscopy_ced\")\n",
    "PROGRAMMING_FILE = design_files.programming_file\n",
    "PROBES_FILE = design_files.probes_file\n",
    "assert os.path.isfile(PROGRAMMING_FILE)\n",
    "assert os.path.isfile(PROBES_FILE)"
   ]
  },
  {
   "cell_type": "code",
   "execution_count": 5,
   "id": "03e7addf",
   "metadata": {
    "execution": {
     "iopub.execute_input": "2023-10-24T22:08:39.497093Z",
     "iopub.status.busy": "2023-10-24T22:08:39.496254Z",
     "iopub.status.idle": "2023-10-24T22:08:39.501603Z",
     "shell.execute_reply": "2023-10-24T22:08:39.500730Z"
    },
    "papermill": {
     "duration": 0.012597,
     "end_time": "2023-10-24T22:08:39.502815",
     "exception": false,
     "start_time": "2023-10-24T22:08:39.490218",
     "status": "completed"
    },
    "tags": []
   },
   "outputs": [
    {
     "name": "stdout",
     "output_type": "stream",
     "text": [
      "HW_URL=TCP:localhost:3121\n",
      "CS_URL=TCP:localhost:3042\n",
      "PDI=/scratch/2023.2/chipscopy-examples/designs/vck190/production/chipscopy_ced/chipscopy_wrapper.pdi\n",
      "LTX=/scratch/2023.2/chipscopy-examples/designs/vck190/production/chipscopy_ced/chipscopy_wrapper.ltx\n"
     ]
    }
   ],
   "source": [
    "print(f\"HW_URL={HW_URL}\")\n",
    "print(f\"CS_URL={CS_URL}\")\n",
    "print(f\"PDI={PROGRAMMING_FILE}\")\n",
    "print(f\"LTX={PROBES_FILE}\")"
   ]
  },
  {
   "cell_type": "markdown",
   "id": "7dfd328f",
   "metadata": {
    "papermill": {
     "duration": 0.004754,
     "end_time": "2023-10-24T22:08:39.512397",
     "exception": false,
     "start_time": "2023-10-24T22:08:39.507643",
     "status": "completed"
    },
    "tags": []
   },
   "source": [
    "## Step 2 - Create a session and connect to the server(s)\n",
    "Here we create a new session and print out some versioning information for diagnostic purposes.\n",
    "The session is a container that keeps track of devices and debug cores."
   ]
  },
  {
   "cell_type": "code",
   "execution_count": 6,
   "id": "13047152",
   "metadata": {
    "execution": {
     "iopub.execute_input": "2023-10-24T22:08:39.522824Z",
     "iopub.status.busy": "2023-10-24T22:08:39.522637Z",
     "iopub.status.idle": "2023-10-24T22:08:40.552512Z",
     "shell.execute_reply": "2023-10-24T22:08:40.551650Z"
    },
    "papermill": {
     "duration": 1.036851,
     "end_time": "2023-10-24T22:08:40.554039",
     "exception": false,
     "start_time": "2023-10-24T22:08:39.517188",
     "status": "completed"
    },
    "tags": []
   },
   "outputs": [
    {
     "name": "stdout",
     "output_type": "stream",
     "text": [
      "Using chipscopy api version: 2023.2.1697859156\n"
     ]
    },
    {
     "data": {
      "text/html": [
       "<pre style=\"white-space:pre;overflow-x:auto;line-height:normal;font-family:Menlo,'DejaVu Sans Mono',consolas,'Courier New',monospace\">\n",
       "\n",
       "</pre>\n"
      ],
      "text/plain": [
       "\n",
       "\n"
      ]
     },
     "metadata": {},
     "output_type": "display_data"
    },
    {
     "data": {
      "text/html": [
       "<pre style=\"white-space:pre;overflow-x:auto;line-height:normal;font-family:Menlo,'DejaVu Sans Mono',consolas,'Courier New',monospace\"><span style=\"font-style: italic\">                      ChipScoPy Version Information                      </span>\n",
       "┌────────────────────────────┬──────────────────────────────────────────┐\n",
       "│<span style=\"font-weight: bold\">                     Entity </span>│<span style=\"font-weight: bold\"> Version                                  </span>│\n",
       "├────────────────────────────┼──────────────────────────────────────────┤\n",
       "│                  ChipScoPy │ ┌───────────┬──────────────────────┐     │\n",
       "│                            │ │<span style=\"font-weight: bold\"> Attribute </span>│<span style=\"font-weight: bold\"> Value                </span>│     │\n",
       "│                            │ ├───────────┼──────────────────────┤     │\n",
       "│                            │ │     Build │ 2023.2.1697859156    │     │\n",
       "│                            │ │ Timestamp │ Oct 20 2023-21:32:36 │     │\n",
       "│                            │ └───────────┴──────────────────────┘     │\n",
       "│                            │                                          │\n",
       "│ hw_server @ localhost:3121 │ ┌───────────┬──────────────────────────┐ │\n",
       "│                            │ │<span style=\"font-weight: bold\"> Attribute </span>│<span style=\"font-weight: bold\"> Value                    </span>│ │\n",
       "│                            │ ├───────────┼──────────────────────────┤ │\n",
       "│                            │ │    Status │ Connected                │ │\n",
       "│                            │ │     Build │ 1683493450               │ │\n",
       "│                            │ │   Version │ 2023.1                   │ │\n",
       "│                            │ │ Timestamp │ Sun May  7 15:04:10 2023 │ │\n",
       "│                            │ └───────────┴──────────────────────────┘ │\n",
       "│                            │                                          │\n",
       "│ cs_server @ localhost:3042 │ ┌───────────────┬──────────────────────┐ │\n",
       "│                            │ │<span style=\"font-weight: bold\">     Attribute </span>│<span style=\"font-weight: bold\"> Value                </span>│ │\n",
       "│                            │ ├───────────────┼──────────────────────┤ │\n",
       "│                            │ │        Status │ Connected            │ │\n",
       "│                            │ │         Build │ 1696910516           │ │\n",
       "│                            │ │       Version │ 2023.2.0             │ │\n",
       "│                            │ │     Timestamp │ Oct 09 2023-22:01:56 │ │\n",
       "│                            │ │       Package │ 2023.2.1696910516    │ │\n",
       "│                            │ │ Artifact type │ pyinstaller          │ │\n",
       "│                            │ └───────────────┴──────────────────────┘ │\n",
       "└────────────────────────────┴──────────────────────────────────────────┘\n",
       "</pre>\n"
      ],
      "text/plain": [
       "\u001b[3m                      ChipScoPy Version Information                      \u001b[0m\n",
       "┌────────────────────────────┬──────────────────────────────────────────┐\n",
       "│\u001b[1m \u001b[0m\u001b[1m                    Entity\u001b[0m\u001b[1m \u001b[0m│\u001b[1m \u001b[0m\u001b[1mVersion                                 \u001b[0m\u001b[1m \u001b[0m│\n",
       "├────────────────────────────┼──────────────────────────────────────────┤\n",
       "│                  ChipScoPy │ ┌───────────┬──────────────────────┐     │\n",
       "│                            │ │\u001b[1m \u001b[0m\u001b[1mAttribute\u001b[0m\u001b[1m \u001b[0m│\u001b[1m \u001b[0m\u001b[1mValue               \u001b[0m\u001b[1m \u001b[0m│     │\n",
       "│                            │ ├───────────┼──────────────────────┤     │\n",
       "│                            │ │     Build │ 2023.2.1697859156    │     │\n",
       "│                            │ │ Timestamp │ Oct 20 2023-21:32:36 │     │\n",
       "│                            │ └───────────┴──────────────────────┘     │\n",
       "│                            │                                          │\n",
       "│ hw_server @ localhost:3121 │ ┌───────────┬──────────────────────────┐ │\n",
       "│                            │ │\u001b[1m \u001b[0m\u001b[1mAttribute\u001b[0m\u001b[1m \u001b[0m│\u001b[1m \u001b[0m\u001b[1mValue                   \u001b[0m\u001b[1m \u001b[0m│ │\n",
       "│                            │ ├───────────┼──────────────────────────┤ │\n",
       "│                            │ │    Status │ Connected                │ │\n",
       "│                            │ │     Build │ 1683493450               │ │\n",
       "│                            │ │   Version │ 2023.1                   │ │\n",
       "│                            │ │ Timestamp │ Sun May  7 15:04:10 2023 │ │\n",
       "│                            │ └───────────┴──────────────────────────┘ │\n",
       "│                            │                                          │\n",
       "│ cs_server @ localhost:3042 │ ┌───────────────┬──────────────────────┐ │\n",
       "│                            │ │\u001b[1m \u001b[0m\u001b[1m    Attribute\u001b[0m\u001b[1m \u001b[0m│\u001b[1m \u001b[0m\u001b[1mValue               \u001b[0m\u001b[1m \u001b[0m│ │\n",
       "│                            │ ├───────────────┼──────────────────────┤ │\n",
       "│                            │ │        Status │ Connected            │ │\n",
       "│                            │ │         Build │ 1696910516           │ │\n",
       "│                            │ │       Version │ 2023.2.0             │ │\n",
       "│                            │ │     Timestamp │ Oct 09 2023-22:01:56 │ │\n",
       "│                            │ │       Package │ 2023.2.1696910516    │ │\n",
       "│                            │ │ Artifact type │ pyinstaller          │ │\n",
       "│                            │ └───────────────┴──────────────────────┘ │\n",
       "└────────────────────────────┴──────────────────────────────────────────┘\n"
      ]
     },
     "metadata": {},
     "output_type": "display_data"
    },
    {
     "data": {
      "text/html": [
       "<pre style=\"white-space:pre;overflow-x:auto;line-height:normal;font-family:Menlo,'DejaVu Sans Mono',consolas,'Courier New',monospace\">\n",
       "\n",
       "</pre>\n"
      ],
      "text/plain": [
       "\n",
       "\n"
      ]
     },
     "metadata": {},
     "output_type": "display_data"
    }
   ],
   "source": [
    "print(f\"Using chipscopy api version: {chipscopy.__version__}\")\n",
    "session = create_session(cs_server_url=CS_URL, hw_server_url=HW_URL)\n",
    "report_versions(session)"
   ]
  },
  {
   "cell_type": "markdown",
   "id": "11bdbe6f",
   "metadata": {
    "papermill": {
     "duration": 0.006139,
     "end_time": "2023-10-24T22:08:40.566632",
     "exception": false,
     "start_time": "2023-10-24T22:08:40.560493",
     "status": "completed"
    },
    "tags": []
   },
   "source": [
    "## Step 3 - Get our device from the session"
   ]
  },
  {
   "cell_type": "code",
   "execution_count": 7,
   "id": "2968f776",
   "metadata": {
    "execution": {
     "iopub.execute_input": "2023-10-24T22:08:40.581096Z",
     "iopub.status.busy": "2023-10-24T22:08:40.580584Z",
     "iopub.status.idle": "2023-10-24T22:08:40.585628Z",
     "shell.execute_reply": "2023-10-24T22:08:40.584997Z"
    },
    "papermill": {
     "duration": 0.014193,
     "end_time": "2023-10-24T22:08:40.586726",
     "exception": false,
     "start_time": "2023-10-24T22:08:40.572533",
     "status": "completed"
    },
    "tags": []
   },
   "outputs": [
    {
     "name": "stdout",
     "output_type": "stream",
     "text": [
      "Device count: 1\n"
     ]
    }
   ],
   "source": [
    "# Use the first available device and setup its debug cores\n",
    "if len(session.devices) == 0:\n",
    "    raise ValueError(\"No devices detected\")\n",
    "print(f\"Device count: {len(session.devices)}\")\n",
    "versal_device = session.devices.get(family=\"versal\")"
   ]
  },
  {
   "cell_type": "markdown",
   "id": "1e02cda8",
   "metadata": {
    "papermill": {
     "duration": 0.005344,
     "end_time": "2023-10-24T22:08:40.597348",
     "exception": false,
     "start_time": "2023-10-24T22:08:40.592004",
     "status": "completed"
    },
    "tags": []
   },
   "source": [
    "## Step 4 - Program the device with our example programming file"
   ]
  },
  {
   "cell_type": "code",
   "execution_count": 8,
   "id": "dbca19c3",
   "metadata": {
    "execution": {
     "iopub.execute_input": "2023-10-24T22:08:40.609979Z",
     "iopub.status.busy": "2023-10-24T22:08:40.609132Z",
     "iopub.status.idle": "2023-10-24T22:08:47.830080Z",
     "shell.execute_reply": "2023-10-24T22:08:47.829544Z"
    },
    "papermill": {
     "duration": 7.230316,
     "end_time": "2023-10-24T22:08:47.832945",
     "exception": false,
     "start_time": "2023-10-24T22:08:40.602629",
     "status": "completed"
    },
    "tags": []
   },
   "outputs": [
    {
     "name": "stdout",
     "output_type": "stream",
     "text": [
      "Programming /scratch/2023.2/chipscopy-examples/designs/vck190/production/chipscopy_ced/chipscopy_wrapper.pdi...\n"
     ]
    },
    {
     "data": {
      "text/html": [
       "<pre style=\"white-space:pre;overflow-x:auto;line-height:normal;font-family:Menlo,'DejaVu Sans Mono',consolas,'Courier New',monospace\">\n",
       "<span style=\"font-weight: bold\">--&gt; INFO: </span>Programming device with: \n",
       "/scratch/2023.2/chipscopy-examples/designs/vck190/production/chipscopy_ced/chipscopy_wrapper.pdi\n",
       "    \n",
       "</pre>\n"
      ],
      "text/plain": [
       "\n",
       "\u001b[1m--> INFO: \u001b[0mProgramming device with: \n",
       "/scratch/2023.2/chipscopy-examples/designs/vck190/production/chipscopy_ced/chipscopy_wrapper.pdi\n",
       "    \n"
      ]
     },
     "metadata": {},
     "output_type": "display_data"
    },
    {
     "data": {
      "application/vnd.jupyter.widget-view+json": {
       "model_id": "afd3ed6a1d2e4c47b13b20ce86b0ff34",
       "version_major": 2,
       "version_minor": 0
      },
      "text/plain": [
       "Output()"
      ]
     },
     "metadata": {},
     "output_type": "display_data"
    },
    {
     "data": {
      "text/html": [
       "<pre style=\"white-space:pre;overflow-x:auto;line-height:normal;font-family:Menlo,'DejaVu Sans Mono',consolas,'Courier New',monospace\"></pre>\n"
      ],
      "text/plain": []
     },
     "metadata": {},
     "output_type": "display_data"
    },
    {
     "data": {
      "text/html": [
       "<pre style=\"white-space:pre;overflow-x:auto;line-height:normal;font-family:Menlo,'DejaVu Sans Mono',consolas,'Courier New',monospace\">\n",
       "</pre>\n"
      ],
      "text/plain": [
       "\n"
      ]
     },
     "metadata": {},
     "output_type": "display_data"
    }
   ],
   "source": [
    "print(f\"Programming {PROGRAMMING_FILE}...\")\n",
    "if PROG_DEVICE:\n",
    "    versal_device.program(PROGRAMMING_FILE)\n",
    "else:\n",
    "    print(\"skipping programming\")"
   ]
  },
  {
   "cell_type": "markdown",
   "id": "0296437b",
   "metadata": {
    "papermill": {
     "duration": 0.006373,
     "end_time": "2023-10-24T22:08:47.846775",
     "exception": false,
     "start_time": "2023-10-24T22:08:47.840402",
     "status": "completed"
    },
    "tags": []
   },
   "source": [
    "## Step 5 - Detect Debug Cores"
   ]
  },
  {
   "cell_type": "code",
   "execution_count": 9,
   "id": "4a64cddf",
   "metadata": {
    "execution": {
     "iopub.execute_input": "2023-10-24T22:08:48.398869Z",
     "iopub.status.busy": "2023-10-24T22:08:48.398693Z",
     "iopub.status.idle": "2023-10-24T22:08:48.522504Z",
     "shell.execute_reply": "2023-10-24T22:08:48.521428Z"
    },
    "papermill": {
     "duration": 0.671284,
     "end_time": "2023-10-24T22:08:48.523952",
     "exception": false,
     "start_time": "2023-10-24T22:08:47.852668",
     "status": "completed"
    },
    "tags": []
   },
   "outputs": [
    {
     "name": "stdout",
     "output_type": "stream",
     "text": [
      "Discovering debug cores...\n"
     ]
    }
   ],
   "source": [
    "print(f\"Discovering debug cores...\")\n",
    "versal_device.discover_and_setup_cores(ltx_file=PROBES_FILE)"
   ]
  },
  {
   "cell_type": "code",
   "execution_count": 10,
   "id": "8403cfb1",
   "metadata": {
    "execution": {
     "iopub.execute_input": "2023-10-24T22:08:48.586320Z",
     "iopub.status.busy": "2023-10-24T22:08:48.585423Z",
     "iopub.status.idle": "2023-10-24T22:08:50.089165Z",
     "shell.execute_reply": "2023-10-24T22:08:50.088150Z"
    },
    "papermill": {
     "duration": 1.517685,
     "end_time": "2023-10-24T22:08:50.090526",
     "exception": false,
     "start_time": "2023-10-24T22:08:48.572841",
     "status": "completed"
    },
    "tags": []
   },
   "outputs": [
    {
     "name": "stdout",
     "output_type": "stream",
     "text": [
      "\n",
      "Found 3 ILA cores in design\n"
     ]
    }
   ],
   "source": [
    "ila_count = len(versal_device.ila_cores)\n",
    "print(f\"\\nFound {ila_count} ILA cores in design\")"
   ]
  },
  {
   "cell_type": "code",
   "execution_count": 11,
   "id": "7d75fc2f",
   "metadata": {
    "execution": {
     "iopub.execute_input": "2023-10-24T22:08:50.105712Z",
     "iopub.status.busy": "2023-10-24T22:08:50.105511Z",
     "iopub.status.idle": "2023-10-24T22:08:50.109928Z",
     "shell.execute_reply": "2023-10-24T22:08:50.109130Z"
    },
    "papermill": {
     "duration": 0.013775,
     "end_time": "2023-10-24T22:08:50.111038",
     "exception": false,
     "start_time": "2023-10-24T22:08:50.097263",
     "status": "completed"
    },
    "tags": []
   },
   "outputs": [],
   "source": [
    "if ila_count == 0:\n",
    "    print(\"No ILA core found! Exiting...\")\n",
    "    raise ValueError(\"No ILA cores detected\")"
   ]
  },
  {
   "cell_type": "code",
   "execution_count": 12,
   "id": "895a7c3e",
   "metadata": {
    "execution": {
     "iopub.execute_input": "2023-10-24T22:08:50.124367Z",
     "iopub.status.busy": "2023-10-24T22:08:50.124072Z",
     "iopub.status.idle": "2023-10-24T22:08:50.135694Z",
     "shell.execute_reply": "2023-10-24T22:08:50.135006Z"
    },
    "papermill": {
     "duration": 0.019945,
     "end_time": "2023-10-24T22:08:50.136900",
     "exception": false,
     "start_time": "2023-10-24T22:08:50.116955",
     "status": "completed"
    },
    "tags": []
   },
   "outputs": [
    {
     "name": "stdout",
     "output_type": "stream",
     "text": [
      "    ILA Core #0: NAME=chipscopy_i/counters/ila_fast_counter_0, UUID=D62FB110F1A25D439EB15D9149F450CE\n",
      "    ILA Core #1: NAME=chipscopy_i/counters/ila_slow_counter_0, UUID=9125D1429AD25223AECDD656C2856755\n",
      "    ILA Core #2: NAME=chipscopy_i/noc_tg_bc/noc_bc_axis_ila_0, UUID=C53C0D3572B655B6A8A13A86686D262D\n"
     ]
    }
   ],
   "source": [
    "# List all detected ILA Cores\n",
    "ila_cores = versal_device.ila_cores\n",
    "for index, ila_core in enumerate(ila_cores):\n",
    "    print(f\"    ILA Core #{index}: NAME={ila_core.name}, UUID={ila_core.core_info.uuid}\")"
   ]
  },
  {
   "cell_type": "code",
   "execution_count": 13,
   "id": "b0c94fd8",
   "metadata": {
    "execution": {
     "iopub.execute_input": "2023-10-24T22:08:50.151137Z",
     "iopub.status.busy": "2023-10-24T22:08:50.150954Z",
     "iopub.status.idle": "2023-10-24T22:08:50.155921Z",
     "shell.execute_reply": "2023-10-24T22:08:50.155258Z"
    },
    "papermill": {
     "duration": 0.013756,
     "end_time": "2023-10-24T22:08:50.157222",
     "exception": false,
     "start_time": "2023-10-24T22:08:50.143466",
     "status": "completed"
    },
    "tags": []
   },
   "outputs": [
    {
     "name": "stdout",
     "output_type": "stream",
     "text": [
      "USING ILA: chipscopy_i/counters/ila_slow_counter_0\n"
     ]
    }
   ],
   "source": [
    "# Get the ILA cores matching a given name. filter_by returns a list, even if just one item is present.\n",
    "my_ila = versal_device.ila_cores.filter_by(name=\"chipscopy_i/counters/ila_slow_counter_0\")[0]\n",
    "\n",
    "print(f\"USING ILA: {my_ila.name}\")"
   ]
  },
  {
   "cell_type": "markdown",
   "id": "863f6d60",
   "metadata": {
    "papermill": {
     "duration": 0.006058,
     "end_time": "2023-10-24T22:08:50.169891",
     "exception": false,
     "start_time": "2023-10-24T22:08:50.163833",
     "status": "completed"
    },
    "tags": []
   },
   "source": [
    "## Step 6 - Get Information for this ILA Core\n",
    "Note:\n",
    "- 'has_advanced_trigger' is True. This ILA supports the advanced trigger feature.\n",
    "- 'tsm_counter_widths' shows 4 counters of bit width 16."
   ]
  },
  {
   "cell_type": "code",
   "execution_count": 14,
   "id": "e8bad3fa",
   "metadata": {
    "execution": {
     "iopub.execute_input": "2023-10-24T22:08:50.183433Z",
     "iopub.status.busy": "2023-10-24T22:08:50.183254Z",
     "iopub.status.idle": "2023-10-24T22:08:50.453486Z",
     "shell.execute_reply": "2023-10-24T22:08:50.452218Z"
    },
    "lines_to_next_cell": 2,
    "papermill": {
     "duration": 0.279172,
     "end_time": "2023-10-24T22:08:50.455330",
     "exception": false,
     "start_time": "2023-10-24T22:08:50.176158",
     "status": "completed"
    },
    "tags": []
   },
   "outputs": [
    {
     "name": "stdout",
     "output_type": "stream",
     "text": [
      "\n",
      "ILA Name: chipscopy_i/counters/ila_slow_counter_0\n",
      "\n",
      "ILA Core Info { 'core_major_ver': 1,\n",
      "  'core_minor_ver': 0,\n",
      "  'core_type': 1,\n",
      "  'drv_ver': 8,\n",
      "  'tool_major_ver': 19,\n",
      "  'tool_minor_ver': 1,\n",
      "  'uuid': '9125D1429AD25223AECDD656C2856755'}\n"
     ]
    },
    {
     "name": "stdout",
     "output_type": "stream",
     "text": [
      "\n",
      "ILA Static Info { 'data_depth': 4096,\n",
      "  'data_width': 105,\n",
      "  'has_advanced_trigger': True,\n",
      "  'has_capture_control': True,\n",
      "  'has_trig_in': True,\n",
      "  'has_trig_out': True,\n",
      "  'match_unit_count': 52,\n",
      "  'port_count': 13,\n",
      "  'tsm_counter_widths': [16, 16, 16, 16]}\n"
     ]
    }
   ],
   "source": [
    "print(\"\\nILA Name:\", my_ila.name)\n",
    "print(\"\\nILA Core Info\", my_ila.core_info)\n",
    "print(\"\\nILA Static Info\", my_ila.static_info)"
   ]
  },
  {
   "cell_type": "markdown",
   "id": "72fbd083",
   "metadata": {
    "papermill": {
     "duration": 0.006619,
     "end_time": "2023-10-24T22:08:50.469420",
     "exception": false,
     "start_time": "2023-10-24T22:08:50.462801",
     "status": "completed"
    },
    "tags": []
   },
   "source": [
    "## Step 7 -  Trigger Immediately using Advanced Trigger Mode\n",
    "\n",
    "Trigger State Machine trigger descriptions may be in a text file, or in a io.StringIO object.\n",
    "Some of the ILA status information applies only to Advanced Trigger Mode:\n",
    "- tsm_counters\n",
    "- tsm_flags\n",
    "- tsm_state\n",
    "- tsm_state_name"
   ]
  },
  {
   "cell_type": "code",
   "execution_count": 15,
   "id": "5830cb43",
   "metadata": {
    "execution": {
     "iopub.execute_input": "2023-10-24T22:08:50.483131Z",
     "iopub.status.busy": "2023-10-24T22:08:50.482910Z",
     "iopub.status.idle": "2023-10-24T22:08:51.568091Z",
     "shell.execute_reply": "2023-10-24T22:08:51.567474Z"
    },
    "papermill": {
     "duration": 1.094205,
     "end_time": "2023-10-24T22:08:51.569683",
     "exception": false,
     "start_time": "2023-10-24T22:08:50.475478",
     "status": "completed"
    },
    "tags": []
   },
   "outputs": [
    {
     "name": "stdout",
     "output_type": "stream",
     "text": [
      "\n",
      "ILA Status:\n",
      "\n",
      "Trigger State Machine counter values:       [0, 0, 0, 0]\n",
      "Trigger State Machine flags:                [False, False, False, False]\n",
      "Trigger State Machine current state index:  0\n",
      "Trigger State Machine current state name :  my_state0\n"
     ]
    }
   ],
   "source": [
    "TRIGGER_NOW_TSM = StringIO(\n",
    "\"\"\"\n",
    "    state my_state0:\n",
    "        trigger;\n",
    "\"\"\"\n",
    ")\n",
    "\n",
    "# Note, if the TSM text is in a file, you can give the file path string as the first argument.\n",
    "my_ila.run_advanced_trigger(TRIGGER_NOW_TSM, trigger_position=0, window_count=1, window_size=8)\n",
    "\n",
    "\n",
    "my_ila.refresh_status()\n",
    "print(\"\\nILA Status:\\n\")\n",
    "print(\"Trigger State Machine counter values:      \", my_ila.status.tsm_counters)\n",
    "print(\"Trigger State Machine flags:               \", my_ila.status.tsm_flags)\n",
    "print(\"Trigger State Machine current state index: \", my_ila.status.tsm_state)\n",
    "print(\"Trigger State Machine current state name : \", my_ila.status.tsm_state_name)"
   ]
  },
  {
   "cell_type": "markdown",
   "id": "8052d57f",
   "metadata": {
    "papermill": {
     "duration": 0.006216,
     "end_time": "2023-10-24T22:08:51.588806",
     "exception": false,
     "start_time": "2023-10-24T22:08:51.582590",
     "status": "completed"
    },
    "tags": []
   },
   "source": [
    "## Step 8 - Upload Captured Waveform\n",
    "Wait at most half a minutes, for ILA to trigger and capture data."
   ]
  },
  {
   "cell_type": "code",
   "execution_count": 16,
   "id": "b7b92709",
   "metadata": {
    "execution": {
     "iopub.execute_input": "2023-10-24T22:08:51.603098Z",
     "iopub.status.busy": "2023-10-24T22:08:51.602719Z",
     "iopub.status.idle": "2023-10-24T22:08:51.811551Z",
     "shell.execute_reply": "2023-10-24T22:08:51.810486Z"
    },
    "papermill": {
     "duration": 0.218574,
     "end_time": "2023-10-24T22:08:51.813541",
     "exception": false,
     "start_time": "2023-10-24T22:08:51.594967",
     "status": "completed"
    },
    "tags": []
   },
   "outputs": [],
   "source": [
    "my_ila.wait_till_done(max_wait_minutes=0.5)\n",
    "my_ila.upload()\n",
    "if not my_ila.waveform:\n",
    "    print(\"\\nUpload failed!\")"
   ]
  },
  {
   "cell_type": "markdown",
   "id": "dad0811f",
   "metadata": {
    "papermill": {
     "duration": 0.006253,
     "end_time": "2023-10-24T22:08:51.827251",
     "exception": false,
     "start_time": "2023-10-24T22:08:51.820998",
     "status": "completed"
    },
    "tags": []
   },
   "source": [
    "## Step 9 - Print samples for probe 'chipscopy_i/counters/slow_counter_0_Q_1'. \n",
    "\n",
    "Using the function ILAWaveform.get_data(), the waveform data is put into a sorted dict.\n",
    "First 4 entries in sorting order are: trigger, sample index, window index, window sample index.\n",
    "Then comes probe values. In this case just one probe."
   ]
  },
  {
   "cell_type": "code",
   "execution_count": 17,
   "id": "ffeb871b",
   "metadata": {
    "execution": {
     "iopub.execute_input": "2023-10-24T22:08:51.841401Z",
     "iopub.status.busy": "2023-10-24T22:08:51.841159Z",
     "iopub.status.idle": "2023-10-24T22:08:51.847571Z",
     "shell.execute_reply": "2023-10-24T22:08:51.846529Z"
    },
    "lines_to_next_cell": 2,
    "papermill": {
     "duration": 0.015839,
     "end_time": "2023-10-24T22:08:51.849254",
     "exception": false,
     "start_time": "2023-10-24T22:08:51.833415",
     "status": "completed"
    },
    "tags": []
   },
   "outputs": [
    {
     "name": "stdout",
     "output_type": "stream",
     "text": [
      "Window:0  Window Sample:0  dec: 371459385  hex:0x16240539 <-- Trigger\n",
      "Window:0  Window Sample:1  dec: 371459386  hex:0x1624053A \n",
      "Window:0  Window Sample:2  dec: 371459387  hex:0x1624053B \n",
      "Window:0  Window Sample:3  dec: 371459388  hex:0x1624053C \n",
      "Window:0  Window Sample:4  dec: 371459389  hex:0x1624053D \n",
      "Window:0  Window Sample:5  dec: 371459390  hex:0x1624053E \n",
      "Window:0  Window Sample:6  dec: 371459391  hex:0x1624053F \n",
      "Window:0  Window Sample:7  dec: 371459392  hex:0x16240540 \n"
     ]
    }
   ],
   "source": [
    "counter_probe_name = 'chipscopy_i/counters/slow_counter_0_Q_1'\n",
    "\n",
    "def print_probe_values(waveform: ILAWaveform, probe_names: [str]):\n",
    "    samples = waveform.get_data(\n",
    "        probe_names,\n",
    "        include_trigger=True,\n",
    "        include_sample_info=True,\n",
    "    )\n",
    "    for trigger, sample_index, window_index, window_sample_index, value in zip(*samples.values()):\n",
    "        trigger = \"<-- Trigger\" if trigger else \"\"\n",
    "        print(\n",
    "            f\"Window:{window_index}  Window Sample:{window_sample_index}  dec:{value:10}  hex:0x{value:08X} {trigger}\"\n",
    "        )\n",
    "\n",
    "print_probe_values(my_ila.waveform, [counter_probe_name])"
   ]
  },
  {
   "cell_type": "markdown",
   "id": "e4794121",
   "metadata": {
    "papermill": {
     "duration": 0.006258,
     "end_time": "2023-10-24T22:08:51.861664",
     "exception": false,
     "start_time": "2023-10-24T22:08:51.855406",
     "status": "completed"
    },
    "tags": []
   },
   "source": [
    "## Step 10 - Check if TSM is Valid\n",
    "- The TSM below has undefined probe names and undefined states.\n",
    "- Use \"compile_only=True\" argument when just checking if the TSM text is valid.\n",
    "- The run_advanced_trigger() function returns a tuple with 2 values: \"error_count\" and \"error_message\"."
   ]
  },
  {
   "cell_type": "code",
   "execution_count": 18,
   "id": "14e26710",
   "metadata": {
    "execution": {
     "iopub.execute_input": "2023-10-24T22:08:51.877155Z",
     "iopub.status.busy": "2023-10-24T22:08:51.875614Z",
     "iopub.status.idle": "2023-10-24T22:08:51.904826Z",
     "shell.execute_reply": "2023-10-24T22:08:51.904140Z"
    },
    "papermill": {
     "duration": 0.038133,
     "end_time": "2023-10-24T22:08:51.905982",
     "exception": false,
     "start_time": "2023-10-24T22:08:51.867849",
     "status": "completed"
    },
    "tags": []
   },
   "outputs": [
    {
     "name": "stdout",
     "output_type": "stream",
     "text": [
      "\n",
      "\n",
      "The Advanced Trigger State machine \"TSM_WITH_ERRORS\" has 6 error(s).\n",
      "\n",
      "[Line 3:10] Undefined probe: \"chipscopy_ex_i/counters/slow_counter_0_Q_1\"\n",
      "[Line 8:13] Unknown state \"state_2\".\n",
      "[Line 11:13] Unknown state \"state_3\".\n",
      "[Line 14:10] Undefined probe: \"chipscopy_i/counters23/slow_counter_0_Q_1\"\n",
      "[Line 18:13] Unknown state \"state_2\".\n",
      "[Line 21:11] Unknown state \"state_3\".\n",
      "\n"
     ]
    }
   ],
   "source": [
    "TSM_WITH_ERRORS = StringIO(\n",
    "    \"\"\"\n",
    "    state state_a:\n",
    "      if (chipscopy_ex_i/counters/slow_counter_0_Q_1 == 32'hXX33_0000 &&\n",
    "          chipscopy_i/counters/slow_sine_Dout >= 'habcd) then\n",
    "        trigger;\n",
    "      elseif (chipscopy_i/counters/slow_sine_Dout >= 'habcd) then\n",
    "        reset_counter $counter0;\n",
    "        goto state_2;\n",
    "      else\n",
    "        reset_counter $counter1;\n",
    "        goto state_3;\n",
    "      endif\n",
    "    state state_b:\n",
    "      if (chipscopy_i/counters23/slow_counter_0_Q_1 == 32'h3333_0000) then\n",
    "        trigger;\n",
    "      else\n",
    "        reset_counter $counter3;\n",
    "        goto state_2;\n",
    "      endif\n",
    "    state state_c:\n",
    "      goto state_3;\n",
    "    \"\"\"\n",
    ")\n",
    "\n",
    "# Check the TSM text for errors, using \"compile_only=True\n",
    "#\n",
    "error_count, error_message = my_ila.run_advanced_trigger(TSM_WITH_ERRORS, compile_only=True)\n",
    "print(f'\\n\\nThe Advanced Trigger State machine \"TSM_WITH_ERRORS\" has {error_count} error(s).'\n",
    "      f'\\n\\n{error_message}')"
   ]
  },
  {
   "cell_type": "markdown",
   "id": "1cd8b03e",
   "metadata": {
    "papermill": {
     "duration": 0.006338,
     "end_time": "2023-10-24T22:08:51.918560",
     "exception": false,
     "start_time": "2023-10-24T22:08:51.912222",
     "status": "completed"
    },
    "tags": []
   },
   "source": [
    "## Step 11 - Define a Status Progress Monitor Function\n",
    "Monitor TSM specific status, when ILA capture is active."
   ]
  },
  {
   "cell_type": "code",
   "execution_count": 19,
   "id": "d112a366",
   "metadata": {
    "execution": {
     "iopub.execute_input": "2023-10-24T22:08:51.933610Z",
     "iopub.status.busy": "2023-10-24T22:08:51.932471Z",
     "iopub.status.idle": "2023-10-24T22:08:51.937412Z",
     "shell.execute_reply": "2023-10-24T22:08:51.936687Z"
    },
    "papermill": {
     "duration": 0.013581,
     "end_time": "2023-10-24T22:08:51.938583",
     "exception": false,
     "start_time": "2023-10-24T22:08:51.925002",
     "status": "completed"
    },
    "tags": []
   },
   "outputs": [],
   "source": [
    "def status_progress(future):\n",
    "    \"\"\"Called in Event Thread\"\"\"\n",
    "    st = future.progress\n",
    "\n",
    "    if st.is_full:\n",
    "        print(f\"\\nAll data has been captured.\")\n",
    "    else:\n",
    "        print(f\"State: {st.tsm_state_name}   Counters: {st.tsm_counters}    Flags: {st.tsm_flags}\")       "
   ]
  },
  {
   "cell_type": "markdown",
   "id": "608960e8",
   "metadata": {
    "papermill": {
     "duration": 0.006095,
     "end_time": "2023-10-24T22:08:51.950804",
     "exception": false,
     "start_time": "2023-10-24T22:08:51.944709",
     "status": "completed"
    },
    "tags": []
   },
   "source": [
    "## Step 12 - Run Trigger State Machine with Flags and Counters\n",
    "In STATE_A:\n",
    "- Remain in STATE_A until hex value ending with \"33_0000\", has occurred 8 times (counter values 0-7).\n",
    "- Set \\$flag0\n",
    "- Go to state STATE_B\n",
    "\n",
    "In STATE_B:\n",
    "- Count hex value ending with \"AAA_BBBB\" 10 times (counter values 0-9).\n",
    "- Then set \\$flag1 and trigger."
   ]
  },
  {
   "cell_type": "code",
   "execution_count": 20,
   "id": "154a5a64",
   "metadata": {
    "execution": {
     "iopub.execute_input": "2023-10-24T22:08:51.965316Z",
     "iopub.status.busy": "2023-10-24T22:08:51.964987Z",
     "iopub.status.idle": "2023-10-24T22:09:19.320010Z",
     "shell.execute_reply": "2023-10-24T22:09:19.318899Z"
    },
    "papermill": {
     "duration": 27.363779,
     "end_time": "2023-10-24T22:09:19.321445",
     "exception": false,
     "start_time": "2023-10-24T22:08:51.957666",
     "status": "completed"
    },
    "tags": []
   },
   "outputs": [
    {
     "name": "stdout",
     "output_type": "stream",
     "text": [
      "State: STATE_A   Counters: [0, 0, 0, 0]    Flags: [False, False, False, False]\n"
     ]
    },
    {
     "name": "stdout",
     "output_type": "stream",
     "text": [
      "State: STATE_A   Counters: [3, 0, 0, 0]    Flags: [False, False, False, False]\n"
     ]
    },
    {
     "name": "stdout",
     "output_type": "stream",
     "text": [
      "State: STATE_A   Counters: [7, 0, 0, 0]    Flags: [False, False, False, False]\n"
     ]
    },
    {
     "name": "stdout",
     "output_type": "stream",
     "text": [
      "State: STATE_B   Counters: [7, 0, 0, 0]    Flags: [True, False, False, False]\n"
     ]
    },
    {
     "name": "stdout",
     "output_type": "stream",
     "text": [
      "State: STATE_B   Counters: [7, 1, 0, 0]    Flags: [True, False, False, False]\n"
     ]
    },
    {
     "name": "stdout",
     "output_type": "stream",
     "text": [
      "State: STATE_B   Counters: [7, 2, 0, 0]    Flags: [True, False, False, False]\n"
     ]
    },
    {
     "name": "stdout",
     "output_type": "stream",
     "text": [
      "State: STATE_B   Counters: [7, 3, 0, 0]    Flags: [True, False, False, False]\n"
     ]
    },
    {
     "name": "stdout",
     "output_type": "stream",
     "text": [
      "State: STATE_B   Counters: [7, 4, 0, 0]    Flags: [True, False, False, False]\n"
     ]
    },
    {
     "name": "stdout",
     "output_type": "stream",
     "text": [
      "State: STATE_B   Counters: [7, 5, 0, 0]    Flags: [True, False, False, False]\n"
     ]
    },
    {
     "name": "stdout",
     "output_type": "stream",
     "text": [
      "State: STATE_B   Counters: [7, 6, 0, 0]    Flags: [True, False, False, False]\n"
     ]
    },
    {
     "name": "stdout",
     "output_type": "stream",
     "text": [
      "State: STATE_B   Counters: [7, 7, 0, 0]    Flags: [True, False, False, False]\n"
     ]
    },
    {
     "name": "stdout",
     "output_type": "stream",
     "text": [
      "State: STATE_B   Counters: [7, 8, 0, 0]    Flags: [True, False, False, False]\n"
     ]
    },
    {
     "name": "stdout",
     "output_type": "stream",
     "text": [
      "State: STATE_B   Counters: [7, 9, 0, 0]    Flags: [True, False, False, False]\n"
     ]
    },
    {
     "name": "stdout",
     "output_type": "stream",
     "text": [
      "\n",
      "All data has been captured.\n",
      "\n",
      "Counters: [7, 9, 0, 0]    Flags: [True, True, False, False]\n"
     ]
    }
   ],
   "source": [
    "TSM_FLAGS_COUNTERS = StringIO(\n",
    "    f\"\"\"\n",
    "    state STATE_A:\n",
    "        if ( {counter_probe_name} == 32'hxx33_0000 && $counter0 == 'u7) then\n",
    "            set_flag $flag0;\n",
    "            goto STATE_B;\n",
    "        elseif ( {counter_probe_name} == 32'hxx33_0000) then\n",
    "            increment_counter $counter0;\n",
    "            goto STATE_A;\n",
    "        else\n",
    "            goto STATE_A;\n",
    "      endif\n",
    "      \n",
    "    state STATE_B:\n",
    "        if ( {counter_probe_name} == 32'hxAAA_BBBB && $counter1 == 'u9) then\n",
    "            set_flag $flag1;\n",
    "            trigger;\n",
    "        elseif ( {counter_probe_name} == 32'hxAAA_BBBB) then\n",
    "            increment_counter $counter1;\n",
    "            goto STATE_B;\n",
    "        else\n",
    "            goto STATE_B;\n",
    "      endif\n",
    "      \n",
    "\"\"\"\n",
    ")\n",
    "\n",
    "my_ila.run_advanced_trigger(TSM_FLAGS_COUNTERS, window_size=8)\n",
    "\n",
    "future = my_ila.monitor_status(max_wait_minutes=1.0, progress=status_progress, done=chipscopy.null_callback)\n",
    "\n",
    "# future.result is blocking, until monitor_status() function has completed or timed-out or been cancelled.\n",
    "# Meanwhile, the status_progress() function is called twice per second to print out status.\n",
    "status = future.result\n",
    "print(f\"\\nCounters: {status.tsm_counters}    Flags: {status.tsm_flags}\")"
   ]
  },
  {
   "cell_type": "markdown",
   "id": "c4525266",
   "metadata": {
    "papermill": {
     "duration": 0.006964,
     "end_time": "2023-10-24T22:09:19.336095",
     "exception": false,
     "start_time": "2023-10-24T22:09:19.329131",
     "status": "completed"
    },
    "tags": []
   },
   "source": [
    "## Step 13 - Upload Captured Waveform"
   ]
  },
  {
   "cell_type": "code",
   "execution_count": 21,
   "id": "32e7ef66",
   "metadata": {
    "execution": {
     "iopub.execute_input": "2023-10-24T22:09:19.352414Z",
     "iopub.status.busy": "2023-10-24T22:09:19.351362Z",
     "iopub.status.idle": "2023-10-24T22:09:19.519177Z",
     "shell.execute_reply": "2023-10-24T22:09:19.518255Z"
    },
    "papermill": {
     "duration": 0.178246,
     "end_time": "2023-10-24T22:09:19.521144",
     "exception": false,
     "start_time": "2023-10-24T22:09:19.342898",
     "status": "completed"
    },
    "tags": []
   },
   "outputs": [],
   "source": [
    "my_ila.upload()\n",
    "if not my_ila.waveform:\n",
    "    print(\"\\nUpload failed!\")"
   ]
  },
  {
   "cell_type": "markdown",
   "id": "b71d086e",
   "metadata": {
    "papermill": {
     "duration": 0.007049,
     "end_time": "2023-10-24T22:09:19.537257",
     "exception": false,
     "start_time": "2023-10-24T22:09:19.530208",
     "status": "completed"
    },
    "tags": []
   },
   "source": [
    "## Step 14 - Print samples for probe 'chipscopy_i/counters/slow_counter_0_Q_1'. "
   ]
  },
  {
   "cell_type": "code",
   "execution_count": 22,
   "id": "e23c4865",
   "metadata": {
    "execution": {
     "iopub.execute_input": "2023-10-24T22:09:19.552762Z",
     "iopub.status.busy": "2023-10-24T22:09:19.552538Z",
     "iopub.status.idle": "2023-10-24T22:09:19.557884Z",
     "shell.execute_reply": "2023-10-24T22:09:19.557123Z"
    },
    "papermill": {
     "duration": 0.015002,
     "end_time": "2023-10-24T22:09:19.559358",
     "exception": false,
     "start_time": "2023-10-24T22:09:19.544356",
     "status": "completed"
    },
    "tags": []
   },
   "outputs": [
    {
     "name": "stdout",
     "output_type": "stream",
     "text": [
      "Window:0  Window Sample:0  dec:3131751351  hex:0xBAAABBB7 \n",
      "Window:0  Window Sample:1  dec:3131751352  hex:0xBAAABBB8 \n",
      "Window:0  Window Sample:2  dec:3131751353  hex:0xBAAABBB9 \n",
      "Window:0  Window Sample:3  dec:3131751354  hex:0xBAAABBBA \n",
      "Window:0  Window Sample:4  dec:3131751355  hex:0xBAAABBBB <-- Trigger\n",
      "Window:0  Window Sample:5  dec:3131751356  hex:0xBAAABBBC \n",
      "Window:0  Window Sample:6  dec:3131751357  hex:0xBAAABBBD \n",
      "Window:0  Window Sample:7  dec:3131751358  hex:0xBAAABBBE \n"
     ]
    }
   ],
   "source": [
    "print_probe_values(my_ila.waveform, [counter_probe_name])"
   ]
  },
  {
   "cell_type": "code",
   "execution_count": null,
   "id": "f7540911",
   "metadata": {
    "papermill": {
     "duration": 0.014922,
     "end_time": "2023-10-24T22:09:19.581771",
     "exception": false,
     "start_time": "2023-10-24T22:09:19.566849",
     "status": "completed"
    },
    "tags": []
   },
   "outputs": [],
   "source": []
  }
 ],
 "metadata": {
  "jupytext": {
   "cell_metadata_filter": "-all",
   "main_language": "python",
   "notebook_metadata_filter": "-all"
  },
  "language_info": {
   "codemirror_mode": {
    "name": "ipython",
    "version": 3
   },
   "file_extension": ".py",
   "mimetype": "text/x-python",
   "name": "python",
   "nbconvert_exporter": "python",
   "pygments_lexer": "ipython3",
   "version": "3.10.10"
  },
  "papermill": {
   "default_parameters": {},
   "duration": 42.816664,
   "end_time": "2023-10-24T22:09:20.108417",
   "environment_variables": {},
   "exception": null,
   "input_path": "./chipscopy-examples/ila_and_vio/ila_advanced_trigger.ipynb",
   "output_path": "./chipscopy-examples/ila_and_vio/ila_advanced_trigger.ipynb",
   "parameters": {},
   "start_time": "2023-10-24T22:08:37.291753",
   "version": "2.4.0"
  },
  "widgets": {
   "application/vnd.jupyter.widget-state+json": {
    "state": {
     "52f4f31af47a4bb9abdc475123d4d00e": {
      "model_module": "@jupyter-widgets/base",
      "model_module_version": "2.0.0",
      "model_name": "LayoutModel",
      "state": {
       "_model_module": "@jupyter-widgets/base",
       "_model_module_version": "2.0.0",
       "_model_name": "LayoutModel",
       "_view_count": null,
       "_view_module": "@jupyter-widgets/base",
       "_view_module_version": "2.0.0",
       "_view_name": "LayoutView",
       "align_content": null,
       "align_items": null,
       "align_self": null,
       "border_bottom": null,
       "border_left": null,
       "border_right": null,
       "border_top": null,
       "bottom": null,
       "display": null,
       "flex": null,
       "flex_flow": null,
       "grid_area": null,
       "grid_auto_columns": null,
       "grid_auto_flow": null,
       "grid_auto_rows": null,
       "grid_column": null,
       "grid_gap": null,
       "grid_row": null,
       "grid_template_areas": null,
       "grid_template_columns": null,
       "grid_template_rows": null,
       "height": null,
       "justify_content": null,
       "justify_items": null,
       "left": null,
       "margin": null,
       "max_height": null,
       "max_width": null,
       "min_height": null,
       "min_width": null,
       "object_fit": null,
       "object_position": null,
       "order": null,
       "overflow": null,
       "padding": null,
       "right": null,
       "top": null,
       "visibility": null,
       "width": null
      }
     },
     "afd3ed6a1d2e4c47b13b20ce86b0ff34": {
      "model_module": "@jupyter-widgets/output",
      "model_module_version": "1.0.0",
      "model_name": "OutputModel",
      "state": {
       "_dom_classes": [],
       "_model_module": "@jupyter-widgets/output",
       "_model_module_version": "1.0.0",
       "_model_name": "OutputModel",
       "_view_count": null,
       "_view_module": "@jupyter-widgets/output",
       "_view_module_version": "1.0.0",
       "_view_name": "OutputView",
       "layout": "IPY_MODEL_52f4f31af47a4bb9abdc475123d4d00e",
       "msg_id": "",
       "outputs": [
        {
         "data": {
          "text/html": "<pre style=\"white-space:pre;overflow-x:auto;line-height:normal;font-family:Menlo,'DejaVu Sans Mono',consolas,'Courier New',monospace\">Device program progress <span style=\"color: #729c1f; text-decoration-color: #729c1f\">━━━━━━━━━━━━━━━━━━━━━━━━━━━━━━━━━━━━━━━━</span> <span style=\"color: #ff00ff; text-decoration-color: #ff00ff; font-weight: bold\">100%</span> <span style=\"color: #008000; text-decoration-color: #008000; font-weight: bold\">Done</span>\n</pre>\n",
          "text/plain": "Device program progress \u001b[38;2;114;156;31m━━━━━━━━━━━━━━━━━━━━━━━━━━━━━━━━━━━━━━━━\u001b[0m \u001b[1;95m100%\u001b[0m \u001b[1;32mDone\u001b[0m\n"
         },
         "metadata": {},
         "output_type": "display_data"
        }
       ],
       "tabbable": null,
       "tooltip": null
      }
     }
    },
    "version_major": 2,
    "version_minor": 0
   }
  }
 },
 "nbformat": 4,
 "nbformat_minor": 5
}