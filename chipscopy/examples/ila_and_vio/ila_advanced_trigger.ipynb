{
 "cells": [
  {
   "cell_type": "code",
   "execution_count": null,
   "metadata": {},
   "outputs": [],
   "source": [
    "# Copyright 2022 Xilinx, Inc.\n",
    "#\n",
    "# Licensed under the Apache License, Version 2.0 (the \"License\");\n",
    "# you may not use this file except in compliance with the License.\n",
    "# You may obtain a copy of the License at\n",
    "#\n",
    "#     http://www.apache.org/licenses/LICENSE-2.0\n",
    "#\n",
    "# Unless required by applicable law or agreed to in writing, software\n",
    "# distributed under the License is distributed on an \"AS IS\" BASIS,\n",
    "# WITHOUT WARRANTIES OR CONDITIONS OF ANY KIND, either express or implied.\n",
    "# See the License for the specific language governing permissions and\n",
    "# limitations under the License."
   ]
  },
  {
   "cell_type": "markdown",
   "metadata": {},
   "source": [
    "ILA Advanced Trigger Example\n",
    "========================="
   ]
  },
  {
   "cell_type": "markdown",
   "metadata": {},
   "source": [
    "Description\n",
    "-----------\n",
    "This demo shows how to use the ILA Advanced Trigger Mode.\n",
    "In this mode, the trigger setup is described in text using the ILA Trigger State Machine (TSM) language.\n",
    "See UG908 Vivado Design User Guide: Programming and Debugging, Appendix B \"Trigger State Machine Language Description\". \n",
    "\n",
    "\n",
    "Requirements\n",
    "------------\n",
    "The following is required to run this demo:\n",
    "1. Local or remote access to a Versal device\n",
    "2. 2022.2 cs_server and hw_server applications\n",
    "3. Python 3.8 environment\n",
    "4. A clone of the chipscopy git enterprise repository:\n",
    "   - https://gitenterprise.xilinx.com/chipscope/chipscopy\n",
    "\n",
    "---"
   ]
  },
  {
   "cell_type": "markdown",
   "metadata": {},
   "source": [
    "## Step 1 - Set up environment"
   ]
  },
  {
   "cell_type": "code",
   "execution_count": null,
   "metadata": {},
   "outputs": [],
   "source": [
    "import os\n",
    "from enum import Enum\n",
    "import chipscopy\n",
    "from chipscopy import create_session, get_design_files, null_callback, report_versions\n",
    "from chipscopy.api.ila import ILAStatus, ILAWaveform\n",
    "from io import StringIO\n",
    "from pprint import pformat"
   ]
  },
  {
   "cell_type": "code",
   "execution_count": null,
   "metadata": {},
   "outputs": [],
   "source": [
    "# Specify locations of the running hw_server and cs_server below.\n",
    "CS_URL = os.getenv(\"CS_SERVER_URL\", \"TCP:localhost:3042\")\n",
    "HW_URL = os.getenv(\"HW_SERVER_URL\", \"TCP:localhost:3121\")"
   ]
  },
  {
   "cell_type": "code",
   "execution_count": null,
   "metadata": {},
   "outputs": [],
   "source": [
    "design_files = get_design_files(\"vck190/production/chipscopy_ced\")\n",
    "PROGRAMMING_FILE = design_files.programming_file\n",
    "PROBES_FILE = design_files.probes_file\n",
    "assert os.path.isfile(PROGRAMMING_FILE)\n",
    "assert os.path.isfile(PROBES_FILE)"
   ]
  },
  {
   "cell_type": "code",
   "execution_count": null,
   "metadata": {},
   "outputs": [],
   "source": [
    "print(f\"HW_URL={HW_URL}\")\n",
    "print(f\"CS_URL={CS_URL}\")\n",
    "print(f\"PDI={PROGRAMMING_FILE}\")\n",
    "print(f\"LTX={PROBES_FILE}\")"
   ]
  },
  {
   "cell_type": "markdown",
   "metadata": {},
   "source": [
    "## Step 2 - Create a session and connect to the server(s)\n",
    "Here we create a new session and print out some versioning information for diagnostic purposes.\n",
    "The session is a container that keeps track of devices and debug cores."
   ]
  },
  {
   "cell_type": "code",
   "execution_count": null,
   "metadata": {},
   "outputs": [],
   "source": [
    "print(f\"Using chipscopy api version: {chipscopy.__version__}\")\n",
    "session = create_session(cs_server_url=CS_URL, hw_server_url=HW_URL)\n",
    "report_versions(session)"
   ]
  },
  {
   "cell_type": "markdown",
   "metadata": {},
   "source": [
    "## Step 3 - Get our device from the session"
   ]
  },
  {
   "cell_type": "code",
   "execution_count": null,
   "metadata": {},
   "outputs": [],
   "source": [
    "# Use the first available device and setup its debug cores\n",
    "if len(session.devices) == 0:\n",
    "    raise ValueError(\"No devices detected\")\n",
    "print(f\"Device count: {len(session.devices)}\")\n",
    "versal_device = session.devices.get(family=\"versal\")"
   ]
  },
  {
   "cell_type": "markdown",
   "metadata": {},
   "source": [
    "## Step 4 - Program the device with our example programming file"
   ]
  },
  {
   "cell_type": "code",
   "execution_count": null,
   "metadata": {},
   "outputs": [],
   "source": [
    "print(f\"Programming {PROGRAMMING_FILE}...\")\n",
    "versal_device.program(PROGRAMMING_FILE)"
   ]
  },
  {
   "cell_type": "markdown",
   "metadata": {},
   "source": [
    "## Step 5 - Detect Debug Cores"
   ]
  },
  {
   "cell_type": "code",
   "execution_count": null,
   "metadata": {},
   "outputs": [],
   "source": [
    "print(f\"Discovering debug cores...\")\n",
    "versal_device.discover_and_setup_cores(ltx_file=PROBES_FILE)"
   ]
  },
  {
   "cell_type": "code",
   "execution_count": null,
   "metadata": {},
   "outputs": [],
   "source": [
    "ila_count = len(versal_device.ila_cores)\n",
    "print(f\"\\nFound {ila_count} ILA cores in design\")"
   ]
  },
  {
   "cell_type": "code",
   "execution_count": null,
   "metadata": {},
   "outputs": [],
   "source": [
    "if ila_count == 0:\n",
    "    print(\"No ILA core found! Exiting...\")\n",
    "    raise ValueError(\"No ILA cores detected\")"
   ]
  },
  {
   "cell_type": "code",
   "execution_count": null,
   "metadata": {},
   "outputs": [],
   "source": [
    "# List all detected ILA Cores\n",
    "ila_cores = versal_device.ila_cores\n",
    "for index, ila_core in enumerate(ila_cores):\n",
    "    print(f\"    ILA Core #{index}: NAME={ila_core.name}, UUID={ila_core.core_info.uuid}\")"
   ]
  },
  {
   "cell_type": "code",
   "execution_count": null,
   "metadata": {},
   "outputs": [],
   "source": [
    "# Get the ILA cores matching a given name. filter_by returns a list, even if just one item is present.\n",
    "my_ila = versal_device.ila_cores.filter_by(name=\"chipscopy_i/counters/ila_slow_counter_0\")[0]\n",
    "\n",
    "print(f\"USING ILA: {my_ila.name}\")"
   ]
  },
  {
   "cell_type": "markdown",
   "metadata": {},
   "source": [
    "## Step 6 - Get Information for this ILA Core\n",
    "Note:\n",
    "- 'has_advanced_trigger' is True. This ILA supports the advanced trigger feature.\n",
    "- 'tsm_counter_widths' shows 4 counters of bit width 16."
   ]
  },
  {
   "cell_type": "code",
   "execution_count": null,
   "metadata": {
    "lines_to_next_cell": 2
   },
   "outputs": [],
   "source": [
    "print(\"\\nILA Name:\", my_ila.name)\n",
    "print(\"\\nILA Core Info\", my_ila.core_info)\n",
    "print(\"\\nILA Static Info\", my_ila.static_info)"
   ]
  },
  {
   "cell_type": "markdown",
   "metadata": {},
   "source": [
    "## Step 7 -  Trigger Immediately using Advanced Trigger Mode\n",
    "\n",
    "Trigger State Machine trigger descriptions may be in a text file, or in a io.StringIO object.\n",
    "Some of the ILA status information applies only to Advanced Trigger Mode:\n",
    "- tsm_counters\n",
    "- tsm_flags\n",
    "- tsm_state\n",
    "- tsm_state_name"
   ]
  },
  {
   "cell_type": "code",
   "execution_count": null,
   "metadata": {},
   "outputs": [],
   "source": [
    "TRIGGER_NOW_TSM = StringIO(\n",
    "\"\"\"\n",
    "    state my_state0:\n",
    "        trigger;\n",
    "\"\"\"\n",
    ")\n",
    "\n",
    "# Note, if the TSM text is in a file, you can give the file path string as the first argument.\n",
    "my_ila.run_advanced_trigger(TRIGGER_NOW_TSM, trigger_position=0, window_count=1, window_size=8)\n",
    "\n",
    "\n",
    "my_ila.refresh_status()\n",
    "print(\"\\nILA Status:\\n\")\n",
    "print(\"Trigger State Machine counter values:      \", my_ila.status.tsm_counters)\n",
    "print(\"Trigger State Machine flags:               \", my_ila.status.tsm_flags)\n",
    "print(\"Trigger State Machine current state index: \", my_ila.status.tsm_state)\n",
    "print(\"Trigger State Machine current state name : \", my_ila.status.tsm_state_name)"
   ]
  },
  {
   "cell_type": "markdown",
   "metadata": {},
   "source": [
    "## Step 8 - Upload Captured Waveform\n",
    "Wait at most half a minutes, for ILA to trigger and capture data."
   ]
  },
  {
   "cell_type": "code",
   "execution_count": null,
   "metadata": {},
   "outputs": [],
   "source": [
    "my_ila.wait_till_done(max_wait_minutes=0.5)\n",
    "my_ila.upload()\n",
    "if not my_ila.waveform:\n",
    "    print(\"\\nUpload failed!\")"
   ]
  },
  {
   "cell_type": "markdown",
   "metadata": {},
   "source": [
    "## Step 9 - Print samples for probe 'chipscopy_i/counters/slow_counter_0_Q_1'. \n",
    "\n",
    "Using the function ILAWaveform.get_data(), the waveform data is put into a sorted dict.\n",
    "First 4 entries in sorting order are: trigger, sample index, window index, window sample index.\n",
    "Then comes probe values. In this case just one probe."
   ]
  },
  {
   "cell_type": "code",
   "execution_count": null,
   "metadata": {
    "lines_to_next_cell": 2
   },
   "outputs": [],
   "source": [
    "counter_probe_name = 'chipscopy_i/counters/slow_counter_0_Q_1'\n",
    "\n",
    "def print_probe_values(waveform: ILAWaveform, probe_names: [str]):\n",
    "    samples = waveform.get_data(\n",
    "        probe_names,\n",
    "        include_trigger=True,\n",
    "        include_sample_info=True,\n",
    "    )\n",
    "    for trigger, sample_index, window_index, window_sample_index, value in zip(*samples.values()):\n",
    "        trigger = \"<-- Trigger\" if trigger else \"\"\n",
    "        print(\n",
    "            f\"Window:{window_index}  Window Sample:{window_sample_index}  dec:{value:10}  hex:0x{value:08X} {trigger}\"\n",
    "        )\n",
    "\n",
    "print_probe_values(my_ila.waveform, [counter_probe_name])"
   ]
  },
  {
   "cell_type": "markdown",
   "metadata": {},
   "source": [
    "## Step 10 - Check if TSM is Valid\n",
    "- The TSM below has undefined probe names and undefined states.\n",
    "- Use \"compile_only=True\" argument when just checking if the TSM text is valid.\n",
    "- The run_advanced_trigger() function returns a tuple with 2 values: \"error_count\" and \"error_message\"."
   ]
  },
  {
   "cell_type": "code",
   "execution_count": null,
   "metadata": {},
   "outputs": [],
   "source": [
    "TSM_WITH_ERRORS = StringIO(\n",
    "    \"\"\"\n",
    "    state state_a:\n",
    "      if (chipscopy_ex_i/counters/slow_counter_0_Q_1 == 32'hXX33_0000 &&\n",
    "          chipscopy_i/counters/slow_sine_Dout >= 'habcd) then\n",
    "        trigger;\n",
    "      elseif (chipscopy_i/counters/slow_sine_Dout >= 'habcd) then\n",
    "        reset_counter $counter0;\n",
    "        goto state_2;\n",
    "      else\n",
    "        reset_counter $counter1;\n",
    "        goto state_3;\n",
    "      endif\n",
    "    state state_b:\n",
    "      if (chipscopy_i/counters23/slow_counter_0_Q_1 == 32'h3333_0000) then\n",
    "        trigger;\n",
    "      else\n",
    "        reset_counter $counter3;\n",
    "        goto state_2;\n",
    "      endif\n",
    "    state state_c:\n",
    "      goto state_3;\n",
    "    \"\"\"\n",
    ")\n",
    "\n",
    "# Check the TSM text for errors, using \"compile_only=True\n",
    "#\n",
    "error_count, error_message = my_ila.run_advanced_trigger(TSM_WITH_ERRORS, compile_only=True)\n",
    "print(f'\\n\\nThe Advanced Trigger State machine \"TSM_WITH_ERRORS\" has {error_count} error(s).'\n",
    "      f'\\n\\n{error_message}')"
   ]
  },
  {
   "cell_type": "markdown",
   "metadata": {},
   "source": [
    "## Step 11 - Define a Status Progress Monitor Function\n",
    "Monitor TSM specific status, when ILA capture is active."
   ]
  },
  {
   "cell_type": "code",
   "execution_count": null,
   "metadata": {},
   "outputs": [],
   "source": [
    "def status_progress(future):\n",
    "    \"\"\"Called in Event Thread\"\"\"\n",
    "    st = future.progress\n",
    "\n",
    "    if st.is_full:\n",
    "        print(f\"\\nAll data has been captured.\")\n",
    "    else:\n",
    "        print(f\"State: {st.tsm_state_name}   Counters: {st.tsm_counters}    Flags: {st.tsm_flags}\")       "
   ]
  },
  {
   "cell_type": "markdown",
   "metadata": {},
   "source": [
    "## Step 12 - Run Trigger State Machine with Flags and Counters\n",
    "In STATE_A:\n",
    "- Remain in STATE_A until hex value ending with \"33_0000\", has occurred 8 times (counter values 0-7).\n",
    "- Set \\$flag0\n",
    "- Go to state STATE_B\n",
    "\n",
    "In STATE_B:\n",
    "- Count hex value ending with \"AAA_BBBB\" 10 times (counter values 0-9).\n",
    "- Then set \\$flag1 and trigger."
   ]
  },
  {
   "cell_type": "code",
   "execution_count": null,
   "metadata": {},
   "outputs": [],
   "source": [
    "TSM_FLAGS_COUNTERS = StringIO(\n",
    "    f\"\"\"\n",
    "    state STATE_A:\n",
    "        if ( {counter_probe_name} == 32'hxx33_0000 && $counter0 == 'u7) then\n",
    "            set_flag $flag0;\n",
    "            goto STATE_B;\n",
    "        elseif ( {counter_probe_name} == 32'hxx33_0000) then\n",
    "            increment_counter $counter0;\n",
    "            goto STATE_A;\n",
    "        else\n",
    "            goto STATE_A;\n",
    "      endif\n",
    "      \n",
    "    state STATE_B:\n",
    "        if ( {counter_probe_name} == 32'hxAAA_BBBB && $counter1 == 'u9) then\n",
    "            set_flag $flag1;\n",
    "            trigger;\n",
    "        elseif ( {counter_probe_name} == 32'hxAAA_BBBB) then\n",
    "            increment_counter $counter1;\n",
    "            goto STATE_B;\n",
    "        else\n",
    "            goto STATE_B;\n",
    "      endif\n",
    "      \n",
    "\"\"\"\n",
    ")\n",
    "\n",
    "my_ila.run_advanced_trigger(TSM_FLAGS_COUNTERS, window_size=8)\n",
    "\n",
    "future = my_ila.monitor_status(max_wait_minutes=1.0, progress=status_progress, done=chipscopy.null_callback)\n",
    "\n",
    "# future.result is blocking, until monitor_status() function has completed or timed-out or been cancelled.\n",
    "# Meanwhile, the status_progress() function is called twice per second to print out status.\n",
    "status = future.result\n",
    "print(f\"\\nCounters: {status.tsm_counters}    Flags: {status.tsm_flags}\")"
   ]
  },
  {
   "cell_type": "markdown",
   "metadata": {},
   "source": [
    "## Step 13 - Upload Captured Waveform"
   ]
  },
  {
   "cell_type": "code",
   "execution_count": null,
   "metadata": {},
   "outputs": [],
   "source": [
    "my_ila.upload()\n",
    "if not my_ila.waveform:\n",
    "    print(\"\\nUpload failed!\")"
   ]
  },
  {
   "cell_type": "markdown",
   "metadata": {},
   "source": [
    "## Step 14 - Print samples for probe 'chipscopy_i/counters/slow_counter_0_Q_1'. "
   ]
  },
  {
   "cell_type": "code",
   "execution_count": null,
   "metadata": {},
   "outputs": [],
   "source": [
    "print_probe_values(my_ila.waveform, [counter_probe_name])"
   ]
  },
  {
   "cell_type": "code",
   "execution_count": null,
   "metadata": {},
   "outputs": [],
   "source": []
  }
 ],
 "metadata": {
  "jupytext": {
   "text_representation": {
    "extension": ".py",
    "format_name": "percent",
    "format_version": "1.3",
    "jupytext_version": "1.6.0"
   }
  },
  "kernelspec": {
   "display_name": "Python 3 (ipykernel)",
   "language": "python",
   "name": "python3"
  },
  "language_info": {
   "codemirror_mode": {
    "name": "ipython",
    "version": 3
   },
   "file_extension": ".py",
   "mimetype": "text/x-python",
   "name": "python",
   "nbconvert_exporter": "python",
   "pygments_lexer": "ipython3",
   "version": "3.8.10"
  }
 },
 "nbformat": 4,
 "nbformat_minor": 4
}
