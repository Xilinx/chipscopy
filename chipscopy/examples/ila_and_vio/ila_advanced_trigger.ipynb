{
 "cells": [
  {
   "cell_type": "markdown",
   "id": "783a4620",
   "metadata": {
    "papermill": {
     "duration": 0.006585,
     "end_time": "2023-06-07T20:53:05.294467",
     "exception": false,
     "start_time": "2023-06-07T20:53:05.287882",
     "status": "completed"
    },
    "tags": []
   },
   "source": [
    "<link rel=\"preconnect\" href=\"https://fonts.gstatic.com\">\n",
    "<link href=\"https://fonts.googleapis.com/css2?family=Fira+Code&display=swap\" rel=\"stylesheet\">\n",
    "\n",
    "### License\n",
    "\n",
    "<p style=\"font-family: 'Fira Code', monospace; font-size: 1.2rem\">\n",
    "Copyright (c) 2021-2022 Xilinx, Inc.<br>\n",
    "Copyright (c) 2022-2023 Advanced Micro Devices, Inc.<br><br>\n",
    "Licensed under the Apache License, Version 2.0 (the \"License\");<br>\n",
    "you may not use this file except in compliance with the License.<br><br>\n",
    "You may obtain a copy of the License at <a href=\"http://www.apache.org/licenses/LICENSE-2.0\"?>http://www.apache.org/licenses/LICENSE-2.0</a><br><br>\n",
    "Unless required by applicable law or agreed to in writing, software<br>\n",
    "distributed under the License is distributed on an \"AS IS\" BASIS,<br>\n",
    "WITHOUT WARRANTIES OR CONDITIONS OF ANY KIND, either express or implied.<br>\n",
    "See the License for the specific language governing permissions and<br>\n",
    "limitations under the License.<br>\n",
    "</p>\n"
   ]
  },
  {
   "cell_type": "markdown",
   "id": "0ef7d405",
   "metadata": {
    "papermill": {
     "duration": 0.005077,
     "end_time": "2023-06-07T20:53:05.305373",
     "exception": false,
     "start_time": "2023-06-07T20:53:05.300296",
     "status": "completed"
    },
    "tags": []
   },
   "source": [
    "ILA Advanced Trigger Example\n",
    "========================="
   ]
  },
  {
   "cell_type": "markdown",
   "id": "936e9da7",
   "metadata": {
    "papermill": {
     "duration": 0.004813,
     "end_time": "2023-06-07T20:53:05.315104",
     "exception": false,
     "start_time": "2023-06-07T20:53:05.310291",
     "status": "completed"
    },
    "tags": []
   },
   "source": [
    "Description\n",
    "-----------\n",
    "This demo shows how to use the ILA Advanced Trigger Mode.\n",
    "In this mode, the trigger setup is described in text using the ILA Trigger State Machine (TSM) language.\n",
    "See UG908 Vivado Design User Guide: Programming and Debugging, Appendix B \"Trigger State Machine Language Description\". \n",
    "\n",
    "\n",
    "Requirements\n",
    "------------\n",
    "The following is required to run this demo:\n",
    "1. Local or remote access to a Versal device\n",
    "2. 2022.2 cs_server and hw_server applications\n",
    "3. Python 3.8 environment\n",
    "4. A clone of the chipscopy git enterprise repository:\n",
    "   - https://gitenterprise.xilinx.com/chipscope/chipscopy\n",
    "\n",
    "---"
   ]
  },
  {
   "cell_type": "markdown",
   "id": "15cbb172",
   "metadata": {
    "papermill": {
     "duration": 0.004828,
     "end_time": "2023-06-07T20:53:05.324835",
     "exception": false,
     "start_time": "2023-06-07T20:53:05.320007",
     "status": "completed"
    },
    "tags": []
   },
   "source": [
    "## Step 1 - Set up environment"
   ]
  },
  {
   "cell_type": "code",
   "execution_count": 1,
   "id": "49ca8905",
   "metadata": {
    "execution": {
     "iopub.execute_input": "2023-06-07T20:53:05.343501Z",
     "iopub.status.busy": "2023-06-07T20:53:05.342919Z",
     "iopub.status.idle": "2023-06-07T20:53:05.683860Z",
     "shell.execute_reply": "2023-06-07T20:53:05.683363Z"
    },
    "papermill": {
     "duration": 0.354278,
     "end_time": "2023-06-07T20:53:05.683989",
     "exception": false,
     "start_time": "2023-06-07T20:53:05.329711",
     "status": "completed"
    },
    "tags": []
   },
   "outputs": [],
   "source": [
    "import os\n",
    "from enum import Enum\n",
    "import chipscopy\n",
    "from chipscopy import create_session, get_design_files, null_callback, report_versions\n",
    "from chipscopy.api.ila import ILAStatus, ILAWaveform\n",
    "from io import StringIO\n",
    "from pprint import pformat"
   ]
  },
  {
   "cell_type": "code",
   "execution_count": 2,
   "id": "9b516796",
   "metadata": {
    "execution": {
     "iopub.execute_input": "2023-06-07T20:53:05.698870Z",
     "iopub.status.busy": "2023-06-07T20:53:05.698525Z",
     "iopub.status.idle": "2023-06-07T20:53:05.701255Z",
     "shell.execute_reply": "2023-06-07T20:53:05.700936Z"
    },
    "papermill": {
     "duration": 0.011312,
     "end_time": "2023-06-07T20:53:05.701336",
     "exception": false,
     "start_time": "2023-06-07T20:53:05.690024",
     "status": "completed"
    },
    "tags": []
   },
   "outputs": [],
   "source": [
    "# Specify locations of the running hw_server and cs_server below.\n",
    "CS_URL = os.getenv(\"CS_SERVER_URL\", \"TCP:localhost:3042\")\n",
    "HW_URL = os.getenv(\"HW_SERVER_URL\", \"TCP:localhost:3121\")"
   ]
  },
  {
   "cell_type": "code",
   "execution_count": 3,
   "id": "7d0b67e3",
   "metadata": {
    "execution": {
     "iopub.execute_input": "2023-06-07T20:53:05.714934Z",
     "iopub.status.busy": "2023-06-07T20:53:05.714588Z",
     "iopub.status.idle": "2023-06-07T20:53:05.717437Z",
     "shell.execute_reply": "2023-06-07T20:53:05.717041Z"
    },
    "papermill": {
     "duration": 0.01079,
     "end_time": "2023-06-07T20:53:05.717517",
     "exception": false,
     "start_time": "2023-06-07T20:53:05.706727",
     "status": "completed"
    },
    "tags": []
   },
   "outputs": [],
   "source": [
    "design_files = get_design_files(\"vck190/production/chipscopy_ced\")\n",
    "PROGRAMMING_FILE = design_files.programming_file\n",
    "PROBES_FILE = design_files.probes_file\n",
    "assert os.path.isfile(PROGRAMMING_FILE)\n",
    "assert os.path.isfile(PROBES_FILE)"
   ]
  },
  {
   "cell_type": "code",
   "execution_count": 4,
   "id": "afbb5494",
   "metadata": {
    "execution": {
     "iopub.execute_input": "2023-06-07T20:53:05.730035Z",
     "iopub.status.busy": "2023-06-07T20:53:05.729705Z",
     "iopub.status.idle": "2023-06-07T20:53:05.732863Z",
     "shell.execute_reply": "2023-06-07T20:53:05.732486Z"
    },
    "papermill": {
     "duration": 0.010282,
     "end_time": "2023-06-07T20:53:05.732932",
     "exception": false,
     "start_time": "2023-06-07T20:53:05.722650",
     "status": "completed"
    },
    "tags": []
   },
   "outputs": [
    {
     "name": "stdout",
     "output_type": "stream",
     "text": [
      "HW_URL=TCP:localhost:3121\n",
      "CS_URL=TCP:localhost:3042\n",
      "PDI=/scratch/chipscopy/chipscopy/examples/designs/vck190/production/chipscopy_ced/chipscopy_wrapper.pdi\n",
      "LTX=/scratch/chipscopy/chipscopy/examples/designs/vck190/production/chipscopy_ced/chipscopy_wrapper.ltx\n"
     ]
    }
   ],
   "source": [
    "print(f\"HW_URL={HW_URL}\")\n",
    "print(f\"CS_URL={CS_URL}\")\n",
    "print(f\"PDI={PROGRAMMING_FILE}\")\n",
    "print(f\"LTX={PROBES_FILE}\")"
   ]
  },
  {
   "cell_type": "markdown",
   "id": "0def7259",
   "metadata": {
    "papermill": {
     "duration": 0.004874,
     "end_time": "2023-06-07T20:53:05.743248",
     "exception": false,
     "start_time": "2023-06-07T20:53:05.738374",
     "status": "completed"
    },
    "tags": []
   },
   "source": [
    "## Step 2 - Create a session and connect to the server(s)\n",
    "Here we create a new session and print out some versioning information for diagnostic purposes.\n",
    "The session is a container that keeps track of devices and debug cores."
   ]
  },
  {
   "cell_type": "code",
   "execution_count": 5,
   "id": "e2d2e1a3",
   "metadata": {
    "execution": {
     "iopub.execute_input": "2023-06-07T20:53:05.756309Z",
     "iopub.status.busy": "2023-06-07T20:53:05.755949Z",
     "iopub.status.idle": "2023-06-07T20:53:06.682996Z",
     "shell.execute_reply": "2023-06-07T20:53:06.682496Z"
    },
    "papermill": {
     "duration": 0.93485,
     "end_time": "2023-06-07T20:53:06.683102",
     "exception": false,
     "start_time": "2023-06-07T20:53:05.748252",
     "status": "completed"
    },
    "tags": []
   },
   "outputs": [
    {
     "name": "stdout",
     "output_type": "stream",
     "text": [
      "Using chipscopy api version: 2023.1.1685656083\n"
     ]
    },
    {
     "data": {
      "text/html": [
       "<pre style=\"white-space:pre;overflow-x:auto;line-height:normal;font-family:Menlo,'DejaVu Sans Mono',consolas,'Courier New',monospace\">\n",
       "\n",
       "</pre>\n"
      ],
      "text/plain": [
       "<rich.jupyter.JupyterRenderable at 0x7f39bcc09f10>"
      ]
     },
     "metadata": {},
     "output_type": "display_data"
    },
    {
     "data": {
      "text/html": [
       "<pre style=\"white-space:pre;overflow-x:auto;line-height:normal;font-family:Menlo,'DejaVu Sans Mono',consolas,'Courier New',monospace\"><span style=\"font-style: italic\">                      ChipScoPy Version Information                      </span>\n",
       "┌────────────────────────────┬──────────────────────────────────────────┐\n",
       "│<span style=\"font-weight: bold\">                     Entity </span>│<span style=\"font-weight: bold\"> Version                                  </span>│\n",
       "├────────────────────────────┼──────────────────────────────────────────┤\n",
       "│                  ChipScoPy │ ┌───────────┬──────────────────────┐     │\n",
       "│                            │ │<span style=\"font-weight: bold\"> Attribute </span>│<span style=\"font-weight: bold\"> Value                </span>│     │\n",
       "│                            │ ├───────────┼──────────────────────┤     │\n",
       "│                            │ │     Build │ 2023.1.1685656083    │     │\n",
       "│                            │ │ Timestamp │ Jun 01 2023-15:48:03 │     │\n",
       "│                            │ └───────────┴──────────────────────┘     │\n",
       "│                            │                                          │\n",
       "│ hw_server @ localhost:3121 │ ┌───────────┬──────────────────────────┐ │\n",
       "│                            │ │<span style=\"font-weight: bold\"> Attribute </span>│<span style=\"font-weight: bold\"> Value                    </span>│ │\n",
       "│                            │ ├───────────┼──────────────────────────┤ │\n",
       "│                            │ │    Status │ Connected                │ │\n",
       "│                            │ │     Build │ 1683493450               │ │\n",
       "│                            │ │   Version │ 2023.1                   │ │\n",
       "│                            │ │ Timestamp │ Sun May  7 15:04:10 2023 │ │\n",
       "│                            │ └───────────┴──────────────────────────┘ │\n",
       "│                            │                                          │\n",
       "│ cs_server @ localhost:3042 │ ┌───────────────┬──────────────────────┐ │\n",
       "│                            │ │<span style=\"font-weight: bold\">     Attribute </span>│<span style=\"font-weight: bold\"> Value                </span>│ │\n",
       "│                            │ ├───────────────┼──────────────────────┤ │\n",
       "│                            │ │        Status │ Connected            │ │\n",
       "│                            │ │         Build │ 1681142364           │ │\n",
       "│                            │ │       Version │ 2023.1.0             │ │\n",
       "│                            │ │     Timestamp │ Apr 10 2023-09:59:24 │ │\n",
       "│                            │ │       Package │ 2023.1.1681142364    │ │\n",
       "│                            │ │ Artifact type │ pyinstaller          │ │\n",
       "│                            │ └───────────────┴──────────────────────┘ │\n",
       "└────────────────────────────┴──────────────────────────────────────────┘\n",
       "</pre>\n"
      ],
      "text/plain": [
       "<rich.jupyter.JupyterRenderable at 0x7f39bef30220>"
      ]
     },
     "metadata": {},
     "output_type": "display_data"
    },
    {
     "data": {
      "text/html": [
       "<pre style=\"white-space:pre;overflow-x:auto;line-height:normal;font-family:Menlo,'DejaVu Sans Mono',consolas,'Courier New',monospace\">\n",
       "\n",
       "</pre>\n"
      ],
      "text/plain": [
       "<rich.jupyter.JupyterRenderable at 0x7f39f855a0d0>"
      ]
     },
     "metadata": {},
     "output_type": "display_data"
    }
   ],
   "source": [
    "print(f\"Using chipscopy api version: {chipscopy.__version__}\")\n",
    "session = create_session(cs_server_url=CS_URL, hw_server_url=HW_URL)\n",
    "report_versions(session)"
   ]
  },
  {
   "cell_type": "markdown",
   "id": "e34e9163",
   "metadata": {
    "papermill": {
     "duration": 0.0056,
     "end_time": "2023-06-07T20:53:06.695399",
     "exception": false,
     "start_time": "2023-06-07T20:53:06.689799",
     "status": "completed"
    },
    "tags": []
   },
   "source": [
    "## Step 3 - Get our device from the session"
   ]
  },
  {
   "cell_type": "code",
   "execution_count": 6,
   "id": "f3763f6a",
   "metadata": {
    "execution": {
     "iopub.execute_input": "2023-06-07T20:53:06.711996Z",
     "iopub.status.busy": "2023-06-07T20:53:06.711619Z",
     "iopub.status.idle": "2023-06-07T20:53:07.057125Z",
     "shell.execute_reply": "2023-06-07T20:53:07.057534Z"
    },
    "papermill": {
     "duration": 0.356562,
     "end_time": "2023-06-07T20:53:07.057725",
     "exception": false,
     "start_time": "2023-06-07T20:53:06.701163",
     "status": "completed"
    },
    "tags": []
   },
   "outputs": [
    {
     "name": "stdout",
     "output_type": "stream",
     "text": [
      "Device count: 1\n"
     ]
    }
   ],
   "source": [
    "# Use the first available device and setup its debug cores\n",
    "if len(session.devices) == 0:\n",
    "    raise ValueError(\"No devices detected\")\n",
    "print(f\"Device count: {len(session.devices)}\")\n",
    "versal_device = session.devices.get(family=\"versal\")"
   ]
  },
  {
   "cell_type": "markdown",
   "id": "cb7fa3a6",
   "metadata": {
    "papermill": {
     "duration": 0.005457,
     "end_time": "2023-06-07T20:53:07.069992",
     "exception": false,
     "start_time": "2023-06-07T20:53:07.064535",
     "status": "completed"
    },
    "tags": []
   },
   "source": [
    "## Step 4 - Program the device with our example programming file"
   ]
  },
  {
   "cell_type": "code",
   "execution_count": 7,
   "id": "e1288d51",
   "metadata": {
    "execution": {
     "iopub.execute_input": "2023-06-07T20:53:07.088064Z",
     "iopub.status.busy": "2023-06-07T20:53:07.086792Z",
     "iopub.status.idle": "2023-06-07T20:53:12.361413Z",
     "shell.execute_reply": "2023-06-07T20:53:12.361086Z"
    },
    "papermill": {
     "duration": 5.285838,
     "end_time": "2023-06-07T20:53:12.361516",
     "exception": false,
     "start_time": "2023-06-07T20:53:07.075678",
     "status": "completed"
    },
    "tags": []
   },
   "outputs": [
    {
     "name": "stdout",
     "output_type": "stream",
     "text": [
      "Programming /scratch/chipscopy/chipscopy/examples/designs/vck190/production/chipscopy_ced/chipscopy_wrapper.pdi...\n"
     ]
    },
    {
     "data": {
      "text/html": [
       "<pre style=\"white-space:pre;overflow-x:auto;line-height:normal;font-family:Menlo,'DejaVu Sans Mono',consolas,'Courier New',monospace\">\n",
       "<span style=\"font-weight: bold\">--&gt; INFO: </span>Programming device with: /scratch/chipscopy/chipscopy/examples/designs/vck190/produ\n",
       "ction/chipscopy_ced/chipscopy_wrapper.pdi\n",
       "    \n",
       "</pre>\n"
      ],
      "text/plain": [
       "<rich.jupyter.JupyterRenderable at 0x7f39f855ac40>"
      ]
     },
     "metadata": {},
     "output_type": "display_data"
    },
    {
     "data": {
      "application/vnd.jupyter.widget-view+json": {
       "model_id": "e091360230a043d5a6b374ee15af498c",
       "version_major": 2,
       "version_minor": 0
      },
      "text/plain": [
       "Output()"
      ]
     },
     "metadata": {},
     "output_type": "display_data"
    }
   ],
   "source": [
    "print(f\"Programming {PROGRAMMING_FILE}...\")\n",
    "versal_device.program(PROGRAMMING_FILE)"
   ]
  },
  {
   "cell_type": "markdown",
   "id": "410aa54e",
   "metadata": {
    "papermill": {
     "duration": 0.00557,
     "end_time": "2023-06-07T20:53:12.374128",
     "exception": false,
     "start_time": "2023-06-07T20:53:12.368558",
     "status": "completed"
    },
    "tags": []
   },
   "source": [
    "## Step 5 - Detect Debug Cores"
   ]
  },
  {
   "cell_type": "code",
   "execution_count": 8,
   "id": "f8211fdf",
   "metadata": {
    "execution": {
     "iopub.execute_input": "2023-06-07T20:53:12.755495Z",
     "iopub.status.busy": "2023-06-07T20:53:12.755113Z",
     "iopub.status.idle": "2023-06-07T20:53:12.870424Z",
     "shell.execute_reply": "2023-06-07T20:53:12.870097Z"
    },
    "papermill": {
     "duration": 0.490627,
     "end_time": "2023-06-07T20:53:12.870530",
     "exception": false,
     "start_time": "2023-06-07T20:53:12.379903",
     "status": "completed"
    },
    "tags": []
   },
   "outputs": [
    {
     "name": "stdout",
     "output_type": "stream",
     "text": [
      "Discovering debug cores...\n"
     ]
    }
   ],
   "source": [
    "print(f\"Discovering debug cores...\")\n",
    "versal_device.discover_and_setup_cores(ltx_file=PROBES_FILE)"
   ]
  },
  {
   "cell_type": "code",
   "execution_count": 9,
   "id": "478b4e48",
   "metadata": {
    "execution": {
     "iopub.execute_input": "2023-06-07T20:53:12.889134Z",
     "iopub.status.busy": "2023-06-07T20:53:12.888149Z",
     "iopub.status.idle": "2023-06-07T20:53:15.393844Z",
     "shell.execute_reply": "2023-06-07T20:53:15.393531Z"
    },
    "papermill": {
     "duration": 2.516872,
     "end_time": "2023-06-07T20:53:15.393942",
     "exception": false,
     "start_time": "2023-06-07T20:53:12.877070",
     "status": "completed"
    },
    "tags": []
   },
   "outputs": [
    {
     "name": "stdout",
     "output_type": "stream",
     "text": [
      "\n",
      "Found 3 ILA cores in design\n"
     ]
    }
   ],
   "source": [
    "ila_count = len(versal_device.ila_cores)\n",
    "print(f\"\\nFound {ila_count} ILA cores in design\")"
   ]
  },
  {
   "cell_type": "code",
   "execution_count": 10,
   "id": "a4ffd250",
   "metadata": {
    "execution": {
     "iopub.execute_input": "2023-06-07T20:53:15.410424Z",
     "iopub.status.busy": "2023-06-07T20:53:15.410097Z",
     "iopub.status.idle": "2023-06-07T20:53:15.412370Z",
     "shell.execute_reply": "2023-06-07T20:53:15.412032Z"
    },
    "papermill": {
     "duration": 0.012122,
     "end_time": "2023-06-07T20:53:15.412438",
     "exception": false,
     "start_time": "2023-06-07T20:53:15.400316",
     "status": "completed"
    },
    "tags": []
   },
   "outputs": [],
   "source": [
    "if ila_count == 0:\n",
    "    print(\"No ILA core found! Exiting...\")\n",
    "    raise ValueError(\"No ILA cores detected\")"
   ]
  },
  {
   "cell_type": "code",
   "execution_count": 11,
   "id": "96dab488",
   "metadata": {
    "execution": {
     "iopub.execute_input": "2023-06-07T20:53:15.435905Z",
     "iopub.status.busy": "2023-06-07T20:53:15.435573Z",
     "iopub.status.idle": "2023-06-07T20:53:15.438893Z",
     "shell.execute_reply": "2023-06-07T20:53:15.438556Z"
    },
    "papermill": {
     "duration": 0.020919,
     "end_time": "2023-06-07T20:53:15.438960",
     "exception": false,
     "start_time": "2023-06-07T20:53:15.418041",
     "status": "completed"
    },
    "tags": []
   },
   "outputs": [
    {
     "name": "stdout",
     "output_type": "stream",
     "text": [
      "    ILA Core #0: NAME=chipscopy_i/counters/ila_fast_counter_0, UUID=D62FB110F1A25D439EB15D9149F450CE\n",
      "    ILA Core #1: NAME=chipscopy_i/counters/ila_slow_counter_0, UUID=9125D1429AD25223AECDD656C2856755\n",
      "    ILA Core #2: NAME=chipscopy_i/noc_tg_bc/noc_bc_axis_ila_0, UUID=C53C0D3572B655B6A8A13A86686D262D\n"
     ]
    }
   ],
   "source": [
    "# List all detected ILA Cores\n",
    "ila_cores = versal_device.ila_cores\n",
    "for index, ila_core in enumerate(ila_cores):\n",
    "    print(f\"    ILA Core #{index}: NAME={ila_core.name}, UUID={ila_core.core_info.uuid}\")"
   ]
  },
  {
   "cell_type": "code",
   "execution_count": 12,
   "id": "d151461c",
   "metadata": {
    "execution": {
     "iopub.execute_input": "2023-06-07T20:53:15.456306Z",
     "iopub.status.busy": "2023-06-07T20:53:15.455895Z",
     "iopub.status.idle": "2023-06-07T20:53:15.458348Z",
     "shell.execute_reply": "2023-06-07T20:53:15.458605Z"
    },
    "papermill": {
     "duration": 0.01378,
     "end_time": "2023-06-07T20:53:15.458682",
     "exception": false,
     "start_time": "2023-06-07T20:53:15.444902",
     "status": "completed"
    },
    "tags": []
   },
   "outputs": [
    {
     "name": "stdout",
     "output_type": "stream",
     "text": [
      "USING ILA: chipscopy_i/counters/ila_slow_counter_0\n"
     ]
    }
   ],
   "source": [
    "# Get the ILA cores matching a given name. filter_by returns a list, even if just one item is present.\n",
    "my_ila = versal_device.ila_cores.filter_by(name=\"chipscopy_i/counters/ila_slow_counter_0\")[0]\n",
    "\n",
    "print(f\"USING ILA: {my_ila.name}\")"
   ]
  },
  {
   "cell_type": "markdown",
   "id": "2acc792a",
   "metadata": {
    "papermill": {
     "duration": 0.005787,
     "end_time": "2023-06-07T20:53:15.470254",
     "exception": false,
     "start_time": "2023-06-07T20:53:15.464467",
     "status": "completed"
    },
    "tags": []
   },
   "source": [
    "## Step 6 - Get Information for this ILA Core\n",
    "Note:\n",
    "- 'has_advanced_trigger' is True. This ILA supports the advanced trigger feature.\n",
    "- 'tsm_counter_widths' shows 4 counters of bit width 16."
   ]
  },
  {
   "cell_type": "code",
   "execution_count": 13,
   "id": "26a9c346",
   "metadata": {
    "execution": {
     "iopub.execute_input": "2023-06-07T20:53:15.486752Z",
     "iopub.status.busy": "2023-06-07T20:53:15.486364Z",
     "iopub.status.idle": "2023-06-07T20:53:15.489469Z",
     "shell.execute_reply": "2023-06-07T20:53:15.489180Z"
    },
    "lines_to_next_cell": 2,
    "papermill": {
     "duration": 0.013505,
     "end_time": "2023-06-07T20:53:15.489534",
     "exception": false,
     "start_time": "2023-06-07T20:53:15.476029",
     "status": "completed"
    },
    "tags": []
   },
   "outputs": [
    {
     "name": "stdout",
     "output_type": "stream",
     "text": [
      "\n",
      "ILA Name: chipscopy_i/counters/ila_slow_counter_0\n",
      "\n",
      "ILA Core Info { 'core_major_ver': 1,\n",
      "  'core_minor_ver': 0,\n",
      "  'core_type': 1,\n",
      "  'drv_ver': 8,\n",
      "  'tool_major_ver': 19,\n",
      "  'tool_minor_ver': 1,\n",
      "  'uuid': '9125D1429AD25223AECDD656C2856755'}\n",
      "\n",
      "ILA Static Info { 'data_depth': 4096,\n",
      "  'data_width': 105,\n",
      "  'has_advanced_trigger': True,\n",
      "  'has_capture_control': True,\n",
      "  'has_trig_in': True,\n",
      "  'has_trig_out': True,\n",
      "  'match_unit_count': 52,\n",
      "  'port_count': 13,\n",
      "  'tsm_counter_widths': [16, 16, 16, 16]}\n"
     ]
    }
   ],
   "source": [
    "print(\"\\nILA Name:\", my_ila.name)\n",
    "print(\"\\nILA Core Info\", my_ila.core_info)\n",
    "print(\"\\nILA Static Info\", my_ila.static_info)"
   ]
  },
  {
   "cell_type": "markdown",
   "id": "73c4ea98",
   "metadata": {
    "papermill": {
     "duration": 0.005833,
     "end_time": "2023-06-07T20:53:15.500973",
     "exception": false,
     "start_time": "2023-06-07T20:53:15.495140",
     "status": "completed"
    },
    "tags": []
   },
   "source": [
    "## Step 7 -  Trigger Immediately using Advanced Trigger Mode\n",
    "\n",
    "Trigger State Machine trigger descriptions may be in a text file, or in a io.StringIO object.\n",
    "Some of the ILA status information applies only to Advanced Trigger Mode:\n",
    "- tsm_counters\n",
    "- tsm_flags\n",
    "- tsm_state\n",
    "- tsm_state_name"
   ]
  },
  {
   "cell_type": "code",
   "execution_count": 14,
   "id": "f5622845",
   "metadata": {
    "execution": {
     "iopub.execute_input": "2023-06-07T20:53:15.520659Z",
     "iopub.status.busy": "2023-06-07T20:53:15.520332Z",
     "iopub.status.idle": "2023-06-07T20:53:16.582361Z",
     "shell.execute_reply": "2023-06-07T20:53:16.582634Z"
    },
    "papermill": {
     "duration": 1.075478,
     "end_time": "2023-06-07T20:53:16.582772",
     "exception": false,
     "start_time": "2023-06-07T20:53:15.507294",
     "status": "completed"
    },
    "tags": []
   },
   "outputs": [
    {
     "name": "stdout",
     "output_type": "stream",
     "text": [
      "\n",
      "ILA Status:\n",
      "\n",
      "Trigger State Machine counter values:       [0, 0, 0, 0]\n",
      "Trigger State Machine flags:                [False, False, False, False]\n",
      "Trigger State Machine current state index:  0\n",
      "Trigger State Machine current state name :  my_state0\n"
     ]
    }
   ],
   "source": [
    "TRIGGER_NOW_TSM = StringIO(\n",
    "\"\"\"\n",
    "    state my_state0:\n",
    "        trigger;\n",
    "\"\"\"\n",
    ")\n",
    "\n",
    "# Note, if the TSM text is in a file, you can give the file path string as the first argument.\n",
    "my_ila.run_advanced_trigger(TRIGGER_NOW_TSM, trigger_position=0, window_count=1, window_size=8)\n",
    "\n",
    "\n",
    "my_ila.refresh_status()\n",
    "print(\"\\nILA Status:\\n\")\n",
    "print(\"Trigger State Machine counter values:      \", my_ila.status.tsm_counters)\n",
    "print(\"Trigger State Machine flags:               \", my_ila.status.tsm_flags)\n",
    "print(\"Trigger State Machine current state index: \", my_ila.status.tsm_state)\n",
    "print(\"Trigger State Machine current state name : \", my_ila.status.tsm_state_name)"
   ]
  },
  {
   "cell_type": "markdown",
   "id": "dcdcdab2",
   "metadata": {
    "papermill": {
     "duration": 0.005681,
     "end_time": "2023-06-07T20:53:16.594850",
     "exception": false,
     "start_time": "2023-06-07T20:53:16.589169",
     "status": "completed"
    },
    "tags": []
   },
   "source": [
    "## Step 8 - Upload Captured Waveform\n",
    "Wait at most half a minutes, for ILA to trigger and capture data."
   ]
  },
  {
   "cell_type": "code",
   "execution_count": 15,
   "id": "589e42b6",
   "metadata": {
    "execution": {
     "iopub.execute_input": "2023-06-07T20:53:16.612090Z",
     "iopub.status.busy": "2023-06-07T20:53:16.611414Z",
     "iopub.status.idle": "2023-06-07T20:53:16.849574Z",
     "shell.execute_reply": "2023-06-07T20:53:16.849179Z"
    },
    "papermill": {
     "duration": 0.248508,
     "end_time": "2023-06-07T20:53:16.849682",
     "exception": false,
     "start_time": "2023-06-07T20:53:16.601174",
     "status": "completed"
    },
    "tags": []
   },
   "outputs": [],
   "source": [
    "my_ila.wait_till_done(max_wait_minutes=0.5)\n",
    "my_ila.upload()\n",
    "if not my_ila.waveform:\n",
    "    print(\"\\nUpload failed!\")"
   ]
  },
  {
   "cell_type": "markdown",
   "id": "1614773d",
   "metadata": {
    "papermill": {
     "duration": 0.00574,
     "end_time": "2023-06-07T20:53:16.861879",
     "exception": false,
     "start_time": "2023-06-07T20:53:16.856139",
     "status": "completed"
    },
    "tags": []
   },
   "source": [
    "## Step 9 - Print samples for probe 'chipscopy_i/counters/slow_counter_0_Q_1'. \n",
    "\n",
    "Using the function ILAWaveform.get_data(), the waveform data is put into a sorted dict.\n",
    "First 4 entries in sorting order are: trigger, sample index, window index, window sample index.\n",
    "Then comes probe values. In this case just one probe."
   ]
  },
  {
   "cell_type": "code",
   "execution_count": 16,
   "id": "c5a92554",
   "metadata": {
    "execution": {
     "iopub.execute_input": "2023-06-07T20:53:16.879147Z",
     "iopub.status.busy": "2023-06-07T20:53:16.878788Z",
     "iopub.status.idle": "2023-06-07T20:53:16.881665Z",
     "shell.execute_reply": "2023-06-07T20:53:16.881375Z"
    },
    "lines_to_next_cell": 2,
    "papermill": {
     "duration": 0.013936,
     "end_time": "2023-06-07T20:53:16.881732",
     "exception": false,
     "start_time": "2023-06-07T20:53:16.867796",
     "status": "completed"
    },
    "tags": []
   },
   "outputs": [
    {
     "name": "stdout",
     "output_type": "stream",
     "text": [
      "Window:0  Window Sample:0  dec: 419695554  hex:0x19040BC2 <-- Trigger\n",
      "Window:0  Window Sample:1  dec: 419695555  hex:0x19040BC3 \n",
      "Window:0  Window Sample:2  dec: 419695556  hex:0x19040BC4 \n",
      "Window:0  Window Sample:3  dec: 419695557  hex:0x19040BC5 \n",
      "Window:0  Window Sample:4  dec: 419695558  hex:0x19040BC6 \n",
      "Window:0  Window Sample:5  dec: 419695559  hex:0x19040BC7 \n",
      "Window:0  Window Sample:6  dec: 419695560  hex:0x19040BC8 \n",
      "Window:0  Window Sample:7  dec: 419695561  hex:0x19040BC9 \n"
     ]
    }
   ],
   "source": [
    "counter_probe_name = 'chipscopy_i/counters/slow_counter_0_Q_1'\n",
    "\n",
    "def print_probe_values(waveform: ILAWaveform, probe_names: [str]):\n",
    "    samples = waveform.get_data(\n",
    "        probe_names,\n",
    "        include_trigger=True,\n",
    "        include_sample_info=True,\n",
    "    )\n",
    "    for trigger, sample_index, window_index, window_sample_index, value in zip(*samples.values()):\n",
    "        trigger = \"<-- Trigger\" if trigger else \"\"\n",
    "        print(\n",
    "            f\"Window:{window_index}  Window Sample:{window_sample_index}  dec:{value:10}  hex:0x{value:08X} {trigger}\"\n",
    "        )\n",
    "\n",
    "print_probe_values(my_ila.waveform, [counter_probe_name])"
   ]
  },
  {
   "cell_type": "markdown",
   "id": "e08741ea",
   "metadata": {
    "papermill": {
     "duration": 0.005743,
     "end_time": "2023-06-07T20:53:16.893221",
     "exception": false,
     "start_time": "2023-06-07T20:53:16.887478",
     "status": "completed"
    },
    "tags": []
   },
   "source": [
    "## Step 10 - Check if TSM is Valid\n",
    "- The TSM below has undefined probe names and undefined states.\n",
    "- Use \"compile_only=True\" argument when just checking if the TSM text is valid.\n",
    "- The run_advanced_trigger() function returns a tuple with 2 values: \"error_count\" and \"error_message\"."
   ]
  },
  {
   "cell_type": "code",
   "execution_count": 17,
   "id": "967be267",
   "metadata": {
    "execution": {
     "iopub.execute_input": "2023-06-07T20:53:16.917116Z",
     "iopub.status.busy": "2023-06-07T20:53:16.911946Z",
     "iopub.status.idle": "2023-06-07T20:53:16.936861Z",
     "shell.execute_reply": "2023-06-07T20:53:16.937115Z"
    },
    "papermill": {
     "duration": 0.037641,
     "end_time": "2023-06-07T20:53:16.937211",
     "exception": false,
     "start_time": "2023-06-07T20:53:16.899570",
     "status": "completed"
    },
    "tags": []
   },
   "outputs": [
    {
     "name": "stdout",
     "output_type": "stream",
     "text": [
      "\n",
      "\n",
      "The Advanced Trigger State machine \"TSM_WITH_ERRORS\" has 6 error(s).\n",
      "\n",
      "[Line 3:10] Undefined probe: \"chipscopy_ex_i/counters/slow_counter_0_Q_1\"\n",
      "[Line 8:13] Unknown state \"state_2\".\n",
      "[Line 11:13] Unknown state \"state_3\".\n",
      "[Line 14:10] Undefined probe: \"chipscopy_i/counters23/slow_counter_0_Q_1\"\n",
      "[Line 18:13] Unknown state \"state_2\".\n",
      "[Line 21:11] Unknown state \"state_3\".\n",
      "\n"
     ]
    }
   ],
   "source": [
    "TSM_WITH_ERRORS = StringIO(\n",
    "    \"\"\"\n",
    "    state state_a:\n",
    "      if (chipscopy_ex_i/counters/slow_counter_0_Q_1 == 32'hXX33_0000 &&\n",
    "          chipscopy_i/counters/slow_sine_Dout >= 'habcd) then\n",
    "        trigger;\n",
    "      elseif (chipscopy_i/counters/slow_sine_Dout >= 'habcd) then\n",
    "        reset_counter $counter0;\n",
    "        goto state_2;\n",
    "      else\n",
    "        reset_counter $counter1;\n",
    "        goto state_3;\n",
    "      endif\n",
    "    state state_b:\n",
    "      if (chipscopy_i/counters23/slow_counter_0_Q_1 == 32'h3333_0000) then\n",
    "        trigger;\n",
    "      else\n",
    "        reset_counter $counter3;\n",
    "        goto state_2;\n",
    "      endif\n",
    "    state state_c:\n",
    "      goto state_3;\n",
    "    \"\"\"\n",
    ")\n",
    "\n",
    "# Check the TSM text for errors, using \"compile_only=True\n",
    "#\n",
    "error_count, error_message = my_ila.run_advanced_trigger(TSM_WITH_ERRORS, compile_only=True)\n",
    "print(f'\\n\\nThe Advanced Trigger State machine \"TSM_WITH_ERRORS\" has {error_count} error(s).'\n",
    "      f'\\n\\n{error_message}')"
   ]
  },
  {
   "cell_type": "markdown",
   "id": "4d68ce2b",
   "metadata": {
    "papermill": {
     "duration": 0.006143,
     "end_time": "2023-06-07T20:53:16.949533",
     "exception": false,
     "start_time": "2023-06-07T20:53:16.943390",
     "status": "completed"
    },
    "tags": []
   },
   "source": [
    "## Step 11 - Define a Status Progress Monitor Function\n",
    "Monitor TSM specific status, when ILA capture is active."
   ]
  },
  {
   "cell_type": "code",
   "execution_count": 18,
   "id": "a24d562c",
   "metadata": {
    "execution": {
     "iopub.execute_input": "2023-06-07T20:53:16.964333Z",
     "iopub.status.busy": "2023-06-07T20:53:16.963958Z",
     "iopub.status.idle": "2023-06-07T20:53:16.966105Z",
     "shell.execute_reply": "2023-06-07T20:53:16.965752Z"
    },
    "papermill": {
     "duration": 0.010721,
     "end_time": "2023-06-07T20:53:16.966184",
     "exception": false,
     "start_time": "2023-06-07T20:53:16.955463",
     "status": "completed"
    },
    "tags": []
   },
   "outputs": [],
   "source": [
    "def status_progress(future):\n",
    "    \"\"\"Called in Event Thread\"\"\"\n",
    "    st = future.progress\n",
    "\n",
    "    if st.is_full:\n",
    "        print(f\"\\nAll data has been captured.\")\n",
    "    else:\n",
    "        print(f\"State: {st.tsm_state_name}   Counters: {st.tsm_counters}    Flags: {st.tsm_flags}\")       "
   ]
  },
  {
   "cell_type": "markdown",
   "id": "5209a23f",
   "metadata": {
    "papermill": {
     "duration": 0.006009,
     "end_time": "2023-06-07T20:53:16.978382",
     "exception": false,
     "start_time": "2023-06-07T20:53:16.972373",
     "status": "completed"
    },
    "tags": []
   },
   "source": [
    "## Step 12 - Run Trigger State Machine with Flags and Counters\n",
    "In STATE_A:\n",
    "- Remain in STATE_A until hex value ending with \"33_0000\", has occurred 8 times (counter values 0-7).\n",
    "- Set \\$flag0\n",
    "- Go to state STATE_B\n",
    "\n",
    "In STATE_B:\n",
    "- Count hex value ending with \"AAA_BBBB\" 10 times (counter values 0-9).\n",
    "- Then set \\$flag1 and trigger."
   ]
  },
  {
   "cell_type": "code",
   "execution_count": 19,
   "id": "c82b0bd6",
   "metadata": {
    "execution": {
     "iopub.execute_input": "2023-06-07T20:53:16.998680Z",
     "iopub.status.busy": "2023-06-07T20:53:16.997693Z",
     "iopub.status.idle": "2023-06-07T20:53:43.833957Z",
     "shell.execute_reply": "2023-06-07T20:53:43.834265Z"
    },
    "papermill": {
     "duration": 26.849485,
     "end_time": "2023-06-07T20:53:43.834419",
     "exception": false,
     "start_time": "2023-06-07T20:53:16.984934",
     "status": "completed"
    },
    "tags": []
   },
   "outputs": [
    {
     "name": "stdout",
     "output_type": "stream",
     "text": [
      "State: STATE_A   Counters: [0, 0, 0, 0]    Flags: [False, False, False, False]\n"
     ]
    },
    {
     "name": "stdout",
     "output_type": "stream",
     "text": [
      "State: STATE_A   Counters: [3, 0, 0, 0]    Flags: [False, False, False, False]\n"
     ]
    },
    {
     "name": "stdout",
     "output_type": "stream",
     "text": [
      "State: STATE_A   Counters: [7, 0, 0, 0]    Flags: [False, False, False, False]\n"
     ]
    },
    {
     "name": "stdout",
     "output_type": "stream",
     "text": [
      "State: STATE_B   Counters: [7, 0, 0, 0]    Flags: [True, False, False, False]\n"
     ]
    },
    {
     "name": "stdout",
     "output_type": "stream",
     "text": [
      "State: STATE_B   Counters: [7, 1, 0, 0]    Flags: [True, False, False, False]\n"
     ]
    },
    {
     "name": "stdout",
     "output_type": "stream",
     "text": [
      "State: STATE_B   Counters: [7, 2, 0, 0]    Flags: [True, False, False, False]\n"
     ]
    },
    {
     "name": "stdout",
     "output_type": "stream",
     "text": [
      "State: STATE_B   Counters: [7, 3, 0, 0]    Flags: [True, False, False, False]\n"
     ]
    },
    {
     "name": "stdout",
     "output_type": "stream",
     "text": [
      "State: STATE_B   Counters: [7, 4, 0, 0]    Flags: [True, False, False, False]\n"
     ]
    },
    {
     "name": "stdout",
     "output_type": "stream",
     "text": [
      "State: STATE_B   Counters: [7, 5, 0, 0]    Flags: [True, False, False, False]\n"
     ]
    },
    {
     "name": "stdout",
     "output_type": "stream",
     "text": [
      "State: STATE_B   Counters: [7, 6, 0, 0]    Flags: [True, False, False, False]\n"
     ]
    },
    {
     "name": "stdout",
     "output_type": "stream",
     "text": [
      "State: STATE_B   Counters: [7, 7, 0, 0]    Flags: [True, False, False, False]\n"
     ]
    },
    {
     "name": "stdout",
     "output_type": "stream",
     "text": [
      "State: STATE_B   Counters: [7, 8, 0, 0]    Flags: [True, False, False, False]\n"
     ]
    },
    {
     "name": "stdout",
     "output_type": "stream",
     "text": [
      "State: STATE_B   Counters: [7, 9, 0, 0]    Flags: [True, False, False, False]\n"
     ]
    },
    {
     "name": "stdout",
     "output_type": "stream",
     "text": [
      "\n",
      "All data has been captured.\n",
      "\n",
      "Counters: [7, 9, 0, 0]    Flags: [True, True, False, False]\n"
     ]
    }
   ],
   "source": [
    "TSM_FLAGS_COUNTERS = StringIO(\n",
    "    f\"\"\"\n",
    "    state STATE_A:\n",
    "        if ( {counter_probe_name} == 32'hxx33_0000 && $counter0 == 'u7) then\n",
    "            set_flag $flag0;\n",
    "            goto STATE_B;\n",
    "        elseif ( {counter_probe_name} == 32'hxx33_0000) then\n",
    "            increment_counter $counter0;\n",
    "            goto STATE_A;\n",
    "        else\n",
    "            goto STATE_A;\n",
    "      endif\n",
    "      \n",
    "    state STATE_B:\n",
    "        if ( {counter_probe_name} == 32'hxAAA_BBBB && $counter1 == 'u9) then\n",
    "            set_flag $flag1;\n",
    "            trigger;\n",
    "        elseif ( {counter_probe_name} == 32'hxAAA_BBBB) then\n",
    "            increment_counter $counter1;\n",
    "            goto STATE_B;\n",
    "        else\n",
    "            goto STATE_B;\n",
    "      endif\n",
    "      \n",
    "\"\"\"\n",
    ")\n",
    "\n",
    "my_ila.run_advanced_trigger(TSM_FLAGS_COUNTERS, window_size=8)\n",
    "\n",
    "future = my_ila.monitor_status(max_wait_minutes=1.0, progress=status_progress, done=chipscopy.null_callback)\n",
    "\n",
    "# future.result is blocking, until monitor_status() function has completed or timed-out or been cancelled.\n",
    "# Meanwhile, the status_progress() function is called twice per second to print out status.\n",
    "status = future.result\n",
    "print(f\"\\nCounters: {status.tsm_counters}    Flags: {status.tsm_flags}\")"
   ]
  },
  {
   "cell_type": "markdown",
   "id": "e02122d5",
   "metadata": {
    "papermill": {
     "duration": 0.006844,
     "end_time": "2023-06-07T20:53:43.848726",
     "exception": false,
     "start_time": "2023-06-07T20:53:43.841882",
     "status": "completed"
    },
    "tags": []
   },
   "source": [
    "## Step 13 - Upload Captured Waveform"
   ]
  },
  {
   "cell_type": "code",
   "execution_count": 20,
   "id": "9bf80afa",
   "metadata": {
    "execution": {
     "iopub.execute_input": "2023-06-07T20:53:43.866033Z",
     "iopub.status.busy": "2023-06-07T20:53:43.865695Z",
     "iopub.status.idle": "2023-06-07T20:53:44.025676Z",
     "shell.execute_reply": "2023-06-07T20:53:44.025208Z"
    },
    "papermill": {
     "duration": 0.170472,
     "end_time": "2023-06-07T20:53:44.025787",
     "exception": false,
     "start_time": "2023-06-07T20:53:43.855315",
     "status": "completed"
    },
    "tags": []
   },
   "outputs": [],
   "source": [
    "my_ila.upload()\n",
    "if not my_ila.waveform:\n",
    "    print(\"\\nUpload failed!\")"
   ]
  },
  {
   "cell_type": "markdown",
   "id": "a0b39845",
   "metadata": {
    "papermill": {
     "duration": 0.006881,
     "end_time": "2023-06-07T20:53:44.040592",
     "exception": false,
     "start_time": "2023-06-07T20:53:44.033711",
     "status": "completed"
    },
    "tags": []
   },
   "source": [
    "## Step 14 - Print samples for probe 'chipscopy_i/counters/slow_counter_0_Q_1'. "
   ]
  },
  {
   "cell_type": "code",
   "execution_count": 21,
   "id": "352c3894",
   "metadata": {
    "execution": {
     "iopub.execute_input": "2023-06-07T20:53:44.057502Z",
     "iopub.status.busy": "2023-06-07T20:53:44.057137Z",
     "iopub.status.idle": "2023-06-07T20:53:44.060190Z",
     "shell.execute_reply": "2023-06-07T20:53:44.059898Z"
    },
    "papermill": {
     "duration": 0.013263,
     "end_time": "2023-06-07T20:53:44.060267",
     "exception": false,
     "start_time": "2023-06-07T20:53:44.047004",
     "status": "completed"
    },
    "tags": []
   },
   "outputs": [
    {
     "name": "stdout",
     "output_type": "stream",
     "text": [
      "Window:0  Window Sample:0  dec:3131751351  hex:0xBAAABBB7 \n",
      "Window:0  Window Sample:1  dec:3131751352  hex:0xBAAABBB8 \n",
      "Window:0  Window Sample:2  dec:3131751353  hex:0xBAAABBB9 \n",
      "Window:0  Window Sample:3  dec:3131751354  hex:0xBAAABBBA \n",
      "Window:0  Window Sample:4  dec:3131751355  hex:0xBAAABBBB <-- Trigger\n",
      "Window:0  Window Sample:5  dec:3131751356  hex:0xBAAABBBC \n",
      "Window:0  Window Sample:6  dec:3131751357  hex:0xBAAABBBD \n",
      "Window:0  Window Sample:7  dec:3131751358  hex:0xBAAABBBE \n"
     ]
    }
   ],
   "source": [
    "print_probe_values(my_ila.waveform, [counter_probe_name])"
   ]
  },
  {
   "cell_type": "code",
   "execution_count": null,
   "id": "4a43a401",
   "metadata": {
    "papermill": {
     "duration": 0.006509,
     "end_time": "2023-06-07T20:53:44.073266",
     "exception": false,
     "start_time": "2023-06-07T20:53:44.066757",
     "status": "completed"
    },
    "tags": []
   },
   "outputs": [],
   "source": []
  }
 ],
 "metadata": {
  "jupytext": {
   "formats": "ipynb,py"
  },
  "kernelspec": {
   "display_name": "Python 3 (ipykernel)",
   "language": "python",
   "name": "python3"
  },
  "language_info": {
   "codemirror_mode": {
    "name": "ipython",
    "version": 3
   },
   "file_extension": ".py",
   "mimetype": "text/x-python",
   "name": "python",
   "nbconvert_exporter": "python",
   "pygments_lexer": "ipython3",
   "version": "3.9.16"
  },
  "papermill": {
   "default_parameters": {},
   "duration": 45.210044,
   "end_time": "2023-06-07T20:53:49.542323",
   "environment_variables": {},
   "exception": null,
   "input_path": "ila_advanced_trigger.ipynb",
   "output_path": "output",
   "parameters": {},
   "start_time": "2023-06-07T20:53:04.332279",
   "version": "2.4.0"
  },
  "widgets": {
   "application/vnd.jupyter.widget-state+json": {
    "state": {
     "2a998d8b96c0409885072f9670323d18": {
      "model_module": "@jupyter-widgets/base",
      "model_module_version": "1.2.0",
      "model_name": "LayoutModel",
      "state": {
       "_model_module": "@jupyter-widgets/base",
       "_model_module_version": "1.2.0",
       "_model_name": "LayoutModel",
       "_view_count": null,
       "_view_module": "@jupyter-widgets/base",
       "_view_module_version": "1.2.0",
       "_view_name": "LayoutView",
       "align_content": null,
       "align_items": null,
       "align_self": null,
       "border": null,
       "bottom": null,
       "display": null,
       "flex": null,
       "flex_flow": null,
       "grid_area": null,
       "grid_auto_columns": null,
       "grid_auto_flow": null,
       "grid_auto_rows": null,
       "grid_column": null,
       "grid_gap": null,
       "grid_row": null,
       "grid_template_areas": null,
       "grid_template_columns": null,
       "grid_template_rows": null,
       "height": null,
       "justify_content": null,
       "justify_items": null,
       "left": null,
       "margin": null,
       "max_height": null,
       "max_width": null,
       "min_height": null,
       "min_width": null,
       "object_fit": null,
       "object_position": null,
       "order": null,
       "overflow": null,
       "overflow_x": null,
       "overflow_y": null,
       "padding": null,
       "right": null,
       "top": null,
       "visibility": null,
       "width": null
      }
     },
     "e091360230a043d5a6b374ee15af498c": {
      "model_module": "@jupyter-widgets/output",
      "model_module_version": "1.0.0",
      "model_name": "OutputModel",
      "state": {
       "_dom_classes": [],
       "_model_module": "@jupyter-widgets/output",
       "_model_module_version": "1.0.0",
       "_model_name": "OutputModel",
       "_view_count": null,
       "_view_module": "@jupyter-widgets/output",
       "_view_module_version": "1.0.0",
       "_view_name": "OutputView",
       "layout": "IPY_MODEL_2a998d8b96c0409885072f9670323d18",
       "msg_id": "",
       "outputs": [
        {
         "data": {
          "text/html": "<pre style=\"white-space:pre;overflow-x:auto;line-height:normal;font-family:Menlo,'DejaVu Sans Mono',consolas,'Courier New',monospace\">Device program progress <span style=\"color: #729c1f; text-decoration-color: #729c1f\">━━━━━━━━━━━━━━━━━━━━━━━━━━━━━━━━━━━━━━━━</span> <span style=\"color: #ff00ff; text-decoration-color: #ff00ff; font-weight: bold\">100%</span> <span style=\"color: #008000; text-decoration-color: #008000; font-weight: bold\">Done</span>\n</pre>\n",
          "text/plain": "<rich.jupyter.JupyterRenderable at 0x7f39bcbf32e0>"
         },
         "metadata": {},
         "output_type": "display_data"
        }
       ]
      }
     }
    },
    "version_major": 2,
    "version_minor": 0
   }
  }
 },
 "nbformat": 4,
 "nbformat_minor": 5
}
