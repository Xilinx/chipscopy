{
 "cells": [
  {
   "cell_type": "markdown",
   "id": "753808fe",
   "metadata": {
    "papermill": {
     "duration": 0.00574,
     "end_time": "2023-10-24T22:09:41.017100",
     "exception": false,
     "start_time": "2023-10-24T22:09:41.011360",
     "status": "completed"
    },
    "tags": []
   },
   "source": [
    "<link rel=\"preconnect\" href=\"https://fonts.gstatic.com\">\n",
    "<link href=\"https://fonts.googleapis.com/css2?family=Fira+Code&display=swap\" rel=\"stylesheet\">\n",
    "\n",
    "### License\n",
    "\n",
    "<p style=\"font-family: 'Fira Code', monospace; font-size: 1.2rem\">\n",
    "Copyright (C) 2022, Xilinx, Inc.\n",
    "Copyright (C) 2022-2023, Advanced Micro Devices, Inc.\n",
    "<br><br>\n",
    "Licensed under the Apache License, Version 2.0 (the \"License\");<br>\n",
    "you may not use this file except in compliance with the License.<br><br>\n",
    "You may obtain a copy of the License at <a href=\"http://www.apache.org/licenses/LICENSE-2.0\"?>http://www.apache.org/licenses/LICENSE-2.0</a><br><br>\n",
    "Unless required by applicable law or agreed to in writing, software<br>\n",
    "distributed under the License is distributed on an \"AS IS\" BASIS,<br>\n",
    "WITHOUT WARRANTIES OR CONDITIONS OF ANY KIND, either express or implied.<br>\n",
    "See the License for the specific language governing permissions and<br>\n",
    "limitations under the License.<br>\n",
    "</p>\n"
   ]
  },
  {
   "cell_type": "markdown",
   "id": "dff6228e",
   "metadata": {
    "papermill": {
     "duration": 0.002956,
     "end_time": "2023-10-24T22:09:41.023553",
     "exception": false,
     "start_time": "2023-10-24T22:09:41.020597",
     "status": "completed"
    },
    "tags": []
   },
   "source": [
    "# ChipScoPy VIO Example\n",
    "\n",
    "\n",
    "<img src=\"../img/api_overview.png\" width=\"500\" align=\"left\">"
   ]
  },
  {
   "cell_type": "markdown",
   "id": "41b2e3d9",
   "metadata": {
    "papermill": {
     "duration": 0.002967,
     "end_time": "2023-10-24T22:09:41.029509",
     "exception": false,
     "start_time": "2023-10-24T22:09:41.026542",
     "status": "completed"
    },
    "tags": []
   },
   "source": [
    "## Description\n",
    "This example demonstrates how to program and communicate with\n",
    "VIO (Virtual IO) cores using the ChipScoPy Python API.\n",
    "\n",
    "\n",
    "## Requirements\n",
    "- Local or remote Xilinx Versal board, such as a VCK190\n",
    "- Xilinx hw_server 2023.2 installed and running\n",
    "- Xilinx cs_server 2023.2 installed and running\n",
    "- Python 3.8 or greater installed\n",
    "- ChipScoPy 2023.2 installed\n",
    "- Jupyter notebook support installed - Please do so, using the command `pip install chipscopy[jupyter]`"
   ]
  },
  {
   "cell_type": "markdown",
   "id": "cb3fd39d",
   "metadata": {
    "papermill": {
     "duration": 0.002938,
     "end_time": "2023-10-24T22:09:41.035448",
     "exception": false,
     "start_time": "2023-10-24T22:09:41.032510",
     "status": "completed"
    },
    "tags": []
   },
   "source": [
    "## 1 - Initialization: Imports and File Paths\n",
    "\n",
    "After this step,\n",
    "- Required functions and classes are imported\n",
    "- URL paths are set correctly\n",
    "- File paths to example files are set correctly"
   ]
  },
  {
   "cell_type": "code",
   "execution_count": 1,
   "id": "c674d7cc",
   "metadata": {
    "execution": {
     "iopub.execute_input": "2023-10-24T22:09:41.043434Z",
     "iopub.status.busy": "2023-10-24T22:09:41.043106Z",
     "iopub.status.idle": "2023-10-24T22:09:41.881884Z",
     "shell.execute_reply": "2023-10-24T22:09:41.881099Z"
    },
    "papermill": {
     "duration": 0.845288,
     "end_time": "2023-10-24T22:09:41.883876",
     "exception": false,
     "start_time": "2023-10-24T22:09:41.038588",
     "status": "completed"
    },
    "tags": []
   },
   "outputs": [],
   "source": [
    "import os\n",
    "from chipscopy import get_design_files\n",
    "from chipscopy import create_session, report_versions"
   ]
  },
  {
   "cell_type": "code",
   "execution_count": 2,
   "id": "5b20c359",
   "metadata": {
    "execution": {
     "iopub.execute_input": "2023-10-24T22:09:41.891772Z",
     "iopub.status.busy": "2023-10-24T22:09:41.891499Z",
     "iopub.status.idle": "2023-10-24T22:09:41.900694Z",
     "shell.execute_reply": "2023-10-24T22:09:41.899559Z"
    },
    "lines_to_next_cell": 2,
    "papermill": {
     "duration": 0.014501,
     "end_time": "2023-10-24T22:09:41.902036",
     "exception": false,
     "start_time": "2023-10-24T22:09:41.887535",
     "status": "completed"
    },
    "tags": []
   },
   "outputs": [
    {
     "name": "stdout",
     "output_type": "stream",
     "text": [
      "HW_URL: TCP:localhost:3121\n",
      "CS_URL: TCP:localhost:3042\n",
      "PROGRAMMING_FILE: /scratch/2023.2/chipscopy-examples/designs/vck190/production/chipscopy_ced/chipscopy_wrapper.pdi\n",
      "PROBES_FILE:/scratch/2023.2/chipscopy-examples/designs/vck190/production/chipscopy_ced/chipscopy_wrapper.ltx\n"
     ]
    }
   ],
   "source": [
    "# Make sure to start the hw_server and cs_server prior to running.\n",
    "# Specify locations of the running hw_server and cs_server below.\n",
    "# The default is localhost - but can be other locations on the network.\n",
    "CS_URL = os.getenv(\"CS_SERVER_URL\", \"TCP:localhost:3042\")\n",
    "HW_URL = os.getenv(\"HW_SERVER_URL\", \"TCP:localhost:3121\")\n",
    "\n",
    "# specify hw and if programming is desired\n",
    "HW_PLATFORM = os.getenv(\"HW_PLATFORM\", \"vck190\")\n",
    "PROG_DEVICE = os.getenv(\"PROG_DEVICE\", 'True').lower() in ('true', '1', 't')\n",
    "\n",
    "# The get_design_files() function tries to find the PDI and LTX files. In non-standard\n",
    "# configurations, you can put the path for PROGRAMMING_FILE and PROBES_FILE below.\n",
    "design_files = get_design_files(f\"{HW_PLATFORM}/production/chipscopy_ced\")\n",
    "\n",
    "PROGRAMMING_FILE = design_files.programming_file\n",
    "PROBES_FILE = design_files.probes_file\n",
    "\n",
    "print(f\"HW_URL: {HW_URL}\")\n",
    "print(f\"CS_URL: {CS_URL}\")\n",
    "print(f\"PROGRAMMING_FILE: {PROGRAMMING_FILE}\")\n",
    "print(f\"PROBES_FILE:{PROBES_FILE}\")"
   ]
  },
  {
   "cell_type": "markdown",
   "id": "99f17f12",
   "metadata": {
    "papermill": {
     "duration": 0.003037,
     "end_time": "2023-10-24T22:09:41.908194",
     "exception": false,
     "start_time": "2023-10-24T22:09:41.905157",
     "status": "completed"
    },
    "tags": []
   },
   "source": [
    "## 2 - Create a session and connect to the hw_server and cs_server\n",
    "\n",
    "The session is a container that keeps track of devices and debug cores.\n",
    "After this step,\n",
    "- Session is initialized and connected to server(s)\n",
    "- Versions are detected and reported to stdout"
   ]
  },
  {
   "cell_type": "code",
   "execution_count": 3,
   "id": "4db380c4",
   "metadata": {
    "execution": {
     "iopub.execute_input": "2023-10-24T22:09:41.915584Z",
     "iopub.status.busy": "2023-10-24T22:09:41.915376Z",
     "iopub.status.idle": "2023-10-24T22:09:43.239802Z",
     "shell.execute_reply": "2023-10-24T22:09:43.239086Z"
    },
    "papermill": {
     "duration": 1.329921,
     "end_time": "2023-10-24T22:09:43.241174",
     "exception": false,
     "start_time": "2023-10-24T22:09:41.911253",
     "status": "completed"
    },
    "tags": []
   },
   "outputs": [
    {
     "data": {
      "text/html": [
       "<pre style=\"white-space:pre;overflow-x:auto;line-height:normal;font-family:Menlo,'DejaVu Sans Mono',consolas,'Courier New',monospace\">\n",
       "\n",
       "</pre>\n"
      ],
      "text/plain": [
       "\n",
       "\n"
      ]
     },
     "metadata": {},
     "output_type": "display_data"
    },
    {
     "data": {
      "text/html": [
       "<pre style=\"white-space:pre;overflow-x:auto;line-height:normal;font-family:Menlo,'DejaVu Sans Mono',consolas,'Courier New',monospace\"><span style=\"font-style: italic\">                      ChipScoPy Version Information                      </span>\n",
       "┌────────────────────────────┬──────────────────────────────────────────┐\n",
       "│<span style=\"font-weight: bold\">                     Entity </span>│<span style=\"font-weight: bold\"> Version                                  </span>│\n",
       "├────────────────────────────┼──────────────────────────────────────────┤\n",
       "│                  ChipScoPy │ ┌───────────┬──────────────────────┐     │\n",
       "│                            │ │<span style=\"font-weight: bold\"> Attribute </span>│<span style=\"font-weight: bold\"> Value                </span>│     │\n",
       "│                            │ ├───────────┼──────────────────────┤     │\n",
       "│                            │ │     Build │ 2023.2.1697859156    │     │\n",
       "│                            │ │ Timestamp │ Oct 20 2023-21:32:36 │     │\n",
       "│                            │ └───────────┴──────────────────────┘     │\n",
       "│                            │                                          │\n",
       "│ hw_server @ localhost:3121 │ ┌───────────┬──────────────────────────┐ │\n",
       "│                            │ │<span style=\"font-weight: bold\"> Attribute </span>│<span style=\"font-weight: bold\"> Value                    </span>│ │\n",
       "│                            │ ├───────────┼──────────────────────────┤ │\n",
       "│                            │ │    Status │ Connected                │ │\n",
       "│                            │ │     Build │ 1683493450               │ │\n",
       "│                            │ │   Version │ 2023.1                   │ │\n",
       "│                            │ │ Timestamp │ Sun May  7 15:04:10 2023 │ │\n",
       "│                            │ └───────────┴──────────────────────────┘ │\n",
       "│                            │                                          │\n",
       "│ cs_server @ localhost:3042 │ ┌───────────────┬──────────────────────┐ │\n",
       "│                            │ │<span style=\"font-weight: bold\">     Attribute </span>│<span style=\"font-weight: bold\"> Value                </span>│ │\n",
       "│                            │ ├───────────────┼──────────────────────┤ │\n",
       "│                            │ │        Status │ Connected            │ │\n",
       "│                            │ │         Build │ 1696910516           │ │\n",
       "│                            │ │       Version │ 2023.2.0             │ │\n",
       "│                            │ │     Timestamp │ Oct 09 2023-22:01:56 │ │\n",
       "│                            │ │       Package │ 2023.2.1696910516    │ │\n",
       "│                            │ │ Artifact type │ pyinstaller          │ │\n",
       "│                            │ └───────────────┴──────────────────────┘ │\n",
       "└────────────────────────────┴──────────────────────────────────────────┘\n",
       "</pre>\n"
      ],
      "text/plain": [
       "\u001b[3m                      ChipScoPy Version Information                      \u001b[0m\n",
       "┌────────────────────────────┬──────────────────────────────────────────┐\n",
       "│\u001b[1m \u001b[0m\u001b[1m                    Entity\u001b[0m\u001b[1m \u001b[0m│\u001b[1m \u001b[0m\u001b[1mVersion                                 \u001b[0m\u001b[1m \u001b[0m│\n",
       "├────────────────────────────┼──────────────────────────────────────────┤\n",
       "│                  ChipScoPy │ ┌───────────┬──────────────────────┐     │\n",
       "│                            │ │\u001b[1m \u001b[0m\u001b[1mAttribute\u001b[0m\u001b[1m \u001b[0m│\u001b[1m \u001b[0m\u001b[1mValue               \u001b[0m\u001b[1m \u001b[0m│     │\n",
       "│                            │ ├───────────┼──────────────────────┤     │\n",
       "│                            │ │     Build │ 2023.2.1697859156    │     │\n",
       "│                            │ │ Timestamp │ Oct 20 2023-21:32:36 │     │\n",
       "│                            │ └───────────┴──────────────────────┘     │\n",
       "│                            │                                          │\n",
       "│ hw_server @ localhost:3121 │ ┌───────────┬──────────────────────────┐ │\n",
       "│                            │ │\u001b[1m \u001b[0m\u001b[1mAttribute\u001b[0m\u001b[1m \u001b[0m│\u001b[1m \u001b[0m\u001b[1mValue                   \u001b[0m\u001b[1m \u001b[0m│ │\n",
       "│                            │ ├───────────┼──────────────────────────┤ │\n",
       "│                            │ │    Status │ Connected                │ │\n",
       "│                            │ │     Build │ 1683493450               │ │\n",
       "│                            │ │   Version │ 2023.1                   │ │\n",
       "│                            │ │ Timestamp │ Sun May  7 15:04:10 2023 │ │\n",
       "│                            │ └───────────┴──────────────────────────┘ │\n",
       "│                            │                                          │\n",
       "│ cs_server @ localhost:3042 │ ┌───────────────┬──────────────────────┐ │\n",
       "│                            │ │\u001b[1m \u001b[0m\u001b[1m    Attribute\u001b[0m\u001b[1m \u001b[0m│\u001b[1m \u001b[0m\u001b[1mValue               \u001b[0m\u001b[1m \u001b[0m│ │\n",
       "│                            │ ├───────────────┼──────────────────────┤ │\n",
       "│                            │ │        Status │ Connected            │ │\n",
       "│                            │ │         Build │ 1696910516           │ │\n",
       "│                            │ │       Version │ 2023.2.0             │ │\n",
       "│                            │ │     Timestamp │ Oct 09 2023-22:01:56 │ │\n",
       "│                            │ │       Package │ 2023.2.1696910516    │ │\n",
       "│                            │ │ Artifact type │ pyinstaller          │ │\n",
       "│                            │ └───────────────┴──────────────────────┘ │\n",
       "└────────────────────────────┴──────────────────────────────────────────┘\n"
      ]
     },
     "metadata": {},
     "output_type": "display_data"
    },
    {
     "data": {
      "text/html": [
       "<pre style=\"white-space:pre;overflow-x:auto;line-height:normal;font-family:Menlo,'DejaVu Sans Mono',consolas,'Courier New',monospace\">\n",
       "\n",
       "</pre>\n"
      ],
      "text/plain": [
       "\n",
       "\n"
      ]
     },
     "metadata": {},
     "output_type": "display_data"
    }
   ],
   "source": [
    "session = create_session(cs_server_url=CS_URL, hw_server_url=HW_URL)\n",
    "report_versions(session)"
   ]
  },
  {
   "cell_type": "markdown",
   "id": "88ad49d8",
   "metadata": {
    "papermill": {
     "duration": 0.003402,
     "end_time": "2023-10-24T22:09:43.251569",
     "exception": false,
     "start_time": "2023-10-24T22:09:43.248167",
     "status": "completed"
    },
    "tags": []
   },
   "source": [
    "## 3 - Program the device with the example design\n",
    "\n",
    "After this step,\n",
    "- Device is programmed with the example programming file"
   ]
  },
  {
   "cell_type": "code",
   "execution_count": 4,
   "id": "4023ef7a",
   "metadata": {
    "execution": {
     "iopub.execute_input": "2023-10-24T22:09:43.259863Z",
     "iopub.status.busy": "2023-10-24T22:09:43.259671Z",
     "iopub.status.idle": "2023-10-24T22:09:50.490613Z",
     "shell.execute_reply": "2023-10-24T22:09:50.489882Z"
    },
    "lines_to_next_cell": 2,
    "papermill": {
     "duration": 7.236658,
     "end_time": "2023-10-24T22:09:50.491911",
     "exception": false,
     "start_time": "2023-10-24T22:09:43.255253",
     "status": "completed"
    },
    "tags": []
   },
   "outputs": [
    {
     "data": {
      "text/html": [
       "<pre style=\"white-space:pre;overflow-x:auto;line-height:normal;font-family:Menlo,'DejaVu Sans Mono',consolas,'Courier New',monospace\">\n",
       "<span style=\"font-weight: bold\">--&gt; INFO: </span>Programming device with: \n",
       "/scratch/2023.2/chipscopy-examples/designs/vck190/production/chipscopy_ced/chipscopy_wrapper.pdi\n",
       "    \n",
       "</pre>\n"
      ],
      "text/plain": [
       "\n",
       "\u001b[1m--> INFO: \u001b[0mProgramming device with: \n",
       "/scratch/2023.2/chipscopy-examples/designs/vck190/production/chipscopy_ced/chipscopy_wrapper.pdi\n",
       "    \n"
      ]
     },
     "metadata": {},
     "output_type": "display_data"
    },
    {
     "data": {
      "application/vnd.jupyter.widget-view+json": {
       "model_id": "566653f3264e42c8be6eb2786c683adf",
       "version_major": 2,
       "version_minor": 0
      },
      "text/plain": [
       "Output()"
      ]
     },
     "metadata": {},
     "output_type": "display_data"
    },
    {
     "data": {
      "text/html": [
       "<pre style=\"white-space:pre;overflow-x:auto;line-height:normal;font-family:Menlo,'DejaVu Sans Mono',consolas,'Courier New',monospace\"></pre>\n"
      ],
      "text/plain": []
     },
     "metadata": {},
     "output_type": "display_data"
    },
    {
     "data": {
      "text/html": [
       "<pre style=\"white-space:pre;overflow-x:auto;line-height:normal;font-family:Menlo,'DejaVu Sans Mono',consolas,'Courier New',monospace\">\n",
       "</pre>\n"
      ],
      "text/plain": [
       "\n"
      ]
     },
     "metadata": {},
     "output_type": "display_data"
    }
   ],
   "source": [
    "# Typical case - one device on the board - get it.\n",
    "device = session.devices.filter_by(family=\"versal\").get()\n",
    "if PROG_DEVICE:\n",
    "    device.program(PROGRAMMING_FILE)\n",
    "else:\n",
    "    print(\"skipping programming\")"
   ]
  },
  {
   "cell_type": "markdown",
   "id": "15300d8e",
   "metadata": {
    "papermill": {
     "duration": 0.003995,
     "end_time": "2023-10-24T22:09:50.500756",
     "exception": false,
     "start_time": "2023-10-24T22:09:50.496761",
     "status": "completed"
    },
    "tags": []
   },
   "source": [
    "## 4 - Discover Debug Cores\n",
    "\n",
    "Debug core discovery initializes the chipscope server debug cores. This brings debug cores in the chipscope server online.\n",
    "\n",
    "After this step,\n",
    "\n",
    "- The cs_server is initialized and ready for use\n",
    "- Debug cores in the cs_server may be accessed"
   ]
  },
  {
   "cell_type": "code",
   "execution_count": 5,
   "id": "848dda1c",
   "metadata": {
    "execution": {
     "iopub.execute_input": "2023-10-24T22:09:51.120252Z",
     "iopub.status.busy": "2023-10-24T22:09:51.120078Z",
     "iopub.status.idle": "2023-10-24T22:09:51.212919Z",
     "shell.execute_reply": "2023-10-24T22:09:51.211491Z"
    },
    "papermill": {
     "duration": 0.709785,
     "end_time": "2023-10-24T22:09:51.214397",
     "exception": false,
     "start_time": "2023-10-24T22:09:50.504612",
     "status": "completed"
    },
    "tags": []
   },
   "outputs": [
    {
     "name": "stdout",
     "output_type": "stream",
     "text": [
      "Debug cores setup and ready for use.\n"
     ]
    }
   ],
   "source": [
    "device.discover_and_setup_cores(ltx_file=PROBES_FILE)\n",
    "print(f\"Debug cores setup and ready for use.\")"
   ]
  },
  {
   "cell_type": "markdown",
   "id": "b2f65b18",
   "metadata": {
    "lines_to_next_cell": 2,
    "papermill": {
     "duration": 0.003938,
     "end_time": "2023-10-24T22:09:51.223383",
     "exception": false,
     "start_time": "2023-10-24T22:09:51.219445",
     "status": "completed"
    },
    "tags": []
   },
   "source": [
    "## 5 - Using The VIO Core\n",
    "\n",
    "The following cells demonstrate how to perform various operations with the VIO core.\n",
    "These are meant to be useful code snippets that can be copy/pasted for your own application."
   ]
  },
  {
   "cell_type": "code",
   "execution_count": 6,
   "id": "49c08519",
   "metadata": {
    "execution": {
     "iopub.execute_input": "2023-10-24T22:09:51.232453Z",
     "iopub.status.busy": "2023-10-24T22:09:51.232248Z",
     "iopub.status.idle": "2023-10-24T22:09:54.472151Z",
     "shell.execute_reply": "2023-10-24T22:09:54.471103Z"
    },
    "papermill": {
     "duration": 3.246404,
     "end_time": "2023-10-24T22:09:54.473657",
     "exception": false,
     "start_time": "2023-10-24T22:09:51.227253",
     "status": "completed"
    },
    "tags": []
   },
   "outputs": [
    {
     "name": "stdout",
     "output_type": "stream",
     "text": [
      "       UUID                              INSTANCE NAME\n",
      "VIO-0  718A03DBCD265D969EA5C15840AEFD17  chipscopy_i/counters/vio_fast_counter_0\n",
      "VIO-1  22BC7ED6C4145AAB88C58EAEDFF2B04C  chipscopy_i/counters/vio_slow_counter_0\n",
      "VIO-2  021098F58FE659EFAD76657E635E53FE  chipscopy_i/noc_tg_bc/axis_vio_0\n",
      "VIO-3  0E76DEFA789D564080CFA5332A88DB12  chipscopy_i/noc_tg_bc/noc_tg/inst/u_top_axi_mst/u_tg_top/gen_aximm_reg_space.u_reg_space/gen_vio_status_monitor.u_vio_status_monitor\n"
     ]
    }
   ],
   "source": [
    "# Enumerate all VIO cores in the device.\n",
    "# Every VIO core has properties including a UUID and instance name.\n",
    "#\n",
    "# Print out the VIO core instance UUIDs and instance names\n",
    "# It is normal for this call to be slower the first time, and faster subsequent iterations.\n",
    "\n",
    "vio_cores = device.vio_cores\n",
    "print(\"       UUID                              INSTANCE NAME\")\n",
    "for index, vio_core in enumerate(vio_cores):\n",
    "    print(f\"VIO-{index}  {vio_core.core_info.uuid}  {vio_core.name}\")"
   ]
  },
  {
   "cell_type": "code",
   "execution_count": 7,
   "id": "92568472",
   "metadata": {
    "execution": {
     "iopub.execute_input": "2023-10-24T22:09:54.485321Z",
     "iopub.status.busy": "2023-10-24T22:09:54.484465Z",
     "iopub.status.idle": "2023-10-24T22:09:54.502946Z",
     "shell.execute_reply": "2023-10-24T22:09:54.502056Z"
    },
    "papermill": {
     "duration": 0.025058,
     "end_time": "2023-10-24T22:09:54.504267",
     "exception": false,
     "start_time": "2023-10-24T22:09:54.479209",
     "status": "completed"
    },
    "tags": []
   },
   "outputs": [
    {
     "name": "stdout",
     "output_type": "stream",
     "text": [
      "vio_by_instance_name and vio_by_uuid match!\n"
     ]
    }
   ],
   "source": [
    "# You can get a VIO core by instance name or uuid\n",
    "vio_by_instance_name = device.vio_cores.get(name=\"chipscopy_i/counters/vio_slow_counter_0\")\n",
    "the_vio_uuid = vio_by_instance_name.uuid\n",
    "\n",
    "# Grab the same VIO by UUID and ensure it is the same core\n",
    "vio_by_uuid = device.vio_cores.get(uuid = the_vio_uuid)\n",
    "assert(vio_by_instance_name == vio_by_uuid)\n",
    "\n",
    "print(\"vio_by_instance_name and vio_by_uuid match!\")"
   ]
  },
  {
   "cell_type": "code",
   "execution_count": 8,
   "id": "2f5a41e4",
   "metadata": {
    "execution": {
     "iopub.execute_input": "2023-10-24T22:09:54.514328Z",
     "iopub.status.busy": "2023-10-24T22:09:54.514144Z",
     "iopub.status.idle": "2023-10-24T22:09:54.519849Z",
     "shell.execute_reply": "2023-10-24T22:09:54.519115Z"
    },
    "papermill": {
     "duration": 0.011775,
     "end_time": "2023-10-24T22:09:54.520986",
     "exception": false,
     "start_time": "2023-10-24T22:09:54.509211",
     "status": "completed"
    },
    "tags": []
   },
   "outputs": [
    {
     "name": "stdout",
     "output_type": "stream",
     "text": [
      "VIO Port <---> Probe mapping:\n",
      "probe_in0 <-- chipscopy_i/counters/slow_counter_0_Q\n",
      "probe_out0 --> chipscopy_i/counters/slow_counter_0_CE\n",
      "probe_out1 --> chipscopy_i/counters/slow_counter_0_SCLR\n",
      "probe_out2 --> chipscopy_i/counters/slow_counter_0_UP\n",
      "probe_out3 --> chipscopy_i/counters/slow_counter_0_LOAD\n",
      "probe_out4 --> chipscopy_i/counters/slow_counter_0_L\n"
     ]
    }
   ],
   "source": [
    "# The VIO API knows the mapping between logical probes and ports on the VIO core.\n",
    "# The code below prints the probe to port mapping.\n",
    "\n",
    "vio = device.vio_cores.get(name=\"chipscopy_i/counters/vio_slow_counter_0\")\n",
    "\n",
    "print(\"VIO Port <---> Probe mapping:\")\n",
    "for probe in vio.probes:\n",
    "    if probe.direction == \"in\":\n",
    "        print(f\"{probe.port_name} <-- {probe.probe_name}\")\n",
    "    else:\n",
    "        print(f\"{probe.port_name} --> {probe.probe_name}\")"
   ]
  },
  {
   "cell_type": "code",
   "execution_count": 9,
   "id": "53d5e578",
   "metadata": {
    "execution": {
     "iopub.execute_input": "2023-10-24T22:09:54.529907Z",
     "iopub.status.busy": "2023-10-24T22:09:54.529729Z",
     "iopub.status.idle": "2023-10-24T22:09:54.761830Z",
     "shell.execute_reply": "2023-10-24T22:09:54.760982Z"
    },
    "papermill": {
     "duration": 0.238276,
     "end_time": "2023-10-24T22:09:54.763176",
     "exception": false,
     "start_time": "2023-10-24T22:09:54.524900",
     "status": "completed"
    },
    "tags": []
   },
   "outputs": [
    {
     "name": "stdout",
     "output_type": "stream",
     "text": [
      "Wrote 0x12345678 to chipscopy_i/counters/slow_counter_0_L\n"
     ]
    },
    {
     "name": "stdout",
     "output_type": "stream",
     "text": [
      "Wrote 0x11223344 to probe_out4\n"
     ]
    }
   ],
   "source": [
    "# Writing values\n",
    "# Values may be written to the ouput ports or logical named probes.\n",
    "\n",
    "vio = device.vio_cores.get(name=\"chipscopy_i/counters/vio_slow_counter_0\")\n",
    "\n",
    "# Writing values to a logical named probes:\n",
    "vio.write_probes({\n",
    "    \"chipscopy_i/counters/slow_counter_0_L\": 0x12345678\n",
    "})\n",
    "print(\"Wrote 0x12345678 to chipscopy_i/counters/slow_counter_0_L\")\n",
    "\n",
    "# Writing the value to the same VIO port:\n",
    "vio.write_ports({\n",
    "    \"probe_out4\": 0x11223344\n",
    "})\n",
    "print(\"Wrote 0x11223344 to probe_out4\")"
   ]
  },
  {
   "cell_type": "code",
   "execution_count": 10,
   "id": "8efcf745",
   "metadata": {
    "execution": {
     "iopub.execute_input": "2023-10-24T22:09:54.774304Z",
     "iopub.status.busy": "2023-10-24T22:09:54.773860Z",
     "iopub.status.idle": "2023-10-24T22:09:55.276935Z",
     "shell.execute_reply": "2023-10-24T22:09:55.275928Z"
    },
    "lines_to_next_cell": 2,
    "papermill": {
     "duration": 0.509789,
     "end_time": "2023-10-24T22:09:55.278299",
     "exception": false,
     "start_time": "2023-10-24T22:09:54.768510",
     "status": "completed"
    },
    "tags": []
   },
   "outputs": [
    {
     "name": "stdout",
     "output_type": "stream",
     "text": [
      "Counter Value: 425291840, Activity: NNNRBBBBBBBBBBBBBBBBBBBBBBBBBBBB\n",
      "Counter Value: 438301229, Activity: NNNNNNRFBBBBBBBBBBBBBBBBBBBBBBBB\n"
     ]
    },
    {
     "name": "stdout",
     "output_type": "stream",
     "text": [
      "Counter Value: 451414806, Activity: NNNNNNNNRBBBBBBBBBBBBBBBBBBBBBBB\n"
     ]
    }
   ],
   "source": [
    "# Reading VIO probe values\n",
    "# Probes are the logical names mapped to VIO ports in the LTX file.\n",
    "\n",
    "vio = device.vio_cores.get(name=\"chipscopy_i/counters/vio_slow_counter_0\")\n",
    "vio.reset_vio()\n",
    "\n",
    "# Reading all probes at once and extracting one of interest returns a dictionary of probe data.\n",
    "#   value is returned as an integer\n",
    "#   activity is a string, one acivity per bit: N=None, R=Rising, F=Falling, B=Both\n",
    "all_probe_info = vio.read_probes()\n",
    "value = all_probe_info[\"chipscopy_i/counters/slow_counter_0_Q\"][\"value\"]\n",
    "activity = all_probe_info[\"chipscopy_i/counters/slow_counter_0_Q\"][\"activity\"]\n",
    "print(f\"Counter Value: {value}, Activity: {activity}\")\n",
    "\n",
    "# Reading from a single named logical probe\n",
    "# For convenience, you can ask specifically for one or more probes to reduce the data size.\n",
    "# The returned dictionary format is the same.\n",
    "one_probe_info = vio.read_probes(\"chipscopy_i/counters/slow_counter_0_Q\")\n",
    "value = one_probe_info[\"chipscopy_i/counters/slow_counter_0_Q\"][\"value\"]\n",
    "activity = one_probe_info[\"chipscopy_i/counters/slow_counter_0_Q\"][\"activity\"]\n",
    "print(f\"Counter Value: {value}, Activity: {activity}\")\n",
    "\n",
    "# Reading the same value directly from the VIO port \"probe_in0\" - mapped to the same counter\n",
    "port_info = vio.read_ports(\"probe_in0\")\n",
    "value = port_info[\"probe_in0\"][\"value\"]\n",
    "activity = port_info[\"probe_in0\"][\"activity\"]\n",
    "print(f\"Counter Value: {value}, Activity: {activity}\")"
   ]
  },
  {
   "cell_type": "code",
   "execution_count": 11,
   "id": "e52cff84",
   "metadata": {
    "execution": {
     "iopub.execute_input": "2023-10-24T22:09:55.289401Z",
     "iopub.status.busy": "2023-10-24T22:09:55.289192Z",
     "iopub.status.idle": "2023-10-24T22:09:55.292542Z",
     "shell.execute_reply": "2023-10-24T22:09:55.291842Z"
    },
    "papermill": {
     "duration": 0.010017,
     "end_time": "2023-10-24T22:09:55.293994",
     "exception": false,
     "start_time": "2023-10-24T22:09:55.283977",
     "status": "completed"
    },
    "tags": []
   },
   "outputs": [],
   "source": [
    "# Reading probe values"
   ]
  },
  {
   "cell_type": "code",
   "execution_count": 12,
   "id": "00b31274",
   "metadata": {
    "execution": {
     "iopub.execute_input": "2023-10-24T22:09:55.306102Z",
     "iopub.status.busy": "2023-10-24T22:09:55.305902Z",
     "iopub.status.idle": "2023-10-24T22:09:55.386261Z",
     "shell.execute_reply": "2023-10-24T22:09:55.385252Z"
    },
    "lines_to_next_cell": 2,
    "papermill": {
     "duration": 0.086918,
     "end_time": "2023-10-24T22:09:55.387673",
     "exception": false,
     "start_time": "2023-10-24T22:09:55.300755",
     "status": "completed"
    },
    "tags": []
   },
   "outputs": [
    {
     "name": "stdout",
     "output_type": "stream",
     "text": [
      "VIO core chipscopy_i/counters/vio_slow_counter_0 reset to initial values.\n"
     ]
    }
   ],
   "source": [
    "# Resetting the VIO core resets all output values to the their default.\n",
    "# Default values were optionally set during implementation as a property on the VIO IP.\n",
    "\n",
    "vio = device.vio_cores.get(name=\"chipscopy_i/counters/vio_slow_counter_0\")\n",
    "vio.reset_vio()\n",
    "print(f\"VIO core {vio} reset to initial values.\")"
   ]
  },
  {
   "cell_type": "code",
   "execution_count": 13,
   "id": "de7703ed",
   "metadata": {
    "execution": {
     "iopub.execute_input": "2023-10-24T22:09:55.399926Z",
     "iopub.status.busy": "2023-10-24T22:09:55.399711Z",
     "iopub.status.idle": "2023-10-24T22:09:55.409019Z",
     "shell.execute_reply": "2023-10-24T22:09:55.408140Z"
    },
    "papermill": {
     "duration": 0.01668,
     "end_time": "2023-10-24T22:09:55.410278",
     "exception": false,
     "start_time": "2023-10-24T22:09:55.393598",
     "status": "completed"
    },
    "tags": []
   },
   "outputs": [
    {
     "name": "stdout",
     "output_type": "stream",
     "text": [
      "{   'core_info': {   'core_major_ver': 1,\n",
      "                     'core_minor_ver': 0,\n",
      "                     'core_type': 2,\n",
      "                     'drv_ver': 3,\n",
      "                     'tool_major_ver': 226,\n",
      "                     'tool_minor_ver': 0,\n",
      "                     'uuid': '22BC7ED6C4145AAB88C58EAEDFF2B04C'},\n",
      "    'input_ports': {'probe_in0': 32},\n",
      "    'instance': 'chipscopy_i/counters/vio_slow_counter_0',\n",
      "    'name': 'chipscopy_i/counters/vio_slow_counter_0',\n",
      "    'output_ports': {   'probe_out0': 1,\n",
      "                        'probe_out1': 1,\n",
      "                        'probe_out2': 1,\n",
      "                        'probe_out3': 1,\n",
      "                        'probe_out4': 32},\n",
      "    'probes': [   {   'bus_left_index': 31,\n",
      "                      'bus_right_index': 0,\n",
      "                      'direction': 'in',\n",
      "                      'is_bus': True,\n",
      "                      'port_bit_offset': 0,\n",
      "                      'port_index': 0,\n",
      "                      'probe_name': 'chipscopy_i/counters/slow_counter_0_Q'},\n",
      "                  {   'bus_left_index': 0,\n",
      "                      'bus_right_index': 0,\n",
      "                      'direction': 'out',\n",
      "                      'is_bus': False,\n",
      "                      'port_bit_offset': 0,\n",
      "                      'port_index': 0,\n",
      "                      'probe_name': 'chipscopy_i/counters/slow_counter_0_CE'},\n",
      "                  {   'bus_left_index': 0,\n",
      "                      'bus_right_index': 0,\n",
      "                      'direction': 'out',\n",
      "                      'is_bus': False,\n",
      "                      'port_bit_offset': 0,\n",
      "                      'port_index': 1,\n",
      "                      'probe_name': 'chipscopy_i/counters/slow_counter_0_SCLR'},\n",
      "                  {   'bus_left_index': 0,\n",
      "                      'bus_right_index': 0,\n",
      "                      'direction': 'out',\n",
      "                      'is_bus': False,\n",
      "                      'port_bit_offset': 0,\n",
      "                      'port_index': 2,\n",
      "                      'probe_name': 'chipscopy_i/counters/slow_counter_0_UP'},\n",
      "                  {   'bus_left_index': 0,\n",
      "                      'bus_right_index': 0,\n",
      "                      'direction': 'out',\n",
      "                      'is_bus': False,\n",
      "                      'port_bit_offset': 0,\n",
      "                      'port_index': 3,\n",
      "                      'probe_name': 'chipscopy_i/counters/slow_counter_0_LOAD'},\n",
      "                  {   'bus_left_index': 31,\n",
      "                      'bus_right_index': 0,\n",
      "                      'direction': 'out',\n",
      "                      'is_bus': True,\n",
      "                      'port_bit_offset': 0,\n",
      "                      'port_index': 4,\n",
      "                      'probe_name': 'chipscopy_i/counters/slow_counter_0_L'}],\n",
      "    'type': 'CoreType.AXIS_VIO'}\n"
     ]
    }
   ],
   "source": [
    "# You can access low level VIO properties as a dictionary or in json. \n",
    "# This gives easy python access to probe and port information.\n",
    "\n",
    "import pprint\n",
    "pp = pprint.PrettyPrinter(indent = 4)\n",
    "\n",
    "vio = device.vio_cores.get(name=\"chipscopy_i/counters/vio_slow_counter_0\")\n",
    "\n",
    "vio_dict = vio.to_dict()\n",
    "pp.pprint(vio_dict)"
   ]
  },
  {
   "cell_type": "code",
   "execution_count": 14,
   "id": "00164470",
   "metadata": {
    "execution": {
     "iopub.execute_input": "2023-10-24T22:09:55.420231Z",
     "iopub.status.busy": "2023-10-24T22:09:55.420013Z",
     "iopub.status.idle": "2023-10-24T22:09:55.426222Z",
     "shell.execute_reply": "2023-10-24T22:09:55.425517Z"
    },
    "papermill": {
     "duration": 0.012766,
     "end_time": "2023-10-24T22:09:55.427402",
     "exception": false,
     "start_time": "2023-10-24T22:09:55.414636",
     "status": "completed"
    },
    "tags": []
   },
   "outputs": [
    {
     "name": "stdout",
     "output_type": "stream",
     "text": [
      "{\n",
      "    \"core_info\": {\n",
      "        \"core_type\": 2,\n",
      "        \"drv_ver\": 3,\n",
      "        \"core_major_ver\": 1,\n",
      "        \"core_minor_ver\": 0,\n",
      "        \"tool_major_ver\": 226,\n",
      "        \"tool_minor_ver\": 0,\n",
      "        \"uuid\": \"22BC7ED6C4145AAB88C58EAEDFF2B04C\"\n",
      "    },\n",
      "    \"input_ports\": {\n",
      "        \"probe_in0\": 32\n",
      "    },\n",
      "    \"instance\": \"chipscopy_i/counters/vio_slow_counter_0\",\n",
      "    \"name\": \"chipscopy_i/counters/vio_slow_counter_0\",\n",
      "    \"output_ports\": {\n",
      "        \"probe_out0\": 1,\n",
      "        \"probe_out1\": 1,\n",
      "        \"probe_out2\": 1,\n",
      "        \"probe_out3\": 1,\n",
      "        \"probe_out4\": 32\n",
      "    },\n",
      "    \"probes\": [\n",
      "        {\n",
      "            \"probe_name\": \"chipscopy_i/counters/slow_counter_0_Q\",\n",
      "            \"direction\": \"in\",\n",
      "            \"is_bus\": true,\n",
      "            \"bus_left_index\": 31,\n",
      "            \"bus_right_index\": 0,\n",
      "            \"port_index\": 0,\n",
      "            \"port_bit_offset\": 0\n",
      "        },\n",
      "        {\n",
      "            \"probe_name\": \"chipscopy_i/counters/slow_counter_0_CE\",\n",
      "            \"direction\": \"out\",\n",
      "            \"is_bus\": false,\n",
      "            \"bus_left_index\": 0,\n",
      "            \"bus_right_index\": 0,\n",
      "            \"port_index\": 0,\n",
      "            \"port_bit_offset\": 0\n",
      "        },\n",
      "        {\n",
      "            \"probe_name\": \"chipscopy_i/counters/slow_counter_0_SCLR\",\n",
      "            \"direction\": \"out\",\n",
      "            \"is_bus\": false,\n",
      "            \"bus_left_index\": 0,\n",
      "            \"bus_right_index\": 0,\n",
      "            \"port_index\": 1,\n",
      "            \"port_bit_offset\": 0\n",
      "        },\n",
      "        {\n",
      "            \"probe_name\": \"chipscopy_i/counters/slow_counter_0_UP\",\n",
      "            \"direction\": \"out\",\n",
      "            \"is_bus\": false,\n",
      "            \"bus_left_index\": 0,\n",
      "            \"bus_right_index\": 0,\n",
      "            \"port_index\": 2,\n",
      "            \"port_bit_offset\": 0\n",
      "        },\n",
      "        {\n",
      "            \"probe_name\": \"chipscopy_i/counters/slow_counter_0_LOAD\",\n",
      "            \"direction\": \"out\",\n",
      "            \"is_bus\": false,\n",
      "            \"bus_left_index\": 0,\n",
      "            \"bus_right_index\": 0,\n",
      "            \"port_index\": 3,\n",
      "            \"port_bit_offset\": 0\n",
      "        },\n",
      "        {\n",
      "            \"probe_name\": \"chipscopy_i/counters/slow_counter_0_L\",\n",
      "            \"direction\": \"out\",\n",
      "            \"is_bus\": true,\n",
      "            \"bus_left_index\": 31,\n",
      "            \"bus_right_index\": 0,\n",
      "            \"port_index\": 4,\n",
      "            \"port_bit_offset\": 0\n",
      "        }\n",
      "    ],\n",
      "    \"type\": \"CoreType.AXIS_VIO\"\n",
      "}\n"
     ]
    }
   ],
   "source": [
    "# The VIO properties can conveniently be accessed as JSON as well.\n",
    "# This is convenient when interfacing with other languages.\n",
    "vio = device.vio_cores.get(name=\"chipscopy_i/counters/vio_slow_counter_0\")\n",
    "vio_json = vio.to_json()\n",
    "print(vio_json)"
   ]
  }
 ],
 "metadata": {
  "jupytext": {
   "cell_metadata_filter": "-all",
   "main_language": "python",
   "notebook_metadata_filter": "-all"
  },
  "language_info": {
   "codemirror_mode": {
    "name": "ipython",
    "version": 3
   },
   "file_extension": ".py",
   "mimetype": "text/x-python",
   "name": "python",
   "nbconvert_exporter": "python",
   "pygments_lexer": "ipython3",
   "version": "3.10.10"
  },
  "papermill": {
   "default_parameters": {},
   "duration": 16.185582,
   "end_time": "2023-10-24T22:09:55.950196",
   "environment_variables": {},
   "exception": null,
   "input_path": "./chipscopy-examples/ila_and_vio/vio.ipynb",
   "output_path": "./chipscopy-examples/ila_and_vio/vio.ipynb",
   "parameters": {},
   "start_time": "2023-10-24T22:09:39.764614",
   "version": "2.4.0"
  },
  "widgets": {
   "application/vnd.jupyter.widget-state+json": {
    "state": {
     "566653f3264e42c8be6eb2786c683adf": {
      "model_module": "@jupyter-widgets/output",
      "model_module_version": "1.0.0",
      "model_name": "OutputModel",
      "state": {
       "_dom_classes": [],
       "_model_module": "@jupyter-widgets/output",
       "_model_module_version": "1.0.0",
       "_model_name": "OutputModel",
       "_view_count": null,
       "_view_module": "@jupyter-widgets/output",
       "_view_module_version": "1.0.0",
       "_view_name": "OutputView",
       "layout": "IPY_MODEL_b7c3485ec87d42b990f228e62ced7020",
       "msg_id": "",
       "outputs": [
        {
         "data": {
          "text/html": "<pre style=\"white-space:pre;overflow-x:auto;line-height:normal;font-family:Menlo,'DejaVu Sans Mono',consolas,'Courier New',monospace\">Device program progress <span style=\"color: #729c1f; text-decoration-color: #729c1f\">━━━━━━━━━━━━━━━━━━━━━━━━━━━━━━━━━━━━━━━━</span> <span style=\"color: #ff00ff; text-decoration-color: #ff00ff; font-weight: bold\">100%</span> <span style=\"color: #008000; text-decoration-color: #008000; font-weight: bold\">Done</span>\n</pre>\n",
          "text/plain": "Device program progress \u001b[38;2;114;156;31m━━━━━━━━━━━━━━━━━━━━━━━━━━━━━━━━━━━━━━━━\u001b[0m \u001b[1;95m100%\u001b[0m \u001b[1;32mDone\u001b[0m\n"
         },
         "metadata": {},
         "output_type": "display_data"
        }
       ],
       "tabbable": null,
       "tooltip": null
      }
     },
     "b7c3485ec87d42b990f228e62ced7020": {
      "model_module": "@jupyter-widgets/base",
      "model_module_version": "2.0.0",
      "model_name": "LayoutModel",
      "state": {
       "_model_module": "@jupyter-widgets/base",
       "_model_module_version": "2.0.0",
       "_model_name": "LayoutModel",
       "_view_count": null,
       "_view_module": "@jupyter-widgets/base",
       "_view_module_version": "2.0.0",
       "_view_name": "LayoutView",
       "align_content": null,
       "align_items": null,
       "align_self": null,
       "border_bottom": null,
       "border_left": null,
       "border_right": null,
       "border_top": null,
       "bottom": null,
       "display": null,
       "flex": null,
       "flex_flow": null,
       "grid_area": null,
       "grid_auto_columns": null,
       "grid_auto_flow": null,
       "grid_auto_rows": null,
       "grid_column": null,
       "grid_gap": null,
       "grid_row": null,
       "grid_template_areas": null,
       "grid_template_columns": null,
       "grid_template_rows": null,
       "height": null,
       "justify_content": null,
       "justify_items": null,
       "left": null,
       "margin": null,
       "max_height": null,
       "max_width": null,
       "min_height": null,
       "min_width": null,
       "object_fit": null,
       "object_position": null,
       "order": null,
       "overflow": null,
       "padding": null,
       "right": null,
       "top": null,
       "visibility": null,
       "width": null
      }
     }
    },
    "version_major": 2,
    "version_minor": 0
   }
  }
 },
 "nbformat": 4,
 "nbformat_minor": 5
}