{
  "cells": [
    {
      "cell_type": "markdown",
      "id": "d245e103",
      "metadata": {},
      "source": [
        "<link rel=\"preconnect\" href=\"https://fonts.gstatic.com\">\n",
        "<link href=\"https://fonts.googleapis.com/css2?family=Fira+Code&display=swap\" rel=\"stylesheet\">\n",
        "\n",
        "### License\n",
        "\n",
        "<p style=\"font-family: 'Fira Code', monospace; font-size: 1.2rem\">\n",
        "Copyright (C) 2022, Xilinx, Inc.<br>\n",
        "Copyright (C) 2022-2024, Advanced Micro Devices, Inc.\n",
        "<br><br>\n",
        "Licensed under the Apache License, Version 2.0 (the \"License\");<br>\n",
        "you may not use this file except in compliance with the License.<br><br>\n",
        "You may obtain a copy of the License at <a href=\"http://www.apache.org/licenses/LICENSE-2.0\"?>http://www.apache.org/licenses/LICENSE-2.0</a><br><br>\n",
        "Unless required by applicable law or agreed to in writing, software<br>\n",
        "distributed under the License is distributed on an \"AS IS\" BASIS,<br>\n",
        "WITHOUT WARRANTIES OR CONDITIONS OF ANY KIND, either express or implied.<br>\n",
        "See the License for the specific language governing permissions and<br>\n",
        "limitations under the License.<br>\n",
        "</p>\n"
      ],
      "outputs": [],
      "execution_count": null
    },
    {
      "cell_type": "markdown",
      "id": "81fbda3b",
      "metadata": {},
      "source": [
        "# ChipScoPy ILA and VIO Example\n",
        "\n",
        "\n",
        "<img src=\"../img/api_overview.png\" width=\"500\" align=\"left\">"
      ],
      "outputs": [],
      "execution_count": null
    },
    {
      "cell_type": "markdown",
      "id": "e698f67a",
      "metadata": {},
      "source": [
        "## Description\n",
        "This example demonstrates how to program and communicate with ILA (Integrated Logic Analyzer) and\n",
        "VIO (Virtual IO) cores using the ChipScoPy Python API.\n",
        "\n",
        "\n",
        "## Requirements\n",
        "- Local or remote Xilinx Versal board, such as a VCK190\n",
        "- Xilinx hw_server 2023.2 installed and running\n",
        "- Xilinx cs_server 2023.2 installed and running\n",
        "- Python 3.8 or greater installed\n",
        "- ChipScoPy 2023.2 installed\n",
        "- Jupyter notebook support installed - Please do so, using the command `pip install chipscopy[jupyter]`"
      ],
      "outputs": [],
      "execution_count": null
    },
    {
      "cell_type": "markdown",
      "id": "ab60225b",
      "metadata": {},
      "source": [
        "## 1 - Initialization: Imports and File Paths\n",
        "\n",
        "After this step,\n",
        "- Required functions and classes are imported\n",
        "- URL paths are set correctly\n",
        "- File paths to example files are set correctly"
      ],
      "outputs": [],
      "execution_count": null
    },
    {
      "cell_type": "code",
      "execution_count": null,
      "id": "e2e79592",
      "metadata": {},
      "outputs": [],
      "source": [
        "import sys\n",
        "import os\n",
        "from chipscopy import get_design_files\n",
        "from chipscopy import create_session, report_versions, delete_session"
      ]
    },
    {
      "cell_type": "code",
      "execution_count": null,
      "id": "5132ba75",
      "metadata": {},
      "outputs": [],
      "source": [
        "# Make sure to start the hw_server and cs_server prior to running.\n",
        "# Specify locations of the running hw_server and cs_server below.\n",
        "# The default is localhost - but can be other locations on the network.\n",
        "CS_URL = os.getenv(\"CS_SERVER_URL\", \"TCP:localhost:3042\")\n",
        "HW_URL = os.getenv(\"HW_SERVER_URL\", \"TCP:localhost:3121\")\n",
        "\n",
        "# specify hw and if programming is desired\n",
        "HW_PLATFORM = os.getenv(\"HW_PLATFORM\", \"vck190\")\n",
        "PROG_DEVICE = os.getenv(\"PROG_DEVICE\", True)\n",
        "\n",
        "# The get_design_files() function tries to find the PDI and LTX files. In non-standard\n",
        "# configurations, you can put the path for PROGRAMMING_FILE and PROBES_FILE below.\n",
        "design_files = get_design_files(f\"{HW_PLATFORM}/production/chipscopy_ced\")\n",
        "\n",
        "PROGRAMMING_FILE = design_files.programming_file\n",
        "PROBES_FILE = design_files.probes_file\n",
        "\n",
        "print(f\"HW_URL: {HW_URL}\")\n",
        "print(f\"CS_URL: {CS_URL}\")\n",
        "print(f\"PROGRAMMING_FILE: {PROGRAMMING_FILE}\")\n",
        "print(f\"PROBES_FILE:{PROBES_FILE}\")"
      ]
    },
    {
      "cell_type": "markdown",
      "id": "2a4adfbc",
      "metadata": {},
      "source": [
        "## 2 - Create a session and connect to the hw_server and cs_server\n",
        "\n",
        "The session is a container that keeps track of devices and debug cores.\n",
        "After this step,\n",
        "- Session is initialized and connected to server(s)\n",
        "- Versions are detected and reported to stdout"
      ],
      "outputs": [],
      "execution_count": null
    },
    {
      "cell_type": "code",
      "execution_count": null,
      "id": "74f36cfc",
      "metadata": {},
      "outputs": [],
      "source": [
        "session = create_session(cs_server_url=CS_URL, hw_server_url=HW_URL)\n",
        "report_versions(session)"
      ]
    },
    {
      "cell_type": "markdown",
      "id": "03079d15",
      "metadata": {},
      "source": [
        "## 3 - Program the device with the example design\n",
        "\n",
        "After this step,\n",
        "- Device is programmed with the example programming file"
      ],
      "outputs": [],
      "execution_count": null
    },
    {
      "cell_type": "code",
      "execution_count": null,
      "id": "6cfb61c7",
      "metadata": {},
      "outputs": [],
      "source": [
        "# Typical case - one device on the board - get it.\n",
        "device = session.devices.filter_by(family=\"versal\").get()\n",
        "device.program(PROGRAMMING_FILE)"
      ]
    },
    {
      "cell_type": "markdown",
      "id": "9011ad99",
      "metadata": {},
      "source": [
        "## 4 - Discover Debug Cores\n",
        "\n",
        "Debug core discovery initializes the chipscope server debug cores. This brings debug cores in the chipscope server online.\n",
        "\n",
        "After this step,\n",
        "\n",
        "- The cs_server is initialized and ready for use\n",
        "- ILA and VIO core instances in the device are reported"
      ],
      "outputs": [],
      "execution_count": null
    },
    {
      "cell_type": "code",
      "execution_count": null,
      "id": "7b4b20e9",
      "metadata": {},
      "outputs": [],
      "source": [
        "device.discover_and_setup_cores(ltx_file=PROBES_FILE)\n",
        "print(f\"Debug cores setup and ready for use.\")"
      ]
    },
    {
      "cell_type": "code",
      "execution_count": null,
      "id": "af3f4849",
      "metadata": {},
      "outputs": [],
      "source": [
        "# Print out the ILA core instance UUIDs and instance names\n",
        "ila_cores = device.ila_cores\n",
        "for index, ila_core in enumerate(ila_cores):\n",
        "    print(f\"{index} - {ila_core.core_info.uuid}   {ila_core.name}\")"
      ]
    },
    {
      "cell_type": "code",
      "execution_count": null,
      "id": "894cf173",
      "metadata": {},
      "outputs": [],
      "source": [
        "# Print out the VIO core instance UUIDs and instance names\n",
        "vio_cores = device.vio_cores\n",
        "for index, vio_core in enumerate(vio_cores):\n",
        "    print(f\"{index} - {vio_core.core_info.uuid}   {vio_core.name}\")"
      ]
    },
    {
      "cell_type": "markdown",
      "id": "6a4abaf6",
      "metadata": {},
      "source": [
        "## 5 - VIO Control and ILA Capture\n",
        "\n",
        "ILA and VIO are two important building blocks for debugging applications in hardware.\n",
        "This example design design shows how to control IP using a VIO core and capture results with ILA.\n",
        "\n",
        "In this Design,\n",
        "- A VIO core controls the counter (reset, up/down, ce, load)\n",
        "- An ILA core captures the counter values\n"
      ],
      "outputs": [],
      "execution_count": null
    },
    {
      "cell_type": "markdown",
      "id": "92702039",
      "metadata": {},
      "source": [
        "<img src=\"img/capture_data.png\" width=\"400\" align=\"left\">"
      ],
      "outputs": [],
      "execution_count": null
    },
    {
      "cell_type": "code",
      "execution_count": null,
      "id": "2bfa8050",
      "metadata": {},
      "outputs": [],
      "source": [
        "# Grab the two cores we are interested in for the demonstration\n",
        "# As shown above, a counter is connected to the ILA core.\n",
        "# The VIO core controls the counter.\n",
        "\n",
        "ila = device.ila_cores.get(name=\"chipscopy_i/counters/ila_slow_counter_0\")\n",
        "vio = device.vio_cores.get(name=\"chipscopy_i/counters/vio_slow_counter_0\")\n",
        "\n",
        "print(f\"Using ILA: {ila.core_info.uuid}  {ila.name}\")\n",
        "print(f\"Using VIO: {vio.core_info.uuid}  {vio.name}\")"
      ]
    },
    {
      "cell_type": "markdown",
      "id": "e4f0dd59",
      "metadata": {},
      "source": [
        "### 5a - Configure the counter using VIO output probes\n",
        "\n",
        "<img src=\"img/vio_control_counter.png\" width=\"300\" align=\"left\">"
      ],
      "outputs": [],
      "execution_count": null
    },
    {
      "cell_type": "code",
      "execution_count": null,
      "id": "de4a797b",
      "metadata": {},
      "outputs": [],
      "source": [
        "# Print all the VIO port and probe names. This is convenient to know which probes are connected to\n",
        "# VIO ports. Also verifies probe names to pass to other functions.\n",
        "\n",
        "print(\"VIO Port <---> Probe mapping:\")\n",
        "for probe in vio.probes:\n",
        "    if probe.direction == \"in\":\n",
        "        print(f\"{probe.port_name} <-- {probe.probe_name}\")\n",
        "    else:\n",
        "        print(f\"{probe.port_name} --> {probe.probe_name}\")"
      ]
    },
    {
      "cell_type": "code",
      "execution_count": null,
      "id": "64e000e5",
      "metadata": {},
      "outputs": [],
      "source": [
        "# Set up the VIO core to enable counting up from 0\n",
        "#\n",
        "vio.reset_vio()\n",
        "vio.write_probes(\n",
        "    {\n",
        "        \"chipscopy_i/counters/slow_counter_0_SCLR\": 0,\n",
        "        \"chipscopy_i/counters/slow_counter_0_L\": 0x00000000,\n",
        "        \"chipscopy_i/counters/slow_counter_0_LOAD\": 0,\n",
        "        \"chipscopy_i/counters/slow_counter_0_UP\": 1,\n",
        "        \"chipscopy_i/counters/slow_counter_0_CE\": 1,\n",
        "    }\n",
        ")\n",
        "print(\"Counter is now free-running and counting up\")"
      ]
    },
    {
      "cell_type": "markdown",
      "id": "1e77fbd4",
      "metadata": {},
      "source": [
        "### 5b - Capture and display free-running counter using the ILA core\n",
        "\n",
        "<img src=\"img/free_running_counter.png\" width=\"350\" align=\"left\">"
      ],
      "outputs": [],
      "execution_count": null
    },
    {
      "cell_type": "code",
      "execution_count": null,
      "id": "8d00c552",
      "metadata": {},
      "outputs": [],
      "source": [
        "# Trigger ILA on the free running counter. Trigger set to the first time we see 0s in low 16-bits.\n",
        "# This will show the counter is free running, and counting up\n",
        "\n",
        "ila.reset_probes()\n",
        "ila.set_probe_trigger_value(\"chipscopy_i/counters/slow_counter_0_Q_1\", [\"==\", \"0xXXXX_0000\"])\n",
        "ila.run_basic_trigger(window_count=1, window_size=32, trigger_position=16)\n",
        "print(\"ILA is running - looking for trigger\")"
      ]
    },
    {
      "cell_type": "code",
      "execution_count": null,
      "id": "f48220fc",
      "metadata": {},
      "outputs": [],
      "source": [
        "# Wait for the ILA trigger with upload.\n",
        "# Then print the captured ILA samples and mark the trigger position.\n",
        "\n",
        "ila.wait_till_done(max_wait_minutes=0.1)\n",
        "upload_successful = ila.upload()\n",
        "if upload_successful:\n",
        "    samples = ila.waveform.get_data(\n",
        "        [\"chipscopy_i/counters/slow_counter_0_Q_1\"],\n",
        "        include_trigger=True,\n",
        "        include_sample_info=True,\n",
        "    )\n",
        "    for trigger, sample_index, window_index, window_sample_index, value in zip(*samples.values()):\n",
        "        trigger = \"<-- Trigger\" if trigger else \"\"\n",
        "        print(\n",
        "            f\"Window:{window_index}  Window Sample:{window_sample_index}  {value:10}  0x{value:08X} {trigger}\"\n",
        "        )\n",
        "else:\n",
        "    print(\"Failed to upload ILA data from core\")"
      ]
    },
    {
      "cell_type": "markdown",
      "id": "897d701b",
      "metadata": {},
      "source": [
        "### 5c - Trigger ILA using VIO Up/Down virtual switch\n",
        "\n",
        "This step demonstrates how VIO and ILA can be combined to form powerful debug building blocks.\n",
        "\n",
        "ILA is set to trigger when UP/DOWN counter signal edge rises or falls.\n",
        "VIO drives the UP/DOWN counter control signal to 0 causing the counter to count down.\n",
        "The signal transition causes ILA to trigger and capture data.\n",
        "\n",
        "After this step,\n",
        "- VIO drives counter to count from UP to DOWN\n",
        "- ILA triggers on the UP to DOWN signal transition\n",
        "- Waveform uploaded with the up/down trigger sample in the center of captured data\n"
      ],
      "outputs": [],
      "execution_count": null
    },
    {
      "cell_type": "markdown",
      "id": "58fdd7e9",
      "metadata": {},
      "source": [
        "<img src=\"img/edge_trigger.png\" width=\"550\" align=\"left\">"
      ],
      "outputs": [],
      "execution_count": null
    },
    {
      "cell_type": "code",
      "execution_count": null,
      "id": "021be3c6",
      "metadata": {},
      "outputs": [],
      "source": [
        "# Set ILA core to capture on a transition of the UP/DOWN toggle switch\n",
        "# Once transition happens, trigger in the middle of the buffer.\n",
        "\n",
        "ila.reset_probes()\n",
        "ila.set_probe_trigger_value(\"chipscopy_i/counters/slow_counter_0_UP_1\", [\"==\", \"B\"])\n",
        "ila.run_basic_trigger(window_count=1, window_size=32, trigger_position=16)\n",
        "\n",
        "print(\"ILA is running - looking for trigger\")"
      ]
    },
    {
      "cell_type": "code",
      "execution_count": null,
      "id": "f09528ea",
      "metadata": {},
      "outputs": [],
      "source": [
        "# VIO: Turn counter up/down switch to DOWN position.\n",
        "# This will cause the running ILA to trigger on the transition edge from up to down.\n",
        "\n",
        "vio.write_probes({\"chipscopy_i/counters/slow_counter_0_UP\": 0})\n",
        "\n",
        "print(\"VIO changed up/down counter to count down\")"
      ]
    },
    {
      "cell_type": "code",
      "execution_count": null,
      "id": "ee7b08c2",
      "metadata": {},
      "outputs": [],
      "source": [
        "# Print the captured ILA samples and mark the trigger position.\n",
        "# Note that counter counts down after the trigger mark.\n",
        "\n",
        "ila.wait_till_done(max_wait_minutes=0.1)\n",
        "upload_successful = ila.upload()\n",
        "if upload_successful:\n",
        "    samples = ila.waveform.get_data(\n",
        "        [\"chipscopy_i/counters/slow_counter_0_Q_1\"],\n",
        "        include_trigger=True,\n",
        "        include_sample_info=True,\n",
        "    )\n",
        "    for trigger, sample_index, window_index, window_sample_index, value in zip(*samples.values()):\n",
        "        trigger = \"<-- Trigger\" if trigger else \"\"\n",
        "        print(\n",
        "            f\"Window:{window_index}  Window Sample:{window_sample_index}  {value:10}  0x{value:08X} {trigger}\"\n",
        "        )\n",
        "else:\n",
        "    print(\"Failed to upload ILA data from core\")"
      ]
    },
    {
      "cell_type": "markdown",
      "id": "f61d21e8",
      "metadata": {},
      "source": [
        "## 6 - Waveform Export - VCD (or CSV)\n",
        "\n",
        " Demonstrate how to export waveform data to a VCD file for visualizing waveform in other tools.\n",
        "\n",
        " Export includes complete waveform with probe, _TRIGGER, and _WINDOW.\n",
        "\n",
        " - For CSV export, substitute \"CSV\" for \"VCD\" argument.\n",
        " - To export to a file, substitute the filename for 'sys.stdout'"
      ],
      "outputs": [],
      "execution_count": null
    },
    {
      "cell_type": "code",
      "execution_count": null,
      "id": "d90ab86c",
      "metadata": {},
      "outputs": [],
      "source": [
        "if upload_successful:\n",
        "    ila.waveform.export_waveform(\"VCD\", sys.stdout)"
      ]
    },
    {
      "cell_type": "code",
      "execution_count": null,
      "id": "8463f053",
      "metadata": {},
      "outputs": [],
      "source": [
        "## When done with testing, close the connection\n",
        "delete_session(session)"
      ]
    }
  ],
  "metadata": {},
  "nbformat": 4,
  "nbformat_minor": 5
}
