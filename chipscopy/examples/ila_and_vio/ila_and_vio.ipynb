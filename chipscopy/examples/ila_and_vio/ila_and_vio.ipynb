{
  "cells": [
    {
      "cell_type": "markdown",
      "id": "d245e103",
      "metadata": {},
      "source": [
        "<link rel=\"preconnect\" href=\"https://fonts.gstatic.com\">\n",
        "<link href=\"https://fonts.googleapis.com/css2?family=Fira+Code&display=swap\" rel=\"stylesheet\">\n",
        "\n",
        "### License\n",
        "\n",
        "<p style=\"font-family: 'Fira Code', monospace; font-size: 1.2rem\">\n",
        "Copyright (C) 2022, Xilinx, Inc.<br>\n",
        "Copyright (C) 2022-2024, Advanced Micro Devices, Inc.\n",
        "<br><br>\n",
        "Licensed under the Apache License, Version 2.0 (the \"License\");<br>\n",
        "you may not use this file except in compliance with the License.<br><br>\n",
        "You may obtain a copy of the License at <a href=\"http://www.apache.org/licenses/LICENSE-2.0\"?>http://www.apache.org/licenses/LICENSE-2.0</a><br><br>\n",
        "Unless required by applicable law or agreed to in writing, software<br>\n",
        "distributed under the License is distributed on an \"AS IS\" BASIS,<br>\n",
        "WITHOUT WARRANTIES OR CONDITIONS OF ANY KIND, either express or implied.<br>\n",
        "See the License for the specific language governing permissions and<br>\n",
        "limitations under the License.<br>\n",
        "</p>\n"
      ]
    },
    {
      "cell_type": "markdown",
      "id": "81fbda3b",
      "metadata": {},
      "source": [
        "# ChipScoPy ILA and VIO Example\n",
        "\n",
        "\n",
        "<img src=\"../img/api_overview.png\" width=\"500\" align=\"left\">"
      ]
    },
    {
      "cell_type": "markdown",
      "id": "e698f67a",
      "metadata": {},
      "source": [
        "## Description\n",
        "This example demonstrates how to program and communicate with ILA (Integrated Logic Analyzer) and\n",
        "VIO (Virtual IO) cores using the ChipScoPy Python API.\n",
        "\n",
        "\n",
        "## Requirements\n",
        "- Local or remote Xilinx Versal board, such as a VCK190\n",
        "- Xilinx hw_server 2025.1 installed and running\n",
        "- Xilinx cs_server 2025.1 installed and running\n",
        "- Python 3.9 or greater installed\n",
        "- ChipScoPy 2025.1 installed\n",
        "- Jupyter notebook support installed - Please do so, using the command `pip install chipscopy[jupyter]`"
      ]
    },
    {
      "cell_type": "markdown",
      "id": "ab60225b",
      "metadata": {},
      "source": [
        "## 1 - Initialization: Imports and File Paths\n",
        "\n",
        "After this step,\n",
        "- Required functions and classes are imported\n",
        "- URL paths are set correctly\n",
        "- File paths to example files are set correctly"
      ]
    },
    {
      "cell_type": "code",
      "execution_count": 1,
      "id": "e2e79592",
      "metadata": {},
      "outputs": [],
      "source": [
        "import sys\n",
        "import os\n",
        "from chipscopy import get_design_files\n",
        "from chipscopy import create_session, report_versions, delete_session"
      ]
    },
    {
      "cell_type": "code",
      "execution_count": 2,
      "id": "5132ba75",
      "metadata": {},
      "outputs": [
        {
          "name": "stdout",
          "output_type": "stream",
          "text": [
            "HW_URL: TCP:localhost:3121\n",
            "CS_URL: TCP:localhost:3042\n",
            "PROGRAMMING_FILE: /scratch/wrk/chipscopy/chipscopy/examples/designs/vck190/production/chipscopy_ced/chipscopy_wrapper.pdi\n",
            "PROBES_FILE:/scratch/wrk/chipscopy/chipscopy/examples/designs/vck190/production/chipscopy_ced/chipscopy_wrapper.ltx\n"
          ]
        }
      ],
      "source": [
        "# Make sure to start the hw_server and cs_server prior to running.\n",
        "# Specify locations of the running hw_server and cs_server below.\n",
        "# The default is localhost - but can be other locations on the network.\n",
        "CS_URL = os.getenv(\"CS_SERVER_URL\", \"TCP:localhost:3042\")\n",
        "HW_URL = os.getenv(\"HW_SERVER_URL\", \"TCP:localhost:3121\")\n",
        "\n",
        "# specify hw and if programming is desired\n",
        "HW_PLATFORM = os.getenv(\"HW_PLATFORM\", \"vck190\")\n",
        "PROG_DEVICE = os.getenv(\"PROG_DEVICE\", True)\n",
        "\n",
        "# The get_design_files() function tries to find the PDI and LTX files. In non-standard\n",
        "# configurations, you can put the path for PROGRAMMING_FILE and PROBES_FILE below.\n",
        "design_files = get_design_files(f\"{HW_PLATFORM}/production/chipscopy_ced\")\n",
        "\n",
        "PROGRAMMING_FILE = design_files.programming_file\n",
        "PROBES_FILE = design_files.probes_file\n",
        "\n",
        "print(f\"HW_URL: {HW_URL}\")\n",
        "print(f\"CS_URL: {CS_URL}\")\n",
        "print(f\"PROGRAMMING_FILE: {PROGRAMMING_FILE}\")\n",
        "print(f\"PROBES_FILE:{PROBES_FILE}\")"
      ]
    },
    {
      "cell_type": "markdown",
      "id": "2a4adfbc",
      "metadata": {},
      "source": [
        "## 2 - Create a session and connect to the hw_server and cs_server\n",
        "\n",
        "The session is a container that keeps track of devices and debug cores.\n",
        "After this step,\n",
        "- Session is initialized and connected to server(s)\n",
        "- Versions are detected and reported to stdout"
      ]
    },
    {
      "cell_type": "code",
      "execution_count": 3,
      "id": "74f36cfc",
      "metadata": {},
      "outputs": [
        {
          "data": {
            "text/html": [
              "<pre style=\"white-space:pre;overflow-x:auto;line-height:normal;font-family:Menlo,'DejaVu Sans Mono',consolas,'Courier New',monospace\">\n",
              "\n",
              "</pre>\n"
            ],
            "text/plain": [
              "\n",
              "\n"
            ]
          },
          "metadata": {},
          "output_type": "display_data"
        },
        {
          "data": {
            "text/html": [
              "<pre style=\"white-space:pre;overflow-x:auto;line-height:normal;font-family:Menlo,'DejaVu Sans Mono',consolas,'Courier New',monospace\"><span style=\"font-style: italic\">                      ChipScoPy Version Information                      </span>\n",
              "┌────────────────────────────┬──────────────────────────────────────────┐\n",
              "│<span style=\"font-weight: bold\">                     Entity </span>│<span style=\"font-weight: bold\"> Version                                  </span>│\n",
              "├────────────────────────────┼──────────────────────────────────────────┤\n",
              "│                  ChipScoPy │ ┌───────────┬──────────────────────┐     │\n",
              "│                            │ │<span style=\"font-weight: bold\"> Attribute </span>│<span style=\"font-weight: bold\"> Value                </span>│     │\n",
              "│                            │ ├───────────┼──────────────────────┤     │\n",
              "│                            │ │     Build │ 2025.1.1747162617    │     │\n",
              "│                            │ │ Timestamp │ May 13 2025-11:56:57 │     │\n",
              "│                            │ └───────────┴──────────────────────┘     │\n",
              "│                            │                                          │\n",
              "│ hw_server @ localhost:3121 │ ┌───────────┬───────────┐                │\n",
              "│                            │ │<span style=\"font-weight: bold\"> Attribute </span>│<span style=\"font-weight: bold\"> Value     </span>│                │\n",
              "│                            │ ├───────────┼───────────┤                │\n",
              "│                            │ │    Status │ Connected │                │\n",
              "│                            │ │     Build │ 0         │                │\n",
              "│                            │ │   Version │ 2025.1    │                │\n",
              "│                            │ │ Timestamp │           │                │\n",
              "│                            │ └───────────┴───────────┘                │\n",
              "│                            │                                          │\n",
              "│ cs_server @ localhost:3042 │ ┌───────────────┬──────────────────────┐ │\n",
              "│                            │ │<span style=\"font-weight: bold\">     Attribute </span>│<span style=\"font-weight: bold\"> Value                </span>│ │\n",
              "│                            │ ├───────────────┼──────────────────────┤ │\n",
              "│                            │ │        Status │ Connected            │ │\n",
              "│                            │ │         Build │ 1747163727           │ │\n",
              "│                            │ │       Version │ 2025.1.0             │ │\n",
              "│                            │ │     Timestamp │ May 13 2025-12:15:27 │ │\n",
              "│                            │ │       Package │ 2025.1.1747163727    │ │\n",
              "│                            │ │ Artifact type │ pyinstaller          │ │\n",
              "│                            │ └───────────────┴──────────────────────┘ │\n",
              "└────────────────────────────┴──────────────────────────────────────────┘\n",
              "</pre>\n"
            ],
            "text/plain": [
              "\u001b[3m                      ChipScoPy Version Information                      \u001b[0m\n",
              "┌────────────────────────────┬──────────────────────────────────────────┐\n",
              "│\u001b[1m \u001b[0m\u001b[1m                    Entity\u001b[0m\u001b[1m \u001b[0m│\u001b[1m \u001b[0m\u001b[1mVersion                                 \u001b[0m\u001b[1m \u001b[0m│\n",
              "├────────────────────────────┼──────────────────────────────────────────┤\n",
              "│                  ChipScoPy │ ┌───────────┬──────────────────────┐     │\n",
              "│                            │ │\u001b[1m \u001b[0m\u001b[1mAttribute\u001b[0m\u001b[1m \u001b[0m│\u001b[1m \u001b[0m\u001b[1mValue               \u001b[0m\u001b[1m \u001b[0m│     │\n",
              "│                            │ ├───────────┼──────────────────────┤     │\n",
              "│                            │ │     Build │ 2025.1.1747162617    │     │\n",
              "│                            │ │ Timestamp │ May 13 2025-11:56:57 │     │\n",
              "│                            │ └───────────┴──────────────────────┘     │\n",
              "│                            │                                          │\n",
              "│ hw_server @ localhost:3121 │ ┌───────────┬───────────┐                │\n",
              "│                            │ │\u001b[1m \u001b[0m\u001b[1mAttribute\u001b[0m\u001b[1m \u001b[0m│\u001b[1m \u001b[0m\u001b[1mValue    \u001b[0m\u001b[1m \u001b[0m│                │\n",
              "│                            │ ├───────────┼───────────┤                │\n",
              "│                            │ │    Status │ Connected │                │\n",
              "│                            │ │     Build │ 0         │                │\n",
              "│                            │ │   Version │ 2025.1    │                │\n",
              "│                            │ │ Timestamp │           │                │\n",
              "│                            │ └───────────┴───────────┘                │\n",
              "│                            │                                          │\n",
              "│ cs_server @ localhost:3042 │ ┌───────────────┬──────────────────────┐ │\n",
              "│                            │ │\u001b[1m \u001b[0m\u001b[1m    Attribute\u001b[0m\u001b[1m \u001b[0m│\u001b[1m \u001b[0m\u001b[1mValue               \u001b[0m\u001b[1m \u001b[0m│ │\n",
              "│                            │ ├───────────────┼──────────────────────┤ │\n",
              "│                            │ │        Status │ Connected            │ │\n",
              "│                            │ │         Build │ 1747163727           │ │\n",
              "│                            │ │       Version │ 2025.1.0             │ │\n",
              "│                            │ │     Timestamp │ May 13 2025-12:15:27 │ │\n",
              "│                            │ │       Package │ 2025.1.1747163727    │ │\n",
              "│                            │ │ Artifact type │ pyinstaller          │ │\n",
              "│                            │ └───────────────┴──────────────────────┘ │\n",
              "└────────────────────────────┴──────────────────────────────────────────┘\n"
            ]
          },
          "metadata": {},
          "output_type": "display_data"
        },
        {
          "data": {
            "text/html": [
              "<pre style=\"white-space:pre;overflow-x:auto;line-height:normal;font-family:Menlo,'DejaVu Sans Mono',consolas,'Courier New',monospace\">\n",
              "\n",
              "</pre>\n"
            ],
            "text/plain": [
              "\n",
              "\n"
            ]
          },
          "metadata": {},
          "output_type": "display_data"
        }
      ],
      "source": [
        "session = create_session(cs_server_url=CS_URL, hw_server_url=HW_URL)\n",
        "report_versions(session)"
      ]
    },
    {
      "cell_type": "markdown",
      "id": "03079d15",
      "metadata": {},
      "source": [
        "## 3 - Program the device with the example design\n",
        "\n",
        "After this step,\n",
        "- Device is programmed with the example programming file"
      ]
    },
    {
      "cell_type": "code",
      "execution_count": 4,
      "id": "6cfb61c7",
      "metadata": {},
      "outputs": [
        {
          "data": {
            "text/html": [
              "<pre style=\"white-space:pre;overflow-x:auto;line-height:normal;font-family:Menlo,'DejaVu Sans Mono',consolas,'Courier New',monospace\">\n",
              "<span style=\"font-weight: bold\">--&gt; INFO: </span>Programming device with: \n",
              "/scratch/wrk/chipscopy/chipscopy/examples/designs/vck190/production/chipscopy_ced/chipscopy_wrapper.pdi\n",
              "    \n",
              "</pre>\n"
            ],
            "text/plain": [
              "\n",
              "\u001b[1m--> INFO: \u001b[0mProgramming device with: \n",
              "/scratch/wrk/chipscopy/chipscopy/examples/designs/vck190/production/chipscopy_ced/chipscopy_wrapper.pdi\n",
              "    \n"
            ]
          },
          "metadata": {},
          "output_type": "display_data"
        },
        {
          "data": {
            "application/vnd.jupyter.widget-view+json": {
              "model_id": "91c24fd4474049d9bb17f1546391e425",
              "version_major": 2,
              "version_minor": 0
            },
            "text/plain": [
              "Output()"
            ]
          },
          "metadata": {},
          "output_type": "display_data"
        },
        {
          "data": {
            "text/html": [
              "<pre style=\"white-space:pre;overflow-x:auto;line-height:normal;font-family:Menlo,'DejaVu Sans Mono',consolas,'Courier New',monospace\"></pre>\n"
            ],
            "text/plain": []
          },
          "metadata": {},
          "output_type": "display_data"
        }
      ],
      "source": [
        "# Typical case - one device on the board - get it.\n",
        "device = session.devices.filter_by(family=\"versal\").get()\n",
        "device.program(PROGRAMMING_FILE)"
      ]
    },
    {
      "cell_type": "markdown",
      "id": "9011ad99",
      "metadata": {},
      "source": [
        "## 4 - Discover Debug Cores\n",
        "\n",
        "Debug core discovery initializes the chipscope server debug cores. This brings debug cores in the chipscope server online.\n",
        "\n",
        "After this step,\n",
        "\n",
        "- The cs_server is initialized and ready for use\n",
        "- ILA and VIO core instances in the device are reported"
      ]
    },
    {
      "cell_type": "code",
      "execution_count": 5,
      "id": "7b4b20e9",
      "metadata": {},
      "outputs": [
        {
          "name": "stdout",
          "output_type": "stream",
          "text": [
            "Debug cores setup and ready for use.\n"
          ]
        }
      ],
      "source": [
        "device.discover_and_setup_cores(ltx_file=PROBES_FILE)\n",
        "print(f\"Debug cores setup and ready for use.\")"
      ]
    },
    {
      "cell_type": "code",
      "execution_count": 6,
      "id": "af3f4849",
      "metadata": {},
      "outputs": [
        {
          "name": "stdout",
          "output_type": "stream",
          "text": [
            "0 - C53C0D3572B655B6A8A13A86686D262D   chipscopy_i/noc_tg_bc/noc_bc_axis_ila_0\n",
            "1 - D62FB110F1A25D439EB15D9149F450CE   chipscopy_i/counters/ila_fast_counter_0\n",
            "2 - 9125D1429AD25223AECDD656C2856755   chipscopy_i/counters/ila_slow_counter_0\n"
          ]
        }
      ],
      "source": [
        "# Print out the ILA core instance UUIDs and instance names\n",
        "ila_cores = device.ila_cores\n",
        "for index, ila_core in enumerate(ila_cores):\n",
        "    print(f\"{index} - {ila_core.core_info.uuid}   {ila_core.name}\")"
      ]
    },
    {
      "cell_type": "code",
      "execution_count": 7,
      "id": "894cf173",
      "metadata": {},
      "outputs": [
        {
          "name": "stdout",
          "output_type": "stream",
          "text": [
            "0 - 021098F58FE659EFAD76657E635E53FE   chipscopy_i/noc_tg_bc/axis_vio_0\n",
            "1 - 0E76DEFA789D564080CFA5332A88DB12   chipscopy_i/noc_tg_bc/noc_tg/inst/u_top_axi_mst/u_tg_top/gen_aximm_reg_space.u_reg_space/gen_vio_status_monitor.u_vio_status_monitor\n",
            "2 - 718A03DBCD265D969EA5C15840AEFD17   chipscopy_i/counters/vio_fast_counter_0\n",
            "3 - 22BC7ED6C4145AAB88C58EAEDFF2B04C   chipscopy_i/counters/vio_slow_counter_0\n"
          ]
        }
      ],
      "source": [
        "# Print out the VIO core instance UUIDs and instance names\n",
        "vio_cores = device.vio_cores\n",
        "for index, vio_core in enumerate(vio_cores):\n",
        "    print(f\"{index} - {vio_core.core_info.uuid}   {vio_core.name}\")"
      ]
    },
    {
      "cell_type": "markdown",
      "id": "6a4abaf6",
      "metadata": {},
      "source": [
        "## 5 - VIO Control and ILA Capture\n",
        "\n",
        "ILA and VIO are two important building blocks for debugging applications in hardware.\n",
        "This example design design shows how to control IP using a VIO core and capture results with ILA.\n",
        "\n",
        "In this Design,\n",
        "- A VIO core controls the counter (reset, up/down, ce, load)\n",
        "- An ILA core captures the counter values\n"
      ]
    },
    {
      "cell_type": "markdown",
      "id": "92702039",
      "metadata": {},
      "source": [
        "<img src=\"img/capture_data.png\" width=\"400\" align=\"left\">"
      ]
    },
    {
      "cell_type": "code",
      "execution_count": 8,
      "id": "2bfa8050",
      "metadata": {},
      "outputs": [
        {
          "name": "stdout",
          "output_type": "stream",
          "text": [
            "Using ILA: 9125D1429AD25223AECDD656C2856755  chipscopy_i/counters/ila_slow_counter_0\n",
            "Using VIO: 22BC7ED6C4145AAB88C58EAEDFF2B04C  chipscopy_i/counters/vio_slow_counter_0\n"
          ]
        }
      ],
      "source": [
        "# Grab the two cores we are interested in for the demonstration\n",
        "# As shown above, a counter is connected to the ILA core.\n",
        "# The VIO core controls the counter.\n",
        "\n",
        "ila = device.ila_cores.get(name=\"chipscopy_i/counters/ila_slow_counter_0\")\n",
        "vio = device.vio_cores.get(name=\"chipscopy_i/counters/vio_slow_counter_0\")\n",
        "\n",
        "print(f\"Using ILA: {ila.core_info.uuid}  {ila.name}\")\n",
        "print(f\"Using VIO: {vio.core_info.uuid}  {vio.name}\")"
      ]
    },
    {
      "cell_type": "markdown",
      "id": "e4f0dd59",
      "metadata": {},
      "source": [
        "### 5a - Configure the counter using VIO output probes\n",
        "\n",
        "<img src=\"img/vio_control_counter.png\" width=\"300\" align=\"left\">"
      ]
    },
    {
      "cell_type": "code",
      "execution_count": 9,
      "id": "de4a797b",
      "metadata": {},
      "outputs": [
        {
          "name": "stdout",
          "output_type": "stream",
          "text": [
            "VIO Port <---> Probe mapping:\n",
            "probe_in0 <-- chipscopy_i/counters/slow_counter_0_Q\n",
            "probe_out0 --> chipscopy_i/counters/slow_counter_0_CE\n",
            "probe_out1 --> chipscopy_i/counters/slow_counter_0_SCLR\n",
            "probe_out2 --> chipscopy_i/counters/slow_counter_0_UP\n",
            "probe_out3 --> chipscopy_i/counters/slow_counter_0_LOAD\n",
            "probe_out4 --> chipscopy_i/counters/slow_counter_0_L\n"
          ]
        }
      ],
      "source": [
        "# Print all the VIO port and probe names. This is convenient to know which probes are connected to\n",
        "# VIO ports. Also verifies probe names to pass to other functions.\n",
        "\n",
        "print(\"VIO Port <---> Probe mapping:\")\n",
        "for probe in vio.probes:\n",
        "    if probe.direction == \"in\":\n",
        "        print(f\"{probe.port_name} <-- {probe.probe_name}\")\n",
        "    else:\n",
        "        print(f\"{probe.port_name} --> {probe.probe_name}\")"
      ]
    },
    {
      "cell_type": "code",
      "execution_count": 10,
      "id": "64e000e5",
      "metadata": {},
      "outputs": [
        {
          "name": "stdout",
          "output_type": "stream",
          "text": [
            "Counter is now free-running and counting up\n"
          ]
        }
      ],
      "source": [
        "# Set up the VIO core to enable counting up from 0\n",
        "#\n",
        "vio.reset_vio()\n",
        "vio.write_probes(\n",
        "    {\n",
        "        \"chipscopy_i/counters/slow_counter_0_SCLR\": 0,\n",
        "        \"chipscopy_i/counters/slow_counter_0_L\": 0x00000000,\n",
        "        \"chipscopy_i/counters/slow_counter_0_LOAD\": 0,\n",
        "        \"chipscopy_i/counters/slow_counter_0_UP\": 1,\n",
        "        \"chipscopy_i/counters/slow_counter_0_CE\": 1,\n",
        "    }\n",
        ")\n",
        "print(\"Counter is now free-running and counting up\")"
      ]
    },
    {
      "cell_type": "markdown",
      "id": "1e77fbd4",
      "metadata": {},
      "source": [
        "### 5b - Capture and display free-running counter using the ILA core\n",
        "\n",
        "<img src=\"img/free_running_counter.png\" width=\"350\" align=\"left\">"
      ]
    },
    {
      "cell_type": "code",
      "execution_count": 11,
      "id": "8d00c552",
      "metadata": {},
      "outputs": [
        {
          "name": "stdout",
          "output_type": "stream",
          "text": [
            "ILA is running - looking for trigger\n"
          ]
        }
      ],
      "source": [
        "# Trigger ILA on the free running counter. Trigger set to the first time we see 0s in low 16-bits.\n",
        "# This will show the counter is free running, and counting up\n",
        "\n",
        "ila.reset_probes()\n",
        "ila.set_probe_trigger_value(\"chipscopy_i/counters/slow_counter_0_Q_1\", [\"==\", \"0xXXXX_0000\"])\n",
        "ila.run_basic_trigger(window_count=1, window_size=32, trigger_position=16)\n",
        "print(\"ILA is running - looking for trigger\")"
      ]
    },
    {
      "cell_type": "code",
      "execution_count": 12,
      "id": "f48220fc",
      "metadata": {},
      "outputs": [
        {
          "name": "stdout",
          "output_type": "stream",
          "text": [
            "Window:0  Window Sample:0   349831152  0x14D9FFF0 \n",
            "Window:0  Window Sample:1   349831153  0x14D9FFF1 \n",
            "Window:0  Window Sample:2   349831154  0x14D9FFF2 \n",
            "Window:0  Window Sample:3   349831155  0x14D9FFF3 \n",
            "Window:0  Window Sample:4   349831156  0x14D9FFF4 \n",
            "Window:0  Window Sample:5   349831157  0x14D9FFF5 \n",
            "Window:0  Window Sample:6   349831158  0x14D9FFF6 \n",
            "Window:0  Window Sample:7   349831159  0x14D9FFF7 \n",
            "Window:0  Window Sample:8   349831160  0x14D9FFF8 \n",
            "Window:0  Window Sample:9   349831161  0x14D9FFF9 \n",
            "Window:0  Window Sample:10   349831162  0x14D9FFFA \n",
            "Window:0  Window Sample:11   349831163  0x14D9FFFB \n",
            "Window:0  Window Sample:12   349831164  0x14D9FFFC \n",
            "Window:0  Window Sample:13   349831165  0x14D9FFFD \n",
            "Window:0  Window Sample:14   349831166  0x14D9FFFE \n",
            "Window:0  Window Sample:15   349831167  0x14D9FFFF \n",
            "Window:0  Window Sample:16   349831168  0x14DA0000 <-- Trigger\n",
            "Window:0  Window Sample:17   349831169  0x14DA0001 \n",
            "Window:0  Window Sample:18   349831170  0x14DA0002 \n",
            "Window:0  Window Sample:19   349831171  0x14DA0003 \n",
            "Window:0  Window Sample:20   349831172  0x14DA0004 \n",
            "Window:0  Window Sample:21   349831173  0x14DA0005 \n",
            "Window:0  Window Sample:22   349831174  0x14DA0006 \n",
            "Window:0  Window Sample:23   349831175  0x14DA0007 \n",
            "Window:0  Window Sample:24   349831176  0x14DA0008 \n",
            "Window:0  Window Sample:25   349831177  0x14DA0009 \n",
            "Window:0  Window Sample:26   349831178  0x14DA000A \n",
            "Window:0  Window Sample:27   349831179  0x14DA000B \n",
            "Window:0  Window Sample:28   349831180  0x14DA000C \n",
            "Window:0  Window Sample:29   349831181  0x14DA000D \n",
            "Window:0  Window Sample:30   349831182  0x14DA000E \n",
            "Window:0  Window Sample:31   349831183  0x14DA000F \n"
          ]
        }
      ],
      "source": [
        "# Wait for the ILA trigger with upload.\n",
        "# Then print the captured ILA samples and mark the trigger position.\n",
        "\n",
        "ila.wait_till_done(max_wait_minutes=0.1)\n",
        "upload_successful = ila.upload()\n",
        "if upload_successful:\n",
        "    #\n",
        "    # ila.waveform.get_data() returns data for probes. By default, all probes are included. But here we specify\n",
        "    #     slow_counter_0_Q_1 so only the one probe data is returned.\n",
        "    #\n",
        "    samples = ila.waveform.get_data(\n",
        "        [\"chipscopy_i/counters/slow_counter_0_Q_1\"],\n",
        "        include_trigger=True,\n",
        "        include_sample_info=True,\n",
        "    )\n",
        "    # Below is a convenient way to iterate over all probe values using a for loop.\n",
        "    #\n",
        "    # samples.values() is a list of lists including trigger, sample_index, window_index, window_sample_index,\n",
        "    #     and any probes in samples from get_data() above.\n",
        "    #\n",
        "    # for trigger, sample_index, window_index, window_sample_index, probe0, probe1, ..., probeN in zip(*samples.values())\n",
        "    #\n",
        "    for trigger, sample_index, window_index, window_sample_index, slow_counter_0_Q_1 in zip(*samples.values()):\n",
        "        trigger = \"<-- Trigger\" if trigger else \"\"\n",
        "        print(\n",
        "            f\"Window:{window_index}  Window Sample:{window_sample_index}  {slow_counter_0_Q_1:10}  0x{slow_counter_0_Q_1:08X} {trigger}\"\n",
        "        )\n",
        "else:\n",
        "    print(\"Failed to upload ILA data from core\")"
      ]
    },
    {
      "cell_type": "markdown",
      "id": "897d701b",
      "metadata": {},
      "source": [
        "### 5c - Trigger ILA using VIO Up/Down virtual switch\n",
        "\n",
        "This step demonstrates how VIO and ILA can be combined to form powerful debug building blocks.\n",
        "\n",
        "ILA is set to trigger when UP/DOWN counter signal edge rises or falls.\n",
        "VIO drives the UP/DOWN counter control signal to 0 causing the counter to count down.\n",
        "The signal transition causes ILA to trigger and capture data.\n",
        "\n",
        "After this step,\n",
        "- VIO drives counter to count from UP to DOWN\n",
        "- ILA triggers on the UP to DOWN signal transition\n",
        "- Waveform uploaded with the up/down trigger sample in the center of captured data\n"
      ]
    },
    {
      "cell_type": "markdown",
      "id": "58fdd7e9",
      "metadata": {},
      "source": [
        "<img src=\"img/edge_trigger.png\" width=\"550\" align=\"left\">"
      ]
    },
    {
      "cell_type": "code",
      "execution_count": 13,
      "id": "021be3c6",
      "metadata": {},
      "outputs": [
        {
          "name": "stdout",
          "output_type": "stream",
          "text": [
            "ILA is running - looking for trigger\n"
          ]
        }
      ],
      "source": [
        "# Set ILA core to capture on a transition of the UP/DOWN toggle switch\n",
        "# Once transition happens, trigger in the middle of the buffer.\n",
        "\n",
        "ila.reset_probes()\n",
        "ila.set_probe_trigger_value(\"chipscopy_i/counters/slow_counter_0_UP_1\", [\"==\", \"B\"])\n",
        "ila.run_basic_trigger(window_count=1, window_size=32, trigger_position=16)\n",
        "\n",
        "print(\"ILA is running - looking for trigger\")"
      ]
    },
    {
      "cell_type": "code",
      "execution_count": 14,
      "id": "f09528ea",
      "metadata": {},
      "outputs": [
        {
          "name": "stdout",
          "output_type": "stream",
          "text": [
            "VIO changed up/down counter to count down\n"
          ]
        }
      ],
      "source": [
        "# VIO: Turn counter up/down switch to DOWN position.\n",
        "# This will cause the running ILA to trigger on the transition edge from up to down.\n",
        "\n",
        "vio.write_probes({\"chipscopy_i/counters/slow_counter_0_UP\": 0})\n",
        "\n",
        "print(\"VIO changed up/down counter to count down\")"
      ]
    },
    {
      "cell_type": "code",
      "execution_count": 15,
      "id": "ee7b08c2",
      "metadata": {},
      "outputs": [
        {
          "name": "stdout",
          "output_type": "stream",
          "text": [
            "Window:0  Window Sample:0   390657743  0x1748F6CF \n",
            "Window:0  Window Sample:1   390657744  0x1748F6D0 \n",
            "Window:0  Window Sample:2   390657745  0x1748F6D1 \n",
            "Window:0  Window Sample:3   390657746  0x1748F6D2 \n",
            "Window:0  Window Sample:4   390657747  0x1748F6D3 \n",
            "Window:0  Window Sample:5   390657748  0x1748F6D4 \n",
            "Window:0  Window Sample:6   390657749  0x1748F6D5 \n",
            "Window:0  Window Sample:7   390657750  0x1748F6D6 \n",
            "Window:0  Window Sample:8   390657751  0x1748F6D7 \n",
            "Window:0  Window Sample:9   390657752  0x1748F6D8 \n",
            "Window:0  Window Sample:10   390657753  0x1748F6D9 \n",
            "Window:0  Window Sample:11   390657754  0x1748F6DA \n",
            "Window:0  Window Sample:12   390657755  0x1748F6DB \n",
            "Window:0  Window Sample:13   390657756  0x1748F6DC \n",
            "Window:0  Window Sample:14   390657757  0x1748F6DD \n",
            "Window:0  Window Sample:15   390657758  0x1748F6DE \n",
            "Window:0  Window Sample:16   390657759  0x1748F6DF <-- Trigger\n",
            "Window:0  Window Sample:17   390657758  0x1748F6DE \n",
            "Window:0  Window Sample:18   390657757  0x1748F6DD \n",
            "Window:0  Window Sample:19   390657756  0x1748F6DC \n",
            "Window:0  Window Sample:20   390657755  0x1748F6DB \n",
            "Window:0  Window Sample:21   390657754  0x1748F6DA \n",
            "Window:0  Window Sample:22   390657753  0x1748F6D9 \n",
            "Window:0  Window Sample:23   390657752  0x1748F6D8 \n",
            "Window:0  Window Sample:24   390657751  0x1748F6D7 \n",
            "Window:0  Window Sample:25   390657750  0x1748F6D6 \n",
            "Window:0  Window Sample:26   390657749  0x1748F6D5 \n",
            "Window:0  Window Sample:27   390657748  0x1748F6D4 \n",
            "Window:0  Window Sample:28   390657747  0x1748F6D3 \n",
            "Window:0  Window Sample:29   390657746  0x1748F6D2 \n",
            "Window:0  Window Sample:30   390657745  0x1748F6D1 \n",
            "Window:0  Window Sample:31   390657744  0x1748F6D0 \n"
          ]
        }
      ],
      "source": [
        "# Print the captured ILA samples and mark the trigger position.\n",
        "# Note that counter counts down after the trigger mark.\n",
        "\n",
        "ila.wait_till_done(max_wait_minutes=0.1)\n",
        "upload_successful = ila.upload()\n",
        "if upload_successful:\n",
        "    samples = ila.waveform.get_data(\n",
        "        [\"chipscopy_i/counters/slow_counter_0_Q_1\"],\n",
        "        include_trigger=True,\n",
        "        include_sample_info=True,\n",
        "    )\n",
        "    for trigger, sample_index, window_index, window_sample_index, slow_counter_0_Q_1 in zip(*samples.values()):\n",
        "        trigger = \"<-- Trigger\" if trigger else \"\"\n",
        "        print(\n",
        "            f\"Window:{window_index}  Window Sample:{window_sample_index}  {slow_counter_0_Q_1:10}  0x{slow_counter_0_Q_1:08X} {trigger}\"\n",
        "        )\n",
        "else:\n",
        "    print(\"Failed to upload ILA data from core\")"
      ]
    },
    {
      "cell_type": "markdown",
      "id": "f61d21e8",
      "metadata": {},
      "source": [
        "## 6 - Waveform Export - VCD (or CSV)\n",
        "\n",
        " Demonstrate how to export waveform data to a VCD file for visualizing waveform in other tools.\n",
        "\n",
        " Export includes complete waveform with probe, _TRIGGER, and _WINDOW.\n",
        "\n",
        " - For CSV export, substitute \"CSV\" for \"VCD\" argument.\n",
        " - To export to a file, substitute the filename for 'sys.stdout'"
      ]
    },
    {
      "cell_type": "code",
      "execution_count": 16,
      "id": "d90ab86c",
      "metadata": {},
      "outputs": [
        {
          "name": "stdout",
          "output_type": "stream",
          "text": [
            "$date\n",
            "        2025-05-29 14:38:20\n",
            "$end\n",
            "$version\n",
            "        ChipScoPy Version 2025.1.1747162617\n",
            "$end\n",
            "$timescale\n",
            "        1ps\n",
            "$end\n",
            "$scope module dut $end\n",
            "$var reg 1 $ chipscopy_i/counters/slow_counter_0_CE_1  $end\n",
            "$var reg 1 % chipscopy_i/counters/slow_counter_0_SCLR_1  $end\n",
            "$var reg 1 & chipscopy_i/counters/slow_counter_0_UP_1  $end\n",
            "$var reg 1 ' chipscopy_i/counters/slow_counter_0_LOAD_1  $end\n",
            "$var reg 32 ( chipscopy_i/counters/slow_counter_0_L_1 [31:0] $end\n",
            "$var reg 32 ) chipscopy_i/counters/slow_counter_0_Q_1 [31:0] $end\n",
            "$var reg 1 * chipscopy_i/counters/ila_slow_counter_0_TRIG_OUT_trig  $end\n",
            "$var reg 1 + chipscopy_i/counters/ila_fast_counter_0_TRIG_IN_ack  $end\n",
            "$var reg 1 , chipscopy_i/counters/ila_fast_counter_0_TRIG_OUT_trig  $end\n",
            "$var reg 1 - chipscopy_i/counters/ila_slow_counter_0_TRIG_IN_ack  $end\n",
            "$var reg 16 . chipscopy_i/counters/slow_sine_Dout [15:0] $end\n",
            "$var reg 16 / chipscopy_i/counters/slow_cosine_Dout [15:0] $end\n",
            "$var reg 1 0 chipscopy_i/counters/locked  $end\n",
            "$var reg 1 ! _TRIGGER $end\n",
            "$var reg 1 \" _WINDOW $end\n",
            "$upscope $end\n",
            "$enddefinitions $end\n",
            "#0\n",
            "0!\n",
            "0\"\n",
            "1$\n",
            "0%\n",
            "1&\n",
            "0'\n",
            "b0 (\n",
            "b10111010010001111011011001111 )\n",
            "0*\n",
            "0+\n",
            "0,\n",
            "0-\n",
            "b1000011000111001 .\n",
            "b1101100010011001 /\n",
            "10\n",
            "#1\n",
            "b10111010010001111011011010000 )\n",
            "b1000010111111100 .\n",
            "b1101100101011000 /\n",
            "#2\n",
            "b10111010010001111011011010001 )\n",
            "b1000010111000000 .\n",
            "b1101101000011000 /\n",
            "#3\n",
            "b10111010010001111011011010010 )\n",
            "b1000010110000101 .\n",
            "b1101101011011001 /\n",
            "#4\n",
            "b10111010010001111011011010011 )\n",
            "b1000010101001011 .\n",
            "b1101101110011001 /\n",
            "#5\n",
            "b10111010010001111011011010100 )\n",
            "b1000010100010011 .\n",
            "b1101110001011010 /\n",
            "#6\n",
            "b10111010010001111011011010101 )\n",
            "b1000010011011011 .\n",
            "b1101110100011011 /\n",
            "#7\n",
            "b10111010010001111011011010110 )\n",
            "b1000010010100101 .\n",
            "b1101110111011101 /\n",
            "#8\n",
            "b10111010010001111011011010111 )\n",
            "b1000010001110000 .\n",
            "b1101111010011111 /\n",
            "#9\n",
            "b10111010010001111011011011000 )\n",
            "b1000010000111100 .\n",
            "b1101111101100001 /\n",
            "#10\n",
            "b10111010010001111011011011001 )\n",
            "b1000010000001001 .\n",
            "b1110000000100100 /\n",
            "#11\n",
            "b10111010010001111011011011010 )\n",
            "b1000001111011000 .\n",
            "b1110000011100111 /\n",
            "#12\n",
            "b10111010010001111011011011011 )\n",
            "b1000001110101000 .\n",
            "b1110000110101010 /\n",
            "#13\n",
            "b10111010010001111011011011100 )\n",
            "b1000001101111001 .\n",
            "b1110001001101101 /\n",
            "#14\n",
            "b10111010010001111011011011101 )\n",
            "b1000001101001011 .\n",
            "b1110001100110001 /\n",
            "#15\n",
            "b10111010010001111011011011110 )\n",
            "b1000001100011110 .\n",
            "b1110001111110101 /\n",
            "#16\n",
            "1!\n",
            "0&\n",
            "b10111010010001111011011011111 )\n",
            "b1000001011110011 .\n",
            "b1110010010111001 /\n",
            "#17\n",
            "0!\n",
            "b10111010010001111011011011110 )\n",
            "b1000001011001000 .\n",
            "b1110010101111110 /\n",
            "#18\n",
            "b10111010010001111011011011101 )\n",
            "b1000001010011111 .\n",
            "b1110011001000011 /\n",
            "#19\n",
            "b10111010010001111011011011100 )\n",
            "b1000001011001000 .\n",
            "b1110010101111110 /\n",
            "#20\n",
            "b10111010010001111011011011011 )\n",
            "b1000001011110011 .\n",
            "b1110010010111001 /\n",
            "#21\n",
            "b10111010010001111011011011010 )\n",
            "b1000001100011110 .\n",
            "b1110001111110101 /\n",
            "#22\n",
            "b10111010010001111011011011001 )\n",
            "b1000001101001011 .\n",
            "b1110001100110001 /\n",
            "#23\n",
            "b10111010010001111011011011000 )\n",
            "b1000001101111001 .\n",
            "b1110001001101101 /\n",
            "#24\n",
            "b10111010010001111011011010111 )\n",
            "b1000001110101000 .\n",
            "b1110000110101010 /\n",
            "#25\n",
            "b10111010010001111011011010110 )\n",
            "b1000001111011000 .\n",
            "b1110000011100111 /\n",
            "#26\n",
            "b10111010010001111011011010101 )\n",
            "b1000010000001001 .\n",
            "b1110000000100100 /\n",
            "#27\n",
            "b10111010010001111011011010100 )\n",
            "b1000010000111100 .\n",
            "b1101111101100001 /\n",
            "#28\n",
            "b10111010010001111011011010011 )\n",
            "b1000010001110000 .\n",
            "b1101111010011111 /\n",
            "#29\n",
            "b10111010010001111011011010010 )\n",
            "b1000010010100101 .\n",
            "b1101110111011101 /\n",
            "#30\n",
            "b10111010010001111011011010001 )\n",
            "b1000010011011011 .\n",
            "b1101110100011011 /\n",
            "#31\n",
            "b10111010010001111011011010000 )\n",
            "b1000010100010011 .\n",
            "b1101110001011010 /\n"
          ]
        }
      ],
      "source": [
        "if upload_successful:\n",
        "    ila.waveform.export_waveform(\"VCD\", sys.stdout)"
      ]
    },
    {
      "cell_type": "code",
      "execution_count": 17,
      "id": "8463f053",
      "metadata": {},
      "outputs": [],
      "source": [
        "## When done with testing, close the connection\n",
        "delete_session(session)"
      ]
    }
  ],
  "metadata": {
    "kernelspec": {
      "display_name": "venv",
      "language": "python",
      "name": "python3"
    },
    "language_info": {
      "codemirror_mode": {
        "name": "ipython",
        "version": 3
      },
      "file_extension": ".py",
      "mimetype": "text/x-python",
      "name": "python",
      "nbconvert_exporter": "python",
      "pygments_lexer": "ipython3",
      "version": "3.10.12"
    }
  },
  "nbformat": 4,
  "nbformat_minor": 5
}
