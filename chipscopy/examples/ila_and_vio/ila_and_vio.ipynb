{
 "cells": [
  {
   "cell_type": "markdown",
   "id": "automatic-budget",
   "metadata": {},
   "source": [
    "<link rel=\"preconnect\" href=\"https://fonts.gstatic.com\">\n",
    "<link href=\"https://fonts.googleapis.com/css2?family=Fira+Code&display=swap\" rel=\"stylesheet\">\n",
    "\n",
    "### License\n",
    "\n",
    "<p style=\"font-family: 'Fira Code', monospace; font-size: 1.2rem\">\n",
    "Copyright 2022 Xilinx, Inc.<br><br>\n",
    "Licensed under the Apache License, Version 2.0 (the \"License\");<br>\n",
    "you may not use this file except in compliance with the License.<br><br>\n",
    "You may obtain a copy of the License at <a href=\"http://www.apache.org/licenses/LICENSE-2.0\"?>http://www.apache.org/licenses/LICENSE-2.0</a><br><br>\n",
    "Unless required by applicable law or agreed to in writing, software<br>\n",
    "distributed under the License is distributed on an \"AS IS\" BASIS,<br>\n",
    "WITHOUT WARRANTIES OR CONDITIONS OF ANY KIND, either express or implied.<br>\n",
    "See the License for the specific language governing permissions and<br>\n",
    "limitations under the License.<br>\n",
    "</p>\n"
   ]
  },
  {
   "cell_type": "markdown",
   "id": "maritime-shock",
   "metadata": {},
   "source": [
    "# ChipScoPy ILA and VIO Example\n",
    "\n",
    "\n",
    "<img src=\"../img/api_overview.png\" width=\"500\" align=\"left\">"
   ]
  },
  {
   "cell_type": "markdown",
   "id": "solid-rebel",
   "metadata": {},
   "source": [
    "## Description\n",
    "This example demonstrates how to program and communicate with ILA (Integrated Logic Analyzer) and\n",
    "VIO (Virtual IO) cores using the ChipScoPy Python API.\n",
    "\n",
    "\n",
    "## Requirements\n",
    "- Local or remote Xilinx Versal board, such as a VCK190\n",
    "- Xilinx hw_server 2021.2 installed and running\n",
    "- Xilinx cs_server 2021.2 installed and running\n",
    "- Python 3.8 or greater installed\n",
    "- ChipScoPy 2021.2 installed\n",
    "- Jupyter notebook support installed - Please do so, using the command `pip install chipscopy[jupyter]`"
   ]
  },
  {
   "cell_type": "markdown",
   "id": "noted-characterization",
   "metadata": {},
   "source": [
    "## 1 - Initialization: Imports and File Paths\n",
    "\n",
    "After this step,\n",
    "- Required functions and classes are imported\n",
    "- URL paths are set correctly\n",
    "- File paths to example files are set correctly"
   ]
  },
  {
   "cell_type": "code",
   "execution_count": 1,
   "id": "amino-plaintiff",
   "metadata": {},
   "outputs": [],
   "source": [
    "import sys\n",
    "import os\n",
    "from chipscopy import get_design_files\n",
    "from chipscopy import create_session, report_versions"
   ]
  },
  {
   "cell_type": "code",
   "execution_count": 2,
   "id": "indonesian-relations",
   "metadata": {
    "lines_to_next_cell": 2
   },
   "outputs": [
    {
     "name": "stdout",
     "output_type": "stream",
     "text": [
      "HW_URL: TCP:morel21:3121\n",
      "CS_URL: TCP:localhost:3042\n",
      "PROGRAMMING_FILE: C:\\Users\\jant\\PycharmProjects\\dev\\chipscopy\\chipscopy\\examples\\designs\\vck190\\production\\chipscopy_ced\\chipscopy_wrapper.pdi\n",
      "PROBES_FILE:C:\\Users\\jant\\PycharmProjects\\dev\\chipscopy\\chipscopy\\examples\\designs\\vck190\\production\\chipscopy_ced\\chipscopy_wrapper.ltx\n"
     ]
    }
   ],
   "source": [
    "# Make sure to start the hw_server and cs_server prior to running.\n",
    "# Specify locations of the running hw_server and cs_server below.\n",
    "# The default is localhost - but can be other locations on the network.\n",
    "CS_URL = os.getenv(\"CS_SERVER_URL\", \"TCP:localhost:3042\")\n",
    "HW_URL = os.getenv(\"HW_SERVER_URL\", \"TCP:localhost:3121\")\n",
    "\n",
    "# The get_design_files() function tries to find the PDI and LTX files. In non-standard\n",
    "# configurations, you can put the path for PROGRAMMING_FILE and PROBES_FILE below.\n",
    "design_files = get_design_files(\"vck190/production/chipscopy_ced\")\n",
    "\n",
    "PROGRAMMING_FILE = design_files.programming_file\n",
    "PROBES_FILE = design_files.probes_file\n",
    "\n",
    "print(f\"HW_URL: {HW_URL}\")\n",
    "print(f\"CS_URL: {CS_URL}\")\n",
    "print(f\"PROGRAMMING_FILE: {PROGRAMMING_FILE}\")\n",
    "print(f\"PROBES_FILE:{PROBES_FILE}\")"
   ]
  },
  {
   "cell_type": "markdown",
   "id": "norwegian-wagner",
   "metadata": {},
   "source": [
    "## 2 - Create a session and connect to the hw_server and cs_server\n",
    "\n",
    "The session is a container that keeps track of devices and debug cores.\n",
    "After this step,\n",
    "- Session is initialized and connected to server(s)\n",
    "- Versions are detected and reported to stdout"
   ]
  },
  {
   "cell_type": "code",
   "execution_count": 3,
   "id": "front-conflict",
   "metadata": {},
   "outputs": [
    {
     "data": {
      "text/html": [
       "<pre style=\"white-space:pre;overflow-x:auto;line-height:normal;font-family:Menlo,'DejaVu Sans Mono',consolas,'Courier New',monospace\">\n",
       "\n",
       "</pre>\n"
      ],
      "text/plain": [
       "<rich.jupyter.JupyterRenderable at 0x19fd416dee0>"
      ]
     },
     "metadata": {},
     "output_type": "display_data"
    },
    {
     "data": {
      "text/html": [
       "<pre style=\"white-space:pre;overflow-x:auto;line-height:normal;font-family:Menlo,'DejaVu Sans Mono',consolas,'Courier New',monospace\"><span style=\"font-style: italic\">                      ChipScoPy Version Information                      </span>\n",
       "┌────────────────────────────┬──────────────────────────────────────────┐\n",
       "│<span style=\"font-weight: bold\">                     Entity </span>│<span style=\"font-weight: bold\"> Version                                  </span>│\n",
       "├────────────────────────────┼──────────────────────────────────────────┤\n",
       "│                  ChipScoPy │ ┌───────────┬──────────────────────┐     │\n",
       "│                            │ │<span style=\"font-weight: bold\"> Attribute </span>│<span style=\"font-weight: bold\"> Value                </span>│     │\n",
       "│                            │ ├───────────┼──────────────────────┤     │\n",
       "│                            │ │     Build │ 2022.2.1655323648    │     │\n",
       "│                            │ │ Timestamp │ Jun 15 2022-13:07:28 │     │\n",
       "│                            │ └───────────┴──────────────────────┘     │\n",
       "│                            │                                          │\n",
       "│   hw_server @ morel21:3121 │ ┌───────────┬──────────────────────────┐ │\n",
       "│                            │ │<span style=\"font-weight: bold\"> Attribute </span>│<span style=\"font-weight: bold\"> Value                    </span>│ │\n",
       "│                            │ ├───────────┼──────────────────────────┤ │\n",
       "│                            │ │    Status │ Connected                │ │\n",
       "│                            │ │     Build │ 1665351862               │ │\n",
       "│                            │ │   Version │ 2023.1.0                 │ │\n",
       "│                            │ │ Timestamp │ Sun Oct  9 15:44:22 2022 │ │\n",
       "│                            │ └───────────┴──────────────────────────┘ │\n",
       "│                            │                                          │\n",
       "│ cs_server @ localhost:3042 │ ┌───────────────┬──────────────────────┐ │\n",
       "│                            │ │<span style=\"font-weight: bold\">     Attribute </span>│<span style=\"font-weight: bold\"> Value                </span>│ │\n",
       "│                            │ ├───────────────┼──────────────────────┤ │\n",
       "│                            │ │        Status │ Connected            │ │\n",
       "│                            │ │         Build │ 1654720357           │ │\n",
       "│                            │ │       Version │ 2023.1.0             │ │\n",
       "│                            │ │     Timestamp │ Jun 08 2022-13:32:37 │ │\n",
       "│                            │ │       Package │ 2022.2.1654720357    │ │\n",
       "│                            │ │ Artifact type │ git                  │ │\n",
       "│                            │ └───────────────┴──────────────────────┘ │\n",
       "└────────────────────────────┴──────────────────────────────────────────┘\n",
       "</pre>\n"
      ],
      "text/plain": [
       "<rich.jupyter.JupyterRenderable at 0x19fd416dee0>"
      ]
     },
     "metadata": {},
     "output_type": "display_data"
    },
    {
     "data": {
      "text/html": [
       "<pre style=\"white-space:pre;overflow-x:auto;line-height:normal;font-family:Menlo,'DejaVu Sans Mono',consolas,'Courier New',monospace\">\n",
       "\n",
       "</pre>\n"
      ],
      "text/plain": [
       "<rich.jupyter.JupyterRenderable at 0x19fd41a43d0>"
      ]
     },
     "metadata": {},
     "output_type": "display_data"
    }
   ],
   "source": [
    "session = create_session(cs_server_url=CS_URL, hw_server_url=HW_URL)\n",
    "report_versions(session)"
   ]
  },
  {
   "cell_type": "markdown",
   "id": "after-region",
   "metadata": {},
   "source": [
    "## 3 - Program the device with the example design\n",
    "\n",
    "After this step,\n",
    "- Device is programmed with the example programming file"
   ]
  },
  {
   "cell_type": "code",
   "execution_count": 4,
   "id": "chemical-hands",
   "metadata": {
    "lines_to_next_cell": 2
   },
   "outputs": [
    {
     "data": {
      "text/html": [
       "<pre style=\"white-space:pre;overflow-x:auto;line-height:normal;font-family:Menlo,'DejaVu Sans Mono',consolas,'Courier New',monospace\">\n",
       "<span style=\"font-weight: bold\">--&gt; INFO: </span>Programming device with: C:\\Users\\jant\\PycharmProjects\\dev\\chipscopy\\chipscopy\\exam\n",
       "ples\\designs\\vck190\\production\\chipscopy_ced\\chipscopy_wrapper.pdi\n",
       "    \n",
       "</pre>\n"
      ],
      "text/plain": [
       "<rich.jupyter.JupyterRenderable at 0x19fd42ac3a0>"
      ]
     },
     "metadata": {},
     "output_type": "display_data"
    },
    {
     "data": {
      "application/vnd.jupyter.widget-view+json": {
       "model_id": "5f05443b4df84a6fa1e66327a2daa0cf",
       "version_major": 2,
       "version_minor": 0
      },
      "text/plain": [
       "Output()"
      ]
     },
     "metadata": {},
     "output_type": "display_data"
    }
   ],
   "source": [
    "# Typical case - one device on the board - get it.\n",
    "device = session.devices.filter_by(family=\"versal\").get()\n",
    "device.program(PROGRAMMING_FILE)"
   ]
  },
  {
   "cell_type": "markdown",
   "id": "mineral-antarctica",
   "metadata": {},
   "source": [
    "## 4 - Discover Debug Cores\n",
    "\n",
    "Debug core discovery initializes the chipscope server debug cores. This brings debug cores in the chipscope server online.\n",
    "\n",
    "After this step,\n",
    "\n",
    "- The cs_server is initialized and ready for use\n",
    "- ILA and VIO core instances in the device are reported"
   ]
  },
  {
   "cell_type": "code",
   "execution_count": 5,
   "id": "sapphire-constraint",
   "metadata": {},
   "outputs": [
    {
     "name": "stdout",
     "output_type": "stream",
     "text": [
      "Debug cores setup and ready for use.\n"
     ]
    }
   ],
   "source": [
    "device.discover_and_setup_cores(ltx_file=PROBES_FILE)\n",
    "print(f\"Debug cores setup and ready for use.\")"
   ]
  },
  {
   "cell_type": "code",
   "execution_count": 6,
   "id": "careful-wagon",
   "metadata": {},
   "outputs": [
    {
     "name": "stdout",
     "output_type": "stream",
     "text": [
      "0 - D62FB110F1A25D439EB15D9149F450CE   chipscopy_i/counters/ila_fast_counter_0\n",
      "1 - 9125D1429AD25223AECDD656C2856755   chipscopy_i/counters/ila_slow_counter_0\n",
      "2 - C53C0D3572B655B6A8A13A86686D262D   chipscopy_i/noc_tg_bc/noc_bc_axis_ila_0\n"
     ]
    }
   ],
   "source": [
    "# Print out the ILA core instance UUIDs and instance names\n",
    "ila_cores = device.ila_cores\n",
    "for index, ila_core in enumerate(ila_cores):\n",
    "    print(f\"{index} - {ila_core.core_info.uuid}   {ila_core.name}\")"
   ]
  },
  {
   "cell_type": "code",
   "execution_count": 7,
   "id": "falling-gamma",
   "metadata": {
    "lines_to_next_cell": 2
   },
   "outputs": [
    {
     "name": "stdout",
     "output_type": "stream",
     "text": [
      "0 - 0E76DEFA789D564080CFA5332A88DB12   chipscopy_i/noc_tg_bc/noc_tg/inst/u_top_axi_mst/u_tg_top/gen_aximm_reg_space.u_reg_space/gen_vio_status_monitor.u_vio_status_monitor\n",
      "1 - 718A03DBCD265D969EA5C15840AEFD17   chipscopy_i/counters/vio_fast_counter_0\n",
      "2 - 22BC7ED6C4145AAB88C58EAEDFF2B04C   chipscopy_i/counters/vio_slow_counter_0\n",
      "3 - 021098F58FE659EFAD76657E635E53FE   chipscopy_i/noc_tg_bc/axis_vio_0\n"
     ]
    }
   ],
   "source": [
    "# Print out the VIO core instance UUIDs and instance names\n",
    "vio_cores = device.vio_cores\n",
    "for index, vio_core in enumerate(vio_cores):\n",
    "    print(f\"{index} - {vio_core.core_info.uuid}   {vio_core.name}\")"
   ]
  },
  {
   "cell_type": "markdown",
   "id": "political-institute",
   "metadata": {},
   "source": [
    "## 5 - VIO Control and ILA Capture\n",
    "\n",
    "ILA and VIO are two important building blocks for debugging applications in hardware.\n",
    "This example design design shows how to control IP using a VIO core and capture results with ILA.\n",
    "\n",
    "In this Design,\n",
    "- A VIO core controls the counter (reset, up/down, ce, load)\n",
    "- An ILA core captures the counter values\n"
   ]
  },
  {
   "cell_type": "markdown",
   "id": "outside-cause",
   "metadata": {},
   "source": [
    "<img src=\"img/capture_data.png\" width=\"400\" align=\"left\">"
   ]
  },
  {
   "cell_type": "code",
   "execution_count": 8,
   "id": "killing-carbon",
   "metadata": {
    "lines_to_next_cell": 2
   },
   "outputs": [
    {
     "name": "stdout",
     "output_type": "stream",
     "text": [
      "Using ILA: 9125D1429AD25223AECDD656C2856755  chipscopy_i/counters/ila_slow_counter_0\n",
      "Using VIO: 22BC7ED6C4145AAB88C58EAEDFF2B04C  chipscopy_i/counters/vio_slow_counter_0\n"
     ]
    }
   ],
   "source": [
    "# Grab the two cores we are interested in for the demonstration\n",
    "# As shown above, a counter is connected to the ILA core.\n",
    "# The VIO core controls the counter.\n",
    "\n",
    "ila = device.ila_cores.get(name=\"chipscopy_i/counters/ila_slow_counter_0\")\n",
    "vio = device.vio_cores.get(name=\"chipscopy_i/counters/vio_slow_counter_0\")\n",
    "\n",
    "print(f\"Using ILA: {ila.core_info.uuid}  {ila.name}\")\n",
    "print(f\"Using VIO: {vio.core_info.uuid}  {vio.name}\")"
   ]
  },
  {
   "cell_type": "markdown",
   "id": "virtual-jumping",
   "metadata": {},
   "source": [
    "### 5a - Configure the counter using VIO output probes\n",
    "\n",
    "<img src=\"img/vio_control_counter.png\" width=\"300\" align=\"left\">"
   ]
  },
  {
   "cell_type": "code",
   "execution_count": 9,
   "id": "surrounded-plenty",
   "metadata": {},
   "outputs": [
    {
     "name": "stdout",
     "output_type": "stream",
     "text": [
      "VIO Port <---> Probe mapping:\n",
      "probe_in0 <-- chipscopy_i/counters/slow_counter_0_Q\n",
      "probe_out0 --> chipscopy_i/counters/slow_counter_0_CE\n",
      "probe_out1 --> chipscopy_i/counters/slow_counter_0_SCLR\n",
      "probe_out2 --> chipscopy_i/counters/slow_counter_0_UP\n",
      "probe_out3 --> chipscopy_i/counters/slow_counter_0_LOAD\n",
      "probe_out4 --> chipscopy_i/counters/slow_counter_0_L\n"
     ]
    }
   ],
   "source": [
    "# Print all the VIO port and probe names. This is convenient to know which probes are connected to\n",
    "# VIO ports. Also verifies probe names to pass to other functions.\n",
    "\n",
    "print(\"VIO Port <---> Probe mapping:\")\n",
    "for probe in vio.probes:\n",
    "    if probe.direction == \"in\":\n",
    "        print(f\"{probe.port_name} <-- {probe.probe_name}\")\n",
    "    else:\n",
    "        print(f\"{probe.port_name} --> {probe.probe_name}\")"
   ]
  },
  {
   "cell_type": "code",
   "execution_count": 10,
   "id": "industrial-museum",
   "metadata": {},
   "outputs": [
    {
     "name": "stdout",
     "output_type": "stream",
     "text": [
      "Counter is now free-running and counting up\n"
     ]
    }
   ],
   "source": [
    "# Set up the VIO core to enable counting up from 0\n",
    "#\n",
    "vio.reset_vio()\n",
    "vio.write_probes(\n",
    "    {\n",
    "        \"chipscopy_i/counters/slow_counter_0_SCLR\": 0,\n",
    "        \"chipscopy_i/counters/slow_counter_0_L\": 0x00000000,\n",
    "        \"chipscopy_i/counters/slow_counter_0_LOAD\": 0,\n",
    "        \"chipscopy_i/counters/slow_counter_0_UP\": 1,\n",
    "        \"chipscopy_i/counters/slow_counter_0_CE\": 1,\n",
    "    }\n",
    ")\n",
    "print(\"Counter is now free-running and counting up\")"
   ]
  },
  {
   "cell_type": "markdown",
   "id": "technical-series",
   "metadata": {},
   "source": [
    "### 5b - Capture and display free-running counter using the ILA core\n",
    "\n",
    "<img src=\"img/free_running_counter.png\" width=\"350\" align=\"left\">"
   ]
  },
  {
   "cell_type": "code",
   "execution_count": 11,
   "id": "hispanic-tribe",
   "metadata": {},
   "outputs": [
    {
     "name": "stdout",
     "output_type": "stream",
     "text": [
      "ILA is running - looking for trigger\n"
     ]
    }
   ],
   "source": [
    "# Trigger ILA on the free running counter. Trigger set to the first time we see 0s in low 16-bits.\n",
    "# This will show the counter is free running, and counting up\n",
    "\n",
    "ila.reset_probes()\n",
    "ila.set_probe_trigger_value(\"chipscopy_i/counters/slow_counter_0_Q_1\", [\"==\", \"0xXXXX_0000\"])\n",
    "ila.run_basic_trigger(window_count=1, window_size=32, trigger_position=16)\n",
    "print(\"ILA is running - looking for trigger\")"
   ]
  },
  {
   "cell_type": "code",
   "execution_count": 12,
   "id": "empty-member",
   "metadata": {},
   "outputs": [
    {
     "name": "stdout",
     "output_type": "stream",
     "text": [
      "Window:0  Window Sample:0   209321968  0x0C79FFF0 \n",
      "Window:0  Window Sample:1   209321969  0x0C79FFF1 \n",
      "Window:0  Window Sample:2   209321970  0x0C79FFF2 \n",
      "Window:0  Window Sample:3   209321971  0x0C79FFF3 \n",
      "Window:0  Window Sample:4   209321972  0x0C79FFF4 \n",
      "Window:0  Window Sample:5   209321973  0x0C79FFF5 \n",
      "Window:0  Window Sample:6   209321974  0x0C79FFF6 \n",
      "Window:0  Window Sample:7   209321975  0x0C79FFF7 \n",
      "Window:0  Window Sample:8   209321976  0x0C79FFF8 \n",
      "Window:0  Window Sample:9   209321977  0x0C79FFF9 \n",
      "Window:0  Window Sample:10   209321978  0x0C79FFFA \n",
      "Window:0  Window Sample:11   209321979  0x0C79FFFB \n",
      "Window:0  Window Sample:12   209321980  0x0C79FFFC \n",
      "Window:0  Window Sample:13   209321981  0x0C79FFFD \n",
      "Window:0  Window Sample:14   209321982  0x0C79FFFE \n",
      "Window:0  Window Sample:15   209321983  0x0C79FFFF \n",
      "Window:0  Window Sample:16   209321984  0x0C7A0000 <-- Trigger\n",
      "Window:0  Window Sample:17   209321985  0x0C7A0001 \n",
      "Window:0  Window Sample:18   209321986  0x0C7A0002 \n",
      "Window:0  Window Sample:19   209321987  0x0C7A0003 \n",
      "Window:0  Window Sample:20   209321988  0x0C7A0004 \n",
      "Window:0  Window Sample:21   209321989  0x0C7A0005 \n",
      "Window:0  Window Sample:22   209321990  0x0C7A0006 \n",
      "Window:0  Window Sample:23   209321991  0x0C7A0007 \n",
      "Window:0  Window Sample:24   209321992  0x0C7A0008 \n",
      "Window:0  Window Sample:25   209321993  0x0C7A0009 \n",
      "Window:0  Window Sample:26   209321994  0x0C7A000A \n",
      "Window:0  Window Sample:27   209321995  0x0C7A000B \n",
      "Window:0  Window Sample:28   209321996  0x0C7A000C \n",
      "Window:0  Window Sample:29   209321997  0x0C7A000D \n",
      "Window:0  Window Sample:30   209321998  0x0C7A000E \n",
      "Window:0  Window Sample:31   209321999  0x0C7A000F \n"
     ]
    }
   ],
   "source": [
    "# Wait for the ILA trigger with upload.\n",
    "# Then print the captured ILA samples and mark the trigger position.\n",
    "\n",
    "ila.wait_till_done(max_wait_minutes=0.1)\n",
    "upload_successful = ila.upload()\n",
    "if upload_successful:\n",
    "    samples = ila.waveform.get_data(\n",
    "        [\"chipscopy_i/counters/slow_counter_0_Q_1\"],\n",
    "        include_trigger=True,\n",
    "        include_sample_info=True,\n",
    "    )\n",
    "    for trigger, sample_index, window_index, window_sample_index, value in zip(*samples.values()):\n",
    "        trigger = \"<-- Trigger\" if trigger else \"\"\n",
    "        print(\n",
    "            f\"Window:{window_index}  Window Sample:{window_sample_index}  {value:10}  0x{value:08X} {trigger}\"\n",
    "        )\n",
    "else:\n",
    "    print(\"Failed to upload ILA data from core\")"
   ]
  },
  {
   "cell_type": "markdown",
   "id": "logical-marine",
   "metadata": {},
   "source": [
    "### 5c - Trigger ILA using VIO Up/Down virtual switch\n",
    "\n",
    "This step demonstrates how VIO and ILA can be combined to form powerful debug building blocks.\n",
    "\n",
    "ILA is set to trigger when UP/DOWN counter signal edge rises or falls.\n",
    "VIO drives the UP/DOWN counter control signal to 0 causing the counter to count down.\n",
    "The signal transition causes ILA to trigger and capture data.\n",
    "\n",
    "After this step,\n",
    "- VIO drives counter to count from UP to DOWN\n",
    "- ILA triggers on the UP to DOWN signal transition\n",
    "- Waveform uploaded with the up/down trigger sample in the center of captured data\n"
   ]
  },
  {
   "cell_type": "markdown",
   "id": "demonstrated-updating",
   "metadata": {},
   "source": [
    "<img src=\"img/edge_trigger.png\" width=\"550\" align=\"left\">"
   ]
  },
  {
   "cell_type": "code",
   "execution_count": 13,
   "id": "nonprofit-quantity",
   "metadata": {},
   "outputs": [
    {
     "name": "stdout",
     "output_type": "stream",
     "text": [
      "ILA is running - looking for trigger\n"
     ]
    }
   ],
   "source": [
    "# Set ILA core to capture on a transition of the UP/DOWN toggle switch\n",
    "# Once transition happens, trigger in the middle of the buffer.\n",
    "\n",
    "ila.reset_probes()\n",
    "ila.set_probe_trigger_value(\"chipscopy_i/counters/slow_counter_0_UP_1\", [\"==\", \"B\"])\n",
    "ila.run_basic_trigger(window_count=1, window_size=32, trigger_position=16)\n",
    "\n",
    "print(\"ILA is running - looking for trigger\")"
   ]
  },
  {
   "cell_type": "code",
   "execution_count": 14,
   "id": "streaming-dealing",
   "metadata": {},
   "outputs": [
    {
     "name": "stdout",
     "output_type": "stream",
     "text": [
      "VIO changed up/down counter to count down\n"
     ]
    }
   ],
   "source": [
    "# VIO: Turn counter up/down switch to DOWN position.\n",
    "# This will cause the running ILA to trigger on the transition edge from up to down.\n",
    "\n",
    "vio.write_probes({\"chipscopy_i/counters/slow_counter_0_UP\": 0})\n",
    "\n",
    "print(\"VIO changed up/down counter to count down\")"
   ]
  },
  {
   "cell_type": "code",
   "execution_count": 15,
   "id": "heavy-meeting",
   "metadata": {},
   "outputs": [
    {
     "name": "stdout",
     "output_type": "stream",
     "text": [
      "Window:0  Window Sample:0   232101969  0x0DD59851 \n",
      "Window:0  Window Sample:1   232101970  0x0DD59852 \n",
      "Window:0  Window Sample:2   232101971  0x0DD59853 \n",
      "Window:0  Window Sample:3   232101972  0x0DD59854 \n",
      "Window:0  Window Sample:4   232101973  0x0DD59855 \n",
      "Window:0  Window Sample:5   232101974  0x0DD59856 \n",
      "Window:0  Window Sample:6   232101975  0x0DD59857 \n",
      "Window:0  Window Sample:7   232101976  0x0DD59858 \n",
      "Window:0  Window Sample:8   232101977  0x0DD59859 \n",
      "Window:0  Window Sample:9   232101978  0x0DD5985A \n",
      "Window:0  Window Sample:10   232101979  0x0DD5985B \n",
      "Window:0  Window Sample:11   232101980  0x0DD5985C \n",
      "Window:0  Window Sample:12   232101981  0x0DD5985D \n",
      "Window:0  Window Sample:13   232101982  0x0DD5985E \n",
      "Window:0  Window Sample:14   232101983  0x0DD5985F \n",
      "Window:0  Window Sample:15   232101984  0x0DD59860 \n",
      "Window:0  Window Sample:16   232101985  0x0DD59861 <-- Trigger\n",
      "Window:0  Window Sample:17   232101984  0x0DD59860 \n",
      "Window:0  Window Sample:18   232101983  0x0DD5985F \n",
      "Window:0  Window Sample:19   232101982  0x0DD5985E \n",
      "Window:0  Window Sample:20   232101981  0x0DD5985D \n",
      "Window:0  Window Sample:21   232101980  0x0DD5985C \n",
      "Window:0  Window Sample:22   232101979  0x0DD5985B \n",
      "Window:0  Window Sample:23   232101978  0x0DD5985A \n",
      "Window:0  Window Sample:24   232101977  0x0DD59859 \n",
      "Window:0  Window Sample:25   232101976  0x0DD59858 \n",
      "Window:0  Window Sample:26   232101975  0x0DD59857 \n",
      "Window:0  Window Sample:27   232101974  0x0DD59856 \n",
      "Window:0  Window Sample:28   232101973  0x0DD59855 \n",
      "Window:0  Window Sample:29   232101972  0x0DD59854 \n",
      "Window:0  Window Sample:30   232101971  0x0DD59853 \n",
      "Window:0  Window Sample:31   232101970  0x0DD59852 \n"
     ]
    }
   ],
   "source": [
    "# Print the captured ILA samples and mark the trigger position.\n",
    "# Note that counter counts down after the trigger mark.\n",
    "\n",
    "ila.wait_till_done(max_wait_minutes=0.1)\n",
    "upload_successful = ila.upload()\n",
    "if upload_successful:\n",
    "    samples = ila.waveform.get_data(\n",
    "        [\"chipscopy_i/counters/slow_counter_0_Q_1\"],\n",
    "        include_trigger=True,\n",
    "        include_sample_info=True,\n",
    "    )\n",
    "    for trigger, sample_index, window_index, window_sample_index, value in zip(*samples.values()):\n",
    "        trigger = \"<-- Trigger\" if trigger else \"\"\n",
    "        print(\n",
    "            f\"Window:{window_index}  Window Sample:{window_sample_index}  {value:10}  0x{value:08X} {trigger}\"\n",
    "        )\n",
    "else:\n",
    "    print(\"Failed to upload ILA data from core\")"
   ]
  },
  {
   "cell_type": "markdown",
   "id": "better-saturn",
   "metadata": {
    "pycharm": {
     "name": "#%% md\n"
    }
   },
   "source": [
    "## 6 - Waveform Export - VCD (or CSV)\n",
    "\n",
    " Demonstrate how to export waveform data to a VCD file for visualizing waveform in other tools.\n",
    "\n",
    " Export includes complete waveform with probe, _TRIGGER, and _WINDOW.\n",
    "\n",
    " - For CSV export, substitute \"CSV\" for \"VCD\" argument.\n",
    " - To export to a file, substitute the filename for 'sys.stdout'"
   ]
  },
  {
   "cell_type": "code",
   "execution_count": 16,
   "id": "altered-glance",
   "metadata": {
    "pycharm": {
     "name": "#%%\n"
    },
    "scrolled": false
   },
   "outputs": [
    {
     "name": "stdout",
     "output_type": "stream",
     "text": [
      "$date\n",
      "        2022-10-10 15:44:35\n",
      "$end\n",
      "$version\n",
      "        ChipScoPy Version 2022.2.1655323648\n",
      "$end\n",
      "$timescale\n",
      "        1ps\n",
      "$end\n",
      "$scope module dut $end\n",
      "$var reg 1 $ chipscopy_i/counters/slow_counter_0_CE_1  $end\n",
      "$var reg 1 % chipscopy_i/counters/slow_counter_0_SCLR_1  $end\n",
      "$var reg 1 & chipscopy_i/counters/slow_counter_0_UP_1  $end\n",
      "$var reg 1 ' chipscopy_i/counters/slow_counter_0_LOAD_1  $end\n",
      "$var reg 32 ( chipscopy_i/counters/slow_counter_0_L_1 [31:0] $end\n",
      "$var reg 32 ) chipscopy_i/counters/slow_counter_0_Q_1 [31:0] $end\n",
      "$var reg 1 * chipscopy_i/counters/ila_slow_counter_0_TRIG_OUT_trig  $end\n",
      "$var reg 1 + chipscopy_i/counters/ila_fast_counter_0_TRIG_IN_ack  $end\n",
      "$var reg 1 , chipscopy_i/counters/ila_fast_counter_0_TRIG_OUT_trig  $end\n",
      "$var reg 1 - chipscopy_i/counters/ila_slow_counter_0_TRIG_IN_ack  $end\n",
      "$var reg 16 . chipscopy_i/counters/slow_sine_Dout [15:0] $end\n",
      "$var reg 16 / chipscopy_i/counters/slow_cosine_Dout [15:0] $end\n",
      "$var reg 1 0 chipscopy_i/counters/locked  $end\n",
      "$var reg 1 ! _TRIGGER $end\n",
      "$var reg 1 \" _WINDOW $end\n",
      "$upscope $end\n",
      "$enddefinitions $end\n",
      "#0\n",
      "0!\n",
      "0\"\n",
      "1$\n",
      "0%\n",
      "1&\n",
      "0'\n",
      "b0 (\n",
      "b1101110101011001100001010001 )\n",
      "0*\n",
      "0+\n",
      "0,\n",
      "0-\n",
      "b11101110100100 .\n",
      "b111000100111111 /\n",
      "10\n",
      "#1\n",
      "b1101110101011001100001010010 )\n",
      "b11110001010110 .\n",
      "b111000011100001 /\n",
      "#2\n",
      "b1101110101011001100001010011 )\n",
      "b11110100000111 .\n",
      "b111000010000010 /\n",
      "#3\n",
      "b1101110101011001100001010100 )\n",
      "b11110110110111 .\n",
      "b111000000100001 /\n",
      "#4\n",
      "b1101110101011001100001010101 )\n",
      "b11111001100111 .\n",
      "b110111111000000 /\n",
      "#5\n",
      "b1101110101011001100001010110 )\n",
      "b11111100010110 .\n",
      "b110111101011101 /\n",
      "#6\n",
      "b1101110101011001100001010111 )\n",
      "b11111111000101 .\n",
      "b110111011111010 /\n",
      "#7\n",
      "b1101110101011001100001011000 )\n",
      "b100000001110011 .\n",
      "b110111010010101 /\n",
      "#8\n",
      "b1101110101011001100001011001 )\n",
      "b100000100100000 .\n",
      "b110111000101111 /\n",
      "#9\n",
      "b1101110101011001100001011010 )\n",
      "b100000111001101 .\n",
      "b110110111001000 /\n",
      "#10\n",
      "b1101110101011001100001011011 )\n",
      "b100001001111001 .\n",
      "b110110101100000 /\n",
      "#11\n",
      "b1101110101011001100001011100 )\n",
      "b100001100100101 .\n",
      "b110110011111000 /\n",
      "#12\n",
      "b1101110101011001100001011101 )\n",
      "b100001111010000 .\n",
      "b110110010001110 /\n",
      "#13\n",
      "b1101110101011001100001011110 )\n",
      "b100010001111010 .\n",
      "b110110000100010 /\n",
      "#14\n",
      "b1101110101011001100001011111 )\n",
      "b100010100100011 .\n",
      "b110101110110110 /\n",
      "#15\n",
      "b1101110101011001100001100000 )\n",
      "b100010111001100 .\n",
      "b110101101001001 /\n",
      "#16\n",
      "1!\n",
      "0&\n",
      "b1101110101011001100001100001 )\n",
      "b100011001110100 .\n",
      "b110101011011011 /\n",
      "#17\n",
      "0!\n",
      "b1101110101011001100001100000 )\n",
      "b100011100011100 .\n",
      "b110101001101100 /\n",
      "#18\n",
      "b1101110101011001100001011111 )\n",
      "b100011111000011 .\n",
      "b110100111111100 /\n",
      "#19\n",
      "b1101110101011001100001011110 )\n",
      "b100011100011100 .\n",
      "b110101001101100 /\n",
      "#20\n",
      "b1101110101011001100001011101 )\n",
      "b100011001110100 .\n",
      "b110101011011011 /\n",
      "#21\n",
      "b1101110101011001100001011100 )\n",
      "b100010111001100 .\n",
      "b110101101001001 /\n",
      "#22\n",
      "b1101110101011001100001011011 )\n",
      "b100010100100011 .\n",
      "b110101110110110 /\n",
      "#23\n",
      "b1101110101011001100001011010 )\n",
      "b100010001111010 .\n",
      "b110110000100010 /\n",
      "#24\n",
      "b1101110101011001100001011001 )\n",
      "b100001111010000 .\n",
      "b110110010001110 /\n",
      "#25\n",
      "b1101110101011001100001011000 )\n",
      "b100001100100101 .\n",
      "b110110011111000 /\n",
      "#26\n",
      "b1101110101011001100001010111 )\n",
      "b100001001111001 .\n",
      "b110110101100000 /\n",
      "#27\n",
      "b1101110101011001100001010110 )\n",
      "b100000111001101 .\n",
      "b110110111001000 /\n",
      "#28\n",
      "b1101110101011001100001010101 )\n",
      "b100000100100000 .\n",
      "b110111000101111 /\n",
      "#29\n",
      "b1101110101011001100001010100 )\n",
      "b100000001110011 .\n",
      "b110111010010101 /\n",
      "#30\n",
      "b1101110101011001100001010011 )\n",
      "b11111111000101 .\n",
      "b110111011111010 /\n",
      "#31\n",
      "b1101110101011001100001010010 )\n",
      "b11111100010110 .\n",
      "b110111101011101 /\n"
     ]
    }
   ],
   "source": [
    "if upload_successful:\n",
    "    ila.waveform.export_waveform(\"VCD\", sys.stdout)"
   ]
  },
  {
   "cell_type": "code",
   "execution_count": null,
   "id": "noted-effort",
   "metadata": {
    "scrolled": true
   },
   "outputs": [],
   "source": []
  }
 ],
 "metadata": {
  "jupytext": {
   "cell_metadata_filter": "-all",
   "main_language": "python",
   "notebook_metadata_filter": "-all"
  },
  "kernelspec": {
   "display_name": "Python 3 (ipykernel)",
   "language": "python",
   "name": "python3"
  },
  "language_info": {
   "codemirror_mode": {
    "name": "ipython",
    "version": 3
   },
   "file_extension": ".py",
   "mimetype": "text/x-python",
   "name": "python",
   "nbconvert_exporter": "python",
   "pygments_lexer": "ipython3",
   "version": "3.8.10"
  }
 },
 "nbformat": 4,
 "nbformat_minor": 5
}
