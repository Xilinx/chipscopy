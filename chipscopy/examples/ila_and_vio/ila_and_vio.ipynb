{
 "cells": [
  {
   "cell_type": "markdown",
   "id": "automatic-budget",
   "metadata": {},
   "source": [
    "<link rel=\"preconnect\" href=\"https://fonts.gstatic.com\">\n",
    "<link href=\"https://fonts.googleapis.com/css2?family=Fira+Code&display=swap\" rel=\"stylesheet\">\n",
    "\n",
    "### License\n",
    "\n",
    "<p style=\"font-family: 'Fira Code', monospace; font-size: 1.2rem\">\n",
    "Copyright 2021 Xilinx, Inc.<br><br>\n",
    "Licensed under the Apache License, Version 2.0 (the \"License\");<br>\n",
    "you may not use this file except in compliance with the License.<br><br>\n",
    "You may obtain a copy of the License at <a href=\"http://www.apache.org/licenses/LICENSE-2.0\"?>http://www.apache.org/licenses/LICENSE-2.0</a><br><br>\n",
    "Unless required by applicable law or agreed to in writing, software<br>\n",
    "distributed under the License is distributed on an \"AS IS\" BASIS,<br>\n",
    "WITHOUT WARRANTIES OR CONDITIONS OF ANY KIND, either express or implied.<br>\n",
    "See the License for the specific language governing permissions and<br>\n",
    "limitations under the License.<br>\n",
    "</p>\n"
   ]
  },
  {
   "cell_type": "markdown",
   "id": "maritime-shock",
   "metadata": {},
   "source": [
    "# ChipScoPy ILA and VIO Example\n",
    "\n",
    "\n",
    "<img src=\"../img/api_overview.png\" width=\"500\" align=\"left\">"
   ]
  },
  {
   "cell_type": "markdown",
   "id": "solid-rebel",
   "metadata": {},
   "source": [
    "## Description\n",
    "This example demonstrates how to program and communicate with ILA (Integrated Logic Analyzer) and\n",
    "VIO (Virtual IO) cores using the ChipScoPy Python API.\n",
    "\n",
    "\n",
    "## Requirements\n",
    "- Local or remote Xilinx Versal board, such as a VCK190\n",
    "- Xilinx hw_server 2021.1 or greater\n",
    "- Xilinx cs_server 2021.1 or greater\n",
    "- Python 3.8 or greater installed\n",
    "- ChipScoPy 2021.1 or greater installed\n",
    "- Jupyter notebook support installed - Please do so, using the command `pip install chipscopy[jupyter]`"
   ]
  },
  {
   "cell_type": "markdown",
   "id": "noted-characterization",
   "metadata": {},
   "source": [
    "## 1 - Initialization: Imports and File Paths\n",
    "\n",
    "After this step,\n",
    "- Required functions and classes are imported\n",
    "- URL paths are set correctly\n",
    "- File paths to example files are set correctly"
   ]
  },
  {
   "cell_type": "code",
   "execution_count": 1,
   "id": "amino-plaintiff",
   "metadata": {},
   "outputs": [],
   "source": [
    "import sys\n",
    "import os\n",
    "from chipscopy import get_design_files\n",
    "from chipscopy import create_session, report_versions\n",
    "from chipscopy.api.ila import get_waveform_data, export_waveform"
   ]
  },
  {
   "cell_type": "code",
   "execution_count": 2,
   "id": "indonesian-relations",
   "metadata": {
    "lines_to_next_cell": 2
   },
   "outputs": [
    {
     "name": "stdout",
     "output_type": "stream",
     "text": [
      "HW_URL: TCP:localhost:3121\n",
      "CS_URL: TCP:localhost:3042\n",
      "PROGRAMMING_FILE: C:\\wrk\\chipscopy\\chipscopy\\examples\\designs\\vck190\\production\\chipscopy_ced\\chipscopy_ex_wrapper.pdi\n",
      "PROBES_FILE:C:\\wrk\\chipscopy\\chipscopy\\examples\\designs\\vck190\\production\\chipscopy_ced\\chipscopy_ex_wrapper.ltx\n"
     ]
    }
   ],
   "source": [
    "# Make sure to start the hw_server and cs_server prior to running.\n",
    "# Specify locations of the running hw_server and cs_server below.\n",
    "# The default is localhost - but can be other locations on the network.\n",
    "CS_URL = os.getenv(\"CS_SERVER_URL\", \"TCP:localhost:3042\")\n",
    "HW_URL = os.getenv(\"HW_SERVER_URL\", \"TCP:localhost:3121\")\n",
    "\n",
    "# The get_design_files() function tries to find the PDI and LTX files. In non-standard\n",
    "# configurations, you can put the path for PROGRAMMING_FILE and PROBES_FILE below.\n",
    "design_files = get_design_files(\"vck190/production/chipscopy_ced\")\n",
    "\n",
    "PROGRAMMING_FILE = design_files.programming_file\n",
    "PROBES_FILE = design_files.probes_file\n",
    "\n",
    "print(f\"HW_URL: {HW_URL}\")\n",
    "print(f\"CS_URL: {CS_URL}\")\n",
    "print(f\"PROGRAMMING_FILE: {PROGRAMMING_FILE}\")\n",
    "print(f\"PROBES_FILE:{PROBES_FILE}\")"
   ]
  },
  {
   "cell_type": "markdown",
   "id": "norwegian-wagner",
   "metadata": {},
   "source": [
    "## 2 - Create a session and connect to the hw_server and cs_server\n",
    "\n",
    "The session is a container that keeps track of devices and debug cores.\n",
    "After this step,\n",
    "- Session is initialized and connected to server(s)\n",
    "- Versions are detected and reported to stdout"
   ]
  },
  {
   "cell_type": "code",
   "execution_count": 3,
   "id": "front-conflict",
   "metadata": {},
   "outputs": [
    {
     "data": {
      "text/html": [
       "<pre style=\"white-space:pre;overflow-x:auto;line-height:normal;font-family:Menlo,'DejaVu Sans Mono',consolas,'Courier New',monospace\">\n",
       "\n",
       "</pre>\n"
      ],
      "text/plain": [
       "<rich.jupyter.JupyterRenderable at 0x2576e851e80>"
      ]
     },
     "metadata": {},
     "output_type": "display_data"
    },
    {
     "data": {
      "text/html": [
       "<pre style=\"white-space:pre;overflow-x:auto;line-height:normal;font-family:Menlo,'DejaVu Sans Mono',consolas,'Courier New',monospace\"><span style=\"font-style: italic\">                      ChipScoPy Version Information                      </span>\n",
       "┌────────────────────────────┬──────────────────────────────────────────┐\n",
       "│<span style=\"font-weight: bold\">                     Entity </span>│<span style=\"font-weight: bold\"> Version                                  </span>│\n",
       "├────────────────────────────┼──────────────────────────────────────────┤\n",
       "│                  ChipScoPy │ ┌───────────┬──────────────────────┐     │\n",
       "│                            │ │<span style=\"font-weight: bold\"> Attribute </span>│<span style=\"font-weight: bold\"> Value                </span>│     │\n",
       "│                            │ ├───────────┼──────────────────────┤     │\n",
       "│                            │ │     Build │ 2021.1.1623743086    │     │\n",
       "│                            │ │ Timestamp │ Jun 15 2021-00:44:46 │     │\n",
       "│                            │ └───────────┴──────────────────────┘     │\n",
       "│                            │                                          │\n",
       "│ hw_server @ localhost:3121 │ ┌───────────┬──────────────────────────┐ │\n",
       "│                            │ │<span style=\"font-weight: bold\"> Attribute </span>│<span style=\"font-weight: bold\"> Value                    </span>│ │\n",
       "│                            │ ├───────────┼──────────────────────────┤ │\n",
       "│                            │ │    Status │ Connected                │ │\n",
       "│                            │ │     Build │ 1623375319               │ │\n",
       "│                            │ │   Version │ 2021.1                   │ │\n",
       "│                            │ │ Timestamp │ Thu Jun 10 19:35:19 2021 │ │\n",
       "│                            │ └───────────┴──────────────────────────┘ │\n",
       "│                            │                                          │\n",
       "│ cs_server @ localhost:3042 │ ┌───────────────┬──────────────────────┐ │\n",
       "│                            │ │<span style=\"font-weight: bold\">     Attribute </span>│<span style=\"font-weight: bold\"> Value                </span>│ │\n",
       "│                            │ ├───────────────┼──────────────────────┤ │\n",
       "│                            │ │        Status │ Connected            │ │\n",
       "│                            │ │         Build │ 1622050353           │ │\n",
       "│                            │ │       Version │ 2021.1               │ │\n",
       "│                            │ │     Timestamp │ May 26 2021-10:32:33 │ │\n",
       "│                            │ │       Package │ 2021.1.1622050353    │ │\n",
       "│                            │ │ Artifact type │ pyinstaller          │ │\n",
       "│                            │ └───────────────┴──────────────────────┘ │\n",
       "└────────────────────────────┴──────────────────────────────────────────┘\n",
       "</pre>\n"
      ],
      "text/plain": [
       "<rich.jupyter.JupyterRenderable at 0x2576e880700>"
      ]
     },
     "metadata": {},
     "output_type": "display_data"
    },
    {
     "data": {
      "text/html": [
       "<pre style=\"white-space:pre;overflow-x:auto;line-height:normal;font-family:Menlo,'DejaVu Sans Mono',consolas,'Courier New',monospace\">\n",
       "\n",
       "</pre>\n"
      ],
      "text/plain": [
       "<rich.jupyter.JupyterRenderable at 0x2576e880ca0>"
      ]
     },
     "metadata": {},
     "output_type": "display_data"
    }
   ],
   "source": [
    "session = create_session(cs_server_url=CS_URL, hw_server_url=HW_URL)\n",
    "report_versions(session)"
   ]
  },
  {
   "cell_type": "markdown",
   "id": "after-region",
   "metadata": {},
   "source": [
    "## 3 - Program the device with the example design\n",
    "\n",
    "After this step,\n",
    "- Device is programmed with the example programming file"
   ]
  },
  {
   "cell_type": "code",
   "execution_count": 4,
   "id": "chemical-hands",
   "metadata": {
    "lines_to_next_cell": 2
   },
   "outputs": [
    {
     "data": {
      "text/html": [
       "<pre style=\"white-space:pre;overflow-x:auto;line-height:normal;font-family:Menlo,'DejaVu Sans Mono',consolas,'Courier New',monospace\">\n",
       "<span style=\"font-weight: bold\">--&gt; INFO: </span>Programming PDI file C:\\wrk\\chipscopy\\chipscopy\\examples\\designs\\vck190\\production\\\n",
       "chipscopy_ced\\chipscopy_ex_wrapper.pdi\n",
       "    \n",
       "</pre>\n"
      ],
      "text/plain": [
       "<rich.jupyter.JupyterRenderable at 0x2576e978280>"
      ]
     },
     "metadata": {},
     "output_type": "display_data"
    },
    {
     "data": {
      "application/vnd.jupyter.widget-view+json": {
       "model_id": "392b064160db4590b161309d224f7b30",
       "version_major": 2,
       "version_minor": 0
      },
      "text/plain": [
       "Output()"
      ]
     },
     "metadata": {},
     "output_type": "display_data"
    }
   ],
   "source": [
    "# Typical case - one device on the board - get it.\n",
    "device = session.devices.filter_by(family=\"versal\").get()\n",
    "device.program(PROGRAMMING_FILE)"
   ]
  },
  {
   "cell_type": "markdown",
   "id": "mineral-antarctica",
   "metadata": {},
   "source": [
    "## 4 - Discover Debug Cores\n",
    "\n",
    "Debug core discovery initializes the chipscope server debug cores. This brings debug cores in the chipscope server online.\n",
    "\n",
    "After this step,\n",
    "\n",
    "- The cs_server is initialized and ready for use\n",
    "- ILA and VIO core instances in the device are reported"
   ]
  },
  {
   "cell_type": "code",
   "execution_count": 5,
   "id": "sapphire-constraint",
   "metadata": {},
   "outputs": [
    {
     "name": "stdout",
     "output_type": "stream",
     "text": [
      "Debug cores setup and ready for use.\n"
     ]
    }
   ],
   "source": [
    "device.discover_and_setup_cores(ltx_file=PROBES_FILE)\n",
    "print(f\"Debug cores setup and ready for use.\")"
   ]
  },
  {
   "cell_type": "code",
   "execution_count": 6,
   "id": "careful-wagon",
   "metadata": {},
   "outputs": [
    {
     "name": "stdout",
     "output_type": "stream",
     "text": [
      "0 - 24AB5B9D35BF59B5A72FBDB8F1AF8263   chipscopy_ex_i/counters/ila_fast_counter_0\n",
      "1 - 55CD0B15530552099FD8BABE573DB8BC   chipscopy_ex_i/counters/ila_slow_counter_0\n",
      "2 - 7387EB729C5B5216B1B700DC2CB2889C   chipscopy_ex_i/noc_tg_bc/noc_bc_axis_ila_0\n"
     ]
    }
   ],
   "source": [
    "# Print out the ILA core instance UUIDs and instance names\n",
    "ila_cores = device.ila_cores\n",
    "for index, ila_core in enumerate(ila_cores):\n",
    "    print(f\"{index} - {ila_core.core_info.uuid}   {ila_core.name}\")"
   ]
  },
  {
   "cell_type": "code",
   "execution_count": 7,
   "id": "falling-gamma",
   "metadata": {
    "lines_to_next_cell": 2
   },
   "outputs": [
    {
     "name": "stdout",
     "output_type": "stream",
     "text": [
      "0 - 3C824110DF5952A79F699CF4B5C189AE   chipscopy_ex_i/counters/vio_fast_counter_0\n",
      "1 - 4A8AF42C6C71542D968D58CE5AF56CBC   chipscopy_ex_i/counters/vio_slow_counter_0\n",
      "2 - EE72A80322AC596E9265DB49D420CB9C   chipscopy_ex_i/noc_tg_bc/axis_vio_0\n",
      "3 - F83580982EDC5FD2B1A441514DA7CD37   chipscopy_ex_i/noc_tg_bc/noc_tg/inst/u_top_axi_mst/u_tg_top/gen_aximm_reg_space.u_reg_space/gen_vio_status_monitor.u_vio_status_monitor\n"
     ]
    }
   ],
   "source": [
    "# Print out the VIO core instance UUIDs and instance names\n",
    "vio_cores = device.vio_cores\n",
    "for index, vio_core in enumerate(vio_cores):\n",
    "    print(f\"{index} - {vio_core.core_info.uuid}   {vio_core.name}\")"
   ]
  },
  {
   "cell_type": "markdown",
   "id": "political-institute",
   "metadata": {},
   "source": [
    "## 5 - VIO Control and ILA Capture\n",
    "\n",
    "ILA and VIO are two important building blocks for debugging applications in hardware.\n",
    "This example design design shows how to control IP using a VIO core and capture results with ILA.\n",
    "\n",
    "In this Design,\n",
    "- A VIO core controls the counter (reset, up/down, ce, load)\n",
    "- An ILA core captures the counter values\n"
   ]
  },
  {
   "cell_type": "markdown",
   "id": "outside-cause",
   "metadata": {},
   "source": [
    "<img src=\"img/capture_data.png\" width=\"400\" align=\"left\">"
   ]
  },
  {
   "cell_type": "code",
   "execution_count": 8,
   "id": "killing-carbon",
   "metadata": {
    "lines_to_next_cell": 2
   },
   "outputs": [
    {
     "name": "stdout",
     "output_type": "stream",
     "text": [
      "Using ILA: 55CD0B15530552099FD8BABE573DB8BC  chipscopy_ex_i/counters/ila_slow_counter_0\n",
      "Using VIO: 4A8AF42C6C71542D968D58CE5AF56CBC  chipscopy_ex_i/counters/vio_slow_counter_0\n"
     ]
    }
   ],
   "source": [
    "# Grab the two cores we are interested in for the demonstration\n",
    "# As shown above, a counter is connected to the ILA core.\n",
    "# The VIO core controls the counter.\n",
    "\n",
    "ila = device.ila_cores.get(name=\"chipscopy_ex_i/counters/ila_slow_counter_0\")\n",
    "vio = device.vio_cores.get(name=\"chipscopy_ex_i/counters/vio_slow_counter_0\")\n",
    "\n",
    "print(f\"Using ILA: {ila.core_info.uuid}  {ila.name}\")\n",
    "print(f\"Using VIO: {vio.core_info.uuid}  {vio.name}\")"
   ]
  },
  {
   "cell_type": "markdown",
   "id": "virtual-jumping",
   "metadata": {},
   "source": [
    "### 5a - Configure the counter using VIO output probes\n",
    "\n",
    "<img src=\"img/vio_control_counter.png\" width=\"300\" align=\"left\">"
   ]
  },
  {
   "cell_type": "code",
   "execution_count": 9,
   "id": "surrounded-plenty",
   "metadata": {},
   "outputs": [
    {
     "name": "stdout",
     "output_type": "stream",
     "text": [
      "VIO Port <---> Probe mapping:\n",
      "probe_in0 <-- chipscopy_ex_i/counters/slow_counter_0_Q\n",
      "probe_out0 --> chipscopy_ex_i/counters/slow_counter_0_CE\n",
      "probe_out1 --> chipscopy_ex_i/counters/slow_counter_0_SCLR\n",
      "probe_out2 --> chipscopy_ex_i/counters/slow_counter_0_UP\n",
      "probe_out3 --> chipscopy_ex_i/counters/slow_counter_0_LOAD\n",
      "probe_out4 --> chipscopy_ex_i/counters/slow_counter_0_L\n"
     ]
    }
   ],
   "source": [
    "# Print all the VIO port and probe names. This is convenient to know which probes are connected to\n",
    "# VIO ports. Also verifies probe names to pass to other functions.\n",
    "\n",
    "print(\"VIO Port <---> Probe mapping:\")\n",
    "for probe in vio.probes:\n",
    "    if probe.direction == \"in\":\n",
    "        print(f\"{probe.port_name} <-- {probe.probe_name}\")\n",
    "    else:\n",
    "        print(f\"{probe.port_name} --> {probe.probe_name}\")"
   ]
  },
  {
   "cell_type": "code",
   "execution_count": 10,
   "id": "industrial-museum",
   "metadata": {},
   "outputs": [
    {
     "name": "stdout",
     "output_type": "stream",
     "text": [
      "Counter is now free-running and counting up\n"
     ]
    }
   ],
   "source": [
    "# Set up the VIO core to enable counting up from 0\n",
    "#\n",
    "vio.reset_vio()\n",
    "vio.write_probes(\n",
    "    {\n",
    "        \"chipscopy_ex_i/counters/slow_counter_0_SCLR\": 0,\n",
    "        \"chipscopy_ex_i/counters/slow_counter_0_L\": 0x00000000,\n",
    "        \"chipscopy_ex_i/counters/slow_counter_0_LOAD\": 0,\n",
    "        \"chipscopy_ex_i/counters/slow_counter_0_UP\": 1,\n",
    "        \"chipscopy_ex_i/counters/slow_counter_0_CE\": 1,\n",
    "    }\n",
    ")\n",
    "print(\"Counter is now free-running and counting up\")"
   ]
  },
  {
   "cell_type": "markdown",
   "id": "technical-series",
   "metadata": {},
   "source": [
    "### 5b - Capture and display free-running counter using the ILA core\n",
    "\n",
    "<img src=\"img/free_running_counter.png\" width=\"350\" align=\"left\">"
   ]
  },
  {
   "cell_type": "code",
   "execution_count": 11,
   "id": "hispanic-tribe",
   "metadata": {},
   "outputs": [
    {
     "name": "stdout",
     "output_type": "stream",
     "text": [
      "ILA is running - looking for trigger\n"
     ]
    }
   ],
   "source": [
    "# Trigger ILA on the free running counter. Trigger set to the first time we see 0s in low 16-bits.\n",
    "# This will show the counter is free running, and counting up\n",
    "\n",
    "ila.reset_probes()\n",
    "ila.set_probe_trigger_value(\"chipscopy_ex_i/counters/slow_counter_0_Q_1\", [\"==\", \"0xXXXX_0000\"])\n",
    "ila.run_basic_trigger(window_count=1, window_size=32, trigger_position=16)\n",
    "print(\"ILA is running - looking for trigger\")"
   ]
  },
  {
   "cell_type": "code",
   "execution_count": 12,
   "id": "empty-member",
   "metadata": {},
   "outputs": [
    {
     "name": "stdout",
     "output_type": "stream",
     "text": [
      "Window:0  Window Sample:0  1935605744  0x735EFFF0 \n",
      "Window:0  Window Sample:1  1935605745  0x735EFFF1 \n",
      "Window:0  Window Sample:2  1935605746  0x735EFFF2 \n",
      "Window:0  Window Sample:3  1935605747  0x735EFFF3 \n",
      "Window:0  Window Sample:4  1935605748  0x735EFFF4 \n",
      "Window:0  Window Sample:5  1935605749  0x735EFFF5 \n",
      "Window:0  Window Sample:6  1935605750  0x735EFFF6 \n",
      "Window:0  Window Sample:7  1935605751  0x735EFFF7 \n",
      "Window:0  Window Sample:8  1935605752  0x735EFFF8 \n",
      "Window:0  Window Sample:9  1935605753  0x735EFFF9 \n",
      "Window:0  Window Sample:10  1935605754  0x735EFFFA \n",
      "Window:0  Window Sample:11  1935605755  0x735EFFFB \n",
      "Window:0  Window Sample:12  1935605756  0x735EFFFC \n",
      "Window:0  Window Sample:13  1935605757  0x735EFFFD \n",
      "Window:0  Window Sample:14  1935605758  0x735EFFFE \n",
      "Window:0  Window Sample:15  1935605759  0x735EFFFF \n",
      "Window:0  Window Sample:16  1935605760  0x735F0000 <-- Trigger\n",
      "Window:0  Window Sample:17  1935605761  0x735F0001 \n",
      "Window:0  Window Sample:18  1935605762  0x735F0002 \n",
      "Window:0  Window Sample:19  1935605763  0x735F0003 \n",
      "Window:0  Window Sample:20  1935605764  0x735F0004 \n",
      "Window:0  Window Sample:21  1935605765  0x735F0005 \n",
      "Window:0  Window Sample:22  1935605766  0x735F0006 \n",
      "Window:0  Window Sample:23  1935605767  0x735F0007 \n",
      "Window:0  Window Sample:24  1935605768  0x735F0008 \n",
      "Window:0  Window Sample:25  1935605769  0x735F0009 \n",
      "Window:0  Window Sample:26  1935605770  0x735F000A \n",
      "Window:0  Window Sample:27  1935605771  0x735F000B \n",
      "Window:0  Window Sample:28  1935605772  0x735F000C \n",
      "Window:0  Window Sample:29  1935605773  0x735F000D \n",
      "Window:0  Window Sample:30  1935605774  0x735F000E \n",
      "Window:0  Window Sample:31  1935605775  0x735F000F \n"
     ]
    }
   ],
   "source": [
    "# Wait for the ILA trigger with upload.\n",
    "# Then print the captured ILA samples and mark the trigger position.\n",
    "\n",
    "ila.wait_till_done(max_wait_minutes=0.1)\n",
    "upload_successful = ila.upload()\n",
    "if upload_successful:\n",
    "    samples = get_waveform_data(\n",
    "        ila.waveform,\n",
    "        [\"chipscopy_ex_i/counters/slow_counter_0_Q_1\"],\n",
    "        include_trigger=True,\n",
    "        include_sample_info=True,\n",
    "    )\n",
    "    for trigger, sample_index, window_index, window_sample_index, value in zip(*samples.values()):\n",
    "        trigger = \"<-- Trigger\" if trigger else \"\"\n",
    "        print(\n",
    "            f\"Window:{window_index}  Window Sample:{window_sample_index}  {value:10}  0x{value:08X} {trigger}\"\n",
    "        )\n",
    "else:\n",
    "    print(\"Failed to upload ILA data from core\")"
   ]
  },
  {
   "cell_type": "markdown",
   "id": "logical-marine",
   "metadata": {},
   "source": [
    "### 5c - Trigger ILA using VIO Up/Down virtual switch\n",
    "\n",
    "This step demonstrates how VIO and ILA can be combined to form powerful debug building blocks.\n",
    "\n",
    "ILA is set to trigger when UP/DOWN counter signal edge rises or falls.\n",
    "VIO drives the UP/DOWN counter control signal to 0 causing the counter to count down.\n",
    "The signal transition causes ILA to trigger and capture data.\n",
    "\n",
    "After this step,\n",
    "- VIO drives counter to count from UP to DOWN\n",
    "- ILA triggers on the UP to DOWN signal transition\n",
    "- Waveform uploaded with the up/down trigger sample in the center of captured data\n"
   ]
  },
  {
   "cell_type": "markdown",
   "id": "demonstrated-updating",
   "metadata": {},
   "source": [
    "<img src=\"img/edge_trigger.png\" width=\"550\" align=\"left\">"
   ]
  },
  {
   "cell_type": "code",
   "execution_count": 13,
   "id": "nonprofit-quantity",
   "metadata": {},
   "outputs": [
    {
     "name": "stdout",
     "output_type": "stream",
     "text": [
      "ILA is running - looking for trigger\n"
     ]
    }
   ],
   "source": [
    "# Set ILA core to capture on a transition of the UP/DOWN toggle switch\n",
    "# Once transition happens, trigger in the middle of the buffer.\n",
    "\n",
    "ila.reset_probes()\n",
    "ila.set_probe_trigger_value(\"chipscopy_ex_i/counters/slow_counter_0_UP_1\", [\"==\", \"B\"])\n",
    "ila.run_basic_trigger(window_count=1, window_size=32, trigger_position=16)\n",
    "\n",
    "print(\"ILA is running - looking for trigger\")"
   ]
  },
  {
   "cell_type": "code",
   "execution_count": 14,
   "id": "streaming-dealing",
   "metadata": {},
   "outputs": [
    {
     "name": "stdout",
     "output_type": "stream",
     "text": [
      "VIO changed up/down counter to count down\n"
     ]
    }
   ],
   "source": [
    "# VIO: Turn counter up/down switch to DOWN position.\n",
    "# This will cause the running ILA to trigger on the transition edge from up to down.\n",
    "\n",
    "vio.write_probes({\"chipscopy_ex_i/counters/slow_counter_0_UP\": 0})\n",
    "\n",
    "print(\"VIO changed up/down counter to count down\")"
   ]
  },
  {
   "cell_type": "code",
   "execution_count": 15,
   "id": "heavy-meeting",
   "metadata": {},
   "outputs": [
    {
     "name": "stdout",
     "output_type": "stream",
     "text": [
      "Window:0  Window Sample:0  2060883338  0x7AD6958A \n",
      "Window:0  Window Sample:1  2060883339  0x7AD6958B \n",
      "Window:0  Window Sample:2  2060883340  0x7AD6958C \n",
      "Window:0  Window Sample:3  2060883341  0x7AD6958D \n",
      "Window:0  Window Sample:4  2060883342  0x7AD6958E \n",
      "Window:0  Window Sample:5  2060883343  0x7AD6958F \n",
      "Window:0  Window Sample:6  2060883344  0x7AD69590 \n",
      "Window:0  Window Sample:7  2060883345  0x7AD69591 \n",
      "Window:0  Window Sample:8  2060883346  0x7AD69592 \n",
      "Window:0  Window Sample:9  2060883347  0x7AD69593 \n",
      "Window:0  Window Sample:10  2060883348  0x7AD69594 \n",
      "Window:0  Window Sample:11  2060883349  0x7AD69595 \n",
      "Window:0  Window Sample:12  2060883350  0x7AD69596 \n",
      "Window:0  Window Sample:13  2060883351  0x7AD69597 \n",
      "Window:0  Window Sample:14  2060883352  0x7AD69598 \n",
      "Window:0  Window Sample:15  2060883353  0x7AD69599 \n",
      "Window:0  Window Sample:16  2060883354  0x7AD6959A <-- Trigger\n",
      "Window:0  Window Sample:17  2060883353  0x7AD69599 \n",
      "Window:0  Window Sample:18  2060883352  0x7AD69598 \n",
      "Window:0  Window Sample:19  2060883351  0x7AD69597 \n",
      "Window:0  Window Sample:20  2060883350  0x7AD69596 \n",
      "Window:0  Window Sample:21  2060883349  0x7AD69595 \n",
      "Window:0  Window Sample:22  2060883348  0x7AD69594 \n",
      "Window:0  Window Sample:23  2060883347  0x7AD69593 \n",
      "Window:0  Window Sample:24  2060883346  0x7AD69592 \n",
      "Window:0  Window Sample:25  2060883345  0x7AD69591 \n",
      "Window:0  Window Sample:26  2060883344  0x7AD69590 \n",
      "Window:0  Window Sample:27  2060883343  0x7AD6958F \n",
      "Window:0  Window Sample:28  2060883342  0x7AD6958E \n",
      "Window:0  Window Sample:29  2060883341  0x7AD6958D \n",
      "Window:0  Window Sample:30  2060883340  0x7AD6958C \n",
      "Window:0  Window Sample:31  2060883339  0x7AD6958B \n"
     ]
    }
   ],
   "source": [
    "# Print the captured ILA samples and mark the trigger position.\n",
    "# Note that counter counts down after the trigger mark.\n",
    "\n",
    "ila.wait_till_done(max_wait_minutes=0.1)\n",
    "upload_successful = ila.upload()\n",
    "if upload_successful:\n",
    "    samples = get_waveform_data(\n",
    "        ila.waveform,\n",
    "        [\"chipscopy_ex_i/counters/slow_counter_0_Q_1\"],\n",
    "        include_trigger=True,\n",
    "        include_sample_info=True,\n",
    "    )\n",
    "    for trigger, sample_index, window_index, window_sample_index, value in zip(*samples.values()):\n",
    "        trigger = \"<-- Trigger\" if trigger else \"\"\n",
    "        print(\n",
    "            f\"Window:{window_index}  Window Sample:{window_sample_index}  {value:10}  0x{value:08X} {trigger}\"\n",
    "        )\n",
    "else:\n",
    "    print(\"Failed to upload ILA data from core\")"
   ]
  },
  {
   "cell_type": "markdown",
   "id": "better-saturn",
   "metadata": {
    "pycharm": {
     "name": "#%% md\n"
    }
   },
   "source": [
    "## 6 - Waveform Export - VCD (or CSV)\n",
    "\n",
    " Demonstrate how to export waveform data to a VCD file for visualizing waveform in other tools. \n",
    " \n",
    " Export includes complete waveform with probe, _TRIGGER, and _WINDOW.\n",
    " \n",
    " - For CSV export, substitute \"CSV\" for \"VCD\" argument.\n",
    " - To export to a file, substitute the filename for 'sys.stdout'"
   ]
  },
  {
   "cell_type": "code",
   "execution_count": 16,
   "id": "altered-glance",
   "metadata": {
    "pycharm": {
     "name": "#%%\n"
    }
   },
   "outputs": [
    {
     "name": "stdout",
     "output_type": "stream",
     "text": [
      "$date\n",
      "        2021-06-30 20:08:37\n",
      "$end\n",
      "$version\n",
      "        ChipScoPy Version 2021.1.1623743086\n",
      "$end\n",
      "$timescale\n",
      "        1ps\n",
      "$end\n",
      "$scope module dut $end\n",
      "$var reg 1 # chipscopy_ex_i/counters/slow_counter_0_CE_1  $end\n",
      "$var reg 1 $ chipscopy_ex_i/counters/slow_counter_0_SCLR_1  $end\n",
      "$var reg 1 % chipscopy_ex_i/counters/slow_counter_0_UP_1  $end\n",
      "$var reg 1 & chipscopy_ex_i/counters/slow_counter_0_LOAD_1  $end\n",
      "$var reg 32 ' chipscopy_ex_i/counters/slow_counter_0_L_1 [31:0] $end\n",
      "$var reg 32 ( chipscopy_ex_i/counters/slow_counter_0_Q_1 [31:0] $end\n",
      "$var reg 1 ) chipscopy_ex_i/counters/ila_slow_counter_0_TRIG_OUT_trig  $end\n",
      "$var reg 1 * chipscopy_ex_i/counters/ila_fast_counter_0_TRIG_IN_ack  $end\n",
      "$var reg 1 + chipscopy_ex_i/counters/ila_fast_counter_0_TRIG_OUT_trig  $end\n",
      "$var reg 1 , chipscopy_ex_i/counters/ila_slow_counter_0_TRIG_IN_ack  $end\n",
      "$var reg 16 - chipscopy_ex_i/counters/slow_sine_Dout [15:0] $end\n",
      "$var reg 16 . chipscopy_ex_i/counters/slow_cosine_Dout [15:0] $end\n",
      "$var reg 1 ! _TRIGGER $end\n",
      "$var reg 1 \" _WINDOW $end\n",
      "$upscope $end\n",
      "$enddefinitions $end\n",
      "#0\n",
      "0!\n",
      "0\"\n",
      "1#\n",
      "0$\n",
      "1%\n",
      "0&\n",
      "b0 '\n",
      "b1111010110101101001010110001010 (\n",
      "0)\n",
      "0*\n",
      "0+\n",
      "0,\n",
      "b101010111110100 -\n",
      "b1010000100101010 .\n",
      "#1\n",
      "b1111010110101101001010110001011 (\n",
      "b101010101011111 -\n",
      "b1010000010100011 .\n",
      "#2\n",
      "b1111010110101101001010110001100 (\n",
      "b101010011001001 -\n",
      "b1010000000011110 .\n",
      "#3\n",
      "b1111010110101101001010110001101 (\n",
      "b101010000110010 -\n",
      "b1001111110011001 .\n",
      "#4\n",
      "b1111010110101101001010110001110 (\n",
      "b101001110011010 -\n",
      "b1001111100010101 .\n",
      "#5\n",
      "b1111010110101101001010110001111 (\n",
      "b101001100000001 -\n",
      "b1001111010010010 .\n",
      "#6\n",
      "b1111010110101101001010110010000 (\n",
      "b101001001101000 -\n",
      "b1001111000010001 .\n",
      "#7\n",
      "b1111010110101101001010110010001 (\n",
      "b101000111001110 -\n",
      "b1001110110010000 .\n",
      "#8\n",
      "b1111010110101101001010110010010 (\n",
      "b101000100110011 -\n",
      "b1001110100010000 .\n",
      "#9\n",
      "b1111010110101101001010110010011 (\n",
      "b101000010010111 -\n",
      "b1001110010010000 .\n",
      "#10\n",
      "b1111010110101101001010110010100 (\n",
      "b100111111111010 -\n",
      "b1001110000010010 .\n",
      "#11\n",
      "b1111010110101101001010110010101 (\n",
      "b100111101011101 -\n",
      "b1001101110010101 .\n",
      "#12\n",
      "b1111010110101101001010110010110 (\n",
      "b100111010111111 -\n",
      "b1001101100011001 .\n",
      "#13\n",
      "b1111010110101101001010110010111 (\n",
      "b100111000100000 -\n",
      "b1001101010011110 .\n",
      "#14\n",
      "b1111010110101101001010110011000 (\n",
      "b100110110000000 -\n",
      "b1001101000100100 .\n",
      "#15\n",
      "b1111010110101101001010110011001 (\n",
      "b100110011100000 -\n",
      "b1001100110101010 .\n",
      "#16\n",
      "1!\n",
      "0%\n",
      "b1111010110101101001010110011010 (\n",
      "b100110000111111 -\n",
      "b1001100100110010 .\n",
      "#17\n",
      "0!\n",
      "b1111010110101101001010110011001 (\n",
      "b100101110011101 -\n",
      "b1001100010111011 .\n",
      "#18\n",
      "b1111010110101101001010110011000 (\n",
      "b100101011111010 -\n",
      "b1001100001000101 .\n",
      "#19\n",
      "b1111010110101101001010110010111 (\n",
      "b100101110011101 -\n",
      "b1001100010111011 .\n",
      "#20\n",
      "b1111010110101101001010110010110 (\n",
      "b100110000111111 -\n",
      "b1001100100110010 .\n",
      "#21\n",
      "b1111010110101101001010110010101 (\n",
      "b100110011100000 -\n",
      "b1001100110101010 .\n",
      "#22\n",
      "b1111010110101101001010110010100 (\n",
      "b100110110000000 -\n",
      "b1001101000100100 .\n",
      "#23\n",
      "b1111010110101101001010110010011 (\n",
      "b100111000100000 -\n",
      "b1001101010011110 .\n",
      "#24\n",
      "b1111010110101101001010110010010 (\n",
      "b100111010111111 -\n",
      "b1001101100011001 .\n",
      "#25\n",
      "b1111010110101101001010110010001 (\n",
      "b100111101011101 -\n",
      "b1001101110010101 .\n",
      "#26\n",
      "b1111010110101101001010110010000 (\n",
      "b100111111111010 -\n",
      "b1001110000010010 .\n",
      "#27\n",
      "b1111010110101101001010110001111 (\n",
      "b101000010010111 -\n",
      "b1001110010010000 .\n",
      "#28\n",
      "b1111010110101101001010110001110 (\n",
      "b101000100110011 -\n",
      "b1001110100010000 .\n",
      "#29\n",
      "b1111010110101101001010110001101 (\n",
      "b101000111001110 -\n",
      "b1001110110010000 .\n",
      "#30\n",
      "b1111010110101101001010110001100 (\n",
      "b101001001101000 -\n",
      "b1001111000010001 .\n",
      "#31\n",
      "b1111010110101101001010110001011 (\n",
      "b101001100000001 -\n",
      "b1001111010010010 .\n"
     ]
    }
   ],
   "source": [
    "if upload_successful:\n",
    "    export_waveform(ila.waveform, \"VCD\", sys.stdout)"
   ]
  }
 ],
 "metadata": {
  "jupytext": {
   "cell_metadata_filter": "-all",
   "main_language": "python",
   "notebook_metadata_filter": "-all"
  },
  "kernelspec": {
   "display_name": "Python 3",
   "language": "python",
   "name": "python3"
  },
  "language_info": {
   "codemirror_mode": {
    "name": "ipython",
    "version": 3
   },
   "file_extension": ".py",
   "mimetype": "text/x-python",
   "name": "python",
   "nbconvert_exporter": "python",
   "pygments_lexer": "ipython3",
   "version": "3.8.6"
  }
 },
 "nbformat": 4,
 "nbformat_minor": 5
}