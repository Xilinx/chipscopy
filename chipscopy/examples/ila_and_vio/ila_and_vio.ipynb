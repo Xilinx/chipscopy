{
 "cells": [
  {
   "cell_type": "code",
   "execution_count": 1,
   "metadata": {},
   "outputs": [],
   "source": [
    "# Copyright 2021 Xilinx, Inc.\n",
    "# \n",
    "# Licensed under the Apache License, Version 2.0 (the \"License\");\n",
    "# you may not use this file except in compliance with the License.\n",
    "# You may obtain a copy of the License at\n",
    "# \n",
    "#     http://www.apache.org/licenses/LICENSE-2.0\n",
    "# \n",
    "# Unless required by applicable law or agreed to in writing, software\n",
    "# distributed under the License is distributed on an \"AS IS\" BASIS,\n",
    "# WITHOUT WARRANTIES OR CONDITIONS OF ANY KIND, either express or implied.\n",
    "# See the License for the specific language governing permissions and\n",
    "# limitations under the License."
   ]
  },
  {
   "cell_type": "markdown",
   "metadata": {},
   "source": [
    "ChipScoPy ILA and VIO Example\n",
    "============================="
   ]
  },
  {
   "cell_type": "markdown",
   "metadata": {},
   "source": [
    "Description\n",
    "-----------\n",
    "This example demonstrates how to program and communicate with ILA (Integrated Logic Analyzer) and\n",
    "VIO (Virtual IO) cores using the ChipScoPy Python API.\n",
    "\n",
    "<img src=\"img/api_overview.png\" width=\"500\" align=\"left\">\n"
   ]
  },
  {
   "cell_type": "markdown",
   "metadata": {},
   "source": [
    "Requirements\n",
    "------------\n",
    "1. Hardware Server 2021.1+\n",
    "2. ChipScope Server 2021.1+\n",
    "3. Xilinx Versal board such as a VCK190\n",
    "4. Python 3.8 or greater with ChipScoPy 2021.1+ installed"
   ]
  },
  {
   "cell_type": "markdown",
   "metadata": {},
   "source": [
    "## 1 - Initialization: Imports and File Paths\n",
    "\n",
    "After this step,\n",
    "- Required functions and classes are imported\n",
    "- URL paths are set correctly\n",
    "- File paths to example files are set correctly"
   ]
  },
  {
   "cell_type": "code",
   "execution_count": 2,
   "metadata": {},
   "outputs": [],
   "source": [
    "import os\n",
    "from chipscopy import get_examples_dir_or_die\n",
    "from chipscopy import create_session, report_versions\n",
    "from chipscopy.api.ila import get_waveform_data"
   ]
  },
  {
   "cell_type": "code",
   "execution_count": 3,
   "metadata": {
    "lines_to_next_cell": 2
   },
   "outputs": [],
   "source": [
    "# Specify locations of the running hw_server and cs_server below.\n",
    "# To make things convenient, we default to values from the following environment variables.\n",
    "# Modify these if needed.\n",
    "\n",
    "CS_URL = os.getenv(\"CS_SERVER_URL\", \"TCP:localhost:3042\")\n",
    "HW_URL = os.getenv(\"HW_SERVER_URL\", \"TCP:localhost:3121\")\n",
    "BOARD = os.getenv(\"HW_SERVER_BOARD\", \"vck190/production/2.0\")\n",
    "EXAMPLES_DIR = get_examples_dir_or_die()\n",
    "PROGRAMMING_FILE = f\"{EXAMPLES_DIR}/designs/{BOARD}/ks_demo/ks_demo_wrapper.pdi\"\n",
    "PROBES_FILE = f\"{EXAMPLES_DIR}/designs/{BOARD}/ks_demo/ks_demo_wrapper.ltx\""
   ]
  },
  {
   "cell_type": "code",
   "execution_count": 4,
   "metadata": {},
   "outputs": [
    {
     "name": "stdout",
     "output_type": "stream",
     "text": [
      "HW_URL: TCP:xsjmdarnall40x:3121\n",
      "CS_URL: xsjmdarnall40x:3042\n",
      "PROGRAMMING_FILE: C:\\Users\\mdarnall\\dev\\git\\chipscopy\\chipscopy\\examples/designs/vck190/production/2.0/ks_demo/ks_demo_wrapper.pdi\n",
      "PROBES_FILE:C:\\Users\\mdarnall\\dev\\git\\chipscopy\\chipscopy\\examples/designs/vck190/production/2.0/ks_demo/ks_demo_wrapper.ltx\n"
     ]
    }
   ],
   "source": [
    "# Double check paths look good...\n",
    "print(f\"HW_URL: {HW_URL}\")\n",
    "print(f\"CS_URL: {CS_URL}\")\n",
    "print(f\"PROGRAMMING_FILE: {PROGRAMMING_FILE}\")\n",
    "print(f\"PROBES_FILE:{PROBES_FILE}\")"
   ]
  },
  {
   "cell_type": "markdown",
   "metadata": {},
   "source": [
    "## 2 - Create a session and connect to the hw_server and cs_server\n",
    "\n",
    "Create a new session. The session is a container that keeps track of devices and debug cores managed by the hw_server and cs_server\n",
    "\n",
    "- hw_server_url is the hardware server. It handles low level device communication\n",
    "- cs_server_url is the chipscope server. It manages higher level debug core services.\n",
    "\n",
    "After this step,\n",
    "\n",
    "- session is initialized, pointing at a running chipscope and hardware server\n",
    "- versions of ChipScoPy, hardware server, and chipscope server are known"
   ]
  },
  {
   "cell_type": "code",
   "execution_count": 5,
   "metadata": {},
   "outputs": [
    {
     "data": {
      "text/html": [
       "<pre style=\"white-space:pre;overflow-x:auto;line-height:normal;font-family:Menlo,'DejaVu Sans Mono',consolas,'Courier New',monospace\">\n",
       "\n",
       "</pre>\n"
      ],
      "text/plain": [
       "<rich.jupyter.JupyterRenderable at 0x1cbea120970>"
      ]
     },
     "metadata": {},
     "output_type": "display_data"
    },
    {
     "data": {
      "text/html": [
       "<pre style=\"white-space:pre;overflow-x:auto;line-height:normal;font-family:Menlo,'DejaVu Sans Mono',consolas,'Courier New',monospace\"><span style=\"font-style: italic\">                        ChipScoPy Version Information                         </span>\n",
       "┌─────────────────────────────────┬──────────────────────────────────────────┐\n",
       "│<span style=\"font-weight: bold\">                          Entity </span>│<span style=\"font-weight: bold\"> Version                                  </span>│\n",
       "├─────────────────────────────────┼──────────────────────────────────────────┤\n",
       "│                       ChipScoPy │ ┌───────────┬──────────────────────┐     │\n",
       "│                                 │ │<span style=\"font-weight: bold\"> Attribute </span>│<span style=\"font-weight: bold\"> Value                </span>│     │\n",
       "│                                 │ ├───────────┼──────────────────────┤     │\n",
       "│                                 │ │     Build │ 2021.1.1614310630    │     │\n",
       "│                                 │ │ Timestamp │ Feb 25 2021-19:37:10 │     │\n",
       "│                                 │ └───────────┴──────────────────────┘     │\n",
       "│                                 │                                          │\n",
       "│ hw_server @ xsjmdarnall40x:3121 │ ┌───────────┬──────────────────────────┐ │\n",
       "│                                 │ │<span style=\"font-weight: bold\"> Attribute </span>│<span style=\"font-weight: bold\"> Value                    </span>│ │\n",
       "│                                 │ ├───────────┼──────────────────────────┤ │\n",
       "│                                 │ │    Status │ Connected                │ │\n",
       "│                                 │ │     Build │ 1617838205               │ │\n",
       "│                                 │ │   Version │ 2021.1.0                 │ │\n",
       "│                                 │ │ Timestamp │ Wed Apr  7 17:30:05 2021 │ │\n",
       "│                                 │ └───────────┴──────────────────────────┘ │\n",
       "│                                 │                                          │\n",
       "│ cs_server @ xsjmdarnall40x:3042 │ ┌───────────────┬──────────────────────┐ │\n",
       "│                                 │ │<span style=\"font-weight: bold\">     Attribute </span>│<span style=\"font-weight: bold\"> Value                </span>│ │\n",
       "│                                 │ ├───────────────┼──────────────────────┤ │\n",
       "│                                 │ │        Status │ Connected            │ │\n",
       "│                                 │ │         Build │ 1617827376           │ │\n",
       "│                                 │ │       Version │ 2021.1               │ │\n",
       "│                                 │ │     Timestamp │ Apr 07 2021-13:29:36 │ │\n",
       "│                                 │ │       Package │ 2021.1.1617827376    │ │\n",
       "│                                 │ │ Artifact type │ pyinstaller          │ │\n",
       "│                                 │ └───────────────┴──────────────────────┘ │\n",
       "└─────────────────────────────────┴──────────────────────────────────────────┘\n",
       "</pre>\n"
      ],
      "text/plain": [
       "<rich.jupyter.JupyterRenderable at 0x1cbea120970>"
      ]
     },
     "metadata": {},
     "output_type": "display_data"
    },
    {
     "data": {
      "text/html": [
       "<pre style=\"white-space:pre;overflow-x:auto;line-height:normal;font-family:Menlo,'DejaVu Sans Mono',consolas,'Courier New',monospace\">\n",
       "\n",
       "</pre>\n"
      ],
      "text/plain": [
       "<rich.jupyter.JupyterRenderable at 0x1cbea182af0>"
      ]
     },
     "metadata": {},
     "output_type": "display_data"
    }
   ],
   "source": [
    "session = create_session(cs_server_url=CS_URL, hw_server_url=HW_URL)\n",
    "\n",
    "# Report version is a convenient command to check versions of ChipScoPy, hw_server, and cs_server.\n",
    "report_versions(session)"
   ]
  },
  {
   "cell_type": "markdown",
   "metadata": {},
   "source": [
    "## 3 - Program the device with our example bitstream\n",
    "\n",
    "\n",
    "After this step,\n",
    "- Device is programmed with the example bitstream\n"
   ]
  },
  {
   "cell_type": "code",
   "execution_count": 6,
   "metadata": {
    "lines_to_next_cell": 2
   },
   "outputs": [
    {
     "name": "stdout",
     "output_type": "stream",
     "text": [
      "Programming C:\\Users\\mdarnall\\dev\\git\\chipscopy\\chipscopy\\examples/designs/vck190/production/2.0/ks_demo/ks_demo_wrapper.pdi...\n"
     ]
    },
    {
     "data": {
      "text/html": [
       "<pre style=\"white-space:pre;overflow-x:auto;line-height:normal;font-family:Menlo,'DejaVu Sans Mono',consolas,'Courier New',monospace\">\n",
       "<span style=\"font-weight: bold\">--&gt; INFO: </span>Programming PDI file C:\\Users\\mdarnall\\dev\\git\\chipscopy\\chipscopy\\examples\\designs\n",
       "\\vck190\\production\\2.0\\ks_demo\\ks_demo_wrapper.pdi\n",
       "    \n",
       "</pre>\n"
      ],
      "text/plain": [
       "<rich.jupyter.JupyterRenderable at 0x1cbea2885e0>"
      ]
     },
     "metadata": {},
     "output_type": "display_data"
    },
    {
     "data": {
      "application/vnd.jupyter.widget-view+json": {
       "model_id": "085c3c1d0ab6454fab7f0cdd634aadf1",
       "version_major": 2,
       "version_minor": 0
      },
      "text/plain": [
       "Output()"
      ]
     },
     "metadata": {},
     "output_type": "display_data"
    }
   ],
   "source": [
    "print(f\"Programming {PROGRAMMING_FILE}...\")\n",
    "device = session.devices[0]\n",
    "device.program(PROGRAMMING_FILE)"
   ]
  },
  {
   "cell_type": "markdown",
   "metadata": {},
   "source": [
    "## 4 - Discover Debug Cores\n",
    "\n",
    "Debug core discovery initializes the chipscope server debug cores. This brings debug cores in the chipscope server online.\n",
    "\n",
    "After this step,\n",
    "\n",
    "- chipscope server is ready for debug core use\n",
    "- ila and vio core instances in the device are reported"
   ]
  },
  {
   "cell_type": "code",
   "execution_count": 7,
   "metadata": {},
   "outputs": [
    {
     "name": "stdout",
     "output_type": "stream",
     "text": [
      "Debug cores setup and ready for use.\n"
     ]
    }
   ],
   "source": [
    "device.discover_and_setup_cores(ltx_file=PROBES_FILE)\n",
    "print(f\"Debug cores setup and ready for use.\")"
   ]
  },
  {
   "cell_type": "code",
   "execution_count": 8,
   "metadata": {},
   "outputs": [
    {
     "name": "stdout",
     "output_type": "stream",
     "text": [
      "0 - 1CBBF19A124D562B8B39E5D39BB10BE3   ks_demo_i/axis_ila_dma\n",
      "1 - 20E8B004FC865B87883C4CCDC77D830D   ks_demo_i/axis_ila_bram\n",
      "2 - 8F904C7908B25897BEAB95475B844358   ks_demo_i/ila_fast_counter_0\n",
      "3 - CA49247E0AB35CCBB6093B473F933C0E   ks_demo_i/ila_slow_counter_0\n"
     ]
    }
   ],
   "source": [
    "# Print out the ILA core instance UUIDs and instance names\n",
    "ila_cores = device.ila_cores\n",
    "for index, ila_core in enumerate(ila_cores):\n",
    "    print(f\"{index} - {ila_core.core_info.uuid}   {ila_core.name}\")"
   ]
  },
  {
   "cell_type": "code",
   "execution_count": 9,
   "metadata": {
    "lines_to_next_cell": 2
   },
   "outputs": [
    {
     "name": "stdout",
     "output_type": "stream",
     "text": [
      "0 - F77F6EBA28EE5440BA5736D4147F4955   ks_demo_i/vio_fast_counter_0\n",
      "1 - 499D80541CE65035B25919B9E0CD7838   ks_demo_i/vio_slow_counter_0\n"
     ]
    }
   ],
   "source": [
    "# Print out the VIO core instance UUIDs and instance names\n",
    "vio_cores = device.vio_cores\n",
    "for index, vio_core in enumerate(vio_cores):\n",
    "    print(f\"{index} - {vio_core.core_info.uuid}   {vio_core.name}\")"
   ]
  },
  {
   "cell_type": "markdown",
   "metadata": {},
   "source": [
    "## 5 - VIO Control and ILA Capture\n",
    "\n",
    "ILA and VIO are two important building blocks for debugging applications in hardware.\n",
    "This example design design shows how to control IP using a VIO core and capture results with ILA.\n",
    "\n",
    "In this Design,\n",
    "- A VIO core controls the counter (reset, up/down, ce, load)\n",
    "- An ILA core captures the counter values\n"
   ]
  },
  {
   "cell_type": "markdown",
   "metadata": {},
   "source": [
    "<img src=\"img/capture_data.png\" width=\"400\" align=\"left\">"
   ]
  },
  {
   "cell_type": "code",
   "execution_count": 10,
   "metadata": {
    "lines_to_next_cell": 2
   },
   "outputs": [
    {
     "name": "stdout",
     "output_type": "stream",
     "text": [
      "Using ila: CA49247E0AB35CCBB6093B473F933C0E  ks_demo_i/ila_slow_counter_0\n",
      "Using vio: 499D80541CE65035B25919B9E0CD7838  ks_demo_i/vio_slow_counter_0\n"
     ]
    }
   ],
   "source": [
    "# Grab the two cores we are interested in for the demonstration\n",
    "# As shown above, a counter is connected to the ILA core.\n",
    "# The VIO core controls the counter.\n",
    "\n",
    "ila = session.devices[0].ila_cores.get(name=\"ks_demo_i/ila_slow_counter_0\")\n",
    "vio = session.devices[0].vio_cores.get(name=\"ks_demo_i/vio_slow_counter_0\")\n",
    "\n",
    "print(f\"Using ila: {ila.core_info.uuid}  {ila.name}\")\n",
    "print(f\"Using vio: {vio.core_info.uuid}  {vio.name}\")"
   ]
  },
  {
   "cell_type": "markdown",
   "metadata": {},
   "source": [
    "### 5a - Configure the counter using VIO output probes\n",
    "\n",
    "<img src=\"img/vio_control_counter.png\" width=\"300\" align=\"left\">"
   ]
  },
  {
   "cell_type": "code",
   "execution_count": 11,
   "metadata": {},
   "outputs": [
    {
     "name": "stdout",
     "output_type": "stream",
     "text": [
      "Counter is now free-running and counting up\n"
     ]
    }
   ],
   "source": [
    "# Set up the VIO core to enable counting up from 0\n",
    "#\n",
    "vio.reset_vio()\n",
    "vio.write_probes(\n",
    "    {\n",
    "        \"ks_demo_i/slow_counter_0_SCLR\": 0,\n",
    "        \"ks_demo_i/slow_counter_0_L\": 0x00000000,\n",
    "        \"ks_demo_i/slow_counter_0_LOAD\": 0,\n",
    "        \"ks_demo_i/slow_counter_0_UP\": 1,\n",
    "        \"ks_demo_i/slow_counter_0_CE\": 1,\n",
    "    }\n",
    ")\n",
    "print(\"Counter is now free-running and counting up\")"
   ]
  },
  {
   "cell_type": "markdown",
   "metadata": {},
   "source": [
    "### 5b - Capture and display free-running counter using the ILA core\n",
    "\n",
    "<img src=\"img/free_running_counter.png\" width=\"350\" align=\"left\">"
   ]
  },
  {
   "cell_type": "code",
   "execution_count": 12,
   "metadata": {},
   "outputs": [
    {
     "name": "stdout",
     "output_type": "stream",
     "text": [
      "ila is running - looking for trigger\n"
     ]
    }
   ],
   "source": [
    "# Trigger ILA on the free running counter. Trigger set to the first time we see 0s in low 16-bits.\n",
    "# This will show the counter is free running, and counting up\n",
    "ila.reset_probes()\n",
    "ila.set_probe_trigger_value(\"ks_demo_i/slow_counter_0_Q_1\", [\"==\", \"0xXXXX_0000\"])\n",
    "ila.run_basic_trigger(window_count=1, window_size=32, trigger_position=16)\n",
    "print(\"ila is running - looking for trigger\")"
   ]
  },
  {
   "cell_type": "code",
   "execution_count": 13,
   "metadata": {},
   "outputs": [
    {
     "name": "stdout",
     "output_type": "stream",
     "text": [
      "Window:0  Window Sample:0   512622576  0x1E8DFFF0 \n",
      "Window:0  Window Sample:1   512622577  0x1E8DFFF1 \n",
      "Window:0  Window Sample:2   512622578  0x1E8DFFF2 \n",
      "Window:0  Window Sample:3   512622579  0x1E8DFFF3 \n",
      "Window:0  Window Sample:4   512622580  0x1E8DFFF4 \n",
      "Window:0  Window Sample:5   512622581  0x1E8DFFF5 \n",
      "Window:0  Window Sample:6   512622582  0x1E8DFFF6 \n",
      "Window:0  Window Sample:7   512622583  0x1E8DFFF7 \n",
      "Window:0  Window Sample:8   512622584  0x1E8DFFF8 \n",
      "Window:0  Window Sample:9   512622585  0x1E8DFFF9 \n",
      "Window:0  Window Sample:10   512622586  0x1E8DFFFA \n",
      "Window:0  Window Sample:11   512622587  0x1E8DFFFB \n",
      "Window:0  Window Sample:12   512622588  0x1E8DFFFC \n",
      "Window:0  Window Sample:13   512622589  0x1E8DFFFD \n",
      "Window:0  Window Sample:14   512622590  0x1E8DFFFE \n",
      "Window:0  Window Sample:15   512622591  0x1E8DFFFF \n",
      "Window:0  Window Sample:16   512622592  0x1E8E0000 <-- Trigger\n",
      "Window:0  Window Sample:17   512622593  0x1E8E0001 \n",
      "Window:0  Window Sample:18   512622594  0x1E8E0002 \n",
      "Window:0  Window Sample:19   512622595  0x1E8E0003 \n",
      "Window:0  Window Sample:20   512622596  0x1E8E0004 \n",
      "Window:0  Window Sample:21   512622597  0x1E8E0005 \n",
      "Window:0  Window Sample:22   512622598  0x1E8E0006 \n",
      "Window:0  Window Sample:23   512622599  0x1E8E0007 \n",
      "Window:0  Window Sample:24   512622600  0x1E8E0008 \n",
      "Window:0  Window Sample:25   512622601  0x1E8E0009 \n",
      "Window:0  Window Sample:26   512622602  0x1E8E000A \n",
      "Window:0  Window Sample:27   512622603  0x1E8E000B \n",
      "Window:0  Window Sample:28   512622604  0x1E8E000C \n",
      "Window:0  Window Sample:29   512622605  0x1E8E000D \n",
      "Window:0  Window Sample:30   512622606  0x1E8E000E \n",
      "Window:0  Window Sample:31   512622607  0x1E8E000F \n"
     ]
    }
   ],
   "source": [
    "# Wait for the ila trigger with upload.\n",
    "# Then print the captured ILA samples and mark the trigger position.\n",
    "\n",
    "ila.monitor_status(max_wait_minutes=0.1)\n",
    "ila.upload()\n",
    "samples = get_waveform_data(\n",
    "    ila.waveform,\n",
    "    [\"ks_demo_i/slow_counter_0_Q_1\"],\n",
    "    include_trigger=True,\n",
    "    include_sample_info=True,\n",
    ")\n",
    "for trigger, sample_index, window_index, window_sample_index, value in zip(*samples.values()):\n",
    "    trigger = \"<-- Trigger\" if trigger else \"\"\n",
    "    print(\n",
    "        f\"Window:{window_index}  Window Sample:{window_sample_index}  {value:10}  0x{value:08X} {trigger}\"\n",
    "    )"
   ]
  },
  {
   "cell_type": "markdown",
   "metadata": {},
   "source": [
    "### 5c - Trigger ILA using VIO Up/Down virtual switch\n",
    "\n",
    "This step demonstrates how VIO and ILA can be combined to form powerful debug building blocks.\n",
    "\n",
    "ILA is set to trigger when UP/DOWN counter signal edge rises or falls.\n",
    "VIO drives the UP/DOWN counter control signal to 0 causing the counter to count down.\n",
    "The signal transition causes ILA to trigger and capture data.\n",
    "\n",
    "After this step,\n",
    "- VIO drives counter to count from UP to DOWN\n",
    "- ILA triggers on the UP to DOWN signal transition\n",
    "- Waveform uploaded with the up/down trigger sample in the center of captured data\n"
   ]
  },
  {
   "cell_type": "markdown",
   "metadata": {},
   "source": [
    "<img src=\"img/edge_trigger.png\" width=\"550\" align=\"left\">"
   ]
  },
  {
   "cell_type": "code",
   "execution_count": 14,
   "metadata": {},
   "outputs": [
    {
     "name": "stdout",
     "output_type": "stream",
     "text": [
      "ila is running - looking for trigger\n"
     ]
    }
   ],
   "source": [
    "# Set ILA core to capture on a transition of the UP/DOWN toggle switch\n",
    "# Once transition happens, trigger in the middle of the buffer.\n",
    "\n",
    "ila.reset_probes()\n",
    "ila.set_probe_trigger_value(\"ks_demo_i/slow_counter_0_UP_1\", [\"==\", \"B\"])\n",
    "ila.run_basic_trigger(window_count=1, window_size=32, trigger_position=16)\n",
    "\n",
    "print(\"ila is running - looking for trigger\")"
   ]
  },
  {
   "cell_type": "code",
   "execution_count": 15,
   "metadata": {},
   "outputs": [
    {
     "name": "stdout",
     "output_type": "stream",
     "text": [
      "vio changed up/down counter to count down\n"
     ]
    }
   ],
   "source": [
    "# VIO: Turn counter up/down switch to DOWN position.\n",
    "# This will cause the running ILA to trigger on the transition edge from up to down.\n",
    "\n",
    "vio.write_probes({\"ks_demo_i/slow_counter_0_UP\": 0})\n",
    "\n",
    "print(\"vio changed up/down counter to count down\")"
   ]
  },
  {
   "cell_type": "code",
   "execution_count": 16,
   "metadata": {},
   "outputs": [
    {
     "name": "stdout",
     "output_type": "stream",
     "text": [
      "Window:0  Window Sample:0   564373764  0x21A3A904 \n",
      "Window:0  Window Sample:1   564373765  0x21A3A905 \n",
      "Window:0  Window Sample:2   564373766  0x21A3A906 \n",
      "Window:0  Window Sample:3   564373767  0x21A3A907 \n",
      "Window:0  Window Sample:4   564373768  0x21A3A908 \n",
      "Window:0  Window Sample:5   564373769  0x21A3A909 \n",
      "Window:0  Window Sample:6   564373770  0x21A3A90A \n",
      "Window:0  Window Sample:7   564373771  0x21A3A90B \n",
      "Window:0  Window Sample:8   564373772  0x21A3A90C \n",
      "Window:0  Window Sample:9   564373773  0x21A3A90D \n",
      "Window:0  Window Sample:10   564373774  0x21A3A90E \n",
      "Window:0  Window Sample:11   564373775  0x21A3A90F \n",
      "Window:0  Window Sample:12   564373776  0x21A3A910 \n",
      "Window:0  Window Sample:13   564373777  0x21A3A911 \n",
      "Window:0  Window Sample:14   564373778  0x21A3A912 \n",
      "Window:0  Window Sample:15   564373779  0x21A3A913 \n",
      "Window:0  Window Sample:16   564373780  0x21A3A914 <-- Trigger\n",
      "Window:0  Window Sample:17   564373779  0x21A3A913 \n",
      "Window:0  Window Sample:18   564373778  0x21A3A912 \n",
      "Window:0  Window Sample:19   564373777  0x21A3A911 \n",
      "Window:0  Window Sample:20   564373776  0x21A3A910 \n",
      "Window:0  Window Sample:21   564373775  0x21A3A90F \n",
      "Window:0  Window Sample:22   564373774  0x21A3A90E \n",
      "Window:0  Window Sample:23   564373773  0x21A3A90D \n",
      "Window:0  Window Sample:24   564373772  0x21A3A90C \n",
      "Window:0  Window Sample:25   564373771  0x21A3A90B \n",
      "Window:0  Window Sample:26   564373770  0x21A3A90A \n",
      "Window:0  Window Sample:27   564373769  0x21A3A909 \n",
      "Window:0  Window Sample:28   564373768  0x21A3A908 \n",
      "Window:0  Window Sample:29   564373767  0x21A3A907 \n",
      "Window:0  Window Sample:30   564373766  0x21A3A906 \n",
      "Window:0  Window Sample:31   564373765  0x21A3A905 \n"
     ]
    }
   ],
   "source": [
    "# Print the captured ILA samples and mark the trigger position.\n",
    "# Note that counter counts down after the trigger mark.\n",
    "\n",
    "ila.monitor_status(max_wait_minutes=0.1)\n",
    "upload_successful = ila.upload()\n",
    "if upload_successful:\n",
    "    samples = get_waveform_data(\n",
    "        ila.waveform, [\"ks_demo_i/slow_counter_0_Q_1\"], include_trigger=True, include_sample_info=True\n",
    "    )\n",
    "    for trigger, sample_index, window_index, window_sample_index, value in zip(*samples.values()):\n",
    "        trigger = \"<-- Trigger\" if trigger else \"\"\n",
    "        print(\n",
    "            f\"Window:{window_index}  Window Sample:{window_sample_index}  {value:10}  0x{value:08X} {trigger}\"\n",
    "        )\n",
    "else:\n",
    "    print(\"Failed to upload ILA data from core\")"
   ]
  }
 ],
 "metadata": {
  "jupytext": {
   "cell_metadata_filter": "-all",
   "main_language": "python",
   "notebook_metadata_filter": "-all"
  },
  "kernelspec": {
   "display_name": "Python 3",
   "language": "python",
   "name": "python3"
  },
  "language_info": {
   "codemirror_mode": {
    "name": "ipython",
    "version": 3
   },
   "file_extension": ".py",
   "mimetype": "text/x-python",
   "name": "python",
   "nbconvert_exporter": "python",
   "pygments_lexer": "ipython3",
   "version": "3.8.8"
  }
 },
 "nbformat": 4,
 "nbformat_minor": 5
}