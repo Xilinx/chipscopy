{
 "cells": [
  {
   "cell_type": "markdown",
   "id": "d245e103",
   "metadata": {
    "papermill": {
     "duration": 0.005337,
     "end_time": "2023-10-24T22:09:22.552940",
     "exception": false,
     "start_time": "2023-10-24T22:09:22.547603",
     "status": "completed"
    },
    "tags": []
   },
   "source": [
    "<link rel=\"preconnect\" href=\"https://fonts.gstatic.com\">\n",
    "<link href=\"https://fonts.googleapis.com/css2?family=Fira+Code&display=swap\" rel=\"stylesheet\">\n",
    "\n",
    "### License\n",
    "\n",
    "<p style=\"font-family: 'Fira Code', monospace; font-size: 1.2rem\">\n",
    "Copyright (C) 2022, Xilinx, Inc.<br>\n",
    "Copyright (C) 2022-2024, Advanced Micro Devices, Inc.\n",
    "<br><br>\n",
    "Licensed under the Apache License, Version 2.0 (the \"License\");<br>\n",
    "you may not use this file except in compliance with the License.<br><br>\n",
    "You may obtain a copy of the License at <a href=\"http://www.apache.org/licenses/LICENSE-2.0\"?>http://www.apache.org/licenses/LICENSE-2.0</a><br><br>\n",
    "Unless required by applicable law or agreed to in writing, software<br>\n",
    "distributed under the License is distributed on an \"AS IS\" BASIS,<br>\n",
    "WITHOUT WARRANTIES OR CONDITIONS OF ANY KIND, either express or implied.<br>\n",
    "See the License for the specific language governing permissions and<br>\n",
    "limitations under the License.<br>\n",
    "</p>\n"
   ]
  },
  {
   "cell_type": "markdown",
   "id": "81fbda3b",
   "metadata": {
    "papermill": {
     "duration": 0.004102,
     "end_time": "2023-10-24T22:09:22.561472",
     "exception": false,
     "start_time": "2023-10-24T22:09:22.557370",
     "status": "completed"
    },
    "tags": []
   },
   "source": [
    "# ChipScoPy ILA and VIO Example\n",
    "\n",
    "\n",
    "<img src=\"../img/api_overview.png\" width=\"500\" align=\"left\">"
   ]
  },
  {
   "cell_type": "markdown",
   "id": "e698f67a",
   "metadata": {
    "papermill": {
     "duration": 0.003917,
     "end_time": "2023-10-24T22:09:22.569374",
     "exception": false,
     "start_time": "2023-10-24T22:09:22.565457",
     "status": "completed"
    },
    "tags": []
   },
   "source": [
    "## Description\n",
    "This example demonstrates how to program and communicate with ILA (Integrated Logic Analyzer) and\n",
    "VIO (Virtual IO) cores using the ChipScoPy Python API.\n",
    "\n",
    "\n",
    "## Requirements\n",
    "- Local or remote Xilinx Versal board, such as a VCK190\n",
    "- Xilinx hw_server 2024.2 installed and running\n",
    "- Xilinx cs_server 2024.2 installed and running\n",
    "- Python 3.8 or greater installed\n",
    "- ChipScoPy 2024.2 installed\n",
    "- Jupyter notebook support installed - Please do so, using the command `pip install chipscopy[jupyter]`"
   ]
  },
  {
   "cell_type": "markdown",
   "id": "ab60225b",
   "metadata": {
    "papermill": {
     "duration": 0.00994,
     "end_time": "2023-10-24T22:09:22.583452",
     "exception": false,
     "start_time": "2023-10-24T22:09:22.573512",
     "status": "completed"
    },
    "tags": []
   },
   "source": [
    "## 1 - Initialization: Imports and File Paths\n",
    "\n",
    "After this step,\n",
    "- Required functions and classes are imported\n",
    "- URL paths are set correctly\n",
    "- File paths to example files are set correctly"
   ]
  },
  {
   "cell_type": "code",
   "execution_count": 1,
   "id": "e2e79592",
   "metadata": {
    "papermill": {
     "duration": 0.661974,
     "end_time": "2023-10-24T22:09:23.249453",
     "exception": false,
     "start_time": "2023-10-24T22:09:22.587479",
     "status": "completed"
    },
    "tags": []
   },
   "outputs": [],
   "source": [
    "import sys\n",
    "import os\n",
    "from chipscopy import get_design_files\n",
    "from chipscopy import create_session, report_versions, delete_session"
   ]
  },
  {
   "cell_type": "code",
   "execution_count": 2,
   "id": "5132ba75",
   "metadata": {
    "lines_to_next_cell": 2,
    "papermill": {
     "duration": 0.019718,
     "end_time": "2023-10-24T22:09:23.274231",
     "exception": false,
     "start_time": "2023-10-24T22:09:23.254513",
     "status": "completed"
    },
    "tags": []
   },
   "outputs": [
    {
     "name": "stdout",
     "output_type": "stream",
     "text": [
      "HW_URL: TCP:localhost:3121\n",
      "CS_URL: TCP:localhost:3042\n",
      "PROGRAMMING_FILE: C:\\wrk\\venv\\Lib\\site-packages\\chipscopy\\examples\\designs\\vck190\\production\\chipscopy_ced\\chipscopy_wrapper.pdi\n",
      "PROBES_FILE:C:\\wrk\\venv\\Lib\\site-packages\\chipscopy\\examples\\designs\\vck190\\production\\chipscopy_ced\\chipscopy_wrapper.ltx\n"
     ]
    }
   ],
   "source": [
    "# Make sure to start the hw_server and cs_server prior to running.\n",
    "# Specify locations of the running hw_server and cs_server below.\n",
    "# The default is localhost - but can be other locations on the network.\n",
    "CS_URL = os.getenv(\"CS_SERVER_URL\", \"TCP:localhost:3042\")\n",
    "HW_URL = os.getenv(\"HW_SERVER_URL\", \"TCP:localhost:3121\")\n",
    "\n",
    "# specify hw and if programming is desired\n",
    "HW_PLATFORM = os.getenv(\"HW_PLATFORM\", \"vck190\")\n",
    "PROG_DEVICE = os.getenv(\"PROG_DEVICE\", True)\n",
    "\n",
    "# The get_design_files() function tries to find the PDI and LTX files. In non-standard\n",
    "# configurations, you can put the path for PROGRAMMING_FILE and PROBES_FILE below.\n",
    "design_files = get_design_files(f\"{HW_PLATFORM}/production/chipscopy_ced\")\n",
    "\n",
    "PROGRAMMING_FILE = design_files.programming_file\n",
    "PROBES_FILE = design_files.probes_file\n",
    "\n",
    "print(f\"HW_URL: {HW_URL}\")\n",
    "print(f\"CS_URL: {CS_URL}\")\n",
    "print(f\"PROGRAMMING_FILE: {PROGRAMMING_FILE}\")\n",
    "print(f\"PROBES_FILE:{PROBES_FILE}\")"
   ]
  },
  {
   "cell_type": "markdown",
   "id": "2a4adfbc",
   "metadata": {
    "papermill": {
     "duration": 0.00507,
     "end_time": "2023-10-24T22:09:23.284021",
     "exception": false,
     "start_time": "2023-10-24T22:09:23.278951",
     "status": "completed"
    },
    "tags": []
   },
   "source": [
    "## 2 - Create a session and connect to the hw_server and cs_server\n",
    "\n",
    "The session is a container that keeps track of devices and debug cores.\n",
    "After this step,\n",
    "- Session is initialized and connected to server(s)\n",
    "- Versions are detected and reported to stdout"
   ]
  },
  {
   "cell_type": "code",
   "execution_count": 3,
   "id": "74f36cfc",
   "metadata": {
    "papermill": {
     "duration": 1.365541,
     "end_time": "2023-10-24T22:09:24.653588",
     "exception": false,
     "start_time": "2023-10-24T22:09:23.288047",
     "status": "completed"
    },
    "tags": []
   },
   "outputs": [
    {
     "data": {
      "text/html": [
       "<pre style=\"white-space:pre;overflow-x:auto;line-height:normal;font-family:Menlo,'DejaVu Sans Mono',consolas,'Courier New',monospace\">\n",
       "\n",
       "</pre>\n"
      ],
      "text/plain": [
       "\n",
       "\n"
      ]
     },
     "metadata": {},
     "output_type": "display_data"
    },
    {
     "data": {
      "text/html": [
       "<pre style=\"white-space:pre;overflow-x:auto;line-height:normal;font-family:Menlo,'DejaVu Sans Mono',consolas,'Courier New',monospace\"><span style=\"font-style: italic\">                      ChipScoPy Version Information                      </span>\n",
       "┌────────────────────────────┬──────────────────────────────────────────┐\n",
       "│<span style=\"font-weight: bold\">                     Entity </span>│<span style=\"font-weight: bold\"> Version                                  </span>│\n",
       "├────────────────────────────┼──────────────────────────────────────────┤\n",
       "│                  ChipScoPy │ ┌───────────┬──────────────────────┐     │\n",
       "│                            │ │<span style=\"font-weight: bold\"> Attribute </span>│<span style=\"font-weight: bold\"> Value                </span>│     │\n",
       "│                            │ ├───────────┼──────────────────────┤     │\n",
       "│                            │ │     Build │ 2024.2.1730929359    │     │\n",
       "│                            │ │ Timestamp │ Nov 06 2024-13:42:39 │     │\n",
       "│                            │ └───────────┴──────────────────────┘     │\n",
       "│                            │                                          │\n",
       "│ hw_server @ localhost:3121 │ ┌───────────┬───────────┐                │\n",
       "│                            │ │<span style=\"font-weight: bold\"> Attribute </span>│<span style=\"font-weight: bold\"> Value     </span>│                │\n",
       "│                            │ ├───────────┼───────────┤                │\n",
       "│                            │ │    Status │ Connected │                │\n",
       "│                            │ │     Build │ 0         │                │\n",
       "│                            │ │   Version │ 2024.2    │                │\n",
       "│                            │ │ Timestamp │           │                │\n",
       "│                            │ └───────────┴───────────┘                │\n",
       "│                            │                                          │\n",
       "│ cs_server @ localhost:3042 │ ┌───────────────┬──────────────────────┐ │\n",
       "│                            │ │<span style=\"font-weight: bold\">     Attribute </span>│<span style=\"font-weight: bold\"> Value                </span>│ │\n",
       "│                            │ ├───────────────┼──────────────────────┤ │\n",
       "│                            │ │        Status │ Connected            │ │\n",
       "│                            │ │         Build │ 1730312347           │ │\n",
       "│                            │ │       Version │ 2024.2.0             │ │\n",
       "│                            │ │     Timestamp │ Oct 30 2024-11:19:07 │ │\n",
       "│                            │ │       Package │ 2024.2.1730312347    │ │\n",
       "│                            │ │ Artifact type │ pyinstaller          │ │\n",
       "│                            │ └───────────────┴──────────────────────┘ │\n",
       "└────────────────────────────┴──────────────────────────────────────────┘\n",
       "</pre>\n"
      ],
      "text/plain": [
       "\u001b[3m                      ChipScoPy Version Information                      \u001b[0m\n",
       "┌────────────────────────────┬──────────────────────────────────────────┐\n",
       "│\u001b[1m \u001b[0m\u001b[1m                    Entity\u001b[0m\u001b[1m \u001b[0m│\u001b[1m \u001b[0m\u001b[1mVersion                                 \u001b[0m\u001b[1m \u001b[0m│\n",
       "├────────────────────────────┼──────────────────────────────────────────┤\n",
       "│                  ChipScoPy │ ┌───────────┬──────────────────────┐     │\n",
       "│                            │ │\u001b[1m \u001b[0m\u001b[1mAttribute\u001b[0m\u001b[1m \u001b[0m│\u001b[1m \u001b[0m\u001b[1mValue               \u001b[0m\u001b[1m \u001b[0m│     │\n",
       "│                            │ ├───────────┼──────────────────────┤     │\n",
       "│                            │ │     Build │ 2024.2.1730929359    │     │\n",
       "│                            │ │ Timestamp │ Nov 06 2024-13:42:39 │     │\n",
       "│                            │ └───────────┴──────────────────────┘     │\n",
       "│                            │                                          │\n",
       "│ hw_server @ localhost:3121 │ ┌───────────┬───────────┐                │\n",
       "│                            │ │\u001b[1m \u001b[0m\u001b[1mAttribute\u001b[0m\u001b[1m \u001b[0m│\u001b[1m \u001b[0m\u001b[1mValue    \u001b[0m\u001b[1m \u001b[0m│                │\n",
       "│                            │ ├───────────┼───────────┤                │\n",
       "│                            │ │    Status │ Connected │                │\n",
       "│                            │ │     Build │ 0         │                │\n",
       "│                            │ │   Version │ 2024.2    │                │\n",
       "│                            │ │ Timestamp │           │                │\n",
       "│                            │ └───────────┴───────────┘                │\n",
       "│                            │                                          │\n",
       "│ cs_server @ localhost:3042 │ ┌───────────────┬──────────────────────┐ │\n",
       "│                            │ │\u001b[1m \u001b[0m\u001b[1m    Attribute\u001b[0m\u001b[1m \u001b[0m│\u001b[1m \u001b[0m\u001b[1mValue               \u001b[0m\u001b[1m \u001b[0m│ │\n",
       "│                            │ ├───────────────┼──────────────────────┤ │\n",
       "│                            │ │        Status │ Connected            │ │\n",
       "│                            │ │         Build │ 1730312347           │ │\n",
       "│                            │ │       Version │ 2024.2.0             │ │\n",
       "│                            │ │     Timestamp │ Oct 30 2024-11:19:07 │ │\n",
       "│                            │ │       Package │ 2024.2.1730312347    │ │\n",
       "│                            │ │ Artifact type │ pyinstaller          │ │\n",
       "│                            │ └───────────────┴──────────────────────┘ │\n",
       "└────────────────────────────┴──────────────────────────────────────────┘\n"
      ]
     },
     "metadata": {},
     "output_type": "display_data"
    },
    {
     "data": {
      "text/html": [
       "<pre style=\"white-space:pre;overflow-x:auto;line-height:normal;font-family:Menlo,'DejaVu Sans Mono',consolas,'Courier New',monospace\">\n",
       "\n",
       "</pre>\n"
      ],
      "text/plain": [
       "\n",
       "\n"
      ]
     },
     "metadata": {},
     "output_type": "display_data"
    }
   ],
   "source": [
    "session = create_session(cs_server_url=CS_URL, hw_server_url=HW_URL)\n",
    "report_versions(session)"
   ]
  },
  {
   "cell_type": "markdown",
   "id": "03079d15",
   "metadata": {
    "papermill": {
     "duration": 0.004612,
     "end_time": "2023-10-24T22:09:24.665440",
     "exception": false,
     "start_time": "2023-10-24T22:09:24.660828",
     "status": "completed"
    },
    "tags": []
   },
   "source": [
    "## 3 - Program the device with the example design\n",
    "\n",
    "After this step,\n",
    "- Device is programmed with the example programming file"
   ]
  },
  {
   "cell_type": "code",
   "execution_count": 4,
   "id": "6cfb61c7",
   "metadata": {
    "lines_to_next_cell": 2,
    "papermill": {
     "duration": 7.267477,
     "end_time": "2023-10-24T22:09:31.938990",
     "exception": false,
     "start_time": "2023-10-24T22:09:24.671513",
     "status": "completed"
    },
    "tags": []
   },
   "outputs": [
    {
     "data": {
      "text/html": [
       "<pre style=\"white-space:pre;overflow-x:auto;line-height:normal;font-family:Menlo,'DejaVu Sans Mono',consolas,'Courier New',monospace\">\n",
       "<span style=\"font-weight: bold\">--&gt; INFO: </span>Programming device with: \n",
       "C:\\wrk\\venv\\Lib\\site-packages\\chipscopy\\examples\\designs\\vck190\\production\\chipscopy_ced\\chipscopy_wrapper.pdi\n",
       "    \n",
       "</pre>\n"
      ],
      "text/plain": [
       "\n",
       "\u001b[1m--> INFO: \u001b[0mProgramming device with: \n",
       "C:\\wrk\\venv\\Lib\\site-packages\\chipscopy\\examples\\designs\\vck190\\production\\chipscopy_ced\\chipscopy_wrapper.pdi\n",
       "    \n"
      ]
     },
     "metadata": {},
     "output_type": "display_data"
    },
    {
     "data": {
      "application/vnd.jupyter.widget-view+json": {
       "model_id": "bc33132e2049485f90806085173f278b",
       "version_major": 2,
       "version_minor": 0
      },
      "text/plain": [
       "Output()"
      ]
     },
     "metadata": {},
     "output_type": "display_data"
    },
    {
     "data": {
      "text/html": [
       "<pre style=\"white-space:pre;overflow-x:auto;line-height:normal;font-family:Menlo,'DejaVu Sans Mono',consolas,'Courier New',monospace\"></pre>\n"
      ],
      "text/plain": []
     },
     "metadata": {},
     "output_type": "display_data"
    }
   ],
   "source": [
    "# Typical case - one device on the board - get it.\n",
    "device = session.devices.filter_by(family=\"versal\").get()\n",
    "device.program(PROGRAMMING_FILE)"
   ]
  },
  {
   "cell_type": "markdown",
   "id": "9011ad99",
   "metadata": {
    "papermill": {
     "duration": 0.005049,
     "end_time": "2023-10-24T22:09:31.950260",
     "exception": false,
     "start_time": "2023-10-24T22:09:31.945211",
     "status": "completed"
    },
    "tags": []
   },
   "source": [
    "## 4 - Discover Debug Cores\n",
    "\n",
    "Debug core discovery initializes the chipscope server debug cores. This brings debug cores in the chipscope server online.\n",
    "\n",
    "After this step,\n",
    "\n",
    "- The cs_server is initialized and ready for use\n",
    "- ILA and VIO core instances in the device are reported"
   ]
  },
  {
   "cell_type": "code",
   "execution_count": 5,
   "id": "7b4b20e9",
   "metadata": {
    "papermill": {
     "duration": 0.646417,
     "end_time": "2023-10-24T22:09:32.602267",
     "exception": false,
     "start_time": "2023-10-24T22:09:31.955850",
     "status": "completed"
    },
    "tags": []
   },
   "outputs": [
    {
     "name": "stdout",
     "output_type": "stream",
     "text": [
      "Debug cores setup and ready for use.\n"
     ]
    }
   ],
   "source": [
    "device.discover_and_setup_cores(ltx_file=PROBES_FILE)\n",
    "print(f\"Debug cores setup and ready for use.\")"
   ]
  },
  {
   "cell_type": "code",
   "execution_count": 6,
   "id": "af3f4849",
   "metadata": {
    "papermill": {
     "duration": 1.71476,
     "end_time": "2023-10-24T22:09:34.323378",
     "exception": false,
     "start_time": "2023-10-24T22:09:32.608618",
     "status": "completed"
    },
    "tags": []
   },
   "outputs": [
    {
     "name": "stdout",
     "output_type": "stream",
     "text": [
      "0 - C53C0D3572B655B6A8A13A86686D262D   chipscopy_i/noc_tg_bc/noc_bc_axis_ila_0\n",
      "1 - D62FB110F1A25D439EB15D9149F450CE   chipscopy_i/counters/ila_fast_counter_0\n",
      "2 - 9125D1429AD25223AECDD656C2856755   chipscopy_i/counters/ila_slow_counter_0\n"
     ]
    }
   ],
   "source": [
    "# Print out the ILA core instance UUIDs and instance names\n",
    "ila_cores = device.ila_cores\n",
    "for index, ila_core in enumerate(ila_cores):\n",
    "    print(f\"{index} - {ila_core.core_info.uuid}   {ila_core.name}\")"
   ]
  },
  {
   "cell_type": "code",
   "execution_count": 7,
   "id": "894cf173",
   "metadata": {
    "lines_to_next_cell": 2,
    "papermill": {
     "duration": 1.568583,
     "end_time": "2023-10-24T22:09:35.898561",
     "exception": false,
     "start_time": "2023-10-24T22:09:34.329978",
     "status": "completed"
    },
    "tags": []
   },
   "outputs": [
    {
     "name": "stdout",
     "output_type": "stream",
     "text": [
      "0 - 021098F58FE659EFAD76657E635E53FE   chipscopy_i/noc_tg_bc/axis_vio_0\n",
      "1 - 0E76DEFA789D564080CFA5332A88DB12   chipscopy_i/noc_tg_bc/noc_tg/inst/u_top_axi_mst/u_tg_top/gen_aximm_reg_space.u_reg_space/gen_vio_status_monitor.u_vio_status_monitor\n",
      "2 - 718A03DBCD265D969EA5C15840AEFD17   chipscopy_i/counters/vio_fast_counter_0\n",
      "3 - 22BC7ED6C4145AAB88C58EAEDFF2B04C   chipscopy_i/counters/vio_slow_counter_0\n"
     ]
    }
   ],
   "source": [
    "# Print out the VIO core instance UUIDs and instance names\n",
    "vio_cores = device.vio_cores\n",
    "for index, vio_core in enumerate(vio_cores):\n",
    "    print(f\"{index} - {vio_core.core_info.uuid}   {vio_core.name}\")"
   ]
  },
  {
   "cell_type": "markdown",
   "id": "6a4abaf6",
   "metadata": {
    "papermill": {
     "duration": 0.005161,
     "end_time": "2023-10-24T22:09:35.911955",
     "exception": false,
     "start_time": "2023-10-24T22:09:35.906794",
     "status": "completed"
    },
    "tags": []
   },
   "source": [
    "## 5 - VIO Control and ILA Capture\n",
    "\n",
    "ILA and VIO are two important building blocks for debugging applications in hardware.\n",
    "This example design design shows how to control IP using a VIO core and capture results with ILA.\n",
    "\n",
    "In this Design,\n",
    "- A VIO core controls the counter (reset, up/down, ce, load)\n",
    "- An ILA core captures the counter values\n"
   ]
  },
  {
   "cell_type": "markdown",
   "id": "92702039",
   "metadata": {
    "papermill": {
     "duration": 0.008487,
     "end_time": "2023-10-24T22:09:35.925407",
     "exception": false,
     "start_time": "2023-10-24T22:09:35.916920",
     "status": "completed"
    },
    "tags": []
   },
   "source": [
    "<img src=\"img/capture_data.png\" width=\"400\" align=\"left\">"
   ]
  },
  {
   "cell_type": "code",
   "execution_count": 8,
   "id": "2bfa8050",
   "metadata": {
    "lines_to_next_cell": 2,
    "papermill": {
     "duration": 0.017308,
     "end_time": "2023-10-24T22:09:35.948238",
     "exception": false,
     "start_time": "2023-10-24T22:09:35.930930",
     "status": "completed"
    },
    "tags": []
   },
   "outputs": [
    {
     "name": "stdout",
     "output_type": "stream",
     "text": [
      "Using ILA: 9125D1429AD25223AECDD656C2856755  chipscopy_i/counters/ila_slow_counter_0\n",
      "Using VIO: 22BC7ED6C4145AAB88C58EAEDFF2B04C  chipscopy_i/counters/vio_slow_counter_0\n"
     ]
    }
   ],
   "source": [
    "# Grab the two cores we are interested in for the demonstration\n",
    "# As shown above, a counter is connected to the ILA core.\n",
    "# The VIO core controls the counter.\n",
    "\n",
    "ila = device.ila_cores.get(name=\"chipscopy_i/counters/ila_slow_counter_0\")\n",
    "vio = device.vio_cores.get(name=\"chipscopy_i/counters/vio_slow_counter_0\")\n",
    "\n",
    "print(f\"Using ILA: {ila.core_info.uuid}  {ila.name}\")\n",
    "print(f\"Using VIO: {vio.core_info.uuid}  {vio.name}\")"
   ]
  },
  {
   "cell_type": "markdown",
   "id": "e4f0dd59",
   "metadata": {
    "papermill": {
     "duration": 0.005308,
     "end_time": "2023-10-24T22:09:35.959897",
     "exception": false,
     "start_time": "2023-10-24T22:09:35.954589",
     "status": "completed"
    },
    "tags": []
   },
   "source": [
    "### 5a - Configure the counter using VIO output probes\n",
    "\n",
    "<img src=\"img/vio_control_counter.png\" width=\"300\" align=\"left\">"
   ]
  },
  {
   "cell_type": "code",
   "execution_count": 9,
   "id": "de4a797b",
   "metadata": {
    "papermill": {
     "duration": 0.014387,
     "end_time": "2023-10-24T22:09:35.979568",
     "exception": false,
     "start_time": "2023-10-24T22:09:35.965181",
     "status": "completed"
    },
    "tags": []
   },
   "outputs": [
    {
     "name": "stdout",
     "output_type": "stream",
     "text": [
      "VIO Port <---> Probe mapping:\n",
      "probe_in0 <-- chipscopy_i/counters/slow_counter_0_Q\n",
      "probe_out0 --> chipscopy_i/counters/slow_counter_0_CE\n",
      "probe_out1 --> chipscopy_i/counters/slow_counter_0_SCLR\n",
      "probe_out2 --> chipscopy_i/counters/slow_counter_0_UP\n",
      "probe_out3 --> chipscopy_i/counters/slow_counter_0_LOAD\n",
      "probe_out4 --> chipscopy_i/counters/slow_counter_0_L\n"
     ]
    }
   ],
   "source": [
    "# Print all the VIO port and probe names. This is convenient to know which probes are connected to\n",
    "# VIO ports. Also verifies probe names to pass to other functions.\n",
    "\n",
    "print(\"VIO Port <---> Probe mapping:\")\n",
    "for probe in vio.probes:\n",
    "    if probe.direction == \"in\":\n",
    "        print(f\"{probe.port_name} <-- {probe.probe_name}\")\n",
    "    else:\n",
    "        print(f\"{probe.port_name} --> {probe.probe_name}\")"
   ]
  },
  {
   "cell_type": "code",
   "execution_count": 10,
   "id": "64e000e5",
   "metadata": {
    "papermill": {
     "duration": 0.203657,
     "end_time": "2023-10-24T22:09:36.188495",
     "exception": false,
     "start_time": "2023-10-24T22:09:35.984838",
     "status": "completed"
    },
    "tags": []
   },
   "outputs": [
    {
     "name": "stdout",
     "output_type": "stream",
     "text": [
      "Counter is now free-running and counting up\n"
     ]
    }
   ],
   "source": [
    "# Set up the VIO core to enable counting up from 0\n",
    "#\n",
    "vio.reset_vio()\n",
    "vio.write_probes(\n",
    "    {\n",
    "        \"chipscopy_i/counters/slow_counter_0_SCLR\": 0,\n",
    "        \"chipscopy_i/counters/slow_counter_0_L\": 0x00000000,\n",
    "        \"chipscopy_i/counters/slow_counter_0_LOAD\": 0,\n",
    "        \"chipscopy_i/counters/slow_counter_0_UP\": 1,\n",
    "        \"chipscopy_i/counters/slow_counter_0_CE\": 1,\n",
    "    }\n",
    ")\n",
    "print(\"Counter is now free-running and counting up\")"
   ]
  },
  {
   "cell_type": "markdown",
   "id": "1e77fbd4",
   "metadata": {
    "papermill": {
     "duration": 0.005099,
     "end_time": "2023-10-24T22:09:36.199532",
     "exception": false,
     "start_time": "2023-10-24T22:09:36.194433",
     "status": "completed"
    },
    "tags": []
   },
   "source": [
    "### 5b - Capture and display free-running counter using the ILA core\n",
    "\n",
    "<img src=\"img/free_running_counter.png\" width=\"350\" align=\"left\">"
   ]
  },
  {
   "cell_type": "code",
   "execution_count": 11,
   "id": "8d00c552",
   "metadata": {
    "papermill": {
     "duration": 1.293875,
     "end_time": "2023-10-24T22:09:37.498241",
     "exception": false,
     "start_time": "2023-10-24T22:09:36.204366",
     "status": "completed"
    },
    "tags": []
   },
   "outputs": [
    {
     "name": "stdout",
     "output_type": "stream",
     "text": [
      "ILA is running - looking for trigger\n"
     ]
    }
   ],
   "source": [
    "# Trigger ILA on the free running counter. Trigger set to the first time we see 0s in low 16-bits.\n",
    "# This will show the counter is free running, and counting up\n",
    "\n",
    "ila.reset_probes()\n",
    "ila.set_probe_trigger_value(\"chipscopy_i/counters/slow_counter_0_Q_1\", [\"==\", \"0xXXXX_0000\"])\n",
    "ila.run_basic_trigger(window_count=1, window_size=32, trigger_position=16)\n",
    "print(\"ILA is running - looking for trigger\")"
   ]
  },
  {
   "cell_type": "code",
   "execution_count": 12,
   "id": "f48220fc",
   "metadata": {
    "papermill": {
     "duration": 0.211183,
     "end_time": "2023-10-24T22:09:37.754867",
     "exception": false,
     "start_time": "2023-10-24T22:09:37.543684",
     "status": "completed"
    },
    "tags": []
   },
   "outputs": [
    {
     "name": "stdout",
     "output_type": "stream",
     "text": [
      "Window:0  Window Sample:0   426508272  0x196BFFF0 \n",
      "Window:0  Window Sample:1   426508273  0x196BFFF1 \n",
      "Window:0  Window Sample:2   426508274  0x196BFFF2 \n",
      "Window:0  Window Sample:3   426508275  0x196BFFF3 \n",
      "Window:0  Window Sample:4   426508276  0x196BFFF4 \n",
      "Window:0  Window Sample:5   426508277  0x196BFFF5 \n",
      "Window:0  Window Sample:6   426508278  0x196BFFF6 \n",
      "Window:0  Window Sample:7   426508279  0x196BFFF7 \n",
      "Window:0  Window Sample:8   426508280  0x196BFFF8 \n",
      "Window:0  Window Sample:9   426508281  0x196BFFF9 \n",
      "Window:0  Window Sample:10   426508282  0x196BFFFA \n",
      "Window:0  Window Sample:11   426508283  0x196BFFFB \n",
      "Window:0  Window Sample:12   426508284  0x196BFFFC \n",
      "Window:0  Window Sample:13   426508285  0x196BFFFD \n",
      "Window:0  Window Sample:14   426508286  0x196BFFFE \n",
      "Window:0  Window Sample:15   426508287  0x196BFFFF \n",
      "Window:0  Window Sample:16   426508288  0x196C0000 <-- Trigger\n",
      "Window:0  Window Sample:17   426508289  0x196C0001 \n",
      "Window:0  Window Sample:18   426508290  0x196C0002 \n",
      "Window:0  Window Sample:19   426508291  0x196C0003 \n",
      "Window:0  Window Sample:20   426508292  0x196C0004 \n",
      "Window:0  Window Sample:21   426508293  0x196C0005 \n",
      "Window:0  Window Sample:22   426508294  0x196C0006 \n",
      "Window:0  Window Sample:23   426508295  0x196C0007 \n",
      "Window:0  Window Sample:24   426508296  0x196C0008 \n",
      "Window:0  Window Sample:25   426508297  0x196C0009 \n",
      "Window:0  Window Sample:26   426508298  0x196C000A \n",
      "Window:0  Window Sample:27   426508299  0x196C000B \n",
      "Window:0  Window Sample:28   426508300  0x196C000C \n",
      "Window:0  Window Sample:29   426508301  0x196C000D \n",
      "Window:0  Window Sample:30   426508302  0x196C000E \n",
      "Window:0  Window Sample:31   426508303  0x196C000F \n"
     ]
    }
   ],
   "source": [
    "# Wait for the ILA trigger with upload.\n",
    "# Then print the captured ILA samples and mark the trigger position.\n",
    "\n",
    "ila.wait_till_done(max_wait_minutes=0.1)\n",
    "upload_successful = ila.upload()\n",
    "if upload_successful:\n",
    "    samples = ila.waveform.get_data(\n",
    "        [\"chipscopy_i/counters/slow_counter_0_Q_1\"],\n",
    "        include_trigger=True,\n",
    "        include_sample_info=True,\n",
    "    )\n",
    "    for trigger, sample_index, window_index, window_sample_index, value in zip(*samples.values()):\n",
    "        trigger = \"<-- Trigger\" if trigger else \"\"\n",
    "        print(\n",
    "            f\"Window:{window_index}  Window Sample:{window_sample_index}  {value:10}  0x{value:08X} {trigger}\"\n",
    "        )\n",
    "else:\n",
    "    print(\"Failed to upload ILA data from core\")"
   ]
  },
  {
   "cell_type": "markdown",
   "id": "897d701b",
   "metadata": {
    "papermill": {
     "duration": 0.005875,
     "end_time": "2023-10-24T22:09:37.766947",
     "exception": false,
     "start_time": "2023-10-24T22:09:37.761072",
     "status": "completed"
    },
    "tags": []
   },
   "source": [
    "### 5c - Trigger ILA using VIO Up/Down virtual switch\n",
    "\n",
    "This step demonstrates how VIO and ILA can be combined to form powerful debug building blocks.\n",
    "\n",
    "ILA is set to trigger when UP/DOWN counter signal edge rises or falls.\n",
    "VIO drives the UP/DOWN counter control signal to 0 causing the counter to count down.\n",
    "The signal transition causes ILA to trigger and capture data.\n",
    "\n",
    "After this step,\n",
    "- VIO drives counter to count from UP to DOWN\n",
    "- ILA triggers on the UP to DOWN signal transition\n",
    "- Waveform uploaded with the up/down trigger sample in the center of captured data\n"
   ]
  },
  {
   "cell_type": "markdown",
   "id": "58fdd7e9",
   "metadata": {
    "papermill": {
     "duration": 0.005214,
     "end_time": "2023-10-24T22:09:37.777794",
     "exception": false,
     "start_time": "2023-10-24T22:09:37.772580",
     "status": "completed"
    },
    "tags": []
   },
   "source": [
    "<img src=\"img/edge_trigger.png\" width=\"550\" align=\"left\">"
   ]
  },
  {
   "cell_type": "code",
   "execution_count": 13,
   "id": "021be3c6",
   "metadata": {
    "papermill": {
     "duration": 0.221068,
     "end_time": "2023-10-24T22:09:38.004229",
     "exception": false,
     "start_time": "2023-10-24T22:09:37.783161",
     "status": "completed"
    },
    "tags": []
   },
   "outputs": [
    {
     "name": "stdout",
     "output_type": "stream",
     "text": [
      "ILA is running - looking for trigger\n"
     ]
    }
   ],
   "source": [
    "# Set ILA core to capture on a transition of the UP/DOWN toggle switch\n",
    "# Once transition happens, trigger in the middle of the buffer.\n",
    "\n",
    "ila.reset_probes()\n",
    "ila.set_probe_trigger_value(\"chipscopy_i/counters/slow_counter_0_UP_1\", [\"==\", \"B\"])\n",
    "ila.run_basic_trigger(window_count=1, window_size=32, trigger_position=16)\n",
    "\n",
    "print(\"ILA is running - looking for trigger\")"
   ]
  },
  {
   "cell_type": "code",
   "execution_count": 14,
   "id": "f09528ea",
   "metadata": {
    "papermill": {
     "duration": 0.122902,
     "end_time": "2023-10-24T22:09:38.133612",
     "exception": false,
     "start_time": "2023-10-24T22:09:38.010710",
     "status": "completed"
    },
    "tags": []
   },
   "outputs": [
    {
     "name": "stdout",
     "output_type": "stream",
     "text": [
      "VIO changed up/down counter to count down\n"
     ]
    }
   ],
   "source": [
    "# VIO: Turn counter up/down switch to DOWN position.\n",
    "# This will cause the running ILA to trigger on the transition edge from up to down.\n",
    "\n",
    "vio.write_probes({\"chipscopy_i/counters/slow_counter_0_UP\": 0})\n",
    "\n",
    "print(\"VIO changed up/down counter to count down\")"
   ]
  },
  {
   "cell_type": "code",
   "execution_count": 15,
   "id": "ee7b08c2",
   "metadata": {
    "papermill": {
     "duration": 0.252872,
     "end_time": "2023-10-24T22:09:38.393841",
     "exception": false,
     "start_time": "2023-10-24T22:09:38.140969",
     "status": "completed"
    },
    "tags": []
   },
   "outputs": [
    {
     "name": "stdout",
     "output_type": "stream",
     "text": [
      "Window:0  Window Sample:0   457649486  0x1B472D4E \n",
      "Window:0  Window Sample:1   457649487  0x1B472D4F \n",
      "Window:0  Window Sample:2   457649488  0x1B472D50 \n",
      "Window:0  Window Sample:3   457649489  0x1B472D51 \n",
      "Window:0  Window Sample:4   457649490  0x1B472D52 \n",
      "Window:0  Window Sample:5   457649491  0x1B472D53 \n",
      "Window:0  Window Sample:6   457649492  0x1B472D54 \n",
      "Window:0  Window Sample:7   457649493  0x1B472D55 \n",
      "Window:0  Window Sample:8   457649494  0x1B472D56 \n",
      "Window:0  Window Sample:9   457649495  0x1B472D57 \n",
      "Window:0  Window Sample:10   457649496  0x1B472D58 \n",
      "Window:0  Window Sample:11   457649497  0x1B472D59 \n",
      "Window:0  Window Sample:12   457649498  0x1B472D5A \n",
      "Window:0  Window Sample:13   457649499  0x1B472D5B \n",
      "Window:0  Window Sample:14   457649500  0x1B472D5C \n",
      "Window:0  Window Sample:15   457649501  0x1B472D5D \n",
      "Window:0  Window Sample:16   457649502  0x1B472D5E <-- Trigger\n",
      "Window:0  Window Sample:17   457649501  0x1B472D5D \n",
      "Window:0  Window Sample:18   457649500  0x1B472D5C \n",
      "Window:0  Window Sample:19   457649499  0x1B472D5B \n",
      "Window:0  Window Sample:20   457649498  0x1B472D5A \n",
      "Window:0  Window Sample:21   457649497  0x1B472D59 \n",
      "Window:0  Window Sample:22   457649496  0x1B472D58 \n",
      "Window:0  Window Sample:23   457649495  0x1B472D57 \n",
      "Window:0  Window Sample:24   457649494  0x1B472D56 \n",
      "Window:0  Window Sample:25   457649493  0x1B472D55 \n",
      "Window:0  Window Sample:26   457649492  0x1B472D54 \n",
      "Window:0  Window Sample:27   457649491  0x1B472D53 \n",
      "Window:0  Window Sample:28   457649490  0x1B472D52 \n",
      "Window:0  Window Sample:29   457649489  0x1B472D51 \n",
      "Window:0  Window Sample:30   457649488  0x1B472D50 \n",
      "Window:0  Window Sample:31   457649487  0x1B472D4F \n"
     ]
    }
   ],
   "source": [
    "# Print the captured ILA samples and mark the trigger position.\n",
    "# Note that counter counts down after the trigger mark.\n",
    "\n",
    "ila.wait_till_done(max_wait_minutes=0.1)\n",
    "upload_successful = ila.upload()\n",
    "if upload_successful:\n",
    "    samples = ila.waveform.get_data(\n",
    "        [\"chipscopy_i/counters/slow_counter_0_Q_1\"],\n",
    "        include_trigger=True,\n",
    "        include_sample_info=True,\n",
    "    )\n",
    "    for trigger, sample_index, window_index, window_sample_index, value in zip(*samples.values()):\n",
    "        trigger = \"<-- Trigger\" if trigger else \"\"\n",
    "        print(\n",
    "            f\"Window:{window_index}  Window Sample:{window_sample_index}  {value:10}  0x{value:08X} {trigger}\"\n",
    "        )\n",
    "else:\n",
    "    print(\"Failed to upload ILA data from core\")"
   ]
  },
  {
   "cell_type": "markdown",
   "id": "f61d21e8",
   "metadata": {
    "papermill": {
     "duration": 0.006544,
     "end_time": "2023-10-24T22:09:38.407061",
     "exception": false,
     "start_time": "2023-10-24T22:09:38.400517",
     "status": "completed"
    },
    "tags": []
   },
   "source": [
    "## 6 - Waveform Export - VCD (or CSV)\n",
    "\n",
    " Demonstrate how to export waveform data to a VCD file for visualizing waveform in other tools.\n",
    "\n",
    " Export includes complete waveform with probe, _TRIGGER, and _WINDOW.\n",
    "\n",
    " - For CSV export, substitute \"CSV\" for \"VCD\" argument.\n",
    " - To export to a file, substitute the filename for 'sys.stdout'"
   ]
  },
  {
   "cell_type": "code",
   "execution_count": 16,
   "id": "d90ab86c",
   "metadata": {
    "papermill": {
     "duration": 0.017081,
     "end_time": "2023-10-24T22:09:38.431554",
     "exception": false,
     "start_time": "2023-10-24T22:09:38.414473",
     "status": "completed"
    },
    "tags": []
   },
   "outputs": [
    {
     "name": "stdout",
     "output_type": "stream",
     "text": [
      "$date\n",
      "        2024-11-08 15:20:34\n",
      "$end\n",
      "$version\n",
      "        ChipScoPy Version 2024.2.1730929359\n",
      "$end\n",
      "$timescale\n",
      "        1ps\n",
      "$end\n",
      "$scope module dut $end\n",
      "$var reg 1 $ chipscopy_i/counters/slow_counter_0_CE_1  $end\n",
      "$var reg 1 % chipscopy_i/counters/slow_counter_0_SCLR_1  $end\n",
      "$var reg 1 & chipscopy_i/counters/slow_counter_0_UP_1  $end\n",
      "$var reg 1 ' chipscopy_i/counters/slow_counter_0_LOAD_1  $end\n",
      "$var reg 32 ( chipscopy_i/counters/slow_counter_0_L_1 [31:0] $end\n",
      "$var reg 32 ) chipscopy_i/counters/slow_counter_0_Q_1 [31:0] $end\n",
      "$var reg 1 * chipscopy_i/counters/ila_slow_counter_0_TRIG_OUT_trig  $end\n",
      "$var reg 1 + chipscopy_i/counters/ila_fast_counter_0_TRIG_IN_ack  $end\n",
      "$var reg 1 , chipscopy_i/counters/ila_fast_counter_0_TRIG_OUT_trig  $end\n",
      "$var reg 1 - chipscopy_i/counters/ila_slow_counter_0_TRIG_IN_ack  $end\n",
      "$var reg 16 . chipscopy_i/counters/slow_sine_Dout [15:0] $end\n",
      "$var reg 16 / chipscopy_i/counters/slow_cosine_Dout [15:0] $end\n",
      "$var reg 1 0 chipscopy_i/counters/locked  $end\n",
      "$var reg 1 ! _TRIGGER $end\n",
      "$var reg 1 \" _WINDOW $end\n",
      "$upscope $end\n",
      "$enddefinitions $end\n",
      "#0\n",
      "0!\n",
      "0\"\n",
      "1$\n",
      "0%\n",
      "1&\n",
      "0'\n",
      "b0 (\n",
      "b11011010001110010110101001110 )\n",
      "0*\n",
      "0+\n",
      "0,\n",
      "0-\n",
      "b111001001010011 .\n",
      "b1100011001110100 /\n",
      "10\n",
      "#1\n",
      "b11011010001110010110101001111 )\n",
      "b111000111111000 .\n",
      "b1100010111000001 /\n",
      "#2\n",
      "b11011010001110010110101010000 )\n",
      "b111000110011100 .\n",
      "b1100010100001110 /\n",
      "#3\n",
      "b11011010001110010110101010001 )\n",
      "b111000100111111 .\n",
      "b1100010001011100 /\n",
      "#4\n",
      "b11011010001110010110101010010 )\n",
      "b111000011100001 .\n",
      "b1100001110101010 /\n",
      "#5\n",
      "b11011010001110010110101010011 )\n",
      "b111000010000010 .\n",
      "b1100001011111001 /\n",
      "#6\n",
      "b11011010001110010110101010100 )\n",
      "b111000000100001 .\n",
      "b1100001001001001 /\n",
      "#7\n",
      "b11011010001110010110101010101 )\n",
      "b110111111000000 .\n",
      "b1100000110011001 /\n",
      "#8\n",
      "b11011010001110010110101010110 )\n",
      "b110111101011101 .\n",
      "b1100000011101010 /\n",
      "#9\n",
      "b11011010001110010110101010111 )\n",
      "b110111011111010 .\n",
      "b1100000000111011 /\n",
      "#10\n",
      "b11011010001110010110101011000 )\n",
      "b110111010010101 .\n",
      "b1011111110001101 /\n",
      "#11\n",
      "b11011010001110010110101011001 )\n",
      "b110111000101111 .\n",
      "b1011111011100000 /\n",
      "#12\n",
      "b11011010001110010110101011010 )\n",
      "b110110111001000 .\n",
      "b1011111000110011 /\n",
      "#13\n",
      "b11011010001110010110101011011 )\n",
      "b110110101100000 .\n",
      "b1011110110000111 /\n",
      "#14\n",
      "b11011010001110010110101011100 )\n",
      "b110110011111000 .\n",
      "b1011110011011011 /\n",
      "#15\n",
      "b11011010001110010110101011101 )\n",
      "b110110010001110 .\n",
      "b1011110000110000 /\n",
      "#16\n",
      "1!\n",
      "0&\n",
      "b11011010001110010110101011110 )\n",
      "b110110000100010 .\n",
      "b1011101110000110 /\n",
      "#17\n",
      "0!\n",
      "b11011010001110010110101011101 )\n",
      "b110101110110110 .\n",
      "b1011101011011101 /\n",
      "#18\n",
      "b11011010001110010110101011100 )\n",
      "b110101101001001 .\n",
      "b1011101000110100 /\n",
      "#19\n",
      "b11011010001110010110101011011 )\n",
      "b110101110110110 .\n",
      "b1011101011011101 /\n",
      "#20\n",
      "b11011010001110010110101011010 )\n",
      "b110110000100010 .\n",
      "b1011101110000110 /\n",
      "#21\n",
      "b11011010001110010110101011001 )\n",
      "b110110010001110 .\n",
      "b1011110000110000 /\n",
      "#22\n",
      "b11011010001110010110101011000 )\n",
      "b110110011111000 .\n",
      "b1011110011011011 /\n",
      "#23\n",
      "b11011010001110010110101010111 )\n",
      "b110110101100000 .\n",
      "b1011110110000111 /\n",
      "#24\n",
      "b11011010001110010110101010110 )\n",
      "b110110111001000 .\n",
      "b1011111000110011 /\n",
      "#25\n",
      "b11011010001110010110101010101 )\n",
      "b110111000101111 .\n",
      "b1011111011100000 /\n",
      "#26\n",
      "b11011010001110010110101010100 )\n",
      "b110111010010101 .\n",
      "b1011111110001101 /\n",
      "#27\n",
      "b11011010001110010110101010011 )\n",
      "b110111011111010 .\n",
      "b1100000000111011 /\n",
      "#28\n",
      "b11011010001110010110101010010 )\n",
      "b110111101011101 .\n",
      "b1100000011101010 /\n",
      "#29\n",
      "b11011010001110010110101010001 )\n",
      "b110111111000000 .\n",
      "b1100000110011001 /\n",
      "#30\n",
      "b11011010001110010110101010000 )\n",
      "b111000000100001 .\n",
      "b1100001001001001 /\n",
      "#31\n",
      "b11011010001110010110101001111 )\n",
      "b111000010000010 .\n",
      "b1100001011111001 /\n"
     ]
    }
   ],
   "source": [
    "if upload_successful:\n",
    "    ila.waveform.export_waveform(\"VCD\", sys.stdout)"
   ]
  },
  {
   "cell_type": "code",
   "execution_count": 17,
   "id": "8463f053",
   "metadata": {
    "papermill": {
     "duration": 0.005501,
     "end_time": "2023-10-24T22:09:38.442559",
     "exception": false,
     "start_time": "2023-10-24T22:09:38.437058",
     "status": "completed"
    },
    "tags": []
   },
   "outputs": [],
   "source": [
    "## When done with testing, close the connection\n",
    "delete_session(session)"
   ]
  }
 ],
 "metadata": {
  "jupytext": {
   "cell_metadata_filter": "-all",
   "main_language": "python",
   "notebook_metadata_filter": "-all"
  },
  "kernelspec": {
   "display_name": "venv",
   "language": "python",
   "name": "python3"
  },
  "language_info": {
   "codemirror_mode": {
    "name": "ipython",
    "version": 3
   },
   "file_extension": ".py",
   "mimetype": "text/x-python",
   "name": "python",
   "nbconvert_exporter": "python",
   "pygments_lexer": "ipython3",
   "version": "3.11.9"
  },
  "papermill": {
   "default_parameters": {},
   "duration": 18.059182,
   "end_time": "2023-10-24T22:09:38.967180",
   "environment_variables": {},
   "exception": null,
   "input_path": "./chipscopy-examples/ila_and_vio/ila_and_vio.ipynb",
   "output_path": "./chipscopy-examples/ila_and_vio/ila_and_vio.ipynb",
   "parameters": {},
   "start_time": "2023-10-24T22:09:20.907998",
   "version": "2.4.0"
  },
  "widgets": {
   "application/vnd.jupyter.widget-state+json": {
    "state": {
     "267a7e0e06ca4d67950319967cb02ad7": {
      "model_module": "@jupyter-widgets/base",
      "model_module_version": "2.0.0",
      "model_name": "LayoutModel",
      "state": {
       "_model_module": "@jupyter-widgets/base",
       "_model_module_version": "2.0.0",
       "_model_name": "LayoutModel",
       "_view_count": null,
       "_view_module": "@jupyter-widgets/base",
       "_view_module_version": "2.0.0",
       "_view_name": "LayoutView",
       "align_content": null,
       "align_items": null,
       "align_self": null,
       "border_bottom": null,
       "border_left": null,
       "border_right": null,
       "border_top": null,
       "bottom": null,
       "display": null,
       "flex": null,
       "flex_flow": null,
       "grid_area": null,
       "grid_auto_columns": null,
       "grid_auto_flow": null,
       "grid_auto_rows": null,
       "grid_column": null,
       "grid_gap": null,
       "grid_row": null,
       "grid_template_areas": null,
       "grid_template_columns": null,
       "grid_template_rows": null,
       "height": null,
       "justify_content": null,
       "justify_items": null,
       "left": null,
       "margin": null,
       "max_height": null,
       "max_width": null,
       "min_height": null,
       "min_width": null,
       "object_fit": null,
       "object_position": null,
       "order": null,
       "overflow": null,
       "padding": null,
       "right": null,
       "top": null,
       "visibility": null,
       "width": null
      }
     },
     "6016721f98a3456dae7d6abb555f6109": {
      "model_module": "@jupyter-widgets/output",
      "model_module_version": "1.0.0",
      "model_name": "OutputModel",
      "state": {
       "_dom_classes": [],
       "_model_module": "@jupyter-widgets/output",
       "_model_module_version": "1.0.0",
       "_model_name": "OutputModel",
       "_view_count": null,
       "_view_module": "@jupyter-widgets/output",
       "_view_module_version": "1.0.0",
       "_view_name": "OutputView",
       "layout": "IPY_MODEL_267a7e0e06ca4d67950319967cb02ad7",
       "msg_id": "",
       "outputs": [
        {
         "data": {
          "text/html": "<pre style=\"white-space:pre;overflow-x:auto;line-height:normal;font-family:Menlo,'DejaVu Sans Mono',consolas,'Courier New',monospace\">Device program progress <span style=\"color: #729c1f; text-decoration-color: #729c1f\">━━━━━━━━━━━━━━━━━━━━━━━━━━━━━━━━━━━━━━━━</span> <span style=\"color: #ff00ff; text-decoration-color: #ff00ff; font-weight: bold\">100%</span> <span style=\"color: #008000; text-decoration-color: #008000; font-weight: bold\">Done</span>\n</pre>\n",
          "text/plain": "Device program progress \u001b[38;2;114;156;31m━━━━━━━━━━━━━━━━━━━━━━━━━━━━━━━━━━━━━━━━\u001b[0m \u001b[1;95m100%\u001b[0m \u001b[1;32mDone\u001b[0m\n"
         },
         "metadata": {},
         "output_type": "display_data"
        }
       ],
       "tabbable": null,
       "tooltip": null
      }
     }
    },
    "version_major": 2,
    "version_minor": 0
   }
  }
 },
 "nbformat": 4,
 "nbformat_minor": 5
}
