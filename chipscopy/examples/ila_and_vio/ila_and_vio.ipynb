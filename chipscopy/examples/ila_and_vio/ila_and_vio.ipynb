{
 "cells": [
  {
   "cell_type": "markdown",
   "id": "automatic-budget",
   "metadata": {
    "papermill": {
     "duration": 0.00535,
     "end_time": "2023-06-07T20:54:46.179017",
     "exception": false,
     "start_time": "2023-06-07T20:54:46.173667",
     "status": "completed"
    },
    "tags": []
   },
   "source": [
    "<link rel=\"preconnect\" href=\"https://fonts.gstatic.com\">\n",
    "<link href=\"https://fonts.googleapis.com/css2?family=Fira+Code&display=swap\" rel=\"stylesheet\">\n",
    "\n",
    "### License\n",
    "\n",
    "<p style=\"font-family: 'Fira Code', monospace; font-size: 1.2rem\">\n",
    "Copyright (c) 2021-2022 Xilinx, Inc.<br>\n",
    "Copyright (c) 2022-2023 Advanced Micro Devices, Inc.<br><br>\n",
    "Licensed under the Apache License, Version 2.0 (the \"License\");<br>\n",
    "you may not use this file except in compliance with the License.<br><br>\n",
    "You may obtain a copy of the License at <a href=\"http://www.apache.org/licenses/LICENSE-2.0\"?>http://www.apache.org/licenses/LICENSE-2.0</a><br><br>\n",
    "Unless required by applicable law or agreed to in writing, software<br>\n",
    "distributed under the License is distributed on an \"AS IS\" BASIS,<br>\n",
    "WITHOUT WARRANTIES OR CONDITIONS OF ANY KIND, either express or implied.<br>\n",
    "See the License for the specific language governing permissions and<br>\n",
    "limitations under the License.<br>\n",
    "</p>\n"
   ]
  },
  {
   "cell_type": "markdown",
   "id": "maritime-shock",
   "metadata": {
    "papermill": {
     "duration": 0.004055,
     "end_time": "2023-06-07T20:54:46.187524",
     "exception": false,
     "start_time": "2023-06-07T20:54:46.183469",
     "status": "completed"
    },
    "tags": []
   },
   "source": [
    "# ChipScoPy ILA and VIO Example\n",
    "\n",
    "\n",
    "<img src=\"../img/api_overview.png\" width=\"500\" align=\"left\">"
   ]
  },
  {
   "cell_type": "markdown",
   "id": "solid-rebel",
   "metadata": {
    "papermill": {
     "duration": 0.004066,
     "end_time": "2023-06-07T20:54:46.195659",
     "exception": false,
     "start_time": "2023-06-07T20:54:46.191593",
     "status": "completed"
    },
    "tags": []
   },
   "source": [
    "## Description\n",
    "This example demonstrates how to program and communicate with ILA (Integrated Logic Analyzer) and\n",
    "VIO (Virtual IO) cores using the ChipScoPy Python API.\n",
    "\n",
    "\n",
    "## Requirements\n",
    "- Local or remote Xilinx Versal board, such as a VCK190\n",
    "- Xilinx hw_server 2022.2 installed and running\n",
    "- Xilinx cs_server 2022.2 installed and running\n",
    "- Python 3.8 or greater installed\n",
    "- ChipScoPy 2022.2 installed\n",
    "- Jupyter notebook support installed - Please do so, using the command `pip install chipscopy[jupyter]`"
   ]
  },
  {
   "cell_type": "markdown",
   "id": "noted-characterization",
   "metadata": {
    "papermill": {
     "duration": 0.004193,
     "end_time": "2023-06-07T20:54:46.203866",
     "exception": false,
     "start_time": "2023-06-07T20:54:46.199673",
     "status": "completed"
    },
    "tags": []
   },
   "source": [
    "## 1 - Initialization: Imports and File Paths\n",
    "\n",
    "After this step,\n",
    "- Required functions and classes are imported\n",
    "- URL paths are set correctly\n",
    "- File paths to example files are set correctly"
   ]
  },
  {
   "cell_type": "code",
   "execution_count": 1,
   "id": "amino-plaintiff",
   "metadata": {
    "execution": {
     "iopub.execute_input": "2023-06-07T20:54:46.219769Z",
     "iopub.status.busy": "2023-06-07T20:54:46.219412Z",
     "iopub.status.idle": "2023-06-07T20:54:46.557095Z",
     "shell.execute_reply": "2023-06-07T20:54:46.557504Z"
    },
    "papermill": {
     "duration": 0.349814,
     "end_time": "2023-06-07T20:54:46.557702",
     "exception": false,
     "start_time": "2023-06-07T20:54:46.207888",
     "status": "completed"
    },
    "tags": []
   },
   "outputs": [],
   "source": [
    "import sys\n",
    "import os\n",
    "from chipscopy import get_design_files\n",
    "from chipscopy import create_session, report_versions"
   ]
  },
  {
   "cell_type": "code",
   "execution_count": 2,
   "id": "indonesian-relations",
   "metadata": {
    "execution": {
     "iopub.execute_input": "2023-06-07T20:54:46.571323Z",
     "iopub.status.busy": "2023-06-07T20:54:46.570671Z",
     "iopub.status.idle": "2023-06-07T20:54:46.574763Z",
     "shell.execute_reply": "2023-06-07T20:54:46.575038Z"
    },
    "lines_to_next_cell": 2,
    "papermill": {
     "duration": 0.012132,
     "end_time": "2023-06-07T20:54:46.575121",
     "exception": false,
     "start_time": "2023-06-07T20:54:46.562989",
     "status": "completed"
    },
    "tags": []
   },
   "outputs": [
    {
     "name": "stdout",
     "output_type": "stream",
     "text": [
      "HW_URL: TCP:localhost:3121\n",
      "CS_URL: TCP:localhost:3042\n",
      "PROGRAMMING_FILE: /scratch/chipscopy/chipscopy/examples/designs/vck190/production/chipscopy_ced/chipscopy_wrapper.pdi\n",
      "PROBES_FILE:/scratch/chipscopy/chipscopy/examples/designs/vck190/production/chipscopy_ced/chipscopy_wrapper.ltx\n"
     ]
    }
   ],
   "source": [
    "# Make sure to start the hw_server and cs_server prior to running.\n",
    "# Specify locations of the running hw_server and cs_server below.\n",
    "# The default is localhost - but can be other locations on the network.\n",
    "CS_URL = os.getenv(\"CS_SERVER_URL\", \"TCP:localhost:3042\")\n",
    "HW_URL = os.getenv(\"HW_SERVER_URL\", \"TCP:localhost:3121\")\n",
    "\n",
    "# The get_design_files() function tries to find the PDI and LTX files. In non-standard\n",
    "# configurations, you can put the path for PROGRAMMING_FILE and PROBES_FILE below.\n",
    "design_files = get_design_files(\"vck190/production/chipscopy_ced\")\n",
    "\n",
    "PROGRAMMING_FILE = design_files.programming_file\n",
    "PROBES_FILE = design_files.probes_file\n",
    "\n",
    "print(f\"HW_URL: {HW_URL}\")\n",
    "print(f\"CS_URL: {CS_URL}\")\n",
    "print(f\"PROGRAMMING_FILE: {PROGRAMMING_FILE}\")\n",
    "print(f\"PROBES_FILE:{PROBES_FILE}\")"
   ]
  },
  {
   "cell_type": "markdown",
   "id": "norwegian-wagner",
   "metadata": {
    "papermill": {
     "duration": 0.004275,
     "end_time": "2023-06-07T20:54:46.583971",
     "exception": false,
     "start_time": "2023-06-07T20:54:46.579696",
     "status": "completed"
    },
    "tags": []
   },
   "source": [
    "## 2 - Create a session and connect to the hw_server and cs_server\n",
    "\n",
    "The session is a container that keeps track of devices and debug cores.\n",
    "After this step,\n",
    "- Session is initialized and connected to server(s)\n",
    "- Versions are detected and reported to stdout"
   ]
  },
  {
   "cell_type": "code",
   "execution_count": 3,
   "id": "front-conflict",
   "metadata": {
    "execution": {
     "iopub.execute_input": "2023-06-07T20:54:46.596209Z",
     "iopub.status.busy": "2023-06-07T20:54:46.595780Z",
     "iopub.status.idle": "2023-06-07T20:54:47.544805Z",
     "shell.execute_reply": "2023-06-07T20:54:47.544424Z"
    },
    "papermill": {
     "duration": 0.95652,
     "end_time": "2023-06-07T20:54:47.544905",
     "exception": false,
     "start_time": "2023-06-07T20:54:46.588385",
     "status": "completed"
    },
    "tags": []
   },
   "outputs": [
    {
     "data": {
      "text/html": [
       "<pre style=\"white-space:pre;overflow-x:auto;line-height:normal;font-family:Menlo,'DejaVu Sans Mono',consolas,'Courier New',monospace\">\n",
       "\n",
       "</pre>\n"
      ],
      "text/plain": [
       "<rich.jupyter.JupyterRenderable at 0x7f3b15224940>"
      ]
     },
     "metadata": {},
     "output_type": "display_data"
    },
    {
     "data": {
      "text/html": [
       "<pre style=\"white-space:pre;overflow-x:auto;line-height:normal;font-family:Menlo,'DejaVu Sans Mono',consolas,'Courier New',monospace\"><span style=\"font-style: italic\">                      ChipScoPy Version Information                      </span>\n",
       "┌────────────────────────────┬──────────────────────────────────────────┐\n",
       "│<span style=\"font-weight: bold\">                     Entity </span>│<span style=\"font-weight: bold\"> Version                                  </span>│\n",
       "├────────────────────────────┼──────────────────────────────────────────┤\n",
       "│                  ChipScoPy │ ┌───────────┬──────────────────────┐     │\n",
       "│                            │ │<span style=\"font-weight: bold\"> Attribute </span>│<span style=\"font-weight: bold\"> Value                </span>│     │\n",
       "│                            │ ├───────────┼──────────────────────┤     │\n",
       "│                            │ │     Build │ 2023.1.1685656083    │     │\n",
       "│                            │ │ Timestamp │ Jun 01 2023-15:48:03 │     │\n",
       "│                            │ └───────────┴──────────────────────┘     │\n",
       "│                            │                                          │\n",
       "│ hw_server @ localhost:3121 │ ┌───────────┬──────────────────────────┐ │\n",
       "│                            │ │<span style=\"font-weight: bold\"> Attribute </span>│<span style=\"font-weight: bold\"> Value                    </span>│ │\n",
       "│                            │ ├───────────┼──────────────────────────┤ │\n",
       "│                            │ │    Status │ Connected                │ │\n",
       "│                            │ │     Build │ 1683493450               │ │\n",
       "│                            │ │   Version │ 2023.1                   │ │\n",
       "│                            │ │ Timestamp │ Sun May  7 15:04:10 2023 │ │\n",
       "│                            │ └───────────┴──────────────────────────┘ │\n",
       "│                            │                                          │\n",
       "│ cs_server @ localhost:3042 │ ┌───────────────┬──────────────────────┐ │\n",
       "│                            │ │<span style=\"font-weight: bold\">     Attribute </span>│<span style=\"font-weight: bold\"> Value                </span>│ │\n",
       "│                            │ ├───────────────┼──────────────────────┤ │\n",
       "│                            │ │        Status │ Connected            │ │\n",
       "│                            │ │         Build │ 1681142364           │ │\n",
       "│                            │ │       Version │ 2023.1.0             │ │\n",
       "│                            │ │     Timestamp │ Apr 10 2023-09:59:24 │ │\n",
       "│                            │ │       Package │ 2023.1.1681142364    │ │\n",
       "│                            │ │ Artifact type │ pyinstaller          │ │\n",
       "│                            │ └───────────────┴──────────────────────┘ │\n",
       "└────────────────────────────┴──────────────────────────────────────────┘\n",
       "</pre>\n"
      ],
      "text/plain": [
       "<rich.jupyter.JupyterRenderable at 0x7f3b15224940>"
      ]
     },
     "metadata": {},
     "output_type": "display_data"
    },
    {
     "data": {
      "text/html": [
       "<pre style=\"white-space:pre;overflow-x:auto;line-height:normal;font-family:Menlo,'DejaVu Sans Mono',consolas,'Courier New',monospace\">\n",
       "\n",
       "</pre>\n"
      ],
      "text/plain": [
       "<rich.jupyter.JupyterRenderable at 0x7f3b15243c40>"
      ]
     },
     "metadata": {},
     "output_type": "display_data"
    }
   ],
   "source": [
    "session = create_session(cs_server_url=CS_URL, hw_server_url=HW_URL)\n",
    "report_versions(session)"
   ]
  },
  {
   "cell_type": "markdown",
   "id": "after-region",
   "metadata": {
    "papermill": {
     "duration": 0.005993,
     "end_time": "2023-06-07T20:54:47.556086",
     "exception": false,
     "start_time": "2023-06-07T20:54:47.550093",
     "status": "completed"
    },
    "tags": []
   },
   "source": [
    "## 3 - Program the device with the example design\n",
    "\n",
    "After this step,\n",
    "- Device is programmed with the example programming file"
   ]
  },
  {
   "cell_type": "code",
   "execution_count": 4,
   "id": "chemical-hands",
   "metadata": {
    "execution": {
     "iopub.execute_input": "2023-06-07T20:54:47.571651Z",
     "iopub.status.busy": "2023-06-07T20:54:47.571277Z",
     "iopub.status.idle": "2023-06-07T20:54:53.125873Z",
     "shell.execute_reply": "2023-06-07T20:54:53.125549Z"
    },
    "lines_to_next_cell": 2,
    "papermill": {
     "duration": 5.564914,
     "end_time": "2023-06-07T20:54:53.126004",
     "exception": false,
     "start_time": "2023-06-07T20:54:47.561090",
     "status": "completed"
    },
    "tags": []
   },
   "outputs": [
    {
     "data": {
      "text/html": [
       "<pre style=\"white-space:pre;overflow-x:auto;line-height:normal;font-family:Menlo,'DejaVu Sans Mono',consolas,'Courier New',monospace\">\n",
       "<span style=\"font-weight: bold\">--&gt; INFO: </span>Programming device with: /scratch/chipscopy/chipscopy/examples/designs/vck190/produ\n",
       "ction/chipscopy_ced/chipscopy_wrapper.pdi\n",
       "    \n",
       "</pre>\n"
      ],
      "text/plain": [
       "<rich.jupyter.JupyterRenderable at 0x7f3b15224040>"
      ]
     },
     "metadata": {},
     "output_type": "display_data"
    },
    {
     "data": {
      "application/vnd.jupyter.widget-view+json": {
       "model_id": "2dcb807cde1c4e3fbd4857abb23e0d8f",
       "version_major": 2,
       "version_minor": 0
      },
      "text/plain": [
       "Output()"
      ]
     },
     "metadata": {},
     "output_type": "display_data"
    }
   ],
   "source": [
    "# Typical case - one device on the board - get it.\n",
    "device = session.devices.filter_by(family=\"versal\").get()\n",
    "device.program(PROGRAMMING_FILE)"
   ]
  },
  {
   "cell_type": "markdown",
   "id": "mineral-antarctica",
   "metadata": {
    "papermill": {
     "duration": 0.005457,
     "end_time": "2023-06-07T20:54:53.138160",
     "exception": false,
     "start_time": "2023-06-07T20:54:53.132703",
     "status": "completed"
    },
    "tags": []
   },
   "source": [
    "## 4 - Discover Debug Cores\n",
    "\n",
    "Debug core discovery initializes the chipscope server debug cores. This brings debug cores in the chipscope server online.\n",
    "\n",
    "After this step,\n",
    "\n",
    "- The cs_server is initialized and ready for use\n",
    "- ILA and VIO core instances in the device are reported"
   ]
  },
  {
   "cell_type": "code",
   "execution_count": 5,
   "id": "sapphire-constraint",
   "metadata": {
    "execution": {
     "iopub.execute_input": "2023-06-07T20:54:53.551576Z",
     "iopub.status.busy": "2023-06-07T20:54:53.551206Z",
     "iopub.status.idle": "2023-06-07T20:54:53.664369Z",
     "shell.execute_reply": "2023-06-07T20:54:53.663953Z"
    },
    "papermill": {
     "duration": 0.521026,
     "end_time": "2023-06-07T20:54:53.664481",
     "exception": false,
     "start_time": "2023-06-07T20:54:53.143455",
     "status": "completed"
    },
    "tags": []
   },
   "outputs": [
    {
     "name": "stdout",
     "output_type": "stream",
     "text": [
      "Debug cores setup and ready for use.\n"
     ]
    }
   ],
   "source": [
    "device.discover_and_setup_cores(ltx_file=PROBES_FILE)\n",
    "print(f\"Debug cores setup and ready for use.\")"
   ]
  },
  {
   "cell_type": "code",
   "execution_count": 6,
   "id": "careful-wagon",
   "metadata": {
    "execution": {
     "iopub.execute_input": "2023-06-07T20:54:53.680099Z",
     "iopub.status.busy": "2023-06-07T20:54:53.679740Z",
     "iopub.status.idle": "2023-06-07T20:54:56.206304Z",
     "shell.execute_reply": "2023-06-07T20:54:56.205976Z"
    },
    "papermill": {
     "duration": 2.536054,
     "end_time": "2023-06-07T20:54:56.206412",
     "exception": false,
     "start_time": "2023-06-07T20:54:53.670358",
     "status": "completed"
    },
    "tags": []
   },
   "outputs": [
    {
     "name": "stdout",
     "output_type": "stream",
     "text": [
      "0 - D62FB110F1A25D439EB15D9149F450CE   chipscopy_i/counters/ila_fast_counter_0\n",
      "1 - 9125D1429AD25223AECDD656C2856755   chipscopy_i/counters/ila_slow_counter_0\n",
      "2 - C53C0D3572B655B6A8A13A86686D262D   chipscopy_i/noc_tg_bc/noc_bc_axis_ila_0\n"
     ]
    }
   ],
   "source": [
    "# Print out the ILA core instance UUIDs and instance names\n",
    "ila_cores = device.ila_cores\n",
    "for index, ila_core in enumerate(ila_cores):\n",
    "    print(f\"{index} - {ila_core.core_info.uuid}   {ila_core.name}\")"
   ]
  },
  {
   "cell_type": "code",
   "execution_count": 7,
   "id": "falling-gamma",
   "metadata": {
    "execution": {
     "iopub.execute_input": "2023-06-07T20:54:56.220908Z",
     "iopub.status.busy": "2023-06-07T20:54:56.220498Z",
     "iopub.status.idle": "2023-06-07T20:54:57.784850Z",
     "shell.execute_reply": "2023-06-07T20:54:57.784479Z"
    },
    "lines_to_next_cell": 2,
    "papermill": {
     "duration": 1.572595,
     "end_time": "2023-06-07T20:54:57.784947",
     "exception": false,
     "start_time": "2023-06-07T20:54:56.212352",
     "status": "completed"
    },
    "tags": []
   },
   "outputs": [
    {
     "name": "stdout",
     "output_type": "stream",
     "text": [
      "0 - 718A03DBCD265D969EA5C15840AEFD17   chipscopy_i/counters/vio_fast_counter_0\n",
      "1 - 22BC7ED6C4145AAB88C58EAEDFF2B04C   chipscopy_i/counters/vio_slow_counter_0\n",
      "2 - 021098F58FE659EFAD76657E635E53FE   chipscopy_i/noc_tg_bc/axis_vio_0\n",
      "3 - 0E76DEFA789D564080CFA5332A88DB12   chipscopy_i/noc_tg_bc/noc_tg/inst/u_top_axi_mst/u_tg_top/gen_aximm_reg_space.u_reg_space/gen_vio_status_monitor.u_vio_status_monitor\n"
     ]
    }
   ],
   "source": [
    "# Print out the VIO core instance UUIDs and instance names\n",
    "vio_cores = device.vio_cores\n",
    "for index, vio_core in enumerate(vio_cores):\n",
    "    print(f\"{index} - {vio_core.core_info.uuid}   {vio_core.name}\")"
   ]
  },
  {
   "cell_type": "markdown",
   "id": "political-institute",
   "metadata": {
    "papermill": {
     "duration": 0.005042,
     "end_time": "2023-06-07T20:54:57.795566",
     "exception": false,
     "start_time": "2023-06-07T20:54:57.790524",
     "status": "completed"
    },
    "tags": []
   },
   "source": [
    "## 5 - VIO Control and ILA Capture\n",
    "\n",
    "ILA and VIO are two important building blocks for debugging applications in hardware.\n",
    "This example design design shows how to control IP using a VIO core and capture results with ILA.\n",
    "\n",
    "In this Design,\n",
    "- A VIO core controls the counter (reset, up/down, ce, load)\n",
    "- An ILA core captures the counter values\n"
   ]
  },
  {
   "cell_type": "markdown",
   "id": "outside-cause",
   "metadata": {
    "papermill": {
     "duration": 0.004875,
     "end_time": "2023-06-07T20:54:57.805181",
     "exception": false,
     "start_time": "2023-06-07T20:54:57.800306",
     "status": "completed"
    },
    "tags": []
   },
   "source": [
    "<img src=\"img/capture_data.png\" width=\"400\" align=\"left\">"
   ]
  },
  {
   "cell_type": "code",
   "execution_count": 8,
   "id": "killing-carbon",
   "metadata": {
    "execution": {
     "iopub.execute_input": "2023-06-07T20:54:57.820711Z",
     "iopub.status.busy": "2023-06-07T20:54:57.820359Z",
     "iopub.status.idle": "2023-06-07T20:54:57.822681Z",
     "shell.execute_reply": "2023-06-07T20:54:57.822332Z"
    },
    "lines_to_next_cell": 2,
    "papermill": {
     "duration": 0.012779,
     "end_time": "2023-06-07T20:54:57.822752",
     "exception": false,
     "start_time": "2023-06-07T20:54:57.809973",
     "status": "completed"
    },
    "tags": []
   },
   "outputs": [
    {
     "name": "stdout",
     "output_type": "stream",
     "text": [
      "Using ILA: 9125D1429AD25223AECDD656C2856755  chipscopy_i/counters/ila_slow_counter_0\n",
      "Using VIO: 22BC7ED6C4145AAB88C58EAEDFF2B04C  chipscopy_i/counters/vio_slow_counter_0\n"
     ]
    }
   ],
   "source": [
    "# Grab the two cores we are interested in for the demonstration\n",
    "# As shown above, a counter is connected to the ILA core.\n",
    "# The VIO core controls the counter.\n",
    "\n",
    "ila = device.ila_cores.get(name=\"chipscopy_i/counters/ila_slow_counter_0\")\n",
    "vio = device.vio_cores.get(name=\"chipscopy_i/counters/vio_slow_counter_0\")\n",
    "\n",
    "print(f\"Using ILA: {ila.core_info.uuid}  {ila.name}\")\n",
    "print(f\"Using VIO: {vio.core_info.uuid}  {vio.name}\")"
   ]
  },
  {
   "cell_type": "markdown",
   "id": "virtual-jumping",
   "metadata": {
    "papermill": {
     "duration": 0.004872,
     "end_time": "2023-06-07T20:54:57.832635",
     "exception": false,
     "start_time": "2023-06-07T20:54:57.827763",
     "status": "completed"
    },
    "tags": []
   },
   "source": [
    "### 5a - Configure the counter using VIO output probes\n",
    "\n",
    "<img src=\"img/vio_control_counter.png\" width=\"300\" align=\"left\">"
   ]
  },
  {
   "cell_type": "code",
   "execution_count": 9,
   "id": "surrounded-plenty",
   "metadata": {
    "execution": {
     "iopub.execute_input": "2023-06-07T20:54:57.845110Z",
     "iopub.status.busy": "2023-06-07T20:54:57.844732Z",
     "iopub.status.idle": "2023-06-07T20:54:57.847431Z",
     "shell.execute_reply": "2023-06-07T20:54:57.847126Z"
    },
    "papermill": {
     "duration": 0.010086,
     "end_time": "2023-06-07T20:54:57.847498",
     "exception": false,
     "start_time": "2023-06-07T20:54:57.837412",
     "status": "completed"
    },
    "tags": []
   },
   "outputs": [
    {
     "name": "stdout",
     "output_type": "stream",
     "text": [
      "VIO Port <---> Probe mapping:\n",
      "probe_in0 <-- chipscopy_i/counters/slow_counter_0_Q\n",
      "probe_out0 --> chipscopy_i/counters/slow_counter_0_CE\n",
      "probe_out1 --> chipscopy_i/counters/slow_counter_0_SCLR\n",
      "probe_out2 --> chipscopy_i/counters/slow_counter_0_UP\n",
      "probe_out3 --> chipscopy_i/counters/slow_counter_0_LOAD\n",
      "probe_out4 --> chipscopy_i/counters/slow_counter_0_L\n"
     ]
    }
   ],
   "source": [
    "# Print all the VIO port and probe names. This is convenient to know which probes are connected to\n",
    "# VIO ports. Also verifies probe names to pass to other functions.\n",
    "\n",
    "print(\"VIO Port <---> Probe mapping:\")\n",
    "for probe in vio.probes:\n",
    "    if probe.direction == \"in\":\n",
    "        print(f\"{probe.port_name} <-- {probe.probe_name}\")\n",
    "    else:\n",
    "        print(f\"{probe.port_name} --> {probe.probe_name}\")"
   ]
  },
  {
   "cell_type": "code",
   "execution_count": 10,
   "id": "industrial-museum",
   "metadata": {
    "execution": {
     "iopub.execute_input": "2023-06-07T20:54:57.862643Z",
     "iopub.status.busy": "2023-06-07T20:54:57.859749Z",
     "iopub.status.idle": "2023-06-07T20:54:58.046618Z",
     "shell.execute_reply": "2023-06-07T20:54:58.046271Z"
    },
    "papermill": {
     "duration": 0.194295,
     "end_time": "2023-06-07T20:54:58.046728",
     "exception": false,
     "start_time": "2023-06-07T20:54:57.852433",
     "status": "completed"
    },
    "tags": []
   },
   "outputs": [
    {
     "name": "stdout",
     "output_type": "stream",
     "text": [
      "Counter is now free-running and counting up\n"
     ]
    }
   ],
   "source": [
    "# Set up the VIO core to enable counting up from 0\n",
    "#\n",
    "vio.reset_vio()\n",
    "vio.write_probes(\n",
    "    {\n",
    "        \"chipscopy_i/counters/slow_counter_0_SCLR\": 0,\n",
    "        \"chipscopy_i/counters/slow_counter_0_L\": 0x00000000,\n",
    "        \"chipscopy_i/counters/slow_counter_0_LOAD\": 0,\n",
    "        \"chipscopy_i/counters/slow_counter_0_UP\": 1,\n",
    "        \"chipscopy_i/counters/slow_counter_0_CE\": 1,\n",
    "    }\n",
    ")\n",
    "print(\"Counter is now free-running and counting up\")"
   ]
  },
  {
   "cell_type": "markdown",
   "id": "technical-series",
   "metadata": {
    "papermill": {
     "duration": 0.007722,
     "end_time": "2023-06-07T20:54:58.060542",
     "exception": false,
     "start_time": "2023-06-07T20:54:58.052820",
     "status": "completed"
    },
    "tags": []
   },
   "source": [
    "### 5b - Capture and display free-running counter using the ILA core\n",
    "\n",
    "<img src=\"img/free_running_counter.png\" width=\"350\" align=\"left\">"
   ]
  },
  {
   "cell_type": "code",
   "execution_count": 11,
   "id": "hispanic-tribe",
   "metadata": {
    "execution": {
     "iopub.execute_input": "2023-06-07T20:54:58.077297Z",
     "iopub.status.busy": "2023-06-07T20:54:58.076692Z",
     "iopub.status.idle": "2023-06-07T20:54:59.070405Z",
     "shell.execute_reply": "2023-06-07T20:54:59.070721Z"
    },
    "papermill": {
     "duration": 1.004706,
     "end_time": "2023-06-07T20:54:59.070871",
     "exception": false,
     "start_time": "2023-06-07T20:54:58.066165",
     "status": "completed"
    },
    "tags": []
   },
   "outputs": [
    {
     "name": "stdout",
     "output_type": "stream",
     "text": [
      "ILA is running - looking for trigger\n"
     ]
    }
   ],
   "source": [
    "# Trigger ILA on the free running counter. Trigger set to the first time we see 0s in low 16-bits.\n",
    "# This will show the counter is free running, and counting up\n",
    "\n",
    "ila.reset_probes()\n",
    "ila.set_probe_trigger_value(\"chipscopy_i/counters/slow_counter_0_Q_1\", [\"==\", \"0xXXXX_0000\"])\n",
    "ila.run_basic_trigger(window_count=1, window_size=32, trigger_position=16)\n",
    "print(\"ILA is running - looking for trigger\")"
   ]
  },
  {
   "cell_type": "code",
   "execution_count": 12,
   "id": "empty-member",
   "metadata": {
    "execution": {
     "iopub.execute_input": "2023-06-07T20:54:59.087053Z",
     "iopub.status.busy": "2023-06-07T20:54:59.086705Z",
     "iopub.status.idle": "2023-06-07T20:54:59.329132Z",
     "shell.execute_reply": "2023-06-07T20:54:59.329406Z"
    },
    "papermill": {
     "duration": 0.25287,
     "end_time": "2023-06-07T20:54:59.329562",
     "exception": false,
     "start_time": "2023-06-07T20:54:59.076692",
     "status": "completed"
    },
    "tags": []
   },
   "outputs": [
    {
     "name": "stdout",
     "output_type": "stream",
     "text": [
      "Window:0  Window Sample:0   600440816  0x23C9FFF0 \n",
      "Window:0  Window Sample:1   600440817  0x23C9FFF1 \n",
      "Window:0  Window Sample:2   600440818  0x23C9FFF2 \n",
      "Window:0  Window Sample:3   600440819  0x23C9FFF3 \n",
      "Window:0  Window Sample:4   600440820  0x23C9FFF4 \n",
      "Window:0  Window Sample:5   600440821  0x23C9FFF5 \n",
      "Window:0  Window Sample:6   600440822  0x23C9FFF6 \n",
      "Window:0  Window Sample:7   600440823  0x23C9FFF7 \n",
      "Window:0  Window Sample:8   600440824  0x23C9FFF8 \n",
      "Window:0  Window Sample:9   600440825  0x23C9FFF9 \n",
      "Window:0  Window Sample:10   600440826  0x23C9FFFA \n",
      "Window:0  Window Sample:11   600440827  0x23C9FFFB \n",
      "Window:0  Window Sample:12   600440828  0x23C9FFFC \n",
      "Window:0  Window Sample:13   600440829  0x23C9FFFD \n",
      "Window:0  Window Sample:14   600440830  0x23C9FFFE \n",
      "Window:0  Window Sample:15   600440831  0x23C9FFFF \n",
      "Window:0  Window Sample:16   600440832  0x23CA0000 <-- Trigger\n",
      "Window:0  Window Sample:17   600440833  0x23CA0001 \n",
      "Window:0  Window Sample:18   600440834  0x23CA0002 \n",
      "Window:0  Window Sample:19   600440835  0x23CA0003 \n",
      "Window:0  Window Sample:20   600440836  0x23CA0004 \n",
      "Window:0  Window Sample:21   600440837  0x23CA0005 \n",
      "Window:0  Window Sample:22   600440838  0x23CA0006 \n",
      "Window:0  Window Sample:23   600440839  0x23CA0007 \n",
      "Window:0  Window Sample:24   600440840  0x23CA0008 \n",
      "Window:0  Window Sample:25   600440841  0x23CA0009 \n",
      "Window:0  Window Sample:26   600440842  0x23CA000A \n",
      "Window:0  Window Sample:27   600440843  0x23CA000B \n",
      "Window:0  Window Sample:28   600440844  0x23CA000C \n",
      "Window:0  Window Sample:29   600440845  0x23CA000D \n",
      "Window:0  Window Sample:30   600440846  0x23CA000E \n",
      "Window:0  Window Sample:31   600440847  0x23CA000F \n"
     ]
    }
   ],
   "source": [
    "# Wait for the ILA trigger with upload.\n",
    "# Then print the captured ILA samples and mark the trigger position.\n",
    "\n",
    "ila.wait_till_done(max_wait_minutes=0.1)\n",
    "upload_successful = ila.upload()\n",
    "if upload_successful:\n",
    "    samples = ila.waveform.get_data(\n",
    "        [\"chipscopy_i/counters/slow_counter_0_Q_1\"],\n",
    "        include_trigger=True,\n",
    "        include_sample_info=True,\n",
    "    )\n",
    "    for trigger, sample_index, window_index, window_sample_index, value in zip(*samples.values()):\n",
    "        trigger = \"<-- Trigger\" if trigger else \"\"\n",
    "        print(\n",
    "            f\"Window:{window_index}  Window Sample:{window_sample_index}  {value:10}  0x{value:08X} {trigger}\"\n",
    "        )\n",
    "else:\n",
    "    print(\"Failed to upload ILA data from core\")"
   ]
  },
  {
   "cell_type": "markdown",
   "id": "logical-marine",
   "metadata": {
    "papermill": {
     "duration": 0.004967,
     "end_time": "2023-06-07T20:54:59.340986",
     "exception": false,
     "start_time": "2023-06-07T20:54:59.336019",
     "status": "completed"
    },
    "tags": []
   },
   "source": [
    "### 5c - Trigger ILA using VIO Up/Down virtual switch\n",
    "\n",
    "This step demonstrates how VIO and ILA can be combined to form powerful debug building blocks.\n",
    "\n",
    "ILA is set to trigger when UP/DOWN counter signal edge rises or falls.\n",
    "VIO drives the UP/DOWN counter control signal to 0 causing the counter to count down.\n",
    "The signal transition causes ILA to trigger and capture data.\n",
    "\n",
    "After this step,\n",
    "- VIO drives counter to count from UP to DOWN\n",
    "- ILA triggers on the UP to DOWN signal transition\n",
    "- Waveform uploaded with the up/down trigger sample in the center of captured data\n"
   ]
  },
  {
   "cell_type": "markdown",
   "id": "demonstrated-updating",
   "metadata": {
    "papermill": {
     "duration": 0.004814,
     "end_time": "2023-06-07T20:54:59.350689",
     "exception": false,
     "start_time": "2023-06-07T20:54:59.345875",
     "status": "completed"
    },
    "tags": []
   },
   "source": [
    "<img src=\"img/edge_trigger.png\" width=\"550\" align=\"left\">"
   ]
  },
  {
   "cell_type": "code",
   "execution_count": 13,
   "id": "nonprofit-quantity",
   "metadata": {
    "execution": {
     "iopub.execute_input": "2023-06-07T20:54:59.365316Z",
     "iopub.status.busy": "2023-06-07T20:54:59.364979Z",
     "iopub.status.idle": "2023-06-07T20:54:59.568965Z",
     "shell.execute_reply": "2023-06-07T20:54:59.569252Z"
    },
    "papermill": {
     "duration": 0.213801,
     "end_time": "2023-06-07T20:54:59.569417",
     "exception": false,
     "start_time": "2023-06-07T20:54:59.355616",
     "status": "completed"
    },
    "tags": []
   },
   "outputs": [
    {
     "name": "stdout",
     "output_type": "stream",
     "text": [
      "ILA is running - looking for trigger\n"
     ]
    }
   ],
   "source": [
    "# Set ILA core to capture on a transition of the UP/DOWN toggle switch\n",
    "# Once transition happens, trigger in the middle of the buffer.\n",
    "\n",
    "ila.reset_probes()\n",
    "ila.set_probe_trigger_value(\"chipscopy_i/counters/slow_counter_0_UP_1\", [\"==\", \"B\"])\n",
    "ila.run_basic_trigger(window_count=1, window_size=32, trigger_position=16)\n",
    "\n",
    "print(\"ILA is running - looking for trigger\")"
   ]
  },
  {
   "cell_type": "code",
   "execution_count": 14,
   "id": "streaming-dealing",
   "metadata": {
    "execution": {
     "iopub.execute_input": "2023-06-07T20:54:59.585366Z",
     "iopub.status.busy": "2023-06-07T20:54:59.585011Z",
     "iopub.status.idle": "2023-06-07T20:54:59.692389Z",
     "shell.execute_reply": "2023-06-07T20:54:59.692001Z"
    },
    "papermill": {
     "duration": 0.116696,
     "end_time": "2023-06-07T20:54:59.692501",
     "exception": false,
     "start_time": "2023-06-07T20:54:59.575805",
     "status": "completed"
    },
    "tags": []
   },
   "outputs": [
    {
     "name": "stdout",
     "output_type": "stream",
     "text": [
      "VIO changed up/down counter to count down\n"
     ]
    }
   ],
   "source": [
    "# VIO: Turn counter up/down switch to DOWN position.\n",
    "# This will cause the running ILA to trigger on the transition edge from up to down.\n",
    "\n",
    "vio.write_probes({\"chipscopy_i/counters/slow_counter_0_UP\": 0})\n",
    "\n",
    "print(\"VIO changed up/down counter to count down\")"
   ]
  },
  {
   "cell_type": "code",
   "execution_count": 15,
   "id": "heavy-meeting",
   "metadata": {
    "execution": {
     "iopub.execute_input": "2023-06-07T20:54:59.709294Z",
     "iopub.status.busy": "2023-06-07T20:54:59.708955Z",
     "iopub.status.idle": "2023-06-07T20:54:59.951916Z",
     "shell.execute_reply": "2023-06-07T20:54:59.952216Z"
    },
    "papermill": {
     "duration": 0.253042,
     "end_time": "2023-06-07T20:54:59.952380",
     "exception": false,
     "start_time": "2023-06-07T20:54:59.699338",
     "status": "completed"
    },
    "tags": []
   },
   "outputs": [
    {
     "name": "stdout",
     "output_type": "stream",
     "text": [
      "Window:0  Window Sample:0   659220429  0x274AE7CD \n",
      "Window:0  Window Sample:1   659220430  0x274AE7CE \n",
      "Window:0  Window Sample:2   659220431  0x274AE7CF \n",
      "Window:0  Window Sample:3   659220432  0x274AE7D0 \n",
      "Window:0  Window Sample:4   659220433  0x274AE7D1 \n",
      "Window:0  Window Sample:5   659220434  0x274AE7D2 \n",
      "Window:0  Window Sample:6   659220435  0x274AE7D3 \n",
      "Window:0  Window Sample:7   659220436  0x274AE7D4 \n",
      "Window:0  Window Sample:8   659220437  0x274AE7D5 \n",
      "Window:0  Window Sample:9   659220438  0x274AE7D6 \n",
      "Window:0  Window Sample:10   659220439  0x274AE7D7 \n",
      "Window:0  Window Sample:11   659220440  0x274AE7D8 \n",
      "Window:0  Window Sample:12   659220441  0x274AE7D9 \n",
      "Window:0  Window Sample:13   659220442  0x274AE7DA \n",
      "Window:0  Window Sample:14   659220443  0x274AE7DB \n",
      "Window:0  Window Sample:15   659220444  0x274AE7DC \n",
      "Window:0  Window Sample:16   659220445  0x274AE7DD <-- Trigger\n",
      "Window:0  Window Sample:17   659220444  0x274AE7DC \n",
      "Window:0  Window Sample:18   659220443  0x274AE7DB \n",
      "Window:0  Window Sample:19   659220442  0x274AE7DA \n",
      "Window:0  Window Sample:20   659220441  0x274AE7D9 \n",
      "Window:0  Window Sample:21   659220440  0x274AE7D8 \n",
      "Window:0  Window Sample:22   659220439  0x274AE7D7 \n",
      "Window:0  Window Sample:23   659220438  0x274AE7D6 \n",
      "Window:0  Window Sample:24   659220437  0x274AE7D5 \n",
      "Window:0  Window Sample:25   659220436  0x274AE7D4 \n",
      "Window:0  Window Sample:26   659220435  0x274AE7D3 \n",
      "Window:0  Window Sample:27   659220434  0x274AE7D2 \n",
      "Window:0  Window Sample:28   659220433  0x274AE7D1 \n",
      "Window:0  Window Sample:29   659220432  0x274AE7D0 \n",
      "Window:0  Window Sample:30   659220431  0x274AE7CF \n",
      "Window:0  Window Sample:31   659220430  0x274AE7CE \n"
     ]
    }
   ],
   "source": [
    "# Print the captured ILA samples and mark the trigger position.\n",
    "# Note that counter counts down after the trigger mark.\n",
    "\n",
    "ila.wait_till_done(max_wait_minutes=0.1)\n",
    "upload_successful = ila.upload()\n",
    "if upload_successful:\n",
    "    samples = ila.waveform.get_data(\n",
    "        [\"chipscopy_i/counters/slow_counter_0_Q_1\"],\n",
    "        include_trigger=True,\n",
    "        include_sample_info=True,\n",
    "    )\n",
    "    for trigger, sample_index, window_index, window_sample_index, value in zip(*samples.values()):\n",
    "        trigger = \"<-- Trigger\" if trigger else \"\"\n",
    "        print(\n",
    "            f\"Window:{window_index}  Window Sample:{window_sample_index}  {value:10}  0x{value:08X} {trigger}\"\n",
    "        )\n",
    "else:\n",
    "    print(\"Failed to upload ILA data from core\")"
   ]
  },
  {
   "cell_type": "markdown",
   "id": "better-saturn",
   "metadata": {
    "papermill": {
     "duration": 0.005036,
     "end_time": "2023-06-07T20:54:59.963987",
     "exception": false,
     "start_time": "2023-06-07T20:54:59.958951",
     "status": "completed"
    },
    "tags": []
   },
   "source": [
    "## 6 - Waveform Export - VCD (or CSV)\n",
    "\n",
    " Demonstrate how to export waveform data to a VCD file for visualizing waveform in other tools.\n",
    "\n",
    " Export includes complete waveform with probe, _TRIGGER, and _WINDOW.\n",
    "\n",
    " - For CSV export, substitute \"CSV\" for \"VCD\" argument.\n",
    " - To export to a file, substitute the filename for 'sys.stdout'"
   ]
  },
  {
   "cell_type": "code",
   "execution_count": 16,
   "id": "altered-glance",
   "metadata": {
    "execution": {
     "iopub.execute_input": "2023-06-07T20:54:59.979062Z",
     "iopub.status.busy": "2023-06-07T20:54:59.977317Z",
     "iopub.status.idle": "2023-06-07T20:54:59.988549Z",
     "shell.execute_reply": "2023-06-07T20:54:59.988210Z"
    },
    "papermill": {
     "duration": 0.0196,
     "end_time": "2023-06-07T20:54:59.988623",
     "exception": false,
     "start_time": "2023-06-07T20:54:59.969023",
     "status": "completed"
    },
    "scrolled": false,
    "tags": []
   },
   "outputs": [
    {
     "name": "stdout",
     "output_type": "stream",
     "text": [
      "$date\n",
      "        2023-06-07 14:54:59\n",
      "$end\n",
      "$version\n",
      "        ChipScoPy Version 2023.1.1685656083\n",
      "$end\n",
      "$timescale\n",
      "        1ps\n",
      "$end\n",
      "$scope module dut $end\n",
      "$var reg 1 $ chipscopy_i/counters/slow_counter_0_CE_1  $end\n",
      "$var reg 1 % chipscopy_i/counters/slow_counter_0_SCLR_1  $end\n",
      "$var reg 1 & chipscopy_i/counters/slow_counter_0_UP_1  $end\n",
      "$var reg 1 ' chipscopy_i/counters/slow_counter_0_LOAD_1  $end\n",
      "$var reg 32 ( chipscopy_i/counters/slow_counter_0_L_1 [31:0] $end\n",
      "$var reg 32 ) chipscopy_i/counters/slow_counter_0_Q_1 [31:0] $end\n",
      "$var reg 1 * chipscopy_i/counters/ila_slow_counter_0_TRIG_OUT_trig  $end\n",
      "$var reg 1 + chipscopy_i/counters/ila_fast_counter_0_TRIG_IN_ack  $end\n",
      "$var reg 1 , chipscopy_i/counters/ila_fast_counter_0_TRIG_OUT_trig  $end\n",
      "$var reg 1 - chipscopy_i/counters/ila_slow_counter_0_TRIG_IN_ack  $end\n",
      "$var reg 16 . chipscopy_i/counters/slow_sine_Dout [15:0] $end\n",
      "$var reg 16 / chipscopy_i/counters/slow_cosine_Dout [15:0] $end\n",
      "$var reg 1 0 chipscopy_i/counters/locked  $end\n",
      "$var reg 1 ! _TRIGGER $end\n",
      "$var reg 1 \" _WINDOW $end\n",
      "$upscope $end\n",
      "$enddefinitions $end\n",
      "#0\n",
      "0!\n",
      "0\"\n",
      "1$\n",
      "0%\n",
      "1&\n",
      "0'\n",
      "b0 (\n",
      "b100111010010101110011111001101 )\n",
      "0*\n",
      "0+\n",
      "0,\n",
      "0-\n",
      "b1101011100011011 .\n",
      "b111100101001001 /\n",
      "10\n",
      "#1\n",
      "b100111010010101110011111001110 )\n",
      "b1101011111011010 .\n",
      "b111100110001000 /\n",
      "#2\n",
      "b100111010010101110011111001111 )\n",
      "b1101100010011001 .\n",
      "b111100111000111 /\n",
      "#3\n",
      "b100111010010101110011111010000 )\n",
      "b1101100101011000 .\n",
      "b111101000000100 /\n",
      "#4\n",
      "b100111010010101110011111010001 )\n",
      "b1101101000011000 .\n",
      "b111101001000000 /\n",
      "#5\n",
      "b100111010010101110011111010010 )\n",
      "b1101101011011001 .\n",
      "b111101001111011 /\n",
      "#6\n",
      "b100111010010101110011111010011 )\n",
      "b1101101110011001 .\n",
      "b111101010110101 /\n",
      "#7\n",
      "b100111010010101110011111010100 )\n",
      "b1101110001011010 .\n",
      "b111101011101101 /\n",
      "#8\n",
      "b100111010010101110011111010101 )\n",
      "b1101110100011011 .\n",
      "b111101100100101 /\n",
      "#9\n",
      "b100111010010101110011111010110 )\n",
      "b1101110111011101 .\n",
      "b111101101011011 /\n",
      "#10\n",
      "b100111010010101110011111010111 )\n",
      "b1101111010011111 .\n",
      "b111101110010000 /\n",
      "#11\n",
      "b100111010010101110011111011000 )\n",
      "b1101111101100001 .\n",
      "b111101111000100 /\n",
      "#12\n",
      "b100111010010101110011111011001 )\n",
      "b1110000000100100 .\n",
      "b111101111110111 /\n",
      "#13\n",
      "b100111010010101110011111011010 )\n",
      "b1110000011100111 .\n",
      "b111110000101000 /\n",
      "#14\n",
      "b100111010010101110011111011011 )\n",
      "b1110000110101010 .\n",
      "b111110001011000 /\n",
      "#15\n",
      "b100111010010101110011111011100 )\n",
      "b1110001001101101 .\n",
      "b111110010000111 /\n",
      "#16\n",
      "1!\n",
      "0&\n",
      "b100111010010101110011111011101 )\n",
      "b1110001100110001 .\n",
      "b111110010110101 /\n",
      "#17\n",
      "0!\n",
      "b100111010010101110011111011100 )\n",
      "b1110001111110101 .\n",
      "b111110011100010 /\n",
      "#18\n",
      "b100111010010101110011111011011 )\n",
      "b1110010010111001 .\n",
      "b111110100001101 /\n",
      "#19\n",
      "b100111010010101110011111011010 )\n",
      "b1110001111110101 .\n",
      "b111110011100010 /\n",
      "#20\n",
      "b100111010010101110011111011001 )\n",
      "b1110001100110001 .\n",
      "b111110010110101 /\n",
      "#21\n",
      "b100111010010101110011111011000 )\n",
      "b1110001001101101 .\n",
      "b111110010000111 /\n",
      "#22\n",
      "b100111010010101110011111010111 )\n",
      "b1110000110101010 .\n",
      "b111110001011000 /\n",
      "#23\n",
      "b100111010010101110011111010110 )\n",
      "b1110000011100111 .\n",
      "b111110000101000 /\n",
      "#24\n",
      "b100111010010101110011111010101 )\n",
      "b1110000000100100 .\n",
      "b111101111110111 /\n",
      "#25\n",
      "b100111010010101110011111010100 )\n",
      "b1101111101100001 .\n",
      "b111101111000100 /\n",
      "#26\n",
      "b100111010010101110011111010011 )\n",
      "b1101111010011111 .\n",
      "b111101110010000 /\n",
      "#27\n",
      "b100111010010101110011111010010 )\n",
      "b1101110111011101 .\n",
      "b111101101011011 /\n",
      "#28\n",
      "b100111010010101110011111010001 )\n",
      "b1101110100011011 .\n",
      "b111101100100101 /\n",
      "#29\n",
      "b100111010010101110011111010000 )\n",
      "b1101110001011010 .\n",
      "b111101011101101 /\n",
      "#30\n",
      "b100111010010101110011111001111 )\n",
      "b1101101110011001 .\n",
      "b111101010110101 /\n",
      "#31\n",
      "b100111010010101110011111001110 )\n",
      "b1101101011011001 .\n",
      "b111101001111011 /\n"
     ]
    }
   ],
   "source": [
    "if upload_successful:\n",
    "    ila.waveform.export_waveform(\"VCD\", sys.stdout)"
   ]
  },
  {
   "cell_type": "code",
   "execution_count": null,
   "id": "noted-effort",
   "metadata": {
    "papermill": {
     "duration": 0.005626,
     "end_time": "2023-06-07T20:54:59.999471",
     "exception": false,
     "start_time": "2023-06-07T20:54:59.993845",
     "status": "completed"
    },
    "scrolled": true,
    "tags": []
   },
   "outputs": [],
   "source": []
  }
 ],
 "metadata": {
  "jupytext": {
   "cell_metadata_filter": "-all",
   "formats": "ipynb,py"
  },
  "kernelspec": {
   "display_name": "Python 3 (ipykernel)",
   "language": "python",
   "name": "python3"
  },
  "language_info": {
   "codemirror_mode": {
    "name": "ipython",
    "version": 3
   },
   "file_extension": ".py",
   "mimetype": "text/x-python",
   "name": "python",
   "nbconvert_exporter": "python",
   "pygments_lexer": "ipython3",
   "version": "3.9.16"
  },
  "papermill": {
   "default_parameters": {},
   "duration": 20.227941,
   "end_time": "2023-06-07T20:55:05.421450",
   "environment_variables": {},
   "exception": null,
   "input_path": "ila_and_vio.ipynb",
   "output_path": "output",
   "parameters": {},
   "start_time": "2023-06-07T20:54:45.193509",
   "version": "2.4.0"
  },
  "widgets": {
   "application/vnd.jupyter.widget-state+json": {
    "state": {
     "05b47be9fa1f4ca89c8288fb0d87151c": {
      "model_module": "@jupyter-widgets/base",
      "model_module_version": "1.2.0",
      "model_name": "LayoutModel",
      "state": {
       "_model_module": "@jupyter-widgets/base",
       "_model_module_version": "1.2.0",
       "_model_name": "LayoutModel",
       "_view_count": null,
       "_view_module": "@jupyter-widgets/base",
       "_view_module_version": "1.2.0",
       "_view_name": "LayoutView",
       "align_content": null,
       "align_items": null,
       "align_self": null,
       "border": null,
       "bottom": null,
       "display": null,
       "flex": null,
       "flex_flow": null,
       "grid_area": null,
       "grid_auto_columns": null,
       "grid_auto_flow": null,
       "grid_auto_rows": null,
       "grid_column": null,
       "grid_gap": null,
       "grid_row": null,
       "grid_template_areas": null,
       "grid_template_columns": null,
       "grid_template_rows": null,
       "height": null,
       "justify_content": null,
       "justify_items": null,
       "left": null,
       "margin": null,
       "max_height": null,
       "max_width": null,
       "min_height": null,
       "min_width": null,
       "object_fit": null,
       "object_position": null,
       "order": null,
       "overflow": null,
       "overflow_x": null,
       "overflow_y": null,
       "padding": null,
       "right": null,
       "top": null,
       "visibility": null,
       "width": null
      }
     },
     "2dcb807cde1c4e3fbd4857abb23e0d8f": {
      "model_module": "@jupyter-widgets/output",
      "model_module_version": "1.0.0",
      "model_name": "OutputModel",
      "state": {
       "_dom_classes": [],
       "_model_module": "@jupyter-widgets/output",
       "_model_module_version": "1.0.0",
       "_model_name": "OutputModel",
       "_view_count": null,
       "_view_module": "@jupyter-widgets/output",
       "_view_module_version": "1.0.0",
       "_view_name": "OutputView",
       "layout": "IPY_MODEL_05b47be9fa1f4ca89c8288fb0d87151c",
       "msg_id": "",
       "outputs": [
        {
         "data": {
          "text/html": "<pre style=\"white-space:pre;overflow-x:auto;line-height:normal;font-family:Menlo,'DejaVu Sans Mono',consolas,'Courier New',monospace\">Device program progress <span style=\"color: #729c1f; text-decoration-color: #729c1f\">━━━━━━━━━━━━━━━━━━━━━━━━━━━━━━━━━━━━━━━━</span> <span style=\"color: #ff00ff; text-decoration-color: #ff00ff; font-weight: bold\">100%</span> <span style=\"color: #008000; text-decoration-color: #008000; font-weight: bold\">Done</span>\n</pre>\n",
          "text/plain": "<rich.jupyter.JupyterRenderable at 0x7f3b15113700>"
         },
         "metadata": {},
         "output_type": "display_data"
        }
       ]
      }
     }
    },
    "version_major": 2,
    "version_minor": 0
   }
  }
 },
 "nbformat": 4,
 "nbformat_minor": 5
}
