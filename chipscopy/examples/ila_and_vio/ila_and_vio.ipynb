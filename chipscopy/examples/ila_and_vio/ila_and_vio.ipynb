{
 "cells": [
  {
   "cell_type": "markdown",
   "id": "d245e103",
   "metadata": {
    "papermill": {
     "duration": 0.005337,
     "end_time": "2023-10-24T22:09:22.552940",
     "exception": false,
     "start_time": "2023-10-24T22:09:22.547603",
     "status": "completed"
    },
    "tags": []
   },
   "source": [
    "<link rel=\"preconnect\" href=\"https://fonts.gstatic.com\">\n",
    "<link href=\"https://fonts.googleapis.com/css2?family=Fira+Code&display=swap\" rel=\"stylesheet\">\n",
    "\n",
    "### License\n",
    "\n",
    "<p style=\"font-family: 'Fira Code', monospace; font-size: 1.2rem\">\n",
    "Copyright (C) 2022, Xilinx, Inc.\n",
    "Copyright (C) 2022-2023, Advanced Micro Devices, Inc.\n",
    "<br><br>\n",
    "Licensed under the Apache License, Version 2.0 (the \"License\");<br>\n",
    "you may not use this file except in compliance with the License.<br><br>\n",
    "You may obtain a copy of the License at <a href=\"http://www.apache.org/licenses/LICENSE-2.0\"?>http://www.apache.org/licenses/LICENSE-2.0</a><br><br>\n",
    "Unless required by applicable law or agreed to in writing, software<br>\n",
    "distributed under the License is distributed on an \"AS IS\" BASIS,<br>\n",
    "WITHOUT WARRANTIES OR CONDITIONS OF ANY KIND, either express or implied.<br>\n",
    "See the License for the specific language governing permissions and<br>\n",
    "limitations under the License.<br>\n",
    "</p>\n"
   ]
  },
  {
   "cell_type": "markdown",
   "id": "81fbda3b",
   "metadata": {
    "papermill": {
     "duration": 0.004102,
     "end_time": "2023-10-24T22:09:22.561472",
     "exception": false,
     "start_time": "2023-10-24T22:09:22.557370",
     "status": "completed"
    },
    "tags": []
   },
   "source": [
    "# ChipScoPy ILA and VIO Example\n",
    "\n",
    "\n",
    "<img src=\"../img/api_overview.png\" width=\"500\" align=\"left\">"
   ]
  },
  {
   "cell_type": "markdown",
   "id": "e698f67a",
   "metadata": {
    "papermill": {
     "duration": 0.003917,
     "end_time": "2023-10-24T22:09:22.569374",
     "exception": false,
     "start_time": "2023-10-24T22:09:22.565457",
     "status": "completed"
    },
    "tags": []
   },
   "source": [
    "## Description\n",
    "This example demonstrates how to program and communicate with ILA (Integrated Logic Analyzer) and\n",
    "VIO (Virtual IO) cores using the ChipScoPy Python API.\n",
    "\n",
    "\n",
    "## Requirements\n",
    "- Local or remote Xilinx Versal board, such as a VCK190\n",
    "- Xilinx hw_server 2023.2 installed and running\n",
    "- Xilinx cs_server 2023.2 installed and running\n",
    "- Python 3.8 or greater installed\n",
    "- ChipScoPy 2023.2 installed\n",
    "- Jupyter notebook support installed - Please do so, using the command `pip install chipscopy[jupyter]`"
   ]
  },
  {
   "cell_type": "markdown",
   "id": "ab60225b",
   "metadata": {
    "papermill": {
     "duration": 0.00994,
     "end_time": "2023-10-24T22:09:22.583452",
     "exception": false,
     "start_time": "2023-10-24T22:09:22.573512",
     "status": "completed"
    },
    "tags": []
   },
   "source": [
    "## 1 - Initialization: Imports and File Paths\n",
    "\n",
    "After this step,\n",
    "- Required functions and classes are imported\n",
    "- URL paths are set correctly\n",
    "- File paths to example files are set correctly"
   ]
  },
  {
   "cell_type": "code",
   "execution_count": 1,
   "id": "e2e79592",
   "metadata": {
    "execution": {
     "iopub.execute_input": "2023-10-24T22:09:22.594889Z",
     "iopub.status.busy": "2023-10-24T22:09:22.594549Z",
     "iopub.status.idle": "2023-10-24T22:09:23.247460Z",
     "shell.execute_reply": "2023-10-24T22:09:23.246497Z"
    },
    "papermill": {
     "duration": 0.661974,
     "end_time": "2023-10-24T22:09:23.249453",
     "exception": false,
     "start_time": "2023-10-24T22:09:22.587479",
     "status": "completed"
    },
    "tags": []
   },
   "outputs": [],
   "source": [
    "import sys\n",
    "import os\n",
    "from chipscopy import get_design_files\n",
    "from chipscopy import create_session, report_versions"
   ]
  },
  {
   "cell_type": "code",
   "execution_count": 2,
   "id": "5132ba75",
   "metadata": {
    "execution": {
     "iopub.execute_input": "2023-10-24T22:09:23.262265Z",
     "iopub.status.busy": "2023-10-24T22:09:23.261817Z",
     "iopub.status.idle": "2023-10-24T22:09:23.272924Z",
     "shell.execute_reply": "2023-10-24T22:09:23.272013Z"
    },
    "lines_to_next_cell": 2,
    "papermill": {
     "duration": 0.019718,
     "end_time": "2023-10-24T22:09:23.274231",
     "exception": false,
     "start_time": "2023-10-24T22:09:23.254513",
     "status": "completed"
    },
    "tags": []
   },
   "outputs": [
    {
     "name": "stdout",
     "output_type": "stream",
     "text": [
      "HW_URL: TCP:localhost:3121\n",
      "CS_URL: TCP:localhost:3042\n",
      "PROGRAMMING_FILE: /scratch/2023.2/chipscopy-examples/designs/vck190/production/chipscopy_ced/chipscopy_wrapper.pdi\n",
      "PROBES_FILE:/scratch/2023.2/chipscopy-examples/designs/vck190/production/chipscopy_ced/chipscopy_wrapper.ltx\n"
     ]
    }
   ],
   "source": [
    "# Make sure to start the hw_server and cs_server prior to running.\n",
    "# Specify locations of the running hw_server and cs_server below.\n",
    "# The default is localhost - but can be other locations on the network.\n",
    "CS_URL = os.getenv(\"CS_SERVER_URL\", \"TCP:localhost:3042\")\n",
    "HW_URL = os.getenv(\"HW_SERVER_URL\", \"TCP:localhost:3121\")\n",
    "\n",
    "# specify hw and if programming is desired\n",
    "HW_PLATFORM = os.getenv(\"HW_PLATFORM\", \"vck190\")\n",
    "PROG_DEVICE = os.getenv(\"PROG_DEVICE\", True)\n",
    "\n",
    "# The get_design_files() function tries to find the PDI and LTX files. In non-standard\n",
    "# configurations, you can put the path for PROGRAMMING_FILE and PROBES_FILE below.\n",
    "design_files = get_design_files(f\"{HW_PLATFORM}/production/chipscopy_ced\")\n",
    "\n",
    "PROGRAMMING_FILE = design_files.programming_file\n",
    "PROBES_FILE = design_files.probes_file\n",
    "\n",
    "print(f\"HW_URL: {HW_URL}\")\n",
    "print(f\"CS_URL: {CS_URL}\")\n",
    "print(f\"PROGRAMMING_FILE: {PROGRAMMING_FILE}\")\n",
    "print(f\"PROBES_FILE:{PROBES_FILE}\")"
   ]
  },
  {
   "cell_type": "markdown",
   "id": "2a4adfbc",
   "metadata": {
    "papermill": {
     "duration": 0.00507,
     "end_time": "2023-10-24T22:09:23.284021",
     "exception": false,
     "start_time": "2023-10-24T22:09:23.278951",
     "status": "completed"
    },
    "tags": []
   },
   "source": [
    "## 2 - Create a session and connect to the hw_server and cs_server\n",
    "\n",
    "The session is a container that keeps track of devices and debug cores.\n",
    "After this step,\n",
    "- Session is initialized and connected to server(s)\n",
    "- Versions are detected and reported to stdout"
   ]
  },
  {
   "cell_type": "code",
   "execution_count": 3,
   "id": "74f36cfc",
   "metadata": {
    "execution": {
     "iopub.execute_input": "2023-10-24T22:09:23.293924Z",
     "iopub.status.busy": "2023-10-24T22:09:23.293537Z",
     "iopub.status.idle": "2023-10-24T22:09:24.652215Z",
     "shell.execute_reply": "2023-10-24T22:09:24.651333Z"
    },
    "papermill": {
     "duration": 1.365541,
     "end_time": "2023-10-24T22:09:24.653588",
     "exception": false,
     "start_time": "2023-10-24T22:09:23.288047",
     "status": "completed"
    },
    "tags": []
   },
   "outputs": [
    {
     "data": {
      "text/html": [
       "<pre style=\"white-space:pre;overflow-x:auto;line-height:normal;font-family:Menlo,'DejaVu Sans Mono',consolas,'Courier New',monospace\">\n",
       "\n",
       "</pre>\n"
      ],
      "text/plain": [
       "\n",
       "\n"
      ]
     },
     "metadata": {},
     "output_type": "display_data"
    },
    {
     "data": {
      "text/html": [
       "<pre style=\"white-space:pre;overflow-x:auto;line-height:normal;font-family:Menlo,'DejaVu Sans Mono',consolas,'Courier New',monospace\"><span style=\"font-style: italic\">                      ChipScoPy Version Information                      </span>\n",
       "┌────────────────────────────┬──────────────────────────────────────────┐\n",
       "│<span style=\"font-weight: bold\">                     Entity </span>│<span style=\"font-weight: bold\"> Version                                  </span>│\n",
       "├────────────────────────────┼──────────────────────────────────────────┤\n",
       "│                  ChipScoPy │ ┌───────────┬──────────────────────┐     │\n",
       "│                            │ │<span style=\"font-weight: bold\"> Attribute </span>│<span style=\"font-weight: bold\"> Value                </span>│     │\n",
       "│                            │ ├───────────┼──────────────────────┤     │\n",
       "│                            │ │     Build │ 2023.2.1697859156    │     │\n",
       "│                            │ │ Timestamp │ Oct 20 2023-21:32:36 │     │\n",
       "│                            │ └───────────┴──────────────────────┘     │\n",
       "│                            │                                          │\n",
       "│ hw_server @ localhost:3121 │ ┌───────────┬──────────────────────────┐ │\n",
       "│                            │ │<span style=\"font-weight: bold\"> Attribute </span>│<span style=\"font-weight: bold\"> Value                    </span>│ │\n",
       "│                            │ ├───────────┼──────────────────────────┤ │\n",
       "│                            │ │    Status │ Connected                │ │\n",
       "│                            │ │     Build │ 1683493450               │ │\n",
       "│                            │ │   Version │ 2023.1                   │ │\n",
       "│                            │ │ Timestamp │ Sun May  7 15:04:10 2023 │ │\n",
       "│                            │ └───────────┴──────────────────────────┘ │\n",
       "│                            │                                          │\n",
       "│ cs_server @ localhost:3042 │ ┌───────────────┬──────────────────────┐ │\n",
       "│                            │ │<span style=\"font-weight: bold\">     Attribute </span>│<span style=\"font-weight: bold\"> Value                </span>│ │\n",
       "│                            │ ├───────────────┼──────────────────────┤ │\n",
       "│                            │ │        Status │ Connected            │ │\n",
       "│                            │ │         Build │ 1696910516           │ │\n",
       "│                            │ │       Version │ 2023.2.0             │ │\n",
       "│                            │ │     Timestamp │ Oct 09 2023-22:01:56 │ │\n",
       "│                            │ │       Package │ 2023.2.1696910516    │ │\n",
       "│                            │ │ Artifact type │ pyinstaller          │ │\n",
       "│                            │ └───────────────┴──────────────────────┘ │\n",
       "└────────────────────────────┴──────────────────────────────────────────┘\n",
       "</pre>\n"
      ],
      "text/plain": [
       "\u001b[3m                      ChipScoPy Version Information                      \u001b[0m\n",
       "┌────────────────────────────┬──────────────────────────────────────────┐\n",
       "│\u001b[1m \u001b[0m\u001b[1m                    Entity\u001b[0m\u001b[1m \u001b[0m│\u001b[1m \u001b[0m\u001b[1mVersion                                 \u001b[0m\u001b[1m \u001b[0m│\n",
       "├────────────────────────────┼──────────────────────────────────────────┤\n",
       "│                  ChipScoPy │ ┌───────────┬──────────────────────┐     │\n",
       "│                            │ │\u001b[1m \u001b[0m\u001b[1mAttribute\u001b[0m\u001b[1m \u001b[0m│\u001b[1m \u001b[0m\u001b[1mValue               \u001b[0m\u001b[1m \u001b[0m│     │\n",
       "│                            │ ├───────────┼──────────────────────┤     │\n",
       "│                            │ │     Build │ 2023.2.1697859156    │     │\n",
       "│                            │ │ Timestamp │ Oct 20 2023-21:32:36 │     │\n",
       "│                            │ └───────────┴──────────────────────┘     │\n",
       "│                            │                                          │\n",
       "│ hw_server @ localhost:3121 │ ┌───────────┬──────────────────────────┐ │\n",
       "│                            │ │\u001b[1m \u001b[0m\u001b[1mAttribute\u001b[0m\u001b[1m \u001b[0m│\u001b[1m \u001b[0m\u001b[1mValue                   \u001b[0m\u001b[1m \u001b[0m│ │\n",
       "│                            │ ├───────────┼──────────────────────────┤ │\n",
       "│                            │ │    Status │ Connected                │ │\n",
       "│                            │ │     Build │ 1683493450               │ │\n",
       "│                            │ │   Version │ 2023.1                   │ │\n",
       "│                            │ │ Timestamp │ Sun May  7 15:04:10 2023 │ │\n",
       "│                            │ └───────────┴──────────────────────────┘ │\n",
       "│                            │                                          │\n",
       "│ cs_server @ localhost:3042 │ ┌───────────────┬──────────────────────┐ │\n",
       "│                            │ │\u001b[1m \u001b[0m\u001b[1m    Attribute\u001b[0m\u001b[1m \u001b[0m│\u001b[1m \u001b[0m\u001b[1mValue               \u001b[0m\u001b[1m \u001b[0m│ │\n",
       "│                            │ ├───────────────┼──────────────────────┤ │\n",
       "│                            │ │        Status │ Connected            │ │\n",
       "│                            │ │         Build │ 1696910516           │ │\n",
       "│                            │ │       Version │ 2023.2.0             │ │\n",
       "│                            │ │     Timestamp │ Oct 09 2023-22:01:56 │ │\n",
       "│                            │ │       Package │ 2023.2.1696910516    │ │\n",
       "│                            │ │ Artifact type │ pyinstaller          │ │\n",
       "│                            │ └───────────────┴──────────────────────┘ │\n",
       "└────────────────────────────┴──────────────────────────────────────────┘\n"
      ]
     },
     "metadata": {},
     "output_type": "display_data"
    },
    {
     "data": {
      "text/html": [
       "<pre style=\"white-space:pre;overflow-x:auto;line-height:normal;font-family:Menlo,'DejaVu Sans Mono',consolas,'Courier New',monospace\">\n",
       "\n",
       "</pre>\n"
      ],
      "text/plain": [
       "\n",
       "\n"
      ]
     },
     "metadata": {},
     "output_type": "display_data"
    }
   ],
   "source": [
    "session = create_session(cs_server_url=CS_URL, hw_server_url=HW_URL)\n",
    "report_versions(session)"
   ]
  },
  {
   "cell_type": "markdown",
   "id": "03079d15",
   "metadata": {
    "papermill": {
     "duration": 0.004612,
     "end_time": "2023-10-24T22:09:24.665440",
     "exception": false,
     "start_time": "2023-10-24T22:09:24.660828",
     "status": "completed"
    },
    "tags": []
   },
   "source": [
    "## 3 - Program the device with the example design\n",
    "\n",
    "After this step,\n",
    "- Device is programmed with the example programming file"
   ]
  },
  {
   "cell_type": "code",
   "execution_count": 4,
   "id": "6cfb61c7",
   "metadata": {
    "execution": {
     "iopub.execute_input": "2023-10-24T22:09:24.678818Z",
     "iopub.status.busy": "2023-10-24T22:09:24.678230Z",
     "iopub.status.idle": "2023-10-24T22:09:31.937610Z",
     "shell.execute_reply": "2023-10-24T22:09:31.936607Z"
    },
    "lines_to_next_cell": 2,
    "papermill": {
     "duration": 7.267477,
     "end_time": "2023-10-24T22:09:31.938990",
     "exception": false,
     "start_time": "2023-10-24T22:09:24.671513",
     "status": "completed"
    },
    "tags": []
   },
   "outputs": [
    {
     "data": {
      "text/html": [
       "<pre style=\"white-space:pre;overflow-x:auto;line-height:normal;font-family:Menlo,'DejaVu Sans Mono',consolas,'Courier New',monospace\">\n",
       "<span style=\"font-weight: bold\">--&gt; INFO: </span>Programming device with: \n",
       "/scratch/2023.2/chipscopy-examples/designs/vck190/production/chipscopy_ced/chipscopy_wrapper.pdi\n",
       "    \n",
       "</pre>\n"
      ],
      "text/plain": [
       "\n",
       "\u001b[1m--> INFO: \u001b[0mProgramming device with: \n",
       "/scratch/2023.2/chipscopy-examples/designs/vck190/production/chipscopy_ced/chipscopy_wrapper.pdi\n",
       "    \n"
      ]
     },
     "metadata": {},
     "output_type": "display_data"
    },
    {
     "data": {
      "application/vnd.jupyter.widget-view+json": {
       "model_id": "6016721f98a3456dae7d6abb555f6109",
       "version_major": 2,
       "version_minor": 0
      },
      "text/plain": [
       "Output()"
      ]
     },
     "metadata": {},
     "output_type": "display_data"
    },
    {
     "data": {
      "text/html": [
       "<pre style=\"white-space:pre;overflow-x:auto;line-height:normal;font-family:Menlo,'DejaVu Sans Mono',consolas,'Courier New',monospace\"></pre>\n"
      ],
      "text/plain": []
     },
     "metadata": {},
     "output_type": "display_data"
    },
    {
     "data": {
      "text/html": [
       "<pre style=\"white-space:pre;overflow-x:auto;line-height:normal;font-family:Menlo,'DejaVu Sans Mono',consolas,'Courier New',monospace\">\n",
       "</pre>\n"
      ],
      "text/plain": [
       "\n"
      ]
     },
     "metadata": {},
     "output_type": "display_data"
    }
   ],
   "source": [
    "# Typical case - one device on the board - get it.\n",
    "device = session.devices.filter_by(family=\"versal\").get()\n",
    "device.program(PROGRAMMING_FILE)"
   ]
  },
  {
   "cell_type": "markdown",
   "id": "9011ad99",
   "metadata": {
    "papermill": {
     "duration": 0.005049,
     "end_time": "2023-10-24T22:09:31.950260",
     "exception": false,
     "start_time": "2023-10-24T22:09:31.945211",
     "status": "completed"
    },
    "tags": []
   },
   "source": [
    "## 4 - Discover Debug Cores\n",
    "\n",
    "Debug core discovery initializes the chipscope server debug cores. This brings debug cores in the chipscope server online.\n",
    "\n",
    "After this step,\n",
    "\n",
    "- The cs_server is initialized and ready for use\n",
    "- ILA and VIO core instances in the device are reported"
   ]
  },
  {
   "cell_type": "code",
   "execution_count": 5,
   "id": "7b4b20e9",
   "metadata": {
    "execution": {
     "iopub.execute_input": "2023-10-24T22:09:32.516884Z",
     "iopub.status.busy": "2023-10-24T22:09:32.516722Z",
     "iopub.status.idle": "2023-10-24T22:09:32.600854Z",
     "shell.execute_reply": "2023-10-24T22:09:32.599990Z"
    },
    "papermill": {
     "duration": 0.646417,
     "end_time": "2023-10-24T22:09:32.602267",
     "exception": false,
     "start_time": "2023-10-24T22:09:31.955850",
     "status": "completed"
    },
    "tags": []
   },
   "outputs": [
    {
     "name": "stdout",
     "output_type": "stream",
     "text": [
      "Debug cores setup and ready for use.\n"
     ]
    }
   ],
   "source": [
    "device.discover_and_setup_cores(ltx_file=PROBES_FILE)\n",
    "print(f\"Debug cores setup and ready for use.\")"
   ]
  },
  {
   "cell_type": "code",
   "execution_count": 6,
   "id": "af3f4849",
   "metadata": {
    "execution": {
     "iopub.execute_input": "2023-10-24T22:09:32.615624Z",
     "iopub.status.busy": "2023-10-24T22:09:32.615257Z",
     "iopub.status.idle": "2023-10-24T22:09:34.321870Z",
     "shell.execute_reply": "2023-10-24T22:09:34.320875Z"
    },
    "papermill": {
     "duration": 1.71476,
     "end_time": "2023-10-24T22:09:34.323378",
     "exception": false,
     "start_time": "2023-10-24T22:09:32.608618",
     "status": "completed"
    },
    "tags": []
   },
   "outputs": [
    {
     "name": "stdout",
     "output_type": "stream",
     "text": [
      "0 - D62FB110F1A25D439EB15D9149F450CE   chipscopy_i/counters/ila_fast_counter_0\n",
      "1 - 9125D1429AD25223AECDD656C2856755   chipscopy_i/counters/ila_slow_counter_0\n",
      "2 - C53C0D3572B655B6A8A13A86686D262D   chipscopy_i/noc_tg_bc/noc_bc_axis_ila_0\n"
     ]
    }
   ],
   "source": [
    "# Print out the ILA core instance UUIDs and instance names\n",
    "ila_cores = device.ila_cores\n",
    "for index, ila_core in enumerate(ila_cores):\n",
    "    print(f\"{index} - {ila_core.core_info.uuid}   {ila_core.name}\")"
   ]
  },
  {
   "cell_type": "code",
   "execution_count": 7,
   "id": "894cf173",
   "metadata": {
    "execution": {
     "iopub.execute_input": "2023-10-24T22:09:34.336330Z",
     "iopub.status.busy": "2023-10-24T22:09:34.336136Z",
     "iopub.status.idle": "2023-10-24T22:09:35.896698Z",
     "shell.execute_reply": "2023-10-24T22:09:35.895276Z"
    },
    "lines_to_next_cell": 2,
    "papermill": {
     "duration": 1.568583,
     "end_time": "2023-10-24T22:09:35.898561",
     "exception": false,
     "start_time": "2023-10-24T22:09:34.329978",
     "status": "completed"
    },
    "tags": []
   },
   "outputs": [
    {
     "name": "stdout",
     "output_type": "stream",
     "text": [
      "0 - 718A03DBCD265D969EA5C15840AEFD17   chipscopy_i/counters/vio_fast_counter_0\n",
      "1 - 22BC7ED6C4145AAB88C58EAEDFF2B04C   chipscopy_i/counters/vio_slow_counter_0\n",
      "2 - 021098F58FE659EFAD76657E635E53FE   chipscopy_i/noc_tg_bc/axis_vio_0\n",
      "3 - 0E76DEFA789D564080CFA5332A88DB12   chipscopy_i/noc_tg_bc/noc_tg/inst/u_top_axi_mst/u_tg_top/gen_aximm_reg_space.u_reg_space/gen_vio_status_monitor.u_vio_status_monitor\n"
     ]
    }
   ],
   "source": [
    "# Print out the VIO core instance UUIDs and instance names\n",
    "vio_cores = device.vio_cores\n",
    "for index, vio_core in enumerate(vio_cores):\n",
    "    print(f\"{index} - {vio_core.core_info.uuid}   {vio_core.name}\")"
   ]
  },
  {
   "cell_type": "markdown",
   "id": "6a4abaf6",
   "metadata": {
    "papermill": {
     "duration": 0.005161,
     "end_time": "2023-10-24T22:09:35.911955",
     "exception": false,
     "start_time": "2023-10-24T22:09:35.906794",
     "status": "completed"
    },
    "tags": []
   },
   "source": [
    "## 5 - VIO Control and ILA Capture\n",
    "\n",
    "ILA and VIO are two important building blocks for debugging applications in hardware.\n",
    "This example design design shows how to control IP using a VIO core and capture results with ILA.\n",
    "\n",
    "In this Design,\n",
    "- A VIO core controls the counter (reset, up/down, ce, load)\n",
    "- An ILA core captures the counter values\n"
   ]
  },
  {
   "cell_type": "markdown",
   "id": "92702039",
   "metadata": {
    "papermill": {
     "duration": 0.008487,
     "end_time": "2023-10-24T22:09:35.925407",
     "exception": false,
     "start_time": "2023-10-24T22:09:35.916920",
     "status": "completed"
    },
    "tags": []
   },
   "source": [
    "<img src=\"img/capture_data.png\" width=\"400\" align=\"left\">"
   ]
  },
  {
   "cell_type": "code",
   "execution_count": 8,
   "id": "2bfa8050",
   "metadata": {
    "execution": {
     "iopub.execute_input": "2023-10-24T22:09:35.938368Z",
     "iopub.status.busy": "2023-10-24T22:09:35.937982Z",
     "iopub.status.idle": "2023-10-24T22:09:35.946770Z",
     "shell.execute_reply": "2023-10-24T22:09:35.945898Z"
    },
    "lines_to_next_cell": 2,
    "papermill": {
     "duration": 0.017308,
     "end_time": "2023-10-24T22:09:35.948238",
     "exception": false,
     "start_time": "2023-10-24T22:09:35.930930",
     "status": "completed"
    },
    "tags": []
   },
   "outputs": [
    {
     "name": "stdout",
     "output_type": "stream",
     "text": [
      "Using ILA: 9125D1429AD25223AECDD656C2856755  chipscopy_i/counters/ila_slow_counter_0\n",
      "Using VIO: 22BC7ED6C4145AAB88C58EAEDFF2B04C  chipscopy_i/counters/vio_slow_counter_0\n"
     ]
    }
   ],
   "source": [
    "# Grab the two cores we are interested in for the demonstration\n",
    "# As shown above, a counter is connected to the ILA core.\n",
    "# The VIO core controls the counter.\n",
    "\n",
    "ila = device.ila_cores.get(name=\"chipscopy_i/counters/ila_slow_counter_0\")\n",
    "vio = device.vio_cores.get(name=\"chipscopy_i/counters/vio_slow_counter_0\")\n",
    "\n",
    "print(f\"Using ILA: {ila.core_info.uuid}  {ila.name}\")\n",
    "print(f\"Using VIO: {vio.core_info.uuid}  {vio.name}\")"
   ]
  },
  {
   "cell_type": "markdown",
   "id": "e4f0dd59",
   "metadata": {
    "papermill": {
     "duration": 0.005308,
     "end_time": "2023-10-24T22:09:35.959897",
     "exception": false,
     "start_time": "2023-10-24T22:09:35.954589",
     "status": "completed"
    },
    "tags": []
   },
   "source": [
    "### 5a - Configure the counter using VIO output probes\n",
    "\n",
    "<img src=\"img/vio_control_counter.png\" width=\"300\" align=\"left\">"
   ]
  },
  {
   "cell_type": "code",
   "execution_count": 9,
   "id": "de4a797b",
   "metadata": {
    "execution": {
     "iopub.execute_input": "2023-10-24T22:09:35.973456Z",
     "iopub.status.busy": "2023-10-24T22:09:35.973089Z",
     "iopub.status.idle": "2023-10-24T22:09:35.977863Z",
     "shell.execute_reply": "2023-10-24T22:09:35.976987Z"
    },
    "papermill": {
     "duration": 0.014387,
     "end_time": "2023-10-24T22:09:35.979568",
     "exception": false,
     "start_time": "2023-10-24T22:09:35.965181",
     "status": "completed"
    },
    "tags": []
   },
   "outputs": [
    {
     "name": "stdout",
     "output_type": "stream",
     "text": [
      "VIO Port <---> Probe mapping:\n",
      "probe_in0 <-- chipscopy_i/counters/slow_counter_0_Q\n",
      "probe_out0 --> chipscopy_i/counters/slow_counter_0_CE\n",
      "probe_out1 --> chipscopy_i/counters/slow_counter_0_SCLR\n",
      "probe_out2 --> chipscopy_i/counters/slow_counter_0_UP\n",
      "probe_out3 --> chipscopy_i/counters/slow_counter_0_LOAD\n",
      "probe_out4 --> chipscopy_i/counters/slow_counter_0_L\n"
     ]
    }
   ],
   "source": [
    "# Print all the VIO port and probe names. This is convenient to know which probes are connected to\n",
    "# VIO ports. Also verifies probe names to pass to other functions.\n",
    "\n",
    "print(\"VIO Port <---> Probe mapping:\")\n",
    "for probe in vio.probes:\n",
    "    if probe.direction == \"in\":\n",
    "        print(f\"{probe.port_name} <-- {probe.probe_name}\")\n",
    "    else:\n",
    "        print(f\"{probe.port_name} --> {probe.probe_name}\")"
   ]
  },
  {
   "cell_type": "code",
   "execution_count": 10,
   "id": "64e000e5",
   "metadata": {
    "execution": {
     "iopub.execute_input": "2023-10-24T22:09:35.991483Z",
     "iopub.status.busy": "2023-10-24T22:09:35.991166Z",
     "iopub.status.idle": "2023-10-24T22:09:36.187170Z",
     "shell.execute_reply": "2023-10-24T22:09:36.186233Z"
    },
    "papermill": {
     "duration": 0.203657,
     "end_time": "2023-10-24T22:09:36.188495",
     "exception": false,
     "start_time": "2023-10-24T22:09:35.984838",
     "status": "completed"
    },
    "tags": []
   },
   "outputs": [
    {
     "name": "stdout",
     "output_type": "stream",
     "text": [
      "Counter is now free-running and counting up\n"
     ]
    }
   ],
   "source": [
    "# Set up the VIO core to enable counting up from 0\n",
    "#\n",
    "vio.reset_vio()\n",
    "vio.write_probes(\n",
    "    {\n",
    "        \"chipscopy_i/counters/slow_counter_0_SCLR\": 0,\n",
    "        \"chipscopy_i/counters/slow_counter_0_L\": 0x00000000,\n",
    "        \"chipscopy_i/counters/slow_counter_0_LOAD\": 0,\n",
    "        \"chipscopy_i/counters/slow_counter_0_UP\": 1,\n",
    "        \"chipscopy_i/counters/slow_counter_0_CE\": 1,\n",
    "    }\n",
    ")\n",
    "print(\"Counter is now free-running and counting up\")"
   ]
  },
  {
   "cell_type": "markdown",
   "id": "1e77fbd4",
   "metadata": {
    "papermill": {
     "duration": 0.005099,
     "end_time": "2023-10-24T22:09:36.199532",
     "exception": false,
     "start_time": "2023-10-24T22:09:36.194433",
     "status": "completed"
    },
    "tags": []
   },
   "source": [
    "### 5b - Capture and display free-running counter using the ILA core\n",
    "\n",
    "<img src=\"img/free_running_counter.png\" width=\"350\" align=\"left\">"
   ]
  },
  {
   "cell_type": "code",
   "execution_count": 11,
   "id": "8d00c552",
   "metadata": {
    "execution": {
     "iopub.execute_input": "2023-10-24T22:09:36.210620Z",
     "iopub.status.busy": "2023-10-24T22:09:36.210437Z",
     "iopub.status.idle": "2023-10-24T22:09:37.496881Z",
     "shell.execute_reply": "2023-10-24T22:09:37.495970Z"
    },
    "papermill": {
     "duration": 1.293875,
     "end_time": "2023-10-24T22:09:37.498241",
     "exception": false,
     "start_time": "2023-10-24T22:09:36.204366",
     "status": "completed"
    },
    "tags": []
   },
   "outputs": [
    {
     "name": "stdout",
     "output_type": "stream",
     "text": [
      "ILA is running - looking for trigger\n"
     ]
    }
   ],
   "source": [
    "# Trigger ILA on the free running counter. Trigger set to the first time we see 0s in low 16-bits.\n",
    "# This will show the counter is free running, and counting up\n",
    "\n",
    "ila.reset_probes()\n",
    "ila.set_probe_trigger_value(\"chipscopy_i/counters/slow_counter_0_Q_1\", [\"==\", \"0xXXXX_0000\"])\n",
    "ila.run_basic_trigger(window_count=1, window_size=32, trigger_position=16)\n",
    "print(\"ILA is running - looking for trigger\")"
   ]
  },
  {
   "cell_type": "code",
   "execution_count": 12,
   "id": "f48220fc",
   "metadata": {
    "execution": {
     "iopub.execute_input": "2023-10-24T22:09:37.550841Z",
     "iopub.status.busy": "2023-10-24T22:09:37.550446Z",
     "iopub.status.idle": "2023-10-24T22:09:37.753495Z",
     "shell.execute_reply": "2023-10-24T22:09:37.752508Z"
    },
    "papermill": {
     "duration": 0.211183,
     "end_time": "2023-10-24T22:09:37.754867",
     "exception": false,
     "start_time": "2023-10-24T22:09:37.543684",
     "status": "completed"
    },
    "tags": []
   },
   "outputs": [
    {
     "name": "stdout",
     "output_type": "stream",
     "text": [
      "Window:0  Window Sample:0   562036720  0x217FFFF0 \n",
      "Window:0  Window Sample:1   562036721  0x217FFFF1 \n",
      "Window:0  Window Sample:2   562036722  0x217FFFF2 \n",
      "Window:0  Window Sample:3   562036723  0x217FFFF3 \n",
      "Window:0  Window Sample:4   562036724  0x217FFFF4 \n",
      "Window:0  Window Sample:5   562036725  0x217FFFF5 \n",
      "Window:0  Window Sample:6   562036726  0x217FFFF6 \n",
      "Window:0  Window Sample:7   562036727  0x217FFFF7 \n",
      "Window:0  Window Sample:8   562036728  0x217FFFF8 \n",
      "Window:0  Window Sample:9   562036729  0x217FFFF9 \n",
      "Window:0  Window Sample:10   562036730  0x217FFFFA \n",
      "Window:0  Window Sample:11   562036731  0x217FFFFB \n",
      "Window:0  Window Sample:12   562036732  0x217FFFFC \n",
      "Window:0  Window Sample:13   562036733  0x217FFFFD \n",
      "Window:0  Window Sample:14   562036734  0x217FFFFE \n",
      "Window:0  Window Sample:15   562036735  0x217FFFFF \n",
      "Window:0  Window Sample:16   562036736  0x21800000 <-- Trigger\n",
      "Window:0  Window Sample:17   562036737  0x21800001 \n",
      "Window:0  Window Sample:18   562036738  0x21800002 \n",
      "Window:0  Window Sample:19   562036739  0x21800003 \n",
      "Window:0  Window Sample:20   562036740  0x21800004 \n",
      "Window:0  Window Sample:21   562036741  0x21800005 \n",
      "Window:0  Window Sample:22   562036742  0x21800006 \n",
      "Window:0  Window Sample:23   562036743  0x21800007 \n",
      "Window:0  Window Sample:24   562036744  0x21800008 \n",
      "Window:0  Window Sample:25   562036745  0x21800009 \n",
      "Window:0  Window Sample:26   562036746  0x2180000A \n",
      "Window:0  Window Sample:27   562036747  0x2180000B \n",
      "Window:0  Window Sample:28   562036748  0x2180000C \n",
      "Window:0  Window Sample:29   562036749  0x2180000D \n",
      "Window:0  Window Sample:30   562036750  0x2180000E \n",
      "Window:0  Window Sample:31   562036751  0x2180000F \n"
     ]
    }
   ],
   "source": [
    "# Wait for the ILA trigger with upload.\n",
    "# Then print the captured ILA samples and mark the trigger position.\n",
    "\n",
    "ila.wait_till_done(max_wait_minutes=0.1)\n",
    "upload_successful = ila.upload()\n",
    "if upload_successful:\n",
    "    samples = ila.waveform.get_data(\n",
    "        [\"chipscopy_i/counters/slow_counter_0_Q_1\"],\n",
    "        include_trigger=True,\n",
    "        include_sample_info=True,\n",
    "    )\n",
    "    for trigger, sample_index, window_index, window_sample_index, value in zip(*samples.values()):\n",
    "        trigger = \"<-- Trigger\" if trigger else \"\"\n",
    "        print(\n",
    "            f\"Window:{window_index}  Window Sample:{window_sample_index}  {value:10}  0x{value:08X} {trigger}\"\n",
    "        )\n",
    "else:\n",
    "    print(\"Failed to upload ILA data from core\")"
   ]
  },
  {
   "cell_type": "markdown",
   "id": "897d701b",
   "metadata": {
    "papermill": {
     "duration": 0.005875,
     "end_time": "2023-10-24T22:09:37.766947",
     "exception": false,
     "start_time": "2023-10-24T22:09:37.761072",
     "status": "completed"
    },
    "tags": []
   },
   "source": [
    "### 5c - Trigger ILA using VIO Up/Down virtual switch\n",
    "\n",
    "This step demonstrates how VIO and ILA can be combined to form powerful debug building blocks.\n",
    "\n",
    "ILA is set to trigger when UP/DOWN counter signal edge rises or falls.\n",
    "VIO drives the UP/DOWN counter control signal to 0 causing the counter to count down.\n",
    "The signal transition causes ILA to trigger and capture data.\n",
    "\n",
    "After this step,\n",
    "- VIO drives counter to count from UP to DOWN\n",
    "- ILA triggers on the UP to DOWN signal transition\n",
    "- Waveform uploaded with the up/down trigger sample in the center of captured data\n"
   ]
  },
  {
   "cell_type": "markdown",
   "id": "58fdd7e9",
   "metadata": {
    "papermill": {
     "duration": 0.005214,
     "end_time": "2023-10-24T22:09:37.777794",
     "exception": false,
     "start_time": "2023-10-24T22:09:37.772580",
     "status": "completed"
    },
    "tags": []
   },
   "source": [
    "<img src=\"img/edge_trigger.png\" width=\"550\" align=\"left\">"
   ]
  },
  {
   "cell_type": "code",
   "execution_count": 13,
   "id": "021be3c6",
   "metadata": {
    "execution": {
     "iopub.execute_input": "2023-10-24T22:09:37.791499Z",
     "iopub.status.busy": "2023-10-24T22:09:37.790530Z",
     "iopub.status.idle": "2023-10-24T22:09:38.002598Z",
     "shell.execute_reply": "2023-10-24T22:09:38.001440Z"
    },
    "papermill": {
     "duration": 0.221068,
     "end_time": "2023-10-24T22:09:38.004229",
     "exception": false,
     "start_time": "2023-10-24T22:09:37.783161",
     "status": "completed"
    },
    "tags": []
   },
   "outputs": [
    {
     "name": "stdout",
     "output_type": "stream",
     "text": [
      "ILA is running - looking for trigger\n"
     ]
    }
   ],
   "source": [
    "# Set ILA core to capture on a transition of the UP/DOWN toggle switch\n",
    "# Once transition happens, trigger in the middle of the buffer.\n",
    "\n",
    "ila.reset_probes()\n",
    "ila.set_probe_trigger_value(\"chipscopy_i/counters/slow_counter_0_UP_1\", [\"==\", \"B\"])\n",
    "ila.run_basic_trigger(window_count=1, window_size=32, trigger_position=16)\n",
    "\n",
    "print(\"ILA is running - looking for trigger\")"
   ]
  },
  {
   "cell_type": "code",
   "execution_count": 14,
   "id": "f09528ea",
   "metadata": {
    "execution": {
     "iopub.execute_input": "2023-10-24T22:09:38.017517Z",
     "iopub.status.busy": "2023-10-24T22:09:38.017211Z",
     "iopub.status.idle": "2023-10-24T22:09:38.131646Z",
     "shell.execute_reply": "2023-10-24T22:09:38.130183Z"
    },
    "papermill": {
     "duration": 0.122902,
     "end_time": "2023-10-24T22:09:38.133612",
     "exception": false,
     "start_time": "2023-10-24T22:09:38.010710",
     "status": "completed"
    },
    "tags": []
   },
   "outputs": [
    {
     "name": "stdout",
     "output_type": "stream",
     "text": [
      "VIO changed up/down counter to count down\n"
     ]
    }
   ],
   "source": [
    "# VIO: Turn counter up/down switch to DOWN position.\n",
    "# This will cause the running ILA to trigger on the transition edge from up to down.\n",
    "\n",
    "vio.write_probes({\"chipscopy_i/counters/slow_counter_0_UP\": 0})\n",
    "\n",
    "print(\"VIO changed up/down counter to count down\")"
   ]
  },
  {
   "cell_type": "code",
   "execution_count": 15,
   "id": "ee7b08c2",
   "metadata": {
    "execution": {
     "iopub.execute_input": "2023-10-24T22:09:38.148111Z",
     "iopub.status.busy": "2023-10-24T22:09:38.147777Z",
     "iopub.status.idle": "2023-10-24T22:09:38.392278Z",
     "shell.execute_reply": "2023-10-24T22:09:38.391131Z"
    },
    "papermill": {
     "duration": 0.252872,
     "end_time": "2023-10-24T22:09:38.393841",
     "exception": false,
     "start_time": "2023-10-24T22:09:38.140969",
     "status": "completed"
    },
    "tags": []
   },
   "outputs": [
    {
     "name": "stdout",
     "output_type": "stream",
     "text": [
      "Window:0  Window Sample:0   621822907  0x251043BB \n",
      "Window:0  Window Sample:1   621822908  0x251043BC \n",
      "Window:0  Window Sample:2   621822909  0x251043BD \n",
      "Window:0  Window Sample:3   621822910  0x251043BE \n",
      "Window:0  Window Sample:4   621822911  0x251043BF \n",
      "Window:0  Window Sample:5   621822912  0x251043C0 \n",
      "Window:0  Window Sample:6   621822913  0x251043C1 \n",
      "Window:0  Window Sample:7   621822914  0x251043C2 \n",
      "Window:0  Window Sample:8   621822915  0x251043C3 \n",
      "Window:0  Window Sample:9   621822916  0x251043C4 \n",
      "Window:0  Window Sample:10   621822917  0x251043C5 \n",
      "Window:0  Window Sample:11   621822918  0x251043C6 \n",
      "Window:0  Window Sample:12   621822919  0x251043C7 \n",
      "Window:0  Window Sample:13   621822920  0x251043C8 \n",
      "Window:0  Window Sample:14   621822921  0x251043C9 \n",
      "Window:0  Window Sample:15   621822922  0x251043CA \n",
      "Window:0  Window Sample:16   621822923  0x251043CB <-- Trigger\n",
      "Window:0  Window Sample:17   621822922  0x251043CA \n",
      "Window:0  Window Sample:18   621822921  0x251043C9 \n",
      "Window:0  Window Sample:19   621822920  0x251043C8 \n",
      "Window:0  Window Sample:20   621822919  0x251043C7 \n",
      "Window:0  Window Sample:21   621822918  0x251043C6 \n",
      "Window:0  Window Sample:22   621822917  0x251043C5 \n",
      "Window:0  Window Sample:23   621822916  0x251043C4 \n",
      "Window:0  Window Sample:24   621822915  0x251043C3 \n",
      "Window:0  Window Sample:25   621822914  0x251043C2 \n",
      "Window:0  Window Sample:26   621822913  0x251043C1 \n",
      "Window:0  Window Sample:27   621822912  0x251043C0 \n",
      "Window:0  Window Sample:28   621822911  0x251043BF \n",
      "Window:0  Window Sample:29   621822910  0x251043BE \n",
      "Window:0  Window Sample:30   621822909  0x251043BD \n",
      "Window:0  Window Sample:31   621822908  0x251043BC \n"
     ]
    }
   ],
   "source": [
    "# Print the captured ILA samples and mark the trigger position.\n",
    "# Note that counter counts down after the trigger mark.\n",
    "\n",
    "ila.wait_till_done(max_wait_minutes=0.1)\n",
    "upload_successful = ila.upload()\n",
    "if upload_successful:\n",
    "    samples = ila.waveform.get_data(\n",
    "        [\"chipscopy_i/counters/slow_counter_0_Q_1\"],\n",
    "        include_trigger=True,\n",
    "        include_sample_info=True,\n",
    "    )\n",
    "    for trigger, sample_index, window_index, window_sample_index, value in zip(*samples.values()):\n",
    "        trigger = \"<-- Trigger\" if trigger else \"\"\n",
    "        print(\n",
    "            f\"Window:{window_index}  Window Sample:{window_sample_index}  {value:10}  0x{value:08X} {trigger}\"\n",
    "        )\n",
    "else:\n",
    "    print(\"Failed to upload ILA data from core\")"
   ]
  },
  {
   "cell_type": "markdown",
   "id": "f61d21e8",
   "metadata": {
    "papermill": {
     "duration": 0.006544,
     "end_time": "2023-10-24T22:09:38.407061",
     "exception": false,
     "start_time": "2023-10-24T22:09:38.400517",
     "status": "completed"
    },
    "tags": []
   },
   "source": [
    "## 6 - Waveform Export - VCD (or CSV)\n",
    "\n",
    " Demonstrate how to export waveform data to a VCD file for visualizing waveform in other tools.\n",
    "\n",
    " Export includes complete waveform with probe, _TRIGGER, and _WINDOW.\n",
    "\n",
    " - For CSV export, substitute \"CSV\" for \"VCD\" argument.\n",
    " - To export to a file, substitute the filename for 'sys.stdout'"
   ]
  },
  {
   "cell_type": "code",
   "execution_count": 16,
   "id": "d90ab86c",
   "metadata": {
    "execution": {
     "iopub.execute_input": "2023-10-24T22:09:38.423372Z",
     "iopub.status.busy": "2023-10-24T22:09:38.422943Z",
     "iopub.status.idle": "2023-10-24T22:09:38.429961Z",
     "shell.execute_reply": "2023-10-24T22:09:38.429064Z"
    },
    "papermill": {
     "duration": 0.017081,
     "end_time": "2023-10-24T22:09:38.431554",
     "exception": false,
     "start_time": "2023-10-24T22:09:38.414473",
     "status": "completed"
    },
    "tags": []
   },
   "outputs": [
    {
     "name": "stdout",
     "output_type": "stream",
     "text": [
      "$date\n",
      "        2023-10-24 16:09:38\n",
      "$end\n",
      "$version\n",
      "        ChipScoPy Version 2023.2.1697859156\n",
      "$end\n",
      "$timescale\n",
      "        1ps\n",
      "$end\n",
      "$scope module dut $end\n",
      "$var reg 1 $ chipscopy_i/counters/slow_counter_0_CE_1  $end\n",
      "$var reg 1 % chipscopy_i/counters/slow_counter_0_SCLR_1  $end\n",
      "$var reg 1 & chipscopy_i/counters/slow_counter_0_UP_1  $end\n",
      "$var reg 1 ' chipscopy_i/counters/slow_counter_0_LOAD_1  $end\n",
      "$var reg 32 ( chipscopy_i/counters/slow_counter_0_L_1 [31:0] $end\n",
      "$var reg 32 ) chipscopy_i/counters/slow_counter_0_Q_1 [31:0] $end\n",
      "$var reg 1 * chipscopy_i/counters/ila_slow_counter_0_TRIG_OUT_trig  $end\n",
      "$var reg 1 + chipscopy_i/counters/ila_fast_counter_0_TRIG_IN_ack  $end\n",
      "$var reg 1 , chipscopy_i/counters/ila_fast_counter_0_TRIG_OUT_trig  $end\n",
      "$var reg 1 - chipscopy_i/counters/ila_slow_counter_0_TRIG_IN_ack  $end\n",
      "$var reg 16 . chipscopy_i/counters/slow_sine_Dout [15:0] $end\n",
      "$var reg 16 / chipscopy_i/counters/slow_cosine_Dout [15:0] $end\n",
      "$var reg 1 0 chipscopy_i/counters/locked  $end\n",
      "$var reg 1 ! _TRIGGER $end\n",
      "$var reg 1 \" _WINDOW $end\n",
      "$upscope $end\n",
      "$enddefinitions $end\n",
      "#0\n",
      "0!\n",
      "0\"\n",
      "1$\n",
      "0%\n",
      "1&\n",
      "0'\n",
      "b0 (\n",
      "b100101000100000100001110111011 )\n",
      "0*\n",
      "0+\n",
      "0,\n",
      "0-\n",
      "b1100100111111101 .\n",
      "b111010000001010 /\n",
      "10\n",
      "#1\n",
      "b100101000100000100001110111100 )\n",
      "b1100101010110011 .\n",
      "b111010001011110 /\n",
      "#2\n",
      "b100101000100000100001110111101 )\n",
      "b1100101101101010 .\n",
      "b111010010110001 /\n",
      "#3\n",
      "b100101000100000100001110111110 )\n",
      "b1100110000100010 .\n",
      "b111010100000011 /\n",
      "#4\n",
      "b100101000100000100001110111111 )\n",
      "b1100110011011010 .\n",
      "b111010101010100 /\n",
      "#5\n",
      "b100101000100000100001111000000 )\n",
      "b1100110110010010 .\n",
      "b111010110100100 /\n",
      "#6\n",
      "b100101000100000100001111000001 )\n",
      "b1100111001001011 .\n",
      "b111010111110010 /\n",
      "#7\n",
      "b100101000100000100001111000010 )\n",
      "b1100111100000101 .\n",
      "b111011001000000 /\n",
      "#8\n",
      "b100101000100000100001111000011 )\n",
      "b1100111110111111 .\n",
      "b111011010001100 /\n",
      "#9\n",
      "b100101000100000100001111000100 )\n",
      "b1101000001111001 .\n",
      "b111011011010111 /\n",
      "#10\n",
      "b100101000100000100001111000101 )\n",
      "b1101000100110100 .\n",
      "b111011100100010 /\n",
      "#11\n",
      "b100101000100000100001111000110 )\n",
      "b1101000111110000 .\n",
      "b111011101101010 /\n",
      "#12\n",
      "b100101000100000100001111000111 )\n",
      "b1101001010101011 .\n",
      "b111011110110010 /\n",
      "#13\n",
      "b100101000100000100001111001000 )\n",
      "b1101001101101000 .\n",
      "b111011111111001 /\n",
      "#14\n",
      "b100101000100000100001111001001 )\n",
      "b1101010000100100 .\n",
      "b111100000111110 /\n",
      "#15\n",
      "b100101000100000100001111001010 )\n",
      "b1101010011100001 .\n",
      "b111100010000011 /\n",
      "#16\n",
      "1!\n",
      "0&\n",
      "b100101000100000100001111001011 )\n",
      "b1101010110011111 .\n",
      "b111100011000110 /\n",
      "#17\n",
      "0!\n",
      "b100101000100000100001111001010 )\n",
      "b1101011001011101 .\n",
      "b111100100001000 /\n",
      "#18\n",
      "b100101000100000100001111001001 )\n",
      "b1101011100011011 .\n",
      "b111100101001001 /\n",
      "#19\n",
      "b100101000100000100001111001000 )\n",
      "b1101011001011101 .\n",
      "b111100100001000 /\n",
      "#20\n",
      "b100101000100000100001111000111 )\n",
      "b1101010110011111 .\n",
      "b111100011000110 /\n",
      "#21\n",
      "b100101000100000100001111000110 )\n",
      "b1101010011100001 .\n",
      "b111100010000011 /\n",
      "#22\n",
      "b100101000100000100001111000101 )\n",
      "b1101010000100100 .\n",
      "b111100000111110 /\n",
      "#23\n",
      "b100101000100000100001111000100 )\n",
      "b1101001101101000 .\n",
      "b111011111111001 /\n",
      "#24\n",
      "b100101000100000100001111000011 )\n",
      "b1101001010101011 .\n",
      "b111011110110010 /\n",
      "#25\n",
      "b100101000100000100001111000010 )\n",
      "b1101000111110000 .\n",
      "b111011101101010 /\n",
      "#26\n",
      "b100101000100000100001111000001 )\n",
      "b1101000100110100 .\n",
      "b111011100100010 /\n",
      "#27\n",
      "b100101000100000100001111000000 )\n",
      "b1101000001111001 .\n",
      "b111011011010111 /\n",
      "#28\n",
      "b100101000100000100001110111111 )\n",
      "b1100111110111111 .\n",
      "b111011010001100 /\n",
      "#29\n",
      "b100101000100000100001110111110 )\n",
      "b1100111100000101 .\n",
      "b111011001000000 /\n",
      "#30\n",
      "b100101000100000100001110111101 )\n",
      "b1100111001001011 .\n",
      "b111010111110010 /\n",
      "#31\n",
      "b100101000100000100001110111100 )\n",
      "b1100110110010010 .\n",
      "b111010110100100 /\n"
     ]
    }
   ],
   "source": [
    "if upload_successful:\n",
    "    ila.waveform.export_waveform(\"VCD\", sys.stdout)"
   ]
  },
  {
   "cell_type": "code",
   "execution_count": null,
   "id": "8463f053",
   "metadata": {
    "papermill": {
     "duration": 0.005501,
     "end_time": "2023-10-24T22:09:38.442559",
     "exception": false,
     "start_time": "2023-10-24T22:09:38.437058",
     "status": "completed"
    },
    "tags": []
   },
   "outputs": [],
   "source": []
  }
 ],
 "metadata": {
  "jupytext": {
   "cell_metadata_filter": "-all",
   "main_language": "python",
   "notebook_metadata_filter": "-all"
  },
  "language_info": {
   "codemirror_mode": {
    "name": "ipython",
    "version": 3
   },
   "file_extension": ".py",
   "mimetype": "text/x-python",
   "name": "python",
   "nbconvert_exporter": "python",
   "pygments_lexer": "ipython3",
   "version": "3.10.10"
  },
  "papermill": {
   "default_parameters": {},
   "duration": 18.059182,
   "end_time": "2023-10-24T22:09:38.967180",
   "environment_variables": {},
   "exception": null,
   "input_path": "./chipscopy-examples/ila_and_vio/ila_and_vio.ipynb",
   "output_path": "./chipscopy-examples/ila_and_vio/ila_and_vio.ipynb",
   "parameters": {},
   "start_time": "2023-10-24T22:09:20.907998",
   "version": "2.4.0"
  },
  "widgets": {
   "application/vnd.jupyter.widget-state+json": {
    "state": {
     "267a7e0e06ca4d67950319967cb02ad7": {
      "model_module": "@jupyter-widgets/base",
      "model_module_version": "2.0.0",
      "model_name": "LayoutModel",
      "state": {
       "_model_module": "@jupyter-widgets/base",
       "_model_module_version": "2.0.0",
       "_model_name": "LayoutModel",
       "_view_count": null,
       "_view_module": "@jupyter-widgets/base",
       "_view_module_version": "2.0.0",
       "_view_name": "LayoutView",
       "align_content": null,
       "align_items": null,
       "align_self": null,
       "border_bottom": null,
       "border_left": null,
       "border_right": null,
       "border_top": null,
       "bottom": null,
       "display": null,
       "flex": null,
       "flex_flow": null,
       "grid_area": null,
       "grid_auto_columns": null,
       "grid_auto_flow": null,
       "grid_auto_rows": null,
       "grid_column": null,
       "grid_gap": null,
       "grid_row": null,
       "grid_template_areas": null,
       "grid_template_columns": null,
       "grid_template_rows": null,
       "height": null,
       "justify_content": null,
       "justify_items": null,
       "left": null,
       "margin": null,
       "max_height": null,
       "max_width": null,
       "min_height": null,
       "min_width": null,
       "object_fit": null,
       "object_position": null,
       "order": null,
       "overflow": null,
       "padding": null,
       "right": null,
       "top": null,
       "visibility": null,
       "width": null
      }
     },
     "6016721f98a3456dae7d6abb555f6109": {
      "model_module": "@jupyter-widgets/output",
      "model_module_version": "1.0.0",
      "model_name": "OutputModel",
      "state": {
       "_dom_classes": [],
       "_model_module": "@jupyter-widgets/output",
       "_model_module_version": "1.0.0",
       "_model_name": "OutputModel",
       "_view_count": null,
       "_view_module": "@jupyter-widgets/output",
       "_view_module_version": "1.0.0",
       "_view_name": "OutputView",
       "layout": "IPY_MODEL_267a7e0e06ca4d67950319967cb02ad7",
       "msg_id": "",
       "outputs": [
        {
         "data": {
          "text/html": "<pre style=\"white-space:pre;overflow-x:auto;line-height:normal;font-family:Menlo,'DejaVu Sans Mono',consolas,'Courier New',monospace\">Device program progress <span style=\"color: #729c1f; text-decoration-color: #729c1f\">━━━━━━━━━━━━━━━━━━━━━━━━━━━━━━━━━━━━━━━━</span> <span style=\"color: #ff00ff; text-decoration-color: #ff00ff; font-weight: bold\">100%</span> <span style=\"color: #008000; text-decoration-color: #008000; font-weight: bold\">Done</span>\n</pre>\n",
          "text/plain": "Device program progress \u001b[38;2;114;156;31m━━━━━━━━━━━━━━━━━━━━━━━━━━━━━━━━━━━━━━━━\u001b[0m \u001b[1;95m100%\u001b[0m \u001b[1;32mDone\u001b[0m\n"
         },
         "metadata": {},
         "output_type": "display_data"
        }
       ],
       "tabbable": null,
       "tooltip": null
      }
     }
    },
    "version_major": 2,
    "version_minor": 0
   }
  }
 },
 "nbformat": 4,
 "nbformat_minor": 5
}