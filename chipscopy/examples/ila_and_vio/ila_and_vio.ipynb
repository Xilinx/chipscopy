{
 "cells": [
  {
   "cell_type": "markdown",
   "id": "d245e103",
   "metadata": {
    "papermill": {
     "duration": 0.006924,
     "end_time": "2023-10-20T19:04:14.670094",
     "exception": false,
     "start_time": "2023-10-20T19:04:14.663170",
     "status": "completed"
    },
    "tags": []
   },
   "source": [
    "<link rel=\"preconnect\" href=\"https://fonts.gstatic.com\">\n",
    "<link href=\"https://fonts.googleapis.com/css2?family=Fira+Code&display=swap\" rel=\"stylesheet\">\n",
    "\n",
    "### License\n",
    "\n",
    "<p style=\"font-family: 'Fira Code', monospace; font-size: 1.2rem\">\n",
    "Copyright (C) 2022, Xilinx, Inc.\n",
    "Copyright (C) 2022-2023, Advanced Micro Devices, Inc.\n",
    "<br><br>\n",
    "Licensed under the Apache License, Version 2.0 (the \"License\");<br>\n",
    "you may not use this file except in compliance with the License.<br><br>\n",
    "You may obtain a copy of the License at <a href=\"http://www.apache.org/licenses/LICENSE-2.0\"?>http://www.apache.org/licenses/LICENSE-2.0</a><br><br>\n",
    "Unless required by applicable law or agreed to in writing, software<br>\n",
    "distributed under the License is distributed on an \"AS IS\" BASIS,<br>\n",
    "WITHOUT WARRANTIES OR CONDITIONS OF ANY KIND, either express or implied.<br>\n",
    "See the License for the specific language governing permissions and<br>\n",
    "limitations under the License.<br>\n",
    "</p>\n"
   ]
  },
  {
   "cell_type": "markdown",
   "id": "81fbda3b",
   "metadata": {
    "papermill": {
     "duration": 0.006014,
     "end_time": "2023-10-20T19:04:14.681855",
     "exception": false,
     "start_time": "2023-10-20T19:04:14.675841",
     "status": "completed"
    },
    "tags": []
   },
   "source": [
    "# ChipScoPy ILA and VIO Example\n",
    "\n",
    "\n",
    "<img src=\"../img/api_overview.png\" width=\"500\" align=\"left\">"
   ]
  },
  {
   "cell_type": "markdown",
   "id": "e698f67a",
   "metadata": {
    "papermill": {
     "duration": 0.005272,
     "end_time": "2023-10-20T19:04:14.694647",
     "exception": false,
     "start_time": "2023-10-20T19:04:14.689375",
     "status": "completed"
    },
    "tags": []
   },
   "source": [
    "## Description\n",
    "This example demonstrates how to program and communicate with ILA (Integrated Logic Analyzer) and\n",
    "VIO (Virtual IO) cores using the ChipScoPy Python API.\n",
    "\n",
    "\n",
    "## Requirements\n",
    "- Local or remote Xilinx Versal board, such as a VCK190\n",
    "- Xilinx hw_server 2023.2 installed and running\n",
    "- Xilinx cs_server 2023.2 installed and running\n",
    "- Python 3.8 or greater installed\n",
    "- ChipScoPy 2023.2 installed\n",
    "- Jupyter notebook support installed - Please do so, using the command `pip install chipscopy[jupyter]`"
   ]
  },
  {
   "cell_type": "markdown",
   "id": "ab60225b",
   "metadata": {
    "papermill": {
     "duration": 0.005171,
     "end_time": "2023-10-20T19:04:14.705144",
     "exception": false,
     "start_time": "2023-10-20T19:04:14.699973",
     "status": "completed"
    },
    "tags": []
   },
   "source": [
    "## 1 - Initialization: Imports and File Paths\n",
    "\n",
    "After this step,\n",
    "- Required functions and classes are imported\n",
    "- URL paths are set correctly\n",
    "- File paths to example files are set correctly"
   ]
  },
  {
   "cell_type": "code",
   "execution_count": 1,
   "id": "e2e79592",
   "metadata": {
    "execution": {
     "iopub.execute_input": "2023-10-20T19:04:14.717536Z",
     "iopub.status.busy": "2023-10-20T19:04:14.717197Z",
     "iopub.status.idle": "2023-10-20T19:04:15.010144Z",
     "shell.execute_reply": "2023-10-20T19:04:15.009169Z"
    },
    "papermill": {
     "duration": 0.302031,
     "end_time": "2023-10-20T19:04:15.012407",
     "exception": false,
     "start_time": "2023-10-20T19:04:14.710376",
     "status": "completed"
    },
    "tags": []
   },
   "outputs": [],
   "source": [
    "import sys\n",
    "import os\n",
    "from chipscopy import get_design_files\n",
    "from chipscopy import create_session, report_versions"
   ]
  },
  {
   "cell_type": "code",
   "execution_count": 2,
   "id": "5132ba75",
   "metadata": {
    "execution": {
     "iopub.execute_input": "2023-10-20T19:04:15.026223Z",
     "iopub.status.busy": "2023-10-20T19:04:15.025845Z",
     "iopub.status.idle": "2023-10-20T19:04:15.038248Z",
     "shell.execute_reply": "2023-10-20T19:04:15.037356Z"
    },
    "lines_to_next_cell": 2,
    "papermill": {
     "duration": 0.021012,
     "end_time": "2023-10-20T19:04:15.039572",
     "exception": false,
     "start_time": "2023-10-20T19:04:15.018560",
     "status": "completed"
    },
    "tags": []
   },
   "outputs": [
    {
     "name": "stdout",
     "output_type": "stream",
     "text": [
      "HW_URL: TCP:localhost:3121\n",
      "CS_URL: TCP:localhost:3042\n",
      "PROGRAMMING_FILE: /wrk/xcohdnobkup3/dkopelov/chipscopy/chipscopy/examples/designs/vck190/production/chipscopy_ced/chipscopy_wrapper.pdi\n",
      "PROBES_FILE:/wrk/xcohdnobkup3/dkopelov/chipscopy/chipscopy/examples/designs/vck190/production/chipscopy_ced/chipscopy_wrapper.ltx\n"
     ]
    }
   ],
   "source": [
    "# Make sure to start the hw_server and cs_server prior to running.\n",
    "# Specify locations of the running hw_server and cs_server below.\n",
    "# The default is localhost - but can be other locations on the network.\n",
    "CS_URL = os.getenv(\"CS_SERVER_URL\", \"TCP:localhost:3042\")\n",
    "HW_URL = os.getenv(\"HW_SERVER_URL\", \"TCP:localhost:3121\")\n",
    "\n",
    "# specify hw and if programming is desired\n",
    "HW_PLATFORM = os.getenv(\"HW_PLATFORM\", \"vck190\")\n",
    "PROG_DEVICE = os.getenv(\"PROG_DEVICE\", True)\n",
    "\n",
    "# The get_design_files() function tries to find the PDI and LTX files. In non-standard\n",
    "# configurations, you can put the path for PROGRAMMING_FILE and PROBES_FILE below.\n",
    "design_files = get_design_files(f\"{HW_PLATFORM}/production/chipscopy_ced\")\n",
    "\n",
    "PROGRAMMING_FILE = design_files.programming_file\n",
    "PROBES_FILE = design_files.probes_file\n",
    "\n",
    "print(f\"HW_URL: {HW_URL}\")\n",
    "print(f\"CS_URL: {CS_URL}\")\n",
    "print(f\"PROGRAMMING_FILE: {PROGRAMMING_FILE}\")\n",
    "print(f\"PROBES_FILE:{PROBES_FILE}\")"
   ]
  },
  {
   "cell_type": "markdown",
   "id": "2a4adfbc",
   "metadata": {
    "papermill": {
     "duration": 0.005412,
     "end_time": "2023-10-20T19:04:15.050496",
     "exception": false,
     "start_time": "2023-10-20T19:04:15.045084",
     "status": "completed"
    },
    "tags": []
   },
   "source": [
    "## 2 - Create a session and connect to the hw_server and cs_server\n",
    "\n",
    "The session is a container that keeps track of devices and debug cores.\n",
    "After this step,\n",
    "- Session is initialized and connected to server(s)\n",
    "- Versions are detected and reported to stdout"
   ]
  },
  {
   "cell_type": "code",
   "execution_count": 3,
   "id": "74f36cfc",
   "metadata": {
    "execution": {
     "iopub.execute_input": "2023-10-20T19:04:15.062397Z",
     "iopub.status.busy": "2023-10-20T19:04:15.062197Z",
     "iopub.status.idle": "2023-10-20T19:04:16.280910Z",
     "shell.execute_reply": "2023-10-20T19:04:16.280030Z"
    },
    "papermill": {
     "duration": 1.226571,
     "end_time": "2023-10-20T19:04:16.282457",
     "exception": false,
     "start_time": "2023-10-20T19:04:15.055886",
     "status": "completed"
    },
    "tags": []
   },
   "outputs": [
    {
     "data": {
      "text/html": [
       "<pre style=\"white-space:pre;overflow-x:auto;line-height:normal;font-family:Menlo,'DejaVu Sans Mono',consolas,'Courier New',monospace\">\n",
       "\n",
       "</pre>\n"
      ],
      "text/plain": [
       "<rich.jupyter.JupyterRenderable at 0x7fc60006d640>"
      ]
     },
     "metadata": {},
     "output_type": "display_data"
    },
    {
     "data": {
      "text/html": [
       "<pre style=\"white-space:pre;overflow-x:auto;line-height:normal;font-family:Menlo,'DejaVu Sans Mono',consolas,'Courier New',monospace\"><span style=\"font-style: italic\">                      ChipScoPy Version Information                      </span>\n",
       "┌────────────────────────────┬──────────────────────────────────────────┐\n",
       "│<span style=\"font-weight: bold\">                     Entity </span>│<span style=\"font-weight: bold\"> Version                                  </span>│\n",
       "├────────────────────────────┼──────────────────────────────────────────┤\n",
       "│                  ChipScoPy │ ┌───────────┬──────────────────────┐     │\n",
       "│                            │ │<span style=\"font-weight: bold\"> Attribute </span>│<span style=\"font-weight: bold\"> Value                </span>│     │\n",
       "│                            │ ├───────────┼──────────────────────┤     │\n",
       "│                            │ │     Build │ 2023.2.1693353190    │     │\n",
       "│                            │ │ Timestamp │ Aug 29 2023-17:53:10 │     │\n",
       "│                            │ └───────────┴──────────────────────┘     │\n",
       "│                            │                                          │\n",
       "│ hw_server @ localhost:3121 │ ┌───────────┬──────────────────────────┐ │\n",
       "│                            │ │<span style=\"font-weight: bold\"> Attribute </span>│<span style=\"font-weight: bold\"> Value                    </span>│ │\n",
       "│                            │ ├───────────┼──────────────────────────┤ │\n",
       "│                            │ │    Status │ Connected                │ │\n",
       "│                            │ │     Build │ 1683493450               │ │\n",
       "│                            │ │   Version │ 2023.1                   │ │\n",
       "│                            │ │ Timestamp │ Sun May  7 15:04:10 2023 │ │\n",
       "│                            │ └───────────┴──────────────────────────┘ │\n",
       "│                            │                                          │\n",
       "│ cs_server @ localhost:3042 │ ┌───────────────┬──────────────────────┐ │\n",
       "│                            │ │<span style=\"font-weight: bold\">     Attribute </span>│<span style=\"font-weight: bold\"> Value                </span>│ │\n",
       "│                            │ ├───────────────┼──────────────────────┤ │\n",
       "│                            │ │        Status │ Connected            │ │\n",
       "│                            │ │         Build │ 1696910516           │ │\n",
       "│                            │ │       Version │ 2023.2.0             │ │\n",
       "│                            │ │     Timestamp │ Oct 09 2023-22:01:56 │ │\n",
       "│                            │ │       Package │ 2023.2.1696910516    │ │\n",
       "│                            │ │ Artifact type │ pyinstaller          │ │\n",
       "│                            │ └───────────────┴──────────────────────┘ │\n",
       "└────────────────────────────┴──────────────────────────────────────────┘\n",
       "</pre>\n"
      ],
      "text/plain": [
       "<rich.jupyter.JupyterRenderable at 0x7fc600072ee0>"
      ]
     },
     "metadata": {},
     "output_type": "display_data"
    },
    {
     "data": {
      "text/html": [
       "<pre style=\"white-space:pre;overflow-x:auto;line-height:normal;font-family:Menlo,'DejaVu Sans Mono',consolas,'Courier New',monospace\">\n",
       "\n",
       "</pre>\n"
      ],
      "text/plain": [
       "<rich.jupyter.JupyterRenderable at 0x7fc600039f70>"
      ]
     },
     "metadata": {},
     "output_type": "display_data"
    }
   ],
   "source": [
    "session = create_session(cs_server_url=CS_URL, hw_server_url=HW_URL)\n",
    "report_versions(session)"
   ]
  },
  {
   "cell_type": "markdown",
   "id": "03079d15",
   "metadata": {
    "papermill": {
     "duration": 0.006245,
     "end_time": "2023-10-20T19:04:16.295593",
     "exception": false,
     "start_time": "2023-10-20T19:04:16.289348",
     "status": "completed"
    },
    "tags": []
   },
   "source": [
    "## 3 - Program the device with the example design\n",
    "\n",
    "After this step,\n",
    "- Device is programmed with the example programming file"
   ]
  },
  {
   "cell_type": "code",
   "execution_count": 4,
   "id": "6cfb61c7",
   "metadata": {
    "execution": {
     "iopub.execute_input": "2023-10-20T19:04:16.309267Z",
     "iopub.status.busy": "2023-10-20T19:04:16.309060Z",
     "iopub.status.idle": "2023-10-20T19:04:21.523222Z",
     "shell.execute_reply": "2023-10-20T19:04:21.522100Z"
    },
    "lines_to_next_cell": 2,
    "papermill": {
     "duration": 5.224083,
     "end_time": "2023-10-20T19:04:21.525846",
     "exception": false,
     "start_time": "2023-10-20T19:04:16.301763",
     "status": "completed"
    },
    "tags": []
   },
   "outputs": [
    {
     "data": {
      "text/html": [
       "<pre style=\"white-space:pre;overflow-x:auto;line-height:normal;font-family:Menlo,'DejaVu Sans Mono',consolas,'Courier New',monospace\">\n",
       "<span style=\"font-weight: bold\">--&gt; INFO: </span>Programming device with: /wrk/xcohdnobkup3/dkopelov/chipscopy/chipscopy/examples/de\n",
       "signs/vck190/production/chipscopy_ced/chipscopy_wrapper.pdi\n",
       "    \n",
       "</pre>\n"
      ],
      "text/plain": [
       "<rich.jupyter.JupyterRenderable at 0x7fc6000607c0>"
      ]
     },
     "metadata": {},
     "output_type": "display_data"
    },
    {
     "name": "stderr",
     "output_type": "stream",
     "text": [
      "/wrk/xcohdnobkup3/dkopelov/chipscopy/chipscopy-venv-py38/lib/python3.8/site-packages/rich/live.py:216: UserWarning: install \"ipywidgets\" for Jupyter support\n",
      "  warnings.warn('install \"ipywidgets\" for Jupyter support')\n"
     ]
    }
   ],
   "source": [
    "# Typical case - one device on the board - get it.\n",
    "device = session.devices.filter_by(family=\"versal\").get()\n",
    "device.program(PROGRAMMING_FILE)"
   ]
  },
  {
   "cell_type": "markdown",
   "id": "9011ad99",
   "metadata": {
    "papermill": {
     "duration": 0.007777,
     "end_time": "2023-10-20T19:04:21.541014",
     "exception": false,
     "start_time": "2023-10-20T19:04:21.533237",
     "status": "completed"
    },
    "tags": []
   },
   "source": [
    "## 4 - Discover Debug Cores\n",
    "\n",
    "Debug core discovery initializes the chipscope server debug cores. This brings debug cores in the chipscope server online.\n",
    "\n",
    "After this step,\n",
    "\n",
    "- The cs_server is initialized and ready for use\n",
    "- ILA and VIO core instances in the device are reported"
   ]
  },
  {
   "cell_type": "code",
   "execution_count": 5,
   "id": "7b4b20e9",
   "metadata": {
    "execution": {
     "iopub.execute_input": "2023-10-20T19:04:21.558238Z",
     "iopub.status.busy": "2023-10-20T19:04:21.557270Z",
     "iopub.status.idle": "2023-10-20T19:04:21.629847Z",
     "shell.execute_reply": "2023-10-20T19:04:21.628840Z"
    },
    "papermill": {
     "duration": 0.08377,
     "end_time": "2023-10-20T19:04:21.631444",
     "exception": false,
     "start_time": "2023-10-20T19:04:21.547674",
     "status": "completed"
    },
    "tags": []
   },
   "outputs": [
    {
     "name": "stdout",
     "output_type": "stream",
     "text": [
      "Debug cores setup and ready for use.\n"
     ]
    }
   ],
   "source": [
    "device.discover_and_setup_cores(ltx_file=PROBES_FILE)\n",
    "print(f\"Debug cores setup and ready for use.\")"
   ]
  },
  {
   "cell_type": "code",
   "execution_count": 6,
   "id": "af3f4849",
   "metadata": {
    "execution": {
     "iopub.execute_input": "2023-10-20T19:04:21.648010Z",
     "iopub.status.busy": "2023-10-20T19:04:21.646998Z",
     "iopub.status.idle": "2023-10-20T19:04:23.144504Z",
     "shell.execute_reply": "2023-10-20T19:04:23.143501Z"
    },
    "papermill": {
     "duration": 1.507488,
     "end_time": "2023-10-20T19:04:23.146365",
     "exception": false,
     "start_time": "2023-10-20T19:04:21.638877",
     "status": "completed"
    },
    "tags": []
   },
   "outputs": [
    {
     "name": "stdout",
     "output_type": "stream",
     "text": [
      "0 - D62FB110F1A25D439EB15D9149F450CE   chipscopy_i/counters/ila_fast_counter_0\n",
      "1 - 9125D1429AD25223AECDD656C2856755   chipscopy_i/counters/ila_slow_counter_0\n",
      "2 - C53C0D3572B655B6A8A13A86686D262D   chipscopy_i/noc_tg_bc/noc_bc_axis_ila_0\n"
     ]
    }
   ],
   "source": [
    "# Print out the ILA core instance UUIDs and instance names\n",
    "ila_cores = device.ila_cores\n",
    "for index, ila_core in enumerate(ila_cores):\n",
    "    print(f\"{index} - {ila_core.core_info.uuid}   {ila_core.name}\")"
   ]
  },
  {
   "cell_type": "code",
   "execution_count": 7,
   "id": "894cf173",
   "metadata": {
    "execution": {
     "iopub.execute_input": "2023-10-20T19:04:23.162382Z",
     "iopub.status.busy": "2023-10-20T19:04:23.161505Z",
     "iopub.status.idle": "2023-10-20T19:04:24.744029Z",
     "shell.execute_reply": "2023-10-20T19:04:24.742974Z"
    },
    "lines_to_next_cell": 2,
    "papermill": {
     "duration": 1.59196,
     "end_time": "2023-10-20T19:04:24.745941",
     "exception": false,
     "start_time": "2023-10-20T19:04:23.153981",
     "status": "completed"
    },
    "tags": []
   },
   "outputs": [
    {
     "name": "stdout",
     "output_type": "stream",
     "text": [
      "0 - 718A03DBCD265D969EA5C15840AEFD17   chipscopy_i/counters/vio_fast_counter_0\n",
      "1 - 22BC7ED6C4145AAB88C58EAEDFF2B04C   chipscopy_i/counters/vio_slow_counter_0\n",
      "2 - 021098F58FE659EFAD76657E635E53FE   chipscopy_i/noc_tg_bc/axis_vio_0\n",
      "3 - 0E76DEFA789D564080CFA5332A88DB12   chipscopy_i/noc_tg_bc/noc_tg/inst/u_top_axi_mst/u_tg_top/gen_aximm_reg_space.u_reg_space/gen_vio_status_monitor.u_vio_status_monitor\n"
     ]
    }
   ],
   "source": [
    "# Print out the VIO core instance UUIDs and instance names\n",
    "vio_cores = device.vio_cores\n",
    "for index, vio_core in enumerate(vio_cores):\n",
    "    print(f\"{index} - {vio_core.core_info.uuid}   {vio_core.name}\")"
   ]
  },
  {
   "cell_type": "markdown",
   "id": "6a4abaf6",
   "metadata": {
    "papermill": {
     "duration": 0.006536,
     "end_time": "2023-10-20T19:04:24.761324",
     "exception": false,
     "start_time": "2023-10-20T19:04:24.754788",
     "status": "completed"
    },
    "tags": []
   },
   "source": [
    "## 5 - VIO Control and ILA Capture\n",
    "\n",
    "ILA and VIO are two important building blocks for debugging applications in hardware.\n",
    "This example design design shows how to control IP using a VIO core and capture results with ILA.\n",
    "\n",
    "In this Design,\n",
    "- A VIO core controls the counter (reset, up/down, ce, load)\n",
    "- An ILA core captures the counter values\n"
   ]
  },
  {
   "cell_type": "markdown",
   "id": "92702039",
   "metadata": {
    "papermill": {
     "duration": 0.006803,
     "end_time": "2023-10-20T19:04:24.774631",
     "exception": false,
     "start_time": "2023-10-20T19:04:24.767828",
     "status": "completed"
    },
    "tags": []
   },
   "source": [
    "<img src=\"img/capture_data.png\" width=\"400\" align=\"left\">"
   ]
  },
  {
   "cell_type": "code",
   "execution_count": 8,
   "id": "2bfa8050",
   "metadata": {
    "execution": {
     "iopub.execute_input": "2023-10-20T19:04:24.790317Z",
     "iopub.status.busy": "2023-10-20T19:04:24.789404Z",
     "iopub.status.idle": "2023-10-20T19:04:24.799098Z",
     "shell.execute_reply": "2023-10-20T19:04:24.798211Z"
    },
    "lines_to_next_cell": 2,
    "papermill": {
     "duration": 0.019301,
     "end_time": "2023-10-20T19:04:24.800554",
     "exception": false,
     "start_time": "2023-10-20T19:04:24.781253",
     "status": "completed"
    },
    "tags": []
   },
   "outputs": [
    {
     "name": "stdout",
     "output_type": "stream",
     "text": [
      "Using ILA: 9125D1429AD25223AECDD656C2856755  chipscopy_i/counters/ila_slow_counter_0\n",
      "Using VIO: 22BC7ED6C4145AAB88C58EAEDFF2B04C  chipscopy_i/counters/vio_slow_counter_0\n"
     ]
    }
   ],
   "source": [
    "# Grab the two cores we are interested in for the demonstration\n",
    "# As shown above, a counter is connected to the ILA core.\n",
    "# The VIO core controls the counter.\n",
    "\n",
    "ila = device.ila_cores.get(name=\"chipscopy_i/counters/ila_slow_counter_0\")\n",
    "vio = device.vio_cores.get(name=\"chipscopy_i/counters/vio_slow_counter_0\")\n",
    "\n",
    "print(f\"Using ILA: {ila.core_info.uuid}  {ila.name}\")\n",
    "print(f\"Using VIO: {vio.core_info.uuid}  {vio.name}\")"
   ]
  },
  {
   "cell_type": "markdown",
   "id": "e4f0dd59",
   "metadata": {
    "papermill": {
     "duration": 0.006981,
     "end_time": "2023-10-20T19:04:24.814455",
     "exception": false,
     "start_time": "2023-10-20T19:04:24.807474",
     "status": "completed"
    },
    "tags": []
   },
   "source": [
    "### 5a - Configure the counter using VIO output probes\n",
    "\n",
    "<img src=\"img/vio_control_counter.png\" width=\"300\" align=\"left\">"
   ]
  },
  {
   "cell_type": "code",
   "execution_count": 9,
   "id": "de4a797b",
   "metadata": {
    "execution": {
     "iopub.execute_input": "2023-10-20T19:04:24.829275Z",
     "iopub.status.busy": "2023-10-20T19:04:24.829025Z",
     "iopub.status.idle": "2023-10-20T19:04:24.834334Z",
     "shell.execute_reply": "2023-10-20T19:04:24.833554Z"
    },
    "papermill": {
     "duration": 0.01466,
     "end_time": "2023-10-20T19:04:24.835844",
     "exception": false,
     "start_time": "2023-10-20T19:04:24.821184",
     "status": "completed"
    },
    "tags": []
   },
   "outputs": [
    {
     "name": "stdout",
     "output_type": "stream",
     "text": [
      "VIO Port <---> Probe mapping:\n",
      "probe_in0 <-- chipscopy_i/counters/slow_counter_0_Q\n",
      "probe_out0 --> chipscopy_i/counters/slow_counter_0_CE\n",
      "probe_out1 --> chipscopy_i/counters/slow_counter_0_SCLR\n",
      "probe_out2 --> chipscopy_i/counters/slow_counter_0_UP\n",
      "probe_out3 --> chipscopy_i/counters/slow_counter_0_LOAD\n",
      "probe_out4 --> chipscopy_i/counters/slow_counter_0_L\n"
     ]
    }
   ],
   "source": [
    "# Print all the VIO port and probe names. This is convenient to know which probes are connected to\n",
    "# VIO ports. Also verifies probe names to pass to other functions.\n",
    "\n",
    "print(\"VIO Port <---> Probe mapping:\")\n",
    "for probe in vio.probes:\n",
    "    if probe.direction == \"in\":\n",
    "        print(f\"{probe.port_name} <-- {probe.probe_name}\")\n",
    "    else:\n",
    "        print(f\"{probe.port_name} --> {probe.probe_name}\")"
   ]
  },
  {
   "cell_type": "code",
   "execution_count": 10,
   "id": "64e000e5",
   "metadata": {
    "execution": {
     "iopub.execute_input": "2023-10-20T19:04:24.852068Z",
     "iopub.status.busy": "2023-10-20T19:04:24.851744Z",
     "iopub.status.idle": "2023-10-20T19:04:25.036589Z",
     "shell.execute_reply": "2023-10-20T19:04:25.035407Z"
    },
    "papermill": {
     "duration": 0.195303,
     "end_time": "2023-10-20T19:04:25.038151",
     "exception": false,
     "start_time": "2023-10-20T19:04:24.842848",
     "status": "completed"
    },
    "tags": []
   },
   "outputs": [
    {
     "name": "stdout",
     "output_type": "stream",
     "text": [
      "Counter is now free-running and counting up"
     ]
    },
    {
     "name": "stdout",
     "output_type": "stream",
     "text": [
      "\n"
     ]
    }
   ],
   "source": [
    "# Set up the VIO core to enable counting up from 0\n",
    "#\n",
    "vio.reset_vio()\n",
    "vio.write_probes(\n",
    "    {\n",
    "        \"chipscopy_i/counters/slow_counter_0_SCLR\": 0,\n",
    "        \"chipscopy_i/counters/slow_counter_0_L\": 0x00000000,\n",
    "        \"chipscopy_i/counters/slow_counter_0_LOAD\": 0,\n",
    "        \"chipscopy_i/counters/slow_counter_0_UP\": 1,\n",
    "        \"chipscopy_i/counters/slow_counter_0_CE\": 1,\n",
    "    }\n",
    ")\n",
    "print(\"Counter is now free-running and counting up\")"
   ]
  },
  {
   "cell_type": "markdown",
   "id": "1e77fbd4",
   "metadata": {
    "papermill": {
     "duration": 0.0084,
     "end_time": "2023-10-20T19:04:25.054988",
     "exception": false,
     "start_time": "2023-10-20T19:04:25.046588",
     "status": "completed"
    },
    "tags": []
   },
   "source": [
    "### 5b - Capture and display free-running counter using the ILA core\n",
    "\n",
    "<img src=\"img/free_running_counter.png\" width=\"350\" align=\"left\">"
   ]
  },
  {
   "cell_type": "code",
   "execution_count": 11,
   "id": "8d00c552",
   "metadata": {
    "execution": {
     "iopub.execute_input": "2023-10-20T19:04:25.080252Z",
     "iopub.status.busy": "2023-10-20T19:04:25.075135Z",
     "iopub.status.idle": "2023-10-20T19:04:26.355284Z",
     "shell.execute_reply": "2023-10-20T19:04:26.353768Z"
    },
    "papermill": {
     "duration": 1.29461,
     "end_time": "2023-10-20T19:04:26.357542",
     "exception": false,
     "start_time": "2023-10-20T19:04:25.062932",
     "status": "completed"
    },
    "tags": []
   },
   "outputs": [
    {
     "name": "stdout",
     "output_type": "stream",
     "text": [
      "ILA is running - looking for trigger\n"
     ]
    }
   ],
   "source": [
    "# Trigger ILA on the free running counter. Trigger set to the first time we see 0s in low 16-bits.\n",
    "# This will show the counter is free running, and counting up\n",
    "\n",
    "ila.reset_probes()\n",
    "ila.set_probe_trigger_value(\"chipscopy_i/counters/slow_counter_0_Q_1\", [\"==\", \"0xXXXX_0000\"])\n",
    "ila.run_basic_trigger(window_count=1, window_size=32, trigger_position=16)\n",
    "print(\"ILA is running - looking for trigger\")"
   ]
  },
  {
   "cell_type": "code",
   "execution_count": 12,
   "id": "f48220fc",
   "metadata": {
    "execution": {
     "iopub.execute_input": "2023-10-20T19:04:26.376110Z",
     "iopub.status.busy": "2023-10-20T19:04:26.375549Z",
     "iopub.status.idle": "2023-10-20T19:04:26.621914Z",
     "shell.execute_reply": "2023-10-20T19:04:26.620842Z"
    },
    "papermill": {
     "duration": 0.258569,
     "end_time": "2023-10-20T19:04:26.624336",
     "exception": false,
     "start_time": "2023-10-20T19:04:26.365767",
     "status": "completed"
    },
    "tags": []
   },
   "outputs": [
    {
     "name": "stdout",
     "output_type": "stream",
     "text": [
      "Window:0  Window Sample:0   488570864  0x1D1EFFF0 \n",
      "Window:0  Window Sample:1   488570865  0x1D1EFFF1 \n",
      "Window:0  Window Sample:2   488570866  0x1D1EFFF2 \n",
      "Window:0  Window Sample:3   488570867  0x1D1EFFF3 \n",
      "Window:0  Window Sample:4   488570868  0x1D1EFFF4 \n",
      "Window:0  Window Sample:5   488570869  0x1D1EFFF5 \n",
      "Window:0  Window Sample:6   488570870  0x1D1EFFF6 \n",
      "Window:0  Window Sample:7   488570871  0x1D1EFFF7 \n",
      "Window:0  Window Sample:8   488570872  0x1D1EFFF8 \n",
      "Window:0  Window Sample:9   488570873  0x1D1EFFF9 \n",
      "Window:0  Window Sample:10   488570874  0x1D1EFFFA \n",
      "Window:0  Window Sample:11   488570875  0x1D1EFFFB \n",
      "Window:0  Window Sample:12   488570876  0x1D1EFFFC \n",
      "Window:0  Window Sample:13   488570877  0x1D1EFFFD \n",
      "Window:0  Window Sample:14   488570878  0x1D1EFFFE \n",
      "Window:0  Window Sample:15   488570879  0x1D1EFFFF \n",
      "Window:0  Window Sample:16   488570880  0x1D1F0000 <-- Trigger\n",
      "Window:0  Window Sample:17   488570881  0x1D1F0001 \n",
      "Window:0  Window Sample:18   488570882  0x1D1F0002 \n",
      "Window:0  Window Sample:19   488570883  0x1D1F0003 \n",
      "Window:0  Window Sample:20   488570884  0x1D1F0004 \n",
      "Window:0  Window Sample:21   488570885  0x1D1F0005 \n",
      "Window:0  Window Sample:22   488570886  0x1D1F0006 \n",
      "Window:0  Window Sample:23   488570887  0x1D1F0007 \n",
      "Window:0  Window Sample:24   488570888  0x1D1F0008 \n",
      "Window:0  Window Sample:25   488570889  0x1D1F0009 \n",
      "Window:0  Window Sample:26   488570890  0x1D1F000A \n",
      "Window:0  Window Sample:27   488570891  0x1D1F000B \n",
      "Window:0  Window Sample:28   488570892  0x1D1F000C \n",
      "Window:0  Window Sample:29   488570893  0x1D1F000D \n",
      "Window:0  Window Sample:30   488570894  0x1D1F000E \n",
      "Window:0  Window Sample:31   488570895  0x1D1F000F \n"
     ]
    }
   ],
   "source": [
    "# Wait for the ILA trigger with upload.\n",
    "# Then print the captured ILA samples and mark the trigger position.\n",
    "\n",
    "ila.wait_till_done(max_wait_minutes=0.1)\n",
    "upload_successful = ila.upload()\n",
    "if upload_successful:\n",
    "    samples = ila.waveform.get_data(\n",
    "        [\"chipscopy_i/counters/slow_counter_0_Q_1\"],\n",
    "        include_trigger=True,\n",
    "        include_sample_info=True,\n",
    "    )\n",
    "    for trigger, sample_index, window_index, window_sample_index, value in zip(*samples.values()):\n",
    "        trigger = \"<-- Trigger\" if trigger else \"\"\n",
    "        print(\n",
    "            f\"Window:{window_index}  Window Sample:{window_sample_index}  {value:10}  0x{value:08X} {trigger}\"\n",
    "        )\n",
    "else:\n",
    "    print(\"Failed to upload ILA data from core\")"
   ]
  },
  {
   "cell_type": "markdown",
   "id": "897d701b",
   "metadata": {
    "papermill": {
     "duration": 0.008451,
     "end_time": "2023-10-20T19:04:26.642394",
     "exception": false,
     "start_time": "2023-10-20T19:04:26.633943",
     "status": "completed"
    },
    "tags": []
   },
   "source": [
    "### 5c - Trigger ILA using VIO Up/Down virtual switch\n",
    "\n",
    "This step demonstrates how VIO and ILA can be combined to form powerful debug building blocks.\n",
    "\n",
    "ILA is set to trigger when UP/DOWN counter signal edge rises or falls.\n",
    "VIO drives the UP/DOWN counter control signal to 0 causing the counter to count down.\n",
    "The signal transition causes ILA to trigger and capture data.\n",
    "\n",
    "After this step,\n",
    "- VIO drives counter to count from UP to DOWN\n",
    "- ILA triggers on the UP to DOWN signal transition\n",
    "- Waveform uploaded with the up/down trigger sample in the center of captured data\n"
   ]
  },
  {
   "cell_type": "markdown",
   "id": "58fdd7e9",
   "metadata": {
    "papermill": {
     "duration": 0.007217,
     "end_time": "2023-10-20T19:04:26.657839",
     "exception": false,
     "start_time": "2023-10-20T19:04:26.650622",
     "status": "completed"
    },
    "tags": []
   },
   "source": [
    "<img src=\"img/edge_trigger.png\" width=\"550\" align=\"left\">"
   ]
  },
  {
   "cell_type": "code",
   "execution_count": 13,
   "id": "021be3c6",
   "metadata": {
    "execution": {
     "iopub.execute_input": "2023-10-20T19:04:26.715737Z",
     "iopub.status.busy": "2023-10-20T19:04:26.715330Z",
     "iopub.status.idle": "2023-10-20T19:04:26.917328Z",
     "shell.execute_reply": "2023-10-20T19:04:26.916272Z"
    },
    "papermill": {
     "duration": 0.212594,
     "end_time": "2023-10-20T19:04:26.918944",
     "exception": false,
     "start_time": "2023-10-20T19:04:26.706350",
     "status": "completed"
    },
    "tags": []
   },
   "outputs": [
    {
     "name": "stdout",
     "output_type": "stream",
     "text": [
      "ILA is running - looking for trigger\n"
     ]
    }
   ],
   "source": [
    "# Set ILA core to capture on a transition of the UP/DOWN toggle switch\n",
    "# Once transition happens, trigger in the middle of the buffer.\n",
    "\n",
    "ila.reset_probes()\n",
    "ila.set_probe_trigger_value(\"chipscopy_i/counters/slow_counter_0_UP_1\", [\"==\", \"B\"])\n",
    "ila.run_basic_trigger(window_count=1, window_size=32, trigger_position=16)\n",
    "\n",
    "print(\"ILA is running - looking for trigger\")"
   ]
  },
  {
   "cell_type": "code",
   "execution_count": 14,
   "id": "f09528ea",
   "metadata": {
    "execution": {
     "iopub.execute_input": "2023-10-20T19:04:26.938092Z",
     "iopub.status.busy": "2023-10-20T19:04:26.936902Z",
     "iopub.status.idle": "2023-10-20T19:04:27.054734Z",
     "shell.execute_reply": "2023-10-20T19:04:27.053544Z"
    },
    "papermill": {
     "duration": 0.128982,
     "end_time": "2023-10-20T19:04:27.056301",
     "exception": false,
     "start_time": "2023-10-20T19:04:26.927319",
     "status": "completed"
    },
    "tags": []
   },
   "outputs": [
    {
     "name": "stdout",
     "output_type": "stream",
     "text": [
      "VIO changed up/down counter to count down\n"
     ]
    }
   ],
   "source": [
    "# VIO: Turn counter up/down switch to DOWN position.\n",
    "# This will cause the running ILA to trigger on the transition edge from up to down.\n",
    "\n",
    "vio.write_probes({\"chipscopy_i/counters/slow_counter_0_UP\": 0})\n",
    "\n",
    "print(\"VIO changed up/down counter to count down\")"
   ]
  },
  {
   "cell_type": "code",
   "execution_count": 15,
   "id": "ee7b08c2",
   "metadata": {
    "execution": {
     "iopub.execute_input": "2023-10-20T19:04:27.076181Z",
     "iopub.status.busy": "2023-10-20T19:04:27.075758Z",
     "iopub.status.idle": "2023-10-20T19:04:27.321522Z",
     "shell.execute_reply": "2023-10-20T19:04:27.320414Z"
    },
    "papermill": {
     "duration": 0.257695,
     "end_time": "2023-10-20T19:04:27.323044",
     "exception": false,
     "start_time": "2023-10-20T19:04:27.065349",
     "status": "completed"
    },
    "tags": []
   },
   "outputs": [
    {
     "name": "stdout",
     "output_type": "stream",
     "text": [
      "Window:0  Window Sample:0   554680154  0x210FBF5A \n",
      "Window:0  Window Sample:1   554680155  0x210FBF5B \n",
      "Window:0  Window Sample:2   554680156  0x210FBF5C \n",
      "Window:0  Window Sample:3   554680157  0x210FBF5D \n",
      "Window:0  Window Sample:4   554680158  0x210FBF5E \n",
      "Window:0  Window Sample:5   554680159  0x210FBF5F \n",
      "Window:0  Window Sample:6   554680160  0x210FBF60 \n",
      "Window:0  Window Sample:7   554680161  0x210FBF61 \n",
      "Window:0  Window Sample:8   554680162  0x210FBF62 \n",
      "Window:0  Window Sample:9   554680163  0x210FBF63 \n",
      "Window:0  Window Sample:10   554680164  0x210FBF64 \n",
      "Window:0  Window Sample:11   554680165  0x210FBF65 \n",
      "Window:0  Window Sample:12   554680166  0x210FBF66 \n",
      "Window:0  Window Sample:13   554680167  0x210FBF67 \n",
      "Window:0  Window Sample:14   554680168  0x210FBF68 \n",
      "Window:0  Window Sample:15   554680169  0x210FBF69 \n",
      "Window:0  Window Sample:16   554680170  0x210FBF6A <-- Trigger\n",
      "Window:0  Window Sample:17   554680169  0x210FBF69 \n",
      "Window:0  Window Sample:18   554680168  0x210FBF68 \n",
      "Window:0  Window Sample:19   554680167  0x210FBF67 \n",
      "Window:0  Window Sample:20   554680166  0x210FBF66 \n",
      "Window:0  Window Sample:21   554680165  0x210FBF65 \n",
      "Window:0  Window Sample:22   554680164  0x210FBF64 \n",
      "Window:0  Window Sample:23   554680163  0x210FBF63 \n",
      "Window:0  Window Sample:24   554680162  0x210FBF62 \n",
      "Window:0  Window Sample:25   554680161  0x210FBF61 \n",
      "Window:0  Window Sample:26   554680160  0x210FBF60 \n",
      "Window:0  Window Sample:27   554680159  0x210FBF5F \n",
      "Window:0  Window Sample:28   554680158  0x210FBF5E \n",
      "Window:0  Window Sample:29   554680157  0x210FBF5D \n",
      "Window:0  Window Sample:30   554680156  0x210FBF5C \n",
      "Window:0  Window Sample:31   554680155  0x210FBF5B \n"
     ]
    }
   ],
   "source": [
    "# Print the captured ILA samples and mark the trigger position.\n",
    "# Note that counter counts down after the trigger mark.\n",
    "\n",
    "ila.wait_till_done(max_wait_minutes=0.1)\n",
    "upload_successful = ila.upload()\n",
    "if upload_successful:\n",
    "    samples = ila.waveform.get_data(\n",
    "        [\"chipscopy_i/counters/slow_counter_0_Q_1\"],\n",
    "        include_trigger=True,\n",
    "        include_sample_info=True,\n",
    "    )\n",
    "    for trigger, sample_index, window_index, window_sample_index, value in zip(*samples.values()):\n",
    "        trigger = \"<-- Trigger\" if trigger else \"\"\n",
    "        print(\n",
    "            f\"Window:{window_index}  Window Sample:{window_sample_index}  {value:10}  0x{value:08X} {trigger}\"\n",
    "        )\n",
    "else:\n",
    "    print(\"Failed to upload ILA data from core\")"
   ]
  },
  {
   "cell_type": "markdown",
   "id": "f61d21e8",
   "metadata": {
    "papermill": {
     "duration": 0.007365,
     "end_time": "2023-10-20T19:04:27.338769",
     "exception": false,
     "start_time": "2023-10-20T19:04:27.331404",
     "status": "completed"
    },
    "tags": []
   },
   "source": [
    "## 6 - Waveform Export - VCD (or CSV)\n",
    "\n",
    " Demonstrate how to export waveform data to a VCD file for visualizing waveform in other tools.\n",
    "\n",
    " Export includes complete waveform with probe, _TRIGGER, and _WINDOW.\n",
    "\n",
    " - For CSV export, substitute \"CSV\" for \"VCD\" argument.\n",
    " - To export to a file, substitute the filename for 'sys.stdout'"
   ]
  },
  {
   "cell_type": "code",
   "execution_count": 16,
   "id": "d90ab86c",
   "metadata": {
    "execution": {
     "iopub.execute_input": "2023-10-20T19:04:27.355164Z",
     "iopub.status.busy": "2023-10-20T19:04:27.354955Z",
     "iopub.status.idle": "2023-10-20T19:04:27.360219Z",
     "shell.execute_reply": "2023-10-20T19:04:27.359490Z"
    },
    "papermill": {
     "duration": 0.015478,
     "end_time": "2023-10-20T19:04:27.361599",
     "exception": false,
     "start_time": "2023-10-20T19:04:27.346121",
     "status": "completed"
    },
    "tags": []
   },
   "outputs": [
    {
     "name": "stdout",
     "output_type": "stream",
     "text": [
      "$date\n",
      "        2023-10-20 13:04:27\n",
      "$end\n",
      "$version\n",
      "        ChipScoPy Version 2023.2.1693353190\n",
      "$end\n",
      "$timescale\n",
      "        1ps\n",
      "$end\n",
      "$scope module dut $end\n",
      "$var reg 1 $ chipscopy_i/counters/slow_counter_0_CE_1  $end\n",
      "$var reg 1 % chipscopy_i/counters/slow_counter_0_SCLR_1  $end\n",
      "$var reg 1 & chipscopy_i/counters/slow_counter_0_UP_1  $end\n",
      "$var reg 1 ' chipscopy_i/counters/slow_counter_0_LOAD_1  $end\n",
      "$var reg 32 ( chipscopy_i/counters/slow_counter_0_L_1 [31:0] $end\n",
      "$var reg 32 ) chipscopy_i/counters/slow_counter_0_Q_1 [31:0] $end\n",
      "$var reg 1 * chipscopy_i/counters/ila_slow_counter_0_TRIG_OUT_trig  $end\n",
      "$var reg 1 + chipscopy_i/counters/ila_fast_counter_0_TRIG_IN_ack  $end\n",
      "$var reg 1 , chipscopy_i/counters/ila_fast_counter_0_TRIG_OUT_trig  $end\n",
      "$var reg 1 - chipscopy_i/counters/ila_slow_counter_0_TRIG_IN_ack  $end\n",
      "$var reg 16 . chipscopy_i/counters/slow_sine_Dout [15:0] $end\n",
      "$var reg 16 / chipscopy_i/counters/slow_cosine_Dout [15:0] $end\n",
      "$var reg 1 0 chipscopy_i/counters/locked  $end\n",
      "$var reg 1 ! _TRIGGER $end\n",
      "$var reg 1 \" _WINDOW $end\n",
      "$upscope $end\n",
      "$enddefinitions $end\n",
      "#0\n",
      "0!\n",
      "0\"\n",
      "1$\n",
      "0%\n",
      "1&\n",
      "0'\n",
      "b0 (\n",
      "b100001000011111011111101011010 )\n",
      "0*\n",
      "0+\n",
      "0,\n",
      "0-\n",
      "b1001001000111000 .\n",
      "b100000111001101 /\n",
      "10\n",
      "#1\n",
      "b100001000011111011111101011011 )\n",
      "b1001001010100000 .\n",
      "b100001001111001 /\n",
      "#2\n",
      "b100001000011111011111101011100 )\n",
      "b1001001100001000 .\n",
      "b100001100100101 /\n",
      "#3\n",
      "b100001000011111011111101011101 )\n",
      "b1001001101110010 .\n",
      "b100001111010000 /\n",
      "#4\n",
      "b100001000011111011111101011110 )\n",
      "b1001001111011110 .\n",
      "b100010001111010 /\n",
      "#5\n",
      "b100001000011111011111101011111 )\n",
      "b1001010001001010 .\n",
      "b100010100100011 /\n",
      "#6\n",
      "b100001000011111011111101100000 )\n",
      "b1001010010110111 .\n",
      "b100010111001100 /\n",
      "#7\n",
      "b100001000011111011111101100001 )\n",
      "b1001010100100101 .\n",
      "b100011001110100 /\n",
      "#8\n",
      "b100001000011111011111101100010 )\n",
      "b1001010110010100 .\n",
      "b100011100011100 /\n",
      "#9\n",
      "b100001000011111011111101100011 )\n",
      "b1001011000000100 .\n",
      "b100011111000011 /\n",
      "#10\n",
      "b100001000011111011111101100100 )\n",
      "b1001011001110110 .\n",
      "b100100001101001 /\n",
      "#11\n",
      "b100001000011111011111101100101 )\n",
      "b1001011011101000 .\n",
      "b100100100001110 /\n",
      "#12\n",
      "b100001000011111011111101100110 )\n",
      "b1001011101011011 .\n",
      "b100100110110011 /\n",
      "#13\n",
      "b100001000011111011111101100111 )\n",
      "b1001011111001111 .\n",
      "b100101001010111 /\n",
      "#14\n",
      "b100001000011111011111101101000 )\n",
      "b1001100001000101 .\n",
      "b100101011111010 /\n",
      "#15\n",
      "b100001000011111011111101101001 )\n",
      "b1001100010111011 .\n",
      "b100101110011101 /\n",
      "#16\n",
      "1!\n",
      "0&\n",
      "b100001000011111011111101101010 )\n",
      "b1001100100110010 .\n",
      "b100110000111111 /\n",
      "#17\n",
      "0!\n",
      "b100001000011111011111101101001 )\n",
      "b1001100110101010 .\n",
      "b100110011100000 /\n",
      "#18\n",
      "b100001000011111011111101101000 )\n",
      "b1001101000100100 .\n",
      "b100110110000000 /\n",
      "#19\n",
      "b100001000011111011111101100111 )\n",
      "b1001100110101010 .\n",
      "b100110011100000 /\n",
      "#20\n",
      "b100001000011111011111101100110 )\n",
      "b1001100100110010 .\n",
      "b100110000111111 /\n",
      "#21\n",
      "b100001000011111011111101100101 )\n",
      "b1001100010111011 .\n",
      "b100101110011101 /\n",
      "#22\n",
      "b100001000011111011111101100100 )\n",
      "b1001100001000101 .\n",
      "b100101011111010 /\n",
      "#23\n",
      "b100001000011111011111101100011 )\n",
      "b1001011111001111 .\n",
      "b100101001010111 /\n",
      "#24\n",
      "b100001000011111011111101100010 )\n",
      "b1001011101011011 .\n",
      "b100100110110011 /\n",
      "#25\n",
      "b100001000011111011111101100001 )\n",
      "b1001011011101000 .\n",
      "b100100100001110 /\n",
      "#26\n",
      "b100001000011111011111101100000 )\n",
      "b1001011001110110 .\n",
      "b100100001101001 /\n",
      "#27\n",
      "b100001000011111011111101011111 )\n",
      "b1001011000000100 .\n",
      "b100011111000011 /\n",
      "#28\n",
      "b100001000011111011111101011110 )\n",
      "b1001010110010100 .\n",
      "b100011100011100 /\n",
      "#29\n",
      "b100001000011111011111101011101 )\n",
      "b1001010100100101 .\n",
      "b100011001110100 /\n",
      "#30\n",
      "b100001000011111011111101011100 )\n",
      "b1001010010110111 .\n",
      "b100010111001100 /\n",
      "#31\n",
      "b100001000011111011111101011011 )\n",
      "b1001010001001010 .\n",
      "b100010100100011 /\n"
     ]
    }
   ],
   "source": [
    "if upload_successful:\n",
    "    ila.waveform.export_waveform(\"VCD\", sys.stdout)"
   ]
  },
  {
   "cell_type": "code",
   "execution_count": null,
   "id": "8463f053",
   "metadata": {
    "papermill": {
     "duration": 0.007251,
     "end_time": "2023-10-20T19:04:27.377256",
     "exception": false,
     "start_time": "2023-10-20T19:04:27.370005",
     "status": "completed"
    },
    "tags": []
   },
   "outputs": [],
   "source": []
  }
 ],
 "metadata": {
  "jupytext": {
   "cell_metadata_filter": "-all",
   "main_language": "python",
   "notebook_metadata_filter": "-all"
  },
  "language_info": {
   "codemirror_mode": {
    "name": "ipython",
    "version": 3
   },
   "file_extension": ".py",
   "mimetype": "text/x-python",
   "name": "python",
   "nbconvert_exporter": "python",
   "pygments_lexer": "ipython3",
   "version": "3.8.3"
  },
  "papermill": {
   "default_parameters": {},
   "duration": 15.791896,
   "end_time": "2023-10-20T19:04:27.703756",
   "environment_variables": {},
   "exception": null,
   "input_path": "chipscopy/examples/ila_and_vio/ila_and_vio.ipynb",
   "output_path": "chipscopy/examples/ila_and_vio/ila_and_vio.ipynb",
   "parameters": {},
   "start_time": "2023-10-20T19:04:11.911860",
   "version": "2.4.0"
  }
 },
 "nbformat": 4,
 "nbformat_minor": 5
}