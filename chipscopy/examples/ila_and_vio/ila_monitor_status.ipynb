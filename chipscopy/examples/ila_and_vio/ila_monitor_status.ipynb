{
 "cells": [
  {
   "cell_type": "markdown",
   "id": "random-thread",
   "metadata": {
    "papermill": {
     "duration": 0.006537,
     "end_time": "2023-06-07T20:56:05.857142",
     "exception": false,
     "start_time": "2023-06-07T20:56:05.850605",
     "status": "completed"
    },
    "tags": []
   },
   "source": [
    "<link rel=\"preconnect\" href=\"https://fonts.gstatic.com\">\n",
    "<link href=\"https://fonts.googleapis.com/css2?family=Fira+Code&display=swap\" rel=\"stylesheet\">\n",
    "\n",
    "### License\n",
    "\n",
    "<p style=\"font-family: 'Fira Code', monospace; font-size: 1.2rem\">\n",
    "Copyright (c) 2021-2022 Xilinx, Inc.<br>\n",
    "Copyright (c) 2022-2023 Advanced Micro Devices, Inc.<br><br>\n",
    "Licensed under the Apache License, Version 2.0 (the \"License\");<br>\n",
    "you may not use this file except in compliance with the License.<br><br>\n",
    "You may obtain a copy of the License at <a href=\"http://www.apache.org/licenses/LICENSE-2.0\"?>http://www.apache.org/licenses/LICENSE-2.0</a><br><br>\n",
    "Unless required by applicable law or agreed to in writing, software<br>\n",
    "distributed under the License is distributed on an \"AS IS\" BASIS,<br>\n",
    "WITHOUT WARRANTIES OR CONDITIONS OF ANY KIND, either express or implied.<br>\n",
    "See the License for the specific language governing permissions and<br>\n",
    "limitations under the License.<br>\n",
    "</p>\n"
   ]
  },
  {
   "cell_type": "markdown",
   "id": "strange-hobby",
   "metadata": {
    "papermill": {
     "duration": 0.005355,
     "end_time": "2023-06-07T20:56:05.868353",
     "exception": false,
     "start_time": "2023-06-07T20:56:05.862998",
     "status": "completed"
    },
    "tags": []
   },
   "source": [
    "# ChipScoPy ILA Monitor Status Example\n",
    "\n",
    "\n",
    "<img src=\"../img/api_overview.png\" width=\"500\" align=\"left\">"
   ]
  },
  {
   "cell_type": "markdown",
   "id": "motivated-ranch",
   "metadata": {
    "papermill": {
     "duration": 0.005179,
     "end_time": "2023-06-07T20:56:05.878769",
     "exception": false,
     "start_time": "2023-06-07T20:56:05.873590",
     "status": "completed"
    },
    "tags": []
   },
   "source": [
    "## Description\n",
    "An advanced example showing how to monitor the ILA capture status, by running the function ILA.monitor_status(), in asynchroneous mode.\n",
    "\n",
    "By calling ChipScoPy ILA API function **monitor_status()**, in asynchronous mode we can do the following:\n",
    "- Get periodic updates of ILA core capture status.\n",
    "- Call other ChipScoPy API functions, while monitoring the ILA status.\n",
    "- Cancel the status monitor early.\n",
    "\n",
    "\n",
    "## Requirements\n",
    "- Local or remote Xilinx Versal board, such as a VCK190\n",
    "- Xilinx hw_server 2022.2 installed and running\n",
    "- Xilinx cs_server 2022.2 installed and running\n",
    "- Python 3.8 or greater installed\n",
    "- ChipScoPy 2022.2 installed\n",
    "- Jupyter notebook support installed - Please do so, using the command `pip install chipscopy[jupyter]`"
   ]
  },
  {
   "cell_type": "markdown",
   "id": "suffering-bench",
   "metadata": {
    "papermill": {
     "duration": 0.005451,
     "end_time": "2023-06-07T20:56:05.889670",
     "exception": false,
     "start_time": "2023-06-07T20:56:05.884219",
     "status": "completed"
    },
    "tags": []
   },
   "source": [
    "# Overview\n",
    "### Function monitor_status() Documentation\n",
    "    A. Function monitor_status()\n",
    "    B. Calling monitor_status() in Synchronous Mode\n",
    "    C. Calling monitor_status() in Asynchronous Mode\n",
    "    D. Future Object\n",
    "    E. Progress Function\n",
    "    F. ILAStatus Class\n",
    "    G. ILAState Enum Values\n",
    "### Example Steps\n",
    "    1.  Initialization: Imports and File Paths\n",
    "    2.  Create a session and connect to the hw_server and cs_server\n",
    "    3.  Program the Device\n",
    "    4.  Discover Debug Cores\n",
    "    5.  VIO Control and ILA Capture\n",
    "    6.  Configure the counter using VIO output probes\n",
    "    7.  Define Status Progress Function\n",
    "    8.  Arm ILA to Trigger on VIO Up/Down virtual switch\n",
    "    9.  Start Status Monitor\n",
    "    10. Toggle Counter Direction - Monitor Status\n",
    "    11. Status Monitor Completes\n",
    "    12. Upload and Print Data\n",
    "--------------------"
   ]
  },
  {
   "cell_type": "markdown",
   "id": "seasonal-aberdeen",
   "metadata": {
    "papermill": {
     "duration": 0.005725,
     "end_time": "2023-06-07T20:56:05.900920",
     "exception": false,
     "start_time": "2023-06-07T20:56:05.895195",
     "status": "completed"
    },
    "tags": []
   },
   "source": [
    "## A. Function monitor_status()\n",
    "\n",
    "    def monitor_status(\n",
    "       self, max_wait_minutes: float = None, progress=None, done: request.DoneFutureCallback = None\n",
    "    ) -> ILAStatus or request.CsFutureRequestSync:\n",
    "\n",
    "This function monitors ILA capture status and waits until all data has been captured, or until timeout\n",
    "or the function is cancelled.\n",
    "Call this function after arming the ILA and before uploading the waveform.\n",
    "The command operates in synchronous mode if *done* argument has default value *None* .\n",
    "\n",
    "\n",
    "Args:\n",
    "-  **max_wait_minutes** (float): Max time in minutes for status monitor. If *None*, status monitor never times out.\n",
    "-  **progress**(progress_fn) : See Asynchronous Mode, below. This function runs in the TCF Event Thread.\n",
    "-  **done**(request.DoneFutureCallback): Done callback. This function runs in the TCF Event Thread.\n",
    "\n",
    "Returns:\n",
    "- ILAStatus when called synchronously.\n",
    "- \"future object\" when called asynchronously."
   ]
  },
  {
   "cell_type": "markdown",
   "id": "legislative-console",
   "metadata": {
    "papermill": {
     "duration": 0.005092,
     "end_time": "2023-06-07T20:56:05.911240",
     "exception": false,
     "start_time": "2023-06-07T20:56:05.906148",
     "status": "completed"
    },
    "tags": []
   },
   "source": [
    "## B. Calling monitor_status() in Synchronous Mode\n",
    "- Typical mode when using this function. It is not covered in this example.\n",
    "- Function waits until all data has been captured in the ILA core, or timeout.\n",
    "- Use default argument value *None* for both arguments *progress* and *done* .\n",
    "- Returns an ILAStatus object."
   ]
  },
  {
   "cell_type": "markdown",
   "id": "associate-mobile",
   "metadata": {
    "papermill": {
     "duration": 0.005346,
     "end_time": "2023-06-07T20:56:05.921886",
     "exception": false,
     "start_time": "2023-06-07T20:56:05.916540",
     "status": "completed"
    },
    "tags": []
   },
   "source": [
    "## C. Calling monitor_status() in Asynchronous Mode\n",
    "\n",
    "- This mode is useful for reporting the capture status to stdout or a GUI.\n",
    "- Function does not block. The main thread continues with the next statement.\n",
    "- Returns a *future* object, which represents the monitor.\n",
    "- A blocking function should be called later on the *future* object, in order to let the calling thread wait until the status monitor has completed.\n",
    "- Asynchronous Mode is selected, by specifying a *done* function, which is called after the function has completed.\n",
    "- If no user defined callback is needed, set *done* argument to dummy function *chipscopy.null_callback*, to enable asynchronous mode."
   ]
  },
  {
   "cell_type": "markdown",
   "id": "thick-zoning",
   "metadata": {
    "papermill": {
     "duration": 0.005038,
     "end_time": "2023-06-07T20:56:05.932234",
     "exception": false,
     "start_time": "2023-06-07T20:56:05.927196",
     "status": "completed"
    },
    "tags": []
   },
   "source": [
    "## D. Future Object\n",
    "\n",
    "When the *monitor_status* function is called in asynchronous mode, it will return a *future* object.\n",
    "The *future* object has blocking attributes and functions, which will block the current thread until\n",
    "the status monitor has completed.\n",
    "\n",
    "###  Blocking Attributes\n",
    "\n",
    "- *future.result* - Returns *None* or *ILAStatus*. *ILAStatus* object if capture did complete successfully, without timeout.\n",
    "- *future.error* - Returns *None* or *Exception*. *None* if no error otherwise an exception object, e.g. timeout exception.\n",
    "\n",
    "### Non-blocking Attribute\n",
    "\n",
    "- *future.progress* - Returns *None* or *ILAStatus*. Read this attribute in the *progress function*, to get the ILA capture status.\n",
    "\n",
    "### Blocking Function\n",
    "\n",
    "- *future.wait(timeout=None)* - *None* value means wait until status monitor completes. Argument *timeout* is in seconds.\n",
    "\n",
    "### Non-blocking Function\n",
    "\n",
    "- *future.cancel()*  - Cancels the status monitor. An exception will be raised in the thread, which called the function *ILA.monitor_status*."
   ]
  },
  {
   "cell_type": "markdown",
   "id": "organizational-memory",
   "metadata": {
    "papermill": {
     "duration": 0.005095,
     "end_time": "2023-06-07T20:56:05.942501",
     "exception": false,
     "start_time": "2023-06-07T20:56:05.937406",
     "status": "completed"
    },
    "tags": []
   },
   "source": [
    "## E. Progress Function\n",
    "\n",
    "- User-defined function which takes one argument *future*.\n",
    "- Useful for reporting ILA capture status.\n",
    "- The *progress function* is only called when the ILA capture status changes.\n",
    "- The *progress function* is called in the TCF Event Thread. The *progress function* must not call any ChipScoPy API function, which interacts with the cs_server or the device.\n",
    "\n",
    ">    Example:\n",
    ">\n",
    ">        def monitor_status_done(future):\n",
    ">            if not future.error:\n",
    ">                # future.result holds an ILAStatus object.\n",
    ">                print_status(future.progress)"
   ]
  },
  {
   "cell_type": "markdown",
   "id": "determined-lafayette",
   "metadata": {
    "papermill": {
     "duration": 0.004979,
     "end_time": "2023-06-07T20:56:05.952516",
     "exception": false,
     "start_time": "2023-06-07T20:56:05.947537",
     "status": "completed"
    },
    "tags": []
   },
   "source": [
    "## F. ILAStatus Class\n",
    "\n",
    "The following data attributes are available to read, when monitoring the ILA capture status.\n",
    "\n",
    "| Attributes                  | TYPE     | Description                                                 |\n",
    "|:--------------------------- |:-------- |:----------------------------------------------------------- |\n",
    "| capture_state:              | ILAState | Capture state. See below.                                   |\n",
    "| is_armed                    | bool     | Trigger is armed.                                           |\n",
    "| is_full                     | bool     | Data buffer is full.                                        |\n",
    "| samples_captured            | int      | Number of samples captured in current data window.          |\n",
    "| windows_captured            | int      | Number of fully captured data windows.                      |\n",
    "| samples_requested           | int      | Requested number of samples per window, when was ILA armed. |\n",
    "| windows_requested           | int      | Requested number of windows, when ILA was armed.            |\n",
    "| trigger_position_requested  | int      | Requested trigger position, when ILA was armed.             |"
   ]
  },
  {
   "cell_type": "markdown",
   "id": "rural-cloud",
   "metadata": {
    "papermill": {
     "duration": 0.005058,
     "end_time": "2023-06-07T20:56:05.962710",
     "exception": false,
     "start_time": "2023-06-07T20:56:05.957652",
     "status": "completed"
    },
    "tags": []
   },
   "source": [
    "## G.  ILAState Enum Values\n",
    "\n",
    "ILA Capture State Transitions:<br>\n",
    ">        IDLE -> PRE_TRIGGER -> TRIGGER -> POST_TRIGGER -> IDLE\n",
    "\n",
    "| Enum Value   | Description\n",
    "|:-------------|:-------------------------------- |\n",
    "| IDLE         | Not armed.                       |\n",
    "| PRE_TRIGGER  | Capturing pre-trigger samples.   |\n",
    "| TRIGGER      | Waiting for trigger.             |\n",
    "| POST_TRIGGER | Capturing post-trigger samples.  |\n"
   ]
  },
  {
   "cell_type": "markdown",
   "id": "empty-austria",
   "metadata": {
    "papermill": {
     "duration": 0.005106,
     "end_time": "2023-06-07T20:56:05.973060",
     "exception": false,
     "start_time": "2023-06-07T20:56:05.967954",
     "status": "completed"
    },
    "tags": []
   },
   "source": [
    "# Example Steps"
   ]
  },
  {
   "cell_type": "markdown",
   "id": "tender-thread",
   "metadata": {
    "papermill": {
     "duration": 0.005721,
     "end_time": "2023-06-07T20:56:05.983941",
     "exception": false,
     "start_time": "2023-06-07T20:56:05.978220",
     "status": "completed"
    },
    "tags": []
   },
   "source": [
    "## 1 - Initialization: Imports and File Paths\n",
    "\n",
    "After this step,\n",
    "- Required functions and classes are imported\n",
    "- URL paths are set correctly\n",
    "- File paths to example files are set correctly"
   ]
  },
  {
   "cell_type": "code",
   "execution_count": 1,
   "id": "parallel-intensity",
   "metadata": {
    "execution": {
     "iopub.execute_input": "2023-06-07T20:56:06.001442Z",
     "iopub.status.busy": "2023-06-07T20:56:06.001097Z",
     "iopub.status.idle": "2023-06-07T20:56:06.329641Z",
     "shell.execute_reply": "2023-06-07T20:56:06.329134Z"
    },
    "papermill": {
     "duration": 0.340806,
     "end_time": "2023-06-07T20:56:06.329787",
     "exception": false,
     "start_time": "2023-06-07T20:56:05.988981",
     "status": "completed"
    },
    "tags": []
   },
   "outputs": [],
   "source": [
    "import os\n",
    "from time import sleep\n",
    "import chipscopy\n",
    "from chipscopy import get_design_files\n",
    "from chipscopy import get_examples_dir_or_die, null_callback\n",
    "from chipscopy import create_session, report_versions\n",
    "from chipscopy.api.ila import ILAStatus, ILAState"
   ]
  },
  {
   "cell_type": "code",
   "execution_count": 2,
   "id": "stretch-lighter",
   "metadata": {
    "execution": {
     "iopub.execute_input": "2023-06-07T20:56:06.347338Z",
     "iopub.status.busy": "2023-06-07T20:56:06.346994Z",
     "iopub.status.idle": "2023-06-07T20:56:06.350115Z",
     "shell.execute_reply": "2023-06-07T20:56:06.349842Z"
    },
    "lines_to_next_cell": 2,
    "papermill": {
     "duration": 0.012484,
     "end_time": "2023-06-07T20:56:06.350182",
     "exception": false,
     "start_time": "2023-06-07T20:56:06.337698",
     "status": "completed"
    },
    "tags": []
   },
   "outputs": [
    {
     "name": "stdout",
     "output_type": "stream",
     "text": [
      "HW_URL: TCP:localhost:3121\n",
      "CS_URL: TCP:localhost:3042\n",
      "PROGRAMMING_FILE: /scratch/chipscopy/chipscopy/examples/designs/vck190/production/chipscopy_ced/chipscopy_wrapper.pdi\n",
      "PROBES_FILE:/scratch/chipscopy/chipscopy/examples/designs/vck190/production/chipscopy_ced/chipscopy_wrapper.ltx\n"
     ]
    }
   ],
   "source": [
    "# Specify locations of the running hw_server and cs_server below.\n",
    "# To make things convenient, we default to values from the following environment variables.\n",
    "# Modify these if needed.\n",
    "\n",
    "CS_URL = os.getenv(\"CS_SERVER_URL\", \"TCP:localhost:3042\")\n",
    "HW_URL = os.getenv(\"HW_SERVER_URL\", \"TCP:localhost:3121\")\n",
    "\n",
    "# The get_design_files() function tries to find the PDI and LTX files. In non-standard\n",
    "# configurations, you can put the path for PROGRAMMING_FILE and PROBES_FILE below.\n",
    "design_files = get_design_files(\"vck190/production/chipscopy_ced\")\n",
    "\n",
    "PROGRAMMING_FILE = design_files.programming_file\n",
    "PROBES_FILE = design_files.probes_file\n",
    "\n",
    "print(f\"HW_URL: {HW_URL}\")\n",
    "print(f\"CS_URL: {CS_URL}\")\n",
    "print(f\"PROGRAMMING_FILE: {PROGRAMMING_FILE}\")\n",
    "print(f\"PROBES_FILE:{PROBES_FILE}\")"
   ]
  },
  {
   "cell_type": "markdown",
   "id": "faced-pickup",
   "metadata": {
    "papermill": {
     "duration": 0.004937,
     "end_time": "2023-06-07T20:56:06.360208",
     "exception": false,
     "start_time": "2023-06-07T20:56:06.355271",
     "status": "completed"
    },
    "tags": []
   },
   "source": [
    "## 2 - Create a session and connect to the hw_server and cs_server\n",
    "\n",
    "The session is a container that keeps track of devices and debug cores.\n",
    "After this step,\n",
    "- Session is initialized and connected to server(s)\n",
    "- Versions are detected and reported to stdout"
   ]
  },
  {
   "cell_type": "code",
   "execution_count": 3,
   "id": "exempt-pollution",
   "metadata": {
    "execution": {
     "iopub.execute_input": "2023-06-07T20:56:06.373566Z",
     "iopub.status.busy": "2023-06-07T20:56:06.373233Z",
     "iopub.status.idle": "2023-06-07T20:56:07.267386Z",
     "shell.execute_reply": "2023-06-07T20:56:07.267012Z"
    },
    "papermill": {
     "duration": 0.902239,
     "end_time": "2023-06-07T20:56:07.267483",
     "exception": false,
     "start_time": "2023-06-07T20:56:06.365244",
     "status": "completed"
    },
    "tags": []
   },
   "outputs": [
    {
     "data": {
      "text/html": [
       "<pre style=\"white-space:pre;overflow-x:auto;line-height:normal;font-family:Menlo,'DejaVu Sans Mono',consolas,'Courier New',monospace\">\n",
       "\n",
       "</pre>\n"
      ],
      "text/plain": [
       "<rich.jupyter.JupyterRenderable at 0x7f3ad0682730>"
      ]
     },
     "metadata": {},
     "output_type": "display_data"
    },
    {
     "data": {
      "text/html": [
       "<pre style=\"white-space:pre;overflow-x:auto;line-height:normal;font-family:Menlo,'DejaVu Sans Mono',consolas,'Courier New',monospace\"><span style=\"font-style: italic\">                      ChipScoPy Version Information                      </span>\n",
       "┌────────────────────────────┬──────────────────────────────────────────┐\n",
       "│<span style=\"font-weight: bold\">                     Entity </span>│<span style=\"font-weight: bold\"> Version                                  </span>│\n",
       "├────────────────────────────┼──────────────────────────────────────────┤\n",
       "│                  ChipScoPy │ ┌───────────┬──────────────────────┐     │\n",
       "│                            │ │<span style=\"font-weight: bold\"> Attribute </span>│<span style=\"font-weight: bold\"> Value                </span>│     │\n",
       "│                            │ ├───────────┼──────────────────────┤     │\n",
       "│                            │ │     Build │ 2023.1.1685656083    │     │\n",
       "│                            │ │ Timestamp │ Jun 01 2023-15:48:03 │     │\n",
       "│                            │ └───────────┴──────────────────────┘     │\n",
       "│                            │                                          │\n",
       "│ hw_server @ localhost:3121 │ ┌───────────┬──────────────────────────┐ │\n",
       "│                            │ │<span style=\"font-weight: bold\"> Attribute </span>│<span style=\"font-weight: bold\"> Value                    </span>│ │\n",
       "│                            │ ├───────────┼──────────────────────────┤ │\n",
       "│                            │ │    Status │ Connected                │ │\n",
       "│                            │ │     Build │ 1683493450               │ │\n",
       "│                            │ │   Version │ 2023.1                   │ │\n",
       "│                            │ │ Timestamp │ Sun May  7 15:04:10 2023 │ │\n",
       "│                            │ └───────────┴──────────────────────────┘ │\n",
       "│                            │                                          │\n",
       "│ cs_server @ localhost:3042 │ ┌───────────────┬──────────────────────┐ │\n",
       "│                            │ │<span style=\"font-weight: bold\">     Attribute </span>│<span style=\"font-weight: bold\"> Value                </span>│ │\n",
       "│                            │ ├───────────────┼──────────────────────┤ │\n",
       "│                            │ │        Status │ Connected            │ │\n",
       "│                            │ │         Build │ 1681142364           │ │\n",
       "│                            │ │       Version │ 2023.1.0             │ │\n",
       "│                            │ │     Timestamp │ Apr 10 2023-09:59:24 │ │\n",
       "│                            │ │       Package │ 2023.1.1681142364    │ │\n",
       "│                            │ │ Artifact type │ pyinstaller          │ │\n",
       "│                            │ └───────────────┴──────────────────────┘ │\n",
       "└────────────────────────────┴──────────────────────────────────────────┘\n",
       "</pre>\n"
      ],
      "text/plain": [
       "<rich.jupyter.JupyterRenderable at 0x7f3ad0682730>"
      ]
     },
     "metadata": {},
     "output_type": "display_data"
    },
    {
     "data": {
      "text/html": [
       "<pre style=\"white-space:pre;overflow-x:auto;line-height:normal;font-family:Menlo,'DejaVu Sans Mono',consolas,'Courier New',monospace\">\n",
       "\n",
       "</pre>\n"
      ],
      "text/plain": [
       "<rich.jupyter.JupyterRenderable at 0x7f3ad0673b20>"
      ]
     },
     "metadata": {},
     "output_type": "display_data"
    }
   ],
   "source": [
    "session = create_session(cs_server_url=CS_URL, hw_server_url=HW_URL)\n",
    "report_versions(session)"
   ]
  },
  {
   "cell_type": "markdown",
   "id": "military-thesis",
   "metadata": {
    "papermill": {
     "duration": 0.005412,
     "end_time": "2023-06-07T20:56:07.279019",
     "exception": false,
     "start_time": "2023-06-07T20:56:07.273607",
     "status": "completed"
    },
    "tags": []
   },
   "source": [
    "## 3 - Program the device with the example design\n",
    "\n",
    "After this step,\n",
    "- Device is programmed with the example programming file"
   ]
  },
  {
   "cell_type": "code",
   "execution_count": 4,
   "id": "horizontal-learning",
   "metadata": {
    "execution": {
     "iopub.execute_input": "2023-06-07T20:56:07.294512Z",
     "iopub.status.busy": "2023-06-07T20:56:07.294175Z",
     "iopub.status.idle": "2023-06-07T20:56:12.858354Z",
     "shell.execute_reply": "2023-06-07T20:56:12.856943Z"
    },
    "lines_to_next_cell": 2,
    "papermill": {
     "duration": 5.574174,
     "end_time": "2023-06-07T20:56:12.858619",
     "exception": false,
     "start_time": "2023-06-07T20:56:07.284445",
     "status": "completed"
    },
    "tags": []
   },
   "outputs": [
    {
     "data": {
      "text/html": [
       "<pre style=\"white-space:pre;overflow-x:auto;line-height:normal;font-family:Menlo,'DejaVu Sans Mono',consolas,'Courier New',monospace\">\n",
       "<span style=\"font-weight: bold\">--&gt; INFO: </span>Programming device with: /scratch/chipscopy/chipscopy/examples/designs/vck190/produ\n",
       "ction/chipscopy_ced/chipscopy_wrapper.pdi\n",
       "    \n",
       "</pre>\n"
      ],
      "text/plain": [
       "<rich.jupyter.JupyterRenderable at 0x7f3ad0633520>"
      ]
     },
     "metadata": {},
     "output_type": "display_data"
    },
    {
     "data": {
      "application/vnd.jupyter.widget-view+json": {
       "model_id": "36d8ae9e70ca48b6a0c0a4b73b621a3f",
       "version_major": 2,
       "version_minor": 0
      },
      "text/plain": [
       "Output()"
      ]
     },
     "metadata": {},
     "output_type": "display_data"
    }
   ],
   "source": [
    "# Typical case - one device on the board - get it.\n",
    "device = session.devices.filter_by(family=\"versal\").get()\n",
    "device.program(PROGRAMMING_FILE)"
   ]
  },
  {
   "cell_type": "markdown",
   "id": "obvious-concern",
   "metadata": {
    "papermill": {
     "duration": 0.00586,
     "end_time": "2023-06-07T20:56:12.871712",
     "exception": false,
     "start_time": "2023-06-07T20:56:12.865852",
     "status": "completed"
    },
    "tags": []
   },
   "source": [
    "## 4 - Discover Debug Cores\n",
    "\n",
    "Debug core discovery initializes the chipscope server debug cores. This brings debug cores in the chipscope server online.\n",
    "\n",
    "After this step,\n",
    "\n",
    "- The cs_server is initialized and ready for use\n",
    "- ILA and VIO core instances in the device are reported"
   ]
  },
  {
   "cell_type": "code",
   "execution_count": 5,
   "id": "standard-judgment",
   "metadata": {
    "execution": {
     "iopub.execute_input": "2023-06-07T20:56:13.273262Z",
     "iopub.status.busy": "2023-06-07T20:56:13.272905Z",
     "iopub.status.idle": "2023-06-07T20:56:13.401912Z",
     "shell.execute_reply": "2023-06-07T20:56:13.401589Z"
    },
    "papermill": {
     "duration": 0.524306,
     "end_time": "2023-06-07T20:56:13.402016",
     "exception": false,
     "start_time": "2023-06-07T20:56:12.877710",
     "status": "completed"
    },
    "tags": []
   },
   "outputs": [
    {
     "name": "stdout",
     "output_type": "stream",
     "text": [
      "Debug cores setup and ready for use.\n"
     ]
    }
   ],
   "source": [
    "device.discover_and_setup_cores(ltx_file=PROBES_FILE)\n",
    "print(f\"Debug cores setup and ready for use.\")"
   ]
  },
  {
   "cell_type": "code",
   "execution_count": 6,
   "id": "relevant-census",
   "metadata": {
    "execution": {
     "iopub.execute_input": "2023-06-07T20:56:13.418911Z",
     "iopub.status.busy": "2023-06-07T20:56:13.418562Z",
     "iopub.status.idle": "2023-06-07T20:56:15.886601Z",
     "shell.execute_reply": "2023-06-07T20:56:15.886280Z"
    },
    "papermill": {
     "duration": 2.477994,
     "end_time": "2023-06-07T20:56:15.886709",
     "exception": false,
     "start_time": "2023-06-07T20:56:13.408715",
     "status": "completed"
    },
    "tags": []
   },
   "outputs": [
    {
     "name": "stdout",
     "output_type": "stream",
     "text": [
      "0 - D62FB110F1A25D439EB15D9149F450CE   chipscopy_i/counters/ila_fast_counter_0\n",
      "1 - 9125D1429AD25223AECDD656C2856755   chipscopy_i/counters/ila_slow_counter_0\n",
      "2 - C53C0D3572B655B6A8A13A86686D262D   chipscopy_i/noc_tg_bc/noc_bc_axis_ila_0\n"
     ]
    }
   ],
   "source": [
    "# Print out the ILA core instance UUIDs and instance names\n",
    "ila_cores = device.ila_cores\n",
    "for index, ila_core in enumerate(ila_cores):\n",
    "    print(f\"{index} - {ila_core.core_info.uuid}   {ila_core.name}\")"
   ]
  },
  {
   "cell_type": "code",
   "execution_count": 7,
   "id": "documentary-understanding",
   "metadata": {
    "execution": {
     "iopub.execute_input": "2023-06-07T20:56:15.908938Z",
     "iopub.status.busy": "2023-06-07T20:56:15.908600Z",
     "iopub.status.idle": "2023-06-07T20:56:17.464477Z",
     "shell.execute_reply": "2023-06-07T20:56:17.464791Z"
    },
    "lines_to_next_cell": 2,
    "papermill": {
     "duration": 1.571796,
     "end_time": "2023-06-07T20:56:17.464930",
     "exception": false,
     "start_time": "2023-06-07T20:56:15.893134",
     "status": "completed"
    },
    "tags": []
   },
   "outputs": [
    {
     "name": "stdout",
     "output_type": "stream",
     "text": [
      "0 - 718A03DBCD265D969EA5C15840AEFD17   chipscopy_i/counters/vio_fast_counter_0\n",
      "1 - 22BC7ED6C4145AAB88C58EAEDFF2B04C   chipscopy_i/counters/vio_slow_counter_0\n",
      "2 - 021098F58FE659EFAD76657E635E53FE   chipscopy_i/noc_tg_bc/axis_vio_0\n",
      "3 - 0E76DEFA789D564080CFA5332A88DB12   chipscopy_i/noc_tg_bc/noc_tg/inst/u_top_axi_mst/u_tg_top/gen_aximm_reg_space.u_reg_space/gen_vio_status_monitor.u_vio_status_monitor\n"
     ]
    }
   ],
   "source": [
    "# Print out the VIO core instance UUIDs and instance names\n",
    "vio_cores = device.vio_cores\n",
    "for index, vio_core in enumerate(vio_cores):\n",
    "    print(f\"{index} - {vio_core.core_info.uuid}   {vio_core.name}\")"
   ]
  },
  {
   "cell_type": "markdown",
   "id": "latter-answer",
   "metadata": {
    "papermill": {
     "duration": 0.006632,
     "end_time": "2023-06-07T20:56:17.478271",
     "exception": false,
     "start_time": "2023-06-07T20:56:17.471639",
     "status": "completed"
    },
    "tags": []
   },
   "source": [
    "## 5 - VIO Control and ILA Capture\n",
    "\n",
    "ILA and VIO are two important building blocks for debugging applications in hardware.\n",
    "This example design shows how to control IP using a VIO core and capture results with ILA.\n",
    "\n",
    "In this design,\n",
    "- A VIO core controls the counter (reset, up/down, ce, load)\n",
    "- An ILA core captures the counter values\n"
   ]
  },
  {
   "cell_type": "markdown",
   "id": "powered-psychology",
   "metadata": {
    "papermill": {
     "duration": 0.00635,
     "end_time": "2023-06-07T20:56:17.493770",
     "exception": false,
     "start_time": "2023-06-07T20:56:17.487420",
     "status": "completed"
    },
    "tags": []
   },
   "source": [
    "<img src=\"img/capture_data.png\" width=\"400\" align=\"left\">"
   ]
  },
  {
   "cell_type": "code",
   "execution_count": 8,
   "id": "remarkable-tiger",
   "metadata": {
    "execution": {
     "iopub.execute_input": "2023-06-07T20:56:17.512583Z",
     "iopub.status.busy": "2023-06-07T20:56:17.512225Z",
     "iopub.status.idle": "2023-06-07T20:56:17.514857Z",
     "shell.execute_reply": "2023-06-07T20:56:17.514579Z"
    },
    "lines_to_next_cell": 2,
    "papermill": {
     "duration": 0.015356,
     "end_time": "2023-06-07T20:56:17.514932",
     "exception": false,
     "start_time": "2023-06-07T20:56:17.499576",
     "status": "completed"
    },
    "tags": []
   },
   "outputs": [
    {
     "name": "stdout",
     "output_type": "stream",
     "text": [
      "Using ILA: 9125D1429AD25223AECDD656C2856755  chipscopy_i/counters/ila_slow_counter_0\n",
      "Using VIO: 22BC7ED6C4145AAB88C58EAEDFF2B04C  chipscopy_i/counters/vio_slow_counter_0\n"
     ]
    }
   ],
   "source": [
    "# Grab the two cores we are interested in for the demonstration\n",
    "# As shown above, a counter is connected to the ILA core.\n",
    "# The VIO core controls the counter.\n",
    "\n",
    "ila = device.ila_cores.get(name=\"chipscopy_i/counters/ila_slow_counter_0\")\n",
    "vio = device.vio_cores.get(name=\"chipscopy_i/counters/vio_slow_counter_0\")\n",
    "\n",
    "print(f\"Using ILA: {ila.core_info.uuid}  {ila.name}\")\n",
    "print(f\"Using VIO: {vio.core_info.uuid}  {vio.name}\")"
   ]
  },
  {
   "cell_type": "markdown",
   "id": "designing-rotation",
   "metadata": {
    "papermill": {
     "duration": 0.005751,
     "end_time": "2023-06-07T20:56:17.526383",
     "exception": false,
     "start_time": "2023-06-07T20:56:17.520632",
     "status": "completed"
    },
    "tags": []
   },
   "source": [
    "## 6 - Configure the counter using VIO output probes\n",
    "\n",
    "Set up the VIO core to enable counting up, from 0\n",
    "\n",
    "<img src=\"img/vio_control_counter.png\" width=\"300\" align=\"left\">"
   ]
  },
  {
   "cell_type": "code",
   "execution_count": 9,
   "id": "incident-booth",
   "metadata": {
    "execution": {
     "iopub.execute_input": "2023-06-07T20:56:17.540936Z",
     "iopub.status.busy": "2023-06-07T20:56:17.540601Z",
     "iopub.status.idle": "2023-06-07T20:56:17.725770Z",
     "shell.execute_reply": "2023-06-07T20:56:17.726097Z"
    },
    "papermill": {
     "duration": 0.193924,
     "end_time": "2023-06-07T20:56:17.726219",
     "exception": false,
     "start_time": "2023-06-07T20:56:17.532295",
     "status": "completed"
    },
    "tags": []
   },
   "outputs": [
    {
     "name": "stdout",
     "output_type": "stream",
     "text": [
      "Counter is now free-running and counting up\n"
     ]
    }
   ],
   "source": [
    "vio.reset_vio()\n",
    "vio.write_probes(\n",
    "    {\n",
    "        \"chipscopy_i/counters/slow_counter_0_SCLR\": 0,\n",
    "        \"chipscopy_i/counters/slow_counter_0_L\": 0x00000000,\n",
    "        \"chipscopy_i/counters/slow_counter_0_LOAD\": 0,\n",
    "        \"chipscopy_i/counters/slow_counter_0_UP\": 1,\n",
    "        \"chipscopy_i/counters/slow_counter_0_CE\": 1,\n",
    "    }\n",
    ")\n",
    "print(\"Counter is now free-running and counting up\")"
   ]
  },
  {
   "cell_type": "markdown",
   "id": "textile-nurse",
   "metadata": {
    "papermill": {
     "duration": 0.006404,
     "end_time": "2023-06-07T20:56:17.739345",
     "exception": false,
     "start_time": "2023-06-07T20:56:17.732941",
     "status": "completed"
    },
    "tags": []
   },
   "source": [
    "## 7 - Define Status Progress Function\n",
    "- The **status_progress** function will be given to the **ila.monitor_status()** function, as an argument.\n",
    "- The function is called when status changes, but not more often than twice per second.\n",
    "- The argument **future** has a member *progress* of type **ILAStatus**, which contains the status information.\n",
    "- The **status_progress** function,\n",
    "    - prints status to stdout\n",
    "    - cancels the **monitor_status()** function, if 3 waveform windows have been captured.\n",
    "- Note: The monitor function will run in the Event Tread, which handles commands sent to the cs_server.\n",
    "- Important: Do not call an API function which communicates with the cs_server or device, from inside the monitor function. It may put the program in a deadlock."
   ]
  },
  {
   "cell_type": "code",
   "execution_count": 10,
   "id": "tropical-lighting",
   "metadata": {
    "execution": {
     "iopub.execute_input": "2023-06-07T20:56:17.756864Z",
     "iopub.status.busy": "2023-06-07T20:56:17.756476Z",
     "iopub.status.idle": "2023-06-07T20:56:17.758625Z",
     "shell.execute_reply": "2023-06-07T20:56:17.758261Z"
    },
    "papermill": {
     "duration": 0.01347,
     "end_time": "2023-06-07T20:56:17.758696",
     "exception": false,
     "start_time": "2023-06-07T20:56:17.745226",
     "status": "completed"
    },
    "tags": []
   },
   "outputs": [],
   "source": [
    "def status_progress(future):\n",
    "    \"\"\"Called in Event Thread\"\"\"\n",
    "    st: ILAStatus = future.progress\n",
    "    if st:\n",
    "        print_status(st)\n",
    "        if st.windows_captured >= 3:\n",
    "            print(\"\\nCancelling ILA Status Monitor\")\n",
    "            future.cancel()\n",
    "\n",
    "\n",
    "def print_status(st: ILAStatus):\n",
    "    current_window = min(st.windows_captured + 1, st.windows_requested)\n",
    "    print(\n",
    "        f\"\\nCapture State: {st.capture_state.name} - \"\n",
    "        f\" Windows Captured: {st.windows_captured} of {st.windows_requested}.\",\n",
    "        end=\"\",\n",
    "    )\n",
    "    if st.is_full:\n",
    "        print(f\" - Capture is complete.\")\n",
    "    else:\n",
    "        print(f\" - Samples in current window: \" f\"{st.samples_captured} of {st.samples_requested}.\")"
   ]
  },
  {
   "cell_type": "markdown",
   "id": "fleet-volleyball",
   "metadata": {
    "papermill": {
     "duration": 0.006347,
     "end_time": "2023-06-07T20:56:17.778204",
     "exception": false,
     "start_time": "2023-06-07T20:56:17.771857",
     "status": "completed"
    },
    "tags": []
   },
   "source": [
    "## 8 - Arm ILA to Trigger on VIO Up/Down virtual switch\n",
    "\n",
    "- Set ILA to trigger when UP/DOWN counter signal edge rises or falls.\n",
    "- Set ILA core to capture on a transition of the UP/DOWN toggle switch\n",
    "- Once transition happens, trigger in the middle of the buffer.\n",
    "- Request 10 windows."
   ]
  },
  {
   "cell_type": "markdown",
   "id": "occasional-kazakhstan",
   "metadata": {
    "papermill": {
     "duration": 0.005749,
     "end_time": "2023-06-07T20:56:17.789951",
     "exception": false,
     "start_time": "2023-06-07T20:56:17.784202",
     "status": "completed"
    },
    "tags": []
   },
   "source": [
    "<img src=\"img/edge_trigger.png\" width=\"550\" align=\"left\">"
   ]
  },
  {
   "cell_type": "code",
   "execution_count": 11,
   "id": "objective-clock",
   "metadata": {
    "execution": {
     "iopub.execute_input": "2023-06-07T20:56:17.806470Z",
     "iopub.status.busy": "2023-06-07T20:56:17.806130Z",
     "iopub.status.idle": "2023-06-07T20:56:18.764802Z",
     "shell.execute_reply": "2023-06-07T20:56:18.764445Z"
    },
    "papermill": {
     "duration": 0.968849,
     "end_time": "2023-06-07T20:56:18.764903",
     "exception": false,
     "start_time": "2023-06-07T20:56:17.796054",
     "status": "completed"
    },
    "tags": []
   },
   "outputs": [
    {
     "name": "stdout",
     "output_type": "stream",
     "text": [
      "ILA is armed\n"
     ]
    }
   ],
   "source": [
    "ila.reset_probes()\n",
    "ila.set_probe_trigger_value(\"chipscopy_i/counters/slow_counter_0_UP_1\", [\"==\", \"B\"])\n",
    "ila.run_basic_trigger(window_count=10, window_size=8, trigger_position=4)\n",
    "\n",
    "print(\"ILA is armed\")"
   ]
  },
  {
   "cell_type": "markdown",
   "id": "generic-particular",
   "metadata": {
    "papermill": {
     "duration": 0.011118,
     "end_time": "2023-06-07T20:56:18.782578",
     "exception": false,
     "start_time": "2023-06-07T20:56:18.771460",
     "status": "completed"
    },
    "tags": []
   },
   "source": [
    "## 9 - Start Status Monitor\n",
    "- Define a *done* function *monitor_status_done*, which will be called when status monitoring ends.\n",
    "- Start the Status Monitor.\n",
    "- Passing in the *status_progress* function, defined above.\n",
    "- Get the *future* object from the *monitor_status* function."
   ]
  },
  {
   "cell_type": "code",
   "execution_count": 12,
   "id": "parallel-labor",
   "metadata": {
    "execution": {
     "iopub.execute_input": "2023-06-07T20:56:18.799808Z",
     "iopub.status.busy": "2023-06-07T20:56:18.799173Z",
     "iopub.status.idle": "2023-06-07T20:56:18.802828Z",
     "shell.execute_reply": "2023-06-07T20:56:18.803123Z"
    },
    "papermill": {
     "duration": 0.014193,
     "end_time": "2023-06-07T20:56:18.803220",
     "exception": false,
     "start_time": "2023-06-07T20:56:18.789027",
     "status": "completed"
    },
    "tags": []
   },
   "outputs": [],
   "source": [
    "def monitor_status_done(future):\n",
    "    print(\"\\nCallback function monitor_status_done() called.\")\n",
    "    if not future.error:\n",
    "        # future.result holds an ILAStatus object.\n",
    "        print_status(future.result)\n",
    "\n",
    "\n",
    "# Called asynchronously, with done callback function.\n",
    "# This thread will continue executing while monitoring of the ILA Status will happen in the event thread.\n",
    "future = ila.monitor_status(\n",
    "    max_wait_minutes=0.5, progress=status_progress, done=monitor_status_done\n",
    ")"
   ]
  },
  {
   "cell_type": "markdown",
   "id": "billion-financing",
   "metadata": {
    "papermill": {
     "duration": 0.005783,
     "end_time": "2023-06-07T20:56:18.814947",
     "exception": false,
     "start_time": "2023-06-07T20:56:18.809164",
     "status": "completed"
    },
    "tags": []
   },
   "source": [
    "## 10 - Toggle Counter Direction - Monitor Status\n",
    "- Use VIO to toggle counter up/down switch 3 times: DOWN/UP/DOWN.\n",
    "- This will cause the running ILA to trigger 3 times, capturing 3 windows of data.\n",
    "- The *status_progress* function will call *future.cancel()*, after 3 windows.\n",
    "- Observe messages:\n",
    "    - *status_progress* prints capture status.\n",
    "    - *status_progress* prints out message when calling *future.cancel()*.\n",
    "    - *done* function *monitor_status_done* prints message when called."
   ]
  },
  {
   "cell_type": "code",
   "execution_count": 13,
   "id": "sharing-affect",
   "metadata": {
    "execution": {
     "iopub.execute_input": "2023-06-07T20:56:18.832789Z",
     "iopub.status.busy": "2023-06-07T20:56:18.832421Z",
     "iopub.status.idle": "2023-06-07T20:56:25.212150Z",
     "shell.execute_reply": "2023-06-07T20:56:25.211672Z"
    },
    "papermill": {
     "duration": 6.390962,
     "end_time": "2023-06-07T20:56:25.212267",
     "exception": false,
     "start_time": "2023-06-07T20:56:18.821305",
     "status": "completed"
    },
    "tags": []
   },
   "outputs": [
    {
     "name": "stdout",
     "output_type": "stream",
     "text": [
      "\n",
      "Changing counter up/down direction.\n",
      "\n",
      "Capture State: TRIGGER -  Windows Captured: 0 of 10. - Samples in current window: 4 of 8.\n"
     ]
    },
    {
     "name": "stdout",
     "output_type": "stream",
     "text": [
      "\n",
      "Capture State: TRIGGER -  Windows Captured: 1 of 10. - Samples in current window: 4 of 8.\n"
     ]
    },
    {
     "name": "stdout",
     "output_type": "stream",
     "text": [
      "\n",
      "Changing counter up/down direction.\n"
     ]
    },
    {
     "name": "stdout",
     "output_type": "stream",
     "text": [
      "\n",
      "Capture State: TRIGGER -  Windows Captured: 2 of 10. - Samples in current window: 4 of 8.\n"
     ]
    },
    {
     "name": "stdout",
     "output_type": "stream",
     "text": [
      "\n",
      "Changing counter up/down direction.\n",
      "\n",
      "Capture State: TRIGGER -  Windows Captured: 3 of 10. - Samples in current window: 4 of 8.\n",
      "\n",
      "Cancelling ILA Status Monitor\n",
      "\n",
      "Callback function monitor_status_done() called.\n"
     ]
    }
   ],
   "source": [
    "for switch_value in [0, 1, 0]:\n",
    "    print(\"\\nChanging counter up/down direction.\")\n",
    "    vio.write_probes({\"chipscopy_i/counters/slow_counter_0_UP\": switch_value})\n",
    "    # Sleep 2.0 seconds.\n",
    "    sleep(2.0)"
   ]
  },
  {
   "cell_type": "markdown",
   "id": "acute-physiology",
   "metadata": {
    "papermill": {
     "duration": 0.00645,
     "end_time": "2023-06-07T20:56:25.226447",
     "exception": false,
     "start_time": "2023-06-07T20:56:25.219997",
     "status": "completed"
    },
    "tags": []
   },
   "source": [
    "## 11 - Status Monitor Completes\n",
    "- *future.result* will block until capture completes or is cancelled.\n",
    "- Status monitoring is cancelled.\n",
    "- *future.result* thows the cancel exception."
   ]
  },
  {
   "cell_type": "code",
   "execution_count": 14,
   "id": "collected-institute",
   "metadata": {
    "execution": {
     "iopub.execute_input": "2023-06-07T20:56:25.243653Z",
     "iopub.status.busy": "2023-06-07T20:56:25.243181Z",
     "iopub.status.idle": "2023-06-07T20:56:25.287375Z",
     "shell.execute_reply": "2023-06-07T20:56:25.286997Z"
    },
    "papermill": {
     "duration": 0.054839,
     "end_time": "2023-06-07T20:56:25.287451",
     "exception": false,
     "start_time": "2023-06-07T20:56:25.232612",
     "status": "completed"
    },
    "tags": []
   },
   "outputs": [
    {
     "name": "stdout",
     "output_type": "stream",
     "text": [
      "\n",
      "****** Status Monitor raised exception: 'Request Cancelled' ******\n",
      "\n",
      "Windows avaliable to upload: 3.\n"
     ]
    }
   ],
   "source": [
    "status = None\n",
    "try:\n",
    "    # future.result is blocking, until monitor_status() function has completed or timed-out or been cancelled.\n",
    "    status = future.result\n",
    "except Exception as ex:\n",
    "    # Catch cancel exception here.\n",
    "    print(f\"\\n****** Status Monitor raised exception: '{ex}' ******\\n\")\n",
    "\n",
    "if status:\n",
    "    print(\"Function monitor_status() has completed.\")\n",
    "else:\n",
    "    ila.refresh_status()\n",
    "\n",
    "print(f\"Windows avaliable to upload: {ila.status.windows_captured}.\")"
   ]
  },
  {
   "cell_type": "markdown",
   "id": "forbidden-signal",
   "metadata": {
    "papermill": {
     "duration": 0.005947,
     "end_time": "2023-06-07T20:56:25.299532",
     "exception": false,
     "start_time": "2023-06-07T20:56:25.293585",
     "status": "completed"
    },
    "tags": []
   },
   "source": [
    "## 12 - Upload and Print Data\n",
    "- Print the captured ILA samples and mark the trigger position.\n",
    "- Note that counter changes direction after the trigger mark."
   ]
  },
  {
   "cell_type": "code",
   "execution_count": 15,
   "id": "hearing-bosnia",
   "metadata": {
    "execution": {
     "iopub.execute_input": "2023-06-07T20:56:25.316942Z",
     "iopub.status.busy": "2023-06-07T20:56:25.316598Z",
     "iopub.status.idle": "2023-06-07T20:56:25.475115Z",
     "shell.execute_reply": "2023-06-07T20:56:25.474744Z"
    },
    "papermill": {
     "duration": 0.169536,
     "end_time": "2023-06-07T20:56:25.475206",
     "exception": false,
     "start_time": "2023-06-07T20:56:25.305670",
     "status": "completed"
    },
    "tags": []
   },
   "outputs": [
    {
     "name": "stdout",
     "output_type": "stream",
     "text": [
      "Window:0  Window Sample:0   611633469  0x2474C93D \n",
      "Window:0  Window Sample:1   611633470  0x2474C93E \n",
      "Window:0  Window Sample:2   611633471  0x2474C93F \n",
      "Window:0  Window Sample:3   611633472  0x2474C940 \n",
      "Window:0  Window Sample:4   611633473  0x2474C941 <-- Trigger\n",
      "Window:0  Window Sample:5   611633472  0x2474C940 \n",
      "Window:0  Window Sample:6   611633471  0x2474C93F \n",
      "Window:0  Window Sample:7   611633470  0x2474C93E \n",
      "Window:1  Window Sample:0   400917691  0x17E584BB \n",
      "Window:1  Window Sample:1   400917690  0x17E584BA \n",
      "Window:1  Window Sample:2   400917689  0x17E584B9 \n",
      "Window:1  Window Sample:3   400917688  0x17E584B8 \n",
      "Window:1  Window Sample:4   400917687  0x17E584B7 <-- Trigger\n",
      "Window:1  Window Sample:5   400917688  0x17E584B8 \n",
      "Window:1  Window Sample:6   400917689  0x17E584B9 \n",
      "Window:1  Window Sample:7   400917690  0x17E584BA \n",
      "Window:2  Window Sample:0   612442251  0x2481208B \n",
      "Window:2  Window Sample:1   612442252  0x2481208C \n",
      "Window:2  Window Sample:2   612442253  0x2481208D \n",
      "Window:2  Window Sample:3   612442254  0x2481208E \n",
      "Window:2  Window Sample:4   612442255  0x2481208F <-- Trigger\n",
      "Window:2  Window Sample:5   612442254  0x2481208E \n",
      "Window:2  Window Sample:6   612442253  0x2481208D \n",
      "Window:2  Window Sample:7   612442252  0x2481208C \n"
     ]
    }
   ],
   "source": [
    "ila.upload()\n",
    "samples = ila.waveform.get_data(\n",
    "    [\"chipscopy_i/counters/slow_counter_0_Q_1\"],\n",
    "    include_trigger=True,\n",
    "    include_sample_info=True,\n",
    ")\n",
    "for trigger, sample_index, window_index, window_sample_index, value in zip(*samples.values()):\n",
    "    trigger = \"<-- Trigger\" if trigger else \"\"\n",
    "    print(\n",
    "        f\"Window:{window_index}  Window Sample:{window_sample_index}  {value:10}  0x{value:08X} {trigger}\"\n",
    "    )"
   ]
  },
  {
   "cell_type": "code",
   "execution_count": null,
   "id": "packed-child",
   "metadata": {
    "papermill": {
     "duration": 0.00605,
     "end_time": "2023-06-07T20:56:25.488537",
     "exception": false,
     "start_time": "2023-06-07T20:56:25.482487",
     "status": "completed"
    },
    "tags": []
   },
   "outputs": [],
   "source": []
  }
 ],
 "metadata": {
  "jupytext": {
   "cell_metadata_filter": "-all",
   "formats": "ipynb,py"
  },
  "kernelspec": {
   "display_name": "Python 3 (ipykernel)",
   "language": "python",
   "name": "python3"
  },
  "language_info": {
   "codemirror_mode": {
    "name": "ipython",
    "version": 3
   },
   "file_extension": ".py",
   "mimetype": "text/x-python",
   "name": "python",
   "nbconvert_exporter": "python",
   "pygments_lexer": "ipython3",
   "version": "3.9.16"
  },
  "papermill": {
   "default_parameters": {},
   "duration": 26.227285,
   "end_time": "2023-06-07T20:56:30.897448",
   "environment_variables": {},
   "exception": null,
   "input_path": "ila_monitor_status.ipynb",
   "output_path": "output",
   "parameters": {},
   "start_time": "2023-06-07T20:56:04.670163",
   "version": "2.4.0"
  },
  "widgets": {
   "application/vnd.jupyter.widget-state+json": {
    "state": {
     "36d8ae9e70ca48b6a0c0a4b73b621a3f": {
      "model_module": "@jupyter-widgets/output",
      "model_module_version": "1.0.0",
      "model_name": "OutputModel",
      "state": {
       "_dom_classes": [],
       "_model_module": "@jupyter-widgets/output",
       "_model_module_version": "1.0.0",
       "_model_name": "OutputModel",
       "_view_count": null,
       "_view_module": "@jupyter-widgets/output",
       "_view_module_version": "1.0.0",
       "_view_name": "OutputView",
       "layout": "IPY_MODEL_4cd7d0762b884cc3bd52bc792606608e",
       "msg_id": "",
       "outputs": [
        {
         "data": {
          "text/html": "<pre style=\"white-space:pre;overflow-x:auto;line-height:normal;font-family:Menlo,'DejaVu Sans Mono',consolas,'Courier New',monospace\">Device program progress <span style=\"color: #729c1f; text-decoration-color: #729c1f\">━━━━━━━━━━━━━━━━━━━━━━━━━━━━━━━━━━━━━━━━</span> <span style=\"color: #ff00ff; text-decoration-color: #ff00ff; font-weight: bold\">100%</span> <span style=\"color: #008000; text-decoration-color: #008000; font-weight: bold\">Done</span>\n</pre>\n",
          "text/plain": "<rich.jupyter.JupyterRenderable at 0x7f3ad04ac1f0>"
         },
         "metadata": {},
         "output_type": "display_data"
        }
       ]
      }
     },
     "4cd7d0762b884cc3bd52bc792606608e": {
      "model_module": "@jupyter-widgets/base",
      "model_module_version": "1.2.0",
      "model_name": "LayoutModel",
      "state": {
       "_model_module": "@jupyter-widgets/base",
       "_model_module_version": "1.2.0",
       "_model_name": "LayoutModel",
       "_view_count": null,
       "_view_module": "@jupyter-widgets/base",
       "_view_module_version": "1.2.0",
       "_view_name": "LayoutView",
       "align_content": null,
       "align_items": null,
       "align_self": null,
       "border": null,
       "bottom": null,
       "display": null,
       "flex": null,
       "flex_flow": null,
       "grid_area": null,
       "grid_auto_columns": null,
       "grid_auto_flow": null,
       "grid_auto_rows": null,
       "grid_column": null,
       "grid_gap": null,
       "grid_row": null,
       "grid_template_areas": null,
       "grid_template_columns": null,
       "grid_template_rows": null,
       "height": null,
       "justify_content": null,
       "justify_items": null,
       "left": null,
       "margin": null,
       "max_height": null,
       "max_width": null,
       "min_height": null,
       "min_width": null,
       "object_fit": null,
       "object_position": null,
       "order": null,
       "overflow": null,
       "overflow_x": null,
       "overflow_y": null,
       "padding": null,
       "right": null,
       "top": null,
       "visibility": null,
       "width": null
      }
     }
    },
    "version_major": 2,
    "version_minor": 0
   }
  }
 },
 "nbformat": 4,
 "nbformat_minor": 5
}
