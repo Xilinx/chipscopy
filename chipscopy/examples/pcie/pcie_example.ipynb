{
 "cells": [
  {
   "cell_type": "code",
   "execution_count": null,
   "metadata": {},
   "outputs": [],
   "source": [
    "# Copyright 2021 Xilinx, Inc.\n",
    "# \n",
    "# Licensed under the Apache License, Version 2.0 (the \"License\");\n",
    "# you may not use this file except in compliance with the License.\n",
    "# You may obtain a copy of the License at\n",
    "# \n",
    "#     http://www.apache.org/licenses/LICENSE-2.0\n",
    "# \n",
    "# Unless required by applicable law or agreed to in writing, software\n",
    "# distributed under the License is distributed on an \"AS IS\" BASIS,\n",
    "# WITHOUT WARRANTIES OR CONDITIONS OF ANY KIND, either express or implied.\n",
    "# See the License for the specific language governing permissions and\n",
    "# limitations under the License."
   ]
  },
  {
   "cell_type": "code",
   "execution_count": null,
   "metadata": {},
   "outputs": [],
   "source": [
    "import os\n",
    "import re"
   ]
  },
  {
   "cell_type": "code",
   "execution_count": null,
   "metadata": {},
   "outputs": [],
   "source": [
    "import chipscopy\n",
    "from chipscopy import create_session\n",
    "import networkx as nx\n",
    "import matplotlib.pyplot as plt\n",
    "import colorama"
   ]
  },
  {
   "cell_type": "code",
   "execution_count": null,
   "metadata": {},
   "outputs": [],
   "source": [
    "if \"PYCHARM_HOSTED\" not in os.environ:\n",
    "    colorama.init(convert=True)"
   ]
  },
  {
   "cell_type": "code",
   "execution_count": null,
   "metadata": {},
   "outputs": [],
   "source": [
    "server_dict = {\n",
    "    \"ibert-1\": {\"board\": \"tenzing\", \"design_name\": \"pcie_spoof\", \"ltx\": \"pcie_spoof.ltx\"},\n",
    "    \"ibert-0\": {\"board\": \"tenzing\", \"design_name\": \"pcie_spoof\", \"ltx\": \"pcie_spoof.ltx\"},\n",
    "    \"xsjltlab45\": {\"board\": \"v350\", \"design_name\": \"pcie_demo\", \"ltx\": \"xilinx_pcie_versal_ep.ltx\"},\n",
    "    \"XCOIPSLAB30\": {\n",
    "        \"board\": \"v350\",\n",
    "        \"design_name\": \"pcie_demo\",\n",
    "        \"ltx\": \"xilinx_pcie_versal_ep.ltx\",\n",
    "    },\n",
    "}"
   ]
  },
  {
   "cell_type": "code",
   "execution_count": null,
   "metadata": {},
   "outputs": [],
   "source": [
    "server_name = \"ibert-1\""
   ]
  },
  {
   "cell_type": "markdown",
   "metadata": {},
   "source": [
    "HUB_ADDRESSES = [0xA4200000]\n",
    "HUB_ADDRESSES = [0x00080000000]\n",
    "CS_URL = \"TCP:localhost:3042\"\n",
    "HW_URL = \"TCP:xsjltlab45:3121\""
   ]
  },
  {
   "cell_type": "code",
   "execution_count": null,
   "metadata": {},
   "outputs": [],
   "source": [
    "# Specify locations of the running hw_server and cs_server below.\n",
    "CS_URL = os.getenv(\"CS_SERVER_URL\", \"TCP:localhost:3042\")\n",
    "HW_URL = os.getenv(\"HW_SERVER_URL\", f\"TCP:{server_name}:3121\")"
   ]
  },
  {
   "cell_type": "code",
   "execution_count": null,
   "metadata": {},
   "outputs": [],
   "source": [
    "EXAMPLES_DIR = os.path.dirname(os.path.realpath(__file__ + \"/..\"))\n",
    "BOARD = server_dict[server_name][\"board\"]\n",
    "# PDI_FILE = f\"{EXAMPLES_DIR}/designs/{BOARD}/pcie_demo/pcie_demo_wrapper.pdi\"\n",
    "LTX_FILE = (\n",
    "    f\"{EXAMPLES_DIR}/designs/{BOARD}\"\n",
    "    f\"/{server_dict[server_name]['design_name']}/{server_dict[server_name]['ltx']}\"\n",
    ")"
   ]
  },
  {
   "cell_type": "code",
   "execution_count": null,
   "metadata": {},
   "outputs": [],
   "source": [
    "def cap(s):\n",
    "    return \".\".join(i.capitalize() for i in s.split(\".\"))"
   ]
  },
  {
   "cell_type": "code",
   "execution_count": null,
   "metadata": {},
   "outputs": [],
   "source": [
    "if __name__ == \"__main__\":\n",
    "    print(f\"chipscopy api version: {chipscopy.__version__}\")\n",
    "    print()\n",
    "\n",
    "    session = create_session(cs_server_url=CS_URL, hw_server_url=HW_URL)\n",
    "\n",
    "    print(f\"hw_server {session.hw_server.url} info:\")\n",
    "    print(session.hw_server.version_info)\n",
    "    print()\n",
    "    print(f\"cs_server {session.cs_server.url} info:\")\n",
    "    print(session.cs_server.version_info)\n",
    "    print(\"\\n\")\n",
    "\n",
    "    # Use the first available device and setup its debug cores\n",
    "    if len(session.devices) == 0:\n",
    "        print(\"\\nNo devices detected\")\n",
    "\n",
    "    versal_device = session.devices[0]\n",
    "\n",
    "    print(f\"Discovering debug cores...\")\n",
    "    versal_device.discover_and_setup_cores(ltx_file=LTX_FILE)\n",
    "\n",
    "    # How many PCIe cores did we find?\n",
    "    pcie_count = len(versal_device.pcie_cores)\n",
    "    print(f\"\\nFound {pcie_count} PCIe cores in design\")\n",
    "\n",
    "    if pcie_count == 0:\n",
    "        print(\"No PCIe core found! Exiting...\")\n",
    "        exit()\n",
    "\n",
    "    pcie_cores = versal_device.pcie_cores\n",
    "    for index, pcie_core in enumerate(pcie_cores):\n",
    "        print(f\"    PCIe Core #{index}: NAME={pcie_core.name}, UUID={pcie_core.uuid}\")\n",
    "\n",
    "    pcie = pcie_cores[0]\n",
    "\n",
    "    plt = pcie.get_plt().show()"
   ]
  }
 ],
 "metadata": {
  "jupytext": {
   "cell_metadata_filter": "-all",
   "formats": "examples///ipynb,examples///py:percent",
   "main_language": "python",
   "notebook_metadata_filter": "-all"
  },
  "kernelspec": {
   "display_name": "Python 3",
   "language": "python",
   "name": "python3"
  },
  "language_info": {
   "codemirror_mode": {
    "name": "ipython",
    "version": 3
   },
   "file_extension": ".py",
   "mimetype": "text/x-python",
   "name": "python",
   "nbconvert_exporter": "python",
   "pygments_lexer": "ipython3",
   "version": "3.8.8"
  }
 },
 "nbformat": 4,
 "nbformat_minor": 4
}
