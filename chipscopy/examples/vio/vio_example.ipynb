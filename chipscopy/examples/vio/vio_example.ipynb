{
 "cells": [
  {
   "cell_type": "code",
   "execution_count": null,
   "metadata": {
    "collapsed": false
   },
   "outputs": [],
   "source": [
    "#   Copyright (c) 2020, Xilinx, Inc.\n",
    "#   All rights reserved.\n",
    "#\n",
    "#   Redistribution and use in source and binary forms, with or without\n",
    "#   modification, are permitted provided that the following conditions are met:\n",
    "#\n",
    "#   1.  Redistributions of source code must retain the above copyright notice,\n",
    "#       this list of conditions and the following disclaimer.\n",
    "#\n",
    "#   2.  Redistributions in binary form must reproduce the above copyright\n",
    "#       notice, this list of conditions and the following disclaimer in the\n",
    "#       documentation and/or other materials provided with the distribution.\n",
    "#\n",
    "#   3.  Neither the name of the copyright holder nor the names of its\n",
    "#       contributors may be used to endorse or promote products derived from\n",
    "#       this software without specific prior written permission.\n",
    "#\n",
    "#   THIS SOFTWARE IS PROVIDED BY THE COPYRIGHT HOLDERS AND CONTRIBUTORS \"AS IS\"\n",
    "#   AND ANY EXPRESS OR IMPLIED WARRANTIES, INCLUDING, BUT NOT LIMITED TO,\n",
    "#   THE IMPLIED WARRANTIES OF MERCHANTABILITY AND FITNESS FOR A PARTICULAR\n",
    "#   PURPOSE ARE DISCLAIMED. IN NO EVENT SHALL THE COPYRIGHT HOLDER OR\n",
    "#   CONTRIBUTORS BE LIABLE FOR ANY DIRECT, INDIRECT, INCIDENTAL, SPECIAL,\n",
    "#   EXEMPLARY, OR CONSEQUENTIAL DAMAGES (INCLUDING, BUT NOT LIMITED TO,\n",
    "#   PROCUREMENT OF SUBSTITUTE GOODS OR SERVICES; LOSS OF USE, DATA, OR PROFITS;\n",
    "#   OR BUSINESS INTERRUPTION). HOWEVER CAUSED AND ON ANY THEORY OF LIABILITY,\n",
    "#   WHETHER IN CONTRACT, STRICT LIABILITY, OR TORT (INCLUDING NEGLIGENCE OR\n",
    "#   OTHERWISE) ARISING IN ANY WAY OUT OF THE USE OF THIS SOFTWARE, EVEN IF\n",
    "#   ADVISED OF THE POSSIBILITY OF SUCH DAMAGE."
   ]
  },
  {
   "cell_type": "markdown",
   "metadata": {},
   "source": [
    "VIO Example\n",
    "==========="
   ]
  },
  {
   "cell_type": "markdown",
   "metadata": {},
   "source": [
    "Description\n",
    "-----------\n",
    "This demo shows how to do three things:\n",
    "1. Connect to a Versal target device via ChipScope Server (cs_server)\n",
    "   and Hardware Server (hw_server)\n",
    "2. Program a Versal target device using a design PDI file\n",
    "3. Communicate with a VIO debug core in hardware\n",
    "\n",
    "Requirements\n",
    "------------\n",
    "The following is required to run this demo:\n",
    "1. Local or remote access to a Versal device\n",
    "2. cs_server and hw_server applications\n",
    "3. Python 3.7 environment\n",
    "4. Pip-installed chipscopy python package\n",
    "\n",
    "---"
   ]
  },
  {
   "cell_type": "markdown",
   "metadata": {},
   "source": [
    "## Step 1 - Set up environment"
   ]
  },
  {
   "cell_type": "code",
   "execution_count": 1,
   "metadata": {
    "pycharm": {
     "name": "#%%\n"
    }
   },
   "outputs": [
    {
     "name": "stdout",
     "output_type": "stream",
     "text": [
      "HW_URL=TCP:gomphus2:3121\n",
      "CS_URL=TCP:xsjmdarnall40x:3042\n",
      "PDI=C:\\Users\\mdarnall\\dev\\git\\chipscopy_dev\\chipscopy\\chipscopy\\examples/designs/vck190/production/2.0/ks_demo/ks_demo_wrapper.pdi\n",
      "LTX=C:\\Users\\mdarnall\\dev\\git\\chipscopy_dev\\chipscopy\\chipscopy\\examples/designs/vck190/production/2.0/ks_demo/ks_demo_wrapper.ltx\n"
     ]
    }
   ],
   "source": [
    "import os\n",
    "from chipscopy import get_examples_dir_or_die\n",
    "\n",
    "# Specify locations of the running hw_server and cs_server below.\n",
    "CS_URL = os.getenv(\"CS_SERVER_URL\", \"TCP:localhost:3042\")\n",
    "HW_URL = os.getenv(\"HW_SERVER_URL\", \"TCP:localhost:3121\")\n",
    "BOARD = os.getenv(\"HW_SERVER_BOARD\", \"vck190/production/2.0\")\n",
    "\n",
    "EXAMPLES_DIR = get_examples_dir_or_die()\n",
    "PDI_FILE = f\"{EXAMPLES_DIR}/designs/{BOARD}/ks_demo/ks_demo_wrapper.pdi\"\n",
    "assert os.path.isfile(PDI_FILE)\n",
    "LTX_FILE = f\"{EXAMPLES_DIR}/designs/{BOARD}/ks_demo/ks_demo_wrapper.ltx\"\n",
    "assert os.path.isfile(LTX_FILE)\n",
    "\n",
    "print(f\"HW_URL={HW_URL}\")\n",
    "print(f\"CS_URL={CS_URL}\")\n",
    "print(f\"PDI={PDI_FILE}\")\n",
    "print(f\"LTX={LTX_FILE}\")"
   ]
  },
  {
   "cell_type": "markdown",
   "metadata": {},
   "source": [
    "## Step 2 - Create a session and connect to the server(s)\n",
    "Here we create a new session and print out version information for diagnostic purposes.\n",
    "The session is a container that keeps track of devices and debug cores."
   ]
  },
  {
   "cell_type": "code",
   "execution_count": 2,
   "metadata": {
    "pycharm": {
     "name": "#%%\n"
    }
   },
   "outputs": [
    {
     "name": "stdout",
     "output_type": "stream",
     "text": [
      "Using chipscopy api version: 2020.3.1601921484\n"
     ]
    },
    {
     "data": {
      "text/html": [
       "<pre style=\"white-space:pre;overflow-x:auto;line-height:normal;font-family:Menlo,'DejaVu Sans Mono',consolas,'Courier New',monospace\">\n",
       "\n",
       "</pre>\n"
      ],
      "text/plain": [
       "<rich.jupyter.JupyterRenderable at 0x24473981c40>"
      ]
     },
     "metadata": {},
     "output_type": "display_data"
    },
    {
     "data": {
      "text/html": [
       "<pre style=\"white-space:pre;overflow-x:auto;line-height:normal;font-family:Menlo,'DejaVu Sans Mono',consolas,'Courier New',monospace\"><span style=\"font-style: italic\">                             Session version info                             </span>\n",
       "┌─────────────────────────────────┬──────────────────────────────────────────┐\n",
       "│<span style=\"font-weight: bold\">                          Entity </span>│<span style=\"font-weight: bold\"> Version                                  </span>│\n",
       "├─────────────────────────────────┼──────────────────────────────────────────┤\n",
       "│                   ChipScoPy API │ 2020.3.1601921484                        │\n",
       "│                                 │                                          │\n",
       "│       hw_server @ gomphus2:3121 │ ┌───────────┬──────────────────────────┐ │\n",
       "│                                 │ │<span style=\"font-weight: bold\"> Attribute </span>│<span style=\"font-weight: bold\"> Value                    </span>│ │\n",
       "│                                 │ ├───────────┼──────────────────────────┤ │\n",
       "│                                 │ │    Status │ Connected                │ │\n",
       "│                                 │ │     Build │ 1604011932               │ │\n",
       "│                                 │ │   Version │ 2020.3.0                 │ │\n",
       "│                                 │ │ Timestamp │ Thu Oct 29 16:52:12 2020 │ │\n",
       "│                                 │ └───────────┴──────────────────────────┘ │\n",
       "│                                 │                                          │\n",
       "│ cs_server @ xsjmdarnall40x:3042 │ ┌───────────────┬──────────────────────┐ │\n",
       "│                                 │ │<span style=\"font-weight: bold\">     Attribute </span>│<span style=\"font-weight: bold\"> Value                </span>│ │\n",
       "│                                 │ ├───────────────┼──────────────────────┤ │\n",
       "│                                 │ │        Status │ Connected            │ │\n",
       "│                                 │ │         Build │ 1603927309           │ │\n",
       "│                                 │ │       Version │ 2020.3               │ │\n",
       "│                                 │ │     Timestamp │ Oct 28 2020-16:21:49 │ │\n",
       "│                                 │ │       Package │ 2020.3.1603927309    │ │\n",
       "│                                 │ │ Artifact type │ pyinstaller          │ │\n",
       "│                                 │ └───────────────┴──────────────────────┘ │\n",
       "└─────────────────────────────────┴──────────────────────────────────────────┘\n",
       "</pre>\n"
      ],
      "text/plain": [
       "<rich.jupyter.JupyterRenderable at 0x24473981700>"
      ]
     },
     "metadata": {},
     "output_type": "display_data"
    },
    {
     "data": {
      "text/html": [
       "<pre style=\"white-space:pre;overflow-x:auto;line-height:normal;font-family:Menlo,'DejaVu Sans Mono',consolas,'Courier New',monospace\">\n",
       "\n",
       "</pre>\n"
      ],
      "text/plain": [
       "<rich.jupyter.JupyterRenderable at 0x24473981d90>"
      ]
     },
     "metadata": {},
     "output_type": "display_data"
    }
   ],
   "source": [
    "import chipscopy\n",
    "from chipscopy import create_session, report_versions\n",
    "\n",
    "print(f\"Using chipscopy api version: {chipscopy.__version__}\")\n",
    "session = create_session(cs_server_url=CS_URL, hw_server_url=HW_URL)\n",
    "report_versions(session)"
   ]
  },
  {
   "cell_type": "markdown",
   "metadata": {},
   "source": [
    "## Step 3 - Get our device from the session"
   ]
  },
  {
   "cell_type": "code",
   "execution_count": 3,
   "metadata": {
    "pycharm": {
     "name": "#%%\n"
    }
   },
   "outputs": [],
   "source": [
    "\n",
    "# Use the first available device and setup its debug cores\n",
    "if len(session.devices) == 0:\n",
    "    raise ValueError(\"No devices detected\")\n",
    "versal_device = session.devices[0]"
   ]
  },
  {
   "cell_type": "markdown",
   "metadata": {},
   "source": [
    "## Step 4 - Program the device with our example PDI"
   ]
  },
  {
   "cell_type": "code",
   "execution_count": 4,
   "metadata": {
    "pycharm": {
     "name": "#%%\n"
    }
   },
   "outputs": [
    {
     "name": "stdout",
     "output_type": "stream",
     "text": [
      "Programming C:\\Users\\mdarnall\\dev\\git\\chipscopy_dev\\chipscopy\\chipscopy\\examples/designs/vck190/production/2.0/ks_demo/ks_demo_wrapper.pdi...\n",
      "\n"
     ]
    },
    {
     "data": {
      "text/html": [
       "<pre style=\"white-space:pre;overflow-x:auto;line-height:normal;font-family:Menlo,'DejaVu Sans Mono',consolas,'Courier New',monospace\">\n",
       "<span style=\"font-weight: bold\">--&gt; INFO: Programming PDI file </span><span style=\"font-weight: bold; font-style: italic\">C:\\Users\\mdarnall\\dev\\git\\chipscopy_dev\\chipscopy\\chipscopy\\ex</span>\n",
       "<span style=\"font-weight: bold; font-style: italic\">amples\\designs\\vck190\\production\\2.0\\ks_demo\\ks_demo_wrapper.pdi</span>\n",
       "</pre>\n"
      ],
      "text/plain": [
       "<rich.jupyter.JupyterRenderable at 0x24472149c40>"
      ]
     },
     "metadata": {},
     "output_type": "display_data"
    },
    {
     "data": {
      "application/vnd.jupyter.widget-view+json": {
       "model_id": "1dcce23e7fef4141bd659333e5c3347b",
       "version_major": 2,
       "version_minor": 0
      },
      "text/plain": [
       "Output()"
      ]
     },
     "metadata": {},
     "output_type": "display_data"
    }
   ],
   "source": [
    "print(f\"Programming {PDI_FILE}...\")\n",
    "versal_device.program(PDI_FILE)"
   ]
  },
  {
   "cell_type": "markdown",
   "metadata": {},
   "source": [
    "## Step 5 - Detect Debug Cores"
   ]
  },
  {
   "cell_type": "code",
   "execution_count": 5,
   "metadata": {
    "pycharm": {
     "name": "#%%\n"
    }
   },
   "outputs": [
    {
     "name": "stdout",
     "output_type": "stream",
     "text": [
      "Discovering debug cores...\n",
      "\n",
      "Found 2 VIO cores in design\n"
     ]
    }
   ],
   "source": [
    "\n",
    "print(f\"Discovering debug cores...\")\n",
    "versal_device.discover_and_setup_cores(ltx_file=LTX_FILE)\n",
    "\n",
    "vio_count = len(versal_device.vio_cores)\n",
    "print(f\"\\nFound {vio_count} VIO cores in design\")\n",
    "assert vio_count == 2"
   ]
  },
  {
   "cell_type": "markdown",
   "metadata": {},
   "source": [
    "### Find the VIO cores\n",
    "This shows some different ways to find the VIO core - by name, by uuid, or by index\n",
    "and how to print port names and probe names."
   ]
  },
  {
   "cell_type": "code",
   "execution_count": 7,
   "metadata": {
    "pycharm": {
     "name": "#%%\n"
    }
   },
   "outputs": [
    {
     "name": "stdout",
     "output_type": "stream",
     "text": [
      "\n",
      "VIO Core Index 0\n",
      "NAME       : VIO_4\n",
      "UUID       : F77F6EBA28EE5440BA5736D4147F4955\n",
      "PORT_NAMES : ['probe_in0', 'probe_out0', 'probe_out1', 'probe_out2', 'probe_out3', 'probe_out4']\n",
      "PROBE_NAMES: ['ks_demo_i/fast_counter_0_Q', 'ks_demo_i/fast_counter_0_CE', 'ks_demo_i/fast_counter_0_SCLR', 'ks_demo_i/fast_counter_0_UP', 'ks_demo_i/fast_counter_0_LOAD', 'ks_demo_i/fast_counter_0_L']\n",
      "\n",
      "VIO Core Index 1\n",
      "NAME       : VIO_5\n",
      "UUID       : 499D80541CE65035B25919B9E0CD7838\n",
      "PORT_NAMES : ['probe_in0', 'probe_out0', 'probe_out1', 'probe_out2', 'probe_out3', 'probe_out4']\n",
      "PROBE_NAMES: ['ks_demo_i/slow_counter_0_Q', 'ks_demo_i/slow_counter_0_CE', 'ks_demo_i/slow_counter_0_SCLR', 'ks_demo_i/slow_counter_0_UP', 'ks_demo_i/slow_counter_0_LOAD', 'ks_demo_i/slow_counter_0_L']\n"
     ]
    }
   ],
   "source": [
    "vio_cores = versal_device.vio_cores\n",
    "for index, vio_core in enumerate(vio_cores):\n",
    "    print(f\"\\nVIO Core Index {index}\")\n",
    "    print(\"NAME       :\", vio_core.name)\n",
    "    print(\"UUID       :\", vio_core.uuid)\n",
    "    print(\"PORT_NAMES :\", vio_core.port_names)\n",
    "    print(\"PROBE_NAMES:\", vio_core.probe_names)\n",
    "\n",
    "# Get VIO by uuid:\n",
    "vio_by_uuid = versal_device.vio_cores.filter_by(uuid=\"499D80541CE65035B25919B9E0CD7838\")[0]\n",
    "\n",
    "my_vio = vio_by_uuid"
   ]
  },
  {
   "cell_type": "markdown",
   "metadata": {
    "pycharm": {
     "name": "#%% md\n"
    }
   },
   "source": [
    "## Step 6 - Read and Write Ports\n",
    "- Write known value to port \"probe_out4\"\n",
    "- Verify value was written to port \"probe_out4\"\n",
    "- Reset port to default value"
   ]
  },
  {
   "cell_type": "code",
   "execution_count": 8,
   "metadata": {
    "pycharm": {
     "name": "#%%\n"
    }
   },
   "outputs": [
    {
     "name": "stdout",
     "output_type": "stream",
     "text": [
      "\n",
      "Port Data before write: {'probe_out4': {'value': 0}}\n",
      "Wrote 12345678 to probe_out4\n",
      "Port Data after write: {'probe_out4': {'value': 12345678}}\n"
     ]
    }
   ],
   "source": [
    "my_vio.reset_vio()\n",
    "print(\"\\nPort Data before write:\", my_vio.read_ports([\"probe_out4\"]))\n",
    "new_port_values = {\"probe_out4\": 12345678}\n",
    "my_vio.write_ports(new_port_values)\n",
    "print(f\"Wrote {12345678} to probe_out4\")\n",
    "print(\"Port Data after write:\", my_vio.read_ports([\"probe_out4\"]))"
   ]
  },
  {
   "cell_type": "markdown",
   "metadata": {
    "collapsed": false
   },
   "source": [
    "## Step 7 - Read and Write Probes\n",
    "- Port probe_out4 is the same as probe ks_demo_i/slow_counter_0_L\n",
    "- Write known value to port probe_out4\n",
    "- Read value back from probe ks_demo_i/slow_counter_0_L\n",
    "- Verify value is the same as written to probe_out4"
   ]
  },
  {
   "cell_type": "code",
   "execution_count": 9,
   "metadata": {
    "collapsed": false,
    "pycharm": {
     "name": "#%%\n"
    }
   },
   "outputs": [
    {
     "name": "stdout",
     "output_type": "stream",
     "text": [
      "\n",
      "Port Data before write: {'probe_out4': {'value': 0}}\n",
      "Probe Data before write: {'ks_demo_i/slow_counter_0_L': 0}\n",
      "Wrote 12345678 to probe_out4\n",
      "Port Data after write: {'probe_out4': {'value': 12345678}}\n",
      "Probe Data after write: {'ks_demo_i/slow_counter_0_L': 12345678}\n"
     ]
    }
   ],
   "source": [
    "my_vio.reset_vio()\n",
    "print(\"\\nPort Data before write:\", my_vio.read_ports([\"probe_out4\"]))\n",
    "print(\"Probe Data before write:\", my_vio.read_probes([\"ks_demo_i/slow_counter_0_L\"]))\n",
    "my_vio.write_ports(new_port_values)\n",
    "new_port_values = {\"probe_out4\": 12345678}\n",
    "my_vio.write_ports(new_port_values)\n",
    "print(f\"Wrote {12345678} to probe_out4\")\n",
    "print(\"Port Data after write:\", my_vio.read_ports([\"probe_out4\"]))\n",
    "print(\"Probe Data after write:\", my_vio.read_probes([\"ks_demo_i/slow_counter_0_L\"]))"
   ]
  }
 ],
 "metadata": {
  "jupytext": {
   "cell_metadata_filter": "pycharm,-all",
   "formats": "examples///ipynb,examples///py:percent",
   "main_language": "python",
   "notebook_metadata_filter": "-all"
  },
  "kernelspec": {
   "display_name": "Python 3",
   "language": "python",
   "name": "python3"
  },
  "language_info": {
   "codemirror_mode": {
    "name": "ipython",
    "version": 3
   },
   "file_extension": ".py",
   "mimetype": "text/x-python",
   "name": "python",
   "nbconvert_exporter": "python",
   "pygments_lexer": "ipython3",
   "version": "3.7.6"
  }
 },
 "nbformat": 4,
 "nbformat_minor": 2
}
