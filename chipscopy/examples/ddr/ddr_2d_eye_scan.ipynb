{
  "cells": [
    {
      "cell_type": "markdown",
      "id": "1e8a64e8",
      "metadata": {},
      "source": [
        "<link rel=\"preconnect\" href=\"https://fonts.gstatic.com\">\n",
        "<link href=\"https://fonts.googleapis.com/css2?family=Fira+Code&display=swap\" rel=\"stylesheet\">\n",
        "\n",
        "### License\n",
        "\n",
        "<p style=\"font-family: 'Fira Code', monospace; font-size: 1.2rem\">\n",
        "Copyright (C) 2021-2022, Xilinx, Inc.\n",
        "Copyright (C) 2022-2023, Advanced Micro Devices, Inc.\n",
        "<br><br>\n",
        "Licensed under the Apache License, Version 2.0 (the \"License\");<br>\n",
        "you may not use this file except in compliance with the License.<br><br>\n",
        "You may obtain a copy of the License at <a href=\"http://www.apache.org/licenses/LICENSE-2.0\"?>http://www.apache.org/licenses/LICENSE-2.0</a><br><br>\n",
        "Unless required by applicable law or agreed to in writing, software<br>\n",
        "distributed under the License is distributed on an \"AS IS\" BASIS,<br>\n",
        "WITHOUT WARRANTIES OR CONDITIONS OF ANY KIND, either express or implied.<br>\n",
        "See the License for the specific language governing permissions and<br>\n",
        "limitations under the License.<br>\n",
        "</p>\n"
      ],
      "outputs": [],
      "execution_count": null
    },
    {
      "cell_type": "markdown",
      "id": "3c132aa3",
      "metadata": {},
      "source": [
        "# ChipScoPy DDR 2D Eye Margin Scan Example\n",
        "\n",
        "\n",
        "<img src=\"../img/api_overview.png\" width=\"500\" align=\"left\">"
      ],
      "outputs": [],
      "execution_count": null
    },
    {
      "cell_type": "markdown",
      "id": "d29e34b6",
      "metadata": {},
      "source": [
        "## Description\n",
        "This demo shows how to exercise and run Versal DDRMC 2D Margin Scan features\n",
        "\n",
        "\n",
        "## Requirements\n",
        "- Local or remote Xilinx Versal board, such as a VCK190\n",
        "- Xilinx hw_server 2023.2 installed and running\n",
        "- Xilinx cs_server 2023.2 installed and running\n",
        "- Python 3.8 or greater installed\n",
        "- ChipScoPy 2023.2 installed\n",
        "- Jupyter notebook support and extra libs needed - Please do so, using the command `pip install chipscopy[core-addons]`"
      ],
      "outputs": [],
      "execution_count": null
    },
    {
      "cell_type": "markdown",
      "id": "990d1d23",
      "metadata": {},
      "source": [
        "## 1 - Initialization: Imports and File Paths\n",
        "\n",
        "After this step,\n",
        "- Required functions and classes are imported\n",
        "- URL paths are set correctly\n",
        "- File paths to example files are set correctly"
      ],
      "outputs": [],
      "execution_count": null
    },
    {
      "cell_type": "code",
      "execution_count": null,
      "id": "d04009a7",
      "metadata": {},
      "outputs": [],
      "source": [
        "import sys\n",
        "import os\n",
        "import pprint\n",
        "from chipscopy import create_session, delete_session, report_versions\n",
        "from chipscopy import get_design_files\n",
        "from ddr_scan_util import convert_vref_pct_to_code"
      ]
    },
    {
      "cell_type": "code",
      "execution_count": null,
      "id": "59260290",
      "metadata": {},
      "outputs": [],
      "source": [
        "# Make sure to start the hw_server and cs_server prior to running.\n",
        "# Specify locations of the running hw_server and cs_server below.\n",
        "# The default is localhost - but can be other locations on the network.\n",
        "CS_URL = os.getenv(\"CS_SERVER_URL\", \"TCP:localhost:3042\")\n",
        "HW_URL = os.getenv(\"HW_SERVER_URL\", \"TCP:localhost:3121\")\n",
        "\n",
        "# specify hw and if programming is desired\n",
        "HW_PLATFORM = os.getenv(\"HW_PLATFORM\", \"vck190\")\n",
        "PROG_DEVICE = os.getenv(\"PROG_DEVICE\", True)\n",
        "\n",
        "# The get_design_files() function tries to find the PDI and LTX files. In non-standard\n",
        "# configurations, you can put the path for PROGRAMMING_FILE and PROBES_FILE below.\n",
        "design_files = get_design_files(f\"{HW_PLATFORM}/production/chipscopy_ced\")\n",
        "\n",
        "PROGRAMMING_FILE = design_files.programming_file\n",
        "PROBES_FILE = design_files.probes_file\n",
        "\n",
        "print(f\"HW_URL: {HW_URL}\")\n",
        "print(f\"CS_URL: {CS_URL}\")\n",
        "print(f\"PROGRAMMING_FILE: {PROGRAMMING_FILE}\")\n",
        "print(f\"PROBES_FILE:{PROBES_FILE}\")"
      ]
    },
    {
      "cell_type": "code",
      "execution_count": null,
      "id": "46aeb328",
      "metadata": {},
      "outputs": [],
      "source": [
        "# Which DDRMC target (0..3) for given ACAP\n",
        "# This default value will be readjusted to make sure it points to the first enabled DDRMC\n",
        "DDR_INDEX = 0\n",
        "# Which Rank of the memory interface\n",
        "RANK = 0\n",
        "# Read or Write Margin : \"READ\" \"WRITE\"\n",
        "MARGIN_MODE = \"READ\"\n",
        "# Data pattern used for margin check : \"SIMPLE\" \"COMPLEX\"\n",
        "DATA_PATTERN = \"COMPLEX\"\n",
        "# VREF Percentage Minimum (reccommended: Read :DDR4 25, LP4 5 , Write : DDR4 60  , LP4 10)\n",
        "VREF_PCT_MIN = 25\n",
        "# VREF Percentage Maximum (reccommended: Read:DDR4 50 , LP4 35 , Write : DDR4 90  , LP4 30)\n",
        "VREF_PCT_MAX = 50\n",
        "# Steps to show in the 2D eye scan  ( 1 step takes ~1 second to capture)\n",
        "STEPS = 15\n",
        "# Which nibble (read mode) or byte lane (write) to display\n",
        "DISPLAY_INDEX = 1"
      ]
    },
    {
      "cell_type": "markdown",
      "id": "72dd98da",
      "metadata": {},
      "source": [
        "## 2 - Create a session and connect to the hw_server and cs_server\n",
        "\n",
        "The session is a container that keeps track of devices and debug cores.\n",
        "After this step,\n",
        "- Session is initialized and connected to server(s)\n",
        "- Versions are detected and reported to stdout"
      ],
      "outputs": [],
      "execution_count": null
    },
    {
      "cell_type": "code",
      "execution_count": null,
      "id": "863f015a",
      "metadata": {},
      "outputs": [],
      "source": [
        "session = create_session(cs_server_url=CS_URL, hw_server_url=HW_URL)\n",
        "report_versions(session)"
      ]
    },
    {
      "cell_type": "markdown",
      "id": "f269b80e",
      "metadata": {},
      "source": [
        "## 3 - Program the device with the example design\n",
        "\n",
        "After this step,\n",
        "- Device is programmed with the example programming file"
      ],
      "outputs": [],
      "execution_count": null
    },
    {
      "cell_type": "code",
      "execution_count": null,
      "id": "406b0963",
      "metadata": {},
      "outputs": [],
      "source": [
        "# Typical case - one device on the board - get it.\n",
        "device = session.devices.filter_by(family=\"versal\").get()\n",
        "device.program(PROGRAMMING_FILE)"
      ]
    },
    {
      "cell_type": "markdown",
      "id": "bf3acdbc",
      "metadata": {},
      "source": [
        "## 4 - Discover Debug Cores\n",
        "\n",
        "Debug core discovery initializes the chipscope server debug cores. This brings debug cores in the chipscope server online.\n",
        "\n",
        "After this step,\n",
        "\n",
        "- The cs_server is initialized and ready for use"
      ],
      "outputs": [],
      "execution_count": null
    },
    {
      "cell_type": "code",
      "execution_count": null,
      "id": "59b17c61",
      "metadata": {},
      "outputs": [],
      "source": [
        "device.discover_and_setup_cores(ltx_file=PROBES_FILE)\n",
        "print(f\"Debug cores setup and ready for use.\")"
      ]
    },
    {
      "cell_type": "markdown",
      "id": "6ef9e422",
      "metadata": {},
      "source": [
        "## 5 - Get a list of the integrated DDR Memory Controllers"
      ],
      "outputs": [],
      "execution_count": null
    },
    {
      "cell_type": "code",
      "execution_count": null,
      "id": "0300cbfb",
      "metadata": {},
      "outputs": [],
      "source": [
        "ddr_list = device.ddrs\n",
        "print(f\"{len(ddr_list)} integrated DDRMC cores exist on this device.\")\n",
        "\n",
        "enabled_found = False\n",
        "for ddr in ddr_list:\n",
        "    if ddr.is_enabled:\n",
        "        print(f\" DDRMC instance {ddr.mc_index} is enabled\")\n",
        "        if not enabled_found:\n",
        "            DDR_INDEX = int(ddr.mc_index)\n",
        "            enabled_found = True\n",
        "    else:\n",
        "        print(f\" DDRMC instance {ddr.mc_index} is disabled\")"
      ]
    },
    {
      "cell_type": "markdown",
      "id": "747226dd",
      "metadata": {},
      "source": [
        "## 6- Select a target DDR by index and display calibration status"
      ],
      "outputs": [],
      "execution_count": null
    },
    {
      "cell_type": "code",
      "execution_count": null,
      "id": "bd019919",
      "metadata": {},
      "outputs": [],
      "source": [
        "ddr = ddr_list[DDR_INDEX]\n",
        "props = ddr.ddr_node.get_property([\"cal_status\"])\n",
        "cal_status = props['cal_status']\n",
        "print(f\"Calibration status of DDRMC instance {DDR_INDEX} is {cal_status}\")\n",
        "if cal_status != \"PASS\":\n",
        "    print(f\"The DDR controller at index {DDR_INDEX} is not in use\")\n",
        "    # End the HW session early to prevent erroneous exercise of disabled DDRMC\n",
        "    delete_session(session)\n",
        "    exit()"
      ]
    },
    {
      "cell_type": "code",
      "execution_count": null,
      "id": "6a50af2e",
      "metadata": {},
      "outputs": [],
      "source": [
        "## Initialize and activate the Margin Check feature in the DDRMC\n",
        "ddr.ddr_node.set_property({\"mgchk_enable\": 1})\n",
        "ddr.ddr_node.commit_property_group([])\n",
        "ddr.ddr_node.set_property({\"mgchk_enable\": 0})\n",
        "ddr.ddr_node.commit_property_group([])\n",
        "print(\"Initialization complete.\")"
      ]
    },
    {
      "cell_type": "markdown",
      "id": "76bcd0b4",
      "metadata": {},
      "source": [
        "## 7 - Setting the 2D eye scan read or write mode"
      ],
      "outputs": [],
      "execution_count": null
    },
    {
      "cell_type": "code",
      "execution_count": null,
      "id": "a4210d68",
      "metadata": {},
      "outputs": [],
      "source": [
        "if MARGIN_MODE == \"READ\":\n",
        "    print(\"Setting 2D eye for READ margin\")\n",
        "    ddr.set_eye_scan_read_mode()\n",
        "elif MARGIN_MODE == \"WRITE\":\n",
        "    print(\"Setting 2D eye for WRITE margin\")\n",
        "    ddr.set_eye_scan_write_mode()\n",
        "else:\n",
        "    print(\n",
        "        f\" ERROR: MARGIN_MODE is set to {MARGIN_MODE} which is an illegal value, only READ or WRITE is allowed\"\n",
        "    )"
      ]
    },
    {
      "cell_type": "markdown",
      "id": "d49059eb",
      "metadata": {},
      "source": [
        "## 8 - Setting the 2D eye scan data pattern mode"
      ],
      "outputs": [],
      "execution_count": null
    },
    {
      "cell_type": "code",
      "execution_count": null,
      "id": "9c37e875",
      "metadata": {},
      "outputs": [],
      "source": [
        "if DATA_PATTERN == \"SIMPLE\":\n",
        "    print(\"Setting 2D eye for SIMPLE data pattern\")\n",
        "    ddr.set_eye_scan_simple_pattern()\n",
        "elif DATA_PATTERN == \"COMPLEX\":\n",
        "    print(\"Setting 2D eye for COMPLEX data pattern\")\n",
        "    ddr.set_eye_scan_complex_pattern()\n",
        "else:\n",
        "    print(\n",
        "        f\" ERROR: DATA_PATTERN is set to {DATA_PATTERN} which is an illegal value, only SIMPLE or COMPLEX is allowed\"\n",
        "    )"
      ]
    },
    {
      "cell_type": "markdown",
      "id": "166f252f",
      "metadata": {},
      "source": [
        "## 9 - Setting the Vref sample min/max range"
      ],
      "outputs": [],
      "execution_count": null
    },
    {
      "cell_type": "code",
      "execution_count": null,
      "id": "3f278e6c",
      "metadata": {},
      "outputs": [],
      "source": [
        "print(\"Vref Min setting...\")\n",
        "vref_min_code = convert_vref_pct_to_code(ddr, MARGIN_MODE, VREF_PCT_MIN)\n",
        "print(\"Vref Max setting...\")\n",
        "vref_max_code = convert_vref_pct_to_code(ddr, MARGIN_MODE, VREF_PCT_MAX)\n",
        "\n",
        "ddr.set_eye_scan_vref_min(vref_min_code)\n",
        "ddr.set_eye_scan_vref_max(vref_max_code)\n",
        "ddr.set_eye_scan_vref_steps(STEPS)\n",
        "print(f\"Dividing the Vref range into {STEPS} steps\")"
      ]
    },
    {
      "cell_type": "markdown",
      "id": "d2da0e8e",
      "metadata": {},
      "source": [
        "## 10 - Run 2D Margin Scan after settings"
      ],
      "outputs": [],
      "execution_count": null
    },
    {
      "cell_type": "code",
      "execution_count": null,
      "id": "02638948",
      "metadata": {},
      "outputs": [],
      "source": [
        "ddr.run_eye_scan()"
      ]
    },
    {
      "cell_type": "markdown",
      "id": "34f0e920",
      "metadata": {},
      "source": [
        "## 11 - Display Scan Plots by a given Unit(nibble/byte) index\n",
        "\n",
        "You can display static or dynamic plots. The display_type controls the display output.\n",
        "- \"static\" is a simple image that can be saved.\n",
        "- \"dynamic\" is an interactive javascript plot.\n",
        "- The default is \"dynamic\"."
      ],
      "outputs": [],
      "execution_count": null
    },
    {
      "cell_type": "code",
      "execution_count": null,
      "id": "653f908c",
      "metadata": {},
      "outputs": [],
      "source": [
        "ddr.display_eye_scan(DISPLAY_INDEX, display_type=\"static\")"
      ]
    },
    {
      "cell_type": "markdown",
      "id": "05aedfb0",
      "metadata": {},
      "source": [
        "Optionally you can return figures as a list for later operations."
      ],
      "outputs": [],
      "execution_count": null
    },
    {
      "cell_type": "code",
      "execution_count": null,
      "id": "54371d1b",
      "metadata": {},
      "outputs": [],
      "source": [
        "figs = ddr.display_eye_scan(DISPLAY_INDEX + 1, return_as_list=True)"
      ]
    },
    {
      "cell_type": "markdown",
      "id": "939dbc5c",
      "metadata": {},
      "source": [
        "The following loop demonstrates how you can display the graphs from a list created previously.\n",
        "It is easy to display interactive or static images.\n",
        "\n",
        "Here we get the list of figures and output them to png format."
      ],
      "outputs": [],
      "execution_count": null
    },
    {
      "cell_type": "code",
      "execution_count": null,
      "id": "2145b4d6",
      "metadata": {},
      "outputs": [],
      "source": [
        "from IPython.display import Image, display\n",
        "\n",
        "for fig in figs:\n",
        "    # To display interactive images, uncomment the following line:\n",
        "    # fig.show()\n",
        "\n",
        "    # To display a static png image:\n",
        "    image_bytes = fig.to_image(format=\"png\")\n",
        "    ipython_image = Image(image_bytes)\n",
        "    display(ipython_image)"
      ]
    },
    {
      "cell_type": "markdown",
      "id": "8b647b4e",
      "metadata": {},
      "source": [
        "## 12 - Save the Eye Scan data from latest run"
      ],
      "outputs": [],
      "execution_count": null
    },
    {
      "cell_type": "code",
      "execution_count": null,
      "id": "0e4a9717",
      "metadata": {},
      "outputs": [],
      "source": [
        "ddr.save_eye_scan_data(\"myoutput.csv\")"
      ]
    },
    {
      "cell_type": "markdown",
      "id": "8570082b",
      "metadata": {},
      "source": [
        "## 13 - Load Eye Scan data from a given data file"
      ],
      "outputs": [],
      "execution_count": null
    },
    {
      "cell_type": "code",
      "execution_count": null,
      "id": "e474e840",
      "metadata": {},
      "outputs": [],
      "source": [
        "ddr.load_eye_scan_data(\"myoutput.csv\")"
      ]
    },
    {
      "cell_type": "markdown",
      "id": "4fa6b79c",
      "metadata": {},
      "source": [
        "## 14 - Review overall Scan status and Control group detail from latest run"
      ],
      "outputs": [],
      "execution_count": null
    },
    {
      "cell_type": "code",
      "execution_count": null,
      "id": "9774c9ab",
      "metadata": {},
      "outputs": [],
      "source": [
        "props = ddr.ddr_node.get_property_group([\"eye_scan_stat\", \"eye_scan_ctrl\"])\n",
        "print(pprint.pformat(props, indent=2))"
      ]
    },
    {
      "cell_type": "markdown",
      "id": "7670bb89",
      "metadata": {},
      "source": [
        "## 15 - (Optional) Report Full DDR config and calibration/margin Info"
      ],
      "outputs": [],
      "execution_count": null
    },
    {
      "cell_type": "code",
      "execution_count": null,
      "id": "aa608df2",
      "metadata": {},
      "outputs": [],
      "source": [
        "# (uncomment to see report)\n",
        "# ddr.report()"
      ]
    },
    {
      "cell_type": "code",
      "execution_count": null,
      "id": "3155d262",
      "metadata": {},
      "outputs": [],
      "source": [
        "## When done with testing, close the connection\n",
        "delete_session(session)"
      ]
    }
  ],
  "metadata": {},
  "nbformat": 4,
  "nbformat_minor": 5
}
