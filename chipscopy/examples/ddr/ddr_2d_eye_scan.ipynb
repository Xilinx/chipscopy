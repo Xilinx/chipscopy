{
 "cells": [
  {
   "cell_type": "markdown",
   "id": "078917c0",
   "metadata": {
    "papermill": {
     "duration": 0.008991,
     "end_time": "2023-06-07T21:00:04.525682",
     "exception": false,
     "start_time": "2023-06-07T21:00:04.516691",
     "status": "completed"
    },
    "tags": []
   },
   "source": [
    "<link rel=\"preconnect\" href=\"https://fonts.gstatic.com\">\n",
    "<link href=\"https://fonts.googleapis.com/css2?family=Fira+Code&display=swap\" rel=\"stylesheet\">\n",
    "\n",
    "### License\n",
    "\n",
    "<p style=\"font-family: 'Fira Code', monospace; font-size: 1.2rem\">\n",
    "Copyright (c) 2021-2022 Xilinx, Inc.<br>\n",
    "Copyright (c) 2022-2023 Advanced Micro Devices, Inc.<br><br>\n",
    "Licensed under the Apache License, Version 2.0 (the \"License\");<br>\n",
    "you may not use this file except in compliance with the License.<br><br>\n",
    "You may obtain a copy of the License at <a href=\"http://www.apache.org/licenses/LICENSE-2.0\"?>http://www.apache.org/licenses/LICENSE-2.0</a><br><br>\n",
    "Unless required by applicable law or agreed to in writing, software<br>\n",
    "distributed under the License is distributed on an \"AS IS\" BASIS,<br>\n",
    "WITHOUT WARRANTIES OR CONDITIONS OF ANY KIND, either express or implied.<br>\n",
    "See the License for the specific language governing permissions and<br>\n",
    "limitations under the License.<br>\n",
    "</p>\n"
   ]
  },
  {
   "cell_type": "markdown",
   "id": "285e18d6",
   "metadata": {
    "papermill": {
     "duration": 0.005247,
     "end_time": "2023-06-07T21:00:04.536741",
     "exception": false,
     "start_time": "2023-06-07T21:00:04.531494",
     "status": "completed"
    },
    "tags": []
   },
   "source": [
    "# ChipScoPy DDR 2D Eye Margin Scan Example\n",
    "\n",
    "\n",
    "<img src=\"../img/api_overview.png\" width=\"500\" align=\"left\">"
   ]
  },
  {
   "cell_type": "markdown",
   "id": "a9e89f22",
   "metadata": {
    "papermill": {
     "duration": 0.005302,
     "end_time": "2023-06-07T21:00:04.547271",
     "exception": false,
     "start_time": "2023-06-07T21:00:04.541969",
     "status": "completed"
    },
    "tags": []
   },
   "source": [
    "## Description\n",
    "This demo shows how to exercise and run Versal DDRMC 2D Margin Scan features\n",
    "\n",
    "\n",
    "## Requirements\n",
    "- Local or remote Xilinx Versal board, such as a VCK190\n",
    "- Xilinx hw_server 2022.2 installed and running\n",
    "- Xilinx cs_server 2022.2 installed and running\n",
    "- Python 3.8 or greater installed\n",
    "- ChipScoPy 2022.2 installed\n",
    "- Jupyter notebook support and extra libs needed - Please do so, using the command `pip install chipscopy[core-addons]`"
   ]
  },
  {
   "cell_type": "markdown",
   "id": "de354107",
   "metadata": {
    "papermill": {
     "duration": 0.005261,
     "end_time": "2023-06-07T21:00:04.557922",
     "exception": false,
     "start_time": "2023-06-07T21:00:04.552661",
     "status": "completed"
    },
    "tags": []
   },
   "source": [
    "## 1 - Initialization: Imports and File Paths\n",
    "\n",
    "After this step,\n",
    "- Required functions and classes are imported\n",
    "- URL paths are set correctly\n",
    "- File paths to example files are set correctly"
   ]
  },
  {
   "cell_type": "code",
   "execution_count": 1,
   "id": "dde0171e",
   "metadata": {
    "execution": {
     "iopub.execute_input": "2023-06-07T21:00:04.577358Z",
     "iopub.status.busy": "2023-06-07T21:00:04.577003Z",
     "iopub.status.idle": "2023-06-07T21:00:04.907016Z",
     "shell.execute_reply": "2023-06-07T21:00:04.906591Z"
    },
    "papermill": {
     "duration": 0.34377,
     "end_time": "2023-06-07T21:00:04.907155",
     "exception": false,
     "start_time": "2023-06-07T21:00:04.563385",
     "status": "completed"
    },
    "tags": []
   },
   "outputs": [],
   "source": [
    "import sys\n",
    "import os\n",
    "import pprint\n",
    "from chipscopy import create_session, delete_session, report_versions\n",
    "from chipscopy import get_design_files\n",
    "from ddr_scan_util import convert_vref_pct_to_code"
   ]
  },
  {
   "cell_type": "code",
   "execution_count": 2,
   "id": "3081731a",
   "metadata": {
    "execution": {
     "iopub.execute_input": "2023-06-07T21:00:04.923811Z",
     "iopub.status.busy": "2023-06-07T21:00:04.922953Z",
     "iopub.status.idle": "2023-06-07T21:00:04.927451Z",
     "shell.execute_reply": "2023-06-07T21:00:04.927081Z"
    },
    "papermill": {
     "duration": 0.013876,
     "end_time": "2023-06-07T21:00:04.927523",
     "exception": false,
     "start_time": "2023-06-07T21:00:04.913647",
     "status": "completed"
    },
    "tags": []
   },
   "outputs": [
    {
     "name": "stdout",
     "output_type": "stream",
     "text": [
      "HW_URL: TCP:localhost:3121\n",
      "CS_URL: TCP:localhost:3042\n",
      "PROGRAMMING_FILE: /scratch/chipscopy/chipscopy/examples/designs/vck190/production/chipscopy_ced/chipscopy_wrapper.pdi\n",
      "PROBES_FILE:/scratch/chipscopy/chipscopy/examples/designs/vck190/production/chipscopy_ced/chipscopy_wrapper.ltx\n"
     ]
    }
   ],
   "source": [
    "# Make sure to start the hw_server and cs_server prior to running.\n",
    "# Specify locations of the running hw_server and cs_server below.\n",
    "# The default is localhost - but can be other locations on the network.\n",
    "CS_URL = os.getenv(\"CS_SERVER_URL\", \"TCP:localhost:3042\")\n",
    "HW_URL = os.getenv(\"HW_SERVER_URL\", \"TCP:localhost:3121\")\n",
    "\n",
    "# The get_design_files() function tries to find the PDI and LTX files. In non-standard\n",
    "# configurations, you can put the path for PROGRAMMING_FILE and PROBES_FILE below.\n",
    "design_files = get_design_files(\"vck190/production/chipscopy_ced\")\n",
    "\n",
    "PROGRAMMING_FILE = design_files.programming_file\n",
    "PROBES_FILE = design_files.probes_file\n",
    "\n",
    "print(f\"HW_URL: {HW_URL}\")\n",
    "print(f\"CS_URL: {CS_URL}\")\n",
    "print(f\"PROGRAMMING_FILE: {PROGRAMMING_FILE}\")\n",
    "print(f\"PROBES_FILE:{PROBES_FILE}\")"
   ]
  },
  {
   "cell_type": "code",
   "execution_count": 3,
   "id": "da637982",
   "metadata": {
    "execution": {
     "iopub.execute_input": "2023-06-07T21:00:04.941008Z",
     "iopub.status.busy": "2023-06-07T21:00:04.940672Z",
     "iopub.status.idle": "2023-06-07T21:00:04.942915Z",
     "shell.execute_reply": "2023-06-07T21:00:04.942583Z"
    },
    "papermill": {
     "duration": 0.010039,
     "end_time": "2023-06-07T21:00:04.942982",
     "exception": false,
     "start_time": "2023-06-07T21:00:04.932943",
     "status": "completed"
    },
    "tags": []
   },
   "outputs": [],
   "source": [
    "# Which DDRMC target (0..3) for given ACAP\n",
    "DDR_INDEX = 0\n",
    "# Which Rank of the memory interface\n",
    "RANK = 0\n",
    "# Read or Write Margin : \"READ\" \"WRITE\"\n",
    "MARGIN_MODE = \"READ\"\n",
    "# Data pattern used for margin check : \"SIMPLE\" \"COMPLEX\"\n",
    "DATA_PATTERN = \"COMPLEX\"\n",
    "# VREF Percentage Minimum (reccommended: Read :DDR4 25, LP4 5 , Write : DDR4 60  , LP4 10)\n",
    "VREF_PCT_MIN = 25\n",
    "# VREF Percentage Maximum (reccommended: Read:DDR4 50 , LP4 35 , Write : DDR4 90  , LP4 30)\n",
    "VREF_PCT_MAX = 50\n",
    "# Steps to show in the 2D eye scan  ( 1 step takes ~1 second to capture)\n",
    "STEPS = 15\n",
    "# Which nibble (read mode) or byte lane (write) to display\n",
    "DISPLAY_INDEX = 1"
   ]
  },
  {
   "cell_type": "markdown",
   "id": "00338863",
   "metadata": {
    "papermill": {
     "duration": 0.005374,
     "end_time": "2023-06-07T21:00:04.953764",
     "exception": false,
     "start_time": "2023-06-07T21:00:04.948390",
     "status": "completed"
    },
    "tags": []
   },
   "source": [
    "## 2 - Create a session and connect to the hw_server and cs_server\n",
    "\n",
    "The session is a container that keeps track of devices and debug cores.\n",
    "After this step,\n",
    "- Session is initialized and connected to server(s)\n",
    "- Versions are detected and reported to stdout"
   ]
  },
  {
   "cell_type": "code",
   "execution_count": 4,
   "id": "34258415",
   "metadata": {
    "execution": {
     "iopub.execute_input": "2023-06-07T21:00:04.967530Z",
     "iopub.status.busy": "2023-06-07T21:00:04.967182Z",
     "iopub.status.idle": "2023-06-07T21:00:05.829737Z",
     "shell.execute_reply": "2023-06-07T21:00:05.829394Z"
    },
    "papermill": {
     "duration": 0.870798,
     "end_time": "2023-06-07T21:00:05.829840",
     "exception": false,
     "start_time": "2023-06-07T21:00:04.959042",
     "status": "completed"
    },
    "scrolled": false,
    "tags": []
   },
   "outputs": [
    {
     "data": {
      "text/html": [
       "<pre style=\"white-space:pre;overflow-x:auto;line-height:normal;font-family:Menlo,'DejaVu Sans Mono',consolas,'Courier New',monospace\">\n",
       "\n",
       "</pre>\n"
      ],
      "text/plain": [
       "<rich.jupyter.JupyterRenderable at 0x7fede916fbb0>"
      ]
     },
     "metadata": {},
     "output_type": "display_data"
    },
    {
     "data": {
      "text/html": [
       "<pre style=\"white-space:pre;overflow-x:auto;line-height:normal;font-family:Menlo,'DejaVu Sans Mono',consolas,'Courier New',monospace\"><span style=\"font-style: italic\">                      ChipScoPy Version Information                      </span>\n",
       "┌────────────────────────────┬──────────────────────────────────────────┐\n",
       "│<span style=\"font-weight: bold\">                     Entity </span>│<span style=\"font-weight: bold\"> Version                                  </span>│\n",
       "├────────────────────────────┼──────────────────────────────────────────┤\n",
       "│                  ChipScoPy │ ┌───────────┬──────────────────────┐     │\n",
       "│                            │ │<span style=\"font-weight: bold\"> Attribute </span>│<span style=\"font-weight: bold\"> Value                </span>│     │\n",
       "│                            │ ├───────────┼──────────────────────┤     │\n",
       "│                            │ │     Build │ 2023.1.1685656083    │     │\n",
       "│                            │ │ Timestamp │ Jun 01 2023-15:48:03 │     │\n",
       "│                            │ └───────────┴──────────────────────┘     │\n",
       "│                            │                                          │\n",
       "│ hw_server @ localhost:3121 │ ┌───────────┬──────────────────────────┐ │\n",
       "│                            │ │<span style=\"font-weight: bold\"> Attribute </span>│<span style=\"font-weight: bold\"> Value                    </span>│ │\n",
       "│                            │ ├───────────┼──────────────────────────┤ │\n",
       "│                            │ │    Status │ Connected                │ │\n",
       "│                            │ │     Build │ 1683493450               │ │\n",
       "│                            │ │   Version │ 2023.1                   │ │\n",
       "│                            │ │ Timestamp │ Sun May  7 15:04:10 2023 │ │\n",
       "│                            │ └───────────┴──────────────────────────┘ │\n",
       "│                            │                                          │\n",
       "│ cs_server @ localhost:3042 │ ┌───────────────┬──────────────────────┐ │\n",
       "│                            │ │<span style=\"font-weight: bold\">     Attribute </span>│<span style=\"font-weight: bold\"> Value                </span>│ │\n",
       "│                            │ ├───────────────┼──────────────────────┤ │\n",
       "│                            │ │        Status │ Connected            │ │\n",
       "│                            │ │         Build │ 1681142364           │ │\n",
       "│                            │ │       Version │ 2023.1.0             │ │\n",
       "│                            │ │     Timestamp │ Apr 10 2023-09:59:24 │ │\n",
       "│                            │ │       Package │ 2023.1.1681142364    │ │\n",
       "│                            │ │ Artifact type │ pyinstaller          │ │\n",
       "│                            │ └───────────────┴──────────────────────┘ │\n",
       "└────────────────────────────┴──────────────────────────────────────────┘\n",
       "</pre>\n"
      ],
      "text/plain": [
       "<rich.jupyter.JupyterRenderable at 0x7fede916f5e0>"
      ]
     },
     "metadata": {},
     "output_type": "display_data"
    },
    {
     "data": {
      "text/html": [
       "<pre style=\"white-space:pre;overflow-x:auto;line-height:normal;font-family:Menlo,'DejaVu Sans Mono',consolas,'Courier New',monospace\">\n",
       "\n",
       "</pre>\n"
      ],
      "text/plain": [
       "<rich.jupyter.JupyterRenderable at 0x7fedebc9f340>"
      ]
     },
     "metadata": {},
     "output_type": "display_data"
    }
   ],
   "source": [
    "session = create_session(cs_server_url=CS_URL, hw_server_url=HW_URL)\n",
    "report_versions(session)"
   ]
  },
  {
   "cell_type": "markdown",
   "id": "03a6a4ab",
   "metadata": {
    "papermill": {
     "duration": 0.005467,
     "end_time": "2023-06-07T21:00:05.841828",
     "exception": false,
     "start_time": "2023-06-07T21:00:05.836361",
     "status": "completed"
    },
    "tags": []
   },
   "source": [
    "## 3 - Program the device with the example design\n",
    "\n",
    "After this step,\n",
    "- Device is programmed with the example programming file"
   ]
  },
  {
   "cell_type": "code",
   "execution_count": 5,
   "id": "027d71b1",
   "metadata": {
    "execution": {
     "iopub.execute_input": "2023-06-07T21:00:05.857257Z",
     "iopub.status.busy": "2023-06-07T21:00:05.856226Z",
     "iopub.status.idle": "2023-06-07T21:00:11.399351Z",
     "shell.execute_reply": "2023-06-07T21:00:11.399625Z"
    },
    "papermill": {
     "duration": 5.552341,
     "end_time": "2023-06-07T21:00:11.399767",
     "exception": false,
     "start_time": "2023-06-07T21:00:05.847426",
     "status": "completed"
    },
    "tags": []
   },
   "outputs": [
    {
     "data": {
      "text/html": [
       "<pre style=\"white-space:pre;overflow-x:auto;line-height:normal;font-family:Menlo,'DejaVu Sans Mono',consolas,'Courier New',monospace\">\n",
       "<span style=\"font-weight: bold\">--&gt; INFO: </span>Programming device with: /scratch/chipscopy/chipscopy/examples/designs/vck190/produ\n",
       "ction/chipscopy_ced/chipscopy_wrapper.pdi\n",
       "    \n",
       "</pre>\n"
      ],
      "text/plain": [
       "<rich.jupyter.JupyterRenderable at 0x7fede91c5bb0>"
      ]
     },
     "metadata": {},
     "output_type": "display_data"
    },
    {
     "data": {
      "application/vnd.jupyter.widget-view+json": {
       "model_id": "926882c32b7d4cc184a6d86cafcfc30d",
       "version_major": 2,
       "version_minor": 0
      },
      "text/plain": [
       "Output()"
      ]
     },
     "metadata": {},
     "output_type": "display_data"
    }
   ],
   "source": [
    "# Typical case - one device on the board - get it.\n",
    "device = session.devices.filter_by(family=\"versal\").get()\n",
    "device.program(PROGRAMMING_FILE)"
   ]
  },
  {
   "cell_type": "markdown",
   "id": "20db78f5",
   "metadata": {
    "papermill": {
     "duration": 0.006105,
     "end_time": "2023-06-07T21:00:11.412757",
     "exception": false,
     "start_time": "2023-06-07T21:00:11.406652",
     "status": "completed"
    },
    "tags": []
   },
   "source": [
    "## 4 - Discover Debug Cores\n",
    "\n",
    "Debug core discovery initializes the chipscope server debug cores. This brings debug cores in the chipscope server online.\n",
    "\n",
    "After this step,\n",
    "\n",
    "- The cs_server is initialized and ready for use"
   ]
  },
  {
   "cell_type": "code",
   "execution_count": 6,
   "id": "e85dbe75",
   "metadata": {
    "execution": {
     "iopub.execute_input": "2023-06-07T21:00:11.813174Z",
     "iopub.status.busy": "2023-06-07T21:00:11.812825Z",
     "iopub.status.idle": "2023-06-07T21:00:11.921104Z",
     "shell.execute_reply": "2023-06-07T21:00:11.920684Z"
    },
    "papermill": {
     "duration": 0.502661,
     "end_time": "2023-06-07T21:00:11.921223",
     "exception": false,
     "start_time": "2023-06-07T21:00:11.418562",
     "status": "completed"
    },
    "tags": []
   },
   "outputs": [
    {
     "name": "stdout",
     "output_type": "stream",
     "text": [
      "Debug cores setup and ready for use.\n"
     ]
    }
   ],
   "source": [
    "device.discover_and_setup_cores(ltx_file=PROBES_FILE)\n",
    "print(f\"Debug cores setup and ready for use.\")"
   ]
  },
  {
   "cell_type": "markdown",
   "id": "c4984cd4",
   "metadata": {
    "papermill": {
     "duration": 0.006506,
     "end_time": "2023-06-07T21:00:11.934883",
     "exception": false,
     "start_time": "2023-06-07T21:00:11.928377",
     "status": "completed"
    },
    "tags": []
   },
   "source": [
    "## 5 - Get a list of the integrated DDR Memory Controllers"
   ]
  },
  {
   "cell_type": "code",
   "execution_count": 7,
   "id": "d7e5c66a",
   "metadata": {
    "execution": {
     "iopub.execute_input": "2023-06-07T21:00:11.953397Z",
     "iopub.status.busy": "2023-06-07T21:00:11.953051Z",
     "iopub.status.idle": "2023-06-07T21:00:14.165316Z",
     "shell.execute_reply": "2023-06-07T21:00:14.165600Z"
    },
    "papermill": {
     "duration": 2.223944,
     "end_time": "2023-06-07T21:00:14.165739",
     "exception": false,
     "start_time": "2023-06-07T21:00:11.941795",
     "status": "completed"
    },
    "scrolled": true,
    "tags": []
   },
   "outputs": [
    {
     "name": "stdout",
     "output_type": "stream",
     "text": [
      "4 integrated DDRMC cores exist on this device.\n",
      " DDRMC instance 0 is enabled\n",
      " DDRMC instance 1 is disabled\n",
      " DDRMC instance 2 is disabled\n",
      " DDRMC instance 3 is disabled\n"
     ]
    }
   ],
   "source": [
    "ddr_list = device.ddrs\n",
    "print(f\"{len(ddr_list)} integrated DDRMC cores exist on this device.\")\n",
    "\n",
    "ddr_index = 0\n",
    "for ddr in ddr_list:\n",
    "    if ddr.is_enabled:\n",
    "        print(f\" DDRMC instance {ddr_index} is enabled\")\n",
    "    else:\n",
    "        print(f\" DDRMC instance {ddr_index} is disabled\")\n",
    "    ddr_index += 1"
   ]
  },
  {
   "cell_type": "markdown",
   "id": "1aac24ab",
   "metadata": {
    "papermill": {
     "duration": 0.005839,
     "end_time": "2023-06-07T21:00:14.179025",
     "exception": false,
     "start_time": "2023-06-07T21:00:14.173186",
     "status": "completed"
    },
    "tags": []
   },
   "source": [
    "## 6- Select a target DDR by index and display calibration status"
   ]
  },
  {
   "cell_type": "code",
   "execution_count": 8,
   "id": "e7e4c73e",
   "metadata": {
    "execution": {
     "iopub.execute_input": "2023-06-07T21:00:14.195418Z",
     "iopub.status.busy": "2023-06-07T21:00:14.194939Z",
     "iopub.status.idle": "2023-06-07T21:00:14.239263Z",
     "shell.execute_reply": "2023-06-07T21:00:14.239514Z"
    },
    "papermill": {
     "duration": 0.054787,
     "end_time": "2023-06-07T21:00:14.239597",
     "exception": false,
     "start_time": "2023-06-07T21:00:14.184810",
     "status": "completed"
    },
    "tags": []
   },
   "outputs": [
    {
     "name": "stdout",
     "output_type": "stream",
     "text": [
      "Calibration status of DDRMC instance 0 is PASS\n"
     ]
    }
   ],
   "source": [
    "try:\n",
    "    ddr = ddr_list[DDR_INDEX]\n",
    "    props = ddr.ddr_node.get_property([\"cal_status\"])\n",
    "    print(f\"Calibration status of DDRMC instance {DDR_INDEX} is {props['cal_status']}\")\n",
    "except:\n",
    "    print(f\"The DDR controller at index {DDR_INDEX} is not in use\")"
   ]
  },
  {
   "cell_type": "code",
   "execution_count": 9,
   "id": "57f3cd3e",
   "metadata": {
    "execution": {
     "iopub.execute_input": "2023-06-07T21:00:14.255117Z",
     "iopub.status.busy": "2023-06-07T21:00:14.254614Z",
     "iopub.status.idle": "2023-06-07T21:00:14.505717Z",
     "shell.execute_reply": "2023-06-07T21:00:14.505372Z"
    },
    "papermill": {
     "duration": 0.260414,
     "end_time": "2023-06-07T21:00:14.505819",
     "exception": false,
     "start_time": "2023-06-07T21:00:14.245405",
     "status": "completed"
    },
    "tags": []
   },
   "outputs": [
    {
     "name": "stdout",
     "output_type": "stream",
     "text": [
      "Initialization complete.\n"
     ]
    }
   ],
   "source": [
    "## Initialize and activate the Margin Check feature in the DDRMC\n",
    "ddr.ddr_node.set_property({\"mgchk_enable\": 1})\n",
    "ddr.ddr_node.commit_property_group([])\n",
    "ddr.ddr_node.set_property({\"mgchk_enable\": 0})\n",
    "ddr.ddr_node.commit_property_group([])\n",
    "print(\"Initialization complete.\")"
   ]
  },
  {
   "cell_type": "markdown",
   "id": "b610495a",
   "metadata": {
    "papermill": {
     "duration": 0.0063,
     "end_time": "2023-06-07T21:00:14.518907",
     "exception": false,
     "start_time": "2023-06-07T21:00:14.512607",
     "status": "completed"
    },
    "tags": []
   },
   "source": [
    "## 7 - Setting the 2D eye scan read or write mode"
   ]
  },
  {
   "cell_type": "code",
   "execution_count": 10,
   "id": "c802e888",
   "metadata": {
    "execution": {
     "iopub.execute_input": "2023-06-07T21:00:14.536195Z",
     "iopub.status.busy": "2023-06-07T21:00:14.535817Z",
     "iopub.status.idle": "2023-06-07T21:00:14.701401Z",
     "shell.execute_reply": "2023-06-07T21:00:14.701083Z"
    },
    "lines_to_next_cell": 2,
    "papermill": {
     "duration": 0.1759,
     "end_time": "2023-06-07T21:00:14.701502",
     "exception": false,
     "start_time": "2023-06-07T21:00:14.525602",
     "status": "completed"
    },
    "tags": []
   },
   "outputs": [
    {
     "name": "stdout",
     "output_type": "stream",
     "text": [
      "Setting 2D eye for READ margin\n"
     ]
    }
   ],
   "source": [
    "if MARGIN_MODE == \"READ\":\n",
    "    print(\"Setting 2D eye for READ margin\")\n",
    "    ddr.set_eye_scan_read_mode()\n",
    "elif MARGIN_MODE == \"WRITE\":\n",
    "    print(\"Setting 2D eye for WRITE margin\")\n",
    "    ddr.set_eye_scan_write_mode()\n",
    "else:\n",
    "    print(\n",
    "        f\" ERROR: MARGIN_MODE is set to {MARGIN_MODE} which is an illegal value, only READ or WRITE is allowed\"\n",
    "    )"
   ]
  },
  {
   "cell_type": "markdown",
   "id": "06c8e19b",
   "metadata": {
    "papermill": {
     "duration": 0.006109,
     "end_time": "2023-06-07T21:00:14.715427",
     "exception": false,
     "start_time": "2023-06-07T21:00:14.709318",
     "status": "completed"
    },
    "tags": []
   },
   "source": [
    "## 8 - Setting the 2D eye scan data pattern mode"
   ]
  },
  {
   "cell_type": "code",
   "execution_count": 11,
   "id": "bce24a34",
   "metadata": {
    "execution": {
     "iopub.execute_input": "2023-06-07T21:00:14.734297Z",
     "iopub.status.busy": "2023-06-07T21:00:14.732795Z",
     "iopub.status.idle": "2023-06-07T21:00:14.865507Z",
     "shell.execute_reply": "2023-06-07T21:00:14.864854Z"
    },
    "papermill": {
     "duration": 0.143983,
     "end_time": "2023-06-07T21:00:14.865642",
     "exception": false,
     "start_time": "2023-06-07T21:00:14.721659",
     "status": "completed"
    },
    "tags": []
   },
   "outputs": [
    {
     "name": "stdout",
     "output_type": "stream",
     "text": [
      "Setting 2D eye for COMPLEX data pattern\n"
     ]
    }
   ],
   "source": [
    "if DATA_PATTERN == \"SIMPLE\":\n",
    "    print(\"Setting 2D eye for SIMPLE data pattern\")\n",
    "    ddr.set_eye_scan_simple_pattern()\n",
    "elif DATA_PATTERN == \"COMPLEX\":\n",
    "    print(\"Setting 2D eye for COMPLEX data pattern\")\n",
    "    ddr.set_eye_scan_complex_pattern()\n",
    "else:\n",
    "    print(\n",
    "        f\" ERROR: DATA_PATTERN is set to {DATA_PATTERN} which is an illegal value, only SIMPLE or COMPLEX is allowed\"\n",
    "    )"
   ]
  },
  {
   "cell_type": "markdown",
   "id": "30c35ca2",
   "metadata": {
    "papermill": {
     "duration": 0.006278,
     "end_time": "2023-06-07T21:00:14.879812",
     "exception": false,
     "start_time": "2023-06-07T21:00:14.873534",
     "status": "completed"
    },
    "tags": []
   },
   "source": [
    "## 9 - Setting the Vref sample min/max range"
   ]
  },
  {
   "cell_type": "code",
   "execution_count": 12,
   "id": "1018e5a9",
   "metadata": {
    "execution": {
     "iopub.execute_input": "2023-06-07T21:00:14.898546Z",
     "iopub.status.busy": "2023-06-07T21:00:14.898126Z",
     "iopub.status.idle": "2023-06-07T21:00:15.253279Z",
     "shell.execute_reply": "2023-06-07T21:00:15.252918Z"
    },
    "lines_to_next_cell": 2,
    "papermill": {
     "duration": 0.366876,
     "end_time": "2023-06-07T21:00:15.253388",
     "exception": false,
     "start_time": "2023-06-07T21:00:14.886512",
     "status": "completed"
    },
    "tags": []
   },
   "outputs": [
    {
     "name": "stdout",
     "output_type": "stream",
     "text": [
      "Vref Min setting...\n"
     ]
    },
    {
     "name": "stdout",
     "output_type": "stream",
     "text": [
      " Requested Read Vref %: 25 actual % : 25.0 \n",
      "Vref Max setting...\n",
      " Requested Read Vref %: 50 actual % : 50.0 \n"
     ]
    },
    {
     "name": "stdout",
     "output_type": "stream",
     "text": [
      "Dividing the Vref range into 15 steps\n"
     ]
    }
   ],
   "source": [
    "print(\"Vref Min setting...\")\n",
    "vref_min_code = convert_vref_pct_to_code(ddr, MARGIN_MODE, VREF_PCT_MIN)\n",
    "print(\"Vref Max setting...\")\n",
    "vref_max_code = convert_vref_pct_to_code(ddr, MARGIN_MODE, VREF_PCT_MAX)\n",
    "\n",
    "ddr.set_eye_scan_vref_min(vref_min_code)\n",
    "ddr.set_eye_scan_vref_max(vref_max_code)\n",
    "ddr.set_eye_scan_vref_steps(STEPS)\n",
    "print(f\"Dividing the Vref range into {STEPS} steps\")"
   ]
  },
  {
   "cell_type": "markdown",
   "id": "62392b44",
   "metadata": {
    "papermill": {
     "duration": 0.008217,
     "end_time": "2023-06-07T21:00:15.268997",
     "exception": false,
     "start_time": "2023-06-07T21:00:15.260780",
     "status": "completed"
    },
    "tags": []
   },
   "source": [
    "## 10 - Run 2D Margin Scan after settings"
   ]
  },
  {
   "cell_type": "code",
   "execution_count": 13,
   "id": "fc19fbd9",
   "metadata": {
    "execution": {
     "iopub.execute_input": "2023-06-07T21:00:15.288413Z",
     "iopub.status.busy": "2023-06-07T21:00:15.287795Z",
     "iopub.status.idle": "2023-06-07T21:00:30.423718Z",
     "shell.execute_reply": "2023-06-07T21:00:30.423973Z"
    },
    "papermill": {
     "duration": 15.148415,
     "end_time": "2023-06-07T21:00:30.424088",
     "exception": false,
     "start_time": "2023-06-07T21:00:15.275673",
     "status": "completed"
    },
    "tags": []
   },
   "outputs": [
    {
     "data": {
      "text/html": [
       "<pre style=\"white-space:pre;overflow-x:auto;line-height:normal;font-family:Menlo,'DejaVu Sans Mono',consolas,'Courier New',monospace\">Min VRef is set at:  <span style=\"color: #000080; text-decoration-color: #000080; font-weight: bold\">25.0</span> %, value  <span style=\"color: #000080; text-decoration-color: #000080; font-weight: bold\">256</span>\n",
       "</pre>\n"
      ],
      "text/plain": [
       "<rich.jupyter.JupyterRenderable at 0x7fede90581f0>"
      ]
     },
     "metadata": {},
     "output_type": "display_data"
    },
    {
     "data": {
      "text/html": [
       "<pre style=\"white-space:pre;overflow-x:auto;line-height:normal;font-family:Menlo,'DejaVu Sans Mono',consolas,'Courier New',monospace\">Max VRef is set at:  <span style=\"color: #000080; text-decoration-color: #000080; font-weight: bold\">50.0</span> %, value  <span style=\"color: #000080; text-decoration-color: #000080; font-weight: bold\">512</span>\n",
       "</pre>\n"
      ],
      "text/plain": [
       "<rich.jupyter.JupyterRenderable at 0x7fede90581f0>"
      ]
     },
     "metadata": {},
     "output_type": "display_data"
    },
    {
     "data": {
      "text/html": [
       "<pre style=\"white-space:pre;overflow-x:auto;line-height:normal;font-family:Menlo,'DejaVu Sans Mono',consolas,'Courier New',monospace\">Number of VRef steps is set at:  <span style=\"color: #000080; text-decoration-color: #000080; font-weight: bold\">15</span>\n",
       "</pre>\n"
      ],
      "text/plain": [
       "<rich.jupyter.JupyterRenderable at 0x7fede90581f0>"
      ]
     },
     "metadata": {},
     "output_type": "display_data"
    },
    {
     "data": {
      "application/vnd.jupyter.widget-view+json": {
       "model_id": "abcbfd6dcf25419ab29701a110102ab1",
       "version_major": 2,
       "version_minor": 0
      },
      "text/plain": [
       "Output()"
      ]
     },
     "metadata": {},
     "output_type": "display_data"
    },
    {
     "data": {
      "text/html": [
       "<pre style=\"white-space:pre;overflow-x:auto;line-height:normal;font-family:Menlo,'DejaVu Sans Mono',consolas,'Courier New',monospace\">Info: Margin Scans in progress<span style=\"color: #808000; text-decoration-color: #808000\">...</span>\n",
       "</pre>\n"
      ],
      "text/plain": [
       "<rich.jupyter.JupyterRenderable at 0x7fede9247af0>"
      ]
     },
     "metadata": {},
     "output_type": "display_data"
    }
   ],
   "source": [
    "ddr.run_eye_scan()"
   ]
  },
  {
   "cell_type": "markdown",
   "id": "e65d8503",
   "metadata": {
    "papermill": {
     "duration": 0.006677,
     "end_time": "2023-06-07T21:00:30.438038",
     "exception": false,
     "start_time": "2023-06-07T21:00:30.431361",
     "status": "completed"
    },
    "tags": []
   },
   "source": [
    "## 11 - Display Scan Plots by a given Unit(nibble/byte) index\n",
    "\n",
    "You can display static or dynamic plots. The display_type controls the display output.\n",
    "- \"static\" is a simple image that can be saved.\n",
    "- \"dynamic\" is an interactive javascript plot.\n",
    "- The default is \"dynamic\"."
   ]
  },
  {
   "cell_type": "code",
   "execution_count": 14,
   "id": "44eedf7c",
   "metadata": {
    "execution": {
     "iopub.execute_input": "2023-06-07T21:00:30.462953Z",
     "iopub.status.busy": "2023-06-07T21:00:30.462645Z",
     "iopub.status.idle": "2023-06-07T21:00:31.715777Z",
     "shell.execute_reply": "2023-06-07T21:00:31.716102Z"
    },
    "papermill": {
     "duration": 1.271679,
     "end_time": "2023-06-07T21:00:31.716284",
     "exception": false,
     "start_time": "2023-06-07T21:00:30.444605",
     "status": "completed"
    },
    "scrolled": false,
    "tags": []
   },
   "outputs": [
    {
     "data": {
      "image/png": "[encoded data removed]",
      "text/plain": [
       "<IPython.core.display.Image object>"
      ]
     },
     "metadata": {},
     "output_type": "display_data"
    },
    {
     "data": {
      "image/png": "[encoded data removed]",
      "text/plain": [
       "<IPython.core.display.Image object>"
      ]
     },
     "metadata": {},
     "output_type": "display_data"
    }
   ],
   "source": [
    "ddr.display_eye_scan(DISPLAY_INDEX, display_type=\"static\")"
   ]
  },
  {
   "cell_type": "markdown",
   "id": "61fd705a",
   "metadata": {
    "papermill": {
     "duration": 0.007736,
     "end_time": "2023-06-07T21:00:31.732936",
     "exception": false,
     "start_time": "2023-06-07T21:00:31.725200",
     "status": "completed"
    },
    "tags": []
   },
   "source": [
    "Optionally you can return figures as a list for later operations."
   ]
  },
  {
   "cell_type": "code",
   "execution_count": 15,
   "id": "7f5492c1",
   "metadata": {
    "execution": {
     "iopub.execute_input": "2023-06-07T21:00:31.754075Z",
     "iopub.status.busy": "2023-06-07T21:00:31.753583Z",
     "iopub.status.idle": "2023-06-07T21:00:31.788438Z",
     "shell.execute_reply": "2023-06-07T21:00:31.788085Z"
    },
    "papermill": {
     "duration": 0.047331,
     "end_time": "2023-06-07T21:00:31.788557",
     "exception": false,
     "start_time": "2023-06-07T21:00:31.741226",
     "status": "completed"
    },
    "tags": []
   },
   "outputs": [],
   "source": [
    "figs = ddr.display_eye_scan(DISPLAY_INDEX + 1, return_as_list=True)"
   ]
  },
  {
   "cell_type": "markdown",
   "id": "ea60e700",
   "metadata": {
    "papermill": {
     "duration": 0.007497,
     "end_time": "2023-06-07T21:00:31.805149",
     "exception": false,
     "start_time": "2023-06-07T21:00:31.797652",
     "status": "completed"
    },
    "tags": []
   },
   "source": [
    "The following loop demonstrates how you can display the graphs from a list created previously.\n",
    "It is easy to display interactive or static images.\n",
    "\n",
    "Here we get the list of figures and output them to png format."
   ]
  },
  {
   "cell_type": "code",
   "execution_count": 16,
   "id": "bfec0ce3",
   "metadata": {
    "execution": {
     "iopub.execute_input": "2023-06-07T21:00:31.825746Z",
     "iopub.status.busy": "2023-06-07T21:00:31.825326Z",
     "iopub.status.idle": "2023-06-07T21:00:31.930696Z",
     "shell.execute_reply": "2023-06-07T21:00:31.930307Z"
    },
    "lines_to_next_cell": 2,
    "papermill": {
     "duration": 0.118201,
     "end_time": "2023-06-07T21:00:31.930807",
     "exception": false,
     "start_time": "2023-06-07T21:00:31.812606",
     "status": "completed"
    },
    "tags": []
   },
   "outputs": [
    {
     "data": {
      "image/png": "[encoded data removed]",
      "text/plain": [
       "<IPython.core.display.Image object>"
      ]
     },
     "metadata": {},
     "output_type": "display_data"
    },
    {
     "data": {
      "image/png": "[encoded data removed]",
      "text/plain": [
       "<IPython.core.display.Image object>"
      ]
     },
     "metadata": {},
     "output_type": "display_data"
    }
   ],
   "source": [
    "from IPython.display import Image, display\n",
    "\n",
    "for fig in figs:\n",
    "    # To display interactive images, uncomment the following line:\n",
    "    # fig.show()\n",
    "\n",
    "    # To display a static png image:\n",
    "    image_bytes = fig.to_image(format=\"png\")\n",
    "    ipython_image = Image(image_bytes)\n",
    "    display(ipython_image)"
   ]
  },
  {
   "cell_type": "markdown",
   "id": "c361066d",
   "metadata": {
    "papermill": {
     "duration": 0.008646,
     "end_time": "2023-06-07T21:00:31.951390",
     "exception": false,
     "start_time": "2023-06-07T21:00:31.942744",
     "status": "completed"
    },
    "tags": []
   },
   "source": [
    "## 12 - Save the Eye Scan data from latest run"
   ]
  },
  {
   "cell_type": "code",
   "execution_count": 17,
   "id": "9fd45bb2",
   "metadata": {
    "execution": {
     "iopub.execute_input": "2023-06-07T21:00:31.972151Z",
     "iopub.status.busy": "2023-06-07T21:00:31.971792Z",
     "iopub.status.idle": "2023-06-07T21:00:32.096147Z",
     "shell.execute_reply": "2023-06-07T21:00:32.095651Z"
    },
    "papermill": {
     "duration": 0.136502,
     "end_time": "2023-06-07T21:00:32.096268",
     "exception": false,
     "start_time": "2023-06-07T21:00:31.959766",
     "status": "completed"
    },
    "tags": []
   },
   "outputs": [
    {
     "data": {
      "text/html": [
       "<pre style=\"white-space:pre;overflow-x:auto;line-height:normal;font-family:Menlo,'DejaVu Sans Mono',consolas,'Courier New',monospace\">\n",
       "Info: Data are being formatted and saved to: myoutput.csv\n",
       "</pre>\n"
      ],
      "text/plain": [
       "<rich.jupyter.JupyterRenderable at 0x7fede9058190>"
      ]
     },
     "metadata": {},
     "output_type": "display_data"
    }
   ],
   "source": [
    "ddr.save_eye_scan_data(\"myoutput.csv\")"
   ]
  },
  {
   "cell_type": "markdown",
   "id": "850105da",
   "metadata": {
    "papermill": {
     "duration": 0.008415,
     "end_time": "2023-06-07T21:00:32.114381",
     "exception": false,
     "start_time": "2023-06-07T21:00:32.105966",
     "status": "completed"
    },
    "tags": []
   },
   "source": [
    "## 13 - Load Eye Scan data from a given data file"
   ]
  },
  {
   "cell_type": "code",
   "execution_count": 18,
   "id": "09c3a56b",
   "metadata": {
    "execution": {
     "iopub.execute_input": "2023-06-07T21:00:32.135766Z",
     "iopub.status.busy": "2023-06-07T21:00:32.133804Z",
     "iopub.status.idle": "2023-06-07T21:00:32.140369Z",
     "shell.execute_reply": "2023-06-07T21:00:32.140016Z"
    },
    "papermill": {
     "duration": 0.017727,
     "end_time": "2023-06-07T21:00:32.140439",
     "exception": false,
     "start_time": "2023-06-07T21:00:32.122712",
     "status": "completed"
    },
    "tags": []
   },
   "outputs": [
    {
     "data": {
      "text/html": [
       "<pre style=\"white-space:pre;overflow-x:auto;line-height:normal;font-family:Menlo,'DejaVu Sans Mono',consolas,'Courier New',monospace\">\n",
       "Info: Scan data are being loaded successfully from: myoutput.csv\n",
       "</pre>\n"
      ],
      "text/plain": [
       "<rich.jupyter.JupyterRenderable at 0x7fede8d42c70>"
      ]
     },
     "metadata": {},
     "output_type": "display_data"
    }
   ],
   "source": [
    "ddr.load_eye_scan_data(\"myoutput.csv\")"
   ]
  },
  {
   "cell_type": "markdown",
   "id": "ae0c4ab5",
   "metadata": {
    "papermill": {
     "duration": 0.00836,
     "end_time": "2023-06-07T21:00:32.157240",
     "exception": false,
     "start_time": "2023-06-07T21:00:32.148880",
     "status": "completed"
    },
    "tags": []
   },
   "source": [
    "## 14 - Review overall Scan status and Control group detail from latest run"
   ]
  },
  {
   "cell_type": "code",
   "execution_count": 19,
   "id": "4dd46448",
   "metadata": {
    "execution": {
     "iopub.execute_input": "2023-06-07T21:00:32.177693Z",
     "iopub.status.busy": "2023-06-07T21:00:32.177339Z",
     "iopub.status.idle": "2023-06-07T21:00:32.181971Z",
     "shell.execute_reply": "2023-06-07T21:00:32.181661Z"
    },
    "papermill": {
     "duration": 0.016436,
     "end_time": "2023-06-07T21:00:32.182040",
     "exception": false,
     "start_time": "2023-06-07T21:00:32.165604",
     "status": "completed"
    },
    "scrolled": true,
    "tags": []
   },
   "outputs": [
    {
     "name": "stdout",
     "output_type": "stream",
     "text": [
      "{ 'es_data_need_update': 0,\n",
      "  'es_vref_max': 512,\n",
      "  'es_vref_min': 256,\n",
      "  'es_vref_steps': 15,\n",
      "  'eye_scan_error': 'None',\n",
      "  'eye_scan_status': 'DONE',\n",
      "  'mgchk_abort': 0,\n",
      "  'mgchk_ack': 0,\n",
      "  'mgchk_bitslect': 0,\n",
      "  'mgchk_ctrl': 64,\n",
      "  'mgchk_def_rd_vref_0': 373,\n",
      "  'mgchk_def_rd_vref_1': 0,\n",
      "  'mgchk_def_wr_vref': 28,\n",
      "  'mgchk_def_wr_vref_range': 0,\n",
      "  'mgchk_done': 0,\n",
      "  'mgchk_enable': 0,\n",
      "  'mgchk_enable_status': 1,\n",
      "  'mgchk_error': 0,\n",
      "  'mgchk_mode': 1,\n",
      "  'mgchk_pattern_config_0': 0,\n",
      "  'mgchk_pattern_config_1': 0,\n",
      "  'mgchk_pattern_config_2': 0,\n",
      "  'mgchk_pattern_mode': 1,\n",
      "  'mgchk_rank': 0,\n",
      "  'mgchk_rd_vref_0': 508,\n",
      "  'mgchk_rd_vref_1': 0,\n",
      "  'mgchk_rw_mode': 0,\n",
      "  'mgchk_start': 1,\n",
      "  'mgchk_step': 0,\n",
      "  'mgchk_unit': 0,\n",
      "  'mgchk_wr_vref': 0}\n"
     ]
    }
   ],
   "source": [
    "props = ddr.ddr_node.get_property_group([\"eye_scan_stat\", \"eye_scan_ctrl\"])\n",
    "print(pprint.pformat(props, indent=2))"
   ]
  },
  {
   "cell_type": "markdown",
   "id": "dc3610af",
   "metadata": {
    "papermill": {
     "duration": 0.00848,
     "end_time": "2023-06-07T21:00:32.199254",
     "exception": false,
     "start_time": "2023-06-07T21:00:32.190774",
     "status": "completed"
    },
    "tags": []
   },
   "source": [
    "## 15 - (Optional) Report Full DDR config and calibration/margin Info"
   ]
  },
  {
   "cell_type": "code",
   "execution_count": 20,
   "id": "06247180",
   "metadata": {
    "execution": {
     "iopub.execute_input": "2023-06-07T21:00:32.219041Z",
     "iopub.status.busy": "2023-06-07T21:00:32.218704Z",
     "iopub.status.idle": "2023-06-07T21:00:32.220743Z",
     "shell.execute_reply": "2023-06-07T21:00:32.220413Z"
    },
    "papermill": {
     "duration": 0.012806,
     "end_time": "2023-06-07T21:00:32.220812",
     "exception": false,
     "start_time": "2023-06-07T21:00:32.208006",
     "status": "completed"
    },
    "tags": []
   },
   "outputs": [],
   "source": [
    "# (uncomment to see report)\n",
    "# ddr.report()"
   ]
  },
  {
   "cell_type": "code",
   "execution_count": 21,
   "id": "aee3940a",
   "metadata": {
    "execution": {
     "iopub.execute_input": "2023-06-07T21:00:32.242785Z",
     "iopub.status.busy": "2023-06-07T21:00:32.242307Z",
     "iopub.status.idle": "2023-06-07T21:00:32.252517Z",
     "shell.execute_reply": "2023-06-07T21:00:32.252076Z"
    },
    "papermill": {
     "duration": 0.023363,
     "end_time": "2023-06-07T21:00:32.252635",
     "exception": false,
     "start_time": "2023-06-07T21:00:32.229272",
     "status": "completed"
    },
    "tags": []
   },
   "outputs": [],
   "source": [
    "## When done with testing, close the connection\n",
    "delete_session(session)"
   ]
  }
 ],
 "metadata": {
  "jupytext": {
   "formats": "ipynb,py"
  },
  "kernelspec": {
   "display_name": "Python 3 (ipykernel)",
   "language": "python",
   "name": "python3"
  },
  "language_info": {
   "codemirror_mode": {
    "name": "ipython",
    "version": 3
   },
   "file_extension": ".py",
   "mimetype": "text/x-python",
   "name": "python",
   "nbconvert_exporter": "python",
   "pygments_lexer": "ipython3",
   "version": "3.9.16"
  },
  "papermill": {
   "default_parameters": {},
   "duration": 34.226122,
   "end_time": "2023-06-07T21:00:37.769116",
   "environment_variables": {},
   "exception": null,
   "input_path": "ddr_2d_eye_scan.ipynb",
   "output_path": "output",
   "parameters": {},
   "start_time": "2023-06-07T21:00:03.542994",
   "version": "2.4.0"
  },
  "widgets": {
   "application/vnd.jupyter.widget-state+json": {
    "state": {
     "09a3f102d85d40d69d9dde84e15dbfa7": {
      "model_module": "@jupyter-widgets/base",
      "model_module_version": "1.2.0",
      "model_name": "LayoutModel",
      "state": {
       "_model_module": "@jupyter-widgets/base",
       "_model_module_version": "1.2.0",
       "_model_name": "LayoutModel",
       "_view_count": null,
       "_view_module": "@jupyter-widgets/base",
       "_view_module_version": "1.2.0",
       "_view_name": "LayoutView",
       "align_content": null,
       "align_items": null,
       "align_self": null,
       "border": null,
       "bottom": null,
       "display": null,
       "flex": null,
       "flex_flow": null,
       "grid_area": null,
       "grid_auto_columns": null,
       "grid_auto_flow": null,
       "grid_auto_rows": null,
       "grid_column": null,
       "grid_gap": null,
       "grid_row": null,
       "grid_template_areas": null,
       "grid_template_columns": null,
       "grid_template_rows": null,
       "height": null,
       "justify_content": null,
       "justify_items": null,
       "left": null,
       "margin": null,
       "max_height": null,
       "max_width": null,
       "min_height": null,
       "min_width": null,
       "object_fit": null,
       "object_position": null,
       "order": null,
       "overflow": null,
       "overflow_x": null,
       "overflow_y": null,
       "padding": null,
       "right": null,
       "top": null,
       "visibility": null,
       "width": null
      }
     },
     "3e36f269d7e644e09ea89c173fa3541b": {
      "model_module": "@jupyter-widgets/base",
      "model_module_version": "1.2.0",
      "model_name": "LayoutModel",
      "state": {
       "_model_module": "@jupyter-widgets/base",
       "_model_module_version": "1.2.0",
       "_model_name": "LayoutModel",
       "_view_count": null,
       "_view_module": "@jupyter-widgets/base",
       "_view_module_version": "1.2.0",
       "_view_name": "LayoutView",
       "align_content": null,
       "align_items": null,
       "align_self": null,
       "border": null,
       "bottom": null,
       "display": null,
       "flex": null,
       "flex_flow": null,
       "grid_area": null,
       "grid_auto_columns": null,
       "grid_auto_flow": null,
       "grid_auto_rows": null,
       "grid_column": null,
       "grid_gap": null,
       "grid_row": null,
       "grid_template_areas": null,
       "grid_template_columns": null,
       "grid_template_rows": null,
       "height": null,
       "justify_content": null,
       "justify_items": null,
       "left": null,
       "margin": null,
       "max_height": null,
       "max_width": null,
       "min_height": null,
       "min_width": null,
       "object_fit": null,
       "object_position": null,
       "order": null,
       "overflow": null,
       "overflow_x": null,
       "overflow_y": null,
       "padding": null,
       "right": null,
       "top": null,
       "visibility": null,
       "width": null
      }
     },
     "926882c32b7d4cc184a6d86cafcfc30d": {
      "model_module": "@jupyter-widgets/output",
      "model_module_version": "1.0.0",
      "model_name": "OutputModel",
      "state": {
       "_dom_classes": [],
       "_model_module": "@jupyter-widgets/output",
       "_model_module_version": "1.0.0",
       "_model_name": "OutputModel",
       "_view_count": null,
       "_view_module": "@jupyter-widgets/output",
       "_view_module_version": "1.0.0",
       "_view_name": "OutputView",
       "layout": "IPY_MODEL_09a3f102d85d40d69d9dde84e15dbfa7",
       "msg_id": "",
       "outputs": [
        {
         "data": {
          "text/html": "<pre style=\"white-space:pre;overflow-x:auto;line-height:normal;font-family:Menlo,'DejaVu Sans Mono',consolas,'Courier New',monospace\">Device program progress <span style=\"color: #729c1f; text-decoration-color: #729c1f\">━━━━━━━━━━━━━━━━━━━━━━━━━━━━━━━━━━━━━━━━</span> <span style=\"color: #ff00ff; text-decoration-color: #ff00ff; font-weight: bold\">100%</span> <span style=\"color: #008000; text-decoration-color: #008000; font-weight: bold\">Done</span>\n</pre>\n",
          "text/plain": "<rich.jupyter.JupyterRenderable at 0x7fede9058130>"
         },
         "metadata": {},
         "output_type": "display_data"
        }
       ]
      }
     },
     "abcbfd6dcf25419ab29701a110102ab1": {
      "model_module": "@jupyter-widgets/output",
      "model_module_version": "1.0.0",
      "model_name": "OutputModel",
      "state": {
       "_dom_classes": [],
       "_model_module": "@jupyter-widgets/output",
       "_model_module_version": "1.0.0",
       "_model_name": "OutputModel",
       "_view_count": null,
       "_view_module": "@jupyter-widgets/output",
       "_view_module_version": "1.0.0",
       "_view_name": "OutputView",
       "layout": "IPY_MODEL_3e36f269d7e644e09ea89c173fa3541b",
       "msg_id": "",
       "outputs": [
        {
         "data": {
          "text/html": "<pre style=\"white-space:pre;overflow-x:auto;line-height:normal;font-family:Menlo,'DejaVu Sans Mono',consolas,'Courier New',monospace\">2D Margin Scan Progress <span style=\"color: #729c1f; text-decoration-color: #729c1f\">━━━━━━━━━━━━━━━━━━━━━━━━━━━━━━━━━━━━━━━━</span> <span style=\"color: #ff00ff; text-decoration-color: #ff00ff; font-weight: bold\">100%</span> <span style=\"color: #008000; text-decoration-color: #008000; font-weight: bold\">Done</span>\n</pre>\n",
          "text/plain": "<rich.jupyter.JupyterRenderable at 0x7fede9227430>"
         },
         "metadata": {},
         "output_type": "display_data"
        }
       ]
      }
     }
    },
    "version_major": 2,
    "version_minor": 0
   }
  }
 },
 "nbformat": 4,
 "nbformat_minor": 5
}
