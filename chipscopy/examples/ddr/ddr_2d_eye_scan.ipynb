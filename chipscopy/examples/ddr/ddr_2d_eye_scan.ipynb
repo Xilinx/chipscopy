{
 "cells": [
  {
   "cell_type": "markdown",
   "id": "920667bd",
   "metadata": {
    "tags": [
     "papermill-error-cell-tag"
    ]
   },
   "source": [
    "<span style=\"color:red; font-family:Helvetica Neue, Helvetica, Arial, sans-serif; font-size:2em;\">An Exception was encountered at '<a href=\"#papermill-error-cell\">In [1]</a>'.</span>"
   ]
  },
  {
   "cell_type": "markdown",
   "id": "1e8a64e8",
   "metadata": {
    "papermill": {
     "duration": 0.005422,
     "end_time": "2023-10-24T22:11:17.103786",
     "exception": false,
     "start_time": "2023-10-24T22:11:17.098364",
     "status": "completed"
    },
    "tags": []
   },
   "source": [
    "<link rel=\"preconnect\" href=\"https://fonts.gstatic.com\">\n",
    "<link href=\"https://fonts.googleapis.com/css2?family=Fira+Code&display=swap\" rel=\"stylesheet\">\n",
    "\n",
    "### License\n",
    "\n",
    "<p style=\"font-family: 'Fira Code', monospace; font-size: 1.2rem\">\n",
    "Copyright (C) 2021-2022, Xilinx, Inc.\n",
    "Copyright (C) 2022-2023, Advanced Micro Devices, Inc.\n",
    "<br><br>\n",
    "Licensed under the Apache License, Version 2.0 (the \"License\");<br>\n",
    "you may not use this file except in compliance with the License.<br><br>\n",
    "You may obtain a copy of the License at <a href=\"http://www.apache.org/licenses/LICENSE-2.0\"?>http://www.apache.org/licenses/LICENSE-2.0</a><br><br>\n",
    "Unless required by applicable law or agreed to in writing, software<br>\n",
    "distributed under the License is distributed on an \"AS IS\" BASIS,<br>\n",
    "WITHOUT WARRANTIES OR CONDITIONS OF ANY KIND, either express or implied.<br>\n",
    "See the License for the specific language governing permissions and<br>\n",
    "limitations under the License.<br>\n",
    "</p>\n"
   ]
  },
  {
   "cell_type": "markdown",
   "id": "3c132aa3",
   "metadata": {
    "papermill": {
     "duration": 0.004848,
     "end_time": "2023-10-24T22:11:17.113324",
     "exception": false,
     "start_time": "2023-10-24T22:11:17.108476",
     "status": "completed"
    },
    "tags": []
   },
   "source": [
    "# ChipScoPy DDR 2D Eye Margin Scan Example\n",
    "\n",
    "\n",
    "<img src=\"../img/api_overview.png\" width=\"500\" align=\"left\">"
   ]
  },
  {
   "cell_type": "markdown",
   "id": "d29e34b6",
   "metadata": {
    "papermill": {
     "duration": 0.00426,
     "end_time": "2023-10-24T22:11:17.121974",
     "exception": false,
     "start_time": "2023-10-24T22:11:17.117714",
     "status": "completed"
    },
    "tags": []
   },
   "source": [
    "## Description\n",
    "This demo shows how to exercise and run Versal DDRMC 2D Margin Scan features\n",
    "\n",
    "\n",
    "## Requirements\n",
    "- Local or remote Xilinx Versal board, such as a VCK190\n",
    "- Xilinx hw_server 2023.2 installed and running\n",
    "- Xilinx cs_server 2023.2 installed and running\n",
    "- Python 3.8 or greater installed\n",
    "- ChipScoPy 2023.2 installed\n",
    "- Jupyter notebook support and extra libs needed - Please do so, using the command `pip install chipscopy[core-addons]`"
   ]
  },
  {
   "cell_type": "markdown",
   "id": "990d1d23",
   "metadata": {
    "papermill": {
     "duration": 0.005266,
     "end_time": "2023-10-24T22:11:17.131496",
     "exception": false,
     "start_time": "2023-10-24T22:11:17.126230",
     "status": "completed"
    },
    "tags": []
   },
   "source": [
    "## 1 - Initialization: Imports and File Paths\n",
    "\n",
    "After this step,\n",
    "- Required functions and classes are imported\n",
    "- URL paths are set correctly\n",
    "- File paths to example files are set correctly"
   ]
  },
  {
   "cell_type": "markdown",
   "id": "af183803",
   "metadata": {
    "tags": [
     "papermill-error-cell-tag"
    ]
   },
   "source": [
    "<span id=\"papermill-error-cell\" style=\"color:red; font-family:Helvetica Neue, Helvetica, Arial, sans-serif; font-size:2em;\">Execution using papermill encountered an exception here and stopped:</span>"
   ]
  },
  {
   "cell_type": "code",
   "execution_count": 1,
   "id": "d04009a7",
   "metadata": {
    "execution": {
     "iopub.execute_input": "2023-10-24T22:11:17.142151Z",
     "iopub.status.busy": "2023-10-24T22:11:17.141741Z",
     "iopub.status.idle": "2023-10-24T22:11:18.104822Z",
     "shell.execute_reply": "2023-10-24T22:11:18.103782Z"
    },
    "papermill": {
     "duration": 0.970316,
     "end_time": "2023-10-24T22:11:18.106073",
     "exception": true,
     "start_time": "2023-10-24T22:11:17.135757",
     "status": "failed"
    },
    "tags": []
   },
   "outputs": [
    {
     "ename": "ModuleNotFoundError",
     "evalue": "No module named 'ddr_scan_util'",
     "output_type": "error",
     "traceback": [
      "\u001B[0;31m---------------------------------------------------------------------------\u001B[0m",
      "\u001B[0;31mModuleNotFoundError\u001B[0m                       Traceback (most recent call last)",
      "Cell \u001B[0;32mIn[1], line 6\u001B[0m\n\u001B[1;32m      4\u001B[0m \u001B[38;5;28;01mfrom\u001B[39;00m \u001B[38;5;21;01mchipscopy\u001B[39;00m \u001B[38;5;28;01mimport\u001B[39;00m create_session, delete_session, report_versions\n\u001B[1;32m      5\u001B[0m \u001B[38;5;28;01mfrom\u001B[39;00m \u001B[38;5;21;01mchipscopy\u001B[39;00m \u001B[38;5;28;01mimport\u001B[39;00m get_design_files\n\u001B[0;32m----> 6\u001B[0m \u001B[38;5;28;01mfrom\u001B[39;00m \u001B[38;5;21;01mddr_scan_util\u001B[39;00m \u001B[38;5;28;01mimport\u001B[39;00m convert_vref_pct_to_code\n",
      "\u001B[0;31mModuleNotFoundError\u001B[0m: No module named 'ddr_scan_util'"
     ]
    }
   ],
   "source": [
    "import sys\n",
    "import os\n",
    "import pprint\n",
    "from chipscopy import create_session, delete_session, report_versions\n",
    "from chipscopy import get_design_files\n",
    "from ddr_scan_util import convert_vref_pct_to_code"
   ]
  },
  {
   "cell_type": "code",
   "execution_count": null,
   "id": "59260290",
   "metadata": {
    "papermill": {
     "duration": null,
     "end_time": null,
     "exception": null,
     "start_time": null,
     "status": "pending"
    },
    "tags": []
   },
   "outputs": [],
   "source": [
    "# Make sure to start the hw_server and cs_server prior to running.\n",
    "# Specify locations of the running hw_server and cs_server below.\n",
    "# The default is localhost - but can be other locations on the network.\n",
    "CS_URL = os.getenv(\"CS_SERVER_URL\", \"TCP:localhost:3042\")\n",
    "HW_URL = os.getenv(\"HW_SERVER_URL\", \"TCP:localhost:3121\")\n",
    "\n",
    "# specify hw and if programming is desired\n",
    "HW_PLATFORM = os.getenv(\"HW_PLATFORM\", \"vck190\")\n",
    "PROG_DEVICE = os.getenv(\"PROG_DEVICE\", True)\n",
    "\n",
    "# The get_design_files() function tries to find the PDI and LTX files. In non-standard\n",
    "# configurations, you can put the path for PROGRAMMING_FILE and PROBES_FILE below.\n",
    "design_files = get_design_files(f\"{HW_PLATFORM}/production/chipscopy_ced\")\n",
    "\n",
    "PROGRAMMING_FILE = design_files.programming_file\n",
    "PROBES_FILE = design_files.probes_file\n",
    "\n",
    "print(f\"HW_URL: {HW_URL}\")\n",
    "print(f\"CS_URL: {CS_URL}\")\n",
    "print(f\"PROGRAMMING_FILE: {PROGRAMMING_FILE}\")\n",
    "print(f\"PROBES_FILE:{PROBES_FILE}\")"
   ]
  },
  {
   "cell_type": "code",
   "execution_count": null,
   "id": "46aeb328",
   "metadata": {
    "papermill": {
     "duration": null,
     "end_time": null,
     "exception": null,
     "start_time": null,
     "status": "pending"
    },
    "tags": []
   },
   "outputs": [],
   "source": [
    "# Which DDRMC target (0..3) for given ACAP\n",
    "DDR_INDEX = 0\n",
    "# Which Rank of the memory interface\n",
    "RANK = 0\n",
    "# Read or Write Margin : \"READ\" \"WRITE\"\n",
    "MARGIN_MODE = \"READ\"\n",
    "# Data pattern used for margin check : \"SIMPLE\" \"COMPLEX\"\n",
    "DATA_PATTERN = \"COMPLEX\"\n",
    "# VREF Percentage Minimum (reccommended: Read :DDR4 25, LP4 5 , Write : DDR4 60  , LP4 10)\n",
    "VREF_PCT_MIN = 25\n",
    "# VREF Percentage Maximum (reccommended: Read:DDR4 50 , LP4 35 , Write : DDR4 90  , LP4 30)\n",
    "VREF_PCT_MAX = 50\n",
    "# Steps to show in the 2D eye scan  ( 1 step takes ~1 second to capture)\n",
    "STEPS = 15\n",
    "# Which nibble (read mode) or byte lane (write) to display\n",
    "DISPLAY_INDEX = 1"
   ]
  },
  {
   "cell_type": "markdown",
   "id": "72dd98da",
   "metadata": {
    "papermill": {
     "duration": null,
     "end_time": null,
     "exception": null,
     "start_time": null,
     "status": "pending"
    },
    "tags": []
   },
   "source": [
    "## 2 - Create a session and connect to the hw_server and cs_server\n",
    "\n",
    "The session is a container that keeps track of devices and debug cores.\n",
    "After this step,\n",
    "- Session is initialized and connected to server(s)\n",
    "- Versions are detected and reported to stdout"
   ]
  },
  {
   "cell_type": "code",
   "execution_count": null,
   "id": "863f015a",
   "metadata": {
    "papermill": {
     "duration": null,
     "end_time": null,
     "exception": null,
     "start_time": null,
     "status": "pending"
    },
    "tags": []
   },
   "outputs": [],
   "source": [
    "session = create_session(cs_server_url=CS_URL, hw_server_url=HW_URL)\n",
    "report_versions(session)"
   ]
  },
  {
   "cell_type": "markdown",
   "id": "f269b80e",
   "metadata": {
    "papermill": {
     "duration": null,
     "end_time": null,
     "exception": null,
     "start_time": null,
     "status": "pending"
    },
    "tags": []
   },
   "source": [
    "## 3 - Program the device with the example design\n",
    "\n",
    "After this step,\n",
    "- Device is programmed with the example programming file"
   ]
  },
  {
   "cell_type": "code",
   "execution_count": null,
   "id": "406b0963",
   "metadata": {
    "papermill": {
     "duration": null,
     "end_time": null,
     "exception": null,
     "start_time": null,
     "status": "pending"
    },
    "tags": []
   },
   "outputs": [],
   "source": [
    "# Typical case - one device on the board - get it.\n",
    "device = session.devices.filter_by(family=\"versal\").get()\n",
    "device.program(PROGRAMMING_FILE)"
   ]
  },
  {
   "cell_type": "markdown",
   "id": "bf3acdbc",
   "metadata": {
    "papermill": {
     "duration": null,
     "end_time": null,
     "exception": null,
     "start_time": null,
     "status": "pending"
    },
    "tags": []
   },
   "source": [
    "## 4 - Discover Debug Cores\n",
    "\n",
    "Debug core discovery initializes the chipscope server debug cores. This brings debug cores in the chipscope server online.\n",
    "\n",
    "After this step,\n",
    "\n",
    "- The cs_server is initialized and ready for use"
   ]
  },
  {
   "cell_type": "code",
   "execution_count": null,
   "id": "59b17c61",
   "metadata": {
    "papermill": {
     "duration": null,
     "end_time": null,
     "exception": null,
     "start_time": null,
     "status": "pending"
    },
    "tags": []
   },
   "outputs": [],
   "source": [
    "device.discover_and_setup_cores(ltx_file=PROBES_FILE)\n",
    "print(f\"Debug cores setup and ready for use.\")"
   ]
  },
  {
   "cell_type": "markdown",
   "id": "6ef9e422",
   "metadata": {
    "papermill": {
     "duration": null,
     "end_time": null,
     "exception": null,
     "start_time": null,
     "status": "pending"
    },
    "tags": []
   },
   "source": [
    "## 5 - Get a list of the integrated DDR Memory Controllers"
   ]
  },
  {
   "cell_type": "code",
   "execution_count": null,
   "id": "0300cbfb",
   "metadata": {
    "papermill": {
     "duration": null,
     "end_time": null,
     "exception": null,
     "start_time": null,
     "status": "pending"
    },
    "tags": []
   },
   "outputs": [],
   "source": [
    "ddr_list = device.ddrs\n",
    "print(f\"{len(ddr_list)} integrated DDRMC cores exist on this device.\")\n",
    "\n",
    "ddr_index = 0\n",
    "ddr_inst = None\n",
    "for ddr in ddr_list:\n",
    "    if ddr.is_enabled:\n",
    "        print(f\" DDRMC instance {ddr_index} is enabled\")\n",
    "        if ddr_inst is None:\n",
    "            ddr_inst = ddr\n",
    "    else:\n",
    "        print(f\" DDRMC instance {ddr_index} is disabled\")\n",
    "    ddr_index += 1"
   ]
  },
  {
   "cell_type": "markdown",
   "id": "747226dd",
   "metadata": {
    "papermill": {
     "duration": null,
     "end_time": null,
     "exception": null,
     "start_time": null,
     "status": "pending"
    },
    "tags": []
   },
   "source": [
    "## 6- Select a target DDR by index and display calibration status"
   ]
  },
  {
   "cell_type": "code",
   "execution_count": null,
   "id": "bd019919",
   "metadata": {
    "papermill": {
     "duration": null,
     "end_time": null,
     "exception": null,
     "start_time": null,
     "status": "pending"
    },
    "tags": []
   },
   "outputs": [],
   "source": [
    "try:\n",
    "    ddr = ddr_inst\n",
    "    props = ddr.ddr_node.get_property([\"cal_status\"])\n",
    "    print(f\"Calibration status of DDRMC instance {DDR_INDEX} is {props['cal_status']}\")\n",
    "except:\n",
    "    print(f\"The DDR controller at index {DDR_INDEX} is not in use\")"
   ]
  },
  {
   "cell_type": "code",
   "execution_count": null,
   "id": "6a50af2e",
   "metadata": {
    "papermill": {
     "duration": null,
     "end_time": null,
     "exception": null,
     "start_time": null,
     "status": "pending"
    },
    "tags": []
   },
   "outputs": [],
   "source": [
    "## Initialize and activate the Margin Check feature in the DDRMC\n",
    "ddr.ddr_node.set_property({\"mgchk_enable\": 1})\n",
    "ddr.ddr_node.commit_property_group([])\n",
    "ddr.ddr_node.set_property({\"mgchk_enable\": 0})\n",
    "ddr.ddr_node.commit_property_group([])\n",
    "print(\"Initialization complete.\")"
   ]
  },
  {
   "cell_type": "markdown",
   "id": "76bcd0b4",
   "metadata": {
    "papermill": {
     "duration": null,
     "end_time": null,
     "exception": null,
     "start_time": null,
     "status": "pending"
    },
    "tags": []
   },
   "source": [
    "## 7 - Setting the 2D eye scan read or write mode"
   ]
  },
  {
   "cell_type": "code",
   "execution_count": null,
   "id": "a4210d68",
   "metadata": {
    "lines_to_next_cell": 2,
    "papermill": {
     "duration": null,
     "end_time": null,
     "exception": null,
     "start_time": null,
     "status": "pending"
    },
    "tags": []
   },
   "outputs": [],
   "source": [
    "if MARGIN_MODE == \"READ\":\n",
    "    print(\"Setting 2D eye for READ margin\")\n",
    "    ddr.set_eye_scan_read_mode()\n",
    "elif MARGIN_MODE == \"WRITE\":\n",
    "    print(\"Setting 2D eye for WRITE margin\")\n",
    "    ddr.set_eye_scan_write_mode()\n",
    "else:\n",
    "    print(\n",
    "        f\" ERROR: MARGIN_MODE is set to {MARGIN_MODE} which is an illegal value, only READ or WRITE is allowed\"\n",
    "    )"
   ]
  },
  {
   "cell_type": "markdown",
   "id": "d49059eb",
   "metadata": {
    "papermill": {
     "duration": null,
     "end_time": null,
     "exception": null,
     "start_time": null,
     "status": "pending"
    },
    "tags": []
   },
   "source": [
    "## 8 - Setting the 2D eye scan data pattern mode"
   ]
  },
  {
   "cell_type": "code",
   "execution_count": null,
   "id": "9c37e875",
   "metadata": {
    "papermill": {
     "duration": null,
     "end_time": null,
     "exception": null,
     "start_time": null,
     "status": "pending"
    },
    "tags": []
   },
   "outputs": [],
   "source": [
    "if DATA_PATTERN == \"SIMPLE\":\n",
    "    print(\"Setting 2D eye for SIMPLE data pattern\")\n",
    "    ddr.set_eye_scan_simple_pattern()\n",
    "elif DATA_PATTERN == \"COMPLEX\":\n",
    "    print(\"Setting 2D eye for COMPLEX data pattern\")\n",
    "    ddr.set_eye_scan_complex_pattern()\n",
    "else:\n",
    "    print(\n",
    "        f\" ERROR: DATA_PATTERN is set to {DATA_PATTERN} which is an illegal value, only SIMPLE or COMPLEX is allowed\"\n",
    "    )"
   ]
  },
  {
   "cell_type": "markdown",
   "id": "166f252f",
   "metadata": {
    "papermill": {
     "duration": null,
     "end_time": null,
     "exception": null,
     "start_time": null,
     "status": "pending"
    },
    "tags": []
   },
   "source": [
    "## 9 - Setting the Vref sample min/max range"
   ]
  },
  {
   "cell_type": "code",
   "execution_count": null,
   "id": "3f278e6c",
   "metadata": {
    "lines_to_next_cell": 2,
    "papermill": {
     "duration": null,
     "end_time": null,
     "exception": null,
     "start_time": null,
     "status": "pending"
    },
    "tags": []
   },
   "outputs": [],
   "source": [
    "print(\"Vref Min setting...\")\n",
    "vref_min_code = convert_vref_pct_to_code(ddr, MARGIN_MODE, VREF_PCT_MIN)\n",
    "print(\"Vref Max setting...\")\n",
    "vref_max_code = convert_vref_pct_to_code(ddr, MARGIN_MODE, VREF_PCT_MAX)\n",
    "\n",
    "ddr.set_eye_scan_vref_min(vref_min_code)\n",
    "ddr.set_eye_scan_vref_max(vref_max_code)\n",
    "ddr.set_eye_scan_vref_steps(STEPS)\n",
    "print(f\"Dividing the Vref range into {STEPS} steps\")"
   ]
  },
  {
   "cell_type": "markdown",
   "id": "d2da0e8e",
   "metadata": {
    "papermill": {
     "duration": null,
     "end_time": null,
     "exception": null,
     "start_time": null,
     "status": "pending"
    },
    "tags": []
   },
   "source": [
    "## 10 - Run 2D Margin Scan after settings"
   ]
  },
  {
   "cell_type": "code",
   "execution_count": null,
   "id": "02638948",
   "metadata": {
    "papermill": {
     "duration": null,
     "end_time": null,
     "exception": null,
     "start_time": null,
     "status": "pending"
    },
    "tags": []
   },
   "outputs": [],
   "source": [
    "ddr.run_eye_scan()"
   ]
  },
  {
   "cell_type": "markdown",
   "id": "34f0e920",
   "metadata": {
    "papermill": {
     "duration": null,
     "end_time": null,
     "exception": null,
     "start_time": null,
     "status": "pending"
    },
    "tags": []
   },
   "source": [
    "## 11 - Display Scan Plots by a given Unit(nibble/byte) index\n",
    "\n",
    "You can display static or dynamic plots. The display_type controls the display output.\n",
    "- \"static\" is a simple image that can be saved.\n",
    "- \"dynamic\" is an interactive javascript plot.\n",
    "- The default is \"dynamic\"."
   ]
  },
  {
   "cell_type": "code",
   "execution_count": null,
   "id": "653f908c",
   "metadata": {
    "papermill": {
     "duration": null,
     "end_time": null,
     "exception": null,
     "start_time": null,
     "status": "pending"
    },
    "tags": []
   },
   "outputs": [],
   "source": [
    "ddr.display_eye_scan(DISPLAY_INDEX, display_type=\"static\")"
   ]
  },
  {
   "cell_type": "markdown",
   "id": "05aedfb0",
   "metadata": {
    "papermill": {
     "duration": null,
     "end_time": null,
     "exception": null,
     "start_time": null,
     "status": "pending"
    },
    "tags": []
   },
   "source": [
    "Optionally you can return figures as a list for later operations."
   ]
  },
  {
   "cell_type": "code",
   "execution_count": null,
   "id": "54371d1b",
   "metadata": {
    "papermill": {
     "duration": null,
     "end_time": null,
     "exception": null,
     "start_time": null,
     "status": "pending"
    },
    "tags": []
   },
   "outputs": [],
   "source": [
    "figs = ddr.display_eye_scan(DISPLAY_INDEX + 1, return_as_list=True)"
   ]
  },
  {
   "cell_type": "markdown",
   "id": "939dbc5c",
   "metadata": {
    "papermill": {
     "duration": null,
     "end_time": null,
     "exception": null,
     "start_time": null,
     "status": "pending"
    },
    "tags": []
   },
   "source": [
    "The following loop demonstrates how you can display the graphs from a list created previously.\n",
    "It is easy to display interactive or static images.\n",
    "\n",
    "Here we get the list of figures and output them to png format."
   ]
  },
  {
   "cell_type": "code",
   "execution_count": null,
   "id": "2145b4d6",
   "metadata": {
    "lines_to_next_cell": 2,
    "papermill": {
     "duration": null,
     "end_time": null,
     "exception": null,
     "start_time": null,
     "status": "pending"
    },
    "tags": []
   },
   "outputs": [],
   "source": [
    "from IPython.display import Image, display\n",
    "\n",
    "for fig in figs:\n",
    "    # To display interactive images, uncomment the following line:\n",
    "    # fig.show()\n",
    "\n",
    "    # To display a static png image:\n",
    "    image_bytes = fig.to_image(format=\"png\")\n",
    "    ipython_image = Image(image_bytes)\n",
    "    display(ipython_image)"
   ]
  },
  {
   "cell_type": "markdown",
   "id": "8b647b4e",
   "metadata": {
    "papermill": {
     "duration": null,
     "end_time": null,
     "exception": null,
     "start_time": null,
     "status": "pending"
    },
    "tags": []
   },
   "source": [
    "## 12 - Save the Eye Scan data from latest run"
   ]
  },
  {
   "cell_type": "code",
   "execution_count": null,
   "id": "0e4a9717",
   "metadata": {
    "papermill": {
     "duration": null,
     "end_time": null,
     "exception": null,
     "start_time": null,
     "status": "pending"
    },
    "tags": []
   },
   "outputs": [],
   "source": [
    "ddr.save_eye_scan_data(\"myoutput.csv\")"
   ]
  },
  {
   "cell_type": "markdown",
   "id": "8570082b",
   "metadata": {
    "papermill": {
     "duration": null,
     "end_time": null,
     "exception": null,
     "start_time": null,
     "status": "pending"
    },
    "tags": []
   },
   "source": [
    "## 13 - Load Eye Scan data from a given data file"
   ]
  },
  {
   "cell_type": "code",
   "execution_count": null,
   "id": "e474e840",
   "metadata": {
    "papermill": {
     "duration": null,
     "end_time": null,
     "exception": null,
     "start_time": null,
     "status": "pending"
    },
    "tags": []
   },
   "outputs": [],
   "source": [
    "ddr.load_eye_scan_data(\"myoutput.csv\")"
   ]
  },
  {
   "cell_type": "markdown",
   "id": "4fa6b79c",
   "metadata": {
    "papermill": {
     "duration": null,
     "end_time": null,
     "exception": null,
     "start_time": null,
     "status": "pending"
    },
    "tags": []
   },
   "source": [
    "## 14 - Review overall Scan status and Control group detail from latest run"
   ]
  },
  {
   "cell_type": "code",
   "execution_count": null,
   "id": "9774c9ab",
   "metadata": {
    "papermill": {
     "duration": null,
     "end_time": null,
     "exception": null,
     "start_time": null,
     "status": "pending"
    },
    "tags": []
   },
   "outputs": [],
   "source": [
    "props = ddr.ddr_node.get_property_group([\"eye_scan_stat\", \"eye_scan_ctrl\"])\n",
    "print(pprint.pformat(props, indent=2))"
   ]
  },
  {
   "cell_type": "markdown",
   "id": "7670bb89",
   "metadata": {
    "papermill": {
     "duration": null,
     "end_time": null,
     "exception": null,
     "start_time": null,
     "status": "pending"
    },
    "tags": []
   },
   "source": [
    "## 15 - (Optional) Report Full DDR config and calibration/margin Info"
   ]
  },
  {
   "cell_type": "code",
   "execution_count": null,
   "id": "aa608df2",
   "metadata": {
    "papermill": {
     "duration": null,
     "end_time": null,
     "exception": null,
     "start_time": null,
     "status": "pending"
    },
    "tags": []
   },
   "outputs": [],
   "source": [
    "# (uncomment to see report)\n",
    "# ddr.report()"
   ]
  },
  {
   "cell_type": "code",
   "execution_count": null,
   "id": "3155d262",
   "metadata": {
    "papermill": {
     "duration": null,
     "end_time": null,
     "exception": null,
     "start_time": null,
     "status": "pending"
    },
    "tags": []
   },
   "outputs": [],
   "source": [
    "## When done with testing, close the connection\n",
    "delete_session(session)"
   ]
  }
 ],
 "metadata": {
  "kernelspec": {
   "display_name": "Python 3 (ipykernel)",
   "language": "python",
   "name": "python3"
  },
  "language_info": {
   "codemirror_mode": {
    "name": "ipython",
    "version": 3
   },
   "file_extension": ".py",
   "mimetype": "text/x-python",
   "name": "python",
   "nbconvert_exporter": "python",
   "pygments_lexer": "ipython3",
   "version": "3.10.10"
  },
  "papermill": {
   "default_parameters": {},
   "duration": 2.951106,
   "end_time": "2023-10-24T22:11:18.631751",
   "environment_variables": {},
   "exception": true,
   "input_path": "./chipscopy-examples/ddr/ddr_2d_eye_scan.ipynb",
   "output_path": "./chipscopy-examples/ddr/ddr_2d_eye_scan.ipynb",
   "parameters": {},
   "start_time": "2023-10-24T22:11:15.680645",
   "version": "2.4.0"
  }
 },
 "nbformat": 4,
 "nbformat_minor": 5
}
