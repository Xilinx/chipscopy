{
  "cells": [
    {
      "cell_type": "markdown",
      "id": "41255979",
      "metadata": {},
      "source": [
        "### License\n",
        "Copyright (C) 2021-2022, Xilinx, Inc.\n",
        "<br>\n",
        "Copyright (C) 2022-2024, Advanced Micro Devices, Inc.\n",
        "<p>\n",
        "Licensed under the Apache License, Version 2.0 (the \"License\");\n",
        "you may not use this file except in compliance with the License.\n",
        "<p>\n",
        "You may obtain a copy of the License at <a href=\"http://www.apache.org/licenses/LICENSE-2.0\"?>http://www.apache.org/licenses/LICENSE-2.0</a><br><br>\n",
        "Unless required by applicable law or agreed to in writing, software\n",
        "distributed under the License is distributed on an \"AS IS\" BASIS, \n",
        "WITHOUT WARRANTIES OR CONDITIONS OF ANY KIND, either express or implied.\n",
        "See the License for the specific language governing permissions and\n",
        "limitations under the License."
      ]
    },
    {
      "cell_type": "markdown",
      "id": "927bd6b9",
      "metadata": {},
      "source": [
        "# ChipScoPy DDR Reporting Example\n",
        "\n",
        "\n",
        "<img src=\"../img/api_overview.png\" width=\"500\" align=\"left\">"
      ]
    },
    {
      "cell_type": "markdown",
      "id": "f05be94e",
      "metadata": {},
      "source": [
        "## Description\n",
        "This demo shows how to print and report DDR calibration status and report detailed information.\n",
        "\n",
        "\n",
        "## Requirements\n",
        "- Local or remote Xilinx Versal board, such as a VCK190\n",
        "- Xilinx hw_server 2024.1 installed and running\n",
        "- Xilinx cs_server 2024.1 installed and running\n",
        "- Python 3.8 or greater installed\n",
        "- ChipScoPy 2024.1 installed\n",
        "- Jupyter notebook support and extra libs needed - Please do so, using the command `pip install chipscopy[core-addons,jupyter]`"
      ]
    },
    {
      "cell_type": "markdown",
      "id": "2b1a58a7",
      "metadata": {},
      "source": [
        "## 1 - Initialization: Imports and File Paths\n",
        "\n",
        "After this step,\n",
        "- Required functions and classes are imported\n",
        "- Paths to server(s) and files are set correctly"
      ]
    },
    {
      "cell_type": "code",
      "execution_count": 1,
      "id": "e9ac5772",
      "metadata": {},
      "outputs": [],
      "source": [
        "import pprint\n",
        "import os\n",
        "import json\n",
        "from chipscopy import create_session, report_versions, delete_session\n",
        "from chipscopy import get_design_files"
      ]
    },
    {
      "cell_type": "code",
      "execution_count": 2,
      "id": "4011ea2d",
      "metadata": {},
      "outputs": [
        {
          "name": "stdout",
          "output_type": "stream",
          "text": [
            "HW_URL: TCP:localhost:3121\n",
            "CS_URL: TCP:localhost:3042\n",
            "PROGRAMMING_FILE: /scratch/chipscopy/venv/lib/python3.11/site-packages/chipscopy/examples/designs/vck190/production/chipscopy_ced/chipscopy_wrapper.pdi\n",
            "PROBES_FILE:/scratch/chipscopy/venv/lib/python3.11/site-packages/chipscopy/examples/designs/vck190/production/chipscopy_ced/chipscopy_wrapper.ltx\n"
          ]
        }
      ],
      "source": [
        "# Specify locations of the running hw_server and cs_server below.\n",
        "CS_URL = os.getenv(\"CS_SERVER_URL\", \"TCP:localhost:3042\")\n",
        "HW_URL = os.getenv(\"HW_SERVER_URL\", \"TCP:localhost:3121\")\n",
        "\n",
        "# specify hw and if programming is desired\n",
        "HW_PLATFORM = os.getenv(\"HW_PLATFORM\", \"vck190\")\n",
        "PROG_DEVICE = os.getenv(\"PROG_DEVICE\", 'True').lower() in ('true', '1', 't')\n",
        "\n",
        "# The get_design_files() function tries to find the PDI and LTX files. In non-standard\n",
        "# configurations, you can put the path for PROGRAMMING_FILE and PROBES_FILE below.\n",
        "design_files = get_design_files(f\"{HW_PLATFORM}/production/chipscopy_ced\")\n",
        "\n",
        "PDI_FILE = design_files.programming_file\n",
        "LTX_FILE = design_files.probes_file\n",
        "\n",
        "print(f\"HW_URL: {HW_URL}\")\n",
        "print(f\"CS_URL: {CS_URL}\")\n",
        "print(f\"PROGRAMMING_FILE: {PDI_FILE}\")\n",
        "print(f\"PROBES_FILE:{LTX_FILE}\")"
      ]
    },
    {
      "cell_type": "markdown",
      "id": "ca167172",
      "metadata": {},
      "source": [
        "## 2 - Create a session and connect to the hw_server and cs_server\n",
        "\n",
        "The session is a container that keeps track of devices and debug cores.\n",
        "After this step,\n",
        "- Session is initialized and connected to server(s)\n",
        "- Versions are detected and reported to stdout"
      ]
    },
    {
      "cell_type": "code",
      "execution_count": 3,
      "id": "4bcd4e27",
      "metadata": {},
      "outputs": [
        {
          "data": {
            "text/html": [
              "<pre style=\"white-space:pre;overflow-x:auto;line-height:normal;font-family:Menlo,'DejaVu Sans Mono',consolas,'Courier New',monospace\">\n",
              "\n",
              "</pre>\n"
            ],
            "text/plain": [
              "\n",
              "\n"
            ]
          },
          "metadata": {},
          "output_type": "display_data"
        },
        {
          "data": {
            "text/html": [
              "<pre style=\"white-space:pre;overflow-x:auto;line-height:normal;font-family:Menlo,'DejaVu Sans Mono',consolas,'Courier New',monospace\"><span style=\"font-style: italic\">                      ChipScoPy Version Information                      </span>\n",
              "┌────────────────────────────┬──────────────────────────────────────────┐\n",
              "│<span style=\"font-weight: bold\">                     Entity </span>│<span style=\"font-weight: bold\"> Version                                  </span>│\n",
              "├────────────────────────────┼──────────────────────────────────────────┤\n",
              "│                  ChipScoPy │ ┌───────────┬──────────────────────┐     │\n",
              "│                            │ │<span style=\"font-weight: bold\"> Attribute </span>│<span style=\"font-weight: bold\"> Value                </span>│     │\n",
              "│                            │ ├───────────┼──────────────────────┤     │\n",
              "│                            │ │     Build │ 2024.1.1717606426    │     │\n",
              "│                            │ │ Timestamp │ Jun 05 2024-09:53:46 │     │\n",
              "│                            │ └───────────┴──────────────────────┘     │\n",
              "│                            │                                          │\n",
              "│ hw_server @ localhost:3121 │ ┌───────────┬──────────────────────────┐ │\n",
              "│                            │ │<span style=\"font-weight: bold\"> Attribute </span>│<span style=\"font-weight: bold\"> Value                    </span>│ │\n",
              "│                            │ ├───────────┼──────────────────────────┤ │\n",
              "│                            │ │    Status │ Connected                │ │\n",
              "│                            │ │     Build │ 1716424495               │ │\n",
              "│                            │ │   Version │ 2024.1                   │ │\n",
              "│                            │ │ Timestamp │ Wed May 22 18:34:55 2024 │ │\n",
              "│                            │ └───────────┴──────────────────────────┘ │\n",
              "│                            │                                          │\n",
              "│ cs_server @ localhost:3042 │ ┌───────────────┬──────────────────────┐ │\n",
              "│                            │ │<span style=\"font-weight: bold\">     Attribute </span>│<span style=\"font-weight: bold\"> Value                </span>│ │\n",
              "│                            │ ├───────────────┼──────────────────────┤ │\n",
              "│                            │ │        Status │ Connected            │ │\n",
              "│                            │ │         Build │ 1714182049           │ │\n",
              "│                            │ │       Version │ 2024.1.0             │ │\n",
              "│                            │ │     Timestamp │ Apr 26 2024-18:40:49 │ │\n",
              "│                            │ │       Package │ 2024.1.1714182049    │ │\n",
              "│                            │ │ Artifact type │ pyinstaller          │ │\n",
              "│                            │ └───────────────┴──────────────────────┘ │\n",
              "└────────────────────────────┴──────────────────────────────────────────┘\n",
              "</pre>\n"
            ],
            "text/plain": [
              "\u001b[3m                      ChipScoPy Version Information                      \u001b[0m\n",
              "┌────────────────────────────┬──────────────────────────────────────────┐\n",
              "│\u001b[1m \u001b[0m\u001b[1m                    Entity\u001b[0m\u001b[1m \u001b[0m│\u001b[1m \u001b[0m\u001b[1mVersion                                 \u001b[0m\u001b[1m \u001b[0m│\n",
              "├────────────────────────────┼──────────────────────────────────────────┤\n",
              "│                  ChipScoPy │ ┌───────────┬──────────────────────┐     │\n",
              "│                            │ │\u001b[1m \u001b[0m\u001b[1mAttribute\u001b[0m\u001b[1m \u001b[0m│\u001b[1m \u001b[0m\u001b[1mValue               \u001b[0m\u001b[1m \u001b[0m│     │\n",
              "│                            │ ├───────────┼──────────────────────┤     │\n",
              "│                            │ │     Build │ 2024.1.1717606426    │     │\n",
              "│                            │ │ Timestamp │ Jun 05 2024-09:53:46 │     │\n",
              "│                            │ └───────────┴──────────────────────┘     │\n",
              "│                            │                                          │\n",
              "│ hw_server @ localhost:3121 │ ┌───────────┬──────────────────────────┐ │\n",
              "│                            │ │\u001b[1m \u001b[0m\u001b[1mAttribute\u001b[0m\u001b[1m \u001b[0m│\u001b[1m \u001b[0m\u001b[1mValue                   \u001b[0m\u001b[1m \u001b[0m│ │\n",
              "│                            │ ├───────────┼──────────────────────────┤ │\n",
              "│                            │ │    Status │ Connected                │ │\n",
              "│                            │ │     Build │ 1716424495               │ │\n",
              "│                            │ │   Version │ 2024.1                   │ │\n",
              "│                            │ │ Timestamp │ Wed May 22 18:34:55 2024 │ │\n",
              "│                            │ └───────────┴──────────────────────────┘ │\n",
              "│                            │                                          │\n",
              "│ cs_server @ localhost:3042 │ ┌───────────────┬──────────────────────┐ │\n",
              "│                            │ │\u001b[1m \u001b[0m\u001b[1m    Attribute\u001b[0m\u001b[1m \u001b[0m│\u001b[1m \u001b[0m\u001b[1mValue               \u001b[0m\u001b[1m \u001b[0m│ │\n",
              "│                            │ ├───────────────┼──────────────────────┤ │\n",
              "│                            │ │        Status │ Connected            │ │\n",
              "│                            │ │         Build │ 1714182049           │ │\n",
              "│                            │ │       Version │ 2024.1.0             │ │\n",
              "│                            │ │     Timestamp │ Apr 26 2024-18:40:49 │ │\n",
              "│                            │ │       Package │ 2024.1.1714182049    │ │\n",
              "│                            │ │ Artifact type │ pyinstaller          │ │\n",
              "│                            │ └───────────────┴──────────────────────┘ │\n",
              "└────────────────────────────┴──────────────────────────────────────────┘\n"
            ]
          },
          "metadata": {},
          "output_type": "display_data"
        },
        {
          "data": {
            "text/html": [
              "<pre style=\"white-space:pre;overflow-x:auto;line-height:normal;font-family:Menlo,'DejaVu Sans Mono',consolas,'Courier New',monospace\">\n",
              "\n",
              "</pre>\n"
            ],
            "text/plain": [
              "\n",
              "\n"
            ]
          },
          "metadata": {},
          "output_type": "display_data"
        }
      ],
      "source": [
        "# Start of the connection\n",
        "session = create_session(cs_server_url=CS_URL, hw_server_url=HW_URL)\n",
        "report_versions(session)"
      ]
    },
    {
      "cell_type": "markdown",
      "id": "78f1f4a5",
      "metadata": {},
      "source": [
        "## 3 - Program the device with the example design\n",
        "\n",
        "After this step,\n",
        "- Device is programmed with the example programming file"
      ]
    },
    {
      "cell_type": "code",
      "execution_count": 4,
      "id": "4a242f9a",
      "metadata": {},
      "outputs": [
        {
          "data": {
            "text/html": [
              "<pre style=\"white-space:pre;overflow-x:auto;line-height:normal;font-family:Menlo,'DejaVu Sans Mono',consolas,'Courier New',monospace\">\n",
              "<span style=\"font-weight: bold\">--&gt; INFO: </span>Programming device with: \n",
              "/scratch/chipscopy/venv/lib/python3.11/site-packages/chipscopy/examples/designs/vck190/production/chipscopy_ced/chi\n",
              "pscopy_wrapper.pdi\n",
              "    \n",
              "</pre>\n"
            ],
            "text/plain": [
              "\n",
              "\u001b[1m--> INFO: \u001b[0mProgramming device with: \n",
              "/scratch/chipscopy/venv/lib/python3.11/site-packages/chipscopy/examples/designs/vck190/production/chipscopy_ced/chi\n",
              "pscopy_wrapper.pdi\n",
              "    \n"
            ]
          },
          "metadata": {},
          "output_type": "display_data"
        },
        {
          "data": {
            "application/vnd.jupyter.widget-view+json": {
              "model_id": "08327d10626b4c3996cb1f82c96fac6a",
              "version_major": 2,
              "version_minor": 0
            },
            "text/plain": [
              "Output()"
            ]
          },
          "metadata": {},
          "output_type": "display_data"
        },
        {
          "data": {
            "text/html": [
              "<pre style=\"white-space:pre;overflow-x:auto;line-height:normal;font-family:Menlo,'DejaVu Sans Mono',consolas,'Courier New',monospace\"></pre>\n"
            ],
            "text/plain": []
          },
          "metadata": {},
          "output_type": "display_data"
        },
        {
          "data": {
            "text/html": [
              "<pre style=\"white-space:pre;overflow-x:auto;line-height:normal;font-family:Menlo,'DejaVu Sans Mono',consolas,'Courier New',monospace\">\n",
              "</pre>\n"
            ],
            "text/plain": [
              "\n"
            ]
          },
          "metadata": {},
          "output_type": "display_data"
        }
      ],
      "source": [
        "# Typical case - one device on the board - get it.\n",
        "versal_device = session.devices.filter_by(family=\"versal\").get()\n",
        "if PROG_DEVICE:\n",
        "    versal_device.program(PDI_FILE)\n",
        "else:\n",
        "    print(\"skipping programming\")"
      ]
    },
    {
      "cell_type": "markdown",
      "id": "7505cc85",
      "metadata": {},
      "source": [
        "## 4 - Discover Debug Cores\n",
        "\n",
        "Debug core discovery initializes the chipscope server debug cores. This brings debug cores in the chipscope server online.\n",
        "\n",
        "After this step,\n",
        "\n",
        "- The cs_server is initialized and ready for use"
      ]
    },
    {
      "cell_type": "code",
      "execution_count": 5,
      "id": "10d4769e",
      "metadata": {},
      "outputs": [
        {
          "name": "stdout",
          "output_type": "stream",
          "text": [
            "Debug cores setup and ready for use.\n"
          ]
        }
      ],
      "source": [
        "versal_device.discover_and_setup_cores()\n",
        "print(f\"Debug cores setup and ready for use.\")"
      ]
    },
    {
      "cell_type": "markdown",
      "id": "9863212e",
      "metadata": {},
      "source": [
        "## 5 - Show enabled DDRs in the device. Pick one to use"
      ]
    },
    {
      "cell_type": "code",
      "execution_count": 6,
      "id": "dc2615b9",
      "metadata": {},
      "outputs": [
        {
          "name": "stdout",
          "output_type": "stream",
          "text": [
            "ddr_0   Enabled: True\n",
            "ddr_1   Enabled: False\n",
            "ddr_2   Enabled: False\n",
            "ddr_3   Enabled: False\n",
            "Using Enabled DDR:  ddr_0\n"
          ]
        }
      ],
      "source": [
        "ddr_list = versal_device.ddrs\n",
        "for ddr in ddr_list:\n",
        "    print(ddr, \"  Enabled:\", ddr.is_enabled)\n",
        "\n",
        "# Grab the first enabled DDR\n",
        "for ddr in ddr_list:\n",
        "    if ddr.is_enabled:\n",
        "        print(\"Using Enabled DDR: \", ddr)\n",
        "        break"
      ]
    },
    {
      "cell_type": "markdown",
      "id": "7230dfbd",
      "metadata": {},
      "source": [
        "## 6 - Getting the Calibration Status\n",
        "\n",
        "There are several methods available to collect memory calibration information."
      ]
    },
    {
      "cell_type": "markdown",
      "id": "bf46a674",
      "metadata": {},
      "source": [
        "### Method 1 - Calibration PASS/FAIL status"
      ]
    },
    {
      "cell_type": "code",
      "execution_count": 7,
      "id": "13774cbe",
      "metadata": {},
      "outputs": [
        {
          "name": "stdout",
          "output_type": "stream",
          "text": [
            "ddr_0 calibration status: PASS\n"
          ]
        }
      ],
      "source": [
        "# Method 1 - Use Status string base API directly\n",
        "print(ddr, \"calibration status:\", ddr.get_cal_status())"
      ]
    },
    {
      "cell_type": "markdown",
      "id": "90ba902d",
      "metadata": {},
      "source": [
        "### Method 2 - Calibration from the status property group"
      ]
    },
    {
      "cell_type": "code",
      "execution_count": 8,
      "id": "a734709e",
      "metadata": {},
      "outputs": [
        {
          "name": "stdout",
          "output_type": "stream",
          "text": [
            "{ 'cal_error_msg': 'None',\n",
            "  'cal_message': 'No errors detected during calibration.',\n",
            "  'cal_status': 'PASS',\n",
            "  'dqs_status': 'Running',\n",
            "  'health_status': 'GOOD',\n",
            "  'track_enable': 'DQS Gate Tracking, UB ISR Tracking, DDRMC ISR Tracking, '\n",
            "                  'Post-Cal Status'}\n"
          ]
        }
      ],
      "source": [
        "# Use Property Group to get dictionary base of results\n",
        "props = ddr.ddr_node.get_property_group([\"status\"])\n",
        "print(pprint.pformat(props, indent=2))"
      ]
    },
    {
      "cell_type": "markdown",
      "id": "1fbab64a",
      "metadata": {},
      "source": [
        "### Method 3 - Detailed calibration status for each stage"
      ]
    },
    {
      "cell_type": "code",
      "execution_count": 9,
      "id": "6bac1adf",
      "metadata": {},
      "outputs": [
        {
          "name": "stdout",
          "output_type": "stream",
          "text": [
            "[ ('cal_stage.01_F0_PHY_BISC', 'Pass'),\n",
            "  ('cal_stage.02_F0_MEM_INIT', 'Pass'),\n",
            "  ('cal_stage.03_F0_DQS_GATE_CAL', 'Pass'),\n",
            "  ('cal_stage.04_F0_WRITE_LEVELING', 'Pass'),\n",
            "  ('cal_stage.05_F0_READ_DQ_CAL', 'Pass'),\n",
            "  ('cal_stage.06_F0_WRITE_DQ_DBI_CAL', 'Pass'),\n",
            "  ('cal_stage.07_F0_WRITE_LATENCY_CAL', 'Pass'),\n",
            "  ('cal_stage.08_F0_READ_DQ_DBI_CAL_COMPLEX', 'Pass'),\n",
            "  ('cal_stage.09_F0_WRITE_DQ_DBI_CAL_COMPLEX', 'Pass'),\n",
            "  ('cal_stage.10_EN_VT_TRACK', 'Pass'),\n",
            "  ('cal_stage.11_READ_DQS_TRACK', 'Pass'),\n",
            "  ('cal_stage.12_CAL_DONE', 'Pass')]\n"
          ]
        }
      ],
      "source": [
        "# Use get Cal Stages API directly to also get dictionary results\n",
        "props = ddr.get_cal_stages()\n",
        "print(pprint.pformat(sorted(props.items()), indent=2))"
      ]
    },
    {
      "cell_type": "markdown",
      "id": "04d7a994",
      "metadata": {},
      "source": [
        "## 7 - Generate Full DDRMC Report\n",
        "\n",
        "The report() API call creates a full DDRMC status report to stdout or a file. This report includes memory configuration, margin analysis, calibration, and health status information."
      ]
    },
    {
      "cell_type": "code",
      "execution_count": 10,
      "id": "6b327707",
      "metadata": {},
      "outputs": [
        {
          "data": {
            "text/html": [
              "<pre style=\"white-space:pre;overflow-x:auto;line-height:normal;font-family:Menlo,'DejaVu Sans Mono',consolas,'Courier New',monospace\">-------------------\n",
              "\n",
              "</pre>\n"
            ],
            "text/plain": [
              "-------------------\n",
              "\n"
            ]
          },
          "metadata": {},
          "output_type": "display_data"
        },
        {
          "data": {
            "text/html": [
              "<pre style=\"white-space:pre;overflow-x:auto;line-height:normal;font-family:Menlo,'DejaVu Sans Mono',consolas,'Courier New',monospace\"> DDRMC Status \n",
              "\n",
              "</pre>\n"
            ],
            "text/plain": [
              " DDRMC Status \n",
              "\n"
            ]
          },
          "metadata": {},
          "output_type": "display_data"
        },
        {
          "data": {
            "text/html": [
              "<pre style=\"white-space:pre;overflow-x:auto;line-height:normal;font-family:Menlo,'DejaVu Sans Mono',consolas,'Courier New',monospace\">-------------------\n",
              "\n",
              "</pre>\n"
            ],
            "text/plain": [
              "-------------------\n",
              "\n"
            ]
          },
          "metadata": {},
          "output_type": "display_data"
        },
        {
          "data": {
            "text/html": [
              "<pre style=\"white-space:pre;overflow-x:auto;line-height:normal;font-family:Menlo,'DejaVu Sans Mono',consolas,'Courier New',monospace\">Calibration Status:   PASS \n",
              "\n",
              "</pre>\n"
            ],
            "text/plain": [
              "Calibration Status:   PASS \n",
              "\n"
            ]
          },
          "metadata": {},
          "output_type": "display_data"
        },
        {
          "data": {
            "text/html": [
              "<pre style=\"white-space:pre;overflow-x:auto;line-height:normal;font-family:Menlo,'DejaVu Sans Mono',consolas,'Courier New',monospace\">Overall Health:   GOOD \n",
              "\n",
              "</pre>\n"
            ],
            "text/plain": [
              "Overall Health:   GOOD \n",
              "\n"
            ]
          },
          "metadata": {},
          "output_type": "display_data"
        },
        {
          "data": {
            "text/html": [
              "<pre style=\"white-space:pre;overflow-x:auto;line-height:normal;font-family:Menlo,'DejaVu Sans Mono',consolas,'Courier New',monospace\">Message:   No errors detected during calibration. \n",
              "\n",
              "</pre>\n"
            ],
            "text/plain": [
              "Message:   No errors detected during calibration. \n",
              "\n"
            ]
          },
          "metadata": {},
          "output_type": "display_data"
        },
        {
          "data": {
            "text/html": [
              "<pre style=\"white-space:pre;overflow-x:auto;line-height:normal;font-family:Menlo,'DejaVu Sans Mono',consolas,'Courier New',monospace\">\n",
              "-------------------\n",
              "\n",
              "</pre>\n"
            ],
            "text/plain": [
              "\n",
              "-------------------\n",
              "\n"
            ]
          },
          "metadata": {},
          "output_type": "display_data"
        },
        {
          "data": {
            "text/html": [
              "<pre style=\"white-space:pre;overflow-x:auto;line-height:normal;font-family:Menlo,'DejaVu Sans Mono',consolas,'Courier New',monospace\"> Status Registers\n",
              "\n",
              "</pre>\n"
            ],
            "text/plain": [
              " Status Registers\n",
              "\n"
            ]
          },
          "metadata": {},
          "output_type": "display_data"
        },
        {
          "data": {
            "text/html": [
              "<pre style=\"white-space:pre;overflow-x:auto;line-height:normal;font-family:Menlo,'DejaVu Sans Mono',consolas,'Courier New',monospace\">-------------------\n",
              "\n",
              "</pre>\n"
            ],
            "text/plain": [
              "-------------------\n",
              "\n"
            ]
          },
          "metadata": {},
          "output_type": "display_data"
        },
        {
          "data": {
            "text/html": [
              "<pre style=\"white-space:pre;overflow-x:auto;line-height:normal;font-family:Menlo,'DejaVu Sans Mono',consolas,'Courier New',monospace\">DDRMC ISR Table\n",
              "\n",
              "</pre>\n"
            ],
            "text/plain": [
              "DDRMC ISR Table\n",
              "\n"
            ]
          },
          "metadata": {},
          "output_type": "display_data"
        },
        {
          "data": {
            "text/html": [
              "<pre style=\"white-space:pre;overflow-x:auto;line-height:normal;font-family:Menlo,'DejaVu Sans Mono',consolas,'Courier New',monospace\">   ddrmc_isr_ce0_ecc0 :   <span style=\"color: #008080; text-decoration-color: #008080; font-weight: bold\">0</span>\n",
              "</pre>\n"
            ],
            "text/plain": [
              "   ddrmc_isr_ce0_ecc0 :   \u001b[1;36m0\u001b[0m\n"
            ]
          },
          "metadata": {},
          "output_type": "display_data"
        },
        {
          "data": {
            "text/html": [
              "<pre style=\"white-space:pre;overflow-x:auto;line-height:normal;font-family:Menlo,'DejaVu Sans Mono',consolas,'Courier New',monospace\">   ddrmc_isr_ce0_ecc1 :   <span style=\"color: #008080; text-decoration-color: #008080; font-weight: bold\">0</span>\n",
              "</pre>\n"
            ],
            "text/plain": [
              "   ddrmc_isr_ce0_ecc1 :   \u001b[1;36m0\u001b[0m\n"
            ]
          },
          "metadata": {},
          "output_type": "display_data"
        },
        {
          "data": {
            "text/html": [
              "<pre style=\"white-space:pre;overflow-x:auto;line-height:normal;font-family:Menlo,'DejaVu Sans Mono',consolas,'Courier New',monospace\">   ddrmc_isr_ce1_ecc0 :   <span style=\"color: #008080; text-decoration-color: #008080; font-weight: bold\">0</span>\n",
              "</pre>\n"
            ],
            "text/plain": [
              "   ddrmc_isr_ce1_ecc0 :   \u001b[1;36m0\u001b[0m\n"
            ]
          },
          "metadata": {},
          "output_type": "display_data"
        },
        {
          "data": {
            "text/html": [
              "<pre style=\"white-space:pre;overflow-x:auto;line-height:normal;font-family:Menlo,'DejaVu Sans Mono',consolas,'Courier New',monospace\">   ddrmc_isr_ce1_ecc1 :   <span style=\"color: #008080; text-decoration-color: #008080; font-weight: bold\">0</span>\n",
              "</pre>\n"
            ],
            "text/plain": [
              "   ddrmc_isr_ce1_ecc1 :   \u001b[1;36m0\u001b[0m\n"
            ]
          },
          "metadata": {},
          "output_type": "display_data"
        },
        {
          "data": {
            "text/html": [
              "<pre style=\"white-space:pre;overflow-x:auto;line-height:normal;font-family:Menlo,'DejaVu Sans Mono',consolas,'Courier New',monospace\">   ddrmc_isr_ch0_data_par :   <span style=\"color: #008080; text-decoration-color: #008080; font-weight: bold\">0</span>\n",
              "</pre>\n"
            ],
            "text/plain": [
              "   ddrmc_isr_ch0_data_par :   \u001b[1;36m0\u001b[0m\n"
            ]
          },
          "metadata": {},
          "output_type": "display_data"
        },
        {
          "data": {
            "text/html": [
              "<pre style=\"white-space:pre;overflow-x:auto;line-height:normal;font-family:Menlo,'DejaVu Sans Mono',consolas,'Courier New',monospace\">   ddrmc_isr_ch1_data_par :   <span style=\"color: #008080; text-decoration-color: #008080; font-weight: bold\">0</span>\n",
              "</pre>\n"
            ],
            "text/plain": [
              "   ddrmc_isr_ch1_data_par :   \u001b[1;36m0\u001b[0m\n"
            ]
          },
          "metadata": {},
          "output_type": "display_data"
        },
        {
          "data": {
            "text/html": [
              "<pre style=\"white-space:pre;overflow-x:auto;line-height:normal;font-family:Menlo,'DejaVu Sans Mono',consolas,'Courier New',monospace\">   ddrmc_isr_dc_cmd0_fatal :   <span style=\"color: #008080; text-decoration-color: #008080; font-weight: bold\">0</span>\n",
              "</pre>\n"
            ],
            "text/plain": [
              "   ddrmc_isr_dc_cmd0_fatal :   \u001b[1;36m0\u001b[0m\n"
            ]
          },
          "metadata": {},
          "output_type": "display_data"
        },
        {
          "data": {
            "text/html": [
              "<pre style=\"white-space:pre;overflow-x:auto;line-height:normal;font-family:Menlo,'DejaVu Sans Mono',consolas,'Courier New',monospace\">   ddrmc_isr_dc_cmd1_fatal :   <span style=\"color: #008080; text-decoration-color: #008080; font-weight: bold\">0</span>\n",
              "</pre>\n"
            ],
            "text/plain": [
              "   ddrmc_isr_dc_cmd1_fatal :   \u001b[1;36m0\u001b[0m\n"
            ]
          },
          "metadata": {},
          "output_type": "display_data"
        },
        {
          "data": {
            "text/html": [
              "<pre style=\"white-space:pre;overflow-x:auto;line-height:normal;font-family:Menlo,'DejaVu Sans Mono',consolas,'Courier New',monospace\">   ddrmc_isr_dram_parity0 :   <span style=\"color: #008080; text-decoration-color: #008080; font-weight: bold\">0</span>\n",
              "</pre>\n"
            ],
            "text/plain": [
              "   ddrmc_isr_dram_parity0 :   \u001b[1;36m0\u001b[0m\n"
            ]
          },
          "metadata": {},
          "output_type": "display_data"
        },
        {
          "data": {
            "text/html": [
              "<pre style=\"white-space:pre;overflow-x:auto;line-height:normal;font-family:Menlo,'DejaVu Sans Mono',consolas,'Courier New',monospace\">   ddrmc_isr_dram_parity1 :   <span style=\"color: #008080; text-decoration-color: #008080; font-weight: bold\">0</span>\n",
              "</pre>\n"
            ],
            "text/plain": [
              "   ddrmc_isr_dram_parity1 :   \u001b[1;36m0\u001b[0m\n"
            ]
          },
          "metadata": {},
          "output_type": "display_data"
        },
        {
          "data": {
            "text/html": [
              "<pre style=\"white-space:pre;overflow-x:auto;line-height:normal;font-family:Menlo,'DejaVu Sans Mono',consolas,'Courier New',monospace\">   ddrmc_isr_dram_parity_fatal_0 :   <span style=\"color: #008080; text-decoration-color: #008080; font-weight: bold\">0</span>\n",
              "</pre>\n"
            ],
            "text/plain": [
              "   ddrmc_isr_dram_parity_fatal_0 :   \u001b[1;36m0\u001b[0m\n"
            ]
          },
          "metadata": {},
          "output_type": "display_data"
        },
        {
          "data": {
            "text/html": [
              "<pre style=\"white-space:pre;overflow-x:auto;line-height:normal;font-family:Menlo,'DejaVu Sans Mono',consolas,'Courier New',monospace\">   ddrmc_isr_dram_parity_fatal_1 :   <span style=\"color: #008080; text-decoration-color: #008080; font-weight: bold\">0</span>\n",
              "</pre>\n"
            ],
            "text/plain": [
              "   ddrmc_isr_dram_parity_fatal_1 :   \u001b[1;36m0\u001b[0m\n"
            ]
          },
          "metadata": {},
          "output_type": "display_data"
        },
        {
          "data": {
            "text/html": [
              "<pre style=\"white-space:pre;overflow-x:auto;line-height:normal;font-family:Menlo,'DejaVu Sans Mono',consolas,'Courier New',monospace\">   ddrmc_isr_na_cmd :   <span style=\"color: #008080; text-decoration-color: #008080; font-weight: bold\">0</span>\n",
              "</pre>\n"
            ],
            "text/plain": [
              "   ddrmc_isr_na_cmd :   \u001b[1;36m0\u001b[0m\n"
            ]
          },
          "metadata": {},
          "output_type": "display_data"
        },
        {
          "data": {
            "text/html": [
              "<pre style=\"white-space:pre;overflow-x:auto;line-height:normal;font-family:Menlo,'DejaVu Sans Mono',consolas,'Courier New',monospace\">   ddrmc_isr_na_cmd0 :   <span style=\"color: #008080; text-decoration-color: #008080; font-weight: bold\">0</span>\n",
              "</pre>\n"
            ],
            "text/plain": [
              "   ddrmc_isr_na_cmd0 :   \u001b[1;36m0\u001b[0m\n"
            ]
          },
          "metadata": {},
          "output_type": "display_data"
        },
        {
          "data": {
            "text/html": [
              "<pre style=\"white-space:pre;overflow-x:auto;line-height:normal;font-family:Menlo,'DejaVu Sans Mono',consolas,'Courier New',monospace\">   ddrmc_isr_na_cmd1 :   <span style=\"color: #008080; text-decoration-color: #008080; font-weight: bold\">0</span>\n",
              "</pre>\n"
            ],
            "text/plain": [
              "   ddrmc_isr_na_cmd1 :   \u001b[1;36m0\u001b[0m\n"
            ]
          },
          "metadata": {},
          "output_type": "display_data"
        },
        {
          "data": {
            "text/html": [
              "<pre style=\"white-space:pre;overflow-x:auto;line-height:normal;font-family:Menlo,'DejaVu Sans Mono',consolas,'Courier New',monospace\">   ddrmc_isr_na_cmd_fatal :   <span style=\"color: #008080; text-decoration-color: #008080; font-weight: bold\">0</span>\n",
              "</pre>\n"
            ],
            "text/plain": [
              "   ddrmc_isr_na_cmd_fatal :   \u001b[1;36m0\u001b[0m\n"
            ]
          },
          "metadata": {},
          "output_type": "display_data"
        },
        {
          "data": {
            "text/html": [
              "<pre style=\"white-space:pre;overflow-x:auto;line-height:normal;font-family:Menlo,'DejaVu Sans Mono',consolas,'Courier New',monospace\">   ddrmc_isr_nsu_0 :   <span style=\"color: #008080; text-decoration-color: #008080; font-weight: bold\">0</span>\n",
              "</pre>\n"
            ],
            "text/plain": [
              "   ddrmc_isr_nsu_0 :   \u001b[1;36m0\u001b[0m\n"
            ]
          },
          "metadata": {},
          "output_type": "display_data"
        },
        {
          "data": {
            "text/html": [
              "<pre style=\"white-space:pre;overflow-x:auto;line-height:normal;font-family:Menlo,'DejaVu Sans Mono',consolas,'Courier New',monospace\">   ddrmc_isr_nsu_1 :   <span style=\"color: #008080; text-decoration-color: #008080; font-weight: bold\">0</span>\n",
              "</pre>\n"
            ],
            "text/plain": [
              "   ddrmc_isr_nsu_1 :   \u001b[1;36m0\u001b[0m\n"
            ]
          },
          "metadata": {},
          "output_type": "display_data"
        },
        {
          "data": {
            "text/html": [
              "<pre style=\"white-space:pre;overflow-x:auto;line-height:normal;font-family:Menlo,'DejaVu Sans Mono',consolas,'Courier New',monospace\">   ddrmc_isr_nsu_2 :   <span style=\"color: #008080; text-decoration-color: #008080; font-weight: bold\">0</span>\n",
              "</pre>\n"
            ],
            "text/plain": [
              "   ddrmc_isr_nsu_2 :   \u001b[1;36m0\u001b[0m\n"
            ]
          },
          "metadata": {},
          "output_type": "display_data"
        },
        {
          "data": {
            "text/html": [
              "<pre style=\"white-space:pre;overflow-x:auto;line-height:normal;font-family:Menlo,'DejaVu Sans Mono',consolas,'Courier New',monospace\">   ddrmc_isr_nsu_3 :   <span style=\"color: #008080; text-decoration-color: #008080; font-weight: bold\">0</span>\n",
              "</pre>\n"
            ],
            "text/plain": [
              "   ddrmc_isr_nsu_3 :   \u001b[1;36m0\u001b[0m\n"
            ]
          },
          "metadata": {},
          "output_type": "display_data"
        },
        {
          "data": {
            "text/html": [
              "<pre style=\"white-space:pre;overflow-x:auto;line-height:normal;font-family:Menlo,'DejaVu Sans Mono',consolas,'Courier New',monospace\">   ddrmc_isr_nsu_fatal0 :   <span style=\"color: #008080; text-decoration-color: #008080; font-weight: bold\">0</span>\n",
              "</pre>\n"
            ],
            "text/plain": [
              "   ddrmc_isr_nsu_fatal0 :   \u001b[1;36m0\u001b[0m\n"
            ]
          },
          "metadata": {},
          "output_type": "display_data"
        },
        {
          "data": {
            "text/html": [
              "<pre style=\"white-space:pre;overflow-x:auto;line-height:normal;font-family:Menlo,'DejaVu Sans Mono',consolas,'Courier New',monospace\">   ddrmc_isr_nsu_fatal1 :   <span style=\"color: #008080; text-decoration-color: #008080; font-weight: bold\">0</span>\n",
              "</pre>\n"
            ],
            "text/plain": [
              "   ddrmc_isr_nsu_fatal1 :   \u001b[1;36m0\u001b[0m\n"
            ]
          },
          "metadata": {},
          "output_type": "display_data"
        },
        {
          "data": {
            "text/html": [
              "<pre style=\"white-space:pre;overflow-x:auto;line-height:normal;font-family:Menlo,'DejaVu Sans Mono',consolas,'Courier New',monospace\">   ddrmc_isr_nsu_fatal2 :   <span style=\"color: #008080; text-decoration-color: #008080; font-weight: bold\">0</span>\n",
              "</pre>\n"
            ],
            "text/plain": [
              "   ddrmc_isr_nsu_fatal2 :   \u001b[1;36m0\u001b[0m\n"
            ]
          },
          "metadata": {},
          "output_type": "display_data"
        },
        {
          "data": {
            "text/html": [
              "<pre style=\"white-space:pre;overflow-x:auto;line-height:normal;font-family:Menlo,'DejaVu Sans Mono',consolas,'Courier New',monospace\">   ddrmc_isr_nsu_fatal3 :   <span style=\"color: #008080; text-decoration-color: #008080; font-weight: bold\">0</span>\n",
              "</pre>\n"
            ],
            "text/plain": [
              "   ddrmc_isr_nsu_fatal3 :   \u001b[1;36m0\u001b[0m\n"
            ]
          },
          "metadata": {},
          "output_type": "display_data"
        },
        {
          "data": {
            "text/html": [
              "<pre style=\"white-space:pre;overflow-x:auto;line-height:normal;font-family:Menlo,'DejaVu Sans Mono',consolas,'Courier New',monospace\">   ddrmc_isr_uc0_ecc0 :   <span style=\"color: #008080; text-decoration-color: #008080; font-weight: bold\">0</span>\n",
              "</pre>\n"
            ],
            "text/plain": [
              "   ddrmc_isr_uc0_ecc0 :   \u001b[1;36m0\u001b[0m\n"
            ]
          },
          "metadata": {},
          "output_type": "display_data"
        },
        {
          "data": {
            "text/html": [
              "<pre style=\"white-space:pre;overflow-x:auto;line-height:normal;font-family:Menlo,'DejaVu Sans Mono',consolas,'Courier New',monospace\">   ddrmc_isr_uc0_ecc1 :   <span style=\"color: #008080; text-decoration-color: #008080; font-weight: bold\">0</span>\n",
              "</pre>\n"
            ],
            "text/plain": [
              "   ddrmc_isr_uc0_ecc1 :   \u001b[1;36m0\u001b[0m\n"
            ]
          },
          "metadata": {},
          "output_type": "display_data"
        },
        {
          "data": {
            "text/html": [
              "<pre style=\"white-space:pre;overflow-x:auto;line-height:normal;font-family:Menlo,'DejaVu Sans Mono',consolas,'Courier New',monospace\">   ddrmc_isr_uc1_ecc0 :   <span style=\"color: #008080; text-decoration-color: #008080; font-weight: bold\">0</span>\n",
              "</pre>\n"
            ],
            "text/plain": [
              "   ddrmc_isr_uc1_ecc0 :   \u001b[1;36m0\u001b[0m\n"
            ]
          },
          "metadata": {},
          "output_type": "display_data"
        },
        {
          "data": {
            "text/html": [
              "<pre style=\"white-space:pre;overflow-x:auto;line-height:normal;font-family:Menlo,'DejaVu Sans Mono',consolas,'Courier New',monospace\">   ddrmc_isr_uc1_ecc1 :   <span style=\"color: #008080; text-decoration-color: #008080; font-weight: bold\">0</span>\n",
              "</pre>\n"
            ],
            "text/plain": [
              "   ddrmc_isr_uc1_ecc1 :   \u001b[1;36m0\u001b[0m\n"
            ]
          },
          "metadata": {},
          "output_type": "display_data"
        },
        {
          "data": {
            "text/html": [
              "<pre style=\"white-space:pre;overflow-x:auto;line-height:normal;font-family:Menlo,'DejaVu Sans Mono',consolas,'Courier New',monospace\">\n",
              "UB ISR Table\n",
              "\n",
              "</pre>\n"
            ],
            "text/plain": [
              "\n",
              "UB ISR Table\n",
              "\n"
            ]
          },
          "metadata": {},
          "output_type": "display_data"
        },
        {
          "data": {
            "text/html": [
              "<pre style=\"white-space:pre;overflow-x:auto;line-height:normal;font-family:Menlo,'DejaVu Sans Mono',consolas,'Courier New',monospace\">   ub_data_ce :   <span style=\"color: #008080; text-decoration-color: #008080; font-weight: bold\">0</span>\n",
              "</pre>\n"
            ],
            "text/plain": [
              "   ub_data_ce :   \u001b[1;36m0\u001b[0m\n"
            ]
          },
          "metadata": {},
          "output_type": "display_data"
        },
        {
          "data": {
            "text/html": [
              "<pre style=\"white-space:pre;overflow-x:auto;line-height:normal;font-family:Menlo,'DejaVu Sans Mono',consolas,'Courier New',monospace\">   ub_data_ue :   <span style=\"color: #008080; text-decoration-color: #008080; font-weight: bold\">0</span>\n",
              "</pre>\n"
            ],
            "text/plain": [
              "   ub_data_ue :   \u001b[1;36m0\u001b[0m\n"
            ]
          },
          "metadata": {},
          "output_type": "display_data"
        },
        {
          "data": {
            "text/html": [
              "<pre style=\"white-space:pre;overflow-x:auto;line-height:normal;font-family:Menlo,'DejaVu Sans Mono',consolas,'Courier New',monospace\">   ub_instr_ce :   <span style=\"color: #008080; text-decoration-color: #008080; font-weight: bold\">0</span>\n",
              "</pre>\n"
            ],
            "text/plain": [
              "   ub_instr_ce :   \u001b[1;36m0\u001b[0m\n"
            ]
          },
          "metadata": {},
          "output_type": "display_data"
        },
        {
          "data": {
            "text/html": [
              "<pre style=\"white-space:pre;overflow-x:auto;line-height:normal;font-family:Menlo,'DejaVu Sans Mono',consolas,'Courier New',monospace\">   ub_isntr_ue :   <span style=\"color: #008080; text-decoration-color: #008080; font-weight: bold\">0</span>\n",
              "</pre>\n"
            ],
            "text/plain": [
              "   ub_isntr_ue :   \u001b[1;36m0\u001b[0m\n"
            ]
          },
          "metadata": {},
          "output_type": "display_data"
        },
        {
          "data": {
            "text/html": [
              "<pre style=\"white-space:pre;overflow-x:auto;line-height:normal;font-family:Menlo,'DejaVu Sans Mono',consolas,'Courier New',monospace\">   ub_isr_calerror :   <span style=\"color: #008080; text-decoration-color: #008080; font-weight: bold\">0</span>\n",
              "</pre>\n"
            ],
            "text/plain": [
              "   ub_isr_calerror :   \u001b[1;36m0\u001b[0m\n"
            ]
          },
          "metadata": {},
          "output_type": "display_data"
        },
        {
          "data": {
            "text/html": [
              "<pre style=\"white-space:pre;overflow-x:auto;line-height:normal;font-family:Menlo,'DejaVu Sans Mono',consolas,'Courier New',monospace\">   ub_isr_vt_track_err :   <span style=\"color: #008080; text-decoration-color: #008080; font-weight: bold\">0</span>\n",
              "</pre>\n"
            ],
            "text/plain": [
              "   ub_isr_vt_track_err :   \u001b[1;36m0\u001b[0m\n"
            ]
          },
          "metadata": {},
          "output_type": "display_data"
        },
        {
          "data": {
            "text/html": [
              "<pre style=\"white-space:pre;overflow-x:auto;line-height:normal;font-family:Menlo,'DejaVu Sans Mono',consolas,'Courier New',monospace\">   ub_isr_watchdog :   <span style=\"color: #008080; text-decoration-color: #008080; font-weight: bold\">0</span>\n",
              "</pre>\n"
            ],
            "text/plain": [
              "   ub_isr_watchdog :   \u001b[1;36m0\u001b[0m\n"
            ]
          },
          "metadata": {},
          "output_type": "display_data"
        },
        {
          "data": {
            "text/html": [
              "<pre style=\"white-space:pre;overflow-x:auto;line-height:normal;font-family:Menlo,'DejaVu Sans Mono',consolas,'Courier New',monospace\">   ub_ub_msg :   <span style=\"color: #008080; text-decoration-color: #008080; font-weight: bold\">0</span>\n",
              "</pre>\n"
            ],
            "text/plain": [
              "   ub_ub_msg :   \u001b[1;36m0\u001b[0m\n"
            ]
          },
          "metadata": {},
          "output_type": "display_data"
        },
        {
          "data": {
            "text/html": [
              "<pre style=\"white-space:pre;overflow-x:auto;line-height:normal;font-family:Menlo,'DejaVu Sans Mono',consolas,'Courier New',monospace\">\n",
              "----------------------------------\n",
              "\n",
              "</pre>\n"
            ],
            "text/plain": [
              "\n",
              "----------------------------------\n",
              "\n"
            ]
          },
          "metadata": {},
          "output_type": "display_data"
        },
        {
          "data": {
            "text/html": [
              "<pre style=\"white-space:pre;overflow-x:auto;line-height:normal;font-family:Menlo,'DejaVu Sans Mono',consolas,'Courier New',monospace\"> Memory Configuration \n",
              "\n",
              "</pre>\n"
            ],
            "text/plain": [
              " Memory Configuration \n",
              "\n"
            ]
          },
          "metadata": {},
          "output_type": "display_data"
        },
        {
          "data": {
            "text/html": [
              "<pre style=\"white-space:pre;overflow-x:auto;line-height:normal;font-family:Menlo,'DejaVu Sans Mono',consolas,'Courier New',monospace\">----------------------------------\n",
              "\n",
              "</pre>\n"
            ],
            "text/plain": [
              "----------------------------------\n",
              "\n"
            ]
          },
          "metadata": {},
          "output_type": "display_data"
        },
        {
          "data": {
            "text/html": [
              "<pre style=\"white-space:pre;overflow-x:auto;line-height:normal;font-family:Menlo,'DejaVu Sans Mono',consolas,'Courier New',monospace\">DDRMC Core Name :   ddr_0\n",
              "</pre>\n"
            ],
            "text/plain": [
              "DDRMC Core Name :   ddr_0\n"
            ]
          },
          "metadata": {},
          "output_type": "display_data"
        },
        {
          "data": {
            "text/html": [
              "<pre style=\"white-space:pre;overflow-x:auto;line-height:normal;font-family:Menlo,'DejaVu Sans Mono',consolas,'Courier New',monospace\">Memory Interface :   DDR4\n",
              "</pre>\n"
            ],
            "text/plain": [
              "Memory Interface :   DDR4\n"
            ]
          },
          "metadata": {},
          "output_type": "display_data"
        },
        {
          "data": {
            "text/html": [
              "<pre style=\"white-space:pre;overflow-x:auto;line-height:normal;font-family:Menlo,'DejaVu Sans Mono',consolas,'Courier New',monospace\">Device Type :   UDIMM\n",
              "</pre>\n"
            ],
            "text/plain": [
              "Device Type :   UDIMM\n"
            ]
          },
          "metadata": {},
          "output_type": "display_data"
        },
        {
          "data": {
            "text/html": [
              "<pre style=\"white-space:pre;overflow-x:auto;line-height:normal;font-family:Menlo,'DejaVu Sans Mono',consolas,'Courier New',monospace\">MC Location :   x0y0\n",
              "</pre>\n"
            ],
            "text/plain": [
              "MC Location :   x0y0\n"
            ]
          },
          "metadata": {},
          "output_type": "display_data"
        },
        {
          "data": {
            "text/html": [
              "<pre style=\"white-space:pre;overflow-x:auto;line-height:normal;font-family:Menlo,'DejaVu Sans Mono',consolas,'Courier New',monospace\">Slots :   <span style=\"color: #008080; text-decoration-color: #008080; font-weight: bold\">1</span>\n",
              "</pre>\n"
            ],
            "text/plain": [
              "Slots :   \u001b[1;36m1\u001b[0m\n"
            ]
          },
          "metadata": {},
          "output_type": "display_data"
        },
        {
          "data": {
            "text/html": [
              "<pre style=\"white-space:pre;overflow-x:auto;line-height:normal;font-family:Menlo,'DejaVu Sans Mono',consolas,'Courier New',monospace\">Ranks :   <span style=\"color: #008080; text-decoration-color: #008080; font-weight: bold\">1</span>\n",
              "</pre>\n"
            ],
            "text/plain": [
              "Ranks :   \u001b[1;36m1\u001b[0m\n"
            ]
          },
          "metadata": {},
          "output_type": "display_data"
        },
        {
          "data": {
            "text/html": [
              "<pre style=\"white-space:pre;overflow-x:auto;line-height:normal;font-family:Menlo,'DejaVu Sans Mono',consolas,'Courier New',monospace\">Data Width :   <span style=\"color: #008080; text-decoration-color: #008080; font-weight: bold\">64</span>\n",
              "</pre>\n"
            ],
            "text/plain": [
              "Data Width :   \u001b[1;36m64\u001b[0m\n"
            ]
          },
          "metadata": {},
          "output_type": "display_data"
        },
        {
          "data": {
            "text/html": [
              "<pre style=\"white-space:pre;overflow-x:auto;line-height:normal;font-family:Menlo,'DejaVu Sans Mono',consolas,'Courier New',monospace\">Bytes :   <span style=\"color: #008080; text-decoration-color: #008080; font-weight: bold\">8</span>\n",
              "</pre>\n"
            ],
            "text/plain": [
              "Bytes :   \u001b[1;36m8\u001b[0m\n"
            ]
          },
          "metadata": {},
          "output_type": "display_data"
        },
        {
          "data": {
            "text/html": [
              "<pre style=\"white-space:pre;overflow-x:auto;line-height:normal;font-family:Menlo,'DejaVu Sans Mono',consolas,'Courier New',monospace\">Nibbles :   <span style=\"color: #008080; text-decoration-color: #008080; font-weight: bold\">16</span>\n",
              "</pre>\n"
            ],
            "text/plain": [
              "Nibbles :   \u001b[1;36m16\u001b[0m\n"
            ]
          },
          "metadata": {},
          "output_type": "display_data"
        },
        {
          "data": {
            "text/html": [
              "<pre style=\"white-space:pre;overflow-x:auto;line-height:normal;font-family:Menlo,'DejaVu Sans Mono',consolas,'Courier New',monospace\">Bits per Byte :   <span style=\"color: #008080; text-decoration-color: #008080; font-weight: bold\">8</span>\n",
              "</pre>\n"
            ],
            "text/plain": [
              "Bits per Byte :   \u001b[1;36m8\u001b[0m\n"
            ]
          },
          "metadata": {},
          "output_type": "display_data"
        },
        {
          "data": {
            "text/html": [
              "<pre style=\"white-space:pre;overflow-x:auto;line-height:normal;font-family:Menlo,'DejaVu Sans Mono',consolas,'Courier New',monospace\">Memory Frequency <span style=\"color: #008080; text-decoration-color: #008080; font-weight: bold\">0</span> :   <span style=\"color: #008080; text-decoration-color: #008080; font-weight: bold\">1600</span> MHz\n",
              "</pre>\n"
            ],
            "text/plain": [
              "Memory Frequency \u001b[1;36m0\u001b[0m :   \u001b[1;36m1600\u001b[0m MHz\n"
            ]
          },
          "metadata": {},
          "output_type": "display_data"
        },
        {
          "data": {
            "text/html": [
              "<pre style=\"white-space:pre;overflow-x:auto;line-height:normal;font-family:Menlo,'DejaVu Sans Mono',consolas,'Courier New',monospace\">\n",
              "-----------------------------------\n",
              "\n",
              "</pre>\n"
            ],
            "text/plain": [
              "\n",
              "-----------------------------------\n",
              "\n"
            ]
          },
          "metadata": {},
          "output_type": "display_data"
        },
        {
          "data": {
            "text/html": [
              "<pre style=\"white-space:pre;overflow-x:auto;line-height:normal;font-family:Menlo,'DejaVu Sans Mono',consolas,'Courier New',monospace\"> Calibration Stages Information \n",
              "\n",
              "</pre>\n"
            ],
            "text/plain": [
              " Calibration Stages Information \n",
              "\n"
            ]
          },
          "metadata": {},
          "output_type": "display_data"
        },
        {
          "data": {
            "text/html": [
              "<pre style=\"white-space:pre;overflow-x:auto;line-height:normal;font-family:Menlo,'DejaVu Sans Mono',consolas,'Courier New',monospace\">-----------------------------------\n",
              "\n",
              "</pre>\n"
            ],
            "text/plain": [
              "-----------------------------------\n",
              "\n"
            ]
          },
          "metadata": {},
          "output_type": "display_data"
        },
        {
          "data": {
            "text/html": [
              "<pre style=\"white-space:pre;overflow-x:auto;line-height:normal;font-family:Menlo,'DejaVu Sans Mono',consolas,'Courier New',monospace\">cal_stage.01_F0_PHY_BISC :   Pass\n",
              "</pre>\n"
            ],
            "text/plain": [
              "cal_stage.01_F0_PHY_BISC :   Pass\n"
            ]
          },
          "metadata": {},
          "output_type": "display_data"
        },
        {
          "data": {
            "text/html": [
              "<pre style=\"white-space:pre;overflow-x:auto;line-height:normal;font-family:Menlo,'DejaVu Sans Mono',consolas,'Courier New',monospace\">cal_stage.02_F0_MEM_INIT :   Pass\n",
              "</pre>\n"
            ],
            "text/plain": [
              "cal_stage.02_F0_MEM_INIT :   Pass\n"
            ]
          },
          "metadata": {},
          "output_type": "display_data"
        },
        {
          "data": {
            "text/html": [
              "<pre style=\"white-space:pre;overflow-x:auto;line-height:normal;font-family:Menlo,'DejaVu Sans Mono',consolas,'Courier New',monospace\">cal_stage.03_F0_DQS_GATE_CAL :   Pass\n",
              "</pre>\n"
            ],
            "text/plain": [
              "cal_stage.03_F0_DQS_GATE_CAL :   Pass\n"
            ]
          },
          "metadata": {},
          "output_type": "display_data"
        },
        {
          "data": {
            "text/html": [
              "<pre style=\"white-space:pre;overflow-x:auto;line-height:normal;font-family:Menlo,'DejaVu Sans Mono',consolas,'Courier New',monospace\">cal_stage.04_F0_WRITE_LEVELING :   Pass\n",
              "</pre>\n"
            ],
            "text/plain": [
              "cal_stage.04_F0_WRITE_LEVELING :   Pass\n"
            ]
          },
          "metadata": {},
          "output_type": "display_data"
        },
        {
          "data": {
            "text/html": [
              "<pre style=\"white-space:pre;overflow-x:auto;line-height:normal;font-family:Menlo,'DejaVu Sans Mono',consolas,'Courier New',monospace\">cal_stage.05_F0_READ_DQ_CAL :   Pass\n",
              "</pre>\n"
            ],
            "text/plain": [
              "cal_stage.05_F0_READ_DQ_CAL :   Pass\n"
            ]
          },
          "metadata": {},
          "output_type": "display_data"
        },
        {
          "data": {
            "text/html": [
              "<pre style=\"white-space:pre;overflow-x:auto;line-height:normal;font-family:Menlo,'DejaVu Sans Mono',consolas,'Courier New',monospace\">cal_stage.06_F0_WRITE_DQ_DBI_CAL :   Pass\n",
              "</pre>\n"
            ],
            "text/plain": [
              "cal_stage.06_F0_WRITE_DQ_DBI_CAL :   Pass\n"
            ]
          },
          "metadata": {},
          "output_type": "display_data"
        },
        {
          "data": {
            "text/html": [
              "<pre style=\"white-space:pre;overflow-x:auto;line-height:normal;font-family:Menlo,'DejaVu Sans Mono',consolas,'Courier New',monospace\">cal_stage.07_F0_WRITE_LATENCY_CAL :   Pass\n",
              "</pre>\n"
            ],
            "text/plain": [
              "cal_stage.07_F0_WRITE_LATENCY_CAL :   Pass\n"
            ]
          },
          "metadata": {},
          "output_type": "display_data"
        },
        {
          "data": {
            "text/html": [
              "<pre style=\"white-space:pre;overflow-x:auto;line-height:normal;font-family:Menlo,'DejaVu Sans Mono',consolas,'Courier New',monospace\">cal_stage.08_F0_READ_DQ_DBI_CAL_COMPLEX :   Pass\n",
              "</pre>\n"
            ],
            "text/plain": [
              "cal_stage.08_F0_READ_DQ_DBI_CAL_COMPLEX :   Pass\n"
            ]
          },
          "metadata": {},
          "output_type": "display_data"
        },
        {
          "data": {
            "text/html": [
              "<pre style=\"white-space:pre;overflow-x:auto;line-height:normal;font-family:Menlo,'DejaVu Sans Mono',consolas,'Courier New',monospace\">cal_stage.09_F0_WRITE_DQ_DBI_CAL_COMPLEX :   Pass\n",
              "</pre>\n"
            ],
            "text/plain": [
              "cal_stage.09_F0_WRITE_DQ_DBI_CAL_COMPLEX :   Pass\n"
            ]
          },
          "metadata": {},
          "output_type": "display_data"
        },
        {
          "data": {
            "text/html": [
              "<pre style=\"white-space:pre;overflow-x:auto;line-height:normal;font-family:Menlo,'DejaVu Sans Mono',consolas,'Courier New',monospace\">cal_stage.10_EN_VT_TRACK :   Pass\n",
              "</pre>\n"
            ],
            "text/plain": [
              "cal_stage.10_EN_VT_TRACK :   Pass\n"
            ]
          },
          "metadata": {},
          "output_type": "display_data"
        },
        {
          "data": {
            "text/html": [
              "<pre style=\"white-space:pre;overflow-x:auto;line-height:normal;font-family:Menlo,'DejaVu Sans Mono',consolas,'Courier New',monospace\">cal_stage.11_READ_DQS_TRACK :   Pass\n",
              "</pre>\n"
            ],
            "text/plain": [
              "cal_stage.11_READ_DQS_TRACK :   Pass\n"
            ]
          },
          "metadata": {},
          "output_type": "display_data"
        },
        {
          "data": {
            "text/html": [
              "<pre style=\"white-space:pre;overflow-x:auto;line-height:normal;font-family:Menlo,'DejaVu Sans Mono',consolas,'Courier New',monospace\">cal_stage.12_CAL_DONE :   Pass\n",
              "</pre>\n"
            ],
            "text/plain": [
              "cal_stage.12_CAL_DONE :   Pass\n"
            ]
          },
          "metadata": {},
          "output_type": "display_data"
        },
        {
          "data": {
            "text/html": [
              "<pre style=\"white-space:pre;overflow-x:auto;line-height:normal;font-family:Menlo,'DejaVu Sans Mono',consolas,'Courier New',monospace\">\n",
              "---------------------------------------\n",
              "\n",
              "</pre>\n"
            ],
            "text/plain": [
              "\n",
              "---------------------------------------\n",
              "\n"
            ]
          },
          "metadata": {},
          "output_type": "display_data"
        },
        {
          "data": {
            "text/html": [
              "<pre style=\"white-space:pre;overflow-x:auto;line-height:normal;font-family:Menlo,'DejaVu Sans Mono',consolas,'Courier New',monospace\"> Calibration Window Margin Analysis \n",
              "\n",
              "</pre>\n"
            ],
            "text/plain": [
              " Calibration Window Margin Analysis \n",
              "\n"
            ]
          },
          "metadata": {},
          "output_type": "display_data"
        },
        {
          "data": {
            "text/html": [
              "<pre style=\"white-space:pre;overflow-x:auto;line-height:normal;font-family:Menlo,'DejaVu Sans Mono',consolas,'Courier New',monospace\">---------------------------------------\n",
              "\n",
              "</pre>\n"
            ],
            "text/plain": [
              "---------------------------------------\n",
              "\n"
            ]
          },
          "metadata": {},
          "output_type": "display_data"
        },
        {
          "data": {
            "text/html": [
              "<pre style=\"white-space:pre;overflow-x:auto;line-height:normal;font-family:Menlo,'DejaVu Sans Mono',consolas,'Courier New',monospace\">\n",
              " Frequency <span style=\"color: #008080; text-decoration-color: #008080; font-weight: bold\">0</span>  - Read Margin - Simple Pattern - Rising Edge Clock in pS and <span style=\"font-weight: bold\">(</span>delay taps<span style=\"font-weight: bold\">)</span>:\n",
              "\n",
              "</pre>\n"
            ],
            "text/plain": [
              "\n",
              " Frequency \u001b[1;36m0\u001b[0m  - Read Margin - Simple Pattern - Rising Edge Clock in pS and \u001b[1m(\u001b[0mdelay taps\u001b[1m)\u001b[0m:\n",
              "\n"
            ]
          },
          "metadata": {},
          "output_type": "display_data"
        },
        {
          "data": {
            "text/html": [
              "<pre style=\"white-space:pre;overflow-x:auto;line-height:normal;font-family:Menlo,'DejaVu Sans Mono',consolas,'Courier New',monospace\">Byte  <span style=\"color: #008080; text-decoration-color: #008080; font-weight: bold\">0</span>  Nibble <span style=\"color: #008080; text-decoration-color: #008080; font-weight: bold\">0</span>  -   Left Margin:   <span style=\"color: #008080; text-decoration-color: #008080; font-weight: bold\">133</span>  <span style=\"font-weight: bold\">(</span> <span style=\"color: #008080; text-decoration-color: #008080; font-weight: bold\">72</span> <span style=\"font-weight: bold\">)</span>  Center Point:   <span style=\"color: #008080; text-decoration-color: #008080; font-weight: bold\">167</span>  <span style=\"font-weight: bold\">(</span> <span style=\"color: #008080; text-decoration-color: #008080; font-weight: bold\">90</span> <span style=\"font-weight: bold\">)</span>  Right Margin:   <span style=\"color: #008080; text-decoration-color: #008080; font-weight: bold\">135</span>  <span style=\"font-weight: bold\">(</span> <span style=\"color: #008080; text-decoration-color: #008080; font-weight: bold\">73</span> <span style=\"font-weight: bold\">)</span>\n",
              "</pre>\n"
            ],
            "text/plain": [
              "Byte  \u001b[1;36m0\u001b[0m  Nibble \u001b[1;36m0\u001b[0m  -   Left Margin:   \u001b[1;36m133\u001b[0m  \u001b[1m(\u001b[0m \u001b[1;36m72\u001b[0m \u001b[1m)\u001b[0m  Center Point:   \u001b[1;36m167\u001b[0m  \u001b[1m(\u001b[0m \u001b[1;36m90\u001b[0m \u001b[1m)\u001b[0m  Right Margin:   \u001b[1;36m135\u001b[0m  \u001b[1m(\u001b[0m \u001b[1;36m73\u001b[0m \u001b[1m)\u001b[0m\n"
            ]
          },
          "metadata": {},
          "output_type": "display_data"
        },
        {
          "data": {
            "text/html": [
              "<pre style=\"white-space:pre;overflow-x:auto;line-height:normal;font-family:Menlo,'DejaVu Sans Mono',consolas,'Courier New',monospace\">Byte  <span style=\"color: #008080; text-decoration-color: #008080; font-weight: bold\">0</span>  Nibble <span style=\"color: #008080; text-decoration-color: #008080; font-weight: bold\">1</span>  -   Left Margin:   <span style=\"color: #008080; text-decoration-color: #008080; font-weight: bold\">152</span>  <span style=\"font-weight: bold\">(</span> <span style=\"color: #008080; text-decoration-color: #008080; font-weight: bold\">79</span> <span style=\"font-weight: bold\">)</span>  Center Point:   <span style=\"color: #008080; text-decoration-color: #008080; font-weight: bold\">187</span>  <span style=\"font-weight: bold\">(</span> <span style=\"color: #008080; text-decoration-color: #008080; font-weight: bold\">97</span> <span style=\"font-weight: bold\">)</span>  Right Margin:   <span style=\"color: #008080; text-decoration-color: #008080; font-weight: bold\">152</span>  <span style=\"font-weight: bold\">(</span> <span style=\"color: #008080; text-decoration-color: #008080; font-weight: bold\">79</span> <span style=\"font-weight: bold\">)</span>\n",
              "</pre>\n"
            ],
            "text/plain": [
              "Byte  \u001b[1;36m0\u001b[0m  Nibble \u001b[1;36m1\u001b[0m  -   Left Margin:   \u001b[1;36m152\u001b[0m  \u001b[1m(\u001b[0m \u001b[1;36m79\u001b[0m \u001b[1m)\u001b[0m  Center Point:   \u001b[1;36m187\u001b[0m  \u001b[1m(\u001b[0m \u001b[1;36m97\u001b[0m \u001b[1m)\u001b[0m  Right Margin:   \u001b[1;36m152\u001b[0m  \u001b[1m(\u001b[0m \u001b[1;36m79\u001b[0m \u001b[1m)\u001b[0m\n"
            ]
          },
          "metadata": {},
          "output_type": "display_data"
        },
        {
          "data": {
            "text/html": [
              "<pre style=\"white-space:pre;overflow-x:auto;line-height:normal;font-family:Menlo,'DejaVu Sans Mono',consolas,'Courier New',monospace\">Byte  <span style=\"color: #008080; text-decoration-color: #008080; font-weight: bold\">1</span>  Nibble <span style=\"color: #008080; text-decoration-color: #008080; font-weight: bold\">0</span>  -   Left Margin:   <span style=\"color: #008080; text-decoration-color: #008080; font-weight: bold\">150</span>  <span style=\"font-weight: bold\">(</span> <span style=\"color: #008080; text-decoration-color: #008080; font-weight: bold\">77</span> <span style=\"font-weight: bold\">)</span>  Center Point:   <span style=\"color: #008080; text-decoration-color: #008080; font-weight: bold\">186</span>  <span style=\"font-weight: bold\">(</span> <span style=\"color: #008080; text-decoration-color: #008080; font-weight: bold\">95</span> <span style=\"font-weight: bold\">)</span>  Right Margin:   <span style=\"color: #008080; text-decoration-color: #008080; font-weight: bold\">152</span>  <span style=\"font-weight: bold\">(</span> <span style=\"color: #008080; text-decoration-color: #008080; font-weight: bold\">78</span> <span style=\"font-weight: bold\">)</span>\n",
              "</pre>\n"
            ],
            "text/plain": [
              "Byte  \u001b[1;36m1\u001b[0m  Nibble \u001b[1;36m0\u001b[0m  -   Left Margin:   \u001b[1;36m150\u001b[0m  \u001b[1m(\u001b[0m \u001b[1;36m77\u001b[0m \u001b[1m)\u001b[0m  Center Point:   \u001b[1;36m186\u001b[0m  \u001b[1m(\u001b[0m \u001b[1;36m95\u001b[0m \u001b[1m)\u001b[0m  Right Margin:   \u001b[1;36m152\u001b[0m  \u001b[1m(\u001b[0m \u001b[1;36m78\u001b[0m \u001b[1m)\u001b[0m\n"
            ]
          },
          "metadata": {},
          "output_type": "display_data"
        },
        {
          "data": {
            "text/html": [
              "<pre style=\"white-space:pre;overflow-x:auto;line-height:normal;font-family:Menlo,'DejaVu Sans Mono',consolas,'Courier New',monospace\">Byte  <span style=\"color: #008080; text-decoration-color: #008080; font-weight: bold\">1</span>  Nibble <span style=\"color: #008080; text-decoration-color: #008080; font-weight: bold\">1</span>  -   Left Margin:   <span style=\"color: #008080; text-decoration-color: #008080; font-weight: bold\">152</span>  <span style=\"font-weight: bold\">(</span> <span style=\"color: #008080; text-decoration-color: #008080; font-weight: bold\">79</span> <span style=\"font-weight: bold\">)</span>  Center Point:   <span style=\"color: #008080; text-decoration-color: #008080; font-weight: bold\">187</span>  <span style=\"font-weight: bold\">(</span> <span style=\"color: #008080; text-decoration-color: #008080; font-weight: bold\">97</span> <span style=\"font-weight: bold\">)</span>  Right Margin:   <span style=\"color: #008080; text-decoration-color: #008080; font-weight: bold\">152</span>  <span style=\"font-weight: bold\">(</span> <span style=\"color: #008080; text-decoration-color: #008080; font-weight: bold\">79</span> <span style=\"font-weight: bold\">)</span>\n",
              "</pre>\n"
            ],
            "text/plain": [
              "Byte  \u001b[1;36m1\u001b[0m  Nibble \u001b[1;36m1\u001b[0m  -   Left Margin:   \u001b[1;36m152\u001b[0m  \u001b[1m(\u001b[0m \u001b[1;36m79\u001b[0m \u001b[1m)\u001b[0m  Center Point:   \u001b[1;36m187\u001b[0m  \u001b[1m(\u001b[0m \u001b[1;36m97\u001b[0m \u001b[1m)\u001b[0m  Right Margin:   \u001b[1;36m152\u001b[0m  \u001b[1m(\u001b[0m \u001b[1;36m79\u001b[0m \u001b[1m)\u001b[0m\n"
            ]
          },
          "metadata": {},
          "output_type": "display_data"
        },
        {
          "data": {
            "text/html": [
              "<pre style=\"white-space:pre;overflow-x:auto;line-height:normal;font-family:Menlo,'DejaVu Sans Mono',consolas,'Courier New',monospace\">Byte  <span style=\"color: #008080; text-decoration-color: #008080; font-weight: bold\">2</span>  Nibble <span style=\"color: #008080; text-decoration-color: #008080; font-weight: bold\">0</span>  -   Left Margin:   <span style=\"color: #008080; text-decoration-color: #008080; font-weight: bold\">152</span>  <span style=\"font-weight: bold\">(</span> <span style=\"color: #008080; text-decoration-color: #008080; font-weight: bold\">78</span> <span style=\"font-weight: bold\">)</span>  Center Point:   <span style=\"color: #008080; text-decoration-color: #008080; font-weight: bold\">188</span>  <span style=\"font-weight: bold\">(</span> <span style=\"color: #008080; text-decoration-color: #008080; font-weight: bold\">96</span> <span style=\"font-weight: bold\">)</span>  Right Margin:   <span style=\"color: #008080; text-decoration-color: #008080; font-weight: bold\">154</span>  <span style=\"font-weight: bold\">(</span> <span style=\"color: #008080; text-decoration-color: #008080; font-weight: bold\">79</span> <span style=\"font-weight: bold\">)</span>\n",
              "</pre>\n"
            ],
            "text/plain": [
              "Byte  \u001b[1;36m2\u001b[0m  Nibble \u001b[1;36m0\u001b[0m  -   Left Margin:   \u001b[1;36m152\u001b[0m  \u001b[1m(\u001b[0m \u001b[1;36m78\u001b[0m \u001b[1m)\u001b[0m  Center Point:   \u001b[1;36m188\u001b[0m  \u001b[1m(\u001b[0m \u001b[1;36m96\u001b[0m \u001b[1m)\u001b[0m  Right Margin:   \u001b[1;36m154\u001b[0m  \u001b[1m(\u001b[0m \u001b[1;36m79\u001b[0m \u001b[1m)\u001b[0m\n"
            ]
          },
          "metadata": {},
          "output_type": "display_data"
        },
        {
          "data": {
            "text/html": [
              "<pre style=\"white-space:pre;overflow-x:auto;line-height:normal;font-family:Menlo,'DejaVu Sans Mono',consolas,'Courier New',monospace\">Byte  <span style=\"color: #008080; text-decoration-color: #008080; font-weight: bold\">2</span>  Nibble <span style=\"color: #008080; text-decoration-color: #008080; font-weight: bold\">1</span>  -   Left Margin:   <span style=\"color: #008080; text-decoration-color: #008080; font-weight: bold\">156</span>  <span style=\"font-weight: bold\">(</span> <span style=\"color: #008080; text-decoration-color: #008080; font-weight: bold\">80</span> <span style=\"font-weight: bold\">)</span>  Center Point:   <span style=\"color: #008080; text-decoration-color: #008080; font-weight: bold\">191</span>  <span style=\"font-weight: bold\">(</span> <span style=\"color: #008080; text-decoration-color: #008080; font-weight: bold\">98</span> <span style=\"font-weight: bold\">)</span>  Right Margin:   <span style=\"color: #008080; text-decoration-color: #008080; font-weight: bold\">156</span>  <span style=\"font-weight: bold\">(</span> <span style=\"color: #008080; text-decoration-color: #008080; font-weight: bold\">80</span> <span style=\"font-weight: bold\">)</span>\n",
              "</pre>\n"
            ],
            "text/plain": [
              "Byte  \u001b[1;36m2\u001b[0m  Nibble \u001b[1;36m1\u001b[0m  -   Left Margin:   \u001b[1;36m156\u001b[0m  \u001b[1m(\u001b[0m \u001b[1;36m80\u001b[0m \u001b[1m)\u001b[0m  Center Point:   \u001b[1;36m191\u001b[0m  \u001b[1m(\u001b[0m \u001b[1;36m98\u001b[0m \u001b[1m)\u001b[0m  Right Margin:   \u001b[1;36m156\u001b[0m  \u001b[1m(\u001b[0m \u001b[1;36m80\u001b[0m \u001b[1m)\u001b[0m\n"
            ]
          },
          "metadata": {},
          "output_type": "display_data"
        },
        {
          "data": {
            "text/html": [
              "<pre style=\"white-space:pre;overflow-x:auto;line-height:normal;font-family:Menlo,'DejaVu Sans Mono',consolas,'Courier New',monospace\">Byte  <span style=\"color: #008080; text-decoration-color: #008080; font-weight: bold\">3</span>  Nibble <span style=\"color: #008080; text-decoration-color: #008080; font-weight: bold\">0</span>  -   Left Margin:   <span style=\"color: #008080; text-decoration-color: #008080; font-weight: bold\">150</span>  <span style=\"font-weight: bold\">(</span> <span style=\"color: #008080; text-decoration-color: #008080; font-weight: bold\">75</span> <span style=\"font-weight: bold\">)</span>  Center Point:   <span style=\"color: #008080; text-decoration-color: #008080; font-weight: bold\">186</span>  <span style=\"font-weight: bold\">(</span> <span style=\"color: #008080; text-decoration-color: #008080; font-weight: bold\">93</span> <span style=\"font-weight: bold\">)</span>  Right Margin:   <span style=\"color: #008080; text-decoration-color: #008080; font-weight: bold\">150</span>  <span style=\"font-weight: bold\">(</span> <span style=\"color: #008080; text-decoration-color: #008080; font-weight: bold\">75</span> <span style=\"font-weight: bold\">)</span>\n",
              "</pre>\n"
            ],
            "text/plain": [
              "Byte  \u001b[1;36m3\u001b[0m  Nibble \u001b[1;36m0\u001b[0m  -   Left Margin:   \u001b[1;36m150\u001b[0m  \u001b[1m(\u001b[0m \u001b[1;36m75\u001b[0m \u001b[1m)\u001b[0m  Center Point:   \u001b[1;36m186\u001b[0m  \u001b[1m(\u001b[0m \u001b[1;36m93\u001b[0m \u001b[1m)\u001b[0m  Right Margin:   \u001b[1;36m150\u001b[0m  \u001b[1m(\u001b[0m \u001b[1;36m75\u001b[0m \u001b[1m)\u001b[0m\n"
            ]
          },
          "metadata": {},
          "output_type": "display_data"
        },
        {
          "data": {
            "text/html": [
              "<pre style=\"white-space:pre;overflow-x:auto;line-height:normal;font-family:Menlo,'DejaVu Sans Mono',consolas,'Courier New',monospace\">Byte  <span style=\"color: #008080; text-decoration-color: #008080; font-weight: bold\">3</span>  Nibble <span style=\"color: #008080; text-decoration-color: #008080; font-weight: bold\">1</span>  -   Left Margin:   <span style=\"color: #008080; text-decoration-color: #008080; font-weight: bold\">152</span>  <span style=\"font-weight: bold\">(</span> <span style=\"color: #008080; text-decoration-color: #008080; font-weight: bold\">78</span> <span style=\"font-weight: bold\">)</span>  Center Point:   <span style=\"color: #008080; text-decoration-color: #008080; font-weight: bold\">188</span>  <span style=\"font-weight: bold\">(</span> <span style=\"color: #008080; text-decoration-color: #008080; font-weight: bold\">96</span> <span style=\"font-weight: bold\">)</span>  Right Margin:   <span style=\"color: #008080; text-decoration-color: #008080; font-weight: bold\">154</span>  <span style=\"font-weight: bold\">(</span> <span style=\"color: #008080; text-decoration-color: #008080; font-weight: bold\">79</span> <span style=\"font-weight: bold\">)</span>\n",
              "</pre>\n"
            ],
            "text/plain": [
              "Byte  \u001b[1;36m3\u001b[0m  Nibble \u001b[1;36m1\u001b[0m  -   Left Margin:   \u001b[1;36m152\u001b[0m  \u001b[1m(\u001b[0m \u001b[1;36m78\u001b[0m \u001b[1m)\u001b[0m  Center Point:   \u001b[1;36m188\u001b[0m  \u001b[1m(\u001b[0m \u001b[1;36m96\u001b[0m \u001b[1m)\u001b[0m  Right Margin:   \u001b[1;36m154\u001b[0m  \u001b[1m(\u001b[0m \u001b[1;36m79\u001b[0m \u001b[1m)\u001b[0m\n"
            ]
          },
          "metadata": {},
          "output_type": "display_data"
        },
        {
          "data": {
            "text/html": [
              "<pre style=\"white-space:pre;overflow-x:auto;line-height:normal;font-family:Menlo,'DejaVu Sans Mono',consolas,'Courier New',monospace\">Byte  <span style=\"color: #008080; text-decoration-color: #008080; font-weight: bold\">4</span>  Nibble <span style=\"color: #008080; text-decoration-color: #008080; font-weight: bold\">0</span>  -   Left Margin:   <span style=\"color: #008080; text-decoration-color: #008080; font-weight: bold\">148</span>  <span style=\"font-weight: bold\">(</span> <span style=\"color: #008080; text-decoration-color: #008080; font-weight: bold\">76</span> <span style=\"font-weight: bold\">)</span>  Center Point:   <span style=\"color: #008080; text-decoration-color: #008080; font-weight: bold\">184</span>  <span style=\"font-weight: bold\">(</span> <span style=\"color: #008080; text-decoration-color: #008080; font-weight: bold\">94</span> <span style=\"font-weight: bold\">)</span>  Right Margin:   <span style=\"color: #008080; text-decoration-color: #008080; font-weight: bold\">148</span>  <span style=\"font-weight: bold\">(</span> <span style=\"color: #008080; text-decoration-color: #008080; font-weight: bold\">76</span> <span style=\"font-weight: bold\">)</span>\n",
              "</pre>\n"
            ],
            "text/plain": [
              "Byte  \u001b[1;36m4\u001b[0m  Nibble \u001b[1;36m0\u001b[0m  -   Left Margin:   \u001b[1;36m148\u001b[0m  \u001b[1m(\u001b[0m \u001b[1;36m76\u001b[0m \u001b[1m)\u001b[0m  Center Point:   \u001b[1;36m184\u001b[0m  \u001b[1m(\u001b[0m \u001b[1;36m94\u001b[0m \u001b[1m)\u001b[0m  Right Margin:   \u001b[1;36m148\u001b[0m  \u001b[1m(\u001b[0m \u001b[1;36m76\u001b[0m \u001b[1m)\u001b[0m\n"
            ]
          },
          "metadata": {},
          "output_type": "display_data"
        },
        {
          "data": {
            "text/html": [
              "<pre style=\"white-space:pre;overflow-x:auto;line-height:normal;font-family:Menlo,'DejaVu Sans Mono',consolas,'Courier New',monospace\">Byte  <span style=\"color: #008080; text-decoration-color: #008080; font-weight: bold\">4</span>  Nibble <span style=\"color: #008080; text-decoration-color: #008080; font-weight: bold\">1</span>  -   Left Margin:   <span style=\"color: #008080; text-decoration-color: #008080; font-weight: bold\">154</span>  <span style=\"font-weight: bold\">(</span> <span style=\"color: #008080; text-decoration-color: #008080; font-weight: bold\">78</span> <span style=\"font-weight: bold\">)</span>  Center Point:   <span style=\"color: #008080; text-decoration-color: #008080; font-weight: bold\">190</span>  <span style=\"font-weight: bold\">(</span> <span style=\"color: #008080; text-decoration-color: #008080; font-weight: bold\">96</span> <span style=\"font-weight: bold\">)</span>  Right Margin:   <span style=\"color: #008080; text-decoration-color: #008080; font-weight: bold\">156</span>  <span style=\"font-weight: bold\">(</span> <span style=\"color: #008080; text-decoration-color: #008080; font-weight: bold\">79</span> <span style=\"font-weight: bold\">)</span>\n",
              "</pre>\n"
            ],
            "text/plain": [
              "Byte  \u001b[1;36m4\u001b[0m  Nibble \u001b[1;36m1\u001b[0m  -   Left Margin:   \u001b[1;36m154\u001b[0m  \u001b[1m(\u001b[0m \u001b[1;36m78\u001b[0m \u001b[1m)\u001b[0m  Center Point:   \u001b[1;36m190\u001b[0m  \u001b[1m(\u001b[0m \u001b[1;36m96\u001b[0m \u001b[1m)\u001b[0m  Right Margin:   \u001b[1;36m156\u001b[0m  \u001b[1m(\u001b[0m \u001b[1;36m79\u001b[0m \u001b[1m)\u001b[0m\n"
            ]
          },
          "metadata": {},
          "output_type": "display_data"
        },
        {
          "data": {
            "text/html": [
              "<pre style=\"white-space:pre;overflow-x:auto;line-height:normal;font-family:Menlo,'DejaVu Sans Mono',consolas,'Courier New',monospace\">Byte  <span style=\"color: #008080; text-decoration-color: #008080; font-weight: bold\">5</span>  Nibble <span style=\"color: #008080; text-decoration-color: #008080; font-weight: bold\">0</span>  -   Left Margin:   <span style=\"color: #008080; text-decoration-color: #008080; font-weight: bold\">146</span>  <span style=\"font-weight: bold\">(</span> <span style=\"color: #008080; text-decoration-color: #008080; font-weight: bold\">74</span> <span style=\"font-weight: bold\">)</span>  Center Point:   <span style=\"color: #008080; text-decoration-color: #008080; font-weight: bold\">182</span>  <span style=\"font-weight: bold\">(</span> <span style=\"color: #008080; text-decoration-color: #008080; font-weight: bold\">92</span> <span style=\"font-weight: bold\">)</span>  Right Margin:   <span style=\"color: #008080; text-decoration-color: #008080; font-weight: bold\">146</span>  <span style=\"font-weight: bold\">(</span> <span style=\"color: #008080; text-decoration-color: #008080; font-weight: bold\">74</span> <span style=\"font-weight: bold\">)</span>\n",
              "</pre>\n"
            ],
            "text/plain": [
              "Byte  \u001b[1;36m5\u001b[0m  Nibble \u001b[1;36m0\u001b[0m  -   Left Margin:   \u001b[1;36m146\u001b[0m  \u001b[1m(\u001b[0m \u001b[1;36m74\u001b[0m \u001b[1m)\u001b[0m  Center Point:   \u001b[1;36m182\u001b[0m  \u001b[1m(\u001b[0m \u001b[1;36m92\u001b[0m \u001b[1m)\u001b[0m  Right Margin:   \u001b[1;36m146\u001b[0m  \u001b[1m(\u001b[0m \u001b[1;36m74\u001b[0m \u001b[1m)\u001b[0m\n"
            ]
          },
          "metadata": {},
          "output_type": "display_data"
        },
        {
          "data": {
            "text/html": [
              "<pre style=\"white-space:pre;overflow-x:auto;line-height:normal;font-family:Menlo,'DejaVu Sans Mono',consolas,'Courier New',monospace\">Byte  <span style=\"color: #008080; text-decoration-color: #008080; font-weight: bold\">5</span>  Nibble <span style=\"color: #008080; text-decoration-color: #008080; font-weight: bold\">1</span>  -   Left Margin:   <span style=\"color: #008080; text-decoration-color: #008080; font-weight: bold\">150</span>  <span style=\"font-weight: bold\">(</span> <span style=\"color: #008080; text-decoration-color: #008080; font-weight: bold\">77</span> <span style=\"font-weight: bold\">)</span>  Center Point:   <span style=\"color: #008080; text-decoration-color: #008080; font-weight: bold\">186</span>  <span style=\"font-weight: bold\">(</span> <span style=\"color: #008080; text-decoration-color: #008080; font-weight: bold\">95</span> <span style=\"font-weight: bold\">)</span>  Right Margin:   <span style=\"color: #008080; text-decoration-color: #008080; font-weight: bold\">152</span>  <span style=\"font-weight: bold\">(</span> <span style=\"color: #008080; text-decoration-color: #008080; font-weight: bold\">78</span> <span style=\"font-weight: bold\">)</span>\n",
              "</pre>\n"
            ],
            "text/plain": [
              "Byte  \u001b[1;36m5\u001b[0m  Nibble \u001b[1;36m1\u001b[0m  -   Left Margin:   \u001b[1;36m150\u001b[0m  \u001b[1m(\u001b[0m \u001b[1;36m77\u001b[0m \u001b[1m)\u001b[0m  Center Point:   \u001b[1;36m186\u001b[0m  \u001b[1m(\u001b[0m \u001b[1;36m95\u001b[0m \u001b[1m)\u001b[0m  Right Margin:   \u001b[1;36m152\u001b[0m  \u001b[1m(\u001b[0m \u001b[1;36m78\u001b[0m \u001b[1m)\u001b[0m\n"
            ]
          },
          "metadata": {},
          "output_type": "display_data"
        },
        {
          "data": {
            "text/html": [
              "<pre style=\"white-space:pre;overflow-x:auto;line-height:normal;font-family:Menlo,'DejaVu Sans Mono',consolas,'Courier New',monospace\">Byte  <span style=\"color: #008080; text-decoration-color: #008080; font-weight: bold\">6</span>  Nibble <span style=\"color: #008080; text-decoration-color: #008080; font-weight: bold\">0</span>  -   Left Margin:   <span style=\"color: #008080; text-decoration-color: #008080; font-weight: bold\">148</span>  <span style=\"font-weight: bold\">(</span> <span style=\"color: #008080; text-decoration-color: #008080; font-weight: bold\">76</span> <span style=\"font-weight: bold\">)</span>  Center Point:   <span style=\"color: #008080; text-decoration-color: #008080; font-weight: bold\">184</span>  <span style=\"font-weight: bold\">(</span> <span style=\"color: #008080; text-decoration-color: #008080; font-weight: bold\">94</span> <span style=\"font-weight: bold\">)</span>  Right Margin:   <span style=\"color: #008080; text-decoration-color: #008080; font-weight: bold\">148</span>  <span style=\"font-weight: bold\">(</span> <span style=\"color: #008080; text-decoration-color: #008080; font-weight: bold\">76</span> <span style=\"font-weight: bold\">)</span>\n",
              "</pre>\n"
            ],
            "text/plain": [
              "Byte  \u001b[1;36m6\u001b[0m  Nibble \u001b[1;36m0\u001b[0m  -   Left Margin:   \u001b[1;36m148\u001b[0m  \u001b[1m(\u001b[0m \u001b[1;36m76\u001b[0m \u001b[1m)\u001b[0m  Center Point:   \u001b[1;36m184\u001b[0m  \u001b[1m(\u001b[0m \u001b[1;36m94\u001b[0m \u001b[1m)\u001b[0m  Right Margin:   \u001b[1;36m148\u001b[0m  \u001b[1m(\u001b[0m \u001b[1;36m76\u001b[0m \u001b[1m)\u001b[0m\n"
            ]
          },
          "metadata": {},
          "output_type": "display_data"
        },
        {
          "data": {
            "text/html": [
              "<pre style=\"white-space:pre;overflow-x:auto;line-height:normal;font-family:Menlo,'DejaVu Sans Mono',consolas,'Courier New',monospace\">Byte  <span style=\"color: #008080; text-decoration-color: #008080; font-weight: bold\">6</span>  Nibble <span style=\"color: #008080; text-decoration-color: #008080; font-weight: bold\">1</span>  -   Left Margin:   <span style=\"color: #008080; text-decoration-color: #008080; font-weight: bold\">154</span>  <span style=\"font-weight: bold\">(</span> <span style=\"color: #008080; text-decoration-color: #008080; font-weight: bold\">79</span> <span style=\"font-weight: bold\">)</span>  Center Point:   <span style=\"color: #008080; text-decoration-color: #008080; font-weight: bold\">189</span>  <span style=\"font-weight: bold\">(</span> <span style=\"color: #008080; text-decoration-color: #008080; font-weight: bold\">97</span> <span style=\"font-weight: bold\">)</span>  Right Margin:   <span style=\"color: #008080; text-decoration-color: #008080; font-weight: bold\">154</span>  <span style=\"font-weight: bold\">(</span> <span style=\"color: #008080; text-decoration-color: #008080; font-weight: bold\">79</span> <span style=\"font-weight: bold\">)</span>\n",
              "</pre>\n"
            ],
            "text/plain": [
              "Byte  \u001b[1;36m6\u001b[0m  Nibble \u001b[1;36m1\u001b[0m  -   Left Margin:   \u001b[1;36m154\u001b[0m  \u001b[1m(\u001b[0m \u001b[1;36m79\u001b[0m \u001b[1m)\u001b[0m  Center Point:   \u001b[1;36m189\u001b[0m  \u001b[1m(\u001b[0m \u001b[1;36m97\u001b[0m \u001b[1m)\u001b[0m  Right Margin:   \u001b[1;36m154\u001b[0m  \u001b[1m(\u001b[0m \u001b[1;36m79\u001b[0m \u001b[1m)\u001b[0m\n"
            ]
          },
          "metadata": {},
          "output_type": "display_data"
        },
        {
          "data": {
            "text/html": [
              "<pre style=\"white-space:pre;overflow-x:auto;line-height:normal;font-family:Menlo,'DejaVu Sans Mono',consolas,'Courier New',monospace\">Byte  <span style=\"color: #008080; text-decoration-color: #008080; font-weight: bold\">7</span>  Nibble <span style=\"color: #008080; text-decoration-color: #008080; font-weight: bold\">0</span>  -   Left Margin:   <span style=\"color: #008080; text-decoration-color: #008080; font-weight: bold\">148</span>  <span style=\"font-weight: bold\">(</span> <span style=\"color: #008080; text-decoration-color: #008080; font-weight: bold\">76</span> <span style=\"font-weight: bold\">)</span>  Center Point:   <span style=\"color: #008080; text-decoration-color: #008080; font-weight: bold\">184</span>  <span style=\"font-weight: bold\">(</span> <span style=\"color: #008080; text-decoration-color: #008080; font-weight: bold\">94</span> <span style=\"font-weight: bold\">)</span>  Right Margin:   <span style=\"color: #008080; text-decoration-color: #008080; font-weight: bold\">148</span>  <span style=\"font-weight: bold\">(</span> <span style=\"color: #008080; text-decoration-color: #008080; font-weight: bold\">76</span> <span style=\"font-weight: bold\">)</span>\n",
              "</pre>\n"
            ],
            "text/plain": [
              "Byte  \u001b[1;36m7\u001b[0m  Nibble \u001b[1;36m0\u001b[0m  -   Left Margin:   \u001b[1;36m148\u001b[0m  \u001b[1m(\u001b[0m \u001b[1;36m76\u001b[0m \u001b[1m)\u001b[0m  Center Point:   \u001b[1;36m184\u001b[0m  \u001b[1m(\u001b[0m \u001b[1;36m94\u001b[0m \u001b[1m)\u001b[0m  Right Margin:   \u001b[1;36m148\u001b[0m  \u001b[1m(\u001b[0m \u001b[1;36m76\u001b[0m \u001b[1m)\u001b[0m\n"
            ]
          },
          "metadata": {},
          "output_type": "display_data"
        },
        {
          "data": {
            "text/html": [
              "<pre style=\"white-space:pre;overflow-x:auto;line-height:normal;font-family:Menlo,'DejaVu Sans Mono',consolas,'Courier New',monospace\">Byte  <span style=\"color: #008080; text-decoration-color: #008080; font-weight: bold\">7</span>  Nibble <span style=\"color: #008080; text-decoration-color: #008080; font-weight: bold\">1</span>  -   Left Margin:   <span style=\"color: #008080; text-decoration-color: #008080; font-weight: bold\">150</span>  <span style=\"font-weight: bold\">(</span> <span style=\"color: #008080; text-decoration-color: #008080; font-weight: bold\">78</span> <span style=\"font-weight: bold\">)</span>  Center Point:   <span style=\"color: #008080; text-decoration-color: #008080; font-weight: bold\">185</span>  <span style=\"font-weight: bold\">(</span> <span style=\"color: #008080; text-decoration-color: #008080; font-weight: bold\">96</span> <span style=\"font-weight: bold\">)</span>  Right Margin:   <span style=\"color: #008080; text-decoration-color: #008080; font-weight: bold\">150</span>  <span style=\"font-weight: bold\">(</span> <span style=\"color: #008080; text-decoration-color: #008080; font-weight: bold\">78</span> <span style=\"font-weight: bold\">)</span>\n",
              "</pre>\n"
            ],
            "text/plain": [
              "Byte  \u001b[1;36m7\u001b[0m  Nibble \u001b[1;36m1\u001b[0m  -   Left Margin:   \u001b[1;36m150\u001b[0m  \u001b[1m(\u001b[0m \u001b[1;36m78\u001b[0m \u001b[1m)\u001b[0m  Center Point:   \u001b[1;36m185\u001b[0m  \u001b[1m(\u001b[0m \u001b[1;36m96\u001b[0m \u001b[1m)\u001b[0m  Right Margin:   \u001b[1;36m150\u001b[0m  \u001b[1m(\u001b[0m \u001b[1;36m78\u001b[0m \u001b[1m)\u001b[0m\n"
            ]
          },
          "metadata": {},
          "output_type": "display_data"
        },
        {
          "data": {
            "text/html": [
              "<pre style=\"white-space:pre;overflow-x:auto;line-height:normal;font-family:Menlo,'DejaVu Sans Mono',consolas,'Courier New',monospace\">\n",
              " Frequency <span style=\"color: #008080; text-decoration-color: #008080; font-weight: bold\">0</span>  - Read Margin - Simple Pattern - Falling Edge Clock in pS and <span style=\"font-weight: bold\">(</span>delay taps<span style=\"font-weight: bold\">)</span>:\n",
              "\n",
              "</pre>\n"
            ],
            "text/plain": [
              "\n",
              " Frequency \u001b[1;36m0\u001b[0m  - Read Margin - Simple Pattern - Falling Edge Clock in pS and \u001b[1m(\u001b[0mdelay taps\u001b[1m)\u001b[0m:\n",
              "\n"
            ]
          },
          "metadata": {},
          "output_type": "display_data"
        },
        {
          "data": {
            "text/html": [
              "<pre style=\"white-space:pre;overflow-x:auto;line-height:normal;font-family:Menlo,'DejaVu Sans Mono',consolas,'Courier New',monospace\">Byte  <span style=\"color: #008080; text-decoration-color: #008080; font-weight: bold\">0</span>  Nibble <span style=\"color: #008080; text-decoration-color: #008080; font-weight: bold\">0</span>  -   Left Margin:   <span style=\"color: #008080; text-decoration-color: #008080; font-weight: bold\">146</span>  <span style=\"font-weight: bold\">(</span> <span style=\"color: #008080; text-decoration-color: #008080; font-weight: bold\">76</span> <span style=\"font-weight: bold\">)</span>  Center Point:   <span style=\"color: #008080; text-decoration-color: #008080; font-weight: bold\">183</span>  <span style=\"font-weight: bold\">(</span> <span style=\"color: #008080; text-decoration-color: #008080; font-weight: bold\">95</span> <span style=\"font-weight: bold\">)</span>  Right Margin:   <span style=\"color: #008080; text-decoration-color: #008080; font-weight: bold\">146</span>  <span style=\"font-weight: bold\">(</span> <span style=\"color: #008080; text-decoration-color: #008080; font-weight: bold\">76</span> <span style=\"font-weight: bold\">)</span>\n",
              "</pre>\n"
            ],
            "text/plain": [
              "Byte  \u001b[1;36m0\u001b[0m  Nibble \u001b[1;36m0\u001b[0m  -   Left Margin:   \u001b[1;36m146\u001b[0m  \u001b[1m(\u001b[0m \u001b[1;36m76\u001b[0m \u001b[1m)\u001b[0m  Center Point:   \u001b[1;36m183\u001b[0m  \u001b[1m(\u001b[0m \u001b[1;36m95\u001b[0m \u001b[1m)\u001b[0m  Right Margin:   \u001b[1;36m146\u001b[0m  \u001b[1m(\u001b[0m \u001b[1;36m76\u001b[0m \u001b[1m)\u001b[0m\n"
            ]
          },
          "metadata": {},
          "output_type": "display_data"
        },
        {
          "data": {
            "text/html": [
              "<pre style=\"white-space:pre;overflow-x:auto;line-height:normal;font-family:Menlo,'DejaVu Sans Mono',consolas,'Courier New',monospace\">Byte  <span style=\"color: #008080; text-decoration-color: #008080; font-weight: bold\">0</span>  Nibble <span style=\"color: #008080; text-decoration-color: #008080; font-weight: bold\">1</span>  -   Left Margin:   <span style=\"color: #008080; text-decoration-color: #008080; font-weight: bold\">144</span>  <span style=\"font-weight: bold\">(</span> <span style=\"color: #008080; text-decoration-color: #008080; font-weight: bold\">76</span> <span style=\"font-weight: bold\">)</span>  Center Point:   <span style=\"color: #008080; text-decoration-color: #008080; font-weight: bold\">192</span>  <span style=\"font-weight: bold\">(</span> <span style=\"color: #008080; text-decoration-color: #008080; font-weight: bold\">101</span> <span style=\"font-weight: bold\">)</span>  Right Margin:   <span style=\"color: #008080; text-decoration-color: #008080; font-weight: bold\">144</span>  <span style=\"font-weight: bold\">(</span> <span style=\"color: #008080; text-decoration-color: #008080; font-weight: bold\">76</span> <span style=\"font-weight: bold\">)</span>\n",
              "</pre>\n"
            ],
            "text/plain": [
              "Byte  \u001b[1;36m0\u001b[0m  Nibble \u001b[1;36m1\u001b[0m  -   Left Margin:   \u001b[1;36m144\u001b[0m  \u001b[1m(\u001b[0m \u001b[1;36m76\u001b[0m \u001b[1m)\u001b[0m  Center Point:   \u001b[1;36m192\u001b[0m  \u001b[1m(\u001b[0m \u001b[1;36m101\u001b[0m \u001b[1m)\u001b[0m  Right Margin:   \u001b[1;36m144\u001b[0m  \u001b[1m(\u001b[0m \u001b[1;36m76\u001b[0m \u001b[1m)\u001b[0m\n"
            ]
          },
          "metadata": {},
          "output_type": "display_data"
        },
        {
          "data": {
            "text/html": [
              "<pre style=\"white-space:pre;overflow-x:auto;line-height:normal;font-family:Menlo,'DejaVu Sans Mono',consolas,'Courier New',monospace\">Byte  <span style=\"color: #008080; text-decoration-color: #008080; font-weight: bold\">1</span>  Nibble <span style=\"color: #008080; text-decoration-color: #008080; font-weight: bold\">0</span>  -   Left Margin:   <span style=\"color: #008080; text-decoration-color: #008080; font-weight: bold\">142</span>  <span style=\"font-weight: bold\">(</span> <span style=\"color: #008080; text-decoration-color: #008080; font-weight: bold\">74</span> <span style=\"font-weight: bold\">)</span>  Center Point:   <span style=\"color: #008080; text-decoration-color: #008080; font-weight: bold\">191</span>  <span style=\"font-weight: bold\">(</span> <span style=\"color: #008080; text-decoration-color: #008080; font-weight: bold\">99</span> <span style=\"font-weight: bold\">)</span>  Right Margin:   <span style=\"color: #008080; text-decoration-color: #008080; font-weight: bold\">142</span>  <span style=\"font-weight: bold\">(</span> <span style=\"color: #008080; text-decoration-color: #008080; font-weight: bold\">74</span> <span style=\"font-weight: bold\">)</span>\n",
              "</pre>\n"
            ],
            "text/plain": [
              "Byte  \u001b[1;36m1\u001b[0m  Nibble \u001b[1;36m0\u001b[0m  -   Left Margin:   \u001b[1;36m142\u001b[0m  \u001b[1m(\u001b[0m \u001b[1;36m74\u001b[0m \u001b[1m)\u001b[0m  Center Point:   \u001b[1;36m191\u001b[0m  \u001b[1m(\u001b[0m \u001b[1;36m99\u001b[0m \u001b[1m)\u001b[0m  Right Margin:   \u001b[1;36m142\u001b[0m  \u001b[1m(\u001b[0m \u001b[1;36m74\u001b[0m \u001b[1m)\u001b[0m\n"
            ]
          },
          "metadata": {},
          "output_type": "display_data"
        },
        {
          "data": {
            "text/html": [
              "<pre style=\"white-space:pre;overflow-x:auto;line-height:normal;font-family:Menlo,'DejaVu Sans Mono',consolas,'Courier New',monospace\">Byte  <span style=\"color: #008080; text-decoration-color: #008080; font-weight: bold\">1</span>  Nibble <span style=\"color: #008080; text-decoration-color: #008080; font-weight: bold\">1</span>  -   Left Margin:   <span style=\"color: #008080; text-decoration-color: #008080; font-weight: bold\">144</span>  <span style=\"font-weight: bold\">(</span> <span style=\"color: #008080; text-decoration-color: #008080; font-weight: bold\">76</span> <span style=\"font-weight: bold\">)</span>  Center Point:   <span style=\"color: #008080; text-decoration-color: #008080; font-weight: bold\">192</span>  <span style=\"font-weight: bold\">(</span> <span style=\"color: #008080; text-decoration-color: #008080; font-weight: bold\">101</span> <span style=\"font-weight: bold\">)</span>  Right Margin:   <span style=\"color: #008080; text-decoration-color: #008080; font-weight: bold\">144</span>  <span style=\"font-weight: bold\">(</span> <span style=\"color: #008080; text-decoration-color: #008080; font-weight: bold\">76</span> <span style=\"font-weight: bold\">)</span>\n",
              "</pre>\n"
            ],
            "text/plain": [
              "Byte  \u001b[1;36m1\u001b[0m  Nibble \u001b[1;36m1\u001b[0m  -   Left Margin:   \u001b[1;36m144\u001b[0m  \u001b[1m(\u001b[0m \u001b[1;36m76\u001b[0m \u001b[1m)\u001b[0m  Center Point:   \u001b[1;36m192\u001b[0m  \u001b[1m(\u001b[0m \u001b[1;36m101\u001b[0m \u001b[1m)\u001b[0m  Right Margin:   \u001b[1;36m144\u001b[0m  \u001b[1m(\u001b[0m \u001b[1;36m76\u001b[0m \u001b[1m)\u001b[0m\n"
            ]
          },
          "metadata": {},
          "output_type": "display_data"
        },
        {
          "data": {
            "text/html": [
              "<pre style=\"white-space:pre;overflow-x:auto;line-height:normal;font-family:Menlo,'DejaVu Sans Mono',consolas,'Courier New',monospace\">Byte  <span style=\"color: #008080; text-decoration-color: #008080; font-weight: bold\">2</span>  Nibble <span style=\"color: #008080; text-decoration-color: #008080; font-weight: bold\">0</span>  -   Left Margin:   <span style=\"color: #008080; text-decoration-color: #008080; font-weight: bold\">139</span>  <span style=\"font-weight: bold\">(</span> <span style=\"color: #008080; text-decoration-color: #008080; font-weight: bold\">73</span> <span style=\"font-weight: bold\">)</span>  Center Point:   <span style=\"color: #008080; text-decoration-color: #008080; font-weight: bold\">191</span>  <span style=\"font-weight: bold\">(</span> <span style=\"color: #008080; text-decoration-color: #008080; font-weight: bold\">100</span> <span style=\"font-weight: bold\">)</span>  Right Margin:   <span style=\"color: #008080; text-decoration-color: #008080; font-weight: bold\">141</span>  <span style=\"font-weight: bold\">(</span> <span style=\"color: #008080; text-decoration-color: #008080; font-weight: bold\">74</span> <span style=\"font-weight: bold\">)</span>\n",
              "</pre>\n"
            ],
            "text/plain": [
              "Byte  \u001b[1;36m2\u001b[0m  Nibble \u001b[1;36m0\u001b[0m  -   Left Margin:   \u001b[1;36m139\u001b[0m  \u001b[1m(\u001b[0m \u001b[1;36m73\u001b[0m \u001b[1m)\u001b[0m  Center Point:   \u001b[1;36m191\u001b[0m  \u001b[1m(\u001b[0m \u001b[1;36m100\u001b[0m \u001b[1m)\u001b[0m  Right Margin:   \u001b[1;36m141\u001b[0m  \u001b[1m(\u001b[0m \u001b[1;36m74\u001b[0m \u001b[1m)\u001b[0m\n"
            ]
          },
          "metadata": {},
          "output_type": "display_data"
        },
        {
          "data": {
            "text/html": [
              "<pre style=\"white-space:pre;overflow-x:auto;line-height:normal;font-family:Menlo,'DejaVu Sans Mono',consolas,'Courier New',monospace\">Byte  <span style=\"color: #008080; text-decoration-color: #008080; font-weight: bold\">2</span>  Nibble <span style=\"color: #008080; text-decoration-color: #008080; font-weight: bold\">1</span>  -   Left Margin:   <span style=\"color: #008080; text-decoration-color: #008080; font-weight: bold\">139</span>  <span style=\"font-weight: bold\">(</span> <span style=\"color: #008080; text-decoration-color: #008080; font-weight: bold\">74</span> <span style=\"font-weight: bold\">)</span>  Center Point:   <span style=\"color: #008080; text-decoration-color: #008080; font-weight: bold\">190</span>  <span style=\"font-weight: bold\">(</span> <span style=\"color: #008080; text-decoration-color: #008080; font-weight: bold\">101</span> <span style=\"font-weight: bold\">)</span>  Right Margin:   <span style=\"color: #008080; text-decoration-color: #008080; font-weight: bold\">139</span>  <span style=\"font-weight: bold\">(</span> <span style=\"color: #008080; text-decoration-color: #008080; font-weight: bold\">74</span> <span style=\"font-weight: bold\">)</span>\n",
              "</pre>\n"
            ],
            "text/plain": [
              "Byte  \u001b[1;36m2\u001b[0m  Nibble \u001b[1;36m1\u001b[0m  -   Left Margin:   \u001b[1;36m139\u001b[0m  \u001b[1m(\u001b[0m \u001b[1;36m74\u001b[0m \u001b[1m)\u001b[0m  Center Point:   \u001b[1;36m190\u001b[0m  \u001b[1m(\u001b[0m \u001b[1;36m101\u001b[0m \u001b[1m)\u001b[0m  Right Margin:   \u001b[1;36m139\u001b[0m  \u001b[1m(\u001b[0m \u001b[1;36m74\u001b[0m \u001b[1m)\u001b[0m\n"
            ]
          },
          "metadata": {},
          "output_type": "display_data"
        },
        {
          "data": {
            "text/html": [
              "<pre style=\"white-space:pre;overflow-x:auto;line-height:normal;font-family:Menlo,'DejaVu Sans Mono',consolas,'Courier New',monospace\">Byte  <span style=\"color: #008080; text-decoration-color: #008080; font-weight: bold\">3</span>  Nibble <span style=\"color: #008080; text-decoration-color: #008080; font-weight: bold\">0</span>  -   Left Margin:   <span style=\"color: #008080; text-decoration-color: #008080; font-weight: bold\">140</span>  <span style=\"font-weight: bold\">(</span> <span style=\"color: #008080; text-decoration-color: #008080; font-weight: bold\">73</span> <span style=\"font-weight: bold\">)</span>  Center Point:   <span style=\"color: #008080; text-decoration-color: #008080; font-weight: bold\">191</span>  <span style=\"font-weight: bold\">(</span> <span style=\"color: #008080; text-decoration-color: #008080; font-weight: bold\">99</span> <span style=\"font-weight: bold\">)</span>  Right Margin:   <span style=\"color: #008080; text-decoration-color: #008080; font-weight: bold\">142</span>  <span style=\"font-weight: bold\">(</span> <span style=\"color: #008080; text-decoration-color: #008080; font-weight: bold\">74</span> <span style=\"font-weight: bold\">)</span>\n",
              "</pre>\n"
            ],
            "text/plain": [
              "Byte  \u001b[1;36m3\u001b[0m  Nibble \u001b[1;36m0\u001b[0m  -   Left Margin:   \u001b[1;36m140\u001b[0m  \u001b[1m(\u001b[0m \u001b[1;36m73\u001b[0m \u001b[1m)\u001b[0m  Center Point:   \u001b[1;36m191\u001b[0m  \u001b[1m(\u001b[0m \u001b[1;36m99\u001b[0m \u001b[1m)\u001b[0m  Right Margin:   \u001b[1;36m142\u001b[0m  \u001b[1m(\u001b[0m \u001b[1;36m74\u001b[0m \u001b[1m)\u001b[0m\n"
            ]
          },
          "metadata": {},
          "output_type": "display_data"
        },
        {
          "data": {
            "text/html": [
              "<pre style=\"white-space:pre;overflow-x:auto;line-height:normal;font-family:Menlo,'DejaVu Sans Mono',consolas,'Courier New',monospace\">Byte  <span style=\"color: #008080; text-decoration-color: #008080; font-weight: bold\">3</span>  Nibble <span style=\"color: #008080; text-decoration-color: #008080; font-weight: bold\">1</span>  -   Left Margin:   <span style=\"color: #008080; text-decoration-color: #008080; font-weight: bold\">142</span>  <span style=\"font-weight: bold\">(</span> <span style=\"color: #008080; text-decoration-color: #008080; font-weight: bold\">74</span> <span style=\"font-weight: bold\">)</span>  Center Point:   <span style=\"color: #008080; text-decoration-color: #008080; font-weight: bold\">191</span>  <span style=\"font-weight: bold\">(</span> <span style=\"color: #008080; text-decoration-color: #008080; font-weight: bold\">99</span> <span style=\"font-weight: bold\">)</span>  Right Margin:   <span style=\"color: #008080; text-decoration-color: #008080; font-weight: bold\">142</span>  <span style=\"font-weight: bold\">(</span> <span style=\"color: #008080; text-decoration-color: #008080; font-weight: bold\">74</span> <span style=\"font-weight: bold\">)</span>\n",
              "</pre>\n"
            ],
            "text/plain": [
              "Byte  \u001b[1;36m3\u001b[0m  Nibble \u001b[1;36m1\u001b[0m  -   Left Margin:   \u001b[1;36m142\u001b[0m  \u001b[1m(\u001b[0m \u001b[1;36m74\u001b[0m \u001b[1m)\u001b[0m  Center Point:   \u001b[1;36m191\u001b[0m  \u001b[1m(\u001b[0m \u001b[1;36m99\u001b[0m \u001b[1m)\u001b[0m  Right Margin:   \u001b[1;36m142\u001b[0m  \u001b[1m(\u001b[0m \u001b[1;36m74\u001b[0m \u001b[1m)\u001b[0m\n"
            ]
          },
          "metadata": {},
          "output_type": "display_data"
        },
        {
          "data": {
            "text/html": [
              "<pre style=\"white-space:pre;overflow-x:auto;line-height:normal;font-family:Menlo,'DejaVu Sans Mono',consolas,'Courier New',monospace\">Byte  <span style=\"color: #008080; text-decoration-color: #008080; font-weight: bold\">4</span>  Nibble <span style=\"color: #008080; text-decoration-color: #008080; font-weight: bold\">0</span>  -   Left Margin:   <span style=\"color: #008080; text-decoration-color: #008080; font-weight: bold\">138</span>  <span style=\"font-weight: bold\">(</span> <span style=\"color: #008080; text-decoration-color: #008080; font-weight: bold\">71</span> <span style=\"font-weight: bold\">)</span>  Center Point:   <span style=\"color: #008080; text-decoration-color: #008080; font-weight: bold\">176</span>  <span style=\"font-weight: bold\">(</span> <span style=\"color: #008080; text-decoration-color: #008080; font-weight: bold\">90</span> <span style=\"font-weight: bold\">)</span>  Right Margin:   <span style=\"color: #008080; text-decoration-color: #008080; font-weight: bold\">138</span>  <span style=\"font-weight: bold\">(</span> <span style=\"color: #008080; text-decoration-color: #008080; font-weight: bold\">71</span> <span style=\"font-weight: bold\">)</span>\n",
              "</pre>\n"
            ],
            "text/plain": [
              "Byte  \u001b[1;36m4\u001b[0m  Nibble \u001b[1;36m0\u001b[0m  -   Left Margin:   \u001b[1;36m138\u001b[0m  \u001b[1m(\u001b[0m \u001b[1;36m71\u001b[0m \u001b[1m)\u001b[0m  Center Point:   \u001b[1;36m176\u001b[0m  \u001b[1m(\u001b[0m \u001b[1;36m90\u001b[0m \u001b[1m)\u001b[0m  Right Margin:   \u001b[1;36m138\u001b[0m  \u001b[1m(\u001b[0m \u001b[1;36m71\u001b[0m \u001b[1m)\u001b[0m\n"
            ]
          },
          "metadata": {},
          "output_type": "display_data"
        },
        {
          "data": {
            "text/html": [
              "<pre style=\"white-space:pre;overflow-x:auto;line-height:normal;font-family:Menlo,'DejaVu Sans Mono',consolas,'Courier New',monospace\">Byte  <span style=\"color: #008080; text-decoration-color: #008080; font-weight: bold\">4</span>  Nibble <span style=\"color: #008080; text-decoration-color: #008080; font-weight: bold\">1</span>  -   Left Margin:   <span style=\"color: #008080; text-decoration-color: #008080; font-weight: bold\">140</span>  <span style=\"font-weight: bold\">(</span> <span style=\"color: #008080; text-decoration-color: #008080; font-weight: bold\">71</span> <span style=\"font-weight: bold\">)</span>  Center Point:   <span style=\"color: #008080; text-decoration-color: #008080; font-weight: bold\">182</span>  <span style=\"font-weight: bold\">(</span> <span style=\"color: #008080; text-decoration-color: #008080; font-weight: bold\">92</span> <span style=\"font-weight: bold\">)</span>  Right Margin:   <span style=\"color: #008080; text-decoration-color: #008080; font-weight: bold\">140</span>  <span style=\"font-weight: bold\">(</span> <span style=\"color: #008080; text-decoration-color: #008080; font-weight: bold\">71</span> <span style=\"font-weight: bold\">)</span>\n",
              "</pre>\n"
            ],
            "text/plain": [
              "Byte  \u001b[1;36m4\u001b[0m  Nibble \u001b[1;36m1\u001b[0m  -   Left Margin:   \u001b[1;36m140\u001b[0m  \u001b[1m(\u001b[0m \u001b[1;36m71\u001b[0m \u001b[1m)\u001b[0m  Center Point:   \u001b[1;36m182\u001b[0m  \u001b[1m(\u001b[0m \u001b[1;36m92\u001b[0m \u001b[1m)\u001b[0m  Right Margin:   \u001b[1;36m140\u001b[0m  \u001b[1m(\u001b[0m \u001b[1;36m71\u001b[0m \u001b[1m)\u001b[0m\n"
            ]
          },
          "metadata": {},
          "output_type": "display_data"
        },
        {
          "data": {
            "text/html": [
              "<pre style=\"white-space:pre;overflow-x:auto;line-height:normal;font-family:Menlo,'DejaVu Sans Mono',consolas,'Courier New',monospace\">Byte  <span style=\"color: #008080; text-decoration-color: #008080; font-weight: bold\">5</span>  Nibble <span style=\"color: #008080; text-decoration-color: #008080; font-weight: bold\">0</span>  -   Left Margin:   <span style=\"color: #008080; text-decoration-color: #008080; font-weight: bold\">142</span>  <span style=\"font-weight: bold\">(</span> <span style=\"color: #008080; text-decoration-color: #008080; font-weight: bold\">74</span> <span style=\"font-weight: bold\">)</span>  Center Point:   <span style=\"color: #008080; text-decoration-color: #008080; font-weight: bold\">179</span>  <span style=\"font-weight: bold\">(</span> <span style=\"color: #008080; text-decoration-color: #008080; font-weight: bold\">93</span> <span style=\"font-weight: bold\">)</span>  Right Margin:   <span style=\"color: #008080; text-decoration-color: #008080; font-weight: bold\">142</span>  <span style=\"font-weight: bold\">(</span> <span style=\"color: #008080; text-decoration-color: #008080; font-weight: bold\">74</span> <span style=\"font-weight: bold\">)</span>\n",
              "</pre>\n"
            ],
            "text/plain": [
              "Byte  \u001b[1;36m5\u001b[0m  Nibble \u001b[1;36m0\u001b[0m  -   Left Margin:   \u001b[1;36m142\u001b[0m  \u001b[1m(\u001b[0m \u001b[1;36m74\u001b[0m \u001b[1m)\u001b[0m  Center Point:   \u001b[1;36m179\u001b[0m  \u001b[1m(\u001b[0m \u001b[1;36m93\u001b[0m \u001b[1m)\u001b[0m  Right Margin:   \u001b[1;36m142\u001b[0m  \u001b[1m(\u001b[0m \u001b[1;36m74\u001b[0m \u001b[1m)\u001b[0m\n"
            ]
          },
          "metadata": {},
          "output_type": "display_data"
        },
        {
          "data": {
            "text/html": [
              "<pre style=\"white-space:pre;overflow-x:auto;line-height:normal;font-family:Menlo,'DejaVu Sans Mono',consolas,'Courier New',monospace\">Byte  <span style=\"color: #008080; text-decoration-color: #008080; font-weight: bold\">5</span>  Nibble <span style=\"color: #008080; text-decoration-color: #008080; font-weight: bold\">1</span>  -   Left Margin:   <span style=\"color: #008080; text-decoration-color: #008080; font-weight: bold\">140</span>  <span style=\"font-weight: bold\">(</span> <span style=\"color: #008080; text-decoration-color: #008080; font-weight: bold\">73</span> <span style=\"font-weight: bold\">)</span>  Center Point:   <span style=\"color: #008080; text-decoration-color: #008080; font-weight: bold\">189</span>  <span style=\"font-weight: bold\">(</span> <span style=\"color: #008080; text-decoration-color: #008080; font-weight: bold\">98</span> <span style=\"font-weight: bold\">)</span>  Right Margin:   <span style=\"color: #008080; text-decoration-color: #008080; font-weight: bold\">142</span>  <span style=\"font-weight: bold\">(</span> <span style=\"color: #008080; text-decoration-color: #008080; font-weight: bold\">74</span> <span style=\"font-weight: bold\">)</span>\n",
              "</pre>\n"
            ],
            "text/plain": [
              "Byte  \u001b[1;36m5\u001b[0m  Nibble \u001b[1;36m1\u001b[0m  -   Left Margin:   \u001b[1;36m140\u001b[0m  \u001b[1m(\u001b[0m \u001b[1;36m73\u001b[0m \u001b[1m)\u001b[0m  Center Point:   \u001b[1;36m189\u001b[0m  \u001b[1m(\u001b[0m \u001b[1;36m98\u001b[0m \u001b[1m)\u001b[0m  Right Margin:   \u001b[1;36m142\u001b[0m  \u001b[1m(\u001b[0m \u001b[1;36m74\u001b[0m \u001b[1m)\u001b[0m\n"
            ]
          },
          "metadata": {},
          "output_type": "display_data"
        },
        {
          "data": {
            "text/html": [
              "<pre style=\"white-space:pre;overflow-x:auto;line-height:normal;font-family:Menlo,'DejaVu Sans Mono',consolas,'Courier New',monospace\">Byte  <span style=\"color: #008080; text-decoration-color: #008080; font-weight: bold\">6</span>  Nibble <span style=\"color: #008080; text-decoration-color: #008080; font-weight: bold\">0</span>  -   Left Margin:   <span style=\"color: #008080; text-decoration-color: #008080; font-weight: bold\">142</span>  <span style=\"font-weight: bold\">(</span> <span style=\"color: #008080; text-decoration-color: #008080; font-weight: bold\">74</span> <span style=\"font-weight: bold\">)</span>  Center Point:   <span style=\"color: #008080; text-decoration-color: #008080; font-weight: bold\">183</span>  <span style=\"font-weight: bold\">(</span> <span style=\"color: #008080; text-decoration-color: #008080; font-weight: bold\">95</span> <span style=\"font-weight: bold\">)</span>  Right Margin:   <span style=\"color: #008080; text-decoration-color: #008080; font-weight: bold\">142</span>  <span style=\"font-weight: bold\">(</span> <span style=\"color: #008080; text-decoration-color: #008080; font-weight: bold\">74</span> <span style=\"font-weight: bold\">)</span>\n",
              "</pre>\n"
            ],
            "text/plain": [
              "Byte  \u001b[1;36m6\u001b[0m  Nibble \u001b[1;36m0\u001b[0m  -   Left Margin:   \u001b[1;36m142\u001b[0m  \u001b[1m(\u001b[0m \u001b[1;36m74\u001b[0m \u001b[1m)\u001b[0m  Center Point:   \u001b[1;36m183\u001b[0m  \u001b[1m(\u001b[0m \u001b[1;36m95\u001b[0m \u001b[1m)\u001b[0m  Right Margin:   \u001b[1;36m142\u001b[0m  \u001b[1m(\u001b[0m \u001b[1;36m74\u001b[0m \u001b[1m)\u001b[0m\n"
            ]
          },
          "metadata": {},
          "output_type": "display_data"
        },
        {
          "data": {
            "text/html": [
              "<pre style=\"white-space:pre;overflow-x:auto;line-height:normal;font-family:Menlo,'DejaVu Sans Mono',consolas,'Courier New',monospace\">Byte  <span style=\"color: #008080; text-decoration-color: #008080; font-weight: bold\">6</span>  Nibble <span style=\"color: #008080; text-decoration-color: #008080; font-weight: bold\">1</span>  -   Left Margin:   <span style=\"color: #008080; text-decoration-color: #008080; font-weight: bold\">144</span>  <span style=\"font-weight: bold\">(</span> <span style=\"color: #008080; text-decoration-color: #008080; font-weight: bold\">74</span> <span style=\"font-weight: bold\">)</span>  Center Point:   <span style=\"color: #008080; text-decoration-color: #008080; font-weight: bold\">189</span>  <span style=\"font-weight: bold\">(</span> <span style=\"color: #008080; text-decoration-color: #008080; font-weight: bold\">97</span> <span style=\"font-weight: bold\">)</span>  Right Margin:   <span style=\"color: #008080; text-decoration-color: #008080; font-weight: bold\">144</span>  <span style=\"font-weight: bold\">(</span> <span style=\"color: #008080; text-decoration-color: #008080; font-weight: bold\">74</span> <span style=\"font-weight: bold\">)</span>\n",
              "</pre>\n"
            ],
            "text/plain": [
              "Byte  \u001b[1;36m6\u001b[0m  Nibble \u001b[1;36m1\u001b[0m  -   Left Margin:   \u001b[1;36m144\u001b[0m  \u001b[1m(\u001b[0m \u001b[1;36m74\u001b[0m \u001b[1m)\u001b[0m  Center Point:   \u001b[1;36m189\u001b[0m  \u001b[1m(\u001b[0m \u001b[1;36m97\u001b[0m \u001b[1m)\u001b[0m  Right Margin:   \u001b[1;36m144\u001b[0m  \u001b[1m(\u001b[0m \u001b[1;36m74\u001b[0m \u001b[1m)\u001b[0m\n"
            ]
          },
          "metadata": {},
          "output_type": "display_data"
        },
        {
          "data": {
            "text/html": [
              "<pre style=\"white-space:pre;overflow-x:auto;line-height:normal;font-family:Menlo,'DejaVu Sans Mono',consolas,'Courier New',monospace\">Byte  <span style=\"color: #008080; text-decoration-color: #008080; font-weight: bold\">7</span>  Nibble <span style=\"color: #008080; text-decoration-color: #008080; font-weight: bold\">0</span>  -   Left Margin:   <span style=\"color: #008080; text-decoration-color: #008080; font-weight: bold\">144</span>  <span style=\"font-weight: bold\">(</span> <span style=\"color: #008080; text-decoration-color: #008080; font-weight: bold\">74</span> <span style=\"font-weight: bold\">)</span>  Center Point:   <span style=\"color: #008080; text-decoration-color: #008080; font-weight: bold\">186</span>  <span style=\"font-weight: bold\">(</span> <span style=\"color: #008080; text-decoration-color: #008080; font-weight: bold\">95</span> <span style=\"font-weight: bold\">)</span>  Right Margin:   <span style=\"color: #008080; text-decoration-color: #008080; font-weight: bold\">144</span>  <span style=\"font-weight: bold\">(</span> <span style=\"color: #008080; text-decoration-color: #008080; font-weight: bold\">74</span> <span style=\"font-weight: bold\">)</span>\n",
              "</pre>\n"
            ],
            "text/plain": [
              "Byte  \u001b[1;36m7\u001b[0m  Nibble \u001b[1;36m0\u001b[0m  -   Left Margin:   \u001b[1;36m144\u001b[0m  \u001b[1m(\u001b[0m \u001b[1;36m74\u001b[0m \u001b[1m)\u001b[0m  Center Point:   \u001b[1;36m186\u001b[0m  \u001b[1m(\u001b[0m \u001b[1;36m95\u001b[0m \u001b[1m)\u001b[0m  Right Margin:   \u001b[1;36m144\u001b[0m  \u001b[1m(\u001b[0m \u001b[1;36m74\u001b[0m \u001b[1m)\u001b[0m\n"
            ]
          },
          "metadata": {},
          "output_type": "display_data"
        },
        {
          "data": {
            "text/html": [
              "<pre style=\"white-space:pre;overflow-x:auto;line-height:normal;font-family:Menlo,'DejaVu Sans Mono',consolas,'Courier New',monospace\">Byte  <span style=\"color: #008080; text-decoration-color: #008080; font-weight: bold\">7</span>  Nibble <span style=\"color: #008080; text-decoration-color: #008080; font-weight: bold\">1</span>  -   Left Margin:   <span style=\"color: #008080; text-decoration-color: #008080; font-weight: bold\">146</span>  <span style=\"font-weight: bold\">(</span> <span style=\"color: #008080; text-decoration-color: #008080; font-weight: bold\">75</span> <span style=\"font-weight: bold\">)</span>  Center Point:   <span style=\"color: #008080; text-decoration-color: #008080; font-weight: bold\">189</span>  <span style=\"font-weight: bold\">(</span> <span style=\"color: #008080; text-decoration-color: #008080; font-weight: bold\">97</span> <span style=\"font-weight: bold\">)</span>  Right Margin:   <span style=\"color: #008080; text-decoration-color: #008080; font-weight: bold\">148</span>  <span style=\"font-weight: bold\">(</span> <span style=\"color: #008080; text-decoration-color: #008080; font-weight: bold\">76</span> <span style=\"font-weight: bold\">)</span>\n",
              "</pre>\n"
            ],
            "text/plain": [
              "Byte  \u001b[1;36m7\u001b[0m  Nibble \u001b[1;36m1\u001b[0m  -   Left Margin:   \u001b[1;36m146\u001b[0m  \u001b[1m(\u001b[0m \u001b[1;36m75\u001b[0m \u001b[1m)\u001b[0m  Center Point:   \u001b[1;36m189\u001b[0m  \u001b[1m(\u001b[0m \u001b[1;36m97\u001b[0m \u001b[1m)\u001b[0m  Right Margin:   \u001b[1;36m148\u001b[0m  \u001b[1m(\u001b[0m \u001b[1;36m76\u001b[0m \u001b[1m)\u001b[0m\n"
            ]
          },
          "metadata": {},
          "output_type": "display_data"
        },
        {
          "data": {
            "text/html": [
              "<pre style=\"white-space:pre;overflow-x:auto;line-height:normal;font-family:Menlo,'DejaVu Sans Mono',consolas,'Courier New',monospace\">\n",
              " Frequency <span style=\"color: #008080; text-decoration-color: #008080; font-weight: bold\">0</span>  - Read Margin - Complex Pattern - Rising Edge Clock in pS and <span style=\"font-weight: bold\">(</span>delay taps<span style=\"font-weight: bold\">)</span>:\n",
              "\n",
              "</pre>\n"
            ],
            "text/plain": [
              "\n",
              " Frequency \u001b[1;36m0\u001b[0m  - Read Margin - Complex Pattern - Rising Edge Clock in pS and \u001b[1m(\u001b[0mdelay taps\u001b[1m)\u001b[0m:\n",
              "\n"
            ]
          },
          "metadata": {},
          "output_type": "display_data"
        },
        {
          "data": {
            "text/html": [
              "<pre style=\"white-space:pre;overflow-x:auto;line-height:normal;font-family:Menlo,'DejaVu Sans Mono',consolas,'Courier New',monospace\">Byte  <span style=\"color: #008080; text-decoration-color: #008080; font-weight: bold\">0</span>  Nibble <span style=\"color: #008080; text-decoration-color: #008080; font-weight: bold\">0</span>  -   Left Margin:   <span style=\"color: #008080; text-decoration-color: #008080; font-weight: bold\">128</span>  <span style=\"font-weight: bold\">(</span> <span style=\"color: #008080; text-decoration-color: #008080; font-weight: bold\">69</span> <span style=\"font-weight: bold\">)</span>  Center Point:   <span style=\"color: #008080; text-decoration-color: #008080; font-weight: bold\">167</span>  <span style=\"font-weight: bold\">(</span> <span style=\"color: #008080; text-decoration-color: #008080; font-weight: bold\">90</span> <span style=\"font-weight: bold\">)</span>  Right Margin:   <span style=\"color: #008080; text-decoration-color: #008080; font-weight: bold\">128</span>  <span style=\"font-weight: bold\">(</span> <span style=\"color: #008080; text-decoration-color: #008080; font-weight: bold\">69</span> <span style=\"font-weight: bold\">)</span>\n",
              "</pre>\n"
            ],
            "text/plain": [
              "Byte  \u001b[1;36m0\u001b[0m  Nibble \u001b[1;36m0\u001b[0m  -   Left Margin:   \u001b[1;36m128\u001b[0m  \u001b[1m(\u001b[0m \u001b[1;36m69\u001b[0m \u001b[1m)\u001b[0m  Center Point:   \u001b[1;36m167\u001b[0m  \u001b[1m(\u001b[0m \u001b[1;36m90\u001b[0m \u001b[1m)\u001b[0m  Right Margin:   \u001b[1;36m128\u001b[0m  \u001b[1m(\u001b[0m \u001b[1;36m69\u001b[0m \u001b[1m)\u001b[0m\n"
            ]
          },
          "metadata": {},
          "output_type": "display_data"
        },
        {
          "data": {
            "text/html": [
              "<pre style=\"white-space:pre;overflow-x:auto;line-height:normal;font-family:Menlo,'DejaVu Sans Mono',consolas,'Courier New',monospace\">Byte  <span style=\"color: #008080; text-decoration-color: #008080; font-weight: bold\">0</span>  Nibble <span style=\"color: #008080; text-decoration-color: #008080; font-weight: bold\">1</span>  -   Left Margin:   <span style=\"color: #008080; text-decoration-color: #008080; font-weight: bold\">142</span>  <span style=\"font-weight: bold\">(</span> <span style=\"color: #008080; text-decoration-color: #008080; font-weight: bold\">74</span> <span style=\"font-weight: bold\">)</span>  Center Point:   <span style=\"color: #008080; text-decoration-color: #008080; font-weight: bold\">187</span>  <span style=\"font-weight: bold\">(</span> <span style=\"color: #008080; text-decoration-color: #008080; font-weight: bold\">97</span> <span style=\"font-weight: bold\">)</span>  Right Margin:   <span style=\"color: #008080; text-decoration-color: #008080; font-weight: bold\">142</span>  <span style=\"font-weight: bold\">(</span> <span style=\"color: #008080; text-decoration-color: #008080; font-weight: bold\">74</span> <span style=\"font-weight: bold\">)</span>\n",
              "</pre>\n"
            ],
            "text/plain": [
              "Byte  \u001b[1;36m0\u001b[0m  Nibble \u001b[1;36m1\u001b[0m  -   Left Margin:   \u001b[1;36m142\u001b[0m  \u001b[1m(\u001b[0m \u001b[1;36m74\u001b[0m \u001b[1m)\u001b[0m  Center Point:   \u001b[1;36m187\u001b[0m  \u001b[1m(\u001b[0m \u001b[1;36m97\u001b[0m \u001b[1m)\u001b[0m  Right Margin:   \u001b[1;36m142\u001b[0m  \u001b[1m(\u001b[0m \u001b[1;36m74\u001b[0m \u001b[1m)\u001b[0m\n"
            ]
          },
          "metadata": {},
          "output_type": "display_data"
        },
        {
          "data": {
            "text/html": [
              "<pre style=\"white-space:pre;overflow-x:auto;line-height:normal;font-family:Menlo,'DejaVu Sans Mono',consolas,'Courier New',monospace\">Byte  <span style=\"color: #008080; text-decoration-color: #008080; font-weight: bold\">1</span>  Nibble <span style=\"color: #008080; text-decoration-color: #008080; font-weight: bold\">0</span>  -   Left Margin:   <span style=\"color: #008080; text-decoration-color: #008080; font-weight: bold\">134</span>  <span style=\"font-weight: bold\">(</span> <span style=\"color: #008080; text-decoration-color: #008080; font-weight: bold\">69</span> <span style=\"font-weight: bold\">)</span>  Center Point:   <span style=\"color: #008080; text-decoration-color: #008080; font-weight: bold\">176</span>  <span style=\"font-weight: bold\">(</span> <span style=\"color: #008080; text-decoration-color: #008080; font-weight: bold\">90</span> <span style=\"font-weight: bold\">)</span>  Right Margin:   <span style=\"color: #008080; text-decoration-color: #008080; font-weight: bold\">134</span>  <span style=\"font-weight: bold\">(</span> <span style=\"color: #008080; text-decoration-color: #008080; font-weight: bold\">69</span> <span style=\"font-weight: bold\">)</span>\n",
              "</pre>\n"
            ],
            "text/plain": [
              "Byte  \u001b[1;36m1\u001b[0m  Nibble \u001b[1;36m0\u001b[0m  -   Left Margin:   \u001b[1;36m134\u001b[0m  \u001b[1m(\u001b[0m \u001b[1;36m69\u001b[0m \u001b[1m)\u001b[0m  Center Point:   \u001b[1;36m176\u001b[0m  \u001b[1m(\u001b[0m \u001b[1;36m90\u001b[0m \u001b[1m)\u001b[0m  Right Margin:   \u001b[1;36m134\u001b[0m  \u001b[1m(\u001b[0m \u001b[1;36m69\u001b[0m \u001b[1m)\u001b[0m\n"
            ]
          },
          "metadata": {},
          "output_type": "display_data"
        },
        {
          "data": {
            "text/html": [
              "<pre style=\"white-space:pre;overflow-x:auto;line-height:normal;font-family:Menlo,'DejaVu Sans Mono',consolas,'Courier New',monospace\">Byte  <span style=\"color: #008080; text-decoration-color: #008080; font-weight: bold\">1</span>  Nibble <span style=\"color: #008080; text-decoration-color: #008080; font-weight: bold\">1</span>  -   Left Margin:   <span style=\"color: #008080; text-decoration-color: #008080; font-weight: bold\">133</span>  <span style=\"font-weight: bold\">(</span> <span style=\"color: #008080; text-decoration-color: #008080; font-weight: bold\">69</span> <span style=\"font-weight: bold\">)</span>  Center Point:   <span style=\"color: #008080; text-decoration-color: #008080; font-weight: bold\">176</span>  <span style=\"font-weight: bold\">(</span> <span style=\"color: #008080; text-decoration-color: #008080; font-weight: bold\">91</span> <span style=\"font-weight: bold\">)</span>  Right Margin:   <span style=\"color: #008080; text-decoration-color: #008080; font-weight: bold\">133</span>  <span style=\"font-weight: bold\">(</span> <span style=\"color: #008080; text-decoration-color: #008080; font-weight: bold\">69</span> <span style=\"font-weight: bold\">)</span>\n",
              "</pre>\n"
            ],
            "text/plain": [
              "Byte  \u001b[1;36m1\u001b[0m  Nibble \u001b[1;36m1\u001b[0m  -   Left Margin:   \u001b[1;36m133\u001b[0m  \u001b[1m(\u001b[0m \u001b[1;36m69\u001b[0m \u001b[1m)\u001b[0m  Center Point:   \u001b[1;36m176\u001b[0m  \u001b[1m(\u001b[0m \u001b[1;36m91\u001b[0m \u001b[1m)\u001b[0m  Right Margin:   \u001b[1;36m133\u001b[0m  \u001b[1m(\u001b[0m \u001b[1;36m69\u001b[0m \u001b[1m)\u001b[0m\n"
            ]
          },
          "metadata": {},
          "output_type": "display_data"
        },
        {
          "data": {
            "text/html": [
              "<pre style=\"white-space:pre;overflow-x:auto;line-height:normal;font-family:Menlo,'DejaVu Sans Mono',consolas,'Courier New',monospace\">Byte  <span style=\"color: #008080; text-decoration-color: #008080; font-weight: bold\">2</span>  Nibble <span style=\"color: #008080; text-decoration-color: #008080; font-weight: bold\">0</span>  -   Left Margin:   <span style=\"color: #008080; text-decoration-color: #008080; font-weight: bold\">130</span>  <span style=\"font-weight: bold\">(</span> <span style=\"color: #008080; text-decoration-color: #008080; font-weight: bold\">67</span> <span style=\"font-weight: bold\">)</span>  Center Point:   <span style=\"color: #008080; text-decoration-color: #008080; font-weight: bold\">178</span>  <span style=\"font-weight: bold\">(</span> <span style=\"color: #008080; text-decoration-color: #008080; font-weight: bold\">91</span> <span style=\"font-weight: bold\">)</span>  Right Margin:   <span style=\"color: #008080; text-decoration-color: #008080; font-weight: bold\">130</span>  <span style=\"font-weight: bold\">(</span> <span style=\"color: #008080; text-decoration-color: #008080; font-weight: bold\">67</span> <span style=\"font-weight: bold\">)</span>\n",
              "</pre>\n"
            ],
            "text/plain": [
              "Byte  \u001b[1;36m2\u001b[0m  Nibble \u001b[1;36m0\u001b[0m  -   Left Margin:   \u001b[1;36m130\u001b[0m  \u001b[1m(\u001b[0m \u001b[1;36m67\u001b[0m \u001b[1m)\u001b[0m  Center Point:   \u001b[1;36m178\u001b[0m  \u001b[1m(\u001b[0m \u001b[1;36m91\u001b[0m \u001b[1m)\u001b[0m  Right Margin:   \u001b[1;36m130\u001b[0m  \u001b[1m(\u001b[0m \u001b[1;36m67\u001b[0m \u001b[1m)\u001b[0m\n"
            ]
          },
          "metadata": {},
          "output_type": "display_data"
        },
        {
          "data": {
            "text/html": [
              "<pre style=\"white-space:pre;overflow-x:auto;line-height:normal;font-family:Menlo,'DejaVu Sans Mono',consolas,'Courier New',monospace\">Byte  <span style=\"color: #008080; text-decoration-color: #008080; font-weight: bold\">2</span>  Nibble <span style=\"color: #008080; text-decoration-color: #008080; font-weight: bold\">1</span>  -   Left Margin:   <span style=\"color: #008080; text-decoration-color: #008080; font-weight: bold\">130</span>  <span style=\"font-weight: bold\">(</span> <span style=\"color: #008080; text-decoration-color: #008080; font-weight: bold\">67</span> <span style=\"font-weight: bold\">)</span>  Center Point:   <span style=\"color: #008080; text-decoration-color: #008080; font-weight: bold\">180</span>  <span style=\"font-weight: bold\">(</span> <span style=\"color: #008080; text-decoration-color: #008080; font-weight: bold\">92</span> <span style=\"font-weight: bold\">)</span>  Right Margin:   <span style=\"color: #008080; text-decoration-color: #008080; font-weight: bold\">132</span>  <span style=\"font-weight: bold\">(</span> <span style=\"color: #008080; text-decoration-color: #008080; font-weight: bold\">68</span> <span style=\"font-weight: bold\">)</span>\n",
              "</pre>\n"
            ],
            "text/plain": [
              "Byte  \u001b[1;36m2\u001b[0m  Nibble \u001b[1;36m1\u001b[0m  -   Left Margin:   \u001b[1;36m130\u001b[0m  \u001b[1m(\u001b[0m \u001b[1;36m67\u001b[0m \u001b[1m)\u001b[0m  Center Point:   \u001b[1;36m180\u001b[0m  \u001b[1m(\u001b[0m \u001b[1;36m92\u001b[0m \u001b[1m)\u001b[0m  Right Margin:   \u001b[1;36m132\u001b[0m  \u001b[1m(\u001b[0m \u001b[1;36m68\u001b[0m \u001b[1m)\u001b[0m\n"
            ]
          },
          "metadata": {},
          "output_type": "display_data"
        },
        {
          "data": {
            "text/html": [
              "<pre style=\"white-space:pre;overflow-x:auto;line-height:normal;font-family:Menlo,'DejaVu Sans Mono',consolas,'Courier New',monospace\">Byte  <span style=\"color: #008080; text-decoration-color: #008080; font-weight: bold\">3</span>  Nibble <span style=\"color: #008080; text-decoration-color: #008080; font-weight: bold\">0</span>  -   Left Margin:   <span style=\"color: #008080; text-decoration-color: #008080; font-weight: bold\">132</span>  <span style=\"font-weight: bold\">(</span> <span style=\"color: #008080; text-decoration-color: #008080; font-weight: bold\">66</span> <span style=\"font-weight: bold\">)</span>  Center Point:   <span style=\"color: #008080; text-decoration-color: #008080; font-weight: bold\">174</span>  <span style=\"font-weight: bold\">(</span> <span style=\"color: #008080; text-decoration-color: #008080; font-weight: bold\">87</span> <span style=\"font-weight: bold\">)</span>  Right Margin:   <span style=\"color: #008080; text-decoration-color: #008080; font-weight: bold\">134</span>  <span style=\"font-weight: bold\">(</span> <span style=\"color: #008080; text-decoration-color: #008080; font-weight: bold\">67</span> <span style=\"font-weight: bold\">)</span>\n",
              "</pre>\n"
            ],
            "text/plain": [
              "Byte  \u001b[1;36m3\u001b[0m  Nibble \u001b[1;36m0\u001b[0m  -   Left Margin:   \u001b[1;36m132\u001b[0m  \u001b[1m(\u001b[0m \u001b[1;36m66\u001b[0m \u001b[1m)\u001b[0m  Center Point:   \u001b[1;36m174\u001b[0m  \u001b[1m(\u001b[0m \u001b[1;36m87\u001b[0m \u001b[1m)\u001b[0m  Right Margin:   \u001b[1;36m134\u001b[0m  \u001b[1m(\u001b[0m \u001b[1;36m67\u001b[0m \u001b[1m)\u001b[0m\n"
            ]
          },
          "metadata": {},
          "output_type": "display_data"
        },
        {
          "data": {
            "text/html": [
              "<pre style=\"white-space:pre;overflow-x:auto;line-height:normal;font-family:Menlo,'DejaVu Sans Mono',consolas,'Courier New',monospace\">Byte  <span style=\"color: #008080; text-decoration-color: #008080; font-weight: bold\">3</span>  Nibble <span style=\"color: #008080; text-decoration-color: #008080; font-weight: bold\">1</span>  -   Left Margin:   <span style=\"color: #008080; text-decoration-color: #008080; font-weight: bold\">132</span>  <span style=\"font-weight: bold\">(</span> <span style=\"color: #008080; text-decoration-color: #008080; font-weight: bold\">68</span> <span style=\"font-weight: bold\">)</span>  Center Point:   <span style=\"color: #008080; text-decoration-color: #008080; font-weight: bold\">174</span>  <span style=\"font-weight: bold\">(</span> <span style=\"color: #008080; text-decoration-color: #008080; font-weight: bold\">89</span> <span style=\"font-weight: bold\">)</span>  Right Margin:   <span style=\"color: #008080; text-decoration-color: #008080; font-weight: bold\">134</span>  <span style=\"font-weight: bold\">(</span> <span style=\"color: #008080; text-decoration-color: #008080; font-weight: bold\">69</span> <span style=\"font-weight: bold\">)</span>\n",
              "</pre>\n"
            ],
            "text/plain": [
              "Byte  \u001b[1;36m3\u001b[0m  Nibble \u001b[1;36m1\u001b[0m  -   Left Margin:   \u001b[1;36m132\u001b[0m  \u001b[1m(\u001b[0m \u001b[1;36m68\u001b[0m \u001b[1m)\u001b[0m  Center Point:   \u001b[1;36m174\u001b[0m  \u001b[1m(\u001b[0m \u001b[1;36m89\u001b[0m \u001b[1m)\u001b[0m  Right Margin:   \u001b[1;36m134\u001b[0m  \u001b[1m(\u001b[0m \u001b[1;36m69\u001b[0m \u001b[1m)\u001b[0m\n"
            ]
          },
          "metadata": {},
          "output_type": "display_data"
        },
        {
          "data": {
            "text/html": [
              "<pre style=\"white-space:pre;overflow-x:auto;line-height:normal;font-family:Menlo,'DejaVu Sans Mono',consolas,'Courier New',monospace\">Byte  <span style=\"color: #008080; text-decoration-color: #008080; font-weight: bold\">4</span>  Nibble <span style=\"color: #008080; text-decoration-color: #008080; font-weight: bold\">0</span>  -   Left Margin:   <span style=\"color: #008080; text-decoration-color: #008080; font-weight: bold\">128</span>  <span style=\"font-weight: bold\">(</span> <span style=\"color: #008080; text-decoration-color: #008080; font-weight: bold\">66</span> <span style=\"font-weight: bold\">)</span>  Center Point:   <span style=\"color: #008080; text-decoration-color: #008080; font-weight: bold\">170</span>  <span style=\"font-weight: bold\">(</span> <span style=\"color: #008080; text-decoration-color: #008080; font-weight: bold\">87</span> <span style=\"font-weight: bold\">)</span>  Right Margin:   <span style=\"color: #008080; text-decoration-color: #008080; font-weight: bold\">128</span>  <span style=\"font-weight: bold\">(</span> <span style=\"color: #008080; text-decoration-color: #008080; font-weight: bold\">66</span> <span style=\"font-weight: bold\">)</span>\n",
              "</pre>\n"
            ],
            "text/plain": [
              "Byte  \u001b[1;36m4\u001b[0m  Nibble \u001b[1;36m0\u001b[0m  -   Left Margin:   \u001b[1;36m128\u001b[0m  \u001b[1m(\u001b[0m \u001b[1;36m66\u001b[0m \u001b[1m)\u001b[0m  Center Point:   \u001b[1;36m170\u001b[0m  \u001b[1m(\u001b[0m \u001b[1;36m87\u001b[0m \u001b[1m)\u001b[0m  Right Margin:   \u001b[1;36m128\u001b[0m  \u001b[1m(\u001b[0m \u001b[1;36m66\u001b[0m \u001b[1m)\u001b[0m\n"
            ]
          },
          "metadata": {},
          "output_type": "display_data"
        },
        {
          "data": {
            "text/html": [
              "<pre style=\"white-space:pre;overflow-x:auto;line-height:normal;font-family:Menlo,'DejaVu Sans Mono',consolas,'Courier New',monospace\">Byte  <span style=\"color: #008080; text-decoration-color: #008080; font-weight: bold\">4</span>  Nibble <span style=\"color: #008080; text-decoration-color: #008080; font-weight: bold\">1</span>  -   Left Margin:   <span style=\"color: #008080; text-decoration-color: #008080; font-weight: bold\">138</span>  <span style=\"font-weight: bold\">(</span> <span style=\"color: #008080; text-decoration-color: #008080; font-weight: bold\">70</span> <span style=\"font-weight: bold\">)</span>  Center Point:   <span style=\"color: #008080; text-decoration-color: #008080; font-weight: bold\">186</span>  <span style=\"font-weight: bold\">(</span> <span style=\"color: #008080; text-decoration-color: #008080; font-weight: bold\">94</span> <span style=\"font-weight: bold\">)</span>  Right Margin:   <span style=\"color: #008080; text-decoration-color: #008080; font-weight: bold\">138</span>  <span style=\"font-weight: bold\">(</span> <span style=\"color: #008080; text-decoration-color: #008080; font-weight: bold\">70</span> <span style=\"font-weight: bold\">)</span>\n",
              "</pre>\n"
            ],
            "text/plain": [
              "Byte  \u001b[1;36m4\u001b[0m  Nibble \u001b[1;36m1\u001b[0m  -   Left Margin:   \u001b[1;36m138\u001b[0m  \u001b[1m(\u001b[0m \u001b[1;36m70\u001b[0m \u001b[1m)\u001b[0m  Center Point:   \u001b[1;36m186\u001b[0m  \u001b[1m(\u001b[0m \u001b[1;36m94\u001b[0m \u001b[1m)\u001b[0m  Right Margin:   \u001b[1;36m138\u001b[0m  \u001b[1m(\u001b[0m \u001b[1;36m70\u001b[0m \u001b[1m)\u001b[0m\n"
            ]
          },
          "metadata": {},
          "output_type": "display_data"
        },
        {
          "data": {
            "text/html": [
              "<pre style=\"white-space:pre;overflow-x:auto;line-height:normal;font-family:Menlo,'DejaVu Sans Mono',consolas,'Courier New',monospace\">Byte  <span style=\"color: #008080; text-decoration-color: #008080; font-weight: bold\">5</span>  Nibble <span style=\"color: #008080; text-decoration-color: #008080; font-weight: bold\">0</span>  -   Left Margin:   <span style=\"color: #008080; text-decoration-color: #008080; font-weight: bold\">134</span>  <span style=\"font-weight: bold\">(</span> <span style=\"color: #008080; text-decoration-color: #008080; font-weight: bold\">68</span> <span style=\"font-weight: bold\">)</span>  Center Point:   <span style=\"color: #008080; text-decoration-color: #008080; font-weight: bold\">178</span>  <span style=\"font-weight: bold\">(</span> <span style=\"color: #008080; text-decoration-color: #008080; font-weight: bold\">90</span> <span style=\"font-weight: bold\">)</span>  Right Margin:   <span style=\"color: #008080; text-decoration-color: #008080; font-weight: bold\">136</span>  <span style=\"font-weight: bold\">(</span> <span style=\"color: #008080; text-decoration-color: #008080; font-weight: bold\">69</span> <span style=\"font-weight: bold\">)</span>\n",
              "</pre>\n"
            ],
            "text/plain": [
              "Byte  \u001b[1;36m5\u001b[0m  Nibble \u001b[1;36m0\u001b[0m  -   Left Margin:   \u001b[1;36m134\u001b[0m  \u001b[1m(\u001b[0m \u001b[1;36m68\u001b[0m \u001b[1m)\u001b[0m  Center Point:   \u001b[1;36m178\u001b[0m  \u001b[1m(\u001b[0m \u001b[1;36m90\u001b[0m \u001b[1m)\u001b[0m  Right Margin:   \u001b[1;36m136\u001b[0m  \u001b[1m(\u001b[0m \u001b[1;36m69\u001b[0m \u001b[1m)\u001b[0m\n"
            ]
          },
          "metadata": {},
          "output_type": "display_data"
        },
        {
          "data": {
            "text/html": [
              "<pre style=\"white-space:pre;overflow-x:auto;line-height:normal;font-family:Menlo,'DejaVu Sans Mono',consolas,'Courier New',monospace\">Byte  <span style=\"color: #008080; text-decoration-color: #008080; font-weight: bold\">5</span>  Nibble <span style=\"color: #008080; text-decoration-color: #008080; font-weight: bold\">1</span>  -   Left Margin:   <span style=\"color: #008080; text-decoration-color: #008080; font-weight: bold\">136</span>  <span style=\"font-weight: bold\">(</span> <span style=\"color: #008080; text-decoration-color: #008080; font-weight: bold\">70</span> <span style=\"font-weight: bold\">)</span>  Center Point:   <span style=\"color: #008080; text-decoration-color: #008080; font-weight: bold\">193</span>  <span style=\"font-weight: bold\">(</span> <span style=\"color: #008080; text-decoration-color: #008080; font-weight: bold\">99</span> <span style=\"font-weight: bold\">)</span>  Right Margin:   <span style=\"color: #008080; text-decoration-color: #008080; font-weight: bold\">136</span>  <span style=\"font-weight: bold\">(</span> <span style=\"color: #008080; text-decoration-color: #008080; font-weight: bold\">70</span> <span style=\"font-weight: bold\">)</span>\n",
              "</pre>\n"
            ],
            "text/plain": [
              "Byte  \u001b[1;36m5\u001b[0m  Nibble \u001b[1;36m1\u001b[0m  -   Left Margin:   \u001b[1;36m136\u001b[0m  \u001b[1m(\u001b[0m \u001b[1;36m70\u001b[0m \u001b[1m)\u001b[0m  Center Point:   \u001b[1;36m193\u001b[0m  \u001b[1m(\u001b[0m \u001b[1;36m99\u001b[0m \u001b[1m)\u001b[0m  Right Margin:   \u001b[1;36m136\u001b[0m  \u001b[1m(\u001b[0m \u001b[1;36m70\u001b[0m \u001b[1m)\u001b[0m\n"
            ]
          },
          "metadata": {},
          "output_type": "display_data"
        },
        {
          "data": {
            "text/html": [
              "<pre style=\"white-space:pre;overflow-x:auto;line-height:normal;font-family:Menlo,'DejaVu Sans Mono',consolas,'Courier New',monospace\">Byte  <span style=\"color: #008080; text-decoration-color: #008080; font-weight: bold\">6</span>  Nibble <span style=\"color: #008080; text-decoration-color: #008080; font-weight: bold\">0</span>  -   Left Margin:   <span style=\"color: #008080; text-decoration-color: #008080; font-weight: bold\">132</span>  <span style=\"font-weight: bold\">(</span> <span style=\"color: #008080; text-decoration-color: #008080; font-weight: bold\">68</span> <span style=\"font-weight: bold\">)</span>  Center Point:   <span style=\"color: #008080; text-decoration-color: #008080; font-weight: bold\">178</span>  <span style=\"font-weight: bold\">(</span> <span style=\"color: #008080; text-decoration-color: #008080; font-weight: bold\">91</span> <span style=\"font-weight: bold\">)</span>  Right Margin:   <span style=\"color: #008080; text-decoration-color: #008080; font-weight: bold\">132</span>  <span style=\"font-weight: bold\">(</span> <span style=\"color: #008080; text-decoration-color: #008080; font-weight: bold\">68</span> <span style=\"font-weight: bold\">)</span>\n",
              "</pre>\n"
            ],
            "text/plain": [
              "Byte  \u001b[1;36m6\u001b[0m  Nibble \u001b[1;36m0\u001b[0m  -   Left Margin:   \u001b[1;36m132\u001b[0m  \u001b[1m(\u001b[0m \u001b[1;36m68\u001b[0m \u001b[1m)\u001b[0m  Center Point:   \u001b[1;36m178\u001b[0m  \u001b[1m(\u001b[0m \u001b[1;36m91\u001b[0m \u001b[1m)\u001b[0m  Right Margin:   \u001b[1;36m132\u001b[0m  \u001b[1m(\u001b[0m \u001b[1;36m68\u001b[0m \u001b[1m)\u001b[0m\n"
            ]
          },
          "metadata": {},
          "output_type": "display_data"
        },
        {
          "data": {
            "text/html": [
              "<pre style=\"white-space:pre;overflow-x:auto;line-height:normal;font-family:Menlo,'DejaVu Sans Mono',consolas,'Courier New',monospace\">Byte  <span style=\"color: #008080; text-decoration-color: #008080; font-weight: bold\">6</span>  Nibble <span style=\"color: #008080; text-decoration-color: #008080; font-weight: bold\">1</span>  -   Left Margin:   <span style=\"color: #008080; text-decoration-color: #008080; font-weight: bold\">138</span>  <span style=\"font-weight: bold\">(</span> <span style=\"color: #008080; text-decoration-color: #008080; font-weight: bold\">71</span> <span style=\"font-weight: bold\">)</span>  Center Point:   <span style=\"color: #008080; text-decoration-color: #008080; font-weight: bold\">189</span>  <span style=\"font-weight: bold\">(</span> <span style=\"color: #008080; text-decoration-color: #008080; font-weight: bold\">97</span> <span style=\"font-weight: bold\">)</span>  Right Margin:   <span style=\"color: #008080; text-decoration-color: #008080; font-weight: bold\">140</span>  <span style=\"font-weight: bold\">(</span> <span style=\"color: #008080; text-decoration-color: #008080; font-weight: bold\">72</span> <span style=\"font-weight: bold\">)</span>\n",
              "</pre>\n"
            ],
            "text/plain": [
              "Byte  \u001b[1;36m6\u001b[0m  Nibble \u001b[1;36m1\u001b[0m  -   Left Margin:   \u001b[1;36m138\u001b[0m  \u001b[1m(\u001b[0m \u001b[1;36m71\u001b[0m \u001b[1m)\u001b[0m  Center Point:   \u001b[1;36m189\u001b[0m  \u001b[1m(\u001b[0m \u001b[1;36m97\u001b[0m \u001b[1m)\u001b[0m  Right Margin:   \u001b[1;36m140\u001b[0m  \u001b[1m(\u001b[0m \u001b[1;36m72\u001b[0m \u001b[1m)\u001b[0m\n"
            ]
          },
          "metadata": {},
          "output_type": "display_data"
        },
        {
          "data": {
            "text/html": [
              "<pre style=\"white-space:pre;overflow-x:auto;line-height:normal;font-family:Menlo,'DejaVu Sans Mono',consolas,'Courier New',monospace\">Byte  <span style=\"color: #008080; text-decoration-color: #008080; font-weight: bold\">7</span>  Nibble <span style=\"color: #008080; text-decoration-color: #008080; font-weight: bold\">0</span>  -   Left Margin:   <span style=\"color: #008080; text-decoration-color: #008080; font-weight: bold\">134</span>  <span style=\"font-weight: bold\">(</span> <span style=\"color: #008080; text-decoration-color: #008080; font-weight: bold\">69</span> <span style=\"font-weight: bold\">)</span>  Center Point:   <span style=\"color: #008080; text-decoration-color: #008080; font-weight: bold\">176</span>  <span style=\"font-weight: bold\">(</span> <span style=\"color: #008080; text-decoration-color: #008080; font-weight: bold\">90</span> <span style=\"font-weight: bold\">)</span>  Right Margin:   <span style=\"color: #008080; text-decoration-color: #008080; font-weight: bold\">136</span>  <span style=\"font-weight: bold\">(</span> <span style=\"color: #008080; text-decoration-color: #008080; font-weight: bold\">70</span> <span style=\"font-weight: bold\">)</span>\n",
              "</pre>\n"
            ],
            "text/plain": [
              "Byte  \u001b[1;36m7\u001b[0m  Nibble \u001b[1;36m0\u001b[0m  -   Left Margin:   \u001b[1;36m134\u001b[0m  \u001b[1m(\u001b[0m \u001b[1;36m69\u001b[0m \u001b[1m)\u001b[0m  Center Point:   \u001b[1;36m176\u001b[0m  \u001b[1m(\u001b[0m \u001b[1;36m90\u001b[0m \u001b[1m)\u001b[0m  Right Margin:   \u001b[1;36m136\u001b[0m  \u001b[1m(\u001b[0m \u001b[1;36m70\u001b[0m \u001b[1m)\u001b[0m\n"
            ]
          },
          "metadata": {},
          "output_type": "display_data"
        },
        {
          "data": {
            "text/html": [
              "<pre style=\"white-space:pre;overflow-x:auto;line-height:normal;font-family:Menlo,'DejaVu Sans Mono',consolas,'Courier New',monospace\">Byte  <span style=\"color: #008080; text-decoration-color: #008080; font-weight: bold\">7</span>  Nibble <span style=\"color: #008080; text-decoration-color: #008080; font-weight: bold\">1</span>  -   Left Margin:   <span style=\"color: #008080; text-decoration-color: #008080; font-weight: bold\">136</span>  <span style=\"font-weight: bold\">(</span> <span style=\"color: #008080; text-decoration-color: #008080; font-weight: bold\">71</span> <span style=\"font-weight: bold\">)</span>  Center Point:   <span style=\"color: #008080; text-decoration-color: #008080; font-weight: bold\">179</span>  <span style=\"font-weight: bold\">(</span> <span style=\"color: #008080; text-decoration-color: #008080; font-weight: bold\">93</span> <span style=\"font-weight: bold\">)</span>  Right Margin:   <span style=\"color: #008080; text-decoration-color: #008080; font-weight: bold\">138</span>  <span style=\"font-weight: bold\">(</span> <span style=\"color: #008080; text-decoration-color: #008080; font-weight: bold\">72</span> <span style=\"font-weight: bold\">)</span>\n",
              "</pre>\n"
            ],
            "text/plain": [
              "Byte  \u001b[1;36m7\u001b[0m  Nibble \u001b[1;36m1\u001b[0m  -   Left Margin:   \u001b[1;36m136\u001b[0m  \u001b[1m(\u001b[0m \u001b[1;36m71\u001b[0m \u001b[1m)\u001b[0m  Center Point:   \u001b[1;36m179\u001b[0m  \u001b[1m(\u001b[0m \u001b[1;36m93\u001b[0m \u001b[1m)\u001b[0m  Right Margin:   \u001b[1;36m138\u001b[0m  \u001b[1m(\u001b[0m \u001b[1;36m72\u001b[0m \u001b[1m)\u001b[0m\n"
            ]
          },
          "metadata": {},
          "output_type": "display_data"
        },
        {
          "data": {
            "text/html": [
              "<pre style=\"white-space:pre;overflow-x:auto;line-height:normal;font-family:Menlo,'DejaVu Sans Mono',consolas,'Courier New',monospace\">\n",
              " Frequency <span style=\"color: #008080; text-decoration-color: #008080; font-weight: bold\">0</span>  - Read Margin - Complex Pattern - Falling Edge Clock in pS and <span style=\"font-weight: bold\">(</span>delay taps<span style=\"font-weight: bold\">)</span>:\n",
              "\n",
              "</pre>\n"
            ],
            "text/plain": [
              "\n",
              " Frequency \u001b[1;36m0\u001b[0m  - Read Margin - Complex Pattern - Falling Edge Clock in pS and \u001b[1m(\u001b[0mdelay taps\u001b[1m)\u001b[0m:\n",
              "\n"
            ]
          },
          "metadata": {},
          "output_type": "display_data"
        },
        {
          "data": {
            "text/html": [
              "<pre style=\"white-space:pre;overflow-x:auto;line-height:normal;font-family:Menlo,'DejaVu Sans Mono',consolas,'Courier New',monospace\">Byte  <span style=\"color: #008080; text-decoration-color: #008080; font-weight: bold\">0</span>  Nibble <span style=\"color: #008080; text-decoration-color: #008080; font-weight: bold\">0</span>  -   Left Margin:   <span style=\"color: #008080; text-decoration-color: #008080; font-weight: bold\">123</span>  <span style=\"font-weight: bold\">(</span> <span style=\"color: #008080; text-decoration-color: #008080; font-weight: bold\">64</span> <span style=\"font-weight: bold\">)</span>  Center Point:   <span style=\"color: #008080; text-decoration-color: #008080; font-weight: bold\">162</span>  <span style=\"font-weight: bold\">(</span> <span style=\"color: #008080; text-decoration-color: #008080; font-weight: bold\">84</span> <span style=\"font-weight: bold\">)</span>  Right Margin:   <span style=\"color: #008080; text-decoration-color: #008080; font-weight: bold\">123</span>  <span style=\"font-weight: bold\">(</span> <span style=\"color: #008080; text-decoration-color: #008080; font-weight: bold\">64</span> <span style=\"font-weight: bold\">)</span>\n",
              "</pre>\n"
            ],
            "text/plain": [
              "Byte  \u001b[1;36m0\u001b[0m  Nibble \u001b[1;36m0\u001b[0m  -   Left Margin:   \u001b[1;36m123\u001b[0m  \u001b[1m(\u001b[0m \u001b[1;36m64\u001b[0m \u001b[1m)\u001b[0m  Center Point:   \u001b[1;36m162\u001b[0m  \u001b[1m(\u001b[0m \u001b[1;36m84\u001b[0m \u001b[1m)\u001b[0m  Right Margin:   \u001b[1;36m123\u001b[0m  \u001b[1m(\u001b[0m \u001b[1;36m64\u001b[0m \u001b[1m)\u001b[0m\n"
            ]
          },
          "metadata": {},
          "output_type": "display_data"
        },
        {
          "data": {
            "text/html": [
              "<pre style=\"white-space:pre;overflow-x:auto;line-height:normal;font-family:Menlo,'DejaVu Sans Mono',consolas,'Courier New',monospace\">Byte  <span style=\"color: #008080; text-decoration-color: #008080; font-weight: bold\">0</span>  Nibble <span style=\"color: #008080; text-decoration-color: #008080; font-weight: bold\">1</span>  -   Left Margin:   <span style=\"color: #008080; text-decoration-color: #008080; font-weight: bold\">121</span>  <span style=\"font-weight: bold\">(</span> <span style=\"color: #008080; text-decoration-color: #008080; font-weight: bold\">64</span> <span style=\"font-weight: bold\">)</span>  Center Point:   <span style=\"color: #008080; text-decoration-color: #008080; font-weight: bold\">173</span>  <span style=\"font-weight: bold\">(</span> <span style=\"color: #008080; text-decoration-color: #008080; font-weight: bold\">91</span> <span style=\"font-weight: bold\">)</span>  Right Margin:   <span style=\"color: #008080; text-decoration-color: #008080; font-weight: bold\">123</span>  <span style=\"font-weight: bold\">(</span> <span style=\"color: #008080; text-decoration-color: #008080; font-weight: bold\">65</span> <span style=\"font-weight: bold\">)</span>\n",
              "</pre>\n"
            ],
            "text/plain": [
              "Byte  \u001b[1;36m0\u001b[0m  Nibble \u001b[1;36m1\u001b[0m  -   Left Margin:   \u001b[1;36m121\u001b[0m  \u001b[1m(\u001b[0m \u001b[1;36m64\u001b[0m \u001b[1m)\u001b[0m  Center Point:   \u001b[1;36m173\u001b[0m  \u001b[1m(\u001b[0m \u001b[1;36m91\u001b[0m \u001b[1m)\u001b[0m  Right Margin:   \u001b[1;36m123\u001b[0m  \u001b[1m(\u001b[0m \u001b[1;36m65\u001b[0m \u001b[1m)\u001b[0m\n"
            ]
          },
          "metadata": {},
          "output_type": "display_data"
        },
        {
          "data": {
            "text/html": [
              "<pre style=\"white-space:pre;overflow-x:auto;line-height:normal;font-family:Menlo,'DejaVu Sans Mono',consolas,'Courier New',monospace\">Byte  <span style=\"color: #008080; text-decoration-color: #008080; font-weight: bold\">1</span>  Nibble <span style=\"color: #008080; text-decoration-color: #008080; font-weight: bold\">0</span>  -   Left Margin:   <span style=\"color: #008080; text-decoration-color: #008080; font-weight: bold\">121</span>  <span style=\"font-weight: bold\">(</span> <span style=\"color: #008080; text-decoration-color: #008080; font-weight: bold\">63</span> <span style=\"font-weight: bold\">)</span>  Center Point:   <span style=\"color: #008080; text-decoration-color: #008080; font-weight: bold\">172</span>  <span style=\"font-weight: bold\">(</span> <span style=\"color: #008080; text-decoration-color: #008080; font-weight: bold\">89</span> <span style=\"font-weight: bold\">)</span>  Right Margin:   <span style=\"color: #008080; text-decoration-color: #008080; font-weight: bold\">121</span>  <span style=\"font-weight: bold\">(</span> <span style=\"color: #008080; text-decoration-color: #008080; font-weight: bold\">63</span> <span style=\"font-weight: bold\">)</span>\n",
              "</pre>\n"
            ],
            "text/plain": [
              "Byte  \u001b[1;36m1\u001b[0m  Nibble \u001b[1;36m0\u001b[0m  -   Left Margin:   \u001b[1;36m121\u001b[0m  \u001b[1m(\u001b[0m \u001b[1;36m63\u001b[0m \u001b[1m)\u001b[0m  Center Point:   \u001b[1;36m172\u001b[0m  \u001b[1m(\u001b[0m \u001b[1;36m89\u001b[0m \u001b[1m)\u001b[0m  Right Margin:   \u001b[1;36m121\u001b[0m  \u001b[1m(\u001b[0m \u001b[1;36m63\u001b[0m \u001b[1m)\u001b[0m\n"
            ]
          },
          "metadata": {},
          "output_type": "display_data"
        },
        {
          "data": {
            "text/html": [
              "<pre style=\"white-space:pre;overflow-x:auto;line-height:normal;font-family:Menlo,'DejaVu Sans Mono',consolas,'Courier New',monospace\">Byte  <span style=\"color: #008080; text-decoration-color: #008080; font-weight: bold\">1</span>  Nibble <span style=\"color: #008080; text-decoration-color: #008080; font-weight: bold\">1</span>  -   Left Margin:   <span style=\"color: #008080; text-decoration-color: #008080; font-weight: bold\">118</span>  <span style=\"font-weight: bold\">(</span> <span style=\"color: #008080; text-decoration-color: #008080; font-weight: bold\">62</span> <span style=\"font-weight: bold\">)</span>  Center Point:   <span style=\"color: #008080; text-decoration-color: #008080; font-weight: bold\">171</span>  <span style=\"font-weight: bold\">(</span> <span style=\"color: #008080; text-decoration-color: #008080; font-weight: bold\">90</span> <span style=\"font-weight: bold\">)</span>  Right Margin:   <span style=\"color: #008080; text-decoration-color: #008080; font-weight: bold\">120</span>  <span style=\"font-weight: bold\">(</span> <span style=\"color: #008080; text-decoration-color: #008080; font-weight: bold\">63</span> <span style=\"font-weight: bold\">)</span>\n",
              "</pre>\n"
            ],
            "text/plain": [
              "Byte  \u001b[1;36m1\u001b[0m  Nibble \u001b[1;36m1\u001b[0m  -   Left Margin:   \u001b[1;36m118\u001b[0m  \u001b[1m(\u001b[0m \u001b[1;36m62\u001b[0m \u001b[1m)\u001b[0m  Center Point:   \u001b[1;36m171\u001b[0m  \u001b[1m(\u001b[0m \u001b[1;36m90\u001b[0m \u001b[1m)\u001b[0m  Right Margin:   \u001b[1;36m120\u001b[0m  \u001b[1m(\u001b[0m \u001b[1;36m63\u001b[0m \u001b[1m)\u001b[0m\n"
            ]
          },
          "metadata": {},
          "output_type": "display_data"
        },
        {
          "data": {
            "text/html": [
              "<pre style=\"white-space:pre;overflow-x:auto;line-height:normal;font-family:Menlo,'DejaVu Sans Mono',consolas,'Courier New',monospace\">Byte  <span style=\"color: #008080; text-decoration-color: #008080; font-weight: bold\">2</span>  Nibble <span style=\"color: #008080; text-decoration-color: #008080; font-weight: bold\">0</span>  -   Left Margin:   <span style=\"color: #008080; text-decoration-color: #008080; font-weight: bold\">114</span>  <span style=\"font-weight: bold\">(</span> <span style=\"color: #008080; text-decoration-color: #008080; font-weight: bold\">60</span> <span style=\"font-weight: bold\">)</span>  Center Point:   <span style=\"color: #008080; text-decoration-color: #008080; font-weight: bold\">170</span>  <span style=\"font-weight: bold\">(</span> <span style=\"color: #008080; text-decoration-color: #008080; font-weight: bold\">89</span> <span style=\"font-weight: bold\">)</span>  Right Margin:   <span style=\"color: #008080; text-decoration-color: #008080; font-weight: bold\">116</span>  <span style=\"font-weight: bold\">(</span> <span style=\"color: #008080; text-decoration-color: #008080; font-weight: bold\">61</span> <span style=\"font-weight: bold\">)</span>\n",
              "</pre>\n"
            ],
            "text/plain": [
              "Byte  \u001b[1;36m2\u001b[0m  Nibble \u001b[1;36m0\u001b[0m  -   Left Margin:   \u001b[1;36m114\u001b[0m  \u001b[1m(\u001b[0m \u001b[1;36m60\u001b[0m \u001b[1m)\u001b[0m  Center Point:   \u001b[1;36m170\u001b[0m  \u001b[1m(\u001b[0m \u001b[1;36m89\u001b[0m \u001b[1m)\u001b[0m  Right Margin:   \u001b[1;36m116\u001b[0m  \u001b[1m(\u001b[0m \u001b[1;36m61\u001b[0m \u001b[1m)\u001b[0m\n"
            ]
          },
          "metadata": {},
          "output_type": "display_data"
        },
        {
          "data": {
            "text/html": [
              "<pre style=\"white-space:pre;overflow-x:auto;line-height:normal;font-family:Menlo,'DejaVu Sans Mono',consolas,'Courier New',monospace\">Byte  <span style=\"color: #008080; text-decoration-color: #008080; font-weight: bold\">2</span>  Nibble <span style=\"color: #008080; text-decoration-color: #008080; font-weight: bold\">1</span>  -   Left Margin:   <span style=\"color: #008080; text-decoration-color: #008080; font-weight: bold\">112</span>  <span style=\"font-weight: bold\">(</span> <span style=\"color: #008080; text-decoration-color: #008080; font-weight: bold\">60</span> <span style=\"font-weight: bold\">)</span>  Center Point:   <span style=\"color: #008080; text-decoration-color: #008080; font-weight: bold\">168</span>  <span style=\"font-weight: bold\">(</span> <span style=\"color: #008080; text-decoration-color: #008080; font-weight: bold\">89</span> <span style=\"font-weight: bold\">)</span>  Right Margin:   <span style=\"color: #008080; text-decoration-color: #008080; font-weight: bold\">112</span>  <span style=\"font-weight: bold\">(</span> <span style=\"color: #008080; text-decoration-color: #008080; font-weight: bold\">60</span> <span style=\"font-weight: bold\">)</span>\n",
              "</pre>\n"
            ],
            "text/plain": [
              "Byte  \u001b[1;36m2\u001b[0m  Nibble \u001b[1;36m1\u001b[0m  -   Left Margin:   \u001b[1;36m112\u001b[0m  \u001b[1m(\u001b[0m \u001b[1;36m60\u001b[0m \u001b[1m)\u001b[0m  Center Point:   \u001b[1;36m168\u001b[0m  \u001b[1m(\u001b[0m \u001b[1;36m89\u001b[0m \u001b[1m)\u001b[0m  Right Margin:   \u001b[1;36m112\u001b[0m  \u001b[1m(\u001b[0m \u001b[1;36m60\u001b[0m \u001b[1m)\u001b[0m\n"
            ]
          },
          "metadata": {},
          "output_type": "display_data"
        },
        {
          "data": {
            "text/html": [
              "<pre style=\"white-space:pre;overflow-x:auto;line-height:normal;font-family:Menlo,'DejaVu Sans Mono',consolas,'Courier New',monospace\">Byte  <span style=\"color: #008080; text-decoration-color: #008080; font-weight: bold\">3</span>  Nibble <span style=\"color: #008080; text-decoration-color: #008080; font-weight: bold\">0</span>  -   Left Margin:   <span style=\"color: #008080; text-decoration-color: #008080; font-weight: bold\">115</span>  <span style=\"font-weight: bold\">(</span> <span style=\"color: #008080; text-decoration-color: #008080; font-weight: bold\">60</span> <span style=\"font-weight: bold\">)</span>  Center Point:   <span style=\"color: #008080; text-decoration-color: #008080; font-weight: bold\">170</span>  <span style=\"font-weight: bold\">(</span> <span style=\"color: #008080; text-decoration-color: #008080; font-weight: bold\">88</span> <span style=\"font-weight: bold\">)</span>  Right Margin:   <span style=\"color: #008080; text-decoration-color: #008080; font-weight: bold\">115</span>  <span style=\"font-weight: bold\">(</span> <span style=\"color: #008080; text-decoration-color: #008080; font-weight: bold\">60</span> <span style=\"font-weight: bold\">)</span>\n",
              "</pre>\n"
            ],
            "text/plain": [
              "Byte  \u001b[1;36m3\u001b[0m  Nibble \u001b[1;36m0\u001b[0m  -   Left Margin:   \u001b[1;36m115\u001b[0m  \u001b[1m(\u001b[0m \u001b[1;36m60\u001b[0m \u001b[1m)\u001b[0m  Center Point:   \u001b[1;36m170\u001b[0m  \u001b[1m(\u001b[0m \u001b[1;36m88\u001b[0m \u001b[1m)\u001b[0m  Right Margin:   \u001b[1;36m115\u001b[0m  \u001b[1m(\u001b[0m \u001b[1;36m60\u001b[0m \u001b[1m)\u001b[0m\n"
            ]
          },
          "metadata": {},
          "output_type": "display_data"
        },
        {
          "data": {
            "text/html": [
              "<pre style=\"white-space:pre;overflow-x:auto;line-height:normal;font-family:Menlo,'DejaVu Sans Mono',consolas,'Courier New',monospace\">Byte  <span style=\"color: #008080; text-decoration-color: #008080; font-weight: bold\">3</span>  Nibble <span style=\"color: #008080; text-decoration-color: #008080; font-weight: bold\">1</span>  -   Left Margin:   <span style=\"color: #008080; text-decoration-color: #008080; font-weight: bold\">119</span>  <span style=\"font-weight: bold\">(</span> <span style=\"color: #008080; text-decoration-color: #008080; font-weight: bold\">62</span> <span style=\"font-weight: bold\">)</span>  Center Point:   <span style=\"color: #008080; text-decoration-color: #008080; font-weight: bold\">170</span>  <span style=\"font-weight: bold\">(</span> <span style=\"color: #008080; text-decoration-color: #008080; font-weight: bold\">88</span> <span style=\"font-weight: bold\">)</span>  Right Margin:   <span style=\"color: #008080; text-decoration-color: #008080; font-weight: bold\">119</span>  <span style=\"font-weight: bold\">(</span> <span style=\"color: #008080; text-decoration-color: #008080; font-weight: bold\">62</span> <span style=\"font-weight: bold\">)</span>\n",
              "</pre>\n"
            ],
            "text/plain": [
              "Byte  \u001b[1;36m3\u001b[0m  Nibble \u001b[1;36m1\u001b[0m  -   Left Margin:   \u001b[1;36m119\u001b[0m  \u001b[1m(\u001b[0m \u001b[1;36m62\u001b[0m \u001b[1m)\u001b[0m  Center Point:   \u001b[1;36m170\u001b[0m  \u001b[1m(\u001b[0m \u001b[1;36m88\u001b[0m \u001b[1m)\u001b[0m  Right Margin:   \u001b[1;36m119\u001b[0m  \u001b[1m(\u001b[0m \u001b[1;36m62\u001b[0m \u001b[1m)\u001b[0m\n"
            ]
          },
          "metadata": {},
          "output_type": "display_data"
        },
        {
          "data": {
            "text/html": [
              "<pre style=\"white-space:pre;overflow-x:auto;line-height:normal;font-family:Menlo,'DejaVu Sans Mono',consolas,'Courier New',monospace\">Byte  <span style=\"color: #008080; text-decoration-color: #008080; font-weight: bold\">4</span>  Nibble <span style=\"color: #008080; text-decoration-color: #008080; font-weight: bold\">0</span>  -   Left Margin:   <span style=\"color: #008080; text-decoration-color: #008080; font-weight: bold\">109</span>  <span style=\"font-weight: bold\">(</span> <span style=\"color: #008080; text-decoration-color: #008080; font-weight: bold\">56</span> <span style=\"font-weight: bold\">)</span>  Center Point:   <span style=\"color: #008080; text-decoration-color: #008080; font-weight: bold\">148</span>  <span style=\"font-weight: bold\">(</span> <span style=\"color: #008080; text-decoration-color: #008080; font-weight: bold\">76</span> <span style=\"font-weight: bold\">)</span>  Right Margin:   <span style=\"color: #008080; text-decoration-color: #008080; font-weight: bold\">109</span>  <span style=\"font-weight: bold\">(</span> <span style=\"color: #008080; text-decoration-color: #008080; font-weight: bold\">56</span> <span style=\"font-weight: bold\">)</span>\n",
              "</pre>\n"
            ],
            "text/plain": [
              "Byte  \u001b[1;36m4\u001b[0m  Nibble \u001b[1;36m0\u001b[0m  -   Left Margin:   \u001b[1;36m109\u001b[0m  \u001b[1m(\u001b[0m \u001b[1;36m56\u001b[0m \u001b[1m)\u001b[0m  Center Point:   \u001b[1;36m148\u001b[0m  \u001b[1m(\u001b[0m \u001b[1;36m76\u001b[0m \u001b[1m)\u001b[0m  Right Margin:   \u001b[1;36m109\u001b[0m  \u001b[1m(\u001b[0m \u001b[1;36m56\u001b[0m \u001b[1m)\u001b[0m\n"
            ]
          },
          "metadata": {},
          "output_type": "display_data"
        },
        {
          "data": {
            "text/html": [
              "<pre style=\"white-space:pre;overflow-x:auto;line-height:normal;font-family:Menlo,'DejaVu Sans Mono',consolas,'Courier New',monospace\">Byte  <span style=\"color: #008080; text-decoration-color: #008080; font-weight: bold\">4</span>  Nibble <span style=\"color: #008080; text-decoration-color: #008080; font-weight: bold\">1</span>  -   Left Margin:   <span style=\"color: #008080; text-decoration-color: #008080; font-weight: bold\">116</span>  <span style=\"font-weight: bold\">(</span> <span style=\"color: #008080; text-decoration-color: #008080; font-weight: bold\">59</span> <span style=\"font-weight: bold\">)</span>  Center Point:   <span style=\"color: #008080; text-decoration-color: #008080; font-weight: bold\">162</span>  <span style=\"font-weight: bold\">(</span> <span style=\"color: #008080; text-decoration-color: #008080; font-weight: bold\">82</span> <span style=\"font-weight: bold\">)</span>  Right Margin:   <span style=\"color: #008080; text-decoration-color: #008080; font-weight: bold\">118</span>  <span style=\"font-weight: bold\">(</span> <span style=\"color: #008080; text-decoration-color: #008080; font-weight: bold\">60</span> <span style=\"font-weight: bold\">)</span>\n",
              "</pre>\n"
            ],
            "text/plain": [
              "Byte  \u001b[1;36m4\u001b[0m  Nibble \u001b[1;36m1\u001b[0m  -   Left Margin:   \u001b[1;36m116\u001b[0m  \u001b[1m(\u001b[0m \u001b[1;36m59\u001b[0m \u001b[1m)\u001b[0m  Center Point:   \u001b[1;36m162\u001b[0m  \u001b[1m(\u001b[0m \u001b[1;36m82\u001b[0m \u001b[1m)\u001b[0m  Right Margin:   \u001b[1;36m118\u001b[0m  \u001b[1m(\u001b[0m \u001b[1;36m60\u001b[0m \u001b[1m)\u001b[0m\n"
            ]
          },
          "metadata": {},
          "output_type": "display_data"
        },
        {
          "data": {
            "text/html": [
              "<pre style=\"white-space:pre;overflow-x:auto;line-height:normal;font-family:Menlo,'DejaVu Sans Mono',consolas,'Courier New',monospace\">Byte  <span style=\"color: #008080; text-decoration-color: #008080; font-weight: bold\">5</span>  Nibble <span style=\"color: #008080; text-decoration-color: #008080; font-weight: bold\">0</span>  -   Left Margin:   <span style=\"color: #008080; text-decoration-color: #008080; font-weight: bold\">123</span>  <span style=\"font-weight: bold\">(</span> <span style=\"color: #008080; text-decoration-color: #008080; font-weight: bold\">64</span> <span style=\"font-weight: bold\">)</span>  Center Point:   <span style=\"color: #008080; text-decoration-color: #008080; font-weight: bold\">162</span>  <span style=\"font-weight: bold\">(</span> <span style=\"color: #008080; text-decoration-color: #008080; font-weight: bold\">84</span> <span style=\"font-weight: bold\">)</span>  Right Margin:   <span style=\"color: #008080; text-decoration-color: #008080; font-weight: bold\">123</span>  <span style=\"font-weight: bold\">(</span> <span style=\"color: #008080; text-decoration-color: #008080; font-weight: bold\">64</span> <span style=\"font-weight: bold\">)</span>\n",
              "</pre>\n"
            ],
            "text/plain": [
              "Byte  \u001b[1;36m5\u001b[0m  Nibble \u001b[1;36m0\u001b[0m  -   Left Margin:   \u001b[1;36m123\u001b[0m  \u001b[1m(\u001b[0m \u001b[1;36m64\u001b[0m \u001b[1m)\u001b[0m  Center Point:   \u001b[1;36m162\u001b[0m  \u001b[1m(\u001b[0m \u001b[1;36m84\u001b[0m \u001b[1m)\u001b[0m  Right Margin:   \u001b[1;36m123\u001b[0m  \u001b[1m(\u001b[0m \u001b[1;36m64\u001b[0m \u001b[1m)\u001b[0m\n"
            ]
          },
          "metadata": {},
          "output_type": "display_data"
        },
        {
          "data": {
            "text/html": [
              "<pre style=\"white-space:pre;overflow-x:auto;line-height:normal;font-family:Menlo,'DejaVu Sans Mono',consolas,'Courier New',monospace\">Byte  <span style=\"color: #008080; text-decoration-color: #008080; font-weight: bold\">5</span>  Nibble <span style=\"color: #008080; text-decoration-color: #008080; font-weight: bold\">1</span>  -   Left Margin:   <span style=\"color: #008080; text-decoration-color: #008080; font-weight: bold\">121</span>  <span style=\"font-weight: bold\">(</span> <span style=\"color: #008080; text-decoration-color: #008080; font-weight: bold\">63</span> <span style=\"font-weight: bold\">)</span>  Center Point:   <span style=\"color: #008080; text-decoration-color: #008080; font-weight: bold\">174</span>  <span style=\"font-weight: bold\">(</span> <span style=\"color: #008080; text-decoration-color: #008080; font-weight: bold\">90</span> <span style=\"font-weight: bold\">)</span>  Right Margin:   <span style=\"color: #008080; text-decoration-color: #008080; font-weight: bold\">121</span>  <span style=\"font-weight: bold\">(</span> <span style=\"color: #008080; text-decoration-color: #008080; font-weight: bold\">63</span> <span style=\"font-weight: bold\">)</span>\n",
              "</pre>\n"
            ],
            "text/plain": [
              "Byte  \u001b[1;36m5\u001b[0m  Nibble \u001b[1;36m1\u001b[0m  -   Left Margin:   \u001b[1;36m121\u001b[0m  \u001b[1m(\u001b[0m \u001b[1;36m63\u001b[0m \u001b[1m)\u001b[0m  Center Point:   \u001b[1;36m174\u001b[0m  \u001b[1m(\u001b[0m \u001b[1;36m90\u001b[0m \u001b[1m)\u001b[0m  Right Margin:   \u001b[1;36m121\u001b[0m  \u001b[1m(\u001b[0m \u001b[1;36m63\u001b[0m \u001b[1m)\u001b[0m\n"
            ]
          },
          "metadata": {},
          "output_type": "display_data"
        },
        {
          "data": {
            "text/html": [
              "<pre style=\"white-space:pre;overflow-x:auto;line-height:normal;font-family:Menlo,'DejaVu Sans Mono',consolas,'Courier New',monospace\">Byte  <span style=\"color: #008080; text-decoration-color: #008080; font-weight: bold\">6</span>  Nibble <span style=\"color: #008080; text-decoration-color: #008080; font-weight: bold\">0</span>  -   Left Margin:   <span style=\"color: #008080; text-decoration-color: #008080; font-weight: bold\">115</span>  <span style=\"font-weight: bold\">(</span> <span style=\"color: #008080; text-decoration-color: #008080; font-weight: bold\">60</span> <span style=\"font-weight: bold\">)</span>  Center Point:   <span style=\"color: #008080; text-decoration-color: #008080; font-weight: bold\">158</span>  <span style=\"font-weight: bold\">(</span> <span style=\"color: #008080; text-decoration-color: #008080; font-weight: bold\">82</span> <span style=\"font-weight: bold\">)</span>  Right Margin:   <span style=\"color: #008080; text-decoration-color: #008080; font-weight: bold\">117</span>  <span style=\"font-weight: bold\">(</span> <span style=\"color: #008080; text-decoration-color: #008080; font-weight: bold\">61</span> <span style=\"font-weight: bold\">)</span>\n",
              "</pre>\n"
            ],
            "text/plain": [
              "Byte  \u001b[1;36m6\u001b[0m  Nibble \u001b[1;36m0\u001b[0m  -   Left Margin:   \u001b[1;36m115\u001b[0m  \u001b[1m(\u001b[0m \u001b[1;36m60\u001b[0m \u001b[1m)\u001b[0m  Center Point:   \u001b[1;36m158\u001b[0m  \u001b[1m(\u001b[0m \u001b[1;36m82\u001b[0m \u001b[1m)\u001b[0m  Right Margin:   \u001b[1;36m117\u001b[0m  \u001b[1m(\u001b[0m \u001b[1;36m61\u001b[0m \u001b[1m)\u001b[0m\n"
            ]
          },
          "metadata": {},
          "output_type": "display_data"
        },
        {
          "data": {
            "text/html": [
              "<pre style=\"white-space:pre;overflow-x:auto;line-height:normal;font-family:Menlo,'DejaVu Sans Mono',consolas,'Courier New',monospace\">Byte  <span style=\"color: #008080; text-decoration-color: #008080; font-weight: bold\">6</span>  Nibble <span style=\"color: #008080; text-decoration-color: #008080; font-weight: bold\">1</span>  -   Left Margin:   <span style=\"color: #008080; text-decoration-color: #008080; font-weight: bold\">117</span>  <span style=\"font-weight: bold\">(</span> <span style=\"color: #008080; text-decoration-color: #008080; font-weight: bold\">60</span> <span style=\"font-weight: bold\">)</span>  Center Point:   <span style=\"color: #008080; text-decoration-color: #008080; font-weight: bold\">168</span>  <span style=\"font-weight: bold\">(</span> <span style=\"color: #008080; text-decoration-color: #008080; font-weight: bold\">86</span> <span style=\"font-weight: bold\">)</span>  Right Margin:   <span style=\"color: #008080; text-decoration-color: #008080; font-weight: bold\">119</span>  <span style=\"font-weight: bold\">(</span> <span style=\"color: #008080; text-decoration-color: #008080; font-weight: bold\">61</span> <span style=\"font-weight: bold\">)</span>\n",
              "</pre>\n"
            ],
            "text/plain": [
              "Byte  \u001b[1;36m6\u001b[0m  Nibble \u001b[1;36m1\u001b[0m  -   Left Margin:   \u001b[1;36m117\u001b[0m  \u001b[1m(\u001b[0m \u001b[1;36m60\u001b[0m \u001b[1m)\u001b[0m  Center Point:   \u001b[1;36m168\u001b[0m  \u001b[1m(\u001b[0m \u001b[1;36m86\u001b[0m \u001b[1m)\u001b[0m  Right Margin:   \u001b[1;36m119\u001b[0m  \u001b[1m(\u001b[0m \u001b[1;36m61\u001b[0m \u001b[1m)\u001b[0m\n"
            ]
          },
          "metadata": {},
          "output_type": "display_data"
        },
        {
          "data": {
            "text/html": [
              "<pre style=\"white-space:pre;overflow-x:auto;line-height:normal;font-family:Menlo,'DejaVu Sans Mono',consolas,'Courier New',monospace\">Byte  <span style=\"color: #008080; text-decoration-color: #008080; font-weight: bold\">7</span>  Nibble <span style=\"color: #008080; text-decoration-color: #008080; font-weight: bold\">0</span>  -   Left Margin:   <span style=\"color: #008080; text-decoration-color: #008080; font-weight: bold\">119</span>  <span style=\"font-weight: bold\">(</span> <span style=\"color: #008080; text-decoration-color: #008080; font-weight: bold\">61</span> <span style=\"font-weight: bold\">)</span>  Center Point:   <span style=\"color: #008080; text-decoration-color: #008080; font-weight: bold\">162</span>  <span style=\"font-weight: bold\">(</span> <span style=\"color: #008080; text-decoration-color: #008080; font-weight: bold\">83</span> <span style=\"font-weight: bold\">)</span>  Right Margin:   <span style=\"color: #008080; text-decoration-color: #008080; font-weight: bold\">121</span>  <span style=\"font-weight: bold\">(</span> <span style=\"color: #008080; text-decoration-color: #008080; font-weight: bold\">62</span> <span style=\"font-weight: bold\">)</span>\n",
              "</pre>\n"
            ],
            "text/plain": [
              "Byte  \u001b[1;36m7\u001b[0m  Nibble \u001b[1;36m0\u001b[0m  -   Left Margin:   \u001b[1;36m119\u001b[0m  \u001b[1m(\u001b[0m \u001b[1;36m61\u001b[0m \u001b[1m)\u001b[0m  Center Point:   \u001b[1;36m162\u001b[0m  \u001b[1m(\u001b[0m \u001b[1;36m83\u001b[0m \u001b[1m)\u001b[0m  Right Margin:   \u001b[1;36m121\u001b[0m  \u001b[1m(\u001b[0m \u001b[1;36m62\u001b[0m \u001b[1m)\u001b[0m\n"
            ]
          },
          "metadata": {},
          "output_type": "display_data"
        },
        {
          "data": {
            "text/html": [
              "<pre style=\"white-space:pre;overflow-x:auto;line-height:normal;font-family:Menlo,'DejaVu Sans Mono',consolas,'Courier New',monospace\">Byte  <span style=\"color: #008080; text-decoration-color: #008080; font-weight: bold\">7</span>  Nibble <span style=\"color: #008080; text-decoration-color: #008080; font-weight: bold\">1</span>  -   Left Margin:   <span style=\"color: #008080; text-decoration-color: #008080; font-weight: bold\">125</span>  <span style=\"font-weight: bold\">(</span> <span style=\"color: #008080; text-decoration-color: #008080; font-weight: bold\">64</span> <span style=\"font-weight: bold\">)</span>  Center Point:   <span style=\"color: #008080; text-decoration-color: #008080; font-weight: bold\">176</span>  <span style=\"font-weight: bold\">(</span> <span style=\"color: #008080; text-decoration-color: #008080; font-weight: bold\">90</span> <span style=\"font-weight: bold\">)</span>  Right Margin:   <span style=\"color: #008080; text-decoration-color: #008080; font-weight: bold\">125</span>  <span style=\"font-weight: bold\">(</span> <span style=\"color: #008080; text-decoration-color: #008080; font-weight: bold\">64</span> <span style=\"font-weight: bold\">)</span>\n",
              "</pre>\n"
            ],
            "text/plain": [
              "Byte  \u001b[1;36m7\u001b[0m  Nibble \u001b[1;36m1\u001b[0m  -   Left Margin:   \u001b[1;36m125\u001b[0m  \u001b[1m(\u001b[0m \u001b[1;36m64\u001b[0m \u001b[1m)\u001b[0m  Center Point:   \u001b[1;36m176\u001b[0m  \u001b[1m(\u001b[0m \u001b[1;36m90\u001b[0m \u001b[1m)\u001b[0m  Right Margin:   \u001b[1;36m125\u001b[0m  \u001b[1m(\u001b[0m \u001b[1;36m64\u001b[0m \u001b[1m)\u001b[0m\n"
            ]
          },
          "metadata": {},
          "output_type": "display_data"
        },
        {
          "data": {
            "text/html": [
              "<pre style=\"white-space:pre;overflow-x:auto;line-height:normal;font-family:Menlo,'DejaVu Sans Mono',consolas,'Courier New',monospace\">\n",
              " Frequency <span style=\"color: #008080; text-decoration-color: #008080; font-weight: bold\">0</span>  - Write Margin - Simple Pattern - Calibration Window in pS and <span style=\"font-weight: bold\">(</span>delay taps<span style=\"font-weight: bold\">)</span>:\n",
              "\n",
              "</pre>\n"
            ],
            "text/plain": [
              "\n",
              " Frequency \u001b[1;36m0\u001b[0m  - Write Margin - Simple Pattern - Calibration Window in pS and \u001b[1m(\u001b[0mdelay taps\u001b[1m)\u001b[0m:\n",
              "\n"
            ]
          },
          "metadata": {},
          "output_type": "display_data"
        },
        {
          "data": {
            "text/html": [
              "<pre style=\"white-space:pre;overflow-x:auto;line-height:normal;font-family:Menlo,'DejaVu Sans Mono',consolas,'Courier New',monospace\">Byte  <span style=\"color: #008080; text-decoration-color: #008080; font-weight: bold\">0</span>   -  Left Margin:   <span style=\"color: #008080; text-decoration-color: #008080; font-weight: bold\">159</span>  <span style=\"font-weight: bold\">(</span> <span style=\"color: #008080; text-decoration-color: #008080; font-weight: bold\">83</span> <span style=\"font-weight: bold\">)</span>  Center Point:   <span style=\"color: #008080; text-decoration-color: #008080; font-weight: bold\">439</span>  <span style=\"font-weight: bold\">(</span> <span style=\"color: #008080; text-decoration-color: #008080; font-weight: bold\">229</span> <span style=\"font-weight: bold\">)</span>  Right Margin:   <span style=\"color: #008080; text-decoration-color: #008080; font-weight: bold\">136</span>  <span style=\"font-weight: bold\">(</span> <span style=\"color: #008080; text-decoration-color: #008080; font-weight: bold\">71</span> <span style=\"font-weight: bold\">)</span>\n",
              "</pre>\n"
            ],
            "text/plain": [
              "Byte  \u001b[1;36m0\u001b[0m   -  Left Margin:   \u001b[1;36m159\u001b[0m  \u001b[1m(\u001b[0m \u001b[1;36m83\u001b[0m \u001b[1m)\u001b[0m  Center Point:   \u001b[1;36m439\u001b[0m  \u001b[1m(\u001b[0m \u001b[1;36m229\u001b[0m \u001b[1m)\u001b[0m  Right Margin:   \u001b[1;36m136\u001b[0m  \u001b[1m(\u001b[0m \u001b[1;36m71\u001b[0m \u001b[1m)\u001b[0m\n"
            ]
          },
          "metadata": {},
          "output_type": "display_data"
        },
        {
          "data": {
            "text/html": [
              "<pre style=\"white-space:pre;overflow-x:auto;line-height:normal;font-family:Menlo,'DejaVu Sans Mono',consolas,'Courier New',monospace\">Byte  <span style=\"color: #008080; text-decoration-color: #008080; font-weight: bold\">1</span>   -  Left Margin:   <span style=\"color: #008080; text-decoration-color: #008080; font-weight: bold\">174</span>  <span style=\"font-weight: bold\">(</span> <span style=\"color: #008080; text-decoration-color: #008080; font-weight: bold\">90</span> <span style=\"font-weight: bold\">)</span>  Center Point:   <span style=\"color: #008080; text-decoration-color: #008080; font-weight: bold\">607</span>  <span style=\"font-weight: bold\">(</span> <span style=\"color: #008080; text-decoration-color: #008080; font-weight: bold\">312</span> <span style=\"font-weight: bold\">)</span>  Right Margin:   <span style=\"color: #008080; text-decoration-color: #008080; font-weight: bold\">106</span>  <span style=\"font-weight: bold\">(</span> <span style=\"color: #008080; text-decoration-color: #008080; font-weight: bold\">55</span> <span style=\"font-weight: bold\">)</span>\n",
              "</pre>\n"
            ],
            "text/plain": [
              "Byte  \u001b[1;36m1\u001b[0m   -  Left Margin:   \u001b[1;36m174\u001b[0m  \u001b[1m(\u001b[0m \u001b[1;36m90\u001b[0m \u001b[1m)\u001b[0m  Center Point:   \u001b[1;36m607\u001b[0m  \u001b[1m(\u001b[0m \u001b[1;36m312\u001b[0m \u001b[1m)\u001b[0m  Right Margin:   \u001b[1;36m106\u001b[0m  \u001b[1m(\u001b[0m \u001b[1;36m55\u001b[0m \u001b[1m)\u001b[0m\n"
            ]
          },
          "metadata": {},
          "output_type": "display_data"
        },
        {
          "data": {
            "text/html": [
              "<pre style=\"white-space:pre;overflow-x:auto;line-height:normal;font-family:Menlo,'DejaVu Sans Mono',consolas,'Courier New',monospace\">Byte  <span style=\"color: #008080; text-decoration-color: #008080; font-weight: bold\">2</span>   -  Left Margin:   <span style=\"color: #008080; text-decoration-color: #008080; font-weight: bold\">167</span>  <span style=\"font-weight: bold\">(</span> <span style=\"color: #008080; text-decoration-color: #008080; font-weight: bold\">87</span> <span style=\"font-weight: bold\">)</span>  Center Point:   <span style=\"color: #008080; text-decoration-color: #008080; font-weight: bold\">69</span>  <span style=\"font-weight: bold\">(</span> <span style=\"color: #008080; text-decoration-color: #008080; font-weight: bold\">36</span> <span style=\"font-weight: bold\">)</span>  Right Margin:   <span style=\"color: #008080; text-decoration-color: #008080; font-weight: bold\">123</span>  <span style=\"font-weight: bold\">(</span> <span style=\"color: #008080; text-decoration-color: #008080; font-weight: bold\">64</span> <span style=\"font-weight: bold\">)</span>\n",
              "</pre>\n"
            ],
            "text/plain": [
              "Byte  \u001b[1;36m2\u001b[0m   -  Left Margin:   \u001b[1;36m167\u001b[0m  \u001b[1m(\u001b[0m \u001b[1;36m87\u001b[0m \u001b[1m)\u001b[0m  Center Point:   \u001b[1;36m69\u001b[0m  \u001b[1m(\u001b[0m \u001b[1;36m36\u001b[0m \u001b[1m)\u001b[0m  Right Margin:   \u001b[1;36m123\u001b[0m  \u001b[1m(\u001b[0m \u001b[1;36m64\u001b[0m \u001b[1m)\u001b[0m\n"
            ]
          },
          "metadata": {},
          "output_type": "display_data"
        },
        {
          "data": {
            "text/html": [
              "<pre style=\"white-space:pre;overflow-x:auto;line-height:normal;font-family:Menlo,'DejaVu Sans Mono',consolas,'Courier New',monospace\">Byte  <span style=\"color: #008080; text-decoration-color: #008080; font-weight: bold\">3</span>   -  Left Margin:   <span style=\"color: #008080; text-decoration-color: #008080; font-weight: bold\">151</span>  <span style=\"font-weight: bold\">(</span> <span style=\"color: #008080; text-decoration-color: #008080; font-weight: bold\">77</span> <span style=\"font-weight: bold\">)</span>  Center Point:   <span style=\"color: #008080; text-decoration-color: #008080; font-weight: bold\">167</span>  <span style=\"font-weight: bold\">(</span> <span style=\"color: #008080; text-decoration-color: #008080; font-weight: bold\">85</span> <span style=\"font-weight: bold\">)</span>  Right Margin:   <span style=\"color: #008080; text-decoration-color: #008080; font-weight: bold\">145</span>  <span style=\"font-weight: bold\">(</span> <span style=\"color: #008080; text-decoration-color: #008080; font-weight: bold\">74</span> <span style=\"font-weight: bold\">)</span>\n",
              "</pre>\n"
            ],
            "text/plain": [
              "Byte  \u001b[1;36m3\u001b[0m   -  Left Margin:   \u001b[1;36m151\u001b[0m  \u001b[1m(\u001b[0m \u001b[1;36m77\u001b[0m \u001b[1m)\u001b[0m  Center Point:   \u001b[1;36m167\u001b[0m  \u001b[1m(\u001b[0m \u001b[1;36m85\u001b[0m \u001b[1m)\u001b[0m  Right Margin:   \u001b[1;36m145\u001b[0m  \u001b[1m(\u001b[0m \u001b[1;36m74\u001b[0m \u001b[1m)\u001b[0m\n"
            ]
          },
          "metadata": {},
          "output_type": "display_data"
        },
        {
          "data": {
            "text/html": [
              "<pre style=\"white-space:pre;overflow-x:auto;line-height:normal;font-family:Menlo,'DejaVu Sans Mono',consolas,'Courier New',monospace\">Byte  <span style=\"color: #008080; text-decoration-color: #008080; font-weight: bold\">4</span>   -  Left Margin:   <span style=\"color: #008080; text-decoration-color: #008080; font-weight: bold\">145</span>  <span style=\"font-weight: bold\">(</span> <span style=\"color: #008080; text-decoration-color: #008080; font-weight: bold\">74</span> <span style=\"font-weight: bold\">)</span>  Center Point:   <span style=\"color: #008080; text-decoration-color: #008080; font-weight: bold\">545</span>  <span style=\"font-weight: bold\">(</span> <span style=\"color: #008080; text-decoration-color: #008080; font-weight: bold\">278</span> <span style=\"font-weight: bold\">)</span>  Right Margin:   <span style=\"color: #008080; text-decoration-color: #008080; font-weight: bold\">153</span>  <span style=\"font-weight: bold\">(</span> <span style=\"color: #008080; text-decoration-color: #008080; font-weight: bold\">78</span> <span style=\"font-weight: bold\">)</span>\n",
              "</pre>\n"
            ],
            "text/plain": [
              "Byte  \u001b[1;36m4\u001b[0m   -  Left Margin:   \u001b[1;36m145\u001b[0m  \u001b[1m(\u001b[0m \u001b[1;36m74\u001b[0m \u001b[1m)\u001b[0m  Center Point:   \u001b[1;36m545\u001b[0m  \u001b[1m(\u001b[0m \u001b[1;36m278\u001b[0m \u001b[1m)\u001b[0m  Right Margin:   \u001b[1;36m153\u001b[0m  \u001b[1m(\u001b[0m \u001b[1;36m78\u001b[0m \u001b[1m)\u001b[0m\n"
            ]
          },
          "metadata": {},
          "output_type": "display_data"
        },
        {
          "data": {
            "text/html": [
              "<pre style=\"white-space:pre;overflow-x:auto;line-height:normal;font-family:Menlo,'DejaVu Sans Mono',consolas,'Courier New',monospace\">Byte  <span style=\"color: #008080; text-decoration-color: #008080; font-weight: bold\">5</span>   -  Left Margin:   <span style=\"color: #008080; text-decoration-color: #008080; font-weight: bold\">167</span>  <span style=\"font-weight: bold\">(</span> <span style=\"color: #008080; text-decoration-color: #008080; font-weight: bold\">86</span> <span style=\"font-weight: bold\">)</span>  Center Point:   <span style=\"color: #008080; text-decoration-color: #008080; font-weight: bold\">572</span>  <span style=\"font-weight: bold\">(</span> <span style=\"color: #008080; text-decoration-color: #008080; font-weight: bold\">293</span> <span style=\"font-weight: bold\">)</span>  Right Margin:   <span style=\"color: #008080; text-decoration-color: #008080; font-weight: bold\">130</span>  <span style=\"font-weight: bold\">(</span> <span style=\"color: #008080; text-decoration-color: #008080; font-weight: bold\">67</span> <span style=\"font-weight: bold\">)</span>\n",
              "</pre>\n"
            ],
            "text/plain": [
              "Byte  \u001b[1;36m5\u001b[0m   -  Left Margin:   \u001b[1;36m167\u001b[0m  \u001b[1m(\u001b[0m \u001b[1;36m86\u001b[0m \u001b[1m)\u001b[0m  Center Point:   \u001b[1;36m572\u001b[0m  \u001b[1m(\u001b[0m \u001b[1;36m293\u001b[0m \u001b[1m)\u001b[0m  Right Margin:   \u001b[1;36m130\u001b[0m  \u001b[1m(\u001b[0m \u001b[1;36m67\u001b[0m \u001b[1m)\u001b[0m\n"
            ]
          },
          "metadata": {},
          "output_type": "display_data"
        },
        {
          "data": {
            "text/html": [
              "<pre style=\"white-space:pre;overflow-x:auto;line-height:normal;font-family:Menlo,'DejaVu Sans Mono',consolas,'Courier New',monospace\">Byte  <span style=\"color: #008080; text-decoration-color: #008080; font-weight: bold\">6</span>   -  Left Margin:   <span style=\"color: #008080; text-decoration-color: #008080; font-weight: bold\">154</span>  <span style=\"font-weight: bold\">(</span> <span style=\"color: #008080; text-decoration-color: #008080; font-weight: bold\">79</span> <span style=\"font-weight: bold\">)</span>  Center Point:   <span style=\"color: #008080; text-decoration-color: #008080; font-weight: bold\">557</span>  <span style=\"font-weight: bold\">(</span> <span style=\"color: #008080; text-decoration-color: #008080; font-weight: bold\">285</span> <span style=\"font-weight: bold\">)</span>  Right Margin:   <span style=\"color: #008080; text-decoration-color: #008080; font-weight: bold\">138</span>  <span style=\"font-weight: bold\">(</span> <span style=\"color: #008080; text-decoration-color: #008080; font-weight: bold\">71</span> <span style=\"font-weight: bold\">)</span>\n",
              "</pre>\n"
            ],
            "text/plain": [
              "Byte  \u001b[1;36m6\u001b[0m   -  Left Margin:   \u001b[1;36m154\u001b[0m  \u001b[1m(\u001b[0m \u001b[1;36m79\u001b[0m \u001b[1m)\u001b[0m  Center Point:   \u001b[1;36m557\u001b[0m  \u001b[1m(\u001b[0m \u001b[1;36m285\u001b[0m \u001b[1m)\u001b[0m  Right Margin:   \u001b[1;36m138\u001b[0m  \u001b[1m(\u001b[0m \u001b[1;36m71\u001b[0m \u001b[1m)\u001b[0m\n"
            ]
          },
          "metadata": {},
          "output_type": "display_data"
        },
        {
          "data": {
            "text/html": [
              "<pre style=\"white-space:pre;overflow-x:auto;line-height:normal;font-family:Menlo,'DejaVu Sans Mono',consolas,'Courier New',monospace\">Byte  <span style=\"color: #008080; text-decoration-color: #008080; font-weight: bold\">7</span>   -  Left Margin:   <span style=\"color: #008080; text-decoration-color: #008080; font-weight: bold\">158</span>  <span style=\"font-weight: bold\">(</span> <span style=\"color: #008080; text-decoration-color: #008080; font-weight: bold\">81</span> <span style=\"font-weight: bold\">)</span>  Center Point:   <span style=\"color: #008080; text-decoration-color: #008080; font-weight: bold\">623</span>  <span style=\"font-weight: bold\">(</span> <span style=\"color: #008080; text-decoration-color: #008080; font-weight: bold\">319</span> <span style=\"font-weight: bold\">)</span>  Right Margin:   <span style=\"color: #008080; text-decoration-color: #008080; font-weight: bold\">138</span>  <span style=\"font-weight: bold\">(</span> <span style=\"color: #008080; text-decoration-color: #008080; font-weight: bold\">71</span> <span style=\"font-weight: bold\">)</span>\n",
              "</pre>\n"
            ],
            "text/plain": [
              "Byte  \u001b[1;36m7\u001b[0m   -  Left Margin:   \u001b[1;36m158\u001b[0m  \u001b[1m(\u001b[0m \u001b[1;36m81\u001b[0m \u001b[1m)\u001b[0m  Center Point:   \u001b[1;36m623\u001b[0m  \u001b[1m(\u001b[0m \u001b[1;36m319\u001b[0m \u001b[1m)\u001b[0m  Right Margin:   \u001b[1;36m138\u001b[0m  \u001b[1m(\u001b[0m \u001b[1;36m71\u001b[0m \u001b[1m)\u001b[0m\n"
            ]
          },
          "metadata": {},
          "output_type": "display_data"
        },
        {
          "data": {
            "text/html": [
              "<pre style=\"white-space:pre;overflow-x:auto;line-height:normal;font-family:Menlo,'DejaVu Sans Mono',consolas,'Courier New',monospace\">\n",
              " Frequency <span style=\"color: #008080; text-decoration-color: #008080; font-weight: bold\">0</span>  - Write Margin - Complex Pattern - Calibration Window in pS and <span style=\"font-weight: bold\">(</span>delay taps<span style=\"font-weight: bold\">)</span>:\n",
              "\n",
              "</pre>\n"
            ],
            "text/plain": [
              "\n",
              " Frequency \u001b[1;36m0\u001b[0m  - Write Margin - Complex Pattern - Calibration Window in pS and \u001b[1m(\u001b[0mdelay taps\u001b[1m)\u001b[0m:\n",
              "\n"
            ]
          },
          "metadata": {},
          "output_type": "display_data"
        },
        {
          "data": {
            "text/html": [
              "<pre style=\"white-space:pre;overflow-x:auto;line-height:normal;font-family:Menlo,'DejaVu Sans Mono',consolas,'Courier New',monospace\">Byte  <span style=\"color: #008080; text-decoration-color: #008080; font-weight: bold\">0</span>   -  Left Margin:   <span style=\"color: #008080; text-decoration-color: #008080; font-weight: bold\">145</span>  <span style=\"font-weight: bold\">(</span> <span style=\"color: #008080; text-decoration-color: #008080; font-weight: bold\">76</span> <span style=\"font-weight: bold\">)</span>  Center Point:   <span style=\"color: #008080; text-decoration-color: #008080; font-weight: bold\">439</span>  <span style=\"font-weight: bold\">(</span> <span style=\"color: #008080; text-decoration-color: #008080; font-weight: bold\">229</span> <span style=\"font-weight: bold\">)</span>  Right Margin:   <span style=\"color: #008080; text-decoration-color: #008080; font-weight: bold\">126</span>  <span style=\"font-weight: bold\">(</span> <span style=\"color: #008080; text-decoration-color: #008080; font-weight: bold\">66</span> <span style=\"font-weight: bold\">)</span>\n",
              "</pre>\n"
            ],
            "text/plain": [
              "Byte  \u001b[1;36m0\u001b[0m   -  Left Margin:   \u001b[1;36m145\u001b[0m  \u001b[1m(\u001b[0m \u001b[1;36m76\u001b[0m \u001b[1m)\u001b[0m  Center Point:   \u001b[1;36m439\u001b[0m  \u001b[1m(\u001b[0m \u001b[1;36m229\u001b[0m \u001b[1m)\u001b[0m  Right Margin:   \u001b[1;36m126\u001b[0m  \u001b[1m(\u001b[0m \u001b[1;36m66\u001b[0m \u001b[1m)\u001b[0m\n"
            ]
          },
          "metadata": {},
          "output_type": "display_data"
        },
        {
          "data": {
            "text/html": [
              "<pre style=\"white-space:pre;overflow-x:auto;line-height:normal;font-family:Menlo,'DejaVu Sans Mono',consolas,'Courier New',monospace\">Byte  <span style=\"color: #008080; text-decoration-color: #008080; font-weight: bold\">1</span>   -  Left Margin:   <span style=\"color: #008080; text-decoration-color: #008080; font-weight: bold\">141</span>  <span style=\"font-weight: bold\">(</span> <span style=\"color: #008080; text-decoration-color: #008080; font-weight: bold\">73</span> <span style=\"font-weight: bold\">)</span>  Center Point:   <span style=\"color: #008080; text-decoration-color: #008080; font-weight: bold\">607</span>  <span style=\"font-weight: bold\">(</span> <span style=\"color: #008080; text-decoration-color: #008080; font-weight: bold\">312</span> <span style=\"font-weight: bold\">)</span>  Right Margin:   <span style=\"color: #008080; text-decoration-color: #008080; font-weight: bold\">133</span>  <span style=\"font-weight: bold\">(</span> <span style=\"color: #008080; text-decoration-color: #008080; font-weight: bold\">69</span> <span style=\"font-weight: bold\">)</span>\n",
              "</pre>\n"
            ],
            "text/plain": [
              "Byte  \u001b[1;36m1\u001b[0m   -  Left Margin:   \u001b[1;36m141\u001b[0m  \u001b[1m(\u001b[0m \u001b[1;36m73\u001b[0m \u001b[1m)\u001b[0m  Center Point:   \u001b[1;36m607\u001b[0m  \u001b[1m(\u001b[0m \u001b[1;36m312\u001b[0m \u001b[1m)\u001b[0m  Right Margin:   \u001b[1;36m133\u001b[0m  \u001b[1m(\u001b[0m \u001b[1;36m69\u001b[0m \u001b[1m)\u001b[0m\n"
            ]
          },
          "metadata": {},
          "output_type": "display_data"
        },
        {
          "data": {
            "text/html": [
              "<pre style=\"white-space:pre;overflow-x:auto;line-height:normal;font-family:Menlo,'DejaVu Sans Mono',consolas,'Courier New',monospace\">Byte  <span style=\"color: #008080; text-decoration-color: #008080; font-weight: bold\">2</span>   -  Left Margin:   <span style=\"color: #008080; text-decoration-color: #008080; font-weight: bold\">146</span>  <span style=\"font-weight: bold\">(</span> <span style=\"color: #008080; text-decoration-color: #008080; font-weight: bold\">76</span> <span style=\"font-weight: bold\">)</span>  Center Point:   <span style=\"color: #008080; text-decoration-color: #008080; font-weight: bold\">69</span>  <span style=\"font-weight: bold\">(</span> <span style=\"color: #008080; text-decoration-color: #008080; font-weight: bold\">36</span> <span style=\"font-weight: bold\">)</span>  Right Margin:   <span style=\"color: #008080; text-decoration-color: #008080; font-weight: bold\">115</span>  <span style=\"font-weight: bold\">(</span> <span style=\"color: #008080; text-decoration-color: #008080; font-weight: bold\">60</span> <span style=\"font-weight: bold\">)</span>\n",
              "</pre>\n"
            ],
            "text/plain": [
              "Byte  \u001b[1;36m2\u001b[0m   -  Left Margin:   \u001b[1;36m146\u001b[0m  \u001b[1m(\u001b[0m \u001b[1;36m76\u001b[0m \u001b[1m)\u001b[0m  Center Point:   \u001b[1;36m69\u001b[0m  \u001b[1m(\u001b[0m \u001b[1;36m36\u001b[0m \u001b[1m)\u001b[0m  Right Margin:   \u001b[1;36m115\u001b[0m  \u001b[1m(\u001b[0m \u001b[1;36m60\u001b[0m \u001b[1m)\u001b[0m\n"
            ]
          },
          "metadata": {},
          "output_type": "display_data"
        },
        {
          "data": {
            "text/html": [
              "<pre style=\"white-space:pre;overflow-x:auto;line-height:normal;font-family:Menlo,'DejaVu Sans Mono',consolas,'Courier New',monospace\">Byte  <span style=\"color: #008080; text-decoration-color: #008080; font-weight: bold\">3</span>   -  Left Margin:   <span style=\"color: #008080; text-decoration-color: #008080; font-weight: bold\">149</span>  <span style=\"font-weight: bold\">(</span> <span style=\"color: #008080; text-decoration-color: #008080; font-weight: bold\">76</span> <span style=\"font-weight: bold\">)</span>  Center Point:   <span style=\"color: #008080; text-decoration-color: #008080; font-weight: bold\">167</span>  <span style=\"font-weight: bold\">(</span> <span style=\"color: #008080; text-decoration-color: #008080; font-weight: bold\">85</span> <span style=\"font-weight: bold\">)</span>  Right Margin:   <span style=\"color: #008080; text-decoration-color: #008080; font-weight: bold\">127</span>  <span style=\"font-weight: bold\">(</span> <span style=\"color: #008080; text-decoration-color: #008080; font-weight: bold\">65</span> <span style=\"font-weight: bold\">)</span>\n",
              "</pre>\n"
            ],
            "text/plain": [
              "Byte  \u001b[1;36m3\u001b[0m   -  Left Margin:   \u001b[1;36m149\u001b[0m  \u001b[1m(\u001b[0m \u001b[1;36m76\u001b[0m \u001b[1m)\u001b[0m  Center Point:   \u001b[1;36m167\u001b[0m  \u001b[1m(\u001b[0m \u001b[1;36m85\u001b[0m \u001b[1m)\u001b[0m  Right Margin:   \u001b[1;36m127\u001b[0m  \u001b[1m(\u001b[0m \u001b[1;36m65\u001b[0m \u001b[1m)\u001b[0m\n"
            ]
          },
          "metadata": {},
          "output_type": "display_data"
        },
        {
          "data": {
            "text/html": [
              "<pre style=\"white-space:pre;overflow-x:auto;line-height:normal;font-family:Menlo,'DejaVu Sans Mono',consolas,'Courier New',monospace\">Byte  <span style=\"color: #008080; text-decoration-color: #008080; font-weight: bold\">4</span>   -  Left Margin:   <span style=\"color: #008080; text-decoration-color: #008080; font-weight: bold\">143</span>  <span style=\"font-weight: bold\">(</span> <span style=\"color: #008080; text-decoration-color: #008080; font-weight: bold\">73</span> <span style=\"font-weight: bold\">)</span>  Center Point:   <span style=\"color: #008080; text-decoration-color: #008080; font-weight: bold\">545</span>  <span style=\"font-weight: bold\">(</span> <span style=\"color: #008080; text-decoration-color: #008080; font-weight: bold\">278</span> <span style=\"font-weight: bold\">)</span>  Right Margin:   <span style=\"color: #008080; text-decoration-color: #008080; font-weight: bold\">121</span>  <span style=\"font-weight: bold\">(</span> <span style=\"color: #008080; text-decoration-color: #008080; font-weight: bold\">62</span> <span style=\"font-weight: bold\">)</span>\n",
              "</pre>\n"
            ],
            "text/plain": [
              "Byte  \u001b[1;36m4\u001b[0m   -  Left Margin:   \u001b[1;36m143\u001b[0m  \u001b[1m(\u001b[0m \u001b[1;36m73\u001b[0m \u001b[1m)\u001b[0m  Center Point:   \u001b[1;36m545\u001b[0m  \u001b[1m(\u001b[0m \u001b[1;36m278\u001b[0m \u001b[1m)\u001b[0m  Right Margin:   \u001b[1;36m121\u001b[0m  \u001b[1m(\u001b[0m \u001b[1;36m62\u001b[0m \u001b[1m)\u001b[0m\n"
            ]
          },
          "metadata": {},
          "output_type": "display_data"
        },
        {
          "data": {
            "text/html": [
              "<pre style=\"white-space:pre;overflow-x:auto;line-height:normal;font-family:Menlo,'DejaVu Sans Mono',consolas,'Courier New',monospace\">Byte  <span style=\"color: #008080; text-decoration-color: #008080; font-weight: bold\">5</span>   -  Left Margin:   <span style=\"color: #008080; text-decoration-color: #008080; font-weight: bold\">144</span>  <span style=\"font-weight: bold\">(</span> <span style=\"color: #008080; text-decoration-color: #008080; font-weight: bold\">74</span> <span style=\"font-weight: bold\">)</span>  Center Point:   <span style=\"color: #008080; text-decoration-color: #008080; font-weight: bold\">572</span>  <span style=\"font-weight: bold\">(</span> <span style=\"color: #008080; text-decoration-color: #008080; font-weight: bold\">293</span> <span style=\"font-weight: bold\">)</span>  Right Margin:   <span style=\"color: #008080; text-decoration-color: #008080; font-weight: bold\">121</span>  <span style=\"font-weight: bold\">(</span> <span style=\"color: #008080; text-decoration-color: #008080; font-weight: bold\">62</span> <span style=\"font-weight: bold\">)</span>\n",
              "</pre>\n"
            ],
            "text/plain": [
              "Byte  \u001b[1;36m5\u001b[0m   -  Left Margin:   \u001b[1;36m144\u001b[0m  \u001b[1m(\u001b[0m \u001b[1;36m74\u001b[0m \u001b[1m)\u001b[0m  Center Point:   \u001b[1;36m572\u001b[0m  \u001b[1m(\u001b[0m \u001b[1;36m293\u001b[0m \u001b[1m)\u001b[0m  Right Margin:   \u001b[1;36m121\u001b[0m  \u001b[1m(\u001b[0m \u001b[1;36m62\u001b[0m \u001b[1m)\u001b[0m\n"
            ]
          },
          "metadata": {},
          "output_type": "display_data"
        },
        {
          "data": {
            "text/html": [
              "<pre style=\"white-space:pre;overflow-x:auto;line-height:normal;font-family:Menlo,'DejaVu Sans Mono',consolas,'Courier New',monospace\">Byte  <span style=\"color: #008080; text-decoration-color: #008080; font-weight: bold\">6</span>   -  Left Margin:   <span style=\"color: #008080; text-decoration-color: #008080; font-weight: bold\">144</span>  <span style=\"font-weight: bold\">(</span> <span style=\"color: #008080; text-decoration-color: #008080; font-weight: bold\">74</span> <span style=\"font-weight: bold\">)</span>  Center Point:   <span style=\"color: #008080; text-decoration-color: #008080; font-weight: bold\">557</span>  <span style=\"font-weight: bold\">(</span> <span style=\"color: #008080; text-decoration-color: #008080; font-weight: bold\">285</span> <span style=\"font-weight: bold\">)</span>  Right Margin:   <span style=\"color: #008080; text-decoration-color: #008080; font-weight: bold\">121</span>  <span style=\"font-weight: bold\">(</span> <span style=\"color: #008080; text-decoration-color: #008080; font-weight: bold\">62</span> <span style=\"font-weight: bold\">)</span>\n",
              "</pre>\n"
            ],
            "text/plain": [
              "Byte  \u001b[1;36m6\u001b[0m   -  Left Margin:   \u001b[1;36m144\u001b[0m  \u001b[1m(\u001b[0m \u001b[1;36m74\u001b[0m \u001b[1m)\u001b[0m  Center Point:   \u001b[1;36m557\u001b[0m  \u001b[1m(\u001b[0m \u001b[1;36m285\u001b[0m \u001b[1m)\u001b[0m  Right Margin:   \u001b[1;36m121\u001b[0m  \u001b[1m(\u001b[0m \u001b[1;36m62\u001b[0m \u001b[1m)\u001b[0m\n"
            ]
          },
          "metadata": {},
          "output_type": "display_data"
        },
        {
          "data": {
            "text/html": [
              "<pre style=\"white-space:pre;overflow-x:auto;line-height:normal;font-family:Menlo,'DejaVu Sans Mono',consolas,'Courier New',monospace\">Byte  <span style=\"color: #008080; text-decoration-color: #008080; font-weight: bold\">7</span>   -  Left Margin:   <span style=\"color: #008080; text-decoration-color: #008080; font-weight: bold\">148</span>  <span style=\"font-weight: bold\">(</span> <span style=\"color: #008080; text-decoration-color: #008080; font-weight: bold\">76</span> <span style=\"font-weight: bold\">)</span>  Center Point:   <span style=\"color: #008080; text-decoration-color: #008080; font-weight: bold\">623</span>  <span style=\"font-weight: bold\">(</span> <span style=\"color: #008080; text-decoration-color: #008080; font-weight: bold\">319</span> <span style=\"font-weight: bold\">)</span>  Right Margin:   <span style=\"color: #008080; text-decoration-color: #008080; font-weight: bold\">128</span>  <span style=\"font-weight: bold\">(</span> <span style=\"color: #008080; text-decoration-color: #008080; font-weight: bold\">66</span> <span style=\"font-weight: bold\">)</span>\n",
              "</pre>\n"
            ],
            "text/plain": [
              "Byte  \u001b[1;36m7\u001b[0m   -  Left Margin:   \u001b[1;36m148\u001b[0m  \u001b[1m(\u001b[0m \u001b[1;36m76\u001b[0m \u001b[1m)\u001b[0m  Center Point:   \u001b[1;36m623\u001b[0m  \u001b[1m(\u001b[0m \u001b[1;36m319\u001b[0m \u001b[1m)\u001b[0m  Right Margin:   \u001b[1;36m128\u001b[0m  \u001b[1m(\u001b[0m \u001b[1;36m66\u001b[0m \u001b[1m)\u001b[0m\n"
            ]
          },
          "metadata": {},
          "output_type": "display_data"
        },
        {
          "data": {
            "text/html": [
              "<pre style=\"white-space:pre;overflow-x:auto;line-height:normal;font-family:Menlo,'DejaVu Sans Mono',consolas,'Courier New',monospace\">\n",
              "NOTE: The report is being generated and saved as: test_out.txt\n",
              "</pre>\n"
            ],
            "text/plain": [
              "\n",
              "NOTE: The report is being generated and saved as: test_out.txt\n"
            ]
          },
          "metadata": {},
          "output_type": "display_data"
        },
        {
          "data": {
            "text/html": [
              "<pre style=\"white-space:pre;overflow-x:auto;line-height:normal;font-family:Menlo,'DejaVu Sans Mono',consolas,'Courier New',monospace\">-------------------\n",
              "\n",
              "</pre>\n"
            ],
            "text/plain": [
              "-------------------\n",
              "\n"
            ]
          },
          "metadata": {},
          "output_type": "display_data"
        },
        {
          "data": {
            "text/html": [
              "<pre style=\"white-space:pre;overflow-x:auto;line-height:normal;font-family:Menlo,'DejaVu Sans Mono',consolas,'Courier New',monospace\"> DDRMC Status \n",
              "\n",
              "</pre>\n"
            ],
            "text/plain": [
              " DDRMC Status \n",
              "\n"
            ]
          },
          "metadata": {},
          "output_type": "display_data"
        },
        {
          "data": {
            "text/html": [
              "<pre style=\"white-space:pre;overflow-x:auto;line-height:normal;font-family:Menlo,'DejaVu Sans Mono',consolas,'Courier New',monospace\">-------------------\n",
              "\n",
              "</pre>\n"
            ],
            "text/plain": [
              "-------------------\n",
              "\n"
            ]
          },
          "metadata": {},
          "output_type": "display_data"
        },
        {
          "data": {
            "text/html": [
              "<pre style=\"white-space:pre;overflow-x:auto;line-height:normal;font-family:Menlo,'DejaVu Sans Mono',consolas,'Courier New',monospace\">Calibration Status:   PASS \n",
              "\n",
              "</pre>\n"
            ],
            "text/plain": [
              "Calibration Status:   PASS \n",
              "\n"
            ]
          },
          "metadata": {},
          "output_type": "display_data"
        },
        {
          "data": {
            "text/html": [
              "<pre style=\"white-space:pre;overflow-x:auto;line-height:normal;font-family:Menlo,'DejaVu Sans Mono',consolas,'Courier New',monospace\">Overall Health:   GOOD \n",
              "\n",
              "</pre>\n"
            ],
            "text/plain": [
              "Overall Health:   GOOD \n",
              "\n"
            ]
          },
          "metadata": {},
          "output_type": "display_data"
        },
        {
          "data": {
            "text/html": [
              "<pre style=\"white-space:pre;overflow-x:auto;line-height:normal;font-family:Menlo,'DejaVu Sans Mono',consolas,'Courier New',monospace\">Message:   No errors detected during calibration. \n",
              "\n",
              "</pre>\n"
            ],
            "text/plain": [
              "Message:   No errors detected during calibration. \n",
              "\n"
            ]
          },
          "metadata": {},
          "output_type": "display_data"
        },
        {
          "data": {
            "text/html": [
              "<pre style=\"white-space:pre;overflow-x:auto;line-height:normal;font-family:Menlo,'DejaVu Sans Mono',consolas,'Courier New',monospace\">\n",
              "-------------------\n",
              "\n",
              "</pre>\n"
            ],
            "text/plain": [
              "\n",
              "-------------------\n",
              "\n"
            ]
          },
          "metadata": {},
          "output_type": "display_data"
        },
        {
          "data": {
            "text/html": [
              "<pre style=\"white-space:pre;overflow-x:auto;line-height:normal;font-family:Menlo,'DejaVu Sans Mono',consolas,'Courier New',monospace\"> Status Registers\n",
              "\n",
              "</pre>\n"
            ],
            "text/plain": [
              " Status Registers\n",
              "\n"
            ]
          },
          "metadata": {},
          "output_type": "display_data"
        },
        {
          "data": {
            "text/html": [
              "<pre style=\"white-space:pre;overflow-x:auto;line-height:normal;font-family:Menlo,'DejaVu Sans Mono',consolas,'Courier New',monospace\">-------------------\n",
              "\n",
              "</pre>\n"
            ],
            "text/plain": [
              "-------------------\n",
              "\n"
            ]
          },
          "metadata": {},
          "output_type": "display_data"
        },
        {
          "data": {
            "text/html": [
              "<pre style=\"white-space:pre;overflow-x:auto;line-height:normal;font-family:Menlo,'DejaVu Sans Mono',consolas,'Courier New',monospace\">DDRMC ISR Table\n",
              "\n",
              "</pre>\n"
            ],
            "text/plain": [
              "DDRMC ISR Table\n",
              "\n"
            ]
          },
          "metadata": {},
          "output_type": "display_data"
        },
        {
          "data": {
            "text/html": [
              "<pre style=\"white-space:pre;overflow-x:auto;line-height:normal;font-family:Menlo,'DejaVu Sans Mono',consolas,'Courier New',monospace\">   ddrmc_isr_ce0_ecc0 :   <span style=\"color: #008080; text-decoration-color: #008080; font-weight: bold\">0</span>\n",
              "</pre>\n"
            ],
            "text/plain": [
              "   ddrmc_isr_ce0_ecc0 :   \u001b[1;36m0\u001b[0m\n"
            ]
          },
          "metadata": {},
          "output_type": "display_data"
        },
        {
          "data": {
            "text/html": [
              "<pre style=\"white-space:pre;overflow-x:auto;line-height:normal;font-family:Menlo,'DejaVu Sans Mono',consolas,'Courier New',monospace\">   ddrmc_isr_ce0_ecc1 :   <span style=\"color: #008080; text-decoration-color: #008080; font-weight: bold\">0</span>\n",
              "</pre>\n"
            ],
            "text/plain": [
              "   ddrmc_isr_ce0_ecc1 :   \u001b[1;36m0\u001b[0m\n"
            ]
          },
          "metadata": {},
          "output_type": "display_data"
        },
        {
          "data": {
            "text/html": [
              "<pre style=\"white-space:pre;overflow-x:auto;line-height:normal;font-family:Menlo,'DejaVu Sans Mono',consolas,'Courier New',monospace\">   ddrmc_isr_ce1_ecc0 :   <span style=\"color: #008080; text-decoration-color: #008080; font-weight: bold\">0</span>\n",
              "</pre>\n"
            ],
            "text/plain": [
              "   ddrmc_isr_ce1_ecc0 :   \u001b[1;36m0\u001b[0m\n"
            ]
          },
          "metadata": {},
          "output_type": "display_data"
        },
        {
          "data": {
            "text/html": [
              "<pre style=\"white-space:pre;overflow-x:auto;line-height:normal;font-family:Menlo,'DejaVu Sans Mono',consolas,'Courier New',monospace\">   ddrmc_isr_ce1_ecc1 :   <span style=\"color: #008080; text-decoration-color: #008080; font-weight: bold\">0</span>\n",
              "</pre>\n"
            ],
            "text/plain": [
              "   ddrmc_isr_ce1_ecc1 :   \u001b[1;36m0\u001b[0m\n"
            ]
          },
          "metadata": {},
          "output_type": "display_data"
        },
        {
          "data": {
            "text/html": [
              "<pre style=\"white-space:pre;overflow-x:auto;line-height:normal;font-family:Menlo,'DejaVu Sans Mono',consolas,'Courier New',monospace\">   ddrmc_isr_ch0_data_par :   <span style=\"color: #008080; text-decoration-color: #008080; font-weight: bold\">0</span>\n",
              "</pre>\n"
            ],
            "text/plain": [
              "   ddrmc_isr_ch0_data_par :   \u001b[1;36m0\u001b[0m\n"
            ]
          },
          "metadata": {},
          "output_type": "display_data"
        },
        {
          "data": {
            "text/html": [
              "<pre style=\"white-space:pre;overflow-x:auto;line-height:normal;font-family:Menlo,'DejaVu Sans Mono',consolas,'Courier New',monospace\">   ddrmc_isr_ch1_data_par :   <span style=\"color: #008080; text-decoration-color: #008080; font-weight: bold\">0</span>\n",
              "</pre>\n"
            ],
            "text/plain": [
              "   ddrmc_isr_ch1_data_par :   \u001b[1;36m0\u001b[0m\n"
            ]
          },
          "metadata": {},
          "output_type": "display_data"
        },
        {
          "data": {
            "text/html": [
              "<pre style=\"white-space:pre;overflow-x:auto;line-height:normal;font-family:Menlo,'DejaVu Sans Mono',consolas,'Courier New',monospace\">   ddrmc_isr_dc_cmd0_fatal :   <span style=\"color: #008080; text-decoration-color: #008080; font-weight: bold\">0</span>\n",
              "</pre>\n"
            ],
            "text/plain": [
              "   ddrmc_isr_dc_cmd0_fatal :   \u001b[1;36m0\u001b[0m\n"
            ]
          },
          "metadata": {},
          "output_type": "display_data"
        },
        {
          "data": {
            "text/html": [
              "<pre style=\"white-space:pre;overflow-x:auto;line-height:normal;font-family:Menlo,'DejaVu Sans Mono',consolas,'Courier New',monospace\">   ddrmc_isr_dc_cmd1_fatal :   <span style=\"color: #008080; text-decoration-color: #008080; font-weight: bold\">0</span>\n",
              "</pre>\n"
            ],
            "text/plain": [
              "   ddrmc_isr_dc_cmd1_fatal :   \u001b[1;36m0\u001b[0m\n"
            ]
          },
          "metadata": {},
          "output_type": "display_data"
        },
        {
          "data": {
            "text/html": [
              "<pre style=\"white-space:pre;overflow-x:auto;line-height:normal;font-family:Menlo,'DejaVu Sans Mono',consolas,'Courier New',monospace\">   ddrmc_isr_dram_parity0 :   <span style=\"color: #008080; text-decoration-color: #008080; font-weight: bold\">0</span>\n",
              "</pre>\n"
            ],
            "text/plain": [
              "   ddrmc_isr_dram_parity0 :   \u001b[1;36m0\u001b[0m\n"
            ]
          },
          "metadata": {},
          "output_type": "display_data"
        },
        {
          "data": {
            "text/html": [
              "<pre style=\"white-space:pre;overflow-x:auto;line-height:normal;font-family:Menlo,'DejaVu Sans Mono',consolas,'Courier New',monospace\">   ddrmc_isr_dram_parity1 :   <span style=\"color: #008080; text-decoration-color: #008080; font-weight: bold\">0</span>\n",
              "</pre>\n"
            ],
            "text/plain": [
              "   ddrmc_isr_dram_parity1 :   \u001b[1;36m0\u001b[0m\n"
            ]
          },
          "metadata": {},
          "output_type": "display_data"
        },
        {
          "data": {
            "text/html": [
              "<pre style=\"white-space:pre;overflow-x:auto;line-height:normal;font-family:Menlo,'DejaVu Sans Mono',consolas,'Courier New',monospace\">   ddrmc_isr_dram_parity_fatal_0 :   <span style=\"color: #008080; text-decoration-color: #008080; font-weight: bold\">0</span>\n",
              "</pre>\n"
            ],
            "text/plain": [
              "   ddrmc_isr_dram_parity_fatal_0 :   \u001b[1;36m0\u001b[0m\n"
            ]
          },
          "metadata": {},
          "output_type": "display_data"
        },
        {
          "data": {
            "text/html": [
              "<pre style=\"white-space:pre;overflow-x:auto;line-height:normal;font-family:Menlo,'DejaVu Sans Mono',consolas,'Courier New',monospace\">   ddrmc_isr_dram_parity_fatal_1 :   <span style=\"color: #008080; text-decoration-color: #008080; font-weight: bold\">0</span>\n",
              "</pre>\n"
            ],
            "text/plain": [
              "   ddrmc_isr_dram_parity_fatal_1 :   \u001b[1;36m0\u001b[0m\n"
            ]
          },
          "metadata": {},
          "output_type": "display_data"
        },
        {
          "data": {
            "text/html": [
              "<pre style=\"white-space:pre;overflow-x:auto;line-height:normal;font-family:Menlo,'DejaVu Sans Mono',consolas,'Courier New',monospace\">   ddrmc_isr_na_cmd :   <span style=\"color: #008080; text-decoration-color: #008080; font-weight: bold\">0</span>\n",
              "</pre>\n"
            ],
            "text/plain": [
              "   ddrmc_isr_na_cmd :   \u001b[1;36m0\u001b[0m\n"
            ]
          },
          "metadata": {},
          "output_type": "display_data"
        },
        {
          "data": {
            "text/html": [
              "<pre style=\"white-space:pre;overflow-x:auto;line-height:normal;font-family:Menlo,'DejaVu Sans Mono',consolas,'Courier New',monospace\">   ddrmc_isr_na_cmd0 :   <span style=\"color: #008080; text-decoration-color: #008080; font-weight: bold\">0</span>\n",
              "</pre>\n"
            ],
            "text/plain": [
              "   ddrmc_isr_na_cmd0 :   \u001b[1;36m0\u001b[0m\n"
            ]
          },
          "metadata": {},
          "output_type": "display_data"
        },
        {
          "data": {
            "text/html": [
              "<pre style=\"white-space:pre;overflow-x:auto;line-height:normal;font-family:Menlo,'DejaVu Sans Mono',consolas,'Courier New',monospace\">   ddrmc_isr_na_cmd1 :   <span style=\"color: #008080; text-decoration-color: #008080; font-weight: bold\">0</span>\n",
              "</pre>\n"
            ],
            "text/plain": [
              "   ddrmc_isr_na_cmd1 :   \u001b[1;36m0\u001b[0m\n"
            ]
          },
          "metadata": {},
          "output_type": "display_data"
        },
        {
          "data": {
            "text/html": [
              "<pre style=\"white-space:pre;overflow-x:auto;line-height:normal;font-family:Menlo,'DejaVu Sans Mono',consolas,'Courier New',monospace\">   ddrmc_isr_na_cmd_fatal :   <span style=\"color: #008080; text-decoration-color: #008080; font-weight: bold\">0</span>\n",
              "</pre>\n"
            ],
            "text/plain": [
              "   ddrmc_isr_na_cmd_fatal :   \u001b[1;36m0\u001b[0m\n"
            ]
          },
          "metadata": {},
          "output_type": "display_data"
        },
        {
          "data": {
            "text/html": [
              "<pre style=\"white-space:pre;overflow-x:auto;line-height:normal;font-family:Menlo,'DejaVu Sans Mono',consolas,'Courier New',monospace\">   ddrmc_isr_nsu_0 :   <span style=\"color: #008080; text-decoration-color: #008080; font-weight: bold\">0</span>\n",
              "</pre>\n"
            ],
            "text/plain": [
              "   ddrmc_isr_nsu_0 :   \u001b[1;36m0\u001b[0m\n"
            ]
          },
          "metadata": {},
          "output_type": "display_data"
        },
        {
          "data": {
            "text/html": [
              "<pre style=\"white-space:pre;overflow-x:auto;line-height:normal;font-family:Menlo,'DejaVu Sans Mono',consolas,'Courier New',monospace\">   ddrmc_isr_nsu_1 :   <span style=\"color: #008080; text-decoration-color: #008080; font-weight: bold\">0</span>\n",
              "</pre>\n"
            ],
            "text/plain": [
              "   ddrmc_isr_nsu_1 :   \u001b[1;36m0\u001b[0m\n"
            ]
          },
          "metadata": {},
          "output_type": "display_data"
        },
        {
          "data": {
            "text/html": [
              "<pre style=\"white-space:pre;overflow-x:auto;line-height:normal;font-family:Menlo,'DejaVu Sans Mono',consolas,'Courier New',monospace\">   ddrmc_isr_nsu_2 :   <span style=\"color: #008080; text-decoration-color: #008080; font-weight: bold\">0</span>\n",
              "</pre>\n"
            ],
            "text/plain": [
              "   ddrmc_isr_nsu_2 :   \u001b[1;36m0\u001b[0m\n"
            ]
          },
          "metadata": {},
          "output_type": "display_data"
        },
        {
          "data": {
            "text/html": [
              "<pre style=\"white-space:pre;overflow-x:auto;line-height:normal;font-family:Menlo,'DejaVu Sans Mono',consolas,'Courier New',monospace\">   ddrmc_isr_nsu_3 :   <span style=\"color: #008080; text-decoration-color: #008080; font-weight: bold\">0</span>\n",
              "</pre>\n"
            ],
            "text/plain": [
              "   ddrmc_isr_nsu_3 :   \u001b[1;36m0\u001b[0m\n"
            ]
          },
          "metadata": {},
          "output_type": "display_data"
        },
        {
          "data": {
            "text/html": [
              "<pre style=\"white-space:pre;overflow-x:auto;line-height:normal;font-family:Menlo,'DejaVu Sans Mono',consolas,'Courier New',monospace\">   ddrmc_isr_nsu_fatal0 :   <span style=\"color: #008080; text-decoration-color: #008080; font-weight: bold\">0</span>\n",
              "</pre>\n"
            ],
            "text/plain": [
              "   ddrmc_isr_nsu_fatal0 :   \u001b[1;36m0\u001b[0m\n"
            ]
          },
          "metadata": {},
          "output_type": "display_data"
        },
        {
          "data": {
            "text/html": [
              "<pre style=\"white-space:pre;overflow-x:auto;line-height:normal;font-family:Menlo,'DejaVu Sans Mono',consolas,'Courier New',monospace\">   ddrmc_isr_nsu_fatal1 :   <span style=\"color: #008080; text-decoration-color: #008080; font-weight: bold\">0</span>\n",
              "</pre>\n"
            ],
            "text/plain": [
              "   ddrmc_isr_nsu_fatal1 :   \u001b[1;36m0\u001b[0m\n"
            ]
          },
          "metadata": {},
          "output_type": "display_data"
        },
        {
          "data": {
            "text/html": [
              "<pre style=\"white-space:pre;overflow-x:auto;line-height:normal;font-family:Menlo,'DejaVu Sans Mono',consolas,'Courier New',monospace\">   ddrmc_isr_nsu_fatal2 :   <span style=\"color: #008080; text-decoration-color: #008080; font-weight: bold\">0</span>\n",
              "</pre>\n"
            ],
            "text/plain": [
              "   ddrmc_isr_nsu_fatal2 :   \u001b[1;36m0\u001b[0m\n"
            ]
          },
          "metadata": {},
          "output_type": "display_data"
        },
        {
          "data": {
            "text/html": [
              "<pre style=\"white-space:pre;overflow-x:auto;line-height:normal;font-family:Menlo,'DejaVu Sans Mono',consolas,'Courier New',monospace\">   ddrmc_isr_nsu_fatal3 :   <span style=\"color: #008080; text-decoration-color: #008080; font-weight: bold\">0</span>\n",
              "</pre>\n"
            ],
            "text/plain": [
              "   ddrmc_isr_nsu_fatal3 :   \u001b[1;36m0\u001b[0m\n"
            ]
          },
          "metadata": {},
          "output_type": "display_data"
        },
        {
          "data": {
            "text/html": [
              "<pre style=\"white-space:pre;overflow-x:auto;line-height:normal;font-family:Menlo,'DejaVu Sans Mono',consolas,'Courier New',monospace\">   ddrmc_isr_uc0_ecc0 :   <span style=\"color: #008080; text-decoration-color: #008080; font-weight: bold\">0</span>\n",
              "</pre>\n"
            ],
            "text/plain": [
              "   ddrmc_isr_uc0_ecc0 :   \u001b[1;36m0\u001b[0m\n"
            ]
          },
          "metadata": {},
          "output_type": "display_data"
        },
        {
          "data": {
            "text/html": [
              "<pre style=\"white-space:pre;overflow-x:auto;line-height:normal;font-family:Menlo,'DejaVu Sans Mono',consolas,'Courier New',monospace\">   ddrmc_isr_uc0_ecc1 :   <span style=\"color: #008080; text-decoration-color: #008080; font-weight: bold\">0</span>\n",
              "</pre>\n"
            ],
            "text/plain": [
              "   ddrmc_isr_uc0_ecc1 :   \u001b[1;36m0\u001b[0m\n"
            ]
          },
          "metadata": {},
          "output_type": "display_data"
        },
        {
          "data": {
            "text/html": [
              "<pre style=\"white-space:pre;overflow-x:auto;line-height:normal;font-family:Menlo,'DejaVu Sans Mono',consolas,'Courier New',monospace\">   ddrmc_isr_uc1_ecc0 :   <span style=\"color: #008080; text-decoration-color: #008080; font-weight: bold\">0</span>\n",
              "</pre>\n"
            ],
            "text/plain": [
              "   ddrmc_isr_uc1_ecc0 :   \u001b[1;36m0\u001b[0m\n"
            ]
          },
          "metadata": {},
          "output_type": "display_data"
        },
        {
          "data": {
            "text/html": [
              "<pre style=\"white-space:pre;overflow-x:auto;line-height:normal;font-family:Menlo,'DejaVu Sans Mono',consolas,'Courier New',monospace\">   ddrmc_isr_uc1_ecc1 :   <span style=\"color: #008080; text-decoration-color: #008080; font-weight: bold\">0</span>\n",
              "</pre>\n"
            ],
            "text/plain": [
              "   ddrmc_isr_uc1_ecc1 :   \u001b[1;36m0\u001b[0m\n"
            ]
          },
          "metadata": {},
          "output_type": "display_data"
        },
        {
          "data": {
            "text/html": [
              "<pre style=\"white-space:pre;overflow-x:auto;line-height:normal;font-family:Menlo,'DejaVu Sans Mono',consolas,'Courier New',monospace\">\n",
              "UB ISR Table\n",
              "\n",
              "</pre>\n"
            ],
            "text/plain": [
              "\n",
              "UB ISR Table\n",
              "\n"
            ]
          },
          "metadata": {},
          "output_type": "display_data"
        },
        {
          "data": {
            "text/html": [
              "<pre style=\"white-space:pre;overflow-x:auto;line-height:normal;font-family:Menlo,'DejaVu Sans Mono',consolas,'Courier New',monospace\">   ub_data_ce :   <span style=\"color: #008080; text-decoration-color: #008080; font-weight: bold\">0</span>\n",
              "</pre>\n"
            ],
            "text/plain": [
              "   ub_data_ce :   \u001b[1;36m0\u001b[0m\n"
            ]
          },
          "metadata": {},
          "output_type": "display_data"
        },
        {
          "data": {
            "text/html": [
              "<pre style=\"white-space:pre;overflow-x:auto;line-height:normal;font-family:Menlo,'DejaVu Sans Mono',consolas,'Courier New',monospace\">   ub_data_ue :   <span style=\"color: #008080; text-decoration-color: #008080; font-weight: bold\">0</span>\n",
              "</pre>\n"
            ],
            "text/plain": [
              "   ub_data_ue :   \u001b[1;36m0\u001b[0m\n"
            ]
          },
          "metadata": {},
          "output_type": "display_data"
        },
        {
          "data": {
            "text/html": [
              "<pre style=\"white-space:pre;overflow-x:auto;line-height:normal;font-family:Menlo,'DejaVu Sans Mono',consolas,'Courier New',monospace\">   ub_instr_ce :   <span style=\"color: #008080; text-decoration-color: #008080; font-weight: bold\">0</span>\n",
              "</pre>\n"
            ],
            "text/plain": [
              "   ub_instr_ce :   \u001b[1;36m0\u001b[0m\n"
            ]
          },
          "metadata": {},
          "output_type": "display_data"
        },
        {
          "data": {
            "text/html": [
              "<pre style=\"white-space:pre;overflow-x:auto;line-height:normal;font-family:Menlo,'DejaVu Sans Mono',consolas,'Courier New',monospace\">   ub_isntr_ue :   <span style=\"color: #008080; text-decoration-color: #008080; font-weight: bold\">0</span>\n",
              "</pre>\n"
            ],
            "text/plain": [
              "   ub_isntr_ue :   \u001b[1;36m0\u001b[0m\n"
            ]
          },
          "metadata": {},
          "output_type": "display_data"
        },
        {
          "data": {
            "text/html": [
              "<pre style=\"white-space:pre;overflow-x:auto;line-height:normal;font-family:Menlo,'DejaVu Sans Mono',consolas,'Courier New',monospace\">   ub_isr_calerror :   <span style=\"color: #008080; text-decoration-color: #008080; font-weight: bold\">0</span>\n",
              "</pre>\n"
            ],
            "text/plain": [
              "   ub_isr_calerror :   \u001b[1;36m0\u001b[0m\n"
            ]
          },
          "metadata": {},
          "output_type": "display_data"
        },
        {
          "data": {
            "text/html": [
              "<pre style=\"white-space:pre;overflow-x:auto;line-height:normal;font-family:Menlo,'DejaVu Sans Mono',consolas,'Courier New',monospace\">   ub_isr_vt_track_err :   <span style=\"color: #008080; text-decoration-color: #008080; font-weight: bold\">0</span>\n",
              "</pre>\n"
            ],
            "text/plain": [
              "   ub_isr_vt_track_err :   \u001b[1;36m0\u001b[0m\n"
            ]
          },
          "metadata": {},
          "output_type": "display_data"
        },
        {
          "data": {
            "text/html": [
              "<pre style=\"white-space:pre;overflow-x:auto;line-height:normal;font-family:Menlo,'DejaVu Sans Mono',consolas,'Courier New',monospace\">   ub_isr_watchdog :   <span style=\"color: #008080; text-decoration-color: #008080; font-weight: bold\">0</span>\n",
              "</pre>\n"
            ],
            "text/plain": [
              "   ub_isr_watchdog :   \u001b[1;36m0\u001b[0m\n"
            ]
          },
          "metadata": {},
          "output_type": "display_data"
        },
        {
          "data": {
            "text/html": [
              "<pre style=\"white-space:pre;overflow-x:auto;line-height:normal;font-family:Menlo,'DejaVu Sans Mono',consolas,'Courier New',monospace\">   ub_ub_msg :   <span style=\"color: #008080; text-decoration-color: #008080; font-weight: bold\">0</span>\n",
              "</pre>\n"
            ],
            "text/plain": [
              "   ub_ub_msg :   \u001b[1;36m0\u001b[0m\n"
            ]
          },
          "metadata": {},
          "output_type": "display_data"
        },
        {
          "data": {
            "text/html": [
              "<pre style=\"white-space:pre;overflow-x:auto;line-height:normal;font-family:Menlo,'DejaVu Sans Mono',consolas,'Courier New',monospace\">\n",
              "----------------------------------\n",
              "\n",
              "</pre>\n"
            ],
            "text/plain": [
              "\n",
              "----------------------------------\n",
              "\n"
            ]
          },
          "metadata": {},
          "output_type": "display_data"
        },
        {
          "data": {
            "text/html": [
              "<pre style=\"white-space:pre;overflow-x:auto;line-height:normal;font-family:Menlo,'DejaVu Sans Mono',consolas,'Courier New',monospace\"> Memory Configuration \n",
              "\n",
              "</pre>\n"
            ],
            "text/plain": [
              " Memory Configuration \n",
              "\n"
            ]
          },
          "metadata": {},
          "output_type": "display_data"
        },
        {
          "data": {
            "text/html": [
              "<pre style=\"white-space:pre;overflow-x:auto;line-height:normal;font-family:Menlo,'DejaVu Sans Mono',consolas,'Courier New',monospace\">----------------------------------\n",
              "\n",
              "</pre>\n"
            ],
            "text/plain": [
              "----------------------------------\n",
              "\n"
            ]
          },
          "metadata": {},
          "output_type": "display_data"
        },
        {
          "data": {
            "text/html": [
              "<pre style=\"white-space:pre;overflow-x:auto;line-height:normal;font-family:Menlo,'DejaVu Sans Mono',consolas,'Courier New',monospace\">DDRMC Core Name :   ddr_0\n",
              "</pre>\n"
            ],
            "text/plain": [
              "DDRMC Core Name :   ddr_0\n"
            ]
          },
          "metadata": {},
          "output_type": "display_data"
        },
        {
          "data": {
            "text/html": [
              "<pre style=\"white-space:pre;overflow-x:auto;line-height:normal;font-family:Menlo,'DejaVu Sans Mono',consolas,'Courier New',monospace\">Memory Interface :   DDR4\n",
              "</pre>\n"
            ],
            "text/plain": [
              "Memory Interface :   DDR4\n"
            ]
          },
          "metadata": {},
          "output_type": "display_data"
        },
        {
          "data": {
            "text/html": [
              "<pre style=\"white-space:pre;overflow-x:auto;line-height:normal;font-family:Menlo,'DejaVu Sans Mono',consolas,'Courier New',monospace\">Device Type :   UDIMM\n",
              "</pre>\n"
            ],
            "text/plain": [
              "Device Type :   UDIMM\n"
            ]
          },
          "metadata": {},
          "output_type": "display_data"
        },
        {
          "data": {
            "text/html": [
              "<pre style=\"white-space:pre;overflow-x:auto;line-height:normal;font-family:Menlo,'DejaVu Sans Mono',consolas,'Courier New',monospace\">MC Location :   x0y0\n",
              "</pre>\n"
            ],
            "text/plain": [
              "MC Location :   x0y0\n"
            ]
          },
          "metadata": {},
          "output_type": "display_data"
        },
        {
          "data": {
            "text/html": [
              "<pre style=\"white-space:pre;overflow-x:auto;line-height:normal;font-family:Menlo,'DejaVu Sans Mono',consolas,'Courier New',monospace\">Slots :   <span style=\"color: #008080; text-decoration-color: #008080; font-weight: bold\">1</span>\n",
              "</pre>\n"
            ],
            "text/plain": [
              "Slots :   \u001b[1;36m1\u001b[0m\n"
            ]
          },
          "metadata": {},
          "output_type": "display_data"
        },
        {
          "data": {
            "text/html": [
              "<pre style=\"white-space:pre;overflow-x:auto;line-height:normal;font-family:Menlo,'DejaVu Sans Mono',consolas,'Courier New',monospace\">Ranks :   <span style=\"color: #008080; text-decoration-color: #008080; font-weight: bold\">1</span>\n",
              "</pre>\n"
            ],
            "text/plain": [
              "Ranks :   \u001b[1;36m1\u001b[0m\n"
            ]
          },
          "metadata": {},
          "output_type": "display_data"
        },
        {
          "data": {
            "text/html": [
              "<pre style=\"white-space:pre;overflow-x:auto;line-height:normal;font-family:Menlo,'DejaVu Sans Mono',consolas,'Courier New',monospace\">Data Width :   <span style=\"color: #008080; text-decoration-color: #008080; font-weight: bold\">64</span>\n",
              "</pre>\n"
            ],
            "text/plain": [
              "Data Width :   \u001b[1;36m64\u001b[0m\n"
            ]
          },
          "metadata": {},
          "output_type": "display_data"
        },
        {
          "data": {
            "text/html": [
              "<pre style=\"white-space:pre;overflow-x:auto;line-height:normal;font-family:Menlo,'DejaVu Sans Mono',consolas,'Courier New',monospace\">Bytes :   <span style=\"color: #008080; text-decoration-color: #008080; font-weight: bold\">8</span>\n",
              "</pre>\n"
            ],
            "text/plain": [
              "Bytes :   \u001b[1;36m8\u001b[0m\n"
            ]
          },
          "metadata": {},
          "output_type": "display_data"
        },
        {
          "data": {
            "text/html": [
              "<pre style=\"white-space:pre;overflow-x:auto;line-height:normal;font-family:Menlo,'DejaVu Sans Mono',consolas,'Courier New',monospace\">Nibbles :   <span style=\"color: #008080; text-decoration-color: #008080; font-weight: bold\">16</span>\n",
              "</pre>\n"
            ],
            "text/plain": [
              "Nibbles :   \u001b[1;36m16\u001b[0m\n"
            ]
          },
          "metadata": {},
          "output_type": "display_data"
        },
        {
          "data": {
            "text/html": [
              "<pre style=\"white-space:pre;overflow-x:auto;line-height:normal;font-family:Menlo,'DejaVu Sans Mono',consolas,'Courier New',monospace\">Bits per Byte :   <span style=\"color: #008080; text-decoration-color: #008080; font-weight: bold\">8</span>\n",
              "</pre>\n"
            ],
            "text/plain": [
              "Bits per Byte :   \u001b[1;36m8\u001b[0m\n"
            ]
          },
          "metadata": {},
          "output_type": "display_data"
        },
        {
          "data": {
            "text/html": [
              "<pre style=\"white-space:pre;overflow-x:auto;line-height:normal;font-family:Menlo,'DejaVu Sans Mono',consolas,'Courier New',monospace\">Memory Frequency <span style=\"color: #008080; text-decoration-color: #008080; font-weight: bold\">0</span> :   <span style=\"color: #008080; text-decoration-color: #008080; font-weight: bold\">1600</span> MHz\n",
              "</pre>\n"
            ],
            "text/plain": [
              "Memory Frequency \u001b[1;36m0\u001b[0m :   \u001b[1;36m1600\u001b[0m MHz\n"
            ]
          },
          "metadata": {},
          "output_type": "display_data"
        },
        {
          "data": {
            "text/html": [
              "<pre style=\"white-space:pre;overflow-x:auto;line-height:normal;font-family:Menlo,'DejaVu Sans Mono',consolas,'Courier New',monospace\">\n",
              "-----------------------------------\n",
              "\n",
              "</pre>\n"
            ],
            "text/plain": [
              "\n",
              "-----------------------------------\n",
              "\n"
            ]
          },
          "metadata": {},
          "output_type": "display_data"
        },
        {
          "data": {
            "text/html": [
              "<pre style=\"white-space:pre;overflow-x:auto;line-height:normal;font-family:Menlo,'DejaVu Sans Mono',consolas,'Courier New',monospace\"> Calibration Stages Information \n",
              "\n",
              "</pre>\n"
            ],
            "text/plain": [
              " Calibration Stages Information \n",
              "\n"
            ]
          },
          "metadata": {},
          "output_type": "display_data"
        },
        {
          "data": {
            "text/html": [
              "<pre style=\"white-space:pre;overflow-x:auto;line-height:normal;font-family:Menlo,'DejaVu Sans Mono',consolas,'Courier New',monospace\">-----------------------------------\n",
              "\n",
              "</pre>\n"
            ],
            "text/plain": [
              "-----------------------------------\n",
              "\n"
            ]
          },
          "metadata": {},
          "output_type": "display_data"
        },
        {
          "data": {
            "text/html": [
              "<pre style=\"white-space:pre;overflow-x:auto;line-height:normal;font-family:Menlo,'DejaVu Sans Mono',consolas,'Courier New',monospace\">cal_stage.01_F0_PHY_BISC :   Pass\n",
              "</pre>\n"
            ],
            "text/plain": [
              "cal_stage.01_F0_PHY_BISC :   Pass\n"
            ]
          },
          "metadata": {},
          "output_type": "display_data"
        },
        {
          "data": {
            "text/html": [
              "<pre style=\"white-space:pre;overflow-x:auto;line-height:normal;font-family:Menlo,'DejaVu Sans Mono',consolas,'Courier New',monospace\">cal_stage.02_F0_MEM_INIT :   Pass\n",
              "</pre>\n"
            ],
            "text/plain": [
              "cal_stage.02_F0_MEM_INIT :   Pass\n"
            ]
          },
          "metadata": {},
          "output_type": "display_data"
        },
        {
          "data": {
            "text/html": [
              "<pre style=\"white-space:pre;overflow-x:auto;line-height:normal;font-family:Menlo,'DejaVu Sans Mono',consolas,'Courier New',monospace\">cal_stage.03_F0_DQS_GATE_CAL :   Pass\n",
              "</pre>\n"
            ],
            "text/plain": [
              "cal_stage.03_F0_DQS_GATE_CAL :   Pass\n"
            ]
          },
          "metadata": {},
          "output_type": "display_data"
        },
        {
          "data": {
            "text/html": [
              "<pre style=\"white-space:pre;overflow-x:auto;line-height:normal;font-family:Menlo,'DejaVu Sans Mono',consolas,'Courier New',monospace\">cal_stage.04_F0_WRITE_LEVELING :   Pass\n",
              "</pre>\n"
            ],
            "text/plain": [
              "cal_stage.04_F0_WRITE_LEVELING :   Pass\n"
            ]
          },
          "metadata": {},
          "output_type": "display_data"
        },
        {
          "data": {
            "text/html": [
              "<pre style=\"white-space:pre;overflow-x:auto;line-height:normal;font-family:Menlo,'DejaVu Sans Mono',consolas,'Courier New',monospace\">cal_stage.05_F0_READ_DQ_CAL :   Pass\n",
              "</pre>\n"
            ],
            "text/plain": [
              "cal_stage.05_F0_READ_DQ_CAL :   Pass\n"
            ]
          },
          "metadata": {},
          "output_type": "display_data"
        },
        {
          "data": {
            "text/html": [
              "<pre style=\"white-space:pre;overflow-x:auto;line-height:normal;font-family:Menlo,'DejaVu Sans Mono',consolas,'Courier New',monospace\">cal_stage.06_F0_WRITE_DQ_DBI_CAL :   Pass\n",
              "</pre>\n"
            ],
            "text/plain": [
              "cal_stage.06_F0_WRITE_DQ_DBI_CAL :   Pass\n"
            ]
          },
          "metadata": {},
          "output_type": "display_data"
        },
        {
          "data": {
            "text/html": [
              "<pre style=\"white-space:pre;overflow-x:auto;line-height:normal;font-family:Menlo,'DejaVu Sans Mono',consolas,'Courier New',monospace\">cal_stage.07_F0_WRITE_LATENCY_CAL :   Pass\n",
              "</pre>\n"
            ],
            "text/plain": [
              "cal_stage.07_F0_WRITE_LATENCY_CAL :   Pass\n"
            ]
          },
          "metadata": {},
          "output_type": "display_data"
        },
        {
          "data": {
            "text/html": [
              "<pre style=\"white-space:pre;overflow-x:auto;line-height:normal;font-family:Menlo,'DejaVu Sans Mono',consolas,'Courier New',monospace\">cal_stage.08_F0_READ_DQ_DBI_CAL_COMPLEX :   Pass\n",
              "</pre>\n"
            ],
            "text/plain": [
              "cal_stage.08_F0_READ_DQ_DBI_CAL_COMPLEX :   Pass\n"
            ]
          },
          "metadata": {},
          "output_type": "display_data"
        },
        {
          "data": {
            "text/html": [
              "<pre style=\"white-space:pre;overflow-x:auto;line-height:normal;font-family:Menlo,'DejaVu Sans Mono',consolas,'Courier New',monospace\">cal_stage.09_F0_WRITE_DQ_DBI_CAL_COMPLEX :   Pass\n",
              "</pre>\n"
            ],
            "text/plain": [
              "cal_stage.09_F0_WRITE_DQ_DBI_CAL_COMPLEX :   Pass\n"
            ]
          },
          "metadata": {},
          "output_type": "display_data"
        },
        {
          "data": {
            "text/html": [
              "<pre style=\"white-space:pre;overflow-x:auto;line-height:normal;font-family:Menlo,'DejaVu Sans Mono',consolas,'Courier New',monospace\">cal_stage.10_EN_VT_TRACK :   Pass\n",
              "</pre>\n"
            ],
            "text/plain": [
              "cal_stage.10_EN_VT_TRACK :   Pass\n"
            ]
          },
          "metadata": {},
          "output_type": "display_data"
        },
        {
          "data": {
            "text/html": [
              "<pre style=\"white-space:pre;overflow-x:auto;line-height:normal;font-family:Menlo,'DejaVu Sans Mono',consolas,'Courier New',monospace\">cal_stage.11_READ_DQS_TRACK :   Pass\n",
              "</pre>\n"
            ],
            "text/plain": [
              "cal_stage.11_READ_DQS_TRACK :   Pass\n"
            ]
          },
          "metadata": {},
          "output_type": "display_data"
        },
        {
          "data": {
            "text/html": [
              "<pre style=\"white-space:pre;overflow-x:auto;line-height:normal;font-family:Menlo,'DejaVu Sans Mono',consolas,'Courier New',monospace\">cal_stage.12_CAL_DONE :   Pass\n",
              "</pre>\n"
            ],
            "text/plain": [
              "cal_stage.12_CAL_DONE :   Pass\n"
            ]
          },
          "metadata": {},
          "output_type": "display_data"
        },
        {
          "data": {
            "text/html": [
              "<pre style=\"white-space:pre;overflow-x:auto;line-height:normal;font-family:Menlo,'DejaVu Sans Mono',consolas,'Courier New',monospace\">\n",
              "---------------------------------------\n",
              "\n",
              "</pre>\n"
            ],
            "text/plain": [
              "\n",
              "---------------------------------------\n",
              "\n"
            ]
          },
          "metadata": {},
          "output_type": "display_data"
        },
        {
          "data": {
            "text/html": [
              "<pre style=\"white-space:pre;overflow-x:auto;line-height:normal;font-family:Menlo,'DejaVu Sans Mono',consolas,'Courier New',monospace\"> Calibration Window Margin Analysis \n",
              "\n",
              "</pre>\n"
            ],
            "text/plain": [
              " Calibration Window Margin Analysis \n",
              "\n"
            ]
          },
          "metadata": {},
          "output_type": "display_data"
        },
        {
          "data": {
            "text/html": [
              "<pre style=\"white-space:pre;overflow-x:auto;line-height:normal;font-family:Menlo,'DejaVu Sans Mono',consolas,'Courier New',monospace\">---------------------------------------\n",
              "\n",
              "</pre>\n"
            ],
            "text/plain": [
              "---------------------------------------\n",
              "\n"
            ]
          },
          "metadata": {},
          "output_type": "display_data"
        },
        {
          "data": {
            "text/html": [
              "<pre style=\"white-space:pre;overflow-x:auto;line-height:normal;font-family:Menlo,'DejaVu Sans Mono',consolas,'Courier New',monospace\">\n",
              " Frequency <span style=\"color: #008080; text-decoration-color: #008080; font-weight: bold\">0</span>  - Read Margin - Simple Pattern - Rising Edge Clock in pS and <span style=\"font-weight: bold\">(</span>delay taps<span style=\"font-weight: bold\">)</span>:\n",
              "\n",
              "</pre>\n"
            ],
            "text/plain": [
              "\n",
              " Frequency \u001b[1;36m0\u001b[0m  - Read Margin - Simple Pattern - Rising Edge Clock in pS and \u001b[1m(\u001b[0mdelay taps\u001b[1m)\u001b[0m:\n",
              "\n"
            ]
          },
          "metadata": {},
          "output_type": "display_data"
        },
        {
          "data": {
            "text/html": [
              "<pre style=\"white-space:pre;overflow-x:auto;line-height:normal;font-family:Menlo,'DejaVu Sans Mono',consolas,'Courier New',monospace\">Byte  <span style=\"color: #008080; text-decoration-color: #008080; font-weight: bold\">0</span>  Nibble <span style=\"color: #008080; text-decoration-color: #008080; font-weight: bold\">0</span>  -   Left Margin:   <span style=\"color: #008080; text-decoration-color: #008080; font-weight: bold\">133</span>  <span style=\"font-weight: bold\">(</span> <span style=\"color: #008080; text-decoration-color: #008080; font-weight: bold\">72</span> <span style=\"font-weight: bold\">)</span>  Center Point:   <span style=\"color: #008080; text-decoration-color: #008080; font-weight: bold\">167</span>  <span style=\"font-weight: bold\">(</span> <span style=\"color: #008080; text-decoration-color: #008080; font-weight: bold\">90</span> <span style=\"font-weight: bold\">)</span>  Right Margin:   <span style=\"color: #008080; text-decoration-color: #008080; font-weight: bold\">135</span>  <span style=\"font-weight: bold\">(</span> <span style=\"color: #008080; text-decoration-color: #008080; font-weight: bold\">73</span> <span style=\"font-weight: bold\">)</span>\n",
              "</pre>\n"
            ],
            "text/plain": [
              "Byte  \u001b[1;36m0\u001b[0m  Nibble \u001b[1;36m0\u001b[0m  -   Left Margin:   \u001b[1;36m133\u001b[0m  \u001b[1m(\u001b[0m \u001b[1;36m72\u001b[0m \u001b[1m)\u001b[0m  Center Point:   \u001b[1;36m167\u001b[0m  \u001b[1m(\u001b[0m \u001b[1;36m90\u001b[0m \u001b[1m)\u001b[0m  Right Margin:   \u001b[1;36m135\u001b[0m  \u001b[1m(\u001b[0m \u001b[1;36m73\u001b[0m \u001b[1m)\u001b[0m\n"
            ]
          },
          "metadata": {},
          "output_type": "display_data"
        },
        {
          "data": {
            "text/html": [
              "<pre style=\"white-space:pre;overflow-x:auto;line-height:normal;font-family:Menlo,'DejaVu Sans Mono',consolas,'Courier New',monospace\">Byte  <span style=\"color: #008080; text-decoration-color: #008080; font-weight: bold\">0</span>  Nibble <span style=\"color: #008080; text-decoration-color: #008080; font-weight: bold\">1</span>  -   Left Margin:   <span style=\"color: #008080; text-decoration-color: #008080; font-weight: bold\">152</span>  <span style=\"font-weight: bold\">(</span> <span style=\"color: #008080; text-decoration-color: #008080; font-weight: bold\">79</span> <span style=\"font-weight: bold\">)</span>  Center Point:   <span style=\"color: #008080; text-decoration-color: #008080; font-weight: bold\">187</span>  <span style=\"font-weight: bold\">(</span> <span style=\"color: #008080; text-decoration-color: #008080; font-weight: bold\">97</span> <span style=\"font-weight: bold\">)</span>  Right Margin:   <span style=\"color: #008080; text-decoration-color: #008080; font-weight: bold\">152</span>  <span style=\"font-weight: bold\">(</span> <span style=\"color: #008080; text-decoration-color: #008080; font-weight: bold\">79</span> <span style=\"font-weight: bold\">)</span>\n",
              "</pre>\n"
            ],
            "text/plain": [
              "Byte  \u001b[1;36m0\u001b[0m  Nibble \u001b[1;36m1\u001b[0m  -   Left Margin:   \u001b[1;36m152\u001b[0m  \u001b[1m(\u001b[0m \u001b[1;36m79\u001b[0m \u001b[1m)\u001b[0m  Center Point:   \u001b[1;36m187\u001b[0m  \u001b[1m(\u001b[0m \u001b[1;36m97\u001b[0m \u001b[1m)\u001b[0m  Right Margin:   \u001b[1;36m152\u001b[0m  \u001b[1m(\u001b[0m \u001b[1;36m79\u001b[0m \u001b[1m)\u001b[0m\n"
            ]
          },
          "metadata": {},
          "output_type": "display_data"
        },
        {
          "data": {
            "text/html": [
              "<pre style=\"white-space:pre;overflow-x:auto;line-height:normal;font-family:Menlo,'DejaVu Sans Mono',consolas,'Courier New',monospace\">Byte  <span style=\"color: #008080; text-decoration-color: #008080; font-weight: bold\">1</span>  Nibble <span style=\"color: #008080; text-decoration-color: #008080; font-weight: bold\">0</span>  -   Left Margin:   <span style=\"color: #008080; text-decoration-color: #008080; font-weight: bold\">150</span>  <span style=\"font-weight: bold\">(</span> <span style=\"color: #008080; text-decoration-color: #008080; font-weight: bold\">77</span> <span style=\"font-weight: bold\">)</span>  Center Point:   <span style=\"color: #008080; text-decoration-color: #008080; font-weight: bold\">186</span>  <span style=\"font-weight: bold\">(</span> <span style=\"color: #008080; text-decoration-color: #008080; font-weight: bold\">95</span> <span style=\"font-weight: bold\">)</span>  Right Margin:   <span style=\"color: #008080; text-decoration-color: #008080; font-weight: bold\">152</span>  <span style=\"font-weight: bold\">(</span> <span style=\"color: #008080; text-decoration-color: #008080; font-weight: bold\">78</span> <span style=\"font-weight: bold\">)</span>\n",
              "</pre>\n"
            ],
            "text/plain": [
              "Byte  \u001b[1;36m1\u001b[0m  Nibble \u001b[1;36m0\u001b[0m  -   Left Margin:   \u001b[1;36m150\u001b[0m  \u001b[1m(\u001b[0m \u001b[1;36m77\u001b[0m \u001b[1m)\u001b[0m  Center Point:   \u001b[1;36m186\u001b[0m  \u001b[1m(\u001b[0m \u001b[1;36m95\u001b[0m \u001b[1m)\u001b[0m  Right Margin:   \u001b[1;36m152\u001b[0m  \u001b[1m(\u001b[0m \u001b[1;36m78\u001b[0m \u001b[1m)\u001b[0m\n"
            ]
          },
          "metadata": {},
          "output_type": "display_data"
        },
        {
          "data": {
            "text/html": [
              "<pre style=\"white-space:pre;overflow-x:auto;line-height:normal;font-family:Menlo,'DejaVu Sans Mono',consolas,'Courier New',monospace\">Byte  <span style=\"color: #008080; text-decoration-color: #008080; font-weight: bold\">1</span>  Nibble <span style=\"color: #008080; text-decoration-color: #008080; font-weight: bold\">1</span>  -   Left Margin:   <span style=\"color: #008080; text-decoration-color: #008080; font-weight: bold\">152</span>  <span style=\"font-weight: bold\">(</span> <span style=\"color: #008080; text-decoration-color: #008080; font-weight: bold\">79</span> <span style=\"font-weight: bold\">)</span>  Center Point:   <span style=\"color: #008080; text-decoration-color: #008080; font-weight: bold\">187</span>  <span style=\"font-weight: bold\">(</span> <span style=\"color: #008080; text-decoration-color: #008080; font-weight: bold\">97</span> <span style=\"font-weight: bold\">)</span>  Right Margin:   <span style=\"color: #008080; text-decoration-color: #008080; font-weight: bold\">152</span>  <span style=\"font-weight: bold\">(</span> <span style=\"color: #008080; text-decoration-color: #008080; font-weight: bold\">79</span> <span style=\"font-weight: bold\">)</span>\n",
              "</pre>\n"
            ],
            "text/plain": [
              "Byte  \u001b[1;36m1\u001b[0m  Nibble \u001b[1;36m1\u001b[0m  -   Left Margin:   \u001b[1;36m152\u001b[0m  \u001b[1m(\u001b[0m \u001b[1;36m79\u001b[0m \u001b[1m)\u001b[0m  Center Point:   \u001b[1;36m187\u001b[0m  \u001b[1m(\u001b[0m \u001b[1;36m97\u001b[0m \u001b[1m)\u001b[0m  Right Margin:   \u001b[1;36m152\u001b[0m  \u001b[1m(\u001b[0m \u001b[1;36m79\u001b[0m \u001b[1m)\u001b[0m\n"
            ]
          },
          "metadata": {},
          "output_type": "display_data"
        },
        {
          "data": {
            "text/html": [
              "<pre style=\"white-space:pre;overflow-x:auto;line-height:normal;font-family:Menlo,'DejaVu Sans Mono',consolas,'Courier New',monospace\">Byte  <span style=\"color: #008080; text-decoration-color: #008080; font-weight: bold\">2</span>  Nibble <span style=\"color: #008080; text-decoration-color: #008080; font-weight: bold\">0</span>  -   Left Margin:   <span style=\"color: #008080; text-decoration-color: #008080; font-weight: bold\">152</span>  <span style=\"font-weight: bold\">(</span> <span style=\"color: #008080; text-decoration-color: #008080; font-weight: bold\">78</span> <span style=\"font-weight: bold\">)</span>  Center Point:   <span style=\"color: #008080; text-decoration-color: #008080; font-weight: bold\">188</span>  <span style=\"font-weight: bold\">(</span> <span style=\"color: #008080; text-decoration-color: #008080; font-weight: bold\">96</span> <span style=\"font-weight: bold\">)</span>  Right Margin:   <span style=\"color: #008080; text-decoration-color: #008080; font-weight: bold\">154</span>  <span style=\"font-weight: bold\">(</span> <span style=\"color: #008080; text-decoration-color: #008080; font-weight: bold\">79</span> <span style=\"font-weight: bold\">)</span>\n",
              "</pre>\n"
            ],
            "text/plain": [
              "Byte  \u001b[1;36m2\u001b[0m  Nibble \u001b[1;36m0\u001b[0m  -   Left Margin:   \u001b[1;36m152\u001b[0m  \u001b[1m(\u001b[0m \u001b[1;36m78\u001b[0m \u001b[1m)\u001b[0m  Center Point:   \u001b[1;36m188\u001b[0m  \u001b[1m(\u001b[0m \u001b[1;36m96\u001b[0m \u001b[1m)\u001b[0m  Right Margin:   \u001b[1;36m154\u001b[0m  \u001b[1m(\u001b[0m \u001b[1;36m79\u001b[0m \u001b[1m)\u001b[0m\n"
            ]
          },
          "metadata": {},
          "output_type": "display_data"
        },
        {
          "data": {
            "text/html": [
              "<pre style=\"white-space:pre;overflow-x:auto;line-height:normal;font-family:Menlo,'DejaVu Sans Mono',consolas,'Courier New',monospace\">Byte  <span style=\"color: #008080; text-decoration-color: #008080; font-weight: bold\">2</span>  Nibble <span style=\"color: #008080; text-decoration-color: #008080; font-weight: bold\">1</span>  -   Left Margin:   <span style=\"color: #008080; text-decoration-color: #008080; font-weight: bold\">156</span>  <span style=\"font-weight: bold\">(</span> <span style=\"color: #008080; text-decoration-color: #008080; font-weight: bold\">80</span> <span style=\"font-weight: bold\">)</span>  Center Point:   <span style=\"color: #008080; text-decoration-color: #008080; font-weight: bold\">191</span>  <span style=\"font-weight: bold\">(</span> <span style=\"color: #008080; text-decoration-color: #008080; font-weight: bold\">98</span> <span style=\"font-weight: bold\">)</span>  Right Margin:   <span style=\"color: #008080; text-decoration-color: #008080; font-weight: bold\">156</span>  <span style=\"font-weight: bold\">(</span> <span style=\"color: #008080; text-decoration-color: #008080; font-weight: bold\">80</span> <span style=\"font-weight: bold\">)</span>\n",
              "</pre>\n"
            ],
            "text/plain": [
              "Byte  \u001b[1;36m2\u001b[0m  Nibble \u001b[1;36m1\u001b[0m  -   Left Margin:   \u001b[1;36m156\u001b[0m  \u001b[1m(\u001b[0m \u001b[1;36m80\u001b[0m \u001b[1m)\u001b[0m  Center Point:   \u001b[1;36m191\u001b[0m  \u001b[1m(\u001b[0m \u001b[1;36m98\u001b[0m \u001b[1m)\u001b[0m  Right Margin:   \u001b[1;36m156\u001b[0m  \u001b[1m(\u001b[0m \u001b[1;36m80\u001b[0m \u001b[1m)\u001b[0m\n"
            ]
          },
          "metadata": {},
          "output_type": "display_data"
        },
        {
          "data": {
            "text/html": [
              "<pre style=\"white-space:pre;overflow-x:auto;line-height:normal;font-family:Menlo,'DejaVu Sans Mono',consolas,'Courier New',monospace\">Byte  <span style=\"color: #008080; text-decoration-color: #008080; font-weight: bold\">3</span>  Nibble <span style=\"color: #008080; text-decoration-color: #008080; font-weight: bold\">0</span>  -   Left Margin:   <span style=\"color: #008080; text-decoration-color: #008080; font-weight: bold\">150</span>  <span style=\"font-weight: bold\">(</span> <span style=\"color: #008080; text-decoration-color: #008080; font-weight: bold\">75</span> <span style=\"font-weight: bold\">)</span>  Center Point:   <span style=\"color: #008080; text-decoration-color: #008080; font-weight: bold\">186</span>  <span style=\"font-weight: bold\">(</span> <span style=\"color: #008080; text-decoration-color: #008080; font-weight: bold\">93</span> <span style=\"font-weight: bold\">)</span>  Right Margin:   <span style=\"color: #008080; text-decoration-color: #008080; font-weight: bold\">150</span>  <span style=\"font-weight: bold\">(</span> <span style=\"color: #008080; text-decoration-color: #008080; font-weight: bold\">75</span> <span style=\"font-weight: bold\">)</span>\n",
              "</pre>\n"
            ],
            "text/plain": [
              "Byte  \u001b[1;36m3\u001b[0m  Nibble \u001b[1;36m0\u001b[0m  -   Left Margin:   \u001b[1;36m150\u001b[0m  \u001b[1m(\u001b[0m \u001b[1;36m75\u001b[0m \u001b[1m)\u001b[0m  Center Point:   \u001b[1;36m186\u001b[0m  \u001b[1m(\u001b[0m \u001b[1;36m93\u001b[0m \u001b[1m)\u001b[0m  Right Margin:   \u001b[1;36m150\u001b[0m  \u001b[1m(\u001b[0m \u001b[1;36m75\u001b[0m \u001b[1m)\u001b[0m\n"
            ]
          },
          "metadata": {},
          "output_type": "display_data"
        },
        {
          "data": {
            "text/html": [
              "<pre style=\"white-space:pre;overflow-x:auto;line-height:normal;font-family:Menlo,'DejaVu Sans Mono',consolas,'Courier New',monospace\">Byte  <span style=\"color: #008080; text-decoration-color: #008080; font-weight: bold\">3</span>  Nibble <span style=\"color: #008080; text-decoration-color: #008080; font-weight: bold\">1</span>  -   Left Margin:   <span style=\"color: #008080; text-decoration-color: #008080; font-weight: bold\">152</span>  <span style=\"font-weight: bold\">(</span> <span style=\"color: #008080; text-decoration-color: #008080; font-weight: bold\">78</span> <span style=\"font-weight: bold\">)</span>  Center Point:   <span style=\"color: #008080; text-decoration-color: #008080; font-weight: bold\">188</span>  <span style=\"font-weight: bold\">(</span> <span style=\"color: #008080; text-decoration-color: #008080; font-weight: bold\">96</span> <span style=\"font-weight: bold\">)</span>  Right Margin:   <span style=\"color: #008080; text-decoration-color: #008080; font-weight: bold\">154</span>  <span style=\"font-weight: bold\">(</span> <span style=\"color: #008080; text-decoration-color: #008080; font-weight: bold\">79</span> <span style=\"font-weight: bold\">)</span>\n",
              "</pre>\n"
            ],
            "text/plain": [
              "Byte  \u001b[1;36m3\u001b[0m  Nibble \u001b[1;36m1\u001b[0m  -   Left Margin:   \u001b[1;36m152\u001b[0m  \u001b[1m(\u001b[0m \u001b[1;36m78\u001b[0m \u001b[1m)\u001b[0m  Center Point:   \u001b[1;36m188\u001b[0m  \u001b[1m(\u001b[0m \u001b[1;36m96\u001b[0m \u001b[1m)\u001b[0m  Right Margin:   \u001b[1;36m154\u001b[0m  \u001b[1m(\u001b[0m \u001b[1;36m79\u001b[0m \u001b[1m)\u001b[0m\n"
            ]
          },
          "metadata": {},
          "output_type": "display_data"
        },
        {
          "data": {
            "text/html": [
              "<pre style=\"white-space:pre;overflow-x:auto;line-height:normal;font-family:Menlo,'DejaVu Sans Mono',consolas,'Courier New',monospace\">Byte  <span style=\"color: #008080; text-decoration-color: #008080; font-weight: bold\">4</span>  Nibble <span style=\"color: #008080; text-decoration-color: #008080; font-weight: bold\">0</span>  -   Left Margin:   <span style=\"color: #008080; text-decoration-color: #008080; font-weight: bold\">148</span>  <span style=\"font-weight: bold\">(</span> <span style=\"color: #008080; text-decoration-color: #008080; font-weight: bold\">76</span> <span style=\"font-weight: bold\">)</span>  Center Point:   <span style=\"color: #008080; text-decoration-color: #008080; font-weight: bold\">184</span>  <span style=\"font-weight: bold\">(</span> <span style=\"color: #008080; text-decoration-color: #008080; font-weight: bold\">94</span> <span style=\"font-weight: bold\">)</span>  Right Margin:   <span style=\"color: #008080; text-decoration-color: #008080; font-weight: bold\">148</span>  <span style=\"font-weight: bold\">(</span> <span style=\"color: #008080; text-decoration-color: #008080; font-weight: bold\">76</span> <span style=\"font-weight: bold\">)</span>\n",
              "</pre>\n"
            ],
            "text/plain": [
              "Byte  \u001b[1;36m4\u001b[0m  Nibble \u001b[1;36m0\u001b[0m  -   Left Margin:   \u001b[1;36m148\u001b[0m  \u001b[1m(\u001b[0m \u001b[1;36m76\u001b[0m \u001b[1m)\u001b[0m  Center Point:   \u001b[1;36m184\u001b[0m  \u001b[1m(\u001b[0m \u001b[1;36m94\u001b[0m \u001b[1m)\u001b[0m  Right Margin:   \u001b[1;36m148\u001b[0m  \u001b[1m(\u001b[0m \u001b[1;36m76\u001b[0m \u001b[1m)\u001b[0m\n"
            ]
          },
          "metadata": {},
          "output_type": "display_data"
        },
        {
          "data": {
            "text/html": [
              "<pre style=\"white-space:pre;overflow-x:auto;line-height:normal;font-family:Menlo,'DejaVu Sans Mono',consolas,'Courier New',monospace\">Byte  <span style=\"color: #008080; text-decoration-color: #008080; font-weight: bold\">4</span>  Nibble <span style=\"color: #008080; text-decoration-color: #008080; font-weight: bold\">1</span>  -   Left Margin:   <span style=\"color: #008080; text-decoration-color: #008080; font-weight: bold\">154</span>  <span style=\"font-weight: bold\">(</span> <span style=\"color: #008080; text-decoration-color: #008080; font-weight: bold\">78</span> <span style=\"font-weight: bold\">)</span>  Center Point:   <span style=\"color: #008080; text-decoration-color: #008080; font-weight: bold\">190</span>  <span style=\"font-weight: bold\">(</span> <span style=\"color: #008080; text-decoration-color: #008080; font-weight: bold\">96</span> <span style=\"font-weight: bold\">)</span>  Right Margin:   <span style=\"color: #008080; text-decoration-color: #008080; font-weight: bold\">156</span>  <span style=\"font-weight: bold\">(</span> <span style=\"color: #008080; text-decoration-color: #008080; font-weight: bold\">79</span> <span style=\"font-weight: bold\">)</span>\n",
              "</pre>\n"
            ],
            "text/plain": [
              "Byte  \u001b[1;36m4\u001b[0m  Nibble \u001b[1;36m1\u001b[0m  -   Left Margin:   \u001b[1;36m154\u001b[0m  \u001b[1m(\u001b[0m \u001b[1;36m78\u001b[0m \u001b[1m)\u001b[0m  Center Point:   \u001b[1;36m190\u001b[0m  \u001b[1m(\u001b[0m \u001b[1;36m96\u001b[0m \u001b[1m)\u001b[0m  Right Margin:   \u001b[1;36m156\u001b[0m  \u001b[1m(\u001b[0m \u001b[1;36m79\u001b[0m \u001b[1m)\u001b[0m\n"
            ]
          },
          "metadata": {},
          "output_type": "display_data"
        },
        {
          "data": {
            "text/html": [
              "<pre style=\"white-space:pre;overflow-x:auto;line-height:normal;font-family:Menlo,'DejaVu Sans Mono',consolas,'Courier New',monospace\">Byte  <span style=\"color: #008080; text-decoration-color: #008080; font-weight: bold\">5</span>  Nibble <span style=\"color: #008080; text-decoration-color: #008080; font-weight: bold\">0</span>  -   Left Margin:   <span style=\"color: #008080; text-decoration-color: #008080; font-weight: bold\">146</span>  <span style=\"font-weight: bold\">(</span> <span style=\"color: #008080; text-decoration-color: #008080; font-weight: bold\">74</span> <span style=\"font-weight: bold\">)</span>  Center Point:   <span style=\"color: #008080; text-decoration-color: #008080; font-weight: bold\">182</span>  <span style=\"font-weight: bold\">(</span> <span style=\"color: #008080; text-decoration-color: #008080; font-weight: bold\">92</span> <span style=\"font-weight: bold\">)</span>  Right Margin:   <span style=\"color: #008080; text-decoration-color: #008080; font-weight: bold\">146</span>  <span style=\"font-weight: bold\">(</span> <span style=\"color: #008080; text-decoration-color: #008080; font-weight: bold\">74</span> <span style=\"font-weight: bold\">)</span>\n",
              "</pre>\n"
            ],
            "text/plain": [
              "Byte  \u001b[1;36m5\u001b[0m  Nibble \u001b[1;36m0\u001b[0m  -   Left Margin:   \u001b[1;36m146\u001b[0m  \u001b[1m(\u001b[0m \u001b[1;36m74\u001b[0m \u001b[1m)\u001b[0m  Center Point:   \u001b[1;36m182\u001b[0m  \u001b[1m(\u001b[0m \u001b[1;36m92\u001b[0m \u001b[1m)\u001b[0m  Right Margin:   \u001b[1;36m146\u001b[0m  \u001b[1m(\u001b[0m \u001b[1;36m74\u001b[0m \u001b[1m)\u001b[0m\n"
            ]
          },
          "metadata": {},
          "output_type": "display_data"
        },
        {
          "data": {
            "text/html": [
              "<pre style=\"white-space:pre;overflow-x:auto;line-height:normal;font-family:Menlo,'DejaVu Sans Mono',consolas,'Courier New',monospace\">Byte  <span style=\"color: #008080; text-decoration-color: #008080; font-weight: bold\">5</span>  Nibble <span style=\"color: #008080; text-decoration-color: #008080; font-weight: bold\">1</span>  -   Left Margin:   <span style=\"color: #008080; text-decoration-color: #008080; font-weight: bold\">150</span>  <span style=\"font-weight: bold\">(</span> <span style=\"color: #008080; text-decoration-color: #008080; font-weight: bold\">77</span> <span style=\"font-weight: bold\">)</span>  Center Point:   <span style=\"color: #008080; text-decoration-color: #008080; font-weight: bold\">186</span>  <span style=\"font-weight: bold\">(</span> <span style=\"color: #008080; text-decoration-color: #008080; font-weight: bold\">95</span> <span style=\"font-weight: bold\">)</span>  Right Margin:   <span style=\"color: #008080; text-decoration-color: #008080; font-weight: bold\">152</span>  <span style=\"font-weight: bold\">(</span> <span style=\"color: #008080; text-decoration-color: #008080; font-weight: bold\">78</span> <span style=\"font-weight: bold\">)</span>\n",
              "</pre>\n"
            ],
            "text/plain": [
              "Byte  \u001b[1;36m5\u001b[0m  Nibble \u001b[1;36m1\u001b[0m  -   Left Margin:   \u001b[1;36m150\u001b[0m  \u001b[1m(\u001b[0m \u001b[1;36m77\u001b[0m \u001b[1m)\u001b[0m  Center Point:   \u001b[1;36m186\u001b[0m  \u001b[1m(\u001b[0m \u001b[1;36m95\u001b[0m \u001b[1m)\u001b[0m  Right Margin:   \u001b[1;36m152\u001b[0m  \u001b[1m(\u001b[0m \u001b[1;36m78\u001b[0m \u001b[1m)\u001b[0m\n"
            ]
          },
          "metadata": {},
          "output_type": "display_data"
        },
        {
          "data": {
            "text/html": [
              "<pre style=\"white-space:pre;overflow-x:auto;line-height:normal;font-family:Menlo,'DejaVu Sans Mono',consolas,'Courier New',monospace\">Byte  <span style=\"color: #008080; text-decoration-color: #008080; font-weight: bold\">6</span>  Nibble <span style=\"color: #008080; text-decoration-color: #008080; font-weight: bold\">0</span>  -   Left Margin:   <span style=\"color: #008080; text-decoration-color: #008080; font-weight: bold\">148</span>  <span style=\"font-weight: bold\">(</span> <span style=\"color: #008080; text-decoration-color: #008080; font-weight: bold\">76</span> <span style=\"font-weight: bold\">)</span>  Center Point:   <span style=\"color: #008080; text-decoration-color: #008080; font-weight: bold\">184</span>  <span style=\"font-weight: bold\">(</span> <span style=\"color: #008080; text-decoration-color: #008080; font-weight: bold\">94</span> <span style=\"font-weight: bold\">)</span>  Right Margin:   <span style=\"color: #008080; text-decoration-color: #008080; font-weight: bold\">148</span>  <span style=\"font-weight: bold\">(</span> <span style=\"color: #008080; text-decoration-color: #008080; font-weight: bold\">76</span> <span style=\"font-weight: bold\">)</span>\n",
              "</pre>\n"
            ],
            "text/plain": [
              "Byte  \u001b[1;36m6\u001b[0m  Nibble \u001b[1;36m0\u001b[0m  -   Left Margin:   \u001b[1;36m148\u001b[0m  \u001b[1m(\u001b[0m \u001b[1;36m76\u001b[0m \u001b[1m)\u001b[0m  Center Point:   \u001b[1;36m184\u001b[0m  \u001b[1m(\u001b[0m \u001b[1;36m94\u001b[0m \u001b[1m)\u001b[0m  Right Margin:   \u001b[1;36m148\u001b[0m  \u001b[1m(\u001b[0m \u001b[1;36m76\u001b[0m \u001b[1m)\u001b[0m\n"
            ]
          },
          "metadata": {},
          "output_type": "display_data"
        },
        {
          "data": {
            "text/html": [
              "<pre style=\"white-space:pre;overflow-x:auto;line-height:normal;font-family:Menlo,'DejaVu Sans Mono',consolas,'Courier New',monospace\">Byte  <span style=\"color: #008080; text-decoration-color: #008080; font-weight: bold\">6</span>  Nibble <span style=\"color: #008080; text-decoration-color: #008080; font-weight: bold\">1</span>  -   Left Margin:   <span style=\"color: #008080; text-decoration-color: #008080; font-weight: bold\">154</span>  <span style=\"font-weight: bold\">(</span> <span style=\"color: #008080; text-decoration-color: #008080; font-weight: bold\">79</span> <span style=\"font-weight: bold\">)</span>  Center Point:   <span style=\"color: #008080; text-decoration-color: #008080; font-weight: bold\">189</span>  <span style=\"font-weight: bold\">(</span> <span style=\"color: #008080; text-decoration-color: #008080; font-weight: bold\">97</span> <span style=\"font-weight: bold\">)</span>  Right Margin:   <span style=\"color: #008080; text-decoration-color: #008080; font-weight: bold\">154</span>  <span style=\"font-weight: bold\">(</span> <span style=\"color: #008080; text-decoration-color: #008080; font-weight: bold\">79</span> <span style=\"font-weight: bold\">)</span>\n",
              "</pre>\n"
            ],
            "text/plain": [
              "Byte  \u001b[1;36m6\u001b[0m  Nibble \u001b[1;36m1\u001b[0m  -   Left Margin:   \u001b[1;36m154\u001b[0m  \u001b[1m(\u001b[0m \u001b[1;36m79\u001b[0m \u001b[1m)\u001b[0m  Center Point:   \u001b[1;36m189\u001b[0m  \u001b[1m(\u001b[0m \u001b[1;36m97\u001b[0m \u001b[1m)\u001b[0m  Right Margin:   \u001b[1;36m154\u001b[0m  \u001b[1m(\u001b[0m \u001b[1;36m79\u001b[0m \u001b[1m)\u001b[0m\n"
            ]
          },
          "metadata": {},
          "output_type": "display_data"
        },
        {
          "data": {
            "text/html": [
              "<pre style=\"white-space:pre;overflow-x:auto;line-height:normal;font-family:Menlo,'DejaVu Sans Mono',consolas,'Courier New',monospace\">Byte  <span style=\"color: #008080; text-decoration-color: #008080; font-weight: bold\">7</span>  Nibble <span style=\"color: #008080; text-decoration-color: #008080; font-weight: bold\">0</span>  -   Left Margin:   <span style=\"color: #008080; text-decoration-color: #008080; font-weight: bold\">148</span>  <span style=\"font-weight: bold\">(</span> <span style=\"color: #008080; text-decoration-color: #008080; font-weight: bold\">76</span> <span style=\"font-weight: bold\">)</span>  Center Point:   <span style=\"color: #008080; text-decoration-color: #008080; font-weight: bold\">184</span>  <span style=\"font-weight: bold\">(</span> <span style=\"color: #008080; text-decoration-color: #008080; font-weight: bold\">94</span> <span style=\"font-weight: bold\">)</span>  Right Margin:   <span style=\"color: #008080; text-decoration-color: #008080; font-weight: bold\">148</span>  <span style=\"font-weight: bold\">(</span> <span style=\"color: #008080; text-decoration-color: #008080; font-weight: bold\">76</span> <span style=\"font-weight: bold\">)</span>\n",
              "</pre>\n"
            ],
            "text/plain": [
              "Byte  \u001b[1;36m7\u001b[0m  Nibble \u001b[1;36m0\u001b[0m  -   Left Margin:   \u001b[1;36m148\u001b[0m  \u001b[1m(\u001b[0m \u001b[1;36m76\u001b[0m \u001b[1m)\u001b[0m  Center Point:   \u001b[1;36m184\u001b[0m  \u001b[1m(\u001b[0m \u001b[1;36m94\u001b[0m \u001b[1m)\u001b[0m  Right Margin:   \u001b[1;36m148\u001b[0m  \u001b[1m(\u001b[0m \u001b[1;36m76\u001b[0m \u001b[1m)\u001b[0m\n"
            ]
          },
          "metadata": {},
          "output_type": "display_data"
        },
        {
          "data": {
            "text/html": [
              "<pre style=\"white-space:pre;overflow-x:auto;line-height:normal;font-family:Menlo,'DejaVu Sans Mono',consolas,'Courier New',monospace\">Byte  <span style=\"color: #008080; text-decoration-color: #008080; font-weight: bold\">7</span>  Nibble <span style=\"color: #008080; text-decoration-color: #008080; font-weight: bold\">1</span>  -   Left Margin:   <span style=\"color: #008080; text-decoration-color: #008080; font-weight: bold\">150</span>  <span style=\"font-weight: bold\">(</span> <span style=\"color: #008080; text-decoration-color: #008080; font-weight: bold\">78</span> <span style=\"font-weight: bold\">)</span>  Center Point:   <span style=\"color: #008080; text-decoration-color: #008080; font-weight: bold\">185</span>  <span style=\"font-weight: bold\">(</span> <span style=\"color: #008080; text-decoration-color: #008080; font-weight: bold\">96</span> <span style=\"font-weight: bold\">)</span>  Right Margin:   <span style=\"color: #008080; text-decoration-color: #008080; font-weight: bold\">150</span>  <span style=\"font-weight: bold\">(</span> <span style=\"color: #008080; text-decoration-color: #008080; font-weight: bold\">78</span> <span style=\"font-weight: bold\">)</span>\n",
              "</pre>\n"
            ],
            "text/plain": [
              "Byte  \u001b[1;36m7\u001b[0m  Nibble \u001b[1;36m1\u001b[0m  -   Left Margin:   \u001b[1;36m150\u001b[0m  \u001b[1m(\u001b[0m \u001b[1;36m78\u001b[0m \u001b[1m)\u001b[0m  Center Point:   \u001b[1;36m185\u001b[0m  \u001b[1m(\u001b[0m \u001b[1;36m96\u001b[0m \u001b[1m)\u001b[0m  Right Margin:   \u001b[1;36m150\u001b[0m  \u001b[1m(\u001b[0m \u001b[1;36m78\u001b[0m \u001b[1m)\u001b[0m\n"
            ]
          },
          "metadata": {},
          "output_type": "display_data"
        },
        {
          "data": {
            "text/html": [
              "<pre style=\"white-space:pre;overflow-x:auto;line-height:normal;font-family:Menlo,'DejaVu Sans Mono',consolas,'Courier New',monospace\">\n",
              " Frequency <span style=\"color: #008080; text-decoration-color: #008080; font-weight: bold\">0</span>  - Read Margin - Simple Pattern - Falling Edge Clock in pS and <span style=\"font-weight: bold\">(</span>delay taps<span style=\"font-weight: bold\">)</span>:\n",
              "\n",
              "</pre>\n"
            ],
            "text/plain": [
              "\n",
              " Frequency \u001b[1;36m0\u001b[0m  - Read Margin - Simple Pattern - Falling Edge Clock in pS and \u001b[1m(\u001b[0mdelay taps\u001b[1m)\u001b[0m:\n",
              "\n"
            ]
          },
          "metadata": {},
          "output_type": "display_data"
        },
        {
          "data": {
            "text/html": [
              "<pre style=\"white-space:pre;overflow-x:auto;line-height:normal;font-family:Menlo,'DejaVu Sans Mono',consolas,'Courier New',monospace\">Byte  <span style=\"color: #008080; text-decoration-color: #008080; font-weight: bold\">0</span>  Nibble <span style=\"color: #008080; text-decoration-color: #008080; font-weight: bold\">0</span>  -   Left Margin:   <span style=\"color: #008080; text-decoration-color: #008080; font-weight: bold\">146</span>  <span style=\"font-weight: bold\">(</span> <span style=\"color: #008080; text-decoration-color: #008080; font-weight: bold\">76</span> <span style=\"font-weight: bold\">)</span>  Center Point:   <span style=\"color: #008080; text-decoration-color: #008080; font-weight: bold\">183</span>  <span style=\"font-weight: bold\">(</span> <span style=\"color: #008080; text-decoration-color: #008080; font-weight: bold\">95</span> <span style=\"font-weight: bold\">)</span>  Right Margin:   <span style=\"color: #008080; text-decoration-color: #008080; font-weight: bold\">146</span>  <span style=\"font-weight: bold\">(</span> <span style=\"color: #008080; text-decoration-color: #008080; font-weight: bold\">76</span> <span style=\"font-weight: bold\">)</span>\n",
              "</pre>\n"
            ],
            "text/plain": [
              "Byte  \u001b[1;36m0\u001b[0m  Nibble \u001b[1;36m0\u001b[0m  -   Left Margin:   \u001b[1;36m146\u001b[0m  \u001b[1m(\u001b[0m \u001b[1;36m76\u001b[0m \u001b[1m)\u001b[0m  Center Point:   \u001b[1;36m183\u001b[0m  \u001b[1m(\u001b[0m \u001b[1;36m95\u001b[0m \u001b[1m)\u001b[0m  Right Margin:   \u001b[1;36m146\u001b[0m  \u001b[1m(\u001b[0m \u001b[1;36m76\u001b[0m \u001b[1m)\u001b[0m\n"
            ]
          },
          "metadata": {},
          "output_type": "display_data"
        },
        {
          "data": {
            "text/html": [
              "<pre style=\"white-space:pre;overflow-x:auto;line-height:normal;font-family:Menlo,'DejaVu Sans Mono',consolas,'Courier New',monospace\">Byte  <span style=\"color: #008080; text-decoration-color: #008080; font-weight: bold\">0</span>  Nibble <span style=\"color: #008080; text-decoration-color: #008080; font-weight: bold\">1</span>  -   Left Margin:   <span style=\"color: #008080; text-decoration-color: #008080; font-weight: bold\">144</span>  <span style=\"font-weight: bold\">(</span> <span style=\"color: #008080; text-decoration-color: #008080; font-weight: bold\">76</span> <span style=\"font-weight: bold\">)</span>  Center Point:   <span style=\"color: #008080; text-decoration-color: #008080; font-weight: bold\">192</span>  <span style=\"font-weight: bold\">(</span> <span style=\"color: #008080; text-decoration-color: #008080; font-weight: bold\">101</span> <span style=\"font-weight: bold\">)</span>  Right Margin:   <span style=\"color: #008080; text-decoration-color: #008080; font-weight: bold\">144</span>  <span style=\"font-weight: bold\">(</span> <span style=\"color: #008080; text-decoration-color: #008080; font-weight: bold\">76</span> <span style=\"font-weight: bold\">)</span>\n",
              "</pre>\n"
            ],
            "text/plain": [
              "Byte  \u001b[1;36m0\u001b[0m  Nibble \u001b[1;36m1\u001b[0m  -   Left Margin:   \u001b[1;36m144\u001b[0m  \u001b[1m(\u001b[0m \u001b[1;36m76\u001b[0m \u001b[1m)\u001b[0m  Center Point:   \u001b[1;36m192\u001b[0m  \u001b[1m(\u001b[0m \u001b[1;36m101\u001b[0m \u001b[1m)\u001b[0m  Right Margin:   \u001b[1;36m144\u001b[0m  \u001b[1m(\u001b[0m \u001b[1;36m76\u001b[0m \u001b[1m)\u001b[0m\n"
            ]
          },
          "metadata": {},
          "output_type": "display_data"
        },
        {
          "data": {
            "text/html": [
              "<pre style=\"white-space:pre;overflow-x:auto;line-height:normal;font-family:Menlo,'DejaVu Sans Mono',consolas,'Courier New',monospace\">Byte  <span style=\"color: #008080; text-decoration-color: #008080; font-weight: bold\">1</span>  Nibble <span style=\"color: #008080; text-decoration-color: #008080; font-weight: bold\">0</span>  -   Left Margin:   <span style=\"color: #008080; text-decoration-color: #008080; font-weight: bold\">142</span>  <span style=\"font-weight: bold\">(</span> <span style=\"color: #008080; text-decoration-color: #008080; font-weight: bold\">74</span> <span style=\"font-weight: bold\">)</span>  Center Point:   <span style=\"color: #008080; text-decoration-color: #008080; font-weight: bold\">191</span>  <span style=\"font-weight: bold\">(</span> <span style=\"color: #008080; text-decoration-color: #008080; font-weight: bold\">99</span> <span style=\"font-weight: bold\">)</span>  Right Margin:   <span style=\"color: #008080; text-decoration-color: #008080; font-weight: bold\">142</span>  <span style=\"font-weight: bold\">(</span> <span style=\"color: #008080; text-decoration-color: #008080; font-weight: bold\">74</span> <span style=\"font-weight: bold\">)</span>\n",
              "</pre>\n"
            ],
            "text/plain": [
              "Byte  \u001b[1;36m1\u001b[0m  Nibble \u001b[1;36m0\u001b[0m  -   Left Margin:   \u001b[1;36m142\u001b[0m  \u001b[1m(\u001b[0m \u001b[1;36m74\u001b[0m \u001b[1m)\u001b[0m  Center Point:   \u001b[1;36m191\u001b[0m  \u001b[1m(\u001b[0m \u001b[1;36m99\u001b[0m \u001b[1m)\u001b[0m  Right Margin:   \u001b[1;36m142\u001b[0m  \u001b[1m(\u001b[0m \u001b[1;36m74\u001b[0m \u001b[1m)\u001b[0m\n"
            ]
          },
          "metadata": {},
          "output_type": "display_data"
        },
        {
          "data": {
            "text/html": [
              "<pre style=\"white-space:pre;overflow-x:auto;line-height:normal;font-family:Menlo,'DejaVu Sans Mono',consolas,'Courier New',monospace\">Byte  <span style=\"color: #008080; text-decoration-color: #008080; font-weight: bold\">1</span>  Nibble <span style=\"color: #008080; text-decoration-color: #008080; font-weight: bold\">1</span>  -   Left Margin:   <span style=\"color: #008080; text-decoration-color: #008080; font-weight: bold\">144</span>  <span style=\"font-weight: bold\">(</span> <span style=\"color: #008080; text-decoration-color: #008080; font-weight: bold\">76</span> <span style=\"font-weight: bold\">)</span>  Center Point:   <span style=\"color: #008080; text-decoration-color: #008080; font-weight: bold\">192</span>  <span style=\"font-weight: bold\">(</span> <span style=\"color: #008080; text-decoration-color: #008080; font-weight: bold\">101</span> <span style=\"font-weight: bold\">)</span>  Right Margin:   <span style=\"color: #008080; text-decoration-color: #008080; font-weight: bold\">144</span>  <span style=\"font-weight: bold\">(</span> <span style=\"color: #008080; text-decoration-color: #008080; font-weight: bold\">76</span> <span style=\"font-weight: bold\">)</span>\n",
              "</pre>\n"
            ],
            "text/plain": [
              "Byte  \u001b[1;36m1\u001b[0m  Nibble \u001b[1;36m1\u001b[0m  -   Left Margin:   \u001b[1;36m144\u001b[0m  \u001b[1m(\u001b[0m \u001b[1;36m76\u001b[0m \u001b[1m)\u001b[0m  Center Point:   \u001b[1;36m192\u001b[0m  \u001b[1m(\u001b[0m \u001b[1;36m101\u001b[0m \u001b[1m)\u001b[0m  Right Margin:   \u001b[1;36m144\u001b[0m  \u001b[1m(\u001b[0m \u001b[1;36m76\u001b[0m \u001b[1m)\u001b[0m\n"
            ]
          },
          "metadata": {},
          "output_type": "display_data"
        },
        {
          "data": {
            "text/html": [
              "<pre style=\"white-space:pre;overflow-x:auto;line-height:normal;font-family:Menlo,'DejaVu Sans Mono',consolas,'Courier New',monospace\">Byte  <span style=\"color: #008080; text-decoration-color: #008080; font-weight: bold\">2</span>  Nibble <span style=\"color: #008080; text-decoration-color: #008080; font-weight: bold\">0</span>  -   Left Margin:   <span style=\"color: #008080; text-decoration-color: #008080; font-weight: bold\">139</span>  <span style=\"font-weight: bold\">(</span> <span style=\"color: #008080; text-decoration-color: #008080; font-weight: bold\">73</span> <span style=\"font-weight: bold\">)</span>  Center Point:   <span style=\"color: #008080; text-decoration-color: #008080; font-weight: bold\">191</span>  <span style=\"font-weight: bold\">(</span> <span style=\"color: #008080; text-decoration-color: #008080; font-weight: bold\">100</span> <span style=\"font-weight: bold\">)</span>  Right Margin:   <span style=\"color: #008080; text-decoration-color: #008080; font-weight: bold\">141</span>  <span style=\"font-weight: bold\">(</span> <span style=\"color: #008080; text-decoration-color: #008080; font-weight: bold\">74</span> <span style=\"font-weight: bold\">)</span>\n",
              "</pre>\n"
            ],
            "text/plain": [
              "Byte  \u001b[1;36m2\u001b[0m  Nibble \u001b[1;36m0\u001b[0m  -   Left Margin:   \u001b[1;36m139\u001b[0m  \u001b[1m(\u001b[0m \u001b[1;36m73\u001b[0m \u001b[1m)\u001b[0m  Center Point:   \u001b[1;36m191\u001b[0m  \u001b[1m(\u001b[0m \u001b[1;36m100\u001b[0m \u001b[1m)\u001b[0m  Right Margin:   \u001b[1;36m141\u001b[0m  \u001b[1m(\u001b[0m \u001b[1;36m74\u001b[0m \u001b[1m)\u001b[0m\n"
            ]
          },
          "metadata": {},
          "output_type": "display_data"
        },
        {
          "data": {
            "text/html": [
              "<pre style=\"white-space:pre;overflow-x:auto;line-height:normal;font-family:Menlo,'DejaVu Sans Mono',consolas,'Courier New',monospace\">Byte  <span style=\"color: #008080; text-decoration-color: #008080; font-weight: bold\">2</span>  Nibble <span style=\"color: #008080; text-decoration-color: #008080; font-weight: bold\">1</span>  -   Left Margin:   <span style=\"color: #008080; text-decoration-color: #008080; font-weight: bold\">139</span>  <span style=\"font-weight: bold\">(</span> <span style=\"color: #008080; text-decoration-color: #008080; font-weight: bold\">74</span> <span style=\"font-weight: bold\">)</span>  Center Point:   <span style=\"color: #008080; text-decoration-color: #008080; font-weight: bold\">190</span>  <span style=\"font-weight: bold\">(</span> <span style=\"color: #008080; text-decoration-color: #008080; font-weight: bold\">101</span> <span style=\"font-weight: bold\">)</span>  Right Margin:   <span style=\"color: #008080; text-decoration-color: #008080; font-weight: bold\">139</span>  <span style=\"font-weight: bold\">(</span> <span style=\"color: #008080; text-decoration-color: #008080; font-weight: bold\">74</span> <span style=\"font-weight: bold\">)</span>\n",
              "</pre>\n"
            ],
            "text/plain": [
              "Byte  \u001b[1;36m2\u001b[0m  Nibble \u001b[1;36m1\u001b[0m  -   Left Margin:   \u001b[1;36m139\u001b[0m  \u001b[1m(\u001b[0m \u001b[1;36m74\u001b[0m \u001b[1m)\u001b[0m  Center Point:   \u001b[1;36m190\u001b[0m  \u001b[1m(\u001b[0m \u001b[1;36m101\u001b[0m \u001b[1m)\u001b[0m  Right Margin:   \u001b[1;36m139\u001b[0m  \u001b[1m(\u001b[0m \u001b[1;36m74\u001b[0m \u001b[1m)\u001b[0m\n"
            ]
          },
          "metadata": {},
          "output_type": "display_data"
        },
        {
          "data": {
            "text/html": [
              "<pre style=\"white-space:pre;overflow-x:auto;line-height:normal;font-family:Menlo,'DejaVu Sans Mono',consolas,'Courier New',monospace\">Byte  <span style=\"color: #008080; text-decoration-color: #008080; font-weight: bold\">3</span>  Nibble <span style=\"color: #008080; text-decoration-color: #008080; font-weight: bold\">0</span>  -   Left Margin:   <span style=\"color: #008080; text-decoration-color: #008080; font-weight: bold\">140</span>  <span style=\"font-weight: bold\">(</span> <span style=\"color: #008080; text-decoration-color: #008080; font-weight: bold\">73</span> <span style=\"font-weight: bold\">)</span>  Center Point:   <span style=\"color: #008080; text-decoration-color: #008080; font-weight: bold\">191</span>  <span style=\"font-weight: bold\">(</span> <span style=\"color: #008080; text-decoration-color: #008080; font-weight: bold\">99</span> <span style=\"font-weight: bold\">)</span>  Right Margin:   <span style=\"color: #008080; text-decoration-color: #008080; font-weight: bold\">142</span>  <span style=\"font-weight: bold\">(</span> <span style=\"color: #008080; text-decoration-color: #008080; font-weight: bold\">74</span> <span style=\"font-weight: bold\">)</span>\n",
              "</pre>\n"
            ],
            "text/plain": [
              "Byte  \u001b[1;36m3\u001b[0m  Nibble \u001b[1;36m0\u001b[0m  -   Left Margin:   \u001b[1;36m140\u001b[0m  \u001b[1m(\u001b[0m \u001b[1;36m73\u001b[0m \u001b[1m)\u001b[0m  Center Point:   \u001b[1;36m191\u001b[0m  \u001b[1m(\u001b[0m \u001b[1;36m99\u001b[0m \u001b[1m)\u001b[0m  Right Margin:   \u001b[1;36m142\u001b[0m  \u001b[1m(\u001b[0m \u001b[1;36m74\u001b[0m \u001b[1m)\u001b[0m\n"
            ]
          },
          "metadata": {},
          "output_type": "display_data"
        },
        {
          "data": {
            "text/html": [
              "<pre style=\"white-space:pre;overflow-x:auto;line-height:normal;font-family:Menlo,'DejaVu Sans Mono',consolas,'Courier New',monospace\">Byte  <span style=\"color: #008080; text-decoration-color: #008080; font-weight: bold\">3</span>  Nibble <span style=\"color: #008080; text-decoration-color: #008080; font-weight: bold\">1</span>  -   Left Margin:   <span style=\"color: #008080; text-decoration-color: #008080; font-weight: bold\">142</span>  <span style=\"font-weight: bold\">(</span> <span style=\"color: #008080; text-decoration-color: #008080; font-weight: bold\">74</span> <span style=\"font-weight: bold\">)</span>  Center Point:   <span style=\"color: #008080; text-decoration-color: #008080; font-weight: bold\">191</span>  <span style=\"font-weight: bold\">(</span> <span style=\"color: #008080; text-decoration-color: #008080; font-weight: bold\">99</span> <span style=\"font-weight: bold\">)</span>  Right Margin:   <span style=\"color: #008080; text-decoration-color: #008080; font-weight: bold\">142</span>  <span style=\"font-weight: bold\">(</span> <span style=\"color: #008080; text-decoration-color: #008080; font-weight: bold\">74</span> <span style=\"font-weight: bold\">)</span>\n",
              "</pre>\n"
            ],
            "text/plain": [
              "Byte  \u001b[1;36m3\u001b[0m  Nibble \u001b[1;36m1\u001b[0m  -   Left Margin:   \u001b[1;36m142\u001b[0m  \u001b[1m(\u001b[0m \u001b[1;36m74\u001b[0m \u001b[1m)\u001b[0m  Center Point:   \u001b[1;36m191\u001b[0m  \u001b[1m(\u001b[0m \u001b[1;36m99\u001b[0m \u001b[1m)\u001b[0m  Right Margin:   \u001b[1;36m142\u001b[0m  \u001b[1m(\u001b[0m \u001b[1;36m74\u001b[0m \u001b[1m)\u001b[0m\n"
            ]
          },
          "metadata": {},
          "output_type": "display_data"
        },
        {
          "data": {
            "text/html": [
              "<pre style=\"white-space:pre;overflow-x:auto;line-height:normal;font-family:Menlo,'DejaVu Sans Mono',consolas,'Courier New',monospace\">Byte  <span style=\"color: #008080; text-decoration-color: #008080; font-weight: bold\">4</span>  Nibble <span style=\"color: #008080; text-decoration-color: #008080; font-weight: bold\">0</span>  -   Left Margin:   <span style=\"color: #008080; text-decoration-color: #008080; font-weight: bold\">138</span>  <span style=\"font-weight: bold\">(</span> <span style=\"color: #008080; text-decoration-color: #008080; font-weight: bold\">71</span> <span style=\"font-weight: bold\">)</span>  Center Point:   <span style=\"color: #008080; text-decoration-color: #008080; font-weight: bold\">176</span>  <span style=\"font-weight: bold\">(</span> <span style=\"color: #008080; text-decoration-color: #008080; font-weight: bold\">90</span> <span style=\"font-weight: bold\">)</span>  Right Margin:   <span style=\"color: #008080; text-decoration-color: #008080; font-weight: bold\">138</span>  <span style=\"font-weight: bold\">(</span> <span style=\"color: #008080; text-decoration-color: #008080; font-weight: bold\">71</span> <span style=\"font-weight: bold\">)</span>\n",
              "</pre>\n"
            ],
            "text/plain": [
              "Byte  \u001b[1;36m4\u001b[0m  Nibble \u001b[1;36m0\u001b[0m  -   Left Margin:   \u001b[1;36m138\u001b[0m  \u001b[1m(\u001b[0m \u001b[1;36m71\u001b[0m \u001b[1m)\u001b[0m  Center Point:   \u001b[1;36m176\u001b[0m  \u001b[1m(\u001b[0m \u001b[1;36m90\u001b[0m \u001b[1m)\u001b[0m  Right Margin:   \u001b[1;36m138\u001b[0m  \u001b[1m(\u001b[0m \u001b[1;36m71\u001b[0m \u001b[1m)\u001b[0m\n"
            ]
          },
          "metadata": {},
          "output_type": "display_data"
        },
        {
          "data": {
            "text/html": [
              "<pre style=\"white-space:pre;overflow-x:auto;line-height:normal;font-family:Menlo,'DejaVu Sans Mono',consolas,'Courier New',monospace\">Byte  <span style=\"color: #008080; text-decoration-color: #008080; font-weight: bold\">4</span>  Nibble <span style=\"color: #008080; text-decoration-color: #008080; font-weight: bold\">1</span>  -   Left Margin:   <span style=\"color: #008080; text-decoration-color: #008080; font-weight: bold\">140</span>  <span style=\"font-weight: bold\">(</span> <span style=\"color: #008080; text-decoration-color: #008080; font-weight: bold\">71</span> <span style=\"font-weight: bold\">)</span>  Center Point:   <span style=\"color: #008080; text-decoration-color: #008080; font-weight: bold\">182</span>  <span style=\"font-weight: bold\">(</span> <span style=\"color: #008080; text-decoration-color: #008080; font-weight: bold\">92</span> <span style=\"font-weight: bold\">)</span>  Right Margin:   <span style=\"color: #008080; text-decoration-color: #008080; font-weight: bold\">140</span>  <span style=\"font-weight: bold\">(</span> <span style=\"color: #008080; text-decoration-color: #008080; font-weight: bold\">71</span> <span style=\"font-weight: bold\">)</span>\n",
              "</pre>\n"
            ],
            "text/plain": [
              "Byte  \u001b[1;36m4\u001b[0m  Nibble \u001b[1;36m1\u001b[0m  -   Left Margin:   \u001b[1;36m140\u001b[0m  \u001b[1m(\u001b[0m \u001b[1;36m71\u001b[0m \u001b[1m)\u001b[0m  Center Point:   \u001b[1;36m182\u001b[0m  \u001b[1m(\u001b[0m \u001b[1;36m92\u001b[0m \u001b[1m)\u001b[0m  Right Margin:   \u001b[1;36m140\u001b[0m  \u001b[1m(\u001b[0m \u001b[1;36m71\u001b[0m \u001b[1m)\u001b[0m\n"
            ]
          },
          "metadata": {},
          "output_type": "display_data"
        },
        {
          "data": {
            "text/html": [
              "<pre style=\"white-space:pre;overflow-x:auto;line-height:normal;font-family:Menlo,'DejaVu Sans Mono',consolas,'Courier New',monospace\">Byte  <span style=\"color: #008080; text-decoration-color: #008080; font-weight: bold\">5</span>  Nibble <span style=\"color: #008080; text-decoration-color: #008080; font-weight: bold\">0</span>  -   Left Margin:   <span style=\"color: #008080; text-decoration-color: #008080; font-weight: bold\">142</span>  <span style=\"font-weight: bold\">(</span> <span style=\"color: #008080; text-decoration-color: #008080; font-weight: bold\">74</span> <span style=\"font-weight: bold\">)</span>  Center Point:   <span style=\"color: #008080; text-decoration-color: #008080; font-weight: bold\">179</span>  <span style=\"font-weight: bold\">(</span> <span style=\"color: #008080; text-decoration-color: #008080; font-weight: bold\">93</span> <span style=\"font-weight: bold\">)</span>  Right Margin:   <span style=\"color: #008080; text-decoration-color: #008080; font-weight: bold\">142</span>  <span style=\"font-weight: bold\">(</span> <span style=\"color: #008080; text-decoration-color: #008080; font-weight: bold\">74</span> <span style=\"font-weight: bold\">)</span>\n",
              "</pre>\n"
            ],
            "text/plain": [
              "Byte  \u001b[1;36m5\u001b[0m  Nibble \u001b[1;36m0\u001b[0m  -   Left Margin:   \u001b[1;36m142\u001b[0m  \u001b[1m(\u001b[0m \u001b[1;36m74\u001b[0m \u001b[1m)\u001b[0m  Center Point:   \u001b[1;36m179\u001b[0m  \u001b[1m(\u001b[0m \u001b[1;36m93\u001b[0m \u001b[1m)\u001b[0m  Right Margin:   \u001b[1;36m142\u001b[0m  \u001b[1m(\u001b[0m \u001b[1;36m74\u001b[0m \u001b[1m)\u001b[0m\n"
            ]
          },
          "metadata": {},
          "output_type": "display_data"
        },
        {
          "data": {
            "text/html": [
              "<pre style=\"white-space:pre;overflow-x:auto;line-height:normal;font-family:Menlo,'DejaVu Sans Mono',consolas,'Courier New',monospace\">Byte  <span style=\"color: #008080; text-decoration-color: #008080; font-weight: bold\">5</span>  Nibble <span style=\"color: #008080; text-decoration-color: #008080; font-weight: bold\">1</span>  -   Left Margin:   <span style=\"color: #008080; text-decoration-color: #008080; font-weight: bold\">140</span>  <span style=\"font-weight: bold\">(</span> <span style=\"color: #008080; text-decoration-color: #008080; font-weight: bold\">73</span> <span style=\"font-weight: bold\">)</span>  Center Point:   <span style=\"color: #008080; text-decoration-color: #008080; font-weight: bold\">189</span>  <span style=\"font-weight: bold\">(</span> <span style=\"color: #008080; text-decoration-color: #008080; font-weight: bold\">98</span> <span style=\"font-weight: bold\">)</span>  Right Margin:   <span style=\"color: #008080; text-decoration-color: #008080; font-weight: bold\">142</span>  <span style=\"font-weight: bold\">(</span> <span style=\"color: #008080; text-decoration-color: #008080; font-weight: bold\">74</span> <span style=\"font-weight: bold\">)</span>\n",
              "</pre>\n"
            ],
            "text/plain": [
              "Byte  \u001b[1;36m5\u001b[0m  Nibble \u001b[1;36m1\u001b[0m  -   Left Margin:   \u001b[1;36m140\u001b[0m  \u001b[1m(\u001b[0m \u001b[1;36m73\u001b[0m \u001b[1m)\u001b[0m  Center Point:   \u001b[1;36m189\u001b[0m  \u001b[1m(\u001b[0m \u001b[1;36m98\u001b[0m \u001b[1m)\u001b[0m  Right Margin:   \u001b[1;36m142\u001b[0m  \u001b[1m(\u001b[0m \u001b[1;36m74\u001b[0m \u001b[1m)\u001b[0m\n"
            ]
          },
          "metadata": {},
          "output_type": "display_data"
        },
        {
          "data": {
            "text/html": [
              "<pre style=\"white-space:pre;overflow-x:auto;line-height:normal;font-family:Menlo,'DejaVu Sans Mono',consolas,'Courier New',monospace\">Byte  <span style=\"color: #008080; text-decoration-color: #008080; font-weight: bold\">6</span>  Nibble <span style=\"color: #008080; text-decoration-color: #008080; font-weight: bold\">0</span>  -   Left Margin:   <span style=\"color: #008080; text-decoration-color: #008080; font-weight: bold\">142</span>  <span style=\"font-weight: bold\">(</span> <span style=\"color: #008080; text-decoration-color: #008080; font-weight: bold\">74</span> <span style=\"font-weight: bold\">)</span>  Center Point:   <span style=\"color: #008080; text-decoration-color: #008080; font-weight: bold\">183</span>  <span style=\"font-weight: bold\">(</span> <span style=\"color: #008080; text-decoration-color: #008080; font-weight: bold\">95</span> <span style=\"font-weight: bold\">)</span>  Right Margin:   <span style=\"color: #008080; text-decoration-color: #008080; font-weight: bold\">142</span>  <span style=\"font-weight: bold\">(</span> <span style=\"color: #008080; text-decoration-color: #008080; font-weight: bold\">74</span> <span style=\"font-weight: bold\">)</span>\n",
              "</pre>\n"
            ],
            "text/plain": [
              "Byte  \u001b[1;36m6\u001b[0m  Nibble \u001b[1;36m0\u001b[0m  -   Left Margin:   \u001b[1;36m142\u001b[0m  \u001b[1m(\u001b[0m \u001b[1;36m74\u001b[0m \u001b[1m)\u001b[0m  Center Point:   \u001b[1;36m183\u001b[0m  \u001b[1m(\u001b[0m \u001b[1;36m95\u001b[0m \u001b[1m)\u001b[0m  Right Margin:   \u001b[1;36m142\u001b[0m  \u001b[1m(\u001b[0m \u001b[1;36m74\u001b[0m \u001b[1m)\u001b[0m\n"
            ]
          },
          "metadata": {},
          "output_type": "display_data"
        },
        {
          "data": {
            "text/html": [
              "<pre style=\"white-space:pre;overflow-x:auto;line-height:normal;font-family:Menlo,'DejaVu Sans Mono',consolas,'Courier New',monospace\">Byte  <span style=\"color: #008080; text-decoration-color: #008080; font-weight: bold\">6</span>  Nibble <span style=\"color: #008080; text-decoration-color: #008080; font-weight: bold\">1</span>  -   Left Margin:   <span style=\"color: #008080; text-decoration-color: #008080; font-weight: bold\">144</span>  <span style=\"font-weight: bold\">(</span> <span style=\"color: #008080; text-decoration-color: #008080; font-weight: bold\">74</span> <span style=\"font-weight: bold\">)</span>  Center Point:   <span style=\"color: #008080; text-decoration-color: #008080; font-weight: bold\">189</span>  <span style=\"font-weight: bold\">(</span> <span style=\"color: #008080; text-decoration-color: #008080; font-weight: bold\">97</span> <span style=\"font-weight: bold\">)</span>  Right Margin:   <span style=\"color: #008080; text-decoration-color: #008080; font-weight: bold\">144</span>  <span style=\"font-weight: bold\">(</span> <span style=\"color: #008080; text-decoration-color: #008080; font-weight: bold\">74</span> <span style=\"font-weight: bold\">)</span>\n",
              "</pre>\n"
            ],
            "text/plain": [
              "Byte  \u001b[1;36m6\u001b[0m  Nibble \u001b[1;36m1\u001b[0m  -   Left Margin:   \u001b[1;36m144\u001b[0m  \u001b[1m(\u001b[0m \u001b[1;36m74\u001b[0m \u001b[1m)\u001b[0m  Center Point:   \u001b[1;36m189\u001b[0m  \u001b[1m(\u001b[0m \u001b[1;36m97\u001b[0m \u001b[1m)\u001b[0m  Right Margin:   \u001b[1;36m144\u001b[0m  \u001b[1m(\u001b[0m \u001b[1;36m74\u001b[0m \u001b[1m)\u001b[0m\n"
            ]
          },
          "metadata": {},
          "output_type": "display_data"
        },
        {
          "data": {
            "text/html": [
              "<pre style=\"white-space:pre;overflow-x:auto;line-height:normal;font-family:Menlo,'DejaVu Sans Mono',consolas,'Courier New',monospace\">Byte  <span style=\"color: #008080; text-decoration-color: #008080; font-weight: bold\">7</span>  Nibble <span style=\"color: #008080; text-decoration-color: #008080; font-weight: bold\">0</span>  -   Left Margin:   <span style=\"color: #008080; text-decoration-color: #008080; font-weight: bold\">144</span>  <span style=\"font-weight: bold\">(</span> <span style=\"color: #008080; text-decoration-color: #008080; font-weight: bold\">74</span> <span style=\"font-weight: bold\">)</span>  Center Point:   <span style=\"color: #008080; text-decoration-color: #008080; font-weight: bold\">186</span>  <span style=\"font-weight: bold\">(</span> <span style=\"color: #008080; text-decoration-color: #008080; font-weight: bold\">95</span> <span style=\"font-weight: bold\">)</span>  Right Margin:   <span style=\"color: #008080; text-decoration-color: #008080; font-weight: bold\">144</span>  <span style=\"font-weight: bold\">(</span> <span style=\"color: #008080; text-decoration-color: #008080; font-weight: bold\">74</span> <span style=\"font-weight: bold\">)</span>\n",
              "</pre>\n"
            ],
            "text/plain": [
              "Byte  \u001b[1;36m7\u001b[0m  Nibble \u001b[1;36m0\u001b[0m  -   Left Margin:   \u001b[1;36m144\u001b[0m  \u001b[1m(\u001b[0m \u001b[1;36m74\u001b[0m \u001b[1m)\u001b[0m  Center Point:   \u001b[1;36m186\u001b[0m  \u001b[1m(\u001b[0m \u001b[1;36m95\u001b[0m \u001b[1m)\u001b[0m  Right Margin:   \u001b[1;36m144\u001b[0m  \u001b[1m(\u001b[0m \u001b[1;36m74\u001b[0m \u001b[1m)\u001b[0m\n"
            ]
          },
          "metadata": {},
          "output_type": "display_data"
        },
        {
          "data": {
            "text/html": [
              "<pre style=\"white-space:pre;overflow-x:auto;line-height:normal;font-family:Menlo,'DejaVu Sans Mono',consolas,'Courier New',monospace\">Byte  <span style=\"color: #008080; text-decoration-color: #008080; font-weight: bold\">7</span>  Nibble <span style=\"color: #008080; text-decoration-color: #008080; font-weight: bold\">1</span>  -   Left Margin:   <span style=\"color: #008080; text-decoration-color: #008080; font-weight: bold\">146</span>  <span style=\"font-weight: bold\">(</span> <span style=\"color: #008080; text-decoration-color: #008080; font-weight: bold\">75</span> <span style=\"font-weight: bold\">)</span>  Center Point:   <span style=\"color: #008080; text-decoration-color: #008080; font-weight: bold\">189</span>  <span style=\"font-weight: bold\">(</span> <span style=\"color: #008080; text-decoration-color: #008080; font-weight: bold\">97</span> <span style=\"font-weight: bold\">)</span>  Right Margin:   <span style=\"color: #008080; text-decoration-color: #008080; font-weight: bold\">148</span>  <span style=\"font-weight: bold\">(</span> <span style=\"color: #008080; text-decoration-color: #008080; font-weight: bold\">76</span> <span style=\"font-weight: bold\">)</span>\n",
              "</pre>\n"
            ],
            "text/plain": [
              "Byte  \u001b[1;36m7\u001b[0m  Nibble \u001b[1;36m1\u001b[0m  -   Left Margin:   \u001b[1;36m146\u001b[0m  \u001b[1m(\u001b[0m \u001b[1;36m75\u001b[0m \u001b[1m)\u001b[0m  Center Point:   \u001b[1;36m189\u001b[0m  \u001b[1m(\u001b[0m \u001b[1;36m97\u001b[0m \u001b[1m)\u001b[0m  Right Margin:   \u001b[1;36m148\u001b[0m  \u001b[1m(\u001b[0m \u001b[1;36m76\u001b[0m \u001b[1m)\u001b[0m\n"
            ]
          },
          "metadata": {},
          "output_type": "display_data"
        },
        {
          "data": {
            "text/html": [
              "<pre style=\"white-space:pre;overflow-x:auto;line-height:normal;font-family:Menlo,'DejaVu Sans Mono',consolas,'Courier New',monospace\">\n",
              " Frequency <span style=\"color: #008080; text-decoration-color: #008080; font-weight: bold\">0</span>  - Read Margin - Complex Pattern - Rising Edge Clock in pS and <span style=\"font-weight: bold\">(</span>delay taps<span style=\"font-weight: bold\">)</span>:\n",
              "\n",
              "</pre>\n"
            ],
            "text/plain": [
              "\n",
              " Frequency \u001b[1;36m0\u001b[0m  - Read Margin - Complex Pattern - Rising Edge Clock in pS and \u001b[1m(\u001b[0mdelay taps\u001b[1m)\u001b[0m:\n",
              "\n"
            ]
          },
          "metadata": {},
          "output_type": "display_data"
        },
        {
          "data": {
            "text/html": [
              "<pre style=\"white-space:pre;overflow-x:auto;line-height:normal;font-family:Menlo,'DejaVu Sans Mono',consolas,'Courier New',monospace\">Byte  <span style=\"color: #008080; text-decoration-color: #008080; font-weight: bold\">0</span>  Nibble <span style=\"color: #008080; text-decoration-color: #008080; font-weight: bold\">0</span>  -   Left Margin:   <span style=\"color: #008080; text-decoration-color: #008080; font-weight: bold\">128</span>  <span style=\"font-weight: bold\">(</span> <span style=\"color: #008080; text-decoration-color: #008080; font-weight: bold\">69</span> <span style=\"font-weight: bold\">)</span>  Center Point:   <span style=\"color: #008080; text-decoration-color: #008080; font-weight: bold\">167</span>  <span style=\"font-weight: bold\">(</span> <span style=\"color: #008080; text-decoration-color: #008080; font-weight: bold\">90</span> <span style=\"font-weight: bold\">)</span>  Right Margin:   <span style=\"color: #008080; text-decoration-color: #008080; font-weight: bold\">128</span>  <span style=\"font-weight: bold\">(</span> <span style=\"color: #008080; text-decoration-color: #008080; font-weight: bold\">69</span> <span style=\"font-weight: bold\">)</span>\n",
              "</pre>\n"
            ],
            "text/plain": [
              "Byte  \u001b[1;36m0\u001b[0m  Nibble \u001b[1;36m0\u001b[0m  -   Left Margin:   \u001b[1;36m128\u001b[0m  \u001b[1m(\u001b[0m \u001b[1;36m69\u001b[0m \u001b[1m)\u001b[0m  Center Point:   \u001b[1;36m167\u001b[0m  \u001b[1m(\u001b[0m \u001b[1;36m90\u001b[0m \u001b[1m)\u001b[0m  Right Margin:   \u001b[1;36m128\u001b[0m  \u001b[1m(\u001b[0m \u001b[1;36m69\u001b[0m \u001b[1m)\u001b[0m\n"
            ]
          },
          "metadata": {},
          "output_type": "display_data"
        },
        {
          "data": {
            "text/html": [
              "<pre style=\"white-space:pre;overflow-x:auto;line-height:normal;font-family:Menlo,'DejaVu Sans Mono',consolas,'Courier New',monospace\">Byte  <span style=\"color: #008080; text-decoration-color: #008080; font-weight: bold\">0</span>  Nibble <span style=\"color: #008080; text-decoration-color: #008080; font-weight: bold\">1</span>  -   Left Margin:   <span style=\"color: #008080; text-decoration-color: #008080; font-weight: bold\">142</span>  <span style=\"font-weight: bold\">(</span> <span style=\"color: #008080; text-decoration-color: #008080; font-weight: bold\">74</span> <span style=\"font-weight: bold\">)</span>  Center Point:   <span style=\"color: #008080; text-decoration-color: #008080; font-weight: bold\">187</span>  <span style=\"font-weight: bold\">(</span> <span style=\"color: #008080; text-decoration-color: #008080; font-weight: bold\">97</span> <span style=\"font-weight: bold\">)</span>  Right Margin:   <span style=\"color: #008080; text-decoration-color: #008080; font-weight: bold\">142</span>  <span style=\"font-weight: bold\">(</span> <span style=\"color: #008080; text-decoration-color: #008080; font-weight: bold\">74</span> <span style=\"font-weight: bold\">)</span>\n",
              "</pre>\n"
            ],
            "text/plain": [
              "Byte  \u001b[1;36m0\u001b[0m  Nibble \u001b[1;36m1\u001b[0m  -   Left Margin:   \u001b[1;36m142\u001b[0m  \u001b[1m(\u001b[0m \u001b[1;36m74\u001b[0m \u001b[1m)\u001b[0m  Center Point:   \u001b[1;36m187\u001b[0m  \u001b[1m(\u001b[0m \u001b[1;36m97\u001b[0m \u001b[1m)\u001b[0m  Right Margin:   \u001b[1;36m142\u001b[0m  \u001b[1m(\u001b[0m \u001b[1;36m74\u001b[0m \u001b[1m)\u001b[0m\n"
            ]
          },
          "metadata": {},
          "output_type": "display_data"
        },
        {
          "data": {
            "text/html": [
              "<pre style=\"white-space:pre;overflow-x:auto;line-height:normal;font-family:Menlo,'DejaVu Sans Mono',consolas,'Courier New',monospace\">Byte  <span style=\"color: #008080; text-decoration-color: #008080; font-weight: bold\">1</span>  Nibble <span style=\"color: #008080; text-decoration-color: #008080; font-weight: bold\">0</span>  -   Left Margin:   <span style=\"color: #008080; text-decoration-color: #008080; font-weight: bold\">134</span>  <span style=\"font-weight: bold\">(</span> <span style=\"color: #008080; text-decoration-color: #008080; font-weight: bold\">69</span> <span style=\"font-weight: bold\">)</span>  Center Point:   <span style=\"color: #008080; text-decoration-color: #008080; font-weight: bold\">176</span>  <span style=\"font-weight: bold\">(</span> <span style=\"color: #008080; text-decoration-color: #008080; font-weight: bold\">90</span> <span style=\"font-weight: bold\">)</span>  Right Margin:   <span style=\"color: #008080; text-decoration-color: #008080; font-weight: bold\">134</span>  <span style=\"font-weight: bold\">(</span> <span style=\"color: #008080; text-decoration-color: #008080; font-weight: bold\">69</span> <span style=\"font-weight: bold\">)</span>\n",
              "</pre>\n"
            ],
            "text/plain": [
              "Byte  \u001b[1;36m1\u001b[0m  Nibble \u001b[1;36m0\u001b[0m  -   Left Margin:   \u001b[1;36m134\u001b[0m  \u001b[1m(\u001b[0m \u001b[1;36m69\u001b[0m \u001b[1m)\u001b[0m  Center Point:   \u001b[1;36m176\u001b[0m  \u001b[1m(\u001b[0m \u001b[1;36m90\u001b[0m \u001b[1m)\u001b[0m  Right Margin:   \u001b[1;36m134\u001b[0m  \u001b[1m(\u001b[0m \u001b[1;36m69\u001b[0m \u001b[1m)\u001b[0m\n"
            ]
          },
          "metadata": {},
          "output_type": "display_data"
        },
        {
          "data": {
            "text/html": [
              "<pre style=\"white-space:pre;overflow-x:auto;line-height:normal;font-family:Menlo,'DejaVu Sans Mono',consolas,'Courier New',monospace\">Byte  <span style=\"color: #008080; text-decoration-color: #008080; font-weight: bold\">1</span>  Nibble <span style=\"color: #008080; text-decoration-color: #008080; font-weight: bold\">1</span>  -   Left Margin:   <span style=\"color: #008080; text-decoration-color: #008080; font-weight: bold\">133</span>  <span style=\"font-weight: bold\">(</span> <span style=\"color: #008080; text-decoration-color: #008080; font-weight: bold\">69</span> <span style=\"font-weight: bold\">)</span>  Center Point:   <span style=\"color: #008080; text-decoration-color: #008080; font-weight: bold\">176</span>  <span style=\"font-weight: bold\">(</span> <span style=\"color: #008080; text-decoration-color: #008080; font-weight: bold\">91</span> <span style=\"font-weight: bold\">)</span>  Right Margin:   <span style=\"color: #008080; text-decoration-color: #008080; font-weight: bold\">133</span>  <span style=\"font-weight: bold\">(</span> <span style=\"color: #008080; text-decoration-color: #008080; font-weight: bold\">69</span> <span style=\"font-weight: bold\">)</span>\n",
              "</pre>\n"
            ],
            "text/plain": [
              "Byte  \u001b[1;36m1\u001b[0m  Nibble \u001b[1;36m1\u001b[0m  -   Left Margin:   \u001b[1;36m133\u001b[0m  \u001b[1m(\u001b[0m \u001b[1;36m69\u001b[0m \u001b[1m)\u001b[0m  Center Point:   \u001b[1;36m176\u001b[0m  \u001b[1m(\u001b[0m \u001b[1;36m91\u001b[0m \u001b[1m)\u001b[0m  Right Margin:   \u001b[1;36m133\u001b[0m  \u001b[1m(\u001b[0m \u001b[1;36m69\u001b[0m \u001b[1m)\u001b[0m\n"
            ]
          },
          "metadata": {},
          "output_type": "display_data"
        },
        {
          "data": {
            "text/html": [
              "<pre style=\"white-space:pre;overflow-x:auto;line-height:normal;font-family:Menlo,'DejaVu Sans Mono',consolas,'Courier New',monospace\">Byte  <span style=\"color: #008080; text-decoration-color: #008080; font-weight: bold\">2</span>  Nibble <span style=\"color: #008080; text-decoration-color: #008080; font-weight: bold\">0</span>  -   Left Margin:   <span style=\"color: #008080; text-decoration-color: #008080; font-weight: bold\">130</span>  <span style=\"font-weight: bold\">(</span> <span style=\"color: #008080; text-decoration-color: #008080; font-weight: bold\">67</span> <span style=\"font-weight: bold\">)</span>  Center Point:   <span style=\"color: #008080; text-decoration-color: #008080; font-weight: bold\">178</span>  <span style=\"font-weight: bold\">(</span> <span style=\"color: #008080; text-decoration-color: #008080; font-weight: bold\">91</span> <span style=\"font-weight: bold\">)</span>  Right Margin:   <span style=\"color: #008080; text-decoration-color: #008080; font-weight: bold\">130</span>  <span style=\"font-weight: bold\">(</span> <span style=\"color: #008080; text-decoration-color: #008080; font-weight: bold\">67</span> <span style=\"font-weight: bold\">)</span>\n",
              "</pre>\n"
            ],
            "text/plain": [
              "Byte  \u001b[1;36m2\u001b[0m  Nibble \u001b[1;36m0\u001b[0m  -   Left Margin:   \u001b[1;36m130\u001b[0m  \u001b[1m(\u001b[0m \u001b[1;36m67\u001b[0m \u001b[1m)\u001b[0m  Center Point:   \u001b[1;36m178\u001b[0m  \u001b[1m(\u001b[0m \u001b[1;36m91\u001b[0m \u001b[1m)\u001b[0m  Right Margin:   \u001b[1;36m130\u001b[0m  \u001b[1m(\u001b[0m \u001b[1;36m67\u001b[0m \u001b[1m)\u001b[0m\n"
            ]
          },
          "metadata": {},
          "output_type": "display_data"
        },
        {
          "data": {
            "text/html": [
              "<pre style=\"white-space:pre;overflow-x:auto;line-height:normal;font-family:Menlo,'DejaVu Sans Mono',consolas,'Courier New',monospace\">Byte  <span style=\"color: #008080; text-decoration-color: #008080; font-weight: bold\">2</span>  Nibble <span style=\"color: #008080; text-decoration-color: #008080; font-weight: bold\">1</span>  -   Left Margin:   <span style=\"color: #008080; text-decoration-color: #008080; font-weight: bold\">130</span>  <span style=\"font-weight: bold\">(</span> <span style=\"color: #008080; text-decoration-color: #008080; font-weight: bold\">67</span> <span style=\"font-weight: bold\">)</span>  Center Point:   <span style=\"color: #008080; text-decoration-color: #008080; font-weight: bold\">180</span>  <span style=\"font-weight: bold\">(</span> <span style=\"color: #008080; text-decoration-color: #008080; font-weight: bold\">92</span> <span style=\"font-weight: bold\">)</span>  Right Margin:   <span style=\"color: #008080; text-decoration-color: #008080; font-weight: bold\">132</span>  <span style=\"font-weight: bold\">(</span> <span style=\"color: #008080; text-decoration-color: #008080; font-weight: bold\">68</span> <span style=\"font-weight: bold\">)</span>\n",
              "</pre>\n"
            ],
            "text/plain": [
              "Byte  \u001b[1;36m2\u001b[0m  Nibble \u001b[1;36m1\u001b[0m  -   Left Margin:   \u001b[1;36m130\u001b[0m  \u001b[1m(\u001b[0m \u001b[1;36m67\u001b[0m \u001b[1m)\u001b[0m  Center Point:   \u001b[1;36m180\u001b[0m  \u001b[1m(\u001b[0m \u001b[1;36m92\u001b[0m \u001b[1m)\u001b[0m  Right Margin:   \u001b[1;36m132\u001b[0m  \u001b[1m(\u001b[0m \u001b[1;36m68\u001b[0m \u001b[1m)\u001b[0m\n"
            ]
          },
          "metadata": {},
          "output_type": "display_data"
        },
        {
          "data": {
            "text/html": [
              "<pre style=\"white-space:pre;overflow-x:auto;line-height:normal;font-family:Menlo,'DejaVu Sans Mono',consolas,'Courier New',monospace\">Byte  <span style=\"color: #008080; text-decoration-color: #008080; font-weight: bold\">3</span>  Nibble <span style=\"color: #008080; text-decoration-color: #008080; font-weight: bold\">0</span>  -   Left Margin:   <span style=\"color: #008080; text-decoration-color: #008080; font-weight: bold\">132</span>  <span style=\"font-weight: bold\">(</span> <span style=\"color: #008080; text-decoration-color: #008080; font-weight: bold\">66</span> <span style=\"font-weight: bold\">)</span>  Center Point:   <span style=\"color: #008080; text-decoration-color: #008080; font-weight: bold\">174</span>  <span style=\"font-weight: bold\">(</span> <span style=\"color: #008080; text-decoration-color: #008080; font-weight: bold\">87</span> <span style=\"font-weight: bold\">)</span>  Right Margin:   <span style=\"color: #008080; text-decoration-color: #008080; font-weight: bold\">134</span>  <span style=\"font-weight: bold\">(</span> <span style=\"color: #008080; text-decoration-color: #008080; font-weight: bold\">67</span> <span style=\"font-weight: bold\">)</span>\n",
              "</pre>\n"
            ],
            "text/plain": [
              "Byte  \u001b[1;36m3\u001b[0m  Nibble \u001b[1;36m0\u001b[0m  -   Left Margin:   \u001b[1;36m132\u001b[0m  \u001b[1m(\u001b[0m \u001b[1;36m66\u001b[0m \u001b[1m)\u001b[0m  Center Point:   \u001b[1;36m174\u001b[0m  \u001b[1m(\u001b[0m \u001b[1;36m87\u001b[0m \u001b[1m)\u001b[0m  Right Margin:   \u001b[1;36m134\u001b[0m  \u001b[1m(\u001b[0m \u001b[1;36m67\u001b[0m \u001b[1m)\u001b[0m\n"
            ]
          },
          "metadata": {},
          "output_type": "display_data"
        },
        {
          "data": {
            "text/html": [
              "<pre style=\"white-space:pre;overflow-x:auto;line-height:normal;font-family:Menlo,'DejaVu Sans Mono',consolas,'Courier New',monospace\">Byte  <span style=\"color: #008080; text-decoration-color: #008080; font-weight: bold\">3</span>  Nibble <span style=\"color: #008080; text-decoration-color: #008080; font-weight: bold\">1</span>  -   Left Margin:   <span style=\"color: #008080; text-decoration-color: #008080; font-weight: bold\">132</span>  <span style=\"font-weight: bold\">(</span> <span style=\"color: #008080; text-decoration-color: #008080; font-weight: bold\">68</span> <span style=\"font-weight: bold\">)</span>  Center Point:   <span style=\"color: #008080; text-decoration-color: #008080; font-weight: bold\">174</span>  <span style=\"font-weight: bold\">(</span> <span style=\"color: #008080; text-decoration-color: #008080; font-weight: bold\">89</span> <span style=\"font-weight: bold\">)</span>  Right Margin:   <span style=\"color: #008080; text-decoration-color: #008080; font-weight: bold\">134</span>  <span style=\"font-weight: bold\">(</span> <span style=\"color: #008080; text-decoration-color: #008080; font-weight: bold\">69</span> <span style=\"font-weight: bold\">)</span>\n",
              "</pre>\n"
            ],
            "text/plain": [
              "Byte  \u001b[1;36m3\u001b[0m  Nibble \u001b[1;36m1\u001b[0m  -   Left Margin:   \u001b[1;36m132\u001b[0m  \u001b[1m(\u001b[0m \u001b[1;36m68\u001b[0m \u001b[1m)\u001b[0m  Center Point:   \u001b[1;36m174\u001b[0m  \u001b[1m(\u001b[0m \u001b[1;36m89\u001b[0m \u001b[1m)\u001b[0m  Right Margin:   \u001b[1;36m134\u001b[0m  \u001b[1m(\u001b[0m \u001b[1;36m69\u001b[0m \u001b[1m)\u001b[0m\n"
            ]
          },
          "metadata": {},
          "output_type": "display_data"
        },
        {
          "data": {
            "text/html": [
              "<pre style=\"white-space:pre;overflow-x:auto;line-height:normal;font-family:Menlo,'DejaVu Sans Mono',consolas,'Courier New',monospace\">Byte  <span style=\"color: #008080; text-decoration-color: #008080; font-weight: bold\">4</span>  Nibble <span style=\"color: #008080; text-decoration-color: #008080; font-weight: bold\">0</span>  -   Left Margin:   <span style=\"color: #008080; text-decoration-color: #008080; font-weight: bold\">128</span>  <span style=\"font-weight: bold\">(</span> <span style=\"color: #008080; text-decoration-color: #008080; font-weight: bold\">66</span> <span style=\"font-weight: bold\">)</span>  Center Point:   <span style=\"color: #008080; text-decoration-color: #008080; font-weight: bold\">170</span>  <span style=\"font-weight: bold\">(</span> <span style=\"color: #008080; text-decoration-color: #008080; font-weight: bold\">87</span> <span style=\"font-weight: bold\">)</span>  Right Margin:   <span style=\"color: #008080; text-decoration-color: #008080; font-weight: bold\">128</span>  <span style=\"font-weight: bold\">(</span> <span style=\"color: #008080; text-decoration-color: #008080; font-weight: bold\">66</span> <span style=\"font-weight: bold\">)</span>\n",
              "</pre>\n"
            ],
            "text/plain": [
              "Byte  \u001b[1;36m4\u001b[0m  Nibble \u001b[1;36m0\u001b[0m  -   Left Margin:   \u001b[1;36m128\u001b[0m  \u001b[1m(\u001b[0m \u001b[1;36m66\u001b[0m \u001b[1m)\u001b[0m  Center Point:   \u001b[1;36m170\u001b[0m  \u001b[1m(\u001b[0m \u001b[1;36m87\u001b[0m \u001b[1m)\u001b[0m  Right Margin:   \u001b[1;36m128\u001b[0m  \u001b[1m(\u001b[0m \u001b[1;36m66\u001b[0m \u001b[1m)\u001b[0m\n"
            ]
          },
          "metadata": {},
          "output_type": "display_data"
        },
        {
          "data": {
            "text/html": [
              "<pre style=\"white-space:pre;overflow-x:auto;line-height:normal;font-family:Menlo,'DejaVu Sans Mono',consolas,'Courier New',monospace\">Byte  <span style=\"color: #008080; text-decoration-color: #008080; font-weight: bold\">4</span>  Nibble <span style=\"color: #008080; text-decoration-color: #008080; font-weight: bold\">1</span>  -   Left Margin:   <span style=\"color: #008080; text-decoration-color: #008080; font-weight: bold\">138</span>  <span style=\"font-weight: bold\">(</span> <span style=\"color: #008080; text-decoration-color: #008080; font-weight: bold\">70</span> <span style=\"font-weight: bold\">)</span>  Center Point:   <span style=\"color: #008080; text-decoration-color: #008080; font-weight: bold\">186</span>  <span style=\"font-weight: bold\">(</span> <span style=\"color: #008080; text-decoration-color: #008080; font-weight: bold\">94</span> <span style=\"font-weight: bold\">)</span>  Right Margin:   <span style=\"color: #008080; text-decoration-color: #008080; font-weight: bold\">138</span>  <span style=\"font-weight: bold\">(</span> <span style=\"color: #008080; text-decoration-color: #008080; font-weight: bold\">70</span> <span style=\"font-weight: bold\">)</span>\n",
              "</pre>\n"
            ],
            "text/plain": [
              "Byte  \u001b[1;36m4\u001b[0m  Nibble \u001b[1;36m1\u001b[0m  -   Left Margin:   \u001b[1;36m138\u001b[0m  \u001b[1m(\u001b[0m \u001b[1;36m70\u001b[0m \u001b[1m)\u001b[0m  Center Point:   \u001b[1;36m186\u001b[0m  \u001b[1m(\u001b[0m \u001b[1;36m94\u001b[0m \u001b[1m)\u001b[0m  Right Margin:   \u001b[1;36m138\u001b[0m  \u001b[1m(\u001b[0m \u001b[1;36m70\u001b[0m \u001b[1m)\u001b[0m\n"
            ]
          },
          "metadata": {},
          "output_type": "display_data"
        },
        {
          "data": {
            "text/html": [
              "<pre style=\"white-space:pre;overflow-x:auto;line-height:normal;font-family:Menlo,'DejaVu Sans Mono',consolas,'Courier New',monospace\">Byte  <span style=\"color: #008080; text-decoration-color: #008080; font-weight: bold\">5</span>  Nibble <span style=\"color: #008080; text-decoration-color: #008080; font-weight: bold\">0</span>  -   Left Margin:   <span style=\"color: #008080; text-decoration-color: #008080; font-weight: bold\">134</span>  <span style=\"font-weight: bold\">(</span> <span style=\"color: #008080; text-decoration-color: #008080; font-weight: bold\">68</span> <span style=\"font-weight: bold\">)</span>  Center Point:   <span style=\"color: #008080; text-decoration-color: #008080; font-weight: bold\">178</span>  <span style=\"font-weight: bold\">(</span> <span style=\"color: #008080; text-decoration-color: #008080; font-weight: bold\">90</span> <span style=\"font-weight: bold\">)</span>  Right Margin:   <span style=\"color: #008080; text-decoration-color: #008080; font-weight: bold\">136</span>  <span style=\"font-weight: bold\">(</span> <span style=\"color: #008080; text-decoration-color: #008080; font-weight: bold\">69</span> <span style=\"font-weight: bold\">)</span>\n",
              "</pre>\n"
            ],
            "text/plain": [
              "Byte  \u001b[1;36m5\u001b[0m  Nibble \u001b[1;36m0\u001b[0m  -   Left Margin:   \u001b[1;36m134\u001b[0m  \u001b[1m(\u001b[0m \u001b[1;36m68\u001b[0m \u001b[1m)\u001b[0m  Center Point:   \u001b[1;36m178\u001b[0m  \u001b[1m(\u001b[0m \u001b[1;36m90\u001b[0m \u001b[1m)\u001b[0m  Right Margin:   \u001b[1;36m136\u001b[0m  \u001b[1m(\u001b[0m \u001b[1;36m69\u001b[0m \u001b[1m)\u001b[0m\n"
            ]
          },
          "metadata": {},
          "output_type": "display_data"
        },
        {
          "data": {
            "text/html": [
              "<pre style=\"white-space:pre;overflow-x:auto;line-height:normal;font-family:Menlo,'DejaVu Sans Mono',consolas,'Courier New',monospace\">Byte  <span style=\"color: #008080; text-decoration-color: #008080; font-weight: bold\">5</span>  Nibble <span style=\"color: #008080; text-decoration-color: #008080; font-weight: bold\">1</span>  -   Left Margin:   <span style=\"color: #008080; text-decoration-color: #008080; font-weight: bold\">136</span>  <span style=\"font-weight: bold\">(</span> <span style=\"color: #008080; text-decoration-color: #008080; font-weight: bold\">70</span> <span style=\"font-weight: bold\">)</span>  Center Point:   <span style=\"color: #008080; text-decoration-color: #008080; font-weight: bold\">193</span>  <span style=\"font-weight: bold\">(</span> <span style=\"color: #008080; text-decoration-color: #008080; font-weight: bold\">99</span> <span style=\"font-weight: bold\">)</span>  Right Margin:   <span style=\"color: #008080; text-decoration-color: #008080; font-weight: bold\">136</span>  <span style=\"font-weight: bold\">(</span> <span style=\"color: #008080; text-decoration-color: #008080; font-weight: bold\">70</span> <span style=\"font-weight: bold\">)</span>\n",
              "</pre>\n"
            ],
            "text/plain": [
              "Byte  \u001b[1;36m5\u001b[0m  Nibble \u001b[1;36m1\u001b[0m  -   Left Margin:   \u001b[1;36m136\u001b[0m  \u001b[1m(\u001b[0m \u001b[1;36m70\u001b[0m \u001b[1m)\u001b[0m  Center Point:   \u001b[1;36m193\u001b[0m  \u001b[1m(\u001b[0m \u001b[1;36m99\u001b[0m \u001b[1m)\u001b[0m  Right Margin:   \u001b[1;36m136\u001b[0m  \u001b[1m(\u001b[0m \u001b[1;36m70\u001b[0m \u001b[1m)\u001b[0m\n"
            ]
          },
          "metadata": {},
          "output_type": "display_data"
        },
        {
          "data": {
            "text/html": [
              "<pre style=\"white-space:pre;overflow-x:auto;line-height:normal;font-family:Menlo,'DejaVu Sans Mono',consolas,'Courier New',monospace\">Byte  <span style=\"color: #008080; text-decoration-color: #008080; font-weight: bold\">6</span>  Nibble <span style=\"color: #008080; text-decoration-color: #008080; font-weight: bold\">0</span>  -   Left Margin:   <span style=\"color: #008080; text-decoration-color: #008080; font-weight: bold\">132</span>  <span style=\"font-weight: bold\">(</span> <span style=\"color: #008080; text-decoration-color: #008080; font-weight: bold\">68</span> <span style=\"font-weight: bold\">)</span>  Center Point:   <span style=\"color: #008080; text-decoration-color: #008080; font-weight: bold\">178</span>  <span style=\"font-weight: bold\">(</span> <span style=\"color: #008080; text-decoration-color: #008080; font-weight: bold\">91</span> <span style=\"font-weight: bold\">)</span>  Right Margin:   <span style=\"color: #008080; text-decoration-color: #008080; font-weight: bold\">132</span>  <span style=\"font-weight: bold\">(</span> <span style=\"color: #008080; text-decoration-color: #008080; font-weight: bold\">68</span> <span style=\"font-weight: bold\">)</span>\n",
              "</pre>\n"
            ],
            "text/plain": [
              "Byte  \u001b[1;36m6\u001b[0m  Nibble \u001b[1;36m0\u001b[0m  -   Left Margin:   \u001b[1;36m132\u001b[0m  \u001b[1m(\u001b[0m \u001b[1;36m68\u001b[0m \u001b[1m)\u001b[0m  Center Point:   \u001b[1;36m178\u001b[0m  \u001b[1m(\u001b[0m \u001b[1;36m91\u001b[0m \u001b[1m)\u001b[0m  Right Margin:   \u001b[1;36m132\u001b[0m  \u001b[1m(\u001b[0m \u001b[1;36m68\u001b[0m \u001b[1m)\u001b[0m\n"
            ]
          },
          "metadata": {},
          "output_type": "display_data"
        },
        {
          "data": {
            "text/html": [
              "<pre style=\"white-space:pre;overflow-x:auto;line-height:normal;font-family:Menlo,'DejaVu Sans Mono',consolas,'Courier New',monospace\">Byte  <span style=\"color: #008080; text-decoration-color: #008080; font-weight: bold\">6</span>  Nibble <span style=\"color: #008080; text-decoration-color: #008080; font-weight: bold\">1</span>  -   Left Margin:   <span style=\"color: #008080; text-decoration-color: #008080; font-weight: bold\">138</span>  <span style=\"font-weight: bold\">(</span> <span style=\"color: #008080; text-decoration-color: #008080; font-weight: bold\">71</span> <span style=\"font-weight: bold\">)</span>  Center Point:   <span style=\"color: #008080; text-decoration-color: #008080; font-weight: bold\">189</span>  <span style=\"font-weight: bold\">(</span> <span style=\"color: #008080; text-decoration-color: #008080; font-weight: bold\">97</span> <span style=\"font-weight: bold\">)</span>  Right Margin:   <span style=\"color: #008080; text-decoration-color: #008080; font-weight: bold\">140</span>  <span style=\"font-weight: bold\">(</span> <span style=\"color: #008080; text-decoration-color: #008080; font-weight: bold\">72</span> <span style=\"font-weight: bold\">)</span>\n",
              "</pre>\n"
            ],
            "text/plain": [
              "Byte  \u001b[1;36m6\u001b[0m  Nibble \u001b[1;36m1\u001b[0m  -   Left Margin:   \u001b[1;36m138\u001b[0m  \u001b[1m(\u001b[0m \u001b[1;36m71\u001b[0m \u001b[1m)\u001b[0m  Center Point:   \u001b[1;36m189\u001b[0m  \u001b[1m(\u001b[0m \u001b[1;36m97\u001b[0m \u001b[1m)\u001b[0m  Right Margin:   \u001b[1;36m140\u001b[0m  \u001b[1m(\u001b[0m \u001b[1;36m72\u001b[0m \u001b[1m)\u001b[0m\n"
            ]
          },
          "metadata": {},
          "output_type": "display_data"
        },
        {
          "data": {
            "text/html": [
              "<pre style=\"white-space:pre;overflow-x:auto;line-height:normal;font-family:Menlo,'DejaVu Sans Mono',consolas,'Courier New',monospace\">Byte  <span style=\"color: #008080; text-decoration-color: #008080; font-weight: bold\">7</span>  Nibble <span style=\"color: #008080; text-decoration-color: #008080; font-weight: bold\">0</span>  -   Left Margin:   <span style=\"color: #008080; text-decoration-color: #008080; font-weight: bold\">134</span>  <span style=\"font-weight: bold\">(</span> <span style=\"color: #008080; text-decoration-color: #008080; font-weight: bold\">69</span> <span style=\"font-weight: bold\">)</span>  Center Point:   <span style=\"color: #008080; text-decoration-color: #008080; font-weight: bold\">176</span>  <span style=\"font-weight: bold\">(</span> <span style=\"color: #008080; text-decoration-color: #008080; font-weight: bold\">90</span> <span style=\"font-weight: bold\">)</span>  Right Margin:   <span style=\"color: #008080; text-decoration-color: #008080; font-weight: bold\">136</span>  <span style=\"font-weight: bold\">(</span> <span style=\"color: #008080; text-decoration-color: #008080; font-weight: bold\">70</span> <span style=\"font-weight: bold\">)</span>\n",
              "</pre>\n"
            ],
            "text/plain": [
              "Byte  \u001b[1;36m7\u001b[0m  Nibble \u001b[1;36m0\u001b[0m  -   Left Margin:   \u001b[1;36m134\u001b[0m  \u001b[1m(\u001b[0m \u001b[1;36m69\u001b[0m \u001b[1m)\u001b[0m  Center Point:   \u001b[1;36m176\u001b[0m  \u001b[1m(\u001b[0m \u001b[1;36m90\u001b[0m \u001b[1m)\u001b[0m  Right Margin:   \u001b[1;36m136\u001b[0m  \u001b[1m(\u001b[0m \u001b[1;36m70\u001b[0m \u001b[1m)\u001b[0m\n"
            ]
          },
          "metadata": {},
          "output_type": "display_data"
        },
        {
          "data": {
            "text/html": [
              "<pre style=\"white-space:pre;overflow-x:auto;line-height:normal;font-family:Menlo,'DejaVu Sans Mono',consolas,'Courier New',monospace\">Byte  <span style=\"color: #008080; text-decoration-color: #008080; font-weight: bold\">7</span>  Nibble <span style=\"color: #008080; text-decoration-color: #008080; font-weight: bold\">1</span>  -   Left Margin:   <span style=\"color: #008080; text-decoration-color: #008080; font-weight: bold\">136</span>  <span style=\"font-weight: bold\">(</span> <span style=\"color: #008080; text-decoration-color: #008080; font-weight: bold\">71</span> <span style=\"font-weight: bold\">)</span>  Center Point:   <span style=\"color: #008080; text-decoration-color: #008080; font-weight: bold\">179</span>  <span style=\"font-weight: bold\">(</span> <span style=\"color: #008080; text-decoration-color: #008080; font-weight: bold\">93</span> <span style=\"font-weight: bold\">)</span>  Right Margin:   <span style=\"color: #008080; text-decoration-color: #008080; font-weight: bold\">138</span>  <span style=\"font-weight: bold\">(</span> <span style=\"color: #008080; text-decoration-color: #008080; font-weight: bold\">72</span> <span style=\"font-weight: bold\">)</span>\n",
              "</pre>\n"
            ],
            "text/plain": [
              "Byte  \u001b[1;36m7\u001b[0m  Nibble \u001b[1;36m1\u001b[0m  -   Left Margin:   \u001b[1;36m136\u001b[0m  \u001b[1m(\u001b[0m \u001b[1;36m71\u001b[0m \u001b[1m)\u001b[0m  Center Point:   \u001b[1;36m179\u001b[0m  \u001b[1m(\u001b[0m \u001b[1;36m93\u001b[0m \u001b[1m)\u001b[0m  Right Margin:   \u001b[1;36m138\u001b[0m  \u001b[1m(\u001b[0m \u001b[1;36m72\u001b[0m \u001b[1m)\u001b[0m\n"
            ]
          },
          "metadata": {},
          "output_type": "display_data"
        },
        {
          "data": {
            "text/html": [
              "<pre style=\"white-space:pre;overflow-x:auto;line-height:normal;font-family:Menlo,'DejaVu Sans Mono',consolas,'Courier New',monospace\">\n",
              " Frequency <span style=\"color: #008080; text-decoration-color: #008080; font-weight: bold\">0</span>  - Read Margin - Complex Pattern - Falling Edge Clock in pS and <span style=\"font-weight: bold\">(</span>delay taps<span style=\"font-weight: bold\">)</span>:\n",
              "\n",
              "</pre>\n"
            ],
            "text/plain": [
              "\n",
              " Frequency \u001b[1;36m0\u001b[0m  - Read Margin - Complex Pattern - Falling Edge Clock in pS and \u001b[1m(\u001b[0mdelay taps\u001b[1m)\u001b[0m:\n",
              "\n"
            ]
          },
          "metadata": {},
          "output_type": "display_data"
        },
        {
          "data": {
            "text/html": [
              "<pre style=\"white-space:pre;overflow-x:auto;line-height:normal;font-family:Menlo,'DejaVu Sans Mono',consolas,'Courier New',monospace\">Byte  <span style=\"color: #008080; text-decoration-color: #008080; font-weight: bold\">0</span>  Nibble <span style=\"color: #008080; text-decoration-color: #008080; font-weight: bold\">0</span>  -   Left Margin:   <span style=\"color: #008080; text-decoration-color: #008080; font-weight: bold\">123</span>  <span style=\"font-weight: bold\">(</span> <span style=\"color: #008080; text-decoration-color: #008080; font-weight: bold\">64</span> <span style=\"font-weight: bold\">)</span>  Center Point:   <span style=\"color: #008080; text-decoration-color: #008080; font-weight: bold\">162</span>  <span style=\"font-weight: bold\">(</span> <span style=\"color: #008080; text-decoration-color: #008080; font-weight: bold\">84</span> <span style=\"font-weight: bold\">)</span>  Right Margin:   <span style=\"color: #008080; text-decoration-color: #008080; font-weight: bold\">123</span>  <span style=\"font-weight: bold\">(</span> <span style=\"color: #008080; text-decoration-color: #008080; font-weight: bold\">64</span> <span style=\"font-weight: bold\">)</span>\n",
              "</pre>\n"
            ],
            "text/plain": [
              "Byte  \u001b[1;36m0\u001b[0m  Nibble \u001b[1;36m0\u001b[0m  -   Left Margin:   \u001b[1;36m123\u001b[0m  \u001b[1m(\u001b[0m \u001b[1;36m64\u001b[0m \u001b[1m)\u001b[0m  Center Point:   \u001b[1;36m162\u001b[0m  \u001b[1m(\u001b[0m \u001b[1;36m84\u001b[0m \u001b[1m)\u001b[0m  Right Margin:   \u001b[1;36m123\u001b[0m  \u001b[1m(\u001b[0m \u001b[1;36m64\u001b[0m \u001b[1m)\u001b[0m\n"
            ]
          },
          "metadata": {},
          "output_type": "display_data"
        },
        {
          "data": {
            "text/html": [
              "<pre style=\"white-space:pre;overflow-x:auto;line-height:normal;font-family:Menlo,'DejaVu Sans Mono',consolas,'Courier New',monospace\">Byte  <span style=\"color: #008080; text-decoration-color: #008080; font-weight: bold\">0</span>  Nibble <span style=\"color: #008080; text-decoration-color: #008080; font-weight: bold\">1</span>  -   Left Margin:   <span style=\"color: #008080; text-decoration-color: #008080; font-weight: bold\">121</span>  <span style=\"font-weight: bold\">(</span> <span style=\"color: #008080; text-decoration-color: #008080; font-weight: bold\">64</span> <span style=\"font-weight: bold\">)</span>  Center Point:   <span style=\"color: #008080; text-decoration-color: #008080; font-weight: bold\">173</span>  <span style=\"font-weight: bold\">(</span> <span style=\"color: #008080; text-decoration-color: #008080; font-weight: bold\">91</span> <span style=\"font-weight: bold\">)</span>  Right Margin:   <span style=\"color: #008080; text-decoration-color: #008080; font-weight: bold\">123</span>  <span style=\"font-weight: bold\">(</span> <span style=\"color: #008080; text-decoration-color: #008080; font-weight: bold\">65</span> <span style=\"font-weight: bold\">)</span>\n",
              "</pre>\n"
            ],
            "text/plain": [
              "Byte  \u001b[1;36m0\u001b[0m  Nibble \u001b[1;36m1\u001b[0m  -   Left Margin:   \u001b[1;36m121\u001b[0m  \u001b[1m(\u001b[0m \u001b[1;36m64\u001b[0m \u001b[1m)\u001b[0m  Center Point:   \u001b[1;36m173\u001b[0m  \u001b[1m(\u001b[0m \u001b[1;36m91\u001b[0m \u001b[1m)\u001b[0m  Right Margin:   \u001b[1;36m123\u001b[0m  \u001b[1m(\u001b[0m \u001b[1;36m65\u001b[0m \u001b[1m)\u001b[0m\n"
            ]
          },
          "metadata": {},
          "output_type": "display_data"
        },
        {
          "data": {
            "text/html": [
              "<pre style=\"white-space:pre;overflow-x:auto;line-height:normal;font-family:Menlo,'DejaVu Sans Mono',consolas,'Courier New',monospace\">Byte  <span style=\"color: #008080; text-decoration-color: #008080; font-weight: bold\">1</span>  Nibble <span style=\"color: #008080; text-decoration-color: #008080; font-weight: bold\">0</span>  -   Left Margin:   <span style=\"color: #008080; text-decoration-color: #008080; font-weight: bold\">121</span>  <span style=\"font-weight: bold\">(</span> <span style=\"color: #008080; text-decoration-color: #008080; font-weight: bold\">63</span> <span style=\"font-weight: bold\">)</span>  Center Point:   <span style=\"color: #008080; text-decoration-color: #008080; font-weight: bold\">172</span>  <span style=\"font-weight: bold\">(</span> <span style=\"color: #008080; text-decoration-color: #008080; font-weight: bold\">89</span> <span style=\"font-weight: bold\">)</span>  Right Margin:   <span style=\"color: #008080; text-decoration-color: #008080; font-weight: bold\">121</span>  <span style=\"font-weight: bold\">(</span> <span style=\"color: #008080; text-decoration-color: #008080; font-weight: bold\">63</span> <span style=\"font-weight: bold\">)</span>\n",
              "</pre>\n"
            ],
            "text/plain": [
              "Byte  \u001b[1;36m1\u001b[0m  Nibble \u001b[1;36m0\u001b[0m  -   Left Margin:   \u001b[1;36m121\u001b[0m  \u001b[1m(\u001b[0m \u001b[1;36m63\u001b[0m \u001b[1m)\u001b[0m  Center Point:   \u001b[1;36m172\u001b[0m  \u001b[1m(\u001b[0m \u001b[1;36m89\u001b[0m \u001b[1m)\u001b[0m  Right Margin:   \u001b[1;36m121\u001b[0m  \u001b[1m(\u001b[0m \u001b[1;36m63\u001b[0m \u001b[1m)\u001b[0m\n"
            ]
          },
          "metadata": {},
          "output_type": "display_data"
        },
        {
          "data": {
            "text/html": [
              "<pre style=\"white-space:pre;overflow-x:auto;line-height:normal;font-family:Menlo,'DejaVu Sans Mono',consolas,'Courier New',monospace\">Byte  <span style=\"color: #008080; text-decoration-color: #008080; font-weight: bold\">1</span>  Nibble <span style=\"color: #008080; text-decoration-color: #008080; font-weight: bold\">1</span>  -   Left Margin:   <span style=\"color: #008080; text-decoration-color: #008080; font-weight: bold\">118</span>  <span style=\"font-weight: bold\">(</span> <span style=\"color: #008080; text-decoration-color: #008080; font-weight: bold\">62</span> <span style=\"font-weight: bold\">)</span>  Center Point:   <span style=\"color: #008080; text-decoration-color: #008080; font-weight: bold\">171</span>  <span style=\"font-weight: bold\">(</span> <span style=\"color: #008080; text-decoration-color: #008080; font-weight: bold\">90</span> <span style=\"font-weight: bold\">)</span>  Right Margin:   <span style=\"color: #008080; text-decoration-color: #008080; font-weight: bold\">120</span>  <span style=\"font-weight: bold\">(</span> <span style=\"color: #008080; text-decoration-color: #008080; font-weight: bold\">63</span> <span style=\"font-weight: bold\">)</span>\n",
              "</pre>\n"
            ],
            "text/plain": [
              "Byte  \u001b[1;36m1\u001b[0m  Nibble \u001b[1;36m1\u001b[0m  -   Left Margin:   \u001b[1;36m118\u001b[0m  \u001b[1m(\u001b[0m \u001b[1;36m62\u001b[0m \u001b[1m)\u001b[0m  Center Point:   \u001b[1;36m171\u001b[0m  \u001b[1m(\u001b[0m \u001b[1;36m90\u001b[0m \u001b[1m)\u001b[0m  Right Margin:   \u001b[1;36m120\u001b[0m  \u001b[1m(\u001b[0m \u001b[1;36m63\u001b[0m \u001b[1m)\u001b[0m\n"
            ]
          },
          "metadata": {},
          "output_type": "display_data"
        },
        {
          "data": {
            "text/html": [
              "<pre style=\"white-space:pre;overflow-x:auto;line-height:normal;font-family:Menlo,'DejaVu Sans Mono',consolas,'Courier New',monospace\">Byte  <span style=\"color: #008080; text-decoration-color: #008080; font-weight: bold\">2</span>  Nibble <span style=\"color: #008080; text-decoration-color: #008080; font-weight: bold\">0</span>  -   Left Margin:   <span style=\"color: #008080; text-decoration-color: #008080; font-weight: bold\">114</span>  <span style=\"font-weight: bold\">(</span> <span style=\"color: #008080; text-decoration-color: #008080; font-weight: bold\">60</span> <span style=\"font-weight: bold\">)</span>  Center Point:   <span style=\"color: #008080; text-decoration-color: #008080; font-weight: bold\">170</span>  <span style=\"font-weight: bold\">(</span> <span style=\"color: #008080; text-decoration-color: #008080; font-weight: bold\">89</span> <span style=\"font-weight: bold\">)</span>  Right Margin:   <span style=\"color: #008080; text-decoration-color: #008080; font-weight: bold\">116</span>  <span style=\"font-weight: bold\">(</span> <span style=\"color: #008080; text-decoration-color: #008080; font-weight: bold\">61</span> <span style=\"font-weight: bold\">)</span>\n",
              "</pre>\n"
            ],
            "text/plain": [
              "Byte  \u001b[1;36m2\u001b[0m  Nibble \u001b[1;36m0\u001b[0m  -   Left Margin:   \u001b[1;36m114\u001b[0m  \u001b[1m(\u001b[0m \u001b[1;36m60\u001b[0m \u001b[1m)\u001b[0m  Center Point:   \u001b[1;36m170\u001b[0m  \u001b[1m(\u001b[0m \u001b[1;36m89\u001b[0m \u001b[1m)\u001b[0m  Right Margin:   \u001b[1;36m116\u001b[0m  \u001b[1m(\u001b[0m \u001b[1;36m61\u001b[0m \u001b[1m)\u001b[0m\n"
            ]
          },
          "metadata": {},
          "output_type": "display_data"
        },
        {
          "data": {
            "text/html": [
              "<pre style=\"white-space:pre;overflow-x:auto;line-height:normal;font-family:Menlo,'DejaVu Sans Mono',consolas,'Courier New',monospace\">Byte  <span style=\"color: #008080; text-decoration-color: #008080; font-weight: bold\">2</span>  Nibble <span style=\"color: #008080; text-decoration-color: #008080; font-weight: bold\">1</span>  -   Left Margin:   <span style=\"color: #008080; text-decoration-color: #008080; font-weight: bold\">112</span>  <span style=\"font-weight: bold\">(</span> <span style=\"color: #008080; text-decoration-color: #008080; font-weight: bold\">60</span> <span style=\"font-weight: bold\">)</span>  Center Point:   <span style=\"color: #008080; text-decoration-color: #008080; font-weight: bold\">168</span>  <span style=\"font-weight: bold\">(</span> <span style=\"color: #008080; text-decoration-color: #008080; font-weight: bold\">89</span> <span style=\"font-weight: bold\">)</span>  Right Margin:   <span style=\"color: #008080; text-decoration-color: #008080; font-weight: bold\">112</span>  <span style=\"font-weight: bold\">(</span> <span style=\"color: #008080; text-decoration-color: #008080; font-weight: bold\">60</span> <span style=\"font-weight: bold\">)</span>\n",
              "</pre>\n"
            ],
            "text/plain": [
              "Byte  \u001b[1;36m2\u001b[0m  Nibble \u001b[1;36m1\u001b[0m  -   Left Margin:   \u001b[1;36m112\u001b[0m  \u001b[1m(\u001b[0m \u001b[1;36m60\u001b[0m \u001b[1m)\u001b[0m  Center Point:   \u001b[1;36m168\u001b[0m  \u001b[1m(\u001b[0m \u001b[1;36m89\u001b[0m \u001b[1m)\u001b[0m  Right Margin:   \u001b[1;36m112\u001b[0m  \u001b[1m(\u001b[0m \u001b[1;36m60\u001b[0m \u001b[1m)\u001b[0m\n"
            ]
          },
          "metadata": {},
          "output_type": "display_data"
        },
        {
          "data": {
            "text/html": [
              "<pre style=\"white-space:pre;overflow-x:auto;line-height:normal;font-family:Menlo,'DejaVu Sans Mono',consolas,'Courier New',monospace\">Byte  <span style=\"color: #008080; text-decoration-color: #008080; font-weight: bold\">3</span>  Nibble <span style=\"color: #008080; text-decoration-color: #008080; font-weight: bold\">0</span>  -   Left Margin:   <span style=\"color: #008080; text-decoration-color: #008080; font-weight: bold\">115</span>  <span style=\"font-weight: bold\">(</span> <span style=\"color: #008080; text-decoration-color: #008080; font-weight: bold\">60</span> <span style=\"font-weight: bold\">)</span>  Center Point:   <span style=\"color: #008080; text-decoration-color: #008080; font-weight: bold\">170</span>  <span style=\"font-weight: bold\">(</span> <span style=\"color: #008080; text-decoration-color: #008080; font-weight: bold\">88</span> <span style=\"font-weight: bold\">)</span>  Right Margin:   <span style=\"color: #008080; text-decoration-color: #008080; font-weight: bold\">115</span>  <span style=\"font-weight: bold\">(</span> <span style=\"color: #008080; text-decoration-color: #008080; font-weight: bold\">60</span> <span style=\"font-weight: bold\">)</span>\n",
              "</pre>\n"
            ],
            "text/plain": [
              "Byte  \u001b[1;36m3\u001b[0m  Nibble \u001b[1;36m0\u001b[0m  -   Left Margin:   \u001b[1;36m115\u001b[0m  \u001b[1m(\u001b[0m \u001b[1;36m60\u001b[0m \u001b[1m)\u001b[0m  Center Point:   \u001b[1;36m170\u001b[0m  \u001b[1m(\u001b[0m \u001b[1;36m88\u001b[0m \u001b[1m)\u001b[0m  Right Margin:   \u001b[1;36m115\u001b[0m  \u001b[1m(\u001b[0m \u001b[1;36m60\u001b[0m \u001b[1m)\u001b[0m\n"
            ]
          },
          "metadata": {},
          "output_type": "display_data"
        },
        {
          "data": {
            "text/html": [
              "<pre style=\"white-space:pre;overflow-x:auto;line-height:normal;font-family:Menlo,'DejaVu Sans Mono',consolas,'Courier New',monospace\">Byte  <span style=\"color: #008080; text-decoration-color: #008080; font-weight: bold\">3</span>  Nibble <span style=\"color: #008080; text-decoration-color: #008080; font-weight: bold\">1</span>  -   Left Margin:   <span style=\"color: #008080; text-decoration-color: #008080; font-weight: bold\">119</span>  <span style=\"font-weight: bold\">(</span> <span style=\"color: #008080; text-decoration-color: #008080; font-weight: bold\">62</span> <span style=\"font-weight: bold\">)</span>  Center Point:   <span style=\"color: #008080; text-decoration-color: #008080; font-weight: bold\">170</span>  <span style=\"font-weight: bold\">(</span> <span style=\"color: #008080; text-decoration-color: #008080; font-weight: bold\">88</span> <span style=\"font-weight: bold\">)</span>  Right Margin:   <span style=\"color: #008080; text-decoration-color: #008080; font-weight: bold\">119</span>  <span style=\"font-weight: bold\">(</span> <span style=\"color: #008080; text-decoration-color: #008080; font-weight: bold\">62</span> <span style=\"font-weight: bold\">)</span>\n",
              "</pre>\n"
            ],
            "text/plain": [
              "Byte  \u001b[1;36m3\u001b[0m  Nibble \u001b[1;36m1\u001b[0m  -   Left Margin:   \u001b[1;36m119\u001b[0m  \u001b[1m(\u001b[0m \u001b[1;36m62\u001b[0m \u001b[1m)\u001b[0m  Center Point:   \u001b[1;36m170\u001b[0m  \u001b[1m(\u001b[0m \u001b[1;36m88\u001b[0m \u001b[1m)\u001b[0m  Right Margin:   \u001b[1;36m119\u001b[0m  \u001b[1m(\u001b[0m \u001b[1;36m62\u001b[0m \u001b[1m)\u001b[0m\n"
            ]
          },
          "metadata": {},
          "output_type": "display_data"
        },
        {
          "data": {
            "text/html": [
              "<pre style=\"white-space:pre;overflow-x:auto;line-height:normal;font-family:Menlo,'DejaVu Sans Mono',consolas,'Courier New',monospace\">Byte  <span style=\"color: #008080; text-decoration-color: #008080; font-weight: bold\">4</span>  Nibble <span style=\"color: #008080; text-decoration-color: #008080; font-weight: bold\">0</span>  -   Left Margin:   <span style=\"color: #008080; text-decoration-color: #008080; font-weight: bold\">109</span>  <span style=\"font-weight: bold\">(</span> <span style=\"color: #008080; text-decoration-color: #008080; font-weight: bold\">56</span> <span style=\"font-weight: bold\">)</span>  Center Point:   <span style=\"color: #008080; text-decoration-color: #008080; font-weight: bold\">148</span>  <span style=\"font-weight: bold\">(</span> <span style=\"color: #008080; text-decoration-color: #008080; font-weight: bold\">76</span> <span style=\"font-weight: bold\">)</span>  Right Margin:   <span style=\"color: #008080; text-decoration-color: #008080; font-weight: bold\">109</span>  <span style=\"font-weight: bold\">(</span> <span style=\"color: #008080; text-decoration-color: #008080; font-weight: bold\">56</span> <span style=\"font-weight: bold\">)</span>\n",
              "</pre>\n"
            ],
            "text/plain": [
              "Byte  \u001b[1;36m4\u001b[0m  Nibble \u001b[1;36m0\u001b[0m  -   Left Margin:   \u001b[1;36m109\u001b[0m  \u001b[1m(\u001b[0m \u001b[1;36m56\u001b[0m \u001b[1m)\u001b[0m  Center Point:   \u001b[1;36m148\u001b[0m  \u001b[1m(\u001b[0m \u001b[1;36m76\u001b[0m \u001b[1m)\u001b[0m  Right Margin:   \u001b[1;36m109\u001b[0m  \u001b[1m(\u001b[0m \u001b[1;36m56\u001b[0m \u001b[1m)\u001b[0m\n"
            ]
          },
          "metadata": {},
          "output_type": "display_data"
        },
        {
          "data": {
            "text/html": [
              "<pre style=\"white-space:pre;overflow-x:auto;line-height:normal;font-family:Menlo,'DejaVu Sans Mono',consolas,'Courier New',monospace\">Byte  <span style=\"color: #008080; text-decoration-color: #008080; font-weight: bold\">4</span>  Nibble <span style=\"color: #008080; text-decoration-color: #008080; font-weight: bold\">1</span>  -   Left Margin:   <span style=\"color: #008080; text-decoration-color: #008080; font-weight: bold\">116</span>  <span style=\"font-weight: bold\">(</span> <span style=\"color: #008080; text-decoration-color: #008080; font-weight: bold\">59</span> <span style=\"font-weight: bold\">)</span>  Center Point:   <span style=\"color: #008080; text-decoration-color: #008080; font-weight: bold\">162</span>  <span style=\"font-weight: bold\">(</span> <span style=\"color: #008080; text-decoration-color: #008080; font-weight: bold\">82</span> <span style=\"font-weight: bold\">)</span>  Right Margin:   <span style=\"color: #008080; text-decoration-color: #008080; font-weight: bold\">118</span>  <span style=\"font-weight: bold\">(</span> <span style=\"color: #008080; text-decoration-color: #008080; font-weight: bold\">60</span> <span style=\"font-weight: bold\">)</span>\n",
              "</pre>\n"
            ],
            "text/plain": [
              "Byte  \u001b[1;36m4\u001b[0m  Nibble \u001b[1;36m1\u001b[0m  -   Left Margin:   \u001b[1;36m116\u001b[0m  \u001b[1m(\u001b[0m \u001b[1;36m59\u001b[0m \u001b[1m)\u001b[0m  Center Point:   \u001b[1;36m162\u001b[0m  \u001b[1m(\u001b[0m \u001b[1;36m82\u001b[0m \u001b[1m)\u001b[0m  Right Margin:   \u001b[1;36m118\u001b[0m  \u001b[1m(\u001b[0m \u001b[1;36m60\u001b[0m \u001b[1m)\u001b[0m\n"
            ]
          },
          "metadata": {},
          "output_type": "display_data"
        },
        {
          "data": {
            "text/html": [
              "<pre style=\"white-space:pre;overflow-x:auto;line-height:normal;font-family:Menlo,'DejaVu Sans Mono',consolas,'Courier New',monospace\">Byte  <span style=\"color: #008080; text-decoration-color: #008080; font-weight: bold\">5</span>  Nibble <span style=\"color: #008080; text-decoration-color: #008080; font-weight: bold\">0</span>  -   Left Margin:   <span style=\"color: #008080; text-decoration-color: #008080; font-weight: bold\">123</span>  <span style=\"font-weight: bold\">(</span> <span style=\"color: #008080; text-decoration-color: #008080; font-weight: bold\">64</span> <span style=\"font-weight: bold\">)</span>  Center Point:   <span style=\"color: #008080; text-decoration-color: #008080; font-weight: bold\">162</span>  <span style=\"font-weight: bold\">(</span> <span style=\"color: #008080; text-decoration-color: #008080; font-weight: bold\">84</span> <span style=\"font-weight: bold\">)</span>  Right Margin:   <span style=\"color: #008080; text-decoration-color: #008080; font-weight: bold\">123</span>  <span style=\"font-weight: bold\">(</span> <span style=\"color: #008080; text-decoration-color: #008080; font-weight: bold\">64</span> <span style=\"font-weight: bold\">)</span>\n",
              "</pre>\n"
            ],
            "text/plain": [
              "Byte  \u001b[1;36m5\u001b[0m  Nibble \u001b[1;36m0\u001b[0m  -   Left Margin:   \u001b[1;36m123\u001b[0m  \u001b[1m(\u001b[0m \u001b[1;36m64\u001b[0m \u001b[1m)\u001b[0m  Center Point:   \u001b[1;36m162\u001b[0m  \u001b[1m(\u001b[0m \u001b[1;36m84\u001b[0m \u001b[1m)\u001b[0m  Right Margin:   \u001b[1;36m123\u001b[0m  \u001b[1m(\u001b[0m \u001b[1;36m64\u001b[0m \u001b[1m)\u001b[0m\n"
            ]
          },
          "metadata": {},
          "output_type": "display_data"
        },
        {
          "data": {
            "text/html": [
              "<pre style=\"white-space:pre;overflow-x:auto;line-height:normal;font-family:Menlo,'DejaVu Sans Mono',consolas,'Courier New',monospace\">Byte  <span style=\"color: #008080; text-decoration-color: #008080; font-weight: bold\">5</span>  Nibble <span style=\"color: #008080; text-decoration-color: #008080; font-weight: bold\">1</span>  -   Left Margin:   <span style=\"color: #008080; text-decoration-color: #008080; font-weight: bold\">121</span>  <span style=\"font-weight: bold\">(</span> <span style=\"color: #008080; text-decoration-color: #008080; font-weight: bold\">63</span> <span style=\"font-weight: bold\">)</span>  Center Point:   <span style=\"color: #008080; text-decoration-color: #008080; font-weight: bold\">174</span>  <span style=\"font-weight: bold\">(</span> <span style=\"color: #008080; text-decoration-color: #008080; font-weight: bold\">90</span> <span style=\"font-weight: bold\">)</span>  Right Margin:   <span style=\"color: #008080; text-decoration-color: #008080; font-weight: bold\">121</span>  <span style=\"font-weight: bold\">(</span> <span style=\"color: #008080; text-decoration-color: #008080; font-weight: bold\">63</span> <span style=\"font-weight: bold\">)</span>\n",
              "</pre>\n"
            ],
            "text/plain": [
              "Byte  \u001b[1;36m5\u001b[0m  Nibble \u001b[1;36m1\u001b[0m  -   Left Margin:   \u001b[1;36m121\u001b[0m  \u001b[1m(\u001b[0m \u001b[1;36m63\u001b[0m \u001b[1m)\u001b[0m  Center Point:   \u001b[1;36m174\u001b[0m  \u001b[1m(\u001b[0m \u001b[1;36m90\u001b[0m \u001b[1m)\u001b[0m  Right Margin:   \u001b[1;36m121\u001b[0m  \u001b[1m(\u001b[0m \u001b[1;36m63\u001b[0m \u001b[1m)\u001b[0m\n"
            ]
          },
          "metadata": {},
          "output_type": "display_data"
        },
        {
          "data": {
            "text/html": [
              "<pre style=\"white-space:pre;overflow-x:auto;line-height:normal;font-family:Menlo,'DejaVu Sans Mono',consolas,'Courier New',monospace\">Byte  <span style=\"color: #008080; text-decoration-color: #008080; font-weight: bold\">6</span>  Nibble <span style=\"color: #008080; text-decoration-color: #008080; font-weight: bold\">0</span>  -   Left Margin:   <span style=\"color: #008080; text-decoration-color: #008080; font-weight: bold\">115</span>  <span style=\"font-weight: bold\">(</span> <span style=\"color: #008080; text-decoration-color: #008080; font-weight: bold\">60</span> <span style=\"font-weight: bold\">)</span>  Center Point:   <span style=\"color: #008080; text-decoration-color: #008080; font-weight: bold\">158</span>  <span style=\"font-weight: bold\">(</span> <span style=\"color: #008080; text-decoration-color: #008080; font-weight: bold\">82</span> <span style=\"font-weight: bold\">)</span>  Right Margin:   <span style=\"color: #008080; text-decoration-color: #008080; font-weight: bold\">117</span>  <span style=\"font-weight: bold\">(</span> <span style=\"color: #008080; text-decoration-color: #008080; font-weight: bold\">61</span> <span style=\"font-weight: bold\">)</span>\n",
              "</pre>\n"
            ],
            "text/plain": [
              "Byte  \u001b[1;36m6\u001b[0m  Nibble \u001b[1;36m0\u001b[0m  -   Left Margin:   \u001b[1;36m115\u001b[0m  \u001b[1m(\u001b[0m \u001b[1;36m60\u001b[0m \u001b[1m)\u001b[0m  Center Point:   \u001b[1;36m158\u001b[0m  \u001b[1m(\u001b[0m \u001b[1;36m82\u001b[0m \u001b[1m)\u001b[0m  Right Margin:   \u001b[1;36m117\u001b[0m  \u001b[1m(\u001b[0m \u001b[1;36m61\u001b[0m \u001b[1m)\u001b[0m\n"
            ]
          },
          "metadata": {},
          "output_type": "display_data"
        },
        {
          "data": {
            "text/html": [
              "<pre style=\"white-space:pre;overflow-x:auto;line-height:normal;font-family:Menlo,'DejaVu Sans Mono',consolas,'Courier New',monospace\">Byte  <span style=\"color: #008080; text-decoration-color: #008080; font-weight: bold\">6</span>  Nibble <span style=\"color: #008080; text-decoration-color: #008080; font-weight: bold\">1</span>  -   Left Margin:   <span style=\"color: #008080; text-decoration-color: #008080; font-weight: bold\">117</span>  <span style=\"font-weight: bold\">(</span> <span style=\"color: #008080; text-decoration-color: #008080; font-weight: bold\">60</span> <span style=\"font-weight: bold\">)</span>  Center Point:   <span style=\"color: #008080; text-decoration-color: #008080; font-weight: bold\">168</span>  <span style=\"font-weight: bold\">(</span> <span style=\"color: #008080; text-decoration-color: #008080; font-weight: bold\">86</span> <span style=\"font-weight: bold\">)</span>  Right Margin:   <span style=\"color: #008080; text-decoration-color: #008080; font-weight: bold\">119</span>  <span style=\"font-weight: bold\">(</span> <span style=\"color: #008080; text-decoration-color: #008080; font-weight: bold\">61</span> <span style=\"font-weight: bold\">)</span>\n",
              "</pre>\n"
            ],
            "text/plain": [
              "Byte  \u001b[1;36m6\u001b[0m  Nibble \u001b[1;36m1\u001b[0m  -   Left Margin:   \u001b[1;36m117\u001b[0m  \u001b[1m(\u001b[0m \u001b[1;36m60\u001b[0m \u001b[1m)\u001b[0m  Center Point:   \u001b[1;36m168\u001b[0m  \u001b[1m(\u001b[0m \u001b[1;36m86\u001b[0m \u001b[1m)\u001b[0m  Right Margin:   \u001b[1;36m119\u001b[0m  \u001b[1m(\u001b[0m \u001b[1;36m61\u001b[0m \u001b[1m)\u001b[0m\n"
            ]
          },
          "metadata": {},
          "output_type": "display_data"
        },
        {
          "data": {
            "text/html": [
              "<pre style=\"white-space:pre;overflow-x:auto;line-height:normal;font-family:Menlo,'DejaVu Sans Mono',consolas,'Courier New',monospace\">Byte  <span style=\"color: #008080; text-decoration-color: #008080; font-weight: bold\">7</span>  Nibble <span style=\"color: #008080; text-decoration-color: #008080; font-weight: bold\">0</span>  -   Left Margin:   <span style=\"color: #008080; text-decoration-color: #008080; font-weight: bold\">119</span>  <span style=\"font-weight: bold\">(</span> <span style=\"color: #008080; text-decoration-color: #008080; font-weight: bold\">61</span> <span style=\"font-weight: bold\">)</span>  Center Point:   <span style=\"color: #008080; text-decoration-color: #008080; font-weight: bold\">162</span>  <span style=\"font-weight: bold\">(</span> <span style=\"color: #008080; text-decoration-color: #008080; font-weight: bold\">83</span> <span style=\"font-weight: bold\">)</span>  Right Margin:   <span style=\"color: #008080; text-decoration-color: #008080; font-weight: bold\">121</span>  <span style=\"font-weight: bold\">(</span> <span style=\"color: #008080; text-decoration-color: #008080; font-weight: bold\">62</span> <span style=\"font-weight: bold\">)</span>\n",
              "</pre>\n"
            ],
            "text/plain": [
              "Byte  \u001b[1;36m7\u001b[0m  Nibble \u001b[1;36m0\u001b[0m  -   Left Margin:   \u001b[1;36m119\u001b[0m  \u001b[1m(\u001b[0m \u001b[1;36m61\u001b[0m \u001b[1m)\u001b[0m  Center Point:   \u001b[1;36m162\u001b[0m  \u001b[1m(\u001b[0m \u001b[1;36m83\u001b[0m \u001b[1m)\u001b[0m  Right Margin:   \u001b[1;36m121\u001b[0m  \u001b[1m(\u001b[0m \u001b[1;36m62\u001b[0m \u001b[1m)\u001b[0m\n"
            ]
          },
          "metadata": {},
          "output_type": "display_data"
        },
        {
          "data": {
            "text/html": [
              "<pre style=\"white-space:pre;overflow-x:auto;line-height:normal;font-family:Menlo,'DejaVu Sans Mono',consolas,'Courier New',monospace\">Byte  <span style=\"color: #008080; text-decoration-color: #008080; font-weight: bold\">7</span>  Nibble <span style=\"color: #008080; text-decoration-color: #008080; font-weight: bold\">1</span>  -   Left Margin:   <span style=\"color: #008080; text-decoration-color: #008080; font-weight: bold\">125</span>  <span style=\"font-weight: bold\">(</span> <span style=\"color: #008080; text-decoration-color: #008080; font-weight: bold\">64</span> <span style=\"font-weight: bold\">)</span>  Center Point:   <span style=\"color: #008080; text-decoration-color: #008080; font-weight: bold\">176</span>  <span style=\"font-weight: bold\">(</span> <span style=\"color: #008080; text-decoration-color: #008080; font-weight: bold\">90</span> <span style=\"font-weight: bold\">)</span>  Right Margin:   <span style=\"color: #008080; text-decoration-color: #008080; font-weight: bold\">125</span>  <span style=\"font-weight: bold\">(</span> <span style=\"color: #008080; text-decoration-color: #008080; font-weight: bold\">64</span> <span style=\"font-weight: bold\">)</span>\n",
              "</pre>\n"
            ],
            "text/plain": [
              "Byte  \u001b[1;36m7\u001b[0m  Nibble \u001b[1;36m1\u001b[0m  -   Left Margin:   \u001b[1;36m125\u001b[0m  \u001b[1m(\u001b[0m \u001b[1;36m64\u001b[0m \u001b[1m)\u001b[0m  Center Point:   \u001b[1;36m176\u001b[0m  \u001b[1m(\u001b[0m \u001b[1;36m90\u001b[0m \u001b[1m)\u001b[0m  Right Margin:   \u001b[1;36m125\u001b[0m  \u001b[1m(\u001b[0m \u001b[1;36m64\u001b[0m \u001b[1m)\u001b[0m\n"
            ]
          },
          "metadata": {},
          "output_type": "display_data"
        },
        {
          "data": {
            "text/html": [
              "<pre style=\"white-space:pre;overflow-x:auto;line-height:normal;font-family:Menlo,'DejaVu Sans Mono',consolas,'Courier New',monospace\">\n",
              " Frequency <span style=\"color: #008080; text-decoration-color: #008080; font-weight: bold\">0</span>  - Write Margin - Simple Pattern - Calibration Window in pS and <span style=\"font-weight: bold\">(</span>delay taps<span style=\"font-weight: bold\">)</span>:\n",
              "\n",
              "</pre>\n"
            ],
            "text/plain": [
              "\n",
              " Frequency \u001b[1;36m0\u001b[0m  - Write Margin - Simple Pattern - Calibration Window in pS and \u001b[1m(\u001b[0mdelay taps\u001b[1m)\u001b[0m:\n",
              "\n"
            ]
          },
          "metadata": {},
          "output_type": "display_data"
        },
        {
          "data": {
            "text/html": [
              "<pre style=\"white-space:pre;overflow-x:auto;line-height:normal;font-family:Menlo,'DejaVu Sans Mono',consolas,'Courier New',monospace\">Byte  <span style=\"color: #008080; text-decoration-color: #008080; font-weight: bold\">0</span>   -  Left Margin:   <span style=\"color: #008080; text-decoration-color: #008080; font-weight: bold\">159</span>  <span style=\"font-weight: bold\">(</span> <span style=\"color: #008080; text-decoration-color: #008080; font-weight: bold\">83</span> <span style=\"font-weight: bold\">)</span>  Center Point:   <span style=\"color: #008080; text-decoration-color: #008080; font-weight: bold\">439</span>  <span style=\"font-weight: bold\">(</span> <span style=\"color: #008080; text-decoration-color: #008080; font-weight: bold\">229</span> <span style=\"font-weight: bold\">)</span>  Right Margin:   <span style=\"color: #008080; text-decoration-color: #008080; font-weight: bold\">136</span>  <span style=\"font-weight: bold\">(</span> <span style=\"color: #008080; text-decoration-color: #008080; font-weight: bold\">71</span> <span style=\"font-weight: bold\">)</span>\n",
              "</pre>\n"
            ],
            "text/plain": [
              "Byte  \u001b[1;36m0\u001b[0m   -  Left Margin:   \u001b[1;36m159\u001b[0m  \u001b[1m(\u001b[0m \u001b[1;36m83\u001b[0m \u001b[1m)\u001b[0m  Center Point:   \u001b[1;36m439\u001b[0m  \u001b[1m(\u001b[0m \u001b[1;36m229\u001b[0m \u001b[1m)\u001b[0m  Right Margin:   \u001b[1;36m136\u001b[0m  \u001b[1m(\u001b[0m \u001b[1;36m71\u001b[0m \u001b[1m)\u001b[0m\n"
            ]
          },
          "metadata": {},
          "output_type": "display_data"
        },
        {
          "data": {
            "text/html": [
              "<pre style=\"white-space:pre;overflow-x:auto;line-height:normal;font-family:Menlo,'DejaVu Sans Mono',consolas,'Courier New',monospace\">Byte  <span style=\"color: #008080; text-decoration-color: #008080; font-weight: bold\">1</span>   -  Left Margin:   <span style=\"color: #008080; text-decoration-color: #008080; font-weight: bold\">174</span>  <span style=\"font-weight: bold\">(</span> <span style=\"color: #008080; text-decoration-color: #008080; font-weight: bold\">90</span> <span style=\"font-weight: bold\">)</span>  Center Point:   <span style=\"color: #008080; text-decoration-color: #008080; font-weight: bold\">607</span>  <span style=\"font-weight: bold\">(</span> <span style=\"color: #008080; text-decoration-color: #008080; font-weight: bold\">312</span> <span style=\"font-weight: bold\">)</span>  Right Margin:   <span style=\"color: #008080; text-decoration-color: #008080; font-weight: bold\">106</span>  <span style=\"font-weight: bold\">(</span> <span style=\"color: #008080; text-decoration-color: #008080; font-weight: bold\">55</span> <span style=\"font-weight: bold\">)</span>\n",
              "</pre>\n"
            ],
            "text/plain": [
              "Byte  \u001b[1;36m1\u001b[0m   -  Left Margin:   \u001b[1;36m174\u001b[0m  \u001b[1m(\u001b[0m \u001b[1;36m90\u001b[0m \u001b[1m)\u001b[0m  Center Point:   \u001b[1;36m607\u001b[0m  \u001b[1m(\u001b[0m \u001b[1;36m312\u001b[0m \u001b[1m)\u001b[0m  Right Margin:   \u001b[1;36m106\u001b[0m  \u001b[1m(\u001b[0m \u001b[1;36m55\u001b[0m \u001b[1m)\u001b[0m\n"
            ]
          },
          "metadata": {},
          "output_type": "display_data"
        },
        {
          "data": {
            "text/html": [
              "<pre style=\"white-space:pre;overflow-x:auto;line-height:normal;font-family:Menlo,'DejaVu Sans Mono',consolas,'Courier New',monospace\">Byte  <span style=\"color: #008080; text-decoration-color: #008080; font-weight: bold\">2</span>   -  Left Margin:   <span style=\"color: #008080; text-decoration-color: #008080; font-weight: bold\">167</span>  <span style=\"font-weight: bold\">(</span> <span style=\"color: #008080; text-decoration-color: #008080; font-weight: bold\">87</span> <span style=\"font-weight: bold\">)</span>  Center Point:   <span style=\"color: #008080; text-decoration-color: #008080; font-weight: bold\">69</span>  <span style=\"font-weight: bold\">(</span> <span style=\"color: #008080; text-decoration-color: #008080; font-weight: bold\">36</span> <span style=\"font-weight: bold\">)</span>  Right Margin:   <span style=\"color: #008080; text-decoration-color: #008080; font-weight: bold\">123</span>  <span style=\"font-weight: bold\">(</span> <span style=\"color: #008080; text-decoration-color: #008080; font-weight: bold\">64</span> <span style=\"font-weight: bold\">)</span>\n",
              "</pre>\n"
            ],
            "text/plain": [
              "Byte  \u001b[1;36m2\u001b[0m   -  Left Margin:   \u001b[1;36m167\u001b[0m  \u001b[1m(\u001b[0m \u001b[1;36m87\u001b[0m \u001b[1m)\u001b[0m  Center Point:   \u001b[1;36m69\u001b[0m  \u001b[1m(\u001b[0m \u001b[1;36m36\u001b[0m \u001b[1m)\u001b[0m  Right Margin:   \u001b[1;36m123\u001b[0m  \u001b[1m(\u001b[0m \u001b[1;36m64\u001b[0m \u001b[1m)\u001b[0m\n"
            ]
          },
          "metadata": {},
          "output_type": "display_data"
        },
        {
          "data": {
            "text/html": [
              "<pre style=\"white-space:pre;overflow-x:auto;line-height:normal;font-family:Menlo,'DejaVu Sans Mono',consolas,'Courier New',monospace\">Byte  <span style=\"color: #008080; text-decoration-color: #008080; font-weight: bold\">3</span>   -  Left Margin:   <span style=\"color: #008080; text-decoration-color: #008080; font-weight: bold\">151</span>  <span style=\"font-weight: bold\">(</span> <span style=\"color: #008080; text-decoration-color: #008080; font-weight: bold\">77</span> <span style=\"font-weight: bold\">)</span>  Center Point:   <span style=\"color: #008080; text-decoration-color: #008080; font-weight: bold\">167</span>  <span style=\"font-weight: bold\">(</span> <span style=\"color: #008080; text-decoration-color: #008080; font-weight: bold\">85</span> <span style=\"font-weight: bold\">)</span>  Right Margin:   <span style=\"color: #008080; text-decoration-color: #008080; font-weight: bold\">145</span>  <span style=\"font-weight: bold\">(</span> <span style=\"color: #008080; text-decoration-color: #008080; font-weight: bold\">74</span> <span style=\"font-weight: bold\">)</span>\n",
              "</pre>\n"
            ],
            "text/plain": [
              "Byte  \u001b[1;36m3\u001b[0m   -  Left Margin:   \u001b[1;36m151\u001b[0m  \u001b[1m(\u001b[0m \u001b[1;36m77\u001b[0m \u001b[1m)\u001b[0m  Center Point:   \u001b[1;36m167\u001b[0m  \u001b[1m(\u001b[0m \u001b[1;36m85\u001b[0m \u001b[1m)\u001b[0m  Right Margin:   \u001b[1;36m145\u001b[0m  \u001b[1m(\u001b[0m \u001b[1;36m74\u001b[0m \u001b[1m)\u001b[0m\n"
            ]
          },
          "metadata": {},
          "output_type": "display_data"
        },
        {
          "data": {
            "text/html": [
              "<pre style=\"white-space:pre;overflow-x:auto;line-height:normal;font-family:Menlo,'DejaVu Sans Mono',consolas,'Courier New',monospace\">Byte  <span style=\"color: #008080; text-decoration-color: #008080; font-weight: bold\">4</span>   -  Left Margin:   <span style=\"color: #008080; text-decoration-color: #008080; font-weight: bold\">145</span>  <span style=\"font-weight: bold\">(</span> <span style=\"color: #008080; text-decoration-color: #008080; font-weight: bold\">74</span> <span style=\"font-weight: bold\">)</span>  Center Point:   <span style=\"color: #008080; text-decoration-color: #008080; font-weight: bold\">545</span>  <span style=\"font-weight: bold\">(</span> <span style=\"color: #008080; text-decoration-color: #008080; font-weight: bold\">278</span> <span style=\"font-weight: bold\">)</span>  Right Margin:   <span style=\"color: #008080; text-decoration-color: #008080; font-weight: bold\">153</span>  <span style=\"font-weight: bold\">(</span> <span style=\"color: #008080; text-decoration-color: #008080; font-weight: bold\">78</span> <span style=\"font-weight: bold\">)</span>\n",
              "</pre>\n"
            ],
            "text/plain": [
              "Byte  \u001b[1;36m4\u001b[0m   -  Left Margin:   \u001b[1;36m145\u001b[0m  \u001b[1m(\u001b[0m \u001b[1;36m74\u001b[0m \u001b[1m)\u001b[0m  Center Point:   \u001b[1;36m545\u001b[0m  \u001b[1m(\u001b[0m \u001b[1;36m278\u001b[0m \u001b[1m)\u001b[0m  Right Margin:   \u001b[1;36m153\u001b[0m  \u001b[1m(\u001b[0m \u001b[1;36m78\u001b[0m \u001b[1m)\u001b[0m\n"
            ]
          },
          "metadata": {},
          "output_type": "display_data"
        },
        {
          "data": {
            "text/html": [
              "<pre style=\"white-space:pre;overflow-x:auto;line-height:normal;font-family:Menlo,'DejaVu Sans Mono',consolas,'Courier New',monospace\">Byte  <span style=\"color: #008080; text-decoration-color: #008080; font-weight: bold\">5</span>   -  Left Margin:   <span style=\"color: #008080; text-decoration-color: #008080; font-weight: bold\">167</span>  <span style=\"font-weight: bold\">(</span> <span style=\"color: #008080; text-decoration-color: #008080; font-weight: bold\">86</span> <span style=\"font-weight: bold\">)</span>  Center Point:   <span style=\"color: #008080; text-decoration-color: #008080; font-weight: bold\">572</span>  <span style=\"font-weight: bold\">(</span> <span style=\"color: #008080; text-decoration-color: #008080; font-weight: bold\">293</span> <span style=\"font-weight: bold\">)</span>  Right Margin:   <span style=\"color: #008080; text-decoration-color: #008080; font-weight: bold\">130</span>  <span style=\"font-weight: bold\">(</span> <span style=\"color: #008080; text-decoration-color: #008080; font-weight: bold\">67</span> <span style=\"font-weight: bold\">)</span>\n",
              "</pre>\n"
            ],
            "text/plain": [
              "Byte  \u001b[1;36m5\u001b[0m   -  Left Margin:   \u001b[1;36m167\u001b[0m  \u001b[1m(\u001b[0m \u001b[1;36m86\u001b[0m \u001b[1m)\u001b[0m  Center Point:   \u001b[1;36m572\u001b[0m  \u001b[1m(\u001b[0m \u001b[1;36m293\u001b[0m \u001b[1m)\u001b[0m  Right Margin:   \u001b[1;36m130\u001b[0m  \u001b[1m(\u001b[0m \u001b[1;36m67\u001b[0m \u001b[1m)\u001b[0m\n"
            ]
          },
          "metadata": {},
          "output_type": "display_data"
        },
        {
          "data": {
            "text/html": [
              "<pre style=\"white-space:pre;overflow-x:auto;line-height:normal;font-family:Menlo,'DejaVu Sans Mono',consolas,'Courier New',monospace\">Byte  <span style=\"color: #008080; text-decoration-color: #008080; font-weight: bold\">6</span>   -  Left Margin:   <span style=\"color: #008080; text-decoration-color: #008080; font-weight: bold\">154</span>  <span style=\"font-weight: bold\">(</span> <span style=\"color: #008080; text-decoration-color: #008080; font-weight: bold\">79</span> <span style=\"font-weight: bold\">)</span>  Center Point:   <span style=\"color: #008080; text-decoration-color: #008080; font-weight: bold\">557</span>  <span style=\"font-weight: bold\">(</span> <span style=\"color: #008080; text-decoration-color: #008080; font-weight: bold\">285</span> <span style=\"font-weight: bold\">)</span>  Right Margin:   <span style=\"color: #008080; text-decoration-color: #008080; font-weight: bold\">138</span>  <span style=\"font-weight: bold\">(</span> <span style=\"color: #008080; text-decoration-color: #008080; font-weight: bold\">71</span> <span style=\"font-weight: bold\">)</span>\n",
              "</pre>\n"
            ],
            "text/plain": [
              "Byte  \u001b[1;36m6\u001b[0m   -  Left Margin:   \u001b[1;36m154\u001b[0m  \u001b[1m(\u001b[0m \u001b[1;36m79\u001b[0m \u001b[1m)\u001b[0m  Center Point:   \u001b[1;36m557\u001b[0m  \u001b[1m(\u001b[0m \u001b[1;36m285\u001b[0m \u001b[1m)\u001b[0m  Right Margin:   \u001b[1;36m138\u001b[0m  \u001b[1m(\u001b[0m \u001b[1;36m71\u001b[0m \u001b[1m)\u001b[0m\n"
            ]
          },
          "metadata": {},
          "output_type": "display_data"
        },
        {
          "data": {
            "text/html": [
              "<pre style=\"white-space:pre;overflow-x:auto;line-height:normal;font-family:Menlo,'DejaVu Sans Mono',consolas,'Courier New',monospace\">Byte  <span style=\"color: #008080; text-decoration-color: #008080; font-weight: bold\">7</span>   -  Left Margin:   <span style=\"color: #008080; text-decoration-color: #008080; font-weight: bold\">158</span>  <span style=\"font-weight: bold\">(</span> <span style=\"color: #008080; text-decoration-color: #008080; font-weight: bold\">81</span> <span style=\"font-weight: bold\">)</span>  Center Point:   <span style=\"color: #008080; text-decoration-color: #008080; font-weight: bold\">623</span>  <span style=\"font-weight: bold\">(</span> <span style=\"color: #008080; text-decoration-color: #008080; font-weight: bold\">319</span> <span style=\"font-weight: bold\">)</span>  Right Margin:   <span style=\"color: #008080; text-decoration-color: #008080; font-weight: bold\">138</span>  <span style=\"font-weight: bold\">(</span> <span style=\"color: #008080; text-decoration-color: #008080; font-weight: bold\">71</span> <span style=\"font-weight: bold\">)</span>\n",
              "</pre>\n"
            ],
            "text/plain": [
              "Byte  \u001b[1;36m7\u001b[0m   -  Left Margin:   \u001b[1;36m158\u001b[0m  \u001b[1m(\u001b[0m \u001b[1;36m81\u001b[0m \u001b[1m)\u001b[0m  Center Point:   \u001b[1;36m623\u001b[0m  \u001b[1m(\u001b[0m \u001b[1;36m319\u001b[0m \u001b[1m)\u001b[0m  Right Margin:   \u001b[1;36m138\u001b[0m  \u001b[1m(\u001b[0m \u001b[1;36m71\u001b[0m \u001b[1m)\u001b[0m\n"
            ]
          },
          "metadata": {},
          "output_type": "display_data"
        },
        {
          "data": {
            "text/html": [
              "<pre style=\"white-space:pre;overflow-x:auto;line-height:normal;font-family:Menlo,'DejaVu Sans Mono',consolas,'Courier New',monospace\">\n",
              " Frequency <span style=\"color: #008080; text-decoration-color: #008080; font-weight: bold\">0</span>  - Write Margin - Complex Pattern - Calibration Window in pS and <span style=\"font-weight: bold\">(</span>delay taps<span style=\"font-weight: bold\">)</span>:\n",
              "\n",
              "</pre>\n"
            ],
            "text/plain": [
              "\n",
              " Frequency \u001b[1;36m0\u001b[0m  - Write Margin - Complex Pattern - Calibration Window in pS and \u001b[1m(\u001b[0mdelay taps\u001b[1m)\u001b[0m:\n",
              "\n"
            ]
          },
          "metadata": {},
          "output_type": "display_data"
        },
        {
          "data": {
            "text/html": [
              "<pre style=\"white-space:pre;overflow-x:auto;line-height:normal;font-family:Menlo,'DejaVu Sans Mono',consolas,'Courier New',monospace\">Byte  <span style=\"color: #008080; text-decoration-color: #008080; font-weight: bold\">0</span>   -  Left Margin:   <span style=\"color: #008080; text-decoration-color: #008080; font-weight: bold\">145</span>  <span style=\"font-weight: bold\">(</span> <span style=\"color: #008080; text-decoration-color: #008080; font-weight: bold\">76</span> <span style=\"font-weight: bold\">)</span>  Center Point:   <span style=\"color: #008080; text-decoration-color: #008080; font-weight: bold\">439</span>  <span style=\"font-weight: bold\">(</span> <span style=\"color: #008080; text-decoration-color: #008080; font-weight: bold\">229</span> <span style=\"font-weight: bold\">)</span>  Right Margin:   <span style=\"color: #008080; text-decoration-color: #008080; font-weight: bold\">126</span>  <span style=\"font-weight: bold\">(</span> <span style=\"color: #008080; text-decoration-color: #008080; font-weight: bold\">66</span> <span style=\"font-weight: bold\">)</span>\n",
              "</pre>\n"
            ],
            "text/plain": [
              "Byte  \u001b[1;36m0\u001b[0m   -  Left Margin:   \u001b[1;36m145\u001b[0m  \u001b[1m(\u001b[0m \u001b[1;36m76\u001b[0m \u001b[1m)\u001b[0m  Center Point:   \u001b[1;36m439\u001b[0m  \u001b[1m(\u001b[0m \u001b[1;36m229\u001b[0m \u001b[1m)\u001b[0m  Right Margin:   \u001b[1;36m126\u001b[0m  \u001b[1m(\u001b[0m \u001b[1;36m66\u001b[0m \u001b[1m)\u001b[0m\n"
            ]
          },
          "metadata": {},
          "output_type": "display_data"
        },
        {
          "data": {
            "text/html": [
              "<pre style=\"white-space:pre;overflow-x:auto;line-height:normal;font-family:Menlo,'DejaVu Sans Mono',consolas,'Courier New',monospace\">Byte  <span style=\"color: #008080; text-decoration-color: #008080; font-weight: bold\">1</span>   -  Left Margin:   <span style=\"color: #008080; text-decoration-color: #008080; font-weight: bold\">141</span>  <span style=\"font-weight: bold\">(</span> <span style=\"color: #008080; text-decoration-color: #008080; font-weight: bold\">73</span> <span style=\"font-weight: bold\">)</span>  Center Point:   <span style=\"color: #008080; text-decoration-color: #008080; font-weight: bold\">607</span>  <span style=\"font-weight: bold\">(</span> <span style=\"color: #008080; text-decoration-color: #008080; font-weight: bold\">312</span> <span style=\"font-weight: bold\">)</span>  Right Margin:   <span style=\"color: #008080; text-decoration-color: #008080; font-weight: bold\">133</span>  <span style=\"font-weight: bold\">(</span> <span style=\"color: #008080; text-decoration-color: #008080; font-weight: bold\">69</span> <span style=\"font-weight: bold\">)</span>\n",
              "</pre>\n"
            ],
            "text/plain": [
              "Byte  \u001b[1;36m1\u001b[0m   -  Left Margin:   \u001b[1;36m141\u001b[0m  \u001b[1m(\u001b[0m \u001b[1;36m73\u001b[0m \u001b[1m)\u001b[0m  Center Point:   \u001b[1;36m607\u001b[0m  \u001b[1m(\u001b[0m \u001b[1;36m312\u001b[0m \u001b[1m)\u001b[0m  Right Margin:   \u001b[1;36m133\u001b[0m  \u001b[1m(\u001b[0m \u001b[1;36m69\u001b[0m \u001b[1m)\u001b[0m\n"
            ]
          },
          "metadata": {},
          "output_type": "display_data"
        },
        {
          "data": {
            "text/html": [
              "<pre style=\"white-space:pre;overflow-x:auto;line-height:normal;font-family:Menlo,'DejaVu Sans Mono',consolas,'Courier New',monospace\">Byte  <span style=\"color: #008080; text-decoration-color: #008080; font-weight: bold\">2</span>   -  Left Margin:   <span style=\"color: #008080; text-decoration-color: #008080; font-weight: bold\">146</span>  <span style=\"font-weight: bold\">(</span> <span style=\"color: #008080; text-decoration-color: #008080; font-weight: bold\">76</span> <span style=\"font-weight: bold\">)</span>  Center Point:   <span style=\"color: #008080; text-decoration-color: #008080; font-weight: bold\">69</span>  <span style=\"font-weight: bold\">(</span> <span style=\"color: #008080; text-decoration-color: #008080; font-weight: bold\">36</span> <span style=\"font-weight: bold\">)</span>  Right Margin:   <span style=\"color: #008080; text-decoration-color: #008080; font-weight: bold\">115</span>  <span style=\"font-weight: bold\">(</span> <span style=\"color: #008080; text-decoration-color: #008080; font-weight: bold\">60</span> <span style=\"font-weight: bold\">)</span>\n",
              "</pre>\n"
            ],
            "text/plain": [
              "Byte  \u001b[1;36m2\u001b[0m   -  Left Margin:   \u001b[1;36m146\u001b[0m  \u001b[1m(\u001b[0m \u001b[1;36m76\u001b[0m \u001b[1m)\u001b[0m  Center Point:   \u001b[1;36m69\u001b[0m  \u001b[1m(\u001b[0m \u001b[1;36m36\u001b[0m \u001b[1m)\u001b[0m  Right Margin:   \u001b[1;36m115\u001b[0m  \u001b[1m(\u001b[0m \u001b[1;36m60\u001b[0m \u001b[1m)\u001b[0m\n"
            ]
          },
          "metadata": {},
          "output_type": "display_data"
        },
        {
          "data": {
            "text/html": [
              "<pre style=\"white-space:pre;overflow-x:auto;line-height:normal;font-family:Menlo,'DejaVu Sans Mono',consolas,'Courier New',monospace\">Byte  <span style=\"color: #008080; text-decoration-color: #008080; font-weight: bold\">3</span>   -  Left Margin:   <span style=\"color: #008080; text-decoration-color: #008080; font-weight: bold\">149</span>  <span style=\"font-weight: bold\">(</span> <span style=\"color: #008080; text-decoration-color: #008080; font-weight: bold\">76</span> <span style=\"font-weight: bold\">)</span>  Center Point:   <span style=\"color: #008080; text-decoration-color: #008080; font-weight: bold\">167</span>  <span style=\"font-weight: bold\">(</span> <span style=\"color: #008080; text-decoration-color: #008080; font-weight: bold\">85</span> <span style=\"font-weight: bold\">)</span>  Right Margin:   <span style=\"color: #008080; text-decoration-color: #008080; font-weight: bold\">127</span>  <span style=\"font-weight: bold\">(</span> <span style=\"color: #008080; text-decoration-color: #008080; font-weight: bold\">65</span> <span style=\"font-weight: bold\">)</span>\n",
              "</pre>\n"
            ],
            "text/plain": [
              "Byte  \u001b[1;36m3\u001b[0m   -  Left Margin:   \u001b[1;36m149\u001b[0m  \u001b[1m(\u001b[0m \u001b[1;36m76\u001b[0m \u001b[1m)\u001b[0m  Center Point:   \u001b[1;36m167\u001b[0m  \u001b[1m(\u001b[0m \u001b[1;36m85\u001b[0m \u001b[1m)\u001b[0m  Right Margin:   \u001b[1;36m127\u001b[0m  \u001b[1m(\u001b[0m \u001b[1;36m65\u001b[0m \u001b[1m)\u001b[0m\n"
            ]
          },
          "metadata": {},
          "output_type": "display_data"
        },
        {
          "data": {
            "text/html": [
              "<pre style=\"white-space:pre;overflow-x:auto;line-height:normal;font-family:Menlo,'DejaVu Sans Mono',consolas,'Courier New',monospace\">Byte  <span style=\"color: #008080; text-decoration-color: #008080; font-weight: bold\">4</span>   -  Left Margin:   <span style=\"color: #008080; text-decoration-color: #008080; font-weight: bold\">143</span>  <span style=\"font-weight: bold\">(</span> <span style=\"color: #008080; text-decoration-color: #008080; font-weight: bold\">73</span> <span style=\"font-weight: bold\">)</span>  Center Point:   <span style=\"color: #008080; text-decoration-color: #008080; font-weight: bold\">545</span>  <span style=\"font-weight: bold\">(</span> <span style=\"color: #008080; text-decoration-color: #008080; font-weight: bold\">278</span> <span style=\"font-weight: bold\">)</span>  Right Margin:   <span style=\"color: #008080; text-decoration-color: #008080; font-weight: bold\">121</span>  <span style=\"font-weight: bold\">(</span> <span style=\"color: #008080; text-decoration-color: #008080; font-weight: bold\">62</span> <span style=\"font-weight: bold\">)</span>\n",
              "</pre>\n"
            ],
            "text/plain": [
              "Byte  \u001b[1;36m4\u001b[0m   -  Left Margin:   \u001b[1;36m143\u001b[0m  \u001b[1m(\u001b[0m \u001b[1;36m73\u001b[0m \u001b[1m)\u001b[0m  Center Point:   \u001b[1;36m545\u001b[0m  \u001b[1m(\u001b[0m \u001b[1;36m278\u001b[0m \u001b[1m)\u001b[0m  Right Margin:   \u001b[1;36m121\u001b[0m  \u001b[1m(\u001b[0m \u001b[1;36m62\u001b[0m \u001b[1m)\u001b[0m\n"
            ]
          },
          "metadata": {},
          "output_type": "display_data"
        },
        {
          "data": {
            "text/html": [
              "<pre style=\"white-space:pre;overflow-x:auto;line-height:normal;font-family:Menlo,'DejaVu Sans Mono',consolas,'Courier New',monospace\">Byte  <span style=\"color: #008080; text-decoration-color: #008080; font-weight: bold\">5</span>   -  Left Margin:   <span style=\"color: #008080; text-decoration-color: #008080; font-weight: bold\">144</span>  <span style=\"font-weight: bold\">(</span> <span style=\"color: #008080; text-decoration-color: #008080; font-weight: bold\">74</span> <span style=\"font-weight: bold\">)</span>  Center Point:   <span style=\"color: #008080; text-decoration-color: #008080; font-weight: bold\">572</span>  <span style=\"font-weight: bold\">(</span> <span style=\"color: #008080; text-decoration-color: #008080; font-weight: bold\">293</span> <span style=\"font-weight: bold\">)</span>  Right Margin:   <span style=\"color: #008080; text-decoration-color: #008080; font-weight: bold\">121</span>  <span style=\"font-weight: bold\">(</span> <span style=\"color: #008080; text-decoration-color: #008080; font-weight: bold\">62</span> <span style=\"font-weight: bold\">)</span>\n",
              "</pre>\n"
            ],
            "text/plain": [
              "Byte  \u001b[1;36m5\u001b[0m   -  Left Margin:   \u001b[1;36m144\u001b[0m  \u001b[1m(\u001b[0m \u001b[1;36m74\u001b[0m \u001b[1m)\u001b[0m  Center Point:   \u001b[1;36m572\u001b[0m  \u001b[1m(\u001b[0m \u001b[1;36m293\u001b[0m \u001b[1m)\u001b[0m  Right Margin:   \u001b[1;36m121\u001b[0m  \u001b[1m(\u001b[0m \u001b[1;36m62\u001b[0m \u001b[1m)\u001b[0m\n"
            ]
          },
          "metadata": {},
          "output_type": "display_data"
        },
        {
          "data": {
            "text/html": [
              "<pre style=\"white-space:pre;overflow-x:auto;line-height:normal;font-family:Menlo,'DejaVu Sans Mono',consolas,'Courier New',monospace\">Byte  <span style=\"color: #008080; text-decoration-color: #008080; font-weight: bold\">6</span>   -  Left Margin:   <span style=\"color: #008080; text-decoration-color: #008080; font-weight: bold\">144</span>  <span style=\"font-weight: bold\">(</span> <span style=\"color: #008080; text-decoration-color: #008080; font-weight: bold\">74</span> <span style=\"font-weight: bold\">)</span>  Center Point:   <span style=\"color: #008080; text-decoration-color: #008080; font-weight: bold\">557</span>  <span style=\"font-weight: bold\">(</span> <span style=\"color: #008080; text-decoration-color: #008080; font-weight: bold\">285</span> <span style=\"font-weight: bold\">)</span>  Right Margin:   <span style=\"color: #008080; text-decoration-color: #008080; font-weight: bold\">121</span>  <span style=\"font-weight: bold\">(</span> <span style=\"color: #008080; text-decoration-color: #008080; font-weight: bold\">62</span> <span style=\"font-weight: bold\">)</span>\n",
              "</pre>\n"
            ],
            "text/plain": [
              "Byte  \u001b[1;36m6\u001b[0m   -  Left Margin:   \u001b[1;36m144\u001b[0m  \u001b[1m(\u001b[0m \u001b[1;36m74\u001b[0m \u001b[1m)\u001b[0m  Center Point:   \u001b[1;36m557\u001b[0m  \u001b[1m(\u001b[0m \u001b[1;36m285\u001b[0m \u001b[1m)\u001b[0m  Right Margin:   \u001b[1;36m121\u001b[0m  \u001b[1m(\u001b[0m \u001b[1;36m62\u001b[0m \u001b[1m)\u001b[0m\n"
            ]
          },
          "metadata": {},
          "output_type": "display_data"
        },
        {
          "data": {
            "text/html": [
              "<pre style=\"white-space:pre;overflow-x:auto;line-height:normal;font-family:Menlo,'DejaVu Sans Mono',consolas,'Courier New',monospace\">Byte  <span style=\"color: #008080; text-decoration-color: #008080; font-weight: bold\">7</span>   -  Left Margin:   <span style=\"color: #008080; text-decoration-color: #008080; font-weight: bold\">148</span>  <span style=\"font-weight: bold\">(</span> <span style=\"color: #008080; text-decoration-color: #008080; font-weight: bold\">76</span> <span style=\"font-weight: bold\">)</span>  Center Point:   <span style=\"color: #008080; text-decoration-color: #008080; font-weight: bold\">623</span>  <span style=\"font-weight: bold\">(</span> <span style=\"color: #008080; text-decoration-color: #008080; font-weight: bold\">319</span> <span style=\"font-weight: bold\">)</span>  Right Margin:   <span style=\"color: #008080; text-decoration-color: #008080; font-weight: bold\">128</span>  <span style=\"font-weight: bold\">(</span> <span style=\"color: #008080; text-decoration-color: #008080; font-weight: bold\">66</span> <span style=\"font-weight: bold\">)</span>\n",
              "</pre>\n"
            ],
            "text/plain": [
              "Byte  \u001b[1;36m7\u001b[0m   -  Left Margin:   \u001b[1;36m148\u001b[0m  \u001b[1m(\u001b[0m \u001b[1;36m76\u001b[0m \u001b[1m)\u001b[0m  Center Point:   \u001b[1;36m623\u001b[0m  \u001b[1m(\u001b[0m \u001b[1;36m319\u001b[0m \u001b[1m)\u001b[0m  Right Margin:   \u001b[1;36m128\u001b[0m  \u001b[1m(\u001b[0m \u001b[1;36m66\u001b[0m \u001b[1m)\u001b[0m\n"
            ]
          },
          "metadata": {},
          "output_type": "display_data"
        },
        {
          "name": "stdout",
          "output_type": "stream",
          "text": [
            "Report Done.\n",
            "\n"
          ]
        }
      ],
      "source": [
        "# Use a single report command to get all latest essential\n",
        "# Status and decoded data collected as it presents\n",
        "ddr.report()\n",
        "# Specify True to argument 1, and name/path to argument 2\n",
        "# to get the report output generated and saved to a file\n",
        "ddr.report(True, \"test_out.txt\")\n",
        "print(\"Report Done.\\n\")"
      ]
    },
    {
      "cell_type": "markdown",
      "id": "2dc611c4",
      "metadata": {},
      "source": [
        "## 8 - Dump the complete set of internal properties as json\n",
        "\n",
        "This demonstrates how to get a Python dictionary of all the low level DDR properties. These can be converted to JSON easily for export to other tools."
      ]
    },
    {
      "cell_type": "code",
      "execution_count": 11,
      "id": "e26c01c1",
      "metadata": {},
      "outputs": [
        {
          "name": "stdout",
          "output_type": "stream",
          "text": [
            "{\n",
            "    \"cal_seq_status_24\": 295,\n",
            "    \"f0_dqsgate_stg1_rldlyrnk_fine_rank0_byte2\": 22,\n",
            "    \"f1_wrdqdbi_stg2_dq_odly_bit62\": 0,\n",
            "    \"f1_rddq_pqtr_right_fcrse_nibble04\": 0,\n",
            "    \"f0_rddq_nqtr_right_nibble06\": 173,\n",
            "    \"f1_wrdqdbi_odly_dq_final_bit42\": 0,\n",
            "    \"f0_rdcmplx_pqtr_right_short_nibble08\": 166,\n",
            "    \"wrvref_vref_upp_bound_rank0_byte2\": 0,\n",
            "    \"f0_wrlvl_offset_rank0_byte3\": 82,\n",
            "    \"f0_rdcmplx_nqtr_right_nibble09\": 142,\n",
            "    \"bisc_pqtr_align_nibble04\": 0,\n",
            "    \"f1_rdcmplx_pqtr_right_short_fcrse_nibble01\": 0,\n",
            "    \"bisc_idly0_align_nibble13\": 76,\n",
            "    \"0x3d_READ_DQS_TRACK\": \"Pass\",\n",
            "    \"f0_rddq_pqtr_right_nibble12\": 170,\n",
            "    \"f0_wrdqdbi_odly_dq_final_bit22\": 30,\n",
            "    \"pre_post_cal_map_ver\": 1,\n",
            "    \"f0_wrdqdbi_stg3_dq_odly_bit04\": 50,\n",
            "    \"f1_wrcmplx_odly_dq_final_bit56\": 0,\n",
            "    \"f0_wrdqdbi_left_edge_dq_bit55\": 38,\n",
            "    \"f0_rd_simp_fall_ctp_nib_07\": [\n",
            "        99,\n",
            "        191\n",
            "    ],\n",
            "    \"f1_wrprbs_right_margin_byte7\": 0,\n",
            "    \"fifo_rden_dly\": 19,\n",
            "    \"f0_wrdqdbi_stg3_dq_odly_bit42\": 37,\n",
            "    \"f0_rddq_nqtr_right_nibble14\": 169,\n",
            "    \"f0_dqsgate_stg2_read_lat_rank0_byte6\": 27,\n",
            "    \"nsu2_perf_mon_0_2\": 0,\n",
            "    \"cal_warning_65\": 0,\n",
            "    \"f0_rdcmplx_nqtr_left_short_nibble05\": 28,\n",
            "    \"cal_error_bit_phy_nibble_06\": 0,\n",
            "    \"f0_rdcmplx_nqtr_left_nibble04\": 29,\n",
            "    \"f0_rdprbs_nqtr_right_margin_nibble15\": 0,\n",
            "    \"f0_rdcmplx_nqtr_left_nibble03\": 28,\n",
            "    \"f1_rdcmplx_nqtr_final_nibble12\": 0,\n",
            "    \"f1_wrdqdbi_left_edge_dq_bit59\": 0,\n",
            "    \"f0_wrcmplx_odly_dq_final_bit27\": 89,\n",
            "    \"f0_rddq_nqtr_final_nibble00\": 95,\n",
            "    \"f0_wrdqdbi_left_edge_dq_bit01\": 48,\n",
            "    \"mgchk_done\": 0,\n",
            "    \"f1_rddq_idelay_final_bit35\": 0,\n",
            "    \"f1_wrdqdbi_left_edge_dq_bit41\": 0,\n",
            "    \"f0_rd_simp_fall_rm_nib_09\": [\n",
            "        71,\n",
            "        140\n",
            "    ],\n",
            "    \"f1_rddq_idelay_final_bit46\": 0,\n",
            "    \"f1_rddq_pqtr_right_fcrse_nibble00\": 0,\n",
            "    \"cal_warning_77\": 0,\n",
            "    \"cal_warning_51\": 0,\n",
            "    \"bisc_idly1_align_nibble03\": 75,\n",
            "    \"f0_wrdqdbi_deskew_dq_odly_bit37\": 86,\n",
            "    \"f1_wrdqdbi_deskew_dq_odly_bit53\": 0,\n",
            "    \"f0_wrlat_phy_oe_nib_final_byte1\": 1,\n",
            "    \"f1_wrdqdbi_stg2_dq_odly_bit45\": 0,\n",
            "    \"f0_xpll_clkoutfb_ht\": 16,\n",
            "    \"rdvref_left_vref_def_nibble15\": 0,\n",
            "    \"f0_rddq_nqtr_left_nibble10\": 19,\n",
            "    \"f0_rdcmplx_pqtr_right_short_nibble14\": 165,\n",
            "    \"f1_rdcmplx_nqtr_final_nibble05\": 0,\n",
            "    \"f0_wrcmplx_left_margin_fcrse_byte4\": 70,\n",
            "    \"cal_stage_time_02\": 0,\n",
            "    \"f1_rdcmplx_nqtr_left_nibble03\": 0,\n",
            "    \"f1_rdcmplx_pqtr_left_nibble11\": 0,\n",
            "    \"wrvref_left_vref_final_rank0_byte3\": 0,\n",
            "    \"rdmargin_nqtr_right_nibble09\": 0,\n",
            "    \"bisc_mon_align_nibble06\": 0,\n",
            "    \"mgchk_step\": 0,\n",
            "    \"0x01_F0_MEM_INIT\": \"Pass\",\n",
            "    \"f0_wrdqdbi_deskew_dq_odly_bit06\": 148,\n",
            "    \"track_enable\": \"DQS Gate Tracking, UB ISR Tracking, DDRMC ISR Tracking, Post-Cal Status\",\n",
            "    \"f1_wrdqdbi_odly_dq_final_bit32\": 0,\n",
            "    \"f1_wrdqdbi_deskew_dq_odly_fcrse_bit15\": 0,\n",
            "    \"f0_wrdqdbi_odly_dq_final_bit38\": 32,\n",
            "    \"f1_wrcmplx_right_margin_fcrse_byte1\": 0,\n",
            "    \"f0_mr6_17_9\": 8,\n",
            "    \"f1_rdcmplx_nqtr_left_nibble00\": 0,\n",
            "    \"f1_wrdqdbi_stg3_dq_odly_bit43\": 0,\n",
            "    \"f0_wrdqdbi_stg2_dq_odly_bit14\": 55,\n",
            "    \"f0_wrdqdbi_deskew_dq_odly_bit00\": 146,\n",
            "    \"f0_rdprbs_nqtr_left_margin_nibble08\": 0,\n",
            "    \"f1_wrcmplx_odly_dbi_final_byte1\": 0,\n",
            "    \"f0_wrdqdbi_deskew_dq_odly_fcrse_bit56\": 143,\n",
            "    \"f0_wrdqdbi_left_edge_dbi_byte3\": 69,\n",
            "    \"f0_rdcmplx_pqtr_final_nibble00\": 90,\n",
            "    \"vttrack_rldlyqtr_max_nibble00\": 86,\n",
            "    \"rdvref_left_vref_low_bound_nibble05\": 0,\n",
            "    \"f0_dqsgate_stg2_rldlyrnk_crse_rank0_byte3\": 2,\n",
            "    \"wrvref_right_vref_upp_bound_rank0_byte7\": 0,\n",
            "    \"f1_wrdqdbi_odly_dq_final_bit15\": 0,\n",
            "    \"f1_wrdqdbi_deskew_dq_odly_bit60\": 0,\n",
            "    \"f0_wrlat_phy_oe_nib_final_byte5\": 1,\n",
            "    \"f0_dqsgate_stg1_read_lat_rank0_byte6\": 24,\n",
            "    \"f0_rdprbs_pqtr_right_margin_nibble09\": 0,\n",
            "    \"f0_dqsgate_stg1_overflow_38\": 0,\n",
            "    \"f1_wrlat_wldlyrnk_crse_final_rank0_byte5\": 0,\n",
            "    \"f0_rdprbs_pqtr_right_margin_nibble13\": 0,\n",
            "    \"f1_rdcmplx_nqtr_right_short_fcrse_nibble10\": 0,\n",
            "    \"f0_wrdqdbi_stg2_dq_odly_bit10\": 55,\n",
            "    \"f0_wrdqdbi_left_edge_dq_bit09\": 50,\n",
            "    \"f0_wrdqdbi_left_edge_dq_bit38\": 32,\n",
            "    \"f0_wrdqdbi_deskew_dbi_odly_byte3\": 146,\n",
            "    \"cal_stage_time_54\": 0,\n",
            "    \"cal_warning_61\": 0,\n",
            "    \"f1_rddq_qtr_deskew_nibble02\": 0,\n",
            "    \"f1_wrdqdbi_odly_dq_final_bit20\": 0,\n",
            "    \"f0_rd_simp_rise_ctp_nib_03\": [\n",
            "        97,\n",
            "        187\n",
            "    ],\n",
            "    \"bisc_en\": 1,\n",
            "    \"vttrack_rldlyqtr_max_nibble01\": 84,\n",
            "    \"rdvref_right_vref_upp_bound_nibble11\": 0,\n",
            "    \"f0_wrdqdbi_left_edge_dq_bit30\": 74,\n",
            "    \"f0_wrdqdbi_stg2_dqs_odly_byte5\": 53,\n",
            "    \"f1_rdcmplx_nqtr_left_nibble12\": 0,\n",
            "    \"cal_time_17_9\": 1,\n",
            "    \"f0_rdcmplx_pqtr_right_short_fcrse_nibble06\": 176,\n",
            "    \"f0_wrcmplx_odly_dq_final_bit59\": 66,\n",
            "    \"f1_wrlat_phy_data_nib_final_byte6\": 0,\n",
            "    \"rdvref_vref_upp_bound_nibble14\": 0,\n",
            "    \"f1_rddq_pqtr_right_nibble11\": 0,\n",
            "    \"iobmap_dq_21_20\": 0,\n",
            "    \"f1_wrdqdbi_deskew_dq_odly_bit07\": 0,\n",
            "    \"f0_wrdqdbi_stg2_dq_odly_bit00\": 50,\n",
            "    \"f1_mr6_8_0\": 0,\n",
            "    \"f0_calbisc_rl_dly_nqtr_nibble10\": 81,\n",
            "    \"f0_wrdqdbi_deskew_dq_odly_fcrse_bit28\": 139,\n",
            "    \"f1_wrdqdbi_deskew_dq_odly_fcrse_bit47\": 0,\n",
            "    \"f1_wrdqdbi_deskew_dq_odly_fcrse_bit62\": 0,\n",
            "    \"f0_wrdqdbi_deskew_dq_odly_fcrse_bit58\": 133,\n",
            "    \"f1_dqsgate_read_lat_final_byte2\": 0,\n",
            "    \"f1_wrdqdbi_stg2_dq_odly_bit22\": 0,\n",
            "    \"f1_rddq_pqtr_right_nibble04\": 0,\n",
            "    \"f1_wrdqdbi_deskew_dq_odly_bit34\": 0,\n",
            "    \"f0_wrdqdbi_stg3_dq_odly_bit26\": 69,\n",
            "    \"rdmargin_pqtr_right_nibble15\": 0,\n",
            "    \"f1_rdcmplx_nqtr_right_nibble01\": 0,\n",
            "    \"f0_rddq_nqtr_final_nibble14\": 95,\n",
            "    \"dqstrack_rldlyrnk_crse_max_byte0\": 3,\n",
            "    \"f0_dqsgate_stg1_overflow_24\": 0,\n",
            "    \"f0_wrdqdbi_stg3_dq_odly_bit15\": 55,\n",
            "    \"f0_dqsgate_stg1_overflow_51\": 0,\n",
            "    \"phy_rden13_dly\": 22,\n",
            "    \"bisc_rl_dly_qtr_nibble06\": 79,\n",
            "    \"f0_rdcmplx_pqtr_left_short_nibble08\": 20,\n",
            "    \"f1_wrdqdbi_left_edge_dq_bit57\": 0,\n",
            "    \"f0_rdcmplx_pqtr_right_short_fcrse_nibble13\": 181,\n",
            "    \"f0_par_alert_en\": 1,\n",
            "    \"f0_rddq_pqtr_left_nibble07\": 18,\n",
            "    \"f0_rdcmplx_nqtr_right_short_nibble13\": 163,\n",
            "    \"f0_rddq_pqtr_left_nibble13\": 18,\n",
            "    \"0x0d_F0_WRITE_DQ_DBI_CAL\": \"Pass\",\n",
            "    \"f0_dqsgate_stg2_read_lat_rank0_byte4\": 27,\n",
            "    \"bisc_idly0_align_nibble03\": 74,\n",
            "    \"rdvref_left_vref_upp_bound_nibble07\": 0,\n",
            "    \"f0_mr2_17_9\": 0,\n",
            "    \"wrvref_left_vref_final_rank0_byte1\": 0,\n",
            "    \"cal_stage_time_00\": 12,\n",
            "    \"f0_wrcmplx_odly_dq_final_bit29\": 76,\n",
            "    \"f0_rdprbs_nqtr_right_margin_nibble12\": 0,\n",
            "    \"f1_wrdqdbi_deskew_dbi_odly_fcrse_byte6\": 0,\n",
            "    \"bisc_idly2_align_nibble06\": 65,\n",
            "    \"f0_wrcmplx_odly_dq_final_bit36\": 35,\n",
            "    \"nsu2_perf_mon_1_1\": 0,\n",
            "    \"f0_wrdqdbi_deskew_dq_odly_fcrse_bit30\": 149,\n",
            "    \"perf_mon_timebase_scale\": 777975,\n",
            "    \"f1_rdcmplx_pqtr_right_short_fcrse_nibble12\": 0,\n",
            "    \"f0_wrdqdbi_deskew_dq_odly_bit45\": 109,\n",
            "    \"f0_rd_comp_fall_rm_nib_11\": [\n",
            "        63,\n",
            "        121\n",
            "    ],\n",
            "    \"f0_rd_comp_rise_lm_nib_03\": [\n",
            "        69,\n",
            "        133\n",
            "    ],\n",
            "    \"f0_wrlvl_offset_rank0_byte1\": 82,\n",
            "    \"f1_wrdqdbi_left_edge_dq_bit52\": 0,\n",
            "    \"f1_dqsgate_stg1_rldlyrnk_fine_rank0_byte7\": 0,\n",
            "    \"bisc_mon_align_nibble07\": 0,\n",
            "    \"f0_wrdqdbi_stg2_dqs_odly_byte6\": 45,\n",
            "    \"f1_rdcmplx_nqtr_final_nibble14\": 0,\n",
            "    \"f0_rdcmplx_idelay_offset_nibble13\": 0,\n",
            "    \"freq_switch_restore_error\": 0,\n",
            "    \"rdvref_right_vref_def_nibble04\": 0,\n",
            "    \"f1_rdcmplx_pqtr_right_short_fcrse_nibble10\": 0,\n",
            "    \"phy_oe_nib9_dly\": 0,\n",
            "    \"f1_calbisc_rl_dly_qtr_nibble08\": 0,\n",
            "    \"f1_wrdqdbi_stg1_dqs_delay_byte4\": 0,\n",
            "    \"f1_rdcmplx_idelay_offset_nibble05\": 0,\n",
            "    \"f0_dqsgate_stg1_overflow_23\": 0,\n",
            "    \"f0_rddq_idelay_final_bit54\": 76,\n",
            "    \"dqs_gate_underflow\": 0,\n",
            "    \"f1_calbisc_rl_dly_nqtr_nibble05\": 0,\n",
            "    \"xpi_read_offset\": 2197,\n",
            "    \"f0_wrdqdbi_left_edge_dq_bit13\": 43,\n",
            "    \"f1_dqsgate_stg1_overflow_58\": 0,\n",
            "    \"f0_mr6_8_0\": 28,\n",
            "    \"isr_change_count\": 0,\n",
            "    \"sys_clk_8_0\": 392,\n",
            "    \"iobmap_dq_11_10\": 0,\n",
            "    \"wrvref_left_vref_final_rank0_byte2\": 0,\n",
            "    \"f0_rdprbs_nqtr_left_margin_nibble15\": 0,\n",
            "    \"cal_stage_time_37\": 0,\n",
            "    \"f0_wrprbs_right_margin_byte0\": 0,\n",
            "    \"f0_rdcmplx_idelay_offset_nibble08\": 0,\n",
            "    \"f1_wrdqdbi_odly_dq_final_bit49\": 0,\n",
            "    \"f0_rd_comp_rise_rm_nib_05\": [\n",
            "        68,\n",
            "        132\n",
            "    ],\n",
            "    \"nsu0_perf_filter_en_0\": 0,\n",
            "    \"f0_wrdqdbi_stg6_dbi_odly_byte1\": 55,\n",
            "    \"f0_rdcmplx_nqtr_right_short_nibble08\": 154,\n",
            "    \"f1_dqsgate_stg1_overflow_22\": 0,\n",
            "    \"f1_xpll_clkoutfb_lt\": 16,\n",
            "    \"cal_error_bit_phy_nibble_08\": 0,\n",
            "    \"f1_rdcmplx_pqtr_right_short_nibble04\": 0,\n",
            "    \"f0_rd_simp_rise_ctp_nib_15\": [\n",
            "        96,\n",
            "        185\n",
            "    ],\n",
            "    \"f0_wrdqdbi_deskew_dbi_odly_fcrse_byte5\": 117,\n",
            "    \"f0_wrdqdbi_deskew_dq_odly_fcrse_bit29\": 139,\n",
            "    \"f1_wrdqdbi_stg3_dq_odly_bit30\": 0,\n",
            "    \"f0_wr_simp_ctp_byte_07\": [\n",
            "        319,\n",
            "        623\n",
            "    ],\n",
            "    \"cal_error_bit_phy_nibble_07\": 0,\n",
            "    \"f1_rdcmplx_pqtr_left_nibble14\": 0,\n",
            "    \"f1_wrdqdbi_stg2_dq_odly_bit59\": 0,\n",
            "    \"f0_wrdqdbi_odly_dqs_final_byte4\": 39,\n",
            "    \"rdvref_vref_final_nibble01\": 0,\n",
            "    \"f0_rddq_nqtr_final_nibble03\": 101,\n",
            "    \"f0_wrdqdbi_stg2_dq_odly_bit25\": 69,\n",
            "    \"f1_wrdqdbi_stg4_dqs_delay_byte3\": 0,\n",
            "    \"wrvref_right_vref_def_rank0_byte4\": 0,\n",
            "    \"f1_wrdqdbi_stg3_dq_odly_bit45\": 0,\n",
            "    \"f0_wrdqdbi_odly_dq_final_bit31\": 80,\n",
            "    \"rdvref_left_vref_final_nibble03\": 0,\n",
            "    \"f0_dqsgate_stg1_overflow_18\": 0,\n",
            "    \"wrvref_left_vref_upp_bound_rank0_byte1\": 0,\n",
            "    \"f0_wrdqdbi_deskew_dq_odly_fcrse_bit04\": 130,\n",
            "    \"f0_rdprbs_pqtr_right_margin_nibble12\": 0,\n",
            "    \"f1_wrcmplx_odly_dq_final_bit05\": 0,\n",
            "    \"f0_wrdqdbi_deskew_dq_odly_fcrse_bit62\": 153,\n",
            "    \"pcsr_lock\": 1,\n",
            "    \"rdvref_right_vref_final_nibble05\": 0,\n",
            "    \"bisc_idly3_align_nibble14\": 68,\n",
            "    \"bisc_pqtr_align_nibble14\": 0,\n",
            "    \"f1_wrlvl_offset_rank0_byte2\": 0,\n",
            "    \"iobmap_dqs_9\": 0,\n",
            "    \"rdvref_vref_upp_bound_nibble02\": 0,\n",
            "    \"f0_wrdqdbi_stg2_dq_odly_bit34\": 21,\n",
            "    \"f0_dqsgate_rldlyrnk_crse_final_rank0_byte0\": 3,\n",
            "    \"wrvref_right_vref_upp_bound_rank0_byte3\": 0,\n",
            "    \"f0_rdcmplx_pqtr_final_nibble01\": 97,\n",
            "    \"f0_bit_time\": 312,\n",
            "    \"f0_wrcmplx_odly_dq_final_bit21\": 33,\n",
            "    \"f1_rddq_pqtr_left_nibble02\": 0,\n",
            "    \"f1_wrlat_phy_oe_nib_final_byte6\": 0,\n",
            "    \"f1_wrprbs_right_margin_byte4\": 0,\n",
            "    \"nsu3_perf_mon_ctl_0_0\": 0,\n",
            "    \"rdvref_right_vref_low_bound_nibble13\": 0,\n",
            "    \"cal_warning_04\": 0,\n",
            "    \"f0_rdcmplx_pqtr_final_nibble12\": 91,\n",
            "    \"f0_rddq_nqtr_right_fcrse_nibble06\": 181,\n",
            "    \"f1_rddq_nqtr_final_nibble11\": 0,\n",
            "    \"xpi_wrdata_all_nib_dly_offset\": 8,\n",
            "    \"f0_rdcmplx_nqtr_left_nibble10\": 20,\n",
            "    \"rdvref_right_vref_upp_bound_nibble02\": 0,\n",
            "    \"bisc_idly4_align_nibble11\": 79,\n",
            "    \"f1_wrdqdbi_deskew_dq_odly_bit44\": 0,\n",
            "    \"f0_rddq_pqtr_right_nibble07\": 175,\n",
            "    \"f0_wrdqdbi_left_edge_dq_bit42\": 22,\n",
            "    \"f0_rddq_idelay_final_bit19\": 87,\n",
            "    \"f1_calbisc_rl_dly_qtr_nibble00\": 0,\n",
            "    \"f1_wrdqdbi_stg2_dq_odly_bit29\": 0,\n",
            "    \"bisc_nqtr_align_nibble03\": 0,\n",
            "    \"f0_rdcmplx_pqtr_left_nibble08\": 21,\n",
            "    \"ub_clk_8_0\": 2,\n",
            "    \"rdvref_left_vref_upp_bound_nibble03\": 0,\n",
            "    \"f0_wrdqdbi_left_edge_dq_bit35\": 15,\n",
            "    \"f1_mr4_17_9\": 0,\n",
            "    \"cal_error_phy_nibble_26_18\": 0,\n",
            "    \"bisc_idly2_align_nibble02\": 65,\n",
            "    \"bisc_idly1_align_nibble12\": 73,\n",
            "    \"f1_dqsgate_stg1_overflow_52\": 0,\n",
            "    \"dqstrack_rldlyrnk_crse_min_byte6\": 3,\n",
            "    \"f0_wrdqdbi_stg3_dq_odly_bit58\": 63,\n",
            "    \"f1_dqsgate_stg1_overflow_36\": 0,\n",
            "    \"f0_rdcmplx_nqtr_right_short_fcrse_nibble11\": 182,\n",
            "    \"bisc_nqtr_nibble01\": 84,\n",
            "    \"f0_wrlat_phy_oe_nib_final_byte3\": 1,\n",
            "    \"f0_wrcmplx_odly_dqs_final_byte7\": 79,\n",
            "    \"f1_wrdqdbi_odly_dq_final_bit27\": 0,\n",
            "    \"f1_rddq_idelay_final_bit06\": 0,\n",
            "    \"f1_wrdqdbi_stg3_dq_odly_bit41\": 0,\n",
            "    \"f0_calbisc_rl_dly_pqtr_nibble05\": 80,\n",
            "    \"nsu2_perf_filter_en_1\": 0,\n",
            "    \"dc1_perf_mon_5\": 0,\n",
            "    \"f0_dqsgate_stg1_overflow_15\": 0,\n",
            "    \"bisc_idly4_align_nibble08\": 70,\n",
            "    \"rdvref_right_vref_def_nibble08\": 0,\n",
            "    \"f1_dqsgate_stg1_read_lat_rank0_byte3\": 0,\n",
            "    \"f0_rd_simp_rise_rm_nib_00\": [\n",
            "        73,\n",
            "        135\n",
            "    ],\n",
            "    \"vttrack_rldlyqtr_nibble01\": 80,\n",
            "    \"f1_dqsgate_stg2_read_lat_rank0_byte1\": 0,\n",
            "    \"cal_stage_time_14\": 6,\n",
            "    \"f1_wrdqdbi_left_edge_dq_bit21\": 0,\n",
            "    \"f0_wrdqdbi_stg3_dq_odly_bit17\": 20,\n",
            "    \"f0_wrdqdbi_right_edge_dqs_byte0\": 137,\n",
            "    \"f0_wrcmplx_right_margin_fcrse_byte1\": 60,\n",
            "    \"vttrack_rldlyqtr_nibble08\": 79,\n",
            "    \"bisc_idly4_align_nibble05\": 78,\n",
            "    \"dqstrack_rldlyrnk_crse_byte7\": 5,\n",
            "    \"rdvref_left_vref_final_nibble13\": 0,\n",
            "    \"f1_wrdqdbi_deskew_dq_odly_bit56\": 0,\n",
            "    \"f1_wrlvl_fine_left_rank0_byte0\": 0,\n",
            "    \"f0_wrdqdbi_stg2_dq_odly_bit54\": 29,\n",
            "    \"f0_wrdqdbi_stg3_dq_odly_bit40\": 37,\n",
            "    \"f0_wrdqdbi_deskew_dq_odly_fcrse_bit12\": 145,\n",
            "    \"xpi_oe_all_nib_dly\": 16,\n",
            "    \"f1_rddq_idelay_final_bit10\": 0,\n",
            "    \"f1_rddq_pqtr_right_nibble03\": 0,\n",
            "    \"cal_seq_status_11\": 397,\n",
            "    \"f0_rdcmplx_idelay_offset_nibble03\": 0,\n",
            "    \"f1_rdcmplx_pqtr_left_short_nibble11\": 0,\n",
            "    \"f0_rd_comp_fall_ctp_nib_05\": [\n",
            "        89,\n",
            "        168\n",
            "    ],\n",
            "    \"phy_oe_nib18_dly\": 0,\n",
            "    \"cal_warning_66\": 0,\n",
            "    \"f0_wrdqdbi_stg5_dqs_odly_byte0\": 66,\n",
            "    \"f0_rd_simp_fall_ctp_nib_13\": [\n",
            "        97,\n",
            "        189\n",
            "    ],\n",
            "    \"f0_rd_comp_fall_lm_nib_02\": [\n",
            "        63,\n",
            "        121\n",
            "    ],\n",
            "    \"f1_rddq_nqtr_final_nibble06\": 0,\n",
            "    \"f0_wrdqdbi_stg2_dqs_odly_byte3\": 85,\n",
            "    \"wrvref_left_vref_def_rank0_byte2\": 0,\n",
            "    \"wrvref_right_vref_low_bound_rank0_byte7\": 0,\n",
            "    \"f1_dqsgate_stg1_overflow_13\": 0,\n",
            "    \"f0_wrdqdbi_deskew_dq_odly_fcrse_bit50\": 99,\n",
            "    \"f1_rddq_nqtr_final_nibble02\": 0,\n",
            "    \"f0_wrdqdbi_stg6_dbi_odly_byte2\": 20,\n",
            "    \"f0_dqsgate_stg1_overflow_07\": 0,\n",
            "    \"f0_rddq_nqtr_left_nibble07\": 25,\n",
            "    \"ddrmc_isr_ce1_ecc0\": 0,\n",
            "    \"rdvref_right_vref_low_bound_nibble10\": 0,\n",
            "    \"f1_calbisc_rl_dly_pqtr_nibble07\": 0,\n",
            "    \"bisc_idly5_align_nibble13\": 80,\n",
            "    \"bisc_rl_dly_qtr_nibble08\": 80,\n",
            "    \"f1_wrdqdbi_stg2_dq_odly_bit33\": 0,\n",
            "    \"f0_wrdqdbi_left_edge_dq_bit18\": 13,\n",
            "    \"f0_wrdqdbi_odly_dq_final_bit63\": 63,\n",
            "    \"f0_wrlat_match_rank0_byte3\": 17,\n",
            "    \"f1_wrdqdbi_stg2_dq_odly_bit15\": 0,\n",
            "    \"f1_wrdqdbi_deskew_dq_odly_bit37\": 0,\n",
            "    \"wrvref_right_vref_final_rank0_byte5\": 0,\n",
            "    \"f0_rdcmplx_pqtr_right_short_fcrse_nibble02\": 176,\n",
            "    \"mgchk_rank\": 0,\n",
            "    \"f0_wrlvl_crse_stg1_rank0_byte3\": 0,\n",
            "    \"f1_rdcmplx_nqtr_left_short_nibble09\": 0,\n",
            "    \"f0_wrdqdbi_right_margin_byte1\": 55,\n",
            "    \"f0_wrdqdbi_left_margin_byte5\": 86,\n",
            "    \"f0_rdprbs_pqtr_left_margin_nibble00\": 0,\n",
            "    \"f0_dqsgate_max_read_lat\": 28,\n",
            "    \"dc1_perf_mon_3\": 0,\n",
            "    \"cal_warning_43\": 0,\n",
            "    \"f1_rdcmplx_pqtr_left_nibble09\": 0,\n",
            "    \"f1_rdprbs_nqtr_left_margin_nibble05\": 0,\n",
            "    \"f1_rcd_rc0f\": 0,\n",
            "    \"f0_wrdqdbi_stg3_dq_odly_bit57\": 63,\n",
            "    \"f1_wrdqdbi_deskew_dq_odly_bit39\": 0,\n",
            "    \"f0_wrdqdbi_left_edge_dq_bit22\": 19,\n",
            "    \"f0_wrdqdbi_odly_dq_final_bit18\": 24,\n",
            "    \"f1_wrdqdbi_stg2_dq_odly_bit14\": 0,\n",
            "    \"f0_wrlat_wldlyrnk_crse_final_rank0_byte7\": 3,\n",
            "    \"bisc_idly3_align_nibble09\": 74,\n",
            "    \"f0_wrdqdbi_left_edge_dq_bit29\": 70,\n",
            "    \"f0_rddq_pqtr_final_nibble04\": 96,\n",
            "    \"rdvref_right_vref_upp_bound_nibble03\": 0,\n",
            "    \"f0_rd_comp_fall_ctp_nib_01\": [\n",
            "        91,\n",
            "        173\n",
            "    ],\n",
            "    \"bisc_pqtr_nibble08\": 80,\n",
            "    \"rdmargin_nqtr_right_nibble15\": 0,\n",
            "    \"cal_warning_08\": 0,\n",
            "    \"f1_wrlvl_offset_rank0_byte1\": 0,\n",
            "    \"f0_wrdqdbi_stg2_dq_odly_bit19\": 20,\n",
            "    \"cal_stage.08_F0_READ_DQ_DBI_CAL_COMPLEX\": \"Pass\",\n",
            "    \"rdvref_vref_upp_bound_nibble05\": 0,\n",
            "    \"f0_wrprbs_right_margin_byte4\": 0,\n",
            "    \"f1_rdprbs_pqtr_left_margin_nibble07\": 0,\n",
            "    \"ddrmc_isr_ch1_data_par\": 0,\n",
            "    \"f1_wrlat_phy_data_nib_final_byte0\": 0,\n",
            "    \"cal_pointer\": 447,\n",
            "    \"f1_rddq_idelay_final_bit22\": 0,\n",
            "    \"f0_rdcmplx_nqtr_right_short_nibble09\": 160,\n",
            "    \"f0_wrcmplx_odly_dbi_final_byte0\": 61,\n",
            "    \"f0_rddq_nqtr_right_nibble13\": 171,\n",
            "    \"f0_rddq_pqtr_right_fcrse_nibble11\": 183,\n",
            "    \"f0_wrdqdbi_deskew_dq_odly_bit24\": 146,\n",
            "    \"f0_wrdqdbi_stg2_dq_odly_bit36\": 21,\n",
            "    \"f1_wrcmplx_odly_dq_final_bit17\": 0,\n",
            "    \"f0_wrdqdbi_odly_dq_final_bit35\": 15,\n",
            "    \"f0_wrdqdbi_stg3_dq_odly_bit55\": 29,\n",
            "    \"max_nibbles\": 18,\n",
            "    \"f0_rddq_nqtr_right_fcrse_nibble02\": 180,\n",
            "    \"f1_wrdqdbi_stg3_dq_odly_bit48\": 0,\n",
            "    \"f0_rddq_nqtr_right_fcrse_nibble10\": 174,\n",
            "    \"f1_wrdqdbi_stg1_dqs_delay_byte6\": 0,\n",
            "    \"f1_rddq_idelay_final_bit41\": 0,\n",
            "    \"f1_wrdqdbi_left_edge_dq_bit40\": 0,\n",
            "    \"cal_error_bit_phy_nibble_23\": 0,\n",
            "    \"f0_rddq_pqtr_final_nibble08\": 94,\n",
            "    \"f1_rdprbs_pqtr_left_margin_nibble14\": 0,\n",
            "    \"f0_wrdqdbi_stg3_dq_odly_bit36\": 21,\n",
            "    \"bisc_pqtr_nibble05\": 81,\n",
            "    \"f1_wrdqdbi_odly_dq_final_bit06\": 0,\n",
            "    \"f0_rddq_idelay_final_bit08\": 70,\n",
            "    \"bisc_pqtr_align_nibble05\": 0,\n",
            "    \"f0_wrdqdbi_stg3_dq_odly_bit10\": 55,\n",
            "    \"rdvref_right_vref_final_nibble04\": 0,\n",
            "    \"f0_rddq_nqtr_left_nibble06\": 26,\n",
            "    \"f0_rd_simp_fall_rm_nib_11\": [\n",
            "        74,\n",
            "        142\n",
            "    ],\n",
            "    \"f1_wrdqdbi_odly_dq_final_bit55\": 0,\n",
            "    \"rdvref_left_vref_low_bound_nibble09\": 0,\n",
            "    \"cal_warning_64\": 0,\n",
            "    \"mgchk_pattern_mode\": 0,\n",
            "    \"cal_warning_40\": 0,\n",
            "    \"ddrmc_isr_nsu_2\": 0,\n",
            "    \"f0_dqsgate_rldlyrnk_crse_final_rank0_byte6\": 3,\n",
            "    \"f0_wrdqdbi_odly_dq_final_bit30\": 75,\n",
            "    \"f0_rdcmplx_nqtr_final_nibble14\": 83,\n",
            "    \"f0_rdprbs_pqtr_right_margin_nibble05\": 0,\n",
            "    \"nsu3_perf_filter_en_0\": 0,\n",
            "    \"f1_wrdqdbi_left_edge_dq_bit24\": 0,\n",
            "    \"cal_seq_status_33\": 304,\n",
            "    \"f1_wrdqdbi_deskew_dq_odly_bit12\": 0,\n",
            "    \"f0_rd_comp_rise_ctp_nib_08\": [\n",
            "        87,\n",
            "        170\n",
            "    ],\n",
            "    \"cal_warning_76\": 0,\n",
            "    \"f1_wrdqdbi_left_edge_dq_bit38\": 0,\n",
            "    \"rdvref_left_vref_upp_bound_nibble11\": 0,\n",
            "    \"f0_dqsgate_stg1_overflow_49\": 0,\n",
            "    \"f1_rddq_idelay_final_bit26\": 0,\n",
            "    \"ddrmc_pcsr_status_caldone\": 1,\n",
            "    \"f1_dqsgate_read_lat_final_byte1\": 0,\n",
            "    \"f0_rd_comp_rise_rm_nib_06\": [\n",
            "        67,\n",
            "        134\n",
            "    ],\n",
            "    \"f0_wrdqdbi_odly_dqs_final_byte7\": 79,\n",
            "    \"f1_rddq_nqtr_left_nibble07\": 0,\n",
            "    \"f0_wrdqdbi_odly_dq_final_bit24\": 70,\n",
            "    \"rdvref_right_vref_upp_bound_nibble08\": 0,\n",
            "    \"f1_wrcmplx_odly_dq_final_bit60\": 0,\n",
            "    \"vttrack_rldlyqtr_min_nibble02\": 79,\n",
            "    \"rdvref_vref_upp_bound_nibble07\": 0,\n",
            "    \"f1_rdcmplx_nqtr_right_short_nibble11\": 0,\n",
            "    \"f0_wrdqdbi_right_margin_fcrse_byte5\": 60,\n",
            "    \"f1_calbisc_rl_dly_pqtr_nibble12\": 0,\n",
            "    \"f1_rdcmplx_nqtr_final_nibble00\": 0,\n",
            "    \"f0_rdcmplx_nqtr_left_short_nibble04\": 28,\n",
            "    \"rdvref_left_vref_upp_bound_nibble02\": 0,\n",
            "    \"f1_dqsgate_rldlyrnk_crse_final_rank0_byte7\": 0,\n",
            "    \"rdmargin_pqtr_left_nibble04\": 0,\n",
            "    \"cal_error_bit_phy_nibble_01\": 0,\n",
            "    \"iobmap_dqs_17\": 0,\n",
            "    \"cal_seq_status_18\": 282,\n",
            "    \"f1_wrcmplx_odly_dq_final_bit07\": 0,\n",
            "    \"f0_rddq_pqtr_final_nibble01\": 97,\n",
            "    \"bisc_idly2_align_nibble05\": 76,\n",
            "    \"wrvref_right_vref_low_bound_rank0_byte4\": 0,\n",
            "    \"f1_wrlvl_noise_fcrse_rank0_byte7\": 0,\n",
            "    \"f1_rdcmplx_nqtr_right_short_fcrse_nibble14\": 0,\n",
            "    \"f0_wrdqdbi_stg3_dq_odly_bit24\": 69,\n",
            "    \"vttrack_rldlyqtr_nibble06\": 81,\n",
            "    \"f0_wrdqdbi_stg3_dq_odly_bit12\": 55,\n",
            "    \"f1_wrdqdbi_deskew_dq_odly_bit11\": 0,\n",
            "    \"f1_wrdqdbi_odly_dq_final_bit28\": 0,\n",
            "    \"f0_dqsgate_read_lat_final_byte6\": 27,\n",
            "    \"vttrack_rldlyqtr_max_nibble09\": 83,\n",
            "    \"f0_rddq_idelay_final_bit33\": 54,\n",
            "    \"f0_rddq_pqtr_right_fcrse_nibble07\": 183,\n",
            "    \"f1_wrdqdbi_stg2_dqs_odly_byte5\": 0,\n",
            "    \"f0_wrdqdbi_odly_dq_final_bit40\": 49,\n",
            "    \"f1_wrdqdbi_stg2_dq_odly_bit10\": 0,\n",
            "    \"f1_wrdqdbi_left_edge_dq_bit62\": 0,\n",
            "    \"f0_rddq_pqtr_left_nibble09\": 18,\n",
            "    \"f0_rdcmplx_pqtr_left_short_nibble02\": 20,\n",
            "    \"f1_wrdqdbi_deskew_dq_odly_fcrse_bit59\": 0,\n",
            "    \"f1_rdcmplx_nqtr_left_short_nibble11\": 0,\n",
            "    \"phy_oe_nib0_dly\": 1,\n",
            "    \"f1_wrdqdbi_deskew_dbi_odly_byte1\": 0,\n",
            "    \"f1_wrlvl_fine_left_rank0_byte7\": 0,\n",
            "    \"f1_wrcmplx_left_margin_fcrse_byte6\": 0,\n",
            "    \"header_ver\": 1,\n",
            "    \"mgchk_bitslect\": 0,\n",
            "    \"dqstrack_rldlyrnk_fine_max_byte0\": 64,\n",
            "    \"f1_rddq_nqtr_right_fcrse_nibble12\": 0,\n",
            "    \"f1_wrdqdbi_deskew_dq_odly_fcrse_bit27\": 0,\n",
            "    \"eye_scan_error\": \"N/A\",\n",
            "    \"f0_rddq_pqtr_right_fcrse_nibble03\": 183,\n",
            "    \"f1_dqsgate_stg1_read_lat_rank0_byte0\": 0,\n",
            "    \"f0_dqsgate_stg1_rldlyrnk_crse_rank0_byte6\": 15,\n",
            "    \"f0_wr_simp_lm_byte_02\": [\n",
            "        87,\n",
            "        167\n",
            "    ],\n",
            "    \"f1_wrdqdbi_stg2_dq_odly_bit34\": 0,\n",
            "    \"ub_data_ce\": 0,\n",
            "    \"f0_wrdqdbi_stg2_dq_odly_bit31\": 69,\n",
            "    \"f1_wrdqdbi_deskew_dq_odly_bit47\": 0,\n",
            "    \"bisc_rl_dly_qtr_nibble01\": 81,\n",
            "    \"f0_wrcmplx_odly_dq_final_bit55\": 48,\n",
            "    \"f1_dqsgate_rldlyrnk_crse_final_rank0_byte5\": 0,\n",
            "    \"f1_wrdqdbi_stg6_dbi_odly_byte6\": 0,\n",
            "    \"f0_rdprbs_nqtr_left_margin_nibble06\": 0,\n",
            "    \"f0_rddq_qtr_deskew_nibble07\": 1,\n",
            "    \"f0_rdcmplx_nqtr_right_short_fcrse_nibble14\": 167,\n",
            "    \"f0_wrcmplx_odly_dq_final_bit22\": 38,\n",
            "    \"f0_wrdqdbi_deskew_dq_odly_fcrse_bit35\": 81,\n",
            "    \"f1_wrdqdbi_deskew_dq_odly_fcrse_bit13\": 0,\n",
            "    \"f1_rddq_idelay_final_bit13\": 0,\n",
            "    \"f1_rddq_nqtr_final_nibble07\": 0,\n",
            "    \"dc1_perf_mon_2\": 0,\n",
            "    \"iobmap_dqs_6\": 0,\n",
            "    \"f0_rddq_qtr_deskew_nibble15\": 1,\n",
            "    \"f1_wrcmplx_odly_dq_final_bit09\": 0,\n",
            "    \"f1_wrdqdbi_odly_dq_final_bit57\": 0,\n",
            "    \"cal_stage_time_12\": 16,\n",
            "    \"f1_wrdqdbi_stg3_dq_odly_bit59\": 0,\n",
            "    \"f0_calbisc_rl_dly_nqtr_nibble02\": 81,\n",
            "    \"f1_wrdqdbi_odly_dq_final_bit31\": 0,\n",
            "    \"f0_rdprbs_pqtr_left_margin_nibble15\": 0,\n",
            "    \"f1_dqsgate_stg1_rldlyrnk_crse_rank0_byte2\": 0,\n",
            "    \"f0_wr_comp_rm_byte_05\": [\n",
            "        62,\n",
            "        121\n",
            "    ],\n",
            "    \"f1_rddq_pqtr_right_nibble06\": 0,\n",
            "    \"f0_rd_simp_rise_ctp_nib_09\": [\n",
            "        96,\n",
            "        190\n",
            "    ],\n",
            "    \"f1_wrdqdbi_deskew_dq_odly_fcrse_bit11\": 0,\n",
            "    \"rdvref_right_vref_low_bound_nibble09\": 0,\n",
            "    \"f1_wrlat_wldlyrnk_crse_final_rank0_byte7\": 0,\n",
            "    \"f1_rddq_idelay_final_bit03\": 0,\n",
            "    \"f1_rdcmplx_nqtr_right_nibble14\": 0,\n",
            "    \"f0_wrlvl_fine_right_rank0_byte3\": 71,\n",
            "    \"f0_rddq_pqtr_left_nibble08\": 18,\n",
            "    \"f1_wrdqdbi_stg1_dqs_delay_byte0\": 0,\n",
            "    \"f1_rdcmplx_nqtr_right_short_fcrse_nibble08\": 0,\n",
            "    \"f0_rdcmplx_nqtr_final_nibble03\": 90,\n",
            "    \"f1_rddq_nqtr_final_nibble14\": 0,\n",
            "    \"f1_wrdqdbi_stg3_dq_odly_bit23\": 0,\n",
            "    \"f0_wrcmplx_odly_dq_final_bit19\": 29,\n",
            "    \"f1_wrdqdbi_stg3_dq_odly_bit39\": 0,\n",
            "    \"f1_wrdqdbi_stg2_dq_odly_bit35\": 0,\n",
            "    \"f0_wrdqdbi_left_edge_dbi_byte0\": 50,\n",
            "    \"f0_rd_simp_rise_lm_nib_05\": [\n",
            "        80,\n",
            "        156\n",
            "    ],\n",
            "    \"f1_rdcmplx_pqtr_final_nibble12\": 0,\n",
            "    \"f0_wrdqdbi_left_edge_dbi_byte6\": 29,\n",
            "    \"f0_rddq_idelay_final_bit51\": 71,\n",
            "    \"f1_wrprbs_right_margin_byte0\": 0,\n",
            "    \"f0_wr_simp_lm_byte_03\": [\n",
            "        77,\n",
            "        151\n",
            "    ],\n",
            "    \"cal_warning_38\": 0,\n",
            "    \"cal_stage_time_47\": 0,\n",
            "    \"f0_rdcmplx_idelay_offset_nibble15\": 0,\n",
            "    \"rdvref_left_vref_final_nibble00\": 0,\n",
            "    \"f0_wrcmplx_odly_dbi_final_byte3\": 75,\n",
            "    \"rdvref_vref_upp_bound_nibble13\": 0,\n",
            "    \"f1_rddq_pqtr_final_nibble09\": 0,\n",
            "    \"f1_wrdqdbi_left_edge_dq_bit01\": 0,\n",
            "    \"f1_wrcmplx_odly_dqs_final_byte2\": 0,\n",
            "    \"f0_dqsgate_stg1_overflow_41\": 0,\n",
            "    \"f0_rddq_pqtr_left_nibble00\": 18,\n",
            "    \"f0_wrprbs_right_margin_byte3\": 0,\n",
            "    \"f0_wrcmplx_odly_dq_final_bit31\": 85,\n",
            "    \"f0_wrlvl_offset_rank0_byte2\": 82,\n",
            "    \"f1_calbisc_rl_dly_qtr_nibble07\": 0,\n",
            "    \"f1_mr0_17_9\": 0,\n",
            "    \"f1_wrdqdbi_odly_dq_final_bit25\": 0,\n",
            "    \"f0_rdcmplx_nqtr_left_short_nibble03\": 27,\n",
            "    \"f0_dqsgate_stg1_overflow_09\": 0,\n",
            "    \"cal_post_status_03\": 0,\n",
            "    \"phy_oe_nib4_dly\": 1,\n",
            "    \"f1_wrcmplx_odly_dq_final_bit10\": 0,\n",
            "    \"f0_wrdqdbi_odly_dq_final_bit28\": 69,\n",
            "    \"bisc_idly5_align_nibble06\": 70,\n",
            "    \"bisc_idly0_align_nibble09\": 74,\n",
            "    \"f0_rdcmplx_pqtr_left_short_nibble14\": 20,\n",
            "    \"f1_wrdqdbi_stg5_dqs_odly_byte6\": 0,\n",
            "    \"bisc_rl_dly_qtr_nibble00\": 82,\n",
            "    \"wrvref_vref_final_rank0_byte0\": 0,\n",
            "    \"iobmap_dq_31_30\": 0,\n",
            "    \"f0_wrdqdbi_deskew_dq_odly_bit47\": 109,\n",
            "    \"cal_stage_time_35\": 0,\n",
            "    \"f1_wrdqdbi_odly_dq_final_bit12\": 0,\n",
            "    \"f0_wrdqdbi_stg2_dq_odly_bit39\": 21,\n",
            "    \"f0_rddq_pqtr_final_nibble10\": 92,\n",
            "    \"f1_wrdqdbi_stg2_dq_odly_bit38\": 0,\n",
            "    \"f0_rdcmplx_nqtr_final_nibble11\": 90,\n",
            "    \"f1_wrlat_match_rank0_byte5\": 0,\n",
            "    \"f1_wrcmplx_odly_dq_final_bit31\": 0,\n",
            "    \"xpi_pmi_config\": 0,\n",
            "    \"f1_wrlat_match_rank0_byte3\": 0,\n",
            "    \"f0_rddq_idelay_final_bit29\": 79,\n",
            "    \"bisc_pqtr_align_nibble13\": 0,\n",
            "    \"f0_rddq_idelay_final_bit57\": 69,\n",
            "    \"f1_dqsgate_stg1_rldlyrnk_crse_rank0_byte7\": 0,\n",
            "    \"f0_wrdqdbi_stg3_dq_odly_bit07\": 50,\n",
            "    \"f0_wrlat_match_rank0_byte2\": 17,\n",
            "    \"f0_rd_comp_fall_rm_nib_12\": [\n",
            "        61,\n",
            "        117\n",
            "    ],\n",
            "    \"f0_rd_comp_rise_rm_nib_03\": [\n",
            "        69,\n",
            "        133\n",
            "    ],\n",
            "    \"f0_rddq_pqtr_right_nibble10\": 166,\n",
            "    \"cal_seq_status_45\": 0,\n",
            "    \"f0_wrlvl_crse_final_rank0_byte2\": 0,\n",
            "    \"f1_wrdqdbi_stg3_dq_odly_bit33\": 0,\n",
            "    \"nsu1_perf_filter_en_1\": 0,\n",
            "    \"cal_seq_status_31\": 302,\n",
            "    \"f1_rdcmplx_nqtr_right_nibble08\": 0,\n",
            "    \"f1_rddq_nqtr_right_fcrse_nibble10\": 0,\n",
            "    \"wrvref_left_vref_low_bound_rank0_byte0\": 0,\n",
            "    \"wrvref_right_vref_low_bound_rank0_byte0\": 0,\n",
            "    \"f0_rdcmplx_pqtr_right_short_fcrse_nibble01\": 178,\n",
            "    \"bisc_idly3_align_nibble01\": 77,\n",
            "    \"f1_rdprbs_pqtr_right_margin_nibble05\": 0,\n",
            "    \"cal_warning_73\": 0,\n",
            "    \"f0_mr5_8_0\": 0,\n",
            "    \"f1_rdcmplx_nqtr_right_short_fcrse_nibble07\": 0,\n",
            "    \"f1_rdcmplx_nqtr_left_short_nibble01\": 0,\n",
            "    \"rdvref_right_vref_upp_bound_nibble04\": 0,\n",
            "    \"f0_wrdqdbi_deskew_dq_odly_bit53\": 115,\n",
            "    \"f1_wrcmplx_right_margin_byte4\": 0,\n",
            "    \"f0_rd_simp_fall_rm_nib_15\": [\n",
            "        76,\n",
            "        148\n",
            "    ],\n",
            "    \"f1_rddq_idelay_final_bit34\": 0,\n",
            "    \"f0_wrdqdbi_deskew_dq_odly_bit38\": 106,\n",
            "    \"f1_rddq_qtr_deskew_nibble10\": 0,\n",
            "    \"f0_rdprbs_nqtr_right_margin_nibble05\": 0,\n",
            "    \"nsu2_perf_filter_0_1\": 0,\n",
            "    \"ddrmc_isr_nsu_fatal1\": 0,\n",
            "    \"vttrack_rldlyqtr_max_nibble08\": 84,\n",
            "    \"f0_rdcmplx_idelay_offset_nibble14\": 0,\n",
            "    \"f0_rdcmplx_pqtr_left_nibble06\": 21,\n",
            "    \"f1_rdcmplx_pqtr_final_nibble15\": 0,\n",
            "    \"ddrmc_isr_nsu_0\": 0,\n",
            "    \"ub_isr_watchdog\": 0,\n",
            "    \"f0_rddq_idelay_final_bit13\": 81,\n",
            "    \"f1_wrdqdbi_stg1_byte_status_01\": 0,\n",
            "    \"f1_rddq_nqtr_right_fcrse_nibble05\": 0,\n",
            "    \"f1_wrdqdbi_deskew_dq_odly_fcrse_bit58\": 0,\n",
            "    \"f0_dqsgate_stg1_rldlyrnk_crse_rank0_byte1\": 8,\n",
            "    \"bisc_pqtr_nibble13\": 80,\n",
            "    \"f1_wrdqdbi_left_edge_dq_bit45\": 0,\n",
            "    \"f1_tck_lsb\": 113,\n",
            "    \"cal_warning_75\": 0,\n",
            "    \"rdmargin_pqtr_left_nibble05\": 0,\n",
            "    \"f1_rddq_nqtr_right_fcrse_nibble09\": 0,\n",
            "    \"f1_wrcmplx_odly_dq_final_bit33\": 0,\n",
            "    \"f0_wrcmplx_left_margin_fcrse_byte0\": 70,\n",
            "    \"f1_wrdqdbi_deskew_dq_odly_fcrse_bit19\": 0,\n",
            "    \"f0_wrdqdbi_deskew_dq_odly_bit14\": 142,\n",
            "    \"f1_wrdqdbi_stg2_dq_odly_bit44\": 0,\n",
            "    \"rdmargin_nqtr_right_nibble12\": 0,\n",
            "    \"cal_warning_11\": 0,\n",
            "    \"f1_rdcmplx_pqtr_right_nibble11\": 0,\n",
            "    \"f1_wrcmplx_left_margin_byte7\": 0,\n",
            "    \"f1_wrdqdbi_odly_dq_final_bit60\": 0,\n",
            "    \"f0_rd_simp_fall_ctp_nib_06\": [\n",
            "        99,\n",
            "        191\n",
            "    ],\n",
            "    \"f1_wrlat_match_rank0_byte0\": 0,\n",
            "    \"f0_rd_comp_fall_lm_nib_05\": [\n",
            "        60,\n",
            "        112\n",
            "    ],\n",
            "    \"f1_wrcmplx_right_margin_fcrse_byte6\": 0,\n",
            "    \"dqs_status\": \"Running\",\n",
            "    \"f1_wrdqdbi_deskew_dq_odly_fcrse_bit41\": 0,\n",
            "    \"f1_wrdqdbi_left_edge_dq_bit03\": 0,\n",
            "    \"f1_wrlvl_fine_right_rank0_byte0\": 0,\n",
            "    \"f1_wrdqdbi_left_edge_dq_bit55\": 0,\n",
            "    \"f1_wrlvl_fine_final_rank0_byte1\": 0,\n",
            "    \"f1_wrdqdbi_left_edge_dq_bit27\": 0,\n",
            "    \"f1_wrlvl_fine_final_rank0_byte7\": 0,\n",
            "    \"f1_lp4_mr12\": 0,\n",
            "    \"rdvref_right_vref_upp_bound_nibble12\": 0,\n",
            "    \"cal_seq_status_30\": 301,\n",
            "    \"f0_wrcmplx_odly_dq_final_bit51\": 32,\n",
            "    \"f1_calbisc_rl_dly_pqtr_nibble09\": 0,\n",
            "    \"f0_rddq_pqtr_final_nibble02\": 95,\n",
            "    \"f0_wrdqdbi_stg2_dq_odly_bit58\": 63,\n",
            "    \"f0_wrdqdbi_odly_dq_final_bit05\": 62,\n",
            "    \"f0_wr_simp_ctp_byte_03\": [\n",
            "        85,\n",
            "        167\n",
            "    ],\n",
            "    \"f0_dqsgate_stg1_overflow_22\": 0,\n",
            "    \"f0_wrdqdbi_odly_dq_final_bit23\": 19,\n",
            "    \"f0_rddq_idelay_final_bit03\": 83,\n",
            "    \"iobmap_dqs_5\": 0,\n",
            "    \"lp4_dqs_osc_track_en\": 0,\n",
            "    \"dqstrack_rldlyrnk_crse_min_byte5\": 2,\n",
            "    \"wrvref_vref_low_bound_rank0_byte2\": 0,\n",
            "    \"f0_rdprbs_pqtr_right_margin_nibble11\": 0,\n",
            "    \"f1_calbisc_rl_dly_nqtr_nibble03\": 0,\n",
            "    \"f1_lp4_mr23\": 0,\n",
            "    \"f1_mr1_rtt_nom\": 0,\n",
            "    \"f0_rdprbs_nqtr_right_margin_nibble14\": 0,\n",
            "    \"f1_wrcmplx_odly_dqs_final_byte4\": 0,\n",
            "    \"f0_wrlat_match_rank0_byte4\": 17,\n",
            "    \"bisc_rl_dly_qtr_nibble10\": 80,\n",
            "    \"cal_post_status_self_ref\": 0,\n",
            "    \"rdvref_left_vref_final_nibble11\": 0,\n",
            "    \"f1_wrdqdbi_stg3_dq_odly_bit35\": 0,\n",
            "    \"f1_dqsgate_stg1_overflow_20\": 0,\n",
            "    \"f0_rd_simp_fall_lm_nib_05\": [\n",
            "        74,\n",
            "        139\n",
            "    ],\n",
            "    \"f0_rd_simp_fall_rm_nib_00\": [\n",
            "        76,\n",
            "        146\n",
            "    ],\n",
            "    \"f1_wrdqdbi_stg3_dq_odly_bit38\": 0,\n",
            "    \"f0_wrcmplx_odly_dq_final_bit41\": 42,\n",
            "    \"f0_rdcmplx_pqtr_right_nibble08\": 153,\n",
            "    \"f1_rdcmplx_pqtr_right_nibble05\": 0,\n",
            "    \"f0_dqsgate_stg1_read_lat_rank0_byte0\": 24,\n",
            "    \"health_status\": \"GOOD\",\n",
            "    \"bisc_idly5_align_nibble08\": 72,\n",
            "    \"f1_rdprbs_nqtr_left_margin_nibble00\": 0,\n",
            "    \"cal_stage_time_39\": 0,\n",
            "    \"f1_wrdqdbi_deskew_dq_odly_bit63\": 0,\n",
            "    \"f1_rdcmplx_pqtr_right_short_nibble07\": 0,\n",
            "    \"f0_wrdqdbi_odly_dq_final_bit42\": 31,\n",
            "    \"f0_rdcmplx_idelay_offset_nibble00\": 0,\n",
            "    \"f0_wrdqdbi_deskew_dq_odly_bit55\": 117,\n",
            "    \"f0_wrdqdbi_left_edge_dq_bit24\": 69,\n",
            "    \"iobmap_dq_27_26\": 0,\n",
            "    \"f1_wrdqdbi_stg2_dq_odly_bit52\": 0,\n",
            "    \"f1_rddq_pqtr_right_fcrse_nibble15\": 0,\n",
            "    \"f1_rddq_idelay_final_bit53\": 0,\n",
            "    \"cal_seq_status_03\": 261,\n",
            "    \"bisc_nqtr_align_nibble02\": 0,\n",
            "    \"f0_rdcmplx_nqtr_left_short_nibble14\": 21,\n",
            "    \"cal_warning_25\": 0,\n",
            "    \"f1_wrdqdbi_deskew_dq_odly_fcrse_bit07\": 0,\n",
            "    \"f1_wrdqdbi_right_edge_dqs_byte2\": 0,\n",
            "    \"bisc_nqtr_align_nibble04\": 0,\n",
            "    \"f0_rddq_nqtr_final_nibble04\": 100,\n",
            "    \"f1_rdcmplx_idelay_offset_nibble11\": 0,\n",
            "    \"f0_rd_simp_rise_rm_nib_06\": [\n",
            "        75,\n",
            "        150\n",
            "    ],\n",
            "    \"cal_seq_status_27\": 298,\n",
            "    \"ddrmc_isr\": 0,\n",
            "    \"f0_rd_comp_rise_ctp_nib_12\": [\n",
            "        91,\n",
            "        178\n",
            "    ],\n",
            "    \"f1_rdcmplx_nqtr_right_short_nibble08\": 0,\n",
            "    \"rdvref_right_vref_final_nibble08\": 0,\n",
            "    \"ddrmc_isr_ce1_ecc1\": 0,\n",
            "    \"rdvref_left_vref_def_nibble10\": 0,\n",
            "    \"f0_dqsgate_stg1_overflow_35\": 0,\n",
            "    \"bisc_idly1_align_nibble10\": 70,\n",
            "    \"f1_mr1_17_9\": 0,\n",
            "    \"f1_wrdqdbi_deskew_dq_odly_fcrse_bit40\": 0,\n",
            "    \"cal_status_init_done\": 1,\n",
            "    \"f0_wrdqdbi_deskew_dq_odly_fcrse_bit61\": 143,\n",
            "    \"f0_wrdqdbi_stg3_dq_odly_bit33\": 21,\n",
            "    \"f0_calbisc_rl_dly_pqtr_nibble07\": 80,\n",
            "    \"f1_wrdqdbi_odly_dq_final_bit26\": 0,\n",
            "    \"f1_rdcmplx_pqtr_right_short_nibble11\": 0,\n",
            "    \"f0_wrdqdbi_left_edge_dq_bit08\": 46,\n",
            "    \"f0_wrcmplx_odly_dq_final_bit04\": 59,\n",
            "    \"f0_rddq_idelay_final_bit16\": 79,\n",
            "    \"f0_rdcmplx_pqtr_right_short_fcrse_nibble03\": 187,\n",
            "    \"f0_rddq_idelay_final_bit31\": 83,\n",
            "    \"f1_dqsgate_stg1_overflow_61\": 0,\n",
            "    \"f1_rdcmplx_nqtr_right_short_fcrse_nibble00\": 0,\n",
            "    \"f1_rdcmplx_nqtr_left_short_nibble07\": 0,\n",
            "    \"wrvref_right_vref_def_rank0_byte0\": 0,\n",
            "    \"f1_rddq_pqtr_left_nibble09\": 0,\n",
            "    \"max_bytes\": 18,\n",
            "    \"f0_wrdqdbi_deskew_dq_odly_bit22\": 106,\n",
            "    \"f1_dqsgate_stg1_read_lat_rank0_byte6\": 0,\n",
            "    \"f1_rdcmplx_pqtr_final_nibble03\": 0,\n",
            "    \"rdvref_right_vref_def_nibble07\": 0,\n",
            "    \"f0_wrdqdbi_stg2_dq_odly_bit38\": 21,\n",
            "    \"f0_rdprbs_pqtr_right_margin_nibble02\": 0,\n",
            "    \"f1_wrdqdbi_left_edge_dq_bit06\": 0,\n",
            "    \"rdmargin_pqtr_right_nibble14\": 0,\n",
            "    \"f1_wrcmplx_odly_dq_final_bit59\": 0,\n",
            "    \"f1_wrdqdbi_left_edge_dq_bit60\": 0,\n",
            "    \"f0_wrdqdbi_stg3_dq_odly_bit14\": 55,\n",
            "    \"f0_tck_msb\": 1,\n",
            "    \"f0_rddq_idelay_final_bit27\": 78,\n",
            "    \"iobmap_dq_9_8\": 0,\n",
            "    \"f0_wrdqdbi_stg3_dq_odly_bit28\": 69,\n",
            "    \"rdvref_left_vref_low_bound_nibble00\": 0,\n",
            "    \"f0_wrdqdbi_odly_dq_final_bit32\": 28,\n",
            "    \"f0_wrlat_phy_data_nib_final_byte2\": 1,\n",
            "    \"f0_wrcmplx_odly_dbi_final_byte2\": 39,\n",
            "    \"dc0_perf_mon_7\": 0,\n",
            "    \"f0_rddq_qtr_deskew_nibble09\": 1,\n",
            "    \"phy_oe_nib7_dly\": 1,\n",
            "    \"nsu1_perf_filter_1_1\": 0,\n",
            "    \"f0_wrcmplx_left_margin_byte5\": 74,\n",
            "    \"f0_dqsgate_stg1_overflow_30\": 0,\n",
            "    \"f1_rdcmplx_idelay_offset_nibble13\": 0,\n",
            "    \"f0_rddq_pqtr_right_fcrse_nibble09\": 183,\n",
            "    \"f0_dqsgate_stg1_overflow_47\": 0,\n",
            "    \"f0_wrdqdbi_stg3_dq_odly_bit62\": 63,\n",
            "    \"cal_post_status_02\": 0,\n",
            "    \"dqstrack_rldlyrnk_crse_byte3\": 2,\n",
            "    \"f0_rdprbs_pqtr_right_margin_nibble04\": 0,\n",
            "    \"f1_rdcmplx_pqtr_right_short_nibble05\": 0,\n",
            "    \"traf_self_ref_en\": 0,\n",
            "    \"f1_dqsgate_stg1_overflow_02\": 0,\n",
            "    \"f0_wrdqdbi_stg1_dqs_delay_byte0\": 66,\n",
            "    \"f0_wrdqdbi_deskew_dbi_odly_byte0\": 133,\n",
            "    \"write_data_bitslip_en\": 0,\n",
            "    \"nsu2_perf_mon_ctl_0_0\": 0,\n",
            "    \"f1_wrdqdbi_odly_dq_final_bit62\": 0,\n",
            "    \"rdvref_left_vref_final_nibble07\": 0,\n",
            "    \"f0_calbisc_rl_dly_nqtr_nibble14\": 80,\n",
            "    \"nsu3_perf_mon_0_0\": 0,\n",
            "    \"f1_wrcmplx_odly_dq_final_bit11\": 0,\n",
            "    \"f0_rdcmplx_pqtr_left_short_nibble06\": 20,\n",
            "    \"f0_rd_simp_rise_ctp_nib_11\": [\n",
            "        95,\n",
            "        186\n",
            "    ],\n",
            "    \"rdvref_left_vref_upp_bound_nibble10\": 0,\n",
            "    \"f1_rddq_idelay_final_bit33\": 0,\n",
            "    \"f0_mr5_17_9\": 2,\n",
            "    \"f0_wrdqdbi_deskew_dq_odly_fcrse_bit17\": 90,\n",
            "    \"f1_wrdqdbi_stg2_dq_odly_bit03\": 0,\n",
            "    \"cal_warning_36\": 0,\n",
            "    \"f1_wrlvl_fine_left_rank0_byte4\": 0,\n",
            "    \"f1_rddq_pqtr_right_nibble15\": 0,\n",
            "    \"cal_seq_status_22\": 293,\n",
            "    \"f0_calbisc_rl_dly_qtr_nibble08\": 80,\n",
            "    \"f0_rd_simp_rise_ctp_nib_00\": [\n",
            "        90,\n",
            "        167\n",
            "    ],\n",
            "    \"f1_wrdqdbi_stg2_dq_odly_bit18\": 0,\n",
            "    \"f0_wrdqdbi_stg2_dq_odly_bit28\": 69,\n",
            "    \"f1_wrdqdbi_deskew_dq_odly_fcrse_bit57\": 0,\n",
            "    \"f0_wrdqdbi_deskew_dbi_odly_byte6\": 108,\n",
            "    \"f0_wrdqdbi_left_edge_dq_bit58\": 57,\n",
            "    \"f1_wrdqdbi_deskew_dq_odly_bit13\": 0,\n",
            "    \"f0_wrdqdbi_deskew_dq_odly_bit49\": 106,\n",
            "    \"rdmargin_nqtr_right_nibble05\": 0,\n",
            "    \"f1_wrdqdbi_odly_dq_final_bit34\": 0,\n",
            "    \"wrvref_right_vref_final_rank0_byte6\": 0,\n",
            "    \"f0_wr_simp_rm_byte_04\": [\n",
            "        78,\n",
            "        153\n",
            "    ],\n",
            "    \"dqstrack_rldlyrnk_crse_byte1\": 4,\n",
            "    \"f1_rddq_nqtr_right_fcrse_nibble03\": 0,\n",
            "    \"bisc_nqtr_nibble03\": 82,\n",
            "    \"rdvref_left_vref_def_nibble00\": 0,\n",
            "    \"f1_wrlvl_fine_right_rank0_byte4\": 0,\n",
            "    \"f0_wrdqdbi_deskew_dbi_odly_fcrse_byte3\": 139,\n",
            "    \"cal_seq_status_46\": 0,\n",
            "    \"iobmap_dq_55_54\": 0,\n",
            "    \"ub_instr_ce\": 0,\n",
            "    \"f0_wrdqdbi_stg2_dqs_odly_byte0\": 66,\n",
            "    \"rdvref_right_vref_upp_bound_nibble07\": 0,\n",
            "    \"f0_rdcmplx_nqtr_final_nibble08\": 76,\n",
            "    \"f1_wrdqdbi_stg5_dqs_odly_byte1\": 0,\n",
            "    \"f1_wrdqdbi_stg4_dqs_delay_byte6\": 0,\n",
            "    \"f0_rdcmplx_nqtr_left_nibble11\": 27,\n",
            "    \"f0_rddq_nqtr_final_nibble11\": 98,\n",
            "    \"f1_wrcmplx_odly_dq_final_bit47\": 0,\n",
            "    \"ddrmc_pcsr_status\": 23,\n",
            "    \"bisc_idly4_align_nibble10\": 71,\n",
            "    \"f1_rddq_pqtr_right_fcrse_nibble09\": 0,\n",
            "    \"vttrack_rldlyqtr_min_nibble03\": 77,\n",
            "    \"f1_rdcmplx_pqtr_left_short_nibble08\": 0,\n",
            "    \"f0_wrdqdbi_deskew_dq_odly_bit10\": 130,\n",
            "    \"f1_rdcmplx_nqtr_right_short_fcrse_nibble04\": 0,\n",
            "    \"f0_wrdqdbi_stg3_dq_odly_bit34\": 21,\n",
            "    \"f0_rd_simp_fall_lm_nib_11\": [\n",
            "        73,\n",
            "        140\n",
            "    ],\n",
            "    \"f0_rdcmplx_pqtr_left_short_nibble03\": 21,\n",
            "    \"f0_rd_simp_fall_rm_nib_13\": [\n",
            "        74,\n",
            "        144\n",
            "    ],\n",
            "    \"phy_rden24_dly\": 25,\n",
            "    \"f0_dqsgate_stg1_overflow_16\": 0,\n",
            "    \"f1_wrdqdbi_odly_dq_final_bit47\": 0,\n",
            "    \"wrvref_left_vref_def_rank0_byte4\": 0,\n",
            "    \"f0_wrdqdbi_stg2_dq_odly_bit57\": 63,\n",
            "    \"f1_dqsgate_stg1_read_lat_rank0_byte2\": 0,\n",
            "    \"scrub_en\": 1,\n",
            "    \"f0_wrdqdbi_left_edge_dq_bit20\": 15,\n",
            "    \"dc0_perf_mon_2\": 0,\n",
            "    \"rdmargin_nqtr_left_nibble08\": 0,\n",
            "    \"f0_dqsgate_stg1_rldlyrnk_fine_rank0_byte0\": 64,\n",
            "    \"bisc_pqtr_align_nibble00\": 0,\n",
            "    \"f0_dqsgate_rldlyrnk_crse_final_rank0_byte5\": 2,\n",
            "    \"f0_mr5_rtt_park\": 0,\n",
            "    \"cal_warning_49\": 0,\n",
            "    \"f1_rddq_nqtr_final_nibble12\": 0,\n",
            "    \"f1_wrcmplx_odly_dqs_final_byte0\": 0,\n",
            "    \"f0_rddq_idelay_final_bit18\": 85,\n",
            "    \"f0_wrdqdbi_left_edge_dq_bit48\": 28,\n",
            "    \"f1_wrdqdbi_left_edge_dq_bit25\": 0,\n",
            "    \"f0_wrcmplx_odly_dq_final_bit12\": 76,\n",
            "    \"f1_wrdqdbi_stg2_dq_odly_bit20\": 0,\n",
            "    \"f1_wrdqdbi_odly_dq_final_bit22\": 0,\n",
            "    \"f0_rdcmplx_nqtr_left_nibble09\": 23,\n",
            "    \"cal_stage_time_63\": 0,\n",
            "    \"f0_rddq_qtr_deskew_nibble14\": 1,\n",
            "    \"wrvref_right_vref_low_bound_rank0_byte2\": 0,\n",
            "    \"f0_wrcmplx_odly_dqs_final_byte2\": 36,\n",
            "    \"f0_rd_comp_fall_lm_nib_06\": [\n",
            "        60,\n",
            "        115\n",
            "    ],\n",
            "    \"f0_rd_simp_rise_lm_nib_10\": [\n",
            "        74,\n",
            "        146\n",
            "    ],\n",
            "    \"f0_rd_simp_rise_rm_nib_04\": [\n",
            "        79,\n",
            "        154\n",
            "    ],\n",
            "    \"f0_rdcmplx_pqtr_right_short_nibble07\": 173,\n",
            "    \"f1_calbisc_rl_dly_qtr_nibble06\": 0,\n",
            "    \"f1_dqsgate_read_lat_final_byte4\": 0,\n",
            "    \"f0_rd_simp_rise_rm_nib_15\": [\n",
            "        78,\n",
            "        150\n",
            "    ],\n",
            "    \"cal_status_cal_done\": 1,\n",
            "    \"iobmap_dqs_12\": 0,\n",
            "    \"cal_seq_status_37\": 314,\n",
            "    \"f0_wrdqdbi_deskew_dbi_odly_fcrse_byte1\": 145,\n",
            "    \"f1_wrcmplx_right_margin_byte7\": 0,\n",
            "    \"cal_error_bit_phy_nibble_24\": 0,\n",
            "    \"f0_calbisc_rl_dly_pqtr_nibble03\": 81,\n",
            "    \"f0_rddq_pqtr_right_fcrse_nibble04\": 183,\n",
            "    \"f0_rd_simp_fall_lm_nib_14\": [\n",
            "        74,\n",
            "        144\n",
            "    ],\n",
            "    \"f1_rdcmplx_nqtr_left_short_nibble00\": 0,\n",
            "    \"f0_rdprbs_pqtr_left_margin_nibble08\": 0,\n",
            "    \"f1_rddq_pqtr_final_nibble08\": 0,\n",
            "    \"rdvref_right_vref_low_bound_nibble08\": 0,\n",
            "    \"f0_wrdqdbi_deskew_dq_odly_bit36\": 104,\n",
            "    \"f1_rddq_idelay_final_bit24\": 0,\n",
            "    \"f1_wrcmplx_right_margin_fcrse_byte5\": 0,\n",
            "    \"f0_calbisc_rl_dly_qtr_nibble12\": 80,\n",
            "    \"f0_rdprbs_nqtr_right_margin_nibble08\": 0,\n",
            "    \"dqstrack_rldlyrnk_fine_byte5\": 13,\n",
            "    \"rdvref_right_vref_final_nibble13\": 0,\n",
            "    \"f1_rdcmplx_pqtr_final_nibble05\": 0,\n",
            "    \"f1_wrdqdbi_left_edge_dq_bit35\": 0,\n",
            "    \"f1_rdcmplx_nqtr_left_nibble05\": 0,\n",
            "    \"f0_rd_comp_fall_ctp_nib_03\": [\n",
            "        90,\n",
            "        171\n",
            "    ],\n",
            "    \"f0_rcd_rc0a\": 0,\n",
            "    \"rdvref_vref_low_bound_nibble11\": 0,\n",
            "    \"f0_dqsgate_stg1_overflow_26\": 0,\n",
            "    \"dqstrack_rldlyrnk_fine_max_byte3\": 8,\n",
            "    \"f0_rdprbs_nqtr_left_margin_nibble05\": 0,\n",
            "    \"f1_dqsgate_stg1_read_lat_rank0_byte7\": 0,\n",
            "    \"f1_rdcmplx_nqtr_final_nibble09\": 0,\n",
            "    \"f0_rdcmplx_nqtr_right_short_fcrse_nibble02\": 181,\n",
            "    \"f0_rd_comp_rise_rm_nib_01\": [\n",
            "        74,\n",
            "        142\n",
            "    ],\n",
            "    \"f1_rddq_idelay_final_bit29\": 0,\n",
            "    \"f0_rddq_idelay_final_bit32\": 62,\n",
            "    \"f0_mr0_17_9\": 6,\n",
            "    \"f1_rddq_qtr_deskew_nibble12\": 0,\n",
            "    \"f1_wrdqdbi_stg2_dq_odly_bit12\": 0,\n",
            "    \"f1_wrdqdbi_stg1_dqs_delay_byte5\": 0,\n",
            "    \"f0_rddq_idelay_final_bit50\": 74,\n",
            "    \"f0_rd_comp_fall_rm_nib_04\": [\n",
            "        61,\n",
            "        116\n",
            "    ],\n",
            "    \"f0_dqsgate_rldlyrnk_crse_final_rank0_byte3\": 2,\n",
            "    \"f0_calbisc_rl_dly_nqtr_nibble03\": 82,\n",
            "    \"bisc_nqtr_align_nibble15\": 2,\n",
            "    \"f1_mr5_17_9\": 0,\n",
            "    \"f0_rdprbs_pqtr_right_margin_nibble06\": 0,\n",
            "    \"iobmap_dqs_8\": 0,\n",
            "    \"wrvref_right_vref_def_rank0_byte6\": 0,\n",
            "    \"f1_wrdqdbi_deskew_dq_odly_bit20\": 0,\n",
            "    \"bisc_nqtr_nibble07\": 83,\n",
            "    \"bisc_nqtr_nibble08\": 80,\n",
            "    \"f1_wrcmplx_right_margin_fcrse_byte7\": 0,\n",
            "    \"f1_rdcmplx_nqtr_left_short_nibble10\": 0,\n",
            "    \"f0_rd_comp_rise_lm_nib_08\": [\n",
            "        66,\n",
            "        128\n",
            "    ],\n",
            "    \"f0_wrdqdbi_left_edge_dq_bit19\": 10,\n",
            "    \"f1_wrdqdbi_left_edge_dbi_byte2\": 0,\n",
            "    \"cal_error_bit_phy_nibble_03\": 0,\n",
            "    \"f0_wrdqdbi_stg3_dq_odly_bit35\": 21,\n",
            "    \"f0_wrdqdbi_deskew_dq_odly_fcrse_bit34\": 91,\n",
            "    \"f1_wrdqdbi_deskew_dq_odly_bit58\": 0,\n",
            "    \"f1_rdcmplx_nqtr_left_nibble13\": 0,\n",
            "    \"f1_wrdqdbi_deskew_dq_odly_fcrse_bit44\": 0,\n",
            "    \"rdmargin_pqtr_left_nibble12\": 0,\n",
            "    \"dqstrack_rldlyrnk_fine_max_byte4\": 14,\n",
            "    \"f0_rddq_idelay_final_bit11\": 71,\n",
            "    \"f0_rddq_nqtr_final_nibble09\": 92,\n",
            "    \"f0_wrdqdbi_deskew_dq_odly_bit07\": 137,\n",
            "    \"f0_rdcmplx_idelay_offset_nibble04\": 0,\n",
            "    \"f1_wrdqdbi_deskew_dq_odly_bit06\": 0,\n",
            "    \"f1_wrdqdbi_deskew_dq_odly_bit02\": 0,\n",
            "    \"bisc_nqtr_align_nibble08\": 0,\n",
            "    \"f1_wrdqdbi_deskew_dq_odly_bit59\": 0,\n",
            "    \"f1_rdprbs_pqtr_right_margin_nibble00\": 0,\n",
            "    \"vttrack_rldlyqtr_max_nibble03\": 84,\n",
            "    \"rdmargin_nqtr_left_nibble09\": 0,\n",
            "    \"f0_wrcmplx_left_margin_byte0\": 76,\n",
            "    \"f1_calbisc_rl_dly_qtr_nibble05\": 0,\n",
            "    \"cal_warning_53\": 0,\n",
            "    \"f0_wrdqdbi_stg2_dq_odly_bit09\": 55,\n",
            "    \"f1_wrdqdbi_right_edge_dqs_byte5\": 0,\n",
            "    \"rdmargin_pqtr_left_nibble06\": 0,\n",
            "    \"f0_wrdqdbi_left_edge_dq_bit07\": 54,\n",
            "    \"f1_rddq_idelay_final_bit42\": 0,\n",
            "    \"iobmap_dqs_13\": 0,\n",
            "    \"bisc_mon_align_nibble14\": 0,\n",
            "    \"f0_rddq_idelay_final_bit40\": 70,\n",
            "    \"f1_rdprbs_nqtr_right_margin_nibble15\": 0,\n",
            "    \"bisc_mon_align_nibble10\": 0,\n",
            "    \"f1_wrlvl_crse_stg1_rank0_byte0\": 0,\n",
            "    \"f1_wrdqdbi_deskew_dq_odly_bit43\": 0,\n",
            "    \"f1_wrdqdbi_odly_dq_final_bit38\": 0,\n",
            "    \"f1_wrdqdbi_odly_dq_final_bit23\": 0,\n",
            "    \"bisc_idly2_align_nibble00\": 68,\n",
            "    \"bisc_rl_dly_qtr_nibble12\": 80,\n",
            "    \"f1_calbisc_rl_dly_pqtr_nibble15\": 0,\n",
            "    \"mgchk_pattern_config_2\": 0,\n",
            "    \"f0_wrdqdbi_stg2_dq_odly_bit26\": 69,\n",
            "    \"f0_wrdqdbi_odly_dq_final_bit37\": 12,\n",
            "    \"f0_wrcmplx_odly_dq_final_bit16\": 40,\n",
            "    \"f0_rdcmplx_pqtr_right_short_fcrse_nibble08\": 176,\n",
            "    \"f1_wrdqdbi_right_margin_byte7\": 0,\n",
            "    \"rdvref_left_vref_low_bound_nibble10\": 0,\n",
            "    \"nsu3_perf_filter_en_1\": 0,\n",
            "    \"rdvref_right_vref_upp_bound_nibble13\": 0,\n",
            "    \"cal_seq_status_19\": 283,\n",
            "    \"f0_rddq_nqtr_final_nibble02\": 99,\n",
            "    \"f1_wrcmplx_right_margin_byte0\": 0,\n",
            "    \"f1_wrdqdbi_left_edge_dq_bit54\": 0,\n",
            "    \"f0_rdcmplx_pqtr_left_nibble09\": 24,\n",
            "    \"f0_rdcmplx_pqtr_right_nibble14\": 160,\n",
            "    \"rdvref_right_vref_final_nibble06\": 0,\n",
            "    \"self_refresh_entry_error\": 0,\n",
            "    \"f0_wrlvl_crse_stg1_rank0_byte0\": 2,\n",
            "    \"f1_wrdqdbi_deskew_dq_odly_fcrse_bit31\": 0,\n",
            "    \"f0_wrdqdbi_left_edge_dq_bit46\": 39,\n",
            "    \"f0_rdcmplx_nqtr_left_nibble12\": 22,\n",
            "    \"f1_dqsgate_stg1_overflow_28\": 0,\n",
            "    \"f1_wrcmplx_odly_dq_final_bit12\": 0,\n",
            "    \"rdvref_left_vref_upp_bound_nibble12\": 0,\n",
            "    \"f0_rddq_qtr_deskew_nibble04\": 1,\n",
            "    \"wrvref_left_vref_final_rank0_byte0\": 0,\n",
            "    \"rdvref_vref_final_nibble15\": 0,\n",
            "    \"f0_wrdqdbi_left_edge_dq_bit39\": 20,\n",
            "    \"f0_rdcmplx_pqtr_right_nibble02\": 159,\n",
            "    \"f0_rdprbs_nqtr_left_margin_nibble09\": 0,\n",
            "    \"f1_calbisc_rl_dly_pqtr_nibble08\": 0,\n",
            "    \"f1_wrcmplx_left_margin_byte4\": 0,\n",
            "    \"f0_rd_comp_fall_lm_nib_04\": [\n",
            "        60,\n",
            "        114\n",
            "    ],\n",
            "    \"f1_wrdqdbi_deskew_dq_odly_bit35\": 0,\n",
            "    \"f0_wrprbs_right_margin_byte5\": 0,\n",
            "    \"f1_wrdqdbi_right_margin_byte4\": 0,\n",
            "    \"cal_stage.03_F0_DQS_GATE_CAL\": \"Pass\",\n",
            "    \"f0_rddq_nqtr_right_nibble04\": 174,\n",
            "    \"f0_dqsgate_stg1_overflow_13\": 0,\n",
            "    \"cal_stage_time_25\": 0,\n",
            "    \"f0_rdcmplx_pqtr_right_short_fcrse_nibble10\": 177,\n",
            "    \"f0_rdcmplx_pqtr_right_nibble07\": 158,\n",
            "    \"rdvref_left_vref_upp_bound_nibble00\": 0,\n",
            "    \"f0_wrdqdbi_stg5_dqs_odly_byte6\": 45,\n",
            "    \"f0_wrcmplx_odly_dq_final_bit35\": 20,\n",
            "    \"f0_wr_simp_ctp_byte_06\": [\n",
            "        285,\n",
            "        557\n",
            "    ],\n",
            "    \"f1_dqsgate_stg2_rldlyrnk_crse_rank0_byte0\": 0,\n",
            "    \"f0_rddq_nqtr_right_nibble01\": 177,\n",
            "    \"f0_wrdqdbi_stg1_bit_status_byte2\": 0,\n",
            "    \"es_vref_steps\": 14,\n",
            "    \"f1_wrlvl_crse_final_rank0_byte3\": 0,\n",
            "    \"f1_wrlat_wldlyrnk_crse_final_rank0_byte2\": 0,\n",
            "    \"f0_dqsgate_stg1_overflow_59\": 0,\n",
            "    \"f1_wrcmplx_odly_dq_final_bit24\": 0,\n",
            "    \"f0_wrlat_phy_oe_nib_final_byte7\": 0,\n",
            "    \"f0_rdprbs_pqtr_left_margin_nibble06\": 0,\n",
            "    \"xpi_oe_all_nib_dly_offset\": 8,\n",
            "    \"nsu1_perf_mon_ctl_0_1\": 0,\n",
            "    \"f0_rdcmplx_nqtr_right_short_fcrse_nibble04\": 184,\n",
            "    \"f0_rd_simp_rise_lm_nib_00\": [\n",
            "        72,\n",
            "        133\n",
            "    ],\n",
            "    \"f0_wrdqdbi_deskew_dbi_odly_byte7\": 144,\n",
            "    \"f0_calbisc_rl_dly_pqtr_nibble13\": 80,\n",
            "    \"iobmap_dq_63_62\": 0,\n",
            "    \"f1_wrdqdbi_deskew_dq_odly_fcrse_bit45\": 0,\n",
            "    \"rdvref_left_vref_final_nibble12\": 0,\n",
            "    \"f0_rddq_qtr_deskew_nibble08\": 1,\n",
            "    \"f1_wrdqdbi_right_margin_byte6\": 0,\n",
            "    \"phy_rden0_dly\": 26,\n",
            "    \"f0_rddq_idelay_final_bit58\": 73,\n",
            "    \"ddrmc_isr_nsu_fatal0\": 0,\n",
            "    \"f0_wrprbs_right_margin_byte2\": 0,\n",
            "    \"f1_wrdqdbi_stg1_dqs_delay_byte1\": 0,\n",
            "    \"f0_wrprbs_left_margin_byte2\": 0,\n",
            "    \"f1_wrdqdbi_stg4_dqs_delay_byte7\": 0,\n",
            "    \"f0_wrlvl_fine_left_rank0_byte1\": 53,\n",
            "    \"f0_calbisc_rl_dly_qtr_nibble04\": 81,\n",
            "    \"f0_wrdqdbi_stg3_dq_odly_bit39\": 21,\n",
            "    \"reg_pinout\": 17,\n",
            "    \"bisc_idly1_align_nibble09\": 77,\n",
            "    \"mgchk_def_wr_vref_range\": 0,\n",
            "    \"f1_rdcmplx_nqtr_right_short_nibble15\": 0,\n",
            "    \"f1_wrcmplx_left_margin_fcrse_byte2\": 0,\n",
            "    \"f1_wrprbs_left_margin_byte7\": 0,\n",
            "    \"f0_rd_comp_rise_lm_nib_15\": [\n",
            "        71,\n",
            "        136\n",
            "    ],\n",
            "    \"f0_wrdqdbi_deskew_dq_odly_bit11\": 131,\n",
            "    \"f0_dqsgate_stg2_read_lat_rank0_byte7\": 28,\n",
            "    \"f0_rd_simp_rise_rm_nib_07\": [\n",
            "        79,\n",
            "        154\n",
            "    ],\n",
            "    \"f0_rddq_pqtr_right_fcrse_nibble14\": 173,\n",
            "    \"bisc_pqtr_align_nibble11\": 0,\n",
            "    \"rdvref_left_vref_low_bound_nibble12\": 0,\n",
            "    \"cal_stage_time_40\": 0,\n",
            "    \"wrmargin_left_byte0\": 0,\n",
            "    \"f0_dqsgate_read_lat_final_byte4\": 27,\n",
            "    \"f0_rddq_pqtr_left_nibble06\": 18,\n",
            "    \"f0_wrcmplx_odly_dq_final_bit50\": 32,\n",
            "    \"f1_wrdqdbi_stg2_dq_odly_bit51\": 0,\n",
            "    \"f1_rdcmplx_pqtr_left_short_nibble05\": 0,\n",
            "    \"f1_rdprbs_nqtr_left_margin_nibble12\": 0,\n",
            "    \"cal_warning_17\": 0,\n",
            "    \"num_channels\": 1,\n",
            "    \"wrmargin_left_byte7\": 0,\n",
            "    \"f0_rd_simp_fall_ctp_nib_12\": [\n",
            "        95,\n",
            "        183\n",
            "    ],\n",
            "    \"f1_rdcmplx_pqtr_right_short_fcrse_nibble05\": 0,\n",
            "    \"f0_rddq_idelay_final_bit53\": 83,\n",
            "    \"f0_rddq_pqtr_left_nibble14\": 18,\n",
            "    \"f1_wrcmplx_odly_dq_final_bit40\": 0,\n",
            "    \"rdvref_right_vref_final_nibble01\": 0,\n",
            "    \"cal_stage.09_F0_WRITE_DQ_DBI_CAL_COMPLEX\": \"Pass\",\n",
            "    \"f0_wr_comp_lm_byte_04\": [\n",
            "        73,\n",
            "        143\n",
            "    ],\n",
            "    \"f1_rddq_qtr_deskew_nibble07\": 0,\n",
            "    \"f0_wr_comp_rm_byte_03\": [\n",
            "        65,\n",
            "        127\n",
            "    ],\n",
            "    \"cal_stage_time_31\": 0,\n",
            "    \"f0_rddq_nqtr_left_nibble05\": 27,\n",
            "    \"rdvref_left_vref_low_bound_nibble14\": 0,\n",
            "    \"f1_wrdqdbi_deskew_dq_odly_bit24\": 0,\n",
            "    \"f0_rddq_idelay_final_bit52\": 78,\n",
            "    \"f0_wrdqdbi_left_edge_dbi_byte2\": 20,\n",
            "    \"f0_wrdqdbi_stg2_dq_odly_bit60\": 63,\n",
            "    \"iobmap_dq_47_46\": 0,\n",
            "    \"f0_wrdqdbi_right_margin_fcrse_byte0\": 70,\n",
            "    \"cal_stage_time_41\": 0,\n",
            "    \"dqstrack_rldlyrnk_crse_max_byte7\": 5,\n",
            "    \"f0_rdcmplx_pqtr_final_nibble04\": 91,\n",
            "    \"cal_warning_29\": 0,\n",
            "    \"f1_wrcmplx_odly_dq_final_bit27\": 0,\n",
            "    \"f1_wrdqdbi_stg2_dq_odly_bit32\": 0,\n",
            "    \"f1_wrdqdbi_stg3_dq_odly_bit06\": 0,\n",
            "    \"f1_wrdqdbi_deskew_dq_odly_bit27\": 0,\n",
            "    \"f1_rdcmplx_pqtr_right_short_nibble08\": 0,\n",
            "    \"f0_rd_comp_fall_ctp_nib_04\": [\n",
            "        89,\n",
            "        170\n",
            "    ],\n",
            "    \"f0_rd_simp_fall_lm_nib_07\": [\n",
            "        74,\n",
            "        142\n",
            "    ],\n",
            "    \"f0_wrcmplx_right_margin_fcrse_byte3\": 60,\n",
            "    \"iobmap_dqs_14\": 0,\n",
            "    \"f1_rddq_idelay_final_bit39\": 0,\n",
            "    \"f1_wrdqdbi_deskew_dq_odly_fcrse_bit56\": 0,\n",
            "    \"f1_dqsgate_stg1_overflow_09\": 0,\n",
            "    \"cal_error_bit_phy_nibble_22\": 0,\n",
            "    \"f1_wrdqdbi_odly_dq_final_bit07\": 0,\n",
            "    \"reg_safe_config3\": 16877592,\n",
            "    \"f1_wrcmplx_odly_dq_final_bit63\": 0,\n",
            "    \"f0_wrdqdbi_odly_dq_final_bit14\": 69,\n",
            "    \"f1_rddq_nqtr_right_fcrse_nibble07\": 0,\n",
            "    \"rdvref_right_vref_def_nibble09\": 0,\n",
            "    \"cal_stage_time_43\": 0,\n",
            "    \"traf_power_down_en\": 0,\n",
            "    \"f0_rddq_nqtr_left_nibble04\": 27,\n",
            "    \"rdvref_left_vref_final_nibble04\": 0,\n",
            "    \"f0_wrdqdbi_left_edge_dq_bit34\": 24,\n",
            "    \"f1_rddq_pqtr_left_nibble12\": 0,\n",
            "    \"ddrmc_isr_nsu_3\": 0,\n",
            "    \"f1_rddq_idelay_final_bit60\": 0,\n",
            "    \"bisc_pqtr_align_nibble07\": 0,\n",
            "    \"f1_wrdqdbi_stg2_dq_odly_bit06\": 0,\n",
            "    \"f1_wrlat_phy_oe_nib_final_byte4\": 0,\n",
            "    \"f1_wrlvl_fine_right_rank0_byte1\": 0,\n",
            "    \"f1_rdcmplx_nqtr_left_nibble14\": 0,\n",
            "    \"f1_dqsgate_stg1_overflow_53\": 0,\n",
            "    \"f1_rdprbs_nqtr_left_margin_nibble10\": 0,\n",
            "    \"f0_wrlvl_fine_right_rank0_byte5\": 41,\n",
            "    \"f0_dqsgate_stg2_read_lat_rank0_byte3\": 26,\n",
            "    \"f0_wrdqdbi_deskew_dq_odly_fcrse_bit14\": 135,\n",
            "    \"f1_wrdqdbi_odly_dbi_final_byte7\": 0,\n",
            "    \"f1_rddq_qtr_deskew_nibble06\": 0,\n",
            "    \"f1_wrlvl_fine_final_rank0_byte6\": 0,\n",
            "    \"f0_rddq_qtr_deskew_nibble02\": 1,\n",
            "    \"f0_wrdqdbi_left_edge_dq_bit04\": 48,\n",
            "    \"f1_dqsgate_stg1_rldlyrnk_crse_rank0_byte1\": 0,\n",
            "    \"f0_dqsgate_stg1_overflow_50\": 0,\n",
            "    \"f1_wrdqdbi_left_edge_dbi_byte5\": 0,\n",
            "    \"f0_rd_simp_fall_rm_nib_05\": [\n",
            "        74,\n",
            "        139\n",
            "    ],\n",
            "    \"nsu0_perf_mon_0_1\": 0,\n",
            "    \"f1_wrdqdbi_stg3_dq_odly_bit08\": 0,\n",
            "    \"f1_rdcmplx_pqtr_right_nibble13\": 0,\n",
            "    \"f1_rdprbs_pqtr_right_margin_nibble15\": 0,\n",
            "    \"f0_wrdqdbi_left_edge_dq_bit33\": 14,\n",
            "    \"f1_rddq_pqtr_right_nibble13\": 0,\n",
            "    \"f0_rdcmplx_nqtr_final_nibble01\": 91,\n",
            "    \"f1_rdprbs_pqtr_left_margin_nibble02\": 0,\n",
            "    \"bisc_idly5_align_nibble07\": 77,\n",
            "    \"f0_wrcmplx_odly_dq_final_bit49\": 37,\n",
            "    \"f0_rdcmplx_nqtr_left_nibble15\": 26,\n",
            "    \"f0_wrcmplx_odly_dbi_final_byte4\": 26,\n",
            "    \"f0_wrdqdbi_odly_dq_final_bit45\": 32,\n",
            "    \"bisc_idly3_align_nibble12\": 69,\n",
            "    \"f1_wrcmplx_odly_dqs_final_byte6\": 0,\n",
            "    \"f1_rdprbs_pqtr_left_margin_nibble12\": 0,\n",
            "    \"f0_rd_simp_rise_ctp_nib_04\": [\n",
            "        96,\n",
            "        188\n",
            "    ],\n",
            "    \"f1_wrprbs_right_margin_byte6\": 0,\n",
            "    \"f1_calbisc_rl_dly_nqtr_nibble13\": 0,\n",
            "    \"f1_wrdqdbi_deskew_dq_odly_bit21\": 0,\n",
            "    \"f1_rdcmplx_pqtr_right_nibble09\": 0,\n",
            "    \"f1_wrlvl_crse_final_rank0_byte1\": 0,\n",
            "    \"f0_wrlvl_crse_final_rank0_byte1\": 3,\n",
            "    \"f0_rdcmplx_pqtr_right_nibble10\": 159,\n",
            "    \"f0_wrdqdbi_stg2_dq_odly_bit62\": 63,\n",
            "    \"f1_calbisc_rl_dly_pqtr_nibble02\": 0,\n",
            "    \"f0_rddq_nqtr_left_nibble02\": 25,\n",
            "    \"iobmap_dq_49_48\": 0,\n",
            "    \"f0_rdcmplx_pqtr_final_nibble15\": 93,\n",
            "    \"f1_wrdqdbi_left_edge_dq_bit43\": 0,\n",
            "    \"f1_wrdqdbi_left_edge_dq_bit46\": 0,\n",
            "    \"f1_rddq_pqtr_left_nibble10\": 0,\n",
            "    \"wrvref_left_vref_low_bound_rank0_byte3\": 0,\n",
            "    \"f0_wrdqdbi_left_edge_dq_bit37\": 12,\n",
            "    \"dqstrack_rldlyrnk_fine_byte7\": 8,\n",
            "    \"f0_wrdqdbi_right_margin_fcrse_byte7\": 70,\n",
            "    \"f1_wrdqdbi_stg3_dq_odly_bit28\": 0,\n",
            "    \"f0_rdcmplx_pqtr_final_nibble06\": 87,\n",
            "    \"f1_wrdqdbi_odly_dq_final_bit63\": 0,\n",
            "    \"f0_dqsgate_rldlyrnk_crse_final_rank0_byte4\": 1,\n",
            "    \"f0_wrdqdbi_stg2_dq_odly_bit06\": 50,\n",
            "    \"f0_rd_simp_rise_rm_nib_14\": [\n",
            "        76,\n",
            "        148\n",
            "    ],\n",
            "    \"f1_rddq_nqtr_left_nibble09\": 0,\n",
            "    \"f0_wrdqdbi_stg1_bit_status_byte7\": 0,\n",
            "    \"f1_wrdqdbi_stg1_byte_status_00\": 0,\n",
            "    \"cal_warning_07\": 0,\n",
            "    \"f0_rddq_idelay_final_bit42\": 71,\n",
            "    \"f0_rddq_idelay_final_bit21\": 84,\n",
            "    \"rdvref_left_vref_upp_bound_nibble05\": 0,\n",
            "    \"cal_stage_time_07\": 0,\n",
            "    \"f0_rdcmplx_pqtr_right_nibble13\": 169,\n",
            "    \"cal_stage_time_46\": 0,\n",
            "    \"f1_wrlvl_noise_fcrse_rank0_byte0\": 0,\n",
            "    \"f0_dqsgate_stg2_read_lat_rank0_byte0\": 25,\n",
            "    \"phy_oe_nib16_dly\": 1,\n",
            "    \"reg_safe_config1\": 1086456584,\n",
            "    \"wrmargin_right_byte6\": 0,\n",
            "    \"f0_wrdqdbi_stg2_dq_odly_bit18\": 20,\n",
            "    \"f1_wrdqdbi_odly_dqs_final_byte2\": 0,\n",
            "    \"cal_warning_56\": 0,\n",
            "    \"f1_wrlat_phy_data_nib_final_byte4\": 0,\n",
            "    \"0x0b_F0_READ_DQ_CAL\": \"Pass\",\n",
            "    \"f1_wrdqdbi_deskew_dq_odly_bit40\": 0,\n",
            "    \"f0_rdcmplx_nqtr_right_short_fcrse_nibble07\": 181,\n",
            "    \"f0_rd_comp_rise_rm_nib_11\": [\n",
            "        70,\n",
            "        136\n",
            "    ],\n",
            "    \"f1_rddq_pqtr_right_fcrse_nibble08\": 0,\n",
            "    \"f1_rdcmplx_nqtr_right_nibble00\": 0,\n",
            "    \"f0_rddq_idelay_final_bit35\": 61,\n",
            "    \"f0_wrcmplx_odly_dq_final_bit44\": 58,\n",
            "    \"f0_wrcmplx_odly_dq_final_bit46\": 54,\n",
            "    \"f1_rdcmplx_nqtr_left_nibble15\": 0,\n",
            "    \"f1_rdprbs_nqtr_left_margin_nibble11\": 0,\n",
            "    \"f0_tck_lsb\": 113,\n",
            "    \"mgchk_rd_vref_0\": 0,\n",
            "    \"f1_wrdqdbi_deskew_dq_odly_bit00\": 0,\n",
            "    \"f0_wrdqdbi_deskew_dq_odly_bit43\": 109,\n",
            "    \"f0_rd_simp_fall_rm_nib_06\": [\n",
            "        74,\n",
            "        142\n",
            "    ],\n",
            "    \"f0_wrdqdbi_left_edge_dq_bit15\": 42,\n",
            "    \"f0_rddq_pqtr_final_nibble06\": 93,\n",
            "    \"f0_dqsgate_stg1_overflow_60\": 0,\n",
            "    \"f1_wrcmplx_odly_dq_final_bit18\": 0,\n",
            "    \"f1_rddq_nqtr_final_nibble01\": 0,\n",
            "    \"f1_rdprbs_nqtr_right_margin_nibble00\": 0,\n",
            "    \"rdmargin_nqtr_right_nibble13\": 0,\n",
            "    \"cal_warning_18\": 0,\n",
            "    \"f0_wrdqdbi_left_edge_dq_bit17\": 11,\n",
            "    \"f1_wrdqdbi_stg2_dq_odly_bit07\": 0,\n",
            "    \"f0_rd_comp_rise_ctp_nib_15\": [\n",
            "        93,\n",
            "        179\n",
            "    ],\n",
            "    \"wrmargin_right_byte5\": 0,\n",
            "    \"wrvref_left_vref_low_bound_rank0_byte1\": 0,\n",
            "    \"f0_rdprbs_nqtr_left_margin_nibble11\": 0,\n",
            "    \"f0_rdcmplx_pqtr_left_nibble15\": 22,\n",
            "    \"f0_wrdqdbi_deskew_dq_odly_fcrse_bit54\": 109,\n",
            "    \"f0_wrdqdbi_stg3_dq_odly_bit22\": 20,\n",
            "    \"f1_dqsgate_stg1_overflow_48\": 0,\n",
            "    \"f0_wrdqdbi_stg3_dq_odly_bit06\": 50,\n",
            "    \"f0_wrdqdbi_deskew_dq_odly_bit19\": 97,\n",
            "    \"f0_rdprbs_pqtr_left_margin_nibble13\": 0,\n",
            "    \"f0_rdprbs_nqtr_right_margin_nibble11\": 0,\n",
            "    \"f1_wrdqdbi_deskew_dq_odly_bit23\": 0,\n",
            "    \"f1_wrdqdbi_right_margin_byte3\": 0,\n",
            "    \"wrvref_right_vref_upp_bound_rank0_byte2\": 0,\n",
            "    \"f1_wrlvl_noise_fcrse_rank0_byte2\": 0,\n",
            "    \"rdmargin_nqtr_left_nibble03\": 0,\n",
            "    \"f1_wrcmplx_odly_dq_final_bit49\": 0,\n",
            "    \"f0_rddq_idelay_final_bit22\": 86,\n",
            "    \"f1_rdcmplx_nqtr_right_short_nibble03\": 0,\n",
            "    \"nsu1_perf_mon_0_1\": 0,\n",
            "    \"f0_dqsgate_stg2_rldlyrnk_crse_rank0_byte6\": 3,\n",
            "    \"rdvref_vref_low_bound_nibble05\": 0,\n",
            "    \"nsu0_perf_mon_0_2\": 0,\n",
            "    \"f0_wrlvl_crse_final_rank0_byte7\": 3,\n",
            "    \"f1_rddq_pqtr_right_nibble07\": 0,\n",
            "    \"wrvref_vref_final_rank0_byte6\": 0,\n",
            "    \"f0_wrdqdbi_stg3_dq_odly_bit16\": 20,\n",
            "    \"f1_rdcmplx_nqtr_left_short_nibble12\": 0,\n",
            "    \"f1_dqsgate_read_lat_final_byte0\": 0,\n",
            "    \"rdmargin_pqtr_right_nibble00\": 0,\n",
            "    \"f0_rd_simp_fall_rm_nib_04\": [\n",
            "        74,\n",
            "        141\n",
            "    ],\n",
            "    \"f1_rdcmplx_nqtr_right_short_nibble01\": 0,\n",
            "    \"f0_wrdqdbi_stg2_dq_odly_bit23\": 20,\n",
            "    \"f0_rddq_nqtr_right_fcrse_nibble07\": 180,\n",
            "    \"f1_rdprbs_pqtr_right_margin_nibble11\": 0,\n",
            "    \"f0_rddq_idelay_final_bit04\": 77,\n",
            "    \"f0_rddq_pqtr_final_nibble15\": 96,\n",
            "    \"f0_rddq_nqtr_right_fcrse_nibble13\": 178,\n",
            "    \"f1_wrcmplx_odly_dq_final_bit20\": 0,\n",
            "    \"f0_wrdqdbi_odly_dq_final_bit51\": 26,\n",
            "    \"xpi_write_dm_dbi\": 1,\n",
            "    \"f0_xpll_clkoutfb_lt\": 16,\n",
            "    \"f1_rcd_rc3x\": 0,\n",
            "    \"f1_dqsgate_stg1_rldlyrnk_fine_rank0_byte2\": 0,\n",
            "    \"f1_wrlvl_offset_rank0_byte6\": 0,\n",
            "    \"mgchk_wr_vref\": 0,\n",
            "    \"cal_pointer_stat\": 6,\n",
            "    \"f0_wrcmplx_odly_dq_final_bit25\": 76,\n",
            "    \"vttrack_rldlyqtr_nibble15\": 79,\n",
            "    \"f0_rd_simp_fall_ctp_nib_09\": [\n",
            "        92,\n",
            "        182\n",
            "    ],\n",
            "    \"cal_warning_12\": 0,\n",
            "    \"f0_rdprbs_nqtr_right_margin_nibble03\": 0,\n",
            "    \"f0_rd_comp_fall_rm_nib_03\": [\n",
            "        63,\n",
            "        120\n",
            "    ],\n",
            "    \"ddrmc_pcsr_status_calerror\": 0,\n",
            "    \"rdmargin_pqtr_left_nibble07\": 0,\n",
            "    \"wrvref_vref_final_rank0_byte3\": 0,\n",
            "    \"rdmargin_nqtr_left_nibble02\": 0,\n",
            "    \"f0_wrdqdbi_deskew_dq_odly_fcrse_bit57\": 133,\n",
            "    \"max_dbi_pins\": 9,\n",
            "    \"bisc_idly1_align_nibble04\": 68,\n",
            "    \"f0_dqsgate_stg1_rldlyrnk_crse_rank0_byte0\": 7,\n",
            "    \"f0_rdcmplx_idelay_offset_nibble05\": 0,\n",
            "    \"f0_rdprbs_pqtr_left_margin_nibble09\": 0,\n",
            "    \"f1_dqsgate_read_lat_final_byte7\": 0,\n",
            "    \"f1_rdprbs_pqtr_right_margin_nibble06\": 0,\n",
            "    \"f0_rddq_nqtr_right_fcrse_nibble11\": 180,\n",
            "    \"f1_wrcmplx_odly_dq_final_bit39\": 0,\n",
            "    \"rdvref_vref_final_nibble04\": 0,\n",
            "    \"f0_wrdqdbi_deskew_dq_odly_bit32\": 102,\n",
            "    \"f0_calbisc_rl_dly_qtr_nibble14\": 80,\n",
            "    \"f1_wrdqdbi_deskew_dq_odly_fcrse_bit34\": 0,\n",
            "    \"wrvref_vref_low_bound_rank0_byte3\": 0,\n",
            "    \"cal_error_bit_phy_nibble_21\": 0,\n",
            "    \"f0_rd_simp_fall_rm_nib_01\": [\n",
            "        76,\n",
            "        144\n",
            "    ],\n",
            "    \"f0_rddq_pqtr_right_fcrse_nibble13\": 183,\n",
            "    \"f1_rdprbs_pqtr_right_margin_nibble04\": 0,\n",
            "    \"vttrack_rldlyqtr_max_nibble04\": 85,\n",
            "    \"f0_wrdqdbi_stg2_dq_odly_bit40\": 37,\n",
            "    \"f1_rdcmplx_nqtr_right_short_nibble04\": 0,\n",
            "    \"f1_mr3_8_0\": 32,\n",
            "    \"f1_rddq_pqtr_left_nibble13\": 0,\n",
            "    \"bisc_pqtr_align_nibble06\": 0,\n",
            "    \"f1_xpll_clkoutfb_ht\": 16,\n",
            "    \"f0_rddq_pqtr_right_nibble06\": 168,\n",
            "    \"f0_wrdqdbi_stg2_dq_odly_bit48\": 29,\n",
            "    \"f0_wrdqdbi_deskew_dq_odly_fcrse_bit26\": 139,\n",
            "    \"f0_wrdqdbi_deskew_dq_odly_bit58\": 138,\n",
            "    \"phy_rden21_dly\": 25,\n",
            "    \"f0_rdprbs_nqtr_left_margin_nibble07\": 0,\n",
            "    \"f1_wrdqdbi_left_edge_dq_bit48\": 0,\n",
            "    \"f1_rdprbs_pqtr_right_margin_nibble09\": 0,\n",
            "    \"f0_rd_simp_fall_lm_nib_01\": [\n",
            "        76,\n",
            "        144\n",
            "    ],\n",
            "    \"cal_pre_status_8_0\": 255,\n",
            "    \"f0_rddq_idelay_final_bit44\": 83,\n",
            "    \"f0_wrdqdbi_stg3_dq_odly_bit61\": 63,\n",
            "    \"rdmargin_pqtr_left_nibble08\": 0,\n",
            "    \"mgchk_def_wr_vref\": 28,\n",
            "    \"f1_dqsgate_stg1_overflow_10\": 0,\n",
            "    \"f1_rddq_nqtr_right_nibble00\": 0,\n",
            "    \"f1_wrlvl_crse_stg1_rank0_byte1\": 0,\n",
            "    \"f1_dqsgate_rldlyrnk_crse_final_rank0_byte3\": 0,\n",
            "    \"f0_rdcmplx_nqtr_left_nibble01\": 27,\n",
            "    \"cal_stage_time_61\": 0,\n",
            "    \"f0_wrdqdbi_deskew_dq_odly_fcrse_bit49\": 99,\n",
            "    \"bisc_pqtr_align_nibble03\": 0,\n",
            "    \"f0_mr1_rtt_nom\": 219,\n",
            "    \"f0_rddq_nqtr_right_nibble08\": 161,\n",
            "    \"f0_rd_comp_rise_rm_nib_09\": [\n",
            "        70,\n",
            "        138\n",
            "    ],\n",
            "    \"f0_rd_simp_rise_rm_nib_11\": [\n",
            "        78,\n",
            "        152\n",
            "    ],\n",
            "    \"f1_wrdqdbi_deskew_dq_odly_fcrse_bit33\": 0,\n",
            "    \"f0_rddq_pqtr_right_fcrse_nibble00\": 173,\n",
            "    \"f0_wrdqdbi_odly_dq_final_bit29\": 71,\n",
            "    \"f1_wrdqdbi_stg2_dq_odly_bit57\": 0,\n",
            "    \"f1_rdprbs_pqtr_right_margin_nibble13\": 0,\n",
            "    \"ddrmc_ub_isr\": 0,\n",
            "    \"phy_rden10_dly\": 22,\n",
            "    \"f0_wrcmplx_right_margin_byte6\": 62,\n",
            "    \"f0_rdcmplx_pqtr_left_short_nibble10\": 21,\n",
            "    \"f1_rddq_qtr_deskew_nibble09\": 0,\n",
            "    \"bisc_pqtr_nibble00\": 84,\n",
            "    \"cal_warning_31\": 0,\n",
            "    \"f1_wrdqdbi_stg5_dqs_odly_byte4\": 0,\n",
            "    \"f1_rdcmplx_pqtr_final_nibble09\": 0,\n",
            "    \"f0_rd_comp_fall_rm_nib_07\": [\n",
            "        62,\n",
            "        119\n",
            "    ],\n",
            "    \"f0_rd_comp_fall_ctp_nib_02\": [\n",
            "        89,\n",
            "        172\n",
            "    ],\n",
            "    \"f1_wrdqdbi_odly_dq_final_bit19\": 0,\n",
            "    \"f1_rddq_pqtr_right_fcrse_nibble10\": 0,\n",
            "    \"f1_rddq_pqtr_right_nibble10\": 0,\n",
            "    \"f1_wrdqdbi_deskew_dq_odly_fcrse_bit08\": 0,\n",
            "    \"f1_dqsgate_stg1_overflow_51\": 0,\n",
            "    \"f0_rddq_idelay_final_bit37\": 62,\n",
            "    \"wrvref_left_vref_upp_bound_rank0_byte2\": 0,\n",
            "    \"f0_rddq_nqtr_left_nibble14\": 21,\n",
            "    \"rdvref_right_vref_low_bound_nibble07\": 0,\n",
            "    \"wrvref_left_vref_low_bound_rank0_byte7\": 0,\n",
            "    \"f1_wrdqdbi_stg1_bit_status_byte7\": 0,\n",
            "    \"f0_wr_simp_ctp_byte_04\": [\n",
            "        278,\n",
            "        545\n",
            "    ],\n",
            "    \"f1_wrdqdbi_deskew_dq_odly_fcrse_bit51\": 0,\n",
            "    \"f0_wrcmplx_right_margin_fcrse_byte5\": 60,\n",
            "    \"nsu1_perf_mon_0_2\": 0,\n",
            "    \"f1_ps_factor\": 0.0,\n",
            "    \"f1_wrdqdbi_left_margin_byte4\": 0,\n",
            "    \"f1_rddq_nqtr_left_nibble05\": 0,\n",
            "    \"f1_wrdqdbi_stg3_dq_odly_bit02\": 0,\n",
            "    \"f0_wrdqdbi_stg3_dq_odly_bit46\": 37,\n",
            "    \"rdvref_left_vref_def_nibble09\": 0,\n",
            "    \"f1_rdcmplx_pqtr_left_nibble07\": 0,\n",
            "    \"f0_rd_simp_fall_lm_nib_10\": [\n",
            "        74,\n",
            "        142\n",
            "    ],\n",
            "    \"f1_rddq_nqtr_right_nibble04\": 0,\n",
            "    \"f1_dqsgate_stg1_rldlyrnk_fine_rank0_byte3\": 0,\n",
            "    \"f1_wrdqdbi_odly_dq_final_bit21\": 0,\n",
            "    \"f0_dqsgate_read_lat_final_byte1\": 26,\n",
            "    \"f0_wrlvl_offset_rank0_byte4\": 82,\n",
            "    \"f0_wrcmplx_odly_dq_final_bit42\": 37,\n",
            "    \"f1_wrdqdbi_stg3_dq_odly_bit53\": 0,\n",
            "    \"f0_wrlvl_fine_left_rank0_byte0\": 47,\n",
            "    \"f1_rddq_nqtr_left_nibble02\": 0,\n",
            "    \"f1_wrlat_init_latency\": 0,\n",
            "    \"f0_rd_comp_rise_lm_nib_06\": [\n",
            "        66,\n",
            "        132\n",
            "    ],\n",
            "    \"f1_wrdqdbi_right_margin_fcrse_byte6\": 0,\n",
            "    \"f0_rd_simp_rise_lm_nib_13\": [\n",
            "        79,\n",
            "        154\n",
            "    ],\n",
            "    \"cal_error_bit_phy_nibble_04\": 0,\n",
            "    \"f0_wrdqdbi_deskew_dq_odly_bit01\": 131,\n",
            "    \"bisc_idly0_align_nibble11\": 76,\n",
            "    \"phy_rden15_dly\": 26,\n",
            "    \"f1_calbisc_rl_dly_qtr_nibble04\": 0,\n",
            "    \"f1_rddq_nqtr_left_nibble08\": 0,\n",
            "    \"f0_rdprbs_pqtr_left_margin_nibble04\": 0,\n",
            "    \"f1_rddq_pqtr_final_nibble07\": 0,\n",
            "    \"f0_calbisc_rl_dly_qtr_nibble13\": 80,\n",
            "    \"f1_wrdqdbi_right_edge_dqs_byte1\": 0,\n",
            "    \"f1_wrdqdbi_stg3_dq_odly_bit50\": 0,\n",
            "    \"f0_rd_comp_fall_rm_nib_10\": [\n",
            "        64,\n",
            "        123\n",
            "    ],\n",
            "    \"f1_wrdqdbi_stg4_dqs_delay_byte1\": 0,\n",
            "    \"f0_rdcmplx_pqtr_right_short_nibble09\": 169,\n",
            "    \"f1_dqsgate_stg2_rldlyrnk_crse_rank0_byte4\": 0,\n",
            "    \"f0_rd_comp_fall_ctp_nib_15\": [\n",
            "        90,\n",
            "        176\n",
            "    ],\n",
            "    \"rdvref_right_vref_def_nibble00\": 0,\n",
            "    \"f1_dqsgate_stg1_overflow_25\": 0,\n",
            "    \"rdvref_vref_low_bound_nibble13\": 0,\n",
            "    \"wrvref_vref_low_bound_rank0_byte4\": 0,\n",
            "    \"f0_dqsgate_stg1_overflow_29\": 0,\n",
            "    \"f0_wrdqdbi_odly_dq_final_bit34\": 24,\n",
            "    \"f0_rddq_idelay_final_bit59\": 73,\n",
            "    \"dimm_type\": 1,\n",
            "    \"f1_dqsgate_stg1_overflow_21\": 0,\n",
            "    \"0x3c_EN_VT_TRACK\": \"Pass\",\n",
            "    \"f1_rdcmplx_pqtr_left_short_nibble03\": 0,\n",
            "    \"f1_rddq_nqtr_final_nibble10\": 0,\n",
            "    \"rdmargin_pqtr_left_nibble10\": 0,\n",
            "    \"f1_dqsgate_stg1_overflow_14\": 0,\n",
            "    \"bisc_mon_align_nibble15\": 0,\n",
            "    \"f1_wrdqdbi_left_edge_dbi_byte1\": 0,\n",
            "    \"f1_dqsgate_stg1_rldlyrnk_crse_rank0_byte3\": 0,\n",
            "    \"f1_wrdqdbi_stg2_dq_odly_bit13\": 0,\n",
            "    \"f0_wrdqdbi_odly_dq_final_bit33\": 14,\n",
            "    \"f0_wrdqdbi_odly_dqs_final_byte6\": 45,\n",
            "    \"f0_wrcmplx_left_margin_fcrse_byte1\": 70,\n",
            "    \"f0_wrlvl_fine_right_rank0_byte6\": 31,\n",
            "    \"f0_wrdqdbi_stg4_dqs_delay_byte4\": 14,\n",
            "    \"f0_rdprbs_pqtr_left_margin_nibble10\": 0,\n",
            "    \"bisc_pqtr_align_nibble10\": 1,\n",
            "    \"f0_rdcmplx_pqtr_left_nibble07\": 21,\n",
            "    \"f0_wrdqdbi_stg1_dqs_delay_byte6\": 45,\n",
            "    \"f1_wrdqdbi_stg3_dq_odly_bit29\": 0,\n",
            "    \"f0_rdcmplx_nqtr_right_nibble14\": 145,\n",
            "    \"f1_rdcmplx_nqtr_left_nibble01\": 0,\n",
            "    \"f1_wrcmplx_right_margin_byte2\": 0,\n",
            "    \"rdvref_right_vref_final_nibble03\": 0,\n",
            "    \"f0_rdprbs_pqtr_left_margin_nibble07\": 0,\n",
            "    \"f1_wrdqdbi_deskew_dq_odly_bit18\": 0,\n",
            "    \"cal_warning_02\": 0,\n",
            "    \"cal_stage_time_17\": 134,\n",
            "    \"cal_stage_time_16\": 0,\n",
            "    \"cal_stage_time_58\": 0,\n",
            "    \"f1_wrdqdbi_deskew_dq_odly_fcrse_bit26\": 0,\n",
            "    \"f0_wrdqdbi_stg1_byte_status_00\": 511,\n",
            "    \"iobmap_dq_67_66\": 0,\n",
            "    \"vttrack_rldlyqtr_min_nibble05\": 78,\n",
            "    \"f0_rd_comp_rise_ctp_nib_01\": [\n",
            "        97,\n",
            "        187\n",
            "    ],\n",
            "    \"f0_wrdqdbi_odly_dq_final_bit52\": 36,\n",
            "    \"nsu3_perf_mon_0_1\": 0,\n",
            "    \"f1_wrdqdbi_stg3_dq_odly_bit09\": 0,\n",
            "    \"f0_rddq_pqtr_right_nibble11\": 173,\n",
            "    \"iobmap_dq_37_36\": 0,\n",
            "    \"phy_rank_write_override\": 0,\n",
            "    \"vttrack_rldlyqtr_nibble00\": 81,\n",
            "    \"phy_oe_nib5_dly\": 1,\n",
            "    \"f0_wrcmplx_right_margin_fcrse_byte4\": 60,\n",
            "    \"f1_rddq_pqtr_left_nibble01\": 0,\n",
            "    \"f1_rdcmplx_pqtr_left_nibble01\": 0,\n",
            "    \"f1_rdcmplx_pqtr_final_nibble06\": 0,\n",
            "    \"f1_calbisc_rl_dly_pqtr_nibble04\": 0,\n",
            "    \"power_down_exit_restore_error\": 0,\n",
            "    \"f0_wrcmplx_odly_dqs_final_byte5\": 53,\n",
            "    \"f1_wrdqdbi_stg3_dq_odly_bit46\": 0,\n",
            "    \"f0_wrcmplx_left_margin_byte7\": 76,\n",
            "    \"f1_wrcmplx_odly_dq_final_bit57\": 0,\n",
            "    \"ddrmc_isr_uc0_ecc1\": 0,\n",
            "    \"reg_config0\": 4198928,\n",
            "    \"f0_wrcmplx_odly_dq_final_bit18\": 32,\n",
            "    \"f1_wrdqdbi_left_edge_dbi_byte0\": 0,\n",
            "    \"bisc_nqtr_align_nibble05\": 0,\n",
            "    \"f0_rddq_pqtr_left_nibble03\": 18,\n",
            "    \"f1_dqsgate_stg1_overflow_19\": 0,\n",
            "    \"f0_wrdqdbi_right_margin_byte2\": 64,\n",
            "    \"vttrack_rldlyqtr_nibble05\": 81,\n",
            "    \"f0_rdcmplx_nqtr_final_nibble12\": 82,\n",
            "    \"cal_seq_status_42\": 0,\n",
            "    \"f0_wrlat_phy_oe_nib_final_byte0\": 0,\n",
            "    \"f0_rdcmplx_idelay_offset_nibble02\": 0,\n",
            "    \"f0_dqsgate_stg1_overflow_58\": 0,\n",
            "    \"f0_rddq_qtr_deskew_nibble11\": 1,\n",
            "    \"f1_rdcmplx_pqtr_right_short_fcrse_nibble02\": 0,\n",
            "    \"f1_wrdqdbi_stg3_dq_odly_bit22\": 0,\n",
            "    \"f0_rdcmplx_nqtr_left_short_nibble06\": 27,\n",
            "    \"f1_rdcmplx_idelay_offset_nibble06\": 0,\n",
            "    \"f0_calbisc_rl_dly_nqtr_nibble12\": 81,\n",
            "    \"f0_dqsgate_stg1_overflow_62\": 0,\n",
            "    \"pcsr_control_ub_init\": 1,\n",
            "    \"f0_calbisc_rl_dly_qtr_nibble01\": 81,\n",
            "    \"f0_dqsgate_stg1_read_lat_rank0_byte4\": 24,\n",
            "    \"f1_rdcmplx_pqtr_left_short_nibble10\": 0,\n",
            "    \"f0_rdcmplx_pqtr_right_short_fcrse_nibble09\": 179,\n",
            "    \"wrvref_right_vref_low_bound_rank0_byte5\": 0,\n",
            "    \"f0_wrlvl_crse_stg1_rank0_byte1\": 3,\n",
            "    \"f0_wrdqdbi_stg3_dq_odly_bit21\": 20,\n",
            "    \"f0_rd_comp_fall_ctp_nib_12\": [\n",
            "        82,\n",
            "        158\n",
            "    ],\n",
            "    \"cal_warning_06\": 0,\n",
            "    \"f0_wrdqdbi_deskew_dq_odly_bit16\": 108,\n",
            "    \"f0_wrdqdbi_odly_dbi_final_byte0\": 56,\n",
            "    \"cal_error_bit_phy_nibble_12\": 0,\n",
            "    \"f1_wrdqdbi_left_edge_dbi_byte4\": 0,\n",
            "    \"nsu1_perf_filter_1_0\": 0,\n",
            "    \"f0_dqsgate_stg2_rldlyrnk_crse_rank0_byte5\": 2,\n",
            "    \"nsu1_perf_mon_1_1\": 0,\n",
            "    \"f0_rdcmplx_pqtr_right_short_nibble02\": 172,\n",
            "    \"f1_wrdqdbi_stg3_dq_odly_bit19\": 0,\n",
            "    \"cal_warning_57\": 0,\n",
            "    \"f0_wrlvl_fine_final_rank0_byte6\": 29,\n",
            "    \"f1_wrdqdbi_deskew_dbi_odly_byte0\": 0,\n",
            "    \"f0_wrdqdbi_deskew_dbi_odly_byte2\": 107,\n",
            "    \"nsu1_perf_mon_1_0\": 0,\n",
            "    \"f1_rddq_idelay_final_bit36\": 0,\n",
            "    \"f1_wrdqdbi_stg3_dq_odly_bit21\": 0,\n",
            "    \"f1_wrcmplx_odly_dq_final_bit43\": 0,\n",
            "    \"f0_wrdqdbi_stg2_dqs_odly_byte7\": 79,\n",
            "    \"f0_wrdqdbi_right_edge_dqs_byte6\": 116,\n",
            "    \"f0_wrlvl_noise_fcrse_rank0_byte7\": 65,\n",
            "    \"f1_wrdqdbi_left_edge_dq_bit02\": 0,\n",
            "    \"f1_wrdqdbi_right_margin_fcrse_byte5\": 0,\n",
            "    \"rdvref_right_vref_final_nibble07\": 0,\n",
            "    \"f0_dqsgate_stg1_overflow_61\": 0,\n",
            "    \"f0_wrlat_match_rank0_byte7\": 17,\n",
            "    \"iobmap_dqs_16\": 0,\n",
            "    \"f0_wrdqdbi_deskew_dq_odly_bit54\": 114,\n",
            "    \"f0_rd_simp_rise_ctp_nib_02\": [\n",
            "        95,\n",
            "        186\n",
            "    ],\n",
            "    \"f0_wrdqdbi_deskew_dq_odly_bit34\": 98,\n",
            "    \"iobmap_dqs_15\": 0,\n",
            "    \"dqstrack_rldlyrnk_fine_min_byte6\": 52,\n",
            "    \"rdvref_right_vref_low_bound_nibble12\": 0,\n",
            "    \"f0_wrlvl_fine_final_rank0_byte3\": 69,\n",
            "    \"f0_rdprbs_nqtr_right_margin_nibble04\": 0,\n",
            "    \"bisc_idly2_align_nibble15\": 77,\n",
            "    \"f1_calbisc_rl_dly_nqtr_nibble11\": 0,\n",
            "    \"f0_dqsgate_stg1_overflow_56\": 0,\n",
            "    \"phy_rden2_dly\": 27,\n",
            "    \"f0_rdcmplx_nqtr_right_nibble02\": 152,\n",
            "    \"vttrack_rldlyqtr_nibble02\": 82,\n",
            "    \"f1_rddq_pqtr_right_fcrse_nibble03\": 0,\n",
            "    \"f1_add_cmd_dly\": 0,\n",
            "    \"f0_rdcmplx_pqtr_left_short_nibble11\": 28,\n",
            "    \"f1_rdcmplx_pqtr_right_short_nibble01\": 0,\n",
            "    \"f1_tck_msb\": 1,\n",
            "    \"wrmargin_right_byte1\": 0,\n",
            "    \"f0_rdcmplx_pqtr_final_nibble11\": 99,\n",
            "    \"f1_wrdqdbi_left_edge_dq_bit37\": 0,\n",
            "    \"rdmargin_pqtr_right_nibble02\": 0,\n",
            "    \"f1_wrlat_phy_data_nib_final_byte5\": 0,\n",
            "    \"f0_wrprbs_right_margin_byte6\": 0,\n",
            "    \"f1_dqsgate_read_lat_final_byte5\": 0,\n",
            "    \"cal_stage_time_03\": 0,\n",
            "    \"f1_rddq_nqtr_final_nibble00\": 0,\n",
            "    \"f0_rdcmplx_nqtr_right_short_fcrse_nibble10\": 175,\n",
            "    \"f0_wrdqdbi_left_edge_dq_bit43\": 23,\n",
            "    \"f1_wrdqdbi_odly_dq_final_bit03\": 0,\n",
            "    \"f0_rd_simp_rise_rm_nib_05\": [\n",
            "        80,\n",
            "        156\n",
            "    ],\n",
            "    \"f1_rdcmplx_nqtr_right_short_fcrse_nibble13\": 0,\n",
            "    \"f1_rddq_nqtr_right_fcrse_nibble11\": 0,\n",
            "    \"f1_wrdqdbi_left_edge_dq_bit47\": 0,\n",
            "    \"f0_rd_comp_rise_lm_nib_02\": [\n",
            "        69,\n",
            "        134\n",
            "    ],\n",
            "    \"f0_xpll_divclk_lt\": 1,\n",
            "    \"mgchk_mode\": 0,\n",
            "    \"cal_seq_status_36\": 307,\n",
            "    \"f0_rdcmplx_pqtr_right_short_nibble13\": 173,\n",
            "    \"f0_wrlvl_crse_stg1_rank0_byte7\": 3,\n",
            "    \"f0_rddq_pqtr_final_nibble09\": 96,\n",
            "    \"bisc_nqtr_nibble15\": 82,\n",
            "    \"f1_dqsgate_stg2_rldlyrnk_crse_rank0_byte3\": 0,\n",
            "    \"f0_wrdqdbi_odly_dq_final_bit25\": 71,\n",
            "    \"f1_wrlvl_offset_rank0_byte5\": 0,\n",
            "    \"f0_calbisc_rl_dly_qtr_nibble09\": 79,\n",
            "    \"f0_wrdqdbi_stg2_dq_odly_bit45\": 37,\n",
            "    \"cal_seq_status_44\": 0,\n",
            "    \"f1_wrdqdbi_odly_dq_final_bit48\": 0,\n",
            "    \"cal_error_bit_phy_nibble_18\": 0,\n",
            "    \"rdvref_vref_low_bound_nibble04\": 0,\n",
            "    \"f1_wrdqdbi_deskew_dbi_odly_byte6\": 0,\n",
            "    \"nsu2_perf_mon_0_0\": 0,\n",
            "    \"f1_wrdqdbi_stg3_dq_odly_bit51\": 0,\n",
            "    \"f1_wrcmplx_odly_dbi_final_byte4\": 0,\n",
            "    \"cal_warning_01\": 0,\n",
            "    \"wrvref_right_vref_def_rank0_byte1\": 0,\n",
            "    \"wrvref_vref_final_rank0_byte2\": 0,\n",
            "    \"f1_wrlvl_fine_right_rank0_byte2\": 0,\n",
            "    \"f1_wrdqdbi_deskew_dq_odly_bit46\": 0,\n",
            "    \"f0_wrdqdbi_stg3_dq_odly_bit53\": 29,\n",
            "    \"f1_wrdqdbi_deskew_dq_odly_bit36\": 0,\n",
            "    \"f0_rdcmplx_nqtr_left_nibble06\": 28,\n",
            "    \"f1_wrdqdbi_stg4_dqs_delay_byte5\": 0,\n",
            "    \"nsu1_perf_mon_0_0\": 0,\n",
            "    \"bisc_idly4_align_nibble01\": 81,\n",
            "    \"rdmargin_pqtr_right_nibble08\": 0,\n",
            "    \"f0_wrcmplx_left_margin_fcrse_byte7\": 70,\n",
            "    \"f0_wrdqdbi_deskew_dq_odly_fcrse_bit41\": 107,\n",
            "    \"ddrmc_isr_dram_parity_fatal_0\": 0,\n",
            "    \"phy_rden19_dly\": 22,\n",
            "    \"f1_wrcmplx_odly_dqs_final_byte3\": 0,\n",
            "    \"f0_calbisc_rl_dly_pqtr_nibble14\": 80,\n",
            "    \"f1_rdcmplx_pqtr_right_short_nibble09\": 0,\n",
            "    \"wrvref_left_vref_low_bound_rank0_byte5\": 0,\n",
            "    \"f0_dqsgate_stg2_rldlyrnk_crse_rank0_byte7\": 1,\n",
            "    \"ecc_en\": 0,\n",
            "    \"f0_rdcmplx_pqtr_right_nibble01\": 171,\n",
            "    \"f1_wrdqdbi_deskew_dq_odly_fcrse_bit06\": 0,\n",
            "    \"f1_wrdqdbi_left_margin_byte5\": 0,\n",
            "    \"f0_wrdqdbi_odly_dq_final_bit36\": 30,\n",
            "    \"bisc_idly5_align_nibble02\": 72,\n",
            "    \"f0_wrdqdbi_left_edge_dq_bit62\": 77,\n",
            "    \"f1_rdcmplx_pqtr_left_nibble15\": 0,\n",
            "    \"f0_rdcmplx_nqtr_left_nibble13\": 26,\n",
            "    \"f1_wrdqdbi_deskew_dq_odly_bit52\": 0,\n",
            "    \"f1_wrdqdbi_right_edge_dqs_byte4\": 0,\n",
            "    \"f1_wrdqdbi_stg5_dqs_odly_byte2\": 0,\n",
            "    \"ddrmc_isr_na_cmd_fatal\": 0,\n",
            "    \"f0_rddq_idelay_final_bit10\": 70,\n",
            "    \"bisc_idly0_align_nibble00\": 68,\n",
            "    \"f0_ps_factor\": 1.9398940772352453,\n",
            "    \"f0_rdcmplx_pqtr_right_nibble04\": 158,\n",
            "    \"mgchk_unit\": 0,\n",
            "    \"f1_rdcmplx_nqtr_final_nibble03\": 0,\n",
            "    \"f0_wrdqdbi_stg3_dq_odly_bit56\": 63,\n",
            "    \"f1_rddq_pqtr_right_fcrse_nibble11\": 0,\n",
            "    \"f0_wr_comp_ctp_byte_01\": [\n",
            "        312,\n",
            "        607\n",
            "    ],\n",
            "    \"f0_wrlat_min_latency\": 16,\n",
            "    \"f0_rddq_pqtr_left_nibble02\": 18,\n",
            "    \"rdmargin_nqtr_right_nibble03\": 0,\n",
            "    \"f0_wrprbs_left_margin_byte1\": 0,\n",
            "    \"f1_wrlat_min_latency\": 0,\n",
            "    \"f0_rd_simp_fall_ctp_nib_05\": [\n",
            "        101,\n",
            "        190\n",
            "    ],\n",
            "    \"mgchk_error\": 0,\n",
            "    \"f1_rdcmplx_nqtr_right_nibble09\": 0,\n",
            "    \"cal_warning_55\": 0,\n",
            "    \"f0_rdcmplx_nqtr_final_nibble05\": 89,\n",
            "    \"f1_wrdqdbi_deskew_dbi_odly_byte7\": 0,\n",
            "    \"f1_rddq_nqtr_final_nibble08\": 0,\n",
            "    \"f1_rddq_idelay_final_bit01\": 0,\n",
            "    \"f1_rddq_pqtr_right_nibble01\": 0,\n",
            "    \"f1_rdcmplx_nqtr_left_short_nibble02\": 0,\n",
            "    \"xpi_read_dbi\": 0,\n",
            "    \"f0_wrdqdbi_stg2_dq_odly_bit11\": 55,\n",
            "    \"f0_wrdqdbi_deskew_dq_odly_fcrse_bit22\": 100,\n",
            "    \"f0_wr_simp_rm_byte_03\": [\n",
            "        74,\n",
            "        145\n",
            "    ],\n",
            "    \"rdvref_left_vref_low_bound_nibble13\": 0,\n",
            "    \"f0_rdcmplx_nqtr_left_nibble14\": 22,\n",
            "    \"bisc_idly3_align_nibble15\": 77,\n",
            "    \"f1_wrcmplx_left_margin_fcrse_byte5\": 0,\n",
            "    \"f0_period\": 625,\n",
            "    \"f0_wrdqdbi_deskew_dq_odly_fcrse_bit44\": 127,\n",
            "    \"f0_rdcmplx_pqtr_right_short_nibble15\": 169,\n",
            "    \"f0_wrlat_init_latency\": 16,\n",
            "    \"f0_rdcmplx_pqtr_left_nibble12\": 23,\n",
            "    \"nsu3_perf_filter_1_0\": 0,\n",
            "    \"cal_status\": \"PASS\",\n",
            "    \"f1_wrdqdbi_deskew_dq_odly_bit55\": 0,\n",
            "    \"f0_wrdqdbi_stg2_dq_odly_bit12\": 55,\n",
            "    \"dqstrack_rldlyrnk_fine_min_byte0\": 64,\n",
            "    \"f0_wrlat_wldlyrnk_crse_final_rank0_byte2\": 0,\n",
            "    \"f1_wrlvl_noise_fcrse_rank0_byte3\": 0,\n",
            "    \"f0_wrlat_wldlyrnk_crse_final_rank0_byte4\": 3,\n",
            "    \"f1_rdcmplx_pqtr_left_nibble08\": 0,\n",
            "    \"cal_warning_48\": 0,\n",
            "    \"iobmap_dq_51_50\": 0,\n",
            "    \"f0_dqsgate_stg2_rldlyrnk_crse_rank0_byte2\": 1,\n",
            "    \"f0_rdcmplx_pqtr_left_nibble04\": 24,\n",
            "    \"f0_rdcmplx_nqtr_right_short_nibble04\": 171,\n",
            "    \"f0_wrdqdbi_deskew_dq_odly_fcrse_bit31\": 149,\n",
            "    \"f0_wrdqdbi_odly_dq_final_bit43\": 32,\n",
            "    \"f1_wrdqdbi_odly_dq_final_bit45\": 0,\n",
            "    \"iobmap_dq_17_16\": 0,\n",
            "    \"f1_rdcmplx_nqtr_right_short_nibble06\": 0,\n",
            "    \"f0_rd_simp_rise_ctp_nib_10\": [\n",
            "        92,\n",
            "        182\n",
            "    ],\n",
            "    \"f1_wrdqdbi_left_edge_dbi_byte3\": 0,\n",
            "    \"f1_rdcmplx_pqtr_right_nibble02\": 0,\n",
            "    \"dc0_perf_mon\": 62,\n",
            "    \"dc1_perf_mon_6\": 0,\n",
            "    \"f0_wrdqdbi_deskew_dq_odly_fcrse_bit16\": 100,\n",
            "    \"vttrack_rldlyqtr_min_nibble06\": 77,\n",
            "    \"f0_wr_simp_lm_byte_06\": [\n",
            "        79,\n",
            "        154\n",
            "    ],\n",
            "    \"dqstrack_rldlyrnk_crse_min_byte1\": 4,\n",
            "    \"cal_warning_21\": 0,\n",
            "    \"f1_wrdqdbi_left_edge_dq_bit39\": 0,\n",
            "    \"f1_wrdqdbi_deskew_dq_odly_fcrse_bit10\": 0,\n",
            "    \"dc0_perf_mon_6\": 0,\n",
            "    \"f0_wrdqdbi_stg6_dbi_odly_byte0\": 50,\n",
            "    \"f0_rd_simp_fall_ctp_nib_00\": [\n",
            "        95,\n",
            "        183\n",
            "    ],\n",
            "    \"cal_post_status_00\": 0,\n",
            "    \"f1_wrcmplx_odly_dq_final_bit58\": 0,\n",
            "    \"f0_wrlvl_offset_rank0_byte5\": 82,\n",
            "    \"f1_wrdqdbi_left_edge_dbi_byte6\": 0,\n",
            "    \"f0_wrdqdbi_deskew_dq_odly_bit15\": 132,\n",
            "    \"f0_wrcmplx_odly_dq_final_bit53\": 46,\n",
            "    \"bisc_idly0_align_nibble04\": 0,\n",
            "    \"f0_rd_simp_fall_lm_nib_13\": [\n",
            "        74,\n",
            "        144\n",
            "    ],\n",
            "    \"rdvref_vref_upp_bound_nibble15\": 0,\n",
            "    \"f0_rddq_nqtr_right_fcrse_nibble15\": 177,\n",
            "    \"f0_wrdqdbi_deskew_dq_odly_bit30\": 151,\n",
            "    \"f1_wrdqdbi_stg2_dq_odly_bit30\": 0,\n",
            "    \"f1_rdcmplx_pqtr_right_short_fcrse_nibble06\": 0,\n",
            "    \"f0_wrdqdbi_deskew_dbi_odly_byte4\": 95,\n",
            "    \"rdvref_left_vref_low_bound_nibble03\": 0,\n",
            "    \"f0_rddq_qtr_deskew_nibble13\": 1,\n",
            "    \"wrvref_right_vref_final_rank0_byte4\": 0,\n",
            "    \"f1_rddq_pqtr_right_nibble00\": 0,\n",
            "    \"f1_wrdqdbi_deskew_dbi_odly_fcrse_byte1\": 0,\n",
            "    \"f0_wrdqdbi_odly_dq_final_bit59\": 61,\n",
            "    \"dqstrack_rldlyrnk_fine_byte2\": 26,\n",
            "    \"f0_rd_comp_fall_lm_nib_00\": [\n",
            "        64,\n",
            "        123\n",
            "    ],\n",
            "    \"f0_rdcmplx_nqtr_right_nibble08\": 132,\n",
            "    \"f0_dqsgate_stg1_overflow_25\": 0,\n",
            "    \"f0_wrdqdbi_deskew_dq_odly_fcrse_bit55\": 109,\n",
            "    \"f0_rdcmplx_pqtr_right_nibble06\": 154,\n",
            "    \"f1_rdcmplx_nqtr_final_nibble01\": 0,\n",
            "    \"f0_rddq_idelay_final_bit17\": 70,\n",
            "    \"f0_wrdqdbi_stg2_dq_odly_bit56\": 63,\n",
            "    \"wrvref_left_vref_def_rank0_byte7\": 0,\n",
            "    \"f1_wrprbs_left_margin_byte1\": 0,\n",
            "    \"f0_wrcmplx_odly_dq_final_bit10\": 59,\n",
            "    \"f1_wrlvl_crse_final_rank0_byte6\": 0,\n",
            "    \"f1_wrdqdbi_odly_dqs_final_byte5\": 0,\n",
            "    \"f0_wrdqdbi_odly_dqs_final_byte2\": 36,\n",
            "    \"f0_rddq_qtr_deskew_nibble01\": 1,\n",
            "    \"dqstrack_rldlyrnk_fine_max_byte1\": 53,\n",
            "    \"rdvref_vref_final_nibble06\": 0,\n",
            "    \"f1_wrdqdbi_deskew_dbi_odly_byte4\": 0,\n",
            "    \"f0_dqsgate_rldlyrnk_crse_final_rank0_byte7\": 1,\n",
            "    \"f0_wrlvl_fine_final_rank0_byte5\": 37,\n",
            "    \"iobmap_dqs_7\": 0,\n",
            "    \"f0_wrdqdbi_deskew_dq_odly_fcrse_bit52\": 109,\n",
            "    \"bisc_pqtr_nibble07\": 80,\n",
            "    \"dqstrack_rldlyrnk_fine_min_byte2\": 26,\n",
            "    \"rdvref_left_vref_low_bound_nibble06\": 0,\n",
            "    \"wrvref_vref_low_bound_rank0_byte1\": 0,\n",
            "    \"f1_wrdqdbi_stg1_bit_status_byte0\": 0,\n",
            "    \"f0_wrcmplx_odly_dq_final_bit11\": 60,\n",
            "    \"f0_rdprbs_nqtr_left_margin_nibble03\": 0,\n",
            "    \"f0_wrlvl_fine_right_rank0_byte2\": 22,\n",
            "    \"f0_rdcmplx_pqtr_final_nibble09\": 94,\n",
            "    \"f1_wrdqdbi_left_edge_dq_bit20\": 0,\n",
            "    \"cal_stage_time_60\": 16,\n",
            "    \"f1_rdcmplx_nqtr_right_nibble02\": 0,\n",
            "    \"f0_wr_simp_ctp_byte_05\": [\n",
            "        293,\n",
            "        572\n",
            "    ],\n",
            "    \"bisc_idly0_align_nibble10\": 64,\n",
            "    \"cal_stage.11_READ_DQS_TRACK\": \"Pass\",\n",
            "    \"f0_wr_comp_ctp_byte_02\": [\n",
            "        36,\n",
            "        69\n",
            "    ],\n",
            "    \"f0_wrdqdbi_left_edge_dq_bit54\": 35,\n",
            "    \"dqstrack_rldlyrnk_crse_byte0\": 3,\n",
            "    \"f0_wrlat_match_rank0_byte6\": 17,\n",
            "    \"vttrack_rldlyqtr_nibble04\": 81,\n",
            "    \"f0_wrdqdbi_stg2_dq_odly_bit49\": 29,\n",
            "    \"f0_wrdqdbi_odly_dq_final_bit27\": 84,\n",
            "    \"f1_wrdqdbi_odly_dbi_final_byte0\": 0,\n",
            "    \"f1_calbisc_rl_dly_qtr_nibble09\": 0,\n",
            "    \"cal_stage_time_33\": 0,\n",
            "    \"f0_wrdqdbi_deskew_dq_odly_bit05\": 139,\n",
            "    \"f0_wrlvl_fine_left_rank0_byte3\": 67,\n",
            "    \"f1_dram_2t_mode\": 1,\n",
            "    \"rdmargin_nqtr_left_nibble10\": 0,\n",
            "    \"f1_wrlat_phy_oe_nib_final_byte0\": 0,\n",
            "    \"wrvref_vref_final_rank0_byte4\": 0,\n",
            "    \"f1_wrcmplx_odly_dq_final_bit61\": 0,\n",
            "    \"f1_dqsgate_stg1_overflow_31\": 0,\n",
            "    \"f1_wrcmplx_left_margin_byte6\": 0,\n",
            "    \"cal_seq_status_26\": 297,\n",
            "    \"f0_wr_comp_ctp_byte_05\": [\n",
            "        293,\n",
            "        572\n",
            "    ],\n",
            "    \"f0_wrdqdbi_left_edge_dq_bit02\": 45,\n",
            "    \"wrvref_right_vref_upp_bound_rank0_byte0\": 0,\n",
            "    \"f1_wrdqdbi_stg2_dq_odly_bit02\": 0,\n",
            "    \"f1_calbisc_rl_dly_qtr_nibble11\": 0,\n",
            "    \"f0_wr_comp_rm_byte_04\": [\n",
            "        62,\n",
            "        121\n",
            "    ],\n",
            "    \"f1_wrlvl_crse_stg1_rank0_byte4\": 0,\n",
            "    \"f0_rdcmplx_nqtr_left_nibble08\": 20,\n",
            "    \"f0_wrdqdbi_stg3_dq_odly_bit38\": 21,\n",
            "    \"f0_rdcmplx_nqtr_left_short_nibble07\": 25,\n",
            "    \"rdvref_vref_final_nibble00\": 0,\n",
            "    \"f0_wrdqdbi_deskew_dbi_odly_fcrse_byte2\": 100,\n",
            "    \"f0_wrcmplx_left_margin_fcrse_byte5\": 70,\n",
            "    \"f1_wrdqdbi_deskew_dq_odly_bit48\": 0,\n",
            "    \"f1_dm_dbi_en\": 1,\n",
            "    \"f0_rdprbs_nqtr_left_margin_nibble04\": 0,\n",
            "    \"f0_rdprbs_nqtr_right_margin_nibble07\": 0,\n",
            "    \"f0_wrdqdbi_deskew_dq_odly_fcrse_bit23\": 90,\n",
            "    \"rdmargin_pqtr_right_nibble13\": 0,\n",
            "    \"f0_db_bc0a\": 0,\n",
            "    \"f0_wrdqdbi_odly_dq_final_bit61\": 76,\n",
            "    \"f1_calbisc_rl_dly_qtr_nibble02\": 0,\n",
            "    \"nsu2_perf_mon_ctl_1_0\": 0,\n",
            "    \"f1_wrdqdbi_odly_dq_final_bit36\": 0,\n",
            "    \"rdvref_right_vref_def_nibble15\": 0,\n",
            "    \"f1_rddq_idelay_final_bit17\": 0,\n",
            "    \"f1_wrdqdbi_deskew_dq_odly_fcrse_bit02\": 0,\n",
            "    \"cal_warning_37\": 0,\n",
            "    \"wrmargin_left_byte6\": 0,\n",
            "    \"f0_rdcmplx_pqtr_left_short_nibble04\": 21,\n",
            "    \"rdvref_right_vref_low_bound_nibble04\": 0,\n",
            "    \"f1_wrdqdbi_stg2_dq_odly_bit49\": 0,\n",
            "    \"f1_wrdqdbi_odly_dq_final_bit33\": 0,\n",
            "    \"ub_data_ue\": 0,\n",
            "    \"wrvref_left_vref_upp_bound_rank0_byte0\": 0,\n",
            "    \"f1_wrdqdbi_deskew_dq_odly_fcrse_bit37\": 0,\n",
            "    \"f0_mr3_8_0\": 32,\n",
            "    \"ddrmc_clk_mux\": 1,\n",
            "    \"rdvref_left_vref_def_nibble01\": 0,\n",
            "    \"wrmargin_right_byte7\": 0,\n",
            "    \"f0_rdcmplx_pqtr_left_nibble01\": 23,\n",
            "    \"f0_dqsgate_stg1_rldlyrnk_fine_rank0_byte3\": 4,\n",
            "    \"f0_wrdqdbi_deskew_dq_odly_fcrse_bit03\": 130,\n",
            "    \"f1_calbisc_rl_dly_pqtr_nibble06\": 0,\n",
            "    \"f0_wrdqdbi_deskew_dq_odly_bit35\": 89,\n",
            "    \"f1_wrdqdbi_stg2_dqs_odly_byte4\": 0,\n",
            "    \"f1_wrdqdbi_left_edge_dq_bit50\": 0,\n",
            "    \"f0_rd_simp_rise_ctp_nib_05\": [\n",
            "        98,\n",
            "        191\n",
            "    ],\n",
            "    \"cal_error_bit_phy_nibble_15\": 0,\n",
            "    \"f1_rdcmplx_nqtr_right_short_nibble10\": 0,\n",
            "    \"f1_calbisc_rl_dly_pqtr_nibble05\": 0,\n",
            "    \"rdvref_vref_final_nibble07\": 0,\n",
            "    \"f0_rd_comp_rise_rm_nib_13\": [\n",
            "        72,\n",
            "        140\n",
            "    ],\n",
            "    \"iobmap_dq_5_4\": 0,\n",
            "    \"nsu3_perf_mon_ctl_0_1\": 0,\n",
            "    \"f0_wrlat_phy_oe_nib_final_byte4\": 1,\n",
            "    \"f1_dqsgate_rldlyrnk_crse_final_rank0_byte1\": 0,\n",
            "    \"f1_rdprbs_pqtr_right_margin_nibble07\": 0,\n",
            "    \"bisc_pqtr_align_nibble15\": 0,\n",
            "    \"cal_warning_09\": 0,\n",
            "    \"vttrack_rldlyqtr_min_nibble01\": 77,\n",
            "    \"f0_wrlvl_crse_stg1_rank0_byte6\": 3,\n",
            "    \"f0_rd_simp_fall_ctp_nib_02\": [\n",
            "        99,\n",
            "        191\n",
            "    ],\n",
            "    \"f0_rddq_nqtr_left_nibble08\": 19,\n",
            "    \"f0_wrdqdbi_stg3_dq_odly_bit13\": 55,\n",
            "    \"cal_error_phy_nibble_8_0\": 0,\n",
            "    \"rdmargin_nqtr_left_nibble05\": 0,\n",
            "    \"f0_wrdqdbi_left_edge_dq_bit31\": 79,\n",
            "    \"rdvref_right_vref_final_nibble14\": 0,\n",
            "    \"cal_warning_50\": 0,\n",
            "    \"cal_stage_time_13\": 74,\n",
            "    \"f0_rdcmplx_pqtr_right_short_fcrse_nibble00\": 176,\n",
            "    \"f1_rddq_qtr_deskew_nibble00\": 0,\n",
            "    \"f1_wrdqdbi_right_margin_byte0\": 0,\n",
            "    \"f1_wrdqdbi_stg2_dq_odly_bit27\": 0,\n",
            "    \"f1_wrdqdbi_odly_dbi_final_byte1\": 0,\n",
            "    \"f1_rdcmplx_nqtr_left_short_nibble05\": 0,\n",
            "    \"bisc_idly4_align_nibble06\": 68,\n",
            "    \"f1_wrlvl_fine_right_rank0_byte3\": 0,\n",
            "    \"f1_wrdqdbi_stg4_dqs_delay_byte0\": 0,\n",
            "    \"f0_rd_comp_fall_lm_nib_10\": [\n",
            "        64,\n",
            "        123\n",
            "    ],\n",
            "    \"f0_dqsgate_stg1_overflow_57\": 0,\n",
            "    \"f1_wrdqdbi_left_edge_dq_bit15\": 0,\n",
            "    \"f0_wrdqdbi_stg1_bit_status_byte5\": 0,\n",
            "    \"f1_rdcmplx_nqtr_final_nibble04\": 0,\n",
            "    \"f0_rd_simp_fall_rm_nib_03\": [\n",
            "        76,\n",
            "        144\n",
            "    ],\n",
            "    \"cal_stage_time_29\": 0,\n",
            "    \"f1_wrlat_wldlyrnk_crse_final_rank0_byte0\": 0,\n",
            "    \"f0_rddq_idelay_final_bit15\": 71,\n",
            "    \"f1_wrlvl_fine_final_rank0_byte5\": 0,\n",
            "    \"f1_rddq_idelay_final_bit49\": 0,\n",
            "    \"tag_ver_2\": 0,\n",
            "    \"f0_wrdqdbi_deskew_dq_odly_bit46\": 125,\n",
            "    \"f0_wrdqdbi_odly_dq_final_bit02\": 51,\n",
            "    \"f0_rddq_idelay_final_bit39\": 67,\n",
            "    \"cal_error_bit_phy_nibble_02\": 0,\n",
            "    \"rdmargin_pqtr_right_nibble01\": 0,\n",
            "    \"f0_wrdqdbi_stg3_dq_odly_bit05\": 50,\n",
            "    \"f0_rdcmplx_nqtr_right_short_nibble12\": 157,\n",
            "    \"f1_wrdqdbi_odly_dq_final_bit29\": 0,\n",
            "    \"f1_rdcmplx_nqtr_left_nibble02\": 0,\n",
            "    \"f0_wr_comp_rm_byte_02\": [\n",
            "        60,\n",
            "        115\n",
            "    ],\n",
            "    \"f0_wrdqdbi_deskew_dq_odly_fcrse_bit48\": 99,\n",
            "    \"f1_rddq_nqtr_left_nibble00\": 0,\n",
            "    \"f0_rddq_pqtr_final_nibble00\": 90,\n",
            "    \"f0_wrdqdbi_stg1_bit_status_byte3\": 0,\n",
            "    \"ddrmc_isr_ch0_data_par\": 0,\n",
            "    \"f0_rdcmplx_pqtr_left_short_nibble00\": 20,\n",
            "    \"f0_rdcmplx_nqtr_final_nibble13\": 86,\n",
            "    \"f1_dqsgate_stg1_overflow_05\": 0,\n",
            "    \"f0_wr_comp_lm_byte_03\": [\n",
            "        76,\n",
            "        149\n",
            "    ],\n",
            "    \"f0_wrdqdbi_right_edge_dqs_byte3\": 159,\n",
            "    \"f0_calbisc_rl_dly_nqtr_nibble07\": 81,\n",
            "    \"f1_wrdqdbi_stg3_dq_odly_bit12\": 0,\n",
            "    \"f0_dqsgate_stg1_overflow_05\": 0,\n",
            "    \"f0_rdcmplx_nqtr_final_nibble07\": 88,\n",
            "    \"rdvref_right_vref_final_nibble02\": 0,\n",
            "    \"f0_calbisc_rl_dly_qtr_nibble15\": 80,\n",
            "    \"f1_wrlvl_offset_rank0_byte7\": 0,\n",
            "    \"f1_wrcmplx_odly_dq_final_bit35\": 0,\n",
            "    \"bisc_nqtr_align_nibble00\": 0,\n",
            "    \"f0_wrdqdbi_left_edge_dq_bit49\": 27,\n",
            "    \"f0_wrdqdbi_deskew_dq_odly_fcrse_bit39\": 91,\n",
            "    \"f0_wrdqdbi_stg5_dqs_odly_byte4\": 37,\n",
            "    \"f0_wrdqdbi_left_edge_dq_bit59\": 56,\n",
            "    \"cal_stage_time_52\": 0,\n",
            "    \"f1_wrcmplx_left_margin_byte0\": 0,\n",
            "    \"f0_rddq_pqtr_right_nibble05\": 178,\n",
            "    \"f0_rddq_nqtr_right_nibble02\": 173,\n",
            "    \"cal_post_status_04\": 0,\n",
            "    \"f1_dqsgate_stg1_overflow_03\": 0,\n",
            "    \"f0_wrcmplx_odly_dq_final_bit05\": 67,\n",
            "    \"f0_wrdqdbi_odly_dq_final_bit10\": 57,\n",
            "    \"f1_wrdqdbi_deskew_dq_odly_fcrse_bit14\": 0,\n",
            "    \"f0_wrdqdbi_odly_dq_final_bit07\": 60,\n",
            "    \"cal_warning_33\": 0,\n",
            "    \"rdmargin_nqtr_left_nibble07\": 0,\n",
            "    \"rdmargin_pqtr_right_nibble10\": 0,\n",
            "    \"f1_wrlvl_noise_fcrse_rank0_byte1\": 0,\n",
            "    \"f1_wrdqdbi_right_margin_byte2\": 0,\n",
            "    \"rdvref_vref_low_bound_nibble02\": 0,\n",
            "    \"f0_wrdqdbi_right_margin_byte0\": 71,\n",
            "    \"f0_wrdqdbi_deskew_dq_odly_fcrse_bit08\": 135,\n",
            "    \"f0_calbisc_rl_dly_pqtr_nibble06\": 78,\n",
            "    \"f0_rd_comp_rise_lm_nib_05\": [\n",
            "        67,\n",
            "        130\n",
            "    ],\n",
            "    \"f0_rd_simp_rise_ctp_nib_08\": [\n",
            "        94,\n",
            "        184\n",
            "    ],\n",
            "    \"f0_mr1_17_9\": 1,\n",
            "    \"dqstrack_rldlyrnk_fine_max_byte7\": 8,\n",
            "    \"f1_wrdqdbi_right_margin_fcrse_byte0\": 0,\n",
            "    \"bisc_idly4_align_nibble12\": 70,\n",
            "    \"rdvref_right_vref_low_bound_nibble02\": 0,\n",
            "    \"f0_rdprbs_nqtr_right_margin_nibble06\": 0,\n",
            "    \"vttrack_rldlyqtr_min_nibble10\": 78,\n",
            "    \"f1_dqsgate_stg2_read_lat_rank0_byte3\": 0,\n",
            "    \"f1_calbisc_rl_dly_pqtr_nibble14\": 0,\n",
            "    \"f1_wrdqdbi_stg3_dq_odly_bit31\": 0,\n",
            "    \"f1_calbisc_rl_dly_pqtr_nibble03\": 0,\n",
            "    \"f1_rddq_idelay_final_bit44\": 0,\n",
            "    \"f0_wrcmplx_odly_dq_final_bit57\": 70,\n",
            "    \"per_rd_en\": 257,\n",
            "    \"f1_calbisc_rl_dly_qtr_nibble15\": 0,\n",
            "    \"f0_rdcmplx_nqtr_right_short_nibble15\": 168,\n",
            "    \"f1_wrprbs_right_margin_byte2\": 0,\n",
            "    \"f1_wrlvl_fine_left_rank0_byte1\": 0,\n",
            "    \"f0_rd_comp_fall_rm_nib_13\": [\n",
            "        61,\n",
            "        119\n",
            "    ],\n",
            "    \"f0_rd_comp_rise_ctp_nib_09\": [\n",
            "        94,\n",
            "        186\n",
            "    ],\n",
            "    \"f0_wrcmplx_odly_dq_final_bit02\": 56,\n",
            "    \"f1_wrdqdbi_stg2_dq_odly_bit19\": 0,\n",
            "    \"f0_wrdqdbi_stg2_dq_odly_bit05\": 50,\n",
            "    \"cal_warning_58\": 0,\n",
            "    \"f1_wrdqdbi_deskew_dq_odly_bit62\": 0,\n",
            "    \"f0_dqsgate_stg1_overflow_48\": 0,\n",
            "    \"f1_wrcmplx_odly_dq_final_bit62\": 0,\n",
            "    \"f0_wrlvl_fine_final_rank0_byte0\": 50,\n",
            "    \"f0_wrdqdbi_right_margin_fcrse_byte1\": 50,\n",
            "    \"bisc_nqtr_align_nibble10\": 0,\n",
            "    \"f0_wrprbs_right_margin_byte7\": 0,\n",
            "    \"f0_wrdqdbi_odly_dq_final_bit09\": 67,\n",
            "    \"f1_wrcmplx_odly_dq_final_bit25\": 0,\n",
            "    \"f0_wrcmplx_odly_dq_final_bit14\": 71,\n",
            "    \"f0_wrdqdbi_right_edge_dqs_byte1\": 126,\n",
            "    \"nsu2_perf_filter_en_0\": 0,\n",
            "    \"f0_wrlvl_crse_final_rank0_byte3\": 0,\n",
            "    \"bisc_nqtr_align_nibble12\": 0,\n",
            "    \"vttrack_rldlyqtr_min_nibble08\": 77,\n",
            "    \"f0_rddq_pqtr_right_fcrse_nibble02\": 183,\n",
            "    \"f0_rddq_idelay_final_bit02\": 74,\n",
            "    \"f1_wrdqdbi_stg3_dq_odly_bit24\": 0,\n",
            "    \"bisc_idly1_align_nibble14\": 68,\n",
            "    \"f0_wrdqdbi_deskew_dbi_odly_byte5\": 124,\n",
            "    \"f0_wrcmplx_odly_dq_final_bit01\": 59,\n",
            "    \"iobmap_dqs_2\": 0,\n",
            "    \"f0_wrcmplx_left_margin_byte3\": 76,\n",
            "    \"f1_wrcmplx_odly_dq_final_bit34\": 0,\n",
            "    \"f0_wrdqdbi_stg3_dq_odly_bit18\": 20,\n",
            "    \"pinout_select\": 17,\n",
            "    \"f0_wrlvl_fine_final_rank0_byte2\": 20,\n",
            "    \"f1_rdcmplx_pqtr_final_nibble00\": 0,\n",
            "    \"bisc_idly5_align_nibble00\": 75,\n",
            "    \"f1_rddq_nqtr_left_nibble10\": 0,\n",
            "    \"f1_rddq_idelay_final_bit07\": 0,\n",
            "    \"cal_warning_26\": 0,\n",
            "    \"cal_seq_status_32\": 303,\n",
            "    \"f1_wrdqdbi_odly_dbi_final_byte3\": 0,\n",
            "    \"f0_wrdqdbi_stg2_dqs_odly_byte1\": 71,\n",
            "    \"f1_rdprbs_pqtr_left_margin_nibble01\": 0,\n",
            "    \"f1_wrdqdbi_odly_dq_final_bit30\": 0,\n",
            "    \"f0_rd_simp_fall_lm_nib_04\": [\n",
            "        73,\n",
            "        139\n",
            "    ],\n",
            "    \"cal_warning_39\": 0,\n",
            "    \"f0_wrlvl_noise_fcrse_rank0_byte6\": 35,\n",
            "    \"f0_rd_comp_fall_ctp_nib_11\": [\n",
            "        90,\n",
            "        174\n",
            "    ],\n",
            "    \"bisc_idly0_align_nibble01\": 76,\n",
            "    \"f0_wr_simp_ctp_byte_02\": [\n",
            "        36,\n",
            "        69\n",
            "    ],\n",
            "    \"f1_wrdqdbi_deskew_dq_odly_fcrse_bit32\": 0,\n",
            "    \"f0_wrlat_match_rank0_byte1\": 16,\n",
            "    \"f1_wrlvl_fine_left_rank0_byte6\": 0,\n",
            "    \"f1_wrdqdbi_left_edge_dq_bit07\": 0,\n",
            "    \"f0_rd_simp_rise_lm_nib_02\": [\n",
            "        77,\n",
            "        150\n",
            "    ],\n",
            "    \"cal_stage_time_38\": 0,\n",
            "    \"f1_rddq_qtr_deskew_nibble13\": 0,\n",
            "    \"f0_rd_simp_fall_ctp_nib_10\": [\n",
            "        93,\n",
            "        179\n",
            "    ],\n",
            "    \"f1_wrcmplx_odly_dq_final_bit04\": 0,\n",
            "    \"wrmargin_left_byte5\": 0,\n",
            "    \"bisc_nqtr_align_nibble07\": 2,\n",
            "    \"cal_error_bit_phy_nibble_10\": 0,\n",
            "    \"vttrack_rldlyqtr_nibble07\": 80,\n",
            "    \"f1_write_latency\": 1,\n",
            "    \"f0_wrdqdbi_stg3_dq_odly_bit45\": 37,\n",
            "    \"rdvref_left_vref_low_bound_nibble15\": 0,\n",
            "    \"f1_rddq_nqtr_right_nibble10\": 0,\n",
            "    \"rdvref_left_vref_def_nibble14\": 0,\n",
            "    \"f0_calbisc_rl_dly_nqtr_nibble01\": 82,\n",
            "    \"f0_wr_simp_rm_byte_00\": [\n",
            "        71,\n",
            "        136\n",
            "    ],\n",
            "    \"f0_calbisc_rl_dly_qtr_nibble10\": 80,\n",
            "    \"reg_retry_0\": 194408526,\n",
            "    \"dc0_perf_mon_4\": 0,\n",
            "    \"f1_dqsgate_stg1_overflow_01\": 0,\n",
            "    \"f1_calbisc_rl_dly_qtr_nibble13\": 0,\n",
            "    \"nsu3_perf_mon_ctl_1_1\": 0,\n",
            "    \"rdvref_left_vref_upp_bound_nibble15\": 0,\n",
            "    \"bisc_idly4_align_nibble15\": 80,\n",
            "    \"f0_wrdqdbi_deskew_dq_odly_fcrse_bit43\": 107,\n",
            "    \"nsu1_perf_filter_en_0\": 0,\n",
            "    \"rdvref_vref_final_nibble05\": 0,\n",
            "    \"f1_rdcmplx_nqtr_right_nibble11\": 0,\n",
            "    \"f0_wrdqdbi_odly_dq_final_bit19\": 21,\n",
            "    \"f0_dqsgate_stg1_rldlyrnk_crse_rank0_byte2\": 9,\n",
            "    \"f1_wrdqdbi_stg6_dbi_odly_byte2\": 0,\n",
            "    \"f1_wrdqdbi_stg3_dq_odly_bit03\": 0,\n",
            "    \"f0_rddq_idelay_final_bit20\": 86,\n",
            "    \"f1_wrcmplx_odly_dq_final_bit46\": 0,\n",
            "    \"f1_rdprbs_nqtr_right_margin_nibble08\": 0,\n",
            "    \"f0_dqsgate_stg1_overflow_33\": 0,\n",
            "    \"f0_wrcmplx_odly_dq_final_bit60\": 74,\n",
            "    \"mgchk_pattern_config_0\": 0,\n",
            "    \"f0_rd_comp_fall_ctp_nib_13\": [\n",
            "        86,\n",
            "        168\n",
            "    ],\n",
            "    \"f1_rdcmplx_nqtr_right_nibble04\": 0,\n",
            "    \"bisc_idly0_align_nibble07\": 75,\n",
            "    \"f1_rdcmplx_pqtr_final_nibble08\": 0,\n",
            "    \"dbi_pins\": 8,\n",
            "    \"f1_dqsgate_stg1_rldlyrnk_fine_rank0_byte0\": 0,\n",
            "    \"wrmargin_left_byte4\": 0,\n",
            "    \"f1_rddq_pqtr_final_nibble02\": 0,\n",
            "    \"nsu2_perf_filter_1_0\": 0,\n",
            "    \"cal_stage_time_48\": 0,\n",
            "    \"f0_dqsgate_read_lat_final_byte0\": 25,\n",
            "    \"f0_wrdqdbi_odly_dq_final_bit13\": 60,\n",
            "    \"cal_time_8_0\": 50,\n",
            "    \"f0_rdcmplx_pqtr_final_nibble13\": 97,\n",
            "    \"f1_dqsgate_stg1_overflow_41\": 0,\n",
            "    \"f1_wrdqdbi_deskew_dq_odly_bit04\": 0,\n",
            "    \"f0_rd_comp_fall_lm_nib_09\": [\n",
            "        59,\n",
            "        116\n",
            "    ],\n",
            "    \"f1_wrcmplx_right_margin_byte1\": 0,\n",
            "    \"f1_rdprbs_nqtr_left_margin_nibble07\": 0,\n",
            "    \"f0_dqsgate_stg1_overflow_04\": 128,\n",
            "    \"f1_dqsgate_stg1_overflow_30\": 0,\n",
            "    \"cal_warning_41\": 0,\n",
            "    \"f0_rdprbs_pqtr_left_margin_nibble12\": 0,\n",
            "    \"cal_seq_status_06\": 264,\n",
            "    \"f0_wrdqdbi_odly_dq_final_bit50\": 26,\n",
            "    \"f0_wrdqdbi_stg2_dq_odly_bit43\": 37,\n",
            "    \"nsu0_perf_filter_1_0\": 0,\n",
            "    \"f1_rddq_idelay_final_bit54\": 0,\n",
            "    \"f0_wrdqdbi_stg2_dq_odly_bit35\": 21,\n",
            "    \"tag_ver_0\": 1,\n",
            "    \"vttrack_rldlyqtr_min_nibble14\": 79,\n",
            "    \"c_code_major_ver\": 4,\n",
            "    \"bisc_pqtr_align_nibble12\": 2,\n",
            "    \"nsu1_perf_mon_1_2\": 0,\n",
            "    \"dqstrack_rldlyrnk_crse_min_byte7\": 5,\n",
            "    \"rdvref_vref_final_nibble11\": 0,\n",
            "    \"bisc_idly3_align_nibble08\": 69,\n",
            "    \"f0_calbisc_rl_dly_nqtr_nibble08\": 80,\n",
            "    \"f1_rddq_nqtr_final_nibble04\": 0,\n",
            "    \"f1_rdcmplx_nqtr_final_nibble06\": 0,\n",
            "    \"f1_rdcmplx_nqtr_right_short_fcrse_nibble12\": 0,\n",
            "    \"cal_warning_10\": 0,\n",
            "    \"bisc_rl_dly_qtr_nibble13\": 80,\n",
            "    \"f1_wrdqdbi_left_margin_byte3\": 0,\n",
            "    \"f0_rddq_idelay_final_bit62\": 85,\n",
            "    \"f0_wrdqdbi_odly_dq_final_bit48\": 32,\n",
            "    \"cal_warning_67\": 0,\n",
            "    \"f0_rdcmplx_nqtr_right_short_nibble07\": 166,\n",
            "    \"f0_dqsgate_stg1_overflow_06\": 0,\n",
            "    \"f1_rdcmplx_pqtr_right_short_nibble02\": 0,\n",
            "    \"bisc_idly2_align_nibble04\": 67,\n",
            "    \"bisc_idly5_align_nibble12\": 72,\n",
            "    \"f0_wrdqdbi_deskew_dq_odly_bit39\": 94,\n",
            "    \"f1_wrdqdbi_left_edge_dq_bit34\": 0,\n",
            "    \"f0_calbisc_rl_dly_nqtr_nibble06\": 81,\n",
            "    \"f1_dqsgate_stg1_read_lat_rank0_byte5\": 0,\n",
            "    \"f0_rddq_pqtr_right_fcrse_nibble01\": 183,\n",
            "    \"cal_seq_status_41\": 447,\n",
            "    \"f0_wr_simp_rm_byte_01\": [\n",
            "        55,\n",
            "        106\n",
            "    ],\n",
            "    \"f0_rd_comp_rise_ctp_nib_02\": [\n",
            "        90,\n",
            "        176\n",
            "    ],\n",
            "    \"f1_rdprbs_pqtr_left_margin_nibble15\": 0,\n",
            "    \"mgchk_def_rd_vref_0\": 373,\n",
            "    \"f1_wrdqdbi_odly_dq_final_bit17\": 0,\n",
            "    \"bisc_idly1_align_nibble08\": 70,\n",
            "    \"f1_rdprbs_nqtr_left_margin_nibble02\": 0,\n",
            "    \"f1_wrdqdbi_stg3_dq_odly_bit32\": 0,\n",
            "    \"rdmargin_nqtr_left_nibble04\": 0,\n",
            "    \"f1_wrdqdbi_deskew_dq_odly_bit28\": 0,\n",
            "    \"f1_wrdqdbi_left_edge_dq_bit44\": 0,\n",
            "    \"f0_rddq_nqtr_right_nibble07\": 173,\n",
            "    \"f0_rd_comp_fall_lm_nib_01\": [\n",
            "        64,\n",
            "        121\n",
            "    ],\n",
            "    \"f0_rd_simp_fall_lm_nib_00\": [\n",
            "        76,\n",
            "        146\n",
            "    ],\n",
            "    \"wrmargin_left_byte2\": 0,\n",
            "    \"f1_wrdqdbi_stg2_dq_odly_bit39\": 0,\n",
            "    \"cal_warning_35\": 0,\n",
            "    \"bisc_idly1_align_nibble11\": 75,\n",
            "    \"f1_dqsgate_stg1_overflow_56\": 0,\n",
            "    \"f0_wrcmplx_odly_dqs_final_byte4\": 39,\n",
            "    \"f0_dqsgate_stg1_overflow_02\": 255,\n",
            "    \"f1_dqsgate_stg1_overflow_35\": 0,\n",
            "    \"dqstrack_rldlyrnk_crse_byte4\": 5,\n",
            "    \"f1_wrdqdbi_left_margin_byte1\": 0,\n",
            "    \"f0_wrdqdbi_left_edge_dq_bit28\": 68,\n",
            "    \"f0_wrcmplx_right_margin_fcrse_byte7\": 60,\n",
            "    \"f1_rdprbs_pqtr_left_margin_nibble13\": 0,\n",
            "    \"f0_wrdqdbi_deskew_dq_odly_fcrse_bit05\": 130,\n",
            "    \"f0_rdcmplx_nqtr_right_short_fcrse_nibble15\": 181,\n",
            "    \"f1_wrcmplx_odly_dq_final_bit28\": 0,\n",
            "    \"f0_wrdqdbi_stg3_dq_odly_bit08\": 55,\n",
            "    \"f0_rdcmplx_nqtr_right_nibble13\": 147,\n",
            "    \"f1_wrdqdbi_deskew_dbi_odly_byte5\": 0,\n",
            "    \"f0_wr_simp_lm_byte_07\": [\n",
            "        81,\n",
            "        158\n",
            "    ],\n",
            "    \"f0_rd_simp_fall_ctp_nib_08\": [\n",
            "        90,\n",
            "        176\n",
            "    ],\n",
            "    \"f0_wrdqdbi_deskew_dbi_odly_fcrse_byte0\": 130,\n",
            "    \"bisc_idly5_align_nibble05\": 80,\n",
            "    \"f1_wrdqdbi_deskew_dq_odly_bit50\": 0,\n",
            "    \"f1_wrcmplx_odly_dq_final_bit22\": 0,\n",
            "    \"f0_rdcmplx_pqtr_right_short_nibble00\": 163,\n",
            "    \"cal_stage_time_36\": 0,\n",
            "    \"f1_rdcmplx_nqtr_final_nibble10\": 0,\n",
            "    \"f0_wrprbs_left_margin_byte4\": 0,\n",
            "    \"f0_rd_comp_rise_rm_nib_12\": [\n",
            "        68,\n",
            "        132\n",
            "    ],\n",
            "    \"f0_rddq_nqtr_left_nibble15\": 22,\n",
            "    \"f1_wrdqdbi_odly_dq_final_bit40\": 0,\n",
            "    \"f1_wrdqdbi_stg3_dq_odly_bit27\": 0,\n",
            "    \"f0_wrdqdbi_stg3_dq_odly_bit50\": 29,\n",
            "    \"f1_wrcmplx_odly_dq_final_bit53\": 0,\n",
            "    \"ddrmc_isr_ce0_ecc0\": 0,\n",
            "    \"f1_rddq_idelay_final_bit37\": 0,\n",
            "    \"f1_rddq_pqtr_right_fcrse_nibble12\": 0,\n",
            "    \"f0_wrdqdbi_odly_dq_final_bit20\": 26,\n",
            "    \"f0_rdcmplx_pqtr_right_nibble09\": 164,\n",
            "    \"f0_rddq_nqtr_final_nibble10\": 93,\n",
            "    \"dqstrack_rldlyrnk_crse_max_byte3\": 2,\n",
            "    \"f1_rddq_nqtr_right_fcrse_nibble04\": 0,\n",
            "    \"f1_wrcmplx_odly_dq_final_bit55\": 0,\n",
            "    \"f1_wrdqdbi_deskew_dq_odly_fcrse_bit25\": 0,\n",
            "    \"f1_wrcmplx_right_margin_byte3\": 0,\n",
            "    \"f1_rddq_idelay_final_bit47\": 0,\n",
            "    \"f0_wrdqdbi_stg3_dq_odly_bit37\": 21,\n",
            "    \"f1_dqsgate_stg1_overflow_38\": 0,\n",
            "    \"cal_stage_time_19\": 92,\n",
            "    \"f1_rdcmplx_pqtr_right_short_nibble00\": 0,\n",
            "    \"f0_wrdqdbi_stg2_dq_odly_bit02\": 50,\n",
            "    \"f0_rdprbs_nqtr_left_margin_nibble10\": 0,\n",
            "    \"f0_wrdqdbi_deskew_dq_odly_bit62\": 158,\n",
            "    \"cal_seq_status_28\": 300,\n",
            "    \"bisc_pqtr_nibble15\": 81,\n",
            "    \"cal_seq_status_12\": 398,\n",
            "    \"bisc_nqtr_align_nibble01\": 2,\n",
            "    \"f1_dqsgate_stg1_overflow_17\": 0,\n",
            "    \"f0_rdcmplx_nqtr_right_nibble01\": 156,\n",
            "    \"f0_wrlvl_fine_left_rank0_byte6\": 28,\n",
            "    \"f1_wrdqdbi_odly_dq_final_bit41\": 0,\n",
            "    \"f1_wrlat_phy_data_nib_final_byte1\": 0,\n",
            "    \"f0_rdcmplx_nqtr_right_short_nibble14\": 159,\n",
            "    \"f0_rdcmplx_nqtr_left_short_nibble10\": 19,\n",
            "    \"f0_wrcmplx_odly_dq_final_bit54\": 45,\n",
            "    \"f0_rd_comp_rise_lm_nib_13\": [\n",
            "        71,\n",
            "        138\n",
            "    ],\n",
            "    \"rdvref_right_vref_low_bound_nibble05\": 0,\n",
            "    \"cal_seq_status_25\": 296,\n",
            "    \"bytes\": 8,\n",
            "    \"f1_wrcmplx_odly_dq_final_bit44\": 0,\n",
            "    \"f1_rddq_nqtr_left_nibble14\": 0,\n",
            "    \"f0_wrdqdbi_left_edge_dq_bit27\": 83,\n",
            "    \"f0_rcd_rc0f\": 0,\n",
            "    \"f1_wrdqdbi_stg2_dq_odly_bit11\": 0,\n",
            "    \"f0_wrdqdbi_odly_dbi_final_byte2\": 31,\n",
            "    \"f1_wrdqdbi_left_edge_dq_bit14\": 0,\n",
            "    \"f0_rd_simp_rise_ctp_nib_07\": [\n",
            "        96,\n",
            "        188\n",
            "    ],\n",
            "    \"bisc_idly5_align_nibble09\": 77,\n",
            "    \"cal_seq_status_34\": 305,\n",
            "    \"f0_rdcmplx_nqtr_right_short_nibble10\": 165,\n",
            "    \"f1_rdcmplx_nqtr_left_short_nibble08\": 0,\n",
            "    \"f0_rdprbs_nqtr_right_margin_nibble13\": 0,\n",
            "    \"phy_oe_nib12_dly\": 0,\n",
            "    \"bisc_idly1_align_nibble06\": 67,\n",
            "    \"dqstrack_rldlyrnk_crse_byte6\": 3,\n",
            "    \"bisc_idly4_align_nibble02\": 70,\n",
            "    \"f1_rddq_nqtr_right_nibble07\": 0,\n",
            "    \"rdmargin_nqtr_right_nibble10\": 0,\n",
            "    \"cal_warning_24\": 0,\n",
            "    \"nsu0_perf_mon_0_0\": 0,\n",
            "    \"bisc_mon_align_nibble08\": 0,\n",
            "    \"f0_wrdqdbi_deskew_dbi_odly_byte1\": 146,\n",
            "    \"f1_wrdqdbi_left_margin_byte6\": 0,\n",
            "    \"f0_wrdqdbi_deskew_dq_odly_bit23\": 95,\n",
            "    \"f1_wrlat_phy_oe_nib_final_byte7\": 0,\n",
            "    \"f0_calbisc_rl_dly_nqtr_nibble04\": 82,\n",
            "    \"f1_wrdqdbi_deskew_dq_odly_fcrse_bit35\": 0,\n",
            "    \"bisc_rl_dly_qtr_nibble05\": 81,\n",
            "    \"cal_warning_69\": 0,\n",
            "    \"dc0_perf_mon_8\": 0,\n",
            "    \"f1_calbisc_rl_dly_nqtr_nibble12\": 0,\n",
            "    \"f0_rddq_pqtr_right_fcrse_nibble06\": 173,\n",
            "    \"nsu1_perf_filter_0_1\": 0,\n",
            "    \"dqs_gate_overflow\": 0,\n",
            "    \"f1_rdcmplx_pqtr_left_short_nibble12\": 0,\n",
            "    \"f1_rdcmplx_pqtr_right_short_fcrse_nibble03\": 0,\n",
            "    \"f0_calbisc_rl_dly_pqtr_nibble01\": 81,\n",
            "    \"nsu2_perf_filter_0_0\": 0,\n",
            "    \"f0_db_f0bc6x\": 0,\n",
            "    \"f0_calbisc_rl_dly_nqtr_nibble09\": 79,\n",
            "    \"f1_wrdqdbi_deskew_dbi_odly_fcrse_byte4\": 0,\n",
            "    \"f1_wrcmplx_odly_dq_final_bit54\": 0,\n",
            "    \"f1_wrdqdbi_deskew_dq_odly_fcrse_bit22\": 0,\n",
            "    \"f0_wrcmplx_odly_dq_final_bit56\": 80,\n",
            "    \"f1_wrlvl_crse_final_rank0_byte4\": 0,\n",
            "    \"f1_rddq_idelay_final_bit61\": 0,\n",
            "    \"f0_wrdqdbi_odly_dq_final_bit58\": 62,\n",
            "    \"wrvref_vref_upp_bound_rank0_byte3\": 0,\n",
            "    \"f0_wrdqdbi_left_margin_byte0\": 83,\n",
            "    \"bisc_rl_dly_qtr_nibble03\": 81,\n",
            "    \"bisc_idly0_align_nibble14\": 65,\n",
            "    \"f0_wrdqdbi_stg2_dq_odly_bit27\": 69,\n",
            "    \"f1_wrlat_wldlyrnk_crse_final_rank0_byte3\": 0,\n",
            "    \"f1_rdprbs_pqtr_right_margin_nibble02\": 0,\n",
            "    \"dqstrack_rldlyrnk_fine_byte4\": 14,\n",
            "    \"f0_rdcmplx_nqtr_right_short_nibble02\": 170,\n",
            "    \"f0_calbisc_rl_dly_qtr_nibble11\": 80,\n",
            "    \"cal_warning_62\": 0,\n",
            "    \"dc0_perf_mon_5\": 0,\n",
            "    \"f0_wrdqdbi_deskew_dq_odly_fcrse_bit10\": 125,\n",
            "    \"f1_wrdqdbi_deskew_dq_odly_fcrse_bit17\": 0,\n",
            "    \"cal_stage_time_32\": 0,\n",
            "    \"f1_rdcmplx_nqtr_right_short_fcrse_nibble03\": 0,\n",
            "    \"f1_wrdqdbi_odly_dqs_final_byte4\": 0,\n",
            "    \"dqstrack_rldlyrnk_fine_min_byte4\": 14,\n",
            "    \"f0_wrdqdbi_deskew_dq_odly_fcrse_bit46\": 117,\n",
            "    \"f1_rdprbs_nqtr_left_margin_nibble01\": 0,\n",
            "    \"f0_wr_simp_rm_byte_05\": [\n",
            "        67,\n",
            "        130\n",
            "    ],\n",
            "    \"f0_wrlvl_fine_left_rank0_byte5\": 34,\n",
            "    \"f1_wrdqdbi_odly_dq_final_bit54\": 0,\n",
            "    \"ddrmc_isr_uc1_ecc0\": 0,\n",
            "    \"rdvref_vref_final_nibble02\": 0,\n",
            "    \"f0_rdcmplx_pqtr_right_short_fcrse_nibble15\": 177,\n",
            "    \"0x00_F0_PHY_BISC\": \"Pass\",\n",
            "    \"f0_wr_comp_ctp_byte_06\": [\n",
            "        285,\n",
            "        557\n",
            "    ],\n",
            "    \"f1_wrdqdbi_stg2_dqs_odly_byte6\": 0,\n",
            "    \"cal_error_bit_phy_nibble_19\": 0,\n",
            "    \"cal_error_data_nibble_17_9\": 0,\n",
            "    \"cal_warning_74\": 0,\n",
            "    \"iobmap_dq_15_14\": 0,\n",
            "    \"f0_wrdqdbi_stg5_dqs_odly_byte2\": 36,\n",
            "    \"f1_lp4_mr14\": 0,\n",
            "    \"cal_warning_70\": 0,\n",
            "    \"f1_wrdqdbi_left_edge_dbi_byte7\": 0,\n",
            "    \"f0_wrdqdbi_deskew_dq_odly_fcrse_bit59\": 133,\n",
            "    \"f1_rddq_idelay_final_bit59\": 0,\n",
            "    \"f1_rddq_pqtr_right_fcrse_nibble06\": 0,\n",
            "    \"f0_calbisc_rl_dly_qtr_nibble07\": 80,\n",
            "    \"f1_rdcmplx_pqtr_left_nibble05\": 0,\n",
            "    \"rdvref_left_vref_low_bound_nibble02\": 0,\n",
            "    \"f1_wrdqdbi_deskew_dq_odly_fcrse_bit29\": 0,\n",
            "    \"f0_rddq_idelay_final_bit01\": 74,\n",
            "    \"f1_rdcmplx_nqtr_left_short_nibble15\": 0,\n",
            "    \"f0_wrdqdbi_deskew_dq_odly_bit48\": 107,\n",
            "    \"f1_rddq_qtr_deskew_nibble11\": 0,\n",
            "    \"iobmap_dqs_4\": 0,\n",
            "    \"bisc_idly0_align_nibble12\": 66,\n",
            "    \"f0_wrlvl_fine_right_rank0_byte7\": 66,\n",
            "    \"vttrack_rldlyqtr_min_nibble11\": 77,\n",
            "    \"cal_warning_15\": 0,\n",
            "    \"f0_rdprbs_nqtr_left_margin_nibble00\": 0,\n",
            "    \"f0_rd_comp_fall_rm_nib_05\": [\n",
            "        60,\n",
            "        112\n",
            "    ],\n",
            "    \"f1_xpll_divclk_ht\": 1,\n",
            "    \"f0_wrdqdbi_deskew_dq_odly_bit03\": 138,\n",
            "    \"f1_wrlat_match_rank0_byte2\": 0,\n",
            "    \"f1_wrdqdbi_stg3_dq_odly_bit47\": 0,\n",
            "    \"f0_rd_simp_fall_ctp_nib_04\": [\n",
            "        100,\n",
            "        191\n",
            "    ],\n",
            "    \"f0_rd_simp_rise_rm_nib_02\": [\n",
            "        78,\n",
            "        152\n",
            "    ],\n",
            "    \"f0_wrcmplx_odly_dq_final_bit17\": 30,\n",
            "    \"f1_wrdqdbi_stg3_dq_odly_bit40\": 0,\n",
            "    \"nsu2_perf_mon_ctl_0_1\": 0,\n",
            "    \"f1_wrdqdbi_left_edge_dq_bit19\": 0,\n",
            "    \"f1_wrdqdbi_deskew_dq_odly_fcrse_bit00\": 0,\n",
            "    \"f0_rddq_nqtr_right_fcrse_nibble09\": 166,\n",
            "    \"f1_wrdqdbi_stg2_dq_odly_bit46\": 0,\n",
            "    \"dqstrack_rldlyrnk_crse_min_byte3\": 2,\n",
            "    \"f0_wrdqdbi_left_edge_dq_bit00\": 63,\n",
            "    \"phy_rden7_dly\": 27,\n",
            "    \"rdvref_vref_upp_bound_nibble11\": 0,\n",
            "    \"f0_wrcmplx_odly_dq_final_bit33\": 19,\n",
            "    \"nsu3_perf_mon_1_0\": 0,\n",
            "    \"cal_error_bit_phy_nibble_26\": 0,\n",
            "    \"rdvref_left_vref_def_nibble12\": 0,\n",
            "    \"f0_rdcmplx_pqtr_left_short_nibble15\": 21,\n",
            "    \"f0_wrdqdbi_odly_dq_final_bit53\": 40,\n",
            "    \"f1_wrprbs_left_margin_byte0\": 0,\n",
            "    \"f0_rdcmplx_pqtr_left_short_nibble07\": 20,\n",
            "    \"rdvref_right_vref_def_nibble13\": 0,\n",
            "    \"ub_isr_vt_track_err\": 0,\n",
            "    \"f1_dqsgate_stg2_read_lat_rank0_byte6\": 0,\n",
            "    \"f0_dqsgate_stg1_read_lat_rank0_byte5\": 24,\n",
            "    \"f1_wrdqdbi_deskew_dq_odly_bit16\": 0,\n",
            "    \"phy_rden20_dly\": 25,\n",
            "    \"f0_rdcmplx_idelay_offset_nibble01\": 0,\n",
            "    \"f1_wrdqdbi_deskew_dbi_odly_fcrse_byte7\": 0,\n",
            "    \"f0_rd_comp_rise_lm_nib_01\": [\n",
            "        74,\n",
            "        142\n",
            "    ],\n",
            "    \"f1_rddq_nqtr_left_nibble11\": 0,\n",
            "    \"f1_wrcmplx_odly_dq_final_bit41\": 0,\n",
            "    \"f0_wrdqdbi_stg2_dq_odly_bit20\": 20,\n",
            "    \"f1_rddq_pqtr_final_nibble15\": 0,\n",
            "    \"rdvref_right_vref_def_nibble06\": 0,\n",
            "    \"f0_wrcmplx_odly_dq_final_bit30\": 80,\n",
            "    \"dc0_perf_mon_1\": 0,\n",
            "    \"f1_wrdqdbi_stg4_byte_status_00\": 0,\n",
            "    \"iobmap_dq_13_12\": 0,\n",
            "    \"f1_rdcmplx_pqtr_right_short_nibble13\": 0,\n",
            "    \"f0_wrdqdbi_stg2_dq_odly_bit30\": 69,\n",
            "    \"f0_wrdqdbi_stg2_dq_odly_bit41\": 37,\n",
            "    \"rdvref_vref_low_bound_nibble01\": 0,\n",
            "    \"rdvref_left_vref_final_nibble10\": 0,\n",
            "    \"f0_wrdqdbi_odly_dq_final_bit11\": 58,\n",
            "    \"cal_error_bit_phy_nibble_05\": 0,\n",
            "    \"bisc_idly5_align_nibble14\": 70,\n",
            "    \"f0_wrdqdbi_stg2_dq_odly_bit24\": 69,\n",
            "    \"f0_rdprbs_nqtr_left_margin_nibble01\": 0,\n",
            "    \"f1_rddq_idelay_final_bit38\": 0,\n",
            "    \"f1_mr5_8_0\": 0,\n",
            "    \"cal_warning_63\": 0,\n",
            "    \"f0_dqsgate_rldlyrnk_crse_final_rank0_byte2\": 1,\n",
            "    \"rdvref_vref_upp_bound_nibble03\": 0,\n",
            "    \"f0_wrdqdbi_stg3_dq_odly_bit19\": 20,\n",
            "    \"bisc_idly1_align_nibble15\": 77,\n",
            "    \"f0_rddq_pqtr_right_nibble02\": 173,\n",
            "    \"f1_dqsgate_stg2_rldlyrnk_crse_rank0_byte5\": 0,\n",
            "    \"f1_dqsgate_read_lat_final_byte3\": 0,\n",
            "    \"f1_wrcmplx_odly_dq_final_bit32\": 0,\n",
            "    \"nsu0_perf_filter_0_1\": 0,\n",
            "    \"f1_rdcmplx_pqtr_right_short_nibble06\": 0,\n",
            "    \"f1_rddq_pqtr_final_nibble06\": 0,\n",
            "    \"f1_wrcmplx_left_margin_byte5\": 0,\n",
            "    \"f0_rddq_pqtr_left_nibble04\": 18,\n",
            "    \"f0_wrdqdbi_odly_dq_final_bit44\": 52,\n",
            "    \"f1_wrdqdbi_right_edge_dqs_byte7\": 0,\n",
            "    \"f1_db_f0bc6x\": 0,\n",
            "    \"f1_dqsgate_stg1_overflow_08\": 0,\n",
            "    \"f1_wrdqdbi_deskew_dq_odly_fcrse_bit21\": 0,\n",
            "    \"f1_wrdqdbi_deskew_dq_odly_fcrse_bit55\": 0,\n",
            "    \"f0_wrdqdbi_deskew_dq_odly_fcrse_bit07\": 130,\n",
            "    \"f0_wrdqdbi_right_edge_dqs_byte4\": 115,\n",
            "    \"f1_wrdqdbi_odly_dbi_final_byte4\": 0,\n",
            "    \"f0_rdcmplx_pqtr_right_short_fcrse_nibble11\": 184,\n",
            "    \"f1_wrdqdbi_stg3_dq_odly_bit00\": 0,\n",
            "    \"f1_wrprbs_right_margin_byte5\": 0,\n",
            "    \"f0_rd_simp_rise_lm_nib_15\": [\n",
            "        78,\n",
            "        150\n",
            "    ],\n",
            "    \"f0_dqsgate_stg1_overflow_36\": 0,\n",
            "    \"f1_dqsgate_stg1_overflow_23\": 0,\n",
            "    \"f0_wrdqdbi_stg2_dq_odly_bit46\": 37,\n",
            "    \"rdvref_right_vref_low_bound_nibble03\": 0,\n",
            "    \"f0_rddq_pqtr_right_fcrse_nibble10\": 173,\n",
            "    \"vttrack_rldlyqtr_max_nibble14\": 85,\n",
            "    \"f0_dqsgate_stg1_overflow_17\": 0,\n",
            "    \"f1_dqsgate_rldlyrnk_crse_final_rank0_byte6\": 0,\n",
            "    \"f1_rdcmplx_nqtr_right_short_fcrse_nibble09\": 0,\n",
            "    \"f0_rd_comp_rise_ctp_nib_00\": [\n",
            "        90,\n",
            "        167\n",
            "    ],\n",
            "    \"f1_dqsgate_read_lat_final_byte6\": 0,\n",
            "    \"ddrmc_isr_nsu_1\": 0,\n",
            "    \"iobmap_dqs_3\": 0,\n",
            "    \"f0_dm_dbi_en\": 1,\n",
            "    \"f1_dqsgate_stg1_overflow_63\": 0,\n",
            "    \"f1_rddq_idelay_final_bit04\": 0,\n",
            "    \"bisc_idly5_align_nibble01\": 80,\n",
            "    \"f1_rdcmplx_idelay_offset_nibble07\": 0,\n",
            "    \"f1_wrcmplx_odly_dq_final_bit45\": 0,\n",
            "    \"f1_wrcmplx_odly_dbi_final_byte2\": 0,\n",
            "    \"f1_mr6_17_9\": 0,\n",
            "    \"f0_wr_simp_lm_byte_04\": [\n",
            "        74,\n",
            "        145\n",
            "    ],\n",
            "    \"f0_rddq_nqtr_final_nibble15\": 97,\n",
            "    \"cal_stage_time_20\": 0,\n",
            "    \"reg_safe_config0\": 440468484,\n",
            "    \"f0_rdcmplx_nqtr_left_short_nibble01\": 26,\n",
            "    \"rdvref_vref_final_nibble03\": 0,\n",
            "    \"f1_wrdqdbi_stg2_dq_odly_bit61\": 0,\n",
            "    \"f1_wrdqdbi_deskew_dq_odly_bit29\": 0,\n",
            "    \"f1_wrdqdbi_deskew_dbi_odly_byte2\": 0,\n",
            "    \"f0_rd_comp_fall_lm_nib_11\": [\n",
            "        63,\n",
            "        121\n",
            "    ],\n",
            "    \"f1_rddq_pqtr_final_nibble03\": 0,\n",
            "    \"f0_dqsgate_stg1_overflow_32\": 0,\n",
            "    \"iobmap_dq_41_40\": 0,\n",
            "    \"rdvref_right_vref_low_bound_nibble01\": 0,\n",
            "    \"f1_rddq_nqtr_final_nibble03\": 0,\n",
            "    \"f1_wrdqdbi_right_margin_byte5\": 0,\n",
            "    \"f0_wrdqdbi_deskew_dq_odly_bit08\": 136,\n",
            "    \"f0_wrdqdbi_odly_dq_final_bit01\": 54,\n",
            "    \"bisc_rl_dly_qtr_nibble14\": 80,\n",
            "    \"f1_wrcmplx_left_margin_fcrse_byte0\": 0,\n",
            "    \"f0_rdcmplx_nqtr_right_short_nibble11\": 169,\n",
            "    \"f0_rdcmplx_nqtr_left_short_nibble00\": 19,\n",
            "    \"phy_rden22_dly\": 25,\n",
            "    \"phy_rden6_dly\": 27,\n",
            "    \"f0_lp4_mr13\": 0,\n",
            "    \"f1_wrdqdbi_stg3_dq_odly_bit61\": 0,\n",
            "    \"f0_wrcmplx_left_margin_fcrse_byte2\": 70,\n",
            "    \"rdmargin_pqtr_right_nibble06\": 0,\n",
            "    \"f1_wrcmplx_right_margin_fcrse_byte0\": 0,\n",
            "    \"rdmargin_nqtr_left_nibble12\": 0,\n",
            "    \"rdmargin_pqtr_right_nibble03\": 0,\n",
            "    \"f1_rdprbs_pqtr_left_margin_nibble06\": 0,\n",
            "    \"f0_rddq_idelay_final_bit24\": 70,\n",
            "    \"f0_rd_comp_rise_ctp_nib_07\": [\n",
            "        89,\n",
            "        174\n",
            "    ],\n",
            "    \"f1_wrdqdbi_stg2_dq_odly_bit54\": 0,\n",
            "    \"f1_wrdqdbi_stg6_dbi_odly_byte3\": 0,\n",
            "    \"bisc_idly2_align_nibble11\": 77,\n",
            "    \"f1_dqsgate_stg1_overflow_04\": 0,\n",
            "    \"f1_dqsgate_stg1_overflow_50\": 0,\n",
            "    \"rdmargin_nqtr_left_nibble11\": 0,\n",
            "    \"f0_wrdqdbi_stg3_dq_odly_bit51\": 29,\n",
            "    \"f1_mr3_17_9\": 0,\n",
            "    \"f1_wrdqdbi_deskew_dbi_odly_fcrse_byte2\": 0,\n",
            "    \"f0_wrcmplx_odly_dq_final_bit00\": 74,\n",
            "    \"f1_rdcmplx_pqtr_left_short_nibble00\": 0,\n",
            "    \"f1_wrcmplx_odly_dq_final_bit14\": 0,\n",
            "    \"f1_rdcmplx_nqtr_final_nibble11\": 0,\n",
            "    \"f1_dqsgate_stg1_rldlyrnk_fine_rank0_byte4\": 0,\n",
            "    \"f0_dqsgate_stg1_overflow_40\": 0,\n",
            "    \"f1_wrdqdbi_left_edge_dq_bit49\": 0,\n",
            "    \"f1_rdcmplx_pqtr_right_nibble00\": 0,\n",
            "    \"f1_dqsgate_stg1_overflow_34\": 0,\n",
            "    \"reg_safe_config5\": 68161558,\n",
            "    \"rdvref_right_vref_def_nibble12\": 0,\n",
            "    \"wrvref_right_vref_final_rank0_byte0\": 0,\n",
            "    \"f1_dqsgate_stg1_overflow_15\": 0,\n",
            "    \"rdvref_right_vref_upp_bound_nibble09\": 0,\n",
            "    \"f1_rddq_pqtr_right_nibble09\": 0,\n",
            "    \"rdvref_vref_low_bound_nibble08\": 0,\n",
            "    \"f0_rdcmplx_pqtr_left_short_nibble01\": 21,\n",
            "    \"f1_dqsgate_stg1_overflow_39\": 0,\n",
            "    \"cal_warning_05\": 0,\n",
            "    \"bisc_pqtr_align_nibble08\": 0,\n",
            "    \"f0_wr_comp_lm_byte_05\": [\n",
            "        74,\n",
            "        144\n",
            "    ],\n",
            "    \"f1_rdcmplx_idelay_offset_nibble12\": 0,\n",
            "    \"f1_rdcmplx_nqtr_final_nibble02\": 0,\n",
            "    \"ddrmc_isr_na_cmd0\": 0,\n",
            "    \"mgchk_rd_vref_1\": 0,\n",
            "    \"f0_wrdqdbi_deskew_dq_odly_fcrse_bit19\": 90,\n",
            "    \"f1_wrdqdbi_stg2_dq_odly_bit24\": 0,\n",
            "    \"cal_warning_68\": 0,\n",
            "    \"f0_mr4_8_0\": 0,\n",
            "    \"f1_rdcmplx_nqtr_right_short_nibble00\": 0,\n",
            "    \"f0_wrcmplx_odly_dq_final_bit15\": 61,\n",
            "    \"f1_calbisc_rl_dly_nqtr_nibble15\": 0,\n",
            "    \"f0_rdcmplx_idelay_offset_nibble07\": 0,\n",
            "    \"f1_rddq_pqtr_right_fcrse_nibble01\": 0,\n",
            "    \"f1_rdcmplx_pqtr_left_nibble02\": 0,\n",
            "    \"rdmargin_pqtr_left_nibble03\": 0,\n",
            "    \"f1_wrcmplx_odly_dbi_final_byte5\": 0,\n",
            "    \"f0_wrcmplx_odly_dbi_final_byte6\": 39,\n",
            "    \"f1_rdcmplx_nqtr_final_nibble07\": 0,\n",
            "    \"f0_dqsgate_read_lat_final_byte5\": 27,\n",
            "    \"f0_wrdqdbi_odly_dq_final_bit04\": 54,\n",
            "    \"rdvref_vref_upp_bound_nibble10\": 0,\n",
            "    \"f1_rddq_idelay_final_bit23\": 0,\n",
            "    \"f1_wrdqdbi_odly_dq_final_bit56\": 0,\n",
            "    \"rdmargin_pqtr_right_nibble07\": 0,\n",
            "    \"f1_wrdqdbi_deskew_dq_odly_bit22\": 0,\n",
            "    \"f0_rdcmplx_idelay_offset_nibble09\": 0,\n",
            "    \"f1_wrdqdbi_deskew_dq_odly_fcrse_bit46\": 0,\n",
            "    \"f0_calbisc_rl_dly_pqtr_nibble09\": 79,\n",
            "    \"cal_stage_time_10\": 6,\n",
            "    \"f0_wrdqdbi_left_edge_dq_bit50\": 22,\n",
            "    \"f0_wrdqdbi_deskew_dq_odly_fcrse_bit20\": 100,\n",
            "    \"f0_rddq_pqtr_right_nibble01\": 176,\n",
            "    \"f0_wrdqdbi_left_edge_dq_bit57\": 60,\n",
            "    \"cal_seq_status_02\": 260,\n",
            "    \"cal_seq_status_04\": 262,\n",
            "    \"f0_rd_comp_fall_rm_nib_01\": [\n",
            "        65,\n",
            "        123\n",
            "    ],\n",
            "    \"f1_rddq_idelay_final_bit28\": 0,\n",
            "    \"f0_wrdqdbi_stg1_dqs_delay_byte4\": 37,\n",
            "    \"f0_rddq_idelay_final_bit48\": 64,\n",
            "    \"f1_rddq_idelay_final_bit57\": 0,\n",
            "    \"bisc_idly2_align_nibble07\": 73,\n",
            "    \"f1_rdprbs_pqtr_right_margin_nibble10\": 0,\n",
            "    \"bisc_mon_align_nibble00\": 0,\n",
            "    \"rdvref_vref_low_bound_nibble00\": 0,\n",
            "    \"f0_rd_comp_rise_ctp_nib_14\": [\n",
            "        90,\n",
            "        176\n",
            "    ],\n",
            "    \"f0_calbisc_rl_dly_nqtr_nibble11\": 81,\n",
            "    \"f0_rd_simp_rise_lm_nib_06\": [\n",
            "        75,\n",
            "        150\n",
            "    ],\n",
            "    \"f0_dqsgate_stg1_read_lat_rank0_byte7\": 27,\n",
            "    \"f0_wrcmplx_odly_dq_final_bit34\": 29,\n",
            "    \"dqstrack_rldlyrnk_crse_max_byte5\": 2,\n",
            "    \"f1_rdprbs_nqtr_left_margin_nibble14\": 0,\n",
            "    \"f0_rd_simp_rise_lm_nib_03\": [\n",
            "        79,\n",
            "        152\n",
            "    ],\n",
            "    \"dc0_perf_mon_3\": 0,\n",
            "    \"f0_dqsgate_stg2_rldlyrnk_crse_rank0_byte1\": 0,\n",
            "    \"f1_wrlat_phy_oe_nib_final_byte5\": 0,\n",
            "    \"f1_dqsgate_stg1_overflow_37\": 0,\n",
            "    \"xpi_oe\": 258,\n",
            "    \"f1_rddq_nqtr_left_nibble01\": 0,\n",
            "    \"f1_rdcmplx_pqtr_final_nibble10\": 0,\n",
            "    \"rdvref_left_vref_upp_bound_nibble08\": 0,\n",
            "    \"f1_dqsgate_stg1_overflow_55\": 0,\n",
            "    \"f1_wrdqdbi_odly_dbi_final_byte6\": 0,\n",
            "    \"cal_error_sub_stage\": 0,\n",
            "    \"rdvref_left_vref_final_nibble05\": 0,\n",
            "    \"f1_wrdqdbi_stg2_dq_odly_bit42\": 0,\n",
            "    \"f0_wrdqdbi_left_edge_dq_bit47\": 23,\n",
            "    \"wrvref_left_vref_def_rank0_byte0\": 0,\n",
            "    \"cal_warning_27\": 0,\n",
            "    \"f1_wrdqdbi_odly_dq_final_bit61\": 0,\n",
            "    \"phy_oe_nib11_dly\": 0,\n",
            "    \"f0_rd_simp_fall_ctp_nib_03\": [\n",
            "        101,\n",
            "        192\n",
            "    ],\n",
            "    \"f0_rd_simp_fall_lm_nib_06\": [\n",
            "        73,\n",
            "        140\n",
            "    ],\n",
            "    \"f1_wrprbs_left_margin_byte6\": 0,\n",
            "    \"f0_wrlat_match_rank0_byte5\": 17,\n",
            "    \"rdvref_left_vref_upp_bound_nibble06\": 0,\n",
            "    \"f1_rddq_idelay_final_bit31\": 0,\n",
            "    \"f1_rdprbs_nqtr_left_margin_nibble06\": 0,\n",
            "    \"f0_rddq_pqtr_right_nibble14\": 170,\n",
            "    \"f1_rdcmplx_pqtr_left_short_nibble07\": 0,\n",
            "    \"f0_wrdqdbi_stg2_dq_odly_bit21\": 20,\n",
            "    \"f0_dqsgate_stg1_overflow_42\": 0,\n",
            "    \"f0_wrdqdbi_odly_dbi_final_byte7\": 68,\n",
            "    \"rdvref_right_vref_upp_bound_nibble06\": 0,\n",
            "    \"cal_stage_time_24\": 0,\n",
            "    \"f0_rd_simp_fall_lm_nib_08\": [\n",
            "        71,\n",
            "        138\n",
            "    ],\n",
            "    \"f0_dqsgate_stg1_overflow_28\": 0,\n",
            "    \"f1_wrdqdbi_odly_dq_final_bit59\": 0,\n",
            "    \"f0_rddq_nqtr_right_fcrse_nibble14\": 176,\n",
            "    \"f0_wrlvl_crse_stg1_rank0_byte2\": 0,\n",
            "    \"f1_dqsgate_stg1_overflow_18\": 0,\n",
            "    \"f0_wr_comp_ctp_byte_00\": [\n",
            "        229,\n",
            "        439\n",
            "    ],\n",
            "    \"bisc_nqtr_nibble05\": 83,\n",
            "    \"f1_wrdqdbi_stg2_dq_odly_bit31\": 0,\n",
            "    \"f0_wrdqdbi_deskew_dbi_odly_fcrse_byte6\": 99,\n",
            "    \"f1_wrlvl_noise_fcrse_rank0_byte5\": 0,\n",
            "    \"f1_wrdqdbi_deskew_dq_odly_bit51\": 0,\n",
            "    \"f1_rddq_idelay_final_bit51\": 0,\n",
            "    \"f1_wrdqdbi_stg3_dq_odly_bit14\": 0,\n",
            "    \"f0_rdcmplx_nqtr_final_nibble10\": 84,\n",
            "    \"f0_calbisc_rl_dly_qtr_nibble03\": 81,\n",
            "    \"f0_wrdqdbi_deskew_dq_odly_fcrse_bit24\": 139,\n",
            "    \"phy_rden18_dly\": 22,\n",
            "    \"f0_rd_simp_rise_ctp_nib_01\": [\n",
            "        97,\n",
            "        187\n",
            "    ],\n",
            "    \"rdmargin_nqtr_right_nibble02\": 0,\n",
            "    \"f1_rddq_pqtr_right_fcrse_nibble02\": 0,\n",
            "    \"f0_wrdqdbi_stg5_dqs_odly_byte3\": 85,\n",
            "    \"f0_rdcmplx_nqtr_right_short_nibble01\": 172,\n",
            "    \"f0_calbisc_rl_dly_pqtr_nibble02\": 80,\n",
            "    \"f0_wr_comp_lm_byte_00\": [\n",
            "        76,\n",
            "        145\n",
            "    ],\n",
            "    \"rdmargin_pqtr_right_nibble04\": 0,\n",
            "    \"f0_wrlvl_fine_right_rank0_byte4\": 23,\n",
            "    \"f1_rdcmplx_idelay_offset_nibble01\": 0,\n",
            "    \"f1_wrdqdbi_deskew_dq_odly_fcrse_bit03\": 0,\n",
            "    \"f0_wrlat_phy_data_nib_final_byte3\": 1,\n",
            "    \"f0_dqsgate_stg1_overflow_03\": 0,\n",
            "    \"f1_rdcmplx_idelay_offset_nibble09\": 0,\n",
            "    \"f1_wrprbs_right_margin_byte3\": 0,\n",
            "    \"cal_seq_status_01\": 385,\n",
            "    \"f1_rddq_pqtr_right_nibble08\": 0,\n",
            "    \"f0_wrdqdbi_stg3_dq_odly_bit23\": 20,\n",
            "    \"rdvref_left_vref_def_nibble08\": 0,\n",
            "    \"f1_dqsgate_stg1_rldlyrnk_crse_rank0_byte6\": 0,\n",
            "    \"f0_dqsgate_stg1_overflow_46\": 0,\n",
            "    \"f1_wrdqdbi_deskew_dq_odly_fcrse_bit43\": 0,\n",
            "    \"f0_calbisc_rl_dly_qtr_nibble05\": 81,\n",
            "    \"f1_rdcmplx_nqtr_right_nibble15\": 0,\n",
            "    \"f0_calbisc_rl_dly_qtr_nibble02\": 80,\n",
            "    \"vttrack_rldlyqtr_min_nibble15\": 76,\n",
            "    \"phy_oe_nib6_dly\": 1,\n",
            "    \"f0_rddq_pqtr_left_nibble11\": 18,\n",
            "    \"f1_wrcmplx_odly_dq_final_bit50\": 0,\n",
            "    \"f0_rdprbs_nqtr_left_margin_nibble02\": 0,\n",
            "    \"iobmap_dqs_1\": 0,\n",
            "    \"f0_wrcmplx_odly_dq_final_bit58\": 67,\n",
            "    \"f0_rd_simp_fall_lm_nib_09\": [\n",
            "        71,\n",
            "        140\n",
            "    ],\n",
            "    \"f0_wrdqdbi_deskew_dbi_odly_fcrse_byte4\": 91,\n",
            "    \"f1_rdprbs_pqtr_left_margin_nibble10\": 0,\n",
            "    \"cal_seq_status_39\": 444,\n",
            "    \"f0_rd_simp_fall_ctp_nib_01\": [\n",
            "        101,\n",
            "        192\n",
            "    ],\n",
            "    \"f0_wrcmplx_odly_dq_final_bit39\": 25,\n",
            "    \"f0_rddq_pqtr_final_nibble05\": 98,\n",
            "    \"f1_wrlvl_crse_stg1_rank0_byte3\": 0,\n",
            "    \"reg_map_ver\": 5,\n",
            "    \"rdvref_left_vref_low_bound_nibble01\": 0,\n",
            "    \"f1_rdcmplx_nqtr_right_nibble07\": 0,\n",
            "    \"f1_rddq_pqtr_left_nibble07\": 0,\n",
            "    \"f0_wrdqdbi_odly_dq_final_bit17\": 22,\n",
            "    \"f0_wrcmplx_odly_dq_final_bit62\": 87,\n",
            "    \"rdmargin_nqtr_right_nibble00\": 0,\n",
            "    \"ddrmc_isr_dram_parity_fatal_1\": 0,\n",
            "    \"f0_wrdqdbi_stg3_dq_odly_bit02\": 50,\n",
            "    \"f0_dqsgate_stg1_overflow_19\": 0,\n",
            "    \"dc1_perf_mon_0\": 0,\n",
            "    \"f0_rd_simp_fall_lm_nib_15\": [\n",
            "        75,\n",
            "        146\n",
            "    ],\n",
            "    \"f1_wrdqdbi_deskew_dq_odly_bit33\": 0,\n",
            "    \"ddrmc_isr_dc_cmd0_fatal\": 0,\n",
            "    \"rdmargin_nqtr_left_nibble06\": 0,\n",
            "    \"f0_wrdqdbi_stg4_dqs_delay_byte2\": 14,\n",
            "    \"iobmap_dq_71_70\": 0,\n",
            "    \"f0_wrdqdbi_left_edge_dq_bit56\": 70,\n",
            "    \"f1_dqsgate_rldlyrnk_crse_final_rank0_byte4\": 0,\n",
            "    \"cal_stage_time_57\": 0,\n",
            "    \"nsu3_perf_mon_ctl_1_0\": 0,\n",
            "    \"vttrack_rldlyqtr_max_nibble10\": 84,\n",
            "    \"f1_rddq_pqtr_final_nibble10\": 0,\n",
            "    \"f1_wrdqdbi_right_edge_dqs_byte0\": 0,\n",
            "    \"f1_wrcmplx_odly_dbi_final_byte7\": 0,\n",
            "    \"f1_calbisc_rl_dly_nqtr_nibble06\": 0,\n",
            "    \"f1_wrdqdbi_deskew_dq_odly_fcrse_bit24\": 0,\n",
            "    \"f1_rdprbs_pqtr_right_margin_nibble12\": 0,\n",
            "    \"iobmap_dq_7_6\": 0,\n",
            "    \"rdvref_vref_upp_bound_nibble08\": 0,\n",
            "    \"f1_rddq_pqtr_right_nibble12\": 0,\n",
            "    \"f1_rdprbs_nqtr_right_margin_nibble03\": 0,\n",
            "    \"f1_calbisc_rl_dly_pqtr_nibble13\": 0,\n",
            "    \"wrvref_right_vref_final_rank0_byte2\": 0,\n",
            "    \"f1_rddq_pqtr_right_nibble02\": 0,\n",
            "    \"f1_rdcmplx_nqtr_left_nibble07\": 0,\n",
            "    \"mgchk_enable\": 0,\n",
            "    \"phy_rden4_dly\": 27,\n",
            "    \"f0_wrdqdbi_deskew_dq_odly_fcrse_bit38\": 101,\n",
            "    \"f0_rdcmplx_nqtr_right_nibble04\": 150,\n",
            "    \"phy_oe_nib25_dly\": 0,\n",
            "    \"wrvref_vref_def\": 0,\n",
            "    \"f0_dqsgate_stg1_overflow_52\": 0,\n",
            "    \"f0_rdprbs_nqtr_right_margin_nibble10\": 0,\n",
            "    \"f1_rddq_idelay_final_bit05\": 0,\n",
            "    \"f0_wrcmplx_odly_dq_final_bit48\": 38,\n",
            "    \"f1_wrdqdbi_stg4_dqs_delay_byte4\": 0,\n",
            "    \"f0_rd_simp_fall_ctp_nib_11\": [\n",
            "        98,\n",
            "        189\n",
            "    ],\n",
            "    \"wrmargin_right_byte3\": 0,\n",
            "    \"f0_wrdqdbi_right_margin_fcrse_byte6\": 70,\n",
            "    \"f0_rddq_idelay_final_bit61\": 85,\n",
            "    \"f0_rddq_idelay_final_bit06\": 86,\n",
            "    \"dqstrack_rldlyrnk_fine_byte1\": 53,\n",
            "    \"rdvref_right_vref_def_nibble14\": 0,\n",
            "    \"f0_rdcmplx_nqtr_right_nibble11\": 153,\n",
            "    \"f1_rddq_idelay_final_bit55\": 0,\n",
            "    \"f1_wrdqdbi_stg3_dq_odly_bit37\": 0,\n",
            "    \"f1_rdcmplx_nqtr_left_nibble06\": 0,\n",
            "    \"rdvref_left_vref_final_nibble01\": 0,\n",
            "    \"f1_dqsgate_stg1_overflow_44\": 0,\n",
            "    \"f0_rd_comp_fall_ctp_nib_14\": [\n",
            "        83,\n",
            "        162\n",
            "    ],\n",
            "    \"f1_wrdqdbi_stg3_dq_odly_bit63\": 0,\n",
            "    \"f1_wrlvl_crse_stg1_rank0_byte7\": 0,\n",
            "    \"f1_dqsgate_stg1_overflow_32\": 0,\n",
            "    \"rdmargin_pqtr_left_nibble13\": 0,\n",
            "    \"f0_wrdqdbi_left_margin_byte7\": 81,\n",
            "    \"f0_rd_simp_rise_rm_nib_03\": [\n",
            "        79,\n",
            "        152\n",
            "    ],\n",
            "    \"f0_wrdqdbi_odly_dq_final_bit15\": 59,\n",
            "    \"f1_rdcmplx_pqtr_left_short_nibble02\": 0,\n",
            "    \"f1_rddq_idelay_final_bit20\": 0,\n",
            "    \"bisc_idly3_align_nibble11\": 77,\n",
            "    \"wrvref_left_vref_low_bound_rank0_byte4\": 0,\n",
            "    \"cal_seq_status_21\": 292,\n",
            "    \"f1_wrdqdbi_stg1_dqs_delay_byte2\": 0,\n",
            "    \"f0_rddq_idelay_final_bit09\": 70,\n",
            "    \"f0_rd_simp_fall_rm_nib_14\": [\n",
            "        74,\n",
            "        144\n",
            "    ],\n",
            "    \"f0_rdprbs_nqtr_left_margin_nibble14\": 0,\n",
            "    \"f1_rdcmplx_pqtr_right_short_nibble14\": 0,\n",
            "    \"f1_wrdqdbi_odly_dq_final_bit02\": 0,\n",
            "    \"cal_error_rank\": 17,\n",
            "    \"dqs_gate_xphy_ub\": 1,\n",
            "    \"f0_wrdqdbi_stg6_dbi_odly_byte6\": 29,\n",
            "    \"f0_wrdqdbi_right_margin_byte3\": 74,\n",
            "    \"f0_wrdqdbi_stg2_dq_odly_bit33\": 21,\n",
            "    \"f1_rddq_idelay_final_bit19\": 0,\n",
            "    \"rdvref_right_vref_def_nibble03\": 0,\n",
            "    \"f1_rdprbs_nqtr_left_margin_nibble04\": 0,\n",
            "    \"cal_pre_status_17_9\": 511,\n",
            "    \"f1_wrdqdbi_stg2_dq_odly_bit16\": 0,\n",
            "    \"ub_isr_calerror\": 0,\n",
            "    \"f1_wrdqdbi_odly_dq_final_bit24\": 0,\n",
            "    \"phy_rden1_dly\": 26,\n",
            "    \"f0_wrdqdbi_left_edge_dq_bit36\": 30,\n",
            "    \"f0_rdcmplx_pqtr_right_short_nibble12\": 167,\n",
            "    \"f1_wrcmplx_odly_dq_final_bit19\": 0,\n",
            "    \"f0_wrdqdbi_stg3_dq_odly_bit32\": 21,\n",
            "    \"f0_rd_comp_rise_lm_nib_12\": [\n",
            "        68,\n",
            "        132\n",
            "    ],\n",
            "    \"f0_rd_simp_fall_lm_nib_12\": [\n",
            "        74,\n",
            "        142\n",
            "    ],\n",
            "    \"f0_rddq_nqtr_left_nibble13\": 23,\n",
            "    \"bisc_idly2_align_nibble12\": 66,\n",
            "    \"cal_warning_00\": 0,\n",
            "    \"f0_rd_comp_fall_lm_nib_08\": [\n",
            "        56,\n",
            "        109\n",
            "    ],\n",
            "    \"cal_stage_time_45\": 0,\n",
            "    \"f0_wrcmplx_odly_dqs_final_byte1\": 71,\n",
            "    \"f0_dqsgate_stg1_overflow_63\": 0,\n",
            "    \"phy_oe_nib24_dly\": 0,\n",
            "    \"cal_warning_59\": 0,\n",
            "    \"f1_dqsgate_stg2_rldlyrnk_crse_rank0_byte6\": 0,\n",
            "    \"f1_rddq_idelay_final_bit45\": 0,\n",
            "    \"f1_rddq_nqtr_right_nibble09\": 0,\n",
            "    \"nsu0_perf_mon_ctl_1_1\": 0,\n",
            "    \"f1_rdcmplx_pqtr_right_short_fcrse_nibble07\": 0,\n",
            "    \"f0_rddq_idelay_final_bit45\": 74,\n",
            "    \"wrvref_right_vref_upp_bound_rank0_byte6\": 0,\n",
            "    \"f0_rddq_idelay_final_bit14\": 76,\n",
            "    \"rdvref_left_vref_def_nibble02\": 0,\n",
            "    \"f0_calbisc_rl_dly_qtr_nibble06\": 79,\n",
            "    \"f1_dqsgate_stg1_rldlyrnk_fine_rank0_byte5\": 0,\n",
            "    \"f1_rdcmplx_nqtr_final_nibble13\": 0,\n",
            "    \"bisc_idly5_align_nibble11\": 80,\n",
            "    \"f0_rddq_pqtr_right_nibble13\": 176,\n",
            "    \"lranks\": 1,\n",
            "    \"f0_rdcmplx_nqtr_left_short_nibble08\": 19,\n",
            "    \"f0_wrdqdbi_left_edge_dq_bit21\": 14,\n",
            "    \"f1_calbisc_rl_dly_nqtr_nibble04\": 0,\n",
            "    \"eye_scan_status\": \"NOT RUNNING\",\n",
            "    \"f0_wrcmplx_odly_dqs_final_byte0\": 66,\n",
            "    \"f1_wrdqdbi_left_edge_dq_bit16\": 0,\n",
            "    \"f0_rd_comp_fall_ctp_nib_06\": [\n",
            "        88,\n",
            "        170\n",
            "    ],\n",
            "    \"f1_dqsgate_stg1_overflow_62\": 0,\n",
            "    \"f0_rd_simp_rise_lm_nib_09\": [\n",
            "        78,\n",
            "        154\n",
            "    ],\n",
            "    \"f0_wrlvl_fine_right_rank0_byte1\": 57,\n",
            "    \"f1_wrdqdbi_left_edge_dq_bit51\": 0,\n",
            "    \"bisc_rl_dly_qtr_nibble11\": 80,\n",
            "    \"f1_wrcmplx_odly_dq_final_bit06\": 0,\n",
            "    \"f1_wrcmplx_odly_dq_final_bit00\": 0,\n",
            "    \"f0_wr_simp_lm_byte_00\": [\n",
            "        83,\n",
            "        159\n",
            "    ],\n",
            "    \"f0_rddq_pqtr_right_fcrse_nibble05\": 183,\n",
            "    \"cal_warning_72\": 0,\n",
            "    \"f0_wrcmplx_odly_dq_final_bit24\": 75,\n",
            "    \"wrvref_right_vref_def_rank0_byte7\": 0,\n",
            "    \"rdmargin_nqtr_right_nibble11\": 0,\n",
            "    \"iobmap_dqs_10\": 0,\n",
            "    \"f0_rddq_nqtr_right_fcrse_nibble08\": 164,\n",
            "    \"f0_write_latency\": 1,\n",
            "    \"f0_rddq_nqtr_final_nibble08\": 90,\n",
            "    \"f0_wrdqdbi_deskew_dq_odly_fcrse_bit06\": 140,\n",
            "    \"f0_rddq_pqtr_final_nibble11\": 95,\n",
            "    \"f0_rddq_nqtr_right_nibble09\": 163,\n",
            "    \"f1_wrdqdbi_left_edge_dq_bit13\": 0,\n",
            "    \"bisc_idly4_align_nibble04\": 73,\n",
            "    \"f0_mr3_17_9\": 0,\n",
            "    \"f1_wrdqdbi_stg1_dqs_delay_byte3\": 0,\n",
            "    \"f0_dqsgate_stg1_rldlyrnk_fine_rank0_byte4\": 12,\n",
            "    \"cal_stage_time_23\": 0,\n",
            "    \"vttrack_rldlyqtr_nibble10\": 80,\n",
            "    \"f0_wrdqdbi_stg1_dqs_delay_byte1\": 71,\n",
            "    \"f1_rddq_idelay_final_bit08\": 0,\n",
            "    \"vttrack_rldlyqtr_max_nibble06\": 84,\n",
            "    \"f0_wrlvl_fine_final_rank0_byte1\": 55,\n",
            "    \"bisc_idly2_align_nibble14\": 66,\n",
            "    \"f0_rdcmplx_pqtr_final_nibble14\": 90,\n",
            "    \"f0_dqsgate_stg1_rldlyrnk_fine_rank0_byte1\": 53,\n",
            "    \"f0_add_cmd_dly\": 0,\n",
            "    \"f0_wrcmplx_left_margin_byte6\": 74,\n",
            "    \"cal_stage.07_F0_WRITE_LATENCY_CAL\": \"Pass\",\n",
            "    \"f0_wr_comp_rm_byte_01\": [\n",
            "        69,\n",
            "        133\n",
            "    ],\n",
            "    \"f0_rdcmplx_pqtr_right_nibble05\": 160,\n",
            "    \"f0_wrdqdbi_deskew_dq_odly_fcrse_bit11\": 125,\n",
            "    \"f0_wrdqdbi_stg3_dq_odly_bit29\": 69,\n",
            "    \"bisc_pqtr_nibble11\": 80,\n",
            "    \"wrvref_left_vref_def_rank0_byte1\": 0,\n",
            "    \"rdmargin_pqtr_right_nibble12\": 0,\n",
            "    \"f0_rd_simp_rise_lm_nib_07\": [\n",
            "        78,\n",
            "        152\n",
            "    ],\n",
            "    \"f0_wr_comp_lm_byte_01\": [\n",
            "        73,\n",
            "        141\n",
            "    ],\n",
            "    \"f1_wrdqdbi_stg3_dq_odly_bit57\": 0,\n",
            "    \"f1_wrdqdbi_deskew_dq_odly_fcrse_bit23\": 0,\n",
            "    \"f0_rdcmplx_nqtr_right_short_nibble05\": 171,\n",
            "    \"f1_wrdqdbi_odly_dq_final_bit51\": 0,\n",
            "    \"f1_rdprbs_nqtr_right_margin_nibble09\": 0,\n",
            "    \"rdvref_vref_low_bound_nibble12\": 0,\n",
            "    \"f1_dqsgate_stg1_overflow_27\": 0,\n",
            "    \"f1_wrlat_xpi_wrdata_all_final\": 0,\n",
            "    \"f1_wrprbs_left_margin_byte2\": 0,\n",
            "    \"f1_wrdqdbi_stg5_dqs_odly_byte0\": 0,\n",
            "    \"f1_wrlvl_crse_final_rank0_byte5\": 0,\n",
            "    \"f0_rdprbs_pqtr_right_margin_nibble03\": 0,\n",
            "    \"f0_lp4_mr14\": 0,\n",
            "    \"rdvref_right_vref_upp_bound_nibble15\": 0,\n",
            "    \"f1_wrdqdbi_left_edge_dq_bit28\": 0,\n",
            "    \"f0_wrdqdbi_left_edge_dq_bit05\": 56,\n",
            "    \"dqstrack_rldlyrnk_crse_byte2\": 5,\n",
            "    \"wrvref_right_vref_final_rank0_byte3\": 0,\n",
            "    \"f0_rd_simp_rise_rm_nib_10\": [\n",
            "        74,\n",
            "        146\n",
            "    ],\n",
            "    \"f0_wr_comp_ctp_byte_04\": [\n",
            "        278,\n",
            "        545\n",
            "    ],\n",
            "    \"f0_wrdqdbi_stg3_dq_odly_bit60\": 63,\n",
            "    \"cal_error_msg\": \"None\",\n",
            "    \"cal_stage_time_04\": 0,\n",
            "    \"f1_wrdqdbi_deskew_dq_odly_fcrse_bit38\": 0,\n",
            "    \"f1_rdcmplx_pqtr_right_short_fcrse_nibble09\": 0,\n",
            "    \"rdvref_left_vref_def_nibble07\": 0,\n",
            "    \"f1_wrlat_match_rank0_byte7\": 0,\n",
            "    \"f0_wrdqdbi_left_edge_dq_bit16\": 21,\n",
            "    \"bisc_idly2_align_nibble03\": 74,\n",
            "    \"bisc_pqtr_nibble14\": 80,\n",
            "    \"nsu1_perf_filter_0_0\": 0,\n",
            "    \"dqstrack_rldlyrnk_crse_max_byte6\": 3,\n",
            "    \"f0_rd_comp_rise_rm_nib_04\": [\n",
            "        67,\n",
            "        130\n",
            "    ],\n",
            "    \"f0_dqsgate_stg1_overflow_12\": 0,\n",
            "    \"nsu2_perf_filter_1_1\": 0,\n",
            "    \"f1_wrlvl_fine_left_rank0_byte3\": 0,\n",
            "    \"f1_rddq_idelay_final_bit56\": 0,\n",
            "    \"f0_rd_comp_fall_lm_nib_12\": [\n",
            "        60,\n",
            "        115\n",
            "    ],\n",
            "    \"f0_rdcmplx_pqtr_right_short_nibble06\": 166,\n",
            "    \"iobmap_dqs_11\": 0,\n",
            "    \"f0_rddq_idelay_final_bit25\": 74,\n",
            "    \"f0_wrdqdbi_left_edge_dbi_byte7\": 63,\n",
            "    \"bisc_idly3_align_nibble03\": 75,\n",
            "    \"f1_dqsgate_stg1_overflow_00\": 0,\n",
            "    \"mem_ranks\": 1,\n",
            "    \"phy_oe_nib26_dly\": 0,\n",
            "    \"f0_dqsgate_stg1_read_lat_rank0_byte2\": 24,\n",
            "    \"f0_wrdqdbi_left_edge_dq_bit25\": 70,\n",
            "    \"f1_wrdqdbi_stg3_dq_odly_bit01\": 0,\n",
            "    \"f0_rddq_idelay_final_bit47\": 70,\n",
            "    \"bisc_mon_align_nibble13\": 0,\n",
            "    \"f1_rdcmplx_idelay_offset_nibble10\": 0,\n",
            "    \"bisc_pqtr_align_nibble09\": 0,\n",
            "    \"f1_wrcmplx_odly_dqs_final_byte5\": 0,\n",
            "    \"f0_wrdqdbi_stg3_dq_odly_bit43\": 37,\n",
            "    \"f1_wrdqdbi_stg5_dqs_odly_byte5\": 0,\n",
            "    \"f0_rdcmplx_nqtr_right_short_fcrse_nibble01\": 182,\n",
            "    \"f0_wrdqdbi_deskew_dq_odly_bit51\": 101,\n",
            "    \"f1_wrdqdbi_odly_dq_final_bit44\": 0,\n",
            "    \"phy_oe_nib23_dly\": 0,\n",
            "    \"iobmap_dq_19_18\": 0,\n",
            "    \"f0_rddq_pqtr_final_nibble12\": 94,\n",
            "    \"f0_wrdqdbi_stg3_dq_odly_bit48\": 29,\n",
            "    \"wrvref_vref_upp_bound_rank0_byte4\": 0,\n",
            "    \"nsu0_perf_mon_ctl_0_1\": 0,\n",
            "    \"f0_rddq_nqtr_final_nibble07\": 99,\n",
            "    \"rdvref_left_vref_final_nibble09\": 0,\n",
            "    \"f0_dqsgate_stg1_overflow_31\": 0,\n",
            "    \"f0_rdcmplx_nqtr_left_short_nibble12\": 21,\n",
            "    \"f1_wrlvl_offset_rank0_byte3\": 0,\n",
            "    \"rdvref_vref_upp_bound_nibble09\": 0,\n",
            "    \"ddrmc_isr_uc0_ecc0\": 0,\n",
            "    \"f1_wrdqdbi_stg3_dq_odly_bit34\": 0,\n",
            "    \"bisc_rl_dly_qtr_nibble09\": 79,\n",
            "    \"vttrack_rldlyqtr_min_nibble04\": 78,\n",
            "    \"mgchk_enable_status\": 0,\n",
            "    \"f0_wrdqdbi_stg2_dq_odly_bit29\": 69,\n",
            "    \"f0_rd_comp_rise_lm_nib_00\": [\n",
            "        69,\n",
            "        128\n",
            "    ],\n",
            "    \"f1_dqsgate_stg1_overflow_06\": 0,\n",
            "    \"f0_wrlat_wldlyrnk_crse_final_rank0_byte5\": 3,\n",
            "    \"cal_stage_time_59\": 0,\n",
            "    \"f1_wrlvl_fine_left_rank0_byte2\": 0,\n",
            "    \"f1_rddq_pqtr_right_nibble05\": 0,\n",
            "    \"phy_oe_nib20_dly\": 1,\n",
            "    \"f0_wrdqdbi_stg1_bit_status_byte6\": 0,\n",
            "    \"f1_wrdqdbi_stg2_dq_odly_bit25\": 0,\n",
            "    \"f1_wrdqdbi_deskew_dq_odly_fcrse_bit63\": 0,\n",
            "    \"alert_parity_ch1_error\": 0,\n",
            "    \"f0_wrlvl_offset_rank0_byte6\": 82,\n",
            "    \"iobmap_dq_61_60\": 0,\n",
            "    \"f0_wrlvl_noise_fcrse_rank0_byte0\": 55,\n",
            "    \"f1_wrdqdbi_left_edge_dq_bit00\": 0,\n",
            "    \"cal_seq_status_14\": 272,\n",
            "    \"f1_wrdqdbi_deskew_dq_odly_fcrse_bit39\": 0,\n",
            "    \"f0_rdcmplx_nqtr_left_short_nibble13\": 25,\n",
            "    \"f1_wrdqdbi_stg2_dq_odly_bit63\": 0,\n",
            "    \"f1_dqsgate_stg1_overflow_46\": 0,\n",
            "    \"wrvref_vref_upp_bound_rank0_byte1\": 0,\n",
            "    \"f1_wrlvl_crse_stg1_rank0_byte2\": 0,\n",
            "    \"f1_wrdqdbi_deskew_dq_odly_bit26\": 0,\n",
            "    \"f1_wrdqdbi_odly_dq_final_bit09\": 0,\n",
            "    \"f0_qtr_time\": 156,\n",
            "    \"dqstrack_rldlyrnk_crse_max_byte1\": 4,\n",
            "    \"f0_rd_comp_rise_ctp_nib_05\": [\n",
            "        92,\n",
            "        180\n",
            "    ],\n",
            "    \"f1_wrdqdbi_deskew_dq_odly_bit49\": 0,\n",
            "    \"0x13_F0_WRITE_DQ_DBI_CAL_COMPLEX\": \"Pass\",\n",
            "    \"cal_seq_status_05\": 263,\n",
            "    \"f0_rdcmplx_nqtr_right_nibble15\": 154,\n",
            "    \"vttrack_rldlyqtr_nibble13\": 78,\n",
            "    \"nsu0_perf_filter_0_0\": 0,\n",
            "    \"f1_wrlvl_crse_stg1_rank0_byte6\": 0,\n",
            "    \"f1_wrdqdbi_stg3_dq_odly_bit07\": 0,\n",
            "    \"f1_wrlvl_noise_fcrse_rank0_byte4\": 0,\n",
            "    \"f0_dram_2t_mode\": 0,\n",
            "    \"f0_rdcmplx_nqtr_right_nibble05\": 149,\n",
            "    \"f0_wrdqdbi_odly_dq_final_bit41\": 36,\n",
            "    \"phy_oe_nib22_dly\": 0,\n",
            "    \"bisc_pqtr_align_nibble01\": 0,\n",
            "    \"f1_wrdqdbi_odly_dq_final_bit16\": 0,\n",
            "    \"f0_rddq_nqtr_final_nibble05\": 101,\n",
            "    \"f0_wrdqdbi_stg1_bit_status_byte0\": 255,\n",
            "    \"f1_wrdqdbi_stg1_bit_status_byte1\": 0,\n",
            "    \"f1_wrlvl_noise_fcrse_rank0_byte6\": 0,\n",
            "    \"rdvref_right_vref_upp_bound_nibble14\": 0,\n",
            "    \"f1_calbisc_rl_dly_pqtr_nibble00\": 0,\n",
            "    \"f1_dqsgate_stg1_overflow_16\": 0,\n",
            "    \"dqstrack_rldlyrnk_crse_byte5\": 2,\n",
            "    \"f1_rddq_nqtr_right_nibble01\": 0,\n",
            "    \"f1_rdcmplx_pqtr_left_nibble13\": 0,\n",
            "    \"f0_dqsgate_stg1_rldlyrnk_crse_rank0_byte7\": 5,\n",
            "    \"bisc_idly0_align_nibble05\": 0,\n",
            "    \"f0_xpll_divclk_ht\": 1,\n",
            "    \"f1_rddq_nqtr_right_nibble11\": 0,\n",
            "    \"f1_wrdqdbi_stg3_dq_odly_bit10\": 0,\n",
            "    \"f0_mr4_17_9\": 0,\n",
            "    \"f0_rddq_idelay_final_bit60\": 78,\n",
            "    \"f1_rdcmplx_pqtr_final_nibble14\": 0,\n",
            "    \"f0_wrdqdbi_odly_dqs_final_byte3\": 85,\n",
            "    \"f1_dqsgate_stg1_overflow_60\": 0,\n",
            "    \"f1_wrdqdbi_stg6_dbi_odly_byte0\": 0,\n",
            "    \"f0_mr1_8_0\": 257,\n",
            "    \"cal_stage_time_21\": 0,\n",
            "    \"f0_dqsgate_stg1_overflow_00\": 255,\n",
            "    \"f1_wrdqdbi_odly_dq_final_bit53\": 0,\n",
            "    \"f1_wrdqdbi_stg2_dq_odly_bit00\": 0,\n",
            "    \"f1_wrdqdbi_deskew_dq_odly_fcrse_bit42\": 0,\n",
            "    \"f0_wrprbs_left_margin_byte0\": 0,\n",
            "    \"vttrack_rldlyqtr_nibble14\": 81,\n",
            "    \"rdmargin_nqtr_right_nibble01\": 0,\n",
            "    \"f0_wrlat_phy_oe_nib_final_byte2\": 1,\n",
            "    \"f0_rdcmplx_nqtr_right_nibble06\": 148,\n",
            "    \"f0_wrcmplx_right_margin_byte4\": 62,\n",
            "    \"f1_rdcmplx_idelay_offset_nibble00\": 0,\n",
            "    \"f1_wrcmplx_odly_dq_final_bit03\": 0,\n",
            "    \"f0_rd_simp_fall_rm_nib_02\": [\n",
            "        74,\n",
            "        142\n",
            "    ],\n",
            "    \"f1_rddq_nqtr_right_fcrse_nibble13\": 0,\n",
            "    \"f0_rd_simp_fall_rm_nib_07\": [\n",
            "        74,\n",
            "        142\n",
            "    ],\n",
            "    \"mc_loc\": \"x0y0\",\n",
            "    \"bisc_rl_dly_qtr_nibble07\": 80,\n",
            "    \"nsu1_perf_mon_ctl_1_1\": 0,\n",
            "    \"f0_rddq_nqtr_right_nibble12\": 169,\n",
            "    \"f0_rdcmplx_pqtr_left_nibble03\": 22,\n",
            "    \"f1_wrdqdbi_deskew_dq_odly_fcrse_bit12\": 0,\n",
            "    \"f0_rd_simp_rise_rm_nib_12\": [\n",
            "        76,\n",
            "        148\n",
            "    ],\n",
            "    \"f1_rddq_pqtr_right_nibble14\": 0,\n",
            "    \"0x3f_CAL_DONE\": \"Pass\",\n",
            "    \"f0_wrdqdbi_odly_dq_final_bit56\": 75,\n",
            "    \"f1_wrdqdbi_left_margin_byte7\": 0,\n",
            "    \"f0_dqsgate_stg1_overflow_20\": 0,\n",
            "    \"f1_wrdqdbi_stg2_dq_odly_bit23\": 0,\n",
            "    \"f0_rddq_pqtr_right_nibble03\": 176,\n",
            "    \"f1_wrdqdbi_stg3_dq_odly_bit58\": 0,\n",
            "    \"f1_dqsgate_stg1_overflow_49\": 0,\n",
            "    \"f0_rddq_nqtr_final_nibble06\": 99,\n",
            "    \"wrmargin_right_byte0\": 0,\n",
            "    \"rdvref_vref_upp_bound_nibble01\": 0,\n",
            "    \"f0_rd_comp_rise_lm_nib_14\": [\n",
            "        69,\n",
            "        134\n",
            "    ],\n",
            "    \"f1_par_alert_en\": 1,\n",
            "    \"f1_rdcmplx_pqtr_left_nibble12\": 0,\n",
            "    \"f1_wrdqdbi_stg3_dq_odly_bit49\": 0,\n",
            "    \"wrvref_left_vref_upp_bound_rank0_byte6\": 0,\n",
            "    \"cal_error_bit_phy_nibble_11\": 0,\n",
            "    \"f1_dqsgate_stg1_overflow_11\": 0,\n",
            "    \"f0_rd_simp_rise_lm_nib_14\": [\n",
            "        76,\n",
            "        148\n",
            "    ],\n",
            "    \"cal_warning_78\": 0,\n",
            "    \"nsu0_perf_mon_1_0\": 0,\n",
            "    \"cal_stage_time_22\": 0,\n",
            "    \"f1_dqsgate_stg1_overflow_26\": 0,\n",
            "    \"f1_rddq_idelay_final_bit48\": 0,\n",
            "    \"f0_wrcmplx_odly_dq_final_bit45\": 38,\n",
            "    \"f0_wrdqdbi_right_margin_byte7\": 71,\n",
            "    \"f0_rd_simp_rise_rm_nib_08\": [\n",
            "        76,\n",
            "        148\n",
            "    ],\n",
            "    \"slots\": 1,\n",
            "    \"bisc_idly0_align_nibble08\": 65,\n",
            "    \"f0_dqsgate_stg1_overflow_55\": 0,\n",
            "    \"f1_rdprbs_nqtr_right_margin_nibble06\": 0,\n",
            "    \"nsu3_perf_filter_1_1\": 0,\n",
            "    \"f0_rddq_idelay_final_bit49\": 62,\n",
            "    \"bisc_nqtr_align_nibble14\": 0,\n",
            "    \"f0_wrdqdbi_deskew_dq_odly_bit02\": 128,\n",
            "    \"f1_wrdqdbi_stg3_dq_odly_bit17\": 0,\n",
            "    \"phy_oe_nib19_dly\": 0,\n",
            "    \"f1_rdprbs_nqtr_right_margin_nibble11\": 0,\n",
            "    \"f1_rdprbs_nqtr_right_margin_nibble05\": 0,\n",
            "    \"rdvref_right_vref_low_bound_nibble00\": 0,\n",
            "    \"f0_rdprbs_pqtr_right_margin_nibble15\": 0,\n",
            "    \"iobmap_dq_43_42\": 0,\n",
            "    \"f1_rddq_nqtr_right_nibble12\": 0,\n",
            "    \"rdvref_left_vref_upp_bound_nibble01\": 0,\n",
            "    \"bisc_nqtr_nibble06\": 81,\n",
            "    \"f0_rddq_qtr_deskew_nibble06\": 1,\n",
            "    \"iobmap_dq_39_38\": 0,\n",
            "    \"f1_wrlvl_fine_final_rank0_byte4\": 0,\n",
            "    \"f1_wrdqdbi_right_margin_fcrse_byte1\": 0,\n",
            "    \"nsu0_perf_mon_1_1\": 0,\n",
            "    \"f1_wrdqdbi_left_margin_byte2\": 0,\n",
            "    \"f1_wrdqdbi_stg2_dq_odly_bit28\": 0,\n",
            "    \"f0_wrlvl_noise_fcrse_rank0_byte5\": 35,\n",
            "    \"f1_rdcmplx_pqtr_left_nibble06\": 0,\n",
            "    \"f1_wrcmplx_odly_dq_final_bit37\": 0,\n",
            "    \"f1_wrdqdbi_left_margin_byte0\": 0,\n",
            "    \"f0_rdcmplx_nqtr_right_nibble10\": 148,\n",
            "    \"f0_wrlvl_fine_final_rank0_byte7\": 63,\n",
            "    \"iobmap_dqs_0\": 0,\n",
            "    \"rdvref_left_vref_def_nibble06\": 0,\n",
            "    \"f0_wrdqdbi_left_edge_dq_bit11\": 41,\n",
            "    \"f0_rddq_pqtr_left_nibble10\": 18,\n",
            "    \"f1_wrdqdbi_stg2_dq_odly_bit17\": 0,\n",
            "    \"f0_wrcmplx_odly_dq_final_bit13\": 62,\n",
            "    \"f1_rdcmplx_pqtr_right_short_nibble12\": 0,\n",
            "    \"f1_rdcmplx_pqtr_final_nibble13\": 0,\n",
            "    \"f1_rdprbs_pqtr_right_margin_nibble01\": 0,\n",
            "    \"f0_rdcmplx_pqtr_left_nibble11\": 29,\n",
            "    \"f1_wrdqdbi_odly_dq_final_bit43\": 0,\n",
            "    \"f0_wrdqdbi_stg1_byte_status_01\": 511,\n",
            "    \"f0_wrdqdbi_odly_dqs_final_byte0\": 66,\n",
            "    \"f0_dqsgate_stg1_overflow_14\": 0,\n",
            "    \"cal_message\": \"No errors detected during calibration.\",\n",
            "    \"f0_wrlvl_offset_rank0_byte0\": 82,\n",
            "    \"f0_wrdqdbi_left_edge_dq_bit51\": 22,\n",
            "    \"f1_rddq_idelay_final_bit52\": 0,\n",
            "    \"f0_rdcmplx_nqtr_right_short_fcrse_nibble12\": 167,\n",
            "    \"f0_rd_comp_fall_lm_nib_03\": [\n",
            "        62,\n",
            "        118\n",
            "    ],\n",
            "    \"f0_dqsgate_stg1_overflow_44\": 0,\n",
            "    \"f1_wrdqdbi_right_edge_dqs_byte6\": 0,\n",
            "    \"f1_rddq_nqtr_right_fcrse_nibble06\": 0,\n",
            "    \"bisc_idly4_align_nibble00\": 72,\n",
            "    \"vttrack_rldlyqtr_nibble12\": 80,\n",
            "    \"es_vref_min\": 273,\n",
            "    \"vttrack_rldlyqtr_nibble03\": 80,\n",
            "    \"f0_wrdqdbi_deskew_dq_odly_bit21\": 101,\n",
            "    \"f0_rdcmplx_pqtr_final_nibble05\": 92,\n",
            "    \"vttrack_rldlyqtr_max_nibble11\": 84,\n",
            "    \"f0_wrdqdbi_odly_dbi_final_byte1\": 73,\n",
            "    \"f1_rddq_idelay_final_bit09\": 0,\n",
            "    \"f0_wrdqdbi_stg5_dqs_odly_byte5\": 53,\n",
            "    \"f0_rd_simp_fall_lm_nib_03\": [\n",
            "        76,\n",
            "        144\n",
            "    ],\n",
            "    \"f0_rdcmplx_nqtr_right_nibble07\": 150,\n",
            "    \"f0_rd_comp_rise_ctp_nib_11\": [\n",
            "        99,\n",
            "        193\n",
            "    ],\n",
            "    \"f0_dqsgate_stg1_read_lat_rank0_byte1\": 24,\n",
            "    \"f0_rddq_nqtr_left_nibble12\": 21,\n",
            "    \"f1_wrcmplx_odly_dbi_final_byte3\": 0,\n",
            "    \"iobmap_dq_65_64\": 0,\n",
            "    \"f0_wrdqdbi_left_edge_dq_bit53\": 36,\n",
            "    \"wrvref_left_vref_low_bound_rank0_byte2\": 0,\n",
            "    \"f0_rdcmplx_pqtr_right_short_fcrse_nibble04\": 179,\n",
            "    \"cal_seq_status_10\": 395,\n",
            "    \"f1_wrdqdbi_left_edge_dq_bit09\": 0,\n",
            "    \"vttrack_rldlyqtr_max_nibble05\": 85,\n",
            "    \"f1_calbisc_rl_dly_qtr_nibble12\": 0,\n",
            "    \"f1_dqsgate_stg1_overflow_29\": 0,\n",
            "    \"f1_wrdqdbi_stg2_dq_odly_bit09\": 0,\n",
            "    \"phy_rden17_dly\": 22,\n",
            "    \"f0_rdcmplx_nqtr_left_nibble05\": 29,\n",
            "    \"f0_wrdqdbi_odly_dq_final_bit06\": 71,\n",
            "    \"f1_wrdqdbi_odly_dqs_final_byte1\": 0,\n",
            "    \"f1_rdcmplx_pqtr_right_nibble12\": 0,\n",
            "    \"cal_seq_status_15\": 401,\n",
            "    \"f1_wrcmplx_right_margin_fcrse_byte4\": 0,\n",
            "    \"phy_rden11_dly\": 22,\n",
            "    \"f0_wrdqdbi_deskew_dq_odly_fcrse_bit21\": 100,\n",
            "    \"f1_rdcmplx_pqtr_right_short_fcrse_nibble15\": 0,\n",
            "    \"f0_wrlvl_crse_final_rank0_byte5\": 3,\n",
            "    \"f1_wrdqdbi_left_edge_dq_bit12\": 0,\n",
            "    \"cal_seq_status_43\": 0,\n",
            "    \"f0_wrlat_wldlyrnk_crse_final_rank0_byte3\": 0,\n",
            "    \"f0_rdcmplx_pqtr_left_short_nibble05\": 22,\n",
            "    \"cal_stage_time_34\": 0,\n",
            "    \"phy_oe_nib10_dly\": 0,\n",
            "    \"f1_rddq_nqtr_right_nibble02\": 0,\n",
            "    \"f1_wrdqdbi_left_edge_dq_bit10\": 0,\n",
            "    \"f0_wr_comp_lm_byte_07\": [\n",
            "        76,\n",
            "        148\n",
            "    ],\n",
            "    \"f0_rddq_idelay_final_bit41\": 61,\n",
            "    \"f0_wrdqdbi_left_edge_dq_bit60\": 64,\n",
            "    \"cal_stage_time_30\": 0,\n",
            "    \"bisc_idly1_align_nibble05\": 78,\n",
            "    \"f0_wrdqdbi_deskew_dq_odly_bit56\": 151,\n",
            "    \"wrvref_right_vref_low_bound_rank0_byte1\": 0,\n",
            "    \"f1_wrcmplx_right_margin_byte5\": 0,\n",
            "    \"f0_rddq_idelay_final_bit36\": 67,\n",
            "    \"rdvref_vref_final_nibble09\": 0,\n",
            "    \"f0_rd_simp_rise_lm_nib_04\": [\n",
            "        78,\n",
            "        152\n",
            "    ],\n",
            "    \"f1_wrdqdbi_left_edge_dq_bit32\": 0,\n",
            "    \"f1_rddq_pqtr_final_nibble11\": 0,\n",
            "    \"f1_rdcmplx_pqtr_right_nibble01\": 0,\n",
            "    \"wrvref_vref_low_bound_rank0_byte6\": 0,\n",
            "    \"f1_wrdqdbi_left_edge_dq_bit53\": 0,\n",
            "    \"f1_rddq_nqtr_right_fcrse_nibble01\": 0,\n",
            "    \"f1_rddq_pqtr_final_nibble04\": 0,\n",
            "    \"f0_calbisc_rl_dly_pqtr_nibble04\": 80,\n",
            "    \"reg_safe_config4\": 604004710,\n",
            "    \"f0_wrlat_wldlyrnk_crse_final_rank0_byte6\": 3,\n",
            "    \"f1_rddq_nqtr_left_nibble15\": 0,\n",
            "    \"f1_wrcmplx_odly_dqs_final_byte1\": 0,\n",
            "    \"nsu2_perf_mon_1_2\": 0,\n",
            "    \"f0_wrprbs_right_margin_byte1\": 0,\n",
            "    \"cal_post_status_01\": 0,\n",
            "    \"f0_wrdqdbi_left_edge_dq_bit41\": 27,\n",
            "    \"phy_rden12_dly\": 22,\n",
            "    \"f1_wrdqdbi_stg2_dq_odly_bit01\": 0,\n",
            "    \"f0_wrdqdbi_odly_dq_final_bit55\": 42,\n",
            "    \"f1_dqsgate_stg1_overflow_43\": 0,\n",
            "    \"f0_rdcmplx_nqtr_right_short_fcrse_nibble03\": 183,\n",
            "    \"f0_rdprbs_pqtr_right_margin_nibble07\": 0,\n",
            "    \"f1_rddq_nqtr_final_nibble15\": 0,\n",
            "    \"f1_rdcmplx_nqtr_right_short_fcrse_nibble11\": 0,\n",
            "    \"dqstrack_rldlyrnk_fine_min_byte5\": 13,\n",
            "    \"wrvref_left_vref_def_rank0_byte6\": 0,\n",
            "    \"f1_wrlat_phy_oe_nib_final_byte1\": 0,\n",
            "    \"f1_rdcmplx_pqtr_final_nibble02\": 0,\n",
            "    \"f0_wrcmplx_odly_dq_final_bit20\": 34,\n",
            "    \"rdvref_left_vref_final_nibble06\": 0,\n",
            "    \"f0_rd_comp_fall_lm_nib_15\": [\n",
            "        64,\n",
            "        125\n",
            "    ],\n",
            "    \"bisc_idly5_align_nibble15\": 81,\n",
            "    \"f1_calbisc_rl_dly_nqtr_nibble07\": 0,\n",
            "    \"iobmap_dq_69_68\": 0,\n",
            "    \"wrvref_vref_low_bound_rank0_byte5\": 0,\n",
            "    \"f0_wrlat_xpi_oe_all_final\": 16,\n",
            "    \"f0_wrlvl_crse_final_rank0_byte6\": 3,\n",
            "    \"dqstrack_rldlyrnk_fine_min_byte1\": 53,\n",
            "    \"f0_wrdqdbi_left_margin_byte1\": 90,\n",
            "    \"f0_wrcmplx_left_margin_fcrse_byte3\": 70,\n",
            "    \"phy_oe_nib21_dly\": 1,\n",
            "    \"dqstrack_rldlyrnk_fine_max_byte6\": 52,\n",
            "    \"rdmargin_nqtr_left_nibble00\": 0,\n",
            "    \"f0_rdprbs_pqtr_left_margin_nibble11\": 0,\n",
            "    \"f1_wrdqdbi_deskew_dq_odly_fcrse_bit53\": 0,\n",
            "    \"cal_stage_time_08\": 0,\n",
            "    \"dc1_perf_mon_4\": 0,\n",
            "    \"f1_wrdqdbi_left_edge_dq_bit56\": 0,\n",
            "    \"dc1_perf_mon_1\": 0,\n",
            "    \"f0_dqsgate_stg1_rldlyrnk_fine_rank0_byte7\": 2,\n",
            "    \"f0_rdcmplx_nqtr_left_short_nibble09\": 22,\n",
            "    \"f1_wrdqdbi_stg6_dbi_odly_byte1\": 0,\n",
            "    \"rdvref_vref_upp_bound_nibble00\": 0,\n",
            "    \"rdvref_vref_upp_bound_nibble06\": 0,\n",
            "    \"f1_wrcmplx_odly_dbi_final_byte6\": 0,\n",
            "    \"f1_mr4_8_0\": 0,\n",
            "    \"f1_rdprbs_pqtr_left_margin_nibble00\": 0,\n",
            "    \"vttrack_rldlyqtr_max_nibble15\": 84,\n",
            "    \"f0_wrcmplx_odly_dbi_final_byte5\": 53,\n",
            "    \"f0_rd_comp_rise_lm_nib_07\": [\n",
            "        68,\n",
            "        132\n",
            "    ],\n",
            "    \"rdvref_vref_final_nibble08\": 0,\n",
            "    \"phy_oe_nib14_dly\": 0,\n",
            "    \"f0_wrdqdbi_stg6_dbi_odly_byte5\": 37,\n",
            "    \"f0_wrcmplx_odly_dq_final_bit43\": 38,\n",
            "    \"f1_rddq_pqtr_left_nibble14\": 0,\n",
            "    \"f0_wr_comp_rm_byte_00\": [\n",
            "        66,\n",
            "        126\n",
            "    ],\n",
            "    \"rdvref_right_vref_final_nibble10\": 0,\n",
            "    \"f0_wrdqdbi_left_edge_dq_bit63\": 58,\n",
            "    \"f0_rdprbs_nqtr_right_margin_nibble02\": 0,\n",
            "    \"f0_rdcmplx_nqtr_final_nibble04\": 89,\n",
            "    \"f1_wrdqdbi_stg3_dq_odly_bit20\": 0,\n",
            "    \"f1_wrdqdbi_right_margin_fcrse_byte4\": 0,\n",
            "    \"tag_ver_1\": 0,\n",
            "    \"f1_rddq_idelay_final_bit02\": 0,\n",
            "    \"cal_stage_time_50\": 0,\n",
            "    \"vttrack_rldlyqtr_min_nibble09\": 76,\n",
            "    \"dqstrack_rldlyrnk_crse_min_byte2\": 5,\n",
            "    \"f0_rdcmplx_pqtr_left_short_nibble13\": 23,\n",
            "    \"vttrack_rldlyqtr_min_nibble12\": 78,\n",
            "    \"f0_rddq_nqtr_right_nibble11\": 172,\n",
            "    \"f1_wrdqdbi_left_edge_dq_bit05\": 0,\n",
            "    \"f1_wrlvl_fine_final_rank0_byte3\": 0,\n",
            "    \"f0_rdcmplx_idelay_offset_nibble12\": 0,\n",
            "    \"bisc_nqtr_nibble10\": 81,\n",
            "    \"cal_seq_status_20\": 287,\n",
            "    \"iobmap_dq_25_24\": 0,\n",
            "    \"f0_wrlvl_noise_fcrse_rank0_byte1\": 55,\n",
            "    \"f1_wrdqdbi_stg3_dq_odly_bit54\": 0,\n",
            "    \"0x0c_F0_WRITE_LEVELING\": \"Pass\",\n",
            "    \"error_code_ver\": 2,\n",
            "    \"f0_rd_simp_rise_rm_nib_09\": [\n",
            "        79,\n",
            "        156\n",
            "    ],\n",
            "    \"f1_wrdqdbi_stg6_dbi_odly_byte4\": 0,\n",
            "    \"nsu0_perf_filter_1_1\": 0,\n",
            "    \"bisc_idly2_align_nibble01\": 74,\n",
            "    \"dqstrack_rldlyrnk_crse_max_byte4\": 5,\n",
            "    \"f1_wrdqdbi_stg2_dq_odly_bit58\": 0,\n",
            "    \"rdmargin_pqtr_left_nibble09\": 0,\n",
            "    \"f1_wrdqdbi_deskew_dq_odly_bit08\": 0,\n",
            "    \"rdmargin_nqtr_right_nibble04\": 0,\n",
            "    \"f0_wrdqdbi_stg3_dq_odly_bit27\": 69,\n",
            "    \"f1_rddq_nqtr_left_nibble03\": 0,\n",
            "    \"f1_wrcmplx_left_margin_fcrse_byte3\": 0,\n",
            "    \"cal_warning_52\": 0,\n",
            "    \"rdvref_left_vref_def_nibble05\": 0,\n",
            "    \"f0_wrdqdbi_deskew_dq_odly_fcrse_bit36\": 101,\n",
            "    \"cal_seq_status_48\": 0,\n",
            "    \"vttrack_rldlyqtr_nibble09\": 78,\n",
            "    \"f0_rddq_pqtr_right_nibble15\": 174,\n",
            "    \"reg_safe_config7\": 262696,\n",
            "    \"cal_stage_time_42\": 0,\n",
            "    \"reg_safe_config2\": 1099088782,\n",
            "    \"f0_rddq_pqtr_final_nibble03\": 97,\n",
            "    \"f0_rddq_idelay_final_bit07\": 82,\n",
            "    \"f1_dqsgate_stg1_overflow_24\": 0,\n",
            "    \"f0_wrdqdbi_stg1_dqs_delay_byte3\": 85,\n",
            "    \"f1_wrdqdbi_left_edge_dq_bit26\": 0,\n",
            "    \"c_code_minor_ver\": 1,\n",
            "    \"cal_warning_22\": 0,\n",
            "    \"bisc_mon_align_nibble01\": 0,\n",
            "    \"f0_wrcmplx_left_margin_byte2\": 76,\n",
            "    \"phy_oe_nib1_dly\": 1,\n",
            "    \"f0_rddq_qtr_deskew_nibble05\": 1,\n",
            "    \"f1_rddq_nqtr_right_fcrse_nibble00\": 0,\n",
            "    \"f1_mr5_rtt_park\": 0,\n",
            "    \"f0_rdcmplx_pqtr_final_nibble02\": 90,\n",
            "    \"rdvref_right_vref_def_nibble10\": 0,\n",
            "    \"f0_rddq_nqtr_right_nibble15\": 173,\n",
            "    \"f0_rdcmplx_nqtr_right_short_fcrse_nibble05\": 184,\n",
            "    \"f0_rdcmplx_nqtr_right_short_fcrse_nibble13\": 171,\n",
            "    \"f0_calbisc_rl_dly_pqtr_nibble00\": 84,\n",
            "    \"f1_wrcmplx_left_margin_fcrse_byte7\": 0,\n",
            "    \"f0_rd_comp_rise_ctp_nib_03\": [\n",
            "        91,\n",
            "        176\n",
            "    ],\n",
            "    \"f0_wrcmplx_odly_dq_final_bit32\": 33,\n",
            "    \"bisc_pqtr_nibble03\": 81,\n",
            "    \"f1_rdcmplx_nqtr_right_short_nibble07\": 0,\n",
            "    \"f1_wrdqdbi_odly_dq_final_bit35\": 0,\n",
            "    \"f1_rdcmplx_pqtr_right_nibble04\": 0,\n",
            "    \"f1_wrdqdbi_deskew_dq_odly_fcrse_bit61\": 0,\n",
            "    \"f0_wrcmplx_right_margin_byte3\": 65,\n",
            "    \"f1_wrdqdbi_deskew_dq_odly_fcrse_bit52\": 0,\n",
            "    \"f1_dqsgate_stg2_read_lat_rank0_byte5\": 0,\n",
            "    \"wrvref_left_vref_final_rank0_byte4\": 0,\n",
            "    \"f1_rdcmplx_nqtr_left_nibble11\": 0,\n",
            "    \"f0_rd_comp_fall_rm_nib_15\": [\n",
            "        64,\n",
            "        125\n",
            "    ],\n",
            "    \"f1_rddq_pqtr_left_nibble06\": 0,\n",
            "    \"f1_wrprbs_right_margin_byte1\": 0,\n",
            "    \"dc1_perf_mon\": 62,\n",
            "    \"cal_warning_46\": 0,\n",
            "    \"bisc_nqtr_nibble00\": 83,\n",
            "    \"f0_rd_comp_rise_ctp_nib_06\": [\n",
            "        87,\n",
            "        174\n",
            "    ],\n",
            "    \"f1_rdprbs_nqtr_right_margin_nibble14\": 0,\n",
            "    \"f1_rdcmplx_pqtr_right_nibble07\": 0,\n",
            "    \"f0_rdcmplx_nqtr_right_short_nibble03\": 170,\n",
            "    \"wrvref_right_vref_final_rank0_byte7\": 0,\n",
            "    \"f0_wrdqdbi_deskew_dq_odly_fcrse_bit18\": 100,\n",
            "    \"f0_rd_simp_rise_ctp_nib_14\": [\n",
            "        94,\n",
            "        184\n",
            "    ],\n",
            "    \"rdmargin_nqtr_right_nibble06\": 0,\n",
            "    \"ddrmc_isr_nsu_fatal2\": 0,\n",
            "    \"f0_wrdqdbi_deskew_dq_odly_bit33\": 88,\n",
            "    \"f0_rddq_nqtr_right_fcrse_nibble05\": 182,\n",
            "    \"f0_wrlat_phy_data_nib_final_byte4\": 1,\n",
            "    \"f0_calbisc_rl_dly_nqtr_nibble15\": 80,\n",
            "    \"f1_rddq_nqtr_right_fcrse_nibble02\": 0,\n",
            "    \"f0_rd_comp_rise_rm_nib_10\": [\n",
            "        69,\n",
            "        136\n",
            "    ],\n",
            "    \"f1_wrcmplx_odly_dbi_final_byte0\": 0,\n",
            "    \"cal_stage.04_F0_WRITE_LEVELING\": \"Pass\",\n",
            "    \"alert_parity_ch0_error\": 0,\n",
            "    \"cal_seq_status_35\": 306,\n",
            "    \"f0_rdcmplx_idelay_offset_nibble10\": 0,\n",
            "    \"f0_dqsgate_read_lat_final_byte3\": 26,\n",
            "    \"rdvref_left_vref_final_nibble02\": 0,\n",
            "    \"wrvref_vref_upp_bound_rank0_byte6\": 0,\n",
            "    \"f1_wrlat_wldlyrnk_crse_final_rank0_byte1\": 0,\n",
            "    \"cal_warning_71\": 0,\n",
            "    \"f1_wrdqdbi_stg2_dq_odly_bit36\": 0,\n",
            "    \"f0_wrdqdbi_deskew_dq_odly_fcrse_bit00\": 140,\n",
            "    \"f0_wrdqdbi_deskew_dq_odly_bit60\": 145,\n",
            "    \"f0_rd_simp_fall_ctp_nib_15\": [\n",
            "        97,\n",
            "        189\n",
            "    ],\n",
            "    \"bisc_idly0_align_nibble15\": 76,\n",
            "    \"f1_wrdqdbi_deskew_dq_odly_bit19\": 0,\n",
            "    \"rdvref_right_vref_final_nibble11\": 0,\n",
            "    \"f0_wrdqdbi_stg3_dq_odly_bit30\": 69,\n",
            "    \"f0_rdcmplx_nqtr_left_short_nibble11\": 26,\n",
            "    \"f1_rdprbs_nqtr_left_margin_nibble03\": 0,\n",
            "    \"f0_rd_comp_rise_lm_nib_09\": [\n",
            "        70,\n",
            "        138\n",
            "    ],\n",
            "    \"f1_rdcmplx_pqtr_right_nibble03\": 0,\n",
            "    \"cal_stage.01_F0_PHY_BISC\": \"Pass\",\n",
            "    \"f0_wrcmplx_odly_dq_final_bit40\": 55,\n",
            "    \"bisc_idly2_align_nibble10\": 65,\n",
            "    \"f1_rddq_pqtr_left_nibble03\": 0,\n",
            "    \"f1_rdprbs_pqtr_left_margin_nibble09\": 0,\n",
            "    \"rdmargin_pqtr_left_nibble11\": 0,\n",
            "    \"f0_rddq_pqtr_right_nibble04\": 175,\n",
            "    \"f0_dqsgate_stg1_overflow_11\": 0,\n",
            "    \"ddrmc_isr_dram_parity1\": 0,\n",
            "    \"f0_wrcmplx_right_margin_byte5\": 62,\n",
            "    \"cal_seq_status_13\": 271,\n",
            "    \"cal_seq_status_47\": 0,\n",
            "    \"f0_wrdqdbi_deskew_dq_odly_bit27\": 160,\n",
            "    \"ref_en\": 2,\n",
            "    \"f0_rd_comp_rise_ctp_nib_13\": [\n",
            "        97,\n",
            "        189\n",
            "    ],\n",
            "    \"bisc_nqtr_nibble09\": 79,\n",
            "    \"f1_rddq_pqtr_left_nibble08\": 0,\n",
            "    \"f1_xpll_divclk_lt\": 1,\n",
            "    \"cal_error_bit_phy_nibble_16\": 0,\n",
            "    \"f0_wrdqdbi_stg4_dqs_delay_byte5\": 14,\n",
            "    \"f0_rddq_idelay_final_bit46\": 78,\n",
            "    \"f0_rdcmplx_nqtr_left_nibble07\": 26,\n",
            "    \"f1_wrdqdbi_odly_dbi_final_byte2\": 0,\n",
            "    \"f0_wrdqdbi_stg2_dq_odly_bit47\": 37,\n",
            "    \"f1_wrcmplx_odly_dq_final_bit01\": 0,\n",
            "    \"f0_wrdqdbi_odly_dq_final_bit54\": 39,\n",
            "    \"f1_wrdqdbi_stg2_dq_odly_bit08\": 0,\n",
            "    \"f1_wrdqdbi_stg3_dq_odly_bit44\": 0,\n",
            "    \"bisc_nqtr_align_nibble09\": 0,\n",
            "    \"f1_wrcmplx_left_margin_byte2\": 0,\n",
            "    \"f1_rdprbs_nqtr_right_margin_nibble07\": 0,\n",
            "    \"cal_seq_status_16\": 274,\n",
            "    \"f0_dqsgate_stg1_rldlyrnk_crse_rank0_byte4\": 13,\n",
            "    \"f0_rddq_idelay_final_bit05\": 87,\n",
            "    \"cal_warning_45\": 0,\n",
            "    \"f0_rddq_nqtr_right_fcrse_nibble03\": 180,\n",
            "    \"f1_wrdqdbi_left_edge_dq_bit61\": 0,\n",
            "    \"f0_rddq_pqtr_final_nibble14\": 94,\n",
            "    \"f1_rdcmplx_pqtr_right_short_fcrse_nibble08\": 0,\n",
            "    \"f0_wrdqdbi_left_margin_byte6\": 79,\n",
            "    \"wrvref_vref_low_bound_rank0_byte0\": 0,\n",
            "    \"rdvref_left_vref_def_nibble11\": 0,\n",
            "    \"f0_wrdqdbi_stg4_dqs_delay_byte7\": 14,\n",
            "    \"dc1_perf_mon_8\": 0,\n",
            "    \"f1_wrdqdbi_odly_dq_final_bit52\": 0,\n",
            "    \"f0_wrdqdbi_odly_dq_final_bit00\": 69,\n",
            "    \"f1_wrcmplx_odly_dq_final_bit13\": 0,\n",
            "    \"f0_rdprbs_pqtr_right_margin_nibble00\": 0,\n",
            "    \"f0_dqsgate_stg1_overflow_10\": 0,\n",
            "    \"f0_rd_comp_rise_ctp_nib_04\": [\n",
            "        91,\n",
            "        178\n",
            "    ],\n",
            "    \"f0_rd_simp_rise_ctp_nib_06\": [\n",
            "        93,\n",
            "        186\n",
            "    ],\n",
            "    \"f0_rddq_nqtr_right_fcrse_nibble01\": 180,\n",
            "    \"f0_wrdqdbi_deskew_dq_odly_fcrse_bit60\": 143,\n",
            "    \"rdvref_vref_low_bound_nibble15\": 0,\n",
            "    \"f1_rddq_idelay_final_bit30\": 0,\n",
            "    \"f0_rddq_qtr_deskew_nibble12\": 1,\n",
            "    \"f1_rddq_pqtr_left_nibble15\": 0,\n",
            "    \"phy_rden16_dly\": 26,\n",
            "    \"f1_rddq_idelay_final_bit11\": 0,\n",
            "    \"bisc_mon_align_nibble04\": 0,\n",
            "    \"cal_error_bit_phy_nibble_17\": 0,\n",
            "    \"cal_stage_time_26\": 0,\n",
            "    \"f0_wrdqdbi_odly_dq_final_bit08\": 63,\n",
            "    \"f0_wrcmplx_odly_dq_final_bit52\": 42,\n",
            "    \"f1_dqsgate_stg1_read_lat_rank0_byte4\": 0,\n",
            "    \"f1_wrdqdbi_stg6_dbi_odly_byte7\": 0,\n",
            "    \"rdmargin_pqtr_left_nibble01\": 0,\n",
            "    \"f0_rddq_nqtr_right_nibble00\": 171,\n",
            "    \"cal_seq_status_29\": 299,\n",
            "    \"f0_wrlvl_crse_final_rank0_byte4\": 3,\n",
            "    \"f0_rdcmplx_nqtr_left_nibble02\": 26,\n",
            "    \"f0_rddq_pqtr_final_nibble13\": 97,\n",
            "    \"f1_wrdqdbi_odly_dq_final_bit10\": 0,\n",
            "    \"f0_rd_simp_rise_rm_nib_01\": [\n",
            "        79,\n",
            "        152\n",
            "    ],\n",
            "    \"cal_warning_28\": 0,\n",
            "    \"rdvref_right_vref_final_nibble00\": 0,\n",
            "    \"f1_rdprbs_nqtr_left_margin_nibble08\": 0,\n",
            "    \"f0_wrdqdbi_deskew_dq_odly_bit31\": 156,\n",
            "    \"f0_wrdqdbi_stg2_dq_odly_bit08\": 55,\n",
            "    \"f0_rdcmplx_nqtr_right_short_fcrse_nibble08\": 165,\n",
            "    \"f1_wrdqdbi_stg2_dqs_odly_byte0\": 0,\n",
            "    \"f1_wrdqdbi_stg2_dqs_odly_byte7\": 0,\n",
            "    \"f1_rdcmplx_pqtr_right_nibble15\": 0,\n",
            "    \"cal_seq_status_07\": 265,\n",
            "    \"f1_dqsgate_stg1_overflow_54\": 0,\n",
            "    \"f0_wrdqdbi_odly_dqs_final_byte5\": 53,\n",
            "    \"f0_rddq_qtr_deskew_nibble10\": 1,\n",
            "    \"f1_rddq_idelay_final_bit16\": 0,\n",
            "    \"f0_rcd_rc3x\": 0,\n",
            "    \"f0_wrcmplx_right_margin_fcrse_byte2\": 60,\n",
            "    \"f1_rdcmplx_pqtr_right_nibble08\": 0,\n",
            "    \"rdvref_right_vref_low_bound_nibble15\": 0,\n",
            "    \"f1_wrlvl_fine_right_rank0_byte7\": 0,\n",
            "    \"bisc_nqtr_align_nibble13\": 0,\n",
            "    \"f0_rdcmplx_idelay_offset_nibble06\": 0,\n",
            "    \"f0_rdprbs_pqtr_left_margin_nibble05\": 0,\n",
            "    \"f1_rdcmplx_nqtr_right_nibble03\": 0,\n",
            "    \"f1_rdcmplx_pqtr_left_nibble04\": 0,\n",
            "    \"f1_rdcmplx_nqtr_left_nibble10\": 0,\n",
            "    \"f1_wrcmplx_left_margin_byte3\": 0,\n",
            "    \"cal_error_data_nibble_8_0\": 0,\n",
            "    \"f1_rddq_idelay_final_bit25\": 0,\n",
            "    \"f0_rdcmplx_pqtr_left_nibble13\": 26,\n",
            "    \"f1_calbisc_rl_dly_qtr_nibble03\": 0,\n",
            "    \"bisc_mon_align_nibble12\": 0,\n",
            "    \"f0_wrdqdbi_stg4_byte_status_01\": 511,\n",
            "    \"ub_ub_msg\": 0,\n",
            "    \"f1_rdprbs_nqtr_left_margin_nibble13\": 0,\n",
            "    \"f0_rddq_nqtr_right_nibble05\": 175,\n",
            "    \"f0_wrdqdbi_deskew_dq_odly_bit57\": 141,\n",
            "    \"f1_wrlvl_fine_right_rank0_byte6\": 0,\n",
            "    \"mc_index\": \"0\",\n",
            "    \"f1_wrdqdbi_deskew_dq_odly_bit42\": 0,\n",
            "    \"f0_dqsgate_stg1_read_lat_rank0_byte3\": 24,\n",
            "    \"f1_wrdqdbi_odly_dq_final_bit39\": 0,\n",
            "    \"f1_wrlvl_offset_rank0_byte4\": 0,\n",
            "    \"f0_wrdqdbi_right_margin_fcrse_byte3\": 70,\n",
            "    \"f0_wrdqdbi_deskew_dq_odly_bit50\": 101,\n",
            "    \"f0_rddq_idelay_final_bit00\": 73,\n",
            "    \"dqstrack_rldlyrnk_fine_byte3\": 8,\n",
            "    \"f0_rddq_qtr_deskew_nibble00\": 1,\n",
            "    \"f0_wr_comp_ctp_byte_03\": [\n",
            "        85,\n",
            "        167\n",
            "    ],\n",
            "    \"f1_wrdqdbi_deskew_dq_odly_bit03\": 0,\n",
            "    \"f0_wrdqdbi_deskew_dq_odly_fcrse_bit37\": 81,\n",
            "    \"f0_rddq_pqtr_final_nibble07\": 96,\n",
            "    \"wrvref_right_vref_final_rank0_byte1\": 0,\n",
            "    \"f0_wrdqdbi_deskew_dq_odly_fcrse_bit32\": 101,\n",
            "    \"f0_rdprbs_pqtr_right_margin_nibble08\": 0,\n",
            "    \"f1_dqsgate_stg1_rldlyrnk_crse_rank0_byte0\": 0,\n",
            "    \"f1_rddq_idelay_final_bit32\": 0,\n",
            "    \"f1_wrdqdbi_deskew_dq_odly_fcrse_bit36\": 0,\n",
            "    \"f0_wrdqdbi_deskew_dq_odly_bit42\": 108,\n",
            "    \"f0_calbisc_rl_dly_nqtr_nibble00\": 81,\n",
            "    \"rdmargin_nqtr_right_nibble08\": 0,\n",
            "    \"f0_wrdqdbi_stg3_dq_odly_bit01\": 50,\n",
            "    \"wrvref_vref_final_rank0_byte7\": 0,\n",
            "    \"f1_rdcmplx_pqtr_final_nibble01\": 0,\n",
            "    \"f1_rddq_idelay_final_bit63\": 0,\n",
            "    \"f0_wrprbs_left_margin_byte7\": 0,\n",
            "    \"f0_wrdqdbi_odly_dq_final_bit12\": 74,\n",
            "    \"f1_rdcmplx_pqtr_right_short_fcrse_nibble04\": 0,\n",
            "    \"f1_wrdqdbi_stg6_dbi_odly_byte5\": 0,\n",
            "    \"f0_rdprbs_pqtr_right_margin_nibble10\": 0,\n",
            "    \"f1_wrdqdbi_stg5_dqs_odly_byte3\": 0,\n",
            "    \"f1_rdcmplx_pqtr_right_short_fcrse_nibble11\": 0,\n",
            "    \"f0_wrdqdbi_stg1_bit_status_byte4\": 0,\n",
            "    \"f1_wrdqdbi_stg5_dqs_odly_byte7\": 0,\n",
            "    \"f0_wrcmplx_left_margin_fcrse_byte6\": 70,\n",
            "    \"f0_wrdqdbi_deskew_dq_odly_bit17\": 98,\n",
            "    \"bisc_rl_dly_qtr_nibble15\": 80,\n",
            "    \"f1_wrdqdbi_odly_dq_final_bit13\": 0,\n",
            "    \"f1_wrcmplx_odly_dqs_final_byte7\": 0,\n",
            "    \"f0_wrlat_phy_data_nib_final_byte1\": 0,\n",
            "    \"f1_wrdqdbi_stg2_dq_odly_bit47\": 0,\n",
            "    \"f0_rddq_nqtr_left_nibble03\": 25,\n",
            "    \"f1_rdcmplx_nqtr_final_nibble08\": 0,\n",
            "    \"cal_warning_13\": 0,\n",
            "    \"cal_warning_44\": 0,\n",
            "    \"f1_wrdqdbi_left_edge_dq_bit30\": 0,\n",
            "    \"f0_wrdqdbi_stg4_dqs_delay_byte3\": 14,\n",
            "    \"f1_calbisc_rl_dly_nqtr_nibble09\": 0,\n",
            "    \"f0_wrdqdbi_stg2_dq_odly_bit37\": 21,\n",
            "    \"nsu0_perf_mon_ctl_1_0\": 0,\n",
            "    \"cal_warning_32\": 0,\n",
            "    \"f1_rddq_nqtr_right_fcrse_nibble15\": 0,\n",
            "    \"bisc_pqtr_nibble04\": 81,\n",
            "    \"cal_stage_time_15\": 0,\n",
            "    \"f1_calbisc_rl_dly_qtr_nibble01\": 0,\n",
            "    \"f1_wrlvl_crse_final_rank0_byte2\": 0,\n",
            "    \"f1_rddq_idelay_final_bit00\": 0,\n",
            "    \"bisc_pqtr_align_nibble02\": 1,\n",
            "    \"f1_wrdqdbi_deskew_dq_odly_bit30\": 0,\n",
            "    \"mgchk_pattern_config_1\": 0,\n",
            "    \"vttrack_rldlyqtr_max_nibble13\": 83,\n",
            "    \"f1_wrdqdbi_left_edge_dq_bit29\": 0,\n",
            "    \"cal_warning_14\": 0,\n",
            "    \"bisc_pqtr_nibble01\": 81,\n",
            "    \"f0_dqsgate_stg1_overflow_39\": 0,\n",
            "    \"f0_wrdqdbi_deskew_dq_odly_fcrse_bit51\": 99,\n",
            "    \"f0_wrcmplx_odly_dq_final_bit38\": 37,\n",
            "    \"f0_wrcmplx_odly_dq_final_bit03\": 66,\n",
            "    \"f0_rddq_nqtr_right_nibble03\": 177,\n",
            "    \"f1_wrlvl_fine_right_rank0_byte5\": 0,\n",
            "    \"f0_dqsgate_stg1_overflow_43\": 0,\n",
            "    \"cal_error_bit_phy_nibble_09\": 0,\n",
            "    \"rdvref_right_vref_def_nibble01\": 0,\n",
            "    \"f0_wrcmplx_right_margin_fcrse_byte0\": 60,\n",
            "    \"cal_seq_status_40\": 445,\n",
            "    \"rdvref_right_vref_def_nibble05\": 0,\n",
            "    \"f1_dqsgate_stg1_overflow_42\": 0,\n",
            "    \"f1_wrcmplx_right_margin_fcrse_byte3\": 0,\n",
            "    \"f0_wrdqdbi_stg1_dqs_delay_byte5\": 53,\n",
            "    \"f0_wrlat_phy_oe_nib_final_byte6\": 1,\n",
            "    \"f1_wrcmplx_odly_dq_final_bit30\": 0,\n",
            "    \"cal_stage.02_F0_MEM_INIT\": \"Pass\",\n",
            "    \"f0_wrlvl_crse_final_rank0_byte0\": 2,\n",
            "    \"rdvref_right_vref_def_nibble02\": 0,\n",
            "    \"f0_rdcmplx_pqtr_left_nibble00\": 21,\n",
            "    \"iobmap_dq_23_22\": 0,\n",
            "    \"f0_rddq_nqtr_right_fcrse_nibble04\": 182,\n",
            "    \"f1_rddq_pqtr_left_nibble05\": 0,\n",
            "    \"phy_rden25_dly\": 25,\n",
            "    \"f1_rdcmplx_pqtr_final_nibble11\": 0,\n",
            "    \"f0_wrdqdbi_stg5_dqs_odly_byte7\": 79,\n",
            "    \"f1_wrlvl_fine_left_rank0_byte5\": 0,\n",
            "    \"f0_wrcmplx_odly_dq_final_bit23\": 27,\n",
            "    \"f1_wrdqdbi_odly_dq_final_bit58\": 0,\n",
            "    \"cal_warning_19\": 0,\n",
            "    \"wrmargin_right_byte2\": 0,\n",
            "    \"rdvref_vref_final_nibble14\": 0,\n",
            "    \"f0_wrdqdbi_stg6_dbi_odly_byte4\": 21,\n",
            "    \"f1_wrdqdbi_right_margin_byte1\": 0,\n",
            "    \"f0_mr0_8_0\": 336,\n",
            "    \"f0_wrdqdbi_right_margin_byte6\": 71,\n",
            "    \"f1_rddq_nqtr_left_nibble13\": 0,\n",
            "    \"f0_wrcmplx_odly_dq_final_bit09\": 69,\n",
            "    \"wrvref_left_vref_upp_bound_rank0_byte5\": 0,\n",
            "    \"mgchk_def_rd_vref_1\": 0,\n",
            "    \"f0_wrdqdbi_odly_dq_final_bit47\": 32,\n",
            "    \"f0_rdcmplx_pqtr_right_short_fcrse_nibble05\": 190,\n",
            "    \"f0_rdcmplx_nqtr_right_short_nibble06\": 162,\n",
            "    \"f1_dqsgate_stg1_overflow_33\": 0,\n",
            "    \"f1_wrdqdbi_odly_dq_final_bit04\": 0,\n",
            "    \"bisc_idly3_align_nibble04\": 70,\n",
            "    \"f0_wrdqdbi_deskew_dq_odly_fcrse_bit02\": 120,\n",
            "    \"phy_oe_nib15_dly\": 1,\n",
            "    \"f1_rdprbs_nqtr_left_margin_nibble15\": 0,\n",
            "    \"rdvref_vref_final_nibble12\": 0,\n",
            "    \"f0_wrdqdbi_odly_dq_final_bit60\": 69,\n",
            "    \"rdvref_vref_low_bound_nibble09\": 0,\n",
            "    \"cal_stage_time_56\": 0,\n",
            "    \"rdvref_left_vref_final_nibble08\": 0,\n",
            "    \"phy_oe_nib8_dly\": 0,\n",
            "    \"nsu3_perf_filter_0_0\": 0,\n",
            "    \"f0_wrcmplx_odly_dq_final_bit26\": 69,\n",
            "    \"f0_wrlvl_crse_stg1_rank0_byte5\": 3,\n",
            "    \"phy_ranks\": 1,\n",
            "    \"f0_calbisc_rl_dly_pqtr_nibble10\": 79,\n",
            "    \"f1_wrlat_phy_data_nib_final_byte3\": 0,\n",
            "    \"f0_rd_comp_rise_rm_nib_02\": [\n",
            "        69,\n",
            "        134\n",
            "    ],\n",
            "    \"f0_wrdqdbi_odly_dq_final_bit21\": 25,\n",
            "    \"wrvref_left_vref_upp_bound_rank0_byte4\": 0,\n",
            "    \"f0_wrdqdbi_deskew_dq_odly_fcrse_bit01\": 130,\n",
            "    \"rdvref_vref_low_bound_nibble10\": 0,\n",
            "    \"f0_wrdqdbi_stg4_dqs_delay_byte1\": 14,\n",
            "    \"phy_rank_write_override_dyn\": 81920,\n",
            "    \"cal_error\": 0,\n",
            "    \"nsu0_perf_mon_1_2\": 0,\n",
            "    \"f1_rddq_nqtr_final_nibble13\": 0,\n",
            "    \"f1_wrdqdbi_stg1_bit_status_byte6\": 0,\n",
            "    \"f1_wrdqdbi_stg2_dq_odly_bit40\": 0,\n",
            "    \"nsu3_perf_mon_1_1\": 0,\n",
            "    \"f1_rddq_pqtr_left_nibble11\": 0,\n",
            "    \"f1_calbisc_rl_dly_nqtr_nibble02\": 0,\n",
            "    \"rdmargin_pqtr_left_nibble15\": 0,\n",
            "    \"f0_wrcmplx_odly_dq_final_bit63\": 68,\n",
            "    \"wrvref_left_vref_def_rank0_byte3\": 0,\n",
            "    \"wrvref_left_vref_low_bound_rank0_byte6\": 0,\n",
            "    \"f0_wrdqdbi_left_edge_dbi_byte1\": 56,\n",
            "    \"f0_wrdqdbi_deskew_dq_odly_fcrse_bit09\": 135,\n",
            "    \"f1_wrdqdbi_stg2_dq_odly_bit21\": 0,\n",
            "    \"f1_wrdqdbi_stg3_dq_odly_bit16\": 0,\n",
            "    \"f1_calbisc_rl_dly_nqtr_nibble00\": 0,\n",
            "    \"f1_rdcmplx_nqtr_left_short_nibble14\": 0,\n",
            "    \"f0_rdcmplx_nqtr_right_nibble03\": 153,\n",
            "    \"f1_wrcmplx_odly_dq_final_bit26\": 0,\n",
            "    \"wrmargin_left_byte3\": 0,\n",
            "    \"nsu2_perf_mon_0_1\": 0,\n",
            "    \"f1_wrdqdbi_left_edge_dq_bit58\": 0,\n",
            "    \"f1_rdprbs_pqtr_left_margin_nibble05\": 0,\n",
            "    \"f0_wrlvl_fine_left_rank0_byte4\": 19,\n",
            "    \"f0_wrdqdbi_deskew_dq_odly_fcrse_bit15\": 125,\n",
            "    \"f0_wrdqdbi_stg2_dq_odly_bit17\": 20,\n",
            "    \"rdvref_right_vref_upp_bound_nibble05\": 0,\n",
            "    \"f0_wrdqdbi_stg3_dq_odly_bit25\": 69,\n",
            "    \"f0_wrdqdbi_odly_dq_final_bit16\": 32,\n",
            "    \"f1_wrdqdbi_stg3_dq_odly_bit13\": 0,\n",
            "    \"rdvref_vref_low_bound_nibble06\": 0,\n",
            "    \"bisc_idly5_align_nibble04\": 73,\n",
            "    \"dqstrack_rldlyrnk_crse_max_byte2\": 5,\n",
            "    \"f0_wrdqdbi_deskew_dq_odly_fcrse_bit47\": 107,\n",
            "    \"f0_wrdqdbi_odly_dqs_final_byte1\": 71,\n",
            "    \"f1_wrdqdbi_stg3_dq_odly_bit25\": 0,\n",
            "    \"f0_rd_comp_fall_rm_nib_06\": [\n",
            "        60,\n",
            "        115\n",
            "    ],\n",
            "    \"f0_wrdqdbi_stg4_byte_status_00\": 511,\n",
            "    \"f1_wrdqdbi_deskew_dq_odly_fcrse_bit60\": 0,\n",
            "    \"f0_dqsgate_stg1_rldlyrnk_fine_rank0_byte6\": 50,\n",
            "    \"f1_rddq_idelay_final_bit27\": 0,\n",
            "    \"f0_rdcmplx_nqtr_right_short_nibble00\": 162,\n",
            "    \"bisc_idly1_align_nibble02\": 72,\n",
            "    \"f0_rddq_qtr_deskew_nibble03\": 1,\n",
            "    \"f0_rdcmplx_nqtr_right_short_fcrse_nibble09\": 168,\n",
            "    \"f1_wrdqdbi_stg1_bit_status_byte2\": 0,\n",
            "    \"cal_warning_23\": 0,\n",
            "    \"f0_wrcmplx_left_margin_byte4\": 73,\n",
            "    \"f1_wrdqdbi_deskew_dq_odly_fcrse_bit18\": 0,\n",
            "    \"f1_rdcmplx_pqtr_left_short_nibble14\": 0,\n",
            "    \"f1_wrcmplx_left_margin_fcrse_byte1\": 0,\n",
            "    \"wrvref_vref_upp_bound_rank0_byte0\": 0,\n",
            "    \"f0_wrdqdbi_stg1_dqs_delay_byte7\": 79,\n",
            "    \"cal_error_bit_phy_nibble_13\": 0,\n",
            "    \"f0_wrdqdbi_left_edge_dq_bit44\": 43,\n",
            "    \"f1_wrdqdbi_right_margin_fcrse_byte2\": 0,\n",
            "    \"f0_rddq_pqtr_left_nibble01\": 18,\n",
            "    \"f0_rd_comp_fall_rm_nib_14\": [\n",
            "        62,\n",
            "        121\n",
            "    ],\n",
            "    \"rdmargin_pqtr_left_nibble14\": 0,\n",
            "    \"phy_rden9_dly\": 22,\n",
            "    \"f1_rddq_qtr_deskew_nibble01\": 0,\n",
            "    \"dqstrack_rldlyrnk_crse_min_byte0\": 3,\n",
            "    \"f1_wrdqdbi_deskew_dq_odly_fcrse_bit49\": 0,\n",
            "    \"f0_rdcmplx_pqtr_right_short_nibble05\": 177,\n",
            "    \"0x0e_F0_WRITE_LATENCY_CAL\": \"Pass\",\n",
            "    \"f0_wrdqdbi_stg3_dq_odly_bit41\": 37,\n",
            "    \"max_bits\": 72,\n",
            "    \"wrvref_right_vref_upp_bound_rank0_byte4\": 0,\n",
            "    \"f1_dqsgate_stg1_overflow_07\": 0,\n",
            "    \"f1_wrcmplx_odly_dq_final_bit08\": 0,\n",
            "    \"f0_wrdqdbi_left_edge_dq_bit06\": 65,\n",
            "    \"f0_wrcmplx_odly_dbi_final_byte1\": 75,\n",
            "    \"iobmap_dq_29_28\": 0,\n",
            "    \"f0_wrdqdbi_stg2_dq_odly_bit53\": 29,\n",
            "    \"wrvref_left_vref_def_rank0_byte5\": 0,\n",
            "    \"f0_wrdqdbi_stg2_dq_odly_bit13\": 55,\n",
            "    \"f1_wrdqdbi_stg2_dq_odly_bit48\": 0,\n",
            "    \"f0_rd_simp_fall_rm_nib_12\": [\n",
            "        74,\n",
            "        142\n",
            "    ],\n",
            "    \"mem_type\": 1,\n",
            "    \"bisc_idly3_align_nibble02\": 69,\n",
            "    \"cal_stage_time_01\": 70,\n",
            "    \"dqstrack_rldlyrnk_fine_byte0\": 64,\n",
            "    \"f0_dqsgate_read_lat_final_byte2\": 26,\n",
            "    \"f1_wrdqdbi_deskew_dq_odly_fcrse_bit01\": 0,\n",
            "    \"rdvref_right_vref_low_bound_nibble11\": 0,\n",
            "    \"f0_wrdqdbi_left_edge_dq_bit61\": 71,\n",
            "    \"f1_wrdqdbi_right_edge_dqs_byte3\": 0,\n",
            "    \"f0_rd_comp_fall_rm_nib_00\": [\n",
            "        64,\n",
            "        123\n",
            "    ],\n",
            "    \"f0_wrcmplx_odly_dq_final_bit06\": 76,\n",
            "    \"f0_rdcmplx_nqtr_right_short_fcrse_nibble00\": 175,\n",
            "    \"f0_rd_comp_rise_rm_nib_00\": [\n",
            "        69,\n",
            "        128\n",
            "    ],\n",
            "    \"dqstrack_rldlyrnk_fine_byte6\": 52,\n",
            "    \"f0_wrlvl_noise_fcrse_rank0_byte3\": 75,\n",
            "    \"f1_dqsgate_stg1_rldlyrnk_crse_rank0_byte4\": 0,\n",
            "    \"wrvref_right_vref_upp_bound_rank0_byte5\": 0,\n",
            "    \"f1_wrdqdbi_left_edge_dq_bit42\": 0,\n",
            "    \"f0_wrdqdbi_deskew_dq_odly_bit29\": 147,\n",
            "    \"f1_wrdqdbi_stg3_dq_odly_bit26\": 0,\n",
            "    \"f0_rd_comp_fall_lm_nib_13\": [\n",
            "        60,\n",
            "        117\n",
            "    ],\n",
            "    \"f1_mr2_17_9\": 0,\n",
            "    \"f0_rdcmplx_pqtr_right_short_nibble11\": 171,\n",
            "    \"f0_rddq_pqtr_right_nibble00\": 163,\n",
            "    \"f0_calbisc_rl_dly_pqtr_nibble11\": 80,\n",
            "    \"bisc_idly5_align_nibble10\": 73,\n",
            "    \"f1_wrdqdbi_odly_dq_final_bit18\": 0,\n",
            "    \"f1_calbisc_rl_dly_pqtr_nibble11\": 0,\n",
            "    \"f0_rdcmplx_pqtr_right_short_fcrse_nibble12\": 178,\n",
            "    \"f0_rd_comp_rise_lm_nib_11\": [\n",
            "        70,\n",
            "        136\n",
            "    ],\n",
            "    \"self_refresh_exit_error\": 0,\n",
            "    \"f0_wrdqdbi_right_edge_dqs_byte2\": 100,\n",
            "    \"f1_wrdqdbi_odly_dq_final_bit14\": 0,\n",
            "    \"f0_lp4_mr12\": 0,\n",
            "    \"f1_rdprbs_pqtr_right_margin_nibble14\": 0,\n",
            "    \"f1_wrlvl_crse_final_rank0_byte0\": 0,\n",
            "    \"f0_rdcmplx_pqtr_left_nibble05\": 25,\n",
            "    \"f1_rdcmplx_nqtr_final_nibble15\": 0,\n",
            "    \"rdvref_vref_low_bound_nibble03\": 0,\n",
            "    \"dqstrack_rldlyrnk_fine_max_byte5\": 13,\n",
            "    \"ip_config_ver\": 1,\n",
            "    \"f1_wrlat_phy_oe_nib_final_byte3\": 0,\n",
            "    \"f1_mr2_8_0\": 0,\n",
            "    \"f1_calbisc_rl_dly_nqtr_nibble14\": 0,\n",
            "    \"wrvref_right_vref_low_bound_rank0_byte6\": 0,\n",
            "    \"f1_rdprbs_nqtr_right_margin_nibble12\": 0,\n",
            "    \"f0_wrdqdbi_stg3_dq_odly_bit00\": 50,\n",
            "    \"f1_wrdqdbi_stg2_dq_odly_bit50\": 0,\n",
            "    \"f1_rdcmplx_pqtr_right_nibble06\": 0,\n",
            "    \"f1_wrdqdbi_odly_dq_final_bit01\": 0,\n",
            "    \"bisc_nqtr_align_nibble11\": 1,\n",
            "    \"rdvref_right_vref_low_bound_nibble06\": 0,\n",
            "    \"f0_wrdqdbi_odly_dbi_final_byte5\": 47,\n",
            "    \"f0_rdprbs_pqtr_right_margin_nibble14\": 0,\n",
            "    \"f1_rddq_pqtr_final_nibble05\": 0,\n",
            "    \"f0_wrdqdbi_left_edge_dq_bit52\": 32,\n",
            "    \"f1_rddq_pqtr_left_nibble00\": 0,\n",
            "    \"f0_wrdqdbi_deskew_dq_odly_bit61\": 152,\n",
            "    \"f1_wrcmplx_odly_dq_final_bit29\": 0,\n",
            "    \"wrvref_vref_final_rank0_byte5\": 0,\n",
            "    \"f0_rd_simp_rise_rm_nib_13\": [\n",
            "        79,\n",
            "        154\n",
            "    ],\n",
            "    \"f1_rddq_qtr_deskew_nibble05\": 0,\n",
            "    \"rdvref_left_vref_low_bound_nibble07\": 0,\n",
            "    \"f0_wrdqdbi_odly_dq_final_bit26\": 64,\n",
            "    \"rdmargin_pqtr_left_nibble00\": 0,\n",
            "    \"f1_calbisc_rl_dly_qtr_nibble10\": 0,\n",
            "    \"f0_rdcmplx_pqtr_right_nibble11\": 169,\n",
            "    \"f1_rdcmplx_nqtr_right_short_nibble05\": 0,\n",
            "    \"f0_wrlat_phy_data_nib_final_byte0\": 0,\n",
            "    \"phy_oe_nib13_dly\": 0,\n",
            "    \"sys_clk_17_9\": 9,\n",
            "    \"wrvref_right_vref_def_rank0_byte5\": 0,\n",
            "    \"rdvref_left_vref_upp_bound_nibble14\": 0,\n",
            "    \"dqstrack_rldlyrnk_crse_min_byte4\": 5,\n",
            "    \"f0_wrdqdbi_deskew_dq_odly_bit44\": 129,\n",
            "    \"f0_wrdqdbi_left_margin_byte3\": 77,\n",
            "    \"cal_seq_status_23\": 294,\n",
            "    \"f0_wrdqdbi_deskew_dq_odly_bit04\": 131,\n",
            "    \"f0_dqsgate_stg1_overflow_08\": 0,\n",
            "    \"f1_wrdqdbi_stg2_dq_odly_bit55\": 0,\n",
            "    \"f0_rd_comp_fall_rm_nib_02\": [\n",
            "        63,\n",
            "        121\n",
            "    ],\n",
            "    \"f1_wrdqdbi_deskew_dq_odly_fcrse_bit48\": 0,\n",
            "    \"f1_wrlat_wldlyrnk_crse_final_rank0_byte6\": 0,\n",
            "    \"f1_rdcmplx_pqtr_right_short_nibble03\": 0,\n",
            "    \"f0_wrdqdbi_stg3_dq_odly_bit20\": 20,\n",
            "    \"cal_warning_03\": 0,\n",
            "    \"f1_rddq_nqtr_left_nibble04\": 0,\n",
            "    \"f1_rddq_nqtr_left_nibble06\": 0,\n",
            "    \"f1_rddq_pqtr_right_fcrse_nibble14\": 0,\n",
            "    \"f1_wrdqdbi_deskew_dq_odly_bit17\": 0,\n",
            "    \"f0_rdcmplx_pqtr_right_nibble12\": 159,\n",
            "    \"rdvref_right_vref_final_nibble12\": 0,\n",
            "    \"f1_rdprbs_pqtr_left_margin_nibble08\": 0,\n",
            "    \"f1_rddq_nqtr_right_nibble15\": 0,\n",
            "    \"rdvref_vref_def\": 0,\n",
            "    \"f0_wrdqdbi_deskew_dq_odly_bit18\": 100,\n",
            "    \"cal_warning_30\": 0,\n",
            "    \"rdvref_vref_final_nibble10\": 0,\n",
            "    \"f0_wrdqdbi_right_edge_dqs_byte5\": 120,\n",
            "    \"rdvref_vref_low_bound_nibble14\": 0,\n",
            "    \"f1_rddq_qtr_deskew_nibble14\": 0,\n",
            "    \"f1_dqsgate_stg2_read_lat_rank0_byte7\": 0,\n",
            "    \"f0_wrdqdbi_deskew_dq_odly_bit52\": 111,\n",
            "    \"f0_rdcmplx_pqtr_left_nibble14\": 21,\n",
            "    \"f1_wrcmplx_odly_dq_final_bit02\": 0,\n",
            "    \"f1_calbisc_rl_dly_qtr_nibble14\": 0,\n",
            "    \"f1_dqsgate_stg2_rldlyrnk_crse_rank0_byte2\": 0,\n",
            "    \"f0_rddq_nqtr_right_nibble10\": 167,\n",
            "    \"f1_wrdqdbi_odly_dbi_final_byte5\": 0,\n",
            "    \"mgchk_rw_mode\": 0,\n",
            "    \"f1_wrdqdbi_left_edge_dq_bit36\": 0,\n",
            "    \"rdvref_right_vref_upp_bound_nibble10\": 0,\n",
            "    \"f0_calbisc_rl_dly_qtr_nibble00\": 82,\n",
            "    \"f1_wrdqdbi_stg2_dqs_odly_byte1\": 0,\n",
            "    \"f0_wr_simp_ctp_byte_00\": [\n",
            "        229,\n",
            "        439\n",
            "    ],\n",
            "    \"rdvref_left_vref_upp_bound_nibble09\": 0,\n",
            "    \"wrvref_left_vref_upp_bound_rank0_byte3\": 0,\n",
            "    \"f1_rdcmplx_idelay_offset_nibble04\": 0,\n",
            "    \"f1_rdcmplx_pqtr_left_short_nibble04\": 0,\n",
            "    \"f0_dqsgate_stg1_overflow_53\": 0,\n",
            "    \"f1_rddq_pqtr_right_fcrse_nibble05\": 0,\n",
            "    \"f1_wrcmplx_odly_dq_final_bit52\": 0,\n",
            "    \"rdvref_left_vref_upp_bound_nibble13\": 0,\n",
            "    \"wrvref_vref_upp_bound_rank0_byte7\": 0,\n",
            "    \"f0_wrcmplx_left_margin_byte1\": 73,\n",
            "    \"xpi_read_offset_phy_rden\": 5,\n",
            "    \"f0_rd_comp_fall_ctp_nib_10\": [\n",
            "        84,\n",
            "        162\n",
            "    ],\n",
            "    \"f1_wrdqdbi_stg3_dq_odly_bit04\": 0,\n",
            "    \"cal_error_bit_phy_nibble_20\": 0,\n",
            "    \"f1_dqsgate_stg1_read_lat_rank0_byte1\": 0,\n",
            "    \"ub_isntr_ue\": 0,\n",
            "    \"rdvref_left_vref_upp_bound_nibble04\": 0,\n",
            "    \"f0_wrdqdbi_stg2_dq_odly_bit04\": 50,\n",
            "    \"f1_dqsgate_stg1_overflow_45\": 0,\n",
            "    \"cal_stage_time_27\": 0,\n",
            "    \"f0_dqsgate_stg2_read_lat_rank0_byte5\": 27,\n",
            "    \"f1_rdcmplx_pqtr_left_nibble10\": 0,\n",
            "    \"f1_rdcmplx_pqtr_right_nibble10\": 0,\n",
            "    \"cal_seq_status_38\": 315,\n",
            "    \"dqs_track_en\": 1,\n",
            "    \"f0_wrdqdbi_deskew_dq_odly_fcrse_bit53\": 109,\n",
            "    \"f0_rddq_idelay_final_bit28\": 73,\n",
            "    \"f1_rddq_nqtr_right_fcrse_nibble14\": 0,\n",
            "    \"f0_dqsgate_stg1_rldlyrnk_crse_rank0_byte3\": 10,\n",
            "    \"f1_rddq_pqtr_left_nibble04\": 0,\n",
            "    \"cal_stage_ran\": 63,\n",
            "    \"wrvref_vref_upp_bound_rank0_byte5\": 0,\n",
            "    \"f0_wrdqdbi_stg3_dq_odly_bit54\": 29,\n",
            "    \"mgchk_abort\": 0,\n",
            "    \"f1_wrdqdbi_deskew_dq_odly_bit25\": 0,\n",
            "    \"f1_rdcmplx_nqtr_right_nibble13\": 0,\n",
            "    \"f0_wrcmplx_odly_dq_final_bit28\": 74,\n",
            "    \"f0_wrdqdbi_stg2_dq_odly_bit15\": 55,\n",
            "    \"cal_error_bit_phy_nibble_00\": 0,\n",
            "    \"wrvref_right_vref_upp_bound_rank0_byte1\": 0,\n",
            "    \"f1_wrlvl_crse_stg1_rank0_byte5\": 0,\n",
            "    \"f1_rdcmplx_nqtr_right_short_fcrse_nibble15\": 0,\n",
            "    \"rdmargin_nqtr_left_nibble15\": 0,\n",
            "    \"f1_wrcmplx_right_margin_fcrse_byte2\": 0,\n",
            "    \"f1_rdprbs_nqtr_right_margin_nibble13\": 0,\n",
            "    \"f0_rdcmplx_pqtr_final_nibble08\": 87,\n",
            "    \"f1_rddq_idelay_final_bit12\": 0,\n",
            "    \"dqstrack_rldlyrnk_fine_min_byte3\": 8,\n",
            "    \"nsu3_perf_filter_0_1\": 0,\n",
            "    \"f1_rdcmplx_nqtr_right_nibble10\": 0,\n",
            "    \"f1_wrdqdbi_stg2_dqs_odly_byte2\": 0,\n",
            "    \"f1_wrdqdbi_deskew_dq_odly_fcrse_bit04\": 0,\n",
            "    \"f1_rddq_idelay_final_bit21\": 0,\n",
            "    \"bisc_idly3_align_nibble00\": 72,\n",
            "    \"f0_rd_simp_fall_rm_nib_08\": [\n",
            "        71,\n",
            "        138\n",
            "    ],\n",
            "    \"nibbles\": 16,\n",
            "    \"bisc_idly3_align_nibble13\": 75,\n",
            "    \"cal_warning_42\": 0,\n",
            "    \"f1_wrdqdbi_left_edge_dq_bit18\": 0,\n",
            "    \"f1_rdcmplx_pqtr_right_short_fcrse_nibble14\": 0,\n",
            "    \"f1_rddq_idelay_final_bit18\": 0,\n",
            "    \"dqstrack_rldlyrnk_fine_min_byte7\": 8,\n",
            "    \"f1_wrdqdbi_left_edge_dq_bit11\": 0,\n",
            "    \"f1_wrcmplx_odly_dq_final_bit38\": 0,\n",
            "    \"f1_rdprbs_nqtr_left_margin_nibble09\": 0,\n",
            "    \"f0_rdprbs_pqtr_right_margin_nibble01\": 0,\n",
            "    \"f1_wrdqdbi_left_edge_dq_bit04\": 0,\n",
            "    \"f0_wrdqdbi_left_edge_dbi_byte4\": 21,\n",
            "    \"f1_wrcmplx_odly_dq_final_bit16\": 0,\n",
            "    \"f1_rdcmplx_nqtr_right_short_nibble02\": 0,\n",
            "    \"bisc_idly1_align_nibble07\": 78,\n",
            "    \"f1_dqsgate_stg1_overflow_57\": 0,\n",
            "    \"bisc_nqtr_nibble04\": 82,\n",
            "    \"bisc_rl_dly_qtr_nibble02\": 80,\n",
            "    \"bisc_idly3_align_nibble07\": 76,\n",
            "    \"f1_wrlvl_offset_rank0_byte0\": 0,\n",
            "    \"f1_wrdqdbi_odly_dq_final_bit37\": 0,\n",
            "    \"f0_wrcmplx_right_margin_byte2\": 60,\n",
            "    \"f1_wrdqdbi_stg1_bit_status_byte4\": 0,\n",
            "    \"f1_wrdqdbi_right_margin_fcrse_byte7\": 0,\n",
            "    \"f0_wrdqdbi_odly_dbi_final_byte6\": 33,\n",
            "    \"bisc_idly2_align_nibble13\": 74,\n",
            "    \"bisc_idly4_align_nibble09\": 77,\n",
            "    \"f0_wrdqdbi_left_edge_dq_bit03\": 55,\n",
            "    \"f0_wrdqdbi_stg2_dqs_odly_byte4\": 37,\n",
            "    \"mgchk_ack\": 0,\n",
            "    \"f1_rdcmplx_pqtr_left_short_nibble15\": 0,\n",
            "    \"cal_error_bit_phy_nibble_25\": 0,\n",
            "    \"f0_rdcmplx_idelay_offset_nibble11\": 0,\n",
            "    \"f0_calbisc_rl_dly_pqtr_nibble15\": 81,\n",
            "    \"rdmargin_nqtr_left_nibble13\": 0,\n",
            "    \"iobmap_dq_57_56\": 0,\n",
            "    \"nsu3_perf_mon_1_2\": 0,\n",
            "    \"rdmargin_nqtr_right_nibble07\": 0,\n",
            "    \"f1_rddq_nqtr_right_nibble06\": 0,\n",
            "    \"f1_wrcmplx_right_margin_byte6\": 0,\n",
            "    \"f0_rdcmplx_pqtr_final_nibble07\": 89,\n",
            "    \"wrvref_left_vref_final_rank0_byte5\": 0,\n",
            "    \"vttrack_rldlyqtr_max_nibble12\": 84,\n",
            "    \"f0_wrdqdbi_stg2_dq_odly_bit61\": 63,\n",
            "    \"cal_stage_time_11\": 72,\n",
            "    \"rdvref_left_vref_def_nibble03\": 0,\n",
            "    \"f0_wrcmplx_odly_dbi_final_byte7\": 73,\n",
            "    \"f1_rdcmplx_pqtr_left_short_nibble06\": 0,\n",
            "    \"f1_rddq_idelay_final_bit40\": 0,\n",
            "    \"f0_wrdqdbi_left_edge_dq_bit10\": 40,\n",
            "    \"f0_wrdqdbi_odly_dq_final_bit57\": 65,\n",
            "    \"f1_rdcmplx_pqtr_left_short_nibble01\": 0,\n",
            "    \"f0_rd_comp_rise_lm_nib_10\": [\n",
            "        68,\n",
            "        134\n",
            "    ],\n",
            "    \"f1_rdcmplx_pqtr_right_short_fcrse_nibble00\": 0,\n",
            "    \"f0_rddq_nqtr_right_fcrse_nibble00\": 174,\n",
            "    \"dc1_perf_mon_7\": 0,\n",
            "    \"cal_post_status_05\": 0,\n",
            "    \"f1_wrprbs_left_margin_byte5\": 0,\n",
            "    \"mgchk_ctrl\": 0,\n",
            "    \"f0_dqsgate_stg1_overflow_34\": 0,\n",
            "    \"f0_rddq_pqtr_right_nibble08\": 170,\n",
            "    \"f1_rdcmplx_pqtr_final_nibble04\": 0,\n",
            "    \"f0_rdcmplx_pqtr_left_short_nibble12\": 21,\n",
            "    \"f0_rd_simp_rise_lm_nib_08\": [\n",
            "        76,\n",
            "        148\n",
            "    ],\n",
            "    \"f1_wrprbs_left_margin_byte3\": 0,\n",
            "    \"rdvref_vref_final_nibble13\": 0,\n",
            "    \"f0_rdcmplx_pqtr_right_nibble03\": 160,\n",
            "    \"f0_wrlvl_noise_fcrse_rank0_byte4\": 25,\n",
            "    \"f1_rddq_pqtr_final_nibble12\": 0,\n",
            "    \"f0_wrdqdbi_stg2_dq_odly_bit32\": 21,\n",
            "    \"f1_wrdqdbi_deskew_dq_odly_fcrse_bit28\": 0,\n",
            "    \"f0_wrdqdbi_stg2_dq_odly_bit52\": 29,\n",
            "    \"f1_wrdqdbi_deskew_dq_odly_fcrse_bit16\": 0,\n",
            "    \"cal_stage.10_EN_VT_TRACK\": \"Pass\",\n",
            "    \"f1_wrdqdbi_stg2_dq_odly_bit53\": 0,\n",
            "    \"f0_rd_comp_rise_rm_nib_15\": [\n",
            "        72,\n",
            "        138\n",
            "    ],\n",
            "    \"cal_stage_time_09\": 0,\n",
            "    \"f1_lp4_mr13\": 0,\n",
            "    \"phy_rden8_dly\": 22,\n",
            "    \"f0_rdprbs_nqtr_left_margin_nibble12\": 0,\n",
            "    \"f1_wrdqdbi_deskew_dq_odly_bit54\": 0,\n",
            "    \"f1_rdcmplx_pqtr_right_short_nibble15\": 0,\n",
            "    \"bisc_idly1_align_nibble13\": 76,\n",
            "    \"bisc_pqtr_nibble06\": 78,\n",
            "    \"f0_wrdqdbi_odly_dbi_final_byte4\": 21,\n",
            "    \"f1_wrdqdbi_odly_dq_final_bit08\": 0,\n",
            "    \"f1_wrdqdbi_deskew_dq_odly_fcrse_bit05\": 0,\n",
            "    \"f0_rddq_idelay_final_bit23\": 82,\n",
            "    \"f1_wrdqdbi_stg3_dq_odly_bit56\": 0,\n",
            "    \"phy_rden26_dly\": 22,\n",
            "    \"rdvref_right_vref_upp_bound_nibble00\": 0,\n",
            "    \"f0_rdcmplx_nqtr_left_nibble00\": 20,\n",
            "    \"warning_code_ver\": 1,\n",
            "    \"f1_rddq_nqtr_right_nibble13\": 0,\n",
            "    \"f1_wrdqdbi_right_margin_fcrse_byte3\": 0,\n",
            "    \"f0_rdcmplx_pqtr_final_nibble10\": 90,\n",
            "    \"f1_rdprbs_nqtr_right_margin_nibble04\": 0,\n",
            "    \"nsu1_perf_mon_ctl_0_0\": 0,\n",
            "    \"f1_rddq_nqtr_right_nibble05\": 0,\n",
            "    \"f1_wrdqdbi_odly_dqs_final_byte0\": 0,\n",
            "    \"f1_wrdqdbi_stg4_dqs_delay_byte2\": 0,\n",
            "    \"f1_wrcmplx_left_margin_byte1\": 0,\n",
            "    \"f1_wrdqdbi_stg1_bit_status_byte5\": 0,\n",
            "    \"f0_rd_comp_fall_lm_nib_07\": [\n",
            "        62,\n",
            "        119\n",
            "    ],\n",
            "    \"rdmargin_pqtr_right_nibble11\": 0,\n",
            "    \"f0_wrdqdbi_deskew_dq_odly_bit59\": 137,\n",
            "    \"f1_wrcmplx_odly_dq_final_bit21\": 0,\n",
            "    \"f0_rd_comp_rise_rm_nib_14\": [\n",
            "        70,\n",
            "        136\n",
            "    ],\n",
            "    \"f0_wrdqdbi_right_margin_fcrse_byte4\": 70,\n",
            "    \"f1_rdcmplx_nqtr_left_short_nibble13\": 0,\n",
            "    \"bisc_nqtr_nibble12\": 81,\n",
            "    \"rdvref_left_vref_final_nibble14\": 0,\n",
            "    \"f0_rd_comp_fall_rm_nib_09\": [\n",
            "        60,\n",
            "        118\n",
            "    ],\n",
            "    \"f1_wrcmplx_odly_dq_final_bit36\": 0,\n",
            "    \"f0_rdcmplx_pqtr_right_short_fcrse_nibble07\": 186,\n",
            "    \"f0_rdcmplx_nqtr_final_nibble15\": 90,\n",
            "    \"f1_rdcmplx_nqtr_left_nibble04\": 0,\n",
            "    \"f0_read_latency\": 1,\n",
            "    \"f1_wrcmplx_odly_dq_final_bit42\": 0,\n",
            "    \"f0_wrdqdbi_right_margin_fcrse_byte2\": 60,\n",
            "    \"cal_stage_time_18\": 0,\n",
            "    \"f0_rdprbs_pqtr_left_margin_nibble01\": 0,\n",
            "    \"f0_calbisc_rl_dly_nqtr_nibble05\": 83,\n",
            "    \"f0_wrdqdbi_odly_dq_final_bit49\": 31,\n",
            "    \"f1_wrdqdbi_odly_dqs_final_byte3\": 0,\n",
            "    \"f0_wrdqdbi_left_edge_dq_bit32\": 28,\n",
            "    \"f0_rdcmplx_pqtr_left_nibble02\": 21,\n",
            "    \"f0_rd_comp_fall_rm_nib_08\": [\n",
            "        56,\n",
            "        109\n",
            "    ],\n",
            "    \"rdvref_right_vref_low_bound_nibble14\": 0,\n",
            "    \"ub_clk_17_9\": 2,\n",
            "    \"nsu3_perf_mon_0_2\": 0,\n",
            "    \"f0_rddq_idelay_final_bit55\": 81,\n",
            "    \"f0_calbisc_rl_dly_nqtr_nibble13\": 80,\n",
            "    \"f1_wrdqdbi_odly_dq_final_bit11\": 0,\n",
            "    \"f1_rdcmplx_nqtr_right_short_nibble09\": 0,\n",
            "    \"f0_wr_simp_lm_byte_01\": [\n",
            "        90,\n",
            "        174\n",
            "    ],\n",
            "    \"f0_wrdqdbi_stg2_dq_odly_bit59\": 63,\n",
            "    \"iobmap_dq_45_44\": 0,\n",
            "    \"f0_rdcmplx_pqtr_right_short_nibble01\": 175,\n",
            "    \"f1_wrdqdbi_deskew_dq_odly_fcrse_bit54\": 0,\n",
            "    \"rdmargin_pqtr_left_nibble02\": 0,\n",
            "    \"f1_wrlat_xpi_oe_all_final\": 0,\n",
            "    \"f1_rdcmplx_nqtr_right_nibble06\": 0,\n",
            "    \"cal_seq_status_09\": 396,\n",
            "    \"nsu1_perf_mon_ctl_1_0\": 0,\n",
            "    \"f1_rdcmplx_nqtr_left_short_nibble03\": 0,\n",
            "    \"f0_wrdqdbi_stg2_dq_odly_bit07\": 50,\n",
            "    \"f0_wrlvl_fine_right_rank0_byte0\": 53,\n",
            "    \"bisc_nqtr_nibble14\": 80,\n",
            "    \"f0_wrdqdbi_stg6_dbi_odly_byte7\": 63,\n",
            "    \"f1_wrdqdbi_left_edge_dq_bit23\": 0,\n",
            "    \"f1_wrlat_match_rank0_byte1\": 0,\n",
            "    \"cal_stage_time_28\": 0,\n",
            "    \"f0_wrdqdbi_stg3_dq_odly_bit47\": 37,\n",
            "    \"f1_wrdqdbi_stg3_dq_odly_bit15\": 0,\n",
            "    \"f1_calbisc_rl_dly_nqtr_nibble10\": 0,\n",
            "    \"f1_rddq_nqtr_left_nibble12\": 0,\n",
            "    \"f0_wrdqdbi_deskew_dq_odly_fcrse_bit13\": 125,\n",
            "    \"rdvref_right_vref_final_nibble09\": 0,\n",
            "    \"phy_rank_read_override\": 0,\n",
            "    \"f0_rdcmplx_pqtr_right_short_fcrse_nibble14\": 176,\n",
            "    \"cal_stage_time_06\": 0,\n",
            "    \"f1_wrdqdbi_deskew_dbi_odly_byte3\": 0,\n",
            "    \"rdvref_vref_low_bound_nibble07\": 0,\n",
            "    \"f0_rddq_nqtr_left_nibble00\": 19,\n",
            "    \"f0_rddq_pqtr_left_nibble05\": 18,\n",
            "    \"f1_wrdqdbi_deskew_dq_odly_fcrse_bit30\": 0,\n",
            "    \"f1_read_latency\": 1,\n",
            "    \"rdmargin_nqtr_left_nibble01\": 0,\n",
            "    \"f1_wrdqdbi_stg3_dq_odly_bit60\": 0,\n",
            "    \"rdvref_left_vref_final_nibble15\": 0,\n",
            "    \"f0_rddq_idelay_final_bit43\": 70,\n",
            "    \"f0_wrdqdbi_deskew_dq_odly_fcrse_bit45\": 107,\n",
            "    \"f0_wrdqdbi_stg5_dqs_odly_byte1\": 71,\n",
            "    \"f1_dqsgate_stg1_overflow_47\": 0,\n",
            "    \"f1_rdcmplx_idelay_offset_nibble15\": 0,\n",
            "    \"f0_rdcmplx_pqtr_left_short_nibble09\": 23,\n",
            "    \"cal_warning_54\": 0,\n",
            "    \"bisc_mon_align_nibble02\": 0,\n",
            "    \"f0_rddq_idelay_final_bit63\": 75,\n",
            "    \"f0_wrdqdbi_stg2_dq_odly_bit51\": 29,\n",
            "    \"f0_wrcmplx_right_margin_byte7\": 66,\n",
            "    \"rdvref_right_vref_def_nibble11\": 0,\n",
            "    \"f1_wrdqdbi_stg2_dq_odly_bit37\": 0,\n",
            "    \"f0_wrdqdbi_left_margin_byte4\": 74,\n",
            "    \"cal_seq_status_08\": 394,\n",
            "    \"f0_rd_comp_fall_lm_nib_14\": [\n",
            "        61,\n",
            "        119\n",
            "    ],\n",
            "    \"f0_wrlat_phy_data_nib_final_byte7\": 1,\n",
            "    \"f1_rdprbs_pqtr_left_margin_nibble11\": 0,\n",
            "    \"f0_rddq_pqtr_left_nibble15\": 18,\n",
            "    \"f0_wrdqdbi_left_margin_byte2\": 87,\n",
            "    \"wrvref_left_vref_upp_bound_rank0_byte7\": 0,\n",
            "    \"f1_wrdqdbi_deskew_dq_odly_bit31\": 0,\n",
            "    \"f0_wrcmplx_odly_dq_final_bit07\": 65,\n",
            "    \"f1_wrdqdbi_left_edge_dq_bit63\": 0,\n",
            "    \"f1_wrdqdbi_stg3_dq_odly_bit62\": 0,\n",
            "    \"f0_rdprbs_nqtr_left_margin_nibble13\": 0,\n",
            "    \"bisc_idly4_align_nibble13\": 79,\n",
            "    \"f1_rdcmplx_nqtr_right_short_nibble12\": 0,\n",
            "    \"f0_wr_comp_lm_byte_06\": [\n",
            "        74,\n",
            "        144\n",
            "    ],\n",
            "    \"f0_wrdqdbi_stg4_dqs_delay_byte0\": 14,\n",
            "    \"f1_dqsgate_stg2_read_lat_rank0_byte4\": 0,\n",
            "    \"f1_rdprbs_pqtr_left_margin_nibble04\": 0,\n",
            "    \"wrvref_right_vref_low_bound_rank0_byte3\": 0,\n",
            "    \"f1_wrdqdbi_stg1_dqs_delay_byte7\": 0,\n",
            "    \"f0_dqsgate_stg1_overflow_37\": 0,\n",
            "    \"wrmargin_right_byte4\": 0,\n",
            "    \"phy_oe_nib3_dly\": 1,\n",
            "    \"bisc_idly0_align_nibble02\": 65,\n",
            "    \"f0_rddq_idelay_final_bit34\": 69,\n",
            "    \"f0_wrdqdbi_deskew_dq_odly_fcrse_bit25\": 139,\n",
            "    \"phy_rden23_dly\": 25,\n",
            "    \"f0_rdprbs_pqtr_left_margin_nibble02\": 0,\n",
            "    \"f0_wr_comp_lm_byte_02\": [\n",
            "        76,\n",
            "        146\n",
            "    ],\n",
            "    \"f0_rd_comp_fall_ctp_nib_09\": [\n",
            "        82,\n",
            "        162\n",
            "    ],\n",
            "    \"bisc_idly4_align_nibble07\": 78,\n",
            "    \"f0_wrlvl_crse_stg1_rank0_byte4\": 3,\n",
            "    \"f0_wrdqdbi_stg2_dq_odly_bit50\": 29,\n",
            "    \"f0_wrdqdbi_deskew_dq_odly_bit25\": 147,\n",
            "    \"f0_rdprbs_nqtr_right_margin_nibble01\": 0,\n",
            "    \"f1_rdprbs_pqtr_right_margin_nibble03\": 0,\n",
            "    \"f0_wrlat_xpi_wrdata_all_final\": 16,\n",
            "    \"f0_dqsgate_stg1_rldlyrnk_crse_rank0_byte5\": 14,\n",
            "    \"f0_wrdqdbi_stg3_dq_odly_bit49\": 29,\n",
            "    \"f1_rddq_pqtr_right_fcrse_nibble13\": 0,\n",
            "    \"f1_wrdqdbi_left_edge_dq_bit17\": 0,\n",
            "    \"iobmap_dq_59_58\": 0,\n",
            "    \"f0_wrcmplx_odly_dqs_final_byte3\": 85,\n",
            "    \"f0_wrdqdbi_stg2_dq_odly_bit16\": 20,\n",
            "    \"f1_dqsgate_stg2_read_lat_rank0_byte2\": 0,\n",
            "    \"f1_dqsgate_max_read_lat\": 0,\n",
            "    \"f1_wrdqdbi_deskew_dq_odly_bit15\": 0,\n",
            "    \"f0_rdcmplx_pqtr_right_short_nibble03\": 174,\n",
            "    \"0x0a_F0_DQS_GATE_CAL\": \"Pass\",\n",
            "    \"f1_wrdqdbi_stg3_dq_odly_bit36\": 0,\n",
            "    \"f0_wrdqdbi_deskew_dq_odly_bit12\": 147,\n",
            "    \"wrmargin_left_byte1\": 0,\n",
            "    \"f0_rdcmplx_pqtr_right_nibble15\": 165,\n",
            "    \"ddrmc_isr_dc_cmd1_fatal\": 0,\n",
            "    \"rdmargin_pqtr_right_nibble05\": 0,\n",
            "    \"f0_wrdqdbi_deskew_dq_odly_fcrse_bit27\": 159,\n",
            "    \"cal_stage_time_05\": 0,\n",
            "    \"f1_wrdqdbi_stg3_dq_odly_bit18\": 0,\n",
            "    \"f1_rdcmplx_pqtr_right_short_fcrse_nibble13\": 0,\n",
            "    \"f1_rdcmplx_nqtr_right_short_nibble13\": 0,\n",
            "    \"f0_mr2_8_0\": 232,\n",
            "    \"wrvref_left_vref_final_rank0_byte7\": 0,\n",
            "    \"f1_wrdqdbi_stg3_dq_odly_bit42\": 0,\n",
            "    \"f1_wrdqdbi_stg2_dq_odly_bit43\": 0,\n",
            "    \"f0_wrdqdbi_stg1_dqs_delay_byte2\": 36,\n",
            "    \"f0_wrdqdbi_deskew_dq_odly_bit40\": 126,\n",
            "    \"cal_warning_16\": 0,\n",
            "    \"rdvref_vref_upp_bound_nibble04\": 0,\n",
            "    \"f0_dqsgate_stg1_overflow_45\": 0,\n",
            "    \"f1_rddq_pqtr_final_nibble01\": 0,\n",
            "    \"f1_rddq_idelay_final_bit50\": 0,\n",
            "    \"f1_wrdqdbi_deskew_dq_odly_bit09\": 0,\n",
            "    \"f0_wr_comp_ctp_byte_07\": [\n",
            "        319,\n",
            "        623\n",
            "    ],\n",
            "    \"f0_rd_simp_rise_ctp_nib_12\": [\n",
            "        94,\n",
            "        184\n",
            "    ],\n",
            "    \"f0_dqsgate_stg1_overflow_27\": 0,\n",
            "    \"cal_error_bit_phy_nibble_14\": 0,\n",
            "    \"wrvref_vref_final_rank0_byte1\": 0,\n",
            "    \"f1_wrdqdbi_stg3_dq_odly_bit05\": 0,\n",
            "    \"f0_wrdqdbi_stg3_dq_odly_bit03\": 50,\n",
            "    \"f0_rdcmplx_nqtr_right_short_fcrse_nibble06\": 173,\n",
            "    \"f1_wrdqdbi_left_edge_dq_bit08\": 0,\n",
            "    \"f0_wrdqdbi_odly_dq_final_bit03\": 61,\n",
            "    \"f0_lp4_mr23\": 0,\n",
            "    \"f0_wrdqdbi_deskew_dbi_odly_fcrse_byte7\": 143,\n",
            "    \"f0_wrlat_wldlyrnk_crse_final_rank0_byte1\": 3,\n",
            "    \"f0_rddq_idelay_final_bit26\": 65,\n",
            "    \"f1_rdcmplx_idelay_offset_nibble03\": 0,\n",
            "    \"wrvref_right_vref_def_rank0_byte2\": 0,\n",
            "    \"f0_wr_simp_rm_byte_02\": [\n",
            "        64,\n",
            "        123\n",
            "    ],\n",
            "    \"cal_warning_20\": 0,\n",
            "    \"es_vref_max\": 473,\n",
            "    \"dc0_perf_mon_0\": 0,\n",
            "    \"f0_dqsgate_stg2_rldlyrnk_crse_rank0_byte0\": 3,\n",
            "    \"f1_wrcmplx_left_margin_fcrse_byte4\": 0,\n",
            "    \"rdvref_right_vref_final_nibble15\": 0,\n",
            "    \"f0_wrlat_match_rank0_byte0\": 16,\n",
            "    \"f1_mr1_8_0\": 0,\n",
            "    \"f1_wrlat_phy_data_nib_final_byte2\": 0,\n",
            "    \"f0_wrdqdbi_stg2_dq_odly_bit01\": 50,\n",
            "    \"f0_rddq_nqtr_final_nibble01\": 101,\n",
            "    \"f0_wrdqdbi_deskew_dq_odly_bit28\": 145,\n",
            "    \"f0_rdcmplx_pqtr_right_nibble00\": 159,\n",
            "    \"f1_wrcmplx_odly_dq_final_bit15\": 0,\n",
            "    \"f1_calbisc_rl_dly_nqtr_nibble01\": 0,\n",
            "    \"dual_freq_en\": 0,\n",
            "    \"bisc_idly1_align_nibble01\": 79,\n",
            "    \"bisc_idly3_align_nibble05\": 76,\n",
            "    \"f0_wrdqdbi_left_edge_dbi_byte5\": 38,\n",
            "    \"phy_rden3_dly\": 27,\n",
            "    \"f1_wrdqdbi_stg2_dq_odly_bit05\": 0,\n",
            "    \"cal_seq_status_00\": 384,\n",
            "    \"cal_status_map_ver\": 1,\n",
            "    \"f1_wrdqdbi_deskew_dq_odly_bit57\": 0,\n",
            "    \"f0_wrdqdbi_stg4_dqs_delay_byte6\": 14,\n",
            "    \"dqs_gate_running\": 1,\n",
            "    \"f0_rd_simp_rise_ctp_nib_13\": [\n",
            "        97,\n",
            "        189\n",
            "    ],\n",
            "    \"phy_rden14_dly\": 22,\n",
            "    \"f0_rd_simp_rise_lm_nib_12\": [\n",
            "        76,\n",
            "        148\n",
            "    ],\n",
            "    \"f0_wrlvl_fine_final_rank0_byte4\": 21,\n",
            "    \"cal_seq_status_17\": 403,\n",
            "    \"f0_dqsgate_stg1_overflow_01\": 0,\n",
            "    \"cal_stage_time_51\": 0,\n",
            "    \"phy_oe_nib17_dly\": 0,\n",
            "    \"f0_rddq_nqtr_left_nibble11\": 25,\n",
            "    \"f0_rd_comp_rise_ctp_nib_10\": [\n",
            "        90,\n",
            "        178\n",
            "    ],\n",
            "    \"f1_wrdqdbi_deskew_dq_odly_bit01\": 0,\n",
            "    \"f0_rd_comp_fall_ctp_nib_00\": [\n",
            "        84,\n",
            "        162\n",
            "    ],\n",
            "    \"f1_calbisc_rl_dly_pqtr_nibble10\": 0,\n",
            "    \"ddrmc_isr_ce0_ecc1\": 0,\n",
            "    \"f1_rddq_pqtr_final_nibble14\": 0,\n",
            "    \"f0_wrdqdbi_stg2_dq_odly_bit42\": 37,\n",
            "    \"f0_dqsgate_stg2_read_lat_rank0_byte1\": 26,\n",
            "    \"f1_rdcmplx_nqtr_left_nibble09\": 0,\n",
            "    \"f1_rddq_idelay_final_bit15\": 0,\n",
            "    \"f1_rdcmplx_nqtr_left_short_nibble06\": 0,\n",
            "    \"f0_wrdqdbi_stg3_dq_odly_bit11\": 55,\n",
            "    \"f0_rddq_nqtr_left_nibble09\": 21,\n",
            "    \"f1_wrcmplx_odly_dq_final_bit48\": 0,\n",
            "    \"bisc_pqtr_nibble12\": 82,\n",
            "    \"f1_rddq_idelay_final_bit62\": 0,\n",
            "    \"f1_wrlat_match_rank0_byte4\": 0,\n",
            "    \"f1_wrcmplx_odly_dq_final_bit23\": 0,\n",
            "    \"cal_error_phy_nibble_17_9\": 0,\n",
            "    \"f0_rdcmplx_nqtr_left_short_nibble15\": 24,\n",
            "    \"bisc_pqtr_nibble02\": 81,\n",
            "    \"rdvref_vref_upp_bound_nibble12\": 0,\n",
            "    \"cal_stage_time_44\": 0,\n",
            "    \"xpi_wrdata_all_nib_dly\": 16,\n",
            "    \"bisc_rl_dly_qtr_nibble04\": 81,\n",
            "    \"f0_rdcmplx_pqtr_final_nibble03\": 91,\n",
            "    \"f1_dqsgate_stg1_rldlyrnk_crse_rank0_byte5\": 0,\n",
            "    \"f1_rdprbs_nqtr_right_margin_nibble02\": 0,\n",
            "    \"f0_wrlvl_noise_fcrse_rank0_byte2\": 25,\n",
            "    \"f1_rcd_rc0a\": 0,\n",
            "    \"f1_wrdqdbi_deskew_dq_odly_fcrse_bit50\": 0,\n",
            "    \"f0_wrlat_wldlyrnk_crse_final_rank0_byte0\": 2,\n",
            "    \"f1_rddq_idelay_final_bit14\": 0,\n",
            "    \"f0_dqsgate_read_lat_final_byte7\": 28,\n",
            "    \"f0_rddq_nqtr_final_nibble12\": 95,\n",
            "    \"dqstrack_rldlyrnk_fine_max_byte2\": 26,\n",
            "    \"f0_wrdqdbi_deskew_dq_odly_fcrse_bit33\": 81,\n",
            "    \"f1_rddq_idelay_final_bit58\": 0,\n",
            "    \"cal_warning_34\": 0,\n",
            "    \"f0_wrlvl_fine_left_rank0_byte7\": 61,\n",
            "    \"f1_rdcmplx_pqtr_final_nibble07\": 0,\n",
            "    \"nsu0_perf_mon_ctl_0_0\": 0,\n",
            "    \"bisc_pqtr_nibble09\": 79,\n",
            "    \"vttrack_rldlyqtr_max_nibble02\": 86,\n",
            "    \"f1_rddq_qtr_deskew_nibble15\": 0,\n",
            "    \"nsu2_perf_mon_ctl_1_1\": 0,\n",
            "    \"bisc_nqtr_nibble13\": 80,\n",
            "    \"f0_wr_comp_rm_byte_07\": [\n",
            "        66,\n",
            "        128\n",
            "    ],\n",
            "    \"f1_wrdqdbi_deskew_dq_odly_bit32\": 0,\n",
            "    \"f1_wrcmplx_odly_dq_final_bit51\": 0,\n",
            "    \"bisc_nqtr_nibble02\": 81,\n",
            "    \"cal_warning_60\": 0,\n",
            "    \"f1_rdcmplx_nqtr_right_short_fcrse_nibble05\": 0,\n",
            "    \"xpi_map_bitslip\": 0,\n",
            "    \"f0_rdprbs_nqtr_right_margin_nibble09\": 0,\n",
            "    \"f1_wrdqdbi_deskew_dbi_odly_fcrse_byte0\": 0,\n",
            "    \"rdvref_left_vref_def_nibble04\": 0,\n",
            "    \"f0_rdprbs_nqtr_right_margin_nibble00\": 0,\n",
            "    \"phy_rden5_dly\": 27,\n",
            "    \"f1_wrdqdbi_stg2_dq_odly_bit60\": 0,\n",
            "    \"bisc_mon_align_nibble11\": 0,\n",
            "    \"f1_wrdqdbi_stg3_dq_odly_bit52\": 0,\n",
            "    \"f0_rd_comp_fall_ctp_nib_08\": [\n",
            "        76,\n",
            "        148\n",
            "    ],\n",
            "    \"cal_warning_47\": 0,\n",
            "    \"cal_stage_time_53\": 0,\n",
            "    \"ddrmc_isr_na_cmd\": 0,\n",
            "    \"f1_wrprbs_left_margin_byte4\": 0,\n",
            "    \"f1_wrdqdbi_odly_dq_final_bit46\": 0,\n",
            "    \"f0_wrdqdbi_deskew_dq_odly_fcrse_bit63\": 133,\n",
            "    \"f0_rddq_idelay_final_bit12\": 81,\n",
            "    \"f0_wrlvl_offset_rank0_byte7\": 82,\n",
            "    \"f0_rdcmplx_nqtr_left_short_nibble02\": 25,\n",
            "    \"f0_rdcmplx_nqtr_final_nibble02\": 89,\n",
            "    \"f0_wrdqdbi_stg2_dq_odly_bit63\": 63,\n",
            "    \"f0_wrcmplx_odly_dq_final_bit37\": 17,\n",
            "    \"f0_wrdqdbi_stg3_dq_odly_bit63\": 63,\n",
            "    \"f0_wrdqdbi_odly_dq_final_bit39\": 20,\n",
            "    \"cal_stage.05_F0_READ_DQ_CAL\": \"Pass\",\n",
            "    \"f1_rdcmplx_idelay_offset_nibble02\": 0,\n",
            "    \"f0_rdprbs_pqtr_left_margin_nibble14\": 0,\n",
            "    \"f1_rdcmplx_nqtr_right_short_fcrse_nibble06\": 0,\n",
            "    \"f0_wrdqdbi_left_edge_dq_bit12\": 57,\n",
            "    \"f0_wrprbs_left_margin_byte3\": 0,\n",
            "    \"cal_stage_time_62\": 0,\n",
            "    \"rdvref_left_vref_def_nibble13\": 0,\n",
            "    \"f0_wr_simp_ctp_byte_01\": [\n",
            "        312,\n",
            "        607\n",
            "    ],\n",
            "    \"f0_wrprbs_left_margin_byte5\": 0,\n",
            "    \"f1_rddq_qtr_deskew_nibble08\": 0,\n",
            "    \"f0_wrdqdbi_deskew_dq_odly_bit41\": 113,\n",
            "    \"f0_rd_comp_rise_lm_nib_04\": [\n",
            "        67,\n",
            "        130\n",
            "    ],\n",
            "    \"f1_wrlvl_fine_final_rank0_byte2\": 0,\n",
            "    \"0x11_F0_READ_DQ_DBI_CAL_COMPLEX\": \"Pass\",\n",
            "    \"f1_rdcmplx_pqtr_right_short_nibble10\": 0,\n",
            "    \"f0_wrdqdbi_stg1_bit_status_byte1\": 0,\n",
            "    \"rdvref_left_vref_low_bound_nibble11\": 0,\n",
            "    \"f0_wrlvl_fine_left_rank0_byte2\": 19,\n",
            "    \"f0_rdcmplx_nqtr_final_nibble00\": 84,\n",
            "    \"f0_dqsgate_rldlyrnk_crse_final_rank0_byte1\": 0,\n",
            "    \"f1_wrdqdbi_stg3_dq_odly_bit55\": 0,\n",
            "    \"f0_wrdqdbi_stg3_dq_odly_bit09\": 55,\n",
            "    \"f0_wrcmplx_odly_dqs_final_byte6\": 45,\n",
            "    \"f1_wrdqdbi_deskew_dq_odly_fcrse_bit20\": 0,\n",
            "    \"f1_wrdqdbi_deskew_dq_odly_bit14\": 0,\n",
            "    \"ddrmc_isr_nsu_fatal3\": 0,\n",
            "    \"bisc_idly4_align_nibble03\": 77,\n",
            "    \"f0_wrdqdbi_deskew_dq_odly_fcrse_bit40\": 117,\n",
            "    \"f0_rddq_pqtr_left_nibble12\": 18,\n",
            "    \"f0_rdcmplx_nqtr_right_nibble00\": 148,\n",
            "    \"f0_wrprbs_left_margin_byte6\": 0,\n",
            "    \"f0_rddq_pqtr_right_fcrse_nibble12\": 173,\n",
            "    \"f1_wrdqdbi_deskew_dq_odly_bit41\": 0,\n",
            "    \"f1_wrlat_match_rank0_byte6\": 0,\n",
            "    \"f1_wrdqdbi_deskew_dbi_odly_fcrse_byte5\": 0,\n",
            "    \"f1_wrdqdbi_left_edge_dq_bit22\": 0,\n",
            "    \"nsu2_perf_mon_1_0\": 0,\n",
            "    \"f0_rdprbs_pqtr_left_margin_nibble03\": 0,\n",
            "    \"f1_dqsgate_rldlyrnk_crse_final_rank0_byte2\": 0,\n",
            "    \"f1_rdcmplx_nqtr_left_short_nibble04\": 0,\n",
            "    \"f1_wrdqdbi_deskew_dq_odly_bit05\": 0,\n",
            "    \"f1_rdcmplx_nqtr_right_short_fcrse_nibble01\": 0,\n",
            "    \"f1_wrdqdbi_stg2_dqs_odly_byte3\": 0,\n",
            "    \"f0_wrdqdbi_stg3_dq_odly_bit31\": 69,\n",
            "    \"f0_wrdqdbi_left_edge_dq_bit45\": 23,\n",
            "    \"f1_wrdqdbi_stg2_dq_odly_bit04\": 0,\n",
            "    \"nsu0_perf_filter_en_1\": 0,\n",
            "    \"f1_wrdqdbi_stg4_byte_status_01\": 0,\n",
            "    \"f0_wr_comp_rm_byte_06\": [\n",
            "        62,\n",
            "        121\n",
            "    ],\n",
            "    \"f0_wrdqdbi_odly_dq_final_bit62\": 82,\n",
            "    \"f1_dqsgate_stg2_read_lat_rank0_byte0\": 0,\n",
            "    \"f0_rddq_pqtr_right_fcrse_nibble15\": 183,\n",
            "    \"f0_wrdqdbi_left_edge_dq_bit40\": 40,\n",
            "    \"f1_rdprbs_nqtr_right_margin_nibble10\": 0,\n",
            "    \"f1_rdcmplx_pqtr_left_nibble00\": 0,\n",
            "    \"f1_wrdqdbi_stg2_dq_odly_bit26\": 0,\n",
            "    \"f0_calbisc_rl_dly_pqtr_nibble08\": 80,\n",
            "    \"f1_dqsgate_stg1_overflow_59\": 0,\n",
            "    \"f0_wrdqdbi_stg3_dq_odly_bit59\": 63,\n",
            "    \"f1_wrdqdbi_stg2_dq_odly_bit41\": 0,\n",
            "    \"rdvref_left_vref_low_bound_nibble04\": 0,\n",
            "    \"f1_rdcmplx_nqtr_right_nibble05\": 0,\n",
            "    \"f1_mr0_8_0\": 0,\n",
            "    \"bisc_mon_align_nibble09\": 0,\n",
            "    \"cal_stage.06_F0_WRITE_DQ_DBI_CAL\": \"Pass\",\n",
            "    \"f1_rddq_nqtr_right_nibble03\": 0,\n",
            "    \"f1_rddq_nqtr_right_nibble14\": 0,\n",
            "    \"f0_rd_comp_fall_ctp_nib_07\": [\n",
            "        88,\n",
            "        170\n",
            "    ],\n",
            "    \"f0_rdcmplx_nqtr_final_nibble06\": 88,\n",
            "    \"bisc_pqtr_nibble10\": 80,\n",
            "    \"iobmap_dq_35_34\": 0,\n",
            "    \"wrvref_left_vref_final_rank0_byte6\": 0,\n",
            "    \"f0_dqsgate_stg1_overflow_54\": 0,\n",
            "    \"f0_wrlat_phy_data_nib_final_byte5\": 1,\n",
            "    \"f0_wrcmplx_right_margin_fcrse_byte6\": 60,\n",
            "    \"f0_wrdqdbi_stg2_dqs_odly_byte2\": 36,\n",
            "    \"f0_wrdqdbi_stg2_dq_odly_bit22\": 20,\n",
            "    \"vttrack_rldlyqtr_min_nibble07\": 78,\n",
            "    \"f0_wrdqdbi_stg3_dq_odly_bit52\": 29,\n",
            "    \"cal_post_status_tracking\": 1,\n",
            "    \"f1_rdprbs_pqtr_left_margin_nibble03\": 0,\n",
            "    \"phy_oe_nib2_dly\": 1,\n",
            "    \"bisc_idly1_align_nibble00\": 71,\n",
            "    \"dram_size\": 3,\n",
            "    \"f1_dqsgate_stg1_overflow_12\": 0,\n",
            "    \"f1_wrlvl_fine_final_rank0_byte0\": 0,\n",
            "    \"f1_rddq_qtr_deskew_nibble04\": 0,\n",
            "    \"f0_wrdqdbi_deskew_dq_odly_fcrse_bit42\": 107,\n",
            "    \"f0_rddq_pqtr_right_nibble09\": 175,\n",
            "    \"ddrmc_isr_uc1_ecc1\": 0,\n",
            "    \"f1_dqsgate_stg1_rldlyrnk_fine_rank0_byte6\": 0,\n",
            "    \"f1_rdprbs_pqtr_right_margin_nibble08\": 0,\n",
            "    \"cal_stage.12_CAL_DONE\": \"Pass\",\n",
            "    \"cal_stage_time_49\": 0,\n",
            "    \"f0_wr_simp_lm_byte_05\": [\n",
            "        86,\n",
            "        167\n",
            "    ],\n",
            "    \"vttrack_rldlyqtr_min_nibble00\": 79,\n",
            "    \"f1_wrdqdbi_deskew_dq_odly_fcrse_bit09\": 0,\n",
            "    \"f1_wrdqdbi_odly_dqs_final_byte6\": 0,\n",
            "    \"ddrmc_pcsr_status_incal\": 0,\n",
            "    \"f1_wrdqdbi_odly_dqs_final_byte7\": 0,\n",
            "    \"cal_warning_79\": 0,\n",
            "    \"f0_dqsgate_stg1_rldlyrnk_fine_rank0_byte5\": 9,\n",
            "    \"rdmargin_nqtr_right_nibble14\": 0,\n",
            "    \"f0_rddq_idelay_final_bit56\": 73,\n",
            "    \"bisc_mon_align_nibble03\": 0,\n",
            "    \"f0_wrcmplx_right_margin_byte0\": 66,\n",
            "    \"f1_rdcmplx_nqtr_right_short_nibble14\": 0,\n",
            "    \"f1_dqsgate_stg2_rldlyrnk_crse_rank0_byte7\": 0,\n",
            "    \"f0_rdcmplx_pqtr_right_short_nibble10\": 164,\n",
            "    \"f1_rddq_pqtr_final_nibble00\": 0,\n",
            "    \"f1_dqsgate_stg1_rldlyrnk_fine_rank0_byte1\": 0,\n",
            "    \"f1_dqsgate_rldlyrnk_crse_final_rank0_byte0\": 0,\n",
            "    \"f0_wrdqdbi_left_edge_dq_bit14\": 52,\n",
            "    \"f0_rddq_nqtr_final_nibble13\": 97,\n",
            "    \"f1_rdcmplx_nqtr_right_short_fcrse_nibble02\": 0,\n",
            "    \"iobmap_dq_1_0\": 0,\n",
            "    \"f1_wrdqdbi_deskew_dq_odly_bit10\": 0,\n",
            "    \"f1_rddq_nqtr_final_nibble09\": 0,\n",
            "    \"f1_calbisc_rl_dly_pqtr_nibble01\": 0,\n",
            "    \"f1_wrdqdbi_deskew_dq_odly_bit45\": 0,\n",
            "    \"f1_dqsgate_stg1_overflow_40\": 0,\n",
            "    \"bisc_idly5_align_nibble03\": 77,\n",
            "    \"f1_rdcmplx_nqtr_left_nibble08\": 0,\n",
            "    \"iobmap_dq_3_2\": 0,\n",
            "    \"bisc_idly2_align_nibble08\": 66,\n",
            "    \"f1_wrdqdbi_deskew_dbi_odly_fcrse_byte3\": 0,\n",
            "    \"bisc_idly3_align_nibble10\": 68,\n",
            "    \"bisc_idly3_align_nibble06\": 67,\n",
            "    \"rdvref_left_vref_low_bound_nibble08\": 0,\n",
            "    \"f0_rdcmplx_pqtr_right_short_nibble04\": 175,\n",
            "    \"f1_wrdqdbi_left_edge_dq_bit33\": 0,\n",
            "    \"f1_rdprbs_nqtr_right_margin_nibble01\": 0,\n",
            "    \"f0_wrdqdbi_stg2_dq_odly_bit55\": 29,\n",
            "    \"ddrmc_isr_dram_parity0\": 0,\n",
            "    \"f0_wrdqdbi_right_margin_byte4\": 78,\n",
            "    \"f0_rd_simp_rise_lm_nib_01\": [\n",
            "        79,\n",
            "        152\n",
            "    ],\n",
            "    \"f1_db_bc0a\": 0,\n",
            "    \"es_data_need_update\": 0,\n",
            "    \"f1_rddq_nqtr_right_fcrse_nibble08\": 0,\n",
            "    \"f1_rdcmplx_pqtr_left_short_nibble13\": 0,\n",
            "    \"f1_wrdqdbi_left_edge_dq_bit31\": 0,\n",
            "    \"bisc_idly4_align_nibble14\": 70,\n",
            "    \"f0_rd_simp_fall_ctp_nib_14\": [\n",
            "        95,\n",
            "        186\n",
            "    ],\n",
            "    \"vttrack_rldlyqtr_nibble11\": 79,\n",
            "    \"bisc_idly2_align_nibble09\": 74,\n",
            "    \"vttrack_rldlyqtr_min_nibble13\": 76,\n",
            "    \"f1_rdcmplx_idelay_offset_nibble08\": 0,\n",
            "    \"bisc_mon_align_nibble05\": 0,\n",
            "    \"f0_wrdqdbi_deskew_dq_odly_bit26\": 140,\n",
            "    \"bisc_idly0_align_nibble06\": 66,\n",
            "    \"f1_dqsgate_stg2_rldlyrnk_crse_rank0_byte1\": 0,\n",
            "    \"f0_rd_comp_rise_rm_nib_07\": [\n",
            "        69,\n",
            "        134\n",
            "    ],\n",
            "    \"vttrack_rldlyqtr_max_nibble07\": 85,\n",
            "    \"f0_wrdqdbi_stg6_dbi_odly_byte3\": 69,\n",
            "    \"rdmargin_pqtr_right_nibble09\": 0,\n",
            "    \"f0_wr_simp_rm_byte_06\": [\n",
            "        71,\n",
            "        138\n",
            "    ],\n",
            "    \"f0_wrdqdbi_deskew_dq_odly_bit63\": 139,\n",
            "    \"f1_rddq_pqtr_final_nibble13\": 0,\n",
            "    \"f0_wrdqdbi_deskew_dq_odly_bit20\": 102,\n",
            "    \"f1_wrdqdbi_deskew_dq_odly_bit38\": 0,\n",
            "    \"f0_rdcmplx_nqtr_final_nibble09\": 82,\n",
            "    \"mgchk_start\": 0,\n",
            "    \"f0_rd_simp_fall_lm_nib_02\": [\n",
            "        74,\n",
            "        142\n",
            "    ],\n",
            "    \"f0_wr_simp_rm_byte_07\": [\n",
            "        71,\n",
            "        138\n",
            "    ],\n",
            "    \"f0_wrcmplx_right_margin_byte1\": 69,\n",
            "    \"f1_rddq_nqtr_final_nibble05\": 0,\n",
            "    \"iobmap_dq_53_52\": 0,\n",
            "    \"f0_dqsgate_stg2_read_lat_rank0_byte2\": 26,\n",
            "    \"f1_wrlat_phy_oe_nib_final_byte2\": 0,\n",
            "    \"f1_rdcmplx_pqtr_left_nibble03\": 0,\n",
            "    \"f0_wrlat_phy_data_nib_final_byte6\": 1,\n",
            "    \"f1_rdcmplx_nqtr_right_nibble12\": 0,\n",
            "    \"bisc_nqtr_nibble11\": 82,\n",
            "    \"f0_rddq_pqtr_right_fcrse_nibble08\": 173,\n",
            "    \"f0_dqsgate_stg1_overflow_21\": 0,\n",
            "    \"f1_rddq_nqtr_right_nibble08\": 0,\n",
            "    \"f0_rd_simp_rise_lm_nib_11\": [\n",
            "        77,\n",
            "        150\n",
            "    ],\n",
            "    \"f1_rdcmplx_pqtr_left_short_nibble09\": 0,\n",
            "    \"rdmargin_nqtr_left_nibble14\": 0,\n",
            "    \"f1_wrdqdbi_stg3_dq_odly_bit11\": 0,\n",
            "    \"f0_rddq_nqtr_right_fcrse_nibble12\": 176,\n",
            "    \"f1_wrdqdbi_stg1_bit_status_byte3\": 0,\n",
            "    \"f0_rddq_nqtr_left_nibble01\": 25,\n",
            "    \"f0_rd_simp_fall_rm_nib_10\": [\n",
            "        74,\n",
            "        142\n",
            "    ],\n",
            "    \"wrvref_vref_low_bound_rank0_byte7\": 0,\n",
            "    \"f0_wrdqdbi_left_edge_dq_bit23\": 8,\n",
            "    \"f1_rdcmplx_idelay_offset_nibble14\": 0,\n",
            "    \"iobmap_dq_33_32\": 0,\n",
            "    \"f1_rdcmplx_pqtr_right_nibble14\": 0,\n",
            "    \"f1_wrlvl_crse_final_rank0_byte7\": 0,\n",
            "    \"bits_per_byte\": 8,\n",
            "    \"f1_wrdqdbi_odly_dq_final_bit05\": 0,\n",
            "    \"cal_stage_time_55\": 0,\n",
            "    \"f0_rd_comp_rise_rm_nib_08\": [\n",
            "        66,\n",
            "        128\n",
            "    ],\n",
            "    \"f0_dqsgate_stg2_rldlyrnk_crse_rank0_byte4\": 1,\n",
            "    \"f0_wrcmplx_odly_dq_final_bit08\": 65,\n",
            "    \"f1_wrdqdbi_odly_dq_final_bit00\": 0,\n",
            "    \"f0_wrdqdbi_left_edge_dq_bit26\": 63,\n",
            "    \"f1_wrlat_wldlyrnk_crse_final_rank0_byte4\": 0,\n",
            "    \"f1_calbisc_rl_dly_nqtr_nibble08\": 0,\n",
            "    \"f1_wrlat_phy_data_nib_final_byte7\": 0,\n",
            "    \"f0_wrdqdbi_right_margin_byte5\": 67,\n",
            "    \"f1_wrdqdbi_deskew_dq_odly_bit61\": 0,\n",
            "    \"f0_wrdqdbi_right_edge_dqs_byte7\": 150,\n",
            "    \"f0_wrcmplx_odly_dq_final_bit61\": 81,\n",
            "    \"f0_rdcmplx_nqtr_right_nibble12\": 143,\n",
            "    \"f0_calbisc_rl_dly_pqtr_nibble12\": 80,\n",
            "    \"f0_rdcmplx_pqtr_left_nibble10\": 22,\n",
            "    \"f0_wrdqdbi_stg2_dq_odly_bit03\": 50,\n",
            "    \"f0_wrdqdbi_odly_dq_final_bit46\": 48,\n",
            "    \"f0_wrcmplx_odly_dq_final_bit47\": 38,\n",
            "    \"bisc_nqtr_align_nibble06\": 0,\n",
            "    \"f0_rddq_idelay_final_bit30\": 78,\n",
            "    \"ddrmc_isr_na_cmd1\": 0,\n",
            "    \"f0_wrdqdbi_stg2_dq_odly_bit44\": 37,\n",
            "    \"f0_wrdqdbi_deskew_dq_odly_bit09\": 140,\n",
            "    \"f0_wrdqdbi_deskew_dq_odly_bit13\": 133,\n",
            "    \"f0_rddq_idelay_final_bit38\": 74,\n",
            "    \"f1_rddq_qtr_deskew_nibble03\": 0,\n",
            "    \"f1_rddq_idelay_final_bit43\": 0,\n",
            "    \"f1_wrdqdbi_stg2_dq_odly_bit56\": 0,\n",
            "    \"f1_wrdqdbi_odly_dq_final_bit50\": 0,\n",
            "    \"f0_wrdqdbi_odly_dbi_final_byte3\": 70,\n",
            "    \"f1_rddq_pqtr_right_fcrse_nibble07\": 0,\n",
            "    \"rdvref_right_vref_upp_bound_nibble01\": 0,\n",
            "    \"wrvref_right_vref_def_rank0_byte3\": 0,\n",
            "    \"f0_wrdqdbi_stg3_dq_odly_bit44\": 37\n",
            "}\n"
          ]
        }
      ],
      "source": [
        "props = ddr.ddr_node.get_property_group([])\n",
        "json_props = json.dumps(props, indent=4)\n",
        "print(json_props)"
      ]
    },
    {
      "cell_type": "code",
      "execution_count": 12,
      "id": "14f593b0",
      "metadata": {},
      "outputs": [],
      "source": [
        "## When done with testing, close the connection\n",
        "delete_session(session)"
      ]
    }
  ],
  "metadata": {
    "kernelspec": {
      "display_name": "venv",
      "language": "python",
      "name": "python3"
    },
    "language_info": {
      "codemirror_mode": {
        "name": "ipython",
        "version": 3
      },
      "file_extension": ".py",
      "mimetype": "text/x-python",
      "name": "python",
      "nbconvert_exporter": "python",
      "pygments_lexer": "ipython3",
      "version": "3.11.2"
    }
  },
  "nbformat": 4,
  "nbformat_minor": 5
}
