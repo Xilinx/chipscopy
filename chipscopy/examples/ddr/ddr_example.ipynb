{
 "cells": [
  {
   "cell_type": "markdown",
   "id": "41255979",
   "metadata": {
    "papermill": {
     "duration": 0.006867,
     "end_time": "2023-10-20T19:03:11.094734",
     "exception": false,
     "start_time": "2023-10-20T19:03:11.087867",
     "status": "completed"
    },
    "tags": []
   },
   "source": [
    "<link rel=\"preconnect\" href=\"https://fonts.gstatic.com\">\n",
    "<link href=\"https://fonts.googleapis.com/css2?family=Fira+Code&display=swap\" rel=\"stylesheet\">\n",
    "\n",
    "### License\n",
    "\n",
    "<p style=\"font-family: 'Fira Code', monospace; font-size: 1.2rem\">\n",
    "Copyright (C) 2021-2022, Xilinx, Inc.\n",
    "Copyright (C) 2022-2023, Advanced Micro Devices, Inc.\n",
    "<br><br>\n",
    "Licensed under the Apache License, Version 2.0 (the \"License\");<br>\n",
    "you may not use this file except in compliance with the License.<br><br>\n",
    "You may obtain a copy of the License at <a href=\"http://www.apache.org/licenses/LICENSE-2.0\"?>http://www.apache.org/licenses/LICENSE-2.0</a><br><br>\n",
    "Unless required by applicable law or agreed to in writing, software<br>\n",
    "distributed under the License is distributed on an \"AS IS\" BASIS,<br>\n",
    "WITHOUT WARRANTIES OR CONDITIONS OF ANY KIND, either express or implied.<br>\n",
    "See the License for the specific language governing permissions and<br>\n",
    "limitations under the License.<br>\n",
    "</p>\n"
   ]
  },
  {
   "cell_type": "markdown",
   "id": "927bd6b9",
   "metadata": {
    "papermill": {
     "duration": 0.005216,
     "end_time": "2023-10-20T19:03:11.106471",
     "exception": false,
     "start_time": "2023-10-20T19:03:11.101255",
     "status": "completed"
    },
    "tags": []
   },
   "source": [
    "# ChipScoPy DDR Reporting Example\n",
    "\n",
    "\n",
    "<img src=\"../img/api_overview.png\" width=\"500\" align=\"left\">"
   ]
  },
  {
   "cell_type": "markdown",
   "id": "f05be94e",
   "metadata": {
    "papermill": {
     "duration": 0.005094,
     "end_time": "2023-10-20T19:03:11.116793",
     "exception": false,
     "start_time": "2023-10-20T19:03:11.111699",
     "status": "completed"
    },
    "tags": []
   },
   "source": [
    "## Description\n",
    "This demo shows how to print and report DDR calibration status and report detailed information.\n",
    "\n",
    "\n",
    "## Requirements\n",
    "- Local or remote Xilinx Versal board, such as a VCK190\n",
    "- Xilinx hw_server 2023.2 installed and running\n",
    "- Xilinx cs_server 2023.2 installed and running\n",
    "- Python 3.8 or greater installed\n",
    "- ChipScoPy 2023.2 installed\n",
    "- Jupyter notebook support and extra libs needed - Please do so, using the command `pip install chipscopy[core-addons]`"
   ]
  },
  {
   "cell_type": "markdown",
   "id": "2b1a58a7",
   "metadata": {
    "papermill": {
     "duration": 0.005257,
     "end_time": "2023-10-20T19:03:11.126980",
     "exception": false,
     "start_time": "2023-10-20T19:03:11.121723",
     "status": "completed"
    },
    "tags": []
   },
   "source": [
    "## 1 - Initialization: Imports and File Paths\n",
    "\n",
    "After this step,\n",
    "- Required functions and classes are imported\n",
    "- Paths to server(s) and files are set correctly"
   ]
  },
  {
   "cell_type": "code",
   "execution_count": 1,
   "id": "e9ac5772",
   "metadata": {
    "execution": {
     "iopub.execute_input": "2023-10-20T19:03:11.139240Z",
     "iopub.status.busy": "2023-10-20T19:03:11.138648Z",
     "iopub.status.idle": "2023-10-20T19:03:11.393259Z",
     "shell.execute_reply": "2023-10-20T19:03:11.392227Z"
    },
    "papermill": {
     "duration": 0.263555,
     "end_time": "2023-10-20T19:03:11.395737",
     "exception": false,
     "start_time": "2023-10-20T19:03:11.132182",
     "status": "completed"
    },
    "tags": []
   },
   "outputs": [],
   "source": [
    "import pprint\n",
    "import os\n",
    "import json\n",
    "from chipscopy import create_session, report_versions\n",
    "from chipscopy import get_design_files"
   ]
  },
  {
   "cell_type": "code",
   "execution_count": 2,
   "id": "4011ea2d",
   "metadata": {
    "execution": {
     "iopub.execute_input": "2023-10-20T19:03:11.409657Z",
     "iopub.status.busy": "2023-10-20T19:03:11.409340Z",
     "iopub.status.idle": "2023-10-20T19:03:11.422601Z",
     "shell.execute_reply": "2023-10-20T19:03:11.421300Z"
    },
    "papermill": {
     "duration": 0.022125,
     "end_time": "2023-10-20T19:03:11.424195",
     "exception": false,
     "start_time": "2023-10-20T19:03:11.402070",
     "status": "completed"
    },
    "tags": []
   },
   "outputs": [
    {
     "name": "stdout",
     "output_type": "stream",
     "text": [
      "HW_URL: TCP:localhost:3121\n",
      "CS_URL: TCP:localhost:3042\n",
      "PROGRAMMING_FILE: /wrk/xcohdnobkup3/dkopelov/chipscopy/chipscopy/examples/designs/vck190/production/chipscopy_ced/chipscopy_wrapper.pdi\n",
      "PROBES_FILE:/wrk/xcohdnobkup3/dkopelov/chipscopy/chipscopy/examples/designs/vck190/production/chipscopy_ced/chipscopy_wrapper.ltx\n"
     ]
    }
   ],
   "source": [
    "# Specify locations of the running hw_server and cs_server below.\n",
    "CS_URL = os.getenv(\"CS_SERVER_URL\", \"TCP:localhost:3042\")\n",
    "HW_URL = os.getenv(\"HW_SERVER_URL\", \"TCP:localhost:3121\")\n",
    "\n",
    "# specify hw and if programming is desired\n",
    "HW_PLATFORM = os.getenv(\"HW_PLATFORM\", \"vck190\")\n",
    "PROG_DEVICE = os.getenv(\"PROG_DEVICE\", 'True').lower() in ('true', '1', 't')\n",
    "\n",
    "# The get_design_files() function tries to find the PDI and LTX files. In non-standard\n",
    "# configurations, you can put the path for PROGRAMMING_FILE and PROBES_FILE below.\n",
    "design_files = get_design_files(f\"{HW_PLATFORM}/production/chipscopy_ced\")\n",
    "\n",
    "PDI_FILE = design_files.programming_file\n",
    "LTX_FILE = design_files.probes_file\n",
    "\n",
    "print(f\"HW_URL: {HW_URL}\")\n",
    "print(f\"CS_URL: {CS_URL}\")\n",
    "print(f\"PROGRAMMING_FILE: {PDI_FILE}\")\n",
    "print(f\"PROBES_FILE:{LTX_FILE}\")"
   ]
  },
  {
   "cell_type": "markdown",
   "id": "ca167172",
   "metadata": {
    "papermill": {
     "duration": 0.00674,
     "end_time": "2023-10-20T19:03:11.437389",
     "exception": false,
     "start_time": "2023-10-20T19:03:11.430649",
     "status": "completed"
    },
    "tags": []
   },
   "source": [
    "## 2 - Create a session and connect to the hw_server and cs_server\n",
    "\n",
    "The session is a container that keeps track of devices and debug cores.\n",
    "After this step,\n",
    "- Session is initialized and connected to server(s)\n",
    "- Versions are detected and reported to stdout"
   ]
  },
  {
   "cell_type": "code",
   "execution_count": 3,
   "id": "4bcd4e27",
   "metadata": {
    "execution": {
     "iopub.execute_input": "2023-10-20T19:03:11.450705Z",
     "iopub.status.busy": "2023-10-20T19:03:11.450448Z",
     "iopub.status.idle": "2023-10-20T19:03:12.706483Z",
     "shell.execute_reply": "2023-10-20T19:03:12.705498Z"
    },
    "papermill": {
     "duration": 1.264227,
     "end_time": "2023-10-20T19:03:12.708214",
     "exception": false,
     "start_time": "2023-10-20T19:03:11.443987",
     "status": "completed"
    },
    "tags": []
   },
   "outputs": [
    {
     "data": {
      "text/html": [
       "<pre style=\"white-space:pre;overflow-x:auto;line-height:normal;font-family:Menlo,'DejaVu Sans Mono',consolas,'Courier New',monospace\">\n",
       "\n",
       "</pre>\n"
      ],
      "text/plain": [
       "<rich.jupyter.JupyterRenderable at 0x7fe74012b610>"
      ]
     },
     "metadata": {},
     "output_type": "display_data"
    },
    {
     "data": {
      "text/html": [
       "<pre style=\"white-space:pre;overflow-x:auto;line-height:normal;font-family:Menlo,'DejaVu Sans Mono',consolas,'Courier New',monospace\"><span style=\"font-style: italic\">                      ChipScoPy Version Information                      </span>\n",
       "┌────────────────────────────┬──────────────────────────────────────────┐\n",
       "│<span style=\"font-weight: bold\">                     Entity </span>│<span style=\"font-weight: bold\"> Version                                  </span>│\n",
       "├────────────────────────────┼──────────────────────────────────────────┤\n",
       "│                  ChipScoPy │ ┌───────────┬──────────────────────┐     │\n",
       "│                            │ │<span style=\"font-weight: bold\"> Attribute </span>│<span style=\"font-weight: bold\"> Value                </span>│     │\n",
       "│                            │ ├───────────┼──────────────────────┤     │\n",
       "│                            │ │     Build │ 2023.2.1693353190    │     │\n",
       "│                            │ │ Timestamp │ Aug 29 2023-17:53:10 │     │\n",
       "│                            │ └───────────┴──────────────────────┘     │\n",
       "│                            │                                          │\n",
       "│ hw_server @ localhost:3121 │ ┌───────────┬──────────────────────────┐ │\n",
       "│                            │ │<span style=\"font-weight: bold\"> Attribute </span>│<span style=\"font-weight: bold\"> Value                    </span>│ │\n",
       "│                            │ ├───────────┼──────────────────────────┤ │\n",
       "│                            │ │    Status │ Connected                │ │\n",
       "│                            │ │     Build │ 1683493450               │ │\n",
       "│                            │ │   Version │ 2023.1                   │ │\n",
       "│                            │ │ Timestamp │ Sun May  7 15:04:10 2023 │ │\n",
       "│                            │ └───────────┴──────────────────────────┘ │\n",
       "│                            │                                          │\n",
       "│ cs_server @ localhost:3042 │ ┌───────────────┬──────────────────────┐ │\n",
       "│                            │ │<span style=\"font-weight: bold\">     Attribute </span>│<span style=\"font-weight: bold\"> Value                </span>│ │\n",
       "│                            │ ├───────────────┼──────────────────────┤ │\n",
       "│                            │ │        Status │ Connected            │ │\n",
       "│                            │ │         Build │ 1696910516           │ │\n",
       "│                            │ │       Version │ 2023.2.0             │ │\n",
       "│                            │ │     Timestamp │ Oct 09 2023-22:01:56 │ │\n",
       "│                            │ │       Package │ 2023.2.1696910516    │ │\n",
       "│                            │ │ Artifact type │ pyinstaller          │ │\n",
       "│                            │ └───────────────┴──────────────────────┘ │\n",
       "└────────────────────────────┴──────────────────────────────────────────┘\n",
       "</pre>\n"
      ],
      "text/plain": [
       "<rich.jupyter.JupyterRenderable at 0x7fe7400ea460>"
      ]
     },
     "metadata": {},
     "output_type": "display_data"
    },
    {
     "data": {
      "text/html": [
       "<pre style=\"white-space:pre;overflow-x:auto;line-height:normal;font-family:Menlo,'DejaVu Sans Mono',consolas,'Courier New',monospace\">\n",
       "\n",
       "</pre>\n"
      ],
      "text/plain": [
       "<rich.jupyter.JupyterRenderable at 0x7fe74012b6a0>"
      ]
     },
     "metadata": {},
     "output_type": "display_data"
    }
   ],
   "source": [
    "# Start of the connection\n",
    "session = create_session(cs_server_url=CS_URL, hw_server_url=HW_URL)\n",
    "report_versions(session)"
   ]
  },
  {
   "cell_type": "markdown",
   "id": "78f1f4a5",
   "metadata": {
    "papermill": {
     "duration": 0.052658,
     "end_time": "2023-10-20T19:03:12.767827",
     "exception": false,
     "start_time": "2023-10-20T19:03:12.715169",
     "status": "completed"
    },
    "tags": []
   },
   "source": [
    "## 3 - Program the device with the example design\n",
    "\n",
    "After this step,\n",
    "- Device is programmed with the example programming file"
   ]
  },
  {
   "cell_type": "code",
   "execution_count": 4,
   "id": "4a242f9a",
   "metadata": {
    "execution": {
     "iopub.execute_input": "2023-10-20T19:03:12.785158Z",
     "iopub.status.busy": "2023-10-20T19:03:12.783583Z",
     "iopub.status.idle": "2023-10-20T19:03:17.974260Z",
     "shell.execute_reply": "2023-10-20T19:03:17.973151Z"
    },
    "papermill": {
     "duration": 5.201519,
     "end_time": "2023-10-20T19:03:17.976775",
     "exception": false,
     "start_time": "2023-10-20T19:03:12.775256",
     "status": "completed"
    },
    "tags": []
   },
   "outputs": [
    {
     "data": {
      "text/html": [
       "<pre style=\"white-space:pre;overflow-x:auto;line-height:normal;font-family:Menlo,'DejaVu Sans Mono',consolas,'Courier New',monospace\">\n",
       "<span style=\"font-weight: bold\">--&gt; INFO: </span>Programming device with: /wrk/xcohdnobkup3/dkopelov/chipscopy/chipscopy/examples/de\n",
       "signs/vck190/production/chipscopy_ced/chipscopy_wrapper.pdi\n",
       "    \n",
       "</pre>\n"
      ],
      "text/plain": [
       "<rich.jupyter.JupyterRenderable at 0x7fe7401a2520>"
      ]
     },
     "metadata": {},
     "output_type": "display_data"
    },
    {
     "name": "stderr",
     "output_type": "stream",
     "text": [
      "/wrk/xcohdnobkup3/dkopelov/chipscopy/chipscopy-venv-py38/lib/python3.8/site-packages/rich/live.py:216: UserWarning: install \"ipywidgets\" for Jupyter support\n",
      "  warnings.warn('install \"ipywidgets\" for Jupyter support')\n"
     ]
    }
   ],
   "source": [
    "# Typical case - one device on the board - get it.\n",
    "versal_device = session.devices.filter_by(family=\"versal\").get()\n",
    "if PROG_DEVICE:\n",
    "    versal_device.program(PDI_FILE)\n",
    "else:\n",
    "    print(\"skipping programming\")"
   ]
  },
  {
   "cell_type": "markdown",
   "id": "7505cc85",
   "metadata": {
    "papermill": {
     "duration": 0.005683,
     "end_time": "2023-10-20T19:03:17.989152",
     "exception": false,
     "start_time": "2023-10-20T19:03:17.983469",
     "status": "completed"
    },
    "tags": []
   },
   "source": [
    "## 4 - Discover Debug Cores\n",
    "\n",
    "Debug core discovery initializes the chipscope server debug cores. This brings debug cores in the chipscope server online.\n",
    "\n",
    "After this step,\n",
    "\n",
    "- The cs_server is initialized and ready for use"
   ]
  },
  {
   "cell_type": "code",
   "execution_count": 5,
   "id": "10d4769e",
   "metadata": {
    "execution": {
     "iopub.execute_input": "2023-10-20T19:03:18.005216Z",
     "iopub.status.busy": "2023-10-20T19:03:18.003443Z",
     "iopub.status.idle": "2023-10-20T19:03:18.107821Z",
     "shell.execute_reply": "2023-10-20T19:03:18.106651Z"
    },
    "papermill": {
     "duration": 0.114709,
     "end_time": "2023-10-20T19:03:18.109414",
     "exception": false,
     "start_time": "2023-10-20T19:03:17.994705",
     "status": "completed"
    },
    "tags": []
   },
   "outputs": [
    {
     "name": "stdout",
     "output_type": "stream",
     "text": [
      "Debug cores setup and ready for use.\n"
     ]
    }
   ],
   "source": [
    "versal_device.discover_and_setup_cores()\n",
    "print(f\"Debug cores setup and ready for use.\")"
   ]
  },
  {
   "cell_type": "markdown",
   "id": "9863212e",
   "metadata": {
    "papermill": {
     "duration": 0.006536,
     "end_time": "2023-10-20T19:03:18.122841",
     "exception": false,
     "start_time": "2023-10-20T19:03:18.116305",
     "status": "completed"
    },
    "tags": []
   },
   "source": [
    "## 5 - Show enabled DDRs in the device. Pick one to use"
   ]
  },
  {
   "cell_type": "code",
   "execution_count": 6,
   "id": "dc2615b9",
   "metadata": {
    "execution": {
     "iopub.execute_input": "2023-10-20T19:03:18.137431Z",
     "iopub.status.busy": "2023-10-20T19:03:18.136953Z",
     "iopub.status.idle": "2023-10-20T19:03:19.464629Z",
     "shell.execute_reply": "2023-10-20T19:03:19.463594Z"
    },
    "papermill": {
     "duration": 1.33771,
     "end_time": "2023-10-20T19:03:19.466447",
     "exception": false,
     "start_time": "2023-10-20T19:03:18.128737",
     "status": "completed"
    },
    "tags": []
   },
   "outputs": [
    {
     "name": "stdout",
     "output_type": "stream",
     "text": [
      "ddr_0   Enabled: True\n",
      "ddr_1   Enabled: False\n",
      "ddr_2   Enabled: False\n",
      "ddr_3   Enabled: False\n",
      "Using Enabled DDR:  ddr_0\n"
     ]
    }
   ],
   "source": [
    "ddr_list = versal_device.ddrs\n",
    "for ddr in ddr_list:\n",
    "    print(ddr, \"  Enabled:\", ddr.is_enabled)\n",
    "\n",
    "# Grab the first enabled DDR\n",
    "for ddr in ddr_list:\n",
    "    if ddr.is_enabled:\n",
    "        print(\"Using Enabled DDR: \", ddr)\n",
    "        break"
   ]
  },
  {
   "cell_type": "markdown",
   "id": "7230dfbd",
   "metadata": {
    "papermill": {
     "duration": 0.006343,
     "end_time": "2023-10-20T19:03:19.479678",
     "exception": false,
     "start_time": "2023-10-20T19:03:19.473335",
     "status": "completed"
    },
    "tags": []
   },
   "source": [
    "## 6 - Getting the Calibration Status\n",
    "\n",
    "There are several methods available to collect memory calibration information."
   ]
  },
  {
   "cell_type": "markdown",
   "id": "bf46a674",
   "metadata": {
    "papermill": {
     "duration": 0.005803,
     "end_time": "2023-10-20T19:03:19.492123",
     "exception": false,
     "start_time": "2023-10-20T19:03:19.486320",
     "status": "completed"
    },
    "tags": []
   },
   "source": [
    "### Method 1 - Calibration PASS/FAIL status"
   ]
  },
  {
   "cell_type": "code",
   "execution_count": 7,
   "id": "13774cbe",
   "metadata": {
    "execution": {
     "iopub.execute_input": "2023-10-20T19:03:19.506317Z",
     "iopub.status.busy": "2023-10-20T19:03:19.505673Z",
     "iopub.status.idle": "2023-10-20T19:03:19.513959Z",
     "shell.execute_reply": "2023-10-20T19:03:19.513108Z"
    },
    "papermill": {
     "duration": 0.017553,
     "end_time": "2023-10-20T19:03:19.515450",
     "exception": false,
     "start_time": "2023-10-20T19:03:19.497897",
     "status": "completed"
    },
    "tags": []
   },
   "outputs": [
    {
     "name": "stdout",
     "output_type": "stream",
     "text": [
      "ddr_0 calibration status: PASS\n"
     ]
    }
   ],
   "source": [
    "# Method 1 - Use Status string base API directly\n",
    "print(ddr, \"calibration status:\", ddr.get_cal_status())"
   ]
  },
  {
   "cell_type": "markdown",
   "id": "90ba902d",
   "metadata": {
    "papermill": {
     "duration": 0.005606,
     "end_time": "2023-10-20T19:03:19.527152",
     "exception": false,
     "start_time": "2023-10-20T19:03:19.521546",
     "status": "completed"
    },
    "tags": []
   },
   "source": [
    "### Method 2 - Calibration from the status property group"
   ]
  },
  {
   "cell_type": "code",
   "execution_count": 8,
   "id": "a734709e",
   "metadata": {
    "execution": {
     "iopub.execute_input": "2023-10-20T19:03:19.540693Z",
     "iopub.status.busy": "2023-10-20T19:03:19.540241Z",
     "iopub.status.idle": "2023-10-20T19:03:19.593621Z",
     "shell.execute_reply": "2023-10-20T19:03:19.592488Z"
    },
    "papermill": {
     "duration": 0.062839,
     "end_time": "2023-10-20T19:03:19.595747",
     "exception": false,
     "start_time": "2023-10-20T19:03:19.532908",
     "status": "completed"
    },
    "tags": []
   },
   "outputs": [
    {
     "name": "stdout",
     "output_type": "stream",
     "text": [
      "{ 'cal_error_msg': 'None',\n",
      "  'cal_message': 'No errors detected during calibration.',\n",
      "  'cal_status': 'PASS',\n",
      "  'dqs_status': 'Running',\n",
      "  'health_status': 'GOOD',\n",
      "  'track_enable': 'UB ISR Tracking, DQS Gate Tracking, DDRMC ISR Tracking, '\n",
      "                  'Post-Cal Status'}\n"
     ]
    }
   ],
   "source": [
    "# Use Property Group to get dictionary base of results\n",
    "props = ddr.ddr_node.get_property_group([\"status\"])\n",
    "print(pprint.pformat(props, indent=2))"
   ]
  },
  {
   "cell_type": "markdown",
   "id": "1fbab64a",
   "metadata": {
    "papermill": {
     "duration": 0.005953,
     "end_time": "2023-10-20T19:03:19.609205",
     "exception": false,
     "start_time": "2023-10-20T19:03:19.603252",
     "status": "completed"
    },
    "tags": []
   },
   "source": [
    "### Method 3 - Detailed calibration status for each stage"
   ]
  },
  {
   "cell_type": "code",
   "execution_count": 9,
   "id": "6bac1adf",
   "metadata": {
    "execution": {
     "iopub.execute_input": "2023-10-20T19:03:19.623830Z",
     "iopub.status.busy": "2023-10-20T19:03:19.622507Z",
     "iopub.status.idle": "2023-10-20T19:03:19.676295Z",
     "shell.execute_reply": "2023-10-20T19:03:19.675293Z"
    },
    "papermill": {
     "duration": 0.062962,
     "end_time": "2023-10-20T19:03:19.678067",
     "exception": false,
     "start_time": "2023-10-20T19:03:19.615105",
     "status": "completed"
    },
    "tags": []
   },
   "outputs": [
    {
     "name": "stdout",
     "output_type": "stream",
     "text": [
      "[ ('cal_stage.01_F0_PHY_BISC', 'Pass'),\n",
      "  ('cal_stage.02_F0_MEM_INIT', 'Pass'),\n",
      "  ('cal_stage.03_F0_DQS_GATE_CAL', 'Pass'),\n",
      "  ('cal_stage.04_F0_WRITE_LEVELING', 'Pass'),\n",
      "  ('cal_stage.05_F0_READ_DQ_CAL', 'Pass'),\n",
      "  ('cal_stage.06_F0_WRITE_DQ_DBI_CAL', 'Pass'),\n",
      "  ('cal_stage.07_F0_WRITE_LATENCY_CAL', 'Pass'),\n",
      "  ('cal_stage.08_F0_READ_DQ_DBI_CAL_COMPLEX', 'Pass'),\n",
      "  ('cal_stage.09_F0_WRITE_DQ_DBI_CAL_COMPLEX', 'Pass'),\n",
      "  ('cal_stage.10_EN_VT_TRACK', 'Pass'),\n",
      "  ('cal_stage.11_READ_DQS_TRACK', 'Pass'),\n",
      "  ('cal_stage.12_CAL_DONE', 'Pass')]\n"
     ]
    }
   ],
   "source": [
    "# Use get Cal Stages API directly to also get dictionary results\n",
    "props = ddr.get_cal_stages()\n",
    "print(pprint.pformat(sorted(props.items()), indent=2))"
   ]
  },
  {
   "cell_type": "markdown",
   "id": "04d7a994",
   "metadata": {
    "papermill": {
     "duration": 0.006316,
     "end_time": "2023-10-20T19:03:19.692510",
     "exception": false,
     "start_time": "2023-10-20T19:03:19.686194",
     "status": "completed"
    },
    "tags": []
   },
   "source": [
    "## 7 - Generate Full DDRMC Report\n",
    "\n",
    "The report() API call creates a full DDRMC status report to stdout or a file. This report includes memory configuration, margin analysis, calibration, and health status information."
   ]
  },
  {
   "cell_type": "code",
   "execution_count": 10,
   "id": "6b327707",
   "metadata": {
    "execution": {
     "iopub.execute_input": "2023-10-20T19:03:19.707298Z",
     "iopub.status.busy": "2023-10-20T19:03:19.706612Z",
     "iopub.status.idle": "2023-10-20T19:03:24.241606Z",
     "shell.execute_reply": "2023-10-20T19:03:24.240109Z"
    },
    "papermill": {
     "duration": 4.5448,
     "end_time": "2023-10-20T19:03:24.243369",
     "exception": false,
     "start_time": "2023-10-20T19:03:19.698569",
     "status": "completed"
    },
    "tags": []
   },
   "outputs": [
    {
     "data": {
      "text/html": [
       "<pre style=\"white-space:pre;overflow-x:auto;line-height:normal;font-family:Menlo,'DejaVu Sans Mono',consolas,'Courier New',monospace\">-------------------\n",
       "\n",
       "</pre>\n"
      ],
      "text/plain": [
       "<rich.jupyter.JupyterRenderable at 0x7fe74006a280>"
      ]
     },
     "metadata": {},
     "output_type": "display_data"
    },
    {
     "data": {
      "text/html": [
       "<pre style=\"white-space:pre;overflow-x:auto;line-height:normal;font-family:Menlo,'DejaVu Sans Mono',consolas,'Courier New',monospace\"> DDRMC Status \n",
       "\n",
       "</pre>\n"
      ],
      "text/plain": [
       "<rich.jupyter.JupyterRenderable at 0x7fe74043cf10>"
      ]
     },
     "metadata": {},
     "output_type": "display_data"
    },
    {
     "data": {
      "text/html": [
       "<pre style=\"white-space:pre;overflow-x:auto;line-height:normal;font-family:Menlo,'DejaVu Sans Mono',consolas,'Courier New',monospace\">-------------------\n",
       "\n",
       "</pre>\n"
      ],
      "text/plain": [
       "<rich.jupyter.JupyterRenderable at 0x7fe748477760>"
      ]
     },
     "metadata": {},
     "output_type": "display_data"
    },
    {
     "data": {
      "text/html": [
       "<pre style=\"white-space:pre;overflow-x:auto;line-height:normal;font-family:Menlo,'DejaVu Sans Mono',consolas,'Courier New',monospace\">Calibration Status:   PASS \n",
       "\n",
       "</pre>\n"
      ],
      "text/plain": [
       "<rich.jupyter.JupyterRenderable at 0x7fe7484f1a00>"
      ]
     },
     "metadata": {},
     "output_type": "display_data"
    },
    {
     "data": {
      "text/html": [
       "<pre style=\"white-space:pre;overflow-x:auto;line-height:normal;font-family:Menlo,'DejaVu Sans Mono',consolas,'Courier New',monospace\">Overall Health:   GOOD \n",
       "\n",
       "</pre>\n"
      ],
      "text/plain": [
       "<rich.jupyter.JupyterRenderable at 0x7fe74043cac0>"
      ]
     },
     "metadata": {},
     "output_type": "display_data"
    },
    {
     "data": {
      "text/html": [
       "<pre style=\"white-space:pre;overflow-x:auto;line-height:normal;font-family:Menlo,'DejaVu Sans Mono',consolas,'Courier New',monospace\">Message:   No errors detected during calibration. \n",
       "\n",
       "</pre>\n"
      ],
      "text/plain": [
       "<rich.jupyter.JupyterRenderable at 0x7fe74043cbe0>"
      ]
     },
     "metadata": {},
     "output_type": "display_data"
    },
    {
     "data": {
      "text/html": [
       "<pre style=\"white-space:pre;overflow-x:auto;line-height:normal;font-family:Menlo,'DejaVu Sans Mono',consolas,'Courier New',monospace\">\n",
       "-------------------\n",
       "\n",
       "</pre>\n"
      ],
      "text/plain": [
       "<rich.jupyter.JupyterRenderable at 0x7fe7400dfa30>"
      ]
     },
     "metadata": {},
     "output_type": "display_data"
    },
    {
     "data": {
      "text/html": [
       "<pre style=\"white-space:pre;overflow-x:auto;line-height:normal;font-family:Menlo,'DejaVu Sans Mono',consolas,'Courier New',monospace\"> Status Registers\n",
       "\n",
       "</pre>\n"
      ],
      "text/plain": [
       "<rich.jupyter.JupyterRenderable at 0x7fe7400dfa30>"
      ]
     },
     "metadata": {},
     "output_type": "display_data"
    },
    {
     "data": {
      "text/html": [
       "<pre style=\"white-space:pre;overflow-x:auto;line-height:normal;font-family:Menlo,'DejaVu Sans Mono',consolas,'Courier New',monospace\">-------------------\n",
       "\n",
       "</pre>\n"
      ],
      "text/plain": [
       "<rich.jupyter.JupyterRenderable at 0x7fe7400dfa30>"
      ]
     },
     "metadata": {},
     "output_type": "display_data"
    },
    {
     "data": {
      "text/html": [
       "<pre style=\"white-space:pre;overflow-x:auto;line-height:normal;font-family:Menlo,'DejaVu Sans Mono',consolas,'Courier New',monospace\">DDRMC ISR Table\n",
       "\n",
       "</pre>\n"
      ],
      "text/plain": [
       "<rich.jupyter.JupyterRenderable at 0x7fe7400dfa30>"
      ]
     },
     "metadata": {},
     "output_type": "display_data"
    },
    {
     "data": {
      "text/html": [
       "<pre style=\"white-space:pre;overflow-x:auto;line-height:normal;font-family:Menlo,'DejaVu Sans Mono',consolas,'Courier New',monospace\">   ddrmc_isr_ce0_ecc0 :   <span style=\"color: #000080; text-decoration-color: #000080; font-weight: bold\">0</span>\n",
       "</pre>\n"
      ],
      "text/plain": [
       "<rich.jupyter.JupyterRenderable at 0x7fe7400bf070>"
      ]
     },
     "metadata": {},
     "output_type": "display_data"
    },
    {
     "data": {
      "text/html": [
       "<pre style=\"white-space:pre;overflow-x:auto;line-height:normal;font-family:Menlo,'DejaVu Sans Mono',consolas,'Courier New',monospace\">   ddrmc_isr_ce0_ecc1 :   <span style=\"color: #000080; text-decoration-color: #000080; font-weight: bold\">0</span>\n",
       "</pre>\n"
      ],
      "text/plain": [
       "<rich.jupyter.JupyterRenderable at 0x7fe7400bf070>"
      ]
     },
     "metadata": {},
     "output_type": "display_data"
    },
    {
     "data": {
      "text/html": [
       "<pre style=\"white-space:pre;overflow-x:auto;line-height:normal;font-family:Menlo,'DejaVu Sans Mono',consolas,'Courier New',monospace\">   ddrmc_isr_ce1_ecc0 :   <span style=\"color: #000080; text-decoration-color: #000080; font-weight: bold\">0</span>\n",
       "</pre>\n"
      ],
      "text/plain": [
       "<rich.jupyter.JupyterRenderable at 0x7fe7400bf070>"
      ]
     },
     "metadata": {},
     "output_type": "display_data"
    },
    {
     "data": {
      "text/html": [
       "<pre style=\"white-space:pre;overflow-x:auto;line-height:normal;font-family:Menlo,'DejaVu Sans Mono',consolas,'Courier New',monospace\">   ddrmc_isr_ce1_ecc1 :   <span style=\"color: #000080; text-decoration-color: #000080; font-weight: bold\">0</span>\n",
       "</pre>\n"
      ],
      "text/plain": [
       "<rich.jupyter.JupyterRenderable at 0x7fe7400bf070>"
      ]
     },
     "metadata": {},
     "output_type": "display_data"
    },
    {
     "data": {
      "text/html": [
       "<pre style=\"white-space:pre;overflow-x:auto;line-height:normal;font-family:Menlo,'DejaVu Sans Mono',consolas,'Courier New',monospace\">   ddrmc_isr_ch0_data_par :   <span style=\"color: #000080; text-decoration-color: #000080; font-weight: bold\">0</span>\n",
       "</pre>\n"
      ],
      "text/plain": [
       "<rich.jupyter.JupyterRenderable at 0x7fe7400bf070>"
      ]
     },
     "metadata": {},
     "output_type": "display_data"
    },
    {
     "data": {
      "text/html": [
       "<pre style=\"white-space:pre;overflow-x:auto;line-height:normal;font-family:Menlo,'DejaVu Sans Mono',consolas,'Courier New',monospace\">   ddrmc_isr_ch1_data_par :   <span style=\"color: #000080; text-decoration-color: #000080; font-weight: bold\">0</span>\n",
       "</pre>\n"
      ],
      "text/plain": [
       "<rich.jupyter.JupyterRenderable at 0x7fe7400bf070>"
      ]
     },
     "metadata": {},
     "output_type": "display_data"
    },
    {
     "data": {
      "text/html": [
       "<pre style=\"white-space:pre;overflow-x:auto;line-height:normal;font-family:Menlo,'DejaVu Sans Mono',consolas,'Courier New',monospace\">   ddrmc_isr_dc_cmd0_fatal :   <span style=\"color: #000080; text-decoration-color: #000080; font-weight: bold\">0</span>\n",
       "</pre>\n"
      ],
      "text/plain": [
       "<rich.jupyter.JupyterRenderable at 0x7fe7400bf070>"
      ]
     },
     "metadata": {},
     "output_type": "display_data"
    },
    {
     "data": {
      "text/html": [
       "<pre style=\"white-space:pre;overflow-x:auto;line-height:normal;font-family:Menlo,'DejaVu Sans Mono',consolas,'Courier New',monospace\">   ddrmc_isr_dc_cmd1_fatal :   <span style=\"color: #000080; text-decoration-color: #000080; font-weight: bold\">0</span>\n",
       "</pre>\n"
      ],
      "text/plain": [
       "<rich.jupyter.JupyterRenderable at 0x7fe7400bf070>"
      ]
     },
     "metadata": {},
     "output_type": "display_data"
    },
    {
     "data": {
      "text/html": [
       "<pre style=\"white-space:pre;overflow-x:auto;line-height:normal;font-family:Menlo,'DejaVu Sans Mono',consolas,'Courier New',monospace\">   ddrmc_isr_dram_parity0 :   <span style=\"color: #000080; text-decoration-color: #000080; font-weight: bold\">0</span>\n",
       "</pre>\n"
      ],
      "text/plain": [
       "<rich.jupyter.JupyterRenderable at 0x7fe7400bf070>"
      ]
     },
     "metadata": {},
     "output_type": "display_data"
    },
    {
     "data": {
      "text/html": [
       "<pre style=\"white-space:pre;overflow-x:auto;line-height:normal;font-family:Menlo,'DejaVu Sans Mono',consolas,'Courier New',monospace\">   ddrmc_isr_dram_parity1 :   <span style=\"color: #000080; text-decoration-color: #000080; font-weight: bold\">0</span>\n",
       "</pre>\n"
      ],
      "text/plain": [
       "<rich.jupyter.JupyterRenderable at 0x7fe7400bf070>"
      ]
     },
     "metadata": {},
     "output_type": "display_data"
    },
    {
     "data": {
      "text/html": [
       "<pre style=\"white-space:pre;overflow-x:auto;line-height:normal;font-family:Menlo,'DejaVu Sans Mono',consolas,'Courier New',monospace\">   ddrmc_isr_dram_parity_fatal_0 :   <span style=\"color: #000080; text-decoration-color: #000080; font-weight: bold\">0</span>\n",
       "</pre>\n"
      ],
      "text/plain": [
       "<rich.jupyter.JupyterRenderable at 0x7fe7400bf070>"
      ]
     },
     "metadata": {},
     "output_type": "display_data"
    },
    {
     "data": {
      "text/html": [
       "<pre style=\"white-space:pre;overflow-x:auto;line-height:normal;font-family:Menlo,'DejaVu Sans Mono',consolas,'Courier New',monospace\">   ddrmc_isr_dram_parity_fatal_1 :   <span style=\"color: #000080; text-decoration-color: #000080; font-weight: bold\">0</span>\n",
       "</pre>\n"
      ],
      "text/plain": [
       "<rich.jupyter.JupyterRenderable at 0x7fe7400bf070>"
      ]
     },
     "metadata": {},
     "output_type": "display_data"
    },
    {
     "data": {
      "text/html": [
       "<pre style=\"white-space:pre;overflow-x:auto;line-height:normal;font-family:Menlo,'DejaVu Sans Mono',consolas,'Courier New',monospace\">   ddrmc_isr_na_cmd :   <span style=\"color: #000080; text-decoration-color: #000080; font-weight: bold\">0</span>\n",
       "</pre>\n"
      ],
      "text/plain": [
       "<rich.jupyter.JupyterRenderable at 0x7fe7400bf070>"
      ]
     },
     "metadata": {},
     "output_type": "display_data"
    },
    {
     "data": {
      "text/html": [
       "<pre style=\"white-space:pre;overflow-x:auto;line-height:normal;font-family:Menlo,'DejaVu Sans Mono',consolas,'Courier New',monospace\">   ddrmc_isr_na_cmd0 :   <span style=\"color: #000080; text-decoration-color: #000080; font-weight: bold\">0</span>\n",
       "</pre>\n"
      ],
      "text/plain": [
       "<rich.jupyter.JupyterRenderable at 0x7fe7400bf070>"
      ]
     },
     "metadata": {},
     "output_type": "display_data"
    },
    {
     "data": {
      "text/html": [
       "<pre style=\"white-space:pre;overflow-x:auto;line-height:normal;font-family:Menlo,'DejaVu Sans Mono',consolas,'Courier New',monospace\">   ddrmc_isr_na_cmd1 :   <span style=\"color: #000080; text-decoration-color: #000080; font-weight: bold\">0</span>\n",
       "</pre>\n"
      ],
      "text/plain": [
       "<rich.jupyter.JupyterRenderable at 0x7fe7400bf070>"
      ]
     },
     "metadata": {},
     "output_type": "display_data"
    },
    {
     "data": {
      "text/html": [
       "<pre style=\"white-space:pre;overflow-x:auto;line-height:normal;font-family:Menlo,'DejaVu Sans Mono',consolas,'Courier New',monospace\">   ddrmc_isr_na_cmd_fatal :   <span style=\"color: #000080; text-decoration-color: #000080; font-weight: bold\">0</span>\n",
       "</pre>\n"
      ],
      "text/plain": [
       "<rich.jupyter.JupyterRenderable at 0x7fe7400bf070>"
      ]
     },
     "metadata": {},
     "output_type": "display_data"
    },
    {
     "data": {
      "text/html": [
       "<pre style=\"white-space:pre;overflow-x:auto;line-height:normal;font-family:Menlo,'DejaVu Sans Mono',consolas,'Courier New',monospace\">   ddrmc_isr_nsu_0 :   <span style=\"color: #000080; text-decoration-color: #000080; font-weight: bold\">0</span>\n",
       "</pre>\n"
      ],
      "text/plain": [
       "<rich.jupyter.JupyterRenderable at 0x7fe7400bf070>"
      ]
     },
     "metadata": {},
     "output_type": "display_data"
    },
    {
     "data": {
      "text/html": [
       "<pre style=\"white-space:pre;overflow-x:auto;line-height:normal;font-family:Menlo,'DejaVu Sans Mono',consolas,'Courier New',monospace\">   ddrmc_isr_nsu_1 :   <span style=\"color: #000080; text-decoration-color: #000080; font-weight: bold\">0</span>\n",
       "</pre>\n"
      ],
      "text/plain": [
       "<rich.jupyter.JupyterRenderable at 0x7fe7400bf070>"
      ]
     },
     "metadata": {},
     "output_type": "display_data"
    },
    {
     "data": {
      "text/html": [
       "<pre style=\"white-space:pre;overflow-x:auto;line-height:normal;font-family:Menlo,'DejaVu Sans Mono',consolas,'Courier New',monospace\">   ddrmc_isr_nsu_2 :   <span style=\"color: #000080; text-decoration-color: #000080; font-weight: bold\">0</span>\n",
       "</pre>\n"
      ],
      "text/plain": [
       "<rich.jupyter.JupyterRenderable at 0x7fe7400bf070>"
      ]
     },
     "metadata": {},
     "output_type": "display_data"
    },
    {
     "data": {
      "text/html": [
       "<pre style=\"white-space:pre;overflow-x:auto;line-height:normal;font-family:Menlo,'DejaVu Sans Mono',consolas,'Courier New',monospace\">   ddrmc_isr_nsu_3 :   <span style=\"color: #000080; text-decoration-color: #000080; font-weight: bold\">0</span>\n",
       "</pre>\n"
      ],
      "text/plain": [
       "<rich.jupyter.JupyterRenderable at 0x7fe7400bf070>"
      ]
     },
     "metadata": {},
     "output_type": "display_data"
    },
    {
     "data": {
      "text/html": [
       "<pre style=\"white-space:pre;overflow-x:auto;line-height:normal;font-family:Menlo,'DejaVu Sans Mono',consolas,'Courier New',monospace\">   ddrmc_isr_nsu_fatal0 :   <span style=\"color: #000080; text-decoration-color: #000080; font-weight: bold\">0</span>\n",
       "</pre>\n"
      ],
      "text/plain": [
       "<rich.jupyter.JupyterRenderable at 0x7fe7400bf070>"
      ]
     },
     "metadata": {},
     "output_type": "display_data"
    },
    {
     "data": {
      "text/html": [
       "<pre style=\"white-space:pre;overflow-x:auto;line-height:normal;font-family:Menlo,'DejaVu Sans Mono',consolas,'Courier New',monospace\">   ddrmc_isr_nsu_fatal1 :   <span style=\"color: #000080; text-decoration-color: #000080; font-weight: bold\">0</span>\n",
       "</pre>\n"
      ],
      "text/plain": [
       "<rich.jupyter.JupyterRenderable at 0x7fe7400bf070>"
      ]
     },
     "metadata": {},
     "output_type": "display_data"
    },
    {
     "data": {
      "text/html": [
       "<pre style=\"white-space:pre;overflow-x:auto;line-height:normal;font-family:Menlo,'DejaVu Sans Mono',consolas,'Courier New',monospace\">   ddrmc_isr_nsu_fatal2 :   <span style=\"color: #000080; text-decoration-color: #000080; font-weight: bold\">0</span>\n",
       "</pre>\n"
      ],
      "text/plain": [
       "<rich.jupyter.JupyterRenderable at 0x7fe7400bf070>"
      ]
     },
     "metadata": {},
     "output_type": "display_data"
    },
    {
     "data": {
      "text/html": [
       "<pre style=\"white-space:pre;overflow-x:auto;line-height:normal;font-family:Menlo,'DejaVu Sans Mono',consolas,'Courier New',monospace\">   ddrmc_isr_nsu_fatal3 :   <span style=\"color: #000080; text-decoration-color: #000080; font-weight: bold\">0</span>\n",
       "</pre>\n"
      ],
      "text/plain": [
       "<rich.jupyter.JupyterRenderable at 0x7fe7400bf070>"
      ]
     },
     "metadata": {},
     "output_type": "display_data"
    },
    {
     "data": {
      "text/html": [
       "<pre style=\"white-space:pre;overflow-x:auto;line-height:normal;font-family:Menlo,'DejaVu Sans Mono',consolas,'Courier New',monospace\">   ddrmc_isr_uc0_ecc0 :   <span style=\"color: #000080; text-decoration-color: #000080; font-weight: bold\">0</span>\n",
       "</pre>\n"
      ],
      "text/plain": [
       "<rich.jupyter.JupyterRenderable at 0x7fe7400bf070>"
      ]
     },
     "metadata": {},
     "output_type": "display_data"
    },
    {
     "data": {
      "text/html": [
       "<pre style=\"white-space:pre;overflow-x:auto;line-height:normal;font-family:Menlo,'DejaVu Sans Mono',consolas,'Courier New',monospace\">   ddrmc_isr_uc0_ecc1 :   <span style=\"color: #000080; text-decoration-color: #000080; font-weight: bold\">0</span>\n",
       "</pre>\n"
      ],
      "text/plain": [
       "<rich.jupyter.JupyterRenderable at 0x7fe7400cb550>"
      ]
     },
     "metadata": {},
     "output_type": "display_data"
    },
    {
     "data": {
      "text/html": [
       "<pre style=\"white-space:pre;overflow-x:auto;line-height:normal;font-family:Menlo,'DejaVu Sans Mono',consolas,'Courier New',monospace\">   ddrmc_isr_uc1_ecc0 :   <span style=\"color: #000080; text-decoration-color: #000080; font-weight: bold\">0</span>\n",
       "</pre>\n"
      ],
      "text/plain": [
       "<rich.jupyter.JupyterRenderable at 0x7fe7400bf070>"
      ]
     },
     "metadata": {},
     "output_type": "display_data"
    },
    {
     "data": {
      "text/html": [
       "<pre style=\"white-space:pre;overflow-x:auto;line-height:normal;font-family:Menlo,'DejaVu Sans Mono',consolas,'Courier New',monospace\">   ddrmc_isr_uc1_ecc1 :   <span style=\"color: #000080; text-decoration-color: #000080; font-weight: bold\">0</span>\n",
       "</pre>\n"
      ],
      "text/plain": [
       "<rich.jupyter.JupyterRenderable at 0x7fe7400cb0d0>"
      ]
     },
     "metadata": {},
     "output_type": "display_data"
    },
    {
     "data": {
      "text/html": [
       "<pre style=\"white-space:pre;overflow-x:auto;line-height:normal;font-family:Menlo,'DejaVu Sans Mono',consolas,'Courier New',monospace\">\n",
       "UB ISR Table\n",
       "\n",
       "</pre>\n"
      ],
      "text/plain": [
       "<rich.jupyter.JupyterRenderable at 0x7fe7400bf070>"
      ]
     },
     "metadata": {},
     "output_type": "display_data"
    },
    {
     "data": {
      "text/html": [
       "<pre style=\"white-space:pre;overflow-x:auto;line-height:normal;font-family:Menlo,'DejaVu Sans Mono',consolas,'Courier New',monospace\">   ub_data_ce :   <span style=\"color: #000080; text-decoration-color: #000080; font-weight: bold\">0</span>\n",
       "</pre>\n"
      ],
      "text/plain": [
       "<rich.jupyter.JupyterRenderable at 0x7fe7400cb1c0>"
      ]
     },
     "metadata": {},
     "output_type": "display_data"
    },
    {
     "data": {
      "text/html": [
       "<pre style=\"white-space:pre;overflow-x:auto;line-height:normal;font-family:Menlo,'DejaVu Sans Mono',consolas,'Courier New',monospace\">   ub_data_ue :   <span style=\"color: #000080; text-decoration-color: #000080; font-weight: bold\">0</span>\n",
       "</pre>\n"
      ],
      "text/plain": [
       "<rich.jupyter.JupyterRenderable at 0x7fe7400cb1c0>"
      ]
     },
     "metadata": {},
     "output_type": "display_data"
    },
    {
     "data": {
      "text/html": [
       "<pre style=\"white-space:pre;overflow-x:auto;line-height:normal;font-family:Menlo,'DejaVu Sans Mono',consolas,'Courier New',monospace\">   ub_instr_ce :   <span style=\"color: #000080; text-decoration-color: #000080; font-weight: bold\">0</span>\n",
       "</pre>\n"
      ],
      "text/plain": [
       "<rich.jupyter.JupyterRenderable at 0x7fe7400cb1c0>"
      ]
     },
     "metadata": {},
     "output_type": "display_data"
    },
    {
     "data": {
      "text/html": [
       "<pre style=\"white-space:pre;overflow-x:auto;line-height:normal;font-family:Menlo,'DejaVu Sans Mono',consolas,'Courier New',monospace\">   ub_isntr_ue :   <span style=\"color: #000080; text-decoration-color: #000080; font-weight: bold\">0</span>\n",
       "</pre>\n"
      ],
      "text/plain": [
       "<rich.jupyter.JupyterRenderable at 0x7fe7400cb1c0>"
      ]
     },
     "metadata": {},
     "output_type": "display_data"
    },
    {
     "data": {
      "text/html": [
       "<pre style=\"white-space:pre;overflow-x:auto;line-height:normal;font-family:Menlo,'DejaVu Sans Mono',consolas,'Courier New',monospace\">   ub_isr_calerror :   <span style=\"color: #000080; text-decoration-color: #000080; font-weight: bold\">0</span>\n",
       "</pre>\n"
      ],
      "text/plain": [
       "<rich.jupyter.JupyterRenderable at 0x7fe7400cb1c0>"
      ]
     },
     "metadata": {},
     "output_type": "display_data"
    },
    {
     "data": {
      "text/html": [
       "<pre style=\"white-space:pre;overflow-x:auto;line-height:normal;font-family:Menlo,'DejaVu Sans Mono',consolas,'Courier New',monospace\">   ub_isr_vt_track_err :   <span style=\"color: #000080; text-decoration-color: #000080; font-weight: bold\">0</span>\n",
       "</pre>\n"
      ],
      "text/plain": [
       "<rich.jupyter.JupyterRenderable at 0x7fe7400cb1c0>"
      ]
     },
     "metadata": {},
     "output_type": "display_data"
    },
    {
     "data": {
      "text/html": [
       "<pre style=\"white-space:pre;overflow-x:auto;line-height:normal;font-family:Menlo,'DejaVu Sans Mono',consolas,'Courier New',monospace\">   ub_isr_watchdog :   <span style=\"color: #000080; text-decoration-color: #000080; font-weight: bold\">0</span>\n",
       "</pre>\n"
      ],
      "text/plain": [
       "<rich.jupyter.JupyterRenderable at 0x7fe7400cb1c0>"
      ]
     },
     "metadata": {},
     "output_type": "display_data"
    },
    {
     "data": {
      "text/html": [
       "<pre style=\"white-space:pre;overflow-x:auto;line-height:normal;font-family:Menlo,'DejaVu Sans Mono',consolas,'Courier New',monospace\">   ub_ub_msg :   <span style=\"color: #000080; text-decoration-color: #000080; font-weight: bold\">0</span>\n",
       "</pre>\n"
      ],
      "text/plain": [
       "<rich.jupyter.JupyterRenderable at 0x7fe7400cb1c0>"
      ]
     },
     "metadata": {},
     "output_type": "display_data"
    },
    {
     "data": {
      "text/html": [
       "<pre style=\"white-space:pre;overflow-x:auto;line-height:normal;font-family:Menlo,'DejaVu Sans Mono',consolas,'Courier New',monospace\">\n",
       "----------------------------------\n",
       "\n",
       "</pre>\n"
      ],
      "text/plain": [
       "<rich.jupyter.JupyterRenderable at 0x7fe7400cb1c0>"
      ]
     },
     "metadata": {},
     "output_type": "display_data"
    },
    {
     "data": {
      "text/html": [
       "<pre style=\"white-space:pre;overflow-x:auto;line-height:normal;font-family:Menlo,'DejaVu Sans Mono',consolas,'Courier New',monospace\"> Memory Configuration \n",
       "\n",
       "</pre>\n"
      ],
      "text/plain": [
       "<rich.jupyter.JupyterRenderable at 0x7fe7400c8550>"
      ]
     },
     "metadata": {},
     "output_type": "display_data"
    },
    {
     "data": {
      "text/html": [
       "<pre style=\"white-space:pre;overflow-x:auto;line-height:normal;font-family:Menlo,'DejaVu Sans Mono',consolas,'Courier New',monospace\">----------------------------------\n",
       "\n",
       "</pre>\n"
      ],
      "text/plain": [
       "<rich.jupyter.JupyterRenderable at 0x7fe7400c81f0>"
      ]
     },
     "metadata": {},
     "output_type": "display_data"
    },
    {
     "data": {
      "text/html": [
       "<pre style=\"white-space:pre;overflow-x:auto;line-height:normal;font-family:Menlo,'DejaVu Sans Mono',consolas,'Courier New',monospace\">DDRMC Core Name :   ddr_0\n",
       "</pre>\n"
      ],
      "text/plain": [
       "<rich.jupyter.JupyterRenderable at 0x7fe7400c32e0>"
      ]
     },
     "metadata": {},
     "output_type": "display_data"
    },
    {
     "data": {
      "text/html": [
       "<pre style=\"white-space:pre;overflow-x:auto;line-height:normal;font-family:Menlo,'DejaVu Sans Mono',consolas,'Courier New',monospace\">Memory Interface :   DDR4\n",
       "</pre>\n"
      ],
      "text/plain": [
       "<rich.jupyter.JupyterRenderable at 0x7fe7400c32e0>"
      ]
     },
     "metadata": {},
     "output_type": "display_data"
    },
    {
     "data": {
      "text/html": [
       "<pre style=\"white-space:pre;overflow-x:auto;line-height:normal;font-family:Menlo,'DejaVu Sans Mono',consolas,'Courier New',monospace\">Device Type :   UDIMM\n",
       "</pre>\n"
      ],
      "text/plain": [
       "<rich.jupyter.JupyterRenderable at 0x7fe7400c32e0>"
      ]
     },
     "metadata": {},
     "output_type": "display_data"
    },
    {
     "data": {
      "text/html": [
       "<pre style=\"white-space:pre;overflow-x:auto;line-height:normal;font-family:Menlo,'DejaVu Sans Mono',consolas,'Courier New',monospace\">MC Location :   x0y0\n",
       "</pre>\n"
      ],
      "text/plain": [
       "<rich.jupyter.JupyterRenderable at 0x7fe7400c32e0>"
      ]
     },
     "metadata": {},
     "output_type": "display_data"
    },
    {
     "data": {
      "text/html": [
       "<pre style=\"white-space:pre;overflow-x:auto;line-height:normal;font-family:Menlo,'DejaVu Sans Mono',consolas,'Courier New',monospace\">Slots :   <span style=\"color: #000080; text-decoration-color: #000080; font-weight: bold\">1</span>\n",
       "</pre>\n"
      ],
      "text/plain": [
       "<rich.jupyter.JupyterRenderable at 0x7fe7400c32e0>"
      ]
     },
     "metadata": {},
     "output_type": "display_data"
    },
    {
     "data": {
      "text/html": [
       "<pre style=\"white-space:pre;overflow-x:auto;line-height:normal;font-family:Menlo,'DejaVu Sans Mono',consolas,'Courier New',monospace\">Ranks :   <span style=\"color: #000080; text-decoration-color: #000080; font-weight: bold\">1</span>\n",
       "</pre>\n"
      ],
      "text/plain": [
       "<rich.jupyter.JupyterRenderable at 0x7fe7400c32e0>"
      ]
     },
     "metadata": {},
     "output_type": "display_data"
    },
    {
     "data": {
      "text/html": [
       "<pre style=\"white-space:pre;overflow-x:auto;line-height:normal;font-family:Menlo,'DejaVu Sans Mono',consolas,'Courier New',monospace\">Data Width :   <span style=\"color: #000080; text-decoration-color: #000080; font-weight: bold\">64</span>\n",
       "</pre>\n"
      ],
      "text/plain": [
       "<rich.jupyter.JupyterRenderable at 0x7fe7400c32e0>"
      ]
     },
     "metadata": {},
     "output_type": "display_data"
    },
    {
     "data": {
      "text/html": [
       "<pre style=\"white-space:pre;overflow-x:auto;line-height:normal;font-family:Menlo,'DejaVu Sans Mono',consolas,'Courier New',monospace\">Bytes :   <span style=\"color: #000080; text-decoration-color: #000080; font-weight: bold\">8</span>\n",
       "</pre>\n"
      ],
      "text/plain": [
       "<rich.jupyter.JupyterRenderable at 0x7fe7400c32e0>"
      ]
     },
     "metadata": {},
     "output_type": "display_data"
    },
    {
     "data": {
      "text/html": [
       "<pre style=\"white-space:pre;overflow-x:auto;line-height:normal;font-family:Menlo,'DejaVu Sans Mono',consolas,'Courier New',monospace\">Nibbles :   <span style=\"color: #000080; text-decoration-color: #000080; font-weight: bold\">16</span>\n",
       "</pre>\n"
      ],
      "text/plain": [
       "<rich.jupyter.JupyterRenderable at 0x7fe7400c32e0>"
      ]
     },
     "metadata": {},
     "output_type": "display_data"
    },
    {
     "data": {
      "text/html": [
       "<pre style=\"white-space:pre;overflow-x:auto;line-height:normal;font-family:Menlo,'DejaVu Sans Mono',consolas,'Courier New',monospace\">Bits per Byte :   <span style=\"color: #000080; text-decoration-color: #000080; font-weight: bold\">8</span>\n",
       "</pre>\n"
      ],
      "text/plain": [
       "<rich.jupyter.JupyterRenderable at 0x7fe7400c32e0>"
      ]
     },
     "metadata": {},
     "output_type": "display_data"
    },
    {
     "data": {
      "text/html": [
       "<pre style=\"white-space:pre;overflow-x:auto;line-height:normal;font-family:Menlo,'DejaVu Sans Mono',consolas,'Courier New',monospace\">Memory Frequency <span style=\"color: #000080; text-decoration-color: #000080; font-weight: bold\">0</span> :   <span style=\"color: #000080; text-decoration-color: #000080; font-weight: bold\">1600</span> MHz\n",
       "</pre>\n"
      ],
      "text/plain": [
       "<rich.jupyter.JupyterRenderable at 0x7fe7400c32e0>"
      ]
     },
     "metadata": {},
     "output_type": "display_data"
    },
    {
     "data": {
      "text/html": [
       "<pre style=\"white-space:pre;overflow-x:auto;line-height:normal;font-family:Menlo,'DejaVu Sans Mono',consolas,'Courier New',monospace\">\n",
       "-----------------------------------\n",
       "\n",
       "</pre>\n"
      ],
      "text/plain": [
       "<rich.jupyter.JupyterRenderable at 0x7fe7400c32e0>"
      ]
     },
     "metadata": {},
     "output_type": "display_data"
    },
    {
     "data": {
      "text/html": [
       "<pre style=\"white-space:pre;overflow-x:auto;line-height:normal;font-family:Menlo,'DejaVu Sans Mono',consolas,'Courier New',monospace\"> Calibration Stages Information \n",
       "\n",
       "</pre>\n"
      ],
      "text/plain": [
       "<rich.jupyter.JupyterRenderable at 0x7fe7400c32e0>"
      ]
     },
     "metadata": {},
     "output_type": "display_data"
    },
    {
     "data": {
      "text/html": [
       "<pre style=\"white-space:pre;overflow-x:auto;line-height:normal;font-family:Menlo,'DejaVu Sans Mono',consolas,'Courier New',monospace\">-----------------------------------\n",
       "\n",
       "</pre>\n"
      ],
      "text/plain": [
       "<rich.jupyter.JupyterRenderable at 0x7fe7400c32e0>"
      ]
     },
     "metadata": {},
     "output_type": "display_data"
    },
    {
     "data": {
      "text/html": [
       "<pre style=\"white-space:pre;overflow-x:auto;line-height:normal;font-family:Menlo,'DejaVu Sans Mono',consolas,'Courier New',monospace\">cal_stage.01_F0_PHY_BISC :   Pass\n",
       "</pre>\n"
      ],
      "text/plain": [
       "<rich.jupyter.JupyterRenderable at 0x7fe7400e4580>"
      ]
     },
     "metadata": {},
     "output_type": "display_data"
    },
    {
     "data": {
      "text/html": [
       "<pre style=\"white-space:pre;overflow-x:auto;line-height:normal;font-family:Menlo,'DejaVu Sans Mono',consolas,'Courier New',monospace\">cal_stage.02_F0_MEM_INIT :   Pass\n",
       "</pre>\n"
      ],
      "text/plain": [
       "<rich.jupyter.JupyterRenderable at 0x7fe7400e4490>"
      ]
     },
     "metadata": {},
     "output_type": "display_data"
    },
    {
     "data": {
      "text/html": [
       "<pre style=\"white-space:pre;overflow-x:auto;line-height:normal;font-family:Menlo,'DejaVu Sans Mono',consolas,'Courier New',monospace\">cal_stage.03_F0_DQS_GATE_CAL :   Pass\n",
       "</pre>\n"
      ],
      "text/plain": [
       "<rich.jupyter.JupyterRenderable at 0x7fe7400e4fd0>"
      ]
     },
     "metadata": {},
     "output_type": "display_data"
    },
    {
     "data": {
      "text/html": [
       "<pre style=\"white-space:pre;overflow-x:auto;line-height:normal;font-family:Menlo,'DejaVu Sans Mono',consolas,'Courier New',monospace\">cal_stage.04_F0_WRITE_LEVELING :   Pass\n",
       "</pre>\n"
      ],
      "text/plain": [
       "<rich.jupyter.JupyterRenderable at 0x7fe7400e4a60>"
      ]
     },
     "metadata": {},
     "output_type": "display_data"
    },
    {
     "data": {
      "text/html": [
       "<pre style=\"white-space:pre;overflow-x:auto;line-height:normal;font-family:Menlo,'DejaVu Sans Mono',consolas,'Courier New',monospace\">cal_stage.05_F0_READ_DQ_CAL :   Pass\n",
       "</pre>\n"
      ],
      "text/plain": [
       "<rich.jupyter.JupyterRenderable at 0x7fe7400e4730>"
      ]
     },
     "metadata": {},
     "output_type": "display_data"
    },
    {
     "data": {
      "text/html": [
       "<pre style=\"white-space:pre;overflow-x:auto;line-height:normal;font-family:Menlo,'DejaVu Sans Mono',consolas,'Courier New',monospace\">cal_stage.06_F0_WRITE_DQ_DBI_CAL :   Pass\n",
       "</pre>\n"
      ],
      "text/plain": [
       "<rich.jupyter.JupyterRenderable at 0x7fe7400e4520>"
      ]
     },
     "metadata": {},
     "output_type": "display_data"
    },
    {
     "data": {
      "text/html": [
       "<pre style=\"white-space:pre;overflow-x:auto;line-height:normal;font-family:Menlo,'DejaVu Sans Mono',consolas,'Courier New',monospace\">cal_stage.07_F0_WRITE_LATENCY_CAL :   Pass\n",
       "</pre>\n"
      ],
      "text/plain": [
       "<rich.jupyter.JupyterRenderable at 0x7fe7400e4580>"
      ]
     },
     "metadata": {},
     "output_type": "display_data"
    },
    {
     "data": {
      "text/html": [
       "<pre style=\"white-space:pre;overflow-x:auto;line-height:normal;font-family:Menlo,'DejaVu Sans Mono',consolas,'Courier New',monospace\">cal_stage.08_F0_READ_DQ_DBI_CAL_COMPLEX :   Pass\n",
       "</pre>\n"
      ],
      "text/plain": [
       "<rich.jupyter.JupyterRenderable at 0x7fe7400e4490>"
      ]
     },
     "metadata": {},
     "output_type": "display_data"
    },
    {
     "data": {
      "text/html": [
       "<pre style=\"white-space:pre;overflow-x:auto;line-height:normal;font-family:Menlo,'DejaVu Sans Mono',consolas,'Courier New',monospace\">cal_stage.09_F0_WRITE_DQ_DBI_CAL_COMPLEX :   Pass\n",
       "</pre>\n"
      ],
      "text/plain": [
       "<rich.jupyter.JupyterRenderable at 0x7fe7400e4fd0>"
      ]
     },
     "metadata": {},
     "output_type": "display_data"
    },
    {
     "data": {
      "text/html": [
       "<pre style=\"white-space:pre;overflow-x:auto;line-height:normal;font-family:Menlo,'DejaVu Sans Mono',consolas,'Courier New',monospace\">cal_stage.10_EN_VT_TRACK :   Pass\n",
       "</pre>\n"
      ],
      "text/plain": [
       "<rich.jupyter.JupyterRenderable at 0x7fe7400e46d0>"
      ]
     },
     "metadata": {},
     "output_type": "display_data"
    },
    {
     "data": {
      "text/html": [
       "<pre style=\"white-space:pre;overflow-x:auto;line-height:normal;font-family:Menlo,'DejaVu Sans Mono',consolas,'Courier New',monospace\">cal_stage.11_READ_DQS_TRACK :   Pass\n",
       "</pre>\n"
      ],
      "text/plain": [
       "<rich.jupyter.JupyterRenderable at 0x7fe7400e4730>"
      ]
     },
     "metadata": {},
     "output_type": "display_data"
    },
    {
     "data": {
      "text/html": [
       "<pre style=\"white-space:pre;overflow-x:auto;line-height:normal;font-family:Menlo,'DejaVu Sans Mono',consolas,'Courier New',monospace\">cal_stage.12_CAL_DONE :   Pass\n",
       "</pre>\n"
      ],
      "text/plain": [
       "<rich.jupyter.JupyterRenderable at 0x7fe7400e4520>"
      ]
     },
     "metadata": {},
     "output_type": "display_data"
    },
    {
     "data": {
      "text/html": [
       "<pre style=\"white-space:pre;overflow-x:auto;line-height:normal;font-family:Menlo,'DejaVu Sans Mono',consolas,'Courier New',monospace\">\n",
       "---------------------------------------\n",
       "\n",
       "</pre>\n"
      ],
      "text/plain": [
       "<rich.jupyter.JupyterRenderable at 0x7fe74006a580>"
      ]
     },
     "metadata": {},
     "output_type": "display_data"
    },
    {
     "data": {
      "text/html": [
       "<pre style=\"white-space:pre;overflow-x:auto;line-height:normal;font-family:Menlo,'DejaVu Sans Mono',consolas,'Courier New',monospace\"> Calibration Window Margin Analysis \n",
       "\n",
       "</pre>\n"
      ],
      "text/plain": [
       "<rich.jupyter.JupyterRenderable at 0x7fe74006a580>"
      ]
     },
     "metadata": {},
     "output_type": "display_data"
    },
    {
     "data": {
      "text/html": [
       "<pre style=\"white-space:pre;overflow-x:auto;line-height:normal;font-family:Menlo,'DejaVu Sans Mono',consolas,'Courier New',monospace\">---------------------------------------\n",
       "\n",
       "</pre>\n"
      ],
      "text/plain": [
       "<rich.jupyter.JupyterRenderable at 0x7fe74006a580>"
      ]
     },
     "metadata": {},
     "output_type": "display_data"
    },
    {
     "data": {
      "text/html": [
       "<pre style=\"white-space:pre;overflow-x:auto;line-height:normal;font-family:Menlo,'DejaVu Sans Mono',consolas,'Courier New',monospace\">\n",
       " Frequency <span style=\"color: #000080; text-decoration-color: #000080; font-weight: bold\">0</span>  - Read Margin - Simple Pattern - Rising Edge Clock in pS and <span style=\"font-weight: bold\">(</span>delay taps<span style=\"font-weight: bold\">)</span>:\n",
       "\n",
       "</pre>\n"
      ],
      "text/plain": [
       "<rich.jupyter.JupyterRenderable at 0x7fe74006a4c0>"
      ]
     },
     "metadata": {},
     "output_type": "display_data"
    },
    {
     "data": {
      "text/html": [
       "<pre style=\"white-space:pre;overflow-x:auto;line-height:normal;font-family:Menlo,'DejaVu Sans Mono',consolas,'Courier New',monospace\">Byte  <span style=\"color: #000080; text-decoration-color: #000080; font-weight: bold\">0</span>  Nibble <span style=\"color: #000080; text-decoration-color: #000080; font-weight: bold\">0</span>  -   Left Margin:   <span style=\"color: #000080; text-decoration-color: #000080; font-weight: bold\">136</span>  <span style=\"font-weight: bold\">(</span> <span style=\"color: #000080; text-decoration-color: #000080; font-weight: bold\">68</span> <span style=\"font-weight: bold\">)</span>  Center Point:   <span style=\"color: #000080; text-decoration-color: #000080; font-weight: bold\">172</span>  <span style=\"font-weight: bold\">(</span> <span style=\"color: #000080; text-decoration-color: #000080; font-weight: bold\">86</span> <span style=\"font-weight: bold\">)</span>  Right Margin:\n",
       "<span style=\"color: #000080; text-decoration-color: #000080; font-weight: bold\">138</span>  <span style=\"font-weight: bold\">(</span> <span style=\"color: #000080; text-decoration-color: #000080; font-weight: bold\">69</span> <span style=\"font-weight: bold\">)</span>\n",
       "</pre>\n"
      ],
      "text/plain": [
       "<rich.jupyter.JupyterRenderable at 0x7fe74006a4c0>"
      ]
     },
     "metadata": {},
     "output_type": "display_data"
    },
    {
     "data": {
      "text/html": [
       "<pre style=\"white-space:pre;overflow-x:auto;line-height:normal;font-family:Menlo,'DejaVu Sans Mono',consolas,'Courier New',monospace\">Byte  <span style=\"color: #000080; text-decoration-color: #000080; font-weight: bold\">0</span>  Nibble <span style=\"color: #000080; text-decoration-color: #000080; font-weight: bold\">1</span>  -   Left Margin:   <span style=\"color: #000080; text-decoration-color: #000080; font-weight: bold\">141</span>  <span style=\"font-weight: bold\">(</span> <span style=\"color: #000080; text-decoration-color: #000080; font-weight: bold\">68</span> <span style=\"font-weight: bold\">)</span>  Center Point:   <span style=\"color: #000080; text-decoration-color: #000080; font-weight: bold\">179</span>  <span style=\"font-weight: bold\">(</span> <span style=\"color: #000080; text-decoration-color: #000080; font-weight: bold\">86</span> <span style=\"font-weight: bold\">)</span>  Right Margin:\n",
       "<span style=\"color: #000080; text-decoration-color: #000080; font-weight: bold\">143</span>  <span style=\"font-weight: bold\">(</span> <span style=\"color: #000080; text-decoration-color: #000080; font-weight: bold\">69</span> <span style=\"font-weight: bold\">)</span>\n",
       "</pre>\n"
      ],
      "text/plain": [
       "<rich.jupyter.JupyterRenderable at 0x7fe749cf7490>"
      ]
     },
     "metadata": {},
     "output_type": "display_data"
    },
    {
     "data": {
      "text/html": [
       "<pre style=\"white-space:pre;overflow-x:auto;line-height:normal;font-family:Menlo,'DejaVu Sans Mono',consolas,'Courier New',monospace\">Byte  <span style=\"color: #000080; text-decoration-color: #000080; font-weight: bold\">1</span>  Nibble <span style=\"color: #000080; text-decoration-color: #000080; font-weight: bold\">0</span>  -   Left Margin:   <span style=\"color: #000080; text-decoration-color: #000080; font-weight: bold\">144</span>  <span style=\"font-weight: bold\">(</span> <span style=\"color: #000080; text-decoration-color: #000080; font-weight: bold\">72</span> <span style=\"font-weight: bold\">)</span>  Center Point:   <span style=\"color: #000080; text-decoration-color: #000080; font-weight: bold\">180</span>  <span style=\"font-weight: bold\">(</span> <span style=\"color: #000080; text-decoration-color: #000080; font-weight: bold\">90</span> <span style=\"font-weight: bold\">)</span>  Right Margin:\n",
       "<span style=\"color: #000080; text-decoration-color: #000080; font-weight: bold\">146</span>  <span style=\"font-weight: bold\">(</span> <span style=\"color: #000080; text-decoration-color: #000080; font-weight: bold\">73</span> <span style=\"font-weight: bold\">)</span>\n",
       "</pre>\n"
      ],
      "text/plain": [
       "<rich.jupyter.JupyterRenderable at 0x7fe749cf7490>"
      ]
     },
     "metadata": {},
     "output_type": "display_data"
    },
    {
     "data": {
      "text/html": [
       "<pre style=\"white-space:pre;overflow-x:auto;line-height:normal;font-family:Menlo,'DejaVu Sans Mono',consolas,'Courier New',monospace\">Byte  <span style=\"color: #000080; text-decoration-color: #000080; font-weight: bold\">1</span>  Nibble <span style=\"color: #000080; text-decoration-color: #000080; font-weight: bold\">1</span>  -   Left Margin:   <span style=\"color: #000080; text-decoration-color: #000080; font-weight: bold\">146</span>  <span style=\"font-weight: bold\">(</span> <span style=\"color: #000080; text-decoration-color: #000080; font-weight: bold\">72</span> <span style=\"font-weight: bold\">)</span>  Center Point:   <span style=\"color: #000080; text-decoration-color: #000080; font-weight: bold\">183</span>  <span style=\"font-weight: bold\">(</span> <span style=\"color: #000080; text-decoration-color: #000080; font-weight: bold\">90</span> <span style=\"font-weight: bold\">)</span>  Right Margin:\n",
       "<span style=\"color: #000080; text-decoration-color: #000080; font-weight: bold\">148</span>  <span style=\"font-weight: bold\">(</span> <span style=\"color: #000080; text-decoration-color: #000080; font-weight: bold\">73</span> <span style=\"font-weight: bold\">)</span>\n",
       "</pre>\n"
      ],
      "text/plain": [
       "<rich.jupyter.JupyterRenderable at 0x7fe749cf7490>"
      ]
     },
     "metadata": {},
     "output_type": "display_data"
    },
    {
     "data": {
      "text/html": [
       "<pre style=\"white-space:pre;overflow-x:auto;line-height:normal;font-family:Menlo,'DejaVu Sans Mono',consolas,'Courier New',monospace\">Byte  <span style=\"color: #000080; text-decoration-color: #000080; font-weight: bold\">2</span>  Nibble <span style=\"color: #000080; text-decoration-color: #000080; font-weight: bold\">0</span>  -   Left Margin:   <span style=\"color: #000080; text-decoration-color: #000080; font-weight: bold\">150</span>  <span style=\"font-weight: bold\">(</span> <span style=\"color: #000080; text-decoration-color: #000080; font-weight: bold\">73</span> <span style=\"font-weight: bold\">)</span>  Center Point:   <span style=\"color: #000080; text-decoration-color: #000080; font-weight: bold\">187</span>  <span style=\"font-weight: bold\">(</span> <span style=\"color: #000080; text-decoration-color: #000080; font-weight: bold\">91</span> <span style=\"font-weight: bold\">)</span>  Right Margin:\n",
       "<span style=\"color: #000080; text-decoration-color: #000080; font-weight: bold\">152</span>  <span style=\"font-weight: bold\">(</span> <span style=\"color: #000080; text-decoration-color: #000080; font-weight: bold\">74</span> <span style=\"font-weight: bold\">)</span>\n",
       "</pre>\n"
      ],
      "text/plain": [
       "<rich.jupyter.JupyterRenderable at 0x7fe7400c8250>"
      ]
     },
     "metadata": {},
     "output_type": "display_data"
    },
    {
     "data": {
      "text/html": [
       "<pre style=\"white-space:pre;overflow-x:auto;line-height:normal;font-family:Menlo,'DejaVu Sans Mono',consolas,'Courier New',monospace\">Byte  <span style=\"color: #000080; text-decoration-color: #000080; font-weight: bold\">2</span>  Nibble <span style=\"color: #000080; text-decoration-color: #000080; font-weight: bold\">1</span>  -   Left Margin:   <span style=\"color: #000080; text-decoration-color: #000080; font-weight: bold\">152</span>  <span style=\"font-weight: bold\">(</span> <span style=\"color: #000080; text-decoration-color: #000080; font-weight: bold\">72</span> <span style=\"font-weight: bold\">)</span>  Center Point:   <span style=\"color: #000080; text-decoration-color: #000080; font-weight: bold\">190</span>  <span style=\"font-weight: bold\">(</span> <span style=\"color: #000080; text-decoration-color: #000080; font-weight: bold\">90</span> <span style=\"font-weight: bold\">)</span>  Right Margin:\n",
       "<span style=\"color: #000080; text-decoration-color: #000080; font-weight: bold\">154</span>  <span style=\"font-weight: bold\">(</span> <span style=\"color: #000080; text-decoration-color: #000080; font-weight: bold\">73</span> <span style=\"font-weight: bold\">)</span>\n",
       "</pre>\n"
      ],
      "text/plain": [
       "<rich.jupyter.JupyterRenderable at 0x7fe74006a4c0>"
      ]
     },
     "metadata": {},
     "output_type": "display_data"
    },
    {
     "data": {
      "text/html": [
       "<pre style=\"white-space:pre;overflow-x:auto;line-height:normal;font-family:Menlo,'DejaVu Sans Mono',consolas,'Courier New',monospace\">Byte  <span style=\"color: #000080; text-decoration-color: #000080; font-weight: bold\">3</span>  Nibble <span style=\"color: #000080; text-decoration-color: #000080; font-weight: bold\">0</span>  -   Left Margin:   <span style=\"color: #000080; text-decoration-color: #000080; font-weight: bold\">148</span>  <span style=\"font-weight: bold\">(</span> <span style=\"color: #000080; text-decoration-color: #000080; font-weight: bold\">73</span> <span style=\"font-weight: bold\">)</span>  Center Point:   <span style=\"color: #000080; text-decoration-color: #000080; font-weight: bold\">185</span>  <span style=\"font-weight: bold\">(</span> <span style=\"color: #000080; text-decoration-color: #000080; font-weight: bold\">91</span> <span style=\"font-weight: bold\">)</span>  Right Margin:\n",
       "<span style=\"color: #000080; text-decoration-color: #000080; font-weight: bold\">150</span>  <span style=\"font-weight: bold\">(</span> <span style=\"color: #000080; text-decoration-color: #000080; font-weight: bold\">74</span> <span style=\"font-weight: bold\">)</span>\n",
       "</pre>\n"
      ],
      "text/plain": [
       "<rich.jupyter.JupyterRenderable at 0x7fe74043cdc0>"
      ]
     },
     "metadata": {},
     "output_type": "display_data"
    },
    {
     "data": {
      "text/html": [
       "<pre style=\"white-space:pre;overflow-x:auto;line-height:normal;font-family:Menlo,'DejaVu Sans Mono',consolas,'Courier New',monospace\">Byte  <span style=\"color: #000080; text-decoration-color: #000080; font-weight: bold\">3</span>  Nibble <span style=\"color: #000080; text-decoration-color: #000080; font-weight: bold\">1</span>  -   Left Margin:   <span style=\"color: #000080; text-decoration-color: #000080; font-weight: bold\">150</span>  <span style=\"font-weight: bold\">(</span> <span style=\"color: #000080; text-decoration-color: #000080; font-weight: bold\">73</span> <span style=\"font-weight: bold\">)</span>  Center Point:   <span style=\"color: #000080; text-decoration-color: #000080; font-weight: bold\">187</span>  <span style=\"font-weight: bold\">(</span> <span style=\"color: #000080; text-decoration-color: #000080; font-weight: bold\">91</span> <span style=\"font-weight: bold\">)</span>  Right Margin:\n",
       "<span style=\"color: #000080; text-decoration-color: #000080; font-weight: bold\">152</span>  <span style=\"font-weight: bold\">(</span> <span style=\"color: #000080; text-decoration-color: #000080; font-weight: bold\">74</span> <span style=\"font-weight: bold\">)</span>\n",
       "</pre>\n"
      ],
      "text/plain": [
       "<rich.jupyter.JupyterRenderable at 0x7fe7400c8250>"
      ]
     },
     "metadata": {},
     "output_type": "display_data"
    },
    {
     "data": {
      "text/html": [
       "<pre style=\"white-space:pre;overflow-x:auto;line-height:normal;font-family:Menlo,'DejaVu Sans Mono',consolas,'Courier New',monospace\">Byte  <span style=\"color: #000080; text-decoration-color: #000080; font-weight: bold\">4</span>  Nibble <span style=\"color: #000080; text-decoration-color: #000080; font-weight: bold\">0</span>  -   Left Margin:   <span style=\"color: #000080; text-decoration-color: #000080; font-weight: bold\">146</span>  <span style=\"font-weight: bold\">(</span> <span style=\"color: #000080; text-decoration-color: #000080; font-weight: bold\">73</span> <span style=\"font-weight: bold\">)</span>  Center Point:   <span style=\"color: #000080; text-decoration-color: #000080; font-weight: bold\">182</span>  <span style=\"font-weight: bold\">(</span> <span style=\"color: #000080; text-decoration-color: #000080; font-weight: bold\">91</span> <span style=\"font-weight: bold\">)</span>  Right Margin:\n",
       "<span style=\"color: #000080; text-decoration-color: #000080; font-weight: bold\">146</span>  <span style=\"font-weight: bold\">(</span> <span style=\"color: #000080; text-decoration-color: #000080; font-weight: bold\">73</span> <span style=\"font-weight: bold\">)</span>\n",
       "</pre>\n"
      ],
      "text/plain": [
       "<rich.jupyter.JupyterRenderable at 0x7fe749cf7490>"
      ]
     },
     "metadata": {},
     "output_type": "display_data"
    },
    {
     "data": {
      "text/html": [
       "<pre style=\"white-space:pre;overflow-x:auto;line-height:normal;font-family:Menlo,'DejaVu Sans Mono',consolas,'Courier New',monospace\">Byte  <span style=\"color: #000080; text-decoration-color: #000080; font-weight: bold\">4</span>  Nibble <span style=\"color: #000080; text-decoration-color: #000080; font-weight: bold\">1</span>  -   Left Margin:   <span style=\"color: #000080; text-decoration-color: #000080; font-weight: bold\">150</span>  <span style=\"font-weight: bold\">(</span> <span style=\"color: #000080; text-decoration-color: #000080; font-weight: bold\">73</span> <span style=\"font-weight: bold\">)</span>  Center Point:   <span style=\"color: #000080; text-decoration-color: #000080; font-weight: bold\">187</span>  <span style=\"font-weight: bold\">(</span> <span style=\"color: #000080; text-decoration-color: #000080; font-weight: bold\">91</span> <span style=\"font-weight: bold\">)</span>  Right Margin:\n",
       "<span style=\"color: #000080; text-decoration-color: #000080; font-weight: bold\">150</span>  <span style=\"font-weight: bold\">(</span> <span style=\"color: #000080; text-decoration-color: #000080; font-weight: bold\">73</span> <span style=\"font-weight: bold\">)</span>\n",
       "</pre>\n"
      ],
      "text/plain": [
       "<rich.jupyter.JupyterRenderable at 0x7fe74006a4c0>"
      ]
     },
     "metadata": {},
     "output_type": "display_data"
    },
    {
     "data": {
      "text/html": [
       "<pre style=\"white-space:pre;overflow-x:auto;line-height:normal;font-family:Menlo,'DejaVu Sans Mono',consolas,'Courier New',monospace\">Byte  <span style=\"color: #000080; text-decoration-color: #000080; font-weight: bold\">5</span>  Nibble <span style=\"color: #000080; text-decoration-color: #000080; font-weight: bold\">0</span>  -   Left Margin:   <span style=\"color: #000080; text-decoration-color: #000080; font-weight: bold\">150</span>  <span style=\"font-weight: bold\">(</span> <span style=\"color: #000080; text-decoration-color: #000080; font-weight: bold\">73</span> <span style=\"font-weight: bold\">)</span>  Center Point:   <span style=\"color: #000080; text-decoration-color: #000080; font-weight: bold\">187</span>  <span style=\"font-weight: bold\">(</span> <span style=\"color: #000080; text-decoration-color: #000080; font-weight: bold\">91</span> <span style=\"font-weight: bold\">)</span>  Right Margin:\n",
       "<span style=\"color: #000080; text-decoration-color: #000080; font-weight: bold\">150</span>  <span style=\"font-weight: bold\">(</span> <span style=\"color: #000080; text-decoration-color: #000080; font-weight: bold\">73</span> <span style=\"font-weight: bold\">)</span>\n",
       "</pre>\n"
      ],
      "text/plain": [
       "<rich.jupyter.JupyterRenderable at 0x7fe74043cdc0>"
      ]
     },
     "metadata": {},
     "output_type": "display_data"
    },
    {
     "data": {
      "text/html": [
       "<pre style=\"white-space:pre;overflow-x:auto;line-height:normal;font-family:Menlo,'DejaVu Sans Mono',consolas,'Courier New',monospace\">Byte  <span style=\"color: #000080; text-decoration-color: #000080; font-weight: bold\">5</span>  Nibble <span style=\"color: #000080; text-decoration-color: #000080; font-weight: bold\">1</span>  -   Left Margin:   <span style=\"color: #000080; text-decoration-color: #000080; font-weight: bold\">154</span>  <span style=\"font-weight: bold\">(</span> <span style=\"color: #000080; text-decoration-color: #000080; font-weight: bold\">73</span> <span style=\"font-weight: bold\">)</span>  Center Point:   <span style=\"color: #000080; text-decoration-color: #000080; font-weight: bold\">192</span>  <span style=\"font-weight: bold\">(</span> <span style=\"color: #000080; text-decoration-color: #000080; font-weight: bold\">91</span> <span style=\"font-weight: bold\">)</span>  Right Margin:\n",
       "<span style=\"color: #000080; text-decoration-color: #000080; font-weight: bold\">156</span>  <span style=\"font-weight: bold\">(</span> <span style=\"color: #000080; text-decoration-color: #000080; font-weight: bold\">74</span> <span style=\"font-weight: bold\">)</span>\n",
       "</pre>\n"
      ],
      "text/plain": [
       "<rich.jupyter.JupyterRenderable at 0x7fe7400c8250>"
      ]
     },
     "metadata": {},
     "output_type": "display_data"
    },
    {
     "data": {
      "text/html": [
       "<pre style=\"white-space:pre;overflow-x:auto;line-height:normal;font-family:Menlo,'DejaVu Sans Mono',consolas,'Courier New',monospace\">Byte  <span style=\"color: #000080; text-decoration-color: #000080; font-weight: bold\">6</span>  Nibble <span style=\"color: #000080; text-decoration-color: #000080; font-weight: bold\">0</span>  -   Left Margin:   <span style=\"color: #000080; text-decoration-color: #000080; font-weight: bold\">150</span>  <span style=\"font-weight: bold\">(</span> <span style=\"color: #000080; text-decoration-color: #000080; font-weight: bold\">72</span> <span style=\"font-weight: bold\">)</span>  Center Point:   <span style=\"color: #000080; text-decoration-color: #000080; font-weight: bold\">188</span>  <span style=\"font-weight: bold\">(</span> <span style=\"color: #000080; text-decoration-color: #000080; font-weight: bold\">90</span> <span style=\"font-weight: bold\">)</span>  Right Margin:\n",
       "<span style=\"color: #000080; text-decoration-color: #000080; font-weight: bold\">152</span>  <span style=\"font-weight: bold\">(</span> <span style=\"color: #000080; text-decoration-color: #000080; font-weight: bold\">73</span> <span style=\"font-weight: bold\">)</span>\n",
       "</pre>\n"
      ],
      "text/plain": [
       "<rich.jupyter.JupyterRenderable at 0x7fe749cf7490>"
      ]
     },
     "metadata": {},
     "output_type": "display_data"
    },
    {
     "data": {
      "text/html": [
       "<pre style=\"white-space:pre;overflow-x:auto;line-height:normal;font-family:Menlo,'DejaVu Sans Mono',consolas,'Courier New',monospace\">Byte  <span style=\"color: #000080; text-decoration-color: #000080; font-weight: bold\">6</span>  Nibble <span style=\"color: #000080; text-decoration-color: #000080; font-weight: bold\">1</span>  -   Left Margin:   <span style=\"color: #000080; text-decoration-color: #000080; font-weight: bold\">150</span>  <span style=\"font-weight: bold\">(</span> <span style=\"color: #000080; text-decoration-color: #000080; font-weight: bold\">73</span> <span style=\"font-weight: bold\">)</span>  Center Point:   <span style=\"color: #000080; text-decoration-color: #000080; font-weight: bold\">187</span>  <span style=\"font-weight: bold\">(</span> <span style=\"color: #000080; text-decoration-color: #000080; font-weight: bold\">91</span> <span style=\"font-weight: bold\">)</span>  Right Margin:\n",
       "<span style=\"color: #000080; text-decoration-color: #000080; font-weight: bold\">150</span>  <span style=\"font-weight: bold\">(</span> <span style=\"color: #000080; text-decoration-color: #000080; font-weight: bold\">73</span> <span style=\"font-weight: bold\">)</span>\n",
       "</pre>\n"
      ],
      "text/plain": [
       "<rich.jupyter.JupyterRenderable at 0x7fe7400c8250>"
      ]
     },
     "metadata": {},
     "output_type": "display_data"
    },
    {
     "data": {
      "text/html": [
       "<pre style=\"white-space:pre;overflow-x:auto;line-height:normal;font-family:Menlo,'DejaVu Sans Mono',consolas,'Courier New',monospace\">Byte  <span style=\"color: #000080; text-decoration-color: #000080; font-weight: bold\">7</span>  Nibble <span style=\"color: #000080; text-decoration-color: #000080; font-weight: bold\">0</span>  -   Left Margin:   <span style=\"color: #000080; text-decoration-color: #000080; font-weight: bold\">150</span>  <span style=\"font-weight: bold\">(</span> <span style=\"color: #000080; text-decoration-color: #000080; font-weight: bold\">73</span> <span style=\"font-weight: bold\">)</span>  Center Point:   <span style=\"color: #000080; text-decoration-color: #000080; font-weight: bold\">187</span>  <span style=\"font-weight: bold\">(</span> <span style=\"color: #000080; text-decoration-color: #000080; font-weight: bold\">91</span> <span style=\"font-weight: bold\">)</span>  Right Margin:\n",
       "<span style=\"color: #000080; text-decoration-color: #000080; font-weight: bold\">150</span>  <span style=\"font-weight: bold\">(</span> <span style=\"color: #000080; text-decoration-color: #000080; font-weight: bold\">73</span> <span style=\"font-weight: bold\">)</span>\n",
       "</pre>\n"
      ],
      "text/plain": [
       "<rich.jupyter.JupyterRenderable at 0x7fe74043cdc0>"
      ]
     },
     "metadata": {},
     "output_type": "display_data"
    },
    {
     "data": {
      "text/html": [
       "<pre style=\"white-space:pre;overflow-x:auto;line-height:normal;font-family:Menlo,'DejaVu Sans Mono',consolas,'Courier New',monospace\">Byte  <span style=\"color: #000080; text-decoration-color: #000080; font-weight: bold\">7</span>  Nibble <span style=\"color: #000080; text-decoration-color: #000080; font-weight: bold\">1</span>  -   Left Margin:   <span style=\"color: #000080; text-decoration-color: #000080; font-weight: bold\">139</span>  <span style=\"font-weight: bold\">(</span> <span style=\"color: #000080; text-decoration-color: #000080; font-weight: bold\">68</span> <span style=\"font-weight: bold\">)</span>  Center Point:   <span style=\"color: #000080; text-decoration-color: #000080; font-weight: bold\">177</span>  <span style=\"font-weight: bold\">(</span> <span style=\"color: #000080; text-decoration-color: #000080; font-weight: bold\">86</span> <span style=\"font-weight: bold\">)</span>  Right Margin:\n",
       "<span style=\"color: #000080; text-decoration-color: #000080; font-weight: bold\">141</span>  <span style=\"font-weight: bold\">(</span> <span style=\"color: #000080; text-decoration-color: #000080; font-weight: bold\">69</span> <span style=\"font-weight: bold\">)</span>\n",
       "</pre>\n"
      ],
      "text/plain": [
       "<rich.jupyter.JupyterRenderable at 0x7fe749cf7490>"
      ]
     },
     "metadata": {},
     "output_type": "display_data"
    },
    {
     "data": {
      "text/html": [
       "<pre style=\"white-space:pre;overflow-x:auto;line-height:normal;font-family:Menlo,'DejaVu Sans Mono',consolas,'Courier New',monospace\">\n",
       " Frequency <span style=\"color: #000080; text-decoration-color: #000080; font-weight: bold\">0</span>  - Read Margin - Simple Pattern - Falling Edge Clock in pS and <span style=\"font-weight: bold\">(</span>delay taps<span style=\"font-weight: bold\">)</span>:\n",
       "\n",
       "</pre>\n"
      ],
      "text/plain": [
       "<rich.jupyter.JupyterRenderable at 0x7fe7400e4760>"
      ]
     },
     "metadata": {},
     "output_type": "display_data"
    },
    {
     "data": {
      "text/html": [
       "<pre style=\"white-space:pre;overflow-x:auto;line-height:normal;font-family:Menlo,'DejaVu Sans Mono',consolas,'Courier New',monospace\">Byte  <span style=\"color: #000080; text-decoration-color: #000080; font-weight: bold\">0</span>  Nibble <span style=\"color: #000080; text-decoration-color: #000080; font-weight: bold\">0</span>  -   Left Margin:   <span style=\"color: #000080; text-decoration-color: #000080; font-weight: bold\">152</span>  <span style=\"font-weight: bold\">(</span> <span style=\"color: #000080; text-decoration-color: #000080; font-weight: bold\">73</span> <span style=\"font-weight: bold\">)</span>  Center Point:   <span style=\"color: #000080; text-decoration-color: #000080; font-weight: bold\">200</span>  <span style=\"font-weight: bold\">(</span> <span style=\"color: #000080; text-decoration-color: #000080; font-weight: bold\">96</span> <span style=\"font-weight: bold\">)</span>  Right Margin:\n",
       "<span style=\"color: #000080; text-decoration-color: #000080; font-weight: bold\">154</span>  <span style=\"font-weight: bold\">(</span> <span style=\"color: #000080; text-decoration-color: #000080; font-weight: bold\">74</span> <span style=\"font-weight: bold\">)</span>\n",
       "</pre>\n"
      ],
      "text/plain": [
       "<rich.jupyter.JupyterRenderable at 0x7fe7400e4760>"
      ]
     },
     "metadata": {},
     "output_type": "display_data"
    },
    {
     "data": {
      "text/html": [
       "<pre style=\"white-space:pre;overflow-x:auto;line-height:normal;font-family:Menlo,'DejaVu Sans Mono',consolas,'Courier New',monospace\">Byte  <span style=\"color: #000080; text-decoration-color: #000080; font-weight: bold\">0</span>  Nibble <span style=\"color: #000080; text-decoration-color: #000080; font-weight: bold\">1</span>  -   Left Margin:   <span style=\"color: #000080; text-decoration-color: #000080; font-weight: bold\">152</span>  <span style=\"font-weight: bold\">(</span> <span style=\"color: #000080; text-decoration-color: #000080; font-weight: bold\">72</span> <span style=\"font-weight: bold\">)</span>  Center Point:   <span style=\"color: #000080; text-decoration-color: #000080; font-weight: bold\">205</span>  <span style=\"font-weight: bold\">(</span> <span style=\"color: #000080; text-decoration-color: #000080; font-weight: bold\">97</span> <span style=\"font-weight: bold\">)</span>  Right Margin:\n",
       "<span style=\"color: #000080; text-decoration-color: #000080; font-weight: bold\">154</span>  <span style=\"font-weight: bold\">(</span> <span style=\"color: #000080; text-decoration-color: #000080; font-weight: bold\">73</span> <span style=\"font-weight: bold\">)</span>\n",
       "</pre>\n"
      ],
      "text/plain": [
       "<rich.jupyter.JupyterRenderable at 0x7fe7400e4760>"
      ]
     },
     "metadata": {},
     "output_type": "display_data"
    },
    {
     "data": {
      "text/html": [
       "<pre style=\"white-space:pre;overflow-x:auto;line-height:normal;font-family:Menlo,'DejaVu Sans Mono',consolas,'Courier New',monospace\">Byte  <span style=\"color: #000080; text-decoration-color: #000080; font-weight: bold\">1</span>  Nibble <span style=\"color: #000080; text-decoration-color: #000080; font-weight: bold\">0</span>  -   Left Margin:   <span style=\"color: #000080; text-decoration-color: #000080; font-weight: bold\">135</span>  <span style=\"font-weight: bold\">(</span> <span style=\"color: #000080; text-decoration-color: #000080; font-weight: bold\">67</span> <span style=\"font-weight: bold\">)</span>  Center Point:   <span style=\"color: #000080; text-decoration-color: #000080; font-weight: bold\">195</span>  <span style=\"font-weight: bold\">(</span> <span style=\"color: #000080; text-decoration-color: #000080; font-weight: bold\">96</span> <span style=\"font-weight: bold\">)</span>  Right Margin:\n",
       "<span style=\"color: #000080; text-decoration-color: #000080; font-weight: bold\">137</span>  <span style=\"font-weight: bold\">(</span> <span style=\"color: #000080; text-decoration-color: #000080; font-weight: bold\">68</span> <span style=\"font-weight: bold\">)</span>\n",
       "</pre>\n"
      ],
      "text/plain": [
       "<rich.jupyter.JupyterRenderable at 0x7fe7400e4760>"
      ]
     },
     "metadata": {},
     "output_type": "display_data"
    },
    {
     "data": {
      "text/html": [
       "<pre style=\"white-space:pre;overflow-x:auto;line-height:normal;font-family:Menlo,'DejaVu Sans Mono',consolas,'Courier New',monospace\">Byte  <span style=\"color: #000080; text-decoration-color: #000080; font-weight: bold\">1</span>  Nibble <span style=\"color: #000080; text-decoration-color: #000080; font-weight: bold\">1</span>  -   Left Margin:   <span style=\"color: #000080; text-decoration-color: #000080; font-weight: bold\">141</span>  <span style=\"font-weight: bold\">(</span> <span style=\"color: #000080; text-decoration-color: #000080; font-weight: bold\">69</span> <span style=\"font-weight: bold\">)</span>  Center Point:   <span style=\"color: #000080; text-decoration-color: #000080; font-weight: bold\">189</span>  <span style=\"font-weight: bold\">(</span> <span style=\"color: #000080; text-decoration-color: #000080; font-weight: bold\">92</span> <span style=\"font-weight: bold\">)</span>  Right Margin:\n",
       "<span style=\"color: #000080; text-decoration-color: #000080; font-weight: bold\">141</span>  <span style=\"font-weight: bold\">(</span> <span style=\"color: #000080; text-decoration-color: #000080; font-weight: bold\">69</span> <span style=\"font-weight: bold\">)</span>\n",
       "</pre>\n"
      ],
      "text/plain": [
       "<rich.jupyter.JupyterRenderable at 0x7fe7400e4760>"
      ]
     },
     "metadata": {},
     "output_type": "display_data"
    },
    {
     "data": {
      "text/html": [
       "<pre style=\"white-space:pre;overflow-x:auto;line-height:normal;font-family:Menlo,'DejaVu Sans Mono',consolas,'Courier New',monospace\">Byte  <span style=\"color: #000080; text-decoration-color: #000080; font-weight: bold\">2</span>  Nibble <span style=\"color: #000080; text-decoration-color: #000080; font-weight: bold\">0</span>  -   Left Margin:   <span style=\"color: #000080; text-decoration-color: #000080; font-weight: bold\">138</span>  <span style=\"font-weight: bold\">(</span> <span style=\"color: #000080; text-decoration-color: #000080; font-weight: bold\">69</span> <span style=\"font-weight: bold\">)</span>  Center Point:   <span style=\"color: #000080; text-decoration-color: #000080; font-weight: bold\">198</span>  <span style=\"font-weight: bold\">(</span> <span style=\"color: #000080; text-decoration-color: #000080; font-weight: bold\">99</span> <span style=\"font-weight: bold\">)</span>  Right Margin:\n",
       "<span style=\"color: #000080; text-decoration-color: #000080; font-weight: bold\">138</span>  <span style=\"font-weight: bold\">(</span> <span style=\"color: #000080; text-decoration-color: #000080; font-weight: bold\">69</span> <span style=\"font-weight: bold\">)</span>\n",
       "</pre>\n"
      ],
      "text/plain": [
       "<rich.jupyter.JupyterRenderable at 0x7fe7400e4760>"
      ]
     },
     "metadata": {},
     "output_type": "display_data"
    },
    {
     "data": {
      "text/html": [
       "<pre style=\"white-space:pre;overflow-x:auto;line-height:normal;font-family:Menlo,'DejaVu Sans Mono',consolas,'Courier New',monospace\">Byte  <span style=\"color: #000080; text-decoration-color: #000080; font-weight: bold\">2</span>  Nibble <span style=\"color: #000080; text-decoration-color: #000080; font-weight: bold\">1</span>  -   Left Margin:   <span style=\"color: #000080; text-decoration-color: #000080; font-weight: bold\">143</span>  <span style=\"font-weight: bold\">(</span> <span style=\"color: #000080; text-decoration-color: #000080; font-weight: bold\">69</span> <span style=\"font-weight: bold\">)</span>  Center Point:   <span style=\"color: #000080; text-decoration-color: #000080; font-weight: bold\">206</span>  <span style=\"font-weight: bold\">(</span> <span style=\"color: #000080; text-decoration-color: #000080; font-weight: bold\">99</span> <span style=\"font-weight: bold\">)</span>  Right Margin:\n",
       "<span style=\"color: #000080; text-decoration-color: #000080; font-weight: bold\">143</span>  <span style=\"font-weight: bold\">(</span> <span style=\"color: #000080; text-decoration-color: #000080; font-weight: bold\">69</span> <span style=\"font-weight: bold\">)</span>\n",
       "</pre>\n"
      ],
      "text/plain": [
       "<rich.jupyter.JupyterRenderable at 0x7fe7400e4760>"
      ]
     },
     "metadata": {},
     "output_type": "display_data"
    },
    {
     "data": {
      "text/html": [
       "<pre style=\"white-space:pre;overflow-x:auto;line-height:normal;font-family:Menlo,'DejaVu Sans Mono',consolas,'Courier New',monospace\">Byte  <span style=\"color: #000080; text-decoration-color: #000080; font-weight: bold\">3</span>  Nibble <span style=\"color: #000080; text-decoration-color: #000080; font-weight: bold\">0</span>  -   Left Margin:   <span style=\"color: #000080; text-decoration-color: #000080; font-weight: bold\">139</span>  <span style=\"font-weight: bold\">(</span> <span style=\"color: #000080; text-decoration-color: #000080; font-weight: bold\">68</span> <span style=\"font-weight: bold\">)</span>  Center Point:   <span style=\"color: #000080; text-decoration-color: #000080; font-weight: bold\">195</span>  <span style=\"font-weight: bold\">(</span> <span style=\"color: #000080; text-decoration-color: #000080; font-weight: bold\">95</span> <span style=\"font-weight: bold\">)</span>  Right Margin:\n",
       "<span style=\"color: #000080; text-decoration-color: #000080; font-weight: bold\">141</span>  <span style=\"font-weight: bold\">(</span> <span style=\"color: #000080; text-decoration-color: #000080; font-weight: bold\">69</span> <span style=\"font-weight: bold\">)</span>\n",
       "</pre>\n"
      ],
      "text/plain": [
       "<rich.jupyter.JupyterRenderable at 0x7fe7400e4760>"
      ]
     },
     "metadata": {},
     "output_type": "display_data"
    },
    {
     "data": {
      "text/html": [
       "<pre style=\"white-space:pre;overflow-x:auto;line-height:normal;font-family:Menlo,'DejaVu Sans Mono',consolas,'Courier New',monospace\">Byte  <span style=\"color: #000080; text-decoration-color: #000080; font-weight: bold\">3</span>  Nibble <span style=\"color: #000080; text-decoration-color: #000080; font-weight: bold\">1</span>  -   Left Margin:   <span style=\"color: #000080; text-decoration-color: #000080; font-weight: bold\">137</span>  <span style=\"font-weight: bold\">(</span> <span style=\"color: #000080; text-decoration-color: #000080; font-weight: bold\">68</span> <span style=\"font-weight: bold\">)</span>  Center Point:   <span style=\"color: #000080; text-decoration-color: #000080; font-weight: bold\">193</span>  <span style=\"font-weight: bold\">(</span> <span style=\"color: #000080; text-decoration-color: #000080; font-weight: bold\">95</span> <span style=\"font-weight: bold\">)</span>  Right Margin:\n",
       "<span style=\"color: #000080; text-decoration-color: #000080; font-weight: bold\">140</span>  <span style=\"font-weight: bold\">(</span> <span style=\"color: #000080; text-decoration-color: #000080; font-weight: bold\">69</span> <span style=\"font-weight: bold\">)</span>\n",
       "</pre>\n"
      ],
      "text/plain": [
       "<rich.jupyter.JupyterRenderable at 0x7fe7400e4760>"
      ]
     },
     "metadata": {},
     "output_type": "display_data"
    },
    {
     "data": {
      "text/html": [
       "<pre style=\"white-space:pre;overflow-x:auto;line-height:normal;font-family:Menlo,'DejaVu Sans Mono',consolas,'Courier New',monospace\">Byte  <span style=\"color: #000080; text-decoration-color: #000080; font-weight: bold\">4</span>  Nibble <span style=\"color: #000080; text-decoration-color: #000080; font-weight: bold\">0</span>  -   Left Margin:   <span style=\"color: #000080; text-decoration-color: #000080; font-weight: bold\">141</span>  <span style=\"font-weight: bold\">(</span> <span style=\"color: #000080; text-decoration-color: #000080; font-weight: bold\">69</span> <span style=\"font-weight: bold\">)</span>  Center Point:   <span style=\"color: #000080; text-decoration-color: #000080; font-weight: bold\">193</span>  <span style=\"font-weight: bold\">(</span> <span style=\"color: #000080; text-decoration-color: #000080; font-weight: bold\">94</span> <span style=\"font-weight: bold\">)</span>  Right Margin:\n",
       "<span style=\"color: #000080; text-decoration-color: #000080; font-weight: bold\">141</span>  <span style=\"font-weight: bold\">(</span> <span style=\"color: #000080; text-decoration-color: #000080; font-weight: bold\">69</span> <span style=\"font-weight: bold\">)</span>\n",
       "</pre>\n"
      ],
      "text/plain": [
       "<rich.jupyter.JupyterRenderable at 0x7fe7400e4760>"
      ]
     },
     "metadata": {},
     "output_type": "display_data"
    },
    {
     "data": {
      "text/html": [
       "<pre style=\"white-space:pre;overflow-x:auto;line-height:normal;font-family:Menlo,'DejaVu Sans Mono',consolas,'Courier New',monospace\">Byte  <span style=\"color: #000080; text-decoration-color: #000080; font-weight: bold\">4</span>  Nibble <span style=\"color: #000080; text-decoration-color: #000080; font-weight: bold\">1</span>  -   Left Margin:   <span style=\"color: #000080; text-decoration-color: #000080; font-weight: bold\">143</span>  <span style=\"font-weight: bold\">(</span> <span style=\"color: #000080; text-decoration-color: #000080; font-weight: bold\">69</span> <span style=\"font-weight: bold\">)</span>  Center Point:   <span style=\"color: #000080; text-decoration-color: #000080; font-weight: bold\">196</span>  <span style=\"font-weight: bold\">(</span> <span style=\"color: #000080; text-decoration-color: #000080; font-weight: bold\">94</span> <span style=\"font-weight: bold\">)</span>  Right Margin:\n",
       "<span style=\"color: #000080; text-decoration-color: #000080; font-weight: bold\">143</span>  <span style=\"font-weight: bold\">(</span> <span style=\"color: #000080; text-decoration-color: #000080; font-weight: bold\">69</span> <span style=\"font-weight: bold\">)</span>\n",
       "</pre>\n"
      ],
      "text/plain": [
       "<rich.jupyter.JupyterRenderable at 0x7fe7400c3340>"
      ]
     },
     "metadata": {},
     "output_type": "display_data"
    },
    {
     "data": {
      "text/html": [
       "<pre style=\"white-space:pre;overflow-x:auto;line-height:normal;font-family:Menlo,'DejaVu Sans Mono',consolas,'Courier New',monospace\">Byte  <span style=\"color: #000080; text-decoration-color: #000080; font-weight: bold\">5</span>  Nibble <span style=\"color: #000080; text-decoration-color: #000080; font-weight: bold\">0</span>  -   Left Margin:   <span style=\"color: #000080; text-decoration-color: #000080; font-weight: bold\">134</span>  <span style=\"font-weight: bold\">(</span> <span style=\"color: #000080; text-decoration-color: #000080; font-weight: bold\">69</span> <span style=\"font-weight: bold\">)</span>  Center Point:   <span style=\"color: #000080; text-decoration-color: #000080; font-weight: bold\">189</span>  <span style=\"font-weight: bold\">(</span> <span style=\"color: #000080; text-decoration-color: #000080; font-weight: bold\">97</span> <span style=\"font-weight: bold\">)</span>  Right Margin:\n",
       "<span style=\"color: #000080; text-decoration-color: #000080; font-weight: bold\">134</span>  <span style=\"font-weight: bold\">(</span> <span style=\"color: #000080; text-decoration-color: #000080; font-weight: bold\">69</span> <span style=\"font-weight: bold\">)</span>\n",
       "</pre>\n"
      ],
      "text/plain": [
       "<rich.jupyter.JupyterRenderable at 0x7fe7401648e0>"
      ]
     },
     "metadata": {},
     "output_type": "display_data"
    },
    {
     "data": {
      "text/html": [
       "<pre style=\"white-space:pre;overflow-x:auto;line-height:normal;font-family:Menlo,'DejaVu Sans Mono',consolas,'Courier New',monospace\">Byte  <span style=\"color: #000080; text-decoration-color: #000080; font-weight: bold\">5</span>  Nibble <span style=\"color: #000080; text-decoration-color: #000080; font-weight: bold\">1</span>  -   Left Margin:   <span style=\"color: #000080; text-decoration-color: #000080; font-weight: bold\">141</span>  <span style=\"font-weight: bold\">(</span> <span style=\"color: #000080; text-decoration-color: #000080; font-weight: bold\">69</span> <span style=\"font-weight: bold\">)</span>  Center Point:   <span style=\"color: #000080; text-decoration-color: #000080; font-weight: bold\">197</span>  <span style=\"font-weight: bold\">(</span> <span style=\"color: #000080; text-decoration-color: #000080; font-weight: bold\">96</span> <span style=\"font-weight: bold\">)</span>  Right Margin:\n",
       "<span style=\"color: #000080; text-decoration-color: #000080; font-weight: bold\">141</span>  <span style=\"font-weight: bold\">(</span> <span style=\"color: #000080; text-decoration-color: #000080; font-weight: bold\">69</span> <span style=\"font-weight: bold\">)</span>\n",
       "</pre>\n"
      ],
      "text/plain": [
       "<rich.jupyter.JupyterRenderable at 0x7fe7400e4760>"
      ]
     },
     "metadata": {},
     "output_type": "display_data"
    },
    {
     "data": {
      "text/html": [
       "<pre style=\"white-space:pre;overflow-x:auto;line-height:normal;font-family:Menlo,'DejaVu Sans Mono',consolas,'Courier New',monospace\">Byte  <span style=\"color: #000080; text-decoration-color: #000080; font-weight: bold\">6</span>  Nibble <span style=\"color: #000080; text-decoration-color: #000080; font-weight: bold\">0</span>  -   Left Margin:   <span style=\"color: #000080; text-decoration-color: #000080; font-weight: bold\">152</span>  <span style=\"font-weight: bold\">(</span> <span style=\"color: #000080; text-decoration-color: #000080; font-weight: bold\">73</span> <span style=\"font-weight: bold\">)</span>  Center Point:   <span style=\"color: #000080; text-decoration-color: #000080; font-weight: bold\">200</span>  <span style=\"font-weight: bold\">(</span> <span style=\"color: #000080; text-decoration-color: #000080; font-weight: bold\">96</span> <span style=\"font-weight: bold\">)</span>  Right Margin:\n",
       "<span style=\"color: #000080; text-decoration-color: #000080; font-weight: bold\">154</span>  <span style=\"font-weight: bold\">(</span> <span style=\"color: #000080; text-decoration-color: #000080; font-weight: bold\">74</span> <span style=\"font-weight: bold\">)</span>\n",
       "</pre>\n"
      ],
      "text/plain": [
       "<rich.jupyter.JupyterRenderable at 0x7fe7401648e0>"
      ]
     },
     "metadata": {},
     "output_type": "display_data"
    },
    {
     "data": {
      "text/html": [
       "<pre style=\"white-space:pre;overflow-x:auto;line-height:normal;font-family:Menlo,'DejaVu Sans Mono',consolas,'Courier New',monospace\">Byte  <span style=\"color: #000080; text-decoration-color: #000080; font-weight: bold\">6</span>  Nibble <span style=\"color: #000080; text-decoration-color: #000080; font-weight: bold\">1</span>  -   Left Margin:   <span style=\"color: #000080; text-decoration-color: #000080; font-weight: bold\">140</span>  <span style=\"font-weight: bold\">(</span> <span style=\"color: #000080; text-decoration-color: #000080; font-weight: bold\">69</span> <span style=\"font-weight: bold\">)</span>  Center Point:   <span style=\"color: #000080; text-decoration-color: #000080; font-weight: bold\">191</span>  <span style=\"font-weight: bold\">(</span> <span style=\"color: #000080; text-decoration-color: #000080; font-weight: bold\">94</span> <span style=\"font-weight: bold\">)</span>  Right Margin:\n",
       "<span style=\"color: #000080; text-decoration-color: #000080; font-weight: bold\">140</span>  <span style=\"font-weight: bold\">(</span> <span style=\"color: #000080; text-decoration-color: #000080; font-weight: bold\">69</span> <span style=\"font-weight: bold\">)</span>\n",
       "</pre>\n"
      ],
      "text/plain": [
       "<rich.jupyter.JupyterRenderable at 0x7fe7401648e0>"
      ]
     },
     "metadata": {},
     "output_type": "display_data"
    },
    {
     "data": {
      "text/html": [
       "<pre style=\"white-space:pre;overflow-x:auto;line-height:normal;font-family:Menlo,'DejaVu Sans Mono',consolas,'Courier New',monospace\">Byte  <span style=\"color: #000080; text-decoration-color: #000080; font-weight: bold\">7</span>  Nibble <span style=\"color: #000080; text-decoration-color: #000080; font-weight: bold\">0</span>  -   Left Margin:   <span style=\"color: #000080; text-decoration-color: #000080; font-weight: bold\">152</span>  <span style=\"font-weight: bold\">(</span> <span style=\"color: #000080; text-decoration-color: #000080; font-weight: bold\">72</span> <span style=\"font-weight: bold\">)</span>  Center Point:   <span style=\"color: #000080; text-decoration-color: #000080; font-weight: bold\">209</span>  <span style=\"font-weight: bold\">(</span> <span style=\"color: #000080; text-decoration-color: #000080; font-weight: bold\">99</span> <span style=\"font-weight: bold\">)</span>  Right Margin:\n",
       "<span style=\"color: #000080; text-decoration-color: #000080; font-weight: bold\">154</span>  <span style=\"font-weight: bold\">(</span> <span style=\"color: #000080; text-decoration-color: #000080; font-weight: bold\">73</span> <span style=\"font-weight: bold\">)</span>\n",
       "</pre>\n"
      ],
      "text/plain": [
       "<rich.jupyter.JupyterRenderable at 0x7fe7401648e0>"
      ]
     },
     "metadata": {},
     "output_type": "display_data"
    },
    {
     "data": {
      "text/html": [
       "<pre style=\"white-space:pre;overflow-x:auto;line-height:normal;font-family:Menlo,'DejaVu Sans Mono',consolas,'Courier New',monospace\">Byte  <span style=\"color: #000080; text-decoration-color: #000080; font-weight: bold\">7</span>  Nibble <span style=\"color: #000080; text-decoration-color: #000080; font-weight: bold\">1</span>  -   Left Margin:   <span style=\"color: #000080; text-decoration-color: #000080; font-weight: bold\">152</span>  <span style=\"font-weight: bold\">(</span> <span style=\"color: #000080; text-decoration-color: #000080; font-weight: bold\">72</span> <span style=\"font-weight: bold\">)</span>  Center Point:   <span style=\"color: #000080; text-decoration-color: #000080; font-weight: bold\">205</span>  <span style=\"font-weight: bold\">(</span> <span style=\"color: #000080; text-decoration-color: #000080; font-weight: bold\">97</span> <span style=\"font-weight: bold\">)</span>  Right Margin:\n",
       "<span style=\"color: #000080; text-decoration-color: #000080; font-weight: bold\">154</span>  <span style=\"font-weight: bold\">(</span> <span style=\"color: #000080; text-decoration-color: #000080; font-weight: bold\">73</span> <span style=\"font-weight: bold\">)</span>\n",
       "</pre>\n"
      ],
      "text/plain": [
       "<rich.jupyter.JupyterRenderable at 0x7fe7401648e0>"
      ]
     },
     "metadata": {},
     "output_type": "display_data"
    },
    {
     "data": {
      "text/html": [
       "<pre style=\"white-space:pre;overflow-x:auto;line-height:normal;font-family:Menlo,'DejaVu Sans Mono',consolas,'Courier New',monospace\">\n",
       " Frequency <span style=\"color: #000080; text-decoration-color: #000080; font-weight: bold\">0</span>  - Read Margin - Complex Pattern - Rising Edge Clock in pS and <span style=\"font-weight: bold\">(</span>delay taps<span style=\"font-weight: bold\">)</span>:\n",
       "\n",
       "</pre>\n"
      ],
      "text/plain": [
       "<rich.jupyter.JupyterRenderable at 0x7fe7401893d0>"
      ]
     },
     "metadata": {},
     "output_type": "display_data"
    },
    {
     "data": {
      "text/html": [
       "<pre style=\"white-space:pre;overflow-x:auto;line-height:normal;font-family:Menlo,'DejaVu Sans Mono',consolas,'Courier New',monospace\">Byte  <span style=\"color: #000080; text-decoration-color: #000080; font-weight: bold\">0</span>  Nibble <span style=\"color: #000080; text-decoration-color: #000080; font-weight: bold\">0</span>  -   Left Margin:   <span style=\"color: #000080; text-decoration-color: #000080; font-weight: bold\">130</span>  <span style=\"font-weight: bold\">(</span> <span style=\"color: #000080; text-decoration-color: #000080; font-weight: bold\">65</span> <span style=\"font-weight: bold\">)</span>  Center Point:   <span style=\"color: #000080; text-decoration-color: #000080; font-weight: bold\">174</span>  <span style=\"font-weight: bold\">(</span> <span style=\"color: #000080; text-decoration-color: #000080; font-weight: bold\">87</span> <span style=\"font-weight: bold\">)</span>  Right Margin:\n",
       "<span style=\"color: #000080; text-decoration-color: #000080; font-weight: bold\">132</span>  <span style=\"font-weight: bold\">(</span> <span style=\"color: #000080; text-decoration-color: #000080; font-weight: bold\">66</span> <span style=\"font-weight: bold\">)</span>\n",
       "</pre>\n"
      ],
      "text/plain": [
       "<rich.jupyter.JupyterRenderable at 0x7fe740189b80>"
      ]
     },
     "metadata": {},
     "output_type": "display_data"
    },
    {
     "data": {
      "text/html": [
       "<pre style=\"white-space:pre;overflow-x:auto;line-height:normal;font-family:Menlo,'DejaVu Sans Mono',consolas,'Courier New',monospace\">Byte  <span style=\"color: #000080; text-decoration-color: #000080; font-weight: bold\">0</span>  Nibble <span style=\"color: #000080; text-decoration-color: #000080; font-weight: bold\">1</span>  -   Left Margin:   <span style=\"color: #000080; text-decoration-color: #000080; font-weight: bold\">135</span>  <span style=\"font-weight: bold\">(</span> <span style=\"color: #000080; text-decoration-color: #000080; font-weight: bold\">65</span> <span style=\"font-weight: bold\">)</span>  Center Point:   <span style=\"color: #000080; text-decoration-color: #000080; font-weight: bold\">183</span>  <span style=\"font-weight: bold\">(</span> <span style=\"color: #000080; text-decoration-color: #000080; font-weight: bold\">88</span> <span style=\"font-weight: bold\">)</span>  Right Margin:\n",
       "<span style=\"color: #000080; text-decoration-color: #000080; font-weight: bold\">137</span>  <span style=\"font-weight: bold\">(</span> <span style=\"color: #000080; text-decoration-color: #000080; font-weight: bold\">66</span> <span style=\"font-weight: bold\">)</span>\n",
       "</pre>\n"
      ],
      "text/plain": [
       "<rich.jupyter.JupyterRenderable at 0x7fe740189b80>"
      ]
     },
     "metadata": {},
     "output_type": "display_data"
    },
    {
     "data": {
      "text/html": [
       "<pre style=\"white-space:pre;overflow-x:auto;line-height:normal;font-family:Menlo,'DejaVu Sans Mono',consolas,'Courier New',monospace\">Byte  <span style=\"color: #000080; text-decoration-color: #000080; font-weight: bold\">1</span>  Nibble <span style=\"color: #000080; text-decoration-color: #000080; font-weight: bold\">0</span>  -   Left Margin:   <span style=\"color: #000080; text-decoration-color: #000080; font-weight: bold\">128</span>  <span style=\"font-weight: bold\">(</span> <span style=\"color: #000080; text-decoration-color: #000080; font-weight: bold\">64</span> <span style=\"font-weight: bold\">)</span>  Center Point:   <span style=\"color: #000080; text-decoration-color: #000080; font-weight: bold\">172</span>  <span style=\"font-weight: bold\">(</span> <span style=\"color: #000080; text-decoration-color: #000080; font-weight: bold\">86</span> <span style=\"font-weight: bold\">)</span>  Right Margin:\n",
       "<span style=\"color: #000080; text-decoration-color: #000080; font-weight: bold\">130</span>  <span style=\"font-weight: bold\">(</span> <span style=\"color: #000080; text-decoration-color: #000080; font-weight: bold\">65</span> <span style=\"font-weight: bold\">)</span>\n",
       "</pre>\n"
      ],
      "text/plain": [
       "<rich.jupyter.JupyterRenderable at 0x7fe740189b80>"
      ]
     },
     "metadata": {},
     "output_type": "display_data"
    },
    {
     "data": {
      "text/html": [
       "<pre style=\"white-space:pre;overflow-x:auto;line-height:normal;font-family:Menlo,'DejaVu Sans Mono',consolas,'Courier New',monospace\">Byte  <span style=\"color: #000080; text-decoration-color: #000080; font-weight: bold\">1</span>  Nibble <span style=\"color: #000080; text-decoration-color: #000080; font-weight: bold\">1</span>  -   Left Margin:   <span style=\"color: #000080; text-decoration-color: #000080; font-weight: bold\">131</span>  <span style=\"font-weight: bold\">(</span> <span style=\"color: #000080; text-decoration-color: #000080; font-weight: bold\">65</span> <span style=\"font-weight: bold\">)</span>  Center Point:   <span style=\"color: #000080; text-decoration-color: #000080; font-weight: bold\">177</span>  <span style=\"font-weight: bold\">(</span> <span style=\"color: #000080; text-decoration-color: #000080; font-weight: bold\">87</span> <span style=\"font-weight: bold\">)</span>  Right Margin:\n",
       "<span style=\"color: #000080; text-decoration-color: #000080; font-weight: bold\">133</span>  <span style=\"font-weight: bold\">(</span> <span style=\"color: #000080; text-decoration-color: #000080; font-weight: bold\">66</span> <span style=\"font-weight: bold\">)</span>\n",
       "</pre>\n"
      ],
      "text/plain": [
       "<rich.jupyter.JupyterRenderable at 0x7fe740189b80>"
      ]
     },
     "metadata": {},
     "output_type": "display_data"
    },
    {
     "data": {
      "text/html": [
       "<pre style=\"white-space:pre;overflow-x:auto;line-height:normal;font-family:Menlo,'DejaVu Sans Mono',consolas,'Courier New',monospace\">Byte  <span style=\"color: #000080; text-decoration-color: #000080; font-weight: bold\">2</span>  Nibble <span style=\"color: #000080; text-decoration-color: #000080; font-weight: bold\">0</span>  -   Left Margin:   <span style=\"color: #000080; text-decoration-color: #000080; font-weight: bold\">127</span>  <span style=\"font-weight: bold\">(</span> <span style=\"color: #000080; text-decoration-color: #000080; font-weight: bold\">62</span> <span style=\"font-weight: bold\">)</span>  Center Point:   <span style=\"color: #000080; text-decoration-color: #000080; font-weight: bold\">179</span>  <span style=\"font-weight: bold\">(</span> <span style=\"color: #000080; text-decoration-color: #000080; font-weight: bold\">87</span> <span style=\"font-weight: bold\">)</span>  Right Margin:\n",
       "<span style=\"color: #000080; text-decoration-color: #000080; font-weight: bold\">129</span>  <span style=\"font-weight: bold\">(</span> <span style=\"color: #000080; text-decoration-color: #000080; font-weight: bold\">63</span> <span style=\"font-weight: bold\">)</span>\n",
       "</pre>\n"
      ],
      "text/plain": [
       "<rich.jupyter.JupyterRenderable at 0x7fe740189b80>"
      ]
     },
     "metadata": {},
     "output_type": "display_data"
    },
    {
     "data": {
      "text/html": [
       "<pre style=\"white-space:pre;overflow-x:auto;line-height:normal;font-family:Menlo,'DejaVu Sans Mono',consolas,'Courier New',monospace\">Byte  <span style=\"color: #000080; text-decoration-color: #000080; font-weight: bold\">2</span>  Nibble <span style=\"color: #000080; text-decoration-color: #000080; font-weight: bold\">1</span>  -   Left Margin:   <span style=\"color: #000080; text-decoration-color: #000080; font-weight: bold\">128</span>  <span style=\"font-weight: bold\">(</span> <span style=\"color: #000080; text-decoration-color: #000080; font-weight: bold\">61</span> <span style=\"font-weight: bold\">)</span>  Center Point:   <span style=\"color: #000080; text-decoration-color: #000080; font-weight: bold\">179</span>  <span style=\"font-weight: bold\">(</span> <span style=\"color: #000080; text-decoration-color: #000080; font-weight: bold\">85</span> <span style=\"font-weight: bold\">)</span>  Right Margin:\n",
       "<span style=\"color: #000080; text-decoration-color: #000080; font-weight: bold\">128</span>  <span style=\"font-weight: bold\">(</span> <span style=\"color: #000080; text-decoration-color: #000080; font-weight: bold\">61</span> <span style=\"font-weight: bold\">)</span>\n",
       "</pre>\n"
      ],
      "text/plain": [
       "<rich.jupyter.JupyterRenderable at 0x7fe740189b80>"
      ]
     },
     "metadata": {},
     "output_type": "display_data"
    },
    {
     "data": {
      "text/html": [
       "<pre style=\"white-space:pre;overflow-x:auto;line-height:normal;font-family:Menlo,'DejaVu Sans Mono',consolas,'Courier New',monospace\">Byte  <span style=\"color: #000080; text-decoration-color: #000080; font-weight: bold\">3</span>  Nibble <span style=\"color: #000080; text-decoration-color: #000080; font-weight: bold\">0</span>  -   Left Margin:   <span style=\"color: #000080; text-decoration-color: #000080; font-weight: bold\">123</span>  <span style=\"font-weight: bold\">(</span> <span style=\"color: #000080; text-decoration-color: #000080; font-weight: bold\">61</span> <span style=\"font-weight: bold\">)</span>  Center Point:   <span style=\"color: #000080; text-decoration-color: #000080; font-weight: bold\">183</span>  <span style=\"font-weight: bold\">(</span> <span style=\"color: #000080; text-decoration-color: #000080; font-weight: bold\">90</span> <span style=\"font-weight: bold\">)</span>  Right Margin:\n",
       "<span style=\"color: #000080; text-decoration-color: #000080; font-weight: bold\">123</span>  <span style=\"font-weight: bold\">(</span> <span style=\"color: #000080; text-decoration-color: #000080; font-weight: bold\">61</span> <span style=\"font-weight: bold\">)</span>\n",
       "</pre>\n"
      ],
      "text/plain": [
       "<rich.jupyter.JupyterRenderable at 0x7fe740189b80>"
      ]
     },
     "metadata": {},
     "output_type": "display_data"
    },
    {
     "data": {
      "text/html": [
       "<pre style=\"white-space:pre;overflow-x:auto;line-height:normal;font-family:Menlo,'DejaVu Sans Mono',consolas,'Courier New',monospace\">Byte  <span style=\"color: #000080; text-decoration-color: #000080; font-weight: bold\">3</span>  Nibble <span style=\"color: #000080; text-decoration-color: #000080; font-weight: bold\">1</span>  -   Left Margin:   <span style=\"color: #000080; text-decoration-color: #000080; font-weight: bold\">129</span>  <span style=\"font-weight: bold\">(</span> <span style=\"color: #000080; text-decoration-color: #000080; font-weight: bold\">63</span> <span style=\"font-weight: bold\">)</span>  Center Point:   <span style=\"color: #000080; text-decoration-color: #000080; font-weight: bold\">179</span>  <span style=\"font-weight: bold\">(</span> <span style=\"color: #000080; text-decoration-color: #000080; font-weight: bold\">87</span> <span style=\"font-weight: bold\">)</span>  Right Margin:\n",
       "<span style=\"color: #000080; text-decoration-color: #000080; font-weight: bold\">129</span>  <span style=\"font-weight: bold\">(</span> <span style=\"color: #000080; text-decoration-color: #000080; font-weight: bold\">63</span> <span style=\"font-weight: bold\">)</span>\n",
       "</pre>\n"
      ],
      "text/plain": [
       "<rich.jupyter.JupyterRenderable at 0x7fe740189b80>"
      ]
     },
     "metadata": {},
     "output_type": "display_data"
    },
    {
     "data": {
      "text/html": [
       "<pre style=\"white-space:pre;overflow-x:auto;line-height:normal;font-family:Menlo,'DejaVu Sans Mono',consolas,'Courier New',monospace\">Byte  <span style=\"color: #000080; text-decoration-color: #000080; font-weight: bold\">4</span>  Nibble <span style=\"color: #000080; text-decoration-color: #000080; font-weight: bold\">0</span>  -   Left Margin:   <span style=\"color: #000080; text-decoration-color: #000080; font-weight: bold\">118</span>  <span style=\"font-weight: bold\">(</span> <span style=\"color: #000080; text-decoration-color: #000080; font-weight: bold\">59</span> <span style=\"font-weight: bold\">)</span>  Center Point:   <span style=\"color: #000080; text-decoration-color: #000080; font-weight: bold\">166</span>  <span style=\"font-weight: bold\">(</span> <span style=\"color: #000080; text-decoration-color: #000080; font-weight: bold\">83</span> <span style=\"font-weight: bold\">)</span>  Right Margin:\n",
       "<span style=\"color: #000080; text-decoration-color: #000080; font-weight: bold\">120</span>  <span style=\"font-weight: bold\">(</span> <span style=\"color: #000080; text-decoration-color: #000080; font-weight: bold\">60</span> <span style=\"font-weight: bold\">)</span>\n",
       "</pre>\n"
      ],
      "text/plain": [
       "<rich.jupyter.JupyterRenderable at 0x7fe740189b80>"
      ]
     },
     "metadata": {},
     "output_type": "display_data"
    },
    {
     "data": {
      "text/html": [
       "<pre style=\"white-space:pre;overflow-x:auto;line-height:normal;font-family:Menlo,'DejaVu Sans Mono',consolas,'Courier New',monospace\">Byte  <span style=\"color: #000080; text-decoration-color: #000080; font-weight: bold\">4</span>  Nibble <span style=\"color: #000080; text-decoration-color: #000080; font-weight: bold\">1</span>  -   Left Margin:   <span style=\"color: #000080; text-decoration-color: #000080; font-weight: bold\">127</span>  <span style=\"font-weight: bold\">(</span> <span style=\"color: #000080; text-decoration-color: #000080; font-weight: bold\">62</span> <span style=\"font-weight: bold\">)</span>  Center Point:   <span style=\"color: #000080; text-decoration-color: #000080; font-weight: bold\">179</span>  <span style=\"font-weight: bold\">(</span> <span style=\"color: #000080; text-decoration-color: #000080; font-weight: bold\">87</span> <span style=\"font-weight: bold\">)</span>  Right Margin:\n",
       "<span style=\"color: #000080; text-decoration-color: #000080; font-weight: bold\">129</span>  <span style=\"font-weight: bold\">(</span> <span style=\"color: #000080; text-decoration-color: #000080; font-weight: bold\">63</span> <span style=\"font-weight: bold\">)</span>\n",
       "</pre>\n"
      ],
      "text/plain": [
       "<rich.jupyter.JupyterRenderable at 0x7fe740189b80>"
      ]
     },
     "metadata": {},
     "output_type": "display_data"
    },
    {
     "data": {
      "text/html": [
       "<pre style=\"white-space:pre;overflow-x:auto;line-height:normal;font-family:Menlo,'DejaVu Sans Mono',consolas,'Courier New',monospace\">Byte  <span style=\"color: #000080; text-decoration-color: #000080; font-weight: bold\">5</span>  Nibble <span style=\"color: #000080; text-decoration-color: #000080; font-weight: bold\">0</span>  -   Left Margin:   <span style=\"color: #000080; text-decoration-color: #000080; font-weight: bold\">125</span>  <span style=\"font-weight: bold\">(</span> <span style=\"color: #000080; text-decoration-color: #000080; font-weight: bold\">61</span> <span style=\"font-weight: bold\">)</span>  Center Point:   <span style=\"color: #000080; text-decoration-color: #000080; font-weight: bold\">185</span>  <span style=\"font-weight: bold\">(</span> <span style=\"color: #000080; text-decoration-color: #000080; font-weight: bold\">90</span> <span style=\"font-weight: bold\">)</span>  Right Margin:\n",
       "<span style=\"color: #000080; text-decoration-color: #000080; font-weight: bold\">125</span>  <span style=\"font-weight: bold\">(</span> <span style=\"color: #000080; text-decoration-color: #000080; font-weight: bold\">61</span> <span style=\"font-weight: bold\">)</span>\n",
       "</pre>\n"
      ],
      "text/plain": [
       "<rich.jupyter.JupyterRenderable at 0x7fe740189b80>"
      ]
     },
     "metadata": {},
     "output_type": "display_data"
    },
    {
     "data": {
      "text/html": [
       "<pre style=\"white-space:pre;overflow-x:auto;line-height:normal;font-family:Menlo,'DejaVu Sans Mono',consolas,'Courier New',monospace\">Byte  <span style=\"color: #000080; text-decoration-color: #000080; font-weight: bold\">5</span>  Nibble <span style=\"color: #000080; text-decoration-color: #000080; font-weight: bold\">1</span>  -   Left Margin:   <span style=\"color: #000080; text-decoration-color: #000080; font-weight: bold\">137</span>  <span style=\"font-weight: bold\">(</span> <span style=\"color: #000080; text-decoration-color: #000080; font-weight: bold\">65</span> <span style=\"font-weight: bold\">)</span>  Center Point:   <span style=\"color: #000080; text-decoration-color: #000080; font-weight: bold\">196</span>  <span style=\"font-weight: bold\">(</span> <span style=\"color: #000080; text-decoration-color: #000080; font-weight: bold\">93</span> <span style=\"font-weight: bold\">)</span>  Right Margin:\n",
       "<span style=\"color: #000080; text-decoration-color: #000080; font-weight: bold\">137</span>  <span style=\"font-weight: bold\">(</span> <span style=\"color: #000080; text-decoration-color: #000080; font-weight: bold\">65</span> <span style=\"font-weight: bold\">)</span>\n",
       "</pre>\n"
      ],
      "text/plain": [
       "<rich.jupyter.JupyterRenderable at 0x7fe740189b80>"
      ]
     },
     "metadata": {},
     "output_type": "display_data"
    },
    {
     "data": {
      "text/html": [
       "<pre style=\"white-space:pre;overflow-x:auto;line-height:normal;font-family:Menlo,'DejaVu Sans Mono',consolas,'Courier New',monospace\">Byte  <span style=\"color: #000080; text-decoration-color: #000080; font-weight: bold\">6</span>  Nibble <span style=\"color: #000080; text-decoration-color: #000080; font-weight: bold\">0</span>  -   Left Margin:   <span style=\"color: #000080; text-decoration-color: #000080; font-weight: bold\">133</span>  <span style=\"font-weight: bold\">(</span> <span style=\"color: #000080; text-decoration-color: #000080; font-weight: bold\">64</span> <span style=\"font-weight: bold\">)</span>  Center Point:   <span style=\"color: #000080; text-decoration-color: #000080; font-weight: bold\">179</span>  <span style=\"font-weight: bold\">(</span> <span style=\"color: #000080; text-decoration-color: #000080; font-weight: bold\">86</span> <span style=\"font-weight: bold\">)</span>  Right Margin:\n",
       "<span style=\"color: #000080; text-decoration-color: #000080; font-weight: bold\">133</span>  <span style=\"font-weight: bold\">(</span> <span style=\"color: #000080; text-decoration-color: #000080; font-weight: bold\">64</span> <span style=\"font-weight: bold\">)</span>\n",
       "</pre>\n"
      ],
      "text/plain": [
       "<rich.jupyter.JupyterRenderable at 0x7fe7401c39a0>"
      ]
     },
     "metadata": {},
     "output_type": "display_data"
    },
    {
     "data": {
      "text/html": [
       "<pre style=\"white-space:pre;overflow-x:auto;line-height:normal;font-family:Menlo,'DejaVu Sans Mono',consolas,'Courier New',monospace\">Byte  <span style=\"color: #000080; text-decoration-color: #000080; font-weight: bold\">6</span>  Nibble <span style=\"color: #000080; text-decoration-color: #000080; font-weight: bold\">1</span>  -   Left Margin:   <span style=\"color: #000080; text-decoration-color: #000080; font-weight: bold\">133</span>  <span style=\"font-weight: bold\">(</span> <span style=\"color: #000080; text-decoration-color: #000080; font-weight: bold\">65</span> <span style=\"font-weight: bold\">)</span>  Center Point:   <span style=\"color: #000080; text-decoration-color: #000080; font-weight: bold\">185</span>  <span style=\"font-weight: bold\">(</span> <span style=\"color: #000080; text-decoration-color: #000080; font-weight: bold\">90</span> <span style=\"font-weight: bold\">)</span>  Right Margin:\n",
       "<span style=\"color: #000080; text-decoration-color: #000080; font-weight: bold\">133</span>  <span style=\"font-weight: bold\">(</span> <span style=\"color: #000080; text-decoration-color: #000080; font-weight: bold\">65</span> <span style=\"font-weight: bold\">)</span>\n",
       "</pre>\n"
      ],
      "text/plain": [
       "<rich.jupyter.JupyterRenderable at 0x7fe74019cc40>"
      ]
     },
     "metadata": {},
     "output_type": "display_data"
    },
    {
     "data": {
      "text/html": [
       "<pre style=\"white-space:pre;overflow-x:auto;line-height:normal;font-family:Menlo,'DejaVu Sans Mono',consolas,'Courier New',monospace\">Byte  <span style=\"color: #000080; text-decoration-color: #000080; font-weight: bold\">7</span>  Nibble <span style=\"color: #000080; text-decoration-color: #000080; font-weight: bold\">0</span>  -   Left Margin:   <span style=\"color: #000080; text-decoration-color: #000080; font-weight: bold\">129</span>  <span style=\"font-weight: bold\">(</span> <span style=\"color: #000080; text-decoration-color: #000080; font-weight: bold\">63</span> <span style=\"font-weight: bold\">)</span>  Center Point:   <span style=\"color: #000080; text-decoration-color: #000080; font-weight: bold\">183</span>  <span style=\"font-weight: bold\">(</span> <span style=\"color: #000080; text-decoration-color: #000080; font-weight: bold\">89</span> <span style=\"font-weight: bold\">)</span>  Right Margin:\n",
       "<span style=\"color: #000080; text-decoration-color: #000080; font-weight: bold\">131</span>  <span style=\"font-weight: bold\">(</span> <span style=\"color: #000080; text-decoration-color: #000080; font-weight: bold\">64</span> <span style=\"font-weight: bold\">)</span>\n",
       "</pre>\n"
      ],
      "text/plain": [
       "<rich.jupyter.JupyterRenderable at 0x7fe74019cc40>"
      ]
     },
     "metadata": {},
     "output_type": "display_data"
    },
    {
     "data": {
      "text/html": [
       "<pre style=\"white-space:pre;overflow-x:auto;line-height:normal;font-family:Menlo,'DejaVu Sans Mono',consolas,'Courier New',monospace\">Byte  <span style=\"color: #000080; text-decoration-color: #000080; font-weight: bold\">7</span>  Nibble <span style=\"color: #000080; text-decoration-color: #000080; font-weight: bold\">1</span>  -   Left Margin:   <span style=\"color: #000080; text-decoration-color: #000080; font-weight: bold\">131</span>  <span style=\"font-weight: bold\">(</span> <span style=\"color: #000080; text-decoration-color: #000080; font-weight: bold\">64</span> <span style=\"font-weight: bold\">)</span>  Center Point:   <span style=\"color: #000080; text-decoration-color: #000080; font-weight: bold\">177</span>  <span style=\"font-weight: bold\">(</span> <span style=\"color: #000080; text-decoration-color: #000080; font-weight: bold\">86</span> <span style=\"font-weight: bold\">)</span>  Right Margin:\n",
       "<span style=\"color: #000080; text-decoration-color: #000080; font-weight: bold\">133</span>  <span style=\"font-weight: bold\">(</span> <span style=\"color: #000080; text-decoration-color: #000080; font-weight: bold\">65</span> <span style=\"font-weight: bold\">)</span>\n",
       "</pre>\n"
      ],
      "text/plain": [
       "<rich.jupyter.JupyterRenderable at 0x7fe74019cc40>"
      ]
     },
     "metadata": {},
     "output_type": "display_data"
    },
    {
     "data": {
      "text/html": [
       "<pre style=\"white-space:pre;overflow-x:auto;line-height:normal;font-family:Menlo,'DejaVu Sans Mono',consolas,'Courier New',monospace\">\n",
       " Frequency <span style=\"color: #000080; text-decoration-color: #000080; font-weight: bold\">0</span>  - Read Margin - Complex Pattern - Falling Edge Clock in pS and <span style=\"font-weight: bold\">(</span>delay taps<span style=\"font-weight: bold\">)</span>:\n",
       "\n",
       "</pre>\n"
      ],
      "text/plain": [
       "<rich.jupyter.JupyterRenderable at 0x7fe7484776a0>"
      ]
     },
     "metadata": {},
     "output_type": "display_data"
    },
    {
     "data": {
      "text/html": [
       "<pre style=\"white-space:pre;overflow-x:auto;line-height:normal;font-family:Menlo,'DejaVu Sans Mono',consolas,'Courier New',monospace\">Byte  <span style=\"color: #000080; text-decoration-color: #000080; font-weight: bold\">0</span>  Nibble <span style=\"color: #000080; text-decoration-color: #000080; font-weight: bold\">0</span>  -   Left Margin:   <span style=\"color: #000080; text-decoration-color: #000080; font-weight: bold\">131</span>  <span style=\"font-weight: bold\">(</span> <span style=\"color: #000080; text-decoration-color: #000080; font-weight: bold\">63</span> <span style=\"font-weight: bold\">)</span>  Center Point:   <span style=\"color: #000080; text-decoration-color: #000080; font-weight: bold\">183</span>  <span style=\"font-weight: bold\">(</span> <span style=\"color: #000080; text-decoration-color: #000080; font-weight: bold\">88</span> <span style=\"font-weight: bold\">)</span>  Right Margin:\n",
       "<span style=\"color: #000080; text-decoration-color: #000080; font-weight: bold\">131</span>  <span style=\"font-weight: bold\">(</span> <span style=\"color: #000080; text-decoration-color: #000080; font-weight: bold\">63</span> <span style=\"font-weight: bold\">)</span>\n",
       "</pre>\n"
      ],
      "text/plain": [
       "<rich.jupyter.JupyterRenderable at 0x7fe7484776a0>"
      ]
     },
     "metadata": {},
     "output_type": "display_data"
    },
    {
     "data": {
      "text/html": [
       "<pre style=\"white-space:pre;overflow-x:auto;line-height:normal;font-family:Menlo,'DejaVu Sans Mono',consolas,'Courier New',monospace\">Byte  <span style=\"color: #000080; text-decoration-color: #000080; font-weight: bold\">0</span>  Nibble <span style=\"color: #000080; text-decoration-color: #000080; font-weight: bold\">1</span>  -   Left Margin:   <span style=\"color: #000080; text-decoration-color: #000080; font-weight: bold\">130</span>  <span style=\"font-weight: bold\">(</span> <span style=\"color: #000080; text-decoration-color: #000080; font-weight: bold\">62</span> <span style=\"font-weight: bold\">)</span>  Center Point:   <span style=\"color: #000080; text-decoration-color: #000080; font-weight: bold\">190</span>  <span style=\"font-weight: bold\">(</span> <span style=\"color: #000080; text-decoration-color: #000080; font-weight: bold\">90</span> <span style=\"font-weight: bold\">)</span>  Right Margin:\n",
       "<span style=\"color: #000080; text-decoration-color: #000080; font-weight: bold\">133</span>  <span style=\"font-weight: bold\">(</span> <span style=\"color: #000080; text-decoration-color: #000080; font-weight: bold\">63</span> <span style=\"font-weight: bold\">)</span>\n",
       "</pre>\n"
      ],
      "text/plain": [
       "<rich.jupyter.JupyterRenderable at 0x7fe7484776a0>"
      ]
     },
     "metadata": {},
     "output_type": "display_data"
    },
    {
     "data": {
      "text/html": [
       "<pre style=\"white-space:pre;overflow-x:auto;line-height:normal;font-family:Menlo,'DejaVu Sans Mono',consolas,'Courier New',monospace\">Byte  <span style=\"color: #000080; text-decoration-color: #000080; font-weight: bold\">1</span>  Nibble <span style=\"color: #000080; text-decoration-color: #000080; font-weight: bold\">0</span>  -   Left Margin:   <span style=\"color: #000080; text-decoration-color: #000080; font-weight: bold\">117</span>  <span style=\"font-weight: bold\">(</span> <span style=\"color: #000080; text-decoration-color: #000080; font-weight: bold\">58</span> <span style=\"font-weight: bold\">)</span>  Center Point:   <span style=\"color: #000080; text-decoration-color: #000080; font-weight: bold\">179</span>  <span style=\"font-weight: bold\">(</span> <span style=\"color: #000080; text-decoration-color: #000080; font-weight: bold\">88</span> <span style=\"font-weight: bold\">)</span>  Right Margin:\n",
       "<span style=\"color: #000080; text-decoration-color: #000080; font-weight: bold\">117</span>  <span style=\"font-weight: bold\">(</span> <span style=\"color: #000080; text-decoration-color: #000080; font-weight: bold\">58</span> <span style=\"font-weight: bold\">)</span>\n",
       "</pre>\n"
      ],
      "text/plain": [
       "<rich.jupyter.JupyterRenderable at 0x7fe7484776a0>"
      ]
     },
     "metadata": {},
     "output_type": "display_data"
    },
    {
     "data": {
      "text/html": [
       "<pre style=\"white-space:pre;overflow-x:auto;line-height:normal;font-family:Menlo,'DejaVu Sans Mono',consolas,'Courier New',monospace\">Byte  <span style=\"color: #000080; text-decoration-color: #000080; font-weight: bold\">1</span>  Nibble <span style=\"color: #000080; text-decoration-color: #000080; font-weight: bold\">1</span>  -   Left Margin:   <span style=\"color: #000080; text-decoration-color: #000080; font-weight: bold\">117</span>  <span style=\"font-weight: bold\">(</span> <span style=\"color: #000080; text-decoration-color: #000080; font-weight: bold\">57</span> <span style=\"font-weight: bold\">)</span>  Center Point:   <span style=\"color: #000080; text-decoration-color: #000080; font-weight: bold\">169</span>  <span style=\"font-weight: bold\">(</span> <span style=\"color: #000080; text-decoration-color: #000080; font-weight: bold\">82</span> <span style=\"font-weight: bold\">)</span>  Right Margin:\n",
       "<span style=\"color: #000080; text-decoration-color: #000080; font-weight: bold\">117</span>  <span style=\"font-weight: bold\">(</span> <span style=\"color: #000080; text-decoration-color: #000080; font-weight: bold\">57</span> <span style=\"font-weight: bold\">)</span>\n",
       "</pre>\n"
      ],
      "text/plain": [
       "<rich.jupyter.JupyterRenderable at 0x7fe7484776a0>"
      ]
     },
     "metadata": {},
     "output_type": "display_data"
    },
    {
     "data": {
      "text/html": [
       "<pre style=\"white-space:pre;overflow-x:auto;line-height:normal;font-family:Menlo,'DejaVu Sans Mono',consolas,'Courier New',monospace\">Byte  <span style=\"color: #000080; text-decoration-color: #000080; font-weight: bold\">2</span>  Nibble <span style=\"color: #000080; text-decoration-color: #000080; font-weight: bold\">0</span>  -   Left Margin:   <span style=\"color: #000080; text-decoration-color: #000080; font-weight: bold\">114</span>  <span style=\"font-weight: bold\">(</span> <span style=\"color: #000080; text-decoration-color: #000080; font-weight: bold\">57</span> <span style=\"font-weight: bold\">)</span>  Center Point:   <span style=\"color: #000080; text-decoration-color: #000080; font-weight: bold\">176</span>  <span style=\"font-weight: bold\">(</span> <span style=\"color: #000080; text-decoration-color: #000080; font-weight: bold\">88</span> <span style=\"font-weight: bold\">)</span>  Right Margin:\n",
       "<span style=\"color: #000080; text-decoration-color: #000080; font-weight: bold\">114</span>  <span style=\"font-weight: bold\">(</span> <span style=\"color: #000080; text-decoration-color: #000080; font-weight: bold\">57</span> <span style=\"font-weight: bold\">)</span>\n",
       "</pre>\n"
      ],
      "text/plain": [
       "<rich.jupyter.JupyterRenderable at 0x7fe7484776a0>"
      ]
     },
     "metadata": {},
     "output_type": "display_data"
    },
    {
     "data": {
      "text/html": [
       "<pre style=\"white-space:pre;overflow-x:auto;line-height:normal;font-family:Menlo,'DejaVu Sans Mono',consolas,'Courier New',monospace\">Byte  <span style=\"color: #000080; text-decoration-color: #000080; font-weight: bold\">2</span>  Nibble <span style=\"color: #000080; text-decoration-color: #000080; font-weight: bold\">1</span>  -   Left Margin:   <span style=\"color: #000080; text-decoration-color: #000080; font-weight: bold\">114</span>  <span style=\"font-weight: bold\">(</span> <span style=\"color: #000080; text-decoration-color: #000080; font-weight: bold\">55</span> <span style=\"font-weight: bold\">)</span>  Center Point:   <span style=\"color: #000080; text-decoration-color: #000080; font-weight: bold\">181</span>  <span style=\"font-weight: bold\">(</span> <span style=\"color: #000080; text-decoration-color: #000080; font-weight: bold\">87</span> <span style=\"font-weight: bold\">)</span>  Right Margin:\n",
       "<span style=\"color: #000080; text-decoration-color: #000080; font-weight: bold\">114</span>  <span style=\"font-weight: bold\">(</span> <span style=\"color: #000080; text-decoration-color: #000080; font-weight: bold\">55</span> <span style=\"font-weight: bold\">)</span>\n",
       "</pre>\n"
      ],
      "text/plain": [
       "<rich.jupyter.JupyterRenderable at 0x7fe7484776a0>"
      ]
     },
     "metadata": {},
     "output_type": "display_data"
    },
    {
     "data": {
      "text/html": [
       "<pre style=\"white-space:pre;overflow-x:auto;line-height:normal;font-family:Menlo,'DejaVu Sans Mono',consolas,'Courier New',monospace\">Byte  <span style=\"color: #000080; text-decoration-color: #000080; font-weight: bold\">3</span>  Nibble <span style=\"color: #000080; text-decoration-color: #000080; font-weight: bold\">0</span>  -   Left Margin:   <span style=\"color: #000080; text-decoration-color: #000080; font-weight: bold\">115</span>  <span style=\"font-weight: bold\">(</span> <span style=\"color: #000080; text-decoration-color: #000080; font-weight: bold\">56</span> <span style=\"font-weight: bold\">)</span>  Center Point:   <span style=\"color: #000080; text-decoration-color: #000080; font-weight: bold\">173</span>  <span style=\"font-weight: bold\">(</span> <span style=\"color: #000080; text-decoration-color: #000080; font-weight: bold\">84</span> <span style=\"font-weight: bold\">)</span>  Right Margin:\n",
       "<span style=\"color: #000080; text-decoration-color: #000080; font-weight: bold\">117</span>  <span style=\"font-weight: bold\">(</span> <span style=\"color: #000080; text-decoration-color: #000080; font-weight: bold\">57</span> <span style=\"font-weight: bold\">)</span>\n",
       "</pre>\n"
      ],
      "text/plain": [
       "<rich.jupyter.JupyterRenderable at 0x7fe7484776a0>"
      ]
     },
     "metadata": {},
     "output_type": "display_data"
    },
    {
     "data": {
      "text/html": [
       "<pre style=\"white-space:pre;overflow-x:auto;line-height:normal;font-family:Menlo,'DejaVu Sans Mono',consolas,'Courier New',monospace\">Byte  <span style=\"color: #000080; text-decoration-color: #000080; font-weight: bold\">3</span>  Nibble <span style=\"color: #000080; text-decoration-color: #000080; font-weight: bold\">1</span>  -   Left Margin:   <span style=\"color: #000080; text-decoration-color: #000080; font-weight: bold\">113</span>  <span style=\"font-weight: bold\">(</span> <span style=\"color: #000080; text-decoration-color: #000080; font-weight: bold\">56</span> <span style=\"font-weight: bold\">)</span>  Center Point:   <span style=\"color: #000080; text-decoration-color: #000080; font-weight: bold\">170</span>  <span style=\"font-weight: bold\">(</span> <span style=\"color: #000080; text-decoration-color: #000080; font-weight: bold\">84</span> <span style=\"font-weight: bold\">)</span>  Right Margin:\n",
       "<span style=\"color: #000080; text-decoration-color: #000080; font-weight: bold\">115</span>  <span style=\"font-weight: bold\">(</span> <span style=\"color: #000080; text-decoration-color: #000080; font-weight: bold\">57</span> <span style=\"font-weight: bold\">)</span>\n",
       "</pre>\n"
      ],
      "text/plain": [
       "<rich.jupyter.JupyterRenderable at 0x7fe7484776a0>"
      ]
     },
     "metadata": {},
     "output_type": "display_data"
    },
    {
     "data": {
      "text/html": [
       "<pre style=\"white-space:pre;overflow-x:auto;line-height:normal;font-family:Menlo,'DejaVu Sans Mono',consolas,'Courier New',monospace\">Byte  <span style=\"color: #000080; text-decoration-color: #000080; font-weight: bold\">4</span>  Nibble <span style=\"color: #000080; text-decoration-color: #000080; font-weight: bold\">0</span>  -   Left Margin:   <span style=\"color: #000080; text-decoration-color: #000080; font-weight: bold\">117</span>  <span style=\"font-weight: bold\">(</span> <span style=\"color: #000080; text-decoration-color: #000080; font-weight: bold\">57</span> <span style=\"font-weight: bold\">)</span>  Center Point:   <span style=\"color: #000080; text-decoration-color: #000080; font-weight: bold\">173</span>  <span style=\"font-weight: bold\">(</span> <span style=\"color: #000080; text-decoration-color: #000080; font-weight: bold\">84</span> <span style=\"font-weight: bold\">)</span>  Right Margin:\n",
       "<span style=\"color: #000080; text-decoration-color: #000080; font-weight: bold\">117</span>  <span style=\"font-weight: bold\">(</span> <span style=\"color: #000080; text-decoration-color: #000080; font-weight: bold\">57</span> <span style=\"font-weight: bold\">)</span>\n",
       "</pre>\n"
      ],
      "text/plain": [
       "<rich.jupyter.JupyterRenderable at 0x7fe7484776a0>"
      ]
     },
     "metadata": {},
     "output_type": "display_data"
    },
    {
     "data": {
      "text/html": [
       "<pre style=\"white-space:pre;overflow-x:auto;line-height:normal;font-family:Menlo,'DejaVu Sans Mono',consolas,'Courier New',monospace\">Byte  <span style=\"color: #000080; text-decoration-color: #000080; font-weight: bold\">4</span>  Nibble <span style=\"color: #000080; text-decoration-color: #000080; font-weight: bold\">1</span>  -   Left Margin:   <span style=\"color: #000080; text-decoration-color: #000080; font-weight: bold\">118</span>  <span style=\"font-weight: bold\">(</span> <span style=\"color: #000080; text-decoration-color: #000080; font-weight: bold\">57</span> <span style=\"font-weight: bold\">)</span>  Center Point:   <span style=\"color: #000080; text-decoration-color: #000080; font-weight: bold\">175</span>  <span style=\"font-weight: bold\">(</span> <span style=\"color: #000080; text-decoration-color: #000080; font-weight: bold\">84</span> <span style=\"font-weight: bold\">)</span>  Right Margin:\n",
       "<span style=\"color: #000080; text-decoration-color: #000080; font-weight: bold\">118</span>  <span style=\"font-weight: bold\">(</span> <span style=\"color: #000080; text-decoration-color: #000080; font-weight: bold\">57</span> <span style=\"font-weight: bold\">)</span>\n",
       "</pre>\n"
      ],
      "text/plain": [
       "<rich.jupyter.JupyterRenderable at 0x7fe7484776a0>"
      ]
     },
     "metadata": {},
     "output_type": "display_data"
    },
    {
     "data": {
      "text/html": [
       "<pre style=\"white-space:pre;overflow-x:auto;line-height:normal;font-family:Menlo,'DejaVu Sans Mono',consolas,'Courier New',monospace\">Byte  <span style=\"color: #000080; text-decoration-color: #000080; font-weight: bold\">5</span>  Nibble <span style=\"color: #000080; text-decoration-color: #000080; font-weight: bold\">0</span>  -   Left Margin:   <span style=\"color: #000080; text-decoration-color: #000080; font-weight: bold\">117</span>  <span style=\"font-weight: bold\">(</span> <span style=\"color: #000080; text-decoration-color: #000080; font-weight: bold\">60</span> <span style=\"font-weight: bold\">)</span>  Center Point:   <span style=\"color: #000080; text-decoration-color: #000080; font-weight: bold\">174</span>  <span style=\"font-weight: bold\">(</span> <span style=\"color: #000080; text-decoration-color: #000080; font-weight: bold\">89</span> <span style=\"font-weight: bold\">)</span>  Right Margin:\n",
       "<span style=\"color: #000080; text-decoration-color: #000080; font-weight: bold\">117</span>  <span style=\"font-weight: bold\">(</span> <span style=\"color: #000080; text-decoration-color: #000080; font-weight: bold\">60</span> <span style=\"font-weight: bold\">)</span>\n",
       "</pre>\n"
      ],
      "text/plain": [
       "<rich.jupyter.JupyterRenderable at 0x7fe7484776a0>"
      ]
     },
     "metadata": {},
     "output_type": "display_data"
    },
    {
     "data": {
      "text/html": [
       "<pre style=\"white-space:pre;overflow-x:auto;line-height:normal;font-family:Menlo,'DejaVu Sans Mono',consolas,'Courier New',monospace\">Byte  <span style=\"color: #000080; text-decoration-color: #000080; font-weight: bold\">5</span>  Nibble <span style=\"color: #000080; text-decoration-color: #000080; font-weight: bold\">1</span>  -   Left Margin:   <span style=\"color: #000080; text-decoration-color: #000080; font-weight: bold\">119</span>  <span style=\"font-weight: bold\">(</span> <span style=\"color: #000080; text-decoration-color: #000080; font-weight: bold\">58</span> <span style=\"font-weight: bold\">)</span>  Center Point:   <span style=\"color: #000080; text-decoration-color: #000080; font-weight: bold\">179</span>  <span style=\"font-weight: bold\">(</span> <span style=\"color: #000080; text-decoration-color: #000080; font-weight: bold\">87</span> <span style=\"font-weight: bold\">)</span>  Right Margin:\n",
       "<span style=\"color: #000080; text-decoration-color: #000080; font-weight: bold\">121</span>  <span style=\"font-weight: bold\">(</span> <span style=\"color: #000080; text-decoration-color: #000080; font-weight: bold\">59</span> <span style=\"font-weight: bold\">)</span>\n",
       "</pre>\n"
      ],
      "text/plain": [
       "<rich.jupyter.JupyterRenderable at 0x7fe7484776a0>"
      ]
     },
     "metadata": {},
     "output_type": "display_data"
    },
    {
     "data": {
      "text/html": [
       "<pre style=\"white-space:pre;overflow-x:auto;line-height:normal;font-family:Menlo,'DejaVu Sans Mono',consolas,'Courier New',monospace\">Byte  <span style=\"color: #000080; text-decoration-color: #000080; font-weight: bold\">6</span>  Nibble <span style=\"color: #000080; text-decoration-color: #000080; font-weight: bold\">0</span>  -   Left Margin:   <span style=\"color: #000080; text-decoration-color: #000080; font-weight: bold\">120</span>  <span style=\"font-weight: bold\">(</span> <span style=\"color: #000080; text-decoration-color: #000080; font-weight: bold\">58</span> <span style=\"font-weight: bold\">)</span>  Center Point:   <span style=\"color: #000080; text-decoration-color: #000080; font-weight: bold\">175</span>  <span style=\"font-weight: bold\">(</span> <span style=\"color: #000080; text-decoration-color: #000080; font-weight: bold\">84</span> <span style=\"font-weight: bold\">)</span>  Right Margin:\n",
       "<span style=\"color: #000080; text-decoration-color: #000080; font-weight: bold\">120</span>  <span style=\"font-weight: bold\">(</span> <span style=\"color: #000080; text-decoration-color: #000080; font-weight: bold\">58</span> <span style=\"font-weight: bold\">)</span>\n",
       "</pre>\n"
      ],
      "text/plain": [
       "<rich.jupyter.JupyterRenderable at 0x7fe7401b74f0>"
      ]
     },
     "metadata": {},
     "output_type": "display_data"
    },
    {
     "data": {
      "text/html": [
       "<pre style=\"white-space:pre;overflow-x:auto;line-height:normal;font-family:Menlo,'DejaVu Sans Mono',consolas,'Courier New',monospace\">Byte  <span style=\"color: #000080; text-decoration-color: #000080; font-weight: bold\">6</span>  Nibble <span style=\"color: #000080; text-decoration-color: #000080; font-weight: bold\">1</span>  -   Left Margin:   <span style=\"color: #000080; text-decoration-color: #000080; font-weight: bold\">119</span>  <span style=\"font-weight: bold\">(</span> <span style=\"color: #000080; text-decoration-color: #000080; font-weight: bold\">59</span> <span style=\"font-weight: bold\">)</span>  Center Point:   <span style=\"color: #000080; text-decoration-color: #000080; font-weight: bold\">177</span>  <span style=\"font-weight: bold\">(</span> <span style=\"color: #000080; text-decoration-color: #000080; font-weight: bold\">87</span> <span style=\"font-weight: bold\">)</span>  Right Margin:\n",
       "<span style=\"color: #000080; text-decoration-color: #000080; font-weight: bold\">119</span>  <span style=\"font-weight: bold\">(</span> <span style=\"color: #000080; text-decoration-color: #000080; font-weight: bold\">59</span> <span style=\"font-weight: bold\">)</span>\n",
       "</pre>\n"
      ],
      "text/plain": [
       "<rich.jupyter.JupyterRenderable at 0x7fe7401b76a0>"
      ]
     },
     "metadata": {},
     "output_type": "display_data"
    },
    {
     "data": {
      "text/html": [
       "<pre style=\"white-space:pre;overflow-x:auto;line-height:normal;font-family:Menlo,'DejaVu Sans Mono',consolas,'Courier New',monospace\">Byte  <span style=\"color: #000080; text-decoration-color: #000080; font-weight: bold\">7</span>  Nibble <span style=\"color: #000080; text-decoration-color: #000080; font-weight: bold\">0</span>  -   Left Margin:   <span style=\"color: #000080; text-decoration-color: #000080; font-weight: bold\">130</span>  <span style=\"font-weight: bold\">(</span> <span style=\"color: #000080; text-decoration-color: #000080; font-weight: bold\">62</span> <span style=\"font-weight: bold\">)</span>  Center Point:   <span style=\"color: #000080; text-decoration-color: #000080; font-weight: bold\">192</span>  <span style=\"font-weight: bold\">(</span> <span style=\"color: #000080; text-decoration-color: #000080; font-weight: bold\">91</span> <span style=\"font-weight: bold\">)</span>  Right Margin:\n",
       "<span style=\"color: #000080; text-decoration-color: #000080; font-weight: bold\">133</span>  <span style=\"font-weight: bold\">(</span> <span style=\"color: #000080; text-decoration-color: #000080; font-weight: bold\">63</span> <span style=\"font-weight: bold\">)</span>\n",
       "</pre>\n"
      ],
      "text/plain": [
       "<rich.jupyter.JupyterRenderable at 0x7fe7401b7910>"
      ]
     },
     "metadata": {},
     "output_type": "display_data"
    },
    {
     "data": {
      "text/html": [
       "<pre style=\"white-space:pre;overflow-x:auto;line-height:normal;font-family:Menlo,'DejaVu Sans Mono',consolas,'Courier New',monospace\">Byte  <span style=\"color: #000080; text-decoration-color: #000080; font-weight: bold\">7</span>  Nibble <span style=\"color: #000080; text-decoration-color: #000080; font-weight: bold\">1</span>  -   Left Margin:   <span style=\"color: #000080; text-decoration-color: #000080; font-weight: bold\">130</span>  <span style=\"font-weight: bold\">(</span> <span style=\"color: #000080; text-decoration-color: #000080; font-weight: bold\">62</span> <span style=\"font-weight: bold\">)</span>  Center Point:   <span style=\"color: #000080; text-decoration-color: #000080; font-weight: bold\">186</span>  <span style=\"font-weight: bold\">(</span> <span style=\"color: #000080; text-decoration-color: #000080; font-weight: bold\">88</span> <span style=\"font-weight: bold\">)</span>  Right Margin:\n",
       "<span style=\"color: #000080; text-decoration-color: #000080; font-weight: bold\">133</span>  <span style=\"font-weight: bold\">(</span> <span style=\"color: #000080; text-decoration-color: #000080; font-weight: bold\">63</span> <span style=\"font-weight: bold\">)</span>\n",
       "</pre>\n"
      ],
      "text/plain": [
       "<rich.jupyter.JupyterRenderable at 0x7fe7401b7700>"
      ]
     },
     "metadata": {},
     "output_type": "display_data"
    },
    {
     "data": {
      "text/html": [
       "<pre style=\"white-space:pre;overflow-x:auto;line-height:normal;font-family:Menlo,'DejaVu Sans Mono',consolas,'Courier New',monospace\">\n",
       " Frequency <span style=\"color: #000080; text-decoration-color: #000080; font-weight: bold\">0</span>  - Write Margin - Simple Pattern - Calibration Window in pS and <span style=\"font-weight: bold\">(</span>delay taps<span style=\"font-weight: bold\">)</span>:\n",
       "\n",
       "</pre>\n"
      ],
      "text/plain": [
       "<rich.jupyter.JupyterRenderable at 0x7fe7401cda60>"
      ]
     },
     "metadata": {},
     "output_type": "display_data"
    },
    {
     "data": {
      "text/html": [
       "<pre style=\"white-space:pre;overflow-x:auto;line-height:normal;font-family:Menlo,'DejaVu Sans Mono',consolas,'Courier New',monospace\">Byte  <span style=\"color: #000080; text-decoration-color: #000080; font-weight: bold\">0</span>   -  Left Margin:   <span style=\"color: #000080; text-decoration-color: #000080; font-weight: bold\">166</span>  <span style=\"font-weight: bold\">(</span> <span style=\"color: #000080; text-decoration-color: #000080; font-weight: bold\">80</span> <span style=\"font-weight: bold\">)</span>  Center Point:   <span style=\"color: #000080; text-decoration-color: #000080; font-weight: bold\">452</span>  <span style=\"font-weight: bold\">(</span> <span style=\"color: #000080; text-decoration-color: #000080; font-weight: bold\">217</span> <span style=\"font-weight: bold\">)</span>  Right Margin:   <span style=\"color: #000080; text-decoration-color: #000080; font-weight: bold\">145</span>  <span style=\"font-weight: bold\">(</span>\n",
       "<span style=\"color: #000080; text-decoration-color: #000080; font-weight: bold\">70</span> <span style=\"font-weight: bold\">)</span>\n",
       "</pre>\n"
      ],
      "text/plain": [
       "<rich.jupyter.JupyterRenderable at 0x7fe7401cdb20>"
      ]
     },
     "metadata": {},
     "output_type": "display_data"
    },
    {
     "data": {
      "text/html": [
       "<pre style=\"white-space:pre;overflow-x:auto;line-height:normal;font-family:Menlo,'DejaVu Sans Mono',consolas,'Courier New',monospace\">Byte  <span style=\"color: #000080; text-decoration-color: #000080; font-weight: bold\">1</span>   -  Left Margin:   <span style=\"color: #000080; text-decoration-color: #000080; font-weight: bold\">147</span>  <span style=\"font-weight: bold\">(</span> <span style=\"color: #000080; text-decoration-color: #000080; font-weight: bold\">72</span> <span style=\"font-weight: bold\">)</span>  Center Point:   <span style=\"color: #000080; text-decoration-color: #000080; font-weight: bold\">628</span>  <span style=\"font-weight: bold\">(</span> <span style=\"color: #000080; text-decoration-color: #000080; font-weight: bold\">308</span> <span style=\"font-weight: bold\">)</span>  Right Margin:   <span style=\"color: #000080; text-decoration-color: #000080; font-weight: bold\">142</span>  <span style=\"font-weight: bold\">(</span>\n",
       "<span style=\"color: #000080; text-decoration-color: #000080; font-weight: bold\">70</span> <span style=\"font-weight: bold\">)</span>\n",
       "</pre>\n"
      ],
      "text/plain": [
       "<rich.jupyter.JupyterRenderable at 0x7fe7401b7880>"
      ]
     },
     "metadata": {},
     "output_type": "display_data"
    },
    {
     "data": {
      "text/html": [
       "<pre style=\"white-space:pre;overflow-x:auto;line-height:normal;font-family:Menlo,'DejaVu Sans Mono',consolas,'Courier New',monospace\">Byte  <span style=\"color: #000080; text-decoration-color: #000080; font-weight: bold\">2</span>   -  Left Margin:   <span style=\"color: #000080; text-decoration-color: #000080; font-weight: bold\">165</span>  <span style=\"font-weight: bold\">(</span> <span style=\"color: #000080; text-decoration-color: #000080; font-weight: bold\">80</span> <span style=\"font-weight: bold\">)</span>  Center Point:   <span style=\"color: #000080; text-decoration-color: #000080; font-weight: bold\">72</span>  <span style=\"font-weight: bold\">(</span> <span style=\"color: #000080; text-decoration-color: #000080; font-weight: bold\">35</span> <span style=\"font-weight: bold\">)</span>  Right Margin:   <span style=\"color: #000080; text-decoration-color: #000080; font-weight: bold\">132</span>  <span style=\"font-weight: bold\">(</span> \n",
       "<span style=\"color: #000080; text-decoration-color: #000080; font-weight: bold\">64</span> <span style=\"font-weight: bold\">)</span>\n",
       "</pre>\n"
      ],
      "text/plain": [
       "<rich.jupyter.JupyterRenderable at 0x7fe7401b7880>"
      ]
     },
     "metadata": {},
     "output_type": "display_data"
    },
    {
     "data": {
      "text/html": [
       "<pre style=\"white-space:pre;overflow-x:auto;line-height:normal;font-family:Menlo,'DejaVu Sans Mono',consolas,'Courier New',monospace\">Byte  <span style=\"color: #000080; text-decoration-color: #000080; font-weight: bold\">3</span>   -  Left Margin:   <span style=\"color: #000080; text-decoration-color: #000080; font-weight: bold\">145</span>  <span style=\"font-weight: bold\">(</span> <span style=\"color: #000080; text-decoration-color: #000080; font-weight: bold\">71</span> <span style=\"font-weight: bold\">)</span>  Center Point:   <span style=\"color: #000080; text-decoration-color: #000080; font-weight: bold\">195</span>  <span style=\"font-weight: bold\">(</span> <span style=\"color: #000080; text-decoration-color: #000080; font-weight: bold\">95</span> <span style=\"font-weight: bold\">)</span>  Right Margin:   <span style=\"color: #000080; text-decoration-color: #000080; font-weight: bold\">148</span>  <span style=\"font-weight: bold\">(</span> \n",
       "<span style=\"color: #000080; text-decoration-color: #000080; font-weight: bold\">72</span> <span style=\"font-weight: bold\">)</span>\n",
       "</pre>\n"
      ],
      "text/plain": [
       "<rich.jupyter.JupyterRenderable at 0x7fe7401b7880>"
      ]
     },
     "metadata": {},
     "output_type": "display_data"
    },
    {
     "data": {
      "text/html": [
       "<pre style=\"white-space:pre;overflow-x:auto;line-height:normal;font-family:Menlo,'DejaVu Sans Mono',consolas,'Courier New',monospace\">Byte  <span style=\"color: #000080; text-decoration-color: #000080; font-weight: bold\">4</span>   -  Left Margin:   <span style=\"color: #000080; text-decoration-color: #000080; font-weight: bold\">143</span>  <span style=\"font-weight: bold\">(</span> <span style=\"color: #000080; text-decoration-color: #000080; font-weight: bold\">70</span> <span style=\"font-weight: bold\">)</span>  Center Point:   <span style=\"color: #000080; text-decoration-color: #000080; font-weight: bold\">561</span>  <span style=\"font-weight: bold\">(</span> <span style=\"color: #000080; text-decoration-color: #000080; font-weight: bold\">273</span> <span style=\"font-weight: bold\">)</span>  Right Margin:   <span style=\"color: #000080; text-decoration-color: #000080; font-weight: bold\">143</span>  <span style=\"font-weight: bold\">(</span>\n",
       "<span style=\"color: #000080; text-decoration-color: #000080; font-weight: bold\">70</span> <span style=\"font-weight: bold\">)</span>\n",
       "</pre>\n"
      ],
      "text/plain": [
       "<rich.jupyter.JupyterRenderable at 0x7fe7401b7880>"
      ]
     },
     "metadata": {},
     "output_type": "display_data"
    },
    {
     "data": {
      "text/html": [
       "<pre style=\"white-space:pre;overflow-x:auto;line-height:normal;font-family:Menlo,'DejaVu Sans Mono',consolas,'Courier New',monospace\">Byte  <span style=\"color: #000080; text-decoration-color: #000080; font-weight: bold\">5</span>   -  Left Margin:   <span style=\"color: #000080; text-decoration-color: #000080; font-weight: bold\">157</span>  <span style=\"font-weight: bold\">(</span> <span style=\"color: #000080; text-decoration-color: #000080; font-weight: bold\">77</span> <span style=\"font-weight: bold\">)</span>  Center Point:   <span style=\"color: #000080; text-decoration-color: #000080; font-weight: bold\">614</span>  <span style=\"font-weight: bold\">(</span> <span style=\"color: #000080; text-decoration-color: #000080; font-weight: bold\">300</span> <span style=\"font-weight: bold\">)</span>  Right Margin:   <span style=\"color: #000080; text-decoration-color: #000080; font-weight: bold\">142</span>  <span style=\"font-weight: bold\">(</span>\n",
       "<span style=\"color: #000080; text-decoration-color: #000080; font-weight: bold\">70</span> <span style=\"font-weight: bold\">)</span>\n",
       "</pre>\n"
      ],
      "text/plain": [
       "<rich.jupyter.JupyterRenderable at 0x7fe7401b7880>"
      ]
     },
     "metadata": {},
     "output_type": "display_data"
    },
    {
     "data": {
      "text/html": [
       "<pre style=\"white-space:pre;overflow-x:auto;line-height:normal;font-family:Menlo,'DejaVu Sans Mono',consolas,'Courier New',monospace\">Byte  <span style=\"color: #000080; text-decoration-color: #000080; font-weight: bold\">6</span>   -  Left Margin:   <span style=\"color: #000080; text-decoration-color: #000080; font-weight: bold\">153</span>  <span style=\"font-weight: bold\">(</span> <span style=\"color: #000080; text-decoration-color: #000080; font-weight: bold\">74</span> <span style=\"font-weight: bold\">)</span>  Center Point:   <span style=\"color: #000080; text-decoration-color: #000080; font-weight: bold\">593</span>  <span style=\"font-weight: bold\">(</span> <span style=\"color: #000080; text-decoration-color: #000080; font-weight: bold\">286</span> <span style=\"font-weight: bold\">)</span>  Right Margin:   <span style=\"color: #000080; text-decoration-color: #000080; font-weight: bold\">144</span>  <span style=\"font-weight: bold\">(</span>\n",
       "<span style=\"color: #000080; text-decoration-color: #000080; font-weight: bold\">70</span> <span style=\"font-weight: bold\">)</span>\n",
       "</pre>\n"
      ],
      "text/plain": [
       "<rich.jupyter.JupyterRenderable at 0x7fe7401b7880>"
      ]
     },
     "metadata": {},
     "output_type": "display_data"
    },
    {
     "data": {
      "text/html": [
       "<pre style=\"white-space:pre;overflow-x:auto;line-height:normal;font-family:Menlo,'DejaVu Sans Mono',consolas,'Courier New',monospace\">Byte  <span style=\"color: #000080; text-decoration-color: #000080; font-weight: bold\">7</span>   -  Left Margin:   <span style=\"color: #000080; text-decoration-color: #000080; font-weight: bold\">158</span>  <span style=\"font-weight: bold\">(</span> <span style=\"color: #000080; text-decoration-color: #000080; font-weight: bold\">76</span> <span style=\"font-weight: bold\">)</span>  Center Point:   <span style=\"color: #000080; text-decoration-color: #000080; font-weight: bold\">623</span>  <span style=\"font-weight: bold\">(</span> <span style=\"color: #000080; text-decoration-color: #000080; font-weight: bold\">299</span> <span style=\"font-weight: bold\">)</span>  Right Margin:   <span style=\"color: #000080; text-decoration-color: #000080; font-weight: bold\">129</span>  <span style=\"font-weight: bold\">(</span>\n",
       "<span style=\"color: #000080; text-decoration-color: #000080; font-weight: bold\">62</span> <span style=\"font-weight: bold\">)</span>\n",
       "</pre>\n"
      ],
      "text/plain": [
       "<rich.jupyter.JupyterRenderable at 0x7fe7401b7880>"
      ]
     },
     "metadata": {},
     "output_type": "display_data"
    },
    {
     "data": {
      "text/html": [
       "<pre style=\"white-space:pre;overflow-x:auto;line-height:normal;font-family:Menlo,'DejaVu Sans Mono',consolas,'Courier New',monospace\">\n",
       " Frequency <span style=\"color: #000080; text-decoration-color: #000080; font-weight: bold\">0</span>  - Write Margin - Complex Pattern - Calibration Window in pS and <span style=\"font-weight: bold\">(</span>delay taps<span style=\"font-weight: bold\">)</span>:\n",
       "\n",
       "</pre>\n"
      ],
      "text/plain": [
       "<rich.jupyter.JupyterRenderable at 0x7fe7400bf520>"
      ]
     },
     "metadata": {},
     "output_type": "display_data"
    },
    {
     "data": {
      "text/html": [
       "<pre style=\"white-space:pre;overflow-x:auto;line-height:normal;font-family:Menlo,'DejaVu Sans Mono',consolas,'Courier New',monospace\">Byte  <span style=\"color: #000080; text-decoration-color: #000080; font-weight: bold\">0</span>   -  Left Margin:   <span style=\"color: #000080; text-decoration-color: #000080; font-weight: bold\">152</span>  <span style=\"font-weight: bold\">(</span> <span style=\"color: #000080; text-decoration-color: #000080; font-weight: bold\">73</span> <span style=\"font-weight: bold\">)</span>  Center Point:   <span style=\"color: #000080; text-decoration-color: #000080; font-weight: bold\">452</span>  <span style=\"font-weight: bold\">(</span> <span style=\"color: #000080; text-decoration-color: #000080; font-weight: bold\">217</span> <span style=\"font-weight: bold\">)</span>  Right Margin:   <span style=\"color: #000080; text-decoration-color: #000080; font-weight: bold\">118</span>  <span style=\"font-weight: bold\">(</span>\n",
       "<span style=\"color: #000080; text-decoration-color: #000080; font-weight: bold\">57</span> <span style=\"font-weight: bold\">)</span>\n",
       "</pre>\n"
      ],
      "text/plain": [
       "<rich.jupyter.JupyterRenderable at 0x7fe7400bf2e0>"
      ]
     },
     "metadata": {},
     "output_type": "display_data"
    },
    {
     "data": {
      "text/html": [
       "<pre style=\"white-space:pre;overflow-x:auto;line-height:normal;font-family:Menlo,'DejaVu Sans Mono',consolas,'Courier New',monospace\">Byte  <span style=\"color: #000080; text-decoration-color: #000080; font-weight: bold\">1</span>   -  Left Margin:   <span style=\"color: #000080; text-decoration-color: #000080; font-weight: bold\">142</span>  <span style=\"font-weight: bold\">(</span> <span style=\"color: #000080; text-decoration-color: #000080; font-weight: bold\">70</span> <span style=\"font-weight: bold\">)</span>  Center Point:   <span style=\"color: #000080; text-decoration-color: #000080; font-weight: bold\">628</span>  <span style=\"font-weight: bold\">(</span> <span style=\"color: #000080; text-decoration-color: #000080; font-weight: bold\">308</span> <span style=\"font-weight: bold\">)</span>  Right Margin:   <span style=\"color: #000080; text-decoration-color: #000080; font-weight: bold\">102</span>  <span style=\"font-weight: bold\">(</span>\n",
       "<span style=\"color: #000080; text-decoration-color: #000080; font-weight: bold\">50</span> <span style=\"font-weight: bold\">)</span>\n",
       "</pre>\n"
      ],
      "text/plain": [
       "<rich.jupyter.JupyterRenderable at 0x7fe7400bf5b0>"
      ]
     },
     "metadata": {},
     "output_type": "display_data"
    },
    {
     "data": {
      "text/html": [
       "<pre style=\"white-space:pre;overflow-x:auto;line-height:normal;font-family:Menlo,'DejaVu Sans Mono',consolas,'Courier New',monospace\">Byte  <span style=\"color: #000080; text-decoration-color: #000080; font-weight: bold\">2</span>   -  Left Margin:   <span style=\"color: #000080; text-decoration-color: #000080; font-weight: bold\">142</span>  <span style=\"font-weight: bold\">(</span> <span style=\"color: #000080; text-decoration-color: #000080; font-weight: bold\">69</span> <span style=\"font-weight: bold\">)</span>  Center Point:   <span style=\"color: #000080; text-decoration-color: #000080; font-weight: bold\">72</span>  <span style=\"font-weight: bold\">(</span> <span style=\"color: #000080; text-decoration-color: #000080; font-weight: bold\">35</span> <span style=\"font-weight: bold\">)</span>  Right Margin:   <span style=\"color: #000080; text-decoration-color: #000080; font-weight: bold\">122</span>  <span style=\"font-weight: bold\">(</span> \n",
       "<span style=\"color: #000080; text-decoration-color: #000080; font-weight: bold\">59</span> <span style=\"font-weight: bold\">)</span>\n",
       "</pre>\n"
      ],
      "text/plain": [
       "<rich.jupyter.JupyterRenderable at 0x7fe7400bf130>"
      ]
     },
     "metadata": {},
     "output_type": "display_data"
    },
    {
     "data": {
      "text/html": [
       "<pre style=\"white-space:pre;overflow-x:auto;line-height:normal;font-family:Menlo,'DejaVu Sans Mono',consolas,'Courier New',monospace\">Byte  <span style=\"color: #000080; text-decoration-color: #000080; font-weight: bold\">3</span>   -  Left Margin:   <span style=\"color: #000080; text-decoration-color: #000080; font-weight: bold\">148</span>  <span style=\"font-weight: bold\">(</span> <span style=\"color: #000080; text-decoration-color: #000080; font-weight: bold\">72</span> <span style=\"font-weight: bold\">)</span>  Center Point:   <span style=\"color: #000080; text-decoration-color: #000080; font-weight: bold\">195</span>  <span style=\"font-weight: bold\">(</span> <span style=\"color: #000080; text-decoration-color: #000080; font-weight: bold\">95</span> <span style=\"font-weight: bold\">)</span>  Right Margin:   <span style=\"color: #000080; text-decoration-color: #000080; font-weight: bold\">121</span>  <span style=\"font-weight: bold\">(</span> \n",
       "<span style=\"color: #000080; text-decoration-color: #000080; font-weight: bold\">59</span> <span style=\"font-weight: bold\">)</span>\n",
       "</pre>\n"
      ],
      "text/plain": [
       "<rich.jupyter.JupyterRenderable at 0x7fe7400bf040>"
      ]
     },
     "metadata": {},
     "output_type": "display_data"
    },
    {
     "data": {
      "text/html": [
       "<pre style=\"white-space:pre;overflow-x:auto;line-height:normal;font-family:Menlo,'DejaVu Sans Mono',consolas,'Courier New',monospace\">Byte  <span style=\"color: #000080; text-decoration-color: #000080; font-weight: bold\">4</span>   -  Left Margin:   <span style=\"color: #000080; text-decoration-color: #000080; font-weight: bold\">141</span>  <span style=\"font-weight: bold\">(</span> <span style=\"color: #000080; text-decoration-color: #000080; font-weight: bold\">69</span> <span style=\"font-weight: bold\">)</span>  Center Point:   <span style=\"color: #000080; text-decoration-color: #000080; font-weight: bold\">561</span>  <span style=\"font-weight: bold\">(</span> <span style=\"color: #000080; text-decoration-color: #000080; font-weight: bold\">273</span> <span style=\"font-weight: bold\">)</span>  Right Margin:   <span style=\"color: #000080; text-decoration-color: #000080; font-weight: bold\">125</span>  <span style=\"font-weight: bold\">(</span>\n",
       "<span style=\"color: #000080; text-decoration-color: #000080; font-weight: bold\">61</span> <span style=\"font-weight: bold\">)</span>\n",
       "</pre>\n"
      ],
      "text/plain": [
       "<rich.jupyter.JupyterRenderable at 0x7fe7400bf880>"
      ]
     },
     "metadata": {},
     "output_type": "display_data"
    },
    {
     "data": {
      "text/html": [
       "<pre style=\"white-space:pre;overflow-x:auto;line-height:normal;font-family:Menlo,'DejaVu Sans Mono',consolas,'Courier New',monospace\">Byte  <span style=\"color: #000080; text-decoration-color: #000080; font-weight: bold\">5</span>   -  Left Margin:   <span style=\"color: #000080; text-decoration-color: #000080; font-weight: bold\">149</span>  <span style=\"font-weight: bold\">(</span> <span style=\"color: #000080; text-decoration-color: #000080; font-weight: bold\">73</span> <span style=\"font-weight: bold\">)</span>  Center Point:   <span style=\"color: #000080; text-decoration-color: #000080; font-weight: bold\">614</span>  <span style=\"font-weight: bold\">(</span> <span style=\"color: #000080; text-decoration-color: #000080; font-weight: bold\">300</span> <span style=\"font-weight: bold\">)</span>  Right Margin:   <span style=\"color: #000080; text-decoration-color: #000080; font-weight: bold\">124</span>  <span style=\"font-weight: bold\">(</span>\n",
       "<span style=\"color: #000080; text-decoration-color: #000080; font-weight: bold\">61</span> <span style=\"font-weight: bold\">)</span>\n",
       "</pre>\n"
      ],
      "text/plain": [
       "<rich.jupyter.JupyterRenderable at 0x7fe7400b78e0>"
      ]
     },
     "metadata": {},
     "output_type": "display_data"
    },
    {
     "data": {
      "text/html": [
       "<pre style=\"white-space:pre;overflow-x:auto;line-height:normal;font-family:Menlo,'DejaVu Sans Mono',consolas,'Courier New',monospace\">Byte  <span style=\"color: #000080; text-decoration-color: #000080; font-weight: bold\">6</span>   -  Left Margin:   <span style=\"color: #000080; text-decoration-color: #000080; font-weight: bold\">146</span>  <span style=\"font-weight: bold\">(</span> <span style=\"color: #000080; text-decoration-color: #000080; font-weight: bold\">71</span> <span style=\"font-weight: bold\">)</span>  Center Point:   <span style=\"color: #000080; text-decoration-color: #000080; font-weight: bold\">593</span>  <span style=\"font-weight: bold\">(</span> <span style=\"color: #000080; text-decoration-color: #000080; font-weight: bold\">286</span> <span style=\"font-weight: bold\">)</span>  Right Margin:   <span style=\"color: #000080; text-decoration-color: #000080; font-weight: bold\">117</span>  <span style=\"font-weight: bold\">(</span>\n",
       "<span style=\"color: #000080; text-decoration-color: #000080; font-weight: bold\">57</span> <span style=\"font-weight: bold\">)</span>\n",
       "</pre>\n"
      ],
      "text/plain": [
       "<rich.jupyter.JupyterRenderable at 0x7fe7400b78e0>"
      ]
     },
     "metadata": {},
     "output_type": "display_data"
    },
    {
     "data": {
      "text/html": [
       "<pre style=\"white-space:pre;overflow-x:auto;line-height:normal;font-family:Menlo,'DejaVu Sans Mono',consolas,'Courier New',monospace\">Byte  <span style=\"color: #000080; text-decoration-color: #000080; font-weight: bold\">7</span>   -  Left Margin:   <span style=\"color: #000080; text-decoration-color: #000080; font-weight: bold\">141</span>  <span style=\"font-weight: bold\">(</span> <span style=\"color: #000080; text-decoration-color: #000080; font-weight: bold\">68</span> <span style=\"font-weight: bold\">)</span>  Center Point:   <span style=\"color: #000080; text-decoration-color: #000080; font-weight: bold\">623</span>  <span style=\"font-weight: bold\">(</span> <span style=\"color: #000080; text-decoration-color: #000080; font-weight: bold\">299</span> <span style=\"font-weight: bold\">)</span>  Right Margin:   <span style=\"color: #000080; text-decoration-color: #000080; font-weight: bold\">133</span>  <span style=\"font-weight: bold\">(</span>\n",
       "<span style=\"color: #000080; text-decoration-color: #000080; font-weight: bold\">64</span> <span style=\"font-weight: bold\">)</span>\n",
       "</pre>\n"
      ],
      "text/plain": [
       "<rich.jupyter.JupyterRenderable at 0x7fe7400b78e0>"
      ]
     },
     "metadata": {},
     "output_type": "display_data"
    },
    {
     "data": {
      "text/html": [
       "<pre style=\"white-space:pre;overflow-x:auto;line-height:normal;font-family:Menlo,'DejaVu Sans Mono',consolas,'Courier New',monospace\">\n",
       "NOTE: The report is being generated and saved as: test_out.txt\n",
       "</pre>\n"
      ],
      "text/plain": [
       "<rich.jupyter.JupyterRenderable at 0x7fe7400bf0d0>"
      ]
     },
     "metadata": {},
     "output_type": "display_data"
    },
    {
     "data": {
      "text/html": [
       "<pre style=\"white-space:pre;overflow-x:auto;line-height:normal;font-family:Menlo,'DejaVu Sans Mono',consolas,'Courier New',monospace\">-------------------\n",
       "\n",
       "</pre>\n"
      ],
      "text/plain": [
       "<rich.jupyter.JupyterRenderable at 0x7fe7400bf880>"
      ]
     },
     "metadata": {},
     "output_type": "display_data"
    },
    {
     "data": {
      "text/html": [
       "<pre style=\"white-space:pre;overflow-x:auto;line-height:normal;font-family:Menlo,'DejaVu Sans Mono',consolas,'Courier New',monospace\"> DDRMC Status \n",
       "\n",
       "</pre>\n"
      ],
      "text/plain": [
       "<rich.jupyter.JupyterRenderable at 0x7fe7400bfcd0>"
      ]
     },
     "metadata": {},
     "output_type": "display_data"
    },
    {
     "data": {
      "text/html": [
       "<pre style=\"white-space:pre;overflow-x:auto;line-height:normal;font-family:Menlo,'DejaVu Sans Mono',consolas,'Courier New',monospace\">-------------------\n",
       "\n",
       "</pre>\n"
      ],
      "text/plain": [
       "<rich.jupyter.JupyterRenderable at 0x7fe7400bf5b0>"
      ]
     },
     "metadata": {},
     "output_type": "display_data"
    },
    {
     "data": {
      "text/html": [
       "<pre style=\"white-space:pre;overflow-x:auto;line-height:normal;font-family:Menlo,'DejaVu Sans Mono',consolas,'Courier New',monospace\">Calibration Status:   PASS \n",
       "\n",
       "</pre>\n"
      ],
      "text/plain": [
       "<rich.jupyter.JupyterRenderable at 0x7fe7401b7a60>"
      ]
     },
     "metadata": {},
     "output_type": "display_data"
    },
    {
     "data": {
      "text/html": [
       "<pre style=\"white-space:pre;overflow-x:auto;line-height:normal;font-family:Menlo,'DejaVu Sans Mono',consolas,'Courier New',monospace\">Overall Health:   GOOD \n",
       "\n",
       "</pre>\n"
      ],
      "text/plain": [
       "<rich.jupyter.JupyterRenderable at 0x7fe724f86700>"
      ]
     },
     "metadata": {},
     "output_type": "display_data"
    },
    {
     "data": {
      "text/html": [
       "<pre style=\"white-space:pre;overflow-x:auto;line-height:normal;font-family:Menlo,'DejaVu Sans Mono',consolas,'Courier New',monospace\">Message:   No errors detected during calibration. \n",
       "\n",
       "</pre>\n"
      ],
      "text/plain": [
       "<rich.jupyter.JupyterRenderable at 0x7fe724f86c70>"
      ]
     },
     "metadata": {},
     "output_type": "display_data"
    },
    {
     "data": {
      "text/html": [
       "<pre style=\"white-space:pre;overflow-x:auto;line-height:normal;font-family:Menlo,'DejaVu Sans Mono',consolas,'Courier New',monospace\">\n",
       "-------------------\n",
       "\n",
       "</pre>\n"
      ],
      "text/plain": [
       "<rich.jupyter.JupyterRenderable at 0x7fe724f97790>"
      ]
     },
     "metadata": {},
     "output_type": "display_data"
    },
    {
     "data": {
      "text/html": [
       "<pre style=\"white-space:pre;overflow-x:auto;line-height:normal;font-family:Menlo,'DejaVu Sans Mono',consolas,'Courier New',monospace\"> Status Registers\n",
       "\n",
       "</pre>\n"
      ],
      "text/plain": [
       "<rich.jupyter.JupyterRenderable at 0x7fe724f97820>"
      ]
     },
     "metadata": {},
     "output_type": "display_data"
    },
    {
     "data": {
      "text/html": [
       "<pre style=\"white-space:pre;overflow-x:auto;line-height:normal;font-family:Menlo,'DejaVu Sans Mono',consolas,'Courier New',monospace\">-------------------\n",
       "\n",
       "</pre>\n"
      ],
      "text/plain": [
       "<rich.jupyter.JupyterRenderable at 0x7fe724f97790>"
      ]
     },
     "metadata": {},
     "output_type": "display_data"
    },
    {
     "data": {
      "text/html": [
       "<pre style=\"white-space:pre;overflow-x:auto;line-height:normal;font-family:Menlo,'DejaVu Sans Mono',consolas,'Courier New',monospace\">DDRMC ISR Table\n",
       "\n",
       "</pre>\n"
      ],
      "text/plain": [
       "<rich.jupyter.JupyterRenderable at 0x7fe724f97a00>"
      ]
     },
     "metadata": {},
     "output_type": "display_data"
    },
    {
     "data": {
      "text/html": [
       "<pre style=\"white-space:pre;overflow-x:auto;line-height:normal;font-family:Menlo,'DejaVu Sans Mono',consolas,'Courier New',monospace\">   ddrmc_isr_ce0_ecc0 :   <span style=\"color: #000080; text-decoration-color: #000080; font-weight: bold\">0</span>\n",
       "</pre>\n"
      ],
      "text/plain": [
       "<rich.jupyter.JupyterRenderable at 0x7fe724f97df0>"
      ]
     },
     "metadata": {},
     "output_type": "display_data"
    },
    {
     "data": {
      "text/html": [
       "<pre style=\"white-space:pre;overflow-x:auto;line-height:normal;font-family:Menlo,'DejaVu Sans Mono',consolas,'Courier New',monospace\">   ddrmc_isr_ce0_ecc1 :   <span style=\"color: #000080; text-decoration-color: #000080; font-weight: bold\">0</span>\n",
       "</pre>\n"
      ],
      "text/plain": [
       "<rich.jupyter.JupyterRenderable at 0x7fe724f97280>"
      ]
     },
     "metadata": {},
     "output_type": "display_data"
    },
    {
     "data": {
      "text/html": [
       "<pre style=\"white-space:pre;overflow-x:auto;line-height:normal;font-family:Menlo,'DejaVu Sans Mono',consolas,'Courier New',monospace\">   ddrmc_isr_ce1_ecc0 :   <span style=\"color: #000080; text-decoration-color: #000080; font-weight: bold\">0</span>\n",
       "</pre>\n"
      ],
      "text/plain": [
       "<rich.jupyter.JupyterRenderable at 0x7fe724f97f70>"
      ]
     },
     "metadata": {},
     "output_type": "display_data"
    },
    {
     "data": {
      "text/html": [
       "<pre style=\"white-space:pre;overflow-x:auto;line-height:normal;font-family:Menlo,'DejaVu Sans Mono',consolas,'Courier New',monospace\">   ddrmc_isr_ce1_ecc1 :   <span style=\"color: #000080; text-decoration-color: #000080; font-weight: bold\">0</span>\n",
       "</pre>\n"
      ],
      "text/plain": [
       "<rich.jupyter.JupyterRenderable at 0x7fe724f97dc0>"
      ]
     },
     "metadata": {},
     "output_type": "display_data"
    },
    {
     "data": {
      "text/html": [
       "<pre style=\"white-space:pre;overflow-x:auto;line-height:normal;font-family:Menlo,'DejaVu Sans Mono',consolas,'Courier New',monospace\">   ddrmc_isr_ch0_data_par :   <span style=\"color: #000080; text-decoration-color: #000080; font-weight: bold\">0</span>\n",
       "</pre>\n"
      ],
      "text/plain": [
       "<rich.jupyter.JupyterRenderable at 0x7fe724f97e50>"
      ]
     },
     "metadata": {},
     "output_type": "display_data"
    },
    {
     "data": {
      "text/html": [
       "<pre style=\"white-space:pre;overflow-x:auto;line-height:normal;font-family:Menlo,'DejaVu Sans Mono',consolas,'Courier New',monospace\">   ddrmc_isr_ch1_data_par :   <span style=\"color: #000080; text-decoration-color: #000080; font-weight: bold\">0</span>\n",
       "</pre>\n"
      ],
      "text/plain": [
       "<rich.jupyter.JupyterRenderable at 0x7fe724f97f40>"
      ]
     },
     "metadata": {},
     "output_type": "display_data"
    },
    {
     "data": {
      "text/html": [
       "<pre style=\"white-space:pre;overflow-x:auto;line-height:normal;font-family:Menlo,'DejaVu Sans Mono',consolas,'Courier New',monospace\">   ddrmc_isr_dc_cmd0_fatal :   <span style=\"color: #000080; text-decoration-color: #000080; font-weight: bold\">0</span>\n",
       "</pre>\n"
      ],
      "text/plain": [
       "<rich.jupyter.JupyterRenderable at 0x7fe724f97e20>"
      ]
     },
     "metadata": {},
     "output_type": "display_data"
    },
    {
     "data": {
      "text/html": [
       "<pre style=\"white-space:pre;overflow-x:auto;line-height:normal;font-family:Menlo,'DejaVu Sans Mono',consolas,'Courier New',monospace\">   ddrmc_isr_dc_cmd1_fatal :   <span style=\"color: #000080; text-decoration-color: #000080; font-weight: bold\">0</span>\n",
       "</pre>\n"
      ],
      "text/plain": [
       "<rich.jupyter.JupyterRenderable at 0x7fe724f97e80>"
      ]
     },
     "metadata": {},
     "output_type": "display_data"
    },
    {
     "data": {
      "text/html": [
       "<pre style=\"white-space:pre;overflow-x:auto;line-height:normal;font-family:Menlo,'DejaVu Sans Mono',consolas,'Courier New',monospace\">   ddrmc_isr_dram_parity0 :   <span style=\"color: #000080; text-decoration-color: #000080; font-weight: bold\">0</span>\n",
       "</pre>\n"
      ],
      "text/plain": [
       "<rich.jupyter.JupyterRenderable at 0x7fe724f97940>"
      ]
     },
     "metadata": {},
     "output_type": "display_data"
    },
    {
     "data": {
      "text/html": [
       "<pre style=\"white-space:pre;overflow-x:auto;line-height:normal;font-family:Menlo,'DejaVu Sans Mono',consolas,'Courier New',monospace\">   ddrmc_isr_dram_parity1 :   <span style=\"color: #000080; text-decoration-color: #000080; font-weight: bold\">0</span>\n",
       "</pre>\n"
      ],
      "text/plain": [
       "<rich.jupyter.JupyterRenderable at 0x7fe724f979a0>"
      ]
     },
     "metadata": {},
     "output_type": "display_data"
    },
    {
     "data": {
      "text/html": [
       "<pre style=\"white-space:pre;overflow-x:auto;line-height:normal;font-family:Menlo,'DejaVu Sans Mono',consolas,'Courier New',monospace\">   ddrmc_isr_dram_parity_fatal_0 :   <span style=\"color: #000080; text-decoration-color: #000080; font-weight: bold\">0</span>\n",
       "</pre>\n"
      ],
      "text/plain": [
       "<rich.jupyter.JupyterRenderable at 0x7fe724f97d90>"
      ]
     },
     "metadata": {},
     "output_type": "display_data"
    },
    {
     "data": {
      "text/html": [
       "<pre style=\"white-space:pre;overflow-x:auto;line-height:normal;font-family:Menlo,'DejaVu Sans Mono',consolas,'Courier New',monospace\">   ddrmc_isr_dram_parity_fatal_1 :   <span style=\"color: #000080; text-decoration-color: #000080; font-weight: bold\">0</span>\n",
       "</pre>\n"
      ],
      "text/plain": [
       "<rich.jupyter.JupyterRenderable at 0x7fe724f97ee0>"
      ]
     },
     "metadata": {},
     "output_type": "display_data"
    },
    {
     "data": {
      "text/html": [
       "<pre style=\"white-space:pre;overflow-x:auto;line-height:normal;font-family:Menlo,'DejaVu Sans Mono',consolas,'Courier New',monospace\">   ddrmc_isr_na_cmd :   <span style=\"color: #000080; text-decoration-color: #000080; font-weight: bold\">0</span>\n",
       "</pre>\n"
      ],
      "text/plain": [
       "<rich.jupyter.JupyterRenderable at 0x7fe724f97280>"
      ]
     },
     "metadata": {},
     "output_type": "display_data"
    },
    {
     "data": {
      "text/html": [
       "<pre style=\"white-space:pre;overflow-x:auto;line-height:normal;font-family:Menlo,'DejaVu Sans Mono',consolas,'Courier New',monospace\">   ddrmc_isr_na_cmd0 :   <span style=\"color: #000080; text-decoration-color: #000080; font-weight: bold\">0</span>\n",
       "</pre>\n"
      ],
      "text/plain": [
       "<rich.jupyter.JupyterRenderable at 0x7fe724f97df0>"
      ]
     },
     "metadata": {},
     "output_type": "display_data"
    },
    {
     "data": {
      "text/html": [
       "<pre style=\"white-space:pre;overflow-x:auto;line-height:normal;font-family:Menlo,'DejaVu Sans Mono',consolas,'Courier New',monospace\">   ddrmc_isr_na_cmd1 :   <span style=\"color: #000080; text-decoration-color: #000080; font-weight: bold\">0</span>\n",
       "</pre>\n"
      ],
      "text/plain": [
       "<rich.jupyter.JupyterRenderable at 0x7fe724f97d60>"
      ]
     },
     "metadata": {},
     "output_type": "display_data"
    },
    {
     "data": {
      "text/html": [
       "<pre style=\"white-space:pre;overflow-x:auto;line-height:normal;font-family:Menlo,'DejaVu Sans Mono',consolas,'Courier New',monospace\">   ddrmc_isr_na_cmd_fatal :   <span style=\"color: #000080; text-decoration-color: #000080; font-weight: bold\">0</span>\n",
       "</pre>\n"
      ],
      "text/plain": [
       "<rich.jupyter.JupyterRenderable at 0x7fe724f971f0>"
      ]
     },
     "metadata": {},
     "output_type": "display_data"
    },
    {
     "data": {
      "text/html": [
       "<pre style=\"white-space:pre;overflow-x:auto;line-height:normal;font-family:Menlo,'DejaVu Sans Mono',consolas,'Courier New',monospace\">   ddrmc_isr_nsu_0 :   <span style=\"color: #000080; text-decoration-color: #000080; font-weight: bold\">0</span>\n",
       "</pre>\n"
      ],
      "text/plain": [
       "<rich.jupyter.JupyterRenderable at 0x7fe724f97e20>"
      ]
     },
     "metadata": {},
     "output_type": "display_data"
    },
    {
     "data": {
      "text/html": [
       "<pre style=\"white-space:pre;overflow-x:auto;line-height:normal;font-family:Menlo,'DejaVu Sans Mono',consolas,'Courier New',monospace\">   ddrmc_isr_nsu_1 :   <span style=\"color: #000080; text-decoration-color: #000080; font-weight: bold\">0</span>\n",
       "</pre>\n"
      ],
      "text/plain": [
       "<rich.jupyter.JupyterRenderable at 0x7fe724f97fa0>"
      ]
     },
     "metadata": {},
     "output_type": "display_data"
    },
    {
     "data": {
      "text/html": [
       "<pre style=\"white-space:pre;overflow-x:auto;line-height:normal;font-family:Menlo,'DejaVu Sans Mono',consolas,'Courier New',monospace\">   ddrmc_isr_nsu_2 :   <span style=\"color: #000080; text-decoration-color: #000080; font-weight: bold\">0</span>\n",
       "</pre>\n"
      ],
      "text/plain": [
       "<rich.jupyter.JupyterRenderable at 0x7fe724f97d90>"
      ]
     },
     "metadata": {},
     "output_type": "display_data"
    },
    {
     "data": {
      "text/html": [
       "<pre style=\"white-space:pre;overflow-x:auto;line-height:normal;font-family:Menlo,'DejaVu Sans Mono',consolas,'Courier New',monospace\">   ddrmc_isr_nsu_3 :   <span style=\"color: #000080; text-decoration-color: #000080; font-weight: bold\">0</span>\n",
       "</pre>\n"
      ],
      "text/plain": [
       "<rich.jupyter.JupyterRenderable at 0x7fe724f97e50>"
      ]
     },
     "metadata": {},
     "output_type": "display_data"
    },
    {
     "data": {
      "text/html": [
       "<pre style=\"white-space:pre;overflow-x:auto;line-height:normal;font-family:Menlo,'DejaVu Sans Mono',consolas,'Courier New',monospace\">   ddrmc_isr_nsu_fatal0 :   <span style=\"color: #000080; text-decoration-color: #000080; font-weight: bold\">0</span>\n",
       "</pre>\n"
      ],
      "text/plain": [
       "<rich.jupyter.JupyterRenderable at 0x7fe724f979a0>"
      ]
     },
     "metadata": {},
     "output_type": "display_data"
    },
    {
     "data": {
      "text/html": [
       "<pre style=\"white-space:pre;overflow-x:auto;line-height:normal;font-family:Menlo,'DejaVu Sans Mono',consolas,'Courier New',monospace\">   ddrmc_isr_nsu_fatal1 :   <span style=\"color: #000080; text-decoration-color: #000080; font-weight: bold\">0</span>\n",
       "</pre>\n"
      ],
      "text/plain": [
       "<rich.jupyter.JupyterRenderable at 0x7fe724f97f70>"
      ]
     },
     "metadata": {},
     "output_type": "display_data"
    },
    {
     "data": {
      "text/html": [
       "<pre style=\"white-space:pre;overflow-x:auto;line-height:normal;font-family:Menlo,'DejaVu Sans Mono',consolas,'Courier New',monospace\">   ddrmc_isr_nsu_fatal2 :   <span style=\"color: #000080; text-decoration-color: #000080; font-weight: bold\">0</span>\n",
       "</pre>\n"
      ],
      "text/plain": [
       "<rich.jupyter.JupyterRenderable at 0x7fe724f97d60>"
      ]
     },
     "metadata": {},
     "output_type": "display_data"
    },
    {
     "data": {
      "text/html": [
       "<pre style=\"white-space:pre;overflow-x:auto;line-height:normal;font-family:Menlo,'DejaVu Sans Mono',consolas,'Courier New',monospace\">   ddrmc_isr_nsu_fatal3 :   <span style=\"color: #000080; text-decoration-color: #000080; font-weight: bold\">0</span>\n",
       "</pre>\n"
      ],
      "text/plain": [
       "<rich.jupyter.JupyterRenderable at 0x7fe724f97f40>"
      ]
     },
     "metadata": {},
     "output_type": "display_data"
    },
    {
     "data": {
      "text/html": [
       "<pre style=\"white-space:pre;overflow-x:auto;line-height:normal;font-family:Menlo,'DejaVu Sans Mono',consolas,'Courier New',monospace\">   ddrmc_isr_uc0_ecc0 :   <span style=\"color: #000080; text-decoration-color: #000080; font-weight: bold\">0</span>\n",
       "</pre>\n"
      ],
      "text/plain": [
       "<rich.jupyter.JupyterRenderable at 0x7fe724f97ee0>"
      ]
     },
     "metadata": {},
     "output_type": "display_data"
    },
    {
     "data": {
      "text/html": [
       "<pre style=\"white-space:pre;overflow-x:auto;line-height:normal;font-family:Menlo,'DejaVu Sans Mono',consolas,'Courier New',monospace\">   ddrmc_isr_uc0_ecc1 :   <span style=\"color: #000080; text-decoration-color: #000080; font-weight: bold\">0</span>\n",
       "</pre>\n"
      ],
      "text/plain": [
       "<rich.jupyter.JupyterRenderable at 0x7fe724f97fd0>"
      ]
     },
     "metadata": {},
     "output_type": "display_data"
    },
    {
     "data": {
      "text/html": [
       "<pre style=\"white-space:pre;overflow-x:auto;line-height:normal;font-family:Menlo,'DejaVu Sans Mono',consolas,'Courier New',monospace\">   ddrmc_isr_uc1_ecc0 :   <span style=\"color: #000080; text-decoration-color: #000080; font-weight: bold\">0</span>\n",
       "</pre>\n"
      ],
      "text/plain": [
       "<rich.jupyter.JupyterRenderable at 0x7fe724f97730>"
      ]
     },
     "metadata": {},
     "output_type": "display_data"
    },
    {
     "data": {
      "text/html": [
       "<pre style=\"white-space:pre;overflow-x:auto;line-height:normal;font-family:Menlo,'DejaVu Sans Mono',consolas,'Courier New',monospace\">   ddrmc_isr_uc1_ecc1 :   <span style=\"color: #000080; text-decoration-color: #000080; font-weight: bold\">0</span>\n",
       "</pre>\n"
      ],
      "text/plain": [
       "<rich.jupyter.JupyterRenderable at 0x7fe724f97e50>"
      ]
     },
     "metadata": {},
     "output_type": "display_data"
    },
    {
     "data": {
      "text/html": [
       "<pre style=\"white-space:pre;overflow-x:auto;line-height:normal;font-family:Menlo,'DejaVu Sans Mono',consolas,'Courier New',monospace\">\n",
       "UB ISR Table\n",
       "\n",
       "</pre>\n"
      ],
      "text/plain": [
       "<rich.jupyter.JupyterRenderable at 0x7fe724f971f0>"
      ]
     },
     "metadata": {},
     "output_type": "display_data"
    },
    {
     "data": {
      "text/html": [
       "<pre style=\"white-space:pre;overflow-x:auto;line-height:normal;font-family:Menlo,'DejaVu Sans Mono',consolas,'Courier New',monospace\">   ub_data_ce :   <span style=\"color: #000080; text-decoration-color: #000080; font-weight: bold\">0</span>\n",
       "</pre>\n"
      ],
      "text/plain": [
       "<rich.jupyter.JupyterRenderable at 0x7fe724f97d00>"
      ]
     },
     "metadata": {},
     "output_type": "display_data"
    },
    {
     "data": {
      "text/html": [
       "<pre style=\"white-space:pre;overflow-x:auto;line-height:normal;font-family:Menlo,'DejaVu Sans Mono',consolas,'Courier New',monospace\">   ub_data_ue :   <span style=\"color: #000080; text-decoration-color: #000080; font-weight: bold\">0</span>\n",
       "</pre>\n"
      ],
      "text/plain": [
       "<rich.jupyter.JupyterRenderable at 0x7fe724f97d30>"
      ]
     },
     "metadata": {},
     "output_type": "display_data"
    },
    {
     "data": {
      "text/html": [
       "<pre style=\"white-space:pre;overflow-x:auto;line-height:normal;font-family:Menlo,'DejaVu Sans Mono',consolas,'Courier New',monospace\">   ub_instr_ce :   <span style=\"color: #000080; text-decoration-color: #000080; font-weight: bold\">0</span>\n",
       "</pre>\n"
      ],
      "text/plain": [
       "<rich.jupyter.JupyterRenderable at 0x7fe724f97b80>"
      ]
     },
     "metadata": {},
     "output_type": "display_data"
    },
    {
     "data": {
      "text/html": [
       "<pre style=\"white-space:pre;overflow-x:auto;line-height:normal;font-family:Menlo,'DejaVu Sans Mono',consolas,'Courier New',monospace\">   ub_isntr_ue :   <span style=\"color: #000080; text-decoration-color: #000080; font-weight: bold\">0</span>\n",
       "</pre>\n"
      ],
      "text/plain": [
       "<rich.jupyter.JupyterRenderable at 0x7fe724f977c0>"
      ]
     },
     "metadata": {},
     "output_type": "display_data"
    },
    {
     "data": {
      "text/html": [
       "<pre style=\"white-space:pre;overflow-x:auto;line-height:normal;font-family:Menlo,'DejaVu Sans Mono',consolas,'Courier New',monospace\">   ub_isr_calerror :   <span style=\"color: #000080; text-decoration-color: #000080; font-weight: bold\">0</span>\n",
       "</pre>\n"
      ],
      "text/plain": [
       "<rich.jupyter.JupyterRenderable at 0x7fe724f972e0>"
      ]
     },
     "metadata": {},
     "output_type": "display_data"
    },
    {
     "data": {
      "text/html": [
       "<pre style=\"white-space:pre;overflow-x:auto;line-height:normal;font-family:Menlo,'DejaVu Sans Mono',consolas,'Courier New',monospace\">   ub_isr_vt_track_err :   <span style=\"color: #000080; text-decoration-color: #000080; font-weight: bold\">0</span>\n",
       "</pre>\n"
      ],
      "text/plain": [
       "<rich.jupyter.JupyterRenderable at 0x7fe724f97850>"
      ]
     },
     "metadata": {},
     "output_type": "display_data"
    },
    {
     "data": {
      "text/html": [
       "<pre style=\"white-space:pre;overflow-x:auto;line-height:normal;font-family:Menlo,'DejaVu Sans Mono',consolas,'Courier New',monospace\">   ub_isr_watchdog :   <span style=\"color: #000080; text-decoration-color: #000080; font-weight: bold\">0</span>\n",
       "</pre>\n"
      ],
      "text/plain": [
       "<rich.jupyter.JupyterRenderable at 0x7fe724f97a00>"
      ]
     },
     "metadata": {},
     "output_type": "display_data"
    },
    {
     "data": {
      "text/html": [
       "<pre style=\"white-space:pre;overflow-x:auto;line-height:normal;font-family:Menlo,'DejaVu Sans Mono',consolas,'Courier New',monospace\">   ub_ub_msg :   <span style=\"color: #000080; text-decoration-color: #000080; font-weight: bold\">0</span>\n",
       "</pre>\n"
      ],
      "text/plain": [
       "<rich.jupyter.JupyterRenderable at 0x7fe724f97ca0>"
      ]
     },
     "metadata": {},
     "output_type": "display_data"
    },
    {
     "data": {
      "text/html": [
       "<pre style=\"white-space:pre;overflow-x:auto;line-height:normal;font-family:Menlo,'DejaVu Sans Mono',consolas,'Courier New',monospace\">\n",
       "----------------------------------\n",
       "\n",
       "</pre>\n"
      ],
      "text/plain": [
       "<rich.jupyter.JupyterRenderable at 0x7fe724f97910>"
      ]
     },
     "metadata": {},
     "output_type": "display_data"
    },
    {
     "data": {
      "text/html": [
       "<pre style=\"white-space:pre;overflow-x:auto;line-height:normal;font-family:Menlo,'DejaVu Sans Mono',consolas,'Courier New',monospace\"> Memory Configuration \n",
       "\n",
       "</pre>\n"
      ],
      "text/plain": [
       "<rich.jupyter.JupyterRenderable at 0x7fe724f97ac0>"
      ]
     },
     "metadata": {},
     "output_type": "display_data"
    },
    {
     "data": {
      "text/html": [
       "<pre style=\"white-space:pre;overflow-x:auto;line-height:normal;font-family:Menlo,'DejaVu Sans Mono',consolas,'Courier New',monospace\">----------------------------------\n",
       "\n",
       "</pre>\n"
      ],
      "text/plain": [
       "<rich.jupyter.JupyterRenderable at 0x7fe724f97910>"
      ]
     },
     "metadata": {},
     "output_type": "display_data"
    },
    {
     "data": {
      "text/html": [
       "<pre style=\"white-space:pre;overflow-x:auto;line-height:normal;font-family:Menlo,'DejaVu Sans Mono',consolas,'Courier New',monospace\">DDRMC Core Name :   ddr_0\n",
       "</pre>\n"
      ],
      "text/plain": [
       "<rich.jupyter.JupyterRenderable at 0x7fe724f9aa90>"
      ]
     },
     "metadata": {},
     "output_type": "display_data"
    },
    {
     "data": {
      "text/html": [
       "<pre style=\"white-space:pre;overflow-x:auto;line-height:normal;font-family:Menlo,'DejaVu Sans Mono',consolas,'Courier New',monospace\">Memory Interface :   DDR4\n",
       "</pre>\n"
      ],
      "text/plain": [
       "<rich.jupyter.JupyterRenderable at 0x7fe724f9aac0>"
      ]
     },
     "metadata": {},
     "output_type": "display_data"
    },
    {
     "data": {
      "text/html": [
       "<pre style=\"white-space:pre;overflow-x:auto;line-height:normal;font-family:Menlo,'DejaVu Sans Mono',consolas,'Courier New',monospace\">Device Type :   UDIMM\n",
       "</pre>\n"
      ],
      "text/plain": [
       "<rich.jupyter.JupyterRenderable at 0x7fe724f9abe0>"
      ]
     },
     "metadata": {},
     "output_type": "display_data"
    },
    {
     "data": {
      "text/html": [
       "<pre style=\"white-space:pre;overflow-x:auto;line-height:normal;font-family:Menlo,'DejaVu Sans Mono',consolas,'Courier New',monospace\">MC Location :   x0y0\n",
       "</pre>\n"
      ],
      "text/plain": [
       "<rich.jupyter.JupyterRenderable at 0x7fe724f9aca0>"
      ]
     },
     "metadata": {},
     "output_type": "display_data"
    },
    {
     "data": {
      "text/html": [
       "<pre style=\"white-space:pre;overflow-x:auto;line-height:normal;font-family:Menlo,'DejaVu Sans Mono',consolas,'Courier New',monospace\">Slots :   <span style=\"color: #000080; text-decoration-color: #000080; font-weight: bold\">1</span>\n",
       "</pre>\n"
      ],
      "text/plain": [
       "<rich.jupyter.JupyterRenderable at 0x7fe724f9abb0>"
      ]
     },
     "metadata": {},
     "output_type": "display_data"
    },
    {
     "data": {
      "text/html": [
       "<pre style=\"white-space:pre;overflow-x:auto;line-height:normal;font-family:Menlo,'DejaVu Sans Mono',consolas,'Courier New',monospace\">Ranks :   <span style=\"color: #000080; text-decoration-color: #000080; font-weight: bold\">1</span>\n",
       "</pre>\n"
      ],
      "text/plain": [
       "<rich.jupyter.JupyterRenderable at 0x7fe724f9ac70>"
      ]
     },
     "metadata": {},
     "output_type": "display_data"
    },
    {
     "data": {
      "text/html": [
       "<pre style=\"white-space:pre;overflow-x:auto;line-height:normal;font-family:Menlo,'DejaVu Sans Mono',consolas,'Courier New',monospace\">Data Width :   <span style=\"color: #000080; text-decoration-color: #000080; font-weight: bold\">64</span>\n",
       "</pre>\n"
      ],
      "text/plain": [
       "<rich.jupyter.JupyterRenderable at 0x7fe724f9ad00>"
      ]
     },
     "metadata": {},
     "output_type": "display_data"
    },
    {
     "data": {
      "text/html": [
       "<pre style=\"white-space:pre;overflow-x:auto;line-height:normal;font-family:Menlo,'DejaVu Sans Mono',consolas,'Courier New',monospace\">Bytes :   <span style=\"color: #000080; text-decoration-color: #000080; font-weight: bold\">8</span>\n",
       "</pre>\n"
      ],
      "text/plain": [
       "<rich.jupyter.JupyterRenderable at 0x7fe724f9ad30>"
      ]
     },
     "metadata": {},
     "output_type": "display_data"
    },
    {
     "data": {
      "text/html": [
       "<pre style=\"white-space:pre;overflow-x:auto;line-height:normal;font-family:Menlo,'DejaVu Sans Mono',consolas,'Courier New',monospace\">Nibbles :   <span style=\"color: #000080; text-decoration-color: #000080; font-weight: bold\">16</span>\n",
       "</pre>\n"
      ],
      "text/plain": [
       "<rich.jupyter.JupyterRenderable at 0x7fe724f9ad60>"
      ]
     },
     "metadata": {},
     "output_type": "display_data"
    },
    {
     "data": {
      "text/html": [
       "<pre style=\"white-space:pre;overflow-x:auto;line-height:normal;font-family:Menlo,'DejaVu Sans Mono',consolas,'Courier New',monospace\">Bits per Byte :   <span style=\"color: #000080; text-decoration-color: #000080; font-weight: bold\">8</span>\n",
       "</pre>\n"
      ],
      "text/plain": [
       "<rich.jupyter.JupyterRenderable at 0x7fe724f9ad90>"
      ]
     },
     "metadata": {},
     "output_type": "display_data"
    },
    {
     "data": {
      "text/html": [
       "<pre style=\"white-space:pre;overflow-x:auto;line-height:normal;font-family:Menlo,'DejaVu Sans Mono',consolas,'Courier New',monospace\">Memory Frequency <span style=\"color: #000080; text-decoration-color: #000080; font-weight: bold\">0</span> :   <span style=\"color: #000080; text-decoration-color: #000080; font-weight: bold\">1600</span> MHz\n",
       "</pre>\n"
      ],
      "text/plain": [
       "<rich.jupyter.JupyterRenderable at 0x7fe724f9adc0>"
      ]
     },
     "metadata": {},
     "output_type": "display_data"
    },
    {
     "data": {
      "text/html": [
       "<pre style=\"white-space:pre;overflow-x:auto;line-height:normal;font-family:Menlo,'DejaVu Sans Mono',consolas,'Courier New',monospace\">\n",
       "-----------------------------------\n",
       "\n",
       "</pre>\n"
      ],
      "text/plain": [
       "<rich.jupyter.JupyterRenderable at 0x7fe724f9aa60>"
      ]
     },
     "metadata": {},
     "output_type": "display_data"
    },
    {
     "data": {
      "text/html": [
       "<pre style=\"white-space:pre;overflow-x:auto;line-height:normal;font-family:Menlo,'DejaVu Sans Mono',consolas,'Courier New',monospace\"> Calibration Stages Information \n",
       "\n",
       "</pre>\n"
      ],
      "text/plain": [
       "<rich.jupyter.JupyterRenderable at 0x7fe724f9aa00>"
      ]
     },
     "metadata": {},
     "output_type": "display_data"
    },
    {
     "data": {
      "text/html": [
       "<pre style=\"white-space:pre;overflow-x:auto;line-height:normal;font-family:Menlo,'DejaVu Sans Mono',consolas,'Courier New',monospace\">-----------------------------------\n",
       "\n",
       "</pre>\n"
      ],
      "text/plain": [
       "<rich.jupyter.JupyterRenderable at 0x7fe724f9aa60>"
      ]
     },
     "metadata": {},
     "output_type": "display_data"
    },
    {
     "data": {
      "text/html": [
       "<pre style=\"white-space:pre;overflow-x:auto;line-height:normal;font-family:Menlo,'DejaVu Sans Mono',consolas,'Courier New',monospace\">cal_stage.01_F0_PHY_BISC :   Pass\n",
       "</pre>\n"
      ],
      "text/plain": [
       "<rich.jupyter.JupyterRenderable at 0x7fe724f9a310>"
      ]
     },
     "metadata": {},
     "output_type": "display_data"
    },
    {
     "data": {
      "text/html": [
       "<pre style=\"white-space:pre;overflow-x:auto;line-height:normal;font-family:Menlo,'DejaVu Sans Mono',consolas,'Courier New',monospace\">cal_stage.02_F0_MEM_INIT :   Pass\n",
       "</pre>\n"
      ],
      "text/plain": [
       "<rich.jupyter.JupyterRenderable at 0x7fe724f9a340>"
      ]
     },
     "metadata": {},
     "output_type": "display_data"
    },
    {
     "data": {
      "text/html": [
       "<pre style=\"white-space:pre;overflow-x:auto;line-height:normal;font-family:Menlo,'DejaVu Sans Mono',consolas,'Courier New',monospace\">cal_stage.03_F0_DQS_GATE_CAL :   Pass\n",
       "</pre>\n"
      ],
      "text/plain": [
       "<rich.jupyter.JupyterRenderable at 0x7fe724f9a070>"
      ]
     },
     "metadata": {},
     "output_type": "display_data"
    },
    {
     "data": {
      "text/html": [
       "<pre style=\"white-space:pre;overflow-x:auto;line-height:normal;font-family:Menlo,'DejaVu Sans Mono',consolas,'Courier New',monospace\">cal_stage.04_F0_WRITE_LEVELING :   Pass\n",
       "</pre>\n"
      ],
      "text/plain": [
       "<rich.jupyter.JupyterRenderable at 0x7fe724f9a160>"
      ]
     },
     "metadata": {},
     "output_type": "display_data"
    },
    {
     "data": {
      "text/html": [
       "<pre style=\"white-space:pre;overflow-x:auto;line-height:normal;font-family:Menlo,'DejaVu Sans Mono',consolas,'Courier New',monospace\">cal_stage.05_F0_READ_DQ_CAL :   Pass\n",
       "</pre>\n"
      ],
      "text/plain": [
       "<rich.jupyter.JupyterRenderable at 0x7fe724f9a0a0>"
      ]
     },
     "metadata": {},
     "output_type": "display_data"
    },
    {
     "data": {
      "text/html": [
       "<pre style=\"white-space:pre;overflow-x:auto;line-height:normal;font-family:Menlo,'DejaVu Sans Mono',consolas,'Courier New',monospace\">cal_stage.06_F0_WRITE_DQ_DBI_CAL :   Pass\n",
       "</pre>\n"
      ],
      "text/plain": [
       "<rich.jupyter.JupyterRenderable at 0x7fe724f9a1c0>"
      ]
     },
     "metadata": {},
     "output_type": "display_data"
    },
    {
     "data": {
      "text/html": [
       "<pre style=\"white-space:pre;overflow-x:auto;line-height:normal;font-family:Menlo,'DejaVu Sans Mono',consolas,'Courier New',monospace\">cal_stage.07_F0_WRITE_LATENCY_CAL :   Pass\n",
       "</pre>\n"
      ],
      "text/plain": [
       "<rich.jupyter.JupyterRenderable at 0x7fe724f9a100>"
      ]
     },
     "metadata": {},
     "output_type": "display_data"
    },
    {
     "data": {
      "text/html": [
       "<pre style=\"white-space:pre;overflow-x:auto;line-height:normal;font-family:Menlo,'DejaVu Sans Mono',consolas,'Courier New',monospace\">cal_stage.08_F0_READ_DQ_DBI_CAL_COMPLEX :   Pass\n",
       "</pre>\n"
      ],
      "text/plain": [
       "<rich.jupyter.JupyterRenderable at 0x7fe724f9a310>"
      ]
     },
     "metadata": {},
     "output_type": "display_data"
    },
    {
     "data": {
      "text/html": [
       "<pre style=\"white-space:pre;overflow-x:auto;line-height:normal;font-family:Menlo,'DejaVu Sans Mono',consolas,'Courier New',monospace\">cal_stage.09_F0_WRITE_DQ_DBI_CAL_COMPLEX :   Pass\n",
       "</pre>\n"
      ],
      "text/plain": [
       "<rich.jupyter.JupyterRenderable at 0x7fe724f9a0d0>"
      ]
     },
     "metadata": {},
     "output_type": "display_data"
    },
    {
     "data": {
      "text/html": [
       "<pre style=\"white-space:pre;overflow-x:auto;line-height:normal;font-family:Menlo,'DejaVu Sans Mono',consolas,'Courier New',monospace\">cal_stage.10_EN_VT_TRACK :   Pass\n",
       "</pre>\n"
      ],
      "text/plain": [
       "<rich.jupyter.JupyterRenderable at 0x7fe724f9a130>"
      ]
     },
     "metadata": {},
     "output_type": "display_data"
    },
    {
     "data": {
      "text/html": [
       "<pre style=\"white-space:pre;overflow-x:auto;line-height:normal;font-family:Menlo,'DejaVu Sans Mono',consolas,'Courier New',monospace\">cal_stage.11_READ_DQS_TRACK :   Pass\n",
       "</pre>\n"
      ],
      "text/plain": [
       "<rich.jupyter.JupyterRenderable at 0x7fe724f9ad30>"
      ]
     },
     "metadata": {},
     "output_type": "display_data"
    },
    {
     "data": {
      "text/html": [
       "<pre style=\"white-space:pre;overflow-x:auto;line-height:normal;font-family:Menlo,'DejaVu Sans Mono',consolas,'Courier New',monospace\">cal_stage.12_CAL_DONE :   Pass\n",
       "</pre>\n"
      ],
      "text/plain": [
       "<rich.jupyter.JupyterRenderable at 0x7fe724f9a3d0>"
      ]
     },
     "metadata": {},
     "output_type": "display_data"
    },
    {
     "data": {
      "text/html": [
       "<pre style=\"white-space:pre;overflow-x:auto;line-height:normal;font-family:Menlo,'DejaVu Sans Mono',consolas,'Courier New',monospace\">\n",
       "---------------------------------------\n",
       "\n",
       "</pre>\n"
      ],
      "text/plain": [
       "<rich.jupyter.JupyterRenderable at 0x7fe724f9a2b0>"
      ]
     },
     "metadata": {},
     "output_type": "display_data"
    },
    {
     "data": {
      "text/html": [
       "<pre style=\"white-space:pre;overflow-x:auto;line-height:normal;font-family:Menlo,'DejaVu Sans Mono',consolas,'Courier New',monospace\"> Calibration Window Margin Analysis \n",
       "\n",
       "</pre>\n"
      ],
      "text/plain": [
       "<rich.jupyter.JupyterRenderable at 0x7fe724f9ad30>"
      ]
     },
     "metadata": {},
     "output_type": "display_data"
    },
    {
     "data": {
      "text/html": [
       "<pre style=\"white-space:pre;overflow-x:auto;line-height:normal;font-family:Menlo,'DejaVu Sans Mono',consolas,'Courier New',monospace\">---------------------------------------\n",
       "\n",
       "</pre>\n"
      ],
      "text/plain": [
       "<rich.jupyter.JupyterRenderable at 0x7fe724f9a2b0>"
      ]
     },
     "metadata": {},
     "output_type": "display_data"
    },
    {
     "data": {
      "text/html": [
       "<pre style=\"white-space:pre;overflow-x:auto;line-height:normal;font-family:Menlo,'DejaVu Sans Mono',consolas,'Courier New',monospace\">\n",
       " Frequency <span style=\"color: #000080; text-decoration-color: #000080; font-weight: bold\">0</span>  - Read Margin - Simple Pattern - Rising Edge Clock in pS and <span style=\"font-weight: bold\">(</span>delay taps<span style=\"font-weight: bold\">)</span>:\n",
       "\n",
       "</pre>\n"
      ],
      "text/plain": [
       "<rich.jupyter.JupyterRenderable at 0x7fe7401b7610>"
      ]
     },
     "metadata": {},
     "output_type": "display_data"
    },
    {
     "data": {
      "text/html": [
       "<pre style=\"white-space:pre;overflow-x:auto;line-height:normal;font-family:Menlo,'DejaVu Sans Mono',consolas,'Courier New',monospace\">Byte  <span style=\"color: #000080; text-decoration-color: #000080; font-weight: bold\">0</span>  Nibble <span style=\"color: #000080; text-decoration-color: #000080; font-weight: bold\">0</span>  -   Left Margin:   <span style=\"color: #000080; text-decoration-color: #000080; font-weight: bold\">136</span>  <span style=\"font-weight: bold\">(</span> <span style=\"color: #000080; text-decoration-color: #000080; font-weight: bold\">68</span> <span style=\"font-weight: bold\">)</span>  Center Point:   <span style=\"color: #000080; text-decoration-color: #000080; font-weight: bold\">172</span>  <span style=\"font-weight: bold\">(</span> <span style=\"color: #000080; text-decoration-color: #000080; font-weight: bold\">86</span> <span style=\"font-weight: bold\">)</span>  Right Margin:\n",
       "<span style=\"color: #000080; text-decoration-color: #000080; font-weight: bold\">138</span>  <span style=\"font-weight: bold\">(</span> <span style=\"color: #000080; text-decoration-color: #000080; font-weight: bold\">69</span> <span style=\"font-weight: bold\">)</span>\n",
       "</pre>\n"
      ],
      "text/plain": [
       "<rich.jupyter.JupyterRenderable at 0x7fe7401b7610>"
      ]
     },
     "metadata": {},
     "output_type": "display_data"
    },
    {
     "data": {
      "text/html": [
       "<pre style=\"white-space:pre;overflow-x:auto;line-height:normal;font-family:Menlo,'DejaVu Sans Mono',consolas,'Courier New',monospace\">Byte  <span style=\"color: #000080; text-decoration-color: #000080; font-weight: bold\">0</span>  Nibble <span style=\"color: #000080; text-decoration-color: #000080; font-weight: bold\">1</span>  -   Left Margin:   <span style=\"color: #000080; text-decoration-color: #000080; font-weight: bold\">141</span>  <span style=\"font-weight: bold\">(</span> <span style=\"color: #000080; text-decoration-color: #000080; font-weight: bold\">68</span> <span style=\"font-weight: bold\">)</span>  Center Point:   <span style=\"color: #000080; text-decoration-color: #000080; font-weight: bold\">179</span>  <span style=\"font-weight: bold\">(</span> <span style=\"color: #000080; text-decoration-color: #000080; font-weight: bold\">86</span> <span style=\"font-weight: bold\">)</span>  Right Margin:\n",
       "<span style=\"color: #000080; text-decoration-color: #000080; font-weight: bold\">143</span>  <span style=\"font-weight: bold\">(</span> <span style=\"color: #000080; text-decoration-color: #000080; font-weight: bold\">69</span> <span style=\"font-weight: bold\">)</span>\n",
       "</pre>\n"
      ],
      "text/plain": [
       "<rich.jupyter.JupyterRenderable at 0x7fe7401b7610>"
      ]
     },
     "metadata": {},
     "output_type": "display_data"
    },
    {
     "data": {
      "text/html": [
       "<pre style=\"white-space:pre;overflow-x:auto;line-height:normal;font-family:Menlo,'DejaVu Sans Mono',consolas,'Courier New',monospace\">Byte  <span style=\"color: #000080; text-decoration-color: #000080; font-weight: bold\">1</span>  Nibble <span style=\"color: #000080; text-decoration-color: #000080; font-weight: bold\">0</span>  -   Left Margin:   <span style=\"color: #000080; text-decoration-color: #000080; font-weight: bold\">144</span>  <span style=\"font-weight: bold\">(</span> <span style=\"color: #000080; text-decoration-color: #000080; font-weight: bold\">72</span> <span style=\"font-weight: bold\">)</span>  Center Point:   <span style=\"color: #000080; text-decoration-color: #000080; font-weight: bold\">180</span>  <span style=\"font-weight: bold\">(</span> <span style=\"color: #000080; text-decoration-color: #000080; font-weight: bold\">90</span> <span style=\"font-weight: bold\">)</span>  Right Margin:\n",
       "<span style=\"color: #000080; text-decoration-color: #000080; font-weight: bold\">146</span>  <span style=\"font-weight: bold\">(</span> <span style=\"color: #000080; text-decoration-color: #000080; font-weight: bold\">73</span> <span style=\"font-weight: bold\">)</span>\n",
       "</pre>\n"
      ],
      "text/plain": [
       "<rich.jupyter.JupyterRenderable at 0x7fe7401b7610>"
      ]
     },
     "metadata": {},
     "output_type": "display_data"
    },
    {
     "data": {
      "text/html": [
       "<pre style=\"white-space:pre;overflow-x:auto;line-height:normal;font-family:Menlo,'DejaVu Sans Mono',consolas,'Courier New',monospace\">Byte  <span style=\"color: #000080; text-decoration-color: #000080; font-weight: bold\">1</span>  Nibble <span style=\"color: #000080; text-decoration-color: #000080; font-weight: bold\">1</span>  -   Left Margin:   <span style=\"color: #000080; text-decoration-color: #000080; font-weight: bold\">146</span>  <span style=\"font-weight: bold\">(</span> <span style=\"color: #000080; text-decoration-color: #000080; font-weight: bold\">72</span> <span style=\"font-weight: bold\">)</span>  Center Point:   <span style=\"color: #000080; text-decoration-color: #000080; font-weight: bold\">183</span>  <span style=\"font-weight: bold\">(</span> <span style=\"color: #000080; text-decoration-color: #000080; font-weight: bold\">90</span> <span style=\"font-weight: bold\">)</span>  Right Margin:\n",
       "<span style=\"color: #000080; text-decoration-color: #000080; font-weight: bold\">148</span>  <span style=\"font-weight: bold\">(</span> <span style=\"color: #000080; text-decoration-color: #000080; font-weight: bold\">73</span> <span style=\"font-weight: bold\">)</span>\n",
       "</pre>\n"
      ],
      "text/plain": [
       "<rich.jupyter.JupyterRenderable at 0x7fe7401b7610>"
      ]
     },
     "metadata": {},
     "output_type": "display_data"
    },
    {
     "data": {
      "text/html": [
       "<pre style=\"white-space:pre;overflow-x:auto;line-height:normal;font-family:Menlo,'DejaVu Sans Mono',consolas,'Courier New',monospace\">Byte  <span style=\"color: #000080; text-decoration-color: #000080; font-weight: bold\">2</span>  Nibble <span style=\"color: #000080; text-decoration-color: #000080; font-weight: bold\">0</span>  -   Left Margin:   <span style=\"color: #000080; text-decoration-color: #000080; font-weight: bold\">150</span>  <span style=\"font-weight: bold\">(</span> <span style=\"color: #000080; text-decoration-color: #000080; font-weight: bold\">73</span> <span style=\"font-weight: bold\">)</span>  Center Point:   <span style=\"color: #000080; text-decoration-color: #000080; font-weight: bold\">187</span>  <span style=\"font-weight: bold\">(</span> <span style=\"color: #000080; text-decoration-color: #000080; font-weight: bold\">91</span> <span style=\"font-weight: bold\">)</span>  Right Margin:\n",
       "<span style=\"color: #000080; text-decoration-color: #000080; font-weight: bold\">152</span>  <span style=\"font-weight: bold\">(</span> <span style=\"color: #000080; text-decoration-color: #000080; font-weight: bold\">74</span> <span style=\"font-weight: bold\">)</span>\n",
       "</pre>\n"
      ],
      "text/plain": [
       "<rich.jupyter.JupyterRenderable at 0x7fe7401b7610>"
      ]
     },
     "metadata": {},
     "output_type": "display_data"
    },
    {
     "data": {
      "text/html": [
       "<pre style=\"white-space:pre;overflow-x:auto;line-height:normal;font-family:Menlo,'DejaVu Sans Mono',consolas,'Courier New',monospace\">Byte  <span style=\"color: #000080; text-decoration-color: #000080; font-weight: bold\">2</span>  Nibble <span style=\"color: #000080; text-decoration-color: #000080; font-weight: bold\">1</span>  -   Left Margin:   <span style=\"color: #000080; text-decoration-color: #000080; font-weight: bold\">152</span>  <span style=\"font-weight: bold\">(</span> <span style=\"color: #000080; text-decoration-color: #000080; font-weight: bold\">72</span> <span style=\"font-weight: bold\">)</span>  Center Point:   <span style=\"color: #000080; text-decoration-color: #000080; font-weight: bold\">190</span>  <span style=\"font-weight: bold\">(</span> <span style=\"color: #000080; text-decoration-color: #000080; font-weight: bold\">90</span> <span style=\"font-weight: bold\">)</span>  Right Margin:\n",
       "<span style=\"color: #000080; text-decoration-color: #000080; font-weight: bold\">154</span>  <span style=\"font-weight: bold\">(</span> <span style=\"color: #000080; text-decoration-color: #000080; font-weight: bold\">73</span> <span style=\"font-weight: bold\">)</span>\n",
       "</pre>\n"
      ],
      "text/plain": [
       "<rich.jupyter.JupyterRenderable at 0x7fe7401b7610>"
      ]
     },
     "metadata": {},
     "output_type": "display_data"
    },
    {
     "data": {
      "text/html": [
       "<pre style=\"white-space:pre;overflow-x:auto;line-height:normal;font-family:Menlo,'DejaVu Sans Mono',consolas,'Courier New',monospace\">Byte  <span style=\"color: #000080; text-decoration-color: #000080; font-weight: bold\">3</span>  Nibble <span style=\"color: #000080; text-decoration-color: #000080; font-weight: bold\">0</span>  -   Left Margin:   <span style=\"color: #000080; text-decoration-color: #000080; font-weight: bold\">148</span>  <span style=\"font-weight: bold\">(</span> <span style=\"color: #000080; text-decoration-color: #000080; font-weight: bold\">73</span> <span style=\"font-weight: bold\">)</span>  Center Point:   <span style=\"color: #000080; text-decoration-color: #000080; font-weight: bold\">185</span>  <span style=\"font-weight: bold\">(</span> <span style=\"color: #000080; text-decoration-color: #000080; font-weight: bold\">91</span> <span style=\"font-weight: bold\">)</span>  Right Margin:\n",
       "<span style=\"color: #000080; text-decoration-color: #000080; font-weight: bold\">150</span>  <span style=\"font-weight: bold\">(</span> <span style=\"color: #000080; text-decoration-color: #000080; font-weight: bold\">74</span> <span style=\"font-weight: bold\">)</span>\n",
       "</pre>\n"
      ],
      "text/plain": [
       "<rich.jupyter.JupyterRenderable at 0x7fe724f86af0>"
      ]
     },
     "metadata": {},
     "output_type": "display_data"
    },
    {
     "data": {
      "text/html": [
       "<pre style=\"white-space:pre;overflow-x:auto;line-height:normal;font-family:Menlo,'DejaVu Sans Mono',consolas,'Courier New',monospace\">Byte  <span style=\"color: #000080; text-decoration-color: #000080; font-weight: bold\">3</span>  Nibble <span style=\"color: #000080; text-decoration-color: #000080; font-weight: bold\">1</span>  -   Left Margin:   <span style=\"color: #000080; text-decoration-color: #000080; font-weight: bold\">150</span>  <span style=\"font-weight: bold\">(</span> <span style=\"color: #000080; text-decoration-color: #000080; font-weight: bold\">73</span> <span style=\"font-weight: bold\">)</span>  Center Point:   <span style=\"color: #000080; text-decoration-color: #000080; font-weight: bold\">187</span>  <span style=\"font-weight: bold\">(</span> <span style=\"color: #000080; text-decoration-color: #000080; font-weight: bold\">91</span> <span style=\"font-weight: bold\">)</span>  Right Margin:\n",
       "<span style=\"color: #000080; text-decoration-color: #000080; font-weight: bold\">152</span>  <span style=\"font-weight: bold\">(</span> <span style=\"color: #000080; text-decoration-color: #000080; font-weight: bold\">74</span> <span style=\"font-weight: bold\">)</span>\n",
       "</pre>\n"
      ],
      "text/plain": [
       "<rich.jupyter.JupyterRenderable at 0x7fe724f86580>"
      ]
     },
     "metadata": {},
     "output_type": "display_data"
    },
    {
     "data": {
      "text/html": [
       "<pre style=\"white-space:pre;overflow-x:auto;line-height:normal;font-family:Menlo,'DejaVu Sans Mono',consolas,'Courier New',monospace\">Byte  <span style=\"color: #000080; text-decoration-color: #000080; font-weight: bold\">4</span>  Nibble <span style=\"color: #000080; text-decoration-color: #000080; font-weight: bold\">0</span>  -   Left Margin:   <span style=\"color: #000080; text-decoration-color: #000080; font-weight: bold\">146</span>  <span style=\"font-weight: bold\">(</span> <span style=\"color: #000080; text-decoration-color: #000080; font-weight: bold\">73</span> <span style=\"font-weight: bold\">)</span>  Center Point:   <span style=\"color: #000080; text-decoration-color: #000080; font-weight: bold\">182</span>  <span style=\"font-weight: bold\">(</span> <span style=\"color: #000080; text-decoration-color: #000080; font-weight: bold\">91</span> <span style=\"font-weight: bold\">)</span>  Right Margin:\n",
       "<span style=\"color: #000080; text-decoration-color: #000080; font-weight: bold\">146</span>  <span style=\"font-weight: bold\">(</span> <span style=\"color: #000080; text-decoration-color: #000080; font-weight: bold\">73</span> <span style=\"font-weight: bold\">)</span>\n",
       "</pre>\n"
      ],
      "text/plain": [
       "<rich.jupyter.JupyterRenderable at 0x7fe724f86730>"
      ]
     },
     "metadata": {},
     "output_type": "display_data"
    },
    {
     "data": {
      "text/html": [
       "<pre style=\"white-space:pre;overflow-x:auto;line-height:normal;font-family:Menlo,'DejaVu Sans Mono',consolas,'Courier New',monospace\">Byte  <span style=\"color: #000080; text-decoration-color: #000080; font-weight: bold\">4</span>  Nibble <span style=\"color: #000080; text-decoration-color: #000080; font-weight: bold\">1</span>  -   Left Margin:   <span style=\"color: #000080; text-decoration-color: #000080; font-weight: bold\">150</span>  <span style=\"font-weight: bold\">(</span> <span style=\"color: #000080; text-decoration-color: #000080; font-weight: bold\">73</span> <span style=\"font-weight: bold\">)</span>  Center Point:   <span style=\"color: #000080; text-decoration-color: #000080; font-weight: bold\">187</span>  <span style=\"font-weight: bold\">(</span> <span style=\"color: #000080; text-decoration-color: #000080; font-weight: bold\">91</span> <span style=\"font-weight: bold\">)</span>  Right Margin:\n",
       "<span style=\"color: #000080; text-decoration-color: #000080; font-weight: bold\">150</span>  <span style=\"font-weight: bold\">(</span> <span style=\"color: #000080; text-decoration-color: #000080; font-weight: bold\">73</span> <span style=\"font-weight: bold\">)</span>\n",
       "</pre>\n"
      ],
      "text/plain": [
       "<rich.jupyter.JupyterRenderable at 0x7fe724f86dc0>"
      ]
     },
     "metadata": {},
     "output_type": "display_data"
    },
    {
     "data": {
      "text/html": [
       "<pre style=\"white-space:pre;overflow-x:auto;line-height:normal;font-family:Menlo,'DejaVu Sans Mono',consolas,'Courier New',monospace\">Byte  <span style=\"color: #000080; text-decoration-color: #000080; font-weight: bold\">5</span>  Nibble <span style=\"color: #000080; text-decoration-color: #000080; font-weight: bold\">0</span>  -   Left Margin:   <span style=\"color: #000080; text-decoration-color: #000080; font-weight: bold\">150</span>  <span style=\"font-weight: bold\">(</span> <span style=\"color: #000080; text-decoration-color: #000080; font-weight: bold\">73</span> <span style=\"font-weight: bold\">)</span>  Center Point:   <span style=\"color: #000080; text-decoration-color: #000080; font-weight: bold\">187</span>  <span style=\"font-weight: bold\">(</span> <span style=\"color: #000080; text-decoration-color: #000080; font-weight: bold\">91</span> <span style=\"font-weight: bold\">)</span>  Right Margin:\n",
       "<span style=\"color: #000080; text-decoration-color: #000080; font-weight: bold\">150</span>  <span style=\"font-weight: bold\">(</span> <span style=\"color: #000080; text-decoration-color: #000080; font-weight: bold\">73</span> <span style=\"font-weight: bold\">)</span>\n",
       "</pre>\n"
      ],
      "text/plain": [
       "<rich.jupyter.JupyterRenderable at 0x7fe724f86820>"
      ]
     },
     "metadata": {},
     "output_type": "display_data"
    },
    {
     "data": {
      "text/html": [
       "<pre style=\"white-space:pre;overflow-x:auto;line-height:normal;font-family:Menlo,'DejaVu Sans Mono',consolas,'Courier New',monospace\">Byte  <span style=\"color: #000080; text-decoration-color: #000080; font-weight: bold\">5</span>  Nibble <span style=\"color: #000080; text-decoration-color: #000080; font-weight: bold\">1</span>  -   Left Margin:   <span style=\"color: #000080; text-decoration-color: #000080; font-weight: bold\">154</span>  <span style=\"font-weight: bold\">(</span> <span style=\"color: #000080; text-decoration-color: #000080; font-weight: bold\">73</span> <span style=\"font-weight: bold\">)</span>  Center Point:   <span style=\"color: #000080; text-decoration-color: #000080; font-weight: bold\">192</span>  <span style=\"font-weight: bold\">(</span> <span style=\"color: #000080; text-decoration-color: #000080; font-weight: bold\">91</span> <span style=\"font-weight: bold\">)</span>  Right Margin:\n",
       "<span style=\"color: #000080; text-decoration-color: #000080; font-weight: bold\">156</span>  <span style=\"font-weight: bold\">(</span> <span style=\"color: #000080; text-decoration-color: #000080; font-weight: bold\">74</span> <span style=\"font-weight: bold\">)</span>\n",
       "</pre>\n"
      ],
      "text/plain": [
       "<rich.jupyter.JupyterRenderable at 0x7fe74019cc40>"
      ]
     },
     "metadata": {},
     "output_type": "display_data"
    },
    {
     "data": {
      "text/html": [
       "<pre style=\"white-space:pre;overflow-x:auto;line-height:normal;font-family:Menlo,'DejaVu Sans Mono',consolas,'Courier New',monospace\">Byte  <span style=\"color: #000080; text-decoration-color: #000080; font-weight: bold\">6</span>  Nibble <span style=\"color: #000080; text-decoration-color: #000080; font-weight: bold\">0</span>  -   Left Margin:   <span style=\"color: #000080; text-decoration-color: #000080; font-weight: bold\">150</span>  <span style=\"font-weight: bold\">(</span> <span style=\"color: #000080; text-decoration-color: #000080; font-weight: bold\">72</span> <span style=\"font-weight: bold\">)</span>  Center Point:   <span style=\"color: #000080; text-decoration-color: #000080; font-weight: bold\">188</span>  <span style=\"font-weight: bold\">(</span> <span style=\"color: #000080; text-decoration-color: #000080; font-weight: bold\">90</span> <span style=\"font-weight: bold\">)</span>  Right Margin:\n",
       "<span style=\"color: #000080; text-decoration-color: #000080; font-weight: bold\">152</span>  <span style=\"font-weight: bold\">(</span> <span style=\"color: #000080; text-decoration-color: #000080; font-weight: bold\">73</span> <span style=\"font-weight: bold\">)</span>\n",
       "</pre>\n"
      ],
      "text/plain": [
       "<rich.jupyter.JupyterRenderable at 0x7fe74019cc40>"
      ]
     },
     "metadata": {},
     "output_type": "display_data"
    },
    {
     "data": {
      "text/html": [
       "<pre style=\"white-space:pre;overflow-x:auto;line-height:normal;font-family:Menlo,'DejaVu Sans Mono',consolas,'Courier New',monospace\">Byte  <span style=\"color: #000080; text-decoration-color: #000080; font-weight: bold\">6</span>  Nibble <span style=\"color: #000080; text-decoration-color: #000080; font-weight: bold\">1</span>  -   Left Margin:   <span style=\"color: #000080; text-decoration-color: #000080; font-weight: bold\">150</span>  <span style=\"font-weight: bold\">(</span> <span style=\"color: #000080; text-decoration-color: #000080; font-weight: bold\">73</span> <span style=\"font-weight: bold\">)</span>  Center Point:   <span style=\"color: #000080; text-decoration-color: #000080; font-weight: bold\">187</span>  <span style=\"font-weight: bold\">(</span> <span style=\"color: #000080; text-decoration-color: #000080; font-weight: bold\">91</span> <span style=\"font-weight: bold\">)</span>  Right Margin:\n",
       "<span style=\"color: #000080; text-decoration-color: #000080; font-weight: bold\">150</span>  <span style=\"font-weight: bold\">(</span> <span style=\"color: #000080; text-decoration-color: #000080; font-weight: bold\">73</span> <span style=\"font-weight: bold\">)</span>\n",
       "</pre>\n"
      ],
      "text/plain": [
       "<rich.jupyter.JupyterRenderable at 0x7fe74019cc40>"
      ]
     },
     "metadata": {},
     "output_type": "display_data"
    },
    {
     "data": {
      "text/html": [
       "<pre style=\"white-space:pre;overflow-x:auto;line-height:normal;font-family:Menlo,'DejaVu Sans Mono',consolas,'Courier New',monospace\">Byte  <span style=\"color: #000080; text-decoration-color: #000080; font-weight: bold\">7</span>  Nibble <span style=\"color: #000080; text-decoration-color: #000080; font-weight: bold\">0</span>  -   Left Margin:   <span style=\"color: #000080; text-decoration-color: #000080; font-weight: bold\">150</span>  <span style=\"font-weight: bold\">(</span> <span style=\"color: #000080; text-decoration-color: #000080; font-weight: bold\">73</span> <span style=\"font-weight: bold\">)</span>  Center Point:   <span style=\"color: #000080; text-decoration-color: #000080; font-weight: bold\">187</span>  <span style=\"font-weight: bold\">(</span> <span style=\"color: #000080; text-decoration-color: #000080; font-weight: bold\">91</span> <span style=\"font-weight: bold\">)</span>  Right Margin:\n",
       "<span style=\"color: #000080; text-decoration-color: #000080; font-weight: bold\">150</span>  <span style=\"font-weight: bold\">(</span> <span style=\"color: #000080; text-decoration-color: #000080; font-weight: bold\">73</span> <span style=\"font-weight: bold\">)</span>\n",
       "</pre>\n"
      ],
      "text/plain": [
       "<rich.jupyter.JupyterRenderable at 0x7fe74019cc40>"
      ]
     },
     "metadata": {},
     "output_type": "display_data"
    },
    {
     "data": {
      "text/html": [
       "<pre style=\"white-space:pre;overflow-x:auto;line-height:normal;font-family:Menlo,'DejaVu Sans Mono',consolas,'Courier New',monospace\">Byte  <span style=\"color: #000080; text-decoration-color: #000080; font-weight: bold\">7</span>  Nibble <span style=\"color: #000080; text-decoration-color: #000080; font-weight: bold\">1</span>  -   Left Margin:   <span style=\"color: #000080; text-decoration-color: #000080; font-weight: bold\">139</span>  <span style=\"font-weight: bold\">(</span> <span style=\"color: #000080; text-decoration-color: #000080; font-weight: bold\">68</span> <span style=\"font-weight: bold\">)</span>  Center Point:   <span style=\"color: #000080; text-decoration-color: #000080; font-weight: bold\">177</span>  <span style=\"font-weight: bold\">(</span> <span style=\"color: #000080; text-decoration-color: #000080; font-weight: bold\">86</span> <span style=\"font-weight: bold\">)</span>  Right Margin:\n",
       "<span style=\"color: #000080; text-decoration-color: #000080; font-weight: bold\">141</span>  <span style=\"font-weight: bold\">(</span> <span style=\"color: #000080; text-decoration-color: #000080; font-weight: bold\">69</span> <span style=\"font-weight: bold\">)</span>\n",
       "</pre>\n"
      ],
      "text/plain": [
       "<rich.jupyter.JupyterRenderable at 0x7fe74019cc40>"
      ]
     },
     "metadata": {},
     "output_type": "display_data"
    },
    {
     "data": {
      "text/html": [
       "<pre style=\"white-space:pre;overflow-x:auto;line-height:normal;font-family:Menlo,'DejaVu Sans Mono',consolas,'Courier New',monospace\">\n",
       " Frequency <span style=\"color: #000080; text-decoration-color: #000080; font-weight: bold\">0</span>  - Read Margin - Simple Pattern - Falling Edge Clock in pS and <span style=\"font-weight: bold\">(</span>delay taps<span style=\"font-weight: bold\">)</span>:\n",
       "\n",
       "</pre>\n"
      ],
      "text/plain": [
       "<rich.jupyter.JupyterRenderable at 0x7fe724f97be0>"
      ]
     },
     "metadata": {},
     "output_type": "display_data"
    },
    {
     "data": {
      "text/html": [
       "<pre style=\"white-space:pre;overflow-x:auto;line-height:normal;font-family:Menlo,'DejaVu Sans Mono',consolas,'Courier New',monospace\">Byte  <span style=\"color: #000080; text-decoration-color: #000080; font-weight: bold\">0</span>  Nibble <span style=\"color: #000080; text-decoration-color: #000080; font-weight: bold\">0</span>  -   Left Margin:   <span style=\"color: #000080; text-decoration-color: #000080; font-weight: bold\">152</span>  <span style=\"font-weight: bold\">(</span> <span style=\"color: #000080; text-decoration-color: #000080; font-weight: bold\">73</span> <span style=\"font-weight: bold\">)</span>  Center Point:   <span style=\"color: #000080; text-decoration-color: #000080; font-weight: bold\">200</span>  <span style=\"font-weight: bold\">(</span> <span style=\"color: #000080; text-decoration-color: #000080; font-weight: bold\">96</span> <span style=\"font-weight: bold\">)</span>  Right Margin:\n",
       "<span style=\"color: #000080; text-decoration-color: #000080; font-weight: bold\">154</span>  <span style=\"font-weight: bold\">(</span> <span style=\"color: #000080; text-decoration-color: #000080; font-weight: bold\">74</span> <span style=\"font-weight: bold\">)</span>\n",
       "</pre>\n"
      ],
      "text/plain": [
       "<rich.jupyter.JupyterRenderable at 0x7fe724f9a910>"
      ]
     },
     "metadata": {},
     "output_type": "display_data"
    },
    {
     "data": {
      "text/html": [
       "<pre style=\"white-space:pre;overflow-x:auto;line-height:normal;font-family:Menlo,'DejaVu Sans Mono',consolas,'Courier New',monospace\">Byte  <span style=\"color: #000080; text-decoration-color: #000080; font-weight: bold\">0</span>  Nibble <span style=\"color: #000080; text-decoration-color: #000080; font-weight: bold\">1</span>  -   Left Margin:   <span style=\"color: #000080; text-decoration-color: #000080; font-weight: bold\">152</span>  <span style=\"font-weight: bold\">(</span> <span style=\"color: #000080; text-decoration-color: #000080; font-weight: bold\">72</span> <span style=\"font-weight: bold\">)</span>  Center Point:   <span style=\"color: #000080; text-decoration-color: #000080; font-weight: bold\">205</span>  <span style=\"font-weight: bold\">(</span> <span style=\"color: #000080; text-decoration-color: #000080; font-weight: bold\">97</span> <span style=\"font-weight: bold\">)</span>  Right Margin:\n",
       "<span style=\"color: #000080; text-decoration-color: #000080; font-weight: bold\">154</span>  <span style=\"font-weight: bold\">(</span> <span style=\"color: #000080; text-decoration-color: #000080; font-weight: bold\">73</span> <span style=\"font-weight: bold\">)</span>\n",
       "</pre>\n"
      ],
      "text/plain": [
       "<rich.jupyter.JupyterRenderable at 0x7fe724f9a910>"
      ]
     },
     "metadata": {},
     "output_type": "display_data"
    },
    {
     "data": {
      "text/html": [
       "<pre style=\"white-space:pre;overflow-x:auto;line-height:normal;font-family:Menlo,'DejaVu Sans Mono',consolas,'Courier New',monospace\">Byte  <span style=\"color: #000080; text-decoration-color: #000080; font-weight: bold\">1</span>  Nibble <span style=\"color: #000080; text-decoration-color: #000080; font-weight: bold\">0</span>  -   Left Margin:   <span style=\"color: #000080; text-decoration-color: #000080; font-weight: bold\">135</span>  <span style=\"font-weight: bold\">(</span> <span style=\"color: #000080; text-decoration-color: #000080; font-weight: bold\">67</span> <span style=\"font-weight: bold\">)</span>  Center Point:   <span style=\"color: #000080; text-decoration-color: #000080; font-weight: bold\">195</span>  <span style=\"font-weight: bold\">(</span> <span style=\"color: #000080; text-decoration-color: #000080; font-weight: bold\">96</span> <span style=\"font-weight: bold\">)</span>  Right Margin:\n",
       "<span style=\"color: #000080; text-decoration-color: #000080; font-weight: bold\">137</span>  <span style=\"font-weight: bold\">(</span> <span style=\"color: #000080; text-decoration-color: #000080; font-weight: bold\">68</span> <span style=\"font-weight: bold\">)</span>\n",
       "</pre>\n"
      ],
      "text/plain": [
       "<rich.jupyter.JupyterRenderable at 0x7fe724f9a910>"
      ]
     },
     "metadata": {},
     "output_type": "display_data"
    },
    {
     "data": {
      "text/html": [
       "<pre style=\"white-space:pre;overflow-x:auto;line-height:normal;font-family:Menlo,'DejaVu Sans Mono',consolas,'Courier New',monospace\">Byte  <span style=\"color: #000080; text-decoration-color: #000080; font-weight: bold\">1</span>  Nibble <span style=\"color: #000080; text-decoration-color: #000080; font-weight: bold\">1</span>  -   Left Margin:   <span style=\"color: #000080; text-decoration-color: #000080; font-weight: bold\">141</span>  <span style=\"font-weight: bold\">(</span> <span style=\"color: #000080; text-decoration-color: #000080; font-weight: bold\">69</span> <span style=\"font-weight: bold\">)</span>  Center Point:   <span style=\"color: #000080; text-decoration-color: #000080; font-weight: bold\">189</span>  <span style=\"font-weight: bold\">(</span> <span style=\"color: #000080; text-decoration-color: #000080; font-weight: bold\">92</span> <span style=\"font-weight: bold\">)</span>  Right Margin:\n",
       "<span style=\"color: #000080; text-decoration-color: #000080; font-weight: bold\">141</span>  <span style=\"font-weight: bold\">(</span> <span style=\"color: #000080; text-decoration-color: #000080; font-weight: bold\">69</span> <span style=\"font-weight: bold\">)</span>\n",
       "</pre>\n"
      ],
      "text/plain": [
       "<rich.jupyter.JupyterRenderable at 0x7fe724f9a910>"
      ]
     },
     "metadata": {},
     "output_type": "display_data"
    },
    {
     "data": {
      "text/html": [
       "<pre style=\"white-space:pre;overflow-x:auto;line-height:normal;font-family:Menlo,'DejaVu Sans Mono',consolas,'Courier New',monospace\">Byte  <span style=\"color: #000080; text-decoration-color: #000080; font-weight: bold\">2</span>  Nibble <span style=\"color: #000080; text-decoration-color: #000080; font-weight: bold\">0</span>  -   Left Margin:   <span style=\"color: #000080; text-decoration-color: #000080; font-weight: bold\">138</span>  <span style=\"font-weight: bold\">(</span> <span style=\"color: #000080; text-decoration-color: #000080; font-weight: bold\">69</span> <span style=\"font-weight: bold\">)</span>  Center Point:   <span style=\"color: #000080; text-decoration-color: #000080; font-weight: bold\">198</span>  <span style=\"font-weight: bold\">(</span> <span style=\"color: #000080; text-decoration-color: #000080; font-weight: bold\">99</span> <span style=\"font-weight: bold\">)</span>  Right Margin:\n",
       "<span style=\"color: #000080; text-decoration-color: #000080; font-weight: bold\">138</span>  <span style=\"font-weight: bold\">(</span> <span style=\"color: #000080; text-decoration-color: #000080; font-weight: bold\">69</span> <span style=\"font-weight: bold\">)</span>\n",
       "</pre>\n"
      ],
      "text/plain": [
       "<rich.jupyter.JupyterRenderable at 0x7fe724f9a910>"
      ]
     },
     "metadata": {},
     "output_type": "display_data"
    },
    {
     "data": {
      "text/html": [
       "<pre style=\"white-space:pre;overflow-x:auto;line-height:normal;font-family:Menlo,'DejaVu Sans Mono',consolas,'Courier New',monospace\">Byte  <span style=\"color: #000080; text-decoration-color: #000080; font-weight: bold\">2</span>  Nibble <span style=\"color: #000080; text-decoration-color: #000080; font-weight: bold\">1</span>  -   Left Margin:   <span style=\"color: #000080; text-decoration-color: #000080; font-weight: bold\">143</span>  <span style=\"font-weight: bold\">(</span> <span style=\"color: #000080; text-decoration-color: #000080; font-weight: bold\">69</span> <span style=\"font-weight: bold\">)</span>  Center Point:   <span style=\"color: #000080; text-decoration-color: #000080; font-weight: bold\">206</span>  <span style=\"font-weight: bold\">(</span> <span style=\"color: #000080; text-decoration-color: #000080; font-weight: bold\">99</span> <span style=\"font-weight: bold\">)</span>  Right Margin:\n",
       "<span style=\"color: #000080; text-decoration-color: #000080; font-weight: bold\">143</span>  <span style=\"font-weight: bold\">(</span> <span style=\"color: #000080; text-decoration-color: #000080; font-weight: bold\">69</span> <span style=\"font-weight: bold\">)</span>\n",
       "</pre>\n"
      ],
      "text/plain": [
       "<rich.jupyter.JupyterRenderable at 0x7fe724f9a910>"
      ]
     },
     "metadata": {},
     "output_type": "display_data"
    },
    {
     "data": {
      "text/html": [
       "<pre style=\"white-space:pre;overflow-x:auto;line-height:normal;font-family:Menlo,'DejaVu Sans Mono',consolas,'Courier New',monospace\">Byte  <span style=\"color: #000080; text-decoration-color: #000080; font-weight: bold\">3</span>  Nibble <span style=\"color: #000080; text-decoration-color: #000080; font-weight: bold\">0</span>  -   Left Margin:   <span style=\"color: #000080; text-decoration-color: #000080; font-weight: bold\">139</span>  <span style=\"font-weight: bold\">(</span> <span style=\"color: #000080; text-decoration-color: #000080; font-weight: bold\">68</span> <span style=\"font-weight: bold\">)</span>  Center Point:   <span style=\"color: #000080; text-decoration-color: #000080; font-weight: bold\">195</span>  <span style=\"font-weight: bold\">(</span> <span style=\"color: #000080; text-decoration-color: #000080; font-weight: bold\">95</span> <span style=\"font-weight: bold\">)</span>  Right Margin:\n",
       "<span style=\"color: #000080; text-decoration-color: #000080; font-weight: bold\">141</span>  <span style=\"font-weight: bold\">(</span> <span style=\"color: #000080; text-decoration-color: #000080; font-weight: bold\">69</span> <span style=\"font-weight: bold\">)</span>\n",
       "</pre>\n"
      ],
      "text/plain": [
       "<rich.jupyter.JupyterRenderable at 0x7fe724f9e280>"
      ]
     },
     "metadata": {},
     "output_type": "display_data"
    },
    {
     "data": {
      "text/html": [
       "<pre style=\"white-space:pre;overflow-x:auto;line-height:normal;font-family:Menlo,'DejaVu Sans Mono',consolas,'Courier New',monospace\">Byte  <span style=\"color: #000080; text-decoration-color: #000080; font-weight: bold\">3</span>  Nibble <span style=\"color: #000080; text-decoration-color: #000080; font-weight: bold\">1</span>  -   Left Margin:   <span style=\"color: #000080; text-decoration-color: #000080; font-weight: bold\">137</span>  <span style=\"font-weight: bold\">(</span> <span style=\"color: #000080; text-decoration-color: #000080; font-weight: bold\">68</span> <span style=\"font-weight: bold\">)</span>  Center Point:   <span style=\"color: #000080; text-decoration-color: #000080; font-weight: bold\">193</span>  <span style=\"font-weight: bold\">(</span> <span style=\"color: #000080; text-decoration-color: #000080; font-weight: bold\">95</span> <span style=\"font-weight: bold\">)</span>  Right Margin:\n",
       "<span style=\"color: #000080; text-decoration-color: #000080; font-weight: bold\">140</span>  <span style=\"font-weight: bold\">(</span> <span style=\"color: #000080; text-decoration-color: #000080; font-weight: bold\">69</span> <span style=\"font-weight: bold\">)</span>\n",
       "</pre>\n"
      ],
      "text/plain": [
       "<rich.jupyter.JupyterRenderable at 0x7fe7400d5f70>"
      ]
     },
     "metadata": {},
     "output_type": "display_data"
    },
    {
     "data": {
      "text/html": [
       "<pre style=\"white-space:pre;overflow-x:auto;line-height:normal;font-family:Menlo,'DejaVu Sans Mono',consolas,'Courier New',monospace\">Byte  <span style=\"color: #000080; text-decoration-color: #000080; font-weight: bold\">4</span>  Nibble <span style=\"color: #000080; text-decoration-color: #000080; font-weight: bold\">0</span>  -   Left Margin:   <span style=\"color: #000080; text-decoration-color: #000080; font-weight: bold\">141</span>  <span style=\"font-weight: bold\">(</span> <span style=\"color: #000080; text-decoration-color: #000080; font-weight: bold\">69</span> <span style=\"font-weight: bold\">)</span>  Center Point:   <span style=\"color: #000080; text-decoration-color: #000080; font-weight: bold\">193</span>  <span style=\"font-weight: bold\">(</span> <span style=\"color: #000080; text-decoration-color: #000080; font-weight: bold\">94</span> <span style=\"font-weight: bold\">)</span>  Right Margin:\n",
       "<span style=\"color: #000080; text-decoration-color: #000080; font-weight: bold\">141</span>  <span style=\"font-weight: bold\">(</span> <span style=\"color: #000080; text-decoration-color: #000080; font-weight: bold\">69</span> <span style=\"font-weight: bold\">)</span>\n",
       "</pre>\n"
      ],
      "text/plain": [
       "<rich.jupyter.JupyterRenderable at 0x7fe7400d5f70>"
      ]
     },
     "metadata": {},
     "output_type": "display_data"
    },
    {
     "data": {
      "text/html": [
       "<pre style=\"white-space:pre;overflow-x:auto;line-height:normal;font-family:Menlo,'DejaVu Sans Mono',consolas,'Courier New',monospace\">Byte  <span style=\"color: #000080; text-decoration-color: #000080; font-weight: bold\">4</span>  Nibble <span style=\"color: #000080; text-decoration-color: #000080; font-weight: bold\">1</span>  -   Left Margin:   <span style=\"color: #000080; text-decoration-color: #000080; font-weight: bold\">143</span>  <span style=\"font-weight: bold\">(</span> <span style=\"color: #000080; text-decoration-color: #000080; font-weight: bold\">69</span> <span style=\"font-weight: bold\">)</span>  Center Point:   <span style=\"color: #000080; text-decoration-color: #000080; font-weight: bold\">196</span>  <span style=\"font-weight: bold\">(</span> <span style=\"color: #000080; text-decoration-color: #000080; font-weight: bold\">94</span> <span style=\"font-weight: bold\">)</span>  Right Margin:\n",
       "<span style=\"color: #000080; text-decoration-color: #000080; font-weight: bold\">143</span>  <span style=\"font-weight: bold\">(</span> <span style=\"color: #000080; text-decoration-color: #000080; font-weight: bold\">69</span> <span style=\"font-weight: bold\">)</span>\n",
       "</pre>\n"
      ],
      "text/plain": [
       "<rich.jupyter.JupyterRenderable at 0x7fe724f972e0>"
      ]
     },
     "metadata": {},
     "output_type": "display_data"
    },
    {
     "data": {
      "text/html": [
       "<pre style=\"white-space:pre;overflow-x:auto;line-height:normal;font-family:Menlo,'DejaVu Sans Mono',consolas,'Courier New',monospace\">Byte  <span style=\"color: #000080; text-decoration-color: #000080; font-weight: bold\">5</span>  Nibble <span style=\"color: #000080; text-decoration-color: #000080; font-weight: bold\">0</span>  -   Left Margin:   <span style=\"color: #000080; text-decoration-color: #000080; font-weight: bold\">134</span>  <span style=\"font-weight: bold\">(</span> <span style=\"color: #000080; text-decoration-color: #000080; font-weight: bold\">69</span> <span style=\"font-weight: bold\">)</span>  Center Point:   <span style=\"color: #000080; text-decoration-color: #000080; font-weight: bold\">189</span>  <span style=\"font-weight: bold\">(</span> <span style=\"color: #000080; text-decoration-color: #000080; font-weight: bold\">97</span> <span style=\"font-weight: bold\">)</span>  Right Margin:\n",
       "<span style=\"color: #000080; text-decoration-color: #000080; font-weight: bold\">134</span>  <span style=\"font-weight: bold\">(</span> <span style=\"color: #000080; text-decoration-color: #000080; font-weight: bold\">69</span> <span style=\"font-weight: bold\">)</span>\n",
       "</pre>\n"
      ],
      "text/plain": [
       "<rich.jupyter.JupyterRenderable at 0x7fe724f972e0>"
      ]
     },
     "metadata": {},
     "output_type": "display_data"
    },
    {
     "data": {
      "text/html": [
       "<pre style=\"white-space:pre;overflow-x:auto;line-height:normal;font-family:Menlo,'DejaVu Sans Mono',consolas,'Courier New',monospace\">Byte  <span style=\"color: #000080; text-decoration-color: #000080; font-weight: bold\">5</span>  Nibble <span style=\"color: #000080; text-decoration-color: #000080; font-weight: bold\">1</span>  -   Left Margin:   <span style=\"color: #000080; text-decoration-color: #000080; font-weight: bold\">141</span>  <span style=\"font-weight: bold\">(</span> <span style=\"color: #000080; text-decoration-color: #000080; font-weight: bold\">69</span> <span style=\"font-weight: bold\">)</span>  Center Point:   <span style=\"color: #000080; text-decoration-color: #000080; font-weight: bold\">197</span>  <span style=\"font-weight: bold\">(</span> <span style=\"color: #000080; text-decoration-color: #000080; font-weight: bold\">96</span> <span style=\"font-weight: bold\">)</span>  Right Margin:\n",
       "<span style=\"color: #000080; text-decoration-color: #000080; font-weight: bold\">141</span>  <span style=\"font-weight: bold\">(</span> <span style=\"color: #000080; text-decoration-color: #000080; font-weight: bold\">69</span> <span style=\"font-weight: bold\">)</span>\n",
       "</pre>\n"
      ],
      "text/plain": [
       "<rich.jupyter.JupyterRenderable at 0x7fe724f972e0>"
      ]
     },
     "metadata": {},
     "output_type": "display_data"
    },
    {
     "data": {
      "text/html": [
       "<pre style=\"white-space:pre;overflow-x:auto;line-height:normal;font-family:Menlo,'DejaVu Sans Mono',consolas,'Courier New',monospace\">Byte  <span style=\"color: #000080; text-decoration-color: #000080; font-weight: bold\">6</span>  Nibble <span style=\"color: #000080; text-decoration-color: #000080; font-weight: bold\">0</span>  -   Left Margin:   <span style=\"color: #000080; text-decoration-color: #000080; font-weight: bold\">152</span>  <span style=\"font-weight: bold\">(</span> <span style=\"color: #000080; text-decoration-color: #000080; font-weight: bold\">73</span> <span style=\"font-weight: bold\">)</span>  Center Point:   <span style=\"color: #000080; text-decoration-color: #000080; font-weight: bold\">200</span>  <span style=\"font-weight: bold\">(</span> <span style=\"color: #000080; text-decoration-color: #000080; font-weight: bold\">96</span> <span style=\"font-weight: bold\">)</span>  Right Margin:\n",
       "<span style=\"color: #000080; text-decoration-color: #000080; font-weight: bold\">154</span>  <span style=\"font-weight: bold\">(</span> <span style=\"color: #000080; text-decoration-color: #000080; font-weight: bold\">74</span> <span style=\"font-weight: bold\">)</span>\n",
       "</pre>\n"
      ],
      "text/plain": [
       "<rich.jupyter.JupyterRenderable at 0x7fe724f9aca0>"
      ]
     },
     "metadata": {},
     "output_type": "display_data"
    },
    {
     "data": {
      "text/html": [
       "<pre style=\"white-space:pre;overflow-x:auto;line-height:normal;font-family:Menlo,'DejaVu Sans Mono',consolas,'Courier New',monospace\">Byte  <span style=\"color: #000080; text-decoration-color: #000080; font-weight: bold\">6</span>  Nibble <span style=\"color: #000080; text-decoration-color: #000080; font-weight: bold\">1</span>  -   Left Margin:   <span style=\"color: #000080; text-decoration-color: #000080; font-weight: bold\">140</span>  <span style=\"font-weight: bold\">(</span> <span style=\"color: #000080; text-decoration-color: #000080; font-weight: bold\">69</span> <span style=\"font-weight: bold\">)</span>  Center Point:   <span style=\"color: #000080; text-decoration-color: #000080; font-weight: bold\">191</span>  <span style=\"font-weight: bold\">(</span> <span style=\"color: #000080; text-decoration-color: #000080; font-weight: bold\">94</span> <span style=\"font-weight: bold\">)</span>  Right Margin:\n",
       "<span style=\"color: #000080; text-decoration-color: #000080; font-weight: bold\">140</span>  <span style=\"font-weight: bold\">(</span> <span style=\"color: #000080; text-decoration-color: #000080; font-weight: bold\">69</span> <span style=\"font-weight: bold\">)</span>\n",
       "</pre>\n"
      ],
      "text/plain": [
       "<rich.jupyter.JupyterRenderable at 0x7fe7400d5f70>"
      ]
     },
     "metadata": {},
     "output_type": "display_data"
    },
    {
     "data": {
      "text/html": [
       "<pre style=\"white-space:pre;overflow-x:auto;line-height:normal;font-family:Menlo,'DejaVu Sans Mono',consolas,'Courier New',monospace\">Byte  <span style=\"color: #000080; text-decoration-color: #000080; font-weight: bold\">7</span>  Nibble <span style=\"color: #000080; text-decoration-color: #000080; font-weight: bold\">0</span>  -   Left Margin:   <span style=\"color: #000080; text-decoration-color: #000080; font-weight: bold\">152</span>  <span style=\"font-weight: bold\">(</span> <span style=\"color: #000080; text-decoration-color: #000080; font-weight: bold\">72</span> <span style=\"font-weight: bold\">)</span>  Center Point:   <span style=\"color: #000080; text-decoration-color: #000080; font-weight: bold\">209</span>  <span style=\"font-weight: bold\">(</span> <span style=\"color: #000080; text-decoration-color: #000080; font-weight: bold\">99</span> <span style=\"font-weight: bold\">)</span>  Right Margin:\n",
       "<span style=\"color: #000080; text-decoration-color: #000080; font-weight: bold\">154</span>  <span style=\"font-weight: bold\">(</span> <span style=\"color: #000080; text-decoration-color: #000080; font-weight: bold\">73</span> <span style=\"font-weight: bold\">)</span>\n",
       "</pre>\n"
      ],
      "text/plain": [
       "<rich.jupyter.JupyterRenderable at 0x7fe724f972e0>"
      ]
     },
     "metadata": {},
     "output_type": "display_data"
    },
    {
     "data": {
      "text/html": [
       "<pre style=\"white-space:pre;overflow-x:auto;line-height:normal;font-family:Menlo,'DejaVu Sans Mono',consolas,'Courier New',monospace\">Byte  <span style=\"color: #000080; text-decoration-color: #000080; font-weight: bold\">7</span>  Nibble <span style=\"color: #000080; text-decoration-color: #000080; font-weight: bold\">1</span>  -   Left Margin:   <span style=\"color: #000080; text-decoration-color: #000080; font-weight: bold\">152</span>  <span style=\"font-weight: bold\">(</span> <span style=\"color: #000080; text-decoration-color: #000080; font-weight: bold\">72</span> <span style=\"font-weight: bold\">)</span>  Center Point:   <span style=\"color: #000080; text-decoration-color: #000080; font-weight: bold\">205</span>  <span style=\"font-weight: bold\">(</span> <span style=\"color: #000080; text-decoration-color: #000080; font-weight: bold\">97</span> <span style=\"font-weight: bold\">)</span>  Right Margin:\n",
       "<span style=\"color: #000080; text-decoration-color: #000080; font-weight: bold\">154</span>  <span style=\"font-weight: bold\">(</span> <span style=\"color: #000080; text-decoration-color: #000080; font-weight: bold\">73</span> <span style=\"font-weight: bold\">)</span>\n",
       "</pre>\n"
      ],
      "text/plain": [
       "<rich.jupyter.JupyterRenderable at 0x7fe724f9aca0>"
      ]
     },
     "metadata": {},
     "output_type": "display_data"
    },
    {
     "data": {
      "text/html": [
       "<pre style=\"white-space:pre;overflow-x:auto;line-height:normal;font-family:Menlo,'DejaVu Sans Mono',consolas,'Courier New',monospace\">\n",
       " Frequency <span style=\"color: #000080; text-decoration-color: #000080; font-weight: bold\">0</span>  - Read Margin - Complex Pattern - Rising Edge Clock in pS and <span style=\"font-weight: bold\">(</span>delay taps<span style=\"font-weight: bold\">)</span>:\n",
       "\n",
       "</pre>\n"
      ],
      "text/plain": [
       "<rich.jupyter.JupyterRenderable at 0x7fe724fa5d00>"
      ]
     },
     "metadata": {},
     "output_type": "display_data"
    },
    {
     "data": {
      "text/html": [
       "<pre style=\"white-space:pre;overflow-x:auto;line-height:normal;font-family:Menlo,'DejaVu Sans Mono',consolas,'Courier New',monospace\">Byte  <span style=\"color: #000080; text-decoration-color: #000080; font-weight: bold\">0</span>  Nibble <span style=\"color: #000080; text-decoration-color: #000080; font-weight: bold\">0</span>  -   Left Margin:   <span style=\"color: #000080; text-decoration-color: #000080; font-weight: bold\">130</span>  <span style=\"font-weight: bold\">(</span> <span style=\"color: #000080; text-decoration-color: #000080; font-weight: bold\">65</span> <span style=\"font-weight: bold\">)</span>  Center Point:   <span style=\"color: #000080; text-decoration-color: #000080; font-weight: bold\">174</span>  <span style=\"font-weight: bold\">(</span> <span style=\"color: #000080; text-decoration-color: #000080; font-weight: bold\">87</span> <span style=\"font-weight: bold\">)</span>  Right Margin:\n",
       "<span style=\"color: #000080; text-decoration-color: #000080; font-weight: bold\">132</span>  <span style=\"font-weight: bold\">(</span> <span style=\"color: #000080; text-decoration-color: #000080; font-weight: bold\">66</span> <span style=\"font-weight: bold\">)</span>\n",
       "</pre>\n"
      ],
      "text/plain": [
       "<rich.jupyter.JupyterRenderable at 0x7fe724fa5d00>"
      ]
     },
     "metadata": {},
     "output_type": "display_data"
    },
    {
     "data": {
      "text/html": [
       "<pre style=\"white-space:pre;overflow-x:auto;line-height:normal;font-family:Menlo,'DejaVu Sans Mono',consolas,'Courier New',monospace\">Byte  <span style=\"color: #000080; text-decoration-color: #000080; font-weight: bold\">0</span>  Nibble <span style=\"color: #000080; text-decoration-color: #000080; font-weight: bold\">1</span>  -   Left Margin:   <span style=\"color: #000080; text-decoration-color: #000080; font-weight: bold\">135</span>  <span style=\"font-weight: bold\">(</span> <span style=\"color: #000080; text-decoration-color: #000080; font-weight: bold\">65</span> <span style=\"font-weight: bold\">)</span>  Center Point:   <span style=\"color: #000080; text-decoration-color: #000080; font-weight: bold\">183</span>  <span style=\"font-weight: bold\">(</span> <span style=\"color: #000080; text-decoration-color: #000080; font-weight: bold\">88</span> <span style=\"font-weight: bold\">)</span>  Right Margin:\n",
       "<span style=\"color: #000080; text-decoration-color: #000080; font-weight: bold\">137</span>  <span style=\"font-weight: bold\">(</span> <span style=\"color: #000080; text-decoration-color: #000080; font-weight: bold\">66</span> <span style=\"font-weight: bold\">)</span>\n",
       "</pre>\n"
      ],
      "text/plain": [
       "<rich.jupyter.JupyterRenderable at 0x7fe724fa5d00>"
      ]
     },
     "metadata": {},
     "output_type": "display_data"
    },
    {
     "data": {
      "text/html": [
       "<pre style=\"white-space:pre;overflow-x:auto;line-height:normal;font-family:Menlo,'DejaVu Sans Mono',consolas,'Courier New',monospace\">Byte  <span style=\"color: #000080; text-decoration-color: #000080; font-weight: bold\">1</span>  Nibble <span style=\"color: #000080; text-decoration-color: #000080; font-weight: bold\">0</span>  -   Left Margin:   <span style=\"color: #000080; text-decoration-color: #000080; font-weight: bold\">128</span>  <span style=\"font-weight: bold\">(</span> <span style=\"color: #000080; text-decoration-color: #000080; font-weight: bold\">64</span> <span style=\"font-weight: bold\">)</span>  Center Point:   <span style=\"color: #000080; text-decoration-color: #000080; font-weight: bold\">172</span>  <span style=\"font-weight: bold\">(</span> <span style=\"color: #000080; text-decoration-color: #000080; font-weight: bold\">86</span> <span style=\"font-weight: bold\">)</span>  Right Margin:\n",
       "<span style=\"color: #000080; text-decoration-color: #000080; font-weight: bold\">130</span>  <span style=\"font-weight: bold\">(</span> <span style=\"color: #000080; text-decoration-color: #000080; font-weight: bold\">65</span> <span style=\"font-weight: bold\">)</span>\n",
       "</pre>\n"
      ],
      "text/plain": [
       "<rich.jupyter.JupyterRenderable at 0x7fe724fa5d00>"
      ]
     },
     "metadata": {},
     "output_type": "display_data"
    },
    {
     "data": {
      "text/html": [
       "<pre style=\"white-space:pre;overflow-x:auto;line-height:normal;font-family:Menlo,'DejaVu Sans Mono',consolas,'Courier New',monospace\">Byte  <span style=\"color: #000080; text-decoration-color: #000080; font-weight: bold\">1</span>  Nibble <span style=\"color: #000080; text-decoration-color: #000080; font-weight: bold\">1</span>  -   Left Margin:   <span style=\"color: #000080; text-decoration-color: #000080; font-weight: bold\">131</span>  <span style=\"font-weight: bold\">(</span> <span style=\"color: #000080; text-decoration-color: #000080; font-weight: bold\">65</span> <span style=\"font-weight: bold\">)</span>  Center Point:   <span style=\"color: #000080; text-decoration-color: #000080; font-weight: bold\">177</span>  <span style=\"font-weight: bold\">(</span> <span style=\"color: #000080; text-decoration-color: #000080; font-weight: bold\">87</span> <span style=\"font-weight: bold\">)</span>  Right Margin:\n",
       "<span style=\"color: #000080; text-decoration-color: #000080; font-weight: bold\">133</span>  <span style=\"font-weight: bold\">(</span> <span style=\"color: #000080; text-decoration-color: #000080; font-weight: bold\">66</span> <span style=\"font-weight: bold\">)</span>\n",
       "</pre>\n"
      ],
      "text/plain": [
       "<rich.jupyter.JupyterRenderable at 0x7fe724fa5d00>"
      ]
     },
     "metadata": {},
     "output_type": "display_data"
    },
    {
     "data": {
      "text/html": [
       "<pre style=\"white-space:pre;overflow-x:auto;line-height:normal;font-family:Menlo,'DejaVu Sans Mono',consolas,'Courier New',monospace\">Byte  <span style=\"color: #000080; text-decoration-color: #000080; font-weight: bold\">2</span>  Nibble <span style=\"color: #000080; text-decoration-color: #000080; font-weight: bold\">0</span>  -   Left Margin:   <span style=\"color: #000080; text-decoration-color: #000080; font-weight: bold\">127</span>  <span style=\"font-weight: bold\">(</span> <span style=\"color: #000080; text-decoration-color: #000080; font-weight: bold\">62</span> <span style=\"font-weight: bold\">)</span>  Center Point:   <span style=\"color: #000080; text-decoration-color: #000080; font-weight: bold\">179</span>  <span style=\"font-weight: bold\">(</span> <span style=\"color: #000080; text-decoration-color: #000080; font-weight: bold\">87</span> <span style=\"font-weight: bold\">)</span>  Right Margin:\n",
       "<span style=\"color: #000080; text-decoration-color: #000080; font-weight: bold\">129</span>  <span style=\"font-weight: bold\">(</span> <span style=\"color: #000080; text-decoration-color: #000080; font-weight: bold\">63</span> <span style=\"font-weight: bold\">)</span>\n",
       "</pre>\n"
      ],
      "text/plain": [
       "<rich.jupyter.JupyterRenderable at 0x7fe724fa5d00>"
      ]
     },
     "metadata": {},
     "output_type": "display_data"
    },
    {
     "data": {
      "text/html": [
       "<pre style=\"white-space:pre;overflow-x:auto;line-height:normal;font-family:Menlo,'DejaVu Sans Mono',consolas,'Courier New',monospace\">Byte  <span style=\"color: #000080; text-decoration-color: #000080; font-weight: bold\">2</span>  Nibble <span style=\"color: #000080; text-decoration-color: #000080; font-weight: bold\">1</span>  -   Left Margin:   <span style=\"color: #000080; text-decoration-color: #000080; font-weight: bold\">128</span>  <span style=\"font-weight: bold\">(</span> <span style=\"color: #000080; text-decoration-color: #000080; font-weight: bold\">61</span> <span style=\"font-weight: bold\">)</span>  Center Point:   <span style=\"color: #000080; text-decoration-color: #000080; font-weight: bold\">179</span>  <span style=\"font-weight: bold\">(</span> <span style=\"color: #000080; text-decoration-color: #000080; font-weight: bold\">85</span> <span style=\"font-weight: bold\">)</span>  Right Margin:\n",
       "<span style=\"color: #000080; text-decoration-color: #000080; font-weight: bold\">128</span>  <span style=\"font-weight: bold\">(</span> <span style=\"color: #000080; text-decoration-color: #000080; font-weight: bold\">61</span> <span style=\"font-weight: bold\">)</span>\n",
       "</pre>\n"
      ],
      "text/plain": [
       "<rich.jupyter.JupyterRenderable at 0x7fe724fa5d00>"
      ]
     },
     "metadata": {},
     "output_type": "display_data"
    },
    {
     "data": {
      "text/html": [
       "<pre style=\"white-space:pre;overflow-x:auto;line-height:normal;font-family:Menlo,'DejaVu Sans Mono',consolas,'Courier New',monospace\">Byte  <span style=\"color: #000080; text-decoration-color: #000080; font-weight: bold\">3</span>  Nibble <span style=\"color: #000080; text-decoration-color: #000080; font-weight: bold\">0</span>  -   Left Margin:   <span style=\"color: #000080; text-decoration-color: #000080; font-weight: bold\">123</span>  <span style=\"font-weight: bold\">(</span> <span style=\"color: #000080; text-decoration-color: #000080; font-weight: bold\">61</span> <span style=\"font-weight: bold\">)</span>  Center Point:   <span style=\"color: #000080; text-decoration-color: #000080; font-weight: bold\">183</span>  <span style=\"font-weight: bold\">(</span> <span style=\"color: #000080; text-decoration-color: #000080; font-weight: bold\">90</span> <span style=\"font-weight: bold\">)</span>  Right Margin:\n",
       "<span style=\"color: #000080; text-decoration-color: #000080; font-weight: bold\">123</span>  <span style=\"font-weight: bold\">(</span> <span style=\"color: #000080; text-decoration-color: #000080; font-weight: bold\">61</span> <span style=\"font-weight: bold\">)</span>\n",
       "</pre>\n"
      ],
      "text/plain": [
       "<rich.jupyter.JupyterRenderable at 0x7fe724fa5d00>"
      ]
     },
     "metadata": {},
     "output_type": "display_data"
    },
    {
     "data": {
      "text/html": [
       "<pre style=\"white-space:pre;overflow-x:auto;line-height:normal;font-family:Menlo,'DejaVu Sans Mono',consolas,'Courier New',monospace\">Byte  <span style=\"color: #000080; text-decoration-color: #000080; font-weight: bold\">3</span>  Nibble <span style=\"color: #000080; text-decoration-color: #000080; font-weight: bold\">1</span>  -   Left Margin:   <span style=\"color: #000080; text-decoration-color: #000080; font-weight: bold\">129</span>  <span style=\"font-weight: bold\">(</span> <span style=\"color: #000080; text-decoration-color: #000080; font-weight: bold\">63</span> <span style=\"font-weight: bold\">)</span>  Center Point:   <span style=\"color: #000080; text-decoration-color: #000080; font-weight: bold\">179</span>  <span style=\"font-weight: bold\">(</span> <span style=\"color: #000080; text-decoration-color: #000080; font-weight: bold\">87</span> <span style=\"font-weight: bold\">)</span>  Right Margin:\n",
       "<span style=\"color: #000080; text-decoration-color: #000080; font-weight: bold\">129</span>  <span style=\"font-weight: bold\">(</span> <span style=\"color: #000080; text-decoration-color: #000080; font-weight: bold\">63</span> <span style=\"font-weight: bold\">)</span>\n",
       "</pre>\n"
      ],
      "text/plain": [
       "<rich.jupyter.JupyterRenderable at 0x7fe724fa5d00>"
      ]
     },
     "metadata": {},
     "output_type": "display_data"
    },
    {
     "data": {
      "text/html": [
       "<pre style=\"white-space:pre;overflow-x:auto;line-height:normal;font-family:Menlo,'DejaVu Sans Mono',consolas,'Courier New',monospace\">Byte  <span style=\"color: #000080; text-decoration-color: #000080; font-weight: bold\">4</span>  Nibble <span style=\"color: #000080; text-decoration-color: #000080; font-weight: bold\">0</span>  -   Left Margin:   <span style=\"color: #000080; text-decoration-color: #000080; font-weight: bold\">118</span>  <span style=\"font-weight: bold\">(</span> <span style=\"color: #000080; text-decoration-color: #000080; font-weight: bold\">59</span> <span style=\"font-weight: bold\">)</span>  Center Point:   <span style=\"color: #000080; text-decoration-color: #000080; font-weight: bold\">166</span>  <span style=\"font-weight: bold\">(</span> <span style=\"color: #000080; text-decoration-color: #000080; font-weight: bold\">83</span> <span style=\"font-weight: bold\">)</span>  Right Margin:\n",
       "<span style=\"color: #000080; text-decoration-color: #000080; font-weight: bold\">120</span>  <span style=\"font-weight: bold\">(</span> <span style=\"color: #000080; text-decoration-color: #000080; font-weight: bold\">60</span> <span style=\"font-weight: bold\">)</span>\n",
       "</pre>\n"
      ],
      "text/plain": [
       "<rich.jupyter.JupyterRenderable at 0x7fe724fa5d00>"
      ]
     },
     "metadata": {},
     "output_type": "display_data"
    },
    {
     "data": {
      "text/html": [
       "<pre style=\"white-space:pre;overflow-x:auto;line-height:normal;font-family:Menlo,'DejaVu Sans Mono',consolas,'Courier New',monospace\">Byte  <span style=\"color: #000080; text-decoration-color: #000080; font-weight: bold\">4</span>  Nibble <span style=\"color: #000080; text-decoration-color: #000080; font-weight: bold\">1</span>  -   Left Margin:   <span style=\"color: #000080; text-decoration-color: #000080; font-weight: bold\">127</span>  <span style=\"font-weight: bold\">(</span> <span style=\"color: #000080; text-decoration-color: #000080; font-weight: bold\">62</span> <span style=\"font-weight: bold\">)</span>  Center Point:   <span style=\"color: #000080; text-decoration-color: #000080; font-weight: bold\">179</span>  <span style=\"font-weight: bold\">(</span> <span style=\"color: #000080; text-decoration-color: #000080; font-weight: bold\">87</span> <span style=\"font-weight: bold\">)</span>  Right Margin:\n",
       "<span style=\"color: #000080; text-decoration-color: #000080; font-weight: bold\">129</span>  <span style=\"font-weight: bold\">(</span> <span style=\"color: #000080; text-decoration-color: #000080; font-weight: bold\">63</span> <span style=\"font-weight: bold\">)</span>\n",
       "</pre>\n"
      ],
      "text/plain": [
       "<rich.jupyter.JupyterRenderable at 0x7fe724fa5d00>"
      ]
     },
     "metadata": {},
     "output_type": "display_data"
    },
    {
     "data": {
      "text/html": [
       "<pre style=\"white-space:pre;overflow-x:auto;line-height:normal;font-family:Menlo,'DejaVu Sans Mono',consolas,'Courier New',monospace\">Byte  <span style=\"color: #000080; text-decoration-color: #000080; font-weight: bold\">5</span>  Nibble <span style=\"color: #000080; text-decoration-color: #000080; font-weight: bold\">0</span>  -   Left Margin:   <span style=\"color: #000080; text-decoration-color: #000080; font-weight: bold\">125</span>  <span style=\"font-weight: bold\">(</span> <span style=\"color: #000080; text-decoration-color: #000080; font-weight: bold\">61</span> <span style=\"font-weight: bold\">)</span>  Center Point:   <span style=\"color: #000080; text-decoration-color: #000080; font-weight: bold\">185</span>  <span style=\"font-weight: bold\">(</span> <span style=\"color: #000080; text-decoration-color: #000080; font-weight: bold\">90</span> <span style=\"font-weight: bold\">)</span>  Right Margin:\n",
       "<span style=\"color: #000080; text-decoration-color: #000080; font-weight: bold\">125</span>  <span style=\"font-weight: bold\">(</span> <span style=\"color: #000080; text-decoration-color: #000080; font-weight: bold\">61</span> <span style=\"font-weight: bold\">)</span>\n",
       "</pre>\n"
      ],
      "text/plain": [
       "<rich.jupyter.JupyterRenderable at 0x7fe724fa5d00>"
      ]
     },
     "metadata": {},
     "output_type": "display_data"
    },
    {
     "data": {
      "text/html": [
       "<pre style=\"white-space:pre;overflow-x:auto;line-height:normal;font-family:Menlo,'DejaVu Sans Mono',consolas,'Courier New',monospace\">Byte  <span style=\"color: #000080; text-decoration-color: #000080; font-weight: bold\">5</span>  Nibble <span style=\"color: #000080; text-decoration-color: #000080; font-weight: bold\">1</span>  -   Left Margin:   <span style=\"color: #000080; text-decoration-color: #000080; font-weight: bold\">137</span>  <span style=\"font-weight: bold\">(</span> <span style=\"color: #000080; text-decoration-color: #000080; font-weight: bold\">65</span> <span style=\"font-weight: bold\">)</span>  Center Point:   <span style=\"color: #000080; text-decoration-color: #000080; font-weight: bold\">196</span>  <span style=\"font-weight: bold\">(</span> <span style=\"color: #000080; text-decoration-color: #000080; font-weight: bold\">93</span> <span style=\"font-weight: bold\">)</span>  Right Margin:\n",
       "<span style=\"color: #000080; text-decoration-color: #000080; font-weight: bold\">137</span>  <span style=\"font-weight: bold\">(</span> <span style=\"color: #000080; text-decoration-color: #000080; font-weight: bold\">65</span> <span style=\"font-weight: bold\">)</span>\n",
       "</pre>\n"
      ],
      "text/plain": [
       "<rich.jupyter.JupyterRenderable at 0x7fe724fa5d00>"
      ]
     },
     "metadata": {},
     "output_type": "display_data"
    },
    {
     "data": {
      "text/html": [
       "<pre style=\"white-space:pre;overflow-x:auto;line-height:normal;font-family:Menlo,'DejaVu Sans Mono',consolas,'Courier New',monospace\">Byte  <span style=\"color: #000080; text-decoration-color: #000080; font-weight: bold\">6</span>  Nibble <span style=\"color: #000080; text-decoration-color: #000080; font-weight: bold\">0</span>  -   Left Margin:   <span style=\"color: #000080; text-decoration-color: #000080; font-weight: bold\">133</span>  <span style=\"font-weight: bold\">(</span> <span style=\"color: #000080; text-decoration-color: #000080; font-weight: bold\">64</span> <span style=\"font-weight: bold\">)</span>  Center Point:   <span style=\"color: #000080; text-decoration-color: #000080; font-weight: bold\">179</span>  <span style=\"font-weight: bold\">(</span> <span style=\"color: #000080; text-decoration-color: #000080; font-weight: bold\">86</span> <span style=\"font-weight: bold\">)</span>  Right Margin:\n",
       "<span style=\"color: #000080; text-decoration-color: #000080; font-weight: bold\">133</span>  <span style=\"font-weight: bold\">(</span> <span style=\"color: #000080; text-decoration-color: #000080; font-weight: bold\">64</span> <span style=\"font-weight: bold\">)</span>\n",
       "</pre>\n"
      ],
      "text/plain": [
       "<rich.jupyter.JupyterRenderable at 0x7fe724fa5d00>"
      ]
     },
     "metadata": {},
     "output_type": "display_data"
    },
    {
     "data": {
      "text/html": [
       "<pre style=\"white-space:pre;overflow-x:auto;line-height:normal;font-family:Menlo,'DejaVu Sans Mono',consolas,'Courier New',monospace\">Byte  <span style=\"color: #000080; text-decoration-color: #000080; font-weight: bold\">6</span>  Nibble <span style=\"color: #000080; text-decoration-color: #000080; font-weight: bold\">1</span>  -   Left Margin:   <span style=\"color: #000080; text-decoration-color: #000080; font-weight: bold\">133</span>  <span style=\"font-weight: bold\">(</span> <span style=\"color: #000080; text-decoration-color: #000080; font-weight: bold\">65</span> <span style=\"font-weight: bold\">)</span>  Center Point:   <span style=\"color: #000080; text-decoration-color: #000080; font-weight: bold\">185</span>  <span style=\"font-weight: bold\">(</span> <span style=\"color: #000080; text-decoration-color: #000080; font-weight: bold\">90</span> <span style=\"font-weight: bold\">)</span>  Right Margin:\n",
       "<span style=\"color: #000080; text-decoration-color: #000080; font-weight: bold\">133</span>  <span style=\"font-weight: bold\">(</span> <span style=\"color: #000080; text-decoration-color: #000080; font-weight: bold\">65</span> <span style=\"font-weight: bold\">)</span>\n",
       "</pre>\n"
      ],
      "text/plain": [
       "<rich.jupyter.JupyterRenderable at 0x7fe724fa5d00>"
      ]
     },
     "metadata": {},
     "output_type": "display_data"
    },
    {
     "data": {
      "text/html": [
       "<pre style=\"white-space:pre;overflow-x:auto;line-height:normal;font-family:Menlo,'DejaVu Sans Mono',consolas,'Courier New',monospace\">Byte  <span style=\"color: #000080; text-decoration-color: #000080; font-weight: bold\">7</span>  Nibble <span style=\"color: #000080; text-decoration-color: #000080; font-weight: bold\">0</span>  -   Left Margin:   <span style=\"color: #000080; text-decoration-color: #000080; font-weight: bold\">129</span>  <span style=\"font-weight: bold\">(</span> <span style=\"color: #000080; text-decoration-color: #000080; font-weight: bold\">63</span> <span style=\"font-weight: bold\">)</span>  Center Point:   <span style=\"color: #000080; text-decoration-color: #000080; font-weight: bold\">183</span>  <span style=\"font-weight: bold\">(</span> <span style=\"color: #000080; text-decoration-color: #000080; font-weight: bold\">89</span> <span style=\"font-weight: bold\">)</span>  Right Margin:\n",
       "<span style=\"color: #000080; text-decoration-color: #000080; font-weight: bold\">131</span>  <span style=\"font-weight: bold\">(</span> <span style=\"color: #000080; text-decoration-color: #000080; font-weight: bold\">64</span> <span style=\"font-weight: bold\">)</span>\n",
       "</pre>\n"
      ],
      "text/plain": [
       "<rich.jupyter.JupyterRenderable at 0x7fe724fa5d00>"
      ]
     },
     "metadata": {},
     "output_type": "display_data"
    },
    {
     "data": {
      "text/html": [
       "<pre style=\"white-space:pre;overflow-x:auto;line-height:normal;font-family:Menlo,'DejaVu Sans Mono',consolas,'Courier New',monospace\">Byte  <span style=\"color: #000080; text-decoration-color: #000080; font-weight: bold\">7</span>  Nibble <span style=\"color: #000080; text-decoration-color: #000080; font-weight: bold\">1</span>  -   Left Margin:   <span style=\"color: #000080; text-decoration-color: #000080; font-weight: bold\">131</span>  <span style=\"font-weight: bold\">(</span> <span style=\"color: #000080; text-decoration-color: #000080; font-weight: bold\">64</span> <span style=\"font-weight: bold\">)</span>  Center Point:   <span style=\"color: #000080; text-decoration-color: #000080; font-weight: bold\">177</span>  <span style=\"font-weight: bold\">(</span> <span style=\"color: #000080; text-decoration-color: #000080; font-weight: bold\">86</span> <span style=\"font-weight: bold\">)</span>  Right Margin:\n",
       "<span style=\"color: #000080; text-decoration-color: #000080; font-weight: bold\">133</span>  <span style=\"font-weight: bold\">(</span> <span style=\"color: #000080; text-decoration-color: #000080; font-weight: bold\">65</span> <span style=\"font-weight: bold\">)</span>\n",
       "</pre>\n"
      ],
      "text/plain": [
       "<rich.jupyter.JupyterRenderable at 0x7fe724fa5d00>"
      ]
     },
     "metadata": {},
     "output_type": "display_data"
    },
    {
     "data": {
      "text/html": [
       "<pre style=\"white-space:pre;overflow-x:auto;line-height:normal;font-family:Menlo,'DejaVu Sans Mono',consolas,'Courier New',monospace\">\n",
       " Frequency <span style=\"color: #000080; text-decoration-color: #000080; font-weight: bold\">0</span>  - Read Margin - Complex Pattern - Falling Edge Clock in pS and <span style=\"font-weight: bold\">(</span>delay taps<span style=\"font-weight: bold\">)</span>:\n",
       "\n",
       "</pre>\n"
      ],
      "text/plain": [
       "<rich.jupyter.JupyterRenderable at 0x7fe724faaa60>"
      ]
     },
     "metadata": {},
     "output_type": "display_data"
    },
    {
     "data": {
      "text/html": [
       "<pre style=\"white-space:pre;overflow-x:auto;line-height:normal;font-family:Menlo,'DejaVu Sans Mono',consolas,'Courier New',monospace\">Byte  <span style=\"color: #000080; text-decoration-color: #000080; font-weight: bold\">0</span>  Nibble <span style=\"color: #000080; text-decoration-color: #000080; font-weight: bold\">0</span>  -   Left Margin:   <span style=\"color: #000080; text-decoration-color: #000080; font-weight: bold\">131</span>  <span style=\"font-weight: bold\">(</span> <span style=\"color: #000080; text-decoration-color: #000080; font-weight: bold\">63</span> <span style=\"font-weight: bold\">)</span>  Center Point:   <span style=\"color: #000080; text-decoration-color: #000080; font-weight: bold\">183</span>  <span style=\"font-weight: bold\">(</span> <span style=\"color: #000080; text-decoration-color: #000080; font-weight: bold\">88</span> <span style=\"font-weight: bold\">)</span>  Right Margin:\n",
       "<span style=\"color: #000080; text-decoration-color: #000080; font-weight: bold\">131</span>  <span style=\"font-weight: bold\">(</span> <span style=\"color: #000080; text-decoration-color: #000080; font-weight: bold\">63</span> <span style=\"font-weight: bold\">)</span>\n",
       "</pre>\n"
      ],
      "text/plain": [
       "<rich.jupyter.JupyterRenderable at 0x7fe724faaac0>"
      ]
     },
     "metadata": {},
     "output_type": "display_data"
    },
    {
     "data": {
      "text/html": [
       "<pre style=\"white-space:pre;overflow-x:auto;line-height:normal;font-family:Menlo,'DejaVu Sans Mono',consolas,'Courier New',monospace\">Byte  <span style=\"color: #000080; text-decoration-color: #000080; font-weight: bold\">0</span>  Nibble <span style=\"color: #000080; text-decoration-color: #000080; font-weight: bold\">1</span>  -   Left Margin:   <span style=\"color: #000080; text-decoration-color: #000080; font-weight: bold\">130</span>  <span style=\"font-weight: bold\">(</span> <span style=\"color: #000080; text-decoration-color: #000080; font-weight: bold\">62</span> <span style=\"font-weight: bold\">)</span>  Center Point:   <span style=\"color: #000080; text-decoration-color: #000080; font-weight: bold\">190</span>  <span style=\"font-weight: bold\">(</span> <span style=\"color: #000080; text-decoration-color: #000080; font-weight: bold\">90</span> <span style=\"font-weight: bold\">)</span>  Right Margin:\n",
       "<span style=\"color: #000080; text-decoration-color: #000080; font-weight: bold\">133</span>  <span style=\"font-weight: bold\">(</span> <span style=\"color: #000080; text-decoration-color: #000080; font-weight: bold\">63</span> <span style=\"font-weight: bold\">)</span>\n",
       "</pre>\n"
      ],
      "text/plain": [
       "<rich.jupyter.JupyterRenderable at 0x7fe724faad00>"
      ]
     },
     "metadata": {},
     "output_type": "display_data"
    },
    {
     "data": {
      "text/html": [
       "<pre style=\"white-space:pre;overflow-x:auto;line-height:normal;font-family:Menlo,'DejaVu Sans Mono',consolas,'Courier New',monospace\">Byte  <span style=\"color: #000080; text-decoration-color: #000080; font-weight: bold\">1</span>  Nibble <span style=\"color: #000080; text-decoration-color: #000080; font-weight: bold\">0</span>  -   Left Margin:   <span style=\"color: #000080; text-decoration-color: #000080; font-weight: bold\">117</span>  <span style=\"font-weight: bold\">(</span> <span style=\"color: #000080; text-decoration-color: #000080; font-weight: bold\">58</span> <span style=\"font-weight: bold\">)</span>  Center Point:   <span style=\"color: #000080; text-decoration-color: #000080; font-weight: bold\">179</span>  <span style=\"font-weight: bold\">(</span> <span style=\"color: #000080; text-decoration-color: #000080; font-weight: bold\">88</span> <span style=\"font-weight: bold\">)</span>  Right Margin:\n",
       "<span style=\"color: #000080; text-decoration-color: #000080; font-weight: bold\">117</span>  <span style=\"font-weight: bold\">(</span> <span style=\"color: #000080; text-decoration-color: #000080; font-weight: bold\">58</span> <span style=\"font-weight: bold\">)</span>\n",
       "</pre>\n"
      ],
      "text/plain": [
       "<rich.jupyter.JupyterRenderable at 0x7fe724faaa30>"
      ]
     },
     "metadata": {},
     "output_type": "display_data"
    },
    {
     "data": {
      "text/html": [
       "<pre style=\"white-space:pre;overflow-x:auto;line-height:normal;font-family:Menlo,'DejaVu Sans Mono',consolas,'Courier New',monospace\">Byte  <span style=\"color: #000080; text-decoration-color: #000080; font-weight: bold\">1</span>  Nibble <span style=\"color: #000080; text-decoration-color: #000080; font-weight: bold\">1</span>  -   Left Margin:   <span style=\"color: #000080; text-decoration-color: #000080; font-weight: bold\">117</span>  <span style=\"font-weight: bold\">(</span> <span style=\"color: #000080; text-decoration-color: #000080; font-weight: bold\">57</span> <span style=\"font-weight: bold\">)</span>  Center Point:   <span style=\"color: #000080; text-decoration-color: #000080; font-weight: bold\">169</span>  <span style=\"font-weight: bold\">(</span> <span style=\"color: #000080; text-decoration-color: #000080; font-weight: bold\">82</span> <span style=\"font-weight: bold\">)</span>  Right Margin:\n",
       "<span style=\"color: #000080; text-decoration-color: #000080; font-weight: bold\">117</span>  <span style=\"font-weight: bold\">(</span> <span style=\"color: #000080; text-decoration-color: #000080; font-weight: bold\">57</span> <span style=\"font-weight: bold\">)</span>\n",
       "</pre>\n"
      ],
      "text/plain": [
       "<rich.jupyter.JupyterRenderable at 0x7fe724faab20>"
      ]
     },
     "metadata": {},
     "output_type": "display_data"
    },
    {
     "data": {
      "text/html": [
       "<pre style=\"white-space:pre;overflow-x:auto;line-height:normal;font-family:Menlo,'DejaVu Sans Mono',consolas,'Courier New',monospace\">Byte  <span style=\"color: #000080; text-decoration-color: #000080; font-weight: bold\">2</span>  Nibble <span style=\"color: #000080; text-decoration-color: #000080; font-weight: bold\">0</span>  -   Left Margin:   <span style=\"color: #000080; text-decoration-color: #000080; font-weight: bold\">114</span>  <span style=\"font-weight: bold\">(</span> <span style=\"color: #000080; text-decoration-color: #000080; font-weight: bold\">57</span> <span style=\"font-weight: bold\">)</span>  Center Point:   <span style=\"color: #000080; text-decoration-color: #000080; font-weight: bold\">176</span>  <span style=\"font-weight: bold\">(</span> <span style=\"color: #000080; text-decoration-color: #000080; font-weight: bold\">88</span> <span style=\"font-weight: bold\">)</span>  Right Margin:\n",
       "<span style=\"color: #000080; text-decoration-color: #000080; font-weight: bold\">114</span>  <span style=\"font-weight: bold\">(</span> <span style=\"color: #000080; text-decoration-color: #000080; font-weight: bold\">57</span> <span style=\"font-weight: bold\">)</span>\n",
       "</pre>\n"
      ],
      "text/plain": [
       "<rich.jupyter.JupyterRenderable at 0x7fe724faa940>"
      ]
     },
     "metadata": {},
     "output_type": "display_data"
    },
    {
     "data": {
      "text/html": [
       "<pre style=\"white-space:pre;overflow-x:auto;line-height:normal;font-family:Menlo,'DejaVu Sans Mono',consolas,'Courier New',monospace\">Byte  <span style=\"color: #000080; text-decoration-color: #000080; font-weight: bold\">2</span>  Nibble <span style=\"color: #000080; text-decoration-color: #000080; font-weight: bold\">1</span>  -   Left Margin:   <span style=\"color: #000080; text-decoration-color: #000080; font-weight: bold\">114</span>  <span style=\"font-weight: bold\">(</span> <span style=\"color: #000080; text-decoration-color: #000080; font-weight: bold\">55</span> <span style=\"font-weight: bold\">)</span>  Center Point:   <span style=\"color: #000080; text-decoration-color: #000080; font-weight: bold\">181</span>  <span style=\"font-weight: bold\">(</span> <span style=\"color: #000080; text-decoration-color: #000080; font-weight: bold\">87</span> <span style=\"font-weight: bold\">)</span>  Right Margin:\n",
       "<span style=\"color: #000080; text-decoration-color: #000080; font-weight: bold\">114</span>  <span style=\"font-weight: bold\">(</span> <span style=\"color: #000080; text-decoration-color: #000080; font-weight: bold\">55</span> <span style=\"font-weight: bold\">)</span>\n",
       "</pre>\n"
      ],
      "text/plain": [
       "<rich.jupyter.JupyterRenderable at 0x7fe724faabb0>"
      ]
     },
     "metadata": {},
     "output_type": "display_data"
    },
    {
     "data": {
      "text/html": [
       "<pre style=\"white-space:pre;overflow-x:auto;line-height:normal;font-family:Menlo,'DejaVu Sans Mono',consolas,'Courier New',monospace\">Byte  <span style=\"color: #000080; text-decoration-color: #000080; font-weight: bold\">3</span>  Nibble <span style=\"color: #000080; text-decoration-color: #000080; font-weight: bold\">0</span>  -   Left Margin:   <span style=\"color: #000080; text-decoration-color: #000080; font-weight: bold\">115</span>  <span style=\"font-weight: bold\">(</span> <span style=\"color: #000080; text-decoration-color: #000080; font-weight: bold\">56</span> <span style=\"font-weight: bold\">)</span>  Center Point:   <span style=\"color: #000080; text-decoration-color: #000080; font-weight: bold\">173</span>  <span style=\"font-weight: bold\">(</span> <span style=\"color: #000080; text-decoration-color: #000080; font-weight: bold\">84</span> <span style=\"font-weight: bold\">)</span>  Right Margin:\n",
       "<span style=\"color: #000080; text-decoration-color: #000080; font-weight: bold\">117</span>  <span style=\"font-weight: bold\">(</span> <span style=\"color: #000080; text-decoration-color: #000080; font-weight: bold\">57</span> <span style=\"font-weight: bold\">)</span>\n",
       "</pre>\n"
      ],
      "text/plain": [
       "<rich.jupyter.JupyterRenderable at 0x7fe724faad60>"
      ]
     },
     "metadata": {},
     "output_type": "display_data"
    },
    {
     "data": {
      "text/html": [
       "<pre style=\"white-space:pre;overflow-x:auto;line-height:normal;font-family:Menlo,'DejaVu Sans Mono',consolas,'Courier New',monospace\">Byte  <span style=\"color: #000080; text-decoration-color: #000080; font-weight: bold\">3</span>  Nibble <span style=\"color: #000080; text-decoration-color: #000080; font-weight: bold\">1</span>  -   Left Margin:   <span style=\"color: #000080; text-decoration-color: #000080; font-weight: bold\">113</span>  <span style=\"font-weight: bold\">(</span> <span style=\"color: #000080; text-decoration-color: #000080; font-weight: bold\">56</span> <span style=\"font-weight: bold\">)</span>  Center Point:   <span style=\"color: #000080; text-decoration-color: #000080; font-weight: bold\">170</span>  <span style=\"font-weight: bold\">(</span> <span style=\"color: #000080; text-decoration-color: #000080; font-weight: bold\">84</span> <span style=\"font-weight: bold\">)</span>  Right Margin:\n",
       "<span style=\"color: #000080; text-decoration-color: #000080; font-weight: bold\">115</span>  <span style=\"font-weight: bold\">(</span> <span style=\"color: #000080; text-decoration-color: #000080; font-weight: bold\">57</span> <span style=\"font-weight: bold\">)</span>\n",
       "</pre>\n"
      ],
      "text/plain": [
       "<rich.jupyter.JupyterRenderable at 0x7fe724faa9d0>"
      ]
     },
     "metadata": {},
     "output_type": "display_data"
    },
    {
     "data": {
      "text/html": [
       "<pre style=\"white-space:pre;overflow-x:auto;line-height:normal;font-family:Menlo,'DejaVu Sans Mono',consolas,'Courier New',monospace\">Byte  <span style=\"color: #000080; text-decoration-color: #000080; font-weight: bold\">4</span>  Nibble <span style=\"color: #000080; text-decoration-color: #000080; font-weight: bold\">0</span>  -   Left Margin:   <span style=\"color: #000080; text-decoration-color: #000080; font-weight: bold\">117</span>  <span style=\"font-weight: bold\">(</span> <span style=\"color: #000080; text-decoration-color: #000080; font-weight: bold\">57</span> <span style=\"font-weight: bold\">)</span>  Center Point:   <span style=\"color: #000080; text-decoration-color: #000080; font-weight: bold\">173</span>  <span style=\"font-weight: bold\">(</span> <span style=\"color: #000080; text-decoration-color: #000080; font-weight: bold\">84</span> <span style=\"font-weight: bold\">)</span>  Right Margin:\n",
       "<span style=\"color: #000080; text-decoration-color: #000080; font-weight: bold\">117</span>  <span style=\"font-weight: bold\">(</span> <span style=\"color: #000080; text-decoration-color: #000080; font-weight: bold\">57</span> <span style=\"font-weight: bold\">)</span>\n",
       "</pre>\n"
      ],
      "text/plain": [
       "<rich.jupyter.JupyterRenderable at 0x7fe724faacd0>"
      ]
     },
     "metadata": {},
     "output_type": "display_data"
    },
    {
     "data": {
      "text/html": [
       "<pre style=\"white-space:pre;overflow-x:auto;line-height:normal;font-family:Menlo,'DejaVu Sans Mono',consolas,'Courier New',monospace\">Byte  <span style=\"color: #000080; text-decoration-color: #000080; font-weight: bold\">4</span>  Nibble <span style=\"color: #000080; text-decoration-color: #000080; font-weight: bold\">1</span>  -   Left Margin:   <span style=\"color: #000080; text-decoration-color: #000080; font-weight: bold\">118</span>  <span style=\"font-weight: bold\">(</span> <span style=\"color: #000080; text-decoration-color: #000080; font-weight: bold\">57</span> <span style=\"font-weight: bold\">)</span>  Center Point:   <span style=\"color: #000080; text-decoration-color: #000080; font-weight: bold\">175</span>  <span style=\"font-weight: bold\">(</span> <span style=\"color: #000080; text-decoration-color: #000080; font-weight: bold\">84</span> <span style=\"font-weight: bold\">)</span>  Right Margin:\n",
       "<span style=\"color: #000080; text-decoration-color: #000080; font-weight: bold\">118</span>  <span style=\"font-weight: bold\">(</span> <span style=\"color: #000080; text-decoration-color: #000080; font-weight: bold\">57</span> <span style=\"font-weight: bold\">)</span>\n",
       "</pre>\n"
      ],
      "text/plain": [
       "<rich.jupyter.JupyterRenderable at 0x7fe724faad00>"
      ]
     },
     "metadata": {},
     "output_type": "display_data"
    },
    {
     "data": {
      "text/html": [
       "<pre style=\"white-space:pre;overflow-x:auto;line-height:normal;font-family:Menlo,'DejaVu Sans Mono',consolas,'Courier New',monospace\">Byte  <span style=\"color: #000080; text-decoration-color: #000080; font-weight: bold\">5</span>  Nibble <span style=\"color: #000080; text-decoration-color: #000080; font-weight: bold\">0</span>  -   Left Margin:   <span style=\"color: #000080; text-decoration-color: #000080; font-weight: bold\">117</span>  <span style=\"font-weight: bold\">(</span> <span style=\"color: #000080; text-decoration-color: #000080; font-weight: bold\">60</span> <span style=\"font-weight: bold\">)</span>  Center Point:   <span style=\"color: #000080; text-decoration-color: #000080; font-weight: bold\">174</span>  <span style=\"font-weight: bold\">(</span> <span style=\"color: #000080; text-decoration-color: #000080; font-weight: bold\">89</span> <span style=\"font-weight: bold\">)</span>  Right Margin:\n",
       "<span style=\"color: #000080; text-decoration-color: #000080; font-weight: bold\">117</span>  <span style=\"font-weight: bold\">(</span> <span style=\"color: #000080; text-decoration-color: #000080; font-weight: bold\">60</span> <span style=\"font-weight: bold\">)</span>\n",
       "</pre>\n"
      ],
      "text/plain": [
       "<rich.jupyter.JupyterRenderable at 0x7fe724faa370>"
      ]
     },
     "metadata": {},
     "output_type": "display_data"
    },
    {
     "data": {
      "text/html": [
       "<pre style=\"white-space:pre;overflow-x:auto;line-height:normal;font-family:Menlo,'DejaVu Sans Mono',consolas,'Courier New',monospace\">Byte  <span style=\"color: #000080; text-decoration-color: #000080; font-weight: bold\">5</span>  Nibble <span style=\"color: #000080; text-decoration-color: #000080; font-weight: bold\">1</span>  -   Left Margin:   <span style=\"color: #000080; text-decoration-color: #000080; font-weight: bold\">119</span>  <span style=\"font-weight: bold\">(</span> <span style=\"color: #000080; text-decoration-color: #000080; font-weight: bold\">58</span> <span style=\"font-weight: bold\">)</span>  Center Point:   <span style=\"color: #000080; text-decoration-color: #000080; font-weight: bold\">179</span>  <span style=\"font-weight: bold\">(</span> <span style=\"color: #000080; text-decoration-color: #000080; font-weight: bold\">87</span> <span style=\"font-weight: bold\">)</span>  Right Margin:\n",
       "<span style=\"color: #000080; text-decoration-color: #000080; font-weight: bold\">121</span>  <span style=\"font-weight: bold\">(</span> <span style=\"color: #000080; text-decoration-color: #000080; font-weight: bold\">59</span> <span style=\"font-weight: bold\">)</span>\n",
       "</pre>\n"
      ],
      "text/plain": [
       "<rich.jupyter.JupyterRenderable at 0x7fe724faabb0>"
      ]
     },
     "metadata": {},
     "output_type": "display_data"
    },
    {
     "data": {
      "text/html": [
       "<pre style=\"white-space:pre;overflow-x:auto;line-height:normal;font-family:Menlo,'DejaVu Sans Mono',consolas,'Courier New',monospace\">Byte  <span style=\"color: #000080; text-decoration-color: #000080; font-weight: bold\">6</span>  Nibble <span style=\"color: #000080; text-decoration-color: #000080; font-weight: bold\">0</span>  -   Left Margin:   <span style=\"color: #000080; text-decoration-color: #000080; font-weight: bold\">120</span>  <span style=\"font-weight: bold\">(</span> <span style=\"color: #000080; text-decoration-color: #000080; font-weight: bold\">58</span> <span style=\"font-weight: bold\">)</span>  Center Point:   <span style=\"color: #000080; text-decoration-color: #000080; font-weight: bold\">175</span>  <span style=\"font-weight: bold\">(</span> <span style=\"color: #000080; text-decoration-color: #000080; font-weight: bold\">84</span> <span style=\"font-weight: bold\">)</span>  Right Margin:\n",
       "<span style=\"color: #000080; text-decoration-color: #000080; font-weight: bold\">120</span>  <span style=\"font-weight: bold\">(</span> <span style=\"color: #000080; text-decoration-color: #000080; font-weight: bold\">58</span> <span style=\"font-weight: bold\">)</span>\n",
       "</pre>\n"
      ],
      "text/plain": [
       "<rich.jupyter.JupyterRenderable at 0x7fe724faad60>"
      ]
     },
     "metadata": {},
     "output_type": "display_data"
    },
    {
     "data": {
      "text/html": [
       "<pre style=\"white-space:pre;overflow-x:auto;line-height:normal;font-family:Menlo,'DejaVu Sans Mono',consolas,'Courier New',monospace\">Byte  <span style=\"color: #000080; text-decoration-color: #000080; font-weight: bold\">6</span>  Nibble <span style=\"color: #000080; text-decoration-color: #000080; font-weight: bold\">1</span>  -   Left Margin:   <span style=\"color: #000080; text-decoration-color: #000080; font-weight: bold\">119</span>  <span style=\"font-weight: bold\">(</span> <span style=\"color: #000080; text-decoration-color: #000080; font-weight: bold\">59</span> <span style=\"font-weight: bold\">)</span>  Center Point:   <span style=\"color: #000080; text-decoration-color: #000080; font-weight: bold\">177</span>  <span style=\"font-weight: bold\">(</span> <span style=\"color: #000080; text-decoration-color: #000080; font-weight: bold\">87</span> <span style=\"font-weight: bold\">)</span>  Right Margin:\n",
       "<span style=\"color: #000080; text-decoration-color: #000080; font-weight: bold\">119</span>  <span style=\"font-weight: bold\">(</span> <span style=\"color: #000080; text-decoration-color: #000080; font-weight: bold\">59</span> <span style=\"font-weight: bold\">)</span>\n",
       "</pre>\n"
      ],
      "text/plain": [
       "<rich.jupyter.JupyterRenderable at 0x7fe724faa9d0>"
      ]
     },
     "metadata": {},
     "output_type": "display_data"
    },
    {
     "data": {
      "text/html": [
       "<pre style=\"white-space:pre;overflow-x:auto;line-height:normal;font-family:Menlo,'DejaVu Sans Mono',consolas,'Courier New',monospace\">Byte  <span style=\"color: #000080; text-decoration-color: #000080; font-weight: bold\">7</span>  Nibble <span style=\"color: #000080; text-decoration-color: #000080; font-weight: bold\">0</span>  -   Left Margin:   <span style=\"color: #000080; text-decoration-color: #000080; font-weight: bold\">130</span>  <span style=\"font-weight: bold\">(</span> <span style=\"color: #000080; text-decoration-color: #000080; font-weight: bold\">62</span> <span style=\"font-weight: bold\">)</span>  Center Point:   <span style=\"color: #000080; text-decoration-color: #000080; font-weight: bold\">192</span>  <span style=\"font-weight: bold\">(</span> <span style=\"color: #000080; text-decoration-color: #000080; font-weight: bold\">91</span> <span style=\"font-weight: bold\">)</span>  Right Margin:\n",
       "<span style=\"color: #000080; text-decoration-color: #000080; font-weight: bold\">133</span>  <span style=\"font-weight: bold\">(</span> <span style=\"color: #000080; text-decoration-color: #000080; font-weight: bold\">63</span> <span style=\"font-weight: bold\">)</span>\n",
       "</pre>\n"
      ],
      "text/plain": [
       "<rich.jupyter.JupyterRenderable at 0x7fe724faacd0>"
      ]
     },
     "metadata": {},
     "output_type": "display_data"
    },
    {
     "data": {
      "text/html": [
       "<pre style=\"white-space:pre;overflow-x:auto;line-height:normal;font-family:Menlo,'DejaVu Sans Mono',consolas,'Courier New',monospace\">Byte  <span style=\"color: #000080; text-decoration-color: #000080; font-weight: bold\">7</span>  Nibble <span style=\"color: #000080; text-decoration-color: #000080; font-weight: bold\">1</span>  -   Left Margin:   <span style=\"color: #000080; text-decoration-color: #000080; font-weight: bold\">130</span>  <span style=\"font-weight: bold\">(</span> <span style=\"color: #000080; text-decoration-color: #000080; font-weight: bold\">62</span> <span style=\"font-weight: bold\">)</span>  Center Point:   <span style=\"color: #000080; text-decoration-color: #000080; font-weight: bold\">186</span>  <span style=\"font-weight: bold\">(</span> <span style=\"color: #000080; text-decoration-color: #000080; font-weight: bold\">88</span> <span style=\"font-weight: bold\">)</span>  Right Margin:\n",
       "<span style=\"color: #000080; text-decoration-color: #000080; font-weight: bold\">133</span>  <span style=\"font-weight: bold\">(</span> <span style=\"color: #000080; text-decoration-color: #000080; font-weight: bold\">63</span> <span style=\"font-weight: bold\">)</span>\n",
       "</pre>\n"
      ],
      "text/plain": [
       "<rich.jupyter.JupyterRenderable at 0x7fe724faad00>"
      ]
     },
     "metadata": {},
     "output_type": "display_data"
    },
    {
     "data": {
      "text/html": [
       "<pre style=\"white-space:pre;overflow-x:auto;line-height:normal;font-family:Menlo,'DejaVu Sans Mono',consolas,'Courier New',monospace\">\n",
       " Frequency <span style=\"color: #000080; text-decoration-color: #000080; font-weight: bold\">0</span>  - Write Margin - Simple Pattern - Calibration Window in pS and <span style=\"font-weight: bold\">(</span>delay taps<span style=\"font-weight: bold\">)</span>:\n",
       "\n",
       "</pre>\n"
      ],
      "text/plain": [
       "<rich.jupyter.JupyterRenderable at 0x7fe724fa8ca0>"
      ]
     },
     "metadata": {},
     "output_type": "display_data"
    },
    {
     "data": {
      "text/html": [
       "<pre style=\"white-space:pre;overflow-x:auto;line-height:normal;font-family:Menlo,'DejaVu Sans Mono',consolas,'Courier New',monospace\">Byte  <span style=\"color: #000080; text-decoration-color: #000080; font-weight: bold\">0</span>   -  Left Margin:   <span style=\"color: #000080; text-decoration-color: #000080; font-weight: bold\">166</span>  <span style=\"font-weight: bold\">(</span> <span style=\"color: #000080; text-decoration-color: #000080; font-weight: bold\">80</span> <span style=\"font-weight: bold\">)</span>  Center Point:   <span style=\"color: #000080; text-decoration-color: #000080; font-weight: bold\">452</span>  <span style=\"font-weight: bold\">(</span> <span style=\"color: #000080; text-decoration-color: #000080; font-weight: bold\">217</span> <span style=\"font-weight: bold\">)</span>  Right Margin:   <span style=\"color: #000080; text-decoration-color: #000080; font-weight: bold\">145</span>  <span style=\"font-weight: bold\">(</span>\n",
       "<span style=\"color: #000080; text-decoration-color: #000080; font-weight: bold\">70</span> <span style=\"font-weight: bold\">)</span>\n",
       "</pre>\n"
      ],
      "text/plain": [
       "<rich.jupyter.JupyterRenderable at 0x7fe724fa8a30>"
      ]
     },
     "metadata": {},
     "output_type": "display_data"
    },
    {
     "data": {
      "text/html": [
       "<pre style=\"white-space:pre;overflow-x:auto;line-height:normal;font-family:Menlo,'DejaVu Sans Mono',consolas,'Courier New',monospace\">Byte  <span style=\"color: #000080; text-decoration-color: #000080; font-weight: bold\">1</span>   -  Left Margin:   <span style=\"color: #000080; text-decoration-color: #000080; font-weight: bold\">147</span>  <span style=\"font-weight: bold\">(</span> <span style=\"color: #000080; text-decoration-color: #000080; font-weight: bold\">72</span> <span style=\"font-weight: bold\">)</span>  Center Point:   <span style=\"color: #000080; text-decoration-color: #000080; font-weight: bold\">628</span>  <span style=\"font-weight: bold\">(</span> <span style=\"color: #000080; text-decoration-color: #000080; font-weight: bold\">308</span> <span style=\"font-weight: bold\">)</span>  Right Margin:   <span style=\"color: #000080; text-decoration-color: #000080; font-weight: bold\">142</span>  <span style=\"font-weight: bold\">(</span>\n",
       "<span style=\"color: #000080; text-decoration-color: #000080; font-weight: bold\">70</span> <span style=\"font-weight: bold\">)</span>\n",
       "</pre>\n"
      ],
      "text/plain": [
       "<rich.jupyter.JupyterRenderable at 0x7fe724fa81f0>"
      ]
     },
     "metadata": {},
     "output_type": "display_data"
    },
    {
     "data": {
      "text/html": [
       "<pre style=\"white-space:pre;overflow-x:auto;line-height:normal;font-family:Menlo,'DejaVu Sans Mono',consolas,'Courier New',monospace\">Byte  <span style=\"color: #000080; text-decoration-color: #000080; font-weight: bold\">2</span>   -  Left Margin:   <span style=\"color: #000080; text-decoration-color: #000080; font-weight: bold\">165</span>  <span style=\"font-weight: bold\">(</span> <span style=\"color: #000080; text-decoration-color: #000080; font-weight: bold\">80</span> <span style=\"font-weight: bold\">)</span>  Center Point:   <span style=\"color: #000080; text-decoration-color: #000080; font-weight: bold\">72</span>  <span style=\"font-weight: bold\">(</span> <span style=\"color: #000080; text-decoration-color: #000080; font-weight: bold\">35</span> <span style=\"font-weight: bold\">)</span>  Right Margin:   <span style=\"color: #000080; text-decoration-color: #000080; font-weight: bold\">132</span>  <span style=\"font-weight: bold\">(</span> \n",
       "<span style=\"color: #000080; text-decoration-color: #000080; font-weight: bold\">64</span> <span style=\"font-weight: bold\">)</span>\n",
       "</pre>\n"
      ],
      "text/plain": [
       "<rich.jupyter.JupyterRenderable at 0x7fe724fa8c40>"
      ]
     },
     "metadata": {},
     "output_type": "display_data"
    },
    {
     "data": {
      "text/html": [
       "<pre style=\"white-space:pre;overflow-x:auto;line-height:normal;font-family:Menlo,'DejaVu Sans Mono',consolas,'Courier New',monospace\">Byte  <span style=\"color: #000080; text-decoration-color: #000080; font-weight: bold\">3</span>   -  Left Margin:   <span style=\"color: #000080; text-decoration-color: #000080; font-weight: bold\">145</span>  <span style=\"font-weight: bold\">(</span> <span style=\"color: #000080; text-decoration-color: #000080; font-weight: bold\">71</span> <span style=\"font-weight: bold\">)</span>  Center Point:   <span style=\"color: #000080; text-decoration-color: #000080; font-weight: bold\">195</span>  <span style=\"font-weight: bold\">(</span> <span style=\"color: #000080; text-decoration-color: #000080; font-weight: bold\">95</span> <span style=\"font-weight: bold\">)</span>  Right Margin:   <span style=\"color: #000080; text-decoration-color: #000080; font-weight: bold\">148</span>  <span style=\"font-weight: bold\">(</span> \n",
       "<span style=\"color: #000080; text-decoration-color: #000080; font-weight: bold\">72</span> <span style=\"font-weight: bold\">)</span>\n",
       "</pre>\n"
      ],
      "text/plain": [
       "<rich.jupyter.JupyterRenderable at 0x7fe724fa81f0>"
      ]
     },
     "metadata": {},
     "output_type": "display_data"
    },
    {
     "data": {
      "text/html": [
       "<pre style=\"white-space:pre;overflow-x:auto;line-height:normal;font-family:Menlo,'DejaVu Sans Mono',consolas,'Courier New',monospace\">Byte  <span style=\"color: #000080; text-decoration-color: #000080; font-weight: bold\">4</span>   -  Left Margin:   <span style=\"color: #000080; text-decoration-color: #000080; font-weight: bold\">143</span>  <span style=\"font-weight: bold\">(</span> <span style=\"color: #000080; text-decoration-color: #000080; font-weight: bold\">70</span> <span style=\"font-weight: bold\">)</span>  Center Point:   <span style=\"color: #000080; text-decoration-color: #000080; font-weight: bold\">561</span>  <span style=\"font-weight: bold\">(</span> <span style=\"color: #000080; text-decoration-color: #000080; font-weight: bold\">273</span> <span style=\"font-weight: bold\">)</span>  Right Margin:   <span style=\"color: #000080; text-decoration-color: #000080; font-weight: bold\">143</span>  <span style=\"font-weight: bold\">(</span>\n",
       "<span style=\"color: #000080; text-decoration-color: #000080; font-weight: bold\">70</span> <span style=\"font-weight: bold\">)</span>\n",
       "</pre>\n"
      ],
      "text/plain": [
       "<rich.jupyter.JupyterRenderable at 0x7fe724fa8850>"
      ]
     },
     "metadata": {},
     "output_type": "display_data"
    },
    {
     "data": {
      "text/html": [
       "<pre style=\"white-space:pre;overflow-x:auto;line-height:normal;font-family:Menlo,'DejaVu Sans Mono',consolas,'Courier New',monospace\">Byte  <span style=\"color: #000080; text-decoration-color: #000080; font-weight: bold\">5</span>   -  Left Margin:   <span style=\"color: #000080; text-decoration-color: #000080; font-weight: bold\">157</span>  <span style=\"font-weight: bold\">(</span> <span style=\"color: #000080; text-decoration-color: #000080; font-weight: bold\">77</span> <span style=\"font-weight: bold\">)</span>  Center Point:   <span style=\"color: #000080; text-decoration-color: #000080; font-weight: bold\">614</span>  <span style=\"font-weight: bold\">(</span> <span style=\"color: #000080; text-decoration-color: #000080; font-weight: bold\">300</span> <span style=\"font-weight: bold\">)</span>  Right Margin:   <span style=\"color: #000080; text-decoration-color: #000080; font-weight: bold\">142</span>  <span style=\"font-weight: bold\">(</span>\n",
       "<span style=\"color: #000080; text-decoration-color: #000080; font-weight: bold\">70</span> <span style=\"font-weight: bold\">)</span>\n",
       "</pre>\n"
      ],
      "text/plain": [
       "<rich.jupyter.JupyterRenderable at 0x7fe724fa8a30>"
      ]
     },
     "metadata": {},
     "output_type": "display_data"
    },
    {
     "data": {
      "text/html": [
       "<pre style=\"white-space:pre;overflow-x:auto;line-height:normal;font-family:Menlo,'DejaVu Sans Mono',consolas,'Courier New',monospace\">Byte  <span style=\"color: #000080; text-decoration-color: #000080; font-weight: bold\">6</span>   -  Left Margin:   <span style=\"color: #000080; text-decoration-color: #000080; font-weight: bold\">153</span>  <span style=\"font-weight: bold\">(</span> <span style=\"color: #000080; text-decoration-color: #000080; font-weight: bold\">74</span> <span style=\"font-weight: bold\">)</span>  Center Point:   <span style=\"color: #000080; text-decoration-color: #000080; font-weight: bold\">593</span>  <span style=\"font-weight: bold\">(</span> <span style=\"color: #000080; text-decoration-color: #000080; font-weight: bold\">286</span> <span style=\"font-weight: bold\">)</span>  Right Margin:   <span style=\"color: #000080; text-decoration-color: #000080; font-weight: bold\">144</span>  <span style=\"font-weight: bold\">(</span>\n",
       "<span style=\"color: #000080; text-decoration-color: #000080; font-weight: bold\">70</span> <span style=\"font-weight: bold\">)</span>\n",
       "</pre>\n"
      ],
      "text/plain": [
       "<rich.jupyter.JupyterRenderable at 0x7fe724fa87f0>"
      ]
     },
     "metadata": {},
     "output_type": "display_data"
    },
    {
     "data": {
      "text/html": [
       "<pre style=\"white-space:pre;overflow-x:auto;line-height:normal;font-family:Menlo,'DejaVu Sans Mono',consolas,'Courier New',monospace\">Byte  <span style=\"color: #000080; text-decoration-color: #000080; font-weight: bold\">7</span>   -  Left Margin:   <span style=\"color: #000080; text-decoration-color: #000080; font-weight: bold\">158</span>  <span style=\"font-weight: bold\">(</span> <span style=\"color: #000080; text-decoration-color: #000080; font-weight: bold\">76</span> <span style=\"font-weight: bold\">)</span>  Center Point:   <span style=\"color: #000080; text-decoration-color: #000080; font-weight: bold\">623</span>  <span style=\"font-weight: bold\">(</span> <span style=\"color: #000080; text-decoration-color: #000080; font-weight: bold\">299</span> <span style=\"font-weight: bold\">)</span>  Right Margin:   <span style=\"color: #000080; text-decoration-color: #000080; font-weight: bold\">129</span>  <span style=\"font-weight: bold\">(</span>\n",
       "<span style=\"color: #000080; text-decoration-color: #000080; font-weight: bold\">62</span> <span style=\"font-weight: bold\">)</span>\n",
       "</pre>\n"
      ],
      "text/plain": [
       "<rich.jupyter.JupyterRenderable at 0x7fe724fa8b80>"
      ]
     },
     "metadata": {},
     "output_type": "display_data"
    },
    {
     "data": {
      "text/html": [
       "<pre style=\"white-space:pre;overflow-x:auto;line-height:normal;font-family:Menlo,'DejaVu Sans Mono',consolas,'Courier New',monospace\">\n",
       " Frequency <span style=\"color: #000080; text-decoration-color: #000080; font-weight: bold\">0</span>  - Write Margin - Complex Pattern - Calibration Window in pS and <span style=\"font-weight: bold\">(</span>delay taps<span style=\"font-weight: bold\">)</span>:\n",
       "\n",
       "</pre>\n"
      ],
      "text/plain": [
       "<rich.jupyter.JupyterRenderable at 0x7fe724f9e250>"
      ]
     },
     "metadata": {},
     "output_type": "display_data"
    },
    {
     "data": {
      "text/html": [
       "<pre style=\"white-space:pre;overflow-x:auto;line-height:normal;font-family:Menlo,'DejaVu Sans Mono',consolas,'Courier New',monospace\">Byte  <span style=\"color: #000080; text-decoration-color: #000080; font-weight: bold\">0</span>   -  Left Margin:   <span style=\"color: #000080; text-decoration-color: #000080; font-weight: bold\">152</span>  <span style=\"font-weight: bold\">(</span> <span style=\"color: #000080; text-decoration-color: #000080; font-weight: bold\">73</span> <span style=\"font-weight: bold\">)</span>  Center Point:   <span style=\"color: #000080; text-decoration-color: #000080; font-weight: bold\">452</span>  <span style=\"font-weight: bold\">(</span> <span style=\"color: #000080; text-decoration-color: #000080; font-weight: bold\">217</span> <span style=\"font-weight: bold\">)</span>  Right Margin:   <span style=\"color: #000080; text-decoration-color: #000080; font-weight: bold\">118</span>  <span style=\"font-weight: bold\">(</span>\n",
       "<span style=\"color: #000080; text-decoration-color: #000080; font-weight: bold\">57</span> <span style=\"font-weight: bold\">)</span>\n",
       "</pre>\n"
      ],
      "text/plain": [
       "<rich.jupyter.JupyterRenderable at 0x7fe724f9e520>"
      ]
     },
     "metadata": {},
     "output_type": "display_data"
    },
    {
     "data": {
      "text/html": [
       "<pre style=\"white-space:pre;overflow-x:auto;line-height:normal;font-family:Menlo,'DejaVu Sans Mono',consolas,'Courier New',monospace\">Byte  <span style=\"color: #000080; text-decoration-color: #000080; font-weight: bold\">1</span>   -  Left Margin:   <span style=\"color: #000080; text-decoration-color: #000080; font-weight: bold\">142</span>  <span style=\"font-weight: bold\">(</span> <span style=\"color: #000080; text-decoration-color: #000080; font-weight: bold\">70</span> <span style=\"font-weight: bold\">)</span>  Center Point:   <span style=\"color: #000080; text-decoration-color: #000080; font-weight: bold\">628</span>  <span style=\"font-weight: bold\">(</span> <span style=\"color: #000080; text-decoration-color: #000080; font-weight: bold\">308</span> <span style=\"font-weight: bold\">)</span>  Right Margin:   <span style=\"color: #000080; text-decoration-color: #000080; font-weight: bold\">102</span>  <span style=\"font-weight: bold\">(</span>\n",
       "<span style=\"color: #000080; text-decoration-color: #000080; font-weight: bold\">50</span> <span style=\"font-weight: bold\">)</span>\n",
       "</pre>\n"
      ],
      "text/plain": [
       "<rich.jupyter.JupyterRenderable at 0x7fe724f86880>"
      ]
     },
     "metadata": {},
     "output_type": "display_data"
    },
    {
     "data": {
      "text/html": [
       "<pre style=\"white-space:pre;overflow-x:auto;line-height:normal;font-family:Menlo,'DejaVu Sans Mono',consolas,'Courier New',monospace\">Byte  <span style=\"color: #000080; text-decoration-color: #000080; font-weight: bold\">2</span>   -  Left Margin:   <span style=\"color: #000080; text-decoration-color: #000080; font-weight: bold\">142</span>  <span style=\"font-weight: bold\">(</span> <span style=\"color: #000080; text-decoration-color: #000080; font-weight: bold\">69</span> <span style=\"font-weight: bold\">)</span>  Center Point:   <span style=\"color: #000080; text-decoration-color: #000080; font-weight: bold\">72</span>  <span style=\"font-weight: bold\">(</span> <span style=\"color: #000080; text-decoration-color: #000080; font-weight: bold\">35</span> <span style=\"font-weight: bold\">)</span>  Right Margin:   <span style=\"color: #000080; text-decoration-color: #000080; font-weight: bold\">122</span>  <span style=\"font-weight: bold\">(</span> \n",
       "<span style=\"color: #000080; text-decoration-color: #000080; font-weight: bold\">59</span> <span style=\"font-weight: bold\">)</span>\n",
       "</pre>\n"
      ],
      "text/plain": [
       "<rich.jupyter.JupyterRenderable at 0x7fe724f9e400>"
      ]
     },
     "metadata": {},
     "output_type": "display_data"
    },
    {
     "data": {
      "text/html": [
       "<pre style=\"white-space:pre;overflow-x:auto;line-height:normal;font-family:Menlo,'DejaVu Sans Mono',consolas,'Courier New',monospace\">Byte  <span style=\"color: #000080; text-decoration-color: #000080; font-weight: bold\">3</span>   -  Left Margin:   <span style=\"color: #000080; text-decoration-color: #000080; font-weight: bold\">148</span>  <span style=\"font-weight: bold\">(</span> <span style=\"color: #000080; text-decoration-color: #000080; font-weight: bold\">72</span> <span style=\"font-weight: bold\">)</span>  Center Point:   <span style=\"color: #000080; text-decoration-color: #000080; font-weight: bold\">195</span>  <span style=\"font-weight: bold\">(</span> <span style=\"color: #000080; text-decoration-color: #000080; font-weight: bold\">95</span> <span style=\"font-weight: bold\">)</span>  Right Margin:   <span style=\"color: #000080; text-decoration-color: #000080; font-weight: bold\">121</span>  <span style=\"font-weight: bold\">(</span> \n",
       "<span style=\"color: #000080; text-decoration-color: #000080; font-weight: bold\">59</span> <span style=\"font-weight: bold\">)</span>\n",
       "</pre>\n"
      ],
      "text/plain": [
       "<rich.jupyter.JupyterRenderable at 0x7fe724f86880>"
      ]
     },
     "metadata": {},
     "output_type": "display_data"
    },
    {
     "data": {
      "text/html": [
       "<pre style=\"white-space:pre;overflow-x:auto;line-height:normal;font-family:Menlo,'DejaVu Sans Mono',consolas,'Courier New',monospace\">Byte  <span style=\"color: #000080; text-decoration-color: #000080; font-weight: bold\">4</span>   -  Left Margin:   <span style=\"color: #000080; text-decoration-color: #000080; font-weight: bold\">141</span>  <span style=\"font-weight: bold\">(</span> <span style=\"color: #000080; text-decoration-color: #000080; font-weight: bold\">69</span> <span style=\"font-weight: bold\">)</span>  Center Point:   <span style=\"color: #000080; text-decoration-color: #000080; font-weight: bold\">561</span>  <span style=\"font-weight: bold\">(</span> <span style=\"color: #000080; text-decoration-color: #000080; font-weight: bold\">273</span> <span style=\"font-weight: bold\">)</span>  Right Margin:   <span style=\"color: #000080; text-decoration-color: #000080; font-weight: bold\">125</span>  <span style=\"font-weight: bold\">(</span>\n",
       "<span style=\"color: #000080; text-decoration-color: #000080; font-weight: bold\">61</span> <span style=\"font-weight: bold\">)</span>\n",
       "</pre>\n"
      ],
      "text/plain": [
       "<rich.jupyter.JupyterRenderable at 0x7fe724f9e520>"
      ]
     },
     "metadata": {},
     "output_type": "display_data"
    },
    {
     "data": {
      "text/html": [
       "<pre style=\"white-space:pre;overflow-x:auto;line-height:normal;font-family:Menlo,'DejaVu Sans Mono',consolas,'Courier New',monospace\">Byte  <span style=\"color: #000080; text-decoration-color: #000080; font-weight: bold\">5</span>   -  Left Margin:   <span style=\"color: #000080; text-decoration-color: #000080; font-weight: bold\">149</span>  <span style=\"font-weight: bold\">(</span> <span style=\"color: #000080; text-decoration-color: #000080; font-weight: bold\">73</span> <span style=\"font-weight: bold\">)</span>  Center Point:   <span style=\"color: #000080; text-decoration-color: #000080; font-weight: bold\">614</span>  <span style=\"font-weight: bold\">(</span> <span style=\"color: #000080; text-decoration-color: #000080; font-weight: bold\">300</span> <span style=\"font-weight: bold\">)</span>  Right Margin:   <span style=\"color: #000080; text-decoration-color: #000080; font-weight: bold\">124</span>  <span style=\"font-weight: bold\">(</span>\n",
       "<span style=\"color: #000080; text-decoration-color: #000080; font-weight: bold\">61</span> <span style=\"font-weight: bold\">)</span>\n",
       "</pre>\n"
      ],
      "text/plain": [
       "<rich.jupyter.JupyterRenderable at 0x7fe724f86880>"
      ]
     },
     "metadata": {},
     "output_type": "display_data"
    },
    {
     "data": {
      "text/html": [
       "<pre style=\"white-space:pre;overflow-x:auto;line-height:normal;font-family:Menlo,'DejaVu Sans Mono',consolas,'Courier New',monospace\">Byte  <span style=\"color: #000080; text-decoration-color: #000080; font-weight: bold\">6</span>   -  Left Margin:   <span style=\"color: #000080; text-decoration-color: #000080; font-weight: bold\">146</span>  <span style=\"font-weight: bold\">(</span> <span style=\"color: #000080; text-decoration-color: #000080; font-weight: bold\">71</span> <span style=\"font-weight: bold\">)</span>  Center Point:   <span style=\"color: #000080; text-decoration-color: #000080; font-weight: bold\">593</span>  <span style=\"font-weight: bold\">(</span> <span style=\"color: #000080; text-decoration-color: #000080; font-weight: bold\">286</span> <span style=\"font-weight: bold\">)</span>  Right Margin:   <span style=\"color: #000080; text-decoration-color: #000080; font-weight: bold\">117</span>  <span style=\"font-weight: bold\">(</span>\n",
       "<span style=\"color: #000080; text-decoration-color: #000080; font-weight: bold\">57</span> <span style=\"font-weight: bold\">)</span>\n",
       "</pre>\n"
      ],
      "text/plain": [
       "<rich.jupyter.JupyterRenderable at 0x7fe724f9e400>"
      ]
     },
     "metadata": {},
     "output_type": "display_data"
    },
    {
     "data": {
      "text/html": [
       "<pre style=\"white-space:pre;overflow-x:auto;line-height:normal;font-family:Menlo,'DejaVu Sans Mono',consolas,'Courier New',monospace\">Byte  <span style=\"color: #000080; text-decoration-color: #000080; font-weight: bold\">7</span>   -  Left Margin:   <span style=\"color: #000080; text-decoration-color: #000080; font-weight: bold\">141</span>  <span style=\"font-weight: bold\">(</span> <span style=\"color: #000080; text-decoration-color: #000080; font-weight: bold\">68</span> <span style=\"font-weight: bold\">)</span>  Center Point:   <span style=\"color: #000080; text-decoration-color: #000080; font-weight: bold\">623</span>  <span style=\"font-weight: bold\">(</span> <span style=\"color: #000080; text-decoration-color: #000080; font-weight: bold\">299</span> <span style=\"font-weight: bold\">)</span>  Right Margin:   <span style=\"color: #000080; text-decoration-color: #000080; font-weight: bold\">133</span>  <span style=\"font-weight: bold\">(</span>\n",
       "<span style=\"color: #000080; text-decoration-color: #000080; font-weight: bold\">64</span> <span style=\"font-weight: bold\">)</span>\n",
       "</pre>\n"
      ],
      "text/plain": [
       "<rich.jupyter.JupyterRenderable at 0x7fe724f86880>"
      ]
     },
     "metadata": {},
     "output_type": "display_data"
    },
    {
     "name": "stdout",
     "output_type": "stream",
     "text": [
      "Report Done.\n",
      "\n"
     ]
    }
   ],
   "source": [
    "# Use a single report command to get all latest essential\n",
    "# Status and decoded data collected as it presents\n",
    "ddr.report()\n",
    "# Specify True to argument 1, and name/path to argument 2\n",
    "# to get the report output generated and saved to a file\n",
    "ddr.report(True, \"test_out.txt\")\n",
    "print(\"Report Done.\\n\")"
   ]
  },
  {
   "cell_type": "markdown",
   "id": "2dc611c4",
   "metadata": {
    "papermill": {
     "duration": 0.042092,
     "end_time": "2023-10-20T19:03:24.330307",
     "exception": false,
     "start_time": "2023-10-20T19:03:24.288215",
     "status": "completed"
    },
    "tags": []
   },
   "source": [
    "## 8 - Dump the complete set of internal properties as json\n",
    "\n",
    "This demonstrates how to get a Python dictionary of all the low level DDR properties. These can be converted to JSON easily for export to other tools."
   ]
  },
  {
   "cell_type": "code",
   "execution_count": 11,
   "id": "e26c01c1",
   "metadata": {
    "execution": {
     "iopub.execute_input": "2023-10-20T19:03:24.423425Z",
     "iopub.status.busy": "2023-10-20T19:03:24.423055Z",
     "iopub.status.idle": "2023-10-20T19:03:24.566809Z",
     "shell.execute_reply": "2023-10-20T19:03:24.565772Z"
    },
    "papermill": {
     "duration": 0.195697,
     "end_time": "2023-10-20T19:03:24.570593",
     "exception": false,
     "start_time": "2023-10-20T19:03:24.374896",
     "status": "completed"
    },
    "tags": []
   },
   "outputs": [
    {
     "name": "stdout",
     "output_type": "stream",
     "text": [
      "{\n",
      "    \"bisc_idly1_align_nibble14\": 69,\n",
      "    \"f1_wrdqdbi_deskew_dq_odly_bit59\": 0,\n",
      "    \"rdvref_vref_low_bound_nibble12\": 0,\n",
      "    \"wrvref_vref_upp_bound_rank0_byte5\": 0,\n",
      "    \"rdvref_vref_low_bound_nibble06\": 0,\n",
      "    \"f1_xpll_divclk_ht\": 1,\n",
      "    \"f1_wrdqdbi_stg3_dq_odly_bit04\": 0,\n",
      "    \"bisc_idly0_align_nibble12\": 67,\n",
      "    \"cal_time_8_0\": 58,\n",
      "    \"cal_warning_33\": 0,\n",
      "    \"f0_dqsgate_stg1_overflow_22\": 0,\n",
      "    \"f1_wrdqdbi_odly_dq_final_bit48\": 0,\n",
      "    \"f1_wrdqdbi_left_edge_dq_bit53\": 0,\n",
      "    \"reg_safe_config7\": 262696,\n",
      "    \"f0_wrdqdbi_deskew_dq_odly_bit58\": 127,\n",
      "    \"f0_wrdqdbi_deskew_dq_odly_fcrse_bit37\": 89,\n",
      "    \"f1_rddq_idelay_final_bit40\": 0,\n",
      "    \"rdmargin_pqtr_right_nibble04\": 0,\n",
      "    \"ddrmc_isr_na_cmd0\": 0,\n",
      "    \"dqstrack_rldlyrnk_fine_min_byte3\": 27,\n",
      "    \"f0_wrdqdbi_stg3_dq_odly_bit24\": 78,\n",
      "    \"f0_rdcmplx_pqtr_right_short_nibble14\": 166,\n",
      "    \"f1_wrdqdbi_odly_dq_final_bit51\": 0,\n",
      "    \"f0_rd_comp_fall_ctp_nib_03\": [\n",
      "        82,\n",
      "        169\n",
      "    ],\n",
      "    \"f0_wrcmplx_odly_dq_final_bit21\": 27,\n",
      "    \"f0_wrdqdbi_right_edge_dqs_byte4\": 115,\n",
      "    \"rdvref_right_vref_low_bound_nibble00\": 0,\n",
      "    \"f1_rddq_idelay_final_bit24\": 0,\n",
      "    \"nsu1_perf_mon_ctl_1_1\": 0,\n",
      "    \"rdvref_vref_low_bound_nibble05\": 0,\n",
      "    \"bisc_pqtr_align_nibble05\": 0,\n",
      "    \"f0_rdcmplx_pqtr_right_short_fcrse_nibble05\": 169,\n",
      "    \"cal_stage_time_23\": 0,\n",
      "    \"dqs_track_en\": 1,\n",
      "    \"f1_wrlat_wldlyrnk_crse_final_rank0_byte0\": 0,\n",
      "    \"f1_rdcmplx_pqtr_right_nibble07\": 0,\n",
      "    \"f0_rddq_pqtr_left_nibble08\": 18,\n",
      "    \"vttrack_rldlyqtr_min_nibble15\": 74,\n",
      "    \"f0_rdcmplx_nqtr_final_nibble10\": 89,\n",
      "    \"nsu2_perf_mon_1_0\": 0,\n",
      "    \"f1_wrdqdbi_stg5_dqs_odly_byte5\": 0,\n",
      "    \"rdvref_left_vref_def_nibble15\": 0,\n",
      "    \"f1_rddq_pqtr_left_nibble08\": 0,\n",
      "    \"f1_rdcmplx_pqtr_left_short_nibble13\": 0,\n",
      "    \"f1_rddq_pqtr_left_nibble06\": 0,\n",
      "    \"f0_dqsgate_stg1_rldlyrnk_fine_rank0_byte1\": 67,\n",
      "    \"f0_rd_comp_rise_lm_nib_11\": [\n",
      "        65,\n",
      "        137\n",
      "    ],\n",
      "    \"f1_rddq_pqtr_right_nibble14\": 0,\n",
      "    \"rdvref_right_vref_final_nibble11\": 0,\n",
      "    \"bisc_rl_dly_qtr_nibble05\": 74,\n",
      "    \"ddrmc_isr_ce1_ecc0\": 0,\n",
      "    \"cal_warning_18\": 0,\n",
      "    \"cal_warning_41\": 0,\n",
      "    \"cal_seq_status_32\": 303,\n",
      "    \"cal_seq_status_39\": 444,\n",
      "    \"f1_wrdqdbi_odly_dq_final_bit33\": 0,\n",
      "    \"f0_wrdqdbi_deskew_dq_odly_fcrse_bit57\": 128,\n",
      "    \"0x3c_EN_VT_TRACK\": \"Pass\",\n",
      "    \"f1_calbisc_rl_dly_qtr_nibble06\": 0,\n",
      "    \"f0_dqsgate_stg1_overflow_00\": 255,\n",
      "    \"f1_wrdqdbi_deskew_dq_odly_fcrse_bit26\": 0,\n",
      "    \"f1_rddq_idelay_final_bit28\": 0,\n",
      "    \"f1_dqsgate_stg2_read_lat_rank0_byte5\": 0,\n",
      "    \"f0_rdcmplx_idelay_offset_nibble04\": 0,\n",
      "    \"f0_rd_simp_fall_lm_nib_09\": [\n",
      "        69,\n",
      "        143\n",
      "    ],\n",
      "    \"f0_wrdqdbi_deskew_dbi_odly_fcrse_byte3\": 148,\n",
      "    \"wrmargin_left_byte0\": 0,\n",
      "    \"f0_dqsgate_stg1_rldlyrnk_fine_rank0_byte3\": 23,\n",
      "    \"wrvref_left_vref_def_rank0_byte2\": 0,\n",
      "    \"bisc_idly1_align_nibble01\": 76,\n",
      "    \"cal_stage_ran\": 63,\n",
      "    \"cal_seq_status_21\": 292,\n",
      "    \"cal_error_data_nibble_8_0\": 0,\n",
      "    \"f0_rddq_nqtr_left_nibble00\": 23,\n",
      "    \"cal_warning_25\": 0,\n",
      "    \"f0_wrdqdbi_left_edge_dq_bit52\": 46,\n",
      "    \"f0_calbisc_rl_dly_nqtr_nibble07\": 77,\n",
      "    \"f1_rddq_idelay_final_bit29\": 0,\n",
      "    \"f1_wrdqdbi_stg3_dq_odly_bit13\": 0,\n",
      "    \"ddrmc_isr\": 0,\n",
      "    \"f0_rd_simp_fall_lm_nib_15\": [\n",
      "        72,\n",
      "        152\n",
      "    ],\n",
      "    \"f1_rdcmplx_idelay_offset_nibble14\": 0,\n",
      "    \"f0_rdcmplx_pqtr_final_nibble15\": 86,\n",
      "    \"f0_rdprbs_pqtr_left_margin_nibble03\": 0,\n",
      "    \"f1_rcd_rc0f\": 0,\n",
      "    \"f0_wrlat_min_latency\": 16,\n",
      "    \"f1_wrcmplx_odly_dqs_final_byte0\": 0,\n",
      "    \"f0_rdcmplx_nqtr_left_short_nibble05\": 31,\n",
      "    \"f0_wrdqdbi_odly_dqs_final_byte0\": 67,\n",
      "    \"f0_wrcmplx_odly_dqs_final_byte2\": 35,\n",
      "    \"f0_wrdqdbi_odly_dq_final_bit35\": 21,\n",
      "    \"cal_post_status_03\": 0,\n",
      "    \"f0_dqsgate_stg1_overflow_46\": 0,\n",
      "    \"cal_seq_status_38\": 315,\n",
      "    \"f0_tck_lsb\": 113,\n",
      "    \"wrvref_left_vref_final_rank0_byte4\": 0,\n",
      "    \"f0_rdprbs_nqtr_left_margin_nibble02\": 0,\n",
      "    \"f1_wrcmplx_odly_dqs_final_byte1\": 0,\n",
      "    \"f0_rdcmplx_nqtr_right_short_nibble05\": 165,\n",
      "    \"cal_error_bit_phy_nibble_11\": 0,\n",
      "    \"f1_rddq_pqtr_final_nibble04\": 0,\n",
      "    \"xpi_read_offset\": 2197,\n",
      "    \"f0_wrdqdbi_stg3_dq_odly_bit22\": 19,\n",
      "    \"f0_rd_simp_fall_rm_nib_09\": [\n",
      "        69,\n",
      "        143\n",
      "    ],\n",
      "    \"f1_rddq_pqtr_right_nibble04\": 0,\n",
      "    \"f0_rdcmplx_pqtr_right_short_fcrse_nibble15\": 167,\n",
      "    \"f0_rd_comp_fall_ctp_nib_08\": [\n",
      "        84,\n",
      "        173\n",
      "    ],\n",
      "    \"f0_rddq_idelay_final_bit13\": 75,\n",
      "    \"f1_rdcmplx_nqtr_right_nibble15\": 0,\n",
      "    \"f1_wrdqdbi_deskew_dq_odly_bit27\": 0,\n",
      "    \"f1_wrdqdbi_left_edge_dbi_byte0\": 0,\n",
      "    \"f0_qtr_time\": 156,\n",
      "    \"rdvref_right_vref_def_nibble11\": 0,\n",
      "    \"cal_warning_51\": 0,\n",
      "    \"bisc_idly4_align_nibble12\": 72,\n",
      "    \"f0_rdcmplx_pqtr_right_short_fcrse_nibble14\": 171,\n",
      "    \"f0_wrdqdbi_stg3_dq_odly_bit10\": 62,\n",
      "    \"f1_wrdqdbi_deskew_dq_odly_bit36\": 0,\n",
      "    \"f1_rddq_pqtr_left_nibble05\": 0,\n",
      "    \"f1_rdcmplx_nqtr_right_short_fcrse_nibble04\": 0,\n",
      "    \"f0_rdcmplx_nqtr_left_nibble15\": 26,\n",
      "    \"cal_stage.08_F0_READ_DQ_DBI_CAL_COMPLEX\": \"Pass\",\n",
      "    \"f1_calbisc_rl_dly_pqtr_nibble06\": 0,\n",
      "    \"f1_wrdqdbi_stg1_dqs_delay_byte2\": 0,\n",
      "    \"cal_seq_status_28\": 300,\n",
      "    \"f1_wrdqdbi_stg2_dqs_odly_byte4\": 0,\n",
      "    \"f1_rdcmplx_pqtr_right_short_nibble10\": 0,\n",
      "    \"f0_rddq_idelay_final_bit02\": 76,\n",
      "    \"f0_rdcmplx_nqtr_right_short_fcrse_nibble07\": 163,\n",
      "    \"cal_seq_status_34\": 305,\n",
      "    \"f1_wrdqdbi_left_edge_dq_bit62\": 0,\n",
      "    \"f1_rddq_nqtr_right_fcrse_nibble10\": 0,\n",
      "    \"bisc_nqtr_align_nibble02\": 0,\n",
      "    \"f0_wrdqdbi_deskew_dq_odly_bit42\": 137,\n",
      "    \"f0_dqsgate_stg1_overflow_19\": 0,\n",
      "    \"f0_rdcmplx_pqtr_left_nibble02\": 22,\n",
      "    \"bisc_idly5_align_nibble12\": 70,\n",
      "    \"f0_wrdqdbi_deskew_dbi_odly_byte5\": 132,\n",
      "    \"f1_rddq_nqtr_final_nibble12\": 0,\n",
      "    \"ddrmc_isr_ce0_ecc0\": 0,\n",
      "    \"f1_wrdqdbi_deskew_dq_odly_bit05\": 0,\n",
      "    \"f0_wrdqdbi_stg1_bit_status_byte6\": 0,\n",
      "    \"f1_wrdqdbi_deskew_dq_odly_fcrse_bit37\": 0,\n",
      "    \"f0_wrdqdbi_deskew_dq_odly_fcrse_bit22\": 89,\n",
      "    \"rdvref_left_vref_final_nibble01\": 0,\n",
      "    \"f0_rdprbs_pqtr_left_margin_nibble07\": 0,\n",
      "    \"dqstrack_rldlyrnk_fine_max_byte1\": 69,\n",
      "    \"f1_wrlat_match_rank0_byte5\": 0,\n",
      "    \"f0_rdcmplx_pqtr_left_short_nibble04\": 24,\n",
      "    \"f0_wr_comp_lm_byte_07\": [\n",
      "        68,\n",
      "        141\n",
      "    ],\n",
      "    \"f1_wrdqdbi_deskew_dbi_odly_byte3\": 0,\n",
      "    \"f0_rdcmplx_nqtr_right_short_nibble07\": 161,\n",
      "    \"f0_wrdqdbi_deskew_dq_odly_fcrse_bit28\": 148,\n",
      "    \"nsu3_perf_mon_ctl_1_1\": 0,\n",
      "    \"f0_dqsgate_stg1_rldlyrnk_crse_rank0_byte5\": 14,\n",
      "    \"f1_wrdqdbi_deskew_dq_odly_fcrse_bit41\": 0,\n",
      "    \"f1_wrdqdbi_deskew_dq_odly_bit55\": 0,\n",
      "    \"f1_wrdqdbi_odly_dq_final_bit42\": 0,\n",
      "    \"f1_rdcmplx_pqtr_left_nibble02\": 0,\n",
      "    \"f1_dqsgate_stg2_read_lat_rank0_byte2\": 0,\n",
      "    \"rdvref_left_vref_def_nibble08\": 0,\n",
      "    \"f1_wrdqdbi_stg2_dq_odly_bit31\": 0,\n",
      "    \"f0_rdcmplx_nqtr_final_nibble13\": 87,\n",
      "    \"f0_rddq_idelay_final_bit59\": 78,\n",
      "    \"f1_rddq_idelay_final_bit01\": 0,\n",
      "    \"f0_wrlat_match_rank0_byte6\": 17,\n",
      "    \"f1_dqsgate_stg1_overflow_00\": 0,\n",
      "    \"f1_wrdqdbi_stg6_dbi_odly_byte2\": 0,\n",
      "    \"f1_wrdqdbi_stg2_dq_odly_bit33\": 0,\n",
      "    \"f1_wrlvl_crse_stg1_rank0_byte4\": 0,\n",
      "    \"f1_rddq_nqtr_right_nibble12\": 0,\n",
      "    \"iobmap_dqs_12\": 0,\n",
      "    \"cal_stage_time_04\": 0,\n",
      "    \"f0_wrdqdbi_left_margin_byte0\": 80,\n",
      "    \"rdmargin_nqtr_left_nibble06\": 0,\n",
      "    \"f0_calbisc_rl_dly_nqtr_nibble02\": 77,\n",
      "    \"cal_stage_time_61\": 0,\n",
      "    \"f0_rdprbs_pqtr_right_margin_nibble01\": 0,\n",
      "    \"f1_calbisc_rl_dly_nqtr_nibble14\": 0,\n",
      "    \"f0_wrdqdbi_deskew_dq_odly_bit38\": 112,\n",
      "    \"f0_rdcmplx_pqtr_left_nibble10\": 29,\n",
      "    \"cal_seq_status_43\": 0,\n",
      "    \"dqstrack_rldlyrnk_fine_min_byte5\": 41,\n",
      "    \"f1_calbisc_rl_dly_nqtr_nibble01\": 0,\n",
      "    \"f1_rddq_pqtr_left_nibble04\": 0,\n",
      "    \"f0_rddq_idelay_final_bit19\": 79,\n",
      "    \"f0_rdcmplx_pqtr_right_short_nibble06\": 168,\n",
      "    \"f1_rdprbs_nqtr_left_margin_nibble09\": 0,\n",
      "    \"f0_wr_simp_lm_byte_01\": [\n",
      "        72,\n",
      "        147\n",
      "    ],\n",
      "    \"f0_wrdqdbi_stg3_dq_odly_bit43\": 55,\n",
      "    \"lranks\": 1,\n",
      "    \"phy_rank_write_override\": 0,\n",
      "    \"f1_wrdqdbi_deskew_dq_odly_bit50\": 0,\n",
      "    \"f0_wrdqdbi_deskew_dq_odly_bit16\": 110,\n",
      "    \"f1_dqsgate_stg1_overflow_27\": 0,\n",
      "    \"f1_wrdqdbi_deskew_dbi_odly_fcrse_byte5\": 0,\n",
      "    \"f0_dqsgate_stg1_overflow_55\": 0,\n",
      "    \"f1_dqsgate_rldlyrnk_crse_final_rank0_byte1\": 0,\n",
      "    \"f0_wr_comp_rm_byte_03\": [\n",
      "        59,\n",
      "        121\n",
      "    ],\n",
      "    \"bisc_idly0_align_nibble01\": 76,\n",
      "    \"f1_rdcmplx_nqtr_right_short_nibble14\": 0,\n",
      "    \"f1_rddq_pqtr_right_nibble15\": 0,\n",
      "    \"f0_rd_simp_rise_lm_nib_07\": [\n",
      "        73,\n",
      "        150\n",
      "    ],\n",
      "    \"f1_rdprbs_nqtr_left_margin_nibble02\": 0,\n",
      "    \"f1_wrcmplx_odly_dqs_final_byte2\": 0,\n",
      "    \"f0_rd_simp_rise_lm_nib_13\": [\n",
      "        73,\n",
      "        150\n",
      "    ],\n",
      "    \"nsu0_perf_filter_0_1\": 0,\n",
      "    \"phy_oe_nib14_dly\": 0,\n",
      "    \"bisc_pqtr_align_nibble11\": 0,\n",
      "    \"phy_rden5_dly\": 27,\n",
      "    \"f0_calbisc_rl_dly_qtr_nibble07\": 76,\n",
      "    \"f1_rddq_nqtr_right_nibble07\": 0,\n",
      "    \"f1_rdcmplx_pqtr_right_short_fcrse_nibble02\": 0,\n",
      "    \"f0_wrdqdbi_odly_dq_final_bit24\": 73,\n",
      "    \"f0_rdcmplx_pqtr_right_short_fcrse_nibble12\": 167,\n",
      "    \"cal_warning_64\": 0,\n",
      "    \"bisc_nqtr_nibble02\": 77,\n",
      "    \"mgchk_abort\": 0,\n",
      "    \"f0_rdcmplx_nqtr_right_nibble12\": 142,\n",
      "    \"f1_wrdqdbi_deskew_dq_odly_bit42\": 0,\n",
      "    \"f1_rdcmplx_nqtr_left_nibble15\": 0,\n",
      "    \"f0_rddq_pqtr_right_nibble13\": 164,\n",
      "    \"f1_wrcmplx_left_margin_byte1\": 0,\n",
      "    \"f0_wrdqdbi_deskew_dbi_odly_byte4\": 99,\n",
      "    \"tag_ver_2\": 0,\n",
      "    \"f1_rddq_qtr_deskew_nibble09\": 0,\n",
      "    \"f1_rdprbs_pqtr_left_margin_nibble10\": 0,\n",
      "    \"f1_rddq_nqtr_left_nibble11\": 0,\n",
      "    \"f0_rddq_idelay_final_bit18\": 83,\n",
      "    \"f0_wrdqdbi_deskew_dbi_odly_fcrse_byte1\": 132,\n",
      "    \"f0_wr_simp_ctp_byte_06\": [\n",
      "        286,\n",
      "        593\n",
      "    ],\n",
      "    \"f1_wrdqdbi_stg4_dqs_delay_byte6\": 0,\n",
      "    \"xpi_oe_all_nib_dly_offset\": 8,\n",
      "    \"f1_rdcmplx_nqtr_right_short_nibble10\": 0,\n",
      "    \"f1_calbisc_rl_dly_nqtr_nibble13\": 0,\n",
      "    \"f0_rdprbs_nqtr_right_margin_nibble14\": 0,\n",
      "    \"f1_dqsgate_stg1_overflow_09\": 0,\n",
      "    \"f1_rddq_idelay_final_bit20\": 0,\n",
      "    \"f1_wrdqdbi_stg2_dqs_odly_byte0\": 0,\n",
      "    \"f1_wrdqdbi_stg3_dq_odly_bit02\": 0,\n",
      "    \"f0_wrlvl_noise_fcrse_rank0_byte6\": 45,\n",
      "    \"f0_wrdqdbi_deskew_dq_odly_fcrse_bit48\": 114,\n",
      "    \"f1_wrdqdbi_stg3_dq_odly_bit24\": 0,\n",
      "    \"f1_wrdqdbi_odly_dq_final_bit23\": 0,\n",
      "    \"f1_rddq_pqtr_final_nibble11\": 0,\n",
      "    \"f0_rd_simp_rise_ctp_nib_13\": [\n",
      "        91,\n",
      "        187\n",
      "    ],\n",
      "    \"f0_wrlvl_crse_final_rank0_byte6\": 3,\n",
      "    \"f1_wrdqdbi_left_edge_dq_bit55\": 0,\n",
      "    \"ddrmc_isr_ch0_data_par\": 0,\n",
      "    \"bisc_nqtr_nibble05\": 78,\n",
      "    \"f1_wrdqdbi_stg3_dq_odly_bit01\": 0,\n",
      "    \"f0_rdcmplx_pqtr_left_nibble04\": 25,\n",
      "    \"f1_wrdqdbi_odly_dq_final_bit20\": 0,\n",
      "    \"f0_wrdqdbi_stg3_dq_odly_bit47\": 55,\n",
      "    \"f1_rddq_pqtr_final_nibble08\": 0,\n",
      "    \"ub_isr_calerror\": 0,\n",
      "    \"cal_stage_time_01\": 70,\n",
      "    \"f1_rdcmplx_pqtr_right_nibble03\": 0,\n",
      "    \"phy_oe_nib4_dly\": 1,\n",
      "    \"f0_wrdqdbi_stg5_dqs_odly_byte5\": 71,\n",
      "    \"f1_rdcmplx_nqtr_final_nibble04\": 0,\n",
      "    \"f0_wrlvl_fine_final_rank0_byte2\": 19,\n",
      "    \"iobmap_dq_31_30\": 0,\n",
      "    \"f0_wrdqdbi_right_margin_fcrse_byte7\": 60,\n",
      "    \"bisc_pqtr_nibble09\": 76,\n",
      "    \"rdmargin_nqtr_right_nibble01\": 0,\n",
      "    \"f1_wrdqdbi_right_margin_fcrse_byte0\": 0,\n",
      "    \"cal_seq_status_45\": 0,\n",
      "    \"f1_rdcmplx_nqtr_right_short_nibble15\": 0,\n",
      "    \"f1_wrdqdbi_stg6_dbi_odly_byte6\": 0,\n",
      "    \"f0_dqsgate_stg1_overflow_62\": 0,\n",
      "    \"f0_wrcmplx_odly_dq_final_bit13\": 76,\n",
      "    \"f0_wrlvl_fine_left_rank0_byte1\": 60,\n",
      "    \"f0_rddq_nqtr_right_nibble14\": 172,\n",
      "    \"f1_rddq_idelay_final_bit18\": 0,\n",
      "    \"f0_rd_comp_rise_lm_nib_10\": [\n",
      "        61,\n",
      "        125\n",
      "    ],\n",
      "    \"f0_wrlvl_fine_final_rank0_byte6\": 44,\n",
      "    \"wrmargin_right_byte1\": 0,\n",
      "    \"f0_wrlvl_crse_stg1_rank0_byte4\": 3,\n",
      "    \"bisc_nqtr_nibble00\": 77,\n",
      "    \"f0_dqsgate_stg1_rldlyrnk_crse_rank0_byte1\": 8,\n",
      "    \"wrvref_left_vref_low_bound_rank0_byte2\": 0,\n",
      "    \"f0_wrdqdbi_deskew_dq_odly_fcrse_bit56\": 138,\n",
      "    \"f0_wrlat_phy_data_nib_final_byte3\": 1,\n",
      "    \"f0_rdcmplx_pqtr_right_nibble13\": 155,\n",
      "    \"f0_wrlvl_noise_fcrse_rank0_byte5\": 55,\n",
      "    \"f1_wrdqdbi_stg4_dqs_delay_byte3\": 0,\n",
      "    \"f1_wrdqdbi_deskew_dq_odly_fcrse_bit32\": 0,\n",
      "    \"rdvref_right_vref_low_bound_nibble11\": 0,\n",
      "    \"cal_seq_status_04\": 262,\n",
      "    \"nsu2_perf_filter_1_1\": 0,\n",
      "    \"f1_wrdqdbi_stg4_dqs_delay_byte0\": 0,\n",
      "    \"wrvref_vref_low_bound_rank0_byte5\": 0,\n",
      "    \"track_enable\": \"UB ISR Tracking, DQS Gate Tracking, DDRMC ISR Tracking, Post-Cal Status\",\n",
      "    \"bisc_pqtr_nibble02\": 78,\n",
      "    \"dc1_perf_mon_6\": 0,\n",
      "    \"f1_wrdqdbi_stg2_dqs_odly_byte7\": 0,\n",
      "    \"iobmap_dq_61_60\": 0,\n",
      "    \"cal_seq_status_13\": 271,\n",
      "    \"f0_rddq_nqtr_left_nibble14\": 27,\n",
      "    \"f0_wrlat_match_rank0_byte4\": 17,\n",
      "    \"wrvref_right_vref_upp_bound_rank0_byte6\": 0,\n",
      "    \"f0_rddq_nqtr_final_nibble12\": 96,\n",
      "    \"f1_wrlat_wldlyrnk_crse_final_rank0_byte7\": 0,\n",
      "    \"rdvref_left_vref_upp_bound_nibble00\": 0,\n",
      "    \"wrvref_left_vref_upp_bound_rank0_byte1\": 0,\n",
      "    \"f1_rdcmplx_pqtr_left_nibble00\": 0,\n",
      "    \"f0_wrcmplx_odly_dq_final_bit43\": 65,\n",
      "    \"f0_wrdqdbi_odly_dq_final_bit60\": 70,\n",
      "    \"f1_wrdqdbi_deskew_dq_odly_bit03\": 0,\n",
      "    \"f1_wrdqdbi_stg2_dq_odly_bit25\": 0,\n",
      "    \"f0_rdcmplx_pqtr_right_short_fcrse_nibble08\": 169,\n",
      "    \"f0_dqsgate_stg1_overflow_40\": 0,\n",
      "    \"f1_dqsgate_rldlyrnk_crse_final_rank0_byte2\": 0,\n",
      "    \"cal_stage_time_19\": 100,\n",
      "    \"f1_wrcmplx_odly_dqs_final_byte3\": 0,\n",
      "    \"f0_dqsgate_stg1_overflow_20\": 0,\n",
      "    \"f0_rdcmplx_pqtr_left_short_nibble12\": 21,\n",
      "    \"rdvref_left_vref_def_nibble01\": 0,\n",
      "    \"rdvref_right_vref_upp_bound_nibble05\": 0,\n",
      "    \"f0_rddq_idelay_final_bit05\": 84,\n",
      "    \"f0_wrcmplx_left_margin_byte3\": 72,\n",
      "    \"f1_wrdqdbi_odly_dbi_final_byte4\": 0,\n",
      "    \"f1_wrcmplx_odly_dq_final_bit32\": 0,\n",
      "    \"rdvref_vref_upp_bound_nibble11\": 0,\n",
      "    \"f1_rdcmplx_pqtr_final_nibble11\": 0,\n",
      "    \"f0_dqsgate_stg1_overflow_13\": 0,\n",
      "    \"f0_wrdqdbi_right_margin_byte0\": 70,\n",
      "    \"nsu3_perf_mon_ctl_0_0\": 0,\n",
      "    \"phy_oe_nib16_dly\": 1,\n",
      "    \"wrvref_right_vref_final_rank0_byte6\": 0,\n",
      "    \"f1_wrdqdbi_deskew_dq_odly_bit53\": 0,\n",
      "    \"f0_dqsgate_stg1_overflow_07\": 0,\n",
      "    \"f0_wrdqdbi_deskew_dq_odly_fcrse_bit10\": 112,\n",
      "    \"f0_calbisc_rl_dly_qtr_nibble09\": 75,\n",
      "    \"f1_rddq_idelay_final_bit56\": 0,\n",
      "    \"f1_rdcmplx_nqtr_final_nibble03\": 0,\n",
      "    \"f0_wrdqdbi_odly_dq_final_bit20\": 29,\n",
      "    \"f1_wrdqdbi_deskew_dq_odly_fcrse_bit11\": 0,\n",
      "    \"cal_stage.03_F0_DQS_GATE_CAL\": \"Pass\",\n",
      "    \"bisc_nqtr_nibble08\": 76,\n",
      "    \"f0_rddq_pqtr_final_nibble07\": 91,\n",
      "    \"f0_wr_comp_rm_byte_04\": [\n",
      "        61,\n",
      "        125\n",
      "    ],\n",
      "    \"f1_wrlat_xpi_wrdata_all_final\": 0,\n",
      "    \"f1_calbisc_rl_dly_pqtr_nibble13\": 0,\n",
      "    \"f0_rdcmplx_nqtr_final_nibble11\": 87,\n",
      "    \"f0_wrdqdbi_stg1_bit_status_byte3\": 0,\n",
      "    \"f0_wrdqdbi_odly_dq_final_bit42\": 63,\n",
      "    \"f0_wrcmplx_odly_dq_final_bit55\": 58,\n",
      "    \"cal_warning_65\": 0,\n",
      "    \"bisc_idly3_align_nibble05\": 76,\n",
      "    \"f1_wrdqdbi_stg2_dq_odly_bit21\": 0,\n",
      "    \"f1_rdcmplx_pqtr_final_nibble05\": 0,\n",
      "    \"f0_wrlvl_fine_right_rank0_byte3\": 81,\n",
      "    \"f1_rdprbs_pqtr_left_margin_nibble04\": 0,\n",
      "    \"f1_wrdqdbi_deskew_dq_odly_fcrse_bit27\": 0,\n",
      "    \"f0_rdcmplx_pqtr_right_short_nibble09\": 166,\n",
      "    \"f0_rdcmplx_pqtr_left_short_nibble14\": 25,\n",
      "    \"rdvref_left_vref_def_nibble09\": 0,\n",
      "    \"f0_wrdqdbi_deskew_dq_odly_bit22\": 100,\n",
      "    \"f0_rddq_pqtr_right_fcrse_nibble04\": 173,\n",
      "    \"cal_stage_time_34\": 0,\n",
      "    \"f0_wrdqdbi_deskew_dq_odly_fcrse_bit59\": 128,\n",
      "    \"f1_rdcmplx_pqtr_left_nibble10\": 0,\n",
      "    \"f0_wrdqdbi_deskew_dq_odly_bit08\": 129,\n",
      "    \"f0_rddq_qtr_deskew_nibble01\": 1,\n",
      "    \"f0_rdcmplx_nqtr_left_short_nibble12\": 25,\n",
      "    \"f0_wrlat_phy_oe_nib_final_byte7\": 0,\n",
      "    \"f0_dqsgate_read_lat_final_byte2\": 26,\n",
      "    \"f1_rddq_nqtr_final_nibble00\": 0,\n",
      "    \"f0_par_alert_en\": 1,\n",
      "    \"wrmargin_right_byte2\": 0,\n",
      "    \"f1_rddq_nqtr_final_nibble01\": 0,\n",
      "    \"f0_rdcmplx_pqtr_left_nibble11\": 28,\n",
      "    \"f1_wrcmplx_odly_dq_final_bit58\": 0,\n",
      "    \"f0_wrdqdbi_odly_dqs_final_byte4\": 45,\n",
      "    \"f0_wrcmplx_odly_dq_final_bit32\": 36,\n",
      "    \"f0_wr_simp_ctp_byte_02\": [\n",
      "        35,\n",
      "        72\n",
      "    ],\n",
      "    \"vttrack_rldlyqtr_min_nibble05\": 75,\n",
      "    \"f1_wrdqdbi_right_edge_dqs_byte7\": 0,\n",
      "    \"f1_wrlvl_offset_rank0_byte6\": 0,\n",
      "    \"f0_wrdqdbi_stg3_dq_odly_bit16\": 19,\n",
      "    \"f1_wrdqdbi_left_edge_dq_bit14\": 0,\n",
      "    \"cal_stage.04_F0_WRITE_LEVELING\": \"Pass\",\n",
      "    \"f0_wrdqdbi_stg3_dq_odly_bit52\": 44,\n",
      "    \"f0_wrlvl_crse_final_rank0_byte3\": 0,\n",
      "    \"f1_wrlat_phy_data_nib_final_byte5\": 0,\n",
      "    \"rdvref_vref_final_nibble09\": 0,\n",
      "    \"f0_wrdqdbi_stg3_dq_odly_bit13\": 62,\n",
      "    \"f1_wrcmplx_left_margin_fcrse_byte1\": 0,\n",
      "    \"f0_rd_comp_fall_ctp_nib_13\": [\n",
      "        87,\n",
      "        177\n",
      "    ],\n",
      "    \"f0_rddq_pqtr_final_nibble00\": 86,\n",
      "    \"f0_wrlvl_fine_left_rank0_byte2\": 17,\n",
      "    \"f0_wrdqdbi_left_edge_dq_bit37\": 25,\n",
      "    \"f1_wrdqdbi_stg3_dq_odly_bit62\": 0,\n",
      "    \"f0_wrdqdbi_stg2_dq_odly_bit09\": 62,\n",
      "    \"cal_warning_61\": 0,\n",
      "    \"f1_wrdqdbi_odly_dq_final_bit02\": 0,\n",
      "    \"f1_wrdqdbi_stg2_dq_odly_bit13\": 0,\n",
      "    \"f1_wrdqdbi_odly_dq_final_bit04\": 0,\n",
      "    \"f1_rdcmplx_nqtr_right_short_fcrse_nibble08\": 0,\n",
      "    \"f0_wrdqdbi_deskew_dq_odly_fcrse_bit33\": 89,\n",
      "    \"f1_wrdqdbi_stg6_dbi_odly_byte0\": 0,\n",
      "    \"f0_rddq_idelay_final_bit34\": 74,\n",
      "    \"f1_wrdqdbi_deskew_dq_odly_bit18\": 0,\n",
      "    \"f0_wrlat_wldlyrnk_crse_final_rank0_byte7\": 3,\n",
      "    \"cal_stage_time_37\": 0,\n",
      "    \"f1_wrcmplx_odly_dq_final_bit48\": 0,\n",
      "    \"ddrmc_ub_isr\": 0,\n",
      "    \"f0_wrlvl_offset_rank0_byte2\": 78,\n",
      "    \"f1_wrdqdbi_deskew_dq_odly_fcrse_bit02\": 0,\n",
      "    \"rdvref_right_vref_low_bound_nibble01\": 0,\n",
      "    \"bisc_nqtr_align_nibble06\": 1,\n",
      "    \"f1_wrlvl_noise_fcrse_rank0_byte2\": 0,\n",
      "    \"f0_rdcmplx_pqtr_right_nibble07\": 150,\n",
      "    \"f1_rdprbs_pqtr_left_margin_nibble14\": 0,\n",
      "    \"f0_wrdqdbi_left_edge_dq_bit54\": 48,\n",
      "    \"f0_rddq_nqtr_right_fcrse_nibble11\": 172,\n",
      "    \"f1_rddq_idelay_final_bit39\": 0,\n",
      "    \"f1_rdcmplx_nqtr_left_short_nibble08\": 0,\n",
      "    \"f1_calbisc_rl_dly_nqtr_nibble04\": 0,\n",
      "    \"rdvref_right_vref_final_nibble04\": 0,\n",
      "    \"f0_wrdqdbi_odly_dbi_final_byte6\": 46,\n",
      "    \"f1_rddq_idelay_final_bit59\": 0,\n",
      "    \"sys_clk_8_0\": 392,\n",
      "    \"f0_rddq_pqtr_right_fcrse_nibble05\": 173,\n",
      "    \"f0_wrlvl_noise_fcrse_rank0_byte7\": 65,\n",
      "    \"f0_wrdqdbi_deskew_dq_odly_fcrse_bit15\": 122,\n",
      "    \"rdvref_vref_upp_bound_nibble08\": 0,\n",
      "    \"f0_wrdqdbi_stg1_bit_status_byte0\": 255,\n",
      "    \"f0_wrdqdbi_left_edge_dq_bit58\": 51,\n",
      "    \"max_nibbles\": 18,\n",
      "    \"f0_mr6_17_9\": 8,\n",
      "    \"f0_rdprbs_pqtr_left_margin_nibble01\": 0,\n",
      "    \"f0_rdprbs_pqtr_left_margin_nibble06\": 0,\n",
      "    \"f1_wrdqdbi_right_edge_dqs_byte4\": 0,\n",
      "    \"f1_rdcmplx_pqtr_left_nibble04\": 0,\n",
      "    \"f1_wrdqdbi_odly_dq_final_bit21\": 0,\n",
      "    \"f1_wrcmplx_odly_dq_final_bit31\": 0,\n",
      "    \"f1_wrlat_phy_oe_nib_final_byte0\": 0,\n",
      "    \"bisc_idly0_align_nibble02\": 67,\n",
      "    \"f1_rdcmplx_pqtr_final_nibble15\": 0,\n",
      "    \"f1_wrcmplx_odly_dq_final_bit28\": 0,\n",
      "    \"f0_wr_simp_rm_byte_00\": [\n",
      "        70,\n",
      "        145\n",
      "    ],\n",
      "    \"f0_dqsgate_stg1_read_lat_rank0_byte1\": 24,\n",
      "    \"f1_wrdqdbi_stg2_dq_odly_bit01\": 0,\n",
      "    \"f0_wrdqdbi_stg4_byte_status_00\": 511,\n",
      "    \"f0_rdcmplx_pqtr_right_short_fcrse_nibble07\": 169,\n",
      "    \"f0_wrdqdbi_deskew_dq_odly_fcrse_bit07\": 121,\n",
      "    \"f0_calbisc_rl_dly_pqtr_nibble05\": 74,\n",
      "    \"wrvref_right_vref_final_rank0_byte3\": 0,\n",
      "    \"f0_wrdqdbi_stg3_dq_odly_bit11\": 62,\n",
      "    \"f1_wrdqdbi_deskew_dq_odly_bit34\": 0,\n",
      "    \"cal_stage_time_54\": 0,\n",
      "    \"f1_wrdqdbi_deskew_dq_odly_bit57\": 0,\n",
      "    \"f1_wrdqdbi_left_margin_byte4\": 0,\n",
      "    \"f1_rddq_nqtr_right_fcrse_nibble03\": 0,\n",
      "    \"cal_error_bit_phy_nibble_03\": 0,\n",
      "    \"dqstrack_rldlyrnk_fine_max_byte7\": 36,\n",
      "    \"f0_rddq_idelay_final_bit61\": 90,\n",
      "    \"ddrmc_isr_uc0_ecc1\": 0,\n",
      "    \"wrvref_vref_final_rank0_byte7\": 0,\n",
      "    \"f0_wrdqdbi_deskew_dq_odly_fcrse_bit45\": 125,\n",
      "    \"f0_wrdqdbi_odly_dq_final_bit36\": 38,\n",
      "    \"f0_wrlat_match_rank0_byte7\": 17,\n",
      "    \"f0_wrdqdbi_left_edge_dq_bit00\": 53,\n",
      "    \"f0_wrdqdbi_left_edge_dq_bit47\": 52,\n",
      "    \"phy_rden7_dly\": 27,\n",
      "    \"vttrack_rldlyqtr_max_nibble00\": 81,\n",
      "    \"f0_rddq_idelay_final_bit30\": 77,\n",
      "    \"f0_wrdqdbi_deskew_dq_odly_fcrse_bit25\": 148,\n",
      "    \"f0_wrdqdbi_left_edge_dq_bit19\": 14,\n",
      "    \"f1_wrdqdbi_stg2_dq_odly_bit23\": 0,\n",
      "    \"phy_rden18_dly\": 22,\n",
      "    \"f0_rd_simp_fall_rm_nib_14\": [\n",
      "        73,\n",
      "        154\n",
      "    ],\n",
      "    \"f0_rd_comp_rise_rm_nib_01\": [\n",
      "        66,\n",
      "        137\n",
      "    ],\n",
      "    \"f0_wrcmplx_odly_dqs_final_byte7\": 74,\n",
      "    \"f0_dqsgate_stg1_overflow_26\": 0,\n",
      "    \"f0_wrlat_match_rank0_byte2\": 17,\n",
      "    \"f0_dqsgate_stg1_rldlyrnk_crse_rank0_byte4\": 13,\n",
      "    \"f1_rddq_nqtr_right_fcrse_nibble00\": 0,\n",
      "    \"f1_rddq_nqtr_final_nibble06\": 0,\n",
      "    \"phy_rden21_dly\": 25,\n",
      "    \"f1_wrdqdbi_left_edge_dbi_byte3\": 0,\n",
      "    \"f1_wrdqdbi_stg2_dq_odly_bit08\": 0,\n",
      "    \"cal_warning_76\": 0,\n",
      "    \"dqstrack_rldlyrnk_fine_byte5\": 41,\n",
      "    \"f1_rdcmplx_pqtr_right_nibble01\": 0,\n",
      "    \"f1_dqsgate_read_lat_final_byte4\": 0,\n",
      "    \"f0_rdcmplx_pqtr_left_nibble15\": 22,\n",
      "    \"f1_rdcmplx_nqtr_right_short_nibble13\": 0,\n",
      "    \"f0_rdcmplx_pqtr_right_nibble00\": 153,\n",
      "    \"f0_wr_simp_rm_byte_06\": [\n",
      "        70,\n",
      "        144\n",
      "    ],\n",
      "    \"vttrack_rldlyqtr_nibble05\": 79,\n",
      "    \"f0_rd_comp_fall_lm_nib_04\": [\n",
      "        57,\n",
      "        114\n",
      "    ],\n",
      "    \"cal_stage_time_60\": 19,\n",
      "    \"f0_wrdqdbi_deskew_dq_odly_fcrse_bit34\": 99,\n",
      "    \"f0_rd_comp_fall_ctp_nib_07\": [\n",
      "        84,\n",
      "        170\n",
      "    ],\n",
      "    \"f1_wrcmplx_odly_dq_final_bit41\": 0,\n",
      "    \"wrvref_left_vref_def_rank0_byte6\": 0,\n",
      "    \"f0_rdcmplx_pqtr_right_nibble02\": 151,\n",
      "    \"nsu1_perf_mon_1_2\": 0,\n",
      "    \"f0_wrdqdbi_left_edge_dq_bit18\": 21,\n",
      "    \"f1_rdprbs_pqtr_right_margin_nibble12\": 0,\n",
      "    \"cal_warning_68\": 0,\n",
      "    \"f0_rddq_qtr_deskew_nibble07\": 1,\n",
      "    \"f1_dqsgate_stg1_overflow_22\": 0,\n",
      "    \"cal_warning_67\": 0,\n",
      "    \"f0_wrdqdbi_deskew_dq_odly_fcrse_bit49\": 104,\n",
      "    \"f0_dqsgate_stg1_overflow_52\": 0,\n",
      "    \"f0_dqsgate_stg1_read_lat_rank0_byte6\": 24,\n",
      "    \"f0_rddq_idelay_final_bit40\": 79,\n",
      "    \"f0_wrdqdbi_stg6_dbi_odly_byte5\": 55,\n",
      "    \"nsu1_perf_mon_0_2\": 0,\n",
      "    \"f0_rdcmplx_idelay_offset_nibble14\": 0,\n",
      "    \"cal_seq_status_18\": 282,\n",
      "    \"f1_wrdqdbi_left_margin_byte7\": 0,\n",
      "    \"cal_warning_46\": 0,\n",
      "    \"f0_dqsgate_stg2_rldlyrnk_crse_rank0_byte0\": 0,\n",
      "    \"f0_rddq_pqtr_right_fcrse_nibble02\": 173,\n",
      "    \"iobmap_dqs_13\": 0,\n",
      "    \"rdmargin_nqtr_left_nibble14\": 0,\n",
      "    \"f0_wrdqdbi_stg2_dq_odly_bit07\": 51,\n",
      "    \"f1_rddq_pqtr_left_nibble02\": 0,\n",
      "    \"f0_wrdqdbi_left_edge_dq_bit30\": 83,\n",
      "    \"f1_dqsgate_stg1_rldlyrnk_crse_rank0_byte0\": 0,\n",
      "    \"f1_rddq_pqtr_right_fcrse_nibble14\": 0,\n",
      "    \"f1_par_alert_en\": 1,\n",
      "    \"f0_rdcmplx_pqtr_left_short_nibble09\": 24,\n",
      "    \"f1_xpll_clkoutfb_lt\": 16,\n",
      "    \"vttrack_rldlyqtr_nibble12\": 77,\n",
      "    \"cal_warning_42\": 0,\n",
      "    \"rdvref_left_vref_upp_bound_nibble12\": 0,\n",
      "    \"f1_wrdqdbi_deskew_dq_odly_bit28\": 0,\n",
      "    \"f1_rdcmplx_pqtr_right_nibble04\": 0,\n",
      "    \"rdvref_left_vref_final_nibble14\": 0,\n",
      "    \"f0_wrdqdbi_right_edge_dqs_byte0\": 137,\n",
      "    \"f0_rdcmplx_pqtr_final_nibble08\": 83,\n",
      "    \"f1_rddq_idelay_final_bit57\": 0,\n",
      "    \"f1_mr1_17_9\": 0,\n",
      "    \"f0_wrlvl_fine_final_rank0_byte3\": 78,\n",
      "    \"f0_rd_simp_fall_rm_nib_15\": [\n",
      "        73,\n",
      "        154\n",
      "    ],\n",
      "    \"f0_rddq_idelay_final_bit26\": 71,\n",
      "    \"phy_oe_nib3_dly\": 1,\n",
      "    \"phy_oe_nib24_dly\": 0,\n",
      "    \"rdmargin_pqtr_right_nibble03\": 0,\n",
      "    \"f0_dqsgate_stg1_overflow_61\": 0,\n",
      "    \"f0_rddq_pqtr_left_nibble05\": 18,\n",
      "    \"f1_wrdqdbi_odly_dq_final_bit41\": 0,\n",
      "    \"f1_wrcmplx_odly_dq_final_bit36\": 0,\n",
      "    \"f1_rdprbs_pqtr_left_margin_nibble06\": 0,\n",
      "    \"cal_warning_31\": 0,\n",
      "    \"cal_warning_02\": 0,\n",
      "    \"f0_wr_comp_ctp_byte_00\": [\n",
      "        217,\n",
      "        452\n",
      "    ],\n",
      "    \"f0_dqsgate_stg1_overflow_56\": 0,\n",
      "    \"f0_rdcmplx_pqtr_final_nibble03\": 87,\n",
      "    \"f0_mr3_8_0\": 32,\n",
      "    \"wrvref_right_vref_def_rank0_byte5\": 0,\n",
      "    \"vttrack_rldlyqtr_nibble10\": 77,\n",
      "    \"f1_rdcmplx_nqtr_final_nibble10\": 0,\n",
      "    \"f0_rddq_pqtr_final_nibble10\": 91,\n",
      "    \"f0_wrlvl_crse_final_rank0_byte0\": 2,\n",
      "    \"f0_wrlat_phy_data_nib_final_byte1\": 0,\n",
      "    \"wrvref_left_vref_upp_bound_rank0_byte4\": 0,\n",
      "    \"f1_wrdqdbi_stg1_bit_status_byte0\": 0,\n",
      "    \"f1_wrcmplx_right_margin_fcrse_byte7\": 0,\n",
      "    \"c_code_major_ver\": 4,\n",
      "    \"iobmap_dq_17_16\": 0,\n",
      "    \"nsu3_perf_filter_1_0\": 0,\n",
      "    \"rdvref_right_vref_final_nibble05\": 0,\n",
      "    \"f1_wrcmplx_right_margin_byte0\": 0,\n",
      "    \"f0_rddq_nqtr_final_nibble01\": 97,\n",
      "    \"f1_wrdqdbi_left_edge_dq_bit30\": 0,\n",
      "    \"f0_rdcmplx_nqtr_final_nibble02\": 88,\n",
      "    \"pcsr_lock\": 1,\n",
      "    \"mem_ranks\": 1,\n",
      "    \"f0_wrdqdbi_deskew_dq_odly_bit55\": 123,\n",
      "    \"phy_rden22_dly\": 25,\n",
      "    \"f0_wrdqdbi_stg2_dq_odly_bit63\": 58,\n",
      "    \"mgchk_mode\": 0,\n",
      "    \"f1_wrdqdbi_stg3_dq_odly_bit40\": 0,\n",
      "    \"f1_wrcmplx_odly_dq_final_bit34\": 0,\n",
      "    \"ddrmc_isr_nsu_0\": 0,\n",
      "    \"f0_rd_comp_fall_lm_nib_05\": [\n",
      "        55,\n",
      "        114\n",
      "    ],\n",
      "    \"f1_dqsgate_stg2_read_lat_rank0_byte4\": 0,\n",
      "    \"f1_wrdqdbi_stg2_dq_odly_bit26\": 0,\n",
      "    \"f1_wrdqdbi_stg2_dq_odly_bit60\": 0,\n",
      "    \"f0_rd_simp_rise_ctp_nib_12\": [\n",
      "        90,\n",
      "        188\n",
      "    ],\n",
      "    \"f0_dqsgate_stg1_overflow_28\": 0,\n",
      "    \"iobmap_dq_29_28\": 0,\n",
      "    \"f1_wrdqdbi_right_margin_byte4\": 0,\n",
      "    \"f1_wrdqdbi_odly_dq_final_bit59\": 0,\n",
      "    \"f1_calbisc_rl_dly_pqtr_nibble07\": 0,\n",
      "    \"f0_rddq_nqtr_left_nibble08\": 25,\n",
      "    \"nsu2_perf_filter_0_1\": 0,\n",
      "    \"f0_rdprbs_nqtr_left_margin_nibble15\": 0,\n",
      "    \"f0_rd_simp_rise_ctp_nib_04\": [\n",
      "        91,\n",
      "        187\n",
      "    ],\n",
      "    \"f1_wrdqdbi_stg2_dq_odly_bit09\": 0,\n",
      "    \"f0_wrdqdbi_stg3_dq_odly_bit32\": 29,\n",
      "    \"f0_wrdqdbi_deskew_dq_odly_bit45\": 129,\n",
      "    \"f0_dqsgate_stg1_overflow_24\": 0,\n",
      "    \"f0_calbisc_rl_dly_pqtr_nibble15\": 76,\n",
      "    \"f1_dqsgate_rldlyrnk_crse_final_rank0_byte6\": 0,\n",
      "    \"mgchk_step\": 0,\n",
      "    \"f1_rdcmplx_nqtr_left_short_nibble01\": 0,\n",
      "    \"f0_dqsgate_stg1_overflow_09\": 0,\n",
      "    \"dqstrack_rldlyrnk_fine_max_byte4\": 42,\n",
      "    \"f0_rdcmplx_pqtr_final_nibble04\": 87,\n",
      "    \"f0_dqsgate_stg1_overflow_57\": 0,\n",
      "    \"f1_wrdqdbi_odly_dq_final_bit43\": 0,\n",
      "    \"f0_add_cmd_dly\": 0,\n",
      "    \"f1_rdcmplx_nqtr_left_short_nibble11\": 0,\n",
      "    \"f0_rd_comp_fall_ctp_nib_12\": [\n",
      "        84,\n",
      "        175\n",
      "    ],\n",
      "    \"cal_seq_status_20\": 287,\n",
      "    \"f1_wrdqdbi_left_edge_dq_bit04\": 0,\n",
      "    \"f1_dqsgate_read_lat_final_byte6\": 0,\n",
      "    \"f1_rdprbs_nqtr_right_margin_nibble13\": 0,\n",
      "    \"f0_rdcmplx_pqtr_final_nibble02\": 86,\n",
      "    \"bisc_idly1_align_nibble15\": 78,\n",
      "    \"f1_rdcmplx_pqtr_right_nibble09\": 0,\n",
      "    \"f1_wrcmplx_odly_dq_final_bit06\": 0,\n",
      "    \"f0_wrlat_wldlyrnk_crse_final_rank0_byte5\": 3,\n",
      "    \"f1_wrprbs_left_margin_byte6\": 0,\n",
      "    \"alert_parity_ch0_error\": 0,\n",
      "    \"cal_warning_06\": 0,\n",
      "    \"f0_rd_simp_fall_ctp_nib_01\": [\n",
      "        97,\n",
      "        205\n",
      "    ],\n",
      "    \"rdvref_left_vref_final_nibble11\": 0,\n",
      "    \"f0_rddq_idelay_final_bit58\": 73,\n",
      "    \"f0_wrdqdbi_stg3_dq_odly_bit51\": 44,\n",
      "    \"f1_wrdqdbi_right_margin_byte1\": 0,\n",
      "    \"f1_rdcmplx_nqtr_right_short_fcrse_nibble15\": 0,\n",
      "    \"f1_wrdqdbi_stg2_dq_odly_bit61\": 0,\n",
      "    \"0x00_F0_PHY_BISC\": \"Pass\",\n",
      "    \"dqs_status\": \"Running\",\n",
      "    \"f1_rddq_idelay_final_bit47\": 0,\n",
      "    \"f1_rddq_pqtr_final_nibble10\": 0,\n",
      "    \"f0_read_latency\": 1,\n",
      "    \"f0_rddq_pqtr_right_fcrse_nibble14\": 173,\n",
      "    \"f0_wrdqdbi_stg3_dq_odly_bit39\": 29,\n",
      "    \"f1_wrdqdbi_deskew_dq_odly_fcrse_bit53\": 0,\n",
      "    \"rdmargin_pqtr_right_nibble08\": 0,\n",
      "    \"f1_rdcmplx_pqtr_right_short_fcrse_nibble13\": 0,\n",
      "    \"f1_rdcmplx_pqtr_right_short_nibble14\": 0,\n",
      "    \"f1_write_latency\": 1,\n",
      "    \"bisc_mon_align_nibble00\": 0,\n",
      "    \"f0_wrdqdbi_stg2_dq_odly_bit20\": 19,\n",
      "    \"rdmargin_nqtr_right_nibble11\": 0,\n",
      "    \"rdvref_right_vref_final_nibble13\": 0,\n",
      "    \"rdvref_right_vref_final_nibble03\": 0,\n",
      "    \"f0_rdcmplx_nqtr_right_short_fcrse_nibble00\": 170,\n",
      "    \"f0_wrcmplx_odly_dq_final_bit60\": 72,\n",
      "    \"f1_rddq_pqtr_right_nibble00\": 0,\n",
      "    \"cal_warning_16\": 0,\n",
      "    \"rdmargin_pqtr_left_nibble01\": 0,\n",
      "    \"f0_wrdqdbi_left_edge_dq_bit57\": 54,\n",
      "    \"f1_wrdqdbi_odly_dq_final_bit22\": 0,\n",
      "    \"f1_rdcmplx_pqtr_left_short_nibble06\": 0,\n",
      "    \"f0_rd_comp_rise_ctp_nib_05\": [\n",
      "        85,\n",
      "        179\n",
      "    ],\n",
      "    \"cal_post_status_02\": 0,\n",
      "    \"f1_wrdqdbi_deskew_dbi_odly_byte2\": 0,\n",
      "    \"f1_rdcmplx_nqtr_final_nibble08\": 0,\n",
      "    \"cal_error_bit_phy_nibble_00\": 0,\n",
      "    \"f0_wrdqdbi_deskew_dq_odly_fcrse_bit41\": 125,\n",
      "    \"f1_rddq_pqtr_final_nibble06\": 0,\n",
      "    \"f0_wrlat_match_rank0_byte5\": 17,\n",
      "    \"bisc_nqtr_nibble09\": 75,\n",
      "    \"f0_wrdqdbi_left_edge_dq_bit61\": 73,\n",
      "    \"rdmargin_nqtr_right_nibble03\": 0,\n",
      "    \"f1_rdcmplx_idelay_offset_nibble07\": 0,\n",
      "    \"f0_dqsgate_max_read_lat\": 28,\n",
      "    \"f1_rddq_qtr_deskew_nibble14\": 0,\n",
      "    \"f1_wrdqdbi_stg2_dq_odly_bit49\": 0,\n",
      "    \"f1_wrlvl_crse_stg1_rank0_byte5\": 0,\n",
      "    \"f0_rddq_idelay_final_bit44\": 90,\n",
      "    \"bisc_pqtr_nibble11\": 74,\n",
      "    \"f1_wrdqdbi_deskew_dq_odly_bit38\": 0,\n",
      "    \"f0_rdcmplx_pqtr_final_nibble01\": 88,\n",
      "    \"phy_oe_nib21_dly\": 1,\n",
      "    \"cal_stage_time_40\": 0,\n",
      "    \"f1_wrdqdbi_odly_dq_final_bit29\": 0,\n",
      "    \"f1_rdcmplx_pqtr_left_short_nibble03\": 0,\n",
      "    \"cal_stage_time_25\": 0,\n",
      "    \"f0_rdcmplx_pqtr_right_nibble01\": 154,\n",
      "    \"f1_rddq_idelay_final_bit34\": 0,\n",
      "    \"f1_dqsgate_stg1_overflow_61\": 0,\n",
      "    \"f0_dqsgate_stg2_rldlyrnk_crse_rank0_byte3\": 2,\n",
      "    \"wrmargin_left_byte4\": 0,\n",
      "    \"f1_dqsgate_rldlyrnk_crse_final_rank0_byte7\": 0,\n",
      "    \"f0_rdcmplx_nqtr_right_nibble09\": 141,\n",
      "    \"rdmargin_nqtr_left_nibble15\": 0,\n",
      "    \"f0_rd_simp_fall_lm_nib_00\": [\n",
      "        73,\n",
      "        152\n",
      "    ],\n",
      "    \"cal_warning_38\": 0,\n",
      "    \"f0_wrcmplx_odly_dq_final_bit37\": 29,\n",
      "    \"f1_rddq_nqtr_right_fcrse_nibble11\": 0,\n",
      "    \"f1_rddq_nqtr_final_nibble15\": 0,\n",
      "    \"bisc_nqtr_align_nibble15\": 3,\n",
      "    \"vttrack_rldlyqtr_nibble02\": 77,\n",
      "    \"rdvref_right_vref_final_nibble02\": 0,\n",
      "    \"f0_rddq_nqtr_right_nibble15\": 170,\n",
      "    \"f0_wrlat_match_rank0_byte1\": 16,\n",
      "    \"f0_wrdqdbi_deskew_dbi_odly_fcrse_byte0\": 121,\n",
      "    \"f1_calbisc_rl_dly_pqtr_nibble08\": 0,\n",
      "    \"nsu0_perf_filter_en_1\": 0,\n",
      "    \"f0_wrcmplx_odly_dq_final_bit03\": 61,\n",
      "    \"f0_lp4_mr12\": 0,\n",
      "    \"f1_rddq_qtr_deskew_nibble07\": 0,\n",
      "    \"f0_rdcmplx_nqtr_right_nibble10\": 149,\n",
      "    \"f1_wrdqdbi_deskew_dq_odly_fcrse_bit62\": 0,\n",
      "    \"f0_dqsgate_stg2_read_lat_rank0_byte7\": 28,\n",
      "    \"f0_dqsgate_stg1_overflow_45\": 0,\n",
      "    \"iobmap_dq_49_48\": 0,\n",
      "    \"f0_rd_comp_rise_rm_nib_14\": [\n",
      "        64,\n",
      "        131\n",
      "    ],\n",
      "    \"f0_rd_comp_rise_rm_nib_09\": [\n",
      "        63,\n",
      "        129\n",
      "    ],\n",
      "    \"bisc_pqtr_align_nibble10\": 0,\n",
      "    \"ddrmc_isr_ce0_ecc1\": 0,\n",
      "    \"f1_dqsgate_stg1_overflow_28\": 0,\n",
      "    \"f1_wrlvl_noise_fcrse_rank0_byte4\": 0,\n",
      "    \"f1_wrdqdbi_deskew_dq_odly_fcrse_bit12\": 0,\n",
      "    \"f1_rddq_idelay_final_bit04\": 0,\n",
      "    \"f0_wrdqdbi_deskew_dq_odly_bit13\": 137,\n",
      "    \"f0_rdcmplx_pqtr_right_short_nibble11\": 167,\n",
      "    \"f1_wrcmplx_right_margin_fcrse_byte6\": 0,\n",
      "    \"f1_dqsgate_stg1_overflow_26\": 0,\n",
      "    \"f0_rddq_pqtr_left_nibble15\": 18,\n",
      "    \"f0_rdcmplx_pqtr_right_nibble08\": 143,\n",
      "    \"f1_rdcmplx_pqtr_left_short_nibble00\": 0,\n",
      "    \"traf_self_ref_en\": 0,\n",
      "    \"f0_rddq_pqtr_right_nibble03\": 163,\n",
      "    \"f0_wrdqdbi_odly_dqs_final_byte1\": 78,\n",
      "    \"f1_dqsgate_stg1_overflow_14\": 0,\n",
      "    \"f1_rdcmplx_nqtr_left_short_nibble14\": 0,\n",
      "    \"rdvref_left_vref_final_nibble04\": 0,\n",
      "    \"cal_warning_57\": 0,\n",
      "    \"f0_dqsgate_stg1_overflow_50\": 0,\n",
      "    \"nsu3_perf_mon_0_1\": 0,\n",
      "    \"bisc_rl_dly_qtr_nibble04\": 77,\n",
      "    \"f0_wrdqdbi_stg2_dq_odly_bit32\": 29,\n",
      "    \"f1_wrcmplx_right_margin_byte1\": 0,\n",
      "    \"cal_stage_time_62\": 0,\n",
      "    \"f0_rddq_pqtr_left_nibble04\": 18,\n",
      "    \"rdmargin_pqtr_right_nibble05\": 0,\n",
      "    \"rdvref_right_vref_upp_bound_nibble13\": 0,\n",
      "    \"cal_warning_39\": 0,\n",
      "    \"f1_rddq_pqtr_right_fcrse_nibble15\": 0,\n",
      "    \"f1_rddq_idelay_final_bit41\": 0,\n",
      "    \"f0_wrdqdbi_left_margin_byte7\": 76,\n",
      "    \"f0_wrlat_init_latency\": 16,\n",
      "    \"f1_dqsgate_max_read_lat\": 0,\n",
      "    \"f0_wrdqdbi_stg2_dq_odly_bit04\": 51,\n",
      "    \"f1_wrlvl_fine_left_rank0_byte4\": 0,\n",
      "    \"f1_rdcmplx_nqtr_final_nibble15\": 0,\n",
      "    \"vttrack_rldlyqtr_max_nibble03\": 80,\n",
      "    \"f0_wrdqdbi_odly_dbi_final_byte5\": 58,\n",
      "    \"f1_rddq_pqtr_right_nibble07\": 0,\n",
      "    \"f0_wr_simp_lm_byte_00\": [\n",
      "        80,\n",
      "        166\n",
      "    ],\n",
      "    \"f0_wrcmplx_odly_dqs_final_byte6\": 60,\n",
      "    \"cal_stage_time_18\": 0,\n",
      "    \"f0_rdprbs_nqtr_left_margin_nibble08\": 0,\n",
      "    \"dc0_perf_mon_1\": 0,\n",
      "    \"wrvref_vref_upp_bound_rank0_byte3\": 0,\n",
      "    \"f1_wrdqdbi_stg4_dqs_delay_byte2\": 0,\n",
      "    \"f0_rd_simp_rise_ctp_nib_06\": [\n",
      "        91,\n",
      "        185\n",
      "    ],\n",
      "    \"f0_wrdqdbi_right_margin_fcrse_byte5\": 70,\n",
      "    \"f0_calbisc_rl_dly_pqtr_nibble04\": 76,\n",
      "    \"f1_wrlvl_fine_right_rank0_byte6\": 0,\n",
      "    \"phy_oe_nib26_dly\": 0,\n",
      "    \"mgchk_def_wr_vref\": 28,\n",
      "    \"f1_rdprbs_nqtr_right_margin_nibble04\": 0,\n",
      "    \"f0_rddq_nqtr_final_nibble02\": 96,\n",
      "    \"f1_wrlvl_noise_fcrse_rank0_byte5\": 0,\n",
      "    \"f1_wrprbs_left_margin_byte2\": 0,\n",
      "    \"wrvref_left_vref_upp_bound_rank0_byte0\": 0,\n",
      "    \"f1_wrdqdbi_left_margin_byte3\": 0,\n",
      "    \"f1_wrdqdbi_odly_dqs_final_byte1\": 0,\n",
      "    \"dqstrack_rldlyrnk_crse_max_byte7\": 5,\n",
      "    \"f1_rdcmplx_nqtr_right_short_nibble12\": 0,\n",
      "    \"cal_seq_status_41\": 447,\n",
      "    \"f0_wrlvl_offset_rank0_byte4\": 78,\n",
      "    \"rdvref_vref_upp_bound_nibble07\": 0,\n",
      "    \"f0_rdcmplx_pqtr_right_short_nibble13\": 165,\n",
      "    \"f1_rdcmplx_pqtr_left_short_nibble11\": 0,\n",
      "    \"f1_wrdqdbi_left_edge_dq_bit54\": 0,\n",
      "    \"f1_wrdqdbi_right_margin_byte0\": 0,\n",
      "    \"pcsr_control_ub_init\": 1,\n",
      "    \"f1_wrdqdbi_odly_dq_final_bit13\": 0,\n",
      "    \"f1_wrdqdbi_right_margin_fcrse_byte3\": 0,\n",
      "    \"0x11_F0_READ_DQ_DBI_CAL_COMPLEX\": \"Pass\",\n",
      "    \"f0_wr_simp_lm_byte_03\": [\n",
      "        71,\n",
      "        145\n",
      "    ],\n",
      "    \"f1_wrdqdbi_left_edge_dq_bit02\": 0,\n",
      "    \"iobmap_dq_57_56\": 0,\n",
      "    \"rdvref_right_vref_final_nibble09\": 0,\n",
      "    \"f1_wrdqdbi_left_edge_dq_bit25\": 0,\n",
      "    \"f0_rd_simp_fall_rm_nib_03\": [\n",
      "        69,\n",
      "        141\n",
      "    ],\n",
      "    \"f0_rdcmplx_nqtr_right_nibble05\": 142,\n",
      "    \"f0_rdprbs_nqtr_left_margin_nibble11\": 0,\n",
      "    \"rdvref_left_vref_low_bound_nibble09\": 0,\n",
      "    \"f0_wrdqdbi_stg2_dq_odly_bit08\": 62,\n",
      "    \"f1_wrcmplx_right_margin_fcrse_byte3\": 0,\n",
      "    \"f0_rddq_nqtr_left_nibble12\": 23,\n",
      "    \"ddrmc_isr_dram_parity_fatal_0\": 0,\n",
      "    \"f1_wrlat_wldlyrnk_crse_final_rank0_byte2\": 0,\n",
      "    \"f1_wrdqdbi_right_margin_byte7\": 0,\n",
      "    \"cal_post_status_04\": 0,\n",
      "    \"f1_dqsgate_stg1_overflow_05\": 0,\n",
      "    \"f0_mr1_8_0\": 257,\n",
      "    \"f1_lp4_mr14\": 0,\n",
      "    \"bisc_pqtr_align_nibble06\": 0,\n",
      "    \"f0_calbisc_rl_dly_nqtr_nibble08\": 76,\n",
      "    \"f1_dqsgate_read_lat_final_byte7\": 0,\n",
      "    \"rdmargin_pqtr_right_nibble12\": 0,\n",
      "    \"f1_rddq_pqtr_right_fcrse_nibble11\": 0,\n",
      "    \"f0_wrdqdbi_left_edge_dq_bit06\": 59,\n",
      "    \"f1_wrdqdbi_deskew_dbi_odly_fcrse_byte6\": 0,\n",
      "    \"f1_dqsgate_stg1_rldlyrnk_fine_rank0_byte2\": 0,\n",
      "    \"f1_wrdqdbi_deskew_dq_odly_fcrse_bit40\": 0,\n",
      "    \"bisc_idly4_align_nibble08\": 72,\n",
      "    \"max_bytes\": 18,\n",
      "    \"f0_wrcmplx_left_margin_fcrse_byte2\": 60,\n",
      "    \"f0_rdcmplx_pqtr_final_nibble06\": 90,\n",
      "    \"f1_wrcmplx_odly_dq_final_bit26\": 0,\n",
      "    \"f1_rddq_pqtr_right_fcrse_nibble06\": 0,\n",
      "    \"f0_rd_simp_fall_lm_nib_02\": [\n",
      "        67,\n",
      "        135\n",
      "    ],\n",
      "    \"bisc_idly2_align_nibble02\": 67,\n",
      "    \"nsu0_perf_filter_en_0\": 0,\n",
      "    \"f0_dqsgate_stg1_overflow_18\": 0,\n",
      "    \"f1_dqsgate_stg1_read_lat_rank0_byte6\": 0,\n",
      "    \"f0_rdcmplx_pqtr_left_nibble12\": 22,\n",
      "    \"rdvref_left_vref_upp_bound_nibble14\": 0,\n",
      "    \"rdmargin_nqtr_right_nibble02\": 0,\n",
      "    \"f0_rddq_idelay_final_bit47\": 76,\n",
      "    \"f0_rdcmplx_pqtr_right_nibble04\": 150,\n",
      "    \"f0_wrdqdbi_odly_dq_final_bit03\": 53,\n",
      "    \"f0_wrcmplx_odly_dq_final_bit39\": 35,\n",
      "    \"f0_wrdqdbi_deskew_dq_odly_fcrse_bit62\": 148,\n",
      "    \"nsu3_perf_mon_ctl_1_0\": 0,\n",
      "    \"f1_rddq_nqtr_left_nibble13\": 0,\n",
      "    \"f0_rd_comp_rise_rm_nib_02\": [\n",
      "        65,\n",
      "        130\n",
      "    ],\n",
      "    \"f1_dqsgate_stg1_overflow_29\": 0,\n",
      "    \"f0_dqsgate_stg1_overflow_15\": 0,\n",
      "    \"f0_wrdqdbi_stg5_dqs_odly_byte1\": 78,\n",
      "    \"phy_rden26_dly\": 22,\n",
      "    \"f0_rdcmplx_pqtr_left_nibble13\": 25,\n",
      "    \"f1_rdprbs_pqtr_left_margin_nibble07\": 0,\n",
      "    \"reg_config0\": 4198928,\n",
      "    \"f0_rddq_pqtr_right_fcrse_nibble00\": 163,\n",
      "    \"f1_rdprbs_pqtr_right_margin_nibble14\": 0,\n",
      "    \"cal_warning_11\": 0,\n",
      "    \"cal_stage_time_57\": 0,\n",
      "    \"dqstrack_rldlyrnk_fine_byte0\": 5,\n",
      "    \"f1_rdcmplx_idelay_offset_nibble15\": 0,\n",
      "    \"rdmargin_nqtr_right_nibble12\": 0,\n",
      "    \"f0_wrlvl_fine_left_rank0_byte7\": 56,\n",
      "    \"f0_rddq_nqtr_right_fcrse_nibble03\": 168,\n",
      "    \"f0_rddq_nqtr_final_nibble06\": 95,\n",
      "    \"phy_oe_nib7_dly\": 1,\n",
      "    \"f1_wrlat_phy_oe_nib_final_byte5\": 0,\n",
      "    \"ddrmc_isr_nsu_1\": 0,\n",
      "    \"f0_wrdqdbi_left_edge_dq_bit04\": 49,\n",
      "    \"es_vref_steps\": 14,\n",
      "    \"iobmap_dq_25_24\": 0,\n",
      "    \"rdvref_right_vref_low_bound_nibble15\": 0,\n",
      "    \"f0_rd_simp_fall_ctp_nib_11\": [\n",
      "        96,\n",
      "        197\n",
      "    ],\n",
      "    \"iobmap_dq_59_58\": 0,\n",
      "    \"cal_seq_status_27\": 298,\n",
      "    \"f0_wrlvl_fine_right_rank0_byte0\": 54,\n",
      "    \"f0_rd_comp_fall_ctp_nib_04\": [\n",
      "        88,\n",
      "        176\n",
      "    ],\n",
      "    \"f0_wrcmplx_odly_dbi_final_byte6\": 53,\n",
      "    \"f1_rdcmplx_pqtr_left_short_nibble05\": 0,\n",
      "    \"f1_wrdqdbi_stg3_dq_odly_bit57\": 0,\n",
      "    \"f1_calbisc_rl_dly_pqtr_nibble12\": 0,\n",
      "    \"f0_wrcmplx_odly_dqs_final_byte5\": 71,\n",
      "    \"f0_wrdqdbi_stg4_dqs_delay_byte2\": 14,\n",
      "    \"f1_rddq_nqtr_left_nibble10\": 0,\n",
      "    \"f1_rddq_idelay_final_bit32\": 0,\n",
      "    \"f0_rd_comp_fall_rm_nib_02\": [\n",
      "        58,\n",
      "        117\n",
      "    ],\n",
      "    \"f1_rdcmplx_nqtr_right_nibble10\": 0,\n",
      "    \"f1_wrdqdbi_stg2_dq_odly_bit35\": 0,\n",
      "    \"f0_rd_simp_rise_rm_nib_08\": [\n",
      "        73,\n",
      "        146\n",
      "    ],\n",
      "    \"f1_wrprbs_right_margin_byte7\": 0,\n",
      "    \"f0_dqsgate_stg1_rldlyrnk_fine_rank0_byte0\": 3,\n",
      "    \"f1_wrdqdbi_odly_dq_final_bit25\": 0,\n",
      "    \"f0_lp4_mr13\": 0,\n",
      "    \"f1_wrlvl_offset_rank0_byte4\": 0,\n",
      "    \"wrvref_left_vref_upp_bound_rank0_byte6\": 0,\n",
      "    \"f1_wrcmplx_odly_dqs_final_byte6\": 0,\n",
      "    \"nsu2_perf_mon_0_0\": 0,\n",
      "    \"f0_wr_comp_rm_byte_02\": [\n",
      "        59,\n",
      "        122\n",
      "    ],\n",
      "    \"f1_wrdqdbi_left_edge_dq_bit59\": 0,\n",
      "    \"rdvref_vref_final_nibble14\": 0,\n",
      "    \"f0_dqsgate_stg1_read_lat_rank0_byte0\": 24,\n",
      "    \"f0_wrdqdbi_stg1_dqs_delay_byte3\": 94,\n",
      "    \"f1_rddq_idelay_final_bit46\": 0,\n",
      "    \"f1_rddq_idelay_final_bit62\": 0,\n",
      "    \"f1_rddq_nqtr_final_nibble09\": 0,\n",
      "    \"f0_wrdqdbi_deskew_dq_odly_bit20\": 101,\n",
      "    \"f1_wrdqdbi_deskew_dq_odly_bit24\": 0,\n",
      "    \"f1_wrlat_phy_data_nib_final_byte3\": 0,\n",
      "    \"max_bits\": 72,\n",
      "    \"f0_rd_comp_rise_rm_nib_12\": [\n",
      "        64,\n",
      "        133\n",
      "    ],\n",
      "    \"f0_calbisc_rl_dly_nqtr_nibble10\": 80,\n",
      "    \"f0_rdcmplx_nqtr_right_short_fcrse_nibble06\": 173,\n",
      "    \"vttrack_rldlyqtr_nibble03\": 77,\n",
      "    \"rdvref_right_vref_low_bound_nibble06\": 0,\n",
      "    \"f0_rdcmplx_pqtr_right_nibble11\": 158,\n",
      "    \"f1_rddq_pqtr_right_nibble12\": 0,\n",
      "    \"f0_wr_simp_ctp_byte_07\": [\n",
      "        299,\n",
      "        623\n",
      "    ],\n",
      "    \"f0_wrdqdbi_odly_dq_final_bit27\": 89,\n",
      "    \"f0_rdcmplx_nqtr_left_nibble12\": 26,\n",
      "    \"f0_rd_comp_fall_ctp_nib_15\": [\n",
      "        88,\n",
      "        186\n",
      "    ],\n",
      "    \"f1_rddq_idelay_final_bit13\": 0,\n",
      "    \"rdvref_vref_low_bound_nibble03\": 0,\n",
      "    \"f0_wrdqdbi_deskew_dq_odly_bit35\": 91,\n",
      "    \"f1_wrdqdbi_deskew_dq_odly_fcrse_bit49\": 0,\n",
      "    \"f1_dqsgate_stg1_rldlyrnk_fine_rank0_byte1\": 0,\n",
      "    \"f1_wrdqdbi_deskew_dq_odly_fcrse_bit48\": 0,\n",
      "    \"f0_dqsgate_stg1_overflow_25\": 0,\n",
      "    \"f1_wrdqdbi_left_edge_dq_bit61\": 0,\n",
      "    \"f1_wrcmplx_odly_dq_final_bit63\": 0,\n",
      "    \"f0_wrdqdbi_stg3_dq_odly_bit04\": 51,\n",
      "    \"cal_seq_status_01\": 385,\n",
      "    \"rdvref_right_vref_low_bound_nibble10\": 0,\n",
      "    \"bisc_idly0_align_nibble08\": 67,\n",
      "    \"f0_calbisc_rl_dly_qtr_nibble04\": 77,\n",
      "    \"f0_rddq_nqtr_right_fcrse_nibble01\": 180,\n",
      "    \"f1_wrdqdbi_deskew_dq_odly_bit45\": 0,\n",
      "    \"f0_rdprbs_nqtr_right_margin_nibble07\": 0,\n",
      "    \"f1_wrdqdbi_left_edge_dq_bit57\": 0,\n",
      "    \"reg_map_ver\": 5,\n",
      "    \"f1_dqsgate_stg1_overflow_56\": 0,\n",
      "    \"f0_rdcmplx_nqtr_right_nibble01\": 153,\n",
      "    \"f0_wrcmplx_left_margin_byte5\": 73,\n",
      "    \"f1_rdcmplx_nqtr_left_short_nibble06\": 0,\n",
      "    \"f1_rdcmplx_nqtr_left_nibble03\": 0,\n",
      "    \"f1_rdcmplx_pqtr_right_short_fcrse_nibble06\": 0,\n",
      "    \"f0_dqsgate_rldlyrnk_crse_final_rank0_byte4\": 1,\n",
      "    \"f1_wrlat_phy_data_nib_final_byte4\": 0,\n",
      "    \"f1_wrcmplx_odly_dq_final_bit33\": 0,\n",
      "    \"f0_wrdqdbi_left_edge_dq_bit21\": 14,\n",
      "    \"f1_dqsgate_stg1_overflow_60\": 0,\n",
      "    \"f0_wrdqdbi_deskew_dq_odly_bit30\": 154,\n",
      "    \"f1_wrlvl_noise_fcrse_rank0_byte0\": 0,\n",
      "    \"iobmap_dq_19_18\": 0,\n",
      "    \"f1_wrdqdbi_stg3_dq_odly_bit56\": 0,\n",
      "    \"f1_wrdqdbi_stg2_dq_odly_bit38\": 0,\n",
      "    \"f0_wrlat_phy_oe_nib_final_byte5\": 1,\n",
      "    \"f1_wrdqdbi_stg2_dq_odly_bit57\": 0,\n",
      "    \"f0_rd_simp_rise_ctp_nib_10\": [\n",
      "        91,\n",
      "        187\n",
      "    ],\n",
      "    \"bisc_pqtr_align_nibble00\": 0,\n",
      "    \"f0_wrdqdbi_stg5_dqs_odly_byte7\": 74,\n",
      "    \"f1_dqsgate_stg1_overflow_49\": 0,\n",
      "    \"error_code_ver\": 2,\n",
      "    \"rdvref_left_vref_low_bound_nibble05\": 0,\n",
      "    \"f0_rddq_idelay_final_bit23\": 82,\n",
      "    \"f0_wrdqdbi_odly_dq_final_bit22\": 28,\n",
      "    \"f1_wrdqdbi_deskew_dq_odly_fcrse_bit43\": 0,\n",
      "    \"f1_rddq_idelay_final_bit50\": 0,\n",
      "    \"rdvref_vref_def\": 0,\n",
      "    \"f0_wrdqdbi_stg1_bit_status_byte2\": 0,\n",
      "    \"f0_rd_comp_rise_ctp_nib_10\": [\n",
      "        90,\n",
      "        185\n",
      "    ],\n",
      "    \"f0_wrdqdbi_deskew_dq_odly_bit19\": 94,\n",
      "    \"f1_wrcmplx_odly_dq_final_bit51\": 0,\n",
      "    \"f1_dqsgate_stg1_overflow_43\": 0,\n",
      "    \"f0_rddq_pqtr_final_nibble14\": 91,\n",
      "    \"vttrack_rldlyqtr_max_nibble12\": 79,\n",
      "    \"f0_wrdqdbi_deskew_dq_odly_bit52\": 120,\n",
      "    \"f1_wrdqdbi_stg2_dq_odly_bit62\": 0,\n",
      "    \"f0_rddq_idelay_final_bit42\": 81,\n",
      "    \"bisc_idly0_align_nibble15\": 76,\n",
      "    \"f0_rddq_nqtr_left_nibble10\": 28,\n",
      "    \"f0_wrdqdbi_left_edge_dq_bit62\": 74,\n",
      "    \"f0_rd_simp_rise_rm_nib_02\": [\n",
      "        73,\n",
      "        146\n",
      "    ],\n",
      "    \"mgchk_start\": 0,\n",
      "    \"f1_rdcmplx_pqtr_right_nibble13\": 0,\n",
      "    \"f1_mr5_17_9\": 0,\n",
      "    \"rdvref_vref_final_nibble13\": 0,\n",
      "    \"dqstrack_rldlyrnk_fine_byte2\": 45,\n",
      "    \"f0_rddq_idelay_final_bit52\": 85,\n",
      "    \"f0_wrdqdbi_left_edge_dq_bit56\": 65,\n",
      "    \"f0_dqsgate_stg1_read_lat_rank0_byte3\": 24,\n",
      "    \"f0_wrdqdbi_stg3_dq_odly_bit37\": 29,\n",
      "    \"f1_wrdqdbi_stg2_dqs_odly_byte5\": 0,\n",
      "    \"f1_rdcmplx_nqtr_left_nibble09\": 0,\n",
      "    \"f1_wrdqdbi_stg3_dq_odly_bit48\": 0,\n",
      "    \"cal_error_bit_phy_nibble_02\": 0,\n",
      "    \"f0_wrcmplx_odly_dq_final_bit35\": 25,\n",
      "    \"f0_rcd_rc0a\": 0,\n",
      "    \"nsu0_perf_mon_0_0\": 0,\n",
      "    \"f1_dqsgate_stg1_overflow_48\": 0,\n",
      "    \"f0_rddq_idelay_final_bit24\": 67,\n",
      "    \"f1_wrcmplx_odly_dq_final_bit19\": 0,\n",
      "    \"rdvref_left_vref_def_nibble12\": 0,\n",
      "    \"f0_wrdqdbi_stg2_dq_odly_bit54\": 44,\n",
      "    \"f0_rdcmplx_nqtr_final_nibble04\": 88,\n",
      "    \"f1_rdcmplx_pqtr_right_short_nibble03\": 0,\n",
      "    \"f1_rdcmplx_nqtr_right_nibble14\": 0,\n",
      "    \"f0_wr_simp_rm_byte_02\": [\n",
      "        64,\n",
      "        132\n",
      "    ],\n",
      "    \"bisc_idly4_align_nibble07\": 76,\n",
      "    \"f1_wrdqdbi_odly_dq_final_bit56\": 0,\n",
      "    \"f1_rdcmplx_pqtr_right_short_nibble15\": 0,\n",
      "    \"bisc_idly3_align_nibble04\": 67,\n",
      "    \"f0_wrlvl_crse_stg1_rank0_byte1\": 3,\n",
      "    \"f0_wrdqdbi_odly_dbi_final_byte7\": 65,\n",
      "    \"bisc_rl_dly_qtr_nibble07\": 76,\n",
      "    \"f1_wrlat_phy_oe_nib_final_byte1\": 0,\n",
      "    \"rdvref_left_vref_final_nibble15\": 0,\n",
      "    \"f1_wrdqdbi_deskew_dq_odly_bit06\": 0,\n",
      "    \"f1_wrprbs_left_margin_byte3\": 0,\n",
      "    \"f1_dqsgate_stg1_rldlyrnk_crse_rank0_byte6\": 0,\n",
      "    \"f0_wr_comp_lm_byte_02\": [\n",
      "        69,\n",
      "        142\n",
      "    ],\n",
      "    \"f0_rddq_pqtr_left_nibble03\": 18,\n",
      "    \"f1_rddq_nqtr_right_nibble15\": 0,\n",
      "    \"rdmargin_nqtr_right_nibble04\": 0,\n",
      "    \"f0_wrcmplx_odly_dq_final_bit41\": 62,\n",
      "    \"f0_wrdqdbi_deskew_dq_odly_bit41\": 130,\n",
      "    \"f1_rdcmplx_nqtr_final_nibble09\": 0,\n",
      "    \"wrmargin_right_byte0\": 0,\n",
      "    \"f0_lp4_mr14\": 0,\n",
      "    \"bisc_idly2_align_nibble08\": 67,\n",
      "    \"f0_wrdqdbi_deskew_dq_odly_bit44\": 151,\n",
      "    \"f1_rdprbs_pqtr_left_margin_nibble12\": 0,\n",
      "    \"f0_rd_comp_fall_lm_nib_00\": [\n",
      "        63,\n",
      "        131\n",
      "    ],\n",
      "    \"f0_wrdqdbi_deskew_dq_odly_fcrse_bit54\": 114,\n",
      "    \"dqstrack_rldlyrnk_crse_byte5\": 2,\n",
      "    \"xpi_map_bitslip\": 0,\n",
      "    \"cal_seq_status_48\": 0,\n",
      "    \"cal_time_17_9\": 1,\n",
      "    \"f0_wrdqdbi_deskew_dq_odly_fcrse_bit12\": 132,\n",
      "    \"rdvref_right_vref_def_nibble14\": 0,\n",
      "    \"rdvref_vref_upp_bound_nibble01\": 0,\n",
      "    \"rdvref_vref_final_nibble04\": 0,\n",
      "    \"f1_wrdqdbi_stg2_dq_odly_bit02\": 0,\n",
      "    \"f1_wrcmplx_odly_dq_final_bit59\": 0,\n",
      "    \"cal_seq_status_35\": 306,\n",
      "    \"f0_rd_simp_fall_lm_nib_07\": [\n",
      "        68,\n",
      "        137\n",
      "    ],\n",
      "    \"f1_wrdqdbi_deskew_dq_odly_fcrse_bit63\": 0,\n",
      "    \"bisc_idly5_align_nibble10\": 71,\n",
      "    \"f0_rddq_qtr_deskew_nibble15\": 1,\n",
      "    \"wrvref_right_vref_def_rank0_byte3\": 0,\n",
      "    \"f1_wrdqdbi_right_margin_byte2\": 0,\n",
      "    \"phy_rden9_dly\": 22,\n",
      "    \"f1_wrcmplx_left_margin_fcrse_byte2\": 0,\n",
      "    \"f1_rddq_idelay_final_bit06\": 0,\n",
      "    \"f0_rd_simp_fall_rm_nib_13\": [\n",
      "        69,\n",
      "        140\n",
      "    ],\n",
      "    \"f0_rddq_idelay_final_bit25\": 77,\n",
      "    \"f0_rddq_idelay_final_bit06\": 86,\n",
      "    \"f1_rddq_idelay_final_bit42\": 0,\n",
      "    \"bisc_idly0_align_nibble04\": 0,\n",
      "    \"bisc_idly3_align_nibble14\": 68,\n",
      "    \"f0_rdprbs_nqtr_left_margin_nibble12\": 0,\n",
      "    \"f1_wrdqdbi_left_edge_dq_bit63\": 0,\n",
      "    \"dc0_perf_mon\": 62,\n",
      "    \"f1_wrdqdbi_odly_dq_final_bit55\": 0,\n",
      "    \"f0_rdcmplx_pqtr_left_nibble00\": 22,\n",
      "    \"f1_wrdqdbi_left_edge_dbi_byte2\": 0,\n",
      "    \"f0_rd_comp_rise_rm_nib_13\": [\n",
      "        65,\n",
      "        133\n",
      "    ],\n",
      "    \"f0_wrdqdbi_right_margin_fcrse_byte2\": 60,\n",
      "    \"f1_rdprbs_nqtr_right_margin_nibble00\": 0,\n",
      "    \"rdmargin_pqtr_right_nibble07\": 0,\n",
      "    \"f1_dqsgate_stg1_overflow_50\": 0,\n",
      "    \"f1_rdprbs_pqtr_left_margin_nibble02\": 0,\n",
      "    \"rdvref_left_vref_upp_bound_nibble07\": 0,\n",
      "    \"f1_rdcmplx_pqtr_left_short_nibble14\": 0,\n",
      "    \"wrvref_left_vref_low_bound_rank0_byte6\": 0,\n",
      "    \"f0_rdcmplx_pqtr_right_nibble14\": 153,\n",
      "    \"f0_dqsgate_stg1_overflow_60\": 0,\n",
      "    \"f0_dqsgate_stg1_rldlyrnk_crse_rank0_byte7\": 5,\n",
      "    \"f0_rddq_nqtr_left_nibble02\": 29,\n",
      "    \"f1_rdprbs_pqtr_right_margin_nibble08\": 0,\n",
      "    \"f0_dqsgate_stg1_overflow_27\": 0,\n",
      "    \"dqstrack_rldlyrnk_crse_byte7\": 5,\n",
      "    \"f0_wrdqdbi_stg3_dq_odly_bit48\": 44,\n",
      "    \"f0_calbisc_rl_dly_qtr_nibble06\": 76,\n",
      "    \"f1_wrdqdbi_odly_dq_final_bit57\": 0,\n",
      "    \"f1_wrlat_phy_data_nib_final_byte2\": 0,\n",
      "    \"f0_rd_comp_fall_lm_nib_14\": [\n",
      "        62,\n",
      "        130\n",
      "    ],\n",
      "    \"f0_rd_comp_rise_ctp_nib_06\": [\n",
      "        90,\n",
      "        183\n",
      "    ],\n",
      "    \"pre_post_cal_map_ver\": 1,\n",
      "    \"cal_warning_09\": 0,\n",
      "    \"bisc_idly1_align_nibble08\": 70,\n",
      "    \"f0_wrdqdbi_deskew_dq_odly_bit34\": 100,\n",
      "    \"f1_wrlvl_fine_final_rank0_byte7\": 0,\n",
      "    \"f0_rddq_nqtr_final_nibble08\": 94,\n",
      "    \"f0_dqsgate_stg1_overflow_06\": 0,\n",
      "    \"f0_rddq_idelay_final_bit55\": 83,\n",
      "    \"f0_rddq_pqtr_final_nibble03\": 90,\n",
      "    \"f1_wrdqdbi_stg5_dqs_odly_byte1\": 0,\n",
      "    \"f0_rdcmplx_nqtr_right_short_fcrse_nibble15\": 171,\n",
      "    \"f1_rdcmplx_pqtr_right_short_nibble06\": 0,\n",
      "    \"f0_wrdqdbi_deskew_dq_odly_fcrse_bit08\": 122,\n",
      "    \"f0_wrcmplx_odly_dq_final_bit26\": 84,\n",
      "    \"cal_stage_time_48\": 0,\n",
      "    \"f1_wrdqdbi_stg3_dq_odly_bit00\": 0,\n",
      "    \"f1_wrdqdbi_odly_dq_final_bit17\": 0,\n",
      "    \"f1_wrdqdbi_odly_dq_final_bit60\": 0,\n",
      "    \"f1_wrcmplx_left_margin_byte6\": 0,\n",
      "    \"f0_dqsgate_stg1_overflow_01\": 0,\n",
      "    \"f1_wrdqdbi_deskew_dq_odly_bit61\": 0,\n",
      "    \"f0_wrdqdbi_deskew_dbi_odly_byte1\": 139,\n",
      "    \"f1_rdcmplx_nqtr_right_short_fcrse_nibble00\": 0,\n",
      "    \"f0_wrdqdbi_deskew_dbi_odly_fcrse_byte2\": 89,\n",
      "    \"f1_rdprbs_pqtr_right_margin_nibble04\": 0,\n",
      "    \"f0_rd_simp_fall_ctp_nib_15\": [\n",
      "        97,\n",
      "        205\n",
      "    ],\n",
      "    \"cal_warning_55\": 0,\n",
      "    \"f0_rd_comp_rise_lm_nib_06\": [\n",
      "        61,\n",
      "        123\n",
      "    ],\n",
      "    \"f0_wr_simp_ctp_byte_03\": [\n",
      "        95,\n",
      "        195\n",
      "    ],\n",
      "    \"f1_wrdqdbi_deskew_dq_odly_fcrse_bit00\": 0,\n",
      "    \"f0_rddq_idelay_final_bit45\": 82,\n",
      "    \"f0_rdcmplx_pqtr_right_short_nibble15\": 161,\n",
      "    \"f1_wrdqdbi_stg3_dq_odly_bit38\": 0,\n",
      "    \"bisc_idly2_align_nibble04\": 63,\n",
      "    \"f0_calbisc_rl_dly_qtr_nibble05\": 74,\n",
      "    \"f0_wrdqdbi_deskew_dq_odly_bit26\": 149,\n",
      "    \"f0_rdcmplx_pqtr_left_short_nibble06\": 28,\n",
      "    \"f0_wrcmplx_odly_dq_final_bit25\": 84,\n",
      "    \"es_vref_max\": 473,\n",
      "    \"f1_dqsgate_stg1_overflow_03\": 0,\n",
      "    \"f1_wrdqdbi_deskew_dq_odly_bit21\": 0,\n",
      "    \"f1_dqsgate_stg1_overflow_62\": 0,\n",
      "    \"bisc_nqtr_nibble11\": 77,\n",
      "    \"f0_rddq_idelay_final_bit12\": 74,\n",
      "    \"f0_wrcmplx_odly_dq_final_bit22\": 33,\n",
      "    \"f1_rddq_pqtr_final_nibble12\": 0,\n",
      "    \"f1_wrcmplx_odly_dq_final_bit53\": 0,\n",
      "    \"rdvref_right_vref_low_bound_nibble02\": 0,\n",
      "    \"f1_rddq_pqtr_left_nibble07\": 0,\n",
      "    \"phy_oe_nib12_dly\": 0,\n",
      "    \"bisc_nqtr_align_nibble13\": 0,\n",
      "    \"f1_wrdqdbi_stg2_dq_odly_bit05\": 0,\n",
      "    \"f1_wrcmplx_odly_dq_final_bit13\": 0,\n",
      "    \"0x0a_F0_DQS_GATE_CAL\": \"Pass\",\n",
      "    \"dqstrack_rldlyrnk_fine_min_byte6\": 69,\n",
      "    \"f0_rdcmplx_nqtr_right_short_fcrse_nibble10\": 174,\n",
      "    \"f1_wrlvl_offset_rank0_byte1\": 0,\n",
      "    \"f0_wrlvl_crse_stg1_rank0_byte3\": 0,\n",
      "    \"bisc_pqtr_align_nibble08\": 0,\n",
      "    \"f0_rd_simp_rise_rm_nib_00\": [\n",
      "        69,\n",
      "        138\n",
      "    ],\n",
      "    \"f1_wrdqdbi_stg2_dq_odly_bit10\": 0,\n",
      "    \"phy_rden6_dly\": 27,\n",
      "    \"f0_rdcmplx_nqtr_final_nibble08\": 84,\n",
      "    \"f0_rdcmplx_pqtr_right_short_fcrse_nibble03\": 167,\n",
      "    \"bisc_idly2_align_nibble03\": 74,\n",
      "    \"f0_wrdqdbi_left_edge_dq_bit60\": 63,\n",
      "    \"f0_wrdqdbi_odly_dq_final_bit43\": 59,\n",
      "    \"f1_wrdqdbi_left_edge_dq_bit28\": 0,\n",
      "    \"f1_wrcmplx_left_margin_byte5\": 0,\n",
      "    \"f0_wrdqdbi_left_edge_dq_bit01\": 48,\n",
      "    \"f0_rdcmplx_pqtr_right_short_fcrse_nibble13\": 170,\n",
      "    \"f0_wrdqdbi_stg6_dbi_odly_byte7\": 58,\n",
      "    \"f0_rdcmplx_nqtr_right_short_fcrse_nibble02\": 165,\n",
      "    \"f0_wrdqdbi_deskew_dq_odly_fcrse_bit50\": 124,\n",
      "    \"f0_wrcmplx_odly_dbi_final_byte1\": 78,\n",
      "    \"f0_wrlat_phy_oe_nib_final_byte3\": 1,\n",
      "    \"f1_rdprbs_pqtr_right_margin_nibble07\": 0,\n",
      "    \"f0_wrlat_wldlyrnk_crse_final_rank0_byte2\": 0,\n",
      "    \"f0_dqsgate_stg1_overflow_04\": 128,\n",
      "    \"f1_dqsgate_stg1_overflow_04\": 0,\n",
      "    \"rdvref_left_vref_upp_bound_nibble15\": 0,\n",
      "    \"f0_rd_comp_fall_lm_nib_03\": [\n",
      "        57,\n",
      "        117\n",
      "    ],\n",
      "    \"f0_wrdqdbi_odly_dq_final_bit50\": 53,\n",
      "    \"bisc_idly5_align_nibble15\": 81,\n",
      "    \"f0_rddq_nqtr_final_nibble14\": 99,\n",
      "    \"f0_rdcmplx_nqtr_right_short_nibble04\": 171,\n",
      "    \"f1_dqsgate_stg1_overflow_63\": 0,\n",
      "    \"f0_rddq_pqtr_right_nibble07\": 165,\n",
      "    \"f0_wrdqdbi_stg2_dq_odly_bit62\": 58,\n",
      "    \"f0_wrcmplx_right_margin_fcrse_byte3\": 50,\n",
      "    \"f1_wrdqdbi_stg1_bit_status_byte1\": 0,\n",
      "    \"f0_wrdqdbi_left_edge_dbi_byte6\": 44,\n",
      "    \"f0_wrdqdbi_odly_dq_final_bit55\": 51,\n",
      "    \"wrvref_left_vref_def_rank0_byte7\": 0,\n",
      "    \"f0_rdcmplx_nqtr_left_nibble10\": 29,\n",
      "    \"dbi_pins\": 8,\n",
      "    \"f1_wrdqdbi_left_edge_dq_bit07\": 0,\n",
      "    \"mem_type\": 1,\n",
      "    \"f1_dqsgate_stg1_rldlyrnk_crse_rank0_byte2\": 0,\n",
      "    \"f1_wrdqdbi_stg3_dq_odly_bit16\": 0,\n",
      "    \"f1_rdcmplx_nqtr_left_nibble14\": 0,\n",
      "    \"cal_error_bit_phy_nibble_07\": 0,\n",
      "    \"f1_rdcmplx_pqtr_final_nibble08\": 0,\n",
      "    \"f1_rdcmplx_nqtr_right_short_nibble06\": 0,\n",
      "    \"bisc_rl_dly_qtr_nibble08\": 77,\n",
      "    \"f0_rddq_pqtr_right_nibble10\": 164,\n",
      "    \"f1_wrdqdbi_odly_dq_final_bit08\": 0,\n",
      "    \"f1_rddq_idelay_final_bit44\": 0,\n",
      "    \"f1_dqsgate_rldlyrnk_crse_final_rank0_byte5\": 0,\n",
      "    \"nsu0_perf_mon_0_1\": 0,\n",
      "    \"f0_wrdqdbi_left_edge_dq_bit02\": 45,\n",
      "    \"f1_wrdqdbi_left_edge_dbi_byte4\": 0,\n",
      "    \"f1_rdcmplx_nqtr_right_nibble02\": 0,\n",
      "    \"bisc_idly1_align_nibble07\": 76,\n",
      "    \"f0_wrdqdbi_stg2_dqs_odly_byte0\": 67,\n",
      "    \"cal_warning_19\": 0,\n",
      "    \"f1_rddq_idelay_final_bit55\": 0,\n",
      "    \"f1_rdcmplx_pqtr_left_short_nibble10\": 0,\n",
      "    \"f0_rdprbs_nqtr_left_margin_nibble04\": 0,\n",
      "    \"f1_wrdqdbi_deskew_dq_odly_bit56\": 0,\n",
      "    \"f1_wrlat_phy_oe_nib_final_byte4\": 0,\n",
      "    \"f0_wrdqdbi_odly_dq_final_bit29\": 88,\n",
      "    \"f1_wrcmplx_odly_dbi_final_byte6\": 0,\n",
      "    \"f1_wrlvl_fine_final_rank0_byte4\": 0,\n",
      "    \"f0_rd_simp_rise_rm_nib_01\": [\n",
      "        69,\n",
      "        143\n",
      "    ],\n",
      "    \"es_vref_min\": 273,\n",
      "    \"f1_wrdqdbi_stg1_byte_status_01\": 0,\n",
      "    \"f0_wrdqdbi_stg2_dq_odly_bit17\": 19,\n",
      "    \"iobmap_dq_37_36\": 0,\n",
      "    \"f0_wrdqdbi_left_edge_dq_bit39\": 31,\n",
      "    \"f0_rd_simp_rise_rm_nib_13\": [\n",
      "        73,\n",
      "        150\n",
      "    ],\n",
      "    \"f0_rddq_nqtr_final_nibble15\": 97,\n",
      "    \"rdvref_vref_low_bound_nibble09\": 0,\n",
      "    \"f1_dqsgate_read_lat_final_byte5\": 0,\n",
      "    \"cal_error_data_nibble_17_9\": 0,\n",
      "    \"rdvref_vref_final_nibble03\": 0,\n",
      "    \"f0_rdcmplx_nqtr_right_nibble03\": 139,\n",
      "    \"f0_rd_comp_rise_ctp_nib_13\": [\n",
      "        90,\n",
      "        185\n",
      "    ],\n",
      "    \"dqs_gate_underflow\": 0,\n",
      "    \"rdvref_left_vref_upp_bound_nibble11\": 0,\n",
      "    \"f1_rddq_nqtr_left_nibble00\": 0,\n",
      "    \"f1_rddq_nqtr_left_nibble04\": 0,\n",
      "    \"f0_rddq_qtr_deskew_nibble09\": 1,\n",
      "    \"f1_rddq_idelay_final_bit54\": 0,\n",
      "    \"f0_wrdqdbi_stg2_dq_odly_bit23\": 19,\n",
      "    \"rdmargin_nqtr_left_nibble02\": 0,\n",
      "    \"mgchk_ctrl\": 0,\n",
      "    \"f0_rdcmplx_idelay_offset_nibble09\": 0,\n",
      "    \"f0_wrdqdbi_stg2_dq_odly_bit40\": 55,\n",
      "    \"f0_wrdqdbi_stg2_dq_odly_bit10\": 62,\n",
      "    \"wrvref_left_vref_upp_bound_rank0_byte3\": 0,\n",
      "    \"f0_wrdqdbi_right_margin_fcrse_byte0\": 70,\n",
      "    \"cal_stage_time_42\": 0,\n",
      "    \"cal_stage_time_50\": 0,\n",
      "    \"f1_wrdqdbi_deskew_dq_odly_bit58\": 0,\n",
      "    \"f1_wrcmplx_right_margin_byte6\": 0,\n",
      "    \"f1_wrdqdbi_stg2_dq_odly_bit22\": 0,\n",
      "    \"rdvref_right_vref_def_nibble05\": 0,\n",
      "    \"f1_rddq_qtr_deskew_nibble01\": 0,\n",
      "    \"bisc_pqtr_align_nibble14\": 0,\n",
      "    \"rdvref_left_vref_low_bound_nibble04\": 0,\n",
      "    \"f0_rd_comp_rise_lm_nib_07\": [\n",
      "        63,\n",
      "        129\n",
      "    ],\n",
      "    \"f1_wrcmplx_odly_dbi_final_byte4\": 0,\n",
      "    \"f0_wrcmplx_left_margin_fcrse_byte5\": 70,\n",
      "    \"f0_wrdqdbi_deskew_dq_odly_bit51\": 114,\n",
      "    \"cal_stage_time_55\": 0,\n",
      "    \"f0_rdcmplx_nqtr_left_nibble04\": 31,\n",
      "    \"f1_dqsgate_stg1_rldlyrnk_fine_rank0_byte4\": 0,\n",
      "    \"cal_status_map_ver\": 1,\n",
      "    \"nsu3_perf_filter_en_1\": 0,\n",
      "    \"f1_rddq_qtr_deskew_nibble13\": 0,\n",
      "    \"f1_rddq_idelay_final_bit36\": 0,\n",
      "    \"f0_rdcmplx_idelay_offset_nibble06\": 0,\n",
      "    \"f1_rdcmplx_nqtr_right_short_fcrse_nibble14\": 0,\n",
      "    \"f0_dqsgate_stg2_read_lat_rank0_byte3\": 26,\n",
      "    \"f0_mr5_17_9\": 2,\n",
      "    \"ub_data_ce\": 0,\n",
      "    \"f1_mr1_rtt_nom\": 0,\n",
      "    \"f0_rdprbs_nqtr_right_margin_nibble01\": 0,\n",
      "    \"f0_wrdqdbi_stg3_dq_odly_bit05\": 51,\n",
      "    \"f1_rdcmplx_pqtr_left_short_nibble04\": 0,\n",
      "    \"f1_rdprbs_nqtr_right_margin_nibble02\": 0,\n",
      "    \"cal_stage_time_59\": 0,\n",
      "    \"f0_wrdqdbi_odly_dq_final_bit59\": 61,\n",
      "    \"mgchk_error\": 0,\n",
      "    \"f1_rdcmplx_nqtr_right_short_nibble03\": 0,\n",
      "    \"wrvref_left_vref_low_bound_rank0_byte3\": 0,\n",
      "    \"f1_wrcmplx_odly_dq_final_bit16\": 0,\n",
      "    \"f0_wrdqdbi_stg2_dq_odly_bit56\": 58,\n",
      "    \"f0_rddq_nqtr_right_fcrse_nibble09\": 170,\n",
      "    \"cal_seq_status_06\": 264,\n",
      "    \"f0_wrdqdbi_left_margin_byte5\": 77,\n",
      "    \"f1_rddq_nqtr_right_nibble10\": 0,\n",
      "    \"f0_rdprbs_pqtr_right_margin_nibble07\": 0,\n",
      "    \"f1_wrdqdbi_odly_dq_final_bit47\": 0,\n",
      "    \"f0_calbisc_rl_dly_qtr_nibble15\": 75,\n",
      "    \"rdvref_right_vref_upp_bound_nibble02\": 0,\n",
      "    \"f1_wrdqdbi_deskew_dq_odly_fcrse_bit18\": 0,\n",
      "    \"iobmap_dqs_15\": 0,\n",
      "    \"f0_rddq_idelay_final_bit60\": 82,\n",
      "    \"f0_rdprbs_pqtr_right_margin_nibble00\": 0,\n",
      "    \"cal_warning_74\": 0,\n",
      "    \"f1_rdcmplx_nqtr_right_short_fcrse_nibble02\": 0,\n",
      "    \"f0_rdprbs_pqtr_right_margin_nibble02\": 0,\n",
      "    \"ddrmc_isr_uc1_ecc1\": 0,\n",
      "    \"wrvref_left_vref_final_rank0_byte7\": 0,\n",
      "    \"f0_rdcmplx_nqtr_left_nibble01\": 28,\n",
      "    \"f0_wr_simp_rm_byte_05\": [\n",
      "        70,\n",
      "        142\n",
      "    ],\n",
      "    \"rdvref_right_vref_upp_bound_nibble08\": 0,\n",
      "    \"0x0b_F0_READ_DQ_CAL\": \"Pass\",\n",
      "    \"f0_dqsgate_stg2_rldlyrnk_crse_rank0_byte1\": 0,\n",
      "    \"f0_wrdqdbi_stg3_dq_odly_bit61\": 58,\n",
      "    \"f0_rdcmplx_nqtr_right_short_nibble10\": 166,\n",
      "    \"dc0_perf_mon_3\": 0,\n",
      "    \"wrvref_vref_def\": 0,\n",
      "    \"f0_wrdqdbi_deskew_dq_odly_bit01\": 128,\n",
      "    \"f0_rddq_pqtr_final_nibble09\": 91,\n",
      "    \"f0_dqsgate_read_lat_final_byte4\": 27,\n",
      "    \"f0_wrdqdbi_left_edge_dq_bit10\": 47,\n",
      "    \"bisc_rl_dly_qtr_nibble06\": 76,\n",
      "    \"f1_dqsgate_stg1_overflow_51\": 0,\n",
      "    \"vttrack_rldlyqtr_nibble13\": 77,\n",
      "    \"f0_wrdqdbi_deskew_dq_odly_bit10\": 119,\n",
      "    \"nsu2_perf_mon_ctl_0_0\": 0,\n",
      "    \"f0_rdcmplx_pqtr_final_nibble12\": 86,\n",
      "    \"f0_calbisc_rl_dly_nqtr_nibble12\": 75,\n",
      "    \"f0_rddq_pqtr_right_nibble09\": 164,\n",
      "    \"f1_wrdqdbi_deskew_dq_odly_fcrse_bit10\": 0,\n",
      "    \"f1_rdcmplx_nqtr_right_nibble08\": 0,\n",
      "    \"f0_mr2_17_9\": 0,\n",
      "    \"f1_wrcmplx_odly_dq_final_bit30\": 0,\n",
      "    \"f0_rddq_nqtr_final_nibble04\": 99,\n",
      "    \"f0_rd_comp_rise_ctp_nib_00\": [\n",
      "        87,\n",
      "        174\n",
      "    ],\n",
      "    \"ddrmc_isr_dram_parity1\": 0,\n",
      "    \"wrmargin_left_byte2\": 0,\n",
      "    \"wrvref_right_vref_upp_bound_rank0_byte7\": 0,\n",
      "    \"rdvref_right_vref_upp_bound_nibble11\": 0,\n",
      "    \"f0_wrdqdbi_odly_dq_final_bit56\": 72,\n",
      "    \"f0_wrdqdbi_deskew_dq_odly_fcrse_bit13\": 132,\n",
      "    \"f0_wrdqdbi_stg2_dqs_odly_byte2\": 35,\n",
      "    \"dc1_perf_mon_0\": 0,\n",
      "    \"f0_wrdqdbi_left_edge_dbi_byte1\": 67,\n",
      "    \"f1_rdcmplx_pqtr_right_short_nibble08\": 0,\n",
      "    \"f1_rdcmplx_nqtr_right_short_fcrse_nibble06\": 0,\n",
      "    \"f0_rdprbs_nqtr_right_margin_nibble02\": 0,\n",
      "    \"f1_rdprbs_nqtr_right_margin_nibble11\": 0,\n",
      "    \"f0_rddq_pqtr_left_nibble07\": 18,\n",
      "    \"f1_dqsgate_stg1_overflow_11\": 0,\n",
      "    \"f0_rd_comp_rise_rm_nib_03\": [\n",
      "        66,\n",
      "        133\n",
      "    ],\n",
      "    \"f0_rd_simp_rise_ctp_nib_08\": [\n",
      "        91,\n",
      "        182\n",
      "    ],\n",
      "    \"f1_wrcmplx_odly_dq_final_bit10\": 0,\n",
      "    \"f0_wrdqdbi_stg2_dq_odly_bit38\": 29,\n",
      "    \"rdmargin_nqtr_right_nibble14\": 0,\n",
      "    \"f1_calbisc_rl_dly_nqtr_nibble12\": 0,\n",
      "    \"f0_rd_simp_fall_ctp_nib_04\": [\n",
      "        99,\n",
      "        198\n",
      "    ],\n",
      "    \"f1_rdcmplx_pqtr_right_nibble12\": 0,\n",
      "    \"f0_rdprbs_pqtr_right_margin_nibble11\": 0,\n",
      "    \"f0_wrcmplx_odly_dq_final_bit63\": 67,\n",
      "    \"f1_wrcmplx_odly_dbi_final_byte7\": 0,\n",
      "    \"f0_dqsgate_stg2_read_lat_rank0_byte4\": 27,\n",
      "    \"f0_wrdqdbi_deskew_dq_odly_bit61\": 149,\n",
      "    \"f1_wrlat_min_latency\": 0,\n",
      "    \"f0_mr0_17_9\": 6,\n",
      "    \"f0_dqsgate_stg1_rldlyrnk_crse_rank0_byte0\": 8,\n",
      "    \"f1_wrdqdbi_deskew_dq_odly_bit33\": 0,\n",
      "    \"f1_wrdqdbi_stg1_bit_status_byte6\": 0,\n",
      "    \"f1_wrlat_match_rank0_byte0\": 0,\n",
      "    \"rdmargin_pqtr_right_nibble15\": 0,\n",
      "    \"f1_wrdqdbi_stg3_dq_odly_bit36\": 0,\n",
      "    \"f0_rd_simp_rise_rm_nib_09\": [\n",
      "        73,\n",
      "        150\n",
      "    ],\n",
      "    \"f0_rdcmplx_nqtr_final_nibble06\": 84,\n",
      "    \"f0_rddq_idelay_final_bit29\": 82,\n",
      "    \"0x01_F0_MEM_INIT\": \"Pass\",\n",
      "    \"dc0_perf_mon_7\": 0,\n",
      "    \"f1_rddq_idelay_final_bit60\": 0,\n",
      "    \"f0_rdcmplx_pqtr_right_short_fcrse_nibble06\": 174,\n",
      "    \"f1_wrdqdbi_odly_dq_final_bit37\": 0,\n",
      "    \"f1_rdcmplx_pqtr_right_short_fcrse_nibble14\": 0,\n",
      "    \"per_rd_en\": 257,\n",
      "    \"f0_rd_simp_fall_ctp_nib_05\": [\n",
      "        99,\n",
      "        206\n",
      "    ],\n",
      "    \"cal_stage_time_47\": 0,\n",
      "    \"f0_rd_comp_fall_ctp_nib_00\": [\n",
      "        88,\n",
      "        183\n",
      "    ],\n",
      "    \"f0_wrdqdbi_stg2_dq_odly_bit57\": 58,\n",
      "    \"f0_wrlvl_crse_stg1_rank0_byte2\": 0,\n",
      "    \"bisc_mon_align_nibble05\": 0,\n",
      "    \"f1_rddq_nqtr_left_nibble09\": 0,\n",
      "    \"f1_wrdqdbi_deskew_dq_odly_fcrse_bit01\": 0,\n",
      "    \"f1_rddq_idelay_final_bit53\": 0,\n",
      "    \"f1_dqsgate_stg1_read_lat_rank0_byte2\": 0,\n",
      "    \"bisc_idly0_align_nibble13\": 73,\n",
      "    \"rdvref_vref_upp_bound_nibble10\": 0,\n",
      "    \"f0_wrdqdbi_stg3_dq_odly_bit30\": 78,\n",
      "    \"f0_rd_comp_fall_ctp_nib_09\": [\n",
      "        84,\n",
      "        175\n",
      "    ],\n",
      "    \"nsu1_perf_mon_0_0\": 0,\n",
      "    \"nibbles\": 16,\n",
      "    \"f0_dqsgate_stg1_read_lat_rank0_byte4\": 24,\n",
      "    \"f0_rdcmplx_pqtr_left_short_nibble01\": 22,\n",
      "    \"f1_rdcmplx_pqtr_left_short_nibble12\": 0,\n",
      "    \"f0_wr_simp_ctp_byte_05\": [\n",
      "        300,\n",
      "        614\n",
      "    ],\n",
      "    \"bisc_nqtr_align_nibble14\": 4,\n",
      "    \"mgchk_def_wr_vref_range\": 0,\n",
      "    \"f0_rdprbs_pqtr_left_margin_nibble08\": 0,\n",
      "    \"f1_wrdqdbi_stg3_dq_odly_bit09\": 0,\n",
      "    \"cal_warning_49\": 0,\n",
      "    \"f1_wrdqdbi_odly_dq_final_bit34\": 0,\n",
      "    \"dqstrack_rldlyrnk_crse_byte3\": 2,\n",
      "    \"f0_wrprbs_left_margin_byte0\": 0,\n",
      "    \"bisc_idly1_align_nibble12\": 69,\n",
      "    \"f0_rd_simp_rise_ctp_nib_11\": [\n",
      "        91,\n",
      "        192\n",
      "    ],\n",
      "    \"f0_wrlat_phy_data_nib_final_byte7\": 1,\n",
      "    \"scrub_en\": 1,\n",
      "    \"rdvref_right_vref_def_nibble01\": 0,\n",
      "    \"f0_rddq_idelay_final_bit36\": 76,\n",
      "    \"f1_wrdqdbi_odly_dq_final_bit28\": 0,\n",
      "    \"f0_rddq_nqtr_right_fcrse_nibble08\": 170,\n",
      "    \"cal_error_bit_phy_nibble_08\": 0,\n",
      "    \"f0_dqsgate_stg1_rldlyrnk_crse_rank0_byte6\": 15,\n",
      "    \"f1_rdcmplx_nqtr_right_nibble00\": 0,\n",
      "    \"dqs_gate_xphy_ub\": 1,\n",
      "    \"phy_rden24_dly\": 25,\n",
      "    \"f0_wrdqdbi_stg6_dbi_odly_byte0\": 51,\n",
      "    \"f0_wrcmplx_odly_dq_final_bit17\": 23,\n",
      "    \"iobmap_dqs_1\": 0,\n",
      "    \"f1_dqsgate_stg2_rldlyrnk_crse_rank0_byte7\": 0,\n",
      "    \"f1_wrdqdbi_deskew_dq_odly_fcrse_bit59\": 0,\n",
      "    \"f0_rd_comp_rise_ctp_nib_02\": [\n",
      "        86,\n",
      "        172\n",
      "    ],\n",
      "    \"f1_wrdqdbi_odly_dq_final_bit01\": 0,\n",
      "    \"cal_warning_44\": 0,\n",
      "    \"f0_rdcmplx_nqtr_left_nibble14\": 29,\n",
      "    \"f1_wrlvl_offset_rank0_byte2\": 0,\n",
      "    \"rdvref_right_vref_final_nibble12\": 0,\n",
      "    \"f0_rddq_pqtr_left_nibble10\": 18,\n",
      "    \"cal_error_bit_phy_nibble_22\": 0,\n",
      "    \"f0_wrdqdbi_deskew_dq_odly_bit59\": 130,\n",
      "    \"f1_wrdqdbi_deskew_dq_odly_fcrse_bit20\": 0,\n",
      "    \"cal_seq_status_02\": 260,\n",
      "    \"f0_rd_comp_fall_rm_nib_13\": [\n",
      "        59,\n",
      "        119\n",
      "    ],\n",
      "    \"f0_dqsgate_stg1_overflow_37\": 0,\n",
      "    \"f0_wrcmplx_odly_dq_final_bit16\": 43,\n",
      "    \"f0_wrdqdbi_left_edge_dbi_byte0\": 51,\n",
      "    \"wrvref_vref_final_rank0_byte0\": 0,\n",
      "    \"cal_status\": \"PASS\",\n",
      "    \"f1_wrdqdbi_stg1_dqs_delay_byte6\": 0,\n",
      "    \"f1_wrdqdbi_stg2_dq_odly_bit45\": 0,\n",
      "    \"f1_dqsgate_stg1_overflow_34\": 0,\n",
      "    \"rdvref_left_vref_upp_bound_nibble04\": 0,\n",
      "    \"f0_dqsgate_stg1_overflow_32\": 0,\n",
      "    \"f0_wrdqdbi_odly_dq_final_bit61\": 80,\n",
      "    \"f0_rd_comp_fall_lm_nib_02\": [\n",
      "        58,\n",
      "        117\n",
      "    ],\n",
      "    \"f0_rdcmplx_idelay_offset_nibble07\": 0,\n",
      "    \"f0_rd_simp_fall_lm_nib_08\": [\n",
      "        69,\n",
      "        141\n",
      "    ],\n",
      "    \"bisc_idly3_align_nibble03\": 76,\n",
      "    \"f0_wrdqdbi_right_edge_dqs_byte1\": 148,\n",
      "    \"f0_wrdqdbi_stg2_dq_odly_bit26\": 78,\n",
      "    \"f0_rd_simp_rise_lm_nib_00\": [\n",
      "        68,\n",
      "        136\n",
      "    ],\n",
      "    \"f0_rddq_nqtr_final_nibble11\": 96,\n",
      "    \"iobmap_dq_55_54\": 0,\n",
      "    \"f0_wrdqdbi_stg2_dq_odly_bit39\": 29,\n",
      "    \"f0_wr_simp_lm_byte_05\": [\n",
      "        77,\n",
      "        157\n",
      "    ],\n",
      "    \"f1_wrdqdbi_stg4_dqs_delay_byte7\": 0,\n",
      "    \"f1_wrdqdbi_left_edge_dq_bit22\": 0,\n",
      "    \"wrvref_vref_final_rank0_byte6\": 0,\n",
      "    \"f0_wrlvl_offset_rank0_byte5\": 78,\n",
      "    \"f1_rdprbs_nqtr_left_margin_nibble04\": 0,\n",
      "    \"f0_wrdqdbi_odly_dq_final_bit30\": 83,\n",
      "    \"f1_rdcmplx_pqtr_right_nibble08\": 0,\n",
      "    \"f1_dqsgate_stg1_read_lat_rank0_byte7\": 0,\n",
      "    \"vttrack_rldlyqtr_min_nibble07\": 74,\n",
      "    \"f0_wrlat_phy_data_nib_final_byte6\": 1,\n",
      "    \"f0_rdprbs_pqtr_left_margin_nibble13\": 0,\n",
      "    \"f0_wrdqdbi_stg1_dqs_delay_byte7\": 74,\n",
      "    \"f1_wrdqdbi_left_edge_dq_bit48\": 0,\n",
      "    \"bisc_idly1_align_nibble04\": 67,\n",
      "    \"f0_wrdqdbi_odly_dbi_final_byte2\": 27,\n",
      "    \"f1_rddq_nqtr_left_nibble14\": 0,\n",
      "    \"f0_rd_comp_fall_lm_nib_15\": [\n",
      "        62,\n",
      "        130\n",
      "    ],\n",
      "    \"f1_wrdqdbi_deskew_dq_odly_bit37\": 0,\n",
      "    \"f0_wrcmplx_odly_dq_final_bit36\": 42,\n",
      "    \"f1_wrdqdbi_deskew_dq_odly_bit10\": 0,\n",
      "    \"cal_stage.11_READ_DQS_TRACK\": \"Pass\",\n",
      "    \"f0_wrdqdbi_stg3_dq_odly_bit62\": 58,\n",
      "    \"f0_wrdqdbi_stg2_dq_odly_bit61\": 58,\n",
      "    \"f0_rdcmplx_pqtr_left_short_nibble02\": 21,\n",
      "    \"f1_dqsgate_stg1_overflow_47\": 0,\n",
      "    \"f0_wrdqdbi_left_edge_dq_bit17\": 10,\n",
      "    \"f1_wrdqdbi_stg3_dq_odly_bit06\": 0,\n",
      "    \"f0_rdprbs_nqtr_left_margin_nibble06\": 0,\n",
      "    \"f0_rd_comp_fall_lm_nib_12\": [\n",
      "        58,\n",
      "        120\n",
      "    ],\n",
      "    \"f1_rddq_nqtr_final_nibble03\": 0,\n",
      "    \"f0_wrdqdbi_stg3_dq_odly_bit14\": 62,\n",
      "    \"f1_wrcmplx_odly_dq_final_bit20\": 0,\n",
      "    \"f1_rdcmplx_nqtr_right_short_fcrse_nibble13\": 0,\n",
      "    \"ddrmc_pcsr_status_caldone\": 1,\n",
      "    \"rdvref_left_vref_upp_bound_nibble06\": 0,\n",
      "    \"f0_rdcmplx_nqtr_right_nibble02\": 146,\n",
      "    \"f0_rdprbs_pqtr_right_margin_nibble03\": 0,\n",
      "    \"f0_wrdqdbi_stg6_dbi_odly_byte3\": 78,\n",
      "    \"f0_rd_simp_rise_lm_nib_08\": [\n",
      "        73,\n",
      "        146\n",
      "    ],\n",
      "    \"f0_wrdqdbi_right_margin_fcrse_byte3\": 70,\n",
      "    \"f1_wrdqdbi_stg3_dq_odly_bit18\": 0,\n",
      "    \"mc_index\": \"0\",\n",
      "    \"iobmap_dq_65_64\": 0,\n",
      "    \"f0_dqsgate_stg1_read_lat_rank0_byte5\": 24,\n",
      "    \"f0_rdcmplx_nqtr_left_nibble11\": 29,\n",
      "    \"f0_wrdqdbi_stg1_dqs_delay_byte5\": 71,\n",
      "    \"f0_wrdqdbi_stg2_dqs_odly_byte7\": 74,\n",
      "    \"cal_warning_48\": 0,\n",
      "    \"f0_wrdqdbi_left_edge_dbi_byte5\": 55,\n",
      "    \"self_refresh_entry_error\": 0,\n",
      "    \"f1_dqsgate_stg2_rldlyrnk_crse_rank0_byte0\": 0,\n",
      "    \"f1_wrdqdbi_left_edge_dq_bit40\": 0,\n",
      "    \"f1_wrdqdbi_odly_dqs_final_byte2\": 0,\n",
      "    \"f0_rd_comp_fall_rm_nib_01\": [\n",
      "        63,\n",
      "        133\n",
      "    ],\n",
      "    \"vttrack_rldlyqtr_nibble11\": 79,\n",
      "    \"f0_rdprbs_nqtr_right_margin_nibble05\": 0,\n",
      "    \"f1_wrdqdbi_right_margin_fcrse_byte2\": 0,\n",
      "    \"f1_wrdqdbi_deskew_dq_odly_fcrse_bit19\": 0,\n",
      "    \"f1_rdprbs_nqtr_right_margin_nibble06\": 0,\n",
      "    \"f1_wrcmplx_right_margin_fcrse_byte0\": 0,\n",
      "    \"f0_rd_comp_fall_rm_nib_14\": [\n",
      "        63,\n",
      "        133\n",
      "    ],\n",
      "    \"nsu2_perf_mon_1_2\": 0,\n",
      "    \"f0_wrdqdbi_stg3_dq_odly_bit57\": 58,\n",
      "    \"f0_wrdqdbi_odly_dq_final_bit34\": 30,\n",
      "    \"f0_rdprbs_nqtr_right_margin_nibble12\": 0,\n",
      "    \"f1_wrdqdbi_left_edge_dq_bit44\": 0,\n",
      "    \"f0_wrdqdbi_stg1_bit_status_byte4\": 0,\n",
      "    \"ddrmc_isr_nsu_3\": 0,\n",
      "    \"f1_wrdqdbi_stg2_dq_odly_bit52\": 0,\n",
      "    \"f1_rdcmplx_nqtr_right_nibble05\": 0,\n",
      "    \"rdvref_left_vref_final_nibble02\": 0,\n",
      "    \"f0_rd_comp_fall_rm_nib_09\": [\n",
      "        57,\n",
      "        118\n",
      "    ],\n",
      "    \"bisc_mon_align_nibble07\": 0,\n",
      "    \"f1_wrcmplx_odly_dq_final_bit39\": 0,\n",
      "    \"f0_wrdqdbi_odly_dq_final_bit02\": 50,\n",
      "    \"f1_rdcmplx_pqtr_right_short_fcrse_nibble12\": 0,\n",
      "    \"f0_rddq_idelay_final_bit50\": 79,\n",
      "    \"f0_wr_comp_rm_byte_07\": [\n",
      "        64,\n",
      "        133\n",
      "    ],\n",
      "    \"f0_rddq_pqtr_final_nibble02\": 90,\n",
      "    \"f1_wrdqdbi_stg1_bit_status_byte2\": 0,\n",
      "    \"cal_stage_time_58\": 0,\n",
      "    \"f0_rd_comp_fall_rm_nib_05\": [\n",
      "        55,\n",
      "        114\n",
      "    ],\n",
      "    \"f0_wrcmplx_odly_dq_final_bit46\": 73,\n",
      "    \"f1_wrcmplx_odly_dbi_final_byte1\": 0,\n",
      "    \"f1_wrdqdbi_deskew_dq_odly_bit41\": 0,\n",
      "    \"f0_wrdqdbi_left_edge_dq_bit34\": 30,\n",
      "    \"f0_wrdqdbi_stg4_dqs_delay_byte1\": 14,\n",
      "    \"cal_warning_13\": 0,\n",
      "    \"f0_wrdqdbi_left_edge_dq_bit08\": 57,\n",
      "    \"f1_rdcmplx_pqtr_left_nibble07\": 0,\n",
      "    \"f1_wrdqdbi_left_edge_dq_bit16\": 0,\n",
      "    \"f1_wrdqdbi_odly_dq_final_bit10\": 0,\n",
      "    \"f1_wrdqdbi_left_edge_dq_bit27\": 0,\n",
      "    \"f1_wrcmplx_odly_dq_final_bit21\": 0,\n",
      "    \"f0_rdcmplx_idelay_offset_nibble10\": 0,\n",
      "    \"f0_wrdqdbi_stg2_dq_odly_bit24\": 78,\n",
      "    \"f0_rdprbs_pqtr_left_margin_nibble09\": 0,\n",
      "    \"f1_rdcmplx_pqtr_right_short_fcrse_nibble01\": 0,\n",
      "    \"cal_stage_time_44\": 0,\n",
      "    \"f0_wrdqdbi_deskew_dq_odly_bit12\": 136,\n",
      "    \"f0_rddq_pqtr_final_nibble13\": 91,\n",
      "    \"f0_wrcmplx_odly_dq_final_bit61\": 82,\n",
      "    \"phy_rden16_dly\": 26,\n",
      "    \"cal_seq_status_11\": 397,\n",
      "    \"f0_rd_simp_rise_rm_nib_11\": [\n",
      "        74,\n",
      "        156\n",
      "    ],\n",
      "    \"f1_rdcmplx_nqtr_right_short_nibble07\": 0,\n",
      "    \"f1_rddq_idelay_final_bit12\": 0,\n",
      "    \"f1_wrlvl_fine_right_rank0_byte5\": 0,\n",
      "    \"f0_wrdqdbi_stg2_dq_odly_bit16\": 19,\n",
      "    \"f1_rdcmplx_idelay_offset_nibble01\": 0,\n",
      "    \"f0_rddq_idelay_final_bit35\": 69,\n",
      "    \"wrvref_right_vref_low_bound_rank0_byte5\": 0,\n",
      "    \"warning_code_ver\": 1,\n",
      "    \"f0_rddq_idelay_final_bit37\": 70,\n",
      "    \"cal_warning_66\": 0,\n",
      "    \"f1_rddq_pqtr_final_nibble07\": 0,\n",
      "    \"f0_rddq_idelay_final_bit41\": 68,\n",
      "    \"f0_wrdqdbi_deskew_dq_odly_fcrse_bit42\": 135,\n",
      "    \"f0_calbisc_rl_dly_qtr_nibble13\": 76,\n",
      "    \"f0_wrlvl_noise_fcrse_rank0_byte0\": 55,\n",
      "    \"f0_wrlat_match_rank0_byte0\": 16,\n",
      "    \"cal_warning_32\": 0,\n",
      "    \"f1_wrdqdbi_left_edge_dq_bit52\": 0,\n",
      "    \"f1_wrdqdbi_deskew_dq_odly_bit54\": 0,\n",
      "    \"f1_rddq_idelay_final_bit63\": 0,\n",
      "    \"bisc_idly4_align_nibble01\": 78,\n",
      "    \"f1_rddq_idelay_final_bit07\": 0,\n",
      "    \"f0_rdcmplx_nqtr_right_nibble07\": 141,\n",
      "    \"f1_rddq_pqtr_right_nibble09\": 0,\n",
      "    \"f1_rddq_nqtr_right_nibble06\": 0,\n",
      "    \"f0_dram_2t_mode\": 0,\n",
      "    \"f0_dqsgate_stg1_overflow_49\": 0,\n",
      "    \"f0_wrlvl_fine_right_rank0_byte7\": 60,\n",
      "    \"f0_wrdqdbi_odly_dq_final_bit21\": 22,\n",
      "    \"f0_wrlat_wldlyrnk_crse_final_rank0_byte3\": 0,\n",
      "    \"f0_rdcmplx_nqtr_left_short_nibble13\": 27,\n",
      "    \"f1_rddq_qtr_deskew_nibble04\": 0,\n",
      "    \"f1_dqsgate_stg2_rldlyrnk_crse_rank0_byte1\": 0,\n",
      "    \"f0_wrdqdbi_odly_dq_final_bit18\": 29,\n",
      "    \"f1_rddq_nqtr_final_nibble13\": 0,\n",
      "    \"rdvref_right_vref_upp_bound_nibble03\": 0,\n",
      "    \"f0_rdcmplx_nqtr_right_short_nibble12\": 165,\n",
      "    \"iobmap_dq_39_38\": 0,\n",
      "    \"f0_wrdqdbi_stg2_dq_odly_bit41\": 55,\n",
      "    \"dimm_type\": 1,\n",
      "    \"f1_rdcmplx_pqtr_right_short_fcrse_nibble08\": 0,\n",
      "    \"cal_stage.01_F0_PHY_BISC\": \"Pass\",\n",
      "    \"f1_wrdqdbi_deskew_dq_odly_fcrse_bit24\": 0,\n",
      "    \"f1_wrdqdbi_stg5_dqs_odly_byte7\": 0,\n",
      "    \"f0_wrcmplx_odly_dq_final_bit28\": 84,\n",
      "    \"dqstrack_rldlyrnk_crse_min_byte5\": 2,\n",
      "    \"dqs_gate_overflow\": 0,\n",
      "    \"xpi_wrdata_all_nib_dly_offset\": 8,\n",
      "    \"f0_wrdqdbi_left_edge_dq_bit11\": 53,\n",
      "    \"cal_post_status_00\": 0,\n",
      "    \"f0_rdcmplx_nqtr_left_short_nibble07\": 27,\n",
      "    \"bisc_idly2_align_nibble05\": 70,\n",
      "    \"f0_wrdqdbi_deskew_dq_odly_bit28\": 149,\n",
      "    \"f0_wrdqdbi_right_margin_fcrse_byte4\": 70,\n",
      "    \"f1_dqsgate_stg1_rldlyrnk_fine_rank0_byte5\": 0,\n",
      "    \"f1_wrdqdbi_deskew_dq_odly_fcrse_bit15\": 0,\n",
      "    \"f1_wrdqdbi_left_margin_byte6\": 0,\n",
      "    \"f1_wrdqdbi_odly_dq_final_bit15\": 0,\n",
      "    \"xpi_wrdata_all_nib_dly\": 16,\n",
      "    \"f0_wrdqdbi_odly_dbi_final_byte0\": 56,\n",
      "    \"rdvref_vref_final_nibble05\": 0,\n",
      "    \"f0_rdcmplx_nqtr_right_nibble00\": 151,\n",
      "    \"freq_switch_restore_error\": 0,\n",
      "    \"f0_rdprbs_nqtr_left_margin_nibble03\": 0,\n",
      "    \"rdvref_left_vref_def_nibble10\": 0,\n",
      "    \"f1_rddq_nqtr_left_nibble15\": 0,\n",
      "    \"vttrack_rldlyqtr_min_nibble12\": 73,\n",
      "    \"dqstrack_rldlyrnk_fine_max_byte2\": 45,\n",
      "    \"f0_rd_simp_fall_rm_nib_10\": [\n",
      "        69,\n",
      "        134\n",
      "    ],\n",
      "    \"f0_rddq_nqtr_final_nibble00\": 96,\n",
      "    \"f1_wrdqdbi_odly_dq_final_bit36\": 0,\n",
      "    \"rdvref_vref_upp_bound_nibble13\": 0,\n",
      "    \"f1_rdcmplx_nqtr_right_nibble11\": 0,\n",
      "    \"power_down_exit_restore_error\": 0,\n",
      "    \"f1_wrdqdbi_odly_dqs_final_byte7\": 0,\n",
      "    \"f0_wrlat_wldlyrnk_crse_final_rank0_byte4\": 3,\n",
      "    \"f1_wrdqdbi_deskew_dbi_odly_fcrse_byte1\": 0,\n",
      "    \"f1_rddq_pqtr_left_nibble09\": 0,\n",
      "    \"ub_isr_vt_track_err\": 0,\n",
      "    \"f1_rdcmplx_pqtr_final_nibble10\": 0,\n",
      "    \"f1_wrprbs_left_margin_byte0\": 0,\n",
      "    \"f1_rddq_qtr_deskew_nibble08\": 0,\n",
      "    \"dqstrack_rldlyrnk_crse_byte4\": 5,\n",
      "    \"f0_rddq_pqtr_left_nibble12\": 18,\n",
      "    \"cal_warning_62\": 0,\n",
      "    \"f0_rddq_idelay_final_bit27\": 74,\n",
      "    \"phy_rank_read_override\": 0,\n",
      "    \"dqstrack_rldlyrnk_crse_min_byte0\": 4,\n",
      "    \"iobmap_dq_27_26\": 0,\n",
      "    \"f1_rddq_nqtr_final_nibble07\": 0,\n",
      "    \"f1_rddq_pqtr_right_fcrse_nibble10\": 0,\n",
      "    \"f1_dqsgate_stg1_overflow_39\": 0,\n",
      "    \"f1_rdcmplx_nqtr_left_short_nibble10\": 0,\n",
      "    \"f1_wrcmplx_right_margin_fcrse_byte4\": 0,\n",
      "    \"cal_seq_status_07\": 265,\n",
      "    \"vttrack_rldlyqtr_nibble15\": 78,\n",
      "    \"f0_rd_comp_fall_ctp_nib_02\": [\n",
      "        88,\n",
      "        179\n",
      "    ],\n",
      "    \"dc0_perf_mon_5\": 0,\n",
      "    \"f0_wrdqdbi_deskew_dq_odly_fcrse_bit43\": 125,\n",
      "    \"rdvref_left_vref_upp_bound_nibble13\": 0,\n",
      "    \"f0_wrcmplx_odly_dq_final_bit09\": 72,\n",
      "    \"f1_wrdqdbi_deskew_dq_odly_bit17\": 0,\n",
      "    \"f0_rdcmplx_pqtr_final_nibble05\": 85,\n",
      "    \"f1_wrdqdbi_stg6_dbi_odly_byte3\": 0,\n",
      "    \"f0_wrdqdbi_stg2_dq_odly_bit47\": 55,\n",
      "    \"f1_wrdqdbi_stg3_dq_odly_bit31\": 0,\n",
      "    \"f1_rddq_nqtr_right_nibble08\": 0,\n",
      "    \"f0_wrcmplx_odly_dq_final_bit49\": 48,\n",
      "    \"f0_rd_comp_rise_lm_nib_05\": [\n",
      "        61,\n",
      "        128\n",
      "    ],\n",
      "    \"f1_wrcmplx_odly_dq_final_bit02\": 0,\n",
      "    \"bisc_en\": 1,\n",
      "    \"mgchk_rank\": 0,\n",
      "    \"f0_wrdqdbi_left_edge_dq_bit49\": 39,\n",
      "    \"f0_wrdqdbi_left_edge_dq_bit05\": 58,\n",
      "    \"f1_rdcmplx_pqtr_left_nibble14\": 0,\n",
      "    \"rdmargin_nqtr_left_nibble07\": 0,\n",
      "    \"f1_wrlvl_fine_left_rank0_byte6\": 0,\n",
      "    \"f1_wrcmplx_odly_dq_final_bit50\": 0,\n",
      "    \"nsu2_perf_filter_0_0\": 0,\n",
      "    \"bisc_idly2_align_nibble09\": 73,\n",
      "    \"bisc_rl_dly_qtr_nibble09\": 75,\n",
      "    \"f1_wrdqdbi_deskew_dq_odly_bit43\": 0,\n",
      "    \"f1_wrdqdbi_odly_dq_final_bit05\": 0,\n",
      "    \"f1_wrcmplx_left_margin_byte3\": 0,\n",
      "    \"rdvref_left_vref_low_bound_nibble03\": 0,\n",
      "    \"f0_wrdqdbi_deskew_dq_odly_bit62\": 150,\n",
      "    \"f0_wrdqdbi_deskew_dq_odly_bit03\": 128,\n",
      "    \"f1_dqsgate_stg1_overflow_23\": 0,\n",
      "    \"f1_wrcmplx_odly_dq_final_bit52\": 0,\n",
      "    \"f1_wrdqdbi_left_edge_dq_bit01\": 0,\n",
      "    \"f1_wrdqdbi_odly_dbi_final_byte5\": 0,\n",
      "    \"f0_wrcmplx_right_margin_fcrse_byte1\": 50,\n",
      "    \"iobmap_dq_41_40\": 0,\n",
      "    \"f0_rd_comp_fall_rm_nib_12\": [\n",
      "        58,\n",
      "        120\n",
      "    ],\n",
      "    \"cal_error_bit_phy_nibble_04\": 0,\n",
      "    \"rdvref_left_vref_low_bound_nibble14\": 0,\n",
      "    \"f1_rddq_idelay_final_bit11\": 0,\n",
      "    \"rdmargin_pqtr_left_nibble15\": 0,\n",
      "    \"f0_wrdqdbi_odly_dq_final_bit09\": 62,\n",
      "    \"f0_wrdqdbi_deskew_dbi_odly_byte6\": 118,\n",
      "    \"f1_wrprbs_right_margin_byte3\": 0,\n",
      "    \"f0_wrdqdbi_stg3_dq_odly_bit55\": 44,\n",
      "    \"rdmargin_nqtr_right_nibble15\": 0,\n",
      "    \"f1_wrdqdbi_left_edge_dq_bit12\": 0,\n",
      "    \"f1_dqsgate_stg2_read_lat_rank0_byte6\": 0,\n",
      "    \"rdvref_left_vref_def_nibble04\": 0,\n",
      "    \"f1_wrdqdbi_deskew_dq_odly_fcrse_bit14\": 0,\n",
      "    \"f1_wrdqdbi_right_margin_byte6\": 0,\n",
      "    \"f1_wrlat_phy_data_nib_final_byte1\": 0,\n",
      "    \"f0_wr_comp_lm_byte_04\": [\n",
      "        69,\n",
      "        141\n",
      "    ],\n",
      "    \"reg_safe_config1\": 1086456584,\n",
      "    \"f0_rddq_pqtr_right_fcrse_nibble06\": 173,\n",
      "    \"f1_wrdqdbi_left_edge_dq_bit46\": 0,\n",
      "    \"f0_wrdqdbi_deskew_dq_odly_fcrse_bit27\": 158,\n",
      "    \"f0_rdcmplx_pqtr_right_short_nibble03\": 166,\n",
      "    \"f0_rdcmplx_nqtr_final_nibble07\": 84,\n",
      "    \"f1_calbisc_rl_dly_qtr_nibble12\": 0,\n",
      "    \"f1_wrdqdbi_stg3_dq_odly_bit53\": 0,\n",
      "    \"f0_dqsgate_stg1_overflow_16\": 0,\n",
      "    \"f1_wrlvl_crse_final_rank0_byte0\": 0,\n",
      "    \"ddrmc_isr_ce1_ecc1\": 0,\n",
      "    \"f1_rdcmplx_nqtr_left_nibble08\": 0,\n",
      "    \"f0_rd_simp_fall_ctp_nib_09\": [\n",
      "        94,\n",
      "        196\n",
      "    ],\n",
      "    \"iobmap_dq_3_2\": 0,\n",
      "    \"cal_stage_time_33\": 0,\n",
      "    \"iobmap_dq_45_44\": 0,\n",
      "    \"xpi_pmi_config\": 0,\n",
      "    \"dqstrack_rldlyrnk_crse_min_byte2\": 5,\n",
      "    \"f0_dqsgate_stg1_overflow_42\": 0,\n",
      "    \"f1_rdcmplx_pqtr_left_short_nibble07\": 0,\n",
      "    \"f1_rdcmplx_nqtr_left_nibble13\": 0,\n",
      "    \"f0_wrdqdbi_stg2_dq_odly_bit59\": 58,\n",
      "    \"f1_rdcmplx_nqtr_left_nibble00\": 0,\n",
      "    \"f0_wrdqdbi_left_edge_dq_bit16\": 30,\n",
      "    \"f1_rddq_pqtr_final_nibble15\": 0,\n",
      "    \"bisc_idly5_align_nibble05\": 77,\n",
      "    \"f0_wrdqdbi_stg4_dqs_delay_byte4\": 14,\n",
      "    \"f0_rd_simp_rise_rm_nib_14\": [\n",
      "        73,\n",
      "        150\n",
      "    ],\n",
      "    \"f0_wrcmplx_left_margin_byte1\": 70,\n",
      "    \"bisc_idly5_align_nibble13\": 79,\n",
      "    \"f1_wrdqdbi_deskew_dbi_odly_fcrse_byte7\": 0,\n",
      "    \"f1_rddq_nqtr_right_fcrse_nibble14\": 0,\n",
      "    \"f0_calbisc_rl_dly_nqtr_nibble00\": 75,\n",
      "    \"f1_rddq_pqtr_left_nibble13\": 0,\n",
      "    \"vttrack_rldlyqtr_max_nibble08\": 80,\n",
      "    \"f0_rdcmplx_pqtr_right_short_fcrse_nibble10\": 174,\n",
      "    \"f1_wrdqdbi_stg3_dq_odly_bit61\": 0,\n",
      "    \"bisc_nqtr_nibble07\": 78,\n",
      "    \"f0_rd_comp_rise_rm_nib_11\": [\n",
      "        65,\n",
      "        137\n",
      "    ],\n",
      "    \"rdvref_right_vref_upp_bound_nibble04\": 0,\n",
      "    \"f1_wrdqdbi_stg3_dq_odly_bit51\": 0,\n",
      "    \"f1_wrdqdbi_deskew_dq_odly_bit04\": 0,\n",
      "    \"f1_ps_factor\": 0.0,\n",
      "    \"phy_oe_nib17_dly\": 0,\n",
      "    \"bisc_idly5_align_nibble11\": 81,\n",
      "    \"dqstrack_rldlyrnk_fine_byte3\": 27,\n",
      "    \"nsu2_perf_mon_1_1\": 0,\n",
      "    \"f0_rddq_pqtr_right_fcrse_nibble15\": 163,\n",
      "    \"iobmap_dq_5_4\": 0,\n",
      "    \"f0_rddq_idelay_final_bit09\": 69,\n",
      "    \"f0_wrdqdbi_left_edge_dq_bit20\": 21,\n",
      "    \"f0_wrdqdbi_stg3_dq_odly_bit59\": 58,\n",
      "    \"reg_safe_config3\": 16877592,\n",
      "    \"phy_rden2_dly\": 27,\n",
      "    \"rdvref_vref_low_bound_nibble00\": 0,\n",
      "    \"f0_wrdqdbi_left_edge_dq_bit42\": 60,\n",
      "    \"f0_rdcmplx_nqtr_left_nibble06\": 28,\n",
      "    \"vttrack_rldlyqtr_max_nibble09\": 79,\n",
      "    \"f0_rdcmplx_nqtr_right_short_nibble03\": 164,\n",
      "    \"f1_rddq_nqtr_right_nibble14\": 0,\n",
      "    \"f1_rdprbs_pqtr_right_margin_nibble03\": 0,\n",
      "    \"f1_rdprbs_nqtr_left_margin_nibble03\": 0,\n",
      "    \"f0_wrdqdbi_stg3_dq_odly_bit60\": 58,\n",
      "    \"f0_wrdqdbi_odly_dq_final_bit37\": 25,\n",
      "    \"f0_rd_simp_fall_ctp_nib_00\": [\n",
      "        96,\n",
      "        200\n",
      "    ],\n",
      "    \"f0_rddq_nqtr_right_fcrse_nibble07\": 172,\n",
      "    \"f0_bit_time\": 312,\n",
      "    \"f1_rddq_pqtr_right_fcrse_nibble01\": 0,\n",
      "    \"dual_freq_en\": 0,\n",
      "    \"f0_rddq_idelay_final_bit63\": 75,\n",
      "    \"f1_dqsgate_stg1_rldlyrnk_crse_rank0_byte1\": 0,\n",
      "    \"f0_wrlvl_crse_final_rank0_byte2\": 0,\n",
      "    \"f0_rd_simp_rise_ctp_nib_02\": [\n",
      "        90,\n",
      "        180\n",
      "    ],\n",
      "    \"cal_stage_time_53\": 0,\n",
      "    \"f1_wrdqdbi_left_edge_dq_bit45\": 0,\n",
      "    \"f0_wrdqdbi_deskew_dq_odly_fcrse_bit16\": 109,\n",
      "    \"iobmap_dq_23_22\": 0,\n",
      "    \"rdmargin_nqtr_right_nibble08\": 0,\n",
      "    \"f0_rddq_pqtr_right_nibble01\": 155,\n",
      "    \"f0_wrdqdbi_odly_dqs_final_byte2\": 35,\n",
      "    \"f1_xpll_divclk_lt\": 1,\n",
      "    \"f0_rdcmplx_nqtr_right_short_fcrse_nibble09\": 172,\n",
      "    \"f1_wrdqdbi_deskew_dq_odly_fcrse_bit07\": 0,\n",
      "    \"f0_rdcmplx_nqtr_right_short_fcrse_nibble13\": 173,\n",
      "    \"f1_wrcmplx_left_margin_byte7\": 0,\n",
      "    \"rdvref_vref_final_nibble15\": 0,\n",
      "    \"f0_wrdqdbi_right_edge_dqs_byte6\": 130,\n",
      "    \"f1_wrcmplx_odly_dbi_final_byte0\": 0,\n",
      "    \"f0_rdcmplx_pqtr_right_short_fcrse_nibble02\": 167,\n",
      "    \"f0_dqsgate_read_lat_final_byte6\": 27,\n",
      "    \"f0_rdcmplx_nqtr_final_nibble05\": 87,\n",
      "    \"iobmap_dq_71_70\": 0,\n",
      "    \"f1_wrdqdbi_odly_dq_final_bit32\": 0,\n",
      "    \"f0_wrcmplx_odly_dbi_final_byte7\": 67,\n",
      "    \"bisc_nqtr_align_nibble04\": 0,\n",
      "    \"f1_rdcmplx_pqtr_left_nibble08\": 0,\n",
      "    \"f1_wrdqdbi_stg3_dq_odly_bit35\": 0,\n",
      "    \"f0_rdcmplx_nqtr_final_nibble14\": 91,\n",
      "    \"rdvref_vref_upp_bound_nibble03\": 0,\n",
      "    \"f1_wrdqdbi_deskew_dq_odly_fcrse_bit55\": 0,\n",
      "    \"nsu0_perf_mon_ctl_0_1\": 0,\n",
      "    \"f0_mr4_17_9\": 0,\n",
      "    \"f0_rdcmplx_nqtr_final_nibble01\": 90,\n",
      "    \"f1_wrdqdbi_stg2_dq_odly_bit00\": 0,\n",
      "    \"f1_wrdqdbi_deskew_dbi_odly_byte5\": 0,\n",
      "    \"f1_rddq_idelay_final_bit23\": 0,\n",
      "    \"f0_rddq_idelay_final_bit32\": 70,\n",
      "    \"f0_wrdqdbi_left_edge_dq_bit55\": 49,\n",
      "    \"f1_calbisc_rl_dly_pqtr_nibble01\": 0,\n",
      "    \"cal_seq_status_19\": 283,\n",
      "    \"f0_rdcmplx_pqtr_left_nibble01\": 23,\n",
      "    \"f1_wrdqdbi_left_edge_dq_bit18\": 0,\n",
      "    \"f0_wrdqdbi_deskew_dq_odly_bit46\": 141,\n",
      "    \"f1_wrdqdbi_deskew_dq_odly_bit19\": 0,\n",
      "    \"f1_calbisc_rl_dly_pqtr_nibble14\": 0,\n",
      "    \"f0_rddq_nqtr_left_nibble11\": 27,\n",
      "    \"f0_wrdqdbi_stg2_dqs_odly_byte4\": 45,\n",
      "    \"f1_wrcmplx_odly_dq_final_bit57\": 0,\n",
      "    \"f0_rd_comp_rise_ctp_nib_01\": [\n",
      "        88,\n",
      "        183\n",
      "    ],\n",
      "    \"f0_dqsgate_rldlyrnk_crse_final_rank0_byte3\": 2,\n",
      "    \"dram_size\": 3,\n",
      "    \"phy_rden25_dly\": 25,\n",
      "    \"rdmargin_pqtr_left_nibble11\": 0,\n",
      "    \"f0_wrlat_phy_oe_nib_final_byte4\": 1,\n",
      "    \"f0_tck_msb\": 1,\n",
      "    \"f1_wrcmplx_right_margin_fcrse_byte5\": 0,\n",
      "    \"f1_rddq_pqtr_right_fcrse_nibble07\": 0,\n",
      "    \"f1_rdprbs_pqtr_left_margin_nibble08\": 0,\n",
      "    \"f1_dqsgate_stg1_overflow_30\": 0,\n",
      "    \"nsu3_perf_filter_0_0\": 0,\n",
      "    \"wrvref_right_vref_def_rank0_byte1\": 0,\n",
      "    \"f1_rddq_pqtr_left_nibble15\": 0,\n",
      "    \"f1_wrdqdbi_deskew_dq_odly_fcrse_bit04\": 0,\n",
      "    \"f0_wrcmplx_odly_dq_final_bit07\": 65,\n",
      "    \"f1_wrdqdbi_stg4_byte_status_00\": 0,\n",
      "    \"f1_wrdqdbi_left_edge_dq_bit17\": 0,\n",
      "    \"f1_rdcmplx_nqtr_left_nibble06\": 0,\n",
      "    \"f0_rd_comp_rise_ctp_nib_09\": [\n",
      "        87,\n",
      "        179\n",
      "    ],\n",
      "    \"f0_rddq_pqtr_final_nibble11\": 91,\n",
      "    \"f0_rd_comp_rise_rm_nib_06\": [\n",
      "        61,\n",
      "        123\n",
      "    ],\n",
      "    \"rdmargin_nqtr_left_nibble01\": 0,\n",
      "    \"f1_dqsgate_stg1_read_lat_rank0_byte4\": 0,\n",
      "    \"f1_rdprbs_nqtr_left_margin_nibble15\": 0,\n",
      "    \"f1_wrlvl_fine_left_rank0_byte0\": 0,\n",
      "    \"rdvref_left_vref_final_nibble10\": 0,\n",
      "    \"f0_wrcmplx_left_margin_byte2\": 69,\n",
      "    \"f0_wrdqdbi_deskew_dq_odly_fcrse_bit36\": 99,\n",
      "    \"f1_wrdqdbi_deskew_dq_odly_fcrse_bit08\": 0,\n",
      "    \"f0_rddq_idelay_final_bit43\": 75,\n",
      "    \"f1_rddq_idelay_final_bit22\": 0,\n",
      "    \"f0_rddq_pqtr_left_nibble09\": 18,\n",
      "    \"f0_rdcmplx_nqtr_left_short_nibble02\": 29,\n",
      "    \"f0_rdprbs_pqtr_left_margin_nibble00\": 0,\n",
      "    \"f1_calbisc_rl_dly_qtr_nibble13\": 0,\n",
      "    \"f0_rd_simp_rise_rm_nib_06\": [\n",
      "        74,\n",
      "        150\n",
      "    ],\n",
      "    \"f0_rd_simp_rise_lm_nib_06\": [\n",
      "        73,\n",
      "        148\n",
      "    ],\n",
      "    \"f1_rdcmplx_nqtr_left_short_nibble13\": 0,\n",
      "    \"wrvref_right_vref_def_rank0_byte2\": 0,\n",
      "    \"wrmargin_right_byte5\": 0,\n",
      "    \"cal_error_bit_phy_nibble_16\": 0,\n",
      "    \"cal_warning_59\": 0,\n",
      "    \"f0_rddq_pqtr_right_nibble15\": 155,\n",
      "    \"cal_warning_75\": 0,\n",
      "    \"f1_calbisc_rl_dly_nqtr_nibble03\": 0,\n",
      "    \"f1_wrdqdbi_deskew_dq_odly_fcrse_bit39\": 0,\n",
      "    \"dc1_perf_mon_3\": 0,\n",
      "    \"f0_wrdqdbi_deskew_dbi_odly_fcrse_byte4\": 99,\n",
      "    \"f1_rddq_pqtr_left_nibble11\": 0,\n",
      "    \"f0_wrdqdbi_deskew_dq_odly_bit21\": 94,\n",
      "    \"f0_rdcmplx_pqtr_left_short_nibble07\": 22,\n",
      "    \"f0_wrlvl_crse_stg1_rank0_byte6\": 3,\n",
      "    \"ddrmc_isr_nsu_fatal2\": 0,\n",
      "    \"f0_dqsgate_stg1_overflow_08\": 0,\n",
      "    \"f1_dqsgate_stg2_read_lat_rank0_byte3\": 0,\n",
      "    \"cal_seq_status_25\": 296,\n",
      "    \"cal_stage_time_35\": 0,\n",
      "    \"nsu2_perf_mon_0_2\": 0,\n",
      "    \"f1_wrdqdbi_odly_dqs_final_byte5\": 0,\n",
      "    \"vttrack_rldlyqtr_min_nibble10\": 72,\n",
      "    \"f0_rdcmplx_pqtr_left_short_nibble03\": 21,\n",
      "    \"f0_rddq_pqtr_left_nibble02\": 18,\n",
      "    \"f1_rdcmplx_idelay_offset_nibble03\": 0,\n",
      "    \"f1_rdcmplx_nqtr_left_nibble01\": 0,\n",
      "    \"nsu3_perf_mon_1_2\": 0,\n",
      "    \"cal_error_bit_phy_nibble_12\": 0,\n",
      "    \"f0_rdcmplx_pqtr_left_nibble05\": 24,\n",
      "    \"f1_dqsgate_stg1_overflow_17\": 0,\n",
      "    \"f1_rdcmplx_pqtr_right_short_fcrse_nibble05\": 0,\n",
      "    \"wrvref_left_vref_def_rank0_byte0\": 0,\n",
      "    \"f0_dqsgate_stg1_overflow_59\": 0,\n",
      "    \"ub_clk_17_9\": 2,\n",
      "    \"f0_rdcmplx_nqtr_final_nibble09\": 84,\n",
      "    \"f0_wrcmplx_odly_dbi_final_byte3\": 84,\n",
      "    \"xpi_write_dm_dbi\": 1,\n",
      "    \"vttrack_rldlyqtr_max_nibble14\": 79,\n",
      "    \"f1_wrdqdbi_right_margin_byte3\": 0,\n",
      "    \"f1_wrdqdbi_left_edge_dq_bit21\": 0,\n",
      "    \"f1_rdprbs_nqtr_right_margin_nibble01\": 0,\n",
      "    \"f1_rddq_qtr_deskew_nibble06\": 0,\n",
      "    \"f1_calbisc_rl_dly_nqtr_nibble06\": 0,\n",
      "    \"bisc_idly5_align_nibble04\": 69,\n",
      "    \"f1_rdprbs_nqtr_left_margin_nibble08\": 0,\n",
      "    \"bisc_idly3_align_nibble15\": 78,\n",
      "    \"dqs_gate_running\": 1,\n",
      "    \"f1_dqsgate_read_lat_final_byte1\": 0,\n",
      "    \"f1_wrdqdbi_deskew_dbi_odly_fcrse_byte0\": 0,\n",
      "    \"f1_rddq_nqtr_right_fcrse_nibble08\": 0,\n",
      "    \"f1_rddq_idelay_final_bit35\": 0,\n",
      "    \"f0_rdcmplx_nqtr_left_short_nibble10\": 28,\n",
      "    \"f1_rdprbs_nqtr_left_margin_nibble12\": 0,\n",
      "    \"f0_rddq_idelay_final_bit10\": 69,\n",
      "    \"dqstrack_rldlyrnk_fine_byte4\": 42,\n",
      "    \"f1_wrdqdbi_stg3_dq_odly_bit54\": 0,\n",
      "    \"wrvref_left_vref_upp_bound_rank0_byte7\": 0,\n",
      "    \"f1_rdprbs_nqtr_left_margin_nibble14\": 0,\n",
      "    \"f1_wrdqdbi_left_edge_dq_bit20\": 0,\n",
      "    \"f0_wrdqdbi_stg2_dq_odly_bit51\": 44,\n",
      "    \"cal_warning_63\": 0,\n",
      "    \"f1_dqsgate_stg1_rldlyrnk_crse_rank0_byte7\": 0,\n",
      "    \"ddrmc_isr_nsu_2\": 0,\n",
      "    \"bisc_nqtr_align_nibble00\": 0,\n",
      "    \"f1_wrdqdbi_odly_dbi_final_byte1\": 0,\n",
      "    \"wrmargin_left_byte1\": 0,\n",
      "    \"f1_wrdqdbi_odly_dqs_final_byte6\": 0,\n",
      "    \"f0_wrdqdbi_right_margin_byte5\": 70,\n",
      "    \"f0_rdcmplx_pqtr_right_nibble10\": 151,\n",
      "    \"dqstrack_rldlyrnk_fine_max_byte0\": 5,\n",
      "    \"f1_rddq_pqtr_right_nibble02\": 0,\n",
      "    \"f0_rdcmplx_idelay_offset_nibble00\": 0,\n",
      "    \"f1_mr6_17_9\": 0,\n",
      "    \"f0_rdprbs_pqtr_left_margin_nibble04\": 0,\n",
      "    \"cal_stage_time_15\": 0,\n",
      "    \"f0_rdprbs_pqtr_right_margin_nibble04\": 0,\n",
      "    \"f1_wrdqdbi_stg2_dq_odly_bit53\": 0,\n",
      "    \"f0_rdcmplx_pqtr_right_short_fcrse_nibble04\": 170,\n",
      "    \"f0_rdcmplx_pqtr_right_short_nibble00\": 158,\n",
      "    \"f0_rddq_idelay_final_bit49\": 68,\n",
      "    \"f0_calbisc_rl_dly_nqtr_nibble11\": 76,\n",
      "    \"bisc_mon_align_nibble01\": 0,\n",
      "    \"rdmargin_nqtr_right_nibble13\": 0,\n",
      "    \"f1_dqsgate_stg1_overflow_41\": 0,\n",
      "    \"f1_wrdqdbi_stg1_dqs_delay_byte7\": 0,\n",
      "    \"cal_warning_27\": 0,\n",
      "    \"f0_wrdqdbi_left_edge_dq_bit24\": 73,\n",
      "    \"f0_wrdqdbi_stg3_dq_odly_bit15\": 62,\n",
      "    \"f0_rddq_idelay_final_bit00\": 73,\n",
      "    \"f1_dqsgate_stg2_read_lat_rank0_byte1\": 0,\n",
      "    \"f1_rdcmplx_pqtr_left_short_nibble08\": 0,\n",
      "    \"f0_rd_simp_fall_rm_nib_07\": [\n",
      "        69,\n",
      "        140\n",
      "    ],\n",
      "    \"f1_wrdqdbi_right_margin_fcrse_byte6\": 0,\n",
      "    \"f1_wrdqdbi_left_edge_dq_bit03\": 0,\n",
      "    \"f0_rddq_pqtr_final_nibble01\": 86,\n",
      "    \"f1_wrcmplx_odly_dbi_final_byte3\": 0,\n",
      "    \"f1_wrcmplx_odly_dq_final_bit23\": 0,\n",
      "    \"cal_warning_28\": 0,\n",
      "    \"f0_rdcmplx_idelay_offset_nibble03\": 0,\n",
      "    \"f0_rd_simp_rise_lm_nib_09\": [\n",
      "        73,\n",
      "        150\n",
      "    ],\n",
      "    \"f0_rdcmplx_pqtr_right_nibble15\": 151,\n",
      "    \"f1_rdprbs_nqtr_left_margin_nibble07\": 0,\n",
      "    \"rdvref_vref_upp_bound_nibble09\": 0,\n",
      "    \"f1_rdcmplx_nqtr_right_short_nibble09\": 0,\n",
      "    \"bisc_idly2_align_nibble15\": 76,\n",
      "    \"f1_wrcmplx_odly_dqs_final_byte7\": 0,\n",
      "    \"f0_dqsgate_stg1_read_lat_rank0_byte2\": 24,\n",
      "    \"f1_wrdqdbi_stg5_dqs_odly_byte3\": 0,\n",
      "    \"f0_rd_simp_rise_rm_nib_12\": [\n",
      "        73,\n",
      "        152\n",
      "    ],\n",
      "    \"f1_rdcmplx_pqtr_right_short_fcrse_nibble10\": 0,\n",
      "    \"mgchk_unit\": 0,\n",
      "    \"f0_rd_simp_fall_lm_nib_14\": [\n",
      "        72,\n",
      "        152\n",
      "    ],\n",
      "    \"f0_wrdqdbi_left_edge_dq_bit15\": 59,\n",
      "    \"wrvref_left_vref_final_rank0_byte0\": 0,\n",
      "    \"f1_wrdqdbi_stg2_dqs_odly_byte6\": 0,\n",
      "    \"f0_rdcmplx_pqtr_right_short_nibble01\": 159,\n",
      "    \"f1_rdcmplx_pqtr_right_short_nibble04\": 0,\n",
      "    \"cal_message\": \"No errors detected during calibration.\",\n",
      "    \"nsu3_perf_mon_0_2\": 0,\n",
      "    \"cal_error_phy_nibble_17_9\": 0,\n",
      "    \"wrmargin_right_byte3\": 0,\n",
      "    \"f0_rdcmplx_nqtr_right_nibble14\": 154,\n",
      "    \"rdvref_right_vref_low_bound_nibble14\": 0,\n",
      "    \"f0_rd_comp_fall_rm_nib_04\": [\n",
      "        57,\n",
      "        114\n",
      "    ],\n",
      "    \"bisc_rl_dly_qtr_nibble11\": 75,\n",
      "    \"dqstrack_rldlyrnk_crse_max_byte2\": 5,\n",
      "    \"f0_wrlat_phy_data_nib_final_byte2\": 1,\n",
      "    \"f1_calbisc_rl_dly_nqtr_nibble11\": 0,\n",
      "    \"cal_stage_time_39\": 0,\n",
      "    \"f0_wrdqdbi_odly_dq_final_bit17\": 18,\n",
      "    \"f0_rcd_rc0f\": 0,\n",
      "    \"f0_rdprbs_nqtr_right_margin_nibble04\": 0,\n",
      "    \"f1_dqsgate_stg1_overflow_19\": 0,\n",
      "    \"f1_rddq_nqtr_left_nibble12\": 0,\n",
      "    \"rdvref_left_vref_def_nibble00\": 0,\n",
      "    \"f1_db_f0bc6x\": 0,\n",
      "    \"rdvref_right_vref_final_nibble01\": 0,\n",
      "    \"f0_wrdqdbi_stg3_dq_odly_bit07\": 51,\n",
      "    \"ddrmc_isr_ch1_data_par\": 0,\n",
      "    \"f1_wrdqdbi_deskew_dq_odly_bit23\": 0,\n",
      "    \"f1_rdprbs_pqtr_left_margin_nibble00\": 0,\n",
      "    \"slots\": 1,\n",
      "    \"vttrack_rldlyqtr_nibble08\": 77,\n",
      "    \"f1_rdprbs_pqtr_right_margin_nibble10\": 0,\n",
      "    \"f0_wrlvl_noise_fcrse_rank0_byte4\": 35,\n",
      "    \"bisc_nqtr_align_nibble10\": 0,\n",
      "    \"f0_rdcmplx_pqtr_final_nibble13\": 90,\n",
      "    \"cal_error_bit_phy_nibble_24\": 0,\n",
      "    \"f0_wrdqdbi_deskew_dq_odly_fcrse_bit35\": 89,\n",
      "    \"f0_rddq_pqtr_final_nibble05\": 90,\n",
      "    \"f1_dqsgate_stg1_read_lat_rank0_byte1\": 0,\n",
      "    \"xpi_read_offset_phy_rden\": 5,\n",
      "    \"rdvref_right_vref_def_nibble06\": 0,\n",
      "    \"f0_wrdqdbi_stg1_bit_status_byte7\": 0,\n",
      "    \"bisc_idly5_align_nibble03\": 78,\n",
      "    \"f0_wrdqdbi_deskew_dq_odly_bit36\": 108,\n",
      "    \"iobmap_dq_15_14\": 0,\n",
      "    \"f1_wrdqdbi_deskew_dq_odly_fcrse_bit05\": 0,\n",
      "    \"lp4_dqs_osc_track_en\": 0,\n",
      "    \"f0_rddq_qtr_deskew_nibble06\": 1,\n",
      "    \"f0_wrcmplx_right_margin_fcrse_byte2\": 50,\n",
      "    \"wrvref_vref_final_rank0_byte3\": 0,\n",
      "    \"f1_rdcmplx_nqtr_right_short_fcrse_nibble12\": 0,\n",
      "    \"f0_rdcmplx_nqtr_left_short_nibble00\": 24,\n",
      "    \"rdmargin_pqtr_right_nibble02\": 0,\n",
      "    \"0x0c_F0_WRITE_LEVELING\": \"Pass\",\n",
      "    \"f1_rdcmplx_nqtr_right_nibble04\": 0,\n",
      "    \"f0_wrdqdbi_stg1_byte_status_01\": 511,\n",
      "    \"rdvref_left_vref_final_nibble06\": 0,\n",
      "    \"f0_wrdqdbi_left_edge_dq_bit41\": 53,\n",
      "    \"f1_calbisc_rl_dly_nqtr_nibble05\": 0,\n",
      "    \"f0_wr_comp_ctp_byte_05\": [\n",
      "        300,\n",
      "        614\n",
      "    ],\n",
      "    \"cal_pre_status_8_0\": 255,\n",
      "    \"phy_oe_nib8_dly\": 0,\n",
      "    \"f1_wrlvl_crse_final_rank0_byte3\": 0,\n",
      "    \"f1_wrcmplx_odly_dq_final_bit07\": 0,\n",
      "    \"cal_stage_time_29\": 0,\n",
      "    \"f0_wrdqdbi_right_edge_dqs_byte2\": 99,\n",
      "    \"f0_wrlvl_fine_left_rank0_byte5\": 53,\n",
      "    \"f0_wrdqdbi_odly_dq_final_bit52\": 48,\n",
      "    \"bisc_idly0_align_nibble14\": 68,\n",
      "    \"wrmargin_left_byte3\": 0,\n",
      "    \"wrvref_vref_final_rank0_byte4\": 0,\n",
      "    \"f1_wrcmplx_odly_dq_final_bit01\": 0,\n",
      "    \"rdmargin_nqtr_left_nibble05\": 0,\n",
      "    \"f0_wrdqdbi_right_edge_dqs_byte7\": 136,\n",
      "    \"dqstrack_rldlyrnk_crse_min_byte1\": 4,\n",
      "    \"cal_warning_47\": 0,\n",
      "    \"f1_rddq_idelay_final_bit03\": 0,\n",
      "    \"f1_rddq_nqtr_right_fcrse_nibble04\": 0,\n",
      "    \"f0_rdprbs_nqtr_right_margin_nibble06\": 0,\n",
      "    \"f0_wrdqdbi_stg2_dq_odly_bit55\": 44,\n",
      "    \"f1_rdcmplx_nqtr_final_nibble02\": 0,\n",
      "    \"f1_wrlat_phy_data_nib_final_byte6\": 0,\n",
      "    \"f0_ps_factor\": 2.0557691693845066,\n",
      "    \"f0_wrdqdbi_stg2_dq_odly_bit03\": 51,\n",
      "    \"nsu3_perf_mon_ctl_0_1\": 0,\n",
      "    \"f0_calbisc_rl_dly_qtr_nibble12\": 75,\n",
      "    \"f1_wrdqdbi_deskew_dbi_odly_fcrse_byte4\": 0,\n",
      "    \"rdmargin_pqtr_left_nibble08\": 0,\n",
      "    \"rdvref_right_vref_final_nibble14\": 0,\n",
      "    \"f1_rdprbs_nqtr_right_margin_nibble10\": 0,\n",
      "    \"bisc_mon_align_nibble09\": 0,\n",
      "    \"rdvref_right_vref_final_nibble06\": 0,\n",
      "    \"rdvref_right_vref_upp_bound_nibble10\": 0,\n",
      "    \"f1_dqsgate_stg1_overflow_01\": 0,\n",
      "    \"cal_stage_time_17\": 132,\n",
      "    \"f0_rdcmplx_nqtr_left_nibble13\": 28,\n",
      "    \"f0_wrdqdbi_odly_dq_final_bit31\": 92,\n",
      "    \"rdmargin_pqtr_left_nibble13\": 0,\n",
      "    \"f0_wr_comp_lm_byte_03\": [\n",
      "        72,\n",
      "        148\n",
      "    ],\n",
      "    \"wrvref_left_vref_final_rank0_byte3\": 0,\n",
      "    \"f1_wrdqdbi_stg3_dq_odly_bit49\": 0,\n",
      "    \"f1_wrdqdbi_deskew_dq_odly_bit60\": 0,\n",
      "    \"f1_rddq_pqtr_final_nibble13\": 0,\n",
      "    \"f1_rdcmplx_pqtr_right_nibble06\": 0,\n",
      "    \"f0_calbisc_rl_dly_qtr_nibble11\": 75,\n",
      "    \"f1_rddq_nqtr_left_nibble03\": 0,\n",
      "    \"f1_calbisc_rl_dly_nqtr_nibble07\": 0,\n",
      "    \"f0_wrcmplx_right_margin_byte5\": 61,\n",
      "    \"f0_wrdqdbi_stg2_dq_odly_bit14\": 62,\n",
      "    \"f1_rdcmplx_nqtr_right_short_fcrse_nibble10\": 0,\n",
      "    \"f0_wrcmplx_odly_dq_final_bit45\": 61,\n",
      "    \"f1_wrdqdbi_stg1_dqs_delay_byte0\": 0,\n",
      "    \"f1_calbisc_rl_dly_nqtr_nibble02\": 0,\n",
      "    \"f0_wrdqdbi_deskew_dq_odly_bit48\": 122,\n",
      "    \"f1_dqsgate_stg1_overflow_54\": 0,\n",
      "    \"f1_add_cmd_dly\": 0,\n",
      "    \"f0_dqsgate_stg2_rldlyrnk_crse_rank0_byte5\": 2,\n",
      "    \"f1_wrcmplx_odly_dq_final_bit27\": 0,\n",
      "    \"bisc_pqtr_nibble03\": 77,\n",
      "    \"f0_wrdqdbi_left_margin_byte6\": 74,\n",
      "    \"f0_wr_comp_ctp_byte_07\": [\n",
      "        299,\n",
      "        623\n",
      "    ],\n",
      "    \"bisc_nqtr_nibble13\": 77,\n",
      "    \"rdvref_right_vref_upp_bound_nibble12\": 0,\n",
      "    \"f1_wrdqdbi_stg3_dq_odly_bit11\": 0,\n",
      "    \"f0_wr_simp_lm_byte_02\": [\n",
      "        80,\n",
      "        165\n",
      "    ],\n",
      "    \"ddrmc_isr_dc_cmd1_fatal\": 0,\n",
      "    \"cal_stage_time_16\": 0,\n",
      "    \"bisc_idly1_align_nibble13\": 76,\n",
      "    \"f0_wrdqdbi_stg2_dq_odly_bit01\": 51,\n",
      "    \"f1_wrlat_init_latency\": 0,\n",
      "    \"cal_error_bit_phy_nibble_01\": 0,\n",
      "    \"cal_warning_01\": 0,\n",
      "    \"f0_xpll_divclk_ht\": 1,\n",
      "    \"f1_wrdqdbi_stg3_dq_odly_bit07\": 0,\n",
      "    \"cal_warning_53\": 0,\n",
      "    \"isr_change_count\": 0,\n",
      "    \"f0_rdcmplx_pqtr_left_nibble07\": 24,\n",
      "    \"cal_seq_status_40\": 445,\n",
      "    \"f0_wrdqdbi_left_edge_dq_bit45\": 52,\n",
      "    \"f1_wrdqdbi_odly_dq_final_bit61\": 0,\n",
      "    \"f1_wrcmplx_odly_dbi_final_byte2\": 0,\n",
      "    \"f1_wrprbs_right_margin_byte2\": 0,\n",
      "    \"rdmargin_pqtr_left_nibble03\": 0,\n",
      "    \"rdmargin_nqtr_right_nibble06\": 0,\n",
      "    \"f0_wrdqdbi_odly_dq_final_bit47\": 55,\n",
      "    \"f0_calbisc_rl_dly_pqtr_nibble13\": 76,\n",
      "    \"f1_rdprbs_nqtr_right_margin_nibble14\": 0,\n",
      "    \"cal_stage_time_11\": 71,\n",
      "    \"f1_wrcmplx_odly_dq_final_bit56\": 0,\n",
      "    \"cal_seq_status_16\": 274,\n",
      "    \"f0_wr_comp_lm_byte_01\": [\n",
      "        70,\n",
      "        142\n",
      "    ],\n",
      "    \"f0_wrdqdbi_stg2_dq_odly_bit45\": 55,\n",
      "    \"f0_wrdqdbi_stg6_dbi_odly_byte4\": 29,\n",
      "    \"f1_calbisc_rl_dly_qtr_nibble08\": 0,\n",
      "    \"bisc_idly5_align_nibble09\": 78,\n",
      "    \"f1_wrdqdbi_stg3_dq_odly_bit15\": 0,\n",
      "    \"f0_wrdqdbi_left_edge_dq_bit07\": 52,\n",
      "    \"f1_rdprbs_pqtr_right_margin_nibble15\": 0,\n",
      "    \"bisc_nqtr_align_nibble07\": 1,\n",
      "    \"cal_seq_status_23\": 294,\n",
      "    \"f1_mr3_17_9\": 0,\n",
      "    \"bisc_pqtr_align_nibble13\": 0,\n",
      "    \"f0_wrlvl_offset_rank0_byte0\": 78,\n",
      "    \"f0_rd_simp_rise_ctp_nib_05\": [\n",
      "        90,\n",
      "        190\n",
      "    ],\n",
      "    \"f0_wrdqdbi_odly_dq_final_bit26\": 78,\n",
      "    \"f1_wrdqdbi_left_edge_dq_bit42\": 0,\n",
      "    \"f1_wrdqdbi_odly_dq_final_bit12\": 0,\n",
      "    \"f0_wrdqdbi_odly_dq_final_bit04\": 54,\n",
      "    \"rdvref_left_vref_low_bound_nibble02\": 0,\n",
      "    \"f0_rddq_pqtr_left_nibble00\": 18,\n",
      "    \"f0_wrdqdbi_left_edge_dbi_byte7\": 58,\n",
      "    \"f1_wrcmplx_odly_dq_final_bit43\": 0,\n",
      "    \"f1_wrprbs_right_margin_byte4\": 0,\n",
      "    \"bisc_idly2_align_nibble11\": 76,\n",
      "    \"wrvref_vref_upp_bound_rank0_byte0\": 0,\n",
      "    \"f0_wrlat_wldlyrnk_crse_final_rank0_byte0\": 2,\n",
      "    \"nsu3_perf_mon_0_0\": 0,\n",
      "    \"cal_error_bit_phy_nibble_18\": 0,\n",
      "    \"dqstrack_rldlyrnk_crse_min_byte4\": 5,\n",
      "    \"ub_instr_ce\": 0,\n",
      "    \"f1_wrdqdbi_stg2_dq_odly_bit54\": 0,\n",
      "    \"wrvref_right_vref_low_bound_rank0_byte2\": 0,\n",
      "    \"f1_wrdqdbi_stg3_dq_odly_bit46\": 0,\n",
      "    \"f0_rddq_qtr_deskew_nibble05\": 1,\n",
      "    \"c_code_minor_ver\": 1,\n",
      "    \"f0_wrdqdbi_stg2_dq_odly_bit13\": 62,\n",
      "    \"f1_dqsgate_stg1_read_lat_rank0_byte3\": 0,\n",
      "    \"cal_error\": 0,\n",
      "    \"0x0e_F0_WRITE_LATENCY_CAL\": \"Pass\",\n",
      "    \"f1_rddq_pqtr_right_nibble11\": 0,\n",
      "    \"f0_wrdqdbi_stg3_dq_odly_bit42\": 55,\n",
      "    \"f1_rddq_idelay_final_bit10\": 0,\n",
      "    \"wrvref_left_vref_upp_bound_rank0_byte5\": 0,\n",
      "    \"f0_wrdqdbi_left_edge_dq_bit43\": 56,\n",
      "    \"f1_wrdqdbi_left_edge_dq_bit19\": 0,\n",
      "    \"eye_scan_status\": \"NOT RUNNING\",\n",
      "    \"f0_rdcmplx_pqtr_right_short_nibble04\": 170,\n",
      "    \"f0_wrdqdbi_deskew_dq_odly_bit56\": 141,\n",
      "    \"alert_parity_ch1_error\": 0,\n",
      "    \"f0_wrdqdbi_odly_dq_final_bit40\": 68,\n",
      "    \"f1_wrcmplx_left_margin_fcrse_byte7\": 0,\n",
      "    \"f1_rdcmplx_pqtr_left_nibble12\": 0,\n",
      "    \"f0_wrlvl_offset_rank0_byte3\": 78,\n",
      "    \"cal_stage_time_49\": 0,\n",
      "    \"f0_rddq_pqtr_right_nibble11\": 165,\n",
      "    \"f0_rd_comp_fall_rm_nib_03\": [\n",
      "        57,\n",
      "        117\n",
      "    ],\n",
      "    \"f0_db_f0bc6x\": 0,\n",
      "    \"nsu1_perf_mon_ctl_0_1\": 0,\n",
      "    \"f1_mr0_8_0\": 0,\n",
      "    \"f0_rddq_qtr_deskew_nibble11\": 1,\n",
      "    \"f0_wrdqdbi_stg1_dqs_delay_byte1\": 78,\n",
      "    \"vttrack_rldlyqtr_min_nibble03\": 73,\n",
      "    \"rdvref_left_vref_low_bound_nibble06\": 0,\n",
      "    \"wrvref_left_vref_final_rank0_byte5\": 0,\n",
      "    \"f0_rdcmplx_nqtr_right_short_nibble00\": 168,\n",
      "    \"f1_wrdqdbi_stg2_dq_odly_bit24\": 0,\n",
      "    \"f0_dqsgate_read_lat_final_byte1\": 26,\n",
      "    \"f0_dqsgate_stg1_overflow_47\": 0,\n",
      "    \"f0_wrdqdbi_left_edge_dq_bit48\": 48,\n",
      "    \"f0_wrdqdbi_stg2_dq_odly_bit12\": 62,\n",
      "    \"f1_rdcmplx_idelay_offset_nibble06\": 0,\n",
      "    \"f1_rddq_nqtr_final_nibble05\": 0,\n",
      "    \"xpi_oe\": 258,\n",
      "    \"f1_wrdqdbi_left_edge_dq_bit38\": 0,\n",
      "    \"bisc_mon_align_nibble03\": 0,\n",
      "    \"f0_calbisc_rl_dly_nqtr_nibble06\": 76,\n",
      "    \"f1_rdcmplx_idelay_offset_nibble13\": 0,\n",
      "    \"nsu1_perf_mon_ctl_1_0\": 0,\n",
      "    \"cal_stage_time_51\": 0,\n",
      "    \"cal_warning_78\": 0,\n",
      "    \"nsu2_perf_mon_ctl_1_0\": 0,\n",
      "    \"f0_mr5_rtt_park\": 0,\n",
      "    \"f0_wrdqdbi_stg3_dq_odly_bit33\": 29,\n",
      "    \"phy_oe_nib9_dly\": 0,\n",
      "    \"f1_wrcmplx_odly_dq_final_bit55\": 0,\n",
      "    \"wrvref_right_vref_upp_bound_rank0_byte3\": 0,\n",
      "    \"f0_rddq_pqtr_right_fcrse_nibble13\": 173,\n",
      "    \"f0_rddq_pqtr_left_nibble11\": 18,\n",
      "    \"f1_wrcmplx_odly_dq_final_bit54\": 0,\n",
      "    \"rdvref_vref_final_nibble11\": 0,\n",
      "    \"f1_wrdqdbi_deskew_dq_odly_fcrse_bit60\": 0,\n",
      "    \"f0_wrdqdbi_left_edge_dq_bit35\": 21,\n",
      "    \"f0_rddq_idelay_final_bit07\": 83,\n",
      "    \"rdvref_left_vref_low_bound_nibble12\": 0,\n",
      "    \"f0_wrcmplx_odly_dq_final_bit02\": 58,\n",
      "    \"wrmargin_left_byte7\": 0,\n",
      "    \"bits_per_byte\": 8,\n",
      "    \"f0_wrdqdbi_right_edge_dqs_byte5\": 141,\n",
      "    \"f0_wrcmplx_left_margin_fcrse_byte7\": 60,\n",
      "    \"f1_rddq_pqtr_right_nibble08\": 0,\n",
      "    \"f1_rddq_pqtr_final_nibble02\": 0,\n",
      "    \"f0_wrdqdbi_odly_dq_final_bit23\": 29,\n",
      "    \"f1_wrdqdbi_stg3_dq_odly_bit29\": 0,\n",
      "    \"f1_wrdqdbi_deskew_dq_odly_bit47\": 0,\n",
      "    \"f1_wrdqdbi_right_edge_dqs_byte6\": 0,\n",
      "    \"f1_rdcmplx_idelay_offset_nibble09\": 0,\n",
      "    \"f1_rdcmplx_pqtr_left_short_nibble15\": 0,\n",
      "    \"f1_rddq_qtr_deskew_nibble15\": 0,\n",
      "    \"f0_wrdqdbi_stg2_dq_odly_bit50\": 44,\n",
      "    \"cal_stage_time_36\": 0,\n",
      "    \"cal_warning_36\": 0,\n",
      "    \"rdmargin_nqtr_left_nibble00\": 0,\n",
      "    \"rdvref_right_vref_low_bound_nibble07\": 0,\n",
      "    \"f1_rdcmplx_nqtr_final_nibble05\": 0,\n",
      "    \"f1_wrdqdbi_left_edge_dq_bit11\": 0,\n",
      "    \"dc1_perf_mon\": 62,\n",
      "    \"f0_rd_simp_fall_ctp_nib_02\": [\n",
      "        96,\n",
      "        195\n",
      "    ],\n",
      "    \"cal_error_bit_phy_nibble_05\": 0,\n",
      "    \"f0_calbisc_rl_dly_pqtr_nibble01\": 75,\n",
      "    \"f0_wrdqdbi_stg3_dq_odly_bit56\": 58,\n",
      "    \"f0_wrdqdbi_odly_dqs_final_byte5\": 71,\n",
      "    \"f0_rdcmplx_nqtr_right_short_fcrse_nibble08\": 172,\n",
      "    \"f0_calbisc_rl_dly_qtr_nibble00\": 76,\n",
      "    \"f1_wrlvl_offset_rank0_byte0\": 0,\n",
      "    \"f0_wrdqdbi_stg3_dq_odly_bit29\": 78,\n",
      "    \"f1_wrdqdbi_stg2_dq_odly_bit63\": 0,\n",
      "    \"f1_wrdqdbi_right_edge_dqs_byte5\": 0,\n",
      "    \"f1_rddq_nqtr_left_nibble08\": 0,\n",
      "    \"nsu1_perf_mon_1_0\": 0,\n",
      "    \"f0_wrcmplx_odly_dbi_final_byte0\": 64,\n",
      "    \"f0_wrdqdbi_stg3_dq_odly_bit40\": 55,\n",
      "    \"mgchk_ack\": 0,\n",
      "    \"xpi_oe_all_nib_dly\": 16,\n",
      "    \"f1_rdcmplx_pqtr_final_nibble03\": 0,\n",
      "    \"cal_error_sub_stage\": 0,\n",
      "    \"f0_wrdqdbi_stg2_dq_odly_bit37\": 29,\n",
      "    \"rdvref_right_vref_def_nibble10\": 0,\n",
      "    \"bisc_idly1_align_nibble11\": 78,\n",
      "    \"f0_wrcmplx_left_margin_fcrse_byte0\": 70,\n",
      "    \"f1_dqsgate_stg1_overflow_45\": 0,\n",
      "    \"cal_stage_time_32\": 0,\n",
      "    \"f1_wrlvl_fine_final_rank0_byte5\": 0,\n",
      "    \"f0_rd_simp_rise_rm_nib_10\": [\n",
      "        73,\n",
      "        150\n",
      "    ],\n",
      "    \"f1_wrdqdbi_left_edge_dq_bit06\": 0,\n",
      "    \"f1_wrdqdbi_left_edge_dq_bit09\": 0,\n",
      "    \"cal_post_status_05\": 0,\n",
      "    \"f1_rddq_nqtr_right_fcrse_nibble09\": 0,\n",
      "    \"f1_rddq_idelay_final_bit19\": 0,\n",
      "    \"mgchk_enable_status\": 0,\n",
      "    \"f0_wrdqdbi_stg4_dqs_delay_byte0\": 14,\n",
      "    \"f1_rdcmplx_pqtr_right_short_nibble00\": 0,\n",
      "    \"rdvref_vref_upp_bound_nibble06\": 0,\n",
      "    \"f1_wrdqdbi_stg3_dq_odly_bit12\": 0,\n",
      "    \"nsu3_perf_mon_1_0\": 0,\n",
      "    \"f1_rdcmplx_idelay_offset_nibble05\": 0,\n",
      "    \"rdvref_right_vref_upp_bound_nibble09\": 0,\n",
      "    \"cal_seq_status_14\": 272,\n",
      "    \"f0_wr_simp_lm_byte_07\": [\n",
      "        76,\n",
      "        158\n",
      "    ],\n",
      "    \"f0_wrdqdbi_right_margin_byte2\": 64,\n",
      "    \"f0_dqsgate_stg1_overflow_10\": 0,\n",
      "    \"f1_rddq_pqtr_right_nibble06\": 0,\n",
      "    \"f1_rdcmplx_nqtr_left_short_nibble12\": 0,\n",
      "    \"f0_wrdqdbi_deskew_dq_odly_fcrse_bit30\": 148,\n",
      "    \"f0_rddq_idelay_final_bit53\": 85,\n",
      "    \"f0_rd_comp_fall_lm_nib_11\": [\n",
      "        58,\n",
      "        119\n",
      "    ],\n",
      "    \"f0_rd_comp_rise_rm_nib_00\": [\n",
      "        66,\n",
      "        132\n",
      "    ],\n",
      "    \"rdvref_left_vref_def_nibble14\": 0,\n",
      "    \"vttrack_rldlyqtr_min_nibble00\": 74,\n",
      "    \"f1_wrdqdbi_stg3_dq_odly_bit52\": 0,\n",
      "    \"f1_wrdqdbi_deskew_dq_odly_bit13\": 0,\n",
      "    \"f0_wrdqdbi_deskew_dq_odly_fcrse_bit23\": 99,\n",
      "    \"f0_wrcmplx_odly_dq_final_bit24\": 79,\n",
      "    \"f0_rdcmplx_pqtr_left_short_nibble05\": 22,\n",
      "    \"f1_wrdqdbi_stg2_dq_odly_bit42\": 0,\n",
      "    \"bisc_pqtr_nibble08\": 79,\n",
      "    \"f1_rdcmplx_idelay_offset_nibble11\": 0,\n",
      "    \"f0_rdcmplx_nqtr_right_nibble11\": 146,\n",
      "    \"f0_dqsgate_stg2_rldlyrnk_crse_rank0_byte6\": 3,\n",
      "    \"f0_rddq_idelay_final_bit03\": 78,\n",
      "    \"f0_rd_comp_fall_rm_nib_07\": [\n",
      "        57,\n",
      "        115\n",
      "    ],\n",
      "    \"f1_rdcmplx_idelay_offset_nibble12\": 0,\n",
      "    \"f1_wrlat_phy_oe_nib_final_byte2\": 0,\n",
      "    \"f1_rcd_rc3x\": 0,\n",
      "    \"f0_rdprbs_pqtr_right_margin_nibble05\": 0,\n",
      "    \"f1_wrprbs_left_margin_byte4\": 0,\n",
      "    \"f0_rddq_pqtr_final_nibble06\": 91,\n",
      "    \"wrvref_vref_low_bound_rank0_byte0\": 0,\n",
      "    \"phy_rden8_dly\": 22,\n",
      "    \"vttrack_rldlyqtr_max_nibble10\": 79,\n",
      "    \"vttrack_rldlyqtr_nibble14\": 76,\n",
      "    \"iobmap_dqs_7\": 0,\n",
      "    \"f0_wrdqdbi_odly_dq_final_bit05\": 63,\n",
      "    \"f0_dqsgate_stg1_overflow_34\": 0,\n",
      "    \"rdvref_right_vref_final_nibble15\": 0,\n",
      "    \"f0_wrdqdbi_stg3_dq_odly_bit00\": 51,\n",
      "    \"f0_rd_simp_fall_rm_nib_01\": [\n",
      "        73,\n",
      "        154\n",
      "    ],\n",
      "    \"bisc_idly0_align_nibble06\": 66,\n",
      "    \"rdvref_left_vref_final_nibble12\": 0,\n",
      "    \"f0_wrdqdbi_stg2_dqs_odly_byte6\": 60,\n",
      "    \"cal_stage_time_31\": 0,\n",
      "    \"bisc_idly3_align_nibble01\": 77,\n",
      "    \"f1_wrdqdbi_stg3_dq_odly_bit34\": 0,\n",
      "    \"f0_wrdqdbi_stg3_dq_odly_bit26\": 78,\n",
      "    \"f1_wrdqdbi_deskew_dq_odly_bit01\": 0,\n",
      "    \"f1_rddq_nqtr_right_fcrse_nibble02\": 0,\n",
      "    \"f0_wrlvl_crse_stg1_rank0_byte5\": 3,\n",
      "    \"f0_rddq_nqtr_left_nibble13\": 25,\n",
      "    \"bisc_pqtr_align_nibble01\": 0,\n",
      "    \"f0_wrdqdbi_deskew_dq_odly_fcrse_bit18\": 99,\n",
      "    \"f0_wrdqdbi_deskew_dq_odly_bit29\": 159,\n",
      "    \"f0_wrdqdbi_deskew_dq_odly_fcrse_bit29\": 148,\n",
      "    \"f0_mr6_8_0\": 28,\n",
      "    \"f1_wrdqdbi_deskew_dq_odly_fcrse_bit34\": 0,\n",
      "    \"cal_warning_70\": 0,\n",
      "    \"f0_dqsgate_stg1_rldlyrnk_fine_rank0_byte2\": 43,\n",
      "    \"f0_wrdqdbi_stg3_dq_odly_bit09\": 62,\n",
      "    \"vttrack_rldlyqtr_nibble04\": 76,\n",
      "    \"f0_wrdqdbi_stg5_dqs_odly_byte0\": 67,\n",
      "    \"f1_wrlvl_crse_final_rank0_byte7\": 0,\n",
      "    \"f1_wrdqdbi_stg2_dq_odly_bit43\": 0,\n",
      "    \"f1_wrlat_wldlyrnk_crse_final_rank0_byte3\": 0,\n",
      "    \"f0_wrdqdbi_deskew_dq_odly_bit14\": 137,\n",
      "    \"bisc_idly4_align_nibble05\": 76,\n",
      "    \"f0_rdcmplx_nqtr_right_short_nibble09\": 166,\n",
      "    \"f0_dqsgate_read_lat_final_byte5\": 27,\n",
      "    \"cal_seq_status_36\": 307,\n",
      "    \"f0_mr4_8_0\": 0,\n",
      "    \"vttrack_rldlyqtr_min_nibble06\": 73,\n",
      "    \"f0_wrdqdbi_deskew_dq_odly_bit25\": 149,\n",
      "    \"f1_rdcmplx_pqtr_left_nibble03\": 0,\n",
      "    \"f0_rd_simp_fall_ctp_nib_08\": [\n",
      "        94,\n",
      "        193\n",
      "    ],\n",
      "    \"nsu0_perf_mon_ctl_1_1\": 0,\n",
      "    \"f0_wrdqdbi_odly_dqs_final_byte7\": 74,\n",
      "    \"f1_wrdqdbi_stg3_dq_odly_bit03\": 0,\n",
      "    \"f1_wrcmplx_odly_dq_final_bit25\": 0,\n",
      "    \"f0_wrdqdbi_stg3_dq_odly_bit63\": 58,\n",
      "    \"dqstrack_rldlyrnk_crse_byte0\": 4,\n",
      "    \"f1_dqsgate_stg1_overflow_53\": 0,\n",
      "    \"rdvref_vref_upp_bound_nibble15\": 0,\n",
      "    \"f0_xpll_clkoutfb_lt\": 16,\n",
      "    \"cal_stage_time_56\": 0,\n",
      "    \"bisc_pqtr_nibble07\": 76,\n",
      "    \"f1_wrdqdbi_left_margin_byte5\": 0,\n",
      "    \"f0_rd_simp_fall_ctp_nib_07\": [\n",
      "        95,\n",
      "        193\n",
      "    ],\n",
      "    \"f0_wrdqdbi_deskew_dq_odly_fcrse_bit60\": 128,\n",
      "    \"f0_wrcmplx_odly_dbi_final_byte2\": 32,\n",
      "    \"f0_wrdqdbi_left_edge_dq_bit31\": 92,\n",
      "    \"f1_dqsgate_rldlyrnk_crse_final_rank0_byte4\": 0,\n",
      "    \"iobmap_dqs_8\": 0,\n",
      "    \"f0_rdcmplx_pqtr_final_nibble07\": 87,\n",
      "    \"f1_rdcmplx_nqtr_right_short_nibble02\": 0,\n",
      "    \"wrvref_right_vref_low_bound_rank0_byte7\": 0,\n",
      "    \"f0_wrdqdbi_deskew_dq_odly_fcrse_bit46\": 135,\n",
      "    \"bisc_pqtr_align_nibble15\": 0,\n",
      "    \"f1_wrdqdbi_left_edge_dq_bit13\": 0,\n",
      "    \"f0_rdcmplx_nqtr_right_nibble08\": 141,\n",
      "    \"f1_dqsgate_stg1_overflow_25\": 0,\n",
      "    \"f0_rd_simp_rise_lm_nib_05\": [\n",
      "        72,\n",
      "        152\n",
      "    ],\n",
      "    \"rdmargin_nqtr_left_nibble10\": 0,\n",
      "    \"f0_wrlat_phy_oe_nib_final_byte1\": 1,\n",
      "    \"f0_wr_simp_ctp_byte_00\": [\n",
      "        217,\n",
      "        452\n",
      "    ],\n",
      "    \"f1_wrdqdbi_stg2_dq_odly_bit06\": 0,\n",
      "    \"f1_wrlvl_offset_rank0_byte7\": 0,\n",
      "    \"f0_wrlvl_offset_rank0_byte6\": 78,\n",
      "    \"f1_wrdqdbi_odly_dq_final_bit49\": 0,\n",
      "    \"f0_wrdqdbi_deskew_dq_odly_fcrse_bit53\": 124,\n",
      "    \"f0_calbisc_rl_dly_pqtr_nibble11\": 74,\n",
      "    \"f0_wrcmplx_odly_dq_final_bit34\": 34,\n",
      "    \"f1_rdcmplx_idelay_offset_nibble10\": 0,\n",
      "    \"wrvref_vref_low_bound_rank0_byte6\": 0,\n",
      "    \"f0_wr_comp_rm_byte_00\": [\n",
      "        57,\n",
      "        118\n",
      "    ],\n",
      "    \"f0_wrdqdbi_stg3_dq_odly_bit35\": 29,\n",
      "    \"cal_pointer\": 447,\n",
      "    \"f1_rdcmplx_pqtr_left_nibble06\": 0,\n",
      "    \"f0_rdcmplx_nqtr_right_short_fcrse_nibble05\": 167,\n",
      "    \"f0_rdcmplx_pqtr_right_short_fcrse_nibble01\": 168,\n",
      "    \"f1_rddq_idelay_final_bit43\": 0,\n",
      "    \"f1_rdcmplx_nqtr_right_nibble07\": 0,\n",
      "    \"dqstrack_rldlyrnk_crse_max_byte3\": 2,\n",
      "    \"f1_wrdqdbi_odly_dqs_final_byte3\": 0,\n",
      "    \"f1_wrdqdbi_stg1_bit_status_byte4\": 0,\n",
      "    \"bisc_idly4_align_nibble00\": 71,\n",
      "    \"f0_dqsgate_stg1_overflow_23\": 0,\n",
      "    \"f0_wrcmplx_odly_dq_final_bit23\": 34,\n",
      "    \"f0_rd_comp_rise_lm_nib_01\": [\n",
      "        65,\n",
      "        135\n",
      "    ],\n",
      "    \"dqstrack_rldlyrnk_fine_byte1\": 69,\n",
      "    \"cal_error_phy_nibble_26_18\": 0,\n",
      "    \"f0_rddq_idelay_final_bit46\": 83,\n",
      "    \"f1_wrdqdbi_left_edge_dq_bit39\": 0,\n",
      "    \"f0_rd_comp_rise_ctp_nib_12\": [\n",
      "        86,\n",
      "        179\n",
      "    ],\n",
      "    \"f1_calbisc_rl_dly_pqtr_nibble11\": 0,\n",
      "    \"f1_mr4_17_9\": 0,\n",
      "    \"dqstrack_rldlyrnk_fine_byte7\": 36,\n",
      "    \"f0_wrdqdbi_odly_dq_final_bit63\": 65,\n",
      "    \"f1_rdprbs_pqtr_right_margin_nibble09\": 0,\n",
      "    \"nsu1_perf_mon_1_1\": 0,\n",
      "    \"f1_wrlvl_fine_right_rank0_byte0\": 0,\n",
      "    \"f0_rdcmplx_nqtr_left_nibble02\": 30,\n",
      "    \"iobmap_dq_1_0\": 0,\n",
      "    \"iobmap_dq_33_32\": 0,\n",
      "    \"bisc_mon_align_nibble02\": 0,\n",
      "    \"f0_wrdqdbi_left_edge_dbi_byte4\": 29,\n",
      "    \"f0_wrcmplx_odly_dq_final_bit08\": 68,\n",
      "    \"f1_rdprbs_nqtr_left_margin_nibble13\": 0,\n",
      "    \"dqstrack_rldlyrnk_crse_byte6\": 3,\n",
      "    \"f1_wrdqdbi_left_edge_dq_bit35\": 0,\n",
      "    \"rdmargin_pqtr_right_nibble11\": 0,\n",
      "    \"f0_rd_comp_rise_rm_nib_15\": [\n",
      "        65,\n",
      "        133\n",
      "    ],\n",
      "    \"f0_rd_comp_rise_lm_nib_04\": [\n",
      "        62,\n",
      "        127\n",
      "    ],\n",
      "    \"f0_wrlat_xpi_oe_all_final\": 16,\n",
      "    \"phy_oe_nib18_dly\": 0,\n",
      "    \"f0_wrdqdbi_odly_dq_final_bit54\": 50,\n",
      "    \"f0_rdcmplx_pqtr_right_nibble03\": 153,\n",
      "    \"wrvref_right_vref_low_bound_rank0_byte0\": 0,\n",
      "    \"es_data_need_update\": 0,\n",
      "    \"wrvref_vref_low_bound_rank0_byte2\": 0,\n",
      "    \"f1_rdcmplx_pqtr_left_short_nibble01\": 0,\n",
      "    \"f0_wrlvl_fine_right_rank0_byte5\": 58,\n",
      "    \"cal_warning_14\": 0,\n",
      "    \"f0_dqsgate_stg2_read_lat_rank0_byte2\": 26,\n",
      "    \"f0_wrdqdbi_deskew_dq_odly_bit47\": 129,\n",
      "    \"f0_wrcmplx_odly_dq_final_bit01\": 61,\n",
      "    \"rdvref_vref_low_bound_nibble04\": 0,\n",
      "    \"f0_wr_simp_ctp_byte_04\": [\n",
      "        273,\n",
      "        561\n",
      "    ],\n",
      "    \"f0_wrdqdbi_deskew_dq_odly_fcrse_bit02\": 121,\n",
      "    \"f1_wrdqdbi_deskew_dq_odly_bit09\": 0,\n",
      "    \"mgchk_rd_vref_1\": 0,\n",
      "    \"f1_rdprbs_nqtr_left_margin_nibble01\": 0,\n",
      "    \"f0_rddq_nqtr_right_fcrse_nibble02\": 174,\n",
      "    \"f0_rd_simp_rise_rm_nib_04\": [\n",
      "        74,\n",
      "        152\n",
      "    ],\n",
      "    \"iobmap_dqs_16\": 0,\n",
      "    \"bisc_idly0_align_nibble09\": 75,\n",
      "    \"f0_wrcmplx_odly_dqs_final_byte3\": 95,\n",
      "    \"f1_wrlvl_fine_right_rank0_byte2\": 0,\n",
      "    \"f0_rd_comp_rise_lm_nib_14\": [\n",
      "        63,\n",
      "        129\n",
      "    ],\n",
      "    \"f0_wrlvl_fine_final_rank0_byte7\": 58,\n",
      "    \"f1_dqsgate_stg2_rldlyrnk_crse_rank0_byte2\": 0,\n",
      "    \"f1_rdcmplx_pqtr_right_nibble00\": 0,\n",
      "    \"bisc_idly5_align_nibble02\": 73,\n",
      "    \"f0_wrcmplx_odly_dq_final_bit54\": 57,\n",
      "    \"f1_rddq_qtr_deskew_nibble00\": 0,\n",
      "    \"dqstrack_rldlyrnk_fine_min_byte7\": 36,\n",
      "    \"nsu1_perf_filter_1_0\": 0,\n",
      "    \"f0_dqsgate_rldlyrnk_crse_final_rank0_byte0\": 0,\n",
      "    \"f1_rdcmplx_nqtr_left_nibble12\": 0,\n",
      "    \"f0_rdcmplx_idelay_offset_nibble13\": 0,\n",
      "    \"cal_stage_time_27\": 0,\n",
      "    \"ub_ub_msg\": 0,\n",
      "    \"f0_wrdqdbi_deskew_dq_odly_fcrse_bit52\": 114,\n",
      "    \"f1_wrdqdbi_deskew_dq_odly_bit40\": 0,\n",
      "    \"f0_rd_simp_rise_ctp_nib_14\": [\n",
      "        91,\n",
      "        187\n",
      "    ],\n",
      "    \"f1_wrdqdbi_stg3_dq_odly_bit19\": 0,\n",
      "    \"dc0_perf_mon_8\": 0,\n",
      "    \"cal_seq_status_46\": 0,\n",
      "    \"f0_rd_simp_rise_ctp_nib_09\": [\n",
      "        91,\n",
      "        187\n",
      "    ],\n",
      "    \"nsu3_perf_filter_en_0\": 0,\n",
      "    \"f0_rd_comp_fall_lm_nib_10\": [\n",
      "        60,\n",
      "        117\n",
      "    ],\n",
      "    \"f0_wrdqdbi_right_margin_byte4\": 70,\n",
      "    \"f0_wr_comp_lm_byte_00\": [\n",
      "        73,\n",
      "        152\n",
      "    ],\n",
      "    \"nsu1_perf_filter_en_0\": 0,\n",
      "    \"f0_rdcmplx_nqtr_left_nibble08\": 27,\n",
      "    \"f1_wrdqdbi_odly_dq_final_bit38\": 0,\n",
      "    \"bisc_idly2_align_nibble13\": 76,\n",
      "    \"f0_wrdqdbi_deskew_dq_odly_fcrse_bit19\": 89,\n",
      "    \"bisc_nqtr_align_nibble03\": 0,\n",
      "    \"rdvref_vref_low_bound_nibble14\": 0,\n",
      "    \"f1_wrdqdbi_odly_dq_final_bit45\": 0,\n",
      "    \"cal_warning_05\": 0,\n",
      "    \"bisc_idly5_align_nibble00\": 69,\n",
      "    \"f0_calbisc_rl_dly_pqtr_nibble14\": 76,\n",
      "    \"cal_pre_status_17_9\": 511,\n",
      "    \"dqstrack_rldlyrnk_crse_max_byte6\": 3,\n",
      "    \"f0_wrprbs_left_margin_byte5\": 0,\n",
      "    \"f1_wrdqdbi_deskew_dq_odly_bit30\": 0,\n",
      "    \"ddrmc_isr_nsu_fatal3\": 0,\n",
      "    \"rdvref_vref_final_nibble12\": 0,\n",
      "    \"wrvref_right_vref_final_rank0_byte7\": 0,\n",
      "    \"f1_read_latency\": 1,\n",
      "    \"f0_rddq_pqtr_right_fcrse_nibble01\": 163,\n",
      "    \"bisc_pqtr_align_nibble02\": 0,\n",
      "    \"f0_wrdqdbi_stg3_dq_odly_bit45\": 55,\n",
      "    \"f1_rdcmplx_nqtr_left_nibble11\": 0,\n",
      "    \"cal_seq_status_12\": 398,\n",
      "    \"bisc_nqtr_align_nibble12\": 2,\n",
      "    \"f0_wrcmplx_odly_dq_final_bit06\": 72,\n",
      "    \"wrvref_right_vref_final_rank0_byte4\": 0,\n",
      "    \"f0_wrdqdbi_left_margin_byte4\": 70,\n",
      "    \"rdmargin_pqtr_left_nibble07\": 0,\n",
      "    \"f1_wrdqdbi_left_edge_dq_bit49\": 0,\n",
      "    \"bisc_idly3_align_nibble06\": 68,\n",
      "    \"wrvref_right_vref_final_rank0_byte2\": 0,\n",
      "    \"f0_rddq_nqtr_left_nibble06\": 27,\n",
      "    \"f0_wrdqdbi_odly_dqs_final_byte6\": 60,\n",
      "    \"f0_rddq_nqtr_right_fcrse_nibble15\": 180,\n",
      "    \"f0_wrdqdbi_deskew_dq_odly_fcrse_bit63\": 128,\n",
      "    \"f0_wrlat_match_rank0_byte3\": 17,\n",
      "    \"f0_wrdqdbi_deskew_dq_odly_fcrse_bit17\": 89,\n",
      "    \"wrvref_right_vref_low_bound_rank0_byte6\": 0,\n",
      "    \"f0_wrdqdbi_deskew_dq_odly_fcrse_bit01\": 121,\n",
      "    \"f0_rddq_nqtr_right_nibble13\": 163,\n",
      "    \"f1_rddq_idelay_final_bit09\": 0,\n",
      "    \"wrvref_vref_final_rank0_byte5\": 0,\n",
      "    \"f1_rdcmplx_nqtr_right_short_fcrse_nibble11\": 0,\n",
      "    \"f0_wrcmplx_right_margin_fcrse_byte6\": 50,\n",
      "    \"phy_oe_nib10_dly\": 0,\n",
      "    \"f0_rdcmplx_pqtr_right_short_fcrse_nibble11\": 173,\n",
      "    \"f1_wrlvl_crse_stg1_rank0_byte2\": 0,\n",
      "    \"f1_mr2_8_0\": 0,\n",
      "    \"f0_wrdqdbi_deskew_dq_odly_fcrse_bit47\": 125,\n",
      "    \"f1_dqsgate_stg1_overflow_06\": 0,\n",
      "    \"f0_rdcmplx_pqtr_right_short_nibble12\": 161,\n",
      "    \"f1_wrcmplx_odly_dq_final_bit12\": 0,\n",
      "    \"cal_warning_04\": 0,\n",
      "    \"f0_rddq_nqtr_right_fcrse_nibble13\": 170,\n",
      "    \"f1_rddq_nqtr_right_nibble00\": 0,\n",
      "    \"f0_rddq_nqtr_right_nibble10\": 166,\n",
      "    \"vttrack_rldlyqtr_min_nibble14\": 72,\n",
      "    \"f0_rd_simp_rise_lm_nib_02\": [\n",
      "        72,\n",
      "        144\n",
      "    ],\n",
      "    \"bisc_idly0_align_nibble03\": 74,\n",
      "    \"bisc_idly2_align_nibble01\": 75,\n",
      "    \"f1_wrdqdbi_odly_dq_final_bit54\": 0,\n",
      "    \"f0_rdcmplx_nqtr_right_short_fcrse_nibble14\": 174,\n",
      "    \"f0_dqsgate_stg1_overflow_39\": 0,\n",
      "    \"wrvref_vref_upp_bound_rank0_byte7\": 0,\n",
      "    \"rdvref_vref_upp_bound_nibble14\": 0,\n",
      "    \"f0_rddq_nqtr_right_fcrse_nibble14\": 182,\n",
      "    \"f0_wrdqdbi_odly_dq_final_bit07\": 57,\n",
      "    \"f1_calbisc_rl_dly_pqtr_nibble10\": 0,\n",
      "    \"f0_wrlat_phy_data_nib_final_byte4\": 1,\n",
      "    \"f0_calbisc_rl_dly_qtr_nibble01\": 74,\n",
      "    \"f0_rddq_pqtr_right_fcrse_nibble03\": 173,\n",
      "    \"f0_rd_comp_fall_rm_nib_10\": [\n",
      "        60,\n",
      "        117\n",
      "    ],\n",
      "    \"f1_rdprbs_nqtr_right_margin_nibble12\": 0,\n",
      "    \"f0_rd_comp_rise_ctp_nib_08\": [\n",
      "        83,\n",
      "        166\n",
      "    ],\n",
      "    \"f0_wrdqdbi_odly_dq_final_bit49\": 41,\n",
      "    \"f0_rd_comp_rise_rm_nib_04\": [\n",
      "        63,\n",
      "        129\n",
      "    ],\n",
      "    \"f1_rdcmplx_nqtr_final_nibble06\": 0,\n",
      "    \"f0_dqsgate_rldlyrnk_crse_final_rank0_byte1\": 0,\n",
      "    \"vttrack_rldlyqtr_nibble06\": 77,\n",
      "    \"f0_rdcmplx_pqtr_left_short_nibble11\": 27,\n",
      "    \"rdvref_left_vref_low_bound_nibble11\": 0,\n",
      "    \"f0_wrcmplx_left_margin_fcrse_byte4\": 60,\n",
      "    \"f1_wrcmplx_right_margin_byte3\": 0,\n",
      "    \"f0_wr_comp_rm_byte_06\": [\n",
      "        57,\n",
      "        117\n",
      "    ],\n",
      "    \"f1_wrdqdbi_left_edge_dq_bit24\": 0,\n",
      "    \"f1_wrlvl_fine_final_rank0_byte6\": 0,\n",
      "    \"f1_wrdqdbi_stg2_dq_odly_bit18\": 0,\n",
      "    \"f1_calbisc_rl_dly_pqtr_nibble04\": 0,\n",
      "    \"f1_rdcmplx_pqtr_final_nibble01\": 0,\n",
      "    \"bisc_mon_align_nibble15\": 0,\n",
      "    \"f1_rdcmplx_pqtr_right_short_fcrse_nibble03\": 0,\n",
      "    \"rdmargin_pqtr_left_nibble00\": 0,\n",
      "    \"f0_wrcmplx_odly_dq_final_bit14\": 76,\n",
      "    \"cal_warning_00\": 0,\n",
      "    \"f0_wrdqdbi_left_edge_dq_bit33\": 22,\n",
      "    \"f1_wrprbs_left_margin_byte5\": 0,\n",
      "    \"f0_rd_simp_rise_lm_nib_01\": [\n",
      "        68,\n",
      "        141\n",
      "    ],\n",
      "    \"bisc_mon_align_nibble08\": 0,\n",
      "    \"nsu2_perf_filter_en_0\": 0,\n",
      "    \"ub_clk_8_0\": 2,\n",
      "    \"rdvref_right_vref_def_nibble09\": 0,\n",
      "    \"f1_dqsgate_stg1_overflow_33\": 0,\n",
      "    \"xpi_read_dbi\": 0,\n",
      "    \"f1_dqsgate_rldlyrnk_crse_final_rank0_byte0\": 0,\n",
      "    \"cal_warning_35\": 0,\n",
      "    \"f0_rdcmplx_nqtr_right_nibble06\": 141,\n",
      "    \"phy_rden4_dly\": 27,\n",
      "    \"f0_wrcmplx_odly_dq_final_bit42\": 69,\n",
      "    \"f0_wrdqdbi_deskew_dq_odly_bit39\": 101,\n",
      "    \"f1_wrdqdbi_stg3_dq_odly_bit55\": 0,\n",
      "    \"f1_wrdqdbi_deskew_dq_odly_bit29\": 0,\n",
      "    \"f0_rd_simp_rise_lm_nib_11\": [\n",
      "        73,\n",
      "        154\n",
      "    ],\n",
      "    \"f1_dqsgate_stg1_overflow_10\": 0,\n",
      "    \"f1_wrdqdbi_left_edge_dq_bit37\": 0,\n",
      "    \"f1_wrdqdbi_right_margin_fcrse_byte5\": 0,\n",
      "    \"f1_rdcmplx_nqtr_right_short_fcrse_nibble01\": 0,\n",
      "    \"f0_wrcmplx_odly_dqs_final_byte4\": 45,\n",
      "    \"f0_wrcmplx_odly_dq_final_bit47\": 61,\n",
      "    \"f0_wrlvl_offset_rank0_byte7\": 78,\n",
      "    \"f1_rdcmplx_pqtr_final_nibble09\": 0,\n",
      "    \"wrvref_right_vref_low_bound_rank0_byte4\": 0,\n",
      "    \"f1_rdcmplx_nqtr_left_short_nibble07\": 0,\n",
      "    \"f1_rdcmplx_pqtr_right_short_fcrse_nibble07\": 0,\n",
      "    \"f1_rdcmplx_pqtr_left_nibble05\": 0,\n",
      "    \"f1_dqsgate_stg1_rldlyrnk_crse_rank0_byte4\": 0,\n",
      "    \"f0_wrdqdbi_stg2_dq_odly_bit02\": 51,\n",
      "    \"f0_rdcmplx_nqtr_right_short_nibble14\": 171,\n",
      "    \"f1_wrdqdbi_deskew_dq_odly_fcrse_bit30\": 0,\n",
      "    \"f1_wrdqdbi_stg4_dqs_delay_byte5\": 0,\n",
      "    \"f1_wrdqdbi_stg2_dq_odly_bit04\": 0,\n",
      "    \"ddrmc_isr_uc0_ecc0\": 0,\n",
      "    \"f1_dqsgate_stg1_rldlyrnk_fine_rank0_byte3\": 0,\n",
      "    \"f1_wrdqdbi_odly_dq_final_bit52\": 0,\n",
      "    \"f0_mr2_8_0\": 232,\n",
      "    \"bisc_nqtr_nibble10\": 80,\n",
      "    \"rdvref_left_vref_def_nibble03\": 0,\n",
      "    \"f0_wrcmplx_right_margin_fcrse_byte5\": 60,\n",
      "    \"f1_wrdqdbi_left_margin_byte2\": 0,\n",
      "    \"bisc_idly2_align_nibble00\": 67,\n",
      "    \"f1_wrcmplx_odly_dq_final_bit37\": 0,\n",
      "    \"cal_warning_72\": 0,\n",
      "    \"f0_rddq_qtr_deskew_nibble10\": 1,\n",
      "    \"f0_rdcmplx_nqtr_right_nibble04\": 145,\n",
      "    \"f1_calbisc_rl_dly_qtr_nibble15\": 0,\n",
      "    \"f1_rddq_qtr_deskew_nibble05\": 0,\n",
      "    \"cal_warning_34\": 0,\n",
      "    \"phy_rden14_dly\": 22,\n",
      "    \"f0_wrcmplx_odly_dq_final_bit00\": 66,\n",
      "    \"f1_wrdqdbi_stg1_bit_status_byte7\": 0,\n",
      "    \"write_data_bitslip_en\": 0,\n",
      "    \"f1_rdprbs_nqtr_right_margin_nibble15\": 0,\n",
      "    \"nsu0_perf_mon_0_2\": 0,\n",
      "    \"cal_seq_status_22\": 293,\n",
      "    \"f0_wrdqdbi_deskew_dq_odly_fcrse_bit05\": 131,\n",
      "    \"bisc_idly0_align_nibble05\": 0,\n",
      "    \"bisc_idly1_align_nibble05\": 76,\n",
      "    \"reg_pinout\": 17,\n",
      "    \"f0_wrprbs_right_margin_byte6\": 0,\n",
      "    \"f0_rddq_idelay_final_bit38\": 78,\n",
      "    \"f1_wrdqdbi_deskew_dq_odly_bit11\": 0,\n",
      "    \"bytes\": 8,\n",
      "    \"bisc_nqtr_align_nibble09\": 0,\n",
      "    \"bisc_nqtr_nibble01\": 77,\n",
      "    \"cal_error_bit_phy_nibble_25\": 0,\n",
      "    \"f0_rddq_nqtr_right_fcrse_nibble12\": 178,\n",
      "    \"f1_wrdqdbi_stg3_dq_odly_bit47\": 0,\n",
      "    \"f0_rd_simp_fall_rm_nib_06\": [\n",
      "        69,\n",
      "        141\n",
      "    ],\n",
      "    \"vttrack_rldlyqtr_nibble09\": 76,\n",
      "    \"f1_rdcmplx_nqtr_final_nibble11\": 0,\n",
      "    \"f0_wrdqdbi_deskew_dq_odly_fcrse_bit09\": 132,\n",
      "    \"f1_rdcmplx_pqtr_right_short_fcrse_nibble00\": 0,\n",
      "    \"f1_wrcmplx_left_margin_byte4\": 0,\n",
      "    \"f1_rdprbs_pqtr_right_margin_nibble00\": 0,\n",
      "    \"f1_wrdqdbi_stg3_dq_odly_bit25\": 0,\n",
      "    \"cal_stage_time_52\": 0,\n",
      "    \"f1_rdcmplx_nqtr_right_nibble13\": 0,\n",
      "    \"f0_wrdqdbi_right_margin_byte1\": 70,\n",
      "    \"f0_rdcmplx_nqtr_right_short_nibble13\": 170,\n",
      "    \"f0_rddq_nqtr_left_nibble04\": 30,\n",
      "    \"f1_rddq_idelay_final_bit52\": 0,\n",
      "    \"f1_rdcmplx_pqtr_right_nibble14\": 0,\n",
      "    \"f0_wrdqdbi_odly_dq_final_bit39\": 31,\n",
      "    \"f0_wrlvl_crse_final_rank0_byte5\": 3,\n",
      "    \"phy_rden0_dly\": 26,\n",
      "    \"rdvref_left_vref_final_nibble03\": 0,\n",
      "    \"f0_rddq_qtr_deskew_nibble03\": 1,\n",
      "    \"f1_wrdqdbi_deskew_dq_odly_fcrse_bit16\": 0,\n",
      "    \"cal_seq_status_44\": 0,\n",
      "    \"f1_wrdqdbi_stg3_dq_odly_bit33\": 0,\n",
      "    \"reg_safe_config5\": 68161558,\n",
      "    \"nsu1_perf_mon_ctl_0_0\": 0,\n",
      "    \"nsu0_perf_mon_ctl_1_0\": 0,\n",
      "    \"bisc_idly1_align_nibble03\": 77,\n",
      "    \"f0_wrdqdbi_deskew_dq_odly_bit17\": 90,\n",
      "    \"f0_calbisc_rl_dly_nqtr_nibble04\": 78,\n",
      "    \"f1_rddq_pqtr_left_nibble03\": 0,\n",
      "    \"f0_wrdqdbi_right_margin_byte6\": 70,\n",
      "    \"f0_rd_comp_rise_lm_nib_15\": [\n",
      "        64,\n",
      "        131\n",
      "    ],\n",
      "    \"dc1_perf_mon_7\": 0,\n",
      "    \"f0_rdcmplx_pqtr_left_short_nibble13\": 23,\n",
      "    \"f1_dqsgate_stg2_read_lat_rank0_byte0\": 0,\n",
      "    \"f0_rddq_nqtr_final_nibble03\": 92,\n",
      "    \"f1_mr1_8_0\": 0,\n",
      "    \"f1_rcd_rc0a\": 0,\n",
      "    \"f0_wrlvl_fine_right_rank0_byte6\": 46,\n",
      "    \"f1_rdprbs_nqtr_left_margin_nibble11\": 0,\n",
      "    \"phy_rank_write_override_dyn\": 81920,\n",
      "    \"wrvref_vref_upp_bound_rank0_byte2\": 0,\n",
      "    \"pinout_select\": 17,\n",
      "    \"f0_wrlvl_fine_final_rank0_byte5\": 55,\n",
      "    \"f0_wrdqdbi_deskew_dq_odly_bit32\": 102,\n",
      "    \"f0_wrdqdbi_odly_dq_final_bit00\": 58,\n",
      "    \"f1_wrdqdbi_deskew_dq_odly_fcrse_bit54\": 0,\n",
      "    \"cal_warning_50\": 0,\n",
      "    \"f1_rdcmplx_nqtr_right_short_nibble08\": 0,\n",
      "    \"f1_wrlvl_crse_final_rank0_byte4\": 0,\n",
      "    \"f0_wr_simp_rm_byte_01\": [\n",
      "        70,\n",
      "        142\n",
      "    ],\n",
      "    \"f0_wrdqdbi_stg2_dq_odly_bit53\": 44,\n",
      "    \"f0_rddq_pqtr_right_fcrse_nibble07\": 173,\n",
      "    \"f1_rddq_idelay_final_bit14\": 0,\n",
      "    \"rdvref_vref_final_nibble06\": 0,\n",
      "    \"dqstrack_rldlyrnk_fine_min_byte0\": 5,\n",
      "    \"f0_wr_comp_ctp_byte_06\": [\n",
      "        286,\n",
      "        593\n",
      "    ],\n",
      "    \"f1_rddq_pqtr_final_nibble03\": 0,\n",
      "    \"cal_warning_60\": 0,\n",
      "    \"f0_rddq_pqtr_right_nibble02\": 163,\n",
      "    \"f0_wrdqdbi_deskew_dq_odly_bit60\": 139,\n",
      "    \"f1_wrlat_phy_oe_nib_final_byte6\": 0,\n",
      "    \"f0_wrdqdbi_deskew_dq_odly_fcrse_bit39\": 99,\n",
      "    \"f0_rdcmplx_pqtr_final_nibble10\": 90,\n",
      "    \"f1_lp4_mr23\": 0,\n",
      "    \"iobmap_dq_7_6\": 0,\n",
      "    \"f1_wrdqdbi_deskew_dq_odly_bit63\": 0,\n",
      "    \"cal_warning_56\": 0,\n",
      "    \"wrvref_right_vref_final_rank0_byte5\": 0,\n",
      "    \"f0_rdcmplx_pqtr_left_short_nibble08\": 23,\n",
      "    \"f1_rddq_nqtr_left_nibble06\": 0,\n",
      "    \"f1_wrdqdbi_deskew_dq_odly_bit16\": 0,\n",
      "    \"f1_wrcmplx_right_margin_fcrse_byte2\": 0,\n",
      "    \"f1_dqsgate_stg1_read_lat_rank0_byte0\": 0,\n",
      "    \"f1_wrdqdbi_stg3_dq_odly_bit50\": 0,\n",
      "    \"f1_wrdqdbi_left_edge_dq_bit05\": 0,\n",
      "    \"f0_rddq_pqtr_right_fcrse_nibble09\": 173,\n",
      "    \"bisc_idly5_align_nibble08\": 72,\n",
      "    \"f1_wrlvl_fine_final_rank0_byte0\": 0,\n",
      "    \"f0_wrlvl_noise_fcrse_rank0_byte3\": 85,\n",
      "    \"f1_rddq_idelay_final_bit21\": 0,\n",
      "    \"nsu0_perf_filter_1_1\": 0,\n",
      "    \"f0_wrdqdbi_odly_dq_final_bit10\": 48,\n",
      "    \"f1_dqsgate_read_lat_final_byte0\": 0,\n",
      "    \"f1_wrlvl_crse_stg1_rank0_byte6\": 0,\n",
      "    \"0x3f_CAL_DONE\": \"Pass\",\n",
      "    \"f0_rdprbs_pqtr_left_margin_nibble11\": 0,\n",
      "    \"nsu0_perf_filter_1_0\": 0,\n",
      "    \"cal_warning_08\": 0,\n",
      "    \"f1_wrdqdbi_stg3_dq_odly_bit23\": 0,\n",
      "    \"f1_wrdqdbi_odly_dq_final_bit00\": 0,\n",
      "    \"rdvref_vref_upp_bound_nibble02\": 0,\n",
      "    \"f1_rddq_nqtr_right_nibble04\": 0,\n",
      "    \"f0_dqsgate_stg1_overflow_29\": 0,\n",
      "    \"f1_wrdqdbi_deskew_dq_odly_bit62\": 0,\n",
      "    \"ddrmc_isr_nsu_fatal1\": 0,\n",
      "    \"wrvref_vref_upp_bound_rank0_byte1\": 0,\n",
      "    \"bisc_nqtr_nibble03\": 76,\n",
      "    \"f0_wrdqdbi_stg3_dq_odly_bit28\": 78,\n",
      "    \"f0_wrdqdbi_deskew_dbi_odly_fcrse_byte6\": 114,\n",
      "    \"f0_wrcmplx_odly_dq_final_bit10\": 58,\n",
      "    \"dqstrack_rldlyrnk_fine_min_byte1\": 69,\n",
      "    \"f1_calbisc_rl_dly_nqtr_nibble08\": 0,\n",
      "    \"f1_calbisc_rl_dly_nqtr_nibble09\": 0,\n",
      "    \"f0_rd_simp_rise_lm_nib_14\": [\n",
      "        73,\n",
      "        150\n",
      "    ],\n",
      "    \"f0_wrdqdbi_stg3_dq_odly_bit20\": 19,\n",
      "    \"f1_wrdqdbi_odly_dq_final_bit09\": 0,\n",
      "    \"f1_rddq_pqtr_right_fcrse_nibble04\": 0,\n",
      "    \"f0_rdcmplx_pqtr_left_nibble14\": 26,\n",
      "    \"f0_rd_comp_rise_lm_nib_02\": [\n",
      "        64,\n",
      "        128\n",
      "    ],\n",
      "    \"bisc_rl_dly_qtr_nibble13\": 76,\n",
      "    \"f0_calbisc_rl_dly_nqtr_nibble01\": 74,\n",
      "    \"f1_wrdqdbi_deskew_dq_odly_bit49\": 0,\n",
      "    \"f0_wrlat_wldlyrnk_crse_final_rank0_byte1\": 3,\n",
      "    \"bisc_idly4_align_nibble06\": 72,\n",
      "    \"f1_rddq_idelay_final_bit26\": 0,\n",
      "    \"f0_rd_comp_fall_ctp_nib_14\": [\n",
      "        91,\n",
      "        192\n",
      "    ],\n",
      "    \"f0_db_bc0a\": 0,\n",
      "    \"f0_rdprbs_nqtr_right_margin_nibble00\": 0,\n",
      "    \"f1_rddq_idelay_final_bit08\": 0,\n",
      "    \"f1_wrdqdbi_deskew_dq_odly_bit12\": 0,\n",
      "    \"f0_rdprbs_nqtr_left_margin_nibble00\": 0,\n",
      "    \"cal_seq_status_03\": 261,\n",
      "    \"cal_seq_status_37\": 314,\n",
      "    \"dqstrack_rldlyrnk_fine_max_byte3\": 27,\n",
      "    \"iobmap_dqs_9\": 0,\n",
      "    \"f1_rdcmplx_pqtr_final_nibble04\": 0,\n",
      "    \"f0_rdcmplx_nqtr_final_nibble03\": 82,\n",
      "    \"rdvref_vref_low_bound_nibble13\": 0,\n",
      "    \"wrvref_vref_final_rank0_byte2\": 0,\n",
      "    \"vttrack_rldlyqtr_max_nibble04\": 79,\n",
      "    \"bisc_rl_dly_qtr_nibble02\": 77,\n",
      "    \"f0_mr0_8_0\": 336,\n",
      "    \"f0_wrdqdbi_deskew_dq_odly_bit49\": 113,\n",
      "    \"f0_wrdqdbi_deskew_dq_odly_fcrse_bit61\": 148,\n",
      "    \"f0_wrdqdbi_odly_dq_final_bit38\": 42,\n",
      "    \"f1_wrdqdbi_left_edge_dq_bit41\": 0,\n",
      "    \"dc0_perf_mon_0\": 0,\n",
      "    \"f1_wrdqdbi_deskew_dbi_odly_byte4\": 0,\n",
      "    \"bisc_pqtr_nibble10\": 76,\n",
      "    \"f1_rddq_nqtr_final_nibble04\": 0,\n",
      "    \"f1_wrdqdbi_deskew_dq_odly_bit35\": 0,\n",
      "    \"f0_rddq_idelay_final_bit17\": 67,\n",
      "    \"f0_wrcmplx_right_margin_fcrse_byte7\": 60,\n",
      "    \"f1_rddq_idelay_final_bit16\": 0,\n",
      "    \"f1_wrdqdbi_deskew_dq_odly_fcrse_bit46\": 0,\n",
      "    \"f0_wrdqdbi_stg3_dq_odly_bit06\": 51,\n",
      "    \"f0_rdcmplx_nqtr_left_short_nibble04\": 30,\n",
      "    \"f1_rddq_idelay_final_bit45\": 0,\n",
      "    \"f0_rdcmplx_nqtr_right_nibble13\": 146,\n",
      "    \"f0_wrdqdbi_deskew_dq_odly_bit54\": 122,\n",
      "    \"f1_wrdqdbi_deskew_dq_odly_fcrse_bit36\": 0,\n",
      "    \"f1_wrdqdbi_deskew_dq_odly_fcrse_bit44\": 0,\n",
      "    \"f1_wrprbs_right_margin_byte6\": 0,\n",
      "    \"f1_wrdqdbi_deskew_dq_odly_fcrse_bit33\": 0,\n",
      "    \"f0_rd_simp_fall_ctp_nib_03\": [\n",
      "        92,\n",
      "        189\n",
      "    ],\n",
      "    \"f0_wrdqdbi_left_edge_dq_bit53\": 55,\n",
      "    \"iobmap_dqs_14\": 0,\n",
      "    \"f0_wrlvl_fine_left_rank0_byte6\": 43,\n",
      "    \"f0_wrdqdbi_stg2_dq_odly_bit25\": 78,\n",
      "    \"tag_ver_1\": 0,\n",
      "    \"vttrack_rldlyqtr_nibble00\": 78,\n",
      "    \"rdvref_vref_final_nibble10\": 0,\n",
      "    \"f0_rd_comp_rise_ctp_nib_04\": [\n",
      "        87,\n",
      "        179\n",
      "    ],\n",
      "    \"f0_dqsgate_stg2_rldlyrnk_crse_rank0_byte2\": 1,\n",
      "    \"rdvref_left_vref_def_nibble06\": 0,\n",
      "    \"vttrack_rldlyqtr_max_nibble07\": 82,\n",
      "    \"rdvref_left_vref_upp_bound_nibble08\": 0,\n",
      "    \"f0_rddq_nqtr_left_nibble15\": 25,\n",
      "    \"f1_wrdqdbi_right_edge_dqs_byte0\": 0,\n",
      "    \"rdvref_vref_low_bound_nibble02\": 0,\n",
      "    \"f0_xpll_clkoutfb_ht\": 16,\n",
      "    \"f1_mr5_8_0\": 0,\n",
      "    \"rdvref_left_vref_upp_bound_nibble01\": 0,\n",
      "    \"rdvref_left_vref_final_nibble09\": 0,\n",
      "    \"f0_wrdqdbi_deskew_dq_odly_bit06\": 139,\n",
      "    \"f0_wrdqdbi_left_edge_dq_bit09\": 61,\n",
      "    \"f1_wrdqdbi_odly_dqs_final_byte4\": 0,\n",
      "    \"bisc_nqtr_align_nibble01\": 3,\n",
      "    \"f1_rdcmplx_nqtr_left_short_nibble02\": 0,\n",
      "    \"f0_rdcmplx_idelay_offset_nibble08\": 0,\n",
      "    \"f0_rddq_pqtr_left_nibble13\": 18,\n",
      "    \"f0_rdprbs_pqtr_left_margin_nibble15\": 0,\n",
      "    \"nsu3_perf_mon_1_1\": 0,\n",
      "    \"fifo_rden_dly\": 19,\n",
      "    \"f0_rdcmplx_pqtr_right_short_nibble07\": 166,\n",
      "    \"f0_wrdqdbi_left_edge_dq_bit38\": 42,\n",
      "    \"f0_rdcmplx_nqtr_right_short_nibble02\": 163,\n",
      "    \"f1_rdcmplx_pqtr_right_nibble10\": 0,\n",
      "    \"rdvref_right_vref_def_nibble13\": 0,\n",
      "    \"f1_rdcmplx_nqtr_left_short_nibble03\": 0,\n",
      "    \"f1_rdcmplx_nqtr_right_nibble01\": 0,\n",
      "    \"f0_wrcmplx_left_margin_byte7\": 68,\n",
      "    \"f0_calbisc_rl_dly_qtr_nibble10\": 78,\n",
      "    \"f1_wrlat_wldlyrnk_crse_final_rank0_byte6\": 0,\n",
      "    \"f0_rdcmplx_nqtr_left_short_nibble03\": 24,\n",
      "    \"f1_wrlat_phy_oe_nib_final_byte3\": 0,\n",
      "    \"f1_rdcmplx_nqtr_left_short_nibble09\": 0,\n",
      "    \"f1_rdcmplx_pqtr_right_short_fcrse_nibble11\": 0,\n",
      "    \"f1_wrdqdbi_odly_dbi_final_byte6\": 0,\n",
      "    \"f1_wrdqdbi_stg2_dqs_odly_byte2\": 0,\n",
      "    \"cal_status_cal_done\": 1,\n",
      "    \"f1_dqsgate_stg1_overflow_46\": 0,\n",
      "    \"f1_wrdqdbi_left_edge_dbi_byte7\": 0,\n",
      "    \"f0_wrlat_phy_data_nib_final_byte0\": 0,\n",
      "    \"f1_dqsgate_stg1_overflow_38\": 0,\n",
      "    \"bisc_pqtr_align_nibble07\": 0,\n",
      "    \"f1_mr5_rtt_park\": 0,\n",
      "    \"f1_wrdqdbi_stg2_dq_odly_bit48\": 0,\n",
      "    \"f1_wrcmplx_odly_dq_final_bit35\": 0,\n",
      "    \"cal_error_msg\": \"None\",\n",
      "    \"f0_rddq_pqtr_final_nibble04\": 91,\n",
      "    \"f0_wrdqdbi_stg3_dq_odly_bit49\": 44,\n",
      "    \"cal_seq_status_26\": 297,\n",
      "    \"dqstrack_rldlyrnk_crse_byte2\": 5,\n",
      "    \"f0_wrdqdbi_stg2_dq_odly_bit33\": 29,\n",
      "    \"f1_calbisc_rl_dly_qtr_nibble09\": 0,\n",
      "    \"f1_wrdqdbi_stg3_dq_odly_bit26\": 0,\n",
      "    \"f1_rddq_idelay_final_bit00\": 0,\n",
      "    \"f0_rdcmplx_idelay_offset_nibble02\": 0,\n",
      "    \"f1_rdcmplx_nqtr_right_short_fcrse_nibble07\": 0,\n",
      "    \"f1_wrdqdbi_deskew_dq_odly_fcrse_bit31\": 0,\n",
      "    \"f1_rddq_qtr_deskew_nibble11\": 0,\n",
      "    \"f0_dqsgate_stg1_rldlyrnk_crse_rank0_byte2\": 9,\n",
      "    \"f0_wrdqdbi_stg1_dqs_delay_byte6\": 60,\n",
      "    \"phy_oe_nib25_dly\": 0,\n",
      "    \"wrvref_left_vref_low_bound_rank0_byte1\": 0,\n",
      "    \"f1_wrdqdbi_stg3_dq_odly_bit28\": 0,\n",
      "    \"f0_wr_comp_ctp_byte_04\": [\n",
      "        273,\n",
      "        561\n",
      "    ],\n",
      "    \"f0_rd_simp_fall_lm_nib_06\": [\n",
      "        68,\n",
      "        139\n",
      "    ],\n",
      "    \"f1_wrdqdbi_stg2_dq_odly_bit15\": 0,\n",
      "    \"f1_wrdqdbi_left_margin_byte1\": 0,\n",
      "    \"f1_dqsgate_stg2_rldlyrnk_crse_rank0_byte5\": 0,\n",
      "    \"f1_wrdqdbi_stg3_dq_odly_bit60\": 0,\n",
      "    \"f1_wrcmplx_odly_dq_final_bit45\": 0,\n",
      "    \"rdvref_vref_low_bound_nibble07\": 0,\n",
      "    \"f0_rdcmplx_pqtr_right_short_fcrse_nibble09\": 170,\n",
      "    \"f0_xpll_divclk_lt\": 1,\n",
      "    \"rdvref_vref_final_nibble02\": 0,\n",
      "    \"f1_wrcmplx_left_margin_fcrse_byte3\": 0,\n",
      "    \"f0_rdcmplx_pqtr_final_nibble00\": 87,\n",
      "    \"f0_wrcmplx_odly_dbi_final_byte4\": 33,\n",
      "    \"iobmap_dqs_17\": 0,\n",
      "    \"f1_wrdqdbi_deskew_dbi_odly_fcrse_byte2\": 0,\n",
      "    \"f0_wrdqdbi_right_margin_fcrse_byte1\": 70,\n",
      "    \"f1_rddq_nqtr_right_fcrse_nibble06\": 0,\n",
      "    \"f0_rd_comp_fall_ctp_nib_01\": [\n",
      "        90,\n",
      "        190\n",
      "    ],\n",
      "    \"f0_rddq_idelay_final_bit54\": 80,\n",
      "    \"wrvref_vref_low_bound_rank0_byte3\": 0,\n",
      "    \"f0_wrdqdbi_odly_dq_final_bit11\": 54,\n",
      "    \"f1_rdcmplx_idelay_offset_nibble02\": 0,\n",
      "    \"rdvref_vref_final_nibble08\": 0,\n",
      "    \"phy_rden12_dly\": 22,\n",
      "    \"f1_wrcmplx_odly_dq_final_bit24\": 0,\n",
      "    \"wrvref_left_vref_def_rank0_byte5\": 0,\n",
      "    \"f1_dqsgate_stg1_overflow_20\": 0,\n",
      "    \"cal_post_status_01\": 0,\n",
      "    \"f0_wrdqdbi_deskew_dq_odly_fcrse_bit58\": 118,\n",
      "    \"f0_rd_simp_rise_lm_nib_03\": [\n",
      "        72,\n",
      "        146\n",
      "    ],\n",
      "    \"f1_rdprbs_pqtr_left_margin_nibble09\": 0,\n",
      "    \"f0_wrlvl_noise_fcrse_rank0_byte2\": 25,\n",
      "    \"wrvref_left_vref_final_rank0_byte6\": 0,\n",
      "    \"f1_rddq_nqtr_final_nibble10\": 0,\n",
      "    \"wrmargin_right_byte6\": 0,\n",
      "    \"f0_wrdqdbi_stg2_dq_odly_bit06\": 51,\n",
      "    \"f1_rdcmplx_pqtr_right_nibble11\": 0,\n",
      "    \"f0_rd_simp_fall_ctp_nib_10\": [\n",
      "        97,\n",
      "        189\n",
      "    ],\n",
      "    \"f0_write_latency\": 1,\n",
      "    \"f0_rdcmplx_idelay_offset_nibble12\": 0,\n",
      "    \"rdmargin_pqtr_left_nibble12\": 0,\n",
      "    \"f1_dqsgate_stg1_overflow_58\": 0,\n",
      "    \"f0_rdcmplx_nqtr_left_nibble07\": 28,\n",
      "    \"f1_wrdqdbi_right_edge_dqs_byte2\": 0,\n",
      "    \"f1_wrlat_match_rank0_byte4\": 0,\n",
      "    \"f1_wrcmplx_right_margin_byte5\": 0,\n",
      "    \"rdvref_right_vref_def_nibble03\": 0,\n",
      "    \"bisc_mon_align_nibble13\": 0,\n",
      "    \"f0_wrcmplx_left_margin_byte4\": 69,\n",
      "    \"wrvref_vref_final_rank0_byte1\": 0,\n",
      "    \"f1_wrdqdbi_deskew_dq_odly_bit44\": 0,\n",
      "    \"f1_wrdqdbi_right_margin_fcrse_byte4\": 0,\n",
      "    \"cal_warning_58\": 0,\n",
      "    \"wrmargin_left_byte6\": 0,\n",
      "    \"f1_wrdqdbi_right_edge_dqs_byte1\": 0,\n",
      "    \"f1_calbisc_rl_dly_pqtr_nibble00\": 0,\n",
      "    \"f0_wr_comp_ctp_byte_02\": [\n",
      "        35,\n",
      "        72\n",
      "    ],\n",
      "    \"f0_wrcmplx_right_margin_fcrse_byte4\": 60,\n",
      "    \"f1_dqsgate_stg1_overflow_21\": 0,\n",
      "    \"f1_wrdqdbi_odly_dq_final_bit53\": 0,\n",
      "    \"f0_rdprbs_nqtr_right_margin_nibble03\": 0,\n",
      "    \"f1_wrlvl_fine_right_rank0_byte3\": 0,\n",
      "    \"f1_rdcmplx_pqtr_right_short_nibble02\": 0,\n",
      "    \"f1_wrdqdbi_deskew_dq_odly_bit02\": 0,\n",
      "    \"f0_rdprbs_nqtr_left_margin_nibble14\": 0,\n",
      "    \"f1_rddq_nqtr_right_fcrse_nibble13\": 0,\n",
      "    \"f1_rddq_pqtr_right_fcrse_nibble13\": 0,\n",
      "    \"rdvref_right_vref_upp_bound_nibble06\": 0,\n",
      "    \"f1_wrcmplx_odly_dq_final_bit46\": 0,\n",
      "    \"f0_dm_dbi_en\": 1,\n",
      "    \"cal_seq_status_10\": 395,\n",
      "    \"bisc_idly5_align_nibble01\": 79,\n",
      "    \"dqstrack_rldlyrnk_crse_max_byte0\": 4,\n",
      "    \"wrvref_right_vref_low_bound_rank0_byte3\": 0,\n",
      "    \"f0_rddq_pqtr_right_fcrse_nibble08\": 173,\n",
      "    \"f1_rddq_qtr_deskew_nibble03\": 0,\n",
      "    \"rdvref_right_vref_upp_bound_nibble14\": 0,\n",
      "    \"f1_wrdqdbi_stg3_dq_odly_bit22\": 0,\n",
      "    \"f1_wrdqdbi_stg3_dq_odly_bit63\": 0,\n",
      "    \"rdmargin_pqtr_right_nibble10\": 0,\n",
      "    \"f1_wrlvl_noise_fcrse_rank0_byte3\": 0,\n",
      "    \"f1_rdcmplx_pqtr_right_short_fcrse_nibble09\": 0,\n",
      "    \"f1_wrcmplx_odly_dq_final_bit08\": 0,\n",
      "    \"bisc_idly5_align_nibble06\": 69,\n",
      "    \"f1_wrdqdbi_deskew_dbi_odly_byte0\": 0,\n",
      "    \"f0_wrdqdbi_stg2_dq_odly_bit15\": 62,\n",
      "    \"f0_wrlvl_fine_final_rank0_byte0\": 51,\n",
      "    \"f0_wrcmplx_odly_dq_final_bit40\": 74,\n",
      "    \"f0_rdcmplx_pqtr_right_nibble05\": 146,\n",
      "    \"bisc_mon_align_nibble12\": 0,\n",
      "    \"self_refresh_exit_error\": 0,\n",
      "    \"rdmargin_nqtr_left_nibble03\": 0,\n",
      "    \"f0_wrdqdbi_stg3_dq_odly_bit08\": 62,\n",
      "    \"f1_wrlvl_crse_final_rank0_byte2\": 0,\n",
      "    \"rdvref_left_vref_low_bound_nibble01\": 0,\n",
      "    \"f1_wrdqdbi_left_margin_byte0\": 0,\n",
      "    \"f0_rd_comp_rise_ctp_nib_07\": [\n",
      "        87,\n",
      "        179\n",
      "    ],\n",
      "    \"f0_rddq_nqtr_left_nibble07\": 27,\n",
      "    \"f1_wrdqdbi_stg4_dqs_delay_byte4\": 0,\n",
      "    \"f0_dqsgate_stg2_read_lat_rank0_byte1\": 26,\n",
      "    \"f1_dqsgate_stg2_rldlyrnk_crse_rank0_byte6\": 0,\n",
      "    \"f0_wrdqdbi_odly_dq_final_bit06\": 64,\n",
      "    \"f1_wrlvl_crse_stg1_rank0_byte1\": 0,\n",
      "    \"f0_dqsgate_stg1_overflow_03\": 0,\n",
      "    \"reg_safe_config2\": 1099088782,\n",
      "    \"f1_wrcmplx_left_margin_byte2\": 0,\n",
      "    \"f1_wrcmplx_odly_dq_final_bit49\": 0,\n",
      "    \"f0_wrcmplx_left_margin_fcrse_byte6\": 70,\n",
      "    \"f0_rdprbs_pqtr_right_margin_nibble12\": 0,\n",
      "    \"f1_wrdqdbi_left_edge_dq_bit23\": 0,\n",
      "    \"f0_wrdqdbi_deskew_dq_odly_bit07\": 132,\n",
      "    \"f0_rddq_idelay_final_bit51\": 75,\n",
      "    \"f1_rddq_idelay_final_bit27\": 0,\n",
      "    \"dc1_perf_mon_5\": 0,\n",
      "    \"rdvref_left_vref_low_bound_nibble13\": 0,\n",
      "    \"iobmap_dq_21_20\": 0,\n",
      "    \"cal_warning_26\": 0,\n",
      "    \"vttrack_rldlyqtr_min_nibble01\": 74,\n",
      "    \"f1_rdcmplx_pqtr_final_nibble12\": 0,\n",
      "    \"cal_seq_status_29\": 299,\n",
      "    \"cal_stage_time_02\": 0,\n",
      "    \"f0_rdcmplx_idelay_offset_nibble15\": 0,\n",
      "    \"cal_stage_time_10\": 6,\n",
      "    \"cal_stage_time_24\": 0,\n",
      "    \"rdvref_left_vref_final_nibble07\": 0,\n",
      "    \"nsu1_perf_mon_0_1\": 0,\n",
      "    \"cal_warning_71\": 0,\n",
      "    \"f0_dqsgate_stg1_overflow_17\": 0,\n",
      "    \"f0_rddq_idelay_final_bit21\": 85,\n",
      "    \"rdvref_vref_upp_bound_nibble00\": 0,\n",
      "    \"f1_rdcmplx_nqtr_left_short_nibble15\": 0,\n",
      "    \"f0_rdcmplx_nqtr_left_short_nibble08\": 26,\n",
      "    \"bisc_idly0_align_nibble00\": 65,\n",
      "    \"f1_wrdqdbi_deskew_dq_odly_fcrse_bit42\": 0,\n",
      "    \"rdvref_right_vref_upp_bound_nibble15\": 0,\n",
      "    \"wrvref_left_vref_def_rank0_byte3\": 0,\n",
      "    \"wrvref_vref_upp_bound_rank0_byte6\": 0,\n",
      "    \"f0_dqsgate_stg1_overflow_51\": 0,\n",
      "    \"rdvref_right_vref_def_nibble08\": 0,\n",
      "    \"wrvref_right_vref_upp_bound_rank0_byte4\": 0,\n",
      "    \"f0_wrdqdbi_deskew_dq_odly_bit11\": 125,\n",
      "    \"f1_rddq_nqtr_left_nibble05\": 0,\n",
      "    \"phy_rden1_dly\": 26,\n",
      "    \"f0_rd_simp_fall_rm_nib_12\": [\n",
      "        74,\n",
      "        154\n",
      "    ],\n",
      "    \"f0_wrdqdbi_stg3_dq_odly_bit46\": 55,\n",
      "    \"f0_rddq_idelay_final_bit33\": 60,\n",
      "    \"f1_tck_lsb\": 113,\n",
      "    \"f1_wrdqdbi_odly_dq_final_bit03\": 0,\n",
      "    \"f1_wrdqdbi_right_margin_byte5\": 0,\n",
      "    \"f0_wrdqdbi_stg3_dq_odly_bit01\": 51,\n",
      "    \"f0_wrdqdbi_stg1_bit_status_byte5\": 0,\n",
      "    \"f0_rd_simp_rise_lm_nib_10\": [\n",
      "        73,\n",
      "        150\n",
      "    ],\n",
      "    \"f0_wrdqdbi_stg3_dq_odly_bit18\": 19,\n",
      "    \"cal_warning_77\": 0,\n",
      "    \"f1_rdcmplx_pqtr_left_short_nibble02\": 0,\n",
      "    \"f0_rddq_nqtr_right_fcrse_nibble10\": 173,\n",
      "    \"f1_wrdqdbi_stg2_dq_odly_bit30\": 0,\n",
      "    \"bisc_idly5_align_nibble14\": 71,\n",
      "    \"cal_stage_time_63\": 0,\n",
      "    \"f0_wrdqdbi_stg2_dq_odly_bit27\": 78,\n",
      "    \"cal_warning_24\": 0,\n",
      "    \"f0_rdcmplx_pqtr_final_nibble11\": 93,\n",
      "    \"f1_wrlat_match_rank0_byte3\": 0,\n",
      "    \"f0_rd_comp_fall_lm_nib_09\": [\n",
      "        57,\n",
      "        118\n",
      "    ],\n",
      "    \"f1_calbisc_rl_dly_qtr_nibble05\": 0,\n",
      "    \"f1_wrcmplx_odly_dq_final_bit61\": 0,\n",
      "    \"iobmap_dq_69_68\": 0,\n",
      "    \"ddrmc_isr_na_cmd\": 0,\n",
      "    \"f0_wrdqdbi_stg6_dbi_odly_byte1\": 62,\n",
      "    \"f0_rd_simp_rise_lm_nib_15\": [\n",
      "        68,\n",
      "        139\n",
      "    ],\n",
      "    \"f0_wrcmplx_odly_dq_final_bit50\": 60,\n",
      "    \"f1_wrdqdbi_stg2_dq_odly_bit12\": 0,\n",
      "    \"f0_dqsgate_stg1_overflow_43\": 0,\n",
      "    \"wrvref_right_vref_def_rank0_byte4\": 0,\n",
      "    \"f0_calbisc_rl_dly_pqtr_nibble08\": 78,\n",
      "    \"f0_wrdqdbi_stg2_dq_odly_bit18\": 19,\n",
      "    \"bisc_mon_align_nibble11\": 0,\n",
      "    \"f1_rdcmplx_nqtr_right_nibble06\": 0,\n",
      "    \"dc0_perf_mon_4\": 0,\n",
      "    \"f0_dqsgate_stg1_overflow_36\": 0,\n",
      "    \"f1_wrdqdbi_stg4_byte_status_01\": 0,\n",
      "    \"f0_wrdqdbi_stg2_dq_odly_bit22\": 19,\n",
      "    \"f0_wrdqdbi_left_edge_dq_bit36\": 38,\n",
      "    \"f0_rddq_pqtr_right_nibble12\": 163,\n",
      "    \"f1_rddq_idelay_final_bit38\": 0,\n",
      "    \"f1_wrcmplx_right_margin_byte4\": 0,\n",
      "    \"f0_rddq_nqtr_right_nibble02\": 164,\n",
      "    \"0x3d_READ_DQS_TRACK\": \"Pass\",\n",
      "    \"cal_error_bit_phy_nibble_19\": 0,\n",
      "    \"f0_rddq_nqtr_right_fcrse_nibble06\": 172,\n",
      "    \"bisc_nqtr_nibble15\": 77,\n",
      "    \"f1_rdprbs_nqtr_left_margin_nibble10\": 0,\n",
      "    \"cal_seq_status_00\": 384,\n",
      "    \"f0_rdcmplx_nqtr_right_short_nibble01\": 170,\n",
      "    \"rdvref_left_vref_def_nibble05\": 0,\n",
      "    \"f1_wrdqdbi_odly_dq_final_bit07\": 0,\n",
      "    \"cal_warning_30\": 0,\n",
      "    \"f1_wrlvl_fine_left_rank0_byte5\": 0,\n",
      "    \"f1_rddq_nqtr_right_fcrse_nibble15\": 0,\n",
      "    \"cal_warning_73\": 0,\n",
      "    \"f0_wrdqdbi_stg2_dq_odly_bit36\": 29,\n",
      "    \"f0_dqsgate_stg1_rldlyrnk_crse_rank0_byte3\": 10,\n",
      "    \"f1_rdprbs_nqtr_left_margin_nibble00\": 0,\n",
      "    \"f1_wrdqdbi_odly_dq_final_bit18\": 0,\n",
      "    \"ub_data_ue\": 0,\n",
      "    \"f1_rdcmplx_pqtr_right_short_nibble13\": 0,\n",
      "    \"f1_rdprbs_nqtr_right_margin_nibble09\": 0,\n",
      "    \"f1_rdcmplx_nqtr_right_nibble12\": 0,\n",
      "    \"f0_rdcmplx_pqtr_left_nibble06\": 29,\n",
      "    \"f0_calbisc_rl_dly_qtr_nibble14\": 75,\n",
      "    \"f0_dqsgate_stg1_overflow_53\": 0,\n",
      "    \"f0_rddq_pqtr_left_nibble14\": 18,\n",
      "    \"f0_rddq_qtr_deskew_nibble00\": 1,\n",
      "    \"f0_rddq_idelay_final_bit01\": 74,\n",
      "    \"f0_rd_comp_rise_rm_nib_08\": [\n",
      "        60,\n",
      "        120\n",
      "    ],\n",
      "    \"f1_wrdqdbi_stg3_dq_odly_bit20\": 0,\n",
      "    \"f1_rdcmplx_nqtr_final_nibble07\": 0,\n",
      "    \"f0_mr3_17_9\": 0,\n",
      "    \"f0_rddq_nqtr_right_nibble07\": 164,\n",
      "    \"f0_rdcmplx_nqtr_left_nibble00\": 25,\n",
      "    \"f0_rddq_idelay_final_bit28\": 71,\n",
      "    \"vttrack_rldlyqtr_max_nibble01\": 81,\n",
      "    \"f1_wrdqdbi_deskew_dq_odly_fcrse_bit28\": 0,\n",
      "    \"nsu1_perf_filter_0_1\": 0,\n",
      "    \"f0_wrdqdbi_deskew_dbi_odly_byte7\": 134,\n",
      "    \"f1_wrdqdbi_odly_dqs_final_byte0\": 0,\n",
      "    \"wrvref_vref_low_bound_rank0_byte1\": 0,\n",
      "    \"f0_wrdqdbi_deskew_dq_odly_fcrse_bit06\": 131,\n",
      "    \"f1_wrdqdbi_stg2_dq_odly_bit11\": 0,\n",
      "    \"eye_scan_error\": \"N/A\",\n",
      "    \"f0_rdcmplx_nqtr_left_short_nibble09\": 26,\n",
      "    \"f0_wrdqdbi_deskew_dq_odly_bit53\": 129,\n",
      "    \"f1_calbisc_rl_dly_qtr_nibble03\": 0,\n",
      "    \"f1_calbisc_rl_dly_pqtr_nibble02\": 0,\n",
      "    \"f0_wrdqdbi_deskew_dq_odly_fcrse_bit24\": 138,\n",
      "    \"f0_rdcmplx_nqtr_left_short_nibble14\": 28,\n",
      "    \"f1_dqsgate_stg1_overflow_40\": 0,\n",
      "    \"wrvref_right_vref_low_bound_rank0_byte1\": 0,\n",
      "    \"f0_rdcmplx_nqtr_right_short_fcrse_nibble01\": 173,\n",
      "    \"f1_wrdqdbi_stg3_dq_odly_bit42\": 0,\n",
      "    \"f0_wrcmplx_odly_dq_final_bit11\": 64,\n",
      "    \"f0_rdcmplx_pqtr_right_short_nibble08\": 166,\n",
      "    \"f0_wrdqdbi_stg2_dq_odly_bit28\": 78,\n",
      "    \"iobmap_dqs_10\": 0,\n",
      "    \"f1_rddq_pqtr_right_nibble01\": 0,\n",
      "    \"f0_rddq_nqtr_right_nibble04\": 168,\n",
      "    \"f1_mr2_17_9\": 0,\n",
      "    \"phy_rden10_dly\": 22,\n",
      "    \"rdvref_right_vref_def_nibble02\": 0,\n",
      "    \"f0_wrdqdbi_stg2_dq_odly_bit48\": 44,\n",
      "    \"f0_rd_comp_rise_ctp_nib_11\": [\n",
      "        93,\n",
      "        196\n",
      "    ],\n",
      "    \"dqstrack_rldlyrnk_fine_min_byte4\": 42,\n",
      "    \"dqstrack_rldlyrnk_fine_max_byte5\": 41,\n",
      "    \"health_status\": \"GOOD\",\n",
      "    \"max_dbi_pins\": 9,\n",
      "    \"f1_rdcmplx_pqtr_left_nibble01\": 0,\n",
      "    \"f0_wrdqdbi_stg3_dq_odly_bit19\": 19,\n",
      "    \"f1_rdcmplx_nqtr_right_short_fcrse_nibble03\": 0,\n",
      "    \"rdvref_right_vref_upp_bound_nibble01\": 0,\n",
      "    \"f1_wrcmplx_odly_dq_final_bit22\": 0,\n",
      "    \"rdvref_right_vref_def_nibble12\": 0,\n",
      "    \"f0_rdprbs_pqtr_right_margin_nibble10\": 0,\n",
      "    \"f1_wrdqdbi_left_edge_dq_bit34\": 0,\n",
      "    \"f0_rddq_idelay_final_bit62\": 84,\n",
      "    \"f1_calbisc_rl_dly_nqtr_nibble00\": 0,\n",
      "    \"phy_oe_nib0_dly\": 1,\n",
      "    \"f1_wrcmplx_odly_dq_final_bit15\": 0,\n",
      "    \"f0_wrdqdbi_stg2_dq_odly_bit30\": 78,\n",
      "    \"f0_wrlat_phy_data_nib_final_byte5\": 1,\n",
      "    \"dqstrack_rldlyrnk_crse_min_byte6\": 3,\n",
      "    \"nsu0_perf_filter_0_0\": 0,\n",
      "    \"f1_wrdqdbi_stg3_dq_odly_bit30\": 0,\n",
      "    \"rdvref_right_vref_low_bound_nibble08\": 0,\n",
      "    \"rdvref_left_vref_low_bound_nibble10\": 0,\n",
      "    \"f1_rddq_idelay_final_bit49\": 0,\n",
      "    \"f1_wrdqdbi_deskew_dq_odly_fcrse_bit09\": 0,\n",
      "    \"f0_wrdqdbi_stg4_dqs_delay_byte5\": 14,\n",
      "    \"cal_seq_status_24\": 295,\n",
      "    \"f1_rddq_nqtr_left_nibble01\": 0,\n",
      "    \"f0_rddq_nqtr_final_nibble07\": 95,\n",
      "    \"f0_rddq_idelay_final_bit15\": 70,\n",
      "    \"f1_rddq_nqtr_left_nibble02\": 0,\n",
      "    \"f0_rd_comp_fall_rm_nib_06\": [\n",
      "        57,\n",
      "        117\n",
      "    ],\n",
      "    \"rdmargin_nqtr_right_nibble00\": 0,\n",
      "    \"f0_wrlat_phy_oe_nib_final_byte6\": 1,\n",
      "    \"f1_wrcmplx_odly_dq_final_bit44\": 0,\n",
      "    \"f1_rddq_nqtr_final_nibble02\": 0,\n",
      "    \"f0_rdprbs_nqtr_right_margin_nibble09\": 0,\n",
      "    \"f1_rddq_idelay_final_bit05\": 0,\n",
      "    \"f1_rddq_pqtr_right_fcrse_nibble09\": 0,\n",
      "    \"f1_dqsgate_stg1_overflow_35\": 0,\n",
      "    \"vttrack_rldlyqtr_min_nibble09\": 73,\n",
      "    \"f0_dqsgate_stg1_rldlyrnk_fine_rank0_byte6\": 67,\n",
      "    \"f1_wrdqdbi_deskew_dq_odly_fcrse_bit21\": 0,\n",
      "    \"f1_wrcmplx_left_margin_fcrse_byte6\": 0,\n",
      "    \"rdvref_left_vref_low_bound_nibble08\": 0,\n",
      "    \"f0_rddq_pqtr_right_nibble00\": 155,\n",
      "    \"f1_wrprbs_right_margin_byte5\": 0,\n",
      "    \"f0_calbisc_rl_dly_pqtr_nibble12\": 75,\n",
      "    \"f0_rd_comp_fall_rm_nib_11\": [\n",
      "        59,\n",
      "        121\n",
      "    ],\n",
      "    \"f1_wrdqdbi_stg6_dbi_odly_byte5\": 0,\n",
      "    \"rdmargin_pqtr_left_nibble02\": 0,\n",
      "    \"f1_wrdqdbi_right_edge_dqs_byte3\": 0,\n",
      "    \"f0_calbisc_rl_dly_nqtr_nibble03\": 76,\n",
      "    \"f0_wrdqdbi_stg3_dq_odly_bit02\": 51,\n",
      "    \"f1_wrdqdbi_stg2_dq_odly_bit47\": 0,\n",
      "    \"cal_error_rank\": 17,\n",
      "    \"bisc_idly1_align_nibble00\": 70,\n",
      "    \"f1_wrdqdbi_stg2_dq_odly_bit50\": 0,\n",
      "    \"f1_rdcmplx_pqtr_final_nibble14\": 0,\n",
      "    \"f0_rd_simp_fall_ctp_nib_14\": [\n",
      "        99,\n",
      "        209\n",
      "    ],\n",
      "    \"f1_wrdqdbi_left_edge_dq_bit10\": 0,\n",
      "    \"f0_wrdqdbi_left_edge_dq_bit46\": 64,\n",
      "    \"f0_wrdqdbi_stg5_dqs_odly_byte6\": 60,\n",
      "    \"bisc_idly2_align_nibble12\": 65,\n",
      "    \"f0_rddq_idelay_final_bit57\": 70,\n",
      "    \"cal_seq_status_09\": 396,\n",
      "    \"rdvref_left_vref_upp_bound_nibble10\": 0,\n",
      "    \"f1_rdprbs_pqtr_right_margin_nibble01\": 0,\n",
      "    \"ddrmc_pcsr_status\": 23,\n",
      "    \"f1_dqsgate_read_lat_final_byte2\": 0,\n",
      "    \"f0_rdcmplx_pqtr_left_nibble03\": 22,\n",
      "    \"f1_rdcmplx_pqtr_left_nibble13\": 0,\n",
      "    \"f1_dqsgate_stg1_overflow_18\": 0,\n",
      "    \"f1_wrdqdbi_stg1_bit_status_byte5\": 0,\n",
      "    \"f1_rdcmplx_idelay_offset_nibble00\": 0,\n",
      "    \"f0_rd_comp_rise_rm_nib_05\": [\n",
      "        61,\n",
      "        128\n",
      "    ],\n",
      "    \"iobmap_dq_35_34\": 0,\n",
      "    \"wrvref_left_vref_def_rank0_byte4\": 0,\n",
      "    \"wrvref_left_vref_low_bound_rank0_byte0\": 0,\n",
      "    \"f0_wrdqdbi_deskew_dq_odly_fcrse_bit32\": 99,\n",
      "    \"f0_rd_comp_fall_rm_nib_00\": [\n",
      "        63,\n",
      "        131\n",
      "    ],\n",
      "    \"f1_wrcmplx_odly_dbi_final_byte5\": 0,\n",
      "    \"f0_wrdqdbi_left_edge_dq_bit63\": 58,\n",
      "    \"f0_wrcmplx_odly_dq_final_bit52\": 55,\n",
      "    \"f0_rdcmplx_nqtr_final_nibble15\": 88,\n",
      "    \"wrmargin_left_byte5\": 0,\n",
      "    \"f0_rdcmplx_nqtr_final_nibble12\": 84,\n",
      "    \"f0_wrprbs_right_margin_byte2\": 0,\n",
      "    \"f0_wrdqdbi_deskew_dq_odly_bit63\": 134,\n",
      "    \"f0_rdcmplx_idelay_offset_nibble01\": 0,\n",
      "    \"f1_calbisc_rl_dly_qtr_nibble00\": 0,\n",
      "    \"f0_rddq_idelay_final_bit14\": 73,\n",
      "    \"f0_rd_simp_fall_rm_nib_02\": [\n",
      "        68,\n",
      "        137\n",
      "    ],\n",
      "    \"f1_wrdqdbi_odly_dq_final_bit26\": 0,\n",
      "    \"f1_wrdqdbi_stg1_bit_status_byte3\": 0,\n",
      "    \"f1_wrdqdbi_stg2_dq_odly_bit16\": 0,\n",
      "    \"f0_rddq_qtr_deskew_nibble08\": 1,\n",
      "    \"f0_wrdqdbi_odly_dq_final_bit32\": 32,\n",
      "    \"f0_rd_comp_rise_lm_nib_09\": [\n",
      "        62,\n",
      "        127\n",
      "    ],\n",
      "    \"f0_wrlat_phy_oe_nib_final_byte0\": 0,\n",
      "    \"f0_wrdqdbi_odly_dq_final_bit12\": 65,\n",
      "    \"cal_stage_time_06\": 0,\n",
      "    \"rdvref_right_vref_low_bound_nibble09\": 0,\n",
      "    \"f1_wrdqdbi_deskew_dq_odly_fcrse_bit45\": 0,\n",
      "    \"f0_dqsgate_stg1_overflow_41\": 0,\n",
      "    \"f1_wrlvl_crse_final_rank0_byte6\": 0,\n",
      "    \"f1_rddq_pqtr_left_nibble01\": 0,\n",
      "    \"f0_wrcmplx_right_margin_byte6\": 57,\n",
      "    \"f0_rdcmplx_nqtr_right_short_fcrse_nibble03\": 170,\n",
      "    \"f0_calbisc_rl_dly_nqtr_nibble05\": 75,\n",
      "    \"f0_wr_comp_lm_byte_06\": [\n",
      "        71,\n",
      "        146\n",
      "    ],\n",
      "    \"f0_mr5_8_0\": 0,\n",
      "    \"bisc_idly2_align_nibble07\": 75,\n",
      "    \"f1_wrlvl_fine_left_rank0_byte1\": 0,\n",
      "    \"reg_safe_config0\": 440468484,\n",
      "    \"f0_wrprbs_right_margin_byte7\": 0,\n",
      "    \"f0_wrdqdbi_deskew_dq_odly_bit43\": 133,\n",
      "    \"f0_rddq_idelay_final_bit31\": 78,\n",
      "    \"f0_wrdqdbi_odly_dq_final_bit57\": 61,\n",
      "    \"f0_wrdqdbi_stg3_dq_odly_bit54\": 44,\n",
      "    \"f0_wrdqdbi_odly_dq_final_bit25\": 78,\n",
      "    \"f1_rdcmplx_nqtr_final_nibble14\": 0,\n",
      "    \"bisc_idly0_align_nibble07\": 75,\n",
      "    \"vttrack_rldlyqtr_max_nibble05\": 82,\n",
      "    \"f1_dqsgate_stg1_overflow_52\": 0,\n",
      "    \"f0_rd_simp_fall_lm_nib_10\": [\n",
      "        69,\n",
      "        134\n",
      "    ],\n",
      "    \"f1_wrdqdbi_left_edge_dq_bit36\": 0,\n",
      "    \"f0_wrdqdbi_deskew_dbi_odly_byte2\": 99,\n",
      "    \"f1_wrcmplx_left_margin_byte0\": 0,\n",
      "    \"f0_wrdqdbi_stg2_dqs_odly_byte3\": 94,\n",
      "    \"bisc_pqtr_nibble14\": 76,\n",
      "    \"f1_wrdqdbi_stg4_dqs_delay_byte1\": 0,\n",
      "    \"f1_rddq_pqtr_right_fcrse_nibble12\": 0,\n",
      "    \"f1_wrcmplx_odly_dq_final_bit00\": 0,\n",
      "    \"mgchk_bitslect\": 0,\n",
      "    \"f1_wrcmplx_odly_dqs_final_byte4\": 0,\n",
      "    \"f1_calbisc_rl_dly_pqtr_nibble15\": 0,\n",
      "    \"f1_calbisc_rl_dly_nqtr_nibble10\": 0,\n",
      "    \"f0_rddq_idelay_final_bit04\": 82,\n",
      "    \"f1_wrdqdbi_deskew_dq_odly_bit07\": 0,\n",
      "    \"ecc_en\": 0,\n",
      "    \"rdvref_right_vref_final_nibble00\": 0,\n",
      "    \"f1_rdcmplx_pqtr_final_nibble06\": 0,\n",
      "    \"f1_dqsgate_stg2_rldlyrnk_crse_rank0_byte3\": 0,\n",
      "    \"f1_dqsgate_stg2_rldlyrnk_crse_rank0_byte4\": 0,\n",
      "    \"wrvref_left_vref_def_rank0_byte1\": 0,\n",
      "    \"f1_wrlat_match_rank0_byte1\": 0,\n",
      "    \"nsu2_perf_filter_en_1\": 0,\n",
      "    \"f0_wrdqdbi_odly_dq_final_bit45\": 55,\n",
      "    \"f0_rddq_qtr_deskew_nibble13\": 1,\n",
      "    \"f0_wrdqdbi_deskew_dq_odly_bit57\": 130,\n",
      "    \"dqstrack_rldlyrnk_fine_byte6\": 69,\n",
      "    \"dqstrack_rldlyrnk_crse_min_byte7\": 5,\n",
      "    \"rdvref_left_vref_final_nibble05\": 0,\n",
      "    \"rdvref_left_vref_final_nibble13\": 0,\n",
      "    \"f0_wrdqdbi_left_edge_dq_bit29\": 88,\n",
      "    \"f0_rddq_pqtr_final_nibble15\": 86,\n",
      "    \"f0_rd_simp_fall_rm_nib_08\": [\n",
      "        69,\n",
      "        141\n",
      "    ],\n",
      "    \"phy_ranks\": 1,\n",
      "    \"f0_rddq_pqtr_right_fcrse_nibble11\": 173,\n",
      "    \"f1_wrdqdbi_stg2_dq_odly_bit41\": 0,\n",
      "    \"f0_wr_simp_rm_byte_03\": [\n",
      "        72,\n",
      "        148\n",
      "    ],\n",
      "    \"f1_wrdqdbi_stg1_dqs_delay_byte5\": 0,\n",
      "    \"bisc_idly3_align_nibble00\": 68,\n",
      "    \"wrvref_left_vref_low_bound_rank0_byte4\": 0,\n",
      "    \"f0_wrdqdbi_deskew_dq_odly_bit50\": 125,\n",
      "    \"f1_rddq_nqtr_final_nibble11\": 0,\n",
      "    \"rdvref_right_vref_final_nibble07\": 0,\n",
      "    \"f1_wrdqdbi_deskew_dq_odly_bit48\": 0,\n",
      "    \"vttrack_rldlyqtr_min_nibble08\": 73,\n",
      "    \"f1_wrcmplx_odly_dq_final_bit14\": 0,\n",
      "    \"cal_stage_time_08\": 0,\n",
      "    \"f1_wrdqdbi_deskew_dq_odly_fcrse_bit03\": 0,\n",
      "    \"f1_wrlvl_fine_final_rank0_byte3\": 0,\n",
      "    \"f1_wrdqdbi_odly_dq_final_bit35\": 0,\n",
      "    \"dc0_perf_mon_6\": 0,\n",
      "    \"f1_wrdqdbi_left_edge_dbi_byte1\": 0,\n",
      "    \"phy_oe_nib19_dly\": 0,\n",
      "    \"bisc_nqtr_nibble12\": 77,\n",
      "    \"f1_rddq_idelay_final_bit58\": 0,\n",
      "    \"f1_rddq_pqtr_left_nibble14\": 0,\n",
      "    \"f0_rdcmplx_nqtr_left_short_nibble15\": 25,\n",
      "    \"f1_wrdqdbi_deskew_dq_odly_fcrse_bit61\": 0,\n",
      "    \"f0_rd_simp_fall_lm_nib_01\": [\n",
      "        72,\n",
      "        152\n",
      "    ],\n",
      "    \"bisc_pqtr_nibble15\": 76,\n",
      "    \"f0_wrlvl_crse_final_rank0_byte4\": 3,\n",
      "    \"vttrack_rldlyqtr_nibble07\": 79,\n",
      "    \"bisc_mon_align_nibble14\": 0,\n",
      "    \"f0_wrdqdbi_odly_dq_final_bit14\": 66,\n",
      "    \"f0_rdcmplx_nqtr_left_nibble09\": 27,\n",
      "    \"f0_wrcmplx_odly_dq_final_bit62\": 83,\n",
      "    \"f0_rd_comp_fall_ctp_nib_06\": [\n",
      "        84,\n",
      "        173\n",
      "    ],\n",
      "    \"f1_wrdqdbi_deskew_dq_odly_bit32\": 0,\n",
      "    \"ddrmc_isr_uc1_ecc0\": 0,\n",
      "    \"f0_wrdqdbi_deskew_dq_odly_fcrse_bit40\": 135,\n",
      "    \"phy_oe_nib11_dly\": 0,\n",
      "    \"f1_dqsgate_stg1_overflow_42\": 0,\n",
      "    \"f1_wrlvl_fine_right_rank0_byte4\": 0,\n",
      "    \"f1_wrdqdbi_left_edge_dq_bit50\": 0,\n",
      "    \"cal_error_phy_nibble_8_0\": 0,\n",
      "    \"f1_wrlat_match_rank0_byte2\": 0,\n",
      "    \"f1_wrlat_phy_data_nib_final_byte0\": 0,\n",
      "    \"cal_stage_time_43\": 0,\n",
      "    \"wrvref_left_vref_final_rank0_byte2\": 0,\n",
      "    \"f0_rd_simp_fall_ctp_nib_13\": [\n",
      "        94,\n",
      "        191\n",
      "    ],\n",
      "    \"f1_wrdqdbi_deskew_dq_odly_fcrse_bit56\": 0,\n",
      "    \"wrvref_right_vref_upp_bound_rank0_byte5\": 0,\n",
      "    \"f0_wrdqdbi_stg2_dq_odly_bit60\": 58,\n",
      "    \"f0_wrdqdbi_deskew_dq_odly_bit23\": 101,\n",
      "    \"f0_wrdqdbi_deskew_dq_odly_bit04\": 129,\n",
      "    \"f0_wrdqdbi_stg6_dbi_odly_byte2\": 19,\n",
      "    \"rdvref_left_vref_low_bound_nibble07\": 0,\n",
      "    \"f0_wrdqdbi_stg3_dq_odly_bit23\": 19,\n",
      "    \"f0_wrdqdbi_stg2_dq_odly_bit42\": 55,\n",
      "    \"f0_rdprbs_pqtr_right_margin_nibble09\": 0,\n",
      "    \"cal_stage_time_22\": 0,\n",
      "    \"f1_wrdqdbi_deskew_dq_odly_bit14\": 0,\n",
      "    \"f1_rddq_qtr_deskew_nibble10\": 0,\n",
      "    \"f0_wrcmplx_odly_dq_final_bit19\": 27,\n",
      "    \"f1_dqsgate_stg1_overflow_08\": 0,\n",
      "    \"rdvref_right_vref_def_nibble15\": 0,\n",
      "    \"f0_rd_comp_rise_ctp_nib_03\": [\n",
      "        87,\n",
      "        177\n",
      "    ],\n",
      "    \"f0_wrdqdbi_deskew_dq_odly_bit00\": 133,\n",
      "    \"mgchk_enable\": 0,\n",
      "    \"f0_rdcmplx_idelay_offset_nibble05\": 0,\n",
      "    \"f1_dqsgate_stg1_overflow_37\": 0,\n",
      "    \"f1_dqsgate_stg1_overflow_24\": 0,\n",
      "    \"dc0_perf_mon_2\": 0,\n",
      "    \"cal_stage.06_F0_WRITE_DQ_DBI_CAL\": \"Pass\",\n",
      "    \"f1_wrdqdbi_stg6_dbi_odly_byte1\": 0,\n",
      "    \"f0_wrdqdbi_left_edge_dbi_byte3\": 78,\n",
      "    \"f1_wrdqdbi_stg3_dq_odly_bit14\": 0,\n",
      "    \"f1_wrcmplx_odly_dq_final_bit04\": 0,\n",
      "    \"rdmargin_pqtr_left_nibble05\": 0,\n",
      "    \"cal_warning_45\": 0,\n",
      "    \"f1_dqsgate_stg1_rldlyrnk_fine_rank0_byte7\": 0,\n",
      "    \"f1_rdcmplx_idelay_offset_nibble04\": 0,\n",
      "    \"f1_wrdqdbi_odly_dbi_final_byte7\": 0,\n",
      "    \"wrvref_right_vref_upp_bound_rank0_byte0\": 0,\n",
      "    \"f0_calbisc_rl_dly_qtr_nibble08\": 77,\n",
      "    \"f0_rd_simp_fall_lm_nib_05\": [\n",
      "        69,\n",
      "        143\n",
      "    ],\n",
      "    \"phy_oe_nib13_dly\": 0,\n",
      "    \"f1_wrdqdbi_stg2_dq_odly_bit28\": 0,\n",
      "    \"f0_dqsgate_stg1_rldlyrnk_fine_rank0_byte5\": 39,\n",
      "    \"f1_wrdqdbi_odly_dq_final_bit06\": 0,\n",
      "    \"f1_rdprbs_pqtr_right_margin_nibble11\": 0,\n",
      "    \"f1_rddq_nqtr_left_nibble07\": 0,\n",
      "    \"f1_wrdqdbi_deskew_dq_odly_bit20\": 0,\n",
      "    \"bisc_idly2_align_nibble10\": 68,\n",
      "    \"f1_mr3_8_0\": 32,\n",
      "    \"cal_warning_52\": 0,\n",
      "    \"f1_wrprbs_left_margin_byte7\": 0,\n",
      "    \"f0_wrdqdbi_left_margin_byte2\": 80,\n",
      "    \"iobmap_dq_51_50\": 0,\n",
      "    \"f1_wrlvl_offset_rank0_byte5\": 0,\n",
      "    \"f0_wrcmplx_odly_dq_final_bit51\": 49,\n",
      "    \"f1_wrdqdbi_stg1_dqs_delay_byte1\": 0,\n",
      "    \"bisc_nqtr_nibble14\": 78,\n",
      "    \"f1_wrdqdbi_deskew_dbi_odly_byte7\": 0,\n",
      "    \"cal_warning_69\": 0,\n",
      "    \"f0_wrcmplx_right_margin_fcrse_byte0\": 50,\n",
      "    \"f1_wrcmplx_odly_dq_final_bit11\": 0,\n",
      "    \"bisc_idly1_align_nibble09\": 78,\n",
      "    \"f0_wrdqdbi_deskew_dq_odly_bit05\": 138,\n",
      "    \"f1_rddq_pqtr_left_nibble12\": 0,\n",
      "    \"f0_rdprbs_nqtr_right_margin_nibble11\": 0,\n",
      "    \"bisc_mon_align_nibble10\": 0,\n",
      "    \"f1_wrdqdbi_stg3_dq_odly_bit45\": 0,\n",
      "    \"f1_wrdqdbi_stg2_dq_odly_bit51\": 0,\n",
      "    \"f1_rddq_pqtr_final_nibble14\": 0,\n",
      "    \"mgchk_pattern_config_2\": 0,\n",
      "    \"f0_wrlat_xpi_wrdata_all_final\": 16,\n",
      "    \"f1_dqsgate_stg1_overflow_32\": 0,\n",
      "    \"f0_wrdqdbi_odly_dq_final_bit44\": 77,\n",
      "    \"cal_stage_time_30\": 0,\n",
      "    \"rdvref_vref_low_bound_nibble08\": 0,\n",
      "    \"f1_wrdqdbi_stg2_dq_odly_bit19\": 0,\n",
      "    \"f0_wrcmplx_odly_dq_final_bit20\": 34,\n",
      "    \"f1_rddq_nqtr_right_nibble09\": 0,\n",
      "    \"header_ver\": 1,\n",
      "    \"phy_rden3_dly\": 27,\n",
      "    \"f0_wrcmplx_odly_dq_final_bit33\": 26,\n",
      "    \"f0_wrdqdbi_left_edge_dq_bit14\": 65,\n",
      "    \"ddrmc_pcsr_status_calerror\": 0,\n",
      "    \"rdvref_left_vref_def_nibble13\": 0,\n",
      "    \"f0_wrprbs_right_margin_byte5\": 0,\n",
      "    \"bisc_idly4_align_nibble14\": 73,\n",
      "    \"f0_rdprbs_nqtr_left_margin_nibble01\": 0,\n",
      "    \"cal_status_init_done\": 1,\n",
      "    \"f0_rdcmplx_nqtr_left_nibble03\": 25,\n",
      "    \"cal_stage_time_05\": 0,\n",
      "    \"f0_dqsgate_stg1_overflow_44\": 0,\n",
      "    \"f1_wrdqdbi_odly_dq_final_bit50\": 0,\n",
      "    \"f1_rdcmplx_nqtr_final_nibble00\": 0,\n",
      "    \"dc1_perf_mon_8\": 0,\n",
      "    \"f0_rd_simp_rise_rm_nib_03\": [\n",
      "        73,\n",
      "        148\n",
      "    ],\n",
      "    \"f1_rdprbs_pqtr_right_margin_nibble05\": 0,\n",
      "    \"f1_wrdqdbi_stg3_dq_odly_bit05\": 0,\n",
      "    \"reg_safe_config4\": 604004710,\n",
      "    \"iobmap_dq_63_62\": 0,\n",
      "    \"f1_wrdqdbi_stg3_dq_odly_bit43\": 0,\n",
      "    \"f0_wrdqdbi_deskew_dq_odly_bit09\": 133,\n",
      "    \"f1_dqsgate_stg1_overflow_59\": 0,\n",
      "    \"f0_wrcmplx_left_margin_fcrse_byte3\": 70,\n",
      "    \"f0_dqsgate_stg1_overflow_38\": 0,\n",
      "    \"cal_warning_03\": 0,\n",
      "    \"f0_rd_simp_fall_rm_nib_00\": [\n",
      "        74,\n",
      "        154\n",
      "    ],\n",
      "    \"f0_wrdqdbi_deskew_dq_odly_bit15\": 131,\n",
      "    \"f0_wr_simp_rm_byte_04\": [\n",
      "        70,\n",
      "        143\n",
      "    ],\n",
      "    \"f1_wrlvl_fine_right_rank0_byte1\": 0,\n",
      "    \"cal_warning_43\": 0,\n",
      "    \"cal_warning_23\": 0,\n",
      "    \"bisc_rl_dly_qtr_nibble14\": 75,\n",
      "    \"iobmap_dqs_11\": 0,\n",
      "    \"f0_rdcmplx_nqtr_right_short_fcrse_nibble04\": 176,\n",
      "    \"f1_wrdqdbi_stg3_dq_odly_bit17\": 0,\n",
      "    \"f1_wrlat_wldlyrnk_crse_final_rank0_byte1\": 0,\n",
      "    \"f0_dqsgate_stg1_overflow_30\": 0,\n",
      "    \"f0_wrdqdbi_left_edge_dq_bit27\": 89,\n",
      "    \"f0_dqsgate_stg2_read_lat_rank0_byte5\": 27,\n",
      "    \"f0_rddq_qtr_deskew_nibble02\": 1,\n",
      "    \"f0_wrlvl_fine_right_rank0_byte2\": 21,\n",
      "    \"f1_rddq_nqtr_right_nibble13\": 0,\n",
      "    \"f1_rdcmplx_pqtr_right_short_nibble07\": 0,\n",
      "    \"phy_rden11_dly\": 22,\n",
      "    \"f0_wrdqdbi_stg2_dq_odly_bit31\": 78,\n",
      "    \"bisc_idly3_align_nibble02\": 68,\n",
      "    \"cal_warning_40\": 0,\n",
      "    \"bisc_pqtr_nibble01\": 75,\n",
      "    \"f0_rdcmplx_nqtr_right_short_nibble06\": 164,\n",
      "    \"f1_wrdqdbi_stg2_dqs_odly_byte3\": 0,\n",
      "    \"f0_rd_comp_fall_ctp_nib_10\": [\n",
      "        89,\n",
      "        174\n",
      "    ],\n",
      "    \"f1_rdprbs_pqtr_right_margin_nibble13\": 0,\n",
      "    \"f0_wrprbs_left_margin_byte6\": 0,\n",
      "    \"f1_wrdqdbi_stg3_dq_odly_bit41\": 0,\n",
      "    \"f1_rddq_pqtr_final_nibble09\": 0,\n",
      "    \"f1_wrdqdbi_stg1_byte_status_00\": 0,\n",
      "    \"cal_stage.09_F0_WRITE_DQ_DBI_CAL_COMPLEX\": \"Pass\",\n",
      "    \"f0_calbisc_rl_dly_pqtr_nibble07\": 76,\n",
      "    \"f1_rdcmplx_pqtr_left_nibble15\": 0,\n",
      "    \"mgchk_pattern_mode\": 0,\n",
      "    \"f1_rdcmplx_pqtr_right_nibble05\": 0,\n",
      "    \"cal_error_bit_phy_nibble_20\": 0,\n",
      "    \"rdmargin_nqtr_left_nibble08\": 0,\n",
      "    \"nsu1_perf_filter_0_0\": 0,\n",
      "    \"vttrack_rldlyqtr_max_nibble13\": 80,\n",
      "    \"rdvref_vref_final_nibble00\": 0,\n",
      "    \"f1_dqsgate_stg1_overflow_36\": 0,\n",
      "    \"f1_wrdqdbi_stg1_dqs_delay_byte3\": 0,\n",
      "    \"f1_wrdqdbi_odly_dq_final_bit63\": 0,\n",
      "    \"f0_wrdqdbi_left_margin_byte1\": 72,\n",
      "    \"f1_wrdqdbi_deskew_dq_odly_fcrse_bit38\": 0,\n",
      "    \"rdmargin_nqtr_left_nibble11\": 0,\n",
      "    \"f0_rddq_pqtr_right_nibble08\": 164,\n",
      "    \"f1_wrdqdbi_deskew_dq_odly_fcrse_bit06\": 0,\n",
      "    \"f0_rd_simp_fall_lm_nib_04\": [\n",
      "        69,\n",
      "        138\n",
      "    ],\n",
      "    \"rdvref_left_vref_upp_bound_nibble03\": 0,\n",
      "    \"bisc_pqtr_align_nibble03\": 0,\n",
      "    \"bisc_rl_dly_qtr_nibble12\": 75,\n",
      "    \"f1_wrdqdbi_stg2_dq_odly_bit27\": 0,\n",
      "    \"bisc_pqtr_nibble05\": 74,\n",
      "    \"ub_isntr_ue\": 0,\n",
      "    \"f0_wrcmplx_odly_dq_final_bit30\": 89,\n",
      "    \"bisc_rl_dly_qtr_nibble00\": 76,\n",
      "    \"f0_wrdqdbi_stg1_byte_status_00\": 511,\n",
      "    \"f1_rddq_idelay_final_bit30\": 0,\n",
      "    \"f1_calbisc_rl_dly_nqtr_nibble15\": 0,\n",
      "    \"f0_lp4_mr23\": 0,\n",
      "    \"f0_wrdqdbi_deskew_dq_odly_fcrse_bit04\": 121,\n",
      "    \"f0_dqsgate_stg2_read_lat_rank0_byte6\": 27,\n",
      "    \"f1_wrcmplx_odly_dq_final_bit18\": 0,\n",
      "    \"f0_dqsgate_read_lat_final_byte0\": 26,\n",
      "    \"rdmargin_pqtr_left_nibble09\": 0,\n",
      "    \"f0_wrcmplx_odly_dq_final_bit38\": 46,\n",
      "    \"cal_seq_status_17\": 403,\n",
      "    \"rdvref_right_vref_def_nibble07\": 0,\n",
      "    \"f0_wrcmplx_odly_dq_final_bit27\": 95,\n",
      "    \"f0_wrdqdbi_odly_dqs_final_byte3\": 95,\n",
      "    \"f1_wrdqdbi_deskew_dq_odly_fcrse_bit50\": 0,\n",
      "    \"f1_wrdqdbi_stg2_dq_odly_bit46\": 0,\n",
      "    \"f1_lp4_mr13\": 0,\n",
      "    \"f0_rddq_pqtr_left_nibble01\": 18,\n",
      "    \"f0_wrdqdbi_stg4_byte_status_01\": 511,\n",
      "    \"f1_wrdqdbi_odly_dq_final_bit31\": 0,\n",
      "    \"f0_wrdqdbi_stg3_dq_odly_bit36\": 29,\n",
      "    \"f0_wr_comp_ctp_byte_01\": [\n",
      "        308,\n",
      "        628\n",
      "    ],\n",
      "    \"f0_dqsgate_stg1_overflow_21\": 0,\n",
      "    \"f1_rdcmplx_nqtr_left_short_nibble04\": 0,\n",
      "    \"f0_rd_comp_fall_rm_nib_15\": [\n",
      "        63,\n",
      "        133\n",
      "    ],\n",
      "    \"bisc_idly4_align_nibble03\": 77,\n",
      "    \"f0_dqsgate_read_lat_final_byte7\": 28,\n",
      "    \"f0_wrdqdbi_stg3_dq_odly_bit27\": 78,\n",
      "    \"f0_wrcmplx_odly_dq_final_bit12\": 75,\n",
      "    \"f1_dqsgate_stg1_rldlyrnk_fine_rank0_byte0\": 0,\n",
      "    \"dqstrack_rldlyrnk_crse_max_byte4\": 5,\n",
      "    \"f1_wrcmplx_odly_dq_final_bit60\": 0,\n",
      "    \"f0_rdcmplx_pqtr_right_short_nibble02\": 167,\n",
      "    \"rdmargin_pqtr_right_nibble06\": 0,\n",
      "    \"dqstrack_rldlyrnk_crse_min_byte3\": 2,\n",
      "    \"cal_seq_status_15\": 401,\n",
      "    \"cal_stage_time_13\": 74,\n",
      "    \"iobmap_dqs_4\": 0,\n",
      "    \"f1_wrlvl_crse_stg1_rank0_byte0\": 0,\n",
      "    \"cal_warning_17\": 0,\n",
      "    \"f1_wrcmplx_right_margin_fcrse_byte1\": 0,\n",
      "    \"cal_error_bit_phy_nibble_15\": 0,\n",
      "    \"f1_rdprbs_nqtr_right_margin_nibble08\": 0,\n",
      "    \"f0_rd_comp_fall_lm_nib_07\": [\n",
      "        56,\n",
      "        113\n",
      "    ],\n",
      "    \"rdvref_left_vref_def_nibble11\": 0,\n",
      "    \"mgchk_pattern_config_0\": 0,\n",
      "    \"f0_wrdqdbi_deskew_dq_odly_fcrse_bit14\": 132,\n",
      "    \"f1_dqsgate_stg1_overflow_07\": 0,\n",
      "    \"f0_wrdqdbi_stg2_dq_odly_bit05\": 51,\n",
      "    \"cal_stage_time_21\": 0,\n",
      "    \"f0_wr_comp_rm_byte_01\": [\n",
      "        50,\n",
      "        102\n",
      "    ],\n",
      "    \"cal_stage.10_EN_VT_TRACK\": \"Pass\",\n",
      "    \"bisc_idly3_align_nibble09\": 76,\n",
      "    \"mgchk_pattern_config_1\": 0,\n",
      "    \"bisc_mon_align_nibble04\": 0,\n",
      "    \"f0_wrprbs_left_margin_byte3\": 0,\n",
      "    \"f0_rdcmplx_nqtr_right_short_nibble08\": 167,\n",
      "    \"f0_calbisc_rl_dly_pqtr_nibble00\": 78,\n",
      "    \"f1_wrdqdbi_stg3_dq_odly_bit32\": 0,\n",
      "    \"ddrmc_isr_na_cmd_fatal\": 0,\n",
      "    \"f1_dqsgate_stg1_rldlyrnk_fine_rank0_byte6\": 0,\n",
      "    \"f1_wrcmplx_left_margin_fcrse_byte5\": 0,\n",
      "    \"f1_wrdqdbi_left_edge_dq_bit58\": 0,\n",
      "    \"f1_rdcmplx_pqtr_final_nibble13\": 0,\n",
      "    \"f1_rddq_nqtr_right_fcrse_nibble07\": 0,\n",
      "    \"bisc_idly1_align_nibble02\": 71,\n",
      "    \"rdmargin_pqtr_right_nibble09\": 0,\n",
      "    \"f1_wrdqdbi_deskew_dq_odly_bit15\": 0,\n",
      "    \"f1_wrdqdbi_stg2_dq_odly_bit56\": 0,\n",
      "    \"f1_wrdqdbi_deskew_dq_odly_fcrse_bit29\": 0,\n",
      "    \"f0_wrdqdbi_stg3_dq_odly_bit53\": 44,\n",
      "    \"wrvref_right_vref_def_rank0_byte7\": 0,\n",
      "    \"f1_wrlvl_fine_left_rank0_byte3\": 0,\n",
      "    \"f1_rdcmplx_pqtr_final_nibble07\": 0,\n",
      "    \"phy_rden17_dly\": 22,\n",
      "    \"f1_dqsgate_rldlyrnk_crse_final_rank0_byte3\": 0,\n",
      "    \"wrvref_vref_low_bound_rank0_byte7\": 0,\n",
      "    \"f0_wr_simp_rm_byte_07\": [\n",
      "        62,\n",
      "        129\n",
      "    ],\n",
      "    \"f0_calbisc_rl_dly_qtr_nibble03\": 76,\n",
      "    \"mgchk_def_rd_vref_0\": 373,\n",
      "    \"f0_dqsgate_stg1_overflow_35\": 0,\n",
      "    \"f1_wrdqdbi_odly_dq_final_bit30\": 0,\n",
      "    \"f0_wrdqdbi_stg5_dqs_odly_byte2\": 35,\n",
      "    \"f0_dqsgate_stg1_overflow_12\": 0,\n",
      "    \"f0_rddq_nqtr_right_nibble09\": 163,\n",
      "    \"f0_wrdqdbi_odly_dq_final_bit41\": 56,\n",
      "    \"f1_wrdqdbi_stg2_dq_odly_bit58\": 0,\n",
      "    \"f0_rdcmplx_pqtr_left_nibble09\": 25,\n",
      "    \"f1_rdcmplx_pqtr_left_short_nibble09\": 0,\n",
      "    \"cal_warning_37\": 0,\n",
      "    \"bisc_pqtr_align_nibble04\": 0,\n",
      "    \"f0_wrdqdbi_stg3_dq_odly_bit58\": 58,\n",
      "    \"f0_wrcmplx_odly_dq_final_bit05\": 71,\n",
      "    \"f0_wrdqdbi_deskew_dbi_odly_fcrse_byte5\": 125,\n",
      "    \"f1_wrdqdbi_left_edge_dbi_byte6\": 0,\n",
      "    \"f0_wrdqdbi_left_edge_dq_bit03\": 48,\n",
      "    \"f0_rddq_qtr_deskew_nibble04\": 1,\n",
      "    \"cal_stage_time_20\": 0,\n",
      "    \"f1_dqsgate_stg1_overflow_02\": 0,\n",
      "    \"rdmargin_nqtr_left_nibble12\": 0,\n",
      "    \"f1_wrcmplx_right_margin_byte2\": 0,\n",
      "    \"f1_rdcmplx_pqtr_right_short_nibble12\": 0,\n",
      "    \"bisc_idly4_align_nibble13\": 81,\n",
      "    \"vttrack_rldlyqtr_max_nibble15\": 81,\n",
      "    \"f0_mr1_rtt_nom\": 219,\n",
      "    \"f1_calbisc_rl_dly_pqtr_nibble03\": 0,\n",
      "    \"dc1_perf_mon_4\": 0,\n",
      "    \"rdvref_right_vref_final_nibble08\": 0,\n",
      "    \"f0_wrdqdbi_stg2_dq_odly_bit29\": 78,\n",
      "    \"phy_rden23_dly\": 25,\n",
      "    \"ddrmc_isr_nsu_fatal0\": 0,\n",
      "    \"dc1_perf_mon_2\": 0,\n",
      "    \"f1_rddq_pqtr_left_nibble10\": 0,\n",
      "    \"f1_wrdqdbi_deskew_dq_odly_bit25\": 0,\n",
      "    \"f1_dqsgate_stg1_rldlyrnk_crse_rank0_byte3\": 0,\n",
      "    \"f1_wrdqdbi_stg3_dq_odly_bit10\": 0,\n",
      "    \"f1_wrdqdbi_left_edge_dq_bit47\": 0,\n",
      "    \"f1_wrdqdbi_deskew_dq_odly_fcrse_bit23\": 0,\n",
      "    \"cal_stage_time_28\": 0,\n",
      "    \"f1_wrdqdbi_odly_dq_final_bit46\": 0,\n",
      "    \"f0_rd_simp_rise_ctp_nib_03\": [\n",
      "        90,\n",
      "        183\n",
      "    ],\n",
      "    \"f0_rddq_nqtr_left_nibble01\": 25,\n",
      "    \"f1_wrcmplx_odly_dq_final_bit03\": 0,\n",
      "    \"f0_dqsgate_stg1_overflow_58\": 0,\n",
      "    \"f0_wrdqdbi_stg3_dq_odly_bit03\": 51,\n",
      "    \"f0_wrdqdbi_odly_dq_final_bit28\": 78,\n",
      "    \"f1_wrdqdbi_stg3_dq_odly_bit58\": 0,\n",
      "    \"rdmargin_nqtr_right_nibble09\": 0,\n",
      "    \"iobmap_dq_13_12\": 0,\n",
      "    \"f0_dqsgate_stg1_overflow_33\": 0,\n",
      "    \"f0_rddq_nqtr_right_nibble11\": 165,\n",
      "    \"f0_wrdqdbi_stg2_dq_odly_bit00\": 51,\n",
      "    \"f0_wrprbs_right_margin_byte3\": 0,\n",
      "    \"cal_warning_54\": 0,\n",
      "    \"f1_wrdqdbi_stg2_dq_odly_bit36\": 0,\n",
      "    \"f1_wrdqdbi_odly_dbi_final_byte0\": 0,\n",
      "    \"f1_rdcmplx_nqtr_left_nibble04\": 0,\n",
      "    \"f0_rd_comp_rise_lm_nib_13\": [\n",
      "        65,\n",
      "        133\n",
      "    ],\n",
      "    \"cal_warning_10\": 0,\n",
      "    \"f0_wrdqdbi_deskew_dbi_odly_byte0\": 131,\n",
      "    \"f0_rddq_pqtr_left_nibble06\": 18,\n",
      "    \"f1_rddq_pqtr_right_fcrse_nibble05\": 0,\n",
      "    \"f1_wrdqdbi_odly_dq_final_bit27\": 0,\n",
      "    \"f0_rdprbs_pqtr_left_margin_nibble14\": 0,\n",
      "    \"f1_rddq_idelay_final_bit61\": 0,\n",
      "    \"f0_rdcmplx_pqtr_right_nibble12\": 150,\n",
      "    \"f1_wrdqdbi_deskew_dq_odly_fcrse_bit51\": 0,\n",
      "    \"f1_wrdqdbi_deskew_dq_odly_bit22\": 0,\n",
      "    \"f0_dqsgate_stg1_rldlyrnk_fine_rank0_byte4\": 38,\n",
      "    \"cal_stage.07_F0_WRITE_LATENCY_CAL\": \"Pass\",\n",
      "    \"rdvref_left_vref_upp_bound_nibble02\": 0,\n",
      "    \"f0_calbisc_rl_dly_nqtr_nibble14\": 74,\n",
      "    \"nsu2_perf_filter_1_0\": 0,\n",
      "    \"f1_rdcmplx_pqtr_right_short_nibble01\": 0,\n",
      "    \"f1_rdprbs_pqtr_right_margin_nibble02\": 0,\n",
      "    \"f0_rd_simp_rise_ctp_nib_00\": [\n",
      "        86,\n",
      "        172\n",
      "    ],\n",
      "    \"cal_stage_time_09\": 0,\n",
      "    \"f1_wrdqdbi_deskew_dq_odly_fcrse_bit57\": 0,\n",
      "    \"f0_rdprbs_pqtr_left_margin_nibble10\": 0,\n",
      "    \"phy_oe_nib2_dly\": 1,\n",
      "    \"f1_rdcmplx_pqtr_right_short_nibble09\": 0,\n",
      "    \"f1_wrcmplx_odly_dq_final_bit40\": 0,\n",
      "    \"f0_wrdqdbi_stg4_dqs_delay_byte3\": 14,\n",
      "    \"f0_wrlvl_fine_left_rank0_byte0\": 49,\n",
      "    \"f1_wrdqdbi_deskew_dq_odly_bit31\": 0,\n",
      "    \"f1_rddq_nqtr_final_nibble08\": 0,\n",
      "    \"f0_wrlvl_crse_final_rank0_byte1\": 3,\n",
      "    \"f1_wrdqdbi_stg3_dq_odly_bit27\": 0,\n",
      "    \"rdvref_right_vref_low_bound_nibble03\": 0,\n",
      "    \"f1_wrlvl_offset_rank0_byte3\": 0,\n",
      "    \"f0_wrdqdbi_left_edge_dq_bit44\": 74,\n",
      "    \"f1_wrdqdbi_deskew_dq_odly_fcrse_bit35\": 0,\n",
      "    \"f1_wrdqdbi_deskew_dq_odly_fcrse_bit17\": 0,\n",
      "    \"f1_wrcmplx_odly_dq_final_bit42\": 0,\n",
      "    \"f0_wrdqdbi_deskew_dq_odly_bit27\": 160,\n",
      "    \"f0_rdcmplx_pqtr_right_short_nibble10\": 168,\n",
      "    \"f0_rd_simp_rise_lm_nib_12\": [\n",
      "        72,\n",
      "        150\n",
      "    ],\n",
      "    \"f0_calbisc_rl_dly_pqtr_nibble09\": 76,\n",
      "    \"rdvref_vref_upp_bound_nibble12\": 0,\n",
      "    \"f1_rddq_pqtr_right_fcrse_nibble00\": 0,\n",
      "    \"cal_warning_79\": 0,\n",
      "    \"bisc_idly4_align_nibble11\": 80,\n",
      "    \"f0_wrdqdbi_stg2_dqs_odly_byte5\": 71,\n",
      "    \"wrvref_right_vref_def_rank0_byte0\": 0,\n",
      "    \"f0_wrdqdbi_odly_dq_final_bit53\": 57,\n",
      "    \"f0_wrdqdbi_odly_dbi_final_byte1\": 68,\n",
      "    \"f1_wrdqdbi_stg6_dbi_odly_byte4\": 0,\n",
      "    \"rdmargin_pqtr_right_nibble01\": 0,\n",
      "    \"f0_rddq_nqtr_left_nibble03\": 23,\n",
      "    \"f0_wr_comp_rm_byte_05\": [\n",
      "        61,\n",
      "        124\n",
      "    ],\n",
      "    \"phy_rden13_dly\": 22,\n",
      "    \"f1_rdcmplx_nqtr_right_short_nibble01\": 0,\n",
      "    \"f1_wrdqdbi_stg5_dqs_odly_byte6\": 0,\n",
      "    \"f1_wrlvl_noise_fcrse_rank0_byte1\": 0,\n",
      "    \"f0_wrdqdbi_stg5_dqs_odly_byte4\": 45,\n",
      "    \"f0_wrdqdbi_stg3_dq_odly_bit31\": 78,\n",
      "    \"nsu3_perf_filter_0_1\": 0,\n",
      "    \"bisc_idly3_align_nibble12\": 68,\n",
      "    \"f0_wrcmplx_right_margin_byte7\": 64,\n",
      "    \"f1_wrlvl_fine_right_rank0_byte7\": 0,\n",
      "    \"cal_error_bit_phy_nibble_10\": 0,\n",
      "    \"f0_wrdqdbi_stg2_dq_odly_bit44\": 55,\n",
      "    \"vttrack_rldlyqtr_min_nibble13\": 73,\n",
      "    \"f0_rddq_pqtr_right_nibble06\": 165,\n",
      "    \"f0_wrdqdbi_deskew_dq_odly_fcrse_bit11\": 122,\n",
      "    \"rdmargin_pqtr_left_nibble06\": 0,\n",
      "    \"f0_wrprbs_left_margin_byte2\": 0,\n",
      "    \"f1_wrlat_phy_data_nib_final_byte7\": 0,\n",
      "    \"f1_rdcmplx_nqtr_right_nibble03\": 0,\n",
      "    \"f0_rd_simp_fall_rm_nib_11\": [\n",
      "        69,\n",
      "        141\n",
      "    ],\n",
      "    \"f1_calbisc_rl_dly_qtr_nibble01\": 0,\n",
      "    \"f0_calbisc_rl_dly_nqtr_nibble15\": 74,\n",
      "    \"vttrack_rldlyqtr_min_nibble02\": 73,\n",
      "    \"f1_dqsgate_stg1_overflow_16\": 0,\n",
      "    \"f0_rdprbs_nqtr_right_margin_nibble10\": 0,\n",
      "    \"f1_wrlvl_crse_final_rank0_byte1\": 0,\n",
      "    \"f0_dqsgate_rldlyrnk_crse_final_rank0_byte5\": 2,\n",
      "    \"f1_wrdqdbi_deskew_dq_odly_bit52\": 0,\n",
      "    \"f0_wrdqdbi_odly_dq_final_bit33\": 22,\n",
      "    \"f0_wrdqdbi_deskew_dq_odly_fcrse_bit20\": 99,\n",
      "    \"rdmargin_nqtr_left_nibble09\": 0,\n",
      "    \"rdvref_right_vref_low_bound_nibble05\": 0,\n",
      "    \"f0_rddq_qtr_deskew_nibble14\": 1,\n",
      "    \"f0_rddq_pqtr_final_nibble08\": 91,\n",
      "    \"bisc_idly3_align_nibble13\": 78,\n",
      "    \"mc_loc\": \"x0y0\",\n",
      "    \"ddrmc_pcsr_status_incal\": 0,\n",
      "    \"rdmargin_nqtr_left_nibble04\": 0,\n",
      "    \"phy_rden19_dly\": 22,\n",
      "    \"f1_wrdqdbi_deskew_dq_odly_bit51\": 0,\n",
      "    \"f0_dqsgate_rldlyrnk_crse_final_rank0_byte6\": 3,\n",
      "    \"f1_wrdqdbi_left_edge_dq_bit29\": 0,\n",
      "    \"f1_wrdqdbi_deskew_dbi_odly_byte1\": 0,\n",
      "    \"f1_wrdqdbi_odly_dq_final_bit39\": 0,\n",
      "    \"f0_wrdqdbi_left_edge_dq_bit22\": 20,\n",
      "    \"f0_rdprbs_nqtr_left_margin_nibble13\": 0,\n",
      "    \"f0_wrcmplx_right_margin_byte1\": 50,\n",
      "    \"f0_wrcmplx_odly_dq_final_bit44\": 83,\n",
      "    \"f0_rddq_idelay_final_bit56\": 81,\n",
      "    \"f0_rddq_nqtr_left_nibble05\": 30,\n",
      "    \"f0_wrdqdbi_deskew_dq_odly_bit18\": 101,\n",
      "    \"rdvref_vref_upp_bound_nibble05\": 0,\n",
      "    \"f0_rd_comp_fall_ctp_nib_05\": [\n",
      "        87,\n",
      "        181\n",
      "    ],\n",
      "    \"f0_calbisc_rl_dly_nqtr_nibble13\": 77,\n",
      "    \"f1_rddq_pqtr_right_nibble10\": 0,\n",
      "    \"f0_rddq_pqtr_right_nibble05\": 163,\n",
      "    \"f0_rdprbs_nqtr_left_margin_nibble05\": 0,\n",
      "    \"f0_wrdqdbi_stg2_dq_odly_bit35\": 29,\n",
      "    \"f0_period\": 625,\n",
      "    \"f1_rdcmplx_nqtr_final_nibble01\": 0,\n",
      "    \"f0_wrdqdbi_right_margin_byte3\": 72,\n",
      "    \"iobmap_dqs_2\": 0,\n",
      "    \"f1_wrdqdbi_stg3_dq_odly_bit37\": 0,\n",
      "    \"f1_rdcmplx_pqtr_left_nibble09\": 0,\n",
      "    \"f0_wrdqdbi_odly_dbi_final_byte3\": 78,\n",
      "    \"cal_warning_07\": 0,\n",
      "    \"phy_rden20_dly\": 25,\n",
      "    \"bisc_idly0_align_nibble10\": 67,\n",
      "    \"f0_rd_comp_fall_lm_nib_13\": [\n",
      "        59,\n",
      "        119\n",
      "    ],\n",
      "    \"rdmargin_pqtr_left_nibble14\": 0,\n",
      "    \"f0_rdprbs_nqtr_right_margin_nibble08\": 0,\n",
      "    \"f1_rdcmplx_nqtr_left_short_nibble00\": 0,\n",
      "    \"f0_rd_simp_fall_ctp_nib_06\": [\n",
      "        95,\n",
      "        195\n",
      "    ],\n",
      "    \"f1_calbisc_rl_dly_pqtr_nibble05\": 0,\n",
      "    \"f0_wrdqdbi_stg2_dq_odly_bit43\": 55,\n",
      "    \"f0_rdcmplx_pqtr_left_short_nibble10\": 28,\n",
      "    \"f0_wrlvl_fine_right_rank0_byte4\": 31,\n",
      "    \"f1_rdcmplx_nqtr_left_short_nibble05\": 0,\n",
      "    \"cal_stage.12_CAL_DONE\": \"Pass\",\n",
      "    \"f0_rdcmplx_nqtr_left_nibble05\": 32,\n",
      "    \"f1_rdprbs_pqtr_left_margin_nibble05\": 0,\n",
      "    \"f0_wrcmplx_odly_dqs_final_byte0\": 67,\n",
      "    \"f1_rddq_nqtr_right_nibble03\": 0,\n",
      "    \"bisc_idly4_align_nibble02\": 72,\n",
      "    \"f0_rddq_idelay_final_bit16\": 74,\n",
      "    \"f1_rddq_pqtr_final_nibble00\": 0,\n",
      "    \"iobmap_dqs_6\": 0,\n",
      "    \"f0_dqsgate_stg1_rldlyrnk_fine_rank0_byte7\": 34,\n",
      "    \"f0_wrlvl_noise_fcrse_rank0_byte1\": 65,\n",
      "    \"f1_wrcmplx_odly_dqs_final_byte5\": 0,\n",
      "    \"f1_wrcmplx_odly_dq_final_bit05\": 0,\n",
      "    \"cal_error_bit_phy_nibble_13\": 0,\n",
      "    \"f1_dqsgate_stg1_overflow_15\": 0,\n",
      "    \"f0_wrdqdbi_stg5_dqs_odly_byte3\": 94,\n",
      "    \"f0_wrprbs_left_margin_byte4\": 0,\n",
      "    \"f0_rd_simp_rise_ctp_nib_01\": [\n",
      "        86,\n",
      "        179\n",
      "    ],\n",
      "    \"f1_wrdqdbi_odly_dq_final_bit19\": 0,\n",
      "    \"bisc_idly1_align_nibble06\": 68,\n",
      "    \"f1_wrdqdbi_stg2_dqs_odly_byte1\": 0,\n",
      "    \"f1_wrcmplx_left_margin_fcrse_byte0\": 0,\n",
      "    \"f0_wrdqdbi_left_edge_dq_bit32\": 32,\n",
      "    \"f1_wrdqdbi_stg2_dq_odly_bit20\": 0,\n",
      "    \"f0_wrdqdbi_deskew_dq_odly_fcrse_bit26\": 148,\n",
      "    \"f1_rddq_idelay_final_bit02\": 0,\n",
      "    \"nsu0_perf_mon_ctl_0_0\": 0,\n",
      "    \"f1_wrdqdbi_stg3_dq_odly_bit39\": 0,\n",
      "    \"rdvref_left_vref_def_nibble02\": 0,\n",
      "    \"nsu0_perf_mon_1_2\": 0,\n",
      "    \"f1_wrcmplx_right_margin_byte7\": 0,\n",
      "    \"f0_rdcmplx_nqtr_right_short_fcrse_nibble12\": 171,\n",
      "    \"f1_rdcmplx_nqtr_right_short_nibble05\": 0,\n",
      "    \"rdmargin_pqtr_left_nibble10\": 0,\n",
      "    \"rdvref_vref_low_bound_nibble10\": 0,\n",
      "    \"ddrmc_isr_dram_parity_fatal_1\": 0,\n",
      "    \"f0_rddq_pqtr_right_nibble04\": 165,\n",
      "    \"f0_wrcmplx_right_margin_byte3\": 59,\n",
      "    \"f0_rdprbs_pqtr_right_margin_nibble13\": 0,\n",
      "    \"f1_wrdqdbi_stg5_dqs_odly_byte4\": 0,\n",
      "    \"dqstrack_rldlyrnk_crse_max_byte5\": 2,\n",
      "    \"f0_rdcmplx_nqtr_right_short_nibble11\": 168,\n",
      "    \"cal_post_status_tracking\": 1,\n",
      "    \"bisc_idly3_align_nibble07\": 76,\n",
      "    \"f0_wrdqdbi_deskew_dbi_odly_byte3\": 149,\n",
      "    \"f1_rddq_pqtr_final_nibble01\": 0,\n",
      "    \"f0_wrcmplx_odly_dq_final_bit56\": 74,\n",
      "    \"f0_dqsgate_read_lat_final_byte3\": 26,\n",
      "    \"f1_rdprbs_pqtr_left_margin_nibble03\": 0,\n",
      "    \"cal_seq_status_47\": 0,\n",
      "    \"f1_mr0_17_9\": 0,\n",
      "    \"cal_warning_20\": 0,\n",
      "    \"cal_stage.05_F0_READ_DQ_CAL\": \"Pass\",\n",
      "    \"f1_wrlvl_fine_final_rank0_byte1\": 0,\n",
      "    \"f0_rddq_nqtr_right_nibble08\": 163,\n",
      "    \"f0_wrdqdbi_odly_dq_final_bit51\": 42,\n",
      "    \"f0_rd_comp_fall_rm_nib_08\": [\n",
      "        57,\n",
      "        117\n",
      "    ],\n",
      "    \"f0_wr_simp_lm_byte_06\": [\n",
      "        74,\n",
      "        153\n",
      "    ],\n",
      "    \"iobmap_dq_53_52\": 0,\n",
      "    \"f0_rd_comp_rise_ctp_nib_15\": [\n",
      "        86,\n",
      "        177\n",
      "    ],\n",
      "    \"f0_wrcmplx_odly_dq_final_bit15\": 70,\n",
      "    \"f1_rdcmplx_pqtr_right_nibble15\": 0,\n",
      "    \"cal_error_bit_phy_nibble_14\": 0,\n",
      "    \"f0_rd_simp_fall_lm_nib_11\": [\n",
      "        69,\n",
      "        141\n",
      "    ],\n",
      "    \"f0_rd_simp_rise_rm_nib_05\": [\n",
      "        73,\n",
      "        154\n",
      "    ],\n",
      "    \"f0_rddq_pqtr_final_nibble12\": 90,\n",
      "    \"num_channels\": 1,\n",
      "    \"rdmargin_nqtr_right_nibble07\": 0,\n",
      "    \"f0_wrdqdbi_left_margin_byte3\": 71,\n",
      "    \"phy_rden15_dly\": 26,\n",
      "    \"f0_wrcmplx_odly_dq_final_bit04\": 62,\n",
      "    \"rdvref_vref_final_nibble07\": 0,\n",
      "    \"f1_rddq_nqtr_right_nibble01\": 0,\n",
      "    \"f0_rd_simp_rise_rm_nib_15\": [\n",
      "        69,\n",
      "        141\n",
      "    ],\n",
      "    \"f1_rddq_idelay_final_bit37\": 0,\n",
      "    \"f0_rcd_rc3x\": 0,\n",
      "    \"f0_dqsgate_rldlyrnk_crse_final_rank0_byte2\": 1,\n",
      "    \"nsu0_perf_mon_1_0\": 0,\n",
      "    \"f0_wrlvl_crse_stg1_rank0_byte7\": 3,\n",
      "    \"rdmargin_pqtr_right_nibble13\": 0,\n",
      "    \"phy_oe_nib22_dly\": 0,\n",
      "    \"rdmargin_nqtr_right_nibble05\": 0,\n",
      "    \"f0_wrlvl_fine_right_rank0_byte1\": 65,\n",
      "    \"f0_dqsgate_stg1_overflow_02\": 255,\n",
      "    \"f0_rddq_nqtr_right_nibble05\": 168,\n",
      "    \"f0_rdcmplx_pqtr_left_short_nibble15\": 21,\n",
      "    \"f1_calbisc_rl_dly_qtr_nibble02\": 0,\n",
      "    \"f1_calbisc_rl_dly_qtr_nibble14\": 0,\n",
      "    \"f1_wrlvl_crse_stg1_rank0_byte7\": 0,\n",
      "    \"f1_wrdqdbi_stg5_dqs_odly_byte2\": 0,\n",
      "    \"rdvref_right_vref_def_nibble00\": 0,\n",
      "    \"f1_wrlvl_fine_left_rank0_byte7\": 0,\n",
      "    \"f1_rdcmplx_pqtr_right_short_nibble05\": 0,\n",
      "    \"f1_wrlat_phy_oe_nib_final_byte7\": 0,\n",
      "    \"nsu2_perf_mon_ctl_0_1\": 0,\n",
      "    \"f0_rddq_idelay_final_bit20\": 83,\n",
      "    \"f1_wrdqdbi_left_edge_dq_bit15\": 0,\n",
      "    \"dqstrack_rldlyrnk_fine_min_byte2\": 45,\n",
      "    \"f0_wrdqdbi_left_edge_dq_bit25\": 78,\n",
      "    \"rdvref_right_vref_upp_bound_nibble00\": 0,\n",
      "    \"f0_rdcmplx_nqtr_right_short_nibble15\": 168,\n",
      "    \"f1_calbisc_rl_dly_qtr_nibble11\": 0,\n",
      "    \"f1_rdcmplx_nqtr_right_nibble09\": 0,\n",
      "    \"f0_rd_comp_fall_lm_nib_08\": [\n",
      "        57,\n",
      "        117\n",
      "    ],\n",
      "    \"f1_wrdqdbi_deskew_dbi_odly_fcrse_byte3\": 0,\n",
      "    \"f0_wrcmplx_left_margin_byte6\": 71,\n",
      "    \"f0_rdcmplx_pqtr_right_short_nibble05\": 168,\n",
      "    \"f1_wrdqdbi_odly_dq_final_bit24\": 0,\n",
      "    \"f0_wrprbs_right_margin_byte0\": 0,\n",
      "    \"f1_rdcmplx_nqtr_right_short_nibble04\": 0,\n",
      "    \"rdvref_left_vref_upp_bound_nibble05\": 0,\n",
      "    \"wrvref_left_vref_low_bound_rank0_byte5\": 0,\n",
      "    \"f1_mr4_8_0\": 0,\n",
      "    \"iobmap_dq_47_46\": 0,\n",
      "    \"f0_rddq_idelay_final_bit48\": 68,\n",
      "    \"f0_rddq_nqtr_left_nibble09\": 25,\n",
      "    \"f0_rd_comp_fall_ctp_nib_11\": [\n",
      "        87,\n",
      "        179\n",
      "    ],\n",
      "    \"f0_rdcmplx_nqtr_left_short_nibble01\": 27,\n",
      "    \"f0_wrdqdbi_odly_dbi_final_byte4\": 29,\n",
      "    \"f0_wrdqdbi_stg2_dq_odly_bit19\": 19,\n",
      "    \"f0_wrprbs_right_margin_byte4\": 0,\n",
      "    \"f0_wrdqdbi_left_edge_dq_bit26\": 78,\n",
      "    \"f1_rddq_idelay_final_bit25\": 0,\n",
      "    \"f0_wrdqdbi_stg3_dq_odly_bit34\": 29,\n",
      "    \"f1_wrdqdbi_deskew_dq_odly_fcrse_bit58\": 0,\n",
      "    \"f0_wrcmplx_right_margin_byte2\": 59,\n",
      "    \"f0_wrdqdbi_odly_dq_final_bit62\": 81,\n",
      "    \"f1_rdprbs_nqtr_left_margin_nibble05\": 0,\n",
      "    \"f0_wrdqdbi_odly_dq_final_bit13\": 66,\n",
      "    \"f1_dqsgate_stg1_read_lat_rank0_byte5\": 0,\n",
      "    \"cal_pointer_stat\": 6,\n",
      "    \"cal_stage_time_03\": 0,\n",
      "    \"f1_dqsgate_stg1_overflow_57\": 0,\n",
      "    \"f1_rdprbs_pqtr_left_margin_nibble11\": 0,\n",
      "    \"cal_stage_time_00\": 11,\n",
      "    \"f0_calbisc_rl_dly_pqtr_nibble06\": 77,\n",
      "    \"f0_wrdqdbi_stg3_dq_odly_bit17\": 19,\n",
      "    \"vttrack_rldlyqtr_max_nibble11\": 81,\n",
      "    \"f0_rdcmplx_pqtr_left_short_nibble00\": 21,\n",
      "    \"f1_wrcmplx_odly_dq_final_bit09\": 0,\n",
      "    \"wrvref_vref_low_bound_rank0_byte4\": 0,\n",
      "    \"bisc_rl_dly_qtr_nibble15\": 75,\n",
      "    \"f0_wrcmplx_odly_dbi_final_byte5\": 64,\n",
      "    \"vttrack_rldlyqtr_min_nibble04\": 72,\n",
      "    \"mgchk_wr_vref\": 0,\n",
      "    \"f1_rdcmplx_nqtr_right_short_nibble00\": 0,\n",
      "    \"f0_wrdqdbi_stg1_dqs_delay_byte4\": 45,\n",
      "    \"f0_rddq_nqtr_final_nibble05\": 99,\n",
      "    \"iobmap_dq_67_66\": 0,\n",
      "    \"f1_dram_2t_mode\": 1,\n",
      "    \"phy_oe_nib6_dly\": 1,\n",
      "    \"cal_stage_time_41\": 0,\n",
      "    \"f0_wrdqdbi_stg2_dq_odly_bit11\": 62,\n",
      "    \"f0_wrdqdbi_stg2_dq_odly_bit52\": 44,\n",
      "    \"f1_rddq_pqtr_right_fcrse_nibble02\": 0,\n",
      "    \"f1_wrdqdbi_stg2_dq_odly_bit29\": 0,\n",
      "    \"f0_rddq_idelay_final_bit08\": 66,\n",
      "    \"f0_rddq_nqtr_final_nibble13\": 94,\n",
      "    \"f0_rd_comp_rise_rm_nib_10\": [\n",
      "        61,\n",
      "        125\n",
      "    ],\n",
      "    \"cal_stage_time_38\": 0,\n",
      "    \"f1_rdcmplx_pqtr_right_nibble02\": 0,\n",
      "    \"bisc_idly3_align_nibble11\": 78,\n",
      "    \"f0_rd_simp_fall_lm_nib_13\": [\n",
      "        69,\n",
      "        140\n",
      "    ],\n",
      "    \"f1_wrdqdbi_odly_dq_final_bit40\": 0,\n",
      "    \"bisc_rl_dly_qtr_nibble03\": 76,\n",
      "    \"phy_oe_nib20_dly\": 1,\n",
      "    \"f1_rddq_idelay_final_bit33\": 0,\n",
      "    \"cal_error_bit_phy_nibble_23\": 0,\n",
      "    \"f0_rddq_pqtr_right_nibble14\": 164,\n",
      "    \"f1_wrdqdbi_stg3_dq_odly_bit44\": 0,\n",
      "    \"f0_rd_simp_rise_rm_nib_07\": [\n",
      "        74,\n",
      "        152\n",
      "    ],\n",
      "    \"f0_wrdqdbi_deskew_dq_odly_bit24\": 144,\n",
      "    \"f0_dqsgate_stg2_read_lat_rank0_byte0\": 26,\n",
      "    \"cal_error_bit_phy_nibble_26\": 0,\n",
      "    \"wrmargin_right_byte4\": 0,\n",
      "    \"f0_wrdqdbi_stg1_bit_status_byte1\": 0,\n",
      "    \"f0_wrcmplx_right_margin_byte4\": 61,\n",
      "    \"f0_wrcmplx_odly_dqs_final_byte1\": 78,\n",
      "    \"f1_dqsgate_stg1_rldlyrnk_crse_rank0_byte5\": 0,\n",
      "    \"f1_wrdqdbi_deskew_dq_odly_bit00\": 0,\n",
      "    \"f1_lp4_mr12\": 0,\n",
      "    \"f0_wrdqdbi_left_edge_dq_bit51\": 40,\n",
      "    \"f1_dqsgate_stg1_overflow_12\": 0,\n",
      "    \"cal_stage.02_F0_MEM_INIT\": \"Pass\",\n",
      "    \"f1_wrcmplx_odly_dq_final_bit29\": 0,\n",
      "    \"bisc_idly4_align_nibble15\": 81,\n",
      "    \"f0_rd_simp_fall_ctp_nib_12\": [\n",
      "        96,\n",
      "        200\n",
      "    ],\n",
      "    \"rdvref_left_vref_low_bound_nibble00\": 0,\n",
      "    \"f1_wrdqdbi_odly_dbi_final_byte2\": 0,\n",
      "    \"vttrack_rldlyqtr_max_nibble06\": 79,\n",
      "    \"f0_rdprbs_pqtr_right_margin_nibble14\": 0,\n",
      "    \"dqstrack_rldlyrnk_crse_byte1\": 4,\n",
      "    \"rdvref_vref_final_nibble01\": 0,\n",
      "    \"f0_rdprbs_pqtr_left_margin_nibble05\": 0,\n",
      "    \"cal_stage_time_12\": 16,\n",
      "    \"f1_dqsgate_stg2_read_lat_rank0_byte7\": 0,\n",
      "    \"f1_wrdqdbi_stg2_dq_odly_bit14\": 0,\n",
      "    \"wrvref_left_vref_low_bound_rank0_byte7\": 0,\n",
      "    \"f0_wrdqdbi_stg2_dqs_odly_byte1\": 78,\n",
      "    \"f0_rd_comp_rise_lm_nib_12\": [\n",
      "        64,\n",
      "        133\n",
      "    ],\n",
      "    \"f1_dqsgate_stg1_overflow_13\": 0,\n",
      "    \"f0_rd_comp_rise_lm_nib_00\": [\n",
      "        65,\n",
      "        130\n",
      "    ],\n",
      "    \"f0_mr1_17_9\": 1,\n",
      "    \"wrvref_right_vref_upp_bound_rank0_byte1\": 0,\n",
      "    \"f0_wrcmplx_odly_dq_final_bit58\": 60,\n",
      "    \"f0_rdcmplx_pqtr_final_nibble14\": 89,\n",
      "    \"f0_rdcmplx_nqtr_final_nibble00\": 88,\n",
      "    \"vttrack_rldlyqtr_nibble01\": 77,\n",
      "    \"f1_rdcmplx_pqtr_final_nibble02\": 0,\n",
      "    \"f1_wrdqdbi_deskew_dbi_odly_byte6\": 0,\n",
      "    \"f0_wrdqdbi_deskew_dq_odly_fcrse_bit51\": 104,\n",
      "    \"f0_rddq_idelay_final_bit11\": 72,\n",
      "    \"f1_wrdqdbi_deskew_dq_odly_fcrse_bit13\": 0,\n",
      "    \"f1_wrdqdbi_odly_dq_final_bit14\": 0,\n",
      "    \"f0_rddq_nqtr_right_fcrse_nibble04\": 175,\n",
      "    \"bisc_idly2_align_nibble14\": 67,\n",
      "    \"rdvref_right_vref_low_bound_nibble12\": 0,\n",
      "    \"bisc_rl_dly_qtr_nibble01\": 74,\n",
      "    \"f0_wrdqdbi_stg3_dq_odly_bit25\": 78,\n",
      "    \"f0_wrdqdbi_stg4_dqs_delay_byte6\": 14,\n",
      "    \"f0_rdprbs_nqtr_right_margin_nibble15\": 0,\n",
      "    \"cal_stage_time_26\": 0,\n",
      "    \"f0_wrdqdbi_deskew_dq_odly_bit40\": 142,\n",
      "    \"f0_rd_comp_rise_rm_nib_07\": [\n",
      "        63,\n",
      "        129\n",
      "    ],\n",
      "    \"wrvref_left_vref_final_rank0_byte1\": 0,\n",
      "    \"f0_rdprbs_nqtr_left_margin_nibble09\": 0,\n",
      "    \"f1_rddq_idelay_final_bit51\": 0,\n",
      "    \"f1_wrdqdbi_odly_dbi_final_byte3\": 0,\n",
      "    \"f1_rdcmplx_nqtr_right_short_nibble11\": 0,\n",
      "    \"f1_rdprbs_nqtr_right_margin_nibble07\": 0,\n",
      "    \"nsu3_perf_filter_1_1\": 0,\n",
      "    \"f0_rddq_nqtr_right_fcrse_nibble00\": 178,\n",
      "    \"f0_wrdqdbi_odly_dq_final_bit48\": 50,\n",
      "    \"f0_rddq_nqtr_right_nibble06\": 164,\n",
      "    \"f1_dqsgate_stg1_overflow_55\": 0,\n",
      "    \"f0_wrdqdbi_deskew_dq_odly_fcrse_bit00\": 131,\n",
      "    \"f0_rddq_nqtr_right_nibble12\": 170,\n",
      "    \"f1_rddq_nqtr_right_nibble11\": 0,\n",
      "    \"rdvref_right_vref_final_nibble10\": 0,\n",
      "    \"phy_oe_nib5_dly\": 1,\n",
      "    \"f0_wrdqdbi_stg2_dq_odly_bit46\": 55,\n",
      "    \"f1_wrprbs_right_margin_byte1\": 0,\n",
      "    \"rdvref_left_vref_final_nibble08\": 0,\n",
      "    \"rdmargin_pqtr_right_nibble00\": 0,\n",
      "    \"f0_wrdqdbi_deskew_dq_odly_fcrse_bit03\": 121,\n",
      "    \"f0_rd_simp_fall_rm_nib_04\": [\n",
      "        69,\n",
      "        138\n",
      "    ],\n",
      "    \"vttrack_rldlyqtr_max_nibble02\": 80,\n",
      "    \"f0_wrdqdbi_left_edge_dq_bit40\": 65,\n",
      "    \"f1_dqsgate_stg1_overflow_31\": 0,\n",
      "    \"f0_rd_comp_rise_lm_nib_03\": [\n",
      "        65,\n",
      "        131\n",
      "    ],\n",
      "    \"bisc_idly3_align_nibble10\": 69,\n",
      "    \"nsu1_perf_filter_en_1\": 0,\n",
      "    \"rdvref_right_vref_upp_bound_nibble07\": 0,\n",
      "    \"f0_rdcmplx_pqtr_right_nibble09\": 150,\n",
      "    \"f1_rddq_pqtr_right_nibble03\": 0,\n",
      "    \"f0_calbisc_rl_dly_pqtr_nibble02\": 78,\n",
      "    \"phy_oe_nib15_dly\": 1,\n",
      "    \"bisc_idly4_align_nibble09\": 78,\n",
      "    \"f0_rddq_nqtr_final_nibble10\": 97,\n",
      "    \"f0_wrdqdbi_odly_dq_final_bit08\": 58,\n",
      "    \"iobmap_dq_11_10\": 0,\n",
      "    \"f0_rdprbs_nqtr_left_margin_nibble07\": 0,\n",
      "    \"f1_wrlat_wldlyrnk_crse_final_rank0_byte4\": 0,\n",
      "    \"f0_wrdqdbi_right_margin_byte7\": 62,\n",
      "    \"f1_calbisc_rl_dly_pqtr_nibble09\": 0,\n",
      "    \"f1_wrdqdbi_stg6_dbi_odly_byte7\": 0,\n",
      "    \"f1_rdcmplx_pqtr_right_short_nibble11\": 0,\n",
      "    \"cal_seq_status_33\": 304,\n",
      "    \"vttrack_rldlyqtr_min_nibble11\": 73,\n",
      "    \"f1_rddq_nqtr_right_fcrse_nibble12\": 0,\n",
      "    \"f0_calbisc_rl_dly_qtr_nibble02\": 77,\n",
      "    \"f0_wrlvl_fine_left_rank0_byte3\": 76,\n",
      "    \"nsu2_perf_mon_ctl_1_1\": 0,\n",
      "    \"cal_error_bit_phy_nibble_06\": 0,\n",
      "    \"f1_wrdqdbi_deskew_dq_odly_bit39\": 0,\n",
      "    \"sys_clk_17_9\": 9,\n",
      "    \"f0_wrcmplx_left_margin_fcrse_byte1\": 70,\n",
      "    \"cal_warning_15\": 0,\n",
      "    \"f0_wrdqdbi_odly_dq_final_bit46\": 67,\n",
      "    \"f0_calbisc_rl_dly_pqtr_nibble10\": 76,\n",
      "    \"f1_rddq_pqtr_right_nibble05\": 0,\n",
      "    \"f0_wrdqdbi_stg3_dq_odly_bit38\": 29,\n",
      "    \"reg_retry_0\": 194408526,\n",
      "    \"f0_rddq_qtr_deskew_nibble12\": 1,\n",
      "    \"rdmargin_pqtr_left_nibble04\": 0,\n",
      "    \"f0_wrdqdbi_stg1_dqs_delay_byte2\": 35,\n",
      "    \"f1_wrlvl_noise_fcrse_rank0_byte7\": 0,\n",
      "    \"f1_wrdqdbi_deskew_dq_odly_fcrse_bit22\": 0,\n",
      "    \"cal_seq_status_05\": 263,\n",
      "    \"f0_rdprbs_pqtr_right_margin_nibble15\": 0,\n",
      "    \"f0_rddq_pqtr_right_fcrse_nibble10\": 173,\n",
      "    \"f0_wrcmplx_right_margin_byte0\": 57,\n",
      "    \"f0_rdprbs_pqtr_right_margin_nibble08\": 0,\n",
      "    \"cal_seq_status_30\": 301,\n",
      "    \"f1_wrdqdbi_odly_dq_final_bit16\": 0,\n",
      "    \"f0_rd_comp_fall_lm_nib_06\": [\n",
      "        56,\n",
      "        115\n",
      "    ],\n",
      "    \"f0_wrdqdbi_right_edge_dqs_byte3\": 166,\n",
      "    \"traf_power_down_en\": 0,\n",
      "    \"f0_rd_simp_fall_lm_nib_12\": [\n",
      "        73,\n",
      "        152\n",
      "    ],\n",
      "    \"f0_wrdqdbi_stg3_dq_odly_bit12\": 62,\n",
      "    \"phy_oe_nib23_dly\": 0,\n",
      "    \"f1_wrdqdbi_stg2_dq_odly_bit03\": 0,\n",
      "    \"cal_warning_29\": 0,\n",
      "    \"f1_wrlvl_fine_left_rank0_byte2\": 0,\n",
      "    \"f0_wrdqdbi_left_edge_dq_bit50\": 51,\n",
      "    \"f1_rdcmplx_pqtr_left_nibble11\": 0,\n",
      "    \"f0_rdcmplx_idelay_offset_nibble11\": 0,\n",
      "    \"f0_wrcmplx_odly_dq_final_bit31\": 98,\n",
      "    \"f1_wrdqdbi_right_margin_fcrse_byte7\": 0,\n",
      "    \"nsu1_perf_filter_1_1\": 0,\n",
      "    \"iobmap_dqs_0\": 0,\n",
      "    \"f1_rddq_qtr_deskew_nibble02\": 0,\n",
      "    \"rdvref_left_vref_def_nibble07\": 0,\n",
      "    \"f1_wrlat_match_rank0_byte6\": 0,\n",
      "    \"cal_seq_status_08\": 394,\n",
      "    \"f1_rddq_idelay_final_bit48\": 0,\n",
      "    \"cal_error_bit_phy_nibble_17\": 0,\n",
      "    \"phy_oe_nib1_dly\": 1,\n",
      "    \"f0_wrdqdbi_deskew_dq_odly_bit33\": 92,\n",
      "    \"f1_wrdqdbi_odly_dq_final_bit11\": 0,\n",
      "    \"f0_wrprbs_right_margin_byte1\": 0,\n",
      "    \"mgchk_rd_vref_0\": 0,\n",
      "    \"f0_wrcmplx_odly_dq_final_bit29\": 94,\n",
      "    \"f0_wrdqdbi_stg2_dq_odly_bit58\": 58,\n",
      "    \"f0_wrdqdbi_left_edge_dq_bit59\": 54,\n",
      "    \"f1_dqsgate_read_lat_final_byte3\": 0,\n",
      "    \"f1_rddq_pqtr_right_fcrse_nibble08\": 0,\n",
      "    \"rdmargin_pqtr_right_nibble14\": 0,\n",
      "    \"f1_wrdqdbi_stg2_dq_odly_bit44\": 0,\n",
      "    \"f1_wrdqdbi_left_edge_dq_bit26\": 0,\n",
      "    \"wrvref_right_vref_upp_bound_rank0_byte2\": 0,\n",
      "    \"f0_rdcmplx_nqtr_left_short_nibble11\": 28,\n",
      "    \"f0_dqsgate_stg1_overflow_31\": 0,\n",
      "    \"f1_rdprbs_pqtr_left_margin_nibble01\": 0,\n",
      "    \"f1_wrprbs_right_margin_byte0\": 0,\n",
      "    \"f0_wr_comp_ctp_byte_03\": [\n",
      "        95,\n",
      "        195\n",
      "    ],\n",
      "    \"f0_rddq_nqtr_right_fcrse_nibble05\": 175,\n",
      "    \"f0_wrdqdbi_left_edge_dq_bit28\": 78,\n",
      "    \"f0_rdprbs_pqtr_right_margin_nibble06\": 0,\n",
      "    \"f1_rdcmplx_pqtr_right_short_fcrse_nibble04\": 0,\n",
      "    \"iobmap_dq_43_42\": 0,\n",
      "    \"bisc_idly4_align_nibble10\": 73,\n",
      "    \"f0_rddq_idelay_final_bit39\": 73,\n",
      "    \"f0_rdcmplx_pqtr_final_nibble09\": 87,\n",
      "    \"f1_rdprbs_nqtr_left_margin_nibble06\": 0,\n",
      "    \"f0_wrcmplx_odly_dq_final_bit48\": 57,\n",
      "    \"nsu0_perf_mon_1_1\": 0,\n",
      "    \"f1_wrdqdbi_deskew_dq_odly_fcrse_bit52\": 0,\n",
      "    \"f1_mr6_8_0\": 0,\n",
      "    \"cal_warning_21\": 0,\n",
      "    \"f0_rddq_nqtr_final_nibble09\": 94,\n",
      "    \"cal_seq_status_42\": 0,\n",
      "    \"rdvref_vref_upp_bound_nibble04\": 0,\n",
      "    \"f0_dqsgate_stg1_overflow_63\": 0,\n",
      "    \"f1_wrprbs_left_margin_byte1\": 0,\n",
      "    \"f1_dm_dbi_en\": 1,\n",
      "    \"bisc_nqtr_nibble04\": 78,\n",
      "    \"wrvref_right_vref_final_rank0_byte0\": 0,\n",
      "    \"f0_wrdqdbi_stg6_dbi_odly_byte6\": 44,\n",
      "    \"f0_wrcmplx_odly_dq_final_bit57\": 63,\n",
      "    \"f0_wrdqdbi_deskew_dq_odly_fcrse_bit38\": 109,\n",
      "    \"f0_dqsgate_rldlyrnk_crse_final_rank0_byte7\": 1,\n",
      "    \"0x0d_F0_WRITE_DQ_DBI_CAL\": \"Pass\",\n",
      "    \"f1_wrdqdbi_deskew_dq_odly_bit26\": 0,\n",
      "    \"f1_wrdqdbi_odly_dq_final_bit62\": 0,\n",
      "    \"rdmargin_nqtr_right_nibble10\": 0,\n",
      "    \"cal_warning_22\": 0,\n",
      "    \"ref_en\": 2,\n",
      "    \"f0_calbisc_rl_dly_pqtr_nibble03\": 77,\n",
      "    \"f1_wrlat_wldlyrnk_crse_final_rank0_byte5\": 0,\n",
      "    \"f0_rdcmplx_nqtr_right_nibble15\": 151,\n",
      "    \"f1_wrdqdbi_stg3_dq_odly_bit59\": 0,\n",
      "    \"ip_config_ver\": 1,\n",
      "    \"f0_wrdqdbi_stg3_dq_odly_bit21\": 19,\n",
      "    \"bisc_pqtr_nibble00\": 78,\n",
      "    \"wrvref_left_vref_upp_bound_rank0_byte2\": 0,\n",
      "    \"f0_wrdqdbi_stg3_dq_odly_bit50\": 44,\n",
      "    \"f1_wrlat_xpi_oe_all_final\": 0,\n",
      "    \"f1_wrdqdbi_left_edge_dq_bit43\": 0,\n",
      "    \"f0_rdprbs_nqtr_left_margin_nibble10\": 0,\n",
      "    \"f0_wrdqdbi_left_edge_dq_bit23\": 21,\n",
      "    \"cal_warning_12\": 0,\n",
      "    \"rdvref_right_vref_low_bound_nibble04\": 0,\n",
      "    \"f1_rddq_qtr_deskew_nibble12\": 0,\n",
      "    \"f1_wrdqdbi_deskew_dq_odly_fcrse_bit25\": 0,\n",
      "    \"f0_wrdqdbi_deskew_dq_odly_bit02\": 125,\n",
      "    \"f0_wrdqdbi_deskew_dbi_odly_fcrse_byte7\": 128,\n",
      "    \"f1_wrdqdbi_stg2_dq_odly_bit17\": 0,\n",
      "    \"f0_rdprbs_pqtr_left_margin_nibble02\": 0,\n",
      "    \"f1_rddq_idelay_final_bit15\": 0,\n",
      "    \"bisc_nqtr_nibble06\": 77,\n",
      "    \"rdvref_right_vref_low_bound_nibble13\": 0,\n",
      "    \"f1_dqsgate_stg1_overflow_44\": 0,\n",
      "    \"f1_rddq_nqtr_right_fcrse_nibble05\": 0,\n",
      "    \"f1_wrdqdbi_left_edge_dq_bit31\": 0,\n",
      "    \"f1_rddq_pqtr_final_nibble05\": 0,\n",
      "    \"bisc_mon_align_nibble06\": 0,\n",
      "    \"f0_wrdqdbi_odly_dq_final_bit15\": 60,\n",
      "    \"f1_calbisc_rl_dly_qtr_nibble10\": 0,\n",
      "    \"f0_rd_simp_rise_lm_nib_04\": [\n",
      "        73,\n",
      "        150\n",
      "    ],\n",
      "    \"cal_stage_time_46\": 0,\n",
      "    \"f1_wrcmplx_odly_dq_final_bit38\": 0,\n",
      "    \"f1_rddq_idelay_final_bit31\": 0,\n",
      "    \"f0_wrlvl_crse_stg1_rank0_byte0\": 2,\n",
      "    \"bisc_idly0_align_nibble11\": 75,\n",
      "    \"f1_tck_msb\": 1,\n",
      "    \"f0_rdprbs_nqtr_right_margin_nibble13\": 0,\n",
      "    \"f0_wrprbs_left_margin_byte7\": 0,\n",
      "    \"rdvref_vref_low_bound_nibble15\": 0,\n",
      "    \"cal_error_bit_phy_nibble_09\": 0,\n",
      "    \"f1_wrdqdbi_deskew_dq_odly_bit08\": 0,\n",
      "    \"f1_rdcmplx_nqtr_left_nibble10\": 0,\n",
      "    \"f1_rdprbs_nqtr_right_margin_nibble03\": 0,\n",
      "    \"f0_wrdqdbi_left_edge_dbi_byte2\": 19,\n",
      "    \"f0_wrdqdbi_deskew_dq_odly_fcrse_bit44\": 145,\n",
      "    \"f1_wrdqdbi_left_edge_dq_bit51\": 0,\n",
      "    \"f1_wrdqdbi_stg5_dqs_odly_byte0\": 0,\n",
      "    \"f1_wrdqdbi_stg1_dqs_delay_byte4\": 0,\n",
      "    \"f0_wrcmplx_odly_dq_final_bit18\": 34,\n",
      "    \"f1_rdcmplx_pqtr_final_nibble00\": 0,\n",
      "    \"f0_wrlat_phy_oe_nib_final_byte2\": 1,\n",
      "    \"f1_rdcmplx_nqtr_final_nibble12\": 0,\n",
      "    \"iobmap_dqs_3\": 0,\n",
      "    \"f0_dqsgate_stg2_rldlyrnk_crse_rank0_byte4\": 1,\n",
      "    \"f0_wrdqdbi_deskew_dq_odly_fcrse_bit55\": 114,\n",
      "    \"iobmap_dq_9_8\": 0,\n",
      "    \"bisc_nqtr_align_nibble11\": 1,\n",
      "    \"0x13_F0_WRITE_DQ_DBI_CAL_COMPLEX\": \"Pass\",\n",
      "    \"bisc_rl_dly_qtr_nibble10\": 78,\n",
      "    \"f0_wrdqdbi_odly_dq_final_bit16\": 38,\n",
      "    \"f1_wrdqdbi_stg2_dq_odly_bit59\": 0,\n",
      "    \"bisc_pqtr_align_nibble09\": 0,\n",
      "    \"f0_rddq_idelay_final_bit22\": 79,\n",
      "    \"f1_wrcmplx_left_margin_fcrse_byte4\": 0,\n",
      "    \"f1_wrcmplx_odly_dq_final_bit62\": 0,\n",
      "    \"wrvref_right_vref_final_rank0_byte1\": 0,\n",
      "    \"ddrmc_isr_dram_parity0\": 0,\n",
      "    \"f1_rdcmplx_nqtr_right_short_fcrse_nibble05\": 0,\n",
      "    \"cal_stage_time_07\": 0,\n",
      "    \"cal_error_bit_phy_nibble_21\": 0,\n",
      "    \"f1_rdcmplx_nqtr_final_nibble13\": 0,\n",
      "    \"f0_rd_comp_rise_lm_nib_08\": [\n",
      "        59,\n",
      "        118\n",
      "    ],\n",
      "    \"f0_wrcmplx_odly_dq_final_bit59\": 63,\n",
      "    \"f0_dqsgate_stg2_rldlyrnk_crse_rank0_byte7\": 1,\n",
      "    \"f0_wrdqdbi_left_edge_dq_bit12\": 64,\n",
      "    \"f1_rddq_pqtr_left_nibble00\": 0,\n",
      "    \"f0_wr_simp_ctp_byte_01\": [\n",
      "        308,\n",
      "        628\n",
      "    ],\n",
      "    \"f1_wrcmplx_odly_dq_final_bit47\": 0,\n",
      "    \"ddrmc_clk_mux\": 1,\n",
      "    \"bisc_idly3_align_nibble08\": 70,\n",
      "    \"f0_rdcmplx_pqtr_right_short_fcrse_nibble00\": 167,\n",
      "    \"f1_wrcmplx_odly_dq_final_bit17\": 0,\n",
      "    \"rdvref_left_vref_final_nibble00\": 0,\n",
      "    \"f0_dqsgate_stg1_overflow_05\": 0,\n",
      "    \"f0_wrdqdbi_deskew_dq_odly_bit31\": 163,\n",
      "    \"f1_wrlvl_noise_fcrse_rank0_byte6\": 0,\n",
      "    \"f0_dqsgate_stg1_overflow_54\": 0,\n",
      "    \"mgchk_rw_mode\": 0,\n",
      "    \"f1_wrdqdbi_stg2_dq_odly_bit55\": 0,\n",
      "    \"f0_rddq_pqtr_right_fcrse_nibble12\": 173,\n",
      "    \"f0_wrlvl_offset_rank0_byte1\": 78,\n",
      "    \"f0_wrdqdbi_stg2_dq_odly_bit49\": 44,\n",
      "    \"f0_wrdqdbi_stg3_dq_odly_bit41\": 55,\n",
      "    \"f0_wrdqdbi_right_margin_fcrse_byte6\": 70,\n",
      "    \"f0_dqsgate_stg1_overflow_14\": 0,\n",
      "    \"f1_rdcmplx_pqtr_right_short_fcrse_nibble15\": 0,\n",
      "    \"f1_rdprbs_pqtr_left_margin_nibble15\": 0,\n",
      "    \"bisc_pqtr_nibble12\": 75,\n",
      "    \"f0_wrdqdbi_odly_dq_final_bit58\": 58,\n",
      "    \"f1_rddq_nqtr_right_nibble05\": 0,\n",
      "    \"f1_wrdqdbi_left_edge_dq_bit56\": 0,\n",
      "    \"f1_wrdqdbi_stg2_dq_odly_bit40\": 0,\n",
      "    \"f0_wrdqdbi_stg2_dq_odly_bit34\": 29,\n",
      "    \"f1_wrdqdbi_left_edge_dq_bit00\": 0,\n",
      "    \"f1_rdcmplx_nqtr_left_nibble07\": 0,\n",
      "    \"f1_wrdqdbi_stg2_dq_odly_bit34\": 0,\n",
      "    \"f0_wrlat_wldlyrnk_crse_final_rank0_byte6\": 3,\n",
      "    \"f1_wrdqdbi_left_edge_dq_bit08\": 0,\n",
      "    \"f0_wrlvl_fine_final_rank0_byte1\": 62,\n",
      "    \"f1_wrdqdbi_left_edge_dq_bit33\": 0,\n",
      "    \"nsu2_perf_mon_0_1\": 0,\n",
      "    \"mgchk_done\": 0,\n",
      "    \"f0_wrdqdbi_stg3_dq_odly_bit44\": 55,\n",
      "    \"f0_wrlvl_fine_final_rank0_byte4\": 29,\n",
      "    \"dc1_perf_mon_1\": 0,\n",
      "    \"f1_rddq_pqtr_right_nibble13\": 0,\n",
      "    \"tag_ver_0\": 1,\n",
      "    \"rdvref_right_vref_def_nibble04\": 0,\n",
      "    \"rdvref_left_vref_low_bound_nibble15\": 0,\n",
      "    \"f0_rdcmplx_pqtr_left_nibble08\": 24,\n",
      "    \"f0_rd_simp_rise_ctp_nib_15\": [\n",
      "        86,\n",
      "        177\n",
      "    ],\n",
      "    \"dqstrack_rldlyrnk_fine_max_byte6\": 69,\n",
      "    \"f0_rdcmplx_nqtr_left_short_nibble06\": 27,\n",
      "    \"f0_rdcmplx_nqtr_right_short_fcrse_nibble11\": 174,\n",
      "    \"f1_wrdqdbi_stg2_dq_odly_bit32\": 0,\n",
      "    \"f1_wrdqdbi_stg2_dq_odly_bit37\": 0,\n",
      "    \"f1_wrdqdbi_deskew_dq_odly_fcrse_bit47\": 0,\n",
      "    \"f1_wrdqdbi_left_edge_dbi_byte5\": 0,\n",
      "    \"wrvref_right_vref_def_rank0_byte6\": 0,\n",
      "    \"f1_xpll_clkoutfb_ht\": 16,\n",
      "    \"f0_rd_comp_rise_ctp_nib_14\": [\n",
      "        89,\n",
      "        183\n",
      "    ],\n",
      "    \"cal_post_status_self_ref\": 0,\n",
      "    \"f1_rdcmplx_nqtr_right_short_fcrse_nibble09\": 0,\n",
      "    \"f0_wrdqdbi_odly_dq_final_bit01\": 53,\n",
      "    \"cal_stage_time_45\": 0,\n",
      "    \"f0_rdprbs_pqtr_left_margin_nibble12\": 0,\n",
      "    \"f0_calbisc_rl_dly_nqtr_nibble09\": 75,\n",
      "    \"f1_wrdqdbi_stg3_dq_odly_bit08\": 0,\n",
      "    \"ddrmc_isr_na_cmd1\": 0,\n",
      "    \"cal_stage_time_14\": 6,\n",
      "    \"bisc_pqtr_nibble04\": 77,\n",
      "    \"rdvref_vref_low_bound_nibble01\": 0,\n",
      "    \"f0_wrlvl_fine_left_rank0_byte4\": 27,\n",
      "    \"f1_wrdqdbi_right_margin_fcrse_byte1\": 0,\n",
      "    \"cal_seq_status_31\": 302,\n",
      "    \"f1_db_bc0a\": 0,\n",
      "    \"f0_rdcmplx_pqtr_right_nibble06\": 151,\n",
      "    \"f0_rd_simp_fall_lm_nib_03\": [\n",
      "        69,\n",
      "        141\n",
      "    ],\n",
      "    \"rdvref_left_vref_upp_bound_nibble09\": 0,\n",
      "    \"f1_wrlat_match_rank0_byte7\": 0,\n",
      "    \"bisc_pqtr_nibble13\": 76,\n",
      "    \"perf_mon_timebase_scale\": 777975,\n",
      "    \"f0_rd_comp_fall_lm_nib_01\": [\n",
      "        62,\n",
      "        130\n",
      "    ],\n",
      "    \"f1_rdprbs_pqtr_left_margin_nibble13\": 0,\n",
      "    \"ddrmc_isr_dc_cmd0_fatal\": 0,\n",
      "    \"f0_rddq_nqtr_right_nibble01\": 170,\n",
      "    \"bisc_idly2_align_nibble06\": 65,\n",
      "    \"f0_wrdqdbi_deskew_dq_odly_bit37\": 95,\n",
      "    \"dqstrack_rldlyrnk_crse_max_byte1\": 4,\n",
      "    \"f1_calbisc_rl_dly_qtr_nibble04\": 0,\n",
      "    \"f1_rddq_idelay_final_bit17\": 0,\n",
      "    \"f1_rddq_nqtr_right_nibble02\": 0,\n",
      "    \"bisc_pqtr_nibble06\": 77,\n",
      "    \"f0_wrdqdbi_stg2_dq_odly_bit21\": 19,\n",
      "    \"f1_wrdqdbi_stg2_dq_odly_bit07\": 0,\n",
      "    \"f0_wrlvl_crse_final_rank0_byte7\": 3,\n",
      "    \"f0_dqsgate_stg1_overflow_48\": 0,\n",
      "    \"wrvref_vref_upp_bound_rank0_byte4\": 0,\n",
      "    \"bisc_nqtr_align_nibble05\": 3,\n",
      "    \"f0_rd_simp_rise_ctp_nib_07\": [\n",
      "        91,\n",
      "        187\n",
      "    ],\n",
      "    \"f0_rd_simp_fall_rm_nib_05\": [\n",
      "        69,\n",
      "        143\n",
      "    ],\n",
      "    \"f1_wrdqdbi_stg3_dq_odly_bit21\": 0,\n",
      "    \"f0_wrcmplx_left_margin_byte0\": 73,\n",
      "    \"f1_calbisc_rl_dly_qtr_nibble07\": 0,\n",
      "    \"f0_wrdqdbi_deskew_dq_odly_fcrse_bit31\": 158,\n",
      "    \"ub_isr_watchdog\": 0,\n",
      "    \"f1_wrdqdbi_left_edge_dq_bit32\": 0,\n",
      "    \"bisc_idly5_align_nibble07\": 78,\n",
      "    \"f0_wrprbs_left_margin_byte1\": 0,\n",
      "    \"f0_dqsgate_stg1_overflow_11\": 0,\n",
      "    \"f1_wrdqdbi_stg2_dq_odly_bit39\": 0,\n",
      "    \"f0_wrdqdbi_stg4_dqs_delay_byte7\": 14,\n",
      "    \"wrmargin_right_byte7\": 0,\n",
      "    \"f1_wrlvl_fine_final_rank0_byte2\": 0,\n",
      "    \"f1_wrlvl_crse_stg1_rank0_byte3\": 0,\n",
      "    \"f0_rddq_nqtr_right_nibble00\": 170,\n",
      "    \"f1_wrdqdbi_left_edge_dq_bit60\": 0,\n",
      "    \"bisc_pqtr_align_nibble12\": 0,\n",
      "    \"f0_wr_simp_lm_byte_04\": [\n",
      "        70,\n",
      "        143\n",
      "    ],\n",
      "    \"rdmargin_nqtr_left_nibble13\": 0,\n",
      "    \"bisc_idly4_align_nibble04\": 70,\n",
      "    \"f1_rdprbs_pqtr_right_margin_nibble06\": 0,\n",
      "    \"f0_wrdqdbi_left_edge_dq_bit13\": 65,\n",
      "    \"f0_wrcmplx_odly_dq_final_bit53\": 64,\n",
      "    \"bisc_nqtr_align_nibble08\": 0,\n",
      "    \"f1_rdprbs_nqtr_right_margin_nibble05\": 0,\n",
      "    \"mgchk_def_rd_vref_1\": 0,\n",
      "    \"f0_rddq_nqtr_right_nibble03\": 161,\n",
      "    \"f1_rddq_nqtr_right_fcrse_nibble01\": 0,\n",
      "    \"f1_wrdqdbi_deskew_dq_odly_bit46\": 0,\n",
      "    \"f0_dqsgate_stg1_read_lat_rank0_byte7\": 27,\n",
      "    \"f1_wrdqdbi_odly_dq_final_bit58\": 0,\n",
      "    \"f0_wrdqdbi_odly_dq_final_bit19\": 22,\n",
      "    \"f1_rddq_pqtr_right_fcrse_nibble03\": 0,\n",
      "    \"f1_wrdqdbi_odly_dq_final_bit44\": 0,\n",
      "    \"f1_rdcmplx_idelay_offset_nibble08\": 0,\n",
      "    \"f1_rdcmplx_nqtr_left_nibble02\": 0,\n",
      "    \"f0_wrdqdbi_deskew_dq_odly_fcrse_bit21\": 89,\n",
      "    \"f0_wrdqdbi_stg1_dqs_delay_byte0\": 67,\n",
      "    \"f1_rdcmplx_nqtr_left_nibble05\": 0,\n",
      "    \"bisc_idly1_align_nibble10\": 74,\n",
      "    \"f0_wr_comp_lm_byte_05\": [\n",
      "        73,\n",
      "        149\n",
      "    ],\n",
      "    \"f1_wrlvl_crse_final_rank0_byte5\": 0,\n",
      "    \"f1_rddq_nqtr_final_nibble14\": 0,\n",
      "    \"rdvref_vref_low_bound_nibble11\": 0,\n",
      "    \"iobmap_dqs_5\": 0\n",
      "}\n"
     ]
    }
   ],
   "source": [
    "props = ddr.ddr_node.get_property_group([])\n",
    "json_props = json.dumps(props, indent=4)\n",
    "print(json_props)"
   ]
  }
 ],
 "metadata": {
  "jupytext": {
   "cell_metadata_filter": "-all",
   "main_language": "python",
   "notebook_metadata_filter": "-all"
  },
  "language_info": {
   "codemirror_mode": {
    "name": "ipython",
    "version": 3
   },
   "file_extension": ".py",
   "mimetype": "text/x-python",
   "name": "python",
   "nbconvert_exporter": "python",
   "pygments_lexer": "ipython3",
   "version": "3.8.3"
  },
  "papermill": {
   "default_parameters": {},
   "duration": 16.441269,
   "end_time": "2023-10-20T19:03:24.941344",
   "environment_variables": {},
   "exception": null,
   "input_path": "chipscopy/examples/ddr/ddr_example.ipynb",
   "output_path": "chipscopy/examples/ddr/ddr_example.ipynb",
   "parameters": {},
   "start_time": "2023-10-20T19:03:08.500075",
   "version": "2.4.0"
  }
 },
 "nbformat": 4,
 "nbformat_minor": 5
}
