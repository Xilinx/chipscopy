{
  "cells": [
    {
      "cell_type": "markdown",
      "id": "41255979",
      "metadata": {},
      "source": [
        "<link rel=\"preconnect\" href=\"https://fonts.gstatic.com\">\n",
        "<link href=\"https://fonts.googleapis.com/css2?family=Fira+Code&display=swap\" rel=\"stylesheet\">\n",
        "\n",
        "### License\n",
        "\n",
        "<p style=\"font-family: 'Fira Code', monospace; font-size: 1.2rem\">\n",
        "Copyright (C) 2021-2022, Xilinx, Inc.<br>\n",
        "Copyright (C) 2022-2024, Advanced Micro Devices, Inc.\n",
        "<br><br>\n",
        "Licensed under the Apache License, Version 2.0 (the \"License\");<br>\n",
        "you may not use this file except in compliance with the License.<br><br>\n",
        "You may obtain a copy of the License at <a href=\"http://www.apache.org/licenses/LICENSE-2.0\"?>http://www.apache.org/licenses/LICENSE-2.0</a><br><br>\n",
        "Unless required by applicable law or agreed to in writing, software<br>\n",
        "distributed under the License is distributed on an \"AS IS\" BASIS,<br>\n",
        "WITHOUT WARRANTIES OR CONDITIONS OF ANY KIND, either express or implied.<br>\n",
        "See the License for the specific language governing permissions and<br>\n",
        "limitations under the License.<br>\n",
        "</p>\n"
      ]
    },
    {
      "cell_type": "markdown",
      "id": "927bd6b9",
      "metadata": {},
      "source": [
        "# ChipScoPy DDR Reporting Example\n",
        "\n",
        "\n",
        "<img src=\"../img/api_overview.png\" width=\"500\" align=\"left\">"
      ]
    },
    {
      "cell_type": "markdown",
      "id": "f05be94e",
      "metadata": {},
      "source": [
        "## Description\n",
        "This demo shows how to print and report DDR calibration status and report detailed information.\n",
        "\n",
        "\n",
        "## Requirements\n",
        "- Local or remote Xilinx Versal board, such as a VCK190\n",
        "- Xilinx hw_server 2025.1 installed and running\n",
        "- Xilinx cs_server 2025.1 installed and running\n",
        "- Python 3.9 or greater installed\n",
        "- ChipScoPy 2025.1 installed\n",
        "- Jupyter notebook support and extra libs needed - Please do so, using the command `pip install chipscopy[core-addons,jupyter]`"
      ]
    },
    {
      "cell_type": "markdown",
      "id": "2b1a58a7",
      "metadata": {},
      "source": [
        "## 1 - Initialization: Imports and File Paths\n",
        "\n",
        "After this step,\n",
        "- Required functions and classes are imported\n",
        "- Paths to server(s) and files are set correctly"
      ]
    },
    {
      "cell_type": "code",
      "execution_count": 1,
      "id": "e9ac5772",
      "metadata": {},
      "outputs": [],
      "source": [
        "import pprint\n",
        "import os\n",
        "import json\n",
        "from chipscopy import create_session, report_versions, delete_session\n",
        "from chipscopy import get_design_files"
      ]
    },
    {
      "cell_type": "code",
      "execution_count": 2,
      "id": "4011ea2d",
      "metadata": {},
      "outputs": [
        {
          "name": "stdout",
          "output_type": "stream",
          "text": [
            "HW_URL: TCP:localhost:3121\n",
            "CS_URL: TCP:localhost:3042\n",
            "PROGRAMMING_FILE: /scratch/wrk/chipscopy/chipscopy/examples/designs/vck190/production/chipscopy_ced/chipscopy_wrapper.pdi\n",
            "PROBES_FILE:/scratch/wrk/chipscopy/chipscopy/examples/designs/vck190/production/chipscopy_ced/chipscopy_wrapper.ltx\n"
          ]
        }
      ],
      "source": [
        "# Specify locations of the running hw_server and cs_server below.\n",
        "CS_URL = os.getenv(\"CS_SERVER_URL\", \"TCP:localhost:3042\")\n",
        "HW_URL = os.getenv(\"HW_SERVER_URL\", \"TCP:localhost:3121\")\n",
        "\n",
        "# specify hw and if programming is desired\n",
        "HW_PLATFORM = os.getenv(\"HW_PLATFORM\", \"vck190\")\n",
        "PROG_DEVICE = os.getenv(\"PROG_DEVICE\", 'True').lower() in ('true', '1', 't')\n",
        "\n",
        "# The get_design_files() function tries to find the PDI and LTX files. In non-standard\n",
        "# configurations, you can put the path for PROGRAMMING_FILE and PROBES_FILE below.\n",
        "design_files = get_design_files(f\"{HW_PLATFORM}/production/chipscopy_ced\")\n",
        "\n",
        "PDI_FILE = design_files.programming_file\n",
        "LTX_FILE = design_files.probes_file\n",
        "\n",
        "print(f\"HW_URL: {HW_URL}\")\n",
        "print(f\"CS_URL: {CS_URL}\")\n",
        "print(f\"PROGRAMMING_FILE: {PDI_FILE}\")\n",
        "print(f\"PROBES_FILE:{LTX_FILE}\")"
      ]
    },
    {
      "cell_type": "markdown",
      "id": "ca167172",
      "metadata": {},
      "source": [
        "## 2 - Create a session and connect to the hw_server and cs_server\n",
        "\n",
        "The session is a container that keeps track of devices and debug cores.\n",
        "After this step,\n",
        "- Session is initialized and connected to server(s)\n",
        "- Versions are detected and reported to stdout"
      ]
    },
    {
      "cell_type": "code",
      "execution_count": 3,
      "id": "4bcd4e27",
      "metadata": {},
      "outputs": [
        {
          "data": {
            "text/html": [
              "<pre style=\"white-space:pre;overflow-x:auto;line-height:normal;font-family:Menlo,'DejaVu Sans Mono',consolas,'Courier New',monospace\">\n",
              "\n",
              "</pre>\n"
            ],
            "text/plain": [
              "\n",
              "\n"
            ]
          },
          "metadata": {},
          "output_type": "display_data"
        },
        {
          "data": {
            "text/html": [
              "<pre style=\"white-space:pre;overflow-x:auto;line-height:normal;font-family:Menlo,'DejaVu Sans Mono',consolas,'Courier New',monospace\"><span style=\"font-style: italic\">                      ChipScoPy Version Information                      </span>\n",
              "┌────────────────────────────┬──────────────────────────────────────────┐\n",
              "│<span style=\"font-weight: bold\">                     Entity </span>│<span style=\"font-weight: bold\"> Version                                  </span>│\n",
              "├────────────────────────────┼──────────────────────────────────────────┤\n",
              "│                  ChipScoPy │ ┌───────────┬──────────────────────┐     │\n",
              "│                            │ │<span style=\"font-weight: bold\"> Attribute </span>│<span style=\"font-weight: bold\"> Value                </span>│     │\n",
              "│                            │ ├───────────┼──────────────────────┤     │\n",
              "│                            │ │     Build │ 2025.1.1747162617    │     │\n",
              "│                            │ │ Timestamp │ May 13 2025-11:56:57 │     │\n",
              "│                            │ └───────────┴──────────────────────┘     │\n",
              "│                            │                                          │\n",
              "│ hw_server @ localhost:3121 │ ┌───────────┬───────────┐                │\n",
              "│                            │ │<span style=\"font-weight: bold\"> Attribute </span>│<span style=\"font-weight: bold\"> Value     </span>│                │\n",
              "│                            │ ├───────────┼───────────┤                │\n",
              "│                            │ │    Status │ Connected │                │\n",
              "│                            │ │     Build │ 0         │                │\n",
              "│                            │ │   Version │ 2025.1    │                │\n",
              "│                            │ │ Timestamp │           │                │\n",
              "│                            │ └───────────┴───────────┘                │\n",
              "│                            │                                          │\n",
              "│ cs_server @ localhost:3042 │ ┌───────────────┬──────────────────────┐ │\n",
              "│                            │ │<span style=\"font-weight: bold\">     Attribute </span>│<span style=\"font-weight: bold\"> Value                </span>│ │\n",
              "│                            │ ├───────────────┼──────────────────────┤ │\n",
              "│                            │ │        Status │ Connected            │ │\n",
              "│                            │ │         Build │ 1747163727           │ │\n",
              "│                            │ │       Version │ 2025.1.0             │ │\n",
              "│                            │ │     Timestamp │ May 13 2025-12:15:27 │ │\n",
              "│                            │ │       Package │ 2025.1.1747163727    │ │\n",
              "│                            │ │ Artifact type │ pyinstaller          │ │\n",
              "│                            │ └───────────────┴──────────────────────┘ │\n",
              "└────────────────────────────┴──────────────────────────────────────────┘\n",
              "</pre>\n"
            ],
            "text/plain": [
              "\u001b[3m                      ChipScoPy Version Information                      \u001b[0m\n",
              "┌────────────────────────────┬──────────────────────────────────────────┐\n",
              "│\u001b[1m \u001b[0m\u001b[1m                    Entity\u001b[0m\u001b[1m \u001b[0m│\u001b[1m \u001b[0m\u001b[1mVersion                                 \u001b[0m\u001b[1m \u001b[0m│\n",
              "├────────────────────────────┼──────────────────────────────────────────┤\n",
              "│                  ChipScoPy │ ┌───────────┬──────────────────────┐     │\n",
              "│                            │ │\u001b[1m \u001b[0m\u001b[1mAttribute\u001b[0m\u001b[1m \u001b[0m│\u001b[1m \u001b[0m\u001b[1mValue               \u001b[0m\u001b[1m \u001b[0m│     │\n",
              "│                            │ ├───────────┼──────────────────────┤     │\n",
              "│                            │ │     Build │ 2025.1.1747162617    │     │\n",
              "│                            │ │ Timestamp │ May 13 2025-11:56:57 │     │\n",
              "│                            │ └───────────┴──────────────────────┘     │\n",
              "│                            │                                          │\n",
              "│ hw_server @ localhost:3121 │ ┌───────────┬───────────┐                │\n",
              "│                            │ │\u001b[1m \u001b[0m\u001b[1mAttribute\u001b[0m\u001b[1m \u001b[0m│\u001b[1m \u001b[0m\u001b[1mValue    \u001b[0m\u001b[1m \u001b[0m│                │\n",
              "│                            │ ├───────────┼───────────┤                │\n",
              "│                            │ │    Status │ Connected │                │\n",
              "│                            │ │     Build │ 0         │                │\n",
              "│                            │ │   Version │ 2025.1    │                │\n",
              "│                            │ │ Timestamp │           │                │\n",
              "│                            │ └───────────┴───────────┘                │\n",
              "│                            │                                          │\n",
              "│ cs_server @ localhost:3042 │ ┌───────────────┬──────────────────────┐ │\n",
              "│                            │ │\u001b[1m \u001b[0m\u001b[1m    Attribute\u001b[0m\u001b[1m \u001b[0m│\u001b[1m \u001b[0m\u001b[1mValue               \u001b[0m\u001b[1m \u001b[0m│ │\n",
              "│                            │ ├───────────────┼──────────────────────┤ │\n",
              "│                            │ │        Status │ Connected            │ │\n",
              "│                            │ │         Build │ 1747163727           │ │\n",
              "│                            │ │       Version │ 2025.1.0             │ │\n",
              "│                            │ │     Timestamp │ May 13 2025-12:15:27 │ │\n",
              "│                            │ │       Package │ 2025.1.1747163727    │ │\n",
              "│                            │ │ Artifact type │ pyinstaller          │ │\n",
              "│                            │ └───────────────┴──────────────────────┘ │\n",
              "└────────────────────────────┴──────────────────────────────────────────┘\n"
            ]
          },
          "metadata": {},
          "output_type": "display_data"
        },
        {
          "data": {
            "text/html": [
              "<pre style=\"white-space:pre;overflow-x:auto;line-height:normal;font-family:Menlo,'DejaVu Sans Mono',consolas,'Courier New',monospace\">\n",
              "\n",
              "</pre>\n"
            ],
            "text/plain": [
              "\n",
              "\n"
            ]
          },
          "metadata": {},
          "output_type": "display_data"
        }
      ],
      "source": [
        "# Start of the connection\n",
        "session = create_session(cs_server_url=CS_URL, hw_server_url=HW_URL)\n",
        "report_versions(session)"
      ]
    },
    {
      "cell_type": "markdown",
      "id": "78f1f4a5",
      "metadata": {},
      "source": [
        "## 3 - Program the device with the example design\n",
        "\n",
        "After this step,\n",
        "- Device is programmed with the example programming file"
      ]
    },
    {
      "cell_type": "code",
      "execution_count": 4,
      "id": "4a242f9a",
      "metadata": {},
      "outputs": [
        {
          "data": {
            "text/html": [
              "<pre style=\"white-space:pre;overflow-x:auto;line-height:normal;font-family:Menlo,'DejaVu Sans Mono',consolas,'Courier New',monospace\">\n",
              "<span style=\"font-weight: bold\">--&gt; INFO: </span>Programming device with: \n",
              "/scratch/wrk/chipscopy/chipscopy/examples/designs/vck190/production/chipscopy_ced/chipscopy_wrapper.pdi\n",
              "    \n",
              "</pre>\n"
            ],
            "text/plain": [
              "\n",
              "\u001b[1m--> INFO: \u001b[0mProgramming device with: \n",
              "/scratch/wrk/chipscopy/chipscopy/examples/designs/vck190/production/chipscopy_ced/chipscopy_wrapper.pdi\n",
              "    \n"
            ]
          },
          "metadata": {},
          "output_type": "display_data"
        },
        {
          "data": {
            "application/vnd.jupyter.widget-view+json": {
              "model_id": "4d5b5c09a92948269cffe29897974357",
              "version_major": 2,
              "version_minor": 0
            },
            "text/plain": [
              "Output()"
            ]
          },
          "metadata": {},
          "output_type": "display_data"
        },
        {
          "data": {
            "text/html": [
              "<pre style=\"white-space:pre;overflow-x:auto;line-height:normal;font-family:Menlo,'DejaVu Sans Mono',consolas,'Courier New',monospace\"></pre>\n"
            ],
            "text/plain": []
          },
          "metadata": {},
          "output_type": "display_data"
        }
      ],
      "source": [
        "# Typical case - one device on the board - get it.\n",
        "versal_device = session.devices.filter_by(family=\"versal\").get()\n",
        "if PROG_DEVICE:\n",
        "    versal_device.program(PDI_FILE)\n",
        "else:\n",
        "    print(\"skipping programming\")"
      ]
    },
    {
      "cell_type": "markdown",
      "id": "7505cc85",
      "metadata": {},
      "source": [
        "## 4 - Discover Debug Cores\n",
        "\n",
        "Debug core discovery initializes the chipscope server debug cores. This brings debug cores in the chipscope server online.\n",
        "\n",
        "After this step,\n",
        "\n",
        "- The cs_server is initialized and ready for use"
      ]
    },
    {
      "cell_type": "code",
      "execution_count": 5,
      "id": "10d4769e",
      "metadata": {},
      "outputs": [
        {
          "name": "stdout",
          "output_type": "stream",
          "text": [
            "Debug cores setup and ready for use.\n"
          ]
        }
      ],
      "source": [
        "versal_device.discover_and_setup_cores()\n",
        "print(f\"Debug cores setup and ready for use.\")"
      ]
    },
    {
      "cell_type": "markdown",
      "id": "9863212e",
      "metadata": {},
      "source": [
        "## 5 - Show enabled DDRs in the device. Pick one to use"
      ]
    },
    {
      "cell_type": "code",
      "execution_count": 6,
      "id": "dc2615b9",
      "metadata": {},
      "outputs": [
        {
          "name": "stdout",
          "output_type": "stream",
          "text": [
            "ddr_0   Enabled: True\n",
            "ddr_1   Enabled: False\n",
            "ddr_2   Enabled: False\n",
            "ddr_3   Enabled: False\n",
            "Using Enabled DDR:  ddr_0\n"
          ]
        }
      ],
      "source": [
        "ddr_list = versal_device.ddrs\n",
        "for ddr in ddr_list:\n",
        "    print(ddr, \"  Enabled:\", ddr.is_enabled)\n",
        "\n",
        "# Grab the first enabled DDR\n",
        "for ddr in ddr_list:\n",
        "    if ddr.is_enabled:\n",
        "        print(\"Using Enabled DDR: \", ddr)\n",
        "        break"
      ]
    },
    {
      "cell_type": "markdown",
      "id": "7230dfbd",
      "metadata": {},
      "source": [
        "## 6 - Getting the Calibration Status\n",
        "\n",
        "There are several methods available to collect memory calibration information."
      ]
    },
    {
      "cell_type": "markdown",
      "id": "bf46a674",
      "metadata": {},
      "source": [
        "### Method 1 - Calibration PASS/FAIL status"
      ]
    },
    {
      "cell_type": "code",
      "execution_count": 7,
      "id": "13774cbe",
      "metadata": {},
      "outputs": [
        {
          "name": "stdout",
          "output_type": "stream",
          "text": [
            "ddr_0 calibration status: PASS\n"
          ]
        }
      ],
      "source": [
        "# Method 1 - Use Status string base API directly\n",
        "print(ddr, \"calibration status:\", ddr.get_cal_status())"
      ]
    },
    {
      "cell_type": "markdown",
      "id": "90ba902d",
      "metadata": {},
      "source": [
        "### Method 2 - Calibration from the status property group"
      ]
    },
    {
      "cell_type": "code",
      "execution_count": 8,
      "id": "a734709e",
      "metadata": {},
      "outputs": [
        {
          "name": "stdout",
          "output_type": "stream",
          "text": [
            "{ 'cal_error_msg': 'None',\n",
            "  'cal_message': 'No errors detected during calibration.',\n",
            "  'cal_status': 'PASS',\n",
            "  'dqs_status': 'Running',\n",
            "  'health_status': 'GOOD',\n",
            "  'track_enable': 'Post-Cal Status, DDRMC ISR Tracking, UB ISR Tracking, DQS '\n",
            "                  'Gate Tracking'}\n"
          ]
        }
      ],
      "source": [
        "# Use Property Group to get dictionary base of results\n",
        "props = ddr.ddr_node.get_property_group([\"status\"])\n",
        "print(pprint.pformat(props, indent=2))"
      ]
    },
    {
      "cell_type": "markdown",
      "id": "1fbab64a",
      "metadata": {},
      "source": [
        "### Method 3 - Detailed calibration status for each stage"
      ]
    },
    {
      "cell_type": "code",
      "execution_count": 9,
      "id": "6bac1adf",
      "metadata": {},
      "outputs": [
        {
          "name": "stdout",
          "output_type": "stream",
          "text": [
            "[ ('cal_stage.01_F0_PHY_BISC', 'Pass'),\n",
            "  ('cal_stage.02_F0_MEM_INIT', 'Pass'),\n",
            "  ('cal_stage.03_F0_DQS_GATE_CAL', 'Pass'),\n",
            "  ('cal_stage.04_F0_WRITE_LEVELING', 'Pass'),\n",
            "  ('cal_stage.05_F0_READ_DQ_CAL', 'Pass'),\n",
            "  ('cal_stage.06_F0_WRITE_DQ_DBI_CAL', 'Pass'),\n",
            "  ('cal_stage.07_F0_WRITE_LATENCY_CAL', 'Pass'),\n",
            "  ('cal_stage.08_F0_READ_DQ_DBI_CAL_COMPLEX', 'Pass'),\n",
            "  ('cal_stage.09_F0_WRITE_DQ_DBI_CAL_COMPLEX', 'Pass'),\n",
            "  ('cal_stage.10_EN_VT_TRACK', 'Pass'),\n",
            "  ('cal_stage.11_READ_DQS_TRACK', 'Pass'),\n",
            "  ('cal_stage.12_CAL_DONE', 'Pass')]\n"
          ]
        }
      ],
      "source": [
        "# Use get Cal Stages API directly to also get dictionary results\n",
        "props = ddr.get_cal_stages()\n",
        "print(pprint.pformat(sorted(props.items()), indent=2))"
      ]
    },
    {
      "cell_type": "markdown",
      "id": "04d7a994",
      "metadata": {},
      "source": [
        "## 7 - Generate Full DDRMC Report\n",
        "\n",
        "The report() API call creates a full DDRMC status report to stdout or a file. This report includes memory configuration, margin analysis, calibration, and health status information."
      ]
    },
    {
      "cell_type": "code",
      "execution_count": 10,
      "id": "6b327707",
      "metadata": {},
      "outputs": [
        {
          "data": {
            "text/html": [
              "<pre style=\"white-space:pre;overflow-x:auto;line-height:normal;font-family:Menlo,'DejaVu Sans Mono',consolas,'Courier New',monospace\">-------------------\n",
              "\n",
              "</pre>\n"
            ],
            "text/plain": [
              "-------------------\n",
              "\n"
            ]
          },
          "metadata": {},
          "output_type": "display_data"
        },
        {
          "data": {
            "text/html": [
              "<pre style=\"white-space:pre;overflow-x:auto;line-height:normal;font-family:Menlo,'DejaVu Sans Mono',consolas,'Courier New',monospace\"> DDRMC Status \n",
              "\n",
              "</pre>\n"
            ],
            "text/plain": [
              " DDRMC Status \n",
              "\n"
            ]
          },
          "metadata": {},
          "output_type": "display_data"
        },
        {
          "data": {
            "text/html": [
              "<pre style=\"white-space:pre;overflow-x:auto;line-height:normal;font-family:Menlo,'DejaVu Sans Mono',consolas,'Courier New',monospace\">-------------------\n",
              "\n",
              "</pre>\n"
            ],
            "text/plain": [
              "-------------------\n",
              "\n"
            ]
          },
          "metadata": {},
          "output_type": "display_data"
        },
        {
          "data": {
            "text/html": [
              "<pre style=\"white-space:pre;overflow-x:auto;line-height:normal;font-family:Menlo,'DejaVu Sans Mono',consolas,'Courier New',monospace\">Calibration Status:   PASS \n",
              "\n",
              "</pre>\n"
            ],
            "text/plain": [
              "Calibration Status:   PASS \n",
              "\n"
            ]
          },
          "metadata": {},
          "output_type": "display_data"
        },
        {
          "data": {
            "text/html": [
              "<pre style=\"white-space:pre;overflow-x:auto;line-height:normal;font-family:Menlo,'DejaVu Sans Mono',consolas,'Courier New',monospace\">Overall Health:   GOOD \n",
              "\n",
              "</pre>\n"
            ],
            "text/plain": [
              "Overall Health:   GOOD \n",
              "\n"
            ]
          },
          "metadata": {},
          "output_type": "display_data"
        },
        {
          "data": {
            "text/html": [
              "<pre style=\"white-space:pre;overflow-x:auto;line-height:normal;font-family:Menlo,'DejaVu Sans Mono',consolas,'Courier New',monospace\">Message:   No errors detected during calibration. \n",
              "\n",
              "</pre>\n"
            ],
            "text/plain": [
              "Message:   No errors detected during calibration. \n",
              "\n"
            ]
          },
          "metadata": {},
          "output_type": "display_data"
        },
        {
          "data": {
            "text/html": [
              "<pre style=\"white-space:pre;overflow-x:auto;line-height:normal;font-family:Menlo,'DejaVu Sans Mono',consolas,'Courier New',monospace\">\n",
              "-------------------\n",
              "\n",
              "</pre>\n"
            ],
            "text/plain": [
              "\n",
              "-------------------\n",
              "\n"
            ]
          },
          "metadata": {},
          "output_type": "display_data"
        },
        {
          "data": {
            "text/html": [
              "<pre style=\"white-space:pre;overflow-x:auto;line-height:normal;font-family:Menlo,'DejaVu Sans Mono',consolas,'Courier New',monospace\"> Status Registers\n",
              "\n",
              "</pre>\n"
            ],
            "text/plain": [
              " Status Registers\n",
              "\n"
            ]
          },
          "metadata": {},
          "output_type": "display_data"
        },
        {
          "data": {
            "text/html": [
              "<pre style=\"white-space:pre;overflow-x:auto;line-height:normal;font-family:Menlo,'DejaVu Sans Mono',consolas,'Courier New',monospace\">-------------------\n",
              "\n",
              "</pre>\n"
            ],
            "text/plain": [
              "-------------------\n",
              "\n"
            ]
          },
          "metadata": {},
          "output_type": "display_data"
        },
        {
          "data": {
            "text/html": [
              "<pre style=\"white-space:pre;overflow-x:auto;line-height:normal;font-family:Menlo,'DejaVu Sans Mono',consolas,'Courier New',monospace\">DDRMC ISR Table\n",
              "\n",
              "</pre>\n"
            ],
            "text/plain": [
              "DDRMC ISR Table\n",
              "\n"
            ]
          },
          "metadata": {},
          "output_type": "display_data"
        },
        {
          "data": {
            "text/html": [
              "<pre style=\"white-space:pre;overflow-x:auto;line-height:normal;font-family:Menlo,'DejaVu Sans Mono',consolas,'Courier New',monospace\">   ddrmc_isr_ce0_ecc0 :   <span style=\"color: #008080; text-decoration-color: #008080; font-weight: bold\">0</span>\n",
              "</pre>\n"
            ],
            "text/plain": [
              "   ddrmc_isr_ce0_ecc0 :   \u001b[1;36m0\u001b[0m\n"
            ]
          },
          "metadata": {},
          "output_type": "display_data"
        },
        {
          "data": {
            "text/html": [
              "<pre style=\"white-space:pre;overflow-x:auto;line-height:normal;font-family:Menlo,'DejaVu Sans Mono',consolas,'Courier New',monospace\">   ddrmc_isr_ce0_ecc1 :   <span style=\"color: #008080; text-decoration-color: #008080; font-weight: bold\">0</span>\n",
              "</pre>\n"
            ],
            "text/plain": [
              "   ddrmc_isr_ce0_ecc1 :   \u001b[1;36m0\u001b[0m\n"
            ]
          },
          "metadata": {},
          "output_type": "display_data"
        },
        {
          "data": {
            "text/html": [
              "<pre style=\"white-space:pre;overflow-x:auto;line-height:normal;font-family:Menlo,'DejaVu Sans Mono',consolas,'Courier New',monospace\">   ddrmc_isr_ce1_ecc0 :   <span style=\"color: #008080; text-decoration-color: #008080; font-weight: bold\">0</span>\n",
              "</pre>\n"
            ],
            "text/plain": [
              "   ddrmc_isr_ce1_ecc0 :   \u001b[1;36m0\u001b[0m\n"
            ]
          },
          "metadata": {},
          "output_type": "display_data"
        },
        {
          "data": {
            "text/html": [
              "<pre style=\"white-space:pre;overflow-x:auto;line-height:normal;font-family:Menlo,'DejaVu Sans Mono',consolas,'Courier New',monospace\">   ddrmc_isr_ce1_ecc1 :   <span style=\"color: #008080; text-decoration-color: #008080; font-weight: bold\">0</span>\n",
              "</pre>\n"
            ],
            "text/plain": [
              "   ddrmc_isr_ce1_ecc1 :   \u001b[1;36m0\u001b[0m\n"
            ]
          },
          "metadata": {},
          "output_type": "display_data"
        },
        {
          "data": {
            "text/html": [
              "<pre style=\"white-space:pre;overflow-x:auto;line-height:normal;font-family:Menlo,'DejaVu Sans Mono',consolas,'Courier New',monospace\">   ddrmc_isr_ch0_data_par :   <span style=\"color: #008080; text-decoration-color: #008080; font-weight: bold\">0</span>\n",
              "</pre>\n"
            ],
            "text/plain": [
              "   ddrmc_isr_ch0_data_par :   \u001b[1;36m0\u001b[0m\n"
            ]
          },
          "metadata": {},
          "output_type": "display_data"
        },
        {
          "data": {
            "text/html": [
              "<pre style=\"white-space:pre;overflow-x:auto;line-height:normal;font-family:Menlo,'DejaVu Sans Mono',consolas,'Courier New',monospace\">   ddrmc_isr_ch1_data_par :   <span style=\"color: #008080; text-decoration-color: #008080; font-weight: bold\">0</span>\n",
              "</pre>\n"
            ],
            "text/plain": [
              "   ddrmc_isr_ch1_data_par :   \u001b[1;36m0\u001b[0m\n"
            ]
          },
          "metadata": {},
          "output_type": "display_data"
        },
        {
          "data": {
            "text/html": [
              "<pre style=\"white-space:pre;overflow-x:auto;line-height:normal;font-family:Menlo,'DejaVu Sans Mono',consolas,'Courier New',monospace\">   ddrmc_isr_dc_cmd0_fatal :   <span style=\"color: #008080; text-decoration-color: #008080; font-weight: bold\">0</span>\n",
              "</pre>\n"
            ],
            "text/plain": [
              "   ddrmc_isr_dc_cmd0_fatal :   \u001b[1;36m0\u001b[0m\n"
            ]
          },
          "metadata": {},
          "output_type": "display_data"
        },
        {
          "data": {
            "text/html": [
              "<pre style=\"white-space:pre;overflow-x:auto;line-height:normal;font-family:Menlo,'DejaVu Sans Mono',consolas,'Courier New',monospace\">   ddrmc_isr_dc_cmd1_fatal :   <span style=\"color: #008080; text-decoration-color: #008080; font-weight: bold\">0</span>\n",
              "</pre>\n"
            ],
            "text/plain": [
              "   ddrmc_isr_dc_cmd1_fatal :   \u001b[1;36m0\u001b[0m\n"
            ]
          },
          "metadata": {},
          "output_type": "display_data"
        },
        {
          "data": {
            "text/html": [
              "<pre style=\"white-space:pre;overflow-x:auto;line-height:normal;font-family:Menlo,'DejaVu Sans Mono',consolas,'Courier New',monospace\">   ddrmc_isr_dram_parity0 :   <span style=\"color: #008080; text-decoration-color: #008080; font-weight: bold\">0</span>\n",
              "</pre>\n"
            ],
            "text/plain": [
              "   ddrmc_isr_dram_parity0 :   \u001b[1;36m0\u001b[0m\n"
            ]
          },
          "metadata": {},
          "output_type": "display_data"
        },
        {
          "data": {
            "text/html": [
              "<pre style=\"white-space:pre;overflow-x:auto;line-height:normal;font-family:Menlo,'DejaVu Sans Mono',consolas,'Courier New',monospace\">   ddrmc_isr_dram_parity1 :   <span style=\"color: #008080; text-decoration-color: #008080; font-weight: bold\">0</span>\n",
              "</pre>\n"
            ],
            "text/plain": [
              "   ddrmc_isr_dram_parity1 :   \u001b[1;36m0\u001b[0m\n"
            ]
          },
          "metadata": {},
          "output_type": "display_data"
        },
        {
          "data": {
            "text/html": [
              "<pre style=\"white-space:pre;overflow-x:auto;line-height:normal;font-family:Menlo,'DejaVu Sans Mono',consolas,'Courier New',monospace\">   ddrmc_isr_dram_parity_fatal_0 :   <span style=\"color: #008080; text-decoration-color: #008080; font-weight: bold\">0</span>\n",
              "</pre>\n"
            ],
            "text/plain": [
              "   ddrmc_isr_dram_parity_fatal_0 :   \u001b[1;36m0\u001b[0m\n"
            ]
          },
          "metadata": {},
          "output_type": "display_data"
        },
        {
          "data": {
            "text/html": [
              "<pre style=\"white-space:pre;overflow-x:auto;line-height:normal;font-family:Menlo,'DejaVu Sans Mono',consolas,'Courier New',monospace\">   ddrmc_isr_dram_parity_fatal_1 :   <span style=\"color: #008080; text-decoration-color: #008080; font-weight: bold\">0</span>\n",
              "</pre>\n"
            ],
            "text/plain": [
              "   ddrmc_isr_dram_parity_fatal_1 :   \u001b[1;36m0\u001b[0m\n"
            ]
          },
          "metadata": {},
          "output_type": "display_data"
        },
        {
          "data": {
            "text/html": [
              "<pre style=\"white-space:pre;overflow-x:auto;line-height:normal;font-family:Menlo,'DejaVu Sans Mono',consolas,'Courier New',monospace\">   ddrmc_isr_na_cmd :   <span style=\"color: #008080; text-decoration-color: #008080; font-weight: bold\">0</span>\n",
              "</pre>\n"
            ],
            "text/plain": [
              "   ddrmc_isr_na_cmd :   \u001b[1;36m0\u001b[0m\n"
            ]
          },
          "metadata": {},
          "output_type": "display_data"
        },
        {
          "data": {
            "text/html": [
              "<pre style=\"white-space:pre;overflow-x:auto;line-height:normal;font-family:Menlo,'DejaVu Sans Mono',consolas,'Courier New',monospace\">   ddrmc_isr_na_cmd0 :   <span style=\"color: #008080; text-decoration-color: #008080; font-weight: bold\">0</span>\n",
              "</pre>\n"
            ],
            "text/plain": [
              "   ddrmc_isr_na_cmd0 :   \u001b[1;36m0\u001b[0m\n"
            ]
          },
          "metadata": {},
          "output_type": "display_data"
        },
        {
          "data": {
            "text/html": [
              "<pre style=\"white-space:pre;overflow-x:auto;line-height:normal;font-family:Menlo,'DejaVu Sans Mono',consolas,'Courier New',monospace\">   ddrmc_isr_na_cmd1 :   <span style=\"color: #008080; text-decoration-color: #008080; font-weight: bold\">0</span>\n",
              "</pre>\n"
            ],
            "text/plain": [
              "   ddrmc_isr_na_cmd1 :   \u001b[1;36m0\u001b[0m\n"
            ]
          },
          "metadata": {},
          "output_type": "display_data"
        },
        {
          "data": {
            "text/html": [
              "<pre style=\"white-space:pre;overflow-x:auto;line-height:normal;font-family:Menlo,'DejaVu Sans Mono',consolas,'Courier New',monospace\">   ddrmc_isr_na_cmd_fatal :   <span style=\"color: #008080; text-decoration-color: #008080; font-weight: bold\">0</span>\n",
              "</pre>\n"
            ],
            "text/plain": [
              "   ddrmc_isr_na_cmd_fatal :   \u001b[1;36m0\u001b[0m\n"
            ]
          },
          "metadata": {},
          "output_type": "display_data"
        },
        {
          "data": {
            "text/html": [
              "<pre style=\"white-space:pre;overflow-x:auto;line-height:normal;font-family:Menlo,'DejaVu Sans Mono',consolas,'Courier New',monospace\">   ddrmc_isr_nsu_0 :   <span style=\"color: #008080; text-decoration-color: #008080; font-weight: bold\">0</span>\n",
              "</pre>\n"
            ],
            "text/plain": [
              "   ddrmc_isr_nsu_0 :   \u001b[1;36m0\u001b[0m\n"
            ]
          },
          "metadata": {},
          "output_type": "display_data"
        },
        {
          "data": {
            "text/html": [
              "<pre style=\"white-space:pre;overflow-x:auto;line-height:normal;font-family:Menlo,'DejaVu Sans Mono',consolas,'Courier New',monospace\">   ddrmc_isr_nsu_1 :   <span style=\"color: #008080; text-decoration-color: #008080; font-weight: bold\">0</span>\n",
              "</pre>\n"
            ],
            "text/plain": [
              "   ddrmc_isr_nsu_1 :   \u001b[1;36m0\u001b[0m\n"
            ]
          },
          "metadata": {},
          "output_type": "display_data"
        },
        {
          "data": {
            "text/html": [
              "<pre style=\"white-space:pre;overflow-x:auto;line-height:normal;font-family:Menlo,'DejaVu Sans Mono',consolas,'Courier New',monospace\">   ddrmc_isr_nsu_2 :   <span style=\"color: #008080; text-decoration-color: #008080; font-weight: bold\">0</span>\n",
              "</pre>\n"
            ],
            "text/plain": [
              "   ddrmc_isr_nsu_2 :   \u001b[1;36m0\u001b[0m\n"
            ]
          },
          "metadata": {},
          "output_type": "display_data"
        },
        {
          "data": {
            "text/html": [
              "<pre style=\"white-space:pre;overflow-x:auto;line-height:normal;font-family:Menlo,'DejaVu Sans Mono',consolas,'Courier New',monospace\">   ddrmc_isr_nsu_3 :   <span style=\"color: #008080; text-decoration-color: #008080; font-weight: bold\">0</span>\n",
              "</pre>\n"
            ],
            "text/plain": [
              "   ddrmc_isr_nsu_3 :   \u001b[1;36m0\u001b[0m\n"
            ]
          },
          "metadata": {},
          "output_type": "display_data"
        },
        {
          "data": {
            "text/html": [
              "<pre style=\"white-space:pre;overflow-x:auto;line-height:normal;font-family:Menlo,'DejaVu Sans Mono',consolas,'Courier New',monospace\">   ddrmc_isr_nsu_fatal0 :   <span style=\"color: #008080; text-decoration-color: #008080; font-weight: bold\">0</span>\n",
              "</pre>\n"
            ],
            "text/plain": [
              "   ddrmc_isr_nsu_fatal0 :   \u001b[1;36m0\u001b[0m\n"
            ]
          },
          "metadata": {},
          "output_type": "display_data"
        },
        {
          "data": {
            "text/html": [
              "<pre style=\"white-space:pre;overflow-x:auto;line-height:normal;font-family:Menlo,'DejaVu Sans Mono',consolas,'Courier New',monospace\">   ddrmc_isr_nsu_fatal1 :   <span style=\"color: #008080; text-decoration-color: #008080; font-weight: bold\">0</span>\n",
              "</pre>\n"
            ],
            "text/plain": [
              "   ddrmc_isr_nsu_fatal1 :   \u001b[1;36m0\u001b[0m\n"
            ]
          },
          "metadata": {},
          "output_type": "display_data"
        },
        {
          "data": {
            "text/html": [
              "<pre style=\"white-space:pre;overflow-x:auto;line-height:normal;font-family:Menlo,'DejaVu Sans Mono',consolas,'Courier New',monospace\">   ddrmc_isr_nsu_fatal2 :   <span style=\"color: #008080; text-decoration-color: #008080; font-weight: bold\">0</span>\n",
              "</pre>\n"
            ],
            "text/plain": [
              "   ddrmc_isr_nsu_fatal2 :   \u001b[1;36m0\u001b[0m\n"
            ]
          },
          "metadata": {},
          "output_type": "display_data"
        },
        {
          "data": {
            "text/html": [
              "<pre style=\"white-space:pre;overflow-x:auto;line-height:normal;font-family:Menlo,'DejaVu Sans Mono',consolas,'Courier New',monospace\">   ddrmc_isr_nsu_fatal3 :   <span style=\"color: #008080; text-decoration-color: #008080; font-weight: bold\">0</span>\n",
              "</pre>\n"
            ],
            "text/plain": [
              "   ddrmc_isr_nsu_fatal3 :   \u001b[1;36m0\u001b[0m\n"
            ]
          },
          "metadata": {},
          "output_type": "display_data"
        },
        {
          "data": {
            "text/html": [
              "<pre style=\"white-space:pre;overflow-x:auto;line-height:normal;font-family:Menlo,'DejaVu Sans Mono',consolas,'Courier New',monospace\">   ddrmc_isr_uc0_ecc0 :   <span style=\"color: #008080; text-decoration-color: #008080; font-weight: bold\">0</span>\n",
              "</pre>\n"
            ],
            "text/plain": [
              "   ddrmc_isr_uc0_ecc0 :   \u001b[1;36m0\u001b[0m\n"
            ]
          },
          "metadata": {},
          "output_type": "display_data"
        },
        {
          "data": {
            "text/html": [
              "<pre style=\"white-space:pre;overflow-x:auto;line-height:normal;font-family:Menlo,'DejaVu Sans Mono',consolas,'Courier New',monospace\">   ddrmc_isr_uc0_ecc1 :   <span style=\"color: #008080; text-decoration-color: #008080; font-weight: bold\">0</span>\n",
              "</pre>\n"
            ],
            "text/plain": [
              "   ddrmc_isr_uc0_ecc1 :   \u001b[1;36m0\u001b[0m\n"
            ]
          },
          "metadata": {},
          "output_type": "display_data"
        },
        {
          "data": {
            "text/html": [
              "<pre style=\"white-space:pre;overflow-x:auto;line-height:normal;font-family:Menlo,'DejaVu Sans Mono',consolas,'Courier New',monospace\">   ddrmc_isr_uc1_ecc0 :   <span style=\"color: #008080; text-decoration-color: #008080; font-weight: bold\">0</span>\n",
              "</pre>\n"
            ],
            "text/plain": [
              "   ddrmc_isr_uc1_ecc0 :   \u001b[1;36m0\u001b[0m\n"
            ]
          },
          "metadata": {},
          "output_type": "display_data"
        },
        {
          "data": {
            "text/html": [
              "<pre style=\"white-space:pre;overflow-x:auto;line-height:normal;font-family:Menlo,'DejaVu Sans Mono',consolas,'Courier New',monospace\">   ddrmc_isr_uc1_ecc1 :   <span style=\"color: #008080; text-decoration-color: #008080; font-weight: bold\">0</span>\n",
              "</pre>\n"
            ],
            "text/plain": [
              "   ddrmc_isr_uc1_ecc1 :   \u001b[1;36m0\u001b[0m\n"
            ]
          },
          "metadata": {},
          "output_type": "display_data"
        },
        {
          "data": {
            "text/html": [
              "<pre style=\"white-space:pre;overflow-x:auto;line-height:normal;font-family:Menlo,'DejaVu Sans Mono',consolas,'Courier New',monospace\">\n",
              "UB ISR Table\n",
              "\n",
              "</pre>\n"
            ],
            "text/plain": [
              "\n",
              "UB ISR Table\n",
              "\n"
            ]
          },
          "metadata": {},
          "output_type": "display_data"
        },
        {
          "data": {
            "text/html": [
              "<pre style=\"white-space:pre;overflow-x:auto;line-height:normal;font-family:Menlo,'DejaVu Sans Mono',consolas,'Courier New',monospace\">   ub_data_ce :   <span style=\"color: #008080; text-decoration-color: #008080; font-weight: bold\">0</span>\n",
              "</pre>\n"
            ],
            "text/plain": [
              "   ub_data_ce :   \u001b[1;36m0\u001b[0m\n"
            ]
          },
          "metadata": {},
          "output_type": "display_data"
        },
        {
          "data": {
            "text/html": [
              "<pre style=\"white-space:pre;overflow-x:auto;line-height:normal;font-family:Menlo,'DejaVu Sans Mono',consolas,'Courier New',monospace\">   ub_data_ue :   <span style=\"color: #008080; text-decoration-color: #008080; font-weight: bold\">0</span>\n",
              "</pre>\n"
            ],
            "text/plain": [
              "   ub_data_ue :   \u001b[1;36m0\u001b[0m\n"
            ]
          },
          "metadata": {},
          "output_type": "display_data"
        },
        {
          "data": {
            "text/html": [
              "<pre style=\"white-space:pre;overflow-x:auto;line-height:normal;font-family:Menlo,'DejaVu Sans Mono',consolas,'Courier New',monospace\">   ub_instr_ce :   <span style=\"color: #008080; text-decoration-color: #008080; font-weight: bold\">0</span>\n",
              "</pre>\n"
            ],
            "text/plain": [
              "   ub_instr_ce :   \u001b[1;36m0\u001b[0m\n"
            ]
          },
          "metadata": {},
          "output_type": "display_data"
        },
        {
          "data": {
            "text/html": [
              "<pre style=\"white-space:pre;overflow-x:auto;line-height:normal;font-family:Menlo,'DejaVu Sans Mono',consolas,'Courier New',monospace\">   ub_isntr_ue :   <span style=\"color: #008080; text-decoration-color: #008080; font-weight: bold\">0</span>\n",
              "</pre>\n"
            ],
            "text/plain": [
              "   ub_isntr_ue :   \u001b[1;36m0\u001b[0m\n"
            ]
          },
          "metadata": {},
          "output_type": "display_data"
        },
        {
          "data": {
            "text/html": [
              "<pre style=\"white-space:pre;overflow-x:auto;line-height:normal;font-family:Menlo,'DejaVu Sans Mono',consolas,'Courier New',monospace\">   ub_isr_calerror :   <span style=\"color: #008080; text-decoration-color: #008080; font-weight: bold\">0</span>\n",
              "</pre>\n"
            ],
            "text/plain": [
              "   ub_isr_calerror :   \u001b[1;36m0\u001b[0m\n"
            ]
          },
          "metadata": {},
          "output_type": "display_data"
        },
        {
          "data": {
            "text/html": [
              "<pre style=\"white-space:pre;overflow-x:auto;line-height:normal;font-family:Menlo,'DejaVu Sans Mono',consolas,'Courier New',monospace\">   ub_isr_vt_track_err :   <span style=\"color: #008080; text-decoration-color: #008080; font-weight: bold\">0</span>\n",
              "</pre>\n"
            ],
            "text/plain": [
              "   ub_isr_vt_track_err :   \u001b[1;36m0\u001b[0m\n"
            ]
          },
          "metadata": {},
          "output_type": "display_data"
        },
        {
          "data": {
            "text/html": [
              "<pre style=\"white-space:pre;overflow-x:auto;line-height:normal;font-family:Menlo,'DejaVu Sans Mono',consolas,'Courier New',monospace\">   ub_isr_watchdog :   <span style=\"color: #008080; text-decoration-color: #008080; font-weight: bold\">0</span>\n",
              "</pre>\n"
            ],
            "text/plain": [
              "   ub_isr_watchdog :   \u001b[1;36m0\u001b[0m\n"
            ]
          },
          "metadata": {},
          "output_type": "display_data"
        },
        {
          "data": {
            "text/html": [
              "<pre style=\"white-space:pre;overflow-x:auto;line-height:normal;font-family:Menlo,'DejaVu Sans Mono',consolas,'Courier New',monospace\">   ub_ub_msg :   <span style=\"color: #008080; text-decoration-color: #008080; font-weight: bold\">0</span>\n",
              "</pre>\n"
            ],
            "text/plain": [
              "   ub_ub_msg :   \u001b[1;36m0\u001b[0m\n"
            ]
          },
          "metadata": {},
          "output_type": "display_data"
        },
        {
          "data": {
            "text/html": [
              "<pre style=\"white-space:pre;overflow-x:auto;line-height:normal;font-family:Menlo,'DejaVu Sans Mono',consolas,'Courier New',monospace\">\n",
              "----------------------------------\n",
              "\n",
              "</pre>\n"
            ],
            "text/plain": [
              "\n",
              "----------------------------------\n",
              "\n"
            ]
          },
          "metadata": {},
          "output_type": "display_data"
        },
        {
          "data": {
            "text/html": [
              "<pre style=\"white-space:pre;overflow-x:auto;line-height:normal;font-family:Menlo,'DejaVu Sans Mono',consolas,'Courier New',monospace\"> Memory Configuration \n",
              "\n",
              "</pre>\n"
            ],
            "text/plain": [
              " Memory Configuration \n",
              "\n"
            ]
          },
          "metadata": {},
          "output_type": "display_data"
        },
        {
          "data": {
            "text/html": [
              "<pre style=\"white-space:pre;overflow-x:auto;line-height:normal;font-family:Menlo,'DejaVu Sans Mono',consolas,'Courier New',monospace\">----------------------------------\n",
              "\n",
              "</pre>\n"
            ],
            "text/plain": [
              "----------------------------------\n",
              "\n"
            ]
          },
          "metadata": {},
          "output_type": "display_data"
        },
        {
          "data": {
            "text/html": [
              "<pre style=\"white-space:pre;overflow-x:auto;line-height:normal;font-family:Menlo,'DejaVu Sans Mono',consolas,'Courier New',monospace\">DDRMC Core Name :   ddr_0\n",
              "</pre>\n"
            ],
            "text/plain": [
              "DDRMC Core Name :   ddr_0\n"
            ]
          },
          "metadata": {},
          "output_type": "display_data"
        },
        {
          "data": {
            "text/html": [
              "<pre style=\"white-space:pre;overflow-x:auto;line-height:normal;font-family:Menlo,'DejaVu Sans Mono',consolas,'Courier New',monospace\">Memory Interface :   DDR4\n",
              "</pre>\n"
            ],
            "text/plain": [
              "Memory Interface :   DDR4\n"
            ]
          },
          "metadata": {},
          "output_type": "display_data"
        },
        {
          "data": {
            "text/html": [
              "<pre style=\"white-space:pre;overflow-x:auto;line-height:normal;font-family:Menlo,'DejaVu Sans Mono',consolas,'Courier New',monospace\">Device Type :   UDIMM\n",
              "</pre>\n"
            ],
            "text/plain": [
              "Device Type :   UDIMM\n"
            ]
          },
          "metadata": {},
          "output_type": "display_data"
        },
        {
          "data": {
            "text/html": [
              "<pre style=\"white-space:pre;overflow-x:auto;line-height:normal;font-family:Menlo,'DejaVu Sans Mono',consolas,'Courier New',monospace\">MC Location :   x0y0\n",
              "</pre>\n"
            ],
            "text/plain": [
              "MC Location :   x0y0\n"
            ]
          },
          "metadata": {},
          "output_type": "display_data"
        },
        {
          "data": {
            "text/html": [
              "<pre style=\"white-space:pre;overflow-x:auto;line-height:normal;font-family:Menlo,'DejaVu Sans Mono',consolas,'Courier New',monospace\">Slots :   <span style=\"color: #008080; text-decoration-color: #008080; font-weight: bold\">1</span>\n",
              "</pre>\n"
            ],
            "text/plain": [
              "Slots :   \u001b[1;36m1\u001b[0m\n"
            ]
          },
          "metadata": {},
          "output_type": "display_data"
        },
        {
          "data": {
            "text/html": [
              "<pre style=\"white-space:pre;overflow-x:auto;line-height:normal;font-family:Menlo,'DejaVu Sans Mono',consolas,'Courier New',monospace\">Ranks :   <span style=\"color: #008080; text-decoration-color: #008080; font-weight: bold\">1</span>\n",
              "</pre>\n"
            ],
            "text/plain": [
              "Ranks :   \u001b[1;36m1\u001b[0m\n"
            ]
          },
          "metadata": {},
          "output_type": "display_data"
        },
        {
          "data": {
            "text/html": [
              "<pre style=\"white-space:pre;overflow-x:auto;line-height:normal;font-family:Menlo,'DejaVu Sans Mono',consolas,'Courier New',monospace\">Data Width :   <span style=\"color: #008080; text-decoration-color: #008080; font-weight: bold\">64</span>\n",
              "</pre>\n"
            ],
            "text/plain": [
              "Data Width :   \u001b[1;36m64\u001b[0m\n"
            ]
          },
          "metadata": {},
          "output_type": "display_data"
        },
        {
          "data": {
            "text/html": [
              "<pre style=\"white-space:pre;overflow-x:auto;line-height:normal;font-family:Menlo,'DejaVu Sans Mono',consolas,'Courier New',monospace\">Bytes :   <span style=\"color: #008080; text-decoration-color: #008080; font-weight: bold\">8</span>\n",
              "</pre>\n"
            ],
            "text/plain": [
              "Bytes :   \u001b[1;36m8\u001b[0m\n"
            ]
          },
          "metadata": {},
          "output_type": "display_data"
        },
        {
          "data": {
            "text/html": [
              "<pre style=\"white-space:pre;overflow-x:auto;line-height:normal;font-family:Menlo,'DejaVu Sans Mono',consolas,'Courier New',monospace\">Nibbles :   <span style=\"color: #008080; text-decoration-color: #008080; font-weight: bold\">16</span>\n",
              "</pre>\n"
            ],
            "text/plain": [
              "Nibbles :   \u001b[1;36m16\u001b[0m\n"
            ]
          },
          "metadata": {},
          "output_type": "display_data"
        },
        {
          "data": {
            "text/html": [
              "<pre style=\"white-space:pre;overflow-x:auto;line-height:normal;font-family:Menlo,'DejaVu Sans Mono',consolas,'Courier New',monospace\">Bits per Byte :   <span style=\"color: #008080; text-decoration-color: #008080; font-weight: bold\">8</span>\n",
              "</pre>\n"
            ],
            "text/plain": [
              "Bits per Byte :   \u001b[1;36m8\u001b[0m\n"
            ]
          },
          "metadata": {},
          "output_type": "display_data"
        },
        {
          "data": {
            "text/html": [
              "<pre style=\"white-space:pre;overflow-x:auto;line-height:normal;font-family:Menlo,'DejaVu Sans Mono',consolas,'Courier New',monospace\">Memory Frequency <span style=\"color: #008080; text-decoration-color: #008080; font-weight: bold\">0</span> :   <span style=\"color: #008080; text-decoration-color: #008080; font-weight: bold\">1600</span> MHz\n",
              "</pre>\n"
            ],
            "text/plain": [
              "Memory Frequency \u001b[1;36m0\u001b[0m :   \u001b[1;36m1600\u001b[0m MHz\n"
            ]
          },
          "metadata": {},
          "output_type": "display_data"
        },
        {
          "data": {
            "text/html": [
              "<pre style=\"white-space:pre;overflow-x:auto;line-height:normal;font-family:Menlo,'DejaVu Sans Mono',consolas,'Courier New',monospace\">\n",
              "-----------------------------------\n",
              "\n",
              "</pre>\n"
            ],
            "text/plain": [
              "\n",
              "-----------------------------------\n",
              "\n"
            ]
          },
          "metadata": {},
          "output_type": "display_data"
        },
        {
          "data": {
            "text/html": [
              "<pre style=\"white-space:pre;overflow-x:auto;line-height:normal;font-family:Menlo,'DejaVu Sans Mono',consolas,'Courier New',monospace\"> Calibration Stages Information \n",
              "\n",
              "</pre>\n"
            ],
            "text/plain": [
              " Calibration Stages Information \n",
              "\n"
            ]
          },
          "metadata": {},
          "output_type": "display_data"
        },
        {
          "data": {
            "text/html": [
              "<pre style=\"white-space:pre;overflow-x:auto;line-height:normal;font-family:Menlo,'DejaVu Sans Mono',consolas,'Courier New',monospace\">-----------------------------------\n",
              "\n",
              "</pre>\n"
            ],
            "text/plain": [
              "-----------------------------------\n",
              "\n"
            ]
          },
          "metadata": {},
          "output_type": "display_data"
        },
        {
          "data": {
            "text/html": [
              "<pre style=\"white-space:pre;overflow-x:auto;line-height:normal;font-family:Menlo,'DejaVu Sans Mono',consolas,'Courier New',monospace\">cal_stage.01_F0_PHY_BISC :   Pass\n",
              "</pre>\n"
            ],
            "text/plain": [
              "cal_stage.01_F0_PHY_BISC :   Pass\n"
            ]
          },
          "metadata": {},
          "output_type": "display_data"
        },
        {
          "data": {
            "text/html": [
              "<pre style=\"white-space:pre;overflow-x:auto;line-height:normal;font-family:Menlo,'DejaVu Sans Mono',consolas,'Courier New',monospace\">cal_stage.02_F0_MEM_INIT :   Pass\n",
              "</pre>\n"
            ],
            "text/plain": [
              "cal_stage.02_F0_MEM_INIT :   Pass\n"
            ]
          },
          "metadata": {},
          "output_type": "display_data"
        },
        {
          "data": {
            "text/html": [
              "<pre style=\"white-space:pre;overflow-x:auto;line-height:normal;font-family:Menlo,'DejaVu Sans Mono',consolas,'Courier New',monospace\">cal_stage.03_F0_DQS_GATE_CAL :   Pass\n",
              "</pre>\n"
            ],
            "text/plain": [
              "cal_stage.03_F0_DQS_GATE_CAL :   Pass\n"
            ]
          },
          "metadata": {},
          "output_type": "display_data"
        },
        {
          "data": {
            "text/html": [
              "<pre style=\"white-space:pre;overflow-x:auto;line-height:normal;font-family:Menlo,'DejaVu Sans Mono',consolas,'Courier New',monospace\">cal_stage.04_F0_WRITE_LEVELING :   Pass\n",
              "</pre>\n"
            ],
            "text/plain": [
              "cal_stage.04_F0_WRITE_LEVELING :   Pass\n"
            ]
          },
          "metadata": {},
          "output_type": "display_data"
        },
        {
          "data": {
            "text/html": [
              "<pre style=\"white-space:pre;overflow-x:auto;line-height:normal;font-family:Menlo,'DejaVu Sans Mono',consolas,'Courier New',monospace\">cal_stage.05_F0_READ_DQ_CAL :   Pass\n",
              "</pre>\n"
            ],
            "text/plain": [
              "cal_stage.05_F0_READ_DQ_CAL :   Pass\n"
            ]
          },
          "metadata": {},
          "output_type": "display_data"
        },
        {
          "data": {
            "text/html": [
              "<pre style=\"white-space:pre;overflow-x:auto;line-height:normal;font-family:Menlo,'DejaVu Sans Mono',consolas,'Courier New',monospace\">cal_stage.06_F0_WRITE_DQ_DBI_CAL :   Pass\n",
              "</pre>\n"
            ],
            "text/plain": [
              "cal_stage.06_F0_WRITE_DQ_DBI_CAL :   Pass\n"
            ]
          },
          "metadata": {},
          "output_type": "display_data"
        },
        {
          "data": {
            "text/html": [
              "<pre style=\"white-space:pre;overflow-x:auto;line-height:normal;font-family:Menlo,'DejaVu Sans Mono',consolas,'Courier New',monospace\">cal_stage.07_F0_WRITE_LATENCY_CAL :   Pass\n",
              "</pre>\n"
            ],
            "text/plain": [
              "cal_stage.07_F0_WRITE_LATENCY_CAL :   Pass\n"
            ]
          },
          "metadata": {},
          "output_type": "display_data"
        },
        {
          "data": {
            "text/html": [
              "<pre style=\"white-space:pre;overflow-x:auto;line-height:normal;font-family:Menlo,'DejaVu Sans Mono',consolas,'Courier New',monospace\">cal_stage.08_F0_READ_DQ_DBI_CAL_COMPLEX :   Pass\n",
              "</pre>\n"
            ],
            "text/plain": [
              "cal_stage.08_F0_READ_DQ_DBI_CAL_COMPLEX :   Pass\n"
            ]
          },
          "metadata": {},
          "output_type": "display_data"
        },
        {
          "data": {
            "text/html": [
              "<pre style=\"white-space:pre;overflow-x:auto;line-height:normal;font-family:Menlo,'DejaVu Sans Mono',consolas,'Courier New',monospace\">cal_stage.09_F0_WRITE_DQ_DBI_CAL_COMPLEX :   Pass\n",
              "</pre>\n"
            ],
            "text/plain": [
              "cal_stage.09_F0_WRITE_DQ_DBI_CAL_COMPLEX :   Pass\n"
            ]
          },
          "metadata": {},
          "output_type": "display_data"
        },
        {
          "data": {
            "text/html": [
              "<pre style=\"white-space:pre;overflow-x:auto;line-height:normal;font-family:Menlo,'DejaVu Sans Mono',consolas,'Courier New',monospace\">cal_stage.10_EN_VT_TRACK :   Pass\n",
              "</pre>\n"
            ],
            "text/plain": [
              "cal_stage.10_EN_VT_TRACK :   Pass\n"
            ]
          },
          "metadata": {},
          "output_type": "display_data"
        },
        {
          "data": {
            "text/html": [
              "<pre style=\"white-space:pre;overflow-x:auto;line-height:normal;font-family:Menlo,'DejaVu Sans Mono',consolas,'Courier New',monospace\">cal_stage.11_READ_DQS_TRACK :   Pass\n",
              "</pre>\n"
            ],
            "text/plain": [
              "cal_stage.11_READ_DQS_TRACK :   Pass\n"
            ]
          },
          "metadata": {},
          "output_type": "display_data"
        },
        {
          "data": {
            "text/html": [
              "<pre style=\"white-space:pre;overflow-x:auto;line-height:normal;font-family:Menlo,'DejaVu Sans Mono',consolas,'Courier New',monospace\">cal_stage.12_CAL_DONE :   Pass\n",
              "</pre>\n"
            ],
            "text/plain": [
              "cal_stage.12_CAL_DONE :   Pass\n"
            ]
          },
          "metadata": {},
          "output_type": "display_data"
        },
        {
          "data": {
            "text/html": [
              "<pre style=\"white-space:pre;overflow-x:auto;line-height:normal;font-family:Menlo,'DejaVu Sans Mono',consolas,'Courier New',monospace\">\n",
              "---------------------------------------\n",
              "\n",
              "</pre>\n"
            ],
            "text/plain": [
              "\n",
              "---------------------------------------\n",
              "\n"
            ]
          },
          "metadata": {},
          "output_type": "display_data"
        },
        {
          "data": {
            "text/html": [
              "<pre style=\"white-space:pre;overflow-x:auto;line-height:normal;font-family:Menlo,'DejaVu Sans Mono',consolas,'Courier New',monospace\"> Calibration Window Margin Analysis \n",
              "\n",
              "</pre>\n"
            ],
            "text/plain": [
              " Calibration Window Margin Analysis \n",
              "\n"
            ]
          },
          "metadata": {},
          "output_type": "display_data"
        },
        {
          "data": {
            "text/html": [
              "<pre style=\"white-space:pre;overflow-x:auto;line-height:normal;font-family:Menlo,'DejaVu Sans Mono',consolas,'Courier New',monospace\">---------------------------------------\n",
              "\n",
              "</pre>\n"
            ],
            "text/plain": [
              "---------------------------------------\n",
              "\n"
            ]
          },
          "metadata": {},
          "output_type": "display_data"
        },
        {
          "data": {
            "text/html": [
              "<pre style=\"white-space:pre;overflow-x:auto;line-height:normal;font-family:Menlo,'DejaVu Sans Mono',consolas,'Courier New',monospace\">\n",
              " Frequency <span style=\"color: #008080; text-decoration-color: #008080; font-weight: bold\">0</span>  - Read Margin - Simple Pattern - Rising Edge Clock in pS and <span style=\"font-weight: bold\">(</span>delay taps<span style=\"font-weight: bold\">)</span>:\n",
              "\n",
              "</pre>\n"
            ],
            "text/plain": [
              "\n",
              " Frequency \u001b[1;36m0\u001b[0m  - Read Margin - Simple Pattern - Rising Edge Clock in pS and \u001b[1m(\u001b[0mdelay taps\u001b[1m)\u001b[0m:\n",
              "\n"
            ]
          },
          "metadata": {},
          "output_type": "display_data"
        },
        {
          "data": {
            "text/html": [
              "<pre style=\"white-space:pre;overflow-x:auto;line-height:normal;font-family:Menlo,'DejaVu Sans Mono',consolas,'Courier New',monospace\">Byte  <span style=\"color: #008080; text-decoration-color: #008080; font-weight: bold\">0</span>  Nibble <span style=\"color: #008080; text-decoration-color: #008080; font-weight: bold\">0</span>  -   Left Margin:   <span style=\"color: #008080; text-decoration-color: #008080; font-weight: bold\">146</span>  <span style=\"font-weight: bold\">(</span> <span style=\"color: #008080; text-decoration-color: #008080; font-weight: bold\">74</span> <span style=\"font-weight: bold\">)</span>  Center Point:   <span style=\"color: #008080; text-decoration-color: #008080; font-weight: bold\">182</span>  <span style=\"font-weight: bold\">(</span> <span style=\"color: #008080; text-decoration-color: #008080; font-weight: bold\">92</span> <span style=\"font-weight: bold\">)</span>  Right Margin:   <span style=\"color: #008080; text-decoration-color: #008080; font-weight: bold\">146</span>  <span style=\"font-weight: bold\">(</span> <span style=\"color: #008080; text-decoration-color: #008080; font-weight: bold\">74</span> <span style=\"font-weight: bold\">)</span>\n",
              "</pre>\n"
            ],
            "text/plain": [
              "Byte  \u001b[1;36m0\u001b[0m  Nibble \u001b[1;36m0\u001b[0m  -   Left Margin:   \u001b[1;36m146\u001b[0m  \u001b[1m(\u001b[0m \u001b[1;36m74\u001b[0m \u001b[1m)\u001b[0m  Center Point:   \u001b[1;36m182\u001b[0m  \u001b[1m(\u001b[0m \u001b[1;36m92\u001b[0m \u001b[1m)\u001b[0m  Right Margin:   \u001b[1;36m146\u001b[0m  \u001b[1m(\u001b[0m \u001b[1;36m74\u001b[0m \u001b[1m)\u001b[0m\n"
            ]
          },
          "metadata": {},
          "output_type": "display_data"
        },
        {
          "data": {
            "text/html": [
              "<pre style=\"white-space:pre;overflow-x:auto;line-height:normal;font-family:Menlo,'DejaVu Sans Mono',consolas,'Courier New',monospace\">Byte  <span style=\"color: #008080; text-decoration-color: #008080; font-weight: bold\">0</span>  Nibble <span style=\"color: #008080; text-decoration-color: #008080; font-weight: bold\">1</span>  -   Left Margin:   <span style=\"color: #008080; text-decoration-color: #008080; font-weight: bold\">144</span>  <span style=\"font-weight: bold\">(</span> <span style=\"color: #008080; text-decoration-color: #008080; font-weight: bold\">74</span> <span style=\"font-weight: bold\">)</span>  Center Point:   <span style=\"color: #008080; text-decoration-color: #008080; font-weight: bold\">180</span>  <span style=\"font-weight: bold\">(</span> <span style=\"color: #008080; text-decoration-color: #008080; font-weight: bold\">92</span> <span style=\"font-weight: bold\">)</span>  Right Margin:   <span style=\"color: #008080; text-decoration-color: #008080; font-weight: bold\">144</span>  <span style=\"font-weight: bold\">(</span> <span style=\"color: #008080; text-decoration-color: #008080; font-weight: bold\">74</span> <span style=\"font-weight: bold\">)</span>\n",
              "</pre>\n"
            ],
            "text/plain": [
              "Byte  \u001b[1;36m0\u001b[0m  Nibble \u001b[1;36m1\u001b[0m  -   Left Margin:   \u001b[1;36m144\u001b[0m  \u001b[1m(\u001b[0m \u001b[1;36m74\u001b[0m \u001b[1m)\u001b[0m  Center Point:   \u001b[1;36m180\u001b[0m  \u001b[1m(\u001b[0m \u001b[1;36m92\u001b[0m \u001b[1m)\u001b[0m  Right Margin:   \u001b[1;36m144\u001b[0m  \u001b[1m(\u001b[0m \u001b[1;36m74\u001b[0m \u001b[1m)\u001b[0m\n"
            ]
          },
          "metadata": {},
          "output_type": "display_data"
        },
        {
          "data": {
            "text/html": [
              "<pre style=\"white-space:pre;overflow-x:auto;line-height:normal;font-family:Menlo,'DejaVu Sans Mono',consolas,'Courier New',monospace\">Byte  <span style=\"color: #008080; text-decoration-color: #008080; font-weight: bold\">1</span>  Nibble <span style=\"color: #008080; text-decoration-color: #008080; font-weight: bold\">0</span>  -   Left Margin:   <span style=\"color: #008080; text-decoration-color: #008080; font-weight: bold\">144</span>  <span style=\"font-weight: bold\">(</span> <span style=\"color: #008080; text-decoration-color: #008080; font-weight: bold\">75</span> <span style=\"font-weight: bold\">)</span>  Center Point:   <span style=\"color: #008080; text-decoration-color: #008080; font-weight: bold\">179</span>  <span style=\"font-weight: bold\">(</span> <span style=\"color: #008080; text-decoration-color: #008080; font-weight: bold\">93</span> <span style=\"font-weight: bold\">)</span>  Right Margin:   <span style=\"color: #008080; text-decoration-color: #008080; font-weight: bold\">146</span>  <span style=\"font-weight: bold\">(</span> <span style=\"color: #008080; text-decoration-color: #008080; font-weight: bold\">76</span> <span style=\"font-weight: bold\">)</span>\n",
              "</pre>\n"
            ],
            "text/plain": [
              "Byte  \u001b[1;36m1\u001b[0m  Nibble \u001b[1;36m0\u001b[0m  -   Left Margin:   \u001b[1;36m144\u001b[0m  \u001b[1m(\u001b[0m \u001b[1;36m75\u001b[0m \u001b[1m)\u001b[0m  Center Point:   \u001b[1;36m179\u001b[0m  \u001b[1m(\u001b[0m \u001b[1;36m93\u001b[0m \u001b[1m)\u001b[0m  Right Margin:   \u001b[1;36m146\u001b[0m  \u001b[1m(\u001b[0m \u001b[1;36m76\u001b[0m \u001b[1m)\u001b[0m\n"
            ]
          },
          "metadata": {},
          "output_type": "display_data"
        },
        {
          "data": {
            "text/html": [
              "<pre style=\"white-space:pre;overflow-x:auto;line-height:normal;font-family:Menlo,'DejaVu Sans Mono',consolas,'Courier New',monospace\">Byte  <span style=\"color: #008080; text-decoration-color: #008080; font-weight: bold\">1</span>  Nibble <span style=\"color: #008080; text-decoration-color: #008080; font-weight: bold\">1</span>  -   Left Margin:   <span style=\"color: #008080; text-decoration-color: #008080; font-weight: bold\">148</span>  <span style=\"font-weight: bold\">(</span> <span style=\"color: #008080; text-decoration-color: #008080; font-weight: bold\">75</span> <span style=\"font-weight: bold\">)</span>  Center Point:   <span style=\"color: #008080; text-decoration-color: #008080; font-weight: bold\">184</span>  <span style=\"font-weight: bold\">(</span> <span style=\"color: #008080; text-decoration-color: #008080; font-weight: bold\">93</span> <span style=\"font-weight: bold\">)</span>  Right Margin:   <span style=\"color: #008080; text-decoration-color: #008080; font-weight: bold\">150</span>  <span style=\"font-weight: bold\">(</span> <span style=\"color: #008080; text-decoration-color: #008080; font-weight: bold\">76</span> <span style=\"font-weight: bold\">)</span>\n",
              "</pre>\n"
            ],
            "text/plain": [
              "Byte  \u001b[1;36m1\u001b[0m  Nibble \u001b[1;36m1\u001b[0m  -   Left Margin:   \u001b[1;36m148\u001b[0m  \u001b[1m(\u001b[0m \u001b[1;36m75\u001b[0m \u001b[1m)\u001b[0m  Center Point:   \u001b[1;36m184\u001b[0m  \u001b[1m(\u001b[0m \u001b[1;36m93\u001b[0m \u001b[1m)\u001b[0m  Right Margin:   \u001b[1;36m150\u001b[0m  \u001b[1m(\u001b[0m \u001b[1;36m76\u001b[0m \u001b[1m)\u001b[0m\n"
            ]
          },
          "metadata": {},
          "output_type": "display_data"
        },
        {
          "data": {
            "text/html": [
              "<pre style=\"white-space:pre;overflow-x:auto;line-height:normal;font-family:Menlo,'DejaVu Sans Mono',consolas,'Courier New',monospace\">Byte  <span style=\"color: #008080; text-decoration-color: #008080; font-weight: bold\">2</span>  Nibble <span style=\"color: #008080; text-decoration-color: #008080; font-weight: bold\">0</span>  -   Left Margin:   <span style=\"color: #008080; text-decoration-color: #008080; font-weight: bold\">152</span>  <span style=\"font-weight: bold\">(</span> <span style=\"color: #008080; text-decoration-color: #008080; font-weight: bold\">77</span> <span style=\"font-weight: bold\">)</span>  Center Point:   <span style=\"color: #008080; text-decoration-color: #008080; font-weight: bold\">188</span>  <span style=\"font-weight: bold\">(</span> <span style=\"color: #008080; text-decoration-color: #008080; font-weight: bold\">95</span> <span style=\"font-weight: bold\">)</span>  Right Margin:   <span style=\"color: #008080; text-decoration-color: #008080; font-weight: bold\">152</span>  <span style=\"font-weight: bold\">(</span> <span style=\"color: #008080; text-decoration-color: #008080; font-weight: bold\">77</span> <span style=\"font-weight: bold\">)</span>\n",
              "</pre>\n"
            ],
            "text/plain": [
              "Byte  \u001b[1;36m2\u001b[0m  Nibble \u001b[1;36m0\u001b[0m  -   Left Margin:   \u001b[1;36m152\u001b[0m  \u001b[1m(\u001b[0m \u001b[1;36m77\u001b[0m \u001b[1m)\u001b[0m  Center Point:   \u001b[1;36m188\u001b[0m  \u001b[1m(\u001b[0m \u001b[1;36m95\u001b[0m \u001b[1m)\u001b[0m  Right Margin:   \u001b[1;36m152\u001b[0m  \u001b[1m(\u001b[0m \u001b[1;36m77\u001b[0m \u001b[1m)\u001b[0m\n"
            ]
          },
          "metadata": {},
          "output_type": "display_data"
        },
        {
          "data": {
            "text/html": [
              "<pre style=\"white-space:pre;overflow-x:auto;line-height:normal;font-family:Menlo,'DejaVu Sans Mono',consolas,'Courier New',monospace\">Byte  <span style=\"color: #008080; text-decoration-color: #008080; font-weight: bold\">2</span>  Nibble <span style=\"color: #008080; text-decoration-color: #008080; font-weight: bold\">1</span>  -   Left Margin:   <span style=\"color: #008080; text-decoration-color: #008080; font-weight: bold\">150</span>  <span style=\"font-weight: bold\">(</span> <span style=\"color: #008080; text-decoration-color: #008080; font-weight: bold\">78</span> <span style=\"font-weight: bold\">)</span>  Center Point:   <span style=\"color: #008080; text-decoration-color: #008080; font-weight: bold\">185</span>  <span style=\"font-weight: bold\">(</span> <span style=\"color: #008080; text-decoration-color: #008080; font-weight: bold\">96</span> <span style=\"font-weight: bold\">)</span>  Right Margin:   <span style=\"color: #008080; text-decoration-color: #008080; font-weight: bold\">150</span>  <span style=\"font-weight: bold\">(</span> <span style=\"color: #008080; text-decoration-color: #008080; font-weight: bold\">78</span> <span style=\"font-weight: bold\">)</span>\n",
              "</pre>\n"
            ],
            "text/plain": [
              "Byte  \u001b[1;36m2\u001b[0m  Nibble \u001b[1;36m1\u001b[0m  -   Left Margin:   \u001b[1;36m150\u001b[0m  \u001b[1m(\u001b[0m \u001b[1;36m78\u001b[0m \u001b[1m)\u001b[0m  Center Point:   \u001b[1;36m185\u001b[0m  \u001b[1m(\u001b[0m \u001b[1;36m96\u001b[0m \u001b[1m)\u001b[0m  Right Margin:   \u001b[1;36m150\u001b[0m  \u001b[1m(\u001b[0m \u001b[1;36m78\u001b[0m \u001b[1m)\u001b[0m\n"
            ]
          },
          "metadata": {},
          "output_type": "display_data"
        },
        {
          "data": {
            "text/html": [
              "<pre style=\"white-space:pre;overflow-x:auto;line-height:normal;font-family:Menlo,'DejaVu Sans Mono',consolas,'Courier New',monospace\">Byte  <span style=\"color: #008080; text-decoration-color: #008080; font-weight: bold\">3</span>  Nibble <span style=\"color: #008080; text-decoration-color: #008080; font-weight: bold\">0</span>  -   Left Margin:   <span style=\"color: #008080; text-decoration-color: #008080; font-weight: bold\">152</span>  <span style=\"font-weight: bold\">(</span> <span style=\"color: #008080; text-decoration-color: #008080; font-weight: bold\">77</span> <span style=\"font-weight: bold\">)</span>  Center Point:   <span style=\"color: #008080; text-decoration-color: #008080; font-weight: bold\">188</span>  <span style=\"font-weight: bold\">(</span> <span style=\"color: #008080; text-decoration-color: #008080; font-weight: bold\">95</span> <span style=\"font-weight: bold\">)</span>  Right Margin:   <span style=\"color: #008080; text-decoration-color: #008080; font-weight: bold\">152</span>  <span style=\"font-weight: bold\">(</span> <span style=\"color: #008080; text-decoration-color: #008080; font-weight: bold\">77</span> <span style=\"font-weight: bold\">)</span>\n",
              "</pre>\n"
            ],
            "text/plain": [
              "Byte  \u001b[1;36m3\u001b[0m  Nibble \u001b[1;36m0\u001b[0m  -   Left Margin:   \u001b[1;36m152\u001b[0m  \u001b[1m(\u001b[0m \u001b[1;36m77\u001b[0m \u001b[1m)\u001b[0m  Center Point:   \u001b[1;36m188\u001b[0m  \u001b[1m(\u001b[0m \u001b[1;36m95\u001b[0m \u001b[1m)\u001b[0m  Right Margin:   \u001b[1;36m152\u001b[0m  \u001b[1m(\u001b[0m \u001b[1;36m77\u001b[0m \u001b[1m)\u001b[0m\n"
            ]
          },
          "metadata": {},
          "output_type": "display_data"
        },
        {
          "data": {
            "text/html": [
              "<pre style=\"white-space:pre;overflow-x:auto;line-height:normal;font-family:Menlo,'DejaVu Sans Mono',consolas,'Courier New',monospace\">Byte  <span style=\"color: #008080; text-decoration-color: #008080; font-weight: bold\">3</span>  Nibble <span style=\"color: #008080; text-decoration-color: #008080; font-weight: bold\">1</span>  -   Left Margin:   <span style=\"color: #008080; text-decoration-color: #008080; font-weight: bold\">154</span>  <span style=\"font-weight: bold\">(</span> <span style=\"color: #008080; text-decoration-color: #008080; font-weight: bold\">78</span> <span style=\"font-weight: bold\">)</span>  Center Point:   <span style=\"color: #008080; text-decoration-color: #008080; font-weight: bold\">190</span>  <span style=\"font-weight: bold\">(</span> <span style=\"color: #008080; text-decoration-color: #008080; font-weight: bold\">96</span> <span style=\"font-weight: bold\">)</span>  Right Margin:   <span style=\"color: #008080; text-decoration-color: #008080; font-weight: bold\">154</span>  <span style=\"font-weight: bold\">(</span> <span style=\"color: #008080; text-decoration-color: #008080; font-weight: bold\">78</span> <span style=\"font-weight: bold\">)</span>\n",
              "</pre>\n"
            ],
            "text/plain": [
              "Byte  \u001b[1;36m3\u001b[0m  Nibble \u001b[1;36m1\u001b[0m  -   Left Margin:   \u001b[1;36m154\u001b[0m  \u001b[1m(\u001b[0m \u001b[1;36m78\u001b[0m \u001b[1m)\u001b[0m  Center Point:   \u001b[1;36m190\u001b[0m  \u001b[1m(\u001b[0m \u001b[1;36m96\u001b[0m \u001b[1m)\u001b[0m  Right Margin:   \u001b[1;36m154\u001b[0m  \u001b[1m(\u001b[0m \u001b[1;36m78\u001b[0m \u001b[1m)\u001b[0m\n"
            ]
          },
          "metadata": {},
          "output_type": "display_data"
        },
        {
          "data": {
            "text/html": [
              "<pre style=\"white-space:pre;overflow-x:auto;line-height:normal;font-family:Menlo,'DejaVu Sans Mono',consolas,'Courier New',monospace\">Byte  <span style=\"color: #008080; text-decoration-color: #008080; font-weight: bold\">4</span>  Nibble <span style=\"color: #008080; text-decoration-color: #008080; font-weight: bold\">0</span>  -   Left Margin:   <span style=\"color: #008080; text-decoration-color: #008080; font-weight: bold\">150</span>  <span style=\"font-weight: bold\">(</span> <span style=\"color: #008080; text-decoration-color: #008080; font-weight: bold\">77</span> <span style=\"font-weight: bold\">)</span>  Center Point:   <span style=\"color: #008080; text-decoration-color: #008080; font-weight: bold\">186</span>  <span style=\"font-weight: bold\">(</span> <span style=\"color: #008080; text-decoration-color: #008080; font-weight: bold\">95</span> <span style=\"font-weight: bold\">)</span>  Right Margin:   <span style=\"color: #008080; text-decoration-color: #008080; font-weight: bold\">150</span>  <span style=\"font-weight: bold\">(</span> <span style=\"color: #008080; text-decoration-color: #008080; font-weight: bold\">77</span> <span style=\"font-weight: bold\">)</span>\n",
              "</pre>\n"
            ],
            "text/plain": [
              "Byte  \u001b[1;36m4\u001b[0m  Nibble \u001b[1;36m0\u001b[0m  -   Left Margin:   \u001b[1;36m150\u001b[0m  \u001b[1m(\u001b[0m \u001b[1;36m77\u001b[0m \u001b[1m)\u001b[0m  Center Point:   \u001b[1;36m186\u001b[0m  \u001b[1m(\u001b[0m \u001b[1;36m95\u001b[0m \u001b[1m)\u001b[0m  Right Margin:   \u001b[1;36m150\u001b[0m  \u001b[1m(\u001b[0m \u001b[1;36m77\u001b[0m \u001b[1m)\u001b[0m\n"
            ]
          },
          "metadata": {},
          "output_type": "display_data"
        },
        {
          "data": {
            "text/html": [
              "<pre style=\"white-space:pre;overflow-x:auto;line-height:normal;font-family:Menlo,'DejaVu Sans Mono',consolas,'Courier New',monospace\">Byte  <span style=\"color: #008080; text-decoration-color: #008080; font-weight: bold\">4</span>  Nibble <span style=\"color: #008080; text-decoration-color: #008080; font-weight: bold\">1</span>  -   Left Margin:   <span style=\"color: #008080; text-decoration-color: #008080; font-weight: bold\">152</span>  <span style=\"font-weight: bold\">(</span> <span style=\"color: #008080; text-decoration-color: #008080; font-weight: bold\">77</span> <span style=\"font-weight: bold\">)</span>  Center Point:   <span style=\"color: #008080; text-decoration-color: #008080; font-weight: bold\">188</span>  <span style=\"font-weight: bold\">(</span> <span style=\"color: #008080; text-decoration-color: #008080; font-weight: bold\">95</span> <span style=\"font-weight: bold\">)</span>  Right Margin:   <span style=\"color: #008080; text-decoration-color: #008080; font-weight: bold\">152</span>  <span style=\"font-weight: bold\">(</span> <span style=\"color: #008080; text-decoration-color: #008080; font-weight: bold\">77</span> <span style=\"font-weight: bold\">)</span>\n",
              "</pre>\n"
            ],
            "text/plain": [
              "Byte  \u001b[1;36m4\u001b[0m  Nibble \u001b[1;36m1\u001b[0m  -   Left Margin:   \u001b[1;36m152\u001b[0m  \u001b[1m(\u001b[0m \u001b[1;36m77\u001b[0m \u001b[1m)\u001b[0m  Center Point:   \u001b[1;36m188\u001b[0m  \u001b[1m(\u001b[0m \u001b[1;36m95\u001b[0m \u001b[1m)\u001b[0m  Right Margin:   \u001b[1;36m152\u001b[0m  \u001b[1m(\u001b[0m \u001b[1;36m77\u001b[0m \u001b[1m)\u001b[0m\n"
            ]
          },
          "metadata": {},
          "output_type": "display_data"
        },
        {
          "data": {
            "text/html": [
              "<pre style=\"white-space:pre;overflow-x:auto;line-height:normal;font-family:Menlo,'DejaVu Sans Mono',consolas,'Courier New',monospace\">Byte  <span style=\"color: #008080; text-decoration-color: #008080; font-weight: bold\">5</span>  Nibble <span style=\"color: #008080; text-decoration-color: #008080; font-weight: bold\">0</span>  -   Left Margin:   <span style=\"color: #008080; text-decoration-color: #008080; font-weight: bold\">146</span>  <span style=\"font-weight: bold\">(</span> <span style=\"color: #008080; text-decoration-color: #008080; font-weight: bold\">75</span> <span style=\"font-weight: bold\">)</span>  Center Point:   <span style=\"color: #008080; text-decoration-color: #008080; font-weight: bold\">182</span>  <span style=\"font-weight: bold\">(</span> <span style=\"color: #008080; text-decoration-color: #008080; font-weight: bold\">93</span> <span style=\"font-weight: bold\">)</span>  Right Margin:   <span style=\"color: #008080; text-decoration-color: #008080; font-weight: bold\">148</span>  <span style=\"font-weight: bold\">(</span> <span style=\"color: #008080; text-decoration-color: #008080; font-weight: bold\">76</span> <span style=\"font-weight: bold\">)</span>\n",
              "</pre>\n"
            ],
            "text/plain": [
              "Byte  \u001b[1;36m5\u001b[0m  Nibble \u001b[1;36m0\u001b[0m  -   Left Margin:   \u001b[1;36m146\u001b[0m  \u001b[1m(\u001b[0m \u001b[1;36m75\u001b[0m \u001b[1m)\u001b[0m  Center Point:   \u001b[1;36m182\u001b[0m  \u001b[1m(\u001b[0m \u001b[1;36m93\u001b[0m \u001b[1m)\u001b[0m  Right Margin:   \u001b[1;36m148\u001b[0m  \u001b[1m(\u001b[0m \u001b[1;36m76\u001b[0m \u001b[1m)\u001b[0m\n"
            ]
          },
          "metadata": {},
          "output_type": "display_data"
        },
        {
          "data": {
            "text/html": [
              "<pre style=\"white-space:pre;overflow-x:auto;line-height:normal;font-family:Menlo,'DejaVu Sans Mono',consolas,'Courier New',monospace\">Byte  <span style=\"color: #008080; text-decoration-color: #008080; font-weight: bold\">5</span>  Nibble <span style=\"color: #008080; text-decoration-color: #008080; font-weight: bold\">1</span>  -   Left Margin:   <span style=\"color: #008080; text-decoration-color: #008080; font-weight: bold\">156</span>  <span style=\"font-weight: bold\">(</span> <span style=\"color: #008080; text-decoration-color: #008080; font-weight: bold\">77</span> <span style=\"font-weight: bold\">)</span>  Center Point:   <span style=\"color: #008080; text-decoration-color: #008080; font-weight: bold\">193</span>  <span style=\"font-weight: bold\">(</span> <span style=\"color: #008080; text-decoration-color: #008080; font-weight: bold\">95</span> <span style=\"font-weight: bold\">)</span>  Right Margin:   <span style=\"color: #008080; text-decoration-color: #008080; font-weight: bold\">156</span>  <span style=\"font-weight: bold\">(</span> <span style=\"color: #008080; text-decoration-color: #008080; font-weight: bold\">77</span> <span style=\"font-weight: bold\">)</span>\n",
              "</pre>\n"
            ],
            "text/plain": [
              "Byte  \u001b[1;36m5\u001b[0m  Nibble \u001b[1;36m1\u001b[0m  -   Left Margin:   \u001b[1;36m156\u001b[0m  \u001b[1m(\u001b[0m \u001b[1;36m77\u001b[0m \u001b[1m)\u001b[0m  Center Point:   \u001b[1;36m193\u001b[0m  \u001b[1m(\u001b[0m \u001b[1;36m95\u001b[0m \u001b[1m)\u001b[0m  Right Margin:   \u001b[1;36m156\u001b[0m  \u001b[1m(\u001b[0m \u001b[1;36m77\u001b[0m \u001b[1m)\u001b[0m\n"
            ]
          },
          "metadata": {},
          "output_type": "display_data"
        },
        {
          "data": {
            "text/html": [
              "<pre style=\"white-space:pre;overflow-x:auto;line-height:normal;font-family:Menlo,'DejaVu Sans Mono',consolas,'Courier New',monospace\">Byte  <span style=\"color: #008080; text-decoration-color: #008080; font-weight: bold\">6</span>  Nibble <span style=\"color: #008080; text-decoration-color: #008080; font-weight: bold\">0</span>  -   Left Margin:   <span style=\"color: #008080; text-decoration-color: #008080; font-weight: bold\">150</span>  <span style=\"font-weight: bold\">(</span> <span style=\"color: #008080; text-decoration-color: #008080; font-weight: bold\">76</span> <span style=\"font-weight: bold\">)</span>  Center Point:   <span style=\"color: #008080; text-decoration-color: #008080; font-weight: bold\">186</span>  <span style=\"font-weight: bold\">(</span> <span style=\"color: #008080; text-decoration-color: #008080; font-weight: bold\">94</span> <span style=\"font-weight: bold\">)</span>  Right Margin:   <span style=\"color: #008080; text-decoration-color: #008080; font-weight: bold\">152</span>  <span style=\"font-weight: bold\">(</span> <span style=\"color: #008080; text-decoration-color: #008080; font-weight: bold\">77</span> <span style=\"font-weight: bold\">)</span>\n",
              "</pre>\n"
            ],
            "text/plain": [
              "Byte  \u001b[1;36m6\u001b[0m  Nibble \u001b[1;36m0\u001b[0m  -   Left Margin:   \u001b[1;36m150\u001b[0m  \u001b[1m(\u001b[0m \u001b[1;36m76\u001b[0m \u001b[1m)\u001b[0m  Center Point:   \u001b[1;36m186\u001b[0m  \u001b[1m(\u001b[0m \u001b[1;36m94\u001b[0m \u001b[1m)\u001b[0m  Right Margin:   \u001b[1;36m152\u001b[0m  \u001b[1m(\u001b[0m \u001b[1;36m77\u001b[0m \u001b[1m)\u001b[0m\n"
            ]
          },
          "metadata": {},
          "output_type": "display_data"
        },
        {
          "data": {
            "text/html": [
              "<pre style=\"white-space:pre;overflow-x:auto;line-height:normal;font-family:Menlo,'DejaVu Sans Mono',consolas,'Courier New',monospace\">Byte  <span style=\"color: #008080; text-decoration-color: #008080; font-weight: bold\">6</span>  Nibble <span style=\"color: #008080; text-decoration-color: #008080; font-weight: bold\">1</span>  -   Left Margin:   <span style=\"color: #008080; text-decoration-color: #008080; font-weight: bold\">156</span>  <span style=\"font-weight: bold\">(</span> <span style=\"color: #008080; text-decoration-color: #008080; font-weight: bold\">80</span> <span style=\"font-weight: bold\">)</span>  Center Point:   <span style=\"color: #008080; text-decoration-color: #008080; font-weight: bold\">191</span>  <span style=\"font-weight: bold\">(</span> <span style=\"color: #008080; text-decoration-color: #008080; font-weight: bold\">98</span> <span style=\"font-weight: bold\">)</span>  Right Margin:   <span style=\"color: #008080; text-decoration-color: #008080; font-weight: bold\">158</span>  <span style=\"font-weight: bold\">(</span> <span style=\"color: #008080; text-decoration-color: #008080; font-weight: bold\">81</span> <span style=\"font-weight: bold\">)</span>\n",
              "</pre>\n"
            ],
            "text/plain": [
              "Byte  \u001b[1;36m6\u001b[0m  Nibble \u001b[1;36m1\u001b[0m  -   Left Margin:   \u001b[1;36m156\u001b[0m  \u001b[1m(\u001b[0m \u001b[1;36m80\u001b[0m \u001b[1m)\u001b[0m  Center Point:   \u001b[1;36m191\u001b[0m  \u001b[1m(\u001b[0m \u001b[1;36m98\u001b[0m \u001b[1m)\u001b[0m  Right Margin:   \u001b[1;36m158\u001b[0m  \u001b[1m(\u001b[0m \u001b[1;36m81\u001b[0m \u001b[1m)\u001b[0m\n"
            ]
          },
          "metadata": {},
          "output_type": "display_data"
        },
        {
          "data": {
            "text/html": [
              "<pre style=\"white-space:pre;overflow-x:auto;line-height:normal;font-family:Menlo,'DejaVu Sans Mono',consolas,'Courier New',monospace\">Byte  <span style=\"color: #008080; text-decoration-color: #008080; font-weight: bold\">7</span>  Nibble <span style=\"color: #008080; text-decoration-color: #008080; font-weight: bold\">0</span>  -   Left Margin:   <span style=\"color: #008080; text-decoration-color: #008080; font-weight: bold\">148</span>  <span style=\"font-weight: bold\">(</span> <span style=\"color: #008080; text-decoration-color: #008080; font-weight: bold\">77</span> <span style=\"font-weight: bold\">)</span>  Center Point:   <span style=\"color: #008080; text-decoration-color: #008080; font-weight: bold\">183</span>  <span style=\"font-weight: bold\">(</span> <span style=\"color: #008080; text-decoration-color: #008080; font-weight: bold\">95</span> <span style=\"font-weight: bold\">)</span>  Right Margin:   <span style=\"color: #008080; text-decoration-color: #008080; font-weight: bold\">148</span>  <span style=\"font-weight: bold\">(</span> <span style=\"color: #008080; text-decoration-color: #008080; font-weight: bold\">77</span> <span style=\"font-weight: bold\">)</span>\n",
              "</pre>\n"
            ],
            "text/plain": [
              "Byte  \u001b[1;36m7\u001b[0m  Nibble \u001b[1;36m0\u001b[0m  -   Left Margin:   \u001b[1;36m148\u001b[0m  \u001b[1m(\u001b[0m \u001b[1;36m77\u001b[0m \u001b[1m)\u001b[0m  Center Point:   \u001b[1;36m183\u001b[0m  \u001b[1m(\u001b[0m \u001b[1;36m95\u001b[0m \u001b[1m)\u001b[0m  Right Margin:   \u001b[1;36m148\u001b[0m  \u001b[1m(\u001b[0m \u001b[1;36m77\u001b[0m \u001b[1m)\u001b[0m\n"
            ]
          },
          "metadata": {},
          "output_type": "display_data"
        },
        {
          "data": {
            "text/html": [
              "<pre style=\"white-space:pre;overflow-x:auto;line-height:normal;font-family:Menlo,'DejaVu Sans Mono',consolas,'Courier New',monospace\">Byte  <span style=\"color: #008080; text-decoration-color: #008080; font-weight: bold\">7</span>  Nibble <span style=\"color: #008080; text-decoration-color: #008080; font-weight: bold\">1</span>  -   Left Margin:   <span style=\"color: #008080; text-decoration-color: #008080; font-weight: bold\">150</span>  <span style=\"font-weight: bold\">(</span> <span style=\"color: #008080; text-decoration-color: #008080; font-weight: bold\">76</span> <span style=\"font-weight: bold\">)</span>  Center Point:   <span style=\"color: #008080; text-decoration-color: #008080; font-weight: bold\">186</span>  <span style=\"font-weight: bold\">(</span> <span style=\"color: #008080; text-decoration-color: #008080; font-weight: bold\">94</span> <span style=\"font-weight: bold\">)</span>  Right Margin:   <span style=\"color: #008080; text-decoration-color: #008080; font-weight: bold\">152</span>  <span style=\"font-weight: bold\">(</span> <span style=\"color: #008080; text-decoration-color: #008080; font-weight: bold\">77</span> <span style=\"font-weight: bold\">)</span>\n",
              "</pre>\n"
            ],
            "text/plain": [
              "Byte  \u001b[1;36m7\u001b[0m  Nibble \u001b[1;36m1\u001b[0m  -   Left Margin:   \u001b[1;36m150\u001b[0m  \u001b[1m(\u001b[0m \u001b[1;36m76\u001b[0m \u001b[1m)\u001b[0m  Center Point:   \u001b[1;36m186\u001b[0m  \u001b[1m(\u001b[0m \u001b[1;36m94\u001b[0m \u001b[1m)\u001b[0m  Right Margin:   \u001b[1;36m152\u001b[0m  \u001b[1m(\u001b[0m \u001b[1;36m77\u001b[0m \u001b[1m)\u001b[0m\n"
            ]
          },
          "metadata": {},
          "output_type": "display_data"
        },
        {
          "data": {
            "text/html": [
              "<pre style=\"white-space:pre;overflow-x:auto;line-height:normal;font-family:Menlo,'DejaVu Sans Mono',consolas,'Courier New',monospace\">\n",
              " Frequency <span style=\"color: #008080; text-decoration-color: #008080; font-weight: bold\">0</span>  - Read Margin - Simple Pattern - Falling Edge Clock in pS and <span style=\"font-weight: bold\">(</span>delay taps<span style=\"font-weight: bold\">)</span>:\n",
              "\n",
              "</pre>\n"
            ],
            "text/plain": [
              "\n",
              " Frequency \u001b[1;36m0\u001b[0m  - Read Margin - Simple Pattern - Falling Edge Clock in pS and \u001b[1m(\u001b[0mdelay taps\u001b[1m)\u001b[0m:\n",
              "\n"
            ]
          },
          "metadata": {},
          "output_type": "display_data"
        },
        {
          "data": {
            "text/html": [
              "<pre style=\"white-space:pre;overflow-x:auto;line-height:normal;font-family:Menlo,'DejaVu Sans Mono',consolas,'Courier New',monospace\">Byte  <span style=\"color: #008080; text-decoration-color: #008080; font-weight: bold\">0</span>  Nibble <span style=\"color: #008080; text-decoration-color: #008080; font-weight: bold\">0</span>  -   Left Margin:   <span style=\"color: #008080; text-decoration-color: #008080; font-weight: bold\">139</span>  <span style=\"font-weight: bold\">(</span> <span style=\"color: #008080; text-decoration-color: #008080; font-weight: bold\">73</span> <span style=\"font-weight: bold\">)</span>  Center Point:   <span style=\"color: #008080; text-decoration-color: #008080; font-weight: bold\">189</span>  <span style=\"font-weight: bold\">(</span> <span style=\"color: #008080; text-decoration-color: #008080; font-weight: bold\">99</span> <span style=\"font-weight: bold\">)</span>  Right Margin:   <span style=\"color: #008080; text-decoration-color: #008080; font-weight: bold\">139</span>  <span style=\"font-weight: bold\">(</span> <span style=\"color: #008080; text-decoration-color: #008080; font-weight: bold\">73</span> <span style=\"font-weight: bold\">)</span>\n",
              "</pre>\n"
            ],
            "text/plain": [
              "Byte  \u001b[1;36m0\u001b[0m  Nibble \u001b[1;36m0\u001b[0m  -   Left Margin:   \u001b[1;36m139\u001b[0m  \u001b[1m(\u001b[0m \u001b[1;36m73\u001b[0m \u001b[1m)\u001b[0m  Center Point:   \u001b[1;36m189\u001b[0m  \u001b[1m(\u001b[0m \u001b[1;36m99\u001b[0m \u001b[1m)\u001b[0m  Right Margin:   \u001b[1;36m139\u001b[0m  \u001b[1m(\u001b[0m \u001b[1;36m73\u001b[0m \u001b[1m)\u001b[0m\n"
            ]
          },
          "metadata": {},
          "output_type": "display_data"
        },
        {
          "data": {
            "text/html": [
              "<pre style=\"white-space:pre;overflow-x:auto;line-height:normal;font-family:Menlo,'DejaVu Sans Mono',consolas,'Courier New',monospace\">Byte  <span style=\"color: #008080; text-decoration-color: #008080; font-weight: bold\">0</span>  Nibble <span style=\"color: #008080; text-decoration-color: #008080; font-weight: bold\">1</span>  -   Left Margin:   <span style=\"color: #008080; text-decoration-color: #008080; font-weight: bold\">144</span>  <span style=\"font-weight: bold\">(</span> <span style=\"color: #008080; text-decoration-color: #008080; font-weight: bold\">74</span> <span style=\"font-weight: bold\">)</span>  Center Point:   <span style=\"color: #008080; text-decoration-color: #008080; font-weight: bold\">195</span>  <span style=\"font-weight: bold\">(</span> <span style=\"color: #008080; text-decoration-color: #008080; font-weight: bold\">100</span> <span style=\"font-weight: bold\">)</span>  Right Margin:   <span style=\"color: #008080; text-decoration-color: #008080; font-weight: bold\">144</span>  <span style=\"font-weight: bold\">(</span> <span style=\"color: #008080; text-decoration-color: #008080; font-weight: bold\">74</span> <span style=\"font-weight: bold\">)</span>\n",
              "</pre>\n"
            ],
            "text/plain": [
              "Byte  \u001b[1;36m0\u001b[0m  Nibble \u001b[1;36m1\u001b[0m  -   Left Margin:   \u001b[1;36m144\u001b[0m  \u001b[1m(\u001b[0m \u001b[1;36m74\u001b[0m \u001b[1m)\u001b[0m  Center Point:   \u001b[1;36m195\u001b[0m  \u001b[1m(\u001b[0m \u001b[1;36m100\u001b[0m \u001b[1m)\u001b[0m  Right Margin:   \u001b[1;36m144\u001b[0m  \u001b[1m(\u001b[0m \u001b[1;36m74\u001b[0m \u001b[1m)\u001b[0m\n"
            ]
          },
          "metadata": {},
          "output_type": "display_data"
        },
        {
          "data": {
            "text/html": [
              "<pre style=\"white-space:pre;overflow-x:auto;line-height:normal;font-family:Menlo,'DejaVu Sans Mono',consolas,'Courier New',monospace\">Byte  <span style=\"color: #008080; text-decoration-color: #008080; font-weight: bold\">1</span>  Nibble <span style=\"color: #008080; text-decoration-color: #008080; font-weight: bold\">0</span>  -   Left Margin:   <span style=\"color: #008080; text-decoration-color: #008080; font-weight: bold\">148</span>  <span style=\"font-weight: bold\">(</span> <span style=\"color: #008080; text-decoration-color: #008080; font-weight: bold\">75</span> <span style=\"font-weight: bold\">)</span>  Center Point:   <span style=\"color: #008080; text-decoration-color: #008080; font-weight: bold\">198</span>  <span style=\"font-weight: bold\">(</span> <span style=\"color: #008080; text-decoration-color: #008080; font-weight: bold\">100</span> <span style=\"font-weight: bold\">)</span>  Right Margin:   <span style=\"color: #008080; text-decoration-color: #008080; font-weight: bold\">150</span>  <span style=\"font-weight: bold\">(</span> <span style=\"color: #008080; text-decoration-color: #008080; font-weight: bold\">76</span> <span style=\"font-weight: bold\">)</span>\n",
              "</pre>\n"
            ],
            "text/plain": [
              "Byte  \u001b[1;36m1\u001b[0m  Nibble \u001b[1;36m0\u001b[0m  -   Left Margin:   \u001b[1;36m148\u001b[0m  \u001b[1m(\u001b[0m \u001b[1;36m75\u001b[0m \u001b[1m)\u001b[0m  Center Point:   \u001b[1;36m198\u001b[0m  \u001b[1m(\u001b[0m \u001b[1;36m100\u001b[0m \u001b[1m)\u001b[0m  Right Margin:   \u001b[1;36m150\u001b[0m  \u001b[1m(\u001b[0m \u001b[1;36m76\u001b[0m \u001b[1m)\u001b[0m\n"
            ]
          },
          "metadata": {},
          "output_type": "display_data"
        },
        {
          "data": {
            "text/html": [
              "<pre style=\"white-space:pre;overflow-x:auto;line-height:normal;font-family:Menlo,'DejaVu Sans Mono',consolas,'Courier New',monospace\">Byte  <span style=\"color: #008080; text-decoration-color: #008080; font-weight: bold\">1</span>  Nibble <span style=\"color: #008080; text-decoration-color: #008080; font-weight: bold\">1</span>  -   Left Margin:   <span style=\"color: #008080; text-decoration-color: #008080; font-weight: bold\">146</span>  <span style=\"font-weight: bold\">(</span> <span style=\"color: #008080; text-decoration-color: #008080; font-weight: bold\">75</span> <span style=\"font-weight: bold\">)</span>  Center Point:   <span style=\"color: #008080; text-decoration-color: #008080; font-weight: bold\">195</span>  <span style=\"font-weight: bold\">(</span> <span style=\"color: #008080; text-decoration-color: #008080; font-weight: bold\">100</span> <span style=\"font-weight: bold\">)</span>  Right Margin:   <span style=\"color: #008080; text-decoration-color: #008080; font-weight: bold\">148</span>  <span style=\"font-weight: bold\">(</span> <span style=\"color: #008080; text-decoration-color: #008080; font-weight: bold\">76</span> <span style=\"font-weight: bold\">)</span>\n",
              "</pre>\n"
            ],
            "text/plain": [
              "Byte  \u001b[1;36m1\u001b[0m  Nibble \u001b[1;36m1\u001b[0m  -   Left Margin:   \u001b[1;36m146\u001b[0m  \u001b[1m(\u001b[0m \u001b[1;36m75\u001b[0m \u001b[1m)\u001b[0m  Center Point:   \u001b[1;36m195\u001b[0m  \u001b[1m(\u001b[0m \u001b[1;36m100\u001b[0m \u001b[1m)\u001b[0m  Right Margin:   \u001b[1;36m148\u001b[0m  \u001b[1m(\u001b[0m \u001b[1;36m76\u001b[0m \u001b[1m)\u001b[0m\n"
            ]
          },
          "metadata": {},
          "output_type": "display_data"
        },
        {
          "data": {
            "text/html": [
              "<pre style=\"white-space:pre;overflow-x:auto;line-height:normal;font-family:Menlo,'DejaVu Sans Mono',consolas,'Courier New',monospace\">Byte  <span style=\"color: #008080; text-decoration-color: #008080; font-weight: bold\">2</span>  Nibble <span style=\"color: #008080; text-decoration-color: #008080; font-weight: bold\">0</span>  -   Left Margin:   <span style=\"color: #008080; text-decoration-color: #008080; font-weight: bold\">146</span>  <span style=\"font-weight: bold\">(</span> <span style=\"color: #008080; text-decoration-color: #008080; font-weight: bold\">74</span> <span style=\"font-weight: bold\">)</span>  Center Point:   <span style=\"color: #008080; text-decoration-color: #008080; font-weight: bold\">202</span>  <span style=\"font-weight: bold\">(</span> <span style=\"color: #008080; text-decoration-color: #008080; font-weight: bold\">102</span> <span style=\"font-weight: bold\">)</span>  Right Margin:   <span style=\"color: #008080; text-decoration-color: #008080; font-weight: bold\">148</span>  <span style=\"font-weight: bold\">(</span> <span style=\"color: #008080; text-decoration-color: #008080; font-weight: bold\">75</span> <span style=\"font-weight: bold\">)</span>\n",
              "</pre>\n"
            ],
            "text/plain": [
              "Byte  \u001b[1;36m2\u001b[0m  Nibble \u001b[1;36m0\u001b[0m  -   Left Margin:   \u001b[1;36m146\u001b[0m  \u001b[1m(\u001b[0m \u001b[1;36m74\u001b[0m \u001b[1m)\u001b[0m  Center Point:   \u001b[1;36m202\u001b[0m  \u001b[1m(\u001b[0m \u001b[1;36m102\u001b[0m \u001b[1m)\u001b[0m  Right Margin:   \u001b[1;36m148\u001b[0m  \u001b[1m(\u001b[0m \u001b[1;36m75\u001b[0m \u001b[1m)\u001b[0m\n"
            ]
          },
          "metadata": {},
          "output_type": "display_data"
        },
        {
          "data": {
            "text/html": [
              "<pre style=\"white-space:pre;overflow-x:auto;line-height:normal;font-family:Menlo,'DejaVu Sans Mono',consolas,'Courier New',monospace\">Byte  <span style=\"color: #008080; text-decoration-color: #008080; font-weight: bold\">2</span>  Nibble <span style=\"color: #008080; text-decoration-color: #008080; font-weight: bold\">1</span>  -   Left Margin:   <span style=\"color: #008080; text-decoration-color: #008080; font-weight: bold\">146</span>  <span style=\"font-weight: bold\">(</span> <span style=\"color: #008080; text-decoration-color: #008080; font-weight: bold\">75</span> <span style=\"font-weight: bold\">)</span>  Center Point:   <span style=\"color: #008080; text-decoration-color: #008080; font-weight: bold\">199</span>  <span style=\"font-weight: bold\">(</span> <span style=\"color: #008080; text-decoration-color: #008080; font-weight: bold\">102</span> <span style=\"font-weight: bold\">)</span>  Right Margin:   <span style=\"color: #008080; text-decoration-color: #008080; font-weight: bold\">148</span>  <span style=\"font-weight: bold\">(</span> <span style=\"color: #008080; text-decoration-color: #008080; font-weight: bold\">76</span> <span style=\"font-weight: bold\">)</span>\n",
              "</pre>\n"
            ],
            "text/plain": [
              "Byte  \u001b[1;36m2\u001b[0m  Nibble \u001b[1;36m1\u001b[0m  -   Left Margin:   \u001b[1;36m146\u001b[0m  \u001b[1m(\u001b[0m \u001b[1;36m75\u001b[0m \u001b[1m)\u001b[0m  Center Point:   \u001b[1;36m199\u001b[0m  \u001b[1m(\u001b[0m \u001b[1;36m102\u001b[0m \u001b[1m)\u001b[0m  Right Margin:   \u001b[1;36m148\u001b[0m  \u001b[1m(\u001b[0m \u001b[1;36m76\u001b[0m \u001b[1m)\u001b[0m\n"
            ]
          },
          "metadata": {},
          "output_type": "display_data"
        },
        {
          "data": {
            "text/html": [
              "<pre style=\"white-space:pre;overflow-x:auto;line-height:normal;font-family:Menlo,'DejaVu Sans Mono',consolas,'Courier New',monospace\">Byte  <span style=\"color: #008080; text-decoration-color: #008080; font-weight: bold\">3</span>  Nibble <span style=\"color: #008080; text-decoration-color: #008080; font-weight: bold\">0</span>  -   Left Margin:   <span style=\"color: #008080; text-decoration-color: #008080; font-weight: bold\">136</span>  <span style=\"font-weight: bold\">(</span> <span style=\"color: #008080; text-decoration-color: #008080; font-weight: bold\">71</span> <span style=\"font-weight: bold\">)</span>  Center Point:   <span style=\"color: #008080; text-decoration-color: #008080; font-weight: bold\">185</span>  <span style=\"font-weight: bold\">(</span> <span style=\"color: #008080; text-decoration-color: #008080; font-weight: bold\">96</span> <span style=\"font-weight: bold\">)</span>  Right Margin:   <span style=\"color: #008080; text-decoration-color: #008080; font-weight: bold\">136</span>  <span style=\"font-weight: bold\">(</span> <span style=\"color: #008080; text-decoration-color: #008080; font-weight: bold\">71</span> <span style=\"font-weight: bold\">)</span>\n",
              "</pre>\n"
            ],
            "text/plain": [
              "Byte  \u001b[1;36m3\u001b[0m  Nibble \u001b[1;36m0\u001b[0m  -   Left Margin:   \u001b[1;36m136\u001b[0m  \u001b[1m(\u001b[0m \u001b[1;36m71\u001b[0m \u001b[1m)\u001b[0m  Center Point:   \u001b[1;36m185\u001b[0m  \u001b[1m(\u001b[0m \u001b[1;36m96\u001b[0m \u001b[1m)\u001b[0m  Right Margin:   \u001b[1;36m136\u001b[0m  \u001b[1m(\u001b[0m \u001b[1;36m71\u001b[0m \u001b[1m)\u001b[0m\n"
            ]
          },
          "metadata": {},
          "output_type": "display_data"
        },
        {
          "data": {
            "text/html": [
              "<pre style=\"white-space:pre;overflow-x:auto;line-height:normal;font-family:Menlo,'DejaVu Sans Mono',consolas,'Courier New',monospace\">Byte  <span style=\"color: #008080; text-decoration-color: #008080; font-weight: bold\">3</span>  Nibble <span style=\"color: #008080; text-decoration-color: #008080; font-weight: bold\">1</span>  -   Left Margin:   <span style=\"color: #008080; text-decoration-color: #008080; font-weight: bold\">144</span>  <span style=\"font-weight: bold\">(</span> <span style=\"color: #008080; text-decoration-color: #008080; font-weight: bold\">73</span> <span style=\"font-weight: bold\">)</span>  Center Point:   <span style=\"color: #008080; text-decoration-color: #008080; font-weight: bold\">190</span>  <span style=\"font-weight: bold\">(</span> <span style=\"color: #008080; text-decoration-color: #008080; font-weight: bold\">96</span> <span style=\"font-weight: bold\">)</span>  Right Margin:   <span style=\"color: #008080; text-decoration-color: #008080; font-weight: bold\">144</span>  <span style=\"font-weight: bold\">(</span> <span style=\"color: #008080; text-decoration-color: #008080; font-weight: bold\">73</span> <span style=\"font-weight: bold\">)</span>\n",
              "</pre>\n"
            ],
            "text/plain": [
              "Byte  \u001b[1;36m3\u001b[0m  Nibble \u001b[1;36m1\u001b[0m  -   Left Margin:   \u001b[1;36m144\u001b[0m  \u001b[1m(\u001b[0m \u001b[1;36m73\u001b[0m \u001b[1m)\u001b[0m  Center Point:   \u001b[1;36m190\u001b[0m  \u001b[1m(\u001b[0m \u001b[1;36m96\u001b[0m \u001b[1m)\u001b[0m  Right Margin:   \u001b[1;36m144\u001b[0m  \u001b[1m(\u001b[0m \u001b[1;36m73\u001b[0m \u001b[1m)\u001b[0m\n"
            ]
          },
          "metadata": {},
          "output_type": "display_data"
        },
        {
          "data": {
            "text/html": [
              "<pre style=\"white-space:pre;overflow-x:auto;line-height:normal;font-family:Menlo,'DejaVu Sans Mono',consolas,'Courier New',monospace\">Byte  <span style=\"color: #008080; text-decoration-color: #008080; font-weight: bold\">4</span>  Nibble <span style=\"color: #008080; text-decoration-color: #008080; font-weight: bold\">0</span>  -   Left Margin:   <span style=\"color: #008080; text-decoration-color: #008080; font-weight: bold\">144</span>  <span style=\"font-weight: bold\">(</span> <span style=\"color: #008080; text-decoration-color: #008080; font-weight: bold\">73</span> <span style=\"font-weight: bold\">)</span>  Center Point:   <span style=\"color: #008080; text-decoration-color: #008080; font-weight: bold\">182</span>  <span style=\"font-weight: bold\">(</span> <span style=\"color: #008080; text-decoration-color: #008080; font-weight: bold\">92</span> <span style=\"font-weight: bold\">)</span>  Right Margin:   <span style=\"color: #008080; text-decoration-color: #008080; font-weight: bold\">144</span>  <span style=\"font-weight: bold\">(</span> <span style=\"color: #008080; text-decoration-color: #008080; font-weight: bold\">73</span> <span style=\"font-weight: bold\">)</span>\n",
              "</pre>\n"
            ],
            "text/plain": [
              "Byte  \u001b[1;36m4\u001b[0m  Nibble \u001b[1;36m0\u001b[0m  -   Left Margin:   \u001b[1;36m144\u001b[0m  \u001b[1m(\u001b[0m \u001b[1;36m73\u001b[0m \u001b[1m)\u001b[0m  Center Point:   \u001b[1;36m182\u001b[0m  \u001b[1m(\u001b[0m \u001b[1;36m92\u001b[0m \u001b[1m)\u001b[0m  Right Margin:   \u001b[1;36m144\u001b[0m  \u001b[1m(\u001b[0m \u001b[1;36m73\u001b[0m \u001b[1m)\u001b[0m\n"
            ]
          },
          "metadata": {},
          "output_type": "display_data"
        },
        {
          "data": {
            "text/html": [
              "<pre style=\"white-space:pre;overflow-x:auto;line-height:normal;font-family:Menlo,'DejaVu Sans Mono',consolas,'Courier New',monospace\">Byte  <span style=\"color: #008080; text-decoration-color: #008080; font-weight: bold\">4</span>  Nibble <span style=\"color: #008080; text-decoration-color: #008080; font-weight: bold\">1</span>  -   Left Margin:   <span style=\"color: #008080; text-decoration-color: #008080; font-weight: bold\">142</span>  <span style=\"font-weight: bold\">(</span> <span style=\"color: #008080; text-decoration-color: #008080; font-weight: bold\">72</span> <span style=\"font-weight: bold\">)</span>  Center Point:   <span style=\"color: #008080; text-decoration-color: #008080; font-weight: bold\">186</span>  <span style=\"font-weight: bold\">(</span> <span style=\"color: #008080; text-decoration-color: #008080; font-weight: bold\">94</span> <span style=\"font-weight: bold\">)</span>  Right Margin:   <span style=\"color: #008080; text-decoration-color: #008080; font-weight: bold\">142</span>  <span style=\"font-weight: bold\">(</span> <span style=\"color: #008080; text-decoration-color: #008080; font-weight: bold\">72</span> <span style=\"font-weight: bold\">)</span>\n",
              "</pre>\n"
            ],
            "text/plain": [
              "Byte  \u001b[1;36m4\u001b[0m  Nibble \u001b[1;36m1\u001b[0m  -   Left Margin:   \u001b[1;36m142\u001b[0m  \u001b[1m(\u001b[0m \u001b[1;36m72\u001b[0m \u001b[1m)\u001b[0m  Center Point:   \u001b[1;36m186\u001b[0m  \u001b[1m(\u001b[0m \u001b[1;36m94\u001b[0m \u001b[1m)\u001b[0m  Right Margin:   \u001b[1;36m142\u001b[0m  \u001b[1m(\u001b[0m \u001b[1;36m72\u001b[0m \u001b[1m)\u001b[0m\n"
            ]
          },
          "metadata": {},
          "output_type": "display_data"
        },
        {
          "data": {
            "text/html": [
              "<pre style=\"white-space:pre;overflow-x:auto;line-height:normal;font-family:Menlo,'DejaVu Sans Mono',consolas,'Courier New',monospace\">Byte  <span style=\"color: #008080; text-decoration-color: #008080; font-weight: bold\">5</span>  Nibble <span style=\"color: #008080; text-decoration-color: #008080; font-weight: bold\">0</span>  -   Left Margin:   <span style=\"color: #008080; text-decoration-color: #008080; font-weight: bold\">148</span>  <span style=\"font-weight: bold\">(</span> <span style=\"color: #008080; text-decoration-color: #008080; font-weight: bold\">75</span> <span style=\"font-weight: bold\">)</span>  Center Point:   <span style=\"color: #008080; text-decoration-color: #008080; font-weight: bold\">186</span>  <span style=\"font-weight: bold\">(</span> <span style=\"color: #008080; text-decoration-color: #008080; font-weight: bold\">94</span> <span style=\"font-weight: bold\">)</span>  Right Margin:   <span style=\"color: #008080; text-decoration-color: #008080; font-weight: bold\">150</span>  <span style=\"font-weight: bold\">(</span> <span style=\"color: #008080; text-decoration-color: #008080; font-weight: bold\">76</span> <span style=\"font-weight: bold\">)</span>\n",
              "</pre>\n"
            ],
            "text/plain": [
              "Byte  \u001b[1;36m5\u001b[0m  Nibble \u001b[1;36m0\u001b[0m  -   Left Margin:   \u001b[1;36m148\u001b[0m  \u001b[1m(\u001b[0m \u001b[1;36m75\u001b[0m \u001b[1m)\u001b[0m  Center Point:   \u001b[1;36m186\u001b[0m  \u001b[1m(\u001b[0m \u001b[1;36m94\u001b[0m \u001b[1m)\u001b[0m  Right Margin:   \u001b[1;36m150\u001b[0m  \u001b[1m(\u001b[0m \u001b[1;36m76\u001b[0m \u001b[1m)\u001b[0m\n"
            ]
          },
          "metadata": {},
          "output_type": "display_data"
        },
        {
          "data": {
            "text/html": [
              "<pre style=\"white-space:pre;overflow-x:auto;line-height:normal;font-family:Menlo,'DejaVu Sans Mono',consolas,'Courier New',monospace\">Byte  <span style=\"color: #008080; text-decoration-color: #008080; font-weight: bold\">5</span>  Nibble <span style=\"color: #008080; text-decoration-color: #008080; font-weight: bold\">1</span>  -   Left Margin:   <span style=\"color: #008080; text-decoration-color: #008080; font-weight: bold\">146</span>  <span style=\"font-weight: bold\">(</span> <span style=\"color: #008080; text-decoration-color: #008080; font-weight: bold\">72</span> <span style=\"font-weight: bold\">)</span>  Center Point:   <span style=\"color: #008080; text-decoration-color: #008080; font-weight: bold\">189</span>  <span style=\"font-weight: bold\">(</span> <span style=\"color: #008080; text-decoration-color: #008080; font-weight: bold\">93</span> <span style=\"font-weight: bold\">)</span>  Right Margin:   <span style=\"color: #008080; text-decoration-color: #008080; font-weight: bold\">146</span>  <span style=\"font-weight: bold\">(</span> <span style=\"color: #008080; text-decoration-color: #008080; font-weight: bold\">72</span> <span style=\"font-weight: bold\">)</span>\n",
              "</pre>\n"
            ],
            "text/plain": [
              "Byte  \u001b[1;36m5\u001b[0m  Nibble \u001b[1;36m1\u001b[0m  -   Left Margin:   \u001b[1;36m146\u001b[0m  \u001b[1m(\u001b[0m \u001b[1;36m72\u001b[0m \u001b[1m)\u001b[0m  Center Point:   \u001b[1;36m189\u001b[0m  \u001b[1m(\u001b[0m \u001b[1;36m93\u001b[0m \u001b[1m)\u001b[0m  Right Margin:   \u001b[1;36m146\u001b[0m  \u001b[1m(\u001b[0m \u001b[1;36m72\u001b[0m \u001b[1m)\u001b[0m\n"
            ]
          },
          "metadata": {},
          "output_type": "display_data"
        },
        {
          "data": {
            "text/html": [
              "<pre style=\"white-space:pre;overflow-x:auto;line-height:normal;font-family:Menlo,'DejaVu Sans Mono',consolas,'Courier New',monospace\">Byte  <span style=\"color: #008080; text-decoration-color: #008080; font-weight: bold\">6</span>  Nibble <span style=\"color: #008080; text-decoration-color: #008080; font-weight: bold\">0</span>  -   Left Margin:   <span style=\"color: #008080; text-decoration-color: #008080; font-weight: bold\">144</span>  <span style=\"font-weight: bold\">(</span> <span style=\"color: #008080; text-decoration-color: #008080; font-weight: bold\">74</span> <span style=\"font-weight: bold\">)</span>  Center Point:   <span style=\"color: #008080; text-decoration-color: #008080; font-weight: bold\">188</span>  <span style=\"font-weight: bold\">(</span> <span style=\"color: #008080; text-decoration-color: #008080; font-weight: bold\">96</span> <span style=\"font-weight: bold\">)</span>  Right Margin:   <span style=\"color: #008080; text-decoration-color: #008080; font-weight: bold\">146</span>  <span style=\"font-weight: bold\">(</span> <span style=\"color: #008080; text-decoration-color: #008080; font-weight: bold\">75</span> <span style=\"font-weight: bold\">)</span>\n",
              "</pre>\n"
            ],
            "text/plain": [
              "Byte  \u001b[1;36m6\u001b[0m  Nibble \u001b[1;36m0\u001b[0m  -   Left Margin:   \u001b[1;36m144\u001b[0m  \u001b[1m(\u001b[0m \u001b[1;36m74\u001b[0m \u001b[1m)\u001b[0m  Center Point:   \u001b[1;36m188\u001b[0m  \u001b[1m(\u001b[0m \u001b[1;36m96\u001b[0m \u001b[1m)\u001b[0m  Right Margin:   \u001b[1;36m146\u001b[0m  \u001b[1m(\u001b[0m \u001b[1;36m75\u001b[0m \u001b[1m)\u001b[0m\n"
            ]
          },
          "metadata": {},
          "output_type": "display_data"
        },
        {
          "data": {
            "text/html": [
              "<pre style=\"white-space:pre;overflow-x:auto;line-height:normal;font-family:Menlo,'DejaVu Sans Mono',consolas,'Courier New',monospace\">Byte  <span style=\"color: #008080; text-decoration-color: #008080; font-weight: bold\">6</span>  Nibble <span style=\"color: #008080; text-decoration-color: #008080; font-weight: bold\">1</span>  -   Left Margin:   <span style=\"color: #008080; text-decoration-color: #008080; font-weight: bold\">140</span>  <span style=\"font-weight: bold\">(</span> <span style=\"color: #008080; text-decoration-color: #008080; font-weight: bold\">73</span> <span style=\"font-weight: bold\">)</span>  Center Point:   <span style=\"color: #008080; text-decoration-color: #008080; font-weight: bold\">191</span>  <span style=\"font-weight: bold\">(</span> <span style=\"color: #008080; text-decoration-color: #008080; font-weight: bold\">99</span> <span style=\"font-weight: bold\">)</span>  Right Margin:   <span style=\"color: #008080; text-decoration-color: #008080; font-weight: bold\">140</span>  <span style=\"font-weight: bold\">(</span> <span style=\"color: #008080; text-decoration-color: #008080; font-weight: bold\">73</span> <span style=\"font-weight: bold\">)</span>\n",
              "</pre>\n"
            ],
            "text/plain": [
              "Byte  \u001b[1;36m6\u001b[0m  Nibble \u001b[1;36m1\u001b[0m  -   Left Margin:   \u001b[1;36m140\u001b[0m  \u001b[1m(\u001b[0m \u001b[1;36m73\u001b[0m \u001b[1m)\u001b[0m  Center Point:   \u001b[1;36m191\u001b[0m  \u001b[1m(\u001b[0m \u001b[1;36m99\u001b[0m \u001b[1m)\u001b[0m  Right Margin:   \u001b[1;36m140\u001b[0m  \u001b[1m(\u001b[0m \u001b[1;36m73\u001b[0m \u001b[1m)\u001b[0m\n"
            ]
          },
          "metadata": {},
          "output_type": "display_data"
        },
        {
          "data": {
            "text/html": [
              "<pre style=\"white-space:pre;overflow-x:auto;line-height:normal;font-family:Menlo,'DejaVu Sans Mono',consolas,'Courier New',monospace\">Byte  <span style=\"color: #008080; text-decoration-color: #008080; font-weight: bold\">7</span>  Nibble <span style=\"color: #008080; text-decoration-color: #008080; font-weight: bold\">0</span>  -   Left Margin:   <span style=\"color: #008080; text-decoration-color: #008080; font-weight: bold\">148</span>  <span style=\"font-weight: bold\">(</span> <span style=\"color: #008080; text-decoration-color: #008080; font-weight: bold\">74</span> <span style=\"font-weight: bold\">)</span>  Center Point:   <span style=\"color: #008080; text-decoration-color: #008080; font-weight: bold\">190</span>  <span style=\"font-weight: bold\">(</span> <span style=\"color: #008080; text-decoration-color: #008080; font-weight: bold\">95</span> <span style=\"font-weight: bold\">)</span>  Right Margin:   <span style=\"color: #008080; text-decoration-color: #008080; font-weight: bold\">150</span>  <span style=\"font-weight: bold\">(</span> <span style=\"color: #008080; text-decoration-color: #008080; font-weight: bold\">75</span> <span style=\"font-weight: bold\">)</span>\n",
              "</pre>\n"
            ],
            "text/plain": [
              "Byte  \u001b[1;36m7\u001b[0m  Nibble \u001b[1;36m0\u001b[0m  -   Left Margin:   \u001b[1;36m148\u001b[0m  \u001b[1m(\u001b[0m \u001b[1;36m74\u001b[0m \u001b[1m)\u001b[0m  Center Point:   \u001b[1;36m190\u001b[0m  \u001b[1m(\u001b[0m \u001b[1;36m95\u001b[0m \u001b[1m)\u001b[0m  Right Margin:   \u001b[1;36m150\u001b[0m  \u001b[1m(\u001b[0m \u001b[1;36m75\u001b[0m \u001b[1m)\u001b[0m\n"
            ]
          },
          "metadata": {},
          "output_type": "display_data"
        },
        {
          "data": {
            "text/html": [
              "<pre style=\"white-space:pre;overflow-x:auto;line-height:normal;font-family:Menlo,'DejaVu Sans Mono',consolas,'Courier New',monospace\">Byte  <span style=\"color: #008080; text-decoration-color: #008080; font-weight: bold\">7</span>  Nibble <span style=\"color: #008080; text-decoration-color: #008080; font-weight: bold\">1</span>  -   Left Margin:   <span style=\"color: #008080; text-decoration-color: #008080; font-weight: bold\">148</span>  <span style=\"font-weight: bold\">(</span> <span style=\"color: #008080; text-decoration-color: #008080; font-weight: bold\">74</span> <span style=\"font-weight: bold\">)</span>  Center Point:   <span style=\"color: #008080; text-decoration-color: #008080; font-weight: bold\">190</span>  <span style=\"font-weight: bold\">(</span> <span style=\"color: #008080; text-decoration-color: #008080; font-weight: bold\">95</span> <span style=\"font-weight: bold\">)</span>  Right Margin:   <span style=\"color: #008080; text-decoration-color: #008080; font-weight: bold\">150</span>  <span style=\"font-weight: bold\">(</span> <span style=\"color: #008080; text-decoration-color: #008080; font-weight: bold\">75</span> <span style=\"font-weight: bold\">)</span>\n",
              "</pre>\n"
            ],
            "text/plain": [
              "Byte  \u001b[1;36m7\u001b[0m  Nibble \u001b[1;36m1\u001b[0m  -   Left Margin:   \u001b[1;36m148\u001b[0m  \u001b[1m(\u001b[0m \u001b[1;36m74\u001b[0m \u001b[1m)\u001b[0m  Center Point:   \u001b[1;36m190\u001b[0m  \u001b[1m(\u001b[0m \u001b[1;36m95\u001b[0m \u001b[1m)\u001b[0m  Right Margin:   \u001b[1;36m150\u001b[0m  \u001b[1m(\u001b[0m \u001b[1;36m75\u001b[0m \u001b[1m)\u001b[0m\n"
            ]
          },
          "metadata": {},
          "output_type": "display_data"
        },
        {
          "data": {
            "text/html": [
              "<pre style=\"white-space:pre;overflow-x:auto;line-height:normal;font-family:Menlo,'DejaVu Sans Mono',consolas,'Courier New',monospace\">\n",
              " Frequency <span style=\"color: #008080; text-decoration-color: #008080; font-weight: bold\">0</span>  - Read Margin - Complex Pattern - Rising Edge Clock in pS and <span style=\"font-weight: bold\">(</span>delay taps<span style=\"font-weight: bold\">)</span>:\n",
              "\n",
              "</pre>\n"
            ],
            "text/plain": [
              "\n",
              " Frequency \u001b[1;36m0\u001b[0m  - Read Margin - Complex Pattern - Rising Edge Clock in pS and \u001b[1m(\u001b[0mdelay taps\u001b[1m)\u001b[0m:\n",
              "\n"
            ]
          },
          "metadata": {},
          "output_type": "display_data"
        },
        {
          "data": {
            "text/html": [
              "<pre style=\"white-space:pre;overflow-x:auto;line-height:normal;font-family:Menlo,'DejaVu Sans Mono',consolas,'Courier New',monospace\">Byte  <span style=\"color: #008080; text-decoration-color: #008080; font-weight: bold\">0</span>  Nibble <span style=\"color: #008080; text-decoration-color: #008080; font-weight: bold\">0</span>  -   Left Margin:   <span style=\"color: #008080; text-decoration-color: #008080; font-weight: bold\">136</span>  <span style=\"font-weight: bold\">(</span> <span style=\"color: #008080; text-decoration-color: #008080; font-weight: bold\">69</span> <span style=\"font-weight: bold\">)</span>  Center Point:   <span style=\"color: #008080; text-decoration-color: #008080; font-weight: bold\">180</span>  <span style=\"font-weight: bold\">(</span> <span style=\"color: #008080; text-decoration-color: #008080; font-weight: bold\">91</span> <span style=\"font-weight: bold\">)</span>  Right Margin:   <span style=\"color: #008080; text-decoration-color: #008080; font-weight: bold\">138</span>  <span style=\"font-weight: bold\">(</span> <span style=\"color: #008080; text-decoration-color: #008080; font-weight: bold\">70</span> <span style=\"font-weight: bold\">)</span>\n",
              "</pre>\n"
            ],
            "text/plain": [
              "Byte  \u001b[1;36m0\u001b[0m  Nibble \u001b[1;36m0\u001b[0m  -   Left Margin:   \u001b[1;36m136\u001b[0m  \u001b[1m(\u001b[0m \u001b[1;36m69\u001b[0m \u001b[1m)\u001b[0m  Center Point:   \u001b[1;36m180\u001b[0m  \u001b[1m(\u001b[0m \u001b[1;36m91\u001b[0m \u001b[1m)\u001b[0m  Right Margin:   \u001b[1;36m138\u001b[0m  \u001b[1m(\u001b[0m \u001b[1;36m70\u001b[0m \u001b[1m)\u001b[0m\n"
            ]
          },
          "metadata": {},
          "output_type": "display_data"
        },
        {
          "data": {
            "text/html": [
              "<pre style=\"white-space:pre;overflow-x:auto;line-height:normal;font-family:Menlo,'DejaVu Sans Mono',consolas,'Courier New',monospace\">Byte  <span style=\"color: #008080; text-decoration-color: #008080; font-weight: bold\">0</span>  Nibble <span style=\"color: #008080; text-decoration-color: #008080; font-weight: bold\">1</span>  -   Left Margin:   <span style=\"color: #008080; text-decoration-color: #008080; font-weight: bold\">134</span>  <span style=\"font-weight: bold\">(</span> <span style=\"color: #008080; text-decoration-color: #008080; font-weight: bold\">69</span> <span style=\"font-weight: bold\">)</span>  Center Point:   <span style=\"color: #008080; text-decoration-color: #008080; font-weight: bold\">184</span>  <span style=\"font-weight: bold\">(</span> <span style=\"color: #008080; text-decoration-color: #008080; font-weight: bold\">94</span> <span style=\"font-weight: bold\">)</span>  Right Margin:   <span style=\"color: #008080; text-decoration-color: #008080; font-weight: bold\">134</span>  <span style=\"font-weight: bold\">(</span> <span style=\"color: #008080; text-decoration-color: #008080; font-weight: bold\">69</span> <span style=\"font-weight: bold\">)</span>\n",
              "</pre>\n"
            ],
            "text/plain": [
              "Byte  \u001b[1;36m0\u001b[0m  Nibble \u001b[1;36m1\u001b[0m  -   Left Margin:   \u001b[1;36m134\u001b[0m  \u001b[1m(\u001b[0m \u001b[1;36m69\u001b[0m \u001b[1m)\u001b[0m  Center Point:   \u001b[1;36m184\u001b[0m  \u001b[1m(\u001b[0m \u001b[1;36m94\u001b[0m \u001b[1m)\u001b[0m  Right Margin:   \u001b[1;36m134\u001b[0m  \u001b[1m(\u001b[0m \u001b[1;36m69\u001b[0m \u001b[1m)\u001b[0m\n"
            ]
          },
          "metadata": {},
          "output_type": "display_data"
        },
        {
          "data": {
            "text/html": [
              "<pre style=\"white-space:pre;overflow-x:auto;line-height:normal;font-family:Menlo,'DejaVu Sans Mono',consolas,'Courier New',monospace\">Byte  <span style=\"color: #008080; text-decoration-color: #008080; font-weight: bold\">1</span>  Nibble <span style=\"color: #008080; text-decoration-color: #008080; font-weight: bold\">0</span>  -   Left Margin:   <span style=\"color: #008080; text-decoration-color: #008080; font-weight: bold\">129</span>  <span style=\"font-weight: bold\">(</span> <span style=\"color: #008080; text-decoration-color: #008080; font-weight: bold\">67</span> <span style=\"font-weight: bold\">)</span>  Center Point:   <span style=\"color: #008080; text-decoration-color: #008080; font-weight: bold\">172</span>  <span style=\"font-weight: bold\">(</span> <span style=\"color: #008080; text-decoration-color: #008080; font-weight: bold\">89</span> <span style=\"font-weight: bold\">)</span>  Right Margin:   <span style=\"color: #008080; text-decoration-color: #008080; font-weight: bold\">129</span>  <span style=\"font-weight: bold\">(</span> <span style=\"color: #008080; text-decoration-color: #008080; font-weight: bold\">67</span> <span style=\"font-weight: bold\">)</span>\n",
              "</pre>\n"
            ],
            "text/plain": [
              "Byte  \u001b[1;36m1\u001b[0m  Nibble \u001b[1;36m0\u001b[0m  -   Left Margin:   \u001b[1;36m129\u001b[0m  \u001b[1m(\u001b[0m \u001b[1;36m67\u001b[0m \u001b[1m)\u001b[0m  Center Point:   \u001b[1;36m172\u001b[0m  \u001b[1m(\u001b[0m \u001b[1;36m89\u001b[0m \u001b[1m)\u001b[0m  Right Margin:   \u001b[1;36m129\u001b[0m  \u001b[1m(\u001b[0m \u001b[1;36m67\u001b[0m \u001b[1m)\u001b[0m\n"
            ]
          },
          "metadata": {},
          "output_type": "display_data"
        },
        {
          "data": {
            "text/html": [
              "<pre style=\"white-space:pre;overflow-x:auto;line-height:normal;font-family:Menlo,'DejaVu Sans Mono',consolas,'Courier New',monospace\">Byte  <span style=\"color: #008080; text-decoration-color: #008080; font-weight: bold\">1</span>  Nibble <span style=\"color: #008080; text-decoration-color: #008080; font-weight: bold\">1</span>  -   Left Margin:   <span style=\"color: #008080; text-decoration-color: #008080; font-weight: bold\">132</span>  <span style=\"font-weight: bold\">(</span> <span style=\"color: #008080; text-decoration-color: #008080; font-weight: bold\">67</span> <span style=\"font-weight: bold\">)</span>  Center Point:   <span style=\"color: #008080; text-decoration-color: #008080; font-weight: bold\">180</span>  <span style=\"font-weight: bold\">(</span> <span style=\"color: #008080; text-decoration-color: #008080; font-weight: bold\">91</span> <span style=\"font-weight: bold\">)</span>  Right Margin:   <span style=\"color: #008080; text-decoration-color: #008080; font-weight: bold\">132</span>  <span style=\"font-weight: bold\">(</span> <span style=\"color: #008080; text-decoration-color: #008080; font-weight: bold\">67</span> <span style=\"font-weight: bold\">)</span>\n",
              "</pre>\n"
            ],
            "text/plain": [
              "Byte  \u001b[1;36m1\u001b[0m  Nibble \u001b[1;36m1\u001b[0m  -   Left Margin:   \u001b[1;36m132\u001b[0m  \u001b[1m(\u001b[0m \u001b[1;36m67\u001b[0m \u001b[1m)\u001b[0m  Center Point:   \u001b[1;36m180\u001b[0m  \u001b[1m(\u001b[0m \u001b[1;36m91\u001b[0m \u001b[1m)\u001b[0m  Right Margin:   \u001b[1;36m132\u001b[0m  \u001b[1m(\u001b[0m \u001b[1;36m67\u001b[0m \u001b[1m)\u001b[0m\n"
            ]
          },
          "metadata": {},
          "output_type": "display_data"
        },
        {
          "data": {
            "text/html": [
              "<pre style=\"white-space:pre;overflow-x:auto;line-height:normal;font-family:Menlo,'DejaVu Sans Mono',consolas,'Courier New',monospace\">Byte  <span style=\"color: #008080; text-decoration-color: #008080; font-weight: bold\">2</span>  Nibble <span style=\"color: #008080; text-decoration-color: #008080; font-weight: bold\">0</span>  -   Left Margin:   <span style=\"color: #008080; text-decoration-color: #008080; font-weight: bold\">130</span>  <span style=\"font-weight: bold\">(</span> <span style=\"color: #008080; text-decoration-color: #008080; font-weight: bold\">66</span> <span style=\"font-weight: bold\">)</span>  Center Point:   <span style=\"color: #008080; text-decoration-color: #008080; font-weight: bold\">178</span>  <span style=\"font-weight: bold\">(</span> <span style=\"color: #008080; text-decoration-color: #008080; font-weight: bold\">90</span> <span style=\"font-weight: bold\">)</span>  Right Margin:   <span style=\"color: #008080; text-decoration-color: #008080; font-weight: bold\">130</span>  <span style=\"font-weight: bold\">(</span> <span style=\"color: #008080; text-decoration-color: #008080; font-weight: bold\">66</span> <span style=\"font-weight: bold\">)</span>\n",
              "</pre>\n"
            ],
            "text/plain": [
              "Byte  \u001b[1;36m2\u001b[0m  Nibble \u001b[1;36m0\u001b[0m  -   Left Margin:   \u001b[1;36m130\u001b[0m  \u001b[1m(\u001b[0m \u001b[1;36m66\u001b[0m \u001b[1m)\u001b[0m  Center Point:   \u001b[1;36m178\u001b[0m  \u001b[1m(\u001b[0m \u001b[1;36m90\u001b[0m \u001b[1m)\u001b[0m  Right Margin:   \u001b[1;36m130\u001b[0m  \u001b[1m(\u001b[0m \u001b[1;36m66\u001b[0m \u001b[1m)\u001b[0m\n"
            ]
          },
          "metadata": {},
          "output_type": "display_data"
        },
        {
          "data": {
            "text/html": [
              "<pre style=\"white-space:pre;overflow-x:auto;line-height:normal;font-family:Menlo,'DejaVu Sans Mono',consolas,'Courier New',monospace\">Byte  <span style=\"color: #008080; text-decoration-color: #008080; font-weight: bold\">2</span>  Nibble <span style=\"color: #008080; text-decoration-color: #008080; font-weight: bold\">1</span>  -   Left Margin:   <span style=\"color: #008080; text-decoration-color: #008080; font-weight: bold\">127</span>  <span style=\"font-weight: bold\">(</span> <span style=\"color: #008080; text-decoration-color: #008080; font-weight: bold\">66</span> <span style=\"font-weight: bold\">)</span>  Center Point:   <span style=\"color: #008080; text-decoration-color: #008080; font-weight: bold\">172</span>  <span style=\"font-weight: bold\">(</span> <span style=\"color: #008080; text-decoration-color: #008080; font-weight: bold\">89</span> <span style=\"font-weight: bold\">)</span>  Right Margin:   <span style=\"color: #008080; text-decoration-color: #008080; font-weight: bold\">127</span>  <span style=\"font-weight: bold\">(</span> <span style=\"color: #008080; text-decoration-color: #008080; font-weight: bold\">66</span> <span style=\"font-weight: bold\">)</span>\n",
              "</pre>\n"
            ],
            "text/plain": [
              "Byte  \u001b[1;36m2\u001b[0m  Nibble \u001b[1;36m1\u001b[0m  -   Left Margin:   \u001b[1;36m127\u001b[0m  \u001b[1m(\u001b[0m \u001b[1;36m66\u001b[0m \u001b[1m)\u001b[0m  Center Point:   \u001b[1;36m172\u001b[0m  \u001b[1m(\u001b[0m \u001b[1;36m89\u001b[0m \u001b[1m)\u001b[0m  Right Margin:   \u001b[1;36m127\u001b[0m  \u001b[1m(\u001b[0m \u001b[1;36m66\u001b[0m \u001b[1m)\u001b[0m\n"
            ]
          },
          "metadata": {},
          "output_type": "display_data"
        },
        {
          "data": {
            "text/html": [
              "<pre style=\"white-space:pre;overflow-x:auto;line-height:normal;font-family:Menlo,'DejaVu Sans Mono',consolas,'Courier New',monospace\">Byte  <span style=\"color: #008080; text-decoration-color: #008080; font-weight: bold\">3</span>  Nibble <span style=\"color: #008080; text-decoration-color: #008080; font-weight: bold\">0</span>  -   Left Margin:   <span style=\"color: #008080; text-decoration-color: #008080; font-weight: bold\">132</span>  <span style=\"font-weight: bold\">(</span> <span style=\"color: #008080; text-decoration-color: #008080; font-weight: bold\">67</span> <span style=\"font-weight: bold\">)</span>  Center Point:   <span style=\"color: #008080; text-decoration-color: #008080; font-weight: bold\">176</span>  <span style=\"font-weight: bold\">(</span> <span style=\"color: #008080; text-decoration-color: #008080; font-weight: bold\">89</span> <span style=\"font-weight: bold\">)</span>  Right Margin:   <span style=\"color: #008080; text-decoration-color: #008080; font-weight: bold\">134</span>  <span style=\"font-weight: bold\">(</span> <span style=\"color: #008080; text-decoration-color: #008080; font-weight: bold\">68</span> <span style=\"font-weight: bold\">)</span>\n",
              "</pre>\n"
            ],
            "text/plain": [
              "Byte  \u001b[1;36m3\u001b[0m  Nibble \u001b[1;36m0\u001b[0m  -   Left Margin:   \u001b[1;36m132\u001b[0m  \u001b[1m(\u001b[0m \u001b[1;36m67\u001b[0m \u001b[1m)\u001b[0m  Center Point:   \u001b[1;36m176\u001b[0m  \u001b[1m(\u001b[0m \u001b[1;36m89\u001b[0m \u001b[1m)\u001b[0m  Right Margin:   \u001b[1;36m134\u001b[0m  \u001b[1m(\u001b[0m \u001b[1;36m68\u001b[0m \u001b[1m)\u001b[0m\n"
            ]
          },
          "metadata": {},
          "output_type": "display_data"
        },
        {
          "data": {
            "text/html": [
              "<pre style=\"white-space:pre;overflow-x:auto;line-height:normal;font-family:Menlo,'DejaVu Sans Mono',consolas,'Courier New',monospace\">Byte  <span style=\"color: #008080; text-decoration-color: #008080; font-weight: bold\">3</span>  Nibble <span style=\"color: #008080; text-decoration-color: #008080; font-weight: bold\">1</span>  -   Left Margin:   <span style=\"color: #008080; text-decoration-color: #008080; font-weight: bold\">146</span>  <span style=\"font-weight: bold\">(</span> <span style=\"color: #008080; text-decoration-color: #008080; font-weight: bold\">74</span> <span style=\"font-weight: bold\">)</span>  Center Point:   <span style=\"color: #008080; text-decoration-color: #008080; font-weight: bold\">190</span>  <span style=\"font-weight: bold\">(</span> <span style=\"color: #008080; text-decoration-color: #008080; font-weight: bold\">96</span> <span style=\"font-weight: bold\">)</span>  Right Margin:   <span style=\"color: #008080; text-decoration-color: #008080; font-weight: bold\">148</span>  <span style=\"font-weight: bold\">(</span> <span style=\"color: #008080; text-decoration-color: #008080; font-weight: bold\">75</span> <span style=\"font-weight: bold\">)</span>\n",
              "</pre>\n"
            ],
            "text/plain": [
              "Byte  \u001b[1;36m3\u001b[0m  Nibble \u001b[1;36m1\u001b[0m  -   Left Margin:   \u001b[1;36m146\u001b[0m  \u001b[1m(\u001b[0m \u001b[1;36m74\u001b[0m \u001b[1m)\u001b[0m  Center Point:   \u001b[1;36m190\u001b[0m  \u001b[1m(\u001b[0m \u001b[1;36m96\u001b[0m \u001b[1m)\u001b[0m  Right Margin:   \u001b[1;36m148\u001b[0m  \u001b[1m(\u001b[0m \u001b[1;36m75\u001b[0m \u001b[1m)\u001b[0m\n"
            ]
          },
          "metadata": {},
          "output_type": "display_data"
        },
        {
          "data": {
            "text/html": [
              "<pre style=\"white-space:pre;overflow-x:auto;line-height:normal;font-family:Menlo,'DejaVu Sans Mono',consolas,'Courier New',monospace\">Byte  <span style=\"color: #008080; text-decoration-color: #008080; font-weight: bold\">4</span>  Nibble <span style=\"color: #008080; text-decoration-color: #008080; font-weight: bold\">0</span>  -   Left Margin:   <span style=\"color: #008080; text-decoration-color: #008080; font-weight: bold\">128</span>  <span style=\"font-weight: bold\">(</span> <span style=\"color: #008080; text-decoration-color: #008080; font-weight: bold\">66</span> <span style=\"font-weight: bold\">)</span>  Center Point:   <span style=\"color: #008080; text-decoration-color: #008080; font-weight: bold\">172</span>  <span style=\"font-weight: bold\">(</span> <span style=\"color: #008080; text-decoration-color: #008080; font-weight: bold\">88</span> <span style=\"font-weight: bold\">)</span>  Right Margin:   <span style=\"color: #008080; text-decoration-color: #008080; font-weight: bold\">128</span>  <span style=\"font-weight: bold\">(</span> <span style=\"color: #008080; text-decoration-color: #008080; font-weight: bold\">66</span> <span style=\"font-weight: bold\">)</span>\n",
              "</pre>\n"
            ],
            "text/plain": [
              "Byte  \u001b[1;36m4\u001b[0m  Nibble \u001b[1;36m0\u001b[0m  -   Left Margin:   \u001b[1;36m128\u001b[0m  \u001b[1m(\u001b[0m \u001b[1;36m66\u001b[0m \u001b[1m)\u001b[0m  Center Point:   \u001b[1;36m172\u001b[0m  \u001b[1m(\u001b[0m \u001b[1;36m88\u001b[0m \u001b[1m)\u001b[0m  Right Margin:   \u001b[1;36m128\u001b[0m  \u001b[1m(\u001b[0m \u001b[1;36m66\u001b[0m \u001b[1m)\u001b[0m\n"
            ]
          },
          "metadata": {},
          "output_type": "display_data"
        },
        {
          "data": {
            "text/html": [
              "<pre style=\"white-space:pre;overflow-x:auto;line-height:normal;font-family:Menlo,'DejaVu Sans Mono',consolas,'Courier New',monospace\">Byte  <span style=\"color: #008080; text-decoration-color: #008080; font-weight: bold\">4</span>  Nibble <span style=\"color: #008080; text-decoration-color: #008080; font-weight: bold\">1</span>  -   Left Margin:   <span style=\"color: #008080; text-decoration-color: #008080; font-weight: bold\">128</span>  <span style=\"font-weight: bold\">(</span> <span style=\"color: #008080; text-decoration-color: #008080; font-weight: bold\">65</span> <span style=\"font-weight: bold\">)</span>  Center Point:   <span style=\"color: #008080; text-decoration-color: #008080; font-weight: bold\">182</span>  <span style=\"font-weight: bold\">(</span> <span style=\"color: #008080; text-decoration-color: #008080; font-weight: bold\">92</span> <span style=\"font-weight: bold\">)</span>  Right Margin:   <span style=\"color: #008080; text-decoration-color: #008080; font-weight: bold\">128</span>  <span style=\"font-weight: bold\">(</span> <span style=\"color: #008080; text-decoration-color: #008080; font-weight: bold\">65</span> <span style=\"font-weight: bold\">)</span>\n",
              "</pre>\n"
            ],
            "text/plain": [
              "Byte  \u001b[1;36m4\u001b[0m  Nibble \u001b[1;36m1\u001b[0m  -   Left Margin:   \u001b[1;36m128\u001b[0m  \u001b[1m(\u001b[0m \u001b[1;36m65\u001b[0m \u001b[1m)\u001b[0m  Center Point:   \u001b[1;36m182\u001b[0m  \u001b[1m(\u001b[0m \u001b[1;36m92\u001b[0m \u001b[1m)\u001b[0m  Right Margin:   \u001b[1;36m128\u001b[0m  \u001b[1m(\u001b[0m \u001b[1;36m65\u001b[0m \u001b[1m)\u001b[0m\n"
            ]
          },
          "metadata": {},
          "output_type": "display_data"
        },
        {
          "data": {
            "text/html": [
              "<pre style=\"white-space:pre;overflow-x:auto;line-height:normal;font-family:Menlo,'DejaVu Sans Mono',consolas,'Courier New',monospace\">Byte  <span style=\"color: #008080; text-decoration-color: #008080; font-weight: bold\">5</span>  Nibble <span style=\"color: #008080; text-decoration-color: #008080; font-weight: bold\">0</span>  -   Left Margin:   <span style=\"color: #008080; text-decoration-color: #008080; font-weight: bold\">132</span>  <span style=\"font-weight: bold\">(</span> <span style=\"color: #008080; text-decoration-color: #008080; font-weight: bold\">68</span> <span style=\"font-weight: bold\">)</span>  Center Point:   <span style=\"color: #008080; text-decoration-color: #008080; font-weight: bold\">176</span>  <span style=\"font-weight: bold\">(</span> <span style=\"color: #008080; text-decoration-color: #008080; font-weight: bold\">90</span> <span style=\"font-weight: bold\">)</span>  Right Margin:   <span style=\"color: #008080; text-decoration-color: #008080; font-weight: bold\">132</span>  <span style=\"font-weight: bold\">(</span> <span style=\"color: #008080; text-decoration-color: #008080; font-weight: bold\">68</span> <span style=\"font-weight: bold\">)</span>\n",
              "</pre>\n"
            ],
            "text/plain": [
              "Byte  \u001b[1;36m5\u001b[0m  Nibble \u001b[1;36m0\u001b[0m  -   Left Margin:   \u001b[1;36m132\u001b[0m  \u001b[1m(\u001b[0m \u001b[1;36m68\u001b[0m \u001b[1m)\u001b[0m  Center Point:   \u001b[1;36m176\u001b[0m  \u001b[1m(\u001b[0m \u001b[1;36m90\u001b[0m \u001b[1m)\u001b[0m  Right Margin:   \u001b[1;36m132\u001b[0m  \u001b[1m(\u001b[0m \u001b[1;36m68\u001b[0m \u001b[1m)\u001b[0m\n"
            ]
          },
          "metadata": {},
          "output_type": "display_data"
        },
        {
          "data": {
            "text/html": [
              "<pre style=\"white-space:pre;overflow-x:auto;line-height:normal;font-family:Menlo,'DejaVu Sans Mono',consolas,'Courier New',monospace\">Byte  <span style=\"color: #008080; text-decoration-color: #008080; font-weight: bold\">5</span>  Nibble <span style=\"color: #008080; text-decoration-color: #008080; font-weight: bold\">1</span>  -   Left Margin:   <span style=\"color: #008080; text-decoration-color: #008080; font-weight: bold\">142</span>  <span style=\"font-weight: bold\">(</span> <span style=\"color: #008080; text-decoration-color: #008080; font-weight: bold\">70</span> <span style=\"font-weight: bold\">)</span>  Center Point:   <span style=\"color: #008080; text-decoration-color: #008080; font-weight: bold\">187</span>  <span style=\"font-weight: bold\">(</span> <span style=\"color: #008080; text-decoration-color: #008080; font-weight: bold\">92</span> <span style=\"font-weight: bold\">)</span>  Right Margin:   <span style=\"color: #008080; text-decoration-color: #008080; font-weight: bold\">142</span>  <span style=\"font-weight: bold\">(</span> <span style=\"color: #008080; text-decoration-color: #008080; font-weight: bold\">70</span> <span style=\"font-weight: bold\">)</span>\n",
              "</pre>\n"
            ],
            "text/plain": [
              "Byte  \u001b[1;36m5\u001b[0m  Nibble \u001b[1;36m1\u001b[0m  -   Left Margin:   \u001b[1;36m142\u001b[0m  \u001b[1m(\u001b[0m \u001b[1;36m70\u001b[0m \u001b[1m)\u001b[0m  Center Point:   \u001b[1;36m187\u001b[0m  \u001b[1m(\u001b[0m \u001b[1;36m92\u001b[0m \u001b[1m)\u001b[0m  Right Margin:   \u001b[1;36m142\u001b[0m  \u001b[1m(\u001b[0m \u001b[1;36m70\u001b[0m \u001b[1m)\u001b[0m\n"
            ]
          },
          "metadata": {},
          "output_type": "display_data"
        },
        {
          "data": {
            "text/html": [
              "<pre style=\"white-space:pre;overflow-x:auto;line-height:normal;font-family:Menlo,'DejaVu Sans Mono',consolas,'Courier New',monospace\">Byte  <span style=\"color: #008080; text-decoration-color: #008080; font-weight: bold\">6</span>  Nibble <span style=\"color: #008080; text-decoration-color: #008080; font-weight: bold\">0</span>  -   Left Margin:   <span style=\"color: #008080; text-decoration-color: #008080; font-weight: bold\">134</span>  <span style=\"font-weight: bold\">(</span> <span style=\"color: #008080; text-decoration-color: #008080; font-weight: bold\">68</span> <span style=\"font-weight: bold\">)</span>  Center Point:   <span style=\"color: #008080; text-decoration-color: #008080; font-weight: bold\">178</span>  <span style=\"font-weight: bold\">(</span> <span style=\"color: #008080; text-decoration-color: #008080; font-weight: bold\">90</span> <span style=\"font-weight: bold\">)</span>  Right Margin:   <span style=\"color: #008080; text-decoration-color: #008080; font-weight: bold\">136</span>  <span style=\"font-weight: bold\">(</span> <span style=\"color: #008080; text-decoration-color: #008080; font-weight: bold\">69</span> <span style=\"font-weight: bold\">)</span>\n",
              "</pre>\n"
            ],
            "text/plain": [
              "Byte  \u001b[1;36m6\u001b[0m  Nibble \u001b[1;36m0\u001b[0m  -   Left Margin:   \u001b[1;36m134\u001b[0m  \u001b[1m(\u001b[0m \u001b[1;36m68\u001b[0m \u001b[1m)\u001b[0m  Center Point:   \u001b[1;36m178\u001b[0m  \u001b[1m(\u001b[0m \u001b[1;36m90\u001b[0m \u001b[1m)\u001b[0m  Right Margin:   \u001b[1;36m136\u001b[0m  \u001b[1m(\u001b[0m \u001b[1;36m69\u001b[0m \u001b[1m)\u001b[0m\n"
            ]
          },
          "metadata": {},
          "output_type": "display_data"
        },
        {
          "data": {
            "text/html": [
              "<pre style=\"white-space:pre;overflow-x:auto;line-height:normal;font-family:Menlo,'DejaVu Sans Mono',consolas,'Courier New',monospace\">Byte  <span style=\"color: #008080; text-decoration-color: #008080; font-weight: bold\">6</span>  Nibble <span style=\"color: #008080; text-decoration-color: #008080; font-weight: bold\">1</span>  -   Left Margin:   <span style=\"color: #008080; text-decoration-color: #008080; font-weight: bold\">138</span>  <span style=\"font-weight: bold\">(</span> <span style=\"color: #008080; text-decoration-color: #008080; font-weight: bold\">71</span> <span style=\"font-weight: bold\">)</span>  Center Point:   <span style=\"color: #008080; text-decoration-color: #008080; font-weight: bold\">186</span>  <span style=\"font-weight: bold\">(</span> <span style=\"color: #008080; text-decoration-color: #008080; font-weight: bold\">95</span> <span style=\"font-weight: bold\">)</span>  Right Margin:   <span style=\"color: #008080; text-decoration-color: #008080; font-weight: bold\">140</span>  <span style=\"font-weight: bold\">(</span> <span style=\"color: #008080; text-decoration-color: #008080; font-weight: bold\">72</span> <span style=\"font-weight: bold\">)</span>\n",
              "</pre>\n"
            ],
            "text/plain": [
              "Byte  \u001b[1;36m6\u001b[0m  Nibble \u001b[1;36m1\u001b[0m  -   Left Margin:   \u001b[1;36m138\u001b[0m  \u001b[1m(\u001b[0m \u001b[1;36m71\u001b[0m \u001b[1m)\u001b[0m  Center Point:   \u001b[1;36m186\u001b[0m  \u001b[1m(\u001b[0m \u001b[1;36m95\u001b[0m \u001b[1m)\u001b[0m  Right Margin:   \u001b[1;36m140\u001b[0m  \u001b[1m(\u001b[0m \u001b[1;36m72\u001b[0m \u001b[1m)\u001b[0m\n"
            ]
          },
          "metadata": {},
          "output_type": "display_data"
        },
        {
          "data": {
            "text/html": [
              "<pre style=\"white-space:pre;overflow-x:auto;line-height:normal;font-family:Menlo,'DejaVu Sans Mono',consolas,'Courier New',monospace\">Byte  <span style=\"color: #008080; text-decoration-color: #008080; font-weight: bold\">7</span>  Nibble <span style=\"color: #008080; text-decoration-color: #008080; font-weight: bold\">0</span>  -   Left Margin:   <span style=\"color: #008080; text-decoration-color: #008080; font-weight: bold\">135</span>  <span style=\"font-weight: bold\">(</span> <span style=\"color: #008080; text-decoration-color: #008080; font-weight: bold\">70</span> <span style=\"font-weight: bold\">)</span>  Center Point:   <span style=\"color: #008080; text-decoration-color: #008080; font-weight: bold\">177</span>  <span style=\"font-weight: bold\">(</span> <span style=\"color: #008080; text-decoration-color: #008080; font-weight: bold\">92</span> <span style=\"font-weight: bold\">)</span>  Right Margin:   <span style=\"color: #008080; text-decoration-color: #008080; font-weight: bold\">136</span>  <span style=\"font-weight: bold\">(</span> <span style=\"color: #008080; text-decoration-color: #008080; font-weight: bold\">71</span> <span style=\"font-weight: bold\">)</span>\n",
              "</pre>\n"
            ],
            "text/plain": [
              "Byte  \u001b[1;36m7\u001b[0m  Nibble \u001b[1;36m0\u001b[0m  -   Left Margin:   \u001b[1;36m135\u001b[0m  \u001b[1m(\u001b[0m \u001b[1;36m70\u001b[0m \u001b[1m)\u001b[0m  Center Point:   \u001b[1;36m177\u001b[0m  \u001b[1m(\u001b[0m \u001b[1;36m92\u001b[0m \u001b[1m)\u001b[0m  Right Margin:   \u001b[1;36m136\u001b[0m  \u001b[1m(\u001b[0m \u001b[1;36m71\u001b[0m \u001b[1m)\u001b[0m\n"
            ]
          },
          "metadata": {},
          "output_type": "display_data"
        },
        {
          "data": {
            "text/html": [
              "<pre style=\"white-space:pre;overflow-x:auto;line-height:normal;font-family:Menlo,'DejaVu Sans Mono',consolas,'Courier New',monospace\">Byte  <span style=\"color: #008080; text-decoration-color: #008080; font-weight: bold\">7</span>  Nibble <span style=\"color: #008080; text-decoration-color: #008080; font-weight: bold\">1</span>  -   Left Margin:   <span style=\"color: #008080; text-decoration-color: #008080; font-weight: bold\">136</span>  <span style=\"font-weight: bold\">(</span> <span style=\"color: #008080; text-decoration-color: #008080; font-weight: bold\">69</span> <span style=\"font-weight: bold\">)</span>  Center Point:   <span style=\"color: #008080; text-decoration-color: #008080; font-weight: bold\">182</span>  <span style=\"font-weight: bold\">(</span> <span style=\"color: #008080; text-decoration-color: #008080; font-weight: bold\">92</span> <span style=\"font-weight: bold\">)</span>  Right Margin:   <span style=\"color: #008080; text-decoration-color: #008080; font-weight: bold\">138</span>  <span style=\"font-weight: bold\">(</span> <span style=\"color: #008080; text-decoration-color: #008080; font-weight: bold\">70</span> <span style=\"font-weight: bold\">)</span>\n",
              "</pre>\n"
            ],
            "text/plain": [
              "Byte  \u001b[1;36m7\u001b[0m  Nibble \u001b[1;36m1\u001b[0m  -   Left Margin:   \u001b[1;36m136\u001b[0m  \u001b[1m(\u001b[0m \u001b[1;36m69\u001b[0m \u001b[1m)\u001b[0m  Center Point:   \u001b[1;36m182\u001b[0m  \u001b[1m(\u001b[0m \u001b[1;36m92\u001b[0m \u001b[1m)\u001b[0m  Right Margin:   \u001b[1;36m138\u001b[0m  \u001b[1m(\u001b[0m \u001b[1;36m70\u001b[0m \u001b[1m)\u001b[0m\n"
            ]
          },
          "metadata": {},
          "output_type": "display_data"
        },
        {
          "data": {
            "text/html": [
              "<pre style=\"white-space:pre;overflow-x:auto;line-height:normal;font-family:Menlo,'DejaVu Sans Mono',consolas,'Courier New',monospace\">\n",
              " Frequency <span style=\"color: #008080; text-decoration-color: #008080; font-weight: bold\">0</span>  - Read Margin - Complex Pattern - Falling Edge Clock in pS and <span style=\"font-weight: bold\">(</span>delay taps<span style=\"font-weight: bold\">)</span>:\n",
              "\n",
              "</pre>\n"
            ],
            "text/plain": [
              "\n",
              " Frequency \u001b[1;36m0\u001b[0m  - Read Margin - Complex Pattern - Falling Edge Clock in pS and \u001b[1m(\u001b[0mdelay taps\u001b[1m)\u001b[0m:\n",
              "\n"
            ]
          },
          "metadata": {},
          "output_type": "display_data"
        },
        {
          "data": {
            "text/html": [
              "<pre style=\"white-space:pre;overflow-x:auto;line-height:normal;font-family:Menlo,'DejaVu Sans Mono',consolas,'Courier New',monospace\">Byte  <span style=\"color: #008080; text-decoration-color: #008080; font-weight: bold\">0</span>  Nibble <span style=\"color: #008080; text-decoration-color: #008080; font-weight: bold\">0</span>  -   Left Margin:   <span style=\"color: #008080; text-decoration-color: #008080; font-weight: bold\">121</span>  <span style=\"font-weight: bold\">(</span> <span style=\"color: #008080; text-decoration-color: #008080; font-weight: bold\">64</span> <span style=\"font-weight: bold\">)</span>  Center Point:   <span style=\"color: #008080; text-decoration-color: #008080; font-weight: bold\">173</span>  <span style=\"font-weight: bold\">(</span> <span style=\"color: #008080; text-decoration-color: #008080; font-weight: bold\">91</span> <span style=\"font-weight: bold\">)</span>  Right Margin:   <span style=\"color: #008080; text-decoration-color: #008080; font-weight: bold\">123</span>  <span style=\"font-weight: bold\">(</span> <span style=\"color: #008080; text-decoration-color: #008080; font-weight: bold\">65</span> <span style=\"font-weight: bold\">)</span>\n",
              "</pre>\n"
            ],
            "text/plain": [
              "Byte  \u001b[1;36m0\u001b[0m  Nibble \u001b[1;36m0\u001b[0m  -   Left Margin:   \u001b[1;36m121\u001b[0m  \u001b[1m(\u001b[0m \u001b[1;36m64\u001b[0m \u001b[1m)\u001b[0m  Center Point:   \u001b[1;36m173\u001b[0m  \u001b[1m(\u001b[0m \u001b[1;36m91\u001b[0m \u001b[1m)\u001b[0m  Right Margin:   \u001b[1;36m123\u001b[0m  \u001b[1m(\u001b[0m \u001b[1;36m65\u001b[0m \u001b[1m)\u001b[0m\n"
            ]
          },
          "metadata": {},
          "output_type": "display_data"
        },
        {
          "data": {
            "text/html": [
              "<pre style=\"white-space:pre;overflow-x:auto;line-height:normal;font-family:Menlo,'DejaVu Sans Mono',consolas,'Courier New',monospace\">Byte  <span style=\"color: #008080; text-decoration-color: #008080; font-weight: bold\">0</span>  Nibble <span style=\"color: #008080; text-decoration-color: #008080; font-weight: bold\">1</span>  -   Left Margin:   <span style=\"color: #008080; text-decoration-color: #008080; font-weight: bold\">125</span>  <span style=\"font-weight: bold\">(</span> <span style=\"color: #008080; text-decoration-color: #008080; font-weight: bold\">64</span> <span style=\"font-weight: bold\">)</span>  Center Point:   <span style=\"color: #008080; text-decoration-color: #008080; font-weight: bold\">182</span>  <span style=\"font-weight: bold\">(</span> <span style=\"color: #008080; text-decoration-color: #008080; font-weight: bold\">93</span> <span style=\"font-weight: bold\">)</span>  Right Margin:   <span style=\"color: #008080; text-decoration-color: #008080; font-weight: bold\">125</span>  <span style=\"font-weight: bold\">(</span> <span style=\"color: #008080; text-decoration-color: #008080; font-weight: bold\">64</span> <span style=\"font-weight: bold\">)</span>\n",
              "</pre>\n"
            ],
            "text/plain": [
              "Byte  \u001b[1;36m0\u001b[0m  Nibble \u001b[1;36m1\u001b[0m  -   Left Margin:   \u001b[1;36m125\u001b[0m  \u001b[1m(\u001b[0m \u001b[1;36m64\u001b[0m \u001b[1m)\u001b[0m  Center Point:   \u001b[1;36m182\u001b[0m  \u001b[1m(\u001b[0m \u001b[1;36m93\u001b[0m \u001b[1m)\u001b[0m  Right Margin:   \u001b[1;36m125\u001b[0m  \u001b[1m(\u001b[0m \u001b[1;36m64\u001b[0m \u001b[1m)\u001b[0m\n"
            ]
          },
          "metadata": {},
          "output_type": "display_data"
        },
        {
          "data": {
            "text/html": [
              "<pre style=\"white-space:pre;overflow-x:auto;line-height:normal;font-family:Menlo,'DejaVu Sans Mono',consolas,'Courier New',monospace\">Byte  <span style=\"color: #008080; text-decoration-color: #008080; font-weight: bold\">1</span>  Nibble <span style=\"color: #008080; text-decoration-color: #008080; font-weight: bold\">0</span>  -   Left Margin:   <span style=\"color: #008080; text-decoration-color: #008080; font-weight: bold\">120</span>  <span style=\"font-weight: bold\">(</span> <span style=\"color: #008080; text-decoration-color: #008080; font-weight: bold\">61</span> <span style=\"font-weight: bold\">)</span>  Center Point:   <span style=\"color: #008080; text-decoration-color: #008080; font-weight: bold\">176</span>  <span style=\"font-weight: bold\">(</span> <span style=\"color: #008080; text-decoration-color: #008080; font-weight: bold\">89</span> <span style=\"font-weight: bold\">)</span>  Right Margin:   <span style=\"color: #008080; text-decoration-color: #008080; font-weight: bold\">122</span>  <span style=\"font-weight: bold\">(</span> <span style=\"color: #008080; text-decoration-color: #008080; font-weight: bold\">62</span> <span style=\"font-weight: bold\">)</span>\n",
              "</pre>\n"
            ],
            "text/plain": [
              "Byte  \u001b[1;36m1\u001b[0m  Nibble \u001b[1;36m0\u001b[0m  -   Left Margin:   \u001b[1;36m120\u001b[0m  \u001b[1m(\u001b[0m \u001b[1;36m61\u001b[0m \u001b[1m)\u001b[0m  Center Point:   \u001b[1;36m176\u001b[0m  \u001b[1m(\u001b[0m \u001b[1;36m89\u001b[0m \u001b[1m)\u001b[0m  Right Margin:   \u001b[1;36m122\u001b[0m  \u001b[1m(\u001b[0m \u001b[1;36m62\u001b[0m \u001b[1m)\u001b[0m\n"
            ]
          },
          "metadata": {},
          "output_type": "display_data"
        },
        {
          "data": {
            "text/html": [
              "<pre style=\"white-space:pre;overflow-x:auto;line-height:normal;font-family:Menlo,'DejaVu Sans Mono',consolas,'Courier New',monospace\">Byte  <span style=\"color: #008080; text-decoration-color: #008080; font-weight: bold\">1</span>  Nibble <span style=\"color: #008080; text-decoration-color: #008080; font-weight: bold\">1</span>  -   Left Margin:   <span style=\"color: #008080; text-decoration-color: #008080; font-weight: bold\">121</span>  <span style=\"font-weight: bold\">(</span> <span style=\"color: #008080; text-decoration-color: #008080; font-weight: bold\">62</span> <span style=\"font-weight: bold\">)</span>  Center Point:   <span style=\"color: #008080; text-decoration-color: #008080; font-weight: bold\">174</span>  <span style=\"font-weight: bold\">(</span> <span style=\"color: #008080; text-decoration-color: #008080; font-weight: bold\">89</span> <span style=\"font-weight: bold\">)</span>  Right Margin:   <span style=\"color: #008080; text-decoration-color: #008080; font-weight: bold\">121</span>  <span style=\"font-weight: bold\">(</span> <span style=\"color: #008080; text-decoration-color: #008080; font-weight: bold\">62</span> <span style=\"font-weight: bold\">)</span>\n",
              "</pre>\n"
            ],
            "text/plain": [
              "Byte  \u001b[1;36m1\u001b[0m  Nibble \u001b[1;36m1\u001b[0m  -   Left Margin:   \u001b[1;36m121\u001b[0m  \u001b[1m(\u001b[0m \u001b[1;36m62\u001b[0m \u001b[1m)\u001b[0m  Center Point:   \u001b[1;36m174\u001b[0m  \u001b[1m(\u001b[0m \u001b[1;36m89\u001b[0m \u001b[1m)\u001b[0m  Right Margin:   \u001b[1;36m121\u001b[0m  \u001b[1m(\u001b[0m \u001b[1;36m62\u001b[0m \u001b[1m)\u001b[0m\n"
            ]
          },
          "metadata": {},
          "output_type": "display_data"
        },
        {
          "data": {
            "text/html": [
              "<pre style=\"white-space:pre;overflow-x:auto;line-height:normal;font-family:Menlo,'DejaVu Sans Mono',consolas,'Courier New',monospace\">Byte  <span style=\"color: #008080; text-decoration-color: #008080; font-weight: bold\">2</span>  Nibble <span style=\"color: #008080; text-decoration-color: #008080; font-weight: bold\">0</span>  -   Left Margin:   <span style=\"color: #008080; text-decoration-color: #008080; font-weight: bold\">116</span>  <span style=\"font-weight: bold\">(</span> <span style=\"color: #008080; text-decoration-color: #008080; font-weight: bold\">59</span> <span style=\"font-weight: bold\">)</span>  Center Point:   <span style=\"color: #008080; text-decoration-color: #008080; font-weight: bold\">176</span>  <span style=\"font-weight: bold\">(</span> <span style=\"color: #008080; text-decoration-color: #008080; font-weight: bold\">89</span> <span style=\"font-weight: bold\">)</span>  Right Margin:   <span style=\"color: #008080; text-decoration-color: #008080; font-weight: bold\">118</span>  <span style=\"font-weight: bold\">(</span> <span style=\"color: #008080; text-decoration-color: #008080; font-weight: bold\">60</span> <span style=\"font-weight: bold\">)</span>\n",
              "</pre>\n"
            ],
            "text/plain": [
              "Byte  \u001b[1;36m2\u001b[0m  Nibble \u001b[1;36m0\u001b[0m  -   Left Margin:   \u001b[1;36m116\u001b[0m  \u001b[1m(\u001b[0m \u001b[1;36m59\u001b[0m \u001b[1m)\u001b[0m  Center Point:   \u001b[1;36m176\u001b[0m  \u001b[1m(\u001b[0m \u001b[1;36m89\u001b[0m \u001b[1m)\u001b[0m  Right Margin:   \u001b[1;36m118\u001b[0m  \u001b[1m(\u001b[0m \u001b[1;36m60\u001b[0m \u001b[1m)\u001b[0m\n"
            ]
          },
          "metadata": {},
          "output_type": "display_data"
        },
        {
          "data": {
            "text/html": [
              "<pre style=\"white-space:pre;overflow-x:auto;line-height:normal;font-family:Menlo,'DejaVu Sans Mono',consolas,'Courier New',monospace\">Byte  <span style=\"color: #008080; text-decoration-color: #008080; font-weight: bold\">2</span>  Nibble <span style=\"color: #008080; text-decoration-color: #008080; font-weight: bold\">1</span>  -   Left Margin:   <span style=\"color: #008080; text-decoration-color: #008080; font-weight: bold\">117</span>  <span style=\"font-weight: bold\">(</span> <span style=\"color: #008080; text-decoration-color: #008080; font-weight: bold\">60</span> <span style=\"font-weight: bold\">)</span>  Center Point:   <span style=\"color: #008080; text-decoration-color: #008080; font-weight: bold\">174</span>  <span style=\"font-weight: bold\">(</span> <span style=\"color: #008080; text-decoration-color: #008080; font-weight: bold\">89</span> <span style=\"font-weight: bold\">)</span>  Right Margin:   <span style=\"color: #008080; text-decoration-color: #008080; font-weight: bold\">119</span>  <span style=\"font-weight: bold\">(</span> <span style=\"color: #008080; text-decoration-color: #008080; font-weight: bold\">61</span> <span style=\"font-weight: bold\">)</span>\n",
              "</pre>\n"
            ],
            "text/plain": [
              "Byte  \u001b[1;36m2\u001b[0m  Nibble \u001b[1;36m1\u001b[0m  -   Left Margin:   \u001b[1;36m117\u001b[0m  \u001b[1m(\u001b[0m \u001b[1;36m60\u001b[0m \u001b[1m)\u001b[0m  Center Point:   \u001b[1;36m174\u001b[0m  \u001b[1m(\u001b[0m \u001b[1;36m89\u001b[0m \u001b[1m)\u001b[0m  Right Margin:   \u001b[1;36m119\u001b[0m  \u001b[1m(\u001b[0m \u001b[1;36m61\u001b[0m \u001b[1m)\u001b[0m\n"
            ]
          },
          "metadata": {},
          "output_type": "display_data"
        },
        {
          "data": {
            "text/html": [
              "<pre style=\"white-space:pre;overflow-x:auto;line-height:normal;font-family:Menlo,'DejaVu Sans Mono',consolas,'Courier New',monospace\">Byte  <span style=\"color: #008080; text-decoration-color: #008080; font-weight: bold\">3</span>  Nibble <span style=\"color: #008080; text-decoration-color: #008080; font-weight: bold\">0</span>  -   Left Margin:   <span style=\"color: #008080; text-decoration-color: #008080; font-weight: bold\">111</span>  <span style=\"font-weight: bold\">(</span> <span style=\"color: #008080; text-decoration-color: #008080; font-weight: bold\">58</span> <span style=\"font-weight: bold\">)</span>  Center Point:   <span style=\"color: #008080; text-decoration-color: #008080; font-weight: bold\">164</span>  <span style=\"font-weight: bold\">(</span> <span style=\"color: #008080; text-decoration-color: #008080; font-weight: bold\">85</span> <span style=\"font-weight: bold\">)</span>  Right Margin:   <span style=\"color: #008080; text-decoration-color: #008080; font-weight: bold\">111</span>  <span style=\"font-weight: bold\">(</span> <span style=\"color: #008080; text-decoration-color: #008080; font-weight: bold\">58</span> <span style=\"font-weight: bold\">)</span>\n",
              "</pre>\n"
            ],
            "text/plain": [
              "Byte  \u001b[1;36m3\u001b[0m  Nibble \u001b[1;36m0\u001b[0m  -   Left Margin:   \u001b[1;36m111\u001b[0m  \u001b[1m(\u001b[0m \u001b[1;36m58\u001b[0m \u001b[1m)\u001b[0m  Center Point:   \u001b[1;36m164\u001b[0m  \u001b[1m(\u001b[0m \u001b[1;36m85\u001b[0m \u001b[1m)\u001b[0m  Right Margin:   \u001b[1;36m111\u001b[0m  \u001b[1m(\u001b[0m \u001b[1;36m58\u001b[0m \u001b[1m)\u001b[0m\n"
            ]
          },
          "metadata": {},
          "output_type": "display_data"
        },
        {
          "data": {
            "text/html": [
              "<pre style=\"white-space:pre;overflow-x:auto;line-height:normal;font-family:Menlo,'DejaVu Sans Mono',consolas,'Courier New',monospace\">Byte  <span style=\"color: #008080; text-decoration-color: #008080; font-weight: bold\">3</span>  Nibble <span style=\"color: #008080; text-decoration-color: #008080; font-weight: bold\">1</span>  -   Left Margin:   <span style=\"color: #008080; text-decoration-color: #008080; font-weight: bold\">116</span>  <span style=\"font-weight: bold\">(</span> <span style=\"color: #008080; text-decoration-color: #008080; font-weight: bold\">59</span> <span style=\"font-weight: bold\">)</span>  Center Point:   <span style=\"color: #008080; text-decoration-color: #008080; font-weight: bold\">168</span>  <span style=\"font-weight: bold\">(</span> <span style=\"color: #008080; text-decoration-color: #008080; font-weight: bold\">85</span> <span style=\"font-weight: bold\">)</span>  Right Margin:   <span style=\"color: #008080; text-decoration-color: #008080; font-weight: bold\">116</span>  <span style=\"font-weight: bold\">(</span> <span style=\"color: #008080; text-decoration-color: #008080; font-weight: bold\">59</span> <span style=\"font-weight: bold\">)</span>\n",
              "</pre>\n"
            ],
            "text/plain": [
              "Byte  \u001b[1;36m3\u001b[0m  Nibble \u001b[1;36m1\u001b[0m  -   Left Margin:   \u001b[1;36m116\u001b[0m  \u001b[1m(\u001b[0m \u001b[1;36m59\u001b[0m \u001b[1m)\u001b[0m  Center Point:   \u001b[1;36m168\u001b[0m  \u001b[1m(\u001b[0m \u001b[1;36m85\u001b[0m \u001b[1m)\u001b[0m  Right Margin:   \u001b[1;36m116\u001b[0m  \u001b[1m(\u001b[0m \u001b[1;36m59\u001b[0m \u001b[1m)\u001b[0m\n"
            ]
          },
          "metadata": {},
          "output_type": "display_data"
        },
        {
          "data": {
            "text/html": [
              "<pre style=\"white-space:pre;overflow-x:auto;line-height:normal;font-family:Menlo,'DejaVu Sans Mono',consolas,'Courier New',monospace\">Byte  <span style=\"color: #008080; text-decoration-color: #008080; font-weight: bold\">4</span>  Nibble <span style=\"color: #008080; text-decoration-color: #008080; font-weight: bold\">0</span>  -   Left Margin:   <span style=\"color: #008080; text-decoration-color: #008080; font-weight: bold\">112</span>  <span style=\"font-weight: bold\">(</span> <span style=\"color: #008080; text-decoration-color: #008080; font-weight: bold\">57</span> <span style=\"font-weight: bold\">)</span>  Center Point:   <span style=\"color: #008080; text-decoration-color: #008080; font-weight: bold\">152</span>  <span style=\"font-weight: bold\">(</span> <span style=\"color: #008080; text-decoration-color: #008080; font-weight: bold\">77</span> <span style=\"font-weight: bold\">)</span>  Right Margin:   <span style=\"color: #008080; text-decoration-color: #008080; font-weight: bold\">112</span>  <span style=\"font-weight: bold\">(</span> <span style=\"color: #008080; text-decoration-color: #008080; font-weight: bold\">57</span> <span style=\"font-weight: bold\">)</span>\n",
              "</pre>\n"
            ],
            "text/plain": [
              "Byte  \u001b[1;36m4\u001b[0m  Nibble \u001b[1;36m0\u001b[0m  -   Left Margin:   \u001b[1;36m112\u001b[0m  \u001b[1m(\u001b[0m \u001b[1;36m57\u001b[0m \u001b[1m)\u001b[0m  Center Point:   \u001b[1;36m152\u001b[0m  \u001b[1m(\u001b[0m \u001b[1;36m77\u001b[0m \u001b[1m)\u001b[0m  Right Margin:   \u001b[1;36m112\u001b[0m  \u001b[1m(\u001b[0m \u001b[1;36m57\u001b[0m \u001b[1m)\u001b[0m\n"
            ]
          },
          "metadata": {},
          "output_type": "display_data"
        },
        {
          "data": {
            "text/html": [
              "<pre style=\"white-space:pre;overflow-x:auto;line-height:normal;font-family:Menlo,'DejaVu Sans Mono',consolas,'Courier New',monospace\">Byte  <span style=\"color: #008080; text-decoration-color: #008080; font-weight: bold\">4</span>  Nibble <span style=\"color: #008080; text-decoration-color: #008080; font-weight: bold\">1</span>  -   Left Margin:   <span style=\"color: #008080; text-decoration-color: #008080; font-weight: bold\">114</span>  <span style=\"font-weight: bold\">(</span> <span style=\"color: #008080; text-decoration-color: #008080; font-weight: bold\">58</span> <span style=\"font-weight: bold\">)</span>  Center Point:   <span style=\"color: #008080; text-decoration-color: #008080; font-weight: bold\">164</span>  <span style=\"font-weight: bold\">(</span> <span style=\"color: #008080; text-decoration-color: #008080; font-weight: bold\">83</span> <span style=\"font-weight: bold\">)</span>  Right Margin:   <span style=\"color: #008080; text-decoration-color: #008080; font-weight: bold\">114</span>  <span style=\"font-weight: bold\">(</span> <span style=\"color: #008080; text-decoration-color: #008080; font-weight: bold\">58</span> <span style=\"font-weight: bold\">)</span>\n",
              "</pre>\n"
            ],
            "text/plain": [
              "Byte  \u001b[1;36m4\u001b[0m  Nibble \u001b[1;36m1\u001b[0m  -   Left Margin:   \u001b[1;36m114\u001b[0m  \u001b[1m(\u001b[0m \u001b[1;36m58\u001b[0m \u001b[1m)\u001b[0m  Center Point:   \u001b[1;36m164\u001b[0m  \u001b[1m(\u001b[0m \u001b[1;36m83\u001b[0m \u001b[1m)\u001b[0m  Right Margin:   \u001b[1;36m114\u001b[0m  \u001b[1m(\u001b[0m \u001b[1;36m58\u001b[0m \u001b[1m)\u001b[0m\n"
            ]
          },
          "metadata": {},
          "output_type": "display_data"
        },
        {
          "data": {
            "text/html": [
              "<pre style=\"white-space:pre;overflow-x:auto;line-height:normal;font-family:Menlo,'DejaVu Sans Mono',consolas,'Courier New',monospace\">Byte  <span style=\"color: #008080; text-decoration-color: #008080; font-weight: bold\">5</span>  Nibble <span style=\"color: #008080; text-decoration-color: #008080; font-weight: bold\">0</span>  -   Left Margin:   <span style=\"color: #008080; text-decoration-color: #008080; font-weight: bold\">122</span>  <span style=\"font-weight: bold\">(</span> <span style=\"color: #008080; text-decoration-color: #008080; font-weight: bold\">62</span> <span style=\"font-weight: bold\">)</span>  Center Point:   <span style=\"color: #008080; text-decoration-color: #008080; font-weight: bold\">162</span>  <span style=\"font-weight: bold\">(</span> <span style=\"color: #008080; text-decoration-color: #008080; font-weight: bold\">82</span> <span style=\"font-weight: bold\">)</span>  Right Margin:   <span style=\"color: #008080; text-decoration-color: #008080; font-weight: bold\">124</span>  <span style=\"font-weight: bold\">(</span> <span style=\"color: #008080; text-decoration-color: #008080; font-weight: bold\">63</span> <span style=\"font-weight: bold\">)</span>\n",
              "</pre>\n"
            ],
            "text/plain": [
              "Byte  \u001b[1;36m5\u001b[0m  Nibble \u001b[1;36m0\u001b[0m  -   Left Margin:   \u001b[1;36m122\u001b[0m  \u001b[1m(\u001b[0m \u001b[1;36m62\u001b[0m \u001b[1m)\u001b[0m  Center Point:   \u001b[1;36m162\u001b[0m  \u001b[1m(\u001b[0m \u001b[1;36m82\u001b[0m \u001b[1m)\u001b[0m  Right Margin:   \u001b[1;36m124\u001b[0m  \u001b[1m(\u001b[0m \u001b[1;36m63\u001b[0m \u001b[1m)\u001b[0m\n"
            ]
          },
          "metadata": {},
          "output_type": "display_data"
        },
        {
          "data": {
            "text/html": [
              "<pre style=\"white-space:pre;overflow-x:auto;line-height:normal;font-family:Menlo,'DejaVu Sans Mono',consolas,'Courier New',monospace\">Byte  <span style=\"color: #008080; text-decoration-color: #008080; font-weight: bold\">5</span>  Nibble <span style=\"color: #008080; text-decoration-color: #008080; font-weight: bold\">1</span>  -   Left Margin:   <span style=\"color: #008080; text-decoration-color: #008080; font-weight: bold\">127</span>  <span style=\"font-weight: bold\">(</span> <span style=\"color: #008080; text-decoration-color: #008080; font-weight: bold\">63</span> <span style=\"font-weight: bold\">)</span>  Center Point:   <span style=\"color: #008080; text-decoration-color: #008080; font-weight: bold\">175</span>  <span style=\"font-weight: bold\">(</span> <span style=\"color: #008080; text-decoration-color: #008080; font-weight: bold\">86</span> <span style=\"font-weight: bold\">)</span>  Right Margin:   <span style=\"color: #008080; text-decoration-color: #008080; font-weight: bold\">127</span>  <span style=\"font-weight: bold\">(</span> <span style=\"color: #008080; text-decoration-color: #008080; font-weight: bold\">63</span> <span style=\"font-weight: bold\">)</span>\n",
              "</pre>\n"
            ],
            "text/plain": [
              "Byte  \u001b[1;36m5\u001b[0m  Nibble \u001b[1;36m1\u001b[0m  -   Left Margin:   \u001b[1;36m127\u001b[0m  \u001b[1m(\u001b[0m \u001b[1;36m63\u001b[0m \u001b[1m)\u001b[0m  Center Point:   \u001b[1;36m175\u001b[0m  \u001b[1m(\u001b[0m \u001b[1;36m86\u001b[0m \u001b[1m)\u001b[0m  Right Margin:   \u001b[1;36m127\u001b[0m  \u001b[1m(\u001b[0m \u001b[1;36m63\u001b[0m \u001b[1m)\u001b[0m\n"
            ]
          },
          "metadata": {},
          "output_type": "display_data"
        },
        {
          "data": {
            "text/html": [
              "<pre style=\"white-space:pre;overflow-x:auto;line-height:normal;font-family:Menlo,'DejaVu Sans Mono',consolas,'Courier New',monospace\">Byte  <span style=\"color: #008080; text-decoration-color: #008080; font-weight: bold\">6</span>  Nibble <span style=\"color: #008080; text-decoration-color: #008080; font-weight: bold\">0</span>  -   Left Margin:   <span style=\"color: #008080; text-decoration-color: #008080; font-weight: bold\">117</span>  <span style=\"font-weight: bold\">(</span> <span style=\"color: #008080; text-decoration-color: #008080; font-weight: bold\">60</span> <span style=\"font-weight: bold\">)</span>  Center Point:   <span style=\"color: #008080; text-decoration-color: #008080; font-weight: bold\">162</span>  <span style=\"font-weight: bold\">(</span> <span style=\"color: #008080; text-decoration-color: #008080; font-weight: bold\">83</span> <span style=\"font-weight: bold\">)</span>  Right Margin:   <span style=\"color: #008080; text-decoration-color: #008080; font-weight: bold\">117</span>  <span style=\"font-weight: bold\">(</span> <span style=\"color: #008080; text-decoration-color: #008080; font-weight: bold\">60</span> <span style=\"font-weight: bold\">)</span>\n",
              "</pre>\n"
            ],
            "text/plain": [
              "Byte  \u001b[1;36m6\u001b[0m  Nibble \u001b[1;36m0\u001b[0m  -   Left Margin:   \u001b[1;36m117\u001b[0m  \u001b[1m(\u001b[0m \u001b[1;36m60\u001b[0m \u001b[1m)\u001b[0m  Center Point:   \u001b[1;36m162\u001b[0m  \u001b[1m(\u001b[0m \u001b[1;36m83\u001b[0m \u001b[1m)\u001b[0m  Right Margin:   \u001b[1;36m117\u001b[0m  \u001b[1m(\u001b[0m \u001b[1;36m60\u001b[0m \u001b[1m)\u001b[0m\n"
            ]
          },
          "metadata": {},
          "output_type": "display_data"
        },
        {
          "data": {
            "text/html": [
              "<pre style=\"white-space:pre;overflow-x:auto;line-height:normal;font-family:Menlo,'DejaVu Sans Mono',consolas,'Courier New',monospace\">Byte  <span style=\"color: #008080; text-decoration-color: #008080; font-weight: bold\">6</span>  Nibble <span style=\"color: #008080; text-decoration-color: #008080; font-weight: bold\">1</span>  -   Left Margin:   <span style=\"color: #008080; text-decoration-color: #008080; font-weight: bold\">119</span>  <span style=\"font-weight: bold\">(</span> <span style=\"color: #008080; text-decoration-color: #008080; font-weight: bold\">62</span> <span style=\"font-weight: bold\">)</span>  Center Point:   <span style=\"color: #008080; text-decoration-color: #008080; font-weight: bold\">174</span>  <span style=\"font-weight: bold\">(</span> <span style=\"color: #008080; text-decoration-color: #008080; font-weight: bold\">90</span> <span style=\"font-weight: bold\">)</span>  Right Margin:   <span style=\"color: #008080; text-decoration-color: #008080; font-weight: bold\">121</span>  <span style=\"font-weight: bold\">(</span> <span style=\"color: #008080; text-decoration-color: #008080; font-weight: bold\">63</span> <span style=\"font-weight: bold\">)</span>\n",
              "</pre>\n"
            ],
            "text/plain": [
              "Byte  \u001b[1;36m6\u001b[0m  Nibble \u001b[1;36m1\u001b[0m  -   Left Margin:   \u001b[1;36m119\u001b[0m  \u001b[1m(\u001b[0m \u001b[1;36m62\u001b[0m \u001b[1m)\u001b[0m  Center Point:   \u001b[1;36m174\u001b[0m  \u001b[1m(\u001b[0m \u001b[1;36m90\u001b[0m \u001b[1m)\u001b[0m  Right Margin:   \u001b[1;36m121\u001b[0m  \u001b[1m(\u001b[0m \u001b[1;36m63\u001b[0m \u001b[1m)\u001b[0m\n"
            ]
          },
          "metadata": {},
          "output_type": "display_data"
        },
        {
          "data": {
            "text/html": [
              "<pre style=\"white-space:pre;overflow-x:auto;line-height:normal;font-family:Menlo,'DejaVu Sans Mono',consolas,'Courier New',monospace\">Byte  <span style=\"color: #008080; text-decoration-color: #008080; font-weight: bold\">7</span>  Nibble <span style=\"color: #008080; text-decoration-color: #008080; font-weight: bold\">0</span>  -   Left Margin:   <span style=\"color: #008080; text-decoration-color: #008080; font-weight: bold\">124</span>  <span style=\"font-weight: bold\">(</span> <span style=\"color: #008080; text-decoration-color: #008080; font-weight: bold\">62</span> <span style=\"font-weight: bold\">)</span>  Center Point:   <span style=\"color: #008080; text-decoration-color: #008080; font-weight: bold\">168</span>  <span style=\"font-weight: bold\">(</span> <span style=\"color: #008080; text-decoration-color: #008080; font-weight: bold\">84</span> <span style=\"font-weight: bold\">)</span>  Right Margin:   <span style=\"color: #008080; text-decoration-color: #008080; font-weight: bold\">126</span>  <span style=\"font-weight: bold\">(</span> <span style=\"color: #008080; text-decoration-color: #008080; font-weight: bold\">63</span> <span style=\"font-weight: bold\">)</span>\n",
              "</pre>\n"
            ],
            "text/plain": [
              "Byte  \u001b[1;36m7\u001b[0m  Nibble \u001b[1;36m0\u001b[0m  -   Left Margin:   \u001b[1;36m124\u001b[0m  \u001b[1m(\u001b[0m \u001b[1;36m62\u001b[0m \u001b[1m)\u001b[0m  Center Point:   \u001b[1;36m168\u001b[0m  \u001b[1m(\u001b[0m \u001b[1;36m84\u001b[0m \u001b[1m)\u001b[0m  Right Margin:   \u001b[1;36m126\u001b[0m  \u001b[1m(\u001b[0m \u001b[1;36m63\u001b[0m \u001b[1m)\u001b[0m\n"
            ]
          },
          "metadata": {},
          "output_type": "display_data"
        },
        {
          "data": {
            "text/html": [
              "<pre style=\"white-space:pre;overflow-x:auto;line-height:normal;font-family:Menlo,'DejaVu Sans Mono',consolas,'Courier New',monospace\">Byte  <span style=\"color: #008080; text-decoration-color: #008080; font-weight: bold\">7</span>  Nibble <span style=\"color: #008080; text-decoration-color: #008080; font-weight: bold\">1</span>  -   Left Margin:   <span style=\"color: #008080; text-decoration-color: #008080; font-weight: bold\">122</span>  <span style=\"font-weight: bold\">(</span> <span style=\"color: #008080; text-decoration-color: #008080; font-weight: bold\">61</span> <span style=\"font-weight: bold\">)</span>  Center Point:   <span style=\"color: #008080; text-decoration-color: #008080; font-weight: bold\">172</span>  <span style=\"font-weight: bold\">(</span> <span style=\"color: #008080; text-decoration-color: #008080; font-weight: bold\">86</span> <span style=\"font-weight: bold\">)</span>  Right Margin:   <span style=\"color: #008080; text-decoration-color: #008080; font-weight: bold\">122</span>  <span style=\"font-weight: bold\">(</span> <span style=\"color: #008080; text-decoration-color: #008080; font-weight: bold\">61</span> <span style=\"font-weight: bold\">)</span>\n",
              "</pre>\n"
            ],
            "text/plain": [
              "Byte  \u001b[1;36m7\u001b[0m  Nibble \u001b[1;36m1\u001b[0m  -   Left Margin:   \u001b[1;36m122\u001b[0m  \u001b[1m(\u001b[0m \u001b[1;36m61\u001b[0m \u001b[1m)\u001b[0m  Center Point:   \u001b[1;36m172\u001b[0m  \u001b[1m(\u001b[0m \u001b[1;36m86\u001b[0m \u001b[1m)\u001b[0m  Right Margin:   \u001b[1;36m122\u001b[0m  \u001b[1m(\u001b[0m \u001b[1;36m61\u001b[0m \u001b[1m)\u001b[0m\n"
            ]
          },
          "metadata": {},
          "output_type": "display_data"
        },
        {
          "data": {
            "text/html": [
              "<pre style=\"white-space:pre;overflow-x:auto;line-height:normal;font-family:Menlo,'DejaVu Sans Mono',consolas,'Courier New',monospace\">\n",
              " Frequency <span style=\"color: #008080; text-decoration-color: #008080; font-weight: bold\">0</span>  - Write Margin - Simple Pattern - Calibration Window in pS and <span style=\"font-weight: bold\">(</span>delay taps<span style=\"font-weight: bold\">)</span>:\n",
              "\n",
              "</pre>\n"
            ],
            "text/plain": [
              "\n",
              " Frequency \u001b[1;36m0\u001b[0m  - Write Margin - Simple Pattern - Calibration Window in pS and \u001b[1m(\u001b[0mdelay taps\u001b[1m)\u001b[0m:\n",
              "\n"
            ]
          },
          "metadata": {},
          "output_type": "display_data"
        },
        {
          "data": {
            "text/html": [
              "<pre style=\"white-space:pre;overflow-x:auto;line-height:normal;font-family:Menlo,'DejaVu Sans Mono',consolas,'Courier New',monospace\">Byte  <span style=\"color: #008080; text-decoration-color: #008080; font-weight: bold\">0</span>   -  Left Margin:   <span style=\"color: #008080; text-decoration-color: #008080; font-weight: bold\">148</span>  <span style=\"font-weight: bold\">(</span> <span style=\"color: #008080; text-decoration-color: #008080; font-weight: bold\">76</span> <span style=\"font-weight: bold\">)</span>  Center Point:   <span style=\"color: #008080; text-decoration-color: #008080; font-weight: bold\">453</span>  <span style=\"font-weight: bold\">(</span> <span style=\"color: #008080; text-decoration-color: #008080; font-weight: bold\">232</span> <span style=\"font-weight: bold\">)</span>  Right Margin:   <span style=\"color: #008080; text-decoration-color: #008080; font-weight: bold\">142</span>  <span style=\"font-weight: bold\">(</span> <span style=\"color: #008080; text-decoration-color: #008080; font-weight: bold\">73</span> <span style=\"font-weight: bold\">)</span>\n",
              "</pre>\n"
            ],
            "text/plain": [
              "Byte  \u001b[1;36m0\u001b[0m   -  Left Margin:   \u001b[1;36m148\u001b[0m  \u001b[1m(\u001b[0m \u001b[1;36m76\u001b[0m \u001b[1m)\u001b[0m  Center Point:   \u001b[1;36m453\u001b[0m  \u001b[1m(\u001b[0m \u001b[1;36m232\u001b[0m \u001b[1m)\u001b[0m  Right Margin:   \u001b[1;36m142\u001b[0m  \u001b[1m(\u001b[0m \u001b[1;36m73\u001b[0m \u001b[1m)\u001b[0m\n"
            ]
          },
          "metadata": {},
          "output_type": "display_data"
        },
        {
          "data": {
            "text/html": [
              "<pre style=\"white-space:pre;overflow-x:auto;line-height:normal;font-family:Menlo,'DejaVu Sans Mono',consolas,'Courier New',monospace\">Byte  <span style=\"color: #008080; text-decoration-color: #008080; font-weight: bold\">1</span>   -  Left Margin:   <span style=\"color: #008080; text-decoration-color: #008080; font-weight: bold\">161</span>  <span style=\"font-weight: bold\">(</span> <span style=\"color: #008080; text-decoration-color: #008080; font-weight: bold\">82</span> <span style=\"font-weight: bold\">)</span>  Center Point:   <span style=\"color: #008080; text-decoration-color: #008080; font-weight: bold\">622</span>  <span style=\"font-weight: bold\">(</span> <span style=\"color: #008080; text-decoration-color: #008080; font-weight: bold\">316</span> <span style=\"font-weight: bold\">)</span>  Right Margin:   <span style=\"color: #008080; text-decoration-color: #008080; font-weight: bold\">123</span>  <span style=\"font-weight: bold\">(</span> <span style=\"color: #008080; text-decoration-color: #008080; font-weight: bold\">63</span> <span style=\"font-weight: bold\">)</span>\n",
              "</pre>\n"
            ],
            "text/plain": [
              "Byte  \u001b[1;36m1\u001b[0m   -  Left Margin:   \u001b[1;36m161\u001b[0m  \u001b[1m(\u001b[0m \u001b[1;36m82\u001b[0m \u001b[1m)\u001b[0m  Center Point:   \u001b[1;36m622\u001b[0m  \u001b[1m(\u001b[0m \u001b[1;36m316\u001b[0m \u001b[1m)\u001b[0m  Right Margin:   \u001b[1;36m123\u001b[0m  \u001b[1m(\u001b[0m \u001b[1;36m63\u001b[0m \u001b[1m)\u001b[0m\n"
            ]
          },
          "metadata": {},
          "output_type": "display_data"
        },
        {
          "data": {
            "text/html": [
              "<pre style=\"white-space:pre;overflow-x:auto;line-height:normal;font-family:Menlo,'DejaVu Sans Mono',consolas,'Courier New',monospace\">Byte  <span style=\"color: #008080; text-decoration-color: #008080; font-weight: bold\">2</span>   -  Left Margin:   <span style=\"color: #008080; text-decoration-color: #008080; font-weight: bold\">159</span>  <span style=\"font-weight: bold\">(</span> <span style=\"color: #008080; text-decoration-color: #008080; font-weight: bold\">81</span> <span style=\"font-weight: bold\">)</span>  Center Point:   <span style=\"color: #008080; text-decoration-color: #008080; font-weight: bold\">83</span>  <span style=\"font-weight: bold\">(</span> <span style=\"color: #008080; text-decoration-color: #008080; font-weight: bold\">42</span> <span style=\"font-weight: bold\">)</span>  Right Margin:   <span style=\"color: #008080; text-decoration-color: #008080; font-weight: bold\">131</span>  <span style=\"font-weight: bold\">(</span> <span style=\"color: #008080; text-decoration-color: #008080; font-weight: bold\">67</span> <span style=\"font-weight: bold\">)</span>\n",
              "</pre>\n"
            ],
            "text/plain": [
              "Byte  \u001b[1;36m2\u001b[0m   -  Left Margin:   \u001b[1;36m159\u001b[0m  \u001b[1m(\u001b[0m \u001b[1;36m81\u001b[0m \u001b[1m)\u001b[0m  Center Point:   \u001b[1;36m83\u001b[0m  \u001b[1m(\u001b[0m \u001b[1;36m42\u001b[0m \u001b[1m)\u001b[0m  Right Margin:   \u001b[1;36m131\u001b[0m  \u001b[1m(\u001b[0m \u001b[1;36m67\u001b[0m \u001b[1m)\u001b[0m\n"
            ]
          },
          "metadata": {},
          "output_type": "display_data"
        },
        {
          "data": {
            "text/html": [
              "<pre style=\"white-space:pre;overflow-x:auto;line-height:normal;font-family:Menlo,'DejaVu Sans Mono',consolas,'Courier New',monospace\">Byte  <span style=\"color: #008080; text-decoration-color: #008080; font-weight: bold\">3</span>   -  Left Margin:   <span style=\"color: #008080; text-decoration-color: #008080; font-weight: bold\">139</span>  <span style=\"font-weight: bold\">(</span> <span style=\"color: #008080; text-decoration-color: #008080; font-weight: bold\">71</span> <span style=\"font-weight: bold\">)</span>  Center Point:   <span style=\"color: #008080; text-decoration-color: #008080; font-weight: bold\">175</span>  <span style=\"font-weight: bold\">(</span> <span style=\"color: #008080; text-decoration-color: #008080; font-weight: bold\">89</span> <span style=\"font-weight: bold\">)</span>  Right Margin:   <span style=\"color: #008080; text-decoration-color: #008080; font-weight: bold\">145</span>  <span style=\"font-weight: bold\">(</span> <span style=\"color: #008080; text-decoration-color: #008080; font-weight: bold\">74</span> <span style=\"font-weight: bold\">)</span>\n",
              "</pre>\n"
            ],
            "text/plain": [
              "Byte  \u001b[1;36m3\u001b[0m   -  Left Margin:   \u001b[1;36m139\u001b[0m  \u001b[1m(\u001b[0m \u001b[1;36m71\u001b[0m \u001b[1m)\u001b[0m  Center Point:   \u001b[1;36m175\u001b[0m  \u001b[1m(\u001b[0m \u001b[1;36m89\u001b[0m \u001b[1m)\u001b[0m  Right Margin:   \u001b[1;36m145\u001b[0m  \u001b[1m(\u001b[0m \u001b[1;36m74\u001b[0m \u001b[1m)\u001b[0m\n"
            ]
          },
          "metadata": {},
          "output_type": "display_data"
        },
        {
          "data": {
            "text/html": [
              "<pre style=\"white-space:pre;overflow-x:auto;line-height:normal;font-family:Menlo,'DejaVu Sans Mono',consolas,'Courier New',monospace\">Byte  <span style=\"color: #008080; text-decoration-color: #008080; font-weight: bold\">4</span>   -  Left Margin:   <span style=\"color: #008080; text-decoration-color: #008080; font-weight: bold\">132</span>  <span style=\"font-weight: bold\">(</span> <span style=\"color: #008080; text-decoration-color: #008080; font-weight: bold\">67</span> <span style=\"font-weight: bold\">)</span>  Center Point:   <span style=\"color: #008080; text-decoration-color: #008080; font-weight: bold\">544</span>  <span style=\"font-weight: bold\">(</span> <span style=\"color: #008080; text-decoration-color: #008080; font-weight: bold\">275</span> <span style=\"font-weight: bold\">)</span>  Right Margin:   <span style=\"color: #008080; text-decoration-color: #008080; font-weight: bold\">152</span>  <span style=\"font-weight: bold\">(</span> <span style=\"color: #008080; text-decoration-color: #008080; font-weight: bold\">77</span> <span style=\"font-weight: bold\">)</span>\n",
              "</pre>\n"
            ],
            "text/plain": [
              "Byte  \u001b[1;36m4\u001b[0m   -  Left Margin:   \u001b[1;36m132\u001b[0m  \u001b[1m(\u001b[0m \u001b[1;36m67\u001b[0m \u001b[1m)\u001b[0m  Center Point:   \u001b[1;36m544\u001b[0m  \u001b[1m(\u001b[0m \u001b[1;36m275\u001b[0m \u001b[1m)\u001b[0m  Right Margin:   \u001b[1;36m152\u001b[0m  \u001b[1m(\u001b[0m \u001b[1;36m77\u001b[0m \u001b[1m)\u001b[0m\n"
            ]
          },
          "metadata": {},
          "output_type": "display_data"
        },
        {
          "data": {
            "text/html": [
              "<pre style=\"white-space:pre;overflow-x:auto;line-height:normal;font-family:Menlo,'DejaVu Sans Mono',consolas,'Courier New',monospace\">Byte  <span style=\"color: #008080; text-decoration-color: #008080; font-weight: bold\">5</span>   -  Left Margin:   <span style=\"color: #008080; text-decoration-color: #008080; font-weight: bold\">170</span>  <span style=\"font-weight: bold\">(</span> <span style=\"color: #008080; text-decoration-color: #008080; font-weight: bold\">85</span> <span style=\"font-weight: bold\">)</span>  Center Point:   <span style=\"color: #008080; text-decoration-color: #008080; font-weight: bold\">611</span>  <span style=\"font-weight: bold\">(</span> <span style=\"color: #008080; text-decoration-color: #008080; font-weight: bold\">305</span> <span style=\"font-weight: bold\">)</span>  Right Margin:   <span style=\"color: #008080; text-decoration-color: #008080; font-weight: bold\">126</span>  <span style=\"font-weight: bold\">(</span> <span style=\"color: #008080; text-decoration-color: #008080; font-weight: bold\">63</span> <span style=\"font-weight: bold\">)</span>\n",
              "</pre>\n"
            ],
            "text/plain": [
              "Byte  \u001b[1;36m5\u001b[0m   -  Left Margin:   \u001b[1;36m170\u001b[0m  \u001b[1m(\u001b[0m \u001b[1;36m85\u001b[0m \u001b[1m)\u001b[0m  Center Point:   \u001b[1;36m611\u001b[0m  \u001b[1m(\u001b[0m \u001b[1;36m305\u001b[0m \u001b[1m)\u001b[0m  Right Margin:   \u001b[1;36m126\u001b[0m  \u001b[1m(\u001b[0m \u001b[1;36m63\u001b[0m \u001b[1m)\u001b[0m\n"
            ]
          },
          "metadata": {},
          "output_type": "display_data"
        },
        {
          "data": {
            "text/html": [
              "<pre style=\"white-space:pre;overflow-x:auto;line-height:normal;font-family:Menlo,'DejaVu Sans Mono',consolas,'Courier New',monospace\">Byte  <span style=\"color: #008080; text-decoration-color: #008080; font-weight: bold\">6</span>   -  Left Margin:   <span style=\"color: #008080; text-decoration-color: #008080; font-weight: bold\">149</span>  <span style=\"font-weight: bold\">(</span> <span style=\"color: #008080; text-decoration-color: #008080; font-weight: bold\">76</span> <span style=\"font-weight: bold\">)</span>  Center Point:   <span style=\"color: #008080; text-decoration-color: #008080; font-weight: bold\">593</span>  <span style=\"font-weight: bold\">(</span> <span style=\"color: #008080; text-decoration-color: #008080; font-weight: bold\">302</span> <span style=\"font-weight: bold\">)</span>  Right Margin:   <span style=\"color: #008080; text-decoration-color: #008080; font-weight: bold\">139</span>  <span style=\"font-weight: bold\">(</span> <span style=\"color: #008080; text-decoration-color: #008080; font-weight: bold\">71</span> <span style=\"font-weight: bold\">)</span>\n",
              "</pre>\n"
            ],
            "text/plain": [
              "Byte  \u001b[1;36m6\u001b[0m   -  Left Margin:   \u001b[1;36m149\u001b[0m  \u001b[1m(\u001b[0m \u001b[1;36m76\u001b[0m \u001b[1m)\u001b[0m  Center Point:   \u001b[1;36m593\u001b[0m  \u001b[1m(\u001b[0m \u001b[1;36m302\u001b[0m \u001b[1m)\u001b[0m  Right Margin:   \u001b[1;36m139\u001b[0m  \u001b[1m(\u001b[0m \u001b[1;36m71\u001b[0m \u001b[1m)\u001b[0m\n"
            ]
          },
          "metadata": {},
          "output_type": "display_data"
        },
        {
          "data": {
            "text/html": [
              "<pre style=\"white-space:pre;overflow-x:auto;line-height:normal;font-family:Menlo,'DejaVu Sans Mono',consolas,'Courier New',monospace\">Byte  <span style=\"color: #008080; text-decoration-color: #008080; font-weight: bold\">7</span>   -  Left Margin:   <span style=\"color: #008080; text-decoration-color: #008080; font-weight: bold\">167</span>  <span style=\"font-weight: bold\">(</span> <span style=\"color: #008080; text-decoration-color: #008080; font-weight: bold\">84</span> <span style=\"font-weight: bold\">)</span>  Center Point:   <span style=\"color: #008080; text-decoration-color: #008080; font-weight: bold\">648</span>  <span style=\"font-weight: bold\">(</span> <span style=\"color: #008080; text-decoration-color: #008080; font-weight: bold\">326</span> <span style=\"font-weight: bold\">)</span>  Right Margin:   <span style=\"color: #008080; text-decoration-color: #008080; font-weight: bold\">127</span>  <span style=\"font-weight: bold\">(</span> <span style=\"color: #008080; text-decoration-color: #008080; font-weight: bold\">64</span> <span style=\"font-weight: bold\">)</span>\n",
              "</pre>\n"
            ],
            "text/plain": [
              "Byte  \u001b[1;36m7\u001b[0m   -  Left Margin:   \u001b[1;36m167\u001b[0m  \u001b[1m(\u001b[0m \u001b[1;36m84\u001b[0m \u001b[1m)\u001b[0m  Center Point:   \u001b[1;36m648\u001b[0m  \u001b[1m(\u001b[0m \u001b[1;36m326\u001b[0m \u001b[1m)\u001b[0m  Right Margin:   \u001b[1;36m127\u001b[0m  \u001b[1m(\u001b[0m \u001b[1;36m64\u001b[0m \u001b[1m)\u001b[0m\n"
            ]
          },
          "metadata": {},
          "output_type": "display_data"
        },
        {
          "data": {
            "text/html": [
              "<pre style=\"white-space:pre;overflow-x:auto;line-height:normal;font-family:Menlo,'DejaVu Sans Mono',consolas,'Courier New',monospace\">\n",
              " Frequency <span style=\"color: #008080; text-decoration-color: #008080; font-weight: bold\">0</span>  - Write Margin - Complex Pattern - Calibration Window in pS and <span style=\"font-weight: bold\">(</span>delay taps<span style=\"font-weight: bold\">)</span>:\n",
              "\n",
              "</pre>\n"
            ],
            "text/plain": [
              "\n",
              " Frequency \u001b[1;36m0\u001b[0m  - Write Margin - Complex Pattern - Calibration Window in pS and \u001b[1m(\u001b[0mdelay taps\u001b[1m)\u001b[0m:\n",
              "\n"
            ]
          },
          "metadata": {},
          "output_type": "display_data"
        },
        {
          "data": {
            "text/html": [
              "<pre style=\"white-space:pre;overflow-x:auto;line-height:normal;font-family:Menlo,'DejaVu Sans Mono',consolas,'Courier New',monospace\">Byte  <span style=\"color: #008080; text-decoration-color: #008080; font-weight: bold\">0</span>   -  Left Margin:   <span style=\"color: #008080; text-decoration-color: #008080; font-weight: bold\">146</span>  <span style=\"font-weight: bold\">(</span> <span style=\"color: #008080; text-decoration-color: #008080; font-weight: bold\">75</span> <span style=\"font-weight: bold\">)</span>  Center Point:   <span style=\"color: #008080; text-decoration-color: #008080; font-weight: bold\">453</span>  <span style=\"font-weight: bold\">(</span> <span style=\"color: #008080; text-decoration-color: #008080; font-weight: bold\">232</span> <span style=\"font-weight: bold\">)</span>  Right Margin:   <span style=\"color: #008080; text-decoration-color: #008080; font-weight: bold\">119</span>  <span style=\"font-weight: bold\">(</span> <span style=\"color: #008080; text-decoration-color: #008080; font-weight: bold\">61</span> <span style=\"font-weight: bold\">)</span>\n",
              "</pre>\n"
            ],
            "text/plain": [
              "Byte  \u001b[1;36m0\u001b[0m   -  Left Margin:   \u001b[1;36m146\u001b[0m  \u001b[1m(\u001b[0m \u001b[1;36m75\u001b[0m \u001b[1m)\u001b[0m  Center Point:   \u001b[1;36m453\u001b[0m  \u001b[1m(\u001b[0m \u001b[1;36m232\u001b[0m \u001b[1m)\u001b[0m  Right Margin:   \u001b[1;36m119\u001b[0m  \u001b[1m(\u001b[0m \u001b[1;36m61\u001b[0m \u001b[1m)\u001b[0m\n"
            ]
          },
          "metadata": {},
          "output_type": "display_data"
        },
        {
          "data": {
            "text/html": [
              "<pre style=\"white-space:pre;overflow-x:auto;line-height:normal;font-family:Menlo,'DejaVu Sans Mono',consolas,'Courier New',monospace\">Byte  <span style=\"color: #008080; text-decoration-color: #008080; font-weight: bold\">1</span>   -  Left Margin:   <span style=\"color: #008080; text-decoration-color: #008080; font-weight: bold\">143</span>  <span style=\"font-weight: bold\">(</span> <span style=\"color: #008080; text-decoration-color: #008080; font-weight: bold\">73</span> <span style=\"font-weight: bold\">)</span>  Center Point:   <span style=\"color: #008080; text-decoration-color: #008080; font-weight: bold\">622</span>  <span style=\"font-weight: bold\">(</span> <span style=\"color: #008080; text-decoration-color: #008080; font-weight: bold\">316</span> <span style=\"font-weight: bold\">)</span>  Right Margin:   <span style=\"color: #008080; text-decoration-color: #008080; font-weight: bold\">117</span>  <span style=\"font-weight: bold\">(</span> <span style=\"color: #008080; text-decoration-color: #008080; font-weight: bold\">60</span> <span style=\"font-weight: bold\">)</span>\n",
              "</pre>\n"
            ],
            "text/plain": [
              "Byte  \u001b[1;36m1\u001b[0m   -  Left Margin:   \u001b[1;36m143\u001b[0m  \u001b[1m(\u001b[0m \u001b[1;36m73\u001b[0m \u001b[1m)\u001b[0m  Center Point:   \u001b[1;36m622\u001b[0m  \u001b[1m(\u001b[0m \u001b[1;36m316\u001b[0m \u001b[1m)\u001b[0m  Right Margin:   \u001b[1;36m117\u001b[0m  \u001b[1m(\u001b[0m \u001b[1;36m60\u001b[0m \u001b[1m)\u001b[0m\n"
            ]
          },
          "metadata": {},
          "output_type": "display_data"
        },
        {
          "data": {
            "text/html": [
              "<pre style=\"white-space:pre;overflow-x:auto;line-height:normal;font-family:Menlo,'DejaVu Sans Mono',consolas,'Courier New',monospace\">Byte  <span style=\"color: #008080; text-decoration-color: #008080; font-weight: bold\">2</span>   -  Left Margin:   <span style=\"color: #008080; text-decoration-color: #008080; font-weight: bold\">145</span>  <span style=\"font-weight: bold\">(</span> <span style=\"color: #008080; text-decoration-color: #008080; font-weight: bold\">74</span> <span style=\"font-weight: bold\">)</span>  Center Point:   <span style=\"color: #008080; text-decoration-color: #008080; font-weight: bold\">83</span>  <span style=\"font-weight: bold\">(</span> <span style=\"color: #008080; text-decoration-color: #008080; font-weight: bold\">42</span> <span style=\"font-weight: bold\">)</span>  Right Margin:   <span style=\"color: #008080; text-decoration-color: #008080; font-weight: bold\">117</span>  <span style=\"font-weight: bold\">(</span> <span style=\"color: #008080; text-decoration-color: #008080; font-weight: bold\">60</span> <span style=\"font-weight: bold\">)</span>\n",
              "</pre>\n"
            ],
            "text/plain": [
              "Byte  \u001b[1;36m2\u001b[0m   -  Left Margin:   \u001b[1;36m145\u001b[0m  \u001b[1m(\u001b[0m \u001b[1;36m74\u001b[0m \u001b[1m)\u001b[0m  Center Point:   \u001b[1;36m83\u001b[0m  \u001b[1m(\u001b[0m \u001b[1;36m42\u001b[0m \u001b[1m)\u001b[0m  Right Margin:   \u001b[1;36m117\u001b[0m  \u001b[1m(\u001b[0m \u001b[1;36m60\u001b[0m \u001b[1m)\u001b[0m\n"
            ]
          },
          "metadata": {},
          "output_type": "display_data"
        },
        {
          "data": {
            "text/html": [
              "<pre style=\"white-space:pre;overflow-x:auto;line-height:normal;font-family:Menlo,'DejaVu Sans Mono',consolas,'Courier New',monospace\">Byte  <span style=\"color: #008080; text-decoration-color: #008080; font-weight: bold\">3</span>   -  Left Margin:   <span style=\"color: #008080; text-decoration-color: #008080; font-weight: bold\">139</span>  <span style=\"font-weight: bold\">(</span> <span style=\"color: #008080; text-decoration-color: #008080; font-weight: bold\">71</span> <span style=\"font-weight: bold\">)</span>  Center Point:   <span style=\"color: #008080; text-decoration-color: #008080; font-weight: bold\">175</span>  <span style=\"font-weight: bold\">(</span> <span style=\"color: #008080; text-decoration-color: #008080; font-weight: bold\">89</span> <span style=\"font-weight: bold\">)</span>  Right Margin:   <span style=\"color: #008080; text-decoration-color: #008080; font-weight: bold\">129</span>  <span style=\"font-weight: bold\">(</span> <span style=\"color: #008080; text-decoration-color: #008080; font-weight: bold\">66</span> <span style=\"font-weight: bold\">)</span>\n",
              "</pre>\n"
            ],
            "text/plain": [
              "Byte  \u001b[1;36m3\u001b[0m   -  Left Margin:   \u001b[1;36m139\u001b[0m  \u001b[1m(\u001b[0m \u001b[1;36m71\u001b[0m \u001b[1m)\u001b[0m  Center Point:   \u001b[1;36m175\u001b[0m  \u001b[1m(\u001b[0m \u001b[1;36m89\u001b[0m \u001b[1m)\u001b[0m  Right Margin:   \u001b[1;36m129\u001b[0m  \u001b[1m(\u001b[0m \u001b[1;36m66\u001b[0m \u001b[1m)\u001b[0m\n"
            ]
          },
          "metadata": {},
          "output_type": "display_data"
        },
        {
          "data": {
            "text/html": [
              "<pre style=\"white-space:pre;overflow-x:auto;line-height:normal;font-family:Menlo,'DejaVu Sans Mono',consolas,'Courier New',monospace\">Byte  <span style=\"color: #008080; text-decoration-color: #008080; font-weight: bold\">4</span>   -  Left Margin:   <span style=\"color: #008080; text-decoration-color: #008080; font-weight: bold\">138</span>  <span style=\"font-weight: bold\">(</span> <span style=\"color: #008080; text-decoration-color: #008080; font-weight: bold\">70</span> <span style=\"font-weight: bold\">)</span>  Center Point:   <span style=\"color: #008080; text-decoration-color: #008080; font-weight: bold\">544</span>  <span style=\"font-weight: bold\">(</span> <span style=\"color: #008080; text-decoration-color: #008080; font-weight: bold\">275</span> <span style=\"font-weight: bold\">)</span>  Right Margin:   <span style=\"color: #008080; text-decoration-color: #008080; font-weight: bold\">128</span>  <span style=\"font-weight: bold\">(</span> <span style=\"color: #008080; text-decoration-color: #008080; font-weight: bold\">65</span> <span style=\"font-weight: bold\">)</span>\n",
              "</pre>\n"
            ],
            "text/plain": [
              "Byte  \u001b[1;36m4\u001b[0m   -  Left Margin:   \u001b[1;36m138\u001b[0m  \u001b[1m(\u001b[0m \u001b[1;36m70\u001b[0m \u001b[1m)\u001b[0m  Center Point:   \u001b[1;36m544\u001b[0m  \u001b[1m(\u001b[0m \u001b[1;36m275\u001b[0m \u001b[1m)\u001b[0m  Right Margin:   \u001b[1;36m128\u001b[0m  \u001b[1m(\u001b[0m \u001b[1;36m65\u001b[0m \u001b[1m)\u001b[0m\n"
            ]
          },
          "metadata": {},
          "output_type": "display_data"
        },
        {
          "data": {
            "text/html": [
              "<pre style=\"white-space:pre;overflow-x:auto;line-height:normal;font-family:Menlo,'DejaVu Sans Mono',consolas,'Courier New',monospace\">Byte  <span style=\"color: #008080; text-decoration-color: #008080; font-weight: bold\">5</span>   -  Left Margin:   <span style=\"color: #008080; text-decoration-color: #008080; font-weight: bold\">144</span>  <span style=\"font-weight: bold\">(</span> <span style=\"color: #008080; text-decoration-color: #008080; font-weight: bold\">72</span> <span style=\"font-weight: bold\">)</span>  Center Point:   <span style=\"color: #008080; text-decoration-color: #008080; font-weight: bold\">611</span>  <span style=\"font-weight: bold\">(</span> <span style=\"color: #008080; text-decoration-color: #008080; font-weight: bold\">305</span> <span style=\"font-weight: bold\">)</span>  Right Margin:   <span style=\"color: #008080; text-decoration-color: #008080; font-weight: bold\">136</span>  <span style=\"font-weight: bold\">(</span> <span style=\"color: #008080; text-decoration-color: #008080; font-weight: bold\">68</span> <span style=\"font-weight: bold\">)</span>\n",
              "</pre>\n"
            ],
            "text/plain": [
              "Byte  \u001b[1;36m5\u001b[0m   -  Left Margin:   \u001b[1;36m144\u001b[0m  \u001b[1m(\u001b[0m \u001b[1;36m72\u001b[0m \u001b[1m)\u001b[0m  Center Point:   \u001b[1;36m611\u001b[0m  \u001b[1m(\u001b[0m \u001b[1;36m305\u001b[0m \u001b[1m)\u001b[0m  Right Margin:   \u001b[1;36m136\u001b[0m  \u001b[1m(\u001b[0m \u001b[1;36m68\u001b[0m \u001b[1m)\u001b[0m\n"
            ]
          },
          "metadata": {},
          "output_type": "display_data"
        },
        {
          "data": {
            "text/html": [
              "<pre style=\"white-space:pre;overflow-x:auto;line-height:normal;font-family:Menlo,'DejaVu Sans Mono',consolas,'Courier New',monospace\">Byte  <span style=\"color: #008080; text-decoration-color: #008080; font-weight: bold\">6</span>   -  Left Margin:   <span style=\"color: #008080; text-decoration-color: #008080; font-weight: bold\">143</span>  <span style=\"font-weight: bold\">(</span> <span style=\"color: #008080; text-decoration-color: #008080; font-weight: bold\">73</span> <span style=\"font-weight: bold\">)</span>  Center Point:   <span style=\"color: #008080; text-decoration-color: #008080; font-weight: bold\">593</span>  <span style=\"font-weight: bold\">(</span> <span style=\"color: #008080; text-decoration-color: #008080; font-weight: bold\">302</span> <span style=\"font-weight: bold\">)</span>  Right Margin:   <span style=\"color: #008080; text-decoration-color: #008080; font-weight: bold\">119</span>  <span style=\"font-weight: bold\">(</span> <span style=\"color: #008080; text-decoration-color: #008080; font-weight: bold\">61</span> <span style=\"font-weight: bold\">)</span>\n",
              "</pre>\n"
            ],
            "text/plain": [
              "Byte  \u001b[1;36m6\u001b[0m   -  Left Margin:   \u001b[1;36m143\u001b[0m  \u001b[1m(\u001b[0m \u001b[1;36m73\u001b[0m \u001b[1m)\u001b[0m  Center Point:   \u001b[1;36m593\u001b[0m  \u001b[1m(\u001b[0m \u001b[1;36m302\u001b[0m \u001b[1m)\u001b[0m  Right Margin:   \u001b[1;36m119\u001b[0m  \u001b[1m(\u001b[0m \u001b[1;36m61\u001b[0m \u001b[1m)\u001b[0m\n"
            ]
          },
          "metadata": {},
          "output_type": "display_data"
        },
        {
          "data": {
            "text/html": [
              "<pre style=\"white-space:pre;overflow-x:auto;line-height:normal;font-family:Menlo,'DejaVu Sans Mono',consolas,'Courier New',monospace\">Byte  <span style=\"color: #008080; text-decoration-color: #008080; font-weight: bold\">7</span>   -  Left Margin:   <span style=\"color: #008080; text-decoration-color: #008080; font-weight: bold\">145</span>  <span style=\"font-weight: bold\">(</span> <span style=\"color: #008080; text-decoration-color: #008080; font-weight: bold\">73</span> <span style=\"font-weight: bold\">)</span>  Center Point:   <span style=\"color: #008080; text-decoration-color: #008080; font-weight: bold\">648</span>  <span style=\"font-weight: bold\">(</span> <span style=\"color: #008080; text-decoration-color: #008080; font-weight: bold\">326</span> <span style=\"font-weight: bold\">)</span>  Right Margin:   <span style=\"color: #008080; text-decoration-color: #008080; font-weight: bold\">133</span>  <span style=\"font-weight: bold\">(</span> <span style=\"color: #008080; text-decoration-color: #008080; font-weight: bold\">67</span> <span style=\"font-weight: bold\">)</span>\n",
              "</pre>\n"
            ],
            "text/plain": [
              "Byte  \u001b[1;36m7\u001b[0m   -  Left Margin:   \u001b[1;36m145\u001b[0m  \u001b[1m(\u001b[0m \u001b[1;36m73\u001b[0m \u001b[1m)\u001b[0m  Center Point:   \u001b[1;36m648\u001b[0m  \u001b[1m(\u001b[0m \u001b[1;36m326\u001b[0m \u001b[1m)\u001b[0m  Right Margin:   \u001b[1;36m133\u001b[0m  \u001b[1m(\u001b[0m \u001b[1;36m67\u001b[0m \u001b[1m)\u001b[0m\n"
            ]
          },
          "metadata": {},
          "output_type": "display_data"
        },
        {
          "data": {
            "text/html": [
              "<pre style=\"white-space:pre;overflow-x:auto;line-height:normal;font-family:Menlo,'DejaVu Sans Mono',consolas,'Courier New',monospace\">\n",
              "NOTE: The report is being generated and saved as: test_out.txt\n",
              "</pre>\n"
            ],
            "text/plain": [
              "\n",
              "NOTE: The report is being generated and saved as: test_out.txt\n"
            ]
          },
          "metadata": {},
          "output_type": "display_data"
        },
        {
          "data": {
            "text/html": [
              "<pre style=\"white-space:pre;overflow-x:auto;line-height:normal;font-family:Menlo,'DejaVu Sans Mono',consolas,'Courier New',monospace\">-------------------\n",
              "\n",
              "</pre>\n"
            ],
            "text/plain": [
              "-------------------\n",
              "\n"
            ]
          },
          "metadata": {},
          "output_type": "display_data"
        },
        {
          "data": {
            "text/html": [
              "<pre style=\"white-space:pre;overflow-x:auto;line-height:normal;font-family:Menlo,'DejaVu Sans Mono',consolas,'Courier New',monospace\"> DDRMC Status \n",
              "\n",
              "</pre>\n"
            ],
            "text/plain": [
              " DDRMC Status \n",
              "\n"
            ]
          },
          "metadata": {},
          "output_type": "display_data"
        },
        {
          "data": {
            "text/html": [
              "<pre style=\"white-space:pre;overflow-x:auto;line-height:normal;font-family:Menlo,'DejaVu Sans Mono',consolas,'Courier New',monospace\">-------------------\n",
              "\n",
              "</pre>\n"
            ],
            "text/plain": [
              "-------------------\n",
              "\n"
            ]
          },
          "metadata": {},
          "output_type": "display_data"
        },
        {
          "data": {
            "text/html": [
              "<pre style=\"white-space:pre;overflow-x:auto;line-height:normal;font-family:Menlo,'DejaVu Sans Mono',consolas,'Courier New',monospace\">Calibration Status:   PASS \n",
              "\n",
              "</pre>\n"
            ],
            "text/plain": [
              "Calibration Status:   PASS \n",
              "\n"
            ]
          },
          "metadata": {},
          "output_type": "display_data"
        },
        {
          "data": {
            "text/html": [
              "<pre style=\"white-space:pre;overflow-x:auto;line-height:normal;font-family:Menlo,'DejaVu Sans Mono',consolas,'Courier New',monospace\">Overall Health:   GOOD \n",
              "\n",
              "</pre>\n"
            ],
            "text/plain": [
              "Overall Health:   GOOD \n",
              "\n"
            ]
          },
          "metadata": {},
          "output_type": "display_data"
        },
        {
          "data": {
            "text/html": [
              "<pre style=\"white-space:pre;overflow-x:auto;line-height:normal;font-family:Menlo,'DejaVu Sans Mono',consolas,'Courier New',monospace\">Message:   No errors detected during calibration. \n",
              "\n",
              "</pre>\n"
            ],
            "text/plain": [
              "Message:   No errors detected during calibration. \n",
              "\n"
            ]
          },
          "metadata": {},
          "output_type": "display_data"
        },
        {
          "data": {
            "text/html": [
              "<pre style=\"white-space:pre;overflow-x:auto;line-height:normal;font-family:Menlo,'DejaVu Sans Mono',consolas,'Courier New',monospace\">\n",
              "-------------------\n",
              "\n",
              "</pre>\n"
            ],
            "text/plain": [
              "\n",
              "-------------------\n",
              "\n"
            ]
          },
          "metadata": {},
          "output_type": "display_data"
        },
        {
          "data": {
            "text/html": [
              "<pre style=\"white-space:pre;overflow-x:auto;line-height:normal;font-family:Menlo,'DejaVu Sans Mono',consolas,'Courier New',monospace\"> Status Registers\n",
              "\n",
              "</pre>\n"
            ],
            "text/plain": [
              " Status Registers\n",
              "\n"
            ]
          },
          "metadata": {},
          "output_type": "display_data"
        },
        {
          "data": {
            "text/html": [
              "<pre style=\"white-space:pre;overflow-x:auto;line-height:normal;font-family:Menlo,'DejaVu Sans Mono',consolas,'Courier New',monospace\">-------------------\n",
              "\n",
              "</pre>\n"
            ],
            "text/plain": [
              "-------------------\n",
              "\n"
            ]
          },
          "metadata": {},
          "output_type": "display_data"
        },
        {
          "data": {
            "text/html": [
              "<pre style=\"white-space:pre;overflow-x:auto;line-height:normal;font-family:Menlo,'DejaVu Sans Mono',consolas,'Courier New',monospace\">DDRMC ISR Table\n",
              "\n",
              "</pre>\n"
            ],
            "text/plain": [
              "DDRMC ISR Table\n",
              "\n"
            ]
          },
          "metadata": {},
          "output_type": "display_data"
        },
        {
          "data": {
            "text/html": [
              "<pre style=\"white-space:pre;overflow-x:auto;line-height:normal;font-family:Menlo,'DejaVu Sans Mono',consolas,'Courier New',monospace\">   ddrmc_isr_ce0_ecc0 :   <span style=\"color: #008080; text-decoration-color: #008080; font-weight: bold\">0</span>\n",
              "</pre>\n"
            ],
            "text/plain": [
              "   ddrmc_isr_ce0_ecc0 :   \u001b[1;36m0\u001b[0m\n"
            ]
          },
          "metadata": {},
          "output_type": "display_data"
        },
        {
          "data": {
            "text/html": [
              "<pre style=\"white-space:pre;overflow-x:auto;line-height:normal;font-family:Menlo,'DejaVu Sans Mono',consolas,'Courier New',monospace\">   ddrmc_isr_ce0_ecc1 :   <span style=\"color: #008080; text-decoration-color: #008080; font-weight: bold\">0</span>\n",
              "</pre>\n"
            ],
            "text/plain": [
              "   ddrmc_isr_ce0_ecc1 :   \u001b[1;36m0\u001b[0m\n"
            ]
          },
          "metadata": {},
          "output_type": "display_data"
        },
        {
          "data": {
            "text/html": [
              "<pre style=\"white-space:pre;overflow-x:auto;line-height:normal;font-family:Menlo,'DejaVu Sans Mono',consolas,'Courier New',monospace\">   ddrmc_isr_ce1_ecc0 :   <span style=\"color: #008080; text-decoration-color: #008080; font-weight: bold\">0</span>\n",
              "</pre>\n"
            ],
            "text/plain": [
              "   ddrmc_isr_ce1_ecc0 :   \u001b[1;36m0\u001b[0m\n"
            ]
          },
          "metadata": {},
          "output_type": "display_data"
        },
        {
          "data": {
            "text/html": [
              "<pre style=\"white-space:pre;overflow-x:auto;line-height:normal;font-family:Menlo,'DejaVu Sans Mono',consolas,'Courier New',monospace\">   ddrmc_isr_ce1_ecc1 :   <span style=\"color: #008080; text-decoration-color: #008080; font-weight: bold\">0</span>\n",
              "</pre>\n"
            ],
            "text/plain": [
              "   ddrmc_isr_ce1_ecc1 :   \u001b[1;36m0\u001b[0m\n"
            ]
          },
          "metadata": {},
          "output_type": "display_data"
        },
        {
          "data": {
            "text/html": [
              "<pre style=\"white-space:pre;overflow-x:auto;line-height:normal;font-family:Menlo,'DejaVu Sans Mono',consolas,'Courier New',monospace\">   ddrmc_isr_ch0_data_par :   <span style=\"color: #008080; text-decoration-color: #008080; font-weight: bold\">0</span>\n",
              "</pre>\n"
            ],
            "text/plain": [
              "   ddrmc_isr_ch0_data_par :   \u001b[1;36m0\u001b[0m\n"
            ]
          },
          "metadata": {},
          "output_type": "display_data"
        },
        {
          "data": {
            "text/html": [
              "<pre style=\"white-space:pre;overflow-x:auto;line-height:normal;font-family:Menlo,'DejaVu Sans Mono',consolas,'Courier New',monospace\">   ddrmc_isr_ch1_data_par :   <span style=\"color: #008080; text-decoration-color: #008080; font-weight: bold\">0</span>\n",
              "</pre>\n"
            ],
            "text/plain": [
              "   ddrmc_isr_ch1_data_par :   \u001b[1;36m0\u001b[0m\n"
            ]
          },
          "metadata": {},
          "output_type": "display_data"
        },
        {
          "data": {
            "text/html": [
              "<pre style=\"white-space:pre;overflow-x:auto;line-height:normal;font-family:Menlo,'DejaVu Sans Mono',consolas,'Courier New',monospace\">   ddrmc_isr_dc_cmd0_fatal :   <span style=\"color: #008080; text-decoration-color: #008080; font-weight: bold\">0</span>\n",
              "</pre>\n"
            ],
            "text/plain": [
              "   ddrmc_isr_dc_cmd0_fatal :   \u001b[1;36m0\u001b[0m\n"
            ]
          },
          "metadata": {},
          "output_type": "display_data"
        },
        {
          "data": {
            "text/html": [
              "<pre style=\"white-space:pre;overflow-x:auto;line-height:normal;font-family:Menlo,'DejaVu Sans Mono',consolas,'Courier New',monospace\">   ddrmc_isr_dc_cmd1_fatal :   <span style=\"color: #008080; text-decoration-color: #008080; font-weight: bold\">0</span>\n",
              "</pre>\n"
            ],
            "text/plain": [
              "   ddrmc_isr_dc_cmd1_fatal :   \u001b[1;36m0\u001b[0m\n"
            ]
          },
          "metadata": {},
          "output_type": "display_data"
        },
        {
          "data": {
            "text/html": [
              "<pre style=\"white-space:pre;overflow-x:auto;line-height:normal;font-family:Menlo,'DejaVu Sans Mono',consolas,'Courier New',monospace\">   ddrmc_isr_dram_parity0 :   <span style=\"color: #008080; text-decoration-color: #008080; font-weight: bold\">0</span>\n",
              "</pre>\n"
            ],
            "text/plain": [
              "   ddrmc_isr_dram_parity0 :   \u001b[1;36m0\u001b[0m\n"
            ]
          },
          "metadata": {},
          "output_type": "display_data"
        },
        {
          "data": {
            "text/html": [
              "<pre style=\"white-space:pre;overflow-x:auto;line-height:normal;font-family:Menlo,'DejaVu Sans Mono',consolas,'Courier New',monospace\">   ddrmc_isr_dram_parity1 :   <span style=\"color: #008080; text-decoration-color: #008080; font-weight: bold\">0</span>\n",
              "</pre>\n"
            ],
            "text/plain": [
              "   ddrmc_isr_dram_parity1 :   \u001b[1;36m0\u001b[0m\n"
            ]
          },
          "metadata": {},
          "output_type": "display_data"
        },
        {
          "data": {
            "text/html": [
              "<pre style=\"white-space:pre;overflow-x:auto;line-height:normal;font-family:Menlo,'DejaVu Sans Mono',consolas,'Courier New',monospace\">   ddrmc_isr_dram_parity_fatal_0 :   <span style=\"color: #008080; text-decoration-color: #008080; font-weight: bold\">0</span>\n",
              "</pre>\n"
            ],
            "text/plain": [
              "   ddrmc_isr_dram_parity_fatal_0 :   \u001b[1;36m0\u001b[0m\n"
            ]
          },
          "metadata": {},
          "output_type": "display_data"
        },
        {
          "data": {
            "text/html": [
              "<pre style=\"white-space:pre;overflow-x:auto;line-height:normal;font-family:Menlo,'DejaVu Sans Mono',consolas,'Courier New',monospace\">   ddrmc_isr_dram_parity_fatal_1 :   <span style=\"color: #008080; text-decoration-color: #008080; font-weight: bold\">0</span>\n",
              "</pre>\n"
            ],
            "text/plain": [
              "   ddrmc_isr_dram_parity_fatal_1 :   \u001b[1;36m0\u001b[0m\n"
            ]
          },
          "metadata": {},
          "output_type": "display_data"
        },
        {
          "data": {
            "text/html": [
              "<pre style=\"white-space:pre;overflow-x:auto;line-height:normal;font-family:Menlo,'DejaVu Sans Mono',consolas,'Courier New',monospace\">   ddrmc_isr_na_cmd :   <span style=\"color: #008080; text-decoration-color: #008080; font-weight: bold\">0</span>\n",
              "</pre>\n"
            ],
            "text/plain": [
              "   ddrmc_isr_na_cmd :   \u001b[1;36m0\u001b[0m\n"
            ]
          },
          "metadata": {},
          "output_type": "display_data"
        },
        {
          "data": {
            "text/html": [
              "<pre style=\"white-space:pre;overflow-x:auto;line-height:normal;font-family:Menlo,'DejaVu Sans Mono',consolas,'Courier New',monospace\">   ddrmc_isr_na_cmd0 :   <span style=\"color: #008080; text-decoration-color: #008080; font-weight: bold\">0</span>\n",
              "</pre>\n"
            ],
            "text/plain": [
              "   ddrmc_isr_na_cmd0 :   \u001b[1;36m0\u001b[0m\n"
            ]
          },
          "metadata": {},
          "output_type": "display_data"
        },
        {
          "data": {
            "text/html": [
              "<pre style=\"white-space:pre;overflow-x:auto;line-height:normal;font-family:Menlo,'DejaVu Sans Mono',consolas,'Courier New',monospace\">   ddrmc_isr_na_cmd1 :   <span style=\"color: #008080; text-decoration-color: #008080; font-weight: bold\">0</span>\n",
              "</pre>\n"
            ],
            "text/plain": [
              "   ddrmc_isr_na_cmd1 :   \u001b[1;36m0\u001b[0m\n"
            ]
          },
          "metadata": {},
          "output_type": "display_data"
        },
        {
          "data": {
            "text/html": [
              "<pre style=\"white-space:pre;overflow-x:auto;line-height:normal;font-family:Menlo,'DejaVu Sans Mono',consolas,'Courier New',monospace\">   ddrmc_isr_na_cmd_fatal :   <span style=\"color: #008080; text-decoration-color: #008080; font-weight: bold\">0</span>\n",
              "</pre>\n"
            ],
            "text/plain": [
              "   ddrmc_isr_na_cmd_fatal :   \u001b[1;36m0\u001b[0m\n"
            ]
          },
          "metadata": {},
          "output_type": "display_data"
        },
        {
          "data": {
            "text/html": [
              "<pre style=\"white-space:pre;overflow-x:auto;line-height:normal;font-family:Menlo,'DejaVu Sans Mono',consolas,'Courier New',monospace\">   ddrmc_isr_nsu_0 :   <span style=\"color: #008080; text-decoration-color: #008080; font-weight: bold\">0</span>\n",
              "</pre>\n"
            ],
            "text/plain": [
              "   ddrmc_isr_nsu_0 :   \u001b[1;36m0\u001b[0m\n"
            ]
          },
          "metadata": {},
          "output_type": "display_data"
        },
        {
          "data": {
            "text/html": [
              "<pre style=\"white-space:pre;overflow-x:auto;line-height:normal;font-family:Menlo,'DejaVu Sans Mono',consolas,'Courier New',monospace\">   ddrmc_isr_nsu_1 :   <span style=\"color: #008080; text-decoration-color: #008080; font-weight: bold\">0</span>\n",
              "</pre>\n"
            ],
            "text/plain": [
              "   ddrmc_isr_nsu_1 :   \u001b[1;36m0\u001b[0m\n"
            ]
          },
          "metadata": {},
          "output_type": "display_data"
        },
        {
          "data": {
            "text/html": [
              "<pre style=\"white-space:pre;overflow-x:auto;line-height:normal;font-family:Menlo,'DejaVu Sans Mono',consolas,'Courier New',monospace\">   ddrmc_isr_nsu_2 :   <span style=\"color: #008080; text-decoration-color: #008080; font-weight: bold\">0</span>\n",
              "</pre>\n"
            ],
            "text/plain": [
              "   ddrmc_isr_nsu_2 :   \u001b[1;36m0\u001b[0m\n"
            ]
          },
          "metadata": {},
          "output_type": "display_data"
        },
        {
          "data": {
            "text/html": [
              "<pre style=\"white-space:pre;overflow-x:auto;line-height:normal;font-family:Menlo,'DejaVu Sans Mono',consolas,'Courier New',monospace\">   ddrmc_isr_nsu_3 :   <span style=\"color: #008080; text-decoration-color: #008080; font-weight: bold\">0</span>\n",
              "</pre>\n"
            ],
            "text/plain": [
              "   ddrmc_isr_nsu_3 :   \u001b[1;36m0\u001b[0m\n"
            ]
          },
          "metadata": {},
          "output_type": "display_data"
        },
        {
          "data": {
            "text/html": [
              "<pre style=\"white-space:pre;overflow-x:auto;line-height:normal;font-family:Menlo,'DejaVu Sans Mono',consolas,'Courier New',monospace\">   ddrmc_isr_nsu_fatal0 :   <span style=\"color: #008080; text-decoration-color: #008080; font-weight: bold\">0</span>\n",
              "</pre>\n"
            ],
            "text/plain": [
              "   ddrmc_isr_nsu_fatal0 :   \u001b[1;36m0\u001b[0m\n"
            ]
          },
          "metadata": {},
          "output_type": "display_data"
        },
        {
          "data": {
            "text/html": [
              "<pre style=\"white-space:pre;overflow-x:auto;line-height:normal;font-family:Menlo,'DejaVu Sans Mono',consolas,'Courier New',monospace\">   ddrmc_isr_nsu_fatal1 :   <span style=\"color: #008080; text-decoration-color: #008080; font-weight: bold\">0</span>\n",
              "</pre>\n"
            ],
            "text/plain": [
              "   ddrmc_isr_nsu_fatal1 :   \u001b[1;36m0\u001b[0m\n"
            ]
          },
          "metadata": {},
          "output_type": "display_data"
        },
        {
          "data": {
            "text/html": [
              "<pre style=\"white-space:pre;overflow-x:auto;line-height:normal;font-family:Menlo,'DejaVu Sans Mono',consolas,'Courier New',monospace\">   ddrmc_isr_nsu_fatal2 :   <span style=\"color: #008080; text-decoration-color: #008080; font-weight: bold\">0</span>\n",
              "</pre>\n"
            ],
            "text/plain": [
              "   ddrmc_isr_nsu_fatal2 :   \u001b[1;36m0\u001b[0m\n"
            ]
          },
          "metadata": {},
          "output_type": "display_data"
        },
        {
          "data": {
            "text/html": [
              "<pre style=\"white-space:pre;overflow-x:auto;line-height:normal;font-family:Menlo,'DejaVu Sans Mono',consolas,'Courier New',monospace\">   ddrmc_isr_nsu_fatal3 :   <span style=\"color: #008080; text-decoration-color: #008080; font-weight: bold\">0</span>\n",
              "</pre>\n"
            ],
            "text/plain": [
              "   ddrmc_isr_nsu_fatal3 :   \u001b[1;36m0\u001b[0m\n"
            ]
          },
          "metadata": {},
          "output_type": "display_data"
        },
        {
          "data": {
            "text/html": [
              "<pre style=\"white-space:pre;overflow-x:auto;line-height:normal;font-family:Menlo,'DejaVu Sans Mono',consolas,'Courier New',monospace\">   ddrmc_isr_uc0_ecc0 :   <span style=\"color: #008080; text-decoration-color: #008080; font-weight: bold\">0</span>\n",
              "</pre>\n"
            ],
            "text/plain": [
              "   ddrmc_isr_uc0_ecc0 :   \u001b[1;36m0\u001b[0m\n"
            ]
          },
          "metadata": {},
          "output_type": "display_data"
        },
        {
          "data": {
            "text/html": [
              "<pre style=\"white-space:pre;overflow-x:auto;line-height:normal;font-family:Menlo,'DejaVu Sans Mono',consolas,'Courier New',monospace\">   ddrmc_isr_uc0_ecc1 :   <span style=\"color: #008080; text-decoration-color: #008080; font-weight: bold\">0</span>\n",
              "</pre>\n"
            ],
            "text/plain": [
              "   ddrmc_isr_uc0_ecc1 :   \u001b[1;36m0\u001b[0m\n"
            ]
          },
          "metadata": {},
          "output_type": "display_data"
        },
        {
          "data": {
            "text/html": [
              "<pre style=\"white-space:pre;overflow-x:auto;line-height:normal;font-family:Menlo,'DejaVu Sans Mono',consolas,'Courier New',monospace\">   ddrmc_isr_uc1_ecc0 :   <span style=\"color: #008080; text-decoration-color: #008080; font-weight: bold\">0</span>\n",
              "</pre>\n"
            ],
            "text/plain": [
              "   ddrmc_isr_uc1_ecc0 :   \u001b[1;36m0\u001b[0m\n"
            ]
          },
          "metadata": {},
          "output_type": "display_data"
        },
        {
          "data": {
            "text/html": [
              "<pre style=\"white-space:pre;overflow-x:auto;line-height:normal;font-family:Menlo,'DejaVu Sans Mono',consolas,'Courier New',monospace\">   ddrmc_isr_uc1_ecc1 :   <span style=\"color: #008080; text-decoration-color: #008080; font-weight: bold\">0</span>\n",
              "</pre>\n"
            ],
            "text/plain": [
              "   ddrmc_isr_uc1_ecc1 :   \u001b[1;36m0\u001b[0m\n"
            ]
          },
          "metadata": {},
          "output_type": "display_data"
        },
        {
          "data": {
            "text/html": [
              "<pre style=\"white-space:pre;overflow-x:auto;line-height:normal;font-family:Menlo,'DejaVu Sans Mono',consolas,'Courier New',monospace\">\n",
              "UB ISR Table\n",
              "\n",
              "</pre>\n"
            ],
            "text/plain": [
              "\n",
              "UB ISR Table\n",
              "\n"
            ]
          },
          "metadata": {},
          "output_type": "display_data"
        },
        {
          "data": {
            "text/html": [
              "<pre style=\"white-space:pre;overflow-x:auto;line-height:normal;font-family:Menlo,'DejaVu Sans Mono',consolas,'Courier New',monospace\">   ub_data_ce :   <span style=\"color: #008080; text-decoration-color: #008080; font-weight: bold\">0</span>\n",
              "</pre>\n"
            ],
            "text/plain": [
              "   ub_data_ce :   \u001b[1;36m0\u001b[0m\n"
            ]
          },
          "metadata": {},
          "output_type": "display_data"
        },
        {
          "data": {
            "text/html": [
              "<pre style=\"white-space:pre;overflow-x:auto;line-height:normal;font-family:Menlo,'DejaVu Sans Mono',consolas,'Courier New',monospace\">   ub_data_ue :   <span style=\"color: #008080; text-decoration-color: #008080; font-weight: bold\">0</span>\n",
              "</pre>\n"
            ],
            "text/plain": [
              "   ub_data_ue :   \u001b[1;36m0\u001b[0m\n"
            ]
          },
          "metadata": {},
          "output_type": "display_data"
        },
        {
          "data": {
            "text/html": [
              "<pre style=\"white-space:pre;overflow-x:auto;line-height:normal;font-family:Menlo,'DejaVu Sans Mono',consolas,'Courier New',monospace\">   ub_instr_ce :   <span style=\"color: #008080; text-decoration-color: #008080; font-weight: bold\">0</span>\n",
              "</pre>\n"
            ],
            "text/plain": [
              "   ub_instr_ce :   \u001b[1;36m0\u001b[0m\n"
            ]
          },
          "metadata": {},
          "output_type": "display_data"
        },
        {
          "data": {
            "text/html": [
              "<pre style=\"white-space:pre;overflow-x:auto;line-height:normal;font-family:Menlo,'DejaVu Sans Mono',consolas,'Courier New',monospace\">   ub_isntr_ue :   <span style=\"color: #008080; text-decoration-color: #008080; font-weight: bold\">0</span>\n",
              "</pre>\n"
            ],
            "text/plain": [
              "   ub_isntr_ue :   \u001b[1;36m0\u001b[0m\n"
            ]
          },
          "metadata": {},
          "output_type": "display_data"
        },
        {
          "data": {
            "text/html": [
              "<pre style=\"white-space:pre;overflow-x:auto;line-height:normal;font-family:Menlo,'DejaVu Sans Mono',consolas,'Courier New',monospace\">   ub_isr_calerror :   <span style=\"color: #008080; text-decoration-color: #008080; font-weight: bold\">0</span>\n",
              "</pre>\n"
            ],
            "text/plain": [
              "   ub_isr_calerror :   \u001b[1;36m0\u001b[0m\n"
            ]
          },
          "metadata": {},
          "output_type": "display_data"
        },
        {
          "data": {
            "text/html": [
              "<pre style=\"white-space:pre;overflow-x:auto;line-height:normal;font-family:Menlo,'DejaVu Sans Mono',consolas,'Courier New',monospace\">   ub_isr_vt_track_err :   <span style=\"color: #008080; text-decoration-color: #008080; font-weight: bold\">0</span>\n",
              "</pre>\n"
            ],
            "text/plain": [
              "   ub_isr_vt_track_err :   \u001b[1;36m0\u001b[0m\n"
            ]
          },
          "metadata": {},
          "output_type": "display_data"
        },
        {
          "data": {
            "text/html": [
              "<pre style=\"white-space:pre;overflow-x:auto;line-height:normal;font-family:Menlo,'DejaVu Sans Mono',consolas,'Courier New',monospace\">   ub_isr_watchdog :   <span style=\"color: #008080; text-decoration-color: #008080; font-weight: bold\">0</span>\n",
              "</pre>\n"
            ],
            "text/plain": [
              "   ub_isr_watchdog :   \u001b[1;36m0\u001b[0m\n"
            ]
          },
          "metadata": {},
          "output_type": "display_data"
        },
        {
          "data": {
            "text/html": [
              "<pre style=\"white-space:pre;overflow-x:auto;line-height:normal;font-family:Menlo,'DejaVu Sans Mono',consolas,'Courier New',monospace\">   ub_ub_msg :   <span style=\"color: #008080; text-decoration-color: #008080; font-weight: bold\">0</span>\n",
              "</pre>\n"
            ],
            "text/plain": [
              "   ub_ub_msg :   \u001b[1;36m0\u001b[0m\n"
            ]
          },
          "metadata": {},
          "output_type": "display_data"
        },
        {
          "data": {
            "text/html": [
              "<pre style=\"white-space:pre;overflow-x:auto;line-height:normal;font-family:Menlo,'DejaVu Sans Mono',consolas,'Courier New',monospace\">\n",
              "----------------------------------\n",
              "\n",
              "</pre>\n"
            ],
            "text/plain": [
              "\n",
              "----------------------------------\n",
              "\n"
            ]
          },
          "metadata": {},
          "output_type": "display_data"
        },
        {
          "data": {
            "text/html": [
              "<pre style=\"white-space:pre;overflow-x:auto;line-height:normal;font-family:Menlo,'DejaVu Sans Mono',consolas,'Courier New',monospace\"> Memory Configuration \n",
              "\n",
              "</pre>\n"
            ],
            "text/plain": [
              " Memory Configuration \n",
              "\n"
            ]
          },
          "metadata": {},
          "output_type": "display_data"
        },
        {
          "data": {
            "text/html": [
              "<pre style=\"white-space:pre;overflow-x:auto;line-height:normal;font-family:Menlo,'DejaVu Sans Mono',consolas,'Courier New',monospace\">----------------------------------\n",
              "\n",
              "</pre>\n"
            ],
            "text/plain": [
              "----------------------------------\n",
              "\n"
            ]
          },
          "metadata": {},
          "output_type": "display_data"
        },
        {
          "data": {
            "text/html": [
              "<pre style=\"white-space:pre;overflow-x:auto;line-height:normal;font-family:Menlo,'DejaVu Sans Mono',consolas,'Courier New',monospace\">DDRMC Core Name :   ddr_0\n",
              "</pre>\n"
            ],
            "text/plain": [
              "DDRMC Core Name :   ddr_0\n"
            ]
          },
          "metadata": {},
          "output_type": "display_data"
        },
        {
          "data": {
            "text/html": [
              "<pre style=\"white-space:pre;overflow-x:auto;line-height:normal;font-family:Menlo,'DejaVu Sans Mono',consolas,'Courier New',monospace\">Memory Interface :   DDR4\n",
              "</pre>\n"
            ],
            "text/plain": [
              "Memory Interface :   DDR4\n"
            ]
          },
          "metadata": {},
          "output_type": "display_data"
        },
        {
          "data": {
            "text/html": [
              "<pre style=\"white-space:pre;overflow-x:auto;line-height:normal;font-family:Menlo,'DejaVu Sans Mono',consolas,'Courier New',monospace\">Device Type :   UDIMM\n",
              "</pre>\n"
            ],
            "text/plain": [
              "Device Type :   UDIMM\n"
            ]
          },
          "metadata": {},
          "output_type": "display_data"
        },
        {
          "data": {
            "text/html": [
              "<pre style=\"white-space:pre;overflow-x:auto;line-height:normal;font-family:Menlo,'DejaVu Sans Mono',consolas,'Courier New',monospace\">MC Location :   x0y0\n",
              "</pre>\n"
            ],
            "text/plain": [
              "MC Location :   x0y0\n"
            ]
          },
          "metadata": {},
          "output_type": "display_data"
        },
        {
          "data": {
            "text/html": [
              "<pre style=\"white-space:pre;overflow-x:auto;line-height:normal;font-family:Menlo,'DejaVu Sans Mono',consolas,'Courier New',monospace\">Slots :   <span style=\"color: #008080; text-decoration-color: #008080; font-weight: bold\">1</span>\n",
              "</pre>\n"
            ],
            "text/plain": [
              "Slots :   \u001b[1;36m1\u001b[0m\n"
            ]
          },
          "metadata": {},
          "output_type": "display_data"
        },
        {
          "data": {
            "text/html": [
              "<pre style=\"white-space:pre;overflow-x:auto;line-height:normal;font-family:Menlo,'DejaVu Sans Mono',consolas,'Courier New',monospace\">Ranks :   <span style=\"color: #008080; text-decoration-color: #008080; font-weight: bold\">1</span>\n",
              "</pre>\n"
            ],
            "text/plain": [
              "Ranks :   \u001b[1;36m1\u001b[0m\n"
            ]
          },
          "metadata": {},
          "output_type": "display_data"
        },
        {
          "data": {
            "text/html": [
              "<pre style=\"white-space:pre;overflow-x:auto;line-height:normal;font-family:Menlo,'DejaVu Sans Mono',consolas,'Courier New',monospace\">Data Width :   <span style=\"color: #008080; text-decoration-color: #008080; font-weight: bold\">64</span>\n",
              "</pre>\n"
            ],
            "text/plain": [
              "Data Width :   \u001b[1;36m64\u001b[0m\n"
            ]
          },
          "metadata": {},
          "output_type": "display_data"
        },
        {
          "data": {
            "text/html": [
              "<pre style=\"white-space:pre;overflow-x:auto;line-height:normal;font-family:Menlo,'DejaVu Sans Mono',consolas,'Courier New',monospace\">Bytes :   <span style=\"color: #008080; text-decoration-color: #008080; font-weight: bold\">8</span>\n",
              "</pre>\n"
            ],
            "text/plain": [
              "Bytes :   \u001b[1;36m8\u001b[0m\n"
            ]
          },
          "metadata": {},
          "output_type": "display_data"
        },
        {
          "data": {
            "text/html": [
              "<pre style=\"white-space:pre;overflow-x:auto;line-height:normal;font-family:Menlo,'DejaVu Sans Mono',consolas,'Courier New',monospace\">Nibbles :   <span style=\"color: #008080; text-decoration-color: #008080; font-weight: bold\">16</span>\n",
              "</pre>\n"
            ],
            "text/plain": [
              "Nibbles :   \u001b[1;36m16\u001b[0m\n"
            ]
          },
          "metadata": {},
          "output_type": "display_data"
        },
        {
          "data": {
            "text/html": [
              "<pre style=\"white-space:pre;overflow-x:auto;line-height:normal;font-family:Menlo,'DejaVu Sans Mono',consolas,'Courier New',monospace\">Bits per Byte :   <span style=\"color: #008080; text-decoration-color: #008080; font-weight: bold\">8</span>\n",
              "</pre>\n"
            ],
            "text/plain": [
              "Bits per Byte :   \u001b[1;36m8\u001b[0m\n"
            ]
          },
          "metadata": {},
          "output_type": "display_data"
        },
        {
          "data": {
            "text/html": [
              "<pre style=\"white-space:pre;overflow-x:auto;line-height:normal;font-family:Menlo,'DejaVu Sans Mono',consolas,'Courier New',monospace\">Memory Frequency <span style=\"color: #008080; text-decoration-color: #008080; font-weight: bold\">0</span> :   <span style=\"color: #008080; text-decoration-color: #008080; font-weight: bold\">1600</span> MHz\n",
              "</pre>\n"
            ],
            "text/plain": [
              "Memory Frequency \u001b[1;36m0\u001b[0m :   \u001b[1;36m1600\u001b[0m MHz\n"
            ]
          },
          "metadata": {},
          "output_type": "display_data"
        },
        {
          "data": {
            "text/html": [
              "<pre style=\"white-space:pre;overflow-x:auto;line-height:normal;font-family:Menlo,'DejaVu Sans Mono',consolas,'Courier New',monospace\">\n",
              "-----------------------------------\n",
              "\n",
              "</pre>\n"
            ],
            "text/plain": [
              "\n",
              "-----------------------------------\n",
              "\n"
            ]
          },
          "metadata": {},
          "output_type": "display_data"
        },
        {
          "data": {
            "text/html": [
              "<pre style=\"white-space:pre;overflow-x:auto;line-height:normal;font-family:Menlo,'DejaVu Sans Mono',consolas,'Courier New',monospace\"> Calibration Stages Information \n",
              "\n",
              "</pre>\n"
            ],
            "text/plain": [
              " Calibration Stages Information \n",
              "\n"
            ]
          },
          "metadata": {},
          "output_type": "display_data"
        },
        {
          "data": {
            "text/html": [
              "<pre style=\"white-space:pre;overflow-x:auto;line-height:normal;font-family:Menlo,'DejaVu Sans Mono',consolas,'Courier New',monospace\">-----------------------------------\n",
              "\n",
              "</pre>\n"
            ],
            "text/plain": [
              "-----------------------------------\n",
              "\n"
            ]
          },
          "metadata": {},
          "output_type": "display_data"
        },
        {
          "data": {
            "text/html": [
              "<pre style=\"white-space:pre;overflow-x:auto;line-height:normal;font-family:Menlo,'DejaVu Sans Mono',consolas,'Courier New',monospace\">cal_stage.01_F0_PHY_BISC :   Pass\n",
              "</pre>\n"
            ],
            "text/plain": [
              "cal_stage.01_F0_PHY_BISC :   Pass\n"
            ]
          },
          "metadata": {},
          "output_type": "display_data"
        },
        {
          "data": {
            "text/html": [
              "<pre style=\"white-space:pre;overflow-x:auto;line-height:normal;font-family:Menlo,'DejaVu Sans Mono',consolas,'Courier New',monospace\">cal_stage.02_F0_MEM_INIT :   Pass\n",
              "</pre>\n"
            ],
            "text/plain": [
              "cal_stage.02_F0_MEM_INIT :   Pass\n"
            ]
          },
          "metadata": {},
          "output_type": "display_data"
        },
        {
          "data": {
            "text/html": [
              "<pre style=\"white-space:pre;overflow-x:auto;line-height:normal;font-family:Menlo,'DejaVu Sans Mono',consolas,'Courier New',monospace\">cal_stage.03_F0_DQS_GATE_CAL :   Pass\n",
              "</pre>\n"
            ],
            "text/plain": [
              "cal_stage.03_F0_DQS_GATE_CAL :   Pass\n"
            ]
          },
          "metadata": {},
          "output_type": "display_data"
        },
        {
          "data": {
            "text/html": [
              "<pre style=\"white-space:pre;overflow-x:auto;line-height:normal;font-family:Menlo,'DejaVu Sans Mono',consolas,'Courier New',monospace\">cal_stage.04_F0_WRITE_LEVELING :   Pass\n",
              "</pre>\n"
            ],
            "text/plain": [
              "cal_stage.04_F0_WRITE_LEVELING :   Pass\n"
            ]
          },
          "metadata": {},
          "output_type": "display_data"
        },
        {
          "data": {
            "text/html": [
              "<pre style=\"white-space:pre;overflow-x:auto;line-height:normal;font-family:Menlo,'DejaVu Sans Mono',consolas,'Courier New',monospace\">cal_stage.05_F0_READ_DQ_CAL :   Pass\n",
              "</pre>\n"
            ],
            "text/plain": [
              "cal_stage.05_F0_READ_DQ_CAL :   Pass\n"
            ]
          },
          "metadata": {},
          "output_type": "display_data"
        },
        {
          "data": {
            "text/html": [
              "<pre style=\"white-space:pre;overflow-x:auto;line-height:normal;font-family:Menlo,'DejaVu Sans Mono',consolas,'Courier New',monospace\">cal_stage.06_F0_WRITE_DQ_DBI_CAL :   Pass\n",
              "</pre>\n"
            ],
            "text/plain": [
              "cal_stage.06_F0_WRITE_DQ_DBI_CAL :   Pass\n"
            ]
          },
          "metadata": {},
          "output_type": "display_data"
        },
        {
          "data": {
            "text/html": [
              "<pre style=\"white-space:pre;overflow-x:auto;line-height:normal;font-family:Menlo,'DejaVu Sans Mono',consolas,'Courier New',monospace\">cal_stage.07_F0_WRITE_LATENCY_CAL :   Pass\n",
              "</pre>\n"
            ],
            "text/plain": [
              "cal_stage.07_F0_WRITE_LATENCY_CAL :   Pass\n"
            ]
          },
          "metadata": {},
          "output_type": "display_data"
        },
        {
          "data": {
            "text/html": [
              "<pre style=\"white-space:pre;overflow-x:auto;line-height:normal;font-family:Menlo,'DejaVu Sans Mono',consolas,'Courier New',monospace\">cal_stage.08_F0_READ_DQ_DBI_CAL_COMPLEX :   Pass\n",
              "</pre>\n"
            ],
            "text/plain": [
              "cal_stage.08_F0_READ_DQ_DBI_CAL_COMPLEX :   Pass\n"
            ]
          },
          "metadata": {},
          "output_type": "display_data"
        },
        {
          "data": {
            "text/html": [
              "<pre style=\"white-space:pre;overflow-x:auto;line-height:normal;font-family:Menlo,'DejaVu Sans Mono',consolas,'Courier New',monospace\">cal_stage.09_F0_WRITE_DQ_DBI_CAL_COMPLEX :   Pass\n",
              "</pre>\n"
            ],
            "text/plain": [
              "cal_stage.09_F0_WRITE_DQ_DBI_CAL_COMPLEX :   Pass\n"
            ]
          },
          "metadata": {},
          "output_type": "display_data"
        },
        {
          "data": {
            "text/html": [
              "<pre style=\"white-space:pre;overflow-x:auto;line-height:normal;font-family:Menlo,'DejaVu Sans Mono',consolas,'Courier New',monospace\">cal_stage.10_EN_VT_TRACK :   Pass\n",
              "</pre>\n"
            ],
            "text/plain": [
              "cal_stage.10_EN_VT_TRACK :   Pass\n"
            ]
          },
          "metadata": {},
          "output_type": "display_data"
        },
        {
          "data": {
            "text/html": [
              "<pre style=\"white-space:pre;overflow-x:auto;line-height:normal;font-family:Menlo,'DejaVu Sans Mono',consolas,'Courier New',monospace\">cal_stage.11_READ_DQS_TRACK :   Pass\n",
              "</pre>\n"
            ],
            "text/plain": [
              "cal_stage.11_READ_DQS_TRACK :   Pass\n"
            ]
          },
          "metadata": {},
          "output_type": "display_data"
        },
        {
          "data": {
            "text/html": [
              "<pre style=\"white-space:pre;overflow-x:auto;line-height:normal;font-family:Menlo,'DejaVu Sans Mono',consolas,'Courier New',monospace\">cal_stage.12_CAL_DONE :   Pass\n",
              "</pre>\n"
            ],
            "text/plain": [
              "cal_stage.12_CAL_DONE :   Pass\n"
            ]
          },
          "metadata": {},
          "output_type": "display_data"
        },
        {
          "data": {
            "text/html": [
              "<pre style=\"white-space:pre;overflow-x:auto;line-height:normal;font-family:Menlo,'DejaVu Sans Mono',consolas,'Courier New',monospace\">\n",
              "---------------------------------------\n",
              "\n",
              "</pre>\n"
            ],
            "text/plain": [
              "\n",
              "---------------------------------------\n",
              "\n"
            ]
          },
          "metadata": {},
          "output_type": "display_data"
        },
        {
          "data": {
            "text/html": [
              "<pre style=\"white-space:pre;overflow-x:auto;line-height:normal;font-family:Menlo,'DejaVu Sans Mono',consolas,'Courier New',monospace\"> Calibration Window Margin Analysis \n",
              "\n",
              "</pre>\n"
            ],
            "text/plain": [
              " Calibration Window Margin Analysis \n",
              "\n"
            ]
          },
          "metadata": {},
          "output_type": "display_data"
        },
        {
          "data": {
            "text/html": [
              "<pre style=\"white-space:pre;overflow-x:auto;line-height:normal;font-family:Menlo,'DejaVu Sans Mono',consolas,'Courier New',monospace\">---------------------------------------\n",
              "\n",
              "</pre>\n"
            ],
            "text/plain": [
              "---------------------------------------\n",
              "\n"
            ]
          },
          "metadata": {},
          "output_type": "display_data"
        },
        {
          "data": {
            "text/html": [
              "<pre style=\"white-space:pre;overflow-x:auto;line-height:normal;font-family:Menlo,'DejaVu Sans Mono',consolas,'Courier New',monospace\">\n",
              " Frequency <span style=\"color: #008080; text-decoration-color: #008080; font-weight: bold\">0</span>  - Read Margin - Simple Pattern - Rising Edge Clock in pS and <span style=\"font-weight: bold\">(</span>delay taps<span style=\"font-weight: bold\">)</span>:\n",
              "\n",
              "</pre>\n"
            ],
            "text/plain": [
              "\n",
              " Frequency \u001b[1;36m0\u001b[0m  - Read Margin - Simple Pattern - Rising Edge Clock in pS and \u001b[1m(\u001b[0mdelay taps\u001b[1m)\u001b[0m:\n",
              "\n"
            ]
          },
          "metadata": {},
          "output_type": "display_data"
        },
        {
          "data": {
            "text/html": [
              "<pre style=\"white-space:pre;overflow-x:auto;line-height:normal;font-family:Menlo,'DejaVu Sans Mono',consolas,'Courier New',monospace\">Byte  <span style=\"color: #008080; text-decoration-color: #008080; font-weight: bold\">0</span>  Nibble <span style=\"color: #008080; text-decoration-color: #008080; font-weight: bold\">0</span>  -   Left Margin:   <span style=\"color: #008080; text-decoration-color: #008080; font-weight: bold\">146</span>  <span style=\"font-weight: bold\">(</span> <span style=\"color: #008080; text-decoration-color: #008080; font-weight: bold\">74</span> <span style=\"font-weight: bold\">)</span>  Center Point:   <span style=\"color: #008080; text-decoration-color: #008080; font-weight: bold\">182</span>  <span style=\"font-weight: bold\">(</span> <span style=\"color: #008080; text-decoration-color: #008080; font-weight: bold\">92</span> <span style=\"font-weight: bold\">)</span>  Right Margin:   <span style=\"color: #008080; text-decoration-color: #008080; font-weight: bold\">146</span>  <span style=\"font-weight: bold\">(</span> <span style=\"color: #008080; text-decoration-color: #008080; font-weight: bold\">74</span> <span style=\"font-weight: bold\">)</span>\n",
              "</pre>\n"
            ],
            "text/plain": [
              "Byte  \u001b[1;36m0\u001b[0m  Nibble \u001b[1;36m0\u001b[0m  -   Left Margin:   \u001b[1;36m146\u001b[0m  \u001b[1m(\u001b[0m \u001b[1;36m74\u001b[0m \u001b[1m)\u001b[0m  Center Point:   \u001b[1;36m182\u001b[0m  \u001b[1m(\u001b[0m \u001b[1;36m92\u001b[0m \u001b[1m)\u001b[0m  Right Margin:   \u001b[1;36m146\u001b[0m  \u001b[1m(\u001b[0m \u001b[1;36m74\u001b[0m \u001b[1m)\u001b[0m\n"
            ]
          },
          "metadata": {},
          "output_type": "display_data"
        },
        {
          "data": {
            "text/html": [
              "<pre style=\"white-space:pre;overflow-x:auto;line-height:normal;font-family:Menlo,'DejaVu Sans Mono',consolas,'Courier New',monospace\">Byte  <span style=\"color: #008080; text-decoration-color: #008080; font-weight: bold\">0</span>  Nibble <span style=\"color: #008080; text-decoration-color: #008080; font-weight: bold\">1</span>  -   Left Margin:   <span style=\"color: #008080; text-decoration-color: #008080; font-weight: bold\">144</span>  <span style=\"font-weight: bold\">(</span> <span style=\"color: #008080; text-decoration-color: #008080; font-weight: bold\">74</span> <span style=\"font-weight: bold\">)</span>  Center Point:   <span style=\"color: #008080; text-decoration-color: #008080; font-weight: bold\">180</span>  <span style=\"font-weight: bold\">(</span> <span style=\"color: #008080; text-decoration-color: #008080; font-weight: bold\">92</span> <span style=\"font-weight: bold\">)</span>  Right Margin:   <span style=\"color: #008080; text-decoration-color: #008080; font-weight: bold\">144</span>  <span style=\"font-weight: bold\">(</span> <span style=\"color: #008080; text-decoration-color: #008080; font-weight: bold\">74</span> <span style=\"font-weight: bold\">)</span>\n",
              "</pre>\n"
            ],
            "text/plain": [
              "Byte  \u001b[1;36m0\u001b[0m  Nibble \u001b[1;36m1\u001b[0m  -   Left Margin:   \u001b[1;36m144\u001b[0m  \u001b[1m(\u001b[0m \u001b[1;36m74\u001b[0m \u001b[1m)\u001b[0m  Center Point:   \u001b[1;36m180\u001b[0m  \u001b[1m(\u001b[0m \u001b[1;36m92\u001b[0m \u001b[1m)\u001b[0m  Right Margin:   \u001b[1;36m144\u001b[0m  \u001b[1m(\u001b[0m \u001b[1;36m74\u001b[0m \u001b[1m)\u001b[0m\n"
            ]
          },
          "metadata": {},
          "output_type": "display_data"
        },
        {
          "data": {
            "text/html": [
              "<pre style=\"white-space:pre;overflow-x:auto;line-height:normal;font-family:Menlo,'DejaVu Sans Mono',consolas,'Courier New',monospace\">Byte  <span style=\"color: #008080; text-decoration-color: #008080; font-weight: bold\">1</span>  Nibble <span style=\"color: #008080; text-decoration-color: #008080; font-weight: bold\">0</span>  -   Left Margin:   <span style=\"color: #008080; text-decoration-color: #008080; font-weight: bold\">144</span>  <span style=\"font-weight: bold\">(</span> <span style=\"color: #008080; text-decoration-color: #008080; font-weight: bold\">75</span> <span style=\"font-weight: bold\">)</span>  Center Point:   <span style=\"color: #008080; text-decoration-color: #008080; font-weight: bold\">179</span>  <span style=\"font-weight: bold\">(</span> <span style=\"color: #008080; text-decoration-color: #008080; font-weight: bold\">93</span> <span style=\"font-weight: bold\">)</span>  Right Margin:   <span style=\"color: #008080; text-decoration-color: #008080; font-weight: bold\">146</span>  <span style=\"font-weight: bold\">(</span> <span style=\"color: #008080; text-decoration-color: #008080; font-weight: bold\">76</span> <span style=\"font-weight: bold\">)</span>\n",
              "</pre>\n"
            ],
            "text/plain": [
              "Byte  \u001b[1;36m1\u001b[0m  Nibble \u001b[1;36m0\u001b[0m  -   Left Margin:   \u001b[1;36m144\u001b[0m  \u001b[1m(\u001b[0m \u001b[1;36m75\u001b[0m \u001b[1m)\u001b[0m  Center Point:   \u001b[1;36m179\u001b[0m  \u001b[1m(\u001b[0m \u001b[1;36m93\u001b[0m \u001b[1m)\u001b[0m  Right Margin:   \u001b[1;36m146\u001b[0m  \u001b[1m(\u001b[0m \u001b[1;36m76\u001b[0m \u001b[1m)\u001b[0m\n"
            ]
          },
          "metadata": {},
          "output_type": "display_data"
        },
        {
          "data": {
            "text/html": [
              "<pre style=\"white-space:pre;overflow-x:auto;line-height:normal;font-family:Menlo,'DejaVu Sans Mono',consolas,'Courier New',monospace\">Byte  <span style=\"color: #008080; text-decoration-color: #008080; font-weight: bold\">1</span>  Nibble <span style=\"color: #008080; text-decoration-color: #008080; font-weight: bold\">1</span>  -   Left Margin:   <span style=\"color: #008080; text-decoration-color: #008080; font-weight: bold\">148</span>  <span style=\"font-weight: bold\">(</span> <span style=\"color: #008080; text-decoration-color: #008080; font-weight: bold\">75</span> <span style=\"font-weight: bold\">)</span>  Center Point:   <span style=\"color: #008080; text-decoration-color: #008080; font-weight: bold\">184</span>  <span style=\"font-weight: bold\">(</span> <span style=\"color: #008080; text-decoration-color: #008080; font-weight: bold\">93</span> <span style=\"font-weight: bold\">)</span>  Right Margin:   <span style=\"color: #008080; text-decoration-color: #008080; font-weight: bold\">150</span>  <span style=\"font-weight: bold\">(</span> <span style=\"color: #008080; text-decoration-color: #008080; font-weight: bold\">76</span> <span style=\"font-weight: bold\">)</span>\n",
              "</pre>\n"
            ],
            "text/plain": [
              "Byte  \u001b[1;36m1\u001b[0m  Nibble \u001b[1;36m1\u001b[0m  -   Left Margin:   \u001b[1;36m148\u001b[0m  \u001b[1m(\u001b[0m \u001b[1;36m75\u001b[0m \u001b[1m)\u001b[0m  Center Point:   \u001b[1;36m184\u001b[0m  \u001b[1m(\u001b[0m \u001b[1;36m93\u001b[0m \u001b[1m)\u001b[0m  Right Margin:   \u001b[1;36m150\u001b[0m  \u001b[1m(\u001b[0m \u001b[1;36m76\u001b[0m \u001b[1m)\u001b[0m\n"
            ]
          },
          "metadata": {},
          "output_type": "display_data"
        },
        {
          "data": {
            "text/html": [
              "<pre style=\"white-space:pre;overflow-x:auto;line-height:normal;font-family:Menlo,'DejaVu Sans Mono',consolas,'Courier New',monospace\">Byte  <span style=\"color: #008080; text-decoration-color: #008080; font-weight: bold\">2</span>  Nibble <span style=\"color: #008080; text-decoration-color: #008080; font-weight: bold\">0</span>  -   Left Margin:   <span style=\"color: #008080; text-decoration-color: #008080; font-weight: bold\">152</span>  <span style=\"font-weight: bold\">(</span> <span style=\"color: #008080; text-decoration-color: #008080; font-weight: bold\">77</span> <span style=\"font-weight: bold\">)</span>  Center Point:   <span style=\"color: #008080; text-decoration-color: #008080; font-weight: bold\">188</span>  <span style=\"font-weight: bold\">(</span> <span style=\"color: #008080; text-decoration-color: #008080; font-weight: bold\">95</span> <span style=\"font-weight: bold\">)</span>  Right Margin:   <span style=\"color: #008080; text-decoration-color: #008080; font-weight: bold\">152</span>  <span style=\"font-weight: bold\">(</span> <span style=\"color: #008080; text-decoration-color: #008080; font-weight: bold\">77</span> <span style=\"font-weight: bold\">)</span>\n",
              "</pre>\n"
            ],
            "text/plain": [
              "Byte  \u001b[1;36m2\u001b[0m  Nibble \u001b[1;36m0\u001b[0m  -   Left Margin:   \u001b[1;36m152\u001b[0m  \u001b[1m(\u001b[0m \u001b[1;36m77\u001b[0m \u001b[1m)\u001b[0m  Center Point:   \u001b[1;36m188\u001b[0m  \u001b[1m(\u001b[0m \u001b[1;36m95\u001b[0m \u001b[1m)\u001b[0m  Right Margin:   \u001b[1;36m152\u001b[0m  \u001b[1m(\u001b[0m \u001b[1;36m77\u001b[0m \u001b[1m)\u001b[0m\n"
            ]
          },
          "metadata": {},
          "output_type": "display_data"
        },
        {
          "data": {
            "text/html": [
              "<pre style=\"white-space:pre;overflow-x:auto;line-height:normal;font-family:Menlo,'DejaVu Sans Mono',consolas,'Courier New',monospace\">Byte  <span style=\"color: #008080; text-decoration-color: #008080; font-weight: bold\">2</span>  Nibble <span style=\"color: #008080; text-decoration-color: #008080; font-weight: bold\">1</span>  -   Left Margin:   <span style=\"color: #008080; text-decoration-color: #008080; font-weight: bold\">150</span>  <span style=\"font-weight: bold\">(</span> <span style=\"color: #008080; text-decoration-color: #008080; font-weight: bold\">78</span> <span style=\"font-weight: bold\">)</span>  Center Point:   <span style=\"color: #008080; text-decoration-color: #008080; font-weight: bold\">185</span>  <span style=\"font-weight: bold\">(</span> <span style=\"color: #008080; text-decoration-color: #008080; font-weight: bold\">96</span> <span style=\"font-weight: bold\">)</span>  Right Margin:   <span style=\"color: #008080; text-decoration-color: #008080; font-weight: bold\">150</span>  <span style=\"font-weight: bold\">(</span> <span style=\"color: #008080; text-decoration-color: #008080; font-weight: bold\">78</span> <span style=\"font-weight: bold\">)</span>\n",
              "</pre>\n"
            ],
            "text/plain": [
              "Byte  \u001b[1;36m2\u001b[0m  Nibble \u001b[1;36m1\u001b[0m  -   Left Margin:   \u001b[1;36m150\u001b[0m  \u001b[1m(\u001b[0m \u001b[1;36m78\u001b[0m \u001b[1m)\u001b[0m  Center Point:   \u001b[1;36m185\u001b[0m  \u001b[1m(\u001b[0m \u001b[1;36m96\u001b[0m \u001b[1m)\u001b[0m  Right Margin:   \u001b[1;36m150\u001b[0m  \u001b[1m(\u001b[0m \u001b[1;36m78\u001b[0m \u001b[1m)\u001b[0m\n"
            ]
          },
          "metadata": {},
          "output_type": "display_data"
        },
        {
          "data": {
            "text/html": [
              "<pre style=\"white-space:pre;overflow-x:auto;line-height:normal;font-family:Menlo,'DejaVu Sans Mono',consolas,'Courier New',monospace\">Byte  <span style=\"color: #008080; text-decoration-color: #008080; font-weight: bold\">3</span>  Nibble <span style=\"color: #008080; text-decoration-color: #008080; font-weight: bold\">0</span>  -   Left Margin:   <span style=\"color: #008080; text-decoration-color: #008080; font-weight: bold\">152</span>  <span style=\"font-weight: bold\">(</span> <span style=\"color: #008080; text-decoration-color: #008080; font-weight: bold\">77</span> <span style=\"font-weight: bold\">)</span>  Center Point:   <span style=\"color: #008080; text-decoration-color: #008080; font-weight: bold\">188</span>  <span style=\"font-weight: bold\">(</span> <span style=\"color: #008080; text-decoration-color: #008080; font-weight: bold\">95</span> <span style=\"font-weight: bold\">)</span>  Right Margin:   <span style=\"color: #008080; text-decoration-color: #008080; font-weight: bold\">152</span>  <span style=\"font-weight: bold\">(</span> <span style=\"color: #008080; text-decoration-color: #008080; font-weight: bold\">77</span> <span style=\"font-weight: bold\">)</span>\n",
              "</pre>\n"
            ],
            "text/plain": [
              "Byte  \u001b[1;36m3\u001b[0m  Nibble \u001b[1;36m0\u001b[0m  -   Left Margin:   \u001b[1;36m152\u001b[0m  \u001b[1m(\u001b[0m \u001b[1;36m77\u001b[0m \u001b[1m)\u001b[0m  Center Point:   \u001b[1;36m188\u001b[0m  \u001b[1m(\u001b[0m \u001b[1;36m95\u001b[0m \u001b[1m)\u001b[0m  Right Margin:   \u001b[1;36m152\u001b[0m  \u001b[1m(\u001b[0m \u001b[1;36m77\u001b[0m \u001b[1m)\u001b[0m\n"
            ]
          },
          "metadata": {},
          "output_type": "display_data"
        },
        {
          "data": {
            "text/html": [
              "<pre style=\"white-space:pre;overflow-x:auto;line-height:normal;font-family:Menlo,'DejaVu Sans Mono',consolas,'Courier New',monospace\">Byte  <span style=\"color: #008080; text-decoration-color: #008080; font-weight: bold\">3</span>  Nibble <span style=\"color: #008080; text-decoration-color: #008080; font-weight: bold\">1</span>  -   Left Margin:   <span style=\"color: #008080; text-decoration-color: #008080; font-weight: bold\">154</span>  <span style=\"font-weight: bold\">(</span> <span style=\"color: #008080; text-decoration-color: #008080; font-weight: bold\">78</span> <span style=\"font-weight: bold\">)</span>  Center Point:   <span style=\"color: #008080; text-decoration-color: #008080; font-weight: bold\">190</span>  <span style=\"font-weight: bold\">(</span> <span style=\"color: #008080; text-decoration-color: #008080; font-weight: bold\">96</span> <span style=\"font-weight: bold\">)</span>  Right Margin:   <span style=\"color: #008080; text-decoration-color: #008080; font-weight: bold\">154</span>  <span style=\"font-weight: bold\">(</span> <span style=\"color: #008080; text-decoration-color: #008080; font-weight: bold\">78</span> <span style=\"font-weight: bold\">)</span>\n",
              "</pre>\n"
            ],
            "text/plain": [
              "Byte  \u001b[1;36m3\u001b[0m  Nibble \u001b[1;36m1\u001b[0m  -   Left Margin:   \u001b[1;36m154\u001b[0m  \u001b[1m(\u001b[0m \u001b[1;36m78\u001b[0m \u001b[1m)\u001b[0m  Center Point:   \u001b[1;36m190\u001b[0m  \u001b[1m(\u001b[0m \u001b[1;36m96\u001b[0m \u001b[1m)\u001b[0m  Right Margin:   \u001b[1;36m154\u001b[0m  \u001b[1m(\u001b[0m \u001b[1;36m78\u001b[0m \u001b[1m)\u001b[0m\n"
            ]
          },
          "metadata": {},
          "output_type": "display_data"
        },
        {
          "data": {
            "text/html": [
              "<pre style=\"white-space:pre;overflow-x:auto;line-height:normal;font-family:Menlo,'DejaVu Sans Mono',consolas,'Courier New',monospace\">Byte  <span style=\"color: #008080; text-decoration-color: #008080; font-weight: bold\">4</span>  Nibble <span style=\"color: #008080; text-decoration-color: #008080; font-weight: bold\">0</span>  -   Left Margin:   <span style=\"color: #008080; text-decoration-color: #008080; font-weight: bold\">150</span>  <span style=\"font-weight: bold\">(</span> <span style=\"color: #008080; text-decoration-color: #008080; font-weight: bold\">77</span> <span style=\"font-weight: bold\">)</span>  Center Point:   <span style=\"color: #008080; text-decoration-color: #008080; font-weight: bold\">186</span>  <span style=\"font-weight: bold\">(</span> <span style=\"color: #008080; text-decoration-color: #008080; font-weight: bold\">95</span> <span style=\"font-weight: bold\">)</span>  Right Margin:   <span style=\"color: #008080; text-decoration-color: #008080; font-weight: bold\">150</span>  <span style=\"font-weight: bold\">(</span> <span style=\"color: #008080; text-decoration-color: #008080; font-weight: bold\">77</span> <span style=\"font-weight: bold\">)</span>\n",
              "</pre>\n"
            ],
            "text/plain": [
              "Byte  \u001b[1;36m4\u001b[0m  Nibble \u001b[1;36m0\u001b[0m  -   Left Margin:   \u001b[1;36m150\u001b[0m  \u001b[1m(\u001b[0m \u001b[1;36m77\u001b[0m \u001b[1m)\u001b[0m  Center Point:   \u001b[1;36m186\u001b[0m  \u001b[1m(\u001b[0m \u001b[1;36m95\u001b[0m \u001b[1m)\u001b[0m  Right Margin:   \u001b[1;36m150\u001b[0m  \u001b[1m(\u001b[0m \u001b[1;36m77\u001b[0m \u001b[1m)\u001b[0m\n"
            ]
          },
          "metadata": {},
          "output_type": "display_data"
        },
        {
          "data": {
            "text/html": [
              "<pre style=\"white-space:pre;overflow-x:auto;line-height:normal;font-family:Menlo,'DejaVu Sans Mono',consolas,'Courier New',monospace\">Byte  <span style=\"color: #008080; text-decoration-color: #008080; font-weight: bold\">4</span>  Nibble <span style=\"color: #008080; text-decoration-color: #008080; font-weight: bold\">1</span>  -   Left Margin:   <span style=\"color: #008080; text-decoration-color: #008080; font-weight: bold\">152</span>  <span style=\"font-weight: bold\">(</span> <span style=\"color: #008080; text-decoration-color: #008080; font-weight: bold\">77</span> <span style=\"font-weight: bold\">)</span>  Center Point:   <span style=\"color: #008080; text-decoration-color: #008080; font-weight: bold\">188</span>  <span style=\"font-weight: bold\">(</span> <span style=\"color: #008080; text-decoration-color: #008080; font-weight: bold\">95</span> <span style=\"font-weight: bold\">)</span>  Right Margin:   <span style=\"color: #008080; text-decoration-color: #008080; font-weight: bold\">152</span>  <span style=\"font-weight: bold\">(</span> <span style=\"color: #008080; text-decoration-color: #008080; font-weight: bold\">77</span> <span style=\"font-weight: bold\">)</span>\n",
              "</pre>\n"
            ],
            "text/plain": [
              "Byte  \u001b[1;36m4\u001b[0m  Nibble \u001b[1;36m1\u001b[0m  -   Left Margin:   \u001b[1;36m152\u001b[0m  \u001b[1m(\u001b[0m \u001b[1;36m77\u001b[0m \u001b[1m)\u001b[0m  Center Point:   \u001b[1;36m188\u001b[0m  \u001b[1m(\u001b[0m \u001b[1;36m95\u001b[0m \u001b[1m)\u001b[0m  Right Margin:   \u001b[1;36m152\u001b[0m  \u001b[1m(\u001b[0m \u001b[1;36m77\u001b[0m \u001b[1m)\u001b[0m\n"
            ]
          },
          "metadata": {},
          "output_type": "display_data"
        },
        {
          "data": {
            "text/html": [
              "<pre style=\"white-space:pre;overflow-x:auto;line-height:normal;font-family:Menlo,'DejaVu Sans Mono',consolas,'Courier New',monospace\">Byte  <span style=\"color: #008080; text-decoration-color: #008080; font-weight: bold\">5</span>  Nibble <span style=\"color: #008080; text-decoration-color: #008080; font-weight: bold\">0</span>  -   Left Margin:   <span style=\"color: #008080; text-decoration-color: #008080; font-weight: bold\">146</span>  <span style=\"font-weight: bold\">(</span> <span style=\"color: #008080; text-decoration-color: #008080; font-weight: bold\">75</span> <span style=\"font-weight: bold\">)</span>  Center Point:   <span style=\"color: #008080; text-decoration-color: #008080; font-weight: bold\">182</span>  <span style=\"font-weight: bold\">(</span> <span style=\"color: #008080; text-decoration-color: #008080; font-weight: bold\">93</span> <span style=\"font-weight: bold\">)</span>  Right Margin:   <span style=\"color: #008080; text-decoration-color: #008080; font-weight: bold\">148</span>  <span style=\"font-weight: bold\">(</span> <span style=\"color: #008080; text-decoration-color: #008080; font-weight: bold\">76</span> <span style=\"font-weight: bold\">)</span>\n",
              "</pre>\n"
            ],
            "text/plain": [
              "Byte  \u001b[1;36m5\u001b[0m  Nibble \u001b[1;36m0\u001b[0m  -   Left Margin:   \u001b[1;36m146\u001b[0m  \u001b[1m(\u001b[0m \u001b[1;36m75\u001b[0m \u001b[1m)\u001b[0m  Center Point:   \u001b[1;36m182\u001b[0m  \u001b[1m(\u001b[0m \u001b[1;36m93\u001b[0m \u001b[1m)\u001b[0m  Right Margin:   \u001b[1;36m148\u001b[0m  \u001b[1m(\u001b[0m \u001b[1;36m76\u001b[0m \u001b[1m)\u001b[0m\n"
            ]
          },
          "metadata": {},
          "output_type": "display_data"
        },
        {
          "data": {
            "text/html": [
              "<pre style=\"white-space:pre;overflow-x:auto;line-height:normal;font-family:Menlo,'DejaVu Sans Mono',consolas,'Courier New',monospace\">Byte  <span style=\"color: #008080; text-decoration-color: #008080; font-weight: bold\">5</span>  Nibble <span style=\"color: #008080; text-decoration-color: #008080; font-weight: bold\">1</span>  -   Left Margin:   <span style=\"color: #008080; text-decoration-color: #008080; font-weight: bold\">156</span>  <span style=\"font-weight: bold\">(</span> <span style=\"color: #008080; text-decoration-color: #008080; font-weight: bold\">77</span> <span style=\"font-weight: bold\">)</span>  Center Point:   <span style=\"color: #008080; text-decoration-color: #008080; font-weight: bold\">193</span>  <span style=\"font-weight: bold\">(</span> <span style=\"color: #008080; text-decoration-color: #008080; font-weight: bold\">95</span> <span style=\"font-weight: bold\">)</span>  Right Margin:   <span style=\"color: #008080; text-decoration-color: #008080; font-weight: bold\">156</span>  <span style=\"font-weight: bold\">(</span> <span style=\"color: #008080; text-decoration-color: #008080; font-weight: bold\">77</span> <span style=\"font-weight: bold\">)</span>\n",
              "</pre>\n"
            ],
            "text/plain": [
              "Byte  \u001b[1;36m5\u001b[0m  Nibble \u001b[1;36m1\u001b[0m  -   Left Margin:   \u001b[1;36m156\u001b[0m  \u001b[1m(\u001b[0m \u001b[1;36m77\u001b[0m \u001b[1m)\u001b[0m  Center Point:   \u001b[1;36m193\u001b[0m  \u001b[1m(\u001b[0m \u001b[1;36m95\u001b[0m \u001b[1m)\u001b[0m  Right Margin:   \u001b[1;36m156\u001b[0m  \u001b[1m(\u001b[0m \u001b[1;36m77\u001b[0m \u001b[1m)\u001b[0m\n"
            ]
          },
          "metadata": {},
          "output_type": "display_data"
        },
        {
          "data": {
            "text/html": [
              "<pre style=\"white-space:pre;overflow-x:auto;line-height:normal;font-family:Menlo,'DejaVu Sans Mono',consolas,'Courier New',monospace\">Byte  <span style=\"color: #008080; text-decoration-color: #008080; font-weight: bold\">6</span>  Nibble <span style=\"color: #008080; text-decoration-color: #008080; font-weight: bold\">0</span>  -   Left Margin:   <span style=\"color: #008080; text-decoration-color: #008080; font-weight: bold\">150</span>  <span style=\"font-weight: bold\">(</span> <span style=\"color: #008080; text-decoration-color: #008080; font-weight: bold\">76</span> <span style=\"font-weight: bold\">)</span>  Center Point:   <span style=\"color: #008080; text-decoration-color: #008080; font-weight: bold\">186</span>  <span style=\"font-weight: bold\">(</span> <span style=\"color: #008080; text-decoration-color: #008080; font-weight: bold\">94</span> <span style=\"font-weight: bold\">)</span>  Right Margin:   <span style=\"color: #008080; text-decoration-color: #008080; font-weight: bold\">152</span>  <span style=\"font-weight: bold\">(</span> <span style=\"color: #008080; text-decoration-color: #008080; font-weight: bold\">77</span> <span style=\"font-weight: bold\">)</span>\n",
              "</pre>\n"
            ],
            "text/plain": [
              "Byte  \u001b[1;36m6\u001b[0m  Nibble \u001b[1;36m0\u001b[0m  -   Left Margin:   \u001b[1;36m150\u001b[0m  \u001b[1m(\u001b[0m \u001b[1;36m76\u001b[0m \u001b[1m)\u001b[0m  Center Point:   \u001b[1;36m186\u001b[0m  \u001b[1m(\u001b[0m \u001b[1;36m94\u001b[0m \u001b[1m)\u001b[0m  Right Margin:   \u001b[1;36m152\u001b[0m  \u001b[1m(\u001b[0m \u001b[1;36m77\u001b[0m \u001b[1m)\u001b[0m\n"
            ]
          },
          "metadata": {},
          "output_type": "display_data"
        },
        {
          "data": {
            "text/html": [
              "<pre style=\"white-space:pre;overflow-x:auto;line-height:normal;font-family:Menlo,'DejaVu Sans Mono',consolas,'Courier New',monospace\">Byte  <span style=\"color: #008080; text-decoration-color: #008080; font-weight: bold\">6</span>  Nibble <span style=\"color: #008080; text-decoration-color: #008080; font-weight: bold\">1</span>  -   Left Margin:   <span style=\"color: #008080; text-decoration-color: #008080; font-weight: bold\">156</span>  <span style=\"font-weight: bold\">(</span> <span style=\"color: #008080; text-decoration-color: #008080; font-weight: bold\">80</span> <span style=\"font-weight: bold\">)</span>  Center Point:   <span style=\"color: #008080; text-decoration-color: #008080; font-weight: bold\">191</span>  <span style=\"font-weight: bold\">(</span> <span style=\"color: #008080; text-decoration-color: #008080; font-weight: bold\">98</span> <span style=\"font-weight: bold\">)</span>  Right Margin:   <span style=\"color: #008080; text-decoration-color: #008080; font-weight: bold\">158</span>  <span style=\"font-weight: bold\">(</span> <span style=\"color: #008080; text-decoration-color: #008080; font-weight: bold\">81</span> <span style=\"font-weight: bold\">)</span>\n",
              "</pre>\n"
            ],
            "text/plain": [
              "Byte  \u001b[1;36m6\u001b[0m  Nibble \u001b[1;36m1\u001b[0m  -   Left Margin:   \u001b[1;36m156\u001b[0m  \u001b[1m(\u001b[0m \u001b[1;36m80\u001b[0m \u001b[1m)\u001b[0m  Center Point:   \u001b[1;36m191\u001b[0m  \u001b[1m(\u001b[0m \u001b[1;36m98\u001b[0m \u001b[1m)\u001b[0m  Right Margin:   \u001b[1;36m158\u001b[0m  \u001b[1m(\u001b[0m \u001b[1;36m81\u001b[0m \u001b[1m)\u001b[0m\n"
            ]
          },
          "metadata": {},
          "output_type": "display_data"
        },
        {
          "data": {
            "text/html": [
              "<pre style=\"white-space:pre;overflow-x:auto;line-height:normal;font-family:Menlo,'DejaVu Sans Mono',consolas,'Courier New',monospace\">Byte  <span style=\"color: #008080; text-decoration-color: #008080; font-weight: bold\">7</span>  Nibble <span style=\"color: #008080; text-decoration-color: #008080; font-weight: bold\">0</span>  -   Left Margin:   <span style=\"color: #008080; text-decoration-color: #008080; font-weight: bold\">148</span>  <span style=\"font-weight: bold\">(</span> <span style=\"color: #008080; text-decoration-color: #008080; font-weight: bold\">77</span> <span style=\"font-weight: bold\">)</span>  Center Point:   <span style=\"color: #008080; text-decoration-color: #008080; font-weight: bold\">183</span>  <span style=\"font-weight: bold\">(</span> <span style=\"color: #008080; text-decoration-color: #008080; font-weight: bold\">95</span> <span style=\"font-weight: bold\">)</span>  Right Margin:   <span style=\"color: #008080; text-decoration-color: #008080; font-weight: bold\">148</span>  <span style=\"font-weight: bold\">(</span> <span style=\"color: #008080; text-decoration-color: #008080; font-weight: bold\">77</span> <span style=\"font-weight: bold\">)</span>\n",
              "</pre>\n"
            ],
            "text/plain": [
              "Byte  \u001b[1;36m7\u001b[0m  Nibble \u001b[1;36m0\u001b[0m  -   Left Margin:   \u001b[1;36m148\u001b[0m  \u001b[1m(\u001b[0m \u001b[1;36m77\u001b[0m \u001b[1m)\u001b[0m  Center Point:   \u001b[1;36m183\u001b[0m  \u001b[1m(\u001b[0m \u001b[1;36m95\u001b[0m \u001b[1m)\u001b[0m  Right Margin:   \u001b[1;36m148\u001b[0m  \u001b[1m(\u001b[0m \u001b[1;36m77\u001b[0m \u001b[1m)\u001b[0m\n"
            ]
          },
          "metadata": {},
          "output_type": "display_data"
        },
        {
          "data": {
            "text/html": [
              "<pre style=\"white-space:pre;overflow-x:auto;line-height:normal;font-family:Menlo,'DejaVu Sans Mono',consolas,'Courier New',monospace\">Byte  <span style=\"color: #008080; text-decoration-color: #008080; font-weight: bold\">7</span>  Nibble <span style=\"color: #008080; text-decoration-color: #008080; font-weight: bold\">1</span>  -   Left Margin:   <span style=\"color: #008080; text-decoration-color: #008080; font-weight: bold\">150</span>  <span style=\"font-weight: bold\">(</span> <span style=\"color: #008080; text-decoration-color: #008080; font-weight: bold\">76</span> <span style=\"font-weight: bold\">)</span>  Center Point:   <span style=\"color: #008080; text-decoration-color: #008080; font-weight: bold\">186</span>  <span style=\"font-weight: bold\">(</span> <span style=\"color: #008080; text-decoration-color: #008080; font-weight: bold\">94</span> <span style=\"font-weight: bold\">)</span>  Right Margin:   <span style=\"color: #008080; text-decoration-color: #008080; font-weight: bold\">152</span>  <span style=\"font-weight: bold\">(</span> <span style=\"color: #008080; text-decoration-color: #008080; font-weight: bold\">77</span> <span style=\"font-weight: bold\">)</span>\n",
              "</pre>\n"
            ],
            "text/plain": [
              "Byte  \u001b[1;36m7\u001b[0m  Nibble \u001b[1;36m1\u001b[0m  -   Left Margin:   \u001b[1;36m150\u001b[0m  \u001b[1m(\u001b[0m \u001b[1;36m76\u001b[0m \u001b[1m)\u001b[0m  Center Point:   \u001b[1;36m186\u001b[0m  \u001b[1m(\u001b[0m \u001b[1;36m94\u001b[0m \u001b[1m)\u001b[0m  Right Margin:   \u001b[1;36m152\u001b[0m  \u001b[1m(\u001b[0m \u001b[1;36m77\u001b[0m \u001b[1m)\u001b[0m\n"
            ]
          },
          "metadata": {},
          "output_type": "display_data"
        },
        {
          "data": {
            "text/html": [
              "<pre style=\"white-space:pre;overflow-x:auto;line-height:normal;font-family:Menlo,'DejaVu Sans Mono',consolas,'Courier New',monospace\">\n",
              " Frequency <span style=\"color: #008080; text-decoration-color: #008080; font-weight: bold\">0</span>  - Read Margin - Simple Pattern - Falling Edge Clock in pS and <span style=\"font-weight: bold\">(</span>delay taps<span style=\"font-weight: bold\">)</span>:\n",
              "\n",
              "</pre>\n"
            ],
            "text/plain": [
              "\n",
              " Frequency \u001b[1;36m0\u001b[0m  - Read Margin - Simple Pattern - Falling Edge Clock in pS and \u001b[1m(\u001b[0mdelay taps\u001b[1m)\u001b[0m:\n",
              "\n"
            ]
          },
          "metadata": {},
          "output_type": "display_data"
        },
        {
          "data": {
            "text/html": [
              "<pre style=\"white-space:pre;overflow-x:auto;line-height:normal;font-family:Menlo,'DejaVu Sans Mono',consolas,'Courier New',monospace\">Byte  <span style=\"color: #008080; text-decoration-color: #008080; font-weight: bold\">0</span>  Nibble <span style=\"color: #008080; text-decoration-color: #008080; font-weight: bold\">0</span>  -   Left Margin:   <span style=\"color: #008080; text-decoration-color: #008080; font-weight: bold\">139</span>  <span style=\"font-weight: bold\">(</span> <span style=\"color: #008080; text-decoration-color: #008080; font-weight: bold\">73</span> <span style=\"font-weight: bold\">)</span>  Center Point:   <span style=\"color: #008080; text-decoration-color: #008080; font-weight: bold\">189</span>  <span style=\"font-weight: bold\">(</span> <span style=\"color: #008080; text-decoration-color: #008080; font-weight: bold\">99</span> <span style=\"font-weight: bold\">)</span>  Right Margin:   <span style=\"color: #008080; text-decoration-color: #008080; font-weight: bold\">139</span>  <span style=\"font-weight: bold\">(</span> <span style=\"color: #008080; text-decoration-color: #008080; font-weight: bold\">73</span> <span style=\"font-weight: bold\">)</span>\n",
              "</pre>\n"
            ],
            "text/plain": [
              "Byte  \u001b[1;36m0\u001b[0m  Nibble \u001b[1;36m0\u001b[0m  -   Left Margin:   \u001b[1;36m139\u001b[0m  \u001b[1m(\u001b[0m \u001b[1;36m73\u001b[0m \u001b[1m)\u001b[0m  Center Point:   \u001b[1;36m189\u001b[0m  \u001b[1m(\u001b[0m \u001b[1;36m99\u001b[0m \u001b[1m)\u001b[0m  Right Margin:   \u001b[1;36m139\u001b[0m  \u001b[1m(\u001b[0m \u001b[1;36m73\u001b[0m \u001b[1m)\u001b[0m\n"
            ]
          },
          "metadata": {},
          "output_type": "display_data"
        },
        {
          "data": {
            "text/html": [
              "<pre style=\"white-space:pre;overflow-x:auto;line-height:normal;font-family:Menlo,'DejaVu Sans Mono',consolas,'Courier New',monospace\">Byte  <span style=\"color: #008080; text-decoration-color: #008080; font-weight: bold\">0</span>  Nibble <span style=\"color: #008080; text-decoration-color: #008080; font-weight: bold\">1</span>  -   Left Margin:   <span style=\"color: #008080; text-decoration-color: #008080; font-weight: bold\">144</span>  <span style=\"font-weight: bold\">(</span> <span style=\"color: #008080; text-decoration-color: #008080; font-weight: bold\">74</span> <span style=\"font-weight: bold\">)</span>  Center Point:   <span style=\"color: #008080; text-decoration-color: #008080; font-weight: bold\">195</span>  <span style=\"font-weight: bold\">(</span> <span style=\"color: #008080; text-decoration-color: #008080; font-weight: bold\">100</span> <span style=\"font-weight: bold\">)</span>  Right Margin:   <span style=\"color: #008080; text-decoration-color: #008080; font-weight: bold\">144</span>  <span style=\"font-weight: bold\">(</span> <span style=\"color: #008080; text-decoration-color: #008080; font-weight: bold\">74</span> <span style=\"font-weight: bold\">)</span>\n",
              "</pre>\n"
            ],
            "text/plain": [
              "Byte  \u001b[1;36m0\u001b[0m  Nibble \u001b[1;36m1\u001b[0m  -   Left Margin:   \u001b[1;36m144\u001b[0m  \u001b[1m(\u001b[0m \u001b[1;36m74\u001b[0m \u001b[1m)\u001b[0m  Center Point:   \u001b[1;36m195\u001b[0m  \u001b[1m(\u001b[0m \u001b[1;36m100\u001b[0m \u001b[1m)\u001b[0m  Right Margin:   \u001b[1;36m144\u001b[0m  \u001b[1m(\u001b[0m \u001b[1;36m74\u001b[0m \u001b[1m)\u001b[0m\n"
            ]
          },
          "metadata": {},
          "output_type": "display_data"
        },
        {
          "data": {
            "text/html": [
              "<pre style=\"white-space:pre;overflow-x:auto;line-height:normal;font-family:Menlo,'DejaVu Sans Mono',consolas,'Courier New',monospace\">Byte  <span style=\"color: #008080; text-decoration-color: #008080; font-weight: bold\">1</span>  Nibble <span style=\"color: #008080; text-decoration-color: #008080; font-weight: bold\">0</span>  -   Left Margin:   <span style=\"color: #008080; text-decoration-color: #008080; font-weight: bold\">148</span>  <span style=\"font-weight: bold\">(</span> <span style=\"color: #008080; text-decoration-color: #008080; font-weight: bold\">75</span> <span style=\"font-weight: bold\">)</span>  Center Point:   <span style=\"color: #008080; text-decoration-color: #008080; font-weight: bold\">198</span>  <span style=\"font-weight: bold\">(</span> <span style=\"color: #008080; text-decoration-color: #008080; font-weight: bold\">100</span> <span style=\"font-weight: bold\">)</span>  Right Margin:   <span style=\"color: #008080; text-decoration-color: #008080; font-weight: bold\">150</span>  <span style=\"font-weight: bold\">(</span> <span style=\"color: #008080; text-decoration-color: #008080; font-weight: bold\">76</span> <span style=\"font-weight: bold\">)</span>\n",
              "</pre>\n"
            ],
            "text/plain": [
              "Byte  \u001b[1;36m1\u001b[0m  Nibble \u001b[1;36m0\u001b[0m  -   Left Margin:   \u001b[1;36m148\u001b[0m  \u001b[1m(\u001b[0m \u001b[1;36m75\u001b[0m \u001b[1m)\u001b[0m  Center Point:   \u001b[1;36m198\u001b[0m  \u001b[1m(\u001b[0m \u001b[1;36m100\u001b[0m \u001b[1m)\u001b[0m  Right Margin:   \u001b[1;36m150\u001b[0m  \u001b[1m(\u001b[0m \u001b[1;36m76\u001b[0m \u001b[1m)\u001b[0m\n"
            ]
          },
          "metadata": {},
          "output_type": "display_data"
        },
        {
          "data": {
            "text/html": [
              "<pre style=\"white-space:pre;overflow-x:auto;line-height:normal;font-family:Menlo,'DejaVu Sans Mono',consolas,'Courier New',monospace\">Byte  <span style=\"color: #008080; text-decoration-color: #008080; font-weight: bold\">1</span>  Nibble <span style=\"color: #008080; text-decoration-color: #008080; font-weight: bold\">1</span>  -   Left Margin:   <span style=\"color: #008080; text-decoration-color: #008080; font-weight: bold\">146</span>  <span style=\"font-weight: bold\">(</span> <span style=\"color: #008080; text-decoration-color: #008080; font-weight: bold\">75</span> <span style=\"font-weight: bold\">)</span>  Center Point:   <span style=\"color: #008080; text-decoration-color: #008080; font-weight: bold\">195</span>  <span style=\"font-weight: bold\">(</span> <span style=\"color: #008080; text-decoration-color: #008080; font-weight: bold\">100</span> <span style=\"font-weight: bold\">)</span>  Right Margin:   <span style=\"color: #008080; text-decoration-color: #008080; font-weight: bold\">148</span>  <span style=\"font-weight: bold\">(</span> <span style=\"color: #008080; text-decoration-color: #008080; font-weight: bold\">76</span> <span style=\"font-weight: bold\">)</span>\n",
              "</pre>\n"
            ],
            "text/plain": [
              "Byte  \u001b[1;36m1\u001b[0m  Nibble \u001b[1;36m1\u001b[0m  -   Left Margin:   \u001b[1;36m146\u001b[0m  \u001b[1m(\u001b[0m \u001b[1;36m75\u001b[0m \u001b[1m)\u001b[0m  Center Point:   \u001b[1;36m195\u001b[0m  \u001b[1m(\u001b[0m \u001b[1;36m100\u001b[0m \u001b[1m)\u001b[0m  Right Margin:   \u001b[1;36m148\u001b[0m  \u001b[1m(\u001b[0m \u001b[1;36m76\u001b[0m \u001b[1m)\u001b[0m\n"
            ]
          },
          "metadata": {},
          "output_type": "display_data"
        },
        {
          "data": {
            "text/html": [
              "<pre style=\"white-space:pre;overflow-x:auto;line-height:normal;font-family:Menlo,'DejaVu Sans Mono',consolas,'Courier New',monospace\">Byte  <span style=\"color: #008080; text-decoration-color: #008080; font-weight: bold\">2</span>  Nibble <span style=\"color: #008080; text-decoration-color: #008080; font-weight: bold\">0</span>  -   Left Margin:   <span style=\"color: #008080; text-decoration-color: #008080; font-weight: bold\">146</span>  <span style=\"font-weight: bold\">(</span> <span style=\"color: #008080; text-decoration-color: #008080; font-weight: bold\">74</span> <span style=\"font-weight: bold\">)</span>  Center Point:   <span style=\"color: #008080; text-decoration-color: #008080; font-weight: bold\">202</span>  <span style=\"font-weight: bold\">(</span> <span style=\"color: #008080; text-decoration-color: #008080; font-weight: bold\">102</span> <span style=\"font-weight: bold\">)</span>  Right Margin:   <span style=\"color: #008080; text-decoration-color: #008080; font-weight: bold\">148</span>  <span style=\"font-weight: bold\">(</span> <span style=\"color: #008080; text-decoration-color: #008080; font-weight: bold\">75</span> <span style=\"font-weight: bold\">)</span>\n",
              "</pre>\n"
            ],
            "text/plain": [
              "Byte  \u001b[1;36m2\u001b[0m  Nibble \u001b[1;36m0\u001b[0m  -   Left Margin:   \u001b[1;36m146\u001b[0m  \u001b[1m(\u001b[0m \u001b[1;36m74\u001b[0m \u001b[1m)\u001b[0m  Center Point:   \u001b[1;36m202\u001b[0m  \u001b[1m(\u001b[0m \u001b[1;36m102\u001b[0m \u001b[1m)\u001b[0m  Right Margin:   \u001b[1;36m148\u001b[0m  \u001b[1m(\u001b[0m \u001b[1;36m75\u001b[0m \u001b[1m)\u001b[0m\n"
            ]
          },
          "metadata": {},
          "output_type": "display_data"
        },
        {
          "data": {
            "text/html": [
              "<pre style=\"white-space:pre;overflow-x:auto;line-height:normal;font-family:Menlo,'DejaVu Sans Mono',consolas,'Courier New',monospace\">Byte  <span style=\"color: #008080; text-decoration-color: #008080; font-weight: bold\">2</span>  Nibble <span style=\"color: #008080; text-decoration-color: #008080; font-weight: bold\">1</span>  -   Left Margin:   <span style=\"color: #008080; text-decoration-color: #008080; font-weight: bold\">146</span>  <span style=\"font-weight: bold\">(</span> <span style=\"color: #008080; text-decoration-color: #008080; font-weight: bold\">75</span> <span style=\"font-weight: bold\">)</span>  Center Point:   <span style=\"color: #008080; text-decoration-color: #008080; font-weight: bold\">199</span>  <span style=\"font-weight: bold\">(</span> <span style=\"color: #008080; text-decoration-color: #008080; font-weight: bold\">102</span> <span style=\"font-weight: bold\">)</span>  Right Margin:   <span style=\"color: #008080; text-decoration-color: #008080; font-weight: bold\">148</span>  <span style=\"font-weight: bold\">(</span> <span style=\"color: #008080; text-decoration-color: #008080; font-weight: bold\">76</span> <span style=\"font-weight: bold\">)</span>\n",
              "</pre>\n"
            ],
            "text/plain": [
              "Byte  \u001b[1;36m2\u001b[0m  Nibble \u001b[1;36m1\u001b[0m  -   Left Margin:   \u001b[1;36m146\u001b[0m  \u001b[1m(\u001b[0m \u001b[1;36m75\u001b[0m \u001b[1m)\u001b[0m  Center Point:   \u001b[1;36m199\u001b[0m  \u001b[1m(\u001b[0m \u001b[1;36m102\u001b[0m \u001b[1m)\u001b[0m  Right Margin:   \u001b[1;36m148\u001b[0m  \u001b[1m(\u001b[0m \u001b[1;36m76\u001b[0m \u001b[1m)\u001b[0m\n"
            ]
          },
          "metadata": {},
          "output_type": "display_data"
        },
        {
          "data": {
            "text/html": [
              "<pre style=\"white-space:pre;overflow-x:auto;line-height:normal;font-family:Menlo,'DejaVu Sans Mono',consolas,'Courier New',monospace\">Byte  <span style=\"color: #008080; text-decoration-color: #008080; font-weight: bold\">3</span>  Nibble <span style=\"color: #008080; text-decoration-color: #008080; font-weight: bold\">0</span>  -   Left Margin:   <span style=\"color: #008080; text-decoration-color: #008080; font-weight: bold\">136</span>  <span style=\"font-weight: bold\">(</span> <span style=\"color: #008080; text-decoration-color: #008080; font-weight: bold\">71</span> <span style=\"font-weight: bold\">)</span>  Center Point:   <span style=\"color: #008080; text-decoration-color: #008080; font-weight: bold\">185</span>  <span style=\"font-weight: bold\">(</span> <span style=\"color: #008080; text-decoration-color: #008080; font-weight: bold\">96</span> <span style=\"font-weight: bold\">)</span>  Right Margin:   <span style=\"color: #008080; text-decoration-color: #008080; font-weight: bold\">136</span>  <span style=\"font-weight: bold\">(</span> <span style=\"color: #008080; text-decoration-color: #008080; font-weight: bold\">71</span> <span style=\"font-weight: bold\">)</span>\n",
              "</pre>\n"
            ],
            "text/plain": [
              "Byte  \u001b[1;36m3\u001b[0m  Nibble \u001b[1;36m0\u001b[0m  -   Left Margin:   \u001b[1;36m136\u001b[0m  \u001b[1m(\u001b[0m \u001b[1;36m71\u001b[0m \u001b[1m)\u001b[0m  Center Point:   \u001b[1;36m185\u001b[0m  \u001b[1m(\u001b[0m \u001b[1;36m96\u001b[0m \u001b[1m)\u001b[0m  Right Margin:   \u001b[1;36m136\u001b[0m  \u001b[1m(\u001b[0m \u001b[1;36m71\u001b[0m \u001b[1m)\u001b[0m\n"
            ]
          },
          "metadata": {},
          "output_type": "display_data"
        },
        {
          "data": {
            "text/html": [
              "<pre style=\"white-space:pre;overflow-x:auto;line-height:normal;font-family:Menlo,'DejaVu Sans Mono',consolas,'Courier New',monospace\">Byte  <span style=\"color: #008080; text-decoration-color: #008080; font-weight: bold\">3</span>  Nibble <span style=\"color: #008080; text-decoration-color: #008080; font-weight: bold\">1</span>  -   Left Margin:   <span style=\"color: #008080; text-decoration-color: #008080; font-weight: bold\">144</span>  <span style=\"font-weight: bold\">(</span> <span style=\"color: #008080; text-decoration-color: #008080; font-weight: bold\">73</span> <span style=\"font-weight: bold\">)</span>  Center Point:   <span style=\"color: #008080; text-decoration-color: #008080; font-weight: bold\">190</span>  <span style=\"font-weight: bold\">(</span> <span style=\"color: #008080; text-decoration-color: #008080; font-weight: bold\">96</span> <span style=\"font-weight: bold\">)</span>  Right Margin:   <span style=\"color: #008080; text-decoration-color: #008080; font-weight: bold\">144</span>  <span style=\"font-weight: bold\">(</span> <span style=\"color: #008080; text-decoration-color: #008080; font-weight: bold\">73</span> <span style=\"font-weight: bold\">)</span>\n",
              "</pre>\n"
            ],
            "text/plain": [
              "Byte  \u001b[1;36m3\u001b[0m  Nibble \u001b[1;36m1\u001b[0m  -   Left Margin:   \u001b[1;36m144\u001b[0m  \u001b[1m(\u001b[0m \u001b[1;36m73\u001b[0m \u001b[1m)\u001b[0m  Center Point:   \u001b[1;36m190\u001b[0m  \u001b[1m(\u001b[0m \u001b[1;36m96\u001b[0m \u001b[1m)\u001b[0m  Right Margin:   \u001b[1;36m144\u001b[0m  \u001b[1m(\u001b[0m \u001b[1;36m73\u001b[0m \u001b[1m)\u001b[0m\n"
            ]
          },
          "metadata": {},
          "output_type": "display_data"
        },
        {
          "data": {
            "text/html": [
              "<pre style=\"white-space:pre;overflow-x:auto;line-height:normal;font-family:Menlo,'DejaVu Sans Mono',consolas,'Courier New',monospace\">Byte  <span style=\"color: #008080; text-decoration-color: #008080; font-weight: bold\">4</span>  Nibble <span style=\"color: #008080; text-decoration-color: #008080; font-weight: bold\">0</span>  -   Left Margin:   <span style=\"color: #008080; text-decoration-color: #008080; font-weight: bold\">144</span>  <span style=\"font-weight: bold\">(</span> <span style=\"color: #008080; text-decoration-color: #008080; font-weight: bold\">73</span> <span style=\"font-weight: bold\">)</span>  Center Point:   <span style=\"color: #008080; text-decoration-color: #008080; font-weight: bold\">182</span>  <span style=\"font-weight: bold\">(</span> <span style=\"color: #008080; text-decoration-color: #008080; font-weight: bold\">92</span> <span style=\"font-weight: bold\">)</span>  Right Margin:   <span style=\"color: #008080; text-decoration-color: #008080; font-weight: bold\">144</span>  <span style=\"font-weight: bold\">(</span> <span style=\"color: #008080; text-decoration-color: #008080; font-weight: bold\">73</span> <span style=\"font-weight: bold\">)</span>\n",
              "</pre>\n"
            ],
            "text/plain": [
              "Byte  \u001b[1;36m4\u001b[0m  Nibble \u001b[1;36m0\u001b[0m  -   Left Margin:   \u001b[1;36m144\u001b[0m  \u001b[1m(\u001b[0m \u001b[1;36m73\u001b[0m \u001b[1m)\u001b[0m  Center Point:   \u001b[1;36m182\u001b[0m  \u001b[1m(\u001b[0m \u001b[1;36m92\u001b[0m \u001b[1m)\u001b[0m  Right Margin:   \u001b[1;36m144\u001b[0m  \u001b[1m(\u001b[0m \u001b[1;36m73\u001b[0m \u001b[1m)\u001b[0m\n"
            ]
          },
          "metadata": {},
          "output_type": "display_data"
        },
        {
          "data": {
            "text/html": [
              "<pre style=\"white-space:pre;overflow-x:auto;line-height:normal;font-family:Menlo,'DejaVu Sans Mono',consolas,'Courier New',monospace\">Byte  <span style=\"color: #008080; text-decoration-color: #008080; font-weight: bold\">4</span>  Nibble <span style=\"color: #008080; text-decoration-color: #008080; font-weight: bold\">1</span>  -   Left Margin:   <span style=\"color: #008080; text-decoration-color: #008080; font-weight: bold\">142</span>  <span style=\"font-weight: bold\">(</span> <span style=\"color: #008080; text-decoration-color: #008080; font-weight: bold\">72</span> <span style=\"font-weight: bold\">)</span>  Center Point:   <span style=\"color: #008080; text-decoration-color: #008080; font-weight: bold\">186</span>  <span style=\"font-weight: bold\">(</span> <span style=\"color: #008080; text-decoration-color: #008080; font-weight: bold\">94</span> <span style=\"font-weight: bold\">)</span>  Right Margin:   <span style=\"color: #008080; text-decoration-color: #008080; font-weight: bold\">142</span>  <span style=\"font-weight: bold\">(</span> <span style=\"color: #008080; text-decoration-color: #008080; font-weight: bold\">72</span> <span style=\"font-weight: bold\">)</span>\n",
              "</pre>\n"
            ],
            "text/plain": [
              "Byte  \u001b[1;36m4\u001b[0m  Nibble \u001b[1;36m1\u001b[0m  -   Left Margin:   \u001b[1;36m142\u001b[0m  \u001b[1m(\u001b[0m \u001b[1;36m72\u001b[0m \u001b[1m)\u001b[0m  Center Point:   \u001b[1;36m186\u001b[0m  \u001b[1m(\u001b[0m \u001b[1;36m94\u001b[0m \u001b[1m)\u001b[0m  Right Margin:   \u001b[1;36m142\u001b[0m  \u001b[1m(\u001b[0m \u001b[1;36m72\u001b[0m \u001b[1m)\u001b[0m\n"
            ]
          },
          "metadata": {},
          "output_type": "display_data"
        },
        {
          "data": {
            "text/html": [
              "<pre style=\"white-space:pre;overflow-x:auto;line-height:normal;font-family:Menlo,'DejaVu Sans Mono',consolas,'Courier New',monospace\">Byte  <span style=\"color: #008080; text-decoration-color: #008080; font-weight: bold\">5</span>  Nibble <span style=\"color: #008080; text-decoration-color: #008080; font-weight: bold\">0</span>  -   Left Margin:   <span style=\"color: #008080; text-decoration-color: #008080; font-weight: bold\">148</span>  <span style=\"font-weight: bold\">(</span> <span style=\"color: #008080; text-decoration-color: #008080; font-weight: bold\">75</span> <span style=\"font-weight: bold\">)</span>  Center Point:   <span style=\"color: #008080; text-decoration-color: #008080; font-weight: bold\">186</span>  <span style=\"font-weight: bold\">(</span> <span style=\"color: #008080; text-decoration-color: #008080; font-weight: bold\">94</span> <span style=\"font-weight: bold\">)</span>  Right Margin:   <span style=\"color: #008080; text-decoration-color: #008080; font-weight: bold\">150</span>  <span style=\"font-weight: bold\">(</span> <span style=\"color: #008080; text-decoration-color: #008080; font-weight: bold\">76</span> <span style=\"font-weight: bold\">)</span>\n",
              "</pre>\n"
            ],
            "text/plain": [
              "Byte  \u001b[1;36m5\u001b[0m  Nibble \u001b[1;36m0\u001b[0m  -   Left Margin:   \u001b[1;36m148\u001b[0m  \u001b[1m(\u001b[0m \u001b[1;36m75\u001b[0m \u001b[1m)\u001b[0m  Center Point:   \u001b[1;36m186\u001b[0m  \u001b[1m(\u001b[0m \u001b[1;36m94\u001b[0m \u001b[1m)\u001b[0m  Right Margin:   \u001b[1;36m150\u001b[0m  \u001b[1m(\u001b[0m \u001b[1;36m76\u001b[0m \u001b[1m)\u001b[0m\n"
            ]
          },
          "metadata": {},
          "output_type": "display_data"
        },
        {
          "data": {
            "text/html": [
              "<pre style=\"white-space:pre;overflow-x:auto;line-height:normal;font-family:Menlo,'DejaVu Sans Mono',consolas,'Courier New',monospace\">Byte  <span style=\"color: #008080; text-decoration-color: #008080; font-weight: bold\">5</span>  Nibble <span style=\"color: #008080; text-decoration-color: #008080; font-weight: bold\">1</span>  -   Left Margin:   <span style=\"color: #008080; text-decoration-color: #008080; font-weight: bold\">146</span>  <span style=\"font-weight: bold\">(</span> <span style=\"color: #008080; text-decoration-color: #008080; font-weight: bold\">72</span> <span style=\"font-weight: bold\">)</span>  Center Point:   <span style=\"color: #008080; text-decoration-color: #008080; font-weight: bold\">189</span>  <span style=\"font-weight: bold\">(</span> <span style=\"color: #008080; text-decoration-color: #008080; font-weight: bold\">93</span> <span style=\"font-weight: bold\">)</span>  Right Margin:   <span style=\"color: #008080; text-decoration-color: #008080; font-weight: bold\">146</span>  <span style=\"font-weight: bold\">(</span> <span style=\"color: #008080; text-decoration-color: #008080; font-weight: bold\">72</span> <span style=\"font-weight: bold\">)</span>\n",
              "</pre>\n"
            ],
            "text/plain": [
              "Byte  \u001b[1;36m5\u001b[0m  Nibble \u001b[1;36m1\u001b[0m  -   Left Margin:   \u001b[1;36m146\u001b[0m  \u001b[1m(\u001b[0m \u001b[1;36m72\u001b[0m \u001b[1m)\u001b[0m  Center Point:   \u001b[1;36m189\u001b[0m  \u001b[1m(\u001b[0m \u001b[1;36m93\u001b[0m \u001b[1m)\u001b[0m  Right Margin:   \u001b[1;36m146\u001b[0m  \u001b[1m(\u001b[0m \u001b[1;36m72\u001b[0m \u001b[1m)\u001b[0m\n"
            ]
          },
          "metadata": {},
          "output_type": "display_data"
        },
        {
          "data": {
            "text/html": [
              "<pre style=\"white-space:pre;overflow-x:auto;line-height:normal;font-family:Menlo,'DejaVu Sans Mono',consolas,'Courier New',monospace\">Byte  <span style=\"color: #008080; text-decoration-color: #008080; font-weight: bold\">6</span>  Nibble <span style=\"color: #008080; text-decoration-color: #008080; font-weight: bold\">0</span>  -   Left Margin:   <span style=\"color: #008080; text-decoration-color: #008080; font-weight: bold\">144</span>  <span style=\"font-weight: bold\">(</span> <span style=\"color: #008080; text-decoration-color: #008080; font-weight: bold\">74</span> <span style=\"font-weight: bold\">)</span>  Center Point:   <span style=\"color: #008080; text-decoration-color: #008080; font-weight: bold\">188</span>  <span style=\"font-weight: bold\">(</span> <span style=\"color: #008080; text-decoration-color: #008080; font-weight: bold\">96</span> <span style=\"font-weight: bold\">)</span>  Right Margin:   <span style=\"color: #008080; text-decoration-color: #008080; font-weight: bold\">146</span>  <span style=\"font-weight: bold\">(</span> <span style=\"color: #008080; text-decoration-color: #008080; font-weight: bold\">75</span> <span style=\"font-weight: bold\">)</span>\n",
              "</pre>\n"
            ],
            "text/plain": [
              "Byte  \u001b[1;36m6\u001b[0m  Nibble \u001b[1;36m0\u001b[0m  -   Left Margin:   \u001b[1;36m144\u001b[0m  \u001b[1m(\u001b[0m \u001b[1;36m74\u001b[0m \u001b[1m)\u001b[0m  Center Point:   \u001b[1;36m188\u001b[0m  \u001b[1m(\u001b[0m \u001b[1;36m96\u001b[0m \u001b[1m)\u001b[0m  Right Margin:   \u001b[1;36m146\u001b[0m  \u001b[1m(\u001b[0m \u001b[1;36m75\u001b[0m \u001b[1m)\u001b[0m\n"
            ]
          },
          "metadata": {},
          "output_type": "display_data"
        },
        {
          "data": {
            "text/html": [
              "<pre style=\"white-space:pre;overflow-x:auto;line-height:normal;font-family:Menlo,'DejaVu Sans Mono',consolas,'Courier New',monospace\">Byte  <span style=\"color: #008080; text-decoration-color: #008080; font-weight: bold\">6</span>  Nibble <span style=\"color: #008080; text-decoration-color: #008080; font-weight: bold\">1</span>  -   Left Margin:   <span style=\"color: #008080; text-decoration-color: #008080; font-weight: bold\">140</span>  <span style=\"font-weight: bold\">(</span> <span style=\"color: #008080; text-decoration-color: #008080; font-weight: bold\">73</span> <span style=\"font-weight: bold\">)</span>  Center Point:   <span style=\"color: #008080; text-decoration-color: #008080; font-weight: bold\">191</span>  <span style=\"font-weight: bold\">(</span> <span style=\"color: #008080; text-decoration-color: #008080; font-weight: bold\">99</span> <span style=\"font-weight: bold\">)</span>  Right Margin:   <span style=\"color: #008080; text-decoration-color: #008080; font-weight: bold\">140</span>  <span style=\"font-weight: bold\">(</span> <span style=\"color: #008080; text-decoration-color: #008080; font-weight: bold\">73</span> <span style=\"font-weight: bold\">)</span>\n",
              "</pre>\n"
            ],
            "text/plain": [
              "Byte  \u001b[1;36m6\u001b[0m  Nibble \u001b[1;36m1\u001b[0m  -   Left Margin:   \u001b[1;36m140\u001b[0m  \u001b[1m(\u001b[0m \u001b[1;36m73\u001b[0m \u001b[1m)\u001b[0m  Center Point:   \u001b[1;36m191\u001b[0m  \u001b[1m(\u001b[0m \u001b[1;36m99\u001b[0m \u001b[1m)\u001b[0m  Right Margin:   \u001b[1;36m140\u001b[0m  \u001b[1m(\u001b[0m \u001b[1;36m73\u001b[0m \u001b[1m)\u001b[0m\n"
            ]
          },
          "metadata": {},
          "output_type": "display_data"
        },
        {
          "data": {
            "text/html": [
              "<pre style=\"white-space:pre;overflow-x:auto;line-height:normal;font-family:Menlo,'DejaVu Sans Mono',consolas,'Courier New',monospace\">Byte  <span style=\"color: #008080; text-decoration-color: #008080; font-weight: bold\">7</span>  Nibble <span style=\"color: #008080; text-decoration-color: #008080; font-weight: bold\">0</span>  -   Left Margin:   <span style=\"color: #008080; text-decoration-color: #008080; font-weight: bold\">148</span>  <span style=\"font-weight: bold\">(</span> <span style=\"color: #008080; text-decoration-color: #008080; font-weight: bold\">74</span> <span style=\"font-weight: bold\">)</span>  Center Point:   <span style=\"color: #008080; text-decoration-color: #008080; font-weight: bold\">190</span>  <span style=\"font-weight: bold\">(</span> <span style=\"color: #008080; text-decoration-color: #008080; font-weight: bold\">95</span> <span style=\"font-weight: bold\">)</span>  Right Margin:   <span style=\"color: #008080; text-decoration-color: #008080; font-weight: bold\">150</span>  <span style=\"font-weight: bold\">(</span> <span style=\"color: #008080; text-decoration-color: #008080; font-weight: bold\">75</span> <span style=\"font-weight: bold\">)</span>\n",
              "</pre>\n"
            ],
            "text/plain": [
              "Byte  \u001b[1;36m7\u001b[0m  Nibble \u001b[1;36m0\u001b[0m  -   Left Margin:   \u001b[1;36m148\u001b[0m  \u001b[1m(\u001b[0m \u001b[1;36m74\u001b[0m \u001b[1m)\u001b[0m  Center Point:   \u001b[1;36m190\u001b[0m  \u001b[1m(\u001b[0m \u001b[1;36m95\u001b[0m \u001b[1m)\u001b[0m  Right Margin:   \u001b[1;36m150\u001b[0m  \u001b[1m(\u001b[0m \u001b[1;36m75\u001b[0m \u001b[1m)\u001b[0m\n"
            ]
          },
          "metadata": {},
          "output_type": "display_data"
        },
        {
          "data": {
            "text/html": [
              "<pre style=\"white-space:pre;overflow-x:auto;line-height:normal;font-family:Menlo,'DejaVu Sans Mono',consolas,'Courier New',monospace\">Byte  <span style=\"color: #008080; text-decoration-color: #008080; font-weight: bold\">7</span>  Nibble <span style=\"color: #008080; text-decoration-color: #008080; font-weight: bold\">1</span>  -   Left Margin:   <span style=\"color: #008080; text-decoration-color: #008080; font-weight: bold\">148</span>  <span style=\"font-weight: bold\">(</span> <span style=\"color: #008080; text-decoration-color: #008080; font-weight: bold\">74</span> <span style=\"font-weight: bold\">)</span>  Center Point:   <span style=\"color: #008080; text-decoration-color: #008080; font-weight: bold\">190</span>  <span style=\"font-weight: bold\">(</span> <span style=\"color: #008080; text-decoration-color: #008080; font-weight: bold\">95</span> <span style=\"font-weight: bold\">)</span>  Right Margin:   <span style=\"color: #008080; text-decoration-color: #008080; font-weight: bold\">150</span>  <span style=\"font-weight: bold\">(</span> <span style=\"color: #008080; text-decoration-color: #008080; font-weight: bold\">75</span> <span style=\"font-weight: bold\">)</span>\n",
              "</pre>\n"
            ],
            "text/plain": [
              "Byte  \u001b[1;36m7\u001b[0m  Nibble \u001b[1;36m1\u001b[0m  -   Left Margin:   \u001b[1;36m148\u001b[0m  \u001b[1m(\u001b[0m \u001b[1;36m74\u001b[0m \u001b[1m)\u001b[0m  Center Point:   \u001b[1;36m190\u001b[0m  \u001b[1m(\u001b[0m \u001b[1;36m95\u001b[0m \u001b[1m)\u001b[0m  Right Margin:   \u001b[1;36m150\u001b[0m  \u001b[1m(\u001b[0m \u001b[1;36m75\u001b[0m \u001b[1m)\u001b[0m\n"
            ]
          },
          "metadata": {},
          "output_type": "display_data"
        },
        {
          "data": {
            "text/html": [
              "<pre style=\"white-space:pre;overflow-x:auto;line-height:normal;font-family:Menlo,'DejaVu Sans Mono',consolas,'Courier New',monospace\">\n",
              " Frequency <span style=\"color: #008080; text-decoration-color: #008080; font-weight: bold\">0</span>  - Read Margin - Complex Pattern - Rising Edge Clock in pS and <span style=\"font-weight: bold\">(</span>delay taps<span style=\"font-weight: bold\">)</span>:\n",
              "\n",
              "</pre>\n"
            ],
            "text/plain": [
              "\n",
              " Frequency \u001b[1;36m0\u001b[0m  - Read Margin - Complex Pattern - Rising Edge Clock in pS and \u001b[1m(\u001b[0mdelay taps\u001b[1m)\u001b[0m:\n",
              "\n"
            ]
          },
          "metadata": {},
          "output_type": "display_data"
        },
        {
          "data": {
            "text/html": [
              "<pre style=\"white-space:pre;overflow-x:auto;line-height:normal;font-family:Menlo,'DejaVu Sans Mono',consolas,'Courier New',monospace\">Byte  <span style=\"color: #008080; text-decoration-color: #008080; font-weight: bold\">0</span>  Nibble <span style=\"color: #008080; text-decoration-color: #008080; font-weight: bold\">0</span>  -   Left Margin:   <span style=\"color: #008080; text-decoration-color: #008080; font-weight: bold\">136</span>  <span style=\"font-weight: bold\">(</span> <span style=\"color: #008080; text-decoration-color: #008080; font-weight: bold\">69</span> <span style=\"font-weight: bold\">)</span>  Center Point:   <span style=\"color: #008080; text-decoration-color: #008080; font-weight: bold\">180</span>  <span style=\"font-weight: bold\">(</span> <span style=\"color: #008080; text-decoration-color: #008080; font-weight: bold\">91</span> <span style=\"font-weight: bold\">)</span>  Right Margin:   <span style=\"color: #008080; text-decoration-color: #008080; font-weight: bold\">138</span>  <span style=\"font-weight: bold\">(</span> <span style=\"color: #008080; text-decoration-color: #008080; font-weight: bold\">70</span> <span style=\"font-weight: bold\">)</span>\n",
              "</pre>\n"
            ],
            "text/plain": [
              "Byte  \u001b[1;36m0\u001b[0m  Nibble \u001b[1;36m0\u001b[0m  -   Left Margin:   \u001b[1;36m136\u001b[0m  \u001b[1m(\u001b[0m \u001b[1;36m69\u001b[0m \u001b[1m)\u001b[0m  Center Point:   \u001b[1;36m180\u001b[0m  \u001b[1m(\u001b[0m \u001b[1;36m91\u001b[0m \u001b[1m)\u001b[0m  Right Margin:   \u001b[1;36m138\u001b[0m  \u001b[1m(\u001b[0m \u001b[1;36m70\u001b[0m \u001b[1m)\u001b[0m\n"
            ]
          },
          "metadata": {},
          "output_type": "display_data"
        },
        {
          "data": {
            "text/html": [
              "<pre style=\"white-space:pre;overflow-x:auto;line-height:normal;font-family:Menlo,'DejaVu Sans Mono',consolas,'Courier New',monospace\">Byte  <span style=\"color: #008080; text-decoration-color: #008080; font-weight: bold\">0</span>  Nibble <span style=\"color: #008080; text-decoration-color: #008080; font-weight: bold\">1</span>  -   Left Margin:   <span style=\"color: #008080; text-decoration-color: #008080; font-weight: bold\">134</span>  <span style=\"font-weight: bold\">(</span> <span style=\"color: #008080; text-decoration-color: #008080; font-weight: bold\">69</span> <span style=\"font-weight: bold\">)</span>  Center Point:   <span style=\"color: #008080; text-decoration-color: #008080; font-weight: bold\">184</span>  <span style=\"font-weight: bold\">(</span> <span style=\"color: #008080; text-decoration-color: #008080; font-weight: bold\">94</span> <span style=\"font-weight: bold\">)</span>  Right Margin:   <span style=\"color: #008080; text-decoration-color: #008080; font-weight: bold\">134</span>  <span style=\"font-weight: bold\">(</span> <span style=\"color: #008080; text-decoration-color: #008080; font-weight: bold\">69</span> <span style=\"font-weight: bold\">)</span>\n",
              "</pre>\n"
            ],
            "text/plain": [
              "Byte  \u001b[1;36m0\u001b[0m  Nibble \u001b[1;36m1\u001b[0m  -   Left Margin:   \u001b[1;36m134\u001b[0m  \u001b[1m(\u001b[0m \u001b[1;36m69\u001b[0m \u001b[1m)\u001b[0m  Center Point:   \u001b[1;36m184\u001b[0m  \u001b[1m(\u001b[0m \u001b[1;36m94\u001b[0m \u001b[1m)\u001b[0m  Right Margin:   \u001b[1;36m134\u001b[0m  \u001b[1m(\u001b[0m \u001b[1;36m69\u001b[0m \u001b[1m)\u001b[0m\n"
            ]
          },
          "metadata": {},
          "output_type": "display_data"
        },
        {
          "data": {
            "text/html": [
              "<pre style=\"white-space:pre;overflow-x:auto;line-height:normal;font-family:Menlo,'DejaVu Sans Mono',consolas,'Courier New',monospace\">Byte  <span style=\"color: #008080; text-decoration-color: #008080; font-weight: bold\">1</span>  Nibble <span style=\"color: #008080; text-decoration-color: #008080; font-weight: bold\">0</span>  -   Left Margin:   <span style=\"color: #008080; text-decoration-color: #008080; font-weight: bold\">129</span>  <span style=\"font-weight: bold\">(</span> <span style=\"color: #008080; text-decoration-color: #008080; font-weight: bold\">67</span> <span style=\"font-weight: bold\">)</span>  Center Point:   <span style=\"color: #008080; text-decoration-color: #008080; font-weight: bold\">172</span>  <span style=\"font-weight: bold\">(</span> <span style=\"color: #008080; text-decoration-color: #008080; font-weight: bold\">89</span> <span style=\"font-weight: bold\">)</span>  Right Margin:   <span style=\"color: #008080; text-decoration-color: #008080; font-weight: bold\">129</span>  <span style=\"font-weight: bold\">(</span> <span style=\"color: #008080; text-decoration-color: #008080; font-weight: bold\">67</span> <span style=\"font-weight: bold\">)</span>\n",
              "</pre>\n"
            ],
            "text/plain": [
              "Byte  \u001b[1;36m1\u001b[0m  Nibble \u001b[1;36m0\u001b[0m  -   Left Margin:   \u001b[1;36m129\u001b[0m  \u001b[1m(\u001b[0m \u001b[1;36m67\u001b[0m \u001b[1m)\u001b[0m  Center Point:   \u001b[1;36m172\u001b[0m  \u001b[1m(\u001b[0m \u001b[1;36m89\u001b[0m \u001b[1m)\u001b[0m  Right Margin:   \u001b[1;36m129\u001b[0m  \u001b[1m(\u001b[0m \u001b[1;36m67\u001b[0m \u001b[1m)\u001b[0m\n"
            ]
          },
          "metadata": {},
          "output_type": "display_data"
        },
        {
          "data": {
            "text/html": [
              "<pre style=\"white-space:pre;overflow-x:auto;line-height:normal;font-family:Menlo,'DejaVu Sans Mono',consolas,'Courier New',monospace\">Byte  <span style=\"color: #008080; text-decoration-color: #008080; font-weight: bold\">1</span>  Nibble <span style=\"color: #008080; text-decoration-color: #008080; font-weight: bold\">1</span>  -   Left Margin:   <span style=\"color: #008080; text-decoration-color: #008080; font-weight: bold\">132</span>  <span style=\"font-weight: bold\">(</span> <span style=\"color: #008080; text-decoration-color: #008080; font-weight: bold\">67</span> <span style=\"font-weight: bold\">)</span>  Center Point:   <span style=\"color: #008080; text-decoration-color: #008080; font-weight: bold\">180</span>  <span style=\"font-weight: bold\">(</span> <span style=\"color: #008080; text-decoration-color: #008080; font-weight: bold\">91</span> <span style=\"font-weight: bold\">)</span>  Right Margin:   <span style=\"color: #008080; text-decoration-color: #008080; font-weight: bold\">132</span>  <span style=\"font-weight: bold\">(</span> <span style=\"color: #008080; text-decoration-color: #008080; font-weight: bold\">67</span> <span style=\"font-weight: bold\">)</span>\n",
              "</pre>\n"
            ],
            "text/plain": [
              "Byte  \u001b[1;36m1\u001b[0m  Nibble \u001b[1;36m1\u001b[0m  -   Left Margin:   \u001b[1;36m132\u001b[0m  \u001b[1m(\u001b[0m \u001b[1;36m67\u001b[0m \u001b[1m)\u001b[0m  Center Point:   \u001b[1;36m180\u001b[0m  \u001b[1m(\u001b[0m \u001b[1;36m91\u001b[0m \u001b[1m)\u001b[0m  Right Margin:   \u001b[1;36m132\u001b[0m  \u001b[1m(\u001b[0m \u001b[1;36m67\u001b[0m \u001b[1m)\u001b[0m\n"
            ]
          },
          "metadata": {},
          "output_type": "display_data"
        },
        {
          "data": {
            "text/html": [
              "<pre style=\"white-space:pre;overflow-x:auto;line-height:normal;font-family:Menlo,'DejaVu Sans Mono',consolas,'Courier New',monospace\">Byte  <span style=\"color: #008080; text-decoration-color: #008080; font-weight: bold\">2</span>  Nibble <span style=\"color: #008080; text-decoration-color: #008080; font-weight: bold\">0</span>  -   Left Margin:   <span style=\"color: #008080; text-decoration-color: #008080; font-weight: bold\">130</span>  <span style=\"font-weight: bold\">(</span> <span style=\"color: #008080; text-decoration-color: #008080; font-weight: bold\">66</span> <span style=\"font-weight: bold\">)</span>  Center Point:   <span style=\"color: #008080; text-decoration-color: #008080; font-weight: bold\">178</span>  <span style=\"font-weight: bold\">(</span> <span style=\"color: #008080; text-decoration-color: #008080; font-weight: bold\">90</span> <span style=\"font-weight: bold\">)</span>  Right Margin:   <span style=\"color: #008080; text-decoration-color: #008080; font-weight: bold\">130</span>  <span style=\"font-weight: bold\">(</span> <span style=\"color: #008080; text-decoration-color: #008080; font-weight: bold\">66</span> <span style=\"font-weight: bold\">)</span>\n",
              "</pre>\n"
            ],
            "text/plain": [
              "Byte  \u001b[1;36m2\u001b[0m  Nibble \u001b[1;36m0\u001b[0m  -   Left Margin:   \u001b[1;36m130\u001b[0m  \u001b[1m(\u001b[0m \u001b[1;36m66\u001b[0m \u001b[1m)\u001b[0m  Center Point:   \u001b[1;36m178\u001b[0m  \u001b[1m(\u001b[0m \u001b[1;36m90\u001b[0m \u001b[1m)\u001b[0m  Right Margin:   \u001b[1;36m130\u001b[0m  \u001b[1m(\u001b[0m \u001b[1;36m66\u001b[0m \u001b[1m)\u001b[0m\n"
            ]
          },
          "metadata": {},
          "output_type": "display_data"
        },
        {
          "data": {
            "text/html": [
              "<pre style=\"white-space:pre;overflow-x:auto;line-height:normal;font-family:Menlo,'DejaVu Sans Mono',consolas,'Courier New',monospace\">Byte  <span style=\"color: #008080; text-decoration-color: #008080; font-weight: bold\">2</span>  Nibble <span style=\"color: #008080; text-decoration-color: #008080; font-weight: bold\">1</span>  -   Left Margin:   <span style=\"color: #008080; text-decoration-color: #008080; font-weight: bold\">127</span>  <span style=\"font-weight: bold\">(</span> <span style=\"color: #008080; text-decoration-color: #008080; font-weight: bold\">66</span> <span style=\"font-weight: bold\">)</span>  Center Point:   <span style=\"color: #008080; text-decoration-color: #008080; font-weight: bold\">172</span>  <span style=\"font-weight: bold\">(</span> <span style=\"color: #008080; text-decoration-color: #008080; font-weight: bold\">89</span> <span style=\"font-weight: bold\">)</span>  Right Margin:   <span style=\"color: #008080; text-decoration-color: #008080; font-weight: bold\">127</span>  <span style=\"font-weight: bold\">(</span> <span style=\"color: #008080; text-decoration-color: #008080; font-weight: bold\">66</span> <span style=\"font-weight: bold\">)</span>\n",
              "</pre>\n"
            ],
            "text/plain": [
              "Byte  \u001b[1;36m2\u001b[0m  Nibble \u001b[1;36m1\u001b[0m  -   Left Margin:   \u001b[1;36m127\u001b[0m  \u001b[1m(\u001b[0m \u001b[1;36m66\u001b[0m \u001b[1m)\u001b[0m  Center Point:   \u001b[1;36m172\u001b[0m  \u001b[1m(\u001b[0m \u001b[1;36m89\u001b[0m \u001b[1m)\u001b[0m  Right Margin:   \u001b[1;36m127\u001b[0m  \u001b[1m(\u001b[0m \u001b[1;36m66\u001b[0m \u001b[1m)\u001b[0m\n"
            ]
          },
          "metadata": {},
          "output_type": "display_data"
        },
        {
          "data": {
            "text/html": [
              "<pre style=\"white-space:pre;overflow-x:auto;line-height:normal;font-family:Menlo,'DejaVu Sans Mono',consolas,'Courier New',monospace\">Byte  <span style=\"color: #008080; text-decoration-color: #008080; font-weight: bold\">3</span>  Nibble <span style=\"color: #008080; text-decoration-color: #008080; font-weight: bold\">0</span>  -   Left Margin:   <span style=\"color: #008080; text-decoration-color: #008080; font-weight: bold\">132</span>  <span style=\"font-weight: bold\">(</span> <span style=\"color: #008080; text-decoration-color: #008080; font-weight: bold\">67</span> <span style=\"font-weight: bold\">)</span>  Center Point:   <span style=\"color: #008080; text-decoration-color: #008080; font-weight: bold\">176</span>  <span style=\"font-weight: bold\">(</span> <span style=\"color: #008080; text-decoration-color: #008080; font-weight: bold\">89</span> <span style=\"font-weight: bold\">)</span>  Right Margin:   <span style=\"color: #008080; text-decoration-color: #008080; font-weight: bold\">134</span>  <span style=\"font-weight: bold\">(</span> <span style=\"color: #008080; text-decoration-color: #008080; font-weight: bold\">68</span> <span style=\"font-weight: bold\">)</span>\n",
              "</pre>\n"
            ],
            "text/plain": [
              "Byte  \u001b[1;36m3\u001b[0m  Nibble \u001b[1;36m0\u001b[0m  -   Left Margin:   \u001b[1;36m132\u001b[0m  \u001b[1m(\u001b[0m \u001b[1;36m67\u001b[0m \u001b[1m)\u001b[0m  Center Point:   \u001b[1;36m176\u001b[0m  \u001b[1m(\u001b[0m \u001b[1;36m89\u001b[0m \u001b[1m)\u001b[0m  Right Margin:   \u001b[1;36m134\u001b[0m  \u001b[1m(\u001b[0m \u001b[1;36m68\u001b[0m \u001b[1m)\u001b[0m\n"
            ]
          },
          "metadata": {},
          "output_type": "display_data"
        },
        {
          "data": {
            "text/html": [
              "<pre style=\"white-space:pre;overflow-x:auto;line-height:normal;font-family:Menlo,'DejaVu Sans Mono',consolas,'Courier New',monospace\">Byte  <span style=\"color: #008080; text-decoration-color: #008080; font-weight: bold\">3</span>  Nibble <span style=\"color: #008080; text-decoration-color: #008080; font-weight: bold\">1</span>  -   Left Margin:   <span style=\"color: #008080; text-decoration-color: #008080; font-weight: bold\">146</span>  <span style=\"font-weight: bold\">(</span> <span style=\"color: #008080; text-decoration-color: #008080; font-weight: bold\">74</span> <span style=\"font-weight: bold\">)</span>  Center Point:   <span style=\"color: #008080; text-decoration-color: #008080; font-weight: bold\">190</span>  <span style=\"font-weight: bold\">(</span> <span style=\"color: #008080; text-decoration-color: #008080; font-weight: bold\">96</span> <span style=\"font-weight: bold\">)</span>  Right Margin:   <span style=\"color: #008080; text-decoration-color: #008080; font-weight: bold\">148</span>  <span style=\"font-weight: bold\">(</span> <span style=\"color: #008080; text-decoration-color: #008080; font-weight: bold\">75</span> <span style=\"font-weight: bold\">)</span>\n",
              "</pre>\n"
            ],
            "text/plain": [
              "Byte  \u001b[1;36m3\u001b[0m  Nibble \u001b[1;36m1\u001b[0m  -   Left Margin:   \u001b[1;36m146\u001b[0m  \u001b[1m(\u001b[0m \u001b[1;36m74\u001b[0m \u001b[1m)\u001b[0m  Center Point:   \u001b[1;36m190\u001b[0m  \u001b[1m(\u001b[0m \u001b[1;36m96\u001b[0m \u001b[1m)\u001b[0m  Right Margin:   \u001b[1;36m148\u001b[0m  \u001b[1m(\u001b[0m \u001b[1;36m75\u001b[0m \u001b[1m)\u001b[0m\n"
            ]
          },
          "metadata": {},
          "output_type": "display_data"
        },
        {
          "data": {
            "text/html": [
              "<pre style=\"white-space:pre;overflow-x:auto;line-height:normal;font-family:Menlo,'DejaVu Sans Mono',consolas,'Courier New',monospace\">Byte  <span style=\"color: #008080; text-decoration-color: #008080; font-weight: bold\">4</span>  Nibble <span style=\"color: #008080; text-decoration-color: #008080; font-weight: bold\">0</span>  -   Left Margin:   <span style=\"color: #008080; text-decoration-color: #008080; font-weight: bold\">128</span>  <span style=\"font-weight: bold\">(</span> <span style=\"color: #008080; text-decoration-color: #008080; font-weight: bold\">66</span> <span style=\"font-weight: bold\">)</span>  Center Point:   <span style=\"color: #008080; text-decoration-color: #008080; font-weight: bold\">172</span>  <span style=\"font-weight: bold\">(</span> <span style=\"color: #008080; text-decoration-color: #008080; font-weight: bold\">88</span> <span style=\"font-weight: bold\">)</span>  Right Margin:   <span style=\"color: #008080; text-decoration-color: #008080; font-weight: bold\">128</span>  <span style=\"font-weight: bold\">(</span> <span style=\"color: #008080; text-decoration-color: #008080; font-weight: bold\">66</span> <span style=\"font-weight: bold\">)</span>\n",
              "</pre>\n"
            ],
            "text/plain": [
              "Byte  \u001b[1;36m4\u001b[0m  Nibble \u001b[1;36m0\u001b[0m  -   Left Margin:   \u001b[1;36m128\u001b[0m  \u001b[1m(\u001b[0m \u001b[1;36m66\u001b[0m \u001b[1m)\u001b[0m  Center Point:   \u001b[1;36m172\u001b[0m  \u001b[1m(\u001b[0m \u001b[1;36m88\u001b[0m \u001b[1m)\u001b[0m  Right Margin:   \u001b[1;36m128\u001b[0m  \u001b[1m(\u001b[0m \u001b[1;36m66\u001b[0m \u001b[1m)\u001b[0m\n"
            ]
          },
          "metadata": {},
          "output_type": "display_data"
        },
        {
          "data": {
            "text/html": [
              "<pre style=\"white-space:pre;overflow-x:auto;line-height:normal;font-family:Menlo,'DejaVu Sans Mono',consolas,'Courier New',monospace\">Byte  <span style=\"color: #008080; text-decoration-color: #008080; font-weight: bold\">4</span>  Nibble <span style=\"color: #008080; text-decoration-color: #008080; font-weight: bold\">1</span>  -   Left Margin:   <span style=\"color: #008080; text-decoration-color: #008080; font-weight: bold\">128</span>  <span style=\"font-weight: bold\">(</span> <span style=\"color: #008080; text-decoration-color: #008080; font-weight: bold\">65</span> <span style=\"font-weight: bold\">)</span>  Center Point:   <span style=\"color: #008080; text-decoration-color: #008080; font-weight: bold\">182</span>  <span style=\"font-weight: bold\">(</span> <span style=\"color: #008080; text-decoration-color: #008080; font-weight: bold\">92</span> <span style=\"font-weight: bold\">)</span>  Right Margin:   <span style=\"color: #008080; text-decoration-color: #008080; font-weight: bold\">128</span>  <span style=\"font-weight: bold\">(</span> <span style=\"color: #008080; text-decoration-color: #008080; font-weight: bold\">65</span> <span style=\"font-weight: bold\">)</span>\n",
              "</pre>\n"
            ],
            "text/plain": [
              "Byte  \u001b[1;36m4\u001b[0m  Nibble \u001b[1;36m1\u001b[0m  -   Left Margin:   \u001b[1;36m128\u001b[0m  \u001b[1m(\u001b[0m \u001b[1;36m65\u001b[0m \u001b[1m)\u001b[0m  Center Point:   \u001b[1;36m182\u001b[0m  \u001b[1m(\u001b[0m \u001b[1;36m92\u001b[0m \u001b[1m)\u001b[0m  Right Margin:   \u001b[1;36m128\u001b[0m  \u001b[1m(\u001b[0m \u001b[1;36m65\u001b[0m \u001b[1m)\u001b[0m\n"
            ]
          },
          "metadata": {},
          "output_type": "display_data"
        },
        {
          "data": {
            "text/html": [
              "<pre style=\"white-space:pre;overflow-x:auto;line-height:normal;font-family:Menlo,'DejaVu Sans Mono',consolas,'Courier New',monospace\">Byte  <span style=\"color: #008080; text-decoration-color: #008080; font-weight: bold\">5</span>  Nibble <span style=\"color: #008080; text-decoration-color: #008080; font-weight: bold\">0</span>  -   Left Margin:   <span style=\"color: #008080; text-decoration-color: #008080; font-weight: bold\">132</span>  <span style=\"font-weight: bold\">(</span> <span style=\"color: #008080; text-decoration-color: #008080; font-weight: bold\">68</span> <span style=\"font-weight: bold\">)</span>  Center Point:   <span style=\"color: #008080; text-decoration-color: #008080; font-weight: bold\">176</span>  <span style=\"font-weight: bold\">(</span> <span style=\"color: #008080; text-decoration-color: #008080; font-weight: bold\">90</span> <span style=\"font-weight: bold\">)</span>  Right Margin:   <span style=\"color: #008080; text-decoration-color: #008080; font-weight: bold\">132</span>  <span style=\"font-weight: bold\">(</span> <span style=\"color: #008080; text-decoration-color: #008080; font-weight: bold\">68</span> <span style=\"font-weight: bold\">)</span>\n",
              "</pre>\n"
            ],
            "text/plain": [
              "Byte  \u001b[1;36m5\u001b[0m  Nibble \u001b[1;36m0\u001b[0m  -   Left Margin:   \u001b[1;36m132\u001b[0m  \u001b[1m(\u001b[0m \u001b[1;36m68\u001b[0m \u001b[1m)\u001b[0m  Center Point:   \u001b[1;36m176\u001b[0m  \u001b[1m(\u001b[0m \u001b[1;36m90\u001b[0m \u001b[1m)\u001b[0m  Right Margin:   \u001b[1;36m132\u001b[0m  \u001b[1m(\u001b[0m \u001b[1;36m68\u001b[0m \u001b[1m)\u001b[0m\n"
            ]
          },
          "metadata": {},
          "output_type": "display_data"
        },
        {
          "data": {
            "text/html": [
              "<pre style=\"white-space:pre;overflow-x:auto;line-height:normal;font-family:Menlo,'DejaVu Sans Mono',consolas,'Courier New',monospace\">Byte  <span style=\"color: #008080; text-decoration-color: #008080; font-weight: bold\">5</span>  Nibble <span style=\"color: #008080; text-decoration-color: #008080; font-weight: bold\">1</span>  -   Left Margin:   <span style=\"color: #008080; text-decoration-color: #008080; font-weight: bold\">142</span>  <span style=\"font-weight: bold\">(</span> <span style=\"color: #008080; text-decoration-color: #008080; font-weight: bold\">70</span> <span style=\"font-weight: bold\">)</span>  Center Point:   <span style=\"color: #008080; text-decoration-color: #008080; font-weight: bold\">187</span>  <span style=\"font-weight: bold\">(</span> <span style=\"color: #008080; text-decoration-color: #008080; font-weight: bold\">92</span> <span style=\"font-weight: bold\">)</span>  Right Margin:   <span style=\"color: #008080; text-decoration-color: #008080; font-weight: bold\">142</span>  <span style=\"font-weight: bold\">(</span> <span style=\"color: #008080; text-decoration-color: #008080; font-weight: bold\">70</span> <span style=\"font-weight: bold\">)</span>\n",
              "</pre>\n"
            ],
            "text/plain": [
              "Byte  \u001b[1;36m5\u001b[0m  Nibble \u001b[1;36m1\u001b[0m  -   Left Margin:   \u001b[1;36m142\u001b[0m  \u001b[1m(\u001b[0m \u001b[1;36m70\u001b[0m \u001b[1m)\u001b[0m  Center Point:   \u001b[1;36m187\u001b[0m  \u001b[1m(\u001b[0m \u001b[1;36m92\u001b[0m \u001b[1m)\u001b[0m  Right Margin:   \u001b[1;36m142\u001b[0m  \u001b[1m(\u001b[0m \u001b[1;36m70\u001b[0m \u001b[1m)\u001b[0m\n"
            ]
          },
          "metadata": {},
          "output_type": "display_data"
        },
        {
          "data": {
            "text/html": [
              "<pre style=\"white-space:pre;overflow-x:auto;line-height:normal;font-family:Menlo,'DejaVu Sans Mono',consolas,'Courier New',monospace\">Byte  <span style=\"color: #008080; text-decoration-color: #008080; font-weight: bold\">6</span>  Nibble <span style=\"color: #008080; text-decoration-color: #008080; font-weight: bold\">0</span>  -   Left Margin:   <span style=\"color: #008080; text-decoration-color: #008080; font-weight: bold\">134</span>  <span style=\"font-weight: bold\">(</span> <span style=\"color: #008080; text-decoration-color: #008080; font-weight: bold\">68</span> <span style=\"font-weight: bold\">)</span>  Center Point:   <span style=\"color: #008080; text-decoration-color: #008080; font-weight: bold\">178</span>  <span style=\"font-weight: bold\">(</span> <span style=\"color: #008080; text-decoration-color: #008080; font-weight: bold\">90</span> <span style=\"font-weight: bold\">)</span>  Right Margin:   <span style=\"color: #008080; text-decoration-color: #008080; font-weight: bold\">136</span>  <span style=\"font-weight: bold\">(</span> <span style=\"color: #008080; text-decoration-color: #008080; font-weight: bold\">69</span> <span style=\"font-weight: bold\">)</span>\n",
              "</pre>\n"
            ],
            "text/plain": [
              "Byte  \u001b[1;36m6\u001b[0m  Nibble \u001b[1;36m0\u001b[0m  -   Left Margin:   \u001b[1;36m134\u001b[0m  \u001b[1m(\u001b[0m \u001b[1;36m68\u001b[0m \u001b[1m)\u001b[0m  Center Point:   \u001b[1;36m178\u001b[0m  \u001b[1m(\u001b[0m \u001b[1;36m90\u001b[0m \u001b[1m)\u001b[0m  Right Margin:   \u001b[1;36m136\u001b[0m  \u001b[1m(\u001b[0m \u001b[1;36m69\u001b[0m \u001b[1m)\u001b[0m\n"
            ]
          },
          "metadata": {},
          "output_type": "display_data"
        },
        {
          "data": {
            "text/html": [
              "<pre style=\"white-space:pre;overflow-x:auto;line-height:normal;font-family:Menlo,'DejaVu Sans Mono',consolas,'Courier New',monospace\">Byte  <span style=\"color: #008080; text-decoration-color: #008080; font-weight: bold\">6</span>  Nibble <span style=\"color: #008080; text-decoration-color: #008080; font-weight: bold\">1</span>  -   Left Margin:   <span style=\"color: #008080; text-decoration-color: #008080; font-weight: bold\">138</span>  <span style=\"font-weight: bold\">(</span> <span style=\"color: #008080; text-decoration-color: #008080; font-weight: bold\">71</span> <span style=\"font-weight: bold\">)</span>  Center Point:   <span style=\"color: #008080; text-decoration-color: #008080; font-weight: bold\">186</span>  <span style=\"font-weight: bold\">(</span> <span style=\"color: #008080; text-decoration-color: #008080; font-weight: bold\">95</span> <span style=\"font-weight: bold\">)</span>  Right Margin:   <span style=\"color: #008080; text-decoration-color: #008080; font-weight: bold\">140</span>  <span style=\"font-weight: bold\">(</span> <span style=\"color: #008080; text-decoration-color: #008080; font-weight: bold\">72</span> <span style=\"font-weight: bold\">)</span>\n",
              "</pre>\n"
            ],
            "text/plain": [
              "Byte  \u001b[1;36m6\u001b[0m  Nibble \u001b[1;36m1\u001b[0m  -   Left Margin:   \u001b[1;36m138\u001b[0m  \u001b[1m(\u001b[0m \u001b[1;36m71\u001b[0m \u001b[1m)\u001b[0m  Center Point:   \u001b[1;36m186\u001b[0m  \u001b[1m(\u001b[0m \u001b[1;36m95\u001b[0m \u001b[1m)\u001b[0m  Right Margin:   \u001b[1;36m140\u001b[0m  \u001b[1m(\u001b[0m \u001b[1;36m72\u001b[0m \u001b[1m)\u001b[0m\n"
            ]
          },
          "metadata": {},
          "output_type": "display_data"
        },
        {
          "data": {
            "text/html": [
              "<pre style=\"white-space:pre;overflow-x:auto;line-height:normal;font-family:Menlo,'DejaVu Sans Mono',consolas,'Courier New',monospace\">Byte  <span style=\"color: #008080; text-decoration-color: #008080; font-weight: bold\">7</span>  Nibble <span style=\"color: #008080; text-decoration-color: #008080; font-weight: bold\">0</span>  -   Left Margin:   <span style=\"color: #008080; text-decoration-color: #008080; font-weight: bold\">135</span>  <span style=\"font-weight: bold\">(</span> <span style=\"color: #008080; text-decoration-color: #008080; font-weight: bold\">70</span> <span style=\"font-weight: bold\">)</span>  Center Point:   <span style=\"color: #008080; text-decoration-color: #008080; font-weight: bold\">177</span>  <span style=\"font-weight: bold\">(</span> <span style=\"color: #008080; text-decoration-color: #008080; font-weight: bold\">92</span> <span style=\"font-weight: bold\">)</span>  Right Margin:   <span style=\"color: #008080; text-decoration-color: #008080; font-weight: bold\">136</span>  <span style=\"font-weight: bold\">(</span> <span style=\"color: #008080; text-decoration-color: #008080; font-weight: bold\">71</span> <span style=\"font-weight: bold\">)</span>\n",
              "</pre>\n"
            ],
            "text/plain": [
              "Byte  \u001b[1;36m7\u001b[0m  Nibble \u001b[1;36m0\u001b[0m  -   Left Margin:   \u001b[1;36m135\u001b[0m  \u001b[1m(\u001b[0m \u001b[1;36m70\u001b[0m \u001b[1m)\u001b[0m  Center Point:   \u001b[1;36m177\u001b[0m  \u001b[1m(\u001b[0m \u001b[1;36m92\u001b[0m \u001b[1m)\u001b[0m  Right Margin:   \u001b[1;36m136\u001b[0m  \u001b[1m(\u001b[0m \u001b[1;36m71\u001b[0m \u001b[1m)\u001b[0m\n"
            ]
          },
          "metadata": {},
          "output_type": "display_data"
        },
        {
          "data": {
            "text/html": [
              "<pre style=\"white-space:pre;overflow-x:auto;line-height:normal;font-family:Menlo,'DejaVu Sans Mono',consolas,'Courier New',monospace\">Byte  <span style=\"color: #008080; text-decoration-color: #008080; font-weight: bold\">7</span>  Nibble <span style=\"color: #008080; text-decoration-color: #008080; font-weight: bold\">1</span>  -   Left Margin:   <span style=\"color: #008080; text-decoration-color: #008080; font-weight: bold\">136</span>  <span style=\"font-weight: bold\">(</span> <span style=\"color: #008080; text-decoration-color: #008080; font-weight: bold\">69</span> <span style=\"font-weight: bold\">)</span>  Center Point:   <span style=\"color: #008080; text-decoration-color: #008080; font-weight: bold\">182</span>  <span style=\"font-weight: bold\">(</span> <span style=\"color: #008080; text-decoration-color: #008080; font-weight: bold\">92</span> <span style=\"font-weight: bold\">)</span>  Right Margin:   <span style=\"color: #008080; text-decoration-color: #008080; font-weight: bold\">138</span>  <span style=\"font-weight: bold\">(</span> <span style=\"color: #008080; text-decoration-color: #008080; font-weight: bold\">70</span> <span style=\"font-weight: bold\">)</span>\n",
              "</pre>\n"
            ],
            "text/plain": [
              "Byte  \u001b[1;36m7\u001b[0m  Nibble \u001b[1;36m1\u001b[0m  -   Left Margin:   \u001b[1;36m136\u001b[0m  \u001b[1m(\u001b[0m \u001b[1;36m69\u001b[0m \u001b[1m)\u001b[0m  Center Point:   \u001b[1;36m182\u001b[0m  \u001b[1m(\u001b[0m \u001b[1;36m92\u001b[0m \u001b[1m)\u001b[0m  Right Margin:   \u001b[1;36m138\u001b[0m  \u001b[1m(\u001b[0m \u001b[1;36m70\u001b[0m \u001b[1m)\u001b[0m\n"
            ]
          },
          "metadata": {},
          "output_type": "display_data"
        },
        {
          "data": {
            "text/html": [
              "<pre style=\"white-space:pre;overflow-x:auto;line-height:normal;font-family:Menlo,'DejaVu Sans Mono',consolas,'Courier New',monospace\">\n",
              " Frequency <span style=\"color: #008080; text-decoration-color: #008080; font-weight: bold\">0</span>  - Read Margin - Complex Pattern - Falling Edge Clock in pS and <span style=\"font-weight: bold\">(</span>delay taps<span style=\"font-weight: bold\">)</span>:\n",
              "\n",
              "</pre>\n"
            ],
            "text/plain": [
              "\n",
              " Frequency \u001b[1;36m0\u001b[0m  - Read Margin - Complex Pattern - Falling Edge Clock in pS and \u001b[1m(\u001b[0mdelay taps\u001b[1m)\u001b[0m:\n",
              "\n"
            ]
          },
          "metadata": {},
          "output_type": "display_data"
        },
        {
          "data": {
            "text/html": [
              "<pre style=\"white-space:pre;overflow-x:auto;line-height:normal;font-family:Menlo,'DejaVu Sans Mono',consolas,'Courier New',monospace\">Byte  <span style=\"color: #008080; text-decoration-color: #008080; font-weight: bold\">0</span>  Nibble <span style=\"color: #008080; text-decoration-color: #008080; font-weight: bold\">0</span>  -   Left Margin:   <span style=\"color: #008080; text-decoration-color: #008080; font-weight: bold\">121</span>  <span style=\"font-weight: bold\">(</span> <span style=\"color: #008080; text-decoration-color: #008080; font-weight: bold\">64</span> <span style=\"font-weight: bold\">)</span>  Center Point:   <span style=\"color: #008080; text-decoration-color: #008080; font-weight: bold\">173</span>  <span style=\"font-weight: bold\">(</span> <span style=\"color: #008080; text-decoration-color: #008080; font-weight: bold\">91</span> <span style=\"font-weight: bold\">)</span>  Right Margin:   <span style=\"color: #008080; text-decoration-color: #008080; font-weight: bold\">123</span>  <span style=\"font-weight: bold\">(</span> <span style=\"color: #008080; text-decoration-color: #008080; font-weight: bold\">65</span> <span style=\"font-weight: bold\">)</span>\n",
              "</pre>\n"
            ],
            "text/plain": [
              "Byte  \u001b[1;36m0\u001b[0m  Nibble \u001b[1;36m0\u001b[0m  -   Left Margin:   \u001b[1;36m121\u001b[0m  \u001b[1m(\u001b[0m \u001b[1;36m64\u001b[0m \u001b[1m)\u001b[0m  Center Point:   \u001b[1;36m173\u001b[0m  \u001b[1m(\u001b[0m \u001b[1;36m91\u001b[0m \u001b[1m)\u001b[0m  Right Margin:   \u001b[1;36m123\u001b[0m  \u001b[1m(\u001b[0m \u001b[1;36m65\u001b[0m \u001b[1m)\u001b[0m\n"
            ]
          },
          "metadata": {},
          "output_type": "display_data"
        },
        {
          "data": {
            "text/html": [
              "<pre style=\"white-space:pre;overflow-x:auto;line-height:normal;font-family:Menlo,'DejaVu Sans Mono',consolas,'Courier New',monospace\">Byte  <span style=\"color: #008080; text-decoration-color: #008080; font-weight: bold\">0</span>  Nibble <span style=\"color: #008080; text-decoration-color: #008080; font-weight: bold\">1</span>  -   Left Margin:   <span style=\"color: #008080; text-decoration-color: #008080; font-weight: bold\">125</span>  <span style=\"font-weight: bold\">(</span> <span style=\"color: #008080; text-decoration-color: #008080; font-weight: bold\">64</span> <span style=\"font-weight: bold\">)</span>  Center Point:   <span style=\"color: #008080; text-decoration-color: #008080; font-weight: bold\">182</span>  <span style=\"font-weight: bold\">(</span> <span style=\"color: #008080; text-decoration-color: #008080; font-weight: bold\">93</span> <span style=\"font-weight: bold\">)</span>  Right Margin:   <span style=\"color: #008080; text-decoration-color: #008080; font-weight: bold\">125</span>  <span style=\"font-weight: bold\">(</span> <span style=\"color: #008080; text-decoration-color: #008080; font-weight: bold\">64</span> <span style=\"font-weight: bold\">)</span>\n",
              "</pre>\n"
            ],
            "text/plain": [
              "Byte  \u001b[1;36m0\u001b[0m  Nibble \u001b[1;36m1\u001b[0m  -   Left Margin:   \u001b[1;36m125\u001b[0m  \u001b[1m(\u001b[0m \u001b[1;36m64\u001b[0m \u001b[1m)\u001b[0m  Center Point:   \u001b[1;36m182\u001b[0m  \u001b[1m(\u001b[0m \u001b[1;36m93\u001b[0m \u001b[1m)\u001b[0m  Right Margin:   \u001b[1;36m125\u001b[0m  \u001b[1m(\u001b[0m \u001b[1;36m64\u001b[0m \u001b[1m)\u001b[0m\n"
            ]
          },
          "metadata": {},
          "output_type": "display_data"
        },
        {
          "data": {
            "text/html": [
              "<pre style=\"white-space:pre;overflow-x:auto;line-height:normal;font-family:Menlo,'DejaVu Sans Mono',consolas,'Courier New',monospace\">Byte  <span style=\"color: #008080; text-decoration-color: #008080; font-weight: bold\">1</span>  Nibble <span style=\"color: #008080; text-decoration-color: #008080; font-weight: bold\">0</span>  -   Left Margin:   <span style=\"color: #008080; text-decoration-color: #008080; font-weight: bold\">120</span>  <span style=\"font-weight: bold\">(</span> <span style=\"color: #008080; text-decoration-color: #008080; font-weight: bold\">61</span> <span style=\"font-weight: bold\">)</span>  Center Point:   <span style=\"color: #008080; text-decoration-color: #008080; font-weight: bold\">176</span>  <span style=\"font-weight: bold\">(</span> <span style=\"color: #008080; text-decoration-color: #008080; font-weight: bold\">89</span> <span style=\"font-weight: bold\">)</span>  Right Margin:   <span style=\"color: #008080; text-decoration-color: #008080; font-weight: bold\">122</span>  <span style=\"font-weight: bold\">(</span> <span style=\"color: #008080; text-decoration-color: #008080; font-weight: bold\">62</span> <span style=\"font-weight: bold\">)</span>\n",
              "</pre>\n"
            ],
            "text/plain": [
              "Byte  \u001b[1;36m1\u001b[0m  Nibble \u001b[1;36m0\u001b[0m  -   Left Margin:   \u001b[1;36m120\u001b[0m  \u001b[1m(\u001b[0m \u001b[1;36m61\u001b[0m \u001b[1m)\u001b[0m  Center Point:   \u001b[1;36m176\u001b[0m  \u001b[1m(\u001b[0m \u001b[1;36m89\u001b[0m \u001b[1m)\u001b[0m  Right Margin:   \u001b[1;36m122\u001b[0m  \u001b[1m(\u001b[0m \u001b[1;36m62\u001b[0m \u001b[1m)\u001b[0m\n"
            ]
          },
          "metadata": {},
          "output_type": "display_data"
        },
        {
          "data": {
            "text/html": [
              "<pre style=\"white-space:pre;overflow-x:auto;line-height:normal;font-family:Menlo,'DejaVu Sans Mono',consolas,'Courier New',monospace\">Byte  <span style=\"color: #008080; text-decoration-color: #008080; font-weight: bold\">1</span>  Nibble <span style=\"color: #008080; text-decoration-color: #008080; font-weight: bold\">1</span>  -   Left Margin:   <span style=\"color: #008080; text-decoration-color: #008080; font-weight: bold\">121</span>  <span style=\"font-weight: bold\">(</span> <span style=\"color: #008080; text-decoration-color: #008080; font-weight: bold\">62</span> <span style=\"font-weight: bold\">)</span>  Center Point:   <span style=\"color: #008080; text-decoration-color: #008080; font-weight: bold\">174</span>  <span style=\"font-weight: bold\">(</span> <span style=\"color: #008080; text-decoration-color: #008080; font-weight: bold\">89</span> <span style=\"font-weight: bold\">)</span>  Right Margin:   <span style=\"color: #008080; text-decoration-color: #008080; font-weight: bold\">121</span>  <span style=\"font-weight: bold\">(</span> <span style=\"color: #008080; text-decoration-color: #008080; font-weight: bold\">62</span> <span style=\"font-weight: bold\">)</span>\n",
              "</pre>\n"
            ],
            "text/plain": [
              "Byte  \u001b[1;36m1\u001b[0m  Nibble \u001b[1;36m1\u001b[0m  -   Left Margin:   \u001b[1;36m121\u001b[0m  \u001b[1m(\u001b[0m \u001b[1;36m62\u001b[0m \u001b[1m)\u001b[0m  Center Point:   \u001b[1;36m174\u001b[0m  \u001b[1m(\u001b[0m \u001b[1;36m89\u001b[0m \u001b[1m)\u001b[0m  Right Margin:   \u001b[1;36m121\u001b[0m  \u001b[1m(\u001b[0m \u001b[1;36m62\u001b[0m \u001b[1m)\u001b[0m\n"
            ]
          },
          "metadata": {},
          "output_type": "display_data"
        },
        {
          "data": {
            "text/html": [
              "<pre style=\"white-space:pre;overflow-x:auto;line-height:normal;font-family:Menlo,'DejaVu Sans Mono',consolas,'Courier New',monospace\">Byte  <span style=\"color: #008080; text-decoration-color: #008080; font-weight: bold\">2</span>  Nibble <span style=\"color: #008080; text-decoration-color: #008080; font-weight: bold\">0</span>  -   Left Margin:   <span style=\"color: #008080; text-decoration-color: #008080; font-weight: bold\">116</span>  <span style=\"font-weight: bold\">(</span> <span style=\"color: #008080; text-decoration-color: #008080; font-weight: bold\">59</span> <span style=\"font-weight: bold\">)</span>  Center Point:   <span style=\"color: #008080; text-decoration-color: #008080; font-weight: bold\">176</span>  <span style=\"font-weight: bold\">(</span> <span style=\"color: #008080; text-decoration-color: #008080; font-weight: bold\">89</span> <span style=\"font-weight: bold\">)</span>  Right Margin:   <span style=\"color: #008080; text-decoration-color: #008080; font-weight: bold\">118</span>  <span style=\"font-weight: bold\">(</span> <span style=\"color: #008080; text-decoration-color: #008080; font-weight: bold\">60</span> <span style=\"font-weight: bold\">)</span>\n",
              "</pre>\n"
            ],
            "text/plain": [
              "Byte  \u001b[1;36m2\u001b[0m  Nibble \u001b[1;36m0\u001b[0m  -   Left Margin:   \u001b[1;36m116\u001b[0m  \u001b[1m(\u001b[0m \u001b[1;36m59\u001b[0m \u001b[1m)\u001b[0m  Center Point:   \u001b[1;36m176\u001b[0m  \u001b[1m(\u001b[0m \u001b[1;36m89\u001b[0m \u001b[1m)\u001b[0m  Right Margin:   \u001b[1;36m118\u001b[0m  \u001b[1m(\u001b[0m \u001b[1;36m60\u001b[0m \u001b[1m)\u001b[0m\n"
            ]
          },
          "metadata": {},
          "output_type": "display_data"
        },
        {
          "data": {
            "text/html": [
              "<pre style=\"white-space:pre;overflow-x:auto;line-height:normal;font-family:Menlo,'DejaVu Sans Mono',consolas,'Courier New',monospace\">Byte  <span style=\"color: #008080; text-decoration-color: #008080; font-weight: bold\">2</span>  Nibble <span style=\"color: #008080; text-decoration-color: #008080; font-weight: bold\">1</span>  -   Left Margin:   <span style=\"color: #008080; text-decoration-color: #008080; font-weight: bold\">117</span>  <span style=\"font-weight: bold\">(</span> <span style=\"color: #008080; text-decoration-color: #008080; font-weight: bold\">60</span> <span style=\"font-weight: bold\">)</span>  Center Point:   <span style=\"color: #008080; text-decoration-color: #008080; font-weight: bold\">174</span>  <span style=\"font-weight: bold\">(</span> <span style=\"color: #008080; text-decoration-color: #008080; font-weight: bold\">89</span> <span style=\"font-weight: bold\">)</span>  Right Margin:   <span style=\"color: #008080; text-decoration-color: #008080; font-weight: bold\">119</span>  <span style=\"font-weight: bold\">(</span> <span style=\"color: #008080; text-decoration-color: #008080; font-weight: bold\">61</span> <span style=\"font-weight: bold\">)</span>\n",
              "</pre>\n"
            ],
            "text/plain": [
              "Byte  \u001b[1;36m2\u001b[0m  Nibble \u001b[1;36m1\u001b[0m  -   Left Margin:   \u001b[1;36m117\u001b[0m  \u001b[1m(\u001b[0m \u001b[1;36m60\u001b[0m \u001b[1m)\u001b[0m  Center Point:   \u001b[1;36m174\u001b[0m  \u001b[1m(\u001b[0m \u001b[1;36m89\u001b[0m \u001b[1m)\u001b[0m  Right Margin:   \u001b[1;36m119\u001b[0m  \u001b[1m(\u001b[0m \u001b[1;36m61\u001b[0m \u001b[1m)\u001b[0m\n"
            ]
          },
          "metadata": {},
          "output_type": "display_data"
        },
        {
          "data": {
            "text/html": [
              "<pre style=\"white-space:pre;overflow-x:auto;line-height:normal;font-family:Menlo,'DejaVu Sans Mono',consolas,'Courier New',monospace\">Byte  <span style=\"color: #008080; text-decoration-color: #008080; font-weight: bold\">3</span>  Nibble <span style=\"color: #008080; text-decoration-color: #008080; font-weight: bold\">0</span>  -   Left Margin:   <span style=\"color: #008080; text-decoration-color: #008080; font-weight: bold\">111</span>  <span style=\"font-weight: bold\">(</span> <span style=\"color: #008080; text-decoration-color: #008080; font-weight: bold\">58</span> <span style=\"font-weight: bold\">)</span>  Center Point:   <span style=\"color: #008080; text-decoration-color: #008080; font-weight: bold\">164</span>  <span style=\"font-weight: bold\">(</span> <span style=\"color: #008080; text-decoration-color: #008080; font-weight: bold\">85</span> <span style=\"font-weight: bold\">)</span>  Right Margin:   <span style=\"color: #008080; text-decoration-color: #008080; font-weight: bold\">111</span>  <span style=\"font-weight: bold\">(</span> <span style=\"color: #008080; text-decoration-color: #008080; font-weight: bold\">58</span> <span style=\"font-weight: bold\">)</span>\n",
              "</pre>\n"
            ],
            "text/plain": [
              "Byte  \u001b[1;36m3\u001b[0m  Nibble \u001b[1;36m0\u001b[0m  -   Left Margin:   \u001b[1;36m111\u001b[0m  \u001b[1m(\u001b[0m \u001b[1;36m58\u001b[0m \u001b[1m)\u001b[0m  Center Point:   \u001b[1;36m164\u001b[0m  \u001b[1m(\u001b[0m \u001b[1;36m85\u001b[0m \u001b[1m)\u001b[0m  Right Margin:   \u001b[1;36m111\u001b[0m  \u001b[1m(\u001b[0m \u001b[1;36m58\u001b[0m \u001b[1m)\u001b[0m\n"
            ]
          },
          "metadata": {},
          "output_type": "display_data"
        },
        {
          "data": {
            "text/html": [
              "<pre style=\"white-space:pre;overflow-x:auto;line-height:normal;font-family:Menlo,'DejaVu Sans Mono',consolas,'Courier New',monospace\">Byte  <span style=\"color: #008080; text-decoration-color: #008080; font-weight: bold\">3</span>  Nibble <span style=\"color: #008080; text-decoration-color: #008080; font-weight: bold\">1</span>  -   Left Margin:   <span style=\"color: #008080; text-decoration-color: #008080; font-weight: bold\">116</span>  <span style=\"font-weight: bold\">(</span> <span style=\"color: #008080; text-decoration-color: #008080; font-weight: bold\">59</span> <span style=\"font-weight: bold\">)</span>  Center Point:   <span style=\"color: #008080; text-decoration-color: #008080; font-weight: bold\">168</span>  <span style=\"font-weight: bold\">(</span> <span style=\"color: #008080; text-decoration-color: #008080; font-weight: bold\">85</span> <span style=\"font-weight: bold\">)</span>  Right Margin:   <span style=\"color: #008080; text-decoration-color: #008080; font-weight: bold\">116</span>  <span style=\"font-weight: bold\">(</span> <span style=\"color: #008080; text-decoration-color: #008080; font-weight: bold\">59</span> <span style=\"font-weight: bold\">)</span>\n",
              "</pre>\n"
            ],
            "text/plain": [
              "Byte  \u001b[1;36m3\u001b[0m  Nibble \u001b[1;36m1\u001b[0m  -   Left Margin:   \u001b[1;36m116\u001b[0m  \u001b[1m(\u001b[0m \u001b[1;36m59\u001b[0m \u001b[1m)\u001b[0m  Center Point:   \u001b[1;36m168\u001b[0m  \u001b[1m(\u001b[0m \u001b[1;36m85\u001b[0m \u001b[1m)\u001b[0m  Right Margin:   \u001b[1;36m116\u001b[0m  \u001b[1m(\u001b[0m \u001b[1;36m59\u001b[0m \u001b[1m)\u001b[0m\n"
            ]
          },
          "metadata": {},
          "output_type": "display_data"
        },
        {
          "data": {
            "text/html": [
              "<pre style=\"white-space:pre;overflow-x:auto;line-height:normal;font-family:Menlo,'DejaVu Sans Mono',consolas,'Courier New',monospace\">Byte  <span style=\"color: #008080; text-decoration-color: #008080; font-weight: bold\">4</span>  Nibble <span style=\"color: #008080; text-decoration-color: #008080; font-weight: bold\">0</span>  -   Left Margin:   <span style=\"color: #008080; text-decoration-color: #008080; font-weight: bold\">112</span>  <span style=\"font-weight: bold\">(</span> <span style=\"color: #008080; text-decoration-color: #008080; font-weight: bold\">57</span> <span style=\"font-weight: bold\">)</span>  Center Point:   <span style=\"color: #008080; text-decoration-color: #008080; font-weight: bold\">152</span>  <span style=\"font-weight: bold\">(</span> <span style=\"color: #008080; text-decoration-color: #008080; font-weight: bold\">77</span> <span style=\"font-weight: bold\">)</span>  Right Margin:   <span style=\"color: #008080; text-decoration-color: #008080; font-weight: bold\">112</span>  <span style=\"font-weight: bold\">(</span> <span style=\"color: #008080; text-decoration-color: #008080; font-weight: bold\">57</span> <span style=\"font-weight: bold\">)</span>\n",
              "</pre>\n"
            ],
            "text/plain": [
              "Byte  \u001b[1;36m4\u001b[0m  Nibble \u001b[1;36m0\u001b[0m  -   Left Margin:   \u001b[1;36m112\u001b[0m  \u001b[1m(\u001b[0m \u001b[1;36m57\u001b[0m \u001b[1m)\u001b[0m  Center Point:   \u001b[1;36m152\u001b[0m  \u001b[1m(\u001b[0m \u001b[1;36m77\u001b[0m \u001b[1m)\u001b[0m  Right Margin:   \u001b[1;36m112\u001b[0m  \u001b[1m(\u001b[0m \u001b[1;36m57\u001b[0m \u001b[1m)\u001b[0m\n"
            ]
          },
          "metadata": {},
          "output_type": "display_data"
        },
        {
          "data": {
            "text/html": [
              "<pre style=\"white-space:pre;overflow-x:auto;line-height:normal;font-family:Menlo,'DejaVu Sans Mono',consolas,'Courier New',monospace\">Byte  <span style=\"color: #008080; text-decoration-color: #008080; font-weight: bold\">4</span>  Nibble <span style=\"color: #008080; text-decoration-color: #008080; font-weight: bold\">1</span>  -   Left Margin:   <span style=\"color: #008080; text-decoration-color: #008080; font-weight: bold\">114</span>  <span style=\"font-weight: bold\">(</span> <span style=\"color: #008080; text-decoration-color: #008080; font-weight: bold\">58</span> <span style=\"font-weight: bold\">)</span>  Center Point:   <span style=\"color: #008080; text-decoration-color: #008080; font-weight: bold\">164</span>  <span style=\"font-weight: bold\">(</span> <span style=\"color: #008080; text-decoration-color: #008080; font-weight: bold\">83</span> <span style=\"font-weight: bold\">)</span>  Right Margin:   <span style=\"color: #008080; text-decoration-color: #008080; font-weight: bold\">114</span>  <span style=\"font-weight: bold\">(</span> <span style=\"color: #008080; text-decoration-color: #008080; font-weight: bold\">58</span> <span style=\"font-weight: bold\">)</span>\n",
              "</pre>\n"
            ],
            "text/plain": [
              "Byte  \u001b[1;36m4\u001b[0m  Nibble \u001b[1;36m1\u001b[0m  -   Left Margin:   \u001b[1;36m114\u001b[0m  \u001b[1m(\u001b[0m \u001b[1;36m58\u001b[0m \u001b[1m)\u001b[0m  Center Point:   \u001b[1;36m164\u001b[0m  \u001b[1m(\u001b[0m \u001b[1;36m83\u001b[0m \u001b[1m)\u001b[0m  Right Margin:   \u001b[1;36m114\u001b[0m  \u001b[1m(\u001b[0m \u001b[1;36m58\u001b[0m \u001b[1m)\u001b[0m\n"
            ]
          },
          "metadata": {},
          "output_type": "display_data"
        },
        {
          "data": {
            "text/html": [
              "<pre style=\"white-space:pre;overflow-x:auto;line-height:normal;font-family:Menlo,'DejaVu Sans Mono',consolas,'Courier New',monospace\">Byte  <span style=\"color: #008080; text-decoration-color: #008080; font-weight: bold\">5</span>  Nibble <span style=\"color: #008080; text-decoration-color: #008080; font-weight: bold\">0</span>  -   Left Margin:   <span style=\"color: #008080; text-decoration-color: #008080; font-weight: bold\">122</span>  <span style=\"font-weight: bold\">(</span> <span style=\"color: #008080; text-decoration-color: #008080; font-weight: bold\">62</span> <span style=\"font-weight: bold\">)</span>  Center Point:   <span style=\"color: #008080; text-decoration-color: #008080; font-weight: bold\">162</span>  <span style=\"font-weight: bold\">(</span> <span style=\"color: #008080; text-decoration-color: #008080; font-weight: bold\">82</span> <span style=\"font-weight: bold\">)</span>  Right Margin:   <span style=\"color: #008080; text-decoration-color: #008080; font-weight: bold\">124</span>  <span style=\"font-weight: bold\">(</span> <span style=\"color: #008080; text-decoration-color: #008080; font-weight: bold\">63</span> <span style=\"font-weight: bold\">)</span>\n",
              "</pre>\n"
            ],
            "text/plain": [
              "Byte  \u001b[1;36m5\u001b[0m  Nibble \u001b[1;36m0\u001b[0m  -   Left Margin:   \u001b[1;36m122\u001b[0m  \u001b[1m(\u001b[0m \u001b[1;36m62\u001b[0m \u001b[1m)\u001b[0m  Center Point:   \u001b[1;36m162\u001b[0m  \u001b[1m(\u001b[0m \u001b[1;36m82\u001b[0m \u001b[1m)\u001b[0m  Right Margin:   \u001b[1;36m124\u001b[0m  \u001b[1m(\u001b[0m \u001b[1;36m63\u001b[0m \u001b[1m)\u001b[0m\n"
            ]
          },
          "metadata": {},
          "output_type": "display_data"
        },
        {
          "data": {
            "text/html": [
              "<pre style=\"white-space:pre;overflow-x:auto;line-height:normal;font-family:Menlo,'DejaVu Sans Mono',consolas,'Courier New',monospace\">Byte  <span style=\"color: #008080; text-decoration-color: #008080; font-weight: bold\">5</span>  Nibble <span style=\"color: #008080; text-decoration-color: #008080; font-weight: bold\">1</span>  -   Left Margin:   <span style=\"color: #008080; text-decoration-color: #008080; font-weight: bold\">127</span>  <span style=\"font-weight: bold\">(</span> <span style=\"color: #008080; text-decoration-color: #008080; font-weight: bold\">63</span> <span style=\"font-weight: bold\">)</span>  Center Point:   <span style=\"color: #008080; text-decoration-color: #008080; font-weight: bold\">175</span>  <span style=\"font-weight: bold\">(</span> <span style=\"color: #008080; text-decoration-color: #008080; font-weight: bold\">86</span> <span style=\"font-weight: bold\">)</span>  Right Margin:   <span style=\"color: #008080; text-decoration-color: #008080; font-weight: bold\">127</span>  <span style=\"font-weight: bold\">(</span> <span style=\"color: #008080; text-decoration-color: #008080; font-weight: bold\">63</span> <span style=\"font-weight: bold\">)</span>\n",
              "</pre>\n"
            ],
            "text/plain": [
              "Byte  \u001b[1;36m5\u001b[0m  Nibble \u001b[1;36m1\u001b[0m  -   Left Margin:   \u001b[1;36m127\u001b[0m  \u001b[1m(\u001b[0m \u001b[1;36m63\u001b[0m \u001b[1m)\u001b[0m  Center Point:   \u001b[1;36m175\u001b[0m  \u001b[1m(\u001b[0m \u001b[1;36m86\u001b[0m \u001b[1m)\u001b[0m  Right Margin:   \u001b[1;36m127\u001b[0m  \u001b[1m(\u001b[0m \u001b[1;36m63\u001b[0m \u001b[1m)\u001b[0m\n"
            ]
          },
          "metadata": {},
          "output_type": "display_data"
        },
        {
          "data": {
            "text/html": [
              "<pre style=\"white-space:pre;overflow-x:auto;line-height:normal;font-family:Menlo,'DejaVu Sans Mono',consolas,'Courier New',monospace\">Byte  <span style=\"color: #008080; text-decoration-color: #008080; font-weight: bold\">6</span>  Nibble <span style=\"color: #008080; text-decoration-color: #008080; font-weight: bold\">0</span>  -   Left Margin:   <span style=\"color: #008080; text-decoration-color: #008080; font-weight: bold\">117</span>  <span style=\"font-weight: bold\">(</span> <span style=\"color: #008080; text-decoration-color: #008080; font-weight: bold\">60</span> <span style=\"font-weight: bold\">)</span>  Center Point:   <span style=\"color: #008080; text-decoration-color: #008080; font-weight: bold\">162</span>  <span style=\"font-weight: bold\">(</span> <span style=\"color: #008080; text-decoration-color: #008080; font-weight: bold\">83</span> <span style=\"font-weight: bold\">)</span>  Right Margin:   <span style=\"color: #008080; text-decoration-color: #008080; font-weight: bold\">117</span>  <span style=\"font-weight: bold\">(</span> <span style=\"color: #008080; text-decoration-color: #008080; font-weight: bold\">60</span> <span style=\"font-weight: bold\">)</span>\n",
              "</pre>\n"
            ],
            "text/plain": [
              "Byte  \u001b[1;36m6\u001b[0m  Nibble \u001b[1;36m0\u001b[0m  -   Left Margin:   \u001b[1;36m117\u001b[0m  \u001b[1m(\u001b[0m \u001b[1;36m60\u001b[0m \u001b[1m)\u001b[0m  Center Point:   \u001b[1;36m162\u001b[0m  \u001b[1m(\u001b[0m \u001b[1;36m83\u001b[0m \u001b[1m)\u001b[0m  Right Margin:   \u001b[1;36m117\u001b[0m  \u001b[1m(\u001b[0m \u001b[1;36m60\u001b[0m \u001b[1m)\u001b[0m\n"
            ]
          },
          "metadata": {},
          "output_type": "display_data"
        },
        {
          "data": {
            "text/html": [
              "<pre style=\"white-space:pre;overflow-x:auto;line-height:normal;font-family:Menlo,'DejaVu Sans Mono',consolas,'Courier New',monospace\">Byte  <span style=\"color: #008080; text-decoration-color: #008080; font-weight: bold\">6</span>  Nibble <span style=\"color: #008080; text-decoration-color: #008080; font-weight: bold\">1</span>  -   Left Margin:   <span style=\"color: #008080; text-decoration-color: #008080; font-weight: bold\">119</span>  <span style=\"font-weight: bold\">(</span> <span style=\"color: #008080; text-decoration-color: #008080; font-weight: bold\">62</span> <span style=\"font-weight: bold\">)</span>  Center Point:   <span style=\"color: #008080; text-decoration-color: #008080; font-weight: bold\">174</span>  <span style=\"font-weight: bold\">(</span> <span style=\"color: #008080; text-decoration-color: #008080; font-weight: bold\">90</span> <span style=\"font-weight: bold\">)</span>  Right Margin:   <span style=\"color: #008080; text-decoration-color: #008080; font-weight: bold\">121</span>  <span style=\"font-weight: bold\">(</span> <span style=\"color: #008080; text-decoration-color: #008080; font-weight: bold\">63</span> <span style=\"font-weight: bold\">)</span>\n",
              "</pre>\n"
            ],
            "text/plain": [
              "Byte  \u001b[1;36m6\u001b[0m  Nibble \u001b[1;36m1\u001b[0m  -   Left Margin:   \u001b[1;36m119\u001b[0m  \u001b[1m(\u001b[0m \u001b[1;36m62\u001b[0m \u001b[1m)\u001b[0m  Center Point:   \u001b[1;36m174\u001b[0m  \u001b[1m(\u001b[0m \u001b[1;36m90\u001b[0m \u001b[1m)\u001b[0m  Right Margin:   \u001b[1;36m121\u001b[0m  \u001b[1m(\u001b[0m \u001b[1;36m63\u001b[0m \u001b[1m)\u001b[0m\n"
            ]
          },
          "metadata": {},
          "output_type": "display_data"
        },
        {
          "data": {
            "text/html": [
              "<pre style=\"white-space:pre;overflow-x:auto;line-height:normal;font-family:Menlo,'DejaVu Sans Mono',consolas,'Courier New',monospace\">Byte  <span style=\"color: #008080; text-decoration-color: #008080; font-weight: bold\">7</span>  Nibble <span style=\"color: #008080; text-decoration-color: #008080; font-weight: bold\">0</span>  -   Left Margin:   <span style=\"color: #008080; text-decoration-color: #008080; font-weight: bold\">124</span>  <span style=\"font-weight: bold\">(</span> <span style=\"color: #008080; text-decoration-color: #008080; font-weight: bold\">62</span> <span style=\"font-weight: bold\">)</span>  Center Point:   <span style=\"color: #008080; text-decoration-color: #008080; font-weight: bold\">168</span>  <span style=\"font-weight: bold\">(</span> <span style=\"color: #008080; text-decoration-color: #008080; font-weight: bold\">84</span> <span style=\"font-weight: bold\">)</span>  Right Margin:   <span style=\"color: #008080; text-decoration-color: #008080; font-weight: bold\">126</span>  <span style=\"font-weight: bold\">(</span> <span style=\"color: #008080; text-decoration-color: #008080; font-weight: bold\">63</span> <span style=\"font-weight: bold\">)</span>\n",
              "</pre>\n"
            ],
            "text/plain": [
              "Byte  \u001b[1;36m7\u001b[0m  Nibble \u001b[1;36m0\u001b[0m  -   Left Margin:   \u001b[1;36m124\u001b[0m  \u001b[1m(\u001b[0m \u001b[1;36m62\u001b[0m \u001b[1m)\u001b[0m  Center Point:   \u001b[1;36m168\u001b[0m  \u001b[1m(\u001b[0m \u001b[1;36m84\u001b[0m \u001b[1m)\u001b[0m  Right Margin:   \u001b[1;36m126\u001b[0m  \u001b[1m(\u001b[0m \u001b[1;36m63\u001b[0m \u001b[1m)\u001b[0m\n"
            ]
          },
          "metadata": {},
          "output_type": "display_data"
        },
        {
          "data": {
            "text/html": [
              "<pre style=\"white-space:pre;overflow-x:auto;line-height:normal;font-family:Menlo,'DejaVu Sans Mono',consolas,'Courier New',monospace\">Byte  <span style=\"color: #008080; text-decoration-color: #008080; font-weight: bold\">7</span>  Nibble <span style=\"color: #008080; text-decoration-color: #008080; font-weight: bold\">1</span>  -   Left Margin:   <span style=\"color: #008080; text-decoration-color: #008080; font-weight: bold\">122</span>  <span style=\"font-weight: bold\">(</span> <span style=\"color: #008080; text-decoration-color: #008080; font-weight: bold\">61</span> <span style=\"font-weight: bold\">)</span>  Center Point:   <span style=\"color: #008080; text-decoration-color: #008080; font-weight: bold\">172</span>  <span style=\"font-weight: bold\">(</span> <span style=\"color: #008080; text-decoration-color: #008080; font-weight: bold\">86</span> <span style=\"font-weight: bold\">)</span>  Right Margin:   <span style=\"color: #008080; text-decoration-color: #008080; font-weight: bold\">122</span>  <span style=\"font-weight: bold\">(</span> <span style=\"color: #008080; text-decoration-color: #008080; font-weight: bold\">61</span> <span style=\"font-weight: bold\">)</span>\n",
              "</pre>\n"
            ],
            "text/plain": [
              "Byte  \u001b[1;36m7\u001b[0m  Nibble \u001b[1;36m1\u001b[0m  -   Left Margin:   \u001b[1;36m122\u001b[0m  \u001b[1m(\u001b[0m \u001b[1;36m61\u001b[0m \u001b[1m)\u001b[0m  Center Point:   \u001b[1;36m172\u001b[0m  \u001b[1m(\u001b[0m \u001b[1;36m86\u001b[0m \u001b[1m)\u001b[0m  Right Margin:   \u001b[1;36m122\u001b[0m  \u001b[1m(\u001b[0m \u001b[1;36m61\u001b[0m \u001b[1m)\u001b[0m\n"
            ]
          },
          "metadata": {},
          "output_type": "display_data"
        },
        {
          "data": {
            "text/html": [
              "<pre style=\"white-space:pre;overflow-x:auto;line-height:normal;font-family:Menlo,'DejaVu Sans Mono',consolas,'Courier New',monospace\">\n",
              " Frequency <span style=\"color: #008080; text-decoration-color: #008080; font-weight: bold\">0</span>  - Write Margin - Simple Pattern - Calibration Window in pS and <span style=\"font-weight: bold\">(</span>delay taps<span style=\"font-weight: bold\">)</span>:\n",
              "\n",
              "</pre>\n"
            ],
            "text/plain": [
              "\n",
              " Frequency \u001b[1;36m0\u001b[0m  - Write Margin - Simple Pattern - Calibration Window in pS and \u001b[1m(\u001b[0mdelay taps\u001b[1m)\u001b[0m:\n",
              "\n"
            ]
          },
          "metadata": {},
          "output_type": "display_data"
        },
        {
          "data": {
            "text/html": [
              "<pre style=\"white-space:pre;overflow-x:auto;line-height:normal;font-family:Menlo,'DejaVu Sans Mono',consolas,'Courier New',monospace\">Byte  <span style=\"color: #008080; text-decoration-color: #008080; font-weight: bold\">0</span>   -  Left Margin:   <span style=\"color: #008080; text-decoration-color: #008080; font-weight: bold\">148</span>  <span style=\"font-weight: bold\">(</span> <span style=\"color: #008080; text-decoration-color: #008080; font-weight: bold\">76</span> <span style=\"font-weight: bold\">)</span>  Center Point:   <span style=\"color: #008080; text-decoration-color: #008080; font-weight: bold\">453</span>  <span style=\"font-weight: bold\">(</span> <span style=\"color: #008080; text-decoration-color: #008080; font-weight: bold\">232</span> <span style=\"font-weight: bold\">)</span>  Right Margin:   <span style=\"color: #008080; text-decoration-color: #008080; font-weight: bold\">142</span>  <span style=\"font-weight: bold\">(</span> <span style=\"color: #008080; text-decoration-color: #008080; font-weight: bold\">73</span> <span style=\"font-weight: bold\">)</span>\n",
              "</pre>\n"
            ],
            "text/plain": [
              "Byte  \u001b[1;36m0\u001b[0m   -  Left Margin:   \u001b[1;36m148\u001b[0m  \u001b[1m(\u001b[0m \u001b[1;36m76\u001b[0m \u001b[1m)\u001b[0m  Center Point:   \u001b[1;36m453\u001b[0m  \u001b[1m(\u001b[0m \u001b[1;36m232\u001b[0m \u001b[1m)\u001b[0m  Right Margin:   \u001b[1;36m142\u001b[0m  \u001b[1m(\u001b[0m \u001b[1;36m73\u001b[0m \u001b[1m)\u001b[0m\n"
            ]
          },
          "metadata": {},
          "output_type": "display_data"
        },
        {
          "data": {
            "text/html": [
              "<pre style=\"white-space:pre;overflow-x:auto;line-height:normal;font-family:Menlo,'DejaVu Sans Mono',consolas,'Courier New',monospace\">Byte  <span style=\"color: #008080; text-decoration-color: #008080; font-weight: bold\">1</span>   -  Left Margin:   <span style=\"color: #008080; text-decoration-color: #008080; font-weight: bold\">161</span>  <span style=\"font-weight: bold\">(</span> <span style=\"color: #008080; text-decoration-color: #008080; font-weight: bold\">82</span> <span style=\"font-weight: bold\">)</span>  Center Point:   <span style=\"color: #008080; text-decoration-color: #008080; font-weight: bold\">622</span>  <span style=\"font-weight: bold\">(</span> <span style=\"color: #008080; text-decoration-color: #008080; font-weight: bold\">316</span> <span style=\"font-weight: bold\">)</span>  Right Margin:   <span style=\"color: #008080; text-decoration-color: #008080; font-weight: bold\">123</span>  <span style=\"font-weight: bold\">(</span> <span style=\"color: #008080; text-decoration-color: #008080; font-weight: bold\">63</span> <span style=\"font-weight: bold\">)</span>\n",
              "</pre>\n"
            ],
            "text/plain": [
              "Byte  \u001b[1;36m1\u001b[0m   -  Left Margin:   \u001b[1;36m161\u001b[0m  \u001b[1m(\u001b[0m \u001b[1;36m82\u001b[0m \u001b[1m)\u001b[0m  Center Point:   \u001b[1;36m622\u001b[0m  \u001b[1m(\u001b[0m \u001b[1;36m316\u001b[0m \u001b[1m)\u001b[0m  Right Margin:   \u001b[1;36m123\u001b[0m  \u001b[1m(\u001b[0m \u001b[1;36m63\u001b[0m \u001b[1m)\u001b[0m\n"
            ]
          },
          "metadata": {},
          "output_type": "display_data"
        },
        {
          "data": {
            "text/html": [
              "<pre style=\"white-space:pre;overflow-x:auto;line-height:normal;font-family:Menlo,'DejaVu Sans Mono',consolas,'Courier New',monospace\">Byte  <span style=\"color: #008080; text-decoration-color: #008080; font-weight: bold\">2</span>   -  Left Margin:   <span style=\"color: #008080; text-decoration-color: #008080; font-weight: bold\">159</span>  <span style=\"font-weight: bold\">(</span> <span style=\"color: #008080; text-decoration-color: #008080; font-weight: bold\">81</span> <span style=\"font-weight: bold\">)</span>  Center Point:   <span style=\"color: #008080; text-decoration-color: #008080; font-weight: bold\">83</span>  <span style=\"font-weight: bold\">(</span> <span style=\"color: #008080; text-decoration-color: #008080; font-weight: bold\">42</span> <span style=\"font-weight: bold\">)</span>  Right Margin:   <span style=\"color: #008080; text-decoration-color: #008080; font-weight: bold\">131</span>  <span style=\"font-weight: bold\">(</span> <span style=\"color: #008080; text-decoration-color: #008080; font-weight: bold\">67</span> <span style=\"font-weight: bold\">)</span>\n",
              "</pre>\n"
            ],
            "text/plain": [
              "Byte  \u001b[1;36m2\u001b[0m   -  Left Margin:   \u001b[1;36m159\u001b[0m  \u001b[1m(\u001b[0m \u001b[1;36m81\u001b[0m \u001b[1m)\u001b[0m  Center Point:   \u001b[1;36m83\u001b[0m  \u001b[1m(\u001b[0m \u001b[1;36m42\u001b[0m \u001b[1m)\u001b[0m  Right Margin:   \u001b[1;36m131\u001b[0m  \u001b[1m(\u001b[0m \u001b[1;36m67\u001b[0m \u001b[1m)\u001b[0m\n"
            ]
          },
          "metadata": {},
          "output_type": "display_data"
        },
        {
          "data": {
            "text/html": [
              "<pre style=\"white-space:pre;overflow-x:auto;line-height:normal;font-family:Menlo,'DejaVu Sans Mono',consolas,'Courier New',monospace\">Byte  <span style=\"color: #008080; text-decoration-color: #008080; font-weight: bold\">3</span>   -  Left Margin:   <span style=\"color: #008080; text-decoration-color: #008080; font-weight: bold\">139</span>  <span style=\"font-weight: bold\">(</span> <span style=\"color: #008080; text-decoration-color: #008080; font-weight: bold\">71</span> <span style=\"font-weight: bold\">)</span>  Center Point:   <span style=\"color: #008080; text-decoration-color: #008080; font-weight: bold\">175</span>  <span style=\"font-weight: bold\">(</span> <span style=\"color: #008080; text-decoration-color: #008080; font-weight: bold\">89</span> <span style=\"font-weight: bold\">)</span>  Right Margin:   <span style=\"color: #008080; text-decoration-color: #008080; font-weight: bold\">145</span>  <span style=\"font-weight: bold\">(</span> <span style=\"color: #008080; text-decoration-color: #008080; font-weight: bold\">74</span> <span style=\"font-weight: bold\">)</span>\n",
              "</pre>\n"
            ],
            "text/plain": [
              "Byte  \u001b[1;36m3\u001b[0m   -  Left Margin:   \u001b[1;36m139\u001b[0m  \u001b[1m(\u001b[0m \u001b[1;36m71\u001b[0m \u001b[1m)\u001b[0m  Center Point:   \u001b[1;36m175\u001b[0m  \u001b[1m(\u001b[0m \u001b[1;36m89\u001b[0m \u001b[1m)\u001b[0m  Right Margin:   \u001b[1;36m145\u001b[0m  \u001b[1m(\u001b[0m \u001b[1;36m74\u001b[0m \u001b[1m)\u001b[0m\n"
            ]
          },
          "metadata": {},
          "output_type": "display_data"
        },
        {
          "data": {
            "text/html": [
              "<pre style=\"white-space:pre;overflow-x:auto;line-height:normal;font-family:Menlo,'DejaVu Sans Mono',consolas,'Courier New',monospace\">Byte  <span style=\"color: #008080; text-decoration-color: #008080; font-weight: bold\">4</span>   -  Left Margin:   <span style=\"color: #008080; text-decoration-color: #008080; font-weight: bold\">132</span>  <span style=\"font-weight: bold\">(</span> <span style=\"color: #008080; text-decoration-color: #008080; font-weight: bold\">67</span> <span style=\"font-weight: bold\">)</span>  Center Point:   <span style=\"color: #008080; text-decoration-color: #008080; font-weight: bold\">544</span>  <span style=\"font-weight: bold\">(</span> <span style=\"color: #008080; text-decoration-color: #008080; font-weight: bold\">275</span> <span style=\"font-weight: bold\">)</span>  Right Margin:   <span style=\"color: #008080; text-decoration-color: #008080; font-weight: bold\">152</span>  <span style=\"font-weight: bold\">(</span> <span style=\"color: #008080; text-decoration-color: #008080; font-weight: bold\">77</span> <span style=\"font-weight: bold\">)</span>\n",
              "</pre>\n"
            ],
            "text/plain": [
              "Byte  \u001b[1;36m4\u001b[0m   -  Left Margin:   \u001b[1;36m132\u001b[0m  \u001b[1m(\u001b[0m \u001b[1;36m67\u001b[0m \u001b[1m)\u001b[0m  Center Point:   \u001b[1;36m544\u001b[0m  \u001b[1m(\u001b[0m \u001b[1;36m275\u001b[0m \u001b[1m)\u001b[0m  Right Margin:   \u001b[1;36m152\u001b[0m  \u001b[1m(\u001b[0m \u001b[1;36m77\u001b[0m \u001b[1m)\u001b[0m\n"
            ]
          },
          "metadata": {},
          "output_type": "display_data"
        },
        {
          "data": {
            "text/html": [
              "<pre style=\"white-space:pre;overflow-x:auto;line-height:normal;font-family:Menlo,'DejaVu Sans Mono',consolas,'Courier New',monospace\">Byte  <span style=\"color: #008080; text-decoration-color: #008080; font-weight: bold\">5</span>   -  Left Margin:   <span style=\"color: #008080; text-decoration-color: #008080; font-weight: bold\">170</span>  <span style=\"font-weight: bold\">(</span> <span style=\"color: #008080; text-decoration-color: #008080; font-weight: bold\">85</span> <span style=\"font-weight: bold\">)</span>  Center Point:   <span style=\"color: #008080; text-decoration-color: #008080; font-weight: bold\">611</span>  <span style=\"font-weight: bold\">(</span> <span style=\"color: #008080; text-decoration-color: #008080; font-weight: bold\">305</span> <span style=\"font-weight: bold\">)</span>  Right Margin:   <span style=\"color: #008080; text-decoration-color: #008080; font-weight: bold\">126</span>  <span style=\"font-weight: bold\">(</span> <span style=\"color: #008080; text-decoration-color: #008080; font-weight: bold\">63</span> <span style=\"font-weight: bold\">)</span>\n",
              "</pre>\n"
            ],
            "text/plain": [
              "Byte  \u001b[1;36m5\u001b[0m   -  Left Margin:   \u001b[1;36m170\u001b[0m  \u001b[1m(\u001b[0m \u001b[1;36m85\u001b[0m \u001b[1m)\u001b[0m  Center Point:   \u001b[1;36m611\u001b[0m  \u001b[1m(\u001b[0m \u001b[1;36m305\u001b[0m \u001b[1m)\u001b[0m  Right Margin:   \u001b[1;36m126\u001b[0m  \u001b[1m(\u001b[0m \u001b[1;36m63\u001b[0m \u001b[1m)\u001b[0m\n"
            ]
          },
          "metadata": {},
          "output_type": "display_data"
        },
        {
          "data": {
            "text/html": [
              "<pre style=\"white-space:pre;overflow-x:auto;line-height:normal;font-family:Menlo,'DejaVu Sans Mono',consolas,'Courier New',monospace\">Byte  <span style=\"color: #008080; text-decoration-color: #008080; font-weight: bold\">6</span>   -  Left Margin:   <span style=\"color: #008080; text-decoration-color: #008080; font-weight: bold\">149</span>  <span style=\"font-weight: bold\">(</span> <span style=\"color: #008080; text-decoration-color: #008080; font-weight: bold\">76</span> <span style=\"font-weight: bold\">)</span>  Center Point:   <span style=\"color: #008080; text-decoration-color: #008080; font-weight: bold\">593</span>  <span style=\"font-weight: bold\">(</span> <span style=\"color: #008080; text-decoration-color: #008080; font-weight: bold\">302</span> <span style=\"font-weight: bold\">)</span>  Right Margin:   <span style=\"color: #008080; text-decoration-color: #008080; font-weight: bold\">139</span>  <span style=\"font-weight: bold\">(</span> <span style=\"color: #008080; text-decoration-color: #008080; font-weight: bold\">71</span> <span style=\"font-weight: bold\">)</span>\n",
              "</pre>\n"
            ],
            "text/plain": [
              "Byte  \u001b[1;36m6\u001b[0m   -  Left Margin:   \u001b[1;36m149\u001b[0m  \u001b[1m(\u001b[0m \u001b[1;36m76\u001b[0m \u001b[1m)\u001b[0m  Center Point:   \u001b[1;36m593\u001b[0m  \u001b[1m(\u001b[0m \u001b[1;36m302\u001b[0m \u001b[1m)\u001b[0m  Right Margin:   \u001b[1;36m139\u001b[0m  \u001b[1m(\u001b[0m \u001b[1;36m71\u001b[0m \u001b[1m)\u001b[0m\n"
            ]
          },
          "metadata": {},
          "output_type": "display_data"
        },
        {
          "data": {
            "text/html": [
              "<pre style=\"white-space:pre;overflow-x:auto;line-height:normal;font-family:Menlo,'DejaVu Sans Mono',consolas,'Courier New',monospace\">Byte  <span style=\"color: #008080; text-decoration-color: #008080; font-weight: bold\">7</span>   -  Left Margin:   <span style=\"color: #008080; text-decoration-color: #008080; font-weight: bold\">167</span>  <span style=\"font-weight: bold\">(</span> <span style=\"color: #008080; text-decoration-color: #008080; font-weight: bold\">84</span> <span style=\"font-weight: bold\">)</span>  Center Point:   <span style=\"color: #008080; text-decoration-color: #008080; font-weight: bold\">648</span>  <span style=\"font-weight: bold\">(</span> <span style=\"color: #008080; text-decoration-color: #008080; font-weight: bold\">326</span> <span style=\"font-weight: bold\">)</span>  Right Margin:   <span style=\"color: #008080; text-decoration-color: #008080; font-weight: bold\">127</span>  <span style=\"font-weight: bold\">(</span> <span style=\"color: #008080; text-decoration-color: #008080; font-weight: bold\">64</span> <span style=\"font-weight: bold\">)</span>\n",
              "</pre>\n"
            ],
            "text/plain": [
              "Byte  \u001b[1;36m7\u001b[0m   -  Left Margin:   \u001b[1;36m167\u001b[0m  \u001b[1m(\u001b[0m \u001b[1;36m84\u001b[0m \u001b[1m)\u001b[0m  Center Point:   \u001b[1;36m648\u001b[0m  \u001b[1m(\u001b[0m \u001b[1;36m326\u001b[0m \u001b[1m)\u001b[0m  Right Margin:   \u001b[1;36m127\u001b[0m  \u001b[1m(\u001b[0m \u001b[1;36m64\u001b[0m \u001b[1m)\u001b[0m\n"
            ]
          },
          "metadata": {},
          "output_type": "display_data"
        },
        {
          "data": {
            "text/html": [
              "<pre style=\"white-space:pre;overflow-x:auto;line-height:normal;font-family:Menlo,'DejaVu Sans Mono',consolas,'Courier New',monospace\">\n",
              " Frequency <span style=\"color: #008080; text-decoration-color: #008080; font-weight: bold\">0</span>  - Write Margin - Complex Pattern - Calibration Window in pS and <span style=\"font-weight: bold\">(</span>delay taps<span style=\"font-weight: bold\">)</span>:\n",
              "\n",
              "</pre>\n"
            ],
            "text/plain": [
              "\n",
              " Frequency \u001b[1;36m0\u001b[0m  - Write Margin - Complex Pattern - Calibration Window in pS and \u001b[1m(\u001b[0mdelay taps\u001b[1m)\u001b[0m:\n",
              "\n"
            ]
          },
          "metadata": {},
          "output_type": "display_data"
        },
        {
          "data": {
            "text/html": [
              "<pre style=\"white-space:pre;overflow-x:auto;line-height:normal;font-family:Menlo,'DejaVu Sans Mono',consolas,'Courier New',monospace\">Byte  <span style=\"color: #008080; text-decoration-color: #008080; font-weight: bold\">0</span>   -  Left Margin:   <span style=\"color: #008080; text-decoration-color: #008080; font-weight: bold\">146</span>  <span style=\"font-weight: bold\">(</span> <span style=\"color: #008080; text-decoration-color: #008080; font-weight: bold\">75</span> <span style=\"font-weight: bold\">)</span>  Center Point:   <span style=\"color: #008080; text-decoration-color: #008080; font-weight: bold\">453</span>  <span style=\"font-weight: bold\">(</span> <span style=\"color: #008080; text-decoration-color: #008080; font-weight: bold\">232</span> <span style=\"font-weight: bold\">)</span>  Right Margin:   <span style=\"color: #008080; text-decoration-color: #008080; font-weight: bold\">119</span>  <span style=\"font-weight: bold\">(</span> <span style=\"color: #008080; text-decoration-color: #008080; font-weight: bold\">61</span> <span style=\"font-weight: bold\">)</span>\n",
              "</pre>\n"
            ],
            "text/plain": [
              "Byte  \u001b[1;36m0\u001b[0m   -  Left Margin:   \u001b[1;36m146\u001b[0m  \u001b[1m(\u001b[0m \u001b[1;36m75\u001b[0m \u001b[1m)\u001b[0m  Center Point:   \u001b[1;36m453\u001b[0m  \u001b[1m(\u001b[0m \u001b[1;36m232\u001b[0m \u001b[1m)\u001b[0m  Right Margin:   \u001b[1;36m119\u001b[0m  \u001b[1m(\u001b[0m \u001b[1;36m61\u001b[0m \u001b[1m)\u001b[0m\n"
            ]
          },
          "metadata": {},
          "output_type": "display_data"
        },
        {
          "data": {
            "text/html": [
              "<pre style=\"white-space:pre;overflow-x:auto;line-height:normal;font-family:Menlo,'DejaVu Sans Mono',consolas,'Courier New',monospace\">Byte  <span style=\"color: #008080; text-decoration-color: #008080; font-weight: bold\">1</span>   -  Left Margin:   <span style=\"color: #008080; text-decoration-color: #008080; font-weight: bold\">143</span>  <span style=\"font-weight: bold\">(</span> <span style=\"color: #008080; text-decoration-color: #008080; font-weight: bold\">73</span> <span style=\"font-weight: bold\">)</span>  Center Point:   <span style=\"color: #008080; text-decoration-color: #008080; font-weight: bold\">622</span>  <span style=\"font-weight: bold\">(</span> <span style=\"color: #008080; text-decoration-color: #008080; font-weight: bold\">316</span> <span style=\"font-weight: bold\">)</span>  Right Margin:   <span style=\"color: #008080; text-decoration-color: #008080; font-weight: bold\">117</span>  <span style=\"font-weight: bold\">(</span> <span style=\"color: #008080; text-decoration-color: #008080; font-weight: bold\">60</span> <span style=\"font-weight: bold\">)</span>\n",
              "</pre>\n"
            ],
            "text/plain": [
              "Byte  \u001b[1;36m1\u001b[0m   -  Left Margin:   \u001b[1;36m143\u001b[0m  \u001b[1m(\u001b[0m \u001b[1;36m73\u001b[0m \u001b[1m)\u001b[0m  Center Point:   \u001b[1;36m622\u001b[0m  \u001b[1m(\u001b[0m \u001b[1;36m316\u001b[0m \u001b[1m)\u001b[0m  Right Margin:   \u001b[1;36m117\u001b[0m  \u001b[1m(\u001b[0m \u001b[1;36m60\u001b[0m \u001b[1m)\u001b[0m\n"
            ]
          },
          "metadata": {},
          "output_type": "display_data"
        },
        {
          "data": {
            "text/html": [
              "<pre style=\"white-space:pre;overflow-x:auto;line-height:normal;font-family:Menlo,'DejaVu Sans Mono',consolas,'Courier New',monospace\">Byte  <span style=\"color: #008080; text-decoration-color: #008080; font-weight: bold\">2</span>   -  Left Margin:   <span style=\"color: #008080; text-decoration-color: #008080; font-weight: bold\">145</span>  <span style=\"font-weight: bold\">(</span> <span style=\"color: #008080; text-decoration-color: #008080; font-weight: bold\">74</span> <span style=\"font-weight: bold\">)</span>  Center Point:   <span style=\"color: #008080; text-decoration-color: #008080; font-weight: bold\">83</span>  <span style=\"font-weight: bold\">(</span> <span style=\"color: #008080; text-decoration-color: #008080; font-weight: bold\">42</span> <span style=\"font-weight: bold\">)</span>  Right Margin:   <span style=\"color: #008080; text-decoration-color: #008080; font-weight: bold\">117</span>  <span style=\"font-weight: bold\">(</span> <span style=\"color: #008080; text-decoration-color: #008080; font-weight: bold\">60</span> <span style=\"font-weight: bold\">)</span>\n",
              "</pre>\n"
            ],
            "text/plain": [
              "Byte  \u001b[1;36m2\u001b[0m   -  Left Margin:   \u001b[1;36m145\u001b[0m  \u001b[1m(\u001b[0m \u001b[1;36m74\u001b[0m \u001b[1m)\u001b[0m  Center Point:   \u001b[1;36m83\u001b[0m  \u001b[1m(\u001b[0m \u001b[1;36m42\u001b[0m \u001b[1m)\u001b[0m  Right Margin:   \u001b[1;36m117\u001b[0m  \u001b[1m(\u001b[0m \u001b[1;36m60\u001b[0m \u001b[1m)\u001b[0m\n"
            ]
          },
          "metadata": {},
          "output_type": "display_data"
        },
        {
          "data": {
            "text/html": [
              "<pre style=\"white-space:pre;overflow-x:auto;line-height:normal;font-family:Menlo,'DejaVu Sans Mono',consolas,'Courier New',monospace\">Byte  <span style=\"color: #008080; text-decoration-color: #008080; font-weight: bold\">3</span>   -  Left Margin:   <span style=\"color: #008080; text-decoration-color: #008080; font-weight: bold\">139</span>  <span style=\"font-weight: bold\">(</span> <span style=\"color: #008080; text-decoration-color: #008080; font-weight: bold\">71</span> <span style=\"font-weight: bold\">)</span>  Center Point:   <span style=\"color: #008080; text-decoration-color: #008080; font-weight: bold\">175</span>  <span style=\"font-weight: bold\">(</span> <span style=\"color: #008080; text-decoration-color: #008080; font-weight: bold\">89</span> <span style=\"font-weight: bold\">)</span>  Right Margin:   <span style=\"color: #008080; text-decoration-color: #008080; font-weight: bold\">129</span>  <span style=\"font-weight: bold\">(</span> <span style=\"color: #008080; text-decoration-color: #008080; font-weight: bold\">66</span> <span style=\"font-weight: bold\">)</span>\n",
              "</pre>\n"
            ],
            "text/plain": [
              "Byte  \u001b[1;36m3\u001b[0m   -  Left Margin:   \u001b[1;36m139\u001b[0m  \u001b[1m(\u001b[0m \u001b[1;36m71\u001b[0m \u001b[1m)\u001b[0m  Center Point:   \u001b[1;36m175\u001b[0m  \u001b[1m(\u001b[0m \u001b[1;36m89\u001b[0m \u001b[1m)\u001b[0m  Right Margin:   \u001b[1;36m129\u001b[0m  \u001b[1m(\u001b[0m \u001b[1;36m66\u001b[0m \u001b[1m)\u001b[0m\n"
            ]
          },
          "metadata": {},
          "output_type": "display_data"
        },
        {
          "data": {
            "text/html": [
              "<pre style=\"white-space:pre;overflow-x:auto;line-height:normal;font-family:Menlo,'DejaVu Sans Mono',consolas,'Courier New',monospace\">Byte  <span style=\"color: #008080; text-decoration-color: #008080; font-weight: bold\">4</span>   -  Left Margin:   <span style=\"color: #008080; text-decoration-color: #008080; font-weight: bold\">138</span>  <span style=\"font-weight: bold\">(</span> <span style=\"color: #008080; text-decoration-color: #008080; font-weight: bold\">70</span> <span style=\"font-weight: bold\">)</span>  Center Point:   <span style=\"color: #008080; text-decoration-color: #008080; font-weight: bold\">544</span>  <span style=\"font-weight: bold\">(</span> <span style=\"color: #008080; text-decoration-color: #008080; font-weight: bold\">275</span> <span style=\"font-weight: bold\">)</span>  Right Margin:   <span style=\"color: #008080; text-decoration-color: #008080; font-weight: bold\">128</span>  <span style=\"font-weight: bold\">(</span> <span style=\"color: #008080; text-decoration-color: #008080; font-weight: bold\">65</span> <span style=\"font-weight: bold\">)</span>\n",
              "</pre>\n"
            ],
            "text/plain": [
              "Byte  \u001b[1;36m4\u001b[0m   -  Left Margin:   \u001b[1;36m138\u001b[0m  \u001b[1m(\u001b[0m \u001b[1;36m70\u001b[0m \u001b[1m)\u001b[0m  Center Point:   \u001b[1;36m544\u001b[0m  \u001b[1m(\u001b[0m \u001b[1;36m275\u001b[0m \u001b[1m)\u001b[0m  Right Margin:   \u001b[1;36m128\u001b[0m  \u001b[1m(\u001b[0m \u001b[1;36m65\u001b[0m \u001b[1m)\u001b[0m\n"
            ]
          },
          "metadata": {},
          "output_type": "display_data"
        },
        {
          "data": {
            "text/html": [
              "<pre style=\"white-space:pre;overflow-x:auto;line-height:normal;font-family:Menlo,'DejaVu Sans Mono',consolas,'Courier New',monospace\">Byte  <span style=\"color: #008080; text-decoration-color: #008080; font-weight: bold\">5</span>   -  Left Margin:   <span style=\"color: #008080; text-decoration-color: #008080; font-weight: bold\">144</span>  <span style=\"font-weight: bold\">(</span> <span style=\"color: #008080; text-decoration-color: #008080; font-weight: bold\">72</span> <span style=\"font-weight: bold\">)</span>  Center Point:   <span style=\"color: #008080; text-decoration-color: #008080; font-weight: bold\">611</span>  <span style=\"font-weight: bold\">(</span> <span style=\"color: #008080; text-decoration-color: #008080; font-weight: bold\">305</span> <span style=\"font-weight: bold\">)</span>  Right Margin:   <span style=\"color: #008080; text-decoration-color: #008080; font-weight: bold\">136</span>  <span style=\"font-weight: bold\">(</span> <span style=\"color: #008080; text-decoration-color: #008080; font-weight: bold\">68</span> <span style=\"font-weight: bold\">)</span>\n",
              "</pre>\n"
            ],
            "text/plain": [
              "Byte  \u001b[1;36m5\u001b[0m   -  Left Margin:   \u001b[1;36m144\u001b[0m  \u001b[1m(\u001b[0m \u001b[1;36m72\u001b[0m \u001b[1m)\u001b[0m  Center Point:   \u001b[1;36m611\u001b[0m  \u001b[1m(\u001b[0m \u001b[1;36m305\u001b[0m \u001b[1m)\u001b[0m  Right Margin:   \u001b[1;36m136\u001b[0m  \u001b[1m(\u001b[0m \u001b[1;36m68\u001b[0m \u001b[1m)\u001b[0m\n"
            ]
          },
          "metadata": {},
          "output_type": "display_data"
        },
        {
          "data": {
            "text/html": [
              "<pre style=\"white-space:pre;overflow-x:auto;line-height:normal;font-family:Menlo,'DejaVu Sans Mono',consolas,'Courier New',monospace\">Byte  <span style=\"color: #008080; text-decoration-color: #008080; font-weight: bold\">6</span>   -  Left Margin:   <span style=\"color: #008080; text-decoration-color: #008080; font-weight: bold\">143</span>  <span style=\"font-weight: bold\">(</span> <span style=\"color: #008080; text-decoration-color: #008080; font-weight: bold\">73</span> <span style=\"font-weight: bold\">)</span>  Center Point:   <span style=\"color: #008080; text-decoration-color: #008080; font-weight: bold\">593</span>  <span style=\"font-weight: bold\">(</span> <span style=\"color: #008080; text-decoration-color: #008080; font-weight: bold\">302</span> <span style=\"font-weight: bold\">)</span>  Right Margin:   <span style=\"color: #008080; text-decoration-color: #008080; font-weight: bold\">119</span>  <span style=\"font-weight: bold\">(</span> <span style=\"color: #008080; text-decoration-color: #008080; font-weight: bold\">61</span> <span style=\"font-weight: bold\">)</span>\n",
              "</pre>\n"
            ],
            "text/plain": [
              "Byte  \u001b[1;36m6\u001b[0m   -  Left Margin:   \u001b[1;36m143\u001b[0m  \u001b[1m(\u001b[0m \u001b[1;36m73\u001b[0m \u001b[1m)\u001b[0m  Center Point:   \u001b[1;36m593\u001b[0m  \u001b[1m(\u001b[0m \u001b[1;36m302\u001b[0m \u001b[1m)\u001b[0m  Right Margin:   \u001b[1;36m119\u001b[0m  \u001b[1m(\u001b[0m \u001b[1;36m61\u001b[0m \u001b[1m)\u001b[0m\n"
            ]
          },
          "metadata": {},
          "output_type": "display_data"
        },
        {
          "data": {
            "text/html": [
              "<pre style=\"white-space:pre;overflow-x:auto;line-height:normal;font-family:Menlo,'DejaVu Sans Mono',consolas,'Courier New',monospace\">Byte  <span style=\"color: #008080; text-decoration-color: #008080; font-weight: bold\">7</span>   -  Left Margin:   <span style=\"color: #008080; text-decoration-color: #008080; font-weight: bold\">145</span>  <span style=\"font-weight: bold\">(</span> <span style=\"color: #008080; text-decoration-color: #008080; font-weight: bold\">73</span> <span style=\"font-weight: bold\">)</span>  Center Point:   <span style=\"color: #008080; text-decoration-color: #008080; font-weight: bold\">648</span>  <span style=\"font-weight: bold\">(</span> <span style=\"color: #008080; text-decoration-color: #008080; font-weight: bold\">326</span> <span style=\"font-weight: bold\">)</span>  Right Margin:   <span style=\"color: #008080; text-decoration-color: #008080; font-weight: bold\">133</span>  <span style=\"font-weight: bold\">(</span> <span style=\"color: #008080; text-decoration-color: #008080; font-weight: bold\">67</span> <span style=\"font-weight: bold\">)</span>\n",
              "</pre>\n"
            ],
            "text/plain": [
              "Byte  \u001b[1;36m7\u001b[0m   -  Left Margin:   \u001b[1;36m145\u001b[0m  \u001b[1m(\u001b[0m \u001b[1;36m73\u001b[0m \u001b[1m)\u001b[0m  Center Point:   \u001b[1;36m648\u001b[0m  \u001b[1m(\u001b[0m \u001b[1;36m326\u001b[0m \u001b[1m)\u001b[0m  Right Margin:   \u001b[1;36m133\u001b[0m  \u001b[1m(\u001b[0m \u001b[1;36m67\u001b[0m \u001b[1m)\u001b[0m\n"
            ]
          },
          "metadata": {},
          "output_type": "display_data"
        },
        {
          "name": "stdout",
          "output_type": "stream",
          "text": [
            "Report Done.\n",
            "\n"
          ]
        }
      ],
      "source": [
        "# Use a single report command to get all latest essential\n",
        "# Status and decoded data collected as it presents\n",
        "ddr.report()\n",
        "# Specify True to argument 1, and name/path to argument 2\n",
        "# to get the report output generated and saved to a file\n",
        "ddr.report(True, \"test_out.txt\")\n",
        "print(\"Report Done.\\n\")"
      ]
    },
    {
      "cell_type": "markdown",
      "id": "2dc611c4",
      "metadata": {},
      "source": [
        "## 8 - Dump the complete set of internal properties as json\n",
        "\n",
        "This demonstrates how to get a Python dictionary of all the low level DDR properties. These can be converted to JSON easily for export to other tools."
      ]
    },
    {
      "cell_type": "code",
      "execution_count": 11,
      "id": "e26c01c1",
      "metadata": {},
      "outputs": [
        {
          "name": "stdout",
          "output_type": "stream",
          "text": [
            "{\n",
            "    \"phy_rden8_dly\": 22,\n",
            "    \"bisc_idly2_align_nibble13\": 77,\n",
            "    \"f1_wrdqdbi_deskew_dq_odly_fcrse_bit33\": 0,\n",
            "    \"cal_stage_time_43\": 0,\n",
            "    \"rdvref_vref_final_nibble10\": 0,\n",
            "    \"f0_wrdqdbi_stg2_dq_odly_bit42\": 55,\n",
            "    \"f0_wrdqdbi_left_edge_dq_bit32\": 110,\n",
            "    \"f0_wrdqdbi_right_margin_fcrse_byte7\": 60,\n",
            "    \"f0_rdcmplx_pqtr_left_short_nibble03\": 21,\n",
            "    \"f1_rddq_idelay_final_bit52\": 0,\n",
            "    \"f1_wrdqdbi_stg2_dq_odly_bit49\": 0,\n",
            "    \"f1_dqsgate_rldlyrnk_crse_final_rank0_byte3\": 0,\n",
            "    \"f0_wrdqdbi_left_edge_dq_bit35\": 93,\n",
            "    \"f1_dqsgate_read_lat_final_byte1\": 0,\n",
            "    \"f0_wrdqdbi_deskew_dq_odly_fcrse_bit47\": 125,\n",
            "    \"f0_rdcmplx_pqtr_right_nibble09\": 157,\n",
            "    \"nsu2_perf_mon_1_0\": 0,\n",
            "    \"cal_warning_19\": 0,\n",
            "    \"f1_wrdqdbi_left_edge_dq_bit26\": 0,\n",
            "    \"cal_stage_time_63\": 0,\n",
            "    \"f0_wrdqdbi_deskew_dq_odly_fcrse_bit49\": 117,\n",
            "    \"f0_wrlvl_noise_fcrse_rank0_byte3\": 75,\n",
            "    \"f0_wrlat_wldlyrnk_crse_final_rank0_byte6\": 3,\n",
            "    \"f0_rd_comp_fall_lm_nib_04\": [\n",
            "        59,\n",
            "        116\n",
            "    ],\n",
            "    \"f0_wrlvl_fine_right_rank0_byte1\": 65,\n",
            "    \"f0_rddq_idelay_final_bit48\": 64,\n",
            "    \"f0_wrcmplx_odly_dq_final_bit29\": 78,\n",
            "    \"f1_rdcmplx_nqtr_left_short_nibble05\": 0,\n",
            "    \"wrvref_right_vref_def_rank0_byte1\": 0,\n",
            "    \"f1_wrlvl_crse_stg1_rank0_byte5\": 0,\n",
            "    \"f0_rddq_qtr_deskew_nibble12\": 1,\n",
            "    \"f1_wrdqdbi_deskew_dq_odly_bit03\": 0,\n",
            "    \"vttrack_rldlyqtr_nibble10\": 78,\n",
            "    \"f1_wrdqdbi_deskew_dq_odly_bit16\": 0,\n",
            "    \"warning_code_ver\": 1,\n",
            "    \"bisc_idly2_align_nibble10\": 67,\n",
            "    \"f0_rdcmplx_pqtr_final_nibble03\": 91,\n",
            "    \"xpi_read_dbi\": 0,\n",
            "    \"f0_rddq_qtr_deskew_nibble03\": 1,\n",
            "    \"f1_wrcmplx_odly_dq_final_bit55\": 0,\n",
            "    \"bisc_rl_dly_qtr_nibble03\": 79,\n",
            "    \"0x00_F0_PHY_BISC\": \"Pass\",\n",
            "    \"bisc_idly3_align_nibble13\": 77,\n",
            "    \"dqstrack_rldlyrnk_fine_min_byte4\": 44,\n",
            "    \"f0_rdcmplx_pqtr_right_short_fcrse_nibble06\": 177,\n",
            "    \"f0_wrcmplx_right_margin_byte2\": 60,\n",
            "    \"wrvref_right_vref_final_rank0_byte6\": 0,\n",
            "    \"f0_wrdqdbi_odly_dq_final_bit03\": 56,\n",
            "    \"f1_dqsgate_stg1_read_lat_rank0_byte5\": 0,\n",
            "    \"f0_wrdqdbi_odly_dq_final_bit06\": 65,\n",
            "    \"f1_rdcmplx_nqtr_left_short_nibble07\": 0,\n",
            "    \"f1_wrlat_wldlyrnk_crse_final_rank0_byte5\": 0,\n",
            "    \"f1_calbisc_rl_dly_nqtr_nibble01\": 0,\n",
            "    \"f0_wrdqdbi_stg3_dq_odly_bit05\": 56,\n",
            "    \"f0_wrdqdbi_deskew_dq_odly_bit07\": 138,\n",
            "    \"f1_wrdqdbi_stg2_dq_odly_bit30\": 0,\n",
            "    \"f0_wrcmplx_odly_dq_final_bit37\": 95,\n",
            "    \"iobmap_dqs_14\": 0,\n",
            "    \"cal_warning_37\": 0,\n",
            "    \"f1_calbisc_rl_dly_nqtr_nibble13\": 0,\n",
            "    \"f1_rdcmplx_nqtr_right_short_nibble13\": 0,\n",
            "    \"f0_rddq_qtr_deskew_nibble02\": 1,\n",
            "    \"cal_stage_time_20\": 0,\n",
            "    \"f0_wrprbs_right_margin_byte0\": 0,\n",
            "    \"f1_wrdqdbi_stg3_dq_odly_bit08\": 0,\n",
            "    \"f1_rdcmplx_nqtr_right_short_nibble07\": 0,\n",
            "    \"f0_rd_simp_fall_ctp_nib_06\": [\n",
            "        96,\n",
            "        185\n",
            "    ],\n",
            "    \"f0_dqsgate_stg1_overflow_12\": 0,\n",
            "    \"ref_en\": 2,\n",
            "    \"f0_wrdqdbi_stg2_dq_odly_bit24\": 71,\n",
            "    \"rdmargin_pqtr_right_nibble13\": 0,\n",
            "    \"f1_dqsgate_rldlyrnk_crse_final_rank0_byte2\": 0,\n",
            "    \"f0_wrdqdbi_stg2_dq_odly_bit57\": 74,\n",
            "    \"phy_rank_write_override_dyn\": 81920,\n",
            "    \"wrvref_left_vref_def_rank0_byte5\": 0,\n",
            "    \"f0_rdcmplx_nqtr_right_short_nibble07\": 162,\n",
            "    \"cal_error_bit_phy_nibble_06\": 0,\n",
            "    \"f0_rdprbs_pqtr_right_margin_nibble08\": 0,\n",
            "    \"f0_rddq_pqtr_right_nibble15\": 171,\n",
            "    \"cal_post_status_00\": 0,\n",
            "    \"f1_wrdqdbi_stg1_dqs_delay_byte3\": 0,\n",
            "    \"cal_seq_status_11\": 397,\n",
            "    \"rdmargin_pqtr_left_nibble02\": 0,\n",
            "    \"ddrmc_isr_nsu_3\": 0,\n",
            "    \"f0_wrdqdbi_stg4_dqs_delay_byte1\": 14,\n",
            "    \"f0_wrdqdbi_left_edge_dq_bit17\": 12,\n",
            "    \"f1_dqsgate_rldlyrnk_crse_final_rank0_byte6\": 0,\n",
            "    \"f1_rddq_pqtr_left_nibble11\": 0,\n",
            "    \"mgchk_enable\": 0,\n",
            "    \"f0_rdcmplx_nqtr_left_nibble05\": 29,\n",
            "    \"rdvref_vref_low_bound_nibble11\": 0,\n",
            "    \"rdvref_right_vref_def_nibble04\": 0,\n",
            "    \"cal_stage_time_10\": 6,\n",
            "    \"f1_rdcmplx_pqtr_right_nibble00\": 0,\n",
            "    \"f1_calbisc_rl_dly_nqtr_nibble03\": 0,\n",
            "    \"f0_rdcmplx_pqtr_left_short_nibble06\": 21,\n",
            "    \"f0_rdprbs_pqtr_right_margin_nibble11\": 0,\n",
            "    \"f1_wrdqdbi_stg2_dq_odly_bit29\": 0,\n",
            "    \"rdvref_left_vref_upp_bound_nibble14\": 0,\n",
            "    \"f1_wrlvl_fine_right_rank0_byte7\": 0,\n",
            "    \"bisc_pqtr_align_nibble12\": 1,\n",
            "    \"f0_wrdqdbi_left_margin_byte7\": 84,\n",
            "    \"f0_rddq_pqtr_left_nibble06\": 18,\n",
            "    \"f0_rddq_nqtr_right_fcrse_nibble15\": 176,\n",
            "    \"f1_rddq_idelay_final_bit16\": 0,\n",
            "    \"cal_stage_time_19\": 86,\n",
            "    \"rdvref_right_vref_low_bound_nibble00\": 0,\n",
            "    \"rdvref_vref_upp_bound_nibble07\": 0,\n",
            "    \"f1_wrdqdbi_deskew_dq_odly_fcrse_bit21\": 0,\n",
            "    \"f1_rdcmplx_nqtr_right_short_fcrse_nibble06\": 0,\n",
            "    \"f1_rdprbs_pqtr_right_margin_nibble14\": 0,\n",
            "    \"f0_rdcmplx_nqtr_right_nibble14\": 147,\n",
            "    \"f1_rdprbs_pqtr_right_margin_nibble10\": 0,\n",
            "    \"f0_rdprbs_nqtr_left_margin_nibble02\": 0,\n",
            "    \"f1_rdcmplx_pqtr_final_nibble12\": 0,\n",
            "    \"iobmap_dqs_4\": 0,\n",
            "    \"wrmargin_left_byte0\": 0,\n",
            "    \"f1_rdcmplx_nqtr_final_nibble09\": 0,\n",
            "    \"f1_wrdqdbi_stg3_dq_odly_bit14\": 0,\n",
            "    \"f0_wrdqdbi_stg4_byte_status_01\": 511,\n",
            "    \"mgchk_step\": 0,\n",
            "    \"f0_calbisc_rl_dly_nqtr_nibble08\": 79,\n",
            "    \"f0_wrdqdbi_stg4_dqs_delay_byte0\": 14,\n",
            "    \"wrmargin_left_byte5\": 0,\n",
            "    \"f0_wrdqdbi_stg3_dq_odly_bit20\": 26,\n",
            "    \"f0_rdcmplx_pqtr_right_short_fcrse_nibble13\": 179,\n",
            "    \"f1_rddq_idelay_final_bit32\": 0,\n",
            "    \"f1_dqsgate_stg1_overflow_61\": 0,\n",
            "    \"f1_rdprbs_nqtr_right_margin_nibble05\": 0,\n",
            "    \"bisc_mon_align_nibble04\": 0,\n",
            "    \"f1_wrcmplx_odly_dq_final_bit58\": 0,\n",
            "    \"f0_rd_comp_fall_rm_nib_05\": [\n",
            "        61,\n",
            "        119\n",
            "    ],\n",
            "    \"f0_rd_simp_rise_rm_nib_04\": [\n",
            "        77,\n",
            "        152\n",
            "    ],\n",
            "    \"f0_wrprbs_right_margin_byte7\": 0,\n",
            "    \"cal_seq_status_21\": 292,\n",
            "    \"f0_dqsgate_stg1_overflow_09\": 0,\n",
            "    \"f0_rd_simp_rise_ctp_nib_06\": [\n",
            "        95,\n",
            "        188\n",
            "    ],\n",
            "    \"iobmap_dq_3_2\": 0,\n",
            "    \"fifo_rden_dly\": 19,\n",
            "    \"f1_wrdqdbi_stg3_dq_odly_bit19\": 0,\n",
            "    \"f1_rdcmplx_pqtr_left_short_nibble06\": 0,\n",
            "    \"bisc_idly5_align_nibble04\": 74,\n",
            "    \"wrvref_left_vref_def_rank0_byte1\": 0,\n",
            "    \"f1_wrdqdbi_deskew_dq_odly_fcrse_bit24\": 0,\n",
            "    \"f0_wrdqdbi_stg3_dq_odly_bit33\": 96,\n",
            "    \"f1_rddq_pqtr_right_nibble08\": 0,\n",
            "    \"f1_wrcmplx_odly_dq_final_bit57\": 0,\n",
            "    \"f0_rd_simp_fall_lm_nib_04\": [\n",
            "        74,\n",
            "        146\n",
            "    ],\n",
            "    \"f1_rdcmplx_pqtr_right_nibble12\": 0,\n",
            "    \"reg_safe_config0\": 440468484,\n",
            "    \"rdvref_right_vref_final_nibble10\": 0,\n",
            "    \"f0_rdcmplx_pqtr_right_short_nibble02\": 171,\n",
            "    \"f1_rdcmplx_nqtr_left_short_nibble06\": 0,\n",
            "    \"cal_stage_time_07\": 0,\n",
            "    \"f0_rddq_nqtr_right_nibble13\": 172,\n",
            "    \"cal_error_bit_phy_nibble_02\": 0,\n",
            "    \"f0_dqsgate_stg1_overflow_44\": 0,\n",
            "    \"f0_wrdqdbi_right_margin_byte0\": 73,\n",
            "    \"mgchk_def_wr_vref\": 28,\n",
            "    \"f1_dqsgate_read_lat_final_byte0\": 0,\n",
            "    \"f0_rdcmplx_pqtr_left_short_nibble09\": 26,\n",
            "    \"f1_wrdqdbi_odly_dq_final_bit33\": 0,\n",
            "    \"bisc_nqtr_align_nibble06\": 0,\n",
            "    \"f0_wrdqdbi_left_edge_dq_bit63\": 75,\n",
            "    \"f0_mr2_17_9\": 0,\n",
            "    \"f0_rddq_pqtr_right_fcrse_nibble01\": 173,\n",
            "    \"f1_wrcmplx_odly_dq_final_bit34\": 0,\n",
            "    \"f0_rdprbs_pqtr_right_margin_nibble09\": 0,\n",
            "    \"f0_rd_simp_rise_ctp_nib_02\": [\n",
            "        93,\n",
            "        179\n",
            "    ],\n",
            "    \"ddrmc_isr_ch0_data_par\": 0,\n",
            "    \"f0_rddq_idelay_final_bit11\": 73,\n",
            "    \"wrvref_right_vref_low_bound_rank0_byte3\": 0,\n",
            "    \"f0_wr_simp_ctp_byte_05\": [\n",
            "        305,\n",
            "        611\n",
            "    ],\n",
            "    \"rdvref_right_vref_final_nibble15\": 0,\n",
            "    \"f1_wrdqdbi_stg2_dq_odly_bit14\": 0,\n",
            "    \"f0_rd_simp_fall_rm_nib_02\": [\n",
            "        76,\n",
            "        150\n",
            "    ],\n",
            "    \"wrvref_left_vref_upp_bound_rank0_byte0\": 0,\n",
            "    \"f0_wrdqdbi_stg2_dqs_odly_byte7\": 90,\n",
            "    \"f0_rcd_rc3x\": 0,\n",
            "    \"f0_rddq_idelay_final_bit13\": 75,\n",
            "    \"f1_dqsgate_stg1_overflow_59\": 0,\n",
            "    \"f1_rdcmplx_pqtr_right_nibble13\": 0,\n",
            "    \"f0_wrlat_phy_oe_nib_final_byte2\": 1,\n",
            "    \"f1_rddq_idelay_final_bit23\": 0,\n",
            "    \"f0_rdcmplx_nqtr_left_nibble03\": 27,\n",
            "    \"0x11_F0_READ_DQ_DBI_CAL_COMPLEX\": \"Pass\",\n",
            "    \"rdvref_vref_upp_bound_nibble03\": 0,\n",
            "    \"f1_wrdqdbi_deskew_dq_odly_fcrse_bit61\": 0,\n",
            "    \"cal_error\": 0,\n",
            "    \"f0_calbisc_rl_dly_qtr_nibble15\": 78,\n",
            "    \"f1_wrlvl_crse_stg1_rank0_byte1\": 0,\n",
            "    \"phy_rden1_dly\": 26,\n",
            "    \"f1_wrdqdbi_deskew_dq_odly_fcrse_bit40\": 0,\n",
            "    \"f0_rdcmplx_pqtr_left_nibble05\": 23,\n",
            "    \"bisc_idly2_align_nibble11\": 74,\n",
            "    \"f0_rd_comp_fall_ctp_nib_00\": [\n",
            "        91,\n",
            "        173\n",
            "    ],\n",
            "    \"f1_wrdqdbi_deskew_dq_odly_bit61\": 0,\n",
            "    \"f0_wr_simp_rm_byte_01\": [\n",
            "        63,\n",
            "        123\n",
            "    ],\n",
            "    \"f1_rdprbs_nqtr_right_margin_nibble06\": 0,\n",
            "    \"f1_wrdqdbi_deskew_dq_odly_fcrse_bit15\": 0,\n",
            "    \"f1_rdcmplx_nqtr_left_nibble07\": 0,\n",
            "    \"dimm_type\": 1,\n",
            "    \"f1_dqsgate_stg1_overflow_27\": 0,\n",
            "    \"f1_wrcmplx_right_margin_byte0\": 0,\n",
            "    \"f0_rdcmplx_nqtr_right_short_fcrse_nibble01\": 174,\n",
            "    \"f0_wrdqdbi_odly_dq_final_bit39\": 103,\n",
            "    \"f0_rd_simp_fall_rm_nib_07\": [\n",
            "        73,\n",
            "        144\n",
            "    ],\n",
            "    \"cal_warning_71\": 0,\n",
            "    \"rdvref_vref_low_bound_nibble06\": 0,\n",
            "    \"rdvref_left_vref_low_bound_nibble08\": 0,\n",
            "    \"f0_rdcmplx_pqtr_final_nibble07\": 96,\n",
            "    \"f1_dqsgate_stg1_overflow_39\": 0,\n",
            "    \"cal_stage_time_05\": 0,\n",
            "    \"f0_wrdqdbi_deskew_dq_odly_bit47\": 132,\n",
            "    \"f1_rdcmplx_nqtr_final_nibble00\": 0,\n",
            "    \"f0_rdprbs_pqtr_left_margin_nibble10\": 0,\n",
            "    \"f1_calbisc_rl_dly_qtr_nibble10\": 0,\n",
            "    \"f1_dqsgate_stg2_rldlyrnk_crse_rank0_byte2\": 0,\n",
            "    \"rdmargin_pqtr_left_nibble15\": 0,\n",
            "    \"phy_rden16_dly\": 26,\n",
            "    \"cal_seq_status_04\": 262,\n",
            "    \"f1_wrdqdbi_deskew_dq_odly_fcrse_bit54\": 0,\n",
            "    \"f0_wrdqdbi_stg1_bit_status_byte3\": 0,\n",
            "    \"f0_wrcmplx_odly_dqs_final_byte3\": 89,\n",
            "    \"cal_stage.11_READ_DQS_TRACK\": \"Pass\",\n",
            "    \"f0_wrdqdbi_stg2_dq_odly_bit06\": 56,\n",
            "    \"iobmap_dq_19_18\": 0,\n",
            "    \"f1_rdcmplx_idelay_offset_nibble12\": 0,\n",
            "    \"f0_rddq_pqtr_left_nibble11\": 18,\n",
            "    \"f0_wrlvl_fine_right_rank0_byte2\": 29,\n",
            "    \"f0_wrdqdbi_stg5_dqs_odly_byte0\": 72,\n",
            "    \"f1_rddq_nqtr_left_nibble08\": 0,\n",
            "    \"f1_wrdqdbi_stg1_bit_status_byte0\": 0,\n",
            "    \"f1_wrdqdbi_stg2_dq_odly_bit22\": 0,\n",
            "    \"f1_wrdqdbi_deskew_dq_odly_bit31\": 0,\n",
            "    \"f1_wrdqdbi_odly_dqs_final_byte5\": 0,\n",
            "    \"f1_rddq_nqtr_right_fcrse_nibble12\": 0,\n",
            "    \"f0_rd_comp_rise_lm_nib_05\": [\n",
            "        66,\n",
            "        127\n",
            "    ],\n",
            "    \"cal_stage_time_22\": 0,\n",
            "    \"bisc_mon_align_nibble08\": 0,\n",
            "    \"f0_rd_comp_rise_lm_nib_07\": [\n",
            "        74,\n",
            "        146\n",
            "    ],\n",
            "    \"f1_wrdqdbi_deskew_dq_odly_bit32\": 0,\n",
            "    \"f1_calbisc_rl_dly_nqtr_nibble02\": 0,\n",
            "    \"cal_seq_status_02\": 260,\n",
            "    \"f1_wrdqdbi_right_margin_byte3\": 0,\n",
            "    \"f1_wrprbs_left_margin_byte3\": 0,\n",
            "    \"f1_rddq_idelay_final_bit17\": 0,\n",
            "    \"f0_rdprbs_nqtr_right_margin_nibble03\": 0,\n",
            "    \"f1_wrcmplx_odly_dq_final_bit51\": 0,\n",
            "    \"f0_wrlat_phy_oe_nib_final_byte0\": 0,\n",
            "    \"f0_rddq_nqtr_final_nibble12\": 96,\n",
            "    \"f1_wrlvl_crse_final_rank0_byte5\": 0,\n",
            "    \"f1_rddq_nqtr_right_nibble13\": 0,\n",
            "    \"cal_error_bit_phy_nibble_00\": 0,\n",
            "    \"f0_wrdqdbi_stg2_dq_odly_bit08\": 62,\n",
            "    \"f0_wrdqdbi_odly_dq_final_bit56\": 95,\n",
            "    \"f1_wrdqdbi_left_edge_dq_bit42\": 0,\n",
            "    \"f1_wrdqdbi_deskew_dq_odly_fcrse_bit51\": 0,\n",
            "    \"f1_wrdqdbi_stg2_dq_odly_bit28\": 0,\n",
            "    \"vttrack_rldlyqtr_min_nibble15\": 78,\n",
            "    \"f0_wrdqdbi_odly_dq_final_bit40\": 74,\n",
            "    \"rdmargin_pqtr_left_nibble10\": 0,\n",
            "    \"f0_wrlvl_fine_final_rank0_byte0\": 56,\n",
            "    \"f0_rddq_pqtr_left_nibble15\": 18,\n",
            "    \"wrvref_left_vref_upp_bound_rank0_byte2\": 0,\n",
            "    \"f1_rddq_pqtr_right_nibble04\": 0,\n",
            "    \"mgchk_pattern_config_0\": 0,\n",
            "    \"f0_wrcmplx_odly_dqs_final_byte7\": 90,\n",
            "    \"f1_wrdqdbi_odly_dq_final_bit01\": 0,\n",
            "    \"cal_stage_time_40\": 0,\n",
            "    \"f1_rdcmplx_nqtr_left_short_nibble03\": 0,\n",
            "    \"f0_wrdqdbi_deskew_dq_odly_fcrse_bit00\": 136,\n",
            "    \"f0_wrdqdbi_odly_dq_final_bit16\": 43,\n",
            "    \"cal_error_data_nibble_17_9\": 0,\n",
            "    \"rdvref_left_vref_upp_bound_nibble11\": 0,\n",
            "    \"f0_wrcmplx_odly_dq_final_bit27\": 87,\n",
            "    \"rdvref_vref_upp_bound_nibble14\": 0,\n",
            "    \"f0_rddq_pqtr_right_nibble08\": 172,\n",
            "    \"phy_oe_nib9_dly\": 0,\n",
            "    \"vttrack_rldlyqtr_min_nibble00\": 77,\n",
            "    \"nsu3_perf_mon_ctl_0_1\": 0,\n",
            "    \"f1_dqsgate_stg1_overflow_02\": 0,\n",
            "    \"f0_calbisc_rl_dly_pqtr_nibble04\": 79,\n",
            "    \"f0_dqsgate_stg1_rldlyrnk_crse_rank0_byte4\": 13,\n",
            "    \"f1_wrdqdbi_stg2_dq_odly_bit53\": 0,\n",
            "    \"f1_rdcmplx_nqtr_final_nibble02\": 0,\n",
            "    \"f0_rddq_nqtr_left_nibble04\": 28,\n",
            "    \"f0_dqsgate_stg1_rldlyrnk_crse_rank0_byte2\": 9,\n",
            "    \"f0_rd_simp_fall_ctp_nib_00\": [\n",
            "        99,\n",
            "        189\n",
            "    ],\n",
            "    \"f1_wrdqdbi_stg1_bit_status_byte6\": 0,\n",
            "    \"f0_wrcmplx_odly_dq_final_bit41\": 58,\n",
            "    \"f0_wrdqdbi_stg1_byte_status_00\": 511,\n",
            "    \"f0_rddq_idelay_final_bit51\": 69,\n",
            "    \"wrmargin_right_byte1\": 0,\n",
            "    \"f1_wrdqdbi_stg3_dq_odly_bit63\": 0,\n",
            "    \"f1_wrdqdbi_left_edge_dq_bit56\": 0,\n",
            "    \"f1_wrlat_min_latency\": 0,\n",
            "    \"f0_wrdqdbi_left_edge_dbi_byte4\": 96,\n",
            "    \"f0_wrdqdbi_deskew_dq_odly_fcrse_bit15\": 132,\n",
            "    \"f0_wrdqdbi_stg2_dqs_odly_byte1\": 78,\n",
            "    \"f0_wrdqdbi_right_margin_byte6\": 71,\n",
            "    \"dqstrack_rldlyrnk_crse_byte6\": 3,\n",
            "    \"f0_wr_comp_lm_byte_02\": [\n",
            "        74,\n",
            "        145\n",
            "    ],\n",
            "    \"f0_wrdqdbi_stg5_dqs_odly_byte2\": 42,\n",
            "    \"f0_wrdqdbi_deskew_dq_odly_fcrse_bit40\": 145,\n",
            "    \"f0_wrdqdbi_deskew_dq_odly_bit05\": 141,\n",
            "    \"f1_wrcmplx_odly_dq_final_bit41\": 0,\n",
            "    \"f0_rd_comp_fall_rm_nib_07\": [\n",
            "        59,\n",
            "        116\n",
            "    ],\n",
            "    \"f0_wrdqdbi_deskew_dq_odly_bit26\": 140,\n",
            "    \"rdvref_vref_final_nibble15\": 0,\n",
            "    \"bisc_idly4_align_nibble14\": 73,\n",
            "    \"f0_mr0_8_0\": 336,\n",
            "    \"f1_rddq_nqtr_final_nibble14\": 0,\n",
            "    \"f1_wrdqdbi_stg3_dq_odly_bit33\": 0,\n",
            "    \"f1_wrdqdbi_deskew_dq_odly_bit08\": 0,\n",
            "    \"f1_wrdqdbi_left_edge_dq_bit04\": 0,\n",
            "    \"f1_wrcmplx_right_margin_byte1\": 0,\n",
            "    \"cal_warning_13\": 0,\n",
            "    \"bisc_nqtr_nibble13\": 81,\n",
            "    \"f1_calbisc_rl_dly_qtr_nibble03\": 0,\n",
            "    \"f1_dqsgate_stg1_overflow_34\": 0,\n",
            "    \"f0_wrlat_phy_data_nib_final_byte3\": 1,\n",
            "    \"rdvref_vref_low_bound_nibble00\": 0,\n",
            "    \"f0_rdcmplx_pqtr_left_short_nibble11\": 21,\n",
            "    \"f0_wrdqdbi_odly_dbi_final_byte6\": 49,\n",
            "    \"ddrmc_isr_ch1_data_par\": 0,\n",
            "    \"f0_rd_comp_rise_ctp_nib_07\": [\n",
            "        96,\n",
            "        190\n",
            "    ],\n",
            "    \"mgchk_enable_status\": 0,\n",
            "    \"f0_wrdqdbi_deskew_dq_odly_bit01\": 132,\n",
            "    \"iobmap_dq_71_70\": 0,\n",
            "    \"rdvref_left_vref_final_nibble01\": 0,\n",
            "    \"f1_rdcmplx_pqtr_left_short_nibble07\": 0,\n",
            "    \"f0_wrlvl_noise_fcrse_rank0_byte6\": 55,\n",
            "    \"f0_mr4_8_0\": 0,\n",
            "    \"f0_wrdqdbi_deskew_dq_odly_bit30\": 154,\n",
            "    \"f1_rddq_idelay_final_bit61\": 0,\n",
            "    \"f0_wrcmplx_left_margin_fcrse_byte1\": 70,\n",
            "    \"bisc_idly4_align_nibble07\": 81,\n",
            "    \"wrvref_left_vref_low_bound_rank0_byte7\": 0,\n",
            "    \"f0_rd_comp_rise_ctp_nib_12\": [\n",
            "        90,\n",
            "        178\n",
            "    ],\n",
            "    \"rdvref_right_vref_low_bound_nibble07\": 0,\n",
            "    \"f0_wrdqdbi_deskew_dq_odly_bit39\": 170,\n",
            "    \"f1_wrdqdbi_stg3_dq_odly_bit59\": 0,\n",
            "    \"phy_rden25_dly\": 25,\n",
            "    \"f1_wrdqdbi_odly_dq_final_bit61\": 0,\n",
            "    \"f1_rdcmplx_nqtr_right_nibble12\": 0,\n",
            "    \"cal_error_bit_phy_nibble_13\": 0,\n",
            "    \"cal_warning_78\": 0,\n",
            "    \"f0_rdcmplx_idelay_offset_nibble06\": 0,\n",
            "    \"cal_warning_23\": 0,\n",
            "    \"f1_rddq_idelay_final_bit53\": 0,\n",
            "    \"f0_dqsgate_stg1_overflow_18\": 0,\n",
            "    \"f0_rddq_qtr_deskew_nibble14\": 1,\n",
            "    \"f1_rddq_nqtr_right_fcrse_nibble11\": 0,\n",
            "    \"f1_wrdqdbi_left_edge_dbi_byte6\": 0,\n",
            "    \"f1_rdcmplx_pqtr_right_nibble09\": 0,\n",
            "    \"f0_rd_simp_fall_lm_nib_01\": [\n",
            "        74,\n",
            "        144\n",
            "    ],\n",
            "    \"f1_wrdqdbi_deskew_dq_odly_bit50\": 0,\n",
            "    \"f0_wrdqdbi_stg3_dq_odly_bit57\": 74,\n",
            "    \"bisc_idly5_align_nibble11\": 81,\n",
            "    \"f1_rdcmplx_nqtr_right_short_nibble03\": 0,\n",
            "    \"f0_rd_comp_rise_rm_nib_13\": [\n",
            "        72,\n",
            "        140\n",
            "    ],\n",
            "    \"f0_wrdqdbi_stg2_dq_odly_bit34\": 96,\n",
            "    \"cal_stage_time_50\": 0,\n",
            "    \"phy_oe_nib10_dly\": 0,\n",
            "    \"f0_wrdqdbi_deskew_dq_odly_bit35\": 160,\n",
            "    \"f0_rdcmplx_idelay_offset_nibble12\": 0,\n",
            "    \"rdvref_left_vref_low_bound_nibble10\": 0,\n",
            "    \"f1_rdcmplx_nqtr_left_short_nibble14\": 0,\n",
            "    \"f1_wrdqdbi_odly_dq_final_bit05\": 0,\n",
            "    \"bisc_mon_align_nibble14\": 0,\n",
            "    \"f0_wrdqdbi_stg2_dqs_odly_byte2\": 42,\n",
            "    \"f1_wrdqdbi_odly_dq_final_bit18\": 0,\n",
            "    \"f1_rddq_pqtr_final_nibble07\": 0,\n",
            "    \"f0_rddq_pqtr_final_nibble14\": 95,\n",
            "    \"f1_wrdqdbi_deskew_dq_odly_fcrse_bit57\": 0,\n",
            "    \"cal_warning_72\": 0,\n",
            "    \"f1_rddq_nqtr_right_fcrse_nibble08\": 0,\n",
            "    \"f1_rddq_pqtr_right_nibble13\": 0,\n",
            "    \"f0_dqsgate_stg1_overflow_16\": 0,\n",
            "    \"f1_wrcmplx_odly_dqs_final_byte1\": 0,\n",
            "    \"f1_wrdqdbi_deskew_dq_odly_fcrse_bit58\": 0,\n",
            "    \"f1_wrdqdbi_stg5_dqs_odly_byte2\": 0,\n",
            "    \"rdmargin_nqtr_right_nibble14\": 0,\n",
            "    \"f0_wrdqdbi_left_edge_dbi_byte0\": 56,\n",
            "    \"iobmap_dqs_16\": 0,\n",
            "    \"f1_rddq_idelay_final_bit56\": 0,\n",
            "    \"cal_stage.08_F0_READ_DQ_DBI_CAL_COMPLEX\": \"Pass\",\n",
            "    \"f0_rdprbs_nqtr_left_margin_nibble08\": 0,\n",
            "    \"f1_wrprbs_right_margin_byte7\": 0,\n",
            "    \"wrvref_left_vref_upp_bound_rank0_byte6\": 0,\n",
            "    \"f1_wrcmplx_right_margin_fcrse_byte5\": 0,\n",
            "    \"f1_rddq_nqtr_right_fcrse_nibble10\": 0,\n",
            "    \"f0_rdcmplx_nqtr_right_short_nibble14\": 165,\n",
            "    \"f1_wrdqdbi_deskew_dq_odly_bit45\": 0,\n",
            "    \"f0_wrdqdbi_odly_dq_final_bit49\": 48,\n",
            "    \"f1_rdcmplx_idelay_offset_nibble10\": 0,\n",
            "    \"cal_warning_21\": 0,\n",
            "    \"f0_rddq_qtr_deskew_nibble01\": 1,\n",
            "    \"f0_dqsgate_rldlyrnk_crse_final_rank0_byte6\": 3,\n",
            "    \"f1_wrlat_phy_oe_nib_final_byte3\": 0,\n",
            "    \"f1_rdprbs_pqtr_right_margin_nibble02\": 0,\n",
            "    \"f1_wrdqdbi_deskew_dq_odly_bit15\": 0,\n",
            "    \"cal_seq_status_42\": 0,\n",
            "    \"f1_xpll_divclk_ht\": 1,\n",
            "    \"cal_warning_46\": 0,\n",
            "    \"f0_wrdqdbi_deskew_dq_odly_fcrse_bit09\": 132,\n",
            "    \"f1_rddq_nqtr_right_nibble10\": 0,\n",
            "    \"f1_rddq_idelay_final_bit40\": 0,\n",
            "    \"rdmargin_pqtr_right_nibble11\": 0,\n",
            "    \"f0_rdcmplx_pqtr_right_short_nibble00\": 170,\n",
            "    \"wrvref_left_vref_low_bound_rank0_byte0\": 0,\n",
            "    \"f1_wrdqdbi_left_edge_dq_bit44\": 0,\n",
            "    \"f1_wrdqdbi_odly_dq_final_bit00\": 0,\n",
            "    \"f0_wrdqdbi_stg3_dq_odly_bit31\": 71,\n",
            "    \"f1_wrdqdbi_stg3_dq_odly_bit20\": 0,\n",
            "    \"f0_wrdqdbi_deskew_dq_odly_bit45\": 130,\n",
            "    \"f1_rdcmplx_pqtr_right_short_nibble10\": 0,\n",
            "    \"vttrack_rldlyqtr_max_nibble05\": 82,\n",
            "    \"dqstrack_rldlyrnk_crse_min_byte7\": 5,\n",
            "    \"f0_rdcmplx_pqtr_final_nibble13\": 95,\n",
            "    \"0x3c_EN_VT_TRACK\": \"Pass\",\n",
            "    \"f0_wr_comp_lm_byte_07\": [\n",
            "        73,\n",
            "        145\n",
            "    ],\n",
            "    \"f0_wr_comp_ctp_byte_00\": [\n",
            "        232,\n",
            "        453\n",
            "    ],\n",
            "    \"f0_rd_comp_rise_ctp_nib_10\": [\n",
            "        90,\n",
            "        176\n",
            "    ],\n",
            "    \"cal_stage.01_F0_PHY_BISC\": \"Pass\",\n",
            "    \"f0_wrcmplx_odly_dq_final_bit39\": 105,\n",
            "    \"f1_wrdqdbi_right_margin_byte1\": 0,\n",
            "    \"f1_rcd_rc3x\": 0,\n",
            "    \"f0_wrdqdbi_deskew_dq_odly_bit55\": 134,\n",
            "    \"bisc_idly0_align_nibble04\": 0,\n",
            "    \"f0_wrlvl_crse_stg1_rank0_byte1\": 3,\n",
            "    \"f0_wrcmplx_odly_dq_final_bit16\": 50,\n",
            "    \"f0_rddq_nqtr_right_nibble08\": 165,\n",
            "    \"f1_calbisc_rl_dly_qtr_nibble12\": 0,\n",
            "    \"phy_rden4_dly\": 27,\n",
            "    \"iobmap_dq_5_4\": 0,\n",
            "    \"f1_dm_dbi_en\": 1,\n",
            "    \"phy_oe_nib15_dly\": 1,\n",
            "    \"f0_wrdqdbi_deskew_dq_odly_fcrse_bit08\": 132,\n",
            "    \"f0_wrdqdbi_odly_dq_final_bit59\": 80,\n",
            "    \"f0_rdcmplx_nqtr_left_nibble12\": 23,\n",
            "    \"f1_wrlvl_fine_left_rank0_byte2\": 0,\n",
            "    \"f0_wrdqdbi_stg4_dqs_delay_byte5\": 14,\n",
            "    \"f1_rddq_nqtr_final_nibble03\": 0,\n",
            "    \"f1_dqsgate_read_lat_final_byte4\": 0,\n",
            "    \"f1_wrdqdbi_stg3_dq_odly_bit27\": 0,\n",
            "    \"f0_wrdqdbi_stg5_dqs_odly_byte3\": 87,\n",
            "    \"f1_rdprbs_pqtr_left_margin_nibble10\": 0,\n",
            "    \"f0_wrcmplx_odly_dq_final_bit47\": 60,\n",
            "    \"f0_wrcmplx_odly_dq_final_bit54\": 62,\n",
            "    \"dc1_perf_mon_4\": 0,\n",
            "    \"f0_rdcmplx_nqtr_right_short_nibble02\": 173,\n",
            "    \"f0_wrdqdbi_stg3_dq_odly_bit48\": 47,\n",
            "    \"f0_rddq_qtr_deskew_nibble06\": 1,\n",
            "    \"f0_rdcmplx_pqtr_right_short_fcrse_nibble15\": 178,\n",
            "    \"f0_rdcmplx_pqtr_left_short_nibble02\": 21,\n",
            "    \"f1_dqsgate_stg1_overflow_03\": 0,\n",
            "    \"f1_wrdqdbi_stg2_dq_odly_bit13\": 0,\n",
            "    \"f1_rdcmplx_nqtr_left_nibble03\": 0,\n",
            "    \"f1_wrcmplx_left_margin_fcrse_byte4\": 0,\n",
            "    \"cal_seq_status_26\": 297,\n",
            "    \"cal_seq_status_41\": 447,\n",
            "    \"vttrack_rldlyqtr_max_nibble10\": 82,\n",
            "    \"iobmap_dq_33_32\": 0,\n",
            "    \"f0_rd_simp_fall_ctp_nib_14\": [\n",
            "        95,\n",
            "        190\n",
            "    ],\n",
            "    \"dual_freq_en\": 0,\n",
            "    \"f1_wrdqdbi_stg2_dq_odly_bit57\": 0,\n",
            "    \"f0_rdprbs_nqtr_left_margin_nibble15\": 0,\n",
            "    \"wrvref_left_vref_low_bound_rank0_byte1\": 0,\n",
            "    \"rdmargin_nqtr_left_nibble09\": 0,\n",
            "    \"bisc_rl_dly_qtr_nibble08\": 79,\n",
            "    \"ddrmc_isr_nsu_0\": 0,\n",
            "    \"f1_rddq_qtr_deskew_nibble11\": 0,\n",
            "    \"f0_wrdqdbi_deskew_dq_odly_fcrse_bit22\": 106,\n",
            "    \"f1_rdcmplx_pqtr_right_short_nibble01\": 0,\n",
            "    \"f0_rdprbs_nqtr_right_margin_nibble07\": 0,\n",
            "    \"f1_rdcmplx_pqtr_final_nibble13\": 0,\n",
            "    \"f1_rdprbs_nqtr_left_margin_nibble03\": 0,\n",
            "    \"f0_wrdqdbi_deskew_dq_odly_fcrse_bit54\": 127,\n",
            "    \"f0_wrcmplx_odly_dbi_final_byte1\": 77,\n",
            "    \"f0_rd_simp_fall_ctp_nib_12\": [\n",
            "        96,\n",
            "        188\n",
            "    ],\n",
            "    \"f1_dqsgate_stg1_overflow_41\": 0,\n",
            "    \"f1_rddq_nqtr_final_nibble11\": 0,\n",
            "    \"f1_rdprbs_nqtr_right_margin_nibble13\": 0,\n",
            "    \"rdvref_right_vref_low_bound_nibble06\": 0,\n",
            "    \"f1_rddq_nqtr_right_fcrse_nibble02\": 0,\n",
            "    \"f0_rdcmplx_pqtr_right_short_nibble15\": 167,\n",
            "    \"f0_lp4_mr14\": 0,\n",
            "    \"f1_calbisc_rl_dly_pqtr_nibble04\": 0,\n",
            "    \"f0_wrdqdbi_stg1_bit_status_byte1\": 0,\n",
            "    \"f1_rddq_idelay_final_bit03\": 0,\n",
            "    \"f1_wrdqdbi_stg3_dq_odly_bit53\": 0,\n",
            "    \"f1_wrdqdbi_deskew_dq_odly_bit11\": 0,\n",
            "    \"f0_wrdqdbi_stg2_dq_odly_bit61\": 74,\n",
            "    \"f0_wrdqdbi_stg1_dqs_delay_byte0\": 72,\n",
            "    \"f0_db_f0bc6x\": 0,\n",
            "    \"f0_dqsgate_stg1_read_lat_rank0_byte5\": 24,\n",
            "    \"f1_rdcmplx_pqtr_right_nibble08\": 0,\n",
            "    \"f1_wrdqdbi_deskew_dq_odly_fcrse_bit13\": 0,\n",
            "    \"f1_wrdqdbi_deskew_dq_odly_fcrse_bit31\": 0,\n",
            "    \"f0_wrdqdbi_stg3_dq_odly_bit55\": 47,\n",
            "    \"f0_rd_simp_fall_ctp_nib_08\": [\n",
            "        92,\n",
            "        182\n",
            "    ],\n",
            "    \"ddrmc_isr_nsu_fatal2\": 0,\n",
            "    \"f0_wrlvl_crse_final_rank0_byte5\": 3,\n",
            "    \"bisc_idly3_align_nibble04\": 69,\n",
            "    \"f1_wrdqdbi_deskew_dq_odly_fcrse_bit09\": 0,\n",
            "    \"f0_dqsgate_stg1_overflow_62\": 0,\n",
            "    \"f1_wrdqdbi_stg1_byte_status_01\": 0,\n",
            "    \"f1_wrlat_init_latency\": 0,\n",
            "    \"cal_seq_status_25\": 296,\n",
            "    \"f0_rcd_rc0a\": 0,\n",
            "    \"f0_wr_simp_rm_byte_06\": [\n",
            "        71,\n",
            "        139\n",
            "    ],\n",
            "    \"f1_wrdqdbi_deskew_dq_odly_bit62\": 0,\n",
            "    \"f0_rddq_nqtr_right_nibble00\": 172,\n",
            "    \"nsu0_perf_mon_0_1\": 0,\n",
            "    \"nsu1_perf_mon_0_1\": 0,\n",
            "    \"f0_rdcmplx_pqtr_right_nibble11\": 162,\n",
            "    \"f0_rdcmplx_nqtr_right_nibble05\": 150,\n",
            "    \"f1_rdcmplx_nqtr_right_short_fcrse_nibble04\": 0,\n",
            "    \"f0_rdcmplx_idelay_offset_nibble13\": 0,\n",
            "    \"f0_rd_simp_rise_ctp_nib_07\": [\n",
            "        96,\n",
            "        190\n",
            "    ],\n",
            "    \"f0_wrlvl_fine_left_rank0_byte0\": 53,\n",
            "    \"f0_rdprbs_pqtr_left_margin_nibble00\": 0,\n",
            "    \"f1_wrdqdbi_odly_dbi_final_byte3\": 0,\n",
            "    \"f1_wrcmplx_left_margin_fcrse_byte1\": 0,\n",
            "    \"cal_error_bit_phy_nibble_23\": 0,\n",
            "    \"dqstrack_rldlyrnk_crse_max_byte7\": 5,\n",
            "    \"f0_wrlvl_fine_right_rank0_byte0\": 60,\n",
            "    \"f1_rdcmplx_nqtr_final_nibble07\": 0,\n",
            "    \"f0_tck_msb\": 1,\n",
            "    \"rdvref_left_vref_upp_bound_nibble09\": 0,\n",
            "    \"f0_wrdqdbi_deskew_dq_odly_bit62\": 171,\n",
            "    \"f0_wrlvl_fine_final_rank0_byte2\": 26,\n",
            "    \"f1_rdcmplx_pqtr_final_nibble03\": 0,\n",
            "    \"f0_dqsgate_stg2_read_lat_rank0_byte6\": 27,\n",
            "    \"f0_rddq_idelay_final_bit09\": 73,\n",
            "    \"f0_wrdqdbi_right_margin_byte1\": 63,\n",
            "    \"f1_wrdqdbi_stg3_dq_odly_bit31\": 0,\n",
            "    \"f1_wrdqdbi_deskew_dq_odly_fcrse_bit49\": 0,\n",
            "    \"f0_dqsgate_stg2_rldlyrnk_crse_rank0_byte1\": 0,\n",
            "    \"f0_wrdqdbi_stg2_dq_odly_bit02\": 56,\n",
            "    \"f1_wrdqdbi_stg3_dq_odly_bit00\": 0,\n",
            "    \"f0_wrdqdbi_stg2_dq_odly_bit44\": 55,\n",
            "    \"f1_rddq_idelay_final_bit45\": 0,\n",
            "    \"f1_dqsgate_stg1_rldlyrnk_fine_rank0_byte7\": 0,\n",
            "    \"f1_wrdqdbi_stg3_dq_odly_bit28\": 0,\n",
            "    \"f1_wrdqdbi_stg3_dq_odly_bit41\": 0,\n",
            "    \"cal_stage_time_26\": 0,\n",
            "    \"f1_rdprbs_nqtr_right_margin_nibble03\": 0,\n",
            "    \"cal_stage_time_00\": 11,\n",
            "    \"f0_wrlat_phy_oe_nib_final_byte6\": 1,\n",
            "    \"f0_rddq_idelay_final_bit30\": 75,\n",
            "    \"f0_dqsgate_stg1_overflow_37\": 0,\n",
            "    \"f0_rdprbs_pqtr_right_margin_nibble07\": 0,\n",
            "    \"f1_rdcmplx_pqtr_left_short_nibble11\": 0,\n",
            "    \"wrvref_right_vref_def_rank0_byte7\": 0,\n",
            "    \"reg_safe_config5\": 68161558,\n",
            "    \"f1_wrdqdbi_left_edge_dq_bit61\": 0,\n",
            "    \"f0_rd_comp_fall_ctp_nib_13\": [\n",
            "        90,\n",
            "        174\n",
            "    ],\n",
            "    \"f1_rdcmplx_nqtr_left_nibble05\": 0,\n",
            "    \"f0_rddq_pqtr_right_nibble04\": 172,\n",
            "    \"bisc_idly0_align_nibble08\": 67,\n",
            "    \"f1_rddq_nqtr_right_nibble12\": 0,\n",
            "    \"f1_rdcmplx_pqtr_right_nibble01\": 0,\n",
            "    \"f0_dqsgate_stg1_overflow_42\": 0,\n",
            "    \"ddrmc_isr_ce1_ecc0\": 0,\n",
            "    \"f1_wrcmplx_odly_dqs_final_byte5\": 0,\n",
            "    \"phy_oe_nib14_dly\": 0,\n",
            "    \"f0_dqsgate_stg1_overflow_41\": 0,\n",
            "    \"f1_wrdqdbi_deskew_dq_odly_bit41\": 0,\n",
            "    \"f0_rdprbs_nqtr_left_margin_nibble13\": 0,\n",
            "    \"f0_wrlvl_fine_right_rank0_byte7\": 76,\n",
            "    \"f1_rdcmplx_nqtr_right_short_nibble02\": 0,\n",
            "    \"wrvref_left_vref_low_bound_rank0_byte4\": 0,\n",
            "    \"f0_wrdqdbi_left_margin_byte6\": 76,\n",
            "    \"f0_rd_simp_fall_ctp_nib_09\": [\n",
            "        94,\n",
            "        186\n",
            "    ],\n",
            "    \"f0_wrcmplx_right_margin_fcrse_byte2\": 60,\n",
            "    \"f1_rdcmplx_nqtr_right_short_nibble09\": 0,\n",
            "    \"f0_dqsgate_stg1_overflow_01\": 0,\n",
            "    \"f0_calbisc_rl_dly_nqtr_nibble02\": 79,\n",
            "    \"mc_loc\": \"x0y0\",\n",
            "    \"f0_wrdqdbi_left_edge_dq_bit04\": 53,\n",
            "    \"rdvref_vref_upp_bound_nibble09\": 0,\n",
            "    \"f0_rddq_pqtr_right_nibble07\": 174,\n",
            "    \"dqstrack_rldlyrnk_fine_max_byte3\": 23,\n",
            "    \"f1_wrdqdbi_deskew_dq_odly_fcrse_bit22\": 0,\n",
            "    \"f0_calbisc_rl_dly_nqtr_nibble05\": 80,\n",
            "    \"f0_rddq_nqtr_right_fcrse_nibble14\": 176,\n",
            "    \"sys_clk_17_9\": 9,\n",
            "    \"f0_wrdqdbi_stg3_dq_odly_bit02\": 56,\n",
            "    \"rdvref_left_vref_final_nibble12\": 0,\n",
            "    \"f0_rddq_idelay_final_bit02\": 80,\n",
            "    \"f0_wrdqdbi_odly_dq_final_bit30\": 83,\n",
            "    \"f0_rddq_nqtr_right_nibble11\": 165,\n",
            "    \"f1_rddq_idelay_final_bit14\": 0,\n",
            "    \"f0_rdcmplx_idelay_offset_nibble08\": 0,\n",
            "    \"f1_wrdqdbi_stg5_dqs_odly_byte5\": 0,\n",
            "    \"f0_wrdqdbi_left_edge_dq_bit08\": 54,\n",
            "    \"f1_rdcmplx_nqtr_left_nibble13\": 0,\n",
            "    \"bisc_rl_dly_qtr_nibble10\": 79,\n",
            "    \"f1_wrdqdbi_odly_dq_final_bit03\": 0,\n",
            "    \"f0_rdcmplx_pqtr_right_short_fcrse_nibble12\": 177,\n",
            "    \"f1_rddq_nqtr_right_fcrse_nibble00\": 0,\n",
            "    \"cal_seq_status_10\": 395,\n",
            "    \"f0_rd_comp_rise_ctp_nib_13\": [\n",
            "        95,\n",
            "        186\n",
            "    ],\n",
            "    \"dqstrack_rldlyrnk_fine_byte4\": 44,\n",
            "    \"f1_rddq_qtr_deskew_nibble01\": 0,\n",
            "    \"f0_wrcmplx_odly_dq_final_bit00\": 73,\n",
            "    \"f1_rdcmplx_pqtr_left_nibble12\": 0,\n",
            "    \"f0_wr_simp_rm_byte_07\": [\n",
            "        64,\n",
            "        127\n",
            "    ],\n",
            "    \"f0_rdcmplx_pqtr_right_nibble15\": 162,\n",
            "    \"f1_rdcmplx_pqtr_right_short_fcrse_nibble14\": 0,\n",
            "    \"f0_rddq_nqtr_right_nibble07\": 169,\n",
            "    \"ddrmc_isr_uc1_ecc0\": 0,\n",
            "    \"nsu3_perf_mon_1_1\": 0,\n",
            "    \"f0_wrdqdbi_right_margin_fcrse_byte0\": 70,\n",
            "    \"f1_dqsgate_stg1_overflow_49\": 0,\n",
            "    \"f1_calbisc_rl_dly_nqtr_nibble06\": 0,\n",
            "    \"f0_rd_comp_rise_rm_nib_03\": [\n",
            "        67,\n",
            "        132\n",
            "    ],\n",
            "    \"rdmargin_nqtr_left_nibble15\": 0,\n",
            "    \"f1_rddq_nqtr_left_nibble12\": 0,\n",
            "    \"f1_rdprbs_nqtr_left_margin_nibble06\": 0,\n",
            "    \"phy_oe_nib21_dly\": 1,\n",
            "    \"f0_wrdqdbi_deskew_dq_odly_bit13\": 139,\n",
            "    \"dqs_gate_overflow\": 0,\n",
            "    \"bisc_mon_align_nibble03\": 0,\n",
            "    \"f0_rddq_idelay_final_bit28\": 71,\n",
            "    \"f0_wrdqdbi_stg6_dbi_odly_byte1\": 62,\n",
            "    \"f1_dqsgate_stg1_overflow_24\": 0,\n",
            "    \"f0_calbisc_rl_dly_nqtr_nibble07\": 79,\n",
            "    \"rdvref_vref_low_bound_nibble13\": 0,\n",
            "    \"f1_wrdqdbi_odly_dqs_final_byte4\": 0,\n",
            "    \"f0_rd_comp_rise_ctp_nib_03\": [\n",
            "        91,\n",
            "        180\n",
            "    ],\n",
            "    \"f0_wrdqdbi_deskew_dq_odly_fcrse_bit46\": 145,\n",
            "    \"f0_rd_simp_fall_lm_nib_12\": [\n",
            "        74,\n",
            "        144\n",
            "    ],\n",
            "    \"f1_wrdqdbi_stg4_dqs_delay_byte5\": 0,\n",
            "    \"f1_dqsgate_stg1_overflow_45\": 0,\n",
            "    \"f1_wrdqdbi_left_edge_dq_bit41\": 0,\n",
            "    \"wrmargin_left_byte1\": 0,\n",
            "    \"f1_dqsgate_stg1_overflow_58\": 0,\n",
            "    \"f1_wrdqdbi_deskew_dbi_odly_fcrse_byte2\": 0,\n",
            "    \"f0_dqsgate_stg2_rldlyrnk_crse_rank0_byte5\": 2,\n",
            "    \"f1_wrdqdbi_right_margin_fcrse_byte0\": 0,\n",
            "    \"f1_rdcmplx_nqtr_right_short_nibble12\": 0,\n",
            "    \"phy_rden19_dly\": 22,\n",
            "    \"f0_calbisc_rl_dly_pqtr_nibble13\": 80,\n",
            "    \"f0_wrdqdbi_deskew_dq_odly_fcrse_bit23\": 96,\n",
            "    \"rdvref_vref_final_nibble09\": 0,\n",
            "    \"bisc_idly1_align_nibble04\": 70,\n",
            "    \"f1_wrdqdbi_deskew_dq_odly_fcrse_bit16\": 0,\n",
            "    \"f1_wrdqdbi_left_edge_dq_bit49\": 0,\n",
            "    \"f0_rddq_nqtr_right_fcrse_nibble04\": 183,\n",
            "    \"f0_wrcmplx_odly_dq_final_bit58\": 83,\n",
            "    \"f1_wrcmplx_odly_dq_final_bit03\": 0,\n",
            "    \"bisc_idly1_align_nibble10\": 71,\n",
            "    \"f0_wrcmplx_left_margin_fcrse_byte0\": 70,\n",
            "    \"cal_seq_status_29\": 299,\n",
            "    \"bisc_nqtr_align_nibble13\": 0,\n",
            "    \"bisc_idly4_align_nibble05\": 81,\n",
            "    \"bisc_rl_dly_qtr_nibble12\": 79,\n",
            "    \"f1_rddq_qtr_deskew_nibble08\": 0,\n",
            "    \"f0_ps_factor\": 1.9665710864327013,\n",
            "    \"f0_rd_simp_fall_rm_nib_06\": [\n",
            "        71,\n",
            "        136\n",
            "    ],\n",
            "    \"phy_oe_nib3_dly\": 1,\n",
            "    \"bisc_mon_align_nibble12\": 0,\n",
            "    \"rdvref_right_vref_upp_bound_nibble03\": 0,\n",
            "    \"f0_wrcmplx_right_margin_fcrse_byte7\": 60,\n",
            "    \"f1_rdcmplx_pqtr_right_short_fcrse_nibble13\": 0,\n",
            "    \"phy_rden6_dly\": 27,\n",
            "    \"f0_mr1_8_0\": 257,\n",
            "    \"cal_error_phy_nibble_8_0\": 0,\n",
            "    \"f0_wrdqdbi_stg2_dq_odly_bit60\": 74,\n",
            "    \"iobmap_dqs_10\": 0,\n",
            "    \"f0_wrdqdbi_left_edge_dbi_byte2\": 26,\n",
            "    \"f1_calbisc_rl_dly_pqtr_nibble11\": 0,\n",
            "    \"f0_rd_simp_fall_lm_nib_08\": [\n",
            "        73,\n",
            "        144\n",
            "    ],\n",
            "    \"f1_wrdqdbi_left_edge_dq_bit02\": 0,\n",
            "    \"f0_rd_comp_fall_ctp_nib_14\": [\n",
            "        84,\n",
            "        168\n",
            "    ],\n",
            "    \"alert_parity_ch0_error\": 0,\n",
            "    \"dqstrack_rldlyrnk_crse_max_byte3\": 2,\n",
            "    \"f0_dqsgate_stg1_overflow_28\": 0,\n",
            "    \"f0_wrdqdbi_deskew_dq_odly_bit51\": 115,\n",
            "    \"wrvref_vref_final_rank0_byte5\": 0,\n",
            "    \"f0_rddq_pqtr_right_nibble03\": 169,\n",
            "    \"f1_rdcmplx_idelay_offset_nibble06\": 0,\n",
            "    \"f1_rdcmplx_nqtr_final_nibble04\": 0,\n",
            "    \"f1_rddq_nqtr_left_nibble13\": 0,\n",
            "    \"f1_wrcmplx_odly_dqs_final_byte3\": 0,\n",
            "    \"f0_wrdqdbi_right_edge_dqs_byte0\": 145,\n",
            "    \"f0_wrcmplx_odly_dq_final_bit03\": 63,\n",
            "    \"f1_wrcmplx_odly_dq_final_bit23\": 0,\n",
            "    \"f0_wrcmplx_odly_dq_final_bit52\": 56,\n",
            "    \"rdvref_left_vref_upp_bound_nibble15\": 0,\n",
            "    \"f0_dqsgate_stg1_rldlyrnk_crse_rank0_byte3\": 10,\n",
            "    \"f0_mr2_8_0\": 232,\n",
            "    \"f0_rddq_pqtr_final_nibble15\": 94,\n",
            "    \"wrmargin_right_byte7\": 0,\n",
            "    \"f0_dqsgate_read_lat_final_byte5\": 27,\n",
            "    \"rdvref_left_vref_final_nibble13\": 0,\n",
            "    \"f0_rddq_nqtr_right_fcrse_nibble11\": 176,\n",
            "    \"f0_rd_comp_rise_ctp_nib_05\": [\n",
            "        89,\n",
            "        172\n",
            "    ],\n",
            "    \"f1_wrdqdbi_stg3_dq_odly_bit03\": 0,\n",
            "    \"rdvref_left_vref_upp_bound_nibble01\": 0,\n",
            "    \"f0_wrdqdbi_odly_dq_final_bit48\": 56,\n",
            "    \"f1_wrdqdbi_odly_dq_final_bit23\": 0,\n",
            "    \"rdvref_right_vref_low_bound_nibble03\": 0,\n",
            "    \"rdvref_vref_upp_bound_nibble13\": 0,\n",
            "    \"f0_wrdqdbi_deskew_dq_odly_bit44\": 149,\n",
            "    \"ddrmc_isr_uc0_ecc1\": 0,\n",
            "    \"f0_dqsgate_stg1_overflow_35\": 0,\n",
            "    \"f0_rddq_idelay_final_bit56\": 77,\n",
            "    \"bisc_nqtr_align_nibble07\": 2,\n",
            "    \"cal_stage_time_41\": 0,\n",
            "    \"f1_rdcmplx_pqtr_right_nibble06\": 0,\n",
            "    \"f0_rddq_nqtr_right_nibble05\": 178,\n",
            "    \"nsu0_perf_filter_en_1\": 0,\n",
            "    \"bisc_pqtr_align_nibble01\": 0,\n",
            "    \"f0_wrdqdbi_stg3_dq_odly_bit11\": 62,\n",
            "    \"f1_wrdqdbi_left_edge_dq_bit33\": 0,\n",
            "    \"f1_wrdqdbi_stg2_dq_odly_bit06\": 0,\n",
            "    \"f1_rddq_idelay_final_bit59\": 0,\n",
            "    \"f0_rd_comp_fall_rm_nib_09\": [\n",
            "        58,\n",
            "        114\n",
            "    ],\n",
            "    \"f0_wrdqdbi_odly_dqs_final_byte6\": 63,\n",
            "    \"cal_stage_time_59\": 0,\n",
            "    \"f1_rddq_idelay_final_bit02\": 0,\n",
            "    \"f1_wrdqdbi_deskew_dq_odly_fcrse_bit20\": 0,\n",
            "    \"f0_wrdqdbi_stg6_dbi_odly_byte5\": 55,\n",
            "    \"f1_rddq_idelay_final_bit58\": 0,\n",
            "    \"f0_rdcmplx_idelay_offset_nibble01\": 0,\n",
            "    \"mgchk_done\": 0,\n",
            "    \"f1_rdcmplx_pqtr_left_short_nibble12\": 0,\n",
            "    \"f1_wrdqdbi_deskew_dq_odly_bit56\": 0,\n",
            "    \"cal_warning_35\": 0,\n",
            "    \"bisc_idly3_align_nibble14\": 71,\n",
            "    \"rdvref_right_vref_upp_bound_nibble08\": 0,\n",
            "    \"f0_wrcmplx_odly_dq_final_bit31\": 86,\n",
            "    \"f1_wrdqdbi_left_edge_dq_bit06\": 0,\n",
            "    \"f1_wrdqdbi_deskew_dq_odly_fcrse_bit01\": 0,\n",
            "    \"wrvref_left_vref_low_bound_rank0_byte2\": 0,\n",
            "    \"f1_rddq_idelay_final_bit06\": 0,\n",
            "    \"f0_db_bc0a\": 0,\n",
            "    \"f0_rdprbs_nqtr_left_margin_nibble12\": 0,\n",
            "    \"f1_wrlvl_fine_final_rank0_byte5\": 0,\n",
            "    \"f0_wrdqdbi_right_margin_fcrse_byte4\": 70,\n",
            "    \"f1_wrdqdbi_odly_dq_final_bit53\": 0,\n",
            "    \"cal_warning_29\": 0,\n",
            "    \"f0_rdcmplx_nqtr_final_nibble15\": 86,\n",
            "    \"f0_wrdqdbi_stg3_dq_odly_bit24\": 71,\n",
            "    \"f0_wrdqdbi_left_edge_dq_bit41\": 45,\n",
            "    \"f0_calbisc_rl_dly_qtr_nibble08\": 79,\n",
            "    \"f0_rdcmplx_nqtr_left_nibble06\": 27,\n",
            "    \"f1_rdcmplx_pqtr_left_short_nibble04\": 0,\n",
            "    \"f0_rddq_idelay_final_bit52\": 78,\n",
            "    \"f1_wrlat_match_rank0_byte6\": 0,\n",
            "    \"isr_change_count\": 0,\n",
            "    \"rdvref_right_vref_final_nibble00\": 0,\n",
            "    \"f1_wrdqdbi_odly_dbi_final_byte5\": 0,\n",
            "    \"wrvref_right_vref_final_rank0_byte0\": 0,\n",
            "    \"bisc_idly1_align_nibble13\": 78,\n",
            "    \"f0_rddq_idelay_final_bit46\": 78,\n",
            "    \"rdvref_right_vref_upp_bound_nibble06\": 0,\n",
            "    \"f0_rddq_nqtr_left_nibble07\": 23,\n",
            "    \"slots\": 1,\n",
            "    \"f0_dqsgate_stg1_overflow_15\": 0,\n",
            "    \"f0_dqsgate_stg1_overflow_13\": 0,\n",
            "    \"f0_dqsgate_stg1_overflow_60\": 0,\n",
            "    \"phy_oe_nib1_dly\": 1,\n",
            "    \"f1_wrcmplx_odly_dq_final_bit26\": 0,\n",
            "    \"f0_wr_simp_ctp_byte_04\": [\n",
            "        275,\n",
            "        544\n",
            "    ],\n",
            "    \"cal_pre_status_8_0\": 255,\n",
            "    \"f1_wrcmplx_odly_dq_final_bit09\": 0,\n",
            "    \"scrub_en\": 1,\n",
            "    \"f1_rdcmplx_pqtr_final_nibble15\": 0,\n",
            "    \"f1_dqsgate_stg1_overflow_60\": 0,\n",
            "    \"f1_wrdqdbi_stg3_dq_odly_bit18\": 0,\n",
            "    \"f1_rdcmplx_pqtr_left_short_nibble00\": 0,\n",
            "    \"f0_wrlvl_crse_final_rank0_byte6\": 3,\n",
            "    \"f0_rdcmplx_nqtr_right_short_nibble12\": 161,\n",
            "    \"f0_rdprbs_pqtr_left_margin_nibble06\": 0,\n",
            "    \"bisc_rl_dly_qtr_nibble13\": 80,\n",
            "    \"f0_wrdqdbi_stg2_dqs_odly_byte5\": 71,\n",
            "    \"f0_wrdqdbi_left_margin_byte2\": 81,\n",
            "    \"bisc_idly2_align_nibble08\": 67,\n",
            "    \"max_bits\": 72,\n",
            "    \"f0_rdcmplx_pqtr_left_nibble08\": 22,\n",
            "    \"f0_calbisc_rl_dly_pqtr_nibble07\": 79,\n",
            "    \"f0_wrlat_match_rank0_byte6\": 17,\n",
            "    \"rdvref_vref_upp_bound_nibble08\": 0,\n",
            "    \"f1_rddq_nqtr_right_nibble00\": 0,\n",
            "    \"f1_wrdqdbi_stg2_dq_odly_bit52\": 0,\n",
            "    \"f0_rdprbs_nqtr_right_margin_nibble14\": 0,\n",
            "    \"f0_rddq_nqtr_right_nibble14\": 170,\n",
            "    \"nsu0_perf_mon_1_0\": 0,\n",
            "    \"wrvref_left_vref_def_rank0_byte4\": 0,\n",
            "    \"f0_rdcmplx_pqtr_right_short_nibble01\": 171,\n",
            "    \"rdvref_vref_low_bound_nibble05\": 0,\n",
            "    \"f1_wrcmplx_odly_dq_final_bit04\": 0,\n",
            "    \"bisc_idly1_align_nibble15\": 77,\n",
            "    \"f1_rdprbs_pqtr_right_margin_nibble04\": 0,\n",
            "    \"f1_wrcmplx_odly_dq_final_bit38\": 0,\n",
            "    \"f0_wrdqdbi_deskew_dq_odly_fcrse_bit18\": 96,\n",
            "    \"f0_rdcmplx_pqtr_left_short_nibble07\": 21,\n",
            "    \"f0_wr_simp_ctp_byte_02\": [\n",
            "        42,\n",
            "        83\n",
            "    ],\n",
            "    \"f1_dqsgate_stg1_overflow_50\": 0,\n",
            "    \"f0_rd_comp_fall_lm_nib_07\": [\n",
            "        59,\n",
            "        116\n",
            "    ],\n",
            "    \"f1_calbisc_rl_dly_qtr_nibble05\": 0,\n",
            "    \"xpi_wrdata_all_nib_dly\": 16,\n",
            "    \"f0_wrlvl_fine_left_rank0_byte7\": 73,\n",
            "    \"f0_wrdqdbi_right_edge_dqs_byte5\": 134,\n",
            "    \"f1_wrdqdbi_stg6_dbi_odly_byte4\": 0,\n",
            "    \"cal_error_bit_phy_nibble_18\": 0,\n",
            "    \"f1_wrdqdbi_odly_dq_final_bit36\": 0,\n",
            "    \"f0_rdprbs_nqtr_left_margin_nibble01\": 0,\n",
            "    \"f0_wrdqdbi_left_edge_dq_bit18\": 24,\n",
            "    \"f0_rddq_nqtr_final_nibble06\": 96,\n",
            "    \"cal_warning_44\": 0,\n",
            "    \"bisc_rl_dly_qtr_nibble09\": 79,\n",
            "    \"f0_rdcmplx_nqtr_right_short_nibble08\": 165,\n",
            "    \"max_nibbles\": 18,\n",
            "    \"f1_wrdqdbi_stg3_dq_odly_bit22\": 0,\n",
            "    \"f0_rdcmplx_pqtr_right_short_nibble12\": 168,\n",
            "    \"es_vref_min\": 273,\n",
            "    \"f1_wrcmplx_odly_dq_final_bit37\": 0,\n",
            "    \"f1_wrdqdbi_odly_dq_final_bit27\": 0,\n",
            "    \"cal_warning_59\": 0,\n",
            "    \"vttrack_rldlyqtr_max_nibble14\": 83,\n",
            "    \"f0_rd_simp_fall_rm_nib_05\": [\n",
            "        76,\n",
            "        148\n",
            "    ],\n",
            "    \"f1_wrdqdbi_right_margin_fcrse_byte5\": 0,\n",
            "    \"f1_rddq_idelay_final_bit44\": 0,\n",
            "    \"f0_rdcmplx_nqtr_left_short_nibble08\": 19,\n",
            "    \"f1_wrlvl_noise_fcrse_rank0_byte1\": 0,\n",
            "    \"dqstrack_rldlyrnk_fine_max_byte2\": 59,\n",
            "    \"f1_wrlat_phy_oe_nib_final_byte1\": 0,\n",
            "    \"f0_rd_simp_rise_ctp_nib_14\": [\n",
            "        95,\n",
            "        183\n",
            "    ],\n",
            "    \"dqstrack_rldlyrnk_crse_max_byte4\": 5,\n",
            "    \"f1_wrdqdbi_deskew_dbi_odly_fcrse_byte6\": 0,\n",
            "    \"bisc_idly4_align_nibble11\": 80,\n",
            "    \"rdmargin_nqtr_right_nibble12\": 0,\n",
            "    \"f1_rddq_nqtr_right_fcrse_nibble03\": 0,\n",
            "    \"f0_dqsgate_stg1_rldlyrnk_fine_rank0_byte0\": 76,\n",
            "    \"bisc_idly3_align_nibble02\": 68,\n",
            "    \"f0_wrdqdbi_stg3_dq_odly_bit29\": 71,\n",
            "    \"phy_rden26_dly\": 22,\n",
            "    \"cal_error_bit_phy_nibble_15\": 0,\n",
            "    \"f1_wrdqdbi_deskew_dbi_odly_fcrse_byte1\": 0,\n",
            "    \"f0_wrcmplx_odly_dqs_final_byte1\": 78,\n",
            "    \"f0_rddq_nqtr_final_nibble14\": 95,\n",
            "    \"cal_seq_status_33\": 304,\n",
            "    \"f1_wrprbs_left_margin_byte2\": 0,\n",
            "    \"f1_wrdqdbi_odly_dq_final_bit38\": 0,\n",
            "    \"f0_rddq_nqtr_left_nibble12\": 22,\n",
            "    \"f0_wrdqdbi_deskew_dq_odly_fcrse_bit13\": 132,\n",
            "    \"iobmap_dq_17_16\": 0,\n",
            "    \"f0_rd_comp_fall_rm_nib_00\": [\n",
            "        65,\n",
            "        123\n",
            "    ],\n",
            "    \"bisc_pqtr_nibble15\": 79,\n",
            "    \"f0_calbisc_rl_dly_nqtr_nibble10\": 79,\n",
            "    \"wrmargin_left_byte6\": 0,\n",
            "    \"f0_wrdqdbi_deskew_dbi_odly_byte3\": 142,\n",
            "    \"f0_mr3_17_9\": 0,\n",
            "    \"wrvref_right_vref_def_rank0_byte4\": 0,\n",
            "    \"f0_rdcmplx_nqtr_final_nibble06\": 85,\n",
            "    \"f0_calbisc_rl_dly_nqtr_nibble01\": 80,\n",
            "    \"f1_rdcmplx_pqtr_right_short_fcrse_nibble08\": 0,\n",
            "    \"f0_wrdqdbi_odly_dq_final_bit28\": 69,\n",
            "    \"f1_rddq_nqtr_final_nibble02\": 0,\n",
            "    \"cal_stage_time_61\": 0,\n",
            "    \"f1_rddq_nqtr_right_fcrse_nibble13\": 0,\n",
            "    \"f1_wrdqdbi_right_margin_fcrse_byte6\": 0,\n",
            "    \"f1_wrdqdbi_stg2_dq_odly_bit37\": 0,\n",
            "    \"f0_rdprbs_pqtr_left_margin_nibble05\": 0,\n",
            "    \"f0_wr_comp_ctp_byte_03\": [\n",
            "        89,\n",
            "        175\n",
            "    ],\n",
            "    \"bisc_nqtr_nibble00\": 82,\n",
            "    \"f1_rdcmplx_nqtr_right_nibble11\": 0,\n",
            "    \"cal_post_status_03\": 0,\n",
            "    \"cal_seq_status_22\": 293,\n",
            "    \"phy_rden3_dly\": 27,\n",
            "    \"f0_dqsgate_stg1_overflow_08\": 0,\n",
            "    \"f0_rddq_idelay_final_bit37\": 63,\n",
            "    \"bisc_idly3_align_nibble06\": 68,\n",
            "    \"phy_rden7_dly\": 27,\n",
            "    \"f1_wrdqdbi_odly_dq_final_bit24\": 0,\n",
            "    \"f0_rd_comp_fall_ctp_nib_10\": [\n",
            "        82,\n",
            "        162\n",
            "    ],\n",
            "    \"f1_wrdqdbi_deskew_dq_odly_fcrse_bit56\": 0,\n",
            "    \"f1_rddq_pqtr_final_nibble11\": 0,\n",
            "    \"f1_wrcmplx_odly_dbi_final_byte5\": 0,\n",
            "    \"f0_rdcmplx_pqtr_right_short_fcrse_nibble10\": 177,\n",
            "    \"f0_rdcmplx_nqtr_right_short_fcrse_nibble13\": 183,\n",
            "    \"f0_wrdqdbi_left_edge_dq_bit14\": 56,\n",
            "    \"f0_wrdqdbi_left_edge_dq_bit58\": 70,\n",
            "    \"f0_wrcmplx_odly_dq_final_bit60\": 94,\n",
            "    \"f1_rdcmplx_pqtr_right_short_nibble13\": 0,\n",
            "    \"rdvref_right_vref_low_bound_nibble10\": 0,\n",
            "    \"f1_dqsgate_stg2_read_lat_rank0_byte7\": 0,\n",
            "    \"f1_wrdqdbi_odly_dbi_final_byte4\": 0,\n",
            "    \"f1_rdcmplx_nqtr_right_short_nibble11\": 0,\n",
            "    \"nsu3_perf_mon_0_1\": 0,\n",
            "    \"f0_wrdqdbi_stg2_dq_odly_bit50\": 47,\n",
            "    \"bisc_en\": 1,\n",
            "    \"f0_wrlat_match_rank0_byte4\": 17,\n",
            "    \"f0_wrdqdbi_deskew_dq_odly_fcrse_bit43\": 125,\n",
            "    \"iobmap_dqs_2\": 0,\n",
            "    \"f0_rdcmplx_nqtr_right_short_nibble13\": 171,\n",
            "    \"bisc_idly0_align_nibble00\": 69,\n",
            "    \"f0_wrdqdbi_stg3_dq_odly_bit42\": 55,\n",
            "    \"bisc_idly2_align_nibble04\": 69,\n",
            "    \"f0_wrdqdbi_odly_dq_final_bit17\": 19,\n",
            "    \"f0_wrdqdbi_stg2_dq_odly_bit05\": 56,\n",
            "    \"f1_calbisc_rl_dly_pqtr_nibble14\": 0,\n",
            "    \"f0_wrdqdbi_stg3_dq_odly_bit34\": 96,\n",
            "    \"f1_calbisc_rl_dly_pqtr_nibble09\": 0,\n",
            "    \"bisc_mon_align_nibble02\": 0,\n",
            "    \"f1_mr5_17_9\": 0,\n",
            "    \"f1_rdprbs_pqtr_right_margin_nibble03\": 0,\n",
            "    \"rdmargin_nqtr_right_nibble13\": 0,\n",
            "    \"iobmap_dq_51_50\": 0,\n",
            "    \"dqstrack_rldlyrnk_crse_max_byte6\": 3,\n",
            "    \"f0_wrdqdbi_stg2_dq_odly_bit54\": 47,\n",
            "    \"f1_rddq_pqtr_left_nibble08\": 0,\n",
            "    \"f1_wrdqdbi_left_edge_dq_bit39\": 0,\n",
            "    \"f1_rdcmplx_nqtr_right_short_fcrse_nibble14\": 0,\n",
            "    \"rdmargin_nqtr_left_nibble14\": 0,\n",
            "    \"mgchk_ack\": 0,\n",
            "    \"f1_wrlat_phy_data_nib_final_byte0\": 0,\n",
            "    \"f0_rd_comp_rise_rm_nib_12\": [\n",
            "        69,\n",
            "        136\n",
            "    ],\n",
            "    \"wrvref_vref_upp_bound_rank0_byte6\": 0,\n",
            "    \"vttrack_rldlyqtr_nibble14\": 80,\n",
            "    \"wrvref_right_vref_def_rank0_byte2\": 0,\n",
            "    \"f0_wrdqdbi_odly_dq_final_bit45\": 56,\n",
            "    \"wrvref_left_vref_upp_bound_rank0_byte7\": 0,\n",
            "    \"wrvref_right_vref_def_rank0_byte0\": 0,\n",
            "    \"reg_safe_config4\": 604004710,\n",
            "    \"f0_dqsgate_rldlyrnk_crse_final_rank0_byte2\": 1,\n",
            "    \"f0_wrdqdbi_deskew_dbi_odly_byte1\": 144,\n",
            "    \"rdvref_left_vref_final_nibble05\": 0,\n",
            "    \"bisc_idly4_align_nibble10\": 73,\n",
            "    \"ddrmc_isr_nsu_fatal3\": 0,\n",
            "    \"wrvref_vref_upp_bound_rank0_byte3\": 0,\n",
            "    \"wrmargin_left_byte7\": 0,\n",
            "    \"f0_wrdqdbi_deskew_dq_odly_fcrse_bit35\": 156,\n",
            "    \"f0_wrdqdbi_stg3_dq_odly_bit41\": 55,\n",
            "    \"f0_rd_comp_rise_lm_nib_12\": [\n",
            "        68,\n",
            "        134\n",
            "    ],\n",
            "    \"nsu2_perf_mon_ctl_1_0\": 0,\n",
            "    \"f0_rdcmplx_nqtr_right_nibble03\": 151,\n",
            "    \"bisc_idly5_align_nibble14\": 73,\n",
            "    \"f0_wrdqdbi_odly_dq_final_bit01\": 57,\n",
            "    \"f0_wrdqdbi_left_edge_dq_bit05\": 65,\n",
            "    \"f0_rddq_idelay_final_bit54\": 77,\n",
            "    \"f0_dqsgate_rldlyrnk_crse_final_rank0_byte3\": 2,\n",
            "    \"f1_rdcmplx_pqtr_right_nibble03\": 0,\n",
            "    \"f0_dqsgate_stg1_overflow_58\": 0,\n",
            "    \"rdvref_left_vref_low_bound_nibble11\": 0,\n",
            "    \"f0_rdcmplx_pqtr_final_nibble12\": 90,\n",
            "    \"f0_rd_simp_rise_lm_nib_08\": [\n",
            "        77,\n",
            "        150\n",
            "    ],\n",
            "    \"f0_wr_simp_ctp_byte_07\": [\n",
            "        326,\n",
            "        648\n",
            "    ],\n",
            "    \"dqstrack_rldlyrnk_crse_byte2\": 5,\n",
            "    \"f1_wrdqdbi_deskew_dq_odly_bit22\": 0,\n",
            "    \"f0_dqsgate_stg1_rldlyrnk_crse_rank0_byte5\": 14,\n",
            "    \"f1_rddq_qtr_deskew_nibble04\": 0,\n",
            "    \"cal_stage_time_27\": 0,\n",
            "    \"wrmargin_right_byte0\": 0,\n",
            "    \"f0_dqsgate_stg1_overflow_27\": 0,\n",
            "    \"bisc_idly3_align_nibble11\": 76,\n",
            "    \"f0_rddq_nqtr_left_nibble08\": 19,\n",
            "    \"cal_warning_08\": 0,\n",
            "    \"f1_wrdqdbi_stg2_dq_odly_bit16\": 0,\n",
            "    \"f0_rd_comp_fall_lm_nib_13\": [\n",
            "        62,\n",
            "        119\n",
            "    ],\n",
            "    \"wrvref_vref_upp_bound_rank0_byte1\": 0,\n",
            "    \"f0_wrdqdbi_deskew_dq_odly_fcrse_bit20\": 106,\n",
            "    \"f0_rdprbs_pqtr_left_margin_nibble15\": 0,\n",
            "    \"rdvref_left_vref_final_nibble06\": 0,\n",
            "    \"f1_rddq_idelay_final_bit36\": 0,\n",
            "    \"f1_wrdqdbi_deskew_dq_odly_fcrse_bit50\": 0,\n",
            "    \"f0_rd_comp_fall_lm_nib_08\": [\n",
            "        57,\n",
            "        112\n",
            "    ],\n",
            "    \"f0_rdcmplx_pqtr_right_nibble05\": 155,\n",
            "    \"f1_rdcmplx_nqtr_left_short_nibble08\": 0,\n",
            "    \"mgchk_unit\": 0,\n",
            "    \"cal_stage_time_11\": 73,\n",
            "    \"f0_calbisc_rl_dly_pqtr_nibble00\": 79,\n",
            "    \"mgchk_rank\": 0,\n",
            "    \"f1_wrlat_wldlyrnk_crse_final_rank0_byte1\": 0,\n",
            "    \"phy_rden5_dly\": 27,\n",
            "    \"f0_rdcmplx_nqtr_right_short_fcrse_nibble05\": 174,\n",
            "    \"f0_wr_comp_ctp_byte_07\": [\n",
            "        326,\n",
            "        648\n",
            "    ],\n",
            "    \"f0_wrcmplx_odly_dq_final_bit17\": 26,\n",
            "    \"f1_wrdqdbi_odly_dq_final_bit48\": 0,\n",
            "    \"f0_wrdqdbi_stg2_dq_odly_bit62\": 74,\n",
            "    \"dqstrack_rldlyrnk_crse_min_byte1\": 4,\n",
            "    \"f0_rddq_pqtr_final_nibble04\": 95,\n",
            "    \"f1_wrdqdbi_deskew_dq_odly_bit47\": 0,\n",
            "    \"f0_wrdqdbi_deskew_dq_odly_bit50\": 131,\n",
            "    \"mgchk_wr_vref\": 0,\n",
            "    \"f0_wrdqdbi_stg6_dbi_odly_byte7\": 74,\n",
            "    \"f1_wrdqdbi_deskew_dq_odly_fcrse_bit39\": 0,\n",
            "    \"f0_rdcmplx_nqtr_left_short_nibble03\": 26,\n",
            "    \"bisc_idly1_align_nibble00\": 73,\n",
            "    \"f1_rddq_pqtr_right_fcrse_nibble07\": 0,\n",
            "    \"f1_wrdqdbi_right_edge_dqs_byte5\": 0,\n",
            "    \"f1_lp4_mr14\": 0,\n",
            "    \"f1_wrdqdbi_deskew_dq_odly_fcrse_bit45\": 0,\n",
            "    \"f0_rddq_pqtr_final_nibble09\": 95,\n",
            "    \"f0_rdcmplx_nqtr_right_nibble10\": 145,\n",
            "    \"f1_wrdqdbi_left_edge_dq_bit07\": 0,\n",
            "    \"f1_wrdqdbi_odly_dq_final_bit41\": 0,\n",
            "    \"f0_wrdqdbi_odly_dq_final_bit25\": 75,\n",
            "    \"f1_rdcmplx_nqtr_right_short_fcrse_nibble11\": 0,\n",
            "    \"self_refresh_exit_error\": 0,\n",
            "    \"f0_wrlvl_crse_final_rank0_byte0\": 2,\n",
            "    \"f0_dqsgate_stg2_rldlyrnk_crse_rank0_byte0\": 3,\n",
            "    \"f1_rdcmplx_nqtr_final_nibble12\": 0,\n",
            "    \"dc0_perf_mon_5\": 0,\n",
            "    \"f1_ps_factor\": 0.0,\n",
            "    \"f0_rd_comp_rise_lm_nib_13\": [\n",
            "        71,\n",
            "        138\n",
            "    ],\n",
            "    \"f0_rddq_idelay_final_bit49\": 60,\n",
            "    \"f1_read_latency\": 1,\n",
            "    \"f1_wrlvl_offset_rank0_byte4\": 0,\n",
            "    \"f1_wrdqdbi_stg2_dq_odly_bit54\": 0,\n",
            "    \"f1_dqsgate_read_lat_final_byte3\": 0,\n",
            "    \"f1_dqsgate_stg1_overflow_47\": 0,\n",
            "    \"f0_wrdqdbi_stg3_dq_odly_bit44\": 55,\n",
            "    \"f0_rdcmplx_pqtr_final_nibble08\": 88,\n",
            "    \"f0_rddq_nqtr_final_nibble08\": 92,\n",
            "    \"bisc_idly1_align_nibble08\": 70,\n",
            "    \"f1_mr1_rtt_nom\": 0,\n",
            "    \"f0_dqsgate_stg1_rldlyrnk_fine_rank0_byte1\": 72,\n",
            "    \"f0_dqsgate_stg1_overflow_59\": 0,\n",
            "    \"f0_wrdqdbi_deskew_dq_odly_fcrse_bit29\": 141,\n",
            "    \"rdmargin_nqtr_left_nibble02\": 0,\n",
            "    \"rdvref_left_vref_def_nibble02\": 0,\n",
            "    \"f0_wrdqdbi_deskew_dq_odly_bit29\": 147,\n",
            "    \"f1_wrcmplx_odly_dq_final_bit11\": 0,\n",
            "    \"f0_rd_simp_fall_rm_nib_01\": [\n",
            "        74,\n",
            "        144\n",
            "    ],\n",
            "    \"f0_wrdqdbi_odly_dq_final_bit11\": 58,\n",
            "    \"f0_wrdqdbi_odly_dbi_final_byte2\": 33,\n",
            "    \"f1_wrdqdbi_stg2_dq_odly_bit58\": 0,\n",
            "    \"rdvref_left_vref_upp_bound_nibble10\": 0,\n",
            "    \"wrvref_right_vref_upp_bound_rank0_byte3\": 0,\n",
            "    \"nsu1_perf_mon_ctl_1_0\": 0,\n",
            "    \"f0_wrdqdbi_stg2_dq_odly_bit56\": 74,\n",
            "    \"f1_rddq_pqtr_left_nibble05\": 0,\n",
            "    \"f1_wrdqdbi_right_margin_fcrse_byte7\": 0,\n",
            "    \"nsu1_perf_mon_0_0\": 0,\n",
            "    \"f1_calbisc_rl_dly_qtr_nibble09\": 0,\n",
            "    \"f1_wrdqdbi_right_margin_fcrse_byte2\": 0,\n",
            "    \"f1_wrdqdbi_odly_dbi_final_byte2\": 0,\n",
            "    \"f1_rddq_nqtr_right_nibble04\": 0,\n",
            "    \"f1_wrcmplx_right_margin_byte2\": 0,\n",
            "    \"rdvref_vref_upp_bound_nibble04\": 0,\n",
            "    \"wrvref_vref_low_bound_rank0_byte2\": 0,\n",
            "    \"f0_dqsgate_rldlyrnk_crse_final_rank0_byte4\": 1,\n",
            "    \"f1_rdcmplx_pqtr_right_nibble07\": 0,\n",
            "    \"f1_calbisc_rl_dly_qtr_nibble08\": 0,\n",
            "    \"f1_wrdqdbi_stg4_byte_status_00\": 0,\n",
            "    \"rdvref_left_vref_low_bound_nibble06\": 0,\n",
            "    \"cal_warning_12\": 0,\n",
            "    \"f0_rdcmplx_nqtr_left_nibble15\": 25,\n",
            "    \"f1_wrdqdbi_deskew_dq_odly_bit43\": 0,\n",
            "    \"f1_wrdqdbi_stg1_dqs_delay_byte1\": 0,\n",
            "    \"f0_dqsgate_stg1_rldlyrnk_fine_rank0_byte6\": 75,\n",
            "    \"f0_wrdqdbi_deskew_dq_odly_fcrse_bit48\": 127,\n",
            "    \"nsu0_perf_mon_ctl_0_1\": 0,\n",
            "    \"rdvref_left_vref_def_nibble13\": 0,\n",
            "    \"f1_rddq_pqtr_right_fcrse_nibble01\": 0,\n",
            "    \"f1_rddq_nqtr_right_nibble08\": 0,\n",
            "    \"f1_rddq_pqtr_final_nibble10\": 0,\n",
            "    \"f1_rdcmplx_pqtr_left_nibble01\": 0,\n",
            "    \"rdvref_right_vref_def_nibble15\": 0,\n",
            "    \"alert_parity_ch1_error\": 0,\n",
            "    \"rdvref_vref_low_bound_nibble02\": 0,\n",
            "    \"f0_rddq_nqtr_final_nibble03\": 100,\n",
            "    \"f0_rdcmplx_nqtr_right_short_fcrse_nibble06\": 172,\n",
            "    \"f0_wrdqdbi_deskew_dq_odly_bit03\": 131,\n",
            "    \"f0_wrdqdbi_stg4_byte_status_00\": 511,\n",
            "    \"f0_wrdqdbi_odly_dq_final_bit52\": 50,\n",
            "    \"f1_wrdqdbi_stg3_dq_odly_bit17\": 0,\n",
            "    \"cal_seq_status_44\": 0,\n",
            "    \"f1_dqsgate_stg1_overflow_42\": 0,\n",
            "    \"rdvref_left_vref_upp_bound_nibble04\": 0,\n",
            "    \"vttrack_rldlyqtr_max_nibble06\": 81,\n",
            "    \"wrvref_left_vref_upp_bound_rank0_byte4\": 0,\n",
            "    \"f1_rdprbs_pqtr_left_margin_nibble14\": 0,\n",
            "    \"f0_rddq_pqtr_left_nibble13\": 18,\n",
            "    \"vttrack_rldlyqtr_max_nibble08\": 83,\n",
            "    \"f0_wrlvl_fine_left_rank0_byte3\": 69,\n",
            "    \"f1_wrlat_wldlyrnk_crse_final_rank0_byte0\": 0,\n",
            "    \"f0_dqsgate_stg1_overflow_30\": 0,\n",
            "    \"f0_rddq_qtr_deskew_nibble13\": 1,\n",
            "    \"cal_error_phy_nibble_17_9\": 0,\n",
            "    \"f0_rdcmplx_pqtr_final_nibble00\": 91,\n",
            "    \"f1_wrdqdbi_left_edge_dq_bit15\": 0,\n",
            "    \"f0_rd_simp_rise_lm_nib_06\": [\n",
            "        77,\n",
            "        152\n",
            "    ],\n",
            "    \"f0_wrdqdbi_deskew_dq_odly_bit40\": 148,\n",
            "    \"f0_dqsgate_stg2_read_lat_rank0_byte3\": 26,\n",
            "    \"f0_wrdqdbi_left_margin_byte0\": 76,\n",
            "    \"f0_dqsgate_stg1_read_lat_rank0_byte2\": 24,\n",
            "    \"f1_rdprbs_pqtr_right_margin_nibble11\": 0,\n",
            "    \"f0_wr_comp_lm_byte_00\": [\n",
            "        75,\n",
            "        146\n",
            "    ],\n",
            "    \"cal_warning_51\": 0,\n",
            "    \"f1_lp4_mr23\": 0,\n",
            "    \"f0_rddq_nqtr_final_nibble13\": 99,\n",
            "    \"f1_rdcmplx_pqtr_left_short_nibble09\": 0,\n",
            "    \"wrvref_right_vref_low_bound_rank0_byte5\": 0,\n",
            "    \"f1_dqsgate_stg1_overflow_25\": 0,\n",
            "    \"f0_wrdqdbi_stg3_dq_odly_bit04\": 56,\n",
            "    \"f1_wrprbs_right_margin_byte3\": 0,\n",
            "    \"wrvref_vref_final_rank0_byte7\": 0,\n",
            "    \"xpi_oe_all_nib_dly\": 16,\n",
            "    \"f0_rdcmplx_nqtr_left_nibble13\": 28,\n",
            "    \"f0_rd_simp_rise_ctp_nib_04\": [\n",
            "        95,\n",
            "        188\n",
            "    ],\n",
            "    \"f1_rdcmplx_pqtr_left_short_nibble08\": 0,\n",
            "    \"f1_wrlat_phy_oe_nib_final_byte6\": 0,\n",
            "    \"vttrack_rldlyqtr_max_nibble11\": 82,\n",
            "    \"f0_rd_comp_rise_rm_nib_11\": [\n",
            "        70,\n",
            "        142\n",
            "    ],\n",
            "    \"dqs_gate_xphy_ub\": 1,\n",
            "    \"xpi_read_offset_phy_rden\": 5,\n",
            "    \"bisc_idly0_align_nibble10\": 68,\n",
            "    \"f1_dqsgate_stg1_overflow_15\": 0,\n",
            "    \"f1_rdprbs_pqtr_left_margin_nibble00\": 0,\n",
            "    \"f1_rddq_idelay_final_bit55\": 0,\n",
            "    \"f1_wrlvl_offset_rank0_byte2\": 0,\n",
            "    \"cal_stage_time_23\": 0,\n",
            "    \"iobmap_dq_53_52\": 0,\n",
            "    \"dqstrack_rldlyrnk_fine_byte0\": 76,\n",
            "    \"f0_wr_comp_rm_byte_05\": [\n",
            "        68,\n",
            "        136\n",
            "    ],\n",
            "    \"bisc_idly5_align_nibble02\": 72,\n",
            "    \"f0_wrdqdbi_left_edge_dq_bit40\": 63,\n",
            "    \"cal_error_bit_phy_nibble_19\": 0,\n",
            "    \"f0_wrcmplx_odly_dq_final_bit21\": 43,\n",
            "    \"f0_wr_comp_ctp_byte_06\": [\n",
            "        302,\n",
            "        593\n",
            "    ],\n",
            "    \"f1_wrcmplx_odly_dq_final_bit44\": 0,\n",
            "    \"rdvref_right_vref_def_nibble13\": 0,\n",
            "    \"f0_rdprbs_nqtr_left_margin_nibble05\": 0,\n",
            "    \"f0_wrdqdbi_stg1_dqs_delay_byte7\": 90,\n",
            "    \"f1_rddq_idelay_final_bit43\": 0,\n",
            "    \"f0_calbisc_rl_dly_pqtr_nibble10\": 80,\n",
            "    \"f1_rddq_pqtr_final_nibble01\": 0,\n",
            "    \"f1_rdcmplx_pqtr_left_nibble05\": 0,\n",
            "    \"f0_dqsgate_stg1_overflow_24\": 0,\n",
            "    \"f1_dqsgate_stg1_rldlyrnk_fine_rank0_byte5\": 0,\n",
            "    \"0x0a_F0_DQS_GATE_CAL\": \"Pass\",\n",
            "    \"f0_rddq_pqtr_left_nibble04\": 18,\n",
            "    \"mgchk_rd_vref_0\": 0,\n",
            "    \"f0_dqsgate_stg1_overflow_45\": 0,\n",
            "    \"f0_rdcmplx_pqtr_left_nibble00\": 22,\n",
            "    \"f0_dqsgate_stg1_overflow_21\": 0,\n",
            "    \"f0_rdprbs_nqtr_right_margin_nibble10\": 0,\n",
            "    \"f1_rdcmplx_nqtr_left_short_nibble09\": 0,\n",
            "    \"f0_rdprbs_nqtr_left_margin_nibble03\": 0,\n",
            "    \"f0_wrcmplx_right_margin_fcrse_byte6\": 60,\n",
            "    \"f0_rddq_nqtr_right_nibble02\": 176,\n",
            "    \"f0_rdcmplx_nqtr_right_short_nibble00\": 171,\n",
            "    \"f0_wrcmplx_odly_dq_final_bit18\": 38,\n",
            "    \"f0_rd_comp_fall_ctp_nib_02\": [\n",
            "        89,\n",
            "        176\n",
            "    ],\n",
            "    \"cal_warning_36\": 0,\n",
            "    \"iobmap_dq_15_14\": 0,\n",
            "    \"f0_rddq_pqtr_right_fcrse_nibble13\": 183,\n",
            "    \"f0_wrlat_phy_data_nib_final_byte2\": 1,\n",
            "    \"f1_rcd_rc0a\": 0,\n",
            "    \"cal_stage_time_54\": 0,\n",
            "    \"f0_wrdqdbi_deskew_dq_odly_bit25\": 146,\n",
            "    \"f1_wrdqdbi_stg3_dq_odly_bit57\": 0,\n",
            "    \"f0_wrdqdbi_odly_dq_final_bit41\": 56,\n",
            "    \"f0_rdcmplx_pqtr_right_short_nibble03\": 170,\n",
            "    \"f0_rddq_pqtr_left_nibble14\": 18,\n",
            "    \"f0_wrdqdbi_left_edge_dq_bit54\": 54,\n",
            "    \"reg_retry_0\": 194408526,\n",
            "    \"cal_warning_14\": 0,\n",
            "    \"bisc_idly0_align_nibble12\": 67,\n",
            "    \"f0_dqsgate_stg1_overflow_38\": 0,\n",
            "    \"f0_wrlat_wldlyrnk_crse_final_rank0_byte5\": 3,\n",
            "    \"rdvref_left_vref_final_nibble14\": 0,\n",
            "    \"f0_rdcmplx_nqtr_right_nibble00\": 156,\n",
            "    \"xpi_pmi_config\": 0,\n",
            "    \"f0_wrdqdbi_stg3_dq_odly_bit56\": 74,\n",
            "    \"cal_warning_01\": 0,\n",
            "    \"f0_rdcmplx_nqtr_left_nibble04\": 30,\n",
            "    \"rdvref_vref_final_nibble02\": 0,\n",
            "    \"cal_error_rank\": 17,\n",
            "    \"f0_wrdqdbi_left_edge_dbi_byte5\": 55,\n",
            "    \"f1_rddq_pqtr_right_fcrse_nibble08\": 0,\n",
            "    \"cal_post_status_02\": 0,\n",
            "    \"f0_wrdqdbi_left_edge_dq_bit45\": 45,\n",
            "    \"cal_seq_status_38\": 315,\n",
            "    \"f0_wrcmplx_odly_dq_final_bit26\": 71,\n",
            "    \"f1_wrdqdbi_stg1_bit_status_byte1\": 0,\n",
            "    \"f0_wrdqdbi_stg3_dq_odly_bit39\": 96,\n",
            "    \"f0_wrdqdbi_left_edge_dq_bit56\": 85,\n",
            "    \"f1_rddq_pqtr_right_nibble05\": 0,\n",
            "    \"f1_rdcmplx_nqtr_right_short_nibble14\": 0,\n",
            "    \"cal_stage_time_49\": 0,\n",
            "    \"cal_stage_time_02\": 0,\n",
            "    \"f0_rdcmplx_nqtr_left_short_nibble13\": 27,\n",
            "    \"rdvref_right_vref_final_nibble09\": 0,\n",
            "    \"f1_rdcmplx_nqtr_right_short_fcrse_nibble05\": 0,\n",
            "    \"f0_rdcmplx_nqtr_right_nibble13\": 153,\n",
            "    \"f1_wrdqdbi_odly_dq_final_bit34\": 0,\n",
            "    \"pinout_select\": 17,\n",
            "    \"cal_error_bit_phy_nibble_22\": 0,\n",
            "    \"f0_rdcmplx_nqtr_left_nibble07\": 26,\n",
            "    \"f1_wrdqdbi_stg2_dq_odly_bit38\": 0,\n",
            "    \"f0_wrdqdbi_stg2_dq_odly_bit28\": 71,\n",
            "    \"f0_wrdqdbi_deskew_dq_odly_fcrse_bit06\": 136,\n",
            "    \"f1_rdprbs_pqtr_left_margin_nibble03\": 0,\n",
            "    \"f0_wrdqdbi_deskew_dq_odly_fcrse_bit61\": 164,\n",
            "    \"cal_stage_time_36\": 0,\n",
            "    \"f0_rddq_pqtr_left_nibble12\": 18,\n",
            "    \"f1_wrcmplx_odly_dq_final_bit36\": 0,\n",
            "    \"phy_oe_nib25_dly\": 0,\n",
            "    \"f0_wrdqdbi_deskew_dq_odly_fcrse_bit11\": 122,\n",
            "    \"f0_rd_comp_rise_rm_nib_06\": [\n",
            "        68,\n",
            "        134\n",
            "    ],\n",
            "    \"f1_dqsgate_stg1_overflow_53\": 0,\n",
            "    \"bisc_pqtr_nibble12\": 80,\n",
            "    \"f0_wrdqdbi_stg3_dq_odly_bit50\": 47,\n",
            "    \"f0_wrdqdbi_deskew_dbi_odly_byte2\": 107,\n",
            "    \"f0_dqsgate_stg1_overflow_54\": 0,\n",
            "    \"rdmargin_pqtr_right_nibble00\": 0,\n",
            "    \"f0_calbisc_rl_dly_qtr_nibble09\": 79,\n",
            "    \"f0_wrdqdbi_deskew_dq_odly_fcrse_bit30\": 151,\n",
            "    \"f0_wrdqdbi_deskew_dq_odly_fcrse_bit37\": 156,\n",
            "    \"f0_wrdqdbi_deskew_dbi_odly_byte4\": 163,\n",
            "    \"f1_rdcmplx_pqtr_left_nibble14\": 0,\n",
            "    \"rdvref_vref_low_bound_nibble12\": 0,\n",
            "    \"f0_rddq_nqtr_right_nibble10\": 170,\n",
            "    \"f0_rd_comp_fall_lm_nib_02\": [\n",
            "        61,\n",
            "        120\n",
            "    ],\n",
            "    \"rdvref_right_vref_final_nibble06\": 0,\n",
            "    \"bisc_pqtr_align_nibble03\": 1,\n",
            "    \"f0_rd_simp_fall_rm_nib_13\": [\n",
            "        73,\n",
            "        140\n",
            "    ],\n",
            "    \"f0_rddq_idelay_final_bit38\": 74,\n",
            "    \"rdvref_vref_upp_bound_nibble15\": 0,\n",
            "    \"f1_wrdqdbi_deskew_dq_odly_fcrse_bit36\": 0,\n",
            "    \"f1_wrdqdbi_odly_dq_final_bit28\": 0,\n",
            "    \"nsu2_perf_filter_0_0\": 0,\n",
            "    \"ddrmc_isr_na_cmd1\": 0,\n",
            "    \"nsu3_perf_filter_1_1\": 0,\n",
            "    \"wrvref_right_vref_low_bound_rank0_byte7\": 0,\n",
            "    \"f0_wrdqdbi_stg1_dqs_delay_byte3\": 87,\n",
            "    \"f0_wrdqdbi_stg3_dq_odly_bit30\": 71,\n",
            "    \"0x3f_CAL_DONE\": \"Pass\",\n",
            "    \"f1_wrdqdbi_deskew_dq_odly_fcrse_bit00\": 0,\n",
            "    \"f0_wrdqdbi_stg3_dq_odly_bit35\": 96,\n",
            "    \"f1_wrdqdbi_left_edge_dq_bit08\": 0,\n",
            "    \"f0_rddq_idelay_final_bit12\": 77,\n",
            "    \"f0_wrdqdbi_stg2_dq_odly_bit37\": 96,\n",
            "    \"f1_wrdqdbi_left_edge_dq_bit35\": 0,\n",
            "    \"f1_rdcmplx_pqtr_right_short_nibble15\": 0,\n",
            "    \"f0_rddq_nqtr_right_fcrse_nibble07\": 178,\n",
            "    \"f0_wrdqdbi_odly_dq_final_bit29\": 76,\n",
            "    \"f0_rd_comp_rise_lm_nib_03\": [\n",
            "        67,\n",
            "        132\n",
            "    ],\n",
            "    \"f0_wrlvl_fine_final_rank0_byte6\": 47,\n",
            "    \"f1_dqsgate_stg1_overflow_10\": 0,\n",
            "    \"f0_rddq_idelay_final_bit61\": 88,\n",
            "    \"f0_wrdqdbi_left_edge_dq_bit19\": 20,\n",
            "    \"f0_dqsgate_stg1_overflow_26\": 0,\n",
            "    \"f1_rddq_qtr_deskew_nibble00\": 0,\n",
            "    \"f0_rddq_idelay_final_bit29\": 78,\n",
            "    \"f0_wrdqdbi_left_edge_dq_bit55\": 58,\n",
            "    \"nsu0_perf_filter_en_0\": 0,\n",
            "    \"f1_rdcmplx_nqtr_left_nibble12\": 0,\n",
            "    \"f0_rd_simp_rise_rm_nib_11\": [\n",
            "        77,\n",
            "        156\n",
            "    ],\n",
            "    \"f0_dqsgate_stg2_read_lat_rank0_byte4\": 27,\n",
            "    \"f1_dqsgate_stg1_read_lat_rank0_byte1\": 0,\n",
            "    \"f0_dqsgate_stg1_rldlyrnk_fine_rank0_byte4\": 40,\n",
            "    \"f0_wrdqdbi_stg1_dqs_delay_byte1\": 78,\n",
            "    \"cal_message\": \"No errors detected during calibration.\",\n",
            "    \"f0_rd_simp_fall_lm_nib_05\": [\n",
            "        75,\n",
            "        146\n",
            "    ],\n",
            "    \"f1_wrdqdbi_stg2_dq_odly_bit08\": 0,\n",
            "    \"f0_dqsgate_stg1_read_lat_rank0_byte4\": 24,\n",
            "    \"rdvref_left_vref_low_bound_nibble03\": 0,\n",
            "    \"f1_wrprbs_right_margin_byte5\": 0,\n",
            "    \"cal_seq_status_28\": 300,\n",
            "    \"f0_wrdqdbi_left_edge_dbi_byte3\": 71,\n",
            "    \"f1_wrdqdbi_deskew_dq_odly_fcrse_bit04\": 0,\n",
            "    \"f0_wrdqdbi_deskew_dq_odly_bit43\": 130,\n",
            "    \"f1_wrcmplx_odly_dq_final_bit10\": 0,\n",
            "    \"cal_stage_time_28\": 0,\n",
            "    \"f1_rddq_idelay_final_bit42\": 0,\n",
            "    \"nsu0_perf_mon_1_2\": 0,\n",
            "    \"f0_rdcmplx_pqtr_right_short_fcrse_nibble07\": 177,\n",
            "    \"wrvref_vref_upp_bound_rank0_byte0\": 0,\n",
            "    \"f0_dqsgate_stg1_rldlyrnk_crse_rank0_byte0\": 7,\n",
            "    \"f0_rddq_pqtr_final_nibble03\": 93,\n",
            "    \"f0_wrlvl_fine_final_rank0_byte5\": 55,\n",
            "    \"f1_wrcmplx_right_margin_byte6\": 0,\n",
            "    \"cal_error_bit_phy_nibble_10\": 0,\n",
            "    \"phy_rank_read_override\": 0,\n",
            "    \"bisc_idly0_align_nibble14\": 69,\n",
            "    \"f0_wrdqdbi_odly_dq_final_bit24\": 74,\n",
            "    \"bisc_idly3_align_nibble10\": 69,\n",
            "    \"f0_rdcmplx_idelay_offset_nibble00\": 0,\n",
            "    \"rdmargin_nqtr_left_nibble03\": 0,\n",
            "    \"f1_wrcmplx_odly_dq_final_bit17\": 0,\n",
            "    \"f1_calbisc_rl_dly_qtr_nibble04\": 0,\n",
            "    \"f0_rd_comp_fall_lm_nib_10\": [\n",
            "        62,\n",
            "        122\n",
            "    ],\n",
            "    \"f0_wrdqdbi_left_edge_dq_bit16\": 36,\n",
            "    \"f0_wrdqdbi_right_margin_fcrse_byte1\": 60,\n",
            "    \"f1_rddq_pqtr_left_nibble14\": 0,\n",
            "    \"f1_wrcmplx_odly_dq_final_bit46\": 0,\n",
            "    \"f0_wrdqdbi_stg2_dq_odly_bit46\": 55,\n",
            "    \"f0_wrdqdbi_deskew_dq_odly_bit12\": 144,\n",
            "    \"f1_wrdqdbi_deskew_dq_odly_fcrse_bit35\": 0,\n",
            "    \"f1_wrdqdbi_left_edge_dq_bit22\": 0,\n",
            "    \"f1_wrlat_phy_oe_nib_final_byte0\": 0,\n",
            "    \"rdmargin_pqtr_left_nibble11\": 0,\n",
            "    \"f0_wrdqdbi_stg2_dq_odly_bit38\": 96,\n",
            "    \"iobmap_dq_35_34\": 0,\n",
            "    \"dqstrack_rldlyrnk_crse_byte7\": 5,\n",
            "    \"f0_wrlvl_fine_right_rank0_byte3\": 73,\n",
            "    \"f0_wrdqdbi_stg1_bit_status_byte4\": 0,\n",
            "    \"f0_rdcmplx_pqtr_left_nibble09\": 27,\n",
            "    \"f0_rdcmplx_nqtr_final_nibble07\": 85,\n",
            "    \"f1_dqsgate_stg1_overflow_20\": 0,\n",
            "    \"f1_rddq_nqtr_left_nibble06\": 0,\n",
            "    \"f1_wrdqdbi_odly_dq_final_bit62\": 0,\n",
            "    \"f0_wr_comp_rm_byte_01\": [\n",
            "        60,\n",
            "        117\n",
            "    ],\n",
            "    \"f0_rd_comp_rise_ctp_nib_15\": [\n",
            "        92,\n",
            "        182\n",
            "    ],\n",
            "    \"f0_wrcmplx_odly_dq_final_bit28\": 71,\n",
            "    \"cal_warning_73\": 0,\n",
            "    \"f0_rddq_nqtr_final_nibble05\": 102,\n",
            "    \"bisc_idly5_align_nibble07\": 82,\n",
            "    \"f1_rddq_pqtr_right_nibble11\": 0,\n",
            "    \"iobmap_dqs_1\": 0,\n",
            "    \"nsu2_perf_mon_ctl_0_0\": 0,\n",
            "    \"rdvref_right_vref_def_nibble08\": 0,\n",
            "    \"cal_seq_status_32\": 303,\n",
            "    \"f1_wrdqdbi_left_edge_dq_bit18\": 0,\n",
            "    \"nsu3_perf_mon_1_0\": 0,\n",
            "    \"f1_wrdqdbi_stg3_dq_odly_bit43\": 0,\n",
            "    \"bisc_idly1_align_nibble14\": 73,\n",
            "    \"f0_rdprbs_pqtr_right_margin_nibble05\": 0,\n",
            "    \"f1_rcd_rc0f\": 0,\n",
            "    \"f1_dqsgate_stg2_read_lat_rank0_byte3\": 0,\n",
            "    \"f0_wr_simp_lm_byte_04\": [\n",
            "        67,\n",
            "        132\n",
            "    ],\n",
            "    \"dqstrack_rldlyrnk_fine_min_byte2\": 59,\n",
            "    \"cal_post_status_self_ref\": 0,\n",
            "    \"vttrack_rldlyqtr_min_nibble04\": 76,\n",
            "    \"f0_rdcmplx_pqtr_left_nibble12\": 22,\n",
            "    \"f0_rddq_qtr_deskew_nibble11\": 1,\n",
            "    \"f1_rddq_nqtr_left_nibble11\": 0,\n",
            "    \"f0_mr5_8_0\": 0,\n",
            "    \"f0_rd_simp_rise_rm_nib_15\": [\n",
            "        77,\n",
            "        152\n",
            "    ],\n",
            "    \"f0_wrdqdbi_odly_dq_final_bit33\": 98,\n",
            "    \"cal_warning_47\": 0,\n",
            "    \"f0_wrdqdbi_stg2_dq_odly_bit36\": 96,\n",
            "    \"f0_wrlvl_crse_final_rank0_byte3\": 0,\n",
            "    \"f0_rdcmplx_pqtr_right_short_nibble13\": 173,\n",
            "    \"f0_wrlat_wldlyrnk_crse_final_rank0_byte2\": 0,\n",
            "    \"f1_rddq_nqtr_right_fcrse_nibble09\": 0,\n",
            "    \"f1_xpll_clkoutfb_ht\": 16,\n",
            "    \"f1_wrdqdbi_stg2_dq_odly_bit35\": 0,\n",
            "    \"f0_wrdqdbi_deskew_dq_odly_bit56\": 169,\n",
            "    \"f0_wrlat_phy_oe_nib_final_byte3\": 1,\n",
            "    \"f0_wrdqdbi_deskew_dbi_odly_byte6\": 123,\n",
            "    \"cal_stage.12_CAL_DONE\": \"Pass\",\n",
            "    \"phy_rden12_dly\": 22,\n",
            "    \"f0_wrcmplx_odly_dq_final_bit45\": 58,\n",
            "    \"iobmap_dq_67_66\": 0,\n",
            "    \"f0_wrcmplx_odly_dq_final_bit06\": 72,\n",
            "    \"phy_rden15_dly\": 26,\n",
            "    \"cal_stage_time_47\": 0,\n",
            "    \"f0_rddq_nqtr_left_nibble14\": 21,\n",
            "    \"cal_error_bit_phy_nibble_01\": 0,\n",
            "    \"f0_wrdqdbi_odly_dq_final_bit62\": 97,\n",
            "    \"f1_wrdqdbi_left_edge_dq_bit36\": 0,\n",
            "    \"nsu3_perf_mon_0_2\": 0,\n",
            "    \"f1_rddq_pqtr_right_fcrse_nibble04\": 0,\n",
            "    \"f0_rdprbs_nqtr_right_margin_nibble08\": 0,\n",
            "    \"f1_wrcmplx_left_margin_byte1\": 0,\n",
            "    \"f0_wrdqdbi_deskew_dq_odly_bit31\": 155,\n",
            "    \"bisc_rl_dly_qtr_nibble04\": 79,\n",
            "    \"f0_wrcmplx_odly_dq_final_bit63\": 88,\n",
            "    \"bisc_idly0_align_nibble13\": 77,\n",
            "    \"f1_wrcmplx_odly_dq_final_bit24\": 0,\n",
            "    \"f0_rddq_nqtr_left_nibble10\": 19,\n",
            "    \"wrvref_right_vref_low_bound_rank0_byte0\": 0,\n",
            "    \"bisc_idly4_align_nibble00\": 74,\n",
            "    \"f0_rddq_nqtr_final_nibble00\": 99,\n",
            "    \"f0_wrdqdbi_deskew_dq_odly_fcrse_bit39\": 166,\n",
            "    \"f1_wrlvl_noise_fcrse_rank0_byte5\": 0,\n",
            "    \"f0_wr_comp_ctp_byte_01\": [\n",
            "        316,\n",
            "        622\n",
            "    ],\n",
            "    \"nsu3_perf_filter_en_1\": 0,\n",
            "    \"bisc_nqtr_align_nibble02\": 1,\n",
            "    \"f0_rddq_nqtr_right_fcrse_nibble00\": 181,\n",
            "    \"f1_mr4_8_0\": 0,\n",
            "    \"f1_rdcmplx_pqtr_final_nibble04\": 0,\n",
            "    \"f0_wrdqdbi_stg2_dq_odly_bit04\": 56,\n",
            "    \"nsu3_perf_mon_ctl_1_1\": 0,\n",
            "    \"f0_wrcmplx_odly_dq_final_bit09\": 75,\n",
            "    \"f0_wr_comp_rm_byte_07\": [\n",
            "        67,\n",
            "        133\n",
            "    ],\n",
            "    \"f0_rdcmplx_idelay_offset_nibble03\": 0,\n",
            "    \"cal_status_cal_done\": 1,\n",
            "    \"f1_wrdqdbi_odly_dq_final_bit55\": 0,\n",
            "    \"f0_wrdqdbi_stg3_dq_odly_bit22\": 26,\n",
            "    \"f0_rdcmplx_pqtr_left_short_nibble13\": 22,\n",
            "    \"f1_wrlvl_crse_final_rank0_byte7\": 0,\n",
            "    \"f1_wrcmplx_left_margin_byte6\": 0,\n",
            "    \"f1_rdcmplx_pqtr_final_nibble05\": 0,\n",
            "    \"cal_error_bit_phy_nibble_17\": 0,\n",
            "    \"iobmap_dq_25_24\": 0,\n",
            "    \"f1_wrlvl_crse_final_rank0_byte3\": 0,\n",
            "    \"bisc_pqtr_nibble13\": 81,\n",
            "    \"f1_wrlat_phy_oe_nib_final_byte2\": 0,\n",
            "    \"f1_rddq_pqtr_left_nibble07\": 0,\n",
            "    \"f0_wrcmplx_odly_dq_final_bit30\": 85,\n",
            "    \"f0_rdcmplx_pqtr_final_nibble10\": 90,\n",
            "    \"nsu2_perf_mon_ctl_0_1\": 0,\n",
            "    \"f1_wrcmplx_odly_dq_final_bit59\": 0,\n",
            "    \"f1_rdprbs_pqtr_right_margin_nibble13\": 0,\n",
            "    \"f1_wrlvl_crse_stg1_rank0_byte6\": 0,\n",
            "    \"phy_rank_write_override\": 0,\n",
            "    \"cal_warning_16\": 0,\n",
            "    \"cal_pointer_stat\": 6,\n",
            "    \"nsu1_perf_mon_ctl_1_1\": 0,\n",
            "    \"vttrack_rldlyqtr_max_nibble03\": 82,\n",
            "    \"vttrack_rldlyqtr_min_nibble07\": 78,\n",
            "    \"rdmargin_nqtr_right_nibble08\": 0,\n",
            "    \"f0_rd_comp_fall_lm_nib_03\": [\n",
            "        62,\n",
            "        121\n",
            "    ],\n",
            "    \"cal_post_status_tracking\": 1,\n",
            "    \"iobmap_dq_65_64\": 0,\n",
            "    \"bisc_idly5_align_nibble09\": 78,\n",
            "    \"wrvref_right_vref_upp_bound_rank0_byte6\": 0,\n",
            "    \"f1_mr2_8_0\": 0,\n",
            "    \"f0_wrdqdbi_left_edge_dq_bit34\": 102,\n",
            "    \"f0_rdcmplx_idelay_offset_nibble02\": 0,\n",
            "    \"f1_dqsgate_stg1_overflow_12\": 0,\n",
            "    \"f1_wrdqdbi_stg6_dbi_odly_byte3\": 0,\n",
            "    \"f0_rdcmplx_pqtr_right_short_fcrse_nibble01\": 180,\n",
            "    \"f1_wrdqdbi_stg3_dq_odly_bit24\": 0,\n",
            "    \"f0_wrdqdbi_deskew_dq_odly_fcrse_bit51\": 107,\n",
            "    \"f0_rddq_nqtr_right_fcrse_nibble08\": 174,\n",
            "    \"cal_warning_04\": 0,\n",
            "    \"cal_warning_79\": 0,\n",
            "    \"f0_wrdqdbi_stg2_dq_odly_bit11\": 62,\n",
            "    \"f1_rddq_idelay_final_bit34\": 0,\n",
            "    \"f0_wrdqdbi_odly_dq_final_bit47\": 58,\n",
            "    \"iobmap_dqs_8\": 0,\n",
            "    \"iobmap_dqs_12\": 0,\n",
            "    \"iobmap_dq_47_46\": 0,\n",
            "    \"cal_warning_31\": 0,\n",
            "    \"bisc_nqtr_nibble08\": 79,\n",
            "    \"f1_rddq_nqtr_final_nibble04\": 0,\n",
            "    \"ddrmc_isr_dram_parity1\": 0,\n",
            "    \"f1_rddq_idelay_final_bit08\": 0,\n",
            "    \"f0_rd_comp_rise_ctp_nib_04\": [\n",
            "        90,\n",
            "        178\n",
            "    ],\n",
            "    \"f0_calbisc_rl_dly_nqtr_nibble06\": 81,\n",
            "    \"f1_rddq_pqtr_right_fcrse_nibble02\": 0,\n",
            "    \"cal_stage_time_13\": 73,\n",
            "    \"f0_dqsgate_stg2_read_lat_rank0_byte7\": 28,\n",
            "    \"f0_wrdqdbi_odly_dq_final_bit60\": 91,\n",
            "    \"f1_wrdqdbi_deskew_dq_odly_fcrse_bit03\": 0,\n",
            "    \"f1_wrdqdbi_deskew_dq_odly_fcrse_bit32\": 0,\n",
            "    \"f0_rd_simp_rise_rm_nib_05\": [\n",
            "        78,\n",
            "        150\n",
            "    ],\n",
            "    \"f1_rddq_idelay_final_bit09\": 0,\n",
            "    \"f1_rdcmplx_nqtr_right_nibble03\": 0,\n",
            "    \"f1_rdcmplx_pqtr_right_short_fcrse_nibble10\": 0,\n",
            "    \"f1_rdprbs_pqtr_left_margin_nibble07\": 0,\n",
            "    \"f1_wrdqdbi_deskew_dq_odly_bit52\": 0,\n",
            "    \"f1_rdprbs_nqtr_left_margin_nibble13\": 0,\n",
            "    \"f1_wrdqdbi_odly_dq_final_bit59\": 0,\n",
            "    \"bisc_nqtr_nibble14\": 79,\n",
            "    \"mgchk_def_rd_vref_1\": 0,\n",
            "    \"f0_wrlvl_crse_final_rank0_byte7\": 3,\n",
            "    \"f1_rddq_nqtr_right_nibble02\": 0,\n",
            "    \"bisc_idly3_align_nibble00\": 72,\n",
            "    \"rdmargin_nqtr_right_nibble15\": 0,\n",
            "    \"f0_wrdqdbi_stg2_dq_odly_bit29\": 71,\n",
            "    \"f1_wrcmplx_odly_dq_final_bit54\": 0,\n",
            "    \"f1_wrlvl_noise_fcrse_rank0_byte0\": 0,\n",
            "    \"ddrmc_isr_dram_parity_fatal_1\": 0,\n",
            "    \"bisc_idly1_align_nibble05\": 80,\n",
            "    \"ddrmc_isr_ce0_ecc1\": 0,\n",
            "    \"f0_calbisc_rl_dly_qtr_nibble13\": 80,\n",
            "    \"bisc_idly2_align_nibble12\": 67,\n",
            "    \"rdmargin_pqtr_left_nibble13\": 0,\n",
            "    \"wrvref_right_vref_def_rank0_byte5\": 0,\n",
            "    \"f0_dqsgate_rldlyrnk_crse_final_rank0_byte1\": 0,\n",
            "    \"f0_wrdqdbi_stg3_dq_odly_bit53\": 47,\n",
            "    \"f0_wrcmplx_left_margin_fcrse_byte5\": 70,\n",
            "    \"f0_rdcmplx_pqtr_right_short_fcrse_nibble11\": 177,\n",
            "    \"f0_wrcmplx_odly_dq_final_bit57\": 86,\n",
            "    \"f1_dqsgate_stg1_read_lat_rank0_byte3\": 0,\n",
            "    \"f0_calbisc_rl_dly_pqtr_nibble03\": 79,\n",
            "    \"f0_rd_comp_rise_ctp_nib_02\": [\n",
            "        89,\n",
            "        172\n",
            "    ],\n",
            "    \"f0_rd_comp_fall_rm_nib_14\": [\n",
            "        63,\n",
            "        126\n",
            "    ],\n",
            "    \"f1_wrprbs_right_margin_byte6\": 0,\n",
            "    \"f1_wrdqdbi_stg3_dq_odly_bit10\": 0,\n",
            "    \"cal_error_bit_phy_nibble_12\": 0,\n",
            "    \"cal_error_sub_stage\": 0,\n",
            "    \"f0_wrlvl_noise_fcrse_rank0_byte4\": 95,\n",
            "    \"f0_rddq_pqtr_left_nibble05\": 18,\n",
            "    \"f1_rdcmplx_pqtr_left_nibble00\": 0,\n",
            "    \"cal_error_bit_phy_nibble_08\": 0,\n",
            "    \"f0_rd_simp_rise_ctp_nib_00\": [\n",
            "        92,\n",
            "        182\n",
            "    ],\n",
            "    \"f0_dqsgate_read_lat_final_byte7\": 28,\n",
            "    \"wrvref_vref_final_rank0_byte4\": 0,\n",
            "    \"f1_mr1_17_9\": 0,\n",
            "    \"mgchk_rw_mode\": 0,\n",
            "    \"cal_stage_time_01\": 70,\n",
            "    \"f0_wrdqdbi_deskew_dq_odly_bit33\": 165,\n",
            "    \"f1_wrdqdbi_stg3_dq_odly_bit05\": 0,\n",
            "    \"f1_dqsgate_stg1_read_lat_rank0_byte7\": 0,\n",
            "    \"f0_wrdqdbi_stg3_dq_odly_bit23\": 26,\n",
            "    \"nsu1_perf_mon_1_0\": 0,\n",
            "    \"f1_wrdqdbi_deskew_dq_odly_fcrse_bit52\": 0,\n",
            "    \"f1_rdcmplx_pqtr_left_short_nibble02\": 0,\n",
            "    \"f1_rdcmplx_pqtr_right_short_fcrse_nibble06\": 0,\n",
            "    \"f1_rddq_nqtr_right_fcrse_nibble15\": 0,\n",
            "    \"f1_wrlvl_crse_stg1_rank0_byte0\": 0,\n",
            "    \"nibbles\": 16,\n",
            "    \"f0_rddq_qtr_deskew_nibble04\": 1,\n",
            "    \"f1_wrcmplx_odly_dq_final_bit25\": 0,\n",
            "    \"f1_rddq_pqtr_final_nibble06\": 0,\n",
            "    \"f0_rddq_pqtr_right_fcrse_nibble14\": 173,\n",
            "    \"f1_wrdqdbi_deskew_dq_odly_fcrse_bit29\": 0,\n",
            "    \"f0_wrdqdbi_deskew_dq_odly_bit60\": 165,\n",
            "    \"rdvref_right_vref_final_nibble08\": 0,\n",
            "    \"rdvref_vref_upp_bound_nibble11\": 0,\n",
            "    \"f1_rddq_idelay_final_bit47\": 0,\n",
            "    \"f0_rddq_idelay_final_bit63\": 74,\n",
            "    \"iobmap_dq_69_68\": 0,\n",
            "    \"cal_warning_62\": 0,\n",
            "    \"es_vref_steps\": 14,\n",
            "    \"f0_wrcmplx_right_margin_byte4\": 65,\n",
            "    \"f0_wrdqdbi_left_edge_dq_bit52\": 48,\n",
            "    \"f1_wrcmplx_right_margin_byte5\": 0,\n",
            "    \"f1_wrcmplx_odly_dbi_final_byte6\": 0,\n",
            "    \"f1_rdcmplx_nqtr_final_nibble11\": 0,\n",
            "    \"f1_wrdqdbi_odly_dq_final_bit07\": 0,\n",
            "    \"f1_calbisc_rl_dly_nqtr_nibble15\": 0,\n",
            "    \"iobmap_dqs_15\": 0,\n",
            "    \"bisc_idly4_align_nibble09\": 77,\n",
            "    \"bisc_idly5_align_nibble12\": 72,\n",
            "    \"f0_wrdqdbi_stg1_bit_status_byte0\": 255,\n",
            "    \"phy_oe_nib20_dly\": 1,\n",
            "    \"f1_dqsgate_stg1_overflow_29\": 0,\n",
            "    \"f0_rddq_pqtr_right_nibble01\": 166,\n",
            "    \"f1_dqsgate_read_lat_final_byte2\": 0,\n",
            "    \"rdvref_vref_low_bound_nibble15\": 0,\n",
            "    \"f1_dqsgate_read_lat_final_byte7\": 0,\n",
            "    \"rdvref_left_vref_final_nibble15\": 0,\n",
            "    \"f0_wrdqdbi_deskew_dq_odly_bit59\": 154,\n",
            "    \"f0_wrlat_phy_oe_nib_final_byte1\": 1,\n",
            "    \"bisc_idly3_align_nibble07\": 78,\n",
            "    \"f1_wrlvl_crse_final_rank0_byte1\": 0,\n",
            "    \"rdvref_left_vref_low_bound_nibble04\": 0,\n",
            "    \"mgchk_pattern_config_2\": 0,\n",
            "    \"f0_wrdqdbi_left_edge_dq_bit31\": 84,\n",
            "    \"f0_rdcmplx_nqtr_left_short_nibble05\": 28,\n",
            "    \"bisc_nqtr_align_nibble05\": 0,\n",
            "    \"f0_wrcmplx_odly_dq_final_bit08\": 69,\n",
            "    \"f1_wrdqdbi_stg3_dq_odly_bit55\": 0,\n",
            "    \"f1_wrdqdbi_left_margin_byte6\": 0,\n",
            "    \"f0_wrdqdbi_deskew_dq_odly_fcrse_bit07\": 136,\n",
            "    \"f0_rdcmplx_pqtr_right_short_nibble11\": 170,\n",
            "    \"f1_rdcmplx_pqtr_final_nibble01\": 0,\n",
            "    \"f1_wrcmplx_odly_dq_final_bit06\": 0,\n",
            "    \"rdvref_left_vref_final_nibble00\": 0,\n",
            "    \"f1_rddq_idelay_final_bit62\": 0,\n",
            "    \"rdmargin_pqtr_left_nibble14\": 0,\n",
            "    \"wrmargin_right_byte6\": 0,\n",
            "    \"f1_wrcmplx_right_margin_byte3\": 0,\n",
            "    \"f0_rd_simp_fall_lm_nib_15\": [\n",
            "        74,\n",
            "        148\n",
            "    ],\n",
            "    \"f1_dqsgate_stg2_rldlyrnk_crse_rank0_byte4\": 0,\n",
            "    \"f1_wrdqdbi_stg2_dq_odly_bit47\": 0,\n",
            "    \"f0_wr_comp_lm_byte_05\": [\n",
            "        72,\n",
            "        144\n",
            "    ],\n",
            "    \"f0_rdcmplx_pqtr_left_nibble02\": 22,\n",
            "    \"f0_wrdqdbi_stg3_dq_odly_bit19\": 26,\n",
            "    \"f0_wrdqdbi_deskew_dq_odly_bit19\": 101,\n",
            "    \"f0_rdcmplx_pqtr_final_nibble04\": 90,\n",
            "    \"f1_calbisc_rl_dly_pqtr_nibble12\": 0,\n",
            "    \"f1_rdprbs_nqtr_right_margin_nibble01\": 0,\n",
            "    \"rdvref_vref_final_nibble04\": 0,\n",
            "    \"mgchk_mode\": 0,\n",
            "    \"wrvref_right_vref_upp_bound_rank0_byte5\": 0,\n",
            "    \"f1_wrdqdbi_deskew_dq_odly_fcrse_bit44\": 0,\n",
            "    \"f0_rdcmplx_idelay_offset_nibble15\": 0,\n",
            "    \"f0_rd_comp_rise_lm_nib_08\": [\n",
            "        66,\n",
            "        128\n",
            "    ],\n",
            "    \"wrmargin_right_byte4\": 0,\n",
            "    \"dc0_perf_mon_7\": 0,\n",
            "    \"rdvref_left_vref_low_bound_nibble02\": 0,\n",
            "    \"rdmargin_pqtr_right_nibble02\": 0,\n",
            "    \"cal_stage_time_35\": 0,\n",
            "    \"rdvref_left_vref_def_nibble05\": 0,\n",
            "    \"f0_wrdqdbi_deskew_dbi_odly_fcrse_byte1\": 142,\n",
            "    \"cal_pointer\": 447,\n",
            "    \"f1_wrdqdbi_right_edge_dqs_byte4\": 0,\n",
            "    \"f1_wrdqdbi_left_edge_dq_bit50\": 0,\n",
            "    \"f0_wrdqdbi_stg6_dbi_odly_byte4\": 96,\n",
            "    \"f0_wrdqdbi_right_margin_byte5\": 63,\n",
            "    \"f0_calbisc_rl_dly_nqtr_nibble14\": 78,\n",
            "    \"f1_wrdqdbi_deskew_dq_odly_fcrse_bit18\": 0,\n",
            "    \"f0_dqsgate_stg1_overflow_61\": 0,\n",
            "    \"f1_wrdqdbi_deskew_dq_odly_fcrse_bit11\": 0,\n",
            "    \"bisc_pqtr_align_nibble14\": 0,\n",
            "    \"f0_wrdqdbi_deskew_dq_odly_fcrse_bit55\": 127,\n",
            "    \"rdmargin_nqtr_left_nibble04\": 0,\n",
            "    \"f1_rdcmplx_idelay_offset_nibble15\": 0,\n",
            "    \"f1_rddq_idelay_final_bit41\": 0,\n",
            "    \"f1_wrcmplx_right_margin_fcrse_byte4\": 0,\n",
            "    \"f0_rd_simp_fall_ctp_nib_01\": [\n",
            "        100,\n",
            "        195\n",
            "    ],\n",
            "    \"f0_rd_comp_fall_rm_nib_03\": [\n",
            "        62,\n",
            "        121\n",
            "    ],\n",
            "    \"f0_xpll_clkoutfb_lt\": 16,\n",
            "    \"bisc_nqtr_nibble01\": 81,\n",
            "    \"rdvref_left_vref_upp_bound_nibble00\": 0,\n",
            "    \"f1_rddq_pqtr_right_nibble12\": 0,\n",
            "    \"f0_wrcmplx_odly_dq_final_bit48\": 62,\n",
            "    \"bisc_mon_align_nibble01\": 0,\n",
            "    \"f1_rdcmplx_pqtr_right_short_nibble02\": 0,\n",
            "    \"f1_wrdqdbi_deskew_dbi_odly_fcrse_byte7\": 0,\n",
            "    \"f1_wrdqdbi_odly_dqs_final_byte7\": 0,\n",
            "    \"f1_wrdqdbi_left_edge_dq_bit05\": 0,\n",
            "    \"f1_rdprbs_pqtr_right_margin_nibble08\": 0,\n",
            "    \"f0_wrdqdbi_left_edge_dq_bit28\": 69,\n",
            "    \"f1_wrdqdbi_stg3_dq_odly_bit58\": 0,\n",
            "    \"f0_wrdqdbi_left_edge_dq_bit26\": 69,\n",
            "    \"f1_wrcmplx_odly_dq_final_bit45\": 0,\n",
            "    \"cal_seq_status_07\": 265,\n",
            "    \"f1_wrdqdbi_deskew_dq_odly_bit13\": 0,\n",
            "    \"f1_wrcmplx_odly_dq_final_bit35\": 0,\n",
            "    \"f1_wrdqdbi_left_edge_dq_bit14\": 0,\n",
            "    \"f0_rddq_nqtr_right_nibble06\": 167,\n",
            "    \"f0_rdprbs_nqtr_left_margin_nibble07\": 0,\n",
            "    \"f0_rd_simp_rise_ctp_nib_09\": [\n",
            "        95,\n",
            "        188\n",
            "    ],\n",
            "    \"bisc_nqtr_nibble09\": 79,\n",
            "    \"f0_rdcmplx_pqtr_left_nibble13\": 24,\n",
            "    \"f1_wrlat_match_rank0_byte7\": 0,\n",
            "    \"bisc_rl_dly_qtr_nibble14\": 79,\n",
            "    \"f1_wrdqdbi_deskew_dq_odly_fcrse_bit48\": 0,\n",
            "    \"f1_rdcmplx_nqtr_final_nibble01\": 0,\n",
            "    \"f1_rddq_nqtr_final_nibble09\": 0,\n",
            "    \"f1_wrdqdbi_deskew_dbi_odly_byte2\": 0,\n",
            "    \"phy_oe_nib0_dly\": 1,\n",
            "    \"f0_rdprbs_nqtr_left_margin_nibble11\": 0,\n",
            "    \"f1_wrdqdbi_odly_dq_final_bit08\": 0,\n",
            "    \"vttrack_rldlyqtr_nibble06\": 77,\n",
            "    \"f0_wrdqdbi_deskew_dq_odly_fcrse_bit10\": 122,\n",
            "    \"rdmargin_nqtr_left_nibble05\": 0,\n",
            "    \"f0_wrcmplx_odly_dq_final_bit22\": 46,\n",
            "    \"f1_wrdqdbi_stg2_dq_odly_bit63\": 0,\n",
            "    \"f1_wrdqdbi_stg5_dqs_odly_byte4\": 0,\n",
            "    \"f0_rddq_pqtr_right_nibble12\": 171,\n",
            "    \"iobmap_dq_39_38\": 0,\n",
            "    \"track_enable\": \"Post-Cal Status, DDRMC ISR Tracking, UB ISR Tracking, DQS Gate Tracking\",\n",
            "    \"cal_stage_time_57\": 0,\n",
            "    \"f0_wrcmplx_left_margin_fcrse_byte7\": 70,\n",
            "    \"f0_rdcmplx_nqtr_right_short_fcrse_nibble02\": 173,\n",
            "    \"f1_wrdqdbi_stg3_dq_odly_bit16\": 0,\n",
            "    \"f0_rddq_idelay_final_bit19\": 87,\n",
            "    \"cal_seq_status_05\": 263,\n",
            "    \"ub_clk_8_0\": 2,\n",
            "    \"dqstrack_rldlyrnk_fine_max_byte6\": 77,\n",
            "    \"f0_rddq_idelay_final_bit05\": 90,\n",
            "    \"f0_wrdqdbi_stg2_dq_odly_bit40\": 55,\n",
            "    \"f0_wrdqdbi_deskew_dbi_odly_fcrse_byte5\": 135,\n",
            "    \"f1_rddq_idelay_final_bit46\": 0,\n",
            "    \"f1_wrcmplx_left_margin_fcrse_byte5\": 0,\n",
            "    \"cal_seq_status_13\": 271,\n",
            "    \"bisc_mon_align_nibble00\": 0,\n",
            "    \"cal_warning_65\": 0,\n",
            "    \"f0_rddq_nqtr_final_nibble11\": 93,\n",
            "    \"f0_wrdqdbi_stg4_dqs_delay_byte3\": 14,\n",
            "    \"f1_rddq_qtr_deskew_nibble03\": 0,\n",
            "    \"tag_ver_0\": 1,\n",
            "    \"cal_error_bit_phy_nibble_21\": 0,\n",
            "    \"f0_wrdqdbi_stg2_dq_odly_bit59\": 74,\n",
            "    \"f0_wrdqdbi_left_edge_dq_bit50\": 55,\n",
            "    \"f1_calbisc_rl_dly_pqtr_nibble00\": 0,\n",
            "    \"f0_rddq_pqtr_right_fcrse_nibble06\": 173,\n",
            "    \"cal_error_bit_phy_nibble_24\": 0,\n",
            "    \"f0_wrdqdbi_deskew_dq_odly_bit06\": 140,\n",
            "    \"f1_rddq_pqtr_right_fcrse_nibble12\": 0,\n",
            "    \"vttrack_rldlyqtr_min_nibble14\": 78,\n",
            "    \"f1_wrdqdbi_deskew_dq_odly_fcrse_bit47\": 0,\n",
            "    \"f1_wrdqdbi_stg1_bit_status_byte7\": 0,\n",
            "    \"f1_wrdqdbi_left_margin_byte1\": 0,\n",
            "    \"f1_wrdqdbi_stg2_dq_odly_bit20\": 0,\n",
            "    \"f0_wrdqdbi_stg4_dqs_delay_byte6\": 14,\n",
            "    \"f0_dqsgate_stg2_read_lat_rank0_byte1\": 26,\n",
            "    \"f0_wrdqdbi_stg2_dq_odly_bit41\": 55,\n",
            "    \"f0_rddq_pqtr_right_fcrse_nibble02\": 173,\n",
            "    \"rdvref_left_vref_def_nibble12\": 0,\n",
            "    \"f0_rddq_qtr_deskew_nibble10\": 1,\n",
            "    \"f1_wrdqdbi_odly_dqs_final_byte3\": 0,\n",
            "    \"f1_wrdqdbi_left_margin_byte7\": 0,\n",
            "    \"f0_rdcmplx_idelay_offset_nibble04\": 0,\n",
            "    \"f1_wrdqdbi_stg2_dqs_odly_byte1\": 0,\n",
            "    \"f0_wrdqdbi_deskew_dbi_odly_fcrse_byte7\": 154,\n",
            "    \"f0_wrdqdbi_deskew_dq_odly_fcrse_bit63\": 154,\n",
            "    \"rdvref_vref_low_bound_nibble08\": 0,\n",
            "    \"iobmap_dq_11_10\": 0,\n",
            "    \"wrmargin_left_byte3\": 0,\n",
            "    \"f0_wrlvl_crse_stg1_rank0_byte6\": 3,\n",
            "    \"f0_wrdqdbi_stg4_dqs_delay_byte4\": 14,\n",
            "    \"f1_rddq_pqtr_right_nibble03\": 0,\n",
            "    \"bisc_mon_align_nibble05\": 0,\n",
            "    \"f1_wrcmplx_odly_dqs_final_byte4\": 0,\n",
            "    \"f1_rddq_nqtr_left_nibble03\": 0,\n",
            "    \"rdvref_right_vref_def_nibble14\": 0,\n",
            "    \"ub_isr_watchdog\": 0,\n",
            "    \"iobmap_dqs_17\": 0,\n",
            "    \"cal_warning_10\": 0,\n",
            "    \"f1_dqsgate_stg1_overflow_01\": 0,\n",
            "    \"f1_rdcmplx_nqtr_right_short_fcrse_nibble13\": 0,\n",
            "    \"phy_oe_nib4_dly\": 1,\n",
            "    \"f0_wrdqdbi_deskew_dq_odly_bit16\": 117,\n",
            "    \"f0_wrdqdbi_deskew_dq_odly_fcrse_bit58\": 144,\n",
            "    \"f0_wrcmplx_odly_dq_final_bit38\": 116,\n",
            "    \"f0_wrdqdbi_stg3_dq_odly_bit32\": 96,\n",
            "    \"f1_wrlvl_fine_left_rank0_byte7\": 0,\n",
            "    \"f1_rddq_idelay_final_bit21\": 0,\n",
            "    \"f1_rddq_idelay_final_bit35\": 0,\n",
            "    \"nsu2_perf_mon_ctl_1_1\": 0,\n",
            "    \"f1_dqsgate_stg1_rldlyrnk_crse_rank0_byte0\": 0,\n",
            "    \"f1_wrcmplx_odly_dqs_final_byte7\": 0,\n",
            "    \"f0_rdprbs_nqtr_right_margin_nibble09\": 0,\n",
            "    \"f1_calbisc_rl_dly_nqtr_nibble04\": 0,\n",
            "    \"rdvref_right_vref_low_bound_nibble01\": 0,\n",
            "    \"cal_warning_30\": 0,\n",
            "    \"f0_rd_simp_fall_rm_nib_08\": [\n",
            "        73,\n",
            "        144\n",
            "    ],\n",
            "    \"f1_wrdqdbi_stg2_dq_odly_bit55\": 0,\n",
            "    \"nsu3_perf_mon_0_0\": 0,\n",
            "    \"f0_wrdqdbi_stg3_dq_odly_bit59\": 74,\n",
            "    \"f0_rd_comp_rise_lm_nib_10\": [\n",
            "        68,\n",
            "        132\n",
            "    ],\n",
            "    \"bisc_pqtr_align_nibble08\": 0,\n",
            "    \"cal_seq_status_08\": 394,\n",
            "    \"f0_wrdqdbi_deskew_dq_odly_fcrse_bit36\": 166,\n",
            "    \"f0_rddq_idelay_final_bit41\": 63,\n",
            "    \"f0_rcd_rc0f\": 0,\n",
            "    \"rdmargin_nqtr_right_nibble06\": 0,\n",
            "    \"bisc_nqtr_align_nibble10\": 2,\n",
            "    \"rdmargin_pqtr_left_nibble03\": 0,\n",
            "    \"f0_wrlvl_noise_fcrse_rank0_byte2\": 25,\n",
            "    \"rdvref_vref_upp_bound_nibble02\": 0,\n",
            "    \"f0_rdcmplx_nqtr_right_short_fcrse_nibble07\": 171,\n",
            "    \"f0_rdcmplx_nqtr_final_nibble14\": 84,\n",
            "    \"cal_stage.07_F0_WRITE_LATENCY_CAL\": \"Pass\",\n",
            "    \"cal_warning_50\": 0,\n",
            "    \"f1_rdcmplx_idelay_offset_nibble01\": 0,\n",
            "    \"f0_wrprbs_left_margin_byte0\": 0,\n",
            "    \"f1_wrcmplx_odly_dq_final_bit18\": 0,\n",
            "    \"iobmap_dqs_5\": 0,\n",
            "    \"dqs_track_en\": 1,\n",
            "    \"f1_wrlvl_fine_right_rank0_byte6\": 0,\n",
            "    \"f0_rddq_nqtr_right_fcrse_nibble12\": 177,\n",
            "    \"f1_wrdqdbi_deskew_dq_odly_bit21\": 0,\n",
            "    \"f1_dqsgate_stg1_rldlyrnk_fine_rank0_byte1\": 0,\n",
            "    \"wrvref_vref_low_bound_rank0_byte7\": 0,\n",
            "    \"rdvref_left_vref_low_bound_nibble05\": 0,\n",
            "    \"f0_rd_comp_rise_ctp_nib_14\": [\n",
            "        92,\n",
            "        177\n",
            "    ],\n",
            "    \"f0_dqsgate_stg1_rldlyrnk_fine_rank0_byte5\": 31,\n",
            "    \"f1_wrdqdbi_stg6_dbi_odly_byte1\": 0,\n",
            "    \"bisc_idly1_align_nibble03\": 77,\n",
            "    \"bisc_rl_dly_qtr_nibble02\": 80,\n",
            "    \"rdvref_left_vref_def_nibble11\": 0,\n",
            "    \"f0_dqsgate_stg1_overflow_00\": 255,\n",
            "    \"phy_oe_nib26_dly\": 0,\n",
            "    \"f0_rdcmplx_pqtr_right_short_nibble06\": 170,\n",
            "    \"f0_rdprbs_pqtr_right_margin_nibble03\": 0,\n",
            "    \"f0_wrcmplx_odly_dq_final_bit25\": 77,\n",
            "    \"f0_rdcmplx_pqtr_final_nibble05\": 89,\n",
            "    \"f1_wrdqdbi_odly_dq_final_bit47\": 0,\n",
            "    \"bisc_pqtr_nibble09\": 80,\n",
            "    \"ub_isr_calerror\": 0,\n",
            "    \"perf_mon_timebase_scale\": 777975,\n",
            "    \"vttrack_rldlyqtr_min_nibble10\": 77,\n",
            "    \"f0_wrdqdbi_deskew_dq_odly_fcrse_bit14\": 132,\n",
            "    \"f1_rddq_idelay_final_bit25\": 0,\n",
            "    \"f1_rddq_nqtr_left_nibble14\": 0,\n",
            "    \"f1_wrdqdbi_left_edge_dq_bit47\": 0,\n",
            "    \"f1_rdcmplx_pqtr_right_short_nibble04\": 0,\n",
            "    \"f0_add_cmd_dly\": 0,\n",
            "    \"f0_rddq_pqtr_final_nibble06\": 95,\n",
            "    \"f0_rd_simp_fall_ctp_nib_04\": [\n",
            "        102,\n",
            "        202\n",
            "    ],\n",
            "    \"nsu1_perf_filter_1_0\": 0,\n",
            "    \"f0_dqsgate_stg2_rldlyrnk_crse_rank0_byte6\": 3,\n",
            "    \"f0_wrlvl_offset_rank0_byte6\": 80,\n",
            "    \"f0_rddq_idelay_final_bit62\": 84,\n",
            "    \"f0_wrdqdbi_deskew_dq_odly_bit42\": 140,\n",
            "    \"bisc_nqtr_nibble06\": 81,\n",
            "    \"f1_wrdqdbi_deskew_dbi_odly_byte1\": 0,\n",
            "    \"f0_dqsgate_read_lat_final_byte2\": 26,\n",
            "    \"f0_wrcmplx_odly_dq_final_bit50\": 63,\n",
            "    \"f1_rdcmplx_nqtr_left_short_nibble10\": 0,\n",
            "    \"f1_wrdqdbi_left_edge_dbi_byte0\": 0,\n",
            "    \"f0_rd_comp_rise_lm_nib_02\": [\n",
            "        67,\n",
            "        129\n",
            "    ],\n",
            "    \"rdvref_vref_low_bound_nibble07\": 0,\n",
            "    \"f1_rdprbs_pqtr_left_margin_nibble02\": 0,\n",
            "    \"cal_stage_time_08\": 0,\n",
            "    \"wrvref_left_vref_final_rank0_byte4\": 0,\n",
            "    \"mgchk_def_wr_vref_range\": 0,\n",
            "    \"f0_rddq_pqtr_right_nibble11\": 172,\n",
            "    \"f1_wrdqdbi_stg3_dq_odly_bit50\": 0,\n",
            "    \"f0_rd_simp_rise_rm_nib_03\": [\n",
            "        76,\n",
            "        150\n",
            "    ],\n",
            "    \"f0_rdprbs_pqtr_left_margin_nibble13\": 0,\n",
            "    \"f1_wrlat_phy_oe_nib_final_byte4\": 0,\n",
            "    \"f0_rddq_nqtr_left_nibble11\": 21,\n",
            "    \"f1_rddq_pqtr_left_nibble12\": 0,\n",
            "    \"num_channels\": 1,\n",
            "    \"f1_wrdqdbi_stg5_dqs_odly_byte3\": 0,\n",
            "    \"f0_rd_simp_fall_lm_nib_09\": [\n",
            "        72,\n",
            "        142\n",
            "    ],\n",
            "    \"eye_scan_status\": \"NOT RUNNING\",\n",
            "    \"f0_rddq_idelay_final_bit23\": 85,\n",
            "    \"f1_rdcmplx_nqtr_right_short_fcrse_nibble00\": 0,\n",
            "    \"f1_wrdqdbi_left_margin_byte4\": 0,\n",
            "    \"cal_stage_time_42\": 0,\n",
            "    \"cal_warning_17\": 0,\n",
            "    \"rdvref_vref_upp_bound_nibble05\": 0,\n",
            "    \"f0_rddq_pqtr_right_fcrse_nibble04\": 173,\n",
            "    \"f1_wrcmplx_odly_dbi_final_byte2\": 0,\n",
            "    \"dqstrack_rldlyrnk_crse_min_byte6\": 3,\n",
            "    \"f0_rdcmplx_nqtr_right_nibble06\": 143,\n",
            "    \"f0_rdcmplx_idelay_offset_nibble07\": 0,\n",
            "    \"f1_rddq_nqtr_right_nibble11\": 0,\n",
            "    \"f0_wrdqdbi_stg2_dqs_odly_byte0\": 72,\n",
            "    \"f1_mr3_8_0\": 32,\n",
            "    \"f0_rddq_idelay_final_bit27\": 76,\n",
            "    \"f0_rddq_idelay_final_bit24\": 71,\n",
            "    \"f1_wrdqdbi_stg3_dq_odly_bit34\": 0,\n",
            "    \"f1_wrdqdbi_stg1_dqs_delay_byte0\": 0,\n",
            "    \"phy_oe_nib5_dly\": 1,\n",
            "    \"f0_rdcmplx_nqtr_right_short_fcrse_nibble00\": 182,\n",
            "    \"f0_wrcmplx_left_margin_fcrse_byte6\": 70,\n",
            "    \"f0_wrdqdbi_stg2_dq_odly_bit32\": 96,\n",
            "    \"f1_calbisc_rl_dly_qtr_nibble07\": 0,\n",
            "    \"rdmargin_nqtr_left_nibble07\": 0,\n",
            "    \"bisc_rl_dly_qtr_nibble15\": 78,\n",
            "    \"cal_status\": \"PASS\",\n",
            "    \"f0_wrdqdbi_odly_dq_final_bit63\": 85,\n",
            "    \"f0_dqsgate_stg1_overflow_31\": 0,\n",
            "    \"f1_wrdqdbi_odly_dq_final_bit17\": 0,\n",
            "    \"f0_rd_simp_rise_ctp_nib_10\": [\n",
            "        93,\n",
            "        182\n",
            "    ],\n",
            "    \"f1_wrdqdbi_deskew_dq_odly_bit35\": 0,\n",
            "    \"f0_rddq_pqtr_right_fcrse_nibble10\": 173,\n",
            "    \"f0_rdcmplx_nqtr_right_short_fcrse_nibble03\": 172,\n",
            "    \"f0_wrlvl_crse_stg1_rank0_byte3\": 0,\n",
            "    \"f1_rddq_pqtr_right_fcrse_nibble11\": 0,\n",
            "    \"f1_wrdqdbi_left_edge_dq_bit32\": 0,\n",
            "    \"f0_rd_comp_rise_lm_nib_06\": [\n",
            "        67,\n",
            "        132\n",
            "    ],\n",
            "    \"f0_wrprbs_left_margin_byte4\": 0,\n",
            "    \"nsu3_perf_filter_1_0\": 0,\n",
            "    \"vttrack_rldlyqtr_nibble11\": 78,\n",
            "    \"f1_rddq_nqtr_right_fcrse_nibble07\": 0,\n",
            "    \"f1_wrdqdbi_deskew_dq_odly_bit33\": 0,\n",
            "    \"dqstrack_rldlyrnk_crse_byte1\": 4,\n",
            "    \"cal_error_bit_phy_nibble_11\": 0,\n",
            "    \"rdmargin_nqtr_right_nibble09\": 0,\n",
            "    \"f0_wrdqdbi_deskew_dq_odly_fcrse_bit26\": 131,\n",
            "    \"f1_wrdqdbi_deskew_dbi_odly_fcrse_byte3\": 0,\n",
            "    \"f1_rdcmplx_pqtr_right_short_nibble05\": 0,\n",
            "    \"f1_wrdqdbi_left_edge_dq_bit27\": 0,\n",
            "    \"f1_wrdqdbi_stg3_dq_odly_bit06\": 0,\n",
            "    \"f1_rdcmplx_nqtr_right_short_fcrse_nibble01\": 0,\n",
            "    \"f0_wrdqdbi_stg3_dq_odly_bit12\": 62,\n",
            "    \"f0_rdprbs_nqtr_left_margin_nibble09\": 0,\n",
            "    \"bisc_idly3_align_nibble12\": 69,\n",
            "    \"f1_wrdqdbi_deskew_dq_odly_bit24\": 0,\n",
            "    \"f1_wrdqdbi_deskew_dq_odly_fcrse_bit30\": 0,\n",
            "    \"f1_wrdqdbi_deskew_dq_odly_bit54\": 0,\n",
            "    \"f1_rdcmplx_pqtr_right_nibble04\": 0,\n",
            "    \"f0_rdcmplx_pqtr_left_short_nibble05\": 21,\n",
            "    \"iobmap_dq_43_42\": 0,\n",
            "    \"rdvref_right_vref_def_nibble07\": 0,\n",
            "    \"vttrack_rldlyqtr_nibble08\": 79,\n",
            "    \"f0_wrdqdbi_stg5_dqs_odly_byte6\": 63,\n",
            "    \"f0_rd_comp_rise_lm_nib_00\": [\n",
            "        69,\n",
            "        136\n",
            "    ],\n",
            "    \"cal_stage_time_45\": 0,\n",
            "    \"f1_wrdqdbi_stg3_dq_odly_bit21\": 0,\n",
            "    \"f1_wrcmplx_odly_dbi_final_byte0\": 0,\n",
            "    \"f0_wrdqdbi_deskew_dq_odly_bit57\": 157,\n",
            "    \"f0_wrdqdbi_odly_dq_final_bit21\": 36,\n",
            "    \"f0_rd_simp_rise_lm_nib_09\": [\n",
            "        77,\n",
            "        152\n",
            "    ],\n",
            "    \"cal_stage_time_33\": 0,\n",
            "    \"f0_rd_comp_fall_ctp_nib_15\": [\n",
            "        86,\n",
            "        172\n",
            "    ],\n",
            "    \"rdvref_right_vref_def_nibble03\": 0,\n",
            "    \"vttrack_rldlyqtr_max_nibble13\": 84,\n",
            "    \"f1_rddq_pqtr_final_nibble15\": 0,\n",
            "    \"f0_wrdqdbi_deskew_dq_odly_fcrse_bit45\": 125,\n",
            "    \"bisc_nqtr_align_nibble04\": 0,\n",
            "    \"f0_wrdqdbi_deskew_dq_odly_fcrse_bit02\": 126,\n",
            "    \"f1_wrdqdbi_odly_dbi_final_byte1\": 0,\n",
            "    \"f0_rdcmplx_pqtr_right_nibble07\": 171,\n",
            "    \"rdmargin_pqtr_left_nibble07\": 0,\n",
            "    \"mgchk_pattern_config_1\": 0,\n",
            "    \"f0_rdcmplx_nqtr_left_short_nibble09\": 24,\n",
            "    \"f0_rdcmplx_nqtr_left_nibble14\": 22,\n",
            "    \"f0_rd_simp_rise_rm_nib_00\": [\n",
            "        74,\n",
            "        146\n",
            "    ],\n",
            "    \"f1_wrdqdbi_odly_dqs_final_byte0\": 0,\n",
            "    \"f1_dqsgate_stg2_rldlyrnk_crse_rank0_byte0\": 0,\n",
            "    \"f1_rddq_idelay_final_bit37\": 0,\n",
            "    \"f0_rdcmplx_pqtr_right_short_fcrse_nibble00\": 177,\n",
            "    \"f1_wrcmplx_odly_dq_final_bit14\": 0,\n",
            "    \"bisc_nqtr_align_nibble03\": 0,\n",
            "    \"vttrack_rldlyqtr_max_nibble12\": 81,\n",
            "    \"f0_rddq_pqtr_left_nibble01\": 18,\n",
            "    \"f1_dqsgate_stg1_read_lat_rank0_byte6\": 0,\n",
            "    \"f0_wrdqdbi_stg5_dqs_odly_byte7\": 90,\n",
            "    \"rdvref_right_vref_final_nibble11\": 0,\n",
            "    \"f1_wrcmplx_right_margin_fcrse_byte1\": 0,\n",
            "    \"f0_rd_comp_fall_lm_nib_05\": [\n",
            "        60,\n",
            "        117\n",
            "    ],\n",
            "    \"f0_wrcmplx_left_margin_byte6\": 73,\n",
            "    \"f1_rddq_idelay_final_bit48\": 0,\n",
            "    \"f0_wrdqdbi_stg2_dq_odly_bit47\": 55,\n",
            "    \"f0_wrdqdbi_left_edge_dq_bit60\": 81,\n",
            "    \"f1_rdcmplx_nqtr_right_nibble02\": 0,\n",
            "    \"f0_rd_simp_rise_rm_nib_06\": [\n",
            "        77,\n",
            "        152\n",
            "    ],\n",
            "    \"f0_wrdqdbi_left_edge_dq_bit47\": 47,\n",
            "    \"cal_stage_time_53\": 0,\n",
            "    \"wrmargin_left_byte2\": 0,\n",
            "    \"f1_wrlvl_fine_final_rank0_byte0\": 0,\n",
            "    \"f0_rd_comp_fall_rm_nib_15\": [\n",
            "        61,\n",
            "        122\n",
            "    ],\n",
            "    \"f1_wrdqdbi_right_edge_dqs_byte2\": 0,\n",
            "    \"rdvref_left_vref_upp_bound_nibble03\": 0,\n",
            "    \"f0_rddq_idelay_final_bit17\": 77,\n",
            "    \"f1_wrdqdbi_stg2_dqs_odly_byte6\": 0,\n",
            "    \"bisc_idly1_align_nibble01\": 82,\n",
            "    \"wrmargin_right_byte3\": 0,\n",
            "    \"rdvref_right_vref_low_bound_nibble04\": 0,\n",
            "    \"f0_rdcmplx_idelay_offset_nibble10\": 0,\n",
            "    \"f1_dqsgate_stg1_overflow_08\": 0,\n",
            "    \"reg_safe_config1\": 1086456584,\n",
            "    \"wrvref_right_vref_final_rank0_byte7\": 0,\n",
            "    \"f1_wrdqdbi_stg2_dq_odly_bit10\": 0,\n",
            "    \"f0_wrlvl_offset_rank0_byte4\": 80,\n",
            "    \"f1_wrlvl_crse_final_rank0_byte0\": 0,\n",
            "    \"f0_wrdqdbi_deskew_dq_odly_bit00\": 141,\n",
            "    \"bisc_nqtr_align_nibble12\": 0,\n",
            "    \"f0_dqsgate_stg1_overflow_29\": 0,\n",
            "    \"rdvref_right_vref_def_nibble00\": 0,\n",
            "    \"f0_wr_simp_ctp_byte_01\": [\n",
            "        316,\n",
            "        622\n",
            "    ],\n",
            "    \"rdmargin_pqtr_right_nibble09\": 0,\n",
            "    \"f0_wrcmplx_odly_dq_final_bit56\": 98,\n",
            "    \"f1_dqsgate_stg1_overflow_40\": 0,\n",
            "    \"f1_wrcmplx_odly_dqs_final_byte6\": 0,\n",
            "    \"cal_warning_20\": 0,\n",
            "    \"f0_wrdqdbi_odly_dqs_final_byte7\": 90,\n",
            "    \"f1_wrdqdbi_odly_dq_final_bit46\": 0,\n",
            "    \"f0_wrdqdbi_left_margin_byte3\": 71,\n",
            "    \"f0_wrdqdbi_deskew_dq_odly_bit58\": 154,\n",
            "    \"cal_post_status_04\": 0,\n",
            "    \"bisc_idly4_align_nibble15\": 79,\n",
            "    \"f1_wrdqdbi_left_edge_dq_bit45\": 0,\n",
            "    \"f1_calbisc_rl_dly_pqtr_nibble13\": 0,\n",
            "    \"f1_wrdqdbi_stg3_dq_odly_bit54\": 0,\n",
            "    \"f1_wrdqdbi_deskew_dq_odly_bit26\": 0,\n",
            "    \"f0_wrdqdbi_deskew_dq_odly_bit22\": 113,\n",
            "    \"f0_rdcmplx_pqtr_left_short_nibble12\": 21,\n",
            "    \"f0_wrdqdbi_deskew_dq_odly_bit49\": 122,\n",
            "    \"f1_rddq_pqtr_right_fcrse_nibble00\": 0,\n",
            "    \"cal_time_17_9\": 1,\n",
            "    \"rdvref_right_vref_upp_bound_nibble04\": 0,\n",
            "    \"f1_wrprbs_left_margin_byte5\": 0,\n",
            "    \"f0_rddq_idelay_final_bit06\": 89,\n",
            "    \"f1_rdprbs_nqtr_left_margin_nibble05\": 0,\n",
            "    \"f0_wrdqdbi_stg2_dq_odly_bit55\": 47,\n",
            "    \"f1_wrdqdbi_deskew_dq_odly_fcrse_bit53\": 0,\n",
            "    \"f1_rdcmplx_idelay_offset_nibble09\": 0,\n",
            "    \"f0_wrdqdbi_odly_dq_final_bit20\": 36,\n",
            "    \"f0_wrdqdbi_left_edge_dq_bit25\": 75,\n",
            "    \"f0_calbisc_rl_dly_nqtr_nibble13\": 81,\n",
            "    \"f1_wrcmplx_odly_dqs_final_byte0\": 0,\n",
            "    \"cal_pre_status_17_9\": 511,\n",
            "    \"vttrack_rldlyqtr_min_nibble13\": 79,\n",
            "    \"f1_dqsgate_stg1_overflow_43\": 0,\n",
            "    \"reg_map_ver\": 5,\n",
            "    \"f1_wrlat_phy_oe_nib_final_byte7\": 0,\n",
            "    \"f1_rdcmplx_nqtr_left_nibble10\": 0,\n",
            "    \"f1_rdcmplx_pqtr_left_short_nibble15\": 0,\n",
            "    \"f1_rddq_nqtr_left_nibble00\": 0,\n",
            "    \"f0_rddq_nqtr_right_fcrse_nibble01\": 181,\n",
            "    \"f1_wrcmplx_odly_dq_final_bit16\": 0,\n",
            "    \"rdvref_right_vref_final_nibble02\": 0,\n",
            "    \"cal_stage_time_04\": 0,\n",
            "    \"iobmap_dq_59_58\": 0,\n",
            "    \"f1_mr5_rtt_park\": 0,\n",
            "    \"f0_wr_simp_lm_byte_01\": [\n",
            "        82,\n",
            "        161\n",
            "    ],\n",
            "    \"f0_rddq_idelay_final_bit03\": 86,\n",
            "    \"f0_rd_simp_rise_lm_nib_10\": [\n",
            "        75,\n",
            "        146\n",
            "    ],\n",
            "    \"f0_wrdqdbi_stg2_dq_odly_bit18\": 26,\n",
            "    \"f0_rdprbs_nqtr_left_margin_nibble10\": 0,\n",
            "    \"f0_rdcmplx_nqtr_left_short_nibble04\": 29,\n",
            "    \"iobmap_dq_41_40\": 0,\n",
            "    \"f0_wrdqdbi_stg3_dq_odly_bit52\": 47,\n",
            "    \"f1_wrdqdbi_deskew_dbi_odly_byte3\": 0,\n",
            "    \"f1_wrlat_phy_data_nib_final_byte2\": 0,\n",
            "    \"f1_rddq_qtr_deskew_nibble06\": 0,\n",
            "    \"f0_wrlat_init_latency\": 16,\n",
            "    \"f0_rd_comp_fall_ctp_nib_09\": [\n",
            "        83,\n",
            "        164\n",
            "    ],\n",
            "    \"f0_wrdqdbi_deskew_dq_odly_bit20\": 110,\n",
            "    \"f0_wrdqdbi_stg3_dq_odly_bit25\": 71,\n",
            "    \"f1_rddq_qtr_deskew_nibble09\": 0,\n",
            "    \"f0_wrdqdbi_deskew_dq_odly_bit52\": 124,\n",
            "    \"f1_wrdqdbi_stg1_dqs_delay_byte4\": 0,\n",
            "    \"iobmap_dqs_11\": 0,\n",
            "    \"cal_stage_time_51\": 0,\n",
            "    \"f1_rddq_nqtr_left_nibble04\": 0,\n",
            "    \"f1_wrdqdbi_stg4_byte_status_01\": 0,\n",
            "    \"f0_wrlvl_crse_final_rank0_byte4\": 2,\n",
            "    \"f0_calbisc_rl_dly_pqtr_nibble15\": 79,\n",
            "    \"f0_wrdqdbi_deskew_dq_odly_bit23\": 101,\n",
            "    \"nsu2_perf_mon_0_0\": 0,\n",
            "    \"f1_rdprbs_pqtr_left_margin_nibble11\": 0,\n",
            "    \"f1_wrcmplx_odly_dq_final_bit13\": 0,\n",
            "    \"f1_wrdqdbi_left_edge_dq_bit10\": 0,\n",
            "    \"f0_rdcmplx_pqtr_left_short_nibble00\": 21,\n",
            "    \"rdvref_left_vref_def_nibble06\": 0,\n",
            "    \"f1_rdcmplx_idelay_offset_nibble03\": 0,\n",
            "    \"f1_wrdqdbi_right_edge_dqs_byte3\": 0,\n",
            "    \"f1_rddq_pqtr_left_nibble04\": 0,\n",
            "    \"f1_wrdqdbi_right_margin_fcrse_byte4\": 0,\n",
            "    \"cal_warning_49\": 0,\n",
            "    \"f0_calbisc_rl_dly_nqtr_nibble00\": 82,\n",
            "    \"iobmap_dq_49_48\": 0,\n",
            "    \"ddrmc_pcsr_status_caldone\": 1,\n",
            "    \"cal_stage_time_46\": 0,\n",
            "    \"f0_rdcmplx_nqtr_right_short_fcrse_nibble14\": 177,\n",
            "    \"cal_error_bit_phy_nibble_25\": 0,\n",
            "    \"bisc_idly0_align_nibble01\": 77,\n",
            "    \"cal_warning_61\": 0,\n",
            "    \"f0_rdcmplx_nqtr_final_nibble08\": 77,\n",
            "    \"f0_wrdqdbi_deskew_dq_odly_fcrse_bit59\": 154,\n",
            "    \"f0_rddq_idelay_final_bit53\": 82,\n",
            "    \"f0_wrdqdbi_odly_dq_final_bit38\": 114,\n",
            "    \"nsu2_perf_mon_0_1\": 0,\n",
            "    \"f1_wrlvl_fine_right_rank0_byte3\": 0,\n",
            "    \"f1_wrcmplx_left_margin_fcrse_byte0\": 0,\n",
            "    \"dqstrack_rldlyrnk_fine_byte3\": 23,\n",
            "    \"rdvref_left_vref_upp_bound_nibble06\": 0,\n",
            "    \"wrvref_left_vref_def_rank0_byte3\": 0,\n",
            "    \"f1_wrlvl_noise_fcrse_rank0_byte6\": 0,\n",
            "    \"f1_wrlvl_fine_left_rank0_byte1\": 0,\n",
            "    \"f1_wrdqdbi_odly_dq_final_bit58\": 0,\n",
            "    \"f0_rdcmplx_nqtr_right_nibble08\": 134,\n",
            "    \"rdmargin_pqtr_right_nibble05\": 0,\n",
            "    \"f1_wrdqdbi_deskew_dq_odly_fcrse_bit42\": 0,\n",
            "    \"bisc_idly5_align_nibble06\": 72,\n",
            "    \"vttrack_rldlyqtr_nibble09\": 77,\n",
            "    \"phy_rden18_dly\": 22,\n",
            "    \"f0_rd_comp_fall_rm_nib_01\": [\n",
            "        64,\n",
            "        125\n",
            "    ],\n",
            "    \"f1_wrdqdbi_stg6_dbi_odly_byte0\": 0,\n",
            "    \"f0_rdcmplx_pqtr_right_short_nibble09\": 175,\n",
            "    \"f0_calbisc_rl_dly_qtr_nibble11\": 77,\n",
            "    \"f0_dqsgate_stg1_overflow_53\": 0,\n",
            "    \"f0_rdcmplx_nqtr_right_nibble04\": 149,\n",
            "    \"f1_wrdqdbi_left_edge_dq_bit16\": 0,\n",
            "    \"f0_wrdqdbi_deskew_dq_odly_bit21\": 110,\n",
            "    \"rdvref_right_vref_final_nibble07\": 0,\n",
            "    \"bisc_nqtr_nibble15\": 78,\n",
            "    \"f0_rdcmplx_nqtr_left_short_nibble07\": 25,\n",
            "    \"f0_wrprbs_left_margin_byte7\": 0,\n",
            "    \"f1_wrdqdbi_deskew_dq_odly_bit49\": 0,\n",
            "    \"f0_rdcmplx_nqtr_final_nibble05\": 89,\n",
            "    \"f0_wrdqdbi_odly_dq_final_bit22\": 39,\n",
            "    \"f0_wrcmplx_right_margin_fcrse_byte4\": 60,\n",
            "    \"f0_xpll_divclk_lt\": 1,\n",
            "    \"f0_rd_simp_fall_rm_nib_12\": [\n",
            "        75,\n",
            "        146\n",
            "    ],\n",
            "    \"f0_dqsgate_stg1_overflow_20\": 0,\n",
            "    \"f1_wrdqdbi_left_edge_dq_bit62\": 0,\n",
            "    \"f1_wrcmplx_odly_dq_final_bit48\": 0,\n",
            "    \"bisc_pqtr_nibble05\": 82,\n",
            "    \"f0_rd_simp_fall_lm_nib_11\": [\n",
            "        72,\n",
            "        146\n",
            "    ],\n",
            "    \"rdvref_left_vref_upp_bound_nibble07\": 0,\n",
            "    \"f0_wrlat_match_rank0_byte2\": 17,\n",
            "    \"f1_wrcmplx_odly_dbi_final_byte4\": 0,\n",
            "    \"ddrmc_pcsr_status\": 23,\n",
            "    \"dqstrack_rldlyrnk_fine_min_byte0\": 76,\n",
            "    \"f1_rdprbs_pqtr_right_margin_nibble00\": 0,\n",
            "    \"f1_wrlat_wldlyrnk_crse_final_rank0_byte3\": 0,\n",
            "    \"eye_scan_error\": \"N/A\",\n",
            "    \"f0_wrdqdbi_right_margin_fcrse_byte3\": 70,\n",
            "    \"f1_wrdqdbi_deskew_dq_odly_fcrse_bit37\": 0,\n",
            "    \"rdmargin_nqtr_right_nibble02\": 0,\n",
            "    \"f1_wrcmplx_odly_dq_final_bit49\": 0,\n",
            "    \"cal_error_msg\": \"None\",\n",
            "    \"f0_wr_simp_rm_byte_00\": [\n",
            "        73,\n",
            "        142\n",
            "    ],\n",
            "    \"wrvref_right_vref_final_rank0_byte4\": 0,\n",
            "    \"f0_wrdqdbi_odly_dq_final_bit26\": 69,\n",
            "    \"f0_wrlvl_noise_fcrse_rank0_byte5\": 55,\n",
            "    \"iobmap_dqs_3\": 0,\n",
            "    \"f0_wrdqdbi_left_edge_dq_bit49\": 46,\n",
            "    \"nsu0_perf_mon_0_0\": 0,\n",
            "    \"f1_rdprbs_nqtr_left_margin_nibble02\": 0,\n",
            "    \"rdvref_left_vref_final_nibble04\": 0,\n",
            "    \"f0_dqsgate_read_lat_final_byte1\": 26,\n",
            "    \"bisc_idly0_align_nibble03\": 74,\n",
            "    \"f0_wrlvl_noise_fcrse_rank0_byte1\": 65,\n",
            "    \"rdvref_vref_upp_bound_nibble06\": 0,\n",
            "    \"rdvref_right_vref_upp_bound_nibble05\": 0,\n",
            "    \"f1_wrdqdbi_stg2_dq_odly_bit32\": 0,\n",
            "    \"phy_rden13_dly\": 22,\n",
            "    \"bisc_idly3_align_nibble09\": 76,\n",
            "    \"f1_wrcmplx_left_margin_fcrse_byte3\": 0,\n",
            "    \"bisc_nqtr_align_nibble15\": 0,\n",
            "    \"f0_rdcmplx_pqtr_final_nibble11\": 92,\n",
            "    \"f1_wrdqdbi_stg3_dq_odly_bit38\": 0,\n",
            "    \"f1_rdcmplx_idelay_offset_nibble04\": 0,\n",
            "    \"xpi_read_offset\": 2197,\n",
            "    \"f1_write_latency\": 1,\n",
            "    \"f1_wrdqdbi_stg2_dq_odly_bit59\": 0,\n",
            "    \"f1_wrcmplx_odly_dq_final_bit61\": 0,\n",
            "    \"f0_wrlvl_fine_left_rank0_byte6\": 46,\n",
            "    \"f1_wrcmplx_odly_dq_final_bit28\": 0,\n",
            "    \"f1_wrdqdbi_stg3_dq_odly_bit56\": 0,\n",
            "    \"f1_wrdqdbi_deskew_dq_odly_fcrse_bit17\": 0,\n",
            "    \"f1_wrdqdbi_left_edge_dq_bit19\": 0,\n",
            "    \"f0_wrdqdbi_deskew_dq_odly_bit24\": 145,\n",
            "    \"f1_rdprbs_nqtr_right_margin_nibble09\": 0,\n",
            "    \"f0_rdcmplx_nqtr_left_nibble11\": 23,\n",
            "    \"ddrmc_isr_ce0_ecc0\": 0,\n",
            "    \"xpi_wrdata_all_nib_dly_offset\": 8,\n",
            "    \"f1_dqsgate_stg1_overflow_18\": 0,\n",
            "    \"f0_wr_simp_rm_byte_03\": [\n",
            "        74,\n",
            "        145\n",
            "    ],\n",
            "    \"f0_wrcmplx_right_margin_fcrse_byte5\": 60,\n",
            "    \"cal_seq_status_24\": 295,\n",
            "    \"f0_dqsgate_stg1_overflow_55\": 0,\n",
            "    \"f1_wrdqdbi_stg6_dbi_odly_byte6\": 0,\n",
            "    \"rdmargin_pqtr_left_nibble09\": 0,\n",
            "    \"cal_error_bit_phy_nibble_14\": 0,\n",
            "    \"f1_wrdqdbi_stg4_dqs_delay_byte1\": 0,\n",
            "    \"f1_wrdqdbi_odly_dq_final_bit39\": 0,\n",
            "    \"cal_stage_time_34\": 0,\n",
            "    \"f1_wrdqdbi_deskew_dq_odly_bit57\": 0,\n",
            "    \"f0_dqsgate_stg2_read_lat_rank0_byte5\": 27,\n",
            "    \"f0_dqsgate_stg1_overflow_10\": 0,\n",
            "    \"f1_rdprbs_pqtr_left_margin_nibble12\": 0,\n",
            "    \"cal_warning_24\": 0,\n",
            "    \"f1_rdcmplx_pqtr_right_short_nibble14\": 0,\n",
            "    \"f0_rdcmplx_pqtr_right_short_nibble07\": 170,\n",
            "    \"f0_rdprbs_nqtr_left_margin_nibble00\": 0,\n",
            "    \"wrvref_left_vref_def_rank0_byte0\": 0,\n",
            "    \"f1_wrdqdbi_stg2_dq_odly_bit46\": 0,\n",
            "    \"f0_wrdqdbi_odly_dq_final_bit57\": 83,\n",
            "    \"f1_wrdqdbi_stg4_dqs_delay_byte4\": 0,\n",
            "    \"f0_wrdqdbi_stg2_dq_odly_bit48\": 47,\n",
            "    \"f1_wrdqdbi_left_edge_dq_bit55\": 0,\n",
            "    \"f1_rdprbs_nqtr_left_margin_nibble08\": 0,\n",
            "    \"f1_wrdqdbi_stg2_dq_odly_bit41\": 0,\n",
            "    \"f0_mr6_8_0\": 28,\n",
            "    \"f0_rdcmplx_pqtr_right_short_nibble10\": 168,\n",
            "    \"f1_wrlvl_fine_final_rank0_byte7\": 0,\n",
            "    \"f0_rd_simp_fall_rm_nib_10\": [\n",
            "        76,\n",
            "        150\n",
            "    ],\n",
            "    \"f1_rddq_pqtr_final_nibble12\": 0,\n",
            "    \"f1_wrdqdbi_right_margin_byte6\": 0,\n",
            "    \"bisc_nqtr_nibble12\": 80,\n",
            "    \"f1_rdcmplx_pqtr_final_nibble09\": 0,\n",
            "    \"f0_wrcmplx_right_margin_byte0\": 61,\n",
            "    \"wrvref_right_vref_upp_bound_rank0_byte1\": 0,\n",
            "    \"f0_dqsgate_stg1_overflow_06\": 0,\n",
            "    \"f1_rddq_idelay_final_bit12\": 0,\n",
            "    \"f1_wrlvl_fine_final_rank0_byte6\": 0,\n",
            "    \"f1_rddq_pqtr_right_fcrse_nibble06\": 0,\n",
            "    \"f0_wrdqdbi_left_edge_dq_bit06\": 64,\n",
            "    \"vttrack_rldlyqtr_nibble07\": 79,\n",
            "    \"f1_calbisc_rl_dly_pqtr_nibble10\": 0,\n",
            "    \"cal_seq_status_27\": 298,\n",
            "    \"rdvref_vref_final_nibble14\": 0,\n",
            "    \"f1_wrdqdbi_left_edge_dq_bit60\": 0,\n",
            "    \"f1_rddq_pqtr_right_fcrse_nibble03\": 0,\n",
            "    \"f0_rdcmplx_pqtr_right_nibble08\": 154,\n",
            "    \"rdvref_right_vref_upp_bound_nibble14\": 0,\n",
            "    \"f0_wrdqdbi_deskew_dq_odly_bit09\": 142,\n",
            "    \"f1_wrdqdbi_left_edge_dq_bit00\": 0,\n",
            "    \"nsu1_perf_mon_1_1\": 0,\n",
            "    \"f1_rddq_idelay_final_bit60\": 0,\n",
            "    \"f1_wrdqdbi_deskew_dq_odly_fcrse_bit02\": 0,\n",
            "    \"cal_seq_status_20\": 287,\n",
            "    \"f1_dqsgate_rldlyrnk_crse_final_rank0_byte4\": 0,\n",
            "    \"f0_rddq_qtr_deskew_nibble15\": 1,\n",
            "    \"f0_rddq_idelay_final_bit20\": 87,\n",
            "    \"f0_rdcmplx_nqtr_right_short_fcrse_nibble11\": 178,\n",
            "    \"f1_wrprbs_right_margin_byte1\": 0,\n",
            "    \"wrvref_left_vref_upp_bound_rank0_byte1\": 0,\n",
            "    \"bisc_pqtr_nibble02\": 81,\n",
            "    \"f0_wrdqdbi_odly_dq_final_bit09\": 69,\n",
            "    \"f1_wrdqdbi_stg1_dqs_delay_byte2\": 0,\n",
            "    \"f1_wrdqdbi_left_edge_dq_bit13\": 0,\n",
            "    \"f0_rddq_nqtr_left_nibble05\": 27,\n",
            "    \"dqstrack_rldlyrnk_fine_byte1\": 74,\n",
            "    \"f1_dqsgate_stg1_overflow_33\": 0,\n",
            "    \"f0_wrdqdbi_right_margin_fcrse_byte6\": 70,\n",
            "    \"f0_wrdqdbi_stg2_dq_odly_bit33\": 96,\n",
            "    \"f1_wrdqdbi_left_edge_dq_bit30\": 0,\n",
            "    \"f1_wrdqdbi_deskew_dq_odly_bit10\": 0,\n",
            "    \"bisc_nqtr_align_nibble09\": 0,\n",
            "    \"phy_rden14_dly\": 22,\n",
            "    \"bisc_idly2_align_nibble00\": 69,\n",
            "    \"f0_wrdqdbi_deskew_dbi_odly_byte7\": 158,\n",
            "    \"f0_wrdqdbi_left_edge_dq_bit42\": 55,\n",
            "    \"f0_rddq_idelay_final_bit00\": 78,\n",
            "    \"cal_warning_63\": 0,\n",
            "    \"f0_rddq_pqtr_left_nibble09\": 18,\n",
            "    \"f0_rdprbs_pqtr_left_margin_nibble07\": 0,\n",
            "    \"f1_wrdqdbi_stg3_dq_odly_bit39\": 0,\n",
            "    \"f1_wrdqdbi_deskew_dq_odly_fcrse_bit08\": 0,\n",
            "    \"f0_rdcmplx_pqtr_right_short_fcrse_nibble03\": 179,\n",
            "    \"f0_wrdqdbi_stg3_dq_odly_bit38\": 96,\n",
            "    \"f1_rdcmplx_nqtr_right_nibble00\": 0,\n",
            "    \"es_data_need_update\": 0,\n",
            "    \"rdvref_left_vref_upp_bound_nibble08\": 0,\n",
            "    \"f0_wrdqdbi_stg3_dq_odly_bit61\": 74,\n",
            "    \"f0_wrdqdbi_left_edge_dq_bit48\": 54,\n",
            "    \"f1_wrcmplx_right_margin_fcrse_byte2\": 0,\n",
            "    \"f1_rddq_pqtr_right_nibble15\": 0,\n",
            "    \"f1_wrdqdbi_deskew_dq_odly_bit40\": 0,\n",
            "    \"f0_wr_simp_lm_byte_00\": [\n",
            "        76,\n",
            "        148\n",
            "    ],\n",
            "    \"f0_wrdqdbi_odly_dqs_final_byte0\": 72,\n",
            "    \"f0_rd_comp_fall_ctp_nib_12\": [\n",
            "        83,\n",
            "        162\n",
            "    ],\n",
            "    \"f1_dqsgate_max_read_lat\": 0,\n",
            "    \"f1_wrdqdbi_deskew_dq_odly_fcrse_bit60\": 0,\n",
            "    \"f1_rdprbs_pqtr_right_margin_nibble07\": 0,\n",
            "    \"f0_wrcmplx_odly_dq_final_bit01\": 64,\n",
            "    \"f0_wrdqdbi_odly_dbi_final_byte5\": 66,\n",
            "    \"iobmap_dqs_0\": 0,\n",
            "    \"0x13_F0_WRITE_DQ_DBI_CAL_COMPLEX\": \"Pass\",\n",
            "    \"f0_rdcmplx_nqtr_left_nibble10\": 20,\n",
            "    \"f0_wrdqdbi_odly_dq_final_bit04\": 54,\n",
            "    \"f0_wrdqdbi_deskew_dq_odly_bit10\": 131,\n",
            "    \"f0_wrdqdbi_stg6_dbi_odly_byte2\": 26,\n",
            "    \"f1_wrdqdbi_stg3_dq_odly_bit36\": 0,\n",
            "    \"f1_wrdqdbi_deskew_dq_odly_bit02\": 0,\n",
            "    \"f0_wrdqdbi_right_edge_dqs_byte6\": 134,\n",
            "    \"f0_rdcmplx_pqtr_left_nibble11\": 22,\n",
            "    \"f1_rdcmplx_pqtr_right_short_nibble00\": 0,\n",
            "    \"f1_wrlvl_fine_right_rank0_byte4\": 0,\n",
            "    \"rdmargin_nqtr_right_nibble04\": 0,\n",
            "    \"f0_rd_comp_rise_rm_nib_02\": [\n",
            "        67,\n",
            "        129\n",
            "    ],\n",
            "    \"f1_wrdqdbi_stg3_dq_odly_bit61\": 0,\n",
            "    \"f0_wrdqdbi_stg3_dq_odly_bit28\": 71,\n",
            "    \"f1_rdprbs_nqtr_right_margin_nibble12\": 0,\n",
            "    \"f0_rdcmplx_nqtr_left_nibble09\": 25,\n",
            "    \"f1_wrdqdbi_stg2_dq_odly_bit00\": 0,\n",
            "    \"f0_rdcmplx_nqtr_final_nibble11\": 86,\n",
            "    \"f0_rdcmplx_pqtr_left_nibble14\": 22,\n",
            "    \"rdvref_left_vref_low_bound_nibble07\": 0,\n",
            "    \"f0_wrlvl_fine_right_rank0_byte6\": 49,\n",
            "    \"cal_stage.10_EN_VT_TRACK\": \"Pass\",\n",
            "    \"f0_wrcmplx_left_margin_fcrse_byte4\": 70,\n",
            "    \"rdvref_left_vref_final_nibble11\": 0,\n",
            "    \"f0_wrdqdbi_odly_dq_final_bit13\": 66,\n",
            "    \"f0_rd_simp_fall_ctp_nib_13\": [\n",
            "        99,\n",
            "        191\n",
            "    ],\n",
            "    \"f1_wrdqdbi_stg2_dq_odly_bit23\": 0,\n",
            "    \"nsu1_perf_filter_en_0\": 0,\n",
            "    \"f0_wrdqdbi_deskew_dq_odly_bit41\": 130,\n",
            "    \"f1_rdcmplx_idelay_offset_nibble07\": 0,\n",
            "    \"f1_wrdqdbi_stg1_dqs_delay_byte6\": 0,\n",
            "    \"rdvref_right_vref_def_nibble02\": 0,\n",
            "    \"f1_wrlvl_fine_final_rank0_byte1\": 0,\n",
            "    \"f1_wrdqdbi_left_edge_dq_bit29\": 0,\n",
            "    \"cal_warning_41\": 0,\n",
            "    \"f1_wrdqdbi_deskew_dq_odly_bit18\": 0,\n",
            "    \"f1_wrdqdbi_stg3_dq_odly_bit13\": 0,\n",
            "    \"f1_wrdqdbi_odly_dq_final_bit57\": 0,\n",
            "    \"nsu1_perf_filter_en_1\": 0,\n",
            "    \"cal_stage_time_52\": 0,\n",
            "    \"ddrmc_isr_nsu_1\": 0,\n",
            "    \"f1_wrdqdbi_left_edge_dq_bit52\": 0,\n",
            "    \"f0_wrdqdbi_deskew_dq_odly_fcrse_bit62\": 164,\n",
            "    \"f1_rdcmplx_nqtr_left_nibble00\": 0,\n",
            "    \"ddrmc_isr\": 0,\n",
            "    \"bisc_nqtr_align_nibble00\": 0,\n",
            "    \"f0_rddq_nqtr_left_nibble15\": 21,\n",
            "    \"f0_wrdqdbi_odly_dq_final_bit36\": 109,\n",
            "    \"f0_rdcmplx_idelay_offset_nibble14\": 0,\n",
            "    \"bisc_idly0_align_nibble15\": 74,\n",
            "    \"traf_power_down_en\": 0,\n",
            "    \"f0_rdprbs_pqtr_right_margin_nibble06\": 0,\n",
            "    \"f0_rd_comp_rise_lm_nib_09\": [\n",
            "        65,\n",
            "        128\n",
            "    ],\n",
            "    \"f0_rddq_idelay_final_bit47\": 69,\n",
            "    \"f1_wrdqdbi_deskew_dq_odly_fcrse_bit19\": 0,\n",
            "    \"f1_rdcmplx_pqtr_left_nibble03\": 0,\n",
            "    \"f1_rddq_nqtr_right_nibble14\": 0,\n",
            "    \"f0_mr1_rtt_nom\": 219,\n",
            "    \"f0_wrdqdbi_stg1_dqs_delay_byte2\": 42,\n",
            "    \"f1_rdprbs_pqtr_right_margin_nibble05\": 0,\n",
            "    \"nsu1_perf_filter_0_0\": 0,\n",
            "    \"wrvref_vref_low_bound_rank0_byte5\": 0,\n",
            "    \"f0_mr5_17_9\": 2,\n",
            "    \"f0_rddq_nqtr_right_fcrse_nibble09\": 167,\n",
            "    \"f0_wrdqdbi_stg3_dq_odly_bit47\": 55,\n",
            "    \"f0_rd_comp_rise_ctp_nib_11\": [\n",
            "        92,\n",
            "        187\n",
            "    ],\n",
            "    \"f0_rd_comp_rise_rm_nib_09\": [\n",
            "        65,\n",
            "        128\n",
            "    ],\n",
            "    \"cal_warning_56\": 0,\n",
            "    \"cal_error_bit_phy_nibble_03\": 0,\n",
            "    \"f0_rdcmplx_idelay_offset_nibble11\": 0,\n",
            "    \"f1_rddq_pqtr_final_nibble02\": 0,\n",
            "    \"f1_wrcmplx_right_margin_byte7\": 0,\n",
            "    \"nsu0_perf_mon_ctl_1_0\": 0,\n",
            "    \"f0_rdcmplx_pqtr_right_short_nibble08\": 173,\n",
            "    \"cal_warning_40\": 0,\n",
            "    \"f0_rdcmplx_nqtr_final_nibble04\": 89,\n",
            "    \"f0_wrdqdbi_stg2_dq_odly_bit58\": 74,\n",
            "    \"f0_rdprbs_pqtr_left_margin_nibble08\": 0,\n",
            "    \"f0_rddq_pqtr_left_nibble08\": 18,\n",
            "    \"f0_rd_comp_rise_ctp_nib_06\": [\n",
            "        89,\n",
            "        176\n",
            "    ],\n",
            "    \"cal_error_bit_phy_nibble_09\": 0,\n",
            "    \"f0_wrcmplx_odly_dq_final_bit02\": 62,\n",
            "    \"f1_wrcmplx_odly_dq_final_bit12\": 0,\n",
            "    \"f0_dqsgate_stg2_rldlyrnk_crse_rank0_byte7\": 1,\n",
            "    \"f1_rddq_idelay_final_bit19\": 0,\n",
            "    \"cal_seq_status_00\": 384,\n",
            "    \"f0_rd_simp_fall_ctp_nib_10\": [\n",
            "        94,\n",
            "        186\n",
            "    ],\n",
            "    \"f1_rddq_nqtr_right_nibble03\": 0,\n",
            "    \"f1_rdcmplx_nqtr_right_nibble04\": 0,\n",
            "    \"f0_rd_simp_rise_rm_nib_01\": [\n",
            "        74,\n",
            "        144\n",
            "    ],\n",
            "    \"bisc_idly1_align_nibble06\": 70,\n",
            "    \"f1_wrdqdbi_left_edge_dbi_byte2\": 0,\n",
            "    \"mem_type\": 1,\n",
            "    \"f0_wrdqdbi_deskew_dq_odly_fcrse_bit42\": 135,\n",
            "    \"f1_wrdqdbi_left_edge_dq_bit21\": 0,\n",
            "    \"f0_wrlvl_fine_left_rank0_byte4\": 93,\n",
            "    \"f0_wrdqdbi_stg2_dq_odly_bit31\": 71,\n",
            "    \"f1_wrdqdbi_stg3_dq_odly_bit04\": 0,\n",
            "    \"f1_wrdqdbi_stg1_dqs_delay_byte5\": 0,\n",
            "    \"rdvref_left_vref_low_bound_nibble09\": 0,\n",
            "    \"f0_wrlvl_fine_final_rank0_byte1\": 62,\n",
            "    \"f0_wrdqdbi_stg2_dq_odly_bit19\": 26,\n",
            "    \"iobmap_dq_23_22\": 0,\n",
            "    \"f0_rddq_pqtr_right_fcrse_nibble00\": 173,\n",
            "    \"f0_rddq_nqtr_left_nibble02\": 25,\n",
            "    \"f0_calbisc_rl_dly_pqtr_nibble06\": 79,\n",
            "    \"f1_wrdqdbi_odly_dq_final_bit15\": 0,\n",
            "    \"f0_dqsgate_stg1_overflow_48\": 0,\n",
            "    \"f1_wrdqdbi_stg1_byte_status_00\": 0,\n",
            "    \"f0_rdcmplx_nqtr_right_short_fcrse_nibble09\": 170,\n",
            "    \"f1_wrdqdbi_odly_dq_final_bit52\": 0,\n",
            "    \"dqstrack_rldlyrnk_fine_max_byte0\": 76,\n",
            "    \"f0_rddq_nqtr_right_fcrse_nibble10\": 174,\n",
            "    \"f0_wrcmplx_right_margin_byte3\": 66,\n",
            "    \"vttrack_rldlyqtr_min_nibble03\": 77,\n",
            "    \"f0_rddq_pqtr_right_fcrse_nibble08\": 173,\n",
            "    \"f0_calbisc_rl_dly_pqtr_nibble02\": 81,\n",
            "    \"bisc_nqtr_nibble03\": 80,\n",
            "    \"f0_wrdqdbi_right_margin_fcrse_byte2\": 60,\n",
            "    \"f0_wrdqdbi_right_edge_dqs_byte7\": 154,\n",
            "    \"f0_wrcmplx_right_margin_byte7\": 67,\n",
            "    \"f1_rdcmplx_nqtr_final_nibble13\": 0,\n",
            "    \"bisc_pqtr_align_nibble09\": 0,\n",
            "    \"vttrack_rldlyqtr_nibble00\": 77,\n",
            "    \"f0_wrdqdbi_left_margin_byte5\": 85,\n",
            "    \"f0_wrdqdbi_odly_dq_final_bit51\": 41,\n",
            "    \"f1_dqsgate_stg1_overflow_19\": 0,\n",
            "    \"f1_dqsgate_stg1_overflow_48\": 0,\n",
            "    \"cal_seq_status_01\": 385,\n",
            "    \"bisc_pqtr_nibble10\": 80,\n",
            "    \"f0_wrcmplx_odly_dq_final_bit36\": 111,\n",
            "    \"f1_wrdqdbi_odly_dq_final_bit16\": 0,\n",
            "    \"f0_tck_lsb\": 113,\n",
            "    \"f1_rdcmplx_nqtr_right_short_fcrse_nibble02\": 0,\n",
            "    \"f0_wr_simp_lm_byte_03\": [\n",
            "        71,\n",
            "        139\n",
            "    ],\n",
            "    \"f0_rddq_pqtr_right_nibble02\": 169,\n",
            "    \"f0_rdcmplx_nqtr_right_short_nibble05\": 174,\n",
            "    \"f0_wrprbs_left_margin_byte2\": 0,\n",
            "    \"wrvref_left_vref_def_rank0_byte6\": 0,\n",
            "    \"f0_rd_comp_fall_lm_nib_00\": [\n",
            "        64,\n",
            "        121\n",
            "    ],\n",
            "    \"f0_wrdqdbi_deskew_dq_odly_bit14\": 138,\n",
            "    \"nsu0_perf_mon_0_2\": 0,\n",
            "    \"vttrack_rldlyqtr_min_nibble02\": 78,\n",
            "    \"rdvref_right_vref_low_bound_nibble12\": 0,\n",
            "    \"0x0b_F0_READ_DQ_CAL\": \"Pass\",\n",
            "    \"f0_wrdqdbi_deskew_dq_odly_fcrse_bit27\": 151,\n",
            "    \"f1_rddq_pqtr_final_nibble14\": 0,\n",
            "    \"f1_dqsgate_stg1_overflow_16\": 0,\n",
            "    \"f1_wrdqdbi_deskew_dq_odly_bit27\": 0,\n",
            "    \"f1_dqsgate_stg1_overflow_11\": 0,\n",
            "    \"f0_wrdqdbi_left_edge_dq_bit22\": 32,\n",
            "    \"iobmap_dq_55_54\": 0,\n",
            "    \"bisc_nqtr_nibble05\": 80,\n",
            "    \"f0_rdcmplx_nqtr_left_short_nibble02\": 27,\n",
            "    \"f1_wrdqdbi_stg3_dq_odly_bit60\": 0,\n",
            "    \"bisc_pqtr_align_nibble06\": 0,\n",
            "    \"f1_wrlvl_noise_fcrse_rank0_byte2\": 0,\n",
            "    \"f1_wrdqdbi_left_edge_dq_bit28\": 0,\n",
            "    \"f1_wrdqdbi_deskew_dq_odly_bit38\": 0,\n",
            "    \"cal_error_bit_phy_nibble_07\": 0,\n",
            "    \"wrvref_right_vref_final_rank0_byte1\": 0,\n",
            "    \"f1_wrdqdbi_odly_dq_final_bit14\": 0,\n",
            "    \"f0_wrdqdbi_odly_dqs_final_byte2\": 42,\n",
            "    \"f0_rddq_pqtr_final_nibble08\": 95,\n",
            "    \"f1_dqsgate_stg2_rldlyrnk_crse_rank0_byte7\": 0,\n",
            "    \"f0_wrdqdbi_deskew_dq_odly_fcrse_bit03\": 126,\n",
            "    \"f1_dqsgate_stg1_rldlyrnk_fine_rank0_byte3\": 0,\n",
            "    \"f1_dqsgate_stg1_rldlyrnk_crse_rank0_byte4\": 0,\n",
            "    \"f1_wrdqdbi_deskew_dq_odly_bit19\": 0,\n",
            "    \"f0_wrdqdbi_deskew_dq_odly_bit02\": 130,\n",
            "    \"f1_rdcmplx_pqtr_final_nibble02\": 0,\n",
            "    \"f0_wrdqdbi_odly_dq_final_bit10\": 58,\n",
            "    \"f1_wrdqdbi_deskew_dq_odly_fcrse_bit14\": 0,\n",
            "    \"f0_wrcmplx_odly_dbi_final_byte3\": 73,\n",
            "    \"dc1_perf_mon_3\": 0,\n",
            "    \"f1_calbisc_rl_dly_pqtr_nibble07\": 0,\n",
            "    \"f0_rd_simp_rise_ctp_nib_15\": [\n",
            "        94,\n",
            "        186\n",
            "    ],\n",
            "    \"f0_wrlvl_offset_rank0_byte5\": 80,\n",
            "    \"f0_calbisc_rl_dly_qtr_nibble10\": 79,\n",
            "    \"f1_wrdqdbi_deskew_dq_odly_bit12\": 0,\n",
            "    \"rdvref_left_vref_def_nibble04\": 0,\n",
            "    \"f0_wrlat_wldlyrnk_crse_final_rank0_byte3\": 0,\n",
            "    \"f1_dqsgate_stg1_overflow_13\": 0,\n",
            "    \"wrvref_right_vref_low_bound_rank0_byte2\": 0,\n",
            "    \"rdvref_vref_final_nibble06\": 0,\n",
            "    \"rdvref_vref_upp_bound_nibble01\": 0,\n",
            "    \"f0_rd_comp_rise_rm_nib_01\": [\n",
            "        69,\n",
            "        134\n",
            "    ],\n",
            "    \"f1_wrdqdbi_left_margin_byte3\": 0,\n",
            "    \"cal_seq_status_46\": 0,\n",
            "    \"f0_wrlat_wldlyrnk_crse_final_rank0_byte1\": 3,\n",
            "    \"f1_dqsgate_stg1_overflow_26\": 0,\n",
            "    \"wrvref_left_vref_final_rank0_byte7\": 0,\n",
            "    \"f0_wrdqdbi_odly_dq_final_bit37\": 93,\n",
            "    \"f1_calbisc_rl_dly_qtr_nibble02\": 0,\n",
            "    \"dc0_perf_mon_6\": 0,\n",
            "    \"bisc_pqtr_align_nibble07\": 0,\n",
            "    \"f1_dqsgate_stg1_rldlyrnk_fine_rank0_byte0\": 0,\n",
            "    \"f0_wrdqdbi_stg3_dq_odly_bit18\": 26,\n",
            "    \"f1_rdcmplx_nqtr_right_short_nibble06\": 0,\n",
            "    \"bisc_pqtr_align_nibble11\": 0,\n",
            "    \"f0_rd_comp_fall_ctp_nib_03\": [\n",
            "        89,\n",
            "        174\n",
            "    ],\n",
            "    \"f0_rddq_pqtr_right_fcrse_nibble07\": 183,\n",
            "    \"dqstrack_rldlyrnk_fine_min_byte7\": 37,\n",
            "    \"f1_wrlvl_noise_fcrse_rank0_byte4\": 0,\n",
            "    \"f1_rdcmplx_pqtr_right_nibble11\": 0,\n",
            "    \"f0_rddq_pqtr_right_nibble09\": 172,\n",
            "    \"wrvref_vref_final_rank0_byte2\": 0,\n",
            "    \"f1_wrdqdbi_deskew_dq_odly_bit09\": 0,\n",
            "    \"f1_wrdqdbi_right_edge_dqs_byte6\": 0,\n",
            "    \"f0_rddq_nqtr_right_nibble03\": 176,\n",
            "    \"f1_rdcmplx_nqtr_right_nibble01\": 0,\n",
            "    \"f1_wrcmplx_odly_dq_final_bit60\": 0,\n",
            "    \"cal_stage_time_25\": 0,\n",
            "    \"f0_rddq_nqtr_right_nibble15\": 170,\n",
            "    \"f0_wrlat_phy_data_nib_final_byte1\": 0,\n",
            "    \"rdvref_left_vref_final_nibble07\": 0,\n",
            "    \"f1_wrdqdbi_odly_dq_final_bit06\": 0,\n",
            "    \"f1_wrlat_wldlyrnk_crse_final_rank0_byte6\": 0,\n",
            "    \"vttrack_rldlyqtr_min_nibble01\": 78,\n",
            "    \"f1_rddq_idelay_final_bit28\": 0,\n",
            "    \"vttrack_rldlyqtr_nibble03\": 78,\n",
            "    \"f0_dqsgate_stg1_overflow_04\": 128,\n",
            "    \"f0_wrdqdbi_deskew_dq_odly_bit34\": 169,\n",
            "    \"bisc_idly5_align_nibble08\": 73,\n",
            "    \"rdmargin_pqtr_right_nibble01\": 0,\n",
            "    \"f0_wrcmplx_odly_dq_final_bit40\": 76,\n",
            "    \"rdmargin_nqtr_right_nibble10\": 0,\n",
            "    \"cal_warning_53\": 0,\n",
            "    \"f1_wrdqdbi_odly_dq_final_bit42\": 0,\n",
            "    \"f1_wrcmplx_left_margin_byte7\": 0,\n",
            "    \"f1_rddq_idelay_final_bit63\": 0,\n",
            "    \"f1_rdprbs_nqtr_right_margin_nibble15\": 0,\n",
            "    \"f0_rddq_idelay_final_bit35\": 65,\n",
            "    \"f0_wrdqdbi_deskew_dq_odly_fcrse_bit57\": 154,\n",
            "    \"f1_calbisc_rl_dly_nqtr_nibble12\": 0,\n",
            "    \"f1_wrcmplx_odly_dq_final_bit32\": 0,\n",
            "    \"f1_dqsgate_stg1_overflow_36\": 0,\n",
            "    \"phy_oe_nib19_dly\": 0,\n",
            "    \"bisc_idly4_align_nibble06\": 71,\n",
            "    \"f0_wrdqdbi_odly_dq_final_bit18\": 31,\n",
            "    \"f1_rddq_idelay_final_bit04\": 0,\n",
            "    \"f1_rdcmplx_pqtr_right_short_fcrse_nibble09\": 0,\n",
            "    \"f1_dqsgate_stg1_rldlyrnk_fine_rank0_byte4\": 0,\n",
            "    \"f1_rdcmplx_pqtr_left_nibble06\": 0,\n",
            "    \"f1_dqsgate_stg1_overflow_00\": 0,\n",
            "    \"f0_rdcmplx_pqtr_right_nibble06\": 157,\n",
            "    \"f1_wrdqdbi_right_margin_byte7\": 0,\n",
            "    \"f0_rddq_pqtr_right_nibble13\": 179,\n",
            "    \"f1_rdcmplx_nqtr_right_short_nibble05\": 0,\n",
            "    \"f1_rdcmplx_nqtr_right_nibble08\": 0,\n",
            "    \"f0_dqsgate_stg1_read_lat_rank0_byte3\": 24,\n",
            "    \"f0_rd_simp_fall_ctp_nib_07\": [\n",
            "        96,\n",
            "        190\n",
            "    ],\n",
            "    \"f1_dqsgate_rldlyrnk_crse_final_rank0_byte0\": 0,\n",
            "    \"f0_rddq_pqtr_right_nibble05\": 174,\n",
            "    \"f0_rdcmplx_nqtr_left_nibble01\": 29,\n",
            "    \"f0_wrdqdbi_right_edge_dqs_byte3\": 161,\n",
            "    \"f1_wrlat_wldlyrnk_crse_final_rank0_byte2\": 0,\n",
            "    \"f1_calbisc_rl_dly_nqtr_nibble07\": 0,\n",
            "    \"wrvref_left_vref_final_rank0_byte3\": 0,\n",
            "    \"f1_wrdqdbi_stg2_dq_odly_bit01\": 0,\n",
            "    \"bisc_pqtr_nibble03\": 80,\n",
            "    \"rdvref_left_vref_low_bound_nibble01\": 0,\n",
            "    \"f0_wrlvl_offset_rank0_byte1\": 80,\n",
            "    \"f1_wrlat_phy_oe_nib_final_byte5\": 0,\n",
            "    \"f0_rd_simp_rise_ctp_nib_08\": [\n",
            "        95,\n",
            "        186\n",
            "    ],\n",
            "    \"f1_rddq_nqtr_right_nibble01\": 0,\n",
            "    \"f0_mr1_17_9\": 1,\n",
            "    \"f1_wrdqdbi_deskew_dbi_odly_fcrse_byte0\": 0,\n",
            "    \"dqstrack_rldlyrnk_fine_min_byte5\": 35,\n",
            "    \"f1_wrdqdbi_deskew_dbi_odly_byte4\": 0,\n",
            "    \"f1_wrdqdbi_left_edge_dq_bit24\": 0,\n",
            "    \"f0_wrdqdbi_stg3_dq_odly_bit15\": 62,\n",
            "    \"f0_rdcmplx_nqtr_right_short_fcrse_nibble12\": 168,\n",
            "    \"rdvref_right_vref_final_nibble05\": 0,\n",
            "    \"f0_calbisc_rl_dly_nqtr_nibble09\": 79,\n",
            "    \"f0_wrdqdbi_stg2_dq_odly_bit63\": 74,\n",
            "    \"f0_rddq_pqtr_left_nibble03\": 18,\n",
            "    \"f0_rddq_idelay_final_bit39\": 69,\n",
            "    \"f1_rdcmplx_idelay_offset_nibble05\": 0,\n",
            "    \"f0_rdprbs_pqtr_right_margin_nibble02\": 0,\n",
            "    \"vttrack_rldlyqtr_max_nibble02\": 83,\n",
            "    \"rdvref_vref_low_bound_nibble14\": 0,\n",
            "    \"f0_wrdqdbi_odly_dq_final_bit27\": 85,\n",
            "    \"nsu2_perf_filter_en_1\": 0,\n",
            "    \"f1_rddq_nqtr_right_fcrse_nibble01\": 0,\n",
            "    \"f1_wrdqdbi_stg2_dq_odly_bit33\": 0,\n",
            "    \"f0_wrdqdbi_stg5_dqs_odly_byte5\": 71,\n",
            "    \"f0_rdcmplx_nqtr_right_nibble11\": 149,\n",
            "    \"rdmargin_pqtr_right_nibble03\": 0,\n",
            "    \"f1_calbisc_rl_dly_pqtr_nibble03\": 0,\n",
            "    \"rdvref_left_vref_low_bound_nibble00\": 0,\n",
            "    \"bisc_idly2_align_nibble02\": 67,\n",
            "    \"ddrmc_isr_dc_cmd0_fatal\": 0,\n",
            "    \"wrvref_left_vref_final_rank0_byte1\": 0,\n",
            "    \"f1_rdprbs_nqtr_left_margin_nibble14\": 0,\n",
            "    \"rdvref_right_vref_def_nibble10\": 0,\n",
            "    \"f0_wrdqdbi_left_edge_dq_bit30\": 83,\n",
            "    \"f1_wrcmplx_odly_dq_final_bit00\": 0,\n",
            "    \"f1_rdprbs_pqtr_right_margin_nibble06\": 0,\n",
            "    \"f0_wrdqdbi_deskew_dq_odly_bit04\": 129,\n",
            "    \"f1_rddq_pqtr_right_nibble14\": 0,\n",
            "    \"f0_calbisc_rl_dly_qtr_nibble14\": 79,\n",
            "    \"f0_wrdqdbi_stg2_dq_odly_bit17\": 26,\n",
            "    \"f1_wrdqdbi_stg2_dq_odly_bit44\": 0,\n",
            "    \"f1_wrdqdbi_deskew_dq_odly_bit04\": 0,\n",
            "    \"f0_wrdqdbi_stg3_dq_odly_bit08\": 62,\n",
            "    \"f0_rdprbs_nqtr_right_margin_nibble04\": 0,\n",
            "    \"f1_rddq_nqtr_final_nibble05\": 0,\n",
            "    \"nsu0_perf_filter_0_0\": 0,\n",
            "    \"f0_wrdqdbi_deskew_dq_odly_fcrse_bit04\": 126,\n",
            "    \"f0_rd_simp_fall_lm_nib_13\": [\n",
            "        73,\n",
            "        140\n",
            "    ],\n",
            "    \"f1_wrprbs_right_margin_byte2\": 0,\n",
            "    \"wrvref_vref_low_bound_rank0_byte4\": 0,\n",
            "    \"0x3d_READ_DQS_TRACK\": \"Pass\",\n",
            "    \"f0_wr_simp_ctp_byte_06\": [\n",
            "        302,\n",
            "        593\n",
            "    ],\n",
            "    \"f0_wrdqdbi_odly_dbi_final_byte3\": 71,\n",
            "    \"f1_rdcmplx_nqtr_left_nibble08\": 0,\n",
            "    \"dqstrack_rldlyrnk_crse_byte3\": 2,\n",
            "    \"f0_rd_simp_fall_rm_nib_14\": [\n",
            "        75,\n",
            "        150\n",
            "    ],\n",
            "    \"f1_wrdqdbi_left_edge_dq_bit53\": 0,\n",
            "    \"f1_wrdqdbi_stg4_dqs_delay_byte0\": 0,\n",
            "    \"cal_warning_67\": 0,\n",
            "    \"nsu3_perf_filter_en_0\": 0,\n",
            "    \"bisc_idly1_align_nibble09\": 75,\n",
            "    \"f0_rddq_nqtr_left_nibble00\": 26,\n",
            "    \"f0_rdcmplx_pqtr_right_short_fcrse_nibble14\": 177,\n",
            "    \"f1_wrdqdbi_deskew_dq_odly_bit34\": 0,\n",
            "    \"f1_wrdqdbi_left_edge_dq_bit31\": 0,\n",
            "    \"f1_wrdqdbi_right_margin_byte4\": 0,\n",
            "    \"iobmap_dq_45_44\": 0,\n",
            "    \"f0_wrdqdbi_left_edge_dq_bit03\": 55,\n",
            "    \"f1_wrdqdbi_right_margin_byte2\": 0,\n",
            "    \"phy_ranks\": 1,\n",
            "    \"f1_rddq_nqtr_final_nibble00\": 0,\n",
            "    \"f1_wrlat_match_rank0_byte1\": 0,\n",
            "    \"dqstrack_rldlyrnk_crse_max_byte0\": 3,\n",
            "    \"f1_rddq_pqtr_left_nibble10\": 0,\n",
            "    \"f0_rddq_nqtr_right_nibble04\": 177,\n",
            "    \"f0_wrdqdbi_stg2_dq_odly_bit51\": 47,\n",
            "    \"f1_wrcmplx_left_margin_fcrse_byte6\": 0,\n",
            "    \"f0_rdcmplx_nqtr_right_short_nibble11\": 167,\n",
            "    \"f1_dqsgate_stg1_overflow_57\": 0,\n",
            "    \"f0_wr_comp_rm_byte_03\": [\n",
            "        66,\n",
            "        129\n",
            "    ],\n",
            "    \"f0_rd_comp_fall_rm_nib_11\": [\n",
            "        63,\n",
            "        127\n",
            "    ],\n",
            "    \"f0_rdcmplx_nqtr_right_short_nibble01\": 172,\n",
            "    \"nsu0_perf_filter_0_1\": 0,\n",
            "    \"rdmargin_pqtr_right_nibble08\": 0,\n",
            "    \"f0_dqsgate_stg1_rldlyrnk_crse_rank0_byte1\": 8,\n",
            "    \"nsu0_perf_mon_1_1\": 0,\n",
            "    \"mgchk_start\": 0,\n",
            "    \"f0_wrdqdbi_stg1_byte_status_01\": 511,\n",
            "    \"f0_wrdqdbi_deskew_dq_odly_bit15\": 139,\n",
            "    \"f0_wrdqdbi_right_margin_byte7\": 64,\n",
            "    \"f0_dqsgate_read_lat_final_byte6\": 27,\n",
            "    \"f0_wrdqdbi_odly_dqs_final_byte3\": 89,\n",
            "    \"f0_rdcmplx_pqtr_right_short_nibble04\": 173,\n",
            "    \"f0_rdcmplx_nqtr_right_short_nibble15\": 163,\n",
            "    \"f1_wrdqdbi_stg3_dq_odly_bit48\": 0,\n",
            "    \"f1_wrdqdbi_odly_dq_final_bit11\": 0,\n",
            "    \"cal_warning_32\": 0,\n",
            "    \"f1_rdcmplx_pqtr_right_short_fcrse_nibble00\": 0,\n",
            "    \"f1_rddq_pqtr_right_fcrse_nibble05\": 0,\n",
            "    \"f0_dqsgate_rldlyrnk_crse_final_rank0_byte5\": 2,\n",
            "    \"cal_stage.04_F0_WRITE_LEVELING\": \"Pass\",\n",
            "    \"f0_wrdqdbi_left_edge_dbi_byte1\": 62,\n",
            "    \"f0_rdcmplx_nqtr_right_nibble15\": 147,\n",
            "    \"f0_rddq_idelay_final_bit55\": 81,\n",
            "    \"f0_wrdqdbi_deskew_dq_odly_fcrse_bit24\": 141,\n",
            "    \"f1_dqsgate_stg1_read_lat_rank0_byte2\": 0,\n",
            "    \"f1_rdprbs_pqtr_left_margin_nibble06\": 0,\n",
            "    \"f0_rd_comp_fall_rm_nib_02\": [\n",
            "        62,\n",
            "        122\n",
            "    ],\n",
            "    \"wrvref_vref_low_bound_rank0_byte3\": 0,\n",
            "    \"f0_rdcmplx_pqtr_left_nibble10\": 22,\n",
            "    \"f1_calbisc_rl_dly_nqtr_nibble05\": 0,\n",
            "    \"f1_wrlvl_crse_stg1_rank0_byte2\": 0,\n",
            "    \"f1_calbisc_rl_dly_qtr_nibble15\": 0,\n",
            "    \"f1_rdprbs_pqtr_right_margin_nibble12\": 0,\n",
            "    \"f0_wrdqdbi_stg3_dq_odly_bit14\": 62,\n",
            "    \"f1_wrdqdbi_stg2_dqs_odly_byte5\": 0,\n",
            "    \"f1_wrdqdbi_deskew_dq_odly_fcrse_bit07\": 0,\n",
            "    \"f1_rdprbs_nqtr_left_margin_nibble01\": 0,\n",
            "    \"f0_wrdqdbi_stg2_dq_odly_bit23\": 26,\n",
            "    \"f0_rdcmplx_pqtr_left_short_nibble10\": 21,\n",
            "    \"rdvref_vref_final_nibble05\": 0,\n",
            "    \"f1_dqsgate_stg1_overflow_62\": 0,\n",
            "    \"cal_status_map_ver\": 1,\n",
            "    \"dc1_perf_mon\": 62,\n",
            "    \"f1_rdprbs_nqtr_left_margin_nibble07\": 0,\n",
            "    \"f1_wrcmplx_left_margin_fcrse_byte7\": 0,\n",
            "    \"rdmargin_pqtr_right_nibble07\": 0,\n",
            "    \"f0_rddq_idelay_final_bit32\": 67,\n",
            "    \"f1_dqsgate_stg2_read_lat_rank0_byte0\": 0,\n",
            "    \"cal_warning_15\": 0,\n",
            "    \"phy_rden11_dly\": 22,\n",
            "    \"f0_rdprbs_nqtr_right_margin_nibble11\": 0,\n",
            "    \"cal_stage_time_30\": 0,\n",
            "    \"f0_calbisc_rl_dly_qtr_nibble04\": 79,\n",
            "    \"f0_wrcmplx_odly_dq_final_bit19\": 34,\n",
            "    \"f0_wrdqdbi_left_edge_dq_bit51\": 39,\n",
            "    \"f0_rdcmplx_pqtr_right_nibble02\": 156,\n",
            "    \"bisc_idly4_align_nibble01\": 82,\n",
            "    \"f0_wr_comp_rm_byte_00\": [\n",
            "        61,\n",
            "        119\n",
            "    ],\n",
            "    \"f0_rd_comp_fall_lm_nib_15\": [\n",
            "        61,\n",
            "        122\n",
            "    ],\n",
            "    \"f0_wrdqdbi_stg2_dqs_odly_byte4\": 112,\n",
            "    \"f1_wrcmplx_left_margin_byte3\": 0,\n",
            "    \"f0_rddq_pqtr_right_fcrse_nibble11\": 173,\n",
            "    \"bisc_idly0_align_nibble05\": 0,\n",
            "    \"f0_wrdqdbi_deskew_dq_odly_bit17\": 93,\n",
            "    \"f0_calbisc_rl_dly_qtr_nibble06\": 80,\n",
            "    \"f0_rd_comp_rise_rm_nib_04\": [\n",
            "        66,\n",
            "        130\n",
            "    ],\n",
            "    \"ddrmc_isr_dram_parity_fatal_0\": 0,\n",
            "    \"f0_wrdqdbi_stg3_dq_odly_bit58\": 74,\n",
            "    \"f0_calbisc_rl_dly_qtr_nibble05\": 80,\n",
            "    \"f0_wrdqdbi_deskew_dq_odly_fcrse_bit21\": 106,\n",
            "    \"f1_calbisc_rl_dly_qtr_nibble11\": 0,\n",
            "    \"f1_wrdqdbi_stg1_bit_status_byte5\": 0,\n",
            "    \"f0_rddq_pqtr_final_nibble00\": 92,\n",
            "    \"f0_rddq_pqtr_final_nibble01\": 92,\n",
            "    \"f1_wrdqdbi_stg3_dq_odly_bit02\": 0,\n",
            "    \"f1_rdcmplx_pqtr_right_short_fcrse_nibble01\": 0,\n",
            "    \"cal_warning_38\": 0,\n",
            "    \"rdmargin_pqtr_left_nibble00\": 0,\n",
            "    \"f1_rdcmplx_pqtr_right_nibble05\": 0,\n",
            "    \"dc0_perf_mon_2\": 0,\n",
            "    \"f1_wrdqdbi_left_edge_dq_bit51\": 0,\n",
            "    \"f0_wrdqdbi_odly_dq_final_bit35\": 93,\n",
            "    \"f0_rdprbs_pqtr_right_margin_nibble04\": 0,\n",
            "    \"per_rd_en\": 257,\n",
            "    \"f1_rdcmplx_nqtr_right_short_fcrse_nibble09\": 0,\n",
            "    \"reg_safe_config3\": 16877592,\n",
            "    \"f0_rddq_idelay_final_bit40\": 71,\n",
            "    \"f1_wrdqdbi_stg6_dbi_odly_byte2\": 0,\n",
            "    \"f0_rdcmplx_nqtr_left_short_nibble06\": 26,\n",
            "    \"f0_wrdqdbi_deskew_dq_odly_bit53\": 130,\n",
            "    \"f1_rddq_idelay_final_bit31\": 0,\n",
            "    \"f1_wrdqdbi_right_edge_dqs_byte1\": 0,\n",
            "    \"cal_seq_status_47\": 0,\n",
            "    \"f1_wrdqdbi_odly_dq_final_bit19\": 0,\n",
            "    \"f1_rdcmplx_pqtr_left_nibble04\": 0,\n",
            "    \"f1_rdprbs_pqtr_left_margin_nibble09\": 0,\n",
            "    \"vttrack_rldlyqtr_max_nibble09\": 82,\n",
            "    \"f1_rdcmplx_nqtr_right_nibble15\": 0,\n",
            "    \"f0_wrdqdbi_left_edge_dq_bit15\": 57,\n",
            "    \"f1_wrdqdbi_left_edge_dq_bit48\": 0,\n",
            "    \"f0_dqsgate_stg2_rldlyrnk_crse_rank0_byte3\": 2,\n",
            "    \"f0_wrcmplx_odly_dbi_final_byte2\": 40,\n",
            "    \"phy_oe_nib23_dly\": 0,\n",
            "    \"f0_wrlat_min_latency\": 16,\n",
            "    \"f0_xpll_divclk_ht\": 1,\n",
            "    \"f0_rd_simp_fall_lm_nib_03\": [\n",
            "        75,\n",
            "        146\n",
            "    ],\n",
            "    \"cal_stage.03_F0_DQS_GATE_CAL\": \"Pass\",\n",
            "    \"f1_rdcmplx_pqtr_right_nibble15\": 0,\n",
            "    \"phy_oe_nib2_dly\": 1,\n",
            "    \"wrvref_vref_final_rank0_byte1\": 0,\n",
            "    \"f0_wrdqdbi_deskew_dq_odly_fcrse_bit25\": 141,\n",
            "    \"f0_wrlat_match_rank0_byte0\": 16,\n",
            "    \"f1_dqsgate_stg1_overflow_38\": 0,\n",
            "    \"f1_wrlvl_fine_right_rank0_byte2\": 0,\n",
            "    \"wrvref_left_vref_low_bound_rank0_byte6\": 0,\n",
            "    \"cal_error_bit_phy_nibble_05\": 0,\n",
            "    \"bisc_nqtr_align_nibble01\": 1,\n",
            "    \"phy_rden2_dly\": 27,\n",
            "    \"cal_warning_42\": 0,\n",
            "    \"rdmargin_pqtr_left_nibble01\": 0,\n",
            "    \"f1_rddq_pqtr_right_fcrse_nibble09\": 0,\n",
            "    \"f1_calbisc_rl_dly_nqtr_nibble08\": 0,\n",
            "    \"f1_wrdqdbi_stg3_dq_odly_bit37\": 0,\n",
            "    \"f1_wrdqdbi_stg2_dq_odly_bit11\": 0,\n",
            "    \"mc_index\": \"0\",\n",
            "    \"f0_dqsgate_stg1_overflow_11\": 0,\n",
            "    \"f0_wrdqdbi_deskew_dbi_odly_fcrse_byte3\": 141,\n",
            "    \"rdvref_left_vref_upp_bound_nibble02\": 0,\n",
            "    \"rdvref_left_vref_def_nibble00\": 0,\n",
            "    \"cal_warning_33\": 0,\n",
            "    \"rdvref_right_vref_upp_bound_nibble12\": 0,\n",
            "    \"f0_wrcmplx_odly_dqs_final_byte5\": 71,\n",
            "    \"f1_wrlvl_fine_left_rank0_byte3\": 0,\n",
            "    \"wrmargin_right_byte2\": 0,\n",
            "    \"rdvref_left_vref_upp_bound_nibble05\": 0,\n",
            "    \"f0_dqsgate_stg1_overflow_63\": 0,\n",
            "    \"f0_wrdqdbi_stg2_dq_odly_bit52\": 47,\n",
            "    \"f1_wrlvl_fine_right_rank0_byte0\": 0,\n",
            "    \"f1_rdcmplx_idelay_offset_nibble13\": 0,\n",
            "    \"f0_rd_simp_rise_ctp_nib_11\": [\n",
            "        95,\n",
            "        193\n",
            "    ],\n",
            "    \"f0_wrdqdbi_stg4_dqs_delay_byte2\": 14,\n",
            "    \"f0_rd_simp_rise_lm_nib_12\": [\n",
            "        76,\n",
            "        150\n",
            "    ],\n",
            "    \"cal_stage_time_18\": 0,\n",
            "    \"f0_rdcmplx_nqtr_right_short_nibble10\": 164,\n",
            "    \"f1_rdcmplx_pqtr_left_nibble11\": 0,\n",
            "    \"f1_lp4_mr12\": 0,\n",
            "    \"cal_warning_70\": 0,\n",
            "    \"f1_rddq_idelay_final_bit39\": 0,\n",
            "    \"f0_rddq_idelay_final_bit36\": 70,\n",
            "    \"f0_wrdqdbi_deskew_dq_odly_fcrse_bit33\": 156,\n",
            "    \"f1_dqsgate_stg2_read_lat_rank0_byte2\": 0,\n",
            "    \"f1_wrdqdbi_deskew_dq_odly_bit17\": 0,\n",
            "    \"f1_dqsgate_stg2_rldlyrnk_crse_rank0_byte3\": 0,\n",
            "    \"f1_rdcmplx_nqtr_right_nibble07\": 0,\n",
            "    \"f0_wrdqdbi_stg5_dqs_odly_byte4\": 112,\n",
            "    \"f0_wrdqdbi_stg2_dq_odly_bit10\": 62,\n",
            "    \"f0_dm_dbi_en\": 1,\n",
            "    \"iobmap_dqs_6\": 0,\n",
            "    \"f0_rdprbs_pqtr_right_margin_nibble13\": 0,\n",
            "    \"ub_data_ue\": 0,\n",
            "    \"f1_wrcmplx_left_margin_byte0\": 0,\n",
            "    \"f1_rdcmplx_pqtr_left_short_nibble03\": 0,\n",
            "    \"f1_rddq_nqtr_final_nibble13\": 0,\n",
            "    \"f0_wrdqdbi_stg2_dq_odly_bit13\": 62,\n",
            "    \"f0_wrlvl_fine_right_rank0_byte5\": 58,\n",
            "    \"f0_wrcmplx_left_margin_byte0\": 75,\n",
            "    \"f0_dqsgate_max_read_lat\": 28,\n",
            "    \"f0_dqsgate_stg1_overflow_05\": 0,\n",
            "    \"f1_wrdqdbi_stg2_dq_odly_bit05\": 0,\n",
            "    \"f1_wrdqdbi_stg3_dq_odly_bit07\": 0,\n",
            "    \"f0_wrcmplx_odly_dbi_final_byte5\": 68,\n",
            "    \"f0_wrdqdbi_stg6_dbi_odly_byte0\": 56,\n",
            "    \"f0_rd_simp_fall_ctp_nib_03\": [\n",
            "        100,\n",
            "        195\n",
            "    ],\n",
            "    \"nsu2_perf_filter_0_1\": 0,\n",
            "    \"f1_wrdqdbi_stg2_dqs_odly_byte7\": 0,\n",
            "    \"rdvref_vref_final_nibble03\": 0,\n",
            "    \"cal_warning_22\": 0,\n",
            "    \"f0_dqsgate_stg1_overflow_34\": 0,\n",
            "    \"es_vref_max\": 473,\n",
            "    \"cal_stage_time_03\": 0,\n",
            "    \"wrvref_right_vref_final_rank0_byte5\": 0,\n",
            "    \"f1_wrlat_phy_data_nib_final_byte4\": 0,\n",
            "    \"f0_calbisc_rl_dly_qtr_nibble00\": 80,\n",
            "    \"wrvref_vref_final_rank0_byte3\": 0,\n",
            "    \"f0_wrlvl_noise_fcrse_rank0_byte7\": 75,\n",
            "    \"f0_wrdqdbi_left_edge_dq_bit07\": 62,\n",
            "    \"f1_rdcmplx_idelay_offset_nibble00\": 0,\n",
            "    \"f1_wrdqdbi_left_edge_dq_bit03\": 0,\n",
            "    \"f1_wrcmplx_odly_dq_final_bit29\": 0,\n",
            "    \"f1_rddq_pqtr_right_nibble09\": 0,\n",
            "    \"f1_mr6_8_0\": 0,\n",
            "    \"ddrmc_ub_isr\": 0,\n",
            "    \"wrmargin_right_byte5\": 0,\n",
            "    \"rdmargin_pqtr_right_nibble10\": 0,\n",
            "    \"f0_rddq_pqtr_right_nibble06\": 172,\n",
            "    \"f0_mr6_17_9\": 8,\n",
            "    \"f1_wrdqdbi_deskew_dq_odly_bit29\": 0,\n",
            "    \"f0_rdcmplx_nqtr_left_short_nibble14\": 21,\n",
            "    \"f1_calbisc_rl_dly_nqtr_nibble14\": 0,\n",
            "    \"f1_rdcmplx_pqtr_right_short_nibble11\": 0,\n",
            "    \"f0_wrcmplx_odly_dq_final_bit05\": 73,\n",
            "    \"f0_rdprbs_pqtr_left_margin_nibble12\": 0,\n",
            "    \"dc0_perf_mon_1\": 0,\n",
            "    \"f0_mr5_rtt_park\": 0,\n",
            "    \"cal_stage_time_21\": 0,\n",
            "    \"f1_rdcmplx_nqtr_right_short_fcrse_nibble12\": 0,\n",
            "    \"max_dbi_pins\": 9,\n",
            "    \"phy_rden17_dly\": 22,\n",
            "    \"f1_rdcmplx_nqtr_final_nibble15\": 0,\n",
            "    \"f1_rdcmplx_pqtr_right_nibble14\": 0,\n",
            "    \"f1_calbisc_rl_dly_pqtr_nibble06\": 0,\n",
            "    \"vttrack_rldlyqtr_min_nibble05\": 76,\n",
            "    \"f1_wrdqdbi_left_edge_dq_bit37\": 0,\n",
            "    \"f1_rdcmplx_idelay_offset_nibble11\": 0,\n",
            "    \"f0_mr0_17_9\": 6,\n",
            "    \"f1_rdcmplx_pqtr_final_nibble10\": 0,\n",
            "    \"f1_rdprbs_nqtr_left_margin_nibble11\": 0,\n",
            "    \"f0_lp4_mr23\": 0,\n",
            "    \"f0_wrdqdbi_left_edge_dq_bit62\": 87,\n",
            "    \"f1_wrlat_phy_data_nib_final_byte1\": 0,\n",
            "    \"f1_rdcmplx_nqtr_final_nibble06\": 0,\n",
            "    \"f0_wrdqdbi_left_edge_dq_bit36\": 109,\n",
            "    \"f1_dqsgate_stg1_overflow_14\": 0,\n",
            "    \"f1_rddq_idelay_final_bit22\": 0,\n",
            "    \"bisc_mon_align_nibble09\": 0,\n",
            "    \"f1_dqsgate_stg1_rldlyrnk_crse_rank0_byte1\": 0,\n",
            "    \"f0_wrdqdbi_odly_dq_final_bit54\": 56,\n",
            "    \"f1_rdprbs_pqtr_left_margin_nibble01\": 0,\n",
            "    \"f1_wrdqdbi_stg3_dq_odly_bit25\": 0,\n",
            "    \"0x0d_F0_WRITE_DQ_DBI_CAL\": \"Pass\",\n",
            "    \"f0_rdcmplx_nqtr_final_nibble03\": 89,\n",
            "    \"f1_rdcmplx_nqtr_right_short_nibble15\": 0,\n",
            "    \"f1_rdcmplx_pqtr_left_short_nibble05\": 0,\n",
            "    \"f0_rddq_idelay_final_bit44\": 82,\n",
            "    \"f0_wrdqdbi_deskew_dq_odly_bit48\": 130,\n",
            "    \"f1_rdcmplx_nqtr_left_nibble04\": 0,\n",
            "    \"f1_rddq_pqtr_right_nibble00\": 0,\n",
            "    \"f0_wrdqdbi_left_edge_dbi_byte7\": 74,\n",
            "    \"f0_wrdqdbi_odly_dq_final_bit46\": 72,\n",
            "    \"f0_calbisc_rl_dly_pqtr_nibble05\": 81,\n",
            "    \"f1_wrdqdbi_right_edge_dqs_byte0\": 0,\n",
            "    \"bisc_mon_align_nibble15\": 0,\n",
            "    \"nsu2_perf_filter_1_1\": 0,\n",
            "    \"bisc_pqtr_nibble14\": 81,\n",
            "    \"vttrack_rldlyqtr_nibble02\": 78,\n",
            "    \"vttrack_rldlyqtr_max_nibble00\": 82,\n",
            "    \"f1_rdprbs_nqtr_right_margin_nibble08\": 0,\n",
            "    \"ub_isr_vt_track_err\": 0,\n",
            "    \"f1_wrdqdbi_odly_dq_final_bit04\": 0,\n",
            "    \"f0_rd_simp_rise_lm_nib_02\": [\n",
            "        75,\n",
            "        144\n",
            "    ],\n",
            "    \"dc0_perf_mon_4\": 0,\n",
            "    \"dqstrack_rldlyrnk_fine_byte7\": 37,\n",
            "    \"f1_dqsgate_read_lat_final_byte6\": 0,\n",
            "    \"f0_wrprbs_right_margin_byte2\": 0,\n",
            "    \"f1_wrdqdbi_stg2_dq_odly_bit40\": 0,\n",
            "    \"f1_wrdqdbi_odly_dbi_final_byte0\": 0,\n",
            "    \"f0_rd_simp_fall_ctp_nib_02\": [\n",
            "        100,\n",
            "        198\n",
            "    ],\n",
            "    \"cal_warning_77\": 0,\n",
            "    \"f0_wrcmplx_odly_dq_final_bit53\": 62,\n",
            "    \"vttrack_rldlyqtr_nibble13\": 80,\n",
            "    \"f1_calbisc_rl_dly_nqtr_nibble00\": 0,\n",
            "    \"f0_dqsgate_read_lat_final_byte3\": 26,\n",
            "    \"f1_wrdqdbi_deskew_dbi_odly_byte6\": 0,\n",
            "    \"f0_dqsgate_stg2_rldlyrnk_crse_rank0_byte4\": 1,\n",
            "    \"f1_wrprbs_left_margin_byte7\": 0,\n",
            "    \"rdvref_right_vref_final_nibble01\": 0,\n",
            "    \"traf_self_ref_en\": 0,\n",
            "    \"f0_rd_simp_rise_rm_nib_07\": [\n",
            "        78,\n",
            "        154\n",
            "    ],\n",
            "    \"f1_dqsgate_stg1_overflow_30\": 0,\n",
            "    \"f0_wrdqdbi_stg3_dq_odly_bit40\": 55,\n",
            "    \"f0_rddq_nqtr_final_nibble10\": 94,\n",
            "    \"f0_wrdqdbi_left_edge_dq_bit37\": 93,\n",
            "    \"wrvref_right_vref_upp_bound_rank0_byte2\": 0,\n",
            "    \"bisc_idly2_align_nibble01\": 77,\n",
            "    \"f1_rddq_pqtr_right_fcrse_nibble10\": 0,\n",
            "    \"bisc_idly3_align_nibble01\": 80,\n",
            "    \"f0_wrdqdbi_deskew_dq_odly_bit11\": 131,\n",
            "    \"rdvref_vref_final_nibble08\": 0,\n",
            "    \"f0_rddq_nqtr_left_nibble13\": 26,\n",
            "    \"f1_rddq_idelay_final_bit49\": 0,\n",
            "    \"f0_rdprbs_pqtr_right_margin_nibble12\": 0,\n",
            "    \"f1_wrdqdbi_deskew_dq_odly_bit59\": 0,\n",
            "    \"cal_post_status_05\": 0,\n",
            "    \"f1_rddq_qtr_deskew_nibble10\": 0,\n",
            "    \"cal_seq_status_06\": 264,\n",
            "    \"f0_rd_comp_rise_rm_nib_00\": [\n",
            "        70,\n",
            "        138\n",
            "    ],\n",
            "    \"f1_wrdqdbi_deskew_dq_odly_fcrse_bit63\": 0,\n",
            "    \"f1_rdcmplx_nqtr_final_nibble10\": 0,\n",
            "    \"f0_wrlat_match_rank0_byte5\": 17,\n",
            "    \"f1_dqsgate_stg1_overflow_46\": 0,\n",
            "    \"cal_warning_75\": 0,\n",
            "    \"f0_rd_simp_fall_lm_nib_10\": [\n",
            "        75,\n",
            "        148\n",
            "    ],\n",
            "    \"f1_wrdqdbi_stg6_dbi_odly_byte7\": 0,\n",
            "    \"f0_wrdqdbi_left_edge_dq_bit29\": 76,\n",
            "    \"f0_wrdqdbi_deskew_dq_odly_bit54\": 130,\n",
            "    \"f1_rdcmplx_pqtr_left_nibble13\": 0,\n",
            "    \"phy_oe_nib7_dly\": 1,\n",
            "    \"f1_dqsgate_stg1_rldlyrnk_crse_rank0_byte2\": 0,\n",
            "    \"f0_dqsgate_stg1_overflow_32\": 0,\n",
            "    \"f0_rdcmplx_nqtr_right_nibble07\": 144,\n",
            "    \"f1_calbisc_rl_dly_nqtr_nibble10\": 0,\n",
            "    \"f0_wrdqdbi_left_edge_dq_bit53\": 54,\n",
            "    \"f0_rdcmplx_pqtr_right_nibble12\": 159,\n",
            "    \"f1_wrdqdbi_odly_dq_final_bit35\": 0,\n",
            "    \"f1_rdcmplx_nqtr_right_nibble14\": 0,\n",
            "    \"f0_bit_time\": 312,\n",
            "    \"f1_wrdqdbi_stg2_dq_odly_bit45\": 0,\n",
            "    \"f1_wrlat_match_rank0_byte4\": 0,\n",
            "    \"f1_rdcmplx_pqtr_left_short_nibble14\": 0,\n",
            "    \"f0_wrdqdbi_stg3_dq_odly_bit62\": 74,\n",
            "    \"f0_rd_comp_fall_rm_nib_10\": [\n",
            "        63,\n",
            "        124\n",
            "    ],\n",
            "    \"rdvref_right_vref_upp_bound_nibble01\": 0,\n",
            "    \"f1_rddq_qtr_deskew_nibble14\": 0,\n",
            "    \"f1_wrdqdbi_deskew_dq_odly_bit39\": 0,\n",
            "    \"rdvref_right_vref_low_bound_nibble11\": 0,\n",
            "    \"f1_wrcmplx_odly_dq_final_bit21\": 0,\n",
            "    \"dc1_perf_mon_5\": 0,\n",
            "    \"f0_rd_simp_fall_lm_nib_02\": [\n",
            "        75,\n",
            "        148\n",
            "    ],\n",
            "    \"f0_rdcmplx_nqtr_right_nibble02\": 151,\n",
            "    \"f1_rdprbs_pqtr_left_margin_nibble04\": 0,\n",
            "    \"f0_rdcmplx_nqtr_right_short_fcrse_nibble04\": 175,\n",
            "    \"f1_wrdqdbi_stg2_dq_odly_bit48\": 0,\n",
            "    \"f1_wrdqdbi_stg4_dqs_delay_byte6\": 0,\n",
            "    \"f0_wrcmplx_left_margin_fcrse_byte2\": 70,\n",
            "    \"f0_wrdqdbi_stg2_dq_odly_bit35\": 96,\n",
            "    \"f0_wrcmplx_odly_dq_final_bit20\": 43,\n",
            "    \"f0_wrcmplx_left_margin_byte2\": 74,\n",
            "    \"f0_dqsgate_stg1_overflow_02\": 255,\n",
            "    \"rdvref_left_vref_def_nibble07\": 0,\n",
            "    \"f0_rd_comp_rise_ctp_nib_09\": [\n",
            "        92,\n",
            "        182\n",
            "    ],\n",
            "    \"reg_config0\": 4198928,\n",
            "    \"cal_stage_time_32\": 0,\n",
            "    \"f1_rddq_pqtr_left_nibble15\": 0,\n",
            "    \"f0_wrdqdbi_stg3_dq_odly_bit43\": 55,\n",
            "    \"f0_rdprbs_nqtr_left_margin_nibble04\": 0,\n",
            "    \"f1_wrdqdbi_odly_dqs_final_byte2\": 0,\n",
            "    \"dqstrack_rldlyrnk_fine_max_byte5\": 35,\n",
            "    \"cal_seq_status_43\": 0,\n",
            "    \"f1_rddq_idelay_final_bit33\": 0,\n",
            "    \"f0_wrprbs_left_margin_byte3\": 0,\n",
            "    \"f1_wrdqdbi_deskew_dq_odly_bit60\": 0,\n",
            "    \"phy_oe_nib24_dly\": 0,\n",
            "    \"dbi_pins\": 8,\n",
            "    \"rdvref_left_vref_def_nibble10\": 0,\n",
            "    \"f1_dqsgate_stg1_rldlyrnk_fine_rank0_byte2\": 0,\n",
            "    \"f1_rddq_nqtr_left_nibble01\": 0,\n",
            "    \"bisc_idly1_align_nibble07\": 81,\n",
            "    \"f1_wrdqdbi_stg2_dq_odly_bit43\": 0,\n",
            "    \"rdmargin_nqtr_right_nibble00\": 0,\n",
            "    \"f0_wrdqdbi_odly_dq_final_bit07\": 63,\n",
            "    \"f1_wrdqdbi_right_margin_fcrse_byte1\": 0,\n",
            "    \"f0_wrdqdbi_deskew_dq_odly_bit32\": 177,\n",
            "    \"f1_wrdqdbi_deskew_dq_odly_bit36\": 0,\n",
            "    \"f1_rdcmplx_nqtr_left_short_nibble04\": 0,\n",
            "    \"f0_wrlvl_crse_stg1_rank0_byte7\": 3,\n",
            "    \"f1_wrcmplx_odly_dq_final_bit31\": 0,\n",
            "    \"rdvref_right_vref_final_nibble12\": 0,\n",
            "    \"xpi_oe_all_nib_dly_offset\": 8,\n",
            "    \"f1_rdprbs_nqtr_right_margin_nibble14\": 0,\n",
            "    \"ddrmc_clk_mux\": 1,\n",
            "    \"f0_wrlvl_fine_left_rank0_byte2\": 23,\n",
            "    \"f1_wrdqdbi_stg2_dq_odly_bit07\": 0,\n",
            "    \"f1_wrcmplx_odly_dq_final_bit40\": 0,\n",
            "    \"f0_wrdqdbi_left_edge_dq_bit02\": 54,\n",
            "    \"f0_wrdqdbi_odly_dq_final_bit32\": 110,\n",
            "    \"rdvref_vref_low_bound_nibble03\": 0,\n",
            "    \"max_bytes\": 18,\n",
            "    \"f0_calbisc_rl_dly_qtr_nibble02\": 80,\n",
            "    \"bisc_mon_align_nibble06\": 0,\n",
            "    \"rdvref_right_vref_final_nibble13\": 0,\n",
            "    \"f1_wrdqdbi_stg2_dq_odly_bit26\": 0,\n",
            "    \"f1_wrdqdbi_deskew_dq_odly_fcrse_bit43\": 0,\n",
            "    \"f1_wrcmplx_odly_dq_final_bit47\": 0,\n",
            "    \"f1_wrdqdbi_odly_dbi_final_byte7\": 0,\n",
            "    \"f0_wrdqdbi_deskew_dq_odly_fcrse_bit34\": 166,\n",
            "    \"f1_db_f0bc6x\": 0,\n",
            "    \"f1_wrdqdbi_left_margin_byte0\": 0,\n",
            "    \"f1_rddq_pqtr_left_nibble00\": 0,\n",
            "    \"lp4_dqs_osc_track_en\": 0,\n",
            "    \"f0_rddq_nqtr_right_fcrse_nibble03\": 180,\n",
            "    \"f0_wrcmplx_odly_dqs_final_byte0\": 72,\n",
            "    \"f1_wrdqdbi_stg3_dq_odly_bit12\": 0,\n",
            "    \"f1_rdcmplx_nqtr_final_nibble14\": 0,\n",
            "    \"f1_add_cmd_dly\": 0,\n",
            "    \"f1_wrlat_phy_data_nib_final_byte5\": 0,\n",
            "    \"vttrack_rldlyqtr_max_nibble01\": 83,\n",
            "    \"f0_wrlat_phy_oe_nib_final_byte7\": 0,\n",
            "    \"f1_wrdqdbi_stg2_dq_odly_bit31\": 0,\n",
            "    \"f1_wrdqdbi_deskew_dq_odly_bit37\": 0,\n",
            "    \"cal_warning_02\": 0,\n",
            "    \"ub_isntr_ue\": 0,\n",
            "    \"bisc_idly4_align_nibble08\": 70,\n",
            "    \"f1_rddq_nqtr_left_nibble05\": 0,\n",
            "    \"f1_rdcmplx_nqtr_left_short_nibble01\": 0,\n",
            "    \"rdvref_right_vref_upp_bound_nibble07\": 0,\n",
            "    \"f1_rdcmplx_nqtr_right_short_nibble04\": 0,\n",
            "    \"f0_rd_simp_rise_ctp_nib_05\": [\n",
            "        96,\n",
            "        185\n",
            "    ],\n",
            "    \"f1_rddq_nqtr_final_nibble07\": 0,\n",
            "    \"f1_rddq_pqtr_right_fcrse_nibble14\": 0,\n",
            "    \"iobmap_dq_29_28\": 0,\n",
            "    \"f0_wrdqdbi_deskew_dbi_odly_byte0\": 132,\n",
            "    \"f0_wrdqdbi_stg3_dq_odly_bit54\": 47,\n",
            "    \"f1_wrdqdbi_deskew_dq_odly_fcrse_bit23\": 0,\n",
            "    \"f1_dqsgate_stg2_read_lat_rank0_byte4\": 0,\n",
            "    \"f1_rdcmplx_nqtr_left_short_nibble11\": 0,\n",
            "    \"f0_rd_comp_rise_rm_nib_10\": [\n",
            "        68,\n",
            "        132\n",
            "    ],\n",
            "    \"f0_wrdqdbi_deskew_dq_odly_fcrse_bit38\": 176,\n",
            "    \"f1_wrdqdbi_stg2_dq_odly_bit18\": 0,\n",
            "    \"f0_rdprbs_pqtr_left_margin_nibble01\": 0,\n",
            "    \"f0_wrcmplx_odly_dbi_final_byte7\": 87,\n",
            "    \"f0_rdprbs_nqtr_right_margin_nibble02\": 0,\n",
            "    \"f0_wrdqdbi_odly_dq_final_bit05\": 66,\n",
            "    \"rdvref_vref_final_nibble07\": 0,\n",
            "    \"wrvref_vref_low_bound_rank0_byte0\": 0,\n",
            "    \"bytes\": 8,\n",
            "    \"rdvref_right_vref_def_nibble09\": 0,\n",
            "    \"f1_rddq_pqtr_final_nibble00\": 0,\n",
            "    \"f0_rddq_idelay_final_bit18\": 89,\n",
            "    \"f0_dqsgate_stg1_overflow_56\": 0,\n",
            "    \"f1_rddq_nqtr_right_nibble09\": 0,\n",
            "    \"rdvref_left_vref_upp_bound_nibble12\": 0,\n",
            "    \"f1_wrdqdbi_stg3_dq_odly_bit52\": 0,\n",
            "    \"f1_wrdqdbi_left_edge_dq_bit34\": 0,\n",
            "    \"f1_rdprbs_nqtr_left_margin_nibble00\": 0,\n",
            "    \"nsu2_perf_mon_0_2\": 0,\n",
            "    \"f0_rdcmplx_nqtr_left_short_nibble00\": 26,\n",
            "    \"f1_dqsgate_stg1_overflow_54\": 0,\n",
            "    \"bisc_idly4_align_nibble03\": 77,\n",
            "    \"wrvref_right_vref_upp_bound_rank0_byte0\": 0,\n",
            "    \"f0_rdcmplx_nqtr_right_nibble12\": 143,\n",
            "    \"cal_warning_09\": 0,\n",
            "    \"f0_wrdqdbi_odly_dq_final_bit12\": 71,\n",
            "    \"f1_dqsgate_stg1_overflow_51\": 0,\n",
            "    \"phy_rden20_dly\": 25,\n",
            "    \"f0_rddq_nqtr_right_fcrse_nibble13\": 181,\n",
            "    \"f1_dqsgate_stg1_overflow_04\": 0,\n",
            "    \"f1_wrdqdbi_deskew_dq_odly_fcrse_bit28\": 0,\n",
            "    \"ddrmc_isr_na_cmd\": 0,\n",
            "    \"f1_rdcmplx_nqtr_right_short_fcrse_nibble08\": 0,\n",
            "    \"f0_wrdqdbi_odly_dq_final_bit19\": 27,\n",
            "    \"bisc_nqtr_nibble11\": 79,\n",
            "    \"f0_wrlvl_offset_rank0_byte3\": 80,\n",
            "    \"f0_rddq_nqtr_final_nibble04\": 102,\n",
            "    \"f1_wrlat_match_rank0_byte3\": 0,\n",
            "    \"f1_rddq_pqtr_right_nibble10\": 0,\n",
            "    \"f0_wrcmplx_odly_dq_final_bit51\": 47,\n",
            "    \"f1_wrdqdbi_left_edge_dq_bit01\": 0,\n",
            "    \"f0_rdprbs_pqtr_left_margin_nibble11\": 0,\n",
            "    \"f1_rdprbs_nqtr_left_margin_nibble15\": 0,\n",
            "    \"rdvref_right_vref_final_nibble14\": 0,\n",
            "    \"f0_rddq_idelay_final_bit59\": 76,\n",
            "    \"f1_dqsgate_stg2_rldlyrnk_crse_rank0_byte6\": 0,\n",
            "    \"f0_rdcmplx_pqtr_final_nibble14\": 92,\n",
            "    \"f0_rdcmplx_pqtr_right_short_fcrse_nibble08\": 187,\n",
            "    \"f0_rddq_nqtr_left_nibble01\": 26,\n",
            "    \"f1_wrlvl_offset_rank0_byte6\": 0,\n",
            "    \"f1_dqsgate_stg1_overflow_35\": 0,\n",
            "    \"nsu0_perf_mon_ctl_0_0\": 0,\n",
            "    \"f0_wrcmplx_odly_dqs_final_byte2\": 42,\n",
            "    \"f0_wrprbs_right_margin_byte3\": 0,\n",
            "    \"f1_wrlat_wldlyrnk_crse_final_rank0_byte7\": 0,\n",
            "    \"f0_rd_comp_fall_rm_nib_13\": [\n",
            "        63,\n",
            "        121\n",
            "    ],\n",
            "    \"f0_wrdqdbi_right_margin_fcrse_byte5\": 60,\n",
            "    \"wrvref_left_vref_def_rank0_byte7\": 0,\n",
            "    \"f0_dqsgate_stg1_overflow_17\": 0,\n",
            "    \"bisc_pqtr_nibble07\": 79,\n",
            "    \"f0_wrlvl_fine_final_rank0_byte7\": 74,\n",
            "    \"f0_rddq_pqtr_right_fcrse_nibble15\": 173,\n",
            "    \"f0_rdcmplx_pqtr_right_short_fcrse_nibble02\": 177,\n",
            "    \"f0_dqsgate_stg1_read_lat_rank0_byte6\": 24,\n",
            "    \"f1_wrlvl_fine_final_rank0_byte3\": 0,\n",
            "    \"f0_rdcmplx_pqtr_right_nibble04\": 156,\n",
            "    \"f1_wrdqdbi_stg3_dq_odly_bit09\": 0,\n",
            "    \"f1_wrdqdbi_stg2_dq_odly_bit39\": 0,\n",
            "    \"rdvref_vref_def\": 0,\n",
            "    \"f1_wrdqdbi_odly_dq_final_bit49\": 0,\n",
            "    \"rdvref_right_vref_upp_bound_nibble15\": 0,\n",
            "    \"f0_wrcmplx_odly_dq_final_bit62\": 100,\n",
            "    \"f1_rddq_pqtr_left_nibble03\": 0,\n",
            "    \"f1_wrlvl_offset_rank0_byte5\": 0,\n",
            "    \"nsu0_perf_filter_1_0\": 0,\n",
            "    \"f0_wrdqdbi_stg4_dqs_delay_byte7\": 14,\n",
            "    \"f0_wrlat_xpi_oe_all_final\": 16,\n",
            "    \"bisc_idly5_align_nibble05\": 82,\n",
            "    \"f1_rdcmplx_pqtr_right_short_nibble03\": 0,\n",
            "    \"f0_rddq_nqtr_final_nibble01\": 100,\n",
            "    \"cal_stage_time_31\": 0,\n",
            "    \"f0_wrdqdbi_stg6_dbi_odly_byte3\": 71,\n",
            "    \"rdvref_left_vref_final_nibble09\": 0,\n",
            "    \"f0_wrdqdbi_right_margin_byte3\": 74,\n",
            "    \"f0_wrcmplx_odly_dq_final_bit59\": 83,\n",
            "    \"cal_stage_time_16\": 0,\n",
            "    \"f0_dqsgate_stg1_overflow_19\": 0,\n",
            "    \"f1_rdcmplx_pqtr_final_nibble11\": 0,\n",
            "    \"f0_rd_simp_fall_rm_nib_03\": [\n",
            "        76,\n",
            "        148\n",
            "    ],\n",
            "    \"f1_rdprbs_pqtr_left_margin_nibble08\": 0,\n",
            "    \"f0_mr4_17_9\": 0,\n",
            "    \"f0_rdcmplx_idelay_offset_nibble09\": 0,\n",
            "    \"f1_wrdqdbi_right_margin_byte0\": 0,\n",
            "    \"f1_rdcmplx_pqtr_left_short_nibble10\": 0,\n",
            "    \"f1_rddq_qtr_deskew_nibble12\": 0,\n",
            "    \"f1_wrdqdbi_stg4_dqs_delay_byte7\": 0,\n",
            "    \"f1_rddq_qtr_deskew_nibble15\": 0,\n",
            "    \"f0_rddq_pqtr_final_nibble12\": 94,\n",
            "    \"f0_dqsgate_stg1_read_lat_rank0_byte1\": 24,\n",
            "    \"rdmargin_nqtr_left_nibble01\": 0,\n",
            "    \"f0_wr_simp_lm_byte_05\": [\n",
            "        85,\n",
            "        170\n",
            "    ],\n",
            "    \"f0_wr_comp_lm_byte_03\": [\n",
            "        71,\n",
            "        139\n",
            "    ],\n",
            "    \"dc1_perf_mon_6\": 0,\n",
            "    \"f1_wrlvl_fine_left_rank0_byte4\": 0,\n",
            "    \"f0_wrlvl_fine_left_rank0_byte1\": 60,\n",
            "    \"f0_rdcmplx_nqtr_final_nibble00\": 91,\n",
            "    \"cal_error_bit_phy_nibble_26\": 0,\n",
            "    \"f1_wrlvl_fine_right_rank0_byte5\": 0,\n",
            "    \"wrvref_vref_upp_bound_rank0_byte4\": 0,\n",
            "    \"f1_dqsgate_stg1_overflow_21\": 0,\n",
            "    \"rdvref_left_vref_upp_bound_nibble13\": 0,\n",
            "    \"mgchk_error\": 0,\n",
            "    \"dc0_perf_mon_0\": 0,\n",
            "    \"f1_rdcmplx_nqtr_right_nibble09\": 0,\n",
            "    \"f0_wrcmplx_right_margin_fcrse_byte1\": 60,\n",
            "    \"f1_calbisc_rl_dly_pqtr_nibble02\": 0,\n",
            "    \"f1_wrdqdbi_left_edge_dq_bit38\": 0,\n",
            "    \"nsu3_perf_mon_ctl_1_0\": 0,\n",
            "    \"f0_qtr_time\": 156,\n",
            "    \"f0_wrcmplx_odly_dq_final_bit55\": 66,\n",
            "    \"f0_rdprbs_nqtr_left_margin_nibble14\": 0,\n",
            "    \"f1_wrdqdbi_stg2_dq_odly_bit56\": 0,\n",
            "    \"f0_rdprbs_pqtr_left_margin_nibble03\": 0,\n",
            "    \"f0_wrdqdbi_right_edge_dqs_byte1\": 141,\n",
            "    \"f0_wrdqdbi_stg1_bit_status_byte2\": 0,\n",
            "    \"f0_dqsgate_stg1_overflow_25\": 0,\n",
            "    \"f1_wrdqdbi_stg3_dq_odly_bit42\": 0,\n",
            "    \"bisc_pqtr_nibble04\": 80,\n",
            "    \"vttrack_rldlyqtr_min_nibble12\": 76,\n",
            "    \"f0_rdcmplx_pqtr_final_nibble02\": 89,\n",
            "    \"f0_rddq_nqtr_right_fcrse_nibble05\": 182,\n",
            "    \"dqstrack_rldlyrnk_crse_min_byte5\": 2,\n",
            "    \"f1_dqsgate_stg1_overflow_07\": 0,\n",
            "    \"wrvref_left_vref_low_bound_rank0_byte3\": 0,\n",
            "    \"f0_rddq_nqtr_left_nibble09\": 22,\n",
            "    \"f0_rd_simp_rise_ctp_nib_12\": [\n",
            "        94,\n",
            "        186\n",
            "    ],\n",
            "    \"f0_wrdqdbi_odly_dq_final_bit31\": 84,\n",
            "    \"wrmargin_left_byte4\": 0,\n",
            "    \"f0_rdcmplx_pqtr_left_nibble01\": 25,\n",
            "    \"f1_dqsgate_stg1_overflow_32\": 0,\n",
            "    \"f1_wrdqdbi_stg3_dq_odly_bit29\": 0,\n",
            "    \"0x0c_F0_WRITE_LEVELING\": \"Pass\",\n",
            "    \"f0_wrdqdbi_stg6_dbi_odly_byte6\": 47,\n",
            "    \"f0_rd_comp_fall_ctp_nib_01\": [\n",
            "        93,\n",
            "        182\n",
            "    ],\n",
            "    \"f1_wrdqdbi_deskew_dq_odly_bit20\": 0,\n",
            "    \"cal_status_init_done\": 1,\n",
            "    \"bisc_idly1_align_nibble11\": 81,\n",
            "    \"f1_rdcmplx_pqtr_right_short_fcrse_nibble03\": 0,\n",
            "    \"f0_rddq_qtr_deskew_nibble08\": 1,\n",
            "    \"f0_calbisc_rl_dly_pqtr_nibble09\": 79,\n",
            "    \"cal_warning_27\": 0,\n",
            "    \"f0_wrdqdbi_stg2_dq_odly_bit25\": 71,\n",
            "    \"f1_wrlat_phy_data_nib_final_byte7\": 0,\n",
            "    \"f0_wrdqdbi_stg1_bit_status_byte7\": 0,\n",
            "    \"f1_wrdqdbi_stg2_dq_odly_bit34\": 0,\n",
            "    \"f1_rddq_nqtr_left_nibble07\": 0,\n",
            "    \"f0_calbisc_rl_dly_nqtr_nibble15\": 78,\n",
            "    \"f0_rddq_idelay_final_bit60\": 80,\n",
            "    \"f1_rddq_pqtr_right_nibble07\": 0,\n",
            "    \"f1_wrdqdbi_stg3_dq_odly_bit62\": 0,\n",
            "    \"f0_wrdqdbi_left_edge_dq_bit10\": 49,\n",
            "    \"f1_wrdqdbi_stg5_dqs_odly_byte1\": 0,\n",
            "    \"dqstrack_rldlyrnk_fine_min_byte1\": 74,\n",
            "    \"mgchk_ctrl\": 0,\n",
            "    \"f0_wrdqdbi_odly_dbi_final_byte0\": 57,\n",
            "    \"f0_wrdqdbi_left_edge_dq_bit27\": 85,\n",
            "    \"nsu3_perf_filter_0_0\": 0,\n",
            "    \"f0_rddq_pqtr_final_nibble07\": 96,\n",
            "    \"f0_rdcmplx_nqtr_right_short_nibble06\": 163,\n",
            "    \"f0_rd_comp_rise_ctp_nib_08\": [\n",
            "        88,\n",
            "        172\n",
            "    ],\n",
            "    \"f0_wrdqdbi_stg3_dq_odly_bit13\": 62,\n",
            "    \"f0_wrdqdbi_stg3_dq_odly_bit26\": 71,\n",
            "    \"f1_rddq_nqtr_left_nibble09\": 0,\n",
            "    \"cal_warning_54\": 0,\n",
            "    \"f0_wrdqdbi_right_margin_byte4\": 77,\n",
            "    \"f0_rd_comp_fall_lm_nib_14\": [\n",
            "        62,\n",
            "        124\n",
            "    ],\n",
            "    \"f0_wrcmplx_odly_dbi_final_byte6\": 55,\n",
            "    \"f1_wrdqdbi_deskew_dbi_odly_fcrse_byte4\": 0,\n",
            "    \"f0_rdcmplx_nqtr_right_nibble09\": 141,\n",
            "    \"iobmap_dq_1_0\": 0,\n",
            "    \"rdvref_right_vref_def_nibble05\": 0,\n",
            "    \"bisc_idly5_align_nibble00\": 74,\n",
            "    \"f0_calbisc_rl_dly_qtr_nibble12\": 79,\n",
            "    \"rdmargin_nqtr_right_nibble07\": 0,\n",
            "    \"bisc_rl_dly_qtr_nibble01\": 80,\n",
            "    \"f0_rdcmplx_pqtr_final_nibble06\": 89,\n",
            "    \"f1_par_alert_en\": 1,\n",
            "    \"f1_wrlat_phy_data_nib_final_byte3\": 0,\n",
            "    \"wrvref_right_vref_upp_bound_rank0_byte4\": 0,\n",
            "    \"f1_wrdqdbi_odly_dq_final_bit10\": 0,\n",
            "    \"bisc_nqtr_nibble04\": 79,\n",
            "    \"ddrmc_isr_na_cmd0\": 0,\n",
            "    \"f1_wrcmplx_odly_dq_final_bit08\": 0,\n",
            "    \"bits_per_byte\": 8,\n",
            "    \"f1_rdcmplx_nqtr_left_nibble15\": 0,\n",
            "    \"f0_rdcmplx_pqtr_right_nibble00\": 161,\n",
            "    \"f1_rdcmplx_pqtr_right_short_fcrse_nibble05\": 0,\n",
            "    \"f1_wrdqdbi_left_margin_byte5\": 0,\n",
            "    \"dc0_perf_mon\": 62,\n",
            "    \"f1_mr0_8_0\": 0,\n",
            "    \"vttrack_rldlyqtr_nibble15\": 80,\n",
            "    \"f0_rdcmplx_pqtr_right_nibble01\": 163,\n",
            "    \"f1_dqsgate_stg1_rldlyrnk_fine_rank0_byte6\": 0,\n",
            "    \"f1_wrdqdbi_stg2_dq_odly_bit24\": 0,\n",
            "    \"f0_wrdqdbi_odly_dq_final_bit42\": 66,\n",
            "    \"f1_wrcmplx_left_margin_byte4\": 0,\n",
            "    \"dqstrack_rldlyrnk_crse_byte5\": 2,\n",
            "    \"cal_stage_time_38\": 0,\n",
            "    \"f1_wrdqdbi_stg2_dq_odly_bit03\": 0,\n",
            "    \"f1_wrdqdbi_odly_dq_final_bit22\": 0,\n",
            "    \"f0_rdcmplx_nqtr_right_short_fcrse_nibble08\": 165,\n",
            "    \"f1_rdcmplx_nqtr_right_nibble05\": 0,\n",
            "    \"f1_wrdqdbi_stg2_dq_odly_bit17\": 0,\n",
            "    \"f1_wrcmplx_left_margin_byte2\": 0,\n",
            "    \"phy_rden21_dly\": 25,\n",
            "    \"bisc_idly2_align_nibble03\": 73,\n",
            "    \"f1_dqsgate_stg1_overflow_63\": 0,\n",
            "    \"nsu0_perf_filter_1_1\": 0,\n",
            "    \"f0_rd_simp_rise_ctp_nib_03\": [\n",
            "        93,\n",
            "        184\n",
            "    ],\n",
            "    \"f0_wrlat_xpi_wrdata_all_final\": 16,\n",
            "    \"f1_wrcmplx_odly_dq_final_bit50\": 0,\n",
            "    \"f1_wrdqdbi_left_edge_dq_bit20\": 0,\n",
            "    \"f1_dqsgate_stg2_read_lat_rank0_byte6\": 0,\n",
            "    \"f0_wr_comp_lm_byte_01\": [\n",
            "        73,\n",
            "        143\n",
            "    ],\n",
            "    \"f0_rddq_pqtr_right_nibble00\": 166,\n",
            "    \"f0_wrdqdbi_deskew_dq_odly_bit46\": 146,\n",
            "    \"f0_wrprbs_left_margin_byte1\": 0,\n",
            "    \"cal_warning_11\": 0,\n",
            "    \"f0_rddq_pqtr_left_nibble10\": 18,\n",
            "    \"f1_wrdqdbi_deskew_dq_odly_bit48\": 0,\n",
            "    \"f0_rddq_idelay_final_bit43\": 70,\n",
            "    \"f1_dqsgate_stg1_read_lat_rank0_byte0\": 0,\n",
            "    \"dqstrack_rldlyrnk_fine_min_byte3\": 23,\n",
            "    \"f1_rdcmplx_nqtr_right_short_nibble00\": 0,\n",
            "    \"f1_wrdqdbi_left_edge_dq_bit54\": 0,\n",
            "    \"reg_safe_config2\": 1099088782,\n",
            "    \"bisc_idly5_align_nibble01\": 84,\n",
            "    \"vttrack_rldlyqtr_nibble05\": 77,\n",
            "    \"f0_rddq_pqtr_left_nibble07\": 18,\n",
            "    \"f0_wrprbs_right_margin_byte4\": 0,\n",
            "    \"f1_rddq_nqtr_right_fcrse_nibble05\": 0,\n",
            "    \"f1_wrdqdbi_odly_dq_final_bit63\": 0,\n",
            "    \"f1_wrcmplx_odly_dq_final_bit27\": 0,\n",
            "    \"f0_rd_comp_fall_rm_nib_06\": [\n",
            "        58,\n",
            "        111\n",
            "    ],\n",
            "    \"f0_rd_simp_rise_rm_nib_12\": [\n",
            "        77,\n",
            "        152\n",
            "    ],\n",
            "    \"dqstrack_rldlyrnk_crse_min_byte2\": 5,\n",
            "    \"f0_wrcmplx_odly_dq_final_bit61\": 94,\n",
            "    \"f1_wrcmplx_odly_dbi_final_byte1\": 0,\n",
            "    \"f0_rddq_idelay_final_bit22\": 89,\n",
            "    \"f1_rddq_pqtr_right_nibble06\": 0,\n",
            "    \"cal_stage_time_12\": 20,\n",
            "    \"f0_wrdqdbi_stg1_bit_status_byte6\": 0,\n",
            "    \"f0_wrdqdbi_deskew_dq_odly_fcrse_bit41\": 125,\n",
            "    \"f0_wrdqdbi_stg3_dq_odly_bit07\": 56,\n",
            "    \"f1_wrdqdbi_deskew_dq_odly_bit05\": 0,\n",
            "    \"f0_wr_comp_lm_byte_06\": [\n",
            "        73,\n",
            "        143\n",
            "    ],\n",
            "    \"bisc_idly2_align_nibble15\": 75,\n",
            "    \"f1_wrdqdbi_left_edge_dq_bit40\": 0,\n",
            "    \"rdmargin_pqtr_right_nibble06\": 0,\n",
            "    \"f0_rd_simp_fall_lm_nib_07\": [\n",
            "        73,\n",
            "        144\n",
            "    ],\n",
            "    \"f1_wrdqdbi_deskew_dq_odly_fcrse_bit55\": 0,\n",
            "    \"f0_rdcmplx_pqtr_right_short_nibble05\": 176,\n",
            "    \"f0_wrprbs_left_margin_byte6\": 0,\n",
            "    \"f0_dqsgate_stg1_overflow_39\": 0,\n",
            "    \"f0_wrdqdbi_deskew_dq_odly_fcrse_bit53\": 127,\n",
            "    \"f1_db_bc0a\": 0,\n",
            "    \"f0_dqsgate_rldlyrnk_crse_final_rank0_byte0\": 3,\n",
            "    \"f0_dqsgate_stg1_read_lat_rank0_byte7\": 27,\n",
            "    \"f0_dqsgate_rldlyrnk_crse_final_rank0_byte7\": 1,\n",
            "    \"rdmargin_pqtr_left_nibble08\": 0,\n",
            "    \"iobmap_dq_27_26\": 0,\n",
            "    \"f0_lp4_mr13\": 0,\n",
            "    \"f1_rdprbs_nqtr_right_margin_nibble04\": 0,\n",
            "    \"f0_wrdqdbi_stg2_dq_odly_bit16\": 26,\n",
            "    \"header_ver\": 1,\n",
            "    \"bisc_nqtr_nibble10\": 81,\n",
            "    \"vttrack_rldlyqtr_min_nibble11\": 77,\n",
            "    \"f0_wrdqdbi_stg3_dq_odly_bit37\": 96,\n",
            "    \"f1_rddq_idelay_final_bit38\": 0,\n",
            "    \"f1_rdprbs_pqtr_left_margin_nibble05\": 0,\n",
            "    \"ddrmc_isr_nsu_2\": 0,\n",
            "    \"f0_wrdqdbi_stg2_dq_odly_bit20\": 26,\n",
            "    \"f1_rdcmplx_pqtr_left_nibble02\": 0,\n",
            "    \"f1_wrdqdbi_stg2_dq_odly_bit02\": 0,\n",
            "    \"f1_calbisc_rl_dly_qtr_nibble00\": 0,\n",
            "    \"f1_calbisc_rl_dly_pqtr_nibble01\": 0,\n",
            "    \"f0_wrcmplx_odly_dq_final_bit15\": 72,\n",
            "    \"rdmargin_nqtr_left_nibble12\": 0,\n",
            "    \"dqs_gate_underflow\": 0,\n",
            "    \"f1_wrdqdbi_deskew_dq_odly_fcrse_bit26\": 0,\n",
            "    \"f1_wrdqdbi_left_edge_dq_bit09\": 0,\n",
            "    \"f1_rdcmplx_nqtr_right_short_fcrse_nibble15\": 0,\n",
            "    \"bisc_idly4_align_nibble04\": 73,\n",
            "    \"iobmap_dqs_9\": 0,\n",
            "    \"mgchk_bitslect\": 0,\n",
            "    \"rdvref_left_vref_final_nibble10\": 0,\n",
            "    \"f0_rddq_idelay_final_bit45\": 71,\n",
            "    \"f1_wrdqdbi_deskew_dq_odly_bit23\": 0,\n",
            "    \"pcsr_lock\": 1,\n",
            "    \"f0_calbisc_rl_dly_pqtr_nibble01\": 80,\n",
            "    \"f1_wrdqdbi_deskew_dq_odly_fcrse_bit59\": 0,\n",
            "    \"f1_wrlvl_fine_final_rank0_byte4\": 0,\n",
            "    \"cal_stage.02_F0_MEM_INIT\": \"Pass\",\n",
            "    \"f1_wrdqdbi_deskew_dq_odly_bit01\": 0,\n",
            "    \"f1_wrcmplx_odly_dq_final_bit33\": 0,\n",
            "    \"f0_wrdqdbi_left_edge_dbi_byte6\": 47,\n",
            "    \"f0_wrcmplx_odly_dq_final_bit34\": 104,\n",
            "    \"f0_wrdqdbi_deskew_dq_odly_bit61\": 165,\n",
            "    \"f0_rd_simp_rise_rm_nib_08\": [\n",
            "        77,\n",
            "        150\n",
            "    ],\n",
            "    \"iobmap_dq_57_56\": 0,\n",
            "    \"f1_calbisc_rl_dly_qtr_nibble14\": 0,\n",
            "    \"iobmap_dq_31_30\": 0,\n",
            "    \"f1_wrdqdbi_left_edge_dq_bit12\": 0,\n",
            "    \"rdvref_left_vref_def_nibble01\": 0,\n",
            "    \"cal_stage.05_F0_READ_DQ_CAL\": \"Pass\",\n",
            "    \"nsu1_perf_mon_1_2\": 0,\n",
            "    \"cal_stage_time_55\": 0,\n",
            "    \"bisc_mon_align_nibble13\": 0,\n",
            "    \"rdvref_right_vref_low_bound_nibble14\": 0,\n",
            "    \"f1_wrdqdbi_stg2_dq_odly_bit42\": 0,\n",
            "    \"rdvref_right_vref_low_bound_nibble02\": 0,\n",
            "    \"f1_wrdqdbi_stg5_dqs_odly_byte6\": 0,\n",
            "    \"f0_wrdqdbi_left_edge_dq_bit44\": 64,\n",
            "    \"f0_rd_comp_rise_lm_nib_01\": [\n",
            "        69,\n",
            "        134\n",
            "    ],\n",
            "    \"f1_rdcmplx_nqtr_final_nibble08\": 0,\n",
            "    \"f0_rd_comp_fall_lm_nib_01\": [\n",
            "        64,\n",
            "        125\n",
            "    ],\n",
            "    \"cal_stage_time_09\": 0,\n",
            "    \"f1_wrlvl_crse_stg1_rank0_byte7\": 0,\n",
            "    \"cal_warning_74\": 0,\n",
            "    \"f1_wrcmplx_odly_dq_final_bit63\": 0,\n",
            "    \"f1_dqsgate_stg1_overflow_09\": 0,\n",
            "    \"f1_dqsgate_stg2_rldlyrnk_crse_rank0_byte1\": 0,\n",
            "    \"f0_rd_simp_fall_lm_nib_14\": [\n",
            "        74,\n",
            "        148\n",
            "    ],\n",
            "    \"rdvref_right_vref_upp_bound_nibble02\": 0,\n",
            "    \"f0_rd_comp_rise_ctp_nib_01\": [\n",
            "        94,\n",
            "        184\n",
            "    ],\n",
            "    \"dqs_status\": \"Running\",\n",
            "    \"f1_dqsgate_stg1_rldlyrnk_crse_rank0_byte5\": 0,\n",
            "    \"dqstrack_rldlyrnk_crse_max_byte1\": 4,\n",
            "    \"f1_wrdqdbi_deskew_dq_odly_bit53\": 0,\n",
            "    \"f1_rdprbs_nqtr_right_margin_nibble07\": 0,\n",
            "    \"vttrack_rldlyqtr_max_nibble15\": 83,\n",
            "    \"cal_seq_status_23\": 294,\n",
            "    \"f1_rddq_nqtr_right_fcrse_nibble14\": 0,\n",
            "    \"f0_rdcmplx_nqtr_left_short_nibble12\": 22,\n",
            "    \"f0_rdcmplx_nqtr_left_nibble08\": 20,\n",
            "    \"f0_dqsgate_stg2_read_lat_rank0_byte0\": 25,\n",
            "    \"f1_wrprbs_left_margin_byte6\": 0,\n",
            "    \"f0_wrdqdbi_stg2_dqs_odly_byte3\": 87,\n",
            "    \"cal_stage.06_F0_WRITE_DQ_DBI_CAL\": \"Pass\",\n",
            "    \"f0_rd_simp_fall_lm_nib_06\": [\n",
            "        71,\n",
            "        136\n",
            "    ],\n",
            "    \"iobmap_dqs_13\": 0,\n",
            "    \"f0_wrcmplx_odly_dq_final_bit33\": 100,\n",
            "    \"bisc_idly0_align_nibble02\": 69,\n",
            "    \"f1_rdprbs_nqtr_left_margin_nibble12\": 0,\n",
            "    \"f1_rdcmplx_pqtr_right_short_fcrse_nibble07\": 0,\n",
            "    \"f1_rdcmplx_pqtr_left_nibble08\": 0,\n",
            "    \"f0_wrdqdbi_stg2_dq_odly_bit30\": 71,\n",
            "    \"f1_wrdqdbi_odly_dq_final_bit25\": 0,\n",
            "    \"f1_wrdqdbi_stg3_dq_odly_bit26\": 0,\n",
            "    \"f0_rd_simp_fall_ctp_nib_05\": [\n",
            "        102,\n",
            "        199\n",
            "    ],\n",
            "    \"f1_mr5_8_0\": 0,\n",
            "    \"f1_wrdqdbi_stg3_dq_odly_bit32\": 0,\n",
            "    \"f0_wrdqdbi_stg2_dq_odly_bit26\": 71,\n",
            "    \"cal_stage_time_17\": 146,\n",
            "    \"f0_wr_simp_rm_byte_05\": [\n",
            "        63,\n",
            "        126\n",
            "    ],\n",
            "    \"cal_warning_55\": 0,\n",
            "    \"f0_wrlat_match_rank0_byte1\": 16,\n",
            "    \"f1_rddq_qtr_deskew_nibble07\": 0,\n",
            "    \"f0_rd_comp_fall_lm_nib_06\": [\n",
            "        58,\n",
            "        111\n",
            "    ],\n",
            "    \"vttrack_rldlyqtr_min_nibble06\": 76,\n",
            "    \"f0_wrdqdbi_odly_dq_final_bit55\": 60,\n",
            "    \"cal_error_data_nibble_8_0\": 0,\n",
            "    \"wrvref_left_vref_final_rank0_byte6\": 0,\n",
            "    \"f1_wrdqdbi_stg2_dq_odly_bit50\": 0,\n",
            "    \"f1_rdcmplx_pqtr_left_nibble10\": 0,\n",
            "    \"f1_rdcmplx_nqtr_left_short_nibble12\": 0,\n",
            "    \"bisc_nqtr_align_nibble14\": 1,\n",
            "    \"f0_rddq_nqtr_final_nibble15\": 95,\n",
            "    \"vttrack_rldlyqtr_max_nibble04\": 81,\n",
            "    \"f0_wrlat_phy_data_nib_final_byte0\": 0,\n",
            "    \"f0_rdcmplx_nqtr_final_nibble13\": 90,\n",
            "    \"f1_wrdqdbi_deskew_dq_odly_bit07\": 0,\n",
            "    \"cal_seq_status_15\": 401,\n",
            "    \"f1_wrcmplx_odly_dq_final_bit15\": 0,\n",
            "    \"cal_warning_52\": 0,\n",
            "    \"cal_stage_time_56\": 0,\n",
            "    \"f1_rddq_nqtr_left_nibble10\": 0,\n",
            "    \"dc1_perf_mon_0\": 0,\n",
            "    \"f0_wrcmplx_odly_dq_final_bit14\": 71,\n",
            "    \"f0_rdprbs_pqtr_right_margin_nibble10\": 0,\n",
            "    \"f1_wrcmplx_left_margin_byte5\": 0,\n",
            "    \"f0_wrdqdbi_stg3_dq_odly_bit09\": 62,\n",
            "    \"f0_rd_simp_rise_rm_nib_13\": [\n",
            "        81,\n",
            "        158\n",
            "    ],\n",
            "    \"f1_rddq_idelay_final_bit18\": 0,\n",
            "    \"f1_calbisc_rl_dly_qtr_nibble13\": 0,\n",
            "    \"cal_stage_time_15\": 0,\n",
            "    \"rdvref_vref_upp_bound_nibble10\": 0,\n",
            "    \"f1_wrcmplx_right_margin_fcrse_byte6\": 0,\n",
            "    \"f1_wrlvl_fine_left_rank0_byte6\": 0,\n",
            "    \"bisc_rl_dly_qtr_nibble07\": 79,\n",
            "    \"wrvref_left_vref_def_rank0_byte2\": 0,\n",
            "    \"dqstrack_rldlyrnk_crse_min_byte4\": 5,\n",
            "    \"bisc_rl_dly_qtr_nibble00\": 80,\n",
            "    \"iobmap_dq_21_20\": 0,\n",
            "    \"cal_post_status_01\": 0,\n",
            "    \"f1_calbisc_rl_dly_qtr_nibble01\": 0,\n",
            "    \"f0_wrdqdbi_stg2_dq_odly_bit45\": 55,\n",
            "    \"f0_wrcmplx_odly_dq_final_bit35\": 95,\n",
            "    \"f1_wrdqdbi_left_edge_dq_bit11\": 0,\n",
            "    \"f0_wr_comp_ctp_byte_04\": [\n",
            "        275,\n",
            "        544\n",
            "    ],\n",
            "    \"f0_rdcmplx_idelay_offset_nibble05\": 0,\n",
            "    \"f0_wrdqdbi_stg3_dq_odly_bit45\": 55,\n",
            "    \"f1_rdcmplx_nqtr_left_short_nibble00\": 0,\n",
            "    \"mgchk_pattern_mode\": 0,\n",
            "    \"f0_wrdqdbi_left_edge_dq_bit38\": 114,\n",
            "    \"f0_wrcmplx_odly_dq_final_bit13\": 72,\n",
            "    \"f0_wrlvl_crse_stg1_rank0_byte0\": 2,\n",
            "    \"f0_rdprbs_nqtr_right_margin_nibble12\": 0,\n",
            "    \"f1_wrprbs_left_margin_byte4\": 0,\n",
            "    \"f0_wrdqdbi_deskew_dq_odly_fcrse_bit52\": 117,\n",
            "    \"f1_wrlat_xpi_oe_all_final\": 0,\n",
            "    \"f1_rdcmplx_pqtr_right_short_fcrse_nibble02\": 0,\n",
            "    \"nsu2_perf_mon_1_2\": 0,\n",
            "    \"f1_wrcmplx_odly_dq_final_bit53\": 0,\n",
            "    \"f1_rddq_qtr_deskew_nibble02\": 0,\n",
            "    \"f0_wr_comp_ctp_byte_02\": [\n",
            "        42,\n",
            "        83\n",
            "    ],\n",
            "    \"f1_wrdqdbi_deskew_dq_odly_fcrse_bit12\": 0,\n",
            "    \"f1_wrprbs_left_margin_byte0\": 0,\n",
            "    \"f1_rdcmplx_idelay_offset_nibble02\": 0,\n",
            "    \"f0_wrlvl_fine_right_rank0_byte4\": 99,\n",
            "    \"cal_warning_06\": 0,\n",
            "    \"f0_rd_simp_rise_lm_nib_13\": [\n",
            "        80,\n",
            "        156\n",
            "    ],\n",
            "    \"f1_wrcmplx_odly_dbi_final_byte3\": 0,\n",
            "    \"rdvref_right_vref_upp_bound_nibble09\": 0,\n",
            "    \"f0_rddq_idelay_final_bit57\": 71,\n",
            "    \"cal_error_phy_nibble_26_18\": 0,\n",
            "    \"f1_rdcmplx_pqtr_left_short_nibble01\": 0,\n",
            "    \"f0_lp4_mr12\": 0,\n",
            "    \"rdvref_right_vref_upp_bound_nibble10\": 0,\n",
            "    \"cal_warning_43\": 0,\n",
            "    \"f0_dqsgate_stg1_overflow_14\": 0,\n",
            "    \"phy_oe_nib16_dly\": 1,\n",
            "    \"f1_wrdqdbi_stg2_dq_odly_bit36\": 0,\n",
            "    \"f0_rddq_qtr_deskew_nibble09\": 1,\n",
            "    \"cal_warning_64\": 0,\n",
            "    \"f0_rdprbs_pqtr_right_margin_nibble01\": 0,\n",
            "    \"f0_rdprbs_pqtr_right_margin_nibble00\": 0,\n",
            "    \"cal_stage_time_24\": 0,\n",
            "    \"f1_dqsgate_stg1_overflow_55\": 0,\n",
            "    \"f1_wrdqdbi_left_edge_dq_bit59\": 0,\n",
            "    \"f0_rddq_idelay_final_bit10\": 70,\n",
            "    \"f1_wrdqdbi_left_edge_dbi_byte3\": 0,\n",
            "    \"f1_wrdqdbi_odly_dq_final_bit13\": 0,\n",
            "    \"f1_rdcmplx_pqtr_right_nibble02\": 0,\n",
            "    \"f0_wrdqdbi_deskew_dbi_odly_fcrse_byte0\": 126,\n",
            "    \"rdmargin_pqtr_left_nibble06\": 0,\n",
            "    \"f0_rdcmplx_pqtr_final_nibble09\": 92,\n",
            "    \"f0_dqsgate_stg1_overflow_03\": 0,\n",
            "    \"f1_rddq_nqtr_final_nibble08\": 0,\n",
            "    \"f0_rd_comp_fall_ctp_nib_05\": [\n",
            "        89,\n",
            "        174\n",
            "    ],\n",
            "    \"f0_wrdqdbi_deskew_dq_odly_bit08\": 136,\n",
            "    \"f0_wrlvl_fine_left_rank0_byte5\": 52,\n",
            "    \"f1_rddq_idelay_final_bit50\": 0,\n",
            "    \"f0_wrdqdbi_stg3_dq_odly_bit03\": 56,\n",
            "    \"cal_warning_34\": 0,\n",
            "    \"f0_wrcmplx_left_margin_byte4\": 70,\n",
            "    \"iobmap_dq_61_60\": 0,\n",
            "    \"rdvref_right_vref_def_nibble01\": 0,\n",
            "    \"wrvref_left_vref_final_rank0_byte0\": 0,\n",
            "    \"phy_oe_nib6_dly\": 1,\n",
            "    \"cal_seq_status_45\": 0,\n",
            "    \"f0_rddq_qtr_deskew_nibble00\": 1,\n",
            "    \"mgchk_def_rd_vref_0\": 373,\n",
            "    \"f1_wrdqdbi_odly_dq_final_bit26\": 0,\n",
            "    \"f0_rddq_idelay_final_bit33\": 58,\n",
            "    \"wrvref_left_vref_upp_bound_rank0_byte3\": 0,\n",
            "    \"rdvref_left_vref_low_bound_nibble15\": 0,\n",
            "    \"f0_rdprbs_pqtr_right_margin_nibble14\": 0,\n",
            "    \"f0_rdprbs_nqtr_right_margin_nibble13\": 0,\n",
            "    \"cal_stage_time_39\": 0,\n",
            "    \"f0_wrdqdbi_stg2_dq_odly_bit03\": 56,\n",
            "    \"f1_rdcmplx_nqtr_final_nibble05\": 0,\n",
            "    \"rdvref_left_vref_def_nibble03\": 0,\n",
            "    \"f0_calbisc_rl_dly_qtr_nibble07\": 79,\n",
            "    \"f0_wrdqdbi_stg3_dq_odly_bit00\": 56,\n",
            "    \"f1_wrlvl_fine_left_rank0_byte5\": 0,\n",
            "    \"f0_wrdqdbi_deskew_dbi_odly_fcrse_byte2\": 106,\n",
            "    \"f0_rdcmplx_pqtr_right_nibble03\": 158,\n",
            "    \"f0_wrdqdbi_stg3_dq_odly_bit27\": 71,\n",
            "    \"dqstrack_rldlyrnk_crse_min_byte0\": 3,\n",
            "    \"f1_wrprbs_left_margin_byte1\": 0,\n",
            "    \"bisc_pqtr_nibble06\": 80,\n",
            "    \"f0_dqsgate_stg1_overflow_43\": 0,\n",
            "    \"f0_wrprbs_right_margin_byte5\": 0,\n",
            "    \"cal_seq_status_30\": 301,\n",
            "    \"f0_dqsgate_stg1_overflow_46\": 0,\n",
            "    \"nsu2_perf_filter_en_0\": 0,\n",
            "    \"bisc_idly2_align_nibble09\": 74,\n",
            "    \"f0_rddq_nqtr_right_nibble12\": 171,\n",
            "    \"f0_wrdqdbi_deskew_dq_odly_fcrse_bit17\": 86,\n",
            "    \"f1_wrlvl_fine_final_rank0_byte2\": 0,\n",
            "    \"f1_wrdqdbi_odly_dqs_final_byte6\": 0,\n",
            "    \"nsu1_perf_filter_0_1\": 0,\n",
            "    \"wrvref_vref_upp_bound_rank0_byte2\": 0,\n",
            "    \"f0_wrlvl_crse_stg1_rank0_byte2\": 0,\n",
            "    \"f0_wrdqdbi_odly_dbi_final_byte1\": 71,\n",
            "    \"f1_wrdqdbi_deskew_dq_odly_fcrse_bit46\": 0,\n",
            "    \"f1_wrcmplx_odly_dq_final_bit05\": 0,\n",
            "    \"f1_wrdqdbi_stg5_dqs_odly_byte7\": 0,\n",
            "    \"f1_wrlat_phy_data_nib_final_byte6\": 0,\n",
            "    \"f0_wrdqdbi_stg2_dq_odly_bit15\": 62,\n",
            "    \"f0_rd_comp_fall_lm_nib_11\": [\n",
            "        63,\n",
            "        127\n",
            "    ],\n",
            "    \"f0_dqsgate_stg1_overflow_22\": 0,\n",
            "    \"f1_wrcmplx_right_margin_fcrse_byte7\": 0,\n",
            "    \"f0_wrdqdbi_deskew_dq_odly_fcrse_bit12\": 142,\n",
            "    \"f0_wrdqdbi_odly_dq_final_bit50\": 57,\n",
            "    \"cal_warning_69\": 0,\n",
            "    \"f0_rdprbs_nqtr_right_margin_nibble01\": 0,\n",
            "    \"f1_wrdqdbi_stg3_dq_odly_bit11\": 0,\n",
            "    \"f1_wrlvl_crse_stg1_rank0_byte3\": 0,\n",
            "    \"bisc_nqtr_align_nibble08\": 0,\n",
            "    \"f0_wrdqdbi_stg3_dq_odly_bit21\": 26,\n",
            "    \"f0_wrcmplx_odly_dq_final_bit24\": 76,\n",
            "    \"f1_wrdqdbi_stg5_dqs_odly_byte0\": 0,\n",
            "    \"f0_rd_simp_rise_ctp_nib_13\": [\n",
            "        98,\n",
            "        191\n",
            "    ],\n",
            "    \"rdvref_left_vref_low_bound_nibble12\": 0,\n",
            "    \"f0_rdcmplx_nqtr_right_short_fcrse_nibble15\": 170,\n",
            "    \"f0_wrdqdbi_left_edge_dq_bit57\": 73,\n",
            "    \"f1_wrdqdbi_deskew_dq_odly_bit46\": 0,\n",
            "    \"f1_dqsgate_stg1_overflow_23\": 0,\n",
            "    \"f1_wrdqdbi_left_edge_dbi_byte7\": 0,\n",
            "    \"rdmargin_nqtr_left_nibble00\": 0,\n",
            "    \"cal_warning_68\": 0,\n",
            "    \"wrvref_right_vref_def_rank0_byte6\": 0,\n",
            "    \"f0_dqsgate_stg2_rldlyrnk_crse_rank0_byte2\": 1,\n",
            "    \"nsu1_perf_mon_0_2\": 0,\n",
            "    \"f0_wrdqdbi_deskew_dq_odly_fcrse_bit05\": 136,\n",
            "    \"f1_rddq_idelay_final_bit11\": 0,\n",
            "    \"f1_rddq_nqtr_right_nibble07\": 0,\n",
            "    \"f0_wrlvl_crse_stg1_rank0_byte5\": 3,\n",
            "    \"f1_dqsgate_stg1_rldlyrnk_crse_rank0_byte3\": 0,\n",
            "    \"rdmargin_pqtr_right_nibble15\": 0,\n",
            "    \"f1_wrdqdbi_stg2_dq_odly_bit62\": 0,\n",
            "    \"f0_calbisc_rl_dly_nqtr_nibble11\": 77,\n",
            "    \"f0_rdcmplx_nqtr_left_short_nibble01\": 28,\n",
            "    \"dc1_perf_mon_8\": 0,\n",
            "    \"f1_rddq_pqtr_right_fcrse_nibble13\": 0,\n",
            "    \"f0_rdcmplx_nqtr_final_nibble02\": 89,\n",
            "    \"cal_seq_status_03\": 261,\n",
            "    \"f0_wrdqdbi_deskew_dq_odly_fcrse_bit01\": 126,\n",
            "    \"f1_rdprbs_nqtr_left_margin_nibble04\": 0,\n",
            "    \"f1_wrdqdbi_left_edge_dq_bit46\": 0,\n",
            "    \"f0_wrdqdbi_deskew_dq_odly_bit18\": 105,\n",
            "    \"f0_rdcmplx_pqtr_right_nibble10\": 158,\n",
            "    \"f0_rd_simp_rise_lm_nib_14\": [\n",
            "        77,\n",
            "        148\n",
            "    ],\n",
            "    \"f0_wrdqdbi_stg3_dq_odly_bit60\": 74,\n",
            "    \"f1_rdcmplx_pqtr_left_short_nibble13\": 0,\n",
            "    \"cal_stage_time_14\": 6,\n",
            "    \"f1_rddq_nqtr_final_nibble12\": 0,\n",
            "    \"f0_mr3_8_0\": 32,\n",
            "    \"cal_warning_18\": 0,\n",
            "    \"f1_wrlvl_crse_final_rank0_byte6\": 0,\n",
            "    \"ddrmc_isr_na_cmd_fatal\": 0,\n",
            "    \"f0_dqsgate_stg1_rldlyrnk_fine_rank0_byte2\": 55,\n",
            "    \"f0_wrlat_phy_data_nib_final_byte6\": 1,\n",
            "    \"f0_dqsgate_stg1_rldlyrnk_crse_rank0_byte7\": 5,\n",
            "    \"cal_seq_status_40\": 445,\n",
            "    \"wrvref_right_vref_final_rank0_byte2\": 0,\n",
            "    \"f0_wrlvl_noise_fcrse_rank0_byte0\": 55,\n",
            "    \"f0_wrdqdbi_stg2_dq_odly_bit27\": 71,\n",
            "    \"f0_rdcmplx_pqtr_left_nibble06\": 22,\n",
            "    \"f0_wrdqdbi_stg2_dq_odly_bit22\": 26,\n",
            "    \"f1_rddq_idelay_final_bit24\": 0,\n",
            "    \"f0_wrdqdbi_deskew_dq_odly_fcrse_bit31\": 151,\n",
            "    \"f1_wrdqdbi_stg3_dq_odly_bit45\": 0,\n",
            "    \"f0_calbisc_rl_dly_pqtr_nibble12\": 79,\n",
            "    \"f1_wrdqdbi_odly_dq_final_bit44\": 0,\n",
            "    \"f1_wrlat_match_rank0_byte5\": 0,\n",
            "    \"f0_rd_comp_fall_ctp_nib_06\": [\n",
            "        85,\n",
            "        164\n",
            "    ],\n",
            "    \"f1_wrdqdbi_deskew_dq_odly_bit58\": 0,\n",
            "    \"mgchk_abort\": 0,\n",
            "    \"f1_rdprbs_nqtr_left_margin_nibble10\": 0,\n",
            "    \"phy_rden23_dly\": 25,\n",
            "    \"phy_oe_nib11_dly\": 0,\n",
            "    \"wrvref_vref_low_bound_rank0_byte6\": 0,\n",
            "    \"rdmargin_pqtr_left_nibble04\": 0,\n",
            "    \"f0_wrdqdbi_left_edge_dq_bit24\": 74,\n",
            "    \"rdvref_left_vref_def_nibble15\": 0,\n",
            "    \"f1_wrdqdbi_stg3_dq_odly_bit44\": 0,\n",
            "    \"f0_rdprbs_pqtr_left_margin_nibble14\": 0,\n",
            "    \"f1_wrdqdbi_stg2_dq_odly_bit61\": 0,\n",
            "    \"f1_wrcmplx_odly_dq_final_bit07\": 0,\n",
            "    \"f0_wrcmplx_left_margin_byte1\": 73,\n",
            "    \"cal_warning_57\": 0,\n",
            "    \"phy_rden10_dly\": 22,\n",
            "    \"f0_wrdqdbi_deskew_dq_odly_bit36\": 176,\n",
            "    \"f0_wrdqdbi_stg3_dq_odly_bit49\": 47,\n",
            "    \"c_code_minor_ver\": 1,\n",
            "    \"f0_wrdqdbi_left_edge_dq_bit12\": 62,\n",
            "    \"f1_rdcmplx_pqtr_right_short_fcrse_nibble15\": 0,\n",
            "    \"rdvref_right_vref_low_bound_nibble05\": 0,\n",
            "    \"f0_wrlat_match_rank0_byte3\": 17,\n",
            "    \"cal_warning_48\": 0,\n",
            "    \"bisc_pqtr_align_nibble10\": 0,\n",
            "    \"cal_warning_60\": 0,\n",
            "    \"f1_dqsgate_stg1_overflow_37\": 0,\n",
            "    \"bisc_pqtr_nibble01\": 80,\n",
            "    \"f1_wrdqdbi_left_edge_dbi_byte4\": 0,\n",
            "    \"rdvref_left_vref_final_nibble03\": 0,\n",
            "    \"f1_wrlat_match_rank0_byte2\": 0,\n",
            "    \"cal_seq_status_48\": 0,\n",
            "    \"f1_wrdqdbi_deskew_dbi_odly_byte0\": 0,\n",
            "    \"cal_warning_45\": 0,\n",
            "    \"f0_wrdqdbi_stg3_dq_odly_bit17\": 26,\n",
            "    \"rdmargin_nqtr_right_nibble01\": 0,\n",
            "    \"wrvref_vref_upp_bound_rank0_byte5\": 0,\n",
            "    \"f0_rddq_idelay_final_bit25\": 76,\n",
            "    \"f0_wrlvl_offset_rank0_byte0\": 80,\n",
            "    \"f0_wrdqdbi_stg2_dq_odly_bit14\": 62,\n",
            "    \"f1_mr1_8_0\": 0,\n",
            "    \"f1_rddq_nqtr_left_nibble02\": 0,\n",
            "    \"cal_seq_status_39\": 444,\n",
            "    \"f0_dqsgate_stg1_overflow_36\": 0,\n",
            "    \"f1_wrdqdbi_deskew_dq_odly_fcrse_bit25\": 0,\n",
            "    \"cal_seq_status_09\": 396,\n",
            "    \"f0_rdcmplx_pqtr_right_short_fcrse_nibble04\": 179,\n",
            "    \"f1_calbisc_rl_dly_nqtr_nibble11\": 0,\n",
            "    \"0x01_F0_MEM_INIT\": \"Pass\",\n",
            "    \"error_code_ver\": 2,\n",
            "    \"ub_instr_ce\": 0,\n",
            "    \"mem_ranks\": 1,\n",
            "    \"f1_wrlvl_offset_rank0_byte0\": 0,\n",
            "    \"f1_wrdqdbi_stg4_dqs_delay_byte3\": 0,\n",
            "    \"f1_mr0_17_9\": 0,\n",
            "    \"f0_wrdqdbi_stg2_dq_odly_bit00\": 56,\n",
            "    \"bisc_idly0_align_nibble07\": 76,\n",
            "    \"cal_seq_status_12\": 398,\n",
            "    \"f1_wrlvl_fine_right_rank0_byte1\": 0,\n",
            "    \"f0_rddq_idelay_final_bit07\": 82,\n",
            "    \"wrvref_right_vref_low_bound_rank0_byte4\": 0,\n",
            "    \"ddrmc_isr_uc0_ecc0\": 0,\n",
            "    \"f1_mr6_17_9\": 0,\n",
            "    \"f0_wrdqdbi_stg3_dq_odly_bit36\": 96,\n",
            "    \"xpi_oe\": 258,\n",
            "    \"f0_wrdqdbi_odly_dq_final_bit34\": 102,\n",
            "    \"phy_rden22_dly\": 25,\n",
            "    \"wrvref_vref_final_rank0_byte6\": 0,\n",
            "    \"f1_calbisc_rl_dly_qtr_nibble06\": 0,\n",
            "    \"xpi_write_dm_dbi\": 1,\n",
            "    \"f0_wrdqdbi_stg2_dq_odly_bit39\": 96,\n",
            "    \"f0_wrdqdbi_left_edge_dq_bit01\": 56,\n",
            "    \"f1_rddq_pqtr_right_nibble01\": 0,\n",
            "    \"cal_seq_status_36\": 307,\n",
            "    \"f0_rd_simp_rise_lm_nib_04\": [\n",
            "        77,\n",
            "        152\n",
            "    ],\n",
            "    \"f1_wrdqdbi_deskew_dq_odly_bit06\": 0,\n",
            "    \"dc0_perf_mon_8\": 0,\n",
            "    \"cal_stage.09_F0_WRITE_DQ_DBI_CAL_COMPLEX\": \"Pass\",\n",
            "    \"rdvref_vref_final_nibble12\": 0,\n",
            "    \"f1_wrcmplx_odly_dq_final_bit39\": 0,\n",
            "    \"f0_wrdqdbi_left_edge_dq_bit20\": 29,\n",
            "    \"f1_dqsgate_read_lat_final_byte5\": 0,\n",
            "    \"f0_wr_comp_ctp_byte_05\": [\n",
            "        305,\n",
            "        611\n",
            "    ],\n",
            "    \"f1_wrdqdbi_deskew_dq_odly_bit00\": 0,\n",
            "    \"nsu0_perf_mon_ctl_1_1\": 0,\n",
            "    \"f1_wrdqdbi_odly_dq_final_bit37\": 0,\n",
            "    \"dqstrack_rldlyrnk_crse_byte4\": 5,\n",
            "    \"f0_rdcmplx_nqtr_right_short_nibble09\": 163,\n",
            "    \"f0_rdcmplx_pqtr_final_nibble01\": 94,\n",
            "    \"f0_rddq_nqtr_right_nibble01\": 174,\n",
            "    \"f0_wrdqdbi_deskew_dbi_odly_fcrse_byte6\": 117,\n",
            "    \"f0_rdcmplx_nqtr_final_nibble10\": 82,\n",
            "    \"f1_dqsgate_stg2_read_lat_rank0_byte1\": 0,\n",
            "    \"f1_rdcmplx_nqtr_right_nibble10\": 0,\n",
            "    \"f0_rdcmplx_nqtr_right_short_nibble03\": 170,\n",
            "    \"f1_rddq_idelay_final_bit30\": 0,\n",
            "    \"f1_wrdqdbi_deskew_dq_odly_fcrse_bit06\": 0,\n",
            "    \"ip_config_ver\": 1,\n",
            "    \"vttrack_rldlyqtr_max_nibble07\": 83,\n",
            "    \"f1_rdcmplx_pqtr_right_short_nibble09\": 0,\n",
            "    \"f1_rdcmplx_nqtr_right_short_nibble10\": 0,\n",
            "    \"f0_wrdqdbi_left_edge_dq_bit21\": 29,\n",
            "    \"f1_wrdqdbi_deskew_dq_odly_fcrse_bit38\": 0,\n",
            "    \"f1_rddq_pqtr_final_nibble13\": 0,\n",
            "    \"f0_rddq_idelay_final_bit42\": 75,\n",
            "    \"bisc_idly2_align_nibble07\": 75,\n",
            "    \"f1_rdprbs_pqtr_right_margin_nibble15\": 0,\n",
            "    \"f1_rddq_idelay_final_bit29\": 0,\n",
            "    \"f0_rdcmplx_nqtr_final_nibble01\": 93,\n",
            "    \"f1_wrdqdbi_odly_dqs_final_byte1\": 0,\n",
            "    \"f0_wrdqdbi_stg3_dq_odly_bit06\": 56,\n",
            "    \"f0_wr_simp_rm_byte_04\": [\n",
            "        77,\n",
            "        152\n",
            "    ],\n",
            "    \"wrvref_left_vref_final_rank0_byte5\": 0,\n",
            "    \"f1_rddq_idelay_final_bit20\": 0,\n",
            "    \"f0_wr_comp_lm_byte_04\": [\n",
            "        70,\n",
            "        138\n",
            "    ],\n",
            "    \"f1_wrdqdbi_stg3_dq_odly_bit51\": 0,\n",
            "    \"vttrack_rldlyqtr_nibble01\": 79,\n",
            "    \"f1_rddq_idelay_final_bit15\": 0,\n",
            "    \"rdvref_left_vref_low_bound_nibble14\": 0,\n",
            "    \"f0_wrcmplx_odly_dq_final_bit49\": 54,\n",
            "    \"f0_dqsgate_stg1_overflow_52\": 0,\n",
            "    \"f0_rddq_pqtr_left_nibble02\": 18,\n",
            "    \"dqstrack_rldlyrnk_fine_min_byte6\": 77,\n",
            "    \"wrvref_right_vref_upp_bound_rank0_byte7\": 0,\n",
            "    \"f1_dqsgate_stg1_rldlyrnk_crse_rank0_byte6\": 0,\n",
            "    \"bisc_pqtr_nibble11\": 77,\n",
            "    \"f0_rddq_idelay_final_bit04\": 77,\n",
            "    \"bisc_pqtr_align_nibble00\": 1,\n",
            "    \"f0_rdprbs_pqtr_left_margin_nibble02\": 0,\n",
            "    \"f1_rddq_idelay_final_bit26\": 0,\n",
            "    \"f1_dqsgate_stg1_read_lat_rank0_byte4\": 0,\n",
            "    \"f0_wrdqdbi_odly_dq_final_bit15\": 66,\n",
            "    \"f0_wrdqdbi_deskew_dq_odly_fcrse_bit50\": 127,\n",
            "    \"f0_rddq_pqtr_right_fcrse_nibble12\": 173,\n",
            "    \"f0_wrdqdbi_left_edge_dq_bit59\": 70,\n",
            "    \"f0_wrdqdbi_odly_dq_final_bit44\": 75,\n",
            "    \"health_status\": \"GOOD\",\n",
            "    \"f0_wrdqdbi_odly_dq_final_bit61\": 91,\n",
            "    \"f1_rdcmplx_nqtr_left_nibble14\": 0,\n",
            "    \"f1_rddq_idelay_final_bit10\": 0,\n",
            "    \"cal_seq_status_35\": 306,\n",
            "    \"f1_rdcmplx_nqtr_right_nibble06\": 0,\n",
            "    \"f1_wrdqdbi_stg2_dqs_odly_byte2\": 0,\n",
            "    \"rdmargin_pqtr_left_nibble05\": 0,\n",
            "    \"f1_rdcmplx_nqtr_left_short_nibble13\": 0,\n",
            "    \"f0_rd_comp_fall_ctp_nib_04\": [\n",
            "        89,\n",
            "        176\n",
            "    ],\n",
            "    \"ddrmc_isr_uc1_ecc1\": 0,\n",
            "    \"f0_wrdqdbi_left_edge_dq_bit09\": 60,\n",
            "    \"f0_wrlat_phy_data_nib_final_byte5\": 1,\n",
            "    \"rdvref_vref_low_bound_nibble01\": 0,\n",
            "    \"f0_wrcmplx_odly_dq_final_bit11\": 64,\n",
            "    \"f1_wrdqdbi_stg2_dq_odly_bit12\": 0,\n",
            "    \"f1_rdcmplx_nqtr_left_short_nibble02\": 0,\n",
            "    \"nsu3_perf_mon_1_2\": 0,\n",
            "    \"f0_rd_comp_fall_ctp_nib_07\": [\n",
            "        85,\n",
            "        168\n",
            "    ],\n",
            "    \"bisc_rl_dly_qtr_nibble06\": 80,\n",
            "    \"f0_rdcmplx_nqtr_left_nibble02\": 28,\n",
            "    \"f1_mr3_17_9\": 0,\n",
            "    \"f1_wrcmplx_right_margin_fcrse_byte3\": 0,\n",
            "    \"f1_wrcmplx_odly_dq_final_bit22\": 0,\n",
            "    \"f0_calbisc_rl_dly_nqtr_nibble03\": 80,\n",
            "    \"f0_wrdqdbi_deskew_dq_odly_fcrse_bit44\": 145,\n",
            "    \"bisc_pqtr_align_nibble04\": 0,\n",
            "    \"f0_rdcmplx_pqtr_right_nibble14\": 163,\n",
            "    \"f0_rd_simp_rise_ctp_nib_01\": [\n",
            "        92,\n",
            "        180\n",
            "    ],\n",
            "    \"power_down_exit_restore_error\": 0,\n",
            "    \"f0_wrprbs_right_margin_byte6\": 0,\n",
            "    \"f1_wrlvl_crse_final_rank0_byte4\": 0,\n",
            "    \"f0_wrcmplx_right_margin_byte5\": 68,\n",
            "    \"iobmap_dq_13_12\": 0,\n",
            "    \"f0_wrdqdbi_left_edge_dq_bit43\": 45,\n",
            "    \"rdmargin_nqtr_left_nibble10\": 0,\n",
            "    \"rdmargin_pqtr_right_nibble04\": 0,\n",
            "    \"f0_wrdqdbi_stg1_dqs_delay_byte5\": 71,\n",
            "    \"f0_rdcmplx_nqtr_left_short_nibble10\": 19,\n",
            "    \"f1_rddq_idelay_final_bit05\": 0,\n",
            "    \"dqstrack_rldlyrnk_fine_byte5\": 35,\n",
            "    \"f1_calbisc_rl_dly_pqtr_nibble05\": 0,\n",
            "    \"f0_rd_comp_rise_lm_nib_15\": [\n",
            "        69,\n",
            "        136\n",
            "    ],\n",
            "    \"cal_warning_00\": 0,\n",
            "    \"f0_dqsgate_read_lat_final_byte0\": 25,\n",
            "    \"f0_wrcmplx_odly_dqs_final_byte4\": 117,\n",
            "    \"f0_wrcmplx_right_margin_fcrse_byte3\": 60,\n",
            "    \"cal_stage_time_60\": 17,\n",
            "    \"phy_oe_nib22_dly\": 0,\n",
            "    \"f0_rdcmplx_pqtr_left_short_nibble01\": 24,\n",
            "    \"f1_rddq_qtr_deskew_nibble05\": 0,\n",
            "    \"f0_wrdqdbi_stg1_dqs_delay_byte6\": 63,\n",
            "    \"f0_wrprbs_left_margin_byte5\": 0,\n",
            "    \"f1_rdprbs_nqtr_right_margin_nibble00\": 0,\n",
            "    \"f1_rdcmplx_pqtr_left_nibble09\": 0,\n",
            "    \"f0_wrdqdbi_deskew_dq_odly_bit28\": 140,\n",
            "    \"f0_wrdqdbi_deskew_dq_odly_fcrse_bit28\": 131,\n",
            "    \"f1_rdcmplx_nqtr_left_nibble11\": 0,\n",
            "    \"f0_rd_simp_rise_rm_nib_10\": [\n",
            "        76,\n",
            "        148\n",
            "    ],\n",
            "    \"f0_wrdqdbi_odly_dq_final_bit08\": 63,\n",
            "    \"f0_wrdqdbi_deskew_dq_odly_fcrse_bit16\": 116,\n",
            "    \"rdvref_left_vref_final_nibble08\": 0,\n",
            "    \"f1_rddq_qtr_deskew_nibble13\": 0,\n",
            "    \"f1_wrdqdbi_deskew_dq_odly_bit42\": 0,\n",
            "    \"f0_dram_2t_mode\": 0,\n",
            "    \"bisc_mon_align_nibble07\": 0,\n",
            "    \"cal_stage_time_37\": 0,\n",
            "    \"rdmargin_nqtr_right_nibble05\": 0,\n",
            "    \"f0_wrdqdbi_stg1_bit_status_byte5\": 0,\n",
            "    \"f0_wrcmplx_odly_dq_final_bit32\": 112,\n",
            "    \"f0_wrdqdbi_stg3_dq_odly_bit01\": 56,\n",
            "    \"f0_wrdqdbi_deskew_dq_odly_fcrse_bit56\": 164,\n",
            "    \"f1_wrdqdbi_left_margin_byte2\": 0,\n",
            "    \"bisc_idly4_align_nibble02\": 72,\n",
            "    \"f1_wrdqdbi_stg2_dqs_odly_byte0\": 0,\n",
            "    \"f1_wrdqdbi_stg2_dq_odly_bit60\": 0,\n",
            "    \"f1_wrdqdbi_stg3_dq_odly_bit15\": 0,\n",
            "    \"f1_wrlvl_fine_left_rank0_byte0\": 0,\n",
            "    \"f1_wrdqdbi_stg3_dq_odly_bit30\": 0,\n",
            "    \"f1_wrdqdbi_odly_dq_final_bit51\": 0,\n",
            "    \"f1_rddq_pqtr_left_nibble13\": 0,\n",
            "    \"iobmap_dq_63_62\": 0,\n",
            "    \"reg_safe_config7\": 262696,\n",
            "    \"f0_rddq_idelay_final_bit26\": 62,\n",
            "    \"f1_rddq_nqtr_right_nibble15\": 0,\n",
            "    \"cal_warning_26\": 0,\n",
            "    \"f1_dram_2t_mode\": 1,\n",
            "    \"f1_rdcmplx_nqtr_left_nibble06\": 0,\n",
            "    \"tag_ver_2\": 0,\n",
            "    \"f0_wrlvl_crse_final_rank0_byte1\": 3,\n",
            "    \"f0_rd_simp_fall_ctp_nib_11\": [\n",
            "        93,\n",
            "        189\n",
            "    ],\n",
            "    \"f1_dqsgate_stg2_rldlyrnk_crse_rank0_byte5\": 0,\n",
            "    \"f1_rddq_pqtr_left_nibble02\": 0,\n",
            "    \"rdvref_right_vref_def_nibble11\": 0,\n",
            "    \"f1_wrdqdbi_deskew_dq_odly_bit51\": 0,\n",
            "    \"f1_wrdqdbi_odly_dq_final_bit56\": 0,\n",
            "    \"f0_rd_comp_fall_lm_nib_12\": [\n",
            "        60,\n",
            "        117\n",
            "    ],\n",
            "    \"dqstrack_rldlyrnk_fine_byte2\": 59,\n",
            "    \"f1_mr2_17_9\": 0,\n",
            "    \"phy_rden9_dly\": 22,\n",
            "    \"dqstrack_rldlyrnk_crse_min_byte3\": 2,\n",
            "    \"f1_wrdqdbi_deskew_dq_odly_fcrse_bit41\": 0,\n",
            "    \"f1_wrdqdbi_left_edge_dbi_byte1\": 0,\n",
            "    \"phy_oe_nib18_dly\": 0,\n",
            "    \"f0_wrdqdbi_right_margin_byte2\": 67,\n",
            "    \"f1_wrcmplx_right_margin_byte4\": 0,\n",
            "    \"rdvref_right_vref_upp_bound_nibble00\": 0,\n",
            "    \"f1_rddq_pqtr_final_nibble05\": 0,\n",
            "    \"f0_wrlat_phy_oe_nib_final_byte5\": 1,\n",
            "    \"f0_wrcmplx_left_margin_byte3\": 71,\n",
            "    \"dqstrack_rldlyrnk_fine_byte6\": 77,\n",
            "    \"nsu3_perf_mon_ctl_0_0\": 0,\n",
            "    \"bisc_mon_align_nibble11\": 0,\n",
            "    \"f0_rdcmplx_nqtr_right_nibble01\": 157,\n",
            "    \"f0_rd_comp_rise_lm_nib_04\": [\n",
            "        66,\n",
            "        130\n",
            "    ],\n",
            "    \"bisc_idly4_align_nibble12\": 71,\n",
            "    \"f0_wrcmplx_odly_dq_final_bit42\": 68,\n",
            "    \"f1_wrdqdbi_stg3_dq_odly_bit49\": 0,\n",
            "    \"rdmargin_nqtr_left_nibble08\": 0,\n",
            "    \"f1_wrdqdbi_stg2_dq_odly_bit15\": 0,\n",
            "    \"f1_wrdqdbi_deskew_dq_odly_bit28\": 0,\n",
            "    \"f0_rddq_idelay_final_bit08\": 69,\n",
            "    \"f0_rd_simp_fall_rm_nib_11\": [\n",
            "        72,\n",
            "        146\n",
            "    ],\n",
            "    \"nsu3_perf_filter_0_1\": 0,\n",
            "    \"ddrmc_pcsr_status_calerror\": 0,\n",
            "    \"f0_dqsgate_stg1_overflow_40\": 0,\n",
            "    \"cal_seq_status_34\": 305,\n",
            "    \"f1_wrdqdbi_odly_dq_final_bit20\": 0,\n",
            "    \"f0_wrlvl_fine_final_rank0_byte4\": 96,\n",
            "    \"rdmargin_nqtr_right_nibble03\": 0,\n",
            "    \"f0_rd_simp_rise_lm_nib_03\": [\n",
            "        75,\n",
            "        148\n",
            "    ],\n",
            "    \"f1_wrcmplx_odly_dq_final_bit62\": 0,\n",
            "    \"f0_rddq_idelay_final_bit16\": 82,\n",
            "    \"f1_wrlvl_noise_fcrse_rank0_byte7\": 0,\n",
            "    \"cal_error_bit_phy_nibble_04\": 0,\n",
            "    \"f0_rddq_nqtr_right_fcrse_nibble06\": 180,\n",
            "    \"f1_rdcmplx_pqtr_right_short_nibble12\": 0,\n",
            "    \"f1_rddq_pqtr_final_nibble03\": 0,\n",
            "    \"ecc_en\": 0,\n",
            "    \"cal_error_bit_phy_nibble_20\": 0,\n",
            "    \"f1_dqsgate_stg1_overflow_31\": 0,\n",
            "    \"f1_lp4_mr13\": 0,\n",
            "    \"phy_oe_nib17_dly\": 0,\n",
            "    \"rdvref_left_vref_final_nibble02\": 0,\n",
            "    \"wrvref_right_vref_final_rank0_byte3\": 0,\n",
            "    \"bisc_idly4_align_nibble13\": 81,\n",
            "    \"cal_seq_status_17\": 403,\n",
            "    \"f0_rdprbs_nqtr_right_margin_nibble06\": 0,\n",
            "    \"f1_rdcmplx_nqtr_left_nibble09\": 0,\n",
            "    \"f1_rdprbs_nqtr_right_margin_nibble10\": 0,\n",
            "    \"f0_rd_comp_rise_rm_nib_08\": [\n",
            "        66,\n",
            "        128\n",
            "    ],\n",
            "    \"f0_rdcmplx_pqtr_right_short_fcrse_nibble09\": 182,\n",
            "    \"f0_wrcmplx_odly_dq_final_bit12\": 77,\n",
            "    \"ub_ub_msg\": 0,\n",
            "    \"f0_rd_simp_fall_rm_nib_00\": [\n",
            "        73,\n",
            "        139\n",
            "    ],\n",
            "    \"bisc_idly5_align_nibble10\": 73,\n",
            "    \"iobmap_dqs_7\": 0,\n",
            "    \"f1_xpll_divclk_lt\": 1,\n",
            "    \"rdvref_vref_upp_bound_nibble12\": 0,\n",
            "    \"mgchk_rd_vref_1\": 0,\n",
            "    \"f0_rddq_nqtr_left_nibble06\": 25,\n",
            "    \"f1_wrlvl_crse_stg1_rank0_byte4\": 0,\n",
            "    \"f0_wrdqdbi_odly_dq_final_bit00\": 66,\n",
            "    \"f1_wrdqdbi_left_edge_dq_bit17\": 0,\n",
            "    \"f1_wrdqdbi_odly_dq_final_bit54\": 0,\n",
            "    \"f0_rddq_idelay_final_bit58\": 70,\n",
            "    \"f0_wr_simp_ctp_byte_00\": [\n",
            "        232,\n",
            "        453\n",
            "    ],\n",
            "    \"rdvref_right_vref_low_bound_nibble15\": 0,\n",
            "    \"f0_wrdqdbi_odly_dq_final_bit14\": 65,\n",
            "    \"f0_rddq_idelay_final_bit50\": 73,\n",
            "    \"f0_rd_comp_rise_rm_nib_15\": [\n",
            "        70,\n",
            "        138\n",
            "    ],\n",
            "    \"wrvref_vref_upp_bound_rank0_byte7\": 0,\n",
            "    \"write_data_bitslip_en\": 0,\n",
            "    \"f0_wrdqdbi_right_edge_dqs_byte2\": 109,\n",
            "    \"f1_tck_lsb\": 113,\n",
            "    \"f1_wrdqdbi_stg2_dqs_odly_byte4\": 0,\n",
            "    \"f1_rdcmplx_nqtr_right_nibble13\": 0,\n",
            "    \"f0_rd_simp_rise_lm_nib_07\": [\n",
            "        78,\n",
            "        154\n",
            "    ],\n",
            "    \"f0_rdcmplx_pqtr_left_short_nibble14\": 21,\n",
            "    \"f0_wrdqdbi_stg2_dqs_odly_byte6\": 63,\n",
            "    \"f0_wrcmplx_odly_dq_final_bit46\": 74,\n",
            "    \"f0_dqsgate_read_lat_final_byte4\": 27,\n",
            "    \"f0_wrdqdbi_stg2_dq_odly_bit53\": 47,\n",
            "    \"f0_rdprbs_nqtr_left_margin_nibble06\": 0,\n",
            "    \"f1_dqsgate_stg1_rldlyrnk_crse_rank0_byte7\": 0,\n",
            "    \"f1_wrdqdbi_deskew_dq_odly_bit63\": 0,\n",
            "    \"f1_rdcmplx_nqtr_final_nibble03\": 0,\n",
            "    \"f0_rddq_pqtr_final_nibble11\": 95,\n",
            "    \"f1_rddq_pqtr_final_nibble09\": 0,\n",
            "    \"f1_rddq_nqtr_right_fcrse_nibble06\": 0,\n",
            "    \"bisc_idly3_align_nibble08\": 69,\n",
            "    \"f1_wrdqdbi_left_edge_dq_bit57\": 0,\n",
            "    \"f1_wrcmplx_odly_dqs_final_byte2\": 0,\n",
            "    \"f1_rdcmplx_pqtr_right_nibble10\": 0,\n",
            "    \"f1_wrdqdbi_stg3_dq_odly_bit23\": 0,\n",
            "    \"f0_wrdqdbi_stg3_dq_odly_bit10\": 62,\n",
            "    \"f0_rdcmplx_nqtr_final_nibble12\": 83,\n",
            "    \"f0_calbisc_rl_dly_pqtr_nibble14\": 81,\n",
            "    \"bisc_idly2_align_nibble14\": 67,\n",
            "    \"f0_rdcmplx_pqtr_right_nibble13\": 167,\n",
            "    \"dqstrack_rldlyrnk_crse_byte0\": 3,\n",
            "    \"wrvref_vref_low_bound_rank0_byte1\": 0,\n",
            "    \"f0_calbisc_rl_dly_pqtr_nibble08\": 80,\n",
            "    \"f1_rddq_nqtr_final_nibble10\": 0,\n",
            "    \"iobmap_dq_37_36\": 0,\n",
            "    \"cal_warning_66\": 0,\n",
            "    \"dqstrack_rldlyrnk_fine_max_byte4\": 44,\n",
            "    \"f0_wrdqdbi_left_edge_dq_bit61\": 81,\n",
            "    \"f1_wrdqdbi_right_edge_dqs_byte7\": 0,\n",
            "    \"f1_wrdqdbi_odly_dq_final_bit60\": 0,\n",
            "    \"f1_rdprbs_pqtr_left_margin_nibble15\": 0,\n",
            "    \"f1_dqsgate_stg1_overflow_06\": 0,\n",
            "    \"f1_wrlvl_offset_rank0_byte3\": 0,\n",
            "    \"bisc_pqtr_align_nibble15\": 0,\n",
            "    \"f0_wrcmplx_odly_dbi_final_byte0\": 64,\n",
            "    \"f1_rddq_idelay_final_bit51\": 0,\n",
            "    \"rdmargin_nqtr_left_nibble06\": 0,\n",
            "    \"f0_rdprbs_pqtr_right_margin_nibble15\": 0,\n",
            "    \"f0_wrdqdbi_stg3_dq_odly_bit16\": 26,\n",
            "    \"f1_wrlat_wldlyrnk_crse_final_rank0_byte4\": 0,\n",
            "    \"f0_rddq_idelay_final_bit31\": 80,\n",
            "    \"f0_wrdqdbi_left_margin_byte1\": 82,\n",
            "    \"f1_rdprbs_nqtr_right_margin_nibble02\": 0,\n",
            "    \"f0_wrdqdbi_left_margin_byte4\": 67,\n",
            "    \"dqstrack_rldlyrnk_fine_max_byte7\": 37,\n",
            "    \"f0_wrdqdbi_left_edge_dq_bit33\": 98,\n",
            "    \"vttrack_rldlyqtr_nibble12\": 77,\n",
            "    \"bisc_idly3_align_nibble05\": 81,\n",
            "    \"f1_wrdqdbi_stg3_dq_odly_bit47\": 0,\n",
            "    \"cal_warning_03\": 0,\n",
            "    \"f1_dqsgate_rldlyrnk_crse_final_rank0_byte7\": 0,\n",
            "    \"f1_wrcmplx_odly_dq_final_bit20\": 0,\n",
            "    \"xpi_map_bitslip\": 0,\n",
            "    \"rdvref_vref_final_nibble13\": 0,\n",
            "    \"f0_rddq_pqtr_right_fcrse_nibble09\": 173,\n",
            "    \"f0_dqsgate_stg1_rldlyrnk_fine_rank0_byte3\": 19,\n",
            "    \"vttrack_rldlyqtr_min_nibble08\": 78,\n",
            "    \"rdvref_right_vref_low_bound_nibble08\": 0,\n",
            "    \"f0_rddq_idelay_final_bit14\": 77,\n",
            "    \"f1_wrdqdbi_stg1_bit_status_byte3\": 0,\n",
            "    \"f0_rdcmplx_pqtr_left_nibble04\": 24,\n",
            "    \"f1_wrdqdbi_left_edge_dq_bit58\": 0,\n",
            "    \"f1_wrdqdbi_deskew_dq_odly_fcrse_bit62\": 0,\n",
            "    \"f1_wrprbs_right_margin_byte4\": 0,\n",
            "    \"cal_warning_25\": 0,\n",
            "    \"f1_rdcmplx_pqtr_final_nibble08\": 0,\n",
            "    \"f1_wrdqdbi_deskew_dq_odly_bit30\": 0,\n",
            "    \"f0_rd_comp_rise_rm_nib_05\": [\n",
            "        66,\n",
            "        127\n",
            "    ],\n",
            "    \"f1_calbisc_rl_dly_pqtr_nibble15\": 0,\n",
            "    \"f1_wrdqdbi_odly_dq_final_bit29\": 0,\n",
            "    \"wrvref_left_vref_upp_bound_rank0_byte5\": 0,\n",
            "    \"f1_rddq_idelay_final_bit13\": 0,\n",
            "    \"nsu1_perf_filter_1_1\": 0,\n",
            "    \"f1_tck_msb\": 1,\n",
            "    \"f0_wrdqdbi_deskew_dbi_odly_fcrse_byte4\": 156,\n",
            "    \"f0_rdprbs_pqtr_left_margin_nibble09\": 0,\n",
            "    \"f1_rddq_idelay_final_bit00\": 0,\n",
            "    \"rdvref_right_vref_low_bound_nibble13\": 0,\n",
            "    \"cal_warning_07\": 0,\n",
            "    \"f0_wrlvl_offset_rank0_byte2\": 80,\n",
            "    \"f0_rddq_pqtr_final_nibble02\": 93,\n",
            "    \"f0_wrdqdbi_right_edge_dqs_byte4\": 189,\n",
            "    \"f0_wrcmplx_odly_dqs_final_byte6\": 63,\n",
            "    \"f1_rddq_nqtr_final_nibble15\": 0,\n",
            "    \"f1_wrdqdbi_deskew_dbi_odly_byte5\": 0,\n",
            "    \"f1_wrcmplx_odly_dq_final_bit19\": 0,\n",
            "    \"f1_wrlvl_offset_rank0_byte7\": 0,\n",
            "    \"f0_wrdqdbi_left_edge_dq_bit00\": 65,\n",
            "    \"f0_dqsgate_stg2_read_lat_rank0_byte2\": 26,\n",
            "    \"rdvref_right_vref_final_nibble03\": 0,\n",
            "    \"f0_rd_comp_rise_lm_nib_14\": [\n",
            "        70,\n",
            "        135\n",
            "    ],\n",
            "    \"cal_stage_time_58\": 0,\n",
            "    \"f1_wrdqdbi_deskew_dq_odly_bit55\": 0,\n",
            "    \"rdmargin_nqtr_left_nibble13\": 0,\n",
            "    \"f0_rdcmplx_nqtr_left_short_nibble15\": 24,\n",
            "    \"f0_wrlat_phy_data_nib_final_byte7\": 1,\n",
            "    \"cal_stage_time_62\": 0,\n",
            "    \"f1_rdcmplx_nqtr_right_short_fcrse_nibble10\": 0,\n",
            "    \"cal_warning_76\": 0,\n",
            "    \"rdvref_vref_final_nibble00\": 0,\n",
            "    \"dqstrack_rldlyrnk_fine_max_byte1\": 74,\n",
            "    \"f0_rd_simp_rise_lm_nib_05\": [\n",
            "        78,\n",
            "        150\n",
            "    ],\n",
            "    \"sys_clk_8_0\": 392,\n",
            "    \"f1_wrdqdbi_odly_dq_final_bit09\": 0,\n",
            "    \"ddrmc_pcsr_status_incal\": 0,\n",
            "    \"f1_rdprbs_pqtr_right_margin_nibble01\": 0,\n",
            "    \"f0_rdcmplx_pqtr_left_short_nibble15\": 22,\n",
            "    \"f0_wrlat_wldlyrnk_crse_final_rank0_byte0\": 2,\n",
            "    \"f0_rd_comp_rise_rm_nib_14\": [\n",
            "        71,\n",
            "        136\n",
            "    ],\n",
            "    \"dram_size\": 3,\n",
            "    \"phy_rden24_dly\": 25,\n",
            "    \"f1_rdcmplx_nqtr_right_short_nibble08\": 0,\n",
            "    \"f0_wrdqdbi_stg2_dq_odly_bit07\": 56,\n",
            "    \"ddrmc_isr_nsu_fatal1\": 0,\n",
            "    \"f0_dqsgate_stg1_read_lat_rank0_byte0\": 24,\n",
            "    \"bisc_mon_align_nibble10\": 0,\n",
            "    \"cal_stage_time_44\": 0,\n",
            "    \"f0_wrdqdbi_left_edge_dq_bit46\": 61,\n",
            "    \"f0_wrcmplx_odly_dq_final_bit43\": 58,\n",
            "    \"f1_wrdqdbi_stg1_bit_status_byte4\": 0,\n",
            "    \"f1_wrcmplx_odly_dq_final_bit43\": 0,\n",
            "    \"bisc_rl_dly_qtr_nibble05\": 80,\n",
            "    \"f1_wrdqdbi_stg6_dbi_odly_byte5\": 0,\n",
            "    \"f1_calbisc_rl_dly_nqtr_nibble09\": 0,\n",
            "    \"f1_rddq_idelay_final_bit54\": 0,\n",
            "    \"f0_rdprbs_nqtr_right_margin_nibble15\": 0,\n",
            "    \"f0_wr_simp_ctp_byte_03\": [\n",
            "        89,\n",
            "        175\n",
            "    ],\n",
            "    \"f0_rddq_pqtr_right_fcrse_nibble05\": 183,\n",
            "    \"f1_dqsgate_stg1_overflow_44\": 0,\n",
            "    \"f0_wrdqdbi_deskew_dq_odly_bit37\": 160,\n",
            "    \"vttrack_rldlyqtr_nibble04\": 77,\n",
            "    \"f0_rddq_nqtr_final_nibble09\": 94,\n",
            "    \"rdvref_right_vref_low_bound_nibble09\": 0,\n",
            "    \"f0_rd_simp_rise_rm_nib_14\": [\n",
            "        77,\n",
            "        148\n",
            "    ],\n",
            "    \"f0_wrdqdbi_stg3_dq_odly_bit51\": 47,\n",
            "    \"f1_wrdqdbi_stg2_dq_odly_bit25\": 0,\n",
            "    \"f0_write_latency\": 1,\n",
            "    \"f0_rdprbs_nqtr_right_margin_nibble00\": 0,\n",
            "    \"f0_wrdqdbi_stg2_dq_odly_bit49\": 47,\n",
            "    \"f1_rddq_nqtr_right_nibble06\": 0,\n",
            "    \"f0_rddq_nqtr_right_nibble09\": 166,\n",
            "    \"f1_wrcmplx_odly_dq_final_bit30\": 0,\n",
            "    \"wrvref_left_vref_final_rank0_byte2\": 0,\n",
            "    \"f0_wrcmplx_left_margin_byte7\": 73,\n",
            "    \"f0_xpll_clkoutfb_ht\": 16,\n",
            "    \"f1_wrdqdbi_stg2_dq_odly_bit19\": 0,\n",
            "    \"f1_rdcmplx_nqtr_right_short_fcrse_nibble03\": 0,\n",
            "    \"f1_rdcmplx_pqtr_final_nibble07\": 0,\n",
            "    \"f0_wrdqdbi_stg5_dqs_odly_byte1\": 78,\n",
            "    \"f0_dqsgate_stg1_overflow_07\": 0,\n",
            "    \"f0_calbisc_rl_dly_pqtr_nibble11\": 77,\n",
            "    \"rdvref_right_vref_upp_bound_nibble13\": 0,\n",
            "    \"f0_wrlvl_crse_final_rank0_byte2\": 0,\n",
            "    \"f1_rdcmplx_pqtr_right_short_fcrse_nibble11\": 0,\n",
            "    \"f0_wr_simp_lm_byte_07\": [\n",
            "        84,\n",
            "        167\n",
            "    ],\n",
            "    \"bisc_idly0_align_nibble09\": 74,\n",
            "    \"f1_rdprbs_nqtr_left_margin_nibble09\": 0,\n",
            "    \"f1_rddq_pqtr_right_fcrse_nibble15\": 0,\n",
            "    \"f0_wrcmplx_odly_dbi_final_byte4\": 98,\n",
            "    \"rdmargin_nqtr_left_nibble11\": 0,\n",
            "    \"f1_dqsgate_stg1_overflow_17\": 0,\n",
            "    \"f1_wrcmplx_odly_dbi_final_byte7\": 0,\n",
            "    \"bisc_idly5_align_nibble03\": 78,\n",
            "    \"cal_stage_time_06\": 0,\n",
            "    \"f0_rddq_idelay_final_bit15\": 74,\n",
            "    \"f1_dqsgate_stg1_overflow_05\": 0,\n",
            "    \"cal_seq_status_19\": 283,\n",
            "    \"bisc_idly2_align_nibble05\": 76,\n",
            "    \"f0_rd_simp_fall_rm_nib_09\": [\n",
            "        72,\n",
            "        142\n",
            "    ],\n",
            "    \"rdmargin_nqtr_right_nibble11\": 0,\n",
            "    \"bisc_pqtr_nibble08\": 80,\n",
            "    \"f1_rdcmplx_nqtr_left_short_nibble15\": 0,\n",
            "    \"f0_rdcmplx_nqtr_right_short_fcrse_nibble10\": 175,\n",
            "    \"f1_calbisc_rl_dly_pqtr_nibble08\": 0,\n",
            "    \"f1_wrdqdbi_odly_dq_final_bit31\": 0,\n",
            "    \"f0_wrcmplx_right_margin_byte6\": 61,\n",
            "    \"f1_wrdqdbi_odly_dq_final_bit02\": 0,\n",
            "    \"bisc_nqtr_nibble02\": 80,\n",
            "    \"f0_wr_simp_rm_byte_02\": [\n",
            "        67,\n",
            "        131\n",
            "    ],\n",
            "    \"wrvref_left_vref_low_bound_rank0_byte5\": 0,\n",
            "    \"f0_wrdqdbi_left_edge_dq_bit13\": 57,\n",
            "    \"f1_wrdqdbi_deskew_dq_odly_bit25\": 0,\n",
            "    \"f0_rd_simp_rise_rm_nib_02\": [\n",
            "        76,\n",
            "        146\n",
            "    ],\n",
            "    \"f0_rdprbs_pqtr_left_margin_nibble04\": 0,\n",
            "    \"nsu2_perf_mon_1_1\": 0,\n",
            "    \"f1_wrdqdbi_stg3_dq_odly_bit01\": 0,\n",
            "    \"f1_rdprbs_nqtr_right_margin_nibble11\": 0,\n",
            "    \"f1_wrcmplx_odly_dq_final_bit01\": 0,\n",
            "    \"phy_oe_nib12_dly\": 0,\n",
            "    \"f1_wrdqdbi_left_edge_dq_bit23\": 0,\n",
            "    \"f0_wrdqdbi_deskew_dq_odly_fcrse_bit19\": 96,\n",
            "    \"f0_wrlat_phy_oe_nib_final_byte4\": 1,\n",
            "    \"f0_rddq_qtr_deskew_nibble05\": 1,\n",
            "    \"f0_rddq_pqtr_right_nibble14\": 172,\n",
            "    \"f0_wrcmplx_left_margin_fcrse_byte3\": 70,\n",
            "    \"f0_calbisc_rl_dly_qtr_nibble01\": 80,\n",
            "    \"f1_wrcmplx_odly_dq_final_bit56\": 0,\n",
            "    \"f1_wrdqdbi_left_edge_dq_bit25\": 0,\n",
            "    \"f0_wrdqdbi_deskew_dq_odly_bit63\": 159,\n",
            "    \"f0_rdcmplx_pqtr_left_nibble03\": 24,\n",
            "    \"f1_wrdqdbi_deskew_dbi_odly_byte7\": 0,\n",
            "    \"f1_wrdqdbi_odly_dq_final_bit45\": 0,\n",
            "    \"f1_rddq_idelay_final_bit27\": 0,\n",
            "    \"f1_rdcmplx_nqtr_right_short_nibble01\": 0,\n",
            "    \"f1_wrdqdbi_odly_dq_final_bit32\": 0,\n",
            "    \"ddrmc_isr_nsu_fatal0\": 0,\n",
            "    \"f0_dqsgate_stg1_overflow_51\": 0,\n",
            "    \"f1_wrdqdbi_odly_dq_final_bit21\": 0,\n",
            "    \"f1_rdcmplx_nqtr_left_nibble01\": 0,\n",
            "    \"f0_wrdqdbi_deskew_dq_odly_bit38\": 181,\n",
            "    \"wrvref_vref_final_rank0_byte0\": 0,\n",
            "    \"f1_rddq_nqtr_final_nibble06\": 0,\n",
            "    \"f1_wrcmplx_left_margin_fcrse_byte2\": 0,\n",
            "    \"f0_rdcmplx_nqtr_right_short_nibble04\": 168,\n",
            "    \"bisc_pqtr_align_nibble05\": 0,\n",
            "    \"f0_rddq_nqtr_final_nibble07\": 96,\n",
            "    \"f0_wrdqdbi_stg3_dq_odly_bit63\": 74,\n",
            "    \"f0_wrlat_wldlyrnk_crse_final_rank0_byte4\": 2,\n",
            "    \"f0_wrcmplx_odly_dq_final_bit10\": 64,\n",
            "    \"f1_wrdqdbi_right_margin_byte5\": 0,\n",
            "    \"f0_rd_simp_fall_rm_nib_04\": [\n",
            "        75,\n",
            "        148\n",
            "    ],\n",
            "    \"f1_rddq_idelay_final_bit57\": 0,\n",
            "    \"f1_wrprbs_right_margin_byte0\": 0,\n",
            "    \"dc0_perf_mon_3\": 0,\n",
            "    \"wrvref_right_vref_def_rank0_byte3\": 0,\n",
            "    \"wrvref_right_vref_low_bound_rank0_byte6\": 0,\n",
            "    \"ub_clk_17_9\": 2,\n",
            "    \"dc1_perf_mon_7\": 0,\n",
            "    \"cal_stage_time_48\": 0,\n",
            "    \"nsu1_perf_mon_ctl_0_0\": 0,\n",
            "    \"f0_wrlvl_fine_final_rank0_byte3\": 71,\n",
            "    \"f0_wrcmplx_odly_dq_final_bit44\": 77,\n",
            "    \"ddrmc_isr_dc_cmd1_fatal\": 0,\n",
            "    \"reg_pinout\": 17,\n",
            "    \"bisc_pqtr_nibble00\": 80,\n",
            "    \"pre_post_cal_map_ver\": 1,\n",
            "    \"f0_wrdqdbi_stg2_dq_odly_bit01\": 56,\n",
            "    \"f1_wrcmplx_odly_dq_final_bit42\": 0,\n",
            "    \"f0_rdcmplx_pqtr_left_nibble15\": 23,\n",
            "    \"f0_wrdqdbi_deskew_dq_odly_bit27\": 156,\n",
            "    \"f0_rddq_pqtr_final_nibble05\": 96,\n",
            "    \"f1_wrdqdbi_left_edge_dbi_byte5\": 0,\n",
            "    \"f0_wrprbs_right_margin_byte1\": 0,\n",
            "    \"f0_rdcmplx_pqtr_right_short_fcrse_nibble05\": 188,\n",
            "    \"f0_rd_simp_rise_lm_nib_00\": [\n",
            "        74,\n",
            "        146\n",
            "    ],\n",
            "    \"f1_wrcmplx_odly_dq_final_bit02\": 0,\n",
            "    \"cal_seq_status_14\": 272,\n",
            "    \"bisc_idly3_align_nibble15\": 77,\n",
            "    \"bisc_idly0_align_nibble11\": 74,\n",
            "    \"f0_wr_comp_rm_byte_02\": [\n",
            "        60,\n",
            "        117\n",
            "    ],\n",
            "    \"rdvref_right_vref_upp_bound_nibble11\": 0,\n",
            "    \"f0_rdcmplx_pqtr_left_nibble07\": 22,\n",
            "    \"f1_rddq_nqtr_right_nibble05\": 0,\n",
            "    \"cal_seq_status_16\": 274,\n",
            "    \"f0_wrdqdbi_odly_dqs_final_byte4\": 117,\n",
            "    \"dqs_gate_running\": 1,\n",
            "    \"bisc_pqtr_align_nibble02\": 0,\n",
            "    \"rdvref_right_vref_final_nibble04\": 0,\n",
            "    \"iobmap_dq_9_8\": 0,\n",
            "    \"bisc_idly5_align_nibble15\": 81,\n",
            "    \"f1_wrdqdbi_stg1_bit_status_byte2\": 0,\n",
            "    \"f1_wrdqdbi_stg3_dq_odly_bit35\": 0,\n",
            "    \"f1_wrdqdbi_deskew_dq_odly_bit44\": 0,\n",
            "    \"f1_wrdqdbi_stg4_dqs_delay_byte2\": 0,\n",
            "    \"rdvref_left_vref_def_nibble09\": 0,\n",
            "    \"rdvref_left_vref_def_nibble08\": 0,\n",
            "    \"f0_calbisc_rl_dly_qtr_nibble03\": 79,\n",
            "    \"f1_rdcmplx_pqtr_left_nibble15\": 0,\n",
            "    \"cal_stage_time_29\": 0,\n",
            "    \"tag_ver_1\": 0,\n",
            "    \"dqstrack_rldlyrnk_crse_max_byte5\": 2,\n",
            "    \"rdvref_right_vref_def_nibble12\": 0,\n",
            "    \"f1_wrlat_match_rank0_byte0\": 0,\n",
            "    \"f0_wrdqdbi_stg2_dq_odly_bit43\": 55,\n",
            "    \"f0_wrcmplx_right_margin_byte1\": 60,\n",
            "    \"f0_rdprbs_nqtr_right_margin_nibble05\": 0,\n",
            "    \"f1_wrdqdbi_odly_dq_final_bit50\": 0,\n",
            "    \"f0_dqsgate_stg1_overflow_23\": 0,\n",
            "    \"f1_dqsgate_stg1_overflow_22\": 0,\n",
            "    \"wrvref_vref_def\": 0,\n",
            "    \"f1_rddq_idelay_final_bit01\": 0,\n",
            "    \"f1_wrdqdbi_deskew_dq_odly_fcrse_bit27\": 0,\n",
            "    \"bisc_nqtr_align_nibble11\": 2,\n",
            "    \"cal_error_bit_phy_nibble_16\": 0,\n",
            "    \"self_refresh_entry_error\": 0,\n",
            "    \"f1_wrdqdbi_deskew_dq_odly_bit14\": 0,\n",
            "    \"f1_rdcmplx_pqtr_right_short_fcrse_nibble04\": 0,\n",
            "    \"f0_rddq_qtr_deskew_nibble07\": 1,\n",
            "    \"f0_wrlvl_offset_rank0_byte7\": 80,\n",
            "    \"f1_rddq_nqtr_left_nibble15\": 0,\n",
            "    \"f0_wr_simp_lm_byte_06\": [\n",
            "        76,\n",
            "        149\n",
            "    ],\n",
            "    \"f0_rdcmplx_nqtr_final_nibble09\": 83,\n",
            "    \"f1_rddq_pqtr_final_nibble08\": 0,\n",
            "    \"f1_rdcmplx_pqtr_final_nibble00\": 0,\n",
            "    \"f0_rddq_idelay_final_bit21\": 89,\n",
            "    \"f1_rddq_pqtr_final_nibble04\": 0,\n",
            "    \"f1_wrdqdbi_left_edge_dq_bit43\": 0,\n",
            "    \"f1_rdcmplx_pqtr_right_short_nibble07\": 0,\n",
            "    \"f0_rdcmplx_pqtr_left_short_nibble04\": 22,\n",
            "    \"rdvref_vref_low_bound_nibble04\": 0,\n",
            "    \"f1_dqsgate_stg2_read_lat_rank0_byte5\": 0,\n",
            "    \"wrvref_right_vref_low_bound_rank0_byte1\": 0,\n",
            "    \"f1_rdcmplx_pqtr_right_short_nibble08\": 0,\n",
            "    \"ddrmc_isr_ce1_ecc1\": 0,\n",
            "    \"f0_rddq_pqtr_right_fcrse_nibble03\": 173,\n",
            "    \"cal_warning_05\": 0,\n",
            "    \"phy_oe_nib8_dly\": 0,\n",
            "    \"cal_time_8_0\": 62,\n",
            "    \"f0_rddq_pqtr_final_nibble13\": 98,\n",
            "    \"f0_wrdqdbi_left_edge_dq_bit11\": 49,\n",
            "    \"f1_wrdqdbi_stg2_dqs_odly_byte3\": 0,\n",
            "    \"f0_rdcmplx_pqtr_left_short_nibble08\": 21,\n",
            "    \"f0_rd_simp_rise_lm_nib_01\": [\n",
            "        74,\n",
            "        144\n",
            "    ],\n",
            "    \"rdvref_vref_low_bound_nibble10\": 0,\n",
            "    \"ub_data_ce\": 0,\n",
            "    \"bisc_idly0_align_nibble06\": 67,\n",
            "    \"rdvref_vref_upp_bound_nibble00\": 0,\n",
            "    \"bisc_idly1_align_nibble02\": 69,\n",
            "    \"f0_wrdqdbi_stg2_dq_odly_bit12\": 62,\n",
            "    \"f0_wrdqdbi_odly_dq_final_bit23\": 27,\n",
            "    \"f1_wrdqdbi_deskew_dq_odly_fcrse_bit34\": 0,\n",
            "    \"f1_wrdqdbi_odly_dbi_final_byte6\": 0,\n",
            "    \"cal_seq_status_37\": 314,\n",
            "    \"f0_wrdqdbi_odly_dq_final_bit58\": 80,\n",
            "    \"phy_oe_nib13_dly\": 0,\n",
            "    \"iobmap_dq_7_6\": 0,\n",
            "    \"f0_rdcmplx_nqtr_left_short_nibble11\": 22,\n",
            "    \"f1_dqsgate_rldlyrnk_crse_final_rank0_byte5\": 0,\n",
            "    \"cal_warning_39\": 0,\n",
            "    \"f1_rdcmplx_pqtr_final_nibble14\": 0,\n",
            "    \"rdmargin_pqtr_right_nibble14\": 0,\n",
            "    \"f1_dqsgate_stg1_overflow_28\": 0,\n",
            "    \"f1_rdcmplx_pqtr_right_short_nibble06\": 0,\n",
            "    \"f0_rd_comp_fall_rm_nib_12\": [\n",
            "        60,\n",
            "        117\n",
            "    ],\n",
            "    \"f0_rd_simp_rise_lm_nib_15\": [\n",
            "        76,\n",
            "        150\n",
            "    ],\n",
            "    \"f0_wrcmplx_right_margin_fcrse_byte0\": 60,\n",
            "    \"freq_switch_restore_error\": 0,\n",
            "    \"bisc_idly5_align_nibble13\": 81,\n",
            "    \"rdvref_vref_final_nibble01\": 0,\n",
            "    \"bisc_idly2_align_nibble06\": 66,\n",
            "    \"f0_rddq_nqtr_left_nibble03\": 25,\n",
            "    \"f0_wrcmplx_odly_dq_final_bit04\": 61,\n",
            "    \"f1_wrdqdbi_left_edge_dq_bit63\": 0,\n",
            "    \"f0_wr_comp_rm_byte_04\": [\n",
            "        65,\n",
            "        128\n",
            "    ],\n",
            "    \"f0_wrdqdbi_left_edge_dq_bit23\": 20,\n",
            "    \"f0_rd_comp_rise_ctp_nib_00\": [\n",
            "        91,\n",
            "        180\n",
            "    ],\n",
            "    \"f0_dqsgate_stg1_overflow_50\": 0,\n",
            "    \"f0_wrdqdbi_left_edge_dq_bit39\": 103,\n",
            "    \"f0_dqsgate_stg1_overflow_47\": 0,\n",
            "    \"f0_wr_simp_lm_byte_02\": [\n",
            "        81,\n",
            "        159\n",
            "    ],\n",
            "    \"f0_rd_simp_rise_lm_nib_11\": [\n",
            "        77,\n",
            "        156\n",
            "    ],\n",
            "    \"f1_rdcmplx_pqtr_left_nibble07\": 0,\n",
            "    \"f0_dqsgate_stg1_rldlyrnk_crse_rank0_byte6\": 15,\n",
            "    \"f0_wrdqdbi_stg1_dqs_delay_byte4\": 112,\n",
            "    \"f1_dqsgate_stg1_overflow_52\": 0,\n",
            "    \"f1_wrdqdbi_odly_dq_final_bit43\": 0,\n",
            "    \"rdvref_right_vref_def_nibble06\": 0,\n",
            "    \"f1_wrdqdbi_stg2_dq_odly_bit51\": 0,\n",
            "    \"f1_rddq_pqtr_left_nibble01\": 0,\n",
            "    \"f1_wrdqdbi_stg2_dq_odly_bit04\": 0,\n",
            "    \"f1_wrdqdbi_deskew_dq_odly_fcrse_bit05\": 0,\n",
            "    \"f1_rdprbs_pqtr_left_margin_nibble13\": 0,\n",
            "    \"cal_seq_status_31\": 302,\n",
            "    \"f0_wrdqdbi_deskew_dq_odly_fcrse_bit60\": 164,\n",
            "    \"f1_wrdqdbi_odly_dq_final_bit40\": 0,\n",
            "    \"f1_rdcmplx_idelay_offset_nibble14\": 0,\n",
            "    \"f0_read_latency\": 1,\n",
            "    \"cal_seq_status_18\": 282,\n",
            "    \"f0_wrdqdbi_odly_dbi_final_byte7\": 84,\n",
            "    \"f0_dqsgate_stg1_overflow_57\": 0,\n",
            "    \"f1_wrlat_xpi_wrdata_all_final\": 0,\n",
            "    \"f0_wrdqdbi_odly_dqs_final_byte1\": 78,\n",
            "    \"f0_rdcmplx_pqtr_final_nibble15\": 92,\n",
            "    \"f1_rdprbs_pqtr_right_margin_nibble09\": 0,\n",
            "    \"f0_wrlvl_crse_stg1_rank0_byte4\": 3,\n",
            "    \"f0_rd_comp_rise_rm_nib_07\": [\n",
            "        75,\n",
            "        148\n",
            "    ],\n",
            "    \"nsu2_perf_filter_1_0\": 0,\n",
            "    \"f0_rddq_pqtr_right_nibble10\": 169,\n",
            "    \"f0_wrcmplx_left_margin_byte5\": 72,\n",
            "    \"f0_calbisc_rl_dly_nqtr_nibble04\": 79,\n",
            "    \"f1_rdcmplx_pqtr_right_short_fcrse_nibble12\": 0,\n",
            "    \"dc1_perf_mon_2\": 0,\n",
            "    \"f0_wrdqdbi_deskew_dq_odly_fcrse_bit32\": 176,\n",
            "    \"cal_stage_ran\": 63,\n",
            "    \"f0_wrdqdbi_odly_dbi_final_byte4\": 96,\n",
            "    \"f1_wrdqdbi_stg2_dq_odly_bit09\": 0,\n",
            "    \"f0_wrdqdbi_stg2_dq_odly_bit09\": 62,\n",
            "    \"f1_wrdqdbi_stg2_dq_odly_bit27\": 0,\n",
            "    \"f1_wrdqdbi_deskew_dbi_odly_fcrse_byte5\": 0,\n",
            "    \"f1_dqsgate_stg1_overflow_56\": 0,\n",
            "    \"f0_rddq_idelay_final_bit01\": 75,\n",
            "    \"f0_wrdqdbi_odly_dq_final_bit02\": 55,\n",
            "    \"f0_rddq_idelay_final_bit34\": 70,\n",
            "    \"f1_rdcmplx_idelay_offset_nibble08\": 0,\n",
            "    \"f0_rddq_nqtr_final_nibble02\": 100,\n",
            "    \"dqstrack_rldlyrnk_crse_max_byte2\": 5,\n",
            "    \"bisc_rl_dly_qtr_nibble11\": 77,\n",
            "    \"rdvref_left_vref_def_nibble14\": 0,\n",
            "    \"f0_rddq_pqtr_left_nibble00\": 18,\n",
            "    \"f0_rddq_nqtr_right_fcrse_nibble02\": 180,\n",
            "    \"rdvref_left_vref_low_bound_nibble13\": 0,\n",
            "    \"f0_wrlat_match_rank0_byte7\": 17,\n",
            "    \"f1_wrlvl_offset_rank0_byte1\": 0,\n",
            "    \"f1_wrlvl_noise_fcrse_rank0_byte3\": 0,\n",
            "    \"f1_rddq_nqtr_final_nibble01\": 0,\n",
            "    \"f0_rd_comp_fall_rm_nib_08\": [\n",
            "        57,\n",
            "        112\n",
            "    ],\n",
            "    \"f0_rdcmplx_pqtr_right_short_nibble14\": 170,\n",
            "    \"f1_wrdqdbi_deskew_dq_odly_fcrse_bit10\": 0,\n",
            "    \"rdvref_vref_final_nibble11\": 0,\n",
            "    \"f0_wrdqdbi_odly_dq_final_bit53\": 56,\n",
            "    \"phy_rden0_dly\": 26,\n",
            "    \"f1_xpll_clkoutfb_lt\": 16,\n",
            "    \"f0_dqsgate_stg1_overflow_33\": 0,\n",
            "    \"f1_wrcmplx_odly_dq_final_bit52\": 0,\n",
            "    \"f1_wrdqdbi_odly_dq_final_bit12\": 0,\n",
            "    \"vttrack_rldlyqtr_min_nibble09\": 76,\n",
            "    \"f0_wrdqdbi_stg2_dq_odly_bit21\": 26,\n",
            "    \"f0_rdcmplx_nqtr_left_nibble00\": 27,\n",
            "    \"f0_calbisc_rl_dly_nqtr_nibble12\": 80,\n",
            "    \"f0_rddq_pqtr_final_nibble10\": 93,\n",
            "    \"f1_dqsgate_rldlyrnk_crse_final_rank0_byte1\": 0,\n",
            "    \"f1_rddq_idelay_final_bit07\": 0,\n",
            "    \"bisc_idly3_align_nibble03\": 77,\n",
            "    \"ddrmc_isr_dram_parity0\": 0,\n",
            "    \"dc1_perf_mon_1\": 0,\n",
            "    \"f0_rd_simp_rise_rm_nib_09\": [\n",
            "        77,\n",
            "        152\n",
            "    ],\n",
            "    \"f1_wrdqdbi_stg3_dq_odly_bit46\": 0,\n",
            "    \"rdmargin_pqtr_right_nibble12\": 0,\n",
            "    \"bisc_nqtr_nibble07\": 81,\n",
            "    \"f0_dqsgate_stg1_rldlyrnk_fine_rank0_byte7\": 33,\n",
            "    \"f1_wrlvl_crse_final_rank0_byte2\": 0,\n",
            "    \"cal_warning_58\": 0,\n",
            "    \"f0_wrlat_wldlyrnk_crse_final_rank0_byte7\": 3,\n",
            "    \"f0_rd_comp_rise_lm_nib_11\": [\n",
            "        70,\n",
            "        142\n",
            "    ],\n",
            "    \"f1_rdcmplx_nqtr_right_short_fcrse_nibble07\": 0,\n",
            "    \"lranks\": 1,\n",
            "    \"f1_wrdqdbi_stg3_dq_odly_bit40\": 0,\n",
            "    \"f1_wrdqdbi_right_margin_fcrse_byte3\": 0,\n",
            "    \"f1_rddq_pqtr_left_nibble09\": 0,\n",
            "    \"f0_wrdqdbi_odly_dq_final_bit43\": 56,\n",
            "    \"f0_wrdqdbi_stg3_dq_odly_bit46\": 55,\n",
            "    \"c_code_major_ver\": 4,\n",
            "    \"f1_rddq_pqtr_right_nibble02\": 0,\n",
            "    \"0x0e_F0_WRITE_LATENCY_CAL\": \"Pass\",\n",
            "    \"f0_rd_comp_fall_ctp_nib_11\": [\n",
            "        86,\n",
            "        175\n",
            "    ],\n",
            "    \"f1_wrdqdbi_stg1_dqs_delay_byte7\": 0,\n",
            "    \"f0_wrcmplx_odly_dq_final_bit07\": 70,\n",
            "    \"f0_rd_comp_fall_lm_nib_09\": [\n",
            "        58,\n",
            "        114\n",
            "    ],\n",
            "    \"f0_wrdqdbi_deskew_dbi_odly_byte5\": 140,\n",
            "    \"f1_rddq_nqtr_right_fcrse_nibble04\": 0,\n",
            "    \"f0_rd_comp_fall_rm_nib_04\": [\n",
            "        60,\n",
            "        118\n",
            "    ],\n",
            "    \"rdmargin_pqtr_left_nibble12\": 0,\n",
            "    \"f1_rdcmplx_nqtr_left_nibble02\": 0,\n",
            "    \"f0_wrlat_phy_data_nib_final_byte4\": 1,\n",
            "    \"bisc_pqtr_align_nibble13\": 1,\n",
            "    \"f0_wrcmplx_odly_dq_final_bit23\": 34,\n",
            "    \"f0_rd_simp_fall_lm_nib_00\": [\n",
            "        73,\n",
            "        139\n",
            "    ],\n",
            "    \"f0_par_alert_en\": 1,\n",
            "    \"bisc_idly1_align_nibble12\": 69,\n",
            "    \"f0_wrdqdbi_odly_dqs_final_byte5\": 71,\n",
            "    \"f0_period\": 625,\n",
            "    \"f1_wrdqdbi_stg2_dq_odly_bit21\": 0,\n",
            "    \"f1_rddq_pqtr_left_nibble06\": 0,\n",
            "    \"f1_wrcmplx_right_margin_fcrse_byte0\": 0,\n",
            "    \"pcsr_control_ub_init\": 1,\n",
            "    \"nsu1_perf_mon_ctl_0_1\": 0,\n",
            "    \"f0_dqsgate_stg1_overflow_49\": 0,\n",
            "    \"f1_wrdqdbi_odly_dq_final_bit30\": 0,\n",
            "    \"f0_rd_simp_fall_rm_nib_15\": [\n",
            "        75,\n",
            "        150\n",
            "    ],\n",
            "    \"cal_warning_28\": 0,\n",
            "    \"f1_mr4_17_9\": 0,\n",
            "    \"f0_wr_comp_rm_byte_06\": [\n",
            "        61,\n",
            "        119\n",
            "    ],\n",
            "    \"rdvref_vref_low_bound_nibble09\": 0,\n",
            "    \"f0_rd_comp_fall_ctp_nib_08\": [\n",
            "        77,\n",
            "        152\n",
            "    ],\n",
            "    \"f1_rdcmplx_pqtr_final_nibble06\": 0,\n",
            "    \"f0_rd_simp_fall_ctp_nib_15\": [\n",
            "        95,\n",
            "        190\n",
            "    ]\n",
            "}\n"
          ]
        }
      ],
      "source": [
        "props = ddr.ddr_node.get_property_group([])\n",
        "json_props = json.dumps(props, indent=4)\n",
        "print(json_props)"
      ]
    },
    {
      "cell_type": "code",
      "execution_count": 12,
      "id": "14f593b0",
      "metadata": {},
      "outputs": [],
      "source": [
        "## When done with testing, close the connection\n",
        "delete_session(session)"
      ]
    }
  ],
  "metadata": {
    "kernelspec": {
      "display_name": "venv",
      "language": "python",
      "name": "python3"
    },
    "language_info": {
      "codemirror_mode": {
        "name": "ipython",
        "version": 3
      },
      "file_extension": ".py",
      "mimetype": "text/x-python",
      "name": "python",
      "nbconvert_exporter": "python",
      "pygments_lexer": "ipython3",
      "version": "3.10.12"
    }
  },
  "nbformat": 4,
  "nbformat_minor": 5
}
