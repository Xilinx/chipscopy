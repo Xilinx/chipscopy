{
 "cells": [
  {
   "cell_type": "code",
   "execution_count": 1,
   "metadata": {},
   "outputs": [],
   "source": [
    "# Copyright 2021 Xilinx, Inc.\n",
    "# \n",
    "# Licensed under the Apache License, Version 2.0 (the \"License\");\n",
    "# you may not use this file except in compliance with the License.\n",
    "# You may obtain a copy of the License at\n",
    "# \n",
    "#     http://www.apache.org/licenses/LICENSE-2.0\n",
    "# \n",
    "# Unless required by applicable law or agreed to in writing, software\n",
    "# distributed under the License is distributed on an \"AS IS\" BASIS,\n",
    "# WITHOUT WARRANTIES OR CONDITIONS OF ANY KIND, either express or implied.\n",
    "# See the License for the specific language governing permissions and\n",
    "# limitations under the License."
   ]
  },
  {
   "cell_type": "markdown",
   "metadata": {},
   "source": [
    "Description\n",
    "-----------\n",
    "\n",
    "This demo shows how to do three things:\n",
    "\n",
    "1. Connect to a Versal target device via ChipScope Server (cs_server) and Hardware Server (hw_server)\n",
    "2. Program a Versal target device using a design PDI file\n",
    "3. Examine DDR results"
   ]
  },
  {
   "cell_type": "code",
   "execution_count": 2,
   "metadata": {},
   "outputs": [
    {
     "name": "stdout",
     "output_type": "stream",
     "text": [
      "HW_URL: TCP:xsjmdarnall40x:3121\n",
      "CS_URL: xsjmdarnall40x:3042\n",
      "PROGRAMMING_FILE: C:\\Users\\mdarnall\\dev\\git\\chipscopy\\chipscopy\\examples/designs/vck190/production/2.0/ks_demo/ks_demo_wrapper.pdi\n",
      "PROBES_FILE:C:\\Users\\mdarnall\\dev\\git\\chipscopy\\chipscopy\\examples/designs/vck190/production/2.0/ks_demo/ks_demo_wrapper.ltx\n"
     ]
    }
   ],
   "source": [
    "import pprint\n",
    "import os\n",
    "from chipscopy import get_examples_dir_or_die\n",
    "from chipscopy import create_session, report_versions\n",
    "\n",
    "# Specify locations of the running hw_server and cs_server below.\n",
    "CS_URL = os.getenv(\"CS_SERVER_URL\", \"TCP:localhost:3042\")\n",
    "HW_URL = os.getenv(\"HW_SERVER_URL\", \"TCP:localhost:3121\")\n",
    "BOARD = os.getenv(\"HW_SERVER_BOARD\", \"vck190/production/2.0\")\n",
    "\n",
    "EXAMPLES_DIR = get_examples_dir_or_die()\n",
    "PDI_FILE = f\"{EXAMPLES_DIR}/designs/{BOARD}/ks_demo/ks_demo_wrapper.pdi\"\n",
    "LTX_FILE = f\"{EXAMPLES_DIR}/designs/{BOARD}/ks_demo/ks_demo_wrapper.ltx\"\n",
    "\n",
    "print(f\"HW_URL: {HW_URL}\")\n",
    "print(f\"CS_URL: {CS_URL}\")\n",
    "print(f\"PROGRAMMING_FILE: {PDI_FILE}\")\n",
    "print(f\"PROBES_FILE:{LTX_FILE}\")"
   ]
  },
  {
   "cell_type": "code",
   "execution_count": 3,
   "metadata": {},
   "outputs": [
    {
     "data": {
      "text/html": [
       "<pre style=\"white-space:pre;overflow-x:auto;line-height:normal;font-family:Menlo,'DejaVu Sans Mono',consolas,'Courier New',monospace\">\n",
       "\n",
       "</pre>\n"
      ],
      "text/plain": [
       "<rich.jupyter.JupyterRenderable at 0x13f9300fd60>"
      ]
     },
     "metadata": {},
     "output_type": "display_data"
    },
    {
     "data": {
      "text/html": [
       "<pre style=\"white-space:pre;overflow-x:auto;line-height:normal;font-family:Menlo,'DejaVu Sans Mono',consolas,'Courier New',monospace\"><span style=\"font-style: italic\">                        ChipScoPy Version Information                         </span>\n",
       "┌─────────────────────────────────┬──────────────────────────────────────────┐\n",
       "│<span style=\"font-weight: bold\">                          Entity </span>│<span style=\"font-weight: bold\"> Version                                  </span>│\n",
       "├─────────────────────────────────┼──────────────────────────────────────────┤\n",
       "│                       ChipScoPy │ ┌───────────┬──────────────────────┐     │\n",
       "│                                 │ │<span style=\"font-weight: bold\"> Attribute </span>│<span style=\"font-weight: bold\"> Value                </span>│     │\n",
       "│                                 │ ├───────────┼──────────────────────┤     │\n",
       "│                                 │ │     Build │ 2021.1.1614310630    │     │\n",
       "│                                 │ │ Timestamp │ Feb 25 2021-19:37:10 │     │\n",
       "│                                 │ └───────────┴──────────────────────┘     │\n",
       "│                                 │                                          │\n",
       "│ hw_server @ xsjmdarnall40x:3121 │ ┌───────────┬──────────────────────────┐ │\n",
       "│                                 │ │<span style=\"font-weight: bold\"> Attribute </span>│<span style=\"font-weight: bold\"> Value                    </span>│ │\n",
       "│                                 │ ├───────────┼──────────────────────────┤ │\n",
       "│                                 │ │    Status │ Connected                │ │\n",
       "│                                 │ │     Build │ 1617048689               │ │\n",
       "│                                 │ │   Version │ 2021.1.0                 │ │\n",
       "│                                 │ │ Timestamp │ Mon Mar 29 14:11:29 2021 │ │\n",
       "│                                 │ └───────────┴──────────────────────────┘ │\n",
       "│                                 │                                          │\n",
       "│ cs_server @ xsjmdarnall40x:3042 │ ┌───────────────┬──────────────────────┐ │\n",
       "│                                 │ │<span style=\"font-weight: bold\">     Attribute </span>│<span style=\"font-weight: bold\"> Value                </span>│ │\n",
       "│                                 │ ├───────────────┼──────────────────────┤ │\n",
       "│                                 │ │        Status │ Connected            │ │\n",
       "│                                 │ │         Build │ 1616800944           │ │\n",
       "│                                 │ │       Version │ 2021.1               │ │\n",
       "│                                 │ │     Timestamp │ Mar 26 2021-16:22:24 │ │\n",
       "│                                 │ │       Package │ 2021.1.1616800944    │ │\n",
       "│                                 │ │ Artifact type │ pyinstaller          │ │\n",
       "│                                 │ └───────────────┴──────────────────────┘ │\n",
       "└─────────────────────────────────┴──────────────────────────────────────────┘\n",
       "</pre>\n"
      ],
      "text/plain": [
       "<rich.jupyter.JupyterRenderable at 0x13f93050bb0>"
      ]
     },
     "metadata": {},
     "output_type": "display_data"
    },
    {
     "data": {
      "text/html": [
       "<pre style=\"white-space:pre;overflow-x:auto;line-height:normal;font-family:Menlo,'DejaVu Sans Mono',consolas,'Courier New',monospace\">\n",
       "\n",
       "</pre>\n"
      ],
      "text/plain": [
       "<rich.jupyter.JupyterRenderable at 0x13f93050df0>"
      ]
     },
     "metadata": {},
     "output_type": "display_data"
    }
   ],
   "source": [
    "# Start of the connection\n",
    "session = create_session(cs_server_url=CS_URL, hw_server_url=HW_URL)\n",
    "report_versions(session)"
   ]
  },
  {
   "cell_type": "code",
   "execution_count": 4,
   "metadata": {},
   "outputs": [
    {
     "name": "stdout",
     "output_type": "stream",
     "text": [
      "Programming C:\\Users\\mdarnall\\dev\\git\\chipscopy\\chipscopy\\examples/designs/vck190/production/2.0/ks_demo/ks_demo_wrapper.pdi...\n"
     ]
    },
    {
     "data": {
      "text/html": [
       "<pre style=\"white-space:pre;overflow-x:auto;line-height:normal;font-family:Menlo,'DejaVu Sans Mono',consolas,'Courier New',monospace\">\n",
       "<span style=\"font-weight: bold\">--&gt; INFO: </span>Programming PDI file C:\\Users\\mdarnall\\dev\\git\\chipscopy\\chipscopy\\examples\\designs\n",
       "\\vck190\\production\\2.0\\ks_demo\\ks_demo_wrapper.pdi\n",
       "    \n",
       "</pre>\n"
      ],
      "text/plain": [
       "<rich.jupyter.JupyterRenderable at 0x13f93165bb0>"
      ]
     },
     "metadata": {},
     "output_type": "display_data"
    },
    {
     "data": {
      "application/vnd.jupyter.widget-view+json": {
       "model_id": "ff15224e5f664c298244041d9a435691",
       "version_major": 2,
       "version_minor": 0
      },
      "text/plain": [
       "Output()"
      ]
     },
     "metadata": {},
     "output_type": "display_data"
    }
   ],
   "source": [
    "# Use the first available device and setup its debug cores\n",
    "versal_device = session.devices[0]\n",
    "# Program\n",
    "print(f\"Programming {PDI_FILE}...\")\n",
    "versal_device.program(PDI_FILE)"
   ]
  },
  {
   "cell_type": "code",
   "execution_count": 5,
   "metadata": {},
   "outputs": [
    {
     "name": "stdout",
     "output_type": "stream",
     "text": [
      "Discovering debug cores...\n"
     ]
    }
   ],
   "source": [
    "print(f\"Discovering debug cores...\")\n",
    "versal_device.discover_and_setup_cores()"
   ]
  },
  {
   "cell_type": "code",
   "execution_count": 6,
   "metadata": {},
   "outputs": [
    {
     "name": "stdout",
     "output_type": "stream",
     "text": [
      "ddr_0 is enabled.\n",
      "Calibration status is:  PASS\n",
      "{ 'cal_error_msg': 'None',\n",
      "  'cal_message': 'No errors detected during calibration.',\n",
      "  'cal_status': 'PASS',\n",
      "  'dqs_status': 'Running',\n",
      "  'health_status': 'GOOD',\n",
      "  'track_enable': 'DQS Gate Tracking, DDRMC ISR Tracking, Post-Cal Status, UB '\n",
      "                  'ISR Tracking'}\n",
      "[ ('cal_stage.01_F0_PHY_BISC', 'Pass'),\n",
      "  ('cal_stage.02_F0_MEM_INIT', 'Pass'),\n",
      "  ('cal_stage.03_F0_DQS_GATE_CAL', 'Pass'),\n",
      "  ('cal_stage.04_F0_WRITE_LEVELING', 'Pass'),\n",
      "  ('cal_stage.05_F0_READ_DQ_CAL', 'Pass'),\n",
      "  ('cal_stage.06_F0_WRITE_DQ_DBI_CAL', 'Pass'),\n",
      "  ('cal_stage.07_F0_WRITE_LATENCY_CAL', 'Pass'),\n",
      "  ('cal_stage.08_F0_READ_DQ_DBI_CAL_COMPLEX', 'Pass'),\n",
      "  ('cal_stage.09_F0_WRITE_DQ_DBI_CAL_COMPLEX', 'Pass'),\n",
      "  ('cal_stage.10_EN_VT_TRACK', 'Pass'),\n",
      "  ('cal_stage.11_READ_DQS_TRACK', 'Pass'),\n",
      "  ('cal_stage.12_CAL_DONE', 'Pass')]\n",
      "-------------------\n",
      "\n",
      " DDRMC Status \n",
      "\n",
      "-------------------\n",
      "\n",
      "Calibration Status:   PASS \n",
      "\n",
      "Overall Health:   GOOD \n",
      "\n",
      "Message:   No errors detected during calibration. \n",
      "\n",
      "\n",
      "-------------------\n",
      "\n",
      " Status Registers\n",
      "\n",
      "-------------------\n",
      "\n",
      "DDRMC ISR Table\n",
      "\n",
      "   ddrmc_isr_ce0_ecc0 :   0\n",
      "   ddrmc_isr_ce0_ecc1 :   0\n",
      "   ddrmc_isr_ce1_ecc0 :   0\n",
      "   ddrmc_isr_ce1_ecc1 :   0\n",
      "   ddrmc_isr_ch0_data_par :   0\n",
      "   ddrmc_isr_ch1_data_par :   0\n",
      "   ddrmc_isr_dc_cmd0_fatal :   0\n",
      "   ddrmc_isr_dc_cmd1_fatal :   0\n",
      "   ddrmc_isr_dram_parity0 :   0\n",
      "   ddrmc_isr_dram_parity1 :   0\n",
      "   ddrmc_isr_dram_parity_fatal_0 :   0\n",
      "   ddrmc_isr_dram_parity_fatal_1 :   0\n",
      "   ddrmc_isr_na_cmd :   0\n",
      "   ddrmc_isr_na_cmd0 :   0\n",
      "   ddrmc_isr_na_cmd1 :   0\n",
      "   ddrmc_isr_na_cmd_fatal :   0\n",
      "   ddrmc_isr_nsu_0 :   0\n",
      "   ddrmc_isr_nsu_1 :   0\n",
      "   ddrmc_isr_nsu_2 :   0\n",
      "   ddrmc_isr_nsu_3 :   0\n",
      "   ddrmc_isr_nsu_fatal0 :   0\n",
      "   ddrmc_isr_nsu_fatal1 :   0\n",
      "   ddrmc_isr_nsu_fatal2 :   0\n",
      "   ddrmc_isr_nsu_fatal3 :   0\n",
      "   ddrmc_isr_uc0_ecc0 :   0\n",
      "   ddrmc_isr_uc0_ecc1 :   0\n",
      "   ddrmc_isr_uc1_ecc0 :   0\n",
      "   ddrmc_isr_uc1_ecc1 :   0\n",
      "\n",
      "UB ISR Table\n",
      "\n",
      "   ub_data_ce :   0\n",
      "   ub_data_ue :   0\n",
      "   ub_instr_ce :   0\n",
      "   ub_isntr_ue :   0\n",
      "   ub_isr_calerror :   0\n",
      "   ub_isr_vt_track_err :   0\n",
      "   ub_isr_watchdog :   0\n",
      "   ub_ub_msg :   0\n",
      "\n",
      "----------------------------------\n",
      "\n",
      " Memory Configuration \n",
      "\n",
      "----------------------------------\n",
      "\n",
      "DDRMC Core Name :   ddr_0\n",
      "Memory Interface :   DDR4\n",
      "Device Type :   UDIMM\n",
      "Slots :   1\n",
      "Ranks :   1\n",
      "Data Width :   64\n",
      "Bytes :   8\n",
      "Nibbles :   16\n",
      "Bits per Byte :   8\n",
      "Memory Frequency 0 :   1600 MHz\n",
      "Memory Frequency 1 :   1600 MHz\n",
      "\n",
      "-----------------------------------\n",
      "\n",
      " Calibration Stages Information \n",
      "\n",
      "-----------------------------------\n",
      "\n",
      "cal_stage.01_F0_PHY_BISC :   Pass\n",
      "cal_stage.02_F0_MEM_INIT :   Pass\n",
      "cal_stage.03_F0_DQS_GATE_CAL :   Pass\n",
      "cal_stage.04_F0_WRITE_LEVELING :   Pass\n",
      "cal_stage.05_F0_READ_DQ_CAL :   Pass\n",
      "cal_stage.06_F0_WRITE_DQ_DBI_CAL :   Pass\n",
      "cal_stage.07_F0_WRITE_LATENCY_CAL :   Pass\n",
      "cal_stage.08_F0_READ_DQ_DBI_CAL_COMPLEX :   Pass\n",
      "cal_stage.09_F0_WRITE_DQ_DBI_CAL_COMPLEX :   Pass\n",
      "cal_stage.10_EN_VT_TRACK :   Pass\n",
      "cal_stage.11_READ_DQS_TRACK :   Pass\n",
      "cal_stage.12_CAL_DONE :   Pass\n",
      "\n",
      "---------------------------------------\n",
      "\n",
      " Calibration Window Margin Analysis \n",
      "\n",
      "---------------------------------------\n",
      "\n",
      "\n",
      " Frequency 0  - Read Margin - Simple Pattern - Rising Edge Clock in pS and (delay taps):\n",
      "\n",
      "Byte  0  Nibble 0  -   Left Margin:   146  ( 75 )  Center Point:   180  ( 92 )  Right Margin:   146  ( 75 )\n",
      "Byte  0  Nibble 1  -   Left Margin:   150  ( 78 )  Center Point:   183  ( 95 )  Right Margin:   152  ( 79 )\n",
      "Byte  1  Nibble 0  -   Left Margin:   146  ( 75 )  Center Point:   180  ( 92 )  Right Margin:   146  ( 75 )\n",
      "Byte  1  Nibble 1  -   Left Margin:   152  ( 78 )  Center Point:   186  ( 95 )  Right Margin:   154  ( 79 )\n",
      "Byte  2  Nibble 0  -   Left Margin:   148  ( 75 )  Center Point:   182  ( 92 )  Right Margin:   148  ( 75 )\n",
      "Byte  2  Nibble 1  -   Left Margin:   156  ( 80 )  Center Point:   189  ( 97 )  Right Margin:   156  ( 80 )\n",
      "Byte  3  Nibble 0  -   Left Margin:   146  ( 74 )  Center Point:   180  ( 91 )  Right Margin:   148  ( 75 )\n",
      "Byte  3  Nibble 1  -   Left Margin:   154  ( 76 )  Center Point:   189  ( 93 )  Right Margin:   154  ( 76 )\n",
      "Byte  4  Nibble 0  -   Left Margin:   148  ( 76 )  Center Point:   182  ( 93 )  Right Margin:   148  ( 76 )\n",
      "Byte  4  Nibble 1  -   Left Margin:   156  ( 78 )  Center Point:   190  ( 95 )  Right Margin:   158  ( 79 )\n",
      "Byte  5  Nibble 0  -   Left Margin:   154  ( 78 )  Center Point:   188  ( 95 )  Right Margin:   156  ( 79 )\n",
      "Byte  5  Nibble 1  -   Left Margin:   154  ( 78 )  Center Point:   188  ( 95 )  Right Margin:   156  ( 79 )\n",
      "Byte  6  Nibble 0  -   Left Margin:   148  ( 76 )  Center Point:   182  ( 93 )  Right Margin:   148  ( 76 )\n",
      "Byte  6  Nibble 1  -   Left Margin:   147  ( 76 )  Center Point:   179  ( 93 )  Right Margin:   147  ( 76 )\n",
      "Byte  7  Nibble 0  -   Left Margin:   145  ( 74 )  Center Point:   178  ( 91 )  Right Margin:   146  ( 75 )\n",
      "Byte  7  Nibble 1  -   Left Margin:   145  ( 74 )  Center Point:   178  ( 91 )  Right Margin:   146  ( 75 )\n",
      "\n",
      " Frequency 0  - Read Margin - Simple Pattern - Falling Edge Clock in pS and (delay taps):\n",
      "\n",
      "Byte  0  Nibble 0  -   Left Margin:   148  ( 76 )  Center Point:   188  ( 96 )  Right Margin:   148  ( 76 )\n",
      "Byte  0  Nibble 1  -   Left Margin:   145  ( 76 )  Center Point:   192  ( 101 )  Right Margin:   145  ( 76 )\n",
      "Byte  1  Nibble 0  -   Left Margin:   146  ( 75 )  Center Point:   195  ( 100 )  Right Margin:   146  ( 75 )\n",
      "Byte  1  Nibble 1  -   Left Margin:   144  ( 73 )  Center Point:   194  ( 98 )  Right Margin:   146  ( 74 )\n",
      "Byte  2  Nibble 0  -   Left Margin:   145  ( 74 )  Center Point:   199  ( 102 )  Right Margin:   146  ( 75 )\n",
      "Byte  2  Nibble 1  -   Left Margin:   145  ( 75 )  Center Point:   199  ( 103 )  Right Margin:   147  ( 76 )\n",
      "Byte  3  Nibble 0  -   Left Margin:   148  ( 76 )  Center Point:   188  ( 96 )  Right Margin:   148  ( 76 )\n",
      "Byte  3  Nibble 1  -   Left Margin:   146  ( 75 )  Center Point:   197  ( 101 )  Right Margin:   148  ( 76 )\n",
      "Byte  4  Nibble 0  -   Left Margin:   145  ( 74 )  Center Point:   189  ( 97 )  Right Margin:   146  ( 75 )\n",
      "Byte  4  Nibble 1  -   Left Margin:   144  ( 72 )  Center Point:   200  ( 100 )  Right Margin:   146  ( 73 )\n",
      "Byte  5  Nibble 0  -   Left Margin:   144  ( 73 )  Center Point:   200  ( 101 )  Right Margin:   146  ( 74 )\n",
      "Byte  5  Nibble 1  -   Left Margin:   148  ( 75 )  Center Point:   202  ( 102 )  Right Margin:   148  ( 75 )\n",
      "Byte  6  Nibble 0  -   Left Margin:   143  ( 75 )  Center Point:   191  ( 100 )  Right Margin:   143  ( 75 )\n",
      "Byte  6  Nibble 1  -   Left Margin:   141  ( 75 )  Center Point:   190  ( 101 )  Right Margin:   141  ( 75 )\n",
      "Byte  7  Nibble 0  -   Left Margin:   145  ( 75 )  Center Point:   195  ( 101 )  Right Margin:   145  ( 75 )\n",
      "Byte  7  Nibble 1  -   Left Margin:   143  ( 73 )  Center Point:   203  ( 104 )  Right Margin:   145  ( 74 )\n",
      "\n",
      " Frequency 0  - Read Margin - Complex Pattern - Rising Edge Clock in pS and (delay taps):\n",
      "\n",
      "Byte  0  Nibble 0  -   Left Margin:   137  ( 70 )  Center Point:   176  ( 90 )  Right Margin:   139  ( 71 )\n",
      "Byte  0  Nibble 1  -   Left Margin:   133  ( 69 )  Center Point:   181  ( 94 )  Right Margin:   135  ( 70 )\n",
      "Byte  1  Nibble 0  -   Left Margin:   131  ( 67 )  Center Point:   170  ( 87 )  Right Margin:   133  ( 68 )\n",
      "Byte  1  Nibble 1  -   Left Margin:   133  ( 68 )  Center Point:   180  ( 92 )  Right Margin:   133  ( 68 )\n",
      "Byte  2  Nibble 0  -   Left Margin:   127  ( 64 )  Center Point:   174  ( 88 )  Right Margin:   127  ( 64 )\n",
      "Byte  2  Nibble 1  -   Left Margin:   127  ( 65 )  Center Point:   182  ( 93 )  Right Margin:   129  ( 66 )\n",
      "Byte  3  Nibble 0  -   Left Margin:   129  ( 65 )  Center Point:   168  ( 85 )  Right Margin:   129  ( 65 )\n",
      "Byte  3  Nibble 1  -   Left Margin:   140  ( 69 )  Center Point:   187  ( 92 )  Right Margin:   142  ( 70 )\n",
      "Byte  4  Nibble 0  -   Left Margin:   119  ( 61 )  Center Point:   174  ( 89 )  Right Margin:   119  ( 61 )\n",
      "Byte  4  Nibble 1  -   Left Margin:   126  ( 63 )  Center Point:   186  ( 93 )  Right Margin:   128  ( 64 )\n",
      "Byte  5  Nibble 0  -   Left Margin:   133  ( 67 )  Center Point:   176  ( 89 )  Right Margin:   134  ( 68 )\n"
     ]
    },
    {
     "name": "stdout",
     "output_type": "stream",
     "text": [
      "Byte  5  Nibble 1  -   Left Margin:   138  ( 70 )  Center Point:   190  ( 96 )  Right Margin:   140  ( 71 )\n",
      "Byte  6  Nibble 0  -   Left Margin:   131  ( 67 )  Center Point:   178  ( 91 )  Right Margin:   131  ( 67 )\n",
      "Byte  6  Nibble 1  -   Left Margin:   129  ( 67 )  Center Point:   176  ( 91 )  Right Margin:   129  ( 67 )\n",
      "Byte  7  Nibble 0  -   Left Margin:   129  ( 66 )  Center Point:   182  ( 93 )  Right Margin:   129  ( 66 )\n",
      "Byte  7  Nibble 1  -   Left Margin:   129  ( 66 )  Center Point:   182  ( 93 )  Right Margin:   129  ( 66 )\n",
      "\n",
      " Frequency 0  - Read Margin - Complex Pattern - Falling Edge Clock in pS and (delay taps):\n",
      "\n",
      "Byte  0  Nibble 0  -   Left Margin:   129  ( 66 )  Center Point:   166  ( 85 )  Right Margin:   129  ( 66 )\n",
      "Byte  0  Nibble 1  -   Left Margin:   122  ( 64 )  Center Point:   173  ( 91 )  Right Margin:   122  ( 64 )\n",
      "Byte  1  Nibble 0  -   Left Margin:   119  ( 61 )  Center Point:   170  ( 87 )  Right Margin:   121  ( 62 )\n",
      "Byte  1  Nibble 1  -   Left Margin:   121  ( 61 )  Center Point:   172  ( 87 )  Right Margin:   123  ( 62 )\n",
      "Byte  2  Nibble 0  -   Left Margin:   117  ( 60 )  Center Point:   174  ( 89 )  Right Margin:   117  ( 60 )\n",
      "Byte  2  Nibble 1  -   Left Margin:   114  ( 59 )  Center Point:   172  ( 89 )  Right Margin:   116  ( 60 )\n",
      "Byte  3  Nibble 0  -   Left Margin:   125  ( 64 )  Center Point:   160  ( 82 )  Right Margin:   125  ( 64 )\n",
      "Byte  3  Nibble 1  -   Left Margin:   119  ( 61 )  Center Point:   172  ( 88 )  Right Margin:   119  ( 61 )\n",
      "Byte  4  Nibble 0  -   Left Margin:   117  ( 60 )  Center Point:   166  ( 85 )  Right Margin:   117  ( 60 )\n",
      "Byte  4  Nibble 1  -   Left Margin:   120  ( 60 )  Center Point:   176  ( 88 )  Right Margin:   120  ( 60 )\n",
      "Byte  5  Nibble 0  -   Left Margin:   127  ( 64 )  Center Point:   182  ( 92 )  Right Margin:   127  ( 64 )\n",
      "Byte  5  Nibble 1  -   Left Margin:   129  ( 65 )  Center Point:   182  ( 92 )  Right Margin:   129  ( 65 )\n",
      "Byte  6  Nibble 0  -   Left Margin:   116  ( 61 )  Center Point:   166  ( 87 )  Right Margin:   118  ( 62 )\n",
      "Byte  6  Nibble 1  -   Left Margin:   113  ( 60 )  Center Point:   164  ( 87 )  Right Margin:   113  ( 60 )\n",
      "Byte  7  Nibble 0  -   Left Margin:   123  ( 64 )  Center Point:   176  ( 91 )  Right Margin:   123  ( 64 )\n",
      "Byte  7  Nibble 1  -   Left Margin:   117  ( 60 )  Center Point:   184  ( 94 )  Right Margin:   119  ( 61 )\n",
      "\n",
      " Frequency 0  - Write Margin - Simple Pattern - Calibration Window in pS and (delay taps):\n",
      "\n",
      "Byte  0   -  Left Margin:   163  ( 84 )  Center Point:   468  ( 241 )  Right Margin:   136  ( 70 )\n",
      "Byte  1   -  Left Margin:   159  ( 81 )  Center Point:   614  ( 312 )  Right Margin:   145  ( 74 )\n",
      "Byte  2   -  Left Margin:   171  ( 87 )  Center Point:   73  ( 37 )  Right Margin:   122  ( 62 )\n",
      "Byte  3   -  Left Margin:   145  ( 73 )  Center Point:   147  ( 74 )  Right Margin:   151  ( 76 )\n",
      "Byte  4   -  Left Margin:   140  ( 71 )  Center Point:   566  ( 286 )  Right Margin:   158  ( 80 )\n",
      "Byte  5   -  Left Margin:   154  ( 78 )  Center Point:   605  ( 306 )  Right Margin:   129  ( 65 )\n",
      "Byte  6   -  Left Margin:   144  ( 75 )  Center Point:   611  ( 318 )  Right Margin:   144  ( 75 )\n",
      "Byte  7   -  Left Margin:   164  ( 84 )  Center Point:   652  ( 334 )  Right Margin:   129  ( 66 )\n",
      "\n",
      " Frequency 0  - Write Margin - Complex Pattern - Calibration Window in pS and (delay taps):\n",
      "\n",
      "Byte  0   -  Left Margin:   144  ( 74 )  Center Point:   468  ( 241 )  Right Margin:   130  ( 67 )\n",
      "Byte  1   -  Left Margin:   149  ( 76 )  Center Point:   614  ( 312 )  Right Margin:   114  ( 58 )\n",
      "Byte  2   -  Left Margin:   143  ( 73 )  Center Point:   73  ( 37 )  Right Margin:   106  ( 54 )\n",
      "Byte  3   -  Left Margin:   145  ( 73 )  Center Point:   147  ( 74 )  Right Margin:   123  ( 62 )\n",
      "Byte  4   -  Left Margin:   142  ( 72 )  Center Point:   566  ( 286 )  Right Margin:   123  ( 62 )\n",
      "Byte  5   -  Left Margin:   136  ( 69 )  Center Point:   605  ( 306 )  Right Margin:   127  ( 64 )\n",
      "Byte  6   -  Left Margin:   142  ( 74 )  Center Point:   611  ( 318 )  Right Margin:   105  ( 55 )\n",
      "Byte  7   -  Left Margin:   143  ( 73 )  Center Point:   652  ( 334 )  Right Margin:   127  ( 65 )\n",
      "\n",
      "NOTE: The report is being generated and saved as: test_out.txt\n",
      "Report Done.\n",
      "\n",
      "ddr_1 is NOT enabled.\n",
      "ddr_2 is NOT enabled.\n",
      "ddr_3 is NOT enabled.\n"
     ]
    }
   ],
   "source": [
    "# print(f\"Getting DDR by DDRMC Index\")\n",
    "# ddr = versal_device.get_ddr(0)\n",
    "# props = ddr.get_property_group([])\n",
    "# print(pprint.pformat(sorted(props.items()), indent=2))\n",
    "\n",
    "ddr_list = versal_device.ddrs\n",
    "\n",
    "# ** Getting individual DDR from the list and exercise properties **\n",
    "# ddr = ddr_list.at(0)\n",
    "# props = ddr.ddr_node.get_property_group([])\n",
    "# print(pprint.pformat(sorted(props.items()), indent=2))\n",
    "\n",
    "for ddr in ddr_list:\n",
    "    if ddr.is_enabled:\n",
    "        # Use Status string base API directly\n",
    "        print(ddr.name, \"is enabled.\")\n",
    "        print(\"Calibration status is: \", ddr.get_cal_status())\n",
    "\n",
    "        # Use Property Group to get dictionary base of results\n",
    "        props = ddr.ddr_node.get_property_group([\"status\"])\n",
    "        print(pprint.pformat(props, indent=2))\n",
    "\n",
    "        # Use get Cal Stages API directly to also get dictionary results\n",
    "        props = ddr.get_cal_stages()\n",
    "        print(pprint.pformat(sorted(props.items()), indent=2))\n",
    "\n",
    "        # Use a single report command to get all latest essential\n",
    "        # Status and decoded data collected as it presents\n",
    "        ddr.report()\n",
    "        # Specify True to argument 1, and name/path to argument 2\n",
    "        # to get the report output generated and saved to a file\n",
    "        ddr.report(True, \"test_out.txt\")\n",
    "        print(\"Report Done.\\n\")\n",
    "    else:\n",
    "        print(ddr.name, \"is NOT enabled.\")"
   ]
  },
  {
   "cell_type": "code",
   "execution_count": null,
   "metadata": {},
   "outputs": [],
   "source": []
  }
 ],
 "metadata": {
  "jupytext": {
   "cell_metadata_filter": "-all",
   "main_language": "python",
   "notebook_metadata_filter": "-all",
   "text_representation": {
    "extension": ".py",
    "format_name": "percent"
   }
  },
  "kernelspec": {
   "display_name": "Python 3",
   "language": "python",
   "name": "python3"
  },
  "language_info": {
   "codemirror_mode": {
    "name": "ipython",
    "version": 3
   },
   "file_extension": ".py",
   "mimetype": "text/x-python",
   "name": "python",
   "nbconvert_exporter": "python",
   "pygments_lexer": "ipython3",
   "version": "3.8.8"
  }
 },
 "nbformat": 4,
 "nbformat_minor": 2
}
