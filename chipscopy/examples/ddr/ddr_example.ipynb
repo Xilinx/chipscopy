{
 "cells": [
  {
   "cell_type": "markdown",
   "id": "14cabde9",
   "metadata": {
    "papermill": {
     "duration": 0.004517,
     "end_time": "2023-06-07T21:04:56.315952",
     "exception": false,
     "start_time": "2023-06-07T21:04:56.311435",
     "status": "completed"
    },
    "tags": []
   },
   "source": [
    "<link rel=\"preconnect\" href=\"https://fonts.gstatic.com\">\n",
    "<link href=\"https://fonts.googleapis.com/css2?family=Fira+Code&display=swap\" rel=\"stylesheet\">\n",
    "\n",
    "### License\n",
    "\n",
    "<p style=\"font-family: 'Fira Code', monospace; font-size: 1.2rem\">\n",
    "Copyright (c) 2021-2022 Xilinx, Inc.<br>\n",
    "Copyright (c) 2022-2023 Advanced Micro Devices, Inc.<br><br>\n",
    "Licensed under the Apache License, Version 2.0 (the \"License\");<br>\n",
    "you may not use this file except in compliance with the License.<br><br>\n",
    "You may obtain a copy of the License at <a href=\"http://www.apache.org/licenses/LICENSE-2.0\"?>http://www.apache.org/licenses/LICENSE-2.0</a><br><br>\n",
    "Unless required by applicable law or agreed to in writing, software<br>\n",
    "distributed under the License is distributed on an \"AS IS\" BASIS,<br>\n",
    "WITHOUT WARRANTIES OR CONDITIONS OF ANY KIND, either express or implied.<br>\n",
    "See the License for the specific language governing permissions and<br>\n",
    "limitations under the License.<br>\n",
    "</p>\n"
   ]
  },
  {
   "cell_type": "markdown",
   "id": "37bd20c0",
   "metadata": {
    "papermill": {
     "duration": 0.003258,
     "end_time": "2023-06-07T21:04:56.322923",
     "exception": false,
     "start_time": "2023-06-07T21:04:56.319665",
     "status": "completed"
    },
    "tags": []
   },
   "source": [
    "# ChipScoPy DDR Reporting Example\n",
    "\n",
    "\n",
    "<img src=\"../img/api_overview.png\" width=\"500\" align=\"left\">"
   ]
  },
  {
   "cell_type": "markdown",
   "id": "85f36adc",
   "metadata": {
    "papermill": {
     "duration": 0.003397,
     "end_time": "2023-06-07T21:04:56.329826",
     "exception": false,
     "start_time": "2023-06-07T21:04:56.326429",
     "status": "completed"
    },
    "tags": []
   },
   "source": [
    "## Description\n",
    "This demo shows how to print and report DDR calibration status and report detailed information.\n",
    "\n",
    "\n",
    "## Requirements\n",
    "- Local or remote Xilinx Versal board, such as a VCK190\n",
    "- Xilinx hw_server 2022.2 installed and running\n",
    "- Xilinx cs_server 2022.2 installed and running\n",
    "- Python 3.8 or greater installed\n",
    "- ChipScoPy 2022.2 installed\n",
    "- Jupyter notebook support and extra libs needed - Please do so, using the command `pip install chipscopy[core-addons]`"
   ]
  },
  {
   "cell_type": "markdown",
   "id": "ee2e809f",
   "metadata": {
    "papermill": {
     "duration": 0.003376,
     "end_time": "2023-06-07T21:04:56.337071",
     "exception": false,
     "start_time": "2023-06-07T21:04:56.333695",
     "status": "completed"
    },
    "tags": []
   },
   "source": [
    "## 1 - Initialization: Imports and File Paths\n",
    "\n",
    "After this step,\n",
    "- Required functions and classes are imported\n",
    "- Paths to server(s) and files are set correctly"
   ]
  },
  {
   "cell_type": "code",
   "execution_count": 1,
   "id": "91ed0cd5",
   "metadata": {
    "execution": {
     "iopub.execute_input": "2023-06-07T21:04:56.351680Z",
     "iopub.status.busy": "2023-06-07T21:04:56.351142Z",
     "iopub.status.idle": "2023-06-07T21:04:56.709627Z",
     "shell.execute_reply": "2023-06-07T21:04:56.709218Z"
    },
    "papermill": {
     "duration": 0.369422,
     "end_time": "2023-06-07T21:04:56.709764",
     "exception": false,
     "start_time": "2023-06-07T21:04:56.340342",
     "status": "completed"
    },
    "tags": []
   },
   "outputs": [],
   "source": [
    "import pprint\n",
    "import os\n",
    "import json\n",
    "from chipscopy import create_session, report_versions\n",
    "from chipscopy import get_design_files"
   ]
  },
  {
   "cell_type": "code",
   "execution_count": 2,
   "id": "2d7f5107",
   "metadata": {
    "execution": {
     "iopub.execute_input": "2023-06-07T21:04:56.722093Z",
     "iopub.status.busy": "2023-06-07T21:04:56.721731Z",
     "iopub.status.idle": "2023-06-07T21:04:56.725802Z",
     "shell.execute_reply": "2023-06-07T21:04:56.725453Z"
    },
    "papermill": {
     "duration": 0.011662,
     "end_time": "2023-06-07T21:04:56.725879",
     "exception": false,
     "start_time": "2023-06-07T21:04:56.714217",
     "status": "completed"
    },
    "tags": []
   },
   "outputs": [
    {
     "name": "stdout",
     "output_type": "stream",
     "text": [
      "HW_URL: TCP:localhost:3121\n",
      "CS_URL: TCP:localhost:3042\n",
      "PROGRAMMING_FILE: /scratch/chipscopy/chipscopy/examples/designs/vck190/production/chipscopy_ced/chipscopy_wrapper.pdi\n",
      "PROBES_FILE:/scratch/chipscopy/chipscopy/examples/designs/vck190/production/chipscopy_ced/chipscopy_wrapper.ltx\n"
     ]
    }
   ],
   "source": [
    "# Specify locations of the running hw_server and cs_server below.\n",
    "CS_URL = os.getenv(\"CS_SERVER_URL\", \"TCP:localhost:3042\")\n",
    "HW_URL = os.getenv(\"HW_SERVER_URL\", \"TCP:localhost:3121\")\n",
    "\n",
    "# The get_design_files() function tries to find the PDI and LTX files. In non-standard\n",
    "# configurations, you can put the path for PROGRAMMING_FILE and PROBES_FILE below.\n",
    "design_files = get_design_files(\"vck190/production/chipscopy_ced\")\n",
    "\n",
    "PDI_FILE = design_files.programming_file\n",
    "LTX_FILE = design_files.probes_file\n",
    "\n",
    "print(f\"HW_URL: {HW_URL}\")\n",
    "print(f\"CS_URL: {CS_URL}\")\n",
    "print(f\"PROGRAMMING_FILE: {PDI_FILE}\")\n",
    "print(f\"PROBES_FILE:{LTX_FILE}\")"
   ]
  },
  {
   "cell_type": "markdown",
   "id": "02149553",
   "metadata": {
    "papermill": {
     "duration": 0.003429,
     "end_time": "2023-06-07T21:04:56.732764",
     "exception": false,
     "start_time": "2023-06-07T21:04:56.729335",
     "status": "completed"
    },
    "tags": []
   },
   "source": [
    "## 2 - Create a session and connect to the hw_server and cs_server\n",
    "\n",
    "The session is a container that keeps track of devices and debug cores.\n",
    "After this step,\n",
    "- Session is initialized and connected to server(s)\n",
    "- Versions are detected and reported to stdout"
   ]
  },
  {
   "cell_type": "code",
   "execution_count": 3,
   "id": "600d5ae3",
   "metadata": {
    "execution": {
     "iopub.execute_input": "2023-06-07T21:04:56.742605Z",
     "iopub.status.busy": "2023-06-07T21:04:56.742260Z",
     "iopub.status.idle": "2023-06-07T21:04:57.628480Z",
     "shell.execute_reply": "2023-06-07T21:04:57.628160Z"
    },
    "papermill": {
     "duration": 0.892477,
     "end_time": "2023-06-07T21:04:57.628577",
     "exception": false,
     "start_time": "2023-06-07T21:04:56.736100",
     "status": "completed"
    },
    "tags": []
   },
   "outputs": [
    {
     "data": {
      "text/html": [
       "<pre style=\"white-space:pre;overflow-x:auto;line-height:normal;font-family:Menlo,'DejaVu Sans Mono',consolas,'Courier New',monospace\">\n",
       "\n",
       "</pre>\n"
      ],
      "text/plain": [
       "<rich.jupyter.JupyterRenderable at 0x7fa9c44f5af0>"
      ]
     },
     "metadata": {},
     "output_type": "display_data"
    },
    {
     "data": {
      "text/html": [
       "<pre style=\"white-space:pre;overflow-x:auto;line-height:normal;font-family:Menlo,'DejaVu Sans Mono',consolas,'Courier New',monospace\"><span style=\"font-style: italic\">                      ChipScoPy Version Information                      </span>\n",
       "┌────────────────────────────┬──────────────────────────────────────────┐\n",
       "│<span style=\"font-weight: bold\">                     Entity </span>│<span style=\"font-weight: bold\"> Version                                  </span>│\n",
       "├────────────────────────────┼──────────────────────────────────────────┤\n",
       "│                  ChipScoPy │ ┌───────────┬──────────────────────┐     │\n",
       "│                            │ │<span style=\"font-weight: bold\"> Attribute </span>│<span style=\"font-weight: bold\"> Value                </span>│     │\n",
       "│                            │ ├───────────┼──────────────────────┤     │\n",
       "│                            │ │     Build │ 2023.1.1685656083    │     │\n",
       "│                            │ │ Timestamp │ Jun 01 2023-15:48:03 │     │\n",
       "│                            │ └───────────┴──────────────────────┘     │\n",
       "│                            │                                          │\n",
       "│ hw_server @ localhost:3121 │ ┌───────────┬──────────────────────────┐ │\n",
       "│                            │ │<span style=\"font-weight: bold\"> Attribute </span>│<span style=\"font-weight: bold\"> Value                    </span>│ │\n",
       "│                            │ ├───────────┼──────────────────────────┤ │\n",
       "│                            │ │    Status │ Connected                │ │\n",
       "│                            │ │     Build │ 1683493450               │ │\n",
       "│                            │ │   Version │ 2023.1                   │ │\n",
       "│                            │ │ Timestamp │ Sun May  7 15:04:10 2023 │ │\n",
       "│                            │ └───────────┴──────────────────────────┘ │\n",
       "│                            │                                          │\n",
       "│ cs_server @ localhost:3042 │ ┌───────────────┬──────────────────────┐ │\n",
       "│                            │ │<span style=\"font-weight: bold\">     Attribute </span>│<span style=\"font-weight: bold\"> Value                </span>│ │\n",
       "│                            │ ├───────────────┼──────────────────────┤ │\n",
       "│                            │ │        Status │ Connected            │ │\n",
       "│                            │ │         Build │ 1681142364           │ │\n",
       "│                            │ │       Version │ 2023.1.0             │ │\n",
       "│                            │ │     Timestamp │ Apr 10 2023-09:59:24 │ │\n",
       "│                            │ │       Package │ 2023.1.1681142364    │ │\n",
       "│                            │ │ Artifact type │ pyinstaller          │ │\n",
       "│                            │ └───────────────┴──────────────────────┘ │\n",
       "└────────────────────────────┴──────────────────────────────────────────┘\n",
       "</pre>\n"
      ],
      "text/plain": [
       "<rich.jupyter.JupyterRenderable at 0x7fa9c4543400>"
      ]
     },
     "metadata": {},
     "output_type": "display_data"
    },
    {
     "data": {
      "text/html": [
       "<pre style=\"white-space:pre;overflow-x:auto;line-height:normal;font-family:Menlo,'DejaVu Sans Mono',consolas,'Courier New',monospace\">\n",
       "\n",
       "</pre>\n"
      ],
      "text/plain": [
       "<rich.jupyter.JupyterRenderable at 0x7fa9c60a67c0>"
      ]
     },
     "metadata": {},
     "output_type": "display_data"
    }
   ],
   "source": [
    "# Start of the connection\n",
    "session = create_session(cs_server_url=CS_URL, hw_server_url=HW_URL)\n",
    "report_versions(session)"
   ]
  },
  {
   "cell_type": "markdown",
   "id": "6005ccb5",
   "metadata": {
    "papermill": {
     "duration": 0.003731,
     "end_time": "2023-06-07T21:04:57.636919",
     "exception": false,
     "start_time": "2023-06-07T21:04:57.633188",
     "status": "completed"
    },
    "tags": []
   },
   "source": [
    "## 3 - Program the device with the example design\n",
    "\n",
    "After this step,\n",
    "- Device is programmed with the example programming file"
   ]
  },
  {
   "cell_type": "code",
   "execution_count": 4,
   "id": "80a5d623",
   "metadata": {
    "execution": {
     "iopub.execute_input": "2023-06-07T21:04:57.648972Z",
     "iopub.status.busy": "2023-06-07T21:04:57.648500Z",
     "iopub.status.idle": "2023-06-07T21:05:03.249116Z",
     "shell.execute_reply": "2023-06-07T21:05:03.247550Z"
    },
    "papermill": {
     "duration": 5.608668,
     "end_time": "2023-06-07T21:05:03.249221",
     "exception": false,
     "start_time": "2023-06-07T21:04:57.640553",
     "status": "completed"
    },
    "tags": []
   },
   "outputs": [
    {
     "data": {
      "text/html": [
       "<pre style=\"white-space:pre;overflow-x:auto;line-height:normal;font-family:Menlo,'DejaVu Sans Mono',consolas,'Courier New',monospace\">\n",
       "<span style=\"font-weight: bold\">--&gt; INFO: </span>Programming device with: /scratch/chipscopy/chipscopy/examples/designs/vck190/produ\n",
       "ction/chipscopy_ced/chipscopy_wrapper.pdi\n",
       "    \n",
       "</pre>\n"
      ],
      "text/plain": [
       "<rich.jupyter.JupyterRenderable at 0x7fa9c44f57c0>"
      ]
     },
     "metadata": {},
     "output_type": "display_data"
    },
    {
     "data": {
      "application/vnd.jupyter.widget-view+json": {
       "model_id": "bdfbb08c601f4505b7afe8358af5a50b",
       "version_major": 2,
       "version_minor": 0
      },
      "text/plain": [
       "Output()"
      ]
     },
     "metadata": {},
     "output_type": "display_data"
    }
   ],
   "source": [
    "# Typical case - one device on the board - get it.\n",
    "versal_device = session.devices.filter_by(family=\"versal\").get()\n",
    "versal_device.program(PDI_FILE)"
   ]
  },
  {
   "cell_type": "markdown",
   "id": "d14111e3",
   "metadata": {
    "papermill": {
     "duration": 0.003814,
     "end_time": "2023-06-07T21:05:03.257875",
     "exception": false,
     "start_time": "2023-06-07T21:05:03.254061",
     "status": "completed"
    },
    "tags": []
   },
   "source": [
    "## 4 - Discover Debug Cores\n",
    "\n",
    "Debug core discovery initializes the chipscope server debug cores. This brings debug cores in the chipscope server online.\n",
    "\n",
    "After this step,\n",
    "\n",
    "- The cs_server is initialized and ready for use"
   ]
  },
  {
   "cell_type": "code",
   "execution_count": 5,
   "id": "2420a7dc",
   "metadata": {
    "execution": {
     "iopub.execute_input": "2023-06-07T21:05:03.643367Z",
     "iopub.status.busy": "2023-06-07T21:05:03.643010Z",
     "iopub.status.idle": "2023-06-07T21:05:03.734783Z",
     "shell.execute_reply": "2023-06-07T21:05:03.735077Z"
    },
    "papermill": {
     "duration": 0.472837,
     "end_time": "2023-06-07T21:05:03.735245",
     "exception": false,
     "start_time": "2023-06-07T21:05:03.262408",
     "status": "completed"
    },
    "tags": []
   },
   "outputs": [
    {
     "name": "stdout",
     "output_type": "stream",
     "text": [
      "Debug cores setup and ready for use.\n"
     ]
    }
   ],
   "source": [
    "versal_device.discover_and_setup_cores()\n",
    "print(f\"Debug cores setup and ready for use.\")"
   ]
  },
  {
   "cell_type": "markdown",
   "id": "f440f308",
   "metadata": {
    "papermill": {
     "duration": 0.004064,
     "end_time": "2023-06-07T21:05:03.744407",
     "exception": false,
     "start_time": "2023-06-07T21:05:03.740343",
     "status": "completed"
    },
    "tags": []
   },
   "source": [
    "## 5 - Show enabled DDRs in the device. Pick one to use"
   ]
  },
  {
   "cell_type": "code",
   "execution_count": 6,
   "id": "6072af0e",
   "metadata": {
    "execution": {
     "iopub.execute_input": "2023-06-07T21:05:03.756535Z",
     "iopub.status.busy": "2023-06-07T21:05:03.755958Z",
     "iopub.status.idle": "2023-06-07T21:05:05.229746Z",
     "shell.execute_reply": "2023-06-07T21:05:05.229389Z"
    },
    "papermill": {
     "duration": 1.481493,
     "end_time": "2023-06-07T21:05:05.229850",
     "exception": false,
     "start_time": "2023-06-07T21:05:03.748357",
     "status": "completed"
    },
    "tags": []
   },
   "outputs": [
    {
     "name": "stdout",
     "output_type": "stream",
     "text": [
      "ddr_0   Enabled: True\n",
      "ddr_1   Enabled: False\n",
      "ddr_2   Enabled: False\n",
      "ddr_3   Enabled: False\n",
      "Using Enabled DDR:  ddr_0\n"
     ]
    }
   ],
   "source": [
    "ddr_list = versal_device.ddrs\n",
    "for ddr in ddr_list:\n",
    "    print(ddr, \"  Enabled:\", ddr.is_enabled)\n",
    "\n",
    "# Grab the first enabled DDR\n",
    "for ddr in ddr_list:\n",
    "    if ddr.is_enabled:\n",
    "        print(\"Using Enabled DDR: \", ddr)\n",
    "        break"
   ]
  },
  {
   "cell_type": "markdown",
   "id": "6d9d5cd6",
   "metadata": {
    "papermill": {
     "duration": 0.003881,
     "end_time": "2023-06-07T21:05:05.238269",
     "exception": false,
     "start_time": "2023-06-07T21:05:05.234388",
     "status": "completed"
    },
    "tags": []
   },
   "source": [
    "## 6 - Getting the Calibration Status\n",
    "\n",
    "There are several methods available to collect memory calibration information."
   ]
  },
  {
   "cell_type": "markdown",
   "id": "2227188e",
   "metadata": {
    "papermill": {
     "duration": 0.003859,
     "end_time": "2023-06-07T21:05:05.246110",
     "exception": false,
     "start_time": "2023-06-07T21:05:05.242251",
     "status": "completed"
    },
    "tags": []
   },
   "source": [
    "### Method 1 - Calibration PASS/FAIL status"
   ]
  },
  {
   "cell_type": "code",
   "execution_count": 7,
   "id": "5dc0f67f",
   "metadata": {
    "execution": {
     "iopub.execute_input": "2023-06-07T21:05:05.258140Z",
     "iopub.status.busy": "2023-06-07T21:05:05.257270Z",
     "iopub.status.idle": "2023-06-07T21:05:05.304609Z",
     "shell.execute_reply": "2023-06-07T21:05:05.304872Z"
    },
    "papermill": {
     "duration": 0.055018,
     "end_time": "2023-06-07T21:05:05.304976",
     "exception": false,
     "start_time": "2023-06-07T21:05:05.249958",
     "status": "completed"
    },
    "tags": []
   },
   "outputs": [
    {
     "name": "stdout",
     "output_type": "stream",
     "text": [
      "ddr_0 calibration status: PASS\n"
     ]
    }
   ],
   "source": [
    "# Method 1 - Use Status string base API directly\n",
    "print(ddr, \"calibration status:\", ddr.get_cal_status())"
   ]
  },
  {
   "cell_type": "markdown",
   "id": "aad82894",
   "metadata": {
    "papermill": {
     "duration": 0.003876,
     "end_time": "2023-06-07T21:05:05.313003",
     "exception": false,
     "start_time": "2023-06-07T21:05:05.309127",
     "status": "completed"
    },
    "tags": []
   },
   "source": [
    "### Method 2 - Calibration from the status property group"
   ]
  },
  {
   "cell_type": "code",
   "execution_count": 8,
   "id": "dfe5f842",
   "metadata": {
    "execution": {
     "iopub.execute_input": "2023-06-07T21:05:05.326848Z",
     "iopub.status.busy": "2023-06-07T21:05:05.325677Z",
     "iopub.status.idle": "2023-06-07T21:05:05.372784Z",
     "shell.execute_reply": "2023-06-07T21:05:05.372455Z"
    },
    "papermill": {
     "duration": 0.055608,
     "end_time": "2023-06-07T21:05:05.372860",
     "exception": false,
     "start_time": "2023-06-07T21:05:05.317252",
     "status": "completed"
    },
    "tags": []
   },
   "outputs": [
    {
     "name": "stdout",
     "output_type": "stream",
     "text": [
      "{ 'cal_error_msg': 'None',\n",
      "  'cal_message': 'No errors detected during calibration.',\n",
      "  'cal_status': 'PASS',\n",
      "  'dqs_status': 'Running',\n",
      "  'health_status': 'GOOD',\n",
      "  'track_enable': 'DDRMC ISR Tracking, Post-Cal Status, UB ISR Tracking, DQS '\n",
      "                  'Gate Tracking'}\n"
     ]
    }
   ],
   "source": [
    "# Use Property Group to get dictionary base of results\n",
    "props = ddr.ddr_node.get_property_group([\"status\"])\n",
    "print(pprint.pformat(props, indent=2))"
   ]
  },
  {
   "cell_type": "markdown",
   "id": "5bcebf43",
   "metadata": {
    "papermill": {
     "duration": 0.003963,
     "end_time": "2023-06-07T21:05:05.381254",
     "exception": false,
     "start_time": "2023-06-07T21:05:05.377291",
     "status": "completed"
    },
    "tags": []
   },
   "source": [
    "### Method 3 - Detailed calibration status for each stage"
   ]
  },
  {
   "cell_type": "code",
   "execution_count": 9,
   "id": "d27674fa",
   "metadata": {
    "execution": {
     "iopub.execute_input": "2023-06-07T21:05:05.393557Z",
     "iopub.status.busy": "2023-06-07T21:05:05.393203Z",
     "iopub.status.idle": "2023-06-07T21:05:05.440328Z",
     "shell.execute_reply": "2023-06-07T21:05:05.440013Z"
    },
    "papermill": {
     "duration": 0.055249,
     "end_time": "2023-06-07T21:05:05.440408",
     "exception": false,
     "start_time": "2023-06-07T21:05:05.385159",
     "status": "completed"
    },
    "tags": []
   },
   "outputs": [
    {
     "name": "stdout",
     "output_type": "stream",
     "text": [
      "[ ('cal_stage.01_F0_PHY_BISC', 'Pass'),\n",
      "  ('cal_stage.02_F0_MEM_INIT', 'Pass'),\n",
      "  ('cal_stage.03_F0_DQS_GATE_CAL', 'Pass'),\n",
      "  ('cal_stage.04_F0_WRITE_LEVELING', 'Pass'),\n",
      "  ('cal_stage.05_F0_READ_DQ_CAL', 'Pass'),\n",
      "  ('cal_stage.06_F0_WRITE_DQ_DBI_CAL', 'Pass'),\n",
      "  ('cal_stage.07_F0_WRITE_LATENCY_CAL', 'Pass'),\n",
      "  ('cal_stage.08_F0_READ_DQ_DBI_CAL_COMPLEX', 'Pass'),\n",
      "  ('cal_stage.09_F0_WRITE_DQ_DBI_CAL_COMPLEX', 'Pass'),\n",
      "  ('cal_stage.10_EN_VT_TRACK', 'Pass'),\n",
      "  ('cal_stage.11_READ_DQS_TRACK', 'Pass'),\n",
      "  ('cal_stage.12_CAL_DONE', 'Pass')]\n"
     ]
    }
   ],
   "source": [
    "# Use get Cal Stages API directly to also get dictionary results\n",
    "props = ddr.get_cal_stages()\n",
    "print(pprint.pformat(sorted(props.items()), indent=2))"
   ]
  },
  {
   "cell_type": "markdown",
   "id": "2efb3d5e",
   "metadata": {
    "papermill": {
     "duration": 0.004253,
     "end_time": "2023-06-07T21:05:05.449098",
     "exception": false,
     "start_time": "2023-06-07T21:05:05.444845",
     "status": "completed"
    },
    "tags": []
   },
   "source": [
    "## 7 - Generate Full DDRMC Report\n",
    "\n",
    "The report() API call creates a full DDRMC status report to stdout or a file. This report includes memory configuration, margin analysis, calibration, and health status information."
   ]
  },
  {
   "cell_type": "code",
   "execution_count": 10,
   "id": "056775bc",
   "metadata": {
    "execution": {
     "iopub.execute_input": "2023-06-07T21:05:05.460996Z",
     "iopub.status.busy": "2023-06-07T21:05:05.460609Z",
     "iopub.status.idle": "2023-06-07T21:05:10.129570Z",
     "shell.execute_reply": "2023-06-07T21:05:10.129846Z"
    },
    "papermill": {
     "duration": 4.676757,
     "end_time": "2023-06-07T21:05:10.130020",
     "exception": false,
     "start_time": "2023-06-07T21:05:05.453263",
     "status": "completed"
    },
    "scrolled": false,
    "tags": []
   },
   "outputs": [
    {
     "data": {
      "text/html": [
       "<pre style=\"white-space:pre;overflow-x:auto;line-height:normal;font-family:Menlo,'DejaVu Sans Mono',consolas,'Courier New',monospace\">-------------------\n",
       "\n",
       "</pre>\n"
      ],
      "text/plain": [
       "<rich.jupyter.JupyterRenderable at 0x7fa9c43bd5e0>"
      ]
     },
     "metadata": {},
     "output_type": "display_data"
    },
    {
     "data": {
      "text/html": [
       "<pre style=\"white-space:pre;overflow-x:auto;line-height:normal;font-family:Menlo,'DejaVu Sans Mono',consolas,'Courier New',monospace\"> DDRMC Status \n",
       "\n",
       "</pre>\n"
      ],
      "text/plain": [
       "<rich.jupyter.JupyterRenderable at 0x7fa9c43c7f70>"
      ]
     },
     "metadata": {},
     "output_type": "display_data"
    },
    {
     "data": {
      "text/html": [
       "<pre style=\"white-space:pre;overflow-x:auto;line-height:normal;font-family:Menlo,'DejaVu Sans Mono',consolas,'Courier New',monospace\">-------------------\n",
       "\n",
       "</pre>\n"
      ],
      "text/plain": [
       "<rich.jupyter.JupyterRenderable at 0x7fa9c436e070>"
      ]
     },
     "metadata": {},
     "output_type": "display_data"
    },
    {
     "data": {
      "text/html": [
       "<pre style=\"white-space:pre;overflow-x:auto;line-height:normal;font-family:Menlo,'DejaVu Sans Mono',consolas,'Courier New',monospace\">Calibration Status:   PASS \n",
       "\n",
       "</pre>\n"
      ],
      "text/plain": [
       "<rich.jupyter.JupyterRenderable at 0x7fa9c5034070>"
      ]
     },
     "metadata": {},
     "output_type": "display_data"
    },
    {
     "data": {
      "text/html": [
       "<pre style=\"white-space:pre;overflow-x:auto;line-height:normal;font-family:Menlo,'DejaVu Sans Mono',consolas,'Courier New',monospace\">Overall Health:   GOOD \n",
       "\n",
       "</pre>\n"
      ],
      "text/plain": [
       "<rich.jupyter.JupyterRenderable at 0x7fa9c5034100>"
      ]
     },
     "metadata": {},
     "output_type": "display_data"
    },
    {
     "data": {
      "text/html": [
       "<pre style=\"white-space:pre;overflow-x:auto;line-height:normal;font-family:Menlo,'DejaVu Sans Mono',consolas,'Courier New',monospace\">Message:   No errors detected during calibration. \n",
       "\n",
       "</pre>\n"
      ],
      "text/plain": [
       "<rich.jupyter.JupyterRenderable at 0x7fa9c5034040>"
      ]
     },
     "metadata": {},
     "output_type": "display_data"
    },
    {
     "data": {
      "text/html": [
       "<pre style=\"white-space:pre;overflow-x:auto;line-height:normal;font-family:Menlo,'DejaVu Sans Mono',consolas,'Courier New',monospace\">\n",
       "-------------------\n",
       "\n",
       "</pre>\n"
      ],
      "text/plain": [
       "<rich.jupyter.JupyterRenderable at 0x7fa9c60b56a0>"
      ]
     },
     "metadata": {},
     "output_type": "display_data"
    },
    {
     "data": {
      "text/html": [
       "<pre style=\"white-space:pre;overflow-x:auto;line-height:normal;font-family:Menlo,'DejaVu Sans Mono',consolas,'Courier New',monospace\"> Status Registers\n",
       "\n",
       "</pre>\n"
      ],
      "text/plain": [
       "<rich.jupyter.JupyterRenderable at 0x7fa9c45c8b80>"
      ]
     },
     "metadata": {},
     "output_type": "display_data"
    },
    {
     "data": {
      "text/html": [
       "<pre style=\"white-space:pre;overflow-x:auto;line-height:normal;font-family:Menlo,'DejaVu Sans Mono',consolas,'Courier New',monospace\">-------------------\n",
       "\n",
       "</pre>\n"
      ],
      "text/plain": [
       "<rich.jupyter.JupyterRenderable at 0x7fa9c60b57c0>"
      ]
     },
     "metadata": {},
     "output_type": "display_data"
    },
    {
     "data": {
      "text/html": [
       "<pre style=\"white-space:pre;overflow-x:auto;line-height:normal;font-family:Menlo,'DejaVu Sans Mono',consolas,'Courier New',monospace\">DDRMC ISR Table\n",
       "\n",
       "</pre>\n"
      ],
      "text/plain": [
       "<rich.jupyter.JupyterRenderable at 0x7fa9c45c8b80>"
      ]
     },
     "metadata": {},
     "output_type": "display_data"
    },
    {
     "data": {
      "text/html": [
       "<pre style=\"white-space:pre;overflow-x:auto;line-height:normal;font-family:Menlo,'DejaVu Sans Mono',consolas,'Courier New',monospace\">   ddrmc_isr_ce0_ecc0 :   <span style=\"color: #000080; text-decoration-color: #000080; font-weight: bold\">0</span>\n",
       "</pre>\n"
      ],
      "text/plain": [
       "<rich.jupyter.JupyterRenderable at 0x7fa9c45c8760>"
      ]
     },
     "metadata": {},
     "output_type": "display_data"
    },
    {
     "data": {
      "text/html": [
       "<pre style=\"white-space:pre;overflow-x:auto;line-height:normal;font-family:Menlo,'DejaVu Sans Mono',consolas,'Courier New',monospace\">   ddrmc_isr_ce0_ecc1 :   <span style=\"color: #000080; text-decoration-color: #000080; font-weight: bold\">0</span>\n",
       "</pre>\n"
      ],
      "text/plain": [
       "<rich.jupyter.JupyterRenderable at 0x7fa9c45c8c10>"
      ]
     },
     "metadata": {},
     "output_type": "display_data"
    },
    {
     "data": {
      "text/html": [
       "<pre style=\"white-space:pre;overflow-x:auto;line-height:normal;font-family:Menlo,'DejaVu Sans Mono',consolas,'Courier New',monospace\">   ddrmc_isr_ce1_ecc0 :   <span style=\"color: #000080; text-decoration-color: #000080; font-weight: bold\">0</span>\n",
       "</pre>\n"
      ],
      "text/plain": [
       "<rich.jupyter.JupyterRenderable at 0x7fa9c45c8070>"
      ]
     },
     "metadata": {},
     "output_type": "display_data"
    },
    {
     "data": {
      "text/html": [
       "<pre style=\"white-space:pre;overflow-x:auto;line-height:normal;font-family:Menlo,'DejaVu Sans Mono',consolas,'Courier New',monospace\">   ddrmc_isr_ce1_ecc1 :   <span style=\"color: #000080; text-decoration-color: #000080; font-weight: bold\">0</span>\n",
       "</pre>\n"
      ],
      "text/plain": [
       "<rich.jupyter.JupyterRenderable at 0x7fa9c45c8160>"
      ]
     },
     "metadata": {},
     "output_type": "display_data"
    },
    {
     "data": {
      "text/html": [
       "<pre style=\"white-space:pre;overflow-x:auto;line-height:normal;font-family:Menlo,'DejaVu Sans Mono',consolas,'Courier New',monospace\">   ddrmc_isr_ch0_data_par :   <span style=\"color: #000080; text-decoration-color: #000080; font-weight: bold\">0</span>\n",
       "</pre>\n"
      ],
      "text/plain": [
       "<rich.jupyter.JupyterRenderable at 0x7fa9c45c8760>"
      ]
     },
     "metadata": {},
     "output_type": "display_data"
    },
    {
     "data": {
      "text/html": [
       "<pre style=\"white-space:pre;overflow-x:auto;line-height:normal;font-family:Menlo,'DejaVu Sans Mono',consolas,'Courier New',monospace\">   ddrmc_isr_ch1_data_par :   <span style=\"color: #000080; text-decoration-color: #000080; font-weight: bold\">0</span>\n",
       "</pre>\n"
      ],
      "text/plain": [
       "<rich.jupyter.JupyterRenderable at 0x7fa9c45c8c10>"
      ]
     },
     "metadata": {},
     "output_type": "display_data"
    },
    {
     "data": {
      "text/html": [
       "<pre style=\"white-space:pre;overflow-x:auto;line-height:normal;font-family:Menlo,'DejaVu Sans Mono',consolas,'Courier New',monospace\">   ddrmc_isr_dc_cmd0_fatal :   <span style=\"color: #000080; text-decoration-color: #000080; font-weight: bold\">0</span>\n",
       "</pre>\n"
      ],
      "text/plain": [
       "<rich.jupyter.JupyterRenderable at 0x7fa9c45c8070>"
      ]
     },
     "metadata": {},
     "output_type": "display_data"
    },
    {
     "data": {
      "text/html": [
       "<pre style=\"white-space:pre;overflow-x:auto;line-height:normal;font-family:Menlo,'DejaVu Sans Mono',consolas,'Courier New',monospace\">   ddrmc_isr_dc_cmd1_fatal :   <span style=\"color: #000080; text-decoration-color: #000080; font-weight: bold\">0</span>\n",
       "</pre>\n"
      ],
      "text/plain": [
       "<rich.jupyter.JupyterRenderable at 0x7fa9c45c8160>"
      ]
     },
     "metadata": {},
     "output_type": "display_data"
    },
    {
     "data": {
      "text/html": [
       "<pre style=\"white-space:pre;overflow-x:auto;line-height:normal;font-family:Menlo,'DejaVu Sans Mono',consolas,'Courier New',monospace\">   ddrmc_isr_dram_parity0 :   <span style=\"color: #000080; text-decoration-color: #000080; font-weight: bold\">0</span>\n",
       "</pre>\n"
      ],
      "text/plain": [
       "<rich.jupyter.JupyterRenderable at 0x7fa9c45c8760>"
      ]
     },
     "metadata": {},
     "output_type": "display_data"
    },
    {
     "data": {
      "text/html": [
       "<pre style=\"white-space:pre;overflow-x:auto;line-height:normal;font-family:Menlo,'DejaVu Sans Mono',consolas,'Courier New',monospace\">   ddrmc_isr_dram_parity1 :   <span style=\"color: #000080; text-decoration-color: #000080; font-weight: bold\">0</span>\n",
       "</pre>\n"
      ],
      "text/plain": [
       "<rich.jupyter.JupyterRenderable at 0x7fa9c45c8c10>"
      ]
     },
     "metadata": {},
     "output_type": "display_data"
    },
    {
     "data": {
      "text/html": [
       "<pre style=\"white-space:pre;overflow-x:auto;line-height:normal;font-family:Menlo,'DejaVu Sans Mono',consolas,'Courier New',monospace\">   ddrmc_isr_dram_parity_fatal_0 :   <span style=\"color: #000080; text-decoration-color: #000080; font-weight: bold\">0</span>\n",
       "</pre>\n"
      ],
      "text/plain": [
       "<rich.jupyter.JupyterRenderable at 0x7fa9c45c8070>"
      ]
     },
     "metadata": {},
     "output_type": "display_data"
    },
    {
     "data": {
      "text/html": [
       "<pre style=\"white-space:pre;overflow-x:auto;line-height:normal;font-family:Menlo,'DejaVu Sans Mono',consolas,'Courier New',monospace\">   ddrmc_isr_dram_parity_fatal_1 :   <span style=\"color: #000080; text-decoration-color: #000080; font-weight: bold\">0</span>\n",
       "</pre>\n"
      ],
      "text/plain": [
       "<rich.jupyter.JupyterRenderable at 0x7fa9c45c8160>"
      ]
     },
     "metadata": {},
     "output_type": "display_data"
    },
    {
     "data": {
      "text/html": [
       "<pre style=\"white-space:pre;overflow-x:auto;line-height:normal;font-family:Menlo,'DejaVu Sans Mono',consolas,'Courier New',monospace\">   ddrmc_isr_na_cmd :   <span style=\"color: #000080; text-decoration-color: #000080; font-weight: bold\">0</span>\n",
       "</pre>\n"
      ],
      "text/plain": [
       "<rich.jupyter.JupyterRenderable at 0x7fa9c45c8760>"
      ]
     },
     "metadata": {},
     "output_type": "display_data"
    },
    {
     "data": {
      "text/html": [
       "<pre style=\"white-space:pre;overflow-x:auto;line-height:normal;font-family:Menlo,'DejaVu Sans Mono',consolas,'Courier New',monospace\">   ddrmc_isr_na_cmd0 :   <span style=\"color: #000080; text-decoration-color: #000080; font-weight: bold\">0</span>\n",
       "</pre>\n"
      ],
      "text/plain": [
       "<rich.jupyter.JupyterRenderable at 0x7fa9c45c8c10>"
      ]
     },
     "metadata": {},
     "output_type": "display_data"
    },
    {
     "data": {
      "text/html": [
       "<pre style=\"white-space:pre;overflow-x:auto;line-height:normal;font-family:Menlo,'DejaVu Sans Mono',consolas,'Courier New',monospace\">   ddrmc_isr_na_cmd1 :   <span style=\"color: #000080; text-decoration-color: #000080; font-weight: bold\">0</span>\n",
       "</pre>\n"
      ],
      "text/plain": [
       "<rich.jupyter.JupyterRenderable at 0x7fa9c45c8070>"
      ]
     },
     "metadata": {},
     "output_type": "display_data"
    },
    {
     "data": {
      "text/html": [
       "<pre style=\"white-space:pre;overflow-x:auto;line-height:normal;font-family:Menlo,'DejaVu Sans Mono',consolas,'Courier New',monospace\">   ddrmc_isr_na_cmd_fatal :   <span style=\"color: #000080; text-decoration-color: #000080; font-weight: bold\">0</span>\n",
       "</pre>\n"
      ],
      "text/plain": [
       "<rich.jupyter.JupyterRenderable at 0x7fa9c45c8160>"
      ]
     },
     "metadata": {},
     "output_type": "display_data"
    },
    {
     "data": {
      "text/html": [
       "<pre style=\"white-space:pre;overflow-x:auto;line-height:normal;font-family:Menlo,'DejaVu Sans Mono',consolas,'Courier New',monospace\">   ddrmc_isr_nsu_0 :   <span style=\"color: #000080; text-decoration-color: #000080; font-weight: bold\">0</span>\n",
       "</pre>\n"
      ],
      "text/plain": [
       "<rich.jupyter.JupyterRenderable at 0x7fa9c45c8760>"
      ]
     },
     "metadata": {},
     "output_type": "display_data"
    },
    {
     "data": {
      "text/html": [
       "<pre style=\"white-space:pre;overflow-x:auto;line-height:normal;font-family:Menlo,'DejaVu Sans Mono',consolas,'Courier New',monospace\">   ddrmc_isr_nsu_1 :   <span style=\"color: #000080; text-decoration-color: #000080; font-weight: bold\">0</span>\n",
       "</pre>\n"
      ],
      "text/plain": [
       "<rich.jupyter.JupyterRenderable at 0x7fa9c45c8c10>"
      ]
     },
     "metadata": {},
     "output_type": "display_data"
    },
    {
     "data": {
      "text/html": [
       "<pre style=\"white-space:pre;overflow-x:auto;line-height:normal;font-family:Menlo,'DejaVu Sans Mono',consolas,'Courier New',monospace\">   ddrmc_isr_nsu_2 :   <span style=\"color: #000080; text-decoration-color: #000080; font-weight: bold\">0</span>\n",
       "</pre>\n"
      ],
      "text/plain": [
       "<rich.jupyter.JupyterRenderable at 0x7fa9c45c8070>"
      ]
     },
     "metadata": {},
     "output_type": "display_data"
    },
    {
     "data": {
      "text/html": [
       "<pre style=\"white-space:pre;overflow-x:auto;line-height:normal;font-family:Menlo,'DejaVu Sans Mono',consolas,'Courier New',monospace\">   ddrmc_isr_nsu_3 :   <span style=\"color: #000080; text-decoration-color: #000080; font-weight: bold\">0</span>\n",
       "</pre>\n"
      ],
      "text/plain": [
       "<rich.jupyter.JupyterRenderable at 0x7fa9c45c8160>"
      ]
     },
     "metadata": {},
     "output_type": "display_data"
    },
    {
     "data": {
      "text/html": [
       "<pre style=\"white-space:pre;overflow-x:auto;line-height:normal;font-family:Menlo,'DejaVu Sans Mono',consolas,'Courier New',monospace\">   ddrmc_isr_nsu_fatal0 :   <span style=\"color: #000080; text-decoration-color: #000080; font-weight: bold\">0</span>\n",
       "</pre>\n"
      ],
      "text/plain": [
       "<rich.jupyter.JupyterRenderable at 0x7fa9c45c8760>"
      ]
     },
     "metadata": {},
     "output_type": "display_data"
    },
    {
     "data": {
      "text/html": [
       "<pre style=\"white-space:pre;overflow-x:auto;line-height:normal;font-family:Menlo,'DejaVu Sans Mono',consolas,'Courier New',monospace\">   ddrmc_isr_nsu_fatal1 :   <span style=\"color: #000080; text-decoration-color: #000080; font-weight: bold\">0</span>\n",
       "</pre>\n"
      ],
      "text/plain": [
       "<rich.jupyter.JupyterRenderable at 0x7fa9c45c8c10>"
      ]
     },
     "metadata": {},
     "output_type": "display_data"
    },
    {
     "data": {
      "text/html": [
       "<pre style=\"white-space:pre;overflow-x:auto;line-height:normal;font-family:Menlo,'DejaVu Sans Mono',consolas,'Courier New',monospace\">   ddrmc_isr_nsu_fatal2 :   <span style=\"color: #000080; text-decoration-color: #000080; font-weight: bold\">0</span>\n",
       "</pre>\n"
      ],
      "text/plain": [
       "<rich.jupyter.JupyterRenderable at 0x7fa9c45c8070>"
      ]
     },
     "metadata": {},
     "output_type": "display_data"
    },
    {
     "data": {
      "text/html": [
       "<pre style=\"white-space:pre;overflow-x:auto;line-height:normal;font-family:Menlo,'DejaVu Sans Mono',consolas,'Courier New',monospace\">   ddrmc_isr_nsu_fatal3 :   <span style=\"color: #000080; text-decoration-color: #000080; font-weight: bold\">0</span>\n",
       "</pre>\n"
      ],
      "text/plain": [
       "<rich.jupyter.JupyterRenderable at 0x7fa9c45c8160>"
      ]
     },
     "metadata": {},
     "output_type": "display_data"
    },
    {
     "data": {
      "text/html": [
       "<pre style=\"white-space:pre;overflow-x:auto;line-height:normal;font-family:Menlo,'DejaVu Sans Mono',consolas,'Courier New',monospace\">   ddrmc_isr_uc0_ecc0 :   <span style=\"color: #000080; text-decoration-color: #000080; font-weight: bold\">0</span>\n",
       "</pre>\n"
      ],
      "text/plain": [
       "<rich.jupyter.JupyterRenderable at 0x7fa9c45c8760>"
      ]
     },
     "metadata": {},
     "output_type": "display_data"
    },
    {
     "data": {
      "text/html": [
       "<pre style=\"white-space:pre;overflow-x:auto;line-height:normal;font-family:Menlo,'DejaVu Sans Mono',consolas,'Courier New',monospace\">   ddrmc_isr_uc0_ecc1 :   <span style=\"color: #000080; text-decoration-color: #000080; font-weight: bold\">0</span>\n",
       "</pre>\n"
      ],
      "text/plain": [
       "<rich.jupyter.JupyterRenderable at 0x7fa9c45c8c10>"
      ]
     },
     "metadata": {},
     "output_type": "display_data"
    },
    {
     "data": {
      "text/html": [
       "<pre style=\"white-space:pre;overflow-x:auto;line-height:normal;font-family:Menlo,'DejaVu Sans Mono',consolas,'Courier New',monospace\">   ddrmc_isr_uc1_ecc0 :   <span style=\"color: #000080; text-decoration-color: #000080; font-weight: bold\">0</span>\n",
       "</pre>\n"
      ],
      "text/plain": [
       "<rich.jupyter.JupyterRenderable at 0x7fa9c45c8070>"
      ]
     },
     "metadata": {},
     "output_type": "display_data"
    },
    {
     "data": {
      "text/html": [
       "<pre style=\"white-space:pre;overflow-x:auto;line-height:normal;font-family:Menlo,'DejaVu Sans Mono',consolas,'Courier New',monospace\">   ddrmc_isr_uc1_ecc1 :   <span style=\"color: #000080; text-decoration-color: #000080; font-weight: bold\">0</span>\n",
       "</pre>\n"
      ],
      "text/plain": [
       "<rich.jupyter.JupyterRenderable at 0x7fa9c45c8160>"
      ]
     },
     "metadata": {},
     "output_type": "display_data"
    },
    {
     "data": {
      "text/html": [
       "<pre style=\"white-space:pre;overflow-x:auto;line-height:normal;font-family:Menlo,'DejaVu Sans Mono',consolas,'Courier New',monospace\">\n",
       "UB ISR Table\n",
       "\n",
       "</pre>\n"
      ],
      "text/plain": [
       "<rich.jupyter.JupyterRenderable at 0x7fa9c45c8760>"
      ]
     },
     "metadata": {},
     "output_type": "display_data"
    },
    {
     "data": {
      "text/html": [
       "<pre style=\"white-space:pre;overflow-x:auto;line-height:normal;font-family:Menlo,'DejaVu Sans Mono',consolas,'Courier New',monospace\">   ub_data_ce :   <span style=\"color: #000080; text-decoration-color: #000080; font-weight: bold\">0</span>\n",
       "</pre>\n"
      ],
      "text/plain": [
       "<rich.jupyter.JupyterRenderable at 0x7fa9c43c79d0>"
      ]
     },
     "metadata": {},
     "output_type": "display_data"
    },
    {
     "data": {
      "text/html": [
       "<pre style=\"white-space:pre;overflow-x:auto;line-height:normal;font-family:Menlo,'DejaVu Sans Mono',consolas,'Courier New',monospace\">   ub_data_ue :   <span style=\"color: #000080; text-decoration-color: #000080; font-weight: bold\">0</span>\n",
       "</pre>\n"
      ],
      "text/plain": [
       "<rich.jupyter.JupyterRenderable at 0x7fa9c43c78b0>"
      ]
     },
     "metadata": {},
     "output_type": "display_data"
    },
    {
     "data": {
      "text/html": [
       "<pre style=\"white-space:pre;overflow-x:auto;line-height:normal;font-family:Menlo,'DejaVu Sans Mono',consolas,'Courier New',monospace\">   ub_instr_ce :   <span style=\"color: #000080; text-decoration-color: #000080; font-weight: bold\">0</span>\n",
       "</pre>\n"
      ],
      "text/plain": [
       "<rich.jupyter.JupyterRenderable at 0x7fa9c43c7c70>"
      ]
     },
     "metadata": {},
     "output_type": "display_data"
    },
    {
     "data": {
      "text/html": [
       "<pre style=\"white-space:pre;overflow-x:auto;line-height:normal;font-family:Menlo,'DejaVu Sans Mono',consolas,'Courier New',monospace\">   ub_isntr_ue :   <span style=\"color: #000080; text-decoration-color: #000080; font-weight: bold\">0</span>\n",
       "</pre>\n"
      ],
      "text/plain": [
       "<rich.jupyter.JupyterRenderable at 0x7fa9c43c7a30>"
      ]
     },
     "metadata": {},
     "output_type": "display_data"
    },
    {
     "data": {
      "text/html": [
       "<pre style=\"white-space:pre;overflow-x:auto;line-height:normal;font-family:Menlo,'DejaVu Sans Mono',consolas,'Courier New',monospace\">   ub_isr_calerror :   <span style=\"color: #000080; text-decoration-color: #000080; font-weight: bold\">0</span>\n",
       "</pre>\n"
      ],
      "text/plain": [
       "<rich.jupyter.JupyterRenderable at 0x7fa9c43c79d0>"
      ]
     },
     "metadata": {},
     "output_type": "display_data"
    },
    {
     "data": {
      "text/html": [
       "<pre style=\"white-space:pre;overflow-x:auto;line-height:normal;font-family:Menlo,'DejaVu Sans Mono',consolas,'Courier New',monospace\">   ub_isr_vt_track_err :   <span style=\"color: #000080; text-decoration-color: #000080; font-weight: bold\">0</span>\n",
       "</pre>\n"
      ],
      "text/plain": [
       "<rich.jupyter.JupyterRenderable at 0x7fa9c43c78b0>"
      ]
     },
     "metadata": {},
     "output_type": "display_data"
    },
    {
     "data": {
      "text/html": [
       "<pre style=\"white-space:pre;overflow-x:auto;line-height:normal;font-family:Menlo,'DejaVu Sans Mono',consolas,'Courier New',monospace\">   ub_isr_watchdog :   <span style=\"color: #000080; text-decoration-color: #000080; font-weight: bold\">0</span>\n",
       "</pre>\n"
      ],
      "text/plain": [
       "<rich.jupyter.JupyterRenderable at 0x7fa9c43c7c70>"
      ]
     },
     "metadata": {},
     "output_type": "display_data"
    },
    {
     "data": {
      "text/html": [
       "<pre style=\"white-space:pre;overflow-x:auto;line-height:normal;font-family:Menlo,'DejaVu Sans Mono',consolas,'Courier New',monospace\">   ub_ub_msg :   <span style=\"color: #000080; text-decoration-color: #000080; font-weight: bold\">0</span>\n",
       "</pre>\n"
      ],
      "text/plain": [
       "<rich.jupyter.JupyterRenderable at 0x7fa9c43c7a30>"
      ]
     },
     "metadata": {},
     "output_type": "display_data"
    },
    {
     "data": {
      "text/html": [
       "<pre style=\"white-space:pre;overflow-x:auto;line-height:normal;font-family:Menlo,'DejaVu Sans Mono',consolas,'Courier New',monospace\">\n",
       "----------------------------------\n",
       "\n",
       "</pre>\n"
      ],
      "text/plain": [
       "<rich.jupyter.JupyterRenderable at 0x7fa9c43c79d0>"
      ]
     },
     "metadata": {},
     "output_type": "display_data"
    },
    {
     "data": {
      "text/html": [
       "<pre style=\"white-space:pre;overflow-x:auto;line-height:normal;font-family:Menlo,'DejaVu Sans Mono',consolas,'Courier New',monospace\"> Memory Configuration \n",
       "\n",
       "</pre>\n"
      ],
      "text/plain": [
       "<rich.jupyter.JupyterRenderable at 0x7fa9c43c7550>"
      ]
     },
     "metadata": {},
     "output_type": "display_data"
    },
    {
     "data": {
      "text/html": [
       "<pre style=\"white-space:pre;overflow-x:auto;line-height:normal;font-family:Menlo,'DejaVu Sans Mono',consolas,'Courier New',monospace\">----------------------------------\n",
       "\n",
       "</pre>\n"
      ],
      "text/plain": [
       "<rich.jupyter.JupyterRenderable at 0x7fa9c43c01f0>"
      ]
     },
     "metadata": {},
     "output_type": "display_data"
    },
    {
     "data": {
      "text/html": [
       "<pre style=\"white-space:pre;overflow-x:auto;line-height:normal;font-family:Menlo,'DejaVu Sans Mono',consolas,'Courier New',monospace\">DDRMC Core Name :   ddr_0\n",
       "</pre>\n"
      ],
      "text/plain": [
       "<rich.jupyter.JupyterRenderable at 0x7fa9c43e5790>"
      ]
     },
     "metadata": {},
     "output_type": "display_data"
    },
    {
     "data": {
      "text/html": [
       "<pre style=\"white-space:pre;overflow-x:auto;line-height:normal;font-family:Menlo,'DejaVu Sans Mono',consolas,'Courier New',monospace\">Memory Interface :   DDR4\n",
       "</pre>\n"
      ],
      "text/plain": [
       "<rich.jupyter.JupyterRenderable at 0x7fa9c60b56a0>"
      ]
     },
     "metadata": {},
     "output_type": "display_data"
    },
    {
     "data": {
      "text/html": [
       "<pre style=\"white-space:pre;overflow-x:auto;line-height:normal;font-family:Menlo,'DejaVu Sans Mono',consolas,'Courier New',monospace\">Device Type :   UDIMM\n",
       "</pre>\n"
      ],
      "text/plain": [
       "<rich.jupyter.JupyterRenderable at 0x7fa9c43c0a90>"
      ]
     },
     "metadata": {},
     "output_type": "display_data"
    },
    {
     "data": {
      "text/html": [
       "<pre style=\"white-space:pre;overflow-x:auto;line-height:normal;font-family:Menlo,'DejaVu Sans Mono',consolas,'Courier New',monospace\">MC Location :   x0y0\n",
       "</pre>\n"
      ],
      "text/plain": [
       "<rich.jupyter.JupyterRenderable at 0x7fa9c60b56a0>"
      ]
     },
     "metadata": {},
     "output_type": "display_data"
    },
    {
     "data": {
      "text/html": [
       "<pre style=\"white-space:pre;overflow-x:auto;line-height:normal;font-family:Menlo,'DejaVu Sans Mono',consolas,'Courier New',monospace\">Slots :   <span style=\"color: #000080; text-decoration-color: #000080; font-weight: bold\">1</span>\n",
       "</pre>\n"
      ],
      "text/plain": [
       "<rich.jupyter.JupyterRenderable at 0x7fa9c43e51c0>"
      ]
     },
     "metadata": {},
     "output_type": "display_data"
    },
    {
     "data": {
      "text/html": [
       "<pre style=\"white-space:pre;overflow-x:auto;line-height:normal;font-family:Menlo,'DejaVu Sans Mono',consolas,'Courier New',monospace\">Ranks :   <span style=\"color: #000080; text-decoration-color: #000080; font-weight: bold\">1</span>\n",
       "</pre>\n"
      ],
      "text/plain": [
       "<rich.jupyter.JupyterRenderable at 0x7fa9c60b5af0>"
      ]
     },
     "metadata": {},
     "output_type": "display_data"
    },
    {
     "data": {
      "text/html": [
       "<pre style=\"white-space:pre;overflow-x:auto;line-height:normal;font-family:Menlo,'DejaVu Sans Mono',consolas,'Courier New',monospace\">Data Width :   <span style=\"color: #000080; text-decoration-color: #000080; font-weight: bold\">64</span>\n",
       "</pre>\n"
      ],
      "text/plain": [
       "<rich.jupyter.JupyterRenderable at 0x7fa9c43c0a90>"
      ]
     },
     "metadata": {},
     "output_type": "display_data"
    },
    {
     "data": {
      "text/html": [
       "<pre style=\"white-space:pre;overflow-x:auto;line-height:normal;font-family:Menlo,'DejaVu Sans Mono',consolas,'Courier New',monospace\">Bytes :   <span style=\"color: #000080; text-decoration-color: #000080; font-weight: bold\">8</span>\n",
       "</pre>\n"
      ],
      "text/plain": [
       "<rich.jupyter.JupyterRenderable at 0x7fa9c60b5af0>"
      ]
     },
     "metadata": {},
     "output_type": "display_data"
    },
    {
     "data": {
      "text/html": [
       "<pre style=\"white-space:pre;overflow-x:auto;line-height:normal;font-family:Menlo,'DejaVu Sans Mono',consolas,'Courier New',monospace\">Nibbles :   <span style=\"color: #000080; text-decoration-color: #000080; font-weight: bold\">16</span>\n",
       "</pre>\n"
      ],
      "text/plain": [
       "<rich.jupyter.JupyterRenderable at 0x7fa9c43e5790>"
      ]
     },
     "metadata": {},
     "output_type": "display_data"
    },
    {
     "data": {
      "text/html": [
       "<pre style=\"white-space:pre;overflow-x:auto;line-height:normal;font-family:Menlo,'DejaVu Sans Mono',consolas,'Courier New',monospace\">Bits per Byte :   <span style=\"color: #000080; text-decoration-color: #000080; font-weight: bold\">8</span>\n",
       "</pre>\n"
      ],
      "text/plain": [
       "<rich.jupyter.JupyterRenderable at 0x7fa9c60b5af0>"
      ]
     },
     "metadata": {},
     "output_type": "display_data"
    },
    {
     "data": {
      "text/html": [
       "<pre style=\"white-space:pre;overflow-x:auto;line-height:normal;font-family:Menlo,'DejaVu Sans Mono',consolas,'Courier New',monospace\">Memory Frequency <span style=\"color: #000080; text-decoration-color: #000080; font-weight: bold\">0</span> :   <span style=\"color: #000080; text-decoration-color: #000080; font-weight: bold\">1600</span> MHz\n",
       "</pre>\n"
      ],
      "text/plain": [
       "<rich.jupyter.JupyterRenderable at 0x7fa9c43c0a90>"
      ]
     },
     "metadata": {},
     "output_type": "display_data"
    },
    {
     "data": {
      "text/html": [
       "<pre style=\"white-space:pre;overflow-x:auto;line-height:normal;font-family:Menlo,'DejaVu Sans Mono',consolas,'Courier New',monospace\">\n",
       "-----------------------------------\n",
       "\n",
       "</pre>\n"
      ],
      "text/plain": [
       "<rich.jupyter.JupyterRenderable at 0x7fa9c43e51c0>"
      ]
     },
     "metadata": {},
     "output_type": "display_data"
    },
    {
     "data": {
      "text/html": [
       "<pre style=\"white-space:pre;overflow-x:auto;line-height:normal;font-family:Menlo,'DejaVu Sans Mono',consolas,'Courier New',monospace\"> Calibration Stages Information \n",
       "\n",
       "</pre>\n"
      ],
      "text/plain": [
       "<rich.jupyter.JupyterRenderable at 0x7fa9c60b56a0>"
      ]
     },
     "metadata": {},
     "output_type": "display_data"
    },
    {
     "data": {
      "text/html": [
       "<pre style=\"white-space:pre;overflow-x:auto;line-height:normal;font-family:Menlo,'DejaVu Sans Mono',consolas,'Courier New',monospace\">-----------------------------------\n",
       "\n",
       "</pre>\n"
      ],
      "text/plain": [
       "<rich.jupyter.JupyterRenderable at 0x7fa9c43c0a90>"
      ]
     },
     "metadata": {},
     "output_type": "display_data"
    },
    {
     "data": {
      "text/html": [
       "<pre style=\"white-space:pre;overflow-x:auto;line-height:normal;font-family:Menlo,'DejaVu Sans Mono',consolas,'Courier New',monospace\">cal_stage.01_F0_PHY_BISC :   Pass\n",
       "</pre>\n"
      ],
      "text/plain": [
       "<rich.jupyter.JupyterRenderable at 0x7fa9c45c8190>"
      ]
     },
     "metadata": {},
     "output_type": "display_data"
    },
    {
     "data": {
      "text/html": [
       "<pre style=\"white-space:pre;overflow-x:auto;line-height:normal;font-family:Menlo,'DejaVu Sans Mono',consolas,'Courier New',monospace\">cal_stage.02_F0_MEM_INIT :   Pass\n",
       "</pre>\n"
      ],
      "text/plain": [
       "<rich.jupyter.JupyterRenderable at 0x7fa9c45c87f0>"
      ]
     },
     "metadata": {},
     "output_type": "display_data"
    },
    {
     "data": {
      "text/html": [
       "<pre style=\"white-space:pre;overflow-x:auto;line-height:normal;font-family:Menlo,'DejaVu Sans Mono',consolas,'Courier New',monospace\">cal_stage.03_F0_DQS_GATE_CAL :   Pass\n",
       "</pre>\n"
      ],
      "text/plain": [
       "<rich.jupyter.JupyterRenderable at 0x7fa9c45c8730>"
      ]
     },
     "metadata": {},
     "output_type": "display_data"
    },
    {
     "data": {
      "text/html": [
       "<pre style=\"white-space:pre;overflow-x:auto;line-height:normal;font-family:Menlo,'DejaVu Sans Mono',consolas,'Courier New',monospace\">cal_stage.04_F0_WRITE_LEVELING :   Pass\n",
       "</pre>\n"
      ],
      "text/plain": [
       "<rich.jupyter.JupyterRenderable at 0x7fa9c45c86d0>"
      ]
     },
     "metadata": {},
     "output_type": "display_data"
    },
    {
     "data": {
      "text/html": [
       "<pre style=\"white-space:pre;overflow-x:auto;line-height:normal;font-family:Menlo,'DejaVu Sans Mono',consolas,'Courier New',monospace\">cal_stage.05_F0_READ_DQ_CAL :   Pass\n",
       "</pre>\n"
      ],
      "text/plain": [
       "<rich.jupyter.JupyterRenderable at 0x7fa9c45c8790>"
      ]
     },
     "metadata": {},
     "output_type": "display_data"
    },
    {
     "data": {
      "text/html": [
       "<pre style=\"white-space:pre;overflow-x:auto;line-height:normal;font-family:Menlo,'DejaVu Sans Mono',consolas,'Courier New',monospace\">cal_stage.06_F0_WRITE_DQ_DBI_CAL :   Pass\n",
       "</pre>\n"
      ],
      "text/plain": [
       "<rich.jupyter.JupyterRenderable at 0x7fa9c45c8640>"
      ]
     },
     "metadata": {},
     "output_type": "display_data"
    },
    {
     "data": {
      "text/html": [
       "<pre style=\"white-space:pre;overflow-x:auto;line-height:normal;font-family:Menlo,'DejaVu Sans Mono',consolas,'Courier New',monospace\">cal_stage.07_F0_WRITE_LATENCY_CAL :   Pass\n",
       "</pre>\n"
      ],
      "text/plain": [
       "<rich.jupyter.JupyterRenderable at 0x7fa9c45c87f0>"
      ]
     },
     "metadata": {},
     "output_type": "display_data"
    },
    {
     "data": {
      "text/html": [
       "<pre style=\"white-space:pre;overflow-x:auto;line-height:normal;font-family:Menlo,'DejaVu Sans Mono',consolas,'Courier New',monospace\">cal_stage.08_F0_READ_DQ_DBI_CAL_COMPLEX :   Pass\n",
       "</pre>\n"
      ],
      "text/plain": [
       "<rich.jupyter.JupyterRenderable at 0x7fa9c45c8730>"
      ]
     },
     "metadata": {},
     "output_type": "display_data"
    },
    {
     "data": {
      "text/html": [
       "<pre style=\"white-space:pre;overflow-x:auto;line-height:normal;font-family:Menlo,'DejaVu Sans Mono',consolas,'Courier New',monospace\">cal_stage.09_F0_WRITE_DQ_DBI_CAL_COMPLEX :   Pass\n",
       "</pre>\n"
      ],
      "text/plain": [
       "<rich.jupyter.JupyterRenderable at 0x7fa9c45c86d0>"
      ]
     },
     "metadata": {},
     "output_type": "display_data"
    },
    {
     "data": {
      "text/html": [
       "<pre style=\"white-space:pre;overflow-x:auto;line-height:normal;font-family:Menlo,'DejaVu Sans Mono',consolas,'Courier New',monospace\">cal_stage.10_EN_VT_TRACK :   Pass\n",
       "</pre>\n"
      ],
      "text/plain": [
       "<rich.jupyter.JupyterRenderable at 0x7fa9c45c8790>"
      ]
     },
     "metadata": {},
     "output_type": "display_data"
    },
    {
     "data": {
      "text/html": [
       "<pre style=\"white-space:pre;overflow-x:auto;line-height:normal;font-family:Menlo,'DejaVu Sans Mono',consolas,'Courier New',monospace\">cal_stage.11_READ_DQS_TRACK :   Pass\n",
       "</pre>\n"
      ],
      "text/plain": [
       "<rich.jupyter.JupyterRenderable at 0x7fa9c45c8700>"
      ]
     },
     "metadata": {},
     "output_type": "display_data"
    },
    {
     "data": {
      "text/html": [
       "<pre style=\"white-space:pre;overflow-x:auto;line-height:normal;font-family:Menlo,'DejaVu Sans Mono',consolas,'Courier New',monospace\">cal_stage.12_CAL_DONE :   Pass\n",
       "</pre>\n"
      ],
      "text/plain": [
       "<rich.jupyter.JupyterRenderable at 0x7fa9c45c87f0>"
      ]
     },
     "metadata": {},
     "output_type": "display_data"
    },
    {
     "data": {
      "text/html": [
       "<pre style=\"white-space:pre;overflow-x:auto;line-height:normal;font-family:Menlo,'DejaVu Sans Mono',consolas,'Courier New',monospace\">\n",
       "---------------------------------------\n",
       "\n",
       "</pre>\n"
      ],
      "text/plain": [
       "<rich.jupyter.JupyterRenderable at 0x7fa9c45c8700>"
      ]
     },
     "metadata": {},
     "output_type": "display_data"
    },
    {
     "data": {
      "text/html": [
       "<pre style=\"white-space:pre;overflow-x:auto;line-height:normal;font-family:Menlo,'DejaVu Sans Mono',consolas,'Courier New',monospace\"> Calibration Window Margin Analysis \n",
       "\n",
       "</pre>\n"
      ],
      "text/plain": [
       "<rich.jupyter.JupyterRenderable at 0x7fa9c45c89d0>"
      ]
     },
     "metadata": {},
     "output_type": "display_data"
    },
    {
     "data": {
      "text/html": [
       "<pre style=\"white-space:pre;overflow-x:auto;line-height:normal;font-family:Menlo,'DejaVu Sans Mono',consolas,'Courier New',monospace\">---------------------------------------\n",
       "\n",
       "</pre>\n"
      ],
      "text/plain": [
       "<rich.jupyter.JupyterRenderable at 0x7fa9c45c8730>"
      ]
     },
     "metadata": {},
     "output_type": "display_data"
    },
    {
     "data": {
      "text/html": [
       "<pre style=\"white-space:pre;overflow-x:auto;line-height:normal;font-family:Menlo,'DejaVu Sans Mono',consolas,'Courier New',monospace\">\n",
       " Frequency <span style=\"color: #000080; text-decoration-color: #000080; font-weight: bold\">0</span>  - Read Margin - Simple Pattern - Rising Edge Clock in pS and <span style=\"font-weight: bold\">(</span>delay taps<span style=\"font-weight: bold\">)</span>:\n",
       "\n",
       "</pre>\n"
      ],
      "text/plain": [
       "<rich.jupyter.JupyterRenderable at 0x7fa9c43e5a00>"
      ]
     },
     "metadata": {},
     "output_type": "display_data"
    },
    {
     "data": {
      "text/html": [
       "<pre style=\"white-space:pre;overflow-x:auto;line-height:normal;font-family:Menlo,'DejaVu Sans Mono',consolas,'Courier New',monospace\">Byte  <span style=\"color: #000080; text-decoration-color: #000080; font-weight: bold\">0</span>  Nibble <span style=\"color: #000080; text-decoration-color: #000080; font-weight: bold\">0</span>  -   Left Margin:   <span style=\"color: #000080; text-decoration-color: #000080; font-weight: bold\">142</span>  <span style=\"font-weight: bold\">(</span> <span style=\"color: #000080; text-decoration-color: #000080; font-weight: bold\">72</span> <span style=\"font-weight: bold\">)</span>  Center Point:   <span style=\"color: #000080; text-decoration-color: #000080; font-weight: bold\">178</span>  <span style=\"font-weight: bold\">(</span> <span style=\"color: #000080; text-decoration-color: #000080; font-weight: bold\">90</span> <span style=\"font-weight: bold\">)</span>  Right Margin:\n",
       "<span style=\"color: #000080; text-decoration-color: #000080; font-weight: bold\">144</span>  <span style=\"font-weight: bold\">(</span> <span style=\"color: #000080; text-decoration-color: #000080; font-weight: bold\">73</span> <span style=\"font-weight: bold\">)</span>\n",
       "</pre>\n"
      ],
      "text/plain": [
       "<rich.jupyter.JupyterRenderable at 0x7fa9c43e5a00>"
      ]
     },
     "metadata": {},
     "output_type": "display_data"
    },
    {
     "data": {
      "text/html": [
       "<pre style=\"white-space:pre;overflow-x:auto;line-height:normal;font-family:Menlo,'DejaVu Sans Mono',consolas,'Courier New',monospace\">Byte  <span style=\"color: #000080; text-decoration-color: #000080; font-weight: bold\">0</span>  Nibble <span style=\"color: #000080; text-decoration-color: #000080; font-weight: bold\">1</span>  -   Left Margin:   <span style=\"color: #000080; text-decoration-color: #000080; font-weight: bold\">150</span>  <span style=\"font-weight: bold\">(</span> <span style=\"color: #000080; text-decoration-color: #000080; font-weight: bold\">74</span> <span style=\"font-weight: bold\">)</span>  Center Point:   <span style=\"color: #000080; text-decoration-color: #000080; font-weight: bold\">187</span>  <span style=\"font-weight: bold\">(</span> <span style=\"color: #000080; text-decoration-color: #000080; font-weight: bold\">92</span> <span style=\"font-weight: bold\">)</span>  Right Margin:\n",
       "<span style=\"color: #000080; text-decoration-color: #000080; font-weight: bold\">152</span>  <span style=\"font-weight: bold\">(</span> <span style=\"color: #000080; text-decoration-color: #000080; font-weight: bold\">75</span> <span style=\"font-weight: bold\">)</span>\n",
       "</pre>\n"
      ],
      "text/plain": [
       "<rich.jupyter.JupyterRenderable at 0x7fa9c43e5a00>"
      ]
     },
     "metadata": {},
     "output_type": "display_data"
    },
    {
     "data": {
      "text/html": [
       "<pre style=\"white-space:pre;overflow-x:auto;line-height:normal;font-family:Menlo,'DejaVu Sans Mono',consolas,'Courier New',monospace\">Byte  <span style=\"color: #000080; text-decoration-color: #000080; font-weight: bold\">1</span>  Nibble <span style=\"color: #000080; text-decoration-color: #000080; font-weight: bold\">0</span>  -   Left Margin:   <span style=\"color: #000080; text-decoration-color: #000080; font-weight: bold\">152</span>  <span style=\"font-weight: bold\">(</span> <span style=\"color: #000080; text-decoration-color: #000080; font-weight: bold\">74</span> <span style=\"font-weight: bold\">)</span>  Center Point:   <span style=\"color: #000080; text-decoration-color: #000080; font-weight: bold\">189</span>  <span style=\"font-weight: bold\">(</span> <span style=\"color: #000080; text-decoration-color: #000080; font-weight: bold\">92</span> <span style=\"font-weight: bold\">)</span>  Right Margin:\n",
       "<span style=\"color: #000080; text-decoration-color: #000080; font-weight: bold\">154</span>  <span style=\"font-weight: bold\">(</span> <span style=\"color: #000080; text-decoration-color: #000080; font-weight: bold\">75</span> <span style=\"font-weight: bold\">)</span>\n",
       "</pre>\n"
      ],
      "text/plain": [
       "<rich.jupyter.JupyterRenderable at 0x7fa9c45c8790>"
      ]
     },
     "metadata": {},
     "output_type": "display_data"
    },
    {
     "data": {
      "text/html": [
       "<pre style=\"white-space:pre;overflow-x:auto;line-height:normal;font-family:Menlo,'DejaVu Sans Mono',consolas,'Courier New',monospace\">Byte  <span style=\"color: #000080; text-decoration-color: #000080; font-weight: bold\">1</span>  Nibble <span style=\"color: #000080; text-decoration-color: #000080; font-weight: bold\">1</span>  -   Left Margin:   <span style=\"color: #000080; text-decoration-color: #000080; font-weight: bold\">146</span>  <span style=\"font-weight: bold\">(</span> <span style=\"color: #000080; text-decoration-color: #000080; font-weight: bold\">73</span> <span style=\"font-weight: bold\">)</span>  Center Point:   <span style=\"color: #000080; text-decoration-color: #000080; font-weight: bold\">182</span>  <span style=\"font-weight: bold\">(</span> <span style=\"color: #000080; text-decoration-color: #000080; font-weight: bold\">91</span> <span style=\"font-weight: bold\">)</span>  Right Margin:\n",
       "<span style=\"color: #000080; text-decoration-color: #000080; font-weight: bold\">146</span>  <span style=\"font-weight: bold\">(</span> <span style=\"color: #000080; text-decoration-color: #000080; font-weight: bold\">73</span> <span style=\"font-weight: bold\">)</span>\n",
       "</pre>\n"
      ],
      "text/plain": [
       "<rich.jupyter.JupyterRenderable at 0x7fa9c4374a60>"
      ]
     },
     "metadata": {},
     "output_type": "display_data"
    },
    {
     "data": {
      "text/html": [
       "<pre style=\"white-space:pre;overflow-x:auto;line-height:normal;font-family:Menlo,'DejaVu Sans Mono',consolas,'Courier New',monospace\">Byte  <span style=\"color: #000080; text-decoration-color: #000080; font-weight: bold\">2</span>  Nibble <span style=\"color: #000080; text-decoration-color: #000080; font-weight: bold\">0</span>  -   Left Margin:   <span style=\"color: #000080; text-decoration-color: #000080; font-weight: bold\">144</span>  <span style=\"font-weight: bold\">(</span> <span style=\"color: #000080; text-decoration-color: #000080; font-weight: bold\">73</span> <span style=\"font-weight: bold\">)</span>  Center Point:   <span style=\"color: #000080; text-decoration-color: #000080; font-weight: bold\">180</span>  <span style=\"font-weight: bold\">(</span> <span style=\"color: #000080; text-decoration-color: #000080; font-weight: bold\">91</span> <span style=\"font-weight: bold\">)</span>  Right Margin:\n",
       "<span style=\"color: #000080; text-decoration-color: #000080; font-weight: bold\">146</span>  <span style=\"font-weight: bold\">(</span> <span style=\"color: #000080; text-decoration-color: #000080; font-weight: bold\">74</span> <span style=\"font-weight: bold\">)</span>\n",
       "</pre>\n"
      ],
      "text/plain": [
       "<rich.jupyter.JupyterRenderable at 0x7fa9c43e5a00>"
      ]
     },
     "metadata": {},
     "output_type": "display_data"
    },
    {
     "data": {
      "text/html": [
       "<pre style=\"white-space:pre;overflow-x:auto;line-height:normal;font-family:Menlo,'DejaVu Sans Mono',consolas,'Courier New',monospace\">Byte  <span style=\"color: #000080; text-decoration-color: #000080; font-weight: bold\">2</span>  Nibble <span style=\"color: #000080; text-decoration-color: #000080; font-weight: bold\">1</span>  -   Left Margin:   <span style=\"color: #000080; text-decoration-color: #000080; font-weight: bold\">150</span>  <span style=\"font-weight: bold\">(</span> <span style=\"color: #000080; text-decoration-color: #000080; font-weight: bold\">75</span> <span style=\"font-weight: bold\">)</span>  Center Point:   <span style=\"color: #000080; text-decoration-color: #000080; font-weight: bold\">186</span>  <span style=\"font-weight: bold\">(</span> <span style=\"color: #000080; text-decoration-color: #000080; font-weight: bold\">93</span> <span style=\"font-weight: bold\">)</span>  Right Margin:\n",
       "<span style=\"color: #000080; text-decoration-color: #000080; font-weight: bold\">150</span>  <span style=\"font-weight: bold\">(</span> <span style=\"color: #000080; text-decoration-color: #000080; font-weight: bold\">75</span> <span style=\"font-weight: bold\">)</span>\n",
       "</pre>\n"
      ],
      "text/plain": [
       "<rich.jupyter.JupyterRenderable at 0x7fa9c45c8790>"
      ]
     },
     "metadata": {},
     "output_type": "display_data"
    },
    {
     "data": {
      "text/html": [
       "<pre style=\"white-space:pre;overflow-x:auto;line-height:normal;font-family:Menlo,'DejaVu Sans Mono',consolas,'Courier New',monospace\">Byte  <span style=\"color: #000080; text-decoration-color: #000080; font-weight: bold\">3</span>  Nibble <span style=\"color: #000080; text-decoration-color: #000080; font-weight: bold\">0</span>  -   Left Margin:   <span style=\"color: #000080; text-decoration-color: #000080; font-weight: bold\">148</span>  <span style=\"font-weight: bold\">(</span> <span style=\"color: #000080; text-decoration-color: #000080; font-weight: bold\">74</span> <span style=\"font-weight: bold\">)</span>  Center Point:   <span style=\"color: #000080; text-decoration-color: #000080; font-weight: bold\">184</span>  <span style=\"font-weight: bold\">(</span> <span style=\"color: #000080; text-decoration-color: #000080; font-weight: bold\">92</span> <span style=\"font-weight: bold\">)</span>  Right Margin:\n",
       "<span style=\"color: #000080; text-decoration-color: #000080; font-weight: bold\">148</span>  <span style=\"font-weight: bold\">(</span> <span style=\"color: #000080; text-decoration-color: #000080; font-weight: bold\">74</span> <span style=\"font-weight: bold\">)</span>\n",
       "</pre>\n"
      ],
      "text/plain": [
       "<rich.jupyter.JupyterRenderable at 0x7fa9c4374a60>"
      ]
     },
     "metadata": {},
     "output_type": "display_data"
    },
    {
     "data": {
      "text/html": [
       "<pre style=\"white-space:pre;overflow-x:auto;line-height:normal;font-family:Menlo,'DejaVu Sans Mono',consolas,'Courier New',monospace\">Byte  <span style=\"color: #000080; text-decoration-color: #000080; font-weight: bold\">3</span>  Nibble <span style=\"color: #000080; text-decoration-color: #000080; font-weight: bold\">1</span>  -   Left Margin:   <span style=\"color: #000080; text-decoration-color: #000080; font-weight: bold\">150</span>  <span style=\"font-weight: bold\">(</span> <span style=\"color: #000080; text-decoration-color: #000080; font-weight: bold\">74</span> <span style=\"font-weight: bold\">)</span>  Center Point:   <span style=\"color: #000080; text-decoration-color: #000080; font-weight: bold\">187</span>  <span style=\"font-weight: bold\">(</span> <span style=\"color: #000080; text-decoration-color: #000080; font-weight: bold\">92</span> <span style=\"font-weight: bold\">)</span>  Right Margin:\n",
       "<span style=\"color: #000080; text-decoration-color: #000080; font-weight: bold\">150</span>  <span style=\"font-weight: bold\">(</span> <span style=\"color: #000080; text-decoration-color: #000080; font-weight: bold\">74</span> <span style=\"font-weight: bold\">)</span>\n",
       "</pre>\n"
      ],
      "text/plain": [
       "<rich.jupyter.JupyterRenderable at 0x7fa9c43e5a00>"
      ]
     },
     "metadata": {},
     "output_type": "display_data"
    },
    {
     "data": {
      "text/html": [
       "<pre style=\"white-space:pre;overflow-x:auto;line-height:normal;font-family:Menlo,'DejaVu Sans Mono',consolas,'Courier New',monospace\">Byte  <span style=\"color: #000080; text-decoration-color: #000080; font-weight: bold\">4</span>  Nibble <span style=\"color: #000080; text-decoration-color: #000080; font-weight: bold\">0</span>  -   Left Margin:   <span style=\"color: #000080; text-decoration-color: #000080; font-weight: bold\">146</span>  <span style=\"font-weight: bold\">(</span> <span style=\"color: #000080; text-decoration-color: #000080; font-weight: bold\">73</span> <span style=\"font-weight: bold\">)</span>  Center Point:   <span style=\"color: #000080; text-decoration-color: #000080; font-weight: bold\">182</span>  <span style=\"font-weight: bold\">(</span> <span style=\"color: #000080; text-decoration-color: #000080; font-weight: bold\">91</span> <span style=\"font-weight: bold\">)</span>  Right Margin:\n",
       "<span style=\"color: #000080; text-decoration-color: #000080; font-weight: bold\">148</span>  <span style=\"font-weight: bold\">(</span> <span style=\"color: #000080; text-decoration-color: #000080; font-weight: bold\">74</span> <span style=\"font-weight: bold\">)</span>\n",
       "</pre>\n"
      ],
      "text/plain": [
       "<rich.jupyter.JupyterRenderable at 0x7fa9c45c8790>"
      ]
     },
     "metadata": {},
     "output_type": "display_data"
    },
    {
     "data": {
      "text/html": [
       "<pre style=\"white-space:pre;overflow-x:auto;line-height:normal;font-family:Menlo,'DejaVu Sans Mono',consolas,'Courier New',monospace\">Byte  <span style=\"color: #000080; text-decoration-color: #000080; font-weight: bold\">4</span>  Nibble <span style=\"color: #000080; text-decoration-color: #000080; font-weight: bold\">1</span>  -   Left Margin:   <span style=\"color: #000080; text-decoration-color: #000080; font-weight: bold\">152</span>  <span style=\"font-weight: bold\">(</span> <span style=\"color: #000080; text-decoration-color: #000080; font-weight: bold\">74</span> <span style=\"font-weight: bold\">)</span>  Center Point:   <span style=\"color: #000080; text-decoration-color: #000080; font-weight: bold\">189</span>  <span style=\"font-weight: bold\">(</span> <span style=\"color: #000080; text-decoration-color: #000080; font-weight: bold\">92</span> <span style=\"font-weight: bold\">)</span>  Right Margin:\n",
       "<span style=\"color: #000080; text-decoration-color: #000080; font-weight: bold\">154</span>  <span style=\"font-weight: bold\">(</span> <span style=\"color: #000080; text-decoration-color: #000080; font-weight: bold\">75</span> <span style=\"font-weight: bold\">)</span>\n",
       "</pre>\n"
      ],
      "text/plain": [
       "<rich.jupyter.JupyterRenderable at 0x7fa9c4374a60>"
      ]
     },
     "metadata": {},
     "output_type": "display_data"
    },
    {
     "data": {
      "text/html": [
       "<pre style=\"white-space:pre;overflow-x:auto;line-height:normal;font-family:Menlo,'DejaVu Sans Mono',consolas,'Courier New',monospace\">Byte  <span style=\"color: #000080; text-decoration-color: #000080; font-weight: bold\">5</span>  Nibble <span style=\"color: #000080; text-decoration-color: #000080; font-weight: bold\">0</span>  -   Left Margin:   <span style=\"color: #000080; text-decoration-color: #000080; font-weight: bold\">146</span>  <span style=\"font-weight: bold\">(</span> <span style=\"color: #000080; text-decoration-color: #000080; font-weight: bold\">74</span> <span style=\"font-weight: bold\">)</span>  Center Point:   <span style=\"color: #000080; text-decoration-color: #000080; font-weight: bold\">182</span>  <span style=\"font-weight: bold\">(</span> <span style=\"color: #000080; text-decoration-color: #000080; font-weight: bold\">92</span> <span style=\"font-weight: bold\">)</span>  Right Margin:\n",
       "<span style=\"color: #000080; text-decoration-color: #000080; font-weight: bold\">148</span>  <span style=\"font-weight: bold\">(</span> <span style=\"color: #000080; text-decoration-color: #000080; font-weight: bold\">75</span> <span style=\"font-weight: bold\">)</span>\n",
       "</pre>\n"
      ],
      "text/plain": [
       "<rich.jupyter.JupyterRenderable at 0x7fa9c43e5a00>"
      ]
     },
     "metadata": {},
     "output_type": "display_data"
    },
    {
     "data": {
      "text/html": [
       "<pre style=\"white-space:pre;overflow-x:auto;line-height:normal;font-family:Menlo,'DejaVu Sans Mono',consolas,'Courier New',monospace\">Byte  <span style=\"color: #000080; text-decoration-color: #000080; font-weight: bold\">5</span>  Nibble <span style=\"color: #000080; text-decoration-color: #000080; font-weight: bold\">1</span>  -   Left Margin:   <span style=\"color: #000080; text-decoration-color: #000080; font-weight: bold\">150</span>  <span style=\"font-weight: bold\">(</span> <span style=\"color: #000080; text-decoration-color: #000080; font-weight: bold\">73</span> <span style=\"font-weight: bold\">)</span>  Center Point:   <span style=\"color: #000080; text-decoration-color: #000080; font-weight: bold\">187</span>  <span style=\"font-weight: bold\">(</span> <span style=\"color: #000080; text-decoration-color: #000080; font-weight: bold\">91</span> <span style=\"font-weight: bold\">)</span>  Right Margin:\n",
       "<span style=\"color: #000080; text-decoration-color: #000080; font-weight: bold\">152</span>  <span style=\"font-weight: bold\">(</span> <span style=\"color: #000080; text-decoration-color: #000080; font-weight: bold\">74</span> <span style=\"font-weight: bold\">)</span>\n",
       "</pre>\n"
      ],
      "text/plain": [
       "<rich.jupyter.JupyterRenderable at 0x7fa9c4374a60>"
      ]
     },
     "metadata": {},
     "output_type": "display_data"
    },
    {
     "data": {
      "text/html": [
       "<pre style=\"white-space:pre;overflow-x:auto;line-height:normal;font-family:Menlo,'DejaVu Sans Mono',consolas,'Courier New',monospace\">Byte  <span style=\"color: #000080; text-decoration-color: #000080; font-weight: bold\">6</span>  Nibble <span style=\"color: #000080; text-decoration-color: #000080; font-weight: bold\">0</span>  -   Left Margin:   <span style=\"color: #000080; text-decoration-color: #000080; font-weight: bold\">148</span>  <span style=\"font-weight: bold\">(</span> <span style=\"color: #000080; text-decoration-color: #000080; font-weight: bold\">75</span> <span style=\"font-weight: bold\">)</span>  Center Point:   <span style=\"color: #000080; text-decoration-color: #000080; font-weight: bold\">184</span>  <span style=\"font-weight: bold\">(</span> <span style=\"color: #000080; text-decoration-color: #000080; font-weight: bold\">93</span> <span style=\"font-weight: bold\">)</span>  Right Margin:\n",
       "<span style=\"color: #000080; text-decoration-color: #000080; font-weight: bold\">148</span>  <span style=\"font-weight: bold\">(</span> <span style=\"color: #000080; text-decoration-color: #000080; font-weight: bold\">75</span> <span style=\"font-weight: bold\">)</span>\n",
       "</pre>\n"
      ],
      "text/plain": [
       "<rich.jupyter.JupyterRenderable at 0x7fa9c4374a60>"
      ]
     },
     "metadata": {},
     "output_type": "display_data"
    },
    {
     "data": {
      "text/html": [
       "<pre style=\"white-space:pre;overflow-x:auto;line-height:normal;font-family:Menlo,'DejaVu Sans Mono',consolas,'Courier New',monospace\">Byte  <span style=\"color: #000080; text-decoration-color: #000080; font-weight: bold\">6</span>  Nibble <span style=\"color: #000080; text-decoration-color: #000080; font-weight: bold\">1</span>  -   Left Margin:   <span style=\"color: #000080; text-decoration-color: #000080; font-weight: bold\">150</span>  <span style=\"font-weight: bold\">(</span> <span style=\"color: #000080; text-decoration-color: #000080; font-weight: bold\">75</span> <span style=\"font-weight: bold\">)</span>  Center Point:   <span style=\"color: #000080; text-decoration-color: #000080; font-weight: bold\">186</span>  <span style=\"font-weight: bold\">(</span> <span style=\"color: #000080; text-decoration-color: #000080; font-weight: bold\">93</span> <span style=\"font-weight: bold\">)</span>  Right Margin:\n",
       "<span style=\"color: #000080; text-decoration-color: #000080; font-weight: bold\">150</span>  <span style=\"font-weight: bold\">(</span> <span style=\"color: #000080; text-decoration-color: #000080; font-weight: bold\">75</span> <span style=\"font-weight: bold\">)</span>\n",
       "</pre>\n"
      ],
      "text/plain": [
       "<rich.jupyter.JupyterRenderable at 0x7fa9c4374a60>"
      ]
     },
     "metadata": {},
     "output_type": "display_data"
    },
    {
     "data": {
      "text/html": [
       "<pre style=\"white-space:pre;overflow-x:auto;line-height:normal;font-family:Menlo,'DejaVu Sans Mono',consolas,'Courier New',monospace\">Byte  <span style=\"color: #000080; text-decoration-color: #000080; font-weight: bold\">7</span>  Nibble <span style=\"color: #000080; text-decoration-color: #000080; font-weight: bold\">0</span>  -   Left Margin:   <span style=\"color: #000080; text-decoration-color: #000080; font-weight: bold\">146</span>  <span style=\"font-weight: bold\">(</span> <span style=\"color: #000080; text-decoration-color: #000080; font-weight: bold\">74</span> <span style=\"font-weight: bold\">)</span>  Center Point:   <span style=\"color: #000080; text-decoration-color: #000080; font-weight: bold\">182</span>  <span style=\"font-weight: bold\">(</span> <span style=\"color: #000080; text-decoration-color: #000080; font-weight: bold\">92</span> <span style=\"font-weight: bold\">)</span>  Right Margin:\n",
       "<span style=\"color: #000080; text-decoration-color: #000080; font-weight: bold\">148</span>  <span style=\"font-weight: bold\">(</span> <span style=\"color: #000080; text-decoration-color: #000080; font-weight: bold\">75</span> <span style=\"font-weight: bold\">)</span>\n",
       "</pre>\n"
      ],
      "text/plain": [
       "<rich.jupyter.JupyterRenderable at 0x7fa9c43c7a30>"
      ]
     },
     "metadata": {},
     "output_type": "display_data"
    },
    {
     "data": {
      "text/html": [
       "<pre style=\"white-space:pre;overflow-x:auto;line-height:normal;font-family:Menlo,'DejaVu Sans Mono',consolas,'Courier New',monospace\">Byte  <span style=\"color: #000080; text-decoration-color: #000080; font-weight: bold\">7</span>  Nibble <span style=\"color: #000080; text-decoration-color: #000080; font-weight: bold\">1</span>  -   Left Margin:   <span style=\"color: #000080; text-decoration-color: #000080; font-weight: bold\">146</span>  <span style=\"font-weight: bold\">(</span> <span style=\"color: #000080; text-decoration-color: #000080; font-weight: bold\">74</span> <span style=\"font-weight: bold\">)</span>  Center Point:   <span style=\"color: #000080; text-decoration-color: #000080; font-weight: bold\">182</span>  <span style=\"font-weight: bold\">(</span> <span style=\"color: #000080; text-decoration-color: #000080; font-weight: bold\">92</span> <span style=\"font-weight: bold\">)</span>  Right Margin:\n",
       "<span style=\"color: #000080; text-decoration-color: #000080; font-weight: bold\">148</span>  <span style=\"font-weight: bold\">(</span> <span style=\"color: #000080; text-decoration-color: #000080; font-weight: bold\">75</span> <span style=\"font-weight: bold\">)</span>\n",
       "</pre>\n"
      ],
      "text/plain": [
       "<rich.jupyter.JupyterRenderable at 0x7fa9c4374a60>"
      ]
     },
     "metadata": {},
     "output_type": "display_data"
    },
    {
     "data": {
      "text/html": [
       "<pre style=\"white-space:pre;overflow-x:auto;line-height:normal;font-family:Menlo,'DejaVu Sans Mono',consolas,'Courier New',monospace\">\n",
       " Frequency <span style=\"color: #000080; text-decoration-color: #000080; font-weight: bold\">0</span>  - Read Margin - Simple Pattern - Falling Edge Clock in pS and <span style=\"font-weight: bold\">(</span>delay taps<span style=\"font-weight: bold\">)</span>:\n",
       "\n",
       "</pre>\n"
      ],
      "text/plain": [
       "<rich.jupyter.JupyterRenderable at 0x7fa9c45d5190>"
      ]
     },
     "metadata": {},
     "output_type": "display_data"
    },
    {
     "data": {
      "text/html": [
       "<pre style=\"white-space:pre;overflow-x:auto;line-height:normal;font-family:Menlo,'DejaVu Sans Mono',consolas,'Courier New',monospace\">Byte  <span style=\"color: #000080; text-decoration-color: #000080; font-weight: bold\">0</span>  Nibble <span style=\"color: #000080; text-decoration-color: #000080; font-weight: bold\">0</span>  -   Left Margin:   <span style=\"color: #000080; text-decoration-color: #000080; font-weight: bold\">148</span>  <span style=\"font-weight: bold\">(</span> <span style=\"color: #000080; text-decoration-color: #000080; font-weight: bold\">73</span> <span style=\"font-weight: bold\">)</span>  Center Point:   <span style=\"color: #000080; text-decoration-color: #000080; font-weight: bold\">197</span>  <span style=\"font-weight: bold\">(</span> <span style=\"color: #000080; text-decoration-color: #000080; font-weight: bold\">97</span> <span style=\"font-weight: bold\">)</span>  Right Margin:\n",
       "<span style=\"color: #000080; text-decoration-color: #000080; font-weight: bold\">150</span>  <span style=\"font-weight: bold\">(</span> <span style=\"color: #000080; text-decoration-color: #000080; font-weight: bold\">74</span> <span style=\"font-weight: bold\">)</span>\n",
       "</pre>\n"
      ],
      "text/plain": [
       "<rich.jupyter.JupyterRenderable at 0x7fa9c45d5790>"
      ]
     },
     "metadata": {},
     "output_type": "display_data"
    },
    {
     "data": {
      "text/html": [
       "<pre style=\"white-space:pre;overflow-x:auto;line-height:normal;font-family:Menlo,'DejaVu Sans Mono',consolas,'Courier New',monospace\">Byte  <span style=\"color: #000080; text-decoration-color: #000080; font-weight: bold\">0</span>  Nibble <span style=\"color: #000080; text-decoration-color: #000080; font-weight: bold\">1</span>  -   Left Margin:   <span style=\"color: #000080; text-decoration-color: #000080; font-weight: bold\">140</span>  <span style=\"font-weight: bold\">(</span> <span style=\"color: #000080; text-decoration-color: #000080; font-weight: bold\">68</span> <span style=\"font-weight: bold\">)</span>  Center Point:   <span style=\"color: #000080; text-decoration-color: #000080; font-weight: bold\">212</span>  <span style=\"font-weight: bold\">(</span> <span style=\"color: #000080; text-decoration-color: #000080; font-weight: bold\">103</span> <span style=\"font-weight: bold\">)</span>  Right \n",
       "Margin:   <span style=\"color: #000080; text-decoration-color: #000080; font-weight: bold\">142</span>  <span style=\"font-weight: bold\">(</span> <span style=\"color: #000080; text-decoration-color: #000080; font-weight: bold\">69</span> <span style=\"font-weight: bold\">)</span>\n",
       "</pre>\n"
      ],
      "text/plain": [
       "<rich.jupyter.JupyterRenderable at 0x7fa9c45d5d90>"
      ]
     },
     "metadata": {},
     "output_type": "display_data"
    },
    {
     "data": {
      "text/html": [
       "<pre style=\"white-space:pre;overflow-x:auto;line-height:normal;font-family:Menlo,'DejaVu Sans Mono',consolas,'Courier New',monospace\">Byte  <span style=\"color: #000080; text-decoration-color: #000080; font-weight: bold\">1</span>  Nibble <span style=\"color: #000080; text-decoration-color: #000080; font-weight: bold\">0</span>  -   Left Margin:   <span style=\"color: #000080; text-decoration-color: #000080; font-weight: bold\">154</span>  <span style=\"font-weight: bold\">(</span> <span style=\"color: #000080; text-decoration-color: #000080; font-weight: bold\">75</span> <span style=\"font-weight: bold\">)</span>  Center Point:   <span style=\"color: #000080; text-decoration-color: #000080; font-weight: bold\">208</span>  <span style=\"font-weight: bold\">(</span> <span style=\"color: #000080; text-decoration-color: #000080; font-weight: bold\">101</span> <span style=\"font-weight: bold\">)</span>  Right \n",
       "Margin:   <span style=\"color: #000080; text-decoration-color: #000080; font-weight: bold\">156</span>  <span style=\"font-weight: bold\">(</span> <span style=\"color: #000080; text-decoration-color: #000080; font-weight: bold\">76</span> <span style=\"font-weight: bold\">)</span>\n",
       "</pre>\n"
      ],
      "text/plain": [
       "<rich.jupyter.JupyterRenderable at 0x7fa9c43c0d00>"
      ]
     },
     "metadata": {},
     "output_type": "display_data"
    },
    {
     "data": {
      "text/html": [
       "<pre style=\"white-space:pre;overflow-x:auto;line-height:normal;font-family:Menlo,'DejaVu Sans Mono',consolas,'Courier New',monospace\">Byte  <span style=\"color: #000080; text-decoration-color: #000080; font-weight: bold\">1</span>  Nibble <span style=\"color: #000080; text-decoration-color: #000080; font-weight: bold\">1</span>  -   Left Margin:   <span style=\"color: #000080; text-decoration-color: #000080; font-weight: bold\">146</span>  <span style=\"font-weight: bold\">(</span> <span style=\"color: #000080; text-decoration-color: #000080; font-weight: bold\">73</span> <span style=\"font-weight: bold\">)</span>  Center Point:   <span style=\"color: #000080; text-decoration-color: #000080; font-weight: bold\">204</span>  <span style=\"font-weight: bold\">(</span> <span style=\"color: #000080; text-decoration-color: #000080; font-weight: bold\">102</span> <span style=\"font-weight: bold\">)</span>  Right \n",
       "Margin:   <span style=\"color: #000080; text-decoration-color: #000080; font-weight: bold\">148</span>  <span style=\"font-weight: bold\">(</span> <span style=\"color: #000080; text-decoration-color: #000080; font-weight: bold\">74</span> <span style=\"font-weight: bold\">)</span>\n",
       "</pre>\n"
      ],
      "text/plain": [
       "<rich.jupyter.JupyterRenderable at 0x7fa9c43c0d00>"
      ]
     },
     "metadata": {},
     "output_type": "display_data"
    },
    {
     "data": {
      "text/html": [
       "<pre style=\"white-space:pre;overflow-x:auto;line-height:normal;font-family:Menlo,'DejaVu Sans Mono',consolas,'Courier New',monospace\">Byte  <span style=\"color: #000080; text-decoration-color: #000080; font-weight: bold\">2</span>  Nibble <span style=\"color: #000080; text-decoration-color: #000080; font-weight: bold\">0</span>  -   Left Margin:   <span style=\"color: #000080; text-decoration-color: #000080; font-weight: bold\">146</span>  <span style=\"font-weight: bold\">(</span> <span style=\"color: #000080; text-decoration-color: #000080; font-weight: bold\">73</span> <span style=\"font-weight: bold\">)</span>  Center Point:   <span style=\"color: #000080; text-decoration-color: #000080; font-weight: bold\">206</span>  <span style=\"font-weight: bold\">(</span> <span style=\"color: #000080; text-decoration-color: #000080; font-weight: bold\">103</span> <span style=\"font-weight: bold\">)</span>  Right \n",
       "Margin:   <span style=\"color: #000080; text-decoration-color: #000080; font-weight: bold\">148</span>  <span style=\"font-weight: bold\">(</span> <span style=\"color: #000080; text-decoration-color: #000080; font-weight: bold\">74</span> <span style=\"font-weight: bold\">)</span>\n",
       "</pre>\n"
      ],
      "text/plain": [
       "<rich.jupyter.JupyterRenderable at 0x7fa9c43c0d00>"
      ]
     },
     "metadata": {},
     "output_type": "display_data"
    },
    {
     "data": {
      "text/html": [
       "<pre style=\"white-space:pre;overflow-x:auto;line-height:normal;font-family:Menlo,'DejaVu Sans Mono',consolas,'Courier New',monospace\">Byte  <span style=\"color: #000080; text-decoration-color: #000080; font-weight: bold\">2</span>  Nibble <span style=\"color: #000080; text-decoration-color: #000080; font-weight: bold\">1</span>  -   Left Margin:   <span style=\"color: #000080; text-decoration-color: #000080; font-weight: bold\">146</span>  <span style=\"font-weight: bold\">(</span> <span style=\"color: #000080; text-decoration-color: #000080; font-weight: bold\">74</span> <span style=\"font-weight: bold\">)</span>  Center Point:   <span style=\"color: #000080; text-decoration-color: #000080; font-weight: bold\">198</span>  <span style=\"font-weight: bold\">(</span> <span style=\"color: #000080; text-decoration-color: #000080; font-weight: bold\">100</span> <span style=\"font-weight: bold\">)</span>  Right \n",
       "Margin:   <span style=\"color: #000080; text-decoration-color: #000080; font-weight: bold\">146</span>  <span style=\"font-weight: bold\">(</span> <span style=\"color: #000080; text-decoration-color: #000080; font-weight: bold\">74</span> <span style=\"font-weight: bold\">)</span>\n",
       "</pre>\n"
      ],
      "text/plain": [
       "<rich.jupyter.JupyterRenderable at 0x7fa9c43c0d00>"
      ]
     },
     "metadata": {},
     "output_type": "display_data"
    },
    {
     "data": {
      "text/html": [
       "<pre style=\"white-space:pre;overflow-x:auto;line-height:normal;font-family:Menlo,'DejaVu Sans Mono',consolas,'Courier New',monospace\">Byte  <span style=\"color: #000080; text-decoration-color: #000080; font-weight: bold\">3</span>  Nibble <span style=\"color: #000080; text-decoration-color: #000080; font-weight: bold\">0</span>  -   Left Margin:   <span style=\"color: #000080; text-decoration-color: #000080; font-weight: bold\">146</span>  <span style=\"font-weight: bold\">(</span> <span style=\"color: #000080; text-decoration-color: #000080; font-weight: bold\">73</span> <span style=\"font-weight: bold\">)</span>  Center Point:   <span style=\"color: #000080; text-decoration-color: #000080; font-weight: bold\">194</span>  <span style=\"font-weight: bold\">(</span> <span style=\"color: #000080; text-decoration-color: #000080; font-weight: bold\">97</span> <span style=\"font-weight: bold\">)</span>  Right Margin:\n",
       "<span style=\"color: #000080; text-decoration-color: #000080; font-weight: bold\">146</span>  <span style=\"font-weight: bold\">(</span> <span style=\"color: #000080; text-decoration-color: #000080; font-weight: bold\">73</span> <span style=\"font-weight: bold\">)</span>\n",
       "</pre>\n"
      ],
      "text/plain": [
       "<rich.jupyter.JupyterRenderable at 0x7fa9c43c0d00>"
      ]
     },
     "metadata": {},
     "output_type": "display_data"
    },
    {
     "data": {
      "text/html": [
       "<pre style=\"white-space:pre;overflow-x:auto;line-height:normal;font-family:Menlo,'DejaVu Sans Mono',consolas,'Courier New',monospace\">Byte  <span style=\"color: #000080; text-decoration-color: #000080; font-weight: bold\">3</span>  Nibble <span style=\"color: #000080; text-decoration-color: #000080; font-weight: bold\">1</span>  -   Left Margin:   <span style=\"color: #000080; text-decoration-color: #000080; font-weight: bold\">142</span>  <span style=\"font-weight: bold\">(</span> <span style=\"color: #000080; text-decoration-color: #000080; font-weight: bold\">71</span> <span style=\"font-weight: bold\">)</span>  Center Point:   <span style=\"color: #000080; text-decoration-color: #000080; font-weight: bold\">190</span>  <span style=\"font-weight: bold\">(</span> <span style=\"color: #000080; text-decoration-color: #000080; font-weight: bold\">95</span> <span style=\"font-weight: bold\">)</span>  Right Margin:\n",
       "<span style=\"color: #000080; text-decoration-color: #000080; font-weight: bold\">142</span>  <span style=\"font-weight: bold\">(</span> <span style=\"color: #000080; text-decoration-color: #000080; font-weight: bold\">71</span> <span style=\"font-weight: bold\">)</span>\n",
       "</pre>\n"
      ],
      "text/plain": [
       "<rich.jupyter.JupyterRenderable at 0x7fa9c43c0d00>"
      ]
     },
     "metadata": {},
     "output_type": "display_data"
    },
    {
     "data": {
      "text/html": [
       "<pre style=\"white-space:pre;overflow-x:auto;line-height:normal;font-family:Menlo,'DejaVu Sans Mono',consolas,'Courier New',monospace\">Byte  <span style=\"color: #000080; text-decoration-color: #000080; font-weight: bold\">4</span>  Nibble <span style=\"color: #000080; text-decoration-color: #000080; font-weight: bold\">0</span>  -   Left Margin:   <span style=\"color: #000080; text-decoration-color: #000080; font-weight: bold\">150</span>  <span style=\"font-weight: bold\">(</span> <span style=\"color: #000080; text-decoration-color: #000080; font-weight: bold\">76</span> <span style=\"font-weight: bold\">)</span>  Center Point:   <span style=\"color: #000080; text-decoration-color: #000080; font-weight: bold\">202</span>  <span style=\"font-weight: bold\">(</span> <span style=\"color: #000080; text-decoration-color: #000080; font-weight: bold\">102</span> <span style=\"font-weight: bold\">)</span>  Right \n",
       "Margin:   <span style=\"color: #000080; text-decoration-color: #000080; font-weight: bold\">150</span>  <span style=\"font-weight: bold\">(</span> <span style=\"color: #000080; text-decoration-color: #000080; font-weight: bold\">76</span> <span style=\"font-weight: bold\">)</span>\n",
       "</pre>\n"
      ],
      "text/plain": [
       "<rich.jupyter.JupyterRenderable at 0x7fa9c43c0d00>"
      ]
     },
     "metadata": {},
     "output_type": "display_data"
    },
    {
     "data": {
      "text/html": [
       "<pre style=\"white-space:pre;overflow-x:auto;line-height:normal;font-family:Menlo,'DejaVu Sans Mono',consolas,'Courier New',monospace\">Byte  <span style=\"color: #000080; text-decoration-color: #000080; font-weight: bold\">4</span>  Nibble <span style=\"color: #000080; text-decoration-color: #000080; font-weight: bold\">1</span>  -   Left Margin:   <span style=\"color: #000080; text-decoration-color: #000080; font-weight: bold\">148</span>  <span style=\"font-weight: bold\">(</span> <span style=\"color: #000080; text-decoration-color: #000080; font-weight: bold\">73</span> <span style=\"font-weight: bold\">)</span>  Center Point:   <span style=\"color: #000080; text-decoration-color: #000080; font-weight: bold\">201</span>  <span style=\"font-weight: bold\">(</span> <span style=\"color: #000080; text-decoration-color: #000080; font-weight: bold\">99</span> <span style=\"font-weight: bold\">)</span>  Right Margin:\n",
       "<span style=\"color: #000080; text-decoration-color: #000080; font-weight: bold\">150</span>  <span style=\"font-weight: bold\">(</span> <span style=\"color: #000080; text-decoration-color: #000080; font-weight: bold\">74</span> <span style=\"font-weight: bold\">)</span>\n",
       "</pre>\n"
      ],
      "text/plain": [
       "<rich.jupyter.JupyterRenderable at 0x7fa9c43c0d00>"
      ]
     },
     "metadata": {},
     "output_type": "display_data"
    },
    {
     "data": {
      "text/html": [
       "<pre style=\"white-space:pre;overflow-x:auto;line-height:normal;font-family:Menlo,'DejaVu Sans Mono',consolas,'Courier New',monospace\">Byte  <span style=\"color: #000080; text-decoration-color: #000080; font-weight: bold\">5</span>  Nibble <span style=\"color: #000080; text-decoration-color: #000080; font-weight: bold\">0</span>  -   Left Margin:   <span style=\"color: #000080; text-decoration-color: #000080; font-weight: bold\">143</span>  <span style=\"font-weight: bold\">(</span> <span style=\"color: #000080; text-decoration-color: #000080; font-weight: bold\">73</span> <span style=\"font-weight: bold\">)</span>  Center Point:   <span style=\"color: #000080; text-decoration-color: #000080; font-weight: bold\">201</span>  <span style=\"font-weight: bold\">(</span> <span style=\"color: #000080; text-decoration-color: #000080; font-weight: bold\">103</span> <span style=\"font-weight: bold\">)</span>  Right \n",
       "Margin:   <span style=\"color: #000080; text-decoration-color: #000080; font-weight: bold\">143</span>  <span style=\"font-weight: bold\">(</span> <span style=\"color: #000080; text-decoration-color: #000080; font-weight: bold\">73</span> <span style=\"font-weight: bold\">)</span>\n",
       "</pre>\n"
      ],
      "text/plain": [
       "<rich.jupyter.JupyterRenderable at 0x7fa9c45d51c0>"
      ]
     },
     "metadata": {},
     "output_type": "display_data"
    },
    {
     "data": {
      "text/html": [
       "<pre style=\"white-space:pre;overflow-x:auto;line-height:normal;font-family:Menlo,'DejaVu Sans Mono',consolas,'Courier New',monospace\">Byte  <span style=\"color: #000080; text-decoration-color: #000080; font-weight: bold\">5</span>  Nibble <span style=\"color: #000080; text-decoration-color: #000080; font-weight: bold\">1</span>  -   Left Margin:   <span style=\"color: #000080; text-decoration-color: #000080; font-weight: bold\">148</span>  <span style=\"font-weight: bold\">(</span> <span style=\"color: #000080; text-decoration-color: #000080; font-weight: bold\">74</span> <span style=\"font-weight: bold\">)</span>  Center Point:   <span style=\"color: #000080; text-decoration-color: #000080; font-weight: bold\">204</span>  <span style=\"font-weight: bold\">(</span> <span style=\"color: #000080; text-decoration-color: #000080; font-weight: bold\">102</span> <span style=\"font-weight: bold\">)</span>  Right \n",
       "Margin:   <span style=\"color: #000080; text-decoration-color: #000080; font-weight: bold\">148</span>  <span style=\"font-weight: bold\">(</span> <span style=\"color: #000080; text-decoration-color: #000080; font-weight: bold\">74</span> <span style=\"font-weight: bold\">)</span>\n",
       "</pre>\n"
      ],
      "text/plain": [
       "<rich.jupyter.JupyterRenderable at 0x7fa9c4577c10>"
      ]
     },
     "metadata": {},
     "output_type": "display_data"
    },
    {
     "data": {
      "text/html": [
       "<pre style=\"white-space:pre;overflow-x:auto;line-height:normal;font-family:Menlo,'DejaVu Sans Mono',consolas,'Courier New',monospace\">Byte  <span style=\"color: #000080; text-decoration-color: #000080; font-weight: bold\">6</span>  Nibble <span style=\"color: #000080; text-decoration-color: #000080; font-weight: bold\">0</span>  -   Left Margin:   <span style=\"color: #000080; text-decoration-color: #000080; font-weight: bold\">146</span>  <span style=\"font-weight: bold\">(</span> <span style=\"color: #000080; text-decoration-color: #000080; font-weight: bold\">74</span> <span style=\"font-weight: bold\">)</span>  Center Point:   <span style=\"color: #000080; text-decoration-color: #000080; font-weight: bold\">198</span>  <span style=\"font-weight: bold\">(</span> <span style=\"color: #000080; text-decoration-color: #000080; font-weight: bold\">100</span> <span style=\"font-weight: bold\">)</span>  Right \n",
       "Margin:   <span style=\"color: #000080; text-decoration-color: #000080; font-weight: bold\">148</span>  <span style=\"font-weight: bold\">(</span> <span style=\"color: #000080; text-decoration-color: #000080; font-weight: bold\">75</span> <span style=\"font-weight: bold\">)</span>\n",
       "</pre>\n"
      ],
      "text/plain": [
       "<rich.jupyter.JupyterRenderable at 0x7fa9c4577c10>"
      ]
     },
     "metadata": {},
     "output_type": "display_data"
    },
    {
     "data": {
      "text/html": [
       "<pre style=\"white-space:pre;overflow-x:auto;line-height:normal;font-family:Menlo,'DejaVu Sans Mono',consolas,'Courier New',monospace\">Byte  <span style=\"color: #000080; text-decoration-color: #000080; font-weight: bold\">6</span>  Nibble <span style=\"color: #000080; text-decoration-color: #000080; font-weight: bold\">1</span>  -   Left Margin:   <span style=\"color: #000080; text-decoration-color: #000080; font-weight: bold\">144</span>  <span style=\"font-weight: bold\">(</span> <span style=\"color: #000080; text-decoration-color: #000080; font-weight: bold\">71</span> <span style=\"font-weight: bold\">)</span>  Center Point:   <span style=\"color: #000080; text-decoration-color: #000080; font-weight: bold\">205</span>  <span style=\"font-weight: bold\">(</span> <span style=\"color: #000080; text-decoration-color: #000080; font-weight: bold\">101</span> <span style=\"font-weight: bold\">)</span>  Right \n",
       "Margin:   <span style=\"color: #000080; text-decoration-color: #000080; font-weight: bold\">144</span>  <span style=\"font-weight: bold\">(</span> <span style=\"color: #000080; text-decoration-color: #000080; font-weight: bold\">71</span> <span style=\"font-weight: bold\">)</span>\n",
       "</pre>\n"
      ],
      "text/plain": [
       "<rich.jupyter.JupyterRenderable at 0x7fa9c4577c10>"
      ]
     },
     "metadata": {},
     "output_type": "display_data"
    },
    {
     "data": {
      "text/html": [
       "<pre style=\"white-space:pre;overflow-x:auto;line-height:normal;font-family:Menlo,'DejaVu Sans Mono',consolas,'Courier New',monospace\">Byte  <span style=\"color: #000080; text-decoration-color: #000080; font-weight: bold\">7</span>  Nibble <span style=\"color: #000080; text-decoration-color: #000080; font-weight: bold\">0</span>  -   Left Margin:   <span style=\"color: #000080; text-decoration-color: #000080; font-weight: bold\">148</span>  <span style=\"font-weight: bold\">(</span> <span style=\"color: #000080; text-decoration-color: #000080; font-weight: bold\">73</span> <span style=\"font-weight: bold\">)</span>  Center Point:   <span style=\"color: #000080; text-decoration-color: #000080; font-weight: bold\">197</span>  <span style=\"font-weight: bold\">(</span> <span style=\"color: #000080; text-decoration-color: #000080; font-weight: bold\">97</span> <span style=\"font-weight: bold\">)</span>  Right Margin:\n",
       "<span style=\"color: #000080; text-decoration-color: #000080; font-weight: bold\">148</span>  <span style=\"font-weight: bold\">(</span> <span style=\"color: #000080; text-decoration-color: #000080; font-weight: bold\">73</span> <span style=\"font-weight: bold\">)</span>\n",
       "</pre>\n"
      ],
      "text/plain": [
       "<rich.jupyter.JupyterRenderable at 0x7fa9c4577c10>"
      ]
     },
     "metadata": {},
     "output_type": "display_data"
    },
    {
     "data": {
      "text/html": [
       "<pre style=\"white-space:pre;overflow-x:auto;line-height:normal;font-family:Menlo,'DejaVu Sans Mono',consolas,'Courier New',monospace\">Byte  <span style=\"color: #000080; text-decoration-color: #000080; font-weight: bold\">7</span>  Nibble <span style=\"color: #000080; text-decoration-color: #000080; font-weight: bold\">1</span>  -   Left Margin:   <span style=\"color: #000080; text-decoration-color: #000080; font-weight: bold\">144</span>  <span style=\"font-weight: bold\">(</span> <span style=\"color: #000080; text-decoration-color: #000080; font-weight: bold\">73</span> <span style=\"font-weight: bold\">)</span>  Center Point:   <span style=\"color: #000080; text-decoration-color: #000080; font-weight: bold\">196</span>  <span style=\"font-weight: bold\">(</span> <span style=\"color: #000080; text-decoration-color: #000080; font-weight: bold\">99</span> <span style=\"font-weight: bold\">)</span>  Right Margin:\n",
       "<span style=\"color: #000080; text-decoration-color: #000080; font-weight: bold\">146</span>  <span style=\"font-weight: bold\">(</span> <span style=\"color: #000080; text-decoration-color: #000080; font-weight: bold\">74</span> <span style=\"font-weight: bold\">)</span>\n",
       "</pre>\n"
      ],
      "text/plain": [
       "<rich.jupyter.JupyterRenderable at 0x7fa9c4577c10>"
      ]
     },
     "metadata": {},
     "output_type": "display_data"
    },
    {
     "data": {
      "text/html": [
       "<pre style=\"white-space:pre;overflow-x:auto;line-height:normal;font-family:Menlo,'DejaVu Sans Mono',consolas,'Courier New',monospace\">\n",
       " Frequency <span style=\"color: #000080; text-decoration-color: #000080; font-weight: bold\">0</span>  - Read Margin - Complex Pattern - Rising Edge Clock in pS and <span style=\"font-weight: bold\">(</span>delay taps<span style=\"font-weight: bold\">)</span>:\n",
       "\n",
       "</pre>\n"
      ],
      "text/plain": [
       "<rich.jupyter.JupyterRenderable at 0x7fa9fd60ac10>"
      ]
     },
     "metadata": {},
     "output_type": "display_data"
    },
    {
     "data": {
      "text/html": [
       "<pre style=\"white-space:pre;overflow-x:auto;line-height:normal;font-family:Menlo,'DejaVu Sans Mono',consolas,'Courier New',monospace\">Byte  <span style=\"color: #000080; text-decoration-color: #000080; font-weight: bold\">0</span>  Nibble <span style=\"color: #000080; text-decoration-color: #000080; font-weight: bold\">0</span>  -   Left Margin:   <span style=\"color: #000080; text-decoration-color: #000080; font-weight: bold\">133</span>  <span style=\"font-weight: bold\">(</span> <span style=\"color: #000080; text-decoration-color: #000080; font-weight: bold\">67</span> <span style=\"font-weight: bold\">)</span>  Center Point:   <span style=\"color: #000080; text-decoration-color: #000080; font-weight: bold\">180</span>  <span style=\"font-weight: bold\">(</span> <span style=\"color: #000080; text-decoration-color: #000080; font-weight: bold\">91</span> <span style=\"font-weight: bold\">)</span>  Right Margin:\n",
       "<span style=\"color: #000080; text-decoration-color: #000080; font-weight: bold\">133</span>  <span style=\"font-weight: bold\">(</span> <span style=\"color: #000080; text-decoration-color: #000080; font-weight: bold\">67</span> <span style=\"font-weight: bold\">)</span>\n",
       "</pre>\n"
      ],
      "text/plain": [
       "<rich.jupyter.JupyterRenderable at 0x7fa9fd60ac10>"
      ]
     },
     "metadata": {},
     "output_type": "display_data"
    },
    {
     "data": {
      "text/html": [
       "<pre style=\"white-space:pre;overflow-x:auto;line-height:normal;font-family:Menlo,'DejaVu Sans Mono',consolas,'Courier New',monospace\">Byte  <span style=\"color: #000080; text-decoration-color: #000080; font-weight: bold\">0</span>  Nibble <span style=\"color: #000080; text-decoration-color: #000080; font-weight: bold\">1</span>  -   Left Margin:   <span style=\"color: #000080; text-decoration-color: #000080; font-weight: bold\">132</span>  <span style=\"font-weight: bold\">(</span> <span style=\"color: #000080; text-decoration-color: #000080; font-weight: bold\">65</span> <span style=\"font-weight: bold\">)</span>  Center Point:   <span style=\"color: #000080; text-decoration-color: #000080; font-weight: bold\">195</span>  <span style=\"font-weight: bold\">(</span> <span style=\"color: #000080; text-decoration-color: #000080; font-weight: bold\">96</span> <span style=\"font-weight: bold\">)</span>  Right Margin:\n",
       "<span style=\"color: #000080; text-decoration-color: #000080; font-weight: bold\">134</span>  <span style=\"font-weight: bold\">(</span> <span style=\"color: #000080; text-decoration-color: #000080; font-weight: bold\">66</span> <span style=\"font-weight: bold\">)</span>\n",
       "</pre>\n"
      ],
      "text/plain": [
       "<rich.jupyter.JupyterRenderable at 0x7fa9fd60ac10>"
      ]
     },
     "metadata": {},
     "output_type": "display_data"
    },
    {
     "data": {
      "text/html": [
       "<pre style=\"white-space:pre;overflow-x:auto;line-height:normal;font-family:Menlo,'DejaVu Sans Mono',consolas,'Courier New',monospace\">Byte  <span style=\"color: #000080; text-decoration-color: #000080; font-weight: bold\">1</span>  Nibble <span style=\"color: #000080; text-decoration-color: #000080; font-weight: bold\">0</span>  -   Left Margin:   <span style=\"color: #000080; text-decoration-color: #000080; font-weight: bold\">127</span>  <span style=\"font-weight: bold\">(</span> <span style=\"color: #000080; text-decoration-color: #000080; font-weight: bold\">62</span> <span style=\"font-weight: bold\">)</span>  Center Point:   <span style=\"color: #000080; text-decoration-color: #000080; font-weight: bold\">177</span>  <span style=\"font-weight: bold\">(</span> <span style=\"color: #000080; text-decoration-color: #000080; font-weight: bold\">86</span> <span style=\"font-weight: bold\">)</span>  Right Margin:\n",
       "<span style=\"color: #000080; text-decoration-color: #000080; font-weight: bold\">127</span>  <span style=\"font-weight: bold\">(</span> <span style=\"color: #000080; text-decoration-color: #000080; font-weight: bold\">62</span> <span style=\"font-weight: bold\">)</span>\n",
       "</pre>\n"
      ],
      "text/plain": [
       "<rich.jupyter.JupyterRenderable at 0x7fa9fd60ac10>"
      ]
     },
     "metadata": {},
     "output_type": "display_data"
    },
    {
     "data": {
      "text/html": [
       "<pre style=\"white-space:pre;overflow-x:auto;line-height:normal;font-family:Menlo,'DejaVu Sans Mono',consolas,'Courier New',monospace\">Byte  <span style=\"color: #000080; text-decoration-color: #000080; font-weight: bold\">1</span>  Nibble <span style=\"color: #000080; text-decoration-color: #000080; font-weight: bold\">1</span>  -   Left Margin:   <span style=\"color: #000080; text-decoration-color: #000080; font-weight: bold\">124</span>  <span style=\"font-weight: bold\">(</span> <span style=\"color: #000080; text-decoration-color: #000080; font-weight: bold\">62</span> <span style=\"font-weight: bold\">)</span>  Center Point:   <span style=\"color: #000080; text-decoration-color: #000080; font-weight: bold\">176</span>  <span style=\"font-weight: bold\">(</span> <span style=\"color: #000080; text-decoration-color: #000080; font-weight: bold\">88</span> <span style=\"font-weight: bold\">)</span>  Right Margin:\n",
       "<span style=\"color: #000080; text-decoration-color: #000080; font-weight: bold\">124</span>  <span style=\"font-weight: bold\">(</span> <span style=\"color: #000080; text-decoration-color: #000080; font-weight: bold\">62</span> <span style=\"font-weight: bold\">)</span>\n",
       "</pre>\n"
      ],
      "text/plain": [
       "<rich.jupyter.JupyterRenderable at 0x7fa9fd60ac10>"
      ]
     },
     "metadata": {},
     "output_type": "display_data"
    },
    {
     "data": {
      "text/html": [
       "<pre style=\"white-space:pre;overflow-x:auto;line-height:normal;font-family:Menlo,'DejaVu Sans Mono',consolas,'Courier New',monospace\">Byte  <span style=\"color: #000080; text-decoration-color: #000080; font-weight: bold\">2</span>  Nibble <span style=\"color: #000080; text-decoration-color: #000080; font-weight: bold\">0</span>  -   Left Margin:   <span style=\"color: #000080; text-decoration-color: #000080; font-weight: bold\">127</span>  <span style=\"font-weight: bold\">(</span> <span style=\"color: #000080; text-decoration-color: #000080; font-weight: bold\">64</span> <span style=\"font-weight: bold\">)</span>  Center Point:   <span style=\"color: #000080; text-decoration-color: #000080; font-weight: bold\">176</span>  <span style=\"font-weight: bold\">(</span> <span style=\"color: #000080; text-decoration-color: #000080; font-weight: bold\">89</span> <span style=\"font-weight: bold\">)</span>  Right Margin:\n",
       "<span style=\"color: #000080; text-decoration-color: #000080; font-weight: bold\">127</span>  <span style=\"font-weight: bold\">(</span> <span style=\"color: #000080; text-decoration-color: #000080; font-weight: bold\">64</span> <span style=\"font-weight: bold\">)</span>\n",
       "</pre>\n"
      ],
      "text/plain": [
       "<rich.jupyter.JupyterRenderable at 0x7fa9fd60ac10>"
      ]
     },
     "metadata": {},
     "output_type": "display_data"
    },
    {
     "data": {
      "text/html": [
       "<pre style=\"white-space:pre;overflow-x:auto;line-height:normal;font-family:Menlo,'DejaVu Sans Mono',consolas,'Courier New',monospace\">Byte  <span style=\"color: #000080; text-decoration-color: #000080; font-weight: bold\">2</span>  Nibble <span style=\"color: #000080; text-decoration-color: #000080; font-weight: bold\">1</span>  -   Left Margin:   <span style=\"color: #000080; text-decoration-color: #000080; font-weight: bold\">132</span>  <span style=\"font-weight: bold\">(</span> <span style=\"color: #000080; text-decoration-color: #000080; font-weight: bold\">66</span> <span style=\"font-weight: bold\">)</span>  Center Point:   <span style=\"color: #000080; text-decoration-color: #000080; font-weight: bold\">178</span>  <span style=\"font-weight: bold\">(</span> <span style=\"color: #000080; text-decoration-color: #000080; font-weight: bold\">89</span> <span style=\"font-weight: bold\">)</span>  Right Margin:\n",
       "<span style=\"color: #000080; text-decoration-color: #000080; font-weight: bold\">132</span>  <span style=\"font-weight: bold\">(</span> <span style=\"color: #000080; text-decoration-color: #000080; font-weight: bold\">66</span> <span style=\"font-weight: bold\">)</span>\n",
       "</pre>\n"
      ],
      "text/plain": [
       "<rich.jupyter.JupyterRenderable at 0x7fa9fd60ac10>"
      ]
     },
     "metadata": {},
     "output_type": "display_data"
    },
    {
     "data": {
      "text/html": [
       "<pre style=\"white-space:pre;overflow-x:auto;line-height:normal;font-family:Menlo,'DejaVu Sans Mono',consolas,'Courier New',monospace\">Byte  <span style=\"color: #000080; text-decoration-color: #000080; font-weight: bold\">3</span>  Nibble <span style=\"color: #000080; text-decoration-color: #000080; font-weight: bold\">0</span>  -   Left Margin:   <span style=\"color: #000080; text-decoration-color: #000080; font-weight: bold\">130</span>  <span style=\"font-weight: bold\">(</span> <span style=\"color: #000080; text-decoration-color: #000080; font-weight: bold\">65</span> <span style=\"font-weight: bold\">)</span>  Center Point:   <span style=\"color: #000080; text-decoration-color: #000080; font-weight: bold\">170</span>  <span style=\"font-weight: bold\">(</span> <span style=\"color: #000080; text-decoration-color: #000080; font-weight: bold\">85</span> <span style=\"font-weight: bold\">)</span>  Right Margin:\n",
       "<span style=\"color: #000080; text-decoration-color: #000080; font-weight: bold\">132</span>  <span style=\"font-weight: bold\">(</span> <span style=\"color: #000080; text-decoration-color: #000080; font-weight: bold\">66</span> <span style=\"font-weight: bold\">)</span>\n",
       "</pre>\n"
      ],
      "text/plain": [
       "<rich.jupyter.JupyterRenderable at 0x7fa9fd60ac10>"
      ]
     },
     "metadata": {},
     "output_type": "display_data"
    },
    {
     "data": {
      "text/html": [
       "<pre style=\"white-space:pre;overflow-x:auto;line-height:normal;font-family:Menlo,'DejaVu Sans Mono',consolas,'Courier New',monospace\">Byte  <span style=\"color: #000080; text-decoration-color: #000080; font-weight: bold\">3</span>  Nibble <span style=\"color: #000080; text-decoration-color: #000080; font-weight: bold\">1</span>  -   Left Margin:   <span style=\"color: #000080; text-decoration-color: #000080; font-weight: bold\">138</span>  <span style=\"font-weight: bold\">(</span> <span style=\"color: #000080; text-decoration-color: #000080; font-weight: bold\">68</span> <span style=\"font-weight: bold\">)</span>  Center Point:   <span style=\"color: #000080; text-decoration-color: #000080; font-weight: bold\">179</span>  <span style=\"font-weight: bold\">(</span> <span style=\"color: #000080; text-decoration-color: #000080; font-weight: bold\">88</span> <span style=\"font-weight: bold\">)</span>  Right Margin:\n",
       "<span style=\"color: #000080; text-decoration-color: #000080; font-weight: bold\">140</span>  <span style=\"font-weight: bold\">(</span> <span style=\"color: #000080; text-decoration-color: #000080; font-weight: bold\">69</span> <span style=\"font-weight: bold\">)</span>\n",
       "</pre>\n"
      ],
      "text/plain": [
       "<rich.jupyter.JupyterRenderable at 0x7fa9fd60ac10>"
      ]
     },
     "metadata": {},
     "output_type": "display_data"
    },
    {
     "data": {
      "text/html": [
       "<pre style=\"white-space:pre;overflow-x:auto;line-height:normal;font-family:Menlo,'DejaVu Sans Mono',consolas,'Courier New',monospace\">Byte  <span style=\"color: #000080; text-decoration-color: #000080; font-weight: bold\">4</span>  Nibble <span style=\"color: #000080; text-decoration-color: #000080; font-weight: bold\">0</span>  -   Left Margin:   <span style=\"color: #000080; text-decoration-color: #000080; font-weight: bold\">120</span>  <span style=\"font-weight: bold\">(</span> <span style=\"color: #000080; text-decoration-color: #000080; font-weight: bold\">60</span> <span style=\"font-weight: bold\">)</span>  Center Point:   <span style=\"color: #000080; text-decoration-color: #000080; font-weight: bold\">174</span>  <span style=\"font-weight: bold\">(</span> <span style=\"color: #000080; text-decoration-color: #000080; font-weight: bold\">87</span> <span style=\"font-weight: bold\">)</span>  Right Margin:\n",
       "<span style=\"color: #000080; text-decoration-color: #000080; font-weight: bold\">122</span>  <span style=\"font-weight: bold\">(</span> <span style=\"color: #000080; text-decoration-color: #000080; font-weight: bold\">61</span> <span style=\"font-weight: bold\">)</span>\n",
       "</pre>\n"
      ],
      "text/plain": [
       "<rich.jupyter.JupyterRenderable at 0x7fa9fd60ac10>"
      ]
     },
     "metadata": {},
     "output_type": "display_data"
    },
    {
     "data": {
      "text/html": [
       "<pre style=\"white-space:pre;overflow-x:auto;line-height:normal;font-family:Menlo,'DejaVu Sans Mono',consolas,'Courier New',monospace\">Byte  <span style=\"color: #000080; text-decoration-color: #000080; font-weight: bold\">4</span>  Nibble <span style=\"color: #000080; text-decoration-color: #000080; font-weight: bold\">1</span>  -   Left Margin:   <span style=\"color: #000080; text-decoration-color: #000080; font-weight: bold\">127</span>  <span style=\"font-weight: bold\">(</span> <span style=\"color: #000080; text-decoration-color: #000080; font-weight: bold\">62</span> <span style=\"font-weight: bold\">)</span>  Center Point:   <span style=\"color: #000080; text-decoration-color: #000080; font-weight: bold\">181</span>  <span style=\"font-weight: bold\">(</span> <span style=\"color: #000080; text-decoration-color: #000080; font-weight: bold\">88</span> <span style=\"font-weight: bold\">)</span>  Right Margin:\n",
       "<span style=\"color: #000080; text-decoration-color: #000080; font-weight: bold\">130</span>  <span style=\"font-weight: bold\">(</span> <span style=\"color: #000080; text-decoration-color: #000080; font-weight: bold\">63</span> <span style=\"font-weight: bold\">)</span>\n",
       "</pre>\n"
      ],
      "text/plain": [
       "<rich.jupyter.JupyterRenderable at 0x7fa9c45e59d0>"
      ]
     },
     "metadata": {},
     "output_type": "display_data"
    },
    {
     "data": {
      "text/html": [
       "<pre style=\"white-space:pre;overflow-x:auto;line-height:normal;font-family:Menlo,'DejaVu Sans Mono',consolas,'Courier New',monospace\">Byte  <span style=\"color: #000080; text-decoration-color: #000080; font-weight: bold\">5</span>  Nibble <span style=\"color: #000080; text-decoration-color: #000080; font-weight: bold\">0</span>  -   Left Margin:   <span style=\"color: #000080; text-decoration-color: #000080; font-weight: bold\">127</span>  <span style=\"font-weight: bold\">(</span> <span style=\"color: #000080; text-decoration-color: #000080; font-weight: bold\">64</span> <span style=\"font-weight: bold\">)</span>  Center Point:   <span style=\"color: #000080; text-decoration-color: #000080; font-weight: bold\">180</span>  <span style=\"font-weight: bold\">(</span> <span style=\"color: #000080; text-decoration-color: #000080; font-weight: bold\">91</span> <span style=\"font-weight: bold\">)</span>  Right Margin:\n",
       "<span style=\"color: #000080; text-decoration-color: #000080; font-weight: bold\">129</span>  <span style=\"font-weight: bold\">(</span> <span style=\"color: #000080; text-decoration-color: #000080; font-weight: bold\">65</span> <span style=\"font-weight: bold\">)</span>\n",
       "</pre>\n"
      ],
      "text/plain": [
       "<rich.jupyter.JupyterRenderable at 0x7fa9c45e52e0>"
      ]
     },
     "metadata": {},
     "output_type": "display_data"
    },
    {
     "data": {
      "text/html": [
       "<pre style=\"white-space:pre;overflow-x:auto;line-height:normal;font-family:Menlo,'DejaVu Sans Mono',consolas,'Courier New',monospace\">Byte  <span style=\"color: #000080; text-decoration-color: #000080; font-weight: bold\">5</span>  Nibble <span style=\"color: #000080; text-decoration-color: #000080; font-weight: bold\">1</span>  -   Left Margin:   <span style=\"color: #000080; text-decoration-color: #000080; font-weight: bold\">138</span>  <span style=\"font-weight: bold\">(</span> <span style=\"color: #000080; text-decoration-color: #000080; font-weight: bold\">67</span> <span style=\"font-weight: bold\">)</span>  Center Point:   <span style=\"color: #000080; text-decoration-color: #000080; font-weight: bold\">189</span>  <span style=\"font-weight: bold\">(</span> <span style=\"color: #000080; text-decoration-color: #000080; font-weight: bold\">92</span> <span style=\"font-weight: bold\">)</span>  Right Margin:\n",
       "<span style=\"color: #000080; text-decoration-color: #000080; font-weight: bold\">138</span>  <span style=\"font-weight: bold\">(</span> <span style=\"color: #000080; text-decoration-color: #000080; font-weight: bold\">67</span> <span style=\"font-weight: bold\">)</span>\n",
       "</pre>\n"
      ],
      "text/plain": [
       "<rich.jupyter.JupyterRenderable at 0x7fa9c45e51f0>"
      ]
     },
     "metadata": {},
     "output_type": "display_data"
    },
    {
     "data": {
      "text/html": [
       "<pre style=\"white-space:pre;overflow-x:auto;line-height:normal;font-family:Menlo,'DejaVu Sans Mono',consolas,'Courier New',monospace\">Byte  <span style=\"color: #000080; text-decoration-color: #000080; font-weight: bold\">6</span>  Nibble <span style=\"color: #000080; text-decoration-color: #000080; font-weight: bold\">0</span>  -   Left Margin:   <span style=\"color: #000080; text-decoration-color: #000080; font-weight: bold\">129</span>  <span style=\"font-weight: bold\">(</span> <span style=\"color: #000080; text-decoration-color: #000080; font-weight: bold\">65</span> <span style=\"font-weight: bold\">)</span>  Center Point:   <span style=\"color: #000080; text-decoration-color: #000080; font-weight: bold\">176</span>  <span style=\"font-weight: bold\">(</span> <span style=\"color: #000080; text-decoration-color: #000080; font-weight: bold\">89</span> <span style=\"font-weight: bold\">)</span>  Right Margin:\n",
       "<span style=\"color: #000080; text-decoration-color: #000080; font-weight: bold\">129</span>  <span style=\"font-weight: bold\">(</span> <span style=\"color: #000080; text-decoration-color: #000080; font-weight: bold\">65</span> <span style=\"font-weight: bold\">)</span>\n",
       "</pre>\n"
      ],
      "text/plain": [
       "<rich.jupyter.JupyterRenderable at 0x7fa9c45e52e0>"
      ]
     },
     "metadata": {},
     "output_type": "display_data"
    },
    {
     "data": {
      "text/html": [
       "<pre style=\"white-space:pre;overflow-x:auto;line-height:normal;font-family:Menlo,'DejaVu Sans Mono',consolas,'Courier New',monospace\">Byte  <span style=\"color: #000080; text-decoration-color: #000080; font-weight: bold\">6</span>  Nibble <span style=\"color: #000080; text-decoration-color: #000080; font-weight: bold\">1</span>  -   Left Margin:   <span style=\"color: #000080; text-decoration-color: #000080; font-weight: bold\">126</span>  <span style=\"font-weight: bold\">(</span> <span style=\"color: #000080; text-decoration-color: #000080; font-weight: bold\">63</span> <span style=\"font-weight: bold\">)</span>  Center Point:   <span style=\"color: #000080; text-decoration-color: #000080; font-weight: bold\">186</span>  <span style=\"font-weight: bold\">(</span> <span style=\"color: #000080; text-decoration-color: #000080; font-weight: bold\">93</span> <span style=\"font-weight: bold\">)</span>  Right Margin:\n",
       "<span style=\"color: #000080; text-decoration-color: #000080; font-weight: bold\">126</span>  <span style=\"font-weight: bold\">(</span> <span style=\"color: #000080; text-decoration-color: #000080; font-weight: bold\">63</span> <span style=\"font-weight: bold\">)</span>\n",
       "</pre>\n"
      ],
      "text/plain": [
       "<rich.jupyter.JupyterRenderable at 0x7fa9c45e51f0>"
      ]
     },
     "metadata": {},
     "output_type": "display_data"
    },
    {
     "data": {
      "text/html": [
       "<pre style=\"white-space:pre;overflow-x:auto;line-height:normal;font-family:Menlo,'DejaVu Sans Mono',consolas,'Courier New',monospace\">Byte  <span style=\"color: #000080; text-decoration-color: #000080; font-weight: bold\">7</span>  Nibble <span style=\"color: #000080; text-decoration-color: #000080; font-weight: bold\">0</span>  -   Left Margin:   <span style=\"color: #000080; text-decoration-color: #000080; font-weight: bold\">133</span>  <span style=\"font-weight: bold\">(</span> <span style=\"color: #000080; text-decoration-color: #000080; font-weight: bold\">67</span> <span style=\"font-weight: bold\">)</span>  Center Point:   <span style=\"color: #000080; text-decoration-color: #000080; font-weight: bold\">178</span>  <span style=\"font-weight: bold\">(</span> <span style=\"color: #000080; text-decoration-color: #000080; font-weight: bold\">90</span> <span style=\"font-weight: bold\">)</span>  Right Margin:\n",
       "<span style=\"color: #000080; text-decoration-color: #000080; font-weight: bold\">133</span>  <span style=\"font-weight: bold\">(</span> <span style=\"color: #000080; text-decoration-color: #000080; font-weight: bold\">67</span> <span style=\"font-weight: bold\">)</span>\n",
       "</pre>\n"
      ],
      "text/plain": [
       "<rich.jupyter.JupyterRenderable at 0x7fa9c45e5520>"
      ]
     },
     "metadata": {},
     "output_type": "display_data"
    },
    {
     "data": {
      "text/html": [
       "<pre style=\"white-space:pre;overflow-x:auto;line-height:normal;font-family:Menlo,'DejaVu Sans Mono',consolas,'Courier New',monospace\">Byte  <span style=\"color: #000080; text-decoration-color: #000080; font-weight: bold\">7</span>  Nibble <span style=\"color: #000080; text-decoration-color: #000080; font-weight: bold\">1</span>  -   Left Margin:   <span style=\"color: #000080; text-decoration-color: #000080; font-weight: bold\">134</span>  <span style=\"font-weight: bold\">(</span> <span style=\"color: #000080; text-decoration-color: #000080; font-weight: bold\">68</span> <span style=\"font-weight: bold\">)</span>  Center Point:   <span style=\"color: #000080; text-decoration-color: #000080; font-weight: bold\">178</span>  <span style=\"font-weight: bold\">(</span> <span style=\"color: #000080; text-decoration-color: #000080; font-weight: bold\">90</span> <span style=\"font-weight: bold\">)</span>  Right Margin:\n",
       "<span style=\"color: #000080; text-decoration-color: #000080; font-weight: bold\">136</span>  <span style=\"font-weight: bold\">(</span> <span style=\"color: #000080; text-decoration-color: #000080; font-weight: bold\">69</span> <span style=\"font-weight: bold\">)</span>\n",
       "</pre>\n"
      ],
      "text/plain": [
       "<rich.jupyter.JupyterRenderable at 0x7fa9c45e51f0>"
      ]
     },
     "metadata": {},
     "output_type": "display_data"
    },
    {
     "data": {
      "text/html": [
       "<pre style=\"white-space:pre;overflow-x:auto;line-height:normal;font-family:Menlo,'DejaVu Sans Mono',consolas,'Courier New',monospace\">\n",
       " Frequency <span style=\"color: #000080; text-decoration-color: #000080; font-weight: bold\">0</span>  - Read Margin - Complex Pattern - Falling Edge Clock in pS and <span style=\"font-weight: bold\">(</span>delay taps<span style=\"font-weight: bold\">)</span>:\n",
       "\n",
       "</pre>\n"
      ],
      "text/plain": [
       "<rich.jupyter.JupyterRenderable at 0x7fa9c45bb0d0>"
      ]
     },
     "metadata": {},
     "output_type": "display_data"
    },
    {
     "data": {
      "text/html": [
       "<pre style=\"white-space:pre;overflow-x:auto;line-height:normal;font-family:Menlo,'DejaVu Sans Mono',consolas,'Courier New',monospace\">Byte  <span style=\"color: #000080; text-decoration-color: #000080; font-weight: bold\">0</span>  Nibble <span style=\"color: #000080; text-decoration-color: #000080; font-weight: bold\">0</span>  -   Left Margin:   <span style=\"color: #000080; text-decoration-color: #000080; font-weight: bold\">126</span>  <span style=\"font-weight: bold\">(</span> <span style=\"color: #000080; text-decoration-color: #000080; font-weight: bold\">62</span> <span style=\"font-weight: bold\">)</span>  Center Point:   <span style=\"color: #000080; text-decoration-color: #000080; font-weight: bold\">179</span>  <span style=\"font-weight: bold\">(</span> <span style=\"color: #000080; text-decoration-color: #000080; font-weight: bold\">88</span> <span style=\"font-weight: bold\">)</span>  Right Margin:\n",
       "<span style=\"color: #000080; text-decoration-color: #000080; font-weight: bold\">126</span>  <span style=\"font-weight: bold\">(</span> <span style=\"color: #000080; text-decoration-color: #000080; font-weight: bold\">62</span> <span style=\"font-weight: bold\">)</span>\n",
       "</pre>\n"
      ],
      "text/plain": [
       "<rich.jupyter.JupyterRenderable at 0x7fa9c45bb0d0>"
      ]
     },
     "metadata": {},
     "output_type": "display_data"
    },
    {
     "data": {
      "text/html": [
       "<pre style=\"white-space:pre;overflow-x:auto;line-height:normal;font-family:Menlo,'DejaVu Sans Mono',consolas,'Courier New',monospace\">Byte  <span style=\"color: #000080; text-decoration-color: #000080; font-weight: bold\">0</span>  Nibble <span style=\"color: #000080; text-decoration-color: #000080; font-weight: bold\">1</span>  -   Left Margin:   <span style=\"color: #000080; text-decoration-color: #000080; font-weight: bold\">117</span>  <span style=\"font-weight: bold\">(</span> <span style=\"color: #000080; text-decoration-color: #000080; font-weight: bold\">57</span> <span style=\"font-weight: bold\">)</span>  Center Point:   <span style=\"color: #000080; text-decoration-color: #000080; font-weight: bold\">195</span>  <span style=\"font-weight: bold\">(</span> <span style=\"color: #000080; text-decoration-color: #000080; font-weight: bold\">95</span> <span style=\"font-weight: bold\">)</span>  Right Margin:\n",
       "<span style=\"color: #000080; text-decoration-color: #000080; font-weight: bold\">117</span>  <span style=\"font-weight: bold\">(</span> <span style=\"color: #000080; text-decoration-color: #000080; font-weight: bold\">57</span> <span style=\"font-weight: bold\">)</span>\n",
       "</pre>\n"
      ],
      "text/plain": [
       "<rich.jupyter.JupyterRenderable at 0x7fa9c45bb0d0>"
      ]
     },
     "metadata": {},
     "output_type": "display_data"
    },
    {
     "data": {
      "text/html": [
       "<pre style=\"white-space:pre;overflow-x:auto;line-height:normal;font-family:Menlo,'DejaVu Sans Mono',consolas,'Courier New',monospace\">Byte  <span style=\"color: #000080; text-decoration-color: #000080; font-weight: bold\">1</span>  Nibble <span style=\"color: #000080; text-decoration-color: #000080; font-weight: bold\">0</span>  -   Left Margin:   <span style=\"color: #000080; text-decoration-color: #000080; font-weight: bold\">125</span>  <span style=\"font-weight: bold\">(</span> <span style=\"color: #000080; text-decoration-color: #000080; font-weight: bold\">61</span> <span style=\"font-weight: bold\">)</span>  Center Point:   <span style=\"color: #000080; text-decoration-color: #000080; font-weight: bold\">183</span>  <span style=\"font-weight: bold\">(</span> <span style=\"color: #000080; text-decoration-color: #000080; font-weight: bold\">89</span> <span style=\"font-weight: bold\">)</span>  Right Margin:\n",
       "<span style=\"color: #000080; text-decoration-color: #000080; font-weight: bold\">125</span>  <span style=\"font-weight: bold\">(</span> <span style=\"color: #000080; text-decoration-color: #000080; font-weight: bold\">61</span> <span style=\"font-weight: bold\">)</span>\n",
       "</pre>\n"
      ],
      "text/plain": [
       "<rich.jupyter.JupyterRenderable at 0x7fa9c45e50a0>"
      ]
     },
     "metadata": {},
     "output_type": "display_data"
    },
    {
     "data": {
      "text/html": [
       "<pre style=\"white-space:pre;overflow-x:auto;line-height:normal;font-family:Menlo,'DejaVu Sans Mono',consolas,'Courier New',monospace\">Byte  <span style=\"color: #000080; text-decoration-color: #000080; font-weight: bold\">1</span>  Nibble <span style=\"color: #000080; text-decoration-color: #000080; font-weight: bold\">1</span>  -   Left Margin:   <span style=\"color: #000080; text-decoration-color: #000080; font-weight: bold\">120</span>  <span style=\"font-weight: bold\">(</span> <span style=\"color: #000080; text-decoration-color: #000080; font-weight: bold\">60</span> <span style=\"font-weight: bold\">)</span>  Center Point:   <span style=\"color: #000080; text-decoration-color: #000080; font-weight: bold\">180</span>  <span style=\"font-weight: bold\">(</span> <span style=\"color: #000080; text-decoration-color: #000080; font-weight: bold\">90</span> <span style=\"font-weight: bold\">)</span>  Right Margin:\n",
       "<span style=\"color: #000080; text-decoration-color: #000080; font-weight: bold\">120</span>  <span style=\"font-weight: bold\">(</span> <span style=\"color: #000080; text-decoration-color: #000080; font-weight: bold\">60</span> <span style=\"font-weight: bold\">)</span>\n",
       "</pre>\n"
      ],
      "text/plain": [
       "<rich.jupyter.JupyterRenderable at 0x7fa9c45bb0d0>"
      ]
     },
     "metadata": {},
     "output_type": "display_data"
    },
    {
     "data": {
      "text/html": [
       "<pre style=\"white-space:pre;overflow-x:auto;line-height:normal;font-family:Menlo,'DejaVu Sans Mono',consolas,'Courier New',monospace\">Byte  <span style=\"color: #000080; text-decoration-color: #000080; font-weight: bold\">2</span>  Nibble <span style=\"color: #000080; text-decoration-color: #000080; font-weight: bold\">0</span>  -   Left Margin:   <span style=\"color: #000080; text-decoration-color: #000080; font-weight: bold\">116</span>  <span style=\"font-weight: bold\">(</span> <span style=\"color: #000080; text-decoration-color: #000080; font-weight: bold\">58</span> <span style=\"font-weight: bold\">)</span>  Center Point:   <span style=\"color: #000080; text-decoration-color: #000080; font-weight: bold\">180</span>  <span style=\"font-weight: bold\">(</span> <span style=\"color: #000080; text-decoration-color: #000080; font-weight: bold\">90</span> <span style=\"font-weight: bold\">)</span>  Right Margin:\n",
       "<span style=\"color: #000080; text-decoration-color: #000080; font-weight: bold\">118</span>  <span style=\"font-weight: bold\">(</span> <span style=\"color: #000080; text-decoration-color: #000080; font-weight: bold\">59</span> <span style=\"font-weight: bold\">)</span>\n",
       "</pre>\n"
      ],
      "text/plain": [
       "<rich.jupyter.JupyterRenderable at 0x7fa9c45e50a0>"
      ]
     },
     "metadata": {},
     "output_type": "display_data"
    },
    {
     "data": {
      "text/html": [
       "<pre style=\"white-space:pre;overflow-x:auto;line-height:normal;font-family:Menlo,'DejaVu Sans Mono',consolas,'Courier New',monospace\">Byte  <span style=\"color: #000080; text-decoration-color: #000080; font-weight: bold\">2</span>  Nibble <span style=\"color: #000080; text-decoration-color: #000080; font-weight: bold\">1</span>  -   Left Margin:   <span style=\"color: #000080; text-decoration-color: #000080; font-weight: bold\">117</span>  <span style=\"font-weight: bold\">(</span> <span style=\"color: #000080; text-decoration-color: #000080; font-weight: bold\">59</span> <span style=\"font-weight: bold\">)</span>  Center Point:   <span style=\"color: #000080; text-decoration-color: #000080; font-weight: bold\">174</span>  <span style=\"font-weight: bold\">(</span> <span style=\"color: #000080; text-decoration-color: #000080; font-weight: bold\">88</span> <span style=\"font-weight: bold\">)</span>  Right Margin:\n",
       "<span style=\"color: #000080; text-decoration-color: #000080; font-weight: bold\">117</span>  <span style=\"font-weight: bold\">(</span> <span style=\"color: #000080; text-decoration-color: #000080; font-weight: bold\">59</span> <span style=\"font-weight: bold\">)</span>\n",
       "</pre>\n"
      ],
      "text/plain": [
       "<rich.jupyter.JupyterRenderable at 0x7fa9c45bb0d0>"
      ]
     },
     "metadata": {},
     "output_type": "display_data"
    },
    {
     "data": {
      "text/html": [
       "<pre style=\"white-space:pre;overflow-x:auto;line-height:normal;font-family:Menlo,'DejaVu Sans Mono',consolas,'Courier New',monospace\">Byte  <span style=\"color: #000080; text-decoration-color: #000080; font-weight: bold\">3</span>  Nibble <span style=\"color: #000080; text-decoration-color: #000080; font-weight: bold\">0</span>  -   Left Margin:   <span style=\"color: #000080; text-decoration-color: #000080; font-weight: bold\">124</span>  <span style=\"font-weight: bold\">(</span> <span style=\"color: #000080; text-decoration-color: #000080; font-weight: bold\">62</span> <span style=\"font-weight: bold\">)</span>  Center Point:   <span style=\"color: #000080; text-decoration-color: #000080; font-weight: bold\">170</span>  <span style=\"font-weight: bold\">(</span> <span style=\"color: #000080; text-decoration-color: #000080; font-weight: bold\">85</span> <span style=\"font-weight: bold\">)</span>  Right Margin:\n",
       "<span style=\"color: #000080; text-decoration-color: #000080; font-weight: bold\">124</span>  <span style=\"font-weight: bold\">(</span> <span style=\"color: #000080; text-decoration-color: #000080; font-weight: bold\">62</span> <span style=\"font-weight: bold\">)</span>\n",
       "</pre>\n"
      ],
      "text/plain": [
       "<rich.jupyter.JupyterRenderable at 0x7fa9c45e50a0>"
      ]
     },
     "metadata": {},
     "output_type": "display_data"
    },
    {
     "data": {
      "text/html": [
       "<pre style=\"white-space:pre;overflow-x:auto;line-height:normal;font-family:Menlo,'DejaVu Sans Mono',consolas,'Courier New',monospace\">Byte  <span style=\"color: #000080; text-decoration-color: #000080; font-weight: bold\">3</span>  Nibble <span style=\"color: #000080; text-decoration-color: #000080; font-weight: bold\">1</span>  -   Left Margin:   <span style=\"color: #000080; text-decoration-color: #000080; font-weight: bold\">122</span>  <span style=\"font-weight: bold\">(</span> <span style=\"color: #000080; text-decoration-color: #000080; font-weight: bold\">61</span> <span style=\"font-weight: bold\">)</span>  Center Point:   <span style=\"color: #000080; text-decoration-color: #000080; font-weight: bold\">166</span>  <span style=\"font-weight: bold\">(</span> <span style=\"color: #000080; text-decoration-color: #000080; font-weight: bold\">83</span> <span style=\"font-weight: bold\">)</span>  Right Margin:\n",
       "<span style=\"color: #000080; text-decoration-color: #000080; font-weight: bold\">124</span>  <span style=\"font-weight: bold\">(</span> <span style=\"color: #000080; text-decoration-color: #000080; font-weight: bold\">62</span> <span style=\"font-weight: bold\">)</span>\n",
       "</pre>\n"
      ],
      "text/plain": [
       "<rich.jupyter.JupyterRenderable at 0x7fa9fd60ecd0>"
      ]
     },
     "metadata": {},
     "output_type": "display_data"
    },
    {
     "data": {
      "text/html": [
       "<pre style=\"white-space:pre;overflow-x:auto;line-height:normal;font-family:Menlo,'DejaVu Sans Mono',consolas,'Courier New',monospace\">Byte  <span style=\"color: #000080; text-decoration-color: #000080; font-weight: bold\">4</span>  Nibble <span style=\"color: #000080; text-decoration-color: #000080; font-weight: bold\">0</span>  -   Left Margin:   <span style=\"color: #000080; text-decoration-color: #000080; font-weight: bold\">119</span>  <span style=\"font-weight: bold\">(</span> <span style=\"color: #000080; text-decoration-color: #000080; font-weight: bold\">60</span> <span style=\"font-weight: bold\">)</span>  Center Point:   <span style=\"color: #000080; text-decoration-color: #000080; font-weight: bold\">174</span>  <span style=\"font-weight: bold\">(</span> <span style=\"color: #000080; text-decoration-color: #000080; font-weight: bold\">88</span> <span style=\"font-weight: bold\">)</span>  Right Margin:\n",
       "<span style=\"color: #000080; text-decoration-color: #000080; font-weight: bold\">121</span>  <span style=\"font-weight: bold\">(</span> <span style=\"color: #000080; text-decoration-color: #000080; font-weight: bold\">61</span> <span style=\"font-weight: bold\">)</span>\n",
       "</pre>\n"
      ],
      "text/plain": [
       "<rich.jupyter.JupyterRenderable at 0x7fa9c43daeb0>"
      ]
     },
     "metadata": {},
     "output_type": "display_data"
    },
    {
     "data": {
      "text/html": [
       "<pre style=\"white-space:pre;overflow-x:auto;line-height:normal;font-family:Menlo,'DejaVu Sans Mono',consolas,'Courier New',monospace\">Byte  <span style=\"color: #000080; text-decoration-color: #000080; font-weight: bold\">4</span>  Nibble <span style=\"color: #000080; text-decoration-color: #000080; font-weight: bold\">1</span>  -   Left Margin:   <span style=\"color: #000080; text-decoration-color: #000080; font-weight: bold\">124</span>  <span style=\"font-weight: bold\">(</span> <span style=\"color: #000080; text-decoration-color: #000080; font-weight: bold\">61</span> <span style=\"font-weight: bold\">)</span>  Center Point:   <span style=\"color: #000080; text-decoration-color: #000080; font-weight: bold\">181</span>  <span style=\"font-weight: bold\">(</span> <span style=\"color: #000080; text-decoration-color: #000080; font-weight: bold\">89</span> <span style=\"font-weight: bold\">)</span>  Right Margin:\n",
       "<span style=\"color: #000080; text-decoration-color: #000080; font-weight: bold\">126</span>  <span style=\"font-weight: bold\">(</span> <span style=\"color: #000080; text-decoration-color: #000080; font-weight: bold\">62</span> <span style=\"font-weight: bold\">)</span>\n",
       "</pre>\n"
      ],
      "text/plain": [
       "<rich.jupyter.JupyterRenderable at 0x7fa9fd60ed00>"
      ]
     },
     "metadata": {},
     "output_type": "display_data"
    },
    {
     "data": {
      "text/html": [
       "<pre style=\"white-space:pre;overflow-x:auto;line-height:normal;font-family:Menlo,'DejaVu Sans Mono',consolas,'Courier New',monospace\">Byte  <span style=\"color: #000080; text-decoration-color: #000080; font-weight: bold\">5</span>  Nibble <span style=\"color: #000080; text-decoration-color: #000080; font-weight: bold\">0</span>  -   Left Margin:   <span style=\"color: #000080; text-decoration-color: #000080; font-weight: bold\">115</span>  <span style=\"font-weight: bold\">(</span> <span style=\"color: #000080; text-decoration-color: #000080; font-weight: bold\">59</span> <span style=\"font-weight: bold\">)</span>  Center Point:   <span style=\"color: #000080; text-decoration-color: #000080; font-weight: bold\">176</span>  <span style=\"font-weight: bold\">(</span> <span style=\"color: #000080; text-decoration-color: #000080; font-weight: bold\">90</span> <span style=\"font-weight: bold\">)</span>  Right Margin:\n",
       "<span style=\"color: #000080; text-decoration-color: #000080; font-weight: bold\">115</span>  <span style=\"font-weight: bold\">(</span> <span style=\"color: #000080; text-decoration-color: #000080; font-weight: bold\">59</span> <span style=\"font-weight: bold\">)</span>\n",
       "</pre>\n"
      ],
      "text/plain": [
       "<rich.jupyter.JupyterRenderable at 0x7fa9c43c7ee0>"
      ]
     },
     "metadata": {},
     "output_type": "display_data"
    },
    {
     "data": {
      "text/html": [
       "<pre style=\"white-space:pre;overflow-x:auto;line-height:normal;font-family:Menlo,'DejaVu Sans Mono',consolas,'Courier New',monospace\">Byte  <span style=\"color: #000080; text-decoration-color: #000080; font-weight: bold\">5</span>  Nibble <span style=\"color: #000080; text-decoration-color: #000080; font-weight: bold\">1</span>  -   Left Margin:   <span style=\"color: #000080; text-decoration-color: #000080; font-weight: bold\">126</span>  <span style=\"font-weight: bold\">(</span> <span style=\"color: #000080; text-decoration-color: #000080; font-weight: bold\">63</span> <span style=\"font-weight: bold\">)</span>  Center Point:   <span style=\"color: #000080; text-decoration-color: #000080; font-weight: bold\">186</span>  <span style=\"font-weight: bold\">(</span> <span style=\"color: #000080; text-decoration-color: #000080; font-weight: bold\">93</span> <span style=\"font-weight: bold\">)</span>  Right Margin:\n",
       "<span style=\"color: #000080; text-decoration-color: #000080; font-weight: bold\">126</span>  <span style=\"font-weight: bold\">(</span> <span style=\"color: #000080; text-decoration-color: #000080; font-weight: bold\">63</span> <span style=\"font-weight: bold\">)</span>\n",
       "</pre>\n"
      ],
      "text/plain": [
       "<rich.jupyter.JupyterRenderable at 0x7fa9fd60ecd0>"
      ]
     },
     "metadata": {},
     "output_type": "display_data"
    },
    {
     "data": {
      "text/html": [
       "<pre style=\"white-space:pre;overflow-x:auto;line-height:normal;font-family:Menlo,'DejaVu Sans Mono',consolas,'Courier New',monospace\">Byte  <span style=\"color: #000080; text-decoration-color: #000080; font-weight: bold\">6</span>  Nibble <span style=\"color: #000080; text-decoration-color: #000080; font-weight: bold\">0</span>  -   Left Margin:   <span style=\"color: #000080; text-decoration-color: #000080; font-weight: bold\">119</span>  <span style=\"font-weight: bold\">(</span> <span style=\"color: #000080; text-decoration-color: #000080; font-weight: bold\">60</span> <span style=\"font-weight: bold\">)</span>  Center Point:   <span style=\"color: #000080; text-decoration-color: #000080; font-weight: bold\">174</span>  <span style=\"font-weight: bold\">(</span> <span style=\"color: #000080; text-decoration-color: #000080; font-weight: bold\">88</span> <span style=\"font-weight: bold\">)</span>  Right Margin:\n",
       "<span style=\"color: #000080; text-decoration-color: #000080; font-weight: bold\">121</span>  <span style=\"font-weight: bold\">(</span> <span style=\"color: #000080; text-decoration-color: #000080; font-weight: bold\">61</span> <span style=\"font-weight: bold\">)</span>\n",
       "</pre>\n"
      ],
      "text/plain": [
       "<rich.jupyter.JupyterRenderable at 0x7fa9c43daeb0>"
      ]
     },
     "metadata": {},
     "output_type": "display_data"
    },
    {
     "data": {
      "text/html": [
       "<pre style=\"white-space:pre;overflow-x:auto;line-height:normal;font-family:Menlo,'DejaVu Sans Mono',consolas,'Courier New',monospace\">Byte  <span style=\"color: #000080; text-decoration-color: #000080; font-weight: bold\">6</span>  Nibble <span style=\"color: #000080; text-decoration-color: #000080; font-weight: bold\">1</span>  -   Left Margin:   <span style=\"color: #000080; text-decoration-color: #000080; font-weight: bold\">118</span>  <span style=\"font-weight: bold\">(</span> <span style=\"color: #000080; text-decoration-color: #000080; font-weight: bold\">58</span> <span style=\"font-weight: bold\">)</span>  Center Point:   <span style=\"color: #000080; text-decoration-color: #000080; font-weight: bold\">187</span>  <span style=\"font-weight: bold\">(</span> <span style=\"color: #000080; text-decoration-color: #000080; font-weight: bold\">92</span> <span style=\"font-weight: bold\">)</span>  Right Margin:\n",
       "<span style=\"color: #000080; text-decoration-color: #000080; font-weight: bold\">120</span>  <span style=\"font-weight: bold\">(</span> <span style=\"color: #000080; text-decoration-color: #000080; font-weight: bold\">59</span> <span style=\"font-weight: bold\">)</span>\n",
       "</pre>\n"
      ],
      "text/plain": [
       "<rich.jupyter.JupyterRenderable at 0x7fa9fd60ed00>"
      ]
     },
     "metadata": {},
     "output_type": "display_data"
    },
    {
     "data": {
      "text/html": [
       "<pre style=\"white-space:pre;overflow-x:auto;line-height:normal;font-family:Menlo,'DejaVu Sans Mono',consolas,'Courier New',monospace\">Byte  <span style=\"color: #000080; text-decoration-color: #000080; font-weight: bold\">7</span>  Nibble <span style=\"color: #000080; text-decoration-color: #000080; font-weight: bold\">0</span>  -   Left Margin:   <span style=\"color: #000080; text-decoration-color: #000080; font-weight: bold\">126</span>  <span style=\"font-weight: bold\">(</span> <span style=\"color: #000080; text-decoration-color: #000080; font-weight: bold\">62</span> <span style=\"font-weight: bold\">)</span>  Center Point:   <span style=\"color: #000080; text-decoration-color: #000080; font-weight: bold\">177</span>  <span style=\"font-weight: bold\">(</span> <span style=\"color: #000080; text-decoration-color: #000080; font-weight: bold\">87</span> <span style=\"font-weight: bold\">)</span>  Right Margin:\n",
       "<span style=\"color: #000080; text-decoration-color: #000080; font-weight: bold\">126</span>  <span style=\"font-weight: bold\">(</span> <span style=\"color: #000080; text-decoration-color: #000080; font-weight: bold\">62</span> <span style=\"font-weight: bold\">)</span>\n",
       "</pre>\n"
      ],
      "text/plain": [
       "<rich.jupyter.JupyterRenderable at 0x7fa9c43c7ee0>"
      ]
     },
     "metadata": {},
     "output_type": "display_data"
    },
    {
     "data": {
      "text/html": [
       "<pre style=\"white-space:pre;overflow-x:auto;line-height:normal;font-family:Menlo,'DejaVu Sans Mono',consolas,'Courier New',monospace\">Byte  <span style=\"color: #000080; text-decoration-color: #000080; font-weight: bold\">7</span>  Nibble <span style=\"color: #000080; text-decoration-color: #000080; font-weight: bold\">1</span>  -   Left Margin:   <span style=\"color: #000080; text-decoration-color: #000080; font-weight: bold\">123</span>  <span style=\"font-weight: bold\">(</span> <span style=\"color: #000080; text-decoration-color: #000080; font-weight: bold\">62</span> <span style=\"font-weight: bold\">)</span>  Center Point:   <span style=\"color: #000080; text-decoration-color: #000080; font-weight: bold\">178</span>  <span style=\"font-weight: bold\">(</span> <span style=\"color: #000080; text-decoration-color: #000080; font-weight: bold\">90</span> <span style=\"font-weight: bold\">)</span>  Right Margin:\n",
       "<span style=\"color: #000080; text-decoration-color: #000080; font-weight: bold\">123</span>  <span style=\"font-weight: bold\">(</span> <span style=\"color: #000080; text-decoration-color: #000080; font-weight: bold\">62</span> <span style=\"font-weight: bold\">)</span>\n",
       "</pre>\n"
      ],
      "text/plain": [
       "<rich.jupyter.JupyterRenderable at 0x7fa9fd60ecd0>"
      ]
     },
     "metadata": {},
     "output_type": "display_data"
    },
    {
     "data": {
      "text/html": [
       "<pre style=\"white-space:pre;overflow-x:auto;line-height:normal;font-family:Menlo,'DejaVu Sans Mono',consolas,'Courier New',monospace\">\n",
       " Frequency <span style=\"color: #000080; text-decoration-color: #000080; font-weight: bold\">0</span>  - Write Margin - Simple Pattern - Calibration Window in pS and <span style=\"font-weight: bold\">(</span>delay taps<span style=\"font-weight: bold\">)</span>:\n",
       "\n",
       "</pre>\n"
      ],
      "text/plain": [
       "<rich.jupyter.JupyterRenderable at 0x7fa9c44fb790>"
      ]
     },
     "metadata": {},
     "output_type": "display_data"
    },
    {
     "data": {
      "text/html": [
       "<pre style=\"white-space:pre;overflow-x:auto;line-height:normal;font-family:Menlo,'DejaVu Sans Mono',consolas,'Courier New',monospace\">Byte  <span style=\"color: #000080; text-decoration-color: #000080; font-weight: bold\">0</span>   -  Left Margin:   <span style=\"color: #000080; text-decoration-color: #000080; font-weight: bold\">168</span>  <span style=\"font-weight: bold\">(</span> <span style=\"color: #000080; text-decoration-color: #000080; font-weight: bold\">83</span> <span style=\"font-weight: bold\">)</span>  Center Point:   <span style=\"color: #000080; text-decoration-color: #000080; font-weight: bold\">461</span>  <span style=\"font-weight: bold\">(</span> <span style=\"color: #000080; text-decoration-color: #000080; font-weight: bold\">227</span> <span style=\"font-weight: bold\">)</span>  Right Margin:   <span style=\"color: #000080; text-decoration-color: #000080; font-weight: bold\">128</span>  <span style=\"font-weight: bold\">(</span>\n",
       "<span style=\"color: #000080; text-decoration-color: #000080; font-weight: bold\">63</span> <span style=\"font-weight: bold\">)</span>\n",
       "</pre>\n"
      ],
      "text/plain": [
       "<rich.jupyter.JupyterRenderable at 0x7fa9c43e58b0>"
      ]
     },
     "metadata": {},
     "output_type": "display_data"
    },
    {
     "data": {
      "text/html": [
       "<pre style=\"white-space:pre;overflow-x:auto;line-height:normal;font-family:Menlo,'DejaVu Sans Mono',consolas,'Courier New',monospace\">Byte  <span style=\"color: #000080; text-decoration-color: #000080; font-weight: bold\">1</span>   -  Left Margin:   <span style=\"color: #000080; text-decoration-color: #000080; font-weight: bold\">179</span>  <span style=\"font-weight: bold\">(</span> <span style=\"color: #000080; text-decoration-color: #000080; font-weight: bold\">88</span> <span style=\"font-weight: bold\">)</span>  Center Point:   <span style=\"color: #000080; text-decoration-color: #000080; font-weight: bold\">576</span>  <span style=\"font-weight: bold\">(</span> <span style=\"color: #000080; text-decoration-color: #000080; font-weight: bold\">284</span> <span style=\"font-weight: bold\">)</span>  Right Margin:   <span style=\"color: #000080; text-decoration-color: #000080; font-weight: bold\">116</span>  <span style=\"font-weight: bold\">(</span>\n",
       "<span style=\"color: #000080; text-decoration-color: #000080; font-weight: bold\">57</span> <span style=\"font-weight: bold\">)</span>\n",
       "</pre>\n"
      ],
      "text/plain": [
       "<rich.jupyter.JupyterRenderable at 0x7fa9c43e5af0>"
      ]
     },
     "metadata": {},
     "output_type": "display_data"
    },
    {
     "data": {
      "text/html": [
       "<pre style=\"white-space:pre;overflow-x:auto;line-height:normal;font-family:Menlo,'DejaVu Sans Mono',consolas,'Courier New',monospace\">Byte  <span style=\"color: #000080; text-decoration-color: #000080; font-weight: bold\">2</span>   -  Left Margin:   <span style=\"color: #000080; text-decoration-color: #000080; font-weight: bold\">168</span>  <span style=\"font-weight: bold\">(</span> <span style=\"color: #000080; text-decoration-color: #000080; font-weight: bold\">84</span> <span style=\"font-weight: bold\">)</span>  Center Point:   <span style=\"color: #000080; text-decoration-color: #000080; font-weight: bold\">665</span>  <span style=\"font-weight: bold\">(</span> <span style=\"color: #000080; text-decoration-color: #000080; font-weight: bold\">332</span> <span style=\"font-weight: bold\">)</span>  Right Margin:   <span style=\"color: #000080; text-decoration-color: #000080; font-weight: bold\">120</span>  <span style=\"font-weight: bold\">(</span>\n",
       "<span style=\"color: #000080; text-decoration-color: #000080; font-weight: bold\">60</span> <span style=\"font-weight: bold\">)</span>\n",
       "</pre>\n"
      ],
      "text/plain": [
       "<rich.jupyter.JupyterRenderable at 0x7fa9c43e5e20>"
      ]
     },
     "metadata": {},
     "output_type": "display_data"
    },
    {
     "data": {
      "text/html": [
       "<pre style=\"white-space:pre;overflow-x:auto;line-height:normal;font-family:Menlo,'DejaVu Sans Mono',consolas,'Courier New',monospace\">Byte  <span style=\"color: #000080; text-decoration-color: #000080; font-weight: bold\">3</span>   -  Left Margin:   <span style=\"color: #000080; text-decoration-color: #000080; font-weight: bold\">151</span>  <span style=\"font-weight: bold\">(</span> <span style=\"color: #000080; text-decoration-color: #000080; font-weight: bold\">75</span> <span style=\"font-weight: bold\">)</span>  Center Point:   <span style=\"color: #000080; text-decoration-color: #000080; font-weight: bold\">161</span>  <span style=\"font-weight: bold\">(</span> <span style=\"color: #000080; text-decoration-color: #000080; font-weight: bold\">80</span> <span style=\"font-weight: bold\">)</span>  Right Margin:   <span style=\"color: #000080; text-decoration-color: #000080; font-weight: bold\">141</span>  <span style=\"font-weight: bold\">(</span> \n",
       "<span style=\"color: #000080; text-decoration-color: #000080; font-weight: bold\">70</span> <span style=\"font-weight: bold\">)</span>\n",
       "</pre>\n"
      ],
      "text/plain": [
       "<rich.jupyter.JupyterRenderable at 0x7fa9c6070ca0>"
      ]
     },
     "metadata": {},
     "output_type": "display_data"
    },
    {
     "data": {
      "text/html": [
       "<pre style=\"white-space:pre;overflow-x:auto;line-height:normal;font-family:Menlo,'DejaVu Sans Mono',consolas,'Courier New',monospace\">Byte  <span style=\"color: #000080; text-decoration-color: #000080; font-weight: bold\">4</span>   -  Left Margin:   <span style=\"color: #000080; text-decoration-color: #000080; font-weight: bold\">152</span>  <span style=\"font-weight: bold\">(</span> <span style=\"color: #000080; text-decoration-color: #000080; font-weight: bold\">75</span> <span style=\"font-weight: bold\">)</span>  Center Point:   <span style=\"color: #000080; text-decoration-color: #000080; font-weight: bold\">542</span>  <span style=\"font-weight: bold\">(</span> <span style=\"color: #000080; text-decoration-color: #000080; font-weight: bold\">267</span> <span style=\"font-weight: bold\">)</span>  Right Margin:   <span style=\"color: #000080; text-decoration-color: #000080; font-weight: bold\">148</span>  <span style=\"font-weight: bold\">(</span>\n",
       "<span style=\"color: #000080; text-decoration-color: #000080; font-weight: bold\">73</span> <span style=\"font-weight: bold\">)</span>\n",
       "</pre>\n"
      ],
      "text/plain": [
       "<rich.jupyter.JupyterRenderable at 0x7fa9c43e5af0>"
      ]
     },
     "metadata": {},
     "output_type": "display_data"
    },
    {
     "data": {
      "text/html": [
       "<pre style=\"white-space:pre;overflow-x:auto;line-height:normal;font-family:Menlo,'DejaVu Sans Mono',consolas,'Courier New',monospace\">Byte  <span style=\"color: #000080; text-decoration-color: #000080; font-weight: bold\">5</span>   -  Left Margin:   <span style=\"color: #000080; text-decoration-color: #000080; font-weight: bold\">162</span>  <span style=\"font-weight: bold\">(</span> <span style=\"color: #000080; text-decoration-color: #000080; font-weight: bold\">81</span> <span style=\"font-weight: bold\">)</span>  Center Point:   <span style=\"color: #000080; text-decoration-color: #000080; font-weight: bold\">573</span>  <span style=\"font-weight: bold\">(</span> <span style=\"color: #000080; text-decoration-color: #000080; font-weight: bold\">286</span> <span style=\"font-weight: bold\">)</span>  Right Margin:   <span style=\"color: #000080; text-decoration-color: #000080; font-weight: bold\">126</span>  <span style=\"font-weight: bold\">(</span>\n",
       "<span style=\"color: #000080; text-decoration-color: #000080; font-weight: bold\">63</span> <span style=\"font-weight: bold\">)</span>\n",
       "</pre>\n"
      ],
      "text/plain": [
       "<rich.jupyter.JupyterRenderable at 0x7fa9c437b490>"
      ]
     },
     "metadata": {},
     "output_type": "display_data"
    },
    {
     "data": {
      "text/html": [
       "<pre style=\"white-space:pre;overflow-x:auto;line-height:normal;font-family:Menlo,'DejaVu Sans Mono',consolas,'Courier New',monospace\">Byte  <span style=\"color: #000080; text-decoration-color: #000080; font-weight: bold\">6</span>   -  Left Margin:   <span style=\"color: #000080; text-decoration-color: #000080; font-weight: bold\">162</span>  <span style=\"font-weight: bold\">(</span> <span style=\"color: #000080; text-decoration-color: #000080; font-weight: bold\">81</span> <span style=\"font-weight: bold\">)</span>  Center Point:   <span style=\"color: #000080; text-decoration-color: #000080; font-weight: bold\">581</span>  <span style=\"font-weight: bold\">(</span> <span style=\"color: #000080; text-decoration-color: #000080; font-weight: bold\">290</span> <span style=\"font-weight: bold\">)</span>  Right Margin:   <span style=\"color: #000080; text-decoration-color: #000080; font-weight: bold\">124</span>  <span style=\"font-weight: bold\">(</span>\n",
       "<span style=\"color: #000080; text-decoration-color: #000080; font-weight: bold\">62</span> <span style=\"font-weight: bold\">)</span>\n",
       "</pre>\n"
      ],
      "text/plain": [
       "<rich.jupyter.JupyterRenderable at 0x7fa9c437b7c0>"
      ]
     },
     "metadata": {},
     "output_type": "display_data"
    },
    {
     "data": {
      "text/html": [
       "<pre style=\"white-space:pre;overflow-x:auto;line-height:normal;font-family:Menlo,'DejaVu Sans Mono',consolas,'Courier New',monospace\">Byte  <span style=\"color: #000080; text-decoration-color: #000080; font-weight: bold\">7</span>   -  Left Margin:   <span style=\"color: #000080; text-decoration-color: #000080; font-weight: bold\">169</span>  <span style=\"font-weight: bold\">(</span> <span style=\"color: #000080; text-decoration-color: #000080; font-weight: bold\">85</span> <span style=\"font-weight: bold\">)</span>  Center Point:   <span style=\"color: #000080; text-decoration-color: #000080; font-weight: bold\">626</span>  <span style=\"font-weight: bold\">(</span> <span style=\"color: #000080; text-decoration-color: #000080; font-weight: bold\">314</span> <span style=\"font-weight: bold\">)</span>  Right Margin:   <span style=\"color: #000080; text-decoration-color: #000080; font-weight: bold\">135</span>  <span style=\"font-weight: bold\">(</span>\n",
       "<span style=\"color: #000080; text-decoration-color: #000080; font-weight: bold\">68</span> <span style=\"font-weight: bold\">)</span>\n",
       "</pre>\n"
      ],
      "text/plain": [
       "<rich.jupyter.JupyterRenderable at 0x7fa9c437b490>"
      ]
     },
     "metadata": {},
     "output_type": "display_data"
    },
    {
     "data": {
      "text/html": [
       "<pre style=\"white-space:pre;overflow-x:auto;line-height:normal;font-family:Menlo,'DejaVu Sans Mono',consolas,'Courier New',monospace\">\n",
       " Frequency <span style=\"color: #000080; text-decoration-color: #000080; font-weight: bold\">0</span>  - Write Margin - Complex Pattern - Calibration Window in pS and <span style=\"font-weight: bold\">(</span>delay taps<span style=\"font-weight: bold\">)</span>:\n",
       "\n",
       "</pre>\n"
      ],
      "text/plain": [
       "<rich.jupyter.JupyterRenderable at 0x7fa9c4575a30>"
      ]
     },
     "metadata": {},
     "output_type": "display_data"
    },
    {
     "data": {
      "text/html": [
       "<pre style=\"white-space:pre;overflow-x:auto;line-height:normal;font-family:Menlo,'DejaVu Sans Mono',consolas,'Courier New',monospace\">Byte  <span style=\"color: #000080; text-decoration-color: #000080; font-weight: bold\">0</span>   -  Left Margin:   <span style=\"color: #000080; text-decoration-color: #000080; font-weight: bold\">146</span>  <span style=\"font-weight: bold\">(</span> <span style=\"color: #000080; text-decoration-color: #000080; font-weight: bold\">72</span> <span style=\"font-weight: bold\">)</span>  Center Point:   <span style=\"color: #000080; text-decoration-color: #000080; font-weight: bold\">461</span>  <span style=\"font-weight: bold\">(</span> <span style=\"color: #000080; text-decoration-color: #000080; font-weight: bold\">227</span> <span style=\"font-weight: bold\">)</span>  Right Margin:   <span style=\"color: #000080; text-decoration-color: #000080; font-weight: bold\">138</span>  <span style=\"font-weight: bold\">(</span>\n",
       "<span style=\"color: #000080; text-decoration-color: #000080; font-weight: bold\">68</span> <span style=\"font-weight: bold\">)</span>\n",
       "</pre>\n"
      ],
      "text/plain": [
       "<rich.jupyter.JupyterRenderable at 0x7fa9fd60ecd0>"
      ]
     },
     "metadata": {},
     "output_type": "display_data"
    },
    {
     "data": {
      "text/html": [
       "<pre style=\"white-space:pre;overflow-x:auto;line-height:normal;font-family:Menlo,'DejaVu Sans Mono',consolas,'Courier New',monospace\">Byte  <span style=\"color: #000080; text-decoration-color: #000080; font-weight: bold\">1</span>   -  Left Margin:   <span style=\"color: #000080; text-decoration-color: #000080; font-weight: bold\">148</span>  <span style=\"font-weight: bold\">(</span> <span style=\"color: #000080; text-decoration-color: #000080; font-weight: bold\">73</span> <span style=\"font-weight: bold\">)</span>  Center Point:   <span style=\"color: #000080; text-decoration-color: #000080; font-weight: bold\">576</span>  <span style=\"font-weight: bold\">(</span> <span style=\"color: #000080; text-decoration-color: #000080; font-weight: bold\">284</span> <span style=\"font-weight: bold\">)</span>  Right Margin:   <span style=\"color: #000080; text-decoration-color: #000080; font-weight: bold\">128</span>  <span style=\"font-weight: bold\">(</span>\n",
       "<span style=\"color: #000080; text-decoration-color: #000080; font-weight: bold\">63</span> <span style=\"font-weight: bold\">)</span>\n",
       "</pre>\n"
      ],
      "text/plain": [
       "<rich.jupyter.JupyterRenderable at 0x7fa9c43c7ee0>"
      ]
     },
     "metadata": {},
     "output_type": "display_data"
    },
    {
     "data": {
      "text/html": [
       "<pre style=\"white-space:pre;overflow-x:auto;line-height:normal;font-family:Menlo,'DejaVu Sans Mono',consolas,'Courier New',monospace\">Byte  <span style=\"color: #000080; text-decoration-color: #000080; font-weight: bold\">2</span>   -  Left Margin:   <span style=\"color: #000080; text-decoration-color: #000080; font-weight: bold\">144</span>  <span style=\"font-weight: bold\">(</span> <span style=\"color: #000080; text-decoration-color: #000080; font-weight: bold\">72</span> <span style=\"font-weight: bold\">)</span>  Center Point:   <span style=\"color: #000080; text-decoration-color: #000080; font-weight: bold\">665</span>  <span style=\"font-weight: bold\">(</span> <span style=\"color: #000080; text-decoration-color: #000080; font-weight: bold\">332</span> <span style=\"font-weight: bold\">)</span>  Right Margin:   <span style=\"color: #000080; text-decoration-color: #000080; font-weight: bold\">128</span>  <span style=\"font-weight: bold\">(</span>\n",
       "<span style=\"color: #000080; text-decoration-color: #000080; font-weight: bold\">64</span> <span style=\"font-weight: bold\">)</span>\n",
       "</pre>\n"
      ],
      "text/plain": [
       "<rich.jupyter.JupyterRenderable at 0x7fa9c43746a0>"
      ]
     },
     "metadata": {},
     "output_type": "display_data"
    },
    {
     "data": {
      "text/html": [
       "<pre style=\"white-space:pre;overflow-x:auto;line-height:normal;font-family:Menlo,'DejaVu Sans Mono',consolas,'Courier New',monospace\">Byte  <span style=\"color: #000080; text-decoration-color: #000080; font-weight: bold\">3</span>   -  Left Margin:   <span style=\"color: #000080; text-decoration-color: #000080; font-weight: bold\">147</span>  <span style=\"font-weight: bold\">(</span> <span style=\"color: #000080; text-decoration-color: #000080; font-weight: bold\">73</span> <span style=\"font-weight: bold\">)</span>  Center Point:   <span style=\"color: #000080; text-decoration-color: #000080; font-weight: bold\">161</span>  <span style=\"font-weight: bold\">(</span> <span style=\"color: #000080; text-decoration-color: #000080; font-weight: bold\">80</span> <span style=\"font-weight: bold\">)</span>  Right Margin:   <span style=\"color: #000080; text-decoration-color: #000080; font-weight: bold\">125</span>  <span style=\"font-weight: bold\">(</span> \n",
       "<span style=\"color: #000080; text-decoration-color: #000080; font-weight: bold\">62</span> <span style=\"font-weight: bold\">)</span>\n",
       "</pre>\n"
      ],
      "text/plain": [
       "<rich.jupyter.JupyterRenderable at 0x7fa9c43740a0>"
      ]
     },
     "metadata": {},
     "output_type": "display_data"
    },
    {
     "data": {
      "text/html": [
       "<pre style=\"white-space:pre;overflow-x:auto;line-height:normal;font-family:Menlo,'DejaVu Sans Mono',consolas,'Courier New',monospace\">Byte  <span style=\"color: #000080; text-decoration-color: #000080; font-weight: bold\">4</span>   -  Left Margin:   <span style=\"color: #000080; text-decoration-color: #000080; font-weight: bold\">150</span>  <span style=\"font-weight: bold\">(</span> <span style=\"color: #000080; text-decoration-color: #000080; font-weight: bold\">74</span> <span style=\"font-weight: bold\">)</span>  Center Point:   <span style=\"color: #000080; text-decoration-color: #000080; font-weight: bold\">542</span>  <span style=\"font-weight: bold\">(</span> <span style=\"color: #000080; text-decoration-color: #000080; font-weight: bold\">267</span> <span style=\"font-weight: bold\">)</span>  Right Margin:   <span style=\"color: #000080; text-decoration-color: #000080; font-weight: bold\">122</span>  <span style=\"font-weight: bold\">(</span>\n",
       "<span style=\"color: #000080; text-decoration-color: #000080; font-weight: bold\">60</span> <span style=\"font-weight: bold\">)</span>\n",
       "</pre>\n"
      ],
      "text/plain": [
       "<rich.jupyter.JupyterRenderable at 0x7fa9c43c0ee0>"
      ]
     },
     "metadata": {},
     "output_type": "display_data"
    },
    {
     "data": {
      "text/html": [
       "<pre style=\"white-space:pre;overflow-x:auto;line-height:normal;font-family:Menlo,'DejaVu Sans Mono',consolas,'Courier New',monospace\">Byte  <span style=\"color: #000080; text-decoration-color: #000080; font-weight: bold\">5</span>   -  Left Margin:   <span style=\"color: #000080; text-decoration-color: #000080; font-weight: bold\">144</span>  <span style=\"font-weight: bold\">(</span> <span style=\"color: #000080; text-decoration-color: #000080; font-weight: bold\">72</span> <span style=\"font-weight: bold\">)</span>  Center Point:   <span style=\"color: #000080; text-decoration-color: #000080; font-weight: bold\">573</span>  <span style=\"font-weight: bold\">(</span> <span style=\"color: #000080; text-decoration-color: #000080; font-weight: bold\">286</span> <span style=\"font-weight: bold\">)</span>  Right Margin:   <span style=\"color: #000080; text-decoration-color: #000080; font-weight: bold\">130</span>  <span style=\"font-weight: bold\">(</span>\n",
       "<span style=\"color: #000080; text-decoration-color: #000080; font-weight: bold\">65</span> <span style=\"font-weight: bold\">)</span>\n",
       "</pre>\n"
      ],
      "text/plain": [
       "<rich.jupyter.JupyterRenderable at 0x7fa9c43746a0>"
      ]
     },
     "metadata": {},
     "output_type": "display_data"
    },
    {
     "data": {
      "text/html": [
       "<pre style=\"white-space:pre;overflow-x:auto;line-height:normal;font-family:Menlo,'DejaVu Sans Mono',consolas,'Courier New',monospace\">Byte  <span style=\"color: #000080; text-decoration-color: #000080; font-weight: bold\">6</span>   -  Left Margin:   <span style=\"color: #000080; text-decoration-color: #000080; font-weight: bold\">136</span>  <span style=\"font-weight: bold\">(</span> <span style=\"color: #000080; text-decoration-color: #000080; font-weight: bold\">68</span> <span style=\"font-weight: bold\">)</span>  Center Point:   <span style=\"color: #000080; text-decoration-color: #000080; font-weight: bold\">581</span>  <span style=\"font-weight: bold\">(</span> <span style=\"color: #000080; text-decoration-color: #000080; font-weight: bold\">290</span> <span style=\"font-weight: bold\">)</span>  Right Margin:   <span style=\"color: #000080; text-decoration-color: #000080; font-weight: bold\">132</span>  <span style=\"font-weight: bold\">(</span>\n",
       "<span style=\"color: #000080; text-decoration-color: #000080; font-weight: bold\">66</span> <span style=\"font-weight: bold\">)</span>\n",
       "</pre>\n"
      ],
      "text/plain": [
       "<rich.jupyter.JupyterRenderable at 0x7fa9c4575a30>"
      ]
     },
     "metadata": {},
     "output_type": "display_data"
    },
    {
     "data": {
      "text/html": [
       "<pre style=\"white-space:pre;overflow-x:auto;line-height:normal;font-family:Menlo,'DejaVu Sans Mono',consolas,'Courier New',monospace\">Byte  <span style=\"color: #000080; text-decoration-color: #000080; font-weight: bold\">7</span>   -  Left Margin:   <span style=\"color: #000080; text-decoration-color: #000080; font-weight: bold\">151</span>  <span style=\"font-weight: bold\">(</span> <span style=\"color: #000080; text-decoration-color: #000080; font-weight: bold\">76</span> <span style=\"font-weight: bold\">)</span>  Center Point:   <span style=\"color: #000080; text-decoration-color: #000080; font-weight: bold\">626</span>  <span style=\"font-weight: bold\">(</span> <span style=\"color: #000080; text-decoration-color: #000080; font-weight: bold\">314</span> <span style=\"font-weight: bold\">)</span>  Right Margin:   <span style=\"color: #000080; text-decoration-color: #000080; font-weight: bold\">109</span>  <span style=\"font-weight: bold\">(</span>\n",
       "<span style=\"color: #000080; text-decoration-color: #000080; font-weight: bold\">55</span> <span style=\"font-weight: bold\">)</span>\n",
       "</pre>\n"
      ],
      "text/plain": [
       "<rich.jupyter.JupyterRenderable at 0x7fa9c43c0070>"
      ]
     },
     "metadata": {},
     "output_type": "display_data"
    },
    {
     "data": {
      "text/html": [
       "<pre style=\"white-space:pre;overflow-x:auto;line-height:normal;font-family:Menlo,'DejaVu Sans Mono',consolas,'Courier New',monospace\">\n",
       "NOTE: The report is being generated and saved as: test_out.txt\n",
       "</pre>\n"
      ],
      "text/plain": [
       "<rich.jupyter.JupyterRenderable at 0x7fa9c4374790>"
      ]
     },
     "metadata": {},
     "output_type": "display_data"
    },
    {
     "data": {
      "text/html": [
       "<pre style=\"white-space:pre;overflow-x:auto;line-height:normal;font-family:Menlo,'DejaVu Sans Mono',consolas,'Courier New',monospace\">-------------------\n",
       "\n",
       "</pre>\n"
      ],
      "text/plain": [
       "<rich.jupyter.JupyterRenderable at 0x7fa9c4374dc0>"
      ]
     },
     "metadata": {},
     "output_type": "display_data"
    },
    {
     "data": {
      "text/html": [
       "<pre style=\"white-space:pre;overflow-x:auto;line-height:normal;font-family:Menlo,'DejaVu Sans Mono',consolas,'Courier New',monospace\"> DDRMC Status \n",
       "\n",
       "</pre>\n"
      ],
      "text/plain": [
       "<rich.jupyter.JupyterRenderable at 0x7fa9c43746a0>"
      ]
     },
     "metadata": {},
     "output_type": "display_data"
    },
    {
     "data": {
      "text/html": [
       "<pre style=\"white-space:pre;overflow-x:auto;line-height:normal;font-family:Menlo,'DejaVu Sans Mono',consolas,'Courier New',monospace\">-------------------\n",
       "\n",
       "</pre>\n"
      ],
      "text/plain": [
       "<rich.jupyter.JupyterRenderable at 0x7fa9c4374d60>"
      ]
     },
     "metadata": {},
     "output_type": "display_data"
    },
    {
     "data": {
      "text/html": [
       "<pre style=\"white-space:pre;overflow-x:auto;line-height:normal;font-family:Menlo,'DejaVu Sans Mono',consolas,'Courier New',monospace\">Calibration Status:   PASS \n",
       "\n",
       "</pre>\n"
      ],
      "text/plain": [
       "<rich.jupyter.JupyterRenderable at 0x7fa9c457fc10>"
      ]
     },
     "metadata": {},
     "output_type": "display_data"
    },
    {
     "data": {
      "text/html": [
       "<pre style=\"white-space:pre;overflow-x:auto;line-height:normal;font-family:Menlo,'DejaVu Sans Mono',consolas,'Courier New',monospace\">Overall Health:   GOOD \n",
       "\n",
       "</pre>\n"
      ],
      "text/plain": [
       "<rich.jupyter.JupyterRenderable at 0x7fa9c457fdc0>"
      ]
     },
     "metadata": {},
     "output_type": "display_data"
    },
    {
     "data": {
      "text/html": [
       "<pre style=\"white-space:pre;overflow-x:auto;line-height:normal;font-family:Menlo,'DejaVu Sans Mono',consolas,'Courier New',monospace\">Message:   No errors detected during calibration. \n",
       "\n",
       "</pre>\n"
      ],
      "text/plain": [
       "<rich.jupyter.JupyterRenderable at 0x7fa9c457fcd0>"
      ]
     },
     "metadata": {},
     "output_type": "display_data"
    },
    {
     "data": {
      "text/html": [
       "<pre style=\"white-space:pre;overflow-x:auto;line-height:normal;font-family:Menlo,'DejaVu Sans Mono',consolas,'Courier New',monospace\">\n",
       "-------------------\n",
       "\n",
       "</pre>\n"
      ],
      "text/plain": [
       "<rich.jupyter.JupyterRenderable at 0x7fa9c457f670>"
      ]
     },
     "metadata": {},
     "output_type": "display_data"
    },
    {
     "data": {
      "text/html": [
       "<pre style=\"white-space:pre;overflow-x:auto;line-height:normal;font-family:Menlo,'DejaVu Sans Mono',consolas,'Courier New',monospace\"> Status Registers\n",
       "\n",
       "</pre>\n"
      ],
      "text/plain": [
       "<rich.jupyter.JupyterRenderable at 0x7fa9c457f520>"
      ]
     },
     "metadata": {},
     "output_type": "display_data"
    },
    {
     "data": {
      "text/html": [
       "<pre style=\"white-space:pre;overflow-x:auto;line-height:normal;font-family:Menlo,'DejaVu Sans Mono',consolas,'Courier New',monospace\">-------------------\n",
       "\n",
       "</pre>\n"
      ],
      "text/plain": [
       "<rich.jupyter.JupyterRenderable at 0x7fa9c457f610>"
      ]
     },
     "metadata": {},
     "output_type": "display_data"
    },
    {
     "data": {
      "text/html": [
       "<pre style=\"white-space:pre;overflow-x:auto;line-height:normal;font-family:Menlo,'DejaVu Sans Mono',consolas,'Courier New',monospace\">DDRMC ISR Table\n",
       "\n",
       "</pre>\n"
      ],
      "text/plain": [
       "<rich.jupyter.JupyterRenderable at 0x7fa9c457f640>"
      ]
     },
     "metadata": {},
     "output_type": "display_data"
    },
    {
     "data": {
      "text/html": [
       "<pre style=\"white-space:pre;overflow-x:auto;line-height:normal;font-family:Menlo,'DejaVu Sans Mono',consolas,'Courier New',monospace\">   ddrmc_isr_ce0_ecc0 :   <span style=\"color: #000080; text-decoration-color: #000080; font-weight: bold\">0</span>\n",
       "</pre>\n"
      ],
      "text/plain": [
       "<rich.jupyter.JupyterRenderable at 0x7fa9c457f7c0>"
      ]
     },
     "metadata": {},
     "output_type": "display_data"
    },
    {
     "data": {
      "text/html": [
       "<pre style=\"white-space:pre;overflow-x:auto;line-height:normal;font-family:Menlo,'DejaVu Sans Mono',consolas,'Courier New',monospace\">   ddrmc_isr_ce0_ecc1 :   <span style=\"color: #000080; text-decoration-color: #000080; font-weight: bold\">0</span>\n",
       "</pre>\n"
      ],
      "text/plain": [
       "<rich.jupyter.JupyterRenderable at 0x7faa0067afa0>"
      ]
     },
     "metadata": {},
     "output_type": "display_data"
    },
    {
     "data": {
      "text/html": [
       "<pre style=\"white-space:pre;overflow-x:auto;line-height:normal;font-family:Menlo,'DejaVu Sans Mono',consolas,'Courier New',monospace\">   ddrmc_isr_ce1_ecc0 :   <span style=\"color: #000080; text-decoration-color: #000080; font-weight: bold\">0</span>\n",
       "</pre>\n"
      ],
      "text/plain": [
       "<rich.jupyter.JupyterRenderable at 0x7fa9c45e05e0>"
      ]
     },
     "metadata": {},
     "output_type": "display_data"
    },
    {
     "data": {
      "text/html": [
       "<pre style=\"white-space:pre;overflow-x:auto;line-height:normal;font-family:Menlo,'DejaVu Sans Mono',consolas,'Courier New',monospace\">   ddrmc_isr_ce1_ecc1 :   <span style=\"color: #000080; text-decoration-color: #000080; font-weight: bold\">0</span>\n",
       "</pre>\n"
      ],
      "text/plain": [
       "<rich.jupyter.JupyterRenderable at 0x7fa9c457f7c0>"
      ]
     },
     "metadata": {},
     "output_type": "display_data"
    },
    {
     "data": {
      "text/html": [
       "<pre style=\"white-space:pre;overflow-x:auto;line-height:normal;font-family:Menlo,'DejaVu Sans Mono',consolas,'Courier New',monospace\">   ddrmc_isr_ch0_data_par :   <span style=\"color: #000080; text-decoration-color: #000080; font-weight: bold\">0</span>\n",
       "</pre>\n"
      ],
      "text/plain": [
       "<rich.jupyter.JupyterRenderable at 0x7faa0067afa0>"
      ]
     },
     "metadata": {},
     "output_type": "display_data"
    },
    {
     "data": {
      "text/html": [
       "<pre style=\"white-space:pre;overflow-x:auto;line-height:normal;font-family:Menlo,'DejaVu Sans Mono',consolas,'Courier New',monospace\">   ddrmc_isr_ch1_data_par :   <span style=\"color: #000080; text-decoration-color: #000080; font-weight: bold\">0</span>\n",
       "</pre>\n"
      ],
      "text/plain": [
       "<rich.jupyter.JupyterRenderable at 0x7fa9c457f7c0>"
      ]
     },
     "metadata": {},
     "output_type": "display_data"
    },
    {
     "data": {
      "text/html": [
       "<pre style=\"white-space:pre;overflow-x:auto;line-height:normal;font-family:Menlo,'DejaVu Sans Mono',consolas,'Courier New',monospace\">   ddrmc_isr_dc_cmd0_fatal :   <span style=\"color: #000080; text-decoration-color: #000080; font-weight: bold\">0</span>\n",
       "</pre>\n"
      ],
      "text/plain": [
       "<rich.jupyter.JupyterRenderable at 0x7fa9c43c0ac0>"
      ]
     },
     "metadata": {},
     "output_type": "display_data"
    },
    {
     "data": {
      "text/html": [
       "<pre style=\"white-space:pre;overflow-x:auto;line-height:normal;font-family:Menlo,'DejaVu Sans Mono',consolas,'Courier New',monospace\">   ddrmc_isr_dc_cmd1_fatal :   <span style=\"color: #000080; text-decoration-color: #000080; font-weight: bold\">0</span>\n",
       "</pre>\n"
      ],
      "text/plain": [
       "<rich.jupyter.JupyterRenderable at 0x7faa0067afa0>"
      ]
     },
     "metadata": {},
     "output_type": "display_data"
    },
    {
     "data": {
      "text/html": [
       "<pre style=\"white-space:pre;overflow-x:auto;line-height:normal;font-family:Menlo,'DejaVu Sans Mono',consolas,'Courier New',monospace\">   ddrmc_isr_dram_parity0 :   <span style=\"color: #000080; text-decoration-color: #000080; font-weight: bold\">0</span>\n",
       "</pre>\n"
      ],
      "text/plain": [
       "<rich.jupyter.JupyterRenderable at 0x7fa9c4536cd0>"
      ]
     },
     "metadata": {},
     "output_type": "display_data"
    },
    {
     "data": {
      "text/html": [
       "<pre style=\"white-space:pre;overflow-x:auto;line-height:normal;font-family:Menlo,'DejaVu Sans Mono',consolas,'Courier New',monospace\">   ddrmc_isr_dram_parity1 :   <span style=\"color: #000080; text-decoration-color: #000080; font-weight: bold\">0</span>\n",
       "</pre>\n"
      ],
      "text/plain": [
       "<rich.jupyter.JupyterRenderable at 0x7fa9c45e05e0>"
      ]
     },
     "metadata": {},
     "output_type": "display_data"
    },
    {
     "data": {
      "text/html": [
       "<pre style=\"white-space:pre;overflow-x:auto;line-height:normal;font-family:Menlo,'DejaVu Sans Mono',consolas,'Courier New',monospace\">   ddrmc_isr_dram_parity_fatal_0 :   <span style=\"color: #000080; text-decoration-color: #000080; font-weight: bold\">0</span>\n",
       "</pre>\n"
      ],
      "text/plain": [
       "<rich.jupyter.JupyterRenderable at 0x7fa9c4536cd0>"
      ]
     },
     "metadata": {},
     "output_type": "display_data"
    },
    {
     "data": {
      "text/html": [
       "<pre style=\"white-space:pre;overflow-x:auto;line-height:normal;font-family:Menlo,'DejaVu Sans Mono',consolas,'Courier New',monospace\">   ddrmc_isr_dram_parity_fatal_1 :   <span style=\"color: #000080; text-decoration-color: #000080; font-weight: bold\">0</span>\n",
       "</pre>\n"
      ],
      "text/plain": [
       "<rich.jupyter.JupyterRenderable at 0x7fa9c453ff70>"
      ]
     },
     "metadata": {},
     "output_type": "display_data"
    },
    {
     "data": {
      "text/html": [
       "<pre style=\"white-space:pre;overflow-x:auto;line-height:normal;font-family:Menlo,'DejaVu Sans Mono',consolas,'Courier New',monospace\">   ddrmc_isr_na_cmd :   <span style=\"color: #000080; text-decoration-color: #000080; font-weight: bold\">0</span>\n",
       "</pre>\n"
      ],
      "text/plain": [
       "<rich.jupyter.JupyterRenderable at 0x7fa9c457f850>"
      ]
     },
     "metadata": {},
     "output_type": "display_data"
    },
    {
     "data": {
      "text/html": [
       "<pre style=\"white-space:pre;overflow-x:auto;line-height:normal;font-family:Menlo,'DejaVu Sans Mono',consolas,'Courier New',monospace\">   ddrmc_isr_na_cmd0 :   <span style=\"color: #000080; text-decoration-color: #000080; font-weight: bold\">0</span>\n",
       "</pre>\n"
      ],
      "text/plain": [
       "<rich.jupyter.JupyterRenderable at 0x7fa9c4536cd0>"
      ]
     },
     "metadata": {},
     "output_type": "display_data"
    },
    {
     "data": {
      "text/html": [
       "<pre style=\"white-space:pre;overflow-x:auto;line-height:normal;font-family:Menlo,'DejaVu Sans Mono',consolas,'Courier New',monospace\">   ddrmc_isr_na_cmd1 :   <span style=\"color: #000080; text-decoration-color: #000080; font-weight: bold\">0</span>\n",
       "</pre>\n"
      ],
      "text/plain": [
       "<rich.jupyter.JupyterRenderable at 0x7fa9c457f7c0>"
      ]
     },
     "metadata": {},
     "output_type": "display_data"
    },
    {
     "data": {
      "text/html": [
       "<pre style=\"white-space:pre;overflow-x:auto;line-height:normal;font-family:Menlo,'DejaVu Sans Mono',consolas,'Courier New',monospace\">   ddrmc_isr_na_cmd_fatal :   <span style=\"color: #000080; text-decoration-color: #000080; font-weight: bold\">0</span>\n",
       "</pre>\n"
      ],
      "text/plain": [
       "<rich.jupyter.JupyterRenderable at 0x7fa9c457f850>"
      ]
     },
     "metadata": {},
     "output_type": "display_data"
    },
    {
     "data": {
      "text/html": [
       "<pre style=\"white-space:pre;overflow-x:auto;line-height:normal;font-family:Menlo,'DejaVu Sans Mono',consolas,'Courier New',monospace\">   ddrmc_isr_nsu_0 :   <span style=\"color: #000080; text-decoration-color: #000080; font-weight: bold\">0</span>\n",
       "</pre>\n"
      ],
      "text/plain": [
       "<rich.jupyter.JupyterRenderable at 0x7faa0067afa0>"
      ]
     },
     "metadata": {},
     "output_type": "display_data"
    },
    {
     "data": {
      "text/html": [
       "<pre style=\"white-space:pre;overflow-x:auto;line-height:normal;font-family:Menlo,'DejaVu Sans Mono',consolas,'Courier New',monospace\">   ddrmc_isr_nsu_1 :   <span style=\"color: #000080; text-decoration-color: #000080; font-weight: bold\">0</span>\n",
       "</pre>\n"
      ],
      "text/plain": [
       "<rich.jupyter.JupyterRenderable at 0x7fa9c453ff70>"
      ]
     },
     "metadata": {},
     "output_type": "display_data"
    },
    {
     "data": {
      "text/html": [
       "<pre style=\"white-space:pre;overflow-x:auto;line-height:normal;font-family:Menlo,'DejaVu Sans Mono',consolas,'Courier New',monospace\">   ddrmc_isr_nsu_2 :   <span style=\"color: #000080; text-decoration-color: #000080; font-weight: bold\">0</span>\n",
       "</pre>\n"
      ],
      "text/plain": [
       "<rich.jupyter.JupyterRenderable at 0x7fa9c4536cd0>"
      ]
     },
     "metadata": {},
     "output_type": "display_data"
    },
    {
     "data": {
      "text/html": [
       "<pre style=\"white-space:pre;overflow-x:auto;line-height:normal;font-family:Menlo,'DejaVu Sans Mono',consolas,'Courier New',monospace\">   ddrmc_isr_nsu_3 :   <span style=\"color: #000080; text-decoration-color: #000080; font-weight: bold\">0</span>\n",
       "</pre>\n"
      ],
      "text/plain": [
       "<rich.jupyter.JupyterRenderable at 0x7fa9c45e05e0>"
      ]
     },
     "metadata": {},
     "output_type": "display_data"
    },
    {
     "data": {
      "text/html": [
       "<pre style=\"white-space:pre;overflow-x:auto;line-height:normal;font-family:Menlo,'DejaVu Sans Mono',consolas,'Courier New',monospace\">   ddrmc_isr_nsu_fatal0 :   <span style=\"color: #000080; text-decoration-color: #000080; font-weight: bold\">0</span>\n",
       "</pre>\n"
      ],
      "text/plain": [
       "<rich.jupyter.JupyterRenderable at 0x7fa9c453ff70>"
      ]
     },
     "metadata": {},
     "output_type": "display_data"
    },
    {
     "data": {
      "text/html": [
       "<pre style=\"white-space:pre;overflow-x:auto;line-height:normal;font-family:Menlo,'DejaVu Sans Mono',consolas,'Courier New',monospace\">   ddrmc_isr_nsu_fatal1 :   <span style=\"color: #000080; text-decoration-color: #000080; font-weight: bold\">0</span>\n",
       "</pre>\n"
      ],
      "text/plain": [
       "<rich.jupyter.JupyterRenderable at 0x7fa9c457f850>"
      ]
     },
     "metadata": {},
     "output_type": "display_data"
    },
    {
     "data": {
      "text/html": [
       "<pre style=\"white-space:pre;overflow-x:auto;line-height:normal;font-family:Menlo,'DejaVu Sans Mono',consolas,'Courier New',monospace\">   ddrmc_isr_nsu_fatal2 :   <span style=\"color: #000080; text-decoration-color: #000080; font-weight: bold\">0</span>\n",
       "</pre>\n"
      ],
      "text/plain": [
       "<rich.jupyter.JupyterRenderable at 0x7fa9c4536cd0>"
      ]
     },
     "metadata": {},
     "output_type": "display_data"
    },
    {
     "data": {
      "text/html": [
       "<pre style=\"white-space:pre;overflow-x:auto;line-height:normal;font-family:Menlo,'DejaVu Sans Mono',consolas,'Courier New',monospace\">   ddrmc_isr_nsu_fatal3 :   <span style=\"color: #000080; text-decoration-color: #000080; font-weight: bold\">0</span>\n",
       "</pre>\n"
      ],
      "text/plain": [
       "<rich.jupyter.JupyterRenderable at 0x7fa9c43c01c0>"
      ]
     },
     "metadata": {},
     "output_type": "display_data"
    },
    {
     "data": {
      "text/html": [
       "<pre style=\"white-space:pre;overflow-x:auto;line-height:normal;font-family:Menlo,'DejaVu Sans Mono',consolas,'Courier New',monospace\">   ddrmc_isr_uc0_ecc0 :   <span style=\"color: #000080; text-decoration-color: #000080; font-weight: bold\">0</span>\n",
       "</pre>\n"
      ],
      "text/plain": [
       "<rich.jupyter.JupyterRenderable at 0x7fa9c457f850>"
      ]
     },
     "metadata": {},
     "output_type": "display_data"
    },
    {
     "data": {
      "text/html": [
       "<pre style=\"white-space:pre;overflow-x:auto;line-height:normal;font-family:Menlo,'DejaVu Sans Mono',consolas,'Courier New',monospace\">   ddrmc_isr_uc0_ecc1 :   <span style=\"color: #000080; text-decoration-color: #000080; font-weight: bold\">0</span>\n",
       "</pre>\n"
      ],
      "text/plain": [
       "<rich.jupyter.JupyterRenderable at 0x7fa9c457f7c0>"
      ]
     },
     "metadata": {},
     "output_type": "display_data"
    },
    {
     "data": {
      "text/html": [
       "<pre style=\"white-space:pre;overflow-x:auto;line-height:normal;font-family:Menlo,'DejaVu Sans Mono',consolas,'Courier New',monospace\">   ddrmc_isr_uc1_ecc0 :   <span style=\"color: #000080; text-decoration-color: #000080; font-weight: bold\">0</span>\n",
       "</pre>\n"
      ],
      "text/plain": [
       "<rich.jupyter.JupyterRenderable at 0x7fa9c45e05e0>"
      ]
     },
     "metadata": {},
     "output_type": "display_data"
    },
    {
     "data": {
      "text/html": [
       "<pre style=\"white-space:pre;overflow-x:auto;line-height:normal;font-family:Menlo,'DejaVu Sans Mono',consolas,'Courier New',monospace\">   ddrmc_isr_uc1_ecc1 :   <span style=\"color: #000080; text-decoration-color: #000080; font-weight: bold\">0</span>\n",
       "</pre>\n"
      ],
      "text/plain": [
       "<rich.jupyter.JupyterRenderable at 0x7fa9c453ff70>"
      ]
     },
     "metadata": {},
     "output_type": "display_data"
    },
    {
     "data": {
      "text/html": [
       "<pre style=\"white-space:pre;overflow-x:auto;line-height:normal;font-family:Menlo,'DejaVu Sans Mono',consolas,'Courier New',monospace\">\n",
       "UB ISR Table\n",
       "\n",
       "</pre>\n"
      ],
      "text/plain": [
       "<rich.jupyter.JupyterRenderable at 0x7fa9c4536cd0>"
      ]
     },
     "metadata": {},
     "output_type": "display_data"
    },
    {
     "data": {
      "text/html": [
       "<pre style=\"white-space:pre;overflow-x:auto;line-height:normal;font-family:Menlo,'DejaVu Sans Mono',consolas,'Courier New',monospace\">   ub_data_ce :   <span style=\"color: #000080; text-decoration-color: #000080; font-weight: bold\">0</span>\n",
       "</pre>\n"
      ],
      "text/plain": [
       "<rich.jupyter.JupyterRenderable at 0x7fa9c457f7c0>"
      ]
     },
     "metadata": {},
     "output_type": "display_data"
    },
    {
     "data": {
      "text/html": [
       "<pre style=\"white-space:pre;overflow-x:auto;line-height:normal;font-family:Menlo,'DejaVu Sans Mono',consolas,'Courier New',monospace\">   ub_data_ue :   <span style=\"color: #000080; text-decoration-color: #000080; font-weight: bold\">0</span>\n",
       "</pre>\n"
      ],
      "text/plain": [
       "<rich.jupyter.JupyterRenderable at 0x7fa9c4575370>"
      ]
     },
     "metadata": {},
     "output_type": "display_data"
    },
    {
     "data": {
      "text/html": [
       "<pre style=\"white-space:pre;overflow-x:auto;line-height:normal;font-family:Menlo,'DejaVu Sans Mono',consolas,'Courier New',monospace\">   ub_instr_ce :   <span style=\"color: #000080; text-decoration-color: #000080; font-weight: bold\">0</span>\n",
       "</pre>\n"
      ],
      "text/plain": [
       "<rich.jupyter.JupyterRenderable at 0x7fa9c45751f0>"
      ]
     },
     "metadata": {},
     "output_type": "display_data"
    },
    {
     "data": {
      "text/html": [
       "<pre style=\"white-space:pre;overflow-x:auto;line-height:normal;font-family:Menlo,'DejaVu Sans Mono',consolas,'Courier New',monospace\">   ub_isntr_ue :   <span style=\"color: #000080; text-decoration-color: #000080; font-weight: bold\">0</span>\n",
       "</pre>\n"
      ],
      "text/plain": [
       "<rich.jupyter.JupyterRenderable at 0x7fa9c43c0580>"
      ]
     },
     "metadata": {},
     "output_type": "display_data"
    },
    {
     "data": {
      "text/html": [
       "<pre style=\"white-space:pre;overflow-x:auto;line-height:normal;font-family:Menlo,'DejaVu Sans Mono',consolas,'Courier New',monospace\">   ub_isr_calerror :   <span style=\"color: #000080; text-decoration-color: #000080; font-weight: bold\">0</span>\n",
       "</pre>\n"
      ],
      "text/plain": [
       "<rich.jupyter.JupyterRenderable at 0x7fa9c44fbe80>"
      ]
     },
     "metadata": {},
     "output_type": "display_data"
    },
    {
     "data": {
      "text/html": [
       "<pre style=\"white-space:pre;overflow-x:auto;line-height:normal;font-family:Menlo,'DejaVu Sans Mono',consolas,'Courier New',monospace\">   ub_isr_vt_track_err :   <span style=\"color: #000080; text-decoration-color: #000080; font-weight: bold\">0</span>\n",
       "</pre>\n"
      ],
      "text/plain": [
       "<rich.jupyter.JupyterRenderable at 0x7fa9c452deb0>"
      ]
     },
     "metadata": {},
     "output_type": "display_data"
    },
    {
     "data": {
      "text/html": [
       "<pre style=\"white-space:pre;overflow-x:auto;line-height:normal;font-family:Menlo,'DejaVu Sans Mono',consolas,'Courier New',monospace\">   ub_isr_watchdog :   <span style=\"color: #000080; text-decoration-color: #000080; font-weight: bold\">0</span>\n",
       "</pre>\n"
      ],
      "text/plain": [
       "<rich.jupyter.JupyterRenderable at 0x7fa9c43c0580>"
      ]
     },
     "metadata": {},
     "output_type": "display_data"
    },
    {
     "data": {
      "text/html": [
       "<pre style=\"white-space:pre;overflow-x:auto;line-height:normal;font-family:Menlo,'DejaVu Sans Mono',consolas,'Courier New',monospace\">   ub_ub_msg :   <span style=\"color: #000080; text-decoration-color: #000080; font-weight: bold\">0</span>\n",
       "</pre>\n"
      ],
      "text/plain": [
       "<rich.jupyter.JupyterRenderable at 0x7fa9c436ed30>"
      ]
     },
     "metadata": {},
     "output_type": "display_data"
    },
    {
     "data": {
      "text/html": [
       "<pre style=\"white-space:pre;overflow-x:auto;line-height:normal;font-family:Menlo,'DejaVu Sans Mono',consolas,'Courier New',monospace\">\n",
       "----------------------------------\n",
       "\n",
       "</pre>\n"
      ],
      "text/plain": [
       "<rich.jupyter.JupyterRenderable at 0x7fa9c457fe20>"
      ]
     },
     "metadata": {},
     "output_type": "display_data"
    },
    {
     "data": {
      "text/html": [
       "<pre style=\"white-space:pre;overflow-x:auto;line-height:normal;font-family:Menlo,'DejaVu Sans Mono',consolas,'Courier New',monospace\"> Memory Configuration \n",
       "\n",
       "</pre>\n"
      ],
      "text/plain": [
       "<rich.jupyter.JupyterRenderable at 0x7fa9c436e130>"
      ]
     },
     "metadata": {},
     "output_type": "display_data"
    },
    {
     "data": {
      "text/html": [
       "<pre style=\"white-space:pre;overflow-x:auto;line-height:normal;font-family:Menlo,'DejaVu Sans Mono',consolas,'Courier New',monospace\">----------------------------------\n",
       "\n",
       "</pre>\n"
      ],
      "text/plain": [
       "<rich.jupyter.JupyterRenderable at 0x7fa9c43c0580>"
      ]
     },
     "metadata": {},
     "output_type": "display_data"
    },
    {
     "data": {
      "text/html": [
       "<pre style=\"white-space:pre;overflow-x:auto;line-height:normal;font-family:Menlo,'DejaVu Sans Mono',consolas,'Courier New',monospace\">DDRMC Core Name :   ddr_0\n",
       "</pre>\n"
      ],
      "text/plain": [
       "<rich.jupyter.JupyterRenderable at 0x7fa9c43e5310>"
      ]
     },
     "metadata": {},
     "output_type": "display_data"
    },
    {
     "data": {
      "text/html": [
       "<pre style=\"white-space:pre;overflow-x:auto;line-height:normal;font-family:Menlo,'DejaVu Sans Mono',consolas,'Courier New',monospace\">Memory Interface :   DDR4\n",
       "</pre>\n"
      ],
      "text/plain": [
       "<rich.jupyter.JupyterRenderable at 0x7fa9c43e5310>"
      ]
     },
     "metadata": {},
     "output_type": "display_data"
    },
    {
     "data": {
      "text/html": [
       "<pre style=\"white-space:pre;overflow-x:auto;line-height:normal;font-family:Menlo,'DejaVu Sans Mono',consolas,'Courier New',monospace\">Device Type :   UDIMM\n",
       "</pre>\n"
      ],
      "text/plain": [
       "<rich.jupyter.JupyterRenderable at 0x7fa9c453ff70>"
      ]
     },
     "metadata": {},
     "output_type": "display_data"
    },
    {
     "data": {
      "text/html": [
       "<pre style=\"white-space:pre;overflow-x:auto;line-height:normal;font-family:Menlo,'DejaVu Sans Mono',consolas,'Courier New',monospace\">MC Location :   x0y0\n",
       "</pre>\n"
      ],
      "text/plain": [
       "<rich.jupyter.JupyterRenderable at 0x7fa9c44fbe50>"
      ]
     },
     "metadata": {},
     "output_type": "display_data"
    },
    {
     "data": {
      "text/html": [
       "<pre style=\"white-space:pre;overflow-x:auto;line-height:normal;font-family:Menlo,'DejaVu Sans Mono',consolas,'Courier New',monospace\">Slots :   <span style=\"color: #000080; text-decoration-color: #000080; font-weight: bold\">1</span>\n",
       "</pre>\n"
      ],
      "text/plain": [
       "<rich.jupyter.JupyterRenderable at 0x7fa9c43e5310>"
      ]
     },
     "metadata": {},
     "output_type": "display_data"
    },
    {
     "data": {
      "text/html": [
       "<pre style=\"white-space:pre;overflow-x:auto;line-height:normal;font-family:Menlo,'DejaVu Sans Mono',consolas,'Courier New',monospace\">Ranks :   <span style=\"color: #000080; text-decoration-color: #000080; font-weight: bold\">1</span>\n",
       "</pre>\n"
      ],
      "text/plain": [
       "<rich.jupyter.JupyterRenderable at 0x7faa0067afa0>"
      ]
     },
     "metadata": {},
     "output_type": "display_data"
    },
    {
     "data": {
      "text/html": [
       "<pre style=\"white-space:pre;overflow-x:auto;line-height:normal;font-family:Menlo,'DejaVu Sans Mono',consolas,'Courier New',monospace\">Data Width :   <span style=\"color: #000080; text-decoration-color: #000080; font-weight: bold\">64</span>\n",
       "</pre>\n"
      ],
      "text/plain": [
       "<rich.jupyter.JupyterRenderable at 0x7fa9c453ff70>"
      ]
     },
     "metadata": {},
     "output_type": "display_data"
    },
    {
     "data": {
      "text/html": [
       "<pre style=\"white-space:pre;overflow-x:auto;line-height:normal;font-family:Menlo,'DejaVu Sans Mono',consolas,'Courier New',monospace\">Bytes :   <span style=\"color: #000080; text-decoration-color: #000080; font-weight: bold\">8</span>\n",
       "</pre>\n"
      ],
      "text/plain": [
       "<rich.jupyter.JupyterRenderable at 0x7fa9c44fbe50>"
      ]
     },
     "metadata": {},
     "output_type": "display_data"
    },
    {
     "data": {
      "text/html": [
       "<pre style=\"white-space:pre;overflow-x:auto;line-height:normal;font-family:Menlo,'DejaVu Sans Mono',consolas,'Courier New',monospace\">Nibbles :   <span style=\"color: #000080; text-decoration-color: #000080; font-weight: bold\">16</span>\n",
       "</pre>\n"
      ],
      "text/plain": [
       "<rich.jupyter.JupyterRenderable at 0x7fa9c43e5310>"
      ]
     },
     "metadata": {},
     "output_type": "display_data"
    },
    {
     "data": {
      "text/html": [
       "<pre style=\"white-space:pre;overflow-x:auto;line-height:normal;font-family:Menlo,'DejaVu Sans Mono',consolas,'Courier New',monospace\">Bits per Byte :   <span style=\"color: #000080; text-decoration-color: #000080; font-weight: bold\">8</span>\n",
       "</pre>\n"
      ],
      "text/plain": [
       "<rich.jupyter.JupyterRenderable at 0x7faa0067afa0>"
      ]
     },
     "metadata": {},
     "output_type": "display_data"
    },
    {
     "data": {
      "text/html": [
       "<pre style=\"white-space:pre;overflow-x:auto;line-height:normal;font-family:Menlo,'DejaVu Sans Mono',consolas,'Courier New',monospace\">Memory Frequency <span style=\"color: #000080; text-decoration-color: #000080; font-weight: bold\">0</span> :   <span style=\"color: #000080; text-decoration-color: #000080; font-weight: bold\">1600</span> MHz\n",
       "</pre>\n"
      ],
      "text/plain": [
       "<rich.jupyter.JupyterRenderable at 0x7fa9c453ff70>"
      ]
     },
     "metadata": {},
     "output_type": "display_data"
    },
    {
     "data": {
      "text/html": [
       "<pre style=\"white-space:pre;overflow-x:auto;line-height:normal;font-family:Menlo,'DejaVu Sans Mono',consolas,'Courier New',monospace\">\n",
       "-----------------------------------\n",
       "\n",
       "</pre>\n"
      ],
      "text/plain": [
       "<rich.jupyter.JupyterRenderable at 0x7fa9c44fbe50>"
      ]
     },
     "metadata": {},
     "output_type": "display_data"
    },
    {
     "data": {
      "text/html": [
       "<pre style=\"white-space:pre;overflow-x:auto;line-height:normal;font-family:Menlo,'DejaVu Sans Mono',consolas,'Courier New',monospace\"> Calibration Stages Information \n",
       "\n",
       "</pre>\n"
      ],
      "text/plain": [
       "<rich.jupyter.JupyterRenderable at 0x7fa9c43e5310>"
      ]
     },
     "metadata": {},
     "output_type": "display_data"
    },
    {
     "data": {
      "text/html": [
       "<pre style=\"white-space:pre;overflow-x:auto;line-height:normal;font-family:Menlo,'DejaVu Sans Mono',consolas,'Courier New',monospace\">-----------------------------------\n",
       "\n",
       "</pre>\n"
      ],
      "text/plain": [
       "<rich.jupyter.JupyterRenderable at 0x7faa0067afa0>"
      ]
     },
     "metadata": {},
     "output_type": "display_data"
    },
    {
     "data": {
      "text/html": [
       "<pre style=\"white-space:pre;overflow-x:auto;line-height:normal;font-family:Menlo,'DejaVu Sans Mono',consolas,'Courier New',monospace\">cal_stage.01_F0_PHY_BISC :   Pass\n",
       "</pre>\n"
      ],
      "text/plain": [
       "<rich.jupyter.JupyterRenderable at 0x7fa9c457fee0>"
      ]
     },
     "metadata": {},
     "output_type": "display_data"
    },
    {
     "data": {
      "text/html": [
       "<pre style=\"white-space:pre;overflow-x:auto;line-height:normal;font-family:Menlo,'DejaVu Sans Mono',consolas,'Courier New',monospace\">cal_stage.02_F0_MEM_INIT :   Pass\n",
       "</pre>\n"
      ],
      "text/plain": [
       "<rich.jupyter.JupyterRenderable at 0x7fa9c457f6a0>"
      ]
     },
     "metadata": {},
     "output_type": "display_data"
    },
    {
     "data": {
      "text/html": [
       "<pre style=\"white-space:pre;overflow-x:auto;line-height:normal;font-family:Menlo,'DejaVu Sans Mono',consolas,'Courier New',monospace\">cal_stage.03_F0_DQS_GATE_CAL :   Pass\n",
       "</pre>\n"
      ],
      "text/plain": [
       "<rich.jupyter.JupyterRenderable at 0x7fa9c457fee0>"
      ]
     },
     "metadata": {},
     "output_type": "display_data"
    },
    {
     "data": {
      "text/html": [
       "<pre style=\"white-space:pre;overflow-x:auto;line-height:normal;font-family:Menlo,'DejaVu Sans Mono',consolas,'Courier New',monospace\">cal_stage.04_F0_WRITE_LEVELING :   Pass\n",
       "</pre>\n"
      ],
      "text/plain": [
       "<rich.jupyter.JupyterRenderable at 0x7fa9c457f6a0>"
      ]
     },
     "metadata": {},
     "output_type": "display_data"
    },
    {
     "data": {
      "text/html": [
       "<pre style=\"white-space:pre;overflow-x:auto;line-height:normal;font-family:Menlo,'DejaVu Sans Mono',consolas,'Courier New',monospace\">cal_stage.05_F0_READ_DQ_CAL :   Pass\n",
       "</pre>\n"
      ],
      "text/plain": [
       "<rich.jupyter.JupyterRenderable at 0x7fa9c457fee0>"
      ]
     },
     "metadata": {},
     "output_type": "display_data"
    },
    {
     "data": {
      "text/html": [
       "<pre style=\"white-space:pre;overflow-x:auto;line-height:normal;font-family:Menlo,'DejaVu Sans Mono',consolas,'Courier New',monospace\">cal_stage.06_F0_WRITE_DQ_DBI_CAL :   Pass\n",
       "</pre>\n"
      ],
      "text/plain": [
       "<rich.jupyter.JupyterRenderable at 0x7fa9c457f6a0>"
      ]
     },
     "metadata": {},
     "output_type": "display_data"
    },
    {
     "data": {
      "text/html": [
       "<pre style=\"white-space:pre;overflow-x:auto;line-height:normal;font-family:Menlo,'DejaVu Sans Mono',consolas,'Courier New',monospace\">cal_stage.07_F0_WRITE_LATENCY_CAL :   Pass\n",
       "</pre>\n"
      ],
      "text/plain": [
       "<rich.jupyter.JupyterRenderable at 0x7fa9c457fee0>"
      ]
     },
     "metadata": {},
     "output_type": "display_data"
    },
    {
     "data": {
      "text/html": [
       "<pre style=\"white-space:pre;overflow-x:auto;line-height:normal;font-family:Menlo,'DejaVu Sans Mono',consolas,'Courier New',monospace\">cal_stage.08_F0_READ_DQ_DBI_CAL_COMPLEX :   Pass\n",
       "</pre>\n"
      ],
      "text/plain": [
       "<rich.jupyter.JupyterRenderable at 0x7fa9c457f6a0>"
      ]
     },
     "metadata": {},
     "output_type": "display_data"
    },
    {
     "data": {
      "text/html": [
       "<pre style=\"white-space:pre;overflow-x:auto;line-height:normal;font-family:Menlo,'DejaVu Sans Mono',consolas,'Courier New',monospace\">cal_stage.09_F0_WRITE_DQ_DBI_CAL_COMPLEX :   Pass\n",
       "</pre>\n"
      ],
      "text/plain": [
       "<rich.jupyter.JupyterRenderable at 0x7fa9c457fee0>"
      ]
     },
     "metadata": {},
     "output_type": "display_data"
    },
    {
     "data": {
      "text/html": [
       "<pre style=\"white-space:pre;overflow-x:auto;line-height:normal;font-family:Menlo,'DejaVu Sans Mono',consolas,'Courier New',monospace\">cal_stage.10_EN_VT_TRACK :   Pass\n",
       "</pre>\n"
      ],
      "text/plain": [
       "<rich.jupyter.JupyterRenderable at 0x7fa9c457f6a0>"
      ]
     },
     "metadata": {},
     "output_type": "display_data"
    },
    {
     "data": {
      "text/html": [
       "<pre style=\"white-space:pre;overflow-x:auto;line-height:normal;font-family:Menlo,'DejaVu Sans Mono',consolas,'Courier New',monospace\">cal_stage.11_READ_DQS_TRACK :   Pass\n",
       "</pre>\n"
      ],
      "text/plain": [
       "<rich.jupyter.JupyterRenderable at 0x7fa9c457fee0>"
      ]
     },
     "metadata": {},
     "output_type": "display_data"
    },
    {
     "data": {
      "text/html": [
       "<pre style=\"white-space:pre;overflow-x:auto;line-height:normal;font-family:Menlo,'DejaVu Sans Mono',consolas,'Courier New',monospace\">cal_stage.12_CAL_DONE :   Pass\n",
       "</pre>\n"
      ],
      "text/plain": [
       "<rich.jupyter.JupyterRenderable at 0x7fa9c457f6a0>"
      ]
     },
     "metadata": {},
     "output_type": "display_data"
    },
    {
     "data": {
      "text/html": [
       "<pre style=\"white-space:pre;overflow-x:auto;line-height:normal;font-family:Menlo,'DejaVu Sans Mono',consolas,'Courier New',monospace\">\n",
       "---------------------------------------\n",
       "\n",
       "</pre>\n"
      ],
      "text/plain": [
       "<rich.jupyter.JupyterRenderable at 0x7fa9c4587e20>"
      ]
     },
     "metadata": {},
     "output_type": "display_data"
    },
    {
     "data": {
      "text/html": [
       "<pre style=\"white-space:pre;overflow-x:auto;line-height:normal;font-family:Menlo,'DejaVu Sans Mono',consolas,'Courier New',monospace\"> Calibration Window Margin Analysis \n",
       "\n",
       "</pre>\n"
      ],
      "text/plain": [
       "<rich.jupyter.JupyterRenderable at 0x7fa9c4587e20>"
      ]
     },
     "metadata": {},
     "output_type": "display_data"
    },
    {
     "data": {
      "text/html": [
       "<pre style=\"white-space:pre;overflow-x:auto;line-height:normal;font-family:Menlo,'DejaVu Sans Mono',consolas,'Courier New',monospace\">---------------------------------------\n",
       "\n",
       "</pre>\n"
      ],
      "text/plain": [
       "<rich.jupyter.JupyterRenderable at 0x7fa9c4587e20>"
      ]
     },
     "metadata": {},
     "output_type": "display_data"
    },
    {
     "data": {
      "text/html": [
       "<pre style=\"white-space:pre;overflow-x:auto;line-height:normal;font-family:Menlo,'DejaVu Sans Mono',consolas,'Courier New',monospace\">\n",
       " Frequency <span style=\"color: #000080; text-decoration-color: #000080; font-weight: bold\">0</span>  - Read Margin - Simple Pattern - Rising Edge Clock in pS and <span style=\"font-weight: bold\">(</span>delay taps<span style=\"font-weight: bold\">)</span>:\n",
       "\n",
       "</pre>\n"
      ],
      "text/plain": [
       "<rich.jupyter.JupyterRenderable at 0x7fa9c45e5a00>"
      ]
     },
     "metadata": {},
     "output_type": "display_data"
    },
    {
     "data": {
      "text/html": [
       "<pre style=\"white-space:pre;overflow-x:auto;line-height:normal;font-family:Menlo,'DejaVu Sans Mono',consolas,'Courier New',monospace\">Byte  <span style=\"color: #000080; text-decoration-color: #000080; font-weight: bold\">0</span>  Nibble <span style=\"color: #000080; text-decoration-color: #000080; font-weight: bold\">0</span>  -   Left Margin:   <span style=\"color: #000080; text-decoration-color: #000080; font-weight: bold\">142</span>  <span style=\"font-weight: bold\">(</span> <span style=\"color: #000080; text-decoration-color: #000080; font-weight: bold\">72</span> <span style=\"font-weight: bold\">)</span>  Center Point:   <span style=\"color: #000080; text-decoration-color: #000080; font-weight: bold\">178</span>  <span style=\"font-weight: bold\">(</span> <span style=\"color: #000080; text-decoration-color: #000080; font-weight: bold\">90</span> <span style=\"font-weight: bold\">)</span>  Right Margin:\n",
       "<span style=\"color: #000080; text-decoration-color: #000080; font-weight: bold\">144</span>  <span style=\"font-weight: bold\">(</span> <span style=\"color: #000080; text-decoration-color: #000080; font-weight: bold\">73</span> <span style=\"font-weight: bold\">)</span>\n",
       "</pre>\n"
      ],
      "text/plain": [
       "<rich.jupyter.JupyterRenderable at 0x7fa9c44fbe50>"
      ]
     },
     "metadata": {},
     "output_type": "display_data"
    },
    {
     "data": {
      "text/html": [
       "<pre style=\"white-space:pre;overflow-x:auto;line-height:normal;font-family:Menlo,'DejaVu Sans Mono',consolas,'Courier New',monospace\">Byte  <span style=\"color: #000080; text-decoration-color: #000080; font-weight: bold\">0</span>  Nibble <span style=\"color: #000080; text-decoration-color: #000080; font-weight: bold\">1</span>  -   Left Margin:   <span style=\"color: #000080; text-decoration-color: #000080; font-weight: bold\">150</span>  <span style=\"font-weight: bold\">(</span> <span style=\"color: #000080; text-decoration-color: #000080; font-weight: bold\">74</span> <span style=\"font-weight: bold\">)</span>  Center Point:   <span style=\"color: #000080; text-decoration-color: #000080; font-weight: bold\">187</span>  <span style=\"font-weight: bold\">(</span> <span style=\"color: #000080; text-decoration-color: #000080; font-weight: bold\">92</span> <span style=\"font-weight: bold\">)</span>  Right Margin:\n",
       "<span style=\"color: #000080; text-decoration-color: #000080; font-weight: bold\">152</span>  <span style=\"font-weight: bold\">(</span> <span style=\"color: #000080; text-decoration-color: #000080; font-weight: bold\">75</span> <span style=\"font-weight: bold\">)</span>\n",
       "</pre>\n"
      ],
      "text/plain": [
       "<rich.jupyter.JupyterRenderable at 0x7fa9c4575ac0>"
      ]
     },
     "metadata": {},
     "output_type": "display_data"
    },
    {
     "data": {
      "text/html": [
       "<pre style=\"white-space:pre;overflow-x:auto;line-height:normal;font-family:Menlo,'DejaVu Sans Mono',consolas,'Courier New',monospace\">Byte  <span style=\"color: #000080; text-decoration-color: #000080; font-weight: bold\">1</span>  Nibble <span style=\"color: #000080; text-decoration-color: #000080; font-weight: bold\">0</span>  -   Left Margin:   <span style=\"color: #000080; text-decoration-color: #000080; font-weight: bold\">152</span>  <span style=\"font-weight: bold\">(</span> <span style=\"color: #000080; text-decoration-color: #000080; font-weight: bold\">74</span> <span style=\"font-weight: bold\">)</span>  Center Point:   <span style=\"color: #000080; text-decoration-color: #000080; font-weight: bold\">189</span>  <span style=\"font-weight: bold\">(</span> <span style=\"color: #000080; text-decoration-color: #000080; font-weight: bold\">92</span> <span style=\"font-weight: bold\">)</span>  Right Margin:\n",
       "<span style=\"color: #000080; text-decoration-color: #000080; font-weight: bold\">154</span>  <span style=\"font-weight: bold\">(</span> <span style=\"color: #000080; text-decoration-color: #000080; font-weight: bold\">75</span> <span style=\"font-weight: bold\">)</span>\n",
       "</pre>\n"
      ],
      "text/plain": [
       "<rich.jupyter.JupyterRenderable at 0x7fa9c44fbe80>"
      ]
     },
     "metadata": {},
     "output_type": "display_data"
    },
    {
     "data": {
      "text/html": [
       "<pre style=\"white-space:pre;overflow-x:auto;line-height:normal;font-family:Menlo,'DejaVu Sans Mono',consolas,'Courier New',monospace\">Byte  <span style=\"color: #000080; text-decoration-color: #000080; font-weight: bold\">1</span>  Nibble <span style=\"color: #000080; text-decoration-color: #000080; font-weight: bold\">1</span>  -   Left Margin:   <span style=\"color: #000080; text-decoration-color: #000080; font-weight: bold\">146</span>  <span style=\"font-weight: bold\">(</span> <span style=\"color: #000080; text-decoration-color: #000080; font-weight: bold\">73</span> <span style=\"font-weight: bold\">)</span>  Center Point:   <span style=\"color: #000080; text-decoration-color: #000080; font-weight: bold\">182</span>  <span style=\"font-weight: bold\">(</span> <span style=\"color: #000080; text-decoration-color: #000080; font-weight: bold\">91</span> <span style=\"font-weight: bold\">)</span>  Right Margin:\n",
       "<span style=\"color: #000080; text-decoration-color: #000080; font-weight: bold\">146</span>  <span style=\"font-weight: bold\">(</span> <span style=\"color: #000080; text-decoration-color: #000080; font-weight: bold\">73</span> <span style=\"font-weight: bold\">)</span>\n",
       "</pre>\n"
      ],
      "text/plain": [
       "<rich.jupyter.JupyterRenderable at 0x7fa9c436ed30>"
      ]
     },
     "metadata": {},
     "output_type": "display_data"
    },
    {
     "data": {
      "text/html": [
       "<pre style=\"white-space:pre;overflow-x:auto;line-height:normal;font-family:Menlo,'DejaVu Sans Mono',consolas,'Courier New',monospace\">Byte  <span style=\"color: #000080; text-decoration-color: #000080; font-weight: bold\">2</span>  Nibble <span style=\"color: #000080; text-decoration-color: #000080; font-weight: bold\">0</span>  -   Left Margin:   <span style=\"color: #000080; text-decoration-color: #000080; font-weight: bold\">144</span>  <span style=\"font-weight: bold\">(</span> <span style=\"color: #000080; text-decoration-color: #000080; font-weight: bold\">73</span> <span style=\"font-weight: bold\">)</span>  Center Point:   <span style=\"color: #000080; text-decoration-color: #000080; font-weight: bold\">180</span>  <span style=\"font-weight: bold\">(</span> <span style=\"color: #000080; text-decoration-color: #000080; font-weight: bold\">91</span> <span style=\"font-weight: bold\">)</span>  Right Margin:\n",
       "<span style=\"color: #000080; text-decoration-color: #000080; font-weight: bold\">146</span>  <span style=\"font-weight: bold\">(</span> <span style=\"color: #000080; text-decoration-color: #000080; font-weight: bold\">74</span> <span style=\"font-weight: bold\">)</span>\n",
       "</pre>\n"
      ],
      "text/plain": [
       "<rich.jupyter.JupyterRenderable at 0x7fa9c45e5a00>"
      ]
     },
     "metadata": {},
     "output_type": "display_data"
    },
    {
     "data": {
      "text/html": [
       "<pre style=\"white-space:pre;overflow-x:auto;line-height:normal;font-family:Menlo,'DejaVu Sans Mono',consolas,'Courier New',monospace\">Byte  <span style=\"color: #000080; text-decoration-color: #000080; font-weight: bold\">2</span>  Nibble <span style=\"color: #000080; text-decoration-color: #000080; font-weight: bold\">1</span>  -   Left Margin:   <span style=\"color: #000080; text-decoration-color: #000080; font-weight: bold\">150</span>  <span style=\"font-weight: bold\">(</span> <span style=\"color: #000080; text-decoration-color: #000080; font-weight: bold\">75</span> <span style=\"font-weight: bold\">)</span>  Center Point:   <span style=\"color: #000080; text-decoration-color: #000080; font-weight: bold\">186</span>  <span style=\"font-weight: bold\">(</span> <span style=\"color: #000080; text-decoration-color: #000080; font-weight: bold\">93</span> <span style=\"font-weight: bold\">)</span>  Right Margin:\n",
       "<span style=\"color: #000080; text-decoration-color: #000080; font-weight: bold\">150</span>  <span style=\"font-weight: bold\">(</span> <span style=\"color: #000080; text-decoration-color: #000080; font-weight: bold\">75</span> <span style=\"font-weight: bold\">)</span>\n",
       "</pre>\n"
      ],
      "text/plain": [
       "<rich.jupyter.JupyterRenderable at 0x7fa9c44fb790>"
      ]
     },
     "metadata": {},
     "output_type": "display_data"
    },
    {
     "data": {
      "text/html": [
       "<pre style=\"white-space:pre;overflow-x:auto;line-height:normal;font-family:Menlo,'DejaVu Sans Mono',consolas,'Courier New',monospace\">Byte  <span style=\"color: #000080; text-decoration-color: #000080; font-weight: bold\">3</span>  Nibble <span style=\"color: #000080; text-decoration-color: #000080; font-weight: bold\">0</span>  -   Left Margin:   <span style=\"color: #000080; text-decoration-color: #000080; font-weight: bold\">148</span>  <span style=\"font-weight: bold\">(</span> <span style=\"color: #000080; text-decoration-color: #000080; font-weight: bold\">74</span> <span style=\"font-weight: bold\">)</span>  Center Point:   <span style=\"color: #000080; text-decoration-color: #000080; font-weight: bold\">184</span>  <span style=\"font-weight: bold\">(</span> <span style=\"color: #000080; text-decoration-color: #000080; font-weight: bold\">92</span> <span style=\"font-weight: bold\">)</span>  Right Margin:\n",
       "<span style=\"color: #000080; text-decoration-color: #000080; font-weight: bold\">148</span>  <span style=\"font-weight: bold\">(</span> <span style=\"color: #000080; text-decoration-color: #000080; font-weight: bold\">74</span> <span style=\"font-weight: bold\">)</span>\n",
       "</pre>\n"
      ],
      "text/plain": [
       "<rich.jupyter.JupyterRenderable at 0x7fa9c4536cd0>"
      ]
     },
     "metadata": {},
     "output_type": "display_data"
    },
    {
     "data": {
      "text/html": [
       "<pre style=\"white-space:pre;overflow-x:auto;line-height:normal;font-family:Menlo,'DejaVu Sans Mono',consolas,'Courier New',monospace\">Byte  <span style=\"color: #000080; text-decoration-color: #000080; font-weight: bold\">3</span>  Nibble <span style=\"color: #000080; text-decoration-color: #000080; font-weight: bold\">1</span>  -   Left Margin:   <span style=\"color: #000080; text-decoration-color: #000080; font-weight: bold\">150</span>  <span style=\"font-weight: bold\">(</span> <span style=\"color: #000080; text-decoration-color: #000080; font-weight: bold\">74</span> <span style=\"font-weight: bold\">)</span>  Center Point:   <span style=\"color: #000080; text-decoration-color: #000080; font-weight: bold\">187</span>  <span style=\"font-weight: bold\">(</span> <span style=\"color: #000080; text-decoration-color: #000080; font-weight: bold\">92</span> <span style=\"font-weight: bold\">)</span>  Right Margin:\n",
       "<span style=\"color: #000080; text-decoration-color: #000080; font-weight: bold\">150</span>  <span style=\"font-weight: bold\">(</span> <span style=\"color: #000080; text-decoration-color: #000080; font-weight: bold\">74</span> <span style=\"font-weight: bold\">)</span>\n",
       "</pre>\n"
      ],
      "text/plain": [
       "<rich.jupyter.JupyterRenderable at 0x7fa9c44fb790>"
      ]
     },
     "metadata": {},
     "output_type": "display_data"
    },
    {
     "data": {
      "text/html": [
       "<pre style=\"white-space:pre;overflow-x:auto;line-height:normal;font-family:Menlo,'DejaVu Sans Mono',consolas,'Courier New',monospace\">Byte  <span style=\"color: #000080; text-decoration-color: #000080; font-weight: bold\">4</span>  Nibble <span style=\"color: #000080; text-decoration-color: #000080; font-weight: bold\">0</span>  -   Left Margin:   <span style=\"color: #000080; text-decoration-color: #000080; font-weight: bold\">146</span>  <span style=\"font-weight: bold\">(</span> <span style=\"color: #000080; text-decoration-color: #000080; font-weight: bold\">73</span> <span style=\"font-weight: bold\">)</span>  Center Point:   <span style=\"color: #000080; text-decoration-color: #000080; font-weight: bold\">182</span>  <span style=\"font-weight: bold\">(</span> <span style=\"color: #000080; text-decoration-color: #000080; font-weight: bold\">91</span> <span style=\"font-weight: bold\">)</span>  Right Margin:\n",
       "<span style=\"color: #000080; text-decoration-color: #000080; font-weight: bold\">148</span>  <span style=\"font-weight: bold\">(</span> <span style=\"color: #000080; text-decoration-color: #000080; font-weight: bold\">74</span> <span style=\"font-weight: bold\">)</span>\n",
       "</pre>\n"
      ],
      "text/plain": [
       "<rich.jupyter.JupyterRenderable at 0x7fa9c436ed30>"
      ]
     },
     "metadata": {},
     "output_type": "display_data"
    },
    {
     "data": {
      "text/html": [
       "<pre style=\"white-space:pre;overflow-x:auto;line-height:normal;font-family:Menlo,'DejaVu Sans Mono',consolas,'Courier New',monospace\">Byte  <span style=\"color: #000080; text-decoration-color: #000080; font-weight: bold\">4</span>  Nibble <span style=\"color: #000080; text-decoration-color: #000080; font-weight: bold\">1</span>  -   Left Margin:   <span style=\"color: #000080; text-decoration-color: #000080; font-weight: bold\">152</span>  <span style=\"font-weight: bold\">(</span> <span style=\"color: #000080; text-decoration-color: #000080; font-weight: bold\">74</span> <span style=\"font-weight: bold\">)</span>  Center Point:   <span style=\"color: #000080; text-decoration-color: #000080; font-weight: bold\">189</span>  <span style=\"font-weight: bold\">(</span> <span style=\"color: #000080; text-decoration-color: #000080; font-weight: bold\">92</span> <span style=\"font-weight: bold\">)</span>  Right Margin:\n",
       "<span style=\"color: #000080; text-decoration-color: #000080; font-weight: bold\">154</span>  <span style=\"font-weight: bold\">(</span> <span style=\"color: #000080; text-decoration-color: #000080; font-weight: bold\">75</span> <span style=\"font-weight: bold\">)</span>\n",
       "</pre>\n"
      ],
      "text/plain": [
       "<rich.jupyter.JupyterRenderable at 0x7fa9c44fbe50>"
      ]
     },
     "metadata": {},
     "output_type": "display_data"
    },
    {
     "data": {
      "text/html": [
       "<pre style=\"white-space:pre;overflow-x:auto;line-height:normal;font-family:Menlo,'DejaVu Sans Mono',consolas,'Courier New',monospace\">Byte  <span style=\"color: #000080; text-decoration-color: #000080; font-weight: bold\">5</span>  Nibble <span style=\"color: #000080; text-decoration-color: #000080; font-weight: bold\">0</span>  -   Left Margin:   <span style=\"color: #000080; text-decoration-color: #000080; font-weight: bold\">146</span>  <span style=\"font-weight: bold\">(</span> <span style=\"color: #000080; text-decoration-color: #000080; font-weight: bold\">74</span> <span style=\"font-weight: bold\">)</span>  Center Point:   <span style=\"color: #000080; text-decoration-color: #000080; font-weight: bold\">182</span>  <span style=\"font-weight: bold\">(</span> <span style=\"color: #000080; text-decoration-color: #000080; font-weight: bold\">92</span> <span style=\"font-weight: bold\">)</span>  Right Margin:\n",
       "<span style=\"color: #000080; text-decoration-color: #000080; font-weight: bold\">148</span>  <span style=\"font-weight: bold\">(</span> <span style=\"color: #000080; text-decoration-color: #000080; font-weight: bold\">75</span> <span style=\"font-weight: bold\">)</span>\n",
       "</pre>\n"
      ],
      "text/plain": [
       "<rich.jupyter.JupyterRenderable at 0x7fa9c44fbe80>"
      ]
     },
     "metadata": {},
     "output_type": "display_data"
    },
    {
     "data": {
      "text/html": [
       "<pre style=\"white-space:pre;overflow-x:auto;line-height:normal;font-family:Menlo,'DejaVu Sans Mono',consolas,'Courier New',monospace\">Byte  <span style=\"color: #000080; text-decoration-color: #000080; font-weight: bold\">5</span>  Nibble <span style=\"color: #000080; text-decoration-color: #000080; font-weight: bold\">1</span>  -   Left Margin:   <span style=\"color: #000080; text-decoration-color: #000080; font-weight: bold\">150</span>  <span style=\"font-weight: bold\">(</span> <span style=\"color: #000080; text-decoration-color: #000080; font-weight: bold\">73</span> <span style=\"font-weight: bold\">)</span>  Center Point:   <span style=\"color: #000080; text-decoration-color: #000080; font-weight: bold\">187</span>  <span style=\"font-weight: bold\">(</span> <span style=\"color: #000080; text-decoration-color: #000080; font-weight: bold\">91</span> <span style=\"font-weight: bold\">)</span>  Right Margin:\n",
       "<span style=\"color: #000080; text-decoration-color: #000080; font-weight: bold\">152</span>  <span style=\"font-weight: bold\">(</span> <span style=\"color: #000080; text-decoration-color: #000080; font-weight: bold\">74</span> <span style=\"font-weight: bold\">)</span>\n",
       "</pre>\n"
      ],
      "text/plain": [
       "<rich.jupyter.JupyterRenderable at 0x7fa9c436ed30>"
      ]
     },
     "metadata": {},
     "output_type": "display_data"
    },
    {
     "data": {
      "text/html": [
       "<pre style=\"white-space:pre;overflow-x:auto;line-height:normal;font-family:Menlo,'DejaVu Sans Mono',consolas,'Courier New',monospace\">Byte  <span style=\"color: #000080; text-decoration-color: #000080; font-weight: bold\">6</span>  Nibble <span style=\"color: #000080; text-decoration-color: #000080; font-weight: bold\">0</span>  -   Left Margin:   <span style=\"color: #000080; text-decoration-color: #000080; font-weight: bold\">148</span>  <span style=\"font-weight: bold\">(</span> <span style=\"color: #000080; text-decoration-color: #000080; font-weight: bold\">75</span> <span style=\"font-weight: bold\">)</span>  Center Point:   <span style=\"color: #000080; text-decoration-color: #000080; font-weight: bold\">184</span>  <span style=\"font-weight: bold\">(</span> <span style=\"color: #000080; text-decoration-color: #000080; font-weight: bold\">93</span> <span style=\"font-weight: bold\">)</span>  Right Margin:\n",
       "<span style=\"color: #000080; text-decoration-color: #000080; font-weight: bold\">148</span>  <span style=\"font-weight: bold\">(</span> <span style=\"color: #000080; text-decoration-color: #000080; font-weight: bold\">75</span> <span style=\"font-weight: bold\">)</span>\n",
       "</pre>\n"
      ],
      "text/plain": [
       "<rich.jupyter.JupyterRenderable at 0x7fa9c436e130>"
      ]
     },
     "metadata": {},
     "output_type": "display_data"
    },
    {
     "data": {
      "text/html": [
       "<pre style=\"white-space:pre;overflow-x:auto;line-height:normal;font-family:Menlo,'DejaVu Sans Mono',consolas,'Courier New',monospace\">Byte  <span style=\"color: #000080; text-decoration-color: #000080; font-weight: bold\">6</span>  Nibble <span style=\"color: #000080; text-decoration-color: #000080; font-weight: bold\">1</span>  -   Left Margin:   <span style=\"color: #000080; text-decoration-color: #000080; font-weight: bold\">150</span>  <span style=\"font-weight: bold\">(</span> <span style=\"color: #000080; text-decoration-color: #000080; font-weight: bold\">75</span> <span style=\"font-weight: bold\">)</span>  Center Point:   <span style=\"color: #000080; text-decoration-color: #000080; font-weight: bold\">186</span>  <span style=\"font-weight: bold\">(</span> <span style=\"color: #000080; text-decoration-color: #000080; font-weight: bold\">93</span> <span style=\"font-weight: bold\">)</span>  Right Margin:\n",
       "<span style=\"color: #000080; text-decoration-color: #000080; font-weight: bold\">150</span>  <span style=\"font-weight: bold\">(</span> <span style=\"color: #000080; text-decoration-color: #000080; font-weight: bold\">75</span> <span style=\"font-weight: bold\">)</span>\n",
       "</pre>\n"
      ],
      "text/plain": [
       "<rich.jupyter.JupyterRenderable at 0x7fa9c43e5940>"
      ]
     },
     "metadata": {},
     "output_type": "display_data"
    },
    {
     "data": {
      "text/html": [
       "<pre style=\"white-space:pre;overflow-x:auto;line-height:normal;font-family:Menlo,'DejaVu Sans Mono',consolas,'Courier New',monospace\">Byte  <span style=\"color: #000080; text-decoration-color: #000080; font-weight: bold\">7</span>  Nibble <span style=\"color: #000080; text-decoration-color: #000080; font-weight: bold\">0</span>  -   Left Margin:   <span style=\"color: #000080; text-decoration-color: #000080; font-weight: bold\">146</span>  <span style=\"font-weight: bold\">(</span> <span style=\"color: #000080; text-decoration-color: #000080; font-weight: bold\">74</span> <span style=\"font-weight: bold\">)</span>  Center Point:   <span style=\"color: #000080; text-decoration-color: #000080; font-weight: bold\">182</span>  <span style=\"font-weight: bold\">(</span> <span style=\"color: #000080; text-decoration-color: #000080; font-weight: bold\">92</span> <span style=\"font-weight: bold\">)</span>  Right Margin:\n",
       "<span style=\"color: #000080; text-decoration-color: #000080; font-weight: bold\">148</span>  <span style=\"font-weight: bold\">(</span> <span style=\"color: #000080; text-decoration-color: #000080; font-weight: bold\">75</span> <span style=\"font-weight: bold\">)</span>\n",
       "</pre>\n"
      ],
      "text/plain": [
       "<rich.jupyter.JupyterRenderable at 0x7fa9c4536cd0>"
      ]
     },
     "metadata": {},
     "output_type": "display_data"
    },
    {
     "data": {
      "text/html": [
       "<pre style=\"white-space:pre;overflow-x:auto;line-height:normal;font-family:Menlo,'DejaVu Sans Mono',consolas,'Courier New',monospace\">Byte  <span style=\"color: #000080; text-decoration-color: #000080; font-weight: bold\">7</span>  Nibble <span style=\"color: #000080; text-decoration-color: #000080; font-weight: bold\">1</span>  -   Left Margin:   <span style=\"color: #000080; text-decoration-color: #000080; font-weight: bold\">146</span>  <span style=\"font-weight: bold\">(</span> <span style=\"color: #000080; text-decoration-color: #000080; font-weight: bold\">74</span> <span style=\"font-weight: bold\">)</span>  Center Point:   <span style=\"color: #000080; text-decoration-color: #000080; font-weight: bold\">182</span>  <span style=\"font-weight: bold\">(</span> <span style=\"color: #000080; text-decoration-color: #000080; font-weight: bold\">92</span> <span style=\"font-weight: bold\">)</span>  Right Margin:\n",
       "<span style=\"color: #000080; text-decoration-color: #000080; font-weight: bold\">148</span>  <span style=\"font-weight: bold\">(</span> <span style=\"color: #000080; text-decoration-color: #000080; font-weight: bold\">75</span> <span style=\"font-weight: bold\">)</span>\n",
       "</pre>\n"
      ],
      "text/plain": [
       "<rich.jupyter.JupyterRenderable at 0x7fa9c43e5700>"
      ]
     },
     "metadata": {},
     "output_type": "display_data"
    },
    {
     "data": {
      "text/html": [
       "<pre style=\"white-space:pre;overflow-x:auto;line-height:normal;font-family:Menlo,'DejaVu Sans Mono',consolas,'Courier New',monospace\">\n",
       " Frequency <span style=\"color: #000080; text-decoration-color: #000080; font-weight: bold\">0</span>  - Read Margin - Simple Pattern - Falling Edge Clock in pS and <span style=\"font-weight: bold\">(</span>delay taps<span style=\"font-weight: bold\">)</span>:\n",
       "\n",
       "</pre>\n"
      ],
      "text/plain": [
       "<rich.jupyter.JupyterRenderable at 0x7fa9c4317d30>"
      ]
     },
     "metadata": {},
     "output_type": "display_data"
    },
    {
     "data": {
      "text/html": [
       "<pre style=\"white-space:pre;overflow-x:auto;line-height:normal;font-family:Menlo,'DejaVu Sans Mono',consolas,'Courier New',monospace\">Byte  <span style=\"color: #000080; text-decoration-color: #000080; font-weight: bold\">0</span>  Nibble <span style=\"color: #000080; text-decoration-color: #000080; font-weight: bold\">0</span>  -   Left Margin:   <span style=\"color: #000080; text-decoration-color: #000080; font-weight: bold\">148</span>  <span style=\"font-weight: bold\">(</span> <span style=\"color: #000080; text-decoration-color: #000080; font-weight: bold\">73</span> <span style=\"font-weight: bold\">)</span>  Center Point:   <span style=\"color: #000080; text-decoration-color: #000080; font-weight: bold\">197</span>  <span style=\"font-weight: bold\">(</span> <span style=\"color: #000080; text-decoration-color: #000080; font-weight: bold\">97</span> <span style=\"font-weight: bold\">)</span>  Right Margin:\n",
       "<span style=\"color: #000080; text-decoration-color: #000080; font-weight: bold\">150</span>  <span style=\"font-weight: bold\">(</span> <span style=\"color: #000080; text-decoration-color: #000080; font-weight: bold\">74</span> <span style=\"font-weight: bold\">)</span>\n",
       "</pre>\n"
      ],
      "text/plain": [
       "<rich.jupyter.JupyterRenderable at 0x7fa9c4317d30>"
      ]
     },
     "metadata": {},
     "output_type": "display_data"
    },
    {
     "data": {
      "text/html": [
       "<pre style=\"white-space:pre;overflow-x:auto;line-height:normal;font-family:Menlo,'DejaVu Sans Mono',consolas,'Courier New',monospace\">Byte  <span style=\"color: #000080; text-decoration-color: #000080; font-weight: bold\">0</span>  Nibble <span style=\"color: #000080; text-decoration-color: #000080; font-weight: bold\">1</span>  -   Left Margin:   <span style=\"color: #000080; text-decoration-color: #000080; font-weight: bold\">140</span>  <span style=\"font-weight: bold\">(</span> <span style=\"color: #000080; text-decoration-color: #000080; font-weight: bold\">68</span> <span style=\"font-weight: bold\">)</span>  Center Point:   <span style=\"color: #000080; text-decoration-color: #000080; font-weight: bold\">212</span>  <span style=\"font-weight: bold\">(</span> <span style=\"color: #000080; text-decoration-color: #000080; font-weight: bold\">103</span> <span style=\"font-weight: bold\">)</span>  Right \n",
       "Margin:   <span style=\"color: #000080; text-decoration-color: #000080; font-weight: bold\">142</span>  <span style=\"font-weight: bold\">(</span> <span style=\"color: #000080; text-decoration-color: #000080; font-weight: bold\">69</span> <span style=\"font-weight: bold\">)</span>\n",
       "</pre>\n"
      ],
      "text/plain": [
       "<rich.jupyter.JupyterRenderable at 0x7fa9c4317d30>"
      ]
     },
     "metadata": {},
     "output_type": "display_data"
    },
    {
     "data": {
      "text/html": [
       "<pre style=\"white-space:pre;overflow-x:auto;line-height:normal;font-family:Menlo,'DejaVu Sans Mono',consolas,'Courier New',monospace\">Byte  <span style=\"color: #000080; text-decoration-color: #000080; font-weight: bold\">1</span>  Nibble <span style=\"color: #000080; text-decoration-color: #000080; font-weight: bold\">0</span>  -   Left Margin:   <span style=\"color: #000080; text-decoration-color: #000080; font-weight: bold\">154</span>  <span style=\"font-weight: bold\">(</span> <span style=\"color: #000080; text-decoration-color: #000080; font-weight: bold\">75</span> <span style=\"font-weight: bold\">)</span>  Center Point:   <span style=\"color: #000080; text-decoration-color: #000080; font-weight: bold\">208</span>  <span style=\"font-weight: bold\">(</span> <span style=\"color: #000080; text-decoration-color: #000080; font-weight: bold\">101</span> <span style=\"font-weight: bold\">)</span>  Right \n",
       "Margin:   <span style=\"color: #000080; text-decoration-color: #000080; font-weight: bold\">156</span>  <span style=\"font-weight: bold\">(</span> <span style=\"color: #000080; text-decoration-color: #000080; font-weight: bold\">76</span> <span style=\"font-weight: bold\">)</span>\n",
       "</pre>\n"
      ],
      "text/plain": [
       "<rich.jupyter.JupyterRenderable at 0x7fa9c4317d30>"
      ]
     },
     "metadata": {},
     "output_type": "display_data"
    },
    {
     "data": {
      "text/html": [
       "<pre style=\"white-space:pre;overflow-x:auto;line-height:normal;font-family:Menlo,'DejaVu Sans Mono',consolas,'Courier New',monospace\">Byte  <span style=\"color: #000080; text-decoration-color: #000080; font-weight: bold\">1</span>  Nibble <span style=\"color: #000080; text-decoration-color: #000080; font-weight: bold\">1</span>  -   Left Margin:   <span style=\"color: #000080; text-decoration-color: #000080; font-weight: bold\">146</span>  <span style=\"font-weight: bold\">(</span> <span style=\"color: #000080; text-decoration-color: #000080; font-weight: bold\">73</span> <span style=\"font-weight: bold\">)</span>  Center Point:   <span style=\"color: #000080; text-decoration-color: #000080; font-weight: bold\">204</span>  <span style=\"font-weight: bold\">(</span> <span style=\"color: #000080; text-decoration-color: #000080; font-weight: bold\">102</span> <span style=\"font-weight: bold\">)</span>  Right \n",
       "Margin:   <span style=\"color: #000080; text-decoration-color: #000080; font-weight: bold\">148</span>  <span style=\"font-weight: bold\">(</span> <span style=\"color: #000080; text-decoration-color: #000080; font-weight: bold\">74</span> <span style=\"font-weight: bold\">)</span>\n",
       "</pre>\n"
      ],
      "text/plain": [
       "<rich.jupyter.JupyterRenderable at 0x7fa9c4317d30>"
      ]
     },
     "metadata": {},
     "output_type": "display_data"
    },
    {
     "data": {
      "text/html": [
       "<pre style=\"white-space:pre;overflow-x:auto;line-height:normal;font-family:Menlo,'DejaVu Sans Mono',consolas,'Courier New',monospace\">Byte  <span style=\"color: #000080; text-decoration-color: #000080; font-weight: bold\">2</span>  Nibble <span style=\"color: #000080; text-decoration-color: #000080; font-weight: bold\">0</span>  -   Left Margin:   <span style=\"color: #000080; text-decoration-color: #000080; font-weight: bold\">146</span>  <span style=\"font-weight: bold\">(</span> <span style=\"color: #000080; text-decoration-color: #000080; font-weight: bold\">73</span> <span style=\"font-weight: bold\">)</span>  Center Point:   <span style=\"color: #000080; text-decoration-color: #000080; font-weight: bold\">206</span>  <span style=\"font-weight: bold\">(</span> <span style=\"color: #000080; text-decoration-color: #000080; font-weight: bold\">103</span> <span style=\"font-weight: bold\">)</span>  Right \n",
       "Margin:   <span style=\"color: #000080; text-decoration-color: #000080; font-weight: bold\">148</span>  <span style=\"font-weight: bold\">(</span> <span style=\"color: #000080; text-decoration-color: #000080; font-weight: bold\">74</span> <span style=\"font-weight: bold\">)</span>\n",
       "</pre>\n"
      ],
      "text/plain": [
       "<rich.jupyter.JupyterRenderable at 0x7fa9c4317d30>"
      ]
     },
     "metadata": {},
     "output_type": "display_data"
    },
    {
     "data": {
      "text/html": [
       "<pre style=\"white-space:pre;overflow-x:auto;line-height:normal;font-family:Menlo,'DejaVu Sans Mono',consolas,'Courier New',monospace\">Byte  <span style=\"color: #000080; text-decoration-color: #000080; font-weight: bold\">2</span>  Nibble <span style=\"color: #000080; text-decoration-color: #000080; font-weight: bold\">1</span>  -   Left Margin:   <span style=\"color: #000080; text-decoration-color: #000080; font-weight: bold\">146</span>  <span style=\"font-weight: bold\">(</span> <span style=\"color: #000080; text-decoration-color: #000080; font-weight: bold\">74</span> <span style=\"font-weight: bold\">)</span>  Center Point:   <span style=\"color: #000080; text-decoration-color: #000080; font-weight: bold\">198</span>  <span style=\"font-weight: bold\">(</span> <span style=\"color: #000080; text-decoration-color: #000080; font-weight: bold\">100</span> <span style=\"font-weight: bold\">)</span>  Right \n",
       "Margin:   <span style=\"color: #000080; text-decoration-color: #000080; font-weight: bold\">146</span>  <span style=\"font-weight: bold\">(</span> <span style=\"color: #000080; text-decoration-color: #000080; font-weight: bold\">74</span> <span style=\"font-weight: bold\">)</span>\n",
       "</pre>\n"
      ],
      "text/plain": [
       "<rich.jupyter.JupyterRenderable at 0x7fa9c4317d30>"
      ]
     },
     "metadata": {},
     "output_type": "display_data"
    },
    {
     "data": {
      "text/html": [
       "<pre style=\"white-space:pre;overflow-x:auto;line-height:normal;font-family:Menlo,'DejaVu Sans Mono',consolas,'Courier New',monospace\">Byte  <span style=\"color: #000080; text-decoration-color: #000080; font-weight: bold\">3</span>  Nibble <span style=\"color: #000080; text-decoration-color: #000080; font-weight: bold\">0</span>  -   Left Margin:   <span style=\"color: #000080; text-decoration-color: #000080; font-weight: bold\">146</span>  <span style=\"font-weight: bold\">(</span> <span style=\"color: #000080; text-decoration-color: #000080; font-weight: bold\">73</span> <span style=\"font-weight: bold\">)</span>  Center Point:   <span style=\"color: #000080; text-decoration-color: #000080; font-weight: bold\">194</span>  <span style=\"font-weight: bold\">(</span> <span style=\"color: #000080; text-decoration-color: #000080; font-weight: bold\">97</span> <span style=\"font-weight: bold\">)</span>  Right Margin:\n",
       "<span style=\"color: #000080; text-decoration-color: #000080; font-weight: bold\">146</span>  <span style=\"font-weight: bold\">(</span> <span style=\"color: #000080; text-decoration-color: #000080; font-weight: bold\">73</span> <span style=\"font-weight: bold\">)</span>\n",
       "</pre>\n"
      ],
      "text/plain": [
       "<rich.jupyter.JupyterRenderable at 0x7fa9c45e5a00>"
      ]
     },
     "metadata": {},
     "output_type": "display_data"
    },
    {
     "data": {
      "text/html": [
       "<pre style=\"white-space:pre;overflow-x:auto;line-height:normal;font-family:Menlo,'DejaVu Sans Mono',consolas,'Courier New',monospace\">Byte  <span style=\"color: #000080; text-decoration-color: #000080; font-weight: bold\">3</span>  Nibble <span style=\"color: #000080; text-decoration-color: #000080; font-weight: bold\">1</span>  -   Left Margin:   <span style=\"color: #000080; text-decoration-color: #000080; font-weight: bold\">142</span>  <span style=\"font-weight: bold\">(</span> <span style=\"color: #000080; text-decoration-color: #000080; font-weight: bold\">71</span> <span style=\"font-weight: bold\">)</span>  Center Point:   <span style=\"color: #000080; text-decoration-color: #000080; font-weight: bold\">190</span>  <span style=\"font-weight: bold\">(</span> <span style=\"color: #000080; text-decoration-color: #000080; font-weight: bold\">95</span> <span style=\"font-weight: bold\">)</span>  Right Margin:\n",
       "<span style=\"color: #000080; text-decoration-color: #000080; font-weight: bold\">142</span>  <span style=\"font-weight: bold\">(</span> <span style=\"color: #000080; text-decoration-color: #000080; font-weight: bold\">71</span> <span style=\"font-weight: bold\">)</span>\n",
       "</pre>\n"
      ],
      "text/plain": [
       "<rich.jupyter.JupyterRenderable at 0x7fa9c45e5a00>"
      ]
     },
     "metadata": {},
     "output_type": "display_data"
    },
    {
     "data": {
      "text/html": [
       "<pre style=\"white-space:pre;overflow-x:auto;line-height:normal;font-family:Menlo,'DejaVu Sans Mono',consolas,'Courier New',monospace\">Byte  <span style=\"color: #000080; text-decoration-color: #000080; font-weight: bold\">4</span>  Nibble <span style=\"color: #000080; text-decoration-color: #000080; font-weight: bold\">0</span>  -   Left Margin:   <span style=\"color: #000080; text-decoration-color: #000080; font-weight: bold\">150</span>  <span style=\"font-weight: bold\">(</span> <span style=\"color: #000080; text-decoration-color: #000080; font-weight: bold\">76</span> <span style=\"font-weight: bold\">)</span>  Center Point:   <span style=\"color: #000080; text-decoration-color: #000080; font-weight: bold\">202</span>  <span style=\"font-weight: bold\">(</span> <span style=\"color: #000080; text-decoration-color: #000080; font-weight: bold\">102</span> <span style=\"font-weight: bold\">)</span>  Right \n",
       "Margin:   <span style=\"color: #000080; text-decoration-color: #000080; font-weight: bold\">150</span>  <span style=\"font-weight: bold\">(</span> <span style=\"color: #000080; text-decoration-color: #000080; font-weight: bold\">76</span> <span style=\"font-weight: bold\">)</span>\n",
       "</pre>\n"
      ],
      "text/plain": [
       "<rich.jupyter.JupyterRenderable at 0x7fa9c45e5a00>"
      ]
     },
     "metadata": {},
     "output_type": "display_data"
    },
    {
     "data": {
      "text/html": [
       "<pre style=\"white-space:pre;overflow-x:auto;line-height:normal;font-family:Menlo,'DejaVu Sans Mono',consolas,'Courier New',monospace\">Byte  <span style=\"color: #000080; text-decoration-color: #000080; font-weight: bold\">4</span>  Nibble <span style=\"color: #000080; text-decoration-color: #000080; font-weight: bold\">1</span>  -   Left Margin:   <span style=\"color: #000080; text-decoration-color: #000080; font-weight: bold\">148</span>  <span style=\"font-weight: bold\">(</span> <span style=\"color: #000080; text-decoration-color: #000080; font-weight: bold\">73</span> <span style=\"font-weight: bold\">)</span>  Center Point:   <span style=\"color: #000080; text-decoration-color: #000080; font-weight: bold\">201</span>  <span style=\"font-weight: bold\">(</span> <span style=\"color: #000080; text-decoration-color: #000080; font-weight: bold\">99</span> <span style=\"font-weight: bold\">)</span>  Right Margin:\n",
       "<span style=\"color: #000080; text-decoration-color: #000080; font-weight: bold\">150</span>  <span style=\"font-weight: bold\">(</span> <span style=\"color: #000080; text-decoration-color: #000080; font-weight: bold\">74</span> <span style=\"font-weight: bold\">)</span>\n",
       "</pre>\n"
      ],
      "text/plain": [
       "<rich.jupyter.JupyterRenderable at 0x7fa9c45e5a00>"
      ]
     },
     "metadata": {},
     "output_type": "display_data"
    },
    {
     "data": {
      "text/html": [
       "<pre style=\"white-space:pre;overflow-x:auto;line-height:normal;font-family:Menlo,'DejaVu Sans Mono',consolas,'Courier New',monospace\">Byte  <span style=\"color: #000080; text-decoration-color: #000080; font-weight: bold\">5</span>  Nibble <span style=\"color: #000080; text-decoration-color: #000080; font-weight: bold\">0</span>  -   Left Margin:   <span style=\"color: #000080; text-decoration-color: #000080; font-weight: bold\">143</span>  <span style=\"font-weight: bold\">(</span> <span style=\"color: #000080; text-decoration-color: #000080; font-weight: bold\">73</span> <span style=\"font-weight: bold\">)</span>  Center Point:   <span style=\"color: #000080; text-decoration-color: #000080; font-weight: bold\">201</span>  <span style=\"font-weight: bold\">(</span> <span style=\"color: #000080; text-decoration-color: #000080; font-weight: bold\">103</span> <span style=\"font-weight: bold\">)</span>  Right \n",
       "Margin:   <span style=\"color: #000080; text-decoration-color: #000080; font-weight: bold\">143</span>  <span style=\"font-weight: bold\">(</span> <span style=\"color: #000080; text-decoration-color: #000080; font-weight: bold\">73</span> <span style=\"font-weight: bold\">)</span>\n",
       "</pre>\n"
      ],
      "text/plain": [
       "<rich.jupyter.JupyterRenderable at 0x7fa9c45e5a00>"
      ]
     },
     "metadata": {},
     "output_type": "display_data"
    },
    {
     "data": {
      "text/html": [
       "<pre style=\"white-space:pre;overflow-x:auto;line-height:normal;font-family:Menlo,'DejaVu Sans Mono',consolas,'Courier New',monospace\">Byte  <span style=\"color: #000080; text-decoration-color: #000080; font-weight: bold\">5</span>  Nibble <span style=\"color: #000080; text-decoration-color: #000080; font-weight: bold\">1</span>  -   Left Margin:   <span style=\"color: #000080; text-decoration-color: #000080; font-weight: bold\">148</span>  <span style=\"font-weight: bold\">(</span> <span style=\"color: #000080; text-decoration-color: #000080; font-weight: bold\">74</span> <span style=\"font-weight: bold\">)</span>  Center Point:   <span style=\"color: #000080; text-decoration-color: #000080; font-weight: bold\">204</span>  <span style=\"font-weight: bold\">(</span> <span style=\"color: #000080; text-decoration-color: #000080; font-weight: bold\">102</span> <span style=\"font-weight: bold\">)</span>  Right \n",
       "Margin:   <span style=\"color: #000080; text-decoration-color: #000080; font-weight: bold\">148</span>  <span style=\"font-weight: bold\">(</span> <span style=\"color: #000080; text-decoration-color: #000080; font-weight: bold\">74</span> <span style=\"font-weight: bold\">)</span>\n",
       "</pre>\n"
      ],
      "text/plain": [
       "<rich.jupyter.JupyterRenderable at 0x7fa9c45e5a00>"
      ]
     },
     "metadata": {},
     "output_type": "display_data"
    },
    {
     "data": {
      "text/html": [
       "<pre style=\"white-space:pre;overflow-x:auto;line-height:normal;font-family:Menlo,'DejaVu Sans Mono',consolas,'Courier New',monospace\">Byte  <span style=\"color: #000080; text-decoration-color: #000080; font-weight: bold\">6</span>  Nibble <span style=\"color: #000080; text-decoration-color: #000080; font-weight: bold\">0</span>  -   Left Margin:   <span style=\"color: #000080; text-decoration-color: #000080; font-weight: bold\">146</span>  <span style=\"font-weight: bold\">(</span> <span style=\"color: #000080; text-decoration-color: #000080; font-weight: bold\">74</span> <span style=\"font-weight: bold\">)</span>  Center Point:   <span style=\"color: #000080; text-decoration-color: #000080; font-weight: bold\">198</span>  <span style=\"font-weight: bold\">(</span> <span style=\"color: #000080; text-decoration-color: #000080; font-weight: bold\">100</span> <span style=\"font-weight: bold\">)</span>  Right \n",
       "Margin:   <span style=\"color: #000080; text-decoration-color: #000080; font-weight: bold\">148</span>  <span style=\"font-weight: bold\">(</span> <span style=\"color: #000080; text-decoration-color: #000080; font-weight: bold\">75</span> <span style=\"font-weight: bold\">)</span>\n",
       "</pre>\n"
      ],
      "text/plain": [
       "<rich.jupyter.JupyterRenderable at 0x7fa9c45e5a00>"
      ]
     },
     "metadata": {},
     "output_type": "display_data"
    },
    {
     "data": {
      "text/html": [
       "<pre style=\"white-space:pre;overflow-x:auto;line-height:normal;font-family:Menlo,'DejaVu Sans Mono',consolas,'Courier New',monospace\">Byte  <span style=\"color: #000080; text-decoration-color: #000080; font-weight: bold\">6</span>  Nibble <span style=\"color: #000080; text-decoration-color: #000080; font-weight: bold\">1</span>  -   Left Margin:   <span style=\"color: #000080; text-decoration-color: #000080; font-weight: bold\">144</span>  <span style=\"font-weight: bold\">(</span> <span style=\"color: #000080; text-decoration-color: #000080; font-weight: bold\">71</span> <span style=\"font-weight: bold\">)</span>  Center Point:   <span style=\"color: #000080; text-decoration-color: #000080; font-weight: bold\">205</span>  <span style=\"font-weight: bold\">(</span> <span style=\"color: #000080; text-decoration-color: #000080; font-weight: bold\">101</span> <span style=\"font-weight: bold\">)</span>  Right \n",
       "Margin:   <span style=\"color: #000080; text-decoration-color: #000080; font-weight: bold\">144</span>  <span style=\"font-weight: bold\">(</span> <span style=\"color: #000080; text-decoration-color: #000080; font-weight: bold\">71</span> <span style=\"font-weight: bold\">)</span>\n",
       "</pre>\n"
      ],
      "text/plain": [
       "<rich.jupyter.JupyterRenderable at 0x7fa9c45e5a00>"
      ]
     },
     "metadata": {},
     "output_type": "display_data"
    },
    {
     "data": {
      "text/html": [
       "<pre style=\"white-space:pre;overflow-x:auto;line-height:normal;font-family:Menlo,'DejaVu Sans Mono',consolas,'Courier New',monospace\">Byte  <span style=\"color: #000080; text-decoration-color: #000080; font-weight: bold\">7</span>  Nibble <span style=\"color: #000080; text-decoration-color: #000080; font-weight: bold\">0</span>  -   Left Margin:   <span style=\"color: #000080; text-decoration-color: #000080; font-weight: bold\">148</span>  <span style=\"font-weight: bold\">(</span> <span style=\"color: #000080; text-decoration-color: #000080; font-weight: bold\">73</span> <span style=\"font-weight: bold\">)</span>  Center Point:   <span style=\"color: #000080; text-decoration-color: #000080; font-weight: bold\">197</span>  <span style=\"font-weight: bold\">(</span> <span style=\"color: #000080; text-decoration-color: #000080; font-weight: bold\">97</span> <span style=\"font-weight: bold\">)</span>  Right Margin:\n",
       "<span style=\"color: #000080; text-decoration-color: #000080; font-weight: bold\">148</span>  <span style=\"font-weight: bold\">(</span> <span style=\"color: #000080; text-decoration-color: #000080; font-weight: bold\">73</span> <span style=\"font-weight: bold\">)</span>\n",
       "</pre>\n"
      ],
      "text/plain": [
       "<rich.jupyter.JupyterRenderable at 0x7fa9c45e5a00>"
      ]
     },
     "metadata": {},
     "output_type": "display_data"
    },
    {
     "data": {
      "text/html": [
       "<pre style=\"white-space:pre;overflow-x:auto;line-height:normal;font-family:Menlo,'DejaVu Sans Mono',consolas,'Courier New',monospace\">Byte  <span style=\"color: #000080; text-decoration-color: #000080; font-weight: bold\">7</span>  Nibble <span style=\"color: #000080; text-decoration-color: #000080; font-weight: bold\">1</span>  -   Left Margin:   <span style=\"color: #000080; text-decoration-color: #000080; font-weight: bold\">144</span>  <span style=\"font-weight: bold\">(</span> <span style=\"color: #000080; text-decoration-color: #000080; font-weight: bold\">73</span> <span style=\"font-weight: bold\">)</span>  Center Point:   <span style=\"color: #000080; text-decoration-color: #000080; font-weight: bold\">196</span>  <span style=\"font-weight: bold\">(</span> <span style=\"color: #000080; text-decoration-color: #000080; font-weight: bold\">99</span> <span style=\"font-weight: bold\">)</span>  Right Margin:\n",
       "<span style=\"color: #000080; text-decoration-color: #000080; font-weight: bold\">146</span>  <span style=\"font-weight: bold\">(</span> <span style=\"color: #000080; text-decoration-color: #000080; font-weight: bold\">74</span> <span style=\"font-weight: bold\">)</span>\n",
       "</pre>\n"
      ],
      "text/plain": [
       "<rich.jupyter.JupyterRenderable at 0x7fa9c4317d30>"
      ]
     },
     "metadata": {},
     "output_type": "display_data"
    },
    {
     "data": {
      "text/html": [
       "<pre style=\"white-space:pre;overflow-x:auto;line-height:normal;font-family:Menlo,'DejaVu Sans Mono',consolas,'Courier New',monospace\">\n",
       " Frequency <span style=\"color: #000080; text-decoration-color: #000080; font-weight: bold\">0</span>  - Read Margin - Complex Pattern - Rising Edge Clock in pS and <span style=\"font-weight: bold\">(</span>delay taps<span style=\"font-weight: bold\">)</span>:\n",
       "\n",
       "</pre>\n"
      ],
      "text/plain": [
       "<rich.jupyter.JupyterRenderable at 0x7fa9c4322dc0>"
      ]
     },
     "metadata": {},
     "output_type": "display_data"
    },
    {
     "data": {
      "text/html": [
       "<pre style=\"white-space:pre;overflow-x:auto;line-height:normal;font-family:Menlo,'DejaVu Sans Mono',consolas,'Courier New',monospace\">Byte  <span style=\"color: #000080; text-decoration-color: #000080; font-weight: bold\">0</span>  Nibble <span style=\"color: #000080; text-decoration-color: #000080; font-weight: bold\">0</span>  -   Left Margin:   <span style=\"color: #000080; text-decoration-color: #000080; font-weight: bold\">133</span>  <span style=\"font-weight: bold\">(</span> <span style=\"color: #000080; text-decoration-color: #000080; font-weight: bold\">67</span> <span style=\"font-weight: bold\">)</span>  Center Point:   <span style=\"color: #000080; text-decoration-color: #000080; font-weight: bold\">180</span>  <span style=\"font-weight: bold\">(</span> <span style=\"color: #000080; text-decoration-color: #000080; font-weight: bold\">91</span> <span style=\"font-weight: bold\">)</span>  Right Margin:\n",
       "<span style=\"color: #000080; text-decoration-color: #000080; font-weight: bold\">133</span>  <span style=\"font-weight: bold\">(</span> <span style=\"color: #000080; text-decoration-color: #000080; font-weight: bold\">67</span> <span style=\"font-weight: bold\">)</span>\n",
       "</pre>\n"
      ],
      "text/plain": [
       "<rich.jupyter.JupyterRenderable at 0x7fa9c4322e50>"
      ]
     },
     "metadata": {},
     "output_type": "display_data"
    },
    {
     "data": {
      "text/html": [
       "<pre style=\"white-space:pre;overflow-x:auto;line-height:normal;font-family:Menlo,'DejaVu Sans Mono',consolas,'Courier New',monospace\">Byte  <span style=\"color: #000080; text-decoration-color: #000080; font-weight: bold\">0</span>  Nibble <span style=\"color: #000080; text-decoration-color: #000080; font-weight: bold\">1</span>  -   Left Margin:   <span style=\"color: #000080; text-decoration-color: #000080; font-weight: bold\">132</span>  <span style=\"font-weight: bold\">(</span> <span style=\"color: #000080; text-decoration-color: #000080; font-weight: bold\">65</span> <span style=\"font-weight: bold\">)</span>  Center Point:   <span style=\"color: #000080; text-decoration-color: #000080; font-weight: bold\">195</span>  <span style=\"font-weight: bold\">(</span> <span style=\"color: #000080; text-decoration-color: #000080; font-weight: bold\">96</span> <span style=\"font-weight: bold\">)</span>  Right Margin:\n",
       "<span style=\"color: #000080; text-decoration-color: #000080; font-weight: bold\">134</span>  <span style=\"font-weight: bold\">(</span> <span style=\"color: #000080; text-decoration-color: #000080; font-weight: bold\">66</span> <span style=\"font-weight: bold\">)</span>\n",
       "</pre>\n"
      ],
      "text/plain": [
       "<rich.jupyter.JupyterRenderable at 0x7fa9c4319160>"
      ]
     },
     "metadata": {},
     "output_type": "display_data"
    },
    {
     "data": {
      "text/html": [
       "<pre style=\"white-space:pre;overflow-x:auto;line-height:normal;font-family:Menlo,'DejaVu Sans Mono',consolas,'Courier New',monospace\">Byte  <span style=\"color: #000080; text-decoration-color: #000080; font-weight: bold\">1</span>  Nibble <span style=\"color: #000080; text-decoration-color: #000080; font-weight: bold\">0</span>  -   Left Margin:   <span style=\"color: #000080; text-decoration-color: #000080; font-weight: bold\">127</span>  <span style=\"font-weight: bold\">(</span> <span style=\"color: #000080; text-decoration-color: #000080; font-weight: bold\">62</span> <span style=\"font-weight: bold\">)</span>  Center Point:   <span style=\"color: #000080; text-decoration-color: #000080; font-weight: bold\">177</span>  <span style=\"font-weight: bold\">(</span> <span style=\"color: #000080; text-decoration-color: #000080; font-weight: bold\">86</span> <span style=\"font-weight: bold\">)</span>  Right Margin:\n",
       "<span style=\"color: #000080; text-decoration-color: #000080; font-weight: bold\">127</span>  <span style=\"font-weight: bold\">(</span> <span style=\"color: #000080; text-decoration-color: #000080; font-weight: bold\">62</span> <span style=\"font-weight: bold\">)</span>\n",
       "</pre>\n"
      ],
      "text/plain": [
       "<rich.jupyter.JupyterRenderable at 0x7fa9c4319160>"
      ]
     },
     "metadata": {},
     "output_type": "display_data"
    },
    {
     "data": {
      "text/html": [
       "<pre style=\"white-space:pre;overflow-x:auto;line-height:normal;font-family:Menlo,'DejaVu Sans Mono',consolas,'Courier New',monospace\">Byte  <span style=\"color: #000080; text-decoration-color: #000080; font-weight: bold\">1</span>  Nibble <span style=\"color: #000080; text-decoration-color: #000080; font-weight: bold\">1</span>  -   Left Margin:   <span style=\"color: #000080; text-decoration-color: #000080; font-weight: bold\">124</span>  <span style=\"font-weight: bold\">(</span> <span style=\"color: #000080; text-decoration-color: #000080; font-weight: bold\">62</span> <span style=\"font-weight: bold\">)</span>  Center Point:   <span style=\"color: #000080; text-decoration-color: #000080; font-weight: bold\">176</span>  <span style=\"font-weight: bold\">(</span> <span style=\"color: #000080; text-decoration-color: #000080; font-weight: bold\">88</span> <span style=\"font-weight: bold\">)</span>  Right Margin:\n",
       "<span style=\"color: #000080; text-decoration-color: #000080; font-weight: bold\">124</span>  <span style=\"font-weight: bold\">(</span> <span style=\"color: #000080; text-decoration-color: #000080; font-weight: bold\">62</span> <span style=\"font-weight: bold\">)</span>\n",
       "</pre>\n"
      ],
      "text/plain": [
       "<rich.jupyter.JupyterRenderable at 0x7fa9c4319160>"
      ]
     },
     "metadata": {},
     "output_type": "display_data"
    },
    {
     "data": {
      "text/html": [
       "<pre style=\"white-space:pre;overflow-x:auto;line-height:normal;font-family:Menlo,'DejaVu Sans Mono',consolas,'Courier New',monospace\">Byte  <span style=\"color: #000080; text-decoration-color: #000080; font-weight: bold\">2</span>  Nibble <span style=\"color: #000080; text-decoration-color: #000080; font-weight: bold\">0</span>  -   Left Margin:   <span style=\"color: #000080; text-decoration-color: #000080; font-weight: bold\">127</span>  <span style=\"font-weight: bold\">(</span> <span style=\"color: #000080; text-decoration-color: #000080; font-weight: bold\">64</span> <span style=\"font-weight: bold\">)</span>  Center Point:   <span style=\"color: #000080; text-decoration-color: #000080; font-weight: bold\">176</span>  <span style=\"font-weight: bold\">(</span> <span style=\"color: #000080; text-decoration-color: #000080; font-weight: bold\">89</span> <span style=\"font-weight: bold\">)</span>  Right Margin:\n",
       "<span style=\"color: #000080; text-decoration-color: #000080; font-weight: bold\">127</span>  <span style=\"font-weight: bold\">(</span> <span style=\"color: #000080; text-decoration-color: #000080; font-weight: bold\">64</span> <span style=\"font-weight: bold\">)</span>\n",
       "</pre>\n"
      ],
      "text/plain": [
       "<rich.jupyter.JupyterRenderable at 0x7fa9c4319160>"
      ]
     },
     "metadata": {},
     "output_type": "display_data"
    },
    {
     "data": {
      "text/html": [
       "<pre style=\"white-space:pre;overflow-x:auto;line-height:normal;font-family:Menlo,'DejaVu Sans Mono',consolas,'Courier New',monospace\">Byte  <span style=\"color: #000080; text-decoration-color: #000080; font-weight: bold\">2</span>  Nibble <span style=\"color: #000080; text-decoration-color: #000080; font-weight: bold\">1</span>  -   Left Margin:   <span style=\"color: #000080; text-decoration-color: #000080; font-weight: bold\">132</span>  <span style=\"font-weight: bold\">(</span> <span style=\"color: #000080; text-decoration-color: #000080; font-weight: bold\">66</span> <span style=\"font-weight: bold\">)</span>  Center Point:   <span style=\"color: #000080; text-decoration-color: #000080; font-weight: bold\">178</span>  <span style=\"font-weight: bold\">(</span> <span style=\"color: #000080; text-decoration-color: #000080; font-weight: bold\">89</span> <span style=\"font-weight: bold\">)</span>  Right Margin:\n",
       "<span style=\"color: #000080; text-decoration-color: #000080; font-weight: bold\">132</span>  <span style=\"font-weight: bold\">(</span> <span style=\"color: #000080; text-decoration-color: #000080; font-weight: bold\">66</span> <span style=\"font-weight: bold\">)</span>\n",
       "</pre>\n"
      ],
      "text/plain": [
       "<rich.jupyter.JupyterRenderable at 0x7fa9c4319160>"
      ]
     },
     "metadata": {},
     "output_type": "display_data"
    },
    {
     "data": {
      "text/html": [
       "<pre style=\"white-space:pre;overflow-x:auto;line-height:normal;font-family:Menlo,'DejaVu Sans Mono',consolas,'Courier New',monospace\">Byte  <span style=\"color: #000080; text-decoration-color: #000080; font-weight: bold\">3</span>  Nibble <span style=\"color: #000080; text-decoration-color: #000080; font-weight: bold\">0</span>  -   Left Margin:   <span style=\"color: #000080; text-decoration-color: #000080; font-weight: bold\">130</span>  <span style=\"font-weight: bold\">(</span> <span style=\"color: #000080; text-decoration-color: #000080; font-weight: bold\">65</span> <span style=\"font-weight: bold\">)</span>  Center Point:   <span style=\"color: #000080; text-decoration-color: #000080; font-weight: bold\">170</span>  <span style=\"font-weight: bold\">(</span> <span style=\"color: #000080; text-decoration-color: #000080; font-weight: bold\">85</span> <span style=\"font-weight: bold\">)</span>  Right Margin:\n",
       "<span style=\"color: #000080; text-decoration-color: #000080; font-weight: bold\">132</span>  <span style=\"font-weight: bold\">(</span> <span style=\"color: #000080; text-decoration-color: #000080; font-weight: bold\">66</span> <span style=\"font-weight: bold\">)</span>\n",
       "</pre>\n"
      ],
      "text/plain": [
       "<rich.jupyter.JupyterRenderable at 0x7fa9c4323070>"
      ]
     },
     "metadata": {},
     "output_type": "display_data"
    },
    {
     "data": {
      "text/html": [
       "<pre style=\"white-space:pre;overflow-x:auto;line-height:normal;font-family:Menlo,'DejaVu Sans Mono',consolas,'Courier New',monospace\">Byte  <span style=\"color: #000080; text-decoration-color: #000080; font-weight: bold\">3</span>  Nibble <span style=\"color: #000080; text-decoration-color: #000080; font-weight: bold\">1</span>  -   Left Margin:   <span style=\"color: #000080; text-decoration-color: #000080; font-weight: bold\">138</span>  <span style=\"font-weight: bold\">(</span> <span style=\"color: #000080; text-decoration-color: #000080; font-weight: bold\">68</span> <span style=\"font-weight: bold\">)</span>  Center Point:   <span style=\"color: #000080; text-decoration-color: #000080; font-weight: bold\">179</span>  <span style=\"font-weight: bold\">(</span> <span style=\"color: #000080; text-decoration-color: #000080; font-weight: bold\">88</span> <span style=\"font-weight: bold\">)</span>  Right Margin:\n",
       "<span style=\"color: #000080; text-decoration-color: #000080; font-weight: bold\">140</span>  <span style=\"font-weight: bold\">(</span> <span style=\"color: #000080; text-decoration-color: #000080; font-weight: bold\">69</span> <span style=\"font-weight: bold\">)</span>\n",
       "</pre>\n"
      ],
      "text/plain": [
       "<rich.jupyter.JupyterRenderable at 0x7fa9c4319160>"
      ]
     },
     "metadata": {},
     "output_type": "display_data"
    },
    {
     "data": {
      "text/html": [
       "<pre style=\"white-space:pre;overflow-x:auto;line-height:normal;font-family:Menlo,'DejaVu Sans Mono',consolas,'Courier New',monospace\">Byte  <span style=\"color: #000080; text-decoration-color: #000080; font-weight: bold\">4</span>  Nibble <span style=\"color: #000080; text-decoration-color: #000080; font-weight: bold\">0</span>  -   Left Margin:   <span style=\"color: #000080; text-decoration-color: #000080; font-weight: bold\">120</span>  <span style=\"font-weight: bold\">(</span> <span style=\"color: #000080; text-decoration-color: #000080; font-weight: bold\">60</span> <span style=\"font-weight: bold\">)</span>  Center Point:   <span style=\"color: #000080; text-decoration-color: #000080; font-weight: bold\">174</span>  <span style=\"font-weight: bold\">(</span> <span style=\"color: #000080; text-decoration-color: #000080; font-weight: bold\">87</span> <span style=\"font-weight: bold\">)</span>  Right Margin:\n",
       "<span style=\"color: #000080; text-decoration-color: #000080; font-weight: bold\">122</span>  <span style=\"font-weight: bold\">(</span> <span style=\"color: #000080; text-decoration-color: #000080; font-weight: bold\">61</span> <span style=\"font-weight: bold\">)</span>\n",
       "</pre>\n"
      ],
      "text/plain": [
       "<rich.jupyter.JupyterRenderable at 0x7fa9c4323070>"
      ]
     },
     "metadata": {},
     "output_type": "display_data"
    },
    {
     "data": {
      "text/html": [
       "<pre style=\"white-space:pre;overflow-x:auto;line-height:normal;font-family:Menlo,'DejaVu Sans Mono',consolas,'Courier New',monospace\">Byte  <span style=\"color: #000080; text-decoration-color: #000080; font-weight: bold\">4</span>  Nibble <span style=\"color: #000080; text-decoration-color: #000080; font-weight: bold\">1</span>  -   Left Margin:   <span style=\"color: #000080; text-decoration-color: #000080; font-weight: bold\">127</span>  <span style=\"font-weight: bold\">(</span> <span style=\"color: #000080; text-decoration-color: #000080; font-weight: bold\">62</span> <span style=\"font-weight: bold\">)</span>  Center Point:   <span style=\"color: #000080; text-decoration-color: #000080; font-weight: bold\">181</span>  <span style=\"font-weight: bold\">(</span> <span style=\"color: #000080; text-decoration-color: #000080; font-weight: bold\">88</span> <span style=\"font-weight: bold\">)</span>  Right Margin:\n",
       "<span style=\"color: #000080; text-decoration-color: #000080; font-weight: bold\">130</span>  <span style=\"font-weight: bold\">(</span> <span style=\"color: #000080; text-decoration-color: #000080; font-weight: bold\">63</span> <span style=\"font-weight: bold\">)</span>\n",
       "</pre>\n"
      ],
      "text/plain": [
       "<rich.jupyter.JupyterRenderable at 0x7fa9c4323040>"
      ]
     },
     "metadata": {},
     "output_type": "display_data"
    },
    {
     "data": {
      "text/html": [
       "<pre style=\"white-space:pre;overflow-x:auto;line-height:normal;font-family:Menlo,'DejaVu Sans Mono',consolas,'Courier New',monospace\">Byte  <span style=\"color: #000080; text-decoration-color: #000080; font-weight: bold\">5</span>  Nibble <span style=\"color: #000080; text-decoration-color: #000080; font-weight: bold\">0</span>  -   Left Margin:   <span style=\"color: #000080; text-decoration-color: #000080; font-weight: bold\">127</span>  <span style=\"font-weight: bold\">(</span> <span style=\"color: #000080; text-decoration-color: #000080; font-weight: bold\">64</span> <span style=\"font-weight: bold\">)</span>  Center Point:   <span style=\"color: #000080; text-decoration-color: #000080; font-weight: bold\">180</span>  <span style=\"font-weight: bold\">(</span> <span style=\"color: #000080; text-decoration-color: #000080; font-weight: bold\">91</span> <span style=\"font-weight: bold\">)</span>  Right Margin:\n",
       "<span style=\"color: #000080; text-decoration-color: #000080; font-weight: bold\">129</span>  <span style=\"font-weight: bold\">(</span> <span style=\"color: #000080; text-decoration-color: #000080; font-weight: bold\">65</span> <span style=\"font-weight: bold\">)</span>\n",
       "</pre>\n"
      ],
      "text/plain": [
       "<rich.jupyter.JupyterRenderable at 0x7fa9c4323040>"
      ]
     },
     "metadata": {},
     "output_type": "display_data"
    },
    {
     "data": {
      "text/html": [
       "<pre style=\"white-space:pre;overflow-x:auto;line-height:normal;font-family:Menlo,'DejaVu Sans Mono',consolas,'Courier New',monospace\">Byte  <span style=\"color: #000080; text-decoration-color: #000080; font-weight: bold\">5</span>  Nibble <span style=\"color: #000080; text-decoration-color: #000080; font-weight: bold\">1</span>  -   Left Margin:   <span style=\"color: #000080; text-decoration-color: #000080; font-weight: bold\">138</span>  <span style=\"font-weight: bold\">(</span> <span style=\"color: #000080; text-decoration-color: #000080; font-weight: bold\">67</span> <span style=\"font-weight: bold\">)</span>  Center Point:   <span style=\"color: #000080; text-decoration-color: #000080; font-weight: bold\">189</span>  <span style=\"font-weight: bold\">(</span> <span style=\"color: #000080; text-decoration-color: #000080; font-weight: bold\">92</span> <span style=\"font-weight: bold\">)</span>  Right Margin:\n",
       "<span style=\"color: #000080; text-decoration-color: #000080; font-weight: bold\">138</span>  <span style=\"font-weight: bold\">(</span> <span style=\"color: #000080; text-decoration-color: #000080; font-weight: bold\">67</span> <span style=\"font-weight: bold\">)</span>\n",
       "</pre>\n"
      ],
      "text/plain": [
       "<rich.jupyter.JupyterRenderable at 0x7fa9c4323040>"
      ]
     },
     "metadata": {},
     "output_type": "display_data"
    },
    {
     "data": {
      "text/html": [
       "<pre style=\"white-space:pre;overflow-x:auto;line-height:normal;font-family:Menlo,'DejaVu Sans Mono',consolas,'Courier New',monospace\">Byte  <span style=\"color: #000080; text-decoration-color: #000080; font-weight: bold\">6</span>  Nibble <span style=\"color: #000080; text-decoration-color: #000080; font-weight: bold\">0</span>  -   Left Margin:   <span style=\"color: #000080; text-decoration-color: #000080; font-weight: bold\">129</span>  <span style=\"font-weight: bold\">(</span> <span style=\"color: #000080; text-decoration-color: #000080; font-weight: bold\">65</span> <span style=\"font-weight: bold\">)</span>  Center Point:   <span style=\"color: #000080; text-decoration-color: #000080; font-weight: bold\">176</span>  <span style=\"font-weight: bold\">(</span> <span style=\"color: #000080; text-decoration-color: #000080; font-weight: bold\">89</span> <span style=\"font-weight: bold\">)</span>  Right Margin:\n",
       "<span style=\"color: #000080; text-decoration-color: #000080; font-weight: bold\">129</span>  <span style=\"font-weight: bold\">(</span> <span style=\"color: #000080; text-decoration-color: #000080; font-weight: bold\">65</span> <span style=\"font-weight: bold\">)</span>\n",
       "</pre>\n"
      ],
      "text/plain": [
       "<rich.jupyter.JupyterRenderable at 0x7fa9c4323040>"
      ]
     },
     "metadata": {},
     "output_type": "display_data"
    },
    {
     "data": {
      "text/html": [
       "<pre style=\"white-space:pre;overflow-x:auto;line-height:normal;font-family:Menlo,'DejaVu Sans Mono',consolas,'Courier New',monospace\">Byte  <span style=\"color: #000080; text-decoration-color: #000080; font-weight: bold\">6</span>  Nibble <span style=\"color: #000080; text-decoration-color: #000080; font-weight: bold\">1</span>  -   Left Margin:   <span style=\"color: #000080; text-decoration-color: #000080; font-weight: bold\">126</span>  <span style=\"font-weight: bold\">(</span> <span style=\"color: #000080; text-decoration-color: #000080; font-weight: bold\">63</span> <span style=\"font-weight: bold\">)</span>  Center Point:   <span style=\"color: #000080; text-decoration-color: #000080; font-weight: bold\">186</span>  <span style=\"font-weight: bold\">(</span> <span style=\"color: #000080; text-decoration-color: #000080; font-weight: bold\">93</span> <span style=\"font-weight: bold\">)</span>  Right Margin:\n",
       "<span style=\"color: #000080; text-decoration-color: #000080; font-weight: bold\">126</span>  <span style=\"font-weight: bold\">(</span> <span style=\"color: #000080; text-decoration-color: #000080; font-weight: bold\">63</span> <span style=\"font-weight: bold\">)</span>\n",
       "</pre>\n"
      ],
      "text/plain": [
       "<rich.jupyter.JupyterRenderable at 0x7fa9c4323040>"
      ]
     },
     "metadata": {},
     "output_type": "display_data"
    },
    {
     "data": {
      "text/html": [
       "<pre style=\"white-space:pre;overflow-x:auto;line-height:normal;font-family:Menlo,'DejaVu Sans Mono',consolas,'Courier New',monospace\">Byte  <span style=\"color: #000080; text-decoration-color: #000080; font-weight: bold\">7</span>  Nibble <span style=\"color: #000080; text-decoration-color: #000080; font-weight: bold\">0</span>  -   Left Margin:   <span style=\"color: #000080; text-decoration-color: #000080; font-weight: bold\">133</span>  <span style=\"font-weight: bold\">(</span> <span style=\"color: #000080; text-decoration-color: #000080; font-weight: bold\">67</span> <span style=\"font-weight: bold\">)</span>  Center Point:   <span style=\"color: #000080; text-decoration-color: #000080; font-weight: bold\">178</span>  <span style=\"font-weight: bold\">(</span> <span style=\"color: #000080; text-decoration-color: #000080; font-weight: bold\">90</span> <span style=\"font-weight: bold\">)</span>  Right Margin:\n",
       "<span style=\"color: #000080; text-decoration-color: #000080; font-weight: bold\">133</span>  <span style=\"font-weight: bold\">(</span> <span style=\"color: #000080; text-decoration-color: #000080; font-weight: bold\">67</span> <span style=\"font-weight: bold\">)</span>\n",
       "</pre>\n"
      ],
      "text/plain": [
       "<rich.jupyter.JupyterRenderable at 0x7fa9c4323040>"
      ]
     },
     "metadata": {},
     "output_type": "display_data"
    },
    {
     "data": {
      "text/html": [
       "<pre style=\"white-space:pre;overflow-x:auto;line-height:normal;font-family:Menlo,'DejaVu Sans Mono',consolas,'Courier New',monospace\">Byte  <span style=\"color: #000080; text-decoration-color: #000080; font-weight: bold\">7</span>  Nibble <span style=\"color: #000080; text-decoration-color: #000080; font-weight: bold\">1</span>  -   Left Margin:   <span style=\"color: #000080; text-decoration-color: #000080; font-weight: bold\">134</span>  <span style=\"font-weight: bold\">(</span> <span style=\"color: #000080; text-decoration-color: #000080; font-weight: bold\">68</span> <span style=\"font-weight: bold\">)</span>  Center Point:   <span style=\"color: #000080; text-decoration-color: #000080; font-weight: bold\">178</span>  <span style=\"font-weight: bold\">(</span> <span style=\"color: #000080; text-decoration-color: #000080; font-weight: bold\">90</span> <span style=\"font-weight: bold\">)</span>  Right Margin:\n",
       "<span style=\"color: #000080; text-decoration-color: #000080; font-weight: bold\">136</span>  <span style=\"font-weight: bold\">(</span> <span style=\"color: #000080; text-decoration-color: #000080; font-weight: bold\">69</span> <span style=\"font-weight: bold\">)</span>\n",
       "</pre>\n"
      ],
      "text/plain": [
       "<rich.jupyter.JupyterRenderable at 0x7fa9c4323040>"
      ]
     },
     "metadata": {},
     "output_type": "display_data"
    },
    {
     "data": {
      "text/html": [
       "<pre style=\"white-space:pre;overflow-x:auto;line-height:normal;font-family:Menlo,'DejaVu Sans Mono',consolas,'Courier New',monospace\">\n",
       " Frequency <span style=\"color: #000080; text-decoration-color: #000080; font-weight: bold\">0</span>  - Read Margin - Complex Pattern - Falling Edge Clock in pS and <span style=\"font-weight: bold\">(</span>delay taps<span style=\"font-weight: bold\">)</span>:\n",
       "\n",
       "</pre>\n"
      ],
      "text/plain": [
       "<rich.jupyter.JupyterRenderable at 0x7fa9c45e5a00>"
      ]
     },
     "metadata": {},
     "output_type": "display_data"
    },
    {
     "data": {
      "text/html": [
       "<pre style=\"white-space:pre;overflow-x:auto;line-height:normal;font-family:Menlo,'DejaVu Sans Mono',consolas,'Courier New',monospace\">Byte  <span style=\"color: #000080; text-decoration-color: #000080; font-weight: bold\">0</span>  Nibble <span style=\"color: #000080; text-decoration-color: #000080; font-weight: bold\">0</span>  -   Left Margin:   <span style=\"color: #000080; text-decoration-color: #000080; font-weight: bold\">126</span>  <span style=\"font-weight: bold\">(</span> <span style=\"color: #000080; text-decoration-color: #000080; font-weight: bold\">62</span> <span style=\"font-weight: bold\">)</span>  Center Point:   <span style=\"color: #000080; text-decoration-color: #000080; font-weight: bold\">179</span>  <span style=\"font-weight: bold\">(</span> <span style=\"color: #000080; text-decoration-color: #000080; font-weight: bold\">88</span> <span style=\"font-weight: bold\">)</span>  Right Margin:\n",
       "<span style=\"color: #000080; text-decoration-color: #000080; font-weight: bold\">126</span>  <span style=\"font-weight: bold\">(</span> <span style=\"color: #000080; text-decoration-color: #000080; font-weight: bold\">62</span> <span style=\"font-weight: bold\">)</span>\n",
       "</pre>\n"
      ],
      "text/plain": [
       "<rich.jupyter.JupyterRenderable at 0x7fa9c4319250>"
      ]
     },
     "metadata": {},
     "output_type": "display_data"
    },
    {
     "data": {
      "text/html": [
       "<pre style=\"white-space:pre;overflow-x:auto;line-height:normal;font-family:Menlo,'DejaVu Sans Mono',consolas,'Courier New',monospace\">Byte  <span style=\"color: #000080; text-decoration-color: #000080; font-weight: bold\">0</span>  Nibble <span style=\"color: #000080; text-decoration-color: #000080; font-weight: bold\">1</span>  -   Left Margin:   <span style=\"color: #000080; text-decoration-color: #000080; font-weight: bold\">117</span>  <span style=\"font-weight: bold\">(</span> <span style=\"color: #000080; text-decoration-color: #000080; font-weight: bold\">57</span> <span style=\"font-weight: bold\">)</span>  Center Point:   <span style=\"color: #000080; text-decoration-color: #000080; font-weight: bold\">195</span>  <span style=\"font-weight: bold\">(</span> <span style=\"color: #000080; text-decoration-color: #000080; font-weight: bold\">95</span> <span style=\"font-weight: bold\">)</span>  Right Margin:\n",
       "<span style=\"color: #000080; text-decoration-color: #000080; font-weight: bold\">117</span>  <span style=\"font-weight: bold\">(</span> <span style=\"color: #000080; text-decoration-color: #000080; font-weight: bold\">57</span> <span style=\"font-weight: bold\">)</span>\n",
       "</pre>\n"
      ],
      "text/plain": [
       "<rich.jupyter.JupyterRenderable at 0x7fa9c4317d30>"
      ]
     },
     "metadata": {},
     "output_type": "display_data"
    },
    {
     "data": {
      "text/html": [
       "<pre style=\"white-space:pre;overflow-x:auto;line-height:normal;font-family:Menlo,'DejaVu Sans Mono',consolas,'Courier New',monospace\">Byte  <span style=\"color: #000080; text-decoration-color: #000080; font-weight: bold\">1</span>  Nibble <span style=\"color: #000080; text-decoration-color: #000080; font-weight: bold\">0</span>  -   Left Margin:   <span style=\"color: #000080; text-decoration-color: #000080; font-weight: bold\">125</span>  <span style=\"font-weight: bold\">(</span> <span style=\"color: #000080; text-decoration-color: #000080; font-weight: bold\">61</span> <span style=\"font-weight: bold\">)</span>  Center Point:   <span style=\"color: #000080; text-decoration-color: #000080; font-weight: bold\">183</span>  <span style=\"font-weight: bold\">(</span> <span style=\"color: #000080; text-decoration-color: #000080; font-weight: bold\">89</span> <span style=\"font-weight: bold\">)</span>  Right Margin:\n",
       "<span style=\"color: #000080; text-decoration-color: #000080; font-weight: bold\">125</span>  <span style=\"font-weight: bold\">(</span> <span style=\"color: #000080; text-decoration-color: #000080; font-weight: bold\">61</span> <span style=\"font-weight: bold\">)</span>\n",
       "</pre>\n"
      ],
      "text/plain": [
       "<rich.jupyter.JupyterRenderable at 0x7fa9c4322d30>"
      ]
     },
     "metadata": {},
     "output_type": "display_data"
    },
    {
     "data": {
      "text/html": [
       "<pre style=\"white-space:pre;overflow-x:auto;line-height:normal;font-family:Menlo,'DejaVu Sans Mono',consolas,'Courier New',monospace\">Byte  <span style=\"color: #000080; text-decoration-color: #000080; font-weight: bold\">1</span>  Nibble <span style=\"color: #000080; text-decoration-color: #000080; font-weight: bold\">1</span>  -   Left Margin:   <span style=\"color: #000080; text-decoration-color: #000080; font-weight: bold\">120</span>  <span style=\"font-weight: bold\">(</span> <span style=\"color: #000080; text-decoration-color: #000080; font-weight: bold\">60</span> <span style=\"font-weight: bold\">)</span>  Center Point:   <span style=\"color: #000080; text-decoration-color: #000080; font-weight: bold\">180</span>  <span style=\"font-weight: bold\">(</span> <span style=\"color: #000080; text-decoration-color: #000080; font-weight: bold\">90</span> <span style=\"font-weight: bold\">)</span>  Right Margin:\n",
       "<span style=\"color: #000080; text-decoration-color: #000080; font-weight: bold\">120</span>  <span style=\"font-weight: bold\">(</span> <span style=\"color: #000080; text-decoration-color: #000080; font-weight: bold\">60</span> <span style=\"font-weight: bold\">)</span>\n",
       "</pre>\n"
      ],
      "text/plain": [
       "<rich.jupyter.JupyterRenderable at 0x7fa9c4319250>"
      ]
     },
     "metadata": {},
     "output_type": "display_data"
    },
    {
     "data": {
      "text/html": [
       "<pre style=\"white-space:pre;overflow-x:auto;line-height:normal;font-family:Menlo,'DejaVu Sans Mono',consolas,'Courier New',monospace\">Byte  <span style=\"color: #000080; text-decoration-color: #000080; font-weight: bold\">2</span>  Nibble <span style=\"color: #000080; text-decoration-color: #000080; font-weight: bold\">0</span>  -   Left Margin:   <span style=\"color: #000080; text-decoration-color: #000080; font-weight: bold\">116</span>  <span style=\"font-weight: bold\">(</span> <span style=\"color: #000080; text-decoration-color: #000080; font-weight: bold\">58</span> <span style=\"font-weight: bold\">)</span>  Center Point:   <span style=\"color: #000080; text-decoration-color: #000080; font-weight: bold\">180</span>  <span style=\"font-weight: bold\">(</span> <span style=\"color: #000080; text-decoration-color: #000080; font-weight: bold\">90</span> <span style=\"font-weight: bold\">)</span>  Right Margin:\n",
       "<span style=\"color: #000080; text-decoration-color: #000080; font-weight: bold\">118</span>  <span style=\"font-weight: bold\">(</span> <span style=\"color: #000080; text-decoration-color: #000080; font-weight: bold\">59</span> <span style=\"font-weight: bold\">)</span>\n",
       "</pre>\n"
      ],
      "text/plain": [
       "<rich.jupyter.JupyterRenderable at 0x7fa9c4317d30>"
      ]
     },
     "metadata": {},
     "output_type": "display_data"
    },
    {
     "data": {
      "text/html": [
       "<pre style=\"white-space:pre;overflow-x:auto;line-height:normal;font-family:Menlo,'DejaVu Sans Mono',consolas,'Courier New',monospace\">Byte  <span style=\"color: #000080; text-decoration-color: #000080; font-weight: bold\">2</span>  Nibble <span style=\"color: #000080; text-decoration-color: #000080; font-weight: bold\">1</span>  -   Left Margin:   <span style=\"color: #000080; text-decoration-color: #000080; font-weight: bold\">117</span>  <span style=\"font-weight: bold\">(</span> <span style=\"color: #000080; text-decoration-color: #000080; font-weight: bold\">59</span> <span style=\"font-weight: bold\">)</span>  Center Point:   <span style=\"color: #000080; text-decoration-color: #000080; font-weight: bold\">174</span>  <span style=\"font-weight: bold\">(</span> <span style=\"color: #000080; text-decoration-color: #000080; font-weight: bold\">88</span> <span style=\"font-weight: bold\">)</span>  Right Margin:\n",
       "<span style=\"color: #000080; text-decoration-color: #000080; font-weight: bold\">117</span>  <span style=\"font-weight: bold\">(</span> <span style=\"color: #000080; text-decoration-color: #000080; font-weight: bold\">59</span> <span style=\"font-weight: bold\">)</span>\n",
       "</pre>\n"
      ],
      "text/plain": [
       "<rich.jupyter.JupyterRenderable at 0x7fa9c4322d30>"
      ]
     },
     "metadata": {},
     "output_type": "display_data"
    },
    {
     "data": {
      "text/html": [
       "<pre style=\"white-space:pre;overflow-x:auto;line-height:normal;font-family:Menlo,'DejaVu Sans Mono',consolas,'Courier New',monospace\">Byte  <span style=\"color: #000080; text-decoration-color: #000080; font-weight: bold\">3</span>  Nibble <span style=\"color: #000080; text-decoration-color: #000080; font-weight: bold\">0</span>  -   Left Margin:   <span style=\"color: #000080; text-decoration-color: #000080; font-weight: bold\">124</span>  <span style=\"font-weight: bold\">(</span> <span style=\"color: #000080; text-decoration-color: #000080; font-weight: bold\">62</span> <span style=\"font-weight: bold\">)</span>  Center Point:   <span style=\"color: #000080; text-decoration-color: #000080; font-weight: bold\">170</span>  <span style=\"font-weight: bold\">(</span> <span style=\"color: #000080; text-decoration-color: #000080; font-weight: bold\">85</span> <span style=\"font-weight: bold\">)</span>  Right Margin:\n",
       "<span style=\"color: #000080; text-decoration-color: #000080; font-weight: bold\">124</span>  <span style=\"font-weight: bold\">(</span> <span style=\"color: #000080; text-decoration-color: #000080; font-weight: bold\">62</span> <span style=\"font-weight: bold\">)</span>\n",
       "</pre>\n"
      ],
      "text/plain": [
       "<rich.jupyter.JupyterRenderable at 0x7fa9c4319250>"
      ]
     },
     "metadata": {},
     "output_type": "display_data"
    },
    {
     "data": {
      "text/html": [
       "<pre style=\"white-space:pre;overflow-x:auto;line-height:normal;font-family:Menlo,'DejaVu Sans Mono',consolas,'Courier New',monospace\">Byte  <span style=\"color: #000080; text-decoration-color: #000080; font-weight: bold\">3</span>  Nibble <span style=\"color: #000080; text-decoration-color: #000080; font-weight: bold\">1</span>  -   Left Margin:   <span style=\"color: #000080; text-decoration-color: #000080; font-weight: bold\">122</span>  <span style=\"font-weight: bold\">(</span> <span style=\"color: #000080; text-decoration-color: #000080; font-weight: bold\">61</span> <span style=\"font-weight: bold\">)</span>  Center Point:   <span style=\"color: #000080; text-decoration-color: #000080; font-weight: bold\">166</span>  <span style=\"font-weight: bold\">(</span> <span style=\"color: #000080; text-decoration-color: #000080; font-weight: bold\">83</span> <span style=\"font-weight: bold\">)</span>  Right Margin:\n",
       "<span style=\"color: #000080; text-decoration-color: #000080; font-weight: bold\">124</span>  <span style=\"font-weight: bold\">(</span> <span style=\"color: #000080; text-decoration-color: #000080; font-weight: bold\">62</span> <span style=\"font-weight: bold\">)</span>\n",
       "</pre>\n"
      ],
      "text/plain": [
       "<rich.jupyter.JupyterRenderable at 0x7fa9c4317d30>"
      ]
     },
     "metadata": {},
     "output_type": "display_data"
    },
    {
     "data": {
      "text/html": [
       "<pre style=\"white-space:pre;overflow-x:auto;line-height:normal;font-family:Menlo,'DejaVu Sans Mono',consolas,'Courier New',monospace\">Byte  <span style=\"color: #000080; text-decoration-color: #000080; font-weight: bold\">4</span>  Nibble <span style=\"color: #000080; text-decoration-color: #000080; font-weight: bold\">0</span>  -   Left Margin:   <span style=\"color: #000080; text-decoration-color: #000080; font-weight: bold\">119</span>  <span style=\"font-weight: bold\">(</span> <span style=\"color: #000080; text-decoration-color: #000080; font-weight: bold\">60</span> <span style=\"font-weight: bold\">)</span>  Center Point:   <span style=\"color: #000080; text-decoration-color: #000080; font-weight: bold\">174</span>  <span style=\"font-weight: bold\">(</span> <span style=\"color: #000080; text-decoration-color: #000080; font-weight: bold\">88</span> <span style=\"font-weight: bold\">)</span>  Right Margin:\n",
       "<span style=\"color: #000080; text-decoration-color: #000080; font-weight: bold\">121</span>  <span style=\"font-weight: bold\">(</span> <span style=\"color: #000080; text-decoration-color: #000080; font-weight: bold\">61</span> <span style=\"font-weight: bold\">)</span>\n",
       "</pre>\n"
      ],
      "text/plain": [
       "<rich.jupyter.JupyterRenderable at 0x7fa9c4322d30>"
      ]
     },
     "metadata": {},
     "output_type": "display_data"
    },
    {
     "data": {
      "text/html": [
       "<pre style=\"white-space:pre;overflow-x:auto;line-height:normal;font-family:Menlo,'DejaVu Sans Mono',consolas,'Courier New',monospace\">Byte  <span style=\"color: #000080; text-decoration-color: #000080; font-weight: bold\">4</span>  Nibble <span style=\"color: #000080; text-decoration-color: #000080; font-weight: bold\">1</span>  -   Left Margin:   <span style=\"color: #000080; text-decoration-color: #000080; font-weight: bold\">124</span>  <span style=\"font-weight: bold\">(</span> <span style=\"color: #000080; text-decoration-color: #000080; font-weight: bold\">61</span> <span style=\"font-weight: bold\">)</span>  Center Point:   <span style=\"color: #000080; text-decoration-color: #000080; font-weight: bold\">181</span>  <span style=\"font-weight: bold\">(</span> <span style=\"color: #000080; text-decoration-color: #000080; font-weight: bold\">89</span> <span style=\"font-weight: bold\">)</span>  Right Margin:\n",
       "<span style=\"color: #000080; text-decoration-color: #000080; font-weight: bold\">126</span>  <span style=\"font-weight: bold\">(</span> <span style=\"color: #000080; text-decoration-color: #000080; font-weight: bold\">62</span> <span style=\"font-weight: bold\">)</span>\n",
       "</pre>\n"
      ],
      "text/plain": [
       "<rich.jupyter.JupyterRenderable at 0x7fa9c4319250>"
      ]
     },
     "metadata": {},
     "output_type": "display_data"
    },
    {
     "data": {
      "text/html": [
       "<pre style=\"white-space:pre;overflow-x:auto;line-height:normal;font-family:Menlo,'DejaVu Sans Mono',consolas,'Courier New',monospace\">Byte  <span style=\"color: #000080; text-decoration-color: #000080; font-weight: bold\">5</span>  Nibble <span style=\"color: #000080; text-decoration-color: #000080; font-weight: bold\">0</span>  -   Left Margin:   <span style=\"color: #000080; text-decoration-color: #000080; font-weight: bold\">115</span>  <span style=\"font-weight: bold\">(</span> <span style=\"color: #000080; text-decoration-color: #000080; font-weight: bold\">59</span> <span style=\"font-weight: bold\">)</span>  Center Point:   <span style=\"color: #000080; text-decoration-color: #000080; font-weight: bold\">176</span>  <span style=\"font-weight: bold\">(</span> <span style=\"color: #000080; text-decoration-color: #000080; font-weight: bold\">90</span> <span style=\"font-weight: bold\">)</span>  Right Margin:\n",
       "<span style=\"color: #000080; text-decoration-color: #000080; font-weight: bold\">115</span>  <span style=\"font-weight: bold\">(</span> <span style=\"color: #000080; text-decoration-color: #000080; font-weight: bold\">59</span> <span style=\"font-weight: bold\">)</span>\n",
       "</pre>\n"
      ],
      "text/plain": [
       "<rich.jupyter.JupyterRenderable at 0x7fa9c4317d30>"
      ]
     },
     "metadata": {},
     "output_type": "display_data"
    },
    {
     "data": {
      "text/html": [
       "<pre style=\"white-space:pre;overflow-x:auto;line-height:normal;font-family:Menlo,'DejaVu Sans Mono',consolas,'Courier New',monospace\">Byte  <span style=\"color: #000080; text-decoration-color: #000080; font-weight: bold\">5</span>  Nibble <span style=\"color: #000080; text-decoration-color: #000080; font-weight: bold\">1</span>  -   Left Margin:   <span style=\"color: #000080; text-decoration-color: #000080; font-weight: bold\">126</span>  <span style=\"font-weight: bold\">(</span> <span style=\"color: #000080; text-decoration-color: #000080; font-weight: bold\">63</span> <span style=\"font-weight: bold\">)</span>  Center Point:   <span style=\"color: #000080; text-decoration-color: #000080; font-weight: bold\">186</span>  <span style=\"font-weight: bold\">(</span> <span style=\"color: #000080; text-decoration-color: #000080; font-weight: bold\">93</span> <span style=\"font-weight: bold\">)</span>  Right Margin:\n",
       "<span style=\"color: #000080; text-decoration-color: #000080; font-weight: bold\">126</span>  <span style=\"font-weight: bold\">(</span> <span style=\"color: #000080; text-decoration-color: #000080; font-weight: bold\">63</span> <span style=\"font-weight: bold\">)</span>\n",
       "</pre>\n"
      ],
      "text/plain": [
       "<rich.jupyter.JupyterRenderable at 0x7fa9c4322d30>"
      ]
     },
     "metadata": {},
     "output_type": "display_data"
    },
    {
     "data": {
      "text/html": [
       "<pre style=\"white-space:pre;overflow-x:auto;line-height:normal;font-family:Menlo,'DejaVu Sans Mono',consolas,'Courier New',monospace\">Byte  <span style=\"color: #000080; text-decoration-color: #000080; font-weight: bold\">6</span>  Nibble <span style=\"color: #000080; text-decoration-color: #000080; font-weight: bold\">0</span>  -   Left Margin:   <span style=\"color: #000080; text-decoration-color: #000080; font-weight: bold\">119</span>  <span style=\"font-weight: bold\">(</span> <span style=\"color: #000080; text-decoration-color: #000080; font-weight: bold\">60</span> <span style=\"font-weight: bold\">)</span>  Center Point:   <span style=\"color: #000080; text-decoration-color: #000080; font-weight: bold\">174</span>  <span style=\"font-weight: bold\">(</span> <span style=\"color: #000080; text-decoration-color: #000080; font-weight: bold\">88</span> <span style=\"font-weight: bold\">)</span>  Right Margin:\n",
       "<span style=\"color: #000080; text-decoration-color: #000080; font-weight: bold\">121</span>  <span style=\"font-weight: bold\">(</span> <span style=\"color: #000080; text-decoration-color: #000080; font-weight: bold\">61</span> <span style=\"font-weight: bold\">)</span>\n",
       "</pre>\n"
      ],
      "text/plain": [
       "<rich.jupyter.JupyterRenderable at 0x7fa9c4319250>"
      ]
     },
     "metadata": {},
     "output_type": "display_data"
    },
    {
     "data": {
      "text/html": [
       "<pre style=\"white-space:pre;overflow-x:auto;line-height:normal;font-family:Menlo,'DejaVu Sans Mono',consolas,'Courier New',monospace\">Byte  <span style=\"color: #000080; text-decoration-color: #000080; font-weight: bold\">6</span>  Nibble <span style=\"color: #000080; text-decoration-color: #000080; font-weight: bold\">1</span>  -   Left Margin:   <span style=\"color: #000080; text-decoration-color: #000080; font-weight: bold\">118</span>  <span style=\"font-weight: bold\">(</span> <span style=\"color: #000080; text-decoration-color: #000080; font-weight: bold\">58</span> <span style=\"font-weight: bold\">)</span>  Center Point:   <span style=\"color: #000080; text-decoration-color: #000080; font-weight: bold\">187</span>  <span style=\"font-weight: bold\">(</span> <span style=\"color: #000080; text-decoration-color: #000080; font-weight: bold\">92</span> <span style=\"font-weight: bold\">)</span>  Right Margin:\n",
       "<span style=\"color: #000080; text-decoration-color: #000080; font-weight: bold\">120</span>  <span style=\"font-weight: bold\">(</span> <span style=\"color: #000080; text-decoration-color: #000080; font-weight: bold\">59</span> <span style=\"font-weight: bold\">)</span>\n",
       "</pre>\n"
      ],
      "text/plain": [
       "<rich.jupyter.JupyterRenderable at 0x7fa9c4317d30>"
      ]
     },
     "metadata": {},
     "output_type": "display_data"
    },
    {
     "data": {
      "text/html": [
       "<pre style=\"white-space:pre;overflow-x:auto;line-height:normal;font-family:Menlo,'DejaVu Sans Mono',consolas,'Courier New',monospace\">Byte  <span style=\"color: #000080; text-decoration-color: #000080; font-weight: bold\">7</span>  Nibble <span style=\"color: #000080; text-decoration-color: #000080; font-weight: bold\">0</span>  -   Left Margin:   <span style=\"color: #000080; text-decoration-color: #000080; font-weight: bold\">126</span>  <span style=\"font-weight: bold\">(</span> <span style=\"color: #000080; text-decoration-color: #000080; font-weight: bold\">62</span> <span style=\"font-weight: bold\">)</span>  Center Point:   <span style=\"color: #000080; text-decoration-color: #000080; font-weight: bold\">177</span>  <span style=\"font-weight: bold\">(</span> <span style=\"color: #000080; text-decoration-color: #000080; font-weight: bold\">87</span> <span style=\"font-weight: bold\">)</span>  Right Margin:\n",
       "<span style=\"color: #000080; text-decoration-color: #000080; font-weight: bold\">126</span>  <span style=\"font-weight: bold\">(</span> <span style=\"color: #000080; text-decoration-color: #000080; font-weight: bold\">62</span> <span style=\"font-weight: bold\">)</span>\n",
       "</pre>\n"
      ],
      "text/plain": [
       "<rich.jupyter.JupyterRenderable at 0x7fa9c4322d30>"
      ]
     },
     "metadata": {},
     "output_type": "display_data"
    },
    {
     "data": {
      "text/html": [
       "<pre style=\"white-space:pre;overflow-x:auto;line-height:normal;font-family:Menlo,'DejaVu Sans Mono',consolas,'Courier New',monospace\">Byte  <span style=\"color: #000080; text-decoration-color: #000080; font-weight: bold\">7</span>  Nibble <span style=\"color: #000080; text-decoration-color: #000080; font-weight: bold\">1</span>  -   Left Margin:   <span style=\"color: #000080; text-decoration-color: #000080; font-weight: bold\">123</span>  <span style=\"font-weight: bold\">(</span> <span style=\"color: #000080; text-decoration-color: #000080; font-weight: bold\">62</span> <span style=\"font-weight: bold\">)</span>  Center Point:   <span style=\"color: #000080; text-decoration-color: #000080; font-weight: bold\">178</span>  <span style=\"font-weight: bold\">(</span> <span style=\"color: #000080; text-decoration-color: #000080; font-weight: bold\">90</span> <span style=\"font-weight: bold\">)</span>  Right Margin:\n",
       "<span style=\"color: #000080; text-decoration-color: #000080; font-weight: bold\">123</span>  <span style=\"font-weight: bold\">(</span> <span style=\"color: #000080; text-decoration-color: #000080; font-weight: bold\">62</span> <span style=\"font-weight: bold\">)</span>\n",
       "</pre>\n"
      ],
      "text/plain": [
       "<rich.jupyter.JupyterRenderable at 0x7fa9c4319250>"
      ]
     },
     "metadata": {},
     "output_type": "display_data"
    },
    {
     "data": {
      "text/html": [
       "<pre style=\"white-space:pre;overflow-x:auto;line-height:normal;font-family:Menlo,'DejaVu Sans Mono',consolas,'Courier New',monospace\">\n",
       " Frequency <span style=\"color: #000080; text-decoration-color: #000080; font-weight: bold\">0</span>  - Write Margin - Simple Pattern - Calibration Window in pS and <span style=\"font-weight: bold\">(</span>delay taps<span style=\"font-weight: bold\">)</span>:\n",
       "\n",
       "</pre>\n"
      ],
      "text/plain": [
       "<rich.jupyter.JupyterRenderable at 0x7fa9c42a9d30>"
      ]
     },
     "metadata": {},
     "output_type": "display_data"
    },
    {
     "data": {
      "text/html": [
       "<pre style=\"white-space:pre;overflow-x:auto;line-height:normal;font-family:Menlo,'DejaVu Sans Mono',consolas,'Courier New',monospace\">Byte  <span style=\"color: #000080; text-decoration-color: #000080; font-weight: bold\">0</span>   -  Left Margin:   <span style=\"color: #000080; text-decoration-color: #000080; font-weight: bold\">168</span>  <span style=\"font-weight: bold\">(</span> <span style=\"color: #000080; text-decoration-color: #000080; font-weight: bold\">83</span> <span style=\"font-weight: bold\">)</span>  Center Point:   <span style=\"color: #000080; text-decoration-color: #000080; font-weight: bold\">461</span>  <span style=\"font-weight: bold\">(</span> <span style=\"color: #000080; text-decoration-color: #000080; font-weight: bold\">227</span> <span style=\"font-weight: bold\">)</span>  Right Margin:   <span style=\"color: #000080; text-decoration-color: #000080; font-weight: bold\">128</span>  <span style=\"font-weight: bold\">(</span>\n",
       "<span style=\"color: #000080; text-decoration-color: #000080; font-weight: bold\">63</span> <span style=\"font-weight: bold\">)</span>\n",
       "</pre>\n"
      ],
      "text/plain": [
       "<rich.jupyter.JupyterRenderable at 0x7fa9c42a9d30>"
      ]
     },
     "metadata": {},
     "output_type": "display_data"
    },
    {
     "data": {
      "text/html": [
       "<pre style=\"white-space:pre;overflow-x:auto;line-height:normal;font-family:Menlo,'DejaVu Sans Mono',consolas,'Courier New',monospace\">Byte  <span style=\"color: #000080; text-decoration-color: #000080; font-weight: bold\">1</span>   -  Left Margin:   <span style=\"color: #000080; text-decoration-color: #000080; font-weight: bold\">179</span>  <span style=\"font-weight: bold\">(</span> <span style=\"color: #000080; text-decoration-color: #000080; font-weight: bold\">88</span> <span style=\"font-weight: bold\">)</span>  Center Point:   <span style=\"color: #000080; text-decoration-color: #000080; font-weight: bold\">576</span>  <span style=\"font-weight: bold\">(</span> <span style=\"color: #000080; text-decoration-color: #000080; font-weight: bold\">284</span> <span style=\"font-weight: bold\">)</span>  Right Margin:   <span style=\"color: #000080; text-decoration-color: #000080; font-weight: bold\">116</span>  <span style=\"font-weight: bold\">(</span>\n",
       "<span style=\"color: #000080; text-decoration-color: #000080; font-weight: bold\">57</span> <span style=\"font-weight: bold\">)</span>\n",
       "</pre>\n"
      ],
      "text/plain": [
       "<rich.jupyter.JupyterRenderable at 0x7fa9c42a9d30>"
      ]
     },
     "metadata": {},
     "output_type": "display_data"
    },
    {
     "data": {
      "text/html": [
       "<pre style=\"white-space:pre;overflow-x:auto;line-height:normal;font-family:Menlo,'DejaVu Sans Mono',consolas,'Courier New',monospace\">Byte  <span style=\"color: #000080; text-decoration-color: #000080; font-weight: bold\">2</span>   -  Left Margin:   <span style=\"color: #000080; text-decoration-color: #000080; font-weight: bold\">168</span>  <span style=\"font-weight: bold\">(</span> <span style=\"color: #000080; text-decoration-color: #000080; font-weight: bold\">84</span> <span style=\"font-weight: bold\">)</span>  Center Point:   <span style=\"color: #000080; text-decoration-color: #000080; font-weight: bold\">665</span>  <span style=\"font-weight: bold\">(</span> <span style=\"color: #000080; text-decoration-color: #000080; font-weight: bold\">332</span> <span style=\"font-weight: bold\">)</span>  Right Margin:   <span style=\"color: #000080; text-decoration-color: #000080; font-weight: bold\">120</span>  <span style=\"font-weight: bold\">(</span>\n",
       "<span style=\"color: #000080; text-decoration-color: #000080; font-weight: bold\">60</span> <span style=\"font-weight: bold\">)</span>\n",
       "</pre>\n"
      ],
      "text/plain": [
       "<rich.jupyter.JupyterRenderable at 0x7fa9c42a9d30>"
      ]
     },
     "metadata": {},
     "output_type": "display_data"
    },
    {
     "data": {
      "text/html": [
       "<pre style=\"white-space:pre;overflow-x:auto;line-height:normal;font-family:Menlo,'DejaVu Sans Mono',consolas,'Courier New',monospace\">Byte  <span style=\"color: #000080; text-decoration-color: #000080; font-weight: bold\">3</span>   -  Left Margin:   <span style=\"color: #000080; text-decoration-color: #000080; font-weight: bold\">151</span>  <span style=\"font-weight: bold\">(</span> <span style=\"color: #000080; text-decoration-color: #000080; font-weight: bold\">75</span> <span style=\"font-weight: bold\">)</span>  Center Point:   <span style=\"color: #000080; text-decoration-color: #000080; font-weight: bold\">161</span>  <span style=\"font-weight: bold\">(</span> <span style=\"color: #000080; text-decoration-color: #000080; font-weight: bold\">80</span> <span style=\"font-weight: bold\">)</span>  Right Margin:   <span style=\"color: #000080; text-decoration-color: #000080; font-weight: bold\">141</span>  <span style=\"font-weight: bold\">(</span> \n",
       "<span style=\"color: #000080; text-decoration-color: #000080; font-weight: bold\">70</span> <span style=\"font-weight: bold\">)</span>\n",
       "</pre>\n"
      ],
      "text/plain": [
       "<rich.jupyter.JupyterRenderable at 0x7fa9c42a9d30>"
      ]
     },
     "metadata": {},
     "output_type": "display_data"
    },
    {
     "data": {
      "text/html": [
       "<pre style=\"white-space:pre;overflow-x:auto;line-height:normal;font-family:Menlo,'DejaVu Sans Mono',consolas,'Courier New',monospace\">Byte  <span style=\"color: #000080; text-decoration-color: #000080; font-weight: bold\">4</span>   -  Left Margin:   <span style=\"color: #000080; text-decoration-color: #000080; font-weight: bold\">152</span>  <span style=\"font-weight: bold\">(</span> <span style=\"color: #000080; text-decoration-color: #000080; font-weight: bold\">75</span> <span style=\"font-weight: bold\">)</span>  Center Point:   <span style=\"color: #000080; text-decoration-color: #000080; font-weight: bold\">542</span>  <span style=\"font-weight: bold\">(</span> <span style=\"color: #000080; text-decoration-color: #000080; font-weight: bold\">267</span> <span style=\"font-weight: bold\">)</span>  Right Margin:   <span style=\"color: #000080; text-decoration-color: #000080; font-weight: bold\">148</span>  <span style=\"font-weight: bold\">(</span>\n",
       "<span style=\"color: #000080; text-decoration-color: #000080; font-weight: bold\">73</span> <span style=\"font-weight: bold\">)</span>\n",
       "</pre>\n"
      ],
      "text/plain": [
       "<rich.jupyter.JupyterRenderable at 0x7fa9c43d00a0>"
      ]
     },
     "metadata": {},
     "output_type": "display_data"
    },
    {
     "data": {
      "text/html": [
       "<pre style=\"white-space:pre;overflow-x:auto;line-height:normal;font-family:Menlo,'DejaVu Sans Mono',consolas,'Courier New',monospace\">Byte  <span style=\"color: #000080; text-decoration-color: #000080; font-weight: bold\">5</span>   -  Left Margin:   <span style=\"color: #000080; text-decoration-color: #000080; font-weight: bold\">162</span>  <span style=\"font-weight: bold\">(</span> <span style=\"color: #000080; text-decoration-color: #000080; font-weight: bold\">81</span> <span style=\"font-weight: bold\">)</span>  Center Point:   <span style=\"color: #000080; text-decoration-color: #000080; font-weight: bold\">573</span>  <span style=\"font-weight: bold\">(</span> <span style=\"color: #000080; text-decoration-color: #000080; font-weight: bold\">286</span> <span style=\"font-weight: bold\">)</span>  Right Margin:   <span style=\"color: #000080; text-decoration-color: #000080; font-weight: bold\">126</span>  <span style=\"font-weight: bold\">(</span>\n",
       "<span style=\"color: #000080; text-decoration-color: #000080; font-weight: bold\">63</span> <span style=\"font-weight: bold\">)</span>\n",
       "</pre>\n"
      ],
      "text/plain": [
       "<rich.jupyter.JupyterRenderable at 0x7fa9c4317d30>"
      ]
     },
     "metadata": {},
     "output_type": "display_data"
    },
    {
     "data": {
      "text/html": [
       "<pre style=\"white-space:pre;overflow-x:auto;line-height:normal;font-family:Menlo,'DejaVu Sans Mono',consolas,'Courier New',monospace\">Byte  <span style=\"color: #000080; text-decoration-color: #000080; font-weight: bold\">6</span>   -  Left Margin:   <span style=\"color: #000080; text-decoration-color: #000080; font-weight: bold\">162</span>  <span style=\"font-weight: bold\">(</span> <span style=\"color: #000080; text-decoration-color: #000080; font-weight: bold\">81</span> <span style=\"font-weight: bold\">)</span>  Center Point:   <span style=\"color: #000080; text-decoration-color: #000080; font-weight: bold\">581</span>  <span style=\"font-weight: bold\">(</span> <span style=\"color: #000080; text-decoration-color: #000080; font-weight: bold\">290</span> <span style=\"font-weight: bold\">)</span>  Right Margin:   <span style=\"color: #000080; text-decoration-color: #000080; font-weight: bold\">124</span>  <span style=\"font-weight: bold\">(</span>\n",
       "<span style=\"color: #000080; text-decoration-color: #000080; font-weight: bold\">62</span> <span style=\"font-weight: bold\">)</span>\n",
       "</pre>\n"
      ],
      "text/plain": [
       "<rich.jupyter.JupyterRenderable at 0x7fa9c4317d30>"
      ]
     },
     "metadata": {},
     "output_type": "display_data"
    },
    {
     "data": {
      "text/html": [
       "<pre style=\"white-space:pre;overflow-x:auto;line-height:normal;font-family:Menlo,'DejaVu Sans Mono',consolas,'Courier New',monospace\">Byte  <span style=\"color: #000080; text-decoration-color: #000080; font-weight: bold\">7</span>   -  Left Margin:   <span style=\"color: #000080; text-decoration-color: #000080; font-weight: bold\">169</span>  <span style=\"font-weight: bold\">(</span> <span style=\"color: #000080; text-decoration-color: #000080; font-weight: bold\">85</span> <span style=\"font-weight: bold\">)</span>  Center Point:   <span style=\"color: #000080; text-decoration-color: #000080; font-weight: bold\">626</span>  <span style=\"font-weight: bold\">(</span> <span style=\"color: #000080; text-decoration-color: #000080; font-weight: bold\">314</span> <span style=\"font-weight: bold\">)</span>  Right Margin:   <span style=\"color: #000080; text-decoration-color: #000080; font-weight: bold\">135</span>  <span style=\"font-weight: bold\">(</span>\n",
       "<span style=\"color: #000080; text-decoration-color: #000080; font-weight: bold\">68</span> <span style=\"font-weight: bold\">)</span>\n",
       "</pre>\n"
      ],
      "text/plain": [
       "<rich.jupyter.JupyterRenderable at 0x7fa9c4317d30>"
      ]
     },
     "metadata": {},
     "output_type": "display_data"
    },
    {
     "data": {
      "text/html": [
       "<pre style=\"white-space:pre;overflow-x:auto;line-height:normal;font-family:Menlo,'DejaVu Sans Mono',consolas,'Courier New',monospace\">\n",
       " Frequency <span style=\"color: #000080; text-decoration-color: #000080; font-weight: bold\">0</span>  - Write Margin - Complex Pattern - Calibration Window in pS and <span style=\"font-weight: bold\">(</span>delay taps<span style=\"font-weight: bold\">)</span>:\n",
       "\n",
       "</pre>\n"
      ],
      "text/plain": [
       "<rich.jupyter.JupyterRenderable at 0x7fa9c4575ac0>"
      ]
     },
     "metadata": {},
     "output_type": "display_data"
    },
    {
     "data": {
      "text/html": [
       "<pre style=\"white-space:pre;overflow-x:auto;line-height:normal;font-family:Menlo,'DejaVu Sans Mono',consolas,'Courier New',monospace\">Byte  <span style=\"color: #000080; text-decoration-color: #000080; font-weight: bold\">0</span>   -  Left Margin:   <span style=\"color: #000080; text-decoration-color: #000080; font-weight: bold\">146</span>  <span style=\"font-weight: bold\">(</span> <span style=\"color: #000080; text-decoration-color: #000080; font-weight: bold\">72</span> <span style=\"font-weight: bold\">)</span>  Center Point:   <span style=\"color: #000080; text-decoration-color: #000080; font-weight: bold\">461</span>  <span style=\"font-weight: bold\">(</span> <span style=\"color: #000080; text-decoration-color: #000080; font-weight: bold\">227</span> <span style=\"font-weight: bold\">)</span>  Right Margin:   <span style=\"color: #000080; text-decoration-color: #000080; font-weight: bold\">138</span>  <span style=\"font-weight: bold\">(</span>\n",
       "<span style=\"color: #000080; text-decoration-color: #000080; font-weight: bold\">68</span> <span style=\"font-weight: bold\">)</span>\n",
       "</pre>\n"
      ],
      "text/plain": [
       "<rich.jupyter.JupyterRenderable at 0x7fa9c44fbe50>"
      ]
     },
     "metadata": {},
     "output_type": "display_data"
    },
    {
     "data": {
      "text/html": [
       "<pre style=\"white-space:pre;overflow-x:auto;line-height:normal;font-family:Menlo,'DejaVu Sans Mono',consolas,'Courier New',monospace\">Byte  <span style=\"color: #000080; text-decoration-color: #000080; font-weight: bold\">1</span>   -  Left Margin:   <span style=\"color: #000080; text-decoration-color: #000080; font-weight: bold\">148</span>  <span style=\"font-weight: bold\">(</span> <span style=\"color: #000080; text-decoration-color: #000080; font-weight: bold\">73</span> <span style=\"font-weight: bold\">)</span>  Center Point:   <span style=\"color: #000080; text-decoration-color: #000080; font-weight: bold\">576</span>  <span style=\"font-weight: bold\">(</span> <span style=\"color: #000080; text-decoration-color: #000080; font-weight: bold\">284</span> <span style=\"font-weight: bold\">)</span>  Right Margin:   <span style=\"color: #000080; text-decoration-color: #000080; font-weight: bold\">128</span>  <span style=\"font-weight: bold\">(</span>\n",
       "<span style=\"color: #000080; text-decoration-color: #000080; font-weight: bold\">63</span> <span style=\"font-weight: bold\">)</span>\n",
       "</pre>\n"
      ],
      "text/plain": [
       "<rich.jupyter.JupyterRenderable at 0x7fa9c4319370>"
      ]
     },
     "metadata": {},
     "output_type": "display_data"
    },
    {
     "data": {
      "text/html": [
       "<pre style=\"white-space:pre;overflow-x:auto;line-height:normal;font-family:Menlo,'DejaVu Sans Mono',consolas,'Courier New',monospace\">Byte  <span style=\"color: #000080; text-decoration-color: #000080; font-weight: bold\">2</span>   -  Left Margin:   <span style=\"color: #000080; text-decoration-color: #000080; font-weight: bold\">144</span>  <span style=\"font-weight: bold\">(</span> <span style=\"color: #000080; text-decoration-color: #000080; font-weight: bold\">72</span> <span style=\"font-weight: bold\">)</span>  Center Point:   <span style=\"color: #000080; text-decoration-color: #000080; font-weight: bold\">665</span>  <span style=\"font-weight: bold\">(</span> <span style=\"color: #000080; text-decoration-color: #000080; font-weight: bold\">332</span> <span style=\"font-weight: bold\">)</span>  Right Margin:   <span style=\"color: #000080; text-decoration-color: #000080; font-weight: bold\">128</span>  <span style=\"font-weight: bold\">(</span>\n",
       "<span style=\"color: #000080; text-decoration-color: #000080; font-weight: bold\">64</span> <span style=\"font-weight: bold\">)</span>\n",
       "</pre>\n"
      ],
      "text/plain": [
       "<rich.jupyter.JupyterRenderable at 0x7fa9c4575ac0>"
      ]
     },
     "metadata": {},
     "output_type": "display_data"
    },
    {
     "data": {
      "text/html": [
       "<pre style=\"white-space:pre;overflow-x:auto;line-height:normal;font-family:Menlo,'DejaVu Sans Mono',consolas,'Courier New',monospace\">Byte  <span style=\"color: #000080; text-decoration-color: #000080; font-weight: bold\">3</span>   -  Left Margin:   <span style=\"color: #000080; text-decoration-color: #000080; font-weight: bold\">147</span>  <span style=\"font-weight: bold\">(</span> <span style=\"color: #000080; text-decoration-color: #000080; font-weight: bold\">73</span> <span style=\"font-weight: bold\">)</span>  Center Point:   <span style=\"color: #000080; text-decoration-color: #000080; font-weight: bold\">161</span>  <span style=\"font-weight: bold\">(</span> <span style=\"color: #000080; text-decoration-color: #000080; font-weight: bold\">80</span> <span style=\"font-weight: bold\">)</span>  Right Margin:   <span style=\"color: #000080; text-decoration-color: #000080; font-weight: bold\">125</span>  <span style=\"font-weight: bold\">(</span> \n",
       "<span style=\"color: #000080; text-decoration-color: #000080; font-weight: bold\">62</span> <span style=\"font-weight: bold\">)</span>\n",
       "</pre>\n"
      ],
      "text/plain": [
       "<rich.jupyter.JupyterRenderable at 0x7fa9c42a9160>"
      ]
     },
     "metadata": {},
     "output_type": "display_data"
    },
    {
     "data": {
      "text/html": [
       "<pre style=\"white-space:pre;overflow-x:auto;line-height:normal;font-family:Menlo,'DejaVu Sans Mono',consolas,'Courier New',monospace\">Byte  <span style=\"color: #000080; text-decoration-color: #000080; font-weight: bold\">4</span>   -  Left Margin:   <span style=\"color: #000080; text-decoration-color: #000080; font-weight: bold\">150</span>  <span style=\"font-weight: bold\">(</span> <span style=\"color: #000080; text-decoration-color: #000080; font-weight: bold\">74</span> <span style=\"font-weight: bold\">)</span>  Center Point:   <span style=\"color: #000080; text-decoration-color: #000080; font-weight: bold\">542</span>  <span style=\"font-weight: bold\">(</span> <span style=\"color: #000080; text-decoration-color: #000080; font-weight: bold\">267</span> <span style=\"font-weight: bold\">)</span>  Right Margin:   <span style=\"color: #000080; text-decoration-color: #000080; font-weight: bold\">122</span>  <span style=\"font-weight: bold\">(</span>\n",
       "<span style=\"color: #000080; text-decoration-color: #000080; font-weight: bold\">60</span> <span style=\"font-weight: bold\">)</span>\n",
       "</pre>\n"
      ],
      "text/plain": [
       "<rich.jupyter.JupyterRenderable at 0x7fa9c44fbe80>"
      ]
     },
     "metadata": {},
     "output_type": "display_data"
    },
    {
     "data": {
      "text/html": [
       "<pre style=\"white-space:pre;overflow-x:auto;line-height:normal;font-family:Menlo,'DejaVu Sans Mono',consolas,'Courier New',monospace\">Byte  <span style=\"color: #000080; text-decoration-color: #000080; font-weight: bold\">5</span>   -  Left Margin:   <span style=\"color: #000080; text-decoration-color: #000080; font-weight: bold\">144</span>  <span style=\"font-weight: bold\">(</span> <span style=\"color: #000080; text-decoration-color: #000080; font-weight: bold\">72</span> <span style=\"font-weight: bold\">)</span>  Center Point:   <span style=\"color: #000080; text-decoration-color: #000080; font-weight: bold\">573</span>  <span style=\"font-weight: bold\">(</span> <span style=\"color: #000080; text-decoration-color: #000080; font-weight: bold\">286</span> <span style=\"font-weight: bold\">)</span>  Right Margin:   <span style=\"color: #000080; text-decoration-color: #000080; font-weight: bold\">130</span>  <span style=\"font-weight: bold\">(</span>\n",
       "<span style=\"color: #000080; text-decoration-color: #000080; font-weight: bold\">65</span> <span style=\"font-weight: bold\">)</span>\n",
       "</pre>\n"
      ],
      "text/plain": [
       "<rich.jupyter.JupyterRenderable at 0x7fa9c4319370>"
      ]
     },
     "metadata": {},
     "output_type": "display_data"
    },
    {
     "data": {
      "text/html": [
       "<pre style=\"white-space:pre;overflow-x:auto;line-height:normal;font-family:Menlo,'DejaVu Sans Mono',consolas,'Courier New',monospace\">Byte  <span style=\"color: #000080; text-decoration-color: #000080; font-weight: bold\">6</span>   -  Left Margin:   <span style=\"color: #000080; text-decoration-color: #000080; font-weight: bold\">136</span>  <span style=\"font-weight: bold\">(</span> <span style=\"color: #000080; text-decoration-color: #000080; font-weight: bold\">68</span> <span style=\"font-weight: bold\">)</span>  Center Point:   <span style=\"color: #000080; text-decoration-color: #000080; font-weight: bold\">581</span>  <span style=\"font-weight: bold\">(</span> <span style=\"color: #000080; text-decoration-color: #000080; font-weight: bold\">290</span> <span style=\"font-weight: bold\">)</span>  Right Margin:   <span style=\"color: #000080; text-decoration-color: #000080; font-weight: bold\">132</span>  <span style=\"font-weight: bold\">(</span>\n",
       "<span style=\"color: #000080; text-decoration-color: #000080; font-weight: bold\">66</span> <span style=\"font-weight: bold\">)</span>\n",
       "</pre>\n"
      ],
      "text/plain": [
       "<rich.jupyter.JupyterRenderable at 0x7fa9c44fbe50>"
      ]
     },
     "metadata": {},
     "output_type": "display_data"
    },
    {
     "data": {
      "text/html": [
       "<pre style=\"white-space:pre;overflow-x:auto;line-height:normal;font-family:Menlo,'DejaVu Sans Mono',consolas,'Courier New',monospace\">Byte  <span style=\"color: #000080; text-decoration-color: #000080; font-weight: bold\">7</span>   -  Left Margin:   <span style=\"color: #000080; text-decoration-color: #000080; font-weight: bold\">151</span>  <span style=\"font-weight: bold\">(</span> <span style=\"color: #000080; text-decoration-color: #000080; font-weight: bold\">76</span> <span style=\"font-weight: bold\">)</span>  Center Point:   <span style=\"color: #000080; text-decoration-color: #000080; font-weight: bold\">626</span>  <span style=\"font-weight: bold\">(</span> <span style=\"color: #000080; text-decoration-color: #000080; font-weight: bold\">314</span> <span style=\"font-weight: bold\">)</span>  Right Margin:   <span style=\"color: #000080; text-decoration-color: #000080; font-weight: bold\">109</span>  <span style=\"font-weight: bold\">(</span>\n",
       "<span style=\"color: #000080; text-decoration-color: #000080; font-weight: bold\">55</span> <span style=\"font-weight: bold\">)</span>\n",
       "</pre>\n"
      ],
      "text/plain": [
       "<rich.jupyter.JupyterRenderable at 0x7fa9c42a9e20>"
      ]
     },
     "metadata": {},
     "output_type": "display_data"
    },
    {
     "name": "stdout",
     "output_type": "stream",
     "text": [
      "Report Done.\n",
      "\n"
     ]
    }
   ],
   "source": [
    "# Use a single report command to get all latest essential\n",
    "# Status and decoded data collected as it presents\n",
    "ddr.report()\n",
    "# Specify True to argument 1, and name/path to argument 2\n",
    "# to get the report output generated and saved to a file\n",
    "ddr.report(True, \"test_out.txt\")\n",
    "print(\"Report Done.\\n\")"
   ]
  },
  {
   "cell_type": "markdown",
   "id": "fa11477f",
   "metadata": {
    "papermill": {
     "duration": 0.028447,
     "end_time": "2023-06-07T21:05:10.190601",
     "exception": false,
     "start_time": "2023-06-07T21:05:10.162154",
     "status": "completed"
    },
    "tags": []
   },
   "source": [
    "## 8 - Dump the complete set of internal properties as json\n",
    "\n",
    "This demonstrates how to get a Python dictionary of all the low level DDR properties. These can be converted to JSON easily for export to other tools."
   ]
  },
  {
   "cell_type": "code",
   "execution_count": 11,
   "id": "392eef61",
   "metadata": {
    "execution": {
     "iopub.execute_input": "2023-06-07T21:05:10.251639Z",
     "iopub.status.busy": "2023-06-07T21:05:10.251286Z",
     "iopub.status.idle": "2023-06-07T21:05:10.368161Z",
     "shell.execute_reply": "2023-06-07T21:05:10.368490Z"
    },
    "papermill": {
     "duration": 0.150601,
     "end_time": "2023-06-07T21:05:10.368670",
     "exception": false,
     "start_time": "2023-06-07T21:05:10.218069",
     "status": "completed"
    },
    "tags": []
   },
   "outputs": [
    {
     "name": "stdout",
     "output_type": "stream",
     "text": [
      "{\n",
      "    \"f1_dqsgate_stg1_read_lat_rank0_byte1\": 0,\n",
      "    \"f1_wrdqdbi_left_edge_dq_bit30\": 0,\n",
      "    \"rdmargin_nqtr_left_nibble01\": 0,\n",
      "    \"rdmargin_pqtr_right_nibble14\": 0,\n",
      "    \"f0_rddq_idelay_final_bit39\": 77,\n",
      "    \"f0_wrdqdbi_stg3_dq_odly_bit04\": 57,\n",
      "    \"vttrack_rldlyqtr_max_nibble05\": 81,\n",
      "    \"f1_wrdqdbi_stg2_dq_odly_bit43\": 0,\n",
      "    \"f1_wrdqdbi_right_edge_dqs_byte5\": 0,\n",
      "    \"f1_rdcmplx_nqtr_right_short_nibble05\": 0,\n",
      "    \"f1_rdcmplx_pqtr_right_short_nibble00\": 0,\n",
      "    \"f0_mr0_8_0\": 336,\n",
      "    \"f1_calbisc_rl_dly_qtr_nibble00\": 0,\n",
      "    \"f1_wrlvl_fine_final_rank0_byte1\": 0,\n",
      "    \"f0_wrlvl_fine_left_rank0_byte3\": 62,\n",
      "    \"f0_wrdqdbi_odly_dqs_final_byte7\": 79,\n",
      "    \"f1_rdcmplx_pqtr_right_short_fcrse_nibble12\": 0,\n",
      "    \"f0_dqsgate_stg1_overflow_26\": 0,\n",
      "    \"rdmargin_pqtr_right_nibble08\": 0,\n",
      "    \"rdvref_right_vref_final_nibble03\": 0,\n",
      "    \"bisc_idly2_align_nibble04\": 68,\n",
      "    \"rdmargin_pqtr_right_nibble03\": 0,\n",
      "    \"cal_stage_time_34\": 0,\n",
      "    \"f1_rddq_pqtr_right_fcrse_nibble01\": 0,\n",
      "    \"f1_wrdqdbi_odly_dbi_final_byte3\": 0,\n",
      "    \"f0_wrcmplx_odly_dbi_final_byte1\": 61,\n",
      "    \"f1_wrdqdbi_stg3_dq_odly_bit22\": 0,\n",
      "    \"cal_pointer_stat\": 6,\n",
      "    \"f0_calbisc_rl_dly_pqtr_nibble05\": 78,\n",
      "    \"f1_dqsgate_stg1_rldlyrnk_crse_rank0_byte3\": 0,\n",
      "    \"f1_rddq_idelay_final_bit52\": 0,\n",
      "    \"dqstrack_rldlyrnk_fine_max_byte0\": 6,\n",
      "    \"rdvref_vref_final_nibble07\": 0,\n",
      "    \"f1_rddq_nqtr_final_nibble13\": 0,\n",
      "    \"f0_dqsgate_stg1_overflow_50\": 0,\n",
      "    \"cal_stage_time_28\": 0,\n",
      "    \"rdvref_vref_final_nibble09\": 0,\n",
      "    \"f0_wrdqdbi_odly_dq_final_bit37\": 98,\n",
      "    \"f1_rddq_pqtr_right_fcrse_nibble00\": 0,\n",
      "    \"f0_wrdqdbi_stg2_dq_odly_bit48\": 40,\n",
      "    \"cal_error_bit_phy_nibble_24\": 0,\n",
      "    \"bisc_idly5_align_nibble00\": 73,\n",
      "    \"phy_oe_nib25_dly\": 0,\n",
      "    \"f0_rdcmplx_pqtr_final_nibble04\": 89,\n",
      "    \"f0_rddq_pqtr_left_nibble08\": 18,\n",
      "    \"f1_rdcmplx_pqtr_left_nibble01\": 0,\n",
      "    \"f1_rdcmplx_pqtr_final_nibble07\": 0,\n",
      "    \"mgchk_enable\": 0,\n",
      "    \"rdvref_vref_low_bound_nibble13\": 0,\n",
      "    \"f0_rddq_pqtr_right_nibble04\": 165,\n",
      "    \"f0_wrdqdbi_stg3_dq_odly_bit51\": 40,\n",
      "    \"f0_rddq_idelay_final_bit09\": 81,\n",
      "    \"f1_rdcmplx_pqtr_left_nibble03\": 0,\n",
      "    \"f0_rddq_idelay_final_bit04\": 79,\n",
      "    \"f1_wrlvl_fine_left_rank0_byte2\": 0,\n",
      "    \"rdvref_right_vref_upp_bound_nibble10\": 0,\n",
      "    \"cal_error_msg\": \"None\",\n",
      "    \"rdvref_left_vref_upp_bound_nibble02\": 0,\n",
      "    \"f0_wrdqdbi_right_edge_dqs_byte1\": 110,\n",
      "    \"f0_wrdqdbi_odly_dq_final_bit63\": 67,\n",
      "    \"f0_wrlat_wldlyrnk_crse_final_rank0_byte5\": 3,\n",
      "    \"f0_rddq_nqtr_final_nibble14\": 97,\n",
      "    \"f1_wrlvl_fine_right_rank0_byte2\": 0,\n",
      "    \"f1_wrdqdbi_stg2_dq_odly_bit37\": 0,\n",
      "    \"f1_wrdqdbi_stg3_dq_odly_bit19\": 0,\n",
      "    \"vttrack_rldlyqtr_nibble08\": 78,\n",
      "    \"f1_wrdqdbi_odly_dqs_final_byte1\": 0,\n",
      "    \"vttrack_rldlyqtr_min_nibble11\": 74,\n",
      "    \"f1_rdcmplx_nqtr_final_nibble09\": 0,\n",
      "    \"f0_wrdqdbi_stg1_bit_status_byte6\": 0,\n",
      "    \"f1_wrcmplx_odly_dq_final_bit00\": 0,\n",
      "    \"f1_rddq_nqtr_right_nibble09\": 0,\n",
      "    \"f0_wrlat_xpi_oe_all_final\": 16,\n",
      "    \"mc_loc\": \"x0y0\",\n",
      "    \"cal_error_bit_phy_nibble_12\": 0,\n",
      "    \"rdvref_vref_low_bound_nibble05\": 0,\n",
      "    \"rdvref_left_vref_upp_bound_nibble03\": 0,\n",
      "    \"wrvref_right_vref_def_rank0_byte7\": 0,\n",
      "    \"f1_wrdqdbi_left_edge_dq_bit51\": 0,\n",
      "    \"f0_wrdqdbi_left_edge_dq_bit46\": 49,\n",
      "    \"f0_wrlat_phy_oe_nib_final_byte0\": 0,\n",
      "    \"f0_dqsgate_stg1_overflow_19\": 0,\n",
      "    \"f1_wrlvl_fine_left_rank0_byte4\": 0,\n",
      "    \"wrvref_vref_final_rank0_byte6\": 0,\n",
      "    \"f1_rdprbs_pqtr_left_margin_nibble11\": 0,\n",
      "    \"f0_rdprbs_nqtr_left_margin_nibble07\": 0,\n",
      "    \"f1_wrdqdbi_deskew_dq_odly_bit01\": 0,\n",
      "    \"bisc_nqtr_align_nibble09\": 0,\n",
      "    \"f1_rdcmplx_nqtr_final_nibble12\": 0,\n",
      "    \"bisc_idly0_align_nibble09\": 76,\n",
      "    \"bisc_idly3_align_nibble06\": 68,\n",
      "    \"f0_rd_comp_rise_rm_nib_06\": [\n",
      "        66,\n",
      "        132\n",
      "    ],\n",
      "    \"rdvref_right_vref_final_nibble09\": 0,\n",
      "    \"f1_wrcmplx_odly_dq_final_bit21\": 0,\n",
      "    \"rdvref_right_vref_def_nibble09\": 0,\n",
      "    \"f0_wrdqdbi_right_edge_dqs_byte5\": 115,\n",
      "    \"phy_rank_read_override\": 0,\n",
      "    \"f0_wrdqdbi_odly_dq_final_bit27\": 87,\n",
      "    \"f0_rddq_nqtr_final_nibble03\": 102,\n",
      "    \"f1_calbisc_rl_dly_qtr_nibble10\": 0,\n",
      "    \"f0_mr1_17_9\": 1,\n",
      "    \"f0_wrdqdbi_stg3_dq_odly_bit46\": 36,\n",
      "    \"f1_dqsgate_stg1_read_lat_rank0_byte3\": 0,\n",
      "    \"f1_wrdqdbi_deskew_dq_odly_fcrse_bit27\": 0,\n",
      "    \"cal_warning_71\": 0,\n",
      "    \"f0_rdprbs_nqtr_right_margin_nibble11\": 0,\n",
      "    \"f1_wrdqdbi_deskew_dbi_odly_byte7\": 0,\n",
      "    \"reg_safe_config2\": 1099088782,\n",
      "    \"f1_rdprbs_nqtr_right_margin_nibble09\": 0,\n",
      "    \"f1_wrdqdbi_left_edge_dq_bit25\": 0,\n",
      "    \"dqstrack_rldlyrnk_fine_max_byte5\": 37,\n",
      "    \"f0_wrlvl_noise_fcrse_rank0_byte7\": 65,\n",
      "    \"f0_rdcmplx_nqtr_left_short_nibble12\": 27,\n",
      "    \"f0_rddq_nqtr_left_nibble06\": 24,\n",
      "    \"cal_pre_status_8_0\": 255,\n",
      "    \"iobmap_dqs_6\": 0,\n",
      "    \"f0_wrdqdbi_deskew_dq_odly_fcrse_bit58\": 133,\n",
      "    \"rdvref_left_vref_def_nibble06\": 0,\n",
      "    \"bisc_idly1_align_nibble02\": 72,\n",
      "    \"f0_rdcmplx_pqtr_right_short_fcrse_nibble03\": 171,\n",
      "    \"f0_wrdqdbi_deskew_dbi_odly_fcrse_byte0\": 137,\n",
      "    \"f0_rdcmplx_nqtr_right_short_fcrse_nibble05\": 174,\n",
      "    \"f1_rddq_idelay_final_bit26\": 0,\n",
      "    \"f1_rdcmplx_nqtr_right_nibble03\": 0,\n",
      "    \"f0_rd_comp_rise_ctp_nib_01\": [\n",
      "        96,\n",
      "        195\n",
      "    ],\n",
      "    \"f0_wrdqdbi_left_edge_dq_bit52\": 48,\n",
      "    \"f1_wrdqdbi_stg3_dq_odly_bit55\": 0,\n",
      "    \"f0_wrcmplx_odly_dq_final_bit01\": 75,\n",
      "    \"f0_wrdqdbi_stg2_dq_odly_bit21\": 82,\n",
      "    \"bisc_nqtr_nibble05\": 79,\n",
      "    \"rdmargin_pqtr_right_nibble15\": 0,\n",
      "    \"f1_wrdqdbi_left_edge_dq_bit38\": 0,\n",
      "    \"f0_wrdqdbi_left_edge_dq_bit09\": 38,\n",
      "    \"f0_mr6_8_0\": 28,\n",
      "    \"f1_wrcmplx_odly_dq_final_bit61\": 0,\n",
      "    \"cal_seq_status_38\": 315,\n",
      "    \"dqstrack_rldlyrnk_fine_max_byte2\": 49,\n",
      "    \"reg_safe_config7\": 262696,\n",
      "    \"f0_wrdqdbi_stg2_dqs_odly_byte3\": 80,\n",
      "    \"cal_seq_status_40\": 445,\n",
      "    \"f0_lp4_mr23\": 0,\n",
      "    \"cal_status\": \"PASS\",\n",
      "    \"bisc_idly2_align_nibble11\": 77,\n",
      "    \"cal_seq_status_35\": 306,\n",
      "    \"cal_warning_59\": 0,\n",
      "    \"rdvref_right_vref_low_bound_nibble15\": 0,\n",
      "    \"f0_rdcmplx_pqtr_right_short_fcrse_nibble06\": 175,\n",
      "    \"f1_wrdqdbi_stg2_dq_odly_bit22\": 0,\n",
      "    \"mem_type\": 1,\n",
      "    \"dc1_perf_mon_1\": 0,\n",
      "    \"f0_rddq_idelay_final_bit40\": 77,\n",
      "    \"iobmap_dqs_17\": 0,\n",
      "    \"f0_calbisc_rl_dly_qtr_nibble07\": 77,\n",
      "    \"f0_rdcmplx_pqtr_right_nibble02\": 148,\n",
      "    \"cal_error_bit_phy_nibble_07\": 0,\n",
      "    \"f0_rd_comp_rise_lm_nib_07\": [\n",
      "        68,\n",
      "        138\n",
      "    ],\n",
      "    \"cal_warning_35\": 0,\n",
      "    \"f0_wrdqdbi_deskew_dq_odly_fcrse_bit29\": 144,\n",
      "    \"f1_wrdqdbi_odly_dqs_final_byte7\": 0,\n",
      "    \"f0_wrlvl_crse_final_rank0_byte5\": 3,\n",
      "    \"dual_freq_en\": 0,\n",
      "    \"f0_wrdqdbi_left_edge_dq_bit57\": 58,\n",
      "    \"f0_rdprbs_pqtr_right_margin_nibble01\": 0,\n",
      "    \"f1_wrcmplx_odly_dq_final_bit06\": 0,\n",
      "    \"f1_wrdqdbi_odly_dq_final_bit53\": 0,\n",
      "    \"f0_wrcmplx_left_margin_byte3\": 73,\n",
      "    \"f0_calbisc_rl_dly_qtr_nibble09\": 76,\n",
      "    \"rdmargin_pqtr_left_nibble11\": 0,\n",
      "    \"f1_wrlvl_crse_stg1_rank0_byte5\": 0,\n",
      "    \"f1_wrdqdbi_right_margin_fcrse_byte6\": 0,\n",
      "    \"f0_rd_comp_rise_lm_nib_11\": [\n",
      "        67,\n",
      "        138\n",
      "    ],\n",
      "    \"vttrack_rldlyqtr_max_nibble07\": 81,\n",
      "    \"rdvref_left_vref_def_nibble07\": 0,\n",
      "    \"f0_rdcmplx_nqtr_right_nibble07\": 145,\n",
      "    \"iobmap_dq_37_36\": 0,\n",
      "    \"f0_wrdqdbi_left_edge_dq_bit42\": 41,\n",
      "    \"f0_dram_2t_mode\": 0,\n",
      "    \"phy_rden11_dly\": 22,\n",
      "    \"f0_dqsgate_stg2_read_lat_rank0_byte3\": 26,\n",
      "    \"f1_calbisc_rl_dly_pqtr_nibble08\": 0,\n",
      "    \"f0_wrdqdbi_deskew_dq_odly_fcrse_bit60\": 143,\n",
      "    \"rdvref_left_vref_final_nibble00\": 0,\n",
      "    \"f1_dm_dbi_en\": 1,\n",
      "    \"cal_stage_ran\": 63,\n",
      "    \"lp4_dqs_osc_track_en\": 0,\n",
      "    \"dqstrack_rldlyrnk_fine_byte5\": 37,\n",
      "    \"f0_wrdqdbi_stg3_dq_odly_bit43\": 36,\n",
      "    \"f1_rddq_nqtr_right_fcrse_nibble09\": 0,\n",
      "    \"f0_dqsgate_stg2_read_lat_rank0_byte0\": 26,\n",
      "    \"f0_wrdqdbi_deskew_dbi_odly_fcrse_byte6\": 120,\n",
      "    \"f1_wrdqdbi_deskew_dq_odly_bit18\": 0,\n",
      "    \"cal_warning_32\": 0,\n",
      "    \"f0_wrlvl_fine_right_rank0_byte4\": 99,\n",
      "    \"f1_wrdqdbi_stg3_dq_odly_bit28\": 0,\n",
      "    \"dqs_track_en\": 1,\n",
      "    \"f0_rdcmplx_idelay_offset_nibble13\": 0,\n",
      "    \"f1_wrdqdbi_odly_dbi_final_byte5\": 0,\n",
      "    \"dqstrack_rldlyrnk_crse_byte7\": 5,\n",
      "    \"f0_calbisc_rl_dly_nqtr_nibble03\": 78,\n",
      "    \"rdvref_right_vref_def_nibble13\": 0,\n",
      "    \"f0_wr_simp_rm_byte_02\": [\n",
      "        60,\n",
      "        120\n",
      "    ],\n",
      "    \"cal_time_8_0\": 72,\n",
      "    \"f1_wrdqdbi_deskew_dq_odly_fcrse_bit62\": 0,\n",
      "    \"ub_data_ue\": 0,\n",
      "    \"f0_rddq_nqtr_left_nibble12\": 26,\n",
      "    \"f1_rddq_idelay_final_bit55\": 0,\n",
      "    \"f1_wrlat_phy_data_nib_final_byte2\": 0,\n",
      "    \"0x0e_F0_WRITE_LATENCY_CAL\": \"Pass\",\n",
      "    \"f1_wrcmplx_right_margin_fcrse_byte0\": 0,\n",
      "    \"f1_wrdqdbi_left_edge_dq_bit23\": 0,\n",
      "    \"f0_calbisc_rl_dly_pqtr_nibble03\": 78,\n",
      "    \"f0_dqsgate_stg1_rldlyrnk_crse_rank0_byte1\": 9,\n",
      "    \"rdvref_left_vref_final_nibble15\": 0,\n",
      "    \"f0_rddq_nqtr_right_fcrse_nibble11\": 183,\n",
      "    \"f0_wrdqdbi_deskew_dq_odly_fcrse_bit56\": 153,\n",
      "    \"cal_stage_time_27\": 0,\n",
      "    \"f0_wrdqdbi_left_margin_byte1\": 88,\n",
      "    \"f1_rdcmplx_nqtr_left_nibble10\": 0,\n",
      "    \"rdvref_right_vref_def_nibble10\": 0,\n",
      "    \"f1_rdcmplx_nqtr_right_short_nibble00\": 0,\n",
      "    \"pcsr_lock\": 1,\n",
      "    \"bisc_idly2_align_nibble03\": 77,\n",
      "    \"f0_dqsgate_stg1_overflow_13\": 0,\n",
      "    \"phy_rden17_dly\": 22,\n",
      "    \"f0_rddq_idelay_final_bit02\": 77,\n",
      "    \"f1_rdcmplx_idelay_offset_nibble02\": 0,\n",
      "    \"f0_rdcmplx_pqtr_left_short_nibble10\": 26,\n",
      "    \"rdvref_vref_upp_bound_nibble04\": 0,\n",
      "    \"f0_rd_simp_fall_rm_nib_11\": [\n",
      "        74,\n",
      "        148\n",
      "    ],\n",
      "    \"f1_wrdqdbi_left_margin_byte0\": 0,\n",
      "    \"f0_rddq_idelay_final_bit26\": 66,\n",
      "    \"f1_calbisc_rl_dly_pqtr_nibble15\": 0,\n",
      "    \"f0_dqsgate_stg2_read_lat_rank0_byte2\": 26,\n",
      "    \"f0_wr_comp_ctp_byte_03\": [\n",
      "        80,\n",
      "        161\n",
      "    ],\n",
      "    \"f0_rd_comp_rise_ctp_nib_11\": [\n",
      "        92,\n",
      "        189\n",
      "    ],\n",
      "    \"f0_wrdqdbi_odly_dq_final_bit59\": 76,\n",
      "    \"dqstrack_rldlyrnk_crse_min_byte1\": 5,\n",
      "    \"f0_rdprbs_nqtr_right_margin_nibble15\": 0,\n",
      "    \"f1_wrprbs_right_margin_byte7\": 0,\n",
      "    \"f1_dqsgate_read_lat_final_byte3\": 0,\n",
      "    \"cal_stage_time_60\": 18,\n",
      "    \"cal_post_status_04\": 0,\n",
      "    \"f0_rdprbs_nqtr_left_margin_nibble02\": 0,\n",
      "    \"f0_wrdqdbi_odly_dq_final_bit56\": 80,\n",
      "    \"f1_rddq_nqtr_right_fcrse_nibble11\": 0,\n",
      "    \"f1_rdcmplx_nqtr_right_short_fcrse_nibble05\": 0,\n",
      "    \"f0_wrdqdbi_deskew_dq_odly_bit46\": 130,\n",
      "    \"cal_stage_time_23\": 0,\n",
      "    \"cal_warning_00\": 0,\n",
      "    \"f0_wrdqdbi_odly_dq_final_bit58\": 66,\n",
      "    \"f0_rddq_nqtr_final_nibble01\": 103,\n",
      "    \"f1_rdcmplx_pqtr_left_short_nibble09\": 0,\n",
      "    \"f0_rd_simp_rise_rm_nib_10\": [\n",
      "        75,\n",
      "        148\n",
      "    ],\n",
      "    \"f1_wrdqdbi_deskew_dq_odly_fcrse_bit01\": 0,\n",
      "    \"iobmap_dq_25_24\": 0,\n",
      "    \"f0_wrcmplx_right_margin_byte5\": 65,\n",
      "    \"f0_wrdqdbi_deskew_dq_odly_bit29\": 150,\n",
      "    \"f1_rddq_pqtr_right_nibble08\": 0,\n",
      "    \"f1_wrdqdbi_stg2_dq_odly_bit46\": 0,\n",
      "    \"f0_wrdqdbi_stg1_bit_status_byte5\": 0,\n",
      "    \"f0_wrdqdbi_left_edge_dq_bit37\": 97,\n",
      "    \"rdvref_left_vref_low_bound_nibble07\": 0,\n",
      "    \"rdvref_vref_upp_bound_nibble00\": 0,\n",
      "    \"f0_rddq_pqtr_right_fcrse_nibble04\": 173,\n",
      "    \"f1_wrdqdbi_stg5_dqs_odly_byte0\": 0,\n",
      "    \"f1_dqsgate_stg1_overflow_42\": 0,\n",
      "    \"f1_rdcmplx_nqtr_right_nibble04\": 0,\n",
      "    \"vttrack_rldlyqtr_nibble14\": 77,\n",
      "    \"f0_wrdqdbi_odly_dq_final_bit44\": 59,\n",
      "    \"f1_dqsgate_stg1_overflow_36\": 0,\n",
      "    \"cal_seq_status_16\": 274,\n",
      "    \"f0_rd_comp_rise_ctp_nib_13\": [\n",
      "        93,\n",
      "        186\n",
      "    ],\n",
      "    \"f0_rddq_nqtr_right_nibble14\": 170,\n",
      "    \"f1_wrdqdbi_deskew_dq_odly_bit09\": 0,\n",
      "    \"f0_rdcmplx_nqtr_right_short_nibble14\": 163,\n",
      "    \"phy_oe_nib8_dly\": 0,\n",
      "    \"f0_wrdqdbi_deskew_dq_odly_fcrse_bit05\": 147,\n",
      "    \"f1_rddq_idelay_final_bit08\": 0,\n",
      "    \"f0_wrdqdbi_deskew_dq_odly_fcrse_bit48\": 130,\n",
      "    \"f0_calbisc_rl_dly_nqtr_nibble13\": 77,\n",
      "    \"f0_wrdqdbi_deskew_dq_odly_bit63\": 144,\n",
      "    \"f0_wr_simp_rm_byte_00\": [\n",
      "        63,\n",
      "        128\n",
      "    ],\n",
      "    \"f1_wrcmplx_odly_dqs_final_byte6\": 0,\n",
      "    \"cal_stage_time_17\": 141,\n",
      "    \"f1_wrdqdbi_deskew_dq_odly_bit44\": 0,\n",
      "    \"f1_wrdqdbi_deskew_dq_odly_bit03\": 0,\n",
      "    \"cal_warning_43\": 0,\n",
      "    \"f0_rddq_nqtr_right_fcrse_nibble10\": 185,\n",
      "    \"f1_rdprbs_pqtr_left_margin_nibble02\": 0,\n",
      "    \"f1_rdcmplx_idelay_offset_nibble14\": 0,\n",
      "    \"f1_rddq_nqtr_final_nibble12\": 0,\n",
      "    \"f1_mr0_8_0\": 0,\n",
      "    \"vttrack_rldlyqtr_nibble06\": 78,\n",
      "    \"wrvref_left_vref_low_bound_rank0_byte5\": 0,\n",
      "    \"f0_calbisc_rl_dly_nqtr_nibble07\": 78,\n",
      "    \"f0_dqsgate_stg1_overflow_34\": 0,\n",
      "    \"f0_wr_comp_rm_byte_01\": [\n",
      "        63,\n",
      "        128\n",
      "    ],\n",
      "    \"iobmap_dq_17_16\": 0,\n",
      "    \"f1_wrprbs_left_margin_byte0\": 0,\n",
      "    \"rdmargin_nqtr_right_nibble03\": 0,\n",
      "    \"f0_rd_comp_rise_lm_nib_02\": [\n",
      "        62,\n",
      "        127\n",
      "    ],\n",
      "    \"f1_rdcmplx_nqtr_right_short_nibble07\": 0,\n",
      "    \"f1_wrdqdbi_odly_dq_final_bit02\": 0,\n",
      "    \"cal_stage_time_52\": 0,\n",
      "    \"f0_rdcmplx_pqtr_left_short_nibble02\": 23,\n",
      "    \"f1_rddq_pqtr_right_nibble09\": 0,\n",
      "    \"f0_rddq_pqtr_left_nibble06\": 18,\n",
      "    \"f1_wrdqdbi_odly_dqs_final_byte2\": 0,\n",
      "    \"f0_rddq_pqtr_right_nibble12\": 168,\n",
      "    \"f0_rd_comp_rise_ctp_nib_02\": [\n",
      "        86,\n",
      "        177\n",
      "    ],\n",
      "    \"f1_rddq_nqtr_right_fcrse_nibble02\": 0,\n",
      "    \"dqs_gate_underflow\": 0,\n",
      "    \"f1_rdcmplx_nqtr_final_nibble10\": 0,\n",
      "    \"rdvref_right_vref_low_bound_nibble08\": 0,\n",
      "    \"f0_rd_simp_rise_rm_nib_02\": [\n",
      "        75,\n",
      "        154\n",
      "    ],\n",
      "    \"f0_calbisc_rl_dly_pqtr_nibble08\": 78,\n",
      "    \"f0_rd_comp_fall_rm_nib_12\": [\n",
      "        61,\n",
      "        121\n",
      "    ],\n",
      "    \"f0_calbisc_rl_dly_nqtr_nibble10\": 80,\n",
      "    \"f1_wrdqdbi_odly_dq_final_bit32\": 0,\n",
      "    \"f1_dqsgate_rldlyrnk_crse_final_rank0_byte6\": 0,\n",
      "    \"f1_calbisc_rl_dly_qtr_nibble04\": 0,\n",
      "    \"f0_dqsgate_read_lat_final_byte1\": 26,\n",
      "    \"f1_wrdqdbi_right_margin_byte1\": 0,\n",
      "    \"f1_wrdqdbi_odly_dq_final_bit59\": 0,\n",
      "    \"f0_rdcmplx_nqtr_right_short_nibble09\": 169,\n",
      "    \"f1_rddq_nqtr_final_nibble01\": 0,\n",
      "    \"f1_wrdqdbi_odly_dq_final_bit31\": 0,\n",
      "    \"cal_seq_status_32\": 303,\n",
      "    \"rdvref_left_vref_upp_bound_nibble05\": 0,\n",
      "    \"f0_rdcmplx_nqtr_left_nibble00\": 26,\n",
      "    \"f1_wrdqdbi_odly_dq_final_bit18\": 0,\n",
      "    \"f1_wrdqdbi_odly_dq_final_bit13\": 0,\n",
      "    \"f0_wrdqdbi_deskew_dq_odly_fcrse_bit17\": 162,\n",
      "    \"f0_wrdqdbi_stg1_bit_status_byte2\": 0,\n",
      "    \"ddrmc_pcsr_status_caldone\": 1,\n",
      "    \"f1_wrdqdbi_deskew_dq_odly_bit48\": 0,\n",
      "    \"rdvref_vref_low_bound_nibble07\": 0,\n",
      "    \"f0_wrlvl_offset_rank0_byte4\": 79,\n",
      "    \"f0_dqsgate_rldlyrnk_crse_final_rank0_byte1\": 1,\n",
      "    \"f0_rdcmplx_nqtr_left_nibble11\": 30,\n",
      "    \"rdvref_left_vref_final_nibble12\": 0,\n",
      "    \"cal_seq_status_07\": 265,\n",
      "    \"mc_index\": \"0\",\n",
      "    \"f1_wrdqdbi_stg3_dq_odly_bit20\": 0,\n",
      "    \"f0_wrdqdbi_stg1_bit_status_byte1\": 0,\n",
      "    \"f0_rdcmplx_nqtr_right_short_nibble00\": 164,\n",
      "    \"cal_error_bit_phy_nibble_26\": 0,\n",
      "    \"f1_rdcmplx_pqtr_right_short_fcrse_nibble13\": 0,\n",
      "    \"rdvref_right_vref_upp_bound_nibble02\": 0,\n",
      "    \"f1_wrdqdbi_deskew_dq_odly_fcrse_bit09\": 0,\n",
      "    \"f1_wrcmplx_odly_dq_final_bit35\": 0,\n",
      "    \"f0_rdcmplx_nqtr_left_short_nibble13\": 33,\n",
      "    \"f0_wrdqdbi_stg3_dq_odly_bit36\": 97,\n",
      "    \"f1_dqsgate_read_lat_final_byte6\": 0,\n",
      "    \"f0_wrprbs_right_margin_byte1\": 0,\n",
      "    \"cal_stage_time_29\": 0,\n",
      "    \"f1_wrdqdbi_stg3_dq_odly_bit35\": 0,\n",
      "    \"f1_wrdqdbi_deskew_dq_odly_fcrse_bit38\": 0,\n",
      "    \"f1_wrlat_phy_data_nib_final_byte7\": 0,\n",
      "    \"f1_rdprbs_pqtr_left_margin_nibble09\": 0,\n",
      "    \"f1_wrdqdbi_deskew_dq_odly_fcrse_bit57\": 0,\n",
      "    \"f0_rdcmplx_nqtr_right_short_fcrse_nibble02\": 173,\n",
      "    \"iobmap_dq_19_18\": 0,\n",
      "    \"f1_wrdqdbi_deskew_dq_odly_bit19\": 0,\n",
      "    \"f1_rdcmplx_pqtr_left_nibble04\": 0,\n",
      "    \"f0_rdcmplx_pqtr_right_nibble12\": 154,\n",
      "    \"f0_rdcmplx_nqtr_right_nibble08\": 149,\n",
      "    \"f1_rdcmplx_pqtr_final_nibble14\": 0,\n",
      "    \"f0_wrdqdbi_stg3_dq_odly_bit57\": 63,\n",
      "    \"f0_wrdqdbi_left_edge_dq_bit16\": 98,\n",
      "    \"f0_rdcmplx_nqtr_right_nibble09\": 151,\n",
      "    \"f0_wr_simp_rm_byte_05\": [\n",
      "        63,\n",
      "        126\n",
      "    ],\n",
      "    \"pcsr_control_ub_init\": 1,\n",
      "    \"f0_rd_comp_fall_ctp_nib_02\": [\n",
      "        89,\n",
      "        183\n",
      "    ],\n",
      "    \"cal_warning_33\": 0,\n",
      "    \"f1_dqsgate_stg1_rldlyrnk_crse_rank0_byte5\": 0,\n",
      "    \"f0_rd_comp_fall_ctp_nib_00\": [\n",
      "        88,\n",
      "        179\n",
      "    ],\n",
      "    \"iobmap_dq_23_22\": 0,\n",
      "    \"f0_rddq_nqtr_right_nibble12\": 175,\n",
      "    \"f1_wrcmplx_left_margin_byte2\": 0,\n",
      "    \"f0_wrlat_wldlyrnk_crse_final_rank0_byte7\": 3,\n",
      "    \"f1_wrdqdbi_deskew_dq_odly_bit17\": 0,\n",
      "    \"f0_rdprbs_nqtr_right_margin_nibble14\": 0,\n",
      "    \"f1_wrdqdbi_stg4_byte_status_01\": 0,\n",
      "    \"f1_wrdqdbi_odly_dq_final_bit01\": 0,\n",
      "    \"f1_wrcmplx_odly_dq_final_bit49\": 0,\n",
      "    \"cal_seq_status_24\": 295,\n",
      "    \"cal_warning_28\": 0,\n",
      "    \"f0_wrdqdbi_stg2_dq_odly_bit25\": 64,\n",
      "    \"f0_wrdqdbi_stg3_dq_odly_bit14\": 37,\n",
      "    \"rdmargin_nqtr_right_nibble02\": 0,\n",
      "    \"cal_error_bit_phy_nibble_17\": 0,\n",
      "    \"f1_wrdqdbi_stg3_dq_odly_bit32\": 0,\n",
      "    \"f0_wrdqdbi_left_edge_dq_bit28\": 65,\n",
      "    \"f1_wrdqdbi_deskew_dq_odly_fcrse_bit59\": 0,\n",
      "    \"f1_wrdqdbi_left_edge_dq_bit37\": 0,\n",
      "    \"f0_rdcmplx_pqtr_left_nibble03\": 26,\n",
      "    \"f1_rdcmplx_pqtr_left_short_nibble15\": 0,\n",
      "    \"f0_wrdqdbi_stg3_dq_odly_bit50\": 40,\n",
      "    \"rdvref_vref_final_nibble14\": 0,\n",
      "    \"cal_post_status_tracking\": 1,\n",
      "    \"f0_dqsgate_stg1_overflow_37\": 0,\n",
      "    \"f1_wrlvl_fine_left_rank0_byte6\": 0,\n",
      "    \"f0_rd_comp_rise_lm_nib_03\": [\n",
      "        62,\n",
      "        124\n",
      "    ],\n",
      "    \"traf_power_down_en\": 0,\n",
      "    \"f0_rddq_nqtr_right_nibble01\": 172,\n",
      "    \"bisc_idly5_align_nibble04\": 73,\n",
      "    \"f0_wrdqdbi_left_edge_dq_bit26\": 74,\n",
      "    \"f0_wrdqdbi_right_edge_dqs_byte2\": 158,\n",
      "    \"f0_wrcmplx_odly_dqs_final_byte4\": 113,\n",
      "    \"f1_calbisc_rl_dly_nqtr_nibble13\": 0,\n",
      "    \"f0_wrdqdbi_left_edge_dq_bit43\": 30,\n",
      "    \"f0_rd_simp_rise_lm_nib_13\": [\n",
      "        75,\n",
      "        150\n",
      "    ],\n",
      "    \"f1_wrdqdbi_stg3_dq_odly_bit57\": 0,\n",
      "    \"rdvref_vref_upp_bound_nibble01\": 0,\n",
      "    \"f1_wrdqdbi_deskew_dq_odly_fcrse_bit22\": 0,\n",
      "    \"f0_rddq_pqtr_final_nibble06\": 92,\n",
      "    \"f0_rddq_nqtr_left_nibble08\": 26,\n",
      "    \"f0_wrdqdbi_deskew_dq_odly_bit20\": 177,\n",
      "    \"vttrack_rldlyqtr_min_nibble05\": 74,\n",
      "    \"f1_wrlvl_fine_right_rank0_byte4\": 0,\n",
      "    \"f0_wrcmplx_odly_dq_final_bit47\": 47,\n",
      "    \"f1_dqsgate_stg1_overflow_25\": 0,\n",
      "    \"mgchk_unit\": 0,\n",
      "    \"f1_rddq_idelay_final_bit57\": 0,\n",
      "    \"f0_wrdqdbi_stg3_dq_odly_bit20\": 82,\n",
      "    \"f1_wrlvl_fine_final_rank0_byte2\": 0,\n",
      "    \"f0_rddq_qtr_deskew_nibble01\": 1,\n",
      "    \"f0_rddq_pqtr_final_nibble14\": 92,\n",
      "    \"f0_dqsgate_stg1_overflow_47\": 0,\n",
      "    \"f1_dqsgate_read_lat_final_byte2\": 0,\n",
      "    \"f1_rdcmplx_pqtr_left_nibble05\": 0,\n",
      "    \"bisc_idly1_align_nibble07\": 77,\n",
      "    \"f1_rdcmplx_nqtr_left_nibble05\": 0,\n",
      "    \"cal_stage_time_03\": 0,\n",
      "    \"f1_rdcmplx_nqtr_right_nibble05\": 0,\n",
      "    \"f1_rdcmplx_pqtr_final_nibble06\": 0,\n",
      "    \"f0_calbisc_rl_dly_nqtr_nibble06\": 78,\n",
      "    \"rdvref_left_vref_def_nibble00\": 0,\n",
      "    \"f0_wr_comp_ctp_byte_04\": [\n",
      "        267,\n",
      "        542\n",
      "    ],\n",
      "    \"f0_wrdqdbi_stg2_dqs_odly_byte6\": 56,\n",
      "    \"f1_wrdqdbi_stg2_dq_odly_bit45\": 0,\n",
      "    \"cal_stage_time_33\": 0,\n",
      "    \"f0_dqsgate_read_lat_final_byte3\": 26,\n",
      "    \"phy_oe_nib13_dly\": 0,\n",
      "    \"f0_wrcmplx_odly_dq_final_bit61\": 81,\n",
      "    \"f1_rdprbs_nqtr_left_margin_nibble15\": 0,\n",
      "    \"f0_rddq_idelay_final_bit59\": 77,\n",
      "    \"f0_wrdqdbi_stg2_dq_odly_bit16\": 82,\n",
      "    \"f0_wrdqdbi_stg2_dq_odly_bit38\": 97,\n",
      "    \"bisc_nqtr_align_nibble06\": 0,\n",
      "    \"dqstrack_rldlyrnk_fine_byte7\": 24,\n",
      "    \"f0_rddq_qtr_deskew_nibble00\": 1,\n",
      "    \"ddrmc_pcsr_status_calerror\": 0,\n",
      "    \"f1_dqsgate_stg1_read_lat_rank0_byte5\": 0,\n",
      "    \"f0_wrdqdbi_stg3_dq_odly_bit11\": 37,\n",
      "    \"bisc_idly5_align_nibble11\": 83,\n",
      "    \"f0_rdprbs_nqtr_left_margin_nibble09\": 0,\n",
      "    \"bisc_pqtr_align_nibble05\": 0,\n",
      "    \"f0_wrcmplx_odly_dq_final_bit30\": 85,\n",
      "    \"rdmargin_pqtr_left_nibble02\": 0,\n",
      "    \"f0_rd_comp_fall_ctp_nib_12\": [\n",
      "        88,\n",
      "        174\n",
      "    ],\n",
      "    \"cal_error_bit_phy_nibble_23\": 0,\n",
      "    \"f0_wrdqdbi_odly_dq_final_bit25\": 71,\n",
      "    \"dc1_perf_mon_8\": 0,\n",
      "    \"rdvref_left_vref_def_nibble01\": 0,\n",
      "    \"f0_wrdqdbi_stg2_dq_odly_bit26\": 64,\n",
      "    \"f1_wrdqdbi_left_edge_dq_bit14\": 0,\n",
      "    \"f1_wrdqdbi_left_edge_dq_bit03\": 0,\n",
      "    \"f0_calbisc_rl_dly_qtr_nibble02\": 76,\n",
      "    \"f1_dqsgate_stg1_rldlyrnk_crse_rank0_byte0\": 0,\n",
      "    \"eye_scan_error\": \"N/A\",\n",
      "    \"f1_wrcmplx_right_margin_fcrse_byte4\": 0,\n",
      "    \"f1_wrdqdbi_left_edge_dq_bit59\": 0,\n",
      "    \"f1_dqsgate_stg1_overflow_35\": 0,\n",
      "    \"wrvref_right_vref_upp_bound_rank0_byte6\": 0,\n",
      "    \"f1_wrdqdbi_odly_dq_final_bit20\": 0,\n",
      "    \"phy_rank_write_override\": 0,\n",
      "    \"f1_rdcmplx_idelay_offset_nibble07\": 0,\n",
      "    \"f0_wrcmplx_right_margin_fcrse_byte5\": 60,\n",
      "    \"f1_rddq_pqtr_right_nibble06\": 0,\n",
      "    \"cal_error_data_nibble_17_9\": 0,\n",
      "    \"f0_wrlvl_offset_rank0_byte0\": 79,\n",
      "    \"f1_rddq_nqtr_final_nibble07\": 0,\n",
      "    \"f0_wrdqdbi_stg2_dq_odly_bit06\": 57,\n",
      "    \"f1_rdcmplx_idelay_offset_nibble10\": 0,\n",
      "    \"f0_calbisc_rl_dly_qtr_nibble04\": 78,\n",
      "    \"bisc_mon_align_nibble07\": 0,\n",
      "    \"f1_rdprbs_pqtr_right_margin_nibble04\": 0,\n",
      "    \"f1_dqsgate_stg1_overflow_27\": 0,\n",
      "    \"f1_rdprbs_nqtr_right_margin_nibble12\": 0,\n",
      "    \"phy_oe_nib16_dly\": 1,\n",
      "    \"cal_error_bit_phy_nibble_22\": 0,\n",
      "    \"cal_warning_70\": 0,\n",
      "    \"f0_wrcmplx_left_margin_fcrse_byte1\": 70,\n",
      "    \"f1_dqsgate_stg1_overflow_00\": 0,\n",
      "    \"f0_dqsgate_stg1_overflow_08\": 0,\n",
      "    \"f0_rdcmplx_nqtr_final_nibble05\": 88,\n",
      "    \"f0_wrprbs_left_margin_byte2\": 0,\n",
      "    \"f1_wrdqdbi_deskew_dq_odly_bit21\": 0,\n",
      "    \"f1_rdcmplx_pqtr_final_nibble11\": 0,\n",
      "    \"f0_rd_simp_fall_rm_nib_12\": [\n",
      "        75,\n",
      "        148\n",
      "    ],\n",
      "    \"bisc_idly1_align_nibble05\": 82,\n",
      "    \"f0_wrlvl_crse_final_rank0_byte6\": 3,\n",
      "    \"f0_rd_comp_fall_lm_nib_15\": [\n",
      "        62,\n",
      "        123\n",
      "    ],\n",
      "    \"rdvref_right_vref_upp_bound_nibble05\": 0,\n",
      "    \"f0_rddq_nqtr_left_nibble05\": 26,\n",
      "    \"f1_calbisc_rl_dly_qtr_nibble08\": 0,\n",
      "    \"f0_rdcmplx_idelay_offset_nibble12\": 0,\n",
      "    \"ddrmc_isr_nsu_fatal1\": 0,\n",
      "    \"f0_dqsgate_stg1_overflow_45\": 0,\n",
      "    \"f0_wrdqdbi_stg1_dqs_delay_byte0\": 73,\n",
      "    \"f0_wrdqdbi_odly_dq_final_bit38\": 112,\n",
      "    \"f0_mr5_8_0\": 0,\n",
      "    \"f1_wrdqdbi_deskew_dq_odly_bit49\": 0,\n",
      "    \"f1_dqsgate_stg1_overflow_45\": 0,\n",
      "    \"f0_rddq_nqtr_final_nibble12\": 100,\n",
      "    \"rdmargin_nqtr_right_nibble14\": 0,\n",
      "    \"cal_warning_05\": 0,\n",
      "    \"f1_wrdqdbi_left_margin_byte3\": 0,\n",
      "    \"f1_rdcmplx_pqtr_right_nibble12\": 0,\n",
      "    \"f0_rddq_pqtr_right_nibble06\": 166,\n",
      "    \"rdvref_vref_final_nibble00\": 0,\n",
      "    \"f1_wrdqdbi_deskew_dq_odly_fcrse_bit07\": 0,\n",
      "    \"rdvref_left_vref_def_nibble10\": 0,\n",
      "    \"f1_wrdqdbi_deskew_dq_odly_bit30\": 0,\n",
      "    \"bits_per_byte\": 8,\n",
      "    \"f1_wrlvl_crse_final_rank0_byte1\": 0,\n",
      "    \"f1_rdcmplx_pqtr_right_short_fcrse_nibble08\": 0,\n",
      "    \"f0_wrdqdbi_deskew_dq_odly_bit18\": 168,\n",
      "    \"f1_wrcmplx_left_margin_byte4\": 0,\n",
      "    \"f1_rdcmplx_nqtr_left_short_nibble09\": 0,\n",
      "    \"wrvref_right_vref_final_rank0_byte3\": 0,\n",
      "    \"f0_wrdqdbi_stg2_dq_odly_bit51\": 40,\n",
      "    \"wrmargin_left_byte1\": 0,\n",
      "    \"f0_wrdqdbi_left_edge_dq_bit12\": 43,\n",
      "    \"f0_wrdqdbi_right_edge_dqs_byte7\": 147,\n",
      "    \"f0_rdcmplx_nqtr_final_nibble03\": 90,\n",
      "    \"cal_warning_58\": 0,\n",
      "    \"cal_warning_46\": 0,\n",
      "    \"ddrmc_isr_ch1_data_par\": 0,\n",
      "    \"f1_wrlvl_noise_fcrse_rank0_byte4\": 0,\n",
      "    \"bisc_idly4_align_nibble09\": 81,\n",
      "    \"rdvref_right_vref_def_nibble08\": 0,\n",
      "    \"f1_wrcmplx_odly_dq_final_bit53\": 0,\n",
      "    \"f0_wrdqdbi_stg2_dq_odly_bit35\": 97,\n",
      "    \"cal_warning_62\": 0,\n",
      "    \"wrvref_vref_final_rank0_byte1\": 0,\n",
      "    \"f0_wrdqdbi_stg1_dqs_delay_byte7\": 79,\n",
      "    \"f0_calbisc_rl_dly_pqtr_nibble10\": 79,\n",
      "    \"f1_rddq_pqtr_left_nibble03\": 0,\n",
      "    \"f0_mr4_17_9\": 0,\n",
      "    \"f1_wrdqdbi_deskew_dq_odly_bit08\": 0,\n",
      "    \"cal_seq_status_45\": 0,\n",
      "    \"rdmargin_nqtr_left_nibble11\": 0,\n",
      "    \"isr_change_count\": 0,\n",
      "    \"f0_rddq_nqtr_right_fcrse_nibble14\": 179,\n",
      "    \"bisc_idly0_align_nibble11\": 76,\n",
      "    \"f0_rddq_pqtr_right_nibble11\": 165,\n",
      "    \"f0_wrcmplx_odly_dbi_final_byte7\": 81,\n",
      "    \"f0_wrdqdbi_stg3_dq_odly_bit31\": 64,\n",
      "    \"cal_warning_75\": 0,\n",
      "    \"f1_rddq_nqtr_left_nibble14\": 0,\n",
      "    \"bisc_nqtr_align_nibble08\": 0,\n",
      "    \"f1_wrcmplx_odly_dq_final_bit62\": 0,\n",
      "    \"dram_size\": 3,\n",
      "    \"f1_rdprbs_nqtr_left_margin_nibble14\": 0,\n",
      "    \"phy_rden26_dly\": 22,\n",
      "    \"f0_rddq_pqtr_right_fcrse_nibble05\": 173,\n",
      "    \"f0_wrlat_match_rank0_byte4\": 17,\n",
      "    \"f1_wrdqdbi_stg2_dq_odly_bit23\": 0,\n",
      "    \"f1_rdcmplx_pqtr_right_short_nibble03\": 0,\n",
      "    \"f0_rddq_nqtr_right_fcrse_nibble06\": 179,\n",
      "    \"f1_wrlvl_crse_final_rank0_byte7\": 0,\n",
      "    \"f0_wrdqdbi_deskew_dq_odly_fcrse_bit55\": 130,\n",
      "    \"f0_wrdqdbi_stg1_dqs_delay_byte6\": 56,\n",
      "    \"rdmargin_nqtr_right_nibble04\": 0,\n",
      "    \"f0_rddq_idelay_final_bit55\": 86,\n",
      "    \"f1_rddq_qtr_deskew_nibble04\": 0,\n",
      "    \"f0_wrdqdbi_left_edge_dq_bit14\": 35,\n",
      "    \"f0_wrcmplx_right_margin_fcrse_byte0\": 60,\n",
      "    \"rdvref_right_vref_final_nibble01\": 0,\n",
      "    \"rdvref_left_vref_low_bound_nibble14\": 0,\n",
      "    \"f1_rdprbs_pqtr_right_margin_nibble09\": 0,\n",
      "    \"f1_rdprbs_nqtr_right_margin_nibble13\": 0,\n",
      "    \"f1_wrdqdbi_left_edge_dq_bit57\": 0,\n",
      "    \"xpi_wrdata_all_nib_dly_offset\": 8,\n",
      "    \"phy_rden5_dly\": 27,\n",
      "    \"f0_wrdqdbi_stg2_dq_odly_bit13\": 37,\n",
      "    \"f0_wrdqdbi_deskew_dq_odly_bit35\": 166,\n",
      "    \"f0_wrlvl_crse_final_rank0_byte4\": 2,\n",
      "    \"vttrack_rldlyqtr_min_nibble08\": 75,\n",
      "    \"iobmap_dq_3_2\": 0,\n",
      "    \"f0_wrdqdbi_deskew_dbi_odly_byte3\": 139,\n",
      "    \"bisc_mon_align_nibble14\": 0,\n",
      "    \"f0_rdprbs_pqtr_left_margin_nibble10\": 0,\n",
      "    \"f0_wrlvl_fine_right_rank0_byte0\": 59,\n",
      "    \"f0_wrcmplx_odly_dq_final_bit36\": 115,\n",
      "    \"f0_wrcmplx_right_margin_byte2\": 64,\n",
      "    \"f1_rdcmplx_idelay_offset_nibble06\": 0,\n",
      "    \"f0_wrlvl_offset_rank0_byte5\": 79,\n",
      "    \"wrvref_vref_upp_bound_rank0_byte2\": 0,\n",
      "    \"f1_wrdqdbi_stg3_dq_odly_bit44\": 0,\n",
      "    \"f1_wrdqdbi_odly_dbi_final_byte7\": 0,\n",
      "    \"cal_warning_74\": 0,\n",
      "    \"f0_rdcmplx_nqtr_left_short_nibble06\": 22,\n",
      "    \"f1_wrcmplx_left_margin_fcrse_byte4\": 0,\n",
      "    \"cal_error_bit_phy_nibble_01\": 0,\n",
      "    \"iobmap_dq_67_66\": 0,\n",
      "    \"rdvref_right_vref_upp_bound_nibble06\": 0,\n",
      "    \"f0_rddq_idelay_final_bit12\": 83,\n",
      "    \"cal_stage_time_56\": 0,\n",
      "    \"dqs_gate_xphy_ub\": 1,\n",
      "    \"rdmargin_nqtr_left_nibble13\": 0,\n",
      "    \"f0_wrdqdbi_deskew_dq_odly_bit16\": 182,\n",
      "    \"f0_wrdqdbi_odly_dq_final_bit52\": 57,\n",
      "    \"f1_dqsgate_stg1_overflow_41\": 0,\n",
      "    \"f1_dqsgate_stg1_rldlyrnk_crse_rank0_byte4\": 0,\n",
      "    \"f1_rdcmplx_nqtr_left_nibble15\": 0,\n",
      "    \"f0_wrdqdbi_deskew_dq_odly_fcrse_bit53\": 130,\n",
      "    \"f1_wrdqdbi_stg2_dq_odly_bit27\": 0,\n",
      "    \"f1_wrdqdbi_stg4_dqs_delay_byte6\": 0,\n",
      "    \"bisc_pqtr_nibble03\": 79,\n",
      "    \"rdmargin_nqtr_left_nibble02\": 0,\n",
      "    \"f0_wrdqdbi_left_edge_dq_bit00\": 72,\n",
      "    \"f0_wrcmplx_odly_dq_final_bit43\": 42,\n",
      "    \"cal_error_bit_phy_nibble_05\": 0,\n",
      "    \"rdvref_left_vref_final_nibble10\": 0,\n",
      "    \"f1_calbisc_rl_dly_nqtr_nibble05\": 0,\n",
      "    \"cal_stage_time_19\": 100,\n",
      "    \"f0_wrdqdbi_right_edge_dqs_byte6\": 118,\n",
      "    \"f0_dqsgate_stg1_rldlyrnk_fine_rank0_byte4\": 46,\n",
      "    \"f0_wrdqdbi_odly_dq_final_bit31\": 89,\n",
      "    \"f1_dqsgate_stg1_overflow_43\": 0,\n",
      "    \"f1_wrdqdbi_odly_dq_final_bit05\": 0,\n",
      "    \"f0_rd_simp_fall_rm_nib_13\": [\n",
      "        71,\n",
      "        144\n",
      "    ],\n",
      "    \"phy_oe_nib23_dly\": 0,\n",
      "    \"f0_wrdqdbi_stg3_dq_odly_bit12\": 37,\n",
      "    \"bisc_pqtr_align_nibble10\": 0,\n",
      "    \"f0_rd_simp_rise_ctp_nib_13\": [\n",
      "        93,\n",
      "        186\n",
      "    ],\n",
      "    \"f0_dqsgate_stg1_overflow_61\": 0,\n",
      "    \"f0_wrdqdbi_odly_dqs_final_byte3\": 80,\n",
      "    \"f1_wrcmplx_odly_dq_final_bit36\": 0,\n",
      "    \"f1_rddq_idelay_final_bit37\": 0,\n",
      "    \"f0_rdcmplx_pqtr_left_short_nibble15\": 20,\n",
      "    \"f1_wrdqdbi_left_margin_byte5\": 0,\n",
      "    \"bisc_idly3_align_nibble03\": 79,\n",
      "    \"f0_wrdqdbi_left_edge_dq_bit04\": 60,\n",
      "    \"f1_wrdqdbi_odly_dq_final_bit63\": 0,\n",
      "    \"f1_wrdqdbi_left_edge_dq_bit48\": 0,\n",
      "    \"ddrmc_isr_nsu_fatal0\": 0,\n",
      "    \"xpi_map_bitslip\": 0,\n",
      "    \"f0_wrdqdbi_stg2_dqs_odly_byte5\": 52,\n",
      "    \"cal_stage_time_00\": 8,\n",
      "    \"f1_wrdqdbi_stg3_dq_odly_bit63\": 0,\n",
      "    \"f1_wrdqdbi_deskew_dq_odly_bit35\": 0,\n",
      "    \"f1_rdprbs_pqtr_right_margin_nibble00\": 0,\n",
      "    \"f1_calbisc_rl_dly_qtr_nibble06\": 0,\n",
      "    \"f1_wrdqdbi_deskew_dq_odly_bit53\": 0,\n",
      "    \"f1_rdprbs_nqtr_right_margin_nibble10\": 0,\n",
      "    \"f1_wrcmplx_odly_dq_final_bit16\": 0,\n",
      "    \"f0_rdprbs_pqtr_left_margin_nibble02\": 0,\n",
      "    \"f1_wrdqdbi_deskew_dbi_odly_fcrse_byte7\": 0,\n",
      "    \"f0_calbisc_rl_dly_pqtr_nibble13\": 78,\n",
      "    \"rdmargin_nqtr_left_nibble05\": 0,\n",
      "    \"f1_wrdqdbi_odly_dq_final_bit55\": 0,\n",
      "    \"f1_wrdqdbi_stg4_dqs_delay_byte0\": 0,\n",
      "    \"f1_dqsgate_stg1_overflow_03\": 0,\n",
      "    \"f0_rdcmplx_pqtr_right_nibble08\": 148,\n",
      "    \"f0_wrdqdbi_stg2_dq_odly_bit40\": 36,\n",
      "    \"f0_wrdqdbi_stg4_dqs_delay_byte4\": 14,\n",
      "    \"f1_wrdqdbi_deskew_dq_odly_fcrse_bit39\": 0,\n",
      "    \"f1_dqsgate_stg1_overflow_10\": 0,\n",
      "    \"f0_wrdqdbi_stg3_dq_odly_bit00\": 57,\n",
      "    \"f0_wrdqdbi_deskew_dq_odly_fcrse_bit21\": 172,\n",
      "    \"f1_wrdqdbi_left_edge_dq_bit13\": 0,\n",
      "    \"f0_dqsgate_stg1_overflow_36\": 0,\n",
      "    \"reg_map_ver\": 5,\n",
      "    \"f1_wrdqdbi_left_edge_dq_bit53\": 0,\n",
      "    \"f0_wrdqdbi_odly_dbi_final_byte7\": 71,\n",
      "    \"f1_rddq_nqtr_right_nibble13\": 0,\n",
      "    \"bisc_idly3_align_nibble04\": 72,\n",
      "    \"f1_dqsgate_stg1_overflow_05\": 0,\n",
      "    \"f1_rdcmplx_nqtr_final_nibble15\": 0,\n",
      "    \"rdmargin_pqtr_right_nibble10\": 0,\n",
      "    \"f1_dqsgate_stg1_overflow_56\": 0,\n",
      "    \"f0_rdcmplx_nqtr_right_nibble03\": 150,\n",
      "    \"f1_dqsgate_stg1_overflow_51\": 0,\n",
      "    \"f0_wr_simp_ctp_byte_06\": [\n",
      "        290,\n",
      "        581\n",
      "    ],\n",
      "    \"f0_rd_comp_rise_rm_nib_02\": [\n",
      "        62,\n",
      "        127\n",
      "    ],\n",
      "    \"cal_warning_68\": 0,\n",
      "    \"f1_wrlat_phy_oe_nib_final_byte6\": 0,\n",
      "    \"bisc_en\": 1,\n",
      "    \"bisc_pqtr_align_nibble04\": 0,\n",
      "    \"f0_wrlat_phy_oe_nib_final_byte4\": 1,\n",
      "    \"cal_warning_52\": 0,\n",
      "    \"f0_rd_simp_fall_lm_nib_02\": [\n",
      "        75,\n",
      "        154\n",
      "    ],\n",
      "    \"f0_rddq_idelay_final_bit22\": 85,\n",
      "    \"f0_rd_simp_rise_lm_nib_03\": [\n",
      "        73,\n",
      "        146\n",
      "    ],\n",
      "    \"f1_rdcmplx_nqtr_right_short_fcrse_nibble13\": 0,\n",
      "    \"f0_rdcmplx_nqtr_right_short_nibble06\": 161,\n",
      "    \"f1_wrcmplx_right_margin_byte1\": 0,\n",
      "    \"f1_mr6_17_9\": 0,\n",
      "    \"f1_dqsgate_stg2_rldlyrnk_crse_rank0_byte6\": 0,\n",
      "    \"f0_dqsgate_stg1_overflow_05\": 0,\n",
      "    \"f0_wrdqdbi_left_edge_dbi_byte2\": 82,\n",
      "    \"bisc_rl_dly_qtr_nibble02\": 76,\n",
      "    \"f0_wrdqdbi_stg3_dq_odly_bit02\": 57,\n",
      "    \"f0_rd_simp_fall_lm_nib_15\": [\n",
      "        73,\n",
      "        144\n",
      "    ],\n",
      "    \"f0_rdprbs_nqtr_left_margin_nibble11\": 0,\n",
      "    \"cal_seq_status_37\": 314,\n",
      "    \"rdmargin_pqtr_right_nibble06\": 0,\n",
      "    \"f0_wrdqdbi_stg2_dq_odly_bit52\": 40,\n",
      "    \"f0_rdcmplx_pqtr_left_nibble11\": 25,\n",
      "    \"f0_rdcmplx_nqtr_right_short_fcrse_nibble08\": 183,\n",
      "    \"bisc_idly1_align_nibble10\": 74,\n",
      "    \"f1_dqsgate_stg2_rldlyrnk_crse_rank0_byte5\": 0,\n",
      "    \"f1_wrprbs_left_margin_byte2\": 0,\n",
      "    \"f1_wrcmplx_odly_dq_final_bit30\": 0,\n",
      "    \"rdmargin_nqtr_right_nibble13\": 0,\n",
      "    \"f1_wrdqdbi_deskew_dq_odly_bit51\": 0,\n",
      "    \"f0_rd_simp_rise_ctp_nib_03\": [\n",
      "        91,\n",
      "        182\n",
      "    ],\n",
      "    \"f1_rdprbs_pqtr_left_margin_nibble03\": 0,\n",
      "    \"rdvref_right_vref_def_nibble07\": 0,\n",
      "    \"f0_rdcmplx_nqtr_left_short_nibble07\": 21,\n",
      "    \"f1_dqsgate_rldlyrnk_crse_final_rank0_byte0\": 0,\n",
      "    \"f1_rddq_idelay_final_bit18\": 0,\n",
      "    \"vttrack_rldlyqtr_nibble00\": 78,\n",
      "    \"f0_wrdqdbi_deskew_dq_odly_bit14\": 123,\n",
      "    \"f0_wrdqdbi_right_margin_byte5\": 63,\n",
      "    \"f1_rdcmplx_pqtr_right_nibble06\": 0,\n",
      "    \"f0_rddq_pqtr_right_fcrse_nibble10\": 173,\n",
      "    \"cal_error_data_nibble_8_0\": 0,\n",
      "    \"f0_rdcmplx_pqtr_right_short_fcrse_nibble09\": 171,\n",
      "    \"f1_dqsgate_stg1_overflow_34\": 0,\n",
      "    \"f1_wrlvl_offset_rank0_byte6\": 0,\n",
      "    \"cal_seq_status_22\": 293,\n",
      "    \"f1_rdcmplx_pqtr_final_nibble13\": 0,\n",
      "    \"f1_calbisc_rl_dly_pqtr_nibble01\": 0,\n",
      "    \"f1_wrcmplx_odly_dq_final_bit28\": 0,\n",
      "    \"bisc_idly0_align_nibble08\": 67,\n",
      "    \"cal_warning_73\": 0,\n",
      "    \"rdvref_right_vref_low_bound_nibble04\": 0,\n",
      "    \"f1_wrlvl_crse_stg1_rank0_byte1\": 0,\n",
      "    \"f1_wrdqdbi_stg6_dbi_odly_byte6\": 0,\n",
      "    \"ddrmc_isr_uc0_ecc1\": 0,\n",
      "    \"f0_wrcmplx_odly_dq_final_bit03\": 71,\n",
      "    \"f0_rdcmplx_idelay_offset_nibble05\": 0,\n",
      "    \"f0_rddq_idelay_final_bit16\": 78,\n",
      "    \"reg_retry_0\": 194408526,\n",
      "    \"f1_rdcmplx_pqtr_left_short_nibble05\": 0,\n",
      "    \"f1_wrlat_phy_oe_nib_final_byte5\": 0,\n",
      "    \"f0_rdcmplx_pqtr_right_nibble06\": 151,\n",
      "    \"f0_wrlvl_crse_final_rank0_byte2\": 3,\n",
      "    \"f0_rddq_idelay_final_bit57\": 70,\n",
      "    \"f1_wrdqdbi_stg2_dq_odly_bit50\": 0,\n",
      "    \"f1_wrdqdbi_stg3_dq_odly_bit17\": 0,\n",
      "    \"f1_wrcmplx_odly_dq_final_bit44\": 0,\n",
      "    \"f0_rdcmplx_pqtr_left_nibble08\": 27,\n",
      "    \"f0_lp4_mr14\": 0,\n",
      "    \"f1_rdcmplx_pqtr_right_short_fcrse_nibble05\": 0,\n",
      "    \"f0_wrdqdbi_right_margin_fcrse_byte1\": 50,\n",
      "    \"iobmap_dq_13_12\": 0,\n",
      "    \"ddrmc_clk_mux\": 1,\n",
      "    \"wrvref_left_vref_def_rank0_byte5\": 0,\n",
      "    \"f0_rddq_nqtr_right_fcrse_nibble15\": 181,\n",
      "    \"f1_wrdqdbi_odly_dq_final_bit49\": 0,\n",
      "    \"f0_wrlvl_fine_left_rank0_byte0\": 56,\n",
      "    \"f1_rdprbs_pqtr_left_margin_nibble04\": 0,\n",
      "    \"f0_rddq_nqtr_final_nibble11\": 102,\n",
      "    \"f1_wrdqdbi_stg2_dqs_odly_byte2\": 0,\n",
      "    \"dc1_perf_mon_7\": 0,\n",
      "    \"f0_rd_simp_fall_rm_nib_06\": [\n",
      "        73,\n",
      "        146\n",
      "    ],\n",
      "    \"f0_wrdqdbi_deskew_dq_odly_bit45\": 115,\n",
      "    \"dqstrack_rldlyrnk_crse_byte6\": 3,\n",
      "    \"f1_wrdqdbi_stg1_dqs_delay_byte2\": 0,\n",
      "    \"f1_wrdqdbi_deskew_dq_odly_bit04\": 0,\n",
      "    \"cal_message\": \"No errors detected during calibration.\",\n",
      "    \"f0_rddq_pqtr_right_fcrse_nibble03\": 173,\n",
      "    \"rdvref_left_vref_low_bound_nibble05\": 0,\n",
      "    \"f0_wrdqdbi_stg2_dq_odly_bit45\": 36,\n",
      "    \"f1_wrdqdbi_left_edge_dbi_byte6\": 0,\n",
      "    \"f1_rddq_pqtr_right_nibble11\": 0,\n",
      "    \"f0_wrdqdbi_stg3_dq_odly_bit15\": 37,\n",
      "    \"f0_wrprbs_left_margin_byte5\": 0,\n",
      "    \"f1_wrdqdbi_odly_dq_final_bit15\": 0,\n",
      "    \"f1_wrdqdbi_stg2_dq_odly_bit32\": 0,\n",
      "    \"f0_wrdqdbi_stg4_dqs_delay_byte2\": 14,\n",
      "    \"f0_dqsgate_stg1_overflow_60\": 0,\n",
      "    \"f1_wrdqdbi_stg3_dq_odly_bit16\": 0,\n",
      "    \"reg_pinout\": 17,\n",
      "    \"f1_dqsgate_stg1_overflow_09\": 0,\n",
      "    \"f1_wrdqdbi_stg2_dq_odly_bit03\": 0,\n",
      "    \"f0_rddq_idelay_final_bit48\": 74,\n",
      "    \"vttrack_rldlyqtr_max_nibble02\": 81,\n",
      "    \"f1_rddq_pqtr_final_nibble09\": 0,\n",
      "    \"rdvref_vref_low_bound_nibble04\": 0,\n",
      "    \"f0_rd_comp_fall_rm_nib_11\": [\n",
      "        63,\n",
      "        126\n",
      "    ],\n",
      "    \"ub_instr_ce\": 0,\n",
      "    \"rdvref_vref_low_bound_nibble06\": 0,\n",
      "    \"f1_rddq_pqtr_final_nibble01\": 0,\n",
      "    \"f1_calbisc_rl_dly_qtr_nibble11\": 0,\n",
      "    \"f1_wrprbs_right_margin_byte6\": 0,\n",
      "    \"f1_wrdqdbi_stg3_dq_odly_bit26\": 0,\n",
      "    \"cal_stage_time_15\": 0,\n",
      "    \"f0_rddq_nqtr_left_nibble09\": 26,\n",
      "    \"f0_wrdqdbi_deskew_dq_odly_fcrse_bit32\": 177,\n",
      "    \"f1_rddq_nqtr_final_nibble06\": 0,\n",
      "    \"f1_wrdqdbi_deskew_dq_odly_bit57\": 0,\n",
      "    \"rdvref_left_vref_low_bound_nibble12\": 0,\n",
      "    \"rdvref_right_vref_def_nibble14\": 0,\n",
      "    \"f0_wrdqdbi_stg2_dq_odly_bit34\": 97,\n",
      "    \"bisc_rl_dly_qtr_nibble06\": 78,\n",
      "    \"mgchk_pattern_config_0\": 0,\n",
      "    \"f0_wrdqdbi_left_edge_dbi_byte6\": 40,\n",
      "    \"f0_wrdqdbi_odly_dq_final_bit12\": 58,\n",
      "    \"cal_warning_29\": 0,\n",
      "    \"f1_wrdqdbi_deskew_dq_odly_fcrse_bit63\": 0,\n",
      "    \"f1_rddq_idelay_final_bit44\": 0,\n",
      "    \"f0_calbisc_rl_dly_pqtr_nibble15\": 79,\n",
      "    \"cal_warning_19\": 0,\n",
      "    \"f1_rdprbs_nqtr_left_margin_nibble13\": 0,\n",
      "    \"f0_wrcmplx_odly_dq_final_bit14\": 55,\n",
      "    \"cal_seq_status_29\": 299,\n",
      "    \"f1_wrprbs_left_margin_byte6\": 0,\n",
      "    \"f0_rd_comp_fall_rm_nib_03\": [\n",
      "        60,\n",
      "        120\n",
      "    ],\n",
      "    \"cal_post_status_05\": 0,\n",
      "    \"f1_wrdqdbi_stg3_dq_odly_bit21\": 0,\n",
      "    \"f0_calbisc_rl_dly_nqtr_nibble14\": 77,\n",
      "    \"f0_db_f0bc6x\": 0,\n",
      "    \"wrvref_right_vref_final_rank0_byte6\": 0,\n",
      "    \"f1_wrlat_phy_data_nib_final_byte1\": 0,\n",
      "    \"f0_wrlvl_fine_right_rank0_byte7\": 65,\n",
      "    \"f0_rdcmplx_pqtr_right_short_nibble13\": 165,\n",
      "    \"f1_wrdqdbi_stg3_dq_odly_bit14\": 0,\n",
      "    \"f0_rdprbs_pqtr_right_margin_nibble14\": 0,\n",
      "    \"f1_calbisc_rl_dly_qtr_nibble15\": 0,\n",
      "    \"f1_rddq_pqtr_left_nibble13\": 0,\n",
      "    \"cal_error_bit_phy_nibble_20\": 0,\n",
      "    \"f1_wrlvl_crse_stg1_rank0_byte0\": 0,\n",
      "    \"f0_dqsgate_stg1_overflow_21\": 0,\n",
      "    \"f1_rddq_nqtr_final_nibble10\": 0,\n",
      "    \"wrvref_right_vref_upp_bound_rank0_byte7\": 0,\n",
      "    \"f1_wrdqdbi_deskew_dq_odly_bit14\": 0,\n",
      "    \"f0_wrlat_match_rank0_byte7\": 17,\n",
      "    \"wrvref_left_vref_final_rank0_byte1\": 0,\n",
      "    \"f0_wrdqdbi_stg4_byte_status_01\": 511,\n",
      "    \"f1_rddq_idelay_final_bit05\": 0,\n",
      "    \"0x3c_EN_VT_TRACK\": \"Pass\",\n",
      "    \"rdvref_left_vref_def_nibble12\": 0,\n",
      "    \"rdvref_vref_low_bound_nibble09\": 0,\n",
      "    \"f1_wrdqdbi_right_margin_fcrse_byte4\": 0,\n",
      "    \"f0_xpll_divclk_lt\": 1,\n",
      "    \"f1_rddq_pqtr_right_nibble00\": 0,\n",
      "    \"cal_stage_time_49\": 0,\n",
      "    \"f0_rddq_idelay_final_bit23\": 85,\n",
      "    \"f0_rd_simp_rise_rm_nib_05\": [\n",
      "        75,\n",
      "        150\n",
      "    ],\n",
      "    \"f1_wrcmplx_odly_dq_final_bit26\": 0,\n",
      "    \"f1_wrdqdbi_stg3_dq_odly_bit58\": 0,\n",
      "    \"f0_rdprbs_pqtr_left_margin_nibble04\": 0,\n",
      "    \"rdvref_right_vref_low_bound_nibble03\": 0,\n",
      "    \"f0_wr_comp_lm_byte_01\": [\n",
      "        73,\n",
      "        148\n",
      "    ],\n",
      "    \"phy_oe_nib12_dly\": 0,\n",
      "    \"f0_calbisc_rl_dly_nqtr_nibble01\": 76,\n",
      "    \"vttrack_rldlyqtr_min_nibble03\": 75,\n",
      "    \"f0_dqsgate_stg1_overflow_43\": 0,\n",
      "    \"f0_wrcmplx_left_margin_byte7\": 76,\n",
      "    \"f0_wrdqdbi_left_edge_dq_bit27\": 85,\n",
      "    \"f0_rd_comp_fall_lm_nib_06\": [\n",
      "        62,\n",
      "        124\n",
      "    ],\n",
      "    \"f1_wrdqdbi_odly_dq_final_bit07\": 0,\n",
      "    \"f0_wrlat_phy_oe_nib_final_byte6\": 1,\n",
      "    \"f0_rd_simp_rise_lm_nib_02\": [\n",
      "        74,\n",
      "        152\n",
      "    ],\n",
      "    \"mgchk_pattern_mode\": 0,\n",
      "    \"wrmargin_right_byte2\": 0,\n",
      "    \"f1_rdcmplx_nqtr_left_nibble06\": 0,\n",
      "    \"f0_wrdqdbi_deskew_dq_odly_fcrse_bit50\": 120,\n",
      "    \"f0_rdcmplx_pqtr_final_nibble13\": 93,\n",
      "    \"f0_rd_comp_rise_ctp_nib_12\": [\n",
      "        89,\n",
      "        176\n",
      "    ],\n",
      "    \"f1_wrdqdbi_deskew_dbi_odly_byte3\": 0,\n",
      "    \"f0_rdcmplx_pqtr_right_short_fcrse_nibble13\": 175,\n",
      "    \"bisc_idly2_align_nibble13\": 74,\n",
      "    \"f0_wrdqdbi_left_edge_dq_bit47\": 35,\n",
      "    \"f1_dqsgate_stg2_read_lat_rank0_byte3\": 0,\n",
      "    \"f1_wrdqdbi_odly_dq_final_bit21\": 0,\n",
      "    \"f1_wrcmplx_odly_dq_final_bit20\": 0,\n",
      "    \"f0_wrcmplx_odly_dq_final_bit62\": 81,\n",
      "    \"f0_rdprbs_nqtr_left_margin_nibble01\": 0,\n",
      "    \"f1_dqsgate_stg1_overflow_14\": 0,\n",
      "    \"f1_wrdqdbi_stg3_dq_odly_bit54\": 0,\n",
      "    \"f0_dqsgate_stg1_overflow_20\": 0,\n",
      "    \"f1_wrprbs_right_margin_byte4\": 0,\n",
      "    \"f0_rdcmplx_nqtr_right_short_fcrse_nibble11\": 175,\n",
      "    \"wrvref_right_vref_def_rank0_byte3\": 0,\n",
      "    \"f1_rdcmplx_nqtr_right_short_nibble08\": 0,\n",
      "    \"f0_rd_simp_rise_ctp_nib_12\": [\n",
      "        93,\n",
      "        184\n",
      "    ],\n",
      "    \"f1_wrdqdbi_left_margin_byte6\": 0,\n",
      "    \"phy_oe_nib22_dly\": 0,\n",
      "    \"f0_wrdqdbi_left_edge_dq_bit23\": 88,\n",
      "    \"f1_rddq_nqtr_right_nibble06\": 0,\n",
      "    \"wrvref_right_vref_def_rank0_byte5\": 0,\n",
      "    \"f1_wrdqdbi_deskew_dq_odly_bit63\": 0,\n",
      "    \"f1_rddq_idelay_final_bit30\": 0,\n",
      "    \"f1_wrlat_match_rank0_byte3\": 0,\n",
      "    \"f0_rdprbs_nqtr_right_margin_nibble05\": 0,\n",
      "    \"f0_wrdqdbi_left_edge_dq_bit25\": 69,\n",
      "    \"wrvref_left_vref_low_bound_rank0_byte4\": 0,\n",
      "    \"f1_dqsgate_stg1_overflow_24\": 0,\n",
      "    \"f0_wrcmplx_odly_dq_final_bit37\": 105,\n",
      "    \"bisc_nqtr_align_nibble13\": 0,\n",
      "    \"dimm_type\": 1,\n",
      "    \"cal_stage_time_50\": 0,\n",
      "    \"rdvref_left_vref_upp_bound_nibble14\": 0,\n",
      "    \"f1_wrcmplx_odly_dq_final_bit54\": 0,\n",
      "    \"f0_rdprbs_nqtr_left_margin_nibble06\": 0,\n",
      "    \"f0_calbisc_rl_dly_pqtr_nibble00\": 79,\n",
      "    \"f1_wrdqdbi_stg1_bit_status_byte0\": 0,\n",
      "    \"f1_rdcmplx_nqtr_left_short_nibble05\": 0,\n",
      "    \"f1_rddq_nqtr_left_nibble02\": 0,\n",
      "    \"f0_wrdqdbi_stg3_dq_odly_bit42\": 36,\n",
      "    \"wrvref_left_vref_def_rank0_byte0\": 0,\n",
      "    \"f0_wrdqdbi_left_edge_dq_bit39\": 101,\n",
      "    \"f1_rddq_idelay_final_bit13\": 0,\n",
      "    \"f0_wr_comp_lm_byte_03\": [\n",
      "        73,\n",
      "        147\n",
      "    ],\n",
      "    \"phy_ranks\": 1,\n",
      "    \"f0_rdcmplx_nqtr_left_short_nibble02\": 27,\n",
      "    \"rdmargin_pqtr_right_nibble05\": 0,\n",
      "    \"phy_rden8_dly\": 22,\n",
      "    \"f0_rddq_idelay_final_bit10\": 73,\n",
      "    \"iobmap_dq_55_54\": 0,\n",
      "    \"f0_rdprbs_pqtr_left_margin_nibble13\": 0,\n",
      "    \"f1_rdcmplx_nqtr_left_short_nibble00\": 0,\n",
      "    \"rdmargin_pqtr_left_nibble09\": 0,\n",
      "    \"f1_rdcmplx_nqtr_right_short_nibble04\": 0,\n",
      "    \"vttrack_rldlyqtr_min_nibble02\": 74,\n",
      "    \"f0_wrdqdbi_stg3_dq_odly_bit18\": 82,\n",
      "    \"f0_wrdqdbi_deskew_dq_odly_bit44\": 131,\n",
      "    \"f0_wrdqdbi_stg2_dq_odly_bit17\": 82,\n",
      "    \"f0_rdprbs_nqtr_right_margin_nibble07\": 0,\n",
      "    \"f1_wrlvl_offset_rank0_byte7\": 0,\n",
      "    \"f0_wrdqdbi_stg3_dq_odly_bit01\": 57,\n",
      "    \"f1_rdprbs_pqtr_right_margin_nibble01\": 0,\n",
      "    \"f1_wrlvl_crse_final_rank0_byte2\": 0,\n",
      "    \"cal_seq_status_08\": 394,\n",
      "    \"f0_rd_simp_rise_lm_nib_15\": [\n",
      "        74,\n",
      "        146\n",
      "    ],\n",
      "    \"f0_rdprbs_nqtr_right_margin_nibble09\": 0,\n",
      "    \"f1_rddq_pqtr_final_nibble14\": 0,\n",
      "    \"f1_wrdqdbi_stg1_byte_status_00\": 0,\n",
      "    \"cal_seq_status_46\": 0,\n",
      "    \"f1_rdcmplx_pqtr_right_short_nibble08\": 0,\n",
      "    \"f1_rdprbs_pqtr_right_margin_nibble12\": 0,\n",
      "    \"bisc_idly2_align_nibble02\": 68,\n",
      "    \"f0_dqsgate_stg1_rldlyrnk_crse_rank0_byte4\": 13,\n",
      "    \"f0_wrdqdbi_deskew_dq_odly_fcrse_bit19\": 162,\n",
      "    \"f0_rd_comp_fall_rm_nib_06\": [\n",
      "        62,\n",
      "        124\n",
      "    ],\n",
      "    \"bisc_idly0_align_nibble10\": 67,\n",
      "    \"f1_wrdqdbi_stg2_dq_odly_bit21\": 0,\n",
      "    \"dqs_gate_overflow\": 0,\n",
      "    \"cal_warning_41\": 0,\n",
      "    \"f1_wrdqdbi_deskew_dq_odly_fcrse_bit36\": 0,\n",
      "    \"bisc_pqtr_align_nibble14\": 0,\n",
      "    \"f0_wrdqdbi_odly_dq_final_bit02\": 65,\n",
      "    \"f1_rdcmplx_pqtr_right_short_fcrse_nibble03\": 0,\n",
      "    \"f1_rdcmplx_nqtr_right_short_nibble10\": 0,\n",
      "    \"f1_wrdqdbi_deskew_dq_odly_fcrse_bit11\": 0,\n",
      "    \"f0_wrdqdbi_odly_dq_final_bit53\": 60,\n",
      "    \"f0_wrdqdbi_deskew_dq_odly_fcrse_bit61\": 143,\n",
      "    \"cal_stage_time_02\": 0,\n",
      "    \"f1_rddq_pqtr_left_nibble06\": 0,\n",
      "    \"f1_wrdqdbi_left_edge_dq_bit36\": 0,\n",
      "    \"f0_wrdqdbi_stg6_dbi_odly_byte5\": 36,\n",
      "    \"freq_switch_restore_error\": 0,\n",
      "    \"wrvref_vref_low_bound_rank0_byte6\": 0,\n",
      "    \"bisc_idly3_align_nibble08\": 69,\n",
      "    \"f0_wrdqdbi_stg2_dq_odly_bit12\": 37,\n",
      "    \"f1_wrdqdbi_deskew_dq_odly_fcrse_bit23\": 0,\n",
      "    \"f1_wrdqdbi_odly_dq_final_bit09\": 0,\n",
      "    \"f0_wrdqdbi_deskew_dq_odly_fcrse_bit28\": 134,\n",
      "    \"f0_rdcmplx_nqtr_final_nibble07\": 83,\n",
      "    \"f0_rddq_pqtr_final_nibble12\": 93,\n",
      "    \"f1_rdcmplx_pqtr_right_nibble00\": 0,\n",
      "    \"f1_wrcmplx_odly_dbi_final_byte5\": 0,\n",
      "    \"f1_rdprbs_nqtr_right_margin_nibble03\": 0,\n",
      "    \"f0_wrdqdbi_left_edge_dbi_byte4\": 97,\n",
      "    \"iobmap_dqs_4\": 0,\n",
      "    \"f0_wrdqdbi_deskew_dq_odly_bit05\": 147,\n",
      "    \"f0_wrdqdbi_deskew_dq_odly_bit03\": 142,\n",
      "    \"bisc_nqtr_nibble02\": 76,\n",
      "    \"rdvref_vref_final_nibble10\": 0,\n",
      "    \"f0_dqsgate_stg1_rldlyrnk_fine_rank0_byte1\": 5,\n",
      "    \"f0_wrdqdbi_left_edge_dq_bit05\": 64,\n",
      "    \"f0_wrdqdbi_right_margin_fcrse_byte2\": 60,\n",
      "    \"f0_wrcmplx_left_margin_fcrse_byte3\": 70,\n",
      "    \"f0_rddq_nqtr_right_nibble13\": 172,\n",
      "    \"bisc_idly1_align_nibble04\": 73,\n",
      "    \"f1_rddq_nqtr_right_fcrse_nibble05\": 0,\n",
      "    \"f1_rdcmplx_pqtr_right_short_nibble09\": 0,\n",
      "    \"f1_rdcmplx_nqtr_final_nibble01\": 0,\n",
      "    \"wrvref_right_vref_final_rank0_byte0\": 0,\n",
      "    \"f1_wrcmplx_odly_dbi_final_byte3\": 0,\n",
      "    \"f1_wrlvl_fine_right_rank0_byte3\": 0,\n",
      "    \"f1_rddq_nqtr_final_nibble03\": 0,\n",
      "    \"wrvref_vref_low_bound_rank0_byte1\": 0,\n",
      "    \"dqstrack_rldlyrnk_crse_byte3\": 2,\n",
      "    \"f1_wrdqdbi_stg3_dq_odly_bit42\": 0,\n",
      "    \"f1_wrdqdbi_left_edge_dq_bit09\": 0,\n",
      "    \"vttrack_rldlyqtr_max_nibble04\": 81,\n",
      "    \"f0_wrcmplx_right_margin_byte6\": 66,\n",
      "    \"f1_wrdqdbi_deskew_dq_odly_fcrse_bit00\": 0,\n",
      "    \"dc1_perf_mon_4\": 0,\n",
      "    \"f1_rdcmplx_pqtr_final_nibble10\": 0,\n",
      "    \"f1_rddq_idelay_final_bit28\": 0,\n",
      "    \"f0_wr_simp_rm_byte_04\": [\n",
      "        73,\n",
      "        148\n",
      "    ],\n",
      "    \"f1_rdcmplx_pqtr_left_short_nibble07\": 0,\n",
      "    \"f0_rdcmplx_pqtr_right_short_nibble06\": 163,\n",
      "    \"rdvref_right_vref_upp_bound_nibble07\": 0,\n",
      "    \"f0_wrdqdbi_left_edge_dq_bit61\": 63,\n",
      "    \"f0_rdcmplx_pqtr_right_short_fcrse_nibble15\": 167,\n",
      "    \"f1_wrdqdbi_stg3_dq_odly_bit36\": 0,\n",
      "    \"f1_calbisc_rl_dly_qtr_nibble12\": 0,\n",
      "    \"f1_calbisc_rl_dly_pqtr_nibble00\": 0,\n",
      "    \"f0_rd_comp_fall_lm_nib_11\": [\n",
      "        63,\n",
      "        126\n",
      "    ],\n",
      "    \"f0_wr_comp_ctp_byte_01\": [\n",
      "        284,\n",
      "        576\n",
      "    ],\n",
      "    \"f1_rdcmplx_pqtr_right_short_fcrse_nibble09\": 0,\n",
      "    \"f1_rdcmplx_nqtr_left_nibble11\": 0,\n",
      "    \"f0_rdprbs_nqtr_left_margin_nibble03\": 0,\n",
      "    \"f0_rddq_idelay_final_bit25\": 76,\n",
      "    \"vttrack_rldlyqtr_min_nibble14\": 74,\n",
      "    \"f0_wrcmplx_odly_dq_final_bit48\": 58,\n",
      "    \"f0_wrprbs_right_margin_byte0\": 0,\n",
      "    \"vttrack_rldlyqtr_min_nibble00\": 74,\n",
      "    \"f1_wrdqdbi_deskew_dq_odly_bit13\": 0,\n",
      "    \"f0_wrdqdbi_odly_dbi_final_byte1\": 56,\n",
      "    \"f0_dqsgate_stg1_rldlyrnk_crse_rank0_byte3\": 10,\n",
      "    \"f1_rdprbs_pqtr_left_margin_nibble15\": 0,\n",
      "    \"f0_rddq_nqtr_right_nibble08\": 178,\n",
      "    \"f0_xpll_divclk_ht\": 1,\n",
      "    \"f0_wr_comp_ctp_byte_00\": [\n",
      "        227,\n",
      "        461\n",
      "    ],\n",
      "    \"f1_wrcmplx_odly_dq_final_bit46\": 0,\n",
      "    \"f0_wrdqdbi_stg2_dq_odly_bit03\": 57,\n",
      "    \"f1_wrcmplx_odly_dq_final_bit55\": 0,\n",
      "    \"cal_stage.01_F0_PHY_BISC\": \"Pass\",\n",
      "    \"f1_wrdqdbi_stg2_dq_odly_bit38\": 0,\n",
      "    \"f1_rdcmplx_pqtr_left_nibble02\": 0,\n",
      "    \"f0_wrdqdbi_deskew_dq_odly_fcrse_bit46\": 126,\n",
      "    \"f0_rd_simp_fall_ctp_nib_03\": [\n",
      "        102,\n",
      "        204\n",
      "    ],\n",
      "    \"f0_wrdqdbi_odly_dq_final_bit08\": 52,\n",
      "    \"f1_wrdqdbi_left_edge_dq_bit42\": 0,\n",
      "    \"bisc_nqtr_nibble00\": 77,\n",
      "    \"f0_wrdqdbi_odly_dq_final_bit35\": 92,\n",
      "    \"iobmap_dq_43_42\": 0,\n",
      "    \"f0_wrdqdbi_odly_dq_final_bit22\": 105,\n",
      "    \"f0_wrcmplx_odly_dq_final_bit07\": 76,\n",
      "    \"f0_dqsgate_stg1_overflow_02\": 255,\n",
      "    \"f1_wrcmplx_odly_dq_final_bit56\": 0,\n",
      "    \"f0_wr_comp_rm_byte_02\": [\n",
      "        64,\n",
      "        128\n",
      "    ],\n",
      "    \"f1_wrdqdbi_right_edge_dqs_byte2\": 0,\n",
      "    \"f0_wrdqdbi_deskew_dbi_odly_byte1\": 129,\n",
      "    \"f1_wrdqdbi_stg1_bit_status_byte5\": 0,\n",
      "    \"f0_dqsgate_stg1_overflow_27\": 0,\n",
      "    \"f1_rddq_idelay_final_bit58\": 0,\n",
      "    \"f0_wrdqdbi_deskew_dq_odly_bit22\": 177,\n",
      "    \"f1_wrlvl_offset_rank0_byte2\": 0,\n",
      "    \"f0_dqsgate_stg2_read_lat_rank0_byte6\": 27,\n",
      "    \"f1_wrdqdbi_stg2_dq_odly_bit24\": 0,\n",
      "    \"f1_rddq_nqtr_right_nibble05\": 0,\n",
      "    \"f1_wrcmplx_right_margin_byte0\": 0,\n",
      "    \"f1_wrdqdbi_left_edge_dq_bit29\": 0,\n",
      "    \"f0_wrdqdbi_stg2_dq_odly_bit36\": 97,\n",
      "    \"dqstrack_rldlyrnk_crse_max_byte4\": 5,\n",
      "    \"f1_wrcmplx_odly_dqs_final_byte4\": 0,\n",
      "    \"f1_rdcmplx_pqtr_right_short_nibble10\": 0,\n",
      "    \"f1_wrprbs_left_margin_byte4\": 0,\n",
      "    \"f0_rdprbs_nqtr_right_margin_nibble00\": 0,\n",
      "    \"alert_parity_ch0_error\": 0,\n",
      "    \"bisc_idly1_align_nibble09\": 81,\n",
      "    \"f1_wrdqdbi_stg1_bit_status_byte4\": 0,\n",
      "    \"mgchk_def_wr_vref_range\": 0,\n",
      "    \"f1_wrdqdbi_stg3_dq_odly_bit48\": 0,\n",
      "    \"f1_wrdqdbi_deskew_dq_odly_bit47\": 0,\n",
      "    \"wrvref_vref_upp_bound_rank0_byte0\": 0,\n",
      "    \"write_data_bitslip_en\": 0,\n",
      "    \"f1_rddq_idelay_final_bit32\": 0,\n",
      "    \"f1_wrcmplx_odly_dq_final_bit57\": 0,\n",
      "    \"f0_rd_comp_rise_ctp_nib_14\": [\n",
      "        90,\n",
      "        178\n",
      "    ],\n",
      "    \"f0_dqsgate_stg1_overflow_57\": 0,\n",
      "    \"f1_rdcmplx_nqtr_left_nibble02\": 0,\n",
      "    \"f1_mr4_8_0\": 0,\n",
      "    \"f0_dqsgate_stg1_overflow_53\": 0,\n",
      "    \"f0_rdcmplx_pqtr_right_short_fcrse_nibble05\": 178,\n",
      "    \"f0_wrdqdbi_left_edge_dq_bit54\": 48,\n",
      "    \"cal_seq_status_41\": 447,\n",
      "    \"bisc_mon_align_nibble05\": 0,\n",
      "    \"f1_rddq_pqtr_right_fcrse_nibble10\": 0,\n",
      "    \"f1_wrdqdbi_left_edge_dq_bit34\": 0,\n",
      "    \"f1_wrlvl_fine_left_rank0_byte1\": 0,\n",
      "    \"f1_wrdqdbi_odly_dq_final_bit61\": 0,\n",
      "    \"f1_wrdqdbi_deskew_dq_odly_bit20\": 0,\n",
      "    \"f0_rdcmplx_pqtr_left_short_nibble09\": 25,\n",
      "    \"f0_wrdqdbi_odly_dbi_final_byte6\": 49,\n",
      "    \"f1_rddq_idelay_final_bit49\": 0,\n",
      "    \"f0_rdcmplx_nqtr_right_short_nibble15\": 166,\n",
      "    \"f0_rdcmplx_pqtr_right_short_nibble15\": 165,\n",
      "    \"f0_calbisc_rl_dly_nqtr_nibble02\": 76,\n",
      "    \"f0_wrdqdbi_stg2_dq_odly_bit60\": 63,\n",
      "    \"f0_wrdqdbi_stg5_dqs_odly_byte5\": 52,\n",
      "    \"f1_wrdqdbi_stg3_dq_odly_bit03\": 0,\n",
      "    \"f1_wrdqdbi_stg1_bit_status_byte6\": 0,\n",
      "    \"f1_rddq_pqtr_left_nibble00\": 0,\n",
      "    \"f0_rdcmplx_idelay_offset_nibble07\": 0,\n",
      "    \"f1_wrlvl_fine_left_rank0_byte0\": 0,\n",
      "    \"f0_xpll_clkoutfb_lt\": 16,\n",
      "    \"f1_rdcmplx_pqtr_right_short_nibble11\": 0,\n",
      "    \"f1_wrdqdbi_odly_dbi_final_byte6\": 0,\n",
      "    \"rdvref_right_vref_low_bound_nibble00\": 0,\n",
      "    \"cal_stage_time_13\": 75,\n",
      "    \"f0_wrdqdbi_stg4_dqs_delay_byte1\": 14,\n",
      "    \"f0_rdcmplx_pqtr_right_nibble00\": 158,\n",
      "    \"f0_rdcmplx_nqtr_final_nibble13\": 92,\n",
      "    \"f1_rdcmplx_pqtr_final_nibble03\": 0,\n",
      "    \"cal_warning_61\": 0,\n",
      "    \"wrmargin_right_byte6\": 0,\n",
      "    \"mgchk_ctrl\": 0,\n",
      "    \"f0_rdcmplx_pqtr_right_short_fcrse_nibble02\": 169,\n",
      "    \"bisc_idly1_align_nibble01\": 81,\n",
      "    \"f1_rddq_nqtr_right_fcrse_nibble15\": 0,\n",
      "    \"f0_rddq_pqtr_right_nibble02\": 167,\n",
      "    \"f0_rdcmplx_nqtr_right_nibble13\": 151,\n",
      "    \"f0_wrlat_phy_data_nib_final_byte4\": 1,\n",
      "    \"wrvref_left_vref_upp_bound_rank0_byte1\": 0,\n",
      "    \"f0_wrdqdbi_deskew_dq_odly_fcrse_bit54\": 130,\n",
      "    \"cal_error_phy_nibble_26_18\": 0,\n",
      "    \"rdvref_left_vref_upp_bound_nibble13\": 0,\n",
      "    \"f1_wrdqdbi_stg3_dq_odly_bit15\": 0,\n",
      "    \"f0_wrdqdbi_deskew_dq_odly_fcrse_bit18\": 162,\n",
      "    \"f0_wrlat_phy_oe_nib_final_byte3\": 1,\n",
      "    \"f1_dqsgate_stg1_read_lat_rank0_byte4\": 0,\n",
      "    \"f0_rd_comp_fall_lm_nib_03\": [\n",
      "        60,\n",
      "        120\n",
      "    ],\n",
      "    \"f1_wrdqdbi_stg2_dq_odly_bit15\": 0,\n",
      "    \"bisc_nqtr_nibble10\": 80,\n",
      "    \"f1_wrdqdbi_stg1_dqs_delay_byte4\": 0,\n",
      "    \"f0_rd_comp_fall_lm_nib_01\": [\n",
      "        57,\n",
      "        117\n",
      "    ],\n",
      "    \"f0_rdcmplx_nqtr_right_nibble10\": 149,\n",
      "    \"f1_wrdqdbi_deskew_dq_odly_bit12\": 0,\n",
      "    \"f0_rdcmplx_pqtr_right_short_fcrse_nibble04\": 170,\n",
      "    \"f1_wrdqdbi_left_edge_dq_bit40\": 0,\n",
      "    \"f1_wrcmplx_left_margin_fcrse_byte3\": 0,\n",
      "    \"f0_rdcmplx_pqtr_right_nibble09\": 151,\n",
      "    \"f1_rddq_pqtr_right_nibble14\": 0,\n",
      "    \"f1_rddq_idelay_final_bit06\": 0,\n",
      "    \"f1_rddq_pqtr_left_nibble02\": 0,\n",
      "    \"f0_rd_comp_rise_lm_nib_10\": [\n",
      "        64,\n",
      "        127\n",
      "    ],\n",
      "    \"cal_warning_10\": 0,\n",
      "    \"f0_wrcmplx_odly_dq_final_bit13\": 55,\n",
      "    \"phy_oe_nib5_dly\": 1,\n",
      "    \"f0_rd_simp_rise_rm_nib_01\": [\n",
      "        75,\n",
      "        152\n",
      "    ],\n",
      "    \"f0_rd_simp_fall_rm_nib_14\": [\n",
      "        73,\n",
      "        148\n",
      "    ],\n",
      "    \"f0_rddq_pqtr_right_nibble08\": 165,\n",
      "    \"iobmap_dq_59_58\": 0,\n",
      "    \"bisc_pqtr_align_nibble02\": 2,\n",
      "    \"bisc_mon_align_nibble10\": 0,\n",
      "    \"f0_dqsgate_stg1_rldlyrnk_fine_rank0_byte3\": 19,\n",
      "    \"f1_wrdqdbi_deskew_dq_odly_bit46\": 0,\n",
      "    \"f1_rdcmplx_pqtr_right_nibble09\": 0,\n",
      "    \"phy_oe_nib2_dly\": 1,\n",
      "    \"f0_wrdqdbi_odly_dbi_final_byte0\": 67,\n",
      "    \"rdvref_left_vref_low_bound_nibble01\": 0,\n",
      "    \"f1_rdcmplx_pqtr_left_short_nibble02\": 0,\n",
      "    \"f1_rdcmplx_nqtr_right_short_fcrse_nibble09\": 0,\n",
      "    \"f1_lp4_mr12\": 0,\n",
      "    \"f1_dqsgate_stg1_overflow_52\": 0,\n",
      "    \"f0_wrcmplx_odly_dqs_final_byte0\": 73,\n",
      "    \"f0_wrdqdbi_deskew_dq_odly_fcrse_bit12\": 127,\n",
      "    \"f0_rdcmplx_nqtr_right_short_nibble02\": 169,\n",
      "    \"f1_dqsgate_stg1_overflow_47\": 0,\n",
      "    \"f0_rd_simp_fall_ctp_nib_13\": [\n",
      "        101,\n",
      "        205\n",
      "    ],\n",
      "    \"f1_wrdqdbi_stg3_dq_odly_bit49\": 0,\n",
      "    \"f1_rdprbs_nqtr_left_margin_nibble06\": 0,\n",
      "    \"f1_rdcmplx_pqtr_left_nibble06\": 0,\n",
      "    \"f0_calbisc_rl_dly_nqtr_nibble04\": 78,\n",
      "    \"f1_rdcmplx_pqtr_final_nibble09\": 0,\n",
      "    \"sys_clk_17_9\": 9,\n",
      "    \"f0_wrdqdbi_left_edge_dq_bit35\": 91,\n",
      "    \"f1_wrcmplx_left_margin_fcrse_byte1\": 0,\n",
      "    \"f0_wrcmplx_odly_dbi_final_byte3\": 71,\n",
      "    \"rdvref_right_vref_final_nibble15\": 0,\n",
      "    \"f1_wrdqdbi_left_edge_dq_bit52\": 0,\n",
      "    \"f0_rd_simp_fall_rm_nib_00\": [\n",
      "        74,\n",
      "        150\n",
      "    ],\n",
      "    \"f1_xpll_divclk_ht\": 1,\n",
      "    \"wrvref_left_vref_final_rank0_byte7\": 0,\n",
      "    \"f0_wrdqdbi_deskew_dq_odly_fcrse_bit62\": 143,\n",
      "    \"cal_error_bit_phy_nibble_08\": 0,\n",
      "    \"f0_rdprbs_pqtr_right_margin_nibble10\": 0,\n",
      "    \"f0_rddq_pqtr_final_nibble09\": 92,\n",
      "    \"f0_rd_comp_rise_ctp_nib_09\": [\n",
      "        88,\n",
      "        181\n",
      "    ],\n",
      "    \"f0_dqsgate_stg1_overflow_03\": 0,\n",
      "    \"f1_dqsgate_stg2_rldlyrnk_crse_rank0_byte4\": 0,\n",
      "    \"f1_wrdqdbi_stg3_dq_odly_bit13\": 0,\n",
      "    \"cal_seq_status_10\": 395,\n",
      "    \"f0_rd_simp_rise_ctp_nib_08\": [\n",
      "        91,\n",
      "        182\n",
      "    ],\n",
      "    \"f0_calbisc_rl_dly_qtr_nibble01\": 76,\n",
      "    \"f0_rd_comp_rise_lm_nib_05\": [\n",
      "        66,\n",
      "        132\n",
      "    ],\n",
      "    \"f0_rdcmplx_pqtr_right_short_fcrse_nibble14\": 168,\n",
      "    \"f1_rddq_idelay_final_bit46\": 0,\n",
      "    \"phy_oe_nib18_dly\": 0,\n",
      "    \"f1_rddq_pqtr_right_nibble07\": 0,\n",
      "    \"f0_wrdqdbi_odly_dq_final_bit05\": 74,\n",
      "    \"f0_rd_comp_fall_ctp_nib_07\": [\n",
      "        83,\n",
      "        166\n",
      "    ],\n",
      "    \"dc0_perf_mon_5\": 0,\n",
      "    \"self_refresh_exit_error\": 0,\n",
      "    \"f0_wrcmplx_odly_dqs_final_byte1\": 53,\n",
      "    \"f0_dqsgate_stg1_rldlyrnk_crse_rank0_byte7\": 5,\n",
      "    \"f1_wrdqdbi_stg5_dqs_odly_byte1\": 0,\n",
      "    \"rdvref_left_vref_upp_bound_nibble15\": 0,\n",
      "    \"f0_rddq_pqtr_final_nibble11\": 91,\n",
      "    \"f0_wrprbs_left_margin_byte3\": 0,\n",
      "    \"f0_calbisc_rl_dly_nqtr_nibble05\": 79,\n",
      "    \"wrvref_left_vref_low_bound_rank0_byte3\": 0,\n",
      "    \"f1_wrdqdbi_stg2_dq_odly_bit01\": 0,\n",
      "    \"ddrmc_pcsr_status\": 23,\n",
      "    \"f1_wrdqdbi_odly_dq_final_bit19\": 0,\n",
      "    \"f1_wrcmplx_right_margin_byte4\": 0,\n",
      "    \"f1_rddq_idelay_final_bit43\": 0,\n",
      "    \"f0_dqsgate_stg1_overflow_59\": 0,\n",
      "    \"mgchk_mode\": 0,\n",
      "    \"f0_calbisc_rl_dly_qtr_nibble10\": 79,\n",
      "    \"wrvref_right_vref_upp_bound_rank0_byte3\": 0,\n",
      "    \"cal_seq_status_27\": 298,\n",
      "    \"f0_rdprbs_pqtr_right_margin_nibble05\": 0,\n",
      "    \"f0_wrdqdbi_deskew_dq_odly_bit60\": 152,\n",
      "    \"bisc_idly2_align_nibble10\": 70,\n",
      "    \"ddrmc_isr_nsu_1\": 0,\n",
      "    \"f0_wrdqdbi_stg5_dqs_odly_byte6\": 56,\n",
      "    \"f1_wrlat_match_rank0_byte5\": 0,\n",
      "    \"ddrmc_isr_ch0_data_par\": 0,\n",
      "    \"f1_wrdqdbi_left_edge_dq_bit28\": 0,\n",
      "    \"f1_wrdqdbi_odly_dq_final_bit27\": 0,\n",
      "    \"f1_rdcmplx_nqtr_right_nibble09\": 0,\n",
      "    \"bisc_pqtr_align_nibble12\": 0,\n",
      "    \"f0_wrcmplx_odly_dbi_final_byte0\": 69,\n",
      "    \"ub_isr_vt_track_err\": 0,\n",
      "    \"f0_wrdqdbi_deskew_dq_odly_bit28\": 140,\n",
      "    \"f0_rd_comp_fall_ctp_nib_05\": [\n",
      "        88,\n",
      "        174\n",
      "    ],\n",
      "    \"wrmargin_right_byte1\": 0,\n",
      "    \"bisc_pqtr_nibble14\": 79,\n",
      "    \"f0_dqsgate_stg1_overflow_25\": 0,\n",
      "    \"reg_safe_config5\": 68161558,\n",
      "    \"rdvref_left_vref_def_nibble11\": 0,\n",
      "    \"f0_dqsgate_stg1_overflow_62\": 0,\n",
      "    \"f1_rdcmplx_idelay_offset_nibble11\": 0,\n",
      "    \"f1_wrlvl_fine_final_rank0_byte5\": 0,\n",
      "    \"cal_stage_time_14\": 6,\n",
      "    \"bisc_pqtr_align_nibble15\": 0,\n",
      "    \"bisc_idly1_align_nibble11\": 80,\n",
      "    \"f1_rddq_nqtr_right_nibble03\": 0,\n",
      "    \"ddrmc_isr_na_cmd0\": 0,\n",
      "    \"f0_rd_simp_rise_ctp_nib_07\": [\n",
      "        92,\n",
      "        187\n",
      "    ],\n",
      "    \"f1_calbisc_rl_dly_nqtr_nibble07\": 0,\n",
      "    \"f0_dqsgate_stg1_overflow_28\": 0,\n",
      "    \"f1_rdcmplx_nqtr_right_short_fcrse_nibble04\": 0,\n",
      "    \"f0_dqsgate_stg2_rldlyrnk_crse_rank0_byte5\": 2,\n",
      "    \"iobmap_dq_29_28\": 0,\n",
      "    \"f0_rdprbs_pqtr_right_margin_nibble12\": 0,\n",
      "    \"f0_rd_simp_rise_ctp_nib_04\": [\n",
      "        91,\n",
      "        180\n",
      "    ],\n",
      "    \"mgchk_start\": 0,\n",
      "    \"f0_rdcmplx_nqtr_left_short_nibble04\": 31,\n",
      "    \"f1_rdcmplx_nqtr_final_nibble06\": 0,\n",
      "    \"vttrack_rldlyqtr_max_nibble13\": 82,\n",
      "    \"f0_wrdqdbi_deskew_dq_odly_fcrse_bit27\": 154,\n",
      "    \"f1_wrcmplx_odly_dqs_final_byte2\": 0,\n",
      "    \"phy_oe_nib19_dly\": 0,\n",
      "    \"dc0_perf_mon_2\": 0,\n",
      "    \"cal_warning_13\": 0,\n",
      "    \"bisc_idly2_align_nibble15\": 74,\n",
      "    \"f1_wrlvl_offset_rank0_byte1\": 0,\n",
      "    \"cal_seq_status_15\": 401,\n",
      "    \"bisc_idly4_align_nibble13\": 79,\n",
      "    \"f0_rdcmplx_nqtr_left_nibble02\": 28,\n",
      "    \"dc1_perf_mon_5\": 0,\n",
      "    \"f0_rddq_nqtr_right_fcrse_nibble00\": 179,\n",
      "    \"f0_wrdqdbi_stg3_dq_odly_bit28\": 64,\n",
      "    \"rdvref_vref_upp_bound_nibble10\": 0,\n",
      "    \"bisc_idly5_align_nibble03\": 82,\n",
      "    \"rdvref_vref_upp_bound_nibble11\": 0,\n",
      "    \"f0_wrdqdbi_stg2_dq_odly_bit01\": 57,\n",
      "    \"f0_wrdqdbi_stg3_dq_odly_bit40\": 36,\n",
      "    \"f0_wrdqdbi_deskew_dq_odly_bit01\": 146,\n",
      "    \"cal_seq_status_47\": 0,\n",
      "    \"f1_wrdqdbi_stg3_dq_odly_bit40\": 0,\n",
      "    \"f1_wrdqdbi_deskew_dbi_odly_fcrse_byte1\": 0,\n",
      "    \"f1_wrcmplx_odly_dq_final_bit05\": 0,\n",
      "    \"f1_rdcmplx_idelay_offset_nibble05\": 0,\n",
      "    \"f1_rdprbs_pqtr_right_margin_nibble10\": 0,\n",
      "    \"f1_par_alert_en\": 1,\n",
      "    \"rdvref_vref_final_nibble12\": 0,\n",
      "    \"dqstrack_rldlyrnk_crse_byte4\": 5,\n",
      "    \"f1_rdprbs_nqtr_left_margin_nibble04\": 0,\n",
      "    \"f1_wrdqdbi_stg3_dq_odly_bit47\": 0,\n",
      "    \"cal_stage_time_58\": 0,\n",
      "    \"dqstrack_rldlyrnk_fine_byte3\": 23,\n",
      "    \"f0_wrdqdbi_stg1_byte_status_00\": 511,\n",
      "    \"f1_rddq_nqtr_left_nibble06\": 0,\n",
      "    \"f1_wrlat_match_rank0_byte2\": 0,\n",
      "    \"f1_wrdqdbi_left_edge_dq_bit24\": 0,\n",
      "    \"f1_wrcmplx_left_margin_fcrse_byte7\": 0,\n",
      "    \"f0_rd_comp_fall_lm_nib_12\": [\n",
      "        60,\n",
      "        119\n",
      "    ],\n",
      "    \"f1_calbisc_rl_dly_nqtr_nibble06\": 0,\n",
      "    \"f0_rdcmplx_pqtr_left_nibble09\": 26,\n",
      "    \"f1_wrdqdbi_deskew_dq_odly_bit29\": 0,\n",
      "    \"f0_wrcmplx_right_margin_byte1\": 63,\n",
      "    \"mgchk_def_wr_vref\": 28,\n",
      "    \"f0_wrdqdbi_left_edge_dbi_byte0\": 57,\n",
      "    \"f1_wrlvl_crse_final_rank0_byte5\": 0,\n",
      "    \"f1_wrdqdbi_stg1_bit_status_byte7\": 0,\n",
      "    \"f0_wrcmplx_left_margin_fcrse_byte6\": 60,\n",
      "    \"f1_rdprbs_pqtr_left_margin_nibble08\": 0,\n",
      "    \"f0_rd_simp_rise_rm_nib_15\": [\n",
      "        75,\n",
      "        148\n",
      "    ],\n",
      "    \"track_enable\": \"DDRMC ISR Tracking, Post-Cal Status, UB ISR Tracking, DQS Gate Tracking\",\n",
      "    \"cal_seq_status_03\": 261,\n",
      "    \"f1_wrdqdbi_stg2_dqs_odly_byte1\": 0,\n",
      "    \"pre_post_cal_map_ver\": 1,\n",
      "    \"f0_wrdqdbi_right_margin_byte2\": 60,\n",
      "    \"wrvref_vref_final_rank0_byte7\": 0,\n",
      "    \"f0_wrdqdbi_deskew_dq_odly_fcrse_bit43\": 106,\n",
      "    \"bytes\": 8,\n",
      "    \"f0_wr_simp_ctp_byte_02\": [\n",
      "        332,\n",
      "        665\n",
      "    ],\n",
      "    \"f0_rd_comp_fall_ctp_nib_15\": [\n",
      "        90,\n",
      "        178\n",
      "    ],\n",
      "    \"f0_rdprbs_nqtr_left_margin_nibble08\": 0,\n",
      "    \"f1_wrcmplx_odly_dq_final_bit13\": 0,\n",
      "    \"f1_rddq_idelay_final_bit41\": 0,\n",
      "    \"f0_wrdqdbi_odly_dq_final_bit54\": 57,\n",
      "    \"f0_rd_simp_rise_rm_nib_13\": [\n",
      "        75,\n",
      "        150\n",
      "    ],\n",
      "    \"phy_rden19_dly\": 22,\n",
      "    \"f0_wrcmplx_right_margin_byte3\": 62,\n",
      "    \"f1_wrdqdbi_deskew_dq_odly_fcrse_bit18\": 0,\n",
      "    \"rdvref_left_vref_upp_bound_nibble00\": 0,\n",
      "    \"f1_wrdqdbi_stg2_dq_odly_bit49\": 0,\n",
      "    \"f0_dqsgate_stg1_rldlyrnk_crse_rank0_byte0\": 8,\n",
      "    \"f1_wrdqdbi_deskew_dq_odly_fcrse_bit61\": 0,\n",
      "    \"f0_rd_comp_fall_ctp_nib_01\": [\n",
      "        95,\n",
      "        195\n",
      "    ],\n",
      "    \"f0_rdcmplx_nqtr_right_short_fcrse_nibble07\": 167,\n",
      "    \"rdvref_vref_final_nibble06\": 0,\n",
      "    \"f0_wrcmplx_right_margin_fcrse_byte1\": 60,\n",
      "    \"f0_rd_comp_rise_lm_nib_06\": [\n",
      "        65,\n",
      "        130\n",
      "    ],\n",
      "    \"f0_wrlat_wldlyrnk_crse_final_rank0_byte0\": 2,\n",
      "    \"f0_mr3_8_0\": 32,\n",
      "    \"f1_rddq_nqtr_right_nibble08\": 0,\n",
      "    \"f0_rd_simp_rise_rm_nib_00\": [\n",
      "        73,\n",
      "        144\n",
      "    ],\n",
      "    \"iobmap_dqs_12\": 0,\n",
      "    \"dqstrack_rldlyrnk_crse_min_byte3\": 2,\n",
      "    \"f1_rddq_idelay_final_bit63\": 0,\n",
      "    \"f0_rdprbs_pqtr_right_margin_nibble09\": 0,\n",
      "    \"f0_dqsgate_stg1_read_lat_rank0_byte3\": 24,\n",
      "    \"f0_rdcmplx_nqtr_left_short_nibble09\": 27,\n",
      "    \"f1_wrdqdbi_left_edge_dq_bit06\": 0,\n",
      "    \"f0_rddq_idelay_final_bit37\": 71,\n",
      "    \"f1_wrdqdbi_odly_dq_final_bit50\": 0,\n",
      "    \"f0_dqsgate_stg1_rldlyrnk_crse_rank0_byte5\": 14,\n",
      "    \"f1_rdcmplx_pqtr_right_short_fcrse_nibble01\": 0,\n",
      "    \"f1_rdprbs_pqtr_right_margin_nibble15\": 0,\n",
      "    \"iobmap_dq_47_46\": 0,\n",
      "    \"f0_rd_simp_rise_lm_nib_00\": [\n",
      "        72,\n",
      "        142\n",
      "    ],\n",
      "    \"f0_wrdqdbi_stg3_dq_odly_bit62\": 63,\n",
      "    \"f0_rdcmplx_idelay_offset_nibble01\": 0,\n",
      "    \"es_vref_min\": 273,\n",
      "    \"f0_rddq_nqtr_left_nibble02\": 26,\n",
      "    \"f1_wrdqdbi_stg2_dq_odly_bit39\": 0,\n",
      "    \"f1_rdcmplx_pqtr_left_nibble10\": 0,\n",
      "    \"f1_dqsgate_read_lat_final_byte7\": 0,\n",
      "    \"rdvref_left_vref_def_nibble02\": 0,\n",
      "    \"f1_dqsgate_stg1_overflow_32\": 0,\n",
      "    \"f0_dqsgate_stg1_read_lat_rank0_byte1\": 24,\n",
      "    \"phy_oe_nib10_dly\": 0,\n",
      "    \"f0_wrcmplx_odly_dq_final_bit59\": 86,\n",
      "    \"f0_wrlvl_fine_right_rank0_byte5\": 38,\n",
      "    \"f0_wrdqdbi_deskew_dq_odly_bit04\": 143,\n",
      "    \"f1_rdcmplx_nqtr_left_short_nibble11\": 0,\n",
      "    \"f0_wrprbs_left_margin_byte4\": 0,\n",
      "    \"f0_rdcmplx_nqtr_right_nibble06\": 147,\n",
      "    \"f1_dqsgate_stg1_overflow_37\": 0,\n",
      "    \"f1_wrdqdbi_stg2_dq_odly_bit28\": 0,\n",
      "    \"iobmap_dq_21_20\": 0,\n",
      "    \"cal_stage_time_51\": 0,\n",
      "    \"f0_dqsgate_stg1_read_lat_rank0_byte4\": 24,\n",
      "    \"f1_dqsgate_stg1_overflow_02\": 0,\n",
      "    \"f0_rd_comp_fall_ctp_nib_14\": [\n",
      "        87,\n",
      "        177\n",
      "    ],\n",
      "    \"f0_dqsgate_stg1_overflow_23\": 0,\n",
      "    \"iobmap_dq_41_40\": 0,\n",
      "    \"f0_wrdqdbi_stg2_dq_odly_bit61\": 63,\n",
      "    \"f1_mr5_8_0\": 0,\n",
      "    \"bisc_idly5_align_nibble05\": 82,\n",
      "    \"f1_wrdqdbi_left_margin_byte4\": 0,\n",
      "    \"dqstrack_rldlyrnk_crse_byte5\": 2,\n",
      "    \"f1_wrdqdbi_odly_dq_final_bit37\": 0,\n",
      "    \"f0_wrdqdbi_stg3_dq_odly_bit05\": 57,\n",
      "    \"f1_rddq_nqtr_right_fcrse_nibble04\": 0,\n",
      "    \"f1_rdprbs_nqtr_left_margin_nibble00\": 0,\n",
      "    \"f1_wrdqdbi_deskew_dq_odly_fcrse_bit55\": 0,\n",
      "    \"f1_rdcmplx_nqtr_final_nibble05\": 0,\n",
      "    \"cal_warning_31\": 0,\n",
      "    \"f0_wrdqdbi_stg3_dq_odly_bit17\": 82,\n",
      "    \"f0_rdcmplx_nqtr_left_nibble07\": 22,\n",
      "    \"f1_wrdqdbi_deskew_dbi_odly_fcrse_byte2\": 0,\n",
      "    \"f0_wrdqdbi_left_edge_dq_bit07\": 64,\n",
      "    \"f0_rd_simp_rise_lm_nib_01\": [\n",
      "        74,\n",
      "        150\n",
      "    ],\n",
      "    \"f0_rddq_pqtr_right_nibble00\": 163,\n",
      "    \"f0_wrcmplx_odly_dq_final_bit31\": 94,\n",
      "    \"f0_mr1_8_0\": 257,\n",
      "    \"f0_rdcmplx_nqtr_right_short_nibble12\": 164,\n",
      "    \"cal_stage.02_F0_MEM_INIT\": \"Pass\",\n",
      "    \"bisc_mon_align_nibble02\": 0,\n",
      "    \"f1_wrdqdbi_left_edge_dq_bit43\": 0,\n",
      "    \"f1_rdcmplx_nqtr_left_short_nibble10\": 0,\n",
      "    \"f0_rdcmplx_nqtr_final_nibble00\": 88,\n",
      "    \"f1_wrprbs_right_margin_byte5\": 0,\n",
      "    \"f0_wrdqdbi_right_margin_byte6\": 62,\n",
      "    \"f1_dqsgate_rldlyrnk_crse_final_rank0_byte3\": 0,\n",
      "    \"f0_rdcmplx_pqtr_final_nibble10\": 91,\n",
      "    \"f1_wrlvl_noise_fcrse_rank0_byte2\": 0,\n",
      "    \"f0_dqsgate_read_lat_final_byte5\": 27,\n",
      "    \"f0_rdcmplx_nqtr_right_nibble15\": 152,\n",
      "    \"f1_rdcmplx_pqtr_left_short_nibble03\": 0,\n",
      "    \"f1_calbisc_rl_dly_nqtr_nibble01\": 0,\n",
      "    \"f1_wrdqdbi_stg2_dqs_odly_byte3\": 0,\n",
      "    \"f0_rdcmplx_pqtr_right_short_fcrse_nibble12\": 169,\n",
      "    \"f0_rddq_pqtr_final_nibble10\": 92,\n",
      "    \"bisc_idly2_align_nibble05\": 77,\n",
      "    \"f1_rdcmplx_nqtr_right_short_fcrse_nibble07\": 0,\n",
      "    \"f0_rddq_nqtr_right_fcrse_nibble07\": 169,\n",
      "    \"0x0a_F0_DQS_GATE_CAL\": \"Pass\",\n",
      "    \"f0_wrdqdbi_deskew_dbi_odly_fcrse_byte5\": 116,\n",
      "    \"ddrmc_isr_dram_parity_fatal_0\": 0,\n",
      "    \"f1_calbisc_rl_dly_qtr_nibble07\": 0,\n",
      "    \"f0_wrdqdbi_stg2_dq_odly_bit57\": 63,\n",
      "    \"f1_wrcmplx_odly_dq_final_bit02\": 0,\n",
      "    \"f0_rdcmplx_pqtr_final_nibble05\": 89,\n",
      "    \"f0_rd_comp_fall_rm_nib_09\": [\n",
      "        62,\n",
      "        126\n",
      "    ],\n",
      "    \"f0_rddq_nqtr_right_nibble00\": 171,\n",
      "    \"f0_wrlat_wldlyrnk_crse_final_rank0_byte4\": 2,\n",
      "    \"f0_rdcmplx_nqtr_left_short_nibble01\": 37,\n",
      "    \"f1_wrdqdbi_deskew_dq_odly_fcrse_bit42\": 0,\n",
      "    \"f1_rddq_pqtr_right_nibble04\": 0,\n",
      "    \"mem_ranks\": 1,\n",
      "    \"f1_wrdqdbi_deskew_dbi_odly_byte0\": 0,\n",
      "    \"phy_oe_nib14_dly\": 0,\n",
      "    \"wrvref_right_vref_def_rank0_byte1\": 0,\n",
      "    \"f1_wrdqdbi_deskew_dq_odly_fcrse_bit48\": 0,\n",
      "    \"f1_wrdqdbi_deskew_dq_odly_bit26\": 0,\n",
      "    \"f1_wrdqdbi_stg2_dq_odly_bit30\": 0,\n",
      "    \"f1_wrdqdbi_stg5_dqs_odly_byte3\": 0,\n",
      "    \"f1_rdcmplx_nqtr_right_short_fcrse_nibble10\": 0,\n",
      "    \"bisc_idly1_align_nibble08\": 71,\n",
      "    \"f1_rddq_qtr_deskew_nibble10\": 0,\n",
      "    \"f0_rd_simp_rise_rm_nib_12\": [\n",
      "        75,\n",
      "        148\n",
      "    ],\n",
      "    \"cal_stage_time_08\": 0,\n",
      "    \"cal_stage_time_18\": 0,\n",
      "    \"f1_rddq_nqtr_right_fcrse_nibble08\": 0,\n",
      "    \"f0_rd_comp_rise_ctp_nib_08\": [\n",
      "        87,\n",
      "        174\n",
      "    ],\n",
      "    \"f0_rddq_nqtr_final_nibble06\": 97,\n",
      "    \"bisc_idly5_align_nibble14\": 73,\n",
      "    \"f1_wrcmplx_odly_dq_final_bit07\": 0,\n",
      "    \"f0_wrlvl_noise_fcrse_rank0_byte1\": 35,\n",
      "    \"cal_stage_time_20\": 0,\n",
      "    \"f1_rdprbs_nqtr_right_margin_nibble14\": 0,\n",
      "    \"f1_rdcmplx_nqtr_right_short_nibble15\": 0,\n",
      "    \"f1_rdprbs_pqtr_right_margin_nibble07\": 0,\n",
      "    \"f1_wrdqdbi_deskew_dq_odly_fcrse_bit47\": 0,\n",
      "    \"f1_rdcmplx_pqtr_final_nibble01\": 0,\n",
      "    \"f0_wrdqdbi_deskew_dq_odly_fcrse_bit47\": 116,\n",
      "    \"f0_wr_simp_lm_byte_00\": [\n",
      "        83,\n",
      "        168\n",
      "    ],\n",
      "    \"bisc_mon_align_nibble08\": 0,\n",
      "    \"f0_wrdqdbi_stg2_dq_odly_bit02\": 57,\n",
      "    \"f0_rd_comp_fall_lm_nib_13\": [\n",
      "        58,\n",
      "        118\n",
      "    ],\n",
      "    \"bisc_rl_dly_qtr_nibble10\": 79,\n",
      "    \"f0_wrlvl_fine_right_rank0_byte2\": 85,\n",
      "    \"f1_rdcmplx_nqtr_left_nibble09\": 0,\n",
      "    \"phy_rden21_dly\": 25,\n",
      "    \"vttrack_rldlyqtr_max_nibble10\": 82,\n",
      "    \"f1_wrdqdbi_odly_dq_final_bit44\": 0,\n",
      "    \"rdvref_left_vref_low_bound_nibble15\": 0,\n",
      "    \"f0_dqsgate_read_lat_final_byte6\": 27,\n",
      "    \"f0_dqsgate_stg2_read_lat_rank0_byte4\": 27,\n",
      "    \"f0_rddq_qtr_deskew_nibble06\": 1,\n",
      "    \"bisc_mon_align_nibble01\": 0,\n",
      "    \"cal_warning_22\": 0,\n",
      "    \"bisc_pqtr_align_nibble03\": 1,\n",
      "    \"f1_rddq_idelay_final_bit02\": 0,\n",
      "    \"f0_dqsgate_stg1_overflow_07\": 0,\n",
      "    \"f1_rddq_nqtr_final_nibble14\": 0,\n",
      "    \"f1_rdcmplx_nqtr_right_nibble01\": 0,\n",
      "    \"f0_rd_comp_rise_lm_nib_14\": [\n",
      "        67,\n",
      "        133\n",
      "    ],\n",
      "    \"f0_wrdqdbi_stg3_dq_odly_bit32\": 97,\n",
      "    \"f0_rdprbs_pqtr_left_margin_nibble12\": 0,\n",
      "    \"wrvref_vref_low_bound_rank0_byte2\": 0,\n",
      "    \"cal_seq_status_23\": 294,\n",
      "    \"num_channels\": 1,\n",
      "    \"f1_wrdqdbi_stg3_dq_odly_bit38\": 0,\n",
      "    \"cal_warning_26\": 0,\n",
      "    \"f0_rdcmplx_idelay_offset_nibble03\": 0,\n",
      "    \"f1_rddq_pqtr_final_nibble08\": 0,\n",
      "    \"f0_wrdqdbi_deskew_dq_odly_bit24\": 143,\n",
      "    \"f0_wrlat_wldlyrnk_crse_final_rank0_byte6\": 3,\n",
      "    \"f0_dqsgate_stg1_overflow_09\": 0,\n",
      "    \"error_code_ver\": 2,\n",
      "    \"rdvref_right_vref_final_nibble08\": 0,\n",
      "    \"f1_dqsgate_rldlyrnk_crse_final_rank0_byte4\": 0,\n",
      "    \"f0_dqsgate_rldlyrnk_crse_final_rank0_byte6\": 3,\n",
      "    \"vttrack_rldlyqtr_max_nibble00\": 81,\n",
      "    \"f0_wrlvl_crse_stg1_rank0_byte7\": 3,\n",
      "    \"f0_rddq_nqtr_right_nibble15\": 173,\n",
      "    \"f1_rdcmplx_idelay_offset_nibble00\": 0,\n",
      "    \"f0_wrdqdbi_stg2_dq_odly_bit58\": 63,\n",
      "    \"cal_warning_55\": 0,\n",
      "    \"f1_rdcmplx_pqtr_left_short_nibble00\": 0,\n",
      "    \"f1_rddq_idelay_final_bit09\": 0,\n",
      "    \"bisc_idly3_align_nibble07\": 77,\n",
      "    \"f0_rddq_idelay_final_bit51\": 73,\n",
      "    \"f0_wrdqdbi_stg3_dq_odly_bit34\": 97,\n",
      "    \"f1_rdcmplx_nqtr_left_nibble13\": 0,\n",
      "    \"f0_rd_simp_rise_rm_nib_03\": [\n",
      "        73,\n",
      "        146\n",
      "    ],\n",
      "    \"f1_rdcmplx_nqtr_right_short_fcrse_nibble14\": 0,\n",
      "    \"f0_wrdqdbi_deskew_dq_odly_bit31\": 162,\n",
      "    \"f0_dqsgate_rldlyrnk_crse_final_rank0_byte5\": 2,\n",
      "    \"bisc_pqtr_nibble05\": 79,\n",
      "    \"f0_rdcmplx_pqtr_left_short_nibble01\": 30,\n",
      "    \"cal_status_cal_done\": 1,\n",
      "    \"f0_wrdqdbi_stg5_dqs_odly_byte3\": 80,\n",
      "    \"f0_rdcmplx_pqtr_right_short_nibble05\": 171,\n",
      "    \"f0_lp4_mr13\": 0,\n",
      "    \"f1_wrdqdbi_right_margin_fcrse_byte0\": 0,\n",
      "    \"f1_calbisc_rl_dly_pqtr_nibble04\": 0,\n",
      "    \"f0_rd_simp_fall_ctp_nib_11\": [\n",
      "        102,\n",
      "        204\n",
      "    ],\n",
      "    \"f1_wrdqdbi_left_edge_dq_bit44\": 0,\n",
      "    \"iobmap_dqs_10\": 0,\n",
      "    \"f0_wrdqdbi_odly_dq_final_bit09\": 53,\n",
      "    \"cal_seq_status_33\": 304,\n",
      "    \"f0_wrdqdbi_stg3_dq_odly_bit30\": 64,\n",
      "    \"f0_rd_simp_rise_lm_nib_11\": [\n",
      "        73,\n",
      "        150\n",
      "    ],\n",
      "    \"bisc_nqtr_align_nibble02\": 0,\n",
      "    \"f1_lp4_mr13\": 0,\n",
      "    \"f0_read_latency\": 1,\n",
      "    \"f1_calbisc_rl_dly_pqtr_nibble06\": 0,\n",
      "    \"bisc_mon_align_nibble04\": 0,\n",
      "    \"f0_wrdqdbi_deskew_dq_odly_fcrse_bit02\": 137,\n",
      "    \"wrmargin_right_byte3\": 0,\n",
      "    \"f0_rdcmplx_nqtr_left_nibble15\": 28,\n",
      "    \"cal_warning_39\": 0,\n",
      "    \"f1_wrdqdbi_deskew_dq_odly_bit27\": 0,\n",
      "    \"f1_rddq_nqtr_right_nibble15\": 0,\n",
      "    \"f1_wrdqdbi_deskew_dbi_odly_byte2\": 0,\n",
      "    \"f0_dqsgate_stg1_rldlyrnk_crse_rank0_byte6\": 15,\n",
      "    \"f0_wrdqdbi_stg2_dq_odly_bit47\": 36,\n",
      "    \"f1_rddq_qtr_deskew_nibble11\": 0,\n",
      "    \"f1_wrdqdbi_stg3_dq_odly_bit31\": 0,\n",
      "    \"rdvref_vref_upp_bound_nibble07\": 0,\n",
      "    \"c_code_major_ver\": 2,\n",
      "    \"f0_dqsgate_stg1_read_lat_rank0_byte0\": 24,\n",
      "    \"f0_rddq_nqtr_right_nibble04\": 177,\n",
      "    \"f1_rdcmplx_nqtr_right_nibble14\": 0,\n",
      "    \"f0_wrdqdbi_deskew_dq_odly_fcrse_bit13\": 117,\n",
      "    \"f0_wrcmplx_odly_dq_final_bit10\": 49,\n",
      "    \"f1_wrcmplx_odly_dq_final_bit18\": 0,\n",
      "    \"f0_wr_simp_rm_byte_07\": [\n",
      "        68,\n",
      "        135\n",
      "    ],\n",
      "    \"cal_warning_37\": 0,\n",
      "    \"f1_wrdqdbi_deskew_dq_odly_fcrse_bit02\": 0,\n",
      "    \"rdvref_right_vref_final_nibble00\": 0,\n",
      "    \"f0_wrlat_match_rank0_byte2\": 16,\n",
      "    \"f1_wrdqdbi_left_edge_dq_bit61\": 0,\n",
      "    \"f0_wrdqdbi_odly_dbi_final_byte2\": 94,\n",
      "    \"wrmargin_right_byte7\": 0,\n",
      "    \"rdvref_left_vref_upp_bound_nibble06\": 0,\n",
      "    \"f0_wrdqdbi_stg2_dq_odly_bit63\": 63,\n",
      "    \"f1_wrdqdbi_deskew_dq_odly_bit16\": 0,\n",
      "    \"f1_wrdqdbi_stg3_dq_odly_bit02\": 0,\n",
      "    \"f0_rddq_nqtr_right_fcrse_nibble09\": 181,\n",
      "    \"f1_wrcmplx_odly_dq_final_bit17\": 0,\n",
      "    \"f0_rd_comp_fall_ctp_nib_11\": [\n",
      "        93,\n",
      "        186\n",
      "    ],\n",
      "    \"f0_rd_simp_rise_ctp_nib_14\": [\n",
      "        92,\n",
      "        182\n",
      "    ],\n",
      "    \"rdvref_vref_low_bound_nibble03\": 0,\n",
      "    \"f1_wrdqdbi_deskew_dq_odly_bit10\": 0,\n",
      "    \"f0_rd_comp_fall_ctp_nib_08\": [\n",
      "        88,\n",
      "        174\n",
      "    ],\n",
      "    \"cal_warning_24\": 0,\n",
      "    \"f1_wrdqdbi_deskew_dq_odly_fcrse_bit13\": 0,\n",
      "    \"f0_rd_simp_fall_rm_nib_02\": [\n",
      "        76,\n",
      "        156\n",
      "    ],\n",
      "    \"f1_dram_2t_mode\": 1,\n",
      "    \"f0_wrdqdbi_stg2_dq_odly_bit24\": 64,\n",
      "    \"cal_stage_time_12\": 20,\n",
      "    \"f0_rdprbs_pqtr_left_margin_nibble00\": 0,\n",
      "    \"cal_warning_40\": 0,\n",
      "    \"f1_dqsgate_stg1_read_lat_rank0_byte0\": 0,\n",
      "    \"f0_mr5_17_9\": 2,\n",
      "    \"rdvref_vref_final_nibble03\": 0,\n",
      "    \"vttrack_rldlyqtr_min_nibble12\": 74,\n",
      "    \"f0_rd_simp_fall_rm_nib_01\": [\n",
      "        69,\n",
      "        142\n",
      "    ],\n",
      "    \"vttrack_rldlyqtr_nibble05\": 78,\n",
      "    \"f0_wrdqdbi_deskew_dq_odly_bit08\": 125,\n",
      "    \"f1_wrcmplx_odly_dq_final_bit51\": 0,\n",
      "    \"f0_wrcmplx_odly_dq_final_bit21\": 108,\n",
      "    \"f1_wrdqdbi_stg2_dq_odly_bit44\": 0,\n",
      "    \"bisc_pqtr_nibble08\": 78,\n",
      "    \"rdmargin_pqtr_left_nibble06\": 0,\n",
      "    \"f0_wrlvl_offset_rank0_byte3\": 79,\n",
      "    \"rdmargin_nqtr_left_nibble14\": 0,\n",
      "    \"f0_rddq_nqtr_right_fcrse_nibble05\": 181,\n",
      "    \"f1_dqsgate_stg2_read_lat_rank0_byte1\": 0,\n",
      "    \"f1_rddq_nqtr_left_nibble01\": 0,\n",
      "    \"f1_tck_lsb\": 113,\n",
      "    \"f1_wrlvl_noise_fcrse_rank0_byte0\": 0,\n",
      "    \"f1_wrdqdbi_stg2_dq_odly_bit05\": 0,\n",
      "    \"f0_wrdqdbi_odly_dq_final_bit36\": 108,\n",
      "    \"f1_rddq_idelay_final_bit59\": 0,\n",
      "    \"rdvref_left_vref_low_bound_nibble09\": 0,\n",
      "    \"f1_rddq_pqtr_left_nibble05\": 0,\n",
      "    \"f0_rd_comp_rise_rm_nib_07\": [\n",
      "        69,\n",
      "        140\n",
      "    ],\n",
      "    \"f1_wrdqdbi_stg2_dq_odly_bit25\": 0,\n",
      "    \"f1_rdprbs_nqtr_right_margin_nibble11\": 0,\n",
      "    \"rdvref_left_vref_low_bound_nibble00\": 0,\n",
      "    \"f0_wrdqdbi_odly_dq_final_bit50\": 57,\n",
      "    \"f1_wrlat_phy_oe_nib_final_byte0\": 0,\n",
      "    \"f0_wrdqdbi_left_edge_dq_bit02\": 55,\n",
      "    \"f1_rdcmplx_pqtr_right_short_fcrse_nibble02\": 0,\n",
      "    \"f1_wrcmplx_right_margin_fcrse_byte2\": 0,\n",
      "    \"f0_rdcmplx_pqtr_left_nibble07\": 20,\n",
      "    \"f0_wrdqdbi_deskew_dbi_odly_fcrse_byte7\": 143,\n",
      "    \"f1_wrdqdbi_deskew_dq_odly_fcrse_bit53\": 0,\n",
      "    \"f1_mr2_8_0\": 0,\n",
      "    \"f1_dqsgate_stg1_rldlyrnk_fine_rank0_byte5\": 0,\n",
      "    \"f1_rdcmplx_nqtr_right_short_nibble03\": 0,\n",
      "    \"f1_dqsgate_stg1_overflow_53\": 0,\n",
      "    \"f0_rddq_idelay_final_bit29\": 75,\n",
      "    \"f1_wrdqdbi_stg2_dq_odly_bit08\": 0,\n",
      "    \"f1_wrdqdbi_odly_dq_final_bit58\": 0,\n",
      "    \"f0_wrdqdbi_deskew_dq_odly_fcrse_bit63\": 143,\n",
      "    \"f0_wrcmplx_right_margin_fcrse_byte6\": 60,\n",
      "    \"f1_wrdqdbi_stg3_dq_odly_bit56\": 0,\n",
      "    \"f0_wrdqdbi_deskew_dbi_odly_byte6\": 121,\n",
      "    \"f0_wrcmplx_right_margin_byte4\": 60,\n",
      "    \"f1_rddq_idelay_final_bit29\": 0,\n",
      "    \"f1_wrdqdbi_right_margin_fcrse_byte3\": 0,\n",
      "    \"cal_warning_03\": 0,\n",
      "    \"f0_rd_simp_fall_rm_nib_08\": [\n",
      "        76,\n",
      "        150\n",
      "    ],\n",
      "    \"cal_warning_38\": 0,\n",
      "    \"f1_calbisc_rl_dly_pqtr_nibble10\": 0,\n",
      "    \"f0_wrdqdbi_left_edge_dq_bit03\": 59,\n",
      "    \"f0_wrdqdbi_stg1_bit_status_byte0\": 255,\n",
      "    \"f1_wrdqdbi_stg3_dq_odly_bit18\": 0,\n",
      "    \"f0_rdcmplx_pqtr_final_nibble06\": 85,\n",
      "    \"f0_rdcmplx_pqtr_final_nibble15\": 90,\n",
      "    \"f0_rdcmplx_pqtr_right_short_nibble11\": 166,\n",
      "    \"f1_wrdqdbi_deskew_dbi_odly_fcrse_byte3\": 0,\n",
      "    \"f1_wrlat_min_latency\": 0,\n",
      "    \"f1_rdcmplx_pqtr_left_nibble07\": 0,\n",
      "    \"wrvref_vref_final_rank0_byte2\": 0,\n",
      "    \"cal_stage_time_48\": 0,\n",
      "    \"f1_wrlat_phy_oe_nib_final_byte4\": 0,\n",
      "    \"f1_dqsgate_stg2_rldlyrnk_crse_rank0_byte2\": 0,\n",
      "    \"f1_rdprbs_nqtr_right_margin_nibble04\": 0,\n",
      "    \"f0_rdcmplx_pqtr_right_short_nibble14\": 166,\n",
      "    \"f1_rdprbs_nqtr_right_margin_nibble07\": 0,\n",
      "    \"f0_rddq_pqtr_right_nibble10\": 167,\n",
      "    \"f0_rd_comp_fall_rm_nib_08\": [\n",
      "        61,\n",
      "        121\n",
      "    ],\n",
      "    \"vttrack_rldlyqtr_nibble04\": 78,\n",
      "    \"f0_wrdqdbi_stg2_dq_odly_bit43\": 36,\n",
      "    \"f1_rddq_idelay_final_bit60\": 0,\n",
      "    \"f0_rdcmplx_nqtr_final_nibble12\": 88,\n",
      "    \"0x0c_F0_WRITE_LEVELING\": \"Pass\",\n",
      "    \"f0_wrdqdbi_odly_dq_final_bit57\": 66,\n",
      "    \"f0_rdprbs_pqtr_right_margin_nibble04\": 0,\n",
      "    \"f0_dqsgate_stg1_overflow_55\": 0,\n",
      "    \"f1_wrprbs_right_margin_byte1\": 0,\n",
      "    \"f0_rdcmplx_pqtr_final_nibble12\": 89,\n",
      "    \"f1_wrcmplx_odly_dbi_final_byte4\": 0,\n",
      "    \"phy_oe_nib11_dly\": 0,\n",
      "    \"f0_tck_msb\": 1,\n",
      "    \"f0_wrdqdbi_right_edge_dqs_byte4\": 186,\n",
      "    \"f0_rdcmplx_pqtr_final_nibble11\": 92,\n",
      "    \"f0_rd_comp_rise_lm_nib_01\": [\n",
      "        65,\n",
      "        132\n",
      "    ],\n",
      "    \"f0_wrdqdbi_deskew_dq_odly_bit11\": 110,\n",
      "    \"dqstrack_rldlyrnk_fine_min_byte6\": 73,\n",
      "    \"f1_wrdqdbi_stg1_dqs_delay_byte3\": 0,\n",
      "    \"f1_rdcmplx_nqtr_final_nibble00\": 0,\n",
      "    \"f0_rd_simp_rise_rm_nib_11\": [\n",
      "        74,\n",
      "        152\n",
      "    ],\n",
      "    \"f0_wrdqdbi_deskew_dq_odly_bit00\": 155,\n",
      "    \"f0_rdprbs_pqtr_right_margin_nibble02\": 0,\n",
      "    \"f0_rdprbs_nqtr_right_margin_nibble04\": 0,\n",
      "    \"f0_rdprbs_nqtr_right_margin_nibble08\": 0,\n",
      "    \"f1_wrdqdbi_deskew_dq_odly_bit05\": 0,\n",
      "    \"dc0_perf_mon_6\": 0,\n",
      "    \"f1_wrcmplx_odly_dqs_final_byte3\": 0,\n",
      "    \"f0_rdcmplx_nqtr_left_nibble08\": 28,\n",
      "    \"f1_wrdqdbi_left_edge_dbi_byte0\": 0,\n",
      "    \"xpi_write_dm_dbi\": 1,\n",
      "    \"f0_wrprbs_right_margin_byte5\": 0,\n",
      "    \"f1_rddq_idelay_final_bit61\": 0,\n",
      "    \"f0_dqsgate_stg1_overflow_22\": 0,\n",
      "    \"bisc_nqtr_align_nibble10\": 0,\n",
      "    \"f1_calbisc_rl_dly_pqtr_nibble11\": 0,\n",
      "    \"bisc_nqtr_align_nibble03\": 0,\n",
      "    \"f1_rddq_nqtr_final_nibble04\": 0,\n",
      "    \"f0_wrdqdbi_left_edge_dq_bit18\": 84,\n",
      "    \"f1_wrlat_xpi_wrdata_all_final\": 0,\n",
      "    \"f1_wrcmplx_odly_dq_final_bit47\": 0,\n",
      "    \"f0_rdcmplx_nqtr_right_short_nibble04\": 167,\n",
      "    \"f1_rddq_idelay_final_bit48\": 0,\n",
      "    \"vttrack_rldlyqtr_nibble09\": 80,\n",
      "    \"rdvref_vref_low_bound_nibble15\": 0,\n",
      "    \"f0_wrprbs_left_margin_byte6\": 0,\n",
      "    \"f0_rdcmplx_pqtr_right_nibble15\": 159,\n",
      "    \"f0_wr_simp_ctp_byte_07\": [\n",
      "        314,\n",
      "        626\n",
      "    ],\n",
      "    \"iobmap_dq_51_50\": 0,\n",
      "    \"f1_rdcmplx_nqtr_final_nibble11\": 0,\n",
      "    \"f1_wrprbs_left_margin_byte3\": 0,\n",
      "    \"rdvref_left_vref_low_bound_nibble08\": 0,\n",
      "    \"f1_dqsgate_stg1_rldlyrnk_crse_rank0_byte1\": 0,\n",
      "    \"f1_write_latency\": 1,\n",
      "    \"f1_wrdqdbi_deskew_dq_odly_bit39\": 0,\n",
      "    \"f1_wrdqdbi_left_edge_dq_bit05\": 0,\n",
      "    \"f0_wrdqdbi_deskew_dq_odly_fcrse_bit45\": 106,\n",
      "    \"f1_wrdqdbi_deskew_dq_odly_fcrse_bit12\": 0,\n",
      "    \"f1_dqsgate_stg1_read_lat_rank0_byte2\": 0,\n",
      "    \"f1_wrdqdbi_deskew_dq_odly_bit60\": 0,\n",
      "    \"f1_wrdqdbi_stg2_dq_odly_bit55\": 0,\n",
      "    \"ecc_en\": 0,\n",
      "    \"wrvref_right_vref_low_bound_rank0_byte7\": 0,\n",
      "    \"f0_dqsgate_stg1_overflow_04\": 128,\n",
      "    \"f0_wrdqdbi_stg3_dq_odly_bit08\": 37,\n",
      "    \"f0_wrdqdbi_deskew_dq_odly_fcrse_bit08\": 117,\n",
      "    \"f0_wrdqdbi_deskew_dq_odly_fcrse_bit06\": 147,\n",
      "    \"f1_wrlvl_fine_final_rank0_byte3\": 0,\n",
      "    \"f1_wrdqdbi_stg2_dq_odly_bit10\": 0,\n",
      "    \"f1_wrdqdbi_odly_dq_final_bit06\": 0,\n",
      "    \"wrvref_vref_low_bound_rank0_byte3\": 0,\n",
      "    \"f1_wrlvl_fine_right_rank0_byte6\": 0,\n",
      "    \"f1_wrlvl_fine_final_rank0_byte6\": 0,\n",
      "    \"f0_wrdqdbi_stg3_dq_odly_bit37\": 97,\n",
      "    \"f1_wrdqdbi_left_edge_dq_bit08\": 0,\n",
      "    \"bisc_nqtr_nibble01\": 78,\n",
      "    \"f0_dqsgate_stg2_rldlyrnk_crse_rank0_byte7\": 1,\n",
      "    \"f0_rddq_idelay_final_bit32\": 73,\n",
      "    \"f1_wrdqdbi_stg3_dq_odly_bit61\": 0,\n",
      "    \"0x13_F0_WRITE_DQ_DBI_CAL_COMPLEX\": \"Pass\",\n",
      "    \"f1_wrdqdbi_deskew_dq_odly_fcrse_bit34\": 0,\n",
      "    \"f1_wrlat_phy_oe_nib_final_byte2\": 0,\n",
      "    \"f0_rdcmplx_idelay_offset_nibble02\": 0,\n",
      "    \"f1_rddq_idelay_final_bit15\": 0,\n",
      "    \"rdvref_right_vref_final_nibble11\": 0,\n",
      "    \"f0_dqsgate_stg1_rldlyrnk_fine_rank0_byte2\": 43,\n",
      "    \"cal_post_status_03\": 0,\n",
      "    \"f0_wrdqdbi_left_margin_byte2\": 84,\n",
      "    \"f1_rddq_idelay_final_bit11\": 0,\n",
      "    \"f0_wr_comp_ctp_byte_02\": [\n",
      "        332,\n",
      "        665\n",
      "    ],\n",
      "    \"f1_wrdqdbi_stg2_dq_odly_bit58\": 0,\n",
      "    \"rdvref_left_vref_final_nibble09\": 0,\n",
      "    \"xpi_read_offset\": 2197,\n",
      "    \"f0_rddq_idelay_final_bit41\": 70,\n",
      "    \"f0_wrdqdbi_deskew_dq_odly_fcrse_bit34\": 177,\n",
      "    \"f1_rdcmplx_nqtr_right_short_nibble02\": 0,\n",
      "    \"wrvref_left_vref_def_rank0_byte7\": 0,\n",
      "    \"f0_dqsgate_stg1_overflow_38\": 0,\n",
      "    \"f0_wrdqdbi_deskew_dq_odly_fcrse_bit09\": 127,\n",
      "    \"f0_wrlat_phy_data_nib_final_byte6\": 1,\n",
      "    \"bisc_idly5_align_nibble10\": 70,\n",
      "    \"f0_rdcmplx_nqtr_right_short_fcrse_nibble03\": 175,\n",
      "    \"f0_rddq_idelay_final_bit43\": 76,\n",
      "    \"f0_wrcmplx_odly_dq_final_bit52\": 58,\n",
      "    \"f1_rddq_nqtr_right_fcrse_nibble06\": 0,\n",
      "    \"f1_rdprbs_nqtr_right_margin_nibble02\": 0,\n",
      "    \"bisc_mon_align_nibble15\": 0,\n",
      "    \"f0_dqsgate_stg1_rldlyrnk_fine_rank0_byte5\": 35,\n",
      "    \"f1_wrdqdbi_deskew_dbi_odly_byte6\": 0,\n",
      "    \"rdvref_vref_final_nibble13\": 0,\n",
      "    \"cal_stage.09_F0_WRITE_DQ_DBI_CAL_COMPLEX\": \"Pass\",\n",
      "    \"f0_rd_simp_fall_ctp_nib_01\": [\n",
      "        103,\n",
      "        212\n",
      "    ],\n",
      "    \"f1_rdcmplx_nqtr_left_short_nibble15\": 0,\n",
      "    \"f0_dqsgate_read_lat_final_byte7\": 28,\n",
      "    \"f0_rdcmplx_nqtr_left_nibble04\": 32,\n",
      "    \"f0_rdcmplx_pqtr_final_nibble00\": 91,\n",
      "    \"f0_rdcmplx_nqtr_right_short_fcrse_nibble04\": 177,\n",
      "    \"f1_wrlvl_crse_stg1_rank0_byte2\": 0,\n",
      "    \"f1_wrdqdbi_stg3_dq_odly_bit07\": 0,\n",
      "    \"rdvref_right_vref_final_nibble05\": 0,\n",
      "    \"f0_wrlat_phy_data_nib_final_byte0\": 0,\n",
      "    \"f1_wrdqdbi_deskew_dq_odly_fcrse_bit50\": 0,\n",
      "    \"f0_wr_comp_rm_byte_03\": [\n",
      "        62,\n",
      "        125\n",
      "    ],\n",
      "    \"f1_mr6_8_0\": 0,\n",
      "    \"f0_dqsgate_stg1_read_lat_rank0_byte5\": 24,\n",
      "    \"f1_rddq_pqtr_right_fcrse_nibble03\": 0,\n",
      "    \"f1_dqsgate_rldlyrnk_crse_final_rank0_byte1\": 0,\n",
      "    \"rdvref_vref_upp_bound_nibble09\": 0,\n",
      "    \"f0_rcd_rc0f\": 0,\n",
      "    \"rdvref_left_vref_final_nibble02\": 0,\n",
      "    \"f1_rddq_idelay_final_bit47\": 0,\n",
      "    \"f1_wrdqdbi_right_edge_dqs_byte4\": 0,\n",
      "    \"f0_rd_simp_fall_lm_nib_11\": [\n",
      "        74,\n",
      "        148\n",
      "    ],\n",
      "    \"bisc_idly5_align_nibble12\": 74,\n",
      "    \"f1_wrprbs_right_margin_byte0\": 0,\n",
      "    \"wrmargin_left_byte2\": 0,\n",
      "    \"f0_dqsgate_stg1_overflow_54\": 0,\n",
      "    \"cal_error_phy_nibble_17_9\": 0,\n",
      "    \"rdvref_left_vref_def_nibble04\": 0,\n",
      "    \"f0_rddq_nqtr_left_nibble11\": 28,\n",
      "    \"f1_dqsgate_stg1_overflow_11\": 0,\n",
      "    \"f0_wrdqdbi_left_edge_dq_bit50\": 48,\n",
      "    \"f0_wrdqdbi_deskew_dq_odly_bit37\": 172,\n",
      "    \"f0_wrlat_phy_data_nib_final_byte5\": 1,\n",
      "    \"f0_rdcmplx_nqtr_right_short_fcrse_nibble09\": 173,\n",
      "    \"f0_wrcmplx_odly_dq_final_bit50\": 58,\n",
      "    \"f1_wrdqdbi_stg6_dbi_odly_byte7\": 0,\n",
      "    \"f1_tck_msb\": 1,\n",
      "    \"f0_wrdqdbi_stg3_dq_odly_bit09\": 37,\n",
      "    \"dc1_perf_mon_6\": 0,\n",
      "    \"f0_rddq_idelay_final_bit61\": 82,\n",
      "    \"f0_wrdqdbi_deskew_dq_odly_bit55\": 130,\n",
      "    \"f0_wrdqdbi_left_edge_dq_bit24\": 68,\n",
      "    \"bisc_idly5_align_nibble06\": 74,\n",
      "    \"f0_rdcmplx_nqtr_right_short_nibble01\": 166,\n",
      "    \"f0_rddq_pqtr_right_fcrse_nibble01\": 173,\n",
      "    \"f0_wrdqdbi_odly_dq_final_bit00\": 82,\n",
      "    \"f1_dqsgate_stg1_overflow_20\": 0,\n",
      "    \"dqstrack_rldlyrnk_crse_min_byte5\": 2,\n",
      "    \"f0_rdcmplx_nqtr_left_short_nibble08\": 27,\n",
      "    \"f1_wrlvl_fine_left_rank0_byte3\": 0,\n",
      "    \"f1_rdcmplx_pqtr_left_nibble11\": 0,\n",
      "    \"bisc_mon_align_nibble00\": 0,\n",
      "    \"f1_dqsgate_stg1_overflow_29\": 0,\n",
      "    \"f0_rddq_pqtr_right_nibble14\": 167,\n",
      "    \"f0_rddq_pqtr_right_fcrse_nibble14\": 173,\n",
      "    \"phy_oe_nib6_dly\": 1,\n",
      "    \"f1_wrdqdbi_odly_dq_final_bit62\": 0,\n",
      "    \"f0_wrdqdbi_stg1_dqs_delay_byte1\": 53,\n",
      "    \"f1_rddq_nqtr_left_nibble00\": 0,\n",
      "    \"f1_calbisc_rl_dly_nqtr_nibble14\": 0,\n",
      "    \"f0_wrcmplx_odly_dq_final_bit20\": 109,\n",
      "    \"iobmap_dq_63_62\": 0,\n",
      "    \"phy_rden7_dly\": 27,\n",
      "    \"phy_rden23_dly\": 25,\n",
      "    \"wrvref_right_vref_final_rank0_byte7\": 0,\n",
      "    \"f0_rddq_idelay_final_bit52\": 84,\n",
      "    \"f0_dqsgate_stg1_overflow_29\": 0,\n",
      "    \"f1_rdprbs_pqtr_left_margin_nibble13\": 0,\n",
      "    \"f1_dqsgate_stg1_overflow_40\": 0,\n",
      "    \"f1_wrdqdbi_stg1_dqs_delay_byte6\": 0,\n",
      "    \"cal_warning_48\": 0,\n",
      "    \"f0_rd_comp_rise_rm_nib_15\": [\n",
      "        69,\n",
      "        136\n",
      "    ],\n",
      "    \"f0_wrcmplx_odly_dq_final_bit04\": 72,\n",
      "    \"f1_rdcmplx_nqtr_right_nibble08\": 0,\n",
      "    \"f1_dqsgate_stg1_overflow_13\": 0,\n",
      "    \"f1_wrdqdbi_odly_dq_final_bit48\": 0,\n",
      "    \"f1_rdcmplx_pqtr_right_short_fcrse_nibble11\": 0,\n",
      "    \"f1_wrdqdbi_odly_dbi_final_byte4\": 0,\n",
      "    \"f1_rdcmplx_pqtr_left_nibble14\": 0,\n",
      "    \"0x3d_READ_DQS_TRACK\": \"Pass\",\n",
      "    \"wrvref_left_vref_final_rank0_byte6\": 0,\n",
      "    \"f0_rdcmplx_nqtr_left_nibble09\": 28,\n",
      "    \"f0_dm_dbi_en\": 1,\n",
      "    \"rdmargin_nqtr_left_nibble07\": 0,\n",
      "    \"f1_rdcmplx_nqtr_final_nibble13\": 0,\n",
      "    \"f1_wrdqdbi_stg2_dq_odly_bit29\": 0,\n",
      "    \"f0_wrcmplx_odly_dq_final_bit06\": 81,\n",
      "    \"rdvref_left_vref_low_bound_nibble03\": 0,\n",
      "    \"f0_wrdqdbi_deskew_dq_odly_fcrse_bit24\": 134,\n",
      "    \"f1_rddq_idelay_final_bit51\": 0,\n",
      "    \"f1_wrdqdbi_deskew_dq_odly_bit06\": 0,\n",
      "    \"f1_wrlvl_noise_fcrse_rank0_byte6\": 0,\n",
      "    \"f1_rddq_pqtr_final_nibble04\": 0,\n",
      "    \"f0_wrlvl_fine_final_rank0_byte6\": 40,\n",
      "    \"f0_wrdqdbi_stg3_dq_odly_bit26\": 64,\n",
      "    \"f1_wrdqdbi_stg3_dq_odly_bit52\": 0,\n",
      "    \"f0_wrcmplx_odly_dq_final_bit12\": 63,\n",
      "    \"vttrack_rldlyqtr_nibble15\": 78,\n",
      "    \"rdvref_vref_low_bound_nibble01\": 0,\n",
      "    \"bisc_idly0_align_nibble01\": 77,\n",
      "    \"f0_rdcmplx_pqtr_right_short_fcrse_nibble10\": 172,\n",
      "    \"rdmargin_pqtr_left_nibble12\": 0,\n",
      "    \"f0_wrlvl_fine_right_rank0_byte3\": 66,\n",
      "    \"f1_rddq_idelay_final_bit27\": 0,\n",
      "    \"f0_wrlvl_crse_stg1_rank0_byte3\": 0,\n",
      "    \"f0_wrdqdbi_stg3_dq_odly_bit56\": 63,\n",
      "    \"f0_wrdqdbi_odly_dbi_final_byte5\": 45,\n",
      "    \"rdvref_left_vref_upp_bound_nibble09\": 0,\n",
      "    \"f1_wrcmplx_odly_dq_final_bit33\": 0,\n",
      "    \"cal_warning_66\": 0,\n",
      "    \"f0_calbisc_rl_dly_qtr_nibble06\": 78,\n",
      "    \"f1_rdcmplx_nqtr_final_nibble14\": 0,\n",
      "    \"f1_wrdqdbi_left_edge_dq_bit45\": 0,\n",
      "    \"f1_wrlat_wldlyrnk_crse_final_rank0_byte3\": 0,\n",
      "    \"f0_dqsgate_stg1_overflow_11\": 0,\n",
      "    \"f0_wrdqdbi_stg3_dq_odly_bit22\": 82,\n",
      "    \"f0_rd_comp_rise_ctp_nib_15\": [\n",
      "        90,\n",
      "        178\n",
      "    ],\n",
      "    \"f1_wrdqdbi_left_edge_dq_bit46\": 0,\n",
      "    \"dqstrack_rldlyrnk_crse_max_byte3\": 2,\n",
      "    \"phy_oe_nib9_dly\": 0,\n",
      "    \"f0_wrdqdbi_odly_dq_final_bit14\": 50,\n",
      "    \"iobmap_dqs_14\": 0,\n",
      "    \"f0_rdcmplx_pqtr_left_short_nibble11\": 24,\n",
      "    \"f1_wrdqdbi_odly_dq_final_bit26\": 0,\n",
      "    \"f0_wrdqdbi_deskew_dq_odly_fcrse_bit44\": 126,\n",
      "    \"f1_calbisc_rl_dly_nqtr_nibble02\": 0,\n",
      "    \"xpi_pmi_config\": 0,\n",
      "    \"rdvref_vref_upp_bound_nibble03\": 0,\n",
      "    \"f0_wrcmplx_odly_dq_final_bit46\": 61,\n",
      "    \"f0_wrdqdbi_odly_dq_final_bit10\": 44,\n",
      "    \"f0_rdcmplx_pqtr_right_short_nibble08\": 162,\n",
      "    \"f0_wrdqdbi_stg3_dq_odly_bit45\": 36,\n",
      "    \"f0_wrdqdbi_deskew_dq_odly_bit57\": 143,\n",
      "    \"f1_wrdqdbi_stg2_dq_odly_bit16\": 0,\n",
      "    \"f0_rddq_idelay_final_bit33\": 66,\n",
      "    \"bisc_idly1_align_nibble03\": 81,\n",
      "    \"f0_wrlat_phy_data_nib_final_byte1\": 0,\n",
      "    \"f1_rddq_idelay_final_bit19\": 0,\n",
      "    \"cal_stage_time_36\": 0,\n",
      "    \"f0_wrdqdbi_stg3_dq_odly_bit39\": 97,\n",
      "    \"f1_wrlvl_crse_final_rank0_byte0\": 0,\n",
      "    \"wrmargin_left_byte7\": 0,\n",
      "    \"wrvref_left_vref_low_bound_rank0_byte2\": 0,\n",
      "    \"rdmargin_nqtr_right_nibble11\": 0,\n",
      "    \"f1_rddq_qtr_deskew_nibble03\": 0,\n",
      "    \"f0_rdcmplx_nqtr_final_nibble15\": 90,\n",
      "    \"cal_warning_79\": 0,\n",
      "    \"f0_wrdqdbi_stg2_dq_odly_bit23\": 82,\n",
      "    \"f0_rdprbs_pqtr_right_margin_nibble15\": 0,\n",
      "    \"f0_rd_simp_rise_ctp_nib_05\": [\n",
      "        93,\n",
      "        186\n",
      "    ],\n",
      "    \"wrvref_right_vref_low_bound_rank0_byte5\": 0,\n",
      "    \"f0_rddq_idelay_final_bit63\": 76,\n",
      "    \"f0_rddq_nqtr_final_nibble10\": 103,\n",
      "    \"f0_wrdqdbi_deskew_dq_odly_bit48\": 129,\n",
      "    \"f0_mr2_8_0\": 232,\n",
      "    \"f0_rddq_idelay_final_bit05\": 85,\n",
      "    \"f1_rdcmplx_nqtr_right_nibble02\": 0,\n",
      "    \"f1_wrcmplx_odly_dq_final_bit15\": 0,\n",
      "    \"cal_stage_time_46\": 0,\n",
      "    \"f1_rddq_pqtr_right_nibble05\": 0,\n",
      "    \"rdmargin_pqtr_left_nibble08\": 0,\n",
      "    \"f0_wrdqdbi_left_edge_dq_bit48\": 48,\n",
      "    \"f1_rdcmplx_pqtr_left_short_nibble10\": 0,\n",
      "    \"rdmargin_nqtr_right_nibble01\": 0,\n",
      "    \"wrvref_vref_upp_bound_rank0_byte1\": 0,\n",
      "    \"f0_wrcmplx_odly_dq_final_bit56\": 90,\n",
      "    \"f0_wrlvl_crse_stg1_rank0_byte6\": 3,\n",
      "    \"rdvref_left_vref_low_bound_nibble13\": 0,\n",
      "    \"f1_wrdqdbi_stg3_dq_odly_bit30\": 0,\n",
      "    \"iobmap_dq_15_14\": 0,\n",
      "    \"bisc_idly5_align_nibble15\": 80,\n",
      "    \"f1_rdcmplx_pqtr_right_short_nibble04\": 0,\n",
      "    \"f1_wrcmplx_left_margin_fcrse_byte0\": 0,\n",
      "    \"f1_wrcmplx_odly_dq_final_bit12\": 0,\n",
      "    \"cal_stage_time_44\": 0,\n",
      "    \"f0_rcd_rc0a\": 0,\n",
      "    \"f1_wrcmplx_odly_dq_final_bit58\": 0,\n",
      "    \"f1_rddq_nqtr_left_nibble05\": 0,\n",
      "    \"f1_wrdqdbi_deskew_dq_odly_bit50\": 0,\n",
      "    \"f0_rdcmplx_nqtr_right_nibble04\": 149,\n",
      "    \"f1_rdcmplx_pqtr_left_short_nibble06\": 0,\n",
      "    \"bisc_pqtr_nibble06\": 80,\n",
      "    \"f0_wr_comp_rm_byte_05\": [\n",
      "        65,\n",
      "        130\n",
      "    ],\n",
      "    \"cal_warning_36\": 0,\n",
      "    \"cal_error_bit_phy_nibble_10\": 0,\n",
      "    \"vttrack_rldlyqtr_min_nibble15\": 74,\n",
      "    \"rdvref_left_vref_def_nibble14\": 0,\n",
      "    \"f0_wrdqdbi_deskew_dq_odly_fcrse_bit01\": 137,\n",
      "    \"f1_rddq_idelay_final_bit34\": 0,\n",
      "    \"cal_stage_time_38\": 0,\n",
      "    \"f1_rddq_pqtr_right_nibble03\": 0,\n",
      "    \"f1_wrlvl_offset_rank0_byte0\": 0,\n",
      "    \"f0_wr_comp_lm_byte_04\": [\n",
      "        74,\n",
      "        150\n",
      "    ],\n",
      "    \"f0_rd_simp_rise_ctp_nib_06\": [\n",
      "        92,\n",
      "        184\n",
      "    ],\n",
      "    \"f0_rdcmplx_nqtr_right_nibble00\": 150,\n",
      "    \"bisc_idly2_align_nibble08\": 68,\n",
      "    \"f0_rd_comp_fall_lm_nib_07\": [\n",
      "        61,\n",
      "        122\n",
      "    ],\n",
      "    \"cal_warning_01\": 0,\n",
      "    \"f0_rd_comp_fall_rm_nib_05\": [\n",
      "        59,\n",
      "        117\n",
      "    ],\n",
      "    \"f1_wrdqdbi_deskew_dq_odly_fcrse_bit54\": 0,\n",
      "    \"f0_dqsgate_stg1_overflow_48\": 0,\n",
      "    \"f0_rddq_idelay_final_bit42\": 74,\n",
      "    \"f1_wrdqdbi_deskew_dq_odly_bit07\": 0,\n",
      "    \"f0_rdcmplx_nqtr_final_nibble08\": 88,\n",
      "    \"f1_calbisc_rl_dly_pqtr_nibble07\": 0,\n",
      "    \"wrvref_vref_low_bound_rank0_byte7\": 0,\n",
      "    \"f0_rddq_nqtr_final_nibble04\": 103,\n",
      "    \"f0_wrdqdbi_deskew_dq_odly_bit54\": 129,\n",
      "    \"f1_rddq_nqtr_right_fcrse_nibble14\": 0,\n",
      "    \"cal_warning_04\": 0,\n",
      "    \"f0_rdprbs_nqtr_left_margin_nibble13\": 0,\n",
      "    \"f1_wrprbs_left_margin_byte5\": 0,\n",
      "    \"ddrmc_isr_dc_cmd0_fatal\": 0,\n",
      "    \"f1_rdcmplx_pqtr_right_nibble13\": 0,\n",
      "    \"f0_calbisc_rl_dly_nqtr_nibble15\": 79,\n",
      "    \"f1_rdprbs_pqtr_right_margin_nibble14\": 0,\n",
      "    \"rdvref_right_vref_low_bound_nibble02\": 0,\n",
      "    \"f1_rddq_idelay_final_bit07\": 0,\n",
      "    \"f0_wrdqdbi_odly_dq_final_bit41\": 43,\n",
      "    \"f0_wrdqdbi_deskew_dq_odly_fcrse_bit38\": 187,\n",
      "    \"f1_wrdqdbi_left_edge_dq_bit62\": 0,\n",
      "    \"f1_rdcmplx_nqtr_left_short_nibble08\": 0,\n",
      "    \"f1_wrcmplx_odly_dq_final_bit10\": 0,\n",
      "    \"f0_rdcmplx_nqtr_left_nibble06\": 23,\n",
      "    \"f1_wrdqdbi_right_edge_dqs_byte0\": 0,\n",
      "    \"f0_wrdqdbi_stg2_dq_odly_bit50\": 40,\n",
      "    \"f1_rdcmplx_idelay_offset_nibble12\": 0,\n",
      "    \"cal_stage_time_11\": 74,\n",
      "    \"f0_wrdqdbi_stg2_dq_odly_bit37\": 97,\n",
      "    \"f0_wrdqdbi_left_edge_dq_bit32\": 107,\n",
      "    \"f0_rddq_qtr_deskew_nibble05\": 1,\n",
      "    \"f1_dqsgate_stg2_rldlyrnk_crse_rank0_byte0\": 0,\n",
      "    \"f1_rdcmplx_nqtr_right_nibble06\": 0,\n",
      "    \"cal_stage_time_40\": 0,\n",
      "    \"f0_rddq_nqtr_final_nibble05\": 100,\n",
      "    \"f0_wr_comp_rm_byte_07\": [\n",
      "        55,\n",
      "        109\n",
      "    ],\n",
      "    \"phy_rden0_dly\": 26,\n",
      "    \"f0_wrcmplx_left_margin_fcrse_byte7\": 70,\n",
      "    \"f0_add_cmd_dly\": 0,\n",
      "    \"vttrack_rldlyqtr_max_nibble03\": 82,\n",
      "    \"rdvref_vref_upp_bound_nibble02\": 0,\n",
      "    \"f0_rddq_nqtr_left_nibble07\": 24,\n",
      "    \"rdvref_left_vref_final_nibble11\": 0,\n",
      "    \"f0_wrdqdbi_deskew_dq_odly_fcrse_bit11\": 107,\n",
      "    \"f1_dqsgate_stg1_overflow_33\": 0,\n",
      "    \"f1_wrdqdbi_deskew_dq_odly_fcrse_bit20\": 0,\n",
      "    \"xpi_read_offset_phy_rden\": 5,\n",
      "    \"max_bits\": 72,\n",
      "    \"f0_rddq_nqtr_final_nibble00\": 97,\n",
      "    \"f1_wrlvl_crse_stg1_rank0_byte4\": 0,\n",
      "    \"f1_rdcmplx_pqtr_final_nibble05\": 0,\n",
      "    \"f1_rdprbs_pqtr_right_margin_nibble08\": 0,\n",
      "    \"f1_wrlat_phy_data_nib_final_byte4\": 0,\n",
      "    \"f1_wrdqdbi_odly_dq_final_bit46\": 0,\n",
      "    \"f0_rd_comp_fall_lm_nib_04\": [\n",
      "        58,\n",
      "        116\n",
      "    ],\n",
      "    \"f0_wrcmplx_odly_dq_final_bit49\": 48,\n",
      "    \"f1_wrdqdbi_left_edge_dq_bit11\": 0,\n",
      "    \"f0_wrdqdbi_stg2_dq_odly_bit28\": 64,\n",
      "    \"f0_wrcmplx_odly_dq_final_bit05\": 76,\n",
      "    \"f1_rdcmplx_pqtr_final_nibble12\": 0,\n",
      "    \"bisc_rl_dly_qtr_nibble09\": 76,\n",
      "    \"f0_wrdqdbi_odly_dq_final_bit16\": 110,\n",
      "    \"f0_wrdqdbi_deskew_dq_odly_fcrse_bit39\": 177,\n",
      "    \"f1_rdcmplx_pqtr_left_nibble00\": 0,\n",
      "    \"cal_stage.12_CAL_DONE\": \"Pass\",\n",
      "    \"rdmargin_nqtr_left_nibble06\": 0,\n",
      "    \"f0_rd_simp_rise_lm_nib_06\": [\n",
      "        74,\n",
      "        148\n",
      "    ],\n",
      "    \"f1_wrdqdbi_left_margin_byte2\": 0,\n",
      "    \"f1_calbisc_rl_dly_qtr_nibble13\": 0,\n",
      "    \"f1_calbisc_rl_dly_nqtr_nibble09\": 0,\n",
      "    \"ddrmc_isr_dram_parity0\": 0,\n",
      "    \"f1_wrdqdbi_odly_dq_final_bit17\": 0,\n",
      "    \"self_refresh_entry_error\": 0,\n",
      "    \"rdvref_right_vref_final_nibble06\": 0,\n",
      "    \"header_ver\": 1,\n",
      "    \"phy_rden3_dly\": 27,\n",
      "    \"f0_wrdqdbi_deskew_dq_odly_fcrse_bit42\": 116,\n",
      "    \"f1_rddq_idelay_final_bit01\": 0,\n",
      "    \"f0_dqsgate_stg2_rldlyrnk_crse_rank0_byte3\": 2,\n",
      "    \"f0_rddq_pqtr_final_nibble03\": 91,\n",
      "    \"f0_wrdqdbi_deskew_dq_odly_fcrse_bit20\": 172,\n",
      "    \"bisc_rl_dly_qtr_nibble08\": 78,\n",
      "    \"f1_wrdqdbi_deskew_dbi_odly_fcrse_byte6\": 0,\n",
      "    \"f0_rdcmplx_pqtr_left_short_nibble05\": 22,\n",
      "    \"f1_rddq_nqtr_right_nibble01\": 0,\n",
      "    \"f1_rddq_pqtr_left_nibble01\": 0,\n",
      "    \"f0_wrdqdbi_deskew_dq_odly_fcrse_bit26\": 144,\n",
      "    \"f1_dqsgate_stg1_overflow_46\": 0,\n",
      "    \"f1_rdcmplx_pqtr_right_short_fcrse_nibble00\": 0,\n",
      "    \"bisc_rl_dly_qtr_nibble03\": 78,\n",
      "    \"f1_rddq_idelay_final_bit62\": 0,\n",
      "    \"f0_dqsgate_stg1_overflow_35\": 0,\n",
      "    \"f1_rddq_pqtr_final_nibble00\": 0,\n",
      "    \"f0_rd_comp_rise_ctp_nib_06\": [\n",
      "        85,\n",
      "        170\n",
      "    ],\n",
      "    \"f0_wrdqdbi_stg1_dqs_delay_byte2\": 98,\n",
      "    \"ddrmc_isr\": 0,\n",
      "    \"f1_rdcmplx_pqtr_left_nibble15\": 0,\n",
      "    \"f0_wrdqdbi_stg3_dq_odly_bit41\": 36,\n",
      "    \"cal_post_status_01\": 0,\n",
      "    \"f0_calbisc_rl_dly_nqtr_nibble00\": 77,\n",
      "    \"f1_mr3_8_0\": 32,\n",
      "    \"f1_wrdqdbi_deskew_dq_odly_bit56\": 0,\n",
      "    \"f1_wrdqdbi_left_edge_dbi_byte4\": 0,\n",
      "    \"mgchk_error\": 0,\n",
      "    \"f1_wrdqdbi_left_edge_dq_bit58\": 0,\n",
      "    \"f1_wrlvl_fine_right_rank0_byte0\": 0,\n",
      "    \"f1_wrdqdbi_stg4_dqs_delay_byte4\": 0,\n",
      "    \"f0_rdcmplx_nqtr_final_nibble10\": 90,\n",
      "    \"f0_rdcmplx_nqtr_right_short_fcrse_nibble10\": 176,\n",
      "    \"dqstrack_rldlyrnk_fine_max_byte7\": 24,\n",
      "    \"f0_dqsgate_stg1_overflow_30\": 0,\n",
      "    \"f0_rddq_idelay_final_bit50\": 78,\n",
      "    \"phy_rden1_dly\": 26,\n",
      "    \"cal_warning_17\": 0,\n",
      "    \"f0_wrdqdbi_deskew_dq_odly_bit41\": 115,\n",
      "    \"f0_rdcmplx_nqtr_right_nibble01\": 152,\n",
      "    \"f0_rdprbs_nqtr_right_margin_nibble12\": 0,\n",
      "    \"f0_rd_comp_rise_lm_nib_12\": [\n",
      "        65,\n",
      "        129\n",
      "    ],\n",
      "    \"f0_rd_simp_rise_lm_nib_05\": [\n",
      "        75,\n",
      "        150\n",
      "    ],\n",
      "    \"cal_error_bit_phy_nibble_21\": 0,\n",
      "    \"f0_rddq_idelay_final_bit00\": 73,\n",
      "    \"ddrmc_isr_na_cmd1\": 0,\n",
      "    \"f0_rd_simp_rise_rm_nib_04\": [\n",
      "        74,\n",
      "        146\n",
      "    ],\n",
      "    \"rdvref_left_vref_final_nibble01\": 0,\n",
      "    \"f1_calbisc_rl_dly_nqtr_nibble04\": 0,\n",
      "    \"f0_wrcmplx_odly_dq_final_bit34\": 115,\n",
      "    \"f1_wrdqdbi_deskew_dq_odly_fcrse_bit58\": 0,\n",
      "    \"rdvref_right_vref_low_bound_nibble14\": 0,\n",
      "    \"f1_rdcmplx_pqtr_left_nibble08\": 0,\n",
      "    \"bisc_pqtr_align_nibble08\": 0,\n",
      "    \"f0_dqsgate_rldlyrnk_crse_final_rank0_byte2\": 1,\n",
      "    \"f1_wrdqdbi_stg2_dq_odly_bit35\": 0,\n",
      "    \"f0_wrdqdbi_stg4_dqs_delay_byte5\": 14,\n",
      "    \"f1_wrdqdbi_left_edge_dq_bit18\": 0,\n",
      "    \"f0_wrdqdbi_deskew_dq_odly_bit43\": 111,\n",
      "    \"f0_dqsgate_stg2_rldlyrnk_crse_rank0_byte1\": 1,\n",
      "    \"f1_wrdqdbi_stg6_dbi_odly_byte2\": 0,\n",
      "    \"f0_dqsgate_read_lat_final_byte2\": 26,\n",
      "    \"f0_wrlat_match_rank0_byte0\": 16,\n",
      "    \"f0_wrcmplx_odly_dq_final_bit55\": 59,\n",
      "    \"mgchk_wr_vref\": 0,\n",
      "    \"cal_warning_65\": 0,\n",
      "    \"bisc_idly4_align_nibble01\": 81,\n",
      "    \"rdvref_vref_low_bound_nibble12\": 0,\n",
      "    \"f0_wrdqdbi_deskew_dq_odly_fcrse_bit59\": 153,\n",
      "    \"f1_rdprbs_pqtr_right_margin_nibble03\": 0,\n",
      "    \"bisc_idly1_align_nibble15\": 80,\n",
      "    \"f1_wrcmplx_right_margin_fcrse_byte6\": 0,\n",
      "    \"f1_wrdqdbi_deskew_dbi_odly_byte5\": 0,\n",
      "    \"bisc_idly4_align_nibble07\": 80,\n",
      "    \"bisc_idly0_align_nibble02\": 67,\n",
      "    \"dqstrack_rldlyrnk_fine_min_byte5\": 37,\n",
      "    \"f0_calbisc_rl_dly_qtr_nibble05\": 78,\n",
      "    \"f0_wrcmplx_odly_dqs_final_byte7\": 79,\n",
      "    \"f1_lp4_mr23\": 0,\n",
      "    \"f1_wrcmplx_left_margin_fcrse_byte6\": 0,\n",
      "    \"f0_rddq_idelay_final_bit27\": 76,\n",
      "    \"f1_dqsgate_stg1_overflow_48\": 0,\n",
      "    \"f1_rddq_nqtr_right_nibble14\": 0,\n",
      "    \"f1_wrlat_phy_oe_nib_final_byte1\": 0,\n",
      "    \"f0_rddq_nqtr_final_nibble08\": 102,\n",
      "    \"f0_dqsgate_stg1_rldlyrnk_fine_rank0_byte7\": 20,\n",
      "    \"f0_wrdqdbi_stg3_dq_odly_bit48\": 40,\n",
      "    \"f1_wrdqdbi_stg2_dq_odly_bit31\": 0,\n",
      "    \"bisc_pqtr_align_nibble13\": 0,\n",
      "    \"f0_wrdqdbi_left_edge_dq_bit55\": 49,\n",
      "    \"cal_seq_status_18\": 282,\n",
      "    \"bisc_nqtr_nibble11\": 80,\n",
      "    \"f0_rdcmplx_pqtr_final_nibble03\": 88,\n",
      "    \"f0_wrdqdbi_odly_dqs_final_byte6\": 56,\n",
      "    \"f0_dqsgate_stg1_overflow_32\": 0,\n",
      "    \"f0_rdcmplx_nqtr_right_short_fcrse_nibble15\": 173,\n",
      "    \"f1_wrdqdbi_stg5_dqs_odly_byte7\": 0,\n",
      "    \"f0_rdcmplx_pqtr_left_nibble13\": 30,\n",
      "    \"rdvref_right_vref_upp_bound_nibble13\": 0,\n",
      "    \"f0_wrcmplx_left_margin_byte5\": 72,\n",
      "    \"f0_wrdqdbi_left_edge_dq_bit41\": 34,\n",
      "    \"f1_wrdqdbi_stg3_dq_odly_bit12\": 0,\n",
      "    \"ub_data_ce\": 0,\n",
      "    \"f0_wrdqdbi_odly_dq_final_bit30\": 80,\n",
      "    \"f1_rdcmplx_nqtr_left_short_nibble01\": 0,\n",
      "    \"f1_wrdqdbi_odly_dq_final_bit23\": 0,\n",
      "    \"f0_rd_simp_fall_ctp_nib_15\": [\n",
      "        99,\n",
      "        196\n",
      "    ],\n",
      "    \"f1_rdcmplx_nqtr_right_nibble00\": 0,\n",
      "    \"f1_wrcmplx_odly_dq_final_bit27\": 0,\n",
      "    \"f1_rdcmplx_pqtr_right_nibble15\": 0,\n",
      "    \"f1_dqsgate_max_read_lat\": 0,\n",
      "    \"f0_wrdqdbi_deskew_dq_odly_fcrse_bit07\": 147,\n",
      "    \"f0_wrcmplx_odly_dq_final_bit42\": 53,\n",
      "    \"f0_wrdqdbi_odly_dq_final_bit28\": 67,\n",
      "    \"f1_wrdqdbi_stg2_dq_odly_bit34\": 0,\n",
      "    \"f1_rdcmplx_pqtr_right_nibble11\": 0,\n",
      "    \"f0_calbisc_rl_dly_pqtr_nibble07\": 77,\n",
      "    \"f0_rd_simp_rise_rm_nib_09\": [\n",
      "        75,\n",
      "        154\n",
      "    ],\n",
      "    \"f0_dqsgate_stg1_overflow_56\": 0,\n",
      "    \"rdmargin_pqtr_right_nibble01\": 0,\n",
      "    \"f0_rd_comp_rise_lm_nib_09\": [\n",
      "        62,\n",
      "        127\n",
      "    ],\n",
      "    \"wrvref_right_vref_upp_bound_rank0_byte5\": 0,\n",
      "    \"f0_rdprbs_pqtr_left_margin_nibble09\": 0,\n",
      "    \"f1_rddq_nqtr_left_nibble07\": 0,\n",
      "    \"rdvref_right_vref_def_nibble00\": 0,\n",
      "    \"f1_rddq_pqtr_right_fcrse_nibble08\": 0,\n",
      "    \"f0_wrdqdbi_stg3_dq_odly_bit59\": 63,\n",
      "    \"f1_wrdqdbi_stg2_dq_odly_bit54\": 0,\n",
      "    \"f0_calbisc_rl_dly_pqtr_nibble06\": 78,\n",
      "    \"f1_dqsgate_stg1_overflow_12\": 0,\n",
      "    \"f1_rdcmplx_nqtr_left_nibble12\": 0,\n",
      "    \"f0_qtr_time\": 156,\n",
      "    \"f0_rddq_pqtr_final_nibble05\": 93,\n",
      "    \"f0_wrcmplx_odly_dq_final_bit54\": 58,\n",
      "    \"wrmargin_left_byte5\": 0,\n",
      "    \"f1_wrdqdbi_left_edge_dq_bit56\": 0,\n",
      "    \"rdmargin_nqtr_right_nibble10\": 0,\n",
      "    \"cal_error_bit_phy_nibble_06\": 0,\n",
      "    \"wrvref_left_vref_def_rank0_byte2\": 0,\n",
      "    \"f1_wrdqdbi_left_edge_dq_bit26\": 0,\n",
      "    \"f0_wrcmplx_odly_dq_final_bit51\": 49,\n",
      "    \"f1_rddq_pqtr_right_fcrse_nibble04\": 0,\n",
      "    \"bisc_idly4_align_nibble15\": 79,\n",
      "    \"bisc_idly3_align_nibble11\": 80,\n",
      "    \"f1_wrcmplx_left_margin_fcrse_byte5\": 0,\n",
      "    \"f1_rdprbs_nqtr_right_margin_nibble06\": 0,\n",
      "    \"cal_warning_02\": 0,\n",
      "    \"rdvref_right_vref_upp_bound_nibble12\": 0,\n",
      "    \"f0_wrlvl_fine_final_rank0_byte3\": 64,\n",
      "    \"f0_wrdqdbi_right_margin_byte3\": 70,\n",
      "    \"f0_wrcmplx_odly_dq_final_bit40\": 62,\n",
      "    \"f1_rdcmplx_nqtr_final_nibble02\": 0,\n",
      "    \"f1_rddq_idelay_final_bit04\": 0,\n",
      "    \"f0_rdprbs_pqtr_left_margin_nibble14\": 0,\n",
      "    \"f0_rddq_pqtr_right_nibble07\": 166,\n",
      "    \"f0_wrdqdbi_stg2_dq_odly_bit10\": 37,\n",
      "    \"vttrack_rldlyqtr_nibble11\": 79,\n",
      "    \"f0_rdprbs_nqtr_right_margin_nibble02\": 0,\n",
      "    \"cal_error_bit_phy_nibble_03\": 0,\n",
      "    \"dqstrack_rldlyrnk_fine_max_byte6\": 73,\n",
      "    \"ddrmc_isr_na_cmd\": 0,\n",
      "    \"f0_rdcmplx_pqtr_right_nibble10\": 156,\n",
      "    \"cal_seq_status_31\": 302,\n",
      "    \"f1_rdcmplx_pqtr_left_short_nibble14\": 0,\n",
      "    \"cal_error_sub_stage\": 0,\n",
      "    \"f1_wrdqdbi_stg3_dq_odly_bit23\": 0,\n",
      "    \"f0_rddq_qtr_deskew_nibble13\": 1,\n",
      "    \"f0_rd_simp_fall_ctp_nib_02\": [\n",
      "        101,\n",
      "        208\n",
      "    ],\n",
      "    \"rdvref_left_vref_def_nibble03\": 0,\n",
      "    \"f0_rddq_nqtr_right_fcrse_nibble02\": 181,\n",
      "    \"f0_wrdqdbi_odly_dqs_final_byte0\": 73,\n",
      "    \"f1_wrdqdbi_deskew_dq_odly_fcrse_bit40\": 0,\n",
      "    \"f0_wrlvl_crse_stg1_rank0_byte0\": 2,\n",
      "    \"f0_wrlvl_fine_left_rank0_byte4\": 96,\n",
      "    \"f1_wrcmplx_odly_dq_final_bit38\": 0,\n",
      "    \"f0_wrdqdbi_stg2_dq_odly_bit18\": 82,\n",
      "    \"rdmargin_nqtr_right_nibble06\": 0,\n",
      "    \"f0_wrdqdbi_odly_dq_final_bit18\": 96,\n",
      "    \"f0_wrdqdbi_deskew_dq_odly_bit53\": 132,\n",
      "    \"bisc_pqtr_nibble11\": 76,\n",
      "    \"f0_rdcmplx_pqtr_right_short_nibble09\": 164,\n",
      "    \"f1_wrdqdbi_stg3_dq_odly_bit29\": 0,\n",
      "    \"0x0b_F0_READ_DQ_CAL\": \"Pass\",\n",
      "    \"f0_rd_simp_rise_ctp_nib_10\": [\n",
      "        92,\n",
      "        182\n",
      "    ],\n",
      "    \"cal_error\": 0,\n",
      "    \"iobmap_dq_7_6\": 0,\n",
      "    \"bisc_idly0_align_nibble07\": 75,\n",
      "    \"f1_wrdqdbi_right_margin_byte2\": 0,\n",
      "    \"f1_rddq_qtr_deskew_nibble00\": 0,\n",
      "    \"f1_wrlvl_fine_final_rank0_byte0\": 0,\n",
      "    \"f1_rdprbs_nqtr_left_margin_nibble12\": 0,\n",
      "    \"f0_wrdqdbi_stg2_dq_odly_bit11\": 37,\n",
      "    \"f0_wrdqdbi_deskew_dq_odly_bit58\": 143,\n",
      "    \"f0_wrdqdbi_deskew_dq_odly_bit07\": 147,\n",
      "    \"f1_rddq_nqtr_final_nibble05\": 0,\n",
      "    \"f0_wrcmplx_right_margin_fcrse_byte2\": 60,\n",
      "    \"f1_wrdqdbi_stg6_dbi_odly_byte0\": 0,\n",
      "    \"f1_dqsgate_stg1_overflow_16\": 0,\n",
      "    \"f1_dqsgate_stg1_overflow_38\": 0,\n",
      "    \"f1_calbisc_rl_dly_pqtr_nibble13\": 0,\n",
      "    \"f0_rddq_idelay_final_bit03\": 79,\n",
      "    \"f1_wrdqdbi_stg1_dqs_delay_byte5\": 0,\n",
      "    \"f0_mr4_8_0\": 0,\n",
      "    \"bisc_idly4_align_nibble00\": 74,\n",
      "    \"f1_wrdqdbi_left_edge_dq_bit27\": 0,\n",
      "    \"f0_rddq_pqtr_final_nibble07\": 92,\n",
      "    \"f1_dqsgate_stg1_overflow_55\": 0,\n",
      "    \"f0_wrdqdbi_odly_dq_final_bit24\": 70,\n",
      "    \"f0_wrdqdbi_stg3_dq_odly_bit23\": 82,\n",
      "    \"f1_wrcmplx_odly_dq_final_bit63\": 0,\n",
      "    \"f0_wrdqdbi_stg5_dqs_odly_byte0\": 73,\n",
      "    \"f1_rdprbs_nqtr_left_margin_nibble05\": 0,\n",
      "    \"rdmargin_nqtr_right_nibble00\": 0,\n",
      "    \"f0_rdcmplx_pqtr_left_short_nibble08\": 26,\n",
      "    \"f0_rd_simp_fall_ctp_nib_14\": [\n",
      "        97,\n",
      "        197\n",
      "    ],\n",
      "    \"f0_wrlvl_offset_rank0_byte6\": 79,\n",
      "    \"f0_rdprbs_pqtr_right_margin_nibble07\": 0,\n",
      "    \"f1_wrdqdbi_left_edge_dbi_byte2\": 0,\n",
      "    \"wrvref_right_vref_low_bound_rank0_byte3\": 0,\n",
      "    \"reg_safe_config0\": 440468484,\n",
      "    \"rdvref_left_vref_final_nibble07\": 0,\n",
      "    \"f0_wrdqdbi_left_edge_dq_bit33\": 93,\n",
      "    \"f1_rddq_idelay_final_bit14\": 0,\n",
      "    \"f1_wrcmplx_right_margin_fcrse_byte3\": 0,\n",
      "    \"cal_stage_time_10\": 7,\n",
      "    \"f1_wrdqdbi_odly_dq_final_bit35\": 0,\n",
      "    \"f1_rdprbs_pqtr_right_margin_nibble11\": 0,\n",
      "    \"wrvref_left_vref_upp_bound_rank0_byte6\": 0,\n",
      "    \"f1_dqsgate_stg1_overflow_54\": 0,\n",
      "    \"f0_wrdqdbi_stg3_dq_odly_bit61\": 63,\n",
      "    \"dc1_perf_mon_0\": 0,\n",
      "    \"mgchk_abort\": 0,\n",
      "    \"f0_wrdqdbi_odly_dbi_final_byte3\": 66,\n",
      "    \"f0_rd_simp_rise_lm_nib_04\": [\n",
      "        73,\n",
      "        144\n",
      "    ],\n",
      "    \"f1_wrlvl_offset_rank0_byte4\": 0,\n",
      "    \"f1_wrcmplx_left_margin_byte6\": 0,\n",
      "    \"f1_wrcmplx_right_margin_byte7\": 0,\n",
      "    \"f1_wrcmplx_right_margin_fcrse_byte5\": 0,\n",
      "    \"cal_status_init_done\": 1,\n",
      "    \"f0_rd_comp_rise_lm_nib_15\": [\n",
      "        68,\n",
      "        134\n",
      "    ],\n",
      "    \"f1_dqsgate_read_lat_final_byte5\": 0,\n",
      "    \"wrvref_vref_low_bound_rank0_byte0\": 0,\n",
      "    \"f0_rddq_idelay_final_bit30\": 75,\n",
      "    \"f0_rddq_pqtr_left_nibble09\": 18,\n",
      "    \"f1_rdcmplx_pqtr_right_nibble02\": 0,\n",
      "    \"f0_wrlat_phy_oe_nib_final_byte5\": 1,\n",
      "    \"bisc_idly4_align_nibble11\": 82,\n",
      "    \"f1_wrdqdbi_odly_dq_final_bit40\": 0,\n",
      "    \"f1_rddq_nqtr_right_fcrse_nibble01\": 0,\n",
      "    \"cal_seq_status_12\": 398,\n",
      "    \"rdvref_vref_low_bound_nibble10\": 0,\n",
      "    \"f0_wrdqdbi_stg2_dq_odly_bit00\": 57,\n",
      "    \"f1_wrdqdbi_stg3_dq_odly_bit43\": 0,\n",
      "    \"cal_error_phy_nibble_8_0\": 0,\n",
      "    \"f1_rdcmplx_nqtr_right_short_fcrse_nibble12\": 0,\n",
      "    \"f1_wrlat_match_rank0_byte0\": 0,\n",
      "    \"f0_wrcmplx_odly_dq_final_bit53\": 61,\n",
      "    \"f1_mr1_rtt_nom\": 0,\n",
      "    \"wrmargin_right_byte5\": 0,\n",
      "    \"cal_warning_06\": 0,\n",
      "    \"f1_wrdqdbi_deskew_dq_odly_bit25\": 0,\n",
      "    \"f0_dqsgate_stg2_rldlyrnk_crse_rank0_byte0\": 0,\n",
      "    \"f1_wrdqdbi_deskew_dq_odly_fcrse_bit15\": 0,\n",
      "    \"phy_rden18_dly\": 22,\n",
      "    \"f0_rd_simp_fall_ctp_nib_05\": [\n",
      "        100,\n",
      "        198\n",
      "    ],\n",
      "    \"f1_wrdqdbi_deskew_dq_odly_fcrse_bit14\": 0,\n",
      "    \"f0_rdcmplx_nqtr_final_nibble02\": 89,\n",
      "    \"f1_rdcmplx_idelay_offset_nibble09\": 0,\n",
      "    \"f0_rd_simp_rise_ctp_nib_02\": [\n",
      "        92,\n",
      "        189\n",
      "    ],\n",
      "    \"f0_wrlat_min_latency\": 16,\n",
      "    \"f1_rddq_idelay_final_bit00\": 0,\n",
      "    \"f1_rdprbs_pqtr_left_margin_nibble10\": 0,\n",
      "    \"f0_wrdqdbi_deskew_dbi_odly_fcrse_byte3\": 134,\n",
      "    \"f1_rdcmplx_nqtr_right_nibble07\": 0,\n",
      "    \"f0_wrcmplx_odly_dqs_final_byte2\": 98,\n",
      "    \"cal_warning_16\": 0,\n",
      "    \"f1_rcd_rc0f\": 0,\n",
      "    \"bisc_idly2_align_nibble12\": 69,\n",
      "    \"f0_wrdqdbi_deskew_dq_odly_bit32\": 182,\n",
      "    \"f1_wrdqdbi_left_edge_dq_bit50\": 0,\n",
      "    \"f0_rdcmplx_pqtr_right_short_fcrse_nibble07\": 165,\n",
      "    \"f0_rdcmplx_nqtr_right_nibble05\": 147,\n",
      "    \"f0_wrcmplx_odly_dbi_final_byte6\": 50,\n",
      "    \"f0_wrdqdbi_deskew_dq_odly_fcrse_bit30\": 144,\n",
      "    \"f1_wrdqdbi_right_margin_byte3\": 0,\n",
      "    \"mgchk_bitslect\": 0,\n",
      "    \"f0_wrdqdbi_left_edge_dq_bit11\": 22,\n",
      "    \"f1_rdcmplx_pqtr_left_short_nibble12\": 0,\n",
      "    \"f1_wrcmplx_odly_dq_final_bit09\": 0,\n",
      "    \"f1_calbisc_rl_dly_nqtr_nibble11\": 0,\n",
      "    \"f1_dqsgate_stg2_read_lat_rank0_byte5\": 0,\n",
      "    \"f0_wrlvl_crse_final_rank0_byte3\": 0,\n",
      "    \"f0_rdcmplx_nqtr_left_nibble05\": 29,\n",
      "    \"cal_warning_23\": 0,\n",
      "    \"f1_wrprbs_right_margin_byte2\": 0,\n",
      "    \"cal_seq_status_28\": 300,\n",
      "    \"f1_wrlvl_fine_right_rank0_byte1\": 0,\n",
      "    \"f0_wrcmplx_right_margin_fcrse_byte3\": 60,\n",
      "    \"f0_wrcmplx_left_margin_byte6\": 68,\n",
      "    \"cal_warning_78\": 0,\n",
      "    \"mgchk_done\": 0,\n",
      "    \"health_status\": \"GOOD\",\n",
      "    \"f0_dqsgate_rldlyrnk_crse_final_rank0_byte0\": 0,\n",
      "    \"power_down_exit_restore_error\": 0,\n",
      "    \"vttrack_rldlyqtr_nibble01\": 79,\n",
      "    \"rdvref_left_vref_low_bound_nibble11\": 0,\n",
      "    \"f0_wrdqdbi_stg6_dbi_odly_byte3\": 64,\n",
      "    \"f1_rddq_idelay_final_bit17\": 0,\n",
      "    \"f1_mr2_17_9\": 0,\n",
      "    \"ddrmc_isr_nsu_3\": 0,\n",
      "    \"f0_wrcmplx_right_margin_fcrse_byte4\": 50,\n",
      "    \"f0_wrdqdbi_left_edge_dbi_byte3\": 64,\n",
      "    \"bisc_idly1_align_nibble00\": 72,\n",
      "    \"f1_dqsgate_stg1_overflow_59\": 0,\n",
      "    \"bisc_rl_dly_qtr_nibble04\": 78,\n",
      "    \"f1_wrdqdbi_odly_dq_final_bit00\": 0,\n",
      "    \"f1_wrdqdbi_stg2_dq_odly_bit20\": 0,\n",
      "    \"f1_rddq_qtr_deskew_nibble14\": 0,\n",
      "    \"f1_wrdqdbi_odly_dbi_final_byte2\": 0,\n",
      "    \"bisc_idly0_align_nibble06\": 66,\n",
      "    \"wrvref_vref_upp_bound_rank0_byte7\": 0,\n",
      "    \"f1_dqsgate_rldlyrnk_crse_final_rank0_byte7\": 0,\n",
      "    \"f1_wrdqdbi_deskew_dq_odly_bit36\": 0,\n",
      "    \"bisc_idly1_align_nibble06\": 70,\n",
      "    \"f0_wrlvl_fine_left_rank0_byte1\": 35,\n",
      "    \"f0_wrdqdbi_odly_dq_final_bit04\": 70,\n",
      "    \"iobmap_dq_11_10\": 0,\n",
      "    \"f1_rddq_pqtr_right_fcrse_nibble12\": 0,\n",
      "    \"f1_wrdqdbi_deskew_dq_odly_fcrse_bit29\": 0,\n",
      "    \"f0_wrprbs_right_margin_byte7\": 0,\n",
      "    \"f0_rd_simp_rise_lm_nib_09\": [\n",
      "        74,\n",
      "        152\n",
      "    ],\n",
      "    \"f1_wrdqdbi_deskew_dq_odly_bit61\": 0,\n",
      "    \"f1_wrdqdbi_left_edge_dq_bit41\": 0,\n",
      "    \"wrvref_right_vref_upp_bound_rank0_byte4\": 0,\n",
      "    \"f0_rddq_nqtr_right_fcrse_nibble08\": 181,\n",
      "    \"dqstrack_rldlyrnk_fine_min_byte1\": 5,\n",
      "    \"f0_wrlvl_crse_stg1_rank0_byte2\": 0,\n",
      "    \"iobmap_dq_31_30\": 0,\n",
      "    \"rdmargin_pqtr_left_nibble04\": 0,\n",
      "    \"cal_seq_status_48\": 0,\n",
      "    \"ddrmc_ub_isr\": 0,\n",
      "    \"rdmargin_pqtr_right_nibble09\": 0,\n",
      "    \"f0_calbisc_rl_dly_pqtr_nibble12\": 79,\n",
      "    \"f1_wrdqdbi_stg1_dqs_delay_byte7\": 0,\n",
      "    \"f0_wrcmplx_odly_dbi_final_byte5\": 48,\n",
      "    \"ub_ub_msg\": 0,\n",
      "    \"f0_dqsgate_rldlyrnk_crse_final_rank0_byte4\": 1,\n",
      "    \"f0_wrdqdbi_odly_dq_final_bit07\": 74,\n",
      "    \"cal_stage_time_31\": 0,\n",
      "    \"f0_wrdqdbi_deskew_dq_odly_bit26\": 149,\n",
      "    \"f0_rddq_idelay_final_bit45\": 78,\n",
      "    \"bisc_idly1_align_nibble14\": 70,\n",
      "    \"f0_rdcmplx_pqtr_left_short_nibble07\": 19,\n",
      "    \"f0_wrdqdbi_deskew_dq_odly_fcrse_bit33\": 167,\n",
      "    \"f1_rddq_nqtr_left_nibble15\": 0,\n",
      "    \"cal_error_bit_phy_nibble_14\": 0,\n",
      "    \"f0_rddq_pqtr_right_fcrse_nibble00\": 173,\n",
      "    \"f0_dqsgate_stg2_rldlyrnk_crse_rank0_byte2\": 1,\n",
      "    \"f1_wrdqdbi_odly_dq_final_bit51\": 0,\n",
      "    \"rdmargin_nqtr_right_nibble15\": 0,\n",
      "    \"f1_rdprbs_pqtr_left_margin_nibble00\": 0,\n",
      "    \"rdvref_left_vref_upp_bound_nibble04\": 0,\n",
      "    \"f0_rdcmplx_nqtr_right_short_nibble10\": 166,\n",
      "    \"f0_rddq_pqtr_final_nibble04\": 91,\n",
      "    \"f1_wrdqdbi_stg2_dq_odly_bit53\": 0,\n",
      "    \"f0_wrlat_match_rank0_byte6\": 17,\n",
      "    \"f0_dqsgate_stg1_overflow_01\": 0,\n",
      "    \"cal_stage_time_04\": 0,\n",
      "    \"bisc_nqtr_align_nibble14\": 1,\n",
      "    \"c_code_minor_ver\": 1,\n",
      "    \"f0_dqsgate_stg1_overflow_06\": 0,\n",
      "    \"dqstrack_rldlyrnk_fine_min_byte3\": 23,\n",
      "    \"f1_rddq_pqtr_left_nibble07\": 0,\n",
      "    \"f1_wrlat_phy_data_nib_final_byte6\": 0,\n",
      "    \"f1_lp4_mr14\": 0,\n",
      "    \"bisc_idly2_align_nibble09\": 75,\n",
      "    \"f1_wrcmplx_odly_dq_final_bit01\": 0,\n",
      "    \"f0_rddq_pqtr_right_nibble01\": 167,\n",
      "    \"vttrack_rldlyqtr_min_nibble09\": 76,\n",
      "    \"bisc_nqtr_align_nibble15\": 2,\n",
      "    \"f0_rddq_nqtr_left_nibble04\": 30,\n",
      "    \"f1_wrcmplx_odly_dq_final_bit34\": 0,\n",
      "    \"cal_post_status_02\": 0,\n",
      "    \"rdmargin_pqtr_left_nibble05\": 0,\n",
      "    \"f1_wrdqdbi_stg2_dq_odly_bit41\": 0,\n",
      "    \"f1_wrdqdbi_stg3_dq_odly_bit00\": 0,\n",
      "    \"phy_rden25_dly\": 25,\n",
      "    \"f1_rdcmplx_pqtr_right_short_fcrse_nibble14\": 0,\n",
      "    \"f0_rdprbs_nqtr_left_margin_nibble00\": 0,\n",
      "    \"phy_oe_nib20_dly\": 0,\n",
      "    \"f0_wrdqdbi_deskew_dq_odly_bit02\": 138,\n",
      "    \"f0_wrdqdbi_stg2_dqs_odly_byte1\": 53,\n",
      "    \"f0_rddq_idelay_final_bit17\": 69,\n",
      "    \"f0_dqsgate_stg1_overflow_42\": 0,\n",
      "    \"f0_rddq_pqtr_left_nibble10\": 18,\n",
      "    \"wrvref_vref_upp_bound_rank0_byte3\": 0,\n",
      "    \"f1_wrlvl_offset_rank0_byte5\": 0,\n",
      "    \"f0_mr2_17_9\": 0,\n",
      "    \"f0_rd_comp_fall_ctp_nib_13\": [\n",
      "        92,\n",
      "        187\n",
      "    ],\n",
      "    \"cal_seq_status_04\": 262,\n",
      "    \"f0_rd_simp_fall_lm_nib_04\": [\n",
      "        73,\n",
      "        146\n",
      "    ],\n",
      "    \"cal_stage_time_32\": 0,\n",
      "    \"f0_rddq_pqtr_right_fcrse_nibble07\": 173,\n",
      "    \"f0_wrdqdbi_stg5_dqs_odly_byte1\": 53,\n",
      "    \"f1_wrcmplx_odly_dq_final_bit11\": 0,\n",
      "    \"f1_wrdqdbi_left_edge_dq_bit12\": 0,\n",
      "    \"bisc_pqtr_nibble13\": 78,\n",
      "    \"f0_wrdqdbi_stg3_dq_odly_bit52\": 40,\n",
      "    \"f1_rddq_pqtr_final_nibble15\": 0,\n",
      "    \"f0_wrdqdbi_left_edge_dq_bit01\": 63,\n",
      "    \"f0_wrlvl_noise_fcrse_rank0_byte3\": 65,\n",
      "    \"f0_wrcmplx_odly_dq_final_bit22\": 109,\n",
      "    \"dqstrack_rldlyrnk_fine_max_byte1\": 5,\n",
      "    \"wrvref_vref_def\": 0,\n",
      "    \"cal_seq_status_36\": 307,\n",
      "    \"wrvref_right_vref_low_bound_rank0_byte1\": 0,\n",
      "    \"rdvref_vref_upp_bound_nibble13\": 0,\n",
      "    \"f0_calbisc_rl_dly_nqtr_nibble09\": 77,\n",
      "    \"f1_wrdqdbi_stg3_dq_odly_bit45\": 0,\n",
      "    \"f0_wrdqdbi_stg3_dq_odly_bit19\": 82,\n",
      "    \"f0_wrlat_wldlyrnk_crse_final_rank0_byte1\": 3,\n",
      "    \"f1_wrdqdbi_right_margin_fcrse_byte7\": 0,\n",
      "    \"f1_wrdqdbi_odly_dq_final_bit22\": 0,\n",
      "    \"f1_wrdqdbi_odly_dq_final_bit03\": 0,\n",
      "    \"rdvref_right_vref_final_nibble12\": 0,\n",
      "    \"f0_rddq_idelay_final_bit46\": 87,\n",
      "    \"wrvref_vref_final_rank0_byte5\": 0,\n",
      "    \"f1_rddq_idelay_final_bit12\": 0,\n",
      "    \"f1_wrdqdbi_deskew_dq_odly_fcrse_bit49\": 0,\n",
      "    \"cal_warning_21\": 0,\n",
      "    \"dqstrack_rldlyrnk_crse_byte1\": 5,\n",
      "    \"ddrmc_isr_ce1_ecc1\": 0,\n",
      "    \"dqstrack_rldlyrnk_fine_min_byte0\": 6,\n",
      "    \"f0_rddq_nqtr_right_fcrse_nibble01\": 180,\n",
      "    \"f0_wrlvl_offset_rank0_byte7\": 79,\n",
      "    \"f1_rdcmplx_nqtr_right_short_fcrse_nibble08\": 0,\n",
      "    \"f1_rddq_idelay_final_bit35\": 0,\n",
      "    \"f0_rdcmplx_pqtr_right_nibble01\": 162,\n",
      "    \"f1_wrdqdbi_right_margin_byte0\": 0,\n",
      "    \"f1_rdprbs_nqtr_right_margin_nibble08\": 0,\n",
      "    \"dqstrack_rldlyrnk_fine_byte2\": 49,\n",
      "    \"f1_wrdqdbi_stg3_dq_odly_bit53\": 0,\n",
      "    \"f0_rd_comp_rise_ctp_nib_04\": [\n",
      "        89,\n",
      "        176\n",
      "    ],\n",
      "    \"bisc_pqtr_nibble10\": 79,\n",
      "    \"f0_calbisc_rl_dly_qtr_nibble13\": 77,\n",
      "    \"f0_rd_simp_fall_ctp_nib_00\": [\n",
      "        97,\n",
      "        197\n",
      "    ],\n",
      "    \"f1_dqsgate_stg1_overflow_21\": 0,\n",
      "    \"f0_wrdqdbi_stg1_dqs_delay_byte5\": 52,\n",
      "    \"f0_rdcmplx_nqtr_right_nibble12\": 149,\n",
      "    \"f0_wrdqdbi_odly_dq_final_bit33\": 94,\n",
      "    \"f1_rddq_idelay_final_bit53\": 0,\n",
      "    \"bisc_idly1_align_nibble13\": 79,\n",
      "    \"f0_rdcmplx_pqtr_left_short_nibble06\": 19,\n",
      "    \"dqstrack_rldlyrnk_crse_max_byte7\": 5,\n",
      "    \"f0_rdcmplx_pqtr_left_nibble10\": 27,\n",
      "    \"bisc_pqtr_nibble09\": 78,\n",
      "    \"f1_rddq_nqtr_final_nibble08\": 0,\n",
      "    \"cal_stage_time_06\": 0,\n",
      "    \"f1_rddq_qtr_deskew_nibble15\": 0,\n",
      "    \"f0_dqsgate_stg1_overflow_63\": 0,\n",
      "    \"f0_wrdqdbi_deskew_dq_odly_fcrse_bit15\": 117,\n",
      "    \"f1_rddq_pqtr_right_nibble10\": 0,\n",
      "    \"f1_rddq_pqtr_right_nibble15\": 0,\n",
      "    \"rdmargin_nqtr_left_nibble08\": 0,\n",
      "    \"f0_rddq_idelay_final_bit07\": 87,\n",
      "    \"f0_wrdqdbi_odly_dq_final_bit49\": 47,\n",
      "    \"f1_rdcmplx_idelay_offset_nibble13\": 0,\n",
      "    \"rdvref_right_vref_low_bound_nibble09\": 0,\n",
      "    \"f0_rd_comp_fall_lm_nib_00\": [\n",
      "        62,\n",
      "        126\n",
      "    ],\n",
      "    \"f0_rd_simp_rise_rm_nib_07\": [\n",
      "        74,\n",
      "        150\n",
      "    ],\n",
      "    \"f1_wrdqdbi_stg4_dqs_delay_byte2\": 0,\n",
      "    \"bisc_rl_dly_qtr_nibble01\": 76,\n",
      "    \"f1_wrdqdbi_odly_dq_final_bit41\": 0,\n",
      "    \"f0_rd_simp_fall_rm_nib_07\": [\n",
      "        71,\n",
      "        142\n",
      "    ],\n",
      "    \"cal_stage_time_26\": 0,\n",
      "    \"f0_wrlat_match_rank0_byte3\": 17,\n",
      "    \"f0_dqsgate_stg2_read_lat_rank0_byte7\": 28,\n",
      "    \"bisc_nqtr_nibble04\": 80,\n",
      "    \"f0_rddq_pqtr_left_nibble13\": 18,\n",
      "    \"wrvref_right_vref_upp_bound_rank0_byte2\": 0,\n",
      "    \"f0_wrdqdbi_left_edge_dq_bit19\": 86,\n",
      "    \"wrvref_left_vref_final_rank0_byte2\": 0,\n",
      "    \"f0_wrdqdbi_stg4_dqs_delay_byte6\": 14,\n",
      "    \"f0_wrdqdbi_odly_dq_final_bit26\": 76,\n",
      "    \"f1_wrdqdbi_deskew_dq_odly_fcrse_bit37\": 0,\n",
      "    \"rdvref_right_vref_def_nibble02\": 0,\n",
      "    \"f1_wrcmplx_odly_dq_final_bit48\": 0,\n",
      "    \"f0_wrdqdbi_deskew_dbi_odly_fcrse_byte4\": 167,\n",
      "    \"rdvref_right_vref_def_nibble15\": 0,\n",
      "    \"f1_wrdqdbi_odly_dq_final_bit28\": 0,\n",
      "    \"bisc_idly5_align_nibble09\": 82,\n",
      "    \"f0_dqsgate_stg1_overflow_12\": 0,\n",
      "    \"phy_rden9_dly\": 22,\n",
      "    \"f0_rdcmplx_nqtr_left_nibble01\": 38,\n",
      "    \"f1_wrdqdbi_left_edge_dq_bit00\": 0,\n",
      "    \"f0_rddq_pqtr_right_fcrse_nibble11\": 173,\n",
      "    \"f1_wrlat_init_latency\": 0,\n",
      "    \"f1_wrlat_phy_data_nib_final_byte3\": 0,\n",
      "    \"f1_dqsgate_read_lat_final_byte0\": 0,\n",
      "    \"scrub_en\": 1,\n",
      "    \"f0_rdprbs_pqtr_right_margin_nibble00\": 0,\n",
      "    \"wrvref_right_vref_low_bound_rank0_byte2\": 0,\n",
      "    \"f0_wrdqdbi_left_edge_dbi_byte1\": 41,\n",
      "    \"rdmargin_nqtr_left_nibble04\": 0,\n",
      "    \"f0_wrcmplx_odly_dq_final_bit26\": 81,\n",
      "    \"f1_wrdqdbi_deskew_dq_odly_bit37\": 0,\n",
      "    \"f1_wrdqdbi_left_edge_dq_bit07\": 0,\n",
      "    \"f0_wrcmplx_left_margin_fcrse_byte0\": 70,\n",
      "    \"f1_rddq_pqtr_right_fcrse_nibble13\": 0,\n",
      "    \"f1_wrdqdbi_deskew_dq_odly_bit22\": 0,\n",
      "    \"xpi_oe_all_nib_dly\": 16,\n",
      "    \"cal_stage_time_16\": 0,\n",
      "    \"f1_wrcmplx_odly_dq_final_bit24\": 0,\n",
      "    \"f0_rdcmplx_idelay_offset_nibble14\": 0,\n",
      "    \"f0_dqsgate_rldlyrnk_crse_final_rank0_byte3\": 2,\n",
      "    \"f1_dqsgate_stg2_read_lat_rank0_byte4\": 0,\n",
      "    \"f1_wrdqdbi_deskew_dq_odly_fcrse_bit41\": 0,\n",
      "    \"f0_rd_comp_rise_rm_nib_13\": [\n",
      "        63,\n",
      "        126\n",
      "    ],\n",
      "    \"wrvref_left_vref_final_rank0_byte5\": 0,\n",
      "    \"bisc_idly5_align_nibble13\": 81,\n",
      "    \"f0_dqsgate_stg1_overflow_49\": 0,\n",
      "    \"f1_wrdqdbi_stg2_dq_odly_bit61\": 0,\n",
      "    \"cal_seq_status_34\": 305,\n",
      "    \"ddrmc_isr_uc0_ecc0\": 0,\n",
      "    \"f1_wrdqdbi_stg1_dqs_delay_byte0\": 0,\n",
      "    \"f0_rddq_nqtr_final_nibble13\": 101,\n",
      "    \"cal_error_bit_phy_nibble_16\": 0,\n",
      "    \"f1_wrdqdbi_stg1_bit_status_byte1\": 0,\n",
      "    \"f1_wrdqdbi_deskew_dq_odly_bit41\": 0,\n",
      "    \"f0_rd_comp_fall_rm_nib_04\": [\n",
      "        59,\n",
      "        118\n",
      "    ],\n",
      "    \"ddrmc_isr_dc_cmd1_fatal\": 0,\n",
      "    \"f0_wr_simp_lm_byte_01\": [\n",
      "        88,\n",
      "        179\n",
      "    ],\n",
      "    \"f1_wrdqdbi_stg3_dq_odly_bit37\": 0,\n",
      "    \"f0_wrdqdbi_stg2_dqs_odly_byte4\": 113,\n",
      "    \"rdmargin_nqtr_left_nibble15\": 0,\n",
      "    \"f0_rd_simp_fall_lm_nib_13\": [\n",
      "        71,\n",
      "        144\n",
      "    ],\n",
      "    \"f1_wrdqdbi_stg3_dq_odly_bit08\": 0,\n",
      "    \"phy_oe_nib21_dly\": 0,\n",
      "    \"f0_wrlat_phy_oe_nib_final_byte2\": 1,\n",
      "    \"cal_stage_time_47\": 0,\n",
      "    \"dqstrack_rldlyrnk_fine_min_byte4\": 50,\n",
      "    \"wrvref_right_vref_def_rank0_byte4\": 0,\n",
      "    \"f1_wrdqdbi_deskew_dq_odly_fcrse_bit26\": 0,\n",
      "    \"f0_rdcmplx_pqtr_left_short_nibble03\": 25,\n",
      "    \"rdvref_left_vref_final_nibble08\": 0,\n",
      "    \"f1_rddq_idelay_final_bit16\": 0,\n",
      "    \"f0_rd_simp_fall_lm_nib_01\": [\n",
      "        68,\n",
      "        140\n",
      "    ],\n",
      "    \"bisc_nqtr_align_nibble04\": 2,\n",
      "    \"rdvref_vref_final_nibble04\": 0,\n",
      "    \"f1_wrlvl_crse_final_rank0_byte4\": 0,\n",
      "    \"ddrmc_isr_na_cmd_fatal\": 0,\n",
      "    \"alert_parity_ch1_error\": 0,\n",
      "    \"f0_rdprbs_pqtr_left_margin_nibble06\": 0,\n",
      "    \"f0_wrlvl_noise_fcrse_rank0_byte4\": 105,\n",
      "    \"wrvref_vref_upp_bound_rank0_byte6\": 0,\n",
      "    \"f1_rdcmplx_pqtr_final_nibble00\": 0,\n",
      "    \"f1_wrcmplx_odly_dqs_final_byte5\": 0,\n",
      "    \"cal_stage_time_59\": 0,\n",
      "    \"f1_read_latency\": 1,\n",
      "    \"bisc_pqtr_align_nibble00\": 0,\n",
      "    \"f1_wrdqdbi_deskew_dq_odly_fcrse_bit17\": 0,\n",
      "    \"f0_dqsgate_stg1_overflow_51\": 0,\n",
      "    \"f0_rddq_idelay_final_bit36\": 76,\n",
      "    \"rdmargin_pqtr_left_nibble03\": 0,\n",
      "    \"f0_rddq_pqtr_right_fcrse_nibble15\": 173,\n",
      "    \"f0_rddq_pqtr_right_nibble09\": 167,\n",
      "    \"f0_rddq_pqtr_left_nibble04\": 18,\n",
      "    \"f0_wrdqdbi_deskew_dq_odly_bit52\": 129,\n",
      "    \"rdvref_right_vref_low_bound_nibble12\": 0,\n",
      "    \"f1_wrlat_wldlyrnk_crse_final_rank0_byte5\": 0,\n",
      "    \"f1_rdcmplx_nqtr_right_short_nibble09\": 0,\n",
      "    \"f1_wrdqdbi_right_margin_byte4\": 0,\n",
      "    \"f0_calbisc_rl_dly_pqtr_nibble14\": 79,\n",
      "    \"wrvref_right_vref_low_bound_rank0_byte4\": 0,\n",
      "    \"f1_wrdqdbi_left_edge_dq_bit33\": 0,\n",
      "    \"cal_seq_status_25\": 296,\n",
      "    \"f0_rd_comp_fall_rm_nib_13\": [\n",
      "        59,\n",
      "        120\n",
      "    ],\n",
      "    \"f1_wrdqdbi_odly_dq_final_bit11\": 0,\n",
      "    \"rdvref_vref_final_nibble05\": 0,\n",
      "    \"f0_dqsgate_stg1_overflow_17\": 0,\n",
      "    \"f0_rdprbs_pqtr_left_margin_nibble11\": 0,\n",
      "    \"f0_rdprbs_pqtr_right_margin_nibble03\": 0,\n",
      "    \"f1_rddq_idelay_final_bit40\": 0,\n",
      "    \"vttrack_rldlyqtr_nibble13\": 79,\n",
      "    \"dqstrack_rldlyrnk_fine_byte4\": 50,\n",
      "    \"wrvref_left_vref_low_bound_rank0_byte1\": 0,\n",
      "    \"f1_dqsgate_stg1_overflow_17\": 0,\n",
      "    \"f0_wrdqdbi_odly_dq_final_bit42\": 50,\n",
      "    \"f1_wrdqdbi_odly_dq_final_bit24\": 0,\n",
      "    \"cal_seq_status_13\": 271,\n",
      "    \"bisc_pqtr_align_nibble01\": 0,\n",
      "    \"f0_rd_comp_rise_rm_nib_04\": [\n",
      "        64,\n",
      "        127\n",
      "    ],\n",
      "    \"rdvref_right_vref_def_nibble06\": 0,\n",
      "    \"cal_seq_status_20\": 287,\n",
      "    \"f1_rddq_qtr_deskew_nibble07\": 0,\n",
      "    \"f1_wrdqdbi_stg6_dbi_odly_byte1\": 0,\n",
      "    \"f0_wrdqdbi_odly_dq_final_bit60\": 75,\n",
      "    \"dqstrack_rldlyrnk_crse_max_byte0\": 4,\n",
      "    \"dqstrack_rldlyrnk_fine_max_byte4\": 50,\n",
      "    \"f0_rddq_nqtr_right_nibble11\": 176,\n",
      "    \"cal_error_bit_phy_nibble_19\": 0,\n",
      "    \"f0_wrdqdbi_stg2_dq_odly_bit32\": 97,\n",
      "    \"f1_wrdqdbi_deskew_dbi_odly_byte4\": 0,\n",
      "    \"f0_wrdqdbi_deskew_dq_odly_bit47\": 116,\n",
      "    \"f1_rdcmplx_nqtr_final_nibble04\": 0,\n",
      "    \"cal_warning_07\": 0,\n",
      "    \"wrvref_left_vref_upp_bound_rank0_byte5\": 0,\n",
      "    \"f0_wrprbs_right_margin_byte3\": 0,\n",
      "    \"cal_stage.04_F0_WRITE_LEVELING\": \"Pass\",\n",
      "    \"f1_wrlat_wldlyrnk_crse_final_rank0_byte4\": 0,\n",
      "    \"f0_rd_comp_fall_lm_nib_08\": [\n",
      "        60,\n",
      "        119\n",
      "    ],\n",
      "    \"f0_wrdqdbi_odly_dq_final_bit17\": 98,\n",
      "    \"f1_dqsgate_stg1_read_lat_rank0_byte6\": 0,\n",
      "    \"f1_calbisc_rl_dly_qtr_nibble09\": 0,\n",
      "    \"bisc_rl_dly_qtr_nibble05\": 78,\n",
      "    \"wrmargin_right_byte0\": 0,\n",
      "    \"f1_rdcmplx_idelay_offset_nibble03\": 0,\n",
      "    \"f1_wrdqdbi_odly_dq_final_bit25\": 0,\n",
      "    \"bisc_pqtr_nibble02\": 78,\n",
      "    \"xpi_read_dbi\": 0,\n",
      "    \"wrvref_right_vref_final_rank0_byte1\": 0,\n",
      "    \"f0_wrcmplx_odly_dq_final_bit57\": 76,\n",
      "    \"f1_wrdqdbi_left_edge_dbi_byte5\": 0,\n",
      "    \"f0_wr_simp_lm_byte_03\": [\n",
      "        75,\n",
      "        151\n",
      "    ],\n",
      "    \"f0_rdcmplx_pqtr_final_nibble14\": 90,\n",
      "    \"f0_dqsgate_stg2_read_lat_rank0_byte1\": 26,\n",
      "    \"f1_wrdqdbi_stg4_byte_status_00\": 0,\n",
      "    \"iobmap_dq_45_44\": 0,\n",
      "    \"vttrack_rldlyqtr_min_nibble10\": 75,\n",
      "    \"f0_wrdqdbi_stg2_dq_odly_bit31\": 64,\n",
      "    \"rdvref_vref_low_bound_nibble02\": 0,\n",
      "    \"wrvref_left_vref_upp_bound_rank0_byte4\": 0,\n",
      "    \"f0_rdcmplx_pqtr_right_short_nibble03\": 164,\n",
      "    \"f0_wrcmplx_odly_dq_final_bit09\": 58,\n",
      "    \"f0_rdcmplx_idelay_offset_nibble00\": 0,\n",
      "    \"f1_wrdqdbi_stg2_dq_odly_bit04\": 0,\n",
      "    \"f0_rddq_qtr_deskew_nibble07\": 1,\n",
      "    \"f0_wrcmplx_odly_dq_final_bit35\": 99,\n",
      "    \"f0_dqsgate_stg1_overflow_00\": 255,\n",
      "    \"f0_wrdqdbi_stg1_bit_status_byte3\": 0,\n",
      "    \"f1_dqsgate_rldlyrnk_crse_final_rank0_byte2\": 0,\n",
      "    \"f1_wrlvl_fine_final_rank0_byte7\": 0,\n",
      "    \"f0_wrlvl_noise_fcrse_rank0_byte0\": 65,\n",
      "    \"f1_wrdqdbi_stg2_dq_odly_bit60\": 0,\n",
      "    \"f0_wrdqdbi_stg2_dq_odly_bit14\": 37,\n",
      "    \"rdvref_right_vref_final_nibble13\": 0,\n",
      "    \"f0_wrdqdbi_deskew_dq_odly_bit21\": 176,\n",
      "    \"f1_wrdqdbi_deskew_dq_odly_fcrse_bit10\": 0,\n",
      "    \"f1_rdcmplx_nqtr_final_nibble07\": 0,\n",
      "    \"f0_rdcmplx_nqtr_right_short_nibble13\": 165,\n",
      "    \"f0_rddq_nqtr_left_nibble15\": 26,\n",
      "    \"rdvref_right_vref_def_nibble05\": 0,\n",
      "    \"f0_wrdqdbi_stg2_dqs_odly_byte7\": 79,\n",
      "    \"bisc_idly5_align_nibble02\": 74,\n",
      "    \"f0_wrdqdbi_deskew_dq_odly_bit59\": 153,\n",
      "    \"rdmargin_pqtr_right_nibble00\": 0,\n",
      "    \"f0_wrdqdbi_odly_dbi_final_byte4\": 98,\n",
      "    \"f1_wrdqdbi_stg3_dq_odly_bit62\": 0,\n",
      "    \"f1_rdprbs_pqtr_left_margin_nibble12\": 0,\n",
      "    \"f1_wrdqdbi_odly_dq_final_bit29\": 0,\n",
      "    \"f0_rd_simp_rise_ctp_nib_00\": [\n",
      "        90,\n",
      "        178\n",
      "    ],\n",
      "    \"f1_wrcmplx_odly_dq_final_bit29\": 0,\n",
      "    \"f1_wrdqdbi_stg2_dq_odly_bit07\": 0,\n",
      "    \"f0_wrdqdbi_deskew_dbi_odly_byte4\": 172,\n",
      "    \"rdmargin_nqtr_right_nibble09\": 0,\n",
      "    \"f0_wr_simp_rm_byte_06\": [\n",
      "        62,\n",
      "        124\n",
      "    ],\n",
      "    \"f1_wrdqdbi_left_edge_dq_bit22\": 0,\n",
      "    \"ref_en\": 2,\n",
      "    \"f0_calbisc_rl_dly_pqtr_nibble04\": 79,\n",
      "    \"f1_calbisc_rl_dly_pqtr_nibble12\": 0,\n",
      "    \"f0_wr_simp_ctp_byte_05\": [\n",
      "        286,\n",
      "        573\n",
      "    ],\n",
      "    \"f1_rdprbs_pqtr_right_margin_nibble02\": 0,\n",
      "    \"ddrmc_isr_uc1_ecc1\": 0,\n",
      "    \"wrmargin_left_byte3\": 0,\n",
      "    \"f0_wrcmplx_odly_dq_final_bit28\": 72,\n",
      "    \"f1_wrdqdbi_stg3_dq_odly_bit50\": 0,\n",
      "    \"f0_wrdqdbi_left_edge_dq_bit63\": 59,\n",
      "    \"f0_wrdqdbi_stg3_dq_odly_bit24\": 64,\n",
      "    \"f0_wrlvl_fine_final_rank0_byte1\": 37,\n",
      "    \"bisc_idly3_align_nibble12\": 69,\n",
      "    \"f0_rd_comp_fall_lm_nib_09\": [\n",
      "        61,\n",
      "        124\n",
      "    ],\n",
      "    \"f1_rddq_pqtr_left_nibble11\": 0,\n",
      "    \"f1_dqsgate_stg1_overflow_26\": 0,\n",
      "    \"mgchk_ack\": 0,\n",
      "    \"f0_wrdqdbi_deskew_dq_odly_fcrse_bit10\": 107,\n",
      "    \"ddrmc_isr_nsu_fatal3\": 0,\n",
      "    \"f1_wrcmplx_odly_dbi_final_byte1\": 0,\n",
      "    \"bisc_rl_dly_qtr_nibble00\": 78,\n",
      "    \"f1_wrlvl_crse_stg1_rank0_byte7\": 0,\n",
      "    \"rdvref_left_vref_def_nibble15\": 0,\n",
      "    \"f1_wrcmplx_odly_dq_final_bit60\": 0,\n",
      "    \"rdvref_right_vref_low_bound_nibble13\": 0,\n",
      "    \"f0_wrdqdbi_deskew_dq_odly_bit36\": 182,\n",
      "    \"f1_wrlat_wldlyrnk_crse_final_rank0_byte6\": 0,\n",
      "    \"rdvref_right_vref_final_nibble07\": 0,\n",
      "    \"f0_wrdqdbi_stg1_dqs_delay_byte3\": 80,\n",
      "    \"f1_wrdqdbi_deskew_dq_odly_fcrse_bit19\": 0,\n",
      "    \"iobmap_dqs_9\": 0,\n",
      "    \"rdvref_right_vref_final_nibble04\": 0,\n",
      "    \"cal_warning_67\": 0,\n",
      "    \"f0_wrlat_phy_data_nib_final_byte2\": 0,\n",
      "    \"f1_wrdqdbi_odly_dq_final_bit39\": 0,\n",
      "    \"cal_stage_time_63\": 0,\n",
      "    \"f1_dqsgate_stg1_overflow_30\": 0,\n",
      "    \"f0_wr_simp_lm_byte_07\": [\n",
      "        85,\n",
      "        169\n",
      "    ],\n",
      "    \"rdvref_left_vref_low_bound_nibble10\": 0,\n",
      "    \"f0_rddq_nqtr_right_nibble05\": 174,\n",
      "    \"f0_wrdqdbi_deskew_dq_odly_bit19\": 170,\n",
      "    \"f0_wrdqdbi_left_edge_dq_bit15\": 37,\n",
      "    \"cal_stage_time_53\": 0,\n",
      "    \"f0_wrdqdbi_odly_dq_final_bit48\": 57,\n",
      "    \"f1_dqsgate_stg1_overflow_58\": 0,\n",
      "    \"f1_rddq_pqtr_left_nibble14\": 0,\n",
      "    \"cal_error_bit_phy_nibble_11\": 0,\n",
      "    \"f0_wrdqdbi_deskew_dq_odly_fcrse_bit49\": 120,\n",
      "    \"f1_wrdqdbi_deskew_dq_odly_fcrse_bit56\": 0,\n",
      "    \"fifo_rden_dly\": 19,\n",
      "    \"f1_wrdqdbi_stg3_dq_odly_bit09\": 0,\n",
      "    \"f1_rdcmplx_nqtr_left_nibble01\": 0,\n",
      "    \"f1_rddq_idelay_final_bit33\": 0,\n",
      "    \"f1_wrdqdbi_odly_dq_final_bit08\": 0,\n",
      "    \"f1_wrdqdbi_deskew_dq_odly_bit28\": 0,\n",
      "    \"lranks\": 1,\n",
      "    \"f1_rddq_pqtr_final_nibble03\": 0,\n",
      "    \"f0_wrdqdbi_right_margin_fcrse_byte4\": 70,\n",
      "    \"f1_wrcmplx_left_margin_byte0\": 0,\n",
      "    \"cal_stage.10_EN_VT_TRACK\": \"Pass\",\n",
      "    \"dqstrack_rldlyrnk_crse_min_byte0\": 4,\n",
      "    \"cal_stage_time_07\": 0,\n",
      "    \"f1_wrdqdbi_odly_dq_final_bit30\": 0,\n",
      "    \"f0_wrcmplx_odly_dq_final_bit02\": 67,\n",
      "    \"rdvref_right_vref_final_nibble02\": 0,\n",
      "    \"f0_wrlvl_noise_fcrse_rank0_byte2\": 85,\n",
      "    \"f1_rdprbs_nqtr_left_margin_nibble10\": 0,\n",
      "    \"ub_isr_calerror\": 0,\n",
      "    \"mgchk_rd_vref_1\": 0,\n",
      "    \"f0_rdcmplx_pqtr_left_short_nibble14\": 22,\n",
      "    \"f0_wrdqdbi_left_edge_dq_bit51\": 39,\n",
      "    \"f0_rddq_nqtr_right_nibble10\": 176,\n",
      "    \"f0_wrdqdbi_deskew_dq_odly_fcrse_bit40\": 126,\n",
      "    \"f1_dqsgate_stg2_rldlyrnk_crse_rank0_byte7\": 0,\n",
      "    \"f1_rdprbs_nqtr_right_margin_nibble05\": 0,\n",
      "    \"bisc_idly2_align_nibble07\": 73,\n",
      "    \"cal_seq_status_01\": 385,\n",
      "    \"f0_rddq_idelay_final_bit24\": 67,\n",
      "    \"f0_rddq_idelay_final_bit58\": 71,\n",
      "    \"f0_wrdqdbi_odly_dq_final_bit06\": 79,\n",
      "    \"rdvref_vref_upp_bound_nibble08\": 0,\n",
      "    \"wrvref_right_vref_upp_bound_rank0_byte1\": 0,\n",
      "    \"vttrack_rldlyqtr_max_nibble06\": 81,\n",
      "    \"rdvref_left_vref_upp_bound_nibble07\": 0,\n",
      "    \"f1_wrdqdbi_stg2_dq_odly_bit33\": 0,\n",
      "    \"f0_wrdqdbi_odly_dq_final_bit13\": 50,\n",
      "    \"f0_rddq_nqtr_left_nibble01\": 35,\n",
      "    \"f1_wrdqdbi_stg3_dq_odly_bit33\": 0,\n",
      "    \"f1_rdcmplx_nqtr_right_short_fcrse_nibble01\": 0,\n",
      "    \"cal_seq_status_30\": 301,\n",
      "    \"f0_wrcmplx_odly_dq_final_bit32\": 115,\n",
      "    \"dqstrack_rldlyrnk_fine_byte6\": 73,\n",
      "    \"f0_wrdqdbi_deskew_dq_odly_bit49\": 119,\n",
      "    \"f1_wrdqdbi_stg2_dq_odly_bit47\": 0,\n",
      "    \"f0_rdprbs_nqtr_left_margin_nibble10\": 0,\n",
      "    \"f0_wrdqdbi_left_edge_dq_bit40\": 50,\n",
      "    \"f1_wrcmplx_odly_dq_final_bit41\": 0,\n",
      "    \"f1_wrdqdbi_left_edge_dq_bit60\": 0,\n",
      "    \"f1_dqsgate_stg1_overflow_23\": 0,\n",
      "    \"f0_wrcmplx_odly_dq_final_bit18\": 100,\n",
      "    \"f1_rddq_nqtr_right_fcrse_nibble07\": 0,\n",
      "    \"0x00_F0_PHY_BISC\": \"Pass\",\n",
      "    \"bisc_idly0_align_nibble15\": 77,\n",
      "    \"f1_rdcmplx_pqtr_final_nibble02\": 0,\n",
      "    \"dc0_perf_mon_0\": 0,\n",
      "    \"f1_wrcmplx_left_margin_fcrse_byte2\": 0,\n",
      "    \"ddrmc_isr_ce0_ecc0\": 0,\n",
      "    \"f1_rdcmplx_pqtr_right_nibble14\": 0,\n",
      "    \"f1_rdcmplx_pqtr_right_short_nibble05\": 0,\n",
      "    \"f0_wrcmplx_odly_dq_final_bit29\": 82,\n",
      "    \"bisc_idly5_align_nibble07\": 79,\n",
      "    \"f0_wrdqdbi_left_edge_dq_bit22\": 93,\n",
      "    \"f0_dqsgate_read_lat_final_byte0\": 26,\n",
      "    \"cal_stage_time_24\": 0,\n",
      "    \"f1_wrdqdbi_stg2_dq_odly_bit51\": 0,\n",
      "    \"f0_wr_comp_ctp_byte_07\": [\n",
      "        314,\n",
      "        626\n",
      "    ],\n",
      "    \"cal_error_bit_phy_nibble_18\": 0,\n",
      "    \"f0_wrdqdbi_right_margin_byte7\": 68,\n",
      "    \"f1_wrlvl_fine_left_rank0_byte7\": 0,\n",
      "    \"f0_rdprbs_pqtr_right_margin_nibble11\": 0,\n",
      "    \"f1_dqsgate_stg2_read_lat_rank0_byte0\": 0,\n",
      "    \"bisc_nqtr_align_nibble05\": 0,\n",
      "    \"f0_rdcmplx_nqtr_right_short_fcrse_nibble14\": 170,\n",
      "    \"bisc_nqtr_nibble09\": 77,\n",
      "    \"f1_rdcmplx_nqtr_right_short_nibble13\": 0,\n",
      "    \"f1_wrdqdbi_stg2_dq_odly_bit36\": 0,\n",
      "    \"f0_wrdqdbi_right_margin_byte0\": 63,\n",
      "    \"f1_wrdqdbi_deskew_dbi_odly_fcrse_byte0\": 0,\n",
      "    \"f0_calbisc_rl_dly_pqtr_nibble11\": 76,\n",
      "    \"iobmap_dqs_5\": 0,\n",
      "    \"cal_warning_47\": 0,\n",
      "    \"f0_wrlvl_crse_stg1_rank0_byte5\": 3,\n",
      "    \"f0_wrdqdbi_left_edge_dq_bit31\": 87,\n",
      "    \"f1_rddq_nqtr_left_nibble03\": 0,\n",
      "    \"f0_wrdqdbi_odly_dq_final_bit47\": 44,\n",
      "    \"wrvref_left_vref_def_rank0_byte3\": 0,\n",
      "    \"f1_wrdqdbi_stg2_dq_odly_bit11\": 0,\n",
      "    \"f0_rddq_qtr_deskew_nibble08\": 1,\n",
      "    \"f0_wrlvl_fine_left_rank0_byte6\": 38,\n",
      "    \"bisc_nqtr_align_nibble11\": 2,\n",
      "    \"f0_wrdqdbi_right_edge_dqs_byte0\": 136,\n",
      "    \"f1_wrdqdbi_stg6_dbi_odly_byte5\": 0,\n",
      "    \"f1_dqsgate_stg1_rldlyrnk_crse_rank0_byte6\": 0,\n",
      "    \"f1_dqsgate_stg1_rldlyrnk_fine_rank0_byte2\": 0,\n",
      "    \"cal_stage_time_39\": 0,\n",
      "    \"f1_wrlat_wldlyrnk_crse_final_rank0_byte1\": 0,\n",
      "    \"rdvref_left_vref_def_nibble08\": 0,\n",
      "    \"f0_wrdqdbi_odly_dq_final_bit62\": 71,\n",
      "    \"f1_rddq_nqtr_left_nibble13\": 0,\n",
      "    \"f1_rddq_nqtr_final_nibble15\": 0,\n",
      "    \"f1_calbisc_rl_dly_pqtr_nibble03\": 0,\n",
      "    \"f0_rd_simp_fall_lm_nib_05\": [\n",
      "        74,\n",
      "        146\n",
      "    ],\n",
      "    \"f1_rdcmplx_pqtr_left_nibble09\": 0,\n",
      "    \"f1_rddq_idelay_final_bit23\": 0,\n",
      "    \"f0_rdprbs_pqtr_left_margin_nibble07\": 0,\n",
      "    \"dqstrack_rldlyrnk_crse_min_byte2\": 5,\n",
      "    \"rdvref_right_vref_upp_bound_nibble01\": 0,\n",
      "    \"rdvref_left_vref_final_nibble14\": 0,\n",
      "    \"f0_wrcmplx_odly_dq_final_bit16\": 114,\n",
      "    \"f1_wrcmplx_odly_dq_final_bit25\": 0,\n",
      "    \"f0_rd_simp_rise_ctp_nib_09\": [\n",
      "        92,\n",
      "        189\n",
      "    ],\n",
      "    \"f1_rddq_idelay_final_bit54\": 0,\n",
      "    \"iobmap_dqs_0\": 0,\n",
      "    \"cal_seq_status_42\": 0,\n",
      "    \"phy_rden12_dly\": 22,\n",
      "    \"f1_wrdqdbi_stg3_dq_odly_bit24\": 0,\n",
      "    \"f0_lp4_mr12\": 0,\n",
      "    \"f0_wrlvl_fine_right_rank0_byte1\": 39,\n",
      "    \"f1_dqsgate_stg1_overflow_50\": 0,\n",
      "    \"cal_stage_time_54\": 0,\n",
      "    \"bisc_rl_dly_qtr_nibble13\": 77,\n",
      "    \"f0_rdcmplx_pqtr_right_nibble07\": 157,\n",
      "    \"f0_wrdqdbi_deskew_dq_odly_fcrse_bit31\": 154,\n",
      "    \"f0_dqsgate_stg1_overflow_46\": 0,\n",
      "    \"f0_wrdqdbi_deskew_dbi_odly_byte5\": 117,\n",
      "    \"dqstrack_rldlyrnk_crse_byte2\": 5,\n",
      "    \"f0_rdcmplx_nqtr_left_nibble14\": 25,\n",
      "    \"f1_rdcmplx_pqtr_left_nibble13\": 0,\n",
      "    \"f0_rdcmplx_pqtr_final_nibble09\": 88,\n",
      "    \"f1_wrdqdbi_stg3_dq_odly_bit06\": 0,\n",
      "    \"f0_rddq_pqtr_right_nibble03\": 164,\n",
      "    \"wrvref_vref_low_bound_rank0_byte5\": 0,\n",
      "    \"f0_wrdqdbi_stg4_dqs_delay_byte3\": 14,\n",
      "    \"f0_wrdqdbi_left_edge_dq_bit34\": 107,\n",
      "    \"f0_rdcmplx_pqtr_right_short_nibble10\": 167,\n",
      "    \"f1_wrdqdbi_odly_dq_final_bit14\": 0,\n",
      "    \"f1_rdcmplx_pqtr_right_short_fcrse_nibble06\": 0,\n",
      "    \"f1_wrcmplx_left_margin_byte7\": 0,\n",
      "    \"f0_dqsgate_stg1_overflow_18\": 0,\n",
      "    \"f1_wrdqdbi_stg2_dq_odly_bit52\": 0,\n",
      "    \"f1_wrcmplx_odly_dq_final_bit40\": 0,\n",
      "    \"f1_rdprbs_pqtr_right_margin_nibble05\": 0,\n",
      "    \"cal_seq_status_02\": 260,\n",
      "    \"iobmap_dqs_2\": 0,\n",
      "    \"f0_dqsgate_stg1_overflow_44\": 0,\n",
      "    \"f0_wrdqdbi_right_margin_fcrse_byte7\": 60,\n",
      "    \"f0_wrlat_phy_oe_nib_final_byte1\": 0,\n",
      "    \"cal_seq_status_09\": 396,\n",
      "    \"f0_rddq_idelay_final_bit60\": 79,\n",
      "    \"rdvref_right_vref_def_nibble12\": 0,\n",
      "    \"0x0d_F0_WRITE_DQ_DBI_CAL\": \"Pass\",\n",
      "    \"f0_rdprbs_nqtr_left_margin_nibble12\": 0,\n",
      "    \"f0_rd_comp_fall_rm_nib_01\": [\n",
      "        57,\n",
      "        117\n",
      "    ],\n",
      "    \"f1_mr3_17_9\": 0,\n",
      "    \"f0_rdcmplx_idelay_offset_nibble10\": 0,\n",
      "    \"f0_rd_simp_rise_ctp_nib_11\": [\n",
      "        91,\n",
      "        187\n",
      "    ],\n",
      "    \"f0_wr_simp_rm_byte_01\": [\n",
      "        57,\n",
      "        116\n",
      "    ],\n",
      "    \"f1_wrdqdbi_left_edge_dbi_byte3\": 0,\n",
      "    \"f1_wrdqdbi_left_edge_dq_bit54\": 0,\n",
      "    \"cal_warning_50\": 0,\n",
      "    \"bisc_pqtr_align_nibble11\": 0,\n",
      "    \"f0_rdcmplx_nqtr_left_nibble10\": 31,\n",
      "    \"f0_wrdqdbi_deskew_dbi_odly_byte0\": 140,\n",
      "    \"f0_period\": 625,\n",
      "    \"f0_rd_simp_rise_ctp_nib_15\": [\n",
      "        92,\n",
      "        182\n",
      "    ],\n",
      "    \"f0_wrdqdbi_stg3_dq_odly_bit16\": 82,\n",
      "    \"cal_error_rank\": 17,\n",
      "    \"f0_wrdqdbi_stg2_dq_odly_bit29\": 64,\n",
      "    \"f0_wrdqdbi_left_edge_dq_bit29\": 75,\n",
      "    \"f1_wrdqdbi_odly_dq_final_bit04\": 0,\n",
      "    \"f1_dqsgate_stg1_overflow_63\": 0,\n",
      "    \"f1_wrdqdbi_stg2_dq_odly_bit19\": 0,\n",
      "    \"max_dbi_pins\": 9,\n",
      "    \"phy_oe_nib3_dly\": 1,\n",
      "    \"f0_dqsgate_stg2_read_lat_rank0_byte5\": 27,\n",
      "    \"f0_wrdqdbi_stg2_dq_odly_bit08\": 37,\n",
      "    \"f1_wrdqdbi_odly_dqs_final_byte3\": 0,\n",
      "    \"rdvref_left_vref_upp_bound_nibble12\": 0,\n",
      "    \"f0_wrdqdbi_stg3_dq_odly_bit21\": 82,\n",
      "    \"f1_rddq_pqtr_right_fcrse_nibble09\": 0,\n",
      "    \"f1_wrdqdbi_deskew_dq_odly_bit11\": 0,\n",
      "    \"f0_rdprbs_pqtr_right_margin_nibble06\": 0,\n",
      "    \"f0_rdcmplx_nqtr_final_nibble01\": 95,\n",
      "    \"f1_calbisc_rl_dly_nqtr_nibble15\": 0,\n",
      "    \"f1_rdcmplx_pqtr_right_nibble10\": 0,\n",
      "    \"rdvref_vref_low_bound_nibble00\": 0,\n",
      "    \"f0_rddq_pqtr_right_fcrse_nibble06\": 173,\n",
      "    \"dqstrack_rldlyrnk_crse_min_byte4\": 5,\n",
      "    \"f1_rddq_idelay_final_bit45\": 0,\n",
      "    \"f1_dqsgate_stg1_overflow_22\": 0,\n",
      "    \"f1_rddq_pqtr_left_nibble08\": 0,\n",
      "    \"f1_wrprbs_left_margin_byte7\": 0,\n",
      "    \"ddrmc_isr_ce0_ecc1\": 0,\n",
      "    \"wrvref_right_vref_final_rank0_byte5\": 0,\n",
      "    \"f0_rdcmplx_nqtr_left_short_nibble00\": 25,\n",
      "    \"f1_wrdqdbi_stg4_dqs_delay_byte3\": 0,\n",
      "    \"f0_calbisc_rl_dly_qtr_nibble14\": 78,\n",
      "    \"f0_rd_comp_rise_rm_nib_11\": [\n",
      "        67,\n",
      "        138\n",
      "    ],\n",
      "    \"bisc_nqtr_nibble14\": 78,\n",
      "    \"f1_wrdqdbi_left_edge_dq_bit04\": 0,\n",
      "    \"f0_wrcmplx_odly_dq_final_bit08\": 57,\n",
      "    \"cal_time_17_9\": 1,\n",
      "    \"f0_wrdqdbi_stg2_dq_odly_bit53\": 40,\n",
      "    \"rdvref_left_vref_final_nibble05\": 0,\n",
      "    \"cal_stage_time_30\": 0,\n",
      "    \"f0_wrdqdbi_left_margin_byte4\": 75,\n",
      "    \"f1_wrdqdbi_stg2_dq_odly_bit40\": 0,\n",
      "    \"f1_wrdqdbi_left_edge_dq_bit63\": 0,\n",
      "    \"f1_rdprbs_nqtr_left_margin_nibble09\": 0,\n",
      "    \"f1_rdprbs_nqtr_right_margin_nibble01\": 0,\n",
      "    \"f1_wrlat_phy_data_nib_final_byte5\": 0,\n",
      "    \"f1_rdcmplx_idelay_offset_nibble01\": 0,\n",
      "    \"wrvref_vref_low_bound_rank0_byte4\": 0,\n",
      "    \"f0_wrdqdbi_stg3_dq_odly_bit55\": 40,\n",
      "    \"f0_wrdqdbi_odly_dqs_final_byte5\": 52,\n",
      "    \"rdvref_vref_final_nibble01\": 0,\n",
      "    \"f1_rddq_pqtr_right_fcrse_nibble11\": 0,\n",
      "    \"rdvref_right_vref_upp_bound_nibble14\": 0,\n",
      "    \"dqstrack_rldlyrnk_crse_max_byte1\": 5,\n",
      "    \"f0_wrlvl_fine_final_rank0_byte2\": 82,\n",
      "    \"f0_wrdqdbi_stg2_dq_odly_bit19\": 82,\n",
      "    \"f1_rddq_qtr_deskew_nibble01\": 0,\n",
      "    \"rdvref_right_vref_final_nibble10\": 0,\n",
      "    \"f0_rddq_nqtr_left_nibble14\": 24,\n",
      "    \"f1_wrdqdbi_odly_dq_final_bit45\": 0,\n",
      "    \"f0_wrlvl_crse_final_rank0_byte1\": 3,\n",
      "    \"f0_wrdqdbi_stg3_dq_odly_bit13\": 37,\n",
      "    \"dqstrack_rldlyrnk_crse_max_byte2\": 5,\n",
      "    \"f1_wrdqdbi_deskew_dq_odly_fcrse_bit16\": 0,\n",
      "    \"wrvref_right_vref_low_bound_rank0_byte6\": 0,\n",
      "    \"f0_wrlvl_crse_stg1_rank0_byte4\": 3,\n",
      "    \"f1_rdprbs_nqtr_left_margin_nibble11\": 0,\n",
      "    \"cal_seq_status_06\": 264,\n",
      "    \"f1_mr5_17_9\": 0,\n",
      "    \"f0_rdcmplx_nqtr_right_short_fcrse_nibble06\": 168,\n",
      "    \"bisc_idly1_align_nibble12\": 71,\n",
      "    \"f0_rdcmplx_nqtr_right_short_nibble11\": 171,\n",
      "    \"f0_wrdqdbi_stg3_dq_odly_bit44\": 36,\n",
      "    \"ddrmc_isr_nsu_2\": 0,\n",
      "    \"cal_pointer\": 447,\n",
      "    \"f0_rddq_pqtr_final_nibble02\": 92,\n",
      "    \"f1_rddq_nqtr_left_nibble10\": 0,\n",
      "    \"f0_wrcmplx_odly_dq_final_bit63\": 77,\n",
      "    \"f0_wrdqdbi_odly_dq_final_bit29\": 77,\n",
      "    \"f1_wrdqdbi_stg2_dq_odly_bit17\": 0,\n",
      "    \"f1_rddq_pqtr_left_nibble04\": 0,\n",
      "    \"f0_rdcmplx_pqtr_left_short_nibble13\": 28,\n",
      "    \"f1_dqsgate_stg1_read_lat_rank0_byte7\": 0,\n",
      "    \"f1_wrdqdbi_stg2_dq_odly_bit63\": 0,\n",
      "    \"rdmargin_nqtr_right_nibble05\": 0,\n",
      "    \"f1_wrdqdbi_deskew_dq_odly_fcrse_bit32\": 0,\n",
      "    \"f0_rddq_idelay_final_bit38\": 82,\n",
      "    \"wrvref_right_vref_low_bound_rank0_byte0\": 0,\n",
      "    \"f1_dqsgate_stg1_overflow_60\": 0,\n",
      "    \"f0_wrcmplx_right_margin_fcrse_byte7\": 50,\n",
      "    \"reg_safe_config3\": 16877592,\n",
      "    \"f1_calbisc_rl_dly_qtr_nibble05\": 0,\n",
      "    \"f0_wrdqdbi_left_edge_dq_bit45\": 34,\n",
      "    \"cal_stage_time_37\": 0,\n",
      "    \"cal_warning_53\": 0,\n",
      "    \"f1_db_bc0a\": 0,\n",
      "    \"f0_rddq_pqtr_final_nibble13\": 93,\n",
      "    \"f1_rddq_idelay_final_bit39\": 0,\n",
      "    \"f1_rdcmplx_pqtr_left_short_nibble04\": 0,\n",
      "    \"f0_wr_comp_rm_byte_04\": [\n",
      "        60,\n",
      "        122\n",
      "    ],\n",
      "    \"f1_wrdqdbi_deskew_dq_odly_bit32\": 0,\n",
      "    \"f1_dqsgate_stg1_overflow_61\": 0,\n",
      "    \"dc0_perf_mon_4\": 0,\n",
      "    \"f1_wrdqdbi_stg2_dq_odly_bit09\": 0,\n",
      "    \"f1_wrcmplx_odly_dq_final_bit14\": 0,\n",
      "    \"f0_rddq_idelay_final_bit35\": 70,\n",
      "    \"f1_rddq_nqtr_right_fcrse_nibble13\": 0,\n",
      "    \"mgchk_enable_status\": 0,\n",
      "    \"f0_rddq_pqtr_final_nibble08\": 91,\n",
      "    \"f0_rdcmplx_pqtr_left_nibble05\": 23,\n",
      "    \"f1_calbisc_rl_dly_nqtr_nibble10\": 0,\n",
      "    \"f0_rddq_pqtr_right_nibble13\": 168,\n",
      "    \"f0_wr_comp_lm_byte_00\": [\n",
      "        72,\n",
      "        146\n",
      "    ],\n",
      "    \"rdvref_right_vref_def_nibble04\": 0,\n",
      "    \"f0_rddq_pqtr_right_nibble15\": 167,\n",
      "    \"cal_warning_15\": 0,\n",
      "    \"f0_rddq_idelay_final_bit06\": 86,\n",
      "    \"rdvref_right_vref_def_nibble11\": 0,\n",
      "    \"iobmap_dqs_8\": 0,\n",
      "    \"phy_rden2_dly\": 27,\n",
      "    \"f0_rdcmplx_pqtr_right_nibble03\": 150,\n",
      "    \"cal_warning_42\": 0,\n",
      "    \"f1_wrcmplx_odly_dbi_final_byte7\": 0,\n",
      "    \"f0_rddq_nqtr_right_fcrse_nibble04\": 185,\n",
      "    \"f1_rdcmplx_nqtr_left_nibble00\": 0,\n",
      "    \"f1_wrdqdbi_right_margin_fcrse_byte2\": 0,\n",
      "    \"f1_wrdqdbi_deskew_dq_odly_bit40\": 0,\n",
      "    \"f0_wrdqdbi_stg6_dbi_odly_byte0\": 57,\n",
      "    \"f1_rddq_idelay_final_bit42\": 0,\n",
      "    \"f1_wrdqdbi_odly_dq_final_bit42\": 0,\n",
      "    \"rdvref_vref_low_bound_nibble08\": 0,\n",
      "    \"f1_wrcmplx_odly_dq_final_bit52\": 0,\n",
      "    \"wrvref_left_vref_upp_bound_rank0_byte2\": 0,\n",
      "    \"rdvref_left_vref_final_nibble06\": 0,\n",
      "    \"cal_warning_25\": 0,\n",
      "    \"f0_rdprbs_nqtr_right_margin_nibble10\": 0,\n",
      "    \"f0_rd_comp_rise_ctp_nib_05\": [\n",
      "        89,\n",
      "        178\n",
      "    ],\n",
      "    \"f0_wrdqdbi_stg1_byte_status_01\": 511,\n",
      "    \"f0_rd_simp_rise_lm_nib_10\": [\n",
      "        74,\n",
      "        146\n",
      "    ],\n",
      "    \"f0_wrdqdbi_odly_dq_final_bit46\": 58,\n",
      "    \"f1_rdprbs_nqtr_left_margin_nibble01\": 0,\n",
      "    \"f0_wr_comp_lm_byte_06\": [\n",
      "        68,\n",
      "        136\n",
      "    ],\n",
      "    \"ddrmc_isr_ce1_ecc0\": 0,\n",
      "    \"f0_rd_simp_fall_lm_nib_12\": [\n",
      "        74,\n",
      "        146\n",
      "    ],\n",
      "    \"f0_dqsgate_stg1_overflow_16\": 0,\n",
      "    \"iobmap_dqs_3\": 0,\n",
      "    \"f0_wrdqdbi_odly_dq_final_bit15\": 52,\n",
      "    \"cal_stage_time_05\": 0,\n",
      "    \"f1_dqsgate_stg1_overflow_28\": 0,\n",
      "    \"f0_wrdqdbi_stg4_dqs_delay_byte7\": 14,\n",
      "    \"f0_rdcmplx_nqtr_left_short_nibble14\": 24,\n",
      "    \"f0_wr_simp_ctp_byte_01\": [\n",
      "        284,\n",
      "        576\n",
      "    ],\n",
      "    \"f0_rd_comp_rise_ctp_nib_03\": [\n",
      "        88,\n",
      "        176\n",
      "    ],\n",
      "    \"f0_rddq_nqtr_left_nibble00\": 24,\n",
      "    \"f1_wrcmplx_odly_dq_final_bit50\": 0,\n",
      "    \"phy_oe_nib0_dly\": 1,\n",
      "    \"f1_xpll_divclk_lt\": 1,\n",
      "    \"f1_wrdqdbi_left_edge_dq_bit32\": 0,\n",
      "    \"f0_wrcmplx_odly_dq_final_bit38\": 119,\n",
      "    \"f0_wrdqdbi_stg6_dbi_odly_byte7\": 63,\n",
      "    \"f1_wrdqdbi_odly_dq_final_bit52\": 0,\n",
      "    \"phy_rden15_dly\": 26,\n",
      "    \"ddrmc_isr_nsu_0\": 0,\n",
      "    \"f0_rdprbs_pqtr_left_margin_nibble01\": 0,\n",
      "    \"f1_wrdqdbi_stg2_dq_odly_bit12\": 0,\n",
      "    \"f0_rd_simp_fall_ctp_nib_09\": [\n",
      "        99,\n",
      "        201\n",
      "    ],\n",
      "    \"f1_rdcmplx_nqtr_right_short_fcrse_nibble15\": 0,\n",
      "    \"f0_wrcmplx_left_margin_fcrse_byte5\": 70,\n",
      "    \"iobmap_dqs_15\": 0,\n",
      "    \"f0_rddq_pqtr_right_fcrse_nibble02\": 173,\n",
      "    \"f1_wrdqdbi_stg2_dq_odly_bit59\": 0,\n",
      "    \"tag_ver_2\": 0,\n",
      "    \"f1_wrlvl_fine_final_rank0_byte4\": 0,\n",
      "    \"rdmargin_pqtr_right_nibble04\": 0,\n",
      "    \"f1_rdcmplx_pqtr_right_short_nibble14\": 0,\n",
      "    \"dqstrack_rldlyrnk_crse_byte0\": 4,\n",
      "    \"f0_wrprbs_right_margin_byte4\": 0,\n",
      "    \"f0_rd_simp_rise_lm_nib_07\": [\n",
      "        74,\n",
      "        150\n",
      "    ],\n",
      "    \"rdvref_right_vref_def_nibble01\": 0,\n",
      "    \"f0_wrdqdbi_deskew_dq_odly_bit30\": 153,\n",
      "    \"f0_rdcmplx_nqtr_right_nibble02\": 150,\n",
      "    \"f0_wrcmplx_odly_dq_final_bit27\": 92,\n",
      "    \"f1_wrdqdbi_stg2_dq_odly_bit56\": 0,\n",
      "    \"f1_rdprbs_nqtr_right_margin_nibble00\": 0,\n",
      "    \"phy_rden20_dly\": 25,\n",
      "    \"f1_wrdqdbi_stg5_dqs_odly_byte4\": 0,\n",
      "    \"cal_seq_status_21\": 292,\n",
      "    \"bisc_nqtr_align_nibble12\": 3,\n",
      "    \"f1_rddq_nqtr_right_fcrse_nibble10\": 0,\n",
      "    \"f0_rddq_pqtr_left_nibble14\": 18,\n",
      "    \"f0_wrdqdbi_deskew_dq_odly_bit10\": 117,\n",
      "    \"f0_mr5_rtt_park\": 0,\n",
      "    \"f1_rdcmplx_nqtr_left_nibble07\": 0,\n",
      "    \"f1_wrdqdbi_odly_dq_final_bit16\": 0,\n",
      "    \"f0_rddq_idelay_final_bit47\": 74,\n",
      "    \"f0_wrlat_wldlyrnk_crse_final_rank0_byte3\": 0,\n",
      "    \"f1_wrdqdbi_deskew_dbi_odly_byte1\": 0,\n",
      "    \"vttrack_rldlyqtr_nibble10\": 79,\n",
      "    \"f0_wrdqdbi_left_margin_byte3\": 75,\n",
      "    \"f1_wrdqdbi_right_margin_byte5\": 0,\n",
      "    \"f1_wrdqdbi_odly_dqs_final_byte0\": 0,\n",
      "    \"f0_rdcmplx_pqtr_left_nibble00\": 24,\n",
      "    \"f1_rddq_qtr_deskew_nibble06\": 0,\n",
      "    \"f1_wrdqdbi_left_edge_dq_bit01\": 0,\n",
      "    \"f0_wr_simp_lm_byte_04\": [\n",
      "        75,\n",
      "        152\n",
      "    ],\n",
      "    \"f1_rddq_nqtr_right_nibble02\": 0,\n",
      "    \"dc0_perf_mon_8\": 0,\n",
      "    \"f1_wrdqdbi_deskew_dq_odly_fcrse_bit44\": 0,\n",
      "    \"bisc_idly4_align_nibble06\": 72,\n",
      "    \"bisc_rl_dly_qtr_nibble07\": 77,\n",
      "    \"f0_rddq_pqtr_right_fcrse_nibble08\": 173,\n",
      "    \"f1_calbisc_rl_dly_nqtr_nibble12\": 0,\n",
      "    \"f0_wrdqdbi_deskew_dq_odly_fcrse_bit57\": 143,\n",
      "    \"f0_wrdqdbi_odly_dq_final_bit43\": 39,\n",
      "    \"f0_rdcmplx_pqtr_left_short_nibble12\": 21,\n",
      "    \"f0_rdprbs_pqtr_right_margin_nibble13\": 0,\n",
      "    \"cal_seq_status_00\": 384,\n",
      "    \"rdvref_right_vref_upp_bound_nibble03\": 0,\n",
      "    \"0x01_F0_MEM_INIT\": \"Pass\",\n",
      "    \"f1_rddq_nqtr_right_nibble11\": 0,\n",
      "    \"f1_wrcmplx_odly_dq_final_bit42\": 0,\n",
      "    \"f1_dqsgate_stg1_overflow_19\": 0,\n",
      "    \"f0_wrlat_phy_oe_nib_final_byte7\": 0,\n",
      "    \"rdmargin_nqtr_left_nibble12\": 0,\n",
      "    \"f0_wrdqdbi_stg3_dq_odly_bit49\": 40,\n",
      "    \"f0_rd_comp_fall_rm_nib_00\": [\n",
      "        62,\n",
      "        126\n",
      "    ],\n",
      "    \"bisc_nqtr_nibble15\": 81,\n",
      "    \"rdvref_right_vref_low_bound_nibble06\": 0,\n",
      "    \"f1_rddq_qtr_deskew_nibble12\": 0,\n",
      "    \"f0_rd_simp_fall_lm_nib_07\": [\n",
      "        71,\n",
      "        142\n",
      "    ],\n",
      "    \"f0_rddq_nqtr_right_nibble03\": 176,\n",
      "    \"f1_rddq_pqtr_right_fcrse_nibble05\": 0,\n",
      "    \"f0_wrdqdbi_deskew_dq_odly_bit12\": 131,\n",
      "    \"f1_rddq_pqtr_right_fcrse_nibble06\": 0,\n",
      "    \"f0_rddq_nqtr_right_nibble07\": 166,\n",
      "    \"f1_wrdqdbi_right_edge_dqs_byte7\": 0,\n",
      "    \"f0_wrdqdbi_left_edge_dq_bit08\": 37,\n",
      "    \"f1_dqsgate_stg1_rldlyrnk_fine_rank0_byte0\": 0,\n",
      "    \"f1_wrdqdbi_deskew_dq_odly_fcrse_bit43\": 0,\n",
      "    \"f0_wrcmplx_odly_dq_final_bit45\": 46,\n",
      "    \"f1_wrdqdbi_odly_dq_final_bit10\": 0,\n",
      "    \"f0_wrcmplx_odly_dq_final_bit41\": 46,\n",
      "    \"cal_stage_time_35\": 0,\n",
      "    \"f0_rdprbs_nqtr_left_margin_nibble05\": 0,\n",
      "    \"dqstrack_rldlyrnk_fine_byte0\": 6,\n",
      "    \"f1_wrdqdbi_odly_dq_final_bit47\": 0,\n",
      "    \"rdvref_right_vref_low_bound_nibble01\": 0,\n",
      "    \"f1_wrlat_match_rank0_byte6\": 0,\n",
      "    \"f0_wrdqdbi_odly_dq_final_bit45\": 43,\n",
      "    \"f0_wrcmplx_odly_dq_final_bit33\": 101,\n",
      "    \"f1_rddq_qtr_deskew_nibble05\": 0,\n",
      "    \"f1_rdcmplx_pqtr_right_nibble07\": 0,\n",
      "    \"xpi_oe_all_nib_dly_offset\": 8,\n",
      "    \"f0_wrdqdbi_deskew_dq_odly_bit15\": 125,\n",
      "    \"f0_rdcmplx_nqtr_left_short_nibble10\": 30,\n",
      "    \"f1_wrdqdbi_left_edge_dq_bit35\": 0,\n",
      "    \"f1_wrdqdbi_stg3_dq_odly_bit10\": 0,\n",
      "    \"ddrmc_isr_nsu_fatal2\": 0,\n",
      "    \"f0_rdcmplx_pqtr_left_nibble06\": 20,\n",
      "    \"f1_wrdqdbi_right_edge_dqs_byte3\": 0,\n",
      "    \"f0_wrcmplx_odly_dq_final_bit25\": 76,\n",
      "    \"rdmargin_nqtr_left_nibble00\": 0,\n",
      "    \"f0_rdcmplx_idelay_offset_nibble11\": 0,\n",
      "    \"f1_rddq_idelay_final_bit36\": 0,\n",
      "    \"f0_wrdqdbi_odly_dqs_final_byte2\": 98,\n",
      "    \"f0_wrdqdbi_stg2_dq_odly_bit09\": 37,\n",
      "    \"rdmargin_pqtr_right_nibble11\": 0,\n",
      "    \"f1_rddq_nqtr_right_fcrse_nibble12\": 0,\n",
      "    \"rdvref_vref_upp_bound_nibble14\": 0,\n",
      "    \"bisc_idly3_align_nibble02\": 70,\n",
      "    \"f0_wrcmplx_odly_dq_final_bit60\": 85,\n",
      "    \"f1_wrdqdbi_odly_dq_final_bit12\": 0,\n",
      "    \"f0_wrdqdbi_right_margin_byte1\": 57,\n",
      "    \"f0_wrdqdbi_deskew_dbi_odly_fcrse_byte1\": 127,\n",
      "    \"f0_wrcmplx_odly_dq_final_bit00\": 84,\n",
      "    \"f0_wrdqdbi_left_edge_dq_bit44\": 50,\n",
      "    \"f1_wrdqdbi_deskew_dq_odly_fcrse_bit04\": 0,\n",
      "    \"f0_rddq_nqtr_right_nibble06\": 170,\n",
      "    \"f0_rd_simp_rise_ctp_nib_01\": [\n",
      "        92,\n",
      "        187\n",
      "    ],\n",
      "    \"f0_dqsgate_stg1_read_lat_rank0_byte2\": 24,\n",
      "    \"f0_rdprbs_nqtr_right_margin_nibble01\": 0,\n",
      "    \"f1_wrlvl_crse_stg1_rank0_byte6\": 0,\n",
      "    \"f0_rdcmplx_pqtr_left_nibble04\": 25,\n",
      "    \"f1_wrdqdbi_deskew_dq_odly_bit58\": 0,\n",
      "    \"f1_wrdqdbi_deskew_dq_odly_fcrse_bit45\": 0,\n",
      "    \"f1_wrlat_wldlyrnk_crse_final_rank0_byte7\": 0,\n",
      "    \"f1_wrcmplx_odly_dq_final_bit04\": 0,\n",
      "    \"wrvref_left_vref_def_rank0_byte1\": 0,\n",
      "    \"f1_rddq_pqtr_right_nibble02\": 0,\n",
      "    \"bisc_pqtr_align_nibble07\": 0,\n",
      "    \"f0_wrdqdbi_left_edge_dq_bit58\": 58,\n",
      "    \"f0_calbisc_rl_dly_nqtr_nibble12\": 79,\n",
      "    \"f1_xpll_clkoutfb_lt\": 16,\n",
      "    \"f0_wrdqdbi_left_margin_byte6\": 81,\n",
      "    \"cal_error_bit_phy_nibble_02\": 0,\n",
      "    \"iobmap_dq_53_52\": 0,\n",
      "    \"vttrack_rldlyqtr_nibble12\": 79,\n",
      "    \"ip_config_ver\": 1,\n",
      "    \"wrvref_right_vref_def_rank0_byte0\": 0,\n",
      "    \"f0_dqsgate_stg1_read_lat_rank0_byte6\": 24,\n",
      "    \"f0_wrdqdbi_odly_dq_final_bit01\": 73,\n",
      "    \"iobmap_dq_71_70\": 0,\n",
      "    \"bisc_rl_dly_qtr_nibble14\": 78,\n",
      "    \"f0_rd_comp_rise_rm_nib_08\": [\n",
      "        61,\n",
      "        122\n",
      "    ],\n",
      "    \"f1_wrdqdbi_stg3_dq_odly_bit39\": 0,\n",
      "    \"f0_rddq_qtr_deskew_nibble15\": 1,\n",
      "    \"f0_rddq_nqtr_final_nibble07\": 95,\n",
      "    \"f1_wrcmplx_odly_dq_final_bit59\": 0,\n",
      "    \"f0_wrdqdbi_stg3_dq_odly_bit10\": 37,\n",
      "    \"rdmargin_pqtr_right_nibble12\": 0,\n",
      "    \"wrvref_vref_upp_bound_rank0_byte5\": 0,\n",
      "    \"f0_rdcmplx_pqtr_right_short_nibble02\": 167,\n",
      "    \"cal_stage_time_57\": 0,\n",
      "    \"f1_dqsgate_stg1_rldlyrnk_fine_rank0_byte6\": 0,\n",
      "    \"f1_dqsgate_stg2_read_lat_rank0_byte2\": 0,\n",
      "    \"f0_wrdqdbi_stg1_dqs_delay_byte4\": 113,\n",
      "    \"f0_rdcmplx_nqtr_final_nibble06\": 85,\n",
      "    \"f1_dqsgate_stg1_overflow_57\": 0,\n",
      "    \"f0_rd_comp_rise_lm_nib_04\": [\n",
      "        64,\n",
      "        127\n",
      "    ],\n",
      "    \"rdmargin_pqtr_left_nibble14\": 0,\n",
      "    \"f1_wrcmplx_left_margin_byte5\": 0,\n",
      "    \"f0_par_alert_en\": 1,\n",
      "    \"f1_rdcmplx_nqtr_final_nibble03\": 0,\n",
      "    \"f0_rd_comp_rise_ctp_nib_10\": [\n",
      "        91,\n",
      "        180\n",
      "    ],\n",
      "    \"f1_rdcmplx_pqtr_final_nibble04\": 0,\n",
      "    \"f1_rddq_qtr_deskew_nibble13\": 0,\n",
      "    \"f1_wrcmplx_odly_dq_final_bit45\": 0,\n",
      "    \"f1_wrdqdbi_odly_dq_final_bit56\": 0,\n",
      "    \"f1_wrdqdbi_odly_dq_final_bit54\": 0,\n",
      "    \"f0_rd_comp_rise_lm_nib_08\": [\n",
      "        60,\n",
      "        120\n",
      "    ],\n",
      "    \"f0_wrdqdbi_deskew_dq_odly_fcrse_bit16\": 182,\n",
      "    \"f1_rddq_nqtr_final_nibble00\": 0,\n",
      "    \"wrvref_left_vref_upp_bound_rank0_byte7\": 0,\n",
      "    \"rdmargin_nqtr_right_nibble12\": 0,\n",
      "    \"f0_rd_comp_rise_rm_nib_12\": [\n",
      "        65,\n",
      "        129\n",
      "    ],\n",
      "    \"phy_oe_nib24_dly\": 0,\n",
      "    \"f0_wrdqdbi_odly_dq_final_bit23\": 100,\n",
      "    \"f1_rdcmplx_nqtr_left_short_nibble04\": 0,\n",
      "    \"f0_rd_comp_rise_rm_nib_01\": [\n",
      "        66,\n",
      "        134\n",
      "    ],\n",
      "    \"f1_wrdqdbi_stg2_dq_odly_bit62\": 0,\n",
      "    \"f0_wr_simp_lm_byte_05\": [\n",
      "        81,\n",
      "        162\n",
      "    ],\n",
      "    \"bisc_mon_align_nibble13\": 0,\n",
      "    \"bisc_idly3_align_nibble10\": 73,\n",
      "    \"bisc_idly2_align_nibble06\": 68,\n",
      "    \"iobmap_dq_49_48\": 0,\n",
      "    \"f1_db_f0bc6x\": 0,\n",
      "    \"f0_rddq_pqtr_left_nibble11\": 18,\n",
      "    \"f1_wrdqdbi_left_edge_dq_bit15\": 0,\n",
      "    \"f1_rdcmplx_nqtr_right_short_fcrse_nibble03\": 0,\n",
      "    \"phy_oe_nib7_dly\": 1,\n",
      "    \"f1_wrlvl_crse_final_rank0_byte3\": 0,\n",
      "    \"ub_isntr_ue\": 0,\n",
      "    \"cal_stage_time_25\": 0,\n",
      "    \"wrvref_right_vref_final_rank0_byte4\": 0,\n",
      "    \"f0_wrdqdbi_deskew_dq_odly_fcrse_bit03\": 137,\n",
      "    \"f0_wrcmplx_odly_dq_final_bit11\": 42,\n",
      "    \"f1_rddq_qtr_deskew_nibble09\": 0,\n",
      "    \"f1_rdprbs_nqtr_left_margin_nibble02\": 0,\n",
      "    \"f0_wrdqdbi_stg2_dq_odly_bit07\": 57,\n",
      "    \"cal_stage.03_F0_DQS_GATE_CAL\": \"Pass\",\n",
      "    \"f1_wrdqdbi_left_margin_byte1\": 0,\n",
      "    \"f0_dqsgate_stg2_rldlyrnk_crse_rank0_byte4\": 1,\n",
      "    \"f0_rddq_qtr_deskew_nibble11\": 1,\n",
      "    \"f1_rdcmplx_nqtr_right_nibble15\": 0,\n",
      "    \"f1_rdprbs_pqtr_left_margin_nibble07\": 0,\n",
      "    \"f0_rdcmplx_nqtr_left_nibble03\": 30,\n",
      "    \"f0_mr0_17_9\": 6,\n",
      "    \"phy_rden13_dly\": 22,\n",
      "    \"f0_rddq_nqtr_right_nibble09\": 173,\n",
      "    \"warning_code_ver\": 1,\n",
      "    \"bisc_idly3_align_nibble13\": 76,\n",
      "    \"f0_wr_comp_lm_byte_07\": [\n",
      "        76,\n",
      "        151\n",
      "    ],\n",
      "    \"f0_rd_comp_fall_rm_nib_15\": [\n",
      "        62,\n",
      "        123\n",
      "    ],\n",
      "    \"rdvref_left_vref_final_nibble13\": 0,\n",
      "    \"f1_wrdqdbi_stg3_dq_odly_bit25\": 0,\n",
      "    \"f1_wrlat_wldlyrnk_crse_final_rank0_byte2\": 0,\n",
      "    \"f0_wrlvl_fine_left_rank0_byte5\": 35,\n",
      "    \"wrmargin_left_byte6\": 0,\n",
      "    \"rdvref_right_vref_upp_bound_nibble00\": 0,\n",
      "    \"f1_rddq_pqtr_final_nibble13\": 0,\n",
      "    \"f0_wrdqdbi_stg6_dbi_odly_byte6\": 40,\n",
      "    \"f1_rdprbs_pqtr_left_margin_nibble01\": 0,\n",
      "    \"f0_wrdqdbi_deskew_dq_odly_fcrse_bit00\": 147,\n",
      "    \"wrmargin_left_byte0\": 0,\n",
      "    \"f1_wrdqdbi_stg4_dqs_delay_byte5\": 0,\n",
      "    \"f0_wrdqdbi_left_edge_dq_bit21\": 92,\n",
      "    \"f0_dqsgate_stg1_rldlyrnk_crse_rank0_byte2\": 9,\n",
      "    \"wrvref_right_vref_upp_bound_rank0_byte0\": 0,\n",
      "    \"f0_rddq_pqtr_left_nibble03\": 18,\n",
      "    \"f0_wrdqdbi_stg2_dq_odly_bit04\": 57,\n",
      "    \"f0_rdcmplx_pqtr_right_nibble04\": 153,\n",
      "    \"f0_rd_simp_rise_lm_nib_12\": [\n",
      "        75,\n",
      "        148\n",
      "    ],\n",
      "    \"wrvref_left_vref_final_rank0_byte0\": 0,\n",
      "    \"bisc_idly4_align_nibble08\": 73,\n",
      "    \"rdmargin_nqtr_left_nibble10\": 0,\n",
      "    \"f0_wrcmplx_left_margin_byte0\": 72,\n",
      "    \"f0_wrcmplx_odly_dq_final_bit15\": 57,\n",
      "    \"f1_rddq_pqtr_final_nibble12\": 0,\n",
      "    \"f1_wrdqdbi_stg3_dq_odly_bit41\": 0,\n",
      "    \"f0_wrdqdbi_stg2_dq_odly_bit46\": 36,\n",
      "    \"cal_stage_time_61\": 0,\n",
      "    \"f0_rd_simp_fall_ctp_nib_04\": [\n",
      "        103,\n",
      "        206\n",
      "    ],\n",
      "    \"f0_wr_simp_lm_byte_02\": [\n",
      "        84,\n",
      "        168\n",
      "    ],\n",
      "    \"rdvref_right_vref_low_bound_nibble11\": 0,\n",
      "    \"f0_wrcmplx_right_margin_byte7\": 55,\n",
      "    \"iobmap_dq_5_4\": 0,\n",
      "    \"f1_wrcmplx_odly_dq_final_bit19\": 0,\n",
      "    \"f1_wrdqdbi_deskew_dq_odly_fcrse_bit35\": 0,\n",
      "    \"f0_rd_comp_fall_lm_nib_10\": [\n",
      "        59,\n",
      "        115\n",
      "    ],\n",
      "    \"f1_wrlat_wldlyrnk_crse_final_rank0_byte0\": 0,\n",
      "    \"phy_oe_nib1_dly\": 1,\n",
      "    \"f1_wrdqdbi_deskew_dq_odly_fcrse_bit03\": 0,\n",
      "    \"f0_wrdqdbi_stg2_dq_odly_bit20\": 82,\n",
      "    \"pinout_select\": 17,\n",
      "    \"f0_wrdqdbi_stg6_dbi_odly_byte1\": 37,\n",
      "    \"f0_wrdqdbi_left_edge_dq_bit56\": 72,\n",
      "    \"f0_rdprbs_pqtr_left_margin_nibble03\": 0,\n",
      "    \"cal_warning_12\": 0,\n",
      "    \"f0_rddq_nqtr_final_nibble09\": 99,\n",
      "    \"phy_rank_write_override_dyn\": 81920,\n",
      "    \"f0_rd_simp_fall_rm_nib_09\": [\n",
      "        74,\n",
      "        150\n",
      "    ],\n",
      "    \"f0_rd_simp_fall_ctp_nib_10\": [\n",
      "        103,\n",
      "        201\n",
      "    ],\n",
      "    \"bisc_nqtr_nibble08\": 79,\n",
      "    \"cal_warning_69\": 0,\n",
      "    \"f1_rddq_nqtr_left_nibble08\": 0,\n",
      "    \"f1_wrdqdbi_stg2_dq_odly_bit02\": 0,\n",
      "    \"f1_rdcmplx_nqtr_left_short_nibble13\": 0,\n",
      "    \"rdvref_right_vref_upp_bound_nibble04\": 0,\n",
      "    \"f0_rddq_pqtr_left_nibble05\": 18,\n",
      "    \"f0_rd_simp_rise_rm_nib_14\": [\n",
      "        75,\n",
      "        148\n",
      "    ],\n",
      "    \"wrmargin_right_byte4\": 0,\n",
      "    \"nibbles\": 16,\n",
      "    \"f0_rddq_nqtr_right_fcrse_nibble12\": 181,\n",
      "    \"f0_wrdqdbi_odly_dq_final_bit32\": 108,\n",
      "    \"f1_wrdqdbi_deskew_dq_odly_bit15\": 0,\n",
      "    \"f0_wrcmplx_left_margin_fcrse_byte4\": 70,\n",
      "    \"f0_rd_simp_fall_lm_nib_10\": [\n",
      "        73,\n",
      "        143\n",
      "    ],\n",
      "    \"f0_calbisc_rl_dly_nqtr_nibble08\": 79,\n",
      "    \"f1_wrcmplx_right_margin_byte5\": 0,\n",
      "    \"rdvref_vref_upp_bound_nibble12\": 0,\n",
      "    \"mgchk_rank\": 0,\n",
      "    \"f0_rddq_pqtr_left_nibble00\": 18,\n",
      "    \"f0_wrdqdbi_stg3_dq_odly_bit25\": 64,\n",
      "    \"f0_rd_simp_rise_lm_nib_14\": [\n",
      "        74,\n",
      "        146\n",
      "    ],\n",
      "    \"vttrack_rldlyqtr_max_nibble15\": 82,\n",
      "    \"f0_wrcmplx_odly_dqs_final_byte6\": 56,\n",
      "    \"f0_rd_comp_rise_rm_nib_09\": [\n",
      "        63,\n",
      "        130\n",
      "    ],\n",
      "    \"bisc_idly5_align_nibble08\": 72,\n",
      "    \"vttrack_rldlyqtr_min_nibble07\": 74,\n",
      "    \"f0_rdprbs_nqtr_left_margin_nibble15\": 0,\n",
      "    \"f0_wrlvl_offset_rank0_byte2\": 79,\n",
      "    \"f1_rdcmplx_nqtr_right_short_fcrse_nibble06\": 0,\n",
      "    \"f0_calbisc_rl_dly_pqtr_nibble01\": 77,\n",
      "    \"dqstrack_rldlyrnk_crse_min_byte7\": 5,\n",
      "    \"cal_warning_14\": 0,\n",
      "    \"f0_wrdqdbi_stg2_dq_odly_bit62\": 63,\n",
      "    \"f0_rddq_pqtr_right_fcrse_nibble13\": 173,\n",
      "    \"iobmap_dqs_1\": 0,\n",
      "    \"f0_wrdqdbi_left_edge_dq_bit20\": 93,\n",
      "    \"f0_rdcmplx_nqtr_right_short_fcrse_nibble00\": 171,\n",
      "    \"f1_rddq_nqtr_final_nibble11\": 0,\n",
      "    \"bisc_idly3_align_nibble14\": 68,\n",
      "    \"dqstrack_rldlyrnk_fine_min_byte2\": 49,\n",
      "    \"wrvref_left_vref_def_rank0_byte6\": 0,\n",
      "    \"f0_wrdqdbi_stg2_dqs_odly_byte0\": 73,\n",
      "    \"f1_wrdqdbi_stg1_bit_status_byte2\": 0,\n",
      "    \"f1_wrdqdbi_deskew_dq_odly_bit34\": 0,\n",
      "    \"cal_seq_status_44\": 0,\n",
      "    \"f1_wrdqdbi_deskew_dq_odly_fcrse_bit25\": 0,\n",
      "    \"f0_rd_comp_fall_rm_nib_10\": [\n",
      "        59,\n",
      "        115\n",
      "    ],\n",
      "    \"f1_rddq_nqtr_left_nibble12\": 0,\n",
      "    \"f1_wrlvl_noise_fcrse_rank0_byte7\": 0,\n",
      "    \"f0_dqsgate_stg1_overflow_31\": 0,\n",
      "    \"f1_rddq_qtr_deskew_nibble08\": 0,\n",
      "    \"rdvref_left_vref_final_nibble04\": 0,\n",
      "    \"f1_dqsgate_stg1_overflow_04\": 0,\n",
      "    \"f1_rddq_pqtr_final_nibble10\": 0,\n",
      "    \"f0_wrlat_phy_data_nib_final_byte3\": 1,\n",
      "    \"f0_wr_comp_lm_byte_02\": [\n",
      "        72,\n",
      "        144\n",
      "    ],\n",
      "    \"f0_wrdqdbi_stg3_dq_odly_bit35\": 97,\n",
      "    \"f0_rd_comp_rise_rm_nib_03\": [\n",
      "        62,\n",
      "        124\n",
      "    ],\n",
      "    \"f0_rdcmplx_pqtr_right_nibble14\": 157,\n",
      "    \"cal_seq_status_11\": 397,\n",
      "    \"bisc_pqtr_align_nibble06\": 0,\n",
      "    \"tag_ver_1\": 0,\n",
      "    \"f0_db_bc0a\": 0,\n",
      "    \"f1_wrlat_phy_oe_nib_final_byte7\": 0,\n",
      "    \"f1_rddq_nqtr_right_nibble00\": 0,\n",
      "    \"sys_clk_8_0\": 392,\n",
      "    \"f1_xpll_clkoutfb_ht\": 16,\n",
      "    \"f0_wrdqdbi_odly_dq_final_bit39\": 102,\n",
      "    \"f1_dqsgate_stg1_overflow_15\": 0,\n",
      "    \"f0_wrdqdbi_odly_dq_final_bit51\": 48,\n",
      "    \"rdmargin_pqtr_left_nibble10\": 0,\n",
      "    \"f1_wrdqdbi_deskew_dq_odly_fcrse_bit31\": 0,\n",
      "    \"f1_wrdqdbi_odly_dbi_final_byte1\": 0,\n",
      "    \"f1_rdcmplx_nqtr_right_nibble11\": 0,\n",
      "    \"rdmargin_nqtr_left_nibble03\": 0,\n",
      "    \"f0_wrdqdbi_deskew_dq_odly_bit40\": 131,\n",
      "    \"f1_dqsgate_stg1_overflow_01\": 0,\n",
      "    \"rdvref_right_vref_def_nibble03\": 0,\n",
      "    \"cal_warning_51\": 0,\n",
      "    \"iobmap_dqs_13\": 0,\n",
      "    \"bisc_nqtr_align_nibble00\": 0,\n",
      "    \"f0_wrdqdbi_stg3_dq_odly_bit27\": 64,\n",
      "    \"f1_rddq_nqtr_final_nibble09\": 0,\n",
      "    \"cal_stage.11_READ_DQS_TRACK\": \"Pass\",\n",
      "    \"f0_rddq_pqtr_left_nibble12\": 18,\n",
      "    \"phy_oe_nib17_dly\": 0,\n",
      "    \"f0_rdcmplx_nqtr_right_short_nibble07\": 160,\n",
      "    \"f1_dqsgate_stg1_overflow_31\": 0,\n",
      "    \"f0_wrdqdbi_stg2_dq_odly_bit39\": 97,\n",
      "    \"rdvref_vref_low_bound_nibble11\": 0,\n",
      "    \"f1_rddq_nqtr_left_nibble04\": 0,\n",
      "    \"wrvref_right_vref_final_rank0_byte2\": 0,\n",
      "    \"f1_rdcmplx_nqtr_right_nibble12\": 0,\n",
      "    \"f0_wrdqdbi_deskew_dq_odly_bit27\": 160,\n",
      "    \"dc1_perf_mon_2\": 0,\n",
      "    \"f1_dqsgate_stg1_rldlyrnk_fine_rank0_byte4\": 0,\n",
      "    \"f0_rdprbs_nqtr_left_margin_nibble14\": 0,\n",
      "    \"f1_wrlvl_noise_fcrse_rank0_byte3\": 0,\n",
      "    \"f0_rdcmplx_pqtr_right_short_fcrse_nibble11\": 170,\n",
      "    \"f1_wrdqdbi_right_edge_dqs_byte6\": 0,\n",
      "    \"f1_dqsgate_stg2_rldlyrnk_crse_rank0_byte1\": 0,\n",
      "    \"es_vref_steps\": 14,\n",
      "    \"f1_calbisc_rl_dly_pqtr_nibble02\": 0,\n",
      "    \"cal_warning_45\": 0,\n",
      "    \"f0_rdcmplx_pqtr_final_nibble08\": 87,\n",
      "    \"f1_wrlvl_noise_fcrse_rank0_byte1\": 0,\n",
      "    \"wrvref_left_vref_low_bound_rank0_byte6\": 0,\n",
      "    \"f0_wrdqdbi_stg3_dq_odly_bit58\": 63,\n",
      "    \"dc0_perf_mon\": 62,\n",
      "    \"f1_wrdqdbi_stg1_byte_status_01\": 0,\n",
      "    \"f0_rd_comp_fall_rm_nib_14\": [\n",
      "        62,\n",
      "        126\n",
      "    ],\n",
      "    \"f0_wrdqdbi_deskew_dq_odly_fcrse_bit04\": 137,\n",
      "    \"cal_warning_63\": 0,\n",
      "    \"f0_rdcmplx_nqtr_left_short_nibble11\": 29,\n",
      "    \"f0_rdcmplx_nqtr_final_nibble04\": 90,\n",
      "    \"f0_rd_simp_fall_lm_nib_14\": [\n",
      "        73,\n",
      "        148\n",
      "    ],\n",
      "    \"f0_wrdqdbi_stg2_dq_odly_bit33\": 97,\n",
      "    \"f0_rd_simp_fall_ctp_nib_06\": [\n",
      "        97,\n",
      "        194\n",
      "    ],\n",
      "    \"f0_wrdqdbi_deskew_dbi_odly_fcrse_byte2\": 162,\n",
      "    \"f1_rdcmplx_pqtr_left_short_nibble08\": 0,\n",
      "    \"f0_rdcmplx_nqtr_left_nibble13\": 34,\n",
      "    \"f1_dqsgate_read_lat_final_byte1\": 0,\n",
      "    \"f0_wrdqdbi_deskew_dq_odly_fcrse_bit23\": 172,\n",
      "    \"f1_wrdqdbi_stg2_dqs_odly_byte5\": 0,\n",
      "    \"f1_rdcmplx_pqtr_right_short_fcrse_nibble07\": 0,\n",
      "    \"f1_rddq_pqtr_final_nibble06\": 0,\n",
      "    \"f1_rddq_pqtr_right_nibble01\": 0,\n",
      "    \"cal_error_bit_phy_nibble_25\": 0,\n",
      "    \"cal_warning_18\": 0,\n",
      "    \"f1_wrdqdbi_stg6_dbi_odly_byte3\": 0,\n",
      "    \"f0_rdcmplx_nqtr_right_short_nibble03\": 171,\n",
      "    \"bisc_nqtr_nibble03\": 78,\n",
      "    \"f0_rdcmplx_pqtr_right_nibble11\": 159,\n",
      "    \"f0_rd_simp_fall_ctp_nib_08\": [\n",
      "        102,\n",
      "        202\n",
      "    ],\n",
      "    \"f0_rdprbs_pqtr_left_margin_nibble15\": 0,\n",
      "    \"f0_wrdqdbi_stg3_dq_odly_bit29\": 64,\n",
      "    \"f0_wrdqdbi_left_edge_dq_bit17\": 86,\n",
      "    \"vttrack_rldlyqtr_max_nibble09\": 83,\n",
      "    \"f1_wrlat_match_rank0_byte1\": 0,\n",
      "    \"f0_calbisc_rl_dly_qtr_nibble11\": 77,\n",
      "    \"bisc_nqtr_nibble13\": 79,\n",
      "    \"f1_wrdqdbi_deskew_dq_odly_bit45\": 0,\n",
      "    \"f0_wrlat_wldlyrnk_crse_final_rank0_byte2\": 3,\n",
      "    \"f1_rdcmplx_nqtr_right_nibble10\": 0,\n",
      "    \"f0_rdcmplx_pqtr_right_nibble05\": 155,\n",
      "    \"f1_rddq_pqtr_left_nibble09\": 0,\n",
      "    \"f1_add_cmd_dly\": 0,\n",
      "    \"f1_calbisc_rl_dly_qtr_nibble03\": 0,\n",
      "    \"eye_scan_status\": \"NOT RUNNING\",\n",
      "    \"dqs_gate_running\": 1,\n",
      "    \"bisc_idly0_align_nibble14\": 67,\n",
      "    \"f0_rddq_pqtr_right_fcrse_nibble09\": 173,\n",
      "    \"f0_wrdqdbi_stg2_dq_odly_bit22\": 82,\n",
      "    \"bisc_idly3_align_nibble15\": 76,\n",
      "    \"f0_rdprbs_nqtr_right_margin_nibble13\": 0,\n",
      "    \"f1_dqsgate_stg1_overflow_08\": 0,\n",
      "    \"f1_wrdqdbi_deskew_dq_odly_fcrse_bit24\": 0,\n",
      "    \"dqstrack_rldlyrnk_fine_max_byte3\": 23,\n",
      "    \"f1_wrdqdbi_left_edge_dq_bit16\": 0,\n",
      "    \"f0_wrdqdbi_left_margin_byte7\": 85,\n",
      "    \"f1_wrdqdbi_deskew_dq_odly_bit59\": 0,\n",
      "    \"f1_wrcmplx_right_margin_fcrse_byte7\": 0,\n",
      "    \"f0_mr6_17_9\": 8,\n",
      "    \"f0_wr_comp_rm_byte_00\": [\n",
      "        68,\n",
      "        138\n",
      "    ],\n",
      "    \"bisc_mon_align_nibble09\": 0,\n",
      "    \"bisc_idly5_align_nibble01\": 81,\n",
      "    \"bisc_pqtr_nibble12\": 79,\n",
      "    \"rdmargin_pqtr_left_nibble01\": 0,\n",
      "    \"f0_rddq_qtr_deskew_nibble09\": 1,\n",
      "    \"f0_rddq_pqtr_final_nibble01\": 92,\n",
      "    \"f1_rdcmplx_idelay_offset_nibble15\": 0,\n",
      "    \"f0_rdcmplx_nqtr_final_nibble09\": 89,\n",
      "    \"cal_warning_72\": 0,\n",
      "    \"f1_dqsgate_stg1_overflow_07\": 0,\n",
      "    \"f1_wrlvl_crse_stg1_rank0_byte3\": 0,\n",
      "    \"f0_wrdqdbi_right_margin_fcrse_byte6\": 60,\n",
      "    \"f1_rdcmplx_pqtr_right_short_nibble02\": 0,\n",
      "    \"vttrack_rldlyqtr_min_nibble06\": 74,\n",
      "    \"f0_wrdqdbi_deskew_dbi_odly_byte7\": 148,\n",
      "    \"f0_rdcmplx_pqtr_left_short_nibble00\": 22,\n",
      "    \"bisc_rl_dly_qtr_nibble15\": 79,\n",
      "    \"f0_rdcmplx_pqtr_right_short_fcrse_nibble01\": 176,\n",
      "    \"f1_dqsgate_stg2_read_lat_rank0_byte6\": 0,\n",
      "    \"f0_wrdqdbi_stg3_dq_odly_bit07\": 57,\n",
      "    \"f1_wrdqdbi_stg2_dq_odly_bit48\": 0,\n",
      "    \"f1_calbisc_rl_dly_qtr_nibble02\": 0,\n",
      "    \"f0_wrdqdbi_odly_dq_final_bit40\": 59,\n",
      "    \"f1_wrlvl_fine_left_rank0_byte5\": 0,\n",
      "    \"f1_wrdqdbi_left_edge_dq_bit39\": 0,\n",
      "    \"ub_clk_8_0\": 2,\n",
      "    \"iobmap_dq_39_38\": 0,\n",
      "    \"slots\": 1,\n",
      "    \"f0_tck_lsb\": 113,\n",
      "    \"f1_wrdqdbi_left_margin_byte7\": 0,\n",
      "    \"f1_wrcmplx_odly_dbi_final_byte6\": 0,\n",
      "    \"f0_wrdqdbi_odly_dq_final_bit03\": 69,\n",
      "    \"wrvref_left_vref_final_rank0_byte3\": 0,\n",
      "    \"f1_rddq_pqtr_left_nibble15\": 0,\n",
      "    \"f1_rddq_pqtr_final_nibble11\": 0,\n",
      "    \"f0_wrdqdbi_right_margin_fcrse_byte3\": 60,\n",
      "    \"cal_stage_time_21\": 0,\n",
      "    \"f1_rdcmplx_nqtr_right_short_nibble01\": 0,\n",
      "    \"rdvref_right_vref_low_bound_nibble07\": 0,\n",
      "    \"f1_dqsgate_rldlyrnk_crse_final_rank0_byte5\": 0,\n",
      "    \"ddrmc_isr_uc1_ecc0\": 0,\n",
      "    \"f1_wrdqdbi_stg3_dq_odly_bit01\": 0,\n",
      "    \"f1_wrdqdbi_deskew_dq_odly_bit43\": 0,\n",
      "    \"dqs_status\": \"Running\",\n",
      "    \"bisc_nqtr_nibble07\": 78,\n",
      "    \"f0_rddq_nqtr_right_fcrse_nibble03\": 184,\n",
      "    \"rdvref_right_vref_upp_bound_nibble08\": 0,\n",
      "    \"dc0_perf_mon_7\": 0,\n",
      "    \"f1_wrcmplx_right_margin_byte6\": 0,\n",
      "    \"f0_rd_simp_fall_lm_nib_09\": [\n",
      "        73,\n",
      "        148\n",
      "    ],\n",
      "    \"f0_rd_simp_fall_lm_nib_00\": [\n",
      "        73,\n",
      "        148\n",
      "    ],\n",
      "    \"bisc_rl_dly_qtr_nibble12\": 79,\n",
      "    \"wrvref_vref_final_rank0_byte3\": 0,\n",
      "    \"cal_warning_44\": 0,\n",
      "    \"f1_wrlvl_offset_rank0_byte3\": 0,\n",
      "    \"f1_wrcmplx_odly_dq_final_bit08\": 0,\n",
      "    \"cal_error_bit_phy_nibble_15\": 0,\n",
      "    \"bisc_idly4_align_nibble10\": 74,\n",
      "    \"f0_rdcmplx_pqtr_final_nibble07\": 88,\n",
      "    \"f0_wrcmplx_left_margin_fcrse_byte2\": 70,\n",
      "    \"bisc_idly0_align_nibble03\": 76,\n",
      "    \"f1_rdcmplx_nqtr_right_short_nibble12\": 0,\n",
      "    \"wrvref_vref_final_rank0_byte4\": 0,\n",
      "    \"f1_wrcmplx_odly_dqs_final_byte0\": 0,\n",
      "    \"f0_rd_comp_rise_ctp_nib_00\": [\n",
      "        91,\n",
      "        180\n",
      "    ],\n",
      "    \"phy_rden22_dly\": 25,\n",
      "    \"f0_rdcmplx_idelay_offset_nibble06\": 0,\n",
      "    \"wrvref_right_vref_def_rank0_byte2\": 0,\n",
      "    \"f0_wrdqdbi_stg2_dq_odly_bit15\": 37,\n",
      "    \"f0_rdcmplx_pqtr_left_short_nibble04\": 24,\n",
      "    \"f0_wrcmplx_odly_dq_final_bit58\": 76,\n",
      "    \"f0_wrcmplx_odly_dbi_final_byte4\": 105,\n",
      "    \"f1_rdcmplx_pqtr_left_short_nibble01\": 0,\n",
      "    \"f1_wrdqdbi_stg2_dq_odly_bit00\": 0,\n",
      "    \"f0_rd_comp_fall_rm_nib_07\": [\n",
      "        62,\n",
      "        124\n",
      "    ],\n",
      "    \"f1_wrdqdbi_deskew_dq_odly_fcrse_bit06\": 0,\n",
      "    \"f0_rdcmplx_pqtr_final_nibble02\": 86,\n",
      "    \"f1_wrdqdbi_deskew_dq_odly_fcrse_bit21\": 0,\n",
      "    \"f1_wrcmplx_odly_dbi_final_byte2\": 0,\n",
      "    \"f0_rddq_idelay_final_bit53\": 88,\n",
      "    \"f1_wrdqdbi_stg4_dqs_delay_byte7\": 0,\n",
      "    \"f0_wrdqdbi_stg2_dq_odly_bit27\": 64,\n",
      "    \"f1_wrdqdbi_deskew_dq_odly_bit24\": 0,\n",
      "    \"bisc_idly3_align_nibble05\": 80,\n",
      "    \"f1_wrdqdbi_stg3_dq_odly_bit51\": 0,\n",
      "    \"f0_rddq_idelay_final_bit54\": 77,\n",
      "    \"iobmap_dq_57_56\": 0,\n",
      "    \"f0_rdcmplx_nqtr_right_short_nibble05\": 167,\n",
      "    \"rdvref_left_vref_upp_bound_nibble10\": 0,\n",
      "    \"f1_wrdqdbi_deskew_dq_odly_fcrse_bit30\": 0,\n",
      "    \"f0_rdcmplx_idelay_offset_nibble15\": 0,\n",
      "    \"f1_rdcmplx_nqtr_left_short_nibble07\": 0,\n",
      "    \"f1_rdcmplx_nqtr_right_short_fcrse_nibble11\": 0,\n",
      "    \"f0_wrcmplx_odly_dq_final_bit17\": 102,\n",
      "    \"f0_wr_comp_rm_byte_06\": [\n",
      "        66,\n",
      "        132\n",
      "    ],\n",
      "    \"f0_wr_comp_lm_byte_05\": [\n",
      "        72,\n",
      "        144\n",
      "    ],\n",
      "    \"f0_wrdqdbi_deskew_dq_odly_fcrse_bit41\": 106,\n",
      "    \"f1_rddq_pqtr_right_fcrse_nibble14\": 0,\n",
      "    \"cal_stage.06_F0_WRITE_DQ_DBI_CAL\": \"Pass\",\n",
      "    \"rdvref_right_vref_low_bound_nibble05\": 0,\n",
      "    \"f1_wrdqdbi_odly_dq_final_bit33\": 0,\n",
      "    \"f1_rdcmplx_pqtr_right_short_nibble13\": 0,\n",
      "    \"ub_isr_watchdog\": 0,\n",
      "    \"f1_wrcmplx_right_margin_byte2\": 0,\n",
      "    \"f1_wrprbs_right_margin_byte3\": 0,\n",
      "    \"cal_seq_status_43\": 0,\n",
      "    \"f0_wrdqdbi_stg3_dq_odly_bit54\": 40,\n",
      "    \"f0_wrdqdbi_stg5_dqs_odly_byte2\": 98,\n",
      "    \"f1_wrdqdbi_deskew_dq_odly_bit55\": 0,\n",
      "    \"f1_rdprbs_pqtr_left_margin_nibble05\": 0,\n",
      "    \"f0_wrdqdbi_stg2_dq_odly_bit54\": 40,\n",
      "    \"iobmap_dqs_16\": 0,\n",
      "    \"f0_rddq_pqtr_right_nibble05\": 168,\n",
      "    \"f0_dqsgate_stg1_overflow_14\": 0,\n",
      "    \"f0_rdcmplx_pqtr_right_nibble13\": 156,\n",
      "    \"rdvref_left_vref_low_bound_nibble04\": 0,\n",
      "    \"bisc_idly4_align_nibble03\": 81,\n",
      "    \"f1_rddq_pqtr_right_fcrse_nibble15\": 0,\n",
      "    \"f1_wrdqdbi_deskew_dq_odly_fcrse_bit28\": 0,\n",
      "    \"f1_rdcmplx_pqtr_right_nibble01\": 0,\n",
      "    \"f1_rdcmplx_idelay_offset_nibble04\": 0,\n",
      "    \"f1_wrdqdbi_deskew_dbi_odly_fcrse_byte5\": 0,\n",
      "    \"f0_wr_comp_ctp_byte_05\": [\n",
      "        286,\n",
      "        573\n",
      "    ],\n",
      "    \"f1_rddq_idelay_final_bit56\": 0,\n",
      "    \"f0_wrdqdbi_deskew_dq_odly_bit34\": 182,\n",
      "    \"f0_rdcmplx_pqtr_final_nibble01\": 96,\n",
      "    \"f0_wrdqdbi_stg1_bit_status_byte7\": 0,\n",
      "    \"f0_wrdqdbi_stg5_dqs_odly_byte4\": 113,\n",
      "    \"f1_rdprbs_pqtr_left_margin_nibble14\": 0,\n",
      "    \"vttrack_rldlyqtr_max_nibble14\": 81,\n",
      "    \"f0_wrlvl_fine_right_rank0_byte6\": 42,\n",
      "    \"cal_stage_time_43\": 0,\n",
      "    \"f1_wrcmplx_odly_dq_final_bit39\": 0,\n",
      "    \"f1_rddq_idelay_final_bit31\": 0,\n",
      "    \"f0_wrdqdbi_stg3_dq_odly_bit06\": 57,\n",
      "    \"f0_wrlvl_fine_left_rank0_byte7\": 61,\n",
      "    \"f0_wrdqdbi_stg2_dq_odly_bit41\": 36,\n",
      "    \"f0_rd_simp_fall_ctp_nib_12\": [\n",
      "        100,\n",
      "        198\n",
      "    ],\n",
      "    \"f0_dqsgate_stg1_overflow_41\": 0,\n",
      "    \"f1_wrdqdbi_odly_dq_final_bit43\": 0,\n",
      "    \"f0_wrdqdbi_odly_dq_final_bit19\": 98,\n",
      "    \"vttrack_rldlyqtr_nibble07\": 79,\n",
      "    \"f0_wrdqdbi_deskew_dq_odly_fcrse_bit35\": 157,\n",
      "    \"f0_rdprbs_pqtr_left_margin_nibble08\": 0,\n",
      "    \"bisc_nqtr_nibble12\": 82,\n",
      "    \"xpi_wrdata_all_nib_dly\": 16,\n",
      "    \"f0_rddq_qtr_deskew_nibble03\": 1,\n",
      "    \"max_bytes\": 18,\n",
      "    \"f0_xpll_clkoutfb_ht\": 16,\n",
      "    \"f1_wrdqdbi_odly_dq_final_bit57\": 0,\n",
      "    \"f1_rddq_nqtr_left_nibble09\": 0,\n",
      "    \"rdmargin_nqtr_right_nibble08\": 0,\n",
      "    \"f0_rddq_qtr_deskew_nibble12\": 1,\n",
      "    \"f0_rddq_idelay_final_bit19\": 77,\n",
      "    \"iobmap_dq_33_32\": 0,\n",
      "    \"f1_wrcmplx_odly_dq_final_bit23\": 0,\n",
      "    \"f0_rd_comp_rise_lm_nib_00\": [\n",
      "        67,\n",
      "        133\n",
      "    ],\n",
      "    \"bisc_pqtr_align_nibble09\": 0,\n",
      "    \"dqstrack_rldlyrnk_fine_min_byte7\": 24,\n",
      "    \"f0_rd_simp_fall_lm_nib_06\": [\n",
      "        73,\n",
      "        146\n",
      "    ],\n",
      "    \"dc1_perf_mon_3\": 0,\n",
      "    \"cal_seq_status_17\": 403,\n",
      "    \"f1_wrdqdbi_deskew_dq_odly_bit00\": 0,\n",
      "    \"vttrack_rldlyqtr_min_nibble04\": 74,\n",
      "    \"f0_rdcmplx_nqtr_right_short_fcrse_nibble12\": 173,\n",
      "    \"f0_wrprbs_right_margin_byte6\": 0,\n",
      "    \"mgchk_rd_vref_0\": 0,\n",
      "    \"f0_dqsgate_stg1_overflow_52\": 0,\n",
      "    \"f0_wrdqdbi_deskew_dq_odly_bit51\": 120,\n",
      "    \"f1_wrdqdbi_stg3_dq_odly_bit60\": 0,\n",
      "    \"f0_dqsgate_stg1_overflow_15\": 0,\n",
      "    \"f1_wrcmplx_right_margin_byte3\": 0,\n",
      "    \"f1_rdcmplx_pqtr_right_short_nibble12\": 0,\n",
      "    \"f0_wrdqdbi_deskew_dq_odly_bit62\": 148,\n",
      "    \"f0_rddq_idelay_final_bit08\": 77,\n",
      "    \"f1_wrdqdbi_stg2_dq_odly_bit18\": 0,\n",
      "    \"dc1_perf_mon\": 62,\n",
      "    \"f1_wrdqdbi_left_edge_dq_bit20\": 0,\n",
      "    \"bisc_idly2_align_nibble14\": 68,\n",
      "    \"f0_rdcmplx_nqtr_right_nibble14\": 149,\n",
      "    \"bisc_pqtr_nibble15\": 79,\n",
      "    \"f0_dqsgate_stg1_read_lat_rank0_byte7\": 27,\n",
      "    \"f1_rddq_idelay_final_bit25\": 0,\n",
      "    \"f0_rd_comp_rise_rm_nib_05\": [\n",
      "        66,\n",
      "        132\n",
      "    ],\n",
      "    \"f0_rdcmplx_pqtr_right_short_nibble00\": 162,\n",
      "    \"f1_wrdqdbi_stg2_dq_odly_bit42\": 0,\n",
      "    \"f0_rddq_idelay_final_bit49\": 68,\n",
      "    \"f0_wrdqdbi_left_edge_dq_bit06\": 69,\n",
      "    \"f1_wrdqdbi_stg3_dq_odly_bit34\": 0,\n",
      "    \"f0_rd_simp_fall_lm_nib_03\": [\n",
      "        73,\n",
      "        146\n",
      "    ],\n",
      "    \"vttrack_rldlyqtr_max_nibble01\": 82,\n",
      "    \"cal_warning_56\": 0,\n",
      "    \"f1_wrdqdbi_stg5_dqs_odly_byte2\": 0,\n",
      "    \"per_rd_en\": 257,\n",
      "    \"wrmargin_left_byte4\": 0,\n",
      "    \"f1_calbisc_rl_dly_qtr_nibble14\": 0,\n",
      "    \"f0_bit_time\": 312,\n",
      "    \"f0_wrdqdbi_deskew_dq_odly_fcrse_bit22\": 172,\n",
      "    \"f1_wrdqdbi_stg3_dq_odly_bit27\": 0,\n",
      "    \"f0_wrdqdbi_stg2_dq_odly_bit56\": 63,\n",
      "    \"f1_wrlvl_crse_final_rank0_byte6\": 0,\n",
      "    \"f1_wrdqdbi_odly_dqs_final_byte4\": 0,\n",
      "    \"vttrack_rldlyqtr_nibble03\": 80,\n",
      "    \"mgchk_rw_mode\": 0,\n",
      "    \"f0_wrdqdbi_stg3_dq_odly_bit63\": 63,\n",
      "    \"f0_wrdqdbi_odly_dq_final_bit21\": 104,\n",
      "    \"cal_seq_status_39\": 444,\n",
      "    \"f1_rdcmplx_nqtr_right_short_fcrse_nibble00\": 0,\n",
      "    \"f1_rdcmplx_nqtr_left_nibble03\": 0,\n",
      "    \"cal_error_bit_phy_nibble_00\": 0,\n",
      "    \"f1_wrdqdbi_left_edge_dq_bit19\": 0,\n",
      "    \"f0_rd_simp_fall_rm_nib_15\": [\n",
      "        74,\n",
      "        146\n",
      "    ],\n",
      "    \"f0_rdcmplx_pqtr_left_nibble14\": 23,\n",
      "    \"f0_rdcmplx_nqtr_left_short_nibble15\": 27,\n",
      "    \"f0_wrdqdbi_left_edge_dq_bit49\": 38,\n",
      "    \"mgchk_step\": 0,\n",
      "    \"cal_warning_57\": 0,\n",
      "    \"f0_wrdqdbi_stg2_dq_odly_bit42\": 36,\n",
      "    \"f0_rdprbs_nqtr_right_margin_nibble06\": 0,\n",
      "    \"f0_rddq_idelay_final_bit20\": 83,\n",
      "    \"cal_warning_54\": 0,\n",
      "    \"bisc_idly4_align_nibble04\": 72,\n",
      "    \"f0_wrlvl_fine_final_rank0_byte4\": 97,\n",
      "    \"f0_rdcmplx_nqtr_right_nibble11\": 156,\n",
      "    \"f1_wrdqdbi_odly_dqs_final_byte5\": 0,\n",
      "    \"f1_wrcmplx_odly_dq_final_bit43\": 0,\n",
      "    \"f1_rdcmplx_pqtr_left_short_nibble13\": 0,\n",
      "    \"f1_rdcmplx_pqtr_right_nibble08\": 0,\n",
      "    \"f0_rdcmplx_nqtr_left_nibble12\": 28,\n",
      "    \"vttrack_rldlyqtr_nibble02\": 78,\n",
      "    \"bisc_idly0_align_nibble12\": 68,\n",
      "    \"iobmap_dq_1_0\": 0,\n",
      "    \"f0_wrdqdbi_deskew_dq_odly_bit13\": 123,\n",
      "    \"f0_wrdqdbi_stg4_byte_status_00\": 511,\n",
      "    \"f1_dqsgate_read_lat_final_byte4\": 0,\n",
      "    \"f0_wrdqdbi_deskew_dq_odly_fcrse_bit37\": 167,\n",
      "    \"bisc_idly4_align_nibble05\": 82,\n",
      "    \"f1_rdcmplx_nqtr_right_short_nibble14\": 0,\n",
      "    \"xpi_oe\": 258,\n",
      "    \"f0_wrdqdbi_stg2_dq_odly_bit55\": 40,\n",
      "    \"f0_rddq_idelay_final_bit01\": 74,\n",
      "    \"rdmargin_nqtr_right_nibble07\": 0,\n",
      "    \"f0_wrdqdbi_deskew_dq_odly_bit17\": 170,\n",
      "    \"f0_rddq_qtr_deskew_nibble14\": 1,\n",
      "    \"f0_dqsgate_stg1_overflow_40\": 0,\n",
      "    \"f1_wrdqdbi_right_margin_byte7\": 0,\n",
      "    \"f1_wrdqdbi_left_edge_dq_bit10\": 0,\n",
      "    \"f1_dqsgate_stg1_overflow_06\": 0,\n",
      "    \"f1_wrdqdbi_stg1_bit_status_byte3\": 0,\n",
      "    \"f1_rddq_nqtr_left_nibble11\": 0,\n",
      "    \"f1_wrdqdbi_stg2_dq_odly_bit57\": 0,\n",
      "    \"f1_calbisc_rl_dly_pqtr_nibble14\": 0,\n",
      "    \"cal_error_bit_phy_nibble_04\": 0,\n",
      "    \"f1_dqsgate_stg1_rldlyrnk_fine_rank0_byte7\": 0,\n",
      "    \"f1_wrprbs_left_margin_byte1\": 0,\n",
      "    \"f0_wrdqdbi_left_edge_dq_bit60\": 67,\n",
      "    \"f1_wrdqdbi_odly_dq_final_bit36\": 0,\n",
      "    \"f1_wrdqdbi_deskew_dbi_odly_fcrse_byte4\": 0,\n",
      "    \"cal_seq_status_14\": 272,\n",
      "    \"cal_warning_60\": 0,\n",
      "    \"f1_wrdqdbi_stg3_dq_odly_bit59\": 0,\n",
      "    \"cal_post_status_self_ref\": 0,\n",
      "    \"f0_wrdqdbi_deskew_dq_odly_fcrse_bit36\": 177,\n",
      "    \"f1_rcd_rc3x\": 0,\n",
      "    \"f0_wrdqdbi_left_edge_dq_bit36\": 107,\n",
      "    \"f1_rddq_pqtr_right_nibble12\": 0,\n",
      "    \"f1_rddq_idelay_final_bit21\": 0,\n",
      "    \"bisc_nqtr_nibble06\": 78,\n",
      "    \"f1_wrcmplx_odly_dq_final_bit31\": 0,\n",
      "    \"bisc_mon_align_nibble11\": 0,\n",
      "    \"bisc_mon_align_nibble03\": 0,\n",
      "    \"f1_dqsgate_stg1_overflow_44\": 0,\n",
      "    \"mgchk_pattern_config_1\": 0,\n",
      "    \"f0_rdcmplx_nqtr_right_short_nibble08\": 173,\n",
      "    \"f1_wrcmplx_odly_dq_final_bit22\": 0,\n",
      "    \"f0_wrcmplx_odly_dq_final_bit39\": 109,\n",
      "    \"f0_rdcmplx_idelay_offset_nibble09\": 0,\n",
      "    \"f0_wrdqdbi_deskew_dq_odly_bit38\": 186,\n",
      "    \"f1_mr1_17_9\": 0,\n",
      "    \"f0_wrdqdbi_stg6_dbi_odly_byte4\": 97,\n",
      "    \"f1_rdcmplx_nqtr_right_short_nibble11\": 0,\n",
      "    \"f1_dqsgate_stg1_rldlyrnk_fine_rank0_byte3\": 0,\n",
      "    \"f1_wrdqdbi_right_margin_fcrse_byte1\": 0,\n",
      "    \"f0_rdcmplx_pqtr_left_nibble02\": 24,\n",
      "    \"f1_wrdqdbi_stg2_dq_odly_bit14\": 0,\n",
      "    \"f1_rdcmplx_nqtr_right_short_nibble06\": 0,\n",
      "    \"f0_wrdqdbi_odly_dqs_final_byte1\": 53,\n",
      "    \"f1_wrcmplx_right_margin_fcrse_byte1\": 0,\n",
      "    \"f0_wrdqdbi_left_edge_dbi_byte5\": 36,\n",
      "    \"f0_wrdqdbi_stg1_bit_status_byte4\": 0,\n",
      "    \"f0_rd_comp_fall_lm_nib_05\": [\n",
      "        59,\n",
      "        117\n",
      "    ],\n",
      "    \"f0_rddq_nqtr_right_nibble02\": 177,\n",
      "    \"f1_wrdqdbi_odly_dq_final_bit60\": 0,\n",
      "    \"f1_rdcmplx_nqtr_left_nibble08\": 0,\n",
      "    \"dc0_perf_mon_1\": 0,\n",
      "    \"f1_rddq_pqtr_right_fcrse_nibble07\": 0,\n",
      "    \"f1_calbisc_rl_dly_nqtr_nibble00\": 0,\n",
      "    \"0x3f_CAL_DONE\": \"Pass\",\n",
      "    \"f0_calbisc_rl_dly_qtr_nibble12\": 79,\n",
      "    \"f1_wrlat_match_rank0_byte4\": 0,\n",
      "    \"f0_wrdqdbi_deskew_dq_odly_bit42\": 122,\n",
      "    \"ub_clk_17_9\": 2,\n",
      "    \"f0_wrdqdbi_deskew_dq_odly_bit23\": 172,\n",
      "    \"f1_rdcmplx_nqtr_right_short_fcrse_nibble02\": 0,\n",
      "    \"bisc_idly0_align_nibble05\": 0,\n",
      "    \"rdvref_right_vref_final_nibble14\": 0,\n",
      "    \"cal_warning_20\": 0,\n",
      "    \"bisc_idly2_align_nibble01\": 76,\n",
      "    \"f1_rdcmplx_pqtr_left_short_nibble11\": 0,\n",
      "    \"f0_dqsgate_stg1_rldlyrnk_fine_rank0_byte6\": 69,\n",
      "    \"rdvref_vref_final_nibble08\": 0,\n",
      "    \"f0_wrlvl_noise_fcrse_rank0_byte5\": 35,\n",
      "    \"phy_rden14_dly\": 22,\n",
      "    \"f0_rdcmplx_nqtr_left_short_nibble03\": 29,\n",
      "    \"cal_warning_49\": 0,\n",
      "    \"f0_rddq_pqtr_left_nibble02\": 18,\n",
      "    \"f1_rddq_nqtr_right_nibble04\": 0,\n",
      "    \"cal_stage_time_62\": 0,\n",
      "    \"f0_rdcmplx_idelay_offset_nibble08\": 0,\n",
      "    \"f1_wrdqdbi_left_edge_dq_bit49\": 0,\n",
      "    \"f1_wrdqdbi_stg2_dqs_odly_byte6\": 0,\n",
      "    \"phy_oe_nib4_dly\": 1,\n",
      "    \"ddrmc_isr_dram_parity1\": 0,\n",
      "    \"f1_wrdqdbi_stg1_dqs_delay_byte1\": 0,\n",
      "    \"f0_wrprbs_right_margin_byte2\": 0,\n",
      "    \"f1_rdprbs_pqtr_right_margin_nibble13\": 0,\n",
      "    \"mgchk_def_rd_vref_1\": 0,\n",
      "    \"f1_rddq_pqtr_right_fcrse_nibble02\": 0,\n",
      "    \"f0_rd_comp_rise_rm_nib_14\": [\n",
      "        67,\n",
      "        133\n",
      "    ],\n",
      "    \"f0_wrdqdbi_left_edge_dq_bit10\": 29,\n",
      "    \"iobmap_dq_61_60\": 0,\n",
      "    \"f0_rddq_nqtr_left_nibble03\": 29,\n",
      "    \"f0_wrdqdbi_odly_dq_final_bit11\": 37,\n",
      "    \"f1_rddq_pqtr_left_nibble12\": 0,\n",
      "    \"f1_rdcmplx_pqtr_right_short_fcrse_nibble10\": 0,\n",
      "    \"f0_wrdqdbi_stg3_dq_odly_bit03\": 57,\n",
      "    \"rdvref_left_vref_def_nibble09\": 0,\n",
      "    \"bisc_idly4_align_nibble14\": 70,\n",
      "    \"f1_wrdqdbi_left_edge_dq_bit21\": 0,\n",
      "    \"ddrmc_isr_dram_parity_fatal_1\": 0,\n",
      "    \"f0_wrcmplx_odly_dq_final_bit19\": 102,\n",
      "    \"cal_stage_time_55\": 0,\n",
      "    \"f1_wrdqdbi_deskew_dq_odly_bit54\": 0,\n",
      "    \"f0_rdcmplx_pqtr_right_short_fcrse_nibble00\": 169,\n",
      "    \"cal_stage.08_F0_READ_DQ_DBI_CAL_COMPLEX\": \"Pass\",\n",
      "    \"rdvref_left_vref_low_bound_nibble06\": 0,\n",
      "    \"f0_rddq_idelay_final_bit31\": 76,\n",
      "    \"cal_warning_64\": 0,\n",
      "    \"f0_rdcmplx_pqtr_left_nibble12\": 24,\n",
      "    \"f0_rdcmplx_pqtr_right_short_fcrse_nibble08\": 172,\n",
      "    \"f0_wrdqdbi_stg3_dq_odly_bit33\": 97,\n",
      "    \"f0_wrdqdbi_stg6_dbi_odly_byte2\": 82,\n",
      "    \"f1_rddq_nqtr_right_nibble10\": 0,\n",
      "    \"f1_wrdqdbi_deskew_dq_odly_bit23\": 0,\n",
      "    \"f0_wrdqdbi_deskew_dq_odly_fcrse_bit52\": 130,\n",
      "    \"f0_rddq_idelay_final_bit13\": 83,\n",
      "    \"f1_wrdqdbi_right_margin_fcrse_byte5\": 0,\n",
      "    \"max_nibbles\": 18,\n",
      "    \"f1_rdprbs_pqtr_right_margin_nibble06\": 0,\n",
      "    \"f0_rcd_rc3x\": 0,\n",
      "    \"f1_wrdqdbi_odly_dq_final_bit34\": 0,\n",
      "    \"f0_wrcmplx_odly_dq_final_bit23\": 104,\n",
      "    \"f0_dqsgate_stg1_overflow_58\": 0,\n",
      "    \"f0_rddq_idelay_final_bit11\": 73,\n",
      "    \"f0_rd_simp_fall_lm_nib_08\": [\n",
      "        76,\n",
      "        150\n",
      "    ],\n",
      "    \"f0_wrdqdbi_odly_dqs_final_byte4\": 113,\n",
      "    \"iobmap_dq_65_64\": 0,\n",
      "    \"cal_stage_time_42\": 0,\n",
      "    \"f1_mr4_17_9\": 0,\n",
      "    \"bisc_rl_dly_qtr_nibble11\": 77,\n",
      "    \"f1_dqsgate_stg1_rldlyrnk_crse_rank0_byte7\": 0,\n",
      "    \"f0_rddq_idelay_final_bit21\": 85,\n",
      "    \"f0_wr_simp_ctp_byte_04\": [\n",
      "        267,\n",
      "        542\n",
      "    ],\n",
      "    \"f0_wrcmplx_left_margin_byte2\": 72,\n",
      "    \"f1_rdcmplx_pqtr_left_nibble12\": 0,\n",
      "    \"f0_mr3_17_9\": 0,\n",
      "    \"f1_wrcmplx_odly_dqs_final_byte7\": 0,\n",
      "    \"f1_calbisc_rl_dly_pqtr_nibble09\": 0,\n",
      "    \"f0_wrlvl_crse_final_rank0_byte0\": 2,\n",
      "    \"f1_rdprbs_nqtr_left_margin_nibble08\": 0,\n",
      "    \"f0_wrdqdbi_left_edge_dq_bit53\": 51,\n",
      "    \"wrvref_left_vref_upp_bound_rank0_byte0\": 0,\n",
      "    \"f0_rddq_pqtr_final_nibble00\": 90,\n",
      "    \"f0_wrcmplx_odly_dq_final_bit24\": 75,\n",
      "    \"rdvref_right_vref_upp_bound_nibble15\": 0,\n",
      "    \"f0_dqsgate_max_read_lat\": 28,\n",
      "    \"f1_wrdqdbi_deskew_dq_odly_bit33\": 0,\n",
      "    \"f1_wrdqdbi_deskew_dq_odly_fcrse_bit52\": 0,\n",
      "    \"f1_wrlat_xpi_oe_all_final\": 0,\n",
      "    \"f0_rddq_idelay_final_bit56\": 77,\n",
      "    \"f1_rdcmplx_nqtr_left_short_nibble12\": 0,\n",
      "    \"f0_wrdqdbi_deskew_dq_odly_fcrse_bit51\": 120,\n",
      "    \"0x11_F0_READ_DQ_DBI_CAL_COMPLEX\": \"Pass\",\n",
      "    \"f0_wr_simp_ctp_byte_00\": [\n",
      "        227,\n",
      "        461\n",
      "    ],\n",
      "    \"f0_wrdqdbi_stg2_dq_odly_bit59\": 63,\n",
      "    \"f1_wrlat_phy_data_nib_final_byte0\": 0,\n",
      "    \"f1_wrcmplx_odly_dbi_final_byte0\": 0,\n",
      "    \"f0_wrdqdbi_deskew_dq_odly_fcrse_bit25\": 134,\n",
      "    \"f0_rd_simp_fall_rm_nib_04\": [\n",
      "        74,\n",
      "        148\n",
      "    ],\n",
      "    \"rdmargin_pqtr_left_nibble15\": 0,\n",
      "    \"bisc_idly0_align_nibble13\": 76,\n",
      "    \"f0_rddq_qtr_deskew_nibble10\": 1,\n",
      "    \"f0_rddq_idelay_final_bit28\": 71,\n",
      "    \"f1_rcd_rc0a\": 0,\n",
      "    \"f1_mr5_rtt_park\": 0,\n",
      "    \"f0_wrdqdbi_stg3_dq_odly_bit47\": 36,\n",
      "    \"f0_wrdqdbi_left_edge_dq_bit30\": 78,\n",
      "    \"rdvref_vref_final_nibble02\": 0,\n",
      "    \"f1_rddq_pqtr_left_nibble10\": 0,\n",
      "    \"reg_config0\": 4198928,\n",
      "    \"vttrack_rldlyqtr_max_nibble08\": 81,\n",
      "    \"f1_rddq_pqtr_right_nibble13\": 0,\n",
      "    \"f1_wrcmplx_odly_dqs_final_byte1\": 0,\n",
      "    \"f0_wr_simp_lm_byte_06\": [\n",
      "        81,\n",
      "        162\n",
      "    ],\n",
      "    \"iobmap_dq_27_26\": 0,\n",
      "    \"f0_wrlvl_crse_final_rank0_byte7\": 3,\n",
      "    \"rdvref_right_vref_low_bound_nibble10\": 0,\n",
      "    \"f0_rdcmplx_pqtr_left_nibble01\": 31,\n",
      "    \"wrvref_left_vref_low_bound_rank0_byte7\": 0,\n",
      "    \"iobmap_dqs_7\": 0,\n",
      "    \"cal_warning_09\": 0,\n",
      "    \"bisc_mon_align_nibble12\": 0,\n",
      "    \"f0_rd_simp_fall_rm_nib_10\": [\n",
      "        73,\n",
      "        143\n",
      "    ],\n",
      "    \"vttrack_rldlyqtr_min_nibble13\": 75,\n",
      "    \"cal_warning_11\": 0,\n",
      "    \"f0_wrdqdbi_deskew_dbi_odly_byte2\": 166,\n",
      "    \"iobmap_dqs_11\": 0,\n",
      "    \"vttrack_rldlyqtr_min_nibble01\": 76,\n",
      "    \"f0_rdcmplx_nqtr_right_short_fcrse_nibble13\": 169,\n",
      "    \"f1_dqsgate_stg1_rldlyrnk_fine_rank0_byte1\": 0,\n",
      "    \"f1_wrdqdbi_deskew_dq_odly_fcrse_bit33\": 0,\n",
      "    \"bisc_idly0_align_nibble00\": 68,\n",
      "    \"cal_warning_08\": 0,\n",
      "    \"f0_rd_comp_rise_ctp_nib_07\": [\n",
      "        88,\n",
      "        179\n",
      "    ],\n",
      "    \"cal_stage.05_F0_READ_DQ_CAL\": \"Pass\",\n",
      "    \"f1_wrdqdbi_deskew_dq_odly_fcrse_bit60\": 0,\n",
      "    \"f0_dqsgate_stg2_rldlyrnk_crse_rank0_byte6\": 3,\n",
      "    \"f0_wrdqdbi_stg2_dq_odly_bit44\": 36,\n",
      "    \"rdvref_vref_def\": 0,\n",
      "    \"phy_oe_nib15_dly\": 1,\n",
      "    \"f0_wrcmplx_left_margin_byte1\": 73,\n",
      "    \"f0_wrlat_match_rank0_byte1\": 16,\n",
      "    \"f1_wrdqdbi_left_edge_dbi_byte7\": 0,\n",
      "    \"f1_wrdqdbi_odly_dqs_final_byte6\": 0,\n",
      "    \"f1_wrcmplx_odly_dq_final_bit03\": 0,\n",
      "    \"f1_wrdqdbi_left_edge_dq_bit47\": 0,\n",
      "    \"f1_rdcmplx_idelay_offset_nibble08\": 0,\n",
      "    \"f0_wrdqdbi_right_margin_fcrse_byte5\": 60,\n",
      "    \"f1_dqsgate_stg1_overflow_39\": 0,\n",
      "    \"wrvref_left_vref_low_bound_rank0_byte0\": 0,\n",
      "    \"f0_wrlvl_noise_fcrse_rank0_byte6\": 45,\n",
      "    \"f1_wrdqdbi_left_edge_dq_bit55\": 0,\n",
      "    \"f1_wrdqdbi_stg3_dq_odly_bit04\": 0,\n",
      "    \"f1_dqsgate_stg1_overflow_62\": 0,\n",
      "    \"f0_rddq_pqtr_left_nibble01\": 18,\n",
      "    \"f0_wrdqdbi_left_edge_dq_bit62\": 63,\n",
      "    \"rdvref_left_vref_def_nibble05\": 0,\n",
      "    \"f0_wrdqdbi_odly_dq_final_bit20\": 105,\n",
      "    \"rdvref_vref_upp_bound_nibble05\": 0,\n",
      "    \"f0_rddq_idelay_final_bit15\": 80,\n",
      "    \"f1_wrdqdbi_deskew_dq_odly_bit42\": 0,\n",
      "    \"f1_wrdqdbi_stg5_dqs_odly_byte6\": 0,\n",
      "    \"f1_wrdqdbi_right_margin_byte6\": 0,\n",
      "    \"f1_rddq_pqtr_final_nibble02\": 0,\n",
      "    \"cal_stage_time_45\": 0,\n",
      "    \"f0_wrcmplx_odly_dqs_final_byte5\": 52,\n",
      "    \"f0_wrdqdbi_odly_dq_final_bit55\": 58,\n",
      "    \"f1_rdcmplx_pqtr_right_nibble05\": 0,\n",
      "    \"f0_rdcmplx_nqtr_left_short_nibble05\": 28,\n",
      "    \"f0_mr1_rtt_nom\": 219,\n",
      "    \"f1_wrdqdbi_deskew_dq_odly_fcrse_bit05\": 0,\n",
      "    \"f0_rddq_qtr_deskew_nibble04\": 1,\n",
      "    \"f1_rdcmplx_nqtr_left_short_nibble03\": 0,\n",
      "    \"f0_rdprbs_nqtr_left_margin_nibble04\": 0,\n",
      "    \"f0_wrdqdbi_right_edge_dqs_byte3\": 150,\n",
      "    \"f0_rddq_nqtr_left_nibble13\": 30,\n",
      "    \"f0_rddq_idelay_final_bit62\": 77,\n",
      "    \"f0_rddq_nqtr_final_nibble02\": 101,\n",
      "    \"f1_wrdqdbi_deskew_dq_odly_fcrse_bit08\": 0,\n",
      "    \"f0_dqsgate_stg1_rldlyrnk_fine_rank0_byte0\": 4,\n",
      "    \"f1_dqsgate_stg2_rldlyrnk_crse_rank0_byte3\": 0,\n",
      "    \"f0_calbisc_rl_dly_pqtr_nibble02\": 76,\n",
      "    \"f1_wrdqdbi_stg5_dqs_odly_byte5\": 0,\n",
      "    \"f0_calbisc_rl_dly_qtr_nibble08\": 78,\n",
      "    \"f0_rdprbs_nqtr_right_margin_nibble03\": 0,\n",
      "    \"f0_calbisc_rl_dly_pqtr_nibble09\": 76,\n",
      "    \"f0_wrlat_xpi_wrdata_all_final\": 16,\n",
      "    \"cal_stage_time_09\": 0,\n",
      "    \"rdvref_vref_low_bound_nibble14\": 0,\n",
      "    \"rdmargin_pqtr_left_nibble13\": 0,\n",
      "    \"cal_status_map_ver\": 1,\n",
      "    \"rdvref_right_vref_upp_bound_nibble11\": 0,\n",
      "    \"f0_wrdqdbi_stg2_dq_odly_bit30\": 64,\n",
      "    \"rdvref_left_vref_final_nibble03\": 0,\n",
      "    \"f1_wrdqdbi_stg2_dqs_odly_byte4\": 0,\n",
      "    \"f0_wrlat_match_rank0_byte5\": 17,\n",
      "    \"f0_wrdqdbi_deskew_dq_odly_bit33\": 168,\n",
      "    \"dqstrack_rldlyrnk_crse_min_byte6\": 3,\n",
      "    \"f1_wrcmplx_odly_dq_final_bit37\": 0,\n",
      "    \"mgchk_def_rd_vref_0\": 373,\n",
      "    \"f1_dqsgate_stg1_overflow_49\": 0,\n",
      "    \"f1_rddq_pqtr_final_nibble07\": 0,\n",
      "    \"f1_rddq_nqtr_final_nibble02\": 0,\n",
      "    \"f0_rd_comp_fall_rm_nib_02\": [\n",
      "        61,\n",
      "        125\n",
      "    ],\n",
      "    \"f0_rd_simp_rise_rm_nib_08\": [\n",
      "        74,\n",
      "        148\n",
      "    ],\n",
      "    \"f1_wrdqdbi_stg2_dq_odly_bit26\": 0,\n",
      "    \"iobmap_dq_9_8\": 0,\n",
      "    \"f0_wrdqdbi_deskew_dq_odly_bit56\": 157,\n",
      "    \"f0_wrdqdbi_deskew_dq_odly_bit50\": 129,\n",
      "    \"f0_rd_comp_fall_lm_nib_14\": [\n",
      "        62,\n",
      "        126\n",
      "    ],\n",
      "    \"phy_oe_nib26_dly\": 0,\n",
      "    \"wrvref_left_vref_def_rank0_byte4\": 0,\n",
      "    \"f1_rdcmplx_pqtr_right_short_nibble01\": 0,\n",
      "    \"f0_rd_comp_rise_rm_nib_10\": [\n",
      "        65,\n",
      "        129\n",
      "    ],\n",
      "    \"f0_rdcmplx_nqtr_right_short_fcrse_nibble01\": 173,\n",
      "    \"f1_wrdqdbi_stg2_dq_odly_bit06\": 0,\n",
      "    \"es_vref_max\": 473,\n",
      "    \"es_data_need_update\": 0,\n",
      "    \"f1_rddq_idelay_final_bit22\": 0,\n",
      "    \"phy_rden10_dly\": 22,\n",
      "    \"bisc_nqtr_align_nibble01\": 2,\n",
      "    \"f0_wrdqdbi_right_margin_fcrse_byte0\": 60,\n",
      "    \"rdvref_vref_final_nibble15\": 0,\n",
      "    \"f0_wrdqdbi_odly_dq_final_bit61\": 71,\n",
      "    \"f0_calbisc_rl_dly_qtr_nibble00\": 78,\n",
      "    \"f0_dqsgate_stg1_overflow_33\": 0,\n",
      "    \"cal_seq_status_26\": 297,\n",
      "    \"iobmap_dq_35_34\": 0,\n",
      "    \"wrvref_left_vref_final_rank0_byte4\": 0,\n",
      "    \"f0_rddq_idelay_final_bit44\": 86,\n",
      "    \"f0_rddq_pqtr_left_nibble07\": 18,\n",
      "    \"f0_calbisc_rl_dly_qtr_nibble03\": 78,\n",
      "    \"f1_calbisc_rl_dly_pqtr_nibble05\": 0,\n",
      "    \"cal_error_bit_phy_nibble_13\": 0,\n",
      "    \"bisc_idly3_align_nibble00\": 72,\n",
      "    \"f0_rd_simp_rise_rm_nib_06\": [\n",
      "        74,\n",
      "        148\n",
      "    ],\n",
      "    \"f0_wrdqdbi_left_margin_byte5\": 81,\n",
      "    \"f0_rddq_pqtr_left_nibble15\": 18,\n",
      "    \"f1_rddq_idelay_final_bit50\": 0,\n",
      "    \"f0_rddq_idelay_final_bit34\": 81,\n",
      "    \"f0_rdcmplx_idelay_offset_nibble04\": 0,\n",
      "    \"f1_wrdqdbi_stg4_dqs_delay_byte1\": 0,\n",
      "    \"f1_wrdqdbi_stg2_dqs_odly_byte7\": 0,\n",
      "    \"f1_rddq_nqtr_right_fcrse_nibble00\": 0,\n",
      "    \"f1_wrdqdbi_right_edge_dqs_byte1\": 0,\n",
      "    \"ddrmc_pcsr_status_incal\": 0,\n",
      "    \"f1_rdcmplx_pqtr_final_nibble15\": 0,\n",
      "    \"f0_wrdqdbi_stg4_dqs_delay_byte0\": 14,\n",
      "    \"f1_rdprbs_nqtr_left_margin_nibble03\": 0,\n",
      "    \"f1_wrdqdbi_deskew_dq_odly_bit38\": 0,\n",
      "    \"f0_rddq_nqtr_right_fcrse_nibble13\": 175,\n",
      "    \"wrvref_vref_upp_bound_rank0_byte4\": 0,\n",
      "    \"f0_wrcmplx_odly_dqs_final_byte3\": 80,\n",
      "    \"f1_rddq_nqtr_right_nibble12\": 0,\n",
      "    \"f1_wrdqdbi_deskew_dq_odly_bit52\": 0,\n",
      "    \"f1_rdcmplx_pqtr_right_short_nibble07\": 0,\n",
      "    \"dbi_pins\": 8,\n",
      "    \"f0_wrdqdbi_right_margin_byte4\": 73,\n",
      "    \"f0_dqsgate_stg1_overflow_24\": 0,\n",
      "    \"f1_rdcmplx_pqtr_final_nibble08\": 0,\n",
      "    \"cal_stage_time_22\": 0,\n",
      "    \"cal_seq_status_05\": 263,\n",
      "    \"f1_wrlat_phy_oe_nib_final_byte3\": 0,\n",
      "    \"f1_rdcmplx_pqtr_right_nibble04\": 0,\n",
      "    \"f0_rdcmplx_nqtr_final_nibble14\": 87,\n",
      "    \"bisc_idly3_align_nibble09\": 77,\n",
      "    \"phy_rden4_dly\": 27,\n",
      "    \"f0_wrcmplx_odly_dbi_final_byte2\": 98,\n",
      "    \"f0_wr_comp_ctp_byte_06\": [\n",
      "        290,\n",
      "        581\n",
      "    ],\n",
      "    \"dqstrack_rldlyrnk_crse_max_byte5\": 2,\n",
      "    \"rdvref_vref_final_nibble11\": 0,\n",
      "    \"f0_rddq_idelay_final_bit14\": 75,\n",
      "    \"f0_wrlvl_crse_stg1_rank0_byte1\": 3,\n",
      "    \"rdvref_left_vref_upp_bound_nibble01\": 0,\n",
      "    \"f0_rd_simp_rise_lm_nib_08\": [\n",
      "        73,\n",
      "        146\n",
      "    ],\n",
      "    \"f1_mr1_8_0\": 0,\n",
      "    \"rdmargin_nqtr_left_nibble09\": 0,\n",
      "    \"f0_wrlat_init_latency\": 16,\n",
      "    \"f1_rddq_idelay_final_bit20\": 0,\n",
      "    \"f0_wrlvl_fine_left_rank0_byte2\": 79,\n",
      "    \"f1_wrdqdbi_stg6_dbi_odly_byte4\": 0,\n",
      "    \"f1_calbisc_rl_dly_nqtr_nibble08\": 0,\n",
      "    \"f1_rddq_idelay_final_bit38\": 0,\n",
      "    \"f0_calbisc_rl_dly_qtr_nibble15\": 79,\n",
      "    \"f0_rd_comp_fall_lm_nib_02\": [\n",
      "        61,\n",
      "        125\n",
      "    ],\n",
      "    \"wrvref_vref_final_rank0_byte0\": 0,\n",
      "    \"f0_rd_comp_rise_lm_nib_13\": [\n",
      "        63,\n",
      "        126\n",
      "    ],\n",
      "    \"dqstrack_rldlyrnk_fine_byte1\": 5,\n",
      "    \"cal_warning_76\": 0,\n",
      "    \"rdvref_right_vref_upp_bound_nibble09\": 0,\n",
      "    \"cal_pre_status_17_9\": 511,\n",
      "    \"bisc_nqtr_align_nibble07\": 0,\n",
      "    \"f0_dqsgate_stg1_overflow_39\": 0,\n",
      "    \"f1_wrdqdbi_stg3_dq_odly_bit05\": 0,\n",
      "    \"f1_wrdqdbi_odly_dq_final_bit38\": 0,\n",
      "    \"f0_wrdqdbi_stg2_dq_odly_bit05\": 57,\n",
      "    \"f1_rdcmplx_nqtr_left_short_nibble02\": 0,\n",
      "    \"f0_wrdqdbi_stg5_dqs_odly_byte7\": 79,\n",
      "    \"f1_dqsgate_stg1_overflow_18\": 0,\n",
      "    \"bisc_pqtr_nibble07\": 79,\n",
      "    \"cal_post_status_00\": 0,\n",
      "    \"f0_wrdqdbi_deskew_dq_odly_bit06\": 152,\n",
      "    \"f1_wrlvl_fine_right_rank0_byte7\": 0,\n",
      "    \"f0_dqsgate_rldlyrnk_crse_final_rank0_byte7\": 1,\n",
      "    \"cal_error_bit_phy_nibble_09\": 0,\n",
      "    \"f1_rddq_idelay_final_bit03\": 0,\n",
      "    \"f1_wrdqdbi_odly_dbi_final_byte0\": 0,\n",
      "    \"f1_rdprbs_nqtr_right_margin_nibble15\": 0,\n",
      "    \"traf_self_ref_en\": 0,\n",
      "    \"f0_wrdqdbi_left_edge_dq_bit13\": 35,\n",
      "    \"f1_rdcmplx_pqtr_right_short_nibble06\": 0,\n",
      "    \"bisc_pqtr_nibble04\": 79,\n",
      "    \"f0_wrdqdbi_deskew_dq_odly_bit39\": 176,\n",
      "    \"cal_seq_status_19\": 283,\n",
      "    \"f1_wrlvl_fine_right_rank0_byte5\": 0,\n",
      "    \"wrvref_right_vref_def_rank0_byte6\": 0,\n",
      "    \"f0_wrlvl_offset_rank0_byte1\": 79,\n",
      "    \"f1_rddq_nqtr_right_nibble07\": 0,\n",
      "    \"f1_wrdqdbi_left_edge_dbi_byte1\": 0,\n",
      "    \"f0_rddq_qtr_deskew_nibble02\": 1,\n",
      "    \"f1_rdcmplx_nqtr_final_nibble08\": 0,\n",
      "    \"f0_wrdqdbi_left_edge_dq_bit59\": 68,\n",
      "    \"f0_wrlat_phy_data_nib_final_byte7\": 1,\n",
      "    \"bisc_idly0_align_nibble04\": 0,\n",
      "    \"f0_dqsgate_stg1_overflow_10\": 0,\n",
      "    \"cal_warning_34\": 0,\n",
      "    \"f1_rdcmplx_nqtr_left_nibble14\": 0,\n",
      "    \"f1_wrdqdbi_left_edge_dq_bit31\": 0,\n",
      "    \"phy_rden16_dly\": 26,\n",
      "    \"rdmargin_pqtr_left_nibble00\": 0,\n",
      "    \"cal_warning_77\": 0,\n",
      "    \"rdvref_vref_upp_bound_nibble15\": 0,\n",
      "    \"rdvref_left_vref_upp_bound_nibble11\": 0,\n",
      "    \"f0_wrdqdbi_deskew_dq_odly_bit61\": 148,\n",
      "    \"bisc_pqtr_nibble00\": 79,\n",
      "    \"f1_rdcmplx_nqtr_left_short_nibble14\": 0,\n",
      "    \"f1_wrcmplx_left_margin_byte1\": 0,\n",
      "    \"f0_rd_comp_fall_ctp_nib_09\": [\n",
      "        89,\n",
      "        181\n",
      "    ],\n",
      "    \"bisc_mon_align_nibble06\": 0,\n",
      "    \"f0_wrdqdbi_deskew_dq_odly_fcrse_bit14\": 117,\n",
      "    \"cal_warning_30\": 0,\n",
      "    \"f0_wrcmplx_right_margin_byte0\": 68,\n",
      "    \"f1_wrdqdbi_stg3_dq_odly_bit11\": 0,\n",
      "    \"f0_wrdqdbi_stg2_dqs_odly_byte2\": 98,\n",
      "    \"f0_wrdqdbi_left_margin_byte0\": 83,\n",
      "    \"f0_rdcmplx_nqtr_final_nibble11\": 93,\n",
      "    \"f1_wrdqdbi_deskew_dq_odly_bit31\": 0,\n",
      "    \"f1_wrlat_match_rank0_byte7\": 0,\n",
      "    \"bisc_idly3_align_nibble01\": 78,\n",
      "    \"f0_rdprbs_pqtr_right_margin_nibble08\": 0,\n",
      "    \"f0_wrlvl_fine_final_rank0_byte5\": 36,\n",
      "    \"bisc_idly2_align_nibble00\": 66,\n",
      "    \"f1_wrdqdbi_deskew_dq_odly_fcrse_bit51\": 0,\n",
      "    \"vttrack_rldlyqtr_max_nibble12\": 82,\n",
      "    \"f1_wrcmplx_odly_dq_final_bit32\": 0,\n",
      "    \"f1_dqsgate_stg1_rldlyrnk_crse_rank0_byte2\": 0,\n",
      "    \"f0_rdcmplx_pqtr_right_short_nibble12\": 165,\n",
      "    \"f0_rd_simp_fall_ctp_nib_07\": [\n",
      "        95,\n",
      "        190\n",
      "    ],\n",
      "    \"f1_wrdqdbi_stg2_dqs_odly_byte0\": 0,\n",
      "    \"f1_rdprbs_pqtr_left_margin_nibble06\": 0,\n",
      "    \"dqstrack_rldlyrnk_crse_max_byte6\": 3,\n",
      "    \"f0_wrdqdbi_stg2_dq_odly_bit49\": 40,\n",
      "    \"f0_dqsgate_read_lat_final_byte4\": 27,\n",
      "    \"f0_wrprbs_left_margin_byte7\": 0,\n",
      "    \"f1_wrdqdbi_deskew_dq_odly_bit02\": 0,\n",
      "    \"f0_wrdqdbi_left_edge_dbi_byte7\": 63,\n",
      "    \"f0_rdcmplx_pqtr_right_short_nibble07\": 163,\n",
      "    \"f0_rdcmplx_pqtr_right_short_nibble01\": 169,\n",
      "    \"bisc_pqtr_nibble01\": 77,\n",
      "    \"f1_wrdqdbi_left_edge_dq_bit17\": 0,\n",
      "    \"f1_wrlvl_noise_fcrse_rank0_byte5\": 0,\n",
      "    \"f1_rddq_pqtr_final_nibble05\": 0,\n",
      "    \"f1_wrcmplx_left_margin_byte3\": 0,\n",
      "    \"f1_calbisc_rl_dly_nqtr_nibble03\": 0,\n",
      "    \"rdmargin_pqtr_left_nibble07\": 0,\n",
      "    \"phy_rden6_dly\": 27,\n",
      "    \"rdmargin_pqtr_right_nibble02\": 0,\n",
      "    \"bisc_idly4_align_nibble12\": 73,\n",
      "    \"f1_wrdqdbi_stg2_dq_odly_bit13\": 0,\n",
      "    \"f1_wrdqdbi_stg3_dq_odly_bit46\": 0,\n",
      "    \"f0_wrcmplx_left_margin_byte4\": 74,\n",
      "    \"f1_wrdqdbi_deskew_dq_odly_bit62\": 0,\n",
      "    \"f1_rdcmplx_nqtr_right_nibble13\": 0,\n",
      "    \"f1_rddq_idelay_final_bit24\": 0,\n",
      "    \"mgchk_pattern_config_2\": 0,\n",
      "    \"f1_rddq_qtr_deskew_nibble02\": 0,\n",
      "    \"phy_rden24_dly\": 25,\n",
      "    \"cal_warning_27\": 0,\n",
      "    \"f1_rdprbs_nqtr_left_margin_nibble07\": 0,\n",
      "    \"f0_rddq_pqtr_right_fcrse_nibble12\": 173,\n",
      "    \"f0_wrdqdbi_deskew_dq_odly_bit25\": 144,\n",
      "    \"f0_rd_comp_fall_ctp_nib_10\": [\n",
      "        90,\n",
      "        176\n",
      "    ],\n",
      "    \"f1_rdcmplx_pqtr_right_short_nibble15\": 0,\n",
      "    \"f1_rddq_nqtr_right_fcrse_nibble03\": 0,\n",
      "    \"f0_wrdqdbi_odly_dq_final_bit34\": 108,\n",
      "    \"f1_rdcmplx_pqtr_right_short_fcrse_nibble04\": 0,\n",
      "    \"rdmargin_pqtr_right_nibble13\": 0,\n",
      "    \"f0_rd_simp_fall_rm_nib_03\": [\n",
      "        74,\n",
      "        148\n",
      "    ],\n",
      "    \"f0_wrprbs_left_margin_byte0\": 0,\n",
      "    \"f0_rd_comp_rise_rm_nib_00\": [\n",
      "        67,\n",
      "        133\n",
      "    ],\n",
      "    \"f1_rdcmplx_nqtr_left_short_nibble06\": 0,\n",
      "    \"f1_rdcmplx_pqtr_right_short_fcrse_nibble15\": 0,\n",
      "    \"f0_rddq_nqtr_final_nibble15\": 99,\n",
      "    \"rdvref_left_vref_def_nibble13\": 0,\n",
      "    \"rdvref_left_vref_upp_bound_nibble08\": 0,\n",
      "    \"f0_wrdqdbi_stg3_dq_odly_bit38\": 97,\n",
      "    \"f1_mr0_17_9\": 0,\n",
      "    \"f0_wrdqdbi_left_edge_dq_bit38\": 111,\n",
      "    \"dc0_perf_mon_3\": 0,\n",
      "    \"rdvref_left_vref_low_bound_nibble02\": 0,\n",
      "    \"reg_safe_config4\": 604004710,\n",
      "    \"f0_wrdqdbi_deskew_dq_odly_bit09\": 126,\n",
      "    \"f1_rddq_idelay_final_bit10\": 0,\n",
      "    \"f0_rd_comp_fall_ctp_nib_06\": [\n",
      "        85,\n",
      "        170\n",
      "    ],\n",
      "    \"f0_rddq_pqtr_final_nibble15\": 92,\n",
      "    \"f0_wrcmplx_odly_dq_final_bit44\": 62,\n",
      "    \"bisc_idly4_align_nibble02\": 73,\n",
      "    \"f0_rd_comp_fall_ctp_nib_03\": [\n",
      "        90,\n",
      "        180\n",
      "    ],\n",
      "    \"f0_wrlvl_fine_final_rank0_byte0\": 57,\n",
      "    \"rdmargin_pqtr_right_nibble07\": 0,\n",
      "    \"f1_dqsgate_stg2_read_lat_rank0_byte7\": 0,\n",
      "    \"f0_wrlvl_fine_final_rank0_byte7\": 63,\n",
      "    \"cal_stage_time_01\": 70,\n",
      "    \"f0_rdcmplx_pqtr_right_short_nibble04\": 168,\n",
      "    \"f0_wr_simp_ctp_byte_03\": [\n",
      "        80,\n",
      "        161\n",
      "    ],\n",
      "    \"f1_rdcmplx_nqtr_left_nibble04\": 0,\n",
      "    \"rdvref_vref_upp_bound_nibble06\": 0,\n",
      "    \"f0_wrdqdbi_stg3_dq_odly_bit53\": 40,\n",
      "    \"f1_wrdqdbi_left_edge_dq_bit02\": 0,\n",
      "    \"tag_ver_0\": 1,\n",
      "    \"f0_write_latency\": 1,\n",
      "    \"vttrack_rldlyqtr_max_nibble11\": 81,\n",
      "    \"f0_rddq_idelay_final_bit18\": 86,\n",
      "    \"f0_wrdqdbi_stg3_dq_odly_bit60\": 63,\n",
      "    \"f1_rdcmplx_pqtr_right_nibble03\": 0,\n",
      "    \"f0_rd_simp_fall_rm_nib_05\": [\n",
      "        74,\n",
      "        146\n",
      "    ],\n",
      "    \"wrvref_left_vref_upp_bound_rank0_byte3\": 0,\n",
      "    \"f0_rdcmplx_pqtr_left_nibble15\": 22,\n",
      "    \"f0_wrprbs_left_margin_byte1\": 0,\n",
      "    \"f0_calbisc_rl_dly_nqtr_nibble11\": 78,\n",
      "    \"f1_wrdqdbi_deskew_dq_odly_fcrse_bit46\": 0,\n",
      "    \"reg_safe_config1\": 1086456584,\n",
      "    \"f1_calbisc_rl_dly_qtr_nibble01\": 0,\n",
      "    \"cal_stage_time_41\": 0,\n",
      "    \"f0_rddq_nqtr_left_nibble10\": 30,\n",
      "    \"cal_stage.07_F0_WRITE_LATENCY_CAL\": \"Pass\",\n",
      "    \"f0_rd_comp_fall_ctp_nib_04\": [\n",
      "        90,\n",
      "        180\n",
      "    ],\n",
      "    \"iobmap_dq_69_68\": 0,\n",
      "    \"f0_wr_simp_rm_byte_03\": [\n",
      "        70,\n",
      "        141\n",
      "    ],\n",
      "    \"f0_rdprbs_pqtr_left_margin_nibble05\": 0\n",
      "}\n"
     ]
    }
   ],
   "source": [
    "props = ddr.ddr_node.get_property_group([])\n",
    "json_props = json.dumps(props, indent=4)\n",
    "print(json_props)"
   ]
  }
 ],
 "metadata": {
  "jupytext": {
   "cell_metadata_filter": "-all",
   "formats": "ipynb,py"
  },
  "kernelspec": {
   "display_name": "Python 3 (ipykernel)",
   "language": "python",
   "name": "python3"
  },
  "language_info": {
   "codemirror_mode": {
    "name": "ipython",
    "version": 3
   },
   "file_extension": ".py",
   "mimetype": "text/x-python",
   "name": "python",
   "nbconvert_exporter": "python",
   "pygments_lexer": "ipython3",
   "version": "3.9.16"
  },
  "papermill": {
   "default_parameters": {},
   "duration": 21.224206,
   "end_time": "2023-06-07T21:05:16.487935",
   "environment_variables": {},
   "exception": null,
   "input_path": "ddr_example.ipynb",
   "output_path": "output",
   "parameters": {},
   "start_time": "2023-06-07T21:04:55.263729",
   "version": "2.4.0"
  },
  "widgets": {
   "application/vnd.jupyter.widget-state+json": {
    "state": {
     "bdfbb08c601f4505b7afe8358af5a50b": {
      "model_module": "@jupyter-widgets/output",
      "model_module_version": "1.0.0",
      "model_name": "OutputModel",
      "state": {
       "_dom_classes": [],
       "_model_module": "@jupyter-widgets/output",
       "_model_module_version": "1.0.0",
       "_model_name": "OutputModel",
       "_view_count": null,
       "_view_module": "@jupyter-widgets/output",
       "_view_module_version": "1.0.0",
       "_view_name": "OutputView",
       "layout": "IPY_MODEL_cf9de2b0a3a04712835890634e09e551",
       "msg_id": "",
       "outputs": [
        {
         "data": {
          "text/html": "<pre style=\"white-space:pre;overflow-x:auto;line-height:normal;font-family:Menlo,'DejaVu Sans Mono',consolas,'Courier New',monospace\">Device program progress <span style=\"color: #729c1f; text-decoration-color: #729c1f\">━━━━━━━━━━━━━━━━━━━━━━━━━━━━━━━━━━━━━━━━</span> <span style=\"color: #ff00ff; text-decoration-color: #ff00ff; font-weight: bold\">100%</span> <span style=\"color: #008000; text-decoration-color: #008000; font-weight: bold\">Done</span>\n</pre>\n",
          "text/plain": "<rich.jupyter.JupyterRenderable at 0x7fa9c43e5ac0>"
         },
         "metadata": {},
         "output_type": "display_data"
        }
       ]
      }
     },
     "cf9de2b0a3a04712835890634e09e551": {
      "model_module": "@jupyter-widgets/base",
      "model_module_version": "1.2.0",
      "model_name": "LayoutModel",
      "state": {
       "_model_module": "@jupyter-widgets/base",
       "_model_module_version": "1.2.0",
       "_model_name": "LayoutModel",
       "_view_count": null,
       "_view_module": "@jupyter-widgets/base",
       "_view_module_version": "1.2.0",
       "_view_name": "LayoutView",
       "align_content": null,
       "align_items": null,
       "align_self": null,
       "border": null,
       "bottom": null,
       "display": null,
       "flex": null,
       "flex_flow": null,
       "grid_area": null,
       "grid_auto_columns": null,
       "grid_auto_flow": null,
       "grid_auto_rows": null,
       "grid_column": null,
       "grid_gap": null,
       "grid_row": null,
       "grid_template_areas": null,
       "grid_template_columns": null,
       "grid_template_rows": null,
       "height": null,
       "justify_content": null,
       "justify_items": null,
       "left": null,
       "margin": null,
       "max_height": null,
       "max_width": null,
       "min_height": null,
       "min_width": null,
       "object_fit": null,
       "object_position": null,
       "order": null,
       "overflow": null,
       "overflow_x": null,
       "overflow_y": null,
       "padding": null,
       "right": null,
       "top": null,
       "visibility": null,
       "width": null
      }
     }
    },
    "version_major": 2,
    "version_minor": 0
   }
  }
 },
 "nbformat": 4,
 "nbformat_minor": 5
}
