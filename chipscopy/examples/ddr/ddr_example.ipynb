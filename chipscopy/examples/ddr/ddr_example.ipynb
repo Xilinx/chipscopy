{
 "cells": [
  {
   "cell_type": "markdown",
   "metadata": {},
   "source": [
    "<link rel=\"preconnect\" href=\"https://fonts.gstatic.com\">\n",
    "<link href=\"https://fonts.googleapis.com/css2?family=Fira+Code&display=swap\" rel=\"stylesheet\">\n",
    "\n",
    "### License\n",
    "\n",
    "<p style=\"font-family: 'Fira Code', monospace; font-size: 1.2rem\">\n",
    "Copyright 2021 Xilinx, Inc.<br><br>\n",
    "Licensed under the Apache License, Version 2.0 (the \"License\");<br>\n",
    "you may not use this file except in compliance with the License.<br><br>\n",
    "You may obtain a copy of the License at <a href=\"http://www.apache.org/licenses/LICENSE-2.0\"?>http://www.apache.org/licenses/LICENSE-2.0</a><br><br>\n",
    "Unless required by applicable law or agreed to in writing, software<br>\n",
    "distributed under the License is distributed on an \"AS IS\" BASIS,<br>\n",
    "WITHOUT WARRANTIES OR CONDITIONS OF ANY KIND, either express or implied.<br>\n",
    "See the License for the specific language governing permissions and<br>\n",
    "limitations under the License.<br>\n",
    "</p>\n"
   ]
  },
  {
   "cell_type": "markdown",
   "metadata": {},
   "source": [
    "# ChipScoPy DDR Reporting Example\n",
    "\n",
    "\n",
    "<img src=\"../img/api_overview.png\" width=\"500\" align=\"left\">"
   ]
  },
  {
   "cell_type": "markdown",
   "metadata": {},
   "source": [
    "## Description\n",
    "This demo shows how to print and report DDR calibration status and report detailed information.\n",
    "\n",
    "\n",
    "## Requirements\n",
    "- Local or remote Xilinx Versal board, such as a VCK190\n",
    "- Xilinx hw_server 2022.1 installed and running\n",
    "- Xilinx cs_server 2022.1 installed and running\n",
    "- Python 3.8 or greater installed\n",
    "- ChipScoPy 2022.1 installed\n",
    "- Jupyter notebook support installed - Please do so, using the command `pip install chipscopy[jupyter]`"
   ]
  },
  {
   "cell_type": "markdown",
   "metadata": {},
   "source": [
    "## 1 - Initialization: Imports and File Paths\n",
    "\n",
    "After this step,\n",
    "- Required functions and classes are imported\n",
    "- Paths to server(s) and files are set correctly"
   ]
  },
  {
   "cell_type": "code",
   "execution_count": 1,
   "metadata": {},
   "outputs": [],
   "source": [
    "import pprint\n",
    "import os\n",
    "import json\n",
    "from chipscopy import create_session, report_versions\n",
    "from chipscopy import get_design_files"
   ]
  },
  {
   "cell_type": "code",
   "execution_count": 2,
   "metadata": {},
   "outputs": [
    {
     "name": "stdout",
     "output_type": "stream",
     "text": [
      "HW_URL: TCP:localhost:3121\n",
      "CS_URL: TCP:localhost:3042\n",
      "PROGRAMMING_FILE: C:\\wrk\\chipscopy\\chipscopy\\examples\\designs\\vck190\\production\\chipscopy_ced\\chipscopy_wrapper.pdi\n",
      "PROBES_FILE:C:\\wrk\\chipscopy\\chipscopy\\examples\\designs\\vck190\\production\\chipscopy_ced\\chipscopy_wrapper.ltx\n"
     ]
    }
   ],
   "source": [
    "# Specify locations of the running hw_server and cs_server below.\n",
    "CS_URL = os.getenv(\"CS_SERVER_URL\", \"TCP:localhost:3042\")\n",
    "HW_URL = os.getenv(\"HW_SERVER_URL\", \"TCP:localhost:3121\")\n",
    "\n",
    "# The get_design_files() function tries to find the PDI and LTX files. In non-standard\n",
    "# configurations, you can put the path for PROGRAMMING_FILE and PROBES_FILE below.\n",
    "design_files = get_design_files(\"vck190/production/chipscopy_ced\")\n",
    "\n",
    "PDI_FILE = design_files.programming_file\n",
    "LTX_FILE = design_files.probes_file\n",
    "\n",
    "print(f\"HW_URL: {HW_URL}\")\n",
    "print(f\"CS_URL: {CS_URL}\")\n",
    "print(f\"PROGRAMMING_FILE: {PDI_FILE}\")\n",
    "print(f\"PROBES_FILE:{LTX_FILE}\")"
   ]
  },
  {
   "cell_type": "markdown",
   "metadata": {},
   "source": [
    "## 2 - Create a session and connect to the hw_server and cs_server\n",
    "\n",
    "The session is a container that keeps track of devices and debug cores.\n",
    "After this step,\n",
    "- Session is initialized and connected to server(s)\n",
    "- Versions are detected and reported to stdout"
   ]
  },
  {
   "cell_type": "code",
   "execution_count": 3,
   "metadata": {},
   "outputs": [
    {
     "data": {
      "text/html": [
       "<pre style=\"white-space:pre;overflow-x:auto;line-height:normal;font-family:Menlo,'DejaVu Sans Mono',consolas,'Courier New',monospace\">\n",
       "\n",
       "</pre>\n"
      ],
      "text/plain": [
       "<rich.jupyter.JupyterRenderable at 0x28aa7b5fb20>"
      ]
     },
     "metadata": {},
     "output_type": "display_data"
    },
    {
     "data": {
      "text/html": [
       "<pre style=\"white-space:pre;overflow-x:auto;line-height:normal;font-family:Menlo,'DejaVu Sans Mono',consolas,'Courier New',monospace\"><span style=\"font-style: italic\">                         ChipScoPy Version Information                          </span>\n",
       "┌────────────────────────────┬─────────────────────────────────────────────────┐\n",
       "│<span style=\"font-weight: bold\">                     Entity </span>│<span style=\"font-weight: bold\"> Version                                         </span>│\n",
       "├────────────────────────────┼─────────────────────────────────────────────────┤\n",
       "│                  ChipScoPy │ ┌───────────┬──────────────────────┐            │\n",
       "│                            │ │<span style=\"font-weight: bold\"> Attribute </span>│<span style=\"font-weight: bold\"> Value                </span>│            │\n",
       "│                            │ ├───────────┼──────────────────────┤            │\n",
       "│                            │ │     Build │ 2021.1.1627520566    │            │\n",
       "│                            │ │ Timestamp │ Jul 28 2021-19:02:46 │            │\n",
       "│                            │ └───────────┴──────────────────────┘            │\n",
       "│                            │                                                 │\n",
       "│ hw_server @ localhost:3121 │ ┌───────────┬─────────────────────────────────┐ │\n",
       "│                            │ │<span style=\"font-weight: bold\"> Attribute </span>│<span style=\"font-weight: bold\"> Value                           </span>│ │\n",
       "│                            │ ├───────────┼─────────────────────────────────┤ │\n",
       "│                            │ │    Status │ Connected                       │ │\n",
       "│                            │ │     Build │ 1641456835                      │ │\n",
       "│                            │ │   Version │ 2022.1                          │ │\n",
       "│                            │ │ Timestamp │ Thu 06 Jan 2022 08:13:55 AM UTC │ │\n",
       "│                            │ └───────────┴─────────────────────────────────┘ │\n",
       "│                            │                                                 │\n",
       "│ cs_server @ localhost:3042 │ ┌───────────────┬──────────────────────┐        │\n",
       "│                            │ │<span style=\"font-weight: bold\">     Attribute </span>│<span style=\"font-weight: bold\"> Value                </span>│        │\n",
       "│                            │ ├───────────────┼──────────────────────┤        │\n",
       "│                            │ │        Status │ Connected            │        │\n",
       "│                            │ │         Build │ 1649790728           │        │\n",
       "│                            │ │       Version │ 2022.1.0             │        │\n",
       "│                            │ │     Timestamp │ Apr 12 2022-13:12:08 │        │\n",
       "│                            │ │       Package │ 2022.1.1649790728    │        │\n",
       "│                            │ │ Artifact type │ pyinstaller          │        │\n",
       "│                            │ └───────────────┴──────────────────────┘        │\n",
       "└────────────────────────────┴─────────────────────────────────────────────────┘\n",
       "</pre>\n"
      ],
      "text/plain": [
       "<rich.jupyter.JupyterRenderable at 0x28aa7b5fb20>"
      ]
     },
     "metadata": {},
     "output_type": "display_data"
    },
    {
     "data": {
      "text/html": [
       "<pre style=\"white-space:pre;overflow-x:auto;line-height:normal;font-family:Menlo,'DejaVu Sans Mono',consolas,'Courier New',monospace\">\n",
       "\n",
       "</pre>\n"
      ],
      "text/plain": [
       "<rich.jupyter.JupyterRenderable at 0x28aa7b71ee0>"
      ]
     },
     "metadata": {},
     "output_type": "display_data"
    }
   ],
   "source": [
    "# Start of the connection\n",
    "session = create_session(cs_server_url=CS_URL, hw_server_url=HW_URL)\n",
    "report_versions(session)"
   ]
  },
  {
   "cell_type": "markdown",
   "metadata": {},
   "source": [
    "## 3 - Program the device with the example design\n",
    "\n",
    "After this step,\n",
    "- Device is programmed with the example programming file"
   ]
  },
  {
   "cell_type": "code",
   "execution_count": 4,
   "metadata": {},
   "outputs": [
    {
     "data": {
      "text/html": [
       "<pre style=\"white-space:pre;overflow-x:auto;line-height:normal;font-family:Menlo,'DejaVu Sans Mono',consolas,'Courier New',monospace\">\n",
       "<span style=\"font-weight: bold\">--&gt; INFO: </span>Programming device with: C:\\wrk\\chipscopy\\chipscopy\\examples\\designs\\vck190\\product\n",
       "ion\\chipscopy_ced\\chipscopy_wrapper.pdi\n",
       "    \n",
       "</pre>\n"
      ],
      "text/plain": [
       "<rich.jupyter.JupyterRenderable at 0x28aa7cbedc0>"
      ]
     },
     "metadata": {},
     "output_type": "display_data"
    },
    {
     "data": {
      "application/vnd.jupyter.widget-view+json": {
       "model_id": "8085a04724bc4d6681a7479fa4fea48d",
       "version_major": 2,
       "version_minor": 0
      },
      "text/plain": [
       "Output()"
      ]
     },
     "metadata": {},
     "output_type": "display_data"
    }
   ],
   "source": [
    "# Typical case - one device on the board - get it.\n",
    "versal_device = session.devices.filter_by(family=\"versal\").get()\n",
    "versal_device.program(PDI_FILE)"
   ]
  },
  {
   "cell_type": "markdown",
   "metadata": {},
   "source": [
    "## 4 - Discover Debug Cores\n",
    "\n",
    "Debug core discovery initializes the chipscope server debug cores. This brings debug cores in the chipscope server online.\n",
    "\n",
    "After this step,\n",
    "\n",
    "- The cs_server is initialized and ready for use"
   ]
  },
  {
   "cell_type": "code",
   "execution_count": 5,
   "metadata": {},
   "outputs": [
    {
     "name": "stdout",
     "output_type": "stream",
     "text": [
      "Debug cores setup and ready for use.\n"
     ]
    }
   ],
   "source": [
    "versal_device.discover_and_setup_cores()\n",
    "print(f\"Debug cores setup and ready for use.\")"
   ]
  },
  {
   "cell_type": "markdown",
   "metadata": {},
   "source": [
    "## 5 - Show enabled DDRs in the device. Pick one to use"
   ]
  },
  {
   "cell_type": "code",
   "execution_count": 6,
   "metadata": {},
   "outputs": [
    {
     "name": "stdout",
     "output_type": "stream",
     "text": [
      "ddr_0   Enabled: True\n",
      "ddr_1   Enabled: False\n",
      "ddr_2   Enabled: False\n",
      "ddr_3   Enabled: False\n",
      "Using Enabled DDR:  ddr_0\n"
     ]
    }
   ],
   "source": [
    "ddr_list = versal_device.ddrs\n",
    "for ddr in ddr_list:\n",
    "    print(ddr, \"  Enabled:\", ddr.is_enabled)\n",
    "\n",
    "# Grab the first enabled DDR\n",
    "for ddr in ddr_list:\n",
    "    if ddr.is_enabled:\n",
    "        print(\"Using Enabled DDR: \", ddr)\n",
    "        break"
   ]
  },
  {
   "cell_type": "markdown",
   "metadata": {},
   "source": [
    "## 6 - Getting the Calibration Status\n",
    "\n",
    "There are several methods available to collect memory calibration information."
   ]
  },
  {
   "cell_type": "markdown",
   "metadata": {},
   "source": [
    "### Method 1 - Calibration PASS/FAIL status"
   ]
  },
  {
   "cell_type": "code",
   "execution_count": 7,
   "metadata": {},
   "outputs": [
    {
     "name": "stdout",
     "output_type": "stream",
     "text": [
      "ddr_0 calibration status: PASS\n"
     ]
    }
   ],
   "source": [
    "# Method 1 - Use Status string base API directly\n",
    "print(ddr, \"calibration status:\", ddr.get_cal_status())"
   ]
  },
  {
   "cell_type": "markdown",
   "metadata": {},
   "source": [
    "### Method 2 - Calibration from the status property group"
   ]
  },
  {
   "cell_type": "code",
   "execution_count": 8,
   "metadata": {},
   "outputs": [
    {
     "name": "stdout",
     "output_type": "stream",
     "text": [
      "{ 'cal_error_msg': 'None',\n",
      "  'cal_message': 'No errors detected during calibration.',\n",
      "  'cal_status': 'PASS',\n",
      "  'dqs_status': 'Running',\n",
      "  'health_status': 'GOOD',\n",
      "  'track_enable': 'UB ISR Tracking, DDRMC ISR Tracking, DQS Gate Tracking, '\n",
      "                  'Post-Cal Status'}\n"
     ]
    }
   ],
   "source": [
    "# Use Property Group to get dictionary base of results\n",
    "props = ddr.ddr_node.get_property_group([\"status\"])\n",
    "print(pprint.pformat(props, indent=2))"
   ]
  },
  {
   "cell_type": "markdown",
   "metadata": {},
   "source": [
    "### Method 3 - Detailed calibration status for each stage"
   ]
  },
  {
   "cell_type": "code",
   "execution_count": 9,
   "metadata": {},
   "outputs": [
    {
     "name": "stdout",
     "output_type": "stream",
     "text": [
      "[ ('cal_stage.01_F0_PHY_BISC', 'Pass'),\n",
      "  ('cal_stage.02_F0_MEM_INIT', 'Pass'),\n",
      "  ('cal_stage.03_F0_DQS_GATE_CAL', 'Pass'),\n",
      "  ('cal_stage.04_F0_WRITE_LEVELING', 'Pass'),\n",
      "  ('cal_stage.05_F0_READ_DQ_CAL', 'Pass'),\n",
      "  ('cal_stage.06_F0_WRITE_DQ_DBI_CAL', 'Pass'),\n",
      "  ('cal_stage.07_F0_WRITE_LATENCY_CAL', 'Pass'),\n",
      "  ('cal_stage.08_F0_READ_DQ_DBI_CAL_COMPLEX', 'Pass'),\n",
      "  ('cal_stage.09_F0_WRITE_DQ_DBI_CAL_COMPLEX', 'Pass'),\n",
      "  ('cal_stage.10_EN_VT_TRACK', 'Pass'),\n",
      "  ('cal_stage.11_READ_DQS_TRACK', 'Pass'),\n",
      "  ('cal_stage.12_CAL_DONE', 'Pass')]\n"
     ]
    }
   ],
   "source": [
    "# Use get Cal Stages API directly to also get dictionary results\n",
    "props = ddr.get_cal_stages()\n",
    "print(pprint.pformat(sorted(props.items()), indent=2))"
   ]
  },
  {
   "cell_type": "markdown",
   "metadata": {},
   "source": [
    "## 7 - Generate Full DDRMC Report\n",
    "\n",
    "The report() API call creates a full DDRMC status report to stdout or a file. This report includes memory configuration, margin analysis, calibration, and health status information."
   ]
  },
  {
   "cell_type": "code",
   "execution_count": 10,
   "metadata": {
    "scrolled": false
   },
   "outputs": [
    {
     "data": {
      "text/html": [
       "<pre style=\"white-space:pre;overflow-x:auto;line-height:normal;font-family:Menlo,'DejaVu Sans Mono',consolas,'Courier New',monospace\">-------------------\n",
       "\n",
       "</pre>\n"
      ],
      "text/plain": [
       "<rich.jupyter.JupyterRenderable at 0x28aa8e3d2b0>"
      ]
     },
     "metadata": {},
     "output_type": "display_data"
    },
    {
     "data": {
      "text/html": [
       "<pre style=\"white-space:pre;overflow-x:auto;line-height:normal;font-family:Menlo,'DejaVu Sans Mono',consolas,'Courier New',monospace\"> DDRMC Status \n",
       "\n",
       "</pre>\n"
      ],
      "text/plain": [
       "<rich.jupyter.JupyterRenderable at 0x28aa7cbe0a0>"
      ]
     },
     "metadata": {},
     "output_type": "display_data"
    },
    {
     "data": {
      "text/html": [
       "<pre style=\"white-space:pre;overflow-x:auto;line-height:normal;font-family:Menlo,'DejaVu Sans Mono',consolas,'Courier New',monospace\">-------------------\n",
       "\n",
       "</pre>\n"
      ],
      "text/plain": [
       "<rich.jupyter.JupyterRenderable at 0x28aa7af6fd0>"
      ]
     },
     "metadata": {},
     "output_type": "display_data"
    },
    {
     "data": {
      "text/html": [
       "<pre style=\"white-space:pre;overflow-x:auto;line-height:normal;font-family:Menlo,'DejaVu Sans Mono',consolas,'Courier New',monospace\">Calibration Status:   PASS \n",
       "\n",
       "</pre>\n"
      ],
      "text/plain": [
       "<rich.jupyter.JupyterRenderable at 0x28aa7da7a90>"
      ]
     },
     "metadata": {},
     "output_type": "display_data"
    },
    {
     "data": {
      "text/html": [
       "<pre style=\"white-space:pre;overflow-x:auto;line-height:normal;font-family:Menlo,'DejaVu Sans Mono',consolas,'Courier New',monospace\">Overall Health:   GOOD \n",
       "\n",
       "</pre>\n"
      ],
      "text/plain": [
       "<rich.jupyter.JupyterRenderable at 0x28aa8e3df10>"
      ]
     },
     "metadata": {},
     "output_type": "display_data"
    },
    {
     "data": {
      "text/html": [
       "<pre style=\"white-space:pre;overflow-x:auto;line-height:normal;font-family:Menlo,'DejaVu Sans Mono',consolas,'Courier New',monospace\">Message:   No errors detected during calibration. \n",
       "\n",
       "</pre>\n"
      ],
      "text/plain": [
       "<rich.jupyter.JupyterRenderable at 0x28aa7da7790>"
      ]
     },
     "metadata": {},
     "output_type": "display_data"
    },
    {
     "data": {
      "text/html": [
       "<pre style=\"white-space:pre;overflow-x:auto;line-height:normal;font-family:Menlo,'DejaVu Sans Mono',consolas,'Courier New',monospace\">\n",
       "-------------------\n",
       "\n",
       "</pre>\n"
      ],
      "text/plain": [
       "<rich.jupyter.JupyterRenderable at 0x28aa7c4a160>"
      ]
     },
     "metadata": {},
     "output_type": "display_data"
    },
    {
     "data": {
      "text/html": [
       "<pre style=\"white-space:pre;overflow-x:auto;line-height:normal;font-family:Menlo,'DejaVu Sans Mono',consolas,'Courier New',monospace\"> Status Registers\n",
       "\n",
       "</pre>\n"
      ],
      "text/plain": [
       "<rich.jupyter.JupyterRenderable at 0x28aa7c4a700>"
      ]
     },
     "metadata": {},
     "output_type": "display_data"
    },
    {
     "data": {
      "text/html": [
       "<pre style=\"white-space:pre;overflow-x:auto;line-height:normal;font-family:Menlo,'DejaVu Sans Mono',consolas,'Courier New',monospace\">-------------------\n",
       "\n",
       "</pre>\n"
      ],
      "text/plain": [
       "<rich.jupyter.JupyterRenderable at 0x28aa7c4aca0>"
      ]
     },
     "metadata": {},
     "output_type": "display_data"
    },
    {
     "data": {
      "text/html": [
       "<pre style=\"white-space:pre;overflow-x:auto;line-height:normal;font-family:Menlo,'DejaVu Sans Mono',consolas,'Courier New',monospace\">DDRMC ISR Table\n",
       "\n",
       "</pre>\n"
      ],
      "text/plain": [
       "<rich.jupyter.JupyterRenderable at 0x28aa7c4ac10>"
      ]
     },
     "metadata": {},
     "output_type": "display_data"
    },
    {
     "data": {
      "text/html": [
       "<pre style=\"white-space:pre;overflow-x:auto;line-height:normal;font-family:Menlo,'DejaVu Sans Mono',consolas,'Courier New',monospace\">   ddrmc_isr_ce0_ecc0 :   <span style=\"color: #000080; text-decoration-color: #000080; font-weight: bold\">0</span>\n",
       "</pre>\n"
      ],
      "text/plain": [
       "<rich.jupyter.JupyterRenderable at 0x28aa8e4e130>"
      ]
     },
     "metadata": {},
     "output_type": "display_data"
    },
    {
     "data": {
      "text/html": [
       "<pre style=\"white-space:pre;overflow-x:auto;line-height:normal;font-family:Menlo,'DejaVu Sans Mono',consolas,'Courier New',monospace\">   ddrmc_isr_ce0_ecc1 :   <span style=\"color: #000080; text-decoration-color: #000080; font-weight: bold\">0</span>\n",
       "</pre>\n"
      ],
      "text/plain": [
       "<rich.jupyter.JupyterRenderable at 0x28aa8e4e0a0>"
      ]
     },
     "metadata": {},
     "output_type": "display_data"
    },
    {
     "data": {
      "text/html": [
       "<pre style=\"white-space:pre;overflow-x:auto;line-height:normal;font-family:Menlo,'DejaVu Sans Mono',consolas,'Courier New',monospace\">   ddrmc_isr_ce1_ecc0 :   <span style=\"color: #000080; text-decoration-color: #000080; font-weight: bold\">0</span>\n",
       "</pre>\n"
      ],
      "text/plain": [
       "<rich.jupyter.JupyterRenderable at 0x28aa8e4e760>"
      ]
     },
     "metadata": {},
     "output_type": "display_data"
    },
    {
     "data": {
      "text/html": [
       "<pre style=\"white-space:pre;overflow-x:auto;line-height:normal;font-family:Menlo,'DejaVu Sans Mono',consolas,'Courier New',monospace\">   ddrmc_isr_ce1_ecc1 :   <span style=\"color: #000080; text-decoration-color: #000080; font-weight: bold\">0</span>\n",
       "</pre>\n"
      ],
      "text/plain": [
       "<rich.jupyter.JupyterRenderable at 0x28aa8e4e880>"
      ]
     },
     "metadata": {},
     "output_type": "display_data"
    },
    {
     "data": {
      "text/html": [
       "<pre style=\"white-space:pre;overflow-x:auto;line-height:normal;font-family:Menlo,'DejaVu Sans Mono',consolas,'Courier New',monospace\">   ddrmc_isr_ch0_data_par :   <span style=\"color: #000080; text-decoration-color: #000080; font-weight: bold\">0</span>\n",
       "</pre>\n"
      ],
      "text/plain": [
       "<rich.jupyter.JupyterRenderable at 0x28aa8e4e190>"
      ]
     },
     "metadata": {},
     "output_type": "display_data"
    },
    {
     "data": {
      "text/html": [
       "<pre style=\"white-space:pre;overflow-x:auto;line-height:normal;font-family:Menlo,'DejaVu Sans Mono',consolas,'Courier New',monospace\">   ddrmc_isr_ch1_data_par :   <span style=\"color: #000080; text-decoration-color: #000080; font-weight: bold\">0</span>\n",
       "</pre>\n"
      ],
      "text/plain": [
       "<rich.jupyter.JupyterRenderable at 0x28aa8e4e730>"
      ]
     },
     "metadata": {},
     "output_type": "display_data"
    },
    {
     "data": {
      "text/html": [
       "<pre style=\"white-space:pre;overflow-x:auto;line-height:normal;font-family:Menlo,'DejaVu Sans Mono',consolas,'Courier New',monospace\">   ddrmc_isr_dc_cmd0_fatal :   <span style=\"color: #000080; text-decoration-color: #000080; font-weight: bold\">0</span>\n",
       "</pre>\n"
      ],
      "text/plain": [
       "<rich.jupyter.JupyterRenderable at 0x28aa8e4e9a0>"
      ]
     },
     "metadata": {},
     "output_type": "display_data"
    },
    {
     "data": {
      "text/html": [
       "<pre style=\"white-space:pre;overflow-x:auto;line-height:normal;font-family:Menlo,'DejaVu Sans Mono',consolas,'Courier New',monospace\">   ddrmc_isr_dc_cmd1_fatal :   <span style=\"color: #000080; text-decoration-color: #000080; font-weight: bold\">0</span>\n",
       "</pre>\n"
      ],
      "text/plain": [
       "<rich.jupyter.JupyterRenderable at 0x28aa8e4ea00>"
      ]
     },
     "metadata": {},
     "output_type": "display_data"
    },
    {
     "data": {
      "text/html": [
       "<pre style=\"white-space:pre;overflow-x:auto;line-height:normal;font-family:Menlo,'DejaVu Sans Mono',consolas,'Courier New',monospace\">   ddrmc_isr_dram_parity0 :   <span style=\"color: #000080; text-decoration-color: #000080; font-weight: bold\">0</span>\n",
       "</pre>\n"
      ],
      "text/plain": [
       "<rich.jupyter.JupyterRenderable at 0x28aa8e4e310>"
      ]
     },
     "metadata": {},
     "output_type": "display_data"
    },
    {
     "data": {
      "text/html": [
       "<pre style=\"white-space:pre;overflow-x:auto;line-height:normal;font-family:Menlo,'DejaVu Sans Mono',consolas,'Courier New',monospace\">   ddrmc_isr_dram_parity1 :   <span style=\"color: #000080; text-decoration-color: #000080; font-weight: bold\">0</span>\n",
       "</pre>\n"
      ],
      "text/plain": [
       "<rich.jupyter.JupyterRenderable at 0x28aa8e4e940>"
      ]
     },
     "metadata": {},
     "output_type": "display_data"
    },
    {
     "data": {
      "text/html": [
       "<pre style=\"white-space:pre;overflow-x:auto;line-height:normal;font-family:Menlo,'DejaVu Sans Mono',consolas,'Courier New',monospace\">   ddrmc_isr_dram_parity_fatal_0 :   <span style=\"color: #000080; text-decoration-color: #000080; font-weight: bold\">0</span>\n",
       "</pre>\n"
      ],
      "text/plain": [
       "<rich.jupyter.JupyterRenderable at 0x28aa8e4e850>"
      ]
     },
     "metadata": {},
     "output_type": "display_data"
    },
    {
     "data": {
      "text/html": [
       "<pre style=\"white-space:pre;overflow-x:auto;line-height:normal;font-family:Menlo,'DejaVu Sans Mono',consolas,'Courier New',monospace\">   ddrmc_isr_dram_parity_fatal_1 :   <span style=\"color: #000080; text-decoration-color: #000080; font-weight: bold\">0</span>\n",
       "</pre>\n"
      ],
      "text/plain": [
       "<rich.jupyter.JupyterRenderable at 0x28aa8e4e2e0>"
      ]
     },
     "metadata": {},
     "output_type": "display_data"
    },
    {
     "data": {
      "text/html": [
       "<pre style=\"white-space:pre;overflow-x:auto;line-height:normal;font-family:Menlo,'DejaVu Sans Mono',consolas,'Courier New',monospace\">   ddrmc_isr_na_cmd :   <span style=\"color: #000080; text-decoration-color: #000080; font-weight: bold\">0</span>\n",
       "</pre>\n"
      ],
      "text/plain": [
       "<rich.jupyter.JupyterRenderable at 0x28aa8e4e250>"
      ]
     },
     "metadata": {},
     "output_type": "display_data"
    },
    {
     "data": {
      "text/html": [
       "<pre style=\"white-space:pre;overflow-x:auto;line-height:normal;font-family:Menlo,'DejaVu Sans Mono',consolas,'Courier New',monospace\">   ddrmc_isr_na_cmd0 :   <span style=\"color: #000080; text-decoration-color: #000080; font-weight: bold\">0</span>\n",
       "</pre>\n"
      ],
      "text/plain": [
       "<rich.jupyter.JupyterRenderable at 0x28aa8e4e700>"
      ]
     },
     "metadata": {},
     "output_type": "display_data"
    },
    {
     "data": {
      "text/html": [
       "<pre style=\"white-space:pre;overflow-x:auto;line-height:normal;font-family:Menlo,'DejaVu Sans Mono',consolas,'Courier New',monospace\">   ddrmc_isr_na_cmd1 :   <span style=\"color: #000080; text-decoration-color: #000080; font-weight: bold\">0</span>\n",
       "</pre>\n"
      ],
      "text/plain": [
       "<rich.jupyter.JupyterRenderable at 0x28aa8e4ea30>"
      ]
     },
     "metadata": {},
     "output_type": "display_data"
    },
    {
     "data": {
      "text/html": [
       "<pre style=\"white-space:pre;overflow-x:auto;line-height:normal;font-family:Menlo,'DejaVu Sans Mono',consolas,'Courier New',monospace\">   ddrmc_isr_na_cmd_fatal :   <span style=\"color: #000080; text-decoration-color: #000080; font-weight: bold\">0</span>\n",
       "</pre>\n"
      ],
      "text/plain": [
       "<rich.jupyter.JupyterRenderable at 0x28aa8e4e6a0>"
      ]
     },
     "metadata": {},
     "output_type": "display_data"
    },
    {
     "data": {
      "text/html": [
       "<pre style=\"white-space:pre;overflow-x:auto;line-height:normal;font-family:Menlo,'DejaVu Sans Mono',consolas,'Courier New',monospace\">   ddrmc_isr_nsu_0 :   <span style=\"color: #000080; text-decoration-color: #000080; font-weight: bold\">0</span>\n",
       "</pre>\n"
      ],
      "text/plain": [
       "<rich.jupyter.JupyterRenderable at 0x28aa8e4ebb0>"
      ]
     },
     "metadata": {},
     "output_type": "display_data"
    },
    {
     "data": {
      "text/html": [
       "<pre style=\"white-space:pre;overflow-x:auto;line-height:normal;font-family:Menlo,'DejaVu Sans Mono',consolas,'Courier New',monospace\">   ddrmc_isr_nsu_1 :   <span style=\"color: #000080; text-decoration-color: #000080; font-weight: bold\">0</span>\n",
       "</pre>\n"
      ],
      "text/plain": [
       "<rich.jupyter.JupyterRenderable at 0x28aa8e4ea90>"
      ]
     },
     "metadata": {},
     "output_type": "display_data"
    },
    {
     "data": {
      "text/html": [
       "<pre style=\"white-space:pre;overflow-x:auto;line-height:normal;font-family:Menlo,'DejaVu Sans Mono',consolas,'Courier New',monospace\">   ddrmc_isr_nsu_2 :   <span style=\"color: #000080; text-decoration-color: #000080; font-weight: bold\">0</span>\n",
       "</pre>\n"
      ],
      "text/plain": [
       "<rich.jupyter.JupyterRenderable at 0x28aa8e4e8b0>"
      ]
     },
     "metadata": {},
     "output_type": "display_data"
    },
    {
     "data": {
      "text/html": [
       "<pre style=\"white-space:pre;overflow-x:auto;line-height:normal;font-family:Menlo,'DejaVu Sans Mono',consolas,'Courier New',monospace\">   ddrmc_isr_nsu_3 :   <span style=\"color: #000080; text-decoration-color: #000080; font-weight: bold\">0</span>\n",
       "</pre>\n"
      ],
      "text/plain": [
       "<rich.jupyter.JupyterRenderable at 0x28aa8e4eb50>"
      ]
     },
     "metadata": {},
     "output_type": "display_data"
    },
    {
     "data": {
      "text/html": [
       "<pre style=\"white-space:pre;overflow-x:auto;line-height:normal;font-family:Menlo,'DejaVu Sans Mono',consolas,'Courier New',monospace\">   ddrmc_isr_nsu_fatal0 :   <span style=\"color: #000080; text-decoration-color: #000080; font-weight: bold\">0</span>\n",
       "</pre>\n"
      ],
      "text/plain": [
       "<rich.jupyter.JupyterRenderable at 0x28aa8e4e820>"
      ]
     },
     "metadata": {},
     "output_type": "display_data"
    },
    {
     "data": {
      "text/html": [
       "<pre style=\"white-space:pre;overflow-x:auto;line-height:normal;font-family:Menlo,'DejaVu Sans Mono',consolas,'Courier New',monospace\">   ddrmc_isr_nsu_fatal1 :   <span style=\"color: #000080; text-decoration-color: #000080; font-weight: bold\">0</span>\n",
       "</pre>\n"
      ],
      "text/plain": [
       "<rich.jupyter.JupyterRenderable at 0x28aa8e4eb80>"
      ]
     },
     "metadata": {},
     "output_type": "display_data"
    },
    {
     "data": {
      "text/html": [
       "<pre style=\"white-space:pre;overflow-x:auto;line-height:normal;font-family:Menlo,'DejaVu Sans Mono',consolas,'Courier New',monospace\">   ddrmc_isr_nsu_fatal2 :   <span style=\"color: #000080; text-decoration-color: #000080; font-weight: bold\">0</span>\n",
       "</pre>\n"
      ],
      "text/plain": [
       "<rich.jupyter.JupyterRenderable at 0x28aa8e4ecd0>"
      ]
     },
     "metadata": {},
     "output_type": "display_data"
    },
    {
     "data": {
      "text/html": [
       "<pre style=\"white-space:pre;overflow-x:auto;line-height:normal;font-family:Menlo,'DejaVu Sans Mono',consolas,'Courier New',monospace\">   ddrmc_isr_nsu_fatal3 :   <span style=\"color: #000080; text-decoration-color: #000080; font-weight: bold\">0</span>\n",
       "</pre>\n"
      ],
      "text/plain": [
       "<rich.jupyter.JupyterRenderable at 0x28aa8e4eaf0>"
      ]
     },
     "metadata": {},
     "output_type": "display_data"
    },
    {
     "data": {
      "text/html": [
       "<pre style=\"white-space:pre;overflow-x:auto;line-height:normal;font-family:Menlo,'DejaVu Sans Mono',consolas,'Courier New',monospace\">   ddrmc_isr_uc0_ecc0 :   <span style=\"color: #000080; text-decoration-color: #000080; font-weight: bold\">0</span>\n",
       "</pre>\n"
      ],
      "text/plain": [
       "<rich.jupyter.JupyterRenderable at 0x28aa8e4e7f0>"
      ]
     },
     "metadata": {},
     "output_type": "display_data"
    },
    {
     "data": {
      "text/html": [
       "<pre style=\"white-space:pre;overflow-x:auto;line-height:normal;font-family:Menlo,'DejaVu Sans Mono',consolas,'Courier New',monospace\">   ddrmc_isr_uc0_ecc1 :   <span style=\"color: #000080; text-decoration-color: #000080; font-weight: bold\">0</span>\n",
       "</pre>\n"
      ],
      "text/plain": [
       "<rich.jupyter.JupyterRenderable at 0x28aa8e4e700>"
      ]
     },
     "metadata": {},
     "output_type": "display_data"
    },
    {
     "data": {
      "text/html": [
       "<pre style=\"white-space:pre;overflow-x:auto;line-height:normal;font-family:Menlo,'DejaVu Sans Mono',consolas,'Courier New',monospace\">   ddrmc_isr_uc1_ecc0 :   <span style=\"color: #000080; text-decoration-color: #000080; font-weight: bold\">0</span>\n",
       "</pre>\n"
      ],
      "text/plain": [
       "<rich.jupyter.JupyterRenderable at 0x28aa8e4eca0>"
      ]
     },
     "metadata": {},
     "output_type": "display_data"
    },
    {
     "data": {
      "text/html": [
       "<pre style=\"white-space:pre;overflow-x:auto;line-height:normal;font-family:Menlo,'DejaVu Sans Mono',consolas,'Courier New',monospace\">   ddrmc_isr_uc1_ecc1 :   <span style=\"color: #000080; text-decoration-color: #000080; font-weight: bold\">0</span>\n",
       "</pre>\n"
      ],
      "text/plain": [
       "<rich.jupyter.JupyterRenderable at 0x28aa8e4ed60>"
      ]
     },
     "metadata": {},
     "output_type": "display_data"
    },
    {
     "data": {
      "text/html": [
       "<pre style=\"white-space:pre;overflow-x:auto;line-height:normal;font-family:Menlo,'DejaVu Sans Mono',consolas,'Courier New',monospace\">\n",
       "UB ISR Table\n",
       "\n",
       "</pre>\n"
      ],
      "text/plain": [
       "<rich.jupyter.JupyterRenderable at 0x28aa7c45340>"
      ]
     },
     "metadata": {},
     "output_type": "display_data"
    },
    {
     "data": {
      "text/html": [
       "<pre style=\"white-space:pre;overflow-x:auto;line-height:normal;font-family:Menlo,'DejaVu Sans Mono',consolas,'Courier New',monospace\">   ub_data_ce :   <span style=\"color: #000080; text-decoration-color: #000080; font-weight: bold\">0</span>\n",
       "</pre>\n"
      ],
      "text/plain": [
       "<rich.jupyter.JupyterRenderable at 0x28aa8e4edc0>"
      ]
     },
     "metadata": {},
     "output_type": "display_data"
    },
    {
     "data": {
      "text/html": [
       "<pre style=\"white-space:pre;overflow-x:auto;line-height:normal;font-family:Menlo,'DejaVu Sans Mono',consolas,'Courier New',monospace\">   ub_data_ue :   <span style=\"color: #000080; text-decoration-color: #000080; font-weight: bold\">0</span>\n",
       "</pre>\n"
      ],
      "text/plain": [
       "<rich.jupyter.JupyterRenderable at 0x28aa8e4ebb0>"
      ]
     },
     "metadata": {},
     "output_type": "display_data"
    },
    {
     "data": {
      "text/html": [
       "<pre style=\"white-space:pre;overflow-x:auto;line-height:normal;font-family:Menlo,'DejaVu Sans Mono',consolas,'Courier New',monospace\">   ub_instr_ce :   <span style=\"color: #000080; text-decoration-color: #000080; font-weight: bold\">0</span>\n",
       "</pre>\n"
      ],
      "text/plain": [
       "<rich.jupyter.JupyterRenderable at 0x28aa8e4ea30>"
      ]
     },
     "metadata": {},
     "output_type": "display_data"
    },
    {
     "data": {
      "text/html": [
       "<pre style=\"white-space:pre;overflow-x:auto;line-height:normal;font-family:Menlo,'DejaVu Sans Mono',consolas,'Courier New',monospace\">   ub_isntr_ue :   <span style=\"color: #000080; text-decoration-color: #000080; font-weight: bold\">0</span>\n",
       "</pre>\n"
      ],
      "text/plain": [
       "<rich.jupyter.JupyterRenderable at 0x28aa8e4eb50>"
      ]
     },
     "metadata": {},
     "output_type": "display_data"
    },
    {
     "data": {
      "text/html": [
       "<pre style=\"white-space:pre;overflow-x:auto;line-height:normal;font-family:Menlo,'DejaVu Sans Mono',consolas,'Courier New',monospace\">   ub_isr_calerror :   <span style=\"color: #000080; text-decoration-color: #000080; font-weight: bold\">0</span>\n",
       "</pre>\n"
      ],
      "text/plain": [
       "<rich.jupyter.JupyterRenderable at 0x28aa8e4e820>"
      ]
     },
     "metadata": {},
     "output_type": "display_data"
    },
    {
     "data": {
      "text/html": [
       "<pre style=\"white-space:pre;overflow-x:auto;line-height:normal;font-family:Menlo,'DejaVu Sans Mono',consolas,'Courier New',monospace\">   ub_isr_vt_track_err :   <span style=\"color: #000080; text-decoration-color: #000080; font-weight: bold\">0</span>\n",
       "</pre>\n"
      ],
      "text/plain": [
       "<rich.jupyter.JupyterRenderable at 0x28aa8e4ed00>"
      ]
     },
     "metadata": {},
     "output_type": "display_data"
    },
    {
     "data": {
      "text/html": [
       "<pre style=\"white-space:pre;overflow-x:auto;line-height:normal;font-family:Menlo,'DejaVu Sans Mono',consolas,'Courier New',monospace\">   ub_isr_watchdog :   <span style=\"color: #000080; text-decoration-color: #000080; font-weight: bold\">0</span>\n",
       "</pre>\n"
      ],
      "text/plain": [
       "<rich.jupyter.JupyterRenderable at 0x28aa8e4edc0>"
      ]
     },
     "metadata": {},
     "output_type": "display_data"
    },
    {
     "data": {
      "text/html": [
       "<pre style=\"white-space:pre;overflow-x:auto;line-height:normal;font-family:Menlo,'DejaVu Sans Mono',consolas,'Courier New',monospace\">   ub_ub_msg :   <span style=\"color: #000080; text-decoration-color: #000080; font-weight: bold\">0</span>\n",
       "</pre>\n"
      ],
      "text/plain": [
       "<rich.jupyter.JupyterRenderable at 0x28aa8e4ebb0>"
      ]
     },
     "metadata": {},
     "output_type": "display_data"
    },
    {
     "data": {
      "text/html": [
       "<pre style=\"white-space:pre;overflow-x:auto;line-height:normal;font-family:Menlo,'DejaVu Sans Mono',consolas,'Courier New',monospace\">\n",
       "----------------------------------\n",
       "\n",
       "</pre>\n"
      ],
      "text/plain": [
       "<rich.jupyter.JupyterRenderable at 0x28aa8e4ea30>"
      ]
     },
     "metadata": {},
     "output_type": "display_data"
    },
    {
     "data": {
      "text/html": [
       "<pre style=\"white-space:pre;overflow-x:auto;line-height:normal;font-family:Menlo,'DejaVu Sans Mono',consolas,'Courier New',monospace\"> Memory Configuration \n",
       "\n",
       "</pre>\n"
      ],
      "text/plain": [
       "<rich.jupyter.JupyterRenderable at 0x28aa8e4eca0>"
      ]
     },
     "metadata": {},
     "output_type": "display_data"
    },
    {
     "data": {
      "text/html": [
       "<pre style=\"white-space:pre;overflow-x:auto;line-height:normal;font-family:Menlo,'DejaVu Sans Mono',consolas,'Courier New',monospace\">----------------------------------\n",
       "\n",
       "</pre>\n"
      ],
      "text/plain": [
       "<rich.jupyter.JupyterRenderable at 0x28aa8e4ebb0>"
      ]
     },
     "metadata": {},
     "output_type": "display_data"
    },
    {
     "data": {
      "text/html": [
       "<pre style=\"white-space:pre;overflow-x:auto;line-height:normal;font-family:Menlo,'DejaVu Sans Mono',consolas,'Courier New',monospace\">DDRMC Core Name :   ddr_0\n",
       "</pre>\n"
      ],
      "text/plain": [
       "<rich.jupyter.JupyterRenderable at 0x28aa7c4a940>"
      ]
     },
     "metadata": {},
     "output_type": "display_data"
    },
    {
     "data": {
      "text/html": [
       "<pre style=\"white-space:pre;overflow-x:auto;line-height:normal;font-family:Menlo,'DejaVu Sans Mono',consolas,'Courier New',monospace\">Memory Interface :   DDR4\n",
       "</pre>\n"
      ],
      "text/plain": [
       "<rich.jupyter.JupyterRenderable at 0x28aa7c4a940>"
      ]
     },
     "metadata": {},
     "output_type": "display_data"
    },
    {
     "data": {
      "text/html": [
       "<pre style=\"white-space:pre;overflow-x:auto;line-height:normal;font-family:Menlo,'DejaVu Sans Mono',consolas,'Courier New',monospace\">Device Type :   UDIMM\n",
       "</pre>\n"
      ],
      "text/plain": [
       "<rich.jupyter.JupyterRenderable at 0x28aa7c4a940>"
      ]
     },
     "metadata": {},
     "output_type": "display_data"
    },
    {
     "data": {
      "text/html": [
       "<pre style=\"white-space:pre;overflow-x:auto;line-height:normal;font-family:Menlo,'DejaVu Sans Mono',consolas,'Courier New',monospace\">MC Location :   x0y0\n",
       "</pre>\n"
      ],
      "text/plain": [
       "<rich.jupyter.JupyterRenderable at 0x28aa7c4a940>"
      ]
     },
     "metadata": {},
     "output_type": "display_data"
    },
    {
     "data": {
      "text/html": [
       "<pre style=\"white-space:pre;overflow-x:auto;line-height:normal;font-family:Menlo,'DejaVu Sans Mono',consolas,'Courier New',monospace\">Slots :   <span style=\"color: #000080; text-decoration-color: #000080; font-weight: bold\">1</span>\n",
       "</pre>\n"
      ],
      "text/plain": [
       "<rich.jupyter.JupyterRenderable at 0x28aa7c4a940>"
      ]
     },
     "metadata": {},
     "output_type": "display_data"
    },
    {
     "data": {
      "text/html": [
       "<pre style=\"white-space:pre;overflow-x:auto;line-height:normal;font-family:Menlo,'DejaVu Sans Mono',consolas,'Courier New',monospace\">Ranks :   <span style=\"color: #000080; text-decoration-color: #000080; font-weight: bold\">1</span>\n",
       "</pre>\n"
      ],
      "text/plain": [
       "<rich.jupyter.JupyterRenderable at 0x28aa7c4a940>"
      ]
     },
     "metadata": {},
     "output_type": "display_data"
    },
    {
     "data": {
      "text/html": [
       "<pre style=\"white-space:pre;overflow-x:auto;line-height:normal;font-family:Menlo,'DejaVu Sans Mono',consolas,'Courier New',monospace\">Data Width :   <span style=\"color: #000080; text-decoration-color: #000080; font-weight: bold\">64</span>\n",
       "</pre>\n"
      ],
      "text/plain": [
       "<rich.jupyter.JupyterRenderable at 0x28aa7c4a940>"
      ]
     },
     "metadata": {},
     "output_type": "display_data"
    },
    {
     "data": {
      "text/html": [
       "<pre style=\"white-space:pre;overflow-x:auto;line-height:normal;font-family:Menlo,'DejaVu Sans Mono',consolas,'Courier New',monospace\">Bytes :   <span style=\"color: #000080; text-decoration-color: #000080; font-weight: bold\">8</span>\n",
       "</pre>\n"
      ],
      "text/plain": [
       "<rich.jupyter.JupyterRenderable at 0x28aa7c4a940>"
      ]
     },
     "metadata": {},
     "output_type": "display_data"
    },
    {
     "data": {
      "text/html": [
       "<pre style=\"white-space:pre;overflow-x:auto;line-height:normal;font-family:Menlo,'DejaVu Sans Mono',consolas,'Courier New',monospace\">Nibbles :   <span style=\"color: #000080; text-decoration-color: #000080; font-weight: bold\">16</span>\n",
       "</pre>\n"
      ],
      "text/plain": [
       "<rich.jupyter.JupyterRenderable at 0x28aa7c4a940>"
      ]
     },
     "metadata": {},
     "output_type": "display_data"
    },
    {
     "data": {
      "text/html": [
       "<pre style=\"white-space:pre;overflow-x:auto;line-height:normal;font-family:Menlo,'DejaVu Sans Mono',consolas,'Courier New',monospace\">Bits per Byte :   <span style=\"color: #000080; text-decoration-color: #000080; font-weight: bold\">8</span>\n",
       "</pre>\n"
      ],
      "text/plain": [
       "<rich.jupyter.JupyterRenderable at 0x28aa7c4a940>"
      ]
     },
     "metadata": {},
     "output_type": "display_data"
    },
    {
     "data": {
      "text/html": [
       "<pre style=\"white-space:pre;overflow-x:auto;line-height:normal;font-family:Menlo,'DejaVu Sans Mono',consolas,'Courier New',monospace\">Memory Frequency <span style=\"color: #000080; text-decoration-color: #000080; font-weight: bold\">0</span> :   <span style=\"color: #000080; text-decoration-color: #000080; font-weight: bold\">1600</span> MHz\n",
       "</pre>\n"
      ],
      "text/plain": [
       "<rich.jupyter.JupyterRenderable at 0x28aa7c4a940>"
      ]
     },
     "metadata": {},
     "output_type": "display_data"
    },
    {
     "data": {
      "text/html": [
       "<pre style=\"white-space:pre;overflow-x:auto;line-height:normal;font-family:Menlo,'DejaVu Sans Mono',consolas,'Courier New',monospace\">\n",
       "-----------------------------------\n",
       "\n",
       "</pre>\n"
      ],
      "text/plain": [
       "<rich.jupyter.JupyterRenderable at 0x28aa7c4a940>"
      ]
     },
     "metadata": {},
     "output_type": "display_data"
    },
    {
     "data": {
      "text/html": [
       "<pre style=\"white-space:pre;overflow-x:auto;line-height:normal;font-family:Menlo,'DejaVu Sans Mono',consolas,'Courier New',monospace\"> Calibration Stages Information \n",
       "\n",
       "</pre>\n"
      ],
      "text/plain": [
       "<rich.jupyter.JupyterRenderable at 0x28aa7c4a940>"
      ]
     },
     "metadata": {},
     "output_type": "display_data"
    },
    {
     "data": {
      "text/html": [
       "<pre style=\"white-space:pre;overflow-x:auto;line-height:normal;font-family:Menlo,'DejaVu Sans Mono',consolas,'Courier New',monospace\">-----------------------------------\n",
       "\n",
       "</pre>\n"
      ],
      "text/plain": [
       "<rich.jupyter.JupyterRenderable at 0x28aa7c4a940>"
      ]
     },
     "metadata": {},
     "output_type": "display_data"
    },
    {
     "data": {
      "text/html": [
       "<pre style=\"white-space:pre;overflow-x:auto;line-height:normal;font-family:Menlo,'DejaVu Sans Mono',consolas,'Courier New',monospace\">cal_stage.01_F0_PHY_BISC :   Pass\n",
       "</pre>\n"
      ],
      "text/plain": [
       "<rich.jupyter.JupyterRenderable at 0x28aa7c45820>"
      ]
     },
     "metadata": {},
     "output_type": "display_data"
    },
    {
     "data": {
      "text/html": [
       "<pre style=\"white-space:pre;overflow-x:auto;line-height:normal;font-family:Menlo,'DejaVu Sans Mono',consolas,'Courier New',monospace\">cal_stage.02_F0_MEM_INIT :   Pass\n",
       "</pre>\n"
      ],
      "text/plain": [
       "<rich.jupyter.JupyterRenderable at 0x28aa7c45fa0>"
      ]
     },
     "metadata": {},
     "output_type": "display_data"
    },
    {
     "data": {
      "text/html": [
       "<pre style=\"white-space:pre;overflow-x:auto;line-height:normal;font-family:Menlo,'DejaVu Sans Mono',consolas,'Courier New',monospace\">cal_stage.03_F0_DQS_GATE_CAL :   Pass\n",
       "</pre>\n"
      ],
      "text/plain": [
       "<rich.jupyter.JupyterRenderable at 0x28aa7c45190>"
      ]
     },
     "metadata": {},
     "output_type": "display_data"
    },
    {
     "data": {
      "text/html": [
       "<pre style=\"white-space:pre;overflow-x:auto;line-height:normal;font-family:Menlo,'DejaVu Sans Mono',consolas,'Courier New',monospace\">cal_stage.04_F0_WRITE_LEVELING :   Pass\n",
       "</pre>\n"
      ],
      "text/plain": [
       "<rich.jupyter.JupyterRenderable at 0x28aa7c457c0>"
      ]
     },
     "metadata": {},
     "output_type": "display_data"
    },
    {
     "data": {
      "text/html": [
       "<pre style=\"white-space:pre;overflow-x:auto;line-height:normal;font-family:Menlo,'DejaVu Sans Mono',consolas,'Courier New',monospace\">cal_stage.05_F0_READ_DQ_CAL :   Pass\n",
       "</pre>\n"
      ],
      "text/plain": [
       "<rich.jupyter.JupyterRenderable at 0x28aa7c457f0>"
      ]
     },
     "metadata": {},
     "output_type": "display_data"
    },
    {
     "data": {
      "text/html": [
       "<pre style=\"white-space:pre;overflow-x:auto;line-height:normal;font-family:Menlo,'DejaVu Sans Mono',consolas,'Courier New',monospace\">cal_stage.06_F0_WRITE_DQ_DBI_CAL :   Pass\n",
       "</pre>\n"
      ],
      "text/plain": [
       "<rich.jupyter.JupyterRenderable at 0x28aa7c45af0>"
      ]
     },
     "metadata": {},
     "output_type": "display_data"
    },
    {
     "data": {
      "text/html": [
       "<pre style=\"white-space:pre;overflow-x:auto;line-height:normal;font-family:Menlo,'DejaVu Sans Mono',consolas,'Courier New',monospace\">cal_stage.07_F0_WRITE_LATENCY_CAL :   Pass\n",
       "</pre>\n"
      ],
      "text/plain": [
       "<rich.jupyter.JupyterRenderable at 0x28aa7c45c40>"
      ]
     },
     "metadata": {},
     "output_type": "display_data"
    },
    {
     "data": {
      "text/html": [
       "<pre style=\"white-space:pre;overflow-x:auto;line-height:normal;font-family:Menlo,'DejaVu Sans Mono',consolas,'Courier New',monospace\">cal_stage.08_F0_READ_DQ_DBI_CAL_COMPLEX :   Pass\n",
       "</pre>\n"
      ],
      "text/plain": [
       "<rich.jupyter.JupyterRenderable at 0x28aa7c45460>"
      ]
     },
     "metadata": {},
     "output_type": "display_data"
    },
    {
     "data": {
      "text/html": [
       "<pre style=\"white-space:pre;overflow-x:auto;line-height:normal;font-family:Menlo,'DejaVu Sans Mono',consolas,'Courier New',monospace\">cal_stage.09_F0_WRITE_DQ_DBI_CAL_COMPLEX :   Pass\n",
       "</pre>\n"
      ],
      "text/plain": [
       "<rich.jupyter.JupyterRenderable at 0x28aa7c45370>"
      ]
     },
     "metadata": {},
     "output_type": "display_data"
    },
    {
     "data": {
      "text/html": [
       "<pre style=\"white-space:pre;overflow-x:auto;line-height:normal;font-family:Menlo,'DejaVu Sans Mono',consolas,'Courier New',monospace\">cal_stage.10_EN_VT_TRACK :   Pass\n",
       "</pre>\n"
      ],
      "text/plain": [
       "<rich.jupyter.JupyterRenderable at 0x28aa7c45c10>"
      ]
     },
     "metadata": {},
     "output_type": "display_data"
    },
    {
     "data": {
      "text/html": [
       "<pre style=\"white-space:pre;overflow-x:auto;line-height:normal;font-family:Menlo,'DejaVu Sans Mono',consolas,'Courier New',monospace\">cal_stage.11_READ_DQS_TRACK :   Pass\n",
       "</pre>\n"
      ],
      "text/plain": [
       "<rich.jupyter.JupyterRenderable at 0x28aa7c45c40>"
      ]
     },
     "metadata": {},
     "output_type": "display_data"
    },
    {
     "data": {
      "text/html": [
       "<pre style=\"white-space:pre;overflow-x:auto;line-height:normal;font-family:Menlo,'DejaVu Sans Mono',consolas,'Courier New',monospace\">cal_stage.12_CAL_DONE :   Pass\n",
       "</pre>\n"
      ],
      "text/plain": [
       "<rich.jupyter.JupyterRenderable at 0x28aa7c45160>"
      ]
     },
     "metadata": {},
     "output_type": "display_data"
    },
    {
     "data": {
      "text/html": [
       "<pre style=\"white-space:pre;overflow-x:auto;line-height:normal;font-family:Menlo,'DejaVu Sans Mono',consolas,'Courier New',monospace\">\n",
       "---------------------------------------\n",
       "\n",
       "</pre>\n"
      ],
      "text/plain": [
       "<rich.jupyter.JupyterRenderable at 0x28aa7c45eb0>"
      ]
     },
     "metadata": {},
     "output_type": "display_data"
    },
    {
     "data": {
      "text/html": [
       "<pre style=\"white-space:pre;overflow-x:auto;line-height:normal;font-family:Menlo,'DejaVu Sans Mono',consolas,'Courier New',monospace\"> Calibration Window Margin Analysis \n",
       "\n",
       "</pre>\n"
      ],
      "text/plain": [
       "<rich.jupyter.JupyterRenderable at 0x28aa7c45370>"
      ]
     },
     "metadata": {},
     "output_type": "display_data"
    },
    {
     "data": {
      "text/html": [
       "<pre style=\"white-space:pre;overflow-x:auto;line-height:normal;font-family:Menlo,'DejaVu Sans Mono',consolas,'Courier New',monospace\">---------------------------------------\n",
       "\n",
       "</pre>\n"
      ],
      "text/plain": [
       "<rich.jupyter.JupyterRenderable at 0x28aa7c45160>"
      ]
     },
     "metadata": {},
     "output_type": "display_data"
    },
    {
     "data": {
      "text/html": [
       "<pre style=\"white-space:pre;overflow-x:auto;line-height:normal;font-family:Menlo,'DejaVu Sans Mono',consolas,'Courier New',monospace\">\n",
       " Frequency <span style=\"color: #000080; text-decoration-color: #000080; font-weight: bold\">0</span>  - Read Margin - Simple Pattern - Rising Edge Clock in pS and <span style=\"font-weight: bold\">(</span>delay taps<span style=\"font-weight: bold\">)</span>:\n",
       "\n",
       "</pre>\n"
      ],
      "text/plain": [
       "<rich.jupyter.JupyterRenderable at 0x28aa8e3d8e0>"
      ]
     },
     "metadata": {},
     "output_type": "display_data"
    },
    {
     "data": {
      "text/html": [
       "<pre style=\"white-space:pre;overflow-x:auto;line-height:normal;font-family:Menlo,'DejaVu Sans Mono',consolas,'Courier New',monospace\">Byte  <span style=\"color: #000080; text-decoration-color: #000080; font-weight: bold\">0</span>  Nibble <span style=\"color: #000080; text-decoration-color: #000080; font-weight: bold\">0</span>  -   Left Margin:   <span style=\"color: #000080; text-decoration-color: #000080; font-weight: bold\">150</span>  <span style=\"font-weight: bold\">(</span> <span style=\"color: #000080; text-decoration-color: #000080; font-weight: bold\">77</span> <span style=\"font-weight: bold\">)</span>  Center Point:   <span style=\"color: #000080; text-decoration-color: #000080; font-weight: bold\">184</span>  <span style=\"font-weight: bold\">(</span> <span style=\"color: #000080; text-decoration-color: #000080; font-weight: bold\">94</span> <span style=\"font-weight: bold\">)</span>  Right Margin:\n",
       "<span style=\"color: #000080; text-decoration-color: #000080; font-weight: bold\">150</span>  <span style=\"font-weight: bold\">(</span> <span style=\"color: #000080; text-decoration-color: #000080; font-weight: bold\">77</span> <span style=\"font-weight: bold\">)</span>\n",
       "</pre>\n"
      ],
      "text/plain": [
       "<rich.jupyter.JupyterRenderable at 0x28aa7b09c40>"
      ]
     },
     "metadata": {},
     "output_type": "display_data"
    },
    {
     "data": {
      "text/html": [
       "<pre style=\"white-space:pre;overflow-x:auto;line-height:normal;font-family:Menlo,'DejaVu Sans Mono',consolas,'Courier New',monospace\">Byte  <span style=\"color: #000080; text-decoration-color: #000080; font-weight: bold\">0</span>  Nibble <span style=\"color: #000080; text-decoration-color: #000080; font-weight: bold\">1</span>  -   Left Margin:   <span style=\"color: #000080; text-decoration-color: #000080; font-weight: bold\">147</span>  <span style=\"font-weight: bold\">(</span> <span style=\"color: #000080; text-decoration-color: #000080; font-weight: bold\">77</span> <span style=\"font-weight: bold\">)</span>  Center Point:   <span style=\"color: #000080; text-decoration-color: #000080; font-weight: bold\">179</span>  <span style=\"font-weight: bold\">(</span> <span style=\"color: #000080; text-decoration-color: #000080; font-weight: bold\">94</span> <span style=\"font-weight: bold\">)</span>  Right Margin:\n",
       "<span style=\"color: #000080; text-decoration-color: #000080; font-weight: bold\">147</span>  <span style=\"font-weight: bold\">(</span> <span style=\"color: #000080; text-decoration-color: #000080; font-weight: bold\">77</span> <span style=\"font-weight: bold\">)</span>\n",
       "</pre>\n"
      ],
      "text/plain": [
       "<rich.jupyter.JupyterRenderable at 0x28aa7ba0f70>"
      ]
     },
     "metadata": {},
     "output_type": "display_data"
    },
    {
     "data": {
      "text/html": [
       "<pre style=\"white-space:pre;overflow-x:auto;line-height:normal;font-family:Menlo,'DejaVu Sans Mono',consolas,'Courier New',monospace\">Byte  <span style=\"color: #000080; text-decoration-color: #000080; font-weight: bold\">1</span>  Nibble <span style=\"color: #000080; text-decoration-color: #000080; font-weight: bold\">0</span>  -   Left Margin:   <span style=\"color: #000080; text-decoration-color: #000080; font-weight: bold\">145</span>  <span style=\"font-weight: bold\">(</span> <span style=\"color: #000080; text-decoration-color: #000080; font-weight: bold\">77</span> <span style=\"font-weight: bold\">)</span>  Center Point:   <span style=\"color: #000080; text-decoration-color: #000080; font-weight: bold\">177</span>  <span style=\"font-weight: bold\">(</span> <span style=\"color: #000080; text-decoration-color: #000080; font-weight: bold\">94</span> <span style=\"font-weight: bold\">)</span>  Right Margin:\n",
       "<span style=\"color: #000080; text-decoration-color: #000080; font-weight: bold\">145</span>  <span style=\"font-weight: bold\">(</span> <span style=\"color: #000080; text-decoration-color: #000080; font-weight: bold\">77</span> <span style=\"font-weight: bold\">)</span>\n",
       "</pre>\n"
      ],
      "text/plain": [
       "<rich.jupyter.JupyterRenderable at 0x28aa7af6f40>"
      ]
     },
     "metadata": {},
     "output_type": "display_data"
    },
    {
     "data": {
      "text/html": [
       "<pre style=\"white-space:pre;overflow-x:auto;line-height:normal;font-family:Menlo,'DejaVu Sans Mono',consolas,'Courier New',monospace\">Byte  <span style=\"color: #000080; text-decoration-color: #000080; font-weight: bold\">1</span>  Nibble <span style=\"color: #000080; text-decoration-color: #000080; font-weight: bold\">1</span>  -   Left Margin:   <span style=\"color: #000080; text-decoration-color: #000080; font-weight: bold\">150</span>  <span style=\"font-weight: bold\">(</span> <span style=\"color: #000080; text-decoration-color: #000080; font-weight: bold\">77</span> <span style=\"font-weight: bold\">)</span>  Center Point:   <span style=\"color: #000080; text-decoration-color: #000080; font-weight: bold\">184</span>  <span style=\"font-weight: bold\">(</span> <span style=\"color: #000080; text-decoration-color: #000080; font-weight: bold\">94</span> <span style=\"font-weight: bold\">)</span>  Right Margin:\n",
       "<span style=\"color: #000080; text-decoration-color: #000080; font-weight: bold\">150</span>  <span style=\"font-weight: bold\">(</span> <span style=\"color: #000080; text-decoration-color: #000080; font-weight: bold\">77</span> <span style=\"font-weight: bold\">)</span>\n",
       "</pre>\n"
      ],
      "text/plain": [
       "<rich.jupyter.JupyterRenderable at 0x28aa7cc39a0>"
      ]
     },
     "metadata": {},
     "output_type": "display_data"
    },
    {
     "data": {
      "text/html": [
       "<pre style=\"white-space:pre;overflow-x:auto;line-height:normal;font-family:Menlo,'DejaVu Sans Mono',consolas,'Courier New',monospace\">Byte  <span style=\"color: #000080; text-decoration-color: #000080; font-weight: bold\">2</span>  Nibble <span style=\"color: #000080; text-decoration-color: #000080; font-weight: bold\">0</span>  -   Left Margin:   <span style=\"color: #000080; text-decoration-color: #000080; font-weight: bold\">156</span>  <span style=\"font-weight: bold\">(</span> <span style=\"color: #000080; text-decoration-color: #000080; font-weight: bold\">79</span> <span style=\"font-weight: bold\">)</span>  Center Point:   <span style=\"color: #000080; text-decoration-color: #000080; font-weight: bold\">190</span>  <span style=\"font-weight: bold\">(</span> <span style=\"color: #000080; text-decoration-color: #000080; font-weight: bold\">96</span> <span style=\"font-weight: bold\">)</span>  Right Margin:\n",
       "<span style=\"color: #000080; text-decoration-color: #000080; font-weight: bold\">156</span>  <span style=\"font-weight: bold\">(</span> <span style=\"color: #000080; text-decoration-color: #000080; font-weight: bold\">79</span> <span style=\"font-weight: bold\">)</span>\n",
       "</pre>\n"
      ],
      "text/plain": [
       "<rich.jupyter.JupyterRenderable at 0x28aa7b09c40>"
      ]
     },
     "metadata": {},
     "output_type": "display_data"
    },
    {
     "data": {
      "text/html": [
       "<pre style=\"white-space:pre;overflow-x:auto;line-height:normal;font-family:Menlo,'DejaVu Sans Mono',consolas,'Courier New',monospace\">Byte  <span style=\"color: #000080; text-decoration-color: #000080; font-weight: bold\">2</span>  Nibble <span style=\"color: #000080; text-decoration-color: #000080; font-weight: bold\">1</span>  -   Left Margin:   <span style=\"color: #000080; text-decoration-color: #000080; font-weight: bold\">151</span>  <span style=\"font-weight: bold\">(</span> <span style=\"color: #000080; text-decoration-color: #000080; font-weight: bold\">79</span> <span style=\"font-weight: bold\">)</span>  Center Point:   <span style=\"color: #000080; text-decoration-color: #000080; font-weight: bold\">183</span>  <span style=\"font-weight: bold\">(</span> <span style=\"color: #000080; text-decoration-color: #000080; font-weight: bold\">96</span> <span style=\"font-weight: bold\">)</span>  Right Margin:\n",
       "<span style=\"color: #000080; text-decoration-color: #000080; font-weight: bold\">151</span>  <span style=\"font-weight: bold\">(</span> <span style=\"color: #000080; text-decoration-color: #000080; font-weight: bold\">79</span> <span style=\"font-weight: bold\">)</span>\n",
       "</pre>\n"
      ],
      "text/plain": [
       "<rich.jupyter.JupyterRenderable at 0x28aa7ba0f70>"
      ]
     },
     "metadata": {},
     "output_type": "display_data"
    },
    {
     "data": {
      "text/html": [
       "<pre style=\"white-space:pre;overflow-x:auto;line-height:normal;font-family:Menlo,'DejaVu Sans Mono',consolas,'Courier New',monospace\">Byte  <span style=\"color: #000080; text-decoration-color: #000080; font-weight: bold\">3</span>  Nibble <span style=\"color: #000080; text-decoration-color: #000080; font-weight: bold\">0</span>  -   Left Margin:   <span style=\"color: #000080; text-decoration-color: #000080; font-weight: bold\">150</span>  <span style=\"font-weight: bold\">(</span> <span style=\"color: #000080; text-decoration-color: #000080; font-weight: bold\">77</span> <span style=\"font-weight: bold\">)</span>  Center Point:   <span style=\"color: #000080; text-decoration-color: #000080; font-weight: bold\">184</span>  <span style=\"font-weight: bold\">(</span> <span style=\"color: #000080; text-decoration-color: #000080; font-weight: bold\">94</span> <span style=\"font-weight: bold\">)</span>  Right Margin:\n",
       "<span style=\"color: #000080; text-decoration-color: #000080; font-weight: bold\">150</span>  <span style=\"font-weight: bold\">(</span> <span style=\"color: #000080; text-decoration-color: #000080; font-weight: bold\">77</span> <span style=\"font-weight: bold\">)</span>\n",
       "</pre>\n"
      ],
      "text/plain": [
       "<rich.jupyter.JupyterRenderable at 0x28aa7af6f40>"
      ]
     },
     "metadata": {},
     "output_type": "display_data"
    },
    {
     "data": {
      "text/html": [
       "<pre style=\"white-space:pre;overflow-x:auto;line-height:normal;font-family:Menlo,'DejaVu Sans Mono',consolas,'Courier New',monospace\">Byte  <span style=\"color: #000080; text-decoration-color: #000080; font-weight: bold\">3</span>  Nibble <span style=\"color: #000080; text-decoration-color: #000080; font-weight: bold\">1</span>  -   Left Margin:   <span style=\"color: #000080; text-decoration-color: #000080; font-weight: bold\">150</span>  <span style=\"font-weight: bold\">(</span> <span style=\"color: #000080; text-decoration-color: #000080; font-weight: bold\">77</span> <span style=\"font-weight: bold\">)</span>  Center Point:   <span style=\"color: #000080; text-decoration-color: #000080; font-weight: bold\">184</span>  <span style=\"font-weight: bold\">(</span> <span style=\"color: #000080; text-decoration-color: #000080; font-weight: bold\">94</span> <span style=\"font-weight: bold\">)</span>  Right Margin:\n",
       "<span style=\"color: #000080; text-decoration-color: #000080; font-weight: bold\">150</span>  <span style=\"font-weight: bold\">(</span> <span style=\"color: #000080; text-decoration-color: #000080; font-weight: bold\">77</span> <span style=\"font-weight: bold\">)</span>\n",
       "</pre>\n"
      ],
      "text/plain": [
       "<rich.jupyter.JupyterRenderable at 0x28aa7cc39a0>"
      ]
     },
     "metadata": {},
     "output_type": "display_data"
    },
    {
     "data": {
      "text/html": [
       "<pre style=\"white-space:pre;overflow-x:auto;line-height:normal;font-family:Menlo,'DejaVu Sans Mono',consolas,'Courier New',monospace\">Byte  <span style=\"color: #000080; text-decoration-color: #000080; font-weight: bold\">4</span>  Nibble <span style=\"color: #000080; text-decoration-color: #000080; font-weight: bold\">0</span>  -   Left Margin:   <span style=\"color: #000080; text-decoration-color: #000080; font-weight: bold\">149</span>  <span style=\"font-weight: bold\">(</span> <span style=\"color: #000080; text-decoration-color: #000080; font-weight: bold\">77</span> <span style=\"font-weight: bold\">)</span>  Center Point:   <span style=\"color: #000080; text-decoration-color: #000080; font-weight: bold\">181</span>  <span style=\"font-weight: bold\">(</span> <span style=\"color: #000080; text-decoration-color: #000080; font-weight: bold\">94</span> <span style=\"font-weight: bold\">)</span>  Right Margin:\n",
       "<span style=\"color: #000080; text-decoration-color: #000080; font-weight: bold\">149</span>  <span style=\"font-weight: bold\">(</span> <span style=\"color: #000080; text-decoration-color: #000080; font-weight: bold\">77</span> <span style=\"font-weight: bold\">)</span>\n",
       "</pre>\n"
      ],
      "text/plain": [
       "<rich.jupyter.JupyterRenderable at 0x28aa7b09c40>"
      ]
     },
     "metadata": {},
     "output_type": "display_data"
    },
    {
     "data": {
      "text/html": [
       "<pre style=\"white-space:pre;overflow-x:auto;line-height:normal;font-family:Menlo,'DejaVu Sans Mono',consolas,'Courier New',monospace\">Byte  <span style=\"color: #000080; text-decoration-color: #000080; font-weight: bold\">4</span>  Nibble <span style=\"color: #000080; text-decoration-color: #000080; font-weight: bold\">1</span>  -   Left Margin:   <span style=\"color: #000080; text-decoration-color: #000080; font-weight: bold\">152</span>  <span style=\"font-weight: bold\">(</span> <span style=\"color: #000080; text-decoration-color: #000080; font-weight: bold\">77</span> <span style=\"font-weight: bold\">)</span>  Center Point:   <span style=\"color: #000080; text-decoration-color: #000080; font-weight: bold\">186</span>  <span style=\"font-weight: bold\">(</span> <span style=\"color: #000080; text-decoration-color: #000080; font-weight: bold\">94</span> <span style=\"font-weight: bold\">)</span>  Right Margin:\n",
       "<span style=\"color: #000080; text-decoration-color: #000080; font-weight: bold\">152</span>  <span style=\"font-weight: bold\">(</span> <span style=\"color: #000080; text-decoration-color: #000080; font-weight: bold\">77</span> <span style=\"font-weight: bold\">)</span>\n",
       "</pre>\n"
      ],
      "text/plain": [
       "<rich.jupyter.JupyterRenderable at 0x28aa7ba0f70>"
      ]
     },
     "metadata": {},
     "output_type": "display_data"
    },
    {
     "data": {
      "text/html": [
       "<pre style=\"white-space:pre;overflow-x:auto;line-height:normal;font-family:Menlo,'DejaVu Sans Mono',consolas,'Courier New',monospace\">Byte  <span style=\"color: #000080; text-decoration-color: #000080; font-weight: bold\">5</span>  Nibble <span style=\"color: #000080; text-decoration-color: #000080; font-weight: bold\">0</span>  -   Left Margin:   <span style=\"color: #000080; text-decoration-color: #000080; font-weight: bold\">154</span>  <span style=\"font-weight: bold\">(</span> <span style=\"color: #000080; text-decoration-color: #000080; font-weight: bold\">79</span> <span style=\"font-weight: bold\">)</span>  Center Point:   <span style=\"color: #000080; text-decoration-color: #000080; font-weight: bold\">188</span>  <span style=\"font-weight: bold\">(</span> <span style=\"color: #000080; text-decoration-color: #000080; font-weight: bold\">96</span> <span style=\"font-weight: bold\">)</span>  Right Margin:\n",
       "<span style=\"color: #000080; text-decoration-color: #000080; font-weight: bold\">156</span>  <span style=\"font-weight: bold\">(</span> <span style=\"color: #000080; text-decoration-color: #000080; font-weight: bold\">80</span> <span style=\"font-weight: bold\">)</span>\n",
       "</pre>\n"
      ],
      "text/plain": [
       "<rich.jupyter.JupyterRenderable at 0x28aa7af6f40>"
      ]
     },
     "metadata": {},
     "output_type": "display_data"
    },
    {
     "data": {
      "text/html": [
       "<pre style=\"white-space:pre;overflow-x:auto;line-height:normal;font-family:Menlo,'DejaVu Sans Mono',consolas,'Courier New',monospace\">Byte  <span style=\"color: #000080; text-decoration-color: #000080; font-weight: bold\">5</span>  Nibble <span style=\"color: #000080; text-decoration-color: #000080; font-weight: bold\">1</span>  -   Left Margin:   <span style=\"color: #000080; text-decoration-color: #000080; font-weight: bold\">156</span>  <span style=\"font-weight: bold\">(</span> <span style=\"color: #000080; text-decoration-color: #000080; font-weight: bold\">79</span> <span style=\"font-weight: bold\">)</span>  Center Point:   <span style=\"color: #000080; text-decoration-color: #000080; font-weight: bold\">190</span>  <span style=\"font-weight: bold\">(</span> <span style=\"color: #000080; text-decoration-color: #000080; font-weight: bold\">96</span> <span style=\"font-weight: bold\">)</span>  Right Margin:\n",
       "<span style=\"color: #000080; text-decoration-color: #000080; font-weight: bold\">158</span>  <span style=\"font-weight: bold\">(</span> <span style=\"color: #000080; text-decoration-color: #000080; font-weight: bold\">80</span> <span style=\"font-weight: bold\">)</span>\n",
       "</pre>\n"
      ],
      "text/plain": [
       "<rich.jupyter.JupyterRenderable at 0x28aa7cc39a0>"
      ]
     },
     "metadata": {},
     "output_type": "display_data"
    },
    {
     "data": {
      "text/html": [
       "<pre style=\"white-space:pre;overflow-x:auto;line-height:normal;font-family:Menlo,'DejaVu Sans Mono',consolas,'Courier New',monospace\">Byte  <span style=\"color: #000080; text-decoration-color: #000080; font-weight: bold\">6</span>  Nibble <span style=\"color: #000080; text-decoration-color: #000080; font-weight: bold\">0</span>  -   Left Margin:   <span style=\"color: #000080; text-decoration-color: #000080; font-weight: bold\">154</span>  <span style=\"font-weight: bold\">(</span> <span style=\"color: #000080; text-decoration-color: #000080; font-weight: bold\">79</span> <span style=\"font-weight: bold\">)</span>  Center Point:   <span style=\"color: #000080; text-decoration-color: #000080; font-weight: bold\">188</span>  <span style=\"font-weight: bold\">(</span> <span style=\"color: #000080; text-decoration-color: #000080; font-weight: bold\">96</span> <span style=\"font-weight: bold\">)</span>  Right Margin:\n",
       "<span style=\"color: #000080; text-decoration-color: #000080; font-weight: bold\">156</span>  <span style=\"font-weight: bold\">(</span> <span style=\"color: #000080; text-decoration-color: #000080; font-weight: bold\">80</span> <span style=\"font-weight: bold\">)</span>\n",
       "</pre>\n"
      ],
      "text/plain": [
       "<rich.jupyter.JupyterRenderable at 0x28aa7b09c40>"
      ]
     },
     "metadata": {},
     "output_type": "display_data"
    },
    {
     "data": {
      "text/html": [
       "<pre style=\"white-space:pre;overflow-x:auto;line-height:normal;font-family:Menlo,'DejaVu Sans Mono',consolas,'Courier New',monospace\">Byte  <span style=\"color: #000080; text-decoration-color: #000080; font-weight: bold\">6</span>  Nibble <span style=\"color: #000080; text-decoration-color: #000080; font-weight: bold\">1</span>  -   Left Margin:   <span style=\"color: #000080; text-decoration-color: #000080; font-weight: bold\">160</span>  <span style=\"font-weight: bold\">(</span> <span style=\"color: #000080; text-decoration-color: #000080; font-weight: bold\">82</span> <span style=\"font-weight: bold\">)</span>  Center Point:   <span style=\"color: #000080; text-decoration-color: #000080; font-weight: bold\">193</span>  <span style=\"font-weight: bold\">(</span> <span style=\"color: #000080; text-decoration-color: #000080; font-weight: bold\">99</span> <span style=\"font-weight: bold\">)</span>  Right Margin:\n",
       "<span style=\"color: #000080; text-decoration-color: #000080; font-weight: bold\">160</span>  <span style=\"font-weight: bold\">(</span> <span style=\"color: #000080; text-decoration-color: #000080; font-weight: bold\">82</span> <span style=\"font-weight: bold\">)</span>\n",
       "</pre>\n"
      ],
      "text/plain": [
       "<rich.jupyter.JupyterRenderable at 0x28aa7ba0f70>"
      ]
     },
     "metadata": {},
     "output_type": "display_data"
    },
    {
     "data": {
      "text/html": [
       "<pre style=\"white-space:pre;overflow-x:auto;line-height:normal;font-family:Menlo,'DejaVu Sans Mono',consolas,'Courier New',monospace\">Byte  <span style=\"color: #000080; text-decoration-color: #000080; font-weight: bold\">7</span>  Nibble <span style=\"color: #000080; text-decoration-color: #000080; font-weight: bold\">0</span>  -   Left Margin:   <span style=\"color: #000080; text-decoration-color: #000080; font-weight: bold\">152</span>  <span style=\"font-weight: bold\">(</span> <span style=\"color: #000080; text-decoration-color: #000080; font-weight: bold\">77</span> <span style=\"font-weight: bold\">)</span>  Center Point:   <span style=\"color: #000080; text-decoration-color: #000080; font-weight: bold\">186</span>  <span style=\"font-weight: bold\">(</span> <span style=\"color: #000080; text-decoration-color: #000080; font-weight: bold\">94</span> <span style=\"font-weight: bold\">)</span>  Right Margin:\n",
       "<span style=\"color: #000080; text-decoration-color: #000080; font-weight: bold\">152</span>  <span style=\"font-weight: bold\">(</span> <span style=\"color: #000080; text-decoration-color: #000080; font-weight: bold\">77</span> <span style=\"font-weight: bold\">)</span>\n",
       "</pre>\n"
      ],
      "text/plain": [
       "<rich.jupyter.JupyterRenderable at 0x28aa7af6f40>"
      ]
     },
     "metadata": {},
     "output_type": "display_data"
    },
    {
     "data": {
      "text/html": [
       "<pre style=\"white-space:pre;overflow-x:auto;line-height:normal;font-family:Menlo,'DejaVu Sans Mono',consolas,'Courier New',monospace\">Byte  <span style=\"color: #000080; text-decoration-color: #000080; font-weight: bold\">7</span>  Nibble <span style=\"color: #000080; text-decoration-color: #000080; font-weight: bold\">1</span>  -   Left Margin:   <span style=\"color: #000080; text-decoration-color: #000080; font-weight: bold\">154</span>  <span style=\"font-weight: bold\">(</span> <span style=\"color: #000080; text-decoration-color: #000080; font-weight: bold\">77</span> <span style=\"font-weight: bold\">)</span>  Center Point:   <span style=\"color: #000080; text-decoration-color: #000080; font-weight: bold\">188</span>  <span style=\"font-weight: bold\">(</span> <span style=\"color: #000080; text-decoration-color: #000080; font-weight: bold\">94</span> <span style=\"font-weight: bold\">)</span>  Right Margin:\n",
       "<span style=\"color: #000080; text-decoration-color: #000080; font-weight: bold\">154</span>  <span style=\"font-weight: bold\">(</span> <span style=\"color: #000080; text-decoration-color: #000080; font-weight: bold\">77</span> <span style=\"font-weight: bold\">)</span>\n",
       "</pre>\n"
      ],
      "text/plain": [
       "<rich.jupyter.JupyterRenderable at 0x28aa7cc39a0>"
      ]
     },
     "metadata": {},
     "output_type": "display_data"
    },
    {
     "data": {
      "text/html": [
       "<pre style=\"white-space:pre;overflow-x:auto;line-height:normal;font-family:Menlo,'DejaVu Sans Mono',consolas,'Courier New',monospace\">\n",
       " Frequency <span style=\"color: #000080; text-decoration-color: #000080; font-weight: bold\">0</span>  - Read Margin - Simple Pattern - Falling Edge Clock in pS and <span style=\"font-weight: bold\">(</span>delay taps<span style=\"font-weight: bold\">)</span>:\n",
       "\n",
       "</pre>\n"
      ],
      "text/plain": [
       "<rich.jupyter.JupyterRenderable at 0x28aa8e3daf0>"
      ]
     },
     "metadata": {},
     "output_type": "display_data"
    },
    {
     "data": {
      "text/html": [
       "<pre style=\"white-space:pre;overflow-x:auto;line-height:normal;font-family:Menlo,'DejaVu Sans Mono',consolas,'Courier New',monospace\">Byte  <span style=\"color: #000080; text-decoration-color: #000080; font-weight: bold\">0</span>  Nibble <span style=\"color: #000080; text-decoration-color: #000080; font-weight: bold\">0</span>  -   Left Margin:   <span style=\"color: #000080; text-decoration-color: #000080; font-weight: bold\">147</span>  <span style=\"font-weight: bold\">(</span> <span style=\"color: #000080; text-decoration-color: #000080; font-weight: bold\">76</span> <span style=\"font-weight: bold\">)</span>  Center Point:   <span style=\"color: #000080; text-decoration-color: #000080; font-weight: bold\">195</span>  <span style=\"font-weight: bold\">(</span> <span style=\"color: #000080; text-decoration-color: #000080; font-weight: bold\">101</span> <span style=\"font-weight: bold\">)</span>  Right \n",
       "Margin:   <span style=\"color: #000080; text-decoration-color: #000080; font-weight: bold\">147</span>  <span style=\"font-weight: bold\">(</span> <span style=\"color: #000080; text-decoration-color: #000080; font-weight: bold\">76</span> <span style=\"font-weight: bold\">)</span>\n",
       "</pre>\n"
      ],
      "text/plain": [
       "<rich.jupyter.JupyterRenderable at 0x28aa8e3daf0>"
      ]
     },
     "metadata": {},
     "output_type": "display_data"
    },
    {
     "data": {
      "text/html": [
       "<pre style=\"white-space:pre;overflow-x:auto;line-height:normal;font-family:Menlo,'DejaVu Sans Mono',consolas,'Courier New',monospace\">Byte  <span style=\"color: #000080; text-decoration-color: #000080; font-weight: bold\">0</span>  Nibble <span style=\"color: #000080; text-decoration-color: #000080; font-weight: bold\">1</span>  -   Left Margin:   <span style=\"color: #000080; text-decoration-color: #000080; font-weight: bold\">139</span>  <span style=\"font-weight: bold\">(</span> <span style=\"color: #000080; text-decoration-color: #000080; font-weight: bold\">74</span> <span style=\"font-weight: bold\">)</span>  Center Point:   <span style=\"color: #000080; text-decoration-color: #000080; font-weight: bold\">194</span>  <span style=\"font-weight: bold\">(</span> <span style=\"color: #000080; text-decoration-color: #000080; font-weight: bold\">103</span> <span style=\"font-weight: bold\">)</span>  Right \n",
       "Margin:   <span style=\"color: #000080; text-decoration-color: #000080; font-weight: bold\">141</span>  <span style=\"font-weight: bold\">(</span> <span style=\"color: #000080; text-decoration-color: #000080; font-weight: bold\">75</span> <span style=\"font-weight: bold\">)</span>\n",
       "</pre>\n"
      ],
      "text/plain": [
       "<rich.jupyter.JupyterRenderable at 0x28aa8e3daf0>"
      ]
     },
     "metadata": {},
     "output_type": "display_data"
    },
    {
     "data": {
      "text/html": [
       "<pre style=\"white-space:pre;overflow-x:auto;line-height:normal;font-family:Menlo,'DejaVu Sans Mono',consolas,'Courier New',monospace\">Byte  <span style=\"color: #000080; text-decoration-color: #000080; font-weight: bold\">1</span>  Nibble <span style=\"color: #000080; text-decoration-color: #000080; font-weight: bold\">0</span>  -   Left Margin:   <span style=\"color: #000080; text-decoration-color: #000080; font-weight: bold\">145</span>  <span style=\"font-weight: bold\">(</span> <span style=\"color: #000080; text-decoration-color: #000080; font-weight: bold\">76</span> <span style=\"font-weight: bold\">)</span>  Center Point:   <span style=\"color: #000080; text-decoration-color: #000080; font-weight: bold\">183</span>  <span style=\"font-weight: bold\">(</span> <span style=\"color: #000080; text-decoration-color: #000080; font-weight: bold\">96</span> <span style=\"font-weight: bold\">)</span>  Right Margin:\n",
       "<span style=\"color: #000080; text-decoration-color: #000080; font-weight: bold\">145</span>  <span style=\"font-weight: bold\">(</span> <span style=\"color: #000080; text-decoration-color: #000080; font-weight: bold\">76</span> <span style=\"font-weight: bold\">)</span>\n",
       "</pre>\n"
      ],
      "text/plain": [
       "<rich.jupyter.JupyterRenderable at 0x28aa8e3daf0>"
      ]
     },
     "metadata": {},
     "output_type": "display_data"
    },
    {
     "data": {
      "text/html": [
       "<pre style=\"white-space:pre;overflow-x:auto;line-height:normal;font-family:Menlo,'DejaVu Sans Mono',consolas,'Courier New',monospace\">Byte  <span style=\"color: #000080; text-decoration-color: #000080; font-weight: bold\">1</span>  Nibble <span style=\"color: #000080; text-decoration-color: #000080; font-weight: bold\">1</span>  -   Left Margin:   <span style=\"color: #000080; text-decoration-color: #000080; font-weight: bold\">147</span>  <span style=\"font-weight: bold\">(</span> <span style=\"color: #000080; text-decoration-color: #000080; font-weight: bold\">76</span> <span style=\"font-weight: bold\">)</span>  Center Point:   <span style=\"color: #000080; text-decoration-color: #000080; font-weight: bold\">189</span>  <span style=\"font-weight: bold\">(</span> <span style=\"color: #000080; text-decoration-color: #000080; font-weight: bold\">98</span> <span style=\"font-weight: bold\">)</span>  Right Margin:\n",
       "<span style=\"color: #000080; text-decoration-color: #000080; font-weight: bold\">147</span>  <span style=\"font-weight: bold\">(</span> <span style=\"color: #000080; text-decoration-color: #000080; font-weight: bold\">76</span> <span style=\"font-weight: bold\">)</span>\n",
       "</pre>\n"
      ],
      "text/plain": [
       "<rich.jupyter.JupyterRenderable at 0x28aa8e3daf0>"
      ]
     },
     "metadata": {},
     "output_type": "display_data"
    },
    {
     "data": {
      "text/html": [
       "<pre style=\"white-space:pre;overflow-x:auto;line-height:normal;font-family:Menlo,'DejaVu Sans Mono',consolas,'Courier New',monospace\">Byte  <span style=\"color: #000080; text-decoration-color: #000080; font-weight: bold\">2</span>  Nibble <span style=\"color: #000080; text-decoration-color: #000080; font-weight: bold\">0</span>  -   Left Margin:   <span style=\"color: #000080; text-decoration-color: #000080; font-weight: bold\">147</span>  <span style=\"font-weight: bold\">(</span> <span style=\"color: #000080; text-decoration-color: #000080; font-weight: bold\">76</span> <span style=\"font-weight: bold\">)</span>  Center Point:   <span style=\"color: #000080; text-decoration-color: #000080; font-weight: bold\">201</span>  <span style=\"font-weight: bold\">(</span> <span style=\"color: #000080; text-decoration-color: #000080; font-weight: bold\">104</span> <span style=\"font-weight: bold\">)</span>  Right \n",
       "Margin:   <span style=\"color: #000080; text-decoration-color: #000080; font-weight: bold\">147</span>  <span style=\"font-weight: bold\">(</span> <span style=\"color: #000080; text-decoration-color: #000080; font-weight: bold\">76</span> <span style=\"font-weight: bold\">)</span>\n",
       "</pre>\n"
      ],
      "text/plain": [
       "<rich.jupyter.JupyterRenderable at 0x28aa8e3daf0>"
      ]
     },
     "metadata": {},
     "output_type": "display_data"
    },
    {
     "data": {
      "text/html": [
       "<pre style=\"white-space:pre;overflow-x:auto;line-height:normal;font-family:Menlo,'DejaVu Sans Mono',consolas,'Courier New',monospace\">Byte  <span style=\"color: #000080; text-decoration-color: #000080; font-weight: bold\">2</span>  Nibble <span style=\"color: #000080; text-decoration-color: #000080; font-weight: bold\">1</span>  -   Left Margin:   <span style=\"color: #000080; text-decoration-color: #000080; font-weight: bold\">143</span>  <span style=\"font-weight: bold\">(</span> <span style=\"color: #000080; text-decoration-color: #000080; font-weight: bold\">76</span> <span style=\"font-weight: bold\">)</span>  Center Point:   <span style=\"color: #000080; text-decoration-color: #000080; font-weight: bold\">192</span>  <span style=\"font-weight: bold\">(</span> <span style=\"color: #000080; text-decoration-color: #000080; font-weight: bold\">102</span> <span style=\"font-weight: bold\">)</span>  Right \n",
       "Margin:   <span style=\"color: #000080; text-decoration-color: #000080; font-weight: bold\">143</span>  <span style=\"font-weight: bold\">(</span> <span style=\"color: #000080; text-decoration-color: #000080; font-weight: bold\">76</span> <span style=\"font-weight: bold\">)</span>\n",
       "</pre>\n"
      ],
      "text/plain": [
       "<rich.jupyter.JupyterRenderable at 0x28aa8e3daf0>"
      ]
     },
     "metadata": {},
     "output_type": "display_data"
    },
    {
     "data": {
      "text/html": [
       "<pre style=\"white-space:pre;overflow-x:auto;line-height:normal;font-family:Menlo,'DejaVu Sans Mono',consolas,'Courier New',monospace\">Byte  <span style=\"color: #000080; text-decoration-color: #000080; font-weight: bold\">3</span>  Nibble <span style=\"color: #000080; text-decoration-color: #000080; font-weight: bold\">0</span>  -   Left Margin:   <span style=\"color: #000080; text-decoration-color: #000080; font-weight: bold\">147</span>  <span style=\"font-weight: bold\">(</span> <span style=\"color: #000080; text-decoration-color: #000080; font-weight: bold\">76</span> <span style=\"font-weight: bold\">)</span>  Center Point:   <span style=\"color: #000080; text-decoration-color: #000080; font-weight: bold\">183</span>  <span style=\"font-weight: bold\">(</span> <span style=\"color: #000080; text-decoration-color: #000080; font-weight: bold\">95</span> <span style=\"font-weight: bold\">)</span>  Right Margin:\n",
       "<span style=\"color: #000080; text-decoration-color: #000080; font-weight: bold\">147</span>  <span style=\"font-weight: bold\">(</span> <span style=\"color: #000080; text-decoration-color: #000080; font-weight: bold\">76</span> <span style=\"font-weight: bold\">)</span>\n",
       "</pre>\n"
      ],
      "text/plain": [
       "<rich.jupyter.JupyterRenderable at 0x28aa8e3daf0>"
      ]
     },
     "metadata": {},
     "output_type": "display_data"
    },
    {
     "data": {
      "text/html": [
       "<pre style=\"white-space:pre;overflow-x:auto;line-height:normal;font-family:Menlo,'DejaVu Sans Mono',consolas,'Courier New',monospace\">Byte  <span style=\"color: #000080; text-decoration-color: #000080; font-weight: bold\">3</span>  Nibble <span style=\"color: #000080; text-decoration-color: #000080; font-weight: bold\">1</span>  -   Left Margin:   <span style=\"color: #000080; text-decoration-color: #000080; font-weight: bold\">148</span>  <span style=\"font-weight: bold\">(</span> <span style=\"color: #000080; text-decoration-color: #000080; font-weight: bold\">76</span> <span style=\"font-weight: bold\">)</span>  Center Point:   <span style=\"color: #000080; text-decoration-color: #000080; font-weight: bold\">188</span>  <span style=\"font-weight: bold\">(</span> <span style=\"color: #000080; text-decoration-color: #000080; font-weight: bold\">96</span> <span style=\"font-weight: bold\">)</span>  Right Margin:\n",
       "<span style=\"color: #000080; text-decoration-color: #000080; font-weight: bold\">148</span>  <span style=\"font-weight: bold\">(</span> <span style=\"color: #000080; text-decoration-color: #000080; font-weight: bold\">76</span> <span style=\"font-weight: bold\">)</span>\n",
       "</pre>\n"
      ],
      "text/plain": [
       "<rich.jupyter.JupyterRenderable at 0x28aa8e3daf0>"
      ]
     },
     "metadata": {},
     "output_type": "display_data"
    },
    {
     "data": {
      "text/html": [
       "<pre style=\"white-space:pre;overflow-x:auto;line-height:normal;font-family:Menlo,'DejaVu Sans Mono',consolas,'Courier New',monospace\">Byte  <span style=\"color: #000080; text-decoration-color: #000080; font-weight: bold\">4</span>  Nibble <span style=\"color: #000080; text-decoration-color: #000080; font-weight: bold\">0</span>  -   Left Margin:   <span style=\"color: #000080; text-decoration-color: #000080; font-weight: bold\">147</span>  <span style=\"font-weight: bold\">(</span> <span style=\"color: #000080; text-decoration-color: #000080; font-weight: bold\">76</span> <span style=\"font-weight: bold\">)</span>  Center Point:   <span style=\"color: #000080; text-decoration-color: #000080; font-weight: bold\">191</span>  <span style=\"font-weight: bold\">(</span> <span style=\"color: #000080; text-decoration-color: #000080; font-weight: bold\">99</span> <span style=\"font-weight: bold\">)</span>  Right Margin:\n",
       "<span style=\"color: #000080; text-decoration-color: #000080; font-weight: bold\">147</span>  <span style=\"font-weight: bold\">(</span> <span style=\"color: #000080; text-decoration-color: #000080; font-weight: bold\">76</span> <span style=\"font-weight: bold\">)</span>\n",
       "</pre>\n"
      ],
      "text/plain": [
       "<rich.jupyter.JupyterRenderable at 0x28aa7cd6340>"
      ]
     },
     "metadata": {},
     "output_type": "display_data"
    },
    {
     "data": {
      "text/html": [
       "<pre style=\"white-space:pre;overflow-x:auto;line-height:normal;font-family:Menlo,'DejaVu Sans Mono',consolas,'Courier New',monospace\">Byte  <span style=\"color: #000080; text-decoration-color: #000080; font-weight: bold\">4</span>  Nibble <span style=\"color: #000080; text-decoration-color: #000080; font-weight: bold\">1</span>  -   Left Margin:   <span style=\"color: #000080; text-decoration-color: #000080; font-weight: bold\">141</span>  <span style=\"font-weight: bold\">(</span> <span style=\"color: #000080; text-decoration-color: #000080; font-weight: bold\">74</span> <span style=\"font-weight: bold\">)</span>  Center Point:   <span style=\"color: #000080; text-decoration-color: #000080; font-weight: bold\">194</span>  <span style=\"font-weight: bold\">(</span> <span style=\"color: #000080; text-decoration-color: #000080; font-weight: bold\">102</span> <span style=\"font-weight: bold\">)</span>  Right \n",
       "Margin:   <span style=\"color: #000080; text-decoration-color: #000080; font-weight: bold\">143</span>  <span style=\"font-weight: bold\">(</span> <span style=\"color: #000080; text-decoration-color: #000080; font-weight: bold\">75</span> <span style=\"font-weight: bold\">)</span>\n",
       "</pre>\n"
      ],
      "text/plain": [
       "<rich.jupyter.JupyterRenderable at 0x28aa7c4eac0>"
      ]
     },
     "metadata": {},
     "output_type": "display_data"
    },
    {
     "data": {
      "text/html": [
       "<pre style=\"white-space:pre;overflow-x:auto;line-height:normal;font-family:Menlo,'DejaVu Sans Mono',consolas,'Courier New',monospace\">Byte  <span style=\"color: #000080; text-decoration-color: #000080; font-weight: bold\">5</span>  Nibble <span style=\"color: #000080; text-decoration-color: #000080; font-weight: bold\">0</span>  -   Left Margin:   <span style=\"color: #000080; text-decoration-color: #000080; font-weight: bold\">148</span>  <span style=\"font-weight: bold\">(</span> <span style=\"color: #000080; text-decoration-color: #000080; font-weight: bold\">76</span> <span style=\"font-weight: bold\">)</span>  Center Point:   <span style=\"color: #000080; text-decoration-color: #000080; font-weight: bold\">186</span>  <span style=\"font-weight: bold\">(</span> <span style=\"color: #000080; text-decoration-color: #000080; font-weight: bold\">95</span> <span style=\"font-weight: bold\">)</span>  Right Margin:\n",
       "<span style=\"color: #000080; text-decoration-color: #000080; font-weight: bold\">148</span>  <span style=\"font-weight: bold\">(</span> <span style=\"color: #000080; text-decoration-color: #000080; font-weight: bold\">76</span> <span style=\"font-weight: bold\">)</span>\n",
       "</pre>\n"
      ],
      "text/plain": [
       "<rich.jupyter.JupyterRenderable at 0x28aa7cd6340>"
      ]
     },
     "metadata": {},
     "output_type": "display_data"
    },
    {
     "data": {
      "text/html": [
       "<pre style=\"white-space:pre;overflow-x:auto;line-height:normal;font-family:Menlo,'DejaVu Sans Mono',consolas,'Courier New',monospace\">Byte  <span style=\"color: #000080; text-decoration-color: #000080; font-weight: bold\">5</span>  Nibble <span style=\"color: #000080; text-decoration-color: #000080; font-weight: bold\">1</span>  -   Left Margin:   <span style=\"color: #000080; text-decoration-color: #000080; font-weight: bold\">148</span>  <span style=\"font-weight: bold\">(</span> <span style=\"color: #000080; text-decoration-color: #000080; font-weight: bold\">76</span> <span style=\"font-weight: bold\">)</span>  Center Point:   <span style=\"color: #000080; text-decoration-color: #000080; font-weight: bold\">193</span>  <span style=\"font-weight: bold\">(</span> <span style=\"color: #000080; text-decoration-color: #000080; font-weight: bold\">99</span> <span style=\"font-weight: bold\">)</span>  Right Margin:\n",
       "<span style=\"color: #000080; text-decoration-color: #000080; font-weight: bold\">148</span>  <span style=\"font-weight: bold\">(</span> <span style=\"color: #000080; text-decoration-color: #000080; font-weight: bold\">76</span> <span style=\"font-weight: bold\">)</span>\n",
       "</pre>\n"
      ],
      "text/plain": [
       "<rich.jupyter.JupyterRenderable at 0x28aa7cd6340>"
      ]
     },
     "metadata": {},
     "output_type": "display_data"
    },
    {
     "data": {
      "text/html": [
       "<pre style=\"white-space:pre;overflow-x:auto;line-height:normal;font-family:Menlo,'DejaVu Sans Mono',consolas,'Courier New',monospace\">Byte  <span style=\"color: #000080; text-decoration-color: #000080; font-weight: bold\">6</span>  Nibble <span style=\"color: #000080; text-decoration-color: #000080; font-weight: bold\">0</span>  -   Left Margin:   <span style=\"color: #000080; text-decoration-color: #000080; font-weight: bold\">145</span>  <span style=\"font-weight: bold\">(</span> <span style=\"color: #000080; text-decoration-color: #000080; font-weight: bold\">76</span> <span style=\"font-weight: bold\">)</span>  Center Point:   <span style=\"color: #000080; text-decoration-color: #000080; font-weight: bold\">185</span>  <span style=\"font-weight: bold\">(</span> <span style=\"color: #000080; text-decoration-color: #000080; font-weight: bold\">97</span> <span style=\"font-weight: bold\">)</span>  Right Margin:\n",
       "<span style=\"color: #000080; text-decoration-color: #000080; font-weight: bold\">145</span>  <span style=\"font-weight: bold\">(</span> <span style=\"color: #000080; text-decoration-color: #000080; font-weight: bold\">76</span> <span style=\"font-weight: bold\">)</span>\n",
       "</pre>\n"
      ],
      "text/plain": [
       "<rich.jupyter.JupyterRenderable at 0x28aa7cd6340>"
      ]
     },
     "metadata": {},
     "output_type": "display_data"
    },
    {
     "data": {
      "text/html": [
       "<pre style=\"white-space:pre;overflow-x:auto;line-height:normal;font-family:Menlo,'DejaVu Sans Mono',consolas,'Courier New',monospace\">Byte  <span style=\"color: #000080; text-decoration-color: #000080; font-weight: bold\">6</span>  Nibble <span style=\"color: #000080; text-decoration-color: #000080; font-weight: bold\">1</span>  -   Left Margin:   <span style=\"color: #000080; text-decoration-color: #000080; font-weight: bold\">141</span>  <span style=\"font-weight: bold\">(</span> <span style=\"color: #000080; text-decoration-color: #000080; font-weight: bold\">73</span> <span style=\"font-weight: bold\">)</span>  Center Point:   <span style=\"color: #000080; text-decoration-color: #000080; font-weight: bold\">189</span>  <span style=\"font-weight: bold\">(</span> <span style=\"color: #000080; text-decoration-color: #000080; font-weight: bold\">98</span> <span style=\"font-weight: bold\">)</span>  Right Margin:\n",
       "<span style=\"color: #000080; text-decoration-color: #000080; font-weight: bold\">141</span>  <span style=\"font-weight: bold\">(</span> <span style=\"color: #000080; text-decoration-color: #000080; font-weight: bold\">73</span> <span style=\"font-weight: bold\">)</span>\n",
       "</pre>\n"
      ],
      "text/plain": [
       "<rich.jupyter.JupyterRenderable at 0x28aa7c45340>"
      ]
     },
     "metadata": {},
     "output_type": "display_data"
    },
    {
     "data": {
      "text/html": [
       "<pre style=\"white-space:pre;overflow-x:auto;line-height:normal;font-family:Menlo,'DejaVu Sans Mono',consolas,'Courier New',monospace\">Byte  <span style=\"color: #000080; text-decoration-color: #000080; font-weight: bold\">7</span>  Nibble <span style=\"color: #000080; text-decoration-color: #000080; font-weight: bold\">0</span>  -   Left Margin:   <span style=\"color: #000080; text-decoration-color: #000080; font-weight: bold\">148</span>  <span style=\"font-weight: bold\">(</span> <span style=\"color: #000080; text-decoration-color: #000080; font-weight: bold\">76</span> <span style=\"font-weight: bold\">)</span>  Center Point:   <span style=\"color: #000080; text-decoration-color: #000080; font-weight: bold\">186</span>  <span style=\"font-weight: bold\">(</span> <span style=\"color: #000080; text-decoration-color: #000080; font-weight: bold\">95</span> <span style=\"font-weight: bold\">)</span>  Right Margin:\n",
       "<span style=\"color: #000080; text-decoration-color: #000080; font-weight: bold\">148</span>  <span style=\"font-weight: bold\">(</span> <span style=\"color: #000080; text-decoration-color: #000080; font-weight: bold\">76</span> <span style=\"font-weight: bold\">)</span>\n",
       "</pre>\n"
      ],
      "text/plain": [
       "<rich.jupyter.JupyterRenderable at 0x28aa7cd6340>"
      ]
     },
     "metadata": {},
     "output_type": "display_data"
    },
    {
     "data": {
      "text/html": [
       "<pre style=\"white-space:pre;overflow-x:auto;line-height:normal;font-family:Menlo,'DejaVu Sans Mono',consolas,'Courier New',monospace\">Byte  <span style=\"color: #000080; text-decoration-color: #000080; font-weight: bold\">7</span>  Nibble <span style=\"color: #000080; text-decoration-color: #000080; font-weight: bold\">1</span>  -   Left Margin:   <span style=\"color: #000080; text-decoration-color: #000080; font-weight: bold\">147</span>  <span style=\"font-weight: bold\">(</span> <span style=\"color: #000080; text-decoration-color: #000080; font-weight: bold\">76</span> <span style=\"font-weight: bold\">)</span>  Center Point:   <span style=\"color: #000080; text-decoration-color: #000080; font-weight: bold\">189</span>  <span style=\"font-weight: bold\">(</span> <span style=\"color: #000080; text-decoration-color: #000080; font-weight: bold\">98</span> <span style=\"font-weight: bold\">)</span>  Right Margin:\n",
       "<span style=\"color: #000080; text-decoration-color: #000080; font-weight: bold\">147</span>  <span style=\"font-weight: bold\">(</span> <span style=\"color: #000080; text-decoration-color: #000080; font-weight: bold\">76</span> <span style=\"font-weight: bold\">)</span>\n",
       "</pre>\n"
      ],
      "text/plain": [
       "<rich.jupyter.JupyterRenderable at 0x28aa7c454f0>"
      ]
     },
     "metadata": {},
     "output_type": "display_data"
    },
    {
     "data": {
      "text/html": [
       "<pre style=\"white-space:pre;overflow-x:auto;line-height:normal;font-family:Menlo,'DejaVu Sans Mono',consolas,'Courier New',monospace\">\n",
       " Frequency <span style=\"color: #000080; text-decoration-color: #000080; font-weight: bold\">0</span>  - Read Margin - Complex Pattern - Rising Edge Clock in pS and <span style=\"font-weight: bold\">(</span>delay taps<span style=\"font-weight: bold\">)</span>:\n",
       "\n",
       "</pre>\n"
      ],
      "text/plain": [
       "<rich.jupyter.JupyterRenderable at 0x28aa7bb8940>"
      ]
     },
     "metadata": {},
     "output_type": "display_data"
    },
    {
     "data": {
      "text/html": [
       "<pre style=\"white-space:pre;overflow-x:auto;line-height:normal;font-family:Menlo,'DejaVu Sans Mono',consolas,'Courier New',monospace\">Byte  <span style=\"color: #000080; text-decoration-color: #000080; font-weight: bold\">0</span>  Nibble <span style=\"color: #000080; text-decoration-color: #000080; font-weight: bold\">0</span>  -   Left Margin:   <span style=\"color: #000080; text-decoration-color: #000080; font-weight: bold\">131</span>  <span style=\"font-weight: bold\">(</span> <span style=\"color: #000080; text-decoration-color: #000080; font-weight: bold\">67</span> <span style=\"font-weight: bold\">)</span>  Center Point:   <span style=\"color: #000080; text-decoration-color: #000080; font-weight: bold\">182</span>  <span style=\"font-weight: bold\">(</span> <span style=\"color: #000080; text-decoration-color: #000080; font-weight: bold\">93</span> <span style=\"font-weight: bold\">)</span>  Right Margin:\n",
       "<span style=\"color: #000080; text-decoration-color: #000080; font-weight: bold\">133</span>  <span style=\"font-weight: bold\">(</span> <span style=\"color: #000080; text-decoration-color: #000080; font-weight: bold\">68</span> <span style=\"font-weight: bold\">)</span>\n",
       "</pre>\n"
      ],
      "text/plain": [
       "<rich.jupyter.JupyterRenderable at 0x28aa7bb8940>"
      ]
     },
     "metadata": {},
     "output_type": "display_data"
    },
    {
     "data": {
      "text/html": [
       "<pre style=\"white-space:pre;overflow-x:auto;line-height:normal;font-family:Menlo,'DejaVu Sans Mono',consolas,'Courier New',monospace\">Byte  <span style=\"color: #000080; text-decoration-color: #000080; font-weight: bold\">0</span>  Nibble <span style=\"color: #000080; text-decoration-color: #000080; font-weight: bold\">1</span>  -   Left Margin:   <span style=\"color: #000080; text-decoration-color: #000080; font-weight: bold\">133</span>  <span style=\"font-weight: bold\">(</span> <span style=\"color: #000080; text-decoration-color: #000080; font-weight: bold\">70</span> <span style=\"font-weight: bold\">)</span>  Center Point:   <span style=\"color: #000080; text-decoration-color: #000080; font-weight: bold\">191</span>  <span style=\"font-weight: bold\">(</span> <span style=\"color: #000080; text-decoration-color: #000080; font-weight: bold\">100</span> <span style=\"font-weight: bold\">)</span>  Right \n",
       "Margin:   <span style=\"color: #000080; text-decoration-color: #000080; font-weight: bold\">133</span>  <span style=\"font-weight: bold\">(</span> <span style=\"color: #000080; text-decoration-color: #000080; font-weight: bold\">70</span> <span style=\"font-weight: bold\">)</span>\n",
       "</pre>\n"
      ],
      "text/plain": [
       "<rich.jupyter.JupyterRenderable at 0x28aa7bb8940>"
      ]
     },
     "metadata": {},
     "output_type": "display_data"
    },
    {
     "data": {
      "text/html": [
       "<pre style=\"white-space:pre;overflow-x:auto;line-height:normal;font-family:Menlo,'DejaVu Sans Mono',consolas,'Courier New',monospace\">Byte  <span style=\"color: #000080; text-decoration-color: #000080; font-weight: bold\">1</span>  Nibble <span style=\"color: #000080; text-decoration-color: #000080; font-weight: bold\">0</span>  -   Left Margin:   <span style=\"color: #000080; text-decoration-color: #000080; font-weight: bold\">124</span>  <span style=\"font-weight: bold\">(</span> <span style=\"color: #000080; text-decoration-color: #000080; font-weight: bold\">66</span> <span style=\"font-weight: bold\">)</span>  Center Point:   <span style=\"color: #000080; text-decoration-color: #000080; font-weight: bold\">164</span>  <span style=\"font-weight: bold\">(</span> <span style=\"color: #000080; text-decoration-color: #000080; font-weight: bold\">87</span> <span style=\"font-weight: bold\">)</span>  Right Margin:\n",
       "<span style=\"color: #000080; text-decoration-color: #000080; font-weight: bold\">126</span>  <span style=\"font-weight: bold\">(</span> <span style=\"color: #000080; text-decoration-color: #000080; font-weight: bold\">67</span> <span style=\"font-weight: bold\">)</span>\n",
       "</pre>\n"
      ],
      "text/plain": [
       "<rich.jupyter.JupyterRenderable at 0x28aa7bb8940>"
      ]
     },
     "metadata": {},
     "output_type": "display_data"
    },
    {
     "data": {
      "text/html": [
       "<pre style=\"white-space:pre;overflow-x:auto;line-height:normal;font-family:Menlo,'DejaVu Sans Mono',consolas,'Courier New',monospace\">Byte  <span style=\"color: #000080; text-decoration-color: #000080; font-weight: bold\">1</span>  Nibble <span style=\"color: #000080; text-decoration-color: #000080; font-weight: bold\">1</span>  -   Left Margin:   <span style=\"color: #000080; text-decoration-color: #000080; font-weight: bold\">129</span>  <span style=\"font-weight: bold\">(</span> <span style=\"color: #000080; text-decoration-color: #000080; font-weight: bold\">66</span> <span style=\"font-weight: bold\">)</span>  Center Point:   <span style=\"color: #000080; text-decoration-color: #000080; font-weight: bold\">178</span>  <span style=\"font-weight: bold\">(</span> <span style=\"color: #000080; text-decoration-color: #000080; font-weight: bold\">91</span> <span style=\"font-weight: bold\">)</span>  Right Margin:\n",
       "<span style=\"color: #000080; text-decoration-color: #000080; font-weight: bold\">131</span>  <span style=\"font-weight: bold\">(</span> <span style=\"color: #000080; text-decoration-color: #000080; font-weight: bold\">67</span> <span style=\"font-weight: bold\">)</span>\n",
       "</pre>\n"
      ],
      "text/plain": [
       "<rich.jupyter.JupyterRenderable at 0x28aa7bb8940>"
      ]
     },
     "metadata": {},
     "output_type": "display_data"
    },
    {
     "data": {
      "text/html": [
       "<pre style=\"white-space:pre;overflow-x:auto;line-height:normal;font-family:Menlo,'DejaVu Sans Mono',consolas,'Courier New',monospace\">Byte  <span style=\"color: #000080; text-decoration-color: #000080; font-weight: bold\">2</span>  Nibble <span style=\"color: #000080; text-decoration-color: #000080; font-weight: bold\">0</span>  -   Left Margin:   <span style=\"color: #000080; text-decoration-color: #000080; font-weight: bold\">129</span>  <span style=\"font-weight: bold\">(</span> <span style=\"color: #000080; text-decoration-color: #000080; font-weight: bold\">65</span> <span style=\"font-weight: bold\">)</span>  Center Point:   <span style=\"color: #000080; text-decoration-color: #000080; font-weight: bold\">178</span>  <span style=\"font-weight: bold\">(</span> <span style=\"color: #000080; text-decoration-color: #000080; font-weight: bold\">90</span> <span style=\"font-weight: bold\">)</span>  Right Margin:\n",
       "<span style=\"color: #000080; text-decoration-color: #000080; font-weight: bold\">129</span>  <span style=\"font-weight: bold\">(</span> <span style=\"color: #000080; text-decoration-color: #000080; font-weight: bold\">65</span> <span style=\"font-weight: bold\">)</span>\n",
       "</pre>\n"
      ],
      "text/plain": [
       "<rich.jupyter.JupyterRenderable at 0x28aa7bb8940>"
      ]
     },
     "metadata": {},
     "output_type": "display_data"
    },
    {
     "data": {
      "text/html": [
       "<pre style=\"white-space:pre;overflow-x:auto;line-height:normal;font-family:Menlo,'DejaVu Sans Mono',consolas,'Courier New',monospace\">Byte  <span style=\"color: #000080; text-decoration-color: #000080; font-weight: bold\">2</span>  Nibble <span style=\"color: #000080; text-decoration-color: #000080; font-weight: bold\">1</span>  -   Left Margin:   <span style=\"color: #000080; text-decoration-color: #000080; font-weight: bold\">128</span>  <span style=\"font-weight: bold\">(</span> <span style=\"color: #000080; text-decoration-color: #000080; font-weight: bold\">67</span> <span style=\"font-weight: bold\">)</span>  Center Point:   <span style=\"color: #000080; text-decoration-color: #000080; font-weight: bold\">171</span>  <span style=\"font-weight: bold\">(</span> <span style=\"color: #000080; text-decoration-color: #000080; font-weight: bold\">90</span> <span style=\"font-weight: bold\">)</span>  Right Margin:\n",
       "<span style=\"color: #000080; text-decoration-color: #000080; font-weight: bold\">128</span>  <span style=\"font-weight: bold\">(</span> <span style=\"color: #000080; text-decoration-color: #000080; font-weight: bold\">67</span> <span style=\"font-weight: bold\">)</span>\n",
       "</pre>\n"
      ],
      "text/plain": [
       "<rich.jupyter.JupyterRenderable at 0x28aa7bb8940>"
      ]
     },
     "metadata": {},
     "output_type": "display_data"
    },
    {
     "data": {
      "text/html": [
       "<pre style=\"white-space:pre;overflow-x:auto;line-height:normal;font-family:Menlo,'DejaVu Sans Mono',consolas,'Courier New',monospace\">Byte  <span style=\"color: #000080; text-decoration-color: #000080; font-weight: bold\">3</span>  Nibble <span style=\"color: #000080; text-decoration-color: #000080; font-weight: bold\">0</span>  -   Left Margin:   <span style=\"color: #000080; text-decoration-color: #000080; font-weight: bold\">131</span>  <span style=\"font-weight: bold\">(</span> <span style=\"color: #000080; text-decoration-color: #000080; font-weight: bold\">67</span> <span style=\"font-weight: bold\">)</span>  Center Point:   <span style=\"color: #000080; text-decoration-color: #000080; font-weight: bold\">172</span>  <span style=\"font-weight: bold\">(</span> <span style=\"color: #000080; text-decoration-color: #000080; font-weight: bold\">88</span> <span style=\"font-weight: bold\">)</span>  Right Margin:\n",
       "<span style=\"color: #000080; text-decoration-color: #000080; font-weight: bold\">133</span>  <span style=\"font-weight: bold\">(</span> <span style=\"color: #000080; text-decoration-color: #000080; font-weight: bold\">68</span> <span style=\"font-weight: bold\">)</span>\n",
       "</pre>\n"
      ],
      "text/plain": [
       "<rich.jupyter.JupyterRenderable at 0x28aa7bb8940>"
      ]
     },
     "metadata": {},
     "output_type": "display_data"
    },
    {
     "data": {
      "text/html": [
       "<pre style=\"white-space:pre;overflow-x:auto;line-height:normal;font-family:Menlo,'DejaVu Sans Mono',consolas,'Courier New',monospace\">Byte  <span style=\"color: #000080; text-decoration-color: #000080; font-weight: bold\">3</span>  Nibble <span style=\"color: #000080; text-decoration-color: #000080; font-weight: bold\">1</span>  -   Left Margin:   <span style=\"color: #000080; text-decoration-color: #000080; font-weight: bold\">135</span>  <span style=\"font-weight: bold\">(</span> <span style=\"color: #000080; text-decoration-color: #000080; font-weight: bold\">69</span> <span style=\"font-weight: bold\">)</span>  Center Point:   <span style=\"color: #000080; text-decoration-color: #000080; font-weight: bold\">176</span>  <span style=\"font-weight: bold\">(</span> <span style=\"color: #000080; text-decoration-color: #000080; font-weight: bold\">90</span> <span style=\"font-weight: bold\">)</span>  Right Margin:\n",
       "<span style=\"color: #000080; text-decoration-color: #000080; font-weight: bold\">135</span>  <span style=\"font-weight: bold\">(</span> <span style=\"color: #000080; text-decoration-color: #000080; font-weight: bold\">69</span> <span style=\"font-weight: bold\">)</span>\n",
       "</pre>\n"
      ],
      "text/plain": [
       "<rich.jupyter.JupyterRenderable at 0x28aa7bf9190>"
      ]
     },
     "metadata": {},
     "output_type": "display_data"
    },
    {
     "data": {
      "text/html": [
       "<pre style=\"white-space:pre;overflow-x:auto;line-height:normal;font-family:Menlo,'DejaVu Sans Mono',consolas,'Courier New',monospace\">Byte  <span style=\"color: #000080; text-decoration-color: #000080; font-weight: bold\">4</span>  Nibble <span style=\"color: #000080; text-decoration-color: #000080; font-weight: bold\">0</span>  -   Left Margin:   <span style=\"color: #000080; text-decoration-color: #000080; font-weight: bold\">125</span>  <span style=\"font-weight: bold\">(</span> <span style=\"color: #000080; text-decoration-color: #000080; font-weight: bold\">65</span> <span style=\"font-weight: bold\">)</span>  Center Point:   <span style=\"color: #000080; text-decoration-color: #000080; font-weight: bold\">170</span>  <span style=\"font-weight: bold\">(</span> <span style=\"color: #000080; text-decoration-color: #000080; font-weight: bold\">88</span> <span style=\"font-weight: bold\">)</span>  Right Margin:\n",
       "<span style=\"color: #000080; text-decoration-color: #000080; font-weight: bold\">127</span>  <span style=\"font-weight: bold\">(</span> <span style=\"color: #000080; text-decoration-color: #000080; font-weight: bold\">66</span> <span style=\"font-weight: bold\">)</span>\n",
       "</pre>\n"
      ],
      "text/plain": [
       "<rich.jupyter.JupyterRenderable at 0x28aa7bf9190>"
      ]
     },
     "metadata": {},
     "output_type": "display_data"
    },
    {
     "data": {
      "text/html": [
       "<pre style=\"white-space:pre;overflow-x:auto;line-height:normal;font-family:Menlo,'DejaVu Sans Mono',consolas,'Courier New',monospace\">Byte  <span style=\"color: #000080; text-decoration-color: #000080; font-weight: bold\">4</span>  Nibble <span style=\"color: #000080; text-decoration-color: #000080; font-weight: bold\">1</span>  -   Left Margin:   <span style=\"color: #000080; text-decoration-color: #000080; font-weight: bold\">127</span>  <span style=\"font-weight: bold\">(</span> <span style=\"color: #000080; text-decoration-color: #000080; font-weight: bold\">64</span> <span style=\"font-weight: bold\">)</span>  Center Point:   <span style=\"color: #000080; text-decoration-color: #000080; font-weight: bold\">184</span>  <span style=\"font-weight: bold\">(</span> <span style=\"color: #000080; text-decoration-color: #000080; font-weight: bold\">93</span> <span style=\"font-weight: bold\">)</span>  Right Margin:\n",
       "<span style=\"color: #000080; text-decoration-color: #000080; font-weight: bold\">127</span>  <span style=\"font-weight: bold\">(</span> <span style=\"color: #000080; text-decoration-color: #000080; font-weight: bold\">64</span> <span style=\"font-weight: bold\">)</span>\n",
       "</pre>\n"
      ],
      "text/plain": [
       "<rich.jupyter.JupyterRenderable at 0x28aa7bf9190>"
      ]
     },
     "metadata": {},
     "output_type": "display_data"
    },
    {
     "data": {
      "text/html": [
       "<pre style=\"white-space:pre;overflow-x:auto;line-height:normal;font-family:Menlo,'DejaVu Sans Mono',consolas,'Courier New',monospace\">Byte  <span style=\"color: #000080; text-decoration-color: #000080; font-weight: bold\">5</span>  Nibble <span style=\"color: #000080; text-decoration-color: #000080; font-weight: bold\">0</span>  -   Left Margin:   <span style=\"color: #000080; text-decoration-color: #000080; font-weight: bold\">131</span>  <span style=\"font-weight: bold\">(</span> <span style=\"color: #000080; text-decoration-color: #000080; font-weight: bold\">67</span> <span style=\"font-weight: bold\">)</span>  Center Point:   <span style=\"color: #000080; text-decoration-color: #000080; font-weight: bold\">178</span>  <span style=\"font-weight: bold\">(</span> <span style=\"color: #000080; text-decoration-color: #000080; font-weight: bold\">91</span> <span style=\"font-weight: bold\">)</span>  Right Margin:\n",
       "<span style=\"color: #000080; text-decoration-color: #000080; font-weight: bold\">133</span>  <span style=\"font-weight: bold\">(</span> <span style=\"color: #000080; text-decoration-color: #000080; font-weight: bold\">68</span> <span style=\"font-weight: bold\">)</span>\n",
       "</pre>\n"
      ],
      "text/plain": [
       "<rich.jupyter.JupyterRenderable at 0x28aa7bf9190>"
      ]
     },
     "metadata": {},
     "output_type": "display_data"
    },
    {
     "data": {
      "text/html": [
       "<pre style=\"white-space:pre;overflow-x:auto;line-height:normal;font-family:Menlo,'DejaVu Sans Mono',consolas,'Courier New',monospace\">Byte  <span style=\"color: #000080; text-decoration-color: #000080; font-weight: bold\">5</span>  Nibble <span style=\"color: #000080; text-decoration-color: #000080; font-weight: bold\">1</span>  -   Left Margin:   <span style=\"color: #000080; text-decoration-color: #000080; font-weight: bold\">138</span>  <span style=\"font-weight: bold\">(</span> <span style=\"color: #000080; text-decoration-color: #000080; font-weight: bold\">70</span> <span style=\"font-weight: bold\">)</span>  Center Point:   <span style=\"color: #000080; text-decoration-color: #000080; font-weight: bold\">190</span>  <span style=\"font-weight: bold\">(</span> <span style=\"color: #000080; text-decoration-color: #000080; font-weight: bold\">96</span> <span style=\"font-weight: bold\">)</span>  Right Margin:\n",
       "<span style=\"color: #000080; text-decoration-color: #000080; font-weight: bold\">138</span>  <span style=\"font-weight: bold\">(</span> <span style=\"color: #000080; text-decoration-color: #000080; font-weight: bold\">70</span> <span style=\"font-weight: bold\">)</span>\n",
       "</pre>\n"
      ],
      "text/plain": [
       "<rich.jupyter.JupyterRenderable at 0x28aa7bf9190>"
      ]
     },
     "metadata": {},
     "output_type": "display_data"
    },
    {
     "data": {
      "text/html": [
       "<pre style=\"white-space:pre;overflow-x:auto;line-height:normal;font-family:Menlo,'DejaVu Sans Mono',consolas,'Courier New',monospace\">Byte  <span style=\"color: #000080; text-decoration-color: #000080; font-weight: bold\">6</span>  Nibble <span style=\"color: #000080; text-decoration-color: #000080; font-weight: bold\">0</span>  -   Left Margin:   <span style=\"color: #000080; text-decoration-color: #000080; font-weight: bold\">135</span>  <span style=\"font-weight: bold\">(</span> <span style=\"color: #000080; text-decoration-color: #000080; font-weight: bold\">69</span> <span style=\"font-weight: bold\">)</span>  Center Point:   <span style=\"color: #000080; text-decoration-color: #000080; font-weight: bold\">176</span>  <span style=\"font-weight: bold\">(</span> <span style=\"color: #000080; text-decoration-color: #000080; font-weight: bold\">90</span> <span style=\"font-weight: bold\">)</span>  Right Margin:\n",
       "<span style=\"color: #000080; text-decoration-color: #000080; font-weight: bold\">135</span>  <span style=\"font-weight: bold\">(</span> <span style=\"color: #000080; text-decoration-color: #000080; font-weight: bold\">69</span> <span style=\"font-weight: bold\">)</span>\n",
       "</pre>\n"
      ],
      "text/plain": [
       "<rich.jupyter.JupyterRenderable at 0x28aa7bf9190>"
      ]
     },
     "metadata": {},
     "output_type": "display_data"
    },
    {
     "data": {
      "text/html": [
       "<pre style=\"white-space:pre;overflow-x:auto;line-height:normal;font-family:Menlo,'DejaVu Sans Mono',consolas,'Courier New',monospace\">Byte  <span style=\"color: #000080; text-decoration-color: #000080; font-weight: bold\">6</span>  Nibble <span style=\"color: #000080; text-decoration-color: #000080; font-weight: bold\">1</span>  -   Left Margin:   <span style=\"color: #000080; text-decoration-color: #000080; font-weight: bold\">135</span>  <span style=\"font-weight: bold\">(</span> <span style=\"color: #000080; text-decoration-color: #000080; font-weight: bold\">69</span> <span style=\"font-weight: bold\">)</span>  Center Point:   <span style=\"color: #000080; text-decoration-color: #000080; font-weight: bold\">188</span>  <span style=\"font-weight: bold\">(</span> <span style=\"color: #000080; text-decoration-color: #000080; font-weight: bold\">96</span> <span style=\"font-weight: bold\">)</span>  Right Margin:\n",
       "<span style=\"color: #000080; text-decoration-color: #000080; font-weight: bold\">137</span>  <span style=\"font-weight: bold\">(</span> <span style=\"color: #000080; text-decoration-color: #000080; font-weight: bold\">70</span> <span style=\"font-weight: bold\">)</span>\n",
       "</pre>\n"
      ],
      "text/plain": [
       "<rich.jupyter.JupyterRenderable at 0x28aa7bf9190>"
      ]
     },
     "metadata": {},
     "output_type": "display_data"
    },
    {
     "data": {
      "text/html": [
       "<pre style=\"white-space:pre;overflow-x:auto;line-height:normal;font-family:Menlo,'DejaVu Sans Mono',consolas,'Courier New',monospace\">Byte  <span style=\"color: #000080; text-decoration-color: #000080; font-weight: bold\">7</span>  Nibble <span style=\"color: #000080; text-decoration-color: #000080; font-weight: bold\">0</span>  -   Left Margin:   <span style=\"color: #000080; text-decoration-color: #000080; font-weight: bold\">133</span>  <span style=\"font-weight: bold\">(</span> <span style=\"color: #000080; text-decoration-color: #000080; font-weight: bold\">67</span> <span style=\"font-weight: bold\">)</span>  Center Point:   <span style=\"color: #000080; text-decoration-color: #000080; font-weight: bold\">178</span>  <span style=\"font-weight: bold\">(</span> <span style=\"color: #000080; text-decoration-color: #000080; font-weight: bold\">90</span> <span style=\"font-weight: bold\">)</span>  Right Margin:\n",
       "<span style=\"color: #000080; text-decoration-color: #000080; font-weight: bold\">134</span>  <span style=\"font-weight: bold\">(</span> <span style=\"color: #000080; text-decoration-color: #000080; font-weight: bold\">68</span> <span style=\"font-weight: bold\">)</span>\n",
       "</pre>\n"
      ],
      "text/plain": [
       "<rich.jupyter.JupyterRenderable at 0x28aa7bf9190>"
      ]
     },
     "metadata": {},
     "output_type": "display_data"
    },
    {
     "data": {
      "text/html": [
       "<pre style=\"white-space:pre;overflow-x:auto;line-height:normal;font-family:Menlo,'DejaVu Sans Mono',consolas,'Courier New',monospace\">Byte  <span style=\"color: #000080; text-decoration-color: #000080; font-weight: bold\">7</span>  Nibble <span style=\"color: #000080; text-decoration-color: #000080; font-weight: bold\">1</span>  -   Left Margin:   <span style=\"color: #000080; text-decoration-color: #000080; font-weight: bold\">136</span>  <span style=\"font-weight: bold\">(</span> <span style=\"color: #000080; text-decoration-color: #000080; font-weight: bold\">68</span> <span style=\"font-weight: bold\">)</span>  Center Point:   <span style=\"color: #000080; text-decoration-color: #000080; font-weight: bold\">182</span>  <span style=\"font-weight: bold\">(</span> <span style=\"color: #000080; text-decoration-color: #000080; font-weight: bold\">91</span> <span style=\"font-weight: bold\">)</span>  Right Margin:\n",
       "<span style=\"color: #000080; text-decoration-color: #000080; font-weight: bold\">138</span>  <span style=\"font-weight: bold\">(</span> <span style=\"color: #000080; text-decoration-color: #000080; font-weight: bold\">69</span> <span style=\"font-weight: bold\">)</span>\n",
       "</pre>\n"
      ],
      "text/plain": [
       "<rich.jupyter.JupyterRenderable at 0x28aa7bb84c0>"
      ]
     },
     "metadata": {},
     "output_type": "display_data"
    },
    {
     "data": {
      "text/html": [
       "<pre style=\"white-space:pre;overflow-x:auto;line-height:normal;font-family:Menlo,'DejaVu Sans Mono',consolas,'Courier New',monospace\">\n",
       " Frequency <span style=\"color: #000080; text-decoration-color: #000080; font-weight: bold\">0</span>  - Read Margin - Complex Pattern - Falling Edge Clock in pS and <span style=\"font-weight: bold\">(</span>delay taps<span style=\"font-weight: bold\">)</span>:\n",
       "\n",
       "</pre>\n"
      ],
      "text/plain": [
       "<rich.jupyter.JupyterRenderable at 0x28aa7d75850>"
      ]
     },
     "metadata": {},
     "output_type": "display_data"
    },
    {
     "data": {
      "text/html": [
       "<pre style=\"white-space:pre;overflow-x:auto;line-height:normal;font-family:Menlo,'DejaVu Sans Mono',consolas,'Courier New',monospace\">Byte  <span style=\"color: #000080; text-decoration-color: #000080; font-weight: bold\">0</span>  Nibble <span style=\"color: #000080; text-decoration-color: #000080; font-weight: bold\">0</span>  -   Left Margin:   <span style=\"color: #000080; text-decoration-color: #000080; font-weight: bold\">123</span>  <span style=\"font-weight: bold\">(</span> <span style=\"color: #000080; text-decoration-color: #000080; font-weight: bold\">64</span> <span style=\"font-weight: bold\">)</span>  Center Point:   <span style=\"color: #000080; text-decoration-color: #000080; font-weight: bold\">174</span>  <span style=\"font-weight: bold\">(</span> <span style=\"color: #000080; text-decoration-color: #000080; font-weight: bold\">90</span> <span style=\"font-weight: bold\">)</span>  Right Margin:\n",
       "<span style=\"color: #000080; text-decoration-color: #000080; font-weight: bold\">125</span>  <span style=\"font-weight: bold\">(</span> <span style=\"color: #000080; text-decoration-color: #000080; font-weight: bold\">65</span> <span style=\"font-weight: bold\">)</span>\n",
       "</pre>\n"
      ],
      "text/plain": [
       "<rich.jupyter.JupyterRenderable at 0x28aa7d75640>"
      ]
     },
     "metadata": {},
     "output_type": "display_data"
    },
    {
     "data": {
      "text/html": [
       "<pre style=\"white-space:pre;overflow-x:auto;line-height:normal;font-family:Menlo,'DejaVu Sans Mono',consolas,'Courier New',monospace\">Byte  <span style=\"color: #000080; text-decoration-color: #000080; font-weight: bold\">0</span>  Nibble <span style=\"color: #000080; text-decoration-color: #000080; font-weight: bold\">1</span>  -   Left Margin:   <span style=\"color: #000080; text-decoration-color: #000080; font-weight: bold\">117</span>  <span style=\"font-weight: bold\">(</span> <span style=\"color: #000080; text-decoration-color: #000080; font-weight: bold\">62</span> <span style=\"font-weight: bold\">)</span>  Center Point:   <span style=\"color: #000080; text-decoration-color: #000080; font-weight: bold\">175</span>  <span style=\"font-weight: bold\">(</span> <span style=\"color: #000080; text-decoration-color: #000080; font-weight: bold\">93</span> <span style=\"font-weight: bold\">)</span>  Right Margin:\n",
       "<span style=\"color: #000080; text-decoration-color: #000080; font-weight: bold\">119</span>  <span style=\"font-weight: bold\">(</span> <span style=\"color: #000080; text-decoration-color: #000080; font-weight: bold\">63</span> <span style=\"font-weight: bold\">)</span>\n",
       "</pre>\n"
      ],
      "text/plain": [
       "<rich.jupyter.JupyterRenderable at 0x28aa7d75130>"
      ]
     },
     "metadata": {},
     "output_type": "display_data"
    },
    {
     "data": {
      "text/html": [
       "<pre style=\"white-space:pre;overflow-x:auto;line-height:normal;font-family:Menlo,'DejaVu Sans Mono',consolas,'Courier New',monospace\">Byte  <span style=\"color: #000080; text-decoration-color: #000080; font-weight: bold\">1</span>  Nibble <span style=\"color: #000080; text-decoration-color: #000080; font-weight: bold\">0</span>  -   Left Margin:   <span style=\"color: #000080; text-decoration-color: #000080; font-weight: bold\">118</span>  <span style=\"font-weight: bold\">(</span> <span style=\"color: #000080; text-decoration-color: #000080; font-weight: bold\">62</span> <span style=\"font-weight: bold\">)</span>  Center Point:   <span style=\"color: #000080; text-decoration-color: #000080; font-weight: bold\">158</span>  <span style=\"font-weight: bold\">(</span> <span style=\"color: #000080; text-decoration-color: #000080; font-weight: bold\">83</span> <span style=\"font-weight: bold\">)</span>  Right Margin:\n",
       "<span style=\"color: #000080; text-decoration-color: #000080; font-weight: bold\">118</span>  <span style=\"font-weight: bold\">(</span> <span style=\"color: #000080; text-decoration-color: #000080; font-weight: bold\">62</span> <span style=\"font-weight: bold\">)</span>\n",
       "</pre>\n"
      ],
      "text/plain": [
       "<rich.jupyter.JupyterRenderable at 0x28aa7d75e20>"
      ]
     },
     "metadata": {},
     "output_type": "display_data"
    },
    {
     "data": {
      "text/html": [
       "<pre style=\"white-space:pre;overflow-x:auto;line-height:normal;font-family:Menlo,'DejaVu Sans Mono',consolas,'Courier New',monospace\">Byte  <span style=\"color: #000080; text-decoration-color: #000080; font-weight: bold\">1</span>  Nibble <span style=\"color: #000080; text-decoration-color: #000080; font-weight: bold\">1</span>  -   Left Margin:   <span style=\"color: #000080; text-decoration-color: #000080; font-weight: bold\">122</span>  <span style=\"font-weight: bold\">(</span> <span style=\"color: #000080; text-decoration-color: #000080; font-weight: bold\">63</span> <span style=\"font-weight: bold\">)</span>  Center Point:   <span style=\"color: #000080; text-decoration-color: #000080; font-weight: bold\">166</span>  <span style=\"font-weight: bold\">(</span> <span style=\"color: #000080; text-decoration-color: #000080; font-weight: bold\">86</span> <span style=\"font-weight: bold\">)</span>  Right Margin:\n",
       "<span style=\"color: #000080; text-decoration-color: #000080; font-weight: bold\">123</span>  <span style=\"font-weight: bold\">(</span> <span style=\"color: #000080; text-decoration-color: #000080; font-weight: bold\">64</span> <span style=\"font-weight: bold\">)</span>\n",
       "</pre>\n"
      ],
      "text/plain": [
       "<rich.jupyter.JupyterRenderable at 0x28aa7d758b0>"
      ]
     },
     "metadata": {},
     "output_type": "display_data"
    },
    {
     "data": {
      "text/html": [
       "<pre style=\"white-space:pre;overflow-x:auto;line-height:normal;font-family:Menlo,'DejaVu Sans Mono',consolas,'Courier New',monospace\">Byte  <span style=\"color: #000080; text-decoration-color: #000080; font-weight: bold\">2</span>  Nibble <span style=\"color: #000080; text-decoration-color: #000080; font-weight: bold\">0</span>  -   Left Margin:   <span style=\"color: #000080; text-decoration-color: #000080; font-weight: bold\">120</span>  <span style=\"font-weight: bold\">(</span> <span style=\"color: #000080; text-decoration-color: #000080; font-weight: bold\">62</span> <span style=\"font-weight: bold\">)</span>  Center Point:   <span style=\"color: #000080; text-decoration-color: #000080; font-weight: bold\">177</span>  <span style=\"font-weight: bold\">(</span> <span style=\"color: #000080; text-decoration-color: #000080; font-weight: bold\">92</span> <span style=\"font-weight: bold\">)</span>  Right Margin:\n",
       "<span style=\"color: #000080; text-decoration-color: #000080; font-weight: bold\">122</span>  <span style=\"font-weight: bold\">(</span> <span style=\"color: #000080; text-decoration-color: #000080; font-weight: bold\">63</span> <span style=\"font-weight: bold\">)</span>\n",
       "</pre>\n"
      ],
      "text/plain": [
       "<rich.jupyter.JupyterRenderable at 0x28aa7d756d0>"
      ]
     },
     "metadata": {},
     "output_type": "display_data"
    },
    {
     "data": {
      "text/html": [
       "<pre style=\"white-space:pre;overflow-x:auto;line-height:normal;font-family:Menlo,'DejaVu Sans Mono',consolas,'Courier New',monospace\">Byte  <span style=\"color: #000080; text-decoration-color: #000080; font-weight: bold\">2</span>  Nibble <span style=\"color: #000080; text-decoration-color: #000080; font-weight: bold\">1</span>  -   Left Margin:   <span style=\"color: #000080; text-decoration-color: #000080; font-weight: bold\">117</span>  <span style=\"font-weight: bold\">(</span> <span style=\"color: #000080; text-decoration-color: #000080; font-weight: bold\">62</span> <span style=\"font-weight: bold\">)</span>  Center Point:   <span style=\"color: #000080; text-decoration-color: #000080; font-weight: bold\">169</span>  <span style=\"font-weight: bold\">(</span> <span style=\"color: #000080; text-decoration-color: #000080; font-weight: bold\">90</span> <span style=\"font-weight: bold\">)</span>  Right Margin:\n",
       "<span style=\"color: #000080; text-decoration-color: #000080; font-weight: bold\">119</span>  <span style=\"font-weight: bold\">(</span> <span style=\"color: #000080; text-decoration-color: #000080; font-weight: bold\">63</span> <span style=\"font-weight: bold\">)</span>\n",
       "</pre>\n"
      ],
      "text/plain": [
       "<rich.jupyter.JupyterRenderable at 0x28aa7d7c700>"
      ]
     },
     "metadata": {},
     "output_type": "display_data"
    },
    {
     "data": {
      "text/html": [
       "<pre style=\"white-space:pre;overflow-x:auto;line-height:normal;font-family:Menlo,'DejaVu Sans Mono',consolas,'Courier New',monospace\">Byte  <span style=\"color: #000080; text-decoration-color: #000080; font-weight: bold\">3</span>  Nibble <span style=\"color: #000080; text-decoration-color: #000080; font-weight: bold\">0</span>  -   Left Margin:   <span style=\"color: #000080; text-decoration-color: #000080; font-weight: bold\">122</span>  <span style=\"font-weight: bold\">(</span> <span style=\"color: #000080; text-decoration-color: #000080; font-weight: bold\">63</span> <span style=\"font-weight: bold\">)</span>  Center Point:   <span style=\"color: #000080; text-decoration-color: #000080; font-weight: bold\">160</span>  <span style=\"font-weight: bold\">(</span> <span style=\"color: #000080; text-decoration-color: #000080; font-weight: bold\">83</span> <span style=\"font-weight: bold\">)</span>  Right Margin:\n",
       "<span style=\"color: #000080; text-decoration-color: #000080; font-weight: bold\">122</span>  <span style=\"font-weight: bold\">(</span> <span style=\"color: #000080; text-decoration-color: #000080; font-weight: bold\">63</span> <span style=\"font-weight: bold\">)</span>\n",
       "</pre>\n"
      ],
      "text/plain": [
       "<rich.jupyter.JupyterRenderable at 0x28aa7d7c700>"
      ]
     },
     "metadata": {},
     "output_type": "display_data"
    },
    {
     "data": {
      "text/html": [
       "<pre style=\"white-space:pre;overflow-x:auto;line-height:normal;font-family:Menlo,'DejaVu Sans Mono',consolas,'Courier New',monospace\">Byte  <span style=\"color: #000080; text-decoration-color: #000080; font-weight: bold\">3</span>  Nibble <span style=\"color: #000080; text-decoration-color: #000080; font-weight: bold\">1</span>  -   Left Margin:   <span style=\"color: #000080; text-decoration-color: #000080; font-weight: bold\">123</span>  <span style=\"font-weight: bold\">(</span> <span style=\"color: #000080; text-decoration-color: #000080; font-weight: bold\">63</span> <span style=\"font-weight: bold\">)</span>  Center Point:   <span style=\"color: #000080; text-decoration-color: #000080; font-weight: bold\">162</span>  <span style=\"font-weight: bold\">(</span> <span style=\"color: #000080; text-decoration-color: #000080; font-weight: bold\">83</span> <span style=\"font-weight: bold\">)</span>  Right Margin:\n",
       "<span style=\"color: #000080; text-decoration-color: #000080; font-weight: bold\">123</span>  <span style=\"font-weight: bold\">(</span> <span style=\"color: #000080; text-decoration-color: #000080; font-weight: bold\">63</span> <span style=\"font-weight: bold\">)</span>\n",
       "</pre>\n"
      ],
      "text/plain": [
       "<rich.jupyter.JupyterRenderable at 0x28aa7d7c700>"
      ]
     },
     "metadata": {},
     "output_type": "display_data"
    },
    {
     "data": {
      "text/html": [
       "<pre style=\"white-space:pre;overflow-x:auto;line-height:normal;font-family:Menlo,'DejaVu Sans Mono',consolas,'Courier New',monospace\">Byte  <span style=\"color: #000080; text-decoration-color: #000080; font-weight: bold\">4</span>  Nibble <span style=\"color: #000080; text-decoration-color: #000080; font-weight: bold\">0</span>  -   Left Margin:   <span style=\"color: #000080; text-decoration-color: #000080; font-weight: bold\">112</span>  <span style=\"font-weight: bold\">(</span> <span style=\"color: #000080; text-decoration-color: #000080; font-weight: bold\">58</span> <span style=\"font-weight: bold\">)</span>  Center Point:   <span style=\"color: #000080; text-decoration-color: #000080; font-weight: bold\">160</span>  <span style=\"font-weight: bold\">(</span> <span style=\"color: #000080; text-decoration-color: #000080; font-weight: bold\">83</span> <span style=\"font-weight: bold\">)</span>  Right Margin:\n",
       "<span style=\"color: #000080; text-decoration-color: #000080; font-weight: bold\">114</span>  <span style=\"font-weight: bold\">(</span> <span style=\"color: #000080; text-decoration-color: #000080; font-weight: bold\">59</span> <span style=\"font-weight: bold\">)</span>\n",
       "</pre>\n"
      ],
      "text/plain": [
       "<rich.jupyter.JupyterRenderable at 0x28aa7d7c700>"
      ]
     },
     "metadata": {},
     "output_type": "display_data"
    },
    {
     "data": {
      "text/html": [
       "<pre style=\"white-space:pre;overflow-x:auto;line-height:normal;font-family:Menlo,'DejaVu Sans Mono',consolas,'Courier New',monospace\">Byte  <span style=\"color: #000080; text-decoration-color: #000080; font-weight: bold\">4</span>  Nibble <span style=\"color: #000080; text-decoration-color: #000080; font-weight: bold\">1</span>  -   Left Margin:   <span style=\"color: #000080; text-decoration-color: #000080; font-weight: bold\">114</span>  <span style=\"font-weight: bold\">(</span> <span style=\"color: #000080; text-decoration-color: #000080; font-weight: bold\">60</span> <span style=\"font-weight: bold\">)</span>  Center Point:   <span style=\"color: #000080; text-decoration-color: #000080; font-weight: bold\">170</span>  <span style=\"font-weight: bold\">(</span> <span style=\"color: #000080; text-decoration-color: #000080; font-weight: bold\">89</span> <span style=\"font-weight: bold\">)</span>  Right Margin:\n",
       "<span style=\"color: #000080; text-decoration-color: #000080; font-weight: bold\">116</span>  <span style=\"font-weight: bold\">(</span> <span style=\"color: #000080; text-decoration-color: #000080; font-weight: bold\">61</span> <span style=\"font-weight: bold\">)</span>\n",
       "</pre>\n"
      ],
      "text/plain": [
       "<rich.jupyter.JupyterRenderable at 0x28aa7d7c700>"
      ]
     },
     "metadata": {},
     "output_type": "display_data"
    },
    {
     "data": {
      "text/html": [
       "<pre style=\"white-space:pre;overflow-x:auto;line-height:normal;font-family:Menlo,'DejaVu Sans Mono',consolas,'Courier New',monospace\">Byte  <span style=\"color: #000080; text-decoration-color: #000080; font-weight: bold\">5</span>  Nibble <span style=\"color: #000080; text-decoration-color: #000080; font-weight: bold\">0</span>  -   Left Margin:   <span style=\"color: #000080; text-decoration-color: #000080; font-weight: bold\">123</span>  <span style=\"font-weight: bold\">(</span> <span style=\"color: #000080; text-decoration-color: #000080; font-weight: bold\">63</span> <span style=\"font-weight: bold\">)</span>  Center Point:   <span style=\"color: #000080; text-decoration-color: #000080; font-weight: bold\">162</span>  <span style=\"font-weight: bold\">(</span> <span style=\"color: #000080; text-decoration-color: #000080; font-weight: bold\">83</span> <span style=\"font-weight: bold\">)</span>  Right Margin:\n",
       "<span style=\"color: #000080; text-decoration-color: #000080; font-weight: bold\">123</span>  <span style=\"font-weight: bold\">(</span> <span style=\"color: #000080; text-decoration-color: #000080; font-weight: bold\">63</span> <span style=\"font-weight: bold\">)</span>\n",
       "</pre>\n"
      ],
      "text/plain": [
       "<rich.jupyter.JupyterRenderable at 0x28aa7d7c700>"
      ]
     },
     "metadata": {},
     "output_type": "display_data"
    },
    {
     "data": {
      "text/html": [
       "<pre style=\"white-space:pre;overflow-x:auto;line-height:normal;font-family:Menlo,'DejaVu Sans Mono',consolas,'Courier New',monospace\">Byte  <span style=\"color: #000080; text-decoration-color: #000080; font-weight: bold\">5</span>  Nibble <span style=\"color: #000080; text-decoration-color: #000080; font-weight: bold\">1</span>  -   Left Margin:   <span style=\"color: #000080; text-decoration-color: #000080; font-weight: bold\">125</span>  <span style=\"font-weight: bold\">(</span> <span style=\"color: #000080; text-decoration-color: #000080; font-weight: bold\">64</span> <span style=\"font-weight: bold\">)</span>  Center Point:   <span style=\"color: #000080; text-decoration-color: #000080; font-weight: bold\">174</span>  <span style=\"font-weight: bold\">(</span> <span style=\"color: #000080; text-decoration-color: #000080; font-weight: bold\">89</span> <span style=\"font-weight: bold\">)</span>  Right Margin:\n",
       "<span style=\"color: #000080; text-decoration-color: #000080; font-weight: bold\">127</span>  <span style=\"font-weight: bold\">(</span> <span style=\"color: #000080; text-decoration-color: #000080; font-weight: bold\">65</span> <span style=\"font-weight: bold\">)</span>\n",
       "</pre>\n"
      ],
      "text/plain": [
       "<rich.jupyter.JupyterRenderable at 0x28aa7d7c700>"
      ]
     },
     "metadata": {},
     "output_type": "display_data"
    },
    {
     "data": {
      "text/html": [
       "<pre style=\"white-space:pre;overflow-x:auto;line-height:normal;font-family:Menlo,'DejaVu Sans Mono',consolas,'Courier New',monospace\">Byte  <span style=\"color: #000080; text-decoration-color: #000080; font-weight: bold\">6</span>  Nibble <span style=\"color: #000080; text-decoration-color: #000080; font-weight: bold\">0</span>  -   Left Margin:   <span style=\"color: #000080; text-decoration-color: #000080; font-weight: bold\">118</span>  <span style=\"font-weight: bold\">(</span> <span style=\"color: #000080; text-decoration-color: #000080; font-weight: bold\">62</span> <span style=\"font-weight: bold\">)</span>  Center Point:   <span style=\"color: #000080; text-decoration-color: #000080; font-weight: bold\">160</span>  <span style=\"font-weight: bold\">(</span> <span style=\"color: #000080; text-decoration-color: #000080; font-weight: bold\">84</span> <span style=\"font-weight: bold\">)</span>  Right Margin:\n",
       "<span style=\"color: #000080; text-decoration-color: #000080; font-weight: bold\">118</span>  <span style=\"font-weight: bold\">(</span> <span style=\"color: #000080; text-decoration-color: #000080; font-weight: bold\">62</span> <span style=\"font-weight: bold\">)</span>\n",
       "</pre>\n"
      ],
      "text/plain": [
       "<rich.jupyter.JupyterRenderable at 0x28aa7d7c700>"
      ]
     },
     "metadata": {},
     "output_type": "display_data"
    },
    {
     "data": {
      "text/html": [
       "<pre style=\"white-space:pre;overflow-x:auto;line-height:normal;font-family:Menlo,'DejaVu Sans Mono',consolas,'Courier New',monospace\">Byte  <span style=\"color: #000080; text-decoration-color: #000080; font-weight: bold\">6</span>  Nibble <span style=\"color: #000080; text-decoration-color: #000080; font-weight: bold\">1</span>  -   Left Margin:   <span style=\"color: #000080; text-decoration-color: #000080; font-weight: bold\">116</span>  <span style=\"font-weight: bold\">(</span> <span style=\"color: #000080; text-decoration-color: #000080; font-weight: bold\">60</span> <span style=\"font-weight: bold\">)</span>  Center Point:   <span style=\"color: #000080; text-decoration-color: #000080; font-weight: bold\">166</span>  <span style=\"font-weight: bold\">(</span> <span style=\"color: #000080; text-decoration-color: #000080; font-weight: bold\">86</span> <span style=\"font-weight: bold\">)</span>  Right Margin:\n",
       "<span style=\"color: #000080; text-decoration-color: #000080; font-weight: bold\">118</span>  <span style=\"font-weight: bold\">(</span> <span style=\"color: #000080; text-decoration-color: #000080; font-weight: bold\">61</span> <span style=\"font-weight: bold\">)</span>\n",
       "</pre>\n"
      ],
      "text/plain": [
       "<rich.jupyter.JupyterRenderable at 0x28aa7d7c700>"
      ]
     },
     "metadata": {},
     "output_type": "display_data"
    },
    {
     "data": {
      "text/html": [
       "<pre style=\"white-space:pre;overflow-x:auto;line-height:normal;font-family:Menlo,'DejaVu Sans Mono',consolas,'Courier New',monospace\">Byte  <span style=\"color: #000080; text-decoration-color: #000080; font-weight: bold\">7</span>  Nibble <span style=\"color: #000080; text-decoration-color: #000080; font-weight: bold\">0</span>  -   Left Margin:   <span style=\"color: #000080; text-decoration-color: #000080; font-weight: bold\">125</span>  <span style=\"font-weight: bold\">(</span> <span style=\"color: #000080; text-decoration-color: #000080; font-weight: bold\">64</span> <span style=\"font-weight: bold\">)</span>  Center Point:   <span style=\"color: #000080; text-decoration-color: #000080; font-weight: bold\">164</span>  <span style=\"font-weight: bold\">(</span> <span style=\"color: #000080; text-decoration-color: #000080; font-weight: bold\">84</span> <span style=\"font-weight: bold\">)</span>  Right Margin:\n",
       "<span style=\"color: #000080; text-decoration-color: #000080; font-weight: bold\">125</span>  <span style=\"font-weight: bold\">(</span> <span style=\"color: #000080; text-decoration-color: #000080; font-weight: bold\">64</span> <span style=\"font-weight: bold\">)</span>\n",
       "</pre>\n"
      ],
      "text/plain": [
       "<rich.jupyter.JupyterRenderable at 0x28aa7d7c700>"
      ]
     },
     "metadata": {},
     "output_type": "display_data"
    },
    {
     "data": {
      "text/html": [
       "<pre style=\"white-space:pre;overflow-x:auto;line-height:normal;font-family:Menlo,'DejaVu Sans Mono',consolas,'Courier New',monospace\">Byte  <span style=\"color: #000080; text-decoration-color: #000080; font-weight: bold\">7</span>  Nibble <span style=\"color: #000080; text-decoration-color: #000080; font-weight: bold\">1</span>  -   Left Margin:   <span style=\"color: #000080; text-decoration-color: #000080; font-weight: bold\">122</span>  <span style=\"font-weight: bold\">(</span> <span style=\"color: #000080; text-decoration-color: #000080; font-weight: bold\">63</span> <span style=\"font-weight: bold\">)</span>  Center Point:   <span style=\"color: #000080; text-decoration-color: #000080; font-weight: bold\">172</span>  <span style=\"font-weight: bold\">(</span> <span style=\"color: #000080; text-decoration-color: #000080; font-weight: bold\">89</span> <span style=\"font-weight: bold\">)</span>  Right Margin:\n",
       "<span style=\"color: #000080; text-decoration-color: #000080; font-weight: bold\">122</span>  <span style=\"font-weight: bold\">(</span> <span style=\"color: #000080; text-decoration-color: #000080; font-weight: bold\">63</span> <span style=\"font-weight: bold\">)</span>\n",
       "</pre>\n"
      ],
      "text/plain": [
       "<rich.jupyter.JupyterRenderable at 0x28aa7d7c700>"
      ]
     },
     "metadata": {},
     "output_type": "display_data"
    },
    {
     "data": {
      "text/html": [
       "<pre style=\"white-space:pre;overflow-x:auto;line-height:normal;font-family:Menlo,'DejaVu Sans Mono',consolas,'Courier New',monospace\">\n",
       " Frequency <span style=\"color: #000080; text-decoration-color: #000080; font-weight: bold\">0</span>  - Write Margin - Simple Pattern - Calibration Window in pS and <span style=\"font-weight: bold\">(</span>delay taps<span style=\"font-weight: bold\">)</span>:\n",
       "\n",
       "</pre>\n"
      ],
      "text/plain": [
       "<rich.jupyter.JupyterRenderable at 0x28aa7d98580>"
      ]
     },
     "metadata": {},
     "output_type": "display_data"
    },
    {
     "data": {
      "text/html": [
       "<pre style=\"white-space:pre;overflow-x:auto;line-height:normal;font-family:Menlo,'DejaVu Sans Mono',consolas,'Courier New',monospace\">Byte  <span style=\"color: #000080; text-decoration-color: #000080; font-weight: bold\">0</span>   -  Left Margin:   <span style=\"color: #000080; text-decoration-color: #000080; font-weight: bold\">141</span>  <span style=\"font-weight: bold\">(</span> <span style=\"color: #000080; text-decoration-color: #000080; font-weight: bold\">73</span> <span style=\"font-weight: bold\">)</span>  Center Point:   <span style=\"color: #000080; text-decoration-color: #000080; font-weight: bold\">473</span>  <span style=\"font-weight: bold\">(</span> <span style=\"color: #000080; text-decoration-color: #000080; font-weight: bold\">245</span> <span style=\"font-weight: bold\">)</span>  Right Margin:   <span style=\"color: #000080; text-decoration-color: #000080; font-weight: bold\">149</span>  <span style=\"font-weight: bold\">(</span>\n",
       "<span style=\"color: #000080; text-decoration-color: #000080; font-weight: bold\">77</span> <span style=\"font-weight: bold\">)</span>\n",
       "</pre>\n"
      ],
      "text/plain": [
       "<rich.jupyter.JupyterRenderable at 0x28aa7d98940>"
      ]
     },
     "metadata": {},
     "output_type": "display_data"
    },
    {
     "data": {
      "text/html": [
       "<pre style=\"white-space:pre;overflow-x:auto;line-height:normal;font-family:Menlo,'DejaVu Sans Mono',consolas,'Courier New',monospace\">Byte  <span style=\"color: #000080; text-decoration-color: #000080; font-weight: bold\">1</span>   -  Left Margin:   <span style=\"color: #000080; text-decoration-color: #000080; font-weight: bold\">162</span>  <span style=\"font-weight: bold\">(</span> <span style=\"color: #000080; text-decoration-color: #000080; font-weight: bold\">84</span> <span style=\"font-weight: bold\">)</span>  Center Point:   <span style=\"color: #000080; text-decoration-color: #000080; font-weight: bold\">623</span>  <span style=\"font-weight: bold\">(</span> <span style=\"color: #000080; text-decoration-color: #000080; font-weight: bold\">323</span> <span style=\"font-weight: bold\">)</span>  Right Margin:   <span style=\"color: #000080; text-decoration-color: #000080; font-weight: bold\">118</span>  <span style=\"font-weight: bold\">(</span>\n",
       "<span style=\"color: #000080; text-decoration-color: #000080; font-weight: bold\">61</span> <span style=\"font-weight: bold\">)</span>\n",
       "</pre>\n"
      ],
      "text/plain": [
       "<rich.jupyter.JupyterRenderable at 0x28aa7d980a0>"
      ]
     },
     "metadata": {},
     "output_type": "display_data"
    },
    {
     "data": {
      "text/html": [
       "<pre style=\"white-space:pre;overflow-x:auto;line-height:normal;font-family:Menlo,'DejaVu Sans Mono',consolas,'Courier New',monospace\">Byte  <span style=\"color: #000080; text-decoration-color: #000080; font-weight: bold\">2</span>   -  Left Margin:   <span style=\"color: #000080; text-decoration-color: #000080; font-weight: bold\">154</span>  <span style=\"font-weight: bold\">(</span> <span style=\"color: #000080; text-decoration-color: #000080; font-weight: bold\">80</span> <span style=\"font-weight: bold\">)</span>  Center Point:   <span style=\"color: #000080; text-decoration-color: #000080; font-weight: bold\">106</span>  <span style=\"font-weight: bold\">(</span> <span style=\"color: #000080; text-decoration-color: #000080; font-weight: bold\">55</span> <span style=\"font-weight: bold\">)</span>  Right Margin:   <span style=\"color: #000080; text-decoration-color: #000080; font-weight: bold\">127</span>  <span style=\"font-weight: bold\">(</span> \n",
       "<span style=\"color: #000080; text-decoration-color: #000080; font-weight: bold\">66</span> <span style=\"font-weight: bold\">)</span>\n",
       "</pre>\n"
      ],
      "text/plain": [
       "<rich.jupyter.JupyterRenderable at 0x28aa7d988b0>"
      ]
     },
     "metadata": {},
     "output_type": "display_data"
    },
    {
     "data": {
      "text/html": [
       "<pre style=\"white-space:pre;overflow-x:auto;line-height:normal;font-family:Menlo,'DejaVu Sans Mono',consolas,'Courier New',monospace\">Byte  <span style=\"color: #000080; text-decoration-color: #000080; font-weight: bold\">3</span>   -  Left Margin:   <span style=\"color: #000080; text-decoration-color: #000080; font-weight: bold\">137</span>  <span style=\"font-weight: bold\">(</span> <span style=\"color: #000080; text-decoration-color: #000080; font-weight: bold\">70</span> <span style=\"font-weight: bold\">)</span>  Center Point:   <span style=\"color: #000080; text-decoration-color: #000080; font-weight: bold\">201</span>  <span style=\"font-weight: bold\">(</span> <span style=\"color: #000080; text-decoration-color: #000080; font-weight: bold\">103</span> <span style=\"font-weight: bold\">)</span>  Right Margin:   <span style=\"color: #000080; text-decoration-color: #000080; font-weight: bold\">158</span>  <span style=\"font-weight: bold\">(</span>\n",
       "<span style=\"color: #000080; text-decoration-color: #000080; font-weight: bold\">81</span> <span style=\"font-weight: bold\">)</span>\n",
       "</pre>\n"
      ],
      "text/plain": [
       "<rich.jupyter.JupyterRenderable at 0x28aa7d984f0>"
      ]
     },
     "metadata": {},
     "output_type": "display_data"
    },
    {
     "data": {
      "text/html": [
       "<pre style=\"white-space:pre;overflow-x:auto;line-height:normal;font-family:Menlo,'DejaVu Sans Mono',consolas,'Courier New',monospace\">Byte  <span style=\"color: #000080; text-decoration-color: #000080; font-weight: bold\">4</span>   -  Left Margin:   <span style=\"color: #000080; text-decoration-color: #000080; font-weight: bold\">144</span>  <span style=\"font-weight: bold\">(</span> <span style=\"color: #000080; text-decoration-color: #000080; font-weight: bold\">74</span> <span style=\"font-weight: bold\">)</span>  Center Point:   <span style=\"color: #000080; text-decoration-color: #000080; font-weight: bold\">570</span>  <span style=\"font-weight: bold\">(</span> <span style=\"color: #000080; text-decoration-color: #000080; font-weight: bold\">294</span> <span style=\"font-weight: bold\">)</span>  Right Margin:   <span style=\"color: #000080; text-decoration-color: #000080; font-weight: bold\">155</span>  <span style=\"font-weight: bold\">(</span>\n",
       "<span style=\"color: #000080; text-decoration-color: #000080; font-weight: bold\">80</span> <span style=\"font-weight: bold\">)</span>\n",
       "</pre>\n"
      ],
      "text/plain": [
       "<rich.jupyter.JupyterRenderable at 0x28aa7d98580>"
      ]
     },
     "metadata": {},
     "output_type": "display_data"
    },
    {
     "data": {
      "text/html": [
       "<pre style=\"white-space:pre;overflow-x:auto;line-height:normal;font-family:Menlo,'DejaVu Sans Mono',consolas,'Courier New',monospace\">Byte  <span style=\"color: #000080; text-decoration-color: #000080; font-weight: bold\">5</span>   -  Left Margin:   <span style=\"color: #000080; text-decoration-color: #000080; font-weight: bold\">169</span>  <span style=\"font-weight: bold\">(</span> <span style=\"color: #000080; text-decoration-color: #000080; font-weight: bold\">86</span> <span style=\"font-weight: bold\">)</span>  Center Point:   <span style=\"color: #000080; text-decoration-color: #000080; font-weight: bold\">618</span>  <span style=\"font-weight: bold\">(</span> <span style=\"color: #000080; text-decoration-color: #000080; font-weight: bold\">314</span> <span style=\"font-weight: bold\">)</span>  Right Margin:   <span style=\"color: #000080; text-decoration-color: #000080; font-weight: bold\">132</span>  <span style=\"font-weight: bold\">(</span>\n",
       "<span style=\"color: #000080; text-decoration-color: #000080; font-weight: bold\">67</span> <span style=\"font-weight: bold\">)</span>\n",
       "</pre>\n"
      ],
      "text/plain": [
       "<rich.jupyter.JupyterRenderable at 0x28aa7d980a0>"
      ]
     },
     "metadata": {},
     "output_type": "display_data"
    },
    {
     "data": {
      "text/html": [
       "<pre style=\"white-space:pre;overflow-x:auto;line-height:normal;font-family:Menlo,'DejaVu Sans Mono',consolas,'Courier New',monospace\">Byte  <span style=\"color: #000080; text-decoration-color: #000080; font-weight: bold\">6</span>   -  Left Margin:   <span style=\"color: #000080; text-decoration-color: #000080; font-weight: bold\">149</span>  <span style=\"font-weight: bold\">(</span> <span style=\"color: #000080; text-decoration-color: #000080; font-weight: bold\">77</span> <span style=\"font-weight: bold\">)</span>  Center Point:   <span style=\"color: #000080; text-decoration-color: #000080; font-weight: bold\">607</span>  <span style=\"font-weight: bold\">(</span> <span style=\"color: #000080; text-decoration-color: #000080; font-weight: bold\">312</span> <span style=\"font-weight: bold\">)</span>  Right Margin:   <span style=\"color: #000080; text-decoration-color: #000080; font-weight: bold\">136</span>  <span style=\"font-weight: bold\">(</span>\n",
       "<span style=\"color: #000080; text-decoration-color: #000080; font-weight: bold\">70</span> <span style=\"font-weight: bold\">)</span>\n",
       "</pre>\n"
      ],
      "text/plain": [
       "<rich.jupyter.JupyterRenderable at 0x28aa7d988b0>"
      ]
     },
     "metadata": {},
     "output_type": "display_data"
    },
    {
     "data": {
      "text/html": [
       "<pre style=\"white-space:pre;overflow-x:auto;line-height:normal;font-family:Menlo,'DejaVu Sans Mono',consolas,'Courier New',monospace\">Byte  <span style=\"color: #000080; text-decoration-color: #000080; font-weight: bold\">7</span>   -  Left Margin:   <span style=\"color: #000080; text-decoration-color: #000080; font-weight: bold\">158</span>  <span style=\"font-weight: bold\">(</span> <span style=\"color: #000080; text-decoration-color: #000080; font-weight: bold\">80</span> <span style=\"font-weight: bold\">)</span>  Center Point:   <span style=\"color: #000080; text-decoration-color: #000080; font-weight: bold\">649</span>  <span style=\"font-weight: bold\">(</span> <span style=\"color: #000080; text-decoration-color: #000080; font-weight: bold\">328</span> <span style=\"font-weight: bold\">)</span>  Right Margin:   <span style=\"color: #000080; text-decoration-color: #000080; font-weight: bold\">146</span>  <span style=\"font-weight: bold\">(</span>\n",
       "<span style=\"color: #000080; text-decoration-color: #000080; font-weight: bold\">74</span> <span style=\"font-weight: bold\">)</span>\n",
       "</pre>\n"
      ],
      "text/plain": [
       "<rich.jupyter.JupyterRenderable at 0x28aa7d984f0>"
      ]
     },
     "metadata": {},
     "output_type": "display_data"
    },
    {
     "data": {
      "text/html": [
       "<pre style=\"white-space:pre;overflow-x:auto;line-height:normal;font-family:Menlo,'DejaVu Sans Mono',consolas,'Courier New',monospace\">\n",
       " Frequency <span style=\"color: #000080; text-decoration-color: #000080; font-weight: bold\">0</span>  - Write Margin - Complex Pattern - Calibration Window in pS and <span style=\"font-weight: bold\">(</span>delay taps<span style=\"font-weight: bold\">)</span>:\n",
       "\n",
       "</pre>\n"
      ],
      "text/plain": [
       "<rich.jupyter.JupyterRenderable at 0x28aa7d91100>"
      ]
     },
     "metadata": {},
     "output_type": "display_data"
    },
    {
     "data": {
      "text/html": [
       "<pre style=\"white-space:pre;overflow-x:auto;line-height:normal;font-family:Menlo,'DejaVu Sans Mono',consolas,'Courier New',monospace\">Byte  <span style=\"color: #000080; text-decoration-color: #000080; font-weight: bold\">0</span>   -  Left Margin:   <span style=\"color: #000080; text-decoration-color: #000080; font-weight: bold\">143</span>  <span style=\"font-weight: bold\">(</span> <span style=\"color: #000080; text-decoration-color: #000080; font-weight: bold\">74</span> <span style=\"font-weight: bold\">)</span>  Center Point:   <span style=\"color: #000080; text-decoration-color: #000080; font-weight: bold\">473</span>  <span style=\"font-weight: bold\">(</span> <span style=\"color: #000080; text-decoration-color: #000080; font-weight: bold\">245</span> <span style=\"font-weight: bold\">)</span>  Right Margin:   <span style=\"color: #000080; text-decoration-color: #000080; font-weight: bold\">137</span>  <span style=\"font-weight: bold\">(</span>\n",
       "<span style=\"color: #000080; text-decoration-color: #000080; font-weight: bold\">71</span> <span style=\"font-weight: bold\">)</span>\n",
       "</pre>\n"
      ],
      "text/plain": [
       "<rich.jupyter.JupyterRenderable at 0x28aa7d91be0>"
      ]
     },
     "metadata": {},
     "output_type": "display_data"
    },
    {
     "data": {
      "text/html": [
       "<pre style=\"white-space:pre;overflow-x:auto;line-height:normal;font-family:Menlo,'DejaVu Sans Mono',consolas,'Courier New',monospace\">Byte  <span style=\"color: #000080; text-decoration-color: #000080; font-weight: bold\">1</span>   -  Left Margin:   <span style=\"color: #000080; text-decoration-color: #000080; font-weight: bold\">137</span>  <span style=\"font-weight: bold\">(</span> <span style=\"color: #000080; text-decoration-color: #000080; font-weight: bold\">71</span> <span style=\"font-weight: bold\">)</span>  Center Point:   <span style=\"color: #000080; text-decoration-color: #000080; font-weight: bold\">623</span>  <span style=\"font-weight: bold\">(</span> <span style=\"color: #000080; text-decoration-color: #000080; font-weight: bold\">323</span> <span style=\"font-weight: bold\">)</span>  Right Margin:   <span style=\"color: #000080; text-decoration-color: #000080; font-weight: bold\">131</span>  <span style=\"font-weight: bold\">(</span>\n",
       "<span style=\"color: #000080; text-decoration-color: #000080; font-weight: bold\">68</span> <span style=\"font-weight: bold\">)</span>\n",
       "</pre>\n"
      ],
      "text/plain": [
       "<rich.jupyter.JupyterRenderable at 0x28aa7d91520>"
      ]
     },
     "metadata": {},
     "output_type": "display_data"
    },
    {
     "data": {
      "text/html": [
       "<pre style=\"white-space:pre;overflow-x:auto;line-height:normal;font-family:Menlo,'DejaVu Sans Mono',consolas,'Courier New',monospace\">Byte  <span style=\"color: #000080; text-decoration-color: #000080; font-weight: bold\">2</span>   -  Left Margin:   <span style=\"color: #000080; text-decoration-color: #000080; font-weight: bold\">137</span>  <span style=\"font-weight: bold\">(</span> <span style=\"color: #000080; text-decoration-color: #000080; font-weight: bold\">71</span> <span style=\"font-weight: bold\">)</span>  Center Point:   <span style=\"color: #000080; text-decoration-color: #000080; font-weight: bold\">106</span>  <span style=\"font-weight: bold\">(</span> <span style=\"color: #000080; text-decoration-color: #000080; font-weight: bold\">55</span> <span style=\"font-weight: bold\">)</span>  Right Margin:   <span style=\"color: #000080; text-decoration-color: #000080; font-weight: bold\">123</span>  <span style=\"font-weight: bold\">(</span> \n",
       "<span style=\"color: #000080; text-decoration-color: #000080; font-weight: bold\">64</span> <span style=\"font-weight: bold\">)</span>\n",
       "</pre>\n"
      ],
      "text/plain": [
       "<rich.jupyter.JupyterRenderable at 0x28aa7d91250>"
      ]
     },
     "metadata": {},
     "output_type": "display_data"
    },
    {
     "data": {
      "text/html": [
       "<pre style=\"white-space:pre;overflow-x:auto;line-height:normal;font-family:Menlo,'DejaVu Sans Mono',consolas,'Courier New',monospace\">Byte  <span style=\"color: #000080; text-decoration-color: #000080; font-weight: bold\">3</span>   -  Left Margin:   <span style=\"color: #000080; text-decoration-color: #000080; font-weight: bold\">146</span>  <span style=\"font-weight: bold\">(</span> <span style=\"color: #000080; text-decoration-color: #000080; font-weight: bold\">75</span> <span style=\"font-weight: bold\">)</span>  Center Point:   <span style=\"color: #000080; text-decoration-color: #000080; font-weight: bold\">201</span>  <span style=\"font-weight: bold\">(</span> <span style=\"color: #000080; text-decoration-color: #000080; font-weight: bold\">103</span> <span style=\"font-weight: bold\">)</span>  Right Margin:   <span style=\"color: #000080; text-decoration-color: #000080; font-weight: bold\">115</span>  <span style=\"font-weight: bold\">(</span>\n",
       "<span style=\"color: #000080; text-decoration-color: #000080; font-weight: bold\">59</span> <span style=\"font-weight: bold\">)</span>\n",
       "</pre>\n"
      ],
      "text/plain": [
       "<rich.jupyter.JupyterRenderable at 0x28aa7d912e0>"
      ]
     },
     "metadata": {},
     "output_type": "display_data"
    },
    {
     "data": {
      "text/html": [
       "<pre style=\"white-space:pre;overflow-x:auto;line-height:normal;font-family:Menlo,'DejaVu Sans Mono',consolas,'Courier New',monospace\">Byte  <span style=\"color: #000080; text-decoration-color: #000080; font-weight: bold\">4</span>   -  Left Margin:   <span style=\"color: #000080; text-decoration-color: #000080; font-weight: bold\">146</span>  <span style=\"font-weight: bold\">(</span> <span style=\"color: #000080; text-decoration-color: #000080; font-weight: bold\">75</span> <span style=\"font-weight: bold\">)</span>  Center Point:   <span style=\"color: #000080; text-decoration-color: #000080; font-weight: bold\">570</span>  <span style=\"font-weight: bold\">(</span> <span style=\"color: #000080; text-decoration-color: #000080; font-weight: bold\">294</span> <span style=\"font-weight: bold\">)</span>  Right Margin:   <span style=\"color: #000080; text-decoration-color: #000080; font-weight: bold\">116</span>  <span style=\"font-weight: bold\">(</span>\n",
       "<span style=\"color: #000080; text-decoration-color: #000080; font-weight: bold\">60</span> <span style=\"font-weight: bold\">)</span>\n",
       "</pre>\n"
      ],
      "text/plain": [
       "<rich.jupyter.JupyterRenderable at 0x28aa7d91220>"
      ]
     },
     "metadata": {},
     "output_type": "display_data"
    },
    {
     "data": {
      "text/html": [
       "<pre style=\"white-space:pre;overflow-x:auto;line-height:normal;font-family:Menlo,'DejaVu Sans Mono',consolas,'Courier New',monospace\">Byte  <span style=\"color: #000080; text-decoration-color: #000080; font-weight: bold\">5</span>   -  Left Margin:   <span style=\"color: #000080; text-decoration-color: #000080; font-weight: bold\">147</span>  <span style=\"font-weight: bold\">(</span> <span style=\"color: #000080; text-decoration-color: #000080; font-weight: bold\">75</span> <span style=\"font-weight: bold\">)</span>  Center Point:   <span style=\"color: #000080; text-decoration-color: #000080; font-weight: bold\">618</span>  <span style=\"font-weight: bold\">(</span> <span style=\"color: #000080; text-decoration-color: #000080; font-weight: bold\">314</span> <span style=\"font-weight: bold\">)</span>  Right Margin:   <span style=\"color: #000080; text-decoration-color: #000080; font-weight: bold\">122</span>  <span style=\"font-weight: bold\">(</span>\n",
       "<span style=\"color: #000080; text-decoration-color: #000080; font-weight: bold\">62</span> <span style=\"font-weight: bold\">)</span>\n",
       "</pre>\n"
      ],
      "text/plain": [
       "<rich.jupyter.JupyterRenderable at 0x28aa7d919a0>"
      ]
     },
     "metadata": {},
     "output_type": "display_data"
    },
    {
     "data": {
      "text/html": [
       "<pre style=\"white-space:pre;overflow-x:auto;line-height:normal;font-family:Menlo,'DejaVu Sans Mono',consolas,'Courier New',monospace\">Byte  <span style=\"color: #000080; text-decoration-color: #000080; font-weight: bold\">6</span>   -  Left Margin:   <span style=\"color: #000080; text-decoration-color: #000080; font-weight: bold\">140</span>  <span style=\"font-weight: bold\">(</span> <span style=\"color: #000080; text-decoration-color: #000080; font-weight: bold\">72</span> <span style=\"font-weight: bold\">)</span>  Center Point:   <span style=\"color: #000080; text-decoration-color: #000080; font-weight: bold\">607</span>  <span style=\"font-weight: bold\">(</span> <span style=\"color: #000080; text-decoration-color: #000080; font-weight: bold\">312</span> <span style=\"font-weight: bold\">)</span>  Right Margin:   <span style=\"color: #000080; text-decoration-color: #000080; font-weight: bold\">130</span>  <span style=\"font-weight: bold\">(</span>\n",
       "<span style=\"color: #000080; text-decoration-color: #000080; font-weight: bold\">67</span> <span style=\"font-weight: bold\">)</span>\n",
       "</pre>\n"
      ],
      "text/plain": [
       "<rich.jupyter.JupyterRenderable at 0x28aa7d91190>"
      ]
     },
     "metadata": {},
     "output_type": "display_data"
    },
    {
     "data": {
      "text/html": [
       "<pre style=\"white-space:pre;overflow-x:auto;line-height:normal;font-family:Menlo,'DejaVu Sans Mono',consolas,'Courier New',monospace\">Byte  <span style=\"color: #000080; text-decoration-color: #000080; font-weight: bold\">7</span>   -  Left Margin:   <span style=\"color: #000080; text-decoration-color: #000080; font-weight: bold\">148</span>  <span style=\"font-weight: bold\">(</span> <span style=\"color: #000080; text-decoration-color: #000080; font-weight: bold\">75</span> <span style=\"font-weight: bold\">)</span>  Center Point:   <span style=\"color: #000080; text-decoration-color: #000080; font-weight: bold\">649</span>  <span style=\"font-weight: bold\">(</span> <span style=\"color: #000080; text-decoration-color: #000080; font-weight: bold\">328</span> <span style=\"font-weight: bold\">)</span>  Right Margin:   <span style=\"color: #000080; text-decoration-color: #000080; font-weight: bold\">115</span>  <span style=\"font-weight: bold\">(</span>\n",
       "<span style=\"color: #000080; text-decoration-color: #000080; font-weight: bold\">58</span> <span style=\"font-weight: bold\">)</span>\n",
       "</pre>\n"
      ],
      "text/plain": [
       "<rich.jupyter.JupyterRenderable at 0x28aa7d91280>"
      ]
     },
     "metadata": {},
     "output_type": "display_data"
    },
    {
     "data": {
      "text/html": [
       "<pre style=\"white-space:pre;overflow-x:auto;line-height:normal;font-family:Menlo,'DejaVu Sans Mono',consolas,'Courier New',monospace\">\n",
       "NOTE: The report is being generated and saved as: test_out.txt\n",
       "</pre>\n"
      ],
      "text/plain": [
       "<rich.jupyter.JupyterRenderable at 0x28aa7c4e310>"
      ]
     },
     "metadata": {},
     "output_type": "display_data"
    },
    {
     "data": {
      "text/html": [
       "<pre style=\"white-space:pre;overflow-x:auto;line-height:normal;font-family:Menlo,'DejaVu Sans Mono',consolas,'Courier New',monospace\">-------------------\n",
       "\n",
       "</pre>\n"
      ],
      "text/plain": [
       "<rich.jupyter.JupyterRenderable at 0x28aa7c4e310>"
      ]
     },
     "metadata": {},
     "output_type": "display_data"
    },
    {
     "data": {
      "text/html": [
       "<pre style=\"white-space:pre;overflow-x:auto;line-height:normal;font-family:Menlo,'DejaVu Sans Mono',consolas,'Courier New',monospace\"> DDRMC Status \n",
       "\n",
       "</pre>\n"
      ],
      "text/plain": [
       "<rich.jupyter.JupyterRenderable at 0x28aa7c4e310>"
      ]
     },
     "metadata": {},
     "output_type": "display_data"
    },
    {
     "data": {
      "text/html": [
       "<pre style=\"white-space:pre;overflow-x:auto;line-height:normal;font-family:Menlo,'DejaVu Sans Mono',consolas,'Courier New',monospace\">-------------------\n",
       "\n",
       "</pre>\n"
      ],
      "text/plain": [
       "<rich.jupyter.JupyterRenderable at 0x28aa7c4e310>"
      ]
     },
     "metadata": {},
     "output_type": "display_data"
    },
    {
     "data": {
      "text/html": [
       "<pre style=\"white-space:pre;overflow-x:auto;line-height:normal;font-family:Menlo,'DejaVu Sans Mono',consolas,'Courier New',monospace\">Calibration Status:   PASS \n",
       "\n",
       "</pre>\n"
      ],
      "text/plain": [
       "<rich.jupyter.JupyterRenderable at 0x28aa8e5aa90>"
      ]
     },
     "metadata": {},
     "output_type": "display_data"
    },
    {
     "data": {
      "text/html": [
       "<pre style=\"white-space:pre;overflow-x:auto;line-height:normal;font-family:Menlo,'DejaVu Sans Mono',consolas,'Courier New',monospace\">Overall Health:   GOOD \n",
       "\n",
       "</pre>\n"
      ],
      "text/plain": [
       "<rich.jupyter.JupyterRenderable at 0x28aa8e5ab20>"
      ]
     },
     "metadata": {},
     "output_type": "display_data"
    },
    {
     "data": {
      "text/html": [
       "<pre style=\"white-space:pre;overflow-x:auto;line-height:normal;font-family:Menlo,'DejaVu Sans Mono',consolas,'Courier New',monospace\">Message:   No errors detected during calibration. \n",
       "\n",
       "</pre>\n"
      ],
      "text/plain": [
       "<rich.jupyter.JupyterRenderable at 0x28aa8e5a9a0>"
      ]
     },
     "metadata": {},
     "output_type": "display_data"
    },
    {
     "data": {
      "text/html": [
       "<pre style=\"white-space:pre;overflow-x:auto;line-height:normal;font-family:Menlo,'DejaVu Sans Mono',consolas,'Courier New',monospace\">\n",
       "-------------------\n",
       "\n",
       "</pre>\n"
      ],
      "text/plain": [
       "<rich.jupyter.JupyterRenderable at 0x28aa8e61760>"
      ]
     },
     "metadata": {},
     "output_type": "display_data"
    },
    {
     "data": {
      "text/html": [
       "<pre style=\"white-space:pre;overflow-x:auto;line-height:normal;font-family:Menlo,'DejaVu Sans Mono',consolas,'Courier New',monospace\"> Status Registers\n",
       "\n",
       "</pre>\n"
      ],
      "text/plain": [
       "<rich.jupyter.JupyterRenderable at 0x28aa8e61790>"
      ]
     },
     "metadata": {},
     "output_type": "display_data"
    },
    {
     "data": {
      "text/html": [
       "<pre style=\"white-space:pre;overflow-x:auto;line-height:normal;font-family:Menlo,'DejaVu Sans Mono',consolas,'Courier New',monospace\">-------------------\n",
       "\n",
       "</pre>\n"
      ],
      "text/plain": [
       "<rich.jupyter.JupyterRenderable at 0x28aa8e61760>"
      ]
     },
     "metadata": {},
     "output_type": "display_data"
    },
    {
     "data": {
      "text/html": [
       "<pre style=\"white-space:pre;overflow-x:auto;line-height:normal;font-family:Menlo,'DejaVu Sans Mono',consolas,'Courier New',monospace\">DDRMC ISR Table\n",
       "\n",
       "</pre>\n"
      ],
      "text/plain": [
       "<rich.jupyter.JupyterRenderable at 0x28aa8e61f40>"
      ]
     },
     "metadata": {},
     "output_type": "display_data"
    },
    {
     "data": {
      "text/html": [
       "<pre style=\"white-space:pre;overflow-x:auto;line-height:normal;font-family:Menlo,'DejaVu Sans Mono',consolas,'Courier New',monospace\">   ddrmc_isr_ce0_ecc0 :   <span style=\"color: #000080; text-decoration-color: #000080; font-weight: bold\">0</span>\n",
       "</pre>\n"
      ],
      "text/plain": [
       "<rich.jupyter.JupyterRenderable at 0x28aa8e61e80>"
      ]
     },
     "metadata": {},
     "output_type": "display_data"
    },
    {
     "data": {
      "text/html": [
       "<pre style=\"white-space:pre;overflow-x:auto;line-height:normal;font-family:Menlo,'DejaVu Sans Mono',consolas,'Courier New',monospace\">   ddrmc_isr_ce0_ecc1 :   <span style=\"color: #000080; text-decoration-color: #000080; font-weight: bold\">0</span>\n",
       "</pre>\n"
      ],
      "text/plain": [
       "<rich.jupyter.JupyterRenderable at 0x28aa8e61e80>"
      ]
     },
     "metadata": {},
     "output_type": "display_data"
    },
    {
     "data": {
      "text/html": [
       "<pre style=\"white-space:pre;overflow-x:auto;line-height:normal;font-family:Menlo,'DejaVu Sans Mono',consolas,'Courier New',monospace\">   ddrmc_isr_ce1_ecc0 :   <span style=\"color: #000080; text-decoration-color: #000080; font-weight: bold\">0</span>\n",
       "</pre>\n"
      ],
      "text/plain": [
       "<rich.jupyter.JupyterRenderable at 0x28aa8e61e80>"
      ]
     },
     "metadata": {},
     "output_type": "display_data"
    },
    {
     "data": {
      "text/html": [
       "<pre style=\"white-space:pre;overflow-x:auto;line-height:normal;font-family:Menlo,'DejaVu Sans Mono',consolas,'Courier New',monospace\">   ddrmc_isr_ce1_ecc1 :   <span style=\"color: #000080; text-decoration-color: #000080; font-weight: bold\">0</span>\n",
       "</pre>\n"
      ],
      "text/plain": [
       "<rich.jupyter.JupyterRenderable at 0x28aa8e61e80>"
      ]
     },
     "metadata": {},
     "output_type": "display_data"
    },
    {
     "data": {
      "text/html": [
       "<pre style=\"white-space:pre;overflow-x:auto;line-height:normal;font-family:Menlo,'DejaVu Sans Mono',consolas,'Courier New',monospace\">   ddrmc_isr_ch0_data_par :   <span style=\"color: #000080; text-decoration-color: #000080; font-weight: bold\">0</span>\n",
       "</pre>\n"
      ],
      "text/plain": [
       "<rich.jupyter.JupyterRenderable at 0x28aa8e61e80>"
      ]
     },
     "metadata": {},
     "output_type": "display_data"
    },
    {
     "data": {
      "text/html": [
       "<pre style=\"white-space:pre;overflow-x:auto;line-height:normal;font-family:Menlo,'DejaVu Sans Mono',consolas,'Courier New',monospace\">   ddrmc_isr_ch1_data_par :   <span style=\"color: #000080; text-decoration-color: #000080; font-weight: bold\">0</span>\n",
       "</pre>\n"
      ],
      "text/plain": [
       "<rich.jupyter.JupyterRenderable at 0x28aa8e61e80>"
      ]
     },
     "metadata": {},
     "output_type": "display_data"
    },
    {
     "data": {
      "text/html": [
       "<pre style=\"white-space:pre;overflow-x:auto;line-height:normal;font-family:Menlo,'DejaVu Sans Mono',consolas,'Courier New',monospace\">   ddrmc_isr_dc_cmd0_fatal :   <span style=\"color: #000080; text-decoration-color: #000080; font-weight: bold\">0</span>\n",
       "</pre>\n"
      ],
      "text/plain": [
       "<rich.jupyter.JupyterRenderable at 0x28aa8e61e80>"
      ]
     },
     "metadata": {},
     "output_type": "display_data"
    },
    {
     "data": {
      "text/html": [
       "<pre style=\"white-space:pre;overflow-x:auto;line-height:normal;font-family:Menlo,'DejaVu Sans Mono',consolas,'Courier New',monospace\">   ddrmc_isr_dc_cmd1_fatal :   <span style=\"color: #000080; text-decoration-color: #000080; font-weight: bold\">0</span>\n",
       "</pre>\n"
      ],
      "text/plain": [
       "<rich.jupyter.JupyterRenderable at 0x28aa8e61e80>"
      ]
     },
     "metadata": {},
     "output_type": "display_data"
    },
    {
     "data": {
      "text/html": [
       "<pre style=\"white-space:pre;overflow-x:auto;line-height:normal;font-family:Menlo,'DejaVu Sans Mono',consolas,'Courier New',monospace\">   ddrmc_isr_dram_parity0 :   <span style=\"color: #000080; text-decoration-color: #000080; font-weight: bold\">0</span>\n",
       "</pre>\n"
      ],
      "text/plain": [
       "<rich.jupyter.JupyterRenderable at 0x28aa8e61e80>"
      ]
     },
     "metadata": {},
     "output_type": "display_data"
    },
    {
     "data": {
      "text/html": [
       "<pre style=\"white-space:pre;overflow-x:auto;line-height:normal;font-family:Menlo,'DejaVu Sans Mono',consolas,'Courier New',monospace\">   ddrmc_isr_dram_parity1 :   <span style=\"color: #000080; text-decoration-color: #000080; font-weight: bold\">0</span>\n",
       "</pre>\n"
      ],
      "text/plain": [
       "<rich.jupyter.JupyterRenderable at 0x28aa8e61e80>"
      ]
     },
     "metadata": {},
     "output_type": "display_data"
    },
    {
     "data": {
      "text/html": [
       "<pre style=\"white-space:pre;overflow-x:auto;line-height:normal;font-family:Menlo,'DejaVu Sans Mono',consolas,'Courier New',monospace\">   ddrmc_isr_dram_parity_fatal_0 :   <span style=\"color: #000080; text-decoration-color: #000080; font-weight: bold\">0</span>\n",
       "</pre>\n"
      ],
      "text/plain": [
       "<rich.jupyter.JupyterRenderable at 0x28aa8e61e80>"
      ]
     },
     "metadata": {},
     "output_type": "display_data"
    },
    {
     "data": {
      "text/html": [
       "<pre style=\"white-space:pre;overflow-x:auto;line-height:normal;font-family:Menlo,'DejaVu Sans Mono',consolas,'Courier New',monospace\">   ddrmc_isr_dram_parity_fatal_1 :   <span style=\"color: #000080; text-decoration-color: #000080; font-weight: bold\">0</span>\n",
       "</pre>\n"
      ],
      "text/plain": [
       "<rich.jupyter.JupyterRenderable at 0x28aa8e61e80>"
      ]
     },
     "metadata": {},
     "output_type": "display_data"
    },
    {
     "data": {
      "text/html": [
       "<pre style=\"white-space:pre;overflow-x:auto;line-height:normal;font-family:Menlo,'DejaVu Sans Mono',consolas,'Courier New',monospace\">   ddrmc_isr_na_cmd :   <span style=\"color: #000080; text-decoration-color: #000080; font-weight: bold\">0</span>\n",
       "</pre>\n"
      ],
      "text/plain": [
       "<rich.jupyter.JupyterRenderable at 0x28aa8e61e80>"
      ]
     },
     "metadata": {},
     "output_type": "display_data"
    },
    {
     "data": {
      "text/html": [
       "<pre style=\"white-space:pre;overflow-x:auto;line-height:normal;font-family:Menlo,'DejaVu Sans Mono',consolas,'Courier New',monospace\">   ddrmc_isr_na_cmd0 :   <span style=\"color: #000080; text-decoration-color: #000080; font-weight: bold\">0</span>\n",
       "</pre>\n"
      ],
      "text/plain": [
       "<rich.jupyter.JupyterRenderable at 0x28aa8e61e80>"
      ]
     },
     "metadata": {},
     "output_type": "display_data"
    },
    {
     "data": {
      "text/html": [
       "<pre style=\"white-space:pre;overflow-x:auto;line-height:normal;font-family:Menlo,'DejaVu Sans Mono',consolas,'Courier New',monospace\">   ddrmc_isr_na_cmd1 :   <span style=\"color: #000080; text-decoration-color: #000080; font-weight: bold\">0</span>\n",
       "</pre>\n"
      ],
      "text/plain": [
       "<rich.jupyter.JupyterRenderable at 0x28aa8e61e80>"
      ]
     },
     "metadata": {},
     "output_type": "display_data"
    },
    {
     "data": {
      "text/html": [
       "<pre style=\"white-space:pre;overflow-x:auto;line-height:normal;font-family:Menlo,'DejaVu Sans Mono',consolas,'Courier New',monospace\">   ddrmc_isr_na_cmd_fatal :   <span style=\"color: #000080; text-decoration-color: #000080; font-weight: bold\">0</span>\n",
       "</pre>\n"
      ],
      "text/plain": [
       "<rich.jupyter.JupyterRenderable at 0x28aa8e61e80>"
      ]
     },
     "metadata": {},
     "output_type": "display_data"
    },
    {
     "data": {
      "text/html": [
       "<pre style=\"white-space:pre;overflow-x:auto;line-height:normal;font-family:Menlo,'DejaVu Sans Mono',consolas,'Courier New',monospace\">   ddrmc_isr_nsu_0 :   <span style=\"color: #000080; text-decoration-color: #000080; font-weight: bold\">0</span>\n",
       "</pre>\n"
      ],
      "text/plain": [
       "<rich.jupyter.JupyterRenderable at 0x28aa8e61e80>"
      ]
     },
     "metadata": {},
     "output_type": "display_data"
    },
    {
     "data": {
      "text/html": [
       "<pre style=\"white-space:pre;overflow-x:auto;line-height:normal;font-family:Menlo,'DejaVu Sans Mono',consolas,'Courier New',monospace\">   ddrmc_isr_nsu_1 :   <span style=\"color: #000080; text-decoration-color: #000080; font-weight: bold\">0</span>\n",
       "</pre>\n"
      ],
      "text/plain": [
       "<rich.jupyter.JupyterRenderable at 0x28aa8e61e80>"
      ]
     },
     "metadata": {},
     "output_type": "display_data"
    },
    {
     "data": {
      "text/html": [
       "<pre style=\"white-space:pre;overflow-x:auto;line-height:normal;font-family:Menlo,'DejaVu Sans Mono',consolas,'Courier New',monospace\">   ddrmc_isr_nsu_2 :   <span style=\"color: #000080; text-decoration-color: #000080; font-weight: bold\">0</span>\n",
       "</pre>\n"
      ],
      "text/plain": [
       "<rich.jupyter.JupyterRenderable at 0x28aa8e61e80>"
      ]
     },
     "metadata": {},
     "output_type": "display_data"
    },
    {
     "data": {
      "text/html": [
       "<pre style=\"white-space:pre;overflow-x:auto;line-height:normal;font-family:Menlo,'DejaVu Sans Mono',consolas,'Courier New',monospace\">   ddrmc_isr_nsu_3 :   <span style=\"color: #000080; text-decoration-color: #000080; font-weight: bold\">0</span>\n",
       "</pre>\n"
      ],
      "text/plain": [
       "<rich.jupyter.JupyterRenderable at 0x28aa8e61df0>"
      ]
     },
     "metadata": {},
     "output_type": "display_data"
    },
    {
     "data": {
      "text/html": [
       "<pre style=\"white-space:pre;overflow-x:auto;line-height:normal;font-family:Menlo,'DejaVu Sans Mono',consolas,'Courier New',monospace\">   ddrmc_isr_nsu_fatal0 :   <span style=\"color: #000080; text-decoration-color: #000080; font-weight: bold\">0</span>\n",
       "</pre>\n"
      ],
      "text/plain": [
       "<rich.jupyter.JupyterRenderable at 0x28aa8e61f40>"
      ]
     },
     "metadata": {},
     "output_type": "display_data"
    },
    {
     "data": {
      "text/html": [
       "<pre style=\"white-space:pre;overflow-x:auto;line-height:normal;font-family:Menlo,'DejaVu Sans Mono',consolas,'Courier New',monospace\">   ddrmc_isr_nsu_fatal1 :   <span style=\"color: #000080; text-decoration-color: #000080; font-weight: bold\">0</span>\n",
       "</pre>\n"
      ],
      "text/plain": [
       "<rich.jupyter.JupyterRenderable at 0x28aa8e61760>"
      ]
     },
     "metadata": {},
     "output_type": "display_data"
    },
    {
     "data": {
      "text/html": [
       "<pre style=\"white-space:pre;overflow-x:auto;line-height:normal;font-family:Menlo,'DejaVu Sans Mono',consolas,'Courier New',monospace\">   ddrmc_isr_nsu_fatal2 :   <span style=\"color: #000080; text-decoration-color: #000080; font-weight: bold\">0</span>\n",
       "</pre>\n"
      ],
      "text/plain": [
       "<rich.jupyter.JupyterRenderable at 0x28aa8e61be0>"
      ]
     },
     "metadata": {},
     "output_type": "display_data"
    },
    {
     "data": {
      "text/html": [
       "<pre style=\"white-space:pre;overflow-x:auto;line-height:normal;font-family:Menlo,'DejaVu Sans Mono',consolas,'Courier New',monospace\">   ddrmc_isr_nsu_fatal3 :   <span style=\"color: #000080; text-decoration-color: #000080; font-weight: bold\">0</span>\n",
       "</pre>\n"
      ],
      "text/plain": [
       "<rich.jupyter.JupyterRenderable at 0x28aa8e61d90>"
      ]
     },
     "metadata": {},
     "output_type": "display_data"
    },
    {
     "data": {
      "text/html": [
       "<pre style=\"white-space:pre;overflow-x:auto;line-height:normal;font-family:Menlo,'DejaVu Sans Mono',consolas,'Courier New',monospace\">   ddrmc_isr_uc0_ecc0 :   <span style=\"color: #000080; text-decoration-color: #000080; font-weight: bold\">0</span>\n",
       "</pre>\n"
      ],
      "text/plain": [
       "<rich.jupyter.JupyterRenderable at 0x28aa8e61fa0>"
      ]
     },
     "metadata": {},
     "output_type": "display_data"
    },
    {
     "data": {
      "text/html": [
       "<pre style=\"white-space:pre;overflow-x:auto;line-height:normal;font-family:Menlo,'DejaVu Sans Mono',consolas,'Courier New',monospace\">   ddrmc_isr_uc0_ecc1 :   <span style=\"color: #000080; text-decoration-color: #000080; font-weight: bold\">0</span>\n",
       "</pre>\n"
      ],
      "text/plain": [
       "<rich.jupyter.JupyterRenderable at 0x28aa8e61c10>"
      ]
     },
     "metadata": {},
     "output_type": "display_data"
    },
    {
     "data": {
      "text/html": [
       "<pre style=\"white-space:pre;overflow-x:auto;line-height:normal;font-family:Menlo,'DejaVu Sans Mono',consolas,'Courier New',monospace\">   ddrmc_isr_uc1_ecc0 :   <span style=\"color: #000080; text-decoration-color: #000080; font-weight: bold\">0</span>\n",
       "</pre>\n"
      ],
      "text/plain": [
       "<rich.jupyter.JupyterRenderable at 0x28aa8e61c40>"
      ]
     },
     "metadata": {},
     "output_type": "display_data"
    },
    {
     "data": {
      "text/html": [
       "<pre style=\"white-space:pre;overflow-x:auto;line-height:normal;font-family:Menlo,'DejaVu Sans Mono',consolas,'Courier New',monospace\">   ddrmc_isr_uc1_ecc1 :   <span style=\"color: #000080; text-decoration-color: #000080; font-weight: bold\">0</span>\n",
       "</pre>\n"
      ],
      "text/plain": [
       "<rich.jupyter.JupyterRenderable at 0x28aa8e61e80>"
      ]
     },
     "metadata": {},
     "output_type": "display_data"
    },
    {
     "data": {
      "text/html": [
       "<pre style=\"white-space:pre;overflow-x:auto;line-height:normal;font-family:Menlo,'DejaVu Sans Mono',consolas,'Courier New',monospace\">\n",
       "UB ISR Table\n",
       "\n",
       "</pre>\n"
      ],
      "text/plain": [
       "<rich.jupyter.JupyterRenderable at 0x28aa8e61d30>"
      ]
     },
     "metadata": {},
     "output_type": "display_data"
    },
    {
     "data": {
      "text/html": [
       "<pre style=\"white-space:pre;overflow-x:auto;line-height:normal;font-family:Menlo,'DejaVu Sans Mono',consolas,'Courier New',monospace\">   ub_data_ce :   <span style=\"color: #000080; text-decoration-color: #000080; font-weight: bold\">0</span>\n",
       "</pre>\n"
      ],
      "text/plain": [
       "<rich.jupyter.JupyterRenderable at 0x28aa8e612e0>"
      ]
     },
     "metadata": {},
     "output_type": "display_data"
    },
    {
     "data": {
      "text/html": [
       "<pre style=\"white-space:pre;overflow-x:auto;line-height:normal;font-family:Menlo,'DejaVu Sans Mono',consolas,'Courier New',monospace\">   ub_data_ue :   <span style=\"color: #000080; text-decoration-color: #000080; font-weight: bold\">0</span>\n",
       "</pre>\n"
      ],
      "text/plain": [
       "<rich.jupyter.JupyterRenderable at 0x28aa8e61880>"
      ]
     },
     "metadata": {},
     "output_type": "display_data"
    },
    {
     "data": {
      "text/html": [
       "<pre style=\"white-space:pre;overflow-x:auto;line-height:normal;font-family:Menlo,'DejaVu Sans Mono',consolas,'Courier New',monospace\">   ub_instr_ce :   <span style=\"color: #000080; text-decoration-color: #000080; font-weight: bold\">0</span>\n",
       "</pre>\n"
      ],
      "text/plain": [
       "<rich.jupyter.JupyterRenderable at 0x28aa8e616d0>"
      ]
     },
     "metadata": {},
     "output_type": "display_data"
    },
    {
     "data": {
      "text/html": [
       "<pre style=\"white-space:pre;overflow-x:auto;line-height:normal;font-family:Menlo,'DejaVu Sans Mono',consolas,'Courier New',monospace\">   ub_isntr_ue :   <span style=\"color: #000080; text-decoration-color: #000080; font-weight: bold\">0</span>\n",
       "</pre>\n"
      ],
      "text/plain": [
       "<rich.jupyter.JupyterRenderable at 0x28aa8e614c0>"
      ]
     },
     "metadata": {},
     "output_type": "display_data"
    },
    {
     "data": {
      "text/html": [
       "<pre style=\"white-space:pre;overflow-x:auto;line-height:normal;font-family:Menlo,'DejaVu Sans Mono',consolas,'Courier New',monospace\">   ub_isr_calerror :   <span style=\"color: #000080; text-decoration-color: #000080; font-weight: bold\">0</span>\n",
       "</pre>\n"
      ],
      "text/plain": [
       "<rich.jupyter.JupyterRenderable at 0x28aa8e61430>"
      ]
     },
     "metadata": {},
     "output_type": "display_data"
    },
    {
     "data": {
      "text/html": [
       "<pre style=\"white-space:pre;overflow-x:auto;line-height:normal;font-family:Menlo,'DejaVu Sans Mono',consolas,'Courier New',monospace\">   ub_isr_vt_track_err :   <span style=\"color: #000080; text-decoration-color: #000080; font-weight: bold\">0</span>\n",
       "</pre>\n"
      ],
      "text/plain": [
       "<rich.jupyter.JupyterRenderable at 0x28aa8e61670>"
      ]
     },
     "metadata": {},
     "output_type": "display_data"
    },
    {
     "data": {
      "text/html": [
       "<pre style=\"white-space:pre;overflow-x:auto;line-height:normal;font-family:Menlo,'DejaVu Sans Mono',consolas,'Courier New',monospace\">   ub_isr_watchdog :   <span style=\"color: #000080; text-decoration-color: #000080; font-weight: bold\">0</span>\n",
       "</pre>\n"
      ],
      "text/plain": [
       "<rich.jupyter.JupyterRenderable at 0x28aa8e613d0>"
      ]
     },
     "metadata": {},
     "output_type": "display_data"
    },
    {
     "data": {
      "text/html": [
       "<pre style=\"white-space:pre;overflow-x:auto;line-height:normal;font-family:Menlo,'DejaVu Sans Mono',consolas,'Courier New',monospace\">   ub_ub_msg :   <span style=\"color: #000080; text-decoration-color: #000080; font-weight: bold\">0</span>\n",
       "</pre>\n"
      ],
      "text/plain": [
       "<rich.jupyter.JupyterRenderable at 0x28aa8e61520>"
      ]
     },
     "metadata": {},
     "output_type": "display_data"
    },
    {
     "data": {
      "text/html": [
       "<pre style=\"white-space:pre;overflow-x:auto;line-height:normal;font-family:Menlo,'DejaVu Sans Mono',consolas,'Courier New',monospace\">\n",
       "----------------------------------\n",
       "\n",
       "</pre>\n"
      ],
      "text/plain": [
       "<rich.jupyter.JupyterRenderable at 0x28aa8e614c0>"
      ]
     },
     "metadata": {},
     "output_type": "display_data"
    },
    {
     "data": {
      "text/html": [
       "<pre style=\"white-space:pre;overflow-x:auto;line-height:normal;font-family:Menlo,'DejaVu Sans Mono',consolas,'Courier New',monospace\"> Memory Configuration \n",
       "\n",
       "</pre>\n"
      ],
      "text/plain": [
       "<rich.jupyter.JupyterRenderable at 0x28aa8e615e0>"
      ]
     },
     "metadata": {},
     "output_type": "display_data"
    },
    {
     "data": {
      "text/html": [
       "<pre style=\"white-space:pre;overflow-x:auto;line-height:normal;font-family:Menlo,'DejaVu Sans Mono',consolas,'Courier New',monospace\">----------------------------------\n",
       "\n",
       "</pre>\n"
      ],
      "text/plain": [
       "<rich.jupyter.JupyterRenderable at 0x28aa8e614c0>"
      ]
     },
     "metadata": {},
     "output_type": "display_data"
    },
    {
     "data": {
      "text/html": [
       "<pre style=\"white-space:pre;overflow-x:auto;line-height:normal;font-family:Menlo,'DejaVu Sans Mono',consolas,'Courier New',monospace\">DDRMC Core Name :   ddr_0\n",
       "</pre>\n"
      ],
      "text/plain": [
       "<rich.jupyter.JupyterRenderable at 0x28aa8e69d00>"
      ]
     },
     "metadata": {},
     "output_type": "display_data"
    },
    {
     "data": {
      "text/html": [
       "<pre style=\"white-space:pre;overflow-x:auto;line-height:normal;font-family:Menlo,'DejaVu Sans Mono',consolas,'Courier New',monospace\">Memory Interface :   DDR4\n",
       "</pre>\n"
      ],
      "text/plain": [
       "<rich.jupyter.JupyterRenderable at 0x28aa8e69d30>"
      ]
     },
     "metadata": {},
     "output_type": "display_data"
    },
    {
     "data": {
      "text/html": [
       "<pre style=\"white-space:pre;overflow-x:auto;line-height:normal;font-family:Menlo,'DejaVu Sans Mono',consolas,'Courier New',monospace\">Device Type :   UDIMM\n",
       "</pre>\n"
      ],
      "text/plain": [
       "<rich.jupyter.JupyterRenderable at 0x28aa8e699d0>"
      ]
     },
     "metadata": {},
     "output_type": "display_data"
    },
    {
     "data": {
      "text/html": [
       "<pre style=\"white-space:pre;overflow-x:auto;line-height:normal;font-family:Menlo,'DejaVu Sans Mono',consolas,'Courier New',monospace\">MC Location :   x0y0\n",
       "</pre>\n"
      ],
      "text/plain": [
       "<rich.jupyter.JupyterRenderable at 0x28aa8e69ac0>"
      ]
     },
     "metadata": {},
     "output_type": "display_data"
    },
    {
     "data": {
      "text/html": [
       "<pre style=\"white-space:pre;overflow-x:auto;line-height:normal;font-family:Menlo,'DejaVu Sans Mono',consolas,'Courier New',monospace\">Slots :   <span style=\"color: #000080; text-decoration-color: #000080; font-weight: bold\">1</span>\n",
       "</pre>\n"
      ],
      "text/plain": [
       "<rich.jupyter.JupyterRenderable at 0x28aa8e69be0>"
      ]
     },
     "metadata": {},
     "output_type": "display_data"
    },
    {
     "data": {
      "text/html": [
       "<pre style=\"white-space:pre;overflow-x:auto;line-height:normal;font-family:Menlo,'DejaVu Sans Mono',consolas,'Courier New',monospace\">Ranks :   <span style=\"color: #000080; text-decoration-color: #000080; font-weight: bold\">1</span>\n",
       "</pre>\n"
      ],
      "text/plain": [
       "<rich.jupyter.JupyterRenderable at 0x28aa8e69b80>"
      ]
     },
     "metadata": {},
     "output_type": "display_data"
    },
    {
     "data": {
      "text/html": [
       "<pre style=\"white-space:pre;overflow-x:auto;line-height:normal;font-family:Menlo,'DejaVu Sans Mono',consolas,'Courier New',monospace\">Data Width :   <span style=\"color: #000080; text-decoration-color: #000080; font-weight: bold\">64</span>\n",
       "</pre>\n"
      ],
      "text/plain": [
       "<rich.jupyter.JupyterRenderable at 0x28aa8e69820>"
      ]
     },
     "metadata": {},
     "output_type": "display_data"
    },
    {
     "data": {
      "text/html": [
       "<pre style=\"white-space:pre;overflow-x:auto;line-height:normal;font-family:Menlo,'DejaVu Sans Mono',consolas,'Courier New',monospace\">Bytes :   <span style=\"color: #000080; text-decoration-color: #000080; font-weight: bold\">8</span>\n",
       "</pre>\n"
      ],
      "text/plain": [
       "<rich.jupyter.JupyterRenderable at 0x28aa8e69a00>"
      ]
     },
     "metadata": {},
     "output_type": "display_data"
    },
    {
     "data": {
      "text/html": [
       "<pre style=\"white-space:pre;overflow-x:auto;line-height:normal;font-family:Menlo,'DejaVu Sans Mono',consolas,'Courier New',monospace\">Nibbles :   <span style=\"color: #000080; text-decoration-color: #000080; font-weight: bold\">16</span>\n",
       "</pre>\n"
      ],
      "text/plain": [
       "<rich.jupyter.JupyterRenderable at 0x28aa8e69520>"
      ]
     },
     "metadata": {},
     "output_type": "display_data"
    },
    {
     "data": {
      "text/html": [
       "<pre style=\"white-space:pre;overflow-x:auto;line-height:normal;font-family:Menlo,'DejaVu Sans Mono',consolas,'Courier New',monospace\">Bits per Byte :   <span style=\"color: #000080; text-decoration-color: #000080; font-weight: bold\">8</span>\n",
       "</pre>\n"
      ],
      "text/plain": [
       "<rich.jupyter.JupyterRenderable at 0x28aa8e69d60>"
      ]
     },
     "metadata": {},
     "output_type": "display_data"
    },
    {
     "data": {
      "text/html": [
       "<pre style=\"white-space:pre;overflow-x:auto;line-height:normal;font-family:Menlo,'DejaVu Sans Mono',consolas,'Courier New',monospace\">Memory Frequency <span style=\"color: #000080; text-decoration-color: #000080; font-weight: bold\">0</span> :   <span style=\"color: #000080; text-decoration-color: #000080; font-weight: bold\">1600</span> MHz\n",
       "</pre>\n"
      ],
      "text/plain": [
       "<rich.jupyter.JupyterRenderable at 0x28aa8e697f0>"
      ]
     },
     "metadata": {},
     "output_type": "display_data"
    },
    {
     "data": {
      "text/html": [
       "<pre style=\"white-space:pre;overflow-x:auto;line-height:normal;font-family:Menlo,'DejaVu Sans Mono',consolas,'Courier New',monospace\">\n",
       "-----------------------------------\n",
       "\n",
       "</pre>\n"
      ],
      "text/plain": [
       "<rich.jupyter.JupyterRenderable at 0x28aa8e69c40>"
      ]
     },
     "metadata": {},
     "output_type": "display_data"
    },
    {
     "data": {
      "text/html": [
       "<pre style=\"white-space:pre;overflow-x:auto;line-height:normal;font-family:Menlo,'DejaVu Sans Mono',consolas,'Courier New',monospace\"> Calibration Stages Information \n",
       "\n",
       "</pre>\n"
      ],
      "text/plain": [
       "<rich.jupyter.JupyterRenderable at 0x28aa8e69be0>"
      ]
     },
     "metadata": {},
     "output_type": "display_data"
    },
    {
     "data": {
      "text/html": [
       "<pre style=\"white-space:pre;overflow-x:auto;line-height:normal;font-family:Menlo,'DejaVu Sans Mono',consolas,'Courier New',monospace\">-----------------------------------\n",
       "\n",
       "</pre>\n"
      ],
      "text/plain": [
       "<rich.jupyter.JupyterRenderable at 0x28aa8e69c40>"
      ]
     },
     "metadata": {},
     "output_type": "display_data"
    },
    {
     "data": {
      "text/html": [
       "<pre style=\"white-space:pre;overflow-x:auto;line-height:normal;font-family:Menlo,'DejaVu Sans Mono',consolas,'Courier New',monospace\">cal_stage.01_F0_PHY_BISC :   Pass\n",
       "</pre>\n"
      ],
      "text/plain": [
       "<rich.jupyter.JupyterRenderable at 0x28aa8e68dc0>"
      ]
     },
     "metadata": {},
     "output_type": "display_data"
    },
    {
     "data": {
      "text/html": [
       "<pre style=\"white-space:pre;overflow-x:auto;line-height:normal;font-family:Menlo,'DejaVu Sans Mono',consolas,'Courier New',monospace\">cal_stage.02_F0_MEM_INIT :   Pass\n",
       "</pre>\n"
      ],
      "text/plain": [
       "<rich.jupyter.JupyterRenderable at 0x28aa8e68df0>"
      ]
     },
     "metadata": {},
     "output_type": "display_data"
    },
    {
     "data": {
      "text/html": [
       "<pre style=\"white-space:pre;overflow-x:auto;line-height:normal;font-family:Menlo,'DejaVu Sans Mono',consolas,'Courier New',monospace\">cal_stage.03_F0_DQS_GATE_CAL :   Pass\n",
       "</pre>\n"
      ],
      "text/plain": [
       "<rich.jupyter.JupyterRenderable at 0x28aa8e68280>"
      ]
     },
     "metadata": {},
     "output_type": "display_data"
    },
    {
     "data": {
      "text/html": [
       "<pre style=\"white-space:pre;overflow-x:auto;line-height:normal;font-family:Menlo,'DejaVu Sans Mono',consolas,'Courier New',monospace\">cal_stage.04_F0_WRITE_LEVELING :   Pass\n",
       "</pre>\n"
      ],
      "text/plain": [
       "<rich.jupyter.JupyterRenderable at 0x28aa8e68c40>"
      ]
     },
     "metadata": {},
     "output_type": "display_data"
    },
    {
     "data": {
      "text/html": [
       "<pre style=\"white-space:pre;overflow-x:auto;line-height:normal;font-family:Menlo,'DejaVu Sans Mono',consolas,'Courier New',monospace\">cal_stage.05_F0_READ_DQ_CAL :   Pass\n",
       "</pre>\n"
      ],
      "text/plain": [
       "<rich.jupyter.JupyterRenderable at 0x28aa8e68cd0>"
      ]
     },
     "metadata": {},
     "output_type": "display_data"
    },
    {
     "data": {
      "text/html": [
       "<pre style=\"white-space:pre;overflow-x:auto;line-height:normal;font-family:Menlo,'DejaVu Sans Mono',consolas,'Courier New',monospace\">cal_stage.06_F0_WRITE_DQ_DBI_CAL :   Pass\n",
       "</pre>\n"
      ],
      "text/plain": [
       "<rich.jupyter.JupyterRenderable at 0x28aa8e68c10>"
      ]
     },
     "metadata": {},
     "output_type": "display_data"
    },
    {
     "data": {
      "text/html": [
       "<pre style=\"white-space:pre;overflow-x:auto;line-height:normal;font-family:Menlo,'DejaVu Sans Mono',consolas,'Courier New',monospace\">cal_stage.07_F0_WRITE_LATENCY_CAL :   Pass\n",
       "</pre>\n"
      ],
      "text/plain": [
       "<rich.jupyter.JupyterRenderable at 0x28aa8e68df0>"
      ]
     },
     "metadata": {},
     "output_type": "display_data"
    },
    {
     "data": {
      "text/html": [
       "<pre style=\"white-space:pre;overflow-x:auto;line-height:normal;font-family:Menlo,'DejaVu Sans Mono',consolas,'Courier New',monospace\">cal_stage.08_F0_READ_DQ_DBI_CAL_COMPLEX :   Pass\n",
       "</pre>\n"
      ],
      "text/plain": [
       "<rich.jupyter.JupyterRenderable at 0x28aa8e68e20>"
      ]
     },
     "metadata": {},
     "output_type": "display_data"
    },
    {
     "data": {
      "text/html": [
       "<pre style=\"white-space:pre;overflow-x:auto;line-height:normal;font-family:Menlo,'DejaVu Sans Mono',consolas,'Courier New',monospace\">cal_stage.09_F0_WRITE_DQ_DBI_CAL_COMPLEX :   Pass\n",
       "</pre>\n"
      ],
      "text/plain": [
       "<rich.jupyter.JupyterRenderable at 0x28aa8e68eb0>"
      ]
     },
     "metadata": {},
     "output_type": "display_data"
    },
    {
     "data": {
      "text/html": [
       "<pre style=\"white-space:pre;overflow-x:auto;line-height:normal;font-family:Menlo,'DejaVu Sans Mono',consolas,'Courier New',monospace\">cal_stage.10_EN_VT_TRACK :   Pass\n",
       "</pre>\n"
      ],
      "text/plain": [
       "<rich.jupyter.JupyterRenderable at 0x28aa8e68cd0>"
      ]
     },
     "metadata": {},
     "output_type": "display_data"
    },
    {
     "data": {
      "text/html": [
       "<pre style=\"white-space:pre;overflow-x:auto;line-height:normal;font-family:Menlo,'DejaVu Sans Mono',consolas,'Courier New',monospace\">cal_stage.11_READ_DQS_TRACK :   Pass\n",
       "</pre>\n"
      ],
      "text/plain": [
       "<rich.jupyter.JupyterRenderable at 0x28aa8e68be0>"
      ]
     },
     "metadata": {},
     "output_type": "display_data"
    },
    {
     "data": {
      "text/html": [
       "<pre style=\"white-space:pre;overflow-x:auto;line-height:normal;font-family:Menlo,'DejaVu Sans Mono',consolas,'Courier New',monospace\">cal_stage.12_CAL_DONE :   Pass\n",
       "</pre>\n"
      ],
      "text/plain": [
       "<rich.jupyter.JupyterRenderable at 0x28aa8e68d90>"
      ]
     },
     "metadata": {},
     "output_type": "display_data"
    },
    {
     "data": {
      "text/html": [
       "<pre style=\"white-space:pre;overflow-x:auto;line-height:normal;font-family:Menlo,'DejaVu Sans Mono',consolas,'Courier New',monospace\">\n",
       "---------------------------------------\n",
       "\n",
       "</pre>\n"
      ],
      "text/plain": [
       "<rich.jupyter.JupyterRenderable at 0x28aa8e693a0>"
      ]
     },
     "metadata": {},
     "output_type": "display_data"
    },
    {
     "data": {
      "text/html": [
       "<pre style=\"white-space:pre;overflow-x:auto;line-height:normal;font-family:Menlo,'DejaVu Sans Mono',consolas,'Courier New',monospace\"> Calibration Window Margin Analysis \n",
       "\n",
       "</pre>\n"
      ],
      "text/plain": [
       "<rich.jupyter.JupyterRenderable at 0x28aa8e693a0>"
      ]
     },
     "metadata": {},
     "output_type": "display_data"
    },
    {
     "data": {
      "text/html": [
       "<pre style=\"white-space:pre;overflow-x:auto;line-height:normal;font-family:Menlo,'DejaVu Sans Mono',consolas,'Courier New',monospace\">---------------------------------------\n",
       "\n",
       "</pre>\n"
      ],
      "text/plain": [
       "<rich.jupyter.JupyterRenderable at 0x28aa8e693a0>"
      ]
     },
     "metadata": {},
     "output_type": "display_data"
    },
    {
     "data": {
      "text/html": [
       "<pre style=\"white-space:pre;overflow-x:auto;line-height:normal;font-family:Menlo,'DejaVu Sans Mono',consolas,'Courier New',monospace\">\n",
       " Frequency <span style=\"color: #000080; text-decoration-color: #000080; font-weight: bold\">0</span>  - Read Margin - Simple Pattern - Rising Edge Clock in pS and <span style=\"font-weight: bold\">(</span>delay taps<span style=\"font-weight: bold\">)</span>:\n",
       "\n",
       "</pre>\n"
      ],
      "text/plain": [
       "<rich.jupyter.JupyterRenderable at 0x28aa7d7c700>"
      ]
     },
     "metadata": {},
     "output_type": "display_data"
    },
    {
     "data": {
      "text/html": [
       "<pre style=\"white-space:pre;overflow-x:auto;line-height:normal;font-family:Menlo,'DejaVu Sans Mono',consolas,'Courier New',monospace\">Byte  <span style=\"color: #000080; text-decoration-color: #000080; font-weight: bold\">0</span>  Nibble <span style=\"color: #000080; text-decoration-color: #000080; font-weight: bold\">0</span>  -   Left Margin:   <span style=\"color: #000080; text-decoration-color: #000080; font-weight: bold\">150</span>  <span style=\"font-weight: bold\">(</span> <span style=\"color: #000080; text-decoration-color: #000080; font-weight: bold\">77</span> <span style=\"font-weight: bold\">)</span>  Center Point:   <span style=\"color: #000080; text-decoration-color: #000080; font-weight: bold\">184</span>  <span style=\"font-weight: bold\">(</span> <span style=\"color: #000080; text-decoration-color: #000080; font-weight: bold\">94</span> <span style=\"font-weight: bold\">)</span>  Right Margin:\n",
       "<span style=\"color: #000080; text-decoration-color: #000080; font-weight: bold\">150</span>  <span style=\"font-weight: bold\">(</span> <span style=\"color: #000080; text-decoration-color: #000080; font-weight: bold\">77</span> <span style=\"font-weight: bold\">)</span>\n",
       "</pre>\n"
      ],
      "text/plain": [
       "<rich.jupyter.JupyterRenderable at 0x28aa7d7c700>"
      ]
     },
     "metadata": {},
     "output_type": "display_data"
    },
    {
     "data": {
      "text/html": [
       "<pre style=\"white-space:pre;overflow-x:auto;line-height:normal;font-family:Menlo,'DejaVu Sans Mono',consolas,'Courier New',monospace\">Byte  <span style=\"color: #000080; text-decoration-color: #000080; font-weight: bold\">0</span>  Nibble <span style=\"color: #000080; text-decoration-color: #000080; font-weight: bold\">1</span>  -   Left Margin:   <span style=\"color: #000080; text-decoration-color: #000080; font-weight: bold\">147</span>  <span style=\"font-weight: bold\">(</span> <span style=\"color: #000080; text-decoration-color: #000080; font-weight: bold\">77</span> <span style=\"font-weight: bold\">)</span>  Center Point:   <span style=\"color: #000080; text-decoration-color: #000080; font-weight: bold\">179</span>  <span style=\"font-weight: bold\">(</span> <span style=\"color: #000080; text-decoration-color: #000080; font-weight: bold\">94</span> <span style=\"font-weight: bold\">)</span>  Right Margin:\n",
       "<span style=\"color: #000080; text-decoration-color: #000080; font-weight: bold\">147</span>  <span style=\"font-weight: bold\">(</span> <span style=\"color: #000080; text-decoration-color: #000080; font-weight: bold\">77</span> <span style=\"font-weight: bold\">)</span>\n",
       "</pre>\n"
      ],
      "text/plain": [
       "<rich.jupyter.JupyterRenderable at 0x28aa7d7c700>"
      ]
     },
     "metadata": {},
     "output_type": "display_data"
    },
    {
     "data": {
      "text/html": [
       "<pre style=\"white-space:pre;overflow-x:auto;line-height:normal;font-family:Menlo,'DejaVu Sans Mono',consolas,'Courier New',monospace\">Byte  <span style=\"color: #000080; text-decoration-color: #000080; font-weight: bold\">1</span>  Nibble <span style=\"color: #000080; text-decoration-color: #000080; font-weight: bold\">0</span>  -   Left Margin:   <span style=\"color: #000080; text-decoration-color: #000080; font-weight: bold\">145</span>  <span style=\"font-weight: bold\">(</span> <span style=\"color: #000080; text-decoration-color: #000080; font-weight: bold\">77</span> <span style=\"font-weight: bold\">)</span>  Center Point:   <span style=\"color: #000080; text-decoration-color: #000080; font-weight: bold\">177</span>  <span style=\"font-weight: bold\">(</span> <span style=\"color: #000080; text-decoration-color: #000080; font-weight: bold\">94</span> <span style=\"font-weight: bold\">)</span>  Right Margin:\n",
       "<span style=\"color: #000080; text-decoration-color: #000080; font-weight: bold\">145</span>  <span style=\"font-weight: bold\">(</span> <span style=\"color: #000080; text-decoration-color: #000080; font-weight: bold\">77</span> <span style=\"font-weight: bold\">)</span>\n",
       "</pre>\n"
      ],
      "text/plain": [
       "<rich.jupyter.JupyterRenderable at 0x28aa7d7c700>"
      ]
     },
     "metadata": {},
     "output_type": "display_data"
    },
    {
     "data": {
      "text/html": [
       "<pre style=\"white-space:pre;overflow-x:auto;line-height:normal;font-family:Menlo,'DejaVu Sans Mono',consolas,'Courier New',monospace\">Byte  <span style=\"color: #000080; text-decoration-color: #000080; font-weight: bold\">1</span>  Nibble <span style=\"color: #000080; text-decoration-color: #000080; font-weight: bold\">1</span>  -   Left Margin:   <span style=\"color: #000080; text-decoration-color: #000080; font-weight: bold\">150</span>  <span style=\"font-weight: bold\">(</span> <span style=\"color: #000080; text-decoration-color: #000080; font-weight: bold\">77</span> <span style=\"font-weight: bold\">)</span>  Center Point:   <span style=\"color: #000080; text-decoration-color: #000080; font-weight: bold\">184</span>  <span style=\"font-weight: bold\">(</span> <span style=\"color: #000080; text-decoration-color: #000080; font-weight: bold\">94</span> <span style=\"font-weight: bold\">)</span>  Right Margin:\n",
       "<span style=\"color: #000080; text-decoration-color: #000080; font-weight: bold\">150</span>  <span style=\"font-weight: bold\">(</span> <span style=\"color: #000080; text-decoration-color: #000080; font-weight: bold\">77</span> <span style=\"font-weight: bold\">)</span>\n",
       "</pre>\n"
      ],
      "text/plain": [
       "<rich.jupyter.JupyterRenderable at 0x28aa7d7c700>"
      ]
     },
     "metadata": {},
     "output_type": "display_data"
    },
    {
     "data": {
      "text/html": [
       "<pre style=\"white-space:pre;overflow-x:auto;line-height:normal;font-family:Menlo,'DejaVu Sans Mono',consolas,'Courier New',monospace\">Byte  <span style=\"color: #000080; text-decoration-color: #000080; font-weight: bold\">2</span>  Nibble <span style=\"color: #000080; text-decoration-color: #000080; font-weight: bold\">0</span>  -   Left Margin:   <span style=\"color: #000080; text-decoration-color: #000080; font-weight: bold\">156</span>  <span style=\"font-weight: bold\">(</span> <span style=\"color: #000080; text-decoration-color: #000080; font-weight: bold\">79</span> <span style=\"font-weight: bold\">)</span>  Center Point:   <span style=\"color: #000080; text-decoration-color: #000080; font-weight: bold\">190</span>  <span style=\"font-weight: bold\">(</span> <span style=\"color: #000080; text-decoration-color: #000080; font-weight: bold\">96</span> <span style=\"font-weight: bold\">)</span>  Right Margin:\n",
       "<span style=\"color: #000080; text-decoration-color: #000080; font-weight: bold\">156</span>  <span style=\"font-weight: bold\">(</span> <span style=\"color: #000080; text-decoration-color: #000080; font-weight: bold\">79</span> <span style=\"font-weight: bold\">)</span>\n",
       "</pre>\n"
      ],
      "text/plain": [
       "<rich.jupyter.JupyterRenderable at 0x28aa7d7c700>"
      ]
     },
     "metadata": {},
     "output_type": "display_data"
    },
    {
     "data": {
      "text/html": [
       "<pre style=\"white-space:pre;overflow-x:auto;line-height:normal;font-family:Menlo,'DejaVu Sans Mono',consolas,'Courier New',monospace\">Byte  <span style=\"color: #000080; text-decoration-color: #000080; font-weight: bold\">2</span>  Nibble <span style=\"color: #000080; text-decoration-color: #000080; font-weight: bold\">1</span>  -   Left Margin:   <span style=\"color: #000080; text-decoration-color: #000080; font-weight: bold\">151</span>  <span style=\"font-weight: bold\">(</span> <span style=\"color: #000080; text-decoration-color: #000080; font-weight: bold\">79</span> <span style=\"font-weight: bold\">)</span>  Center Point:   <span style=\"color: #000080; text-decoration-color: #000080; font-weight: bold\">183</span>  <span style=\"font-weight: bold\">(</span> <span style=\"color: #000080; text-decoration-color: #000080; font-weight: bold\">96</span> <span style=\"font-weight: bold\">)</span>  Right Margin:\n",
       "<span style=\"color: #000080; text-decoration-color: #000080; font-weight: bold\">151</span>  <span style=\"font-weight: bold\">(</span> <span style=\"color: #000080; text-decoration-color: #000080; font-weight: bold\">79</span> <span style=\"font-weight: bold\">)</span>\n",
       "</pre>\n"
      ],
      "text/plain": [
       "<rich.jupyter.JupyterRenderable at 0x28aa7d7c700>"
      ]
     },
     "metadata": {},
     "output_type": "display_data"
    },
    {
     "data": {
      "text/html": [
       "<pre style=\"white-space:pre;overflow-x:auto;line-height:normal;font-family:Menlo,'DejaVu Sans Mono',consolas,'Courier New',monospace\">Byte  <span style=\"color: #000080; text-decoration-color: #000080; font-weight: bold\">3</span>  Nibble <span style=\"color: #000080; text-decoration-color: #000080; font-weight: bold\">0</span>  -   Left Margin:   <span style=\"color: #000080; text-decoration-color: #000080; font-weight: bold\">150</span>  <span style=\"font-weight: bold\">(</span> <span style=\"color: #000080; text-decoration-color: #000080; font-weight: bold\">77</span> <span style=\"font-weight: bold\">)</span>  Center Point:   <span style=\"color: #000080; text-decoration-color: #000080; font-weight: bold\">184</span>  <span style=\"font-weight: bold\">(</span> <span style=\"color: #000080; text-decoration-color: #000080; font-weight: bold\">94</span> <span style=\"font-weight: bold\">)</span>  Right Margin:\n",
       "<span style=\"color: #000080; text-decoration-color: #000080; font-weight: bold\">150</span>  <span style=\"font-weight: bold\">(</span> <span style=\"color: #000080; text-decoration-color: #000080; font-weight: bold\">77</span> <span style=\"font-weight: bold\">)</span>\n",
       "</pre>\n"
      ],
      "text/plain": [
       "<rich.jupyter.JupyterRenderable at 0x28aa7d7c700>"
      ]
     },
     "metadata": {},
     "output_type": "display_data"
    },
    {
     "data": {
      "text/html": [
       "<pre style=\"white-space:pre;overflow-x:auto;line-height:normal;font-family:Menlo,'DejaVu Sans Mono',consolas,'Courier New',monospace\">Byte  <span style=\"color: #000080; text-decoration-color: #000080; font-weight: bold\">3</span>  Nibble <span style=\"color: #000080; text-decoration-color: #000080; font-weight: bold\">1</span>  -   Left Margin:   <span style=\"color: #000080; text-decoration-color: #000080; font-weight: bold\">150</span>  <span style=\"font-weight: bold\">(</span> <span style=\"color: #000080; text-decoration-color: #000080; font-weight: bold\">77</span> <span style=\"font-weight: bold\">)</span>  Center Point:   <span style=\"color: #000080; text-decoration-color: #000080; font-weight: bold\">184</span>  <span style=\"font-weight: bold\">(</span> <span style=\"color: #000080; text-decoration-color: #000080; font-weight: bold\">94</span> <span style=\"font-weight: bold\">)</span>  Right Margin:\n",
       "<span style=\"color: #000080; text-decoration-color: #000080; font-weight: bold\">150</span>  <span style=\"font-weight: bold\">(</span> <span style=\"color: #000080; text-decoration-color: #000080; font-weight: bold\">77</span> <span style=\"font-weight: bold\">)</span>\n",
       "</pre>\n"
      ],
      "text/plain": [
       "<rich.jupyter.JupyterRenderable at 0x28aa7d7c700>"
      ]
     },
     "metadata": {},
     "output_type": "display_data"
    },
    {
     "data": {
      "text/html": [
       "<pre style=\"white-space:pre;overflow-x:auto;line-height:normal;font-family:Menlo,'DejaVu Sans Mono',consolas,'Courier New',monospace\">Byte  <span style=\"color: #000080; text-decoration-color: #000080; font-weight: bold\">4</span>  Nibble <span style=\"color: #000080; text-decoration-color: #000080; font-weight: bold\">0</span>  -   Left Margin:   <span style=\"color: #000080; text-decoration-color: #000080; font-weight: bold\">149</span>  <span style=\"font-weight: bold\">(</span> <span style=\"color: #000080; text-decoration-color: #000080; font-weight: bold\">77</span> <span style=\"font-weight: bold\">)</span>  Center Point:   <span style=\"color: #000080; text-decoration-color: #000080; font-weight: bold\">181</span>  <span style=\"font-weight: bold\">(</span> <span style=\"color: #000080; text-decoration-color: #000080; font-weight: bold\">94</span> <span style=\"font-weight: bold\">)</span>  Right Margin:\n",
       "<span style=\"color: #000080; text-decoration-color: #000080; font-weight: bold\">149</span>  <span style=\"font-weight: bold\">(</span> <span style=\"color: #000080; text-decoration-color: #000080; font-weight: bold\">77</span> <span style=\"font-weight: bold\">)</span>\n",
       "</pre>\n"
      ],
      "text/plain": [
       "<rich.jupyter.JupyterRenderable at 0x28aa7d7c700>"
      ]
     },
     "metadata": {},
     "output_type": "display_data"
    },
    {
     "data": {
      "text/html": [
       "<pre style=\"white-space:pre;overflow-x:auto;line-height:normal;font-family:Menlo,'DejaVu Sans Mono',consolas,'Courier New',monospace\">Byte  <span style=\"color: #000080; text-decoration-color: #000080; font-weight: bold\">4</span>  Nibble <span style=\"color: #000080; text-decoration-color: #000080; font-weight: bold\">1</span>  -   Left Margin:   <span style=\"color: #000080; text-decoration-color: #000080; font-weight: bold\">152</span>  <span style=\"font-weight: bold\">(</span> <span style=\"color: #000080; text-decoration-color: #000080; font-weight: bold\">77</span> <span style=\"font-weight: bold\">)</span>  Center Point:   <span style=\"color: #000080; text-decoration-color: #000080; font-weight: bold\">186</span>  <span style=\"font-weight: bold\">(</span> <span style=\"color: #000080; text-decoration-color: #000080; font-weight: bold\">94</span> <span style=\"font-weight: bold\">)</span>  Right Margin:\n",
       "<span style=\"color: #000080; text-decoration-color: #000080; font-weight: bold\">152</span>  <span style=\"font-weight: bold\">(</span> <span style=\"color: #000080; text-decoration-color: #000080; font-weight: bold\">77</span> <span style=\"font-weight: bold\">)</span>\n",
       "</pre>\n"
      ],
      "text/plain": [
       "<rich.jupyter.JupyterRenderable at 0x28aa7d7c700>"
      ]
     },
     "metadata": {},
     "output_type": "display_data"
    },
    {
     "data": {
      "text/html": [
       "<pre style=\"white-space:pre;overflow-x:auto;line-height:normal;font-family:Menlo,'DejaVu Sans Mono',consolas,'Courier New',monospace\">Byte  <span style=\"color: #000080; text-decoration-color: #000080; font-weight: bold\">5</span>  Nibble <span style=\"color: #000080; text-decoration-color: #000080; font-weight: bold\">0</span>  -   Left Margin:   <span style=\"color: #000080; text-decoration-color: #000080; font-weight: bold\">154</span>  <span style=\"font-weight: bold\">(</span> <span style=\"color: #000080; text-decoration-color: #000080; font-weight: bold\">79</span> <span style=\"font-weight: bold\">)</span>  Center Point:   <span style=\"color: #000080; text-decoration-color: #000080; font-weight: bold\">188</span>  <span style=\"font-weight: bold\">(</span> <span style=\"color: #000080; text-decoration-color: #000080; font-weight: bold\">96</span> <span style=\"font-weight: bold\">)</span>  Right Margin:\n",
       "<span style=\"color: #000080; text-decoration-color: #000080; font-weight: bold\">156</span>  <span style=\"font-weight: bold\">(</span> <span style=\"color: #000080; text-decoration-color: #000080; font-weight: bold\">80</span> <span style=\"font-weight: bold\">)</span>\n",
       "</pre>\n"
      ],
      "text/plain": [
       "<rich.jupyter.JupyterRenderable at 0x28aa7d7c700>"
      ]
     },
     "metadata": {},
     "output_type": "display_data"
    },
    {
     "data": {
      "text/html": [
       "<pre style=\"white-space:pre;overflow-x:auto;line-height:normal;font-family:Menlo,'DejaVu Sans Mono',consolas,'Courier New',monospace\">Byte  <span style=\"color: #000080; text-decoration-color: #000080; font-weight: bold\">5</span>  Nibble <span style=\"color: #000080; text-decoration-color: #000080; font-weight: bold\">1</span>  -   Left Margin:   <span style=\"color: #000080; text-decoration-color: #000080; font-weight: bold\">156</span>  <span style=\"font-weight: bold\">(</span> <span style=\"color: #000080; text-decoration-color: #000080; font-weight: bold\">79</span> <span style=\"font-weight: bold\">)</span>  Center Point:   <span style=\"color: #000080; text-decoration-color: #000080; font-weight: bold\">190</span>  <span style=\"font-weight: bold\">(</span> <span style=\"color: #000080; text-decoration-color: #000080; font-weight: bold\">96</span> <span style=\"font-weight: bold\">)</span>  Right Margin:\n",
       "<span style=\"color: #000080; text-decoration-color: #000080; font-weight: bold\">158</span>  <span style=\"font-weight: bold\">(</span> <span style=\"color: #000080; text-decoration-color: #000080; font-weight: bold\">80</span> <span style=\"font-weight: bold\">)</span>\n",
       "</pre>\n"
      ],
      "text/plain": [
       "<rich.jupyter.JupyterRenderable at 0x28aa7d7c700>"
      ]
     },
     "metadata": {},
     "output_type": "display_data"
    },
    {
     "data": {
      "text/html": [
       "<pre style=\"white-space:pre;overflow-x:auto;line-height:normal;font-family:Menlo,'DejaVu Sans Mono',consolas,'Courier New',monospace\">Byte  <span style=\"color: #000080; text-decoration-color: #000080; font-weight: bold\">6</span>  Nibble <span style=\"color: #000080; text-decoration-color: #000080; font-weight: bold\">0</span>  -   Left Margin:   <span style=\"color: #000080; text-decoration-color: #000080; font-weight: bold\">154</span>  <span style=\"font-weight: bold\">(</span> <span style=\"color: #000080; text-decoration-color: #000080; font-weight: bold\">79</span> <span style=\"font-weight: bold\">)</span>  Center Point:   <span style=\"color: #000080; text-decoration-color: #000080; font-weight: bold\">188</span>  <span style=\"font-weight: bold\">(</span> <span style=\"color: #000080; text-decoration-color: #000080; font-weight: bold\">96</span> <span style=\"font-weight: bold\">)</span>  Right Margin:\n",
       "<span style=\"color: #000080; text-decoration-color: #000080; font-weight: bold\">156</span>  <span style=\"font-weight: bold\">(</span> <span style=\"color: #000080; text-decoration-color: #000080; font-weight: bold\">80</span> <span style=\"font-weight: bold\">)</span>\n",
       "</pre>\n"
      ],
      "text/plain": [
       "<rich.jupyter.JupyterRenderable at 0x28aa7d7c700>"
      ]
     },
     "metadata": {},
     "output_type": "display_data"
    },
    {
     "data": {
      "text/html": [
       "<pre style=\"white-space:pre;overflow-x:auto;line-height:normal;font-family:Menlo,'DejaVu Sans Mono',consolas,'Courier New',monospace\">Byte  <span style=\"color: #000080; text-decoration-color: #000080; font-weight: bold\">6</span>  Nibble <span style=\"color: #000080; text-decoration-color: #000080; font-weight: bold\">1</span>  -   Left Margin:   <span style=\"color: #000080; text-decoration-color: #000080; font-weight: bold\">160</span>  <span style=\"font-weight: bold\">(</span> <span style=\"color: #000080; text-decoration-color: #000080; font-weight: bold\">82</span> <span style=\"font-weight: bold\">)</span>  Center Point:   <span style=\"color: #000080; text-decoration-color: #000080; font-weight: bold\">193</span>  <span style=\"font-weight: bold\">(</span> <span style=\"color: #000080; text-decoration-color: #000080; font-weight: bold\">99</span> <span style=\"font-weight: bold\">)</span>  Right Margin:\n",
       "<span style=\"color: #000080; text-decoration-color: #000080; font-weight: bold\">160</span>  <span style=\"font-weight: bold\">(</span> <span style=\"color: #000080; text-decoration-color: #000080; font-weight: bold\">82</span> <span style=\"font-weight: bold\">)</span>\n",
       "</pre>\n"
      ],
      "text/plain": [
       "<rich.jupyter.JupyterRenderable at 0x28aa7d7c700>"
      ]
     },
     "metadata": {},
     "output_type": "display_data"
    },
    {
     "data": {
      "text/html": [
       "<pre style=\"white-space:pre;overflow-x:auto;line-height:normal;font-family:Menlo,'DejaVu Sans Mono',consolas,'Courier New',monospace\">Byte  <span style=\"color: #000080; text-decoration-color: #000080; font-weight: bold\">7</span>  Nibble <span style=\"color: #000080; text-decoration-color: #000080; font-weight: bold\">0</span>  -   Left Margin:   <span style=\"color: #000080; text-decoration-color: #000080; font-weight: bold\">152</span>  <span style=\"font-weight: bold\">(</span> <span style=\"color: #000080; text-decoration-color: #000080; font-weight: bold\">77</span> <span style=\"font-weight: bold\">)</span>  Center Point:   <span style=\"color: #000080; text-decoration-color: #000080; font-weight: bold\">186</span>  <span style=\"font-weight: bold\">(</span> <span style=\"color: #000080; text-decoration-color: #000080; font-weight: bold\">94</span> <span style=\"font-weight: bold\">)</span>  Right Margin:\n",
       "<span style=\"color: #000080; text-decoration-color: #000080; font-weight: bold\">152</span>  <span style=\"font-weight: bold\">(</span> <span style=\"color: #000080; text-decoration-color: #000080; font-weight: bold\">77</span> <span style=\"font-weight: bold\">)</span>\n",
       "</pre>\n"
      ],
      "text/plain": [
       "<rich.jupyter.JupyterRenderable at 0x28aa7d7c700>"
      ]
     },
     "metadata": {},
     "output_type": "display_data"
    },
    {
     "data": {
      "text/html": [
       "<pre style=\"white-space:pre;overflow-x:auto;line-height:normal;font-family:Menlo,'DejaVu Sans Mono',consolas,'Courier New',monospace\">Byte  <span style=\"color: #000080; text-decoration-color: #000080; font-weight: bold\">7</span>  Nibble <span style=\"color: #000080; text-decoration-color: #000080; font-weight: bold\">1</span>  -   Left Margin:   <span style=\"color: #000080; text-decoration-color: #000080; font-weight: bold\">154</span>  <span style=\"font-weight: bold\">(</span> <span style=\"color: #000080; text-decoration-color: #000080; font-weight: bold\">77</span> <span style=\"font-weight: bold\">)</span>  Center Point:   <span style=\"color: #000080; text-decoration-color: #000080; font-weight: bold\">188</span>  <span style=\"font-weight: bold\">(</span> <span style=\"color: #000080; text-decoration-color: #000080; font-weight: bold\">94</span> <span style=\"font-weight: bold\">)</span>  Right Margin:\n",
       "<span style=\"color: #000080; text-decoration-color: #000080; font-weight: bold\">154</span>  <span style=\"font-weight: bold\">(</span> <span style=\"color: #000080; text-decoration-color: #000080; font-weight: bold\">77</span> <span style=\"font-weight: bold\">)</span>\n",
       "</pre>\n"
      ],
      "text/plain": [
       "<rich.jupyter.JupyterRenderable at 0x28aa7d7c700>"
      ]
     },
     "metadata": {},
     "output_type": "display_data"
    },
    {
     "data": {
      "text/html": [
       "<pre style=\"white-space:pre;overflow-x:auto;line-height:normal;font-family:Menlo,'DejaVu Sans Mono',consolas,'Courier New',monospace\">\n",
       " Frequency <span style=\"color: #000080; text-decoration-color: #000080; font-weight: bold\">0</span>  - Read Margin - Simple Pattern - Falling Edge Clock in pS and <span style=\"font-weight: bold\">(</span>delay taps<span style=\"font-weight: bold\">)</span>:\n",
       "\n",
       "</pre>\n"
      ],
      "text/plain": [
       "<rich.jupyter.JupyterRenderable at 0x28aa8e69e20>"
      ]
     },
     "metadata": {},
     "output_type": "display_data"
    },
    {
     "data": {
      "text/html": [
       "<pre style=\"white-space:pre;overflow-x:auto;line-height:normal;font-family:Menlo,'DejaVu Sans Mono',consolas,'Courier New',monospace\">Byte  <span style=\"color: #000080; text-decoration-color: #000080; font-weight: bold\">0</span>  Nibble <span style=\"color: #000080; text-decoration-color: #000080; font-weight: bold\">0</span>  -   Left Margin:   <span style=\"color: #000080; text-decoration-color: #000080; font-weight: bold\">147</span>  <span style=\"font-weight: bold\">(</span> <span style=\"color: #000080; text-decoration-color: #000080; font-weight: bold\">76</span> <span style=\"font-weight: bold\">)</span>  Center Point:   <span style=\"color: #000080; text-decoration-color: #000080; font-weight: bold\">195</span>  <span style=\"font-weight: bold\">(</span> <span style=\"color: #000080; text-decoration-color: #000080; font-weight: bold\">101</span> <span style=\"font-weight: bold\">)</span>  Right \n",
       "Margin:   <span style=\"color: #000080; text-decoration-color: #000080; font-weight: bold\">147</span>  <span style=\"font-weight: bold\">(</span> <span style=\"color: #000080; text-decoration-color: #000080; font-weight: bold\">76</span> <span style=\"font-weight: bold\">)</span>\n",
       "</pre>\n"
      ],
      "text/plain": [
       "<rich.jupyter.JupyterRenderable at 0x28aa8e69e20>"
      ]
     },
     "metadata": {},
     "output_type": "display_data"
    },
    {
     "data": {
      "text/html": [
       "<pre style=\"white-space:pre;overflow-x:auto;line-height:normal;font-family:Menlo,'DejaVu Sans Mono',consolas,'Courier New',monospace\">Byte  <span style=\"color: #000080; text-decoration-color: #000080; font-weight: bold\">0</span>  Nibble <span style=\"color: #000080; text-decoration-color: #000080; font-weight: bold\">1</span>  -   Left Margin:   <span style=\"color: #000080; text-decoration-color: #000080; font-weight: bold\">139</span>  <span style=\"font-weight: bold\">(</span> <span style=\"color: #000080; text-decoration-color: #000080; font-weight: bold\">74</span> <span style=\"font-weight: bold\">)</span>  Center Point:   <span style=\"color: #000080; text-decoration-color: #000080; font-weight: bold\">194</span>  <span style=\"font-weight: bold\">(</span> <span style=\"color: #000080; text-decoration-color: #000080; font-weight: bold\">103</span> <span style=\"font-weight: bold\">)</span>  Right \n",
       "Margin:   <span style=\"color: #000080; text-decoration-color: #000080; font-weight: bold\">141</span>  <span style=\"font-weight: bold\">(</span> <span style=\"color: #000080; text-decoration-color: #000080; font-weight: bold\">75</span> <span style=\"font-weight: bold\">)</span>\n",
       "</pre>\n"
      ],
      "text/plain": [
       "<rich.jupyter.JupyterRenderable at 0x28aa8e69e20>"
      ]
     },
     "metadata": {},
     "output_type": "display_data"
    },
    {
     "data": {
      "text/html": [
       "<pre style=\"white-space:pre;overflow-x:auto;line-height:normal;font-family:Menlo,'DejaVu Sans Mono',consolas,'Courier New',monospace\">Byte  <span style=\"color: #000080; text-decoration-color: #000080; font-weight: bold\">1</span>  Nibble <span style=\"color: #000080; text-decoration-color: #000080; font-weight: bold\">0</span>  -   Left Margin:   <span style=\"color: #000080; text-decoration-color: #000080; font-weight: bold\">145</span>  <span style=\"font-weight: bold\">(</span> <span style=\"color: #000080; text-decoration-color: #000080; font-weight: bold\">76</span> <span style=\"font-weight: bold\">)</span>  Center Point:   <span style=\"color: #000080; text-decoration-color: #000080; font-weight: bold\">183</span>  <span style=\"font-weight: bold\">(</span> <span style=\"color: #000080; text-decoration-color: #000080; font-weight: bold\">96</span> <span style=\"font-weight: bold\">)</span>  Right Margin:\n",
       "<span style=\"color: #000080; text-decoration-color: #000080; font-weight: bold\">145</span>  <span style=\"font-weight: bold\">(</span> <span style=\"color: #000080; text-decoration-color: #000080; font-weight: bold\">76</span> <span style=\"font-weight: bold\">)</span>\n",
       "</pre>\n"
      ],
      "text/plain": [
       "<rich.jupyter.JupyterRenderable at 0x28aa8e69e20>"
      ]
     },
     "metadata": {},
     "output_type": "display_data"
    },
    {
     "data": {
      "text/html": [
       "<pre style=\"white-space:pre;overflow-x:auto;line-height:normal;font-family:Menlo,'DejaVu Sans Mono',consolas,'Courier New',monospace\">Byte  <span style=\"color: #000080; text-decoration-color: #000080; font-weight: bold\">1</span>  Nibble <span style=\"color: #000080; text-decoration-color: #000080; font-weight: bold\">1</span>  -   Left Margin:   <span style=\"color: #000080; text-decoration-color: #000080; font-weight: bold\">147</span>  <span style=\"font-weight: bold\">(</span> <span style=\"color: #000080; text-decoration-color: #000080; font-weight: bold\">76</span> <span style=\"font-weight: bold\">)</span>  Center Point:   <span style=\"color: #000080; text-decoration-color: #000080; font-weight: bold\">189</span>  <span style=\"font-weight: bold\">(</span> <span style=\"color: #000080; text-decoration-color: #000080; font-weight: bold\">98</span> <span style=\"font-weight: bold\">)</span>  Right Margin:\n",
       "<span style=\"color: #000080; text-decoration-color: #000080; font-weight: bold\">147</span>  <span style=\"font-weight: bold\">(</span> <span style=\"color: #000080; text-decoration-color: #000080; font-weight: bold\">76</span> <span style=\"font-weight: bold\">)</span>\n",
       "</pre>\n"
      ],
      "text/plain": [
       "<rich.jupyter.JupyterRenderable at 0x28aa8e69e20>"
      ]
     },
     "metadata": {},
     "output_type": "display_data"
    },
    {
     "data": {
      "text/html": [
       "<pre style=\"white-space:pre;overflow-x:auto;line-height:normal;font-family:Menlo,'DejaVu Sans Mono',consolas,'Courier New',monospace\">Byte  <span style=\"color: #000080; text-decoration-color: #000080; font-weight: bold\">2</span>  Nibble <span style=\"color: #000080; text-decoration-color: #000080; font-weight: bold\">0</span>  -   Left Margin:   <span style=\"color: #000080; text-decoration-color: #000080; font-weight: bold\">147</span>  <span style=\"font-weight: bold\">(</span> <span style=\"color: #000080; text-decoration-color: #000080; font-weight: bold\">76</span> <span style=\"font-weight: bold\">)</span>  Center Point:   <span style=\"color: #000080; text-decoration-color: #000080; font-weight: bold\">201</span>  <span style=\"font-weight: bold\">(</span> <span style=\"color: #000080; text-decoration-color: #000080; font-weight: bold\">104</span> <span style=\"font-weight: bold\">)</span>  Right \n",
       "Margin:   <span style=\"color: #000080; text-decoration-color: #000080; font-weight: bold\">147</span>  <span style=\"font-weight: bold\">(</span> <span style=\"color: #000080; text-decoration-color: #000080; font-weight: bold\">76</span> <span style=\"font-weight: bold\">)</span>\n",
       "</pre>\n"
      ],
      "text/plain": [
       "<rich.jupyter.JupyterRenderable at 0x28aa8e69e20>"
      ]
     },
     "metadata": {},
     "output_type": "display_data"
    },
    {
     "data": {
      "text/html": [
       "<pre style=\"white-space:pre;overflow-x:auto;line-height:normal;font-family:Menlo,'DejaVu Sans Mono',consolas,'Courier New',monospace\">Byte  <span style=\"color: #000080; text-decoration-color: #000080; font-weight: bold\">2</span>  Nibble <span style=\"color: #000080; text-decoration-color: #000080; font-weight: bold\">1</span>  -   Left Margin:   <span style=\"color: #000080; text-decoration-color: #000080; font-weight: bold\">143</span>  <span style=\"font-weight: bold\">(</span> <span style=\"color: #000080; text-decoration-color: #000080; font-weight: bold\">76</span> <span style=\"font-weight: bold\">)</span>  Center Point:   <span style=\"color: #000080; text-decoration-color: #000080; font-weight: bold\">192</span>  <span style=\"font-weight: bold\">(</span> <span style=\"color: #000080; text-decoration-color: #000080; font-weight: bold\">102</span> <span style=\"font-weight: bold\">)</span>  Right \n",
       "Margin:   <span style=\"color: #000080; text-decoration-color: #000080; font-weight: bold\">143</span>  <span style=\"font-weight: bold\">(</span> <span style=\"color: #000080; text-decoration-color: #000080; font-weight: bold\">76</span> <span style=\"font-weight: bold\">)</span>\n",
       "</pre>\n"
      ],
      "text/plain": [
       "<rich.jupyter.JupyterRenderable at 0x28aa8e69e20>"
      ]
     },
     "metadata": {},
     "output_type": "display_data"
    },
    {
     "data": {
      "text/html": [
       "<pre style=\"white-space:pre;overflow-x:auto;line-height:normal;font-family:Menlo,'DejaVu Sans Mono',consolas,'Courier New',monospace\">Byte  <span style=\"color: #000080; text-decoration-color: #000080; font-weight: bold\">3</span>  Nibble <span style=\"color: #000080; text-decoration-color: #000080; font-weight: bold\">0</span>  -   Left Margin:   <span style=\"color: #000080; text-decoration-color: #000080; font-weight: bold\">147</span>  <span style=\"font-weight: bold\">(</span> <span style=\"color: #000080; text-decoration-color: #000080; font-weight: bold\">76</span> <span style=\"font-weight: bold\">)</span>  Center Point:   <span style=\"color: #000080; text-decoration-color: #000080; font-weight: bold\">183</span>  <span style=\"font-weight: bold\">(</span> <span style=\"color: #000080; text-decoration-color: #000080; font-weight: bold\">95</span> <span style=\"font-weight: bold\">)</span>  Right Margin:\n",
       "<span style=\"color: #000080; text-decoration-color: #000080; font-weight: bold\">147</span>  <span style=\"font-weight: bold\">(</span> <span style=\"color: #000080; text-decoration-color: #000080; font-weight: bold\">76</span> <span style=\"font-weight: bold\">)</span>\n",
       "</pre>\n"
      ],
      "text/plain": [
       "<rich.jupyter.JupyterRenderable at 0x28aa8e69e20>"
      ]
     },
     "metadata": {},
     "output_type": "display_data"
    },
    {
     "data": {
      "text/html": [
       "<pre style=\"white-space:pre;overflow-x:auto;line-height:normal;font-family:Menlo,'DejaVu Sans Mono',consolas,'Courier New',monospace\">Byte  <span style=\"color: #000080; text-decoration-color: #000080; font-weight: bold\">3</span>  Nibble <span style=\"color: #000080; text-decoration-color: #000080; font-weight: bold\">1</span>  -   Left Margin:   <span style=\"color: #000080; text-decoration-color: #000080; font-weight: bold\">148</span>  <span style=\"font-weight: bold\">(</span> <span style=\"color: #000080; text-decoration-color: #000080; font-weight: bold\">76</span> <span style=\"font-weight: bold\">)</span>  Center Point:   <span style=\"color: #000080; text-decoration-color: #000080; font-weight: bold\">188</span>  <span style=\"font-weight: bold\">(</span> <span style=\"color: #000080; text-decoration-color: #000080; font-weight: bold\">96</span> <span style=\"font-weight: bold\">)</span>  Right Margin:\n",
       "<span style=\"color: #000080; text-decoration-color: #000080; font-weight: bold\">148</span>  <span style=\"font-weight: bold\">(</span> <span style=\"color: #000080; text-decoration-color: #000080; font-weight: bold\">76</span> <span style=\"font-weight: bold\">)</span>\n",
       "</pre>\n"
      ],
      "text/plain": [
       "<rich.jupyter.JupyterRenderable at 0x28aa8e68dc0>"
      ]
     },
     "metadata": {},
     "output_type": "display_data"
    },
    {
     "data": {
      "text/html": [
       "<pre style=\"white-space:pre;overflow-x:auto;line-height:normal;font-family:Menlo,'DejaVu Sans Mono',consolas,'Courier New',monospace\">Byte  <span style=\"color: #000080; text-decoration-color: #000080; font-weight: bold\">4</span>  Nibble <span style=\"color: #000080; text-decoration-color: #000080; font-weight: bold\">0</span>  -   Left Margin:   <span style=\"color: #000080; text-decoration-color: #000080; font-weight: bold\">147</span>  <span style=\"font-weight: bold\">(</span> <span style=\"color: #000080; text-decoration-color: #000080; font-weight: bold\">76</span> <span style=\"font-weight: bold\">)</span>  Center Point:   <span style=\"color: #000080; text-decoration-color: #000080; font-weight: bold\">191</span>  <span style=\"font-weight: bold\">(</span> <span style=\"color: #000080; text-decoration-color: #000080; font-weight: bold\">99</span> <span style=\"font-weight: bold\">)</span>  Right Margin:\n",
       "<span style=\"color: #000080; text-decoration-color: #000080; font-weight: bold\">147</span>  <span style=\"font-weight: bold\">(</span> <span style=\"color: #000080; text-decoration-color: #000080; font-weight: bold\">76</span> <span style=\"font-weight: bold\">)</span>\n",
       "</pre>\n"
      ],
      "text/plain": [
       "<rich.jupyter.JupyterRenderable at 0x28aa8e68dc0>"
      ]
     },
     "metadata": {},
     "output_type": "display_data"
    },
    {
     "data": {
      "text/html": [
       "<pre style=\"white-space:pre;overflow-x:auto;line-height:normal;font-family:Menlo,'DejaVu Sans Mono',consolas,'Courier New',monospace\">Byte  <span style=\"color: #000080; text-decoration-color: #000080; font-weight: bold\">4</span>  Nibble <span style=\"color: #000080; text-decoration-color: #000080; font-weight: bold\">1</span>  -   Left Margin:   <span style=\"color: #000080; text-decoration-color: #000080; font-weight: bold\">141</span>  <span style=\"font-weight: bold\">(</span> <span style=\"color: #000080; text-decoration-color: #000080; font-weight: bold\">74</span> <span style=\"font-weight: bold\">)</span>  Center Point:   <span style=\"color: #000080; text-decoration-color: #000080; font-weight: bold\">194</span>  <span style=\"font-weight: bold\">(</span> <span style=\"color: #000080; text-decoration-color: #000080; font-weight: bold\">102</span> <span style=\"font-weight: bold\">)</span>  Right \n",
       "Margin:   <span style=\"color: #000080; text-decoration-color: #000080; font-weight: bold\">143</span>  <span style=\"font-weight: bold\">(</span> <span style=\"color: #000080; text-decoration-color: #000080; font-weight: bold\">75</span> <span style=\"font-weight: bold\">)</span>\n",
       "</pre>\n"
      ],
      "text/plain": [
       "<rich.jupyter.JupyterRenderable at 0x28aa8e68dc0>"
      ]
     },
     "metadata": {},
     "output_type": "display_data"
    },
    {
     "data": {
      "text/html": [
       "<pre style=\"white-space:pre;overflow-x:auto;line-height:normal;font-family:Menlo,'DejaVu Sans Mono',consolas,'Courier New',monospace\">Byte  <span style=\"color: #000080; text-decoration-color: #000080; font-weight: bold\">5</span>  Nibble <span style=\"color: #000080; text-decoration-color: #000080; font-weight: bold\">0</span>  -   Left Margin:   <span style=\"color: #000080; text-decoration-color: #000080; font-weight: bold\">148</span>  <span style=\"font-weight: bold\">(</span> <span style=\"color: #000080; text-decoration-color: #000080; font-weight: bold\">76</span> <span style=\"font-weight: bold\">)</span>  Center Point:   <span style=\"color: #000080; text-decoration-color: #000080; font-weight: bold\">186</span>  <span style=\"font-weight: bold\">(</span> <span style=\"color: #000080; text-decoration-color: #000080; font-weight: bold\">95</span> <span style=\"font-weight: bold\">)</span>  Right Margin:\n",
       "<span style=\"color: #000080; text-decoration-color: #000080; font-weight: bold\">148</span>  <span style=\"font-weight: bold\">(</span> <span style=\"color: #000080; text-decoration-color: #000080; font-weight: bold\">76</span> <span style=\"font-weight: bold\">)</span>\n",
       "</pre>\n"
      ],
      "text/plain": [
       "<rich.jupyter.JupyterRenderable at 0x28aa8e68dc0>"
      ]
     },
     "metadata": {},
     "output_type": "display_data"
    },
    {
     "data": {
      "text/html": [
       "<pre style=\"white-space:pre;overflow-x:auto;line-height:normal;font-family:Menlo,'DejaVu Sans Mono',consolas,'Courier New',monospace\">Byte  <span style=\"color: #000080; text-decoration-color: #000080; font-weight: bold\">5</span>  Nibble <span style=\"color: #000080; text-decoration-color: #000080; font-weight: bold\">1</span>  -   Left Margin:   <span style=\"color: #000080; text-decoration-color: #000080; font-weight: bold\">148</span>  <span style=\"font-weight: bold\">(</span> <span style=\"color: #000080; text-decoration-color: #000080; font-weight: bold\">76</span> <span style=\"font-weight: bold\">)</span>  Center Point:   <span style=\"color: #000080; text-decoration-color: #000080; font-weight: bold\">193</span>  <span style=\"font-weight: bold\">(</span> <span style=\"color: #000080; text-decoration-color: #000080; font-weight: bold\">99</span> <span style=\"font-weight: bold\">)</span>  Right Margin:\n",
       "<span style=\"color: #000080; text-decoration-color: #000080; font-weight: bold\">148</span>  <span style=\"font-weight: bold\">(</span> <span style=\"color: #000080; text-decoration-color: #000080; font-weight: bold\">76</span> <span style=\"font-weight: bold\">)</span>\n",
       "</pre>\n"
      ],
      "text/plain": [
       "<rich.jupyter.JupyterRenderable at 0x28aa8e68dc0>"
      ]
     },
     "metadata": {},
     "output_type": "display_data"
    },
    {
     "data": {
      "text/html": [
       "<pre style=\"white-space:pre;overflow-x:auto;line-height:normal;font-family:Menlo,'DejaVu Sans Mono',consolas,'Courier New',monospace\">Byte  <span style=\"color: #000080; text-decoration-color: #000080; font-weight: bold\">6</span>  Nibble <span style=\"color: #000080; text-decoration-color: #000080; font-weight: bold\">0</span>  -   Left Margin:   <span style=\"color: #000080; text-decoration-color: #000080; font-weight: bold\">145</span>  <span style=\"font-weight: bold\">(</span> <span style=\"color: #000080; text-decoration-color: #000080; font-weight: bold\">76</span> <span style=\"font-weight: bold\">)</span>  Center Point:   <span style=\"color: #000080; text-decoration-color: #000080; font-weight: bold\">185</span>  <span style=\"font-weight: bold\">(</span> <span style=\"color: #000080; text-decoration-color: #000080; font-weight: bold\">97</span> <span style=\"font-weight: bold\">)</span>  Right Margin:\n",
       "<span style=\"color: #000080; text-decoration-color: #000080; font-weight: bold\">145</span>  <span style=\"font-weight: bold\">(</span> <span style=\"color: #000080; text-decoration-color: #000080; font-weight: bold\">76</span> <span style=\"font-weight: bold\">)</span>\n",
       "</pre>\n"
      ],
      "text/plain": [
       "<rich.jupyter.JupyterRenderable at 0x28aa8e68dc0>"
      ]
     },
     "metadata": {},
     "output_type": "display_data"
    },
    {
     "data": {
      "text/html": [
       "<pre style=\"white-space:pre;overflow-x:auto;line-height:normal;font-family:Menlo,'DejaVu Sans Mono',consolas,'Courier New',monospace\">Byte  <span style=\"color: #000080; text-decoration-color: #000080; font-weight: bold\">6</span>  Nibble <span style=\"color: #000080; text-decoration-color: #000080; font-weight: bold\">1</span>  -   Left Margin:   <span style=\"color: #000080; text-decoration-color: #000080; font-weight: bold\">141</span>  <span style=\"font-weight: bold\">(</span> <span style=\"color: #000080; text-decoration-color: #000080; font-weight: bold\">73</span> <span style=\"font-weight: bold\">)</span>  Center Point:   <span style=\"color: #000080; text-decoration-color: #000080; font-weight: bold\">189</span>  <span style=\"font-weight: bold\">(</span> <span style=\"color: #000080; text-decoration-color: #000080; font-weight: bold\">98</span> <span style=\"font-weight: bold\">)</span>  Right Margin:\n",
       "<span style=\"color: #000080; text-decoration-color: #000080; font-weight: bold\">141</span>  <span style=\"font-weight: bold\">(</span> <span style=\"color: #000080; text-decoration-color: #000080; font-weight: bold\">73</span> <span style=\"font-weight: bold\">)</span>\n",
       "</pre>\n"
      ],
      "text/plain": [
       "<rich.jupyter.JupyterRenderable at 0x28aa8e68dc0>"
      ]
     },
     "metadata": {},
     "output_type": "display_data"
    },
    {
     "data": {
      "text/html": [
       "<pre style=\"white-space:pre;overflow-x:auto;line-height:normal;font-family:Menlo,'DejaVu Sans Mono',consolas,'Courier New',monospace\">Byte  <span style=\"color: #000080; text-decoration-color: #000080; font-weight: bold\">7</span>  Nibble <span style=\"color: #000080; text-decoration-color: #000080; font-weight: bold\">0</span>  -   Left Margin:   <span style=\"color: #000080; text-decoration-color: #000080; font-weight: bold\">148</span>  <span style=\"font-weight: bold\">(</span> <span style=\"color: #000080; text-decoration-color: #000080; font-weight: bold\">76</span> <span style=\"font-weight: bold\">)</span>  Center Point:   <span style=\"color: #000080; text-decoration-color: #000080; font-weight: bold\">186</span>  <span style=\"font-weight: bold\">(</span> <span style=\"color: #000080; text-decoration-color: #000080; font-weight: bold\">95</span> <span style=\"font-weight: bold\">)</span>  Right Margin:\n",
       "<span style=\"color: #000080; text-decoration-color: #000080; font-weight: bold\">148</span>  <span style=\"font-weight: bold\">(</span> <span style=\"color: #000080; text-decoration-color: #000080; font-weight: bold\">76</span> <span style=\"font-weight: bold\">)</span>\n",
       "</pre>\n"
      ],
      "text/plain": [
       "<rich.jupyter.JupyterRenderable at 0x28aa8e68dc0>"
      ]
     },
     "metadata": {},
     "output_type": "display_data"
    },
    {
     "data": {
      "text/html": [
       "<pre style=\"white-space:pre;overflow-x:auto;line-height:normal;font-family:Menlo,'DejaVu Sans Mono',consolas,'Courier New',monospace\">Byte  <span style=\"color: #000080; text-decoration-color: #000080; font-weight: bold\">7</span>  Nibble <span style=\"color: #000080; text-decoration-color: #000080; font-weight: bold\">1</span>  -   Left Margin:   <span style=\"color: #000080; text-decoration-color: #000080; font-weight: bold\">147</span>  <span style=\"font-weight: bold\">(</span> <span style=\"color: #000080; text-decoration-color: #000080; font-weight: bold\">76</span> <span style=\"font-weight: bold\">)</span>  Center Point:   <span style=\"color: #000080; text-decoration-color: #000080; font-weight: bold\">189</span>  <span style=\"font-weight: bold\">(</span> <span style=\"color: #000080; text-decoration-color: #000080; font-weight: bold\">98</span> <span style=\"font-weight: bold\">)</span>  Right Margin:\n",
       "<span style=\"color: #000080; text-decoration-color: #000080; font-weight: bold\">147</span>  <span style=\"font-weight: bold\">(</span> <span style=\"color: #000080; text-decoration-color: #000080; font-weight: bold\">76</span> <span style=\"font-weight: bold\">)</span>\n",
       "</pre>\n"
      ],
      "text/plain": [
       "<rich.jupyter.JupyterRenderable at 0x28aa8e68dc0>"
      ]
     },
     "metadata": {},
     "output_type": "display_data"
    },
    {
     "data": {
      "text/html": [
       "<pre style=\"white-space:pre;overflow-x:auto;line-height:normal;font-family:Menlo,'DejaVu Sans Mono',consolas,'Courier New',monospace\">\n",
       " Frequency <span style=\"color: #000080; text-decoration-color: #000080; font-weight: bold\">0</span>  - Read Margin - Complex Pattern - Rising Edge Clock in pS and <span style=\"font-weight: bold\">(</span>delay taps<span style=\"font-weight: bold\">)</span>:\n",
       "\n",
       "</pre>\n"
      ],
      "text/plain": [
       "<rich.jupyter.JupyterRenderable at 0x28aa8e69250>"
      ]
     },
     "metadata": {},
     "output_type": "display_data"
    },
    {
     "data": {
      "text/html": [
       "<pre style=\"white-space:pre;overflow-x:auto;line-height:normal;font-family:Menlo,'DejaVu Sans Mono',consolas,'Courier New',monospace\">Byte  <span style=\"color: #000080; text-decoration-color: #000080; font-weight: bold\">0</span>  Nibble <span style=\"color: #000080; text-decoration-color: #000080; font-weight: bold\">0</span>  -   Left Margin:   <span style=\"color: #000080; text-decoration-color: #000080; font-weight: bold\">131</span>  <span style=\"font-weight: bold\">(</span> <span style=\"color: #000080; text-decoration-color: #000080; font-weight: bold\">67</span> <span style=\"font-weight: bold\">)</span>  Center Point:   <span style=\"color: #000080; text-decoration-color: #000080; font-weight: bold\">182</span>  <span style=\"font-weight: bold\">(</span> <span style=\"color: #000080; text-decoration-color: #000080; font-weight: bold\">93</span> <span style=\"font-weight: bold\">)</span>  Right Margin:\n",
       "<span style=\"color: #000080; text-decoration-color: #000080; font-weight: bold\">133</span>  <span style=\"font-weight: bold\">(</span> <span style=\"color: #000080; text-decoration-color: #000080; font-weight: bold\">68</span> <span style=\"font-weight: bold\">)</span>\n",
       "</pre>\n"
      ],
      "text/plain": [
       "<rich.jupyter.JupyterRenderable at 0x28aa8e69250>"
      ]
     },
     "metadata": {},
     "output_type": "display_data"
    },
    {
     "data": {
      "text/html": [
       "<pre style=\"white-space:pre;overflow-x:auto;line-height:normal;font-family:Menlo,'DejaVu Sans Mono',consolas,'Courier New',monospace\">Byte  <span style=\"color: #000080; text-decoration-color: #000080; font-weight: bold\">0</span>  Nibble <span style=\"color: #000080; text-decoration-color: #000080; font-weight: bold\">1</span>  -   Left Margin:   <span style=\"color: #000080; text-decoration-color: #000080; font-weight: bold\">133</span>  <span style=\"font-weight: bold\">(</span> <span style=\"color: #000080; text-decoration-color: #000080; font-weight: bold\">70</span> <span style=\"font-weight: bold\">)</span>  Center Point:   <span style=\"color: #000080; text-decoration-color: #000080; font-weight: bold\">191</span>  <span style=\"font-weight: bold\">(</span> <span style=\"color: #000080; text-decoration-color: #000080; font-weight: bold\">100</span> <span style=\"font-weight: bold\">)</span>  Right \n",
       "Margin:   <span style=\"color: #000080; text-decoration-color: #000080; font-weight: bold\">133</span>  <span style=\"font-weight: bold\">(</span> <span style=\"color: #000080; text-decoration-color: #000080; font-weight: bold\">70</span> <span style=\"font-weight: bold\">)</span>\n",
       "</pre>\n"
      ],
      "text/plain": [
       "<rich.jupyter.JupyterRenderable at 0x28aa8e69250>"
      ]
     },
     "metadata": {},
     "output_type": "display_data"
    },
    {
     "data": {
      "text/html": [
       "<pre style=\"white-space:pre;overflow-x:auto;line-height:normal;font-family:Menlo,'DejaVu Sans Mono',consolas,'Courier New',monospace\">Byte  <span style=\"color: #000080; text-decoration-color: #000080; font-weight: bold\">1</span>  Nibble <span style=\"color: #000080; text-decoration-color: #000080; font-weight: bold\">0</span>  -   Left Margin:   <span style=\"color: #000080; text-decoration-color: #000080; font-weight: bold\">124</span>  <span style=\"font-weight: bold\">(</span> <span style=\"color: #000080; text-decoration-color: #000080; font-weight: bold\">66</span> <span style=\"font-weight: bold\">)</span>  Center Point:   <span style=\"color: #000080; text-decoration-color: #000080; font-weight: bold\">164</span>  <span style=\"font-weight: bold\">(</span> <span style=\"color: #000080; text-decoration-color: #000080; font-weight: bold\">87</span> <span style=\"font-weight: bold\">)</span>  Right Margin:\n",
       "<span style=\"color: #000080; text-decoration-color: #000080; font-weight: bold\">126</span>  <span style=\"font-weight: bold\">(</span> <span style=\"color: #000080; text-decoration-color: #000080; font-weight: bold\">67</span> <span style=\"font-weight: bold\">)</span>\n",
       "</pre>\n"
      ],
      "text/plain": [
       "<rich.jupyter.JupyterRenderable at 0x28aa8e69250>"
      ]
     },
     "metadata": {},
     "output_type": "display_data"
    },
    {
     "data": {
      "text/html": [
       "<pre style=\"white-space:pre;overflow-x:auto;line-height:normal;font-family:Menlo,'DejaVu Sans Mono',consolas,'Courier New',monospace\">Byte  <span style=\"color: #000080; text-decoration-color: #000080; font-weight: bold\">1</span>  Nibble <span style=\"color: #000080; text-decoration-color: #000080; font-weight: bold\">1</span>  -   Left Margin:   <span style=\"color: #000080; text-decoration-color: #000080; font-weight: bold\">129</span>  <span style=\"font-weight: bold\">(</span> <span style=\"color: #000080; text-decoration-color: #000080; font-weight: bold\">66</span> <span style=\"font-weight: bold\">)</span>  Center Point:   <span style=\"color: #000080; text-decoration-color: #000080; font-weight: bold\">178</span>  <span style=\"font-weight: bold\">(</span> <span style=\"color: #000080; text-decoration-color: #000080; font-weight: bold\">91</span> <span style=\"font-weight: bold\">)</span>  Right Margin:\n",
       "<span style=\"color: #000080; text-decoration-color: #000080; font-weight: bold\">131</span>  <span style=\"font-weight: bold\">(</span> <span style=\"color: #000080; text-decoration-color: #000080; font-weight: bold\">67</span> <span style=\"font-weight: bold\">)</span>\n",
       "</pre>\n"
      ],
      "text/plain": [
       "<rich.jupyter.JupyterRenderable at 0x28aa8e69250>"
      ]
     },
     "metadata": {},
     "output_type": "display_data"
    },
    {
     "data": {
      "text/html": [
       "<pre style=\"white-space:pre;overflow-x:auto;line-height:normal;font-family:Menlo,'DejaVu Sans Mono',consolas,'Courier New',monospace\">Byte  <span style=\"color: #000080; text-decoration-color: #000080; font-weight: bold\">2</span>  Nibble <span style=\"color: #000080; text-decoration-color: #000080; font-weight: bold\">0</span>  -   Left Margin:   <span style=\"color: #000080; text-decoration-color: #000080; font-weight: bold\">129</span>  <span style=\"font-weight: bold\">(</span> <span style=\"color: #000080; text-decoration-color: #000080; font-weight: bold\">65</span> <span style=\"font-weight: bold\">)</span>  Center Point:   <span style=\"color: #000080; text-decoration-color: #000080; font-weight: bold\">178</span>  <span style=\"font-weight: bold\">(</span> <span style=\"color: #000080; text-decoration-color: #000080; font-weight: bold\">90</span> <span style=\"font-weight: bold\">)</span>  Right Margin:\n",
       "<span style=\"color: #000080; text-decoration-color: #000080; font-weight: bold\">129</span>  <span style=\"font-weight: bold\">(</span> <span style=\"color: #000080; text-decoration-color: #000080; font-weight: bold\">65</span> <span style=\"font-weight: bold\">)</span>\n",
       "</pre>\n"
      ],
      "text/plain": [
       "<rich.jupyter.JupyterRenderable at 0x28aa8e69250>"
      ]
     },
     "metadata": {},
     "output_type": "display_data"
    },
    {
     "data": {
      "text/html": [
       "<pre style=\"white-space:pre;overflow-x:auto;line-height:normal;font-family:Menlo,'DejaVu Sans Mono',consolas,'Courier New',monospace\">Byte  <span style=\"color: #000080; text-decoration-color: #000080; font-weight: bold\">2</span>  Nibble <span style=\"color: #000080; text-decoration-color: #000080; font-weight: bold\">1</span>  -   Left Margin:   <span style=\"color: #000080; text-decoration-color: #000080; font-weight: bold\">128</span>  <span style=\"font-weight: bold\">(</span> <span style=\"color: #000080; text-decoration-color: #000080; font-weight: bold\">67</span> <span style=\"font-weight: bold\">)</span>  Center Point:   <span style=\"color: #000080; text-decoration-color: #000080; font-weight: bold\">171</span>  <span style=\"font-weight: bold\">(</span> <span style=\"color: #000080; text-decoration-color: #000080; font-weight: bold\">90</span> <span style=\"font-weight: bold\">)</span>  Right Margin:\n",
       "<span style=\"color: #000080; text-decoration-color: #000080; font-weight: bold\">128</span>  <span style=\"font-weight: bold\">(</span> <span style=\"color: #000080; text-decoration-color: #000080; font-weight: bold\">67</span> <span style=\"font-weight: bold\">)</span>\n",
       "</pre>\n"
      ],
      "text/plain": [
       "<rich.jupyter.JupyterRenderable at 0x28aa8e69250>"
      ]
     },
     "metadata": {},
     "output_type": "display_data"
    },
    {
     "data": {
      "text/html": [
       "<pre style=\"white-space:pre;overflow-x:auto;line-height:normal;font-family:Menlo,'DejaVu Sans Mono',consolas,'Courier New',monospace\">Byte  <span style=\"color: #000080; text-decoration-color: #000080; font-weight: bold\">3</span>  Nibble <span style=\"color: #000080; text-decoration-color: #000080; font-weight: bold\">0</span>  -   Left Margin:   <span style=\"color: #000080; text-decoration-color: #000080; font-weight: bold\">131</span>  <span style=\"font-weight: bold\">(</span> <span style=\"color: #000080; text-decoration-color: #000080; font-weight: bold\">67</span> <span style=\"font-weight: bold\">)</span>  Center Point:   <span style=\"color: #000080; text-decoration-color: #000080; font-weight: bold\">172</span>  <span style=\"font-weight: bold\">(</span> <span style=\"color: #000080; text-decoration-color: #000080; font-weight: bold\">88</span> <span style=\"font-weight: bold\">)</span>  Right Margin:\n",
       "<span style=\"color: #000080; text-decoration-color: #000080; font-weight: bold\">133</span>  <span style=\"font-weight: bold\">(</span> <span style=\"color: #000080; text-decoration-color: #000080; font-weight: bold\">68</span> <span style=\"font-weight: bold\">)</span>\n",
       "</pre>\n"
      ],
      "text/plain": [
       "<rich.jupyter.JupyterRenderable at 0x28aa8e69250>"
      ]
     },
     "metadata": {},
     "output_type": "display_data"
    },
    {
     "data": {
      "text/html": [
       "<pre style=\"white-space:pre;overflow-x:auto;line-height:normal;font-family:Menlo,'DejaVu Sans Mono',consolas,'Courier New',monospace\">Byte  <span style=\"color: #000080; text-decoration-color: #000080; font-weight: bold\">3</span>  Nibble <span style=\"color: #000080; text-decoration-color: #000080; font-weight: bold\">1</span>  -   Left Margin:   <span style=\"color: #000080; text-decoration-color: #000080; font-weight: bold\">135</span>  <span style=\"font-weight: bold\">(</span> <span style=\"color: #000080; text-decoration-color: #000080; font-weight: bold\">69</span> <span style=\"font-weight: bold\">)</span>  Center Point:   <span style=\"color: #000080; text-decoration-color: #000080; font-weight: bold\">176</span>  <span style=\"font-weight: bold\">(</span> <span style=\"color: #000080; text-decoration-color: #000080; font-weight: bold\">90</span> <span style=\"font-weight: bold\">)</span>  Right Margin:\n",
       "<span style=\"color: #000080; text-decoration-color: #000080; font-weight: bold\">135</span>  <span style=\"font-weight: bold\">(</span> <span style=\"color: #000080; text-decoration-color: #000080; font-weight: bold\">69</span> <span style=\"font-weight: bold\">)</span>\n",
       "</pre>\n"
      ],
      "text/plain": [
       "<rich.jupyter.JupyterRenderable at 0x28aa8e69250>"
      ]
     },
     "metadata": {},
     "output_type": "display_data"
    },
    {
     "data": {
      "text/html": [
       "<pre style=\"white-space:pre;overflow-x:auto;line-height:normal;font-family:Menlo,'DejaVu Sans Mono',consolas,'Courier New',monospace\">Byte  <span style=\"color: #000080; text-decoration-color: #000080; font-weight: bold\">4</span>  Nibble <span style=\"color: #000080; text-decoration-color: #000080; font-weight: bold\">0</span>  -   Left Margin:   <span style=\"color: #000080; text-decoration-color: #000080; font-weight: bold\">125</span>  <span style=\"font-weight: bold\">(</span> <span style=\"color: #000080; text-decoration-color: #000080; font-weight: bold\">65</span> <span style=\"font-weight: bold\">)</span>  Center Point:   <span style=\"color: #000080; text-decoration-color: #000080; font-weight: bold\">170</span>  <span style=\"font-weight: bold\">(</span> <span style=\"color: #000080; text-decoration-color: #000080; font-weight: bold\">88</span> <span style=\"font-weight: bold\">)</span>  Right Margin:\n",
       "<span style=\"color: #000080; text-decoration-color: #000080; font-weight: bold\">127</span>  <span style=\"font-weight: bold\">(</span> <span style=\"color: #000080; text-decoration-color: #000080; font-weight: bold\">66</span> <span style=\"font-weight: bold\">)</span>\n",
       "</pre>\n"
      ],
      "text/plain": [
       "<rich.jupyter.JupyterRenderable at 0x28aa8e69250>"
      ]
     },
     "metadata": {},
     "output_type": "display_data"
    },
    {
     "data": {
      "text/html": [
       "<pre style=\"white-space:pre;overflow-x:auto;line-height:normal;font-family:Menlo,'DejaVu Sans Mono',consolas,'Courier New',monospace\">Byte  <span style=\"color: #000080; text-decoration-color: #000080; font-weight: bold\">4</span>  Nibble <span style=\"color: #000080; text-decoration-color: #000080; font-weight: bold\">1</span>  -   Left Margin:   <span style=\"color: #000080; text-decoration-color: #000080; font-weight: bold\">127</span>  <span style=\"font-weight: bold\">(</span> <span style=\"color: #000080; text-decoration-color: #000080; font-weight: bold\">64</span> <span style=\"font-weight: bold\">)</span>  Center Point:   <span style=\"color: #000080; text-decoration-color: #000080; font-weight: bold\">184</span>  <span style=\"font-weight: bold\">(</span> <span style=\"color: #000080; text-decoration-color: #000080; font-weight: bold\">93</span> <span style=\"font-weight: bold\">)</span>  Right Margin:\n",
       "<span style=\"color: #000080; text-decoration-color: #000080; font-weight: bold\">127</span>  <span style=\"font-weight: bold\">(</span> <span style=\"color: #000080; text-decoration-color: #000080; font-weight: bold\">64</span> <span style=\"font-weight: bold\">)</span>\n",
       "</pre>\n"
      ],
      "text/plain": [
       "<rich.jupyter.JupyterRenderable at 0x28aa8e69250>"
      ]
     },
     "metadata": {},
     "output_type": "display_data"
    },
    {
     "data": {
      "text/html": [
       "<pre style=\"white-space:pre;overflow-x:auto;line-height:normal;font-family:Menlo,'DejaVu Sans Mono',consolas,'Courier New',monospace\">Byte  <span style=\"color: #000080; text-decoration-color: #000080; font-weight: bold\">5</span>  Nibble <span style=\"color: #000080; text-decoration-color: #000080; font-weight: bold\">0</span>  -   Left Margin:   <span style=\"color: #000080; text-decoration-color: #000080; font-weight: bold\">131</span>  <span style=\"font-weight: bold\">(</span> <span style=\"color: #000080; text-decoration-color: #000080; font-weight: bold\">67</span> <span style=\"font-weight: bold\">)</span>  Center Point:   <span style=\"color: #000080; text-decoration-color: #000080; font-weight: bold\">178</span>  <span style=\"font-weight: bold\">(</span> <span style=\"color: #000080; text-decoration-color: #000080; font-weight: bold\">91</span> <span style=\"font-weight: bold\">)</span>  Right Margin:\n",
       "<span style=\"color: #000080; text-decoration-color: #000080; font-weight: bold\">133</span>  <span style=\"font-weight: bold\">(</span> <span style=\"color: #000080; text-decoration-color: #000080; font-weight: bold\">68</span> <span style=\"font-weight: bold\">)</span>\n",
       "</pre>\n"
      ],
      "text/plain": [
       "<rich.jupyter.JupyterRenderable at 0x28aa8e69250>"
      ]
     },
     "metadata": {},
     "output_type": "display_data"
    },
    {
     "data": {
      "text/html": [
       "<pre style=\"white-space:pre;overflow-x:auto;line-height:normal;font-family:Menlo,'DejaVu Sans Mono',consolas,'Courier New',monospace\">Byte  <span style=\"color: #000080; text-decoration-color: #000080; font-weight: bold\">5</span>  Nibble <span style=\"color: #000080; text-decoration-color: #000080; font-weight: bold\">1</span>  -   Left Margin:   <span style=\"color: #000080; text-decoration-color: #000080; font-weight: bold\">138</span>  <span style=\"font-weight: bold\">(</span> <span style=\"color: #000080; text-decoration-color: #000080; font-weight: bold\">70</span> <span style=\"font-weight: bold\">)</span>  Center Point:   <span style=\"color: #000080; text-decoration-color: #000080; font-weight: bold\">190</span>  <span style=\"font-weight: bold\">(</span> <span style=\"color: #000080; text-decoration-color: #000080; font-weight: bold\">96</span> <span style=\"font-weight: bold\">)</span>  Right Margin:\n",
       "<span style=\"color: #000080; text-decoration-color: #000080; font-weight: bold\">138</span>  <span style=\"font-weight: bold\">(</span> <span style=\"color: #000080; text-decoration-color: #000080; font-weight: bold\">70</span> <span style=\"font-weight: bold\">)</span>\n",
       "</pre>\n"
      ],
      "text/plain": [
       "<rich.jupyter.JupyterRenderable at 0x28aa8e69250>"
      ]
     },
     "metadata": {},
     "output_type": "display_data"
    },
    {
     "data": {
      "text/html": [
       "<pre style=\"white-space:pre;overflow-x:auto;line-height:normal;font-family:Menlo,'DejaVu Sans Mono',consolas,'Courier New',monospace\">Byte  <span style=\"color: #000080; text-decoration-color: #000080; font-weight: bold\">6</span>  Nibble <span style=\"color: #000080; text-decoration-color: #000080; font-weight: bold\">0</span>  -   Left Margin:   <span style=\"color: #000080; text-decoration-color: #000080; font-weight: bold\">135</span>  <span style=\"font-weight: bold\">(</span> <span style=\"color: #000080; text-decoration-color: #000080; font-weight: bold\">69</span> <span style=\"font-weight: bold\">)</span>  Center Point:   <span style=\"color: #000080; text-decoration-color: #000080; font-weight: bold\">176</span>  <span style=\"font-weight: bold\">(</span> <span style=\"color: #000080; text-decoration-color: #000080; font-weight: bold\">90</span> <span style=\"font-weight: bold\">)</span>  Right Margin:\n",
       "<span style=\"color: #000080; text-decoration-color: #000080; font-weight: bold\">135</span>  <span style=\"font-weight: bold\">(</span> <span style=\"color: #000080; text-decoration-color: #000080; font-weight: bold\">69</span> <span style=\"font-weight: bold\">)</span>\n",
       "</pre>\n"
      ],
      "text/plain": [
       "<rich.jupyter.JupyterRenderable at 0x28aa8e69250>"
      ]
     },
     "metadata": {},
     "output_type": "display_data"
    },
    {
     "data": {
      "text/html": [
       "<pre style=\"white-space:pre;overflow-x:auto;line-height:normal;font-family:Menlo,'DejaVu Sans Mono',consolas,'Courier New',monospace\">Byte  <span style=\"color: #000080; text-decoration-color: #000080; font-weight: bold\">6</span>  Nibble <span style=\"color: #000080; text-decoration-color: #000080; font-weight: bold\">1</span>  -   Left Margin:   <span style=\"color: #000080; text-decoration-color: #000080; font-weight: bold\">135</span>  <span style=\"font-weight: bold\">(</span> <span style=\"color: #000080; text-decoration-color: #000080; font-weight: bold\">69</span> <span style=\"font-weight: bold\">)</span>  Center Point:   <span style=\"color: #000080; text-decoration-color: #000080; font-weight: bold\">188</span>  <span style=\"font-weight: bold\">(</span> <span style=\"color: #000080; text-decoration-color: #000080; font-weight: bold\">96</span> <span style=\"font-weight: bold\">)</span>  Right Margin:\n",
       "<span style=\"color: #000080; text-decoration-color: #000080; font-weight: bold\">137</span>  <span style=\"font-weight: bold\">(</span> <span style=\"color: #000080; text-decoration-color: #000080; font-weight: bold\">70</span> <span style=\"font-weight: bold\">)</span>\n",
       "</pre>\n"
      ],
      "text/plain": [
       "<rich.jupyter.JupyterRenderable at 0x28aa8e69250>"
      ]
     },
     "metadata": {},
     "output_type": "display_data"
    },
    {
     "data": {
      "text/html": [
       "<pre style=\"white-space:pre;overflow-x:auto;line-height:normal;font-family:Menlo,'DejaVu Sans Mono',consolas,'Courier New',monospace\">Byte  <span style=\"color: #000080; text-decoration-color: #000080; font-weight: bold\">7</span>  Nibble <span style=\"color: #000080; text-decoration-color: #000080; font-weight: bold\">0</span>  -   Left Margin:   <span style=\"color: #000080; text-decoration-color: #000080; font-weight: bold\">133</span>  <span style=\"font-weight: bold\">(</span> <span style=\"color: #000080; text-decoration-color: #000080; font-weight: bold\">67</span> <span style=\"font-weight: bold\">)</span>  Center Point:   <span style=\"color: #000080; text-decoration-color: #000080; font-weight: bold\">178</span>  <span style=\"font-weight: bold\">(</span> <span style=\"color: #000080; text-decoration-color: #000080; font-weight: bold\">90</span> <span style=\"font-weight: bold\">)</span>  Right Margin:\n",
       "<span style=\"color: #000080; text-decoration-color: #000080; font-weight: bold\">134</span>  <span style=\"font-weight: bold\">(</span> <span style=\"color: #000080; text-decoration-color: #000080; font-weight: bold\">68</span> <span style=\"font-weight: bold\">)</span>\n",
       "</pre>\n"
      ],
      "text/plain": [
       "<rich.jupyter.JupyterRenderable at 0x28aa8e69250>"
      ]
     },
     "metadata": {},
     "output_type": "display_data"
    },
    {
     "data": {
      "text/html": [
       "<pre style=\"white-space:pre;overflow-x:auto;line-height:normal;font-family:Menlo,'DejaVu Sans Mono',consolas,'Courier New',monospace\">Byte  <span style=\"color: #000080; text-decoration-color: #000080; font-weight: bold\">7</span>  Nibble <span style=\"color: #000080; text-decoration-color: #000080; font-weight: bold\">1</span>  -   Left Margin:   <span style=\"color: #000080; text-decoration-color: #000080; font-weight: bold\">136</span>  <span style=\"font-weight: bold\">(</span> <span style=\"color: #000080; text-decoration-color: #000080; font-weight: bold\">68</span> <span style=\"font-weight: bold\">)</span>  Center Point:   <span style=\"color: #000080; text-decoration-color: #000080; font-weight: bold\">182</span>  <span style=\"font-weight: bold\">(</span> <span style=\"color: #000080; text-decoration-color: #000080; font-weight: bold\">91</span> <span style=\"font-weight: bold\">)</span>  Right Margin:\n",
       "<span style=\"color: #000080; text-decoration-color: #000080; font-weight: bold\">138</span>  <span style=\"font-weight: bold\">(</span> <span style=\"color: #000080; text-decoration-color: #000080; font-weight: bold\">69</span> <span style=\"font-weight: bold\">)</span>\n",
       "</pre>\n"
      ],
      "text/plain": [
       "<rich.jupyter.JupyterRenderable at 0x28aa8e69250>"
      ]
     },
     "metadata": {},
     "output_type": "display_data"
    },
    {
     "data": {
      "text/html": [
       "<pre style=\"white-space:pre;overflow-x:auto;line-height:normal;font-family:Menlo,'DejaVu Sans Mono',consolas,'Courier New',monospace\">\n",
       " Frequency <span style=\"color: #000080; text-decoration-color: #000080; font-weight: bold\">0</span>  - Read Margin - Complex Pattern - Falling Edge Clock in pS and <span style=\"font-weight: bold\">(</span>delay taps<span style=\"font-weight: bold\">)</span>:\n",
       "\n",
       "</pre>\n"
      ],
      "text/plain": [
       "<rich.jupyter.JupyterRenderable at 0x28aa8e71df0>"
      ]
     },
     "metadata": {},
     "output_type": "display_data"
    },
    {
     "data": {
      "text/html": [
       "<pre style=\"white-space:pre;overflow-x:auto;line-height:normal;font-family:Menlo,'DejaVu Sans Mono',consolas,'Courier New',monospace\">Byte  <span style=\"color: #000080; text-decoration-color: #000080; font-weight: bold\">0</span>  Nibble <span style=\"color: #000080; text-decoration-color: #000080; font-weight: bold\">0</span>  -   Left Margin:   <span style=\"color: #000080; text-decoration-color: #000080; font-weight: bold\">123</span>  <span style=\"font-weight: bold\">(</span> <span style=\"color: #000080; text-decoration-color: #000080; font-weight: bold\">64</span> <span style=\"font-weight: bold\">)</span>  Center Point:   <span style=\"color: #000080; text-decoration-color: #000080; font-weight: bold\">174</span>  <span style=\"font-weight: bold\">(</span> <span style=\"color: #000080; text-decoration-color: #000080; font-weight: bold\">90</span> <span style=\"font-weight: bold\">)</span>  Right Margin:\n",
       "<span style=\"color: #000080; text-decoration-color: #000080; font-weight: bold\">125</span>  <span style=\"font-weight: bold\">(</span> <span style=\"color: #000080; text-decoration-color: #000080; font-weight: bold\">65</span> <span style=\"font-weight: bold\">)</span>\n",
       "</pre>\n"
      ],
      "text/plain": [
       "<rich.jupyter.JupyterRenderable at 0x28aa8e71f10>"
      ]
     },
     "metadata": {},
     "output_type": "display_data"
    },
    {
     "data": {
      "text/html": [
       "<pre style=\"white-space:pre;overflow-x:auto;line-height:normal;font-family:Menlo,'DejaVu Sans Mono',consolas,'Courier New',monospace\">Byte  <span style=\"color: #000080; text-decoration-color: #000080; font-weight: bold\">0</span>  Nibble <span style=\"color: #000080; text-decoration-color: #000080; font-weight: bold\">1</span>  -   Left Margin:   <span style=\"color: #000080; text-decoration-color: #000080; font-weight: bold\">117</span>  <span style=\"font-weight: bold\">(</span> <span style=\"color: #000080; text-decoration-color: #000080; font-weight: bold\">62</span> <span style=\"font-weight: bold\">)</span>  Center Point:   <span style=\"color: #000080; text-decoration-color: #000080; font-weight: bold\">175</span>  <span style=\"font-weight: bold\">(</span> <span style=\"color: #000080; text-decoration-color: #000080; font-weight: bold\">93</span> <span style=\"font-weight: bold\">)</span>  Right Margin:\n",
       "<span style=\"color: #000080; text-decoration-color: #000080; font-weight: bold\">119</span>  <span style=\"font-weight: bold\">(</span> <span style=\"color: #000080; text-decoration-color: #000080; font-weight: bold\">63</span> <span style=\"font-weight: bold\">)</span>\n",
       "</pre>\n"
      ],
      "text/plain": [
       "<rich.jupyter.JupyterRenderable at 0x28aa8e71700>"
      ]
     },
     "metadata": {},
     "output_type": "display_data"
    },
    {
     "data": {
      "text/html": [
       "<pre style=\"white-space:pre;overflow-x:auto;line-height:normal;font-family:Menlo,'DejaVu Sans Mono',consolas,'Courier New',monospace\">Byte  <span style=\"color: #000080; text-decoration-color: #000080; font-weight: bold\">1</span>  Nibble <span style=\"color: #000080; text-decoration-color: #000080; font-weight: bold\">0</span>  -   Left Margin:   <span style=\"color: #000080; text-decoration-color: #000080; font-weight: bold\">118</span>  <span style=\"font-weight: bold\">(</span> <span style=\"color: #000080; text-decoration-color: #000080; font-weight: bold\">62</span> <span style=\"font-weight: bold\">)</span>  Center Point:   <span style=\"color: #000080; text-decoration-color: #000080; font-weight: bold\">158</span>  <span style=\"font-weight: bold\">(</span> <span style=\"color: #000080; text-decoration-color: #000080; font-weight: bold\">83</span> <span style=\"font-weight: bold\">)</span>  Right Margin:\n",
       "<span style=\"color: #000080; text-decoration-color: #000080; font-weight: bold\">118</span>  <span style=\"font-weight: bold\">(</span> <span style=\"color: #000080; text-decoration-color: #000080; font-weight: bold\">62</span> <span style=\"font-weight: bold\">)</span>\n",
       "</pre>\n"
      ],
      "text/plain": [
       "<rich.jupyter.JupyterRenderable at 0x28aa8e71f70>"
      ]
     },
     "metadata": {},
     "output_type": "display_data"
    },
    {
     "data": {
      "text/html": [
       "<pre style=\"white-space:pre;overflow-x:auto;line-height:normal;font-family:Menlo,'DejaVu Sans Mono',consolas,'Courier New',monospace\">Byte  <span style=\"color: #000080; text-decoration-color: #000080; font-weight: bold\">1</span>  Nibble <span style=\"color: #000080; text-decoration-color: #000080; font-weight: bold\">1</span>  -   Left Margin:   <span style=\"color: #000080; text-decoration-color: #000080; font-weight: bold\">122</span>  <span style=\"font-weight: bold\">(</span> <span style=\"color: #000080; text-decoration-color: #000080; font-weight: bold\">63</span> <span style=\"font-weight: bold\">)</span>  Center Point:   <span style=\"color: #000080; text-decoration-color: #000080; font-weight: bold\">166</span>  <span style=\"font-weight: bold\">(</span> <span style=\"color: #000080; text-decoration-color: #000080; font-weight: bold\">86</span> <span style=\"font-weight: bold\">)</span>  Right Margin:\n",
       "<span style=\"color: #000080; text-decoration-color: #000080; font-weight: bold\">123</span>  <span style=\"font-weight: bold\">(</span> <span style=\"color: #000080; text-decoration-color: #000080; font-weight: bold\">64</span> <span style=\"font-weight: bold\">)</span>\n",
       "</pre>\n"
      ],
      "text/plain": [
       "<rich.jupyter.JupyterRenderable at 0x28aa8e71f40>"
      ]
     },
     "metadata": {},
     "output_type": "display_data"
    },
    {
     "data": {
      "text/html": [
       "<pre style=\"white-space:pre;overflow-x:auto;line-height:normal;font-family:Menlo,'DejaVu Sans Mono',consolas,'Courier New',monospace\">Byte  <span style=\"color: #000080; text-decoration-color: #000080; font-weight: bold\">2</span>  Nibble <span style=\"color: #000080; text-decoration-color: #000080; font-weight: bold\">0</span>  -   Left Margin:   <span style=\"color: #000080; text-decoration-color: #000080; font-weight: bold\">120</span>  <span style=\"font-weight: bold\">(</span> <span style=\"color: #000080; text-decoration-color: #000080; font-weight: bold\">62</span> <span style=\"font-weight: bold\">)</span>  Center Point:   <span style=\"color: #000080; text-decoration-color: #000080; font-weight: bold\">177</span>  <span style=\"font-weight: bold\">(</span> <span style=\"color: #000080; text-decoration-color: #000080; font-weight: bold\">92</span> <span style=\"font-weight: bold\">)</span>  Right Margin:\n",
       "<span style=\"color: #000080; text-decoration-color: #000080; font-weight: bold\">122</span>  <span style=\"font-weight: bold\">(</span> <span style=\"color: #000080; text-decoration-color: #000080; font-weight: bold\">63</span> <span style=\"font-weight: bold\">)</span>\n",
       "</pre>\n"
      ],
      "text/plain": [
       "<rich.jupyter.JupyterRenderable at 0x28aa8e71d30>"
      ]
     },
     "metadata": {},
     "output_type": "display_data"
    },
    {
     "data": {
      "text/html": [
       "<pre style=\"white-space:pre;overflow-x:auto;line-height:normal;font-family:Menlo,'DejaVu Sans Mono',consolas,'Courier New',monospace\">Byte  <span style=\"color: #000080; text-decoration-color: #000080; font-weight: bold\">2</span>  Nibble <span style=\"color: #000080; text-decoration-color: #000080; font-weight: bold\">1</span>  -   Left Margin:   <span style=\"color: #000080; text-decoration-color: #000080; font-weight: bold\">117</span>  <span style=\"font-weight: bold\">(</span> <span style=\"color: #000080; text-decoration-color: #000080; font-weight: bold\">62</span> <span style=\"font-weight: bold\">)</span>  Center Point:   <span style=\"color: #000080; text-decoration-color: #000080; font-weight: bold\">169</span>  <span style=\"font-weight: bold\">(</span> <span style=\"color: #000080; text-decoration-color: #000080; font-weight: bold\">90</span> <span style=\"font-weight: bold\">)</span>  Right Margin:\n",
       "<span style=\"color: #000080; text-decoration-color: #000080; font-weight: bold\">119</span>  <span style=\"font-weight: bold\">(</span> <span style=\"color: #000080; text-decoration-color: #000080; font-weight: bold\">63</span> <span style=\"font-weight: bold\">)</span>\n",
       "</pre>\n"
      ],
      "text/plain": [
       "<rich.jupyter.JupyterRenderable at 0x28aa8e71df0>"
      ]
     },
     "metadata": {},
     "output_type": "display_data"
    },
    {
     "data": {
      "text/html": [
       "<pre style=\"white-space:pre;overflow-x:auto;line-height:normal;font-family:Menlo,'DejaVu Sans Mono',consolas,'Courier New',monospace\">Byte  <span style=\"color: #000080; text-decoration-color: #000080; font-weight: bold\">3</span>  Nibble <span style=\"color: #000080; text-decoration-color: #000080; font-weight: bold\">0</span>  -   Left Margin:   <span style=\"color: #000080; text-decoration-color: #000080; font-weight: bold\">122</span>  <span style=\"font-weight: bold\">(</span> <span style=\"color: #000080; text-decoration-color: #000080; font-weight: bold\">63</span> <span style=\"font-weight: bold\">)</span>  Center Point:   <span style=\"color: #000080; text-decoration-color: #000080; font-weight: bold\">160</span>  <span style=\"font-weight: bold\">(</span> <span style=\"color: #000080; text-decoration-color: #000080; font-weight: bold\">83</span> <span style=\"font-weight: bold\">)</span>  Right Margin:\n",
       "<span style=\"color: #000080; text-decoration-color: #000080; font-weight: bold\">122</span>  <span style=\"font-weight: bold\">(</span> <span style=\"color: #000080; text-decoration-color: #000080; font-weight: bold\">63</span> <span style=\"font-weight: bold\">)</span>\n",
       "</pre>\n"
      ],
      "text/plain": [
       "<rich.jupyter.JupyterRenderable at 0x28aa8e71e80>"
      ]
     },
     "metadata": {},
     "output_type": "display_data"
    },
    {
     "data": {
      "text/html": [
       "<pre style=\"white-space:pre;overflow-x:auto;line-height:normal;font-family:Menlo,'DejaVu Sans Mono',consolas,'Courier New',monospace\">Byte  <span style=\"color: #000080; text-decoration-color: #000080; font-weight: bold\">3</span>  Nibble <span style=\"color: #000080; text-decoration-color: #000080; font-weight: bold\">1</span>  -   Left Margin:   <span style=\"color: #000080; text-decoration-color: #000080; font-weight: bold\">123</span>  <span style=\"font-weight: bold\">(</span> <span style=\"color: #000080; text-decoration-color: #000080; font-weight: bold\">63</span> <span style=\"font-weight: bold\">)</span>  Center Point:   <span style=\"color: #000080; text-decoration-color: #000080; font-weight: bold\">162</span>  <span style=\"font-weight: bold\">(</span> <span style=\"color: #000080; text-decoration-color: #000080; font-weight: bold\">83</span> <span style=\"font-weight: bold\">)</span>  Right Margin:\n",
       "<span style=\"color: #000080; text-decoration-color: #000080; font-weight: bold\">123</span>  <span style=\"font-weight: bold\">(</span> <span style=\"color: #000080; text-decoration-color: #000080; font-weight: bold\">63</span> <span style=\"font-weight: bold\">)</span>\n",
       "</pre>\n"
      ],
      "text/plain": [
       "<rich.jupyter.JupyterRenderable at 0x28aa8e71ee0>"
      ]
     },
     "metadata": {},
     "output_type": "display_data"
    },
    {
     "data": {
      "text/html": [
       "<pre style=\"white-space:pre;overflow-x:auto;line-height:normal;font-family:Menlo,'DejaVu Sans Mono',consolas,'Courier New',monospace\">Byte  <span style=\"color: #000080; text-decoration-color: #000080; font-weight: bold\">4</span>  Nibble <span style=\"color: #000080; text-decoration-color: #000080; font-weight: bold\">0</span>  -   Left Margin:   <span style=\"color: #000080; text-decoration-color: #000080; font-weight: bold\">112</span>  <span style=\"font-weight: bold\">(</span> <span style=\"color: #000080; text-decoration-color: #000080; font-weight: bold\">58</span> <span style=\"font-weight: bold\">)</span>  Center Point:   <span style=\"color: #000080; text-decoration-color: #000080; font-weight: bold\">160</span>  <span style=\"font-weight: bold\">(</span> <span style=\"color: #000080; text-decoration-color: #000080; font-weight: bold\">83</span> <span style=\"font-weight: bold\">)</span>  Right Margin:\n",
       "<span style=\"color: #000080; text-decoration-color: #000080; font-weight: bold\">114</span>  <span style=\"font-weight: bold\">(</span> <span style=\"color: #000080; text-decoration-color: #000080; font-weight: bold\">59</span> <span style=\"font-weight: bold\">)</span>\n",
       "</pre>\n"
      ],
      "text/plain": [
       "<rich.jupyter.JupyterRenderable at 0x28aa8e71f70>"
      ]
     },
     "metadata": {},
     "output_type": "display_data"
    },
    {
     "data": {
      "text/html": [
       "<pre style=\"white-space:pre;overflow-x:auto;line-height:normal;font-family:Menlo,'DejaVu Sans Mono',consolas,'Courier New',monospace\">Byte  <span style=\"color: #000080; text-decoration-color: #000080; font-weight: bold\">4</span>  Nibble <span style=\"color: #000080; text-decoration-color: #000080; font-weight: bold\">1</span>  -   Left Margin:   <span style=\"color: #000080; text-decoration-color: #000080; font-weight: bold\">114</span>  <span style=\"font-weight: bold\">(</span> <span style=\"color: #000080; text-decoration-color: #000080; font-weight: bold\">60</span> <span style=\"font-weight: bold\">)</span>  Center Point:   <span style=\"color: #000080; text-decoration-color: #000080; font-weight: bold\">170</span>  <span style=\"font-weight: bold\">(</span> <span style=\"color: #000080; text-decoration-color: #000080; font-weight: bold\">89</span> <span style=\"font-weight: bold\">)</span>  Right Margin:\n",
       "<span style=\"color: #000080; text-decoration-color: #000080; font-weight: bold\">116</span>  <span style=\"font-weight: bold\">(</span> <span style=\"color: #000080; text-decoration-color: #000080; font-weight: bold\">61</span> <span style=\"font-weight: bold\">)</span>\n",
       "</pre>\n"
      ],
      "text/plain": [
       "<rich.jupyter.JupyterRenderable at 0x28aa8e71d30>"
      ]
     },
     "metadata": {},
     "output_type": "display_data"
    },
    {
     "data": {
      "text/html": [
       "<pre style=\"white-space:pre;overflow-x:auto;line-height:normal;font-family:Menlo,'DejaVu Sans Mono',consolas,'Courier New',monospace\">Byte  <span style=\"color: #000080; text-decoration-color: #000080; font-weight: bold\">5</span>  Nibble <span style=\"color: #000080; text-decoration-color: #000080; font-weight: bold\">0</span>  -   Left Margin:   <span style=\"color: #000080; text-decoration-color: #000080; font-weight: bold\">123</span>  <span style=\"font-weight: bold\">(</span> <span style=\"color: #000080; text-decoration-color: #000080; font-weight: bold\">63</span> <span style=\"font-weight: bold\">)</span>  Center Point:   <span style=\"color: #000080; text-decoration-color: #000080; font-weight: bold\">162</span>  <span style=\"font-weight: bold\">(</span> <span style=\"color: #000080; text-decoration-color: #000080; font-weight: bold\">83</span> <span style=\"font-weight: bold\">)</span>  Right Margin:\n",
       "<span style=\"color: #000080; text-decoration-color: #000080; font-weight: bold\">123</span>  <span style=\"font-weight: bold\">(</span> <span style=\"color: #000080; text-decoration-color: #000080; font-weight: bold\">63</span> <span style=\"font-weight: bold\">)</span>\n",
       "</pre>\n"
      ],
      "text/plain": [
       "<rich.jupyter.JupyterRenderable at 0x28aa8e71e80>"
      ]
     },
     "metadata": {},
     "output_type": "display_data"
    },
    {
     "data": {
      "text/html": [
       "<pre style=\"white-space:pre;overflow-x:auto;line-height:normal;font-family:Menlo,'DejaVu Sans Mono',consolas,'Courier New',monospace\">Byte  <span style=\"color: #000080; text-decoration-color: #000080; font-weight: bold\">5</span>  Nibble <span style=\"color: #000080; text-decoration-color: #000080; font-weight: bold\">1</span>  -   Left Margin:   <span style=\"color: #000080; text-decoration-color: #000080; font-weight: bold\">125</span>  <span style=\"font-weight: bold\">(</span> <span style=\"color: #000080; text-decoration-color: #000080; font-weight: bold\">64</span> <span style=\"font-weight: bold\">)</span>  Center Point:   <span style=\"color: #000080; text-decoration-color: #000080; font-weight: bold\">174</span>  <span style=\"font-weight: bold\">(</span> <span style=\"color: #000080; text-decoration-color: #000080; font-weight: bold\">89</span> <span style=\"font-weight: bold\">)</span>  Right Margin:\n",
       "<span style=\"color: #000080; text-decoration-color: #000080; font-weight: bold\">127</span>  <span style=\"font-weight: bold\">(</span> <span style=\"color: #000080; text-decoration-color: #000080; font-weight: bold\">65</span> <span style=\"font-weight: bold\">)</span>\n",
       "</pre>\n"
      ],
      "text/plain": [
       "<rich.jupyter.JupyterRenderable at 0x28aa8e71e20>"
      ]
     },
     "metadata": {},
     "output_type": "display_data"
    },
    {
     "data": {
      "text/html": [
       "<pre style=\"white-space:pre;overflow-x:auto;line-height:normal;font-family:Menlo,'DejaVu Sans Mono',consolas,'Courier New',monospace\">Byte  <span style=\"color: #000080; text-decoration-color: #000080; font-weight: bold\">6</span>  Nibble <span style=\"color: #000080; text-decoration-color: #000080; font-weight: bold\">0</span>  -   Left Margin:   <span style=\"color: #000080; text-decoration-color: #000080; font-weight: bold\">118</span>  <span style=\"font-weight: bold\">(</span> <span style=\"color: #000080; text-decoration-color: #000080; font-weight: bold\">62</span> <span style=\"font-weight: bold\">)</span>  Center Point:   <span style=\"color: #000080; text-decoration-color: #000080; font-weight: bold\">160</span>  <span style=\"font-weight: bold\">(</span> <span style=\"color: #000080; text-decoration-color: #000080; font-weight: bold\">84</span> <span style=\"font-weight: bold\">)</span>  Right Margin:\n",
       "<span style=\"color: #000080; text-decoration-color: #000080; font-weight: bold\">118</span>  <span style=\"font-weight: bold\">(</span> <span style=\"color: #000080; text-decoration-color: #000080; font-weight: bold\">62</span> <span style=\"font-weight: bold\">)</span>\n",
       "</pre>\n"
      ],
      "text/plain": [
       "<rich.jupyter.JupyterRenderable at 0x28aa8e71700>"
      ]
     },
     "metadata": {},
     "output_type": "display_data"
    },
    {
     "data": {
      "text/html": [
       "<pre style=\"white-space:pre;overflow-x:auto;line-height:normal;font-family:Menlo,'DejaVu Sans Mono',consolas,'Courier New',monospace\">Byte  <span style=\"color: #000080; text-decoration-color: #000080; font-weight: bold\">6</span>  Nibble <span style=\"color: #000080; text-decoration-color: #000080; font-weight: bold\">1</span>  -   Left Margin:   <span style=\"color: #000080; text-decoration-color: #000080; font-weight: bold\">116</span>  <span style=\"font-weight: bold\">(</span> <span style=\"color: #000080; text-decoration-color: #000080; font-weight: bold\">60</span> <span style=\"font-weight: bold\">)</span>  Center Point:   <span style=\"color: #000080; text-decoration-color: #000080; font-weight: bold\">166</span>  <span style=\"font-weight: bold\">(</span> <span style=\"color: #000080; text-decoration-color: #000080; font-weight: bold\">86</span> <span style=\"font-weight: bold\">)</span>  Right Margin:\n",
       "<span style=\"color: #000080; text-decoration-color: #000080; font-weight: bold\">118</span>  <span style=\"font-weight: bold\">(</span> <span style=\"color: #000080; text-decoration-color: #000080; font-weight: bold\">61</span> <span style=\"font-weight: bold\">)</span>\n",
       "</pre>\n"
      ],
      "text/plain": [
       "<rich.jupyter.JupyterRenderable at 0x28aa8e71ee0>"
      ]
     },
     "metadata": {},
     "output_type": "display_data"
    },
    {
     "data": {
      "text/html": [
       "<pre style=\"white-space:pre;overflow-x:auto;line-height:normal;font-family:Menlo,'DejaVu Sans Mono',consolas,'Courier New',monospace\">Byte  <span style=\"color: #000080; text-decoration-color: #000080; font-weight: bold\">7</span>  Nibble <span style=\"color: #000080; text-decoration-color: #000080; font-weight: bold\">0</span>  -   Left Margin:   <span style=\"color: #000080; text-decoration-color: #000080; font-weight: bold\">125</span>  <span style=\"font-weight: bold\">(</span> <span style=\"color: #000080; text-decoration-color: #000080; font-weight: bold\">64</span> <span style=\"font-weight: bold\">)</span>  Center Point:   <span style=\"color: #000080; text-decoration-color: #000080; font-weight: bold\">164</span>  <span style=\"font-weight: bold\">(</span> <span style=\"color: #000080; text-decoration-color: #000080; font-weight: bold\">84</span> <span style=\"font-weight: bold\">)</span>  Right Margin:\n",
       "<span style=\"color: #000080; text-decoration-color: #000080; font-weight: bold\">125</span>  <span style=\"font-weight: bold\">(</span> <span style=\"color: #000080; text-decoration-color: #000080; font-weight: bold\">64</span> <span style=\"font-weight: bold\">)</span>\n",
       "</pre>\n"
      ],
      "text/plain": [
       "<rich.jupyter.JupyterRenderable at 0x28aa8e71f70>"
      ]
     },
     "metadata": {},
     "output_type": "display_data"
    },
    {
     "data": {
      "text/html": [
       "<pre style=\"white-space:pre;overflow-x:auto;line-height:normal;font-family:Menlo,'DejaVu Sans Mono',consolas,'Courier New',monospace\">Byte  <span style=\"color: #000080; text-decoration-color: #000080; font-weight: bold\">7</span>  Nibble <span style=\"color: #000080; text-decoration-color: #000080; font-weight: bold\">1</span>  -   Left Margin:   <span style=\"color: #000080; text-decoration-color: #000080; font-weight: bold\">122</span>  <span style=\"font-weight: bold\">(</span> <span style=\"color: #000080; text-decoration-color: #000080; font-weight: bold\">63</span> <span style=\"font-weight: bold\">)</span>  Center Point:   <span style=\"color: #000080; text-decoration-color: #000080; font-weight: bold\">172</span>  <span style=\"font-weight: bold\">(</span> <span style=\"color: #000080; text-decoration-color: #000080; font-weight: bold\">89</span> <span style=\"font-weight: bold\">)</span>  Right Margin:\n",
       "<span style=\"color: #000080; text-decoration-color: #000080; font-weight: bold\">122</span>  <span style=\"font-weight: bold\">(</span> <span style=\"color: #000080; text-decoration-color: #000080; font-weight: bold\">63</span> <span style=\"font-weight: bold\">)</span>\n",
       "</pre>\n"
      ],
      "text/plain": [
       "<rich.jupyter.JupyterRenderable at 0x28aa8e71d30>"
      ]
     },
     "metadata": {},
     "output_type": "display_data"
    },
    {
     "data": {
      "text/html": [
       "<pre style=\"white-space:pre;overflow-x:auto;line-height:normal;font-family:Menlo,'DejaVu Sans Mono',consolas,'Courier New',monospace\">\n",
       " Frequency <span style=\"color: #000080; text-decoration-color: #000080; font-weight: bold\">0</span>  - Write Margin - Simple Pattern - Calibration Window in pS and <span style=\"font-weight: bold\">(</span>delay taps<span style=\"font-weight: bold\">)</span>:\n",
       "\n",
       "</pre>\n"
      ],
      "text/plain": [
       "<rich.jupyter.JupyterRenderable at 0x28aa8e74f70>"
      ]
     },
     "metadata": {},
     "output_type": "display_data"
    },
    {
     "data": {
      "text/html": [
       "<pre style=\"white-space:pre;overflow-x:auto;line-height:normal;font-family:Menlo,'DejaVu Sans Mono',consolas,'Courier New',monospace\">Byte  <span style=\"color: #000080; text-decoration-color: #000080; font-weight: bold\">0</span>   -  Left Margin:   <span style=\"color: #000080; text-decoration-color: #000080; font-weight: bold\">141</span>  <span style=\"font-weight: bold\">(</span> <span style=\"color: #000080; text-decoration-color: #000080; font-weight: bold\">73</span> <span style=\"font-weight: bold\">)</span>  Center Point:   <span style=\"color: #000080; text-decoration-color: #000080; font-weight: bold\">473</span>  <span style=\"font-weight: bold\">(</span> <span style=\"color: #000080; text-decoration-color: #000080; font-weight: bold\">245</span> <span style=\"font-weight: bold\">)</span>  Right Margin:   <span style=\"color: #000080; text-decoration-color: #000080; font-weight: bold\">149</span>  <span style=\"font-weight: bold\">(</span>\n",
       "<span style=\"color: #000080; text-decoration-color: #000080; font-weight: bold\">77</span> <span style=\"font-weight: bold\">)</span>\n",
       "</pre>\n"
      ],
      "text/plain": [
       "<rich.jupyter.JupyterRenderable at 0x28aa8e74eb0>"
      ]
     },
     "metadata": {},
     "output_type": "display_data"
    },
    {
     "data": {
      "text/html": [
       "<pre style=\"white-space:pre;overflow-x:auto;line-height:normal;font-family:Menlo,'DejaVu Sans Mono',consolas,'Courier New',monospace\">Byte  <span style=\"color: #000080; text-decoration-color: #000080; font-weight: bold\">1</span>   -  Left Margin:   <span style=\"color: #000080; text-decoration-color: #000080; font-weight: bold\">162</span>  <span style=\"font-weight: bold\">(</span> <span style=\"color: #000080; text-decoration-color: #000080; font-weight: bold\">84</span> <span style=\"font-weight: bold\">)</span>  Center Point:   <span style=\"color: #000080; text-decoration-color: #000080; font-weight: bold\">623</span>  <span style=\"font-weight: bold\">(</span> <span style=\"color: #000080; text-decoration-color: #000080; font-weight: bold\">323</span> <span style=\"font-weight: bold\">)</span>  Right Margin:   <span style=\"color: #000080; text-decoration-color: #000080; font-weight: bold\">118</span>  <span style=\"font-weight: bold\">(</span>\n",
       "<span style=\"color: #000080; text-decoration-color: #000080; font-weight: bold\">61</span> <span style=\"font-weight: bold\">)</span>\n",
       "</pre>\n"
      ],
      "text/plain": [
       "<rich.jupyter.JupyterRenderable at 0x28aa8e74fa0>"
      ]
     },
     "metadata": {},
     "output_type": "display_data"
    },
    {
     "data": {
      "text/html": [
       "<pre style=\"white-space:pre;overflow-x:auto;line-height:normal;font-family:Menlo,'DejaVu Sans Mono',consolas,'Courier New',monospace\">Byte  <span style=\"color: #000080; text-decoration-color: #000080; font-weight: bold\">2</span>   -  Left Margin:   <span style=\"color: #000080; text-decoration-color: #000080; font-weight: bold\">154</span>  <span style=\"font-weight: bold\">(</span> <span style=\"color: #000080; text-decoration-color: #000080; font-weight: bold\">80</span> <span style=\"font-weight: bold\">)</span>  Center Point:   <span style=\"color: #000080; text-decoration-color: #000080; font-weight: bold\">106</span>  <span style=\"font-weight: bold\">(</span> <span style=\"color: #000080; text-decoration-color: #000080; font-weight: bold\">55</span> <span style=\"font-weight: bold\">)</span>  Right Margin:   <span style=\"color: #000080; text-decoration-color: #000080; font-weight: bold\">127</span>  <span style=\"font-weight: bold\">(</span> \n",
       "<span style=\"color: #000080; text-decoration-color: #000080; font-weight: bold\">66</span> <span style=\"font-weight: bold\">)</span>\n",
       "</pre>\n"
      ],
      "text/plain": [
       "<rich.jupyter.JupyterRenderable at 0x28aa8e74a90>"
      ]
     },
     "metadata": {},
     "output_type": "display_data"
    },
    {
     "data": {
      "text/html": [
       "<pre style=\"white-space:pre;overflow-x:auto;line-height:normal;font-family:Menlo,'DejaVu Sans Mono',consolas,'Courier New',monospace\">Byte  <span style=\"color: #000080; text-decoration-color: #000080; font-weight: bold\">3</span>   -  Left Margin:   <span style=\"color: #000080; text-decoration-color: #000080; font-weight: bold\">137</span>  <span style=\"font-weight: bold\">(</span> <span style=\"color: #000080; text-decoration-color: #000080; font-weight: bold\">70</span> <span style=\"font-weight: bold\">)</span>  Center Point:   <span style=\"color: #000080; text-decoration-color: #000080; font-weight: bold\">201</span>  <span style=\"font-weight: bold\">(</span> <span style=\"color: #000080; text-decoration-color: #000080; font-weight: bold\">103</span> <span style=\"font-weight: bold\">)</span>  Right Margin:   <span style=\"color: #000080; text-decoration-color: #000080; font-weight: bold\">158</span>  <span style=\"font-weight: bold\">(</span>\n",
       "<span style=\"color: #000080; text-decoration-color: #000080; font-weight: bold\">81</span> <span style=\"font-weight: bold\">)</span>\n",
       "</pre>\n"
      ],
      "text/plain": [
       "<rich.jupyter.JupyterRenderable at 0x28aa8e74430>"
      ]
     },
     "metadata": {},
     "output_type": "display_data"
    },
    {
     "data": {
      "text/html": [
       "<pre style=\"white-space:pre;overflow-x:auto;line-height:normal;font-family:Menlo,'DejaVu Sans Mono',consolas,'Courier New',monospace\">Byte  <span style=\"color: #000080; text-decoration-color: #000080; font-weight: bold\">4</span>   -  Left Margin:   <span style=\"color: #000080; text-decoration-color: #000080; font-weight: bold\">144</span>  <span style=\"font-weight: bold\">(</span> <span style=\"color: #000080; text-decoration-color: #000080; font-weight: bold\">74</span> <span style=\"font-weight: bold\">)</span>  Center Point:   <span style=\"color: #000080; text-decoration-color: #000080; font-weight: bold\">570</span>  <span style=\"font-weight: bold\">(</span> <span style=\"color: #000080; text-decoration-color: #000080; font-weight: bold\">294</span> <span style=\"font-weight: bold\">)</span>  Right Margin:   <span style=\"color: #000080; text-decoration-color: #000080; font-weight: bold\">155</span>  <span style=\"font-weight: bold\">(</span>\n",
       "<span style=\"color: #000080; text-decoration-color: #000080; font-weight: bold\">80</span> <span style=\"font-weight: bold\">)</span>\n",
       "</pre>\n"
      ],
      "text/plain": [
       "<rich.jupyter.JupyterRenderable at 0x28aa8e74220>"
      ]
     },
     "metadata": {},
     "output_type": "display_data"
    },
    {
     "data": {
      "text/html": [
       "<pre style=\"white-space:pre;overflow-x:auto;line-height:normal;font-family:Menlo,'DejaVu Sans Mono',consolas,'Courier New',monospace\">Byte  <span style=\"color: #000080; text-decoration-color: #000080; font-weight: bold\">5</span>   -  Left Margin:   <span style=\"color: #000080; text-decoration-color: #000080; font-weight: bold\">169</span>  <span style=\"font-weight: bold\">(</span> <span style=\"color: #000080; text-decoration-color: #000080; font-weight: bold\">86</span> <span style=\"font-weight: bold\">)</span>  Center Point:   <span style=\"color: #000080; text-decoration-color: #000080; font-weight: bold\">618</span>  <span style=\"font-weight: bold\">(</span> <span style=\"color: #000080; text-decoration-color: #000080; font-weight: bold\">314</span> <span style=\"font-weight: bold\">)</span>  Right Margin:   <span style=\"color: #000080; text-decoration-color: #000080; font-weight: bold\">132</span>  <span style=\"font-weight: bold\">(</span>\n",
       "<span style=\"color: #000080; text-decoration-color: #000080; font-weight: bold\">67</span> <span style=\"font-weight: bold\">)</span>\n",
       "</pre>\n"
      ],
      "text/plain": [
       "<rich.jupyter.JupyterRenderable at 0x28aa8e74dc0>"
      ]
     },
     "metadata": {},
     "output_type": "display_data"
    },
    {
     "data": {
      "text/html": [
       "<pre style=\"white-space:pre;overflow-x:auto;line-height:normal;font-family:Menlo,'DejaVu Sans Mono',consolas,'Courier New',monospace\">Byte  <span style=\"color: #000080; text-decoration-color: #000080; font-weight: bold\">6</span>   -  Left Margin:   <span style=\"color: #000080; text-decoration-color: #000080; font-weight: bold\">149</span>  <span style=\"font-weight: bold\">(</span> <span style=\"color: #000080; text-decoration-color: #000080; font-weight: bold\">77</span> <span style=\"font-weight: bold\">)</span>  Center Point:   <span style=\"color: #000080; text-decoration-color: #000080; font-weight: bold\">607</span>  <span style=\"font-weight: bold\">(</span> <span style=\"color: #000080; text-decoration-color: #000080; font-weight: bold\">312</span> <span style=\"font-weight: bold\">)</span>  Right Margin:   <span style=\"color: #000080; text-decoration-color: #000080; font-weight: bold\">136</span>  <span style=\"font-weight: bold\">(</span>\n",
       "<span style=\"color: #000080; text-decoration-color: #000080; font-weight: bold\">70</span> <span style=\"font-weight: bold\">)</span>\n",
       "</pre>\n"
      ],
      "text/plain": [
       "<rich.jupyter.JupyterRenderable at 0x28aa8e74f40>"
      ]
     },
     "metadata": {},
     "output_type": "display_data"
    },
    {
     "data": {
      "text/html": [
       "<pre style=\"white-space:pre;overflow-x:auto;line-height:normal;font-family:Menlo,'DejaVu Sans Mono',consolas,'Courier New',monospace\">Byte  <span style=\"color: #000080; text-decoration-color: #000080; font-weight: bold\">7</span>   -  Left Margin:   <span style=\"color: #000080; text-decoration-color: #000080; font-weight: bold\">158</span>  <span style=\"font-weight: bold\">(</span> <span style=\"color: #000080; text-decoration-color: #000080; font-weight: bold\">80</span> <span style=\"font-weight: bold\">)</span>  Center Point:   <span style=\"color: #000080; text-decoration-color: #000080; font-weight: bold\">649</span>  <span style=\"font-weight: bold\">(</span> <span style=\"color: #000080; text-decoration-color: #000080; font-weight: bold\">328</span> <span style=\"font-weight: bold\">)</span>  Right Margin:   <span style=\"color: #000080; text-decoration-color: #000080; font-weight: bold\">146</span>  <span style=\"font-weight: bold\">(</span>\n",
       "<span style=\"color: #000080; text-decoration-color: #000080; font-weight: bold\">74</span> <span style=\"font-weight: bold\">)</span>\n",
       "</pre>\n"
      ],
      "text/plain": [
       "<rich.jupyter.JupyterRenderable at 0x28aa8e74eb0>"
      ]
     },
     "metadata": {},
     "output_type": "display_data"
    },
    {
     "data": {
      "text/html": [
       "<pre style=\"white-space:pre;overflow-x:auto;line-height:normal;font-family:Menlo,'DejaVu Sans Mono',consolas,'Courier New',monospace\">\n",
       " Frequency <span style=\"color: #000080; text-decoration-color: #000080; font-weight: bold\">0</span>  - Write Margin - Complex Pattern - Calibration Window in pS and <span style=\"font-weight: bold\">(</span>delay taps<span style=\"font-weight: bold\">)</span>:\n",
       "\n",
       "</pre>\n"
      ],
      "text/plain": [
       "<rich.jupyter.JupyterRenderable at 0x28aa8e74640>"
      ]
     },
     "metadata": {},
     "output_type": "display_data"
    },
    {
     "data": {
      "text/html": [
       "<pre style=\"white-space:pre;overflow-x:auto;line-height:normal;font-family:Menlo,'DejaVu Sans Mono',consolas,'Courier New',monospace\">Byte  <span style=\"color: #000080; text-decoration-color: #000080; font-weight: bold\">0</span>   -  Left Margin:   <span style=\"color: #000080; text-decoration-color: #000080; font-weight: bold\">143</span>  <span style=\"font-weight: bold\">(</span> <span style=\"color: #000080; text-decoration-color: #000080; font-weight: bold\">74</span> <span style=\"font-weight: bold\">)</span>  Center Point:   <span style=\"color: #000080; text-decoration-color: #000080; font-weight: bold\">473</span>  <span style=\"font-weight: bold\">(</span> <span style=\"color: #000080; text-decoration-color: #000080; font-weight: bold\">245</span> <span style=\"font-weight: bold\">)</span>  Right Margin:   <span style=\"color: #000080; text-decoration-color: #000080; font-weight: bold\">137</span>  <span style=\"font-weight: bold\">(</span>\n",
       "<span style=\"color: #000080; text-decoration-color: #000080; font-weight: bold\">71</span> <span style=\"font-weight: bold\">)</span>\n",
       "</pre>\n"
      ],
      "text/plain": [
       "<rich.jupyter.JupyterRenderable at 0x28aa8e74640>"
      ]
     },
     "metadata": {},
     "output_type": "display_data"
    },
    {
     "data": {
      "text/html": [
       "<pre style=\"white-space:pre;overflow-x:auto;line-height:normal;font-family:Menlo,'DejaVu Sans Mono',consolas,'Courier New',monospace\">Byte  <span style=\"color: #000080; text-decoration-color: #000080; font-weight: bold\">1</span>   -  Left Margin:   <span style=\"color: #000080; text-decoration-color: #000080; font-weight: bold\">137</span>  <span style=\"font-weight: bold\">(</span> <span style=\"color: #000080; text-decoration-color: #000080; font-weight: bold\">71</span> <span style=\"font-weight: bold\">)</span>  Center Point:   <span style=\"color: #000080; text-decoration-color: #000080; font-weight: bold\">623</span>  <span style=\"font-weight: bold\">(</span> <span style=\"color: #000080; text-decoration-color: #000080; font-weight: bold\">323</span> <span style=\"font-weight: bold\">)</span>  Right Margin:   <span style=\"color: #000080; text-decoration-color: #000080; font-weight: bold\">131</span>  <span style=\"font-weight: bold\">(</span>\n",
       "<span style=\"color: #000080; text-decoration-color: #000080; font-weight: bold\">68</span> <span style=\"font-weight: bold\">)</span>\n",
       "</pre>\n"
      ],
      "text/plain": [
       "<rich.jupyter.JupyterRenderable at 0x28aa8e74640>"
      ]
     },
     "metadata": {},
     "output_type": "display_data"
    },
    {
     "data": {
      "text/html": [
       "<pre style=\"white-space:pre;overflow-x:auto;line-height:normal;font-family:Menlo,'DejaVu Sans Mono',consolas,'Courier New',monospace\">Byte  <span style=\"color: #000080; text-decoration-color: #000080; font-weight: bold\">2</span>   -  Left Margin:   <span style=\"color: #000080; text-decoration-color: #000080; font-weight: bold\">137</span>  <span style=\"font-weight: bold\">(</span> <span style=\"color: #000080; text-decoration-color: #000080; font-weight: bold\">71</span> <span style=\"font-weight: bold\">)</span>  Center Point:   <span style=\"color: #000080; text-decoration-color: #000080; font-weight: bold\">106</span>  <span style=\"font-weight: bold\">(</span> <span style=\"color: #000080; text-decoration-color: #000080; font-weight: bold\">55</span> <span style=\"font-weight: bold\">)</span>  Right Margin:   <span style=\"color: #000080; text-decoration-color: #000080; font-weight: bold\">123</span>  <span style=\"font-weight: bold\">(</span> \n",
       "<span style=\"color: #000080; text-decoration-color: #000080; font-weight: bold\">64</span> <span style=\"font-weight: bold\">)</span>\n",
       "</pre>\n"
      ],
      "text/plain": [
       "<rich.jupyter.JupyterRenderable at 0x28aa8e74640>"
      ]
     },
     "metadata": {},
     "output_type": "display_data"
    },
    {
     "data": {
      "text/html": [
       "<pre style=\"white-space:pre;overflow-x:auto;line-height:normal;font-family:Menlo,'DejaVu Sans Mono',consolas,'Courier New',monospace\">Byte  <span style=\"color: #000080; text-decoration-color: #000080; font-weight: bold\">3</span>   -  Left Margin:   <span style=\"color: #000080; text-decoration-color: #000080; font-weight: bold\">146</span>  <span style=\"font-weight: bold\">(</span> <span style=\"color: #000080; text-decoration-color: #000080; font-weight: bold\">75</span> <span style=\"font-weight: bold\">)</span>  Center Point:   <span style=\"color: #000080; text-decoration-color: #000080; font-weight: bold\">201</span>  <span style=\"font-weight: bold\">(</span> <span style=\"color: #000080; text-decoration-color: #000080; font-weight: bold\">103</span> <span style=\"font-weight: bold\">)</span>  Right Margin:   <span style=\"color: #000080; text-decoration-color: #000080; font-weight: bold\">115</span>  <span style=\"font-weight: bold\">(</span>\n",
       "<span style=\"color: #000080; text-decoration-color: #000080; font-weight: bold\">59</span> <span style=\"font-weight: bold\">)</span>\n",
       "</pre>\n"
      ],
      "text/plain": [
       "<rich.jupyter.JupyterRenderable at 0x28aa8e74640>"
      ]
     },
     "metadata": {},
     "output_type": "display_data"
    },
    {
     "data": {
      "text/html": [
       "<pre style=\"white-space:pre;overflow-x:auto;line-height:normal;font-family:Menlo,'DejaVu Sans Mono',consolas,'Courier New',monospace\">Byte  <span style=\"color: #000080; text-decoration-color: #000080; font-weight: bold\">4</span>   -  Left Margin:   <span style=\"color: #000080; text-decoration-color: #000080; font-weight: bold\">146</span>  <span style=\"font-weight: bold\">(</span> <span style=\"color: #000080; text-decoration-color: #000080; font-weight: bold\">75</span> <span style=\"font-weight: bold\">)</span>  Center Point:   <span style=\"color: #000080; text-decoration-color: #000080; font-weight: bold\">570</span>  <span style=\"font-weight: bold\">(</span> <span style=\"color: #000080; text-decoration-color: #000080; font-weight: bold\">294</span> <span style=\"font-weight: bold\">)</span>  Right Margin:   <span style=\"color: #000080; text-decoration-color: #000080; font-weight: bold\">116</span>  <span style=\"font-weight: bold\">(</span>\n",
       "<span style=\"color: #000080; text-decoration-color: #000080; font-weight: bold\">60</span> <span style=\"font-weight: bold\">)</span>\n",
       "</pre>\n"
      ],
      "text/plain": [
       "<rich.jupyter.JupyterRenderable at 0x28aa8e74640>"
      ]
     },
     "metadata": {},
     "output_type": "display_data"
    },
    {
     "data": {
      "text/html": [
       "<pre style=\"white-space:pre;overflow-x:auto;line-height:normal;font-family:Menlo,'DejaVu Sans Mono',consolas,'Courier New',monospace\">Byte  <span style=\"color: #000080; text-decoration-color: #000080; font-weight: bold\">5</span>   -  Left Margin:   <span style=\"color: #000080; text-decoration-color: #000080; font-weight: bold\">147</span>  <span style=\"font-weight: bold\">(</span> <span style=\"color: #000080; text-decoration-color: #000080; font-weight: bold\">75</span> <span style=\"font-weight: bold\">)</span>  Center Point:   <span style=\"color: #000080; text-decoration-color: #000080; font-weight: bold\">618</span>  <span style=\"font-weight: bold\">(</span> <span style=\"color: #000080; text-decoration-color: #000080; font-weight: bold\">314</span> <span style=\"font-weight: bold\">)</span>  Right Margin:   <span style=\"color: #000080; text-decoration-color: #000080; font-weight: bold\">122</span>  <span style=\"font-weight: bold\">(</span>\n",
       "<span style=\"color: #000080; text-decoration-color: #000080; font-weight: bold\">62</span> <span style=\"font-weight: bold\">)</span>\n",
       "</pre>\n"
      ],
      "text/plain": [
       "<rich.jupyter.JupyterRenderable at 0x28aa8e74640>"
      ]
     },
     "metadata": {},
     "output_type": "display_data"
    },
    {
     "data": {
      "text/html": [
       "<pre style=\"white-space:pre;overflow-x:auto;line-height:normal;font-family:Menlo,'DejaVu Sans Mono',consolas,'Courier New',monospace\">Byte  <span style=\"color: #000080; text-decoration-color: #000080; font-weight: bold\">6</span>   -  Left Margin:   <span style=\"color: #000080; text-decoration-color: #000080; font-weight: bold\">140</span>  <span style=\"font-weight: bold\">(</span> <span style=\"color: #000080; text-decoration-color: #000080; font-weight: bold\">72</span> <span style=\"font-weight: bold\">)</span>  Center Point:   <span style=\"color: #000080; text-decoration-color: #000080; font-weight: bold\">607</span>  <span style=\"font-weight: bold\">(</span> <span style=\"color: #000080; text-decoration-color: #000080; font-weight: bold\">312</span> <span style=\"font-weight: bold\">)</span>  Right Margin:   <span style=\"color: #000080; text-decoration-color: #000080; font-weight: bold\">130</span>  <span style=\"font-weight: bold\">(</span>\n",
       "<span style=\"color: #000080; text-decoration-color: #000080; font-weight: bold\">67</span> <span style=\"font-weight: bold\">)</span>\n",
       "</pre>\n"
      ],
      "text/plain": [
       "<rich.jupyter.JupyterRenderable at 0x28aa8e74640>"
      ]
     },
     "metadata": {},
     "output_type": "display_data"
    },
    {
     "data": {
      "text/html": [
       "<pre style=\"white-space:pre;overflow-x:auto;line-height:normal;font-family:Menlo,'DejaVu Sans Mono',consolas,'Courier New',monospace\">Byte  <span style=\"color: #000080; text-decoration-color: #000080; font-weight: bold\">7</span>   -  Left Margin:   <span style=\"color: #000080; text-decoration-color: #000080; font-weight: bold\">148</span>  <span style=\"font-weight: bold\">(</span> <span style=\"color: #000080; text-decoration-color: #000080; font-weight: bold\">75</span> <span style=\"font-weight: bold\">)</span>  Center Point:   <span style=\"color: #000080; text-decoration-color: #000080; font-weight: bold\">649</span>  <span style=\"font-weight: bold\">(</span> <span style=\"color: #000080; text-decoration-color: #000080; font-weight: bold\">328</span> <span style=\"font-weight: bold\">)</span>  Right Margin:   <span style=\"color: #000080; text-decoration-color: #000080; font-weight: bold\">115</span>  <span style=\"font-weight: bold\">(</span>\n",
       "<span style=\"color: #000080; text-decoration-color: #000080; font-weight: bold\">58</span> <span style=\"font-weight: bold\">)</span>\n",
       "</pre>\n"
      ],
      "text/plain": [
       "<rich.jupyter.JupyterRenderable at 0x28aa8e74640>"
      ]
     },
     "metadata": {},
     "output_type": "display_data"
    },
    {
     "name": "stdout",
     "output_type": "stream",
     "text": [
      "Report Done.\n",
      "\n"
     ]
    }
   ],
   "source": [
    "# Use a single report command to get all latest essential\n",
    "# Status and decoded data collected as it presents\n",
    "ddr.report()\n",
    "# Specify True to argument 1, and name/path to argument 2\n",
    "# to get the report output generated and saved to a file\n",
    "ddr.report(True, \"test_out.txt\")\n",
    "print(\"Report Done.\\n\")"
   ]
  },
  {
   "cell_type": "markdown",
   "metadata": {},
   "source": [
    "## 8 - Dump the complete set of internal properties as json\n",
    "\n",
    "This demonstrates how to get a Python dictionary of all the low level DDR properties. These can be converted to JSON easily for export to other tools."
   ]
  },
  {
   "cell_type": "code",
   "execution_count": 11,
   "metadata": {},
   "outputs": [
    {
     "name": "stdout",
     "output_type": "stream",
     "text": [
      "{\n",
      "    \"f0_wrdqdbi_deskew_dq_odly_bit13\": 143,\n",
      "    \"f0_wrlvl_noise_fcrse_rank0_byte5\": 65,\n",
      "    \"f0_dqsgate_stg1_overflow_36\": 0,\n",
      "    \"wrvref_vref_upp_bound_rank0_byte0\": 0,\n",
      "    \"bisc_idly3_align_nibble00\": 68,\n",
      "    \"f1_rddq_pqtr_left_nibble03\": 0,\n",
      "    \"f1_wrdqdbi_deskew_dq_odly_fcrse_bit40\": 0,\n",
      "    \"f1_wrdqdbi_right_margin_byte3\": 0,\n",
      "    \"bisc_nqtr_nibble12\": 82,\n",
      "    \"f0_wrlat_wldlyrnk_crse_final_rank0_byte3\": 0,\n",
      "    \"f1_wrdqdbi_deskew_dq_odly_bit38\": 0,\n",
      "    \"f0_dqsgate_stg1_overflow_27\": 0,\n",
      "    \"f0_wrdqdbi_left_edge_dq_bit50\": 64,\n",
      "    \"f1_rddq_idelay_final_bit28\": 0,\n",
      "    \"f0_rddq_idelay_final_bit34\": 75,\n",
      "    \"rdvref_left_vref_upp_bound_nibble09\": 0,\n",
      "    \"f1_rdcmplx_pqtr_right_nibble13\": 0,\n",
      "    \"cal_post_status_05\": 0,\n",
      "    \"bisc_mon_align_nibble11\": 0,\n",
      "    \"f0_wrdqdbi_right_edge_dqs_byte2\": 121,\n",
      "    \"f0_wr_simp_lm_byte_06\": [\n",
      "        77,\n",
      "        149\n",
      "    ],\n",
      "    \"f1_wrcmplx_right_margin_fcrse_byte5\": 0,\n",
      "    \"f0_dqsgate_stg2_read_lat_rank0_byte6\": 27,\n",
      "    \"f0_dqsgate_stg1_overflow_08\": 0,\n",
      "    \"cal_warning_63\": 0,\n",
      "    \"f1_rddq_pqtr_right_fcrse_nibble05\": 0,\n",
      "    \"f1_rdcmplx_nqtr_left_nibble03\": 0,\n",
      "    \"bisc_idly5_align_nibble10\": 73,\n",
      "    \"f0_rdcmplx_pqtr_left_nibble11\": 26,\n",
      "    \"f1_rdcmplx_pqtr_right_short_fcrse_nibble01\": 0,\n",
      "    \"f1_rdcmplx_nqtr_right_nibble03\": 0,\n",
      "    \"rdvref_left_vref_low_bound_nibble03\": 0,\n",
      "    \"f0_wrlat_phy_data_nib_final_byte1\": 0,\n",
      "    \"f0_wrdqdbi_deskew_dq_odly_fcrse_bit40\": 140,\n",
      "    \"f0_wrdqdbi_stg5_dqs_odly_byte4\": 49,\n",
      "    \"f1_wrdqdbi_odly_dbi_final_byte1\": 0,\n",
      "    \"f1_rdcmplx_nqtr_right_short_nibble05\": 0,\n",
      "    \"bisc_idly1_align_nibble15\": 76,\n",
      "    \"bisc_pqtr_nibble01\": 82,\n",
      "    \"f1_wrcmplx_left_margin_fcrse_byte6\": 0,\n",
      "    \"f0_rd_comp_rise_ctp_nib_13\": [\n",
      "        96,\n",
      "        188\n",
      "    ],\n",
      "    \"f1_wrcmplx_left_margin_byte3\": 0,\n",
      "    \"phy_rden9_dly\": 22,\n",
      "    \"rdvref_right_vref_low_bound_nibble03\": 0,\n",
      "    \"f0_wrdqdbi_deskew_dq_odly_fcrse_bit19\": 109,\n",
      "    \"f0_dqsgate_stg2_read_lat_rank0_byte2\": 26,\n",
      "    \"f0_rddq_idelay_final_bit41\": 66,\n",
      "    \"f0_wrdqdbi_deskew_dbi_odly_fcrse_byte1\": 144,\n",
      "    \"f0_wrdqdbi_stg3_dq_odly_bit56\": 75,\n",
      "    \"ddrmc_isr_dc_cmd0_fatal\": 0,\n",
      "    \"cal_stage_time_38\": 0,\n",
      "    \"vttrack_rldlyqtr_min_nibble07\": 78,\n",
      "    \"f0_wrdqdbi_stg1_dqs_delay_byte7\": 91,\n",
      "    \"cal_warning_13\": 0,\n",
      "    \"f0_rdprbs_pqtr_right_margin_nibble10\": 0,\n",
      "    \"cal_warning_76\": 0,\n",
      "    \"f1_rddq_pqtr_left_nibble10\": 0,\n",
      "    \"f0_dqsgate_stg1_overflow_57\": 0,\n",
      "    \"bisc_idly0_align_nibble08\": 66,\n",
      "    \"f1_rdcmplx_pqtr_left_nibble09\": 0,\n",
      "    \"rdmargin_pqtr_left_nibble05\": 0,\n",
      "    \"phy_oe_nib6_dly\": 1,\n",
      "    \"wrmargin_right_byte0\": 0,\n",
      "    \"f1_wrlvl_fine_left_rank0_byte4\": 0,\n",
      "    \"f1_rddq_qtr_deskew_nibble12\": 0,\n",
      "    \"f0_rdcmplx_nqtr_final_nibble03\": 86,\n",
      "    \"f1_rddq_idelay_final_bit14\": 0,\n",
      "    \"f1_rddq_pqtr_final_nibble12\": 0,\n",
      "    \"vttrack_rldlyqtr_min_nibble04\": 76,\n",
      "    \"f1_wrlat_match_rank0_byte6\": 0,\n",
      "    \"f1_wrdqdbi_stg4_dqs_delay_byte2\": 0,\n",
      "    \"cal_warning_73\": 0,\n",
      "    \"f0_rd_comp_fall_lm_nib_01\": [\n",
      "        62,\n",
      "        117\n",
      "    ],\n",
      "    \"f0_dqsgate_stg1_rldlyrnk_crse_rank0_byte4\": 13,\n",
      "    \"f0_wrcmplx_odly_dq_final_bit35\": 30,\n",
      "    \"f0_rdcmplx_idelay_offset_nibble08\": 0,\n",
      "    \"f0_wrdqdbi_deskew_dq_odly_bit18\": 117,\n",
      "    \"ub_isr_vt_track_err\": 0,\n",
      "    \"f0_rddq_idelay_final_bit36\": 77,\n",
      "    \"f1_rddq_nqtr_right_nibble10\": 0,\n",
      "    \"f1_wrdqdbi_deskew_dbi_odly_fcrse_byte2\": 0,\n",
      "    \"f0_wrdqdbi_stg4_byte_status_00\": 511,\n",
      "    \"phy_rden14_dly\": 22,\n",
      "    \"dc1_perf_mon_4\": 0,\n",
      "    \"f0_rd_comp_fall_lm_nib_10\": [\n",
      "        63,\n",
      "        123\n",
      "    ],\n",
      "    \"f1_rddq_idelay_final_bit30\": 0,\n",
      "    \"f1_calbisc_rl_dly_nqtr_nibble02\": 0,\n",
      "    \"f1_wrdqdbi_deskew_dq_odly_bit19\": 0,\n",
      "    \"rdvref_left_vref_low_bound_nibble11\": 0,\n",
      "    \"f0_rddq_idelay_final_bit24\": 71,\n",
      "    \"f0_wrdqdbi_stg2_dq_odly_bit05\": 65,\n",
      "    \"bisc_idly4_align_nibble13\": 77,\n",
      "    \"f1_wrdqdbi_stg2_dq_odly_bit25\": 0,\n",
      "    \"f0_wrdqdbi_stg2_dq_odly_bit49\": 55,\n",
      "    \"f1_dqsgate_rldlyrnk_crse_final_rank0_byte3\": 0,\n",
      "    \"f1_wrlat_wldlyrnk_crse_final_rank0_byte4\": 0,\n",
      "    \"f1_rdcmplx_idelay_offset_nibble03\": 0,\n",
      "    \"iobmap_dq_31_30\": 0,\n",
      "    \"f0_dqsgate_stg1_overflow_29\": 0,\n",
      "    \"mgchk_wr_vref\": 0,\n",
      "    \"f0_dqsgate_stg1_rldlyrnk_crse_rank0_byte2\": 9,\n",
      "    \"f1_rddq_nqtr_left_nibble10\": 0,\n",
      "    \"f0_rdcmplx_pqtr_right_nibble09\": 157,\n",
      "    \"self_refresh_entry_error\": 0,\n",
      "    \"f0_rddq_idelay_final_bit47\": 71,\n",
      "    \"f0_wrlat_match_rank0_byte4\": 17,\n",
      "    \"f0_rdcmplx_pqtr_right_nibble04\": 155,\n",
      "    \"f0_rdprbs_pqtr_right_margin_nibble06\": 0,\n",
      "    \"f0_rdprbs_nqtr_right_margin_nibble10\": 0,\n",
      "    \"wrvref_right_vref_final_rank0_byte7\": 0,\n",
      "    \"f1_dqsgate_rldlyrnk_crse_final_rank0_byte7\": 0,\n",
      "    \"f1_wrdqdbi_left_edge_dq_bit47\": 0,\n",
      "    \"f0_rdcmplx_pqtr_final_nibble05\": 90,\n",
      "    \"cal_seq_status_43\": 0,\n",
      "    \"f0_rd_simp_fall_lm_nib_05\": [\n",
      "        76,\n",
      "        143\n",
      "    ],\n",
      "    \"cal_error_bit_phy_nibble_03\": 0,\n",
      "    \"f1_wrdqdbi_deskew_dq_odly_fcrse_bit35\": 0,\n",
      "    \"f1_wrdqdbi_stg3_dq_odly_bit00\": 0,\n",
      "    \"f1_calbisc_rl_dly_nqtr_nibble03\": 0,\n",
      "    \"f0_rdcmplx_idelay_offset_nibble13\": 0,\n",
      "    \"f0_rdcmplx_pqtr_left_nibble10\": 24,\n",
      "    \"f1_rdcmplx_pqtr_left_short_nibble07\": 0,\n",
      "    \"f0_rd_comp_fall_ctp_nib_07\": [\n",
      "        83,\n",
      "        162\n",
      "    ],\n",
      "    \"f0_rdcmplx_pqtr_left_nibble06\": 21,\n",
      "    \"wrvref_left_vref_def_rank0_byte7\": 0,\n",
      "    \"rdvref_vref_final_nibble09\": 0,\n",
      "    \"f1_wrdqdbi_stg2_dq_odly_bit48\": 0,\n",
      "    \"bisc_pqtr_nibble03\": 82,\n",
      "    \"rdvref_vref_final_nibble11\": 0,\n",
      "    \"f1_wrdqdbi_stg2_dq_odly_bit02\": 0,\n",
      "    \"f0_rd_simp_fall_rm_nib_08\": [\n",
      "        76,\n",
      "        147\n",
      "    ],\n",
      "    \"f1_rdcmplx_nqtr_right_nibble02\": 0,\n",
      "    \"f0_wrdqdbi_stg3_dq_odly_bit48\": 55,\n",
      "    \"f1_rdcmplx_pqtr_final_nibble03\": 0,\n",
      "    \"f1_rdprbs_nqtr_right_margin_nibble10\": 0,\n",
      "    \"f1_wrdqdbi_deskew_dq_odly_fcrse_bit08\": 0,\n",
      "    \"f0_wrdqdbi_stg2_dq_odly_bit40\": 60,\n",
      "    \"f1_calbisc_rl_dly_nqtr_nibble00\": 0,\n",
      "    \"f0_wrlvl_crse_final_rank0_byte2\": 0,\n",
      "    \"f1_wrdqdbi_stg6_dbi_odly_byte6\": 0,\n",
      "    \"f1_rdcmplx_nqtr_final_nibble05\": 0,\n",
      "    \"f0_dqsgate_stg1_overflow_35\": 0,\n",
      "    \"f0_rd_comp_rise_lm_nib_02\": [\n",
      "        66,\n",
      "        124\n",
      "    ],\n",
      "    \"f0_rd_simp_rise_rm_nib_14\": [\n",
      "        77,\n",
      "        152\n",
      "    ],\n",
      "    \"rdvref_left_vref_upp_bound_nibble14\": 0,\n",
      "    \"f1_wrdqdbi_left_edge_dq_bit07\": 0,\n",
      "    \"f0_wrlvl_crse_final_rank0_byte7\": 3,\n",
      "    \"wrmargin_left_byte6\": 0,\n",
      "    \"f1_rddq_nqtr_right_nibble04\": 0,\n",
      "    \"dqstrack_rldlyrnk_fine_max_byte7\": 37,\n",
      "    \"f0_wrlvl_crse_final_rank0_byte1\": 3,\n",
      "    \"f0_dqsgate_read_lat_final_byte6\": 27,\n",
      "    \"f1_wrdqdbi_stg2_dq_odly_bit59\": 0,\n",
      "    \"f1_wrdqdbi_deskew_dq_odly_fcrse_bit20\": 0,\n",
      "    \"f1_wrdqdbi_deskew_dq_odly_bit45\": 0,\n",
      "    \"f1_wrdqdbi_deskew_dq_odly_bit42\": 0,\n",
      "    \"f1_wrdqdbi_stg4_byte_status_00\": 0,\n",
      "    \"f0_rddq_pqtr_final_nibble03\": 94,\n",
      "    \"f0_wrdqdbi_deskew_dq_odly_bit22\": 124,\n",
      "    \"f0_wr_simp_ctp_byte_04\": [\n",
      "        294,\n",
      "        570\n",
      "    ],\n",
      "    \"f0_wrdqdbi_stg2_dq_odly_bit32\": 33,\n",
      "    \"wrvref_right_vref_final_rank0_byte0\": 0,\n",
      "    \"f0_rdprbs_nqtr_left_margin_nibble15\": 0,\n",
      "    \"bisc_idly3_align_nibble02\": 70,\n",
      "    \"f1_wrdqdbi_stg2_dqs_odly_byte5\": 0,\n",
      "    \"f1_wrdqdbi_stg3_dq_odly_bit36\": 0,\n",
      "    \"f0_wrprbs_left_margin_byte2\": 0,\n",
      "    \"f0_rdcmplx_nqtr_final_nibble08\": 83,\n",
      "    \"f1_wrdqdbi_odly_dq_final_bit06\": 0,\n",
      "    \"f0_wrdqdbi_stg3_dq_odly_bit04\": 65,\n",
      "    \"bisc_nqtr_nibble01\": 83,\n",
      "    \"f1_rdcmplx_pqtr_right_nibble11\": 0,\n",
      "    \"f0_rdcmplx_nqtr_right_short_nibble00\": 173,\n",
      "    \"rdvref_vref_final_nibble00\": 0,\n",
      "    \"f0_wrdqdbi_deskew_dq_odly_bit20\": 129,\n",
      "    \"f1_dqsgate_stg1_overflow_35\": 0,\n",
      "    \"f1_rddq_pqtr_final_nibble15\": 0,\n",
      "    \"f1_wrdqdbi_right_edge_dqs_byte4\": 0,\n",
      "    \"f0_rdcmplx_nqtr_right_short_nibble14\": 166,\n",
      "    \"f1_wrdqdbi_deskew_dq_odly_bit24\": 0,\n",
      "    \"rdmargin_pqtr_left_nibble04\": 0,\n",
      "    \"f1_rddq_idelay_final_bit38\": 0,\n",
      "    \"f1_rddq_nqtr_right_nibble08\": 0,\n",
      "    \"f1_wrdqdbi_stg3_dq_odly_bit50\": 0,\n",
      "    \"0x0b_F0_READ_DQ_CAL\": \"Pass\",\n",
      "    \"f0_wrlvl_crse_final_rank0_byte4\": 3,\n",
      "    \"f0_rdcmplx_nqtr_left_short_nibble05\": 28,\n",
      "    \"rdvref_right_vref_upp_bound_nibble15\": 0,\n",
      "    \"f1_rddq_nqtr_left_nibble01\": 0,\n",
      "    \"f1_rdcmplx_nqtr_left_short_nibble07\": 0,\n",
      "    \"f0_wrdqdbi_deskew_dq_odly_fcrse_bit26\": 141,\n",
      "    \"f1_rddq_pqtr_right_nibble13\": 0,\n",
      "    \"f1_calbisc_rl_dly_qtr_nibble15\": 0,\n",
      "    \"f0_wrdqdbi_stg2_dq_odly_bit21\": 39,\n",
      "    \"f0_wr_simp_lm_byte_03\": [\n",
      "        70,\n",
      "        137\n",
      "    ],\n",
      "    \"cal_warning_11\": 0,\n",
      "    \"f0_rdcmplx_pqtr_right_nibble02\": 154,\n",
      "    \"f0_wrdqdbi_deskew_dq_odly_fcrse_bit31\": 161,\n",
      "    \"f0_wrdqdbi_right_edge_dqs_byte1\": 141,\n",
      "    \"f1_wrdqdbi_stg3_dq_odly_bit61\": 0,\n",
      "    \"dqstrack_rldlyrnk_crse_byte1\": 4,\n",
      "    \"pcsr_lock\": 1,\n",
      "    \"bisc_idly2_align_nibble03\": 77,\n",
      "    \"f0_wrdqdbi_stg2_dq_odly_bit16\": 39,\n",
      "    \"f1_wrdqdbi_stg5_dqs_odly_byte5\": 0,\n",
      "    \"f1_rdcmplx_pqtr_left_nibble15\": 0,\n",
      "    \"f0_rddq_qtr_deskew_nibble10\": 1,\n",
      "    \"f0_wrdqdbi_stg3_dq_odly_bit17\": 39,\n",
      "    \"f0_wrdqdbi_right_margin_fcrse_byte7\": 70,\n",
      "    \"f1_wrcmplx_odly_dq_final_bit34\": 0,\n",
      "    \"f0_wrcmplx_left_margin_fcrse_byte2\": 70,\n",
      "    \"f1_rddq_nqtr_right_fcrse_nibble14\": 0,\n",
      "    \"tag_ver_0\": 1,\n",
      "    \"f0_rdcmplx_nqtr_right_nibble05\": 153,\n",
      "    \"f0_rd_comp_rise_ctp_nib_01\": [\n",
      "        100,\n",
      "        191\n",
      "    ],\n",
      "    \"f0_wrdqdbi_left_edge_dq_bit63\": 67,\n",
      "    \"f1_dqsgate_read_lat_final_byte7\": 0,\n",
      "    \"f0_rd_comp_fall_ctp_nib_03\": [\n",
      "        86,\n",
      "        166\n",
      "    ],\n",
      "    \"f0_rd_simp_rise_rm_nib_01\": [\n",
      "        77,\n",
      "        147\n",
      "    ],\n",
      "    \"f0_rddq_nqtr_final_nibble12\": 97,\n",
      "    \"f1_rddq_idelay_final_bit59\": 0,\n",
      "    \"f0_rdcmplx_pqtr_right_short_fcrse_nibble15\": 178,\n",
      "    \"f1_rdcmplx_pqtr_final_nibble04\": 0,\n",
      "    \"f1_wrdqdbi_stg3_dq_odly_bit33\": 0,\n",
      "    \"f1_wrdqdbi_stg3_dq_odly_bit19\": 0,\n",
      "    \"vttrack_rldlyqtr_max_nibble14\": 82,\n",
      "    \"dqstrack_rldlyrnk_crse_min_byte0\": 3,\n",
      "    \"dqs_gate_running\": 1,\n",
      "    \"rdvref_left_vref_low_bound_nibble04\": 0,\n",
      "    \"mgchk_pattern_mode\": 0,\n",
      "    \"f0_rdcmplx_pqtr_right_short_nibble06\": 168,\n",
      "    \"f0_wr_simp_lm_byte_00\": [\n",
      "        73,\n",
      "        141\n",
      "    ],\n",
      "    \"f0_wrdqdbi_stg2_dq_odly_bit45\": 60,\n",
      "    \"f0_rd_comp_rise_ctp_nib_03\": [\n",
      "        91,\n",
      "        178\n",
      "    ],\n",
      "    \"f1_rddq_nqtr_right_nibble06\": 0,\n",
      "    \"f0_rddq_qtr_deskew_nibble07\": 1,\n",
      "    \"f1_rdcmplx_pqtr_left_nibble04\": 0,\n",
      "    \"f1_wrcmplx_odly_dq_final_bit45\": 0,\n",
      "    \"f0_rddq_pqtr_right_nibble12\": 176,\n",
      "    \"f0_rdcmplx_pqtr_right_nibble10\": 159,\n",
      "    \"f0_rdcmplx_pqtr_final_nibble15\": 91,\n",
      "    \"f0_wrdqdbi_odly_dq_final_bit45\": 55,\n",
      "    \"traf_self_ref_en\": 0,\n",
      "    \"f1_wrdqdbi_odly_dq_final_bit02\": 0,\n",
      "    \"max_nibbles\": 18,\n",
      "    \"f1_rdprbs_nqtr_left_margin_nibble09\": 0,\n",
      "    \"f0_rddq_idelay_final_bit56\": 75,\n",
      "    \"wrvref_vref_upp_bound_rank0_byte3\": 0,\n",
      "    \"f1_wrdqdbi_stg4_dqs_delay_byte1\": 0,\n",
      "    \"phy_oe_nib25_dly\": 0,\n",
      "    \"f0_wrdqdbi_stg2_dq_odly_bit27\": 81,\n",
      "    \"f0_rddq_idelay_final_bit50\": 77,\n",
      "    \"f1_rddq_pqtr_right_fcrse_nibble09\": 0,\n",
      "    \"wrvref_left_vref_low_bound_rank0_byte5\": 0,\n",
      "    \"cal_seq_status_42\": 0,\n",
      "    \"f1_wrlvl_fine_final_rank0_byte2\": 0,\n",
      "    \"wrvref_vref_final_rank0_byte6\": 0,\n",
      "    \"f0_rdcmplx_idelay_offset_nibble11\": 0,\n",
      "    \"f0_wrdqdbi_deskew_dq_odly_fcrse_bit07\": 145,\n",
      "    \"f1_calbisc_rl_dly_pqtr_nibble07\": 0,\n",
      "    \"bisc_idly4_align_nibble08\": 73,\n",
      "    \"xpi_oe\": 258,\n",
      "    \"f0_rddq_pqtr_left_nibble10\": 17,\n",
      "    \"wrvref_vref_upp_bound_rank0_byte1\": 0,\n",
      "    \"cal_stage_time_33\": 0,\n",
      "    \"f1_wrdqdbi_stg2_dqs_odly_byte7\": 0,\n",
      "    \"mgchk_bitslect\": 0,\n",
      "    \"bisc_idly0_align_nibble05\": 0,\n",
      "    \"f1_wrdqdbi_left_edge_dbi_byte4\": 0,\n",
      "    \"vttrack_rldlyqtr_min_nibble12\": 78,\n",
      "    \"rdvref_vref_def\": 0,\n",
      "    \"f0_rdcmplx_idelay_offset_nibble03\": 0,\n",
      "    \"bisc_pqtr_nibble09\": 81,\n",
      "    \"f1_calbisc_rl_dly_qtr_nibble01\": 0,\n",
      "    \"f0_wrcmplx_left_margin_byte3\": 75,\n",
      "    \"f1_rdcmplx_pqtr_right_short_fcrse_nibble10\": 0,\n",
      "    \"phy_rden16_dly\": 26,\n",
      "    \"f0_wrdqdbi_left_edge_dbi_byte1\": 64,\n",
      "    \"f1_wrdqdbi_stg3_dq_odly_bit46\": 0,\n",
      "    \"bisc_idly0_align_nibble00\": 67,\n",
      "    \"f0_rdcmplx_nqtr_right_short_nibble08\": 170,\n",
      "    \"cal_seq_status_00\": 384,\n",
      "    \"f1_rddq_nqtr_left_nibble06\": 0,\n",
      "    \"f0_rddq_idelay_final_bit12\": 78,\n",
      "    \"f0_rdcmplx_nqtr_right_nibble08\": 142,\n",
      "    \"dqs_gate_overflow\": 0,\n",
      "    \"f1_rddq_idelay_final_bit43\": 0,\n",
      "    \"f0_wrdqdbi_deskew_dq_odly_bit55\": 140,\n",
      "    \"iobmap_dq_5_4\": 0,\n",
      "    \"f1_db_f0bc6x\": 0,\n",
      "    \"cal_stage.05_F0_READ_DQ_CAL\": \"Pass\",\n",
      "    \"f1_dqsgate_stg1_overflow_23\": 0,\n",
      "    \"f1_wrdqdbi_deskew_dq_odly_fcrse_bit60\": 0,\n",
      "    \"rdvref_right_vref_upp_bound_nibble01\": 0,\n",
      "    \"f1_rddq_pqtr_final_nibble11\": 0,\n",
      "    \"reg_safe_config5\": 68161558,\n",
      "    \"f1_wrdqdbi_left_edge_dbi_byte2\": 0,\n",
      "    \"iobmap_dqs_16\": 0,\n",
      "    \"bisc_idly4_align_nibble10\": 72,\n",
      "    \"f0_wrcmplx_odly_dq_final_bit30\": 96,\n",
      "    \"bisc_idly5_align_nibble04\": 72,\n",
      "    \"f1_rdcmplx_pqtr_right_short_fcrse_nibble04\": 0,\n",
      "    \"f0_rdcmplx_nqtr_right_nibble10\": 146,\n",
      "    \"f1_rddq_idelay_final_bit24\": 0,\n",
      "    \"rdvref_left_vref_def_nibble08\": 0,\n",
      "    \"f1_wrdqdbi_left_edge_dq_bit35\": 0,\n",
      "    \"dqstrack_rldlyrnk_crse_min_byte4\": 5,\n",
      "    \"f1_mr3_17_9\": 0,\n",
      "    \"f0_rd_simp_rise_ctp_nib_12\": [\n",
      "        96,\n",
      "        188\n",
      "    ],\n",
      "    \"ddrmc_pcsr_status_incal\": 0,\n",
      "    \"f1_wrcmplx_odly_dq_final_bit21\": 0,\n",
      "    \"cal_seq_status_27\": 298,\n",
      "    \"f0_wrdqdbi_stg3_dq_odly_bit16\": 39,\n",
      "    \"f1_wrdqdbi_stg1_dqs_delay_byte6\": 0,\n",
      "    \"cal_seq_status_22\": 293,\n",
      "    \"f1_wrlvl_fine_final_rank0_byte1\": 0,\n",
      "    \"f0_wrdqdbi_stg2_dq_odly_bit36\": 33,\n",
      "    \"f1_rddq_idelay_final_bit23\": 0,\n",
      "    \"bisc_idly1_align_nibble04\": 70,\n",
      "    \"rdvref_vref_upp_bound_nibble03\": 0,\n",
      "    \"f0_rddq_qtr_deskew_nibble06\": 1,\n",
      "    \"f0_wrdqdbi_deskew_dq_odly_fcrse_bit25\": 151,\n",
      "    \"f0_wrdqdbi_odly_dq_final_bit30\": 88,\n",
      "    \"bytes\": 8,\n",
      "    \"cal_warning_44\": 0,\n",
      "    \"f1_wrdqdbi_stg5_dqs_odly_byte4\": 0,\n",
      "    \"f1_rdcmplx_nqtr_left_nibble06\": 0,\n",
      "    \"vttrack_rldlyqtr_max_nibble11\": 82,\n",
      "    \"rdmargin_nqtr_right_nibble05\": 0,\n",
      "    \"dqstrack_rldlyrnk_crse_min_byte5\": 2,\n",
      "    \"f0_rdcmplx_pqtr_final_nibble02\": 87,\n",
      "    \"vttrack_rldlyqtr_max_nibble05\": 82,\n",
      "    \"f0_wrlvl_fine_right_rank0_byte0\": 67,\n",
      "    \"cal_stage.06_F0_WRITE_DQ_DBI_CAL\": \"Pass\",\n",
      "    \"f0_calbisc_rl_dly_nqtr_nibble12\": 82,\n",
      "    \"wrvref_left_vref_final_rank0_byte0\": 0,\n",
      "    \"f0_wrdqdbi_odly_dbi_final_byte5\": 69,\n",
      "    \"f1_rdcmplx_pqtr_right_short_fcrse_nibble09\": 0,\n",
      "    \"f0_wrdqdbi_odly_dq_final_bit49\": 52,\n",
      "    \"f0_wrcmplx_odly_dq_final_bit60\": 86,\n",
      "    \"f1_rdcmplx_pqtr_right_nibble03\": 0,\n",
      "    \"f1_wrdqdbi_left_margin_byte1\": 0,\n",
      "    \"f1_wrcmplx_odly_dqs_final_byte1\": 0,\n",
      "    \"wrvref_left_vref_upp_bound_rank0_byte0\": 0,\n",
      "    \"f1_wrcmplx_odly_dq_final_bit47\": 0,\n",
      "    \"f1_wrdqdbi_deskew_dbi_odly_byte3\": 0,\n",
      "    \"cal_stage_time_36\": 0,\n",
      "    \"bisc_idly0_align_nibble14\": 68,\n",
      "    \"f0_wrdqdbi_stg2_dq_odly_bit12\": 64,\n",
      "    \"f1_wrcmplx_odly_dqs_final_byte2\": 0,\n",
      "    \"rdvref_right_vref_def_nibble03\": 0,\n",
      "    \"f1_rdcmplx_nqtr_left_nibble14\": 0,\n",
      "    \"num_channels\": 1,\n",
      "    \"f1_wrcmplx_odly_dbi_final_byte2\": 0,\n",
      "    \"f0_rdcmplx_pqtr_right_nibble06\": 156,\n",
      "    \"f1_wrdqdbi_stg2_dq_odly_bit42\": 0,\n",
      "    \"f1_wrdqdbi_odly_dq_final_bit08\": 0,\n",
      "    \"f0_wrdqdbi_left_margin_byte3\": 70,\n",
      "    \"f0_rd_simp_fall_ctp_nib_10\": [\n",
      "        95,\n",
      "        186\n",
      "    ],\n",
      "    \"cal_stage_time_54\": 0,\n",
      "    \"f1_wrcmplx_odly_dq_final_bit43\": 0,\n",
      "    \"f0_rdcmplx_pqtr_right_short_nibble00\": 170,\n",
      "    \"bisc_nqtr_nibble00\": 81,\n",
      "    \"f0_wrdqdbi_left_edge_dbi_byte3\": 81,\n",
      "    \"f0_rdcmplx_pqtr_left_short_nibble10\": 22,\n",
      "    \"f0_xpll_divclk_lt\": 1,\n",
      "    \"power_down_exit_restore_error\": 0,\n",
      "    \"f0_dqsgate_stg1_overflow_09\": 0,\n",
      "    \"phy_oe_nib15_dly\": 1,\n",
      "    \"f0_rddq_idelay_final_bit39\": 77,\n",
      "    \"f0_wrlat_phy_oe_nib_final_byte7\": 0,\n",
      "    \"f1_wrdqdbi_left_edge_dq_bit41\": 0,\n",
      "    \"f1_calbisc_rl_dly_nqtr_nibble11\": 0,\n",
      "    \"cal_stage_time_56\": 0,\n",
      "    \"f0_wrdqdbi_stg2_dq_odly_bit55\": 55,\n",
      "    \"cal_stage_time_40\": 0,\n",
      "    \"f1_wrlat_phy_data_nib_final_byte6\": 0,\n",
      "    \"f1_rdcmplx_pqtr_right_short_nibble02\": 0,\n",
      "    \"f0_wrdqdbi_deskew_dbi_odly_fcrse_byte5\": 140,\n",
      "    \"f0_wrdqdbi_odly_dq_final_bit60\": 78,\n",
      "    \"cal_warning_23\": 0,\n",
      "    \"f1_wrlat_phy_oe_nib_final_byte5\": 0,\n",
      "    \"f1_rddq_nqtr_right_nibble03\": 0,\n",
      "    \"cal_warning_67\": 0,\n",
      "    \"f1_wrdqdbi_deskew_dq_odly_fcrse_bit31\": 0,\n",
      "    \"f0_wrdqdbi_deskew_dq_odly_fcrse_bit03\": 145,\n",
      "    \"f1_rddq_nqtr_left_nibble08\": 0,\n",
      "    \"bisc_idly3_align_nibble05\": 81,\n",
      "    \"f0_wrdqdbi_right_margin_fcrse_byte5\": 60,\n",
      "    \"f1_dqsgate_stg1_overflow_57\": 0,\n",
      "    \"f1_wrdqdbi_stg2_dq_odly_bit56\": 0,\n",
      "    \"f1_wrdqdbi_deskew_dq_odly_bit54\": 0,\n",
      "    \"f1_rdprbs_pqtr_right_margin_nibble06\": 0,\n",
      "    \"f0_rddq_idelay_final_bit51\": 70,\n",
      "    \"f0_rd_comp_rise_rm_nib_04\": [\n",
      "        65,\n",
      "        129\n",
      "    ],\n",
      "    \"rdvref_left_vref_final_nibble08\": 0,\n",
      "    \"rdvref_left_vref_final_nibble10\": 0,\n",
      "    \"cal_seq_status_29\": 299,\n",
      "    \"f1_wrdqdbi_stg1_bit_status_byte0\": 0,\n",
      "    \"f0_wrdqdbi_left_edge_dq_bit07\": 73,\n",
      "    \"f0_wrcmplx_odly_dq_final_bit12\": 81,\n",
      "    \"f1_rddq_idelay_final_bit35\": 0,\n",
      "    \"dc0_perf_mon_3\": 0,\n",
      "    \"f0_rd_comp_fall_ctp_nib_01\": [\n",
      "        93,\n",
      "        175\n",
      "    ],\n",
      "    \"vttrack_rldlyqtr_min_nibble00\": 77,\n",
      "    \"cal_seq_status_23\": 294,\n",
      "    \"rdvref_left_vref_upp_bound_nibble01\": 0,\n",
      "    \"f0_wrdqdbi_odly_dq_final_bit32\": 38,\n",
      "    \"rdvref_right_vref_low_bound_nibble02\": 0,\n",
      "    \"f1_dqsgate_stg1_overflow_28\": 0,\n",
      "    \"f1_rddq_pqtr_final_nibble06\": 0,\n",
      "    \"f1_wrcmplx_right_margin_byte7\": 0,\n",
      "    \"f1_dqsgate_stg1_overflow_16\": 0,\n",
      "    \"f0_wrdqdbi_stg2_dq_odly_bit00\": 65,\n",
      "    \"f1_wrcmplx_odly_dq_final_bit18\": 0,\n",
      "    \"f1_dqsgate_stg2_rldlyrnk_crse_rank0_byte4\": 0,\n",
      "    \"f0_wrdqdbi_deskew_dq_odly_fcrse_bit50\": 135,\n",
      "    \"mgchk_def_rd_vref_0\": 373,\n",
      "    \"rdvref_right_vref_def_nibble10\": 0,\n",
      "    \"cal_stage_time_26\": 0,\n",
      "    \"f1_wrdqdbi_odly_dq_final_bit37\": 0,\n",
      "    \"f1_rdcmplx_nqtr_right_nibble12\": 0,\n",
      "    \"f0_rd_comp_fall_ctp_nib_00\": [\n",
      "        90,\n",
      "        174\n",
      "    ],\n",
      "    \"cal_warning_59\": 0,\n",
      "    \"rdvref_left_vref_low_bound_nibble01\": 0,\n",
      "    \"cal_error_data_nibble_17_9\": 0,\n",
      "    \"f0_rdcmplx_nqtr_left_short_nibble10\": 20,\n",
      "    \"f0_rdcmplx_nqtr_final_nibble04\": 92,\n",
      "    \"rdvref_left_vref_final_nibble09\": 0,\n",
      "    \"f0_dqsgate_stg1_overflow_63\": 0,\n",
      "    \"f1_dqsgate_stg1_overflow_33\": 0,\n",
      "    \"f1_wrdqdbi_stg4_dqs_delay_byte0\": 0,\n",
      "    \"f1_wrdqdbi_deskew_dq_odly_bit09\": 0,\n",
      "    \"f0_rdcmplx_idelay_offset_nibble04\": 0,\n",
      "    \"f1_rdcmplx_pqtr_left_nibble01\": 0,\n",
      "    \"f1_rdcmplx_pqtr_right_short_nibble10\": 0,\n",
      "    \"vttrack_rldlyqtr_nibble14\": 80,\n",
      "    \"rdvref_vref_low_bound_nibble13\": 0,\n",
      "    \"rdmargin_nqtr_left_nibble11\": 0,\n",
      "    \"rdmargin_nqtr_right_nibble10\": 0,\n",
      "    \"f1_calbisc_rl_dly_nqtr_nibble05\": 0,\n",
      "    \"f1_wrdqdbi_odly_dq_final_bit34\": 0,\n",
      "    \"f0_rdprbs_nqtr_left_margin_nibble11\": 0,\n",
      "    \"f1_wrdqdbi_odly_dq_final_bit03\": 0,\n",
      "    \"dimm_type\": 1,\n",
      "    \"f0_wrlvl_offset_rank0_byte4\": 82,\n",
      "    \"f0_rddq_nqtr_final_nibble02\": 96,\n",
      "    \"f1_wrlvl_fine_right_rank0_byte4\": 0,\n",
      "    \"f0_rd_comp_fall_rm_nib_04\": [\n",
      "        63,\n",
      "        122\n",
      "    ],\n",
      "    \"f0_wrdqdbi_left_edge_dq_bit31\": 94,\n",
      "    \"f1_rddq_idelay_final_bit62\": 0,\n",
      "    \"phy_rden13_dly\": 22,\n",
      "    \"f0_dqsgate_stg2_read_lat_rank0_byte7\": 28,\n",
      "    \"f1_rdcmplx_nqtr_left_nibble11\": 0,\n",
      "    \"f1_rdcmplx_pqtr_right_short_fcrse_nibble15\": 0,\n",
      "    \"dqstrack_rldlyrnk_crse_byte5\": 2,\n",
      "    \"f0_rdcmplx_nqtr_right_short_nibble13\": 167,\n",
      "    \"ddrmc_isr_uc0_ecc1\": 0,\n",
      "    \"f1_wrdqdbi_deskew_dq_odly_bit12\": 0,\n",
      "    \"f0_wrlvl_fine_left_rank0_byte2\": 37,\n",
      "    \"f1_wrcmplx_odly_dq_final_bit40\": 0,\n",
      "    \"f0_rd_simp_rise_rm_nib_12\": [\n",
      "        80,\n",
      "        156\n",
      "    ],\n",
      "    \"f0_rdcmplx_nqtr_final_nibble15\": 89,\n",
      "    \"f0_wrdqdbi_odly_dq_final_bit19\": 40,\n",
      "    \"bisc_rl_dly_qtr_nibble06\": 80,\n",
      "    \"rdmargin_pqtr_right_nibble11\": 0,\n",
      "    \"f0_wrdqdbi_deskew_dq_odly_fcrse_bit02\": 125,\n",
      "    \"f0_rdcmplx_nqtr_final_nibble12\": 84,\n",
      "    \"f0_rddq_nqtr_final_nibble11\": 99,\n",
      "    \"f1_rddq_nqtr_final_nibble03\": 0,\n",
      "    \"f0_wrdqdbi_left_edge_dq_bit45\": 46,\n",
      "    \"wrvref_right_vref_final_rank0_byte5\": 0,\n",
      "    \"f0_wrdqdbi_stg6_dbi_odly_byte0\": 65,\n",
      "    \"rdvref_right_vref_low_bound_nibble05\": 0,\n",
      "    \"f1_rdcmplx_nqtr_right_nibble05\": 0,\n",
      "    \"f1_wrlvl_crse_final_rank0_byte2\": 0,\n",
      "    \"f0_rdcmplx_nqtr_left_short_nibble08\": 24,\n",
      "    \"bisc_idly5_align_nibble01\": 81,\n",
      "    \"wrvref_left_vref_low_bound_rank0_byte2\": 0,\n",
      "    \"f0_wrdqdbi_deskew_dq_odly_bit05\": 154,\n",
      "    \"f0_dqsgate_stg1_overflow_56\": 0,\n",
      "    \"dc0_perf_mon_2\": 0,\n",
      "    \"f0_wrlvl_noise_fcrse_rank0_byte3\": 85,\n",
      "    \"f1_wrlvl_fine_left_rank0_byte5\": 0,\n",
      "    \"f1_wrdqdbi_deskew_dq_odly_bit26\": 0,\n",
      "    \"rdvref_right_vref_final_nibble15\": 0,\n",
      "    \"f0_rd_comp_rise_lm_nib_06\": [\n",
      "        67,\n",
      "        131\n",
      "    ],\n",
      "    \"f1_wrdqdbi_deskew_dq_odly_bit37\": 0,\n",
      "    \"f0_dqsgate_stg1_rldlyrnk_crse_rank0_byte5\": 14,\n",
      "    \"f0_wrcmplx_odly_dq_final_bit53\": 75,\n",
      "    \"f0_wrdqdbi_stg3_dq_odly_bit63\": 75,\n",
      "    \"f1_wrcmplx_left_margin_fcrse_byte0\": 0,\n",
      "    \"f0_dqsgate_stg1_overflow_31\": 0,\n",
      "    \"f0_wr_simp_rm_byte_06\": [\n",
      "        70,\n",
      "        136\n",
      "    ],\n",
      "    \"f0_dqsgate_rldlyrnk_crse_final_rank0_byte2\": 1,\n",
      "    \"f0_wrdqdbi_stg2_dq_odly_bit08\": 64,\n",
      "    \"f0_wrdqdbi_stg3_dq_odly_bit45\": 60,\n",
      "    \"f0_wrcmplx_left_margin_fcrse_byte4\": 70,\n",
      "    \"mgchk_start\": 0,\n",
      "    \"f0_wr_simp_ctp_byte_06\": [\n",
      "        312,\n",
      "        607\n",
      "    ],\n",
      "    \"bisc_nqtr_nibble08\": 81,\n",
      "    \"wrvref_right_vref_def_rank0_byte7\": 0,\n",
      "    \"f1_wrcmplx_left_margin_byte5\": 0,\n",
      "    \"bisc_idly3_align_nibble03\": 77,\n",
      "    \"f0_wrdqdbi_stg3_dq_odly_bit38\": 33,\n",
      "    \"f1_rddq_pqtr_final_nibble14\": 0,\n",
      "    \"f1_wrdqdbi_stg1_bit_status_byte1\": 0,\n",
      "    \"f1_wrdqdbi_stg2_dq_odly_bit17\": 0,\n",
      "    \"wrvref_vref_low_bound_rank0_byte6\": 0,\n",
      "    \"f0_qtr_time\": 156,\n",
      "    \"f1_mr5_8_0\": 0,\n",
      "    \"cal_error_bit_phy_nibble_13\": 0,\n",
      "    \"f0_wrdqdbi_left_margin_byte2\": 80,\n",
      "    \"f1_wrdqdbi_deskew_dq_odly_bit02\": 0,\n",
      "    \"cal_error_bit_phy_nibble_12\": 0,\n",
      "    \"f1_wrdqdbi_deskew_dbi_odly_byte5\": 0,\n",
      "    \"f1_wrcmplx_odly_dq_final_bit10\": 0,\n",
      "    \"f1_wrdqdbi_right_margin_fcrse_byte7\": 0,\n",
      "    \"f0_dqsgate_stg1_overflow_19\": 0,\n",
      "    \"f1_wrlvl_offset_rank0_byte3\": 0,\n",
      "    \"f0_wrlat_xpi_oe_all_final\": 16,\n",
      "    \"f0_wrcmplx_odly_dq_final_bit55\": 68,\n",
      "    \"f1_wrdqdbi_left_edge_dq_bit53\": 0,\n",
      "    \"f0_wrdqdbi_stg5_dqs_odly_byte3\": 97,\n",
      "    \"f0_rd_simp_rise_ctp_nib_15\": [\n",
      "        94,\n",
      "        188\n",
      "    ],\n",
      "    \"f0_calbisc_rl_dly_qtr_nibble07\": 80,\n",
      "    \"f1_wrlvl_noise_fcrse_rank0_byte2\": 0,\n",
      "    \"f0_wrdqdbi_stg3_dq_odly_bit21\": 39,\n",
      "    \"f0_wrdqdbi_odly_dq_final_bit23\": 48,\n",
      "    \"f0_wrdqdbi_deskew_dq_odly_bit48\": 137,\n",
      "    \"f0_mr0_8_0\": 336,\n",
      "    \"f1_wrdqdbi_right_edge_dqs_byte6\": 0,\n",
      "    \"rdmargin_nqtr_right_nibble11\": 0,\n",
      "    \"bisc_idly2_align_nibble00\": 66,\n",
      "    \"f0_rddq_idelay_final_bit33\": 60,\n",
      "    \"f0_wrdqdbi_deskew_dq_odly_fcrse_bit42\": 130,\n",
      "    \"f1_rdprbs_nqtr_right_margin_nibble02\": 0,\n",
      "    \"f0_wrcmplx_odly_dq_final_bit33\": 33,\n",
      "    \"f0_rddq_nqtr_right_nibble11\": 175,\n",
      "    \"f1_rddq_nqtr_left_nibble00\": 0,\n",
      "    \"bisc_idly2_align_nibble08\": 69,\n",
      "    \"bisc_idly1_align_nibble00\": 69,\n",
      "    \"f0_rdprbs_pqtr_right_margin_nibble11\": 0,\n",
      "    \"rdvref_right_vref_final_nibble06\": 0,\n",
      "    \"f0_wr_simp_ctp_byte_01\": [\n",
      "        323,\n",
      "        623\n",
      "    ],\n",
      "    \"f0_wrdqdbi_right_margin_byte2\": 66,\n",
      "    \"phy_oe_nib12_dly\": 0,\n",
      "    \"traf_power_down_en\": 0,\n",
      "    \"f1_rdcmplx_pqtr_final_nibble11\": 0,\n",
      "    \"f0_wrlvl_crse_final_rank0_byte0\": 2,\n",
      "    \"vttrack_rldlyqtr_max_nibble02\": 84,\n",
      "    \"f0_wrcmplx_odly_dq_final_bit63\": 78,\n",
      "    \"iobmap_dq_41_40\": 0,\n",
      "    \"f0_wrdqdbi_deskew_dq_odly_fcrse_bit45\": 130,\n",
      "    \"f0_wrdqdbi_odly_dbi_final_byte7\": 78,\n",
      "    \"f0_wrcmplx_odly_dq_final_bit59\": 84,\n",
      "    \"f1_rddq_idelay_final_bit41\": 0,\n",
      "    \"rdvref_left_vref_final_nibble06\": 0,\n",
      "    \"bisc_idly1_align_nibble14\": 69,\n",
      "    \"f1_rddq_nqtr_left_nibble13\": 0,\n",
      "    \"ddrmc_isr_na_cmd\": 0,\n",
      "    \"rdvref_right_vref_low_bound_nibble06\": 0,\n",
      "    \"f0_dqsgate_stg1_overflow_61\": 0,\n",
      "    \"f1_wrdqdbi_deskew_dq_odly_bit40\": 0,\n",
      "    \"f1_wrdqdbi_deskew_dbi_odly_fcrse_byte0\": 0,\n",
      "    \"f0_wrdqdbi_deskew_dq_odly_fcrse_bit32\": 103,\n",
      "    \"f0_wrdqdbi_stg6_dbi_odly_byte7\": 75,\n",
      "    \"f0_rdcmplx_pqtr_right_short_nibble09\": 171,\n",
      "    \"bisc_idly5_align_nibble07\": 81,\n",
      "    \"f0_dqsgate_stg1_overflow_21\": 0,\n",
      "    \"bisc_pqtr_align_nibble12\": 1,\n",
      "    \"f0_rddq_idelay_final_bit58\": 69,\n",
      "    \"f1_wrcmplx_odly_dq_final_bit48\": 0,\n",
      "    \"f0_rd_simp_fall_lm_nib_13\": [\n",
      "        73,\n",
      "        141\n",
      "    ],\n",
      "    \"f1_rddq_nqtr_right_nibble07\": 0,\n",
      "    \"f0_dqsgate_stg1_overflow_60\": 0,\n",
      "    \"f0_rdprbs_nqtr_right_margin_nibble02\": 0,\n",
      "    \"f0_wr_comp_lm_byte_05\": [\n",
      "        75,\n",
      "        147\n",
      "    ],\n",
      "    \"cal_stage_time_63\": 0,\n",
      "    \"f1_wrcmplx_odly_dbi_final_byte5\": 0,\n",
      "    \"f0_wrdqdbi_deskew_dq_odly_fcrse_bit22\": 119,\n",
      "    \"f1_dm_dbi_en\": 1,\n",
      "    \"f0_wrdqdbi_odly_dbi_final_byte0\": 65,\n",
      "    \"f1_dqsgate_stg1_overflow_32\": 0,\n",
      "    \"f0_rd_comp_fall_rm_nib_13\": [\n",
      "        61,\n",
      "        118\n",
      "    ],\n",
      "    \"phy_oe_nib14_dly\": 0,\n",
      "    \"f0_rdcmplx_pqtr_right_short_fcrse_nibble03\": 170,\n",
      "    \"f0_wrcmplx_odly_dq_final_bit50\": 69,\n",
      "    \"f1_wrdqdbi_stg1_byte_status_01\": 0,\n",
      "    \"cal_warning_64\": 0,\n",
      "    \"f1_wrlvl_offset_rank0_byte6\": 0,\n",
      "    \"f0_wr_comp_lm_byte_01\": [\n",
      "        71,\n",
      "        137\n",
      "    ],\n",
      "    \"bisc_idly0_align_nibble13\": 71,\n",
      "    \"f0_wrdqdbi_stg3_dq_odly_bit29\": 81,\n",
      "    \"f1_wrlvl_crse_stg1_rank0_byte7\": 0,\n",
      "    \"f1_wrdqdbi_stg3_dq_odly_bit01\": 0,\n",
      "    \"f1_rddq_pqtr_left_nibble15\": 0,\n",
      "    \"f1_calbisc_rl_dly_qtr_nibble04\": 0,\n",
      "    \"f1_wrdqdbi_left_edge_dq_bit37\": 0,\n",
      "    \"max_bytes\": 18,\n",
      "    \"cal_warning_61\": 0,\n",
      "    \"f1_wrdqdbi_deskew_dq_odly_fcrse_bit18\": 0,\n",
      "    \"f0_wrdqdbi_left_margin_byte4\": 74,\n",
      "    \"f0_wrcmplx_odly_dqs_final_byte2\": 55,\n",
      "    \"f0_wrdqdbi_odly_dq_final_bit53\": 73,\n",
      "    \"f1_calbisc_rl_dly_pqtr_nibble08\": 0,\n",
      "    \"mgchk_step\": 0,\n",
      "    \"f0_wrdqdbi_deskew_dq_odly_fcrse_bit04\": 145,\n",
      "    \"f1_rdcmplx_nqtr_right_short_fcrse_nibble13\": 0,\n",
      "    \"rdvref_vref_low_bound_nibble08\": 0,\n",
      "    \"bisc_nqtr_nibble06\": 81,\n",
      "    \"f1_wrdqdbi_odly_dq_final_bit42\": 0,\n",
      "    \"f0_rd_comp_fall_lm_nib_03\": [\n",
      "        63,\n",
      "        122\n",
      "    ],\n",
      "    \"f0_wrdqdbi_stg2_dq_odly_bit03\": 65,\n",
      "    \"phy_rden3_dly\": 27,\n",
      "    \"f0_lp4_mr13\": 0,\n",
      "    \"f1_wrdqdbi_deskew_dq_odly_fcrse_bit06\": 0,\n",
      "    \"f1_rdcmplx_pqtr_left_nibble13\": 0,\n",
      "    \"f1_rdprbs_nqtr_left_margin_nibble15\": 0,\n",
      "    \"f0_rdcmplx_pqtr_right_short_nibble11\": 175,\n",
      "    \"f0_rdprbs_pqtr_left_margin_nibble11\": 0,\n",
      "    \"f0_mr5_17_9\": 2,\n",
      "    \"f0_dqsgate_stg1_overflow_42\": 0,\n",
      "    \"ddrmc_clk_mux\": 1,\n",
      "    \"cal_warning_53\": 0,\n",
      "    \"cal_stage_time_12\": 16,\n",
      "    \"f0_rddq_nqtr_final_nibble09\": 102,\n",
      "    \"f0_wrdqdbi_deskew_dq_odly_bit31\": 164,\n",
      "    \"f0_wrcmplx_odly_dq_final_bit43\": 64,\n",
      "    \"f1_calbisc_rl_dly_qtr_nibble02\": 0,\n",
      "    \"f0_wrdqdbi_deskew_dq_odly_fcrse_bit46\": 140,\n",
      "    \"f1_rddq_pqtr_left_nibble07\": 0,\n",
      "    \"f1_rddq_pqtr_right_fcrse_nibble12\": 0,\n",
      "    \"rdvref_vref_upp_bound_nibble11\": 0,\n",
      "    \"f1_wrdqdbi_deskew_dq_odly_fcrse_bit14\": 0,\n",
      "    \"f1_dqsgate_rldlyrnk_crse_final_rank0_byte5\": 0,\n",
      "    \"rdvref_left_vref_low_bound_nibble06\": 0,\n",
      "    \"bisc_pqtr_nibble02\": 83,\n",
      "    \"f0_dqsgate_stg2_rldlyrnk_crse_rank0_byte3\": 2,\n",
      "    \"f1_rddq_idelay_final_bit03\": 0,\n",
      "    \"phy_oe_nib2_dly\": 1,\n",
      "    \"f1_rddq_pqtr_left_nibble08\": 0,\n",
      "    \"f1_rdcmplx_pqtr_right_short_fcrse_nibble08\": 0,\n",
      "    \"f1_rdcmplx_nqtr_right_short_nibble12\": 0,\n",
      "    \"ub_data_ue\": 0,\n",
      "    \"f0_dqsgate_stg1_overflow_07\": 0,\n",
      "    \"f1_wrdqdbi_deskew_dq_odly_fcrse_bit34\": 0,\n",
      "    \"f0_wrdqdbi_deskew_dq_odly_bit28\": 152,\n",
      "    \"f0_rd_simp_rise_ctp_nib_07\": [\n",
      "        94,\n",
      "        184\n",
      "    ],\n",
      "    \"f0_wrcmplx_odly_dq_final_bit38\": 48,\n",
      "    \"f1_rddq_idelay_final_bit10\": 0,\n",
      "    \"f1_wrdqdbi_stg3_dq_odly_bit56\": 0,\n",
      "    \"f0_wrdqdbi_odly_dq_final_bit55\": 66,\n",
      "    \"f0_calbisc_rl_dly_nqtr_nibble04\": 81,\n",
      "    \"f0_wrdqdbi_stg2_dq_odly_bit61\": 75,\n",
      "    \"f1_wrcmplx_left_margin_fcrse_byte7\": 0,\n",
      "    \"f0_wrlat_match_rank0_byte3\": 17,\n",
      "    \"dc0_perf_mon_4\": 0,\n",
      "    \"f0_wrdqdbi_stg2_dq_odly_bit30\": 81,\n",
      "    \"f0_rddq_nqtr_left_nibble04\": 28,\n",
      "    \"phy_oe_nib8_dly\": 0,\n",
      "    \"ddrmc_isr_dc_cmd1_fatal\": 0,\n",
      "    \"f0_wrdqdbi_stg5_dqs_odly_byte1\": 80,\n",
      "    \"f1_xpll_clkoutfb_lt\": 16,\n",
      "    \"cal_seq_status_31\": 302,\n",
      "    \"f0_wrlat_wldlyrnk_crse_final_rank0_byte4\": 3,\n",
      "    \"phy_oe_nib3_dly\": 1,\n",
      "    \"dqstrack_rldlyrnk_fine_min_byte6\": 80,\n",
      "    \"f0_wrlat_xpi_wrdata_all_final\": 16,\n",
      "    \"f0_mr4_17_9\": 0,\n",
      "    \"f0_wrdqdbi_left_edge_dq_bit20\": 49,\n",
      "    \"f1_rddq_nqtr_right_fcrse_nibble12\": 0,\n",
      "    \"f1_wrcmplx_odly_dq_final_bit15\": 0,\n",
      "    \"f1_wrdqdbi_deskew_dq_odly_fcrse_bit01\": 0,\n",
      "    \"f0_rd_comp_rise_rm_nib_11\": [\n",
      "        70,\n",
      "        138\n",
      "    ],\n",
      "    \"f1_wrcmplx_odly_dq_final_bit38\": 0,\n",
      "    \"f1_wrprbs_right_margin_byte1\": 0,\n",
      "    \"rdvref_left_vref_def_nibble00\": 0,\n",
      "    \"f1_wrdqdbi_left_edge_dq_bit14\": 0,\n",
      "    \"f1_wrdqdbi_left_edge_dq_bit48\": 0,\n",
      "    \"f0_rddq_nqtr_left_nibble11\": 23,\n",
      "    \"f0_wrdqdbi_stg3_dq_odly_bit06\": 65,\n",
      "    \"f1_rdcmplx_nqtr_left_nibble12\": 0,\n",
      "    \"f1_wrcmplx_odly_dbi_final_byte4\": 0,\n",
      "    \"f0_rddq_nqtr_left_nibble03\": 22,\n",
      "    \"f1_wrdqdbi_left_edge_dq_bit30\": 0,\n",
      "    \"f0_wrdqdbi_stg2_dq_odly_bit20\": 39,\n",
      "    \"f0_rddq_qtr_deskew_nibble04\": 1,\n",
      "    \"rdvref_right_vref_def_nibble15\": 0,\n",
      "    \"f1_calbisc_rl_dly_pqtr_nibble10\": 0,\n",
      "    \"bisc_idly1_align_nibble12\": 70,\n",
      "    \"dqstrack_rldlyrnk_fine_byte0\": 3,\n",
      "    \"f0_rddq_pqtr_left_nibble13\": 17,\n",
      "    \"rdvref_right_vref_low_bound_nibble00\": 0,\n",
      "    \"f0_wrdqdbi_left_edge_dq_bit26\": 79,\n",
      "    \"f1_rdcmplx_idelay_offset_nibble02\": 0,\n",
      "    \"f0_rdcmplx_nqtr_left_short_nibble02\": 21,\n",
      "    \"f0_rdcmplx_pqtr_left_nibble05\": 23,\n",
      "    \"f1_wrdqdbi_stg4_dqs_delay_byte7\": 0,\n",
      "    \"ddrmc_pcsr_status_caldone\": 1,\n",
      "    \"ub_instr_ce\": 0,\n",
      "    \"f0_rddq_pqtr_left_nibble15\": 17,\n",
      "    \"cal_warning_31\": 0,\n",
      "    \"dqstrack_rldlyrnk_fine_byte4\": 39,\n",
      "    \"f0_wrcmplx_odly_dq_final_bit27\": 102,\n",
      "    \"f0_rd_simp_fall_lm_nib_03\": [\n",
      "        76,\n",
      "        147\n",
      "    ],\n",
      "    \"cal_warning_18\": 0,\n",
      "    \"rdvref_left_vref_upp_bound_nibble03\": 0,\n",
      "    \"rdvref_vref_low_bound_nibble09\": 0,\n",
      "    \"f0_rdcmplx_pqtr_final_nibble08\": 88,\n",
      "    \"f0_wrdqdbi_deskew_dq_odly_bit36\": 110,\n",
      "    \"f1_wrdqdbi_stg1_dqs_delay_byte4\": 0,\n",
      "    \"wrvref_left_vref_def_rank0_byte2\": 0,\n",
      "    \"cal_post_status_04\": 0,\n",
      "    \"f0_wrdqdbi_deskew_dq_odly_fcrse_bit17\": 109,\n",
      "    \"f0_rdcmplx_nqtr_right_short_fcrse_nibble05\": 183,\n",
      "    \"bisc_pqtr_align_nibble14\": 1,\n",
      "    \"f1_dqsgate_stg2_rldlyrnk_crse_rank0_byte7\": 0,\n",
      "    \"f1_wrdqdbi_stg2_dq_odly_bit20\": 0,\n",
      "    \"pinout_select\": 17,\n",
      "    \"wrvref_right_vref_upp_bound_rank0_byte5\": 0,\n",
      "    \"f1_wrprbs_right_margin_byte7\": 0,\n",
      "    \"f1_rddq_idelay_final_bit15\": 0,\n",
      "    \"bisc_idly1_align_nibble13\": 76,\n",
      "    \"wrvref_right_vref_def_rank0_byte5\": 0,\n",
      "    \"f0_wrlvl_noise_fcrse_rank0_byte6\": 55,\n",
      "    \"f0_rd_comp_fall_lm_nib_15\": [\n",
      "        63,\n",
      "        122\n",
      "    ],\n",
      "    \"f1_wrcmplx_left_margin_fcrse_byte1\": 0,\n",
      "    \"wrvref_right_vref_final_rank0_byte1\": 0,\n",
      "    \"phy_oe_nib20_dly\": 1,\n",
      "    \"f0_rd_comp_rise_ctp_nib_05\": [\n",
      "        90,\n",
      "        171\n",
      "    ],\n",
      "    \"f1_rdprbs_nqtr_right_margin_nibble11\": 0,\n",
      "    \"f0_calbisc_rl_dly_qtr_nibble05\": 82,\n",
      "    \"wrvref_vref_low_bound_rank0_byte7\": 0,\n",
      "    \"0x3c_EN_VT_TRACK\": \"Pass\",\n",
      "    \"f0_rd_simp_rise_lm_nib_07\": [\n",
      "        77,\n",
      "        150\n",
      "    ],\n",
      "    \"iobmap_dq_21_20\": 0,\n",
      "    \"ip_config_ver\": 1,\n",
      "    \"f0_wrdqdbi_deskew_dq_odly_bit35\": 97,\n",
      "    \"f0_wrcmplx_odly_dqs_final_byte7\": 91,\n",
      "    \"f0_rdprbs_pqtr_left_margin_nibble00\": 0,\n",
      "    \"f0_rdprbs_pqtr_left_margin_nibble05\": 0,\n",
      "    \"f0_rdprbs_pqtr_right_margin_nibble00\": 0,\n",
      "    \"f1_wrdqdbi_stg2_dq_odly_bit15\": 0,\n",
      "    \"f1_rddq_pqtr_left_nibble12\": 0,\n",
      "    \"f1_rddq_idelay_final_bit50\": 0,\n",
      "    \"bisc_pqtr_nibble07\": 81,\n",
      "    \"dqstrack_rldlyrnk_crse_min_byte7\": 5,\n",
      "    \"f1_wrdqdbi_stg2_dq_odly_bit09\": 0,\n",
      "    \"f1_rdcmplx_pqtr_right_nibble04\": 0,\n",
      "    \"bisc_idly4_align_nibble01\": 80,\n",
      "    \"f0_dqsgate_stg1_overflow_52\": 0,\n",
      "    \"f1_rdcmplx_pqtr_left_short_nibble00\": 0,\n",
      "    \"f0_wrdqdbi_right_margin_byte5\": 67,\n",
      "    \"f0_wrdqdbi_left_edge_dq_bit54\": 63,\n",
      "    \"f1_rddq_pqtr_right_nibble15\": 0,\n",
      "    \"f0_rd_simp_rise_ctp_nib_00\": [\n",
      "        94,\n",
      "        184\n",
      "    ],\n",
      "    \"cal_error_sub_stage\": 0,\n",
      "    \"f1_wrdqdbi_odly_dq_final_bit09\": 0,\n",
      "    \"f0_rd_simp_rise_rm_nib_07\": [\n",
      "        77,\n",
      "        150\n",
      "    ],\n",
      "    \"f0_rddq_nqtr_final_nibble06\": 95,\n",
      "    \"f0_rdcmplx_pqtr_left_short_nibble13\": 25,\n",
      "    \"f0_wrdqdbi_deskew_dq_odly_bit47\": 138,\n",
      "    \"f0_wrcmplx_right_margin_fcrse_byte2\": 60,\n",
      "    \"f0_rddq_nqtr_right_fcrse_nibble11\": 178,\n",
      "    \"f0_wrdqdbi_deskew_dq_odly_bit50\": 141,\n",
      "    \"f0_wrdqdbi_right_edge_dqs_byte0\": 158,\n",
      "    \"f1_rdcmplx_pqtr_final_nibble09\": 0,\n",
      "    \"f1_wrdqdbi_deskew_dq_odly_fcrse_bit45\": 0,\n",
      "    \"f0_rdprbs_nqtr_right_margin_nibble13\": 0,\n",
      "    \"f0_rddq_pqtr_final_nibble07\": 94,\n",
      "    \"f0_rdcmplx_pqtr_final_nibble00\": 93,\n",
      "    \"cal_warning_55\": 0,\n",
      "    \"f0_rd_simp_rise_rm_nib_09\": [\n",
      "        77,\n",
      "        152\n",
      "    ],\n",
      "    \"bisc_pqtr_align_nibble07\": 0,\n",
      "    \"dc0_perf_mon_5\": 0,\n",
      "    \"f0_wrdqdbi_stg3_dq_odly_bit37\": 33,\n",
      "    \"f0_wrdqdbi_odly_dq_final_bit20\": 56,\n",
      "    \"cal_seq_status_11\": 397,\n",
      "    \"f0_rddq_nqtr_right_nibble15\": 174,\n",
      "    \"f0_rd_comp_rise_lm_nib_08\": [\n",
      "        65,\n",
      "        125\n",
      "    ],\n",
      "    \"f0_wrdqdbi_deskew_dq_odly_bit17\": 108,\n",
      "    \"f1_wrdqdbi_odly_dq_final_bit32\": 0,\n",
      "    \"cal_stage_time_47\": 0,\n",
      "    \"f0_wrcmplx_odly_dq_final_bit23\": 51,\n",
      "    \"f1_wrdqdbi_deskew_dq_odly_bit28\": 0,\n",
      "    \"f0_calbisc_rl_dly_pqtr_nibble08\": 81,\n",
      "    \"f1_dqsgate_stg1_rldlyrnk_crse_rank0_byte7\": 0,\n",
      "    \"f1_dqsgate_stg1_overflow_53\": 0,\n",
      "    \"f1_rddq_nqtr_final_nibble01\": 0,\n",
      "    \"dqstrack_rldlyrnk_fine_byte2\": 42,\n",
      "    \"rdvref_right_vref_final_nibble01\": 0,\n",
      "    \"f0_wrlat_match_rank0_byte6\": 17,\n",
      "    \"f1_wrdqdbi_stg2_dq_odly_bit43\": 0,\n",
      "    \"f0_dqsgate_stg1_overflow_48\": 0,\n",
      "    \"f0_wr_comp_ctp_byte_03\": [\n",
      "        103,\n",
      "        201\n",
      "    ],\n",
      "    \"f0_rddq_idelay_final_bit23\": 83,\n",
      "    \"f0_wrcmplx_odly_dqs_final_byte6\": 71,\n",
      "    \"f0_rd_simp_rise_lm_nib_05\": [\n",
      "        79,\n",
      "        151\n",
      "    ],\n",
      "    \"bisc_idly4_align_nibble06\": 72,\n",
      "    \"f1_wrlvl_crse_stg1_rank0_byte5\": 0,\n",
      "    \"f1_rdcmplx_nqtr_right_short_fcrse_nibble05\": 0,\n",
      "    \"f0_dqsgate_stg2_rldlyrnk_crse_rank0_byte2\": 1,\n",
      "    \"wrvref_left_vref_low_bound_rank0_byte4\": 0,\n",
      "    \"f0_rddq_idelay_final_bit26\": 67,\n",
      "    \"f1_rddq_nqtr_right_fcrse_nibble00\": 0,\n",
      "    \"f1_wrprbs_right_margin_byte6\": 0,\n",
      "    \"f0_wrcmplx_right_margin_fcrse_byte4\": 50,\n",
      "    \"f1_rddq_idelay_final_bit05\": 0,\n",
      "    \"f1_rdcmplx_nqtr_right_short_nibble02\": 0,\n",
      "    \"f0_rddq_nqtr_final_nibble07\": 96,\n",
      "    \"f1_rdcmplx_nqtr_right_short_nibble09\": 0,\n",
      "    \"f0_wrlat_phy_data_nib_final_byte7\": 1,\n",
      "    \"f0_rd_simp_fall_lm_nib_02\": [\n",
      "        76,\n",
      "        145\n",
      "    ],\n",
      "    \"f1_rddq_idelay_final_bit53\": 0,\n",
      "    \"bisc_rl_dly_qtr_nibble12\": 81,\n",
      "    \"mgchk_ack\": 0,\n",
      "    \"f1_wrdqdbi_deskew_dq_odly_fcrse_bit09\": 0,\n",
      "    \"f1_wrdqdbi_odly_dq_final_bit25\": 0,\n",
      "    \"bisc_pqtr_align_nibble15\": 0,\n",
      "    \"f0_rdprbs_nqtr_left_margin_nibble08\": 0,\n",
      "    \"f0_rd_comp_fall_rm_nib_01\": [\n",
      "        63,\n",
      "        119\n",
      "    ],\n",
      "    \"bisc_pqtr_nibble12\": 81,\n",
      "    \"wrvref_vref_low_bound_rank0_byte5\": 0,\n",
      "    \"f1_wrlvl_fine_left_rank0_byte0\": 0,\n",
      "    \"f0_rdcmplx_pqtr_left_short_nibble00\": 24,\n",
      "    \"f0_rd_simp_rise_lm_nib_13\": [\n",
      "        82,\n",
      "        160\n",
      "    ],\n",
      "    \"cal_seq_status_34\": 305,\n",
      "    \"f0_dqsgate_stg1_read_lat_rank0_byte1\": 24,\n",
      "    \"cal_stage_ran\": 63,\n",
      "    \"wrmargin_left_byte2\": 0,\n",
      "    \"f0_wrdqdbi_odly_dq_final_bit07\": 73,\n",
      "    \"f1_wrcmplx_odly_dq_final_bit04\": 0,\n",
      "    \"rdmargin_nqtr_left_nibble09\": 0,\n",
      "    \"f0_wrdqdbi_deskew_dq_odly_fcrse_bit06\": 155,\n",
      "    \"cal_warning_48\": 0,\n",
      "    \"f1_dqsgate_stg1_rldlyrnk_fine_rank0_byte4\": 0,\n",
      "    \"iobmap_dqs_13\": 0,\n",
      "    \"f0_rdprbs_nqtr_right_margin_nibble03\": 0,\n",
      "    \"f0_wrdqdbi_deskew_dq_odly_fcrse_bit12\": 144,\n",
      "    \"f0_rd_simp_fall_lm_nib_09\": [\n",
      "        74,\n",
      "        141\n",
      "    ],\n",
      "    \"f0_rdcmplx_pqtr_left_nibble00\": 26,\n",
      "    \"f0_wrlat_wldlyrnk_crse_final_rank0_byte1\": 3,\n",
      "    \"f0_rdcmplx_pqtr_right_short_fcrse_nibble06\": 176,\n",
      "    \"cal_seq_status_04\": 262,\n",
      "    \"f1_wrdqdbi_stg2_dq_odly_bit60\": 0,\n",
      "    \"rdvref_right_vref_upp_bound_nibble12\": 0,\n",
      "    \"f0_rdcmplx_nqtr_right_short_nibble03\": 170,\n",
      "    \"vttrack_rldlyqtr_nibble08\": 80,\n",
      "    \"f0_wrlvl_fine_right_rank0_byte5\": 63,\n",
      "    \"f0_rdcmplx_pqtr_right_nibble01\": 170,\n",
      "    \"bisc_nqtr_align_nibble00\": 0,\n",
      "    \"f0_rdcmplx_pqtr_right_short_nibble14\": 170,\n",
      "    \"rdmargin_pqtr_left_nibble08\": 0,\n",
      "    \"f1_wrprbs_left_margin_byte5\": 0,\n",
      "    \"rdmargin_nqtr_right_nibble14\": 0,\n",
      "    \"f1_wrdqdbi_left_edge_dq_bit21\": 0,\n",
      "    \"f0_wrlvl_fine_left_rank0_byte0\": 64,\n",
      "    \"f1_wrdqdbi_stg3_dq_odly_bit04\": 0,\n",
      "    \"f0_rdcmplx_nqtr_final_nibble06\": 83,\n",
      "    \"f1_rdcmplx_nqtr_right_short_fcrse_nibble14\": 0,\n",
      "    \"f1_rdcmplx_nqtr_left_nibble09\": 0,\n",
      "    \"f0_rddq_nqtr_left_nibble15\": 22,\n",
      "    \"f0_dqsgate_stg1_overflow_49\": 0,\n",
      "    \"f1_wrdqdbi_stg1_dqs_delay_byte5\": 0,\n",
      "    \"ddrmc_isr_na_cmd0\": 0,\n",
      "    \"f0_wrdqdbi_stg1_bit_status_byte5\": 0,\n",
      "    \"f1_rdcmplx_nqtr_right_nibble07\": 0,\n",
      "    \"f1_wrlat_wldlyrnk_crse_final_rank0_byte1\": 0,\n",
      "    \"f0_dqsgate_stg1_overflow_11\": 0,\n",
      "    \"cal_seq_status_40\": 445,\n",
      "    \"f1_dqsgate_stg1_rldlyrnk_fine_rank0_byte2\": 0,\n",
      "    \"bisc_idly0_align_nibble12\": 68,\n",
      "    \"f0_rdprbs_nqtr_right_margin_nibble14\": 0,\n",
      "    \"f1_dqsgate_stg1_overflow_02\": 0,\n",
      "    \"dqstrack_rldlyrnk_crse_max_byte6\": 4,\n",
      "    \"f1_wrdqdbi_left_margin_byte5\": 0,\n",
      "    \"iobmap_dqs_4\": 0,\n",
      "    \"f0_rdcmplx_nqtr_right_nibble09\": 150,\n",
      "    \"cal_seq_status_16\": 274,\n",
      "    \"f1_rddq_nqtr_final_nibble04\": 0,\n",
      "    \"rdvref_left_vref_def_nibble11\": 0,\n",
      "    \"f0_wrdqdbi_odly_dq_final_bit58\": 67,\n",
      "    \"f0_dqsgate_stg1_read_lat_rank0_byte5\": 24,\n",
      "    \"f0_wrlat_match_rank0_byte0\": 16,\n",
      "    \"f1_wrdqdbi_deskew_dq_odly_bit17\": 0,\n",
      "    \"f1_wrdqdbi_stg6_dbi_odly_byte0\": 0,\n",
      "    \"f1_calbisc_rl_dly_nqtr_nibble12\": 0,\n",
      "    \"f0_rd_simp_fall_rm_nib_00\": [\n",
      "        76,\n",
      "        147\n",
      "    ],\n",
      "    \"f0_wrdqdbi_stg1_byte_status_00\": 511,\n",
      "    \"f0_wrdqdbi_stg1_bit_status_byte3\": 0,\n",
      "    \"wrvref_vref_low_bound_rank0_byte2\": 0,\n",
      "    \"f0_rddq_pqtr_final_nibble01\": 94,\n",
      "    \"f0_dram_2t_mode\": 0,\n",
      "    \"wrvref_right_vref_upp_bound_rank0_byte4\": 0,\n",
      "    \"f1_dqsgate_stg2_read_lat_rank0_byte0\": 0,\n",
      "    \"cal_pointer\": 447,\n",
      "    \"f0_rddq_pqtr_final_nibble12\": 96,\n",
      "    \"f1_wrcmplx_odly_dq_final_bit30\": 0,\n",
      "    \"xpi_map_bitslip\": 0,\n",
      "    \"ddrmc_isr_dram_parity_fatal_0\": 0,\n",
      "    \"wrvref_right_vref_upp_bound_rank0_byte7\": 0,\n",
      "    \"f0_rd_simp_fall_ctp_nib_01\": [\n",
      "        103,\n",
      "        194\n",
      "    ],\n",
      "    \"f0_wrlvl_fine_right_rank0_byte3\": 83,\n",
      "    \"rdmargin_pqtr_right_nibble09\": 0,\n",
      "    \"f0_rdcmplx_idelay_offset_nibble15\": 0,\n",
      "    \"f0_calbisc_rl_dly_qtr_nibble15\": 79,\n",
      "    \"f0_rddq_pqtr_final_nibble11\": 96,\n",
      "    \"f0_rdcmplx_pqtr_right_short_fcrse_nibble13\": 182,\n",
      "    \"f1_calbisc_rl_dly_qtr_nibble09\": 0,\n",
      "    \"f1_wrdqdbi_left_edge_dq_bit28\": 0,\n",
      "    \"ub_isr_watchdog\": 0,\n",
      "    \"f0_rddq_pqtr_right_fcrse_nibble04\": 182,\n",
      "    \"f0_wrdqdbi_stg2_dq_odly_bit43\": 60,\n",
      "    \"xpi_wrdata_all_nib_dly\": 16,\n",
      "    \"f0_wrdqdbi_deskew_dq_odly_bit24\": 153,\n",
      "    \"f0_wrdqdbi_left_edge_dq_bit17\": 28,\n",
      "    \"cal_warning_29\": 0,\n",
      "    \"f1_calbisc_rl_dly_pqtr_nibble14\": 0,\n",
      "    \"f0_wrdqdbi_left_edge_dq_bit13\": 59,\n",
      "    \"f0_rddq_pqtr_final_nibble05\": 96,\n",
      "    \"f1_rddq_nqtr_right_fcrse_nibble13\": 0,\n",
      "    \"cal_pre_status_8_0\": 255,\n",
      "    \"rdvref_vref_low_bound_nibble05\": 0,\n",
      "    \"f0_wrdqdbi_deskew_dq_odly_fcrse_bit53\": 145,\n",
      "    \"f1_rdprbs_nqtr_left_margin_nibble14\": 0,\n",
      "    \"scrub_en\": 0,\n",
      "    \"wrvref_left_vref_final_rank0_byte2\": 0,\n",
      "    \"f0_dqsgate_stg1_rldlyrnk_crse_rank0_byte3\": 10,\n",
      "    \"f0_wrdqdbi_deskew_dq_odly_bit46\": 148,\n",
      "    \"f0_wrcmplx_odly_dqs_final_byte5\": 76,\n",
      "    \"dqstrack_rldlyrnk_crse_byte7\": 5,\n",
      "    \"f1_wrdqdbi_odly_dq_final_bit26\": 0,\n",
      "    \"f0_rd_simp_fall_rm_nib_06\": [\n",
      "        76,\n",
      "        147\n",
      "    ],\n",
      "    \"f0_wrdqdbi_odly_dq_final_bit57\": 72,\n",
      "    \"f1_rddq_pqtr_left_nibble00\": 0,\n",
      "    \"f1_wrdqdbi_deskew_dq_odly_bit31\": 0,\n",
      "    \"rdmargin_pqtr_right_nibble10\": 0,\n",
      "    \"f0_wrlvl_fine_final_rank0_byte2\": 39,\n",
      "    \"rdvref_vref_low_bound_nibble10\": 0,\n",
      "    \"cal_error_bit_phy_nibble_16\": 0,\n",
      "    \"f0_calbisc_rl_dly_pqtr_nibble09\": 79,\n",
      "    \"vttrack_rldlyqtr_nibble13\": 79,\n",
      "    \"f1_wrlvl_crse_final_rank0_byte0\": 0,\n",
      "    \"f0_wrlat_phy_data_nib_final_byte3\": 1,\n",
      "    \"f1_rddq_pqtr_right_nibble08\": 0,\n",
      "    \"f1_wrdqdbi_odly_dbi_final_byte6\": 0,\n",
      "    \"f0_wrdqdbi_stg2_dq_odly_bit18\": 39,\n",
      "    \"f0_wrcmplx_right_margin_fcrse_byte7\": 50,\n",
      "    \"f1_rddq_pqtr_final_nibble10\": 0,\n",
      "    \"cal_error_bit_phy_nibble_01\": 0,\n",
      "    \"cal_warning_43\": 0,\n",
      "    \"f0_wrdqdbi_stg4_dqs_delay_byte2\": 14,\n",
      "    \"f0_rdcmplx_idelay_offset_nibble05\": 0,\n",
      "    \"f0_rcd_rc3x\": 0,\n",
      "    \"rdvref_left_vref_final_nibble12\": 0,\n",
      "    \"bisc_idly1_align_nibble01\": 78,\n",
      "    \"f1_mr6_17_9\": 0,\n",
      "    \"f0_wrdqdbi_left_edge_dq_bit28\": 82,\n",
      "    \"f1_rddq_idelay_final_bit51\": 0,\n",
      "    \"f1_rddq_pqtr_final_nibble13\": 0,\n",
      "    \"f1_wrdqdbi_deskew_dq_odly_bit39\": 0,\n",
      "    \"bisc_mon_align_nibble07\": 0,\n",
      "    \"bisc_idly0_align_nibble09\": 77,\n",
      "    \"f1_rdcmplx_pqtr_right_nibble02\": 0,\n",
      "    \"cal_stage_time_55\": 0,\n",
      "    \"f1_dqsgate_rldlyrnk_crse_final_rank0_byte4\": 0,\n",
      "    \"cal_stage_time_09\": 0,\n",
      "    \"dqstrack_rldlyrnk_fine_min_byte5\": 39,\n",
      "    \"f1_rdprbs_pqtr_left_margin_nibble05\": 0,\n",
      "    \"0x0c_F0_WRITE_LEVELING\": \"Pass\",\n",
      "    \"f0_wrdqdbi_stg4_dqs_delay_byte6\": 14,\n",
      "    \"f1_wrcmplx_odly_dq_final_bit51\": 0,\n",
      "    \"f1_wrcmplx_odly_dq_final_bit20\": 0,\n",
      "    \"f1_rddq_nqtr_right_fcrse_nibble08\": 0,\n",
      "    \"cal_error_bit_phy_nibble_19\": 0,\n",
      "    \"f0_dqsgate_stg1_rldlyrnk_fine_rank0_byte1\": 66,\n",
      "    \"bisc_pqtr_nibble05\": 82,\n",
      "    \"cal_status_cal_done\": 1,\n",
      "    \"f0_wrdqdbi_left_edge_dq_bit32\": 38,\n",
      "    \"f0_rd_simp_fall_rm_nib_03\": [\n",
      "        76,\n",
      "        147\n",
      "    ],\n",
      "    \"rdvref_vref_upp_bound_nibble07\": 0,\n",
      "    \"f0_wrdqdbi_left_edge_dq_bit36\": 36,\n",
      "    \"f1_wrdqdbi_deskew_dq_odly_bit21\": 0,\n",
      "    \"f0_wrcmplx_odly_dq_final_bit42\": 66,\n",
      "    \"f1_rddq_idelay_final_bit32\": 0,\n",
      "    \"f1_rdcmplx_nqtr_final_nibble09\": 0,\n",
      "    \"bisc_idly0_align_nibble01\": 76,\n",
      "    \"f1_dqsgate_stg1_overflow_42\": 0,\n",
      "    \"rdvref_left_vref_upp_bound_nibble11\": 0,\n",
      "    \"f1_wrlvl_crse_final_rank0_byte1\": 0,\n",
      "    \"0x00_F0_PHY_BISC\": \"Pass\",\n",
      "    \"f1_rddq_pqtr_left_nibble13\": 0,\n",
      "    \"f1_wrdqdbi_stg2_dq_odly_bit26\": 0,\n",
      "    \"f0_wrdqdbi_deskew_dq_odly_bit44\": 152,\n",
      "    \"f0_wrcmplx_odly_dqs_final_byte1\": 80,\n",
      "    \"f0_wrdqdbi_left_edge_dq_bit35\": 23,\n",
      "    \"rdvref_vref_low_bound_nibble15\": 0,\n",
      "    \"f1_rdcmplx_nqtr_final_nibble08\": 0,\n",
      "    \"f0_wrdqdbi_deskew_dbi_odly_byte4\": 107,\n",
      "    \"cal_error_bit_phy_nibble_24\": 0,\n",
      "    \"f1_dqsgate_stg1_overflow_06\": 0,\n",
      "    \"f1_rddq_idelay_final_bit55\": 0,\n",
      "    \"rdmargin_pqtr_left_nibble09\": 0,\n",
      "    \"wrvref_right_vref_final_rank0_byte3\": 0,\n",
      "    \"f1_wrdqdbi_right_margin_fcrse_byte2\": 0,\n",
      "    \"f1_rdprbs_pqtr_right_margin_nibble04\": 0,\n",
      "    \"bisc_idly3_align_nibble12\": 70,\n",
      "    \"rdvref_vref_final_nibble07\": 0,\n",
      "    \"f0_wrcmplx_odly_dq_final_bit14\": 75,\n",
      "    \"f0_rdprbs_nqtr_right_margin_nibble12\": 0,\n",
      "    \"f1_rdcmplx_nqtr_final_nibble06\": 0,\n",
      "    \"f0_wrdqdbi_stg2_dq_odly_bit22\": 39,\n",
      "    \"f1_wrcmplx_right_margin_fcrse_byte0\": 0,\n",
      "    \"f1_wrdqdbi_left_edge_dq_bit45\": 0,\n",
      "    \"dqstrack_rldlyrnk_fine_byte5\": 34,\n",
      "    \"f1_wrdqdbi_deskew_dq_odly_bit23\": 0,\n",
      "    \"f1_rddq_idelay_final_bit26\": 0,\n",
      "    \"f0_wrcmplx_odly_dq_final_bit21\": 51,\n",
      "    \"cal_seq_status_30\": 301,\n",
      "    \"rdmargin_pqtr_right_nibble13\": 0,\n",
      "    \"f1_wrdqdbi_odly_dq_final_bit47\": 0,\n",
      "    \"f0_dqsgate_stg1_overflow_02\": 255,\n",
      "    \"cal_error_bit_phy_nibble_15\": 0,\n",
      "    \"rdvref_vref_low_bound_nibble01\": 0,\n",
      "    \"f0_wrdqdbi_odly_dq_final_bit18\": 44,\n",
      "    \"f1_wrlat_match_rank0_byte1\": 0,\n",
      "    \"phy_rden26_dly\": 22,\n",
      "    \"f0_dqsgate_stg1_overflow_55\": 0,\n",
      "    \"f1_wrlvl_fine_left_rank0_byte1\": 0,\n",
      "    \"f1_wrcmplx_left_margin_fcrse_byte3\": 0,\n",
      "    \"f1_dqsgate_read_lat_final_byte1\": 0,\n",
      "    \"cal_seq_status_25\": 296,\n",
      "    \"f1_wrdqdbi_left_edge_dq_bit46\": 0,\n",
      "    \"f1_rdcmplx_pqtr_right_nibble12\": 0,\n",
      "    \"f1_wrdqdbi_stg4_dqs_delay_byte3\": 0,\n",
      "    \"f1_rdprbs_pqtr_left_margin_nibble00\": 0,\n",
      "    \"f1_rdcmplx_pqtr_final_nibble05\": 0,\n",
      "    \"f0_wr_simp_lm_byte_05\": [\n",
      "        86,\n",
      "        169\n",
      "    ],\n",
      "    \"f0_calbisc_rl_dly_pqtr_nibble07\": 80,\n",
      "    \"f1_wrdqdbi_deskew_dq_odly_bit27\": 0,\n",
      "    \"f1_rddq_nqtr_right_fcrse_nibble02\": 0,\n",
      "    \"f1_wrdqdbi_odly_dbi_final_byte0\": 0,\n",
      "    \"f0_rddq_nqtr_final_nibble05\": 102,\n",
      "    \"f1_dqsgate_stg2_read_lat_rank0_byte6\": 0,\n",
      "    \"f0_rddq_nqtr_left_nibble10\": 19,\n",
      "    \"f0_dqsgate_read_lat_final_byte3\": 26,\n",
      "    \"ub_isr_calerror\": 0,\n",
      "    \"rdmargin_nqtr_left_nibble06\": 0,\n",
      "    \"es_vref_max\": 473,\n",
      "    \"bisc_idly4_align_nibble11\": 77,\n",
      "    \"f0_rd_simp_fall_lm_nib_15\": [\n",
      "        76,\n",
      "        147\n",
      "    ],\n",
      "    \"f0_rdcmplx_nqtr_left_nibble11\": 25,\n",
      "    \"f0_rdcmplx_pqtr_final_nibble09\": 93,\n",
      "    \"f1_rdcmplx_nqtr_right_short_fcrse_nibble11\": 0,\n",
      "    \"f1_rdcmplx_nqtr_left_short_nibble14\": 0,\n",
      "    \"f0_rddq_pqtr_right_fcrse_nibble03\": 172,\n",
      "    \"cal_stage_time_42\": 0,\n",
      "    \"f1_wrdqdbi_left_edge_dbi_byte3\": 0,\n",
      "    \"f1_dqsgate_max_read_lat\": 0,\n",
      "    \"f1_rddq_nqtr_right_nibble15\": 0,\n",
      "    \"f0_rd_comp_fall_ctp_nib_10\": [\n",
      "        83,\n",
      "        162\n",
      "    ],\n",
      "    \"f1_rddq_pqtr_final_nibble04\": 0,\n",
      "    \"f1_rddq_nqtr_final_nibble00\": 0,\n",
      "    \"wrvref_left_vref_def_rank0_byte3\": 0,\n",
      "    \"cal_seq_status_48\": 0,\n",
      "    \"f0_read_latency\": 1,\n",
      "    \"f0_wrlvl_crse_final_rank0_byte5\": 3,\n",
      "    \"f1_wrdqdbi_deskew_dq_odly_fcrse_bit28\": 0,\n",
      "    \"f0_wrdqdbi_right_margin_byte6\": 70,\n",
      "    \"f1_wrdqdbi_deskew_dq_odly_fcrse_bit23\": 0,\n",
      "    \"f0_rdprbs_nqtr_left_margin_nibble04\": 0,\n",
      "    \"bisc_nqtr_align_nibble11\": 2,\n",
      "    \"f0_wrcmplx_odly_dq_final_bit31\": 102,\n",
      "    \"f0_rdcmplx_pqtr_right_nibble07\": 159,\n",
      "    \"f1_calbisc_rl_dly_nqtr_nibble10\": 0,\n",
      "    \"f0_wrdqdbi_stg1_dqs_delay_byte2\": 55,\n",
      "    \"f0_dqsgate_stg2_rldlyrnk_crse_rank0_byte0\": 0,\n",
      "    \"f0_wr_comp_ctp_byte_05\": [\n",
      "        314,\n",
      "        618\n",
      "    ],\n",
      "    \"f0_db_f0bc6x\": 0,\n",
      "    \"f0_wrcmplx_left_margin_byte4\": 75,\n",
      "    \"f1_wrdqdbi_odly_dq_final_bit40\": 0,\n",
      "    \"f1_calbisc_rl_dly_pqtr_nibble15\": 0,\n",
      "    \"cal_stage_time_48\": 0,\n",
      "    \"f1_wrcmplx_right_margin_fcrse_byte1\": 0,\n",
      "    \"cal_stage.12_CAL_DONE\": \"Pass\",\n",
      "    \"f1_rddq_idelay_final_bit12\": 0,\n",
      "    \"cal_seq_status_26\": 297,\n",
      "    \"f0_wrcmplx_odly_dq_final_bit16\": 52,\n",
      "    \"f0_wrdqdbi_stg3_dq_odly_bit20\": 39,\n",
      "    \"f1_lp4_mr12\": 0,\n",
      "    \"f0_wrdqdbi_left_edge_dbi_byte0\": 65,\n",
      "    \"f1_wrdqdbi_stg2_dq_odly_bit32\": 0,\n",
      "    \"bisc_nqtr_align_nibble09\": 0,\n",
      "    \"f1_wrlat_wldlyrnk_crse_final_rank0_byte0\": 0,\n",
      "    \"f0_rddq_nqtr_right_nibble03\": 174,\n",
      "    \"f0_wrdqdbi_deskew_dq_odly_fcrse_bit61\": 155,\n",
      "    \"f1_wrdqdbi_stg2_dq_odly_bit49\": 0,\n",
      "    \"f0_rddq_pqtr_right_fcrse_nibble05\": 182,\n",
      "    \"f0_wrdqdbi_odly_dq_final_bit28\": 82,\n",
      "    \"f1_rdcmplx_nqtr_left_nibble15\": 0,\n",
      "    \"f0_par_alert_en\": 1,\n",
      "    \"f1_wrdqdbi_deskew_dq_odly_bit61\": 0,\n",
      "    \"f0_rddq_idelay_final_bit00\": 77,\n",
      "    \"f0_wrcmplx_odly_dq_final_bit01\": 68,\n",
      "    \"f1_rdcmplx_pqtr_final_nibble15\": 0,\n",
      "    \"iobmap_dq_45_44\": 0,\n",
      "    \"pcsr_control_ub_init\": 1,\n",
      "    \"f0_wrcmplx_odly_dbi_final_byte3\": 89,\n",
      "    \"f0_wrdqdbi_deskew_dq_odly_bit40\": 148,\n",
      "    \"f0_wrdqdbi_odly_dq_final_bit42\": 60,\n",
      "    \"f0_wrdqdbi_deskew_dq_odly_bit12\": 153,\n",
      "    \"iobmap_dqs_6\": 0,\n",
      "    \"f1_rdcmplx_nqtr_right_short_nibble15\": 0,\n",
      "    \"f0_wrdqdbi_deskew_dq_odly_fcrse_bit13\": 144,\n",
      "    \"iobmap_dq_1_0\": 0,\n",
      "    \"f1_wrdqdbi_deskew_dbi_odly_fcrse_byte5\": 0,\n",
      "    \"dqs_gate_underflow\": 0,\n",
      "    \"f0_rdcmplx_nqtr_left_short_nibble07\": 20,\n",
      "    \"f0_wrdqdbi_deskew_dq_odly_fcrse_bit18\": 109,\n",
      "    \"f0_rdcmplx_nqtr_final_nibble10\": 83,\n",
      "    \"f0_rd_comp_rise_lm_nib_04\": [\n",
      "        65,\n",
      "        129\n",
      "    ],\n",
      "    \"f0_wrcmplx_odly_dq_final_bit11\": 62,\n",
      "    \"cal_warning_08\": 0,\n",
      "    \"f1_wrcmplx_odly_dbi_final_byte1\": 0,\n",
      "    \"f0_wrdqdbi_stg3_dq_odly_bit10\": 64,\n",
      "    \"f0_wrdqdbi_left_edge_dq_bit57\": 69,\n",
      "    \"f0_wrdqdbi_deskew_dq_odly_bit33\": 100,\n",
      "    \"rdvref_left_vref_upp_bound_nibble08\": 0,\n",
      "    \"f0_wrcmplx_right_margin_byte0\": 71,\n",
      "    \"f1_rdprbs_nqtr_right_margin_nibble03\": 0,\n",
      "    \"f0_wr_comp_lm_byte_04\": [\n",
      "        75,\n",
      "        146\n",
      "    ],\n",
      "    \"f1_rdcmplx_nqtr_right_short_fcrse_nibble10\": 0,\n",
      "    \"bisc_idly5_align_nibble06\": 73,\n",
      "    \"reg_safe_config3\": 16877592,\n",
      "    \"f1_rddq_qtr_deskew_nibble11\": 0,\n",
      "    \"f1_rddq_qtr_deskew_nibble01\": 0,\n",
      "    \"f0_xpll_clkoutfb_ht\": 16,\n",
      "    \"f1_wrdqdbi_odly_dq_final_bit05\": 0,\n",
      "    \"wrvref_left_vref_upp_bound_rank0_byte3\": 0,\n",
      "    \"f0_dqsgate_stg1_overflow_10\": 0,\n",
      "    \"f0_rddq_qtr_deskew_nibble08\": 1,\n",
      "    \"f1_wrdqdbi_left_edge_dq_bit40\": 0,\n",
      "    \"cal_error_bit_phy_nibble_22\": 0,\n",
      "    \"f1_wrdqdbi_stg1_dqs_delay_byte0\": 0,\n",
      "    \"cal_stage_time_06\": 0,\n",
      "    \"f1_wrdqdbi_stg3_dq_odly_bit13\": 0,\n",
      "    \"bisc_idly3_align_nibble06\": 70,\n",
      "    \"f1_wrdqdbi_deskew_dq_odly_fcrse_bit43\": 0,\n",
      "    \"f0_dqsgate_stg1_overflow_05\": 0,\n",
      "    \"f0_dqsgate_rldlyrnk_crse_final_rank0_byte5\": 2,\n",
      "    \"cal_stage.03_F0_DQS_GATE_CAL\": \"Pass\",\n",
      "    \"f0_wrlat_wldlyrnk_crse_final_rank0_byte2\": 0,\n",
      "    \"f0_wrdqdbi_odly_dq_final_bit24\": 83,\n",
      "    \"f0_wrdqdbi_stg2_dq_odly_bit26\": 81,\n",
      "    \"phy_oe_nib10_dly\": 0,\n",
      "    \"f1_wrlat_phy_data_nib_final_byte1\": 0,\n",
      "    \"f1_rddq_idelay_final_bit25\": 0,\n",
      "    \"cal_error_bit_phy_nibble_14\": 0,\n",
      "    \"f0_wrdqdbi_stg2_dq_odly_bit56\": 75,\n",
      "    \"f1_rddq_pqtr_left_nibble14\": 0,\n",
      "    \"f0_wrdqdbi_deskew_dq_odly_bit59\": 153,\n",
      "    \"f0_wrdqdbi_left_edge_dq_bit11\": 50,\n",
      "    \"f0_wr_comp_rm_byte_00\": [\n",
      "        71,\n",
      "        137\n",
      "    ],\n",
      "    \"f0_wrcmplx_odly_dq_final_bit03\": 73,\n",
      "    \"f0_rddq_idelay_final_bit37\": 70,\n",
      "    \"f1_lp4_mr14\": 0,\n",
      "    \"rdvref_left_vref_low_bound_nibble14\": 0,\n",
      "    \"bisc_idly2_align_nibble13\": 74,\n",
      "    \"f0_rddq_nqtr_right_fcrse_nibble15\": 177,\n",
      "    \"f0_wrlvl_fine_left_rank0_byte6\": 53,\n",
      "    \"f0_wrdqdbi_left_edge_dq_bit58\": 64,\n",
      "    \"rdvref_vref_low_bound_nibble04\": 0,\n",
      "    \"f0_rd_comp_fall_ctp_nib_14\": [\n",
      "        84,\n",
      "        164\n",
      "    ],\n",
      "    \"f1_rddq_idelay_final_bit57\": 0,\n",
      "    \"f1_rdprbs_pqtr_right_margin_nibble07\": 0,\n",
      "    \"f0_rdcmplx_pqtr_right_nibble15\": 160,\n",
      "    \"f1_wrdqdbi_odly_dbi_final_byte5\": 0,\n",
      "    \"f0_dqsgate_stg2_rldlyrnk_crse_rank0_byte6\": 3,\n",
      "    \"f0_wrdqdbi_deskew_dq_odly_bit14\": 147,\n",
      "    \"f0_wr_comp_ctp_byte_07\": [\n",
      "        328,\n",
      "        649\n",
      "    ],\n",
      "    \"phy_rden15_dly\": 26,\n",
      "    \"rdvref_right_vref_low_bound_nibble13\": 0,\n",
      "    \"f0_wrlvl_crse_stg1_rank0_byte4\": 3,\n",
      "    \"f1_rdcmplx_nqtr_left_short_nibble04\": 0,\n",
      "    \"f1_wrdqdbi_left_edge_dq_bit16\": 0,\n",
      "    \"f0_dqsgate_stg2_rldlyrnk_crse_rank0_byte5\": 2,\n",
      "    \"f0_wrdqdbi_odly_dq_final_bit00\": 77,\n",
      "    \"f1_wrdqdbi_left_edge_dq_bit62\": 0,\n",
      "    \"cal_stage_time_61\": 0,\n",
      "    \"rdmargin_nqtr_right_nibble09\": 0,\n",
      "    \"rdvref_right_vref_low_bound_nibble14\": 0,\n",
      "    \"f0_wrdqdbi_stg2_dq_odly_bit51\": 55,\n",
      "    \"f1_wrlvl_crse_final_rank0_byte7\": 0,\n",
      "    \"mgchk_unit\": 0,\n",
      "    \"f0_rddq_nqtr_right_fcrse_nibble03\": 187,\n",
      "    \"ddrmc_isr_nsu_2\": 0,\n",
      "    \"cal_warning_35\": 0,\n",
      "    \"f1_wrdqdbi_deskew_dq_odly_bit57\": 0,\n",
      "    \"cal_stage_time_15\": 0,\n",
      "    \"wrvref_left_vref_final_rank0_byte4\": 0,\n",
      "    \"f0_wrdqdbi_stg1_dqs_delay_byte1\": 80,\n",
      "    \"f0_calbisc_rl_dly_pqtr_nibble01\": 82,\n",
      "    \"f0_wrdqdbi_stg3_dq_odly_bit40\": 60,\n",
      "    \"f1_rdcmplx_pqtr_right_nibble14\": 0,\n",
      "    \"f0_wr_simp_lm_byte_01\": [\n",
      "        84,\n",
      "        162\n",
      "    ],\n",
      "    \"f1_wrdqdbi_left_edge_dq_bit10\": 0,\n",
      "    \"bisc_idly0_align_nibble04\": 0,\n",
      "    \"f1_wrcmplx_odly_dq_final_bit05\": 0,\n",
      "    \"f1_rdprbs_nqtr_left_margin_nibble13\": 0,\n",
      "    \"dqstrack_rldlyrnk_crse_min_byte2\": 5,\n",
      "    \"f1_wrdqdbi_deskew_dq_odly_fcrse_bit55\": 0,\n",
      "    \"f0_rdprbs_pqtr_right_margin_nibble05\": 0,\n",
      "    \"rdvref_right_vref_final_nibble12\": 0,\n",
      "    \"f0_wrdqdbi_stg1_dqs_delay_byte0\": 81,\n",
      "    \"f1_rddq_idelay_final_bit63\": 0,\n",
      "    \"f1_wrdqdbi_stg2_dqs_odly_byte6\": 0,\n",
      "    \"bisc_idly5_align_nibble03\": 82,\n",
      "    \"f0_rdcmplx_pqtr_right_short_nibble13\": 174,\n",
      "    \"wrvref_vref_final_rank0_byte7\": 0,\n",
      "    \"f1_wrdqdbi_left_edge_dq_bit34\": 0,\n",
      "    \"f0_calbisc_rl_dly_qtr_nibble01\": 82,\n",
      "    \"dqstrack_rldlyrnk_fine_min_byte1\": 77,\n",
      "    \"f1_wrdqdbi_deskew_dq_odly_bit05\": 0,\n",
      "    \"rdmargin_pqtr_right_nibble03\": 0,\n",
      "    \"f1_dqsgate_stg1_read_lat_rank0_byte6\": 0,\n",
      "    \"f0_wrdqdbi_stg2_dqs_odly_byte2\": 55,\n",
      "    \"f1_wrcmplx_odly_dq_final_bit33\": 0,\n",
      "    \"f0_wrdqdbi_odly_dq_final_bit15\": 71,\n",
      "    \"f1_dqsgate_stg1_overflow_13\": 0,\n",
      "    \"f0_rdcmplx_nqtr_right_short_nibble05\": 175,\n",
      "    \"f1_rddq_idelay_final_bit21\": 0,\n",
      "    \"f0_wrdqdbi_odly_dq_final_bit62\": 89,\n",
      "    \"f1_dqsgate_stg1_overflow_25\": 0,\n",
      "    \"f0_rddq_pqtr_left_nibble04\": 17,\n",
      "    \"f0_wrdqdbi_stg3_dq_odly_bit59\": 75,\n",
      "    \"f1_rdcmplx_pqtr_right_nibble06\": 0,\n",
      "    \"f0_wrdqdbi_odly_dqs_final_byte4\": 52,\n",
      "    \"f1_rddq_pqtr_right_nibble09\": 0,\n",
      "    \"f1_wrdqdbi_odly_dq_final_bit21\": 0,\n",
      "    \"f0_wrdqdbi_deskew_dq_odly_fcrse_bit55\": 135,\n",
      "    \"f1_rdcmplx_nqtr_left_short_nibble08\": 0,\n",
      "    \"bisc_mon_align_nibble06\": 0,\n",
      "    \"f0_wr_simp_rm_byte_00\": [\n",
      "        77,\n",
      "        149\n",
      "    ],\n",
      "    \"rdmargin_nqtr_right_nibble07\": 0,\n",
      "    \"cal_warning_38\": 0,\n",
      "    \"f1_wrdqdbi_deskew_dq_odly_fcrse_bit53\": 0,\n",
      "    \"rdvref_right_vref_upp_bound_nibble05\": 0,\n",
      "    \"f1_rddq_nqtr_final_nibble10\": 0,\n",
      "    \"f1_wrdqdbi_odly_dq_final_bit38\": 0,\n",
      "    \"f0_rd_comp_fall_rm_nib_00\": [\n",
      "        65,\n",
      "        125\n",
      "    ],\n",
      "    \"rdmargin_nqtr_left_nibble03\": 0,\n",
      "    \"f0_wrdqdbi_deskew_dq_odly_bit16\": 122,\n",
      "    \"f1_wrdqdbi_deskew_dq_odly_fcrse_bit07\": 0,\n",
      "    \"f1_wrdqdbi_deskew_dq_odly_bit25\": 0,\n",
      "    \"rdvref_right_vref_final_nibble13\": 0,\n",
      "    \"f0_wrdqdbi_odly_dq_final_bit59\": 76,\n",
      "    \"f0_rdcmplx_pqtr_left_nibble03\": 25,\n",
      "    \"f0_wrcmplx_odly_dq_final_bit06\": 91,\n",
      "    \"ddrmc_isr\": 0,\n",
      "    \"bisc_idly3_align_nibble10\": 68,\n",
      "    \"f1_calbisc_rl_dly_nqtr_nibble15\": 0,\n",
      "    \"dc1_perf_mon_8\": 0,\n",
      "    \"f1_wrdqdbi_left_margin_byte2\": 0,\n",
      "    \"f0_wrdqdbi_left_edge_dbi_byte7\": 75,\n",
      "    \"f1_wrdqdbi_deskew_dq_odly_bit20\": 0,\n",
      "    \"f1_wrdqdbi_stg2_dq_odly_bit13\": 0,\n",
      "    \"f1_rddq_nqtr_left_nibble03\": 0,\n",
      "    \"f0_wrdqdbi_odly_dq_final_bit54\": 66,\n",
      "    \"f0_rd_comp_fall_lm_nib_14\": [\n",
      "        64,\n",
      "        125\n",
      "    ],\n",
      "    \"reg_map_ver\": 5,\n",
      "    \"f1_wrdqdbi_stg3_dq_odly_bit21\": 0,\n",
      "    \"f1_wrlat_phy_oe_nib_final_byte4\": 0,\n",
      "    \"f1_rddq_idelay_final_bit31\": 0,\n",
      "    \"f0_xpll_clkoutfb_lt\": 16,\n",
      "    \"pre_post_cal_map_ver\": 1,\n",
      "    \"f1_wrcmplx_right_margin_byte1\": 0,\n",
      "    \"iobmap_dqs_12\": 0,\n",
      "    \"f0_dqsgate_stg1_overflow_43\": 0,\n",
      "    \"f0_wrdqdbi_odly_dq_final_bit03\": 72,\n",
      "    \"f0_add_cmd_dly\": 0,\n",
      "    \"f1_wrprbs_left_margin_byte0\": 0,\n",
      "    \"f1_dqsgate_stg1_overflow_59\": 0,\n",
      "    \"f0_rd_simp_rise_rm_nib_05\": [\n",
      "        79,\n",
      "        151\n",
      "    ],\n",
      "    \"bisc_mon_align_nibble02\": 0,\n",
      "    \"f0_rddq_idelay_final_bit07\": 83,\n",
      "    \"f1_dqsgate_stg2_rldlyrnk_crse_rank0_byte6\": 0,\n",
      "    \"f0_wrdqdbi_stg4_dqs_delay_byte7\": 14,\n",
      "    \"f1_wrlvl_offset_rank0_byte4\": 0,\n",
      "    \"f1_wrdqdbi_deskew_dq_odly_fcrse_bit10\": 0,\n",
      "    \"f0_rd_comp_rise_lm_nib_07\": [\n",
      "        69,\n",
      "        135\n",
      "    ],\n",
      "    \"f0_wr_simp_ctp_byte_07\": [\n",
      "        328,\n",
      "        649\n",
      "    ],\n",
      "    \"f0_rddq_pqtr_right_nibble04\": 175,\n",
      "    \"f0_wrdqdbi_deskew_dq_odly_fcrse_bit30\": 151,\n",
      "    \"f1_wrcmplx_odly_dqs_final_byte6\": 0,\n",
      "    \"f0_wrdqdbi_deskew_dq_odly_bit34\": 105,\n",
      "    \"rdvref_right_vref_def_nibble05\": 0,\n",
      "    \"cal_warning_45\": 0,\n",
      "    \"bisc_idly5_align_nibble13\": 76,\n",
      "    \"f1_wrlvl_fine_final_rank0_byte4\": 0,\n",
      "    \"f0_rdprbs_pqtr_right_margin_nibble07\": 0,\n",
      "    \"f0_dqsgate_stg1_overflow_04\": 128,\n",
      "    \"cal_stage_time_39\": 0,\n",
      "    \"f0_wrlvl_fine_right_rank0_byte4\": 36,\n",
      "    \"f1_wrdqdbi_stg2_dq_odly_bit08\": 0,\n",
      "    \"f0_wrdqdbi_deskew_dq_odly_fcrse_bit15\": 144,\n",
      "    \"f0_rdcmplx_pqtr_right_short_nibble07\": 168,\n",
      "    \"f0_wrcmplx_odly_dqs_final_byte0\": 83,\n",
      "    \"f0_wrdqdbi_left_edge_dq_bit62\": 86,\n",
      "    \"f1_rddq_qtr_deskew_nibble15\": 0,\n",
      "    \"phy_rden24_dly\": 25,\n",
      "    \"f1_wrdqdbi_stg2_dq_odly_bit39\": 0,\n",
      "    \"f1_mr1_17_9\": 0,\n",
      "    \"f0_wrdqdbi_odly_dqs_final_byte5\": 76,\n",
      "    \"bisc_idly4_align_nibble04\": 71,\n",
      "    \"f1_wrdqdbi_deskew_dq_odly_fcrse_bit00\": 0,\n",
      "    \"cal_stage_time_20\": 0,\n",
      "    \"f1_rdcmplx_pqtr_left_short_nibble13\": 0,\n",
      "    \"bisc_mon_align_nibble14\": 0,\n",
      "    \"f1_rddq_pqtr_right_fcrse_nibble02\": 0,\n",
      "    \"f1_wrdqdbi_odly_dq_final_bit56\": 0,\n",
      "    \"f1_rddq_nqtr_final_nibble14\": 0,\n",
      "    \"cal_warning_77\": 0,\n",
      "    \"wrvref_left_vref_final_rank0_byte3\": 0,\n",
      "    \"f0_wrlvl_crse_stg1_rank0_byte6\": 3,\n",
      "    \"f1_wrdqdbi_deskew_dq_odly_bit10\": 0,\n",
      "    \"f1_wrdqdbi_odly_dq_final_bit46\": 0,\n",
      "    \"f1_wrdqdbi_deskew_dq_odly_fcrse_bit13\": 0,\n",
      "    \"f0_rddq_idelay_final_bit49\": 61,\n",
      "    \"f1_rddq_pqtr_right_fcrse_nibble10\": 0,\n",
      "    \"f0_calbisc_rl_dly_nqtr_nibble15\": 81,\n",
      "    \"f0_mr1_17_9\": 1,\n",
      "    \"f1_wrdqdbi_odly_dq_final_bit27\": 0,\n",
      "    \"f1_rdcmplx_pqtr_right_nibble00\": 0,\n",
      "    \"0x3f_CAL_DONE\": \"Pass\",\n",
      "    \"f0_wrdqdbi_odly_dq_final_bit02\": 64,\n",
      "    \"f1_wrlvl_offset_rank0_byte2\": 0,\n",
      "    \"f1_rdcmplx_nqtr_right_short_fcrse_nibble04\": 0,\n",
      "    \"f0_rdprbs_pqtr_right_margin_nibble01\": 0,\n",
      "    \"f1_rddq_pqtr_right_nibble07\": 0,\n",
      "    \"f0_wrdqdbi_stg4_dqs_delay_byte4\": 14,\n",
      "    \"f1_wrdqdbi_odly_dq_final_bit33\": 0,\n",
      "    \"f1_wrdqdbi_stg3_dq_odly_bit55\": 0,\n",
      "    \"f1_rdcmplx_pqtr_left_short_nibble08\": 0,\n",
      "    \"f1_rdcmplx_nqtr_final_nibble15\": 0,\n",
      "    \"f0_rddq_idelay_final_bit38\": 79,\n",
      "    \"f0_wr_simp_rm_byte_02\": [\n",
      "        66,\n",
      "        127\n",
      "    ],\n",
      "    \"f0_rdcmplx_pqtr_right_short_fcrse_nibble02\": 176,\n",
      "    \"f0_rddq_pqtr_final_nibble06\": 94,\n",
      "    \"reg_retry_0\": 194408526,\n",
      "    \"f0_rd_simp_rise_rm_nib_08\": [\n",
      "        77,\n",
      "        149\n",
      "    ],\n",
      "    \"f0_wrdqdbi_stg2_dq_odly_bit06\": 65,\n",
      "    \"wrvref_vref_final_rank0_byte5\": 0,\n",
      "    \"f1_rdprbs_pqtr_left_margin_nibble03\": 0,\n",
      "    \"fifo_rden_dly\": 19,\n",
      "    \"f0_wr_comp_lm_byte_03\": [\n",
      "        75,\n",
      "        146\n",
      "    ],\n",
      "    \"f0_rd_simp_fall_ctp_nib_11\": [\n",
      "        99,\n",
      "        193\n",
      "    ],\n",
      "    \"f0_rdprbs_nqtr_left_margin_nibble12\": 0,\n",
      "    \"f1_wrdqdbi_stg1_dqs_delay_byte7\": 0,\n",
      "    \"f0_rdcmplx_nqtr_right_short_nibble12\": 164,\n",
      "    \"ub_ub_msg\": 0,\n",
      "    \"f1_wrdqdbi_deskew_dq_odly_fcrse_bit48\": 0,\n",
      "    \"f0_wrdqdbi_odly_dbi_final_byte3\": 81,\n",
      "    \"f0_wrdqdbi_stg6_dbi_odly_byte5\": 60,\n",
      "    \"f0_rddq_pqtr_final_nibble10\": 96,\n",
      "    \"f0_rddq_idelay_final_bit19\": 84,\n",
      "    \"f0_wrdqdbi_odly_dq_final_bit50\": 67,\n",
      "    \"f1_wrdqdbi_odly_dq_final_bit12\": 0,\n",
      "    \"f1_wrdqdbi_odly_dq_final_bit29\": 0,\n",
      "    \"f0_dqsgate_stg1_overflow_59\": 0,\n",
      "    \"bisc_idly2_align_nibble02\": 68,\n",
      "    \"f0_calbisc_rl_dly_pqtr_nibble14\": 79,\n",
      "    \"f1_dqsgate_stg1_rldlyrnk_crse_rank0_byte1\": 0,\n",
      "    \"bisc_pqtr_align_nibble13\": 0,\n",
      "    \"bisc_pqtr_nibble15\": 79,\n",
      "    \"f1_dqsgate_stg1_overflow_03\": 0,\n",
      "    \"f1_rdprbs_pqtr_left_margin_nibble01\": 0,\n",
      "    \"f1_wrprbs_right_margin_byte2\": 0,\n",
      "    \"cal_warning_28\": 0,\n",
      "    \"cal_stage_time_58\": 0,\n",
      "    \"f1_wrcmplx_odly_dq_final_bit63\": 0,\n",
      "    \"bisc_idly0_align_nibble15\": 74,\n",
      "    \"f0_rddq_nqtr_right_fcrse_nibble12\": 176,\n",
      "    \"f1_wrdqdbi_stg1_bit_status_byte7\": 0,\n",
      "    \"f1_wrdqdbi_stg3_dq_odly_bit40\": 0,\n",
      "    \"f0_wrdqdbi_odly_dq_final_bit36\": 36,\n",
      "    \"f1_calbisc_rl_dly_qtr_nibble07\": 0,\n",
      "    \"f0_dqsgate_stg1_overflow_18\": 0,\n",
      "    \"f0_rddq_idelay_final_bit43\": 70,\n",
      "    \"f1_wrdqdbi_odly_dqs_final_byte2\": 0,\n",
      "    \"bisc_nqtr_align_nibble15\": 0,\n",
      "    \"f0_wrdqdbi_stg2_dq_odly_bit52\": 55,\n",
      "    \"eye_scan_error\": \"N/A\",\n",
      "    \"f1_rddq_idelay_final_bit61\": 0,\n",
      "    \"f1_rdcmplx_pqtr_right_nibble08\": 0,\n",
      "    \"f0_wrdqdbi_deskew_dbi_odly_fcrse_byte4\": 103,\n",
      "    \"f0_rdcmplx_nqtr_left_nibble12\": 22,\n",
      "    \"0x13_F0_WRITE_DQ_DBI_CAL_COMPLEX\": \"Pass\",\n",
      "    \"f0_dqsgate_stg1_overflow_30\": 0,\n",
      "    \"f1_wrcmplx_odly_dq_final_bit46\": 0,\n",
      "    \"f1_rddq_qtr_deskew_nibble00\": 0,\n",
      "    \"f0_wrdqdbi_deskew_dq_odly_bit56\": 165,\n",
      "    \"f1_wrdqdbi_stg3_dq_odly_bit15\": 0,\n",
      "    \"f1_wrdqdbi_deskew_dq_odly_bit08\": 0,\n",
      "    \"f1_rddq_nqtr_right_fcrse_nibble04\": 0,\n",
      "    \"f0_wrdqdbi_left_edge_dbi_byte4\": 33,\n",
      "    \"bisc_nqtr_align_nibble05\": 0,\n",
      "    \"rdvref_right_vref_final_nibble05\": 0,\n",
      "    \"f0_wrdqdbi_stg3_dq_odly_bit30\": 81,\n",
      "    \"f0_rdcmplx_idelay_offset_nibble00\": 0,\n",
      "    \"mgchk_pattern_config_2\": 0,\n",
      "    \"bisc_rl_dly_qtr_nibble04\": 80,\n",
      "    \"f0_dqsgate_stg1_overflow_23\": 0,\n",
      "    \"phy_oe_nib0_dly\": 1,\n",
      "    \"f0_rddq_idelay_final_bit40\": 73,\n",
      "    \"f1_rddq_pqtr_final_nibble09\": 0,\n",
      "    \"f0_rd_simp_rise_lm_nib_14\": [\n",
      "        77,\n",
      "        152\n",
      "    ],\n",
      "    \"f1_wrlvl_fine_left_rank0_byte6\": 0,\n",
      "    \"vttrack_rldlyqtr_min_nibble15\": 78,\n",
      "    \"wrvref_right_vref_low_bound_rank0_byte5\": 0,\n",
      "    \"f0_rddq_pqtr_right_nibble15\": 171,\n",
      "    \"f1_dqsgate_stg1_rldlyrnk_fine_rank0_byte0\": 0,\n",
      "    \"f0_rddq_nqtr_final_nibble04\": 104,\n",
      "    \"f0_rddq_idelay_final_bit32\": 67,\n",
      "    \"f0_wrcmplx_odly_dq_final_bit17\": 38,\n",
      "    \"f0_dqsgate_stg1_rldlyrnk_fine_rank0_byte3\": 16,\n",
      "    \"f1_wrdqdbi_stg5_dqs_odly_byte6\": 0,\n",
      "    \"f0_wrdqdbi_stg3_dq_odly_bit07\": 65,\n",
      "    \"f1_wrdqdbi_left_edge_dq_bit05\": 0,\n",
      "    \"f1_wrcmplx_odly_dq_final_bit57\": 0,\n",
      "    \"cal_stage.08_F0_READ_DQ_DBI_CAL_COMPLEX\": \"Pass\",\n",
      "    \"f0_wrdqdbi_left_edge_dq_bit14\": 63,\n",
      "    \"dqstrack_rldlyrnk_fine_byte3\": 25,\n",
      "    \"f1_dqsgate_stg2_read_lat_rank0_byte2\": 0,\n",
      "    \"f0_rd_comp_rise_rm_nib_06\": [\n",
      "        68,\n",
      "        133\n",
      "    ],\n",
      "    \"sys_clk_8_0\": 392,\n",
      "    \"f0_rdcmplx_pqtr_left_short_nibble12\": 19,\n",
      "    \"f0_rdcmplx_nqtr_right_nibble15\": 152,\n",
      "    \"f1_wrdqdbi_stg4_dqs_delay_byte5\": 0,\n",
      "    \"f0_rd_simp_fall_rm_nib_15\": [\n",
      "        76,\n",
      "        147\n",
      "    ],\n",
      "    \"f0_wr_comp_ctp_byte_06\": [\n",
      "        312,\n",
      "        607\n",
      "    ],\n",
      "    \"iobmap_dqs_1\": 0,\n",
      "    \"f0_wrdqdbi_deskew_dq_odly_fcrse_bit48\": 135,\n",
      "    \"f1_wrdqdbi_stg2_dqs_odly_byte0\": 0,\n",
      "    \"f0_wrdqdbi_stg2_dqs_odly_byte1\": 80,\n",
      "    \"f1_rddq_nqtr_left_nibble05\": 0,\n",
      "    \"cal_error_bit_phy_nibble_11\": 0,\n",
      "    \"f1_wrdqdbi_deskew_dq_odly_fcrse_bit57\": 0,\n",
      "    \"f0_wrdqdbi_deskew_dbi_odly_fcrse_byte0\": 135,\n",
      "    \"f1_wrdqdbi_stg2_dqs_odly_byte2\": 0,\n",
      "    \"f1_wrdqdbi_odly_dq_final_bit00\": 0,\n",
      "    \"f1_wrdqdbi_stg1_dqs_delay_byte2\": 0,\n",
      "    \"f0_wrdqdbi_stg3_dq_odly_bit58\": 75,\n",
      "    \"f0_rdcmplx_pqtr_left_short_nibble14\": 21,\n",
      "    \"f1_rddq_idelay_final_bit44\": 0,\n",
      "    \"f0_wrcmplx_right_margin_fcrse_byte3\": 50,\n",
      "    \"f0_rd_simp_fall_ctp_nib_00\": [\n",
      "        101,\n",
      "        195\n",
      "    ],\n",
      "    \"f1_wrdqdbi_stg1_bit_status_byte3\": 0,\n",
      "    \"per_rd_en\": 0,\n",
      "    \"f1_wrdqdbi_stg1_dqs_delay_byte1\": 0,\n",
      "    \"f1_rdcmplx_pqtr_right_nibble09\": 0,\n",
      "    \"f0_wrdqdbi_stg1_dqs_delay_byte5\": 76,\n",
      "    \"f1_wrdqdbi_stg2_dq_odly_bit37\": 0,\n",
      "    \"f1_wrcmplx_odly_dq_final_bit39\": 0,\n",
      "    \"f0_rdcmplx_nqtr_right_short_fcrse_nibble01\": 176,\n",
      "    \"f0_wrdqdbi_deskew_dq_odly_bit61\": 163,\n",
      "    \"wrvref_left_vref_low_bound_rank0_byte1\": 0,\n",
      "    \"wrvref_left_vref_upp_bound_rank0_byte6\": 0,\n",
      "    \"f0_wrdqdbi_deskew_dq_odly_fcrse_bit27\": 161,\n",
      "    \"f1_wrdqdbi_stg6_dbi_odly_byte3\": 0,\n",
      "    \"iobmap_dqs_7\": 0,\n",
      "    \"f0_wrprbs_left_margin_byte5\": 0,\n",
      "    \"f1_rdcmplx_pqtr_right_short_fcrse_nibble02\": 0,\n",
      "    \"f0_wrdqdbi_stg3_dq_odly_bit08\": 64,\n",
      "    \"f1_rddq_qtr_deskew_nibble02\": 0,\n",
      "    \"f0_calbisc_rl_dly_nqtr_nibble00\": 81,\n",
      "    \"f0_wrdqdbi_deskew_dq_odly_fcrse_bit54\": 135,\n",
      "    \"f0_wrdqdbi_left_edge_dq_bit24\": 83,\n",
      "    \"dc1_perf_mon_5\": 0,\n",
      "    \"f0_dqsgate_stg1_overflow_40\": 0,\n",
      "    \"rdvref_vref_upp_bound_nibble02\": 0,\n",
      "    \"f0_wrdqdbi_stg2_dq_odly_bit13\": 64,\n",
      "    \"phy_rden21_dly\": 25,\n",
      "    \"f1_dqsgate_rldlyrnk_crse_final_rank0_byte1\": 0,\n",
      "    \"f1_wrdqdbi_deskew_dq_odly_fcrse_bit41\": 0,\n",
      "    \"cal_warning_32\": 0,\n",
      "    \"f1_rddq_idelay_final_bit06\": 0,\n",
      "    \"f0_rd_simp_rise_ctp_nib_03\": [\n",
      "        94,\n",
      "        184\n",
      "    ],\n",
      "    \"bisc_pqtr_align_nibble00\": 1,\n",
      "    \"f1_wrcmplx_odly_dq_final_bit37\": 0,\n",
      "    \"f0_rddq_nqtr_left_nibble06\": 19,\n",
      "    \"f0_wrdqdbi_stg3_dq_odly_bit41\": 60,\n",
      "    \"rdvref_right_vref_low_bound_nibble11\": 0,\n",
      "    \"f0_rddq_nqtr_right_fcrse_nibble04\": 183,\n",
      "    \"f0_wrdqdbi_deskew_dq_odly_bit42\": 137,\n",
      "    \"error_code_ver\": 2,\n",
      "    \"f1_mr4_8_0\": 0,\n",
      "    \"f0_wrdqdbi_odly_dq_final_bit48\": 63,\n",
      "    \"phy_rank_read_override\": 0,\n",
      "    \"f0_wrdqdbi_left_edge_dq_bit06\": 90,\n",
      "    \"iobmap_dq_29_28\": 0,\n",
      "    \"rdvref_right_vref_low_bound_nibble07\": 0,\n",
      "    \"f0_wrlvl_fine_right_rank0_byte7\": 77,\n",
      "    \"f0_mr4_8_0\": 0,\n",
      "    \"rdvref_right_vref_low_bound_nibble08\": 0,\n",
      "    \"f0_wrcmplx_right_margin_fcrse_byte5\": 60,\n",
      "    \"dram_size\": 2,\n",
      "    \"cal_stage_time_32\": 0,\n",
      "    \"rdvref_right_vref_upp_bound_nibble13\": 0,\n",
      "    \"f1_rdprbs_pqtr_right_margin_nibble10\": 0,\n",
      "    \"f0_wrdqdbi_stg5_dqs_odly_byte5\": 76,\n",
      "    \"f0_wr_simp_rm_byte_05\": [\n",
      "        67,\n",
      "        132\n",
      "    ],\n",
      "    \"f0_rd_comp_rise_lm_nib_12\": [\n",
      "        69,\n",
      "        135\n",
      "    ],\n",
      "    \"vttrack_rldlyqtr_max_nibble08\": 82,\n",
      "    \"f0_wrdqdbi_stg2_dq_odly_bit33\": 33,\n",
      "    \"ddrmc_ub_isr\": 0,\n",
      "    \"f0_calbisc_rl_dly_nqtr_nibble09\": 82,\n",
      "    \"f1_wrdqdbi_odly_dq_final_bit13\": 0,\n",
      "    \"f1_wrdqdbi_left_edge_dq_bit06\": 0,\n",
      "    \"rdmargin_nqtr_left_nibble02\": 0,\n",
      "    \"dc1_perf_mon_3\": 0,\n",
      "    \"f1_wrdqdbi_deskew_dq_odly_bit13\": 0,\n",
      "    \"bisc_pqtr_nibble00\": 81,\n",
      "    \"f0_mr2_17_9\": 0,\n",
      "    \"f0_wrdqdbi_left_margin_byte0\": 73,\n",
      "    \"f1_wrdqdbi_stg2_dq_odly_bit34\": 0,\n",
      "    \"vttrack_rldlyqtr_max_nibble13\": 81,\n",
      "    \"f1_dqsgate_stg1_overflow_29\": 0,\n",
      "    \"f0_dqsgate_stg1_overflow_15\": 0,\n",
      "    \"bisc_idly4_align_nibble00\": 71,\n",
      "    \"f0_rddq_pqtr_right_fcrse_nibble15\": 172,\n",
      "    \"f1_rdcmplx_pqtr_left_nibble06\": 0,\n",
      "    \"f1_dqsgate_read_lat_final_byte5\": 0,\n",
      "    \"f0_rd_simp_fall_rm_nib_04\": [\n",
      "        76,\n",
      "        147\n",
      "    ],\n",
      "    \"f0_wrdqdbi_deskew_dq_odly_bit02\": 137,\n",
      "    \"f0_rdcmplx_nqtr_right_short_nibble10\": 165,\n",
      "    \"f0_rd_simp_rise_rm_nib_00\": [\n",
      "        77,\n",
      "        150\n",
      "    ],\n",
      "    \"ddrmc_pcsr_status\": 23,\n",
      "    \"f0_wrdqdbi_left_edge_dq_bit00\": 77,\n",
      "    \"f0_rdcmplx_nqtr_left_short_nibble03\": 23,\n",
      "    \"f1_rdcmplx_nqtr_right_nibble04\": 0,\n",
      "    \"f0_wrdqdbi_right_margin_fcrse_byte4\": 80,\n",
      "    \"f0_wrlat_match_rank0_byte1\": 16,\n",
      "    \"f1_rdcmplx_pqtr_right_short_fcrse_nibble06\": 0,\n",
      "    \"f1_wrlat_phy_oe_nib_final_byte3\": 0,\n",
      "    \"f1_wrlvl_offset_rank0_byte7\": 0,\n",
      "    \"rdvref_right_vref_def_nibble08\": 0,\n",
      "    \"f1_dqsgate_stg1_overflow_24\": 0,\n",
      "    \"f1_rdcmplx_nqtr_left_short_nibble13\": 0,\n",
      "    \"f1_dqsgate_stg1_overflow_60\": 0,\n",
      "    \"f0_rdcmplx_pqtr_final_nibble11\": 96,\n",
      "    \"f1_rdcmplx_nqtr_right_short_nibble01\": 0,\n",
      "    \"f0_wrdqdbi_stg1_byte_status_01\": 511,\n",
      "    \"f1_rddq_nqtr_right_fcrse_nibble11\": 0,\n",
      "    \"f0_wr_comp_lm_byte_02\": [\n",
      "        71,\n",
      "        137\n",
      "    ],\n",
      "    \"rdvref_left_vref_final_nibble03\": 0,\n",
      "    \"f0_rd_comp_rise_lm_nib_01\": [\n",
      "        70,\n",
      "        133\n",
      "    ],\n",
      "    \"f0_wrlvl_fine_left_rank0_byte3\": 79,\n",
      "    \"rdvref_vref_upp_bound_nibble14\": 0,\n",
      "    \"f0_rdprbs_pqtr_left_margin_nibble01\": 0,\n",
      "    \"f0_wrdqdbi_deskew_dq_odly_fcrse_bit57\": 145,\n",
      "    \"f0_rdcmplx_pqtr_left_short_nibble04\": 22,\n",
      "    \"f1_wrlvl_crse_stg1_rank0_byte3\": 0,\n",
      "    \"f0_rddq_nqtr_right_fcrse_nibble02\": 185,\n",
      "    \"f1_wrdqdbi_deskew_dq_odly_bit58\": 0,\n",
      "    \"f0_rd_comp_fall_rm_nib_03\": [\n",
      "        64,\n",
      "        123\n",
      "    ],\n",
      "    \"f1_wrdqdbi_stg3_dq_odly_bit35\": 0,\n",
      "    \"f1_wrcmplx_odly_dq_final_bit50\": 0,\n",
      "    \"rdvref_right_vref_low_bound_nibble09\": 0,\n",
      "    \"f1_rdcmplx_pqtr_final_nibble08\": 0,\n",
      "    \"f1_dqsgate_stg1_overflow_50\": 0,\n",
      "    \"f0_dqsgate_stg1_rldlyrnk_fine_rank0_byte4\": 36,\n",
      "    \"f0_wrdqdbi_odly_dq_final_bit44\": 75,\n",
      "    \"f0_rdcmplx_nqtr_right_nibble14\": 148,\n",
      "    \"f1_dqsgate_stg1_overflow_48\": 0,\n",
      "    \"f1_rdcmplx_nqtr_right_short_nibble07\": 0,\n",
      "    \"f0_wr_simp_ctp_byte_03\": [\n",
      "        103,\n",
      "        201\n",
      "    ],\n",
      "    \"f1_rdcmplx_pqtr_left_short_nibble05\": 0,\n",
      "    \"iobmap_dq_47_46\": 0,\n",
      "    \"f1_rcd_rc0a\": 0,\n",
      "    \"f1_dqsgate_stg1_overflow_43\": 0,\n",
      "    \"f0_wrdqdbi_stg3_dq_odly_bit54\": 55,\n",
      "    \"iobmap_dq_53_52\": 0,\n",
      "    \"f1_wrdqdbi_stg2_dq_odly_bit41\": 0,\n",
      "    \"f1_rdprbs_nqtr_left_margin_nibble05\": 0,\n",
      "    \"f1_wrdqdbi_stg3_dq_odly_bit57\": 0,\n",
      "    \"bisc_idly2_align_nibble01\": 76,\n",
      "    \"f0_wrdqdbi_odly_dq_final_bit11\": 61,\n",
      "    \"f1_rdcmplx_pqtr_right_short_nibble13\": 0,\n",
      "    \"f1_qtr_time\": 156,\n",
      "    \"bisc_idly5_align_nibble12\": 73,\n",
      "    \"f0_wr_comp_rm_byte_02\": [\n",
      "        64,\n",
      "        123\n",
      "    ],\n",
      "    \"f1_rdcmplx_pqtr_right_nibble10\": 0,\n",
      "    \"cal_error_bit_phy_nibble_04\": 0,\n",
      "    \"dqstrack_rldlyrnk_fine_min_byte0\": 80,\n",
      "    \"f0_wrdqdbi_deskew_dq_odly_fcrse_bit62\": 165,\n",
      "    \"f0_rd_simp_rise_ctp_nib_02\": [\n",
      "        94,\n",
      "        177\n",
      "    ],\n",
      "    \"f1_dqsgate_stg1_overflow_44\": 0,\n",
      "    \"f1_wrdqdbi_left_edge_dq_bit56\": 0,\n",
      "    \"f0_wrprbs_right_margin_byte1\": 0,\n",
      "    \"f0_calbisc_rl_dly_pqtr_nibble11\": 79,\n",
      "    \"f0_wr_comp_rm_byte_06\": [\n",
      "        67,\n",
      "        130\n",
      "    ],\n",
      "    \"f0_wrdqdbi_deskew_dq_odly_fcrse_bit10\": 134,\n",
      "    \"wrvref_vref_low_bound_rank0_byte3\": 0,\n",
      "    \"f1_wrdqdbi_stg3_dq_odly_bit02\": 0,\n",
      "    \"cal_stage.04_F0_WRITE_LEVELING\": \"Pass\",\n",
      "    \"f1_rddq_nqtr_left_nibble15\": 0,\n",
      "    \"f1_wrdqdbi_deskew_dbi_odly_byte1\": 0,\n",
      "    \"f1_wrcmplx_odly_dq_final_bit00\": 0,\n",
      "    \"f1_calbisc_rl_dly_pqtr_nibble01\": 0,\n",
      "    \"f0_wrcmplx_odly_dq_final_bit54\": 68,\n",
      "    \"wrvref_vref_upp_bound_rank0_byte5\": 0,\n",
      "    \"f1_rddq_nqtr_right_fcrse_nibble09\": 0,\n",
      "    \"f1_rddq_nqtr_final_nibble08\": 0,\n",
      "    \"wrvref_left_vref_def_rank0_byte0\": 0,\n",
      "    \"f1_wrdqdbi_deskew_dq_odly_fcrse_bit58\": 0,\n",
      "    \"f0_wrdqdbi_stg4_dqs_delay_byte3\": 14,\n",
      "    \"f0_rd_comp_rise_rm_nib_12\": [\n",
      "        69,\n",
      "        135\n",
      "    ],\n",
      "    \"rdvref_vref_upp_bound_nibble12\": 0,\n",
      "    \"f0_calbisc_rl_dly_nqtr_nibble11\": 80,\n",
      "    \"cal_pre_status_17_9\": 511,\n",
      "    \"cal_warning_14\": 0,\n",
      "    \"f0_wrdqdbi_stg6_dbi_odly_byte2\": 39,\n",
      "    \"cal_warning_30\": 0,\n",
      "    \"f1_wrcmplx_odly_dq_final_bit03\": 0,\n",
      "    \"f0_wrdqdbi_deskew_dq_odly_fcrse_bit60\": 155,\n",
      "    \"f0_wrdqdbi_stg2_dqs_odly_byte0\": 81,\n",
      "    \"rdmargin_pqtr_left_nibble03\": 0,\n",
      "    \"f0_wrdqdbi_deskew_dq_odly_bit54\": 140,\n",
      "    \"f0_wrdqdbi_left_edge_dq_bit03\": 72,\n",
      "    \"f0_rddq_pqtr_final_nibble00\": 94,\n",
      "    \"f1_wrdqdbi_stg2_dq_odly_bit03\": 0,\n",
      "    \"f1_wrdqdbi_stg2_dq_odly_bit22\": 0,\n",
      "    \"f1_rdprbs_pqtr_left_margin_nibble09\": 0,\n",
      "    \"f1_wrdqdbi_stg2_dq_odly_bit33\": 0,\n",
      "    \"f0_rdcmplx_pqtr_left_nibble04\": 25,\n",
      "    \"f0_rd_comp_fall_rm_nib_08\": [\n",
      "        59,\n",
      "        114\n",
      "    ],\n",
      "    \"f0_wrlvl_fine_left_rank0_byte1\": 61,\n",
      "    \"f1_rddq_idelay_final_bit49\": 0,\n",
      "    \"f1_wrlvl_noise_fcrse_rank0_byte6\": 0,\n",
      "    \"f1_rddq_nqtr_right_nibble01\": 0,\n",
      "    \"f0_wrdqdbi_deskew_dq_odly_fcrse_bit35\": 93,\n",
      "    \"wrvref_right_vref_low_bound_rank0_byte7\": 0,\n",
      "    \"f0_wrdqdbi_left_edge_dq_bit59\": 73,\n",
      "    \"f1_wrlvl_offset_rank0_byte1\": 0,\n",
      "    \"wrmargin_left_byte1\": 0,\n",
      "    \"f1_wrdqdbi_odly_dq_final_bit48\": 0,\n",
      "    \"f1_wrdqdbi_odly_dq_final_bit62\": 0,\n",
      "    \"wrvref_right_vref_def_rank0_byte4\": 0,\n",
      "    \"rdvref_vref_low_bound_nibble02\": 0,\n",
      "    \"f1_wrcmplx_odly_dq_final_bit35\": 0,\n",
      "    \"f0_dqsgate_stg1_overflow_28\": 0,\n",
      "    \"wrmargin_left_byte0\": 0,\n",
      "    \"f0_rdcmplx_pqtr_right_short_fcrse_nibble10\": 179,\n",
      "    \"cal_stage_time_04\": 0,\n",
      "    \"f1_rdprbs_nqtr_left_margin_nibble08\": 0,\n",
      "    \"f0_rd_simp_rise_rm_nib_11\": [\n",
      "        80,\n",
      "        158\n",
      "    ],\n",
      "    \"f0_rdcmplx_nqtr_right_short_nibble02\": 167,\n",
      "    \"f0_rddq_idelay_final_bit06\": 86,\n",
      "    \"xpi_write_dm_dbi\": 1,\n",
      "    \"wrvref_vref_final_rank0_byte4\": 0,\n",
      "    \"f0_wrdqdbi_deskew_dq_odly_fcrse_bit52\": 125,\n",
      "    \"f0_wrdqdbi_stg1_bit_status_byte6\": 0,\n",
      "    \"f1_wrdqdbi_deskew_dq_odly_bit00\": 0,\n",
      "    \"f1_wrdqdbi_deskew_dq_odly_bit18\": 0,\n",
      "    \"f1_rddq_pqtr_right_fcrse_nibble15\": 0,\n",
      "    \"f0_rd_comp_rise_lm_nib_03\": [\n",
      "        66,\n",
      "        129\n",
      "    ],\n",
      "    \"f0_wrdqdbi_deskew_dq_odly_bit30\": 158,\n",
      "    \"f0_wrlat_phy_oe_nib_final_byte4\": 1,\n",
      "    \"f0_rd_simp_fall_ctp_nib_13\": [\n",
      "        98,\n",
      "        189\n",
      "    ],\n",
      "    \"f0_rdprbs_nqtr_left_margin_nibble13\": 0,\n",
      "    \"f1_wrdqdbi_stg6_dbi_odly_byte5\": 0,\n",
      "    \"rdvref_right_vref_low_bound_nibble15\": 0,\n",
      "    \"f0_wrdqdbi_deskew_dq_odly_bit53\": 147,\n",
      "    \"f1_rdcmplx_nqtr_left_nibble00\": 0,\n",
      "    \"f0_dqsgate_max_read_lat\": 28,\n",
      "    \"f1_xpll_divclk_lt\": 1,\n",
      "    \"vttrack_rldlyqtr_min_nibble14\": 76,\n",
      "    \"f0_dqsgate_stg1_overflow_13\": 0,\n",
      "    \"rdmargin_nqtr_left_nibble12\": 0,\n",
      "    \"f0_rddq_nqtr_final_nibble13\": 98,\n",
      "    \"f1_dqsgate_stg1_read_lat_rank0_byte1\": 0,\n",
      "    \"rdvref_vref_upp_bound_nibble04\": 0,\n",
      "    \"f1_rdcmplx_nqtr_right_short_fcrse_nibble06\": 0,\n",
      "    \"f0_rd_comp_fall_lm_nib_06\": [\n",
      "        63,\n",
      "        122\n",
      "    ],\n",
      "    \"vttrack_rldlyqtr_max_nibble15\": 83,\n",
      "    \"phy_oe_nib7_dly\": 1,\n",
      "    \"f0_wrcmplx_right_margin_byte7\": 58,\n",
      "    \"f1_rdcmplx_pqtr_right_short_nibble12\": 0,\n",
      "    \"f0_rddq_pqtr_right_fcrse_nibble00\": 172,\n",
      "    \"vttrack_rldlyqtr_nibble04\": 79,\n",
      "    \"f0_rd_simp_fall_ctp_nib_12\": [\n",
      "        97,\n",
      "        185\n",
      "    ],\n",
      "    \"slots\": 1,\n",
      "    \"f1_wrdqdbi_deskew_dq_odly_bit60\": 0,\n",
      "    \"f0_wrdqdbi_stg2_dqs_odly_byte3\": 97,\n",
      "    \"f1_rddq_idelay_final_bit16\": 0,\n",
      "    \"sys_clk_17_9\": 9,\n",
      "    \"f0_wrlvl_crse_final_rank0_byte3\": 0,\n",
      "    \"f0_wrdqdbi_deskew_dq_odly_bit58\": 144,\n",
      "    \"f1_wrdqdbi_deskew_dq_odly_fcrse_bit56\": 0,\n",
      "    \"f1_rddq_pqtr_right_nibble00\": 0,\n",
      "    \"cal_stage.01_F0_PHY_BISC\": \"Pass\",\n",
      "    \"f1_wrdqdbi_deskew_dq_odly_fcrse_bit27\": 0,\n",
      "    \"f0_rdcmplx_pqtr_right_short_fcrse_nibble14\": 178,\n",
      "    \"f1_dram_2t_mode\": 1,\n",
      "    \"f1_rdcmplx_nqtr_right_short_nibble13\": 0,\n",
      "    \"f0_rddq_idelay_final_bit60\": 80,\n",
      "    \"f0_wrdqdbi_odly_dq_final_bit35\": 23,\n",
      "    \"f1_wrdqdbi_stg2_dq_odly_bit04\": 0,\n",
      "    \"f0_calbisc_rl_dly_pqtr_nibble00\": 80,\n",
      "    \"f1_wrdqdbi_deskew_dq_odly_bit62\": 0,\n",
      "    \"f1_rdcmplx_idelay_offset_nibble07\": 0,\n",
      "    \"f1_rddq_idelay_final_bit56\": 0,\n",
      "    \"f1_rdcmplx_nqtr_left_short_nibble00\": 0,\n",
      "    \"f0_rd_comp_fall_ctp_nib_13\": [\n",
      "        86,\n",
      "        166\n",
      "    ],\n",
      "    \"f0_wrlat_phy_oe_nib_final_byte2\": 1,\n",
      "    \"f0_wrdqdbi_deskew_dq_odly_fcrse_bit29\": 151,\n",
      "    \"phy_oe_nib11_dly\": 0,\n",
      "    \"f0_rdcmplx_nqtr_right_short_fcrse_nibble14\": 175,\n",
      "    \"dqstrack_rldlyrnk_crse_byte0\": 4,\n",
      "    \"f0_rdcmplx_nqtr_right_short_fcrse_nibble04\": 185,\n",
      "    \"f0_wrdqdbi_deskew_dq_odly_fcrse_bit58\": 135,\n",
      "    \"f0_rdprbs_nqtr_left_margin_nibble01\": 0,\n",
      "    \"f0_rddq_idelay_final_bit16\": 77,\n",
      "    \"f0_rd_simp_rise_rm_nib_04\": [\n",
      "        79,\n",
      "        156\n",
      "    ],\n",
      "    \"f0_wrdqdbi_deskew_dq_odly_fcrse_bit14\": 144,\n",
      "    \"bisc_rl_dly_qtr_nibble15\": 79,\n",
      "    \"rdmargin_nqtr_right_nibble08\": 0,\n",
      "    \"f1_wrcmplx_left_margin_fcrse_byte5\": 0,\n",
      "    \"vttrack_rldlyqtr_nibble07\": 81,\n",
      "    \"f0_rddq_pqtr_right_nibble10\": 176,\n",
      "    \"bisc_nqtr_nibble11\": 82,\n",
      "    \"f1_wrdqdbi_odly_dq_final_bit54\": 0,\n",
      "    \"rdmargin_nqtr_left_nibble05\": 0,\n",
      "    \"f0_wrdqdbi_deskew_dq_odly_fcrse_bit16\": 119,\n",
      "    \"f1_wrcmplx_odly_dq_final_bit62\": 0,\n",
      "    \"f0_rddq_nqtr_right_fcrse_nibble07\": 175,\n",
      "    \"f1_wrdqdbi_stg2_dq_odly_bit12\": 0,\n",
      "    \"f1_wrlvl_crse_final_rank0_byte4\": 0,\n",
      "    \"cal_warning_79\": 0,\n",
      "    \"f1_rddq_pqtr_right_fcrse_nibble03\": 0,\n",
      "    \"f1_wrdqdbi_odly_dq_final_bit16\": 0,\n",
      "    \"f0_rd_comp_rise_rm_nib_03\": [\n",
      "        67,\n",
      "        131\n",
      "    ],\n",
      "    \"f0_wrdqdbi_stg2_dq_odly_bit53\": 55,\n",
      "    \"cal_error_bit_phy_nibble_23\": 0,\n",
      "    \"f1_wrdqdbi_deskew_dq_odly_bit03\": 0,\n",
      "    \"bisc_idly4_align_nibble02\": 74,\n",
      "    \"f0_rdcmplx_pqtr_final_nibble07\": 90,\n",
      "    \"f0_rdcmplx_pqtr_right_nibble08\": 154,\n",
      "    \"dqstrack_rldlyrnk_crse_byte6\": 4,\n",
      "    \"f1_dqsgate_stg1_overflow_34\": 0,\n",
      "    \"dbi_pins\": 8,\n",
      "    \"bisc_pqtr_nibble14\": 80,\n",
      "    \"f1_wrdqdbi_odly_dq_final_bit55\": 0,\n",
      "    \"dqstrack_rldlyrnk_crse_max_byte0\": 4,\n",
      "    \"f0_wrdqdbi_odly_dq_final_bit37\": 25,\n",
      "    \"f0_wrdqdbi_deskew_dq_odly_bit26\": 149,\n",
      "    \"f1_rdcmplx_pqtr_final_nibble01\": 0,\n",
      "    \"f0_wrdqdbi_stg3_dq_odly_bit57\": 75,\n",
      "    \"phy_rden17_dly\": 22,\n",
      "    \"rdvref_left_vref_def_nibble14\": 0,\n",
      "    \"f0_wrdqdbi_deskew_dq_odly_fcrse_bit56\": 165,\n",
      "    \"f0_rdcmplx_nqtr_right_short_nibble15\": 169,\n",
      "    \"f0_wrcmplx_left_margin_byte6\": 72,\n",
      "    \"f1_wrdqdbi_stg3_dq_odly_bit54\": 0,\n",
      "    \"f1_tck_msb\": 1,\n",
      "    \"rdmargin_pqtr_right_nibble15\": 0,\n",
      "    \"f1_wrdqdbi_stg2_dqs_odly_byte4\": 0,\n",
      "    \"xpi_read_dbi\": 0,\n",
      "    \"f1_wrdqdbi_right_edge_dqs_byte0\": 0,\n",
      "    \"f0_rd_simp_rise_lm_nib_06\": [\n",
      "        77,\n",
      "        150\n",
      "    ],\n",
      "    \"f1_wrdqdbi_stg2_dq_odly_bit44\": 0,\n",
      "    \"iobmap_dq_43_42\": 0,\n",
      "    \"cal_error\": 0,\n",
      "    \"f0_db_bc0a\": 0,\n",
      "    \"cal_warning_49\": 0,\n",
      "    \"wrvref_left_vref_low_bound_rank0_byte6\": 0,\n",
      "    \"f1_wrdqdbi_deskew_dq_odly_bit30\": 0,\n",
      "    \"f0_dqsgate_stg1_overflow_38\": 0,\n",
      "    \"wrvref_right_vref_upp_bound_rank0_byte2\": 0,\n",
      "    \"f0_wrdqdbi_odly_dq_final_bit14\": 74,\n",
      "    \"f0_wrdqdbi_deskew_dq_odly_bit09\": 147,\n",
      "    \"f0_wrdqdbi_stg3_dq_odly_bit19\": 39,\n",
      "    \"rdvref_right_vref_def_nibble07\": 0,\n",
      "    \"f1_rdcmplx_nqtr_left_short_nibble12\": 0,\n",
      "    \"mgchk_rd_vref_1\": 0,\n",
      "    \"f0_wrdqdbi_left_edge_dq_bit40\": 62,\n",
      "    \"f1_rdprbs_pqtr_right_margin_nibble05\": 0,\n",
      "    \"f0_dqsgate_stg1_read_lat_rank0_byte4\": 24,\n",
      "    \"f0_rdcmplx_pqtr_left_short_nibble08\": 21,\n",
      "    \"f1_wrdqdbi_stg3_dq_odly_bit29\": 0,\n",
      "    \"f0_rd_simp_fall_lm_nib_01\": [\n",
      "        74,\n",
      "        139\n",
      "    ],\n",
      "    \"f1_rddq_idelay_final_bit36\": 0,\n",
      "    \"f1_rdcmplx_pqtr_right_short_fcrse_nibble07\": 0,\n",
      "    \"f0_rddq_qtr_deskew_nibble15\": 1,\n",
      "    \"f1_wrdqdbi_stg2_dq_odly_bit61\": 0,\n",
      "    \"f1_dqsgate_stg1_overflow_20\": 0,\n",
      "    \"f0_rdcmplx_pqtr_final_nibble06\": 88,\n",
      "    \"f1_dqsgate_stg1_overflow_63\": 0,\n",
      "    \"f1_rdcmplx_pqtr_final_nibble02\": 0,\n",
      "    \"f0_rddq_nqtr_final_nibble00\": 101,\n",
      "    \"f0_dqsgate_stg1_overflow_03\": 0,\n",
      "    \"wrmargin_right_byte7\": 0,\n",
      "    \"f1_rdcmplx_nqtr_right_nibble15\": 0,\n",
      "    \"f0_calbisc_rl_dly_pqtr_nibble12\": 80,\n",
      "    \"f0_wrdqdbi_deskew_dq_odly_bit25\": 158,\n",
      "    \"f0_rdprbs_pqtr_left_margin_nibble06\": 0,\n",
      "    \"f0_wrdqdbi_deskew_dq_odly_bit62\": 166,\n",
      "    \"f1_wrdqdbi_deskew_dq_odly_fcrse_bit49\": 0,\n",
      "    \"f1_wrdqdbi_right_margin_fcrse_byte6\": 0,\n",
      "    \"f1_wrdqdbi_odly_dq_final_bit60\": 0,\n",
      "    \"f0_calbisc_rl_dly_qtr_nibble04\": 80,\n",
      "    \"rdvref_left_vref_def_nibble12\": 0,\n",
      "    \"f1_wrdqdbi_stg3_dq_odly_bit26\": 0,\n",
      "    \"cal_warning_06\": 0,\n",
      "    \"f0_rddq_pqtr_left_nibble05\": 17,\n",
      "    \"f0_wrdqdbi_deskew_dq_odly_bit60\": 155,\n",
      "    \"f0_wrdqdbi_stg5_dqs_odly_byte2\": 55,\n",
      "    \"f0_wrcmplx_odly_dq_final_bit24\": 91,\n",
      "    \"f1_dqsgate_stg1_overflow_56\": 0,\n",
      "    \"vttrack_rldlyqtr_nibble11\": 79,\n",
      "    \"bisc_idly1_align_nibble08\": 72,\n",
      "    \"bisc_idly2_align_nibble15\": 75,\n",
      "    \"f0_rdcmplx_idelay_offset_nibble06\": 0,\n",
      "    \"f1_rdprbs_pqtr_left_margin_nibble13\": 0,\n",
      "    \"f0_rd_comp_fall_lm_nib_05\": [\n",
      "        62,\n",
      "        117\n",
      "    ],\n",
      "    \"f0_rddq_idelay_final_bit42\": 73,\n",
      "    \"f0_wrdqdbi_odly_dbi_final_byte6\": 58,\n",
      "    \"f1_dqsgate_stg1_read_lat_rank0_byte2\": 0,\n",
      "    \"f0_wrdqdbi_stg3_dq_odly_bit25\": 81,\n",
      "    \"vttrack_rldlyqtr_max_nibble07\": 83,\n",
      "    \"f0_bit_time\": 312,\n",
      "    \"f1_wrdqdbi_deskew_dq_odly_fcrse_bit50\": 0,\n",
      "    \"f1_wrcmplx_right_margin_fcrse_byte7\": 0,\n",
      "    \"f0_wrdqdbi_left_edge_dq_bit33\": 26,\n",
      "    \"f1_wrdqdbi_odly_dqs_final_byte4\": 0,\n",
      "    \"dc1_perf_mon_2\": 0,\n",
      "    \"f1_wrdqdbi_deskew_dq_odly_fcrse_bit05\": 0,\n",
      "    \"f0_wrlvl_fine_left_rank0_byte4\": 31,\n",
      "    \"f1_dqsgate_stg1_overflow_18\": 0,\n",
      "    \"f1_wrlat_phy_oe_nib_final_byte1\": 0,\n",
      "    \"f0_rdcmplx_nqtr_right_short_fcrse_nibble12\": 167,\n",
      "    \"f1_wrdqdbi_stg2_dq_odly_bit35\": 0,\n",
      "    \"f0_wrdqdbi_stg3_dq_odly_bit02\": 65,\n",
      "    \"f1_rdcmplx_idelay_offset_nibble08\": 0,\n",
      "    \"cal_stage_time_45\": 0,\n",
      "    \"f1_rdcmplx_idelay_offset_nibble13\": 0,\n",
      "    \"f0_wrlat_phy_oe_nib_final_byte1\": 1,\n",
      "    \"f0_rdcmplx_nqtr_right_nibble03\": 150,\n",
      "    \"f1_dqsgate_stg1_overflow_31\": 0,\n",
      "    \"f0_rdcmplx_pqtr_right_short_nibble08\": 173,\n",
      "    \"f1_rdcmplx_nqtr_final_nibble04\": 0,\n",
      "    \"f0_rdcmplx_pqtr_final_nibble04\": 90,\n",
      "    \"rdvref_right_vref_def_nibble13\": 0,\n",
      "    \"bisc_nqtr_nibble13\": 81,\n",
      "    \"bisc_idly0_align_nibble11\": 74,\n",
      "    \"tag_ver_1\": 0,\n",
      "    \"f0_rddq_idelay_final_bit62\": 85,\n",
      "    \"f0_wrcmplx_left_margin_byte2\": 71,\n",
      "    \"f1_wrdqdbi_deskew_dq_odly_bit52\": 0,\n",
      "    \"f1_wrdqdbi_deskew_dbi_odly_byte0\": 0,\n",
      "    \"f1_wrdqdbi_left_margin_byte4\": 0,\n",
      "    \"f1_wrdqdbi_odly_dq_final_bit57\": 0,\n",
      "    \"f1_rdcmplx_nqtr_left_nibble08\": 0,\n",
      "    \"f1_wrcmplx_odly_dq_final_bit52\": 0,\n",
      "    \"f1_rddq_pqtr_right_nibble10\": 0,\n",
      "    \"f1_wrdqdbi_deskew_dq_odly_bit59\": 0,\n",
      "    \"f1_wrcmplx_left_margin_fcrse_byte4\": 0,\n",
      "    \"f0_wrcmplx_odly_dq_final_bit56\": 96,\n",
      "    \"f1_rdcmplx_nqtr_right_short_nibble06\": 0,\n",
      "    \"f1_rdcmplx_pqtr_left_nibble11\": 0,\n",
      "    \"phy_oe_nib1_dly\": 1,\n",
      "    \"rdvref_left_vref_upp_bound_nibble04\": 0,\n",
      "    \"f0_rdcmplx_pqtr_right_short_nibble12\": 171,\n",
      "    \"f1_rdcmplx_nqtr_right_nibble13\": 0,\n",
      "    \"f1_wrdqdbi_left_edge_dq_bit12\": 0,\n",
      "    \"f1_wrdqdbi_odly_dq_final_bit01\": 0,\n",
      "    \"f0_wrcmplx_odly_dq_final_bit08\": 69,\n",
      "    \"f0_wrdqdbi_deskew_dbi_odly_byte3\": 151,\n",
      "    \"cal_stage_time_41\": 0,\n",
      "    \"dqstrack_rldlyrnk_fine_max_byte5\": 39,\n",
      "    \"f0_rd_comp_rise_ctp_nib_12\": [\n",
      "        90,\n",
      "        176\n",
      "    ],\n",
      "    \"rdvref_left_vref_def_nibble05\": 0,\n",
      "    \"rdvref_left_vref_final_nibble00\": 0,\n",
      "    \"f0_dqsgate_stg1_rldlyrnk_fine_rank0_byte7\": 26,\n",
      "    \"f1_rddq_nqtr_final_nibble15\": 0,\n",
      "    \"f0_rd_simp_rise_ctp_nib_11\": [\n",
      "        96,\n",
      "        190\n",
      "    ],\n",
      "    \"iobmap_dqs_15\": 0,\n",
      "    \"f1_rdprbs_pqtr_right_margin_nibble13\": 0,\n",
      "    \"f1_wrdqdbi_stg2_dq_odly_bit55\": 0,\n",
      "    \"f0_rdcmplx_nqtr_left_nibble03\": 23,\n",
      "    \"f0_mr6_8_0\": 28,\n",
      "    \"freq_switch_restore_error\": 0,\n",
      "    \"f0_wrdqdbi_stg3_dq_odly_bit60\": 75,\n",
      "    \"rdvref_right_vref_upp_bound_nibble08\": 0,\n",
      "    \"f0_rdcmplx_nqtr_right_short_nibble06\": 163,\n",
      "    \"f0_rdcmplx_pqtr_final_nibble13\": 96,\n",
      "    \"f1_rddq_idelay_final_bit40\": 0,\n",
      "    \"mgchk_def_wr_vref_range\": 0,\n",
      "    \"f0_wrcmplx_right_margin_fcrse_byte6\": 60,\n",
      "    \"f1_wrdqdbi_deskew_dq_odly_bit51\": 0,\n",
      "    \"vttrack_rldlyqtr_min_nibble03\": 78,\n",
      "    \"f0_dqsgate_stg1_rldlyrnk_crse_rank0_byte7\": 5,\n",
      "    \"track_enable\": \"UB ISR Tracking, DDRMC ISR Tracking, DQS Gate Tracking, Post-Cal Status\",\n",
      "    \"f0_mr0_17_9\": 6,\n",
      "    \"f0_wrdqdbi_odly_dqs_final_byte3\": 103,\n",
      "    \"cal_seq_status_09\": 396,\n",
      "    \"iobmap_dq_39_38\": 0,\n",
      "    \"cal_stage_time_17\": 144,\n",
      "    \"f0_wrdqdbi_right_edge_dqs_byte6\": 141,\n",
      "    \"cal_seq_status_07\": 265,\n",
      "    \"f1_wrdqdbi_stg6_dbi_odly_byte7\": 0,\n",
      "    \"rdvref_vref_upp_bound_nibble13\": 0,\n",
      "    \"f1_wrlvl_fine_left_rank0_byte7\": 0,\n",
      "    \"f1_wrcmplx_odly_dq_final_bit24\": 0,\n",
      "    \"f0_rd_comp_fall_rm_nib_14\": [\n",
      "        64,\n",
      "        125\n",
      "    ],\n",
      "    \"f0_rd_comp_fall_lm_nib_00\": [\n",
      "        64,\n",
      "        123\n",
      "    ],\n",
      "    \"f1_wrlvl_noise_fcrse_rank0_byte3\": 0,\n",
      "    \"f0_rddq_idelay_final_bit59\": 71,\n",
      "    \"f0_rd_comp_rise_rm_nib_05\": [\n",
      "        67,\n",
      "        128\n",
      "    ],\n",
      "    \"f0_rd_comp_rise_lm_nib_14\": [\n",
      "        67,\n",
      "        133\n",
      "    ],\n",
      "    \"f1_rdprbs_pqtr_left_margin_nibble08\": 0,\n",
      "    \"f1_dqsgate_stg1_overflow_01\": 0,\n",
      "    \"f1_rddq_pqtr_left_nibble05\": 0,\n",
      "    \"f1_wrdqdbi_odly_dq_final_bit15\": 0,\n",
      "    \"rdmargin_nqtr_right_nibble03\": 0,\n",
      "    \"f0_wrlvl_crse_final_rank0_byte6\": 3,\n",
      "    \"f1_wrdqdbi_deskew_dq_odly_bit33\": 0,\n",
      "    \"cal_warning_47\": 0,\n",
      "    \"cal_stage_time_43\": 0,\n",
      "    \"f0_wr_simp_lm_byte_04\": [\n",
      "        74,\n",
      "        144\n",
      "    ],\n",
      "    \"rdvref_vref_upp_bound_nibble15\": 0,\n",
      "    \"f0_wrdqdbi_deskew_dq_odly_fcrse_bit33\": 93,\n",
      "    \"f1_rdcmplx_idelay_offset_nibble04\": 0,\n",
      "    \"f0_rd_comp_rise_lm_nib_05\": [\n",
      "        67,\n",
      "        128\n",
      "    ],\n",
      "    \"f0_wrlvl_fine_final_rank0_byte3\": 81,\n",
      "    \"f0_rd_comp_rise_rm_nib_10\": [\n",
      "        68,\n",
      "        133\n",
      "    ],\n",
      "    \"rdvref_left_vref_final_nibble07\": 0,\n",
      "    \"rdmargin_nqtr_left_nibble13\": 0,\n",
      "    \"f1_rddq_nqtr_final_nibble06\": 0,\n",
      "    \"wrvref_right_vref_low_bound_rank0_byte3\": 0,\n",
      "    \"f0_dqsgate_stg2_read_lat_rank0_byte5\": 27,\n",
      "    \"f0_wrdqdbi_deskew_dq_odly_fcrse_bit47\": 130,\n",
      "    \"f0_wrdqdbi_right_margin_fcrse_byte0\": 70,\n",
      "    \"wrmargin_left_byte4\": 0,\n",
      "    \"f1_dqsgate_stg1_rldlyrnk_crse_rank0_byte3\": 0,\n",
      "    \"f1_wrdqdbi_left_edge_dq_bit49\": 0,\n",
      "    \"f1_rdcmplx_pqtr_left_nibble02\": 0,\n",
      "    \"rdvref_left_vref_def_nibble13\": 0,\n",
      "    \"f1_db_bc0a\": 0,\n",
      "    \"f0_wrdqdbi_left_edge_dq_bit05\": 81,\n",
      "    \"rdvref_right_vref_upp_bound_nibble06\": 0,\n",
      "    \"f0_calbisc_rl_dly_qtr_nibble09\": 80,\n",
      "    \"f1_wrdqdbi_deskew_dbi_odly_fcrse_byte3\": 0,\n",
      "    \"f0_wrdqdbi_odly_dq_final_bit25\": 88,\n",
      "    \"f0_rdcmplx_nqtr_right_nibble02\": 145,\n",
      "    \"f0_rd_comp_fall_lm_nib_11\": [\n",
      "        64,\n",
      "        125\n",
      "    ],\n",
      "    \"ddrmc_isr_ce1_ecc0\": 0,\n",
      "    \"dc0_perf_mon_7\": 0,\n",
      "    \"f1_wrdqdbi_stg2_dq_odly_bit36\": 0,\n",
      "    \"bisc_mon_align_nibble12\": 0,\n",
      "    \"rdvref_right_vref_def_nibble14\": 0,\n",
      "    \"ddrmc_isr_nsu_fatal1\": 0,\n",
      "    \"cal_warning_60\": 0,\n",
      "    \"wrvref_right_vref_upp_bound_rank0_byte1\": 0,\n",
      "    \"f0_wrcmplx_odly_dq_final_bit05\": 82,\n",
      "    \"f0_wrlat_phy_oe_nib_final_byte6\": 1,\n",
      "    \"f0_wrdqdbi_odly_dq_final_bit04\": 74,\n",
      "    \"rdvref_left_vref_final_nibble05\": 0,\n",
      "    \"f0_rddq_pqtr_final_nibble08\": 94,\n",
      "    \"bisc_pqtr_align_nibble05\": 0,\n",
      "    \"f1_rdcmplx_pqtr_left_nibble14\": 0,\n",
      "    \"bisc_idly3_align_nibble13\": 75,\n",
      "    \"dqstrack_rldlyrnk_fine_max_byte6\": 4,\n",
      "    \"f1_rddq_idelay_final_bit08\": 0,\n",
      "    \"bisc_mon_align_nibble00\": 0,\n",
      "    \"f0_wrdqdbi_left_edge_dq_bit51\": 51,\n",
      "    \"f0_wrdqdbi_deskew_dbi_odly_byte1\": 148,\n",
      "    \"f0_wrdqdbi_deskew_dq_odly_fcrse_bit41\": 130,\n",
      "    \"dc1_perf_mon_7\": 0,\n",
      "    \"f0_wrdqdbi_stg2_dq_odly_bit54\": 55,\n",
      "    \"f0_wrdqdbi_stg2_dqs_odly_byte5\": 76,\n",
      "    \"bisc_nqtr_align_nibble07\": 0,\n",
      "    \"wrmargin_left_byte7\": 0,\n",
      "    \"cal_stage_time_29\": 0,\n",
      "    \"dqstrack_rldlyrnk_fine_byte1\": 71,\n",
      "    \"f1_wrdqdbi_deskew_dbi_odly_fcrse_byte7\": 0,\n",
      "    \"cal_error_bit_phy_nibble_18\": 0,\n",
      "    \"f1_rddq_nqtr_right_nibble11\": 0,\n",
      "    \"cal_stage_time_14\": 6,\n",
      "    \"f0_wrdqdbi_odly_dq_final_bit51\": 54,\n",
      "    \"f1_rddq_pqtr_right_fcrse_nibble07\": 0,\n",
      "    \"f1_wrdqdbi_stg2_dq_odly_bit00\": 0,\n",
      "    \"f1_rdcmplx_pqtr_right_short_fcrse_nibble03\": 0,\n",
      "    \"es_vref_steps\": 14,\n",
      "    \"f0_rd_simp_fall_rm_nib_12\": [\n",
      "        76,\n",
      "        145\n",
      "    ],\n",
      "    \"dc1_perf_mon_0\": 0,\n",
      "    \"bisc_nqtr_align_nibble02\": 0,\n",
      "    \"mgchk_rd_vref_0\": 0,\n",
      "    \"f0_dqsgate_read_lat_final_byte7\": 28,\n",
      "    \"f0_rdcmplx_nqtr_right_nibble12\": 146,\n",
      "    \"f1_wrlvl_noise_fcrse_rank0_byte7\": 0,\n",
      "    \"f1_rdprbs_nqtr_right_margin_nibble08\": 0,\n",
      "    \"phy_rden4_dly\": 27,\n",
      "    \"f0_wrdqdbi_stg6_dbi_odly_byte3\": 81,\n",
      "    \"f0_rddq_pqtr_right_nibble02\": 171,\n",
      "    \"f0_wrdqdbi_odly_dq_final_bit46\": 71,\n",
      "    \"f0_wrcmplx_odly_dq_final_bit22\": 54,\n",
      "    \"f1_wrdqdbi_odly_dq_final_bit49\": 0,\n",
      "    \"phy_oe_nib21_dly\": 1,\n",
      "    \"f1_wrdqdbi_stg2_dq_odly_bit40\": 0,\n",
      "    \"f1_dqsgate_stg1_overflow_52\": 0,\n",
      "    \"f0_wrdqdbi_left_edge_dq_bit37\": 25,\n",
      "    \"cal_seq_status_41\": 447,\n",
      "    \"bisc_rl_dly_qtr_nibble14\": 79,\n",
      "    \"rdvref_vref_final_nibble06\": 0,\n",
      "    \"f0_wrcmplx_right_margin_byte3\": 59,\n",
      "    \"f1_rddq_qtr_deskew_nibble09\": 0,\n",
      "    \"bisc_idly0_align_nibble10\": 66,\n",
      "    \"phy_oe_nib5_dly\": 1,\n",
      "    \"f1_wrdqdbi_left_edge_dq_bit04\": 0,\n",
      "    \"f1_wrcmplx_odly_dq_final_bit31\": 0,\n",
      "    \"f1_wrdqdbi_stg1_bit_status_byte4\": 0,\n",
      "    \"f0_rdprbs_nqtr_left_margin_nibble07\": 0,\n",
      "    \"f0_rddq_nqtr_final_nibble15\": 98,\n",
      "    \"f1_wrlat_phy_oe_nib_final_byte7\": 0,\n",
      "    \"f0_rd_comp_fall_rm_nib_15\": [\n",
      "        63,\n",
      "        122\n",
      "    ],\n",
      "    \"f1_write_latency\": 1,\n",
      "    \"f0_rddq_pqtr_right_nibble09\": 171,\n",
      "    \"f0_rdcmplx_nqtr_left_nibble15\": 26,\n",
      "    \"f1_rdprbs_nqtr_left_margin_nibble11\": 0,\n",
      "    \"f0_wrdqdbi_deskew_dq_odly_fcrse_bit00\": 145,\n",
      "    \"f1_wrdqdbi_stg2_dq_odly_bit47\": 0,\n",
      "    \"f1_wrdqdbi_deskew_dq_odly_fcrse_bit59\": 0,\n",
      "    \"bisc_pqtr_align_nibble06\": 0,\n",
      "    \"phy_rden0_dly\": 26,\n",
      "    \"bisc_idly1_align_nibble06\": 73,\n",
      "    \"f0_dqsgate_stg1_overflow_26\": 0,\n",
      "    \"f1_wrdqdbi_stg3_dq_odly_bit03\": 0,\n",
      "    \"mgchk_def_wr_vref\": 28,\n",
      "    \"f0_rd_comp_fall_rm_nib_10\": [\n",
      "        63,\n",
      "        123\n",
      "    ],\n",
      "    \"cal_stage_time_10\": 6,\n",
      "    \"bisc_idly5_align_nibble11\": 79,\n",
      "    \"cal_warning_74\": 0,\n",
      "    \"dqstrack_rldlyrnk_crse_byte3\": 2,\n",
      "    \"f0_wrdqdbi_left_margin_byte1\": 84,\n",
      "    \"f1_wrdqdbi_stg3_dq_odly_bit52\": 0,\n",
      "    \"warning_code_ver\": 1,\n",
      "    \"f1_wrdqdbi_stg4_dqs_delay_byte6\": 0,\n",
      "    \"f1_wrlat_xpi_wrdata_all_final\": 0,\n",
      "    \"f0_rd_simp_rise_ctp_nib_08\": [\n",
      "        94,\n",
      "        181\n",
      "    ],\n",
      "    \"f0_rd_simp_rise_ctp_nib_04\": [\n",
      "        96,\n",
      "        190\n",
      "    ],\n",
      "    \"f1_wrdqdbi_odly_dq_final_bit36\": 0,\n",
      "    \"f0_rdcmplx_pqtr_final_nibble12\": 90,\n",
      "    \"f1_dqsgate_stg1_overflow_26\": 0,\n",
      "    \"f1_wrdqdbi_right_margin_fcrse_byte3\": 0,\n",
      "    \"ref_en\": 0,\n",
      "    \"rdvref_left_vref_def_nibble03\": 0,\n",
      "    \"f0_rdcmplx_nqtr_left_nibble06\": 20,\n",
      "    \"f1_wrdqdbi_deskew_dq_odly_fcrse_bit32\": 0,\n",
      "    \"f1_wrcmplx_odly_dq_final_bit28\": 0,\n",
      "    \"f0_rd_simp_fall_lm_nib_14\": [\n",
      "        76,\n",
      "        148\n",
      "    ],\n",
      "    \"f0_rd_comp_fall_ctp_nib_15\": [\n",
      "        89,\n",
      "        172\n",
      "    ],\n",
      "    \"f0_wr_comp_lm_byte_07\": [\n",
      "        75,\n",
      "        148\n",
      "    ],\n",
      "    \"f0_rddq_nqtr_right_fcrse_nibble01\": 184,\n",
      "    \"cal_stage_time_30\": 0,\n",
      "    \"cal_stage_time_19\": 95,\n",
      "    \"f0_dqsgate_read_lat_final_byte2\": 26,\n",
      "    \"rdmargin_pqtr_left_nibble00\": 0,\n",
      "    \"f0_rddq_nqtr_left_nibble12\": 21,\n",
      "    \"f0_wrdqdbi_stg1_dqs_delay_byte4\": 49,\n",
      "    \"ddrmc_isr_na_cmd1\": 0,\n",
      "    \"f0_rddq_pqtr_final_nibble15\": 94,\n",
      "    \"f1_rddq_nqtr_left_nibble07\": 0,\n",
      "    \"f1_wrlvl_fine_right_rank0_byte5\": 0,\n",
      "    \"bisc_rl_dly_qtr_nibble10\": 80,\n",
      "    \"cal_warning_19\": 0,\n",
      "    \"f0_dqsgate_stg1_overflow_51\": 0,\n",
      "    \"f1_calbisc_rl_dly_nqtr_nibble09\": 0,\n",
      "    \"f0_rddq_qtr_deskew_nibble09\": 1,\n",
      "    \"nibbles\": 16,\n",
      "    \"f1_rdcmplx_nqtr_right_short_nibble04\": 0,\n",
      "    \"f1_rddq_nqtr_right_nibble02\": 0,\n",
      "    \"f1_rdprbs_nqtr_right_margin_nibble09\": 0,\n",
      "    \"f1_dqsgate_stg1_overflow_22\": 0,\n",
      "    \"f1_wrprbs_left_margin_byte2\": 0,\n",
      "    \"f0_wrdqdbi_stg3_dq_odly_bit55\": 55,\n",
      "    \"f1_wrdqdbi_stg2_dq_odly_bit52\": 0,\n",
      "    \"f1_wrdqdbi_odly_dqs_final_byte1\": 0,\n",
      "    \"f1_rdprbs_pqtr_left_margin_nibble10\": 0,\n",
      "    \"f0_rdcmplx_nqtr_left_nibble02\": 21,\n",
      "    \"f0_rd_comp_fall_lm_nib_08\": [\n",
      "        58,\n",
      "        112\n",
      "    ],\n",
      "    \"cal_error_bit_phy_nibble_20\": 0,\n",
      "    \"f0_rdcmplx_nqtr_right_nibble13\": 147,\n",
      "    \"f1_dqsgate_stg1_read_lat_rank0_byte4\": 0,\n",
      "    \"f1_wrdqdbi_stg2_dq_odly_bit54\": 0,\n",
      "    \"f1_rdcmplx_idelay_offset_nibble06\": 0,\n",
      "    \"f0_rd_simp_fall_lm_nib_10\": [\n",
      "        76,\n",
      "        148\n",
      "    ],\n",
      "    \"phy_rden23_dly\": 25,\n",
      "    \"f1_dqsgate_rldlyrnk_crse_final_rank0_byte6\": 0,\n",
      "    \"f0_rddq_nqtr_left_nibble14\": 19,\n",
      "    \"f0_wrdqdbi_odly_dq_final_bit43\": 58,\n",
      "    \"f1_wrdqdbi_deskew_dq_odly_bit04\": 0,\n",
      "    \"f0_rd_simp_rise_lm_nib_08\": [\n",
      "        77,\n",
      "        149\n",
      "    ],\n",
      "    \"mgchk_pattern_config_0\": 0,\n",
      "    \"f1_wrdqdbi_odly_dq_final_bit10\": 0,\n",
      "    \"f0_rdcmplx_pqtr_final_nibble10\": 91,\n",
      "    \"bisc_nqtr_align_nibble13\": 0,\n",
      "    \"rdmargin_pqtr_left_nibble11\": 0,\n",
      "    \"f0_wrdqdbi_stg3_dq_odly_bit14\": 64,\n",
      "    \"iobmap_dq_9_8\": 0,\n",
      "    \"ddrmc_isr_ce1_ecc1\": 0,\n",
      "    \"cal_stage_time_59\": 0,\n",
      "    \"dqstrack_rldlyrnk_fine_min_byte3\": 29,\n",
      "    \"f0_wrcmplx_left_margin_fcrse_byte7\": 70,\n",
      "    \"f1_wrdqdbi_stg3_dq_odly_bit62\": 0,\n",
      "    \"f1_rdcmplx_pqtr_right_short_nibble09\": 0,\n",
      "    \"f1_wrdqdbi_right_edge_dqs_byte3\": 0,\n",
      "    \"f0_rd_comp_fall_lm_nib_07\": [\n",
      "        63,\n",
      "        123\n",
      "    ],\n",
      "    \"cal_warning_24\": 0,\n",
      "    \"f1_wrdqdbi_left_edge_dq_bit22\": 0,\n",
      "    \"rdvref_right_vref_upp_bound_nibble02\": 0,\n",
      "    \"f0_mr3_17_9\": 0,\n",
      "    \"f1_wrprbs_left_margin_byte1\": 0,\n",
      "    \"f0_rddq_idelay_final_bit29\": 78,\n",
      "    \"f0_wrcmplx_odly_dq_final_bit61\": 94,\n",
      "    \"f1_wrdqdbi_stg3_dq_odly_bit24\": 0,\n",
      "    \"f0_wrcmplx_odly_dq_final_bit00\": 78,\n",
      "    \"f1_wrdqdbi_stg5_dqs_odly_byte0\": 0,\n",
      "    \"rdvref_left_vref_upp_bound_nibble07\": 0,\n",
      "    \"f1_wrcmplx_odly_dq_final_bit12\": 0,\n",
      "    \"mgchk_error\": 0,\n",
      "    \"f1_dqsgate_stg1_overflow_10\": 0,\n",
      "    \"f0_rdprbs_pqtr_left_margin_nibble07\": 0,\n",
      "    \"f1_wrlvl_fine_right_rank0_byte3\": 0,\n",
      "    \"f0_dqsgate_stg1_overflow_20\": 0,\n",
      "    \"ddrmc_pcsr_status_calerror\": 0,\n",
      "    \"f0_wrcmplx_left_margin_byte1\": 71,\n",
      "    \"f0_rddq_idelay_final_bit15\": 74,\n",
      "    \"f1_rdcmplx_idelay_offset_nibble01\": 0,\n",
      "    \"f1_rdcmplx_pqtr_right_short_nibble06\": 0,\n",
      "    \"f1_calbisc_rl_dly_pqtr_nibble00\": 0,\n",
      "    \"f0_rdcmplx_nqtr_right_nibble04\": 155,\n",
      "    \"dqs_track_en\": 0,\n",
      "    \"f1_wrdqdbi_stg2_dq_odly_bit19\": 0,\n",
      "    \"f1_add_cmd_dly\": 0,\n",
      "    \"f1_rdprbs_pqtr_left_margin_nibble14\": 0,\n",
      "    \"f0_rdprbs_nqtr_left_margin_nibble03\": 0,\n",
      "    \"f1_wrdqdbi_odly_dq_final_bit58\": 0,\n",
      "    \"cal_warning_15\": 0,\n",
      "    \"f1_wrdqdbi_odly_dq_final_bit52\": 0,\n",
      "    \"f1_rddq_qtr_deskew_nibble05\": 0,\n",
      "    \"f1_wrcmplx_right_margin_byte2\": 0,\n",
      "    \"f0_wrcmplx_odly_dq_final_bit40\": 77,\n",
      "    \"f1_wrdqdbi_left_margin_byte6\": 0,\n",
      "    \"wrvref_right_vref_final_rank0_byte4\": 0,\n",
      "    \"f0_rd_comp_fall_lm_nib_13\": [\n",
      "        60,\n",
      "        116\n",
      "    ],\n",
      "    \"bisc_idly0_align_nibble07\": 77,\n",
      "    \"f0_wr_comp_rm_byte_05\": [\n",
      "        62,\n",
      "        122\n",
      "    ],\n",
      "    \"vttrack_rldlyqtr_min_nibble11\": 76,\n",
      "    \"wrvref_right_vref_upp_bound_rank0_byte6\": 0,\n",
      "    \"f0_rdcmplx_pqtr_left_short_nibble06\": 19,\n",
      "    \"f1_rddq_idelay_final_bit37\": 0,\n",
      "    \"f1_wrdqdbi_stg2_dq_odly_bit01\": 0,\n",
      "    \"f1_wrdqdbi_deskew_dq_odly_bit53\": 0,\n",
      "    \"f0_wrdqdbi_left_edge_dq_bit34\": 31,\n",
      "    \"f1_wrdqdbi_stg2_dq_odly_bit62\": 0,\n",
      "    \"f0_wrlat_phy_oe_nib_final_byte3\": 1,\n",
      "    \"cal_status\": \"PASS\",\n",
      "    \"f1_mr5_rtt_park\": 0,\n",
      "    \"vttrack_rldlyqtr_max_nibble00\": 82,\n",
      "    \"f0_wrdqdbi_deskew_dq_odly_bit21\": 121,\n",
      "    \"f1_wrdqdbi_left_edge_dq_bit09\": 0,\n",
      "    \"f1_wrcmplx_odly_dbi_final_byte7\": 0,\n",
      "    \"f0_rdcmplx_nqtr_left_short_nibble06\": 20,\n",
      "    \"f1_rddq_nqtr_left_nibble11\": 0,\n",
      "    \"f1_wrdqdbi_right_margin_byte4\": 0,\n",
      "    \"cal_stage_time_28\": 0,\n",
      "    \"rdvref_left_vref_low_bound_nibble00\": 0,\n",
      "    \"f1_rdprbs_pqtr_right_margin_nibble00\": 0,\n",
      "    \"f1_rdcmplx_pqtr_right_nibble15\": 0,\n",
      "    \"f0_rddq_pqtr_left_nibble07\": 17,\n",
      "    \"wrmargin_left_byte5\": 0,\n",
      "    \"xpi_read_offset\": 2197,\n",
      "    \"f0_wrdqdbi_stg3_dq_odly_bit49\": 55,\n",
      "    \"phy_rden7_dly\": 27,\n",
      "    \"rdvref_left_vref_upp_bound_nibble06\": 0,\n",
      "    \"f0_rd_simp_rise_ctp_nib_13\": [\n",
      "        99,\n",
      "        193\n",
      "    ],\n",
      "    \"cal_error_bit_phy_nibble_25\": 0,\n",
      "    \"f0_wrdqdbi_deskew_dbi_odly_byte5\": 146,\n",
      "    \"f0_wrdqdbi_stg1_dqs_delay_byte6\": 71,\n",
      "    \"f1_dqsgate_stg1_overflow_40\": 0,\n",
      "    \"f0_wrdqdbi_stg2_dq_odly_bit39\": 33,\n",
      "    \"wrvref_right_vref_def_rank0_byte3\": 0,\n",
      "    \"dqstrack_rldlyrnk_fine_max_byte1\": 77,\n",
      "    \"rdvref_left_vref_low_bound_nibble07\": 0,\n",
      "    \"f1_wrdqdbi_stg3_dq_odly_bit18\": 0,\n",
      "    \"f1_rddq_qtr_deskew_nibble07\": 0,\n",
      "    \"f1_wrdqdbi_left_edge_dbi_byte7\": 0,\n",
      "    \"phy_oe_nib23_dly\": 0,\n",
      "    \"f0_rddq_qtr_deskew_nibble14\": 1,\n",
      "    \"f0_wrdqdbi_stg2_dq_odly_bit44\": 60,\n",
      "    \"cal_warning_75\": 0,\n",
      "    \"f0_rdcmplx_nqtr_left_nibble01\": 31,\n",
      "    \"f0_rdcmplx_pqtr_right_short_fcrse_nibble09\": 174,\n",
      "    \"dqstrack_rldlyrnk_crse_max_byte1\": 4,\n",
      "    \"f0_rddq_idelay_final_bit17\": 71,\n",
      "    \"rdvref_vref_final_nibble05\": 0,\n",
      "    \"rdmargin_pqtr_right_nibble02\": 0,\n",
      "    \"f1_wrdqdbi_stg3_dq_odly_bit44\": 0,\n",
      "    \"cal_warning_69\": 0,\n",
      "    \"f0_wrdqdbi_left_edge_dq_bit29\": 84,\n",
      "    \"f1_calbisc_rl_dly_pqtr_nibble09\": 0,\n",
      "    \"f1_wrcmplx_odly_dqs_final_byte4\": 0,\n",
      "    \"f1_dqsgate_stg1_overflow_12\": 0,\n",
      "    \"ddrmc_isr_uc0_ecc0\": 0,\n",
      "    \"cal_warning_42\": 0,\n",
      "    \"f1_rddq_idelay_final_bit19\": 0,\n",
      "    \"f1_wrdqdbi_left_edge_dq_bit44\": 0,\n",
      "    \"f1_rdprbs_pqtr_left_margin_nibble15\": 0,\n",
      "    \"iobmap_dq_49_48\": 0,\n",
      "    \"f1_wrcmplx_odly_dq_final_bit01\": 0,\n",
      "    \"rdmargin_nqtr_left_nibble00\": 0,\n",
      "    \"f1_rdcmplx_nqtr_left_short_nibble01\": 0,\n",
      "    \"rdvref_vref_upp_bound_nibble10\": 0,\n",
      "    \"rdvref_right_vref_final_nibble14\": 0,\n",
      "    \"f1_rdcmplx_nqtr_right_short_nibble08\": 0,\n",
      "    \"f0_wrlat_phy_data_nib_final_byte0\": 0,\n",
      "    \"f1_wrlvl_crse_final_rank0_byte5\": 0,\n",
      "    \"f1_rdcmplx_nqtr_left_short_nibble10\": 0,\n",
      "    \"f1_rdprbs_pqtr_right_margin_nibble12\": 0,\n",
      "    \"cal_seq_status_14\": 272,\n",
      "    \"f1_wrdqdbi_stg3_dq_odly_bit22\": 0,\n",
      "    \"f0_lp4_mr14\": 0,\n",
      "    \"f1_wrdqdbi_deskew_dq_odly_fcrse_bit12\": 0,\n",
      "    \"cal_warning_26\": 0,\n",
      "    \"f0_rdprbs_nqtr_right_margin_nibble00\": 0,\n",
      "    \"cal_seq_status_46\": 0,\n",
      "    \"f0_dqsgate_stg1_overflow_47\": 0,\n",
      "    \"rdvref_right_vref_final_nibble00\": 0,\n",
      "    \"f1_wrdqdbi_stg2_dq_odly_bit38\": 0,\n",
      "    \"es_data_need_update\": 0,\n",
      "    \"f0_rdcmplx_pqtr_left_short_nibble15\": 21,\n",
      "    \"f1_wrdqdbi_deskew_dq_odly_bit56\": 0,\n",
      "    \"f0_wrdqdbi_right_margin_byte4\": 80,\n",
      "    \"bisc_idly1_align_nibble05\": 80,\n",
      "    \"f0_rdprbs_pqtr_left_margin_nibble14\": 0,\n",
      "    \"cal_seq_status_13\": 271,\n",
      "    \"f1_wrdqdbi_left_margin_byte7\": 0,\n",
      "    \"f0_lp4_mr23\": 0,\n",
      "    \"iobmap_dq_67_66\": 0,\n",
      "    \"f1_calbisc_rl_dly_nqtr_nibble01\": 0,\n",
      "    \"wrmargin_right_byte5\": 0,\n",
      "    \"cal_warning_62\": 0,\n",
      "    \"f0_wrdqdbi_stg1_bit_status_byte0\": 255,\n",
      "    \"f0_wrdqdbi_stg2_dq_odly_bit24\": 81,\n",
      "    \"f1_rdprbs_nqtr_left_margin_nibble04\": 0,\n",
      "    \"f0_rdcmplx_nqtr_right_short_fcrse_nibble07\": 165,\n",
      "    \"phy_oe_nib17_dly\": 0,\n",
      "    \"f1_wrcmplx_odly_dq_final_bit19\": 0,\n",
      "    \"bisc_idly5_align_nibble15\": 80,\n",
      "    \"f0_wrlvl_fine_left_rank0_byte5\": 57,\n",
      "    \"cal_time_17_9\": 1,\n",
      "    \"iobmap_dq_17_16\": 0,\n",
      "    \"f1_rddq_idelay_final_bit34\": 0,\n",
      "    \"f0_rdcmplx_pqtr_right_short_nibble02\": 169,\n",
      "    \"f1_rdprbs_pqtr_left_margin_nibble04\": 0,\n",
      "    \"f0_wrdqdbi_left_margin_byte7\": 80,\n",
      "    \"f1_wrdqdbi_stg3_dq_odly_bit28\": 0,\n",
      "    \"iobmap_dq_63_62\": 0,\n",
      "    \"f1_wrcmplx_odly_dq_final_bit61\": 0,\n",
      "    \"cal_warning_03\": 0,\n",
      "    \"bisc_nqtr_nibble07\": 80,\n",
      "    \"f0_wrlat_phy_data_nib_final_byte2\": 1,\n",
      "    \"f0_rd_simp_rise_lm_nib_01\": [\n",
      "        77,\n",
      "        147\n",
      "    ],\n",
      "    \"ub_isntr_ue\": 0,\n",
      "    \"wrvref_left_vref_final_rank0_byte7\": 0,\n",
      "    \"f0_wrdqdbi_deskew_dbi_odly_fcrse_byte2\": 109,\n",
      "    \"phy_rden5_dly\": 27,\n",
      "    \"rdvref_vref_upp_bound_nibble00\": 0,\n",
      "    \"f0_wrlat_phy_oe_nib_final_byte5\": 1,\n",
      "    \"iobmap_dqs_9\": 0,\n",
      "    \"bisc_idly1_align_nibble03\": 79,\n",
      "    \"f1_wrdqdbi_deskew_dq_odly_bit29\": 0,\n",
      "    \"f0_wrcmplx_odly_dbi_final_byte1\": 76,\n",
      "    \"f0_rdprbs_nqtr_right_margin_nibble06\": 0,\n",
      "    \"f1_wrdqdbi_stg3_dq_odly_bit51\": 0,\n",
      "    \"f1_wrdqdbi_stg3_dq_odly_bit17\": 0,\n",
      "    \"f0_wrlat_match_rank0_byte7\": 17,\n",
      "    \"f0_wrdqdbi_left_edge_dq_bit49\": 49,\n",
      "    \"f0_wrdqdbi_odly_dq_final_bit26\": 79,\n",
      "    \"f1_wrlvl_noise_fcrse_rank0_byte4\": 0,\n",
      "    \"phy_rank_write_override\": 0,\n",
      "    \"f0_wrdqdbi_deskew_dq_odly_bit19\": 113,\n",
      "    \"f1_wrprbs_left_margin_byte4\": 0,\n",
      "    \"header_ver\": 1,\n",
      "    \"f0_wr_simp_ctp_byte_00\": [\n",
      "        245,\n",
      "        473\n",
      "    ],\n",
      "    \"f0_wrdqdbi_left_edge_dq_bit21\": 41,\n",
      "    \"f1_dqsgate_stg1_rldlyrnk_crse_rank0_byte0\": 0,\n",
      "    \"f0_rd_simp_fall_ctp_nib_14\": [\n",
      "        95,\n",
      "        186\n",
      "    ],\n",
      "    \"cal_error_bit_phy_nibble_00\": 0,\n",
      "    \"rdvref_right_vref_upp_bound_nibble09\": 0,\n",
      "    \"iobmap_dq_37_36\": 0,\n",
      "    \"f0_rddq_nqtr_right_nibble01\": 178,\n",
      "    \"cal_seq_status_06\": 264,\n",
      "    \"bisc_mon_align_nibble08\": 0,\n",
      "    \"rdvref_right_vref_final_nibble03\": 0,\n",
      "    \"f1_rddq_nqtr_left_nibble04\": 0,\n",
      "    \"f1_rddq_idelay_final_bit45\": 0,\n",
      "    \"f1_rddq_idelay_final_bit42\": 0,\n",
      "    \"f1_dqsgate_stg1_overflow_21\": 0,\n",
      "    \"cal_warning_70\": 0,\n",
      "    \"bisc_nqtr_nibble10\": 80,\n",
      "    \"dc0_perf_mon_8\": 0,\n",
      "    \"rdmargin_nqtr_left_nibble07\": 0,\n",
      "    \"f0_calbisc_rl_dly_pqtr_nibble13\": 80,\n",
      "    \"f0_dqsgate_stg1_rldlyrnk_crse_rank0_byte0\": 8,\n",
      "    \"f0_wrcmplx_odly_dq_final_bit13\": 71,\n",
      "    \"f1_dqsgate_stg2_rldlyrnk_crse_rank0_byte2\": 0,\n",
      "    \"f0_wrcmplx_left_margin_fcrse_byte5\": 70,\n",
      "    \"f0_rdcmplx_nqtr_left_short_nibble01\": 31,\n",
      "    \"f1_calbisc_rl_dly_nqtr_nibble06\": 0,\n",
      "    \"mgchk_ctrl\": 0,\n",
      "    \"f0_rddq_pqtr_right_nibble00\": 171,\n",
      "    \"f0_rd_simp_rise_lm_nib_12\": [\n",
      "        79,\n",
      "        154\n",
      "    ],\n",
      "    \"f1_rdprbs_pqtr_right_margin_nibble09\": 0,\n",
      "    \"f0_rddq_nqtr_left_nibble09\": 28,\n",
      "    \"wrvref_left_vref_upp_bound_rank0_byte4\": 0,\n",
      "    \"f0_wrdqdbi_left_edge_dq_bit56\": 85,\n",
      "    \"f0_wrdqdbi_odly_dq_final_bit01\": 67,\n",
      "    \"wrvref_right_vref_low_bound_rank0_byte4\": 0,\n",
      "    \"f0_rddq_idelay_final_bit20\": 85,\n",
      "    \"f1_wrcmplx_odly_dq_final_bit27\": 0,\n",
      "    \"f0_calbisc_rl_dly_qtr_nibble13\": 80,\n",
      "    \"f0_wrlvl_fine_right_rank0_byte2\": 42,\n",
      "    \"rdmargin_nqtr_left_nibble08\": 0,\n",
      "    \"f0_wrdqdbi_stg3_dq_odly_bit53\": 55,\n",
      "    \"cal_stage_time_51\": 0,\n",
      "    \"f0_rdcmplx_nqtr_final_nibble00\": 90,\n",
      "    \"f0_rddq_nqtr_left_nibble08\": 23,\n",
      "    \"f0_wrdqdbi_stg3_dq_odly_bit46\": 60,\n",
      "    \"f1_wrlvl_offset_rank0_byte5\": 0,\n",
      "    \"f1_rdcmplx_nqtr_left_nibble05\": 0,\n",
      "    \"iobmap_dq_35_34\": 0,\n",
      "    \"ddrmc_isr_ch1_data_par\": 0,\n",
      "    \"f0_wrdqdbi_stg1_bit_status_byte1\": 0,\n",
      "    \"bisc_idly2_align_nibble10\": 67,\n",
      "    \"f0_wrdqdbi_deskew_dq_odly_bit15\": 144,\n",
      "    \"f0_calbisc_rl_dly_pqtr_nibble05\": 82,\n",
      "    \"xpi_read_offset_phy_rden\": 5,\n",
      "    \"f0_wrdqdbi_stg3_dq_odly_bit32\": 33,\n",
      "    \"f1_dqsgate_stg1_overflow_08\": 0,\n",
      "    \"f0_wrdqdbi_stg2_dq_odly_bit14\": 64,\n",
      "    \"cal_seq_status_15\": 401,\n",
      "    \"f0_rddq_pqtr_left_nibble03\": 17,\n",
      "    \"rdmargin_nqtr_left_nibble04\": 0,\n",
      "    \"f1_rddq_idelay_final_bit11\": 0,\n",
      "    \"f0_rddq_idelay_final_bit27\": 78,\n",
      "    \"f1_wrdqdbi_odly_dq_final_bit43\": 0,\n",
      "    \"f0_wrdqdbi_left_edge_dq_bit02\": 64,\n",
      "    \"f1_rddq_pqtr_right_fcrse_nibble04\": 0,\n",
      "    \"f0_dqsgate_stg1_overflow_53\": 0,\n",
      "    \"cal_warning_16\": 0,\n",
      "    \"f1_calbisc_rl_dly_pqtr_nibble02\": 0,\n",
      "    \"f0_rd_simp_rise_lm_nib_15\": [\n",
      "        77,\n",
      "        154\n",
      "    ],\n",
      "    \"vttrack_rldlyqtr_nibble06\": 81,\n",
      "    \"bisc_idly5_align_nibble08\": 72,\n",
      "    \"f0_wrdqdbi_left_edge_dq_bit39\": 34,\n",
      "    \"f0_calbisc_rl_dly_nqtr_nibble05\": 83,\n",
      "    \"f0_rddq_pqtr_right_fcrse_nibble09\": 172,\n",
      "    \"f0_rd_comp_fall_rm_nib_11\": [\n",
      "        65,\n",
      "        127\n",
      "    ],\n",
      "    \"wrvref_vref_upp_bound_rank0_byte4\": 0,\n",
      "    \"f0_wrlvl_offset_rank0_byte5\": 82,\n",
      "    \"f1_wrlvl_fine_final_rank0_byte5\": 0,\n",
      "    \"f1_wrdqdbi_deskew_dbi_odly_fcrse_byte4\": 0,\n",
      "    \"wrvref_left_vref_final_rank0_byte5\": 0,\n",
      "    \"phy_oe_nib22_dly\": 0,\n",
      "    \"f0_rddq_pqtr_right_nibble01\": 171,\n",
      "    \"f1_rddq_pqtr_left_nibble09\": 0,\n",
      "    \"cal_seq_status_32\": 303,\n",
      "    \"f1_wrdqdbi_left_edge_dq_bit13\": 0,\n",
      "    \"wrvref_vref_def\": 0,\n",
      "    \"f1_wrcmplx_right_margin_byte5\": 0,\n",
      "    \"f0_wrlvl_crse_stg1_rank0_byte5\": 3,\n",
      "    \"f0_rdprbs_nqtr_left_margin_nibble05\": 0,\n",
      "    \"f0_wrdqdbi_right_margin_fcrse_byte2\": 60,\n",
      "    \"bisc_nqtr_nibble15\": 81,\n",
      "    \"f0_rdcmplx_pqtr_right_short_nibble05\": 175,\n",
      "    \"f0_rdcmplx_pqtr_right_nibble00\": 161,\n",
      "    \"f1_rdcmplx_pqtr_right_short_fcrse_nibble14\": 0,\n",
      "    \"f0_rd_comp_rise_lm_nib_00\": [\n",
      "        67,\n",
      "        131\n",
      "    ],\n",
      "    \"f0_rd_simp_fall_rm_nib_07\": [\n",
      "        76,\n",
      "        148\n",
      "    ],\n",
      "    \"vttrack_rldlyqtr_nibble01\": 80,\n",
      "    \"f1_rddq_pqtr_left_nibble11\": 0,\n",
      "    \"f0_wrdqdbi_stg3_dq_odly_bit47\": 60,\n",
      "    \"rdvref_right_vref_final_nibble07\": 0,\n",
      "    \"phy_rden8_dly\": 22,\n",
      "    \"f1_wrdqdbi_stg1_bit_status_byte6\": 0,\n",
      "    \"f1_rddq_nqtr_final_nibble12\": 0,\n",
      "    \"bisc_idly2_align_nibble09\": 76,\n",
      "    \"f0_wr_simp_rm_byte_01\": [\n",
      "        61,\n",
      "        118\n",
      "    ],\n",
      "    \"bisc_idly3_align_nibble01\": 77,\n",
      "    \"rdvref_right_vref_low_bound_nibble12\": 0,\n",
      "    \"f0_rdcmplx_pqtr_right_short_fcrse_nibble11\": 181,\n",
      "    \"f1_wrdqdbi_stg3_dq_odly_bit49\": 0,\n",
      "    \"f1_wrdqdbi_odly_dq_final_bit19\": 0,\n",
      "    \"wrvref_right_vref_def_rank0_byte2\": 0,\n",
      "    \"mgchk_abort\": 0,\n",
      "    \"f1_wrdqdbi_stg4_dqs_delay_byte4\": 0,\n",
      "    \"f1_rddq_nqtr_final_nibble13\": 0,\n",
      "    \"f1_calbisc_rl_dly_nqtr_nibble04\": 0,\n",
      "    \"f0_rd_simp_fall_ctp_nib_07\": [\n",
      "        96,\n",
      "        188\n",
      "    ],\n",
      "    \"f0_wr_comp_ctp_byte_00\": [\n",
      "        245,\n",
      "        473\n",
      "    ],\n",
      "    \"f1_wrdqdbi_stg2_dq_odly_bit46\": 0,\n",
      "    \"f0_rd_simp_rise_lm_nib_00\": [\n",
      "        77,\n",
      "        150\n",
      "    ],\n",
      "    \"f0_rddq_pqtr_left_nibble00\": 17,\n",
      "    \"f0_mr6_17_9\": 8,\n",
      "    \"f1_wrcmplx_right_margin_fcrse_byte2\": 0,\n",
      "    \"f1_rddq_pqtr_left_nibble01\": 0,\n",
      "    \"f1_wrcmplx_odly_dq_final_bit54\": 0,\n",
      "    \"f0_rdcmplx_pqtr_left_nibble13\": 27,\n",
      "    \"cal_warning_51\": 0,\n",
      "    \"wrvref_left_vref_upp_bound_rank0_byte1\": 0,\n",
      "    \"f0_rd_comp_fall_ctp_nib_05\": [\n",
      "        90,\n",
      "        169\n",
      "    ],\n",
      "    \"f0_wrdqdbi_odly_dq_final_bit31\": 94,\n",
      "    \"rdmargin_pqtr_right_nibble12\": 0,\n",
      "    \"f0_wrdqdbi_left_edge_dq_bit27\": 94,\n",
      "    \"f0_wrlat_match_rank0_byte5\": 17,\n",
      "    \"cal_status_map_ver\": 1,\n",
      "    \"f0_rd_comp_rise_ctp_nib_15\": [\n",
      "        91,\n",
      "        182\n",
      "    ],\n",
      "    \"f0_rd_simp_rise_rm_nib_13\": [\n",
      "        82,\n",
      "        160\n",
      "    ],\n",
      "    \"f0_rd_simp_rise_ctp_nib_01\": [\n",
      "        94,\n",
      "        179\n",
      "    ],\n",
      "    \"f0_calbisc_rl_dly_qtr_nibble08\": 81,\n",
      "    \"bisc_pqtr_nibble08\": 81,\n",
      "    \"f1_wrlvl_fine_right_rank0_byte1\": 0,\n",
      "    \"f0_rddq_nqtr_left_nibble01\": 29,\n",
      "    \"f1_rddq_idelay_final_bit04\": 0,\n",
      "    \"f1_wrdqdbi_stg3_dq_odly_bit05\": 0,\n",
      "    \"f1_rdcmplx_pqtr_final_nibble12\": 0,\n",
      "    \"f1_wrcmplx_odly_dq_final_bit53\": 0,\n",
      "    \"f0_wrdqdbi_odly_dq_final_bit17\": 35,\n",
      "    \"f0_wrdqdbi_odly_dq_final_bit33\": 26,\n",
      "    \"cal_warning_56\": 0,\n",
      "    \"f1_dqsgate_read_lat_final_byte2\": 0,\n",
      "    \"f0_mr1_8_0\": 257,\n",
      "    \"f0_wrdqdbi_stg3_dq_odly_bit18\": 39,\n",
      "    \"f0_rdcmplx_nqtr_left_short_nibble09\": 29,\n",
      "    \"vttrack_rldlyqtr_max_nibble03\": 83,\n",
      "    \"f0_rdcmplx_pqtr_right_short_fcrse_nibble00\": 171,\n",
      "    \"f1_wrdqdbi_deskew_dq_odly_bit46\": 0,\n",
      "    \"f0_rdcmplx_pqtr_left_short_nibble03\": 22,\n",
      "    \"f1_wrdqdbi_left_edge_dq_bit08\": 0,\n",
      "    \"dqstrack_rldlyrnk_fine_max_byte2\": 47,\n",
      "    \"f0_dqsgate_rldlyrnk_crse_final_rank0_byte6\": 3,\n",
      "    \"f1_rddq_pqtr_right_fcrse_nibble08\": 0,\n",
      "    \"f1_wrdqdbi_deskew_dq_odly_fcrse_bit03\": 0,\n",
      "    \"cal_warning_72\": 0,\n",
      "    \"rdvref_vref_low_bound_nibble00\": 0,\n",
      "    \"f1_wrdqdbi_left_edge_dbi_byte1\": 0,\n",
      "    \"f0_dqsgate_stg1_overflow_25\": 0,\n",
      "    \"f0_wr_comp_ctp_byte_04\": [\n",
      "        294,\n",
      "        570\n",
      "    ],\n",
      "    \"f0_wrdqdbi_left_edge_dq_bit38\": 41,\n",
      "    \"f0_dqsgate_stg1_overflow_01\": 0,\n",
      "    \"vttrack_rldlyqtr_min_nibble06\": 78,\n",
      "    \"f0_wrdqdbi_stg2_dq_odly_bit01\": 65,\n",
      "    \"rdvref_left_vref_low_bound_nibble15\": 0,\n",
      "    \"f0_rd_simp_fall_rm_nib_11\": [\n",
      "        76,\n",
      "        148\n",
      "    ],\n",
      "    \"f1_rdcmplx_nqtr_right_short_fcrse_nibble01\": 0,\n",
      "    \"cal_stage_time_07\": 0,\n",
      "    \"f0_rdprbs_pqtr_right_margin_nibble14\": 0,\n",
      "    \"f1_wrlvl_offset_rank0_byte0\": 0,\n",
      "    \"f1_wrdqdbi_stg2_dq_odly_bit58\": 0,\n",
      "    \"f1_wrdqdbi_deskew_dq_odly_fcrse_bit22\": 0,\n",
      "    \"f1_rdcmplx_nqtr_final_nibble11\": 0,\n",
      "    \"f1_wrdqdbi_stg3_dq_odly_bit07\": 0,\n",
      "    \"bisc_nqtr_align_nibble12\": 0,\n",
      "    \"cal_seq_status_24\": 295,\n",
      "    \"rdvref_right_vref_final_nibble11\": 0,\n",
      "    \"f1_dqsgate_stg1_overflow_11\": 0,\n",
      "    \"f0_dqsgate_stg1_read_lat_rank0_byte3\": 24,\n",
      "    \"f1_wrdqdbi_right_margin_byte1\": 0,\n",
      "    \"mem_ranks\": 1,\n",
      "    \"f0_wrprbs_right_margin_byte4\": 0,\n",
      "    \"f0_wrdqdbi_odly_dq_final_bit09\": 74,\n",
      "    \"cal_stage_time_03\": 0,\n",
      "    \"rdvref_left_vref_upp_bound_nibble12\": 0,\n",
      "    \"f0_wrdqdbi_deskew_dq_odly_fcrse_bit38\": 113,\n",
      "    \"f1_rdcmplx_nqtr_left_nibble07\": 0,\n",
      "    \"f1_rdcmplx_nqtr_left_nibble04\": 0,\n",
      "    \"f0_dqsgate_read_lat_final_byte1\": 26,\n",
      "    \"bisc_idly2_align_nibble14\": 65,\n",
      "    \"f0_rdcmplx_nqtr_left_short_nibble14\": 20,\n",
      "    \"f1_wrdqdbi_left_edge_dq_bit32\": 0,\n",
      "    \"dc0_perf_mon_0\": 0,\n",
      "    \"dqs_gate_xphy_ub\": 0,\n",
      "    \"rdvref_vref_low_bound_nibble03\": 0,\n",
      "    \"f1_wrlvl_crse_final_rank0_byte3\": 0,\n",
      "    \"f1_calbisc_rl_dly_nqtr_nibble14\": 0,\n",
      "    \"f0_wrdqdbi_odly_dq_final_bit47\": 61,\n",
      "    \"f1_rdcmplx_nqtr_right_short_nibble03\": 0,\n",
      "    \"phy_rank_write_override_dyn\": 81920,\n",
      "    \"rdmargin_nqtr_right_nibble01\": 0,\n",
      "    \"bisc_idly2_align_nibble11\": 73,\n",
      "    \"f0_rddq_idelay_final_bit14\": 79,\n",
      "    \"f0_wrdqdbi_stg3_dq_odly_bit26\": 81,\n",
      "    \"f0_rdcmplx_nqtr_right_short_nibble09\": 171,\n",
      "    \"cal_post_status_00\": 0,\n",
      "    \"f0_wrlvl_crse_stg1_rank0_byte7\": 3,\n",
      "    \"f1_dqsgate_stg1_read_lat_rank0_byte0\": 0,\n",
      "    \"f1_wrdqdbi_stg3_dq_odly_bit34\": 0,\n",
      "    \"cal_stage.09_F0_WRITE_DQ_DBI_CAL_COMPLEX\": \"Pass\",\n",
      "    \"f0_wrprbs_left_margin_byte7\": 0,\n",
      "    \"f1_rddq_pqtr_final_nibble01\": 0,\n",
      "    \"f1_dqsgate_stg1_overflow_51\": 0,\n",
      "    \"f0_wr_simp_rm_byte_07\": [\n",
      "        74,\n",
      "        146\n",
      "    ],\n",
      "    \"wrvref_right_vref_upp_bound_rank0_byte3\": 0,\n",
      "    \"f0_wrdqdbi_left_edge_dq_bit04\": 74,\n",
      "    \"wrvref_vref_final_rank0_byte3\": 0,\n",
      "    \"f1_wrdqdbi_stg3_dq_odly_bit08\": 0,\n",
      "    \"f0_rdprbs_nqtr_left_margin_nibble00\": 0,\n",
      "    \"f1_rdcmplx_nqtr_left_short_nibble11\": 0,\n",
      "    \"f1_wrdqdbi_deskew_dq_odly_bit32\": 0,\n",
      "    \"f0_rdprbs_nqtr_right_margin_nibble08\": 0,\n",
      "    \"rdmargin_nqtr_left_nibble14\": 0,\n",
      "    \"f1_wrlat_phy_data_nib_final_byte5\": 0,\n",
      "    \"bisc_nqtr_align_nibble08\": 0,\n",
      "    \"cal_warning_54\": 0,\n",
      "    \"f0_wrdqdbi_left_edge_dq_bit15\": 60,\n",
      "    \"f0_wrdqdbi_deskew_dq_odly_fcrse_bit39\": 103,\n",
      "    \"f0_wrdqdbi_left_edge_dbi_byte2\": 39,\n",
      "    \"rdvref_left_vref_low_bound_nibble09\": 0,\n",
      "    \"f0_rdcmplx_pqtr_left_nibble02\": 21,\n",
      "    \"f0_wr_comp_rm_byte_01\": [\n",
      "        68,\n",
      "        131\n",
      "    ],\n",
      "    \"dc1_perf_mon\": 62,\n",
      "    \"f0_rddq_idelay_final_bit01\": 74,\n",
      "    \"f1_dqsgate_rldlyrnk_crse_final_rank0_byte2\": 0,\n",
      "    \"dc0_perf_mon_6\": 0,\n",
      "    \"f1_rddq_idelay_final_bit39\": 0,\n",
      "    \"cal_seq_status_45\": 0,\n",
      "    \"f1_rdcmplx_nqtr_right_short_fcrse_nibble15\": 0,\n",
      "    \"phy_oe_nib24_dly\": 0,\n",
      "    \"vttrack_rldlyqtr_max_nibble06\": 83,\n",
      "    \"phy_oe_nib19_dly\": 0,\n",
      "    \"f0_wrdqdbi_stg2_dq_odly_bit37\": 33,\n",
      "    \"f1_rdcmplx_nqtr_left_short_nibble03\": 0,\n",
      "    \"cal_stage.07_F0_WRITE_LATENCY_CAL\": \"Pass\",\n",
      "    \"f1_mr0_17_9\": 0,\n",
      "    \"f1_wrdqdbi_left_edge_dbi_byte0\": 0,\n",
      "    \"bisc_mon_align_nibble09\": 0,\n",
      "    \"f1_wrdqdbi_deskew_dq_odly_bit49\": 0,\n",
      "    \"f1_wrcmplx_left_margin_byte0\": 0,\n",
      "    \"f1_rdprbs_pqtr_left_margin_nibble11\": 0,\n",
      "    \"f0_rddq_idelay_final_bit45\": 74,\n",
      "    \"f0_wrdqdbi_stg5_dqs_odly_byte7\": 91,\n",
      "    \"f0_wrlat_wldlyrnk_crse_final_rank0_byte7\": 3,\n",
      "    \"0x0e_F0_WRITE_LATENCY_CAL\": \"Pass\",\n",
      "    \"f0_wrdqdbi_deskew_dq_odly_fcrse_bit59\": 145,\n",
      "    \"f0_wrdqdbi_deskew_dq_odly_fcrse_bit01\": 135,\n",
      "    \"ddrmc_isr_nsu_fatal3\": 0,\n",
      "    \"rdvref_right_vref_def_nibble09\": 0,\n",
      "    \"f1_wrdqdbi_odly_dq_final_bit22\": 0,\n",
      "    \"f1_wrcmplx_odly_dq_final_bit25\": 0,\n",
      "    \"f1_wrdqdbi_odly_dq_final_bit04\": 0,\n",
      "    \"f0_wr_comp_rm_byte_03\": [\n",
      "        59,\n",
      "        115\n",
      "    ],\n",
      "    \"f1_wrdqdbi_left_edge_dq_bit20\": 0,\n",
      "    \"f0_wrlat_init_latency\": 16,\n",
      "    \"f1_wrdqdbi_stg3_dq_odly_bit06\": 0,\n",
      "    \"f0_wrdqdbi_stg3_dq_odly_bit33\": 33,\n",
      "    \"f0_wrdqdbi_right_edge_dqs_byte4\": 129,\n",
      "    \"f1_wrprbs_right_margin_byte5\": 0,\n",
      "    \"f0_rdcmplx_idelay_offset_nibble07\": 0,\n",
      "    \"f1_wrdqdbi_stg2_dq_odly_bit28\": 0,\n",
      "    \"f0_wrdqdbi_deskew_dq_odly_bit57\": 149,\n",
      "    \"f1_wrdqdbi_stg2_dqs_odly_byte3\": 0,\n",
      "    \"f0_rdprbs_pqtr_right_margin_nibble15\": 0,\n",
      "    \"f1_rddq_nqtr_final_nibble05\": 0,\n",
      "    \"f1_wrcmplx_left_margin_byte6\": 0,\n",
      "    \"f0_wrcmplx_odly_dbi_final_byte5\": 75,\n",
      "    \"f0_wrdqdbi_deskew_dq_odly_bit29\": 154,\n",
      "    \"f1_wrdqdbi_stg3_dq_odly_bit60\": 0,\n",
      "    \"f1_mr2_8_0\": 0,\n",
      "    \"f1_rddq_qtr_deskew_nibble13\": 0,\n",
      "    \"max_dbi_pins\": 9,\n",
      "    \"f1_wrdqdbi_stg3_dq_odly_bit23\": 0,\n",
      "    \"wrvref_right_vref_def_rank0_byte1\": 0,\n",
      "    \"dqstrack_rldlyrnk_fine_min_byte2\": 47,\n",
      "    \"wrvref_vref_upp_bound_rank0_byte2\": 0,\n",
      "    \"f1_wrdqdbi_left_edge_dbi_byte5\": 0,\n",
      "    \"f0_wrdqdbi_left_edge_dbi_byte6\": 55,\n",
      "    \"dqstrack_rldlyrnk_crse_max_byte3\": 2,\n",
      "    \"f1_rdcmplx_nqtr_right_short_fcrse_nibble02\": 0,\n",
      "    \"cal_seq_status_19\": 283,\n",
      "    \"f0_calbisc_rl_dly_qtr_nibble03\": 80,\n",
      "    \"f0_rddq_idelay_final_bit09\": 69,\n",
      "    \"f0_rddq_nqtr_final_nibble10\": 95,\n",
      "    \"f1_wrdqdbi_deskew_dq_odly_fcrse_bit11\": 0,\n",
      "    \"f0_wrprbs_left_margin_byte4\": 0,\n",
      "    \"f1_wrdqdbi_stg2_dq_odly_bit23\": 0,\n",
      "    \"f1_rdcmplx_pqtr_right_short_nibble04\": 0,\n",
      "    \"rdvref_right_vref_upp_bound_nibble10\": 0,\n",
      "    \"f1_rddq_nqtr_right_fcrse_nibble07\": 0,\n",
      "    \"f1_rdcmplx_pqtr_final_nibble10\": 0,\n",
      "    \"f1_rdcmplx_idelay_offset_nibble09\": 0,\n",
      "    \"f0_wrdqdbi_stg3_dq_odly_bit12\": 64,\n",
      "    \"f0_wrcmplx_odly_dq_final_bit34\": 38,\n",
      "    \"wrvref_right_vref_def_rank0_byte0\": 0,\n",
      "    \"rdvref_right_vref_def_nibble06\": 0,\n",
      "    \"f1_rdprbs_nqtr_right_margin_nibble01\": 0,\n",
      "    \"f0_dqsgate_stg2_read_lat_rank0_byte0\": 26,\n",
      "    \"f0_rd_simp_fall_lm_nib_06\": [\n",
      "        76,\n",
      "        147\n",
      "    ],\n",
      "    \"f1_wrdqdbi_stg2_dq_odly_bit14\": 0,\n",
      "    \"f1_wrdqdbi_deskew_dq_odly_fcrse_bit21\": 0,\n",
      "    \"f0_rd_simp_fall_ctp_nib_02\": [\n",
      "        96,\n",
      "        183\n",
      "    ],\n",
      "    \"f0_rdcmplx_pqtr_final_nibble14\": 90,\n",
      "    \"f0_rd_simp_rise_rm_nib_03\": [\n",
      "        77,\n",
      "        150\n",
      "    ],\n",
      "    \"f1_rddq_idelay_final_bit54\": 0,\n",
      "    \"bisc_idly5_align_nibble00\": 72,\n",
      "    \"f1_wrlat_phy_data_nib_final_byte2\": 0,\n",
      "    \"cal_warning_17\": 0,\n",
      "    \"rdvref_vref_upp_bound_nibble05\": 0,\n",
      "    \"f0_rdprbs_nqtr_right_margin_nibble15\": 0,\n",
      "    \"f1_rddq_idelay_final_bit07\": 0,\n",
      "    \"cal_post_status_01\": 0,\n",
      "    \"f1_wrdqdbi_deskew_dq_odly_fcrse_bit26\": 0,\n",
      "    \"f1_wrdqdbi_left_edge_dq_bit42\": 0,\n",
      "    \"f1_wrlat_wldlyrnk_crse_final_rank0_byte7\": 0,\n",
      "    \"f0_wrdqdbi_stg5_dqs_odly_byte6\": 71,\n",
      "    \"f0_dqsgate_stg1_overflow_41\": 0,\n",
      "    \"f0_mr5_8_0\": 0,\n",
      "    \"cal_stage_time_46\": 0,\n",
      "    \"bisc_nqtr_align_nibble04\": 0,\n",
      "    \"f0_wrcmplx_right_margin_byte1\": 68,\n",
      "    \"f0_wrdqdbi_left_edge_dq_bit42\": 51,\n",
      "    \"dqstrack_rldlyrnk_fine_min_byte7\": 37,\n",
      "    \"f1_wrlvl_crse_stg1_rank0_byte4\": 0,\n",
      "    \"f1_rcd_rc3x\": 0,\n",
      "    \"f0_rddq_pqtr_right_fcrse_nibble14\": 172,\n",
      "    \"f1_rdcmplx_nqtr_final_nibble00\": 0,\n",
      "    \"f0_rddq_pqtr_final_nibble13\": 99,\n",
      "    \"f0_rdprbs_pqtr_right_margin_nibble08\": 0,\n",
      "    \"f1_wrdqdbi_stg3_dq_odly_bit59\": 0,\n",
      "    \"rdmargin_pqtr_left_nibble02\": 0,\n",
      "    \"rdvref_left_vref_final_nibble02\": 0,\n",
      "    \"f0_calbisc_rl_dly_nqtr_nibble02\": 82,\n",
      "    \"dqstrack_rldlyrnk_crse_min_byte3\": 2,\n",
      "    \"f0_rdcmplx_nqtr_left_nibble08\": 25,\n",
      "    \"f0_rd_comp_rise_rm_nib_00\": [\n",
      "        68,\n",
      "        133\n",
      "    ],\n",
      "    \"f1_wrlat_wldlyrnk_crse_final_rank0_byte3\": 0,\n",
      "    \"cal_stage_time_05\": 0,\n",
      "    \"f1_rddq_nqtr_right_nibble12\": 0,\n",
      "    \"f1_dqsgate_stg1_overflow_55\": 0,\n",
      "    \"f1_wrprbs_right_margin_byte3\": 0,\n",
      "    \"ddrmc_isr_uc1_ecc0\": 0,\n",
      "    \"f0_wrdqdbi_stg2_dq_odly_bit63\": 75,\n",
      "    \"cal_warning_09\": 0,\n",
      "    \"f1_dqsgate_stg1_read_lat_rank0_byte7\": 0,\n",
      "    \"wrvref_right_vref_final_rank0_byte2\": 0,\n",
      "    \"f1_wrdqdbi_deskew_dq_odly_bit50\": 0,\n",
      "    \"f0_rd_comp_fall_ctp_nib_12\": [\n",
      "        84,\n",
      "        160\n",
      "    ],\n",
      "    \"f0_wrprbs_left_margin_byte0\": 0,\n",
      "    \"f1_calbisc_rl_dly_qtr_nibble13\": 0,\n",
      "    \"cal_stage.02_F0_MEM_INIT\": \"Pass\",\n",
      "    \"f1_mr2_17_9\": 0,\n",
      "    \"f1_dqsgate_stg1_overflow_09\": 0,\n",
      "    \"f1_wrdqdbi_deskew_dq_odly_bit63\": 0,\n",
      "    \"f1_wrdqdbi_stg2_dq_odly_bit10\": 0,\n",
      "    \"f0_calbisc_rl_dly_nqtr_nibble06\": 81,\n",
      "    \"bisc_nqtr_align_nibble01\": 0,\n",
      "    \"f0_wrdqdbi_deskew_dbi_odly_fcrse_byte3\": 151,\n",
      "    \"f0_wrdqdbi_deskew_dq_odly_bit06\": 163,\n",
      "    \"f0_wrlvl_offset_rank0_byte7\": 82,\n",
      "    \"f0_rddq_nqtr_right_nibble02\": 172,\n",
      "    \"cal_stage_time_21\": 0,\n",
      "    \"f1_wrdqdbi_stg2_dq_odly_bit51\": 0,\n",
      "    \"f0_rddq_qtr_deskew_nibble13\": 1,\n",
      "    \"f1_wrcmplx_odly_dqs_final_byte7\": 0,\n",
      "    \"f0_rd_simp_rise_ctp_nib_14\": [\n",
      "        94,\n",
      "        186\n",
      "    ],\n",
      "    \"ddrmc_isr_ch0_data_par\": 0,\n",
      "    \"f0_dqsgate_stg1_rldlyrnk_fine_rank0_byte0\": 0,\n",
      "    \"rdvref_right_vref_upp_bound_nibble07\": 0,\n",
      "    \"bisc_pqtr_nibble06\": 82,\n",
      "    \"f1_wrlvl_fine_right_rank0_byte2\": 0,\n",
      "    \"f0_wrdqdbi_odly_dqs_final_byte1\": 80,\n",
      "    \"f1_rddq_idelay_final_bit58\": 0,\n",
      "    \"wrvref_vref_upp_bound_rank0_byte7\": 0,\n",
      "    \"f1_wrdqdbi_deskew_dq_odly_fcrse_bit52\": 0,\n",
      "    \"f0_wrlvl_offset_rank0_byte6\": 82,\n",
      "    \"f1_rdprbs_pqtr_left_margin_nibble02\": 0,\n",
      "    \"cal_warning_27\": 0,\n",
      "    \"bisc_rl_dly_qtr_nibble11\": 79,\n",
      "    \"rdvref_vref_upp_bound_nibble06\": 0,\n",
      "    \"reg_pinout\": 17,\n",
      "    \"f1_wrdqdbi_left_edge_dq_bit59\": 0,\n",
      "    \"f0_wrdqdbi_stg3_dq_odly_bit11\": 64,\n",
      "    \"f1_rdprbs_pqtr_right_margin_nibble15\": 0,\n",
      "    \"ddrmc_isr_nsu_fatal2\": 0,\n",
      "    \"f0_wr_comp_ctp_byte_01\": [\n",
      "        323,\n",
      "        623\n",
      "    ],\n",
      "    \"f0_wrdqdbi_stg2_dq_odly_bit42\": 60,\n",
      "    \"f0_wrcmplx_odly_dq_final_bit62\": 97,\n",
      "    \"f1_wrdqdbi_stg5_dqs_odly_byte3\": 0,\n",
      "    \"f1_wrlvl_fine_final_rank0_byte3\": 0,\n",
      "    \"f0_wrcmplx_left_margin_byte0\": 74,\n",
      "    \"f1_wrlat_match_rank0_byte0\": 0,\n",
      "    \"f1_rddq_idelay_final_bit20\": 0,\n",
      "    \"f1_rdcmplx_pqtr_left_short_nibble15\": 0,\n",
      "    \"f1_wrdqdbi_odly_dq_final_bit31\": 0,\n",
      "    \"0x01_F0_MEM_INIT\": \"Pass\",\n",
      "    \"f0_calbisc_rl_dly_nqtr_nibble03\": 81,\n",
      "    \"f0_write_latency\": 1,\n",
      "    \"f0_wrdqdbi_stg1_dqs_delay_byte3\": 97,\n",
      "    \"f0_wrdqdbi_deskew_dq_odly_bit37\": 99,\n",
      "    \"f1_wrlat_wldlyrnk_crse_final_rank0_byte6\": 0,\n",
      "    \"bisc_idly3_align_nibble15\": 77,\n",
      "    \"f0_rd_comp_rise_ctp_nib_08\": [\n",
      "        88,\n",
      "        170\n",
      "    ],\n",
      "    \"f1_rddq_nqtr_left_nibble02\": 0,\n",
      "    \"f0_rddq_idelay_final_bit08\": 69,\n",
      "    \"f1_wrdqdbi_stg2_dq_odly_bit27\": 0,\n",
      "    \"f0_rd_comp_rise_lm_nib_09\": [\n",
      "        64,\n",
      "        127\n",
      "    ],\n",
      "    \"f0_wr_simp_rm_byte_04\": [\n",
      "        80,\n",
      "        155\n",
      "    ],\n",
      "    \"f1_wrdqdbi_stg3_dq_odly_bit09\": 0,\n",
      "    \"f0_rdcmplx_pqtr_left_short_nibble02\": 19,\n",
      "    \"f1_wrcmplx_right_margin_fcrse_byte3\": 0,\n",
      "    \"f1_wrdqdbi_odly_dq_final_bit53\": 0,\n",
      "    \"ub_clk_17_9\": 2,\n",
      "    \"iobmap_dqs_5\": 0,\n",
      "    \"f0_rddq_pqtr_right_fcrse_nibble12\": 182,\n",
      "    \"cal_seq_status_02\": 260,\n",
      "    \"f0_rddq_pqtr_final_nibble09\": 94,\n",
      "    \"f0_rddq_nqtr_right_fcrse_nibble14\": 174,\n",
      "    \"bisc_idly1_align_nibble09\": 81,\n",
      "    \"f0_wrprbs_right_margin_byte5\": 0,\n",
      "    \"f0_wrdqdbi_stg3_dq_odly_bit28\": 81,\n",
      "    \"rdvref_left_vref_def_nibble06\": 0,\n",
      "    \"f0_dqsgate_stg1_overflow_44\": 0,\n",
      "    \"cal_warning_41\": 0,\n",
      "    \"vttrack_rldlyqtr_nibble09\": 80,\n",
      "    \"f1_rddq_idelay_final_bit09\": 0,\n",
      "    \"f1_wrdqdbi_left_edge_dq_bit63\": 0,\n",
      "    \"f0_wrlvl_fine_final_rank0_byte4\": 33,\n",
      "    \"f0_dqsgate_stg1_overflow_00\": 255,\n",
      "    \"f1_dqsgate_stg1_overflow_04\": 0,\n",
      "    \"f1_wrcmplx_odly_dbi_final_byte6\": 0,\n",
      "    \"f0_rd_comp_rise_ctp_nib_04\": [\n",
      "        90,\n",
      "        178\n",
      "    ],\n",
      "    \"wrvref_left_vref_upp_bound_rank0_byte2\": 0,\n",
      "    \"f0_rdcmplx_pqtr_left_nibble12\": 21,\n",
      "    \"f0_wrlvl_crse_stg1_rank0_byte1\": 3,\n",
      "    \"f0_calbisc_rl_dly_nqtr_nibble10\": 80,\n",
      "    \"write_data_bitslip_en\": 0,\n",
      "    \"f0_wrcmplx_odly_dq_final_bit09\": 75,\n",
      "    \"f0_wrdqdbi_left_edge_dq_bit43\": 49,\n",
      "    \"f1_wrlvl_crse_stg1_rank0_byte6\": 0,\n",
      "    \"f1_rdcmplx_pqtr_final_nibble13\": 0,\n",
      "    \"alert_parity_ch1_error\": 0,\n",
      "    \"f1_wrdqdbi_deskew_dq_odly_fcrse_bit44\": 0,\n",
      "    \"f0_wrdqdbi_stg2_dq_odly_bit11\": 64,\n",
      "    \"f1_dqsgate_stg1_overflow_17\": 0,\n",
      "    \"f0_wrdqdbi_stg4_byte_status_01\": 511,\n",
      "    \"f1_rdcmplx_nqtr_right_short_nibble10\": 0,\n",
      "    \"cal_stage_time_44\": 0,\n",
      "    \"ub_clk_8_0\": 2,\n",
      "    \"f0_wrdqdbi_deskew_dq_odly_bit04\": 147,\n",
      "    \"f0_wrcmplx_odly_dq_final_bit07\": 74,\n",
      "    \"f0_dqsgate_stg2_read_lat_rank0_byte4\": 27,\n",
      "    \"f0_rdprbs_nqtr_right_margin_nibble05\": 0,\n",
      "    \"f1_wrdqdbi_deskew_dq_odly_fcrse_bit24\": 0,\n",
      "    \"bisc_mon_align_nibble13\": 0,\n",
      "    \"f0_wrcmplx_left_margin_fcrse_byte3\": 70,\n",
      "    \"cal_stage.10_EN_VT_TRACK\": \"Pass\",\n",
      "    \"f1_wrdqdbi_deskew_dq_odly_fcrse_bit46\": 0,\n",
      "    \"wrmargin_right_byte3\": 0,\n",
      "    \"rdvref_vref_upp_bound_nibble01\": 0,\n",
      "    \"rdvref_vref_final_nibble15\": 0,\n",
      "    \"f0_wrcmplx_odly_dq_final_bit20\": 59,\n",
      "    \"f1_wrdqdbi_left_edge_dq_bit36\": 0,\n",
      "    \"wrmargin_right_byte6\": 0,\n",
      "    \"f0_rddq_nqtr_right_nibble06\": 171,\n",
      "    \"f1_wrdqdbi_stg2_dq_odly_bit57\": 0,\n",
      "    \"f0_rdcmplx_pqtr_right_short_fcrse_nibble05\": 178,\n",
      "    \"f1_rdcmplx_pqtr_right_short_nibble14\": 0,\n",
      "    \"bisc_idly0_align_nibble02\": 68,\n",
      "    \"f0_wrdqdbi_deskew_dq_odly_fcrse_bit24\": 151,\n",
      "    \"f1_rdcmplx_nqtr_right_nibble14\": 0,\n",
      "    \"f1_wrdqdbi_odly_dq_final_bit11\": 0,\n",
      "    \"f1_dqsgate_stg1_rldlyrnk_fine_rank0_byte5\": 0,\n",
      "    \"f0_dqsgate_read_lat_final_byte0\": 26,\n",
      "    \"cal_stage_time_11\": 77,\n",
      "    \"f0_rddq_idelay_final_bit52\": 79,\n",
      "    \"bisc_idly4_align_nibble09\": 82,\n",
      "    \"f1_dqsgate_stg1_overflow_47\": 0,\n",
      "    \"wrvref_left_vref_def_rank0_byte6\": 0,\n",
      "    \"f0_rdprbs_pqtr_left_margin_nibble02\": 0,\n",
      "    \"f1_wrcmplx_odly_dq_final_bit09\": 0,\n",
      "    \"cal_warning_10\": 0,\n",
      "    \"f1_calbisc_rl_dly_pqtr_nibble12\": 0,\n",
      "    \"f1_dqsgate_stg2_rldlyrnk_crse_rank0_byte0\": 0,\n",
      "    \"f0_rd_simp_rise_rm_nib_02\": [\n",
      "        77,\n",
      "        145\n",
      "    ],\n",
      "    \"f0_rddq_nqtr_right_nibble08\": 175,\n",
      "    \"f1_rddq_pqtr_right_nibble04\": 0,\n",
      "    \"f0_rd_comp_fall_lm_nib_12\": [\n",
      "        62,\n",
      "        118\n",
      "    ],\n",
      "    \"f0_wrdqdbi_left_edge_dq_bit25\": 88,\n",
      "    \"f0_wrdqdbi_odly_dbi_final_byte1\": 75,\n",
      "    \"f0_wrdqdbi_deskew_dq_odly_fcrse_bit08\": 134,\n",
      "    \"f1_rddq_pqtr_final_nibble00\": 0,\n",
      "    \"f1_wrcmplx_odly_dq_final_bit59\": 0,\n",
      "    \"f0_wrdqdbi_deskew_dq_odly_fcrse_bit34\": 103,\n",
      "    \"f0_dqsgate_stg1_overflow_37\": 0,\n",
      "    \"f1_wrdqdbi_stg3_dq_odly_bit63\": 0,\n",
      "    \"iobmap_dqs_8\": 0,\n",
      "    \"f0_rdcmplx_nqtr_left_short_nibble04\": 29,\n",
      "    \"f0_rddq_pqtr_right_nibble06\": 171,\n",
      "    \"f0_wr_comp_lm_byte_06\": [\n",
      "        72,\n",
      "        140\n",
      "    ],\n",
      "    \"f0_rdprbs_nqtr_right_margin_nibble09\": 0,\n",
      "    \"f0_rd_comp_fall_rm_nib_02\": [\n",
      "        62,\n",
      "        118\n",
      "    ],\n",
      "    \"f1_wrlat_phy_data_nib_final_byte0\": 0,\n",
      "    \"f0_calbisc_rl_dly_pqtr_nibble02\": 83,\n",
      "    \"cal_stage_time_62\": 0,\n",
      "    \"f1_rddq_nqtr_right_fcrse_nibble10\": 0,\n",
      "    \"f0_dqsgate_stg1_overflow_39\": 0,\n",
      "    \"f1_dqsgate_stg1_overflow_62\": 0,\n",
      "    \"f0_wrdqdbi_odly_dq_final_bit05\": 81,\n",
      "    \"f1_rdcmplx_pqtr_right_short_fcrse_nibble12\": 0,\n",
      "    \"f0_rd_simp_rise_lm_nib_02\": [\n",
      "        77,\n",
      "        145\n",
      "    ],\n",
      "    \"f1_wrdqdbi_right_margin_fcrse_byte5\": 0,\n",
      "    \"f1_rddq_nqtr_right_nibble09\": 0,\n",
      "    \"f1_rdcmplx_pqtr_final_nibble06\": 0,\n",
      "    \"f0_rdcmplx_nqtr_left_short_nibble12\": 21,\n",
      "    \"rdvref_right_vref_upp_bound_nibble14\": 0,\n",
      "    \"f1_dqsgate_stg1_overflow_54\": 0,\n",
      "    \"f1_rdprbs_nqtr_right_margin_nibble13\": 0,\n",
      "    \"f0_calbisc_rl_dly_qtr_nibble06\": 80,\n",
      "    \"f0_wrdqdbi_stg3_dq_odly_bit34\": 33,\n",
      "    \"f0_rd_comp_fall_rm_nib_09\": [\n",
      "        61,\n",
      "        116\n",
      "    ],\n",
      "    \"ddrmc_isr_dram_parity1\": 0,\n",
      "    \"f0_dqsgate_rldlyrnk_crse_final_rank0_byte3\": 2,\n",
      "    \"f0_wrdqdbi_stg3_dq_odly_bit23\": 39,\n",
      "    \"bisc_idly3_align_nibble14\": 67,\n",
      "    \"f0_dqsgate_stg2_read_lat_rank0_byte1\": 26,\n",
      "    \"cal_post_status_tracking\": 1,\n",
      "    \"f1_wrdqdbi_deskew_dq_odly_fcrse_bit02\": 0,\n",
      "    \"f0_rddq_nqtr_right_nibble10\": 171,\n",
      "    \"f1_wrcmplx_odly_dqs_final_byte5\": 0,\n",
      "    \"f1_wrdqdbi_odly_dqs_final_byte3\": 0,\n",
      "    \"iobmap_dq_15_14\": 0,\n",
      "    \"f1_wrdqdbi_odly_dq_final_bit23\": 0,\n",
      "    \"f1_wrdqdbi_stg2_dq_odly_bit29\": 0,\n",
      "    \"f0_rddq_pqtr_final_nibble14\": 94,\n",
      "    \"f1_rdcmplx_pqtr_right_short_fcrse_nibble13\": 0,\n",
      "    \"iobmap_dq_13_12\": 0,\n",
      "    \"iobmap_dq_65_64\": 0,\n",
      "    \"ddrmc_isr_ce0_ecc1\": 0,\n",
      "    \"f1_dqsgate_stg1_overflow_46\": 0,\n",
      "    \"bisc_pqtr_align_nibble02\": 0,\n",
      "    \"bisc_mon_align_nibble15\": 0,\n",
      "    \"f0_rdcmplx_pqtr_left_nibble09\": 29,\n",
      "    \"bisc_mon_align_nibble01\": 0,\n",
      "    \"rdmargin_pqtr_left_nibble15\": 0,\n",
      "    \"f0_wrcmplx_right_margin_byte5\": 62,\n",
      "    \"f1_rdcmplx_nqtr_final_nibble03\": 0,\n",
      "    \"rdvref_left_vref_low_bound_nibble12\": 0,\n",
      "    \"rdvref_right_vref_upp_bound_nibble04\": 0,\n",
      "    \"f1_wrcmplx_left_margin_byte7\": 0,\n",
      "    \"f1_wrdqdbi_deskew_dq_odly_bit43\": 0,\n",
      "    \"f1_rdcmplx_nqtr_right_nibble06\": 0,\n",
      "    \"f0_wrdqdbi_odly_dq_final_bit41\": 61,\n",
      "    \"f0_rddq_pqtr_left_nibble09\": 17,\n",
      "    \"f0_rdcmplx_nqtr_left_nibble00\": 26,\n",
      "    \"bisc_idly1_align_nibble07\": 79,\n",
      "    \"f1_wrdqdbi_stg3_dq_odly_bit16\": 0,\n",
      "    \"f0_wrdqdbi_stg3_dq_odly_bit50\": 55,\n",
      "    \"f0_wrdqdbi_odly_dq_final_bit38\": 41,\n",
      "    \"bisc_idly2_align_nibble06\": 69,\n",
      "    \"f0_dqsgate_read_lat_final_byte5\": 27,\n",
      "    \"f1_rddq_pqtr_left_nibble02\": 0,\n",
      "    \"f1_wrdqdbi_left_edge_dq_bit60\": 0,\n",
      "    \"f0_dqsgate_stg1_overflow_34\": 0,\n",
      "    \"f0_xpll_divclk_ht\": 1,\n",
      "    \"reg_safe_config0\": 440468484,\n",
      "    \"rdvref_right_vref_def_nibble01\": 0,\n",
      "    \"f0_dqsgate_stg2_rldlyrnk_crse_rank0_byte4\": 1,\n",
      "    \"f0_rddq_nqtr_left_nibble13\": 25,\n",
      "    \"f0_rddq_nqtr_right_fcrse_nibble05\": 181,\n",
      "    \"f1_wrlvl_fine_left_rank0_byte2\": 0,\n",
      "    \"f1_wrdqdbi_deskew_dq_odly_fcrse_bit16\": 0,\n",
      "    \"f1_rdprbs_nqtr_left_margin_nibble12\": 0,\n",
      "    \"f1_rdcmplx_nqtr_right_short_nibble14\": 0,\n",
      "    \"f0_wrdqdbi_odly_dq_final_bit34\": 31,\n",
      "    \"wrmargin_right_byte2\": 0,\n",
      "    \"wrvref_left_vref_low_bound_rank0_byte0\": 0,\n",
      "    \"cal_post_status_self_ref\": 0,\n",
      "    \"f0_wrdqdbi_odly_dq_final_bit21\": 48,\n",
      "    \"f0_wrcmplx_odly_dq_final_bit15\": 72,\n",
      "    \"rdmargin_pqtr_right_nibble07\": 0,\n",
      "    \"iobmap_dq_25_24\": 0,\n",
      "    \"f0_wrlvl_fine_right_rank0_byte1\": 67,\n",
      "    \"f1_wrdqdbi_left_edge_dq_bit18\": 0,\n",
      "    \"bisc_idly5_align_nibble14\": 72,\n",
      "    \"f0_rd_simp_fall_ctp_nib_06\": [\n",
      "        95,\n",
      "        183\n",
      "    ],\n",
      "    \"bisc_rl_dly_qtr_nibble01\": 82,\n",
      "    \"f0_rdcmplx_pqtr_final_nibble03\": 91,\n",
      "    \"f1_wrcmplx_left_margin_byte2\": 0,\n",
      "    \"f1_mr6_8_0\": 0,\n",
      "    \"f0_rd_simp_rise_rm_nib_06\": [\n",
      "        77,\n",
      "        150\n",
      "    ],\n",
      "    \"f1_rddq_idelay_final_bit27\": 0,\n",
      "    \"f1_wrdqdbi_deskew_dq_odly_bit55\": 0,\n",
      "    \"f0_rd_comp_rise_ctp_nib_11\": [\n",
      "        96,\n",
      "        190\n",
      "    ],\n",
      "    \"cal_warning_78\": 0,\n",
      "    \"f0_wrdqdbi_stg2_dq_odly_bit57\": 75,\n",
      "    \"f0_wrlvl_noise_fcrse_rank0_byte1\": 65,\n",
      "    \"f1_rddq_qtr_deskew_nibble03\": 0,\n",
      "    \"f1_rddq_pqtr_final_nibble02\": 0,\n",
      "    \"f1_rdprbs_nqtr_right_margin_nibble12\": 0,\n",
      "    \"rdmargin_pqtr_right_nibble14\": 0,\n",
      "    \"f0_dqsgate_stg1_read_lat_rank0_byte0\": 24,\n",
      "    \"f0_rdcmplx_pqtr_left_nibble14\": 23,\n",
      "    \"wrvref_right_vref_final_rank0_byte6\": 0,\n",
      "    \"f0_rd_simp_rise_lm_nib_10\": [\n",
      "        79,\n",
      "        154\n",
      "    ],\n",
      "    \"rdmargin_nqtr_right_nibble13\": 0,\n",
      "    \"f0_rd_comp_rise_rm_nib_09\": [\n",
      "        64,\n",
      "        127\n",
      "    ],\n",
      "    \"iobmap_dqs_11\": 0,\n",
      "    \"f1_wrlat_min_latency\": 0,\n",
      "    \"bisc_rl_dly_qtr_nibble00\": 80,\n",
      "    \"rdmargin_pqtr_left_nibble12\": 0,\n",
      "    \"f0_tck_msb\": 1,\n",
      "    \"f0_rdcmplx_nqtr_right_short_fcrse_nibble06\": 165,\n",
      "    \"f1_wrcmplx_odly_dqs_final_byte0\": 0,\n",
      "    \"f0_wr_simp_ctp_byte_02\": [\n",
      "        55,\n",
      "        106\n",
      "    ],\n",
      "    \"f0_rdcmplx_nqtr_right_short_nibble11\": 172,\n",
      "    \"f1_wrcmplx_odly_dq_final_bit11\": 0,\n",
      "    \"f0_wrdqdbi_deskew_dbi_odly_byte0\": 138,\n",
      "    \"f1_dqsgate_stg1_overflow_45\": 0,\n",
      "    \"f0_wrdqdbi_odly_dq_final_bit08\": 68,\n",
      "    \"f1_wrdqdbi_left_edge_dq_bit54\": 0,\n",
      "    \"dc1_perf_mon_1\": 0,\n",
      "    \"f0_rd_simp_fall_rm_nib_10\": [\n",
      "        76,\n",
      "        148\n",
      "    ],\n",
      "    \"f0_rd_simp_fall_ctp_nib_03\": [\n",
      "        98,\n",
      "        189\n",
      "    ],\n",
      "    \"f0_wrdqdbi_deskew_dq_odly_bit10\": 134,\n",
      "    \"bisc_idly3_align_nibble04\": 69,\n",
      "    \"rdmargin_pqtr_right_nibble08\": 0,\n",
      "    \"f1_wrdqdbi_stg2_dq_odly_bit63\": 0,\n",
      "    \"f1_wrdqdbi_odly_dbi_final_byte7\": 0,\n",
      "    \"f0_rd_comp_fall_ctp_nib_02\": [\n",
      "        83,\n",
      "        158\n",
      "    ],\n",
      "    \"f0_wrdqdbi_left_margin_byte6\": 77,\n",
      "    \"f1_calbisc_rl_dly_qtr_nibble00\": 0,\n",
      "    \"rdmargin_pqtr_right_nibble04\": 0,\n",
      "    \"f0_rdcmplx_nqtr_final_nibble01\": 93,\n",
      "    \"f0_wrcmplx_odly_dq_final_bit36\": 43,\n",
      "    \"f1_wrdqdbi_right_margin_byte6\": 0,\n",
      "    \"ddrmc_isr_dram_parity0\": 0,\n",
      "    \"f0_wrdqdbi_right_margin_fcrse_byte3\": 80,\n",
      "    \"dqstrack_rldlyrnk_fine_min_byte4\": 45,\n",
      "    \"f0_wrdqdbi_deskew_dq_odly_fcrse_bit37\": 93,\n",
      "    \"bisc_nqtr_nibble05\": 83,\n",
      "    \"bisc_nqtr_nibble09\": 82,\n",
      "    \"f0_wrdqdbi_stg2_dq_odly_bit34\": 33,\n",
      "    \"f1_wrdqdbi_deskew_dbi_odly_byte4\": 0,\n",
      "    \"f1_calbisc_rl_dly_pqtr_nibble13\": 0,\n",
      "    \"f1_wrlat_phy_oe_nib_final_byte6\": 0,\n",
      "    \"bisc_idly4_align_nibble15\": 80,\n",
      "    \"f0_wrcmplx_odly_dq_final_bit57\": 80,\n",
      "    \"rdvref_left_vref_low_bound_nibble13\": 0,\n",
      "    \"rdmargin_nqtr_left_nibble01\": 0,\n",
      "    \"f0_rddq_idelay_final_bit21\": 84,\n",
      "    \"f0_rdcmplx_nqtr_final_nibble11\": 89,\n",
      "    \"f0_rdcmplx_pqtr_right_short_fcrse_nibble12\": 176,\n",
      "    \"f0_wrdqdbi_deskew_dq_odly_fcrse_bit51\": 125,\n",
      "    \"f1_rdcmplx_idelay_offset_nibble10\": 0,\n",
      "    \"f0_wrdqdbi_deskew_dq_odly_bit45\": 132,\n",
      "    \"f0_wrcmplx_odly_dqs_final_byte3\": 103,\n",
      "    \"f1_rddq_idelay_final_bit01\": 0,\n",
      "    \"f0_calbisc_rl_dly_qtr_nibble11\": 79,\n",
      "    \"f0_wrdqdbi_stg2_dq_odly_bit31\": 81,\n",
      "    \"f1_rdprbs_pqtr_right_margin_nibble08\": 0,\n",
      "    \"f0_wrcmplx_right_margin_fcrse_byte1\": 60,\n",
      "    \"f1_rddq_pqtr_final_nibble07\": 0,\n",
      "    \"f1_rdcmplx_nqtr_left_short_nibble06\": 0,\n",
      "    \"f0_rddq_nqtr_left_nibble02\": 20,\n",
      "    \"f0_wrdqdbi_stg2_dq_odly_bit02\": 65,\n",
      "    \"rdvref_left_vref_final_nibble14\": 0,\n",
      "    \"f1_rddq_pqtr_right_nibble02\": 0,\n",
      "    \"f1_rdcmplx_idelay_offset_nibble15\": 0,\n",
      "    \"f0_rdcmplx_pqtr_right_nibble14\": 158,\n",
      "    \"f1_wrdqdbi_stg3_dq_odly_bit10\": 0,\n",
      "    \"f1_wrdqdbi_left_edge_dq_bit38\": 0,\n",
      "    \"f0_wrdqdbi_stg6_dbi_odly_byte4\": 33,\n",
      "    \"f1_wrdqdbi_left_edge_dbi_byte6\": 0,\n",
      "    \"f0_wrdqdbi_deskew_dq_odly_bit43\": 135,\n",
      "    \"f0_rd_comp_rise_ctp_nib_14\": [\n",
      "        90,\n",
      "        178\n",
      "    ],\n",
      "    \"f0_wrdqdbi_deskew_dq_odly_fcrse_bit05\": 155,\n",
      "    \"f0_rdcmplx_nqtr_right_short_fcrse_nibble03\": 178,\n",
      "    \"f0_rd_comp_rise_rm_nib_02\": [\n",
      "        67,\n",
      "        126\n",
      "    ],\n",
      "    \"f0_rd_simp_fall_rm_nib_09\": [\n",
      "        75,\n",
      "        143\n",
      "    ],\n",
      "    \"f1_wrdqdbi_deskew_dq_odly_fcrse_bit54\": 0,\n",
      "    \"f1_rdcmplx_pqtr_right_short_nibble15\": 0,\n",
      "    \"f0_wrdqdbi_left_edge_dq_bit60\": 75,\n",
      "    \"f1_rdcmplx_nqtr_right_short_fcrse_nibble12\": 0,\n",
      "    \"f1_rdcmplx_pqtr_right_short_nibble03\": 0,\n",
      "    \"f0_rddq_nqtr_right_nibble04\": 180,\n",
      "    \"f0_dqsgate_rldlyrnk_crse_final_rank0_byte1\": 0,\n",
      "    \"cal_warning_65\": 0,\n",
      "    \"f0_wrdqdbi_deskew_dq_odly_bit39\": 108,\n",
      "    \"f1_rdcmplx_pqtr_left_nibble05\": 0,\n",
      "    \"f1_wrdqdbi_left_edge_dq_bit31\": 0,\n",
      "    \"f0_wrdqdbi_right_edge_dqs_byte3\": 178,\n",
      "    \"f1_rdcmplx_pqtr_left_nibble08\": 0,\n",
      "    \"f1_rdcmplx_nqtr_right_nibble08\": 0,\n",
      "    \"f0_wrdqdbi_left_edge_dq_bit01\": 67,\n",
      "    \"dqstrack_rldlyrnk_fine_max_byte0\": 8,\n",
      "    \"f1_rdprbs_nqtr_right_margin_nibble00\": 0,\n",
      "    \"f0_dqsgate_stg1_rldlyrnk_crse_rank0_byte1\": 8,\n",
      "    \"f1_wrdqdbi_left_edge_dq_bit61\": 0,\n",
      "    \"f0_rd_comp_rise_ctp_nib_07\": [\n",
      "        90,\n",
      "        176\n",
      "    ],\n",
      "    \"f0_rd_simp_fall_lm_nib_07\": [\n",
      "        76,\n",
      "        148\n",
      "    ],\n",
      "    \"dqstrack_rldlyrnk_fine_byte7\": 31,\n",
      "    \"cal_warning_12\": 0,\n",
      "    \"dqstrack_rldlyrnk_fine_max_byte4\": 45,\n",
      "    \"cal_warning_25\": 0,\n",
      "    \"cal_post_status_03\": 0,\n",
      "    \"f1_wrcmplx_odly_dbi_final_byte3\": 0,\n",
      "    \"f0_wrdqdbi_left_edge_dq_bit61\": 83,\n",
      "    \"f1_wrcmplx_right_margin_fcrse_byte6\": 0,\n",
      "    \"f1_rdprbs_nqtr_right_margin_nibble14\": 0,\n",
      "    \"f0_rd_comp_fall_ctp_nib_08\": [\n",
      "        83,\n",
      "        160\n",
      "    ],\n",
      "    \"wrvref_left_vref_def_rank0_byte4\": 0,\n",
      "    \"cal_error_bit_phy_nibble_02\": 0,\n",
      "    \"rdmargin_nqtr_left_nibble15\": 0,\n",
      "    \"rdvref_left_vref_final_nibble13\": 0,\n",
      "    \"f0_calbisc_rl_dly_pqtr_nibble06\": 80,\n",
      "    \"f1_wrlvl_fine_final_rank0_byte7\": 0,\n",
      "    \"f1_rddq_idelay_final_bit46\": 0,\n",
      "    \"f1_wrlat_phy_data_nib_final_byte4\": 0,\n",
      "    \"f0_rd_comp_fall_lm_nib_09\": [\n",
      "        60,\n",
      "        114\n",
      "    ],\n",
      "    \"bisc_nqtr_align_nibble03\": 0,\n",
      "    \"f1_wrdqdbi_stg3_dq_odly_bit47\": 0,\n",
      "    \"iobmap_dq_27_26\": 0,\n",
      "    \"f1_xpll_divclk_ht\": 1,\n",
      "    \"f0_lp4_mr12\": 0,\n",
      "    \"rdmargin_pqtr_right_nibble06\": 0,\n",
      "    \"rdvref_right_vref_upp_bound_nibble00\": 0,\n",
      "    \"f0_rddq_pqtr_right_nibble13\": 181,\n",
      "    \"vttrack_rldlyqtr_min_nibble09\": 77,\n",
      "    \"f0_wrdqdbi_stg1_bit_status_byte2\": 0,\n",
      "    \"f1_dqsgate_stg2_rldlyrnk_crse_rank0_byte5\": 0,\n",
      "    \"f1_wrdqdbi_stg2_dq_odly_bit18\": 0,\n",
      "    \"f1_wrdqdbi_deskew_dq_odly_fcrse_bit38\": 0,\n",
      "    \"f1_rdcmplx_pqtr_left_nibble03\": 0,\n",
      "    \"rdvref_left_vref_upp_bound_nibble00\": 0,\n",
      "    \"f0_wrlvl_offset_rank0_byte2\": 82,\n",
      "    \"f0_rdprbs_pqtr_left_margin_nibble08\": 0,\n",
      "    \"f1_wrdqdbi_odly_dq_final_bit41\": 0,\n",
      "    \"f1_rdcmplx_nqtr_right_short_fcrse_nibble03\": 0,\n",
      "    \"vttrack_rldlyqtr_nibble00\": 80,\n",
      "    \"cal_warning_68\": 0,\n",
      "    \"f1_calbisc_rl_dly_qtr_nibble03\": 0,\n",
      "    \"f1_wrdqdbi_left_edge_dq_bit24\": 0,\n",
      "    \"f1_wrdqdbi_left_edge_dq_bit19\": 0,\n",
      "    \"f0_rdcmplx_nqtr_right_short_fcrse_nibble11\": 180,\n",
      "    \"bisc_idly1_align_nibble10\": 68,\n",
      "    \"f1_wrdqdbi_deskew_dbi_odly_fcrse_byte6\": 0,\n",
      "    \"cal_warning_00\": 0,\n",
      "    \"rdvref_vref_final_nibble04\": 0,\n",
      "    \"f1_wrcmplx_odly_dq_final_bit60\": 0,\n",
      "    \"bisc_idly3_align_nibble11\": 75,\n",
      "    \"f0_dqsgate_stg1_overflow_17\": 0,\n",
      "    \"f1_dqsgate_read_lat_final_byte0\": 0,\n",
      "    \"f1_rdcmplx_nqtr_left_nibble02\": 0,\n",
      "    \"rdvref_left_vref_def_nibble09\": 0,\n",
      "    \"rdvref_right_vref_low_bound_nibble01\": 0,\n",
      "    \"f1_rdcmplx_pqtr_final_nibble00\": 0,\n",
      "    \"f1_rddq_nqtr_final_nibble09\": 0,\n",
      "    \"f1_rdcmplx_idelay_offset_nibble14\": 0,\n",
      "    \"f1_rdcmplx_pqtr_right_nibble05\": 0,\n",
      "    \"f0_rdcmplx_pqtr_left_nibble01\": 30,\n",
      "    \"f1_rdcmplx_pqtr_right_short_nibble00\": 0,\n",
      "    \"f0_wrlvl_noise_fcrse_rank0_byte2\": 45,\n",
      "    \"f1_calbisc_rl_dly_nqtr_nibble08\": 0,\n",
      "    \"wrvref_left_vref_def_rank0_byte1\": 0,\n",
      "    \"f1_wrlat_match_rank0_byte2\": 0,\n",
      "    \"f0_mr2_8_0\": 232,\n",
      "    \"f0_wrdqdbi_stg2_dq_odly_bit23\": 39,\n",
      "    \"f0_wrdqdbi_odly_dq_final_bit10\": 61,\n",
      "    \"rdmargin_nqtr_right_nibble00\": 0,\n",
      "    \"rdvref_vref_low_bound_nibble11\": 0,\n",
      "    \"bisc_pqtr_align_nibble04\": 0,\n",
      "    \"bisc_nqtr_nibble02\": 82,\n",
      "    \"cal_error_bit_phy_nibble_08\": 0,\n",
      "    \"f1_wrdqdbi_deskew_dq_odly_fcrse_bit63\": 0,\n",
      "    \"cal_stage_time_57\": 0,\n",
      "    \"f1_dqsgate_stg1_rldlyrnk_fine_rank0_byte7\": 0,\n",
      "    \"f0_wrdqdbi_odly_dq_final_bit13\": 70,\n",
      "    \"rdvref_vref_final_nibble01\": 0,\n",
      "    \"f1_wrdqdbi_deskew_dq_odly_bit34\": 0,\n",
      "    \"f0_rd_simp_fall_lm_nib_12\": [\n",
      "        76,\n",
      "        145\n",
      "    ],\n",
      "    \"f1_dqsgate_stg1_rldlyrnk_crse_rank0_byte5\": 0,\n",
      "    \"f1_rddq_qtr_deskew_nibble14\": 0,\n",
      "    \"f0_rd_simp_rise_ctp_nib_10\": [\n",
      "        96,\n",
      "        188\n",
      "    ],\n",
      "    \"f1_rddq_pqtr_left_nibble06\": 0,\n",
      "    \"f0_wrcmplx_odly_dbi_final_byte4\": 40,\n",
      "    \"f1_calbisc_rl_dly_qtr_nibble06\": 0,\n",
      "    \"f1_wrdqdbi_right_margin_fcrse_byte4\": 0,\n",
      "    \"cal_seq_status_36\": 307,\n",
      "    \"vttrack_rldlyqtr_max_nibble09\": 82,\n",
      "    \"f0_rdcmplx_idelay_offset_nibble14\": 0,\n",
      "    \"ddrmc_isr_uc1_ecc1\": 0,\n",
      "    \"bisc_idly2_align_nibble12\": 68,\n",
      "    \"f0_wrdqdbi_odly_dq_final_bit12\": 80,\n",
      "    \"f0_rdcmplx_nqtr_left_short_nibble15\": 25,\n",
      "    \"rdvref_vref_final_nibble08\": 0,\n",
      "    \"f0_wrcmplx_odly_dq_final_bit46\": 77,\n",
      "    \"cal_seq_status_21\": 292,\n",
      "    \"f1_dqsgate_stg1_overflow_61\": 0,\n",
      "    \"f1_rdcmplx_nqtr_left_short_nibble15\": 0,\n",
      "    \"bisc_nqtr_align_nibble14\": 0,\n",
      "    \"f0_rcd_rc0f\": 0,\n",
      "    \"f0_rdprbs_pqtr_left_margin_nibble12\": 0,\n",
      "    \"f1_wrdqdbi_stg1_byte_status_00\": 0,\n",
      "    \"f0_wrdqdbi_stg3_dq_odly_bit15\": 64,\n",
      "    \"f0_wrcmplx_odly_dqs_final_byte4\": 52,\n",
      "    \"f0_wrprbs_right_margin_byte7\": 0,\n",
      "    \"f1_rdcmplx_nqtr_final_nibble02\": 0,\n",
      "    \"f0_dqsgate_stg1_rldlyrnk_crse_rank0_byte6\": 15,\n",
      "    \"f0_wrdqdbi_stg3_dq_odly_bit42\": 60,\n",
      "    \"f0_rdcmplx_nqtr_right_short_fcrse_nibble15\": 171,\n",
      "    \"rdvref_left_vref_upp_bound_nibble13\": 0,\n",
      "    \"f1_rddq_qtr_deskew_nibble04\": 0,\n",
      "    \"f0_rdcmplx_nqtr_left_nibble09\": 29,\n",
      "    \"cal_stage_time_50\": 0,\n",
      "    \"f0_rdcmplx_nqtr_left_nibble14\": 20,\n",
      "    \"f0_wrlat_match_rank0_byte2\": 17,\n",
      "    \"f1_wrdqdbi_deskew_dq_odly_bit11\": 0,\n",
      "    \"f1_rdprbs_nqtr_right_margin_nibble05\": 0,\n",
      "    \"f0_rdprbs_nqtr_left_margin_nibble06\": 0,\n",
      "    \"f1_lp4_mr23\": 0,\n",
      "    \"f1_rddq_pqtr_final_nibble05\": 0,\n",
      "    \"f0_rdcmplx_pqtr_left_short_nibble11\": 24,\n",
      "    \"f0_wrdqdbi_left_edge_dq_bit10\": 50,\n",
      "    \"f0_rdcmplx_pqtr_right_nibble11\": 166,\n",
      "    \"f0_dqsgate_stg1_rldlyrnk_fine_rank0_byte5\": 29,\n",
      "    \"ddrmc_isr_nsu_fatal0\": 0,\n",
      "    \"f0_wrcmplx_left_margin_byte7\": 75,\n",
      "    \"f1_wrdqdbi_left_edge_dq_bit15\": 0,\n",
      "    \"f0_rd_simp_fall_lm_nib_04\": [\n",
      "        76,\n",
      "        147\n",
      "    ],\n",
      "    \"dqstrack_rldlyrnk_crse_min_byte6\": 3,\n",
      "    \"f0_rdcmplx_nqtr_final_nibble13\": 86,\n",
      "    \"f1_wrdqdbi_stg3_dq_odly_bit39\": 0,\n",
      "    \"rdvref_vref_final_nibble12\": 0,\n",
      "    \"phy_rden25_dly\": 25,\n",
      "    \"f1_rddq_nqtr_right_fcrse_nibble05\": 0,\n",
      "    \"f1_rdprbs_pqtr_left_margin_nibble07\": 0,\n",
      "    \"cal_seq_status_18\": 282,\n",
      "    \"f0_wrcmplx_odly_dq_final_bit32\": 45,\n",
      "    \"bisc_nqtr_align_nibble06\": 0,\n",
      "    \"cal_stage_time_49\": 0,\n",
      "    \"f0_dqsgate_stg1_overflow_12\": 0,\n",
      "    \"alert_parity_ch0_error\": 0,\n",
      "    \"f1_wrlvl_fine_final_rank0_byte0\": 0,\n",
      "    \"f0_rddq_pqtr_right_fcrse_nibble11\": 182,\n",
      "    \"f1_rdprbs_nqtr_right_margin_nibble15\": 0,\n",
      "    \"f1_rcd_rc0f\": 0,\n",
      "    \"f0_rddq_idelay_final_bit03\": 82,\n",
      "    \"wrvref_vref_final_rank0_byte2\": 0,\n",
      "    \"f0_tck_lsb\": 113,\n",
      "    \"rdvref_left_vref_def_nibble15\": 0,\n",
      "    \"f0_rddq_pqtr_left_nibble08\": 17,\n",
      "    \"f1_mr1_rtt_nom\": 0,\n",
      "    \"xpi_oe_all_nib_dly\": 16,\n",
      "    \"f1_wrdqdbi_stg6_dbi_odly_byte2\": 0,\n",
      "    \"f0_rdprbs_nqtr_right_margin_nibble04\": 0,\n",
      "    \"vttrack_rldlyqtr_nibble03\": 80,\n",
      "    \"f0_wrdqdbi_right_edge_dqs_byte7\": 165,\n",
      "    \"f0_rdcmplx_nqtr_final_nibble14\": 84,\n",
      "    \"f1_wrdqdbi_deskew_dq_odly_fcrse_bit39\": 0,\n",
      "    \"mgchk_enable_status\": 0,\n",
      "    \"f1_rdprbs_nqtr_right_margin_nibble06\": 0,\n",
      "    \"rdvref_right_vref_low_bound_nibble10\": 0,\n",
      "    \"dqstrack_rldlyrnk_crse_min_byte1\": 4,\n",
      "    \"f0_wrdqdbi_deskew_dq_odly_bit23\": 121,\n",
      "    \"f0_wrdqdbi_stg2_dq_odly_bit41\": 60,\n",
      "    \"wrvref_vref_low_bound_rank0_byte4\": 0,\n",
      "    \"f1_dqsgate_stg1_rldlyrnk_crse_rank0_byte2\": 0,\n",
      "    \"f1_calbisc_rl_dly_pqtr_nibble03\": 0,\n",
      "    \"f1_mr4_17_9\": 0,\n",
      "    \"f0_dqsgate_stg1_overflow_46\": 0,\n",
      "    \"f0_calbisc_rl_dly_qtr_nibble00\": 80,\n",
      "    \"f0_rddq_pqtr_final_nibble04\": 96,\n",
      "    \"f1_wrprbs_right_margin_byte0\": 0,\n",
      "    \"bisc_idly1_align_nibble11\": 78,\n",
      "    \"f0_wrdqdbi_stg3_dq_odly_bit03\": 65,\n",
      "    \"f0_rdcmplx_pqtr_left_short_nibble07\": 19,\n",
      "    \"f0_rdcmplx_nqtr_left_nibble05\": 28,\n",
      "    \"f0_rdprbs_pqtr_right_margin_nibble04\": 0,\n",
      "    \"f1_wrcmplx_right_margin_byte0\": 0,\n",
      "    \"f1_period\": 625,\n",
      "    \"f1_rdcmplx_idelay_offset_nibble05\": 0,\n",
      "    \"reg_safe_config4\": 604004710,\n",
      "    \"cal_error_bit_phy_nibble_10\": 0,\n",
      "    \"f0_wrdqdbi_stg3_dq_odly_bit51\": 55,\n",
      "    \"f0_rdcmplx_pqtr_right_short_nibble03\": 170,\n",
      "    \"f1_wrdqdbi_odly_dqs_final_byte5\": 0,\n",
      "    \"rdvref_left_vref_low_bound_nibble10\": 0,\n",
      "    \"f0_rdcmplx_nqtr_right_short_nibble01\": 173,\n",
      "    \"f1_wrdqdbi_stg3_dq_odly_bit42\": 0,\n",
      "    \"f0_calbisc_rl_dly_pqtr_nibble10\": 80,\n",
      "    \"rdvref_right_vref_final_nibble09\": 0,\n",
      "    \"cal_error_data_nibble_8_0\": 0,\n",
      "    \"f0_wrdqdbi_left_edge_dq_bit22\": 44,\n",
      "    \"f1_wrcmplx_right_margin_fcrse_byte4\": 0,\n",
      "    \"f1_rdcmplx_pqtr_left_short_nibble12\": 0,\n",
      "    \"cal_seq_status_01\": 385,\n",
      "    \"f0_rdcmplx_pqtr_right_short_fcrse_nibble01\": 175,\n",
      "    \"f0_wrdqdbi_odly_dqs_final_byte7\": 91,\n",
      "    \"f0_rdprbs_pqtr_left_margin_nibble04\": 0,\n",
      "    \"f1_tck_lsb\": 113,\n",
      "    \"wrmargin_left_byte3\": 0,\n",
      "    \"f0_wrdqdbi_stg2_dq_odly_bit19\": 39,\n",
      "    \"vttrack_rldlyqtr_max_nibble12\": 83,\n",
      "    \"f0_wrdqdbi_stg4_dqs_delay_byte5\": 14,\n",
      "    \"f1_wrdqdbi_deskew_dq_odly_fcrse_bit37\": 0,\n",
      "    \"f0_rdcmplx_pqtr_right_nibble12\": 159,\n",
      "    \"f1_dqsgate_stg1_overflow_49\": 0,\n",
      "    \"f1_rdcmplx_nqtr_right_short_fcrse_nibble08\": 0,\n",
      "    \"f0_rd_comp_fall_lm_nib_02\": [\n",
      "        62,\n",
      "        118\n",
      "    ],\n",
      "    \"iobmap_dqs_14\": 0,\n",
      "    \"f1_dqsgate_rldlyrnk_crse_final_rank0_byte0\": 0,\n",
      "    \"f1_wrdqdbi_deskew_dq_odly_bit48\": 0,\n",
      "    \"f0_wrdqdbi_deskew_dq_odly_bit32\": 112,\n",
      "    \"f0_rdcmplx_nqtr_right_short_nibble04\": 177,\n",
      "    \"cal_warning_36\": 0,\n",
      "    \"vttrack_rldlyqtr_nibble05\": 80,\n",
      "    \"f1_wrdqdbi_deskew_dq_odly_bit07\": 0,\n",
      "    \"phy_rden10_dly\": 22,\n",
      "    \"f1_calbisc_rl_dly_qtr_nibble11\": 0,\n",
      "    \"wrvref_right_vref_def_rank0_byte6\": 0,\n",
      "    \"f1_wrdqdbi_stg3_dq_odly_bit20\": 0,\n",
      "    \"wrvref_left_vref_def_rank0_byte5\": 0,\n",
      "    \"f1_wrdqdbi_right_edge_dqs_byte1\": 0,\n",
      "    \"f1_wrdqdbi_odly_dq_final_bit07\": 0,\n",
      "    \"f0_rdcmplx_nqtr_right_nibble11\": 154,\n",
      "    \"f0_wrdqdbi_deskew_dq_odly_bit41\": 138,\n",
      "    \"f1_rddq_idelay_final_bit00\": 0,\n",
      "    \"f1_rdcmplx_nqtr_final_nibble10\": 0,\n",
      "    \"f0_wrdqdbi_stg2_dq_odly_bit10\": 64,\n",
      "    \"cal_seq_status_35\": 306,\n",
      "    \"cal_warning_07\": 0,\n",
      "    \"f1_rddq_pqtr_left_nibble04\": 0,\n",
      "    \"dual_freq_en\": 0,\n",
      "    \"f1_calbisc_rl_dly_qtr_nibble08\": 0,\n",
      "    \"cal_warning_21\": 0,\n",
      "    \"f1_wrdqdbi_odly_dbi_final_byte4\": 0,\n",
      "    \"cal_seq_status_08\": 394,\n",
      "    \"cal_warning_57\": 0,\n",
      "    \"bisc_idly2_align_nibble07\": 75,\n",
      "    \"f0_rddq_pqtr_right_fcrse_nibble13\": 182,\n",
      "    \"f1_wrdqdbi_right_edge_dqs_byte7\": 0,\n",
      "    \"f0_wrdqdbi_odly_dq_final_bit39\": 34,\n",
      "    \"f0_rd_simp_fall_ctp_nib_15\": [\n",
      "        98,\n",
      "        189\n",
      "    ],\n",
      "    \"f1_rdcmplx_nqtr_right_short_fcrse_nibble07\": 0,\n",
      "    \"cal_seq_status_39\": 444,\n",
      "    \"f1_dqsgate_stg1_overflow_14\": 0,\n",
      "    \"f1_dqsgate_stg1_rldlyrnk_crse_rank0_byte4\": 0,\n",
      "    \"f1_wrdqdbi_left_edge_dq_bit17\": 0,\n",
      "    \"f1_wrcmplx_odly_dq_final_bit07\": 0,\n",
      "    \"phy_oe_nib9_dly\": 0,\n",
      "    \"f0_calbisc_rl_dly_qtr_nibble12\": 81,\n",
      "    \"f0_rdcmplx_idelay_offset_nibble12\": 0,\n",
      "    \"f0_dqsgate_stg1_overflow_58\": 0,\n",
      "    \"f0_rddq_idelay_final_bit18\": 85,\n",
      "    \"f1_dqsgate_stg1_rldlyrnk_fine_rank0_byte6\": 0,\n",
      "    \"f0_rd_simp_rise_ctp_nib_06\": [\n",
      "        94,\n",
      "        184\n",
      "    ],\n",
      "    \"f1_rddq_qtr_deskew_nibble08\": 0,\n",
      "    \"bisc_nqtr_align_nibble10\": 0,\n",
      "    \"f1_wrdqdbi_odly_dq_final_bit20\": 0,\n",
      "    \"f1_wrdqdbi_odly_dq_final_bit30\": 0,\n",
      "    \"f0_wrlat_phy_data_nib_final_byte5\": 1,\n",
      "    \"f0_rddq_qtr_deskew_nibble00\": 1,\n",
      "    \"f0_dqsgate_stg1_overflow_22\": 0,\n",
      "    \"phy_rden1_dly\": 26,\n",
      "    \"cal_warning_22\": 0,\n",
      "    \"f0_rdcmplx_pqtr_left_nibble08\": 23,\n",
      "    \"f0_wrdqdbi_deskew_dq_odly_bit01\": 140,\n",
      "    \"bisc_idly2_align_nibble05\": 77,\n",
      "    \"cal_seq_status_20\": 287,\n",
      "    \"f1_rdcmplx_nqtr_right_short_nibble00\": 0,\n",
      "    \"f1_calbisc_rl_dly_qtr_nibble14\": 0,\n",
      "    \"rdvref_vref_upp_bound_nibble09\": 0,\n",
      "    \"f1_xpll_clkoutfb_ht\": 16,\n",
      "    \"f0_calbisc_rl_dly_pqtr_nibble03\": 80,\n",
      "    \"f1_calbisc_rl_dly_nqtr_nibble13\": 0,\n",
      "    \"f1_dqsgate_stg1_overflow_36\": 0,\n",
      "    \"0x0d_F0_WRITE_DQ_DBI_CAL\": \"Pass\",\n",
      "    \"f0_wrdqdbi_stg2_dq_odly_bit09\": 64,\n",
      "    \"f0_wr_comp_ctp_byte_02\": [\n",
      "        55,\n",
      "        106\n",
      "    ],\n",
      "    \"f0_rd_comp_fall_rm_nib_06\": [\n",
      "        63,\n",
      "        122\n",
      "    ],\n",
      "    \"f0_mr5_rtt_park\": 0,\n",
      "    \"f0_rdprbs_pqtr_right_margin_nibble02\": 0,\n",
      "    \"f1_rddq_pqtr_right_nibble01\": 0,\n",
      "    \"phy_oe_nib16_dly\": 1,\n",
      "    \"f0_rddq_idelay_final_bit48\": 68,\n",
      "    \"f0_rdprbs_pqtr_right_margin_nibble13\": 0,\n",
      "    \"f1_lp4_mr13\": 0,\n",
      "    \"bisc_rl_dly_qtr_nibble07\": 80,\n",
      "    \"f0_rd_comp_fall_rm_nib_12\": [\n",
      "        62,\n",
      "        118\n",
      "    ],\n",
      "    \"f0_wrdqdbi_stg2_dq_odly_bit38\": 33,\n",
      "    \"f1_wrcmplx_odly_dq_final_bit56\": 0,\n",
      "    \"ddrmc_isr_na_cmd_fatal\": 0,\n",
      "    \"f1_wrdqdbi_right_margin_fcrse_byte0\": 0,\n",
      "    \"f1_rdcmplx_pqtr_right_short_nibble11\": 0,\n",
      "    \"f0_rdprbs_nqtr_left_margin_nibble10\": 0,\n",
      "    \"f0_rdprbs_nqtr_right_margin_nibble07\": 0,\n",
      "    \"f0_dqsgate_stg1_overflow_16\": 0,\n",
      "    \"cal_stage_time_02\": 0,\n",
      "    \"f0_dqsgate_stg1_overflow_33\": 0,\n",
      "    \"f1_dqsgate_stg1_overflow_27\": 0,\n",
      "    \"rdvref_right_vref_def_nibble00\": 0,\n",
      "    \"rdvref_left_vref_final_nibble15\": 0,\n",
      "    \"f0_wr_simp_ctp_byte_05\": [\n",
      "        314,\n",
      "        618\n",
      "    ],\n",
      "    \"f1_dqsgate_stg1_overflow_58\": 0,\n",
      "    \"f0_rddq_nqtr_right_nibble05\": 178,\n",
      "    \"f1_rdprbs_pqtr_left_margin_nibble12\": 0,\n",
      "    \"bisc_idly5_align_nibble05\": 81,\n",
      "    \"f1_wrlat_xpi_oe_all_final\": 0,\n",
      "    \"f1_rddq_nqtr_right_fcrse_nibble03\": 0,\n",
      "    \"phy_rden22_dly\": 25,\n",
      "    \"cal_warning_02\": 0,\n",
      "    \"f0_wrlvl_crse_stg1_rank0_byte3\": 0,\n",
      "    \"f1_wrdqdbi_stg3_dq_odly_bit14\": 0,\n",
      "    \"f1_rddq_nqtr_right_nibble05\": 0,\n",
      "    \"max_bits\": 72,\n",
      "    \"f1_wrdqdbi_odly_dq_final_bit50\": 0,\n",
      "    \"f1_rddq_idelay_final_bit48\": 0,\n",
      "    \"f0_rd_simp_fall_ctp_nib_08\": [\n",
      "        99,\n",
      "        191\n",
      "    ],\n",
      "    \"f0_rdcmplx_nqtr_right_short_nibble07\": 163,\n",
      "    \"f1_wrdqdbi_left_edge_dq_bit50\": 0,\n",
      "    \"f1_wrdqdbi_deskew_dq_odly_bit06\": 0,\n",
      "    \"f0_rd_simp_fall_rm_nib_05\": [\n",
      "        76,\n",
      "        143\n",
      "    ],\n",
      "    \"vttrack_rldlyqtr_min_nibble05\": 77,\n",
      "    \"f1_rdcmplx_nqtr_left_short_nibble05\": 0,\n",
      "    \"f0_rd_simp_fall_rm_nib_02\": [\n",
      "        76,\n",
      "        145\n",
      "    ],\n",
      "    \"cal_stage_time_18\": 0,\n",
      "    \"f1_rdcmplx_nqtr_right_nibble09\": 0,\n",
      "    \"cal_seq_status_05\": 263,\n",
      "    \"rdmargin_pqtr_left_nibble10\": 0,\n",
      "    \"cal_seq_status_10\": 395,\n",
      "    \"dqstrack_rldlyrnk_fine_max_byte3\": 29,\n",
      "    \"bisc_mon_align_nibble04\": 0,\n",
      "    \"f1_wrdqdbi_deskew_dbi_odly_byte2\": 0,\n",
      "    \"f0_wr_comp_rm_byte_04\": [\n",
      "        60,\n",
      "        116\n",
      "    ],\n",
      "    \"f0_wrprbs_left_margin_byte1\": 0,\n",
      "    \"f0_wrdqdbi_deskew_dq_odly_fcrse_bit49\": 125,\n",
      "    \"f1_wrdqdbi_left_edge_dq_bit39\": 0,\n",
      "    \"cal_warning_71\": 0,\n",
      "    \"f0_rddq_idelay_final_bit22\": 83,\n",
      "    \"f0_wrdqdbi_stg2_dq_odly_bit04\": 65,\n",
      "    \"rdmargin_pqtr_right_nibble00\": 0,\n",
      "    \"f0_calbisc_rl_dly_qtr_nibble02\": 82,\n",
      "    \"vttrack_rldlyqtr_min_nibble10\": 78,\n",
      "    \"f1_rddq_nqtr_left_nibble12\": 0,\n",
      "    \"f1_rdcmplx_nqtr_left_nibble01\": 0,\n",
      "    \"f0_rd_comp_rise_rm_nib_14\": [\n",
      "        68,\n",
      "        134\n",
      "    ],\n",
      "    \"f0_wrdqdbi_deskew_dbi_odly_byte2\": 119,\n",
      "    \"rdvref_left_vref_low_bound_nibble02\": 0,\n",
      "    \"f0_wrdqdbi_stg3_dq_odly_bit09\": 64,\n",
      "    \"f0_rd_comp_fall_ctp_nib_04\": [\n",
      "        92,\n",
      "        177\n",
      "    ],\n",
      "    \"f1_wrdqdbi_stg6_dbi_odly_byte1\": 0,\n",
      "    \"rdvref_left_vref_upp_bound_nibble15\": 0,\n",
      "    \"rdvref_right_vref_low_bound_nibble04\": 0,\n",
      "    \"f1_rdcmplx_pqtr_left_short_nibble11\": 0,\n",
      "    \"f1_wrcmplx_odly_dq_final_bit23\": 0,\n",
      "    \"f0_rd_comp_rise_lm_nib_11\": [\n",
      "        70,\n",
      "        138\n",
      "    ],\n",
      "    \"f1_wrprbs_left_margin_byte7\": 0,\n",
      "    \"f1_wrcmplx_odly_dq_final_bit55\": 0,\n",
      "    \"f1_dqsgate_stg1_overflow_05\": 0,\n",
      "    \"f1_wrdqdbi_odly_dbi_final_byte2\": 0,\n",
      "    \"dqstrack_rldlyrnk_crse_max_byte5\": 2,\n",
      "    \"f0_rddq_nqtr_left_nibble07\": 20,\n",
      "    \"f0_wrdqdbi_odly_dbi_final_byte2\": 46,\n",
      "    \"f1_wrdqdbi_stg3_dq_odly_bit38\": 0,\n",
      "    \"f0_wr_simp_lm_byte_02\": [\n",
      "        80,\n",
      "        154\n",
      "    ],\n",
      "    \"f1_wrdqdbi_right_margin_byte0\": 0,\n",
      "    \"xpi_wrdata_all_nib_dly_offset\": 8,\n",
      "    \"f0_rdprbs_pqtr_left_margin_nibble13\": 0,\n",
      "    \"f0_calbisc_rl_dly_pqtr_nibble15\": 78,\n",
      "    \"f0_wrdqdbi_stg2_dq_odly_bit46\": 60,\n",
      "    \"f1_wrlat_phy_data_nib_final_byte3\": 0,\n",
      "    \"f0_wrcmplx_odly_dbi_final_byte2\": 49,\n",
      "    \"phy_oe_nib13_dly\": 0,\n",
      "    \"f0_rd_simp_rise_rm_nib_10\": [\n",
      "        80,\n",
      "        156\n",
      "    ],\n",
      "    \"f0_wrdqdbi_stg3_dq_odly_bit24\": 81,\n",
      "    \"cal_error_phy_nibble_17_9\": 0,\n",
      "    \"f1_wrdqdbi_stg1_bit_status_byte2\": 0,\n",
      "    \"f1_calbisc_rl_dly_pqtr_nibble06\": 0,\n",
      "    \"f0_dqsgate_stg1_overflow_54\": 0,\n",
      "    \"rdvref_left_vref_upp_bound_nibble02\": 0,\n",
      "    \"f0_rdcmplx_nqtr_final_nibble05\": 90,\n",
      "    \"cal_stage_time_35\": 0,\n",
      "    \"f0_wrlvl_noise_fcrse_rank0_byte7\": 75,\n",
      "    \"f0_rddq_nqtr_right_nibble00\": 177,\n",
      "    \"bisc_nqtr_nibble04\": 81,\n",
      "    \"f0_rddq_pqtr_right_fcrse_nibble07\": 172,\n",
      "    \"rdvref_left_vref_low_bound_nibble05\": 0,\n",
      "    \"f0_rddq_qtr_deskew_nibble01\": 1,\n",
      "    \"iobmap_dq_61_60\": 0,\n",
      "    \"f0_rddq_pqtr_right_nibble03\": 171,\n",
      "    \"f0_wrdqdbi_odly_dq_final_bit22\": 51,\n",
      "    \"phy_rden11_dly\": 22,\n",
      "    \"f0_rdcmplx_nqtr_final_nibble09\": 89,\n",
      "    \"rdvref_left_vref_def_nibble04\": 0,\n",
      "    \"mc_loc\": \"x0y0\",\n",
      "    \"bisc_idly4_align_nibble03\": 81,\n",
      "    \"wrvref_right_vref_low_bound_rank0_byte6\": 0,\n",
      "    \"f0_wrdqdbi_odly_dq_final_bit27\": 94,\n",
      "    \"f1_wrdqdbi_deskew_dq_odly_fcrse_bit25\": 0,\n",
      "    \"health_status\": \"GOOD\",\n",
      "    \"f0_wrdqdbi_stg3_dq_odly_bit05\": 65,\n",
      "    \"f0_wrlat_phy_data_nib_final_byte6\": 1,\n",
      "    \"bisc_idly0_align_nibble06\": 69,\n",
      "    \"f0_rddq_idelay_final_bit63\": 73,\n",
      "    \"f1_wrdqdbi_stg2_dq_odly_bit21\": 0,\n",
      "    \"f0_rd_comp_fall_ctp_nib_09\": [\n",
      "        89,\n",
      "        170\n",
      "    ],\n",
      "    \"iobmap_dq_57_56\": 0,\n",
      "    \"f1_calbisc_rl_dly_qtr_nibble05\": 0,\n",
      "    \"f1_wrdqdbi_stg3_dq_odly_bit37\": 0,\n",
      "    \"f1_rdcmplx_pqtr_left_nibble10\": 0,\n",
      "    \"f0_rdcmplx_nqtr_left_short_nibble13\": 26,\n",
      "    \"f0_wrdqdbi_stg3_dq_odly_bit35\": 33,\n",
      "    \"f0_rdcmplx_pqtr_right_short_nibble10\": 173,\n",
      "    \"wrvref_vref_low_bound_rank0_byte0\": 0,\n",
      "    \"f1_rdprbs_nqtr_left_margin_nibble01\": 0,\n",
      "    \"cal_warning_58\": 0,\n",
      "    \"f0_wrdqdbi_stg2_dq_odly_bit62\": 75,\n",
      "    \"f0_rd_comp_fall_ctp_nib_06\": [\n",
      "        83,\n",
      "        160\n",
      "    ],\n",
      "    \"f0_rd_comp_rise_rm_nib_01\": [\n",
      "        70,\n",
      "        133\n",
      "    ],\n",
      "    \"f0_rd_comp_fall_rm_nib_07\": [\n",
      "        63,\n",
      "        123\n",
      "    ],\n",
      "    \"f0_rd_comp_rise_lm_nib_15\": [\n",
      "        68,\n",
      "        136\n",
      "    ],\n",
      "    \"f0_rddq_idelay_final_bit11\": 70,\n",
      "    \"f1_wrdqdbi_stg2_dq_odly_bit24\": 0,\n",
      "    \"cal_warning_34\": 0,\n",
      "    \"f0_wrdqdbi_stg3_dq_odly_bit62\": 75,\n",
      "    \"f1_wrdqdbi_deskew_dq_odly_bit44\": 0,\n",
      "    \"f0_rddq_idelay_final_bit35\": 67,\n",
      "    \"f1_wrdqdbi_right_edge_dqs_byte5\": 0,\n",
      "    \"f1_rdcmplx_idelay_offset_nibble12\": 0,\n",
      "    \"f0_calbisc_rl_dly_nqtr_nibble13\": 81,\n",
      "    \"f0_rdcmplx_nqtr_final_nibble07\": 83,\n",
      "    \"f1_rddq_idelay_final_bit33\": 0,\n",
      "    \"f1_wrdqdbi_odly_dq_final_bit17\": 0,\n",
      "    \"f0_rdprbs_pqtr_left_margin_nibble03\": 0,\n",
      "    \"dqstrack_rldlyrnk_crse_max_byte4\": 5,\n",
      "    \"f1_rdcmplx_nqtr_left_nibble13\": 0,\n",
      "    \"lp4_dqs_osc_track_en\": 0,\n",
      "    \"bisc_idly4_align_nibble14\": 71,\n",
      "    \"f0_rdcmplx_pqtr_right_short_nibble04\": 175,\n",
      "    \"f0_rddq_idelay_final_bit44\": 82,\n",
      "    \"f1_dqsgate_stg1_rldlyrnk_crse_rank0_byte6\": 0,\n",
      "    \"f1_wrcmplx_left_margin_fcrse_byte2\": 0,\n",
      "    \"f0_wrdqdbi_deskew_dq_odly_bit03\": 145,\n",
      "    \"f0_wrdqdbi_stg3_dq_odly_bit36\": 33,\n",
      "    \"f0_rd_comp_fall_ctp_nib_11\": [\n",
      "        89,\n",
      "        174\n",
      "    ],\n",
      "    \"vttrack_rldlyqtr_min_nibble01\": 77,\n",
      "    \"vttrack_rldlyqtr_min_nibble08\": 77,\n",
      "    \"f1_rdcmplx_nqtr_left_nibble10\": 0,\n",
      "    \"f0_wrlvl_fine_final_rank0_byte6\": 55,\n",
      "    \"wrmargin_right_byte4\": 0,\n",
      "    \"f0_dqsgate_stg1_overflow_32\": 0,\n",
      "    \"cal_stage_time_27\": 0,\n",
      "    \"f1_rddq_pqtr_right_nibble11\": 0,\n",
      "    \"f1_rdprbs_pqtr_left_margin_nibble06\": 0,\n",
      "    \"f1_calbisc_rl_dly_nqtr_nibble07\": 0,\n",
      "    \"dqstrack_rldlyrnk_crse_byte2\": 5,\n",
      "    \"rdmargin_pqtr_left_nibble13\": 0,\n",
      "    \"f0_rdcmplx_pqtr_right_short_nibble15\": 170,\n",
      "    \"f0_calbisc_rl_dly_nqtr_nibble08\": 81,\n",
      "    \"rdvref_left_vref_final_nibble04\": 0,\n",
      "    \"cal_warning_46\": 0,\n",
      "    \"f1_rdcmplx_nqtr_left_short_nibble02\": 0,\n",
      "    \"f1_wrdqdbi_deskew_dq_odly_bit47\": 0,\n",
      "    \"rdvref_vref_low_bound_nibble14\": 0,\n",
      "    \"f1_rdcmplx_pqtr_left_short_nibble01\": 0,\n",
      "    \"cal_stage_time_60\": 16,\n",
      "    \"cal_stage_time_34\": 0,\n",
      "    \"f0_wrdqdbi_left_edge_dq_bit44\": 66,\n",
      "    \"f0_wrdqdbi_deskew_dbi_odly_fcrse_byte6\": 125,\n",
      "    \"f0_wrdqdbi_odly_dq_final_bit56\": 88,\n",
      "    \"cal_warning_52\": 0,\n",
      "    \"f0_wrlvl_offset_rank0_byte3\": 82,\n",
      "    \"f1_calbisc_rl_dly_pqtr_nibble04\": 0,\n",
      "    \"reg_safe_config7\": 262696,\n",
      "    \"f0_wrdqdbi_right_margin_fcrse_byte1\": 60,\n",
      "    \"f1_wrdqdbi_odly_dq_final_bit45\": 0,\n",
      "    \"f1_rddq_pqtr_final_nibble08\": 0,\n",
      "    \"f1_rdprbs_pqtr_right_margin_nibble01\": 0,\n",
      "    \"f0_rd_simp_rise_lm_nib_11\": [\n",
      "        79,\n",
      "        156\n",
      "    ],\n",
      "    \"f1_wrlat_phy_data_nib_final_byte7\": 0,\n",
      "    \"f0_rd_simp_rise_lm_nib_03\": [\n",
      "        77,\n",
      "        150\n",
      "    ],\n",
      "    \"cal_warning_39\": 0,\n",
      "    \"f1_calbisc_rl_dly_pqtr_nibble11\": 0,\n",
      "    \"f1_wrcmplx_odly_dq_final_bit41\": 0,\n",
      "    \"f1_wrdqdbi_deskew_dbi_odly_byte7\": 0,\n",
      "    \"wrvref_left_vref_upp_bound_rank0_byte5\": 0,\n",
      "    \"cal_error_msg\": \"None\",\n",
      "    \"f0_rddq_pqtr_left_nibble11\": 17,\n",
      "    \"f0_wrdqdbi_left_edge_dq_bit55\": 63,\n",
      "    \"f1_rddq_pqtr_right_nibble06\": 0,\n",
      "    \"iobmap_dq_71_70\": 0,\n",
      "    \"dqs_status\": \"Running\",\n",
      "    \"wrvref_right_vref_low_bound_rank0_byte1\": 0,\n",
      "    \"bisc_idly1_align_nibble02\": 73,\n",
      "    \"f1_mr1_8_0\": 0,\n",
      "    \"iobmap_dq_55_54\": 0,\n",
      "    \"f1_wrcmplx_odly_dq_final_bit44\": 0,\n",
      "    \"f0_rdcmplx_nqtr_right_nibble07\": 146,\n",
      "    \"f0_wrdqdbi_deskew_dq_odly_bit38\": 115,\n",
      "    \"f1_rddq_nqtr_left_nibble14\": 0,\n",
      "    \"lranks\": 1,\n",
      "    \"f1_wrlat_phy_oe_nib_final_byte2\": 0,\n",
      "    \"f1_rdcmplx_pqtr_left_short_nibble02\": 0,\n",
      "    \"f1_rddq_nqtr_right_fcrse_nibble01\": 0,\n",
      "    \"f1_wrcmplx_right_margin_byte6\": 0,\n",
      "    \"cal_seq_status_47\": 0,\n",
      "    \"f1_wrlat_init_latency\": 0,\n",
      "    \"f1_wrdqdbi_left_edge_dq_bit55\": 0,\n",
      "    \"f0_rdcmplx_nqtr_right_short_fcrse_nibble00\": 181,\n",
      "    \"f0_dqsgate_rldlyrnk_crse_final_rank0_byte0\": 0,\n",
      "    \"f1_rdcmplx_pqtr_right_short_fcrse_nibble11\": 0,\n",
      "    \"f1_mr3_8_0\": 32,\n",
      "    \"bisc_nqtr_nibble03\": 81,\n",
      "    \"f0_wrlvl_fine_final_rank0_byte1\": 64,\n",
      "    \"f0_rddq_nqtr_final_nibble14\": 95,\n",
      "    \"f1_dqsgate_stg1_rldlyrnk_fine_rank0_byte1\": 0,\n",
      "    \"f0_rdcmplx_pqtr_left_short_nibble01\": 28,\n",
      "    \"f1_wrlat_match_rank0_byte4\": 0,\n",
      "    \"f0_rd_simp_fall_ctp_nib_09\": [\n",
      "        102,\n",
      "        194\n",
      "    ],\n",
      "    \"f0_wrdqdbi_stg2_dq_odly_bit50\": 55,\n",
      "    \"f0_rdprbs_pqtr_right_margin_nibble09\": 0,\n",
      "    \"f1_wrcmplx_odly_dq_final_bit08\": 0,\n",
      "    \"f1_dqsgate_read_lat_final_byte6\": 0,\n",
      "    \"f0_rddq_qtr_deskew_nibble03\": 1,\n",
      "    \"cal_seq_status_28\": 300,\n",
      "    \"f1_rdcmplx_pqtr_final_nibble14\": 0,\n",
      "    \"f1_wrdqdbi_left_edge_dq_bit57\": 0,\n",
      "    \"f1_rdcmplx_pqtr_final_nibble07\": 0,\n",
      "    \"bisc_pqtr_align_nibble10\": 0,\n",
      "    \"phy_oe_nib4_dly\": 1,\n",
      "    \"f1_wrcmplx_right_margin_byte3\": 0,\n",
      "    \"f1_wrdqdbi_stg2_dqs_odly_byte1\": 0,\n",
      "    \"f0_dqsgate_stg1_read_lat_rank0_byte7\": 27,\n",
      "    \"f0_rddq_idelay_final_bit57\": 69,\n",
      "    \"rdvref_vref_upp_bound_nibble08\": 0,\n",
      "    \"f0_wrdqdbi_deskew_dq_odly_bit07\": 146,\n",
      "    \"f0_wrlvl_fine_final_rank0_byte7\": 75,\n",
      "    \"f0_wrdqdbi_odly_dq_final_bit06\": 90,\n",
      "    \"f1_calbisc_rl_dly_qtr_nibble10\": 0,\n",
      "    \"f0_wrdqdbi_deskew_dq_odly_bit27\": 164,\n",
      "    \"wrvref_vref_upp_bound_rank0_byte6\": 0,\n",
      "    \"f0_wrcmplx_left_margin_fcrse_byte0\": 70,\n",
      "    \"f1_wrdqdbi_deskew_dq_odly_fcrse_bit61\": 0,\n",
      "    \"f0_rdprbs_nqtr_right_margin_nibble01\": 0,\n",
      "    \"f1_wrcmplx_right_margin_byte4\": 0,\n",
      "    \"bisc_pqtr_nibble13\": 80,\n",
      "    \"f1_wrdqdbi_stg4_byte_status_01\": 0,\n",
      "    \"dqstrack_rldlyrnk_crse_max_byte2\": 5,\n",
      "    \"f1_wrcmplx_odly_dq_final_bit29\": 0,\n",
      "    \"f0_rddq_idelay_final_bit05\": 85,\n",
      "    \"f0_rddq_nqtr_right_fcrse_nibble13\": 180,\n",
      "    \"f0_rd_simp_fall_lm_nib_11\": [\n",
      "        76,\n",
      "        148\n",
      "    ],\n",
      "    \"f1_calbisc_rl_dly_qtr_nibble12\": 0,\n",
      "    \"f1_wrdqdbi_odly_dq_final_bit28\": 0,\n",
      "    \"mgchk_enable\": 0,\n",
      "    \"f0_dqsgate_stg1_overflow_50\": 0,\n",
      "    \"bisc_idly2_align_nibble04\": 67,\n",
      "    \"f0_rdcmplx_nqtr_left_nibble04\": 30,\n",
      "    \"xpi_pmi_config\": 0,\n",
      "    \"f0_rdcmplx_pqtr_right_short_fcrse_nibble07\": 176,\n",
      "    \"f0_wrcmplx_odly_dq_final_bit47\": 67,\n",
      "    \"f0_rd_simp_rise_ctp_nib_09\": [\n",
      "        94,\n",
      "        186\n",
      "    ],\n",
      "    \"f0_rddq_pqtr_right_fcrse_nibble01\": 172,\n",
      "    \"f1_rdcmplx_nqtr_right_short_fcrse_nibble09\": 0,\n",
      "    \"f1_wrdqdbi_deskew_dq_odly_fcrse_bit47\": 0,\n",
      "    \"ddrmc_isr_nsu_1\": 0,\n",
      "    \"mgchk_def_rd_vref_1\": 0,\n",
      "    \"f0_rd_simp_rise_lm_nib_09\": [\n",
      "        77,\n",
      "        152\n",
      "    ],\n",
      "    \"f1_dqsgate_stg1_overflow_15\": 0,\n",
      "    \"bisc_idly4_align_nibble05\": 80,\n",
      "    \"f0_wrdqdbi_stg3_dq_odly_bit31\": 81,\n",
      "    \"vttrack_rldlyqtr_max_nibble10\": 83,\n",
      "    \"f0_wrdqdbi_stg3_dq_odly_bit52\": 55,\n",
      "    \"f1_dqsgate_read_lat_final_byte3\": 0,\n",
      "    \"dqstrack_rldlyrnk_fine_byte6\": 1,\n",
      "    \"cal_stage_time_53\": 0,\n",
      "    \"rdvref_left_vref_final_nibble11\": 0,\n",
      "    \"f1_wrlvl_noise_fcrse_rank0_byte1\": 0,\n",
      "    \"bisc_idly4_align_nibble07\": 81,\n",
      "    \"ddrmc_isr_nsu_3\": 0,\n",
      "    \"rdvref_right_vref_def_nibble12\": 0,\n",
      "    \"f0_rd_simp_fall_rm_nib_13\": [\n",
      "        73,\n",
      "        141\n",
      "    ],\n",
      "    \"f0_wrdqdbi_left_edge_dq_bit23\": 41,\n",
      "    \"f1_wrdqdbi_odly_dq_final_bit35\": 0,\n",
      "    \"rdmargin_pqtr_left_nibble01\": 0,\n",
      "    \"f0_rd_comp_rise_ctp_nib_06\": [\n",
      "        88,\n",
      "        172\n",
      "    ],\n",
      "    \"f0_wrdqdbi_deskew_dq_odly_bit51\": 128,\n",
      "    \"f0_dqsgate_rldlyrnk_crse_final_rank0_byte7\": 1,\n",
      "    \"f1_wrcmplx_left_margin_byte4\": 0,\n",
      "    \"es_vref_min\": 273,\n",
      "    \"f0_wrcmplx_right_margin_fcrse_byte0\": 70,\n",
      "    \"f1_rddq_pqtr_right_nibble03\": 0,\n",
      "    \"f0_rd_simp_fall_lm_nib_00\": [\n",
      "        76,\n",
      "        147\n",
      "    ],\n",
      "    \"f0_wrdqdbi_stg3_dq_odly_bit01\": 65,\n",
      "    \"f0_wrlat_wldlyrnk_crse_final_rank0_byte5\": 3,\n",
      "    \"f0_wrdqdbi_stg4_dqs_delay_byte1\": 14,\n",
      "    \"f0_rddq_qtr_deskew_nibble11\": 1,\n",
      "    \"rdmargin_nqtr_right_nibble15\": 0,\n",
      "    \"f0_wrdqdbi_stg2_dq_odly_bit29\": 81,\n",
      "    \"f0_wrdqdbi_odly_dqs_final_byte0\": 83,\n",
      "    \"rdvref_left_vref_def_nibble10\": 0,\n",
      "    \"f1_wrdqdbi_deskew_dq_odly_fcrse_bit51\": 0,\n",
      "    \"f0_rdcmplx_nqtr_final_nibble02\": 83,\n",
      "    \"f0_rdprbs_nqtr_left_margin_nibble09\": 0,\n",
      "    \"f0_wrcmplx_odly_dq_final_bit26\": 87,\n",
      "    \"mc_index\": \"0\",\n",
      "    \"rdvref_right_vref_final_nibble08\": 0,\n",
      "    \"f0_wrcmplx_odly_dq_final_bit49\": 54,\n",
      "    \"f0_wrlvl_fine_final_rank0_byte5\": 60,\n",
      "    \"f0_wrdqdbi_deskew_dq_odly_bit49\": 126,\n",
      "    \"f0_rddq_idelay_final_bit13\": 79,\n",
      "    \"f0_wrcmplx_left_margin_fcrse_byte1\": 70,\n",
      "    \"f1_dqsgate_stg2_read_lat_rank0_byte4\": 0,\n",
      "    \"f0_period\": 625,\n",
      "    \"f0_wrlvl_noise_fcrse_rank0_byte4\": 35,\n",
      "    \"f0_rd_comp_rise_rm_nib_13\": [\n",
      "        70,\n",
      "        137\n",
      "    ],\n",
      "    \"f1_wrlvl_fine_left_rank0_byte3\": 0,\n",
      "    \"cal_seq_status_12\": 398,\n",
      "    \"f0_wr_simp_lm_byte_07\": [\n",
      "        80,\n",
      "        158\n",
      "    ],\n",
      "    \"iobmap_dq_33_32\": 0,\n",
      "    \"f0_rddq_idelay_final_bit31\": 85,\n",
      "    \"f0_rdcmplx_nqtr_left_nibble07\": 20,\n",
      "    \"f0_wrcmplx_odly_dq_final_bit41\": 67,\n",
      "    \"0x11_F0_READ_DQ_DBI_CAL_COMPLEX\": \"Pass\",\n",
      "    \"f0_rddq_pqtr_right_nibble14\": 171,\n",
      "    \"f1_wrdqdbi_right_margin_byte5\": 0,\n",
      "    \"f1_wrdqdbi_stg2_dq_odly_bit53\": 0,\n",
      "    \"f1_rddq_nqtr_right_fcrse_nibble06\": 0,\n",
      "    \"f1_wrlat_match_rank0_byte7\": 0,\n",
      "    \"f0_wrlvl_crse_stg1_rank0_byte0\": 2,\n",
      "    \"f1_rdcmplx_pqtr_left_short_nibble03\": 0,\n",
      "    \"f1_rdprbs_nqtr_left_margin_nibble02\": 0,\n",
      "    \"f0_wrdqdbi_left_margin_byte5\": 86,\n",
      "    \"f0_rddq_nqtr_final_nibble03\": 98,\n",
      "    \"f0_wrdqdbi_right_edge_dqs_byte5\": 143,\n",
      "    \"f0_rdprbs_nqtr_left_margin_nibble02\": 0,\n",
      "    \"f0_rdprbs_nqtr_left_margin_nibble14\": 0,\n",
      "    \"f1_wrdqdbi_stg6_dbi_odly_byte4\": 0,\n",
      "    \"rdmargin_nqtr_right_nibble04\": 0,\n",
      "    \"f1_wrdqdbi_deskew_dbi_odly_byte6\": 0,\n",
      "    \"f1_wrlat_wldlyrnk_crse_final_rank0_byte5\": 0,\n",
      "    \"cal_seq_status_37\": 314,\n",
      "    \"bisc_pqtr_nibble10\": 80,\n",
      "    \"f1_wrcmplx_odly_dq_final_bit13\": 0,\n",
      "    \"f0_rddq_pqtr_right_fcrse_nibble10\": 182,\n",
      "    \"f0_wrdqdbi_stg3_dq_odly_bit61\": 75,\n",
      "    \"mem_type\": 1,\n",
      "    \"f0_dqsgate_rldlyrnk_crse_final_rank0_byte4\": 1,\n",
      "    \"f1_rdcmplx_pqtr_left_short_nibble14\": 0,\n",
      "    \"f0_wrcmplx_odly_dq_final_bit28\": 90,\n",
      "    \"rdvref_left_vref_upp_bound_nibble05\": 0,\n",
      "    \"f0_wrcmplx_right_margin_byte2\": 64,\n",
      "    \"f0_wrdqdbi_stg2_dq_odly_bit58\": 75,\n",
      "    \"f0_wrcmplx_odly_dq_final_bit45\": 61,\n",
      "    \"f0_rddq_qtr_deskew_nibble12\": 1,\n",
      "    \"f0_wrcmplx_odly_dq_final_bit02\": 65,\n",
      "    \"f0_wrcmplx_odly_dbi_final_byte6\": 60,\n",
      "    \"f0_wrdqdbi_left_edge_dq_bit19\": 33,\n",
      "    \"f1_rddq_pqtr_right_fcrse_nibble00\": 0,\n",
      "    \"f1_wrdqdbi_deskew_dq_odly_fcrse_bit42\": 0,\n",
      "    \"rdvref_left_vref_final_nibble01\": 0,\n",
      "    \"f0_rdcmplx_nqtr_left_nibble10\": 20,\n",
      "    \"cal_post_status_02\": 0,\n",
      "    \"f1_rddq_idelay_final_bit52\": 0,\n",
      "    \"f0_dqsgate_stg2_rldlyrnk_crse_rank0_byte1\": 0,\n",
      "    \"f0_dqsgate_stg1_overflow_06\": 0,\n",
      "    \"rdvref_left_vref_def_nibble07\": 0,\n",
      "    \"ddrmc_isr_nsu_0\": 0,\n",
      "    \"f0_rddq_nqtr_left_nibble00\": 25,\n",
      "    \"f1_wrlvl_fine_right_rank0_byte0\": 0,\n",
      "    \"bisc_idly4_align_nibble12\": 73,\n",
      "    \"vttrack_rldlyqtr_nibble12\": 80,\n",
      "    \"f0_rddq_idelay_final_bit28\": 72,\n",
      "    \"f0_wrdqdbi_left_edge_dq_bit18\": 37,\n",
      "    \"f1_rddq_qtr_deskew_nibble06\": 0,\n",
      "    \"f0_calbisc_rl_dly_nqtr_nibble01\": 83,\n",
      "    \"f1_wrdqdbi_left_edge_dq_bit01\": 0,\n",
      "    \"f0_wrdqdbi_stg2_dq_odly_bit25\": 81,\n",
      "    \"bisc_rl_dly_qtr_nibble09\": 80,\n",
      "    \"f0_rdcmplx_nqtr_left_nibble13\": 26,\n",
      "    \"f0_wrdqdbi_deskew_dq_odly_bit11\": 134,\n",
      "    \"f0_wrdqdbi_right_margin_byte0\": 77,\n",
      "    \"f0_wrlat_wldlyrnk_crse_final_rank0_byte6\": 3,\n",
      "    \"cal_error_bit_phy_nibble_07\": 0,\n",
      "    \"f1_wrcmplx_odly_dq_final_bit58\": 0,\n",
      "    \"bisc_pqtr_align_nibble09\": 0,\n",
      "    \"f1_rdcmplx_pqtr_right_nibble01\": 0,\n",
      "    \"f1_wrdqdbi_stg2_dq_odly_bit50\": 0,\n",
      "    \"f1_rdcmplx_idelay_offset_nibble00\": 0,\n",
      "    \"f0_rddq_pqtr_left_nibble06\": 17,\n",
      "    \"f0_wrdqdbi_deskew_dq_odly_fcrse_bit63\": 145,\n",
      "    \"bisc_idly5_align_nibble09\": 83,\n",
      "    \"f1_wrdqdbi_right_edge_dqs_byte2\": 0,\n",
      "    \"f1_rdcmplx_idelay_offset_nibble11\": 0,\n",
      "    \"cal_stage_time_01\": 70,\n",
      "    \"f0_wrlvl_offset_rank0_byte1\": 82,\n",
      "    \"f0_wrcmplx_left_margin_fcrse_byte6\": 70,\n",
      "    \"f1_wrdqdbi_left_edge_dq_bit51\": 0,\n",
      "    \"f1_wrdqdbi_deskew_dq_odly_bit15\": 0,\n",
      "    \"rdvref_right_vref_upp_bound_nibble11\": 0,\n",
      "    \"f0_wrdqdbi_odly_dq_final_bit52\": 60,\n",
      "    \"f0_rdcmplx_nqtr_left_short_nibble00\": 26,\n",
      "    \"f0_rdprbs_pqtr_right_margin_nibble03\": 0,\n",
      "    \"phy_oe_nib26_dly\": 0,\n",
      "    \"f0_dqsgate_stg1_overflow_24\": 0,\n",
      "    \"f0_wrdqdbi_stg2_dq_odly_bit60\": 75,\n",
      "    \"ecc_en\": 0,\n",
      "    \"wrvref_left_vref_low_bound_rank0_byte3\": 0,\n",
      "    \"ub_data_ce\": 0,\n",
      "    \"f0_wrdqdbi_stg3_dq_odly_bit44\": 60,\n",
      "    \"f1_rdcmplx_nqtr_left_short_nibble09\": 0,\n",
      "    \"f0_wrlvl_fine_left_rank0_byte7\": 74,\n",
      "    \"f1_wrdqdbi_deskew_dq_odly_fcrse_bit15\": 0,\n",
      "    \"f1_wrdqdbi_deskew_dq_odly_fcrse_bit62\": 0,\n",
      "    \"rdmargin_nqtr_right_nibble12\": 0,\n",
      "    \"rdmargin_pqtr_left_nibble07\": 0,\n",
      "    \"f0_wrcmplx_odly_dq_final_bit18\": 47,\n",
      "    \"f0_dqsgate_stg1_rldlyrnk_fine_rank0_byte6\": 78,\n",
      "    \"rdvref_right_vref_final_nibble02\": 0,\n",
      "    \"f1_wrprbs_left_margin_byte6\": 0,\n",
      "    \"iobmap_dq_19_18\": 0,\n",
      "    \"f0_wrdqdbi_stg2_dq_odly_bit48\": 55,\n",
      "    \"f1_wrlvl_noise_fcrse_rank0_byte0\": 0,\n",
      "    \"f1_rddq_nqtr_right_nibble00\": 0,\n",
      "    \"f1_rdprbs_nqtr_left_margin_nibble10\": 0,\n",
      "    \"f1_wrdqdbi_left_edge_dq_bit27\": 0,\n",
      "    \"rdmargin_pqtr_right_nibble05\": 0,\n",
      "    \"f0_rdcmplx_nqtr_right_nibble00\": 155,\n",
      "    \"f1_wrcmplx_odly_dq_final_bit14\": 0,\n",
      "    \"f1_rdprbs_pqtr_right_margin_nibble02\": 0,\n",
      "    \"cal_seq_status_17\": 403,\n",
      "    \"0x3d_READ_DQS_TRACK\": \"Pass\",\n",
      "    \"f1_wrdqdbi_deskew_dq_odly_bit14\": 0,\n",
      "    \"bisc_pqtr_nibble11\": 79,\n",
      "    \"f0_rd_simp_fall_rm_nib_14\": [\n",
      "        76,\n",
      "        148\n",
      "    ],\n",
      "    \"f0_wrdqdbi_stg2_dqs_odly_byte4\": 49,\n",
      "    \"f0_rdcmplx_pqtr_right_short_fcrse_nibble08\": 178,\n",
      "    \"f0_rddq_idelay_final_bit30\": 79,\n",
      "    \"f0_rddq_pqtr_left_nibble14\": 17,\n",
      "    \"f0_wrdqdbi_odly_dqs_final_byte2\": 55,\n",
      "    \"f0_wrdqdbi_deskew_dq_odly_bit00\": 150,\n",
      "    \"f0_rddq_nqtr_right_nibble09\": 177,\n",
      "    \"cal_seq_status_44\": 0,\n",
      "    \"phy_rden6_dly\": 27,\n",
      "    \"rdvref_right_vref_def_nibble02\": 0,\n",
      "    \"bisc_idly3_align_nibble07\": 78,\n",
      "    \"f0_rdprbs_pqtr_left_margin_nibble09\": 0,\n",
      "    \"rdvref_vref_low_bound_nibble12\": 0,\n",
      "    \"f0_dqsgate_stg1_read_lat_rank0_byte6\": 24,\n",
      "    \"bisc_en\": 0,\n",
      "    \"f1_rdcmplx_pqtr_left_short_nibble04\": 0,\n",
      "    \"f0_wrcmplx_left_margin_byte5\": 75,\n",
      "    \"f1_rdcmplx_nqtr_right_nibble10\": 0,\n",
      "    \"f0_wrcmplx_odly_dbi_final_byte7\": 86,\n",
      "    \"bisc_rl_dly_qtr_nibble05\": 82,\n",
      "    \"f0_rdcmplx_nqtr_right_short_fcrse_nibble13\": 171,\n",
      "    \"cal_seq_status_33\": 304,\n",
      "    \"cal_warning_50\": 0,\n",
      "    \"f0_rd_comp_rise_lm_nib_13\": [\n",
      "        69,\n",
      "        135\n",
      "    ],\n",
      "    \"f0_dqsgate_stg2_read_lat_rank0_byte3\": 26,\n",
      "    \"f1_wrdqdbi_deskew_dq_odly_fcrse_bit30\": 0,\n",
      "    \"f1_wrdqdbi_stg2_dq_odly_bit31\": 0,\n",
      "    \"isr_change_count\": 0,\n",
      "    \"f1_wrdqdbi_deskew_dq_odly_bit16\": 0,\n",
      "    \"cal_warning_40\": 0,\n",
      "    \"f0_rdcmplx_pqtr_right_short_fcrse_nibble04\": 180,\n",
      "    \"f0_wrprbs_right_margin_byte0\": 0,\n",
      "    \"bisc_rl_dly_qtr_nibble02\": 82,\n",
      "    \"wrvref_left_vref_upp_bound_rank0_byte7\": 0,\n",
      "    \"f1_wrdqdbi_left_edge_dq_bit11\": 0,\n",
      "    \"bisc_idly0_align_nibble03\": 74,\n",
      "    \"cal_stage_time_37\": 0,\n",
      "    \"f1_wrdqdbi_left_edge_dq_bit25\": 0,\n",
      "    \"f0_wrdqdbi_deskew_dq_odly_bit63\": 147,\n",
      "    \"f0_wrdqdbi_left_edge_dq_bit46\": 62,\n",
      "    \"f0_wrcmplx_right_margin_byte4\": 60,\n",
      "    \"f1_wrdqdbi_stg3_dq_odly_bit30\": 0,\n",
      "    \"f0_rd_comp_rise_rm_nib_15\": [\n",
      "        69,\n",
      "        138\n",
      "    ],\n",
      "    \"f0_wrdqdbi_stg2_dqs_odly_byte7\": 91,\n",
      "    \"f1_wrlvl_noise_fcrse_rank0_byte5\": 0,\n",
      "    \"f0_rdcmplx_nqtr_right_nibble01\": 156,\n",
      "    \"f1_wrdqdbi_left_edge_dq_bit02\": 0,\n",
      "    \"f1_rdprbs_nqtr_left_margin_nibble00\": 0,\n",
      "    \"cal_stage_time_08\": 0,\n",
      "    \"f0_wr_comp_rm_byte_07\": [\n",
      "        58,\n",
      "        115\n",
      "    ],\n",
      "    \"f0_rddq_idelay_final_bit61\": 86,\n",
      "    \"cal_warning_04\": 0,\n",
      "    \"f0_rddq_pqtr_right_nibble08\": 171,\n",
      "    \"f0_wrcmplx_odly_dq_final_bit44\": 81,\n",
      "    \"f0_rddq_pqtr_right_nibble11\": 176,\n",
      "    \"iobmap_dq_3_2\": 0,\n",
      "    \"cal_warning_66\": 0,\n",
      "    \"bisc_mon_align_nibble05\": 0,\n",
      "    \"f0_wrcmplx_odly_dq_final_bit19\": 43,\n",
      "    \"f1_wrlvl_crse_stg1_rank0_byte0\": 0,\n",
      "    \"f1_wrdqdbi_deskew_dbi_odly_fcrse_byte1\": 0,\n",
      "    \"f1_rdprbs_pqtr_right_margin_nibble03\": 0,\n",
      "    \"f1_wrcmplx_odly_dq_final_bit26\": 0,\n",
      "    \"f1_rddq_nqtr_right_nibble13\": 0,\n",
      "    \"cal_error_bit_phy_nibble_21\": 0,\n",
      "    \"f0_wrprbs_left_margin_byte3\": 0,\n",
      "    \"f1_rdcmplx_pqtr_left_nibble07\": 0,\n",
      "    \"rdvref_vref_final_nibble13\": 0,\n",
      "    \"f0_rdcmplx_pqtr_left_short_nibble05\": 21,\n",
      "    \"f1_dqsgate_stg1_read_lat_rank0_byte3\": 0,\n",
      "    \"f0_dqsgate_stg1_overflow_45\": 0,\n",
      "    \"rdvref_vref_low_bound_nibble07\": 0,\n",
      "    \"rdvref_vref_final_nibble02\": 0,\n",
      "    \"f0_wrdqdbi_deskew_dq_odly_fcrse_bit44\": 150,\n",
      "    \"f1_rdcmplx_nqtr_final_nibble12\": 0,\n",
      "    \"f1_dqsgate_stg1_overflow_38\": 0,\n",
      "    \"f0_rddq_nqtr_right_fcrse_nibble00\": 190,\n",
      "    \"iobmap_dqs_3\": 0,\n",
      "    \"rdvref_left_vref_def_nibble01\": 0,\n",
      "    \"f1_wrcmplx_odly_dq_final_bit16\": 0,\n",
      "    \"f0_rddq_nqtr_right_fcrse_nibble09\": 183,\n",
      "    \"cal_error_rank\": 0,\n",
      "    \"f1_wrdqdbi_deskew_dq_odly_bit36\": 0,\n",
      "    \"f0_wrcmplx_right_margin_byte6\": 67,\n",
      "    \"wrmargin_right_byte1\": 0,\n",
      "    \"f1_wrdqdbi_stg5_dqs_odly_byte7\": 0,\n",
      "    \"f1_wrdqdbi_deskew_dq_odly_bit01\": 0,\n",
      "    \"f1_rdprbs_nqtr_right_margin_nibble07\": 0,\n",
      "    \"f0_wrdqdbi_deskew_dq_odly_fcrse_bit36\": 103,\n",
      "    \"f1_wrcmplx_odly_dq_final_bit06\": 0,\n",
      "    \"f1_wrcmplx_odly_dq_final_bit22\": 0,\n",
      "    \"cal_error_bit_phy_nibble_26\": 0,\n",
      "    \"f0_rddq_nqtr_right_nibble13\": 171,\n",
      "    \"f1_rddq_idelay_final_bit60\": 0,\n",
      "    \"f0_rd_comp_rise_rm_nib_07\": [\n",
      "        69,\n",
      "        135\n",
      "    ],\n",
      "    \"f1_wrcmplx_odly_dq_final_bit36\": 0,\n",
      "    \"f1_wrdqdbi_left_edge_dq_bit26\": 0,\n",
      "    \"f0_rdcmplx_pqtr_left_nibble07\": 21,\n",
      "    \"f0_mr3_8_0\": 32,\n",
      "    \"mgchk_pattern_config_1\": 0,\n",
      "    \"wrvref_left_vref_low_bound_rank0_byte7\": 0,\n",
      "    \"f0_rcd_rc0a\": 0,\n",
      "    \"f0_rddq_nqtr_right_nibble07\": 172,\n",
      "    \"f1_rdcmplx_pqtr_left_short_nibble06\": 0,\n",
      "    \"f0_calbisc_rl_dly_qtr_nibble10\": 80,\n",
      "    \"reg_safe_config2\": 1099088782,\n",
      "    \"f0_wrdqdbi_stg2_dq_odly_bit17\": 39,\n",
      "    \"f0_rdcmplx_pqtr_right_nibble13\": 166,\n",
      "    \"f1_rddq_idelay_final_bit17\": 0,\n",
      "    \"ddrmc_isr_ce0_ecc0\": 0,\n",
      "    \"mgchk_rank\": 0,\n",
      "    \"f1_wrdqdbi_left_edge_dq_bit43\": 0,\n",
      "    \"rdvref_vref_final_nibble14\": 0,\n",
      "    \"f0_dqsgate_stg1_overflow_14\": 0,\n",
      "    \"f1_wrdqdbi_right_margin_byte7\": 0,\n",
      "    \"cal_stage_time_24\": 0,\n",
      "    \"f1_rddq_pqtr_right_fcrse_nibble11\": 0,\n",
      "    \"f0_wrlvl_noise_fcrse_rank0_byte0\": 65,\n",
      "    \"f0_rddq_idelay_final_bit46\": 79,\n",
      "    \"f0_rddq_qtr_deskew_nibble02\": 1,\n",
      "    \"f0_wrdqdbi_stg2_dq_odly_bit07\": 65,\n",
      "    \"f0_wrdqdbi_stg2_dq_odly_bit47\": 60,\n",
      "    \"f1_rddq_idelay_final_bit02\": 0,\n",
      "    \"f0_wr_comp_lm_byte_00\": [\n",
      "        74,\n",
      "        143\n",
      "    ],\n",
      "    \"f1_mr5_17_9\": 0,\n",
      "    \"f0_wrdqdbi_odly_dq_final_bit63\": 70,\n",
      "    \"0x0a_F0_DQS_GATE_CAL\": \"Pass\",\n",
      "    \"f0_rddq_idelay_final_bit54\": 74,\n",
      "    \"f0_rddq_nqtr_left_nibble05\": 26,\n",
      "    \"f1_wrlvl_fine_right_rank0_byte6\": 0,\n",
      "    \"f1_rddq_pqtr_right_fcrse_nibble14\": 0,\n",
      "    \"f0_wrcmplx_odly_dq_final_bit25\": 96,\n",
      "    \"rdvref_right_vref_def_nibble11\": 0,\n",
      "    \"f0_wrlat_wldlyrnk_crse_final_rank0_byte0\": 2,\n",
      "    \"f1_wrdqdbi_odly_dq_final_bit63\": 0,\n",
      "    \"f1_wrdqdbi_stg1_dqs_delay_byte3\": 0,\n",
      "    \"f1_rdcmplx_pqtr_left_nibble00\": 0,\n",
      "    \"wrvref_right_vref_upp_bound_rank0_byte0\": 0,\n",
      "    \"f0_wrdqdbi_left_edge_dq_bit53\": 70,\n",
      "    \"f1_wrlvl_crse_stg1_rank0_byte1\": 0,\n",
      "    \"f1_wrdqdbi_stg3_dq_odly_bit58\": 0,\n",
      "    \"cal_stage_time_25\": 0,\n",
      "    \"f1_wrdqdbi_odly_dq_final_bit24\": 0,\n",
      "    \"f0_wrdqdbi_odly_dq_final_bit61\": 86,\n",
      "    \"f0_wrlat_phy_oe_nib_final_byte0\": 0,\n",
      "    \"f1_wrlat_match_rank0_byte5\": 0,\n",
      "    \"f0_wrcmplx_odly_dq_final_bit10\": 62,\n",
      "    \"f0_rddq_pqtr_right_nibble05\": 175,\n",
      "    \"f1_wrdqdbi_stg3_dq_odly_bit31\": 0,\n",
      "    \"f0_wrdqdbi_odly_dq_final_bit29\": 84,\n",
      "    \"f0_wrdqdbi_stg2_dq_odly_bit15\": 64,\n",
      "    \"f0_wrlvl_offset_rank0_byte0\": 82,\n",
      "    \"f1_rddq_idelay_final_bit13\": 0,\n",
      "    \"iobmap_dq_23_22\": 0,\n",
      "    \"bisc_idly3_align_nibble08\": 70,\n",
      "    \"bisc_pqtr_align_nibble03\": 2,\n",
      "    \"cal_error_phy_nibble_8_0\": 0,\n",
      "    \"rdmargin_nqtr_left_nibble10\": 0,\n",
      "    \"f1_wrcmplx_odly_dbi_final_byte0\": 0,\n",
      "    \"f0_wrdqdbi_deskew_dq_odly_fcrse_bit11\": 134,\n",
      "    \"f0_rddq_nqtr_right_fcrse_nibble06\": 174,\n",
      "    \"f1_wrdqdbi_odly_dqs_final_byte0\": 0,\n",
      "    \"f0_wrdqdbi_left_edge_dq_bit08\": 57,\n",
      "    \"f1_wrlvl_crse_final_rank0_byte6\": 0,\n",
      "    \"f1_rddq_pqtr_right_fcrse_nibble13\": 0,\n",
      "    \"bisc_idly5_align_nibble02\": 75,\n",
      "    \"f0_wrlvl_crse_stg1_rank0_byte2\": 0,\n",
      "    \"f0_wrcmplx_odly_dq_final_bit51\": 56,\n",
      "    \"f0_rdcmplx_idelay_offset_nibble10\": 0,\n",
      "    \"rdmargin_nqtr_right_nibble06\": 0,\n",
      "    \"f1_rdcmplx_pqtr_right_short_nibble08\": 0,\n",
      "    \"rdmargin_pqtr_left_nibble14\": 0,\n",
      "    \"f1_wrdqdbi_deskew_dq_odly_fcrse_bit19\": 0,\n",
      "    \"f1_wrdqdbi_right_margin_byte2\": 0,\n",
      "    \"f1_wrlat_phy_oe_nib_final_byte0\": 0,\n",
      "    \"f1_rddq_pqtr_right_nibble12\": 0,\n",
      "    \"f0_rddq_idelay_final_bit55\": 77,\n",
      "    \"rdvref_vref_low_bound_nibble06\": 0,\n",
      "    \"cal_stage_time_13\": 79,\n",
      "    \"f0_rdcmplx_pqtr_right_nibble03\": 158,\n",
      "    \"reg_config0\": 4198928,\n",
      "    \"f1_wrcmplx_odly_dq_final_bit32\": 0,\n",
      "    \"f0_rddq_pqtr_right_fcrse_nibble02\": 172,\n",
      "    \"f0_wrdqdbi_deskew_dq_odly_bit08\": 141,\n",
      "    \"f0_mr1_rtt_nom\": 219,\n",
      "    \"f1_wrcmplx_odly_dq_final_bit42\": 0,\n",
      "    \"cal_stage_time_23\": 0,\n",
      "    \"f0_wrcmplx_odly_dq_final_bit04\": 75,\n",
      "    \"f0_wrprbs_right_margin_byte3\": 0,\n",
      "    \"cal_stage_time_52\": 0,\n",
      "    \"rdvref_right_vref_final_nibble04\": 0,\n",
      "    \"f1_rdcmplx_pqtr_left_nibble12\": 0,\n",
      "    \"f0_rddq_nqtr_right_fcrse_nibble08\": 178,\n",
      "    \"wrvref_right_vref_low_bound_rank0_byte2\": 0,\n",
      "    \"f0_wrcmplx_odly_dq_final_bit39\": 41,\n",
      "    \"f1_wrprbs_right_margin_byte4\": 0,\n",
      "    \"f1_rddq_pqtr_final_nibble03\": 0,\n",
      "    \"cal_error_bit_phy_nibble_17\": 0,\n",
      "    \"f0_wrdqdbi_stg2_dq_odly_bit28\": 81,\n",
      "    \"f0_rddq_nqtr_right_fcrse_nibble10\": 174,\n",
      "    \"f0_wrcmplx_odly_dq_final_bit37\": 32,\n",
      "    \"bisc_mon_align_nibble03\": 0,\n",
      "    \"cal_stage_time_31\": 0,\n",
      "    \"cal_seq_status_38\": 315,\n",
      "    \"vttrack_rldlyqtr_max_nibble04\": 82,\n",
      "    \"f1_rdcmplx_pqtr_right_short_fcrse_nibble00\": 0,\n",
      "    \"dc1_perf_mon_6\": 0,\n",
      "    \"f0_wrcmplx_odly_dq_final_bit52\": 62,\n",
      "    \"f1_dqsgate_stg1_overflow_00\": 0,\n",
      "    \"f1_rddq_nqtr_final_nibble11\": 0,\n",
      "    \"rdvref_left_vref_def_nibble02\": 0,\n",
      "    \"f1_rdcmplx_nqtr_final_nibble14\": 0,\n",
      "    \"dc0_perf_mon\": 62,\n",
      "    \"f0_wrdqdbi_stg2_dq_odly_bit59\": 75,\n",
      "    \"f1_dqsgate_stg2_read_lat_rank0_byte1\": 0,\n",
      "    \"f1_wrdqdbi_odly_dq_final_bit39\": 0,\n",
      "    \"f1_wrlat_match_rank0_byte3\": 0,\n",
      "    \"f1_wrdqdbi_stg2_dq_odly_bit11\": 0,\n",
      "    \"f1_wrcmplx_odly_dq_final_bit02\": 0,\n",
      "    \"vttrack_rldlyqtr_min_nibble13\": 76,\n",
      "    \"f1_rdprbs_pqtr_right_margin_nibble11\": 0,\n",
      "    \"f0_rd_comp_fall_rm_nib_05\": [\n",
      "        63,\n",
      "        119\n",
      "    ],\n",
      "    \"f0_wrdqdbi_odly_dq_final_bit40\": 71,\n",
      "    \"f0_rd_comp_rise_ctp_nib_10\": [\n",
      "        91,\n",
      "        178\n",
      "    ],\n",
      "    \"rdvref_right_vref_def_nibble04\": 0,\n",
      "    \"cal_error_bit_phy_nibble_06\": 0,\n",
      "    \"f1_wrdqdbi_stg2_dq_odly_bit07\": 0,\n",
      "    \"f0_rdcmplx_nqtr_right_short_fcrse_nibble09\": 174,\n",
      "    \"f0_rd_comp_rise_lm_nib_10\": [\n",
      "        67,\n",
      "        131\n",
      "    ],\n",
      "    \"f0_calbisc_rl_dly_nqtr_nibble14\": 80,\n",
      "    \"f0_rddq_pqtr_left_nibble12\": 17,\n",
      "    \"f0_wrdqdbi_right_margin_byte7\": 74,\n",
      "    \"mgchk_mode\": 0,\n",
      "    \"f1_dqsgate_stg1_rldlyrnk_fine_rank0_byte3\": 0,\n",
      "    \"bisc_rl_dly_qtr_nibble13\": 80,\n",
      "    \"vttrack_rldlyqtr_min_nibble02\": 78,\n",
      "    \"wrvref_left_vref_final_rank0_byte6\": 0,\n",
      "    \"f1_rddq_idelay_final_bit29\": 0,\n",
      "    \"f1_rddq_idelay_final_bit18\": 0,\n",
      "    \"f0_rdcmplx_pqtr_final_nibble01\": 100,\n",
      "    \"f1_wrdqdbi_stg1_bit_status_byte5\": 0,\n",
      "    \"f1_wrdqdbi_stg5_dqs_odly_byte1\": 0,\n",
      "    \"f0_rd_simp_rise_lm_nib_04\": [\n",
      "        79,\n",
      "        156\n",
      "    ],\n",
      "    \"bisc_pqtr_align_nibble01\": 0,\n",
      "    \"f0_wrdqdbi_stg6_dbi_odly_byte1\": 64,\n",
      "    \"f0_wrdqdbi_left_edge_dq_bit09\": 63,\n",
      "    \"f1_dqsgate_stg1_overflow_19\": 0,\n",
      "    \"cal_warning_20\": 0,\n",
      "    \"f1_wrdqdbi_right_margin_fcrse_byte1\": 0,\n",
      "    \"f1_wrdqdbi_deskew_dq_odly_fcrse_bit29\": 0,\n",
      "    \"phy_rden19_dly\": 22,\n",
      "    \"f1_read_latency\": 1,\n",
      "    \"phy_rden20_dly\": 25,\n",
      "    \"bisc_rl_dly_qtr_nibble08\": 81,\n",
      "    \"iobmap_dq_7_6\": 0,\n",
      "    \"f1_wrdqdbi_odly_dq_final_bit59\": 0,\n",
      "    \"f1_rdcmplx_pqtr_left_short_nibble09\": 0,\n",
      "    \"f0_dqsgate_stg1_read_lat_rank0_byte2\": 24,\n",
      "    \"f1_wrprbs_left_margin_byte3\": 0,\n",
      "    \"f1_wrdqdbi_deskew_dq_odly_bit22\": 0,\n",
      "    \"f0_wrdqdbi_deskew_dq_odly_bit52\": 134,\n",
      "    \"cal_stage_time_22\": 0,\n",
      "    \"f0_rddq_idelay_final_bit02\": 77,\n",
      "    \"phy_rden2_dly\": 27,\n",
      "    \"f1_wrdqdbi_stg3_dq_odly_bit48\": 0,\n",
      "    \"rdvref_left_vref_low_bound_nibble08\": 0,\n",
      "    \"xpi_oe_all_nib_dly_offset\": 8,\n",
      "    \"f0_wrdqdbi_right_margin_byte3\": 81,\n",
      "    \"f0_dqsgate_stg2_rldlyrnk_crse_rank0_byte7\": 1,\n",
      "    \"iobmap_dq_11_10\": 0,\n",
      "    \"cal_pointer_stat\": 6,\n",
      "    \"wrvref_vref_low_bound_rank0_byte1\": 0,\n",
      "    \"f0_rdcmplx_pqtr_right_nibble05\": 157,\n",
      "    \"f1_dqsgate_stg1_overflow_39\": 0,\n",
      "    \"f0_wrdqdbi_stg3_dq_odly_bit43\": 60,\n",
      "    \"f1_wrdqdbi_odly_dq_final_bit18\": 0,\n",
      "    \"f0_dm_dbi_en\": 1,\n",
      "    \"f0_rd_simp_rise_rm_nib_15\": [\n",
      "        77,\n",
      "        154\n",
      "    ],\n",
      "    \"rdmargin_nqtr_right_nibble02\": 0,\n",
      "    \"f1_rddq_nqtr_right_nibble14\": 0,\n",
      "    \"f0_wrcmplx_odly_dq_final_bit29\": 92,\n",
      "    \"f0_wrdqdbi_right_margin_byte1\": 61,\n",
      "    \"f1_wrdqdbi_stg3_dq_odly_bit25\": 0,\n",
      "    \"f1_wrdqdbi_left_margin_byte0\": 0,\n",
      "    \"iobmap_dqs_2\": 0,\n",
      "    \"f0_rdcmplx_idelay_offset_nibble01\": 0,\n",
      "    \"f1_par_alert_en\": 1,\n",
      "    \"f0_rdcmplx_nqtr_right_short_fcrse_nibble02\": 176,\n",
      "    \"f0_rdprbs_nqtr_right_margin_nibble11\": 0,\n",
      "    \"f1_rdprbs_nqtr_left_margin_nibble07\": 0,\n",
      "    \"bisc_rl_dly_qtr_nibble03\": 80,\n",
      "    \"wrvref_vref_final_rank0_byte0\": 0,\n",
      "    \"cal_stage_time_00\": 11,\n",
      "    \"f1_wrdqdbi_stg3_dq_odly_bit12\": 0,\n",
      "    \"f0_wrdqdbi_left_edge_dq_bit16\": 42,\n",
      "    \"f0_rdcmplx_nqtr_right_nibble06\": 146,\n",
      "    \"f1_dqsgate_stg2_read_lat_rank0_byte5\": 0,\n",
      "    \"f1_rdprbs_nqtr_left_margin_nibble06\": 0,\n",
      "    \"f0_wrlvl_fine_final_rank0_byte0\": 65,\n",
      "    \"f1_dqsgate_stg1_overflow_30\": 0,\n",
      "    \"f0_rddq_pqtr_right_nibble07\": 171,\n",
      "    \"mgchk_rw_mode\": 0,\n",
      "    \"f0_rd_simp_fall_lm_nib_08\": [\n",
      "        76,\n",
      "        147\n",
      "    ],\n",
      "    \"f0_rddq_idelay_final_bit10\": 68,\n",
      "    \"f0_rddq_nqtr_final_nibble08\": 99,\n",
      "    \"f1_rdcmplx_nqtr_final_nibble01\": 0,\n",
      "    \"ddrmc_isr_dram_parity_fatal_1\": 0,\n",
      "    \"iobmap_dq_59_58\": 0,\n",
      "    \"f0_rddq_pqtr_right_fcrse_nibble08\": 182,\n",
      "    \"f1_rddq_idelay_final_bit47\": 0,\n",
      "    \"f0_wrdqdbi_deskew_dq_odly_fcrse_bit28\": 151,\n",
      "    \"c_code_major_ver\": 2,\n",
      "    \"f0_rdcmplx_idelay_offset_nibble09\": 0,\n",
      "    \"vttrack_rldlyqtr_max_nibble01\": 83,\n",
      "    \"f1_wrdqdbi_odly_dbi_final_byte3\": 0,\n",
      "    \"cal_error_bit_phy_nibble_05\": 0,\n",
      "    \"f1_rdcmplx_pqtr_right_short_nibble05\": 0,\n",
      "    \"f1_wrdqdbi_stg3_dq_odly_bit27\": 0,\n",
      "    \"bisc_nqtr_nibble14\": 80,\n",
      "    \"f1_dqsgate_stg2_read_lat_rank0_byte3\": 0,\n",
      "    \"f1_wrdqdbi_left_edge_dq_bit58\": 0,\n",
      "    \"dc0_perf_mon_1\": 0,\n",
      "    \"f0_rddq_idelay_final_bit04\": 79,\n",
      "    \"f0_wrcmplx_odly_dq_final_bit58\": 75,\n",
      "    \"vttrack_rldlyqtr_nibble15\": 81,\n",
      "    \"f1_wrdqdbi_stg2_dq_odly_bit45\": 0,\n",
      "    \"f0_dqsgate_stg1_rldlyrnk_fine_rank0_byte2\": 37,\n",
      "    \"f0_wrdqdbi_left_edge_dq_bit52\": 57,\n",
      "    \"f0_wrdqdbi_stg3_dq_odly_bit22\": 39,\n",
      "    \"f1_rdcmplx_nqtr_right_nibble00\": 0,\n",
      "    \"f0_rdprbs_pqtr_right_margin_nibble12\": 0,\n",
      "    \"f1_wrdqdbi_stg3_dq_odly_bit45\": 0,\n",
      "    \"phy_rden12_dly\": 22,\n",
      "    \"f1_wrdqdbi_left_edge_dq_bit00\": 0,\n",
      "    \"f1_wrdqdbi_odly_dq_final_bit51\": 0,\n",
      "    \"f1_wrlvl_crse_stg1_rank0_byte2\": 0,\n",
      "    \"tag_ver_2\": 0,\n",
      "    \"f1_rdcmplx_pqtr_right_short_nibble07\": 0,\n",
      "    \"f0_wrdqdbi_deskew_dbi_odly_byte6\": 132,\n",
      "    \"f1_wrdqdbi_stg2_dq_odly_bit06\": 0,\n",
      "    \"f0_rddq_idelay_final_bit25\": 79,\n",
      "    \"f1_wrlvl_fine_final_rank0_byte6\": 0,\n",
      "    \"f0_wrdqdbi_deskew_dbi_odly_byte7\": 155,\n",
      "    \"f0_rd_comp_rise_ctp_nib_00\": [\n",
      "        93,\n",
      "        182\n",
      "    ],\n",
      "    \"f1_rdcmplx_nqtr_right_nibble01\": 0,\n",
      "    \"f1_wrcmplx_odly_dq_final_bit17\": 0,\n",
      "    \"f0_rd_comp_rise_rm_nib_08\": [\n",
      "        66,\n",
      "        127\n",
      "    ],\n",
      "    \"f1_rddq_pqtr_right_fcrse_nibble06\": 0,\n",
      "    \"f0_wrdqdbi_left_edge_dq_bit12\": 69,\n",
      "    \"f0_wrdqdbi_left_edge_dq_bit41\": 52,\n",
      "    \"f0_rdcmplx_idelay_offset_nibble02\": 0,\n",
      "    \"f1_rdcmplx_nqtr_right_short_nibble11\": 0,\n",
      "    \"c_code_minor_ver\": 1,\n",
      "    \"f1_rddq_nqtr_left_nibble09\": 0,\n",
      "    \"f0_wrdqdbi_odly_dq_final_bit16\": 49,\n",
      "    \"f0_calbisc_rl_dly_nqtr_nibble07\": 80,\n",
      "    \"cal_warning_05\": 0,\n",
      "    \"cal_error_phy_nibble_26_18\": 0,\n",
      "    \"f0_calbisc_rl_dly_qtr_nibble14\": 79,\n",
      "    \"f1_dqsgate_stg1_read_lat_rank0_byte5\": 0,\n",
      "    \"f1_wrdqdbi_left_margin_byte3\": 0,\n",
      "    \"f1_rddq_pqtr_right_nibble05\": 0,\n",
      "    \"cal_time_8_0\": 73,\n",
      "    \"f0_rddq_nqtr_right_nibble12\": 173,\n",
      "    \"f0_wrdqdbi_stg1_bit_status_byte7\": 0,\n",
      "    \"f0_wrdqdbi_stg3_dq_odly_bit39\": 33,\n",
      "    \"f0_rdcmplx_pqtr_left_nibble15\": 23,\n",
      "    \"f1_wrdqdbi_left_edge_dq_bit52\": 0,\n",
      "    \"iobmap_dqs_0\": 0,\n",
      "    \"f1_wrcmplx_odly_dq_final_bit49\": 0,\n",
      "    \"f1_wrdqdbi_stg2_dq_odly_bit05\": 0,\n",
      "    \"rdvref_vref_final_nibble10\": 0,\n",
      "    \"f1_rdcmplx_nqtr_final_nibble07\": 0,\n",
      "    \"f1_dqsgate_stg1_overflow_41\": 0,\n",
      "    \"f1_rdcmplx_nqtr_right_nibble11\": 0,\n",
      "    \"f0_wr_simp_rm_byte_03\": [\n",
      "        81,\n",
      "        158\n",
      "    ],\n",
      "    \"f1_wrlvl_fine_right_rank0_byte7\": 0,\n",
      "    \"f1_mr0_8_0\": 0,\n",
      "    \"phy_rden18_dly\": 22,\n",
      "    \"f0_wrdqdbi_stg4_dqs_delay_byte0\": 14,\n",
      "    \"cal_seq_status_03\": 261,\n",
      "    \"f1_wrdqdbi_left_edge_dq_bit29\": 0,\n",
      "    \"f1_wrdqdbi_deskew_dq_odly_fcrse_bit36\": 0,\n",
      "    \"f0_wrdqdbi_stg3_dq_odly_bit00\": 65,\n",
      "    \"f1_rdprbs_pqtr_right_margin_nibble14\": 0,\n",
      "    \"cal_warning_01\": 0,\n",
      "    \"f1_rddq_idelay_final_bit22\": 0,\n",
      "    \"f0_wrlat_min_latency\": 16,\n",
      "    \"rdvref_right_vref_upp_bound_nibble03\": 0,\n",
      "    \"f1_wrdqdbi_stg5_dqs_odly_byte2\": 0,\n",
      "    \"f0_rddq_nqtr_final_nibble01\": 103,\n",
      "    \"f1_wrdqdbi_left_edge_dq_bit23\": 0,\n",
      "    \"bisc_mon_align_nibble10\": 0,\n",
      "    \"f0_rddq_nqtr_right_nibble14\": 171,\n",
      "    \"f0_wrprbs_right_margin_byte2\": 0,\n",
      "    \"f1_dqsgate_stg1_overflow_07\": 0,\n",
      "    \"wrvref_left_vref_final_rank0_byte1\": 0,\n",
      "    \"f0_rd_comp_fall_lm_nib_04\": [\n",
      "        62,\n",
      "        120\n",
      "    ],\n",
      "    \"cal_warning_33\": 0,\n",
      "    \"f0_calbisc_rl_dly_pqtr_nibble04\": 79,\n",
      "    \"f1_rddq_pqtr_right_nibble14\": 0,\n",
      "    \"f0_rdprbs_pqtr_left_margin_nibble10\": 0,\n",
      "    \"f1_rdprbs_nqtr_right_margin_nibble04\": 0,\n",
      "    \"cal_status_init_done\": 1,\n",
      "    \"eye_scan_status\": \"NOT RUNNING\",\n",
      "    \"rdmargin_pqtr_right_nibble01\": 0,\n",
      "    \"f0_wrdqdbi_deskew_dq_odly_fcrse_bit09\": 144,\n",
      "    \"f1_wrdqdbi_left_edge_dq_bit03\": 0,\n",
      "    \"dqstrack_rldlyrnk_crse_max_byte7\": 5,\n",
      "    \"rdvref_left_vref_upp_bound_nibble10\": 0,\n",
      "    \"f1_wrdqdbi_stg3_dq_odly_bit41\": 0,\n",
      "    \"cal_error_bit_phy_nibble_09\": 0,\n",
      "    \"f0_rd_comp_rise_ctp_nib_09\": [\n",
      "        93,\n",
      "        184\n",
      "    ],\n",
      "    \"f1_rdprbs_nqtr_left_margin_nibble03\": 0,\n",
      "    \"f0_rdcmplx_nqtr_left_short_nibble11\": 25,\n",
      "    \"f0_wrdqdbi_left_edge_dbi_byte5\": 60,\n",
      "    \"f0_wrdqdbi_left_edge_dq_bit47\": 52,\n",
      "    \"f0_rdcmplx_nqtr_right_short_fcrse_nibble08\": 180,\n",
      "    \"f1_dqsgate_stg1_overflow_37\": 0,\n",
      "    \"phy_ranks\": 1,\n",
      "    \"rdvref_vref_final_nibble03\": 0,\n",
      "    \"bisc_pqtr_nibble04\": 79,\n",
      "    \"vttrack_rldlyqtr_nibble10\": 81,\n",
      "    \"f0_wrdqdbi_stg1_bit_status_byte4\": 0,\n",
      "    \"f0_wrdqdbi_deskew_dbi_odly_fcrse_byte7\": 145,\n",
      "    \"bits_per_byte\": 8,\n",
      "    \"f0_dqsgate_stg1_overflow_62\": 0,\n",
      "    \"f1_wrdqdbi_stg3_dq_odly_bit11\": 0,\n",
      "    \"self_refresh_exit_error\": 0,\n",
      "    \"f1_wrdqdbi_stg3_dq_odly_bit32\": 0,\n",
      "    \"f1_wrdqdbi_deskew_dq_odly_fcrse_bit04\": 0,\n",
      "    \"f1_rdcmplx_pqtr_right_nibble07\": 0,\n",
      "    \"iobmap_dqs_10\": 0,\n",
      "    \"rdvref_right_vref_final_nibble10\": 0,\n",
      "    \"f0_wrdqdbi_stg2_dq_odly_bit35\": 33,\n",
      "    \"f1_dqsgate_read_lat_final_byte4\": 0,\n",
      "    \"f1_wrdqdbi_odly_dq_final_bit44\": 0,\n",
      "    \"f0_wrdqdbi_deskew_dq_odly_fcrse_bit20\": 129,\n",
      "    \"f0_rd_comp_rise_ctp_nib_02\": [\n",
      "        87,\n",
      "        164\n",
      "    ],\n",
      "    \"f1_rddq_nqtr_final_nibble02\": 0,\n",
      "    \"f0_rdcmplx_pqtr_left_short_nibble09\": 27,\n",
      "    \"iobmap_dq_69_68\": 0,\n",
      "    \"iobmap_dqs_17\": 0,\n",
      "    \"reg_safe_config1\": 1086456584,\n",
      "    \"f1_wrcmplx_odly_dqs_final_byte3\": 0,\n",
      "    \"cal_stage_time_16\": 0,\n",
      "    \"f0_wrdqdbi_deskew_dq_odly_fcrse_bit23\": 119,\n",
      "    \"f1_wrdqdbi_left_edge_dq_bit33\": 0,\n",
      "    \"f1_wrdqdbi_odly_dq_final_bit61\": 0,\n",
      "    \"f0_rddq_pqtr_left_nibble01\": 17,\n",
      "    \"f0_rdprbs_pqtr_left_margin_nibble15\": 0,\n",
      "    \"wrvref_vref_final_rank0_byte1\": 0,\n",
      "    \"iobmap_dq_51_50\": 0,\n",
      "    \"f0_wrcmplx_odly_dq_final_bit48\": 65,\n",
      "    \"f1_rdcmplx_nqtr_final_nibble13\": 0,\n",
      "    \"f1_rddq_pqtr_right_fcrse_nibble01\": 0,\n",
      "    \"f1_wrdqdbi_odly_dqs_final_byte7\": 0,\n",
      "    \"wrvref_right_vref_low_bound_rank0_byte0\": 0,\n",
      "    \"f1_wrdqdbi_deskew_dq_odly_bit35\": 0,\n",
      "    \"f0_rd_simp_fall_ctp_nib_04\": [\n",
      "        104,\n",
      "        201\n",
      "    ],\n",
      "    \"f0_rd_simp_fall_ctp_nib_05\": [\n",
      "        102,\n",
      "        192\n",
      "    ],\n",
      "    \"f0_wrdqdbi_deskew_dq_odly_fcrse_bit43\": 130,\n",
      "    \"f0_wrdqdbi_stg6_dbi_odly_byte6\": 55,\n",
      "    \"f1_rdcmplx_pqtr_left_short_nibble10\": 0,\n",
      "    \"f0_wrdqdbi_stg3_dq_odly_bit27\": 81,\n",
      "    \"f0_rd_simp_fall_rm_nib_01\": [\n",
      "        75,\n",
      "        141\n",
      "    ],\n",
      "    \"bisc_idly3_align_nibble09\": 80,\n",
      "    \"mgchk_done\": 0,\n",
      "    \"f1_dqsgate_stg2_rldlyrnk_crse_rank0_byte3\": 0,\n",
      "    \"cal_message\": \"No errors detected during calibration.\",\n",
      "    \"f0_rddq_pqtr_final_nibble02\": 94,\n",
      "    \"f0_wrdqdbi_odly_dqs_final_byte6\": 71,\n",
      "    \"f0_rddq_idelay_final_bit53\": 83,\n",
      "    \"f0_rdcmplx_pqtr_right_short_nibble01\": 168,\n",
      "    \"f0_dqsgate_read_lat_final_byte4\": 27,\n",
      "    \"f1_wrdqdbi_deskew_dq_odly_fcrse_bit33\": 0,\n",
      "    \"f1_wrdqdbi_deskew_dq_odly_bit41\": 0,\n",
      "    \"f0_rd_simp_rise_ctp_nib_05\": [\n",
      "        96,\n",
      "        183\n",
      "    ],\n",
      "    \"f1_wrlat_wldlyrnk_crse_final_rank0_byte2\": 0,\n",
      "    \"f1_wrdqdbi_stg3_dq_odly_bit43\": 0,\n",
      "    \"dqstrack_rldlyrnk_crse_byte4\": 5,\n",
      "    \"f0_wrdqdbi_stg3_dq_odly_bit13\": 64,\n",
      "    \"vttrack_rldlyqtr_nibble02\": 81,\n",
      "    \"f0_rddq_pqtr_left_nibble02\": 17,\n",
      "    \"f0_wrdqdbi_odly_dbi_final_byte4\": 33,\n",
      "    \"f1_rddq_qtr_deskew_nibble10\": 0,\n",
      "    \"f0_wrdqdbi_left_edge_dq_bit30\": 88,\n",
      "    \"f0_wrdqdbi_stg2_dqs_odly_byte6\": 71,\n",
      "    \"f1_dqsgate_stg2_read_lat_rank0_byte7\": 0,\n",
      "    \"cal_stage.11_READ_DQS_TRACK\": \"Pass\",\n",
      "    \"f1_dqsgate_stg2_rldlyrnk_crse_rank0_byte1\": 0,\n",
      "    \"f0_wrdqdbi_left_edge_dq_bit48\": 60,\n",
      "    \"f1_rdcmplx_pqtr_right_short_fcrse_nibble05\": 0,\n",
      "    \"f0_rdcmplx_nqtr_right_short_fcrse_nibble10\": 175,\n",
      "    \"f1_rdcmplx_pqtr_right_short_nibble01\": 0,\n",
      "    \"f1_wrdqdbi_stg2_dq_odly_bit30\": 0,\n",
      "    \"cal_warning_37\": 0,\n",
      "    \"f0_wrlvl_fine_right_rank0_byte6\": 57,\n",
      "    \"f1_rdcmplx_nqtr_right_short_fcrse_nibble00\": 0,\n",
      "    \"rdmargin_pqtr_left_nibble06\": 0,\n",
      "    \"f1_rddq_nqtr_final_nibble07\": 0,\n",
      "    \"f1_wrdqdbi_stg2_dq_odly_bit16\": 0,\n",
      "    \"f0_wrdqdbi_right_margin_fcrse_byte6\": 60,\n",
      "    \"f0_wrprbs_left_margin_byte6\": 0,\n",
      "    \"f0_rddq_pqtr_right_fcrse_nibble06\": 172,\n",
      "    \"phy_oe_nib18_dly\": 0,\n",
      "    \"f0_wrlat_phy_data_nib_final_byte4\": 1,\n",
      "    \"f0_rddq_qtr_deskew_nibble05\": 1,\n",
      "    \"f0_wrdqdbi_stg5_dqs_odly_byte0\": 81,\n",
      "    \"f0_wrcmplx_odly_dbi_final_byte0\": 66,\n",
      "    \"f1_wrdqdbi_stg3_dq_odly_bit53\": 0,\n",
      "    \"f1_wrdqdbi_odly_dq_final_bit14\": 0,\n",
      "    \"f1_wrcmplx_left_margin_byte1\": 0,\n",
      "    \"bisc_pqtr_align_nibble11\": 0,\n",
      "    \"f1_calbisc_rl_dly_pqtr_nibble05\": 0,\n",
      "    \"f1_wrdqdbi_deskew_dq_odly_fcrse_bit17\": 0,\n",
      "    \"f1_bit_time\": 312,\n",
      "    \"f1_rddq_nqtr_right_fcrse_nibble15\": 0,\n",
      "    \"f1_wrdqdbi_odly_dqs_final_byte6\": 0,\n",
      "    \"f0_wrdqdbi_deskew_dq_odly_fcrse_bit21\": 119,\n",
      "    \"bisc_pqtr_align_nibble08\": 0,\n",
      "    \"f0_wrprbs_right_margin_byte6\": 0\n"
     ]
    },
    {
     "name": "stdout",
     "output_type": "stream",
     "text": [
      "}\n"
     ]
    }
   ],
   "source": [
    "props = ddr.ddr_node.get_property_group([])\n",
    "json_props = json.dumps(props, indent=4)\n",
    "print(json_props)"
   ]
  }
 ],
 "metadata": {
  "jupytext": {
   "cell_metadata_filter": "-all",
   "main_language": "python",
   "notebook_metadata_filter": "-all",
   "text_representation": {
    "extension": ".py",
    "format_name": "percent"
   }
  },
  "kernelspec": {
   "display_name": "Python 3 (ipykernel)",
   "language": "python",
   "name": "python3"
  },
  "language_info": {
   "codemirror_mode": {
    "name": "ipython",
    "version": 3
   },
   "file_extension": ".py",
   "mimetype": "text/x-python",
   "name": "python",
   "nbconvert_exporter": "python",
   "pygments_lexer": "ipython3",
   "version": "3.8.3"
  }
 },
 "nbformat": 4,
 "nbformat_minor": 2
}
