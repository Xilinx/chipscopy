{
 "cells": [
  {
   "cell_type": "markdown",
   "metadata": {},
   "source": [
    "<link rel=\"preconnect\" href=\"https://fonts.gstatic.com\">\n",
    "<link href=\"https://fonts.googleapis.com/css2?family=Fira+Code&display=swap\" rel=\"stylesheet\">\n",
    "\n",
    "### License\n",
    "\n",
    "<p style=\"font-family: 'Fira Code', monospace; font-size: 1.2rem\">\n",
    "Copyright 2021 Xilinx, Inc.<br><br>\n",
    "Licensed under the Apache License, Version 2.0 (the \"License\");<br>\n",
    "you may not use this file except in compliance with the License.<br><br>\n",
    "You may obtain a copy of the License at <a href=\"http://www.apache.org/licenses/LICENSE-2.0\"?>http://www.apache.org/licenses/LICENSE-2.0</a><br><br>\n",
    "Unless required by applicable law or agreed to in writing, software<br>\n",
    "distributed under the License is distributed on an \"AS IS\" BASIS,<br>\n",
    "WITHOUT WARRANTIES OR CONDITIONS OF ANY KIND, either express or implied.<br>\n",
    "See the License for the specific language governing permissions and<br>\n",
    "limitations under the License.<br>\n",
    "</p>\n"
   ]
  },
  {
   "cell_type": "markdown",
   "metadata": {},
   "source": [
    "# ChipScoPy DDR Reporting Example\n",
    "\n",
    "\n",
    "<img src=\"../img/api_overview.png\" width=\"500\" align=\"left\">"
   ]
  },
  {
   "cell_type": "markdown",
   "metadata": {},
   "source": [
    "## Description\n",
    "This demo shows how to print and report DDR calibration status and report detailed information.\n",
    "\n",
    "\n",
    "## Requirements\n",
    "- Local or remote Xilinx Versal board, such as a VCK190\n",
    "- Xilinx hw_server 2021.1 or greater\n",
    "- Xilinx cs_server 2021.1 or greater\n",
    "- Python 3.8 or greater installed\n",
    "- ChipScoPy 2021.1 or greater installed\n",
    "- Jupyter notebook support installed - Please do so, using the command `pip install chipscopy[jupyter]`"
   ]
  },
  {
   "cell_type": "markdown",
   "metadata": {},
   "source": [
    "## 1 - Initialization: Imports and File Paths\n",
    "\n",
    "After this step,\n",
    "- Required functions and classes are imported\n",
    "- Paths to server(s) and files are set correctly"
   ]
  },
  {
   "cell_type": "code",
   "execution_count": 1,
   "metadata": {},
   "outputs": [],
   "source": [
    "import pprint\n",
    "import os\n",
    "from chipscopy import create_session, report_versions\n",
    "from chipscopy import get_design_files"
   ]
  },
  {
   "cell_type": "code",
   "execution_count": 2,
   "metadata": {},
   "outputs": [
    {
     "name": "stdout",
     "output_type": "stream",
     "text": [
      "HW_URL: TCP:localhost:3121\n",
      "CS_URL: TCP:localhost:3042\n",
      "PROGRAMMING_FILE: C:\\wrk\\chipscopy\\chipscopy\\examples\\designs\\vck190\\production\\chipscopy_ced\\chipscopy_ex_wrapper.pdi\n",
      "PROBES_FILE:C:\\wrk\\chipscopy\\chipscopy\\examples\\designs\\vck190\\production\\chipscopy_ced\\chipscopy_ex_wrapper.ltx\n"
     ]
    }
   ],
   "source": [
    "# Specify locations of the running hw_server and cs_server below.\n",
    "CS_URL = os.getenv(\"CS_SERVER_URL\", \"TCP:localhost:3042\")\n",
    "HW_URL = os.getenv(\"HW_SERVER_URL\", \"TCP:localhost:3121\")\n",
    "\n",
    "# The get_design_files() function tries to find the PDI and LTX files. In non-standard\n",
    "# configurations, you can put the path for PROGRAMMING_FILE and PROBES_FILE below.\n",
    "design_files = get_design_files(\"vck190/production/chipscopy_ced\")\n",
    "\n",
    "PDI_FILE = design_files.programming_file\n",
    "LTX_FILE = design_files.probes_file\n",
    "\n",
    "print(f\"HW_URL: {HW_URL}\")\n",
    "print(f\"CS_URL: {CS_URL}\")\n",
    "print(f\"PROGRAMMING_FILE: {PDI_FILE}\")\n",
    "print(f\"PROBES_FILE:{LTX_FILE}\")"
   ]
  },
  {
   "cell_type": "markdown",
   "metadata": {},
   "source": [
    "## 2 - Create a session and connect to the hw_server and cs_server\n",
    "\n",
    "The session is a container that keeps track of devices and debug cores.\n",
    "After this step,\n",
    "- Session is initialized and connected to server(s)\n",
    "- Versions are detected and reported to stdout"
   ]
  },
  {
   "cell_type": "code",
   "execution_count": 3,
   "metadata": {},
   "outputs": [
    {
     "data": {
      "text/html": [
       "<pre style=\"white-space:pre;overflow-x:auto;line-height:normal;font-family:Menlo,'DejaVu Sans Mono',consolas,'Courier New',monospace\">\n",
       "\n",
       "</pre>\n"
      ],
      "text/plain": [
       "<rich.jupyter.JupyterRenderable at 0x256833ba9a0>"
      ]
     },
     "metadata": {},
     "output_type": "display_data"
    },
    {
     "data": {
      "text/html": [
       "<pre style=\"white-space:pre;overflow-x:auto;line-height:normal;font-family:Menlo,'DejaVu Sans Mono',consolas,'Courier New',monospace\"><span style=\"font-style: italic\">                      ChipScoPy Version Information                      </span>\n",
       "┌────────────────────────────┬──────────────────────────────────────────┐\n",
       "│<span style=\"font-weight: bold\">                     Entity </span>│<span style=\"font-weight: bold\"> Version                                  </span>│\n",
       "├────────────────────────────┼──────────────────────────────────────────┤\n",
       "│                  ChipScoPy │ ┌───────────┬──────────────────────┐     │\n",
       "│                            │ │<span style=\"font-weight: bold\"> Attribute </span>│<span style=\"font-weight: bold\"> Value                </span>│     │\n",
       "│                            │ ├───────────┼──────────────────────┤     │\n",
       "│                            │ │     Build │ 2021.1.1623743086    │     │\n",
       "│                            │ │ Timestamp │ Jun 15 2021-00:44:46 │     │\n",
       "│                            │ └───────────┴──────────────────────┘     │\n",
       "│                            │                                          │\n",
       "│ hw_server @ localhost:3121 │ ┌───────────┬──────────────────────────┐ │\n",
       "│                            │ │<span style=\"font-weight: bold\"> Attribute </span>│<span style=\"font-weight: bold\"> Value                    </span>│ │\n",
       "│                            │ ├───────────┼──────────────────────────┤ │\n",
       "│                            │ │    Status │ Connected                │ │\n",
       "│                            │ │     Build │ 1623375319               │ │\n",
       "│                            │ │   Version │ 2021.1                   │ │\n",
       "│                            │ │ Timestamp │ Thu Jun 10 19:35:19 2021 │ │\n",
       "│                            │ └───────────┴──────────────────────────┘ │\n",
       "│                            │                                          │\n",
       "│ cs_server @ localhost:3042 │ ┌───────────────┬──────────────────────┐ │\n",
       "│                            │ │<span style=\"font-weight: bold\">     Attribute </span>│<span style=\"font-weight: bold\"> Value                </span>│ │\n",
       "│                            │ ├───────────────┼──────────────────────┤ │\n",
       "│                            │ │        Status │ Connected            │ │\n",
       "│                            │ │         Build │ 1622050353           │ │\n",
       "│                            │ │       Version │ 2021.1               │ │\n",
       "│                            │ │     Timestamp │ May 26 2021-10:32:33 │ │\n",
       "│                            │ │       Package │ 2021.1.1622050353    │ │\n",
       "│                            │ │ Artifact type │ pyinstaller          │ │\n",
       "│                            │ └───────────────┴──────────────────────┘ │\n",
       "└────────────────────────────┴──────────────────────────────────────────┘\n",
       "</pre>\n"
      ],
      "text/plain": [
       "<rich.jupyter.JupyterRenderable at 0x256833fe760>"
      ]
     },
     "metadata": {},
     "output_type": "display_data"
    },
    {
     "data": {
      "text/html": [
       "<pre style=\"white-space:pre;overflow-x:auto;line-height:normal;font-family:Menlo,'DejaVu Sans Mono',consolas,'Courier New',monospace\">\n",
       "\n",
       "</pre>\n"
      ],
      "text/plain": [
       "<rich.jupyter.JupyterRenderable at 0x256833ba790>"
      ]
     },
     "metadata": {},
     "output_type": "display_data"
    }
   ],
   "source": [
    "# Start of the connection\n",
    "session = create_session(cs_server_url=CS_URL, hw_server_url=HW_URL)\n",
    "report_versions(session)"
   ]
  },
  {
   "cell_type": "markdown",
   "metadata": {},
   "source": [
    "## 3 - Program the device with the example design\n",
    "\n",
    "After this step,\n",
    "- Device is programmed with the example programming file"
   ]
  },
  {
   "cell_type": "code",
   "execution_count": 4,
   "metadata": {},
   "outputs": [
    {
     "data": {
      "text/html": [
       "<pre style=\"white-space:pre;overflow-x:auto;line-height:normal;font-family:Menlo,'DejaVu Sans Mono',consolas,'Courier New',monospace\">\n",
       "<span style=\"font-weight: bold\">--&gt; INFO: </span>Programming PDI file C:\\wrk\\chipscopy\\chipscopy\\examples\\designs\\vck190\\production\\\n",
       "chipscopy_ced\\chipscopy_ex_wrapper.pdi\n",
       "    \n",
       "</pre>\n"
      ],
      "text/plain": [
       "<rich.jupyter.JupyterRenderable at 0x256834f72e0>"
      ]
     },
     "metadata": {},
     "output_type": "display_data"
    },
    {
     "data": {
      "application/vnd.jupyter.widget-view+json": {
       "model_id": "a1cdd438cb12485395613f3a6050e498",
       "version_major": 2,
       "version_minor": 0
      },
      "text/plain": [
       "Output()"
      ]
     },
     "metadata": {},
     "output_type": "display_data"
    }
   ],
   "source": [
    "# Typical case - one device on the board - get it.\n",
    "versal_device = session.devices.get()\n",
    "versal_device.program(PDI_FILE)"
   ]
  },
  {
   "cell_type": "markdown",
   "metadata": {},
   "source": [
    "## 4 - Discover Debug Cores\n",
    "\n",
    "Debug core discovery initializes the chipscope server debug cores. This brings debug cores in the chipscope server online.\n",
    "\n",
    "After this step,\n",
    "\n",
    "- The cs_server is initialized and ready for use"
   ]
  },
  {
   "cell_type": "code",
   "execution_count": 5,
   "metadata": {},
   "outputs": [
    {
     "name": "stdout",
     "output_type": "stream",
     "text": [
      "Debug cores setup and ready for use.\n"
     ]
    }
   ],
   "source": [
    "versal_device.discover_and_setup_cores()\n",
    "print(f\"Debug cores setup and ready for use.\")"
   ]
  },
  {
   "cell_type": "code",
   "execution_count": 6,
   "metadata": {},
   "outputs": [
    {
     "name": "stdout",
     "output_type": "stream",
     "text": [
      "ddr_0 is enabled.\n",
      "Calibration status is:  PASS\n",
      "{ 'cal_error_msg': 'None',\n",
      "  'cal_message': 'No errors detected during calibration.',\n",
      "  'cal_status': 'PASS',\n",
      "  'dqs_status': 'Running',\n",
      "  'health_status': 'GOOD',\n",
      "  'track_enable': 'Post-Cal Status, UB ISR Tracking, DQS Gate Tracking, DDRMC '\n",
      "                  'ISR Tracking'}\n",
      "[ ('cal_stage.01_F0_PHY_BISC', 'Pass'),\n",
      "  ('cal_stage.02_F0_MEM_INIT', 'Pass'),\n",
      "  ('cal_stage.03_F0_DQS_GATE_CAL', 'Pass'),\n",
      "  ('cal_stage.04_F0_WRITE_LEVELING', 'Pass'),\n",
      "  ('cal_stage.05_F0_READ_DQ_CAL', 'Pass'),\n",
      "  ('cal_stage.06_F0_WRITE_DQ_DBI_CAL', 'Pass'),\n",
      "  ('cal_stage.07_F0_WRITE_LATENCY_CAL', 'Pass'),\n",
      "  ('cal_stage.08_F0_READ_DQ_DBI_CAL_COMPLEX', 'Pass'),\n",
      "  ('cal_stage.09_F0_WRITE_DQ_DBI_CAL_COMPLEX', 'Pass'),\n",
      "  ('cal_stage.10_EN_VT_TRACK', 'Pass'),\n",
      "  ('cal_stage.11_READ_DQS_TRACK', 'Pass'),\n",
      "  ('cal_stage.12_CAL_DONE', 'Pass')]\n",
      "-------------------\n",
      "\n",
      " DDRMC Status \n",
      "\n",
      "-------------------\n",
      "\n",
      "Calibration Status:   PASS \n",
      "\n",
      "Overall Health:   GOOD \n",
      "\n",
      "Message:   No errors detected during calibration. \n",
      "\n",
      "\n",
      "-------------------\n",
      "\n",
      " Status Registers\n",
      "\n",
      "-------------------\n",
      "\n",
      "DDRMC ISR Table\n",
      "\n",
      "   ddrmc_isr_ce0_ecc0 :   0\n",
      "   ddrmc_isr_ce0_ecc1 :   0\n",
      "   ddrmc_isr_ce1_ecc0 :   0\n",
      "   ddrmc_isr_ce1_ecc1 :   0\n",
      "   ddrmc_isr_ch0_data_par :   0\n",
      "   ddrmc_isr_ch1_data_par :   0\n",
      "   ddrmc_isr_dc_cmd0_fatal :   0\n",
      "   ddrmc_isr_dc_cmd1_fatal :   0\n",
      "   ddrmc_isr_dram_parity0 :   0\n",
      "   ddrmc_isr_dram_parity1 :   0\n",
      "   ddrmc_isr_dram_parity_fatal_0 :   0\n",
      "   ddrmc_isr_dram_parity_fatal_1 :   0\n",
      "   ddrmc_isr_na_cmd :   0\n",
      "   ddrmc_isr_na_cmd0 :   0\n",
      "   ddrmc_isr_na_cmd1 :   0\n",
      "   ddrmc_isr_na_cmd_fatal :   0\n",
      "   ddrmc_isr_nsu_0 :   0\n",
      "   ddrmc_isr_nsu_1 :   0\n",
      "   ddrmc_isr_nsu_2 :   0\n",
      "   ddrmc_isr_nsu_3 :   0\n",
      "   ddrmc_isr_nsu_fatal0 :   0\n",
      "   ddrmc_isr_nsu_fatal1 :   0\n",
      "   ddrmc_isr_nsu_fatal2 :   0\n",
      "   ddrmc_isr_nsu_fatal3 :   0\n",
      "   ddrmc_isr_uc0_ecc0 :   0\n",
      "   ddrmc_isr_uc0_ecc1 :   0\n",
      "   ddrmc_isr_uc1_ecc0 :   0\n",
      "   ddrmc_isr_uc1_ecc1 :   0\n",
      "\n",
      "UB ISR Table\n",
      "\n",
      "   ub_data_ce :   0\n",
      "   ub_data_ue :   0\n",
      "   ub_instr_ce :   0\n",
      "   ub_isntr_ue :   0\n",
      "   ub_isr_calerror :   0\n",
      "   ub_isr_vt_track_err :   0\n",
      "   ub_isr_watchdog :   0\n",
      "   ub_ub_msg :   0\n",
      "\n",
      "----------------------------------\n",
      "\n",
      " Memory Configuration \n",
      "\n",
      "----------------------------------\n",
      "\n",
      "DDRMC Core Name :   ddr_0\n",
      "Memory Interface :   DDR4\n",
      "Device Type :   UDIMM\n",
      "Slots :   1\n",
      "Ranks :   1\n",
      "Data Width :   64\n",
      "Bytes :   8\n",
      "Nibbles :   16\n",
      "Bits per Byte :   8\n",
      "Memory Frequency 0 :   1600 MHz\n",
      "\n",
      "-----------------------------------\n",
      "\n",
      " Calibration Stages Information \n",
      "\n",
      "-----------------------------------\n",
      "\n",
      "cal_stage.01_F0_PHY_BISC :   Pass\n",
      "cal_stage.02_F0_MEM_INIT :   Pass\n",
      "cal_stage.03_F0_DQS_GATE_CAL :   Pass\n",
      "cal_stage.04_F0_WRITE_LEVELING :   Pass\n",
      "cal_stage.05_F0_READ_DQ_CAL :   Pass\n",
      "cal_stage.06_F0_WRITE_DQ_DBI_CAL :   Pass\n",
      "cal_stage.07_F0_WRITE_LATENCY_CAL :   Pass\n",
      "cal_stage.08_F0_READ_DQ_DBI_CAL_COMPLEX :   Pass\n",
      "cal_stage.09_F0_WRITE_DQ_DBI_CAL_COMPLEX :   Pass\n",
      "cal_stage.10_EN_VT_TRACK :   Pass\n",
      "cal_stage.11_READ_DQS_TRACK :   Pass\n",
      "cal_stage.12_CAL_DONE :   Pass\n",
      "\n",
      "---------------------------------------\n",
      "\n",
      " Calibration Window Margin Analysis \n",
      "\n",
      "---------------------------------------\n",
      "\n",
      "\n",
      " Frequency 0  - Read Margin - Simple Pattern - Rising Edge Clock in pS and (delay taps):\n",
      "\n",
      "Byte  0  Nibble 0  -   Left Margin:   146  ( 71 )  Center Point:   181  ( 88 )  Right Margin:   148  ( 72 )\n",
      "Byte  0  Nibble 1  -   Left Margin:   142  ( 71 )  Center Point:   176  ( 88 )  Right Margin:   144  ( 72 )\n",
      "Byte  1  Nibble 0  -   Left Margin:   142  ( 71 )  Center Point:   176  ( 88 )  Right Margin:   144  ( 72 )\n",
      "Byte  1  Nibble 1  -   Left Margin:   148  ( 75 )  Center Point:   182  ( 92 )  Right Margin:   148  ( 75 )\n",
      "Byte  2  Nibble 0  -   Left Margin:   146  ( 74 )  Center Point:   180  ( 91 )  Right Margin:   148  ( 75 )\n",
      "Byte  2  Nibble 1  -   Left Margin:   145  ( 74 )  Center Point:   178  ( 91 )  Right Margin:   146  ( 75 )\n",
      "Byte  3  Nibble 0  -   Left Margin:   142  ( 71 )  Center Point:   176  ( 88 )  Right Margin:   144  ( 72 )\n",
      "Byte  3  Nibble 1  -   Left Margin:   146  ( 71 )  Center Point:   181  ( 88 )  Right Margin:   148  ( 72 )\n",
      "Byte  4  Nibble 0  -   Left Margin:   152  ( 75 )  Center Point:   187  ( 92 )  Right Margin:   154  ( 76 )\n",
      "Byte  4  Nibble 1  -   Left Margin:   148  ( 75 )  Center Point:   182  ( 92 )  Right Margin:   150  ( 76 )\n",
      "Byte  5  Nibble 0  -   Left Margin:   142  ( 71 )  Center Point:   176  ( 88 )  Right Margin:   144  ( 72 )\n",
      "Byte  5  Nibble 1  -   Left Margin:   146  ( 73 )  Center Point:   180  ( 90 )  Right Margin:   148  ( 74 )\n",
      "Byte  6  Nibble 0  -   Left Margin:   152  ( 75 )  Center Point:   187  ( 92 )  Right Margin:   152  ( 75 )\n",
      "Byte  6  Nibble 1  -   Left Margin:   158  ( 76 )  Center Point:   194  ( 93 )  Right Margin:   158  ( 76 )\n",
      "Byte  7  Nibble 0  -   Left Margin:   144  ( 71 )  Center Point:   179  ( 88 )  Right Margin:   146  ( 72 )\n",
      "Byte  7  Nibble 1  -   Left Margin:   156  ( 76 )  Center Point:   191  ( 93 )  Right Margin:   156  ( 76 )\n",
      "\n",
      " Frequency 0  - Read Margin - Simple Pattern - Falling Edge Clock in pS and (delay taps):\n",
      "\n",
      "Byte  0  Nibble 0  -   Left Margin:   150  ( 73 )  Center Point:   204  ( 99 )  Right Margin:   150  ( 73 )\n",
      "Byte  0  Nibble 1  -   Left Margin:   140  ( 71 )  Center Point:   194  ( 98 )  Right Margin:   140  ( 71 )\n",
      "Byte  1  Nibble 0  -   Left Margin:   146  ( 73 )  Center Point:   192  ( 96 )  Right Margin:   148  ( 74 )\n",
      "Byte  1  Nibble 1  -   Left Margin:   139  ( 71 )  Center Point:   193  ( 99 )  Right Margin:   139  ( 71 )\n",
      "Byte  2  Nibble 0  -   Left Margin:   148  ( 75 )  Center Point:   194  ( 98 )  Right Margin:   150  ( 76 )\n",
      "Byte  2  Nibble 1  -   Left Margin:   146  ( 74 )  Center Point:   196  ( 99 )  Right Margin:   148  ( 75 )\n",
      "Byte  3  Nibble 0  -   Left Margin:   146  ( 73 )  Center Point:   200  ( 100 )  Right Margin:   146  ( 73 )\n",
      "Byte  3  Nibble 1  -   Left Margin:   148  ( 73 )  Center Point:   203  ( 100 )  Right Margin:   150  ( 74 )\n",
      "Byte  4  Nibble 0  -   Left Margin:   142  ( 71 )  Center Point:   188  ( 94 )  Right Margin:   142  ( 71 )\n",
      "Byte  4  Nibble 1  -   Left Margin:   140  ( 71 )  Center Point:   184  ( 93 )  Right Margin:   140  ( 71 )\n",
      "Byte  5  Nibble 0  -   Left Margin:   154  ( 75 )  Center Point:   199  ( 97 )  Right Margin:   156  ( 76 )\n",
      "Byte  5  Nibble 1  -   Left Margin:   150  ( 75 )  Center Point:   196  ( 98 )  Right Margin:   152  ( 76 )\n",
      "Byte  6  Nibble 0  -   Left Margin:   144  ( 71 )  Center Point:   197  ( 97 )  Right Margin:   144  ( 71 )\n",
      "Byte  6  Nibble 1  -   Left Margin:   150  ( 73 )  Center Point:   204  ( 99 )  Right Margin:   152  ( 74 )\n",
      "Byte  7  Nibble 0  -   Left Margin:   150  ( 74 )  Center Point:   195  ( 96 )  Right Margin:   150  ( 74 )\n",
      "Byte  7  Nibble 1  -   Left Margin:   146  ( 70 )  Center Point:   204  ( 98 )  Right Margin:   148  ( 71 )\n",
      "\n",
      " Frequency 0  - Read Margin - Complex Pattern - Rising Edge Clock in pS and (delay taps):\n",
      "\n",
      "Byte  0  Nibble 0  -   Left Margin:   136  ( 66 )  Center Point:   189  ( 92 )  Right Margin:   138  ( 67 )\n",
      "Byte  0  Nibble 1  -   Left Margin:   128  ( 64 )  Center Point:   180  ( 90 )  Right Margin:   130  ( 65 )\n",
      "Byte  1  Nibble 0  -   Left Margin:   126  ( 63 )  Center Point:   174  ( 87 )  Right Margin:   128  ( 64 )\n",
      "Byte  1  Nibble 1  -   Left Margin:   123  ( 62 )  Center Point:   178  ( 90 )  Right Margin:   123  ( 62 )\n",
      "Byte  2  Nibble 0  -   Left Margin:   127  ( 64 )  Center Point:   174  ( 88 )  Right Margin:   129  ( 65 )\n",
      "Byte  2  Nibble 1  -   Left Margin:   125  ( 64 )  Center Point:   178  ( 91 )  Right Margin:   125  ( 64 )\n",
      "Byte  3  Nibble 0  -   Left Margin:   128  ( 64 )  Center Point:   172  ( 86 )  Right Margin:   128  ( 64 )\n",
      "Byte  3  Nibble 1  -   Left Margin:   138  ( 67 )  Center Point:   183  ( 89 )  Right Margin:   138  ( 67 )\n",
      "Byte  4  Nibble 0  -   Left Margin:   118  ( 58 )  Center Point:   183  ( 90 )  Right Margin:   120  ( 59 )\n",
      "Byte  4  Nibble 1  -   Left Margin:   125  ( 63 )  Center Point:   180  ( 91 )  Right Margin:   125  ( 63 )\n",
      "Byte  5  Nibble 0  -   Left Margin:   126  ( 63 )  Center Point:   172  ( 86 )  Right Margin:   128  ( 64 )\n",
      "Byte  5  Nibble 1  -   Left Margin:   128  ( 64 )  Center Point:   178  ( 89 )  Right Margin:   130  ( 65 )\n"
     ]
    },
    {
     "name": "stdout",
     "output_type": "stream",
     "text": [
      "Byte  6  Nibble 0  -   Left Margin:   136  ( 67 )  Center Point:   181  ( 89 )  Right Margin:   136  ( 67 )\n",
      "Byte  6  Nibble 1  -   Left Margin:   138  ( 66 )  Center Point:   185  ( 89 )  Right Margin:   138  ( 66 )\n",
      "Byte  7  Nibble 0  -   Left Margin:   130  ( 64 )  Center Point:   175  ( 86 )  Right Margin:   132  ( 65 )\n",
      "Byte  7  Nibble 1  -   Left Margin:   134  ( 65 )  Center Point:   189  ( 92 )  Right Margin:   134  ( 65 )\n",
      "\n",
      " Frequency 0  - Read Margin - Complex Pattern - Falling Edge Clock in pS and (delay taps):\n",
      "\n",
      "Byte  0  Nibble 0  -   Left Margin:   123  ( 60 )  Center Point:   179  ( 87 )  Right Margin:   123  ( 60 )\n",
      "Byte  0  Nibble 1  -   Left Margin:   117  ( 59 )  Center Point:   172  ( 87 )  Right Margin:   119  ( 60 )\n",
      "Byte  1  Nibble 0  -   Left Margin:   116  ( 58 )  Center Point:   166  ( 83 )  Right Margin:   118  ( 59 )\n",
      "Byte  1  Nibble 1  -   Left Margin:   109  ( 56 )  Center Point:   166  ( 85 )  Right Margin:   111  ( 57 )\n",
      "Byte  2  Nibble 0  -   Left Margin:   121  ( 61 )  Center Point:   170  ( 86 )  Right Margin:   121  ( 61 )\n",
      "Byte  2  Nibble 1  -   Left Margin:   117  ( 59 )  Center Point:   170  ( 86 )  Right Margin:   119  ( 60 )\n",
      "Byte  3  Nibble 0  -   Left Margin:   120  ( 60 )  Center Point:   174  ( 87 )  Right Margin:   122  ( 61 )\n",
      "Byte  3  Nibble 1  -   Left Margin:   122  ( 60 )  Center Point:   177  ( 87 )  Right Margin:   122  ( 60 )\n",
      "Byte  4  Nibble 0  -   Left Margin:   114  ( 57 )  Center Point:   164  ( 82 )  Right Margin:   116  ( 58 )\n",
      "Byte  4  Nibble 1  -   Left Margin:   117  ( 59 )  Center Point:   160  ( 81 )  Right Margin:   119  ( 60 )\n",
      "Byte  5  Nibble 0  -   Left Margin:   130  ( 63 )  Center Point:   177  ( 86 )  Right Margin:   130  ( 63 )\n",
      "Byte  5  Nibble 1  -   Left Margin:   132  ( 66 )  Center Point:   182  ( 91 )  Right Margin:   132  ( 66 )\n",
      "Byte  6  Nibble 0  -   Left Margin:   122  ( 60 )  Center Point:   177  ( 87 )  Right Margin:   122  ( 60 )\n",
      "Byte  6  Nibble 1  -   Left Margin:   123  ( 60 )  Center Point:   181  ( 88 )  Right Margin:   123  ( 60 )\n",
      "Byte  7  Nibble 0  -   Left Margin:   126  ( 62 )  Center Point:   170  ( 84 )  Right Margin:   126  ( 62 )\n",
      "Byte  7  Nibble 1  -   Left Margin:   125  ( 60 )  Center Point:   190  ( 91 )  Right Margin:   127  ( 61 )\n",
      "\n",
      " Frequency 0  - Write Margin - Simple Pattern - Calibration Window in pS and (delay taps):\n",
      "\n",
      "Byte  0   -  Left Margin:   175  ( 86 )  Center Point:   444  ( 219 )  Right Margin:   120  ( 59 )\n",
      "Byte  1   -  Left Margin:   171  ( 86 )  Center Point:   578  ( 290 )  Right Margin:   127  ( 64 )\n",
      "Byte  2   -  Left Margin:   160  ( 81 )  Center Point:   69  ( 35 )  Right Margin:   136  ( 69 )\n",
      "Byte  3   -  Left Margin:   154  ( 76 )  Center Point:   179  ( 88 )  Right Margin:   146  ( 72 )\n",
      "Byte  4   -  Left Margin:   152  ( 76 )  Center Point:   529  ( 264 )  Right Margin:   144  ( 72 )\n",
      "Byte  5   -  Left Margin:   169  ( 84 )  Center Point:   570  ( 282 )  Right Margin:   125  ( 62 )\n",
      "Byte  6   -  Left Margin:   171  ( 83 )  Center Point:   584  ( 284 )  Right Margin:   132  ( 64 )\n",
      "Byte  7   -  Left Margin:   181  ( 88 )  Center Point:   613  ( 298 )  Right Margin:   113  ( 55 )\n",
      "\n",
      " Frequency 0  - Write Margin - Complex Pattern - Calibration Window in pS and (delay taps):\n",
      "\n",
      "Byte  0   -  Left Margin:   144  ( 71 )  Center Point:   444  ( 219 )  Right Margin:   134  ( 66 )\n",
      "Byte  1   -  Left Margin:   145  ( 73 )  Center Point:   578  ( 290 )  Right Margin:   121  ( 61 )\n",
      "Byte  2   -  Left Margin:   146  ( 74 )  Center Point:   69  ( 35 )  Right Margin:   115  ( 58 )\n",
      "Byte  3   -  Left Margin:   146  ( 72 )  Center Point:   179  ( 88 )  Right Margin:   124  ( 61 )\n",
      "Byte  4   -  Left Margin:   142  ( 71 )  Center Point:   529  ( 264 )  Right Margin:   120  ( 60 )\n",
      "Byte  5   -  Left Margin:   143  ( 71 )  Center Point:   570  ( 282 )  Right Margin:   131  ( 65 )\n",
      "Byte  6   -  Left Margin:   148  ( 72 )  Center Point:   584  ( 284 )  Right Margin:   132  ( 64 )\n",
      "Byte  7   -  Left Margin:   146  ( 71 )  Center Point:   613  ( 298 )  Right Margin:   136  ( 66 )\n",
      "\n",
      "NOTE: The report is being generated and saved as: test_out.txt\n",
      "Report Done.\n",
      "\n",
      "ddr_1 is NOT enabled.\n",
      "ddr_2 is NOT enabled.\n",
      "ddr_3 is NOT enabled.\n"
     ]
    }
   ],
   "source": [
    "# print(f\"Getting DDR by DDRMC Index\")\n",
    "# ddr = versal_device.get_ddr(0)\n",
    "# props = ddr.get_property_group([])\n",
    "# print(pprint.pformat(sorted(props.items()), indent=2))\n",
    "\n",
    "ddr_list = versal_device.ddrs\n",
    "\n",
    "# ** Getting individual DDR from the list and exercise properties **\n",
    "# ddr = ddr_list.at(0)\n",
    "# props = ddr.ddr_node.get_property_group([])\n",
    "# print(pprint.pformat(sorted(props.items()), indent=2))\n",
    "\n",
    "for ddr in ddr_list:\n",
    "    if ddr.is_enabled:\n",
    "        # Use Status string base API directly\n",
    "        print(ddr.name, \"is enabled.\")\n",
    "        print(\"Calibration status is: \", ddr.get_cal_status())\n",
    "\n",
    "        # Use Property Group to get dictionary base of results\n",
    "        props = ddr.ddr_node.get_property_group([\"status\"])\n",
    "        print(pprint.pformat(props, indent=2))\n",
    "\n",
    "        # Use get Cal Stages API directly to also get dictionary results\n",
    "        props = ddr.get_cal_stages()\n",
    "        print(pprint.pformat(sorted(props.items()), indent=2))\n",
    "\n",
    "        # Use a single report command to get all latest essential\n",
    "        # Status and decoded data collected as it presents\n",
    "        ddr.report()\n",
    "        # Specify True to argument 1, and name/path to argument 2\n",
    "        # to get the report output generated and saved to a file\n",
    "        ddr.report(True, \"test_out.txt\")\n",
    "        print(\"Report Done.\\n\")\n",
    "    else:\n",
    "        print(ddr.name, \"is NOT enabled.\")"
   ]
  }
 ],
 "metadata": {
  "jupytext": {
   "cell_metadata_filter": "-all",
   "main_language": "python",
   "notebook_metadata_filter": "-all",
   "text_representation": {
    "extension": ".py",
    "format_name": "percent"
   }
  },
  "kernelspec": {
   "display_name": "Python 3",
   "language": "python",
   "name": "python3"
  },
  "language_info": {
   "codemirror_mode": {
    "name": "ipython",
    "version": 3
   },
   "file_extension": ".py",
   "mimetype": "text/x-python",
   "name": "python",
   "nbconvert_exporter": "python",
   "pygments_lexer": "ipython3",
   "version": "3.8.6"
  }
 },
 "nbformat": 4,
 "nbformat_minor": 2
}
