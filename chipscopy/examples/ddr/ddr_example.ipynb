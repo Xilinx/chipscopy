{
  "cells": [
    {
      "cell_type": "markdown",
      "id": "41255979",
      "metadata": {},
      "source": [
        "<link rel=\"preconnect\" href=\"https://fonts.gstatic.com\">\n",
        "<link href=\"https://fonts.googleapis.com/css2?family=Fira+Code&display=swap\" rel=\"stylesheet\">\n",
        "\n",
        "### License\n",
        "\n",
        "<p style=\"font-family: 'Fira Code', monospace; font-size: 1.2rem\">\n",
        "Copyright (C) 2021-2022, Xilinx, Inc.<br>\n",
        "Copyright (C) 2022-2024, Advanced Micro Devices, Inc.\n",
        "<br><br>\n",
        "Licensed under the Apache License, Version 2.0 (the \"License\");<br>\n",
        "you may not use this file except in compliance with the License.<br><br>\n",
        "You may obtain a copy of the License at <a href=\"http://www.apache.org/licenses/LICENSE-2.0\"?>http://www.apache.org/licenses/LICENSE-2.0</a><br><br>\n",
        "Unless required by applicable law or agreed to in writing, software<br>\n",
        "distributed under the License is distributed on an \"AS IS\" BASIS,<br>\n",
        "WITHOUT WARRANTIES OR CONDITIONS OF ANY KIND, either express or implied.<br>\n",
        "See the License for the specific language governing permissions and<br>\n",
        "limitations under the License.<br>\n",
        "</p>\n"
      ],
      "outputs": [],
      "execution_count": null
    },
    {
      "cell_type": "markdown",
      "id": "927bd6b9",
      "metadata": {},
      "source": [
        "# ChipScoPy DDR Reporting Example\n",
        "\n",
        "\n",
        "<img src=\"../img/api_overview.png\" width=\"500\" align=\"left\">"
      ],
      "outputs": [],
      "execution_count": null
    },
    {
      "cell_type": "markdown",
      "id": "f05be94e",
      "metadata": {},
      "source": [
        "## Description\n",
        "This demo shows how to print and report DDR calibration status and report detailed information.\n",
        "\n",
        "\n",
        "## Requirements\n",
        "- Local or remote Xilinx Versal board, such as a VCK190\n",
        "- Xilinx hw_server 2023.2 installed and running\n",
        "- Xilinx cs_server 2023.2 installed and running\n",
        "- Python 3.8 or greater installed\n",
        "- ChipScoPy 2023.2 installed\n",
        "- Jupyter notebook support and extra libs needed - Please do so, using the command `pip install chipscopy[core-addons]`"
      ],
      "outputs": [],
      "execution_count": null
    },
    {
      "cell_type": "markdown",
      "id": "2b1a58a7",
      "metadata": {},
      "source": [
        "## 1 - Initialization: Imports and File Paths\n",
        "\n",
        "After this step,\n",
        "- Required functions and classes are imported\n",
        "- Paths to server(s) and files are set correctly"
      ],
      "outputs": [],
      "execution_count": null
    },
    {
      "cell_type": "code",
      "execution_count": null,
      "id": "e9ac5772",
      "metadata": {},
      "outputs": [],
      "source": [
        "import pprint\n",
        "import os\n",
        "import json\n",
        "from chipscopy import create_session, report_versions, delete_session\n",
        "from chipscopy import get_design_files"
      ]
    },
    {
      "cell_type": "code",
      "execution_count": null,
      "id": "4011ea2d",
      "metadata": {},
      "outputs": [],
      "source": [
        "# Specify locations of the running hw_server and cs_server below.\n",
        "CS_URL = os.getenv(\"CS_SERVER_URL\", \"TCP:localhost:3042\")\n",
        "HW_URL = os.getenv(\"HW_SERVER_URL\", \"TCP:localhost:3121\")\n",
        "\n",
        "# specify hw and if programming is desired\n",
        "HW_PLATFORM = os.getenv(\"HW_PLATFORM\", \"vck190\")\n",
        "PROG_DEVICE = os.getenv(\"PROG_DEVICE\", 'True').lower() in ('true', '1', 't')\n",
        "\n",
        "# The get_design_files() function tries to find the PDI and LTX files. In non-standard\n",
        "# configurations, you can put the path for PROGRAMMING_FILE and PROBES_FILE below.\n",
        "design_files = get_design_files(f\"{HW_PLATFORM}/production/chipscopy_ced\")\n",
        "\n",
        "PDI_FILE = design_files.programming_file\n",
        "LTX_FILE = design_files.probes_file\n",
        "\n",
        "print(f\"HW_URL: {HW_URL}\")\n",
        "print(f\"CS_URL: {CS_URL}\")\n",
        "print(f\"PROGRAMMING_FILE: {PDI_FILE}\")\n",
        "print(f\"PROBES_FILE:{LTX_FILE}\")"
      ]
    },
    {
      "cell_type": "markdown",
      "id": "ca167172",
      "metadata": {},
      "source": [
        "## 2 - Create a session and connect to the hw_server and cs_server\n",
        "\n",
        "The session is a container that keeps track of devices and debug cores.\n",
        "After this step,\n",
        "- Session is initialized and connected to server(s)\n",
        "- Versions are detected and reported to stdout"
      ],
      "outputs": [],
      "execution_count": null
    },
    {
      "cell_type": "code",
      "execution_count": null,
      "id": "4bcd4e27",
      "metadata": {},
      "outputs": [],
      "source": [
        "# Start of the connection\n",
        "session = create_session(cs_server_url=CS_URL, hw_server_url=HW_URL)\n",
        "report_versions(session)"
      ]
    },
    {
      "cell_type": "markdown",
      "id": "78f1f4a5",
      "metadata": {},
      "source": [
        "## 3 - Program the device with the example design\n",
        "\n",
        "After this step,\n",
        "- Device is programmed with the example programming file"
      ],
      "outputs": [],
      "execution_count": null
    },
    {
      "cell_type": "code",
      "execution_count": null,
      "id": "4a242f9a",
      "metadata": {},
      "outputs": [],
      "source": [
        "# Typical case - one device on the board - get it.\n",
        "versal_device = session.devices.filter_by(family=\"versal\").get()\n",
        "if PROG_DEVICE:\n",
        "    versal_device.program(PDI_FILE)\n",
        "else:\n",
        "    print(\"skipping programming\")"
      ]
    },
    {
      "cell_type": "markdown",
      "id": "7505cc85",
      "metadata": {},
      "source": [
        "## 4 - Discover Debug Cores\n",
        "\n",
        "Debug core discovery initializes the chipscope server debug cores. This brings debug cores in the chipscope server online.\n",
        "\n",
        "After this step,\n",
        "\n",
        "- The cs_server is initialized and ready for use"
      ],
      "outputs": [],
      "execution_count": null
    },
    {
      "cell_type": "code",
      "execution_count": null,
      "id": "10d4769e",
      "metadata": {},
      "outputs": [],
      "source": [
        "versal_device.discover_and_setup_cores()\n",
        "print(f\"Debug cores setup and ready for use.\")"
      ]
    },
    {
      "cell_type": "markdown",
      "id": "9863212e",
      "metadata": {},
      "source": [
        "## 5 - Show enabled DDRs in the device. Pick one to use"
      ],
      "outputs": [],
      "execution_count": null
    },
    {
      "cell_type": "code",
      "execution_count": null,
      "id": "dc2615b9",
      "metadata": {},
      "outputs": [],
      "source": [
        "ddr_list = versal_device.ddrs\n",
        "for ddr in ddr_list:\n",
        "    print(ddr, \"  Enabled:\", ddr.is_enabled)\n",
        "\n",
        "# Grab the first enabled DDR\n",
        "for ddr in ddr_list:\n",
        "    if ddr.is_enabled:\n",
        "        print(\"Using Enabled DDR: \", ddr)\n",
        "        break"
      ]
    },
    {
      "cell_type": "markdown",
      "id": "7230dfbd",
      "metadata": {},
      "source": [
        "## 6 - Getting the Calibration Status\n",
        "\n",
        "There are several methods available to collect memory calibration information."
      ],
      "outputs": [],
      "execution_count": null
    },
    {
      "cell_type": "markdown",
      "id": "bf46a674",
      "metadata": {},
      "source": [
        "### Method 1 - Calibration PASS/FAIL status"
      ],
      "outputs": [],
      "execution_count": null
    },
    {
      "cell_type": "code",
      "execution_count": null,
      "id": "13774cbe",
      "metadata": {},
      "outputs": [],
      "source": [
        "# Method 1 - Use Status string base API directly\n",
        "print(ddr, \"calibration status:\", ddr.get_cal_status())"
      ]
    },
    {
      "cell_type": "markdown",
      "id": "90ba902d",
      "metadata": {},
      "source": [
        "### Method 2 - Calibration from the status property group"
      ],
      "outputs": [],
      "execution_count": null
    },
    {
      "cell_type": "code",
      "execution_count": null,
      "id": "a734709e",
      "metadata": {},
      "outputs": [],
      "source": [
        "# Use Property Group to get dictionary base of results\n",
        "props = ddr.ddr_node.get_property_group([\"status\"])\n",
        "print(pprint.pformat(props, indent=2))"
      ]
    },
    {
      "cell_type": "markdown",
      "id": "1fbab64a",
      "metadata": {},
      "source": [
        "### Method 3 - Detailed calibration status for each stage"
      ],
      "outputs": [],
      "execution_count": null
    },
    {
      "cell_type": "code",
      "execution_count": null,
      "id": "6bac1adf",
      "metadata": {},
      "outputs": [],
      "source": [
        "# Use get Cal Stages API directly to also get dictionary results\n",
        "props = ddr.get_cal_stages()\n",
        "print(pprint.pformat(sorted(props.items()), indent=2))"
      ]
    },
    {
      "cell_type": "markdown",
      "id": "04d7a994",
      "metadata": {},
      "source": [
        "## 7 - Generate Full DDRMC Report\n",
        "\n",
        "The report() API call creates a full DDRMC status report to stdout or a file. This report includes memory configuration, margin analysis, calibration, and health status information."
      ],
      "outputs": [],
      "execution_count": null
    },
    {
      "cell_type": "code",
      "execution_count": null,
      "id": "6b327707",
      "metadata": {},
      "outputs": [],
      "source": [
        "# Use a single report command to get all latest essential\n",
        "# Status and decoded data collected as it presents\n",
        "ddr.report()\n",
        "# Specify True to argument 1, and name/path to argument 2\n",
        "# to get the report output generated and saved to a file\n",
        "ddr.report(True, \"test_out.txt\")\n",
        "print(\"Report Done.\\n\")"
      ]
    },
    {
      "cell_type": "markdown",
      "id": "2dc611c4",
      "metadata": {},
      "source": [
        "## 8 - Dump the complete set of internal properties as json\n",
        "\n",
        "This demonstrates how to get a Python dictionary of all the low level DDR properties. These can be converted to JSON easily for export to other tools."
      ],
      "outputs": [],
      "execution_count": null
    },
    {
      "cell_type": "code",
      "execution_count": null,
      "id": "e26c01c1",
      "metadata": {},
      "outputs": [],
      "source": [
        "props = ddr.ddr_node.get_property_group([])\n",
        "json_props = json.dumps(props, indent=4)\n",
        "print(json_props)"
      ]
    },
    {
      "cell_type": "code",
      "execution_count": null,
      "id": "14f593b0",
      "metadata": {},
      "outputs": [],
      "source": [
        "## When done with testing, close the connection\n",
        "delete_session(session)"
      ]
    }
  ],
  "metadata": {},
  "nbformat": 4,
  "nbformat_minor": 5
}
