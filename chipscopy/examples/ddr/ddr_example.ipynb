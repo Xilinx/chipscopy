{
 "cells": [
  {
   "cell_type": "markdown",
   "id": "41255979",
   "metadata": {
    "papermill": {
     "duration": 0.005071,
     "end_time": "2023-10-24T22:11:20.760599",
     "exception": false,
     "start_time": "2023-10-24T22:11:20.755528",
     "status": "completed"
    },
    "tags": []
   },
   "source": [
    "<link rel=\"preconnect\" href=\"https://fonts.gstatic.com\">\n",
    "<link href=\"https://fonts.googleapis.com/css2?family=Fira+Code&display=swap\" rel=\"stylesheet\">\n",
    "\n",
    "### License\n",
    "\n",
    "<p style=\"font-family: 'Fira Code', monospace; font-size: 1.2rem\">\n",
    "Copyright (C) 2021-2022, Xilinx, Inc.\n",
    "Copyright (C) 2022-2023, Advanced Micro Devices, Inc.\n",
    "<br><br>\n",
    "Licensed under the Apache License, Version 2.0 (the \"License\");<br>\n",
    "you may not use this file except in compliance with the License.<br><br>\n",
    "You may obtain a copy of the License at <a href=\"http://www.apache.org/licenses/LICENSE-2.0\"?>http://www.apache.org/licenses/LICENSE-2.0</a><br><br>\n",
    "Unless required by applicable law or agreed to in writing, software<br>\n",
    "distributed under the License is distributed on an \"AS IS\" BASIS,<br>\n",
    "WITHOUT WARRANTIES OR CONDITIONS OF ANY KIND, either express or implied.<br>\n",
    "See the License for the specific language governing permissions and<br>\n",
    "limitations under the License.<br>\n",
    "</p>\n"
   ]
  },
  {
   "cell_type": "markdown",
   "id": "927bd6b9",
   "metadata": {
    "papermill": {
     "duration": 0.003066,
     "end_time": "2023-10-24T22:11:20.767726",
     "exception": false,
     "start_time": "2023-10-24T22:11:20.764660",
     "status": "completed"
    },
    "tags": []
   },
   "source": [
    "# ChipScoPy DDR Reporting Example\n",
    "\n",
    "\n",
    "<img src=\"../img/api_overview.png\" width=\"500\" align=\"left\">"
   ]
  },
  {
   "cell_type": "markdown",
   "id": "f05be94e",
   "metadata": {
    "papermill": {
     "duration": 0.003112,
     "end_time": "2023-10-24T22:11:20.774432",
     "exception": false,
     "start_time": "2023-10-24T22:11:20.771320",
     "status": "completed"
    },
    "tags": []
   },
   "source": [
    "## Description\n",
    "This demo shows how to print and report DDR calibration status and report detailed information.\n",
    "\n",
    "\n",
    "## Requirements\n",
    "- Local or remote Xilinx Versal board, such as a VCK190\n",
    "- Xilinx hw_server 2023.2 installed and running\n",
    "- Xilinx cs_server 2023.2 installed and running\n",
    "- Python 3.8 or greater installed\n",
    "- ChipScoPy 2023.2 installed\n",
    "- Jupyter notebook support and extra libs needed - Please do so, using the command `pip install chipscopy[core-addons]`"
   ]
  },
  {
   "cell_type": "markdown",
   "id": "2b1a58a7",
   "metadata": {
    "papermill": {
     "duration": 0.003161,
     "end_time": "2023-10-24T22:11:20.780684",
     "exception": false,
     "start_time": "2023-10-24T22:11:20.777523",
     "status": "completed"
    },
    "tags": []
   },
   "source": [
    "## 1 - Initialization: Imports and File Paths\n",
    "\n",
    "After this step,\n",
    "- Required functions and classes are imported\n",
    "- Paths to server(s) and files are set correctly"
   ]
  },
  {
   "cell_type": "code",
   "execution_count": 1,
   "id": "e9ac5772",
   "metadata": {
    "papermill": {
     "duration": 0.88794,
     "end_time": "2023-10-24T22:11:21.671728",
     "exception": false,
     "start_time": "2023-10-24T22:11:20.783788",
     "status": "completed"
    },
    "tags": []
   },
   "outputs": [],
   "source": [
    "import pprint\n",
    "import os\n",
    "import json\n",
    "from chipscopy import create_session, report_versions\n",
    "from chipscopy import get_design_files"
   ]
  },
  {
   "cell_type": "code",
   "execution_count": 2,
   "id": "4011ea2d",
   "metadata": {
    "papermill": {
     "duration": 0.013873,
     "end_time": "2023-10-24T22:11:21.689899",
     "exception": false,
     "start_time": "2023-10-24T22:11:21.676026",
     "status": "completed"
    },
    "tags": []
   },
   "outputs": [
    {
     "name": "stdout",
     "output_type": "stream",
     "text": [
      "HW_URL: TCP:localhost:3121\n",
      "CS_URL: TCP:localhost:3042\n",
      "PROGRAMMING_FILE: C:\\wrk\\venv\\Lib\\site-packages\\chipscopy\\examples\\designs\\vck190\\production\\chipscopy_ced\\chipscopy_wrapper.pdi\n",
      "PROBES_FILE:C:\\wrk\\venv\\Lib\\site-packages\\chipscopy\\examples\\designs\\vck190\\production\\chipscopy_ced\\chipscopy_wrapper.ltx\n"
     ]
    }
   ],
   "source": [
    "# Specify locations of the running hw_server and cs_server below.\n",
    "CS_URL = os.getenv(\"CS_SERVER_URL\", \"TCP:localhost:3042\")\n",
    "HW_URL = os.getenv(\"HW_SERVER_URL\", \"TCP:localhost:3121\")\n",
    "\n",
    "# specify hw and if programming is desired\n",
    "HW_PLATFORM = os.getenv(\"HW_PLATFORM\", \"vck190\")\n",
    "PROG_DEVICE = os.getenv(\"PROG_DEVICE\", 'True').lower() in ('true', '1', 't')\n",
    "\n",
    "# The get_design_files() function tries to find the PDI and LTX files. In non-standard\n",
    "# configurations, you can put the path for PROGRAMMING_FILE and PROBES_FILE below.\n",
    "design_files = get_design_files(f\"{HW_PLATFORM}/production/chipscopy_ced\")\n",
    "\n",
    "PDI_FILE = design_files.programming_file\n",
    "LTX_FILE = design_files.probes_file\n",
    "\n",
    "print(f\"HW_URL: {HW_URL}\")\n",
    "print(f\"CS_URL: {CS_URL}\")\n",
    "print(f\"PROGRAMMING_FILE: {PDI_FILE}\")\n",
    "print(f\"PROBES_FILE:{LTX_FILE}\")"
   ]
  },
  {
   "cell_type": "markdown",
   "id": "ca167172",
   "metadata": {
    "papermill": {
     "duration": 0.003212,
     "end_time": "2023-10-24T22:11:21.696283",
     "exception": false,
     "start_time": "2023-10-24T22:11:21.693071",
     "status": "completed"
    },
    "tags": []
   },
   "source": [
    "## 2 - Create a session and connect to the hw_server and cs_server\n",
    "\n",
    "The session is a container that keeps track of devices and debug cores.\n",
    "After this step,\n",
    "- Session is initialized and connected to server(s)\n",
    "- Versions are detected and reported to stdout"
   ]
  },
  {
   "cell_type": "code",
   "execution_count": 3,
   "id": "4bcd4e27",
   "metadata": {
    "papermill": {
     "duration": 1.478947,
     "end_time": "2023-10-24T22:11:23.178309",
     "exception": false,
     "start_time": "2023-10-24T22:11:21.699362",
     "status": "completed"
    },
    "tags": []
   },
   "outputs": [
    {
     "data": {
      "text/html": [
       "<pre style=\"white-space:pre;overflow-x:auto;line-height:normal;font-family:Menlo,'DejaVu Sans Mono',consolas,'Courier New',monospace\">\n",
       "\n",
       "</pre>\n"
      ],
      "text/plain": [
       "\n",
       "\n"
      ]
     },
     "metadata": {},
     "output_type": "display_data"
    },
    {
     "data": {
      "text/html": [
       "<pre style=\"white-space:pre;overflow-x:auto;line-height:normal;font-family:Menlo,'DejaVu Sans Mono',consolas,'Courier New',monospace\"><span style=\"font-style: italic\">                      ChipScoPy Version Information                      </span>\n",
       "┌────────────────────────────┬──────────────────────────────────────────┐\n",
       "│<span style=\"font-weight: bold\">                     Entity </span>│<span style=\"font-weight: bold\"> Version                                  </span>│\n",
       "├────────────────────────────┼──────────────────────────────────────────┤\n",
       "│                  ChipScoPy │ ┌───────────┬──────────────────────┐     │\n",
       "│                            │ │<span style=\"font-weight: bold\"> Attribute </span>│<span style=\"font-weight: bold\"> Value                </span>│     │\n",
       "│                            │ ├───────────┼──────────────────────┤     │\n",
       "│                            │ │     Build │ 2023.2.1701469928    │     │\n",
       "│                            │ │ Timestamp │ Dec 01 2023-14:32:08 │     │\n",
       "│                            │ └───────────┴──────────────────────┘     │\n",
       "│                            │                                          │\n",
       "│ hw_server @ localhost:3121 │ ┌───────────┬──────────────────────────┐ │\n",
       "│                            │ │<span style=\"font-weight: bold\"> Attribute </span>│<span style=\"font-weight: bold\"> Value                    </span>│ │\n",
       "│                            │ ├───────────┼──────────────────────────┤ │\n",
       "│                            │ │    Status │ Connected                │ │\n",
       "│                            │ │     Build │ 1697249571               │ │\n",
       "│                            │ │   Version │ 2023.2                   │ │\n",
       "│                            │ │ Timestamp │ Fri Oct 13 20:12:51 2023 │ │\n",
       "│                            │ └───────────┴──────────────────────────┘ │\n",
       "│                            │                                          │\n",
       "│ cs_server @ localhost:3042 │ ┌───────────────┬──────────────────────┐ │\n",
       "│                            │ │<span style=\"font-weight: bold\">     Attribute </span>│<span style=\"font-weight: bold\"> Value                </span>│ │\n",
       "│                            │ ├───────────────┼──────────────────────┤ │\n",
       "│                            │ │        Status │ Connected            │ │\n",
       "│                            │ │         Build │ 1696910516           │ │\n",
       "│                            │ │       Version │ 2023.2.0             │ │\n",
       "│                            │ │     Timestamp │ Oct 09 2023-21:01:56 │ │\n",
       "│                            │ │       Package │ 2023.2.1696910516    │ │\n",
       "│                            │ │ Artifact type │ pyinstaller          │ │\n",
       "│                            │ └───────────────┴──────────────────────┘ │\n",
       "└────────────────────────────┴──────────────────────────────────────────┘\n",
       "</pre>\n"
      ],
      "text/plain": [
       "\u001b[3m                      ChipScoPy Version Information                      \u001b[0m\n",
       "┌────────────────────────────┬──────────────────────────────────────────┐\n",
       "│\u001b[1m \u001b[0m\u001b[1m                    Entity\u001b[0m\u001b[1m \u001b[0m│\u001b[1m \u001b[0m\u001b[1mVersion                                 \u001b[0m\u001b[1m \u001b[0m│\n",
       "├────────────────────────────┼──────────────────────────────────────────┤\n",
       "│                  ChipScoPy │ ┌───────────┬──────────────────────┐     │\n",
       "│                            │ │\u001b[1m \u001b[0m\u001b[1mAttribute\u001b[0m\u001b[1m \u001b[0m│\u001b[1m \u001b[0m\u001b[1mValue               \u001b[0m\u001b[1m \u001b[0m│     │\n",
       "│                            │ ├───────────┼──────────────────────┤     │\n",
       "│                            │ │     Build │ 2023.2.1701469928    │     │\n",
       "│                            │ │ Timestamp │ Dec 01 2023-14:32:08 │     │\n",
       "│                            │ └───────────┴──────────────────────┘     │\n",
       "│                            │                                          │\n",
       "│ hw_server @ localhost:3121 │ ┌───────────┬──────────────────────────┐ │\n",
       "│                            │ │\u001b[1m \u001b[0m\u001b[1mAttribute\u001b[0m\u001b[1m \u001b[0m│\u001b[1m \u001b[0m\u001b[1mValue                   \u001b[0m\u001b[1m \u001b[0m│ │\n",
       "│                            │ ├───────────┼──────────────────────────┤ │\n",
       "│                            │ │    Status │ Connected                │ │\n",
       "│                            │ │     Build │ 1697249571               │ │\n",
       "│                            │ │   Version │ 2023.2                   │ │\n",
       "│                            │ │ Timestamp │ Fri Oct 13 20:12:51 2023 │ │\n",
       "│                            │ └───────────┴──────────────────────────┘ │\n",
       "│                            │                                          │\n",
       "│ cs_server @ localhost:3042 │ ┌───────────────┬──────────────────────┐ │\n",
       "│                            │ │\u001b[1m \u001b[0m\u001b[1m    Attribute\u001b[0m\u001b[1m \u001b[0m│\u001b[1m \u001b[0m\u001b[1mValue               \u001b[0m\u001b[1m \u001b[0m│ │\n",
       "│                            │ ├───────────────┼──────────────────────┤ │\n",
       "│                            │ │        Status │ Connected            │ │\n",
       "│                            │ │         Build │ 1696910516           │ │\n",
       "│                            │ │       Version │ 2023.2.0             │ │\n",
       "│                            │ │     Timestamp │ Oct 09 2023-21:01:56 │ │\n",
       "│                            │ │       Package │ 2023.2.1696910516    │ │\n",
       "│                            │ │ Artifact type │ pyinstaller          │ │\n",
       "│                            │ └───────────────┴──────────────────────┘ │\n",
       "└────────────────────────────┴──────────────────────────────────────────┘\n"
      ]
     },
     "metadata": {},
     "output_type": "display_data"
    },
    {
     "data": {
      "text/html": [
       "<pre style=\"white-space:pre;overflow-x:auto;line-height:normal;font-family:Menlo,'DejaVu Sans Mono',consolas,'Courier New',monospace\">\n",
       "\n",
       "</pre>\n"
      ],
      "text/plain": [
       "\n",
       "\n"
      ]
     },
     "metadata": {},
     "output_type": "display_data"
    }
   ],
   "source": [
    "# Start of the connection\n",
    "session = create_session(cs_server_url=CS_URL, hw_server_url=HW_URL)\n",
    "report_versions(session)"
   ]
  },
  {
   "cell_type": "markdown",
   "id": "78f1f4a5",
   "metadata": {
    "papermill": {
     "duration": 0.00391,
     "end_time": "2023-10-24T22:11:23.187206",
     "exception": false,
     "start_time": "2023-10-24T22:11:23.183296",
     "status": "completed"
    },
    "tags": []
   },
   "source": [
    "## 3 - Program the device with the example design\n",
    "\n",
    "After this step,\n",
    "- Device is programmed with the example programming file"
   ]
  },
  {
   "cell_type": "code",
   "execution_count": 4,
   "id": "4a242f9a",
   "metadata": {
    "papermill": {
     "duration": 7.1657,
     "end_time": "2023-10-24T22:11:30.356921",
     "exception": false,
     "start_time": "2023-10-24T22:11:23.191221",
     "status": "completed"
    },
    "tags": []
   },
   "outputs": [
    {
     "data": {
      "text/html": [
       "<pre style=\"white-space:pre;overflow-x:auto;line-height:normal;font-family:Menlo,'DejaVu Sans Mono',consolas,'Courier New',monospace\">\n",
       "<span style=\"font-weight: bold\">--&gt; INFO: </span>Programming device with: \n",
       "C:\\wrk\\venv\\Lib\\site-packages\\chipscopy\\examples\\designs\\vck190\\production\\chipscopy_ced\\chipscopy_wrapper.pdi\n",
       "    \n",
       "</pre>\n"
      ],
      "text/plain": [
       "\n",
       "\u001b[1m--> INFO: \u001b[0mProgramming device with: \n",
       "C:\\wrk\\venv\\Lib\\site-packages\\chipscopy\\examples\\designs\\vck190\\production\\chipscopy_ced\\chipscopy_wrapper.pdi\n",
       "    \n"
      ]
     },
     "metadata": {},
     "output_type": "display_data"
    },
    {
     "data": {
      "application/vnd.jupyter.widget-view+json": {
       "model_id": "a7c32af1a31d45d7bbbeab8ae58005a5",
       "version_major": 2,
       "version_minor": 0
      },
      "text/plain": [
       "Output()"
      ]
     },
     "metadata": {},
     "output_type": "display_data"
    },
    {
     "data": {
      "text/html": [
       "<pre style=\"white-space:pre;overflow-x:auto;line-height:normal;font-family:Menlo,'DejaVu Sans Mono',consolas,'Courier New',monospace\"></pre>\n"
      ],
      "text/plain": []
     },
     "metadata": {},
     "output_type": "display_data"
    },
    {
     "data": {
      "text/html": [
       "<pre style=\"white-space:pre;overflow-x:auto;line-height:normal;font-family:Menlo,'DejaVu Sans Mono',consolas,'Courier New',monospace\">\n",
       "</pre>\n"
      ],
      "text/plain": [
       "\n"
      ]
     },
     "metadata": {},
     "output_type": "display_data"
    }
   ],
   "source": [
    "# Typical case - one device on the board - get it.\n",
    "versal_device = session.devices.filter_by(family=\"versal\").get()\n",
    "if PROG_DEVICE:\n",
    "    versal_device.program(PDI_FILE)\n",
    "else:\n",
    "    print(\"skipping programming\")"
   ]
  },
  {
   "cell_type": "markdown",
   "id": "7505cc85",
   "metadata": {
    "papermill": {
     "duration": 0.005417,
     "end_time": "2023-10-24T22:11:30.373310",
     "exception": false,
     "start_time": "2023-10-24T22:11:30.367893",
     "status": "completed"
    },
    "tags": []
   },
   "source": [
    "## 4 - Discover Debug Cores\n",
    "\n",
    "Debug core discovery initializes the chipscope server debug cores. This brings debug cores in the chipscope server online.\n",
    "\n",
    "After this step,\n",
    "\n",
    "- The cs_server is initialized and ready for use"
   ]
  },
  {
   "cell_type": "code",
   "execution_count": 5,
   "id": "10d4769e",
   "metadata": {
    "papermill": {
     "duration": 0.721316,
     "end_time": "2023-10-24T22:11:31.098920",
     "exception": false,
     "start_time": "2023-10-24T22:11:30.377604",
     "status": "completed"
    },
    "tags": []
   },
   "outputs": [
    {
     "name": "stdout",
     "output_type": "stream",
     "text": [
      "Debug cores setup and ready for use.\n"
     ]
    }
   ],
   "source": [
    "versal_device.discover_and_setup_cores()\n",
    "print(f\"Debug cores setup and ready for use.\")"
   ]
  },
  {
   "cell_type": "markdown",
   "id": "9863212e",
   "metadata": {
    "papermill": {
     "duration": 0.004889,
     "end_time": "2023-10-24T22:11:31.108680",
     "exception": false,
     "start_time": "2023-10-24T22:11:31.103791",
     "status": "completed"
    },
    "tags": []
   },
   "source": [
    "## 5 - Show enabled DDRs in the device. Pick one to use"
   ]
  },
  {
   "cell_type": "code",
   "execution_count": 6,
   "id": "dc2615b9",
   "metadata": {
    "papermill": {
     "duration": 1.47699,
     "end_time": "2023-10-24T22:11:32.589628",
     "exception": false,
     "start_time": "2023-10-24T22:11:31.112638",
     "status": "completed"
    },
    "tags": []
   },
   "outputs": [
    {
     "name": "stdout",
     "output_type": "stream",
     "text": [
      "ddr_0   Enabled: True\n",
      "ddr_1   Enabled: False\n",
      "ddr_2   Enabled: False\n",
      "ddr_3   Enabled: False\n",
      "Using Enabled DDR:  ddr_0\n"
     ]
    }
   ],
   "source": [
    "ddr_list = versal_device.ddrs\n",
    "for ddr in ddr_list:\n",
    "    print(ddr, \"  Enabled:\", ddr.is_enabled)\n",
    "\n",
    "# Grab the first enabled DDR\n",
    "for ddr in ddr_list:\n",
    "    if ddr.is_enabled:\n",
    "        print(\"Using Enabled DDR: \", ddr)\n",
    "        break"
   ]
  },
  {
   "cell_type": "markdown",
   "id": "7230dfbd",
   "metadata": {
    "papermill": {
     "duration": 0.048168,
     "end_time": "2023-10-24T22:11:32.642611",
     "exception": false,
     "start_time": "2023-10-24T22:11:32.594443",
     "status": "completed"
    },
    "tags": []
   },
   "source": [
    "## 6 - Getting the Calibration Status\n",
    "\n",
    "There are several methods available to collect memory calibration information."
   ]
  },
  {
   "cell_type": "markdown",
   "id": "bf46a674",
   "metadata": {
    "papermill": {
     "duration": 0.004165,
     "end_time": "2023-10-24T22:11:32.651150",
     "exception": false,
     "start_time": "2023-10-24T22:11:32.646985",
     "status": "completed"
    },
    "tags": []
   },
   "source": [
    "### Method 1 - Calibration PASS/FAIL status"
   ]
  },
  {
   "cell_type": "code",
   "execution_count": 7,
   "id": "13774cbe",
   "metadata": {
    "papermill": {
     "duration": 0.013922,
     "end_time": "2023-10-24T22:11:32.669144",
     "exception": false,
     "start_time": "2023-10-24T22:11:32.655222",
     "status": "completed"
    },
    "tags": []
   },
   "outputs": [
    {
     "name": "stdout",
     "output_type": "stream",
     "text": [
      "ddr_0 calibration status: PASS\n"
     ]
    }
   ],
   "source": [
    "# Method 1 - Use Status string base API directly\n",
    "print(ddr, \"calibration status:\", ddr.get_cal_status())"
   ]
  },
  {
   "cell_type": "markdown",
   "id": "90ba902d",
   "metadata": {
    "papermill": {
     "duration": 0.004166,
     "end_time": "2023-10-24T22:11:32.677540",
     "exception": false,
     "start_time": "2023-10-24T22:11:32.673374",
     "status": "completed"
    },
    "tags": []
   },
   "source": [
    "### Method 2 - Calibration from the status property group"
   ]
  },
  {
   "cell_type": "code",
   "execution_count": 8,
   "id": "a734709e",
   "metadata": {
    "papermill": {
     "duration": 0.086777,
     "end_time": "2023-10-24T22:11:32.768861",
     "exception": false,
     "start_time": "2023-10-24T22:11:32.682084",
     "status": "completed"
    },
    "tags": []
   },
   "outputs": [
    {
     "name": "stdout",
     "output_type": "stream",
     "text": [
      "{ 'cal_error_msg': 'None',\n",
      "  'cal_message': 'No errors detected during calibration.',\n",
      "  'cal_status': 'PASS',\n",
      "  'dqs_status': 'Running',\n",
      "  'health_status': 'GOOD',\n",
      "  'track_enable': 'DDRMC ISR Tracking, UB ISR Tracking, DQS Gate Tracking, '\n",
      "                  'Post-Cal Status'}\n"
     ]
    }
   ],
   "source": [
    "# Use Property Group to get dictionary base of results\n",
    "props = ddr.ddr_node.get_property_group([\"status\"])\n",
    "print(pprint.pformat(props, indent=2))"
   ]
  },
  {
   "cell_type": "markdown",
   "id": "1fbab64a",
   "metadata": {
    "papermill": {
     "duration": 0.015987,
     "end_time": "2023-10-24T22:11:32.799840",
     "exception": false,
     "start_time": "2023-10-24T22:11:32.783853",
     "status": "completed"
    },
    "tags": []
   },
   "source": [
    "### Method 3 - Detailed calibration status for each stage"
   ]
  },
  {
   "cell_type": "code",
   "execution_count": 9,
   "id": "6bac1adf",
   "metadata": {
    "papermill": {
     "duration": 0.041078,
     "end_time": "2023-10-24T22:11:32.845198",
     "exception": false,
     "start_time": "2023-10-24T22:11:32.804120",
     "status": "completed"
    },
    "tags": []
   },
   "outputs": [
    {
     "name": "stdout",
     "output_type": "stream",
     "text": [
      "[ ('cal_stage.01_F0_PHY_BISC', 'Pass'),\n",
      "  ('cal_stage.02_F0_MEM_INIT', 'Pass'),\n",
      "  ('cal_stage.03_F0_DQS_GATE_CAL', 'Pass'),\n",
      "  ('cal_stage.04_F0_WRITE_LEVELING', 'Pass'),\n",
      "  ('cal_stage.05_F0_READ_DQ_CAL', 'Pass'),\n",
      "  ('cal_stage.06_F0_WRITE_DQ_DBI_CAL', 'Pass'),\n",
      "  ('cal_stage.07_F0_WRITE_LATENCY_CAL', 'Pass'),\n",
      "  ('cal_stage.08_F0_READ_DQ_DBI_CAL_COMPLEX', 'Pass'),\n",
      "  ('cal_stage.09_F0_WRITE_DQ_DBI_CAL_COMPLEX', 'Pass'),\n",
      "  ('cal_stage.10_EN_VT_TRACK', 'Pass'),\n",
      "  ('cal_stage.11_READ_DQS_TRACK', 'Pass'),\n",
      "  ('cal_stage.12_CAL_DONE', 'Pass')]\n"
     ]
    }
   ],
   "source": [
    "# Use get Cal Stages API directly to also get dictionary results\n",
    "props = ddr.get_cal_stages()\n",
    "print(pprint.pformat(sorted(props.items()), indent=2))"
   ]
  },
  {
   "cell_type": "markdown",
   "id": "04d7a994",
   "metadata": {
    "papermill": {
     "duration": 0.004572,
     "end_time": "2023-10-24T22:11:32.855340",
     "exception": false,
     "start_time": "2023-10-24T22:11:32.850768",
     "status": "completed"
    },
    "tags": []
   },
   "source": [
    "## 7 - Generate Full DDRMC Report\n",
    "\n",
    "The report() API call creates a full DDRMC status report to stdout or a file. This report includes memory configuration, margin analysis, calibration, and health status information."
   ]
  },
  {
   "cell_type": "code",
   "execution_count": 10,
   "id": "6b327707",
   "metadata": {
    "papermill": {
     "duration": 4.546192,
     "end_time": "2023-10-24T22:11:37.406108",
     "exception": false,
     "start_time": "2023-10-24T22:11:32.859916",
     "status": "completed"
    },
    "tags": []
   },
   "outputs": [
    {
     "data": {
      "text/html": [
       "<pre style=\"white-space:pre;overflow-x:auto;line-height:normal;font-family:Menlo,'DejaVu Sans Mono',consolas,'Courier New',monospace\">-------------------\n",
       "\n",
       "</pre>\n"
      ],
      "text/plain": [
       "-------------------\n",
       "\n"
      ]
     },
     "metadata": {},
     "output_type": "display_data"
    },
    {
     "data": {
      "text/html": [
       "<pre style=\"white-space:pre;overflow-x:auto;line-height:normal;font-family:Menlo,'DejaVu Sans Mono',consolas,'Courier New',monospace\"> DDRMC Status \n",
       "\n",
       "</pre>\n"
      ],
      "text/plain": [
       " DDRMC Status \n",
       "\n"
      ]
     },
     "metadata": {},
     "output_type": "display_data"
    },
    {
     "data": {
      "text/html": [
       "<pre style=\"white-space:pre;overflow-x:auto;line-height:normal;font-family:Menlo,'DejaVu Sans Mono',consolas,'Courier New',monospace\">-------------------\n",
       "\n",
       "</pre>\n"
      ],
      "text/plain": [
       "-------------------\n",
       "\n"
      ]
     },
     "metadata": {},
     "output_type": "display_data"
    },
    {
     "data": {
      "text/html": [
       "<pre style=\"white-space:pre;overflow-x:auto;line-height:normal;font-family:Menlo,'DejaVu Sans Mono',consolas,'Courier New',monospace\">Calibration Status:   PASS \n",
       "\n",
       "</pre>\n"
      ],
      "text/plain": [
       "Calibration Status:   PASS \n",
       "\n"
      ]
     },
     "metadata": {},
     "output_type": "display_data"
    },
    {
     "data": {
      "text/html": [
       "<pre style=\"white-space:pre;overflow-x:auto;line-height:normal;font-family:Menlo,'DejaVu Sans Mono',consolas,'Courier New',monospace\">Overall Health:   GOOD \n",
       "\n",
       "</pre>\n"
      ],
      "text/plain": [
       "Overall Health:   GOOD \n",
       "\n"
      ]
     },
     "metadata": {},
     "output_type": "display_data"
    },
    {
     "data": {
      "text/html": [
       "<pre style=\"white-space:pre;overflow-x:auto;line-height:normal;font-family:Menlo,'DejaVu Sans Mono',consolas,'Courier New',monospace\">Message:   No errors detected during calibration. \n",
       "\n",
       "</pre>\n"
      ],
      "text/plain": [
       "Message:   No errors detected during calibration. \n",
       "\n"
      ]
     },
     "metadata": {},
     "output_type": "display_data"
    },
    {
     "data": {
      "text/html": [
       "<pre style=\"white-space:pre;overflow-x:auto;line-height:normal;font-family:Menlo,'DejaVu Sans Mono',consolas,'Courier New',monospace\">\n",
       "-------------------\n",
       "\n",
       "</pre>\n"
      ],
      "text/plain": [
       "\n",
       "-------------------\n",
       "\n"
      ]
     },
     "metadata": {},
     "output_type": "display_data"
    },
    {
     "data": {
      "text/html": [
       "<pre style=\"white-space:pre;overflow-x:auto;line-height:normal;font-family:Menlo,'DejaVu Sans Mono',consolas,'Courier New',monospace\"> Status Registers\n",
       "\n",
       "</pre>\n"
      ],
      "text/plain": [
       " Status Registers\n",
       "\n"
      ]
     },
     "metadata": {},
     "output_type": "display_data"
    },
    {
     "data": {
      "text/html": [
       "<pre style=\"white-space:pre;overflow-x:auto;line-height:normal;font-family:Menlo,'DejaVu Sans Mono',consolas,'Courier New',monospace\">-------------------\n",
       "\n",
       "</pre>\n"
      ],
      "text/plain": [
       "-------------------\n",
       "\n"
      ]
     },
     "metadata": {},
     "output_type": "display_data"
    },
    {
     "data": {
      "text/html": [
       "<pre style=\"white-space:pre;overflow-x:auto;line-height:normal;font-family:Menlo,'DejaVu Sans Mono',consolas,'Courier New',monospace\">DDRMC ISR Table\n",
       "\n",
       "</pre>\n"
      ],
      "text/plain": [
       "DDRMC ISR Table\n",
       "\n"
      ]
     },
     "metadata": {},
     "output_type": "display_data"
    },
    {
     "data": {
      "text/html": [
       "<pre style=\"white-space:pre;overflow-x:auto;line-height:normal;font-family:Menlo,'DejaVu Sans Mono',consolas,'Courier New',monospace\">   ddrmc_isr_ce0_ecc0 :   <span style=\"color: #008080; text-decoration-color: #008080; font-weight: bold\">0</span>\n",
       "</pre>\n"
      ],
      "text/plain": [
       "   ddrmc_isr_ce0_ecc0 :   \u001b[1;36m0\u001b[0m\n"
      ]
     },
     "metadata": {},
     "output_type": "display_data"
    },
    {
     "data": {
      "text/html": [
       "<pre style=\"white-space:pre;overflow-x:auto;line-height:normal;font-family:Menlo,'DejaVu Sans Mono',consolas,'Courier New',monospace\">   ddrmc_isr_ce0_ecc1 :   <span style=\"color: #008080; text-decoration-color: #008080; font-weight: bold\">0</span>\n",
       "</pre>\n"
      ],
      "text/plain": [
       "   ddrmc_isr_ce0_ecc1 :   \u001b[1;36m0\u001b[0m\n"
      ]
     },
     "metadata": {},
     "output_type": "display_data"
    },
    {
     "data": {
      "text/html": [
       "<pre style=\"white-space:pre;overflow-x:auto;line-height:normal;font-family:Menlo,'DejaVu Sans Mono',consolas,'Courier New',monospace\">   ddrmc_isr_ce1_ecc0 :   <span style=\"color: #008080; text-decoration-color: #008080; font-weight: bold\">0</span>\n",
       "</pre>\n"
      ],
      "text/plain": [
       "   ddrmc_isr_ce1_ecc0 :   \u001b[1;36m0\u001b[0m\n"
      ]
     },
     "metadata": {},
     "output_type": "display_data"
    },
    {
     "data": {
      "text/html": [
       "<pre style=\"white-space:pre;overflow-x:auto;line-height:normal;font-family:Menlo,'DejaVu Sans Mono',consolas,'Courier New',monospace\">   ddrmc_isr_ce1_ecc1 :   <span style=\"color: #008080; text-decoration-color: #008080; font-weight: bold\">0</span>\n",
       "</pre>\n"
      ],
      "text/plain": [
       "   ddrmc_isr_ce1_ecc1 :   \u001b[1;36m0\u001b[0m\n"
      ]
     },
     "metadata": {},
     "output_type": "display_data"
    },
    {
     "data": {
      "text/html": [
       "<pre style=\"white-space:pre;overflow-x:auto;line-height:normal;font-family:Menlo,'DejaVu Sans Mono',consolas,'Courier New',monospace\">   ddrmc_isr_ch0_data_par :   <span style=\"color: #008080; text-decoration-color: #008080; font-weight: bold\">0</span>\n",
       "</pre>\n"
      ],
      "text/plain": [
       "   ddrmc_isr_ch0_data_par :   \u001b[1;36m0\u001b[0m\n"
      ]
     },
     "metadata": {},
     "output_type": "display_data"
    },
    {
     "data": {
      "text/html": [
       "<pre style=\"white-space:pre;overflow-x:auto;line-height:normal;font-family:Menlo,'DejaVu Sans Mono',consolas,'Courier New',monospace\">   ddrmc_isr_ch1_data_par :   <span style=\"color: #008080; text-decoration-color: #008080; font-weight: bold\">0</span>\n",
       "</pre>\n"
      ],
      "text/plain": [
       "   ddrmc_isr_ch1_data_par :   \u001b[1;36m0\u001b[0m\n"
      ]
     },
     "metadata": {},
     "output_type": "display_data"
    },
    {
     "data": {
      "text/html": [
       "<pre style=\"white-space:pre;overflow-x:auto;line-height:normal;font-family:Menlo,'DejaVu Sans Mono',consolas,'Courier New',monospace\">   ddrmc_isr_dc_cmd0_fatal :   <span style=\"color: #008080; text-decoration-color: #008080; font-weight: bold\">0</span>\n",
       "</pre>\n"
      ],
      "text/plain": [
       "   ddrmc_isr_dc_cmd0_fatal :   \u001b[1;36m0\u001b[0m\n"
      ]
     },
     "metadata": {},
     "output_type": "display_data"
    },
    {
     "data": {
      "text/html": [
       "<pre style=\"white-space:pre;overflow-x:auto;line-height:normal;font-family:Menlo,'DejaVu Sans Mono',consolas,'Courier New',monospace\">   ddrmc_isr_dc_cmd1_fatal :   <span style=\"color: #008080; text-decoration-color: #008080; font-weight: bold\">0</span>\n",
       "</pre>\n"
      ],
      "text/plain": [
       "   ddrmc_isr_dc_cmd1_fatal :   \u001b[1;36m0\u001b[0m\n"
      ]
     },
     "metadata": {},
     "output_type": "display_data"
    },
    {
     "data": {
      "text/html": [
       "<pre style=\"white-space:pre;overflow-x:auto;line-height:normal;font-family:Menlo,'DejaVu Sans Mono',consolas,'Courier New',monospace\">   ddrmc_isr_dram_parity0 :   <span style=\"color: #008080; text-decoration-color: #008080; font-weight: bold\">0</span>\n",
       "</pre>\n"
      ],
      "text/plain": [
       "   ddrmc_isr_dram_parity0 :   \u001b[1;36m0\u001b[0m\n"
      ]
     },
     "metadata": {},
     "output_type": "display_data"
    },
    {
     "data": {
      "text/html": [
       "<pre style=\"white-space:pre;overflow-x:auto;line-height:normal;font-family:Menlo,'DejaVu Sans Mono',consolas,'Courier New',monospace\">   ddrmc_isr_dram_parity1 :   <span style=\"color: #008080; text-decoration-color: #008080; font-weight: bold\">0</span>\n",
       "</pre>\n"
      ],
      "text/plain": [
       "   ddrmc_isr_dram_parity1 :   \u001b[1;36m0\u001b[0m\n"
      ]
     },
     "metadata": {},
     "output_type": "display_data"
    },
    {
     "data": {
      "text/html": [
       "<pre style=\"white-space:pre;overflow-x:auto;line-height:normal;font-family:Menlo,'DejaVu Sans Mono',consolas,'Courier New',monospace\">   ddrmc_isr_dram_parity_fatal_0 :   <span style=\"color: #008080; text-decoration-color: #008080; font-weight: bold\">0</span>\n",
       "</pre>\n"
      ],
      "text/plain": [
       "   ddrmc_isr_dram_parity_fatal_0 :   \u001b[1;36m0\u001b[0m\n"
      ]
     },
     "metadata": {},
     "output_type": "display_data"
    },
    {
     "data": {
      "text/html": [
       "<pre style=\"white-space:pre;overflow-x:auto;line-height:normal;font-family:Menlo,'DejaVu Sans Mono',consolas,'Courier New',monospace\">   ddrmc_isr_dram_parity_fatal_1 :   <span style=\"color: #008080; text-decoration-color: #008080; font-weight: bold\">0</span>\n",
       "</pre>\n"
      ],
      "text/plain": [
       "   ddrmc_isr_dram_parity_fatal_1 :   \u001b[1;36m0\u001b[0m\n"
      ]
     },
     "metadata": {},
     "output_type": "display_data"
    },
    {
     "data": {
      "text/html": [
       "<pre style=\"white-space:pre;overflow-x:auto;line-height:normal;font-family:Menlo,'DejaVu Sans Mono',consolas,'Courier New',monospace\">   ddrmc_isr_na_cmd :   <span style=\"color: #008080; text-decoration-color: #008080; font-weight: bold\">0</span>\n",
       "</pre>\n"
      ],
      "text/plain": [
       "   ddrmc_isr_na_cmd :   \u001b[1;36m0\u001b[0m\n"
      ]
     },
     "metadata": {},
     "output_type": "display_data"
    },
    {
     "data": {
      "text/html": [
       "<pre style=\"white-space:pre;overflow-x:auto;line-height:normal;font-family:Menlo,'DejaVu Sans Mono',consolas,'Courier New',monospace\">   ddrmc_isr_na_cmd0 :   <span style=\"color: #008080; text-decoration-color: #008080; font-weight: bold\">0</span>\n",
       "</pre>\n"
      ],
      "text/plain": [
       "   ddrmc_isr_na_cmd0 :   \u001b[1;36m0\u001b[0m\n"
      ]
     },
     "metadata": {},
     "output_type": "display_data"
    },
    {
     "data": {
      "text/html": [
       "<pre style=\"white-space:pre;overflow-x:auto;line-height:normal;font-family:Menlo,'DejaVu Sans Mono',consolas,'Courier New',monospace\">   ddrmc_isr_na_cmd1 :   <span style=\"color: #008080; text-decoration-color: #008080; font-weight: bold\">0</span>\n",
       "</pre>\n"
      ],
      "text/plain": [
       "   ddrmc_isr_na_cmd1 :   \u001b[1;36m0\u001b[0m\n"
      ]
     },
     "metadata": {},
     "output_type": "display_data"
    },
    {
     "data": {
      "text/html": [
       "<pre style=\"white-space:pre;overflow-x:auto;line-height:normal;font-family:Menlo,'DejaVu Sans Mono',consolas,'Courier New',monospace\">   ddrmc_isr_na_cmd_fatal :   <span style=\"color: #008080; text-decoration-color: #008080; font-weight: bold\">0</span>\n",
       "</pre>\n"
      ],
      "text/plain": [
       "   ddrmc_isr_na_cmd_fatal :   \u001b[1;36m0\u001b[0m\n"
      ]
     },
     "metadata": {},
     "output_type": "display_data"
    },
    {
     "data": {
      "text/html": [
       "<pre style=\"white-space:pre;overflow-x:auto;line-height:normal;font-family:Menlo,'DejaVu Sans Mono',consolas,'Courier New',monospace\">   ddrmc_isr_nsu_0 :   <span style=\"color: #008080; text-decoration-color: #008080; font-weight: bold\">0</span>\n",
       "</pre>\n"
      ],
      "text/plain": [
       "   ddrmc_isr_nsu_0 :   \u001b[1;36m0\u001b[0m\n"
      ]
     },
     "metadata": {},
     "output_type": "display_data"
    },
    {
     "data": {
      "text/html": [
       "<pre style=\"white-space:pre;overflow-x:auto;line-height:normal;font-family:Menlo,'DejaVu Sans Mono',consolas,'Courier New',monospace\">   ddrmc_isr_nsu_1 :   <span style=\"color: #008080; text-decoration-color: #008080; font-weight: bold\">0</span>\n",
       "</pre>\n"
      ],
      "text/plain": [
       "   ddrmc_isr_nsu_1 :   \u001b[1;36m0\u001b[0m\n"
      ]
     },
     "metadata": {},
     "output_type": "display_data"
    },
    {
     "data": {
      "text/html": [
       "<pre style=\"white-space:pre;overflow-x:auto;line-height:normal;font-family:Menlo,'DejaVu Sans Mono',consolas,'Courier New',monospace\">   ddrmc_isr_nsu_2 :   <span style=\"color: #008080; text-decoration-color: #008080; font-weight: bold\">0</span>\n",
       "</pre>\n"
      ],
      "text/plain": [
       "   ddrmc_isr_nsu_2 :   \u001b[1;36m0\u001b[0m\n"
      ]
     },
     "metadata": {},
     "output_type": "display_data"
    },
    {
     "data": {
      "text/html": [
       "<pre style=\"white-space:pre;overflow-x:auto;line-height:normal;font-family:Menlo,'DejaVu Sans Mono',consolas,'Courier New',monospace\">   ddrmc_isr_nsu_3 :   <span style=\"color: #008080; text-decoration-color: #008080; font-weight: bold\">0</span>\n",
       "</pre>\n"
      ],
      "text/plain": [
       "   ddrmc_isr_nsu_3 :   \u001b[1;36m0\u001b[0m\n"
      ]
     },
     "metadata": {},
     "output_type": "display_data"
    },
    {
     "data": {
      "text/html": [
       "<pre style=\"white-space:pre;overflow-x:auto;line-height:normal;font-family:Menlo,'DejaVu Sans Mono',consolas,'Courier New',monospace\">   ddrmc_isr_nsu_fatal0 :   <span style=\"color: #008080; text-decoration-color: #008080; font-weight: bold\">0</span>\n",
       "</pre>\n"
      ],
      "text/plain": [
       "   ddrmc_isr_nsu_fatal0 :   \u001b[1;36m0\u001b[0m\n"
      ]
     },
     "metadata": {},
     "output_type": "display_data"
    },
    {
     "data": {
      "text/html": [
       "<pre style=\"white-space:pre;overflow-x:auto;line-height:normal;font-family:Menlo,'DejaVu Sans Mono',consolas,'Courier New',monospace\">   ddrmc_isr_nsu_fatal1 :   <span style=\"color: #008080; text-decoration-color: #008080; font-weight: bold\">0</span>\n",
       "</pre>\n"
      ],
      "text/plain": [
       "   ddrmc_isr_nsu_fatal1 :   \u001b[1;36m0\u001b[0m\n"
      ]
     },
     "metadata": {},
     "output_type": "display_data"
    },
    {
     "data": {
      "text/html": [
       "<pre style=\"white-space:pre;overflow-x:auto;line-height:normal;font-family:Menlo,'DejaVu Sans Mono',consolas,'Courier New',monospace\">   ddrmc_isr_nsu_fatal2 :   <span style=\"color: #008080; text-decoration-color: #008080; font-weight: bold\">0</span>\n",
       "</pre>\n"
      ],
      "text/plain": [
       "   ddrmc_isr_nsu_fatal2 :   \u001b[1;36m0\u001b[0m\n"
      ]
     },
     "metadata": {},
     "output_type": "display_data"
    },
    {
     "data": {
      "text/html": [
       "<pre style=\"white-space:pre;overflow-x:auto;line-height:normal;font-family:Menlo,'DejaVu Sans Mono',consolas,'Courier New',monospace\">   ddrmc_isr_nsu_fatal3 :   <span style=\"color: #008080; text-decoration-color: #008080; font-weight: bold\">0</span>\n",
       "</pre>\n"
      ],
      "text/plain": [
       "   ddrmc_isr_nsu_fatal3 :   \u001b[1;36m0\u001b[0m\n"
      ]
     },
     "metadata": {},
     "output_type": "display_data"
    },
    {
     "data": {
      "text/html": [
       "<pre style=\"white-space:pre;overflow-x:auto;line-height:normal;font-family:Menlo,'DejaVu Sans Mono',consolas,'Courier New',monospace\">   ddrmc_isr_uc0_ecc0 :   <span style=\"color: #008080; text-decoration-color: #008080; font-weight: bold\">0</span>\n",
       "</pre>\n"
      ],
      "text/plain": [
       "   ddrmc_isr_uc0_ecc0 :   \u001b[1;36m0\u001b[0m\n"
      ]
     },
     "metadata": {},
     "output_type": "display_data"
    },
    {
     "data": {
      "text/html": [
       "<pre style=\"white-space:pre;overflow-x:auto;line-height:normal;font-family:Menlo,'DejaVu Sans Mono',consolas,'Courier New',monospace\">   ddrmc_isr_uc0_ecc1 :   <span style=\"color: #008080; text-decoration-color: #008080; font-weight: bold\">0</span>\n",
       "</pre>\n"
      ],
      "text/plain": [
       "   ddrmc_isr_uc0_ecc1 :   \u001b[1;36m0\u001b[0m\n"
      ]
     },
     "metadata": {},
     "output_type": "display_data"
    },
    {
     "data": {
      "text/html": [
       "<pre style=\"white-space:pre;overflow-x:auto;line-height:normal;font-family:Menlo,'DejaVu Sans Mono',consolas,'Courier New',monospace\">   ddrmc_isr_uc1_ecc0 :   <span style=\"color: #008080; text-decoration-color: #008080; font-weight: bold\">0</span>\n",
       "</pre>\n"
      ],
      "text/plain": [
       "   ddrmc_isr_uc1_ecc0 :   \u001b[1;36m0\u001b[0m\n"
      ]
     },
     "metadata": {},
     "output_type": "display_data"
    },
    {
     "data": {
      "text/html": [
       "<pre style=\"white-space:pre;overflow-x:auto;line-height:normal;font-family:Menlo,'DejaVu Sans Mono',consolas,'Courier New',monospace\">   ddrmc_isr_uc1_ecc1 :   <span style=\"color: #008080; text-decoration-color: #008080; font-weight: bold\">0</span>\n",
       "</pre>\n"
      ],
      "text/plain": [
       "   ddrmc_isr_uc1_ecc1 :   \u001b[1;36m0\u001b[0m\n"
      ]
     },
     "metadata": {},
     "output_type": "display_data"
    },
    {
     "data": {
      "text/html": [
       "<pre style=\"white-space:pre;overflow-x:auto;line-height:normal;font-family:Menlo,'DejaVu Sans Mono',consolas,'Courier New',monospace\">\n",
       "UB ISR Table\n",
       "\n",
       "</pre>\n"
      ],
      "text/plain": [
       "\n",
       "UB ISR Table\n",
       "\n"
      ]
     },
     "metadata": {},
     "output_type": "display_data"
    },
    {
     "data": {
      "text/html": [
       "<pre style=\"white-space:pre;overflow-x:auto;line-height:normal;font-family:Menlo,'DejaVu Sans Mono',consolas,'Courier New',monospace\">   ub_data_ce :   <span style=\"color: #008080; text-decoration-color: #008080; font-weight: bold\">0</span>\n",
       "</pre>\n"
      ],
      "text/plain": [
       "   ub_data_ce :   \u001b[1;36m0\u001b[0m\n"
      ]
     },
     "metadata": {},
     "output_type": "display_data"
    },
    {
     "data": {
      "text/html": [
       "<pre style=\"white-space:pre;overflow-x:auto;line-height:normal;font-family:Menlo,'DejaVu Sans Mono',consolas,'Courier New',monospace\">   ub_data_ue :   <span style=\"color: #008080; text-decoration-color: #008080; font-weight: bold\">0</span>\n",
       "</pre>\n"
      ],
      "text/plain": [
       "   ub_data_ue :   \u001b[1;36m0\u001b[0m\n"
      ]
     },
     "metadata": {},
     "output_type": "display_data"
    },
    {
     "data": {
      "text/html": [
       "<pre style=\"white-space:pre;overflow-x:auto;line-height:normal;font-family:Menlo,'DejaVu Sans Mono',consolas,'Courier New',monospace\">   ub_instr_ce :   <span style=\"color: #008080; text-decoration-color: #008080; font-weight: bold\">0</span>\n",
       "</pre>\n"
      ],
      "text/plain": [
       "   ub_instr_ce :   \u001b[1;36m0\u001b[0m\n"
      ]
     },
     "metadata": {},
     "output_type": "display_data"
    },
    {
     "data": {
      "text/html": [
       "<pre style=\"white-space:pre;overflow-x:auto;line-height:normal;font-family:Menlo,'DejaVu Sans Mono',consolas,'Courier New',monospace\">   ub_isntr_ue :   <span style=\"color: #008080; text-decoration-color: #008080; font-weight: bold\">0</span>\n",
       "</pre>\n"
      ],
      "text/plain": [
       "   ub_isntr_ue :   \u001b[1;36m0\u001b[0m\n"
      ]
     },
     "metadata": {},
     "output_type": "display_data"
    },
    {
     "data": {
      "text/html": [
       "<pre style=\"white-space:pre;overflow-x:auto;line-height:normal;font-family:Menlo,'DejaVu Sans Mono',consolas,'Courier New',monospace\">   ub_isr_calerror :   <span style=\"color: #008080; text-decoration-color: #008080; font-weight: bold\">0</span>\n",
       "</pre>\n"
      ],
      "text/plain": [
       "   ub_isr_calerror :   \u001b[1;36m0\u001b[0m\n"
      ]
     },
     "metadata": {},
     "output_type": "display_data"
    },
    {
     "data": {
      "text/html": [
       "<pre style=\"white-space:pre;overflow-x:auto;line-height:normal;font-family:Menlo,'DejaVu Sans Mono',consolas,'Courier New',monospace\">   ub_isr_vt_track_err :   <span style=\"color: #008080; text-decoration-color: #008080; font-weight: bold\">0</span>\n",
       "</pre>\n"
      ],
      "text/plain": [
       "   ub_isr_vt_track_err :   \u001b[1;36m0\u001b[0m\n"
      ]
     },
     "metadata": {},
     "output_type": "display_data"
    },
    {
     "data": {
      "text/html": [
       "<pre style=\"white-space:pre;overflow-x:auto;line-height:normal;font-family:Menlo,'DejaVu Sans Mono',consolas,'Courier New',monospace\">   ub_isr_watchdog :   <span style=\"color: #008080; text-decoration-color: #008080; font-weight: bold\">0</span>\n",
       "</pre>\n"
      ],
      "text/plain": [
       "   ub_isr_watchdog :   \u001b[1;36m0\u001b[0m\n"
      ]
     },
     "metadata": {},
     "output_type": "display_data"
    },
    {
     "data": {
      "text/html": [
       "<pre style=\"white-space:pre;overflow-x:auto;line-height:normal;font-family:Menlo,'DejaVu Sans Mono',consolas,'Courier New',monospace\">   ub_ub_msg :   <span style=\"color: #008080; text-decoration-color: #008080; font-weight: bold\">0</span>\n",
       "</pre>\n"
      ],
      "text/plain": [
       "   ub_ub_msg :   \u001b[1;36m0\u001b[0m\n"
      ]
     },
     "metadata": {},
     "output_type": "display_data"
    },
    {
     "data": {
      "text/html": [
       "<pre style=\"white-space:pre;overflow-x:auto;line-height:normal;font-family:Menlo,'DejaVu Sans Mono',consolas,'Courier New',monospace\">\n",
       "----------------------------------\n",
       "\n",
       "</pre>\n"
      ],
      "text/plain": [
       "\n",
       "----------------------------------\n",
       "\n"
      ]
     },
     "metadata": {},
     "output_type": "display_data"
    },
    {
     "data": {
      "text/html": [
       "<pre style=\"white-space:pre;overflow-x:auto;line-height:normal;font-family:Menlo,'DejaVu Sans Mono',consolas,'Courier New',monospace\"> Memory Configuration \n",
       "\n",
       "</pre>\n"
      ],
      "text/plain": [
       " Memory Configuration \n",
       "\n"
      ]
     },
     "metadata": {},
     "output_type": "display_data"
    },
    {
     "data": {
      "text/html": [
       "<pre style=\"white-space:pre;overflow-x:auto;line-height:normal;font-family:Menlo,'DejaVu Sans Mono',consolas,'Courier New',monospace\">----------------------------------\n",
       "\n",
       "</pre>\n"
      ],
      "text/plain": [
       "----------------------------------\n",
       "\n"
      ]
     },
     "metadata": {},
     "output_type": "display_data"
    },
    {
     "data": {
      "text/html": [
       "<pre style=\"white-space:pre;overflow-x:auto;line-height:normal;font-family:Menlo,'DejaVu Sans Mono',consolas,'Courier New',monospace\">DDRMC Core Name :   ddr_0\n",
       "</pre>\n"
      ],
      "text/plain": [
       "DDRMC Core Name :   ddr_0\n"
      ]
     },
     "metadata": {},
     "output_type": "display_data"
    },
    {
     "data": {
      "text/html": [
       "<pre style=\"white-space:pre;overflow-x:auto;line-height:normal;font-family:Menlo,'DejaVu Sans Mono',consolas,'Courier New',monospace\">Memory Interface :   DDR4\n",
       "</pre>\n"
      ],
      "text/plain": [
       "Memory Interface :   DDR4\n"
      ]
     },
     "metadata": {},
     "output_type": "display_data"
    },
    {
     "data": {
      "text/html": [
       "<pre style=\"white-space:pre;overflow-x:auto;line-height:normal;font-family:Menlo,'DejaVu Sans Mono',consolas,'Courier New',monospace\">Device Type :   UDIMM\n",
       "</pre>\n"
      ],
      "text/plain": [
       "Device Type :   UDIMM\n"
      ]
     },
     "metadata": {},
     "output_type": "display_data"
    },
    {
     "data": {
      "text/html": [
       "<pre style=\"white-space:pre;overflow-x:auto;line-height:normal;font-family:Menlo,'DejaVu Sans Mono',consolas,'Courier New',monospace\">MC Location :   x0y0\n",
       "</pre>\n"
      ],
      "text/plain": [
       "MC Location :   x0y0\n"
      ]
     },
     "metadata": {},
     "output_type": "display_data"
    },
    {
     "data": {
      "text/html": [
       "<pre style=\"white-space:pre;overflow-x:auto;line-height:normal;font-family:Menlo,'DejaVu Sans Mono',consolas,'Courier New',monospace\">Slots :   <span style=\"color: #008080; text-decoration-color: #008080; font-weight: bold\">1</span>\n",
       "</pre>\n"
      ],
      "text/plain": [
       "Slots :   \u001b[1;36m1\u001b[0m\n"
      ]
     },
     "metadata": {},
     "output_type": "display_data"
    },
    {
     "data": {
      "text/html": [
       "<pre style=\"white-space:pre;overflow-x:auto;line-height:normal;font-family:Menlo,'DejaVu Sans Mono',consolas,'Courier New',monospace\">Ranks :   <span style=\"color: #008080; text-decoration-color: #008080; font-weight: bold\">1</span>\n",
       "</pre>\n"
      ],
      "text/plain": [
       "Ranks :   \u001b[1;36m1\u001b[0m\n"
      ]
     },
     "metadata": {},
     "output_type": "display_data"
    },
    {
     "data": {
      "text/html": [
       "<pre style=\"white-space:pre;overflow-x:auto;line-height:normal;font-family:Menlo,'DejaVu Sans Mono',consolas,'Courier New',monospace\">Data Width :   <span style=\"color: #008080; text-decoration-color: #008080; font-weight: bold\">64</span>\n",
       "</pre>\n"
      ],
      "text/plain": [
       "Data Width :   \u001b[1;36m64\u001b[0m\n"
      ]
     },
     "metadata": {},
     "output_type": "display_data"
    },
    {
     "data": {
      "text/html": [
       "<pre style=\"white-space:pre;overflow-x:auto;line-height:normal;font-family:Menlo,'DejaVu Sans Mono',consolas,'Courier New',monospace\">Bytes :   <span style=\"color: #008080; text-decoration-color: #008080; font-weight: bold\">8</span>\n",
       "</pre>\n"
      ],
      "text/plain": [
       "Bytes :   \u001b[1;36m8\u001b[0m\n"
      ]
     },
     "metadata": {},
     "output_type": "display_data"
    },
    {
     "data": {
      "text/html": [
       "<pre style=\"white-space:pre;overflow-x:auto;line-height:normal;font-family:Menlo,'DejaVu Sans Mono',consolas,'Courier New',monospace\">Nibbles :   <span style=\"color: #008080; text-decoration-color: #008080; font-weight: bold\">16</span>\n",
       "</pre>\n"
      ],
      "text/plain": [
       "Nibbles :   \u001b[1;36m16\u001b[0m\n"
      ]
     },
     "metadata": {},
     "output_type": "display_data"
    },
    {
     "data": {
      "text/html": [
       "<pre style=\"white-space:pre;overflow-x:auto;line-height:normal;font-family:Menlo,'DejaVu Sans Mono',consolas,'Courier New',monospace\">Bits per Byte :   <span style=\"color: #008080; text-decoration-color: #008080; font-weight: bold\">8</span>\n",
       "</pre>\n"
      ],
      "text/plain": [
       "Bits per Byte :   \u001b[1;36m8\u001b[0m\n"
      ]
     },
     "metadata": {},
     "output_type": "display_data"
    },
    {
     "data": {
      "text/html": [
       "<pre style=\"white-space:pre;overflow-x:auto;line-height:normal;font-family:Menlo,'DejaVu Sans Mono',consolas,'Courier New',monospace\">Memory Frequency <span style=\"color: #008080; text-decoration-color: #008080; font-weight: bold\">0</span> :   <span style=\"color: #008080; text-decoration-color: #008080; font-weight: bold\">1600</span> MHz\n",
       "</pre>\n"
      ],
      "text/plain": [
       "Memory Frequency \u001b[1;36m0\u001b[0m :   \u001b[1;36m1600\u001b[0m MHz\n"
      ]
     },
     "metadata": {},
     "output_type": "display_data"
    },
    {
     "data": {
      "text/html": [
       "<pre style=\"white-space:pre;overflow-x:auto;line-height:normal;font-family:Menlo,'DejaVu Sans Mono',consolas,'Courier New',monospace\">\n",
       "-----------------------------------\n",
       "\n",
       "</pre>\n"
      ],
      "text/plain": [
       "\n",
       "-----------------------------------\n",
       "\n"
      ]
     },
     "metadata": {},
     "output_type": "display_data"
    },
    {
     "data": {
      "text/html": [
       "<pre style=\"white-space:pre;overflow-x:auto;line-height:normal;font-family:Menlo,'DejaVu Sans Mono',consolas,'Courier New',monospace\"> Calibration Stages Information \n",
       "\n",
       "</pre>\n"
      ],
      "text/plain": [
       " Calibration Stages Information \n",
       "\n"
      ]
     },
     "metadata": {},
     "output_type": "display_data"
    },
    {
     "data": {
      "text/html": [
       "<pre style=\"white-space:pre;overflow-x:auto;line-height:normal;font-family:Menlo,'DejaVu Sans Mono',consolas,'Courier New',monospace\">-----------------------------------\n",
       "\n",
       "</pre>\n"
      ],
      "text/plain": [
       "-----------------------------------\n",
       "\n"
      ]
     },
     "metadata": {},
     "output_type": "display_data"
    },
    {
     "data": {
      "text/html": [
       "<pre style=\"white-space:pre;overflow-x:auto;line-height:normal;font-family:Menlo,'DejaVu Sans Mono',consolas,'Courier New',monospace\">cal_stage.01_F0_PHY_BISC :   Pass\n",
       "</pre>\n"
      ],
      "text/plain": [
       "cal_stage.01_F0_PHY_BISC :   Pass\n"
      ]
     },
     "metadata": {},
     "output_type": "display_data"
    },
    {
     "data": {
      "text/html": [
       "<pre style=\"white-space:pre;overflow-x:auto;line-height:normal;font-family:Menlo,'DejaVu Sans Mono',consolas,'Courier New',monospace\">cal_stage.02_F0_MEM_INIT :   Pass\n",
       "</pre>\n"
      ],
      "text/plain": [
       "cal_stage.02_F0_MEM_INIT :   Pass\n"
      ]
     },
     "metadata": {},
     "output_type": "display_data"
    },
    {
     "data": {
      "text/html": [
       "<pre style=\"white-space:pre;overflow-x:auto;line-height:normal;font-family:Menlo,'DejaVu Sans Mono',consolas,'Courier New',monospace\">cal_stage.03_F0_DQS_GATE_CAL :   Pass\n",
       "</pre>\n"
      ],
      "text/plain": [
       "cal_stage.03_F0_DQS_GATE_CAL :   Pass\n"
      ]
     },
     "metadata": {},
     "output_type": "display_data"
    },
    {
     "data": {
      "text/html": [
       "<pre style=\"white-space:pre;overflow-x:auto;line-height:normal;font-family:Menlo,'DejaVu Sans Mono',consolas,'Courier New',monospace\">cal_stage.04_F0_WRITE_LEVELING :   Pass\n",
       "</pre>\n"
      ],
      "text/plain": [
       "cal_stage.04_F0_WRITE_LEVELING :   Pass\n"
      ]
     },
     "metadata": {},
     "output_type": "display_data"
    },
    {
     "data": {
      "text/html": [
       "<pre style=\"white-space:pre;overflow-x:auto;line-height:normal;font-family:Menlo,'DejaVu Sans Mono',consolas,'Courier New',monospace\">cal_stage.05_F0_READ_DQ_CAL :   Pass\n",
       "</pre>\n"
      ],
      "text/plain": [
       "cal_stage.05_F0_READ_DQ_CAL :   Pass\n"
      ]
     },
     "metadata": {},
     "output_type": "display_data"
    },
    {
     "data": {
      "text/html": [
       "<pre style=\"white-space:pre;overflow-x:auto;line-height:normal;font-family:Menlo,'DejaVu Sans Mono',consolas,'Courier New',monospace\">cal_stage.06_F0_WRITE_DQ_DBI_CAL :   Pass\n",
       "</pre>\n"
      ],
      "text/plain": [
       "cal_stage.06_F0_WRITE_DQ_DBI_CAL :   Pass\n"
      ]
     },
     "metadata": {},
     "output_type": "display_data"
    },
    {
     "data": {
      "text/html": [
       "<pre style=\"white-space:pre;overflow-x:auto;line-height:normal;font-family:Menlo,'DejaVu Sans Mono',consolas,'Courier New',monospace\">cal_stage.07_F0_WRITE_LATENCY_CAL :   Pass\n",
       "</pre>\n"
      ],
      "text/plain": [
       "cal_stage.07_F0_WRITE_LATENCY_CAL :   Pass\n"
      ]
     },
     "metadata": {},
     "output_type": "display_data"
    },
    {
     "data": {
      "text/html": [
       "<pre style=\"white-space:pre;overflow-x:auto;line-height:normal;font-family:Menlo,'DejaVu Sans Mono',consolas,'Courier New',monospace\">cal_stage.08_F0_READ_DQ_DBI_CAL_COMPLEX :   Pass\n",
       "</pre>\n"
      ],
      "text/plain": [
       "cal_stage.08_F0_READ_DQ_DBI_CAL_COMPLEX :   Pass\n"
      ]
     },
     "metadata": {},
     "output_type": "display_data"
    },
    {
     "data": {
      "text/html": [
       "<pre style=\"white-space:pre;overflow-x:auto;line-height:normal;font-family:Menlo,'DejaVu Sans Mono',consolas,'Courier New',monospace\">cal_stage.09_F0_WRITE_DQ_DBI_CAL_COMPLEX :   Pass\n",
       "</pre>\n"
      ],
      "text/plain": [
       "cal_stage.09_F0_WRITE_DQ_DBI_CAL_COMPLEX :   Pass\n"
      ]
     },
     "metadata": {},
     "output_type": "display_data"
    },
    {
     "data": {
      "text/html": [
       "<pre style=\"white-space:pre;overflow-x:auto;line-height:normal;font-family:Menlo,'DejaVu Sans Mono',consolas,'Courier New',monospace\">cal_stage.10_EN_VT_TRACK :   Pass\n",
       "</pre>\n"
      ],
      "text/plain": [
       "cal_stage.10_EN_VT_TRACK :   Pass\n"
      ]
     },
     "metadata": {},
     "output_type": "display_data"
    },
    {
     "data": {
      "text/html": [
       "<pre style=\"white-space:pre;overflow-x:auto;line-height:normal;font-family:Menlo,'DejaVu Sans Mono',consolas,'Courier New',monospace\">cal_stage.11_READ_DQS_TRACK :   Pass\n",
       "</pre>\n"
      ],
      "text/plain": [
       "cal_stage.11_READ_DQS_TRACK :   Pass\n"
      ]
     },
     "metadata": {},
     "output_type": "display_data"
    },
    {
     "data": {
      "text/html": [
       "<pre style=\"white-space:pre;overflow-x:auto;line-height:normal;font-family:Menlo,'DejaVu Sans Mono',consolas,'Courier New',monospace\">cal_stage.12_CAL_DONE :   Pass\n",
       "</pre>\n"
      ],
      "text/plain": [
       "cal_stage.12_CAL_DONE :   Pass\n"
      ]
     },
     "metadata": {},
     "output_type": "display_data"
    },
    {
     "data": {
      "text/html": [
       "<pre style=\"white-space:pre;overflow-x:auto;line-height:normal;font-family:Menlo,'DejaVu Sans Mono',consolas,'Courier New',monospace\">\n",
       "---------------------------------------\n",
       "\n",
       "</pre>\n"
      ],
      "text/plain": [
       "\n",
       "---------------------------------------\n",
       "\n"
      ]
     },
     "metadata": {},
     "output_type": "display_data"
    },
    {
     "data": {
      "text/html": [
       "<pre style=\"white-space:pre;overflow-x:auto;line-height:normal;font-family:Menlo,'DejaVu Sans Mono',consolas,'Courier New',monospace\"> Calibration Window Margin Analysis \n",
       "\n",
       "</pre>\n"
      ],
      "text/plain": [
       " Calibration Window Margin Analysis \n",
       "\n"
      ]
     },
     "metadata": {},
     "output_type": "display_data"
    },
    {
     "data": {
      "text/html": [
       "<pre style=\"white-space:pre;overflow-x:auto;line-height:normal;font-family:Menlo,'DejaVu Sans Mono',consolas,'Courier New',monospace\">---------------------------------------\n",
       "\n",
       "</pre>\n"
      ],
      "text/plain": [
       "---------------------------------------\n",
       "\n"
      ]
     },
     "metadata": {},
     "output_type": "display_data"
    },
    {
     "data": {
      "text/html": [
       "<pre style=\"white-space:pre;overflow-x:auto;line-height:normal;font-family:Menlo,'DejaVu Sans Mono',consolas,'Courier New',monospace\">\n",
       " Frequency <span style=\"color: #008080; text-decoration-color: #008080; font-weight: bold\">0</span>  - Read Margin - Simple Pattern - Rising Edge Clock in pS and <span style=\"font-weight: bold\">(</span>delay taps<span style=\"font-weight: bold\">)</span>:\n",
       "\n",
       "</pre>\n"
      ],
      "text/plain": [
       "\n",
       " Frequency \u001b[1;36m0\u001b[0m  - Read Margin - Simple Pattern - Rising Edge Clock in pS and \u001b[1m(\u001b[0mdelay taps\u001b[1m)\u001b[0m:\n",
       "\n"
      ]
     },
     "metadata": {},
     "output_type": "display_data"
    },
    {
     "data": {
      "text/html": [
       "<pre style=\"white-space:pre;overflow-x:auto;line-height:normal;font-family:Menlo,'DejaVu Sans Mono',consolas,'Courier New',monospace\">Byte  <span style=\"color: #008080; text-decoration-color: #008080; font-weight: bold\">0</span>  Nibble <span style=\"color: #008080; text-decoration-color: #008080; font-weight: bold\">0</span>  -   Left Margin:   <span style=\"color: #008080; text-decoration-color: #008080; font-weight: bold\">142</span>  <span style=\"font-weight: bold\">(</span> <span style=\"color: #008080; text-decoration-color: #008080; font-weight: bold\">70</span> <span style=\"font-weight: bold\">)</span>  Center Point:   <span style=\"color: #008080; text-decoration-color: #008080; font-weight: bold\">177</span>  <span style=\"font-weight: bold\">(</span> <span style=\"color: #008080; text-decoration-color: #008080; font-weight: bold\">87</span> <span style=\"font-weight: bold\">)</span>  Right Margin:   <span style=\"color: #008080; text-decoration-color: #008080; font-weight: bold\">144</span>  <span style=\"font-weight: bold\">(</span> <span style=\"color: #008080; text-decoration-color: #008080; font-weight: bold\">71</span> <span style=\"font-weight: bold\">)</span>\n",
       "</pre>\n"
      ],
      "text/plain": [
       "Byte  \u001b[1;36m0\u001b[0m  Nibble \u001b[1;36m0\u001b[0m  -   Left Margin:   \u001b[1;36m142\u001b[0m  \u001b[1m(\u001b[0m \u001b[1;36m70\u001b[0m \u001b[1m)\u001b[0m  Center Point:   \u001b[1;36m177\u001b[0m  \u001b[1m(\u001b[0m \u001b[1;36m87\u001b[0m \u001b[1m)\u001b[0m  Right Margin:   \u001b[1;36m144\u001b[0m  \u001b[1m(\u001b[0m \u001b[1;36m71\u001b[0m \u001b[1m)\u001b[0m\n"
      ]
     },
     "metadata": {},
     "output_type": "display_data"
    },
    {
     "data": {
      "text/html": [
       "<pre style=\"white-space:pre;overflow-x:auto;line-height:normal;font-family:Menlo,'DejaVu Sans Mono',consolas,'Courier New',monospace\">Byte  <span style=\"color: #008080; text-decoration-color: #008080; font-weight: bold\">0</span>  Nibble <span style=\"color: #008080; text-decoration-color: #008080; font-weight: bold\">1</span>  -   Left Margin:   <span style=\"color: #008080; text-decoration-color: #008080; font-weight: bold\">143</span>  <span style=\"font-weight: bold\">(</span> <span style=\"color: #008080; text-decoration-color: #008080; font-weight: bold\">70</span> <span style=\"font-weight: bold\">)</span>  Center Point:   <span style=\"color: #008080; text-decoration-color: #008080; font-weight: bold\">179</span>  <span style=\"font-weight: bold\">(</span> <span style=\"color: #008080; text-decoration-color: #008080; font-weight: bold\">87</span> <span style=\"font-weight: bold\">)</span>  Right Margin:   <span style=\"color: #008080; text-decoration-color: #008080; font-weight: bold\">145</span>  <span style=\"font-weight: bold\">(</span> <span style=\"color: #008080; text-decoration-color: #008080; font-weight: bold\">71</span> <span style=\"font-weight: bold\">)</span>\n",
       "</pre>\n"
      ],
      "text/plain": [
       "Byte  \u001b[1;36m0\u001b[0m  Nibble \u001b[1;36m1\u001b[0m  -   Left Margin:   \u001b[1;36m143\u001b[0m  \u001b[1m(\u001b[0m \u001b[1;36m70\u001b[0m \u001b[1m)\u001b[0m  Center Point:   \u001b[1;36m179\u001b[0m  \u001b[1m(\u001b[0m \u001b[1;36m87\u001b[0m \u001b[1m)\u001b[0m  Right Margin:   \u001b[1;36m145\u001b[0m  \u001b[1m(\u001b[0m \u001b[1;36m71\u001b[0m \u001b[1m)\u001b[0m\n"
      ]
     },
     "metadata": {},
     "output_type": "display_data"
    },
    {
     "data": {
      "text/html": [
       "<pre style=\"white-space:pre;overflow-x:auto;line-height:normal;font-family:Menlo,'DejaVu Sans Mono',consolas,'Courier New',monospace\">Byte  <span style=\"color: #008080; text-decoration-color: #008080; font-weight: bold\">1</span>  Nibble <span style=\"color: #008080; text-decoration-color: #008080; font-weight: bold\">0</span>  -   Left Margin:   <span style=\"color: #008080; text-decoration-color: #008080; font-weight: bold\">146</span>  <span style=\"font-weight: bold\">(</span> <span style=\"color: #008080; text-decoration-color: #008080; font-weight: bold\">74</span> <span style=\"font-weight: bold\">)</span>  Center Point:   <span style=\"color: #008080; text-decoration-color: #008080; font-weight: bold\">180</span>  <span style=\"font-weight: bold\">(</span> <span style=\"color: #008080; text-decoration-color: #008080; font-weight: bold\">91</span> <span style=\"font-weight: bold\">)</span>  Right Margin:   <span style=\"color: #008080; text-decoration-color: #008080; font-weight: bold\">146</span>  <span style=\"font-weight: bold\">(</span> <span style=\"color: #008080; text-decoration-color: #008080; font-weight: bold\">74</span> <span style=\"font-weight: bold\">)</span>\n",
       "</pre>\n"
      ],
      "text/plain": [
       "Byte  \u001b[1;36m1\u001b[0m  Nibble \u001b[1;36m0\u001b[0m  -   Left Margin:   \u001b[1;36m146\u001b[0m  \u001b[1m(\u001b[0m \u001b[1;36m74\u001b[0m \u001b[1m)\u001b[0m  Center Point:   \u001b[1;36m180\u001b[0m  \u001b[1m(\u001b[0m \u001b[1;36m91\u001b[0m \u001b[1m)\u001b[0m  Right Margin:   \u001b[1;36m146\u001b[0m  \u001b[1m(\u001b[0m \u001b[1;36m74\u001b[0m \u001b[1m)\u001b[0m\n"
      ]
     },
     "metadata": {},
     "output_type": "display_data"
    },
    {
     "data": {
      "text/html": [
       "<pre style=\"white-space:pre;overflow-x:auto;line-height:normal;font-family:Menlo,'DejaVu Sans Mono',consolas,'Courier New',monospace\">Byte  <span style=\"color: #008080; text-decoration-color: #008080; font-weight: bold\">1</span>  Nibble <span style=\"color: #008080; text-decoration-color: #008080; font-weight: bold\">1</span>  -   Left Margin:   <span style=\"color: #008080; text-decoration-color: #008080; font-weight: bold\">146</span>  <span style=\"font-weight: bold\">(</span> <span style=\"color: #008080; text-decoration-color: #008080; font-weight: bold\">72</span> <span style=\"font-weight: bold\">)</span>  Center Point:   <span style=\"color: #008080; text-decoration-color: #008080; font-weight: bold\">181</span>  <span style=\"font-weight: bold\">(</span> <span style=\"color: #008080; text-decoration-color: #008080; font-weight: bold\">89</span> <span style=\"font-weight: bold\">)</span>  Right Margin:   <span style=\"color: #008080; text-decoration-color: #008080; font-weight: bold\">148</span>  <span style=\"font-weight: bold\">(</span> <span style=\"color: #008080; text-decoration-color: #008080; font-weight: bold\">73</span> <span style=\"font-weight: bold\">)</span>\n",
       "</pre>\n"
      ],
      "text/plain": [
       "Byte  \u001b[1;36m1\u001b[0m  Nibble \u001b[1;36m1\u001b[0m  -   Left Margin:   \u001b[1;36m146\u001b[0m  \u001b[1m(\u001b[0m \u001b[1;36m72\u001b[0m \u001b[1m)\u001b[0m  Center Point:   \u001b[1;36m181\u001b[0m  \u001b[1m(\u001b[0m \u001b[1;36m89\u001b[0m \u001b[1m)\u001b[0m  Right Margin:   \u001b[1;36m148\u001b[0m  \u001b[1m(\u001b[0m \u001b[1;36m73\u001b[0m \u001b[1m)\u001b[0m\n"
      ]
     },
     "metadata": {},
     "output_type": "display_data"
    },
    {
     "data": {
      "text/html": [
       "<pre style=\"white-space:pre;overflow-x:auto;line-height:normal;font-family:Menlo,'DejaVu Sans Mono',consolas,'Courier New',monospace\">Byte  <span style=\"color: #008080; text-decoration-color: #008080; font-weight: bold\">2</span>  Nibble <span style=\"color: #008080; text-decoration-color: #008080; font-weight: bold\">0</span>  -   Left Margin:   <span style=\"color: #008080; text-decoration-color: #008080; font-weight: bold\">154</span>  <span style=\"font-weight: bold\">(</span> <span style=\"color: #008080; text-decoration-color: #008080; font-weight: bold\">75</span> <span style=\"font-weight: bold\">)</span>  Center Point:   <span style=\"color: #008080; text-decoration-color: #008080; font-weight: bold\">189</span>  <span style=\"font-weight: bold\">(</span> <span style=\"color: #008080; text-decoration-color: #008080; font-weight: bold\">92</span> <span style=\"font-weight: bold\">)</span>  Right Margin:   <span style=\"color: #008080; text-decoration-color: #008080; font-weight: bold\">154</span>  <span style=\"font-weight: bold\">(</span> <span style=\"color: #008080; text-decoration-color: #008080; font-weight: bold\">75</span> <span style=\"font-weight: bold\">)</span>\n",
       "</pre>\n"
      ],
      "text/plain": [
       "Byte  \u001b[1;36m2\u001b[0m  Nibble \u001b[1;36m0\u001b[0m  -   Left Margin:   \u001b[1;36m154\u001b[0m  \u001b[1m(\u001b[0m \u001b[1;36m75\u001b[0m \u001b[1m)\u001b[0m  Center Point:   \u001b[1;36m189\u001b[0m  \u001b[1m(\u001b[0m \u001b[1;36m92\u001b[0m \u001b[1m)\u001b[0m  Right Margin:   \u001b[1;36m154\u001b[0m  \u001b[1m(\u001b[0m \u001b[1;36m75\u001b[0m \u001b[1m)\u001b[0m\n"
      ]
     },
     "metadata": {},
     "output_type": "display_data"
    },
    {
     "data": {
      "text/html": [
       "<pre style=\"white-space:pre;overflow-x:auto;line-height:normal;font-family:Menlo,'DejaVu Sans Mono',consolas,'Courier New',monospace\">Byte  <span style=\"color: #008080; text-decoration-color: #008080; font-weight: bold\">2</span>  Nibble <span style=\"color: #008080; text-decoration-color: #008080; font-weight: bold\">1</span>  -   Left Margin:   <span style=\"color: #008080; text-decoration-color: #008080; font-weight: bold\">156</span>  <span style=\"font-weight: bold\">(</span> <span style=\"color: #008080; text-decoration-color: #008080; font-weight: bold\">74</span> <span style=\"font-weight: bold\">)</span>  Center Point:   <span style=\"color: #008080; text-decoration-color: #008080; font-weight: bold\">192</span>  <span style=\"font-weight: bold\">(</span> <span style=\"color: #008080; text-decoration-color: #008080; font-weight: bold\">91</span> <span style=\"font-weight: bold\">)</span>  Right Margin:   <span style=\"color: #008080; text-decoration-color: #008080; font-weight: bold\">156</span>  <span style=\"font-weight: bold\">(</span> <span style=\"color: #008080; text-decoration-color: #008080; font-weight: bold\">74</span> <span style=\"font-weight: bold\">)</span>\n",
       "</pre>\n"
      ],
      "text/plain": [
       "Byte  \u001b[1;36m2\u001b[0m  Nibble \u001b[1;36m1\u001b[0m  -   Left Margin:   \u001b[1;36m156\u001b[0m  \u001b[1m(\u001b[0m \u001b[1;36m74\u001b[0m \u001b[1m)\u001b[0m  Center Point:   \u001b[1;36m192\u001b[0m  \u001b[1m(\u001b[0m \u001b[1;36m91\u001b[0m \u001b[1m)\u001b[0m  Right Margin:   \u001b[1;36m156\u001b[0m  \u001b[1m(\u001b[0m \u001b[1;36m74\u001b[0m \u001b[1m)\u001b[0m\n"
      ]
     },
     "metadata": {},
     "output_type": "display_data"
    },
    {
     "data": {
      "text/html": [
       "<pre style=\"white-space:pre;overflow-x:auto;line-height:normal;font-family:Menlo,'DejaVu Sans Mono',consolas,'Courier New',monospace\">Byte  <span style=\"color: #008080; text-decoration-color: #008080; font-weight: bold\">3</span>  Nibble <span style=\"color: #008080; text-decoration-color: #008080; font-weight: bold\">0</span>  -   Left Margin:   <span style=\"color: #008080; text-decoration-color: #008080; font-weight: bold\">152</span>  <span style=\"font-weight: bold\">(</span> <span style=\"color: #008080; text-decoration-color: #008080; font-weight: bold\">74</span> <span style=\"font-weight: bold\">)</span>  Center Point:   <span style=\"color: #008080; text-decoration-color: #008080; font-weight: bold\">187</span>  <span style=\"font-weight: bold\">(</span> <span style=\"color: #008080; text-decoration-color: #008080; font-weight: bold\">91</span> <span style=\"font-weight: bold\">)</span>  Right Margin:   <span style=\"color: #008080; text-decoration-color: #008080; font-weight: bold\">152</span>  <span style=\"font-weight: bold\">(</span> <span style=\"color: #008080; text-decoration-color: #008080; font-weight: bold\">74</span> <span style=\"font-weight: bold\">)</span>\n",
       "</pre>\n"
      ],
      "text/plain": [
       "Byte  \u001b[1;36m3\u001b[0m  Nibble \u001b[1;36m0\u001b[0m  -   Left Margin:   \u001b[1;36m152\u001b[0m  \u001b[1m(\u001b[0m \u001b[1;36m74\u001b[0m \u001b[1m)\u001b[0m  Center Point:   \u001b[1;36m187\u001b[0m  \u001b[1m(\u001b[0m \u001b[1;36m91\u001b[0m \u001b[1m)\u001b[0m  Right Margin:   \u001b[1;36m152\u001b[0m  \u001b[1m(\u001b[0m \u001b[1;36m74\u001b[0m \u001b[1m)\u001b[0m\n"
      ]
     },
     "metadata": {},
     "output_type": "display_data"
    },
    {
     "data": {
      "text/html": [
       "<pre style=\"white-space:pre;overflow-x:auto;line-height:normal;font-family:Menlo,'DejaVu Sans Mono',consolas,'Courier New',monospace\">Byte  <span style=\"color: #008080; text-decoration-color: #008080; font-weight: bold\">3</span>  Nibble <span style=\"color: #008080; text-decoration-color: #008080; font-weight: bold\">1</span>  -   Left Margin:   <span style=\"color: #008080; text-decoration-color: #008080; font-weight: bold\">154</span>  <span style=\"font-weight: bold\">(</span> <span style=\"color: #008080; text-decoration-color: #008080; font-weight: bold\">75</span> <span style=\"font-weight: bold\">)</span>  Center Point:   <span style=\"color: #008080; text-decoration-color: #008080; font-weight: bold\">189</span>  <span style=\"font-weight: bold\">(</span> <span style=\"color: #008080; text-decoration-color: #008080; font-weight: bold\">92</span> <span style=\"font-weight: bold\">)</span>  Right Margin:   <span style=\"color: #008080; text-decoration-color: #008080; font-weight: bold\">154</span>  <span style=\"font-weight: bold\">(</span> <span style=\"color: #008080; text-decoration-color: #008080; font-weight: bold\">75</span> <span style=\"font-weight: bold\">)</span>\n",
       "</pre>\n"
      ],
      "text/plain": [
       "Byte  \u001b[1;36m3\u001b[0m  Nibble \u001b[1;36m1\u001b[0m  -   Left Margin:   \u001b[1;36m154\u001b[0m  \u001b[1m(\u001b[0m \u001b[1;36m75\u001b[0m \u001b[1m)\u001b[0m  Center Point:   \u001b[1;36m189\u001b[0m  \u001b[1m(\u001b[0m \u001b[1;36m92\u001b[0m \u001b[1m)\u001b[0m  Right Margin:   \u001b[1;36m154\u001b[0m  \u001b[1m(\u001b[0m \u001b[1;36m75\u001b[0m \u001b[1m)\u001b[0m\n"
      ]
     },
     "metadata": {},
     "output_type": "display_data"
    },
    {
     "data": {
      "text/html": [
       "<pre style=\"white-space:pre;overflow-x:auto;line-height:normal;font-family:Menlo,'DejaVu Sans Mono',consolas,'Courier New',monospace\">Byte  <span style=\"color: #008080; text-decoration-color: #008080; font-weight: bold\">4</span>  Nibble <span style=\"color: #008080; text-decoration-color: #008080; font-weight: bold\">0</span>  -   Left Margin:   <span style=\"color: #008080; text-decoration-color: #008080; font-weight: bold\">148</span>  <span style=\"font-weight: bold\">(</span> <span style=\"color: #008080; text-decoration-color: #008080; font-weight: bold\">73</span> <span style=\"font-weight: bold\">)</span>  Center Point:   <span style=\"color: #008080; text-decoration-color: #008080; font-weight: bold\">183</span>  <span style=\"font-weight: bold\">(</span> <span style=\"color: #008080; text-decoration-color: #008080; font-weight: bold\">90</span> <span style=\"font-weight: bold\">)</span>  Right Margin:   <span style=\"color: #008080; text-decoration-color: #008080; font-weight: bold\">150</span>  <span style=\"font-weight: bold\">(</span> <span style=\"color: #008080; text-decoration-color: #008080; font-weight: bold\">74</span> <span style=\"font-weight: bold\">)</span>\n",
       "</pre>\n"
      ],
      "text/plain": [
       "Byte  \u001b[1;36m4\u001b[0m  Nibble \u001b[1;36m0\u001b[0m  -   Left Margin:   \u001b[1;36m148\u001b[0m  \u001b[1m(\u001b[0m \u001b[1;36m73\u001b[0m \u001b[1m)\u001b[0m  Center Point:   \u001b[1;36m183\u001b[0m  \u001b[1m(\u001b[0m \u001b[1;36m90\u001b[0m \u001b[1m)\u001b[0m  Right Margin:   \u001b[1;36m150\u001b[0m  \u001b[1m(\u001b[0m \u001b[1;36m74\u001b[0m \u001b[1m)\u001b[0m\n"
      ]
     },
     "metadata": {},
     "output_type": "display_data"
    },
    {
     "data": {
      "text/html": [
       "<pre style=\"white-space:pre;overflow-x:auto;line-height:normal;font-family:Menlo,'DejaVu Sans Mono',consolas,'Courier New',monospace\">Byte  <span style=\"color: #008080; text-decoration-color: #008080; font-weight: bold\">4</span>  Nibble <span style=\"color: #008080; text-decoration-color: #008080; font-weight: bold\">1</span>  -   Left Margin:   <span style=\"color: #008080; text-decoration-color: #008080; font-weight: bold\">150</span>  <span style=\"font-weight: bold\">(</span> <span style=\"color: #008080; text-decoration-color: #008080; font-weight: bold\">74</span> <span style=\"font-weight: bold\">)</span>  Center Point:   <span style=\"color: #008080; text-decoration-color: #008080; font-weight: bold\">185</span>  <span style=\"font-weight: bold\">(</span> <span style=\"color: #008080; text-decoration-color: #008080; font-weight: bold\">91</span> <span style=\"font-weight: bold\">)</span>  Right Margin:   <span style=\"color: #008080; text-decoration-color: #008080; font-weight: bold\">150</span>  <span style=\"font-weight: bold\">(</span> <span style=\"color: #008080; text-decoration-color: #008080; font-weight: bold\">74</span> <span style=\"font-weight: bold\">)</span>\n",
       "</pre>\n"
      ],
      "text/plain": [
       "Byte  \u001b[1;36m4\u001b[0m  Nibble \u001b[1;36m1\u001b[0m  -   Left Margin:   \u001b[1;36m150\u001b[0m  \u001b[1m(\u001b[0m \u001b[1;36m74\u001b[0m \u001b[1m)\u001b[0m  Center Point:   \u001b[1;36m185\u001b[0m  \u001b[1m(\u001b[0m \u001b[1;36m91\u001b[0m \u001b[1m)\u001b[0m  Right Margin:   \u001b[1;36m150\u001b[0m  \u001b[1m(\u001b[0m \u001b[1;36m74\u001b[0m \u001b[1m)\u001b[0m\n"
      ]
     },
     "metadata": {},
     "output_type": "display_data"
    },
    {
     "data": {
      "text/html": [
       "<pre style=\"white-space:pre;overflow-x:auto;line-height:normal;font-family:Menlo,'DejaVu Sans Mono',consolas,'Courier New',monospace\">Byte  <span style=\"color: #008080; text-decoration-color: #008080; font-weight: bold\">5</span>  Nibble <span style=\"color: #008080; text-decoration-color: #008080; font-weight: bold\">0</span>  -   Left Margin:   <span style=\"color: #008080; text-decoration-color: #008080; font-weight: bold\">154</span>  <span style=\"font-weight: bold\">(</span> <span style=\"color: #008080; text-decoration-color: #008080; font-weight: bold\">75</span> <span style=\"font-weight: bold\">)</span>  Center Point:   <span style=\"color: #008080; text-decoration-color: #008080; font-weight: bold\">189</span>  <span style=\"font-weight: bold\">(</span> <span style=\"color: #008080; text-decoration-color: #008080; font-weight: bold\">92</span> <span style=\"font-weight: bold\">)</span>  Right Margin:   <span style=\"color: #008080; text-decoration-color: #008080; font-weight: bold\">156</span>  <span style=\"font-weight: bold\">(</span> <span style=\"color: #008080; text-decoration-color: #008080; font-weight: bold\">76</span> <span style=\"font-weight: bold\">)</span>\n",
       "</pre>\n"
      ],
      "text/plain": [
       "Byte  \u001b[1;36m5\u001b[0m  Nibble \u001b[1;36m0\u001b[0m  -   Left Margin:   \u001b[1;36m154\u001b[0m  \u001b[1m(\u001b[0m \u001b[1;36m75\u001b[0m \u001b[1m)\u001b[0m  Center Point:   \u001b[1;36m189\u001b[0m  \u001b[1m(\u001b[0m \u001b[1;36m92\u001b[0m \u001b[1m)\u001b[0m  Right Margin:   \u001b[1;36m156\u001b[0m  \u001b[1m(\u001b[0m \u001b[1;36m76\u001b[0m \u001b[1m)\u001b[0m\n"
      ]
     },
     "metadata": {},
     "output_type": "display_data"
    },
    {
     "data": {
      "text/html": [
       "<pre style=\"white-space:pre;overflow-x:auto;line-height:normal;font-family:Menlo,'DejaVu Sans Mono',consolas,'Courier New',monospace\">Byte  <span style=\"color: #008080; text-decoration-color: #008080; font-weight: bold\">5</span>  Nibble <span style=\"color: #008080; text-decoration-color: #008080; font-weight: bold\">1</span>  -   Left Margin:   <span style=\"color: #008080; text-decoration-color: #008080; font-weight: bold\">156</span>  <span style=\"font-weight: bold\">(</span> <span style=\"color: #008080; text-decoration-color: #008080; font-weight: bold\">75</span> <span style=\"font-weight: bold\">)</span>  Center Point:   <span style=\"color: #008080; text-decoration-color: #008080; font-weight: bold\">192</span>  <span style=\"font-weight: bold\">(</span> <span style=\"color: #008080; text-decoration-color: #008080; font-weight: bold\">92</span> <span style=\"font-weight: bold\">)</span>  Right Margin:   <span style=\"color: #008080; text-decoration-color: #008080; font-weight: bold\">158</span>  <span style=\"font-weight: bold\">(</span> <span style=\"color: #008080; text-decoration-color: #008080; font-weight: bold\">76</span> <span style=\"font-weight: bold\">)</span>\n",
       "</pre>\n"
      ],
      "text/plain": [
       "Byte  \u001b[1;36m5\u001b[0m  Nibble \u001b[1;36m1\u001b[0m  -   Left Margin:   \u001b[1;36m156\u001b[0m  \u001b[1m(\u001b[0m \u001b[1;36m75\u001b[0m \u001b[1m)\u001b[0m  Center Point:   \u001b[1;36m192\u001b[0m  \u001b[1m(\u001b[0m \u001b[1;36m92\u001b[0m \u001b[1m)\u001b[0m  Right Margin:   \u001b[1;36m158\u001b[0m  \u001b[1m(\u001b[0m \u001b[1;36m76\u001b[0m \u001b[1m)\u001b[0m\n"
      ]
     },
     "metadata": {},
     "output_type": "display_data"
    },
    {
     "data": {
      "text/html": [
       "<pre style=\"white-space:pre;overflow-x:auto;line-height:normal;font-family:Menlo,'DejaVu Sans Mono',consolas,'Courier New',monospace\">Byte  <span style=\"color: #008080; text-decoration-color: #008080; font-weight: bold\">6</span>  Nibble <span style=\"color: #008080; text-decoration-color: #008080; font-weight: bold\">0</span>  -   Left Margin:   <span style=\"color: #008080; text-decoration-color: #008080; font-weight: bold\">150</span>  <span style=\"font-weight: bold\">(</span> <span style=\"color: #008080; text-decoration-color: #008080; font-weight: bold\">72</span> <span style=\"font-weight: bold\">)</span>  Center Point:   <span style=\"color: #008080; text-decoration-color: #008080; font-weight: bold\">185</span>  <span style=\"font-weight: bold\">(</span> <span style=\"color: #008080; text-decoration-color: #008080; font-weight: bold\">89</span> <span style=\"font-weight: bold\">)</span>  Right Margin:   <span style=\"color: #008080; text-decoration-color: #008080; font-weight: bold\">152</span>  <span style=\"font-weight: bold\">(</span> <span style=\"color: #008080; text-decoration-color: #008080; font-weight: bold\">73</span> <span style=\"font-weight: bold\">)</span>\n",
       "</pre>\n"
      ],
      "text/plain": [
       "Byte  \u001b[1;36m6\u001b[0m  Nibble \u001b[1;36m0\u001b[0m  -   Left Margin:   \u001b[1;36m150\u001b[0m  \u001b[1m(\u001b[0m \u001b[1;36m72\u001b[0m \u001b[1m)\u001b[0m  Center Point:   \u001b[1;36m185\u001b[0m  \u001b[1m(\u001b[0m \u001b[1;36m89\u001b[0m \u001b[1m)\u001b[0m  Right Margin:   \u001b[1;36m152\u001b[0m  \u001b[1m(\u001b[0m \u001b[1;36m73\u001b[0m \u001b[1m)\u001b[0m\n"
      ]
     },
     "metadata": {},
     "output_type": "display_data"
    },
    {
     "data": {
      "text/html": [
       "<pre style=\"white-space:pre;overflow-x:auto;line-height:normal;font-family:Menlo,'DejaVu Sans Mono',consolas,'Courier New',monospace\">Byte  <span style=\"color: #008080; text-decoration-color: #008080; font-weight: bold\">6</span>  Nibble <span style=\"color: #008080; text-decoration-color: #008080; font-weight: bold\">1</span>  -   Left Margin:   <span style=\"color: #008080; text-decoration-color: #008080; font-weight: bold\">154</span>  <span style=\"font-weight: bold\">(</span> <span style=\"color: #008080; text-decoration-color: #008080; font-weight: bold\">75</span> <span style=\"font-weight: bold\">)</span>  Center Point:   <span style=\"color: #008080; text-decoration-color: #008080; font-weight: bold\">189</span>  <span style=\"font-weight: bold\">(</span> <span style=\"color: #008080; text-decoration-color: #008080; font-weight: bold\">92</span> <span style=\"font-weight: bold\">)</span>  Right Margin:   <span style=\"color: #008080; text-decoration-color: #008080; font-weight: bold\">154</span>  <span style=\"font-weight: bold\">(</span> <span style=\"color: #008080; text-decoration-color: #008080; font-weight: bold\">75</span> <span style=\"font-weight: bold\">)</span>\n",
       "</pre>\n"
      ],
      "text/plain": [
       "Byte  \u001b[1;36m6\u001b[0m  Nibble \u001b[1;36m1\u001b[0m  -   Left Margin:   \u001b[1;36m154\u001b[0m  \u001b[1m(\u001b[0m \u001b[1;36m75\u001b[0m \u001b[1m)\u001b[0m  Center Point:   \u001b[1;36m189\u001b[0m  \u001b[1m(\u001b[0m \u001b[1;36m92\u001b[0m \u001b[1m)\u001b[0m  Right Margin:   \u001b[1;36m154\u001b[0m  \u001b[1m(\u001b[0m \u001b[1;36m75\u001b[0m \u001b[1m)\u001b[0m\n"
      ]
     },
     "metadata": {},
     "output_type": "display_data"
    },
    {
     "data": {
      "text/html": [
       "<pre style=\"white-space:pre;overflow-x:auto;line-height:normal;font-family:Menlo,'DejaVu Sans Mono',consolas,'Courier New',monospace\">Byte  <span style=\"color: #008080; text-decoration-color: #008080; font-weight: bold\">7</span>  Nibble <span style=\"color: #008080; text-decoration-color: #008080; font-weight: bold\">0</span>  -   Left Margin:   <span style=\"color: #008080; text-decoration-color: #008080; font-weight: bold\">150</span>  <span style=\"font-weight: bold\">(</span> <span style=\"color: #008080; text-decoration-color: #008080; font-weight: bold\">73</span> <span style=\"font-weight: bold\">)</span>  Center Point:   <span style=\"color: #008080; text-decoration-color: #008080; font-weight: bold\">185</span>  <span style=\"font-weight: bold\">(</span> <span style=\"color: #008080; text-decoration-color: #008080; font-weight: bold\">90</span> <span style=\"font-weight: bold\">)</span>  Right Margin:   <span style=\"color: #008080; text-decoration-color: #008080; font-weight: bold\">152</span>  <span style=\"font-weight: bold\">(</span> <span style=\"color: #008080; text-decoration-color: #008080; font-weight: bold\">74</span> <span style=\"font-weight: bold\">)</span>\n",
       "</pre>\n"
      ],
      "text/plain": [
       "Byte  \u001b[1;36m7\u001b[0m  Nibble \u001b[1;36m0\u001b[0m  -   Left Margin:   \u001b[1;36m150\u001b[0m  \u001b[1m(\u001b[0m \u001b[1;36m73\u001b[0m \u001b[1m)\u001b[0m  Center Point:   \u001b[1;36m185\u001b[0m  \u001b[1m(\u001b[0m \u001b[1;36m90\u001b[0m \u001b[1m)\u001b[0m  Right Margin:   \u001b[1;36m152\u001b[0m  \u001b[1m(\u001b[0m \u001b[1;36m74\u001b[0m \u001b[1m)\u001b[0m\n"
      ]
     },
     "metadata": {},
     "output_type": "display_data"
    },
    {
     "data": {
      "text/html": [
       "<pre style=\"white-space:pre;overflow-x:auto;line-height:normal;font-family:Menlo,'DejaVu Sans Mono',consolas,'Courier New',monospace\">Byte  <span style=\"color: #008080; text-decoration-color: #008080; font-weight: bold\">7</span>  Nibble <span style=\"color: #008080; text-decoration-color: #008080; font-weight: bold\">1</span>  -   Left Margin:   <span style=\"color: #008080; text-decoration-color: #008080; font-weight: bold\">143</span>  <span style=\"font-weight: bold\">(</span> <span style=\"color: #008080; text-decoration-color: #008080; font-weight: bold\">70</span> <span style=\"font-weight: bold\">)</span>  Center Point:   <span style=\"color: #008080; text-decoration-color: #008080; font-weight: bold\">179</span>  <span style=\"font-weight: bold\">(</span> <span style=\"color: #008080; text-decoration-color: #008080; font-weight: bold\">87</span> <span style=\"font-weight: bold\">)</span>  Right Margin:   <span style=\"color: #008080; text-decoration-color: #008080; font-weight: bold\">145</span>  <span style=\"font-weight: bold\">(</span> <span style=\"color: #008080; text-decoration-color: #008080; font-weight: bold\">71</span> <span style=\"font-weight: bold\">)</span>\n",
       "</pre>\n"
      ],
      "text/plain": [
       "Byte  \u001b[1;36m7\u001b[0m  Nibble \u001b[1;36m1\u001b[0m  -   Left Margin:   \u001b[1;36m143\u001b[0m  \u001b[1m(\u001b[0m \u001b[1;36m70\u001b[0m \u001b[1m)\u001b[0m  Center Point:   \u001b[1;36m179\u001b[0m  \u001b[1m(\u001b[0m \u001b[1;36m87\u001b[0m \u001b[1m)\u001b[0m  Right Margin:   \u001b[1;36m145\u001b[0m  \u001b[1m(\u001b[0m \u001b[1;36m71\u001b[0m \u001b[1m)\u001b[0m\n"
      ]
     },
     "metadata": {},
     "output_type": "display_data"
    },
    {
     "data": {
      "text/html": [
       "<pre style=\"white-space:pre;overflow-x:auto;line-height:normal;font-family:Menlo,'DejaVu Sans Mono',consolas,'Courier New',monospace\">\n",
       " Frequency <span style=\"color: #008080; text-decoration-color: #008080; font-weight: bold\">0</span>  - Read Margin - Simple Pattern - Falling Edge Clock in pS and <span style=\"font-weight: bold\">(</span>delay taps<span style=\"font-weight: bold\">)</span>:\n",
       "\n",
       "</pre>\n"
      ],
      "text/plain": [
       "\n",
       " Frequency \u001b[1;36m0\u001b[0m  - Read Margin - Simple Pattern - Falling Edge Clock in pS and \u001b[1m(\u001b[0mdelay taps\u001b[1m)\u001b[0m:\n",
       "\n"
      ]
     },
     "metadata": {},
     "output_type": "display_data"
    },
    {
     "data": {
      "text/html": [
       "<pre style=\"white-space:pre;overflow-x:auto;line-height:normal;font-family:Menlo,'DejaVu Sans Mono',consolas,'Courier New',monospace\">Byte  <span style=\"color: #008080; text-decoration-color: #008080; font-weight: bold\">0</span>  Nibble <span style=\"color: #008080; text-decoration-color: #008080; font-weight: bold\">0</span>  -   Left Margin:   <span style=\"color: #008080; text-decoration-color: #008080; font-weight: bold\">152</span>  <span style=\"font-weight: bold\">(</span> <span style=\"color: #008080; text-decoration-color: #008080; font-weight: bold\">74</span> <span style=\"font-weight: bold\">)</span>  Center Point:   <span style=\"color: #008080; text-decoration-color: #008080; font-weight: bold\">199</span>  <span style=\"font-weight: bold\">(</span> <span style=\"color: #008080; text-decoration-color: #008080; font-weight: bold\">97</span> <span style=\"font-weight: bold\">)</span>  Right Margin:   <span style=\"color: #008080; text-decoration-color: #008080; font-weight: bold\">152</span>  <span style=\"font-weight: bold\">(</span> <span style=\"color: #008080; text-decoration-color: #008080; font-weight: bold\">74</span> <span style=\"font-weight: bold\">)</span>\n",
       "</pre>\n"
      ],
      "text/plain": [
       "Byte  \u001b[1;36m0\u001b[0m  Nibble \u001b[1;36m0\u001b[0m  -   Left Margin:   \u001b[1;36m152\u001b[0m  \u001b[1m(\u001b[0m \u001b[1;36m74\u001b[0m \u001b[1m)\u001b[0m  Center Point:   \u001b[1;36m199\u001b[0m  \u001b[1m(\u001b[0m \u001b[1;36m97\u001b[0m \u001b[1m)\u001b[0m  Right Margin:   \u001b[1;36m152\u001b[0m  \u001b[1m(\u001b[0m \u001b[1;36m74\u001b[0m \u001b[1m)\u001b[0m\n"
      ]
     },
     "metadata": {},
     "output_type": "display_data"
    },
    {
     "data": {
      "text/html": [
       "<pre style=\"white-space:pre;overflow-x:auto;line-height:normal;font-family:Menlo,'DejaVu Sans Mono',consolas,'Courier New',monospace\">Byte  <span style=\"color: #008080; text-decoration-color: #008080; font-weight: bold\">0</span>  Nibble <span style=\"color: #008080; text-decoration-color: #008080; font-weight: bold\">1</span>  -   Left Margin:   <span style=\"color: #008080; text-decoration-color: #008080; font-weight: bold\">154</span>  <span style=\"font-weight: bold\">(</span> <span style=\"color: #008080; text-decoration-color: #008080; font-weight: bold\">73</span> <span style=\"font-weight: bold\">)</span>  Center Point:   <span style=\"color: #008080; text-decoration-color: #008080; font-weight: bold\">203</span>  <span style=\"font-weight: bold\">(</span> <span style=\"color: #008080; text-decoration-color: #008080; font-weight: bold\">96</span> <span style=\"font-weight: bold\">)</span>  Right Margin:   <span style=\"color: #008080; text-decoration-color: #008080; font-weight: bold\">156</span>  <span style=\"font-weight: bold\">(</span> <span style=\"color: #008080; text-decoration-color: #008080; font-weight: bold\">74</span> <span style=\"font-weight: bold\">)</span>\n",
       "</pre>\n"
      ],
      "text/plain": [
       "Byte  \u001b[1;36m0\u001b[0m  Nibble \u001b[1;36m1\u001b[0m  -   Left Margin:   \u001b[1;36m154\u001b[0m  \u001b[1m(\u001b[0m \u001b[1;36m73\u001b[0m \u001b[1m)\u001b[0m  Center Point:   \u001b[1;36m203\u001b[0m  \u001b[1m(\u001b[0m \u001b[1;36m96\u001b[0m \u001b[1m)\u001b[0m  Right Margin:   \u001b[1;36m156\u001b[0m  \u001b[1m(\u001b[0m \u001b[1;36m74\u001b[0m \u001b[1m)\u001b[0m\n"
      ]
     },
     "metadata": {},
     "output_type": "display_data"
    },
    {
     "data": {
      "text/html": [
       "<pre style=\"white-space:pre;overflow-x:auto;line-height:normal;font-family:Menlo,'DejaVu Sans Mono',consolas,'Courier New',monospace\">Byte  <span style=\"color: #008080; text-decoration-color: #008080; font-weight: bold\">1</span>  Nibble <span style=\"color: #008080; text-decoration-color: #008080; font-weight: bold\">0</span>  -   Left Margin:   <span style=\"color: #008080; text-decoration-color: #008080; font-weight: bold\">137</span>  <span style=\"font-weight: bold\">(</span> <span style=\"color: #008080; text-decoration-color: #008080; font-weight: bold\">68</span> <span style=\"font-weight: bold\">)</span>  Center Point:   <span style=\"color: #008080; text-decoration-color: #008080; font-weight: bold\">197</span>  <span style=\"font-weight: bold\">(</span> <span style=\"color: #008080; text-decoration-color: #008080; font-weight: bold\">97</span> <span style=\"font-weight: bold\">)</span>  Right Margin:   <span style=\"color: #008080; text-decoration-color: #008080; font-weight: bold\">140</span>  <span style=\"font-weight: bold\">(</span> <span style=\"color: #008080; text-decoration-color: #008080; font-weight: bold\">69</span> <span style=\"font-weight: bold\">)</span>\n",
       "</pre>\n"
      ],
      "text/plain": [
       "Byte  \u001b[1;36m1\u001b[0m  Nibble \u001b[1;36m0\u001b[0m  -   Left Margin:   \u001b[1;36m137\u001b[0m  \u001b[1m(\u001b[0m \u001b[1;36m68\u001b[0m \u001b[1m)\u001b[0m  Center Point:   \u001b[1;36m197\u001b[0m  \u001b[1m(\u001b[0m \u001b[1;36m97\u001b[0m \u001b[1m)\u001b[0m  Right Margin:   \u001b[1;36m140\u001b[0m  \u001b[1m(\u001b[0m \u001b[1;36m69\u001b[0m \u001b[1m)\u001b[0m\n"
      ]
     },
     "metadata": {},
     "output_type": "display_data"
    },
    {
     "data": {
      "text/html": [
       "<pre style=\"white-space:pre;overflow-x:auto;line-height:normal;font-family:Menlo,'DejaVu Sans Mono',consolas,'Courier New',monospace\">Byte  <span style=\"color: #008080; text-decoration-color: #008080; font-weight: bold\">1</span>  Nibble <span style=\"color: #008080; text-decoration-color: #008080; font-weight: bold\">1</span>  -   Left Margin:   <span style=\"color: #008080; text-decoration-color: #008080; font-weight: bold\">142</span>  <span style=\"font-weight: bold\">(</span> <span style=\"color: #008080; text-decoration-color: #008080; font-weight: bold\">70</span> <span style=\"font-weight: bold\">)</span>  Center Point:   <span style=\"color: #008080; text-decoration-color: #008080; font-weight: bold\">189</span>  <span style=\"font-weight: bold\">(</span> <span style=\"color: #008080; text-decoration-color: #008080; font-weight: bold\">93</span> <span style=\"font-weight: bold\">)</span>  Right Margin:   <span style=\"color: #008080; text-decoration-color: #008080; font-weight: bold\">144</span>  <span style=\"font-weight: bold\">(</span> <span style=\"color: #008080; text-decoration-color: #008080; font-weight: bold\">71</span> <span style=\"font-weight: bold\">)</span>\n",
       "</pre>\n"
      ],
      "text/plain": [
       "Byte  \u001b[1;36m1\u001b[0m  Nibble \u001b[1;36m1\u001b[0m  -   Left Margin:   \u001b[1;36m142\u001b[0m  \u001b[1m(\u001b[0m \u001b[1;36m70\u001b[0m \u001b[1m)\u001b[0m  Center Point:   \u001b[1;36m189\u001b[0m  \u001b[1m(\u001b[0m \u001b[1;36m93\u001b[0m \u001b[1m)\u001b[0m  Right Margin:   \u001b[1;36m144\u001b[0m  \u001b[1m(\u001b[0m \u001b[1;36m71\u001b[0m \u001b[1m)\u001b[0m\n"
      ]
     },
     "metadata": {},
     "output_type": "display_data"
    },
    {
     "data": {
      "text/html": [
       "<pre style=\"white-space:pre;overflow-x:auto;line-height:normal;font-family:Menlo,'DejaVu Sans Mono',consolas,'Courier New',monospace\">Byte  <span style=\"color: #008080; text-decoration-color: #008080; font-weight: bold\">2</span>  Nibble <span style=\"color: #008080; text-decoration-color: #008080; font-weight: bold\">0</span>  -   Left Margin:   <span style=\"color: #008080; text-decoration-color: #008080; font-weight: bold\">140</span>  <span style=\"font-weight: bold\">(</span> <span style=\"color: #008080; text-decoration-color: #008080; font-weight: bold\">70</span> <span style=\"font-weight: bold\">)</span>  Center Point:   <span style=\"color: #008080; text-decoration-color: #008080; font-weight: bold\">202</span>  <span style=\"font-weight: bold\">(</span> <span style=\"color: #008080; text-decoration-color: #008080; font-weight: bold\">101</span> <span style=\"font-weight: bold\">)</span>  Right Margin:   <span style=\"color: #008080; text-decoration-color: #008080; font-weight: bold\">142</span>  <span style=\"font-weight: bold\">(</span> <span style=\"color: #008080; text-decoration-color: #008080; font-weight: bold\">71</span> <span style=\"font-weight: bold\">)</span>\n",
       "</pre>\n"
      ],
      "text/plain": [
       "Byte  \u001b[1;36m2\u001b[0m  Nibble \u001b[1;36m0\u001b[0m  -   Left Margin:   \u001b[1;36m140\u001b[0m  \u001b[1m(\u001b[0m \u001b[1;36m70\u001b[0m \u001b[1m)\u001b[0m  Center Point:   \u001b[1;36m202\u001b[0m  \u001b[1m(\u001b[0m \u001b[1;36m101\u001b[0m \u001b[1m)\u001b[0m  Right Margin:   \u001b[1;36m142\u001b[0m  \u001b[1m(\u001b[0m \u001b[1;36m71\u001b[0m \u001b[1m)\u001b[0m\n"
      ]
     },
     "metadata": {},
     "output_type": "display_data"
    },
    {
     "data": {
      "text/html": [
       "<pre style=\"white-space:pre;overflow-x:auto;line-height:normal;font-family:Menlo,'DejaVu Sans Mono',consolas,'Courier New',monospace\">Byte  <span style=\"color: #008080; text-decoration-color: #008080; font-weight: bold\">2</span>  Nibble <span style=\"color: #008080; text-decoration-color: #008080; font-weight: bold\">1</span>  -   Left Margin:   <span style=\"color: #008080; text-decoration-color: #008080; font-weight: bold\">147</span>  <span style=\"font-weight: bold\">(</span> <span style=\"color: #008080; text-decoration-color: #008080; font-weight: bold\">70</span> <span style=\"font-weight: bold\">)</span>  Center Point:   <span style=\"color: #008080; text-decoration-color: #008080; font-weight: bold\">213</span>  <span style=\"font-weight: bold\">(</span> <span style=\"color: #008080; text-decoration-color: #008080; font-weight: bold\">101</span> <span style=\"font-weight: bold\">)</span>  Right Margin:   <span style=\"color: #008080; text-decoration-color: #008080; font-weight: bold\">147</span>  <span style=\"font-weight: bold\">(</span> <span style=\"color: #008080; text-decoration-color: #008080; font-weight: bold\">70</span> <span style=\"font-weight: bold\">)</span>\n",
       "</pre>\n"
      ],
      "text/plain": [
       "Byte  \u001b[1;36m2\u001b[0m  Nibble \u001b[1;36m1\u001b[0m  -   Left Margin:   \u001b[1;36m147\u001b[0m  \u001b[1m(\u001b[0m \u001b[1;36m70\u001b[0m \u001b[1m)\u001b[0m  Center Point:   \u001b[1;36m213\u001b[0m  \u001b[1m(\u001b[0m \u001b[1;36m101\u001b[0m \u001b[1m)\u001b[0m  Right Margin:   \u001b[1;36m147\u001b[0m  \u001b[1m(\u001b[0m \u001b[1;36m70\u001b[0m \u001b[1m)\u001b[0m\n"
      ]
     },
     "metadata": {},
     "output_type": "display_data"
    },
    {
     "data": {
      "text/html": [
       "<pre style=\"white-space:pre;overflow-x:auto;line-height:normal;font-family:Menlo,'DejaVu Sans Mono',consolas,'Courier New',monospace\">Byte  <span style=\"color: #008080; text-decoration-color: #008080; font-weight: bold\">3</span>  Nibble <span style=\"color: #008080; text-decoration-color: #008080; font-weight: bold\">0</span>  -   Left Margin:   <span style=\"color: #008080; text-decoration-color: #008080; font-weight: bold\">142</span>  <span style=\"font-weight: bold\">(</span> <span style=\"color: #008080; text-decoration-color: #008080; font-weight: bold\">70</span> <span style=\"font-weight: bold\">)</span>  Center Point:   <span style=\"color: #008080; text-decoration-color: #008080; font-weight: bold\">197</span>  <span style=\"font-weight: bold\">(</span> <span style=\"color: #008080; text-decoration-color: #008080; font-weight: bold\">97</span> <span style=\"font-weight: bold\">)</span>  Right Margin:   <span style=\"color: #008080; text-decoration-color: #008080; font-weight: bold\">142</span>  <span style=\"font-weight: bold\">(</span> <span style=\"color: #008080; text-decoration-color: #008080; font-weight: bold\">70</span> <span style=\"font-weight: bold\">)</span>\n",
       "</pre>\n"
      ],
      "text/plain": [
       "Byte  \u001b[1;36m3\u001b[0m  Nibble \u001b[1;36m0\u001b[0m  -   Left Margin:   \u001b[1;36m142\u001b[0m  \u001b[1m(\u001b[0m \u001b[1;36m70\u001b[0m \u001b[1m)\u001b[0m  Center Point:   \u001b[1;36m197\u001b[0m  \u001b[1m(\u001b[0m \u001b[1;36m97\u001b[0m \u001b[1m)\u001b[0m  Right Margin:   \u001b[1;36m142\u001b[0m  \u001b[1m(\u001b[0m \u001b[1;36m70\u001b[0m \u001b[1m)\u001b[0m\n"
      ]
     },
     "metadata": {},
     "output_type": "display_data"
    },
    {
     "data": {
      "text/html": [
       "<pre style=\"white-space:pre;overflow-x:auto;line-height:normal;font-family:Menlo,'DejaVu Sans Mono',consolas,'Courier New',monospace\">Byte  <span style=\"color: #008080; text-decoration-color: #008080; font-weight: bold\">3</span>  Nibble <span style=\"color: #008080; text-decoration-color: #008080; font-weight: bold\">1</span>  -   Left Margin:   <span style=\"color: #008080; text-decoration-color: #008080; font-weight: bold\">136</span>  <span style=\"font-weight: bold\">(</span> <span style=\"color: #008080; text-decoration-color: #008080; font-weight: bold\">68</span> <span style=\"font-weight: bold\">)</span>  Center Point:   <span style=\"color: #008080; text-decoration-color: #008080; font-weight: bold\">192</span>  <span style=\"font-weight: bold\">(</span> <span style=\"color: #008080; text-decoration-color: #008080; font-weight: bold\">96</span> <span style=\"font-weight: bold\">)</span>  Right Margin:   <span style=\"color: #008080; text-decoration-color: #008080; font-weight: bold\">138</span>  <span style=\"font-weight: bold\">(</span> <span style=\"color: #008080; text-decoration-color: #008080; font-weight: bold\">69</span> <span style=\"font-weight: bold\">)</span>\n",
       "</pre>\n"
      ],
      "text/plain": [
       "Byte  \u001b[1;36m3\u001b[0m  Nibble \u001b[1;36m1\u001b[0m  -   Left Margin:   \u001b[1;36m136\u001b[0m  \u001b[1m(\u001b[0m \u001b[1;36m68\u001b[0m \u001b[1m)\u001b[0m  Center Point:   \u001b[1;36m192\u001b[0m  \u001b[1m(\u001b[0m \u001b[1;36m96\u001b[0m \u001b[1m)\u001b[0m  Right Margin:   \u001b[1;36m138\u001b[0m  \u001b[1m(\u001b[0m \u001b[1;36m69\u001b[0m \u001b[1m)\u001b[0m\n"
      ]
     },
     "metadata": {},
     "output_type": "display_data"
    },
    {
     "data": {
      "text/html": [
       "<pre style=\"white-space:pre;overflow-x:auto;line-height:normal;font-family:Menlo,'DejaVu Sans Mono',consolas,'Courier New',monospace\">Byte  <span style=\"color: #008080; text-decoration-color: #008080; font-weight: bold\">4</span>  Nibble <span style=\"color: #008080; text-decoration-color: #008080; font-weight: bold\">0</span>  -   Left Margin:   <span style=\"color: #008080; text-decoration-color: #008080; font-weight: bold\">143</span>  <span style=\"font-weight: bold\">(</span> <span style=\"color: #008080; text-decoration-color: #008080; font-weight: bold\">70</span> <span style=\"font-weight: bold\">)</span>  Center Point:   <span style=\"color: #008080; text-decoration-color: #008080; font-weight: bold\">197</span>  <span style=\"font-weight: bold\">(</span> <span style=\"color: #008080; text-decoration-color: #008080; font-weight: bold\">96</span> <span style=\"font-weight: bold\">)</span>  Right Margin:   <span style=\"color: #008080; text-decoration-color: #008080; font-weight: bold\">145</span>  <span style=\"font-weight: bold\">(</span> <span style=\"color: #008080; text-decoration-color: #008080; font-weight: bold\">71</span> <span style=\"font-weight: bold\">)</span>\n",
       "</pre>\n"
      ],
      "text/plain": [
       "Byte  \u001b[1;36m4\u001b[0m  Nibble \u001b[1;36m0\u001b[0m  -   Left Margin:   \u001b[1;36m143\u001b[0m  \u001b[1m(\u001b[0m \u001b[1;36m70\u001b[0m \u001b[1m)\u001b[0m  Center Point:   \u001b[1;36m197\u001b[0m  \u001b[1m(\u001b[0m \u001b[1;36m96\u001b[0m \u001b[1m)\u001b[0m  Right Margin:   \u001b[1;36m145\u001b[0m  \u001b[1m(\u001b[0m \u001b[1;36m71\u001b[0m \u001b[1m)\u001b[0m\n"
      ]
     },
     "metadata": {},
     "output_type": "display_data"
    },
    {
     "data": {
      "text/html": [
       "<pre style=\"white-space:pre;overflow-x:auto;line-height:normal;font-family:Menlo,'DejaVu Sans Mono',consolas,'Courier New',monospace\">Byte  <span style=\"color: #008080; text-decoration-color: #008080; font-weight: bold\">4</span>  Nibble <span style=\"color: #008080; text-decoration-color: #008080; font-weight: bold\">1</span>  -   Left Margin:   <span style=\"color: #008080; text-decoration-color: #008080; font-weight: bold\">145</span>  <span style=\"font-weight: bold\">(</span> <span style=\"color: #008080; text-decoration-color: #008080; font-weight: bold\">70</span> <span style=\"font-weight: bold\">)</span>  Center Point:   <span style=\"color: #008080; text-decoration-color: #008080; font-weight: bold\">196</span>  <span style=\"font-weight: bold\">(</span> <span style=\"color: #008080; text-decoration-color: #008080; font-weight: bold\">94</span> <span style=\"font-weight: bold\">)</span>  Right Margin:   <span style=\"color: #008080; text-decoration-color: #008080; font-weight: bold\">147</span>  <span style=\"font-weight: bold\">(</span> <span style=\"color: #008080; text-decoration-color: #008080; font-weight: bold\">71</span> <span style=\"font-weight: bold\">)</span>\n",
       "</pre>\n"
      ],
      "text/plain": [
       "Byte  \u001b[1;36m4\u001b[0m  Nibble \u001b[1;36m1\u001b[0m  -   Left Margin:   \u001b[1;36m145\u001b[0m  \u001b[1m(\u001b[0m \u001b[1;36m70\u001b[0m \u001b[1m)\u001b[0m  Center Point:   \u001b[1;36m196\u001b[0m  \u001b[1m(\u001b[0m \u001b[1;36m94\u001b[0m \u001b[1m)\u001b[0m  Right Margin:   \u001b[1;36m147\u001b[0m  \u001b[1m(\u001b[0m \u001b[1;36m71\u001b[0m \u001b[1m)\u001b[0m\n"
      ]
     },
     "metadata": {},
     "output_type": "display_data"
    },
    {
     "data": {
      "text/html": [
       "<pre style=\"white-space:pre;overflow-x:auto;line-height:normal;font-family:Menlo,'DejaVu Sans Mono',consolas,'Courier New',monospace\">Byte  <span style=\"color: #008080; text-decoration-color: #008080; font-weight: bold\">5</span>  Nibble <span style=\"color: #008080; text-decoration-color: #008080; font-weight: bold\">0</span>  -   Left Margin:   <span style=\"color: #008080; text-decoration-color: #008080; font-weight: bold\">134</span>  <span style=\"font-weight: bold\">(</span> <span style=\"color: #008080; text-decoration-color: #008080; font-weight: bold\">69</span> <span style=\"font-weight: bold\">)</span>  Center Point:   <span style=\"color: #008080; text-decoration-color: #008080; font-weight: bold\">193</span>  <span style=\"font-weight: bold\">(</span> <span style=\"color: #008080; text-decoration-color: #008080; font-weight: bold\">99</span> <span style=\"font-weight: bold\">)</span>  Right Margin:   <span style=\"color: #008080; text-decoration-color: #008080; font-weight: bold\">134</span>  <span style=\"font-weight: bold\">(</span> <span style=\"color: #008080; text-decoration-color: #008080; font-weight: bold\">69</span> <span style=\"font-weight: bold\">)</span>\n",
       "</pre>\n"
      ],
      "text/plain": [
       "Byte  \u001b[1;36m5\u001b[0m  Nibble \u001b[1;36m0\u001b[0m  -   Left Margin:   \u001b[1;36m134\u001b[0m  \u001b[1m(\u001b[0m \u001b[1;36m69\u001b[0m \u001b[1m)\u001b[0m  Center Point:   \u001b[1;36m193\u001b[0m  \u001b[1m(\u001b[0m \u001b[1;36m99\u001b[0m \u001b[1m)\u001b[0m  Right Margin:   \u001b[1;36m134\u001b[0m  \u001b[1m(\u001b[0m \u001b[1;36m69\u001b[0m \u001b[1m)\u001b[0m\n"
      ]
     },
     "metadata": {},
     "output_type": "display_data"
    },
    {
     "data": {
      "text/html": [
       "<pre style=\"white-space:pre;overflow-x:auto;line-height:normal;font-family:Menlo,'DejaVu Sans Mono',consolas,'Courier New',monospace\">Byte  <span style=\"color: #008080; text-decoration-color: #008080; font-weight: bold\">5</span>  Nibble <span style=\"color: #008080; text-decoration-color: #008080; font-weight: bold\">1</span>  -   Left Margin:   <span style=\"color: #008080; text-decoration-color: #008080; font-weight: bold\">139</span>  <span style=\"font-weight: bold\">(</span> <span style=\"color: #008080; text-decoration-color: #008080; font-weight: bold\">68</span> <span style=\"font-weight: bold\">)</span>  Center Point:   <span style=\"color: #008080; text-decoration-color: #008080; font-weight: bold\">199</span>  <span style=\"font-weight: bold\">(</span> <span style=\"color: #008080; text-decoration-color: #008080; font-weight: bold\">97</span> <span style=\"font-weight: bold\">)</span>  Right Margin:   <span style=\"color: #008080; text-decoration-color: #008080; font-weight: bold\">141</span>  <span style=\"font-weight: bold\">(</span> <span style=\"color: #008080; text-decoration-color: #008080; font-weight: bold\">69</span> <span style=\"font-weight: bold\">)</span>\n",
       "</pre>\n"
      ],
      "text/plain": [
       "Byte  \u001b[1;36m5\u001b[0m  Nibble \u001b[1;36m1\u001b[0m  -   Left Margin:   \u001b[1;36m139\u001b[0m  \u001b[1m(\u001b[0m \u001b[1;36m68\u001b[0m \u001b[1m)\u001b[0m  Center Point:   \u001b[1;36m199\u001b[0m  \u001b[1m(\u001b[0m \u001b[1;36m97\u001b[0m \u001b[1m)\u001b[0m  Right Margin:   \u001b[1;36m141\u001b[0m  \u001b[1m(\u001b[0m \u001b[1;36m69\u001b[0m \u001b[1m)\u001b[0m\n"
      ]
     },
     "metadata": {},
     "output_type": "display_data"
    },
    {
     "data": {
      "text/html": [
       "<pre style=\"white-space:pre;overflow-x:auto;line-height:normal;font-family:Menlo,'DejaVu Sans Mono',consolas,'Courier New',monospace\">Byte  <span style=\"color: #008080; text-decoration-color: #008080; font-weight: bold\">6</span>  Nibble <span style=\"color: #008080; text-decoration-color: #008080; font-weight: bold\">0</span>  -   Left Margin:   <span style=\"color: #008080; text-decoration-color: #008080; font-weight: bold\">145</span>  <span style=\"font-weight: bold\">(</span> <span style=\"color: #008080; text-decoration-color: #008080; font-weight: bold\">71</span> <span style=\"font-weight: bold\">)</span>  Center Point:   <span style=\"color: #008080; text-decoration-color: #008080; font-weight: bold\">197</span>  <span style=\"font-weight: bold\">(</span> <span style=\"color: #008080; text-decoration-color: #008080; font-weight: bold\">96</span> <span style=\"font-weight: bold\">)</span>  Right Margin:   <span style=\"color: #008080; text-decoration-color: #008080; font-weight: bold\">148</span>  <span style=\"font-weight: bold\">(</span> <span style=\"color: #008080; text-decoration-color: #008080; font-weight: bold\">72</span> <span style=\"font-weight: bold\">)</span>\n",
       "</pre>\n"
      ],
      "text/plain": [
       "Byte  \u001b[1;36m6\u001b[0m  Nibble \u001b[1;36m0\u001b[0m  -   Left Margin:   \u001b[1;36m145\u001b[0m  \u001b[1m(\u001b[0m \u001b[1;36m71\u001b[0m \u001b[1m)\u001b[0m  Center Point:   \u001b[1;36m197\u001b[0m  \u001b[1m(\u001b[0m \u001b[1;36m96\u001b[0m \u001b[1m)\u001b[0m  Right Margin:   \u001b[1;36m148\u001b[0m  \u001b[1m(\u001b[0m \u001b[1;36m72\u001b[0m \u001b[1m)\u001b[0m\n"
      ]
     },
     "metadata": {},
     "output_type": "display_data"
    },
    {
     "data": {
      "text/html": [
       "<pre style=\"white-space:pre;overflow-x:auto;line-height:normal;font-family:Menlo,'DejaVu Sans Mono',consolas,'Courier New',monospace\">Byte  <span style=\"color: #008080; text-decoration-color: #008080; font-weight: bold\">6</span>  Nibble <span style=\"color: #008080; text-decoration-color: #008080; font-weight: bold\">1</span>  -   Left Margin:   <span style=\"color: #008080; text-decoration-color: #008080; font-weight: bold\">145</span>  <span style=\"font-weight: bold\">(</span> <span style=\"color: #008080; text-decoration-color: #008080; font-weight: bold\">71</span> <span style=\"font-weight: bold\">)</span>  Center Point:   <span style=\"color: #008080; text-decoration-color: #008080; font-weight: bold\">197</span>  <span style=\"font-weight: bold\">(</span> <span style=\"color: #008080; text-decoration-color: #008080; font-weight: bold\">96</span> <span style=\"font-weight: bold\">)</span>  Right Margin:   <span style=\"color: #008080; text-decoration-color: #008080; font-weight: bold\">148</span>  <span style=\"font-weight: bold\">(</span> <span style=\"color: #008080; text-decoration-color: #008080; font-weight: bold\">72</span> <span style=\"font-weight: bold\">)</span>\n",
       "</pre>\n"
      ],
      "text/plain": [
       "Byte  \u001b[1;36m6\u001b[0m  Nibble \u001b[1;36m1\u001b[0m  -   Left Margin:   \u001b[1;36m145\u001b[0m  \u001b[1m(\u001b[0m \u001b[1;36m71\u001b[0m \u001b[1m)\u001b[0m  Center Point:   \u001b[1;36m197\u001b[0m  \u001b[1m(\u001b[0m \u001b[1;36m96\u001b[0m \u001b[1m)\u001b[0m  Right Margin:   \u001b[1;36m148\u001b[0m  \u001b[1m(\u001b[0m \u001b[1;36m72\u001b[0m \u001b[1m)\u001b[0m\n"
      ]
     },
     "metadata": {},
     "output_type": "display_data"
    },
    {
     "data": {
      "text/html": [
       "<pre style=\"white-space:pre;overflow-x:auto;line-height:normal;font-family:Menlo,'DejaVu Sans Mono',consolas,'Courier New',monospace\">Byte  <span style=\"color: #008080; text-decoration-color: #008080; font-weight: bold\">7</span>  Nibble <span style=\"color: #008080; text-decoration-color: #008080; font-weight: bold\">0</span>  -   Left Margin:   <span style=\"color: #008080; text-decoration-color: #008080; font-weight: bold\">143</span>  <span style=\"font-weight: bold\">(</span> <span style=\"color: #008080; text-decoration-color: #008080; font-weight: bold\">70</span> <span style=\"font-weight: bold\">)</span>  Center Point:   <span style=\"color: #008080; text-decoration-color: #008080; font-weight: bold\">201</span>  <span style=\"font-weight: bold\">(</span> <span style=\"color: #008080; text-decoration-color: #008080; font-weight: bold\">98</span> <span style=\"font-weight: bold\">)</span>  Right Margin:   <span style=\"color: #008080; text-decoration-color: #008080; font-weight: bold\">145</span>  <span style=\"font-weight: bold\">(</span> <span style=\"color: #008080; text-decoration-color: #008080; font-weight: bold\">71</span> <span style=\"font-weight: bold\">)</span>\n",
       "</pre>\n"
      ],
      "text/plain": [
       "Byte  \u001b[1;36m7\u001b[0m  Nibble \u001b[1;36m0\u001b[0m  -   Left Margin:   \u001b[1;36m143\u001b[0m  \u001b[1m(\u001b[0m \u001b[1;36m70\u001b[0m \u001b[1m)\u001b[0m  Center Point:   \u001b[1;36m201\u001b[0m  \u001b[1m(\u001b[0m \u001b[1;36m98\u001b[0m \u001b[1m)\u001b[0m  Right Margin:   \u001b[1;36m145\u001b[0m  \u001b[1m(\u001b[0m \u001b[1;36m71\u001b[0m \u001b[1m)\u001b[0m\n"
      ]
     },
     "metadata": {},
     "output_type": "display_data"
    },
    {
     "data": {
      "text/html": [
       "<pre style=\"white-space:pre;overflow-x:auto;line-height:normal;font-family:Menlo,'DejaVu Sans Mono',consolas,'Courier New',monospace\">Byte  <span style=\"color: #008080; text-decoration-color: #008080; font-weight: bold\">7</span>  Nibble <span style=\"color: #008080; text-decoration-color: #008080; font-weight: bold\">1</span>  -   Left Margin:   <span style=\"color: #008080; text-decoration-color: #008080; font-weight: bold\">150</span>  <span style=\"font-weight: bold\">(</span> <span style=\"color: #008080; text-decoration-color: #008080; font-weight: bold\">72</span> <span style=\"font-weight: bold\">)</span>  Center Point:   <span style=\"color: #008080; text-decoration-color: #008080; font-weight: bold\">200</span>  <span style=\"font-weight: bold\">(</span> <span style=\"color: #008080; text-decoration-color: #008080; font-weight: bold\">96</span> <span style=\"font-weight: bold\">)</span>  Right Margin:   <span style=\"color: #008080; text-decoration-color: #008080; font-weight: bold\">152</span>  <span style=\"font-weight: bold\">(</span> <span style=\"color: #008080; text-decoration-color: #008080; font-weight: bold\">73</span> <span style=\"font-weight: bold\">)</span>\n",
       "</pre>\n"
      ],
      "text/plain": [
       "Byte  \u001b[1;36m7\u001b[0m  Nibble \u001b[1;36m1\u001b[0m  -   Left Margin:   \u001b[1;36m150\u001b[0m  \u001b[1m(\u001b[0m \u001b[1;36m72\u001b[0m \u001b[1m)\u001b[0m  Center Point:   \u001b[1;36m200\u001b[0m  \u001b[1m(\u001b[0m \u001b[1;36m96\u001b[0m \u001b[1m)\u001b[0m  Right Margin:   \u001b[1;36m152\u001b[0m  \u001b[1m(\u001b[0m \u001b[1;36m73\u001b[0m \u001b[1m)\u001b[0m\n"
      ]
     },
     "metadata": {},
     "output_type": "display_data"
    },
    {
     "data": {
      "text/html": [
       "<pre style=\"white-space:pre;overflow-x:auto;line-height:normal;font-family:Menlo,'DejaVu Sans Mono',consolas,'Courier New',monospace\">\n",
       " Frequency <span style=\"color: #008080; text-decoration-color: #008080; font-weight: bold\">0</span>  - Read Margin - Complex Pattern - Rising Edge Clock in pS and <span style=\"font-weight: bold\">(</span>delay taps<span style=\"font-weight: bold\">)</span>:\n",
       "\n",
       "</pre>\n"
      ],
      "text/plain": [
       "\n",
       " Frequency \u001b[1;36m0\u001b[0m  - Read Margin - Complex Pattern - Rising Edge Clock in pS and \u001b[1m(\u001b[0mdelay taps\u001b[1m)\u001b[0m:\n",
       "\n"
      ]
     },
     "metadata": {},
     "output_type": "display_data"
    },
    {
     "data": {
      "text/html": [
       "<pre style=\"white-space:pre;overflow-x:auto;line-height:normal;font-family:Menlo,'DejaVu Sans Mono',consolas,'Courier New',monospace\">Byte  <span style=\"color: #008080; text-decoration-color: #008080; font-weight: bold\">0</span>  Nibble <span style=\"color: #008080; text-decoration-color: #008080; font-weight: bold\">0</span>  -   Left Margin:   <span style=\"color: #008080; text-decoration-color: #008080; font-weight: bold\">133</span>  <span style=\"font-weight: bold\">(</span> <span style=\"color: #008080; text-decoration-color: #008080; font-weight: bold\">66</span> <span style=\"font-weight: bold\">)</span>  Center Point:   <span style=\"color: #008080; text-decoration-color: #008080; font-weight: bold\">179</span>  <span style=\"font-weight: bold\">(</span> <span style=\"color: #008080; text-decoration-color: #008080; font-weight: bold\">88</span> <span style=\"font-weight: bold\">)</span>  Right Margin:   <span style=\"color: #008080; text-decoration-color: #008080; font-weight: bold\">133</span>  <span style=\"font-weight: bold\">(</span> <span style=\"color: #008080; text-decoration-color: #008080; font-weight: bold\">66</span> <span style=\"font-weight: bold\">)</span>\n",
       "</pre>\n"
      ],
      "text/plain": [
       "Byte  \u001b[1;36m0\u001b[0m  Nibble \u001b[1;36m0\u001b[0m  -   Left Margin:   \u001b[1;36m133\u001b[0m  \u001b[1m(\u001b[0m \u001b[1;36m66\u001b[0m \u001b[1m)\u001b[0m  Center Point:   \u001b[1;36m179\u001b[0m  \u001b[1m(\u001b[0m \u001b[1;36m88\u001b[0m \u001b[1m)\u001b[0m  Right Margin:   \u001b[1;36m133\u001b[0m  \u001b[1m(\u001b[0m \u001b[1;36m66\u001b[0m \u001b[1m)\u001b[0m\n"
      ]
     },
     "metadata": {},
     "output_type": "display_data"
    },
    {
     "data": {
      "text/html": [
       "<pre style=\"white-space:pre;overflow-x:auto;line-height:normal;font-family:Menlo,'DejaVu Sans Mono',consolas,'Courier New',monospace\">Byte  <span style=\"color: #008080; text-decoration-color: #008080; font-weight: bold\">0</span>  Nibble <span style=\"color: #008080; text-decoration-color: #008080; font-weight: bold\">1</span>  -   Left Margin:   <span style=\"color: #008080; text-decoration-color: #008080; font-weight: bold\">137</span>  <span style=\"font-weight: bold\">(</span> <span style=\"color: #008080; text-decoration-color: #008080; font-weight: bold\">67</span> <span style=\"font-weight: bold\">)</span>  Center Point:   <span style=\"color: #008080; text-decoration-color: #008080; font-weight: bold\">183</span>  <span style=\"font-weight: bold\">(</span> <span style=\"color: #008080; text-decoration-color: #008080; font-weight: bold\">89</span> <span style=\"font-weight: bold\">)</span>  Right Margin:   <span style=\"color: #008080; text-decoration-color: #008080; font-weight: bold\">137</span>  <span style=\"font-weight: bold\">(</span> <span style=\"color: #008080; text-decoration-color: #008080; font-weight: bold\">67</span> <span style=\"font-weight: bold\">)</span>\n",
       "</pre>\n"
      ],
      "text/plain": [
       "Byte  \u001b[1;36m0\u001b[0m  Nibble \u001b[1;36m1\u001b[0m  -   Left Margin:   \u001b[1;36m137\u001b[0m  \u001b[1m(\u001b[0m \u001b[1;36m67\u001b[0m \u001b[1m)\u001b[0m  Center Point:   \u001b[1;36m183\u001b[0m  \u001b[1m(\u001b[0m \u001b[1;36m89\u001b[0m \u001b[1m)\u001b[0m  Right Margin:   \u001b[1;36m137\u001b[0m  \u001b[1m(\u001b[0m \u001b[1;36m67\u001b[0m \u001b[1m)\u001b[0m\n"
      ]
     },
     "metadata": {},
     "output_type": "display_data"
    },
    {
     "data": {
      "text/html": [
       "<pre style=\"white-space:pre;overflow-x:auto;line-height:normal;font-family:Menlo,'DejaVu Sans Mono',consolas,'Courier New',monospace\">Byte  <span style=\"color: #008080; text-decoration-color: #008080; font-weight: bold\">1</span>  Nibble <span style=\"color: #008080; text-decoration-color: #008080; font-weight: bold\">0</span>  -   Left Margin:   <span style=\"color: #008080; text-decoration-color: #008080; font-weight: bold\">124</span>  <span style=\"font-weight: bold\">(</span> <span style=\"color: #008080; text-decoration-color: #008080; font-weight: bold\">63</span> <span style=\"font-weight: bold\">)</span>  Center Point:   <span style=\"color: #008080; text-decoration-color: #008080; font-weight: bold\">172</span>  <span style=\"font-weight: bold\">(</span> <span style=\"color: #008080; text-decoration-color: #008080; font-weight: bold\">87</span> <span style=\"font-weight: bold\">)</span>  Right Margin:   <span style=\"color: #008080; text-decoration-color: #008080; font-weight: bold\">124</span>  <span style=\"font-weight: bold\">(</span> <span style=\"color: #008080; text-decoration-color: #008080; font-weight: bold\">63</span> <span style=\"font-weight: bold\">)</span>\n",
       "</pre>\n"
      ],
      "text/plain": [
       "Byte  \u001b[1;36m1\u001b[0m  Nibble \u001b[1;36m0\u001b[0m  -   Left Margin:   \u001b[1;36m124\u001b[0m  \u001b[1m(\u001b[0m \u001b[1;36m63\u001b[0m \u001b[1m)\u001b[0m  Center Point:   \u001b[1;36m172\u001b[0m  \u001b[1m(\u001b[0m \u001b[1;36m87\u001b[0m \u001b[1m)\u001b[0m  Right Margin:   \u001b[1;36m124\u001b[0m  \u001b[1m(\u001b[0m \u001b[1;36m63\u001b[0m \u001b[1m)\u001b[0m\n"
      ]
     },
     "metadata": {},
     "output_type": "display_data"
    },
    {
     "data": {
      "text/html": [
       "<pre style=\"white-space:pre;overflow-x:auto;line-height:normal;font-family:Menlo,'DejaVu Sans Mono',consolas,'Courier New',monospace\">Byte  <span style=\"color: #008080; text-decoration-color: #008080; font-weight: bold\">1</span>  Nibble <span style=\"color: #008080; text-decoration-color: #008080; font-weight: bold\">1</span>  -   Left Margin:   <span style=\"color: #008080; text-decoration-color: #008080; font-weight: bold\">127</span>  <span style=\"font-weight: bold\">(</span> <span style=\"color: #008080; text-decoration-color: #008080; font-weight: bold\">63</span> <span style=\"font-weight: bold\">)</span>  Center Point:   <span style=\"color: #008080; text-decoration-color: #008080; font-weight: bold\">172</span>  <span style=\"font-weight: bold\">(</span> <span style=\"color: #008080; text-decoration-color: #008080; font-weight: bold\">85</span> <span style=\"font-weight: bold\">)</span>  Right Margin:   <span style=\"color: #008080; text-decoration-color: #008080; font-weight: bold\">129</span>  <span style=\"font-weight: bold\">(</span> <span style=\"color: #008080; text-decoration-color: #008080; font-weight: bold\">64</span> <span style=\"font-weight: bold\">)</span>\n",
       "</pre>\n"
      ],
      "text/plain": [
       "Byte  \u001b[1;36m1\u001b[0m  Nibble \u001b[1;36m1\u001b[0m  -   Left Margin:   \u001b[1;36m127\u001b[0m  \u001b[1m(\u001b[0m \u001b[1;36m63\u001b[0m \u001b[1m)\u001b[0m  Center Point:   \u001b[1;36m172\u001b[0m  \u001b[1m(\u001b[0m \u001b[1;36m85\u001b[0m \u001b[1m)\u001b[0m  Right Margin:   \u001b[1;36m129\u001b[0m  \u001b[1m(\u001b[0m \u001b[1;36m64\u001b[0m \u001b[1m)\u001b[0m\n"
      ]
     },
     "metadata": {},
     "output_type": "display_data"
    },
    {
     "data": {
      "text/html": [
       "<pre style=\"white-space:pre;overflow-x:auto;line-height:normal;font-family:Menlo,'DejaVu Sans Mono',consolas,'Courier New',monospace\">Byte  <span style=\"color: #008080; text-decoration-color: #008080; font-weight: bold\">2</span>  Nibble <span style=\"color: #008080; text-decoration-color: #008080; font-weight: bold\">0</span>  -   Left Margin:   <span style=\"color: #008080; text-decoration-color: #008080; font-weight: bold\">125</span>  <span style=\"font-weight: bold\">(</span> <span style=\"color: #008080; text-decoration-color: #008080; font-weight: bold\">61</span> <span style=\"font-weight: bold\">)</span>  Center Point:   <span style=\"color: #008080; text-decoration-color: #008080; font-weight: bold\">179</span>  <span style=\"font-weight: bold\">(</span> <span style=\"color: #008080; text-decoration-color: #008080; font-weight: bold\">87</span> <span style=\"font-weight: bold\">)</span>  Right Margin:   <span style=\"color: #008080; text-decoration-color: #008080; font-weight: bold\">125</span>  <span style=\"font-weight: bold\">(</span> <span style=\"color: #008080; text-decoration-color: #008080; font-weight: bold\">61</span> <span style=\"font-weight: bold\">)</span>\n",
       "</pre>\n"
      ],
      "text/plain": [
       "Byte  \u001b[1;36m2\u001b[0m  Nibble \u001b[1;36m0\u001b[0m  -   Left Margin:   \u001b[1;36m125\u001b[0m  \u001b[1m(\u001b[0m \u001b[1;36m61\u001b[0m \u001b[1m)\u001b[0m  Center Point:   \u001b[1;36m179\u001b[0m  \u001b[1m(\u001b[0m \u001b[1;36m87\u001b[0m \u001b[1m)\u001b[0m  Right Margin:   \u001b[1;36m125\u001b[0m  \u001b[1m(\u001b[0m \u001b[1;36m61\u001b[0m \u001b[1m)\u001b[0m\n"
      ]
     },
     "metadata": {},
     "output_type": "display_data"
    },
    {
     "data": {
      "text/html": [
       "<pre style=\"white-space:pre;overflow-x:auto;line-height:normal;font-family:Menlo,'DejaVu Sans Mono',consolas,'Courier New',monospace\">Byte  <span style=\"color: #008080; text-decoration-color: #008080; font-weight: bold\">2</span>  Nibble <span style=\"color: #008080; text-decoration-color: #008080; font-weight: bold\">1</span>  -   Left Margin:   <span style=\"color: #008080; text-decoration-color: #008080; font-weight: bold\">130</span>  <span style=\"font-weight: bold\">(</span> <span style=\"color: #008080; text-decoration-color: #008080; font-weight: bold\">62</span> <span style=\"font-weight: bold\">)</span>  Center Point:   <span style=\"color: #008080; text-decoration-color: #008080; font-weight: bold\">182</span>  <span style=\"font-weight: bold\">(</span> <span style=\"color: #008080; text-decoration-color: #008080; font-weight: bold\">86</span> <span style=\"font-weight: bold\">)</span>  Right Margin:   <span style=\"color: #008080; text-decoration-color: #008080; font-weight: bold\">130</span>  <span style=\"font-weight: bold\">(</span> <span style=\"color: #008080; text-decoration-color: #008080; font-weight: bold\">62</span> <span style=\"font-weight: bold\">)</span>\n",
       "</pre>\n"
      ],
      "text/plain": [
       "Byte  \u001b[1;36m2\u001b[0m  Nibble \u001b[1;36m1\u001b[0m  -   Left Margin:   \u001b[1;36m130\u001b[0m  \u001b[1m(\u001b[0m \u001b[1;36m62\u001b[0m \u001b[1m)\u001b[0m  Center Point:   \u001b[1;36m182\u001b[0m  \u001b[1m(\u001b[0m \u001b[1;36m86\u001b[0m \u001b[1m)\u001b[0m  Right Margin:   \u001b[1;36m130\u001b[0m  \u001b[1m(\u001b[0m \u001b[1;36m62\u001b[0m \u001b[1m)\u001b[0m\n"
      ]
     },
     "metadata": {},
     "output_type": "display_data"
    },
    {
     "data": {
      "text/html": [
       "<pre style=\"white-space:pre;overflow-x:auto;line-height:normal;font-family:Menlo,'DejaVu Sans Mono',consolas,'Courier New',monospace\">Byte  <span style=\"color: #008080; text-decoration-color: #008080; font-weight: bold\">3</span>  Nibble <span style=\"color: #008080; text-decoration-color: #008080; font-weight: bold\">0</span>  -   Left Margin:   <span style=\"color: #008080; text-decoration-color: #008080; font-weight: bold\">121</span>  <span style=\"font-weight: bold\">(</span> <span style=\"color: #008080; text-decoration-color: #008080; font-weight: bold\">59</span> <span style=\"font-weight: bold\">)</span>  Center Point:   <span style=\"color: #008080; text-decoration-color: #008080; font-weight: bold\">181</span>  <span style=\"font-weight: bold\">(</span> <span style=\"color: #008080; text-decoration-color: #008080; font-weight: bold\">88</span> <span style=\"font-weight: bold\">)</span>  Right Margin:   <span style=\"color: #008080; text-decoration-color: #008080; font-weight: bold\">123</span>  <span style=\"font-weight: bold\">(</span> <span style=\"color: #008080; text-decoration-color: #008080; font-weight: bold\">60</span> <span style=\"font-weight: bold\">)</span>\n",
       "</pre>\n"
      ],
      "text/plain": [
       "Byte  \u001b[1;36m3\u001b[0m  Nibble \u001b[1;36m0\u001b[0m  -   Left Margin:   \u001b[1;36m121\u001b[0m  \u001b[1m(\u001b[0m \u001b[1;36m59\u001b[0m \u001b[1m)\u001b[0m  Center Point:   \u001b[1;36m181\u001b[0m  \u001b[1m(\u001b[0m \u001b[1;36m88\u001b[0m \u001b[1m)\u001b[0m  Right Margin:   \u001b[1;36m123\u001b[0m  \u001b[1m(\u001b[0m \u001b[1;36m60\u001b[0m \u001b[1m)\u001b[0m\n"
      ]
     },
     "metadata": {},
     "output_type": "display_data"
    },
    {
     "data": {
      "text/html": [
       "<pre style=\"white-space:pre;overflow-x:auto;line-height:normal;font-family:Menlo,'DejaVu Sans Mono',consolas,'Courier New',monospace\">Byte  <span style=\"color: #008080; text-decoration-color: #008080; font-weight: bold\">3</span>  Nibble <span style=\"color: #008080; text-decoration-color: #008080; font-weight: bold\">1</span>  -   Left Margin:   <span style=\"color: #008080; text-decoration-color: #008080; font-weight: bold\">125</span>  <span style=\"font-weight: bold\">(</span> <span style=\"color: #008080; text-decoration-color: #008080; font-weight: bold\">61</span> <span style=\"font-weight: bold\">)</span>  Center Point:   <span style=\"color: #008080; text-decoration-color: #008080; font-weight: bold\">175</span>  <span style=\"font-weight: bold\">(</span> <span style=\"color: #008080; text-decoration-color: #008080; font-weight: bold\">85</span> <span style=\"font-weight: bold\">)</span>  Right Margin:   <span style=\"color: #008080; text-decoration-color: #008080; font-weight: bold\">127</span>  <span style=\"font-weight: bold\">(</span> <span style=\"color: #008080; text-decoration-color: #008080; font-weight: bold\">62</span> <span style=\"font-weight: bold\">)</span>\n",
       "</pre>\n"
      ],
      "text/plain": [
       "Byte  \u001b[1;36m3\u001b[0m  Nibble \u001b[1;36m1\u001b[0m  -   Left Margin:   \u001b[1;36m125\u001b[0m  \u001b[1m(\u001b[0m \u001b[1;36m61\u001b[0m \u001b[1m)\u001b[0m  Center Point:   \u001b[1;36m175\u001b[0m  \u001b[1m(\u001b[0m \u001b[1;36m85\u001b[0m \u001b[1m)\u001b[0m  Right Margin:   \u001b[1;36m127\u001b[0m  \u001b[1m(\u001b[0m \u001b[1;36m62\u001b[0m \u001b[1m)\u001b[0m\n"
      ]
     },
     "metadata": {},
     "output_type": "display_data"
    },
    {
     "data": {
      "text/html": [
       "<pre style=\"white-space:pre;overflow-x:auto;line-height:normal;font-family:Menlo,'DejaVu Sans Mono',consolas,'Courier New',monospace\">Byte  <span style=\"color: #008080; text-decoration-color: #008080; font-weight: bold\">4</span>  Nibble <span style=\"color: #008080; text-decoration-color: #008080; font-weight: bold\">0</span>  -   Left Margin:   <span style=\"color: #008080; text-decoration-color: #008080; font-weight: bold\">119</span>  <span style=\"font-weight: bold\">(</span> <span style=\"color: #008080; text-decoration-color: #008080; font-weight: bold\">59</span> <span style=\"font-weight: bold\">)</span>  Center Point:   <span style=\"color: #008080; text-decoration-color: #008080; font-weight: bold\">168</span>  <span style=\"font-weight: bold\">(</span> <span style=\"color: #008080; text-decoration-color: #008080; font-weight: bold\">83</span> <span style=\"font-weight: bold\">)</span>  Right Margin:   <span style=\"color: #008080; text-decoration-color: #008080; font-weight: bold\">121</span>  <span style=\"font-weight: bold\">(</span> <span style=\"color: #008080; text-decoration-color: #008080; font-weight: bold\">60</span> <span style=\"font-weight: bold\">)</span>\n",
       "</pre>\n"
      ],
      "text/plain": [
       "Byte  \u001b[1;36m4\u001b[0m  Nibble \u001b[1;36m0\u001b[0m  -   Left Margin:   \u001b[1;36m119\u001b[0m  \u001b[1m(\u001b[0m \u001b[1;36m59\u001b[0m \u001b[1m)\u001b[0m  Center Point:   \u001b[1;36m168\u001b[0m  \u001b[1m(\u001b[0m \u001b[1;36m83\u001b[0m \u001b[1m)\u001b[0m  Right Margin:   \u001b[1;36m121\u001b[0m  \u001b[1m(\u001b[0m \u001b[1;36m60\u001b[0m \u001b[1m)\u001b[0m\n"
      ]
     },
     "metadata": {},
     "output_type": "display_data"
    },
    {
     "data": {
      "text/html": [
       "<pre style=\"white-space:pre;overflow-x:auto;line-height:normal;font-family:Menlo,'DejaVu Sans Mono',consolas,'Courier New',monospace\">Byte  <span style=\"color: #008080; text-decoration-color: #008080; font-weight: bold\">4</span>  Nibble <span style=\"color: #008080; text-decoration-color: #008080; font-weight: bold\">1</span>  -   Left Margin:   <span style=\"color: #008080; text-decoration-color: #008080; font-weight: bold\">123</span>  <span style=\"font-weight: bold\">(</span> <span style=\"color: #008080; text-decoration-color: #008080; font-weight: bold\">61</span> <span style=\"font-weight: bold\">)</span>  Center Point:   <span style=\"color: #008080; text-decoration-color: #008080; font-weight: bold\">175</span>  <span style=\"font-weight: bold\">(</span> <span style=\"color: #008080; text-decoration-color: #008080; font-weight: bold\">86</span> <span style=\"font-weight: bold\">)</span>  Right Margin:   <span style=\"color: #008080; text-decoration-color: #008080; font-weight: bold\">125</span>  <span style=\"font-weight: bold\">(</span> <span style=\"color: #008080; text-decoration-color: #008080; font-weight: bold\">62</span> <span style=\"font-weight: bold\">)</span>\n",
       "</pre>\n"
      ],
      "text/plain": [
       "Byte  \u001b[1;36m4\u001b[0m  Nibble \u001b[1;36m1\u001b[0m  -   Left Margin:   \u001b[1;36m123\u001b[0m  \u001b[1m(\u001b[0m \u001b[1;36m61\u001b[0m \u001b[1m)\u001b[0m  Center Point:   \u001b[1;36m175\u001b[0m  \u001b[1m(\u001b[0m \u001b[1;36m86\u001b[0m \u001b[1m)\u001b[0m  Right Margin:   \u001b[1;36m125\u001b[0m  \u001b[1m(\u001b[0m \u001b[1;36m62\u001b[0m \u001b[1m)\u001b[0m\n"
      ]
     },
     "metadata": {},
     "output_type": "display_data"
    },
    {
     "data": {
      "text/html": [
       "<pre style=\"white-space:pre;overflow-x:auto;line-height:normal;font-family:Menlo,'DejaVu Sans Mono',consolas,'Courier New',monospace\">Byte  <span style=\"color: #008080; text-decoration-color: #008080; font-weight: bold\">5</span>  Nibble <span style=\"color: #008080; text-decoration-color: #008080; font-weight: bold\">0</span>  -   Left Margin:   <span style=\"color: #008080; text-decoration-color: #008080; font-weight: bold\">119</span>  <span style=\"font-weight: bold\">(</span> <span style=\"color: #008080; text-decoration-color: #008080; font-weight: bold\">58</span> <span style=\"font-weight: bold\">)</span>  Center Point:   <span style=\"color: #008080; text-decoration-color: #008080; font-weight: bold\">187</span>  <span style=\"font-weight: bold\">(</span> <span style=\"color: #008080; text-decoration-color: #008080; font-weight: bold\">91</span> <span style=\"font-weight: bold\">)</span>  Right Margin:   <span style=\"color: #008080; text-decoration-color: #008080; font-weight: bold\">121</span>  <span style=\"font-weight: bold\">(</span> <span style=\"color: #008080; text-decoration-color: #008080; font-weight: bold\">59</span> <span style=\"font-weight: bold\">)</span>\n",
       "</pre>\n"
      ],
      "text/plain": [
       "Byte  \u001b[1;36m5\u001b[0m  Nibble \u001b[1;36m0\u001b[0m  -   Left Margin:   \u001b[1;36m119\u001b[0m  \u001b[1m(\u001b[0m \u001b[1;36m58\u001b[0m \u001b[1m)\u001b[0m  Center Point:   \u001b[1;36m187\u001b[0m  \u001b[1m(\u001b[0m \u001b[1;36m91\u001b[0m \u001b[1m)\u001b[0m  Right Margin:   \u001b[1;36m121\u001b[0m  \u001b[1m(\u001b[0m \u001b[1;36m59\u001b[0m \u001b[1m)\u001b[0m\n"
      ]
     },
     "metadata": {},
     "output_type": "display_data"
    },
    {
     "data": {
      "text/html": [
       "<pre style=\"white-space:pre;overflow-x:auto;line-height:normal;font-family:Menlo,'DejaVu Sans Mono',consolas,'Courier New',monospace\">Byte  <span style=\"color: #008080; text-decoration-color: #008080; font-weight: bold\">5</span>  Nibble <span style=\"color: #008080; text-decoration-color: #008080; font-weight: bold\">1</span>  -   Left Margin:   <span style=\"color: #008080; text-decoration-color: #008080; font-weight: bold\">129</span>  <span style=\"font-weight: bold\">(</span> <span style=\"color: #008080; text-decoration-color: #008080; font-weight: bold\">62</span> <span style=\"font-weight: bold\">)</span>  Center Point:   <span style=\"color: #008080; text-decoration-color: #008080; font-weight: bold\">190</span>  <span style=\"font-weight: bold\">(</span> <span style=\"color: #008080; text-decoration-color: #008080; font-weight: bold\">91</span> <span style=\"font-weight: bold\">)</span>  Right Margin:   <span style=\"color: #008080; text-decoration-color: #008080; font-weight: bold\">129</span>  <span style=\"font-weight: bold\">(</span> <span style=\"color: #008080; text-decoration-color: #008080; font-weight: bold\">62</span> <span style=\"font-weight: bold\">)</span>\n",
       "</pre>\n"
      ],
      "text/plain": [
       "Byte  \u001b[1;36m5\u001b[0m  Nibble \u001b[1;36m1\u001b[0m  -   Left Margin:   \u001b[1;36m129\u001b[0m  \u001b[1m(\u001b[0m \u001b[1;36m62\u001b[0m \u001b[1m)\u001b[0m  Center Point:   \u001b[1;36m190\u001b[0m  \u001b[1m(\u001b[0m \u001b[1;36m91\u001b[0m \u001b[1m)\u001b[0m  Right Margin:   \u001b[1;36m129\u001b[0m  \u001b[1m(\u001b[0m \u001b[1;36m62\u001b[0m \u001b[1m)\u001b[0m\n"
      ]
     },
     "metadata": {},
     "output_type": "display_data"
    },
    {
     "data": {
      "text/html": [
       "<pre style=\"white-space:pre;overflow-x:auto;line-height:normal;font-family:Menlo,'DejaVu Sans Mono',consolas,'Courier New',monospace\">Byte  <span style=\"color: #008080; text-decoration-color: #008080; font-weight: bold\">6</span>  Nibble <span style=\"color: #008080; text-decoration-color: #008080; font-weight: bold\">0</span>  -   Left Margin:   <span style=\"color: #008080; text-decoration-color: #008080; font-weight: bold\">135</span>  <span style=\"font-weight: bold\">(</span> <span style=\"color: #008080; text-decoration-color: #008080; font-weight: bold\">65</span> <span style=\"font-weight: bold\">)</span>  Center Point:   <span style=\"color: #008080; text-decoration-color: #008080; font-weight: bold\">181</span>  <span style=\"font-weight: bold\">(</span> <span style=\"color: #008080; text-decoration-color: #008080; font-weight: bold\">87</span> <span style=\"font-weight: bold\">)</span>  Right Margin:   <span style=\"color: #008080; text-decoration-color: #008080; font-weight: bold\">137</span>  <span style=\"font-weight: bold\">(</span> <span style=\"color: #008080; text-decoration-color: #008080; font-weight: bold\">66</span> <span style=\"font-weight: bold\">)</span>\n",
       "</pre>\n"
      ],
      "text/plain": [
       "Byte  \u001b[1;36m6\u001b[0m  Nibble \u001b[1;36m0\u001b[0m  -   Left Margin:   \u001b[1;36m135\u001b[0m  \u001b[1m(\u001b[0m \u001b[1;36m65\u001b[0m \u001b[1m)\u001b[0m  Center Point:   \u001b[1;36m181\u001b[0m  \u001b[1m(\u001b[0m \u001b[1;36m87\u001b[0m \u001b[1m)\u001b[0m  Right Margin:   \u001b[1;36m137\u001b[0m  \u001b[1m(\u001b[0m \u001b[1;36m66\u001b[0m \u001b[1m)\u001b[0m\n"
      ]
     },
     "metadata": {},
     "output_type": "display_data"
    },
    {
     "data": {
      "text/html": [
       "<pre style=\"white-space:pre;overflow-x:auto;line-height:normal;font-family:Menlo,'DejaVu Sans Mono',consolas,'Courier New',monospace\">Byte  <span style=\"color: #008080; text-decoration-color: #008080; font-weight: bold\">6</span>  Nibble <span style=\"color: #008080; text-decoration-color: #008080; font-weight: bold\">1</span>  -   Left Margin:   <span style=\"color: #008080; text-decoration-color: #008080; font-weight: bold\">127</span>  <span style=\"font-weight: bold\">(</span> <span style=\"color: #008080; text-decoration-color: #008080; font-weight: bold\">62</span> <span style=\"font-weight: bold\">)</span>  Center Point:   <span style=\"color: #008080; text-decoration-color: #008080; font-weight: bold\">177</span>  <span style=\"font-weight: bold\">(</span> <span style=\"color: #008080; text-decoration-color: #008080; font-weight: bold\">86</span> <span style=\"font-weight: bold\">)</span>  Right Margin:   <span style=\"color: #008080; text-decoration-color: #008080; font-weight: bold\">129</span>  <span style=\"font-weight: bold\">(</span> <span style=\"color: #008080; text-decoration-color: #008080; font-weight: bold\">63</span> <span style=\"font-weight: bold\">)</span>\n",
       "</pre>\n"
      ],
      "text/plain": [
       "Byte  \u001b[1;36m6\u001b[0m  Nibble \u001b[1;36m1\u001b[0m  -   Left Margin:   \u001b[1;36m127\u001b[0m  \u001b[1m(\u001b[0m \u001b[1;36m62\u001b[0m \u001b[1m)\u001b[0m  Center Point:   \u001b[1;36m177\u001b[0m  \u001b[1m(\u001b[0m \u001b[1;36m86\u001b[0m \u001b[1m)\u001b[0m  Right Margin:   \u001b[1;36m129\u001b[0m  \u001b[1m(\u001b[0m \u001b[1;36m63\u001b[0m \u001b[1m)\u001b[0m\n"
      ]
     },
     "metadata": {},
     "output_type": "display_data"
    },
    {
     "data": {
      "text/html": [
       "<pre style=\"white-space:pre;overflow-x:auto;line-height:normal;font-family:Menlo,'DejaVu Sans Mono',consolas,'Courier New',monospace\">Byte  <span style=\"color: #008080; text-decoration-color: #008080; font-weight: bold\">7</span>  Nibble <span style=\"color: #008080; text-decoration-color: #008080; font-weight: bold\">0</span>  -   Left Margin:   <span style=\"color: #008080; text-decoration-color: #008080; font-weight: bold\">129</span>  <span style=\"font-weight: bold\">(</span> <span style=\"color: #008080; text-decoration-color: #008080; font-weight: bold\">63</span> <span style=\"font-weight: bold\">)</span>  Center Point:   <span style=\"color: #008080; text-decoration-color: #008080; font-weight: bold\">183</span>  <span style=\"font-weight: bold\">(</span> <span style=\"color: #008080; text-decoration-color: #008080; font-weight: bold\">89</span> <span style=\"font-weight: bold\">)</span>  Right Margin:   <span style=\"color: #008080; text-decoration-color: #008080; font-weight: bold\">131</span>  <span style=\"font-weight: bold\">(</span> <span style=\"color: #008080; text-decoration-color: #008080; font-weight: bold\">64</span> <span style=\"font-weight: bold\">)</span>\n",
       "</pre>\n"
      ],
      "text/plain": [
       "Byte  \u001b[1;36m7\u001b[0m  Nibble \u001b[1;36m0\u001b[0m  -   Left Margin:   \u001b[1;36m129\u001b[0m  \u001b[1m(\u001b[0m \u001b[1;36m63\u001b[0m \u001b[1m)\u001b[0m  Center Point:   \u001b[1;36m183\u001b[0m  \u001b[1m(\u001b[0m \u001b[1;36m89\u001b[0m \u001b[1m)\u001b[0m  Right Margin:   \u001b[1;36m131\u001b[0m  \u001b[1m(\u001b[0m \u001b[1;36m64\u001b[0m \u001b[1m)\u001b[0m\n"
      ]
     },
     "metadata": {},
     "output_type": "display_data"
    },
    {
     "data": {
      "text/html": [
       "<pre style=\"white-space:pre;overflow-x:auto;line-height:normal;font-family:Menlo,'DejaVu Sans Mono',consolas,'Courier New',monospace\">Byte  <span style=\"color: #008080; text-decoration-color: #008080; font-weight: bold\">7</span>  Nibble <span style=\"color: #008080; text-decoration-color: #008080; font-weight: bold\">1</span>  -   Left Margin:   <span style=\"color: #008080; text-decoration-color: #008080; font-weight: bold\">133</span>  <span style=\"font-weight: bold\">(</span> <span style=\"color: #008080; text-decoration-color: #008080; font-weight: bold\">65</span> <span style=\"font-weight: bold\">)</span>  Center Point:   <span style=\"color: #008080; text-decoration-color: #008080; font-weight: bold\">179</span>  <span style=\"font-weight: bold\">(</span> <span style=\"color: #008080; text-decoration-color: #008080; font-weight: bold\">87</span> <span style=\"font-weight: bold\">)</span>  Right Margin:   <span style=\"color: #008080; text-decoration-color: #008080; font-weight: bold\">133</span>  <span style=\"font-weight: bold\">(</span> <span style=\"color: #008080; text-decoration-color: #008080; font-weight: bold\">65</span> <span style=\"font-weight: bold\">)</span>\n",
       "</pre>\n"
      ],
      "text/plain": [
       "Byte  \u001b[1;36m7\u001b[0m  Nibble \u001b[1;36m1\u001b[0m  -   Left Margin:   \u001b[1;36m133\u001b[0m  \u001b[1m(\u001b[0m \u001b[1;36m65\u001b[0m \u001b[1m)\u001b[0m  Center Point:   \u001b[1;36m179\u001b[0m  \u001b[1m(\u001b[0m \u001b[1;36m87\u001b[0m \u001b[1m)\u001b[0m  Right Margin:   \u001b[1;36m133\u001b[0m  \u001b[1m(\u001b[0m \u001b[1;36m65\u001b[0m \u001b[1m)\u001b[0m\n"
      ]
     },
     "metadata": {},
     "output_type": "display_data"
    },
    {
     "data": {
      "text/html": [
       "<pre style=\"white-space:pre;overflow-x:auto;line-height:normal;font-family:Menlo,'DejaVu Sans Mono',consolas,'Courier New',monospace\">\n",
       " Frequency <span style=\"color: #008080; text-decoration-color: #008080; font-weight: bold\">0</span>  - Read Margin - Complex Pattern - Falling Edge Clock in pS and <span style=\"font-weight: bold\">(</span>delay taps<span style=\"font-weight: bold\">)</span>:\n",
       "\n",
       "</pre>\n"
      ],
      "text/plain": [
       "\n",
       " Frequency \u001b[1;36m0\u001b[0m  - Read Margin - Complex Pattern - Falling Edge Clock in pS and \u001b[1m(\u001b[0mdelay taps\u001b[1m)\u001b[0m:\n",
       "\n"
      ]
     },
     "metadata": {},
     "output_type": "display_data"
    },
    {
     "data": {
      "text/html": [
       "<pre style=\"white-space:pre;overflow-x:auto;line-height:normal;font-family:Menlo,'DejaVu Sans Mono',consolas,'Courier New',monospace\">Byte  <span style=\"color: #008080; text-decoration-color: #008080; font-weight: bold\">0</span>  Nibble <span style=\"color: #008080; text-decoration-color: #008080; font-weight: bold\">0</span>  -   Left Margin:   <span style=\"color: #008080; text-decoration-color: #008080; font-weight: bold\">127</span>  <span style=\"font-weight: bold\">(</span> <span style=\"color: #008080; text-decoration-color: #008080; font-weight: bold\">62</span> <span style=\"font-weight: bold\">)</span>  Center Point:   <span style=\"color: #008080; text-decoration-color: #008080; font-weight: bold\">179</span>  <span style=\"font-weight: bold\">(</span> <span style=\"color: #008080; text-decoration-color: #008080; font-weight: bold\">87</span> <span style=\"font-weight: bold\">)</span>  Right Margin:   <span style=\"color: #008080; text-decoration-color: #008080; font-weight: bold\">129</span>  <span style=\"font-weight: bold\">(</span> <span style=\"color: #008080; text-decoration-color: #008080; font-weight: bold\">63</span> <span style=\"font-weight: bold\">)</span>\n",
       "</pre>\n"
      ],
      "text/plain": [
       "Byte  \u001b[1;36m0\u001b[0m  Nibble \u001b[1;36m0\u001b[0m  -   Left Margin:   \u001b[1;36m127\u001b[0m  \u001b[1m(\u001b[0m \u001b[1;36m62\u001b[0m \u001b[1m)\u001b[0m  Center Point:   \u001b[1;36m179\u001b[0m  \u001b[1m(\u001b[0m \u001b[1;36m87\u001b[0m \u001b[1m)\u001b[0m  Right Margin:   \u001b[1;36m129\u001b[0m  \u001b[1m(\u001b[0m \u001b[1;36m63\u001b[0m \u001b[1m)\u001b[0m\n"
      ]
     },
     "metadata": {},
     "output_type": "display_data"
    },
    {
     "data": {
      "text/html": [
       "<pre style=\"white-space:pre;overflow-x:auto;line-height:normal;font-family:Menlo,'DejaVu Sans Mono',consolas,'Courier New',monospace\">Byte  <span style=\"color: #008080; text-decoration-color: #008080; font-weight: bold\">0</span>  Nibble <span style=\"color: #008080; text-decoration-color: #008080; font-weight: bold\">1</span>  -   Left Margin:   <span style=\"color: #008080; text-decoration-color: #008080; font-weight: bold\">130</span>  <span style=\"font-weight: bold\">(</span> <span style=\"color: #008080; text-decoration-color: #008080; font-weight: bold\">62</span> <span style=\"font-weight: bold\">)</span>  Center Point:   <span style=\"color: #008080; text-decoration-color: #008080; font-weight: bold\">186</span>  <span style=\"font-weight: bold\">(</span> <span style=\"color: #008080; text-decoration-color: #008080; font-weight: bold\">88</span> <span style=\"font-weight: bold\">)</span>  Right Margin:   <span style=\"color: #008080; text-decoration-color: #008080; font-weight: bold\">130</span>  <span style=\"font-weight: bold\">(</span> <span style=\"color: #008080; text-decoration-color: #008080; font-weight: bold\">62</span> <span style=\"font-weight: bold\">)</span>\n",
       "</pre>\n"
      ],
      "text/plain": [
       "Byte  \u001b[1;36m0\u001b[0m  Nibble \u001b[1;36m1\u001b[0m  -   Left Margin:   \u001b[1;36m130\u001b[0m  \u001b[1m(\u001b[0m \u001b[1;36m62\u001b[0m \u001b[1m)\u001b[0m  Center Point:   \u001b[1;36m186\u001b[0m  \u001b[1m(\u001b[0m \u001b[1;36m88\u001b[0m \u001b[1m)\u001b[0m  Right Margin:   \u001b[1;36m130\u001b[0m  \u001b[1m(\u001b[0m \u001b[1;36m62\u001b[0m \u001b[1m)\u001b[0m\n"
      ]
     },
     "metadata": {},
     "output_type": "display_data"
    },
    {
     "data": {
      "text/html": [
       "<pre style=\"white-space:pre;overflow-x:auto;line-height:normal;font-family:Menlo,'DejaVu Sans Mono',consolas,'Courier New',monospace\">Byte  <span style=\"color: #008080; text-decoration-color: #008080; font-weight: bold\">1</span>  Nibble <span style=\"color: #008080; text-decoration-color: #008080; font-weight: bold\">0</span>  -   Left Margin:   <span style=\"color: #008080; text-decoration-color: #008080; font-weight: bold\">111</span>  <span style=\"font-weight: bold\">(</span> <span style=\"color: #008080; text-decoration-color: #008080; font-weight: bold\">55</span> <span style=\"font-weight: bold\">)</span>  Center Point:   <span style=\"color: #008080; text-decoration-color: #008080; font-weight: bold\">177</span>  <span style=\"font-weight: bold\">(</span> <span style=\"color: #008080; text-decoration-color: #008080; font-weight: bold\">87</span> <span style=\"font-weight: bold\">)</span>  Right Margin:   <span style=\"color: #008080; text-decoration-color: #008080; font-weight: bold\">113</span>  <span style=\"font-weight: bold\">(</span> <span style=\"color: #008080; text-decoration-color: #008080; font-weight: bold\">56</span> <span style=\"font-weight: bold\">)</span>\n",
       "</pre>\n"
      ],
      "text/plain": [
       "Byte  \u001b[1;36m1\u001b[0m  Nibble \u001b[1;36m0\u001b[0m  -   Left Margin:   \u001b[1;36m111\u001b[0m  \u001b[1m(\u001b[0m \u001b[1;36m55\u001b[0m \u001b[1m)\u001b[0m  Center Point:   \u001b[1;36m177\u001b[0m  \u001b[1m(\u001b[0m \u001b[1;36m87\u001b[0m \u001b[1m)\u001b[0m  Right Margin:   \u001b[1;36m113\u001b[0m  \u001b[1m(\u001b[0m \u001b[1;36m56\u001b[0m \u001b[1m)\u001b[0m\n"
      ]
     },
     "metadata": {},
     "output_type": "display_data"
    },
    {
     "data": {
      "text/html": [
       "<pre style=\"white-space:pre;overflow-x:auto;line-height:normal;font-family:Menlo,'DejaVu Sans Mono',consolas,'Courier New',monospace\">Byte  <span style=\"color: #008080; text-decoration-color: #008080; font-weight: bold\">1</span>  Nibble <span style=\"color: #008080; text-decoration-color: #008080; font-weight: bold\">1</span>  -   Left Margin:   <span style=\"color: #008080; text-decoration-color: #008080; font-weight: bold\">115</span>  <span style=\"font-weight: bold\">(</span> <span style=\"color: #008080; text-decoration-color: #008080; font-weight: bold\">57</span> <span style=\"font-weight: bold\">)</span>  Center Point:   <span style=\"color: #008080; text-decoration-color: #008080; font-weight: bold\">166</span>  <span style=\"font-weight: bold\">(</span> <span style=\"color: #008080; text-decoration-color: #008080; font-weight: bold\">82</span> <span style=\"font-weight: bold\">)</span>  Right Margin:   <span style=\"color: #008080; text-decoration-color: #008080; font-weight: bold\">117</span>  <span style=\"font-weight: bold\">(</span> <span style=\"color: #008080; text-decoration-color: #008080; font-weight: bold\">58</span> <span style=\"font-weight: bold\">)</span>\n",
       "</pre>\n"
      ],
      "text/plain": [
       "Byte  \u001b[1;36m1\u001b[0m  Nibble \u001b[1;36m1\u001b[0m  -   Left Margin:   \u001b[1;36m115\u001b[0m  \u001b[1m(\u001b[0m \u001b[1;36m57\u001b[0m \u001b[1m)\u001b[0m  Center Point:   \u001b[1;36m166\u001b[0m  \u001b[1m(\u001b[0m \u001b[1;36m82\u001b[0m \u001b[1m)\u001b[0m  Right Margin:   \u001b[1;36m117\u001b[0m  \u001b[1m(\u001b[0m \u001b[1;36m58\u001b[0m \u001b[1m)\u001b[0m\n"
      ]
     },
     "metadata": {},
     "output_type": "display_data"
    },
    {
     "data": {
      "text/html": [
       "<pre style=\"white-space:pre;overflow-x:auto;line-height:normal;font-family:Menlo,'DejaVu Sans Mono',consolas,'Courier New',monospace\">Byte  <span style=\"color: #008080; text-decoration-color: #008080; font-weight: bold\">2</span>  Nibble <span style=\"color: #008080; text-decoration-color: #008080; font-weight: bold\">0</span>  -   Left Margin:   <span style=\"color: #008080; text-decoration-color: #008080; font-weight: bold\">116</span>  <span style=\"font-weight: bold\">(</span> <span style=\"color: #008080; text-decoration-color: #008080; font-weight: bold\">58</span> <span style=\"font-weight: bold\">)</span>  Center Point:   <span style=\"color: #008080; text-decoration-color: #008080; font-weight: bold\">182</span>  <span style=\"font-weight: bold\">(</span> <span style=\"color: #008080; text-decoration-color: #008080; font-weight: bold\">91</span> <span style=\"font-weight: bold\">)</span>  Right Margin:   <span style=\"color: #008080; text-decoration-color: #008080; font-weight: bold\">116</span>  <span style=\"font-weight: bold\">(</span> <span style=\"color: #008080; text-decoration-color: #008080; font-weight: bold\">58</span> <span style=\"font-weight: bold\">)</span>\n",
       "</pre>\n"
      ],
      "text/plain": [
       "Byte  \u001b[1;36m2\u001b[0m  Nibble \u001b[1;36m0\u001b[0m  -   Left Margin:   \u001b[1;36m116\u001b[0m  \u001b[1m(\u001b[0m \u001b[1;36m58\u001b[0m \u001b[1m)\u001b[0m  Center Point:   \u001b[1;36m182\u001b[0m  \u001b[1m(\u001b[0m \u001b[1;36m91\u001b[0m \u001b[1m)\u001b[0m  Right Margin:   \u001b[1;36m116\u001b[0m  \u001b[1m(\u001b[0m \u001b[1;36m58\u001b[0m \u001b[1m)\u001b[0m\n"
      ]
     },
     "metadata": {},
     "output_type": "display_data"
    },
    {
     "data": {
      "text/html": [
       "<pre style=\"white-space:pre;overflow-x:auto;line-height:normal;font-family:Menlo,'DejaVu Sans Mono',consolas,'Courier New',monospace\">Byte  <span style=\"color: #008080; text-decoration-color: #008080; font-weight: bold\">2</span>  Nibble <span style=\"color: #008080; text-decoration-color: #008080; font-weight: bold\">1</span>  -   Left Margin:   <span style=\"color: #008080; text-decoration-color: #008080; font-weight: bold\">116</span>  <span style=\"font-weight: bold\">(</span> <span style=\"color: #008080; text-decoration-color: #008080; font-weight: bold\">55</span> <span style=\"font-weight: bold\">)</span>  Center Point:   <span style=\"color: #008080; text-decoration-color: #008080; font-weight: bold\">188</span>  <span style=\"font-weight: bold\">(</span> <span style=\"color: #008080; text-decoration-color: #008080; font-weight: bold\">89</span> <span style=\"font-weight: bold\">)</span>  Right Margin:   <span style=\"color: #008080; text-decoration-color: #008080; font-weight: bold\">116</span>  <span style=\"font-weight: bold\">(</span> <span style=\"color: #008080; text-decoration-color: #008080; font-weight: bold\">55</span> <span style=\"font-weight: bold\">)</span>\n",
       "</pre>\n"
      ],
      "text/plain": [
       "Byte  \u001b[1;36m2\u001b[0m  Nibble \u001b[1;36m1\u001b[0m  -   Left Margin:   \u001b[1;36m116\u001b[0m  \u001b[1m(\u001b[0m \u001b[1;36m55\u001b[0m \u001b[1m)\u001b[0m  Center Point:   \u001b[1;36m188\u001b[0m  \u001b[1m(\u001b[0m \u001b[1;36m89\u001b[0m \u001b[1m)\u001b[0m  Right Margin:   \u001b[1;36m116\u001b[0m  \u001b[1m(\u001b[0m \u001b[1;36m55\u001b[0m \u001b[1m)\u001b[0m\n"
      ]
     },
     "metadata": {},
     "output_type": "display_data"
    },
    {
     "data": {
      "text/html": [
       "<pre style=\"white-space:pre;overflow-x:auto;line-height:normal;font-family:Menlo,'DejaVu Sans Mono',consolas,'Courier New',monospace\">Byte  <span style=\"color: #008080; text-decoration-color: #008080; font-weight: bold\">3</span>  Nibble <span style=\"color: #008080; text-decoration-color: #008080; font-weight: bold\">0</span>  -   Left Margin:   <span style=\"color: #008080; text-decoration-color: #008080; font-weight: bold\">115</span>  <span style=\"font-weight: bold\">(</span> <span style=\"color: #008080; text-decoration-color: #008080; font-weight: bold\">57</span> <span style=\"font-weight: bold\">)</span>  Center Point:   <span style=\"color: #008080; text-decoration-color: #008080; font-weight: bold\">172</span>  <span style=\"font-weight: bold\">(</span> <span style=\"color: #008080; text-decoration-color: #008080; font-weight: bold\">85</span> <span style=\"font-weight: bold\">)</span>  Right Margin:   <span style=\"color: #008080; text-decoration-color: #008080; font-weight: bold\">117</span>  <span style=\"font-weight: bold\">(</span> <span style=\"color: #008080; text-decoration-color: #008080; font-weight: bold\">58</span> <span style=\"font-weight: bold\">)</span>\n",
       "</pre>\n"
      ],
      "text/plain": [
       "Byte  \u001b[1;36m3\u001b[0m  Nibble \u001b[1;36m0\u001b[0m  -   Left Margin:   \u001b[1;36m115\u001b[0m  \u001b[1m(\u001b[0m \u001b[1;36m57\u001b[0m \u001b[1m)\u001b[0m  Center Point:   \u001b[1;36m172\u001b[0m  \u001b[1m(\u001b[0m \u001b[1;36m85\u001b[0m \u001b[1m)\u001b[0m  Right Margin:   \u001b[1;36m117\u001b[0m  \u001b[1m(\u001b[0m \u001b[1;36m58\u001b[0m \u001b[1m)\u001b[0m\n"
      ]
     },
     "metadata": {},
     "output_type": "display_data"
    },
    {
     "data": {
      "text/html": [
       "<pre style=\"white-space:pre;overflow-x:auto;line-height:normal;font-family:Menlo,'DejaVu Sans Mono',consolas,'Courier New',monospace\">Byte  <span style=\"color: #008080; text-decoration-color: #008080; font-weight: bold\">3</span>  Nibble <span style=\"color: #008080; text-decoration-color: #008080; font-weight: bold\">1</span>  -   Left Margin:   <span style=\"color: #008080; text-decoration-color: #008080; font-weight: bold\">114</span>  <span style=\"font-weight: bold\">(</span> <span style=\"color: #008080; text-decoration-color: #008080; font-weight: bold\">57</span> <span style=\"font-weight: bold\">)</span>  Center Point:   <span style=\"color: #008080; text-decoration-color: #008080; font-weight: bold\">170</span>  <span style=\"font-weight: bold\">(</span> <span style=\"color: #008080; text-decoration-color: #008080; font-weight: bold\">85</span> <span style=\"font-weight: bold\">)</span>  Right Margin:   <span style=\"color: #008080; text-decoration-color: #008080; font-weight: bold\">114</span>  <span style=\"font-weight: bold\">(</span> <span style=\"color: #008080; text-decoration-color: #008080; font-weight: bold\">57</span> <span style=\"font-weight: bold\">)</span>\n",
       "</pre>\n"
      ],
      "text/plain": [
       "Byte  \u001b[1;36m3\u001b[0m  Nibble \u001b[1;36m1\u001b[0m  -   Left Margin:   \u001b[1;36m114\u001b[0m  \u001b[1m(\u001b[0m \u001b[1;36m57\u001b[0m \u001b[1m)\u001b[0m  Center Point:   \u001b[1;36m170\u001b[0m  \u001b[1m(\u001b[0m \u001b[1;36m85\u001b[0m \u001b[1m)\u001b[0m  Right Margin:   \u001b[1;36m114\u001b[0m  \u001b[1m(\u001b[0m \u001b[1;36m57\u001b[0m \u001b[1m)\u001b[0m\n"
      ]
     },
     "metadata": {},
     "output_type": "display_data"
    },
    {
     "data": {
      "text/html": [
       "<pre style=\"white-space:pre;overflow-x:auto;line-height:normal;font-family:Menlo,'DejaVu Sans Mono',consolas,'Courier New',monospace\">Byte  <span style=\"color: #008080; text-decoration-color: #008080; font-weight: bold\">4</span>  Nibble <span style=\"color: #008080; text-decoration-color: #008080; font-weight: bold\">0</span>  -   Left Margin:   <span style=\"color: #008080; text-decoration-color: #008080; font-weight: bold\">119</span>  <span style=\"font-weight: bold\">(</span> <span style=\"color: #008080; text-decoration-color: #008080; font-weight: bold\">58</span> <span style=\"font-weight: bold\">)</span>  Center Point:   <span style=\"color: #008080; text-decoration-color: #008080; font-weight: bold\">175</span>  <span style=\"font-weight: bold\">(</span> <span style=\"color: #008080; text-decoration-color: #008080; font-weight: bold\">85</span> <span style=\"font-weight: bold\">)</span>  Right Margin:   <span style=\"color: #008080; text-decoration-color: #008080; font-weight: bold\">119</span>  <span style=\"font-weight: bold\">(</span> <span style=\"color: #008080; text-decoration-color: #008080; font-weight: bold\">58</span> <span style=\"font-weight: bold\">)</span>\n",
       "</pre>\n"
      ],
      "text/plain": [
       "Byte  \u001b[1;36m4\u001b[0m  Nibble \u001b[1;36m0\u001b[0m  -   Left Margin:   \u001b[1;36m119\u001b[0m  \u001b[1m(\u001b[0m \u001b[1;36m58\u001b[0m \u001b[1m)\u001b[0m  Center Point:   \u001b[1;36m175\u001b[0m  \u001b[1m(\u001b[0m \u001b[1;36m85\u001b[0m \u001b[1m)\u001b[0m  Right Margin:   \u001b[1;36m119\u001b[0m  \u001b[1m(\u001b[0m \u001b[1;36m58\u001b[0m \u001b[1m)\u001b[0m\n"
      ]
     },
     "metadata": {},
     "output_type": "display_data"
    },
    {
     "data": {
      "text/html": [
       "<pre style=\"white-space:pre;overflow-x:auto;line-height:normal;font-family:Menlo,'DejaVu Sans Mono',consolas,'Courier New',monospace\">Byte  <span style=\"color: #008080; text-decoration-color: #008080; font-weight: bold\">4</span>  Nibble <span style=\"color: #008080; text-decoration-color: #008080; font-weight: bold\">1</span>  -   Left Margin:   <span style=\"color: #008080; text-decoration-color: #008080; font-weight: bold\">120</span>  <span style=\"font-weight: bold\">(</span> <span style=\"color: #008080; text-decoration-color: #008080; font-weight: bold\">58</span> <span style=\"font-weight: bold\">)</span>  Center Point:   <span style=\"color: #008080; text-decoration-color: #008080; font-weight: bold\">177</span>  <span style=\"font-weight: bold\">(</span> <span style=\"color: #008080; text-decoration-color: #008080; font-weight: bold\">85</span> <span style=\"font-weight: bold\">)</span>  Right Margin:   <span style=\"color: #008080; text-decoration-color: #008080; font-weight: bold\">120</span>  <span style=\"font-weight: bold\">(</span> <span style=\"color: #008080; text-decoration-color: #008080; font-weight: bold\">58</span> <span style=\"font-weight: bold\">)</span>\n",
       "</pre>\n"
      ],
      "text/plain": [
       "Byte  \u001b[1;36m4\u001b[0m  Nibble \u001b[1;36m1\u001b[0m  -   Left Margin:   \u001b[1;36m120\u001b[0m  \u001b[1m(\u001b[0m \u001b[1;36m58\u001b[0m \u001b[1m)\u001b[0m  Center Point:   \u001b[1;36m177\u001b[0m  \u001b[1m(\u001b[0m \u001b[1;36m85\u001b[0m \u001b[1m)\u001b[0m  Right Margin:   \u001b[1;36m120\u001b[0m  \u001b[1m(\u001b[0m \u001b[1;36m58\u001b[0m \u001b[1m)\u001b[0m\n"
      ]
     },
     "metadata": {},
     "output_type": "display_data"
    },
    {
     "data": {
      "text/html": [
       "<pre style=\"white-space:pre;overflow-x:auto;line-height:normal;font-family:Menlo,'DejaVu Sans Mono',consolas,'Courier New',monospace\">Byte  <span style=\"color: #008080; text-decoration-color: #008080; font-weight: bold\">5</span>  Nibble <span style=\"color: #008080; text-decoration-color: #008080; font-weight: bold\">0</span>  -   Left Margin:   <span style=\"color: #008080; text-decoration-color: #008080; font-weight: bold\">111</span>  <span style=\"font-weight: bold\">(</span> <span style=\"color: #008080; text-decoration-color: #008080; font-weight: bold\">57</span> <span style=\"font-weight: bold\">)</span>  Center Point:   <span style=\"color: #008080; text-decoration-color: #008080; font-weight: bold\">172</span>  <span style=\"font-weight: bold\">(</span> <span style=\"color: #008080; text-decoration-color: #008080; font-weight: bold\">88</span> <span style=\"font-weight: bold\">)</span>  Right Margin:   <span style=\"color: #008080; text-decoration-color: #008080; font-weight: bold\">113</span>  <span style=\"font-weight: bold\">(</span> <span style=\"color: #008080; text-decoration-color: #008080; font-weight: bold\">58</span> <span style=\"font-weight: bold\">)</span>\n",
       "</pre>\n"
      ],
      "text/plain": [
       "Byte  \u001b[1;36m5\u001b[0m  Nibble \u001b[1;36m0\u001b[0m  -   Left Margin:   \u001b[1;36m111\u001b[0m  \u001b[1m(\u001b[0m \u001b[1;36m57\u001b[0m \u001b[1m)\u001b[0m  Center Point:   \u001b[1;36m172\u001b[0m  \u001b[1m(\u001b[0m \u001b[1;36m88\u001b[0m \u001b[1m)\u001b[0m  Right Margin:   \u001b[1;36m113\u001b[0m  \u001b[1m(\u001b[0m \u001b[1;36m58\u001b[0m \u001b[1m)\u001b[0m\n"
      ]
     },
     "metadata": {},
     "output_type": "display_data"
    },
    {
     "data": {
      "text/html": [
       "<pre style=\"white-space:pre;overflow-x:auto;line-height:normal;font-family:Menlo,'DejaVu Sans Mono',consolas,'Courier New',monospace\">Byte  <span style=\"color: #008080; text-decoration-color: #008080; font-weight: bold\">5</span>  Nibble <span style=\"color: #008080; text-decoration-color: #008080; font-weight: bold\">1</span>  -   Left Margin:   <span style=\"color: #008080; text-decoration-color: #008080; font-weight: bold\">119</span>  <span style=\"font-weight: bold\">(</span> <span style=\"color: #008080; text-decoration-color: #008080; font-weight: bold\">58</span> <span style=\"font-weight: bold\">)</span>  Center Point:   <span style=\"color: #008080; text-decoration-color: #008080; font-weight: bold\">181</span>  <span style=\"font-weight: bold\">(</span> <span style=\"color: #008080; text-decoration-color: #008080; font-weight: bold\">88</span> <span style=\"font-weight: bold\">)</span>  Right Margin:   <span style=\"color: #008080; text-decoration-color: #008080; font-weight: bold\">121</span>  <span style=\"font-weight: bold\">(</span> <span style=\"color: #008080; text-decoration-color: #008080; font-weight: bold\">59</span> <span style=\"font-weight: bold\">)</span>\n",
       "</pre>\n"
      ],
      "text/plain": [
       "Byte  \u001b[1;36m5\u001b[0m  Nibble \u001b[1;36m1\u001b[0m  -   Left Margin:   \u001b[1;36m119\u001b[0m  \u001b[1m(\u001b[0m \u001b[1;36m58\u001b[0m \u001b[1m)\u001b[0m  Center Point:   \u001b[1;36m181\u001b[0m  \u001b[1m(\u001b[0m \u001b[1;36m88\u001b[0m \u001b[1m)\u001b[0m  Right Margin:   \u001b[1;36m121\u001b[0m  \u001b[1m(\u001b[0m \u001b[1;36m59\u001b[0m \u001b[1m)\u001b[0m\n"
      ]
     },
     "metadata": {},
     "output_type": "display_data"
    },
    {
     "data": {
      "text/html": [
       "<pre style=\"white-space:pre;overflow-x:auto;line-height:normal;font-family:Menlo,'DejaVu Sans Mono',consolas,'Courier New',monospace\">Byte  <span style=\"color: #008080; text-decoration-color: #008080; font-weight: bold\">6</span>  Nibble <span style=\"color: #008080; text-decoration-color: #008080; font-weight: bold\">0</span>  -   Left Margin:   <span style=\"color: #008080; text-decoration-color: #008080; font-weight: bold\">121</span>  <span style=\"font-weight: bold\">(</span> <span style=\"color: #008080; text-decoration-color: #008080; font-weight: bold\">59</span> <span style=\"font-weight: bold\">)</span>  Center Point:   <span style=\"color: #008080; text-decoration-color: #008080; font-weight: bold\">173</span>  <span style=\"font-weight: bold\">(</span> <span style=\"color: #008080; text-decoration-color: #008080; font-weight: bold\">84</span> <span style=\"font-weight: bold\">)</span>  Right Margin:   <span style=\"color: #008080; text-decoration-color: #008080; font-weight: bold\">121</span>  <span style=\"font-weight: bold\">(</span> <span style=\"color: #008080; text-decoration-color: #008080; font-weight: bold\">59</span> <span style=\"font-weight: bold\">)</span>\n",
       "</pre>\n"
      ],
      "text/plain": [
       "Byte  \u001b[1;36m6\u001b[0m  Nibble \u001b[1;36m0\u001b[0m  -   Left Margin:   \u001b[1;36m121\u001b[0m  \u001b[1m(\u001b[0m \u001b[1;36m59\u001b[0m \u001b[1m)\u001b[0m  Center Point:   \u001b[1;36m173\u001b[0m  \u001b[1m(\u001b[0m \u001b[1;36m84\u001b[0m \u001b[1m)\u001b[0m  Right Margin:   \u001b[1;36m121\u001b[0m  \u001b[1m(\u001b[0m \u001b[1;36m59\u001b[0m \u001b[1m)\u001b[0m\n"
      ]
     },
     "metadata": {},
     "output_type": "display_data"
    },
    {
     "data": {
      "text/html": [
       "<pre style=\"white-space:pre;overflow-x:auto;line-height:normal;font-family:Menlo,'DejaVu Sans Mono',consolas,'Courier New',monospace\">Byte  <span style=\"color: #008080; text-decoration-color: #008080; font-weight: bold\">6</span>  Nibble <span style=\"color: #008080; text-decoration-color: #008080; font-weight: bold\">1</span>  -   Left Margin:   <span style=\"color: #008080; text-decoration-color: #008080; font-weight: bold\">123</span>  <span style=\"font-weight: bold\">(</span> <span style=\"color: #008080; text-decoration-color: #008080; font-weight: bold\">60</span> <span style=\"font-weight: bold\">)</span>  Center Point:   <span style=\"color: #008080; text-decoration-color: #008080; font-weight: bold\">179</span>  <span style=\"font-weight: bold\">(</span> <span style=\"color: #008080; text-decoration-color: #008080; font-weight: bold\">87</span> <span style=\"font-weight: bold\">)</span>  Right Margin:   <span style=\"color: #008080; text-decoration-color: #008080; font-weight: bold\">123</span>  <span style=\"font-weight: bold\">(</span> <span style=\"color: #008080; text-decoration-color: #008080; font-weight: bold\">60</span> <span style=\"font-weight: bold\">)</span>\n",
       "</pre>\n"
      ],
      "text/plain": [
       "Byte  \u001b[1;36m6\u001b[0m  Nibble \u001b[1;36m1\u001b[0m  -   Left Margin:   \u001b[1;36m123\u001b[0m  \u001b[1m(\u001b[0m \u001b[1;36m60\u001b[0m \u001b[1m)\u001b[0m  Center Point:   \u001b[1;36m179\u001b[0m  \u001b[1m(\u001b[0m \u001b[1;36m87\u001b[0m \u001b[1m)\u001b[0m  Right Margin:   \u001b[1;36m123\u001b[0m  \u001b[1m(\u001b[0m \u001b[1;36m60\u001b[0m \u001b[1m)\u001b[0m\n"
      ]
     },
     "metadata": {},
     "output_type": "display_data"
    },
    {
     "data": {
      "text/html": [
       "<pre style=\"white-space:pre;overflow-x:auto;line-height:normal;font-family:Menlo,'DejaVu Sans Mono',consolas,'Courier New',monospace\">Byte  <span style=\"color: #008080; text-decoration-color: #008080; font-weight: bold\">7</span>  Nibble <span style=\"color: #008080; text-decoration-color: #008080; font-weight: bold\">0</span>  -   Left Margin:   <span style=\"color: #008080; text-decoration-color: #008080; font-weight: bold\">125</span>  <span style=\"font-weight: bold\">(</span> <span style=\"color: #008080; text-decoration-color: #008080; font-weight: bold\">61</span> <span style=\"font-weight: bold\">)</span>  Center Point:   <span style=\"color: #008080; text-decoration-color: #008080; font-weight: bold\">185</span>  <span style=\"font-weight: bold\">(</span> <span style=\"color: #008080; text-decoration-color: #008080; font-weight: bold\">90</span> <span style=\"font-weight: bold\">)</span>  Right Margin:   <span style=\"color: #008080; text-decoration-color: #008080; font-weight: bold\">127</span>  <span style=\"font-weight: bold\">(</span> <span style=\"color: #008080; text-decoration-color: #008080; font-weight: bold\">62</span> <span style=\"font-weight: bold\">)</span>\n",
       "</pre>\n"
      ],
      "text/plain": [
       "Byte  \u001b[1;36m7\u001b[0m  Nibble \u001b[1;36m0\u001b[0m  -   Left Margin:   \u001b[1;36m125\u001b[0m  \u001b[1m(\u001b[0m \u001b[1;36m61\u001b[0m \u001b[1m)\u001b[0m  Center Point:   \u001b[1;36m185\u001b[0m  \u001b[1m(\u001b[0m \u001b[1;36m90\u001b[0m \u001b[1m)\u001b[0m  Right Margin:   \u001b[1;36m127\u001b[0m  \u001b[1m(\u001b[0m \u001b[1;36m62\u001b[0m \u001b[1m)\u001b[0m\n"
      ]
     },
     "metadata": {},
     "output_type": "display_data"
    },
    {
     "data": {
      "text/html": [
       "<pre style=\"white-space:pre;overflow-x:auto;line-height:normal;font-family:Menlo,'DejaVu Sans Mono',consolas,'Courier New',monospace\">Byte  <span style=\"color: #008080; text-decoration-color: #008080; font-weight: bold\">7</span>  Nibble <span style=\"color: #008080; text-decoration-color: #008080; font-weight: bold\">1</span>  -   Left Margin:   <span style=\"color: #008080; text-decoration-color: #008080; font-weight: bold\">127</span>  <span style=\"font-weight: bold\">(</span> <span style=\"color: #008080; text-decoration-color: #008080; font-weight: bold\">61</span> <span style=\"font-weight: bold\">)</span>  Center Point:   <span style=\"color: #008080; text-decoration-color: #008080; font-weight: bold\">181</span>  <span style=\"font-weight: bold\">(</span> <span style=\"color: #008080; text-decoration-color: #008080; font-weight: bold\">87</span> <span style=\"font-weight: bold\">)</span>  Right Margin:   <span style=\"color: #008080; text-decoration-color: #008080; font-weight: bold\">127</span>  <span style=\"font-weight: bold\">(</span> <span style=\"color: #008080; text-decoration-color: #008080; font-weight: bold\">61</span> <span style=\"font-weight: bold\">)</span>\n",
       "</pre>\n"
      ],
      "text/plain": [
       "Byte  \u001b[1;36m7\u001b[0m  Nibble \u001b[1;36m1\u001b[0m  -   Left Margin:   \u001b[1;36m127\u001b[0m  \u001b[1m(\u001b[0m \u001b[1;36m61\u001b[0m \u001b[1m)\u001b[0m  Center Point:   \u001b[1;36m181\u001b[0m  \u001b[1m(\u001b[0m \u001b[1;36m87\u001b[0m \u001b[1m)\u001b[0m  Right Margin:   \u001b[1;36m127\u001b[0m  \u001b[1m(\u001b[0m \u001b[1;36m61\u001b[0m \u001b[1m)\u001b[0m\n"
      ]
     },
     "metadata": {},
     "output_type": "display_data"
    },
    {
     "data": {
      "text/html": [
       "<pre style=\"white-space:pre;overflow-x:auto;line-height:normal;font-family:Menlo,'DejaVu Sans Mono',consolas,'Courier New',monospace\">\n",
       " Frequency <span style=\"color: #008080; text-decoration-color: #008080; font-weight: bold\">0</span>  - Write Margin - Simple Pattern - Calibration Window in pS and <span style=\"font-weight: bold\">(</span>delay taps<span style=\"font-weight: bold\">)</span>:\n",
       "\n",
       "</pre>\n"
      ],
      "text/plain": [
       "\n",
       " Frequency \u001b[1;36m0\u001b[0m  - Write Margin - Simple Pattern - Calibration Window in pS and \u001b[1m(\u001b[0mdelay taps\u001b[1m)\u001b[0m:\n",
       "\n"
      ]
     },
     "metadata": {},
     "output_type": "display_data"
    },
    {
     "data": {
      "text/html": [
       "<pre style=\"white-space:pre;overflow-x:auto;line-height:normal;font-family:Menlo,'DejaVu Sans Mono',consolas,'Courier New',monospace\">Byte  <span style=\"color: #008080; text-decoration-color: #008080; font-weight: bold\">0</span>   -  Left Margin:   <span style=\"color: #008080; text-decoration-color: #008080; font-weight: bold\">165</span>  <span style=\"font-weight: bold\">(</span> <span style=\"color: #008080; text-decoration-color: #008080; font-weight: bold\">80</span> <span style=\"font-weight: bold\">)</span>  Center Point:   <span style=\"color: #008080; text-decoration-color: #008080; font-weight: bold\">451</span>  <span style=\"font-weight: bold\">(</span> <span style=\"color: #008080; text-decoration-color: #008080; font-weight: bold\">218</span> <span style=\"font-weight: bold\">)</span>  Right Margin:   <span style=\"color: #008080; text-decoration-color: #008080; font-weight: bold\">144</span>  <span style=\"font-weight: bold\">(</span> <span style=\"color: #008080; text-decoration-color: #008080; font-weight: bold\">70</span> <span style=\"font-weight: bold\">)</span>\n",
       "</pre>\n"
      ],
      "text/plain": [
       "Byte  \u001b[1;36m0\u001b[0m   -  Left Margin:   \u001b[1;36m165\u001b[0m  \u001b[1m(\u001b[0m \u001b[1;36m80\u001b[0m \u001b[1m)\u001b[0m  Center Point:   \u001b[1;36m451\u001b[0m  \u001b[1m(\u001b[0m \u001b[1;36m218\u001b[0m \u001b[1m)\u001b[0m  Right Margin:   \u001b[1;36m144\u001b[0m  \u001b[1m(\u001b[0m \u001b[1;36m70\u001b[0m \u001b[1m)\u001b[0m\n"
      ]
     },
     "metadata": {},
     "output_type": "display_data"
    },
    {
     "data": {
      "text/html": [
       "<pre style=\"white-space:pre;overflow-x:auto;line-height:normal;font-family:Menlo,'DejaVu Sans Mono',consolas,'Courier New',monospace\">Byte  <span style=\"color: #008080; text-decoration-color: #008080; font-weight: bold\">1</span>   -  Left Margin:   <span style=\"color: #008080; text-decoration-color: #008080; font-weight: bold\">147</span>  <span style=\"font-weight: bold\">(</span> <span style=\"color: #008080; text-decoration-color: #008080; font-weight: bold\">73</span> <span style=\"font-weight: bold\">)</span>  Center Point:   <span style=\"color: #008080; text-decoration-color: #008080; font-weight: bold\">626</span>  <span style=\"font-weight: bold\">(</span> <span style=\"color: #008080; text-decoration-color: #008080; font-weight: bold\">310</span> <span style=\"font-weight: bold\">)</span>  Right Margin:   <span style=\"color: #008080; text-decoration-color: #008080; font-weight: bold\">141</span>  <span style=\"font-weight: bold\">(</span> <span style=\"color: #008080; text-decoration-color: #008080; font-weight: bold\">70</span> <span style=\"font-weight: bold\">)</span>\n",
       "</pre>\n"
      ],
      "text/plain": [
       "Byte  \u001b[1;36m1\u001b[0m   -  Left Margin:   \u001b[1;36m147\u001b[0m  \u001b[1m(\u001b[0m \u001b[1;36m73\u001b[0m \u001b[1m)\u001b[0m  Center Point:   \u001b[1;36m626\u001b[0m  \u001b[1m(\u001b[0m \u001b[1;36m310\u001b[0m \u001b[1m)\u001b[0m  Right Margin:   \u001b[1;36m141\u001b[0m  \u001b[1m(\u001b[0m \u001b[1;36m70\u001b[0m \u001b[1m)\u001b[0m\n"
      ]
     },
     "metadata": {},
     "output_type": "display_data"
    },
    {
     "data": {
      "text/html": [
       "<pre style=\"white-space:pre;overflow-x:auto;line-height:normal;font-family:Menlo,'DejaVu Sans Mono',consolas,'Courier New',monospace\">Byte  <span style=\"color: #008080; text-decoration-color: #008080; font-weight: bold\">2</span>   -  Left Margin:   <span style=\"color: #008080; text-decoration-color: #008080; font-weight: bold\">163</span>  <span style=\"font-weight: bold\">(</span> <span style=\"color: #008080; text-decoration-color: #008080; font-weight: bold\">79</span> <span style=\"font-weight: bold\">)</span>  Center Point:   <span style=\"color: #008080; text-decoration-color: #008080; font-weight: bold\">72</span>  <span style=\"font-weight: bold\">(</span> <span style=\"color: #008080; text-decoration-color: #008080; font-weight: bold\">35</span> <span style=\"font-weight: bold\">)</span>  Right Margin:   <span style=\"color: #008080; text-decoration-color: #008080; font-weight: bold\">128</span>  <span style=\"font-weight: bold\">(</span> <span style=\"color: #008080; text-decoration-color: #008080; font-weight: bold\">62</span> <span style=\"font-weight: bold\">)</span>\n",
       "</pre>\n"
      ],
      "text/plain": [
       "Byte  \u001b[1;36m2\u001b[0m   -  Left Margin:   \u001b[1;36m163\u001b[0m  \u001b[1m(\u001b[0m \u001b[1;36m79\u001b[0m \u001b[1m)\u001b[0m  Center Point:   \u001b[1;36m72\u001b[0m  \u001b[1m(\u001b[0m \u001b[1;36m35\u001b[0m \u001b[1m)\u001b[0m  Right Margin:   \u001b[1;36m128\u001b[0m  \u001b[1m(\u001b[0m \u001b[1;36m62\u001b[0m \u001b[1m)\u001b[0m\n"
      ]
     },
     "metadata": {},
     "output_type": "display_data"
    },
    {
     "data": {
      "text/html": [
       "<pre style=\"white-space:pre;overflow-x:auto;line-height:normal;font-family:Menlo,'DejaVu Sans Mono',consolas,'Courier New',monospace\">Byte  <span style=\"color: #008080; text-decoration-color: #008080; font-weight: bold\">3</span>   -  Left Margin:   <span style=\"color: #008080; text-decoration-color: #008080; font-weight: bold\">142</span>  <span style=\"font-weight: bold\">(</span> <span style=\"color: #008080; text-decoration-color: #008080; font-weight: bold\">70</span> <span style=\"font-weight: bold\">)</span>  Center Point:   <span style=\"color: #008080; text-decoration-color: #008080; font-weight: bold\">194</span>  <span style=\"font-weight: bold\">(</span> <span style=\"color: #008080; text-decoration-color: #008080; font-weight: bold\">95</span> <span style=\"font-weight: bold\">)</span>  Right Margin:   <span style=\"color: #008080; text-decoration-color: #008080; font-weight: bold\">145</span>  <span style=\"font-weight: bold\">(</span> <span style=\"color: #008080; text-decoration-color: #008080; font-weight: bold\">71</span> <span style=\"font-weight: bold\">)</span>\n",
       "</pre>\n"
      ],
      "text/plain": [
       "Byte  \u001b[1;36m3\u001b[0m   -  Left Margin:   \u001b[1;36m142\u001b[0m  \u001b[1m(\u001b[0m \u001b[1;36m70\u001b[0m \u001b[1m)\u001b[0m  Center Point:   \u001b[1;36m194\u001b[0m  \u001b[1m(\u001b[0m \u001b[1;36m95\u001b[0m \u001b[1m)\u001b[0m  Right Margin:   \u001b[1;36m145\u001b[0m  \u001b[1m(\u001b[0m \u001b[1;36m71\u001b[0m \u001b[1m)\u001b[0m\n"
      ]
     },
     "metadata": {},
     "output_type": "display_data"
    },
    {
     "data": {
      "text/html": [
       "<pre style=\"white-space:pre;overflow-x:auto;line-height:normal;font-family:Menlo,'DejaVu Sans Mono',consolas,'Courier New',monospace\">Byte  <span style=\"color: #008080; text-decoration-color: #008080; font-weight: bold\">4</span>   -  Left Margin:   <span style=\"color: #008080; text-decoration-color: #008080; font-weight: bold\">143</span>  <span style=\"font-weight: bold\">(</span> <span style=\"color: #008080; text-decoration-color: #008080; font-weight: bold\">70</span> <span style=\"font-weight: bold\">)</span>  Center Point:   <span style=\"color: #008080; text-decoration-color: #008080; font-weight: bold\">561</span>  <span style=\"font-weight: bold\">(</span> <span style=\"color: #008080; text-decoration-color: #008080; font-weight: bold\">273</span> <span style=\"font-weight: bold\">)</span>  Right Margin:   <span style=\"color: #008080; text-decoration-color: #008080; font-weight: bold\">143</span>  <span style=\"font-weight: bold\">(</span> <span style=\"color: #008080; text-decoration-color: #008080; font-weight: bold\">70</span> <span style=\"font-weight: bold\">)</span>\n",
       "</pre>\n"
      ],
      "text/plain": [
       "Byte  \u001b[1;36m4\u001b[0m   -  Left Margin:   \u001b[1;36m143\u001b[0m  \u001b[1m(\u001b[0m \u001b[1;36m70\u001b[0m \u001b[1m)\u001b[0m  Center Point:   \u001b[1;36m561\u001b[0m  \u001b[1m(\u001b[0m \u001b[1;36m273\u001b[0m \u001b[1m)\u001b[0m  Right Margin:   \u001b[1;36m143\u001b[0m  \u001b[1m(\u001b[0m \u001b[1;36m70\u001b[0m \u001b[1m)\u001b[0m\n"
      ]
     },
     "metadata": {},
     "output_type": "display_data"
    },
    {
     "data": {
      "text/html": [
       "<pre style=\"white-space:pre;overflow-x:auto;line-height:normal;font-family:Menlo,'DejaVu Sans Mono',consolas,'Courier New',monospace\">Byte  <span style=\"color: #008080; text-decoration-color: #008080; font-weight: bold\">5</span>   -  Left Margin:   <span style=\"color: #008080; text-decoration-color: #008080; font-weight: bold\">161</span>  <span style=\"font-weight: bold\">(</span> <span style=\"color: #008080; text-decoration-color: #008080; font-weight: bold\">79</span> <span style=\"font-weight: bold\">)</span>  Center Point:   <span style=\"color: #008080; text-decoration-color: #008080; font-weight: bold\">614</span>  <span style=\"font-weight: bold\">(</span> <span style=\"color: #008080; text-decoration-color: #008080; font-weight: bold\">300</span> <span style=\"font-weight: bold\">)</span>  Right Margin:   <span style=\"color: #008080; text-decoration-color: #008080; font-weight: bold\">136</span>  <span style=\"font-weight: bold\">(</span> <span style=\"color: #008080; text-decoration-color: #008080; font-weight: bold\">67</span> <span style=\"font-weight: bold\">)</span>\n",
       "</pre>\n"
      ],
      "text/plain": [
       "Byte  \u001b[1;36m5\u001b[0m   -  Left Margin:   \u001b[1;36m161\u001b[0m  \u001b[1m(\u001b[0m \u001b[1;36m79\u001b[0m \u001b[1m)\u001b[0m  Center Point:   \u001b[1;36m614\u001b[0m  \u001b[1m(\u001b[0m \u001b[1;36m300\u001b[0m \u001b[1m)\u001b[0m  Right Margin:   \u001b[1;36m136\u001b[0m  \u001b[1m(\u001b[0m \u001b[1;36m67\u001b[0m \u001b[1m)\u001b[0m\n"
      ]
     },
     "metadata": {},
     "output_type": "display_data"
    },
    {
     "data": {
      "text/html": [
       "<pre style=\"white-space:pre;overflow-x:auto;line-height:normal;font-family:Menlo,'DejaVu Sans Mono',consolas,'Courier New',monospace\">Byte  <span style=\"color: #008080; text-decoration-color: #008080; font-weight: bold\">6</span>   -  Left Margin:   <span style=\"color: #008080; text-decoration-color: #008080; font-weight: bold\">157</span>  <span style=\"font-weight: bold\">(</span> <span style=\"color: #008080; text-decoration-color: #008080; font-weight: bold\">76</span> <span style=\"font-weight: bold\">)</span>  Center Point:   <span style=\"color: #008080; text-decoration-color: #008080; font-weight: bold\">593</span>  <span style=\"font-weight: bold\">(</span> <span style=\"color: #008080; text-decoration-color: #008080; font-weight: bold\">286</span> <span style=\"font-weight: bold\">)</span>  Right Margin:   <span style=\"color: #008080; text-decoration-color: #008080; font-weight: bold\">134</span>  <span style=\"font-weight: bold\">(</span> <span style=\"color: #008080; text-decoration-color: #008080; font-weight: bold\">65</span> <span style=\"font-weight: bold\">)</span>\n",
       "</pre>\n"
      ],
      "text/plain": [
       "Byte  \u001b[1;36m6\u001b[0m   -  Left Margin:   \u001b[1;36m157\u001b[0m  \u001b[1m(\u001b[0m \u001b[1;36m76\u001b[0m \u001b[1m)\u001b[0m  Center Point:   \u001b[1;36m593\u001b[0m  \u001b[1m(\u001b[0m \u001b[1;36m286\u001b[0m \u001b[1m)\u001b[0m  Right Margin:   \u001b[1;36m134\u001b[0m  \u001b[1m(\u001b[0m \u001b[1;36m65\u001b[0m \u001b[1m)\u001b[0m\n"
      ]
     },
     "metadata": {},
     "output_type": "display_data"
    },
    {
     "data": {
      "text/html": [
       "<pre style=\"white-space:pre;overflow-x:auto;line-height:normal;font-family:Menlo,'DejaVu Sans Mono',consolas,'Courier New',monospace\">Byte  <span style=\"color: #008080; text-decoration-color: #008080; font-weight: bold\">7</span>   -  Left Margin:   <span style=\"color: #008080; text-decoration-color: #008080; font-weight: bold\">159</span>  <span style=\"font-weight: bold\">(</span> <span style=\"color: #008080; text-decoration-color: #008080; font-weight: bold\">77</span> <span style=\"font-weight: bold\">)</span>  Center Point:   <span style=\"color: #008080; text-decoration-color: #008080; font-weight: bold\">624</span>  <span style=\"font-weight: bold\">(</span> <span style=\"color: #008080; text-decoration-color: #008080; font-weight: bold\">302</span> <span style=\"font-weight: bold\">)</span>  Right Margin:   <span style=\"color: #008080; text-decoration-color: #008080; font-weight: bold\">126</span>  <span style=\"font-weight: bold\">(</span> <span style=\"color: #008080; text-decoration-color: #008080; font-weight: bold\">61</span> <span style=\"font-weight: bold\">)</span>\n",
       "</pre>\n"
      ],
      "text/plain": [
       "Byte  \u001b[1;36m7\u001b[0m   -  Left Margin:   \u001b[1;36m159\u001b[0m  \u001b[1m(\u001b[0m \u001b[1;36m77\u001b[0m \u001b[1m)\u001b[0m  Center Point:   \u001b[1;36m624\u001b[0m  \u001b[1m(\u001b[0m \u001b[1;36m302\u001b[0m \u001b[1m)\u001b[0m  Right Margin:   \u001b[1;36m126\u001b[0m  \u001b[1m(\u001b[0m \u001b[1;36m61\u001b[0m \u001b[1m)\u001b[0m\n"
      ]
     },
     "metadata": {},
     "output_type": "display_data"
    },
    {
     "data": {
      "text/html": [
       "<pre style=\"white-space:pre;overflow-x:auto;line-height:normal;font-family:Menlo,'DejaVu Sans Mono',consolas,'Courier New',monospace\">\n",
       " Frequency <span style=\"color: #008080; text-decoration-color: #008080; font-weight: bold\">0</span>  - Write Margin - Complex Pattern - Calibration Window in pS and <span style=\"font-weight: bold\">(</span>delay taps<span style=\"font-weight: bold\">)</span>:\n",
       "\n",
       "</pre>\n"
      ],
      "text/plain": [
       "\n",
       " Frequency \u001b[1;36m0\u001b[0m  - Write Margin - Complex Pattern - Calibration Window in pS and \u001b[1m(\u001b[0mdelay taps\u001b[1m)\u001b[0m:\n",
       "\n"
      ]
     },
     "metadata": {},
     "output_type": "display_data"
    },
    {
     "data": {
      "text/html": [
       "<pre style=\"white-space:pre;overflow-x:auto;line-height:normal;font-family:Menlo,'DejaVu Sans Mono',consolas,'Courier New',monospace\">Byte  <span style=\"color: #008080; text-decoration-color: #008080; font-weight: bold\">0</span>   -  Left Margin:   <span style=\"color: #008080; text-decoration-color: #008080; font-weight: bold\">149</span>  <span style=\"font-weight: bold\">(</span> <span style=\"color: #008080; text-decoration-color: #008080; font-weight: bold\">72</span> <span style=\"font-weight: bold\">)</span>  Center Point:   <span style=\"color: #008080; text-decoration-color: #008080; font-weight: bold\">451</span>  <span style=\"font-weight: bold\">(</span> <span style=\"color: #008080; text-decoration-color: #008080; font-weight: bold\">218</span> <span style=\"font-weight: bold\">)</span>  Right Margin:   <span style=\"color: #008080; text-decoration-color: #008080; font-weight: bold\">117</span>  <span style=\"font-weight: bold\">(</span> <span style=\"color: #008080; text-decoration-color: #008080; font-weight: bold\">57</span> <span style=\"font-weight: bold\">)</span>\n",
       "</pre>\n"
      ],
      "text/plain": [
       "Byte  \u001b[1;36m0\u001b[0m   -  Left Margin:   \u001b[1;36m149\u001b[0m  \u001b[1m(\u001b[0m \u001b[1;36m72\u001b[0m \u001b[1m)\u001b[0m  Center Point:   \u001b[1;36m451\u001b[0m  \u001b[1m(\u001b[0m \u001b[1;36m218\u001b[0m \u001b[1m)\u001b[0m  Right Margin:   \u001b[1;36m117\u001b[0m  \u001b[1m(\u001b[0m \u001b[1;36m57\u001b[0m \u001b[1m)\u001b[0m\n"
      ]
     },
     "metadata": {},
     "output_type": "display_data"
    },
    {
     "data": {
      "text/html": [
       "<pre style=\"white-space:pre;overflow-x:auto;line-height:normal;font-family:Menlo,'DejaVu Sans Mono',consolas,'Courier New',monospace\">Byte  <span style=\"color: #008080; text-decoration-color: #008080; font-weight: bold\">1</span>   -  Left Margin:   <span style=\"color: #008080; text-decoration-color: #008080; font-weight: bold\">139</span>  <span style=\"font-weight: bold\">(</span> <span style=\"color: #008080; text-decoration-color: #008080; font-weight: bold\">69</span> <span style=\"font-weight: bold\">)</span>  Center Point:   <span style=\"color: #008080; text-decoration-color: #008080; font-weight: bold\">626</span>  <span style=\"font-weight: bold\">(</span> <span style=\"color: #008080; text-decoration-color: #008080; font-weight: bold\">310</span> <span style=\"font-weight: bold\">)</span>  Right Margin:   <span style=\"color: #008080; text-decoration-color: #008080; font-weight: bold\">100</span>  <span style=\"font-weight: bold\">(</span> <span style=\"color: #008080; text-decoration-color: #008080; font-weight: bold\">50</span> <span style=\"font-weight: bold\">)</span>\n",
       "</pre>\n"
      ],
      "text/plain": [
       "Byte  \u001b[1;36m1\u001b[0m   -  Left Margin:   \u001b[1;36m139\u001b[0m  \u001b[1m(\u001b[0m \u001b[1;36m69\u001b[0m \u001b[1m)\u001b[0m  Center Point:   \u001b[1;36m626\u001b[0m  \u001b[1m(\u001b[0m \u001b[1;36m310\u001b[0m \u001b[1m)\u001b[0m  Right Margin:   \u001b[1;36m100\u001b[0m  \u001b[1m(\u001b[0m \u001b[1;36m50\u001b[0m \u001b[1m)\u001b[0m\n"
      ]
     },
     "metadata": {},
     "output_type": "display_data"
    },
    {
     "data": {
      "text/html": [
       "<pre style=\"white-space:pre;overflow-x:auto;line-height:normal;font-family:Menlo,'DejaVu Sans Mono',consolas,'Courier New',monospace\">Byte  <span style=\"color: #008080; text-decoration-color: #008080; font-weight: bold\">2</span>   -  Left Margin:   <span style=\"color: #008080; text-decoration-color: #008080; font-weight: bold\">144</span>  <span style=\"font-weight: bold\">(</span> <span style=\"color: #008080; text-decoration-color: #008080; font-weight: bold\">70</span> <span style=\"font-weight: bold\">)</span>  Center Point:   <span style=\"color: #008080; text-decoration-color: #008080; font-weight: bold\">72</span>  <span style=\"font-weight: bold\">(</span> <span style=\"color: #008080; text-decoration-color: #008080; font-weight: bold\">35</span> <span style=\"font-weight: bold\">)</span>  Right Margin:   <span style=\"color: #008080; text-decoration-color: #008080; font-weight: bold\">124</span>  <span style=\"font-weight: bold\">(</span> <span style=\"color: #008080; text-decoration-color: #008080; font-weight: bold\">60</span> <span style=\"font-weight: bold\">)</span>\n",
       "</pre>\n"
      ],
      "text/plain": [
       "Byte  \u001b[1;36m2\u001b[0m   -  Left Margin:   \u001b[1;36m144\u001b[0m  \u001b[1m(\u001b[0m \u001b[1;36m70\u001b[0m \u001b[1m)\u001b[0m  Center Point:   \u001b[1;36m72\u001b[0m  \u001b[1m(\u001b[0m \u001b[1;36m35\u001b[0m \u001b[1m)\u001b[0m  Right Margin:   \u001b[1;36m124\u001b[0m  \u001b[1m(\u001b[0m \u001b[1;36m60\u001b[0m \u001b[1m)\u001b[0m\n"
      ]
     },
     "metadata": {},
     "output_type": "display_data"
    },
    {
     "data": {
      "text/html": [
       "<pre style=\"white-space:pre;overflow-x:auto;line-height:normal;font-family:Menlo,'DejaVu Sans Mono',consolas,'Courier New',monospace\">Byte  <span style=\"color: #008080; text-decoration-color: #008080; font-weight: bold\">3</span>   -  Left Margin:   <span style=\"color: #008080; text-decoration-color: #008080; font-weight: bold\">145</span>  <span style=\"font-weight: bold\">(</span> <span style=\"color: #008080; text-decoration-color: #008080; font-weight: bold\">71</span> <span style=\"font-weight: bold\">)</span>  Center Point:   <span style=\"color: #008080; text-decoration-color: #008080; font-weight: bold\">194</span>  <span style=\"font-weight: bold\">(</span> <span style=\"color: #008080; text-decoration-color: #008080; font-weight: bold\">95</span> <span style=\"font-weight: bold\">)</span>  Right Margin:   <span style=\"color: #008080; text-decoration-color: #008080; font-weight: bold\">122</span>  <span style=\"font-weight: bold\">(</span> <span style=\"color: #008080; text-decoration-color: #008080; font-weight: bold\">60</span> <span style=\"font-weight: bold\">)</span>\n",
       "</pre>\n"
      ],
      "text/plain": [
       "Byte  \u001b[1;36m3\u001b[0m   -  Left Margin:   \u001b[1;36m145\u001b[0m  \u001b[1m(\u001b[0m \u001b[1;36m71\u001b[0m \u001b[1m)\u001b[0m  Center Point:   \u001b[1;36m194\u001b[0m  \u001b[1m(\u001b[0m \u001b[1;36m95\u001b[0m \u001b[1m)\u001b[0m  Right Margin:   \u001b[1;36m122\u001b[0m  \u001b[1m(\u001b[0m \u001b[1;36m60\u001b[0m \u001b[1m)\u001b[0m\n"
      ]
     },
     "metadata": {},
     "output_type": "display_data"
    },
    {
     "data": {
      "text/html": [
       "<pre style=\"white-space:pre;overflow-x:auto;line-height:normal;font-family:Menlo,'DejaVu Sans Mono',consolas,'Courier New',monospace\">Byte  <span style=\"color: #008080; text-decoration-color: #008080; font-weight: bold\">4</span>   -  Left Margin:   <span style=\"color: #008080; text-decoration-color: #008080; font-weight: bold\">143</span>  <span style=\"font-weight: bold\">(</span> <span style=\"color: #008080; text-decoration-color: #008080; font-weight: bold\">70</span> <span style=\"font-weight: bold\">)</span>  Center Point:   <span style=\"color: #008080; text-decoration-color: #008080; font-weight: bold\">561</span>  <span style=\"font-weight: bold\">(</span> <span style=\"color: #008080; text-decoration-color: #008080; font-weight: bold\">273</span> <span style=\"font-weight: bold\">)</span>  Right Margin:   <span style=\"color: #008080; text-decoration-color: #008080; font-weight: bold\">123</span>  <span style=\"font-weight: bold\">(</span> <span style=\"color: #008080; text-decoration-color: #008080; font-weight: bold\">60</span> <span style=\"font-weight: bold\">)</span>\n",
       "</pre>\n"
      ],
      "text/plain": [
       "Byte  \u001b[1;36m4\u001b[0m   -  Left Margin:   \u001b[1;36m143\u001b[0m  \u001b[1m(\u001b[0m \u001b[1;36m70\u001b[0m \u001b[1m)\u001b[0m  Center Point:   \u001b[1;36m561\u001b[0m  \u001b[1m(\u001b[0m \u001b[1;36m273\u001b[0m \u001b[1m)\u001b[0m  Right Margin:   \u001b[1;36m123\u001b[0m  \u001b[1m(\u001b[0m \u001b[1;36m60\u001b[0m \u001b[1m)\u001b[0m\n"
      ]
     },
     "metadata": {},
     "output_type": "display_data"
    },
    {
     "data": {
      "text/html": [
       "<pre style=\"white-space:pre;overflow-x:auto;line-height:normal;font-family:Menlo,'DejaVu Sans Mono',consolas,'Courier New',monospace\">Byte  <span style=\"color: #008080; text-decoration-color: #008080; font-weight: bold\">5</span>   -  Left Margin:   <span style=\"color: #008080; text-decoration-color: #008080; font-weight: bold\">142</span>  <span style=\"font-weight: bold\">(</span> <span style=\"color: #008080; text-decoration-color: #008080; font-weight: bold\">70</span> <span style=\"font-weight: bold\">)</span>  Center Point:   <span style=\"color: #008080; text-decoration-color: #008080; font-weight: bold\">614</span>  <span style=\"font-weight: bold\">(</span> <span style=\"color: #008080; text-decoration-color: #008080; font-weight: bold\">300</span> <span style=\"font-weight: bold\">)</span>  Right Margin:   <span style=\"color: #008080; text-decoration-color: #008080; font-weight: bold\">124</span>  <span style=\"font-weight: bold\">(</span> <span style=\"color: #008080; text-decoration-color: #008080; font-weight: bold\">61</span> <span style=\"font-weight: bold\">)</span>\n",
       "</pre>\n"
      ],
      "text/plain": [
       "Byte  \u001b[1;36m5\u001b[0m   -  Left Margin:   \u001b[1;36m142\u001b[0m  \u001b[1m(\u001b[0m \u001b[1;36m70\u001b[0m \u001b[1m)\u001b[0m  Center Point:   \u001b[1;36m614\u001b[0m  \u001b[1m(\u001b[0m \u001b[1;36m300\u001b[0m \u001b[1m)\u001b[0m  Right Margin:   \u001b[1;36m124\u001b[0m  \u001b[1m(\u001b[0m \u001b[1;36m61\u001b[0m \u001b[1m)\u001b[0m\n"
      ]
     },
     "metadata": {},
     "output_type": "display_data"
    },
    {
     "data": {
      "text/html": [
       "<pre style=\"white-space:pre;overflow-x:auto;line-height:normal;font-family:Menlo,'DejaVu Sans Mono',consolas,'Courier New',monospace\">Byte  <span style=\"color: #008080; text-decoration-color: #008080; font-weight: bold\">6</span>   -  Left Margin:   <span style=\"color: #008080; text-decoration-color: #008080; font-weight: bold\">140</span>  <span style=\"font-weight: bold\">(</span> <span style=\"color: #008080; text-decoration-color: #008080; font-weight: bold\">68</span> <span style=\"font-weight: bold\">)</span>  Center Point:   <span style=\"color: #008080; text-decoration-color: #008080; font-weight: bold\">593</span>  <span style=\"font-weight: bold\">(</span> <span style=\"color: #008080; text-decoration-color: #008080; font-weight: bold\">286</span> <span style=\"font-weight: bold\">)</span>  Right Margin:   <span style=\"color: #008080; text-decoration-color: #008080; font-weight: bold\">122</span>  <span style=\"font-weight: bold\">(</span> <span style=\"color: #008080; text-decoration-color: #008080; font-weight: bold\">59</span> <span style=\"font-weight: bold\">)</span>\n",
       "</pre>\n"
      ],
      "text/plain": [
       "Byte  \u001b[1;36m6\u001b[0m   -  Left Margin:   \u001b[1;36m140\u001b[0m  \u001b[1m(\u001b[0m \u001b[1;36m68\u001b[0m \u001b[1m)\u001b[0m  Center Point:   \u001b[1;36m593\u001b[0m  \u001b[1m(\u001b[0m \u001b[1;36m286\u001b[0m \u001b[1m)\u001b[0m  Right Margin:   \u001b[1;36m122\u001b[0m  \u001b[1m(\u001b[0m \u001b[1;36m59\u001b[0m \u001b[1m)\u001b[0m\n"
      ]
     },
     "metadata": {},
     "output_type": "display_data"
    },
    {
     "data": {
      "text/html": [
       "<pre style=\"white-space:pre;overflow-x:auto;line-height:normal;font-family:Menlo,'DejaVu Sans Mono',consolas,'Courier New',monospace\">Byte  <span style=\"color: #008080; text-decoration-color: #008080; font-weight: bold\">7</span>   -  Left Margin:   <span style=\"color: #008080; text-decoration-color: #008080; font-weight: bold\">138</span>  <span style=\"font-weight: bold\">(</span> <span style=\"color: #008080; text-decoration-color: #008080; font-weight: bold\">67</span> <span style=\"font-weight: bold\">)</span>  Center Point:   <span style=\"color: #008080; text-decoration-color: #008080; font-weight: bold\">624</span>  <span style=\"font-weight: bold\">(</span> <span style=\"color: #008080; text-decoration-color: #008080; font-weight: bold\">302</span> <span style=\"font-weight: bold\">)</span>  Right Margin:   <span style=\"color: #008080; text-decoration-color: #008080; font-weight: bold\">134</span>  <span style=\"font-weight: bold\">(</span> <span style=\"color: #008080; text-decoration-color: #008080; font-weight: bold\">65</span> <span style=\"font-weight: bold\">)</span>\n",
       "</pre>\n"
      ],
      "text/plain": [
       "Byte  \u001b[1;36m7\u001b[0m   -  Left Margin:   \u001b[1;36m138\u001b[0m  \u001b[1m(\u001b[0m \u001b[1;36m67\u001b[0m \u001b[1m)\u001b[0m  Center Point:   \u001b[1;36m624\u001b[0m  \u001b[1m(\u001b[0m \u001b[1;36m302\u001b[0m \u001b[1m)\u001b[0m  Right Margin:   \u001b[1;36m134\u001b[0m  \u001b[1m(\u001b[0m \u001b[1;36m65\u001b[0m \u001b[1m)\u001b[0m\n"
      ]
     },
     "metadata": {},
     "output_type": "display_data"
    },
    {
     "data": {
      "text/html": [
       "<pre style=\"white-space:pre;overflow-x:auto;line-height:normal;font-family:Menlo,'DejaVu Sans Mono',consolas,'Courier New',monospace\">\n",
       "NOTE: The report is being generated and saved as: test_out.txt\n",
       "</pre>\n"
      ],
      "text/plain": [
       "\n",
       "NOTE: The report is being generated and saved as: test_out.txt\n"
      ]
     },
     "metadata": {},
     "output_type": "display_data"
    },
    {
     "data": {
      "text/html": [
       "<pre style=\"white-space:pre;overflow-x:auto;line-height:normal;font-family:Menlo,'DejaVu Sans Mono',consolas,'Courier New',monospace\">-------------------\n",
       "\n",
       "</pre>\n"
      ],
      "text/plain": [
       "-------------------\n",
       "\n"
      ]
     },
     "metadata": {},
     "output_type": "display_data"
    },
    {
     "data": {
      "text/html": [
       "<pre style=\"white-space:pre;overflow-x:auto;line-height:normal;font-family:Menlo,'DejaVu Sans Mono',consolas,'Courier New',monospace\"> DDRMC Status \n",
       "\n",
       "</pre>\n"
      ],
      "text/plain": [
       " DDRMC Status \n",
       "\n"
      ]
     },
     "metadata": {},
     "output_type": "display_data"
    },
    {
     "data": {
      "text/html": [
       "<pre style=\"white-space:pre;overflow-x:auto;line-height:normal;font-family:Menlo,'DejaVu Sans Mono',consolas,'Courier New',monospace\">-------------------\n",
       "\n",
       "</pre>\n"
      ],
      "text/plain": [
       "-------------------\n",
       "\n"
      ]
     },
     "metadata": {},
     "output_type": "display_data"
    },
    {
     "data": {
      "text/html": [
       "<pre style=\"white-space:pre;overflow-x:auto;line-height:normal;font-family:Menlo,'DejaVu Sans Mono',consolas,'Courier New',monospace\">Calibration Status:   PASS \n",
       "\n",
       "</pre>\n"
      ],
      "text/plain": [
       "Calibration Status:   PASS \n",
       "\n"
      ]
     },
     "metadata": {},
     "output_type": "display_data"
    },
    {
     "data": {
      "text/html": [
       "<pre style=\"white-space:pre;overflow-x:auto;line-height:normal;font-family:Menlo,'DejaVu Sans Mono',consolas,'Courier New',monospace\">Overall Health:   GOOD \n",
       "\n",
       "</pre>\n"
      ],
      "text/plain": [
       "Overall Health:   GOOD \n",
       "\n"
      ]
     },
     "metadata": {},
     "output_type": "display_data"
    },
    {
     "data": {
      "text/html": [
       "<pre style=\"white-space:pre;overflow-x:auto;line-height:normal;font-family:Menlo,'DejaVu Sans Mono',consolas,'Courier New',monospace\">Message:   No errors detected during calibration. \n",
       "\n",
       "</pre>\n"
      ],
      "text/plain": [
       "Message:   No errors detected during calibration. \n",
       "\n"
      ]
     },
     "metadata": {},
     "output_type": "display_data"
    },
    {
     "data": {
      "text/html": [
       "<pre style=\"white-space:pre;overflow-x:auto;line-height:normal;font-family:Menlo,'DejaVu Sans Mono',consolas,'Courier New',monospace\">\n",
       "-------------------\n",
       "\n",
       "</pre>\n"
      ],
      "text/plain": [
       "\n",
       "-------------------\n",
       "\n"
      ]
     },
     "metadata": {},
     "output_type": "display_data"
    },
    {
     "data": {
      "text/html": [
       "<pre style=\"white-space:pre;overflow-x:auto;line-height:normal;font-family:Menlo,'DejaVu Sans Mono',consolas,'Courier New',monospace\"> Status Registers\n",
       "\n",
       "</pre>\n"
      ],
      "text/plain": [
       " Status Registers\n",
       "\n"
      ]
     },
     "metadata": {},
     "output_type": "display_data"
    },
    {
     "data": {
      "text/html": [
       "<pre style=\"white-space:pre;overflow-x:auto;line-height:normal;font-family:Menlo,'DejaVu Sans Mono',consolas,'Courier New',monospace\">-------------------\n",
       "\n",
       "</pre>\n"
      ],
      "text/plain": [
       "-------------------\n",
       "\n"
      ]
     },
     "metadata": {},
     "output_type": "display_data"
    },
    {
     "data": {
      "text/html": [
       "<pre style=\"white-space:pre;overflow-x:auto;line-height:normal;font-family:Menlo,'DejaVu Sans Mono',consolas,'Courier New',monospace\">DDRMC ISR Table\n",
       "\n",
       "</pre>\n"
      ],
      "text/plain": [
       "DDRMC ISR Table\n",
       "\n"
      ]
     },
     "metadata": {},
     "output_type": "display_data"
    },
    {
     "data": {
      "text/html": [
       "<pre style=\"white-space:pre;overflow-x:auto;line-height:normal;font-family:Menlo,'DejaVu Sans Mono',consolas,'Courier New',monospace\">   ddrmc_isr_ce0_ecc0 :   <span style=\"color: #008080; text-decoration-color: #008080; font-weight: bold\">0</span>\n",
       "</pre>\n"
      ],
      "text/plain": [
       "   ddrmc_isr_ce0_ecc0 :   \u001b[1;36m0\u001b[0m\n"
      ]
     },
     "metadata": {},
     "output_type": "display_data"
    },
    {
     "data": {
      "text/html": [
       "<pre style=\"white-space:pre;overflow-x:auto;line-height:normal;font-family:Menlo,'DejaVu Sans Mono',consolas,'Courier New',monospace\">   ddrmc_isr_ce0_ecc1 :   <span style=\"color: #008080; text-decoration-color: #008080; font-weight: bold\">0</span>\n",
       "</pre>\n"
      ],
      "text/plain": [
       "   ddrmc_isr_ce0_ecc1 :   \u001b[1;36m0\u001b[0m\n"
      ]
     },
     "metadata": {},
     "output_type": "display_data"
    },
    {
     "data": {
      "text/html": [
       "<pre style=\"white-space:pre;overflow-x:auto;line-height:normal;font-family:Menlo,'DejaVu Sans Mono',consolas,'Courier New',monospace\">   ddrmc_isr_ce1_ecc0 :   <span style=\"color: #008080; text-decoration-color: #008080; font-weight: bold\">0</span>\n",
       "</pre>\n"
      ],
      "text/plain": [
       "   ddrmc_isr_ce1_ecc0 :   \u001b[1;36m0\u001b[0m\n"
      ]
     },
     "metadata": {},
     "output_type": "display_data"
    },
    {
     "data": {
      "text/html": [
       "<pre style=\"white-space:pre;overflow-x:auto;line-height:normal;font-family:Menlo,'DejaVu Sans Mono',consolas,'Courier New',monospace\">   ddrmc_isr_ce1_ecc1 :   <span style=\"color: #008080; text-decoration-color: #008080; font-weight: bold\">0</span>\n",
       "</pre>\n"
      ],
      "text/plain": [
       "   ddrmc_isr_ce1_ecc1 :   \u001b[1;36m0\u001b[0m\n"
      ]
     },
     "metadata": {},
     "output_type": "display_data"
    },
    {
     "data": {
      "text/html": [
       "<pre style=\"white-space:pre;overflow-x:auto;line-height:normal;font-family:Menlo,'DejaVu Sans Mono',consolas,'Courier New',monospace\">   ddrmc_isr_ch0_data_par :   <span style=\"color: #008080; text-decoration-color: #008080; font-weight: bold\">0</span>\n",
       "</pre>\n"
      ],
      "text/plain": [
       "   ddrmc_isr_ch0_data_par :   \u001b[1;36m0\u001b[0m\n"
      ]
     },
     "metadata": {},
     "output_type": "display_data"
    },
    {
     "data": {
      "text/html": [
       "<pre style=\"white-space:pre;overflow-x:auto;line-height:normal;font-family:Menlo,'DejaVu Sans Mono',consolas,'Courier New',monospace\">   ddrmc_isr_ch1_data_par :   <span style=\"color: #008080; text-decoration-color: #008080; font-weight: bold\">0</span>\n",
       "</pre>\n"
      ],
      "text/plain": [
       "   ddrmc_isr_ch1_data_par :   \u001b[1;36m0\u001b[0m\n"
      ]
     },
     "metadata": {},
     "output_type": "display_data"
    },
    {
     "data": {
      "text/html": [
       "<pre style=\"white-space:pre;overflow-x:auto;line-height:normal;font-family:Menlo,'DejaVu Sans Mono',consolas,'Courier New',monospace\">   ddrmc_isr_dc_cmd0_fatal :   <span style=\"color: #008080; text-decoration-color: #008080; font-weight: bold\">0</span>\n",
       "</pre>\n"
      ],
      "text/plain": [
       "   ddrmc_isr_dc_cmd0_fatal :   \u001b[1;36m0\u001b[0m\n"
      ]
     },
     "metadata": {},
     "output_type": "display_data"
    },
    {
     "data": {
      "text/html": [
       "<pre style=\"white-space:pre;overflow-x:auto;line-height:normal;font-family:Menlo,'DejaVu Sans Mono',consolas,'Courier New',monospace\">   ddrmc_isr_dc_cmd1_fatal :   <span style=\"color: #008080; text-decoration-color: #008080; font-weight: bold\">0</span>\n",
       "</pre>\n"
      ],
      "text/plain": [
       "   ddrmc_isr_dc_cmd1_fatal :   \u001b[1;36m0\u001b[0m\n"
      ]
     },
     "metadata": {},
     "output_type": "display_data"
    },
    {
     "data": {
      "text/html": [
       "<pre style=\"white-space:pre;overflow-x:auto;line-height:normal;font-family:Menlo,'DejaVu Sans Mono',consolas,'Courier New',monospace\">   ddrmc_isr_dram_parity0 :   <span style=\"color: #008080; text-decoration-color: #008080; font-weight: bold\">0</span>\n",
       "</pre>\n"
      ],
      "text/plain": [
       "   ddrmc_isr_dram_parity0 :   \u001b[1;36m0\u001b[0m\n"
      ]
     },
     "metadata": {},
     "output_type": "display_data"
    },
    {
     "data": {
      "text/html": [
       "<pre style=\"white-space:pre;overflow-x:auto;line-height:normal;font-family:Menlo,'DejaVu Sans Mono',consolas,'Courier New',monospace\">   ddrmc_isr_dram_parity1 :   <span style=\"color: #008080; text-decoration-color: #008080; font-weight: bold\">0</span>\n",
       "</pre>\n"
      ],
      "text/plain": [
       "   ddrmc_isr_dram_parity1 :   \u001b[1;36m0\u001b[0m\n"
      ]
     },
     "metadata": {},
     "output_type": "display_data"
    },
    {
     "data": {
      "text/html": [
       "<pre style=\"white-space:pre;overflow-x:auto;line-height:normal;font-family:Menlo,'DejaVu Sans Mono',consolas,'Courier New',monospace\">   ddrmc_isr_dram_parity_fatal_0 :   <span style=\"color: #008080; text-decoration-color: #008080; font-weight: bold\">0</span>\n",
       "</pre>\n"
      ],
      "text/plain": [
       "   ddrmc_isr_dram_parity_fatal_0 :   \u001b[1;36m0\u001b[0m\n"
      ]
     },
     "metadata": {},
     "output_type": "display_data"
    },
    {
     "data": {
      "text/html": [
       "<pre style=\"white-space:pre;overflow-x:auto;line-height:normal;font-family:Menlo,'DejaVu Sans Mono',consolas,'Courier New',monospace\">   ddrmc_isr_dram_parity_fatal_1 :   <span style=\"color: #008080; text-decoration-color: #008080; font-weight: bold\">0</span>\n",
       "</pre>\n"
      ],
      "text/plain": [
       "   ddrmc_isr_dram_parity_fatal_1 :   \u001b[1;36m0\u001b[0m\n"
      ]
     },
     "metadata": {},
     "output_type": "display_data"
    },
    {
     "data": {
      "text/html": [
       "<pre style=\"white-space:pre;overflow-x:auto;line-height:normal;font-family:Menlo,'DejaVu Sans Mono',consolas,'Courier New',monospace\">   ddrmc_isr_na_cmd :   <span style=\"color: #008080; text-decoration-color: #008080; font-weight: bold\">0</span>\n",
       "</pre>\n"
      ],
      "text/plain": [
       "   ddrmc_isr_na_cmd :   \u001b[1;36m0\u001b[0m\n"
      ]
     },
     "metadata": {},
     "output_type": "display_data"
    },
    {
     "data": {
      "text/html": [
       "<pre style=\"white-space:pre;overflow-x:auto;line-height:normal;font-family:Menlo,'DejaVu Sans Mono',consolas,'Courier New',monospace\">   ddrmc_isr_na_cmd0 :   <span style=\"color: #008080; text-decoration-color: #008080; font-weight: bold\">0</span>\n",
       "</pre>\n"
      ],
      "text/plain": [
       "   ddrmc_isr_na_cmd0 :   \u001b[1;36m0\u001b[0m\n"
      ]
     },
     "metadata": {},
     "output_type": "display_data"
    },
    {
     "data": {
      "text/html": [
       "<pre style=\"white-space:pre;overflow-x:auto;line-height:normal;font-family:Menlo,'DejaVu Sans Mono',consolas,'Courier New',monospace\">   ddrmc_isr_na_cmd1 :   <span style=\"color: #008080; text-decoration-color: #008080; font-weight: bold\">0</span>\n",
       "</pre>\n"
      ],
      "text/plain": [
       "   ddrmc_isr_na_cmd1 :   \u001b[1;36m0\u001b[0m\n"
      ]
     },
     "metadata": {},
     "output_type": "display_data"
    },
    {
     "data": {
      "text/html": [
       "<pre style=\"white-space:pre;overflow-x:auto;line-height:normal;font-family:Menlo,'DejaVu Sans Mono',consolas,'Courier New',monospace\">   ddrmc_isr_na_cmd_fatal :   <span style=\"color: #008080; text-decoration-color: #008080; font-weight: bold\">0</span>\n",
       "</pre>\n"
      ],
      "text/plain": [
       "   ddrmc_isr_na_cmd_fatal :   \u001b[1;36m0\u001b[0m\n"
      ]
     },
     "metadata": {},
     "output_type": "display_data"
    },
    {
     "data": {
      "text/html": [
       "<pre style=\"white-space:pre;overflow-x:auto;line-height:normal;font-family:Menlo,'DejaVu Sans Mono',consolas,'Courier New',monospace\">   ddrmc_isr_nsu_0 :   <span style=\"color: #008080; text-decoration-color: #008080; font-weight: bold\">0</span>\n",
       "</pre>\n"
      ],
      "text/plain": [
       "   ddrmc_isr_nsu_0 :   \u001b[1;36m0\u001b[0m\n"
      ]
     },
     "metadata": {},
     "output_type": "display_data"
    },
    {
     "data": {
      "text/html": [
       "<pre style=\"white-space:pre;overflow-x:auto;line-height:normal;font-family:Menlo,'DejaVu Sans Mono',consolas,'Courier New',monospace\">   ddrmc_isr_nsu_1 :   <span style=\"color: #008080; text-decoration-color: #008080; font-weight: bold\">0</span>\n",
       "</pre>\n"
      ],
      "text/plain": [
       "   ddrmc_isr_nsu_1 :   \u001b[1;36m0\u001b[0m\n"
      ]
     },
     "metadata": {},
     "output_type": "display_data"
    },
    {
     "data": {
      "text/html": [
       "<pre style=\"white-space:pre;overflow-x:auto;line-height:normal;font-family:Menlo,'DejaVu Sans Mono',consolas,'Courier New',monospace\">   ddrmc_isr_nsu_2 :   <span style=\"color: #008080; text-decoration-color: #008080; font-weight: bold\">0</span>\n",
       "</pre>\n"
      ],
      "text/plain": [
       "   ddrmc_isr_nsu_2 :   \u001b[1;36m0\u001b[0m\n"
      ]
     },
     "metadata": {},
     "output_type": "display_data"
    },
    {
     "data": {
      "text/html": [
       "<pre style=\"white-space:pre;overflow-x:auto;line-height:normal;font-family:Menlo,'DejaVu Sans Mono',consolas,'Courier New',monospace\">   ddrmc_isr_nsu_3 :   <span style=\"color: #008080; text-decoration-color: #008080; font-weight: bold\">0</span>\n",
       "</pre>\n"
      ],
      "text/plain": [
       "   ddrmc_isr_nsu_3 :   \u001b[1;36m0\u001b[0m\n"
      ]
     },
     "metadata": {},
     "output_type": "display_data"
    },
    {
     "data": {
      "text/html": [
       "<pre style=\"white-space:pre;overflow-x:auto;line-height:normal;font-family:Menlo,'DejaVu Sans Mono',consolas,'Courier New',monospace\">   ddrmc_isr_nsu_fatal0 :   <span style=\"color: #008080; text-decoration-color: #008080; font-weight: bold\">0</span>\n",
       "</pre>\n"
      ],
      "text/plain": [
       "   ddrmc_isr_nsu_fatal0 :   \u001b[1;36m0\u001b[0m\n"
      ]
     },
     "metadata": {},
     "output_type": "display_data"
    },
    {
     "data": {
      "text/html": [
       "<pre style=\"white-space:pre;overflow-x:auto;line-height:normal;font-family:Menlo,'DejaVu Sans Mono',consolas,'Courier New',monospace\">   ddrmc_isr_nsu_fatal1 :   <span style=\"color: #008080; text-decoration-color: #008080; font-weight: bold\">0</span>\n",
       "</pre>\n"
      ],
      "text/plain": [
       "   ddrmc_isr_nsu_fatal1 :   \u001b[1;36m0\u001b[0m\n"
      ]
     },
     "metadata": {},
     "output_type": "display_data"
    },
    {
     "data": {
      "text/html": [
       "<pre style=\"white-space:pre;overflow-x:auto;line-height:normal;font-family:Menlo,'DejaVu Sans Mono',consolas,'Courier New',monospace\">   ddrmc_isr_nsu_fatal2 :   <span style=\"color: #008080; text-decoration-color: #008080; font-weight: bold\">0</span>\n",
       "</pre>\n"
      ],
      "text/plain": [
       "   ddrmc_isr_nsu_fatal2 :   \u001b[1;36m0\u001b[0m\n"
      ]
     },
     "metadata": {},
     "output_type": "display_data"
    },
    {
     "data": {
      "text/html": [
       "<pre style=\"white-space:pre;overflow-x:auto;line-height:normal;font-family:Menlo,'DejaVu Sans Mono',consolas,'Courier New',monospace\">   ddrmc_isr_nsu_fatal3 :   <span style=\"color: #008080; text-decoration-color: #008080; font-weight: bold\">0</span>\n",
       "</pre>\n"
      ],
      "text/plain": [
       "   ddrmc_isr_nsu_fatal3 :   \u001b[1;36m0\u001b[0m\n"
      ]
     },
     "metadata": {},
     "output_type": "display_data"
    },
    {
     "data": {
      "text/html": [
       "<pre style=\"white-space:pre;overflow-x:auto;line-height:normal;font-family:Menlo,'DejaVu Sans Mono',consolas,'Courier New',monospace\">   ddrmc_isr_uc0_ecc0 :   <span style=\"color: #008080; text-decoration-color: #008080; font-weight: bold\">0</span>\n",
       "</pre>\n"
      ],
      "text/plain": [
       "   ddrmc_isr_uc0_ecc0 :   \u001b[1;36m0\u001b[0m\n"
      ]
     },
     "metadata": {},
     "output_type": "display_data"
    },
    {
     "data": {
      "text/html": [
       "<pre style=\"white-space:pre;overflow-x:auto;line-height:normal;font-family:Menlo,'DejaVu Sans Mono',consolas,'Courier New',monospace\">   ddrmc_isr_uc0_ecc1 :   <span style=\"color: #008080; text-decoration-color: #008080; font-weight: bold\">0</span>\n",
       "</pre>\n"
      ],
      "text/plain": [
       "   ddrmc_isr_uc0_ecc1 :   \u001b[1;36m0\u001b[0m\n"
      ]
     },
     "metadata": {},
     "output_type": "display_data"
    },
    {
     "data": {
      "text/html": [
       "<pre style=\"white-space:pre;overflow-x:auto;line-height:normal;font-family:Menlo,'DejaVu Sans Mono',consolas,'Courier New',monospace\">   ddrmc_isr_uc1_ecc0 :   <span style=\"color: #008080; text-decoration-color: #008080; font-weight: bold\">0</span>\n",
       "</pre>\n"
      ],
      "text/plain": [
       "   ddrmc_isr_uc1_ecc0 :   \u001b[1;36m0\u001b[0m\n"
      ]
     },
     "metadata": {},
     "output_type": "display_data"
    },
    {
     "data": {
      "text/html": [
       "<pre style=\"white-space:pre;overflow-x:auto;line-height:normal;font-family:Menlo,'DejaVu Sans Mono',consolas,'Courier New',monospace\">   ddrmc_isr_uc1_ecc1 :   <span style=\"color: #008080; text-decoration-color: #008080; font-weight: bold\">0</span>\n",
       "</pre>\n"
      ],
      "text/plain": [
       "   ddrmc_isr_uc1_ecc1 :   \u001b[1;36m0\u001b[0m\n"
      ]
     },
     "metadata": {},
     "output_type": "display_data"
    },
    {
     "data": {
      "text/html": [
       "<pre style=\"white-space:pre;overflow-x:auto;line-height:normal;font-family:Menlo,'DejaVu Sans Mono',consolas,'Courier New',monospace\">\n",
       "UB ISR Table\n",
       "\n",
       "</pre>\n"
      ],
      "text/plain": [
       "\n",
       "UB ISR Table\n",
       "\n"
      ]
     },
     "metadata": {},
     "output_type": "display_data"
    },
    {
     "data": {
      "text/html": [
       "<pre style=\"white-space:pre;overflow-x:auto;line-height:normal;font-family:Menlo,'DejaVu Sans Mono',consolas,'Courier New',monospace\">   ub_data_ce :   <span style=\"color: #008080; text-decoration-color: #008080; font-weight: bold\">0</span>\n",
       "</pre>\n"
      ],
      "text/plain": [
       "   ub_data_ce :   \u001b[1;36m0\u001b[0m\n"
      ]
     },
     "metadata": {},
     "output_type": "display_data"
    },
    {
     "data": {
      "text/html": [
       "<pre style=\"white-space:pre;overflow-x:auto;line-height:normal;font-family:Menlo,'DejaVu Sans Mono',consolas,'Courier New',monospace\">   ub_data_ue :   <span style=\"color: #008080; text-decoration-color: #008080; font-weight: bold\">0</span>\n",
       "</pre>\n"
      ],
      "text/plain": [
       "   ub_data_ue :   \u001b[1;36m0\u001b[0m\n"
      ]
     },
     "metadata": {},
     "output_type": "display_data"
    },
    {
     "data": {
      "text/html": [
       "<pre style=\"white-space:pre;overflow-x:auto;line-height:normal;font-family:Menlo,'DejaVu Sans Mono',consolas,'Courier New',monospace\">   ub_instr_ce :   <span style=\"color: #008080; text-decoration-color: #008080; font-weight: bold\">0</span>\n",
       "</pre>\n"
      ],
      "text/plain": [
       "   ub_instr_ce :   \u001b[1;36m0\u001b[0m\n"
      ]
     },
     "metadata": {},
     "output_type": "display_data"
    },
    {
     "data": {
      "text/html": [
       "<pre style=\"white-space:pre;overflow-x:auto;line-height:normal;font-family:Menlo,'DejaVu Sans Mono',consolas,'Courier New',monospace\">   ub_isntr_ue :   <span style=\"color: #008080; text-decoration-color: #008080; font-weight: bold\">0</span>\n",
       "</pre>\n"
      ],
      "text/plain": [
       "   ub_isntr_ue :   \u001b[1;36m0\u001b[0m\n"
      ]
     },
     "metadata": {},
     "output_type": "display_data"
    },
    {
     "data": {
      "text/html": [
       "<pre style=\"white-space:pre;overflow-x:auto;line-height:normal;font-family:Menlo,'DejaVu Sans Mono',consolas,'Courier New',monospace\">   ub_isr_calerror :   <span style=\"color: #008080; text-decoration-color: #008080; font-weight: bold\">0</span>\n",
       "</pre>\n"
      ],
      "text/plain": [
       "   ub_isr_calerror :   \u001b[1;36m0\u001b[0m\n"
      ]
     },
     "metadata": {},
     "output_type": "display_data"
    },
    {
     "data": {
      "text/html": [
       "<pre style=\"white-space:pre;overflow-x:auto;line-height:normal;font-family:Menlo,'DejaVu Sans Mono',consolas,'Courier New',monospace\">   ub_isr_vt_track_err :   <span style=\"color: #008080; text-decoration-color: #008080; font-weight: bold\">0</span>\n",
       "</pre>\n"
      ],
      "text/plain": [
       "   ub_isr_vt_track_err :   \u001b[1;36m0\u001b[0m\n"
      ]
     },
     "metadata": {},
     "output_type": "display_data"
    },
    {
     "data": {
      "text/html": [
       "<pre style=\"white-space:pre;overflow-x:auto;line-height:normal;font-family:Menlo,'DejaVu Sans Mono',consolas,'Courier New',monospace\">   ub_isr_watchdog :   <span style=\"color: #008080; text-decoration-color: #008080; font-weight: bold\">0</span>\n",
       "</pre>\n"
      ],
      "text/plain": [
       "   ub_isr_watchdog :   \u001b[1;36m0\u001b[0m\n"
      ]
     },
     "metadata": {},
     "output_type": "display_data"
    },
    {
     "data": {
      "text/html": [
       "<pre style=\"white-space:pre;overflow-x:auto;line-height:normal;font-family:Menlo,'DejaVu Sans Mono',consolas,'Courier New',monospace\">   ub_ub_msg :   <span style=\"color: #008080; text-decoration-color: #008080; font-weight: bold\">0</span>\n",
       "</pre>\n"
      ],
      "text/plain": [
       "   ub_ub_msg :   \u001b[1;36m0\u001b[0m\n"
      ]
     },
     "metadata": {},
     "output_type": "display_data"
    },
    {
     "data": {
      "text/html": [
       "<pre style=\"white-space:pre;overflow-x:auto;line-height:normal;font-family:Menlo,'DejaVu Sans Mono',consolas,'Courier New',monospace\">\n",
       "----------------------------------\n",
       "\n",
       "</pre>\n"
      ],
      "text/plain": [
       "\n",
       "----------------------------------\n",
       "\n"
      ]
     },
     "metadata": {},
     "output_type": "display_data"
    },
    {
     "data": {
      "text/html": [
       "<pre style=\"white-space:pre;overflow-x:auto;line-height:normal;font-family:Menlo,'DejaVu Sans Mono',consolas,'Courier New',monospace\"> Memory Configuration \n",
       "\n",
       "</pre>\n"
      ],
      "text/plain": [
       " Memory Configuration \n",
       "\n"
      ]
     },
     "metadata": {},
     "output_type": "display_data"
    },
    {
     "data": {
      "text/html": [
       "<pre style=\"white-space:pre;overflow-x:auto;line-height:normal;font-family:Menlo,'DejaVu Sans Mono',consolas,'Courier New',monospace\">----------------------------------\n",
       "\n",
       "</pre>\n"
      ],
      "text/plain": [
       "----------------------------------\n",
       "\n"
      ]
     },
     "metadata": {},
     "output_type": "display_data"
    },
    {
     "data": {
      "text/html": [
       "<pre style=\"white-space:pre;overflow-x:auto;line-height:normal;font-family:Menlo,'DejaVu Sans Mono',consolas,'Courier New',monospace\">DDRMC Core Name :   ddr_0\n",
       "</pre>\n"
      ],
      "text/plain": [
       "DDRMC Core Name :   ddr_0\n"
      ]
     },
     "metadata": {},
     "output_type": "display_data"
    },
    {
     "data": {
      "text/html": [
       "<pre style=\"white-space:pre;overflow-x:auto;line-height:normal;font-family:Menlo,'DejaVu Sans Mono',consolas,'Courier New',monospace\">Memory Interface :   DDR4\n",
       "</pre>\n"
      ],
      "text/plain": [
       "Memory Interface :   DDR4\n"
      ]
     },
     "metadata": {},
     "output_type": "display_data"
    },
    {
     "data": {
      "text/html": [
       "<pre style=\"white-space:pre;overflow-x:auto;line-height:normal;font-family:Menlo,'DejaVu Sans Mono',consolas,'Courier New',monospace\">Device Type :   UDIMM\n",
       "</pre>\n"
      ],
      "text/plain": [
       "Device Type :   UDIMM\n"
      ]
     },
     "metadata": {},
     "output_type": "display_data"
    },
    {
     "data": {
      "text/html": [
       "<pre style=\"white-space:pre;overflow-x:auto;line-height:normal;font-family:Menlo,'DejaVu Sans Mono',consolas,'Courier New',monospace\">MC Location :   x0y0\n",
       "</pre>\n"
      ],
      "text/plain": [
       "MC Location :   x0y0\n"
      ]
     },
     "metadata": {},
     "output_type": "display_data"
    },
    {
     "data": {
      "text/html": [
       "<pre style=\"white-space:pre;overflow-x:auto;line-height:normal;font-family:Menlo,'DejaVu Sans Mono',consolas,'Courier New',monospace\">Slots :   <span style=\"color: #008080; text-decoration-color: #008080; font-weight: bold\">1</span>\n",
       "</pre>\n"
      ],
      "text/plain": [
       "Slots :   \u001b[1;36m1\u001b[0m\n"
      ]
     },
     "metadata": {},
     "output_type": "display_data"
    },
    {
     "data": {
      "text/html": [
       "<pre style=\"white-space:pre;overflow-x:auto;line-height:normal;font-family:Menlo,'DejaVu Sans Mono',consolas,'Courier New',monospace\">Ranks :   <span style=\"color: #008080; text-decoration-color: #008080; font-weight: bold\">1</span>\n",
       "</pre>\n"
      ],
      "text/plain": [
       "Ranks :   \u001b[1;36m1\u001b[0m\n"
      ]
     },
     "metadata": {},
     "output_type": "display_data"
    },
    {
     "data": {
      "text/html": [
       "<pre style=\"white-space:pre;overflow-x:auto;line-height:normal;font-family:Menlo,'DejaVu Sans Mono',consolas,'Courier New',monospace\">Data Width :   <span style=\"color: #008080; text-decoration-color: #008080; font-weight: bold\">64</span>\n",
       "</pre>\n"
      ],
      "text/plain": [
       "Data Width :   \u001b[1;36m64\u001b[0m\n"
      ]
     },
     "metadata": {},
     "output_type": "display_data"
    },
    {
     "data": {
      "text/html": [
       "<pre style=\"white-space:pre;overflow-x:auto;line-height:normal;font-family:Menlo,'DejaVu Sans Mono',consolas,'Courier New',monospace\">Bytes :   <span style=\"color: #008080; text-decoration-color: #008080; font-weight: bold\">8</span>\n",
       "</pre>\n"
      ],
      "text/plain": [
       "Bytes :   \u001b[1;36m8\u001b[0m\n"
      ]
     },
     "metadata": {},
     "output_type": "display_data"
    },
    {
     "data": {
      "text/html": [
       "<pre style=\"white-space:pre;overflow-x:auto;line-height:normal;font-family:Menlo,'DejaVu Sans Mono',consolas,'Courier New',monospace\">Nibbles :   <span style=\"color: #008080; text-decoration-color: #008080; font-weight: bold\">16</span>\n",
       "</pre>\n"
      ],
      "text/plain": [
       "Nibbles :   \u001b[1;36m16\u001b[0m\n"
      ]
     },
     "metadata": {},
     "output_type": "display_data"
    },
    {
     "data": {
      "text/html": [
       "<pre style=\"white-space:pre;overflow-x:auto;line-height:normal;font-family:Menlo,'DejaVu Sans Mono',consolas,'Courier New',monospace\">Bits per Byte :   <span style=\"color: #008080; text-decoration-color: #008080; font-weight: bold\">8</span>\n",
       "</pre>\n"
      ],
      "text/plain": [
       "Bits per Byte :   \u001b[1;36m8\u001b[0m\n"
      ]
     },
     "metadata": {},
     "output_type": "display_data"
    },
    {
     "data": {
      "text/html": [
       "<pre style=\"white-space:pre;overflow-x:auto;line-height:normal;font-family:Menlo,'DejaVu Sans Mono',consolas,'Courier New',monospace\">Memory Frequency <span style=\"color: #008080; text-decoration-color: #008080; font-weight: bold\">0</span> :   <span style=\"color: #008080; text-decoration-color: #008080; font-weight: bold\">1600</span> MHz\n",
       "</pre>\n"
      ],
      "text/plain": [
       "Memory Frequency \u001b[1;36m0\u001b[0m :   \u001b[1;36m1600\u001b[0m MHz\n"
      ]
     },
     "metadata": {},
     "output_type": "display_data"
    },
    {
     "data": {
      "text/html": [
       "<pre style=\"white-space:pre;overflow-x:auto;line-height:normal;font-family:Menlo,'DejaVu Sans Mono',consolas,'Courier New',monospace\">\n",
       "-----------------------------------\n",
       "\n",
       "</pre>\n"
      ],
      "text/plain": [
       "\n",
       "-----------------------------------\n",
       "\n"
      ]
     },
     "metadata": {},
     "output_type": "display_data"
    },
    {
     "data": {
      "text/html": [
       "<pre style=\"white-space:pre;overflow-x:auto;line-height:normal;font-family:Menlo,'DejaVu Sans Mono',consolas,'Courier New',monospace\"> Calibration Stages Information \n",
       "\n",
       "</pre>\n"
      ],
      "text/plain": [
       " Calibration Stages Information \n",
       "\n"
      ]
     },
     "metadata": {},
     "output_type": "display_data"
    },
    {
     "data": {
      "text/html": [
       "<pre style=\"white-space:pre;overflow-x:auto;line-height:normal;font-family:Menlo,'DejaVu Sans Mono',consolas,'Courier New',monospace\">-----------------------------------\n",
       "\n",
       "</pre>\n"
      ],
      "text/plain": [
       "-----------------------------------\n",
       "\n"
      ]
     },
     "metadata": {},
     "output_type": "display_data"
    },
    {
     "data": {
      "text/html": [
       "<pre style=\"white-space:pre;overflow-x:auto;line-height:normal;font-family:Menlo,'DejaVu Sans Mono',consolas,'Courier New',monospace\">cal_stage.01_F0_PHY_BISC :   Pass\n",
       "</pre>\n"
      ],
      "text/plain": [
       "cal_stage.01_F0_PHY_BISC :   Pass\n"
      ]
     },
     "metadata": {},
     "output_type": "display_data"
    },
    {
     "data": {
      "text/html": [
       "<pre style=\"white-space:pre;overflow-x:auto;line-height:normal;font-family:Menlo,'DejaVu Sans Mono',consolas,'Courier New',monospace\">cal_stage.02_F0_MEM_INIT :   Pass\n",
       "</pre>\n"
      ],
      "text/plain": [
       "cal_stage.02_F0_MEM_INIT :   Pass\n"
      ]
     },
     "metadata": {},
     "output_type": "display_data"
    },
    {
     "data": {
      "text/html": [
       "<pre style=\"white-space:pre;overflow-x:auto;line-height:normal;font-family:Menlo,'DejaVu Sans Mono',consolas,'Courier New',monospace\">cal_stage.03_F0_DQS_GATE_CAL :   Pass\n",
       "</pre>\n"
      ],
      "text/plain": [
       "cal_stage.03_F0_DQS_GATE_CAL :   Pass\n"
      ]
     },
     "metadata": {},
     "output_type": "display_data"
    },
    {
     "data": {
      "text/html": [
       "<pre style=\"white-space:pre;overflow-x:auto;line-height:normal;font-family:Menlo,'DejaVu Sans Mono',consolas,'Courier New',monospace\">cal_stage.04_F0_WRITE_LEVELING :   Pass\n",
       "</pre>\n"
      ],
      "text/plain": [
       "cal_stage.04_F0_WRITE_LEVELING :   Pass\n"
      ]
     },
     "metadata": {},
     "output_type": "display_data"
    },
    {
     "data": {
      "text/html": [
       "<pre style=\"white-space:pre;overflow-x:auto;line-height:normal;font-family:Menlo,'DejaVu Sans Mono',consolas,'Courier New',monospace\">cal_stage.05_F0_READ_DQ_CAL :   Pass\n",
       "</pre>\n"
      ],
      "text/plain": [
       "cal_stage.05_F0_READ_DQ_CAL :   Pass\n"
      ]
     },
     "metadata": {},
     "output_type": "display_data"
    },
    {
     "data": {
      "text/html": [
       "<pre style=\"white-space:pre;overflow-x:auto;line-height:normal;font-family:Menlo,'DejaVu Sans Mono',consolas,'Courier New',monospace\">cal_stage.06_F0_WRITE_DQ_DBI_CAL :   Pass\n",
       "</pre>\n"
      ],
      "text/plain": [
       "cal_stage.06_F0_WRITE_DQ_DBI_CAL :   Pass\n"
      ]
     },
     "metadata": {},
     "output_type": "display_data"
    },
    {
     "data": {
      "text/html": [
       "<pre style=\"white-space:pre;overflow-x:auto;line-height:normal;font-family:Menlo,'DejaVu Sans Mono',consolas,'Courier New',monospace\">cal_stage.07_F0_WRITE_LATENCY_CAL :   Pass\n",
       "</pre>\n"
      ],
      "text/plain": [
       "cal_stage.07_F0_WRITE_LATENCY_CAL :   Pass\n"
      ]
     },
     "metadata": {},
     "output_type": "display_data"
    },
    {
     "data": {
      "text/html": [
       "<pre style=\"white-space:pre;overflow-x:auto;line-height:normal;font-family:Menlo,'DejaVu Sans Mono',consolas,'Courier New',monospace\">cal_stage.08_F0_READ_DQ_DBI_CAL_COMPLEX :   Pass\n",
       "</pre>\n"
      ],
      "text/plain": [
       "cal_stage.08_F0_READ_DQ_DBI_CAL_COMPLEX :   Pass\n"
      ]
     },
     "metadata": {},
     "output_type": "display_data"
    },
    {
     "data": {
      "text/html": [
       "<pre style=\"white-space:pre;overflow-x:auto;line-height:normal;font-family:Menlo,'DejaVu Sans Mono',consolas,'Courier New',monospace\">cal_stage.09_F0_WRITE_DQ_DBI_CAL_COMPLEX :   Pass\n",
       "</pre>\n"
      ],
      "text/plain": [
       "cal_stage.09_F0_WRITE_DQ_DBI_CAL_COMPLEX :   Pass\n"
      ]
     },
     "metadata": {},
     "output_type": "display_data"
    },
    {
     "data": {
      "text/html": [
       "<pre style=\"white-space:pre;overflow-x:auto;line-height:normal;font-family:Menlo,'DejaVu Sans Mono',consolas,'Courier New',monospace\">cal_stage.10_EN_VT_TRACK :   Pass\n",
       "</pre>\n"
      ],
      "text/plain": [
       "cal_stage.10_EN_VT_TRACK :   Pass\n"
      ]
     },
     "metadata": {},
     "output_type": "display_data"
    },
    {
     "data": {
      "text/html": [
       "<pre style=\"white-space:pre;overflow-x:auto;line-height:normal;font-family:Menlo,'DejaVu Sans Mono',consolas,'Courier New',monospace\">cal_stage.11_READ_DQS_TRACK :   Pass\n",
       "</pre>\n"
      ],
      "text/plain": [
       "cal_stage.11_READ_DQS_TRACK :   Pass\n"
      ]
     },
     "metadata": {},
     "output_type": "display_data"
    },
    {
     "data": {
      "text/html": [
       "<pre style=\"white-space:pre;overflow-x:auto;line-height:normal;font-family:Menlo,'DejaVu Sans Mono',consolas,'Courier New',monospace\">cal_stage.12_CAL_DONE :   Pass\n",
       "</pre>\n"
      ],
      "text/plain": [
       "cal_stage.12_CAL_DONE :   Pass\n"
      ]
     },
     "metadata": {},
     "output_type": "display_data"
    },
    {
     "data": {
      "text/html": [
       "<pre style=\"white-space:pre;overflow-x:auto;line-height:normal;font-family:Menlo,'DejaVu Sans Mono',consolas,'Courier New',monospace\">\n",
       "---------------------------------------\n",
       "\n",
       "</pre>\n"
      ],
      "text/plain": [
       "\n",
       "---------------------------------------\n",
       "\n"
      ]
     },
     "metadata": {},
     "output_type": "display_data"
    },
    {
     "data": {
      "text/html": [
       "<pre style=\"white-space:pre;overflow-x:auto;line-height:normal;font-family:Menlo,'DejaVu Sans Mono',consolas,'Courier New',monospace\"> Calibration Window Margin Analysis \n",
       "\n",
       "</pre>\n"
      ],
      "text/plain": [
       " Calibration Window Margin Analysis \n",
       "\n"
      ]
     },
     "metadata": {},
     "output_type": "display_data"
    },
    {
     "data": {
      "text/html": [
       "<pre style=\"white-space:pre;overflow-x:auto;line-height:normal;font-family:Menlo,'DejaVu Sans Mono',consolas,'Courier New',monospace\">---------------------------------------\n",
       "\n",
       "</pre>\n"
      ],
      "text/plain": [
       "---------------------------------------\n",
       "\n"
      ]
     },
     "metadata": {},
     "output_type": "display_data"
    },
    {
     "data": {
      "text/html": [
       "<pre style=\"white-space:pre;overflow-x:auto;line-height:normal;font-family:Menlo,'DejaVu Sans Mono',consolas,'Courier New',monospace\">\n",
       " Frequency <span style=\"color: #008080; text-decoration-color: #008080; font-weight: bold\">0</span>  - Read Margin - Simple Pattern - Rising Edge Clock in pS and <span style=\"font-weight: bold\">(</span>delay taps<span style=\"font-weight: bold\">)</span>:\n",
       "\n",
       "</pre>\n"
      ],
      "text/plain": [
       "\n",
       " Frequency \u001b[1;36m0\u001b[0m  - Read Margin - Simple Pattern - Rising Edge Clock in pS and \u001b[1m(\u001b[0mdelay taps\u001b[1m)\u001b[0m:\n",
       "\n"
      ]
     },
     "metadata": {},
     "output_type": "display_data"
    },
    {
     "data": {
      "text/html": [
       "<pre style=\"white-space:pre;overflow-x:auto;line-height:normal;font-family:Menlo,'DejaVu Sans Mono',consolas,'Courier New',monospace\">Byte  <span style=\"color: #008080; text-decoration-color: #008080; font-weight: bold\">0</span>  Nibble <span style=\"color: #008080; text-decoration-color: #008080; font-weight: bold\">0</span>  -   Left Margin:   <span style=\"color: #008080; text-decoration-color: #008080; font-weight: bold\">142</span>  <span style=\"font-weight: bold\">(</span> <span style=\"color: #008080; text-decoration-color: #008080; font-weight: bold\">70</span> <span style=\"font-weight: bold\">)</span>  Center Point:   <span style=\"color: #008080; text-decoration-color: #008080; font-weight: bold\">177</span>  <span style=\"font-weight: bold\">(</span> <span style=\"color: #008080; text-decoration-color: #008080; font-weight: bold\">87</span> <span style=\"font-weight: bold\">)</span>  Right Margin:   <span style=\"color: #008080; text-decoration-color: #008080; font-weight: bold\">144</span>  <span style=\"font-weight: bold\">(</span> <span style=\"color: #008080; text-decoration-color: #008080; font-weight: bold\">71</span> <span style=\"font-weight: bold\">)</span>\n",
       "</pre>\n"
      ],
      "text/plain": [
       "Byte  \u001b[1;36m0\u001b[0m  Nibble \u001b[1;36m0\u001b[0m  -   Left Margin:   \u001b[1;36m142\u001b[0m  \u001b[1m(\u001b[0m \u001b[1;36m70\u001b[0m \u001b[1m)\u001b[0m  Center Point:   \u001b[1;36m177\u001b[0m  \u001b[1m(\u001b[0m \u001b[1;36m87\u001b[0m \u001b[1m)\u001b[0m  Right Margin:   \u001b[1;36m144\u001b[0m  \u001b[1m(\u001b[0m \u001b[1;36m71\u001b[0m \u001b[1m)\u001b[0m\n"
      ]
     },
     "metadata": {},
     "output_type": "display_data"
    },
    {
     "data": {
      "text/html": [
       "<pre style=\"white-space:pre;overflow-x:auto;line-height:normal;font-family:Menlo,'DejaVu Sans Mono',consolas,'Courier New',monospace\">Byte  <span style=\"color: #008080; text-decoration-color: #008080; font-weight: bold\">0</span>  Nibble <span style=\"color: #008080; text-decoration-color: #008080; font-weight: bold\">1</span>  -   Left Margin:   <span style=\"color: #008080; text-decoration-color: #008080; font-weight: bold\">143</span>  <span style=\"font-weight: bold\">(</span> <span style=\"color: #008080; text-decoration-color: #008080; font-weight: bold\">70</span> <span style=\"font-weight: bold\">)</span>  Center Point:   <span style=\"color: #008080; text-decoration-color: #008080; font-weight: bold\">179</span>  <span style=\"font-weight: bold\">(</span> <span style=\"color: #008080; text-decoration-color: #008080; font-weight: bold\">87</span> <span style=\"font-weight: bold\">)</span>  Right Margin:   <span style=\"color: #008080; text-decoration-color: #008080; font-weight: bold\">145</span>  <span style=\"font-weight: bold\">(</span> <span style=\"color: #008080; text-decoration-color: #008080; font-weight: bold\">71</span> <span style=\"font-weight: bold\">)</span>\n",
       "</pre>\n"
      ],
      "text/plain": [
       "Byte  \u001b[1;36m0\u001b[0m  Nibble \u001b[1;36m1\u001b[0m  -   Left Margin:   \u001b[1;36m143\u001b[0m  \u001b[1m(\u001b[0m \u001b[1;36m70\u001b[0m \u001b[1m)\u001b[0m  Center Point:   \u001b[1;36m179\u001b[0m  \u001b[1m(\u001b[0m \u001b[1;36m87\u001b[0m \u001b[1m)\u001b[0m  Right Margin:   \u001b[1;36m145\u001b[0m  \u001b[1m(\u001b[0m \u001b[1;36m71\u001b[0m \u001b[1m)\u001b[0m\n"
      ]
     },
     "metadata": {},
     "output_type": "display_data"
    },
    {
     "data": {
      "text/html": [
       "<pre style=\"white-space:pre;overflow-x:auto;line-height:normal;font-family:Menlo,'DejaVu Sans Mono',consolas,'Courier New',monospace\">Byte  <span style=\"color: #008080; text-decoration-color: #008080; font-weight: bold\">1</span>  Nibble <span style=\"color: #008080; text-decoration-color: #008080; font-weight: bold\">0</span>  -   Left Margin:   <span style=\"color: #008080; text-decoration-color: #008080; font-weight: bold\">146</span>  <span style=\"font-weight: bold\">(</span> <span style=\"color: #008080; text-decoration-color: #008080; font-weight: bold\">74</span> <span style=\"font-weight: bold\">)</span>  Center Point:   <span style=\"color: #008080; text-decoration-color: #008080; font-weight: bold\">180</span>  <span style=\"font-weight: bold\">(</span> <span style=\"color: #008080; text-decoration-color: #008080; font-weight: bold\">91</span> <span style=\"font-weight: bold\">)</span>  Right Margin:   <span style=\"color: #008080; text-decoration-color: #008080; font-weight: bold\">146</span>  <span style=\"font-weight: bold\">(</span> <span style=\"color: #008080; text-decoration-color: #008080; font-weight: bold\">74</span> <span style=\"font-weight: bold\">)</span>\n",
       "</pre>\n"
      ],
      "text/plain": [
       "Byte  \u001b[1;36m1\u001b[0m  Nibble \u001b[1;36m0\u001b[0m  -   Left Margin:   \u001b[1;36m146\u001b[0m  \u001b[1m(\u001b[0m \u001b[1;36m74\u001b[0m \u001b[1m)\u001b[0m  Center Point:   \u001b[1;36m180\u001b[0m  \u001b[1m(\u001b[0m \u001b[1;36m91\u001b[0m \u001b[1m)\u001b[0m  Right Margin:   \u001b[1;36m146\u001b[0m  \u001b[1m(\u001b[0m \u001b[1;36m74\u001b[0m \u001b[1m)\u001b[0m\n"
      ]
     },
     "metadata": {},
     "output_type": "display_data"
    },
    {
     "data": {
      "text/html": [
       "<pre style=\"white-space:pre;overflow-x:auto;line-height:normal;font-family:Menlo,'DejaVu Sans Mono',consolas,'Courier New',monospace\">Byte  <span style=\"color: #008080; text-decoration-color: #008080; font-weight: bold\">1</span>  Nibble <span style=\"color: #008080; text-decoration-color: #008080; font-weight: bold\">1</span>  -   Left Margin:   <span style=\"color: #008080; text-decoration-color: #008080; font-weight: bold\">146</span>  <span style=\"font-weight: bold\">(</span> <span style=\"color: #008080; text-decoration-color: #008080; font-weight: bold\">72</span> <span style=\"font-weight: bold\">)</span>  Center Point:   <span style=\"color: #008080; text-decoration-color: #008080; font-weight: bold\">181</span>  <span style=\"font-weight: bold\">(</span> <span style=\"color: #008080; text-decoration-color: #008080; font-weight: bold\">89</span> <span style=\"font-weight: bold\">)</span>  Right Margin:   <span style=\"color: #008080; text-decoration-color: #008080; font-weight: bold\">148</span>  <span style=\"font-weight: bold\">(</span> <span style=\"color: #008080; text-decoration-color: #008080; font-weight: bold\">73</span> <span style=\"font-weight: bold\">)</span>\n",
       "</pre>\n"
      ],
      "text/plain": [
       "Byte  \u001b[1;36m1\u001b[0m  Nibble \u001b[1;36m1\u001b[0m  -   Left Margin:   \u001b[1;36m146\u001b[0m  \u001b[1m(\u001b[0m \u001b[1;36m72\u001b[0m \u001b[1m)\u001b[0m  Center Point:   \u001b[1;36m181\u001b[0m  \u001b[1m(\u001b[0m \u001b[1;36m89\u001b[0m \u001b[1m)\u001b[0m  Right Margin:   \u001b[1;36m148\u001b[0m  \u001b[1m(\u001b[0m \u001b[1;36m73\u001b[0m \u001b[1m)\u001b[0m\n"
      ]
     },
     "metadata": {},
     "output_type": "display_data"
    },
    {
     "data": {
      "text/html": [
       "<pre style=\"white-space:pre;overflow-x:auto;line-height:normal;font-family:Menlo,'DejaVu Sans Mono',consolas,'Courier New',monospace\">Byte  <span style=\"color: #008080; text-decoration-color: #008080; font-weight: bold\">2</span>  Nibble <span style=\"color: #008080; text-decoration-color: #008080; font-weight: bold\">0</span>  -   Left Margin:   <span style=\"color: #008080; text-decoration-color: #008080; font-weight: bold\">154</span>  <span style=\"font-weight: bold\">(</span> <span style=\"color: #008080; text-decoration-color: #008080; font-weight: bold\">75</span> <span style=\"font-weight: bold\">)</span>  Center Point:   <span style=\"color: #008080; text-decoration-color: #008080; font-weight: bold\">189</span>  <span style=\"font-weight: bold\">(</span> <span style=\"color: #008080; text-decoration-color: #008080; font-weight: bold\">92</span> <span style=\"font-weight: bold\">)</span>  Right Margin:   <span style=\"color: #008080; text-decoration-color: #008080; font-weight: bold\">154</span>  <span style=\"font-weight: bold\">(</span> <span style=\"color: #008080; text-decoration-color: #008080; font-weight: bold\">75</span> <span style=\"font-weight: bold\">)</span>\n",
       "</pre>\n"
      ],
      "text/plain": [
       "Byte  \u001b[1;36m2\u001b[0m  Nibble \u001b[1;36m0\u001b[0m  -   Left Margin:   \u001b[1;36m154\u001b[0m  \u001b[1m(\u001b[0m \u001b[1;36m75\u001b[0m \u001b[1m)\u001b[0m  Center Point:   \u001b[1;36m189\u001b[0m  \u001b[1m(\u001b[0m \u001b[1;36m92\u001b[0m \u001b[1m)\u001b[0m  Right Margin:   \u001b[1;36m154\u001b[0m  \u001b[1m(\u001b[0m \u001b[1;36m75\u001b[0m \u001b[1m)\u001b[0m\n"
      ]
     },
     "metadata": {},
     "output_type": "display_data"
    },
    {
     "data": {
      "text/html": [
       "<pre style=\"white-space:pre;overflow-x:auto;line-height:normal;font-family:Menlo,'DejaVu Sans Mono',consolas,'Courier New',monospace\">Byte  <span style=\"color: #008080; text-decoration-color: #008080; font-weight: bold\">2</span>  Nibble <span style=\"color: #008080; text-decoration-color: #008080; font-weight: bold\">1</span>  -   Left Margin:   <span style=\"color: #008080; text-decoration-color: #008080; font-weight: bold\">156</span>  <span style=\"font-weight: bold\">(</span> <span style=\"color: #008080; text-decoration-color: #008080; font-weight: bold\">74</span> <span style=\"font-weight: bold\">)</span>  Center Point:   <span style=\"color: #008080; text-decoration-color: #008080; font-weight: bold\">192</span>  <span style=\"font-weight: bold\">(</span> <span style=\"color: #008080; text-decoration-color: #008080; font-weight: bold\">91</span> <span style=\"font-weight: bold\">)</span>  Right Margin:   <span style=\"color: #008080; text-decoration-color: #008080; font-weight: bold\">156</span>  <span style=\"font-weight: bold\">(</span> <span style=\"color: #008080; text-decoration-color: #008080; font-weight: bold\">74</span> <span style=\"font-weight: bold\">)</span>\n",
       "</pre>\n"
      ],
      "text/plain": [
       "Byte  \u001b[1;36m2\u001b[0m  Nibble \u001b[1;36m1\u001b[0m  -   Left Margin:   \u001b[1;36m156\u001b[0m  \u001b[1m(\u001b[0m \u001b[1;36m74\u001b[0m \u001b[1m)\u001b[0m  Center Point:   \u001b[1;36m192\u001b[0m  \u001b[1m(\u001b[0m \u001b[1;36m91\u001b[0m \u001b[1m)\u001b[0m  Right Margin:   \u001b[1;36m156\u001b[0m  \u001b[1m(\u001b[0m \u001b[1;36m74\u001b[0m \u001b[1m)\u001b[0m\n"
      ]
     },
     "metadata": {},
     "output_type": "display_data"
    },
    {
     "data": {
      "text/html": [
       "<pre style=\"white-space:pre;overflow-x:auto;line-height:normal;font-family:Menlo,'DejaVu Sans Mono',consolas,'Courier New',monospace\">Byte  <span style=\"color: #008080; text-decoration-color: #008080; font-weight: bold\">3</span>  Nibble <span style=\"color: #008080; text-decoration-color: #008080; font-weight: bold\">0</span>  -   Left Margin:   <span style=\"color: #008080; text-decoration-color: #008080; font-weight: bold\">152</span>  <span style=\"font-weight: bold\">(</span> <span style=\"color: #008080; text-decoration-color: #008080; font-weight: bold\">74</span> <span style=\"font-weight: bold\">)</span>  Center Point:   <span style=\"color: #008080; text-decoration-color: #008080; font-weight: bold\">187</span>  <span style=\"font-weight: bold\">(</span> <span style=\"color: #008080; text-decoration-color: #008080; font-weight: bold\">91</span> <span style=\"font-weight: bold\">)</span>  Right Margin:   <span style=\"color: #008080; text-decoration-color: #008080; font-weight: bold\">152</span>  <span style=\"font-weight: bold\">(</span> <span style=\"color: #008080; text-decoration-color: #008080; font-weight: bold\">74</span> <span style=\"font-weight: bold\">)</span>\n",
       "</pre>\n"
      ],
      "text/plain": [
       "Byte  \u001b[1;36m3\u001b[0m  Nibble \u001b[1;36m0\u001b[0m  -   Left Margin:   \u001b[1;36m152\u001b[0m  \u001b[1m(\u001b[0m \u001b[1;36m74\u001b[0m \u001b[1m)\u001b[0m  Center Point:   \u001b[1;36m187\u001b[0m  \u001b[1m(\u001b[0m \u001b[1;36m91\u001b[0m \u001b[1m)\u001b[0m  Right Margin:   \u001b[1;36m152\u001b[0m  \u001b[1m(\u001b[0m \u001b[1;36m74\u001b[0m \u001b[1m)\u001b[0m\n"
      ]
     },
     "metadata": {},
     "output_type": "display_data"
    },
    {
     "data": {
      "text/html": [
       "<pre style=\"white-space:pre;overflow-x:auto;line-height:normal;font-family:Menlo,'DejaVu Sans Mono',consolas,'Courier New',monospace\">Byte  <span style=\"color: #008080; text-decoration-color: #008080; font-weight: bold\">3</span>  Nibble <span style=\"color: #008080; text-decoration-color: #008080; font-weight: bold\">1</span>  -   Left Margin:   <span style=\"color: #008080; text-decoration-color: #008080; font-weight: bold\">154</span>  <span style=\"font-weight: bold\">(</span> <span style=\"color: #008080; text-decoration-color: #008080; font-weight: bold\">75</span> <span style=\"font-weight: bold\">)</span>  Center Point:   <span style=\"color: #008080; text-decoration-color: #008080; font-weight: bold\">189</span>  <span style=\"font-weight: bold\">(</span> <span style=\"color: #008080; text-decoration-color: #008080; font-weight: bold\">92</span> <span style=\"font-weight: bold\">)</span>  Right Margin:   <span style=\"color: #008080; text-decoration-color: #008080; font-weight: bold\">154</span>  <span style=\"font-weight: bold\">(</span> <span style=\"color: #008080; text-decoration-color: #008080; font-weight: bold\">75</span> <span style=\"font-weight: bold\">)</span>\n",
       "</pre>\n"
      ],
      "text/plain": [
       "Byte  \u001b[1;36m3\u001b[0m  Nibble \u001b[1;36m1\u001b[0m  -   Left Margin:   \u001b[1;36m154\u001b[0m  \u001b[1m(\u001b[0m \u001b[1;36m75\u001b[0m \u001b[1m)\u001b[0m  Center Point:   \u001b[1;36m189\u001b[0m  \u001b[1m(\u001b[0m \u001b[1;36m92\u001b[0m \u001b[1m)\u001b[0m  Right Margin:   \u001b[1;36m154\u001b[0m  \u001b[1m(\u001b[0m \u001b[1;36m75\u001b[0m \u001b[1m)\u001b[0m\n"
      ]
     },
     "metadata": {},
     "output_type": "display_data"
    },
    {
     "data": {
      "text/html": [
       "<pre style=\"white-space:pre;overflow-x:auto;line-height:normal;font-family:Menlo,'DejaVu Sans Mono',consolas,'Courier New',monospace\">Byte  <span style=\"color: #008080; text-decoration-color: #008080; font-weight: bold\">4</span>  Nibble <span style=\"color: #008080; text-decoration-color: #008080; font-weight: bold\">0</span>  -   Left Margin:   <span style=\"color: #008080; text-decoration-color: #008080; font-weight: bold\">148</span>  <span style=\"font-weight: bold\">(</span> <span style=\"color: #008080; text-decoration-color: #008080; font-weight: bold\">73</span> <span style=\"font-weight: bold\">)</span>  Center Point:   <span style=\"color: #008080; text-decoration-color: #008080; font-weight: bold\">183</span>  <span style=\"font-weight: bold\">(</span> <span style=\"color: #008080; text-decoration-color: #008080; font-weight: bold\">90</span> <span style=\"font-weight: bold\">)</span>  Right Margin:   <span style=\"color: #008080; text-decoration-color: #008080; font-weight: bold\">150</span>  <span style=\"font-weight: bold\">(</span> <span style=\"color: #008080; text-decoration-color: #008080; font-weight: bold\">74</span> <span style=\"font-weight: bold\">)</span>\n",
       "</pre>\n"
      ],
      "text/plain": [
       "Byte  \u001b[1;36m4\u001b[0m  Nibble \u001b[1;36m0\u001b[0m  -   Left Margin:   \u001b[1;36m148\u001b[0m  \u001b[1m(\u001b[0m \u001b[1;36m73\u001b[0m \u001b[1m)\u001b[0m  Center Point:   \u001b[1;36m183\u001b[0m  \u001b[1m(\u001b[0m \u001b[1;36m90\u001b[0m \u001b[1m)\u001b[0m  Right Margin:   \u001b[1;36m150\u001b[0m  \u001b[1m(\u001b[0m \u001b[1;36m74\u001b[0m \u001b[1m)\u001b[0m\n"
      ]
     },
     "metadata": {},
     "output_type": "display_data"
    },
    {
     "data": {
      "text/html": [
       "<pre style=\"white-space:pre;overflow-x:auto;line-height:normal;font-family:Menlo,'DejaVu Sans Mono',consolas,'Courier New',monospace\">Byte  <span style=\"color: #008080; text-decoration-color: #008080; font-weight: bold\">4</span>  Nibble <span style=\"color: #008080; text-decoration-color: #008080; font-weight: bold\">1</span>  -   Left Margin:   <span style=\"color: #008080; text-decoration-color: #008080; font-weight: bold\">150</span>  <span style=\"font-weight: bold\">(</span> <span style=\"color: #008080; text-decoration-color: #008080; font-weight: bold\">74</span> <span style=\"font-weight: bold\">)</span>  Center Point:   <span style=\"color: #008080; text-decoration-color: #008080; font-weight: bold\">185</span>  <span style=\"font-weight: bold\">(</span> <span style=\"color: #008080; text-decoration-color: #008080; font-weight: bold\">91</span> <span style=\"font-weight: bold\">)</span>  Right Margin:   <span style=\"color: #008080; text-decoration-color: #008080; font-weight: bold\">150</span>  <span style=\"font-weight: bold\">(</span> <span style=\"color: #008080; text-decoration-color: #008080; font-weight: bold\">74</span> <span style=\"font-weight: bold\">)</span>\n",
       "</pre>\n"
      ],
      "text/plain": [
       "Byte  \u001b[1;36m4\u001b[0m  Nibble \u001b[1;36m1\u001b[0m  -   Left Margin:   \u001b[1;36m150\u001b[0m  \u001b[1m(\u001b[0m \u001b[1;36m74\u001b[0m \u001b[1m)\u001b[0m  Center Point:   \u001b[1;36m185\u001b[0m  \u001b[1m(\u001b[0m \u001b[1;36m91\u001b[0m \u001b[1m)\u001b[0m  Right Margin:   \u001b[1;36m150\u001b[0m  \u001b[1m(\u001b[0m \u001b[1;36m74\u001b[0m \u001b[1m)\u001b[0m\n"
      ]
     },
     "metadata": {},
     "output_type": "display_data"
    },
    {
     "data": {
      "text/html": [
       "<pre style=\"white-space:pre;overflow-x:auto;line-height:normal;font-family:Menlo,'DejaVu Sans Mono',consolas,'Courier New',monospace\">Byte  <span style=\"color: #008080; text-decoration-color: #008080; font-weight: bold\">5</span>  Nibble <span style=\"color: #008080; text-decoration-color: #008080; font-weight: bold\">0</span>  -   Left Margin:   <span style=\"color: #008080; text-decoration-color: #008080; font-weight: bold\">154</span>  <span style=\"font-weight: bold\">(</span> <span style=\"color: #008080; text-decoration-color: #008080; font-weight: bold\">75</span> <span style=\"font-weight: bold\">)</span>  Center Point:   <span style=\"color: #008080; text-decoration-color: #008080; font-weight: bold\">189</span>  <span style=\"font-weight: bold\">(</span> <span style=\"color: #008080; text-decoration-color: #008080; font-weight: bold\">92</span> <span style=\"font-weight: bold\">)</span>  Right Margin:   <span style=\"color: #008080; text-decoration-color: #008080; font-weight: bold\">156</span>  <span style=\"font-weight: bold\">(</span> <span style=\"color: #008080; text-decoration-color: #008080; font-weight: bold\">76</span> <span style=\"font-weight: bold\">)</span>\n",
       "</pre>\n"
      ],
      "text/plain": [
       "Byte  \u001b[1;36m5\u001b[0m  Nibble \u001b[1;36m0\u001b[0m  -   Left Margin:   \u001b[1;36m154\u001b[0m  \u001b[1m(\u001b[0m \u001b[1;36m75\u001b[0m \u001b[1m)\u001b[0m  Center Point:   \u001b[1;36m189\u001b[0m  \u001b[1m(\u001b[0m \u001b[1;36m92\u001b[0m \u001b[1m)\u001b[0m  Right Margin:   \u001b[1;36m156\u001b[0m  \u001b[1m(\u001b[0m \u001b[1;36m76\u001b[0m \u001b[1m)\u001b[0m\n"
      ]
     },
     "metadata": {},
     "output_type": "display_data"
    },
    {
     "data": {
      "text/html": [
       "<pre style=\"white-space:pre;overflow-x:auto;line-height:normal;font-family:Menlo,'DejaVu Sans Mono',consolas,'Courier New',monospace\">Byte  <span style=\"color: #008080; text-decoration-color: #008080; font-weight: bold\">5</span>  Nibble <span style=\"color: #008080; text-decoration-color: #008080; font-weight: bold\">1</span>  -   Left Margin:   <span style=\"color: #008080; text-decoration-color: #008080; font-weight: bold\">156</span>  <span style=\"font-weight: bold\">(</span> <span style=\"color: #008080; text-decoration-color: #008080; font-weight: bold\">75</span> <span style=\"font-weight: bold\">)</span>  Center Point:   <span style=\"color: #008080; text-decoration-color: #008080; font-weight: bold\">192</span>  <span style=\"font-weight: bold\">(</span> <span style=\"color: #008080; text-decoration-color: #008080; font-weight: bold\">92</span> <span style=\"font-weight: bold\">)</span>  Right Margin:   <span style=\"color: #008080; text-decoration-color: #008080; font-weight: bold\">158</span>  <span style=\"font-weight: bold\">(</span> <span style=\"color: #008080; text-decoration-color: #008080; font-weight: bold\">76</span> <span style=\"font-weight: bold\">)</span>\n",
       "</pre>\n"
      ],
      "text/plain": [
       "Byte  \u001b[1;36m5\u001b[0m  Nibble \u001b[1;36m1\u001b[0m  -   Left Margin:   \u001b[1;36m156\u001b[0m  \u001b[1m(\u001b[0m \u001b[1;36m75\u001b[0m \u001b[1m)\u001b[0m  Center Point:   \u001b[1;36m192\u001b[0m  \u001b[1m(\u001b[0m \u001b[1;36m92\u001b[0m \u001b[1m)\u001b[0m  Right Margin:   \u001b[1;36m158\u001b[0m  \u001b[1m(\u001b[0m \u001b[1;36m76\u001b[0m \u001b[1m)\u001b[0m\n"
      ]
     },
     "metadata": {},
     "output_type": "display_data"
    },
    {
     "data": {
      "text/html": [
       "<pre style=\"white-space:pre;overflow-x:auto;line-height:normal;font-family:Menlo,'DejaVu Sans Mono',consolas,'Courier New',monospace\">Byte  <span style=\"color: #008080; text-decoration-color: #008080; font-weight: bold\">6</span>  Nibble <span style=\"color: #008080; text-decoration-color: #008080; font-weight: bold\">0</span>  -   Left Margin:   <span style=\"color: #008080; text-decoration-color: #008080; font-weight: bold\">150</span>  <span style=\"font-weight: bold\">(</span> <span style=\"color: #008080; text-decoration-color: #008080; font-weight: bold\">72</span> <span style=\"font-weight: bold\">)</span>  Center Point:   <span style=\"color: #008080; text-decoration-color: #008080; font-weight: bold\">185</span>  <span style=\"font-weight: bold\">(</span> <span style=\"color: #008080; text-decoration-color: #008080; font-weight: bold\">89</span> <span style=\"font-weight: bold\">)</span>  Right Margin:   <span style=\"color: #008080; text-decoration-color: #008080; font-weight: bold\">152</span>  <span style=\"font-weight: bold\">(</span> <span style=\"color: #008080; text-decoration-color: #008080; font-weight: bold\">73</span> <span style=\"font-weight: bold\">)</span>\n",
       "</pre>\n"
      ],
      "text/plain": [
       "Byte  \u001b[1;36m6\u001b[0m  Nibble \u001b[1;36m0\u001b[0m  -   Left Margin:   \u001b[1;36m150\u001b[0m  \u001b[1m(\u001b[0m \u001b[1;36m72\u001b[0m \u001b[1m)\u001b[0m  Center Point:   \u001b[1;36m185\u001b[0m  \u001b[1m(\u001b[0m \u001b[1;36m89\u001b[0m \u001b[1m)\u001b[0m  Right Margin:   \u001b[1;36m152\u001b[0m  \u001b[1m(\u001b[0m \u001b[1;36m73\u001b[0m \u001b[1m)\u001b[0m\n"
      ]
     },
     "metadata": {},
     "output_type": "display_data"
    },
    {
     "data": {
      "text/html": [
       "<pre style=\"white-space:pre;overflow-x:auto;line-height:normal;font-family:Menlo,'DejaVu Sans Mono',consolas,'Courier New',monospace\">Byte  <span style=\"color: #008080; text-decoration-color: #008080; font-weight: bold\">6</span>  Nibble <span style=\"color: #008080; text-decoration-color: #008080; font-weight: bold\">1</span>  -   Left Margin:   <span style=\"color: #008080; text-decoration-color: #008080; font-weight: bold\">154</span>  <span style=\"font-weight: bold\">(</span> <span style=\"color: #008080; text-decoration-color: #008080; font-weight: bold\">75</span> <span style=\"font-weight: bold\">)</span>  Center Point:   <span style=\"color: #008080; text-decoration-color: #008080; font-weight: bold\">189</span>  <span style=\"font-weight: bold\">(</span> <span style=\"color: #008080; text-decoration-color: #008080; font-weight: bold\">92</span> <span style=\"font-weight: bold\">)</span>  Right Margin:   <span style=\"color: #008080; text-decoration-color: #008080; font-weight: bold\">154</span>  <span style=\"font-weight: bold\">(</span> <span style=\"color: #008080; text-decoration-color: #008080; font-weight: bold\">75</span> <span style=\"font-weight: bold\">)</span>\n",
       "</pre>\n"
      ],
      "text/plain": [
       "Byte  \u001b[1;36m6\u001b[0m  Nibble \u001b[1;36m1\u001b[0m  -   Left Margin:   \u001b[1;36m154\u001b[0m  \u001b[1m(\u001b[0m \u001b[1;36m75\u001b[0m \u001b[1m)\u001b[0m  Center Point:   \u001b[1;36m189\u001b[0m  \u001b[1m(\u001b[0m \u001b[1;36m92\u001b[0m \u001b[1m)\u001b[0m  Right Margin:   \u001b[1;36m154\u001b[0m  \u001b[1m(\u001b[0m \u001b[1;36m75\u001b[0m \u001b[1m)\u001b[0m\n"
      ]
     },
     "metadata": {},
     "output_type": "display_data"
    },
    {
     "data": {
      "text/html": [
       "<pre style=\"white-space:pre;overflow-x:auto;line-height:normal;font-family:Menlo,'DejaVu Sans Mono',consolas,'Courier New',monospace\">Byte  <span style=\"color: #008080; text-decoration-color: #008080; font-weight: bold\">7</span>  Nibble <span style=\"color: #008080; text-decoration-color: #008080; font-weight: bold\">0</span>  -   Left Margin:   <span style=\"color: #008080; text-decoration-color: #008080; font-weight: bold\">150</span>  <span style=\"font-weight: bold\">(</span> <span style=\"color: #008080; text-decoration-color: #008080; font-weight: bold\">73</span> <span style=\"font-weight: bold\">)</span>  Center Point:   <span style=\"color: #008080; text-decoration-color: #008080; font-weight: bold\">185</span>  <span style=\"font-weight: bold\">(</span> <span style=\"color: #008080; text-decoration-color: #008080; font-weight: bold\">90</span> <span style=\"font-weight: bold\">)</span>  Right Margin:   <span style=\"color: #008080; text-decoration-color: #008080; font-weight: bold\">152</span>  <span style=\"font-weight: bold\">(</span> <span style=\"color: #008080; text-decoration-color: #008080; font-weight: bold\">74</span> <span style=\"font-weight: bold\">)</span>\n",
       "</pre>\n"
      ],
      "text/plain": [
       "Byte  \u001b[1;36m7\u001b[0m  Nibble \u001b[1;36m0\u001b[0m  -   Left Margin:   \u001b[1;36m150\u001b[0m  \u001b[1m(\u001b[0m \u001b[1;36m73\u001b[0m \u001b[1m)\u001b[0m  Center Point:   \u001b[1;36m185\u001b[0m  \u001b[1m(\u001b[0m \u001b[1;36m90\u001b[0m \u001b[1m)\u001b[0m  Right Margin:   \u001b[1;36m152\u001b[0m  \u001b[1m(\u001b[0m \u001b[1;36m74\u001b[0m \u001b[1m)\u001b[0m\n"
      ]
     },
     "metadata": {},
     "output_type": "display_data"
    },
    {
     "data": {
      "text/html": [
       "<pre style=\"white-space:pre;overflow-x:auto;line-height:normal;font-family:Menlo,'DejaVu Sans Mono',consolas,'Courier New',monospace\">Byte  <span style=\"color: #008080; text-decoration-color: #008080; font-weight: bold\">7</span>  Nibble <span style=\"color: #008080; text-decoration-color: #008080; font-weight: bold\">1</span>  -   Left Margin:   <span style=\"color: #008080; text-decoration-color: #008080; font-weight: bold\">143</span>  <span style=\"font-weight: bold\">(</span> <span style=\"color: #008080; text-decoration-color: #008080; font-weight: bold\">70</span> <span style=\"font-weight: bold\">)</span>  Center Point:   <span style=\"color: #008080; text-decoration-color: #008080; font-weight: bold\">179</span>  <span style=\"font-weight: bold\">(</span> <span style=\"color: #008080; text-decoration-color: #008080; font-weight: bold\">87</span> <span style=\"font-weight: bold\">)</span>  Right Margin:   <span style=\"color: #008080; text-decoration-color: #008080; font-weight: bold\">145</span>  <span style=\"font-weight: bold\">(</span> <span style=\"color: #008080; text-decoration-color: #008080; font-weight: bold\">71</span> <span style=\"font-weight: bold\">)</span>\n",
       "</pre>\n"
      ],
      "text/plain": [
       "Byte  \u001b[1;36m7\u001b[0m  Nibble \u001b[1;36m1\u001b[0m  -   Left Margin:   \u001b[1;36m143\u001b[0m  \u001b[1m(\u001b[0m \u001b[1;36m70\u001b[0m \u001b[1m)\u001b[0m  Center Point:   \u001b[1;36m179\u001b[0m  \u001b[1m(\u001b[0m \u001b[1;36m87\u001b[0m \u001b[1m)\u001b[0m  Right Margin:   \u001b[1;36m145\u001b[0m  \u001b[1m(\u001b[0m \u001b[1;36m71\u001b[0m \u001b[1m)\u001b[0m\n"
      ]
     },
     "metadata": {},
     "output_type": "display_data"
    },
    {
     "data": {
      "text/html": [
       "<pre style=\"white-space:pre;overflow-x:auto;line-height:normal;font-family:Menlo,'DejaVu Sans Mono',consolas,'Courier New',monospace\">\n",
       " Frequency <span style=\"color: #008080; text-decoration-color: #008080; font-weight: bold\">0</span>  - Read Margin - Simple Pattern - Falling Edge Clock in pS and <span style=\"font-weight: bold\">(</span>delay taps<span style=\"font-weight: bold\">)</span>:\n",
       "\n",
       "</pre>\n"
      ],
      "text/plain": [
       "\n",
       " Frequency \u001b[1;36m0\u001b[0m  - Read Margin - Simple Pattern - Falling Edge Clock in pS and \u001b[1m(\u001b[0mdelay taps\u001b[1m)\u001b[0m:\n",
       "\n"
      ]
     },
     "metadata": {},
     "output_type": "display_data"
    },
    {
     "data": {
      "text/html": [
       "<pre style=\"white-space:pre;overflow-x:auto;line-height:normal;font-family:Menlo,'DejaVu Sans Mono',consolas,'Courier New',monospace\">Byte  <span style=\"color: #008080; text-decoration-color: #008080; font-weight: bold\">0</span>  Nibble <span style=\"color: #008080; text-decoration-color: #008080; font-weight: bold\">0</span>  -   Left Margin:   <span style=\"color: #008080; text-decoration-color: #008080; font-weight: bold\">152</span>  <span style=\"font-weight: bold\">(</span> <span style=\"color: #008080; text-decoration-color: #008080; font-weight: bold\">74</span> <span style=\"font-weight: bold\">)</span>  Center Point:   <span style=\"color: #008080; text-decoration-color: #008080; font-weight: bold\">199</span>  <span style=\"font-weight: bold\">(</span> <span style=\"color: #008080; text-decoration-color: #008080; font-weight: bold\">97</span> <span style=\"font-weight: bold\">)</span>  Right Margin:   <span style=\"color: #008080; text-decoration-color: #008080; font-weight: bold\">152</span>  <span style=\"font-weight: bold\">(</span> <span style=\"color: #008080; text-decoration-color: #008080; font-weight: bold\">74</span> <span style=\"font-weight: bold\">)</span>\n",
       "</pre>\n"
      ],
      "text/plain": [
       "Byte  \u001b[1;36m0\u001b[0m  Nibble \u001b[1;36m0\u001b[0m  -   Left Margin:   \u001b[1;36m152\u001b[0m  \u001b[1m(\u001b[0m \u001b[1;36m74\u001b[0m \u001b[1m)\u001b[0m  Center Point:   \u001b[1;36m199\u001b[0m  \u001b[1m(\u001b[0m \u001b[1;36m97\u001b[0m \u001b[1m)\u001b[0m  Right Margin:   \u001b[1;36m152\u001b[0m  \u001b[1m(\u001b[0m \u001b[1;36m74\u001b[0m \u001b[1m)\u001b[0m\n"
      ]
     },
     "metadata": {},
     "output_type": "display_data"
    },
    {
     "data": {
      "text/html": [
       "<pre style=\"white-space:pre;overflow-x:auto;line-height:normal;font-family:Menlo,'DejaVu Sans Mono',consolas,'Courier New',monospace\">Byte  <span style=\"color: #008080; text-decoration-color: #008080; font-weight: bold\">0</span>  Nibble <span style=\"color: #008080; text-decoration-color: #008080; font-weight: bold\">1</span>  -   Left Margin:   <span style=\"color: #008080; text-decoration-color: #008080; font-weight: bold\">154</span>  <span style=\"font-weight: bold\">(</span> <span style=\"color: #008080; text-decoration-color: #008080; font-weight: bold\">73</span> <span style=\"font-weight: bold\">)</span>  Center Point:   <span style=\"color: #008080; text-decoration-color: #008080; font-weight: bold\">203</span>  <span style=\"font-weight: bold\">(</span> <span style=\"color: #008080; text-decoration-color: #008080; font-weight: bold\">96</span> <span style=\"font-weight: bold\">)</span>  Right Margin:   <span style=\"color: #008080; text-decoration-color: #008080; font-weight: bold\">156</span>  <span style=\"font-weight: bold\">(</span> <span style=\"color: #008080; text-decoration-color: #008080; font-weight: bold\">74</span> <span style=\"font-weight: bold\">)</span>\n",
       "</pre>\n"
      ],
      "text/plain": [
       "Byte  \u001b[1;36m0\u001b[0m  Nibble \u001b[1;36m1\u001b[0m  -   Left Margin:   \u001b[1;36m154\u001b[0m  \u001b[1m(\u001b[0m \u001b[1;36m73\u001b[0m \u001b[1m)\u001b[0m  Center Point:   \u001b[1;36m203\u001b[0m  \u001b[1m(\u001b[0m \u001b[1;36m96\u001b[0m \u001b[1m)\u001b[0m  Right Margin:   \u001b[1;36m156\u001b[0m  \u001b[1m(\u001b[0m \u001b[1;36m74\u001b[0m \u001b[1m)\u001b[0m\n"
      ]
     },
     "metadata": {},
     "output_type": "display_data"
    },
    {
     "data": {
      "text/html": [
       "<pre style=\"white-space:pre;overflow-x:auto;line-height:normal;font-family:Menlo,'DejaVu Sans Mono',consolas,'Courier New',monospace\">Byte  <span style=\"color: #008080; text-decoration-color: #008080; font-weight: bold\">1</span>  Nibble <span style=\"color: #008080; text-decoration-color: #008080; font-weight: bold\">0</span>  -   Left Margin:   <span style=\"color: #008080; text-decoration-color: #008080; font-weight: bold\">137</span>  <span style=\"font-weight: bold\">(</span> <span style=\"color: #008080; text-decoration-color: #008080; font-weight: bold\">68</span> <span style=\"font-weight: bold\">)</span>  Center Point:   <span style=\"color: #008080; text-decoration-color: #008080; font-weight: bold\">197</span>  <span style=\"font-weight: bold\">(</span> <span style=\"color: #008080; text-decoration-color: #008080; font-weight: bold\">97</span> <span style=\"font-weight: bold\">)</span>  Right Margin:   <span style=\"color: #008080; text-decoration-color: #008080; font-weight: bold\">140</span>  <span style=\"font-weight: bold\">(</span> <span style=\"color: #008080; text-decoration-color: #008080; font-weight: bold\">69</span> <span style=\"font-weight: bold\">)</span>\n",
       "</pre>\n"
      ],
      "text/plain": [
       "Byte  \u001b[1;36m1\u001b[0m  Nibble \u001b[1;36m0\u001b[0m  -   Left Margin:   \u001b[1;36m137\u001b[0m  \u001b[1m(\u001b[0m \u001b[1;36m68\u001b[0m \u001b[1m)\u001b[0m  Center Point:   \u001b[1;36m197\u001b[0m  \u001b[1m(\u001b[0m \u001b[1;36m97\u001b[0m \u001b[1m)\u001b[0m  Right Margin:   \u001b[1;36m140\u001b[0m  \u001b[1m(\u001b[0m \u001b[1;36m69\u001b[0m \u001b[1m)\u001b[0m\n"
      ]
     },
     "metadata": {},
     "output_type": "display_data"
    },
    {
     "data": {
      "text/html": [
       "<pre style=\"white-space:pre;overflow-x:auto;line-height:normal;font-family:Menlo,'DejaVu Sans Mono',consolas,'Courier New',monospace\">Byte  <span style=\"color: #008080; text-decoration-color: #008080; font-weight: bold\">1</span>  Nibble <span style=\"color: #008080; text-decoration-color: #008080; font-weight: bold\">1</span>  -   Left Margin:   <span style=\"color: #008080; text-decoration-color: #008080; font-weight: bold\">142</span>  <span style=\"font-weight: bold\">(</span> <span style=\"color: #008080; text-decoration-color: #008080; font-weight: bold\">70</span> <span style=\"font-weight: bold\">)</span>  Center Point:   <span style=\"color: #008080; text-decoration-color: #008080; font-weight: bold\">189</span>  <span style=\"font-weight: bold\">(</span> <span style=\"color: #008080; text-decoration-color: #008080; font-weight: bold\">93</span> <span style=\"font-weight: bold\">)</span>  Right Margin:   <span style=\"color: #008080; text-decoration-color: #008080; font-weight: bold\">144</span>  <span style=\"font-weight: bold\">(</span> <span style=\"color: #008080; text-decoration-color: #008080; font-weight: bold\">71</span> <span style=\"font-weight: bold\">)</span>\n",
       "</pre>\n"
      ],
      "text/plain": [
       "Byte  \u001b[1;36m1\u001b[0m  Nibble \u001b[1;36m1\u001b[0m  -   Left Margin:   \u001b[1;36m142\u001b[0m  \u001b[1m(\u001b[0m \u001b[1;36m70\u001b[0m \u001b[1m)\u001b[0m  Center Point:   \u001b[1;36m189\u001b[0m  \u001b[1m(\u001b[0m \u001b[1;36m93\u001b[0m \u001b[1m)\u001b[0m  Right Margin:   \u001b[1;36m144\u001b[0m  \u001b[1m(\u001b[0m \u001b[1;36m71\u001b[0m \u001b[1m)\u001b[0m\n"
      ]
     },
     "metadata": {},
     "output_type": "display_data"
    },
    {
     "data": {
      "text/html": [
       "<pre style=\"white-space:pre;overflow-x:auto;line-height:normal;font-family:Menlo,'DejaVu Sans Mono',consolas,'Courier New',monospace\">Byte  <span style=\"color: #008080; text-decoration-color: #008080; font-weight: bold\">2</span>  Nibble <span style=\"color: #008080; text-decoration-color: #008080; font-weight: bold\">0</span>  -   Left Margin:   <span style=\"color: #008080; text-decoration-color: #008080; font-weight: bold\">140</span>  <span style=\"font-weight: bold\">(</span> <span style=\"color: #008080; text-decoration-color: #008080; font-weight: bold\">70</span> <span style=\"font-weight: bold\">)</span>  Center Point:   <span style=\"color: #008080; text-decoration-color: #008080; font-weight: bold\">202</span>  <span style=\"font-weight: bold\">(</span> <span style=\"color: #008080; text-decoration-color: #008080; font-weight: bold\">101</span> <span style=\"font-weight: bold\">)</span>  Right Margin:   <span style=\"color: #008080; text-decoration-color: #008080; font-weight: bold\">142</span>  <span style=\"font-weight: bold\">(</span> <span style=\"color: #008080; text-decoration-color: #008080; font-weight: bold\">71</span> <span style=\"font-weight: bold\">)</span>\n",
       "</pre>\n"
      ],
      "text/plain": [
       "Byte  \u001b[1;36m2\u001b[0m  Nibble \u001b[1;36m0\u001b[0m  -   Left Margin:   \u001b[1;36m140\u001b[0m  \u001b[1m(\u001b[0m \u001b[1;36m70\u001b[0m \u001b[1m)\u001b[0m  Center Point:   \u001b[1;36m202\u001b[0m  \u001b[1m(\u001b[0m \u001b[1;36m101\u001b[0m \u001b[1m)\u001b[0m  Right Margin:   \u001b[1;36m142\u001b[0m  \u001b[1m(\u001b[0m \u001b[1;36m71\u001b[0m \u001b[1m)\u001b[0m\n"
      ]
     },
     "metadata": {},
     "output_type": "display_data"
    },
    {
     "data": {
      "text/html": [
       "<pre style=\"white-space:pre;overflow-x:auto;line-height:normal;font-family:Menlo,'DejaVu Sans Mono',consolas,'Courier New',monospace\">Byte  <span style=\"color: #008080; text-decoration-color: #008080; font-weight: bold\">2</span>  Nibble <span style=\"color: #008080; text-decoration-color: #008080; font-weight: bold\">1</span>  -   Left Margin:   <span style=\"color: #008080; text-decoration-color: #008080; font-weight: bold\">147</span>  <span style=\"font-weight: bold\">(</span> <span style=\"color: #008080; text-decoration-color: #008080; font-weight: bold\">70</span> <span style=\"font-weight: bold\">)</span>  Center Point:   <span style=\"color: #008080; text-decoration-color: #008080; font-weight: bold\">213</span>  <span style=\"font-weight: bold\">(</span> <span style=\"color: #008080; text-decoration-color: #008080; font-weight: bold\">101</span> <span style=\"font-weight: bold\">)</span>  Right Margin:   <span style=\"color: #008080; text-decoration-color: #008080; font-weight: bold\">147</span>  <span style=\"font-weight: bold\">(</span> <span style=\"color: #008080; text-decoration-color: #008080; font-weight: bold\">70</span> <span style=\"font-weight: bold\">)</span>\n",
       "</pre>\n"
      ],
      "text/plain": [
       "Byte  \u001b[1;36m2\u001b[0m  Nibble \u001b[1;36m1\u001b[0m  -   Left Margin:   \u001b[1;36m147\u001b[0m  \u001b[1m(\u001b[0m \u001b[1;36m70\u001b[0m \u001b[1m)\u001b[0m  Center Point:   \u001b[1;36m213\u001b[0m  \u001b[1m(\u001b[0m \u001b[1;36m101\u001b[0m \u001b[1m)\u001b[0m  Right Margin:   \u001b[1;36m147\u001b[0m  \u001b[1m(\u001b[0m \u001b[1;36m70\u001b[0m \u001b[1m)\u001b[0m\n"
      ]
     },
     "metadata": {},
     "output_type": "display_data"
    },
    {
     "data": {
      "text/html": [
       "<pre style=\"white-space:pre;overflow-x:auto;line-height:normal;font-family:Menlo,'DejaVu Sans Mono',consolas,'Courier New',monospace\">Byte  <span style=\"color: #008080; text-decoration-color: #008080; font-weight: bold\">3</span>  Nibble <span style=\"color: #008080; text-decoration-color: #008080; font-weight: bold\">0</span>  -   Left Margin:   <span style=\"color: #008080; text-decoration-color: #008080; font-weight: bold\">142</span>  <span style=\"font-weight: bold\">(</span> <span style=\"color: #008080; text-decoration-color: #008080; font-weight: bold\">70</span> <span style=\"font-weight: bold\">)</span>  Center Point:   <span style=\"color: #008080; text-decoration-color: #008080; font-weight: bold\">197</span>  <span style=\"font-weight: bold\">(</span> <span style=\"color: #008080; text-decoration-color: #008080; font-weight: bold\">97</span> <span style=\"font-weight: bold\">)</span>  Right Margin:   <span style=\"color: #008080; text-decoration-color: #008080; font-weight: bold\">142</span>  <span style=\"font-weight: bold\">(</span> <span style=\"color: #008080; text-decoration-color: #008080; font-weight: bold\">70</span> <span style=\"font-weight: bold\">)</span>\n",
       "</pre>\n"
      ],
      "text/plain": [
       "Byte  \u001b[1;36m3\u001b[0m  Nibble \u001b[1;36m0\u001b[0m  -   Left Margin:   \u001b[1;36m142\u001b[0m  \u001b[1m(\u001b[0m \u001b[1;36m70\u001b[0m \u001b[1m)\u001b[0m  Center Point:   \u001b[1;36m197\u001b[0m  \u001b[1m(\u001b[0m \u001b[1;36m97\u001b[0m \u001b[1m)\u001b[0m  Right Margin:   \u001b[1;36m142\u001b[0m  \u001b[1m(\u001b[0m \u001b[1;36m70\u001b[0m \u001b[1m)\u001b[0m\n"
      ]
     },
     "metadata": {},
     "output_type": "display_data"
    },
    {
     "data": {
      "text/html": [
       "<pre style=\"white-space:pre;overflow-x:auto;line-height:normal;font-family:Menlo,'DejaVu Sans Mono',consolas,'Courier New',monospace\">Byte  <span style=\"color: #008080; text-decoration-color: #008080; font-weight: bold\">3</span>  Nibble <span style=\"color: #008080; text-decoration-color: #008080; font-weight: bold\">1</span>  -   Left Margin:   <span style=\"color: #008080; text-decoration-color: #008080; font-weight: bold\">136</span>  <span style=\"font-weight: bold\">(</span> <span style=\"color: #008080; text-decoration-color: #008080; font-weight: bold\">68</span> <span style=\"font-weight: bold\">)</span>  Center Point:   <span style=\"color: #008080; text-decoration-color: #008080; font-weight: bold\">192</span>  <span style=\"font-weight: bold\">(</span> <span style=\"color: #008080; text-decoration-color: #008080; font-weight: bold\">96</span> <span style=\"font-weight: bold\">)</span>  Right Margin:   <span style=\"color: #008080; text-decoration-color: #008080; font-weight: bold\">138</span>  <span style=\"font-weight: bold\">(</span> <span style=\"color: #008080; text-decoration-color: #008080; font-weight: bold\">69</span> <span style=\"font-weight: bold\">)</span>\n",
       "</pre>\n"
      ],
      "text/plain": [
       "Byte  \u001b[1;36m3\u001b[0m  Nibble \u001b[1;36m1\u001b[0m  -   Left Margin:   \u001b[1;36m136\u001b[0m  \u001b[1m(\u001b[0m \u001b[1;36m68\u001b[0m \u001b[1m)\u001b[0m  Center Point:   \u001b[1;36m192\u001b[0m  \u001b[1m(\u001b[0m \u001b[1;36m96\u001b[0m \u001b[1m)\u001b[0m  Right Margin:   \u001b[1;36m138\u001b[0m  \u001b[1m(\u001b[0m \u001b[1;36m69\u001b[0m \u001b[1m)\u001b[0m\n"
      ]
     },
     "metadata": {},
     "output_type": "display_data"
    },
    {
     "data": {
      "text/html": [
       "<pre style=\"white-space:pre;overflow-x:auto;line-height:normal;font-family:Menlo,'DejaVu Sans Mono',consolas,'Courier New',monospace\">Byte  <span style=\"color: #008080; text-decoration-color: #008080; font-weight: bold\">4</span>  Nibble <span style=\"color: #008080; text-decoration-color: #008080; font-weight: bold\">0</span>  -   Left Margin:   <span style=\"color: #008080; text-decoration-color: #008080; font-weight: bold\">143</span>  <span style=\"font-weight: bold\">(</span> <span style=\"color: #008080; text-decoration-color: #008080; font-weight: bold\">70</span> <span style=\"font-weight: bold\">)</span>  Center Point:   <span style=\"color: #008080; text-decoration-color: #008080; font-weight: bold\">197</span>  <span style=\"font-weight: bold\">(</span> <span style=\"color: #008080; text-decoration-color: #008080; font-weight: bold\">96</span> <span style=\"font-weight: bold\">)</span>  Right Margin:   <span style=\"color: #008080; text-decoration-color: #008080; font-weight: bold\">145</span>  <span style=\"font-weight: bold\">(</span> <span style=\"color: #008080; text-decoration-color: #008080; font-weight: bold\">71</span> <span style=\"font-weight: bold\">)</span>\n",
       "</pre>\n"
      ],
      "text/plain": [
       "Byte  \u001b[1;36m4\u001b[0m  Nibble \u001b[1;36m0\u001b[0m  -   Left Margin:   \u001b[1;36m143\u001b[0m  \u001b[1m(\u001b[0m \u001b[1;36m70\u001b[0m \u001b[1m)\u001b[0m  Center Point:   \u001b[1;36m197\u001b[0m  \u001b[1m(\u001b[0m \u001b[1;36m96\u001b[0m \u001b[1m)\u001b[0m  Right Margin:   \u001b[1;36m145\u001b[0m  \u001b[1m(\u001b[0m \u001b[1;36m71\u001b[0m \u001b[1m)\u001b[0m\n"
      ]
     },
     "metadata": {},
     "output_type": "display_data"
    },
    {
     "data": {
      "text/html": [
       "<pre style=\"white-space:pre;overflow-x:auto;line-height:normal;font-family:Menlo,'DejaVu Sans Mono',consolas,'Courier New',monospace\">Byte  <span style=\"color: #008080; text-decoration-color: #008080; font-weight: bold\">4</span>  Nibble <span style=\"color: #008080; text-decoration-color: #008080; font-weight: bold\">1</span>  -   Left Margin:   <span style=\"color: #008080; text-decoration-color: #008080; font-weight: bold\">145</span>  <span style=\"font-weight: bold\">(</span> <span style=\"color: #008080; text-decoration-color: #008080; font-weight: bold\">70</span> <span style=\"font-weight: bold\">)</span>  Center Point:   <span style=\"color: #008080; text-decoration-color: #008080; font-weight: bold\">196</span>  <span style=\"font-weight: bold\">(</span> <span style=\"color: #008080; text-decoration-color: #008080; font-weight: bold\">94</span> <span style=\"font-weight: bold\">)</span>  Right Margin:   <span style=\"color: #008080; text-decoration-color: #008080; font-weight: bold\">147</span>  <span style=\"font-weight: bold\">(</span> <span style=\"color: #008080; text-decoration-color: #008080; font-weight: bold\">71</span> <span style=\"font-weight: bold\">)</span>\n",
       "</pre>\n"
      ],
      "text/plain": [
       "Byte  \u001b[1;36m4\u001b[0m  Nibble \u001b[1;36m1\u001b[0m  -   Left Margin:   \u001b[1;36m145\u001b[0m  \u001b[1m(\u001b[0m \u001b[1;36m70\u001b[0m \u001b[1m)\u001b[0m  Center Point:   \u001b[1;36m196\u001b[0m  \u001b[1m(\u001b[0m \u001b[1;36m94\u001b[0m \u001b[1m)\u001b[0m  Right Margin:   \u001b[1;36m147\u001b[0m  \u001b[1m(\u001b[0m \u001b[1;36m71\u001b[0m \u001b[1m)\u001b[0m\n"
      ]
     },
     "metadata": {},
     "output_type": "display_data"
    },
    {
     "data": {
      "text/html": [
       "<pre style=\"white-space:pre;overflow-x:auto;line-height:normal;font-family:Menlo,'DejaVu Sans Mono',consolas,'Courier New',monospace\">Byte  <span style=\"color: #008080; text-decoration-color: #008080; font-weight: bold\">5</span>  Nibble <span style=\"color: #008080; text-decoration-color: #008080; font-weight: bold\">0</span>  -   Left Margin:   <span style=\"color: #008080; text-decoration-color: #008080; font-weight: bold\">134</span>  <span style=\"font-weight: bold\">(</span> <span style=\"color: #008080; text-decoration-color: #008080; font-weight: bold\">69</span> <span style=\"font-weight: bold\">)</span>  Center Point:   <span style=\"color: #008080; text-decoration-color: #008080; font-weight: bold\">193</span>  <span style=\"font-weight: bold\">(</span> <span style=\"color: #008080; text-decoration-color: #008080; font-weight: bold\">99</span> <span style=\"font-weight: bold\">)</span>  Right Margin:   <span style=\"color: #008080; text-decoration-color: #008080; font-weight: bold\">134</span>  <span style=\"font-weight: bold\">(</span> <span style=\"color: #008080; text-decoration-color: #008080; font-weight: bold\">69</span> <span style=\"font-weight: bold\">)</span>\n",
       "</pre>\n"
      ],
      "text/plain": [
       "Byte  \u001b[1;36m5\u001b[0m  Nibble \u001b[1;36m0\u001b[0m  -   Left Margin:   \u001b[1;36m134\u001b[0m  \u001b[1m(\u001b[0m \u001b[1;36m69\u001b[0m \u001b[1m)\u001b[0m  Center Point:   \u001b[1;36m193\u001b[0m  \u001b[1m(\u001b[0m \u001b[1;36m99\u001b[0m \u001b[1m)\u001b[0m  Right Margin:   \u001b[1;36m134\u001b[0m  \u001b[1m(\u001b[0m \u001b[1;36m69\u001b[0m \u001b[1m)\u001b[0m\n"
      ]
     },
     "metadata": {},
     "output_type": "display_data"
    },
    {
     "data": {
      "text/html": [
       "<pre style=\"white-space:pre;overflow-x:auto;line-height:normal;font-family:Menlo,'DejaVu Sans Mono',consolas,'Courier New',monospace\">Byte  <span style=\"color: #008080; text-decoration-color: #008080; font-weight: bold\">5</span>  Nibble <span style=\"color: #008080; text-decoration-color: #008080; font-weight: bold\">1</span>  -   Left Margin:   <span style=\"color: #008080; text-decoration-color: #008080; font-weight: bold\">139</span>  <span style=\"font-weight: bold\">(</span> <span style=\"color: #008080; text-decoration-color: #008080; font-weight: bold\">68</span> <span style=\"font-weight: bold\">)</span>  Center Point:   <span style=\"color: #008080; text-decoration-color: #008080; font-weight: bold\">199</span>  <span style=\"font-weight: bold\">(</span> <span style=\"color: #008080; text-decoration-color: #008080; font-weight: bold\">97</span> <span style=\"font-weight: bold\">)</span>  Right Margin:   <span style=\"color: #008080; text-decoration-color: #008080; font-weight: bold\">141</span>  <span style=\"font-weight: bold\">(</span> <span style=\"color: #008080; text-decoration-color: #008080; font-weight: bold\">69</span> <span style=\"font-weight: bold\">)</span>\n",
       "</pre>\n"
      ],
      "text/plain": [
       "Byte  \u001b[1;36m5\u001b[0m  Nibble \u001b[1;36m1\u001b[0m  -   Left Margin:   \u001b[1;36m139\u001b[0m  \u001b[1m(\u001b[0m \u001b[1;36m68\u001b[0m \u001b[1m)\u001b[0m  Center Point:   \u001b[1;36m199\u001b[0m  \u001b[1m(\u001b[0m \u001b[1;36m97\u001b[0m \u001b[1m)\u001b[0m  Right Margin:   \u001b[1;36m141\u001b[0m  \u001b[1m(\u001b[0m \u001b[1;36m69\u001b[0m \u001b[1m)\u001b[0m\n"
      ]
     },
     "metadata": {},
     "output_type": "display_data"
    },
    {
     "data": {
      "text/html": [
       "<pre style=\"white-space:pre;overflow-x:auto;line-height:normal;font-family:Menlo,'DejaVu Sans Mono',consolas,'Courier New',monospace\">Byte  <span style=\"color: #008080; text-decoration-color: #008080; font-weight: bold\">6</span>  Nibble <span style=\"color: #008080; text-decoration-color: #008080; font-weight: bold\">0</span>  -   Left Margin:   <span style=\"color: #008080; text-decoration-color: #008080; font-weight: bold\">145</span>  <span style=\"font-weight: bold\">(</span> <span style=\"color: #008080; text-decoration-color: #008080; font-weight: bold\">71</span> <span style=\"font-weight: bold\">)</span>  Center Point:   <span style=\"color: #008080; text-decoration-color: #008080; font-weight: bold\">197</span>  <span style=\"font-weight: bold\">(</span> <span style=\"color: #008080; text-decoration-color: #008080; font-weight: bold\">96</span> <span style=\"font-weight: bold\">)</span>  Right Margin:   <span style=\"color: #008080; text-decoration-color: #008080; font-weight: bold\">148</span>  <span style=\"font-weight: bold\">(</span> <span style=\"color: #008080; text-decoration-color: #008080; font-weight: bold\">72</span> <span style=\"font-weight: bold\">)</span>\n",
       "</pre>\n"
      ],
      "text/plain": [
       "Byte  \u001b[1;36m6\u001b[0m  Nibble \u001b[1;36m0\u001b[0m  -   Left Margin:   \u001b[1;36m145\u001b[0m  \u001b[1m(\u001b[0m \u001b[1;36m71\u001b[0m \u001b[1m)\u001b[0m  Center Point:   \u001b[1;36m197\u001b[0m  \u001b[1m(\u001b[0m \u001b[1;36m96\u001b[0m \u001b[1m)\u001b[0m  Right Margin:   \u001b[1;36m148\u001b[0m  \u001b[1m(\u001b[0m \u001b[1;36m72\u001b[0m \u001b[1m)\u001b[0m\n"
      ]
     },
     "metadata": {},
     "output_type": "display_data"
    },
    {
     "data": {
      "text/html": [
       "<pre style=\"white-space:pre;overflow-x:auto;line-height:normal;font-family:Menlo,'DejaVu Sans Mono',consolas,'Courier New',monospace\">Byte  <span style=\"color: #008080; text-decoration-color: #008080; font-weight: bold\">6</span>  Nibble <span style=\"color: #008080; text-decoration-color: #008080; font-weight: bold\">1</span>  -   Left Margin:   <span style=\"color: #008080; text-decoration-color: #008080; font-weight: bold\">145</span>  <span style=\"font-weight: bold\">(</span> <span style=\"color: #008080; text-decoration-color: #008080; font-weight: bold\">71</span> <span style=\"font-weight: bold\">)</span>  Center Point:   <span style=\"color: #008080; text-decoration-color: #008080; font-weight: bold\">197</span>  <span style=\"font-weight: bold\">(</span> <span style=\"color: #008080; text-decoration-color: #008080; font-weight: bold\">96</span> <span style=\"font-weight: bold\">)</span>  Right Margin:   <span style=\"color: #008080; text-decoration-color: #008080; font-weight: bold\">148</span>  <span style=\"font-weight: bold\">(</span> <span style=\"color: #008080; text-decoration-color: #008080; font-weight: bold\">72</span> <span style=\"font-weight: bold\">)</span>\n",
       "</pre>\n"
      ],
      "text/plain": [
       "Byte  \u001b[1;36m6\u001b[0m  Nibble \u001b[1;36m1\u001b[0m  -   Left Margin:   \u001b[1;36m145\u001b[0m  \u001b[1m(\u001b[0m \u001b[1;36m71\u001b[0m \u001b[1m)\u001b[0m  Center Point:   \u001b[1;36m197\u001b[0m  \u001b[1m(\u001b[0m \u001b[1;36m96\u001b[0m \u001b[1m)\u001b[0m  Right Margin:   \u001b[1;36m148\u001b[0m  \u001b[1m(\u001b[0m \u001b[1;36m72\u001b[0m \u001b[1m)\u001b[0m\n"
      ]
     },
     "metadata": {},
     "output_type": "display_data"
    },
    {
     "data": {
      "text/html": [
       "<pre style=\"white-space:pre;overflow-x:auto;line-height:normal;font-family:Menlo,'DejaVu Sans Mono',consolas,'Courier New',monospace\">Byte  <span style=\"color: #008080; text-decoration-color: #008080; font-weight: bold\">7</span>  Nibble <span style=\"color: #008080; text-decoration-color: #008080; font-weight: bold\">0</span>  -   Left Margin:   <span style=\"color: #008080; text-decoration-color: #008080; font-weight: bold\">143</span>  <span style=\"font-weight: bold\">(</span> <span style=\"color: #008080; text-decoration-color: #008080; font-weight: bold\">70</span> <span style=\"font-weight: bold\">)</span>  Center Point:   <span style=\"color: #008080; text-decoration-color: #008080; font-weight: bold\">201</span>  <span style=\"font-weight: bold\">(</span> <span style=\"color: #008080; text-decoration-color: #008080; font-weight: bold\">98</span> <span style=\"font-weight: bold\">)</span>  Right Margin:   <span style=\"color: #008080; text-decoration-color: #008080; font-weight: bold\">145</span>  <span style=\"font-weight: bold\">(</span> <span style=\"color: #008080; text-decoration-color: #008080; font-weight: bold\">71</span> <span style=\"font-weight: bold\">)</span>\n",
       "</pre>\n"
      ],
      "text/plain": [
       "Byte  \u001b[1;36m7\u001b[0m  Nibble \u001b[1;36m0\u001b[0m  -   Left Margin:   \u001b[1;36m143\u001b[0m  \u001b[1m(\u001b[0m \u001b[1;36m70\u001b[0m \u001b[1m)\u001b[0m  Center Point:   \u001b[1;36m201\u001b[0m  \u001b[1m(\u001b[0m \u001b[1;36m98\u001b[0m \u001b[1m)\u001b[0m  Right Margin:   \u001b[1;36m145\u001b[0m  \u001b[1m(\u001b[0m \u001b[1;36m71\u001b[0m \u001b[1m)\u001b[0m\n"
      ]
     },
     "metadata": {},
     "output_type": "display_data"
    },
    {
     "data": {
      "text/html": [
       "<pre style=\"white-space:pre;overflow-x:auto;line-height:normal;font-family:Menlo,'DejaVu Sans Mono',consolas,'Courier New',monospace\">Byte  <span style=\"color: #008080; text-decoration-color: #008080; font-weight: bold\">7</span>  Nibble <span style=\"color: #008080; text-decoration-color: #008080; font-weight: bold\">1</span>  -   Left Margin:   <span style=\"color: #008080; text-decoration-color: #008080; font-weight: bold\">150</span>  <span style=\"font-weight: bold\">(</span> <span style=\"color: #008080; text-decoration-color: #008080; font-weight: bold\">72</span> <span style=\"font-weight: bold\">)</span>  Center Point:   <span style=\"color: #008080; text-decoration-color: #008080; font-weight: bold\">200</span>  <span style=\"font-weight: bold\">(</span> <span style=\"color: #008080; text-decoration-color: #008080; font-weight: bold\">96</span> <span style=\"font-weight: bold\">)</span>  Right Margin:   <span style=\"color: #008080; text-decoration-color: #008080; font-weight: bold\">152</span>  <span style=\"font-weight: bold\">(</span> <span style=\"color: #008080; text-decoration-color: #008080; font-weight: bold\">73</span> <span style=\"font-weight: bold\">)</span>\n",
       "</pre>\n"
      ],
      "text/plain": [
       "Byte  \u001b[1;36m7\u001b[0m  Nibble \u001b[1;36m1\u001b[0m  -   Left Margin:   \u001b[1;36m150\u001b[0m  \u001b[1m(\u001b[0m \u001b[1;36m72\u001b[0m \u001b[1m)\u001b[0m  Center Point:   \u001b[1;36m200\u001b[0m  \u001b[1m(\u001b[0m \u001b[1;36m96\u001b[0m \u001b[1m)\u001b[0m  Right Margin:   \u001b[1;36m152\u001b[0m  \u001b[1m(\u001b[0m \u001b[1;36m73\u001b[0m \u001b[1m)\u001b[0m\n"
      ]
     },
     "metadata": {},
     "output_type": "display_data"
    },
    {
     "data": {
      "text/html": [
       "<pre style=\"white-space:pre;overflow-x:auto;line-height:normal;font-family:Menlo,'DejaVu Sans Mono',consolas,'Courier New',monospace\">\n",
       " Frequency <span style=\"color: #008080; text-decoration-color: #008080; font-weight: bold\">0</span>  - Read Margin - Complex Pattern - Rising Edge Clock in pS and <span style=\"font-weight: bold\">(</span>delay taps<span style=\"font-weight: bold\">)</span>:\n",
       "\n",
       "</pre>\n"
      ],
      "text/plain": [
       "\n",
       " Frequency \u001b[1;36m0\u001b[0m  - Read Margin - Complex Pattern - Rising Edge Clock in pS and \u001b[1m(\u001b[0mdelay taps\u001b[1m)\u001b[0m:\n",
       "\n"
      ]
     },
     "metadata": {},
     "output_type": "display_data"
    },
    {
     "data": {
      "text/html": [
       "<pre style=\"white-space:pre;overflow-x:auto;line-height:normal;font-family:Menlo,'DejaVu Sans Mono',consolas,'Courier New',monospace\">Byte  <span style=\"color: #008080; text-decoration-color: #008080; font-weight: bold\">0</span>  Nibble <span style=\"color: #008080; text-decoration-color: #008080; font-weight: bold\">0</span>  -   Left Margin:   <span style=\"color: #008080; text-decoration-color: #008080; font-weight: bold\">133</span>  <span style=\"font-weight: bold\">(</span> <span style=\"color: #008080; text-decoration-color: #008080; font-weight: bold\">66</span> <span style=\"font-weight: bold\">)</span>  Center Point:   <span style=\"color: #008080; text-decoration-color: #008080; font-weight: bold\">179</span>  <span style=\"font-weight: bold\">(</span> <span style=\"color: #008080; text-decoration-color: #008080; font-weight: bold\">88</span> <span style=\"font-weight: bold\">)</span>  Right Margin:   <span style=\"color: #008080; text-decoration-color: #008080; font-weight: bold\">133</span>  <span style=\"font-weight: bold\">(</span> <span style=\"color: #008080; text-decoration-color: #008080; font-weight: bold\">66</span> <span style=\"font-weight: bold\">)</span>\n",
       "</pre>\n"
      ],
      "text/plain": [
       "Byte  \u001b[1;36m0\u001b[0m  Nibble \u001b[1;36m0\u001b[0m  -   Left Margin:   \u001b[1;36m133\u001b[0m  \u001b[1m(\u001b[0m \u001b[1;36m66\u001b[0m \u001b[1m)\u001b[0m  Center Point:   \u001b[1;36m179\u001b[0m  \u001b[1m(\u001b[0m \u001b[1;36m88\u001b[0m \u001b[1m)\u001b[0m  Right Margin:   \u001b[1;36m133\u001b[0m  \u001b[1m(\u001b[0m \u001b[1;36m66\u001b[0m \u001b[1m)\u001b[0m\n"
      ]
     },
     "metadata": {},
     "output_type": "display_data"
    },
    {
     "data": {
      "text/html": [
       "<pre style=\"white-space:pre;overflow-x:auto;line-height:normal;font-family:Menlo,'DejaVu Sans Mono',consolas,'Courier New',monospace\">Byte  <span style=\"color: #008080; text-decoration-color: #008080; font-weight: bold\">0</span>  Nibble <span style=\"color: #008080; text-decoration-color: #008080; font-weight: bold\">1</span>  -   Left Margin:   <span style=\"color: #008080; text-decoration-color: #008080; font-weight: bold\">137</span>  <span style=\"font-weight: bold\">(</span> <span style=\"color: #008080; text-decoration-color: #008080; font-weight: bold\">67</span> <span style=\"font-weight: bold\">)</span>  Center Point:   <span style=\"color: #008080; text-decoration-color: #008080; font-weight: bold\">183</span>  <span style=\"font-weight: bold\">(</span> <span style=\"color: #008080; text-decoration-color: #008080; font-weight: bold\">89</span> <span style=\"font-weight: bold\">)</span>  Right Margin:   <span style=\"color: #008080; text-decoration-color: #008080; font-weight: bold\">137</span>  <span style=\"font-weight: bold\">(</span> <span style=\"color: #008080; text-decoration-color: #008080; font-weight: bold\">67</span> <span style=\"font-weight: bold\">)</span>\n",
       "</pre>\n"
      ],
      "text/plain": [
       "Byte  \u001b[1;36m0\u001b[0m  Nibble \u001b[1;36m1\u001b[0m  -   Left Margin:   \u001b[1;36m137\u001b[0m  \u001b[1m(\u001b[0m \u001b[1;36m67\u001b[0m \u001b[1m)\u001b[0m  Center Point:   \u001b[1;36m183\u001b[0m  \u001b[1m(\u001b[0m \u001b[1;36m89\u001b[0m \u001b[1m)\u001b[0m  Right Margin:   \u001b[1;36m137\u001b[0m  \u001b[1m(\u001b[0m \u001b[1;36m67\u001b[0m \u001b[1m)\u001b[0m\n"
      ]
     },
     "metadata": {},
     "output_type": "display_data"
    },
    {
     "data": {
      "text/html": [
       "<pre style=\"white-space:pre;overflow-x:auto;line-height:normal;font-family:Menlo,'DejaVu Sans Mono',consolas,'Courier New',monospace\">Byte  <span style=\"color: #008080; text-decoration-color: #008080; font-weight: bold\">1</span>  Nibble <span style=\"color: #008080; text-decoration-color: #008080; font-weight: bold\">0</span>  -   Left Margin:   <span style=\"color: #008080; text-decoration-color: #008080; font-weight: bold\">124</span>  <span style=\"font-weight: bold\">(</span> <span style=\"color: #008080; text-decoration-color: #008080; font-weight: bold\">63</span> <span style=\"font-weight: bold\">)</span>  Center Point:   <span style=\"color: #008080; text-decoration-color: #008080; font-weight: bold\">172</span>  <span style=\"font-weight: bold\">(</span> <span style=\"color: #008080; text-decoration-color: #008080; font-weight: bold\">87</span> <span style=\"font-weight: bold\">)</span>  Right Margin:   <span style=\"color: #008080; text-decoration-color: #008080; font-weight: bold\">124</span>  <span style=\"font-weight: bold\">(</span> <span style=\"color: #008080; text-decoration-color: #008080; font-weight: bold\">63</span> <span style=\"font-weight: bold\">)</span>\n",
       "</pre>\n"
      ],
      "text/plain": [
       "Byte  \u001b[1;36m1\u001b[0m  Nibble \u001b[1;36m0\u001b[0m  -   Left Margin:   \u001b[1;36m124\u001b[0m  \u001b[1m(\u001b[0m \u001b[1;36m63\u001b[0m \u001b[1m)\u001b[0m  Center Point:   \u001b[1;36m172\u001b[0m  \u001b[1m(\u001b[0m \u001b[1;36m87\u001b[0m \u001b[1m)\u001b[0m  Right Margin:   \u001b[1;36m124\u001b[0m  \u001b[1m(\u001b[0m \u001b[1;36m63\u001b[0m \u001b[1m)\u001b[0m\n"
      ]
     },
     "metadata": {},
     "output_type": "display_data"
    },
    {
     "data": {
      "text/html": [
       "<pre style=\"white-space:pre;overflow-x:auto;line-height:normal;font-family:Menlo,'DejaVu Sans Mono',consolas,'Courier New',monospace\">Byte  <span style=\"color: #008080; text-decoration-color: #008080; font-weight: bold\">1</span>  Nibble <span style=\"color: #008080; text-decoration-color: #008080; font-weight: bold\">1</span>  -   Left Margin:   <span style=\"color: #008080; text-decoration-color: #008080; font-weight: bold\">127</span>  <span style=\"font-weight: bold\">(</span> <span style=\"color: #008080; text-decoration-color: #008080; font-weight: bold\">63</span> <span style=\"font-weight: bold\">)</span>  Center Point:   <span style=\"color: #008080; text-decoration-color: #008080; font-weight: bold\">172</span>  <span style=\"font-weight: bold\">(</span> <span style=\"color: #008080; text-decoration-color: #008080; font-weight: bold\">85</span> <span style=\"font-weight: bold\">)</span>  Right Margin:   <span style=\"color: #008080; text-decoration-color: #008080; font-weight: bold\">129</span>  <span style=\"font-weight: bold\">(</span> <span style=\"color: #008080; text-decoration-color: #008080; font-weight: bold\">64</span> <span style=\"font-weight: bold\">)</span>\n",
       "</pre>\n"
      ],
      "text/plain": [
       "Byte  \u001b[1;36m1\u001b[0m  Nibble \u001b[1;36m1\u001b[0m  -   Left Margin:   \u001b[1;36m127\u001b[0m  \u001b[1m(\u001b[0m \u001b[1;36m63\u001b[0m \u001b[1m)\u001b[0m  Center Point:   \u001b[1;36m172\u001b[0m  \u001b[1m(\u001b[0m \u001b[1;36m85\u001b[0m \u001b[1m)\u001b[0m  Right Margin:   \u001b[1;36m129\u001b[0m  \u001b[1m(\u001b[0m \u001b[1;36m64\u001b[0m \u001b[1m)\u001b[0m\n"
      ]
     },
     "metadata": {},
     "output_type": "display_data"
    },
    {
     "data": {
      "text/html": [
       "<pre style=\"white-space:pre;overflow-x:auto;line-height:normal;font-family:Menlo,'DejaVu Sans Mono',consolas,'Courier New',monospace\">Byte  <span style=\"color: #008080; text-decoration-color: #008080; font-weight: bold\">2</span>  Nibble <span style=\"color: #008080; text-decoration-color: #008080; font-weight: bold\">0</span>  -   Left Margin:   <span style=\"color: #008080; text-decoration-color: #008080; font-weight: bold\">125</span>  <span style=\"font-weight: bold\">(</span> <span style=\"color: #008080; text-decoration-color: #008080; font-weight: bold\">61</span> <span style=\"font-weight: bold\">)</span>  Center Point:   <span style=\"color: #008080; text-decoration-color: #008080; font-weight: bold\">179</span>  <span style=\"font-weight: bold\">(</span> <span style=\"color: #008080; text-decoration-color: #008080; font-weight: bold\">87</span> <span style=\"font-weight: bold\">)</span>  Right Margin:   <span style=\"color: #008080; text-decoration-color: #008080; font-weight: bold\">125</span>  <span style=\"font-weight: bold\">(</span> <span style=\"color: #008080; text-decoration-color: #008080; font-weight: bold\">61</span> <span style=\"font-weight: bold\">)</span>\n",
       "</pre>\n"
      ],
      "text/plain": [
       "Byte  \u001b[1;36m2\u001b[0m  Nibble \u001b[1;36m0\u001b[0m  -   Left Margin:   \u001b[1;36m125\u001b[0m  \u001b[1m(\u001b[0m \u001b[1;36m61\u001b[0m \u001b[1m)\u001b[0m  Center Point:   \u001b[1;36m179\u001b[0m  \u001b[1m(\u001b[0m \u001b[1;36m87\u001b[0m \u001b[1m)\u001b[0m  Right Margin:   \u001b[1;36m125\u001b[0m  \u001b[1m(\u001b[0m \u001b[1;36m61\u001b[0m \u001b[1m)\u001b[0m\n"
      ]
     },
     "metadata": {},
     "output_type": "display_data"
    },
    {
     "data": {
      "text/html": [
       "<pre style=\"white-space:pre;overflow-x:auto;line-height:normal;font-family:Menlo,'DejaVu Sans Mono',consolas,'Courier New',monospace\">Byte  <span style=\"color: #008080; text-decoration-color: #008080; font-weight: bold\">2</span>  Nibble <span style=\"color: #008080; text-decoration-color: #008080; font-weight: bold\">1</span>  -   Left Margin:   <span style=\"color: #008080; text-decoration-color: #008080; font-weight: bold\">130</span>  <span style=\"font-weight: bold\">(</span> <span style=\"color: #008080; text-decoration-color: #008080; font-weight: bold\">62</span> <span style=\"font-weight: bold\">)</span>  Center Point:   <span style=\"color: #008080; text-decoration-color: #008080; font-weight: bold\">182</span>  <span style=\"font-weight: bold\">(</span> <span style=\"color: #008080; text-decoration-color: #008080; font-weight: bold\">86</span> <span style=\"font-weight: bold\">)</span>  Right Margin:   <span style=\"color: #008080; text-decoration-color: #008080; font-weight: bold\">130</span>  <span style=\"font-weight: bold\">(</span> <span style=\"color: #008080; text-decoration-color: #008080; font-weight: bold\">62</span> <span style=\"font-weight: bold\">)</span>\n",
       "</pre>\n"
      ],
      "text/plain": [
       "Byte  \u001b[1;36m2\u001b[0m  Nibble \u001b[1;36m1\u001b[0m  -   Left Margin:   \u001b[1;36m130\u001b[0m  \u001b[1m(\u001b[0m \u001b[1;36m62\u001b[0m \u001b[1m)\u001b[0m  Center Point:   \u001b[1;36m182\u001b[0m  \u001b[1m(\u001b[0m \u001b[1;36m86\u001b[0m \u001b[1m)\u001b[0m  Right Margin:   \u001b[1;36m130\u001b[0m  \u001b[1m(\u001b[0m \u001b[1;36m62\u001b[0m \u001b[1m)\u001b[0m\n"
      ]
     },
     "metadata": {},
     "output_type": "display_data"
    },
    {
     "data": {
      "text/html": [
       "<pre style=\"white-space:pre;overflow-x:auto;line-height:normal;font-family:Menlo,'DejaVu Sans Mono',consolas,'Courier New',monospace\">Byte  <span style=\"color: #008080; text-decoration-color: #008080; font-weight: bold\">3</span>  Nibble <span style=\"color: #008080; text-decoration-color: #008080; font-weight: bold\">0</span>  -   Left Margin:   <span style=\"color: #008080; text-decoration-color: #008080; font-weight: bold\">121</span>  <span style=\"font-weight: bold\">(</span> <span style=\"color: #008080; text-decoration-color: #008080; font-weight: bold\">59</span> <span style=\"font-weight: bold\">)</span>  Center Point:   <span style=\"color: #008080; text-decoration-color: #008080; font-weight: bold\">181</span>  <span style=\"font-weight: bold\">(</span> <span style=\"color: #008080; text-decoration-color: #008080; font-weight: bold\">88</span> <span style=\"font-weight: bold\">)</span>  Right Margin:   <span style=\"color: #008080; text-decoration-color: #008080; font-weight: bold\">123</span>  <span style=\"font-weight: bold\">(</span> <span style=\"color: #008080; text-decoration-color: #008080; font-weight: bold\">60</span> <span style=\"font-weight: bold\">)</span>\n",
       "</pre>\n"
      ],
      "text/plain": [
       "Byte  \u001b[1;36m3\u001b[0m  Nibble \u001b[1;36m0\u001b[0m  -   Left Margin:   \u001b[1;36m121\u001b[0m  \u001b[1m(\u001b[0m \u001b[1;36m59\u001b[0m \u001b[1m)\u001b[0m  Center Point:   \u001b[1;36m181\u001b[0m  \u001b[1m(\u001b[0m \u001b[1;36m88\u001b[0m \u001b[1m)\u001b[0m  Right Margin:   \u001b[1;36m123\u001b[0m  \u001b[1m(\u001b[0m \u001b[1;36m60\u001b[0m \u001b[1m)\u001b[0m\n"
      ]
     },
     "metadata": {},
     "output_type": "display_data"
    },
    {
     "data": {
      "text/html": [
       "<pre style=\"white-space:pre;overflow-x:auto;line-height:normal;font-family:Menlo,'DejaVu Sans Mono',consolas,'Courier New',monospace\">Byte  <span style=\"color: #008080; text-decoration-color: #008080; font-weight: bold\">3</span>  Nibble <span style=\"color: #008080; text-decoration-color: #008080; font-weight: bold\">1</span>  -   Left Margin:   <span style=\"color: #008080; text-decoration-color: #008080; font-weight: bold\">125</span>  <span style=\"font-weight: bold\">(</span> <span style=\"color: #008080; text-decoration-color: #008080; font-weight: bold\">61</span> <span style=\"font-weight: bold\">)</span>  Center Point:   <span style=\"color: #008080; text-decoration-color: #008080; font-weight: bold\">175</span>  <span style=\"font-weight: bold\">(</span> <span style=\"color: #008080; text-decoration-color: #008080; font-weight: bold\">85</span> <span style=\"font-weight: bold\">)</span>  Right Margin:   <span style=\"color: #008080; text-decoration-color: #008080; font-weight: bold\">127</span>  <span style=\"font-weight: bold\">(</span> <span style=\"color: #008080; text-decoration-color: #008080; font-weight: bold\">62</span> <span style=\"font-weight: bold\">)</span>\n",
       "</pre>\n"
      ],
      "text/plain": [
       "Byte  \u001b[1;36m3\u001b[0m  Nibble \u001b[1;36m1\u001b[0m  -   Left Margin:   \u001b[1;36m125\u001b[0m  \u001b[1m(\u001b[0m \u001b[1;36m61\u001b[0m \u001b[1m)\u001b[0m  Center Point:   \u001b[1;36m175\u001b[0m  \u001b[1m(\u001b[0m \u001b[1;36m85\u001b[0m \u001b[1m)\u001b[0m  Right Margin:   \u001b[1;36m127\u001b[0m  \u001b[1m(\u001b[0m \u001b[1;36m62\u001b[0m \u001b[1m)\u001b[0m\n"
      ]
     },
     "metadata": {},
     "output_type": "display_data"
    },
    {
     "data": {
      "text/html": [
       "<pre style=\"white-space:pre;overflow-x:auto;line-height:normal;font-family:Menlo,'DejaVu Sans Mono',consolas,'Courier New',monospace\">Byte  <span style=\"color: #008080; text-decoration-color: #008080; font-weight: bold\">4</span>  Nibble <span style=\"color: #008080; text-decoration-color: #008080; font-weight: bold\">0</span>  -   Left Margin:   <span style=\"color: #008080; text-decoration-color: #008080; font-weight: bold\">119</span>  <span style=\"font-weight: bold\">(</span> <span style=\"color: #008080; text-decoration-color: #008080; font-weight: bold\">59</span> <span style=\"font-weight: bold\">)</span>  Center Point:   <span style=\"color: #008080; text-decoration-color: #008080; font-weight: bold\">168</span>  <span style=\"font-weight: bold\">(</span> <span style=\"color: #008080; text-decoration-color: #008080; font-weight: bold\">83</span> <span style=\"font-weight: bold\">)</span>  Right Margin:   <span style=\"color: #008080; text-decoration-color: #008080; font-weight: bold\">121</span>  <span style=\"font-weight: bold\">(</span> <span style=\"color: #008080; text-decoration-color: #008080; font-weight: bold\">60</span> <span style=\"font-weight: bold\">)</span>\n",
       "</pre>\n"
      ],
      "text/plain": [
       "Byte  \u001b[1;36m4\u001b[0m  Nibble \u001b[1;36m0\u001b[0m  -   Left Margin:   \u001b[1;36m119\u001b[0m  \u001b[1m(\u001b[0m \u001b[1;36m59\u001b[0m \u001b[1m)\u001b[0m  Center Point:   \u001b[1;36m168\u001b[0m  \u001b[1m(\u001b[0m \u001b[1;36m83\u001b[0m \u001b[1m)\u001b[0m  Right Margin:   \u001b[1;36m121\u001b[0m  \u001b[1m(\u001b[0m \u001b[1;36m60\u001b[0m \u001b[1m)\u001b[0m\n"
      ]
     },
     "metadata": {},
     "output_type": "display_data"
    },
    {
     "data": {
      "text/html": [
       "<pre style=\"white-space:pre;overflow-x:auto;line-height:normal;font-family:Menlo,'DejaVu Sans Mono',consolas,'Courier New',monospace\">Byte  <span style=\"color: #008080; text-decoration-color: #008080; font-weight: bold\">4</span>  Nibble <span style=\"color: #008080; text-decoration-color: #008080; font-weight: bold\">1</span>  -   Left Margin:   <span style=\"color: #008080; text-decoration-color: #008080; font-weight: bold\">123</span>  <span style=\"font-weight: bold\">(</span> <span style=\"color: #008080; text-decoration-color: #008080; font-weight: bold\">61</span> <span style=\"font-weight: bold\">)</span>  Center Point:   <span style=\"color: #008080; text-decoration-color: #008080; font-weight: bold\">175</span>  <span style=\"font-weight: bold\">(</span> <span style=\"color: #008080; text-decoration-color: #008080; font-weight: bold\">86</span> <span style=\"font-weight: bold\">)</span>  Right Margin:   <span style=\"color: #008080; text-decoration-color: #008080; font-weight: bold\">125</span>  <span style=\"font-weight: bold\">(</span> <span style=\"color: #008080; text-decoration-color: #008080; font-weight: bold\">62</span> <span style=\"font-weight: bold\">)</span>\n",
       "</pre>\n"
      ],
      "text/plain": [
       "Byte  \u001b[1;36m4\u001b[0m  Nibble \u001b[1;36m1\u001b[0m  -   Left Margin:   \u001b[1;36m123\u001b[0m  \u001b[1m(\u001b[0m \u001b[1;36m61\u001b[0m \u001b[1m)\u001b[0m  Center Point:   \u001b[1;36m175\u001b[0m  \u001b[1m(\u001b[0m \u001b[1;36m86\u001b[0m \u001b[1m)\u001b[0m  Right Margin:   \u001b[1;36m125\u001b[0m  \u001b[1m(\u001b[0m \u001b[1;36m62\u001b[0m \u001b[1m)\u001b[0m\n"
      ]
     },
     "metadata": {},
     "output_type": "display_data"
    },
    {
     "data": {
      "text/html": [
       "<pre style=\"white-space:pre;overflow-x:auto;line-height:normal;font-family:Menlo,'DejaVu Sans Mono',consolas,'Courier New',monospace\">Byte  <span style=\"color: #008080; text-decoration-color: #008080; font-weight: bold\">5</span>  Nibble <span style=\"color: #008080; text-decoration-color: #008080; font-weight: bold\">0</span>  -   Left Margin:   <span style=\"color: #008080; text-decoration-color: #008080; font-weight: bold\">119</span>  <span style=\"font-weight: bold\">(</span> <span style=\"color: #008080; text-decoration-color: #008080; font-weight: bold\">58</span> <span style=\"font-weight: bold\">)</span>  Center Point:   <span style=\"color: #008080; text-decoration-color: #008080; font-weight: bold\">187</span>  <span style=\"font-weight: bold\">(</span> <span style=\"color: #008080; text-decoration-color: #008080; font-weight: bold\">91</span> <span style=\"font-weight: bold\">)</span>  Right Margin:   <span style=\"color: #008080; text-decoration-color: #008080; font-weight: bold\">121</span>  <span style=\"font-weight: bold\">(</span> <span style=\"color: #008080; text-decoration-color: #008080; font-weight: bold\">59</span> <span style=\"font-weight: bold\">)</span>\n",
       "</pre>\n"
      ],
      "text/plain": [
       "Byte  \u001b[1;36m5\u001b[0m  Nibble \u001b[1;36m0\u001b[0m  -   Left Margin:   \u001b[1;36m119\u001b[0m  \u001b[1m(\u001b[0m \u001b[1;36m58\u001b[0m \u001b[1m)\u001b[0m  Center Point:   \u001b[1;36m187\u001b[0m  \u001b[1m(\u001b[0m \u001b[1;36m91\u001b[0m \u001b[1m)\u001b[0m  Right Margin:   \u001b[1;36m121\u001b[0m  \u001b[1m(\u001b[0m \u001b[1;36m59\u001b[0m \u001b[1m)\u001b[0m\n"
      ]
     },
     "metadata": {},
     "output_type": "display_data"
    },
    {
     "data": {
      "text/html": [
       "<pre style=\"white-space:pre;overflow-x:auto;line-height:normal;font-family:Menlo,'DejaVu Sans Mono',consolas,'Courier New',monospace\">Byte  <span style=\"color: #008080; text-decoration-color: #008080; font-weight: bold\">5</span>  Nibble <span style=\"color: #008080; text-decoration-color: #008080; font-weight: bold\">1</span>  -   Left Margin:   <span style=\"color: #008080; text-decoration-color: #008080; font-weight: bold\">129</span>  <span style=\"font-weight: bold\">(</span> <span style=\"color: #008080; text-decoration-color: #008080; font-weight: bold\">62</span> <span style=\"font-weight: bold\">)</span>  Center Point:   <span style=\"color: #008080; text-decoration-color: #008080; font-weight: bold\">190</span>  <span style=\"font-weight: bold\">(</span> <span style=\"color: #008080; text-decoration-color: #008080; font-weight: bold\">91</span> <span style=\"font-weight: bold\">)</span>  Right Margin:   <span style=\"color: #008080; text-decoration-color: #008080; font-weight: bold\">129</span>  <span style=\"font-weight: bold\">(</span> <span style=\"color: #008080; text-decoration-color: #008080; font-weight: bold\">62</span> <span style=\"font-weight: bold\">)</span>\n",
       "</pre>\n"
      ],
      "text/plain": [
       "Byte  \u001b[1;36m5\u001b[0m  Nibble \u001b[1;36m1\u001b[0m  -   Left Margin:   \u001b[1;36m129\u001b[0m  \u001b[1m(\u001b[0m \u001b[1;36m62\u001b[0m \u001b[1m)\u001b[0m  Center Point:   \u001b[1;36m190\u001b[0m  \u001b[1m(\u001b[0m \u001b[1;36m91\u001b[0m \u001b[1m)\u001b[0m  Right Margin:   \u001b[1;36m129\u001b[0m  \u001b[1m(\u001b[0m \u001b[1;36m62\u001b[0m \u001b[1m)\u001b[0m\n"
      ]
     },
     "metadata": {},
     "output_type": "display_data"
    },
    {
     "data": {
      "text/html": [
       "<pre style=\"white-space:pre;overflow-x:auto;line-height:normal;font-family:Menlo,'DejaVu Sans Mono',consolas,'Courier New',monospace\">Byte  <span style=\"color: #008080; text-decoration-color: #008080; font-weight: bold\">6</span>  Nibble <span style=\"color: #008080; text-decoration-color: #008080; font-weight: bold\">0</span>  -   Left Margin:   <span style=\"color: #008080; text-decoration-color: #008080; font-weight: bold\">135</span>  <span style=\"font-weight: bold\">(</span> <span style=\"color: #008080; text-decoration-color: #008080; font-weight: bold\">65</span> <span style=\"font-weight: bold\">)</span>  Center Point:   <span style=\"color: #008080; text-decoration-color: #008080; font-weight: bold\">181</span>  <span style=\"font-weight: bold\">(</span> <span style=\"color: #008080; text-decoration-color: #008080; font-weight: bold\">87</span> <span style=\"font-weight: bold\">)</span>  Right Margin:   <span style=\"color: #008080; text-decoration-color: #008080; font-weight: bold\">137</span>  <span style=\"font-weight: bold\">(</span> <span style=\"color: #008080; text-decoration-color: #008080; font-weight: bold\">66</span> <span style=\"font-weight: bold\">)</span>\n",
       "</pre>\n"
      ],
      "text/plain": [
       "Byte  \u001b[1;36m6\u001b[0m  Nibble \u001b[1;36m0\u001b[0m  -   Left Margin:   \u001b[1;36m135\u001b[0m  \u001b[1m(\u001b[0m \u001b[1;36m65\u001b[0m \u001b[1m)\u001b[0m  Center Point:   \u001b[1;36m181\u001b[0m  \u001b[1m(\u001b[0m \u001b[1;36m87\u001b[0m \u001b[1m)\u001b[0m  Right Margin:   \u001b[1;36m137\u001b[0m  \u001b[1m(\u001b[0m \u001b[1;36m66\u001b[0m \u001b[1m)\u001b[0m\n"
      ]
     },
     "metadata": {},
     "output_type": "display_data"
    },
    {
     "data": {
      "text/html": [
       "<pre style=\"white-space:pre;overflow-x:auto;line-height:normal;font-family:Menlo,'DejaVu Sans Mono',consolas,'Courier New',monospace\">Byte  <span style=\"color: #008080; text-decoration-color: #008080; font-weight: bold\">6</span>  Nibble <span style=\"color: #008080; text-decoration-color: #008080; font-weight: bold\">1</span>  -   Left Margin:   <span style=\"color: #008080; text-decoration-color: #008080; font-weight: bold\">127</span>  <span style=\"font-weight: bold\">(</span> <span style=\"color: #008080; text-decoration-color: #008080; font-weight: bold\">62</span> <span style=\"font-weight: bold\">)</span>  Center Point:   <span style=\"color: #008080; text-decoration-color: #008080; font-weight: bold\">177</span>  <span style=\"font-weight: bold\">(</span> <span style=\"color: #008080; text-decoration-color: #008080; font-weight: bold\">86</span> <span style=\"font-weight: bold\">)</span>  Right Margin:   <span style=\"color: #008080; text-decoration-color: #008080; font-weight: bold\">129</span>  <span style=\"font-weight: bold\">(</span> <span style=\"color: #008080; text-decoration-color: #008080; font-weight: bold\">63</span> <span style=\"font-weight: bold\">)</span>\n",
       "</pre>\n"
      ],
      "text/plain": [
       "Byte  \u001b[1;36m6\u001b[0m  Nibble \u001b[1;36m1\u001b[0m  -   Left Margin:   \u001b[1;36m127\u001b[0m  \u001b[1m(\u001b[0m \u001b[1;36m62\u001b[0m \u001b[1m)\u001b[0m  Center Point:   \u001b[1;36m177\u001b[0m  \u001b[1m(\u001b[0m \u001b[1;36m86\u001b[0m \u001b[1m)\u001b[0m  Right Margin:   \u001b[1;36m129\u001b[0m  \u001b[1m(\u001b[0m \u001b[1;36m63\u001b[0m \u001b[1m)\u001b[0m\n"
      ]
     },
     "metadata": {},
     "output_type": "display_data"
    },
    {
     "data": {
      "text/html": [
       "<pre style=\"white-space:pre;overflow-x:auto;line-height:normal;font-family:Menlo,'DejaVu Sans Mono',consolas,'Courier New',monospace\">Byte  <span style=\"color: #008080; text-decoration-color: #008080; font-weight: bold\">7</span>  Nibble <span style=\"color: #008080; text-decoration-color: #008080; font-weight: bold\">0</span>  -   Left Margin:   <span style=\"color: #008080; text-decoration-color: #008080; font-weight: bold\">129</span>  <span style=\"font-weight: bold\">(</span> <span style=\"color: #008080; text-decoration-color: #008080; font-weight: bold\">63</span> <span style=\"font-weight: bold\">)</span>  Center Point:   <span style=\"color: #008080; text-decoration-color: #008080; font-weight: bold\">183</span>  <span style=\"font-weight: bold\">(</span> <span style=\"color: #008080; text-decoration-color: #008080; font-weight: bold\">89</span> <span style=\"font-weight: bold\">)</span>  Right Margin:   <span style=\"color: #008080; text-decoration-color: #008080; font-weight: bold\">131</span>  <span style=\"font-weight: bold\">(</span> <span style=\"color: #008080; text-decoration-color: #008080; font-weight: bold\">64</span> <span style=\"font-weight: bold\">)</span>\n",
       "</pre>\n"
      ],
      "text/plain": [
       "Byte  \u001b[1;36m7\u001b[0m  Nibble \u001b[1;36m0\u001b[0m  -   Left Margin:   \u001b[1;36m129\u001b[0m  \u001b[1m(\u001b[0m \u001b[1;36m63\u001b[0m \u001b[1m)\u001b[0m  Center Point:   \u001b[1;36m183\u001b[0m  \u001b[1m(\u001b[0m \u001b[1;36m89\u001b[0m \u001b[1m)\u001b[0m  Right Margin:   \u001b[1;36m131\u001b[0m  \u001b[1m(\u001b[0m \u001b[1;36m64\u001b[0m \u001b[1m)\u001b[0m\n"
      ]
     },
     "metadata": {},
     "output_type": "display_data"
    },
    {
     "data": {
      "text/html": [
       "<pre style=\"white-space:pre;overflow-x:auto;line-height:normal;font-family:Menlo,'DejaVu Sans Mono',consolas,'Courier New',monospace\">Byte  <span style=\"color: #008080; text-decoration-color: #008080; font-weight: bold\">7</span>  Nibble <span style=\"color: #008080; text-decoration-color: #008080; font-weight: bold\">1</span>  -   Left Margin:   <span style=\"color: #008080; text-decoration-color: #008080; font-weight: bold\">133</span>  <span style=\"font-weight: bold\">(</span> <span style=\"color: #008080; text-decoration-color: #008080; font-weight: bold\">65</span> <span style=\"font-weight: bold\">)</span>  Center Point:   <span style=\"color: #008080; text-decoration-color: #008080; font-weight: bold\">179</span>  <span style=\"font-weight: bold\">(</span> <span style=\"color: #008080; text-decoration-color: #008080; font-weight: bold\">87</span> <span style=\"font-weight: bold\">)</span>  Right Margin:   <span style=\"color: #008080; text-decoration-color: #008080; font-weight: bold\">133</span>  <span style=\"font-weight: bold\">(</span> <span style=\"color: #008080; text-decoration-color: #008080; font-weight: bold\">65</span> <span style=\"font-weight: bold\">)</span>\n",
       "</pre>\n"
      ],
      "text/plain": [
       "Byte  \u001b[1;36m7\u001b[0m  Nibble \u001b[1;36m1\u001b[0m  -   Left Margin:   \u001b[1;36m133\u001b[0m  \u001b[1m(\u001b[0m \u001b[1;36m65\u001b[0m \u001b[1m)\u001b[0m  Center Point:   \u001b[1;36m179\u001b[0m  \u001b[1m(\u001b[0m \u001b[1;36m87\u001b[0m \u001b[1m)\u001b[0m  Right Margin:   \u001b[1;36m133\u001b[0m  \u001b[1m(\u001b[0m \u001b[1;36m65\u001b[0m \u001b[1m)\u001b[0m\n"
      ]
     },
     "metadata": {},
     "output_type": "display_data"
    },
    {
     "data": {
      "text/html": [
       "<pre style=\"white-space:pre;overflow-x:auto;line-height:normal;font-family:Menlo,'DejaVu Sans Mono',consolas,'Courier New',monospace\">\n",
       " Frequency <span style=\"color: #008080; text-decoration-color: #008080; font-weight: bold\">0</span>  - Read Margin - Complex Pattern - Falling Edge Clock in pS and <span style=\"font-weight: bold\">(</span>delay taps<span style=\"font-weight: bold\">)</span>:\n",
       "\n",
       "</pre>\n"
      ],
      "text/plain": [
       "\n",
       " Frequency \u001b[1;36m0\u001b[0m  - Read Margin - Complex Pattern - Falling Edge Clock in pS and \u001b[1m(\u001b[0mdelay taps\u001b[1m)\u001b[0m:\n",
       "\n"
      ]
     },
     "metadata": {},
     "output_type": "display_data"
    },
    {
     "data": {
      "text/html": [
       "<pre style=\"white-space:pre;overflow-x:auto;line-height:normal;font-family:Menlo,'DejaVu Sans Mono',consolas,'Courier New',monospace\">Byte  <span style=\"color: #008080; text-decoration-color: #008080; font-weight: bold\">0</span>  Nibble <span style=\"color: #008080; text-decoration-color: #008080; font-weight: bold\">0</span>  -   Left Margin:   <span style=\"color: #008080; text-decoration-color: #008080; font-weight: bold\">127</span>  <span style=\"font-weight: bold\">(</span> <span style=\"color: #008080; text-decoration-color: #008080; font-weight: bold\">62</span> <span style=\"font-weight: bold\">)</span>  Center Point:   <span style=\"color: #008080; text-decoration-color: #008080; font-weight: bold\">179</span>  <span style=\"font-weight: bold\">(</span> <span style=\"color: #008080; text-decoration-color: #008080; font-weight: bold\">87</span> <span style=\"font-weight: bold\">)</span>  Right Margin:   <span style=\"color: #008080; text-decoration-color: #008080; font-weight: bold\">129</span>  <span style=\"font-weight: bold\">(</span> <span style=\"color: #008080; text-decoration-color: #008080; font-weight: bold\">63</span> <span style=\"font-weight: bold\">)</span>\n",
       "</pre>\n"
      ],
      "text/plain": [
       "Byte  \u001b[1;36m0\u001b[0m  Nibble \u001b[1;36m0\u001b[0m  -   Left Margin:   \u001b[1;36m127\u001b[0m  \u001b[1m(\u001b[0m \u001b[1;36m62\u001b[0m \u001b[1m)\u001b[0m  Center Point:   \u001b[1;36m179\u001b[0m  \u001b[1m(\u001b[0m \u001b[1;36m87\u001b[0m \u001b[1m)\u001b[0m  Right Margin:   \u001b[1;36m129\u001b[0m  \u001b[1m(\u001b[0m \u001b[1;36m63\u001b[0m \u001b[1m)\u001b[0m\n"
      ]
     },
     "metadata": {},
     "output_type": "display_data"
    },
    {
     "data": {
      "text/html": [
       "<pre style=\"white-space:pre;overflow-x:auto;line-height:normal;font-family:Menlo,'DejaVu Sans Mono',consolas,'Courier New',monospace\">Byte  <span style=\"color: #008080; text-decoration-color: #008080; font-weight: bold\">0</span>  Nibble <span style=\"color: #008080; text-decoration-color: #008080; font-weight: bold\">1</span>  -   Left Margin:   <span style=\"color: #008080; text-decoration-color: #008080; font-weight: bold\">130</span>  <span style=\"font-weight: bold\">(</span> <span style=\"color: #008080; text-decoration-color: #008080; font-weight: bold\">62</span> <span style=\"font-weight: bold\">)</span>  Center Point:   <span style=\"color: #008080; text-decoration-color: #008080; font-weight: bold\">186</span>  <span style=\"font-weight: bold\">(</span> <span style=\"color: #008080; text-decoration-color: #008080; font-weight: bold\">88</span> <span style=\"font-weight: bold\">)</span>  Right Margin:   <span style=\"color: #008080; text-decoration-color: #008080; font-weight: bold\">130</span>  <span style=\"font-weight: bold\">(</span> <span style=\"color: #008080; text-decoration-color: #008080; font-weight: bold\">62</span> <span style=\"font-weight: bold\">)</span>\n",
       "</pre>\n"
      ],
      "text/plain": [
       "Byte  \u001b[1;36m0\u001b[0m  Nibble \u001b[1;36m1\u001b[0m  -   Left Margin:   \u001b[1;36m130\u001b[0m  \u001b[1m(\u001b[0m \u001b[1;36m62\u001b[0m \u001b[1m)\u001b[0m  Center Point:   \u001b[1;36m186\u001b[0m  \u001b[1m(\u001b[0m \u001b[1;36m88\u001b[0m \u001b[1m)\u001b[0m  Right Margin:   \u001b[1;36m130\u001b[0m  \u001b[1m(\u001b[0m \u001b[1;36m62\u001b[0m \u001b[1m)\u001b[0m\n"
      ]
     },
     "metadata": {},
     "output_type": "display_data"
    },
    {
     "data": {
      "text/html": [
       "<pre style=\"white-space:pre;overflow-x:auto;line-height:normal;font-family:Menlo,'DejaVu Sans Mono',consolas,'Courier New',monospace\">Byte  <span style=\"color: #008080; text-decoration-color: #008080; font-weight: bold\">1</span>  Nibble <span style=\"color: #008080; text-decoration-color: #008080; font-weight: bold\">0</span>  -   Left Margin:   <span style=\"color: #008080; text-decoration-color: #008080; font-weight: bold\">111</span>  <span style=\"font-weight: bold\">(</span> <span style=\"color: #008080; text-decoration-color: #008080; font-weight: bold\">55</span> <span style=\"font-weight: bold\">)</span>  Center Point:   <span style=\"color: #008080; text-decoration-color: #008080; font-weight: bold\">177</span>  <span style=\"font-weight: bold\">(</span> <span style=\"color: #008080; text-decoration-color: #008080; font-weight: bold\">87</span> <span style=\"font-weight: bold\">)</span>  Right Margin:   <span style=\"color: #008080; text-decoration-color: #008080; font-weight: bold\">113</span>  <span style=\"font-weight: bold\">(</span> <span style=\"color: #008080; text-decoration-color: #008080; font-weight: bold\">56</span> <span style=\"font-weight: bold\">)</span>\n",
       "</pre>\n"
      ],
      "text/plain": [
       "Byte  \u001b[1;36m1\u001b[0m  Nibble \u001b[1;36m0\u001b[0m  -   Left Margin:   \u001b[1;36m111\u001b[0m  \u001b[1m(\u001b[0m \u001b[1;36m55\u001b[0m \u001b[1m)\u001b[0m  Center Point:   \u001b[1;36m177\u001b[0m  \u001b[1m(\u001b[0m \u001b[1;36m87\u001b[0m \u001b[1m)\u001b[0m  Right Margin:   \u001b[1;36m113\u001b[0m  \u001b[1m(\u001b[0m \u001b[1;36m56\u001b[0m \u001b[1m)\u001b[0m\n"
      ]
     },
     "metadata": {},
     "output_type": "display_data"
    },
    {
     "data": {
      "text/html": [
       "<pre style=\"white-space:pre;overflow-x:auto;line-height:normal;font-family:Menlo,'DejaVu Sans Mono',consolas,'Courier New',monospace\">Byte  <span style=\"color: #008080; text-decoration-color: #008080; font-weight: bold\">1</span>  Nibble <span style=\"color: #008080; text-decoration-color: #008080; font-weight: bold\">1</span>  -   Left Margin:   <span style=\"color: #008080; text-decoration-color: #008080; font-weight: bold\">115</span>  <span style=\"font-weight: bold\">(</span> <span style=\"color: #008080; text-decoration-color: #008080; font-weight: bold\">57</span> <span style=\"font-weight: bold\">)</span>  Center Point:   <span style=\"color: #008080; text-decoration-color: #008080; font-weight: bold\">166</span>  <span style=\"font-weight: bold\">(</span> <span style=\"color: #008080; text-decoration-color: #008080; font-weight: bold\">82</span> <span style=\"font-weight: bold\">)</span>  Right Margin:   <span style=\"color: #008080; text-decoration-color: #008080; font-weight: bold\">117</span>  <span style=\"font-weight: bold\">(</span> <span style=\"color: #008080; text-decoration-color: #008080; font-weight: bold\">58</span> <span style=\"font-weight: bold\">)</span>\n",
       "</pre>\n"
      ],
      "text/plain": [
       "Byte  \u001b[1;36m1\u001b[0m  Nibble \u001b[1;36m1\u001b[0m  -   Left Margin:   \u001b[1;36m115\u001b[0m  \u001b[1m(\u001b[0m \u001b[1;36m57\u001b[0m \u001b[1m)\u001b[0m  Center Point:   \u001b[1;36m166\u001b[0m  \u001b[1m(\u001b[0m \u001b[1;36m82\u001b[0m \u001b[1m)\u001b[0m  Right Margin:   \u001b[1;36m117\u001b[0m  \u001b[1m(\u001b[0m \u001b[1;36m58\u001b[0m \u001b[1m)\u001b[0m\n"
      ]
     },
     "metadata": {},
     "output_type": "display_data"
    },
    {
     "data": {
      "text/html": [
       "<pre style=\"white-space:pre;overflow-x:auto;line-height:normal;font-family:Menlo,'DejaVu Sans Mono',consolas,'Courier New',monospace\">Byte  <span style=\"color: #008080; text-decoration-color: #008080; font-weight: bold\">2</span>  Nibble <span style=\"color: #008080; text-decoration-color: #008080; font-weight: bold\">0</span>  -   Left Margin:   <span style=\"color: #008080; text-decoration-color: #008080; font-weight: bold\">116</span>  <span style=\"font-weight: bold\">(</span> <span style=\"color: #008080; text-decoration-color: #008080; font-weight: bold\">58</span> <span style=\"font-weight: bold\">)</span>  Center Point:   <span style=\"color: #008080; text-decoration-color: #008080; font-weight: bold\">182</span>  <span style=\"font-weight: bold\">(</span> <span style=\"color: #008080; text-decoration-color: #008080; font-weight: bold\">91</span> <span style=\"font-weight: bold\">)</span>  Right Margin:   <span style=\"color: #008080; text-decoration-color: #008080; font-weight: bold\">116</span>  <span style=\"font-weight: bold\">(</span> <span style=\"color: #008080; text-decoration-color: #008080; font-weight: bold\">58</span> <span style=\"font-weight: bold\">)</span>\n",
       "</pre>\n"
      ],
      "text/plain": [
       "Byte  \u001b[1;36m2\u001b[0m  Nibble \u001b[1;36m0\u001b[0m  -   Left Margin:   \u001b[1;36m116\u001b[0m  \u001b[1m(\u001b[0m \u001b[1;36m58\u001b[0m \u001b[1m)\u001b[0m  Center Point:   \u001b[1;36m182\u001b[0m  \u001b[1m(\u001b[0m \u001b[1;36m91\u001b[0m \u001b[1m)\u001b[0m  Right Margin:   \u001b[1;36m116\u001b[0m  \u001b[1m(\u001b[0m \u001b[1;36m58\u001b[0m \u001b[1m)\u001b[0m\n"
      ]
     },
     "metadata": {},
     "output_type": "display_data"
    },
    {
     "data": {
      "text/html": [
       "<pre style=\"white-space:pre;overflow-x:auto;line-height:normal;font-family:Menlo,'DejaVu Sans Mono',consolas,'Courier New',monospace\">Byte  <span style=\"color: #008080; text-decoration-color: #008080; font-weight: bold\">2</span>  Nibble <span style=\"color: #008080; text-decoration-color: #008080; font-weight: bold\">1</span>  -   Left Margin:   <span style=\"color: #008080; text-decoration-color: #008080; font-weight: bold\">116</span>  <span style=\"font-weight: bold\">(</span> <span style=\"color: #008080; text-decoration-color: #008080; font-weight: bold\">55</span> <span style=\"font-weight: bold\">)</span>  Center Point:   <span style=\"color: #008080; text-decoration-color: #008080; font-weight: bold\">188</span>  <span style=\"font-weight: bold\">(</span> <span style=\"color: #008080; text-decoration-color: #008080; font-weight: bold\">89</span> <span style=\"font-weight: bold\">)</span>  Right Margin:   <span style=\"color: #008080; text-decoration-color: #008080; font-weight: bold\">116</span>  <span style=\"font-weight: bold\">(</span> <span style=\"color: #008080; text-decoration-color: #008080; font-weight: bold\">55</span> <span style=\"font-weight: bold\">)</span>\n",
       "</pre>\n"
      ],
      "text/plain": [
       "Byte  \u001b[1;36m2\u001b[0m  Nibble \u001b[1;36m1\u001b[0m  -   Left Margin:   \u001b[1;36m116\u001b[0m  \u001b[1m(\u001b[0m \u001b[1;36m55\u001b[0m \u001b[1m)\u001b[0m  Center Point:   \u001b[1;36m188\u001b[0m  \u001b[1m(\u001b[0m \u001b[1;36m89\u001b[0m \u001b[1m)\u001b[0m  Right Margin:   \u001b[1;36m116\u001b[0m  \u001b[1m(\u001b[0m \u001b[1;36m55\u001b[0m \u001b[1m)\u001b[0m\n"
      ]
     },
     "metadata": {},
     "output_type": "display_data"
    },
    {
     "data": {
      "text/html": [
       "<pre style=\"white-space:pre;overflow-x:auto;line-height:normal;font-family:Menlo,'DejaVu Sans Mono',consolas,'Courier New',monospace\">Byte  <span style=\"color: #008080; text-decoration-color: #008080; font-weight: bold\">3</span>  Nibble <span style=\"color: #008080; text-decoration-color: #008080; font-weight: bold\">0</span>  -   Left Margin:   <span style=\"color: #008080; text-decoration-color: #008080; font-weight: bold\">115</span>  <span style=\"font-weight: bold\">(</span> <span style=\"color: #008080; text-decoration-color: #008080; font-weight: bold\">57</span> <span style=\"font-weight: bold\">)</span>  Center Point:   <span style=\"color: #008080; text-decoration-color: #008080; font-weight: bold\">172</span>  <span style=\"font-weight: bold\">(</span> <span style=\"color: #008080; text-decoration-color: #008080; font-weight: bold\">85</span> <span style=\"font-weight: bold\">)</span>  Right Margin:   <span style=\"color: #008080; text-decoration-color: #008080; font-weight: bold\">117</span>  <span style=\"font-weight: bold\">(</span> <span style=\"color: #008080; text-decoration-color: #008080; font-weight: bold\">58</span> <span style=\"font-weight: bold\">)</span>\n",
       "</pre>\n"
      ],
      "text/plain": [
       "Byte  \u001b[1;36m3\u001b[0m  Nibble \u001b[1;36m0\u001b[0m  -   Left Margin:   \u001b[1;36m115\u001b[0m  \u001b[1m(\u001b[0m \u001b[1;36m57\u001b[0m \u001b[1m)\u001b[0m  Center Point:   \u001b[1;36m172\u001b[0m  \u001b[1m(\u001b[0m \u001b[1;36m85\u001b[0m \u001b[1m)\u001b[0m  Right Margin:   \u001b[1;36m117\u001b[0m  \u001b[1m(\u001b[0m \u001b[1;36m58\u001b[0m \u001b[1m)\u001b[0m\n"
      ]
     },
     "metadata": {},
     "output_type": "display_data"
    },
    {
     "data": {
      "text/html": [
       "<pre style=\"white-space:pre;overflow-x:auto;line-height:normal;font-family:Menlo,'DejaVu Sans Mono',consolas,'Courier New',monospace\">Byte  <span style=\"color: #008080; text-decoration-color: #008080; font-weight: bold\">3</span>  Nibble <span style=\"color: #008080; text-decoration-color: #008080; font-weight: bold\">1</span>  -   Left Margin:   <span style=\"color: #008080; text-decoration-color: #008080; font-weight: bold\">114</span>  <span style=\"font-weight: bold\">(</span> <span style=\"color: #008080; text-decoration-color: #008080; font-weight: bold\">57</span> <span style=\"font-weight: bold\">)</span>  Center Point:   <span style=\"color: #008080; text-decoration-color: #008080; font-weight: bold\">170</span>  <span style=\"font-weight: bold\">(</span> <span style=\"color: #008080; text-decoration-color: #008080; font-weight: bold\">85</span> <span style=\"font-weight: bold\">)</span>  Right Margin:   <span style=\"color: #008080; text-decoration-color: #008080; font-weight: bold\">114</span>  <span style=\"font-weight: bold\">(</span> <span style=\"color: #008080; text-decoration-color: #008080; font-weight: bold\">57</span> <span style=\"font-weight: bold\">)</span>\n",
       "</pre>\n"
      ],
      "text/plain": [
       "Byte  \u001b[1;36m3\u001b[0m  Nibble \u001b[1;36m1\u001b[0m  -   Left Margin:   \u001b[1;36m114\u001b[0m  \u001b[1m(\u001b[0m \u001b[1;36m57\u001b[0m \u001b[1m)\u001b[0m  Center Point:   \u001b[1;36m170\u001b[0m  \u001b[1m(\u001b[0m \u001b[1;36m85\u001b[0m \u001b[1m)\u001b[0m  Right Margin:   \u001b[1;36m114\u001b[0m  \u001b[1m(\u001b[0m \u001b[1;36m57\u001b[0m \u001b[1m)\u001b[0m\n"
      ]
     },
     "metadata": {},
     "output_type": "display_data"
    },
    {
     "data": {
      "text/html": [
       "<pre style=\"white-space:pre;overflow-x:auto;line-height:normal;font-family:Menlo,'DejaVu Sans Mono',consolas,'Courier New',monospace\">Byte  <span style=\"color: #008080; text-decoration-color: #008080; font-weight: bold\">4</span>  Nibble <span style=\"color: #008080; text-decoration-color: #008080; font-weight: bold\">0</span>  -   Left Margin:   <span style=\"color: #008080; text-decoration-color: #008080; font-weight: bold\">119</span>  <span style=\"font-weight: bold\">(</span> <span style=\"color: #008080; text-decoration-color: #008080; font-weight: bold\">58</span> <span style=\"font-weight: bold\">)</span>  Center Point:   <span style=\"color: #008080; text-decoration-color: #008080; font-weight: bold\">175</span>  <span style=\"font-weight: bold\">(</span> <span style=\"color: #008080; text-decoration-color: #008080; font-weight: bold\">85</span> <span style=\"font-weight: bold\">)</span>  Right Margin:   <span style=\"color: #008080; text-decoration-color: #008080; font-weight: bold\">119</span>  <span style=\"font-weight: bold\">(</span> <span style=\"color: #008080; text-decoration-color: #008080; font-weight: bold\">58</span> <span style=\"font-weight: bold\">)</span>\n",
       "</pre>\n"
      ],
      "text/plain": [
       "Byte  \u001b[1;36m4\u001b[0m  Nibble \u001b[1;36m0\u001b[0m  -   Left Margin:   \u001b[1;36m119\u001b[0m  \u001b[1m(\u001b[0m \u001b[1;36m58\u001b[0m \u001b[1m)\u001b[0m  Center Point:   \u001b[1;36m175\u001b[0m  \u001b[1m(\u001b[0m \u001b[1;36m85\u001b[0m \u001b[1m)\u001b[0m  Right Margin:   \u001b[1;36m119\u001b[0m  \u001b[1m(\u001b[0m \u001b[1;36m58\u001b[0m \u001b[1m)\u001b[0m\n"
      ]
     },
     "metadata": {},
     "output_type": "display_data"
    },
    {
     "data": {
      "text/html": [
       "<pre style=\"white-space:pre;overflow-x:auto;line-height:normal;font-family:Menlo,'DejaVu Sans Mono',consolas,'Courier New',monospace\">Byte  <span style=\"color: #008080; text-decoration-color: #008080; font-weight: bold\">4</span>  Nibble <span style=\"color: #008080; text-decoration-color: #008080; font-weight: bold\">1</span>  -   Left Margin:   <span style=\"color: #008080; text-decoration-color: #008080; font-weight: bold\">120</span>  <span style=\"font-weight: bold\">(</span> <span style=\"color: #008080; text-decoration-color: #008080; font-weight: bold\">58</span> <span style=\"font-weight: bold\">)</span>  Center Point:   <span style=\"color: #008080; text-decoration-color: #008080; font-weight: bold\">177</span>  <span style=\"font-weight: bold\">(</span> <span style=\"color: #008080; text-decoration-color: #008080; font-weight: bold\">85</span> <span style=\"font-weight: bold\">)</span>  Right Margin:   <span style=\"color: #008080; text-decoration-color: #008080; font-weight: bold\">120</span>  <span style=\"font-weight: bold\">(</span> <span style=\"color: #008080; text-decoration-color: #008080; font-weight: bold\">58</span> <span style=\"font-weight: bold\">)</span>\n",
       "</pre>\n"
      ],
      "text/plain": [
       "Byte  \u001b[1;36m4\u001b[0m  Nibble \u001b[1;36m1\u001b[0m  -   Left Margin:   \u001b[1;36m120\u001b[0m  \u001b[1m(\u001b[0m \u001b[1;36m58\u001b[0m \u001b[1m)\u001b[0m  Center Point:   \u001b[1;36m177\u001b[0m  \u001b[1m(\u001b[0m \u001b[1;36m85\u001b[0m \u001b[1m)\u001b[0m  Right Margin:   \u001b[1;36m120\u001b[0m  \u001b[1m(\u001b[0m \u001b[1;36m58\u001b[0m \u001b[1m)\u001b[0m\n"
      ]
     },
     "metadata": {},
     "output_type": "display_data"
    },
    {
     "data": {
      "text/html": [
       "<pre style=\"white-space:pre;overflow-x:auto;line-height:normal;font-family:Menlo,'DejaVu Sans Mono',consolas,'Courier New',monospace\">Byte  <span style=\"color: #008080; text-decoration-color: #008080; font-weight: bold\">5</span>  Nibble <span style=\"color: #008080; text-decoration-color: #008080; font-weight: bold\">0</span>  -   Left Margin:   <span style=\"color: #008080; text-decoration-color: #008080; font-weight: bold\">111</span>  <span style=\"font-weight: bold\">(</span> <span style=\"color: #008080; text-decoration-color: #008080; font-weight: bold\">57</span> <span style=\"font-weight: bold\">)</span>  Center Point:   <span style=\"color: #008080; text-decoration-color: #008080; font-weight: bold\">172</span>  <span style=\"font-weight: bold\">(</span> <span style=\"color: #008080; text-decoration-color: #008080; font-weight: bold\">88</span> <span style=\"font-weight: bold\">)</span>  Right Margin:   <span style=\"color: #008080; text-decoration-color: #008080; font-weight: bold\">113</span>  <span style=\"font-weight: bold\">(</span> <span style=\"color: #008080; text-decoration-color: #008080; font-weight: bold\">58</span> <span style=\"font-weight: bold\">)</span>\n",
       "</pre>\n"
      ],
      "text/plain": [
       "Byte  \u001b[1;36m5\u001b[0m  Nibble \u001b[1;36m0\u001b[0m  -   Left Margin:   \u001b[1;36m111\u001b[0m  \u001b[1m(\u001b[0m \u001b[1;36m57\u001b[0m \u001b[1m)\u001b[0m  Center Point:   \u001b[1;36m172\u001b[0m  \u001b[1m(\u001b[0m \u001b[1;36m88\u001b[0m \u001b[1m)\u001b[0m  Right Margin:   \u001b[1;36m113\u001b[0m  \u001b[1m(\u001b[0m \u001b[1;36m58\u001b[0m \u001b[1m)\u001b[0m\n"
      ]
     },
     "metadata": {},
     "output_type": "display_data"
    },
    {
     "data": {
      "text/html": [
       "<pre style=\"white-space:pre;overflow-x:auto;line-height:normal;font-family:Menlo,'DejaVu Sans Mono',consolas,'Courier New',monospace\">Byte  <span style=\"color: #008080; text-decoration-color: #008080; font-weight: bold\">5</span>  Nibble <span style=\"color: #008080; text-decoration-color: #008080; font-weight: bold\">1</span>  -   Left Margin:   <span style=\"color: #008080; text-decoration-color: #008080; font-weight: bold\">119</span>  <span style=\"font-weight: bold\">(</span> <span style=\"color: #008080; text-decoration-color: #008080; font-weight: bold\">58</span> <span style=\"font-weight: bold\">)</span>  Center Point:   <span style=\"color: #008080; text-decoration-color: #008080; font-weight: bold\">181</span>  <span style=\"font-weight: bold\">(</span> <span style=\"color: #008080; text-decoration-color: #008080; font-weight: bold\">88</span> <span style=\"font-weight: bold\">)</span>  Right Margin:   <span style=\"color: #008080; text-decoration-color: #008080; font-weight: bold\">121</span>  <span style=\"font-weight: bold\">(</span> <span style=\"color: #008080; text-decoration-color: #008080; font-weight: bold\">59</span> <span style=\"font-weight: bold\">)</span>\n",
       "</pre>\n"
      ],
      "text/plain": [
       "Byte  \u001b[1;36m5\u001b[0m  Nibble \u001b[1;36m1\u001b[0m  -   Left Margin:   \u001b[1;36m119\u001b[0m  \u001b[1m(\u001b[0m \u001b[1;36m58\u001b[0m \u001b[1m)\u001b[0m  Center Point:   \u001b[1;36m181\u001b[0m  \u001b[1m(\u001b[0m \u001b[1;36m88\u001b[0m \u001b[1m)\u001b[0m  Right Margin:   \u001b[1;36m121\u001b[0m  \u001b[1m(\u001b[0m \u001b[1;36m59\u001b[0m \u001b[1m)\u001b[0m\n"
      ]
     },
     "metadata": {},
     "output_type": "display_data"
    },
    {
     "data": {
      "text/html": [
       "<pre style=\"white-space:pre;overflow-x:auto;line-height:normal;font-family:Menlo,'DejaVu Sans Mono',consolas,'Courier New',monospace\">Byte  <span style=\"color: #008080; text-decoration-color: #008080; font-weight: bold\">6</span>  Nibble <span style=\"color: #008080; text-decoration-color: #008080; font-weight: bold\">0</span>  -   Left Margin:   <span style=\"color: #008080; text-decoration-color: #008080; font-weight: bold\">121</span>  <span style=\"font-weight: bold\">(</span> <span style=\"color: #008080; text-decoration-color: #008080; font-weight: bold\">59</span> <span style=\"font-weight: bold\">)</span>  Center Point:   <span style=\"color: #008080; text-decoration-color: #008080; font-weight: bold\">173</span>  <span style=\"font-weight: bold\">(</span> <span style=\"color: #008080; text-decoration-color: #008080; font-weight: bold\">84</span> <span style=\"font-weight: bold\">)</span>  Right Margin:   <span style=\"color: #008080; text-decoration-color: #008080; font-weight: bold\">121</span>  <span style=\"font-weight: bold\">(</span> <span style=\"color: #008080; text-decoration-color: #008080; font-weight: bold\">59</span> <span style=\"font-weight: bold\">)</span>\n",
       "</pre>\n"
      ],
      "text/plain": [
       "Byte  \u001b[1;36m6\u001b[0m  Nibble \u001b[1;36m0\u001b[0m  -   Left Margin:   \u001b[1;36m121\u001b[0m  \u001b[1m(\u001b[0m \u001b[1;36m59\u001b[0m \u001b[1m)\u001b[0m  Center Point:   \u001b[1;36m173\u001b[0m  \u001b[1m(\u001b[0m \u001b[1;36m84\u001b[0m \u001b[1m)\u001b[0m  Right Margin:   \u001b[1;36m121\u001b[0m  \u001b[1m(\u001b[0m \u001b[1;36m59\u001b[0m \u001b[1m)\u001b[0m\n"
      ]
     },
     "metadata": {},
     "output_type": "display_data"
    },
    {
     "data": {
      "text/html": [
       "<pre style=\"white-space:pre;overflow-x:auto;line-height:normal;font-family:Menlo,'DejaVu Sans Mono',consolas,'Courier New',monospace\">Byte  <span style=\"color: #008080; text-decoration-color: #008080; font-weight: bold\">6</span>  Nibble <span style=\"color: #008080; text-decoration-color: #008080; font-weight: bold\">1</span>  -   Left Margin:   <span style=\"color: #008080; text-decoration-color: #008080; font-weight: bold\">123</span>  <span style=\"font-weight: bold\">(</span> <span style=\"color: #008080; text-decoration-color: #008080; font-weight: bold\">60</span> <span style=\"font-weight: bold\">)</span>  Center Point:   <span style=\"color: #008080; text-decoration-color: #008080; font-weight: bold\">179</span>  <span style=\"font-weight: bold\">(</span> <span style=\"color: #008080; text-decoration-color: #008080; font-weight: bold\">87</span> <span style=\"font-weight: bold\">)</span>  Right Margin:   <span style=\"color: #008080; text-decoration-color: #008080; font-weight: bold\">123</span>  <span style=\"font-weight: bold\">(</span> <span style=\"color: #008080; text-decoration-color: #008080; font-weight: bold\">60</span> <span style=\"font-weight: bold\">)</span>\n",
       "</pre>\n"
      ],
      "text/plain": [
       "Byte  \u001b[1;36m6\u001b[0m  Nibble \u001b[1;36m1\u001b[0m  -   Left Margin:   \u001b[1;36m123\u001b[0m  \u001b[1m(\u001b[0m \u001b[1;36m60\u001b[0m \u001b[1m)\u001b[0m  Center Point:   \u001b[1;36m179\u001b[0m  \u001b[1m(\u001b[0m \u001b[1;36m87\u001b[0m \u001b[1m)\u001b[0m  Right Margin:   \u001b[1;36m123\u001b[0m  \u001b[1m(\u001b[0m \u001b[1;36m60\u001b[0m \u001b[1m)\u001b[0m\n"
      ]
     },
     "metadata": {},
     "output_type": "display_data"
    },
    {
     "data": {
      "text/html": [
       "<pre style=\"white-space:pre;overflow-x:auto;line-height:normal;font-family:Menlo,'DejaVu Sans Mono',consolas,'Courier New',monospace\">Byte  <span style=\"color: #008080; text-decoration-color: #008080; font-weight: bold\">7</span>  Nibble <span style=\"color: #008080; text-decoration-color: #008080; font-weight: bold\">0</span>  -   Left Margin:   <span style=\"color: #008080; text-decoration-color: #008080; font-weight: bold\">125</span>  <span style=\"font-weight: bold\">(</span> <span style=\"color: #008080; text-decoration-color: #008080; font-weight: bold\">61</span> <span style=\"font-weight: bold\">)</span>  Center Point:   <span style=\"color: #008080; text-decoration-color: #008080; font-weight: bold\">185</span>  <span style=\"font-weight: bold\">(</span> <span style=\"color: #008080; text-decoration-color: #008080; font-weight: bold\">90</span> <span style=\"font-weight: bold\">)</span>  Right Margin:   <span style=\"color: #008080; text-decoration-color: #008080; font-weight: bold\">127</span>  <span style=\"font-weight: bold\">(</span> <span style=\"color: #008080; text-decoration-color: #008080; font-weight: bold\">62</span> <span style=\"font-weight: bold\">)</span>\n",
       "</pre>\n"
      ],
      "text/plain": [
       "Byte  \u001b[1;36m7\u001b[0m  Nibble \u001b[1;36m0\u001b[0m  -   Left Margin:   \u001b[1;36m125\u001b[0m  \u001b[1m(\u001b[0m \u001b[1;36m61\u001b[0m \u001b[1m)\u001b[0m  Center Point:   \u001b[1;36m185\u001b[0m  \u001b[1m(\u001b[0m \u001b[1;36m90\u001b[0m \u001b[1m)\u001b[0m  Right Margin:   \u001b[1;36m127\u001b[0m  \u001b[1m(\u001b[0m \u001b[1;36m62\u001b[0m \u001b[1m)\u001b[0m\n"
      ]
     },
     "metadata": {},
     "output_type": "display_data"
    },
    {
     "data": {
      "text/html": [
       "<pre style=\"white-space:pre;overflow-x:auto;line-height:normal;font-family:Menlo,'DejaVu Sans Mono',consolas,'Courier New',monospace\">Byte  <span style=\"color: #008080; text-decoration-color: #008080; font-weight: bold\">7</span>  Nibble <span style=\"color: #008080; text-decoration-color: #008080; font-weight: bold\">1</span>  -   Left Margin:   <span style=\"color: #008080; text-decoration-color: #008080; font-weight: bold\">127</span>  <span style=\"font-weight: bold\">(</span> <span style=\"color: #008080; text-decoration-color: #008080; font-weight: bold\">61</span> <span style=\"font-weight: bold\">)</span>  Center Point:   <span style=\"color: #008080; text-decoration-color: #008080; font-weight: bold\">181</span>  <span style=\"font-weight: bold\">(</span> <span style=\"color: #008080; text-decoration-color: #008080; font-weight: bold\">87</span> <span style=\"font-weight: bold\">)</span>  Right Margin:   <span style=\"color: #008080; text-decoration-color: #008080; font-weight: bold\">127</span>  <span style=\"font-weight: bold\">(</span> <span style=\"color: #008080; text-decoration-color: #008080; font-weight: bold\">61</span> <span style=\"font-weight: bold\">)</span>\n",
       "</pre>\n"
      ],
      "text/plain": [
       "Byte  \u001b[1;36m7\u001b[0m  Nibble \u001b[1;36m1\u001b[0m  -   Left Margin:   \u001b[1;36m127\u001b[0m  \u001b[1m(\u001b[0m \u001b[1;36m61\u001b[0m \u001b[1m)\u001b[0m  Center Point:   \u001b[1;36m181\u001b[0m  \u001b[1m(\u001b[0m \u001b[1;36m87\u001b[0m \u001b[1m)\u001b[0m  Right Margin:   \u001b[1;36m127\u001b[0m  \u001b[1m(\u001b[0m \u001b[1;36m61\u001b[0m \u001b[1m)\u001b[0m\n"
      ]
     },
     "metadata": {},
     "output_type": "display_data"
    },
    {
     "data": {
      "text/html": [
       "<pre style=\"white-space:pre;overflow-x:auto;line-height:normal;font-family:Menlo,'DejaVu Sans Mono',consolas,'Courier New',monospace\">\n",
       " Frequency <span style=\"color: #008080; text-decoration-color: #008080; font-weight: bold\">0</span>  - Write Margin - Simple Pattern - Calibration Window in pS and <span style=\"font-weight: bold\">(</span>delay taps<span style=\"font-weight: bold\">)</span>:\n",
       "\n",
       "</pre>\n"
      ],
      "text/plain": [
       "\n",
       " Frequency \u001b[1;36m0\u001b[0m  - Write Margin - Simple Pattern - Calibration Window in pS and \u001b[1m(\u001b[0mdelay taps\u001b[1m)\u001b[0m:\n",
       "\n"
      ]
     },
     "metadata": {},
     "output_type": "display_data"
    },
    {
     "data": {
      "text/html": [
       "<pre style=\"white-space:pre;overflow-x:auto;line-height:normal;font-family:Menlo,'DejaVu Sans Mono',consolas,'Courier New',monospace\">Byte  <span style=\"color: #008080; text-decoration-color: #008080; font-weight: bold\">0</span>   -  Left Margin:   <span style=\"color: #008080; text-decoration-color: #008080; font-weight: bold\">165</span>  <span style=\"font-weight: bold\">(</span> <span style=\"color: #008080; text-decoration-color: #008080; font-weight: bold\">80</span> <span style=\"font-weight: bold\">)</span>  Center Point:   <span style=\"color: #008080; text-decoration-color: #008080; font-weight: bold\">451</span>  <span style=\"font-weight: bold\">(</span> <span style=\"color: #008080; text-decoration-color: #008080; font-weight: bold\">218</span> <span style=\"font-weight: bold\">)</span>  Right Margin:   <span style=\"color: #008080; text-decoration-color: #008080; font-weight: bold\">144</span>  <span style=\"font-weight: bold\">(</span> <span style=\"color: #008080; text-decoration-color: #008080; font-weight: bold\">70</span> <span style=\"font-weight: bold\">)</span>\n",
       "</pre>\n"
      ],
      "text/plain": [
       "Byte  \u001b[1;36m0\u001b[0m   -  Left Margin:   \u001b[1;36m165\u001b[0m  \u001b[1m(\u001b[0m \u001b[1;36m80\u001b[0m \u001b[1m)\u001b[0m  Center Point:   \u001b[1;36m451\u001b[0m  \u001b[1m(\u001b[0m \u001b[1;36m218\u001b[0m \u001b[1m)\u001b[0m  Right Margin:   \u001b[1;36m144\u001b[0m  \u001b[1m(\u001b[0m \u001b[1;36m70\u001b[0m \u001b[1m)\u001b[0m\n"
      ]
     },
     "metadata": {},
     "output_type": "display_data"
    },
    {
     "data": {
      "text/html": [
       "<pre style=\"white-space:pre;overflow-x:auto;line-height:normal;font-family:Menlo,'DejaVu Sans Mono',consolas,'Courier New',monospace\">Byte  <span style=\"color: #008080; text-decoration-color: #008080; font-weight: bold\">1</span>   -  Left Margin:   <span style=\"color: #008080; text-decoration-color: #008080; font-weight: bold\">147</span>  <span style=\"font-weight: bold\">(</span> <span style=\"color: #008080; text-decoration-color: #008080; font-weight: bold\">73</span> <span style=\"font-weight: bold\">)</span>  Center Point:   <span style=\"color: #008080; text-decoration-color: #008080; font-weight: bold\">626</span>  <span style=\"font-weight: bold\">(</span> <span style=\"color: #008080; text-decoration-color: #008080; font-weight: bold\">310</span> <span style=\"font-weight: bold\">)</span>  Right Margin:   <span style=\"color: #008080; text-decoration-color: #008080; font-weight: bold\">141</span>  <span style=\"font-weight: bold\">(</span> <span style=\"color: #008080; text-decoration-color: #008080; font-weight: bold\">70</span> <span style=\"font-weight: bold\">)</span>\n",
       "</pre>\n"
      ],
      "text/plain": [
       "Byte  \u001b[1;36m1\u001b[0m   -  Left Margin:   \u001b[1;36m147\u001b[0m  \u001b[1m(\u001b[0m \u001b[1;36m73\u001b[0m \u001b[1m)\u001b[0m  Center Point:   \u001b[1;36m626\u001b[0m  \u001b[1m(\u001b[0m \u001b[1;36m310\u001b[0m \u001b[1m)\u001b[0m  Right Margin:   \u001b[1;36m141\u001b[0m  \u001b[1m(\u001b[0m \u001b[1;36m70\u001b[0m \u001b[1m)\u001b[0m\n"
      ]
     },
     "metadata": {},
     "output_type": "display_data"
    },
    {
     "data": {
      "text/html": [
       "<pre style=\"white-space:pre;overflow-x:auto;line-height:normal;font-family:Menlo,'DejaVu Sans Mono',consolas,'Courier New',monospace\">Byte  <span style=\"color: #008080; text-decoration-color: #008080; font-weight: bold\">2</span>   -  Left Margin:   <span style=\"color: #008080; text-decoration-color: #008080; font-weight: bold\">163</span>  <span style=\"font-weight: bold\">(</span> <span style=\"color: #008080; text-decoration-color: #008080; font-weight: bold\">79</span> <span style=\"font-weight: bold\">)</span>  Center Point:   <span style=\"color: #008080; text-decoration-color: #008080; font-weight: bold\">72</span>  <span style=\"font-weight: bold\">(</span> <span style=\"color: #008080; text-decoration-color: #008080; font-weight: bold\">35</span> <span style=\"font-weight: bold\">)</span>  Right Margin:   <span style=\"color: #008080; text-decoration-color: #008080; font-weight: bold\">128</span>  <span style=\"font-weight: bold\">(</span> <span style=\"color: #008080; text-decoration-color: #008080; font-weight: bold\">62</span> <span style=\"font-weight: bold\">)</span>\n",
       "</pre>\n"
      ],
      "text/plain": [
       "Byte  \u001b[1;36m2\u001b[0m   -  Left Margin:   \u001b[1;36m163\u001b[0m  \u001b[1m(\u001b[0m \u001b[1;36m79\u001b[0m \u001b[1m)\u001b[0m  Center Point:   \u001b[1;36m72\u001b[0m  \u001b[1m(\u001b[0m \u001b[1;36m35\u001b[0m \u001b[1m)\u001b[0m  Right Margin:   \u001b[1;36m128\u001b[0m  \u001b[1m(\u001b[0m \u001b[1;36m62\u001b[0m \u001b[1m)\u001b[0m\n"
      ]
     },
     "metadata": {},
     "output_type": "display_data"
    },
    {
     "data": {
      "text/html": [
       "<pre style=\"white-space:pre;overflow-x:auto;line-height:normal;font-family:Menlo,'DejaVu Sans Mono',consolas,'Courier New',monospace\">Byte  <span style=\"color: #008080; text-decoration-color: #008080; font-weight: bold\">3</span>   -  Left Margin:   <span style=\"color: #008080; text-decoration-color: #008080; font-weight: bold\">142</span>  <span style=\"font-weight: bold\">(</span> <span style=\"color: #008080; text-decoration-color: #008080; font-weight: bold\">70</span> <span style=\"font-weight: bold\">)</span>  Center Point:   <span style=\"color: #008080; text-decoration-color: #008080; font-weight: bold\">194</span>  <span style=\"font-weight: bold\">(</span> <span style=\"color: #008080; text-decoration-color: #008080; font-weight: bold\">95</span> <span style=\"font-weight: bold\">)</span>  Right Margin:   <span style=\"color: #008080; text-decoration-color: #008080; font-weight: bold\">145</span>  <span style=\"font-weight: bold\">(</span> <span style=\"color: #008080; text-decoration-color: #008080; font-weight: bold\">71</span> <span style=\"font-weight: bold\">)</span>\n",
       "</pre>\n"
      ],
      "text/plain": [
       "Byte  \u001b[1;36m3\u001b[0m   -  Left Margin:   \u001b[1;36m142\u001b[0m  \u001b[1m(\u001b[0m \u001b[1;36m70\u001b[0m \u001b[1m)\u001b[0m  Center Point:   \u001b[1;36m194\u001b[0m  \u001b[1m(\u001b[0m \u001b[1;36m95\u001b[0m \u001b[1m)\u001b[0m  Right Margin:   \u001b[1;36m145\u001b[0m  \u001b[1m(\u001b[0m \u001b[1;36m71\u001b[0m \u001b[1m)\u001b[0m\n"
      ]
     },
     "metadata": {},
     "output_type": "display_data"
    },
    {
     "data": {
      "text/html": [
       "<pre style=\"white-space:pre;overflow-x:auto;line-height:normal;font-family:Menlo,'DejaVu Sans Mono',consolas,'Courier New',monospace\">Byte  <span style=\"color: #008080; text-decoration-color: #008080; font-weight: bold\">4</span>   -  Left Margin:   <span style=\"color: #008080; text-decoration-color: #008080; font-weight: bold\">143</span>  <span style=\"font-weight: bold\">(</span> <span style=\"color: #008080; text-decoration-color: #008080; font-weight: bold\">70</span> <span style=\"font-weight: bold\">)</span>  Center Point:   <span style=\"color: #008080; text-decoration-color: #008080; font-weight: bold\">561</span>  <span style=\"font-weight: bold\">(</span> <span style=\"color: #008080; text-decoration-color: #008080; font-weight: bold\">273</span> <span style=\"font-weight: bold\">)</span>  Right Margin:   <span style=\"color: #008080; text-decoration-color: #008080; font-weight: bold\">143</span>  <span style=\"font-weight: bold\">(</span> <span style=\"color: #008080; text-decoration-color: #008080; font-weight: bold\">70</span> <span style=\"font-weight: bold\">)</span>\n",
       "</pre>\n"
      ],
      "text/plain": [
       "Byte  \u001b[1;36m4\u001b[0m   -  Left Margin:   \u001b[1;36m143\u001b[0m  \u001b[1m(\u001b[0m \u001b[1;36m70\u001b[0m \u001b[1m)\u001b[0m  Center Point:   \u001b[1;36m561\u001b[0m  \u001b[1m(\u001b[0m \u001b[1;36m273\u001b[0m \u001b[1m)\u001b[0m  Right Margin:   \u001b[1;36m143\u001b[0m  \u001b[1m(\u001b[0m \u001b[1;36m70\u001b[0m \u001b[1m)\u001b[0m\n"
      ]
     },
     "metadata": {},
     "output_type": "display_data"
    },
    {
     "data": {
      "text/html": [
       "<pre style=\"white-space:pre;overflow-x:auto;line-height:normal;font-family:Menlo,'DejaVu Sans Mono',consolas,'Courier New',monospace\">Byte  <span style=\"color: #008080; text-decoration-color: #008080; font-weight: bold\">5</span>   -  Left Margin:   <span style=\"color: #008080; text-decoration-color: #008080; font-weight: bold\">161</span>  <span style=\"font-weight: bold\">(</span> <span style=\"color: #008080; text-decoration-color: #008080; font-weight: bold\">79</span> <span style=\"font-weight: bold\">)</span>  Center Point:   <span style=\"color: #008080; text-decoration-color: #008080; font-weight: bold\">614</span>  <span style=\"font-weight: bold\">(</span> <span style=\"color: #008080; text-decoration-color: #008080; font-weight: bold\">300</span> <span style=\"font-weight: bold\">)</span>  Right Margin:   <span style=\"color: #008080; text-decoration-color: #008080; font-weight: bold\">136</span>  <span style=\"font-weight: bold\">(</span> <span style=\"color: #008080; text-decoration-color: #008080; font-weight: bold\">67</span> <span style=\"font-weight: bold\">)</span>\n",
       "</pre>\n"
      ],
      "text/plain": [
       "Byte  \u001b[1;36m5\u001b[0m   -  Left Margin:   \u001b[1;36m161\u001b[0m  \u001b[1m(\u001b[0m \u001b[1;36m79\u001b[0m \u001b[1m)\u001b[0m  Center Point:   \u001b[1;36m614\u001b[0m  \u001b[1m(\u001b[0m \u001b[1;36m300\u001b[0m \u001b[1m)\u001b[0m  Right Margin:   \u001b[1;36m136\u001b[0m  \u001b[1m(\u001b[0m \u001b[1;36m67\u001b[0m \u001b[1m)\u001b[0m\n"
      ]
     },
     "metadata": {},
     "output_type": "display_data"
    },
    {
     "data": {
      "text/html": [
       "<pre style=\"white-space:pre;overflow-x:auto;line-height:normal;font-family:Menlo,'DejaVu Sans Mono',consolas,'Courier New',monospace\">Byte  <span style=\"color: #008080; text-decoration-color: #008080; font-weight: bold\">6</span>   -  Left Margin:   <span style=\"color: #008080; text-decoration-color: #008080; font-weight: bold\">157</span>  <span style=\"font-weight: bold\">(</span> <span style=\"color: #008080; text-decoration-color: #008080; font-weight: bold\">76</span> <span style=\"font-weight: bold\">)</span>  Center Point:   <span style=\"color: #008080; text-decoration-color: #008080; font-weight: bold\">593</span>  <span style=\"font-weight: bold\">(</span> <span style=\"color: #008080; text-decoration-color: #008080; font-weight: bold\">286</span> <span style=\"font-weight: bold\">)</span>  Right Margin:   <span style=\"color: #008080; text-decoration-color: #008080; font-weight: bold\">134</span>  <span style=\"font-weight: bold\">(</span> <span style=\"color: #008080; text-decoration-color: #008080; font-weight: bold\">65</span> <span style=\"font-weight: bold\">)</span>\n",
       "</pre>\n"
      ],
      "text/plain": [
       "Byte  \u001b[1;36m6\u001b[0m   -  Left Margin:   \u001b[1;36m157\u001b[0m  \u001b[1m(\u001b[0m \u001b[1;36m76\u001b[0m \u001b[1m)\u001b[0m  Center Point:   \u001b[1;36m593\u001b[0m  \u001b[1m(\u001b[0m \u001b[1;36m286\u001b[0m \u001b[1m)\u001b[0m  Right Margin:   \u001b[1;36m134\u001b[0m  \u001b[1m(\u001b[0m \u001b[1;36m65\u001b[0m \u001b[1m)\u001b[0m\n"
      ]
     },
     "metadata": {},
     "output_type": "display_data"
    },
    {
     "data": {
      "text/html": [
       "<pre style=\"white-space:pre;overflow-x:auto;line-height:normal;font-family:Menlo,'DejaVu Sans Mono',consolas,'Courier New',monospace\">Byte  <span style=\"color: #008080; text-decoration-color: #008080; font-weight: bold\">7</span>   -  Left Margin:   <span style=\"color: #008080; text-decoration-color: #008080; font-weight: bold\">159</span>  <span style=\"font-weight: bold\">(</span> <span style=\"color: #008080; text-decoration-color: #008080; font-weight: bold\">77</span> <span style=\"font-weight: bold\">)</span>  Center Point:   <span style=\"color: #008080; text-decoration-color: #008080; font-weight: bold\">624</span>  <span style=\"font-weight: bold\">(</span> <span style=\"color: #008080; text-decoration-color: #008080; font-weight: bold\">302</span> <span style=\"font-weight: bold\">)</span>  Right Margin:   <span style=\"color: #008080; text-decoration-color: #008080; font-weight: bold\">126</span>  <span style=\"font-weight: bold\">(</span> <span style=\"color: #008080; text-decoration-color: #008080; font-weight: bold\">61</span> <span style=\"font-weight: bold\">)</span>\n",
       "</pre>\n"
      ],
      "text/plain": [
       "Byte  \u001b[1;36m7\u001b[0m   -  Left Margin:   \u001b[1;36m159\u001b[0m  \u001b[1m(\u001b[0m \u001b[1;36m77\u001b[0m \u001b[1m)\u001b[0m  Center Point:   \u001b[1;36m624\u001b[0m  \u001b[1m(\u001b[0m \u001b[1;36m302\u001b[0m \u001b[1m)\u001b[0m  Right Margin:   \u001b[1;36m126\u001b[0m  \u001b[1m(\u001b[0m \u001b[1;36m61\u001b[0m \u001b[1m)\u001b[0m\n"
      ]
     },
     "metadata": {},
     "output_type": "display_data"
    },
    {
     "data": {
      "text/html": [
       "<pre style=\"white-space:pre;overflow-x:auto;line-height:normal;font-family:Menlo,'DejaVu Sans Mono',consolas,'Courier New',monospace\">\n",
       " Frequency <span style=\"color: #008080; text-decoration-color: #008080; font-weight: bold\">0</span>  - Write Margin - Complex Pattern - Calibration Window in pS and <span style=\"font-weight: bold\">(</span>delay taps<span style=\"font-weight: bold\">)</span>:\n",
       "\n",
       "</pre>\n"
      ],
      "text/plain": [
       "\n",
       " Frequency \u001b[1;36m0\u001b[0m  - Write Margin - Complex Pattern - Calibration Window in pS and \u001b[1m(\u001b[0mdelay taps\u001b[1m)\u001b[0m:\n",
       "\n"
      ]
     },
     "metadata": {},
     "output_type": "display_data"
    },
    {
     "data": {
      "text/html": [
       "<pre style=\"white-space:pre;overflow-x:auto;line-height:normal;font-family:Menlo,'DejaVu Sans Mono',consolas,'Courier New',monospace\">Byte  <span style=\"color: #008080; text-decoration-color: #008080; font-weight: bold\">0</span>   -  Left Margin:   <span style=\"color: #008080; text-decoration-color: #008080; font-weight: bold\">149</span>  <span style=\"font-weight: bold\">(</span> <span style=\"color: #008080; text-decoration-color: #008080; font-weight: bold\">72</span> <span style=\"font-weight: bold\">)</span>  Center Point:   <span style=\"color: #008080; text-decoration-color: #008080; font-weight: bold\">451</span>  <span style=\"font-weight: bold\">(</span> <span style=\"color: #008080; text-decoration-color: #008080; font-weight: bold\">218</span> <span style=\"font-weight: bold\">)</span>  Right Margin:   <span style=\"color: #008080; text-decoration-color: #008080; font-weight: bold\">117</span>  <span style=\"font-weight: bold\">(</span> <span style=\"color: #008080; text-decoration-color: #008080; font-weight: bold\">57</span> <span style=\"font-weight: bold\">)</span>\n",
       "</pre>\n"
      ],
      "text/plain": [
       "Byte  \u001b[1;36m0\u001b[0m   -  Left Margin:   \u001b[1;36m149\u001b[0m  \u001b[1m(\u001b[0m \u001b[1;36m72\u001b[0m \u001b[1m)\u001b[0m  Center Point:   \u001b[1;36m451\u001b[0m  \u001b[1m(\u001b[0m \u001b[1;36m218\u001b[0m \u001b[1m)\u001b[0m  Right Margin:   \u001b[1;36m117\u001b[0m  \u001b[1m(\u001b[0m \u001b[1;36m57\u001b[0m \u001b[1m)\u001b[0m\n"
      ]
     },
     "metadata": {},
     "output_type": "display_data"
    },
    {
     "data": {
      "text/html": [
       "<pre style=\"white-space:pre;overflow-x:auto;line-height:normal;font-family:Menlo,'DejaVu Sans Mono',consolas,'Courier New',monospace\">Byte  <span style=\"color: #008080; text-decoration-color: #008080; font-weight: bold\">1</span>   -  Left Margin:   <span style=\"color: #008080; text-decoration-color: #008080; font-weight: bold\">139</span>  <span style=\"font-weight: bold\">(</span> <span style=\"color: #008080; text-decoration-color: #008080; font-weight: bold\">69</span> <span style=\"font-weight: bold\">)</span>  Center Point:   <span style=\"color: #008080; text-decoration-color: #008080; font-weight: bold\">626</span>  <span style=\"font-weight: bold\">(</span> <span style=\"color: #008080; text-decoration-color: #008080; font-weight: bold\">310</span> <span style=\"font-weight: bold\">)</span>  Right Margin:   <span style=\"color: #008080; text-decoration-color: #008080; font-weight: bold\">100</span>  <span style=\"font-weight: bold\">(</span> <span style=\"color: #008080; text-decoration-color: #008080; font-weight: bold\">50</span> <span style=\"font-weight: bold\">)</span>\n",
       "</pre>\n"
      ],
      "text/plain": [
       "Byte  \u001b[1;36m1\u001b[0m   -  Left Margin:   \u001b[1;36m139\u001b[0m  \u001b[1m(\u001b[0m \u001b[1;36m69\u001b[0m \u001b[1m)\u001b[0m  Center Point:   \u001b[1;36m626\u001b[0m  \u001b[1m(\u001b[0m \u001b[1;36m310\u001b[0m \u001b[1m)\u001b[0m  Right Margin:   \u001b[1;36m100\u001b[0m  \u001b[1m(\u001b[0m \u001b[1;36m50\u001b[0m \u001b[1m)\u001b[0m\n"
      ]
     },
     "metadata": {},
     "output_type": "display_data"
    },
    {
     "data": {
      "text/html": [
       "<pre style=\"white-space:pre;overflow-x:auto;line-height:normal;font-family:Menlo,'DejaVu Sans Mono',consolas,'Courier New',monospace\">Byte  <span style=\"color: #008080; text-decoration-color: #008080; font-weight: bold\">2</span>   -  Left Margin:   <span style=\"color: #008080; text-decoration-color: #008080; font-weight: bold\">144</span>  <span style=\"font-weight: bold\">(</span> <span style=\"color: #008080; text-decoration-color: #008080; font-weight: bold\">70</span> <span style=\"font-weight: bold\">)</span>  Center Point:   <span style=\"color: #008080; text-decoration-color: #008080; font-weight: bold\">72</span>  <span style=\"font-weight: bold\">(</span> <span style=\"color: #008080; text-decoration-color: #008080; font-weight: bold\">35</span> <span style=\"font-weight: bold\">)</span>  Right Margin:   <span style=\"color: #008080; text-decoration-color: #008080; font-weight: bold\">124</span>  <span style=\"font-weight: bold\">(</span> <span style=\"color: #008080; text-decoration-color: #008080; font-weight: bold\">60</span> <span style=\"font-weight: bold\">)</span>\n",
       "</pre>\n"
      ],
      "text/plain": [
       "Byte  \u001b[1;36m2\u001b[0m   -  Left Margin:   \u001b[1;36m144\u001b[0m  \u001b[1m(\u001b[0m \u001b[1;36m70\u001b[0m \u001b[1m)\u001b[0m  Center Point:   \u001b[1;36m72\u001b[0m  \u001b[1m(\u001b[0m \u001b[1;36m35\u001b[0m \u001b[1m)\u001b[0m  Right Margin:   \u001b[1;36m124\u001b[0m  \u001b[1m(\u001b[0m \u001b[1;36m60\u001b[0m \u001b[1m)\u001b[0m\n"
      ]
     },
     "metadata": {},
     "output_type": "display_data"
    },
    {
     "data": {
      "text/html": [
       "<pre style=\"white-space:pre;overflow-x:auto;line-height:normal;font-family:Menlo,'DejaVu Sans Mono',consolas,'Courier New',monospace\">Byte  <span style=\"color: #008080; text-decoration-color: #008080; font-weight: bold\">3</span>   -  Left Margin:   <span style=\"color: #008080; text-decoration-color: #008080; font-weight: bold\">145</span>  <span style=\"font-weight: bold\">(</span> <span style=\"color: #008080; text-decoration-color: #008080; font-weight: bold\">71</span> <span style=\"font-weight: bold\">)</span>  Center Point:   <span style=\"color: #008080; text-decoration-color: #008080; font-weight: bold\">194</span>  <span style=\"font-weight: bold\">(</span> <span style=\"color: #008080; text-decoration-color: #008080; font-weight: bold\">95</span> <span style=\"font-weight: bold\">)</span>  Right Margin:   <span style=\"color: #008080; text-decoration-color: #008080; font-weight: bold\">122</span>  <span style=\"font-weight: bold\">(</span> <span style=\"color: #008080; text-decoration-color: #008080; font-weight: bold\">60</span> <span style=\"font-weight: bold\">)</span>\n",
       "</pre>\n"
      ],
      "text/plain": [
       "Byte  \u001b[1;36m3\u001b[0m   -  Left Margin:   \u001b[1;36m145\u001b[0m  \u001b[1m(\u001b[0m \u001b[1;36m71\u001b[0m \u001b[1m)\u001b[0m  Center Point:   \u001b[1;36m194\u001b[0m  \u001b[1m(\u001b[0m \u001b[1;36m95\u001b[0m \u001b[1m)\u001b[0m  Right Margin:   \u001b[1;36m122\u001b[0m  \u001b[1m(\u001b[0m \u001b[1;36m60\u001b[0m \u001b[1m)\u001b[0m\n"
      ]
     },
     "metadata": {},
     "output_type": "display_data"
    },
    {
     "data": {
      "text/html": [
       "<pre style=\"white-space:pre;overflow-x:auto;line-height:normal;font-family:Menlo,'DejaVu Sans Mono',consolas,'Courier New',monospace\">Byte  <span style=\"color: #008080; text-decoration-color: #008080; font-weight: bold\">4</span>   -  Left Margin:   <span style=\"color: #008080; text-decoration-color: #008080; font-weight: bold\">143</span>  <span style=\"font-weight: bold\">(</span> <span style=\"color: #008080; text-decoration-color: #008080; font-weight: bold\">70</span> <span style=\"font-weight: bold\">)</span>  Center Point:   <span style=\"color: #008080; text-decoration-color: #008080; font-weight: bold\">561</span>  <span style=\"font-weight: bold\">(</span> <span style=\"color: #008080; text-decoration-color: #008080; font-weight: bold\">273</span> <span style=\"font-weight: bold\">)</span>  Right Margin:   <span style=\"color: #008080; text-decoration-color: #008080; font-weight: bold\">123</span>  <span style=\"font-weight: bold\">(</span> <span style=\"color: #008080; text-decoration-color: #008080; font-weight: bold\">60</span> <span style=\"font-weight: bold\">)</span>\n",
       "</pre>\n"
      ],
      "text/plain": [
       "Byte  \u001b[1;36m4\u001b[0m   -  Left Margin:   \u001b[1;36m143\u001b[0m  \u001b[1m(\u001b[0m \u001b[1;36m70\u001b[0m \u001b[1m)\u001b[0m  Center Point:   \u001b[1;36m561\u001b[0m  \u001b[1m(\u001b[0m \u001b[1;36m273\u001b[0m \u001b[1m)\u001b[0m  Right Margin:   \u001b[1;36m123\u001b[0m  \u001b[1m(\u001b[0m \u001b[1;36m60\u001b[0m \u001b[1m)\u001b[0m\n"
      ]
     },
     "metadata": {},
     "output_type": "display_data"
    },
    {
     "data": {
      "text/html": [
       "<pre style=\"white-space:pre;overflow-x:auto;line-height:normal;font-family:Menlo,'DejaVu Sans Mono',consolas,'Courier New',monospace\">Byte  <span style=\"color: #008080; text-decoration-color: #008080; font-weight: bold\">5</span>   -  Left Margin:   <span style=\"color: #008080; text-decoration-color: #008080; font-weight: bold\">142</span>  <span style=\"font-weight: bold\">(</span> <span style=\"color: #008080; text-decoration-color: #008080; font-weight: bold\">70</span> <span style=\"font-weight: bold\">)</span>  Center Point:   <span style=\"color: #008080; text-decoration-color: #008080; font-weight: bold\">614</span>  <span style=\"font-weight: bold\">(</span> <span style=\"color: #008080; text-decoration-color: #008080; font-weight: bold\">300</span> <span style=\"font-weight: bold\">)</span>  Right Margin:   <span style=\"color: #008080; text-decoration-color: #008080; font-weight: bold\">124</span>  <span style=\"font-weight: bold\">(</span> <span style=\"color: #008080; text-decoration-color: #008080; font-weight: bold\">61</span> <span style=\"font-weight: bold\">)</span>\n",
       "</pre>\n"
      ],
      "text/plain": [
       "Byte  \u001b[1;36m5\u001b[0m   -  Left Margin:   \u001b[1;36m142\u001b[0m  \u001b[1m(\u001b[0m \u001b[1;36m70\u001b[0m \u001b[1m)\u001b[0m  Center Point:   \u001b[1;36m614\u001b[0m  \u001b[1m(\u001b[0m \u001b[1;36m300\u001b[0m \u001b[1m)\u001b[0m  Right Margin:   \u001b[1;36m124\u001b[0m  \u001b[1m(\u001b[0m \u001b[1;36m61\u001b[0m \u001b[1m)\u001b[0m\n"
      ]
     },
     "metadata": {},
     "output_type": "display_data"
    },
    {
     "data": {
      "text/html": [
       "<pre style=\"white-space:pre;overflow-x:auto;line-height:normal;font-family:Menlo,'DejaVu Sans Mono',consolas,'Courier New',monospace\">Byte  <span style=\"color: #008080; text-decoration-color: #008080; font-weight: bold\">6</span>   -  Left Margin:   <span style=\"color: #008080; text-decoration-color: #008080; font-weight: bold\">140</span>  <span style=\"font-weight: bold\">(</span> <span style=\"color: #008080; text-decoration-color: #008080; font-weight: bold\">68</span> <span style=\"font-weight: bold\">)</span>  Center Point:   <span style=\"color: #008080; text-decoration-color: #008080; font-weight: bold\">593</span>  <span style=\"font-weight: bold\">(</span> <span style=\"color: #008080; text-decoration-color: #008080; font-weight: bold\">286</span> <span style=\"font-weight: bold\">)</span>  Right Margin:   <span style=\"color: #008080; text-decoration-color: #008080; font-weight: bold\">122</span>  <span style=\"font-weight: bold\">(</span> <span style=\"color: #008080; text-decoration-color: #008080; font-weight: bold\">59</span> <span style=\"font-weight: bold\">)</span>\n",
       "</pre>\n"
      ],
      "text/plain": [
       "Byte  \u001b[1;36m6\u001b[0m   -  Left Margin:   \u001b[1;36m140\u001b[0m  \u001b[1m(\u001b[0m \u001b[1;36m68\u001b[0m \u001b[1m)\u001b[0m  Center Point:   \u001b[1;36m593\u001b[0m  \u001b[1m(\u001b[0m \u001b[1;36m286\u001b[0m \u001b[1m)\u001b[0m  Right Margin:   \u001b[1;36m122\u001b[0m  \u001b[1m(\u001b[0m \u001b[1;36m59\u001b[0m \u001b[1m)\u001b[0m\n"
      ]
     },
     "metadata": {},
     "output_type": "display_data"
    },
    {
     "data": {
      "text/html": [
       "<pre style=\"white-space:pre;overflow-x:auto;line-height:normal;font-family:Menlo,'DejaVu Sans Mono',consolas,'Courier New',monospace\">Byte  <span style=\"color: #008080; text-decoration-color: #008080; font-weight: bold\">7</span>   -  Left Margin:   <span style=\"color: #008080; text-decoration-color: #008080; font-weight: bold\">138</span>  <span style=\"font-weight: bold\">(</span> <span style=\"color: #008080; text-decoration-color: #008080; font-weight: bold\">67</span> <span style=\"font-weight: bold\">)</span>  Center Point:   <span style=\"color: #008080; text-decoration-color: #008080; font-weight: bold\">624</span>  <span style=\"font-weight: bold\">(</span> <span style=\"color: #008080; text-decoration-color: #008080; font-weight: bold\">302</span> <span style=\"font-weight: bold\">)</span>  Right Margin:   <span style=\"color: #008080; text-decoration-color: #008080; font-weight: bold\">134</span>  <span style=\"font-weight: bold\">(</span> <span style=\"color: #008080; text-decoration-color: #008080; font-weight: bold\">65</span> <span style=\"font-weight: bold\">)</span>\n",
       "</pre>\n"
      ],
      "text/plain": [
       "Byte  \u001b[1;36m7\u001b[0m   -  Left Margin:   \u001b[1;36m138\u001b[0m  \u001b[1m(\u001b[0m \u001b[1;36m67\u001b[0m \u001b[1m)\u001b[0m  Center Point:   \u001b[1;36m624\u001b[0m  \u001b[1m(\u001b[0m \u001b[1;36m302\u001b[0m \u001b[1m)\u001b[0m  Right Margin:   \u001b[1;36m134\u001b[0m  \u001b[1m(\u001b[0m \u001b[1;36m65\u001b[0m \u001b[1m)\u001b[0m\n"
      ]
     },
     "metadata": {},
     "output_type": "display_data"
    },
    {
     "name": "stdout",
     "output_type": "stream",
     "text": [
      "Report Done.\n",
      "\n"
     ]
    }
   ],
   "source": [
    "# Use a single report command to get all latest essential\n",
    "# Status and decoded data collected as it presents\n",
    "ddr.report()\n",
    "# Specify True to argument 1, and name/path to argument 2\n",
    "# to get the report output generated and saved to a file\n",
    "ddr.report(True, \"test_out.txt\")\n",
    "print(\"Report Done.\\n\")"
   ]
  },
  {
   "cell_type": "markdown",
   "id": "2dc611c4",
   "metadata": {
    "papermill": {
     "duration": 0.03753,
     "end_time": "2023-10-24T22:11:37.481495",
     "exception": false,
     "start_time": "2023-10-24T22:11:37.443965",
     "status": "completed"
    },
    "tags": []
   },
   "source": [
    "## 8 - Dump the complete set of internal properties as json\n",
    "\n",
    "This demonstrates how to get a Python dictionary of all the low level DDR properties. These can be converted to JSON easily for export to other tools."
   ]
  },
  {
   "cell_type": "code",
   "execution_count": 11,
   "id": "e26c01c1",
   "metadata": {
    "papermill": {
     "duration": 0.13924,
     "end_time": "2023-10-24T22:11:37.655609",
     "exception": false,
     "start_time": "2023-10-24T22:11:37.516369",
     "status": "completed"
    },
    "tags": []
   },
   "outputs": [
    {
     "name": "stdout",
     "output_type": "stream",
     "text": [
      "{\n",
      "    \"dqstrack_rldlyrnk_fine_max_byte1\": 71,\n",
      "    \"f0_wrdqdbi_odly_dq_final_bit56\": 73,\n",
      "    \"nsu1_perf_mon_ctl_1_0\": 0,\n",
      "    \"f1_dqsgate_stg1_rldlyrnk_crse_rank0_byte4\": 0,\n",
      "    \"f0_rdcmplx_pqtr_left_short_nibble00\": 21,\n",
      "    \"dqstrack_rldlyrnk_crse_max_byte2\": 5,\n",
      "    \"wrvref_left_vref_final_rank0_byte6\": 0,\n",
      "    \"cal_seq_status_29\": 299,\n",
      "    \"f1_dqsgate_stg1_overflow_19\": 0,\n",
      "    \"f1_rdprbs_pqtr_right_margin_nibble10\": 0,\n",
      "    \"f0_wrdqdbi_odly_dq_final_bit44\": 78,\n",
      "    \"f0_dqsgate_stg1_read_lat_rank0_byte2\": 24,\n",
      "    \"f0_rddq_nqtr_right_fcrse_nibble11\": 174,\n",
      "    \"f0_wrdqdbi_stg2_dq_odly_bit24\": 78,\n",
      "    \"f0_rdcmplx_pqtr_right_nibble03\": 149,\n",
      "    \"f1_calbisc_rl_dly_nqtr_nibble13\": 0,\n",
      "    \"f0_wrlvl_fine_left_rank0_byte5\": 52,\n",
      "    \"f1_rdcmplx_pqtr_right_short_fcrse_nibble02\": 0,\n",
      "    \"rdvref_right_vref_upp_bound_nibble06\": 0,\n",
      "    \"f1_wrdqdbi_deskew_dbi_odly_byte1\": 0,\n",
      "    \"f1_rdprbs_pqtr_right_margin_nibble08\": 0,\n",
      "    \"vttrack_rldlyqtr_max_nibble04\": 79,\n",
      "    \"f0_wrlvl_offset_rank0_byte1\": 78,\n",
      "    \"rdvref_left_vref_final_nibble03\": 0,\n",
      "    \"f0_rdcmplx_idelay_offset_nibble03\": 0,\n",
      "    \"f1_rdcmplx_pqtr_left_nibble02\": 0,\n",
      "    \"f0_rd_comp_rise_lm_nib_06\": [\n",
      "        59,\n",
      "        121\n",
      "    ],\n",
      "    \"f1_dqsgate_max_read_lat\": 0,\n",
      "    \"f1_dqsgate_read_lat_final_byte3\": 0,\n",
      "    \"f1_wrcmplx_left_margin_byte5\": 0,\n",
      "    \"f1_wrdqdbi_right_margin_byte1\": 0,\n",
      "    \"f1_dqsgate_stg1_overflow_17\": 0,\n",
      "    \"phy_oe_nib8_dly\": 0,\n",
      "    \"f0_wrdqdbi_left_edge_dq_bit48\": 48,\n",
      "    \"f1_dqsgate_stg1_rldlyrnk_crse_rank0_byte7\": 0,\n",
      "    \"f0_wrdqdbi_deskew_dq_odly_fcrse_bit11\": 122,\n",
      "    \"f1_wrdqdbi_stg2_dq_odly_bit19\": 0,\n",
      "    \"cal_error_bit_phy_nibble_05\": 0,\n",
      "    \"f0_dqsgate_stg2_read_lat_rank0_byte5\": 27,\n",
      "    \"f0_rd_simp_fall_lm_nib_10\": [\n",
      "        69,\n",
      "        134\n",
      "    ],\n",
      "    \"f1_rddq_qtr_deskew_nibble00\": 0,\n",
      "    \"f0_wrlat_wldlyrnk_crse_final_rank0_byte7\": 3,\n",
      "    \"f1_mr2_17_9\": 0,\n",
      "    \"f0_wrlat_wldlyrnk_crse_final_rank0_byte4\": 3,\n",
      "    \"f0_wrcmplx_odly_dq_final_bit55\": 57,\n",
      "    \"f1_calbisc_rl_dly_qtr_nibble07\": 0,\n",
      "    \"vttrack_rldlyqtr_max_nibble09\": 80,\n",
      "    \"phy_oe_nib15_dly\": 1,\n",
      "    \"rdvref_right_vref_def_nibble07\": 0,\n",
      "    \"bisc_rl_dly_qtr_nibble06\": 76,\n",
      "    \"nsu0_perf_filter_1_1\": 0,\n",
      "    \"f0_wrdqdbi_odly_dq_final_bit25\": 78,\n",
      "    \"f1_dqsgate_stg1_overflow_49\": 0,\n",
      "    \"rdvref_vref_upp_bound_nibble12\": 0,\n",
      "    \"f1_wrdqdbi_left_edge_dq_bit08\": 0,\n",
      "    \"f1_rdprbs_nqtr_left_margin_nibble03\": 0,\n",
      "    \"f0_rd_simp_fall_rm_nib_13\": [\n",
      "        72,\n",
      "        148\n",
      "    ],\n",
      "    \"f0_rdcmplx_pqtr_left_short_nibble09\": 24,\n",
      "    \"f0_calbisc_rl_dly_qtr_nibble15\": 75,\n",
      "    \"f0_wrdqdbi_stg3_dq_odly_bit16\": 19,\n",
      "    \"bisc_idly5_align_nibble00\": 69,\n",
      "    \"rdvref_left_vref_low_bound_nibble04\": 0,\n",
      "    \"f1_rddq_pqtr_right_fcrse_nibble12\": 0,\n",
      "    \"rdvref_right_vref_upp_bound_nibble00\": 0,\n",
      "    \"f1_rdcmplx_nqtr_left_nibble13\": 0,\n",
      "    \"f1_rddq_idelay_final_bit43\": 0,\n",
      "    \"f0_wrlat_match_rank0_byte6\": 17,\n",
      "    \"f0_wrdqdbi_left_edge_dq_bit38\": 43,\n",
      "    \"bisc_idly3_align_nibble02\": 69,\n",
      "    \"f1_db_bc0a\": 0,\n",
      "    \"f0_rdcmplx_pqtr_right_nibble02\": 150,\n",
      "    \"f0_rddq_nqtr_right_fcrse_nibble14\": 173,\n",
      "    \"iobmap_dq_1_0\": 0,\n",
      "    \"rdvref_left_vref_final_nibble08\": 0,\n",
      "    \"f1_wrlat_phy_data_nib_final_byte7\": 0,\n",
      "    \"f1_rddq_idelay_final_bit29\": 0,\n",
      "    \"f1_dqsgate_rldlyrnk_crse_final_rank0_byte1\": 0,\n",
      "    \"f1_wrdqdbi_right_margin_fcrse_byte6\": 0,\n",
      "    \"f0_rd_comp_rise_lm_nib_03\": [\n",
      "        63,\n",
      "        127\n",
      "    ],\n",
      "    \"cal_stage_time_08\": 0,\n",
      "    \"f1_rddq_idelay_final_bit30\": 0,\n",
      "    \"f1_rdprbs_nqtr_left_margin_nibble04\": 0,\n",
      "    \"rdmargin_pqtr_left_nibble10\": 0,\n",
      "    \"f0_wrdqdbi_deskew_dq_odly_bit41\": 128,\n",
      "    \"f0_dqsgate_stg1_overflow_23\": 0,\n",
      "    \"bisc_mon_align_nibble14\": 0,\n",
      "    \"rdvref_vref_final_nibble06\": 0,\n",
      "    \"f0_wrdqdbi_deskew_dq_odly_bit42\": 136,\n",
      "    \"f0_wrdqdbi_left_margin_byte2\": 79,\n",
      "    \"f0_wrdqdbi_odly_dq_final_bit60\": 70,\n",
      "    \"f0_rdcmplx_pqtr_left_short_nibble05\": 22,\n",
      "    \"f1_wrdqdbi_stg2_dq_odly_bit56\": 0,\n",
      "    \"phy_rden10_dly\": 22,\n",
      "    \"f0_wr_simp_lm_byte_04\": [\n",
      "        70,\n",
      "        143\n",
      "    ],\n",
      "    \"f0_wrdqdbi_stg4_dqs_delay_byte3\": 14,\n",
      "    \"iobmap_dq_51_50\": 0,\n",
      "    \"f1_wrdqdbi_deskew_dq_odly_bit56\": 0,\n",
      "    \"f0_wrdqdbi_deskew_dbi_odly_byte7\": 136,\n",
      "    \"f0_wrdqdbi_odly_dq_final_bit33\": 22,\n",
      "    \"f1_rdcmplx_nqtr_left_nibble14\": 0,\n",
      "    \"cal_stage_time_27\": 0,\n",
      "    \"f0_rddq_idelay_final_bit25\": 77,\n",
      "    \"rdvref_right_vref_low_bound_nibble15\": 0,\n",
      "    \"f0_wrdqdbi_deskew_dq_odly_bit12\": 137,\n",
      "    \"f1_rdcmplx_pqtr_right_short_fcrse_nibble00\": 0,\n",
      "    \"0x3d_READ_DQS_TRACK\": \"Pass\",\n",
      "    \"wrvref_right_vref_final_rank0_byte2\": 0,\n",
      "    \"f1_rdcmplx_nqtr_final_nibble06\": 0,\n",
      "    \"bisc_mon_align_nibble11\": 0,\n",
      "    \"f1_rddq_pqtr_final_nibble12\": 0,\n",
      "    \"cal_error_bit_phy_nibble_25\": 0,\n",
      "    \"cal_stage_time_33\": 0,\n",
      "    \"cal_warning_28\": 0,\n",
      "    \"f1_wrlvl_offset_rank0_byte1\": 0,\n",
      "    \"vttrack_rldlyqtr_max_nibble07\": 81,\n",
      "    \"f0_rd_simp_fall_lm_nib_02\": [\n",
      "        68,\n",
      "        137\n",
      "    ],\n",
      "    \"rdmargin_nqtr_right_nibble14\": 0,\n",
      "    \"iobmap_dq_15_14\": 0,\n",
      "    \"rdmargin_nqtr_right_nibble01\": 0,\n",
      "    \"f0_wrdqdbi_stg5_dqs_odly_byte2\": 35,\n",
      "    \"f0_rdcmplx_nqtr_right_short_nibble11\": 170,\n",
      "    \"f0_wrdqdbi_stg4_dqs_delay_byte4\": 14,\n",
      "    \"f1_dqsgate_stg1_overflow_51\": 0,\n",
      "    \"f1_wrdqdbi_stg3_dq_odly_bit18\": 0,\n",
      "    \"f0_wrdqdbi_deskew_dq_odly_fcrse_bit52\": 114,\n",
      "    \"f1_dqsgate_stg2_rldlyrnk_crse_rank0_byte7\": 0,\n",
      "    \"cal_warning_73\": 0,\n",
      "    \"wrmargin_left_byte0\": 0,\n",
      "    \"rdvref_right_vref_upp_bound_nibble09\": 0,\n",
      "    \"f1_rddq_pqtr_right_nibble05\": 0,\n",
      "    \"cal_warning_38\": 0,\n",
      "    \"f0_rd_simp_fall_lm_nib_00\": [\n",
      "        74,\n",
      "        152\n",
      "    ],\n",
      "    \"f1_rdcmplx_pqtr_final_nibble11\": 0,\n",
      "    \"ddrmc_isr_nsu_3\": 0,\n",
      "    \"f1_rddq_pqtr_right_fcrse_nibble08\": 0,\n",
      "    \"f1_wrlvl_fine_final_rank0_byte4\": 0,\n",
      "    \"f1_wrdqdbi_stg2_dq_odly_bit44\": 0,\n",
      "    \"f0_wrdqdbi_stg2_dq_odly_bit33\": 29,\n",
      "    \"dqstrack_rldlyrnk_crse_byte2\": 5,\n",
      "    \"bisc_idly1_align_nibble06\": 67,\n",
      "    \"f0_rdcmplx_nqtr_right_nibble02\": 143,\n",
      "    \"f0_wrdqdbi_odly_dq_final_bit61\": 80,\n",
      "    \"rdvref_right_vref_low_bound_nibble10\": 0,\n",
      "    \"rdvref_vref_low_bound_nibble03\": 0,\n",
      "    \"f1_wrdqdbi_left_edge_dq_bit40\": 0,\n",
      "    \"f0_rd_simp_fall_rm_nib_05\": [\n",
      "        70,\n",
      "        147\n",
      "    ],\n",
      "    \"f1_rdcmplx_pqtr_left_short_nibble04\": 0,\n",
      "    \"f1_wrdqdbi_stg5_dqs_odly_byte3\": 0,\n",
      "    \"f0_wrdqdbi_odly_dq_final_bit21\": 23,\n",
      "    \"f1_wrdqdbi_stg2_dq_odly_bit10\": 0,\n",
      "    \"wrvref_right_vref_final_rank0_byte0\": 0,\n",
      "    \"cal_seq_status_35\": 306,\n",
      "    \"f1_rddq_nqtr_final_nibble15\": 0,\n",
      "    \"f1_wrcmplx_odly_dq_final_bit09\": 0,\n",
      "    \"f1_rdcmplx_nqtr_right_short_nibble14\": 0,\n",
      "    \"f1_rdprbs_nqtr_right_margin_nibble08\": 0,\n",
      "    \"f0_rdcmplx_pqtr_right_short_nibble02\": 169,\n",
      "    \"f0_rdprbs_pqtr_right_margin_nibble00\": 0,\n",
      "    \"cal_stage_time_61\": 0,\n",
      "    \"f0_wr_comp_lm_byte_07\": [\n",
      "        67,\n",
      "        138\n",
      "    ],\n",
      "    \"ddrmc_isr_ce1_ecc0\": 0,\n",
      "    \"f1_rdcmplx_nqtr_right_short_nibble01\": 0,\n",
      "    \"f1_rdprbs_pqtr_right_margin_nibble03\": 0,\n",
      "    \"f1_wrcmplx_left_margin_byte7\": 0,\n",
      "    \"rdvref_left_vref_final_nibble11\": 0,\n",
      "    \"cal_warning_41\": 0,\n",
      "    \"f1_wrdqdbi_deskew_dq_odly_fcrse_bit20\": 0,\n",
      "    \"f0_dqsgate_stg1_overflow_18\": 0,\n",
      "    \"f0_rdcmplx_nqtr_right_short_fcrse_nibble05\": 169,\n",
      "    \"f0_wrdqdbi_deskew_dq_odly_bit53\": 130,\n",
      "    \"f1_wrdqdbi_deskew_dq_odly_bit09\": 0,\n",
      "    \"f1_wrcmplx_left_margin_fcrse_byte1\": 0,\n",
      "    \"rdvref_right_vref_def_nibble13\": 0,\n",
      "    \"f1_wrdqdbi_left_edge_dq_bit00\": 0,\n",
      "    \"rdvref_right_vref_final_nibble11\": 0,\n",
      "    \"f1_wrdqdbi_odly_dq_final_bit61\": 0,\n",
      "    \"f0_rd_simp_fall_lm_nib_01\": [\n",
      "        73,\n",
      "        154\n",
      "    ],\n",
      "    \"ddrmc_isr_ch0_data_par\": 0,\n",
      "    \"f0_rdcmplx_nqtr_right_short_nibble08\": 167,\n",
      "    \"vttrack_rldlyqtr_max_nibble11\": 80,\n",
      "    \"wrvref_right_vref_def_rank0_byte2\": 0,\n",
      "    \"f1_rddq_idelay_final_bit55\": 0,\n",
      "    \"f1_rddq_idelay_final_bit08\": 0,\n",
      "    \"f0_dqsgate_stg2_rldlyrnk_crse_rank0_byte4\": 1,\n",
      "    \"f1_calbisc_rl_dly_nqtr_nibble04\": 0,\n",
      "    \"f1_rddq_pqtr_final_nibble15\": 0,\n",
      "    \"f1_wrcmplx_odly_dq_final_bit58\": 0,\n",
      "    \"f1_wrcmplx_left_margin_byte2\": 0,\n",
      "    \"f0_rd_comp_rise_rm_nib_07\": [\n",
      "        62,\n",
      "        127\n",
      "    ],\n",
      "    \"f0_rddq_nqtr_right_nibble10\": 168,\n",
      "    \"bisc_idly1_align_nibble10\": 73,\n",
      "    \"cal_stage_time_28\": 0,\n",
      "    \"f0_wrdqdbi_right_edge_dqs_byte3\": 165,\n",
      "    \"f0_wrdqdbi_left_edge_dq_bit30\": 84,\n",
      "    \"f0_wrdqdbi_deskew_dq_odly_fcrse_bit22\": 99,\n",
      "    \"nsu0_perf_filter_en_1\": 0,\n",
      "    \"f1_mr6_8_0\": 0,\n",
      "    \"f1_wrdqdbi_left_edge_dq_bit12\": 0,\n",
      "    \"cal_seq_status_04\": 262,\n",
      "    \"f0_rd_comp_fall_rm_nib_15\": [\n",
      "        61,\n",
      "        127\n",
      "    ],\n",
      "    \"rdvref_vref_final_nibble00\": 0,\n",
      "    \"vttrack_rldlyqtr_nibble12\": 76,\n",
      "    \"f1_wrdqdbi_deskew_dq_odly_bit19\": 0,\n",
      "    \"f0_wrdqdbi_stg2_dqs_odly_byte6\": 60,\n",
      "    \"f1_wrdqdbi_stg3_dq_odly_bit21\": 0,\n",
      "    \"rdvref_right_vref_final_nibble02\": 0,\n",
      "    \"f1_wrdqdbi_right_edge_dqs_byte5\": 0,\n",
      "    \"rdvref_vref_low_bound_nibble08\": 0,\n",
      "    \"f0_wrdqdbi_deskew_dq_odly_fcrse_bit38\": 109,\n",
      "    \"wrvref_right_vref_def_rank0_byte7\": 0,\n",
      "    \"f1_wrcmplx_odly_dq_final_bit22\": 0,\n",
      "    \"mc_index\": \"0\",\n",
      "    \"cal_stage_time_23\": 0,\n",
      "    \"f0_wr_simp_ctp_byte_02\": [\n",
      "        35,\n",
      "        72\n",
      "    ],\n",
      "    \"bisc_idly0_align_nibble12\": 67,\n",
      "    \"f0_wrdqdbi_deskew_dq_odly_bit51\": 114,\n",
      "    \"f1_rdcmplx_pqtr_right_nibble02\": 0,\n",
      "    \"f0_wrdqdbi_stg3_dq_odly_bit13\": 62,\n",
      "    \"bisc_mon_align_nibble12\": 0,\n",
      "    \"f1_rdcmplx_nqtr_right_short_nibble10\": 0,\n",
      "    \"f0_rddq_qtr_deskew_nibble08\": 1,\n",
      "    \"wrvref_right_vref_def_rank0_byte4\": 0,\n",
      "    \"f0_rdprbs_pqtr_left_margin_nibble05\": 0,\n",
      "    \"nsu2_perf_mon_0_1\": 0,\n",
      "    \"bisc_pqtr_nibble09\": 77,\n",
      "    \"f0_rd_simp_fall_rm_nib_08\": [\n",
      "        71,\n",
      "        145\n",
      "    ],\n",
      "    \"0x0c_F0_WRITE_LEVELING\": \"Pass\",\n",
      "    \"f1_rdcmplx_nqtr_left_nibble12\": 0,\n",
      "    \"f0_rd_comp_rise_rm_nib_12\": [\n",
      "        66,\n",
      "        137\n",
      "    ],\n",
      "    \"f1_rdcmplx_nqtr_right_nibble07\": 0,\n",
      "    \"f1_mr0_17_9\": 0,\n",
      "    \"f0_wrcmplx_left_margin_byte3\": 71,\n",
      "    \"f1_dqsgate_stg1_overflow_12\": 0,\n",
      "    \"0x0e_F0_WRITE_LATENCY_CAL\": \"Pass\",\n",
      "    \"f0_wrcmplx_odly_dq_final_bit38\": 48,\n",
      "    \"f0_wrdqdbi_deskew_dq_odly_fcrse_bit61\": 149,\n",
      "    \"f1_wrcmplx_right_margin_fcrse_byte7\": 0,\n",
      "    \"f0_wrdqdbi_stg2_dqs_odly_byte7\": 75,\n",
      "    \"cal_warning_08\": 0,\n",
      "    \"rdvref_vref_low_bound_nibble05\": 0,\n",
      "    \"f0_rd_simp_rise_rm_nib_11\": [\n",
      "        76,\n",
      "        158\n",
      "    ],\n",
      "    \"f1_wrdqdbi_deskew_dq_odly_bit36\": 0,\n",
      "    \"f1_add_cmd_dly\": 0,\n",
      "    \"f1_rdcmplx_nqtr_left_nibble02\": 0,\n",
      "    \"f1_dqsgate_stg1_overflow_28\": 0,\n",
      "    \"vttrack_rldlyqtr_nibble00\": 77,\n",
      "    \"rdvref_right_vref_def_nibble05\": 0,\n",
      "    \"f0_rdcmplx_pqtr_left_short_nibble11\": 28,\n",
      "    \"f0_rddq_qtr_deskew_nibble03\": 1,\n",
      "    \"f0_rddq_pqtr_right_fcrse_nibble01\": 162,\n",
      "    \"nsu1_perf_mon_0_0\": 0,\n",
      "    \"f1_dqsgate_stg1_overflow_13\": 0,\n",
      "    \"f1_wrdqdbi_stg2_dq_odly_bit29\": 0,\n",
      "    \"f0_dqsgate_stg1_rldlyrnk_crse_rank0_byte3\": 10,\n",
      "    \"bisc_idly0_align_nibble08\": 67,\n",
      "    \"rdvref_vref_low_bound_nibble01\": 0,\n",
      "    \"f1_dqsgate_stg1_overflow_47\": 0,\n",
      "    \"rdvref_vref_upp_bound_nibble15\": 0,\n",
      "    \"f1_wrlvl_offset_rank0_byte0\": 0,\n",
      "    \"rdvref_right_vref_final_nibble15\": 0,\n",
      "    \"f1_wrdqdbi_stg3_dq_odly_bit08\": 0,\n",
      "    \"f1_rdcmplx_pqtr_right_nibble06\": 0,\n",
      "    \"ddrmc_isr_na_cmd0\": 0,\n",
      "    \"f1_rdcmplx_pqtr_right_short_fcrse_nibble01\": 0,\n",
      "    \"f1_rdcmplx_nqtr_right_short_nibble15\": 0,\n",
      "    \"nsu2_perf_mon_1_1\": 0,\n",
      "    \"f0_wrdqdbi_deskew_dq_odly_bit17\": 90,\n",
      "    \"f0_wrdqdbi_odly_dbi_final_byte7\": 67,\n",
      "    \"cal_seq_status_08\": 394,\n",
      "    \"f1_wrdqdbi_left_edge_dq_bit14\": 0,\n",
      "    \"f1_dqsgate_stg1_overflow_62\": 0,\n",
      "    \"f1_rdcmplx_pqtr_left_nibble03\": 0,\n",
      "    \"f0_rddq_pqtr_final_nibble02\": 91,\n",
      "    \"f0_wr_comp_rm_byte_07\": [\n",
      "        65,\n",
      "        134\n",
      "    ],\n",
      "    \"f1_wrdqdbi_odly_dq_final_bit21\": 0,\n",
      "    \"f0_wrdqdbi_deskew_dbi_odly_byte1\": 141,\n",
      "    \"f1_wrdqdbi_stg3_dq_odly_bit46\": 0,\n",
      "    \"wrvref_vref_upp_bound_rank0_byte1\": 0,\n",
      "    \"f1_wrdqdbi_stg2_dq_odly_bit05\": 0,\n",
      "    \"phy_oe_nib1_dly\": 1,\n",
      "    \"dqs_track_en\": 1,\n",
      "    \"bisc_pqtr_align_nibble10\": 0,\n",
      "    \"f0_dqsgate_stg1_overflow_20\": 0,\n",
      "    \"f1_wrdqdbi_deskew_dq_odly_bit30\": 0,\n",
      "    \"f1_wrdqdbi_odly_dq_final_bit06\": 0,\n",
      "    \"f1_calbisc_rl_dly_qtr_nibble14\": 0,\n",
      "    \"f1_wrdqdbi_stg3_dq_odly_bit59\": 0,\n",
      "    \"f0_wrlvl_noise_fcrse_rank0_byte1\": 65,\n",
      "    \"f0_wrdqdbi_odly_dbi_final_byte0\": 56,\n",
      "    \"f1_wrprbs_right_margin_byte5\": 0,\n",
      "    \"wrvref_left_vref_final_rank0_byte7\": 0,\n",
      "    \"dqstrack_rldlyrnk_crse_byte3\": 2,\n",
      "    \"f1_calbisc_rl_dly_pqtr_nibble05\": 0,\n",
      "    \"f1_rddq_pqtr_final_nibble02\": 0,\n",
      "    \"f0_wrcmplx_left_margin_fcrse_byte6\": 60,\n",
      "    \"f1_wrdqdbi_deskew_dbi_odly_fcrse_byte1\": 0,\n",
      "    \"rdvref_left_vref_upp_bound_nibble13\": 0,\n",
      "    \"f1_rddq_nqtr_final_nibble06\": 0,\n",
      "    \"f1_rdcmplx_pqtr_final_nibble06\": 0,\n",
      "    \"f1_rddq_pqtr_right_nibble13\": 0,\n",
      "    \"f1_wrlat_phy_oe_nib_final_byte5\": 0,\n",
      "    \"rdvref_vref_upp_bound_nibble07\": 0,\n",
      "    \"f0_dqsgate_stg1_rldlyrnk_crse_rank0_byte4\": 13,\n",
      "    \"f1_dqsgate_rldlyrnk_crse_final_rank0_byte5\": 0,\n",
      "    \"rdvref_right_vref_final_nibble13\": 0,\n",
      "    \"f1_rddq_nqtr_final_nibble11\": 0,\n",
      "    \"f1_wrlvl_crse_final_rank0_byte3\": 0,\n",
      "    \"f1_dm_dbi_en\": 1,\n",
      "    \"f0_calbisc_rl_dly_pqtr_nibble01\": 76,\n",
      "    \"cal_warning_03\": 0,\n",
      "    \"f1_rdcmplx_nqtr_right_nibble11\": 0,\n",
      "    \"f0_dm_dbi_en\": 1,\n",
      "    \"f1_rdcmplx_pqtr_right_short_nibble06\": 0,\n",
      "    \"f0_dqsgate_stg1_overflow_13\": 0,\n",
      "    \"f1_wrdqdbi_deskew_dq_odly_fcrse_bit47\": 0,\n",
      "    \"bisc_idly1_align_nibble01\": 76,\n",
      "    \"rdvref_vref_low_bound_nibble11\": 0,\n",
      "    \"phy_oe_nib22_dly\": 0,\n",
      "    \"f1_calbisc_rl_dly_nqtr_nibble11\": 0,\n",
      "    \"f0_rdcmplx_nqtr_right_short_nibble09\": 167,\n",
      "    \"f0_calbisc_rl_dly_nqtr_nibble06\": 77,\n",
      "    \"fifo_rden_dly\": 19,\n",
      "    \"f1_wrprbs_left_margin_byte1\": 0,\n",
      "    \"f0_rdcmplx_nqtr_final_nibble02\": 87,\n",
      "    \"f1_wrdqdbi_deskew_dq_odly_fcrse_bit22\": 0,\n",
      "    \"f1_wrcmplx_odly_dq_final_bit41\": 0,\n",
      "    \"dqstrack_rldlyrnk_crse_byte7\": 5,\n",
      "    \"f0_dqsgate_stg1_overflow_48\": 0,\n",
      "    \"f0_wrdqdbi_stg2_dq_odly_bit27\": 78,\n",
      "    \"f1_wrdqdbi_deskew_dq_odly_bit01\": 0,\n",
      "    \"rdvref_right_vref_low_bound_nibble04\": 0,\n",
      "    \"reg_pinout\": 17,\n",
      "    \"f0_rdcmplx_nqtr_final_nibble09\": 85,\n",
      "    \"cal_error_bit_phy_nibble_22\": 0,\n",
      "    \"f0_rddq_idelay_final_bit14\": 71,\n",
      "    \"f1_wrdqdbi_deskew_dq_odly_fcrse_bit56\": 0,\n",
      "    \"f0_xpll_divclk_ht\": 1,\n",
      "    \"ddrmc_isr_dc_cmd0_fatal\": 0,\n",
      "    \"f1_wrdqdbi_deskew_dq_odly_bit51\": 0,\n",
      "    \"f0_rddq_idelay_final_bit02\": 76,\n",
      "    \"f0_rdprbs_nqtr_right_margin_nibble02\": 0,\n",
      "    \"f1_mr1_17_9\": 0,\n",
      "    \"iobmap_dq_17_16\": 0,\n",
      "    \"rdmargin_nqtr_left_nibble11\": 0,\n",
      "    \"f0_rdcmplx_pqtr_left_short_nibble02\": 22,\n",
      "    \"f1_rdcmplx_nqtr_left_short_nibble14\": 0,\n",
      "    \"f0_wrdqdbi_stg3_dq_odly_bit49\": 44,\n",
      "    \"f0_rd_simp_fall_ctp_nib_06\": [\n",
      "        97,\n",
      "        197\n",
      "    ],\n",
      "    \"dram_size\": 3,\n",
      "    \"bisc_idly2_align_nibble00\": 67,\n",
      "    \"f0_wrdqdbi_deskew_dq_odly_fcrse_bit25\": 148,\n",
      "    \"bisc_en\": 1,\n",
      "    \"f0_dqsgate_stg1_rldlyrnk_crse_rank0_byte0\": 8,\n",
      "    \"f0_wrdqdbi_deskew_dq_odly_bit10\": 120,\n",
      "    \"f0_wrdqdbi_right_edge_dqs_byte5\": 138,\n",
      "    \"dqstrack_rldlyrnk_fine_byte7\": 36,\n",
      "    \"f1_dqsgate_stg1_overflow_15\": 0,\n",
      "    \"f1_rddq_nqtr_final_nibble09\": 0,\n",
      "    \"f1_wrdqdbi_stg3_dq_odly_bit52\": 0,\n",
      "    \"f1_wrcmplx_odly_dq_final_bit43\": 0,\n",
      "    \"f0_mr5_17_9\": 2,\n",
      "    \"cal_warning_29\": 0,\n",
      "    \"f0_wrdqdbi_stg4_dqs_delay_byte2\": 14,\n",
      "    \"f0_rdcmplx_nqtr_final_nibble12\": 84,\n",
      "    \"f0_rd_comp_fall_rm_nib_11\": [\n",
      "        59,\n",
      "        121\n",
      "    ],\n",
      "    \"cal_seq_status_15\": 401,\n",
      "    \"f0_wrdqdbi_right_margin_fcrse_byte2\": 60,\n",
      "    \"f1_rdcmplx_idelay_offset_nibble15\": 0,\n",
      "    \"ddrmc_isr_dram_parity1\": 0,\n",
      "    \"f0_rd_simp_rise_ctp_nib_15\": [\n",
      "        87,\n",
      "        179\n",
      "    ],\n",
      "    \"cal_warning_53\": 0,\n",
      "    \"f0_rdcmplx_pqtr_left_nibble14\": 26,\n",
      "    \"f0_rdprbs_nqtr_left_margin_nibble06\": 0,\n",
      "    \"mgchk_pattern_config_1\": 0,\n",
      "    \"f0_wrdqdbi_odly_dqs_final_byte1\": 78,\n",
      "    \"dqstrack_rldlyrnk_crse_min_byte1\": 4,\n",
      "    \"f1_wrlat_match_rank0_byte7\": 0,\n",
      "    \"f0_dqsgate_stg1_overflow_03\": 0,\n",
      "    \"f1_wrdqdbi_odly_dq_final_bit28\": 0,\n",
      "    \"f1_rddq_idelay_final_bit09\": 0,\n",
      "    \"f0_wrprbs_left_margin_byte7\": 0,\n",
      "    \"f1_rddq_qtr_deskew_nibble03\": 0,\n",
      "    \"f0_wrdqdbi_stg2_dq_odly_bit12\": 62,\n",
      "    \"f1_wrcmplx_right_margin_fcrse_byte6\": 0,\n",
      "    \"f1_wrdqdbi_stg2_dq_odly_bit24\": 0,\n",
      "    \"f0_wrdqdbi_left_edge_dbi_byte5\": 55,\n",
      "    \"f0_rd_simp_rise_rm_nib_02\": [\n",
      "        74,\n",
      "        146\n",
      "    ],\n",
      "    \"iobmap_dqs_11\": 0,\n",
      "    \"bisc_idly1_align_nibble14\": 68,\n",
      "    \"f0_wrdqdbi_deskew_dq_odly_fcrse_bit39\": 99,\n",
      "    \"phy_rden19_dly\": 22,\n",
      "    \"warning_code_ver\": 1,\n",
      "    \"f1_wrdqdbi_right_edge_dqs_byte1\": 0,\n",
      "    \"f1_wrdqdbi_left_edge_dq_bit29\": 0,\n",
      "    \"f1_wrdqdbi_deskew_dbi_odly_byte2\": 0,\n",
      "    \"f0_rd_simp_rise_rm_nib_00\": [\n",
      "        71,\n",
      "        144\n",
      "    ],\n",
      "    \"f1_rdcmplx_nqtr_final_nibble10\": 0,\n",
      "    \"f0_rd_comp_rise_ctp_nib_01\": [\n",
      "        89,\n",
      "        183\n",
      "    ],\n",
      "    \"f1_rdcmplx_nqtr_right_nibble02\": 0,\n",
      "    \"f0_rdcmplx_pqtr_left_nibble12\": 22,\n",
      "    \"cal_stage_time_14\": 6,\n",
      "    \"f0_rd_simp_fall_lm_nib_09\": [\n",
      "        70,\n",
      "        145\n",
      "    ],\n",
      "    \"phy_rden17_dly\": 22,\n",
      "    \"xpi_wrdata_all_nib_dly\": 16,\n",
      "    \"f0_wrdqdbi_deskew_dq_odly_bit16\": 109,\n",
      "    \"rdvref_right_vref_upp_bound_nibble12\": 0,\n",
      "    \"f1_wrlvl_crse_final_rank0_byte6\": 0,\n",
      "    \"cal_warning_21\": 0,\n",
      "    \"f1_rddq_idelay_final_bit38\": 0,\n",
      "    \"f1_dqsgate_stg1_rldlyrnk_crse_rank0_byte1\": 0,\n",
      "    \"f1_wrdqdbi_stg3_dq_odly_bit57\": 0,\n",
      "    \"rdvref_right_vref_def_nibble12\": 0,\n",
      "    \"f1_mr3_8_0\": 32,\n",
      "    \"phy_rden11_dly\": 22,\n",
      "    \"f0_rd_comp_fall_lm_nib_13\": [\n",
      "        60,\n",
      "        123\n",
      "    ],\n",
      "    \"rdmargin_pqtr_left_nibble01\": 0,\n",
      "    \"vttrack_rldlyqtr_max_nibble06\": 79,\n",
      "    \"f0_wrdqdbi_left_edge_dq_bit58\": 52,\n",
      "    \"iobmap_dq_65_64\": 0,\n",
      "    \"f0_rddq_nqtr_left_nibble02\": 29,\n",
      "    \"f0_wrlat_phy_data_nib_final_byte3\": 1,\n",
      "    \"f0_rddq_nqtr_final_nibble10\": 99,\n",
      "    \"f1_rddq_nqtr_final_nibble12\": 0,\n",
      "    \"f0_wrdqdbi_stg1_dqs_delay_byte2\": 35,\n",
      "    \"f0_wr_simp_lm_byte_01\": [\n",
      "        73,\n",
      "        147\n",
      "    ],\n",
      "    \"ub_ub_msg\": 0,\n",
      "    \"f0_wrdqdbi_deskew_dq_odly_bit44\": 151,\n",
      "    \"f0_rdcmplx_pqtr_right_nibble05\": 148,\n",
      "    \"f1_rdcmplx_pqtr_left_nibble05\": 0,\n",
      "    \"f1_rddq_nqtr_final_nibble00\": 0,\n",
      "    \"rdvref_vref_low_bound_nibble14\": 0,\n",
      "    \"rdvref_left_vref_final_nibble00\": 0,\n",
      "    \"f0_wrlvl_fine_final_rank0_byte5\": 55,\n",
      "    \"f0_wrdqdbi_stg3_dq_odly_bit55\": 44,\n",
      "    \"f1_rdcmplx_pqtr_right_nibble11\": 0,\n",
      "    \"f1_wrdqdbi_stg2_dq_odly_bit02\": 0,\n",
      "    \"f0_rddq_pqtr_left_nibble09\": 17,\n",
      "    \"f0_rddq_pqtr_left_nibble14\": 17,\n",
      "    \"f0_wrdqdbi_stg6_dbi_odly_byte6\": 44,\n",
      "    \"f1_rdcmplx_pqtr_right_short_nibble04\": 0,\n",
      "    \"f1_wrcmplx_right_margin_byte6\": 0,\n",
      "    \"f1_mr0_8_0\": 0,\n",
      "    \"f0_calbisc_rl_dly_qtr_nibble01\": 75,\n",
      "    \"f1_rdcmplx_nqtr_right_nibble10\": 0,\n",
      "    \"nsu0_perf_filter_0_1\": 0,\n",
      "    \"dc0_perf_mon_2\": 0,\n",
      "    \"f1_xpll_clkoutfb_lt\": 16,\n",
      "    \"f0_dqsgate_stg1_overflow_27\": 0,\n",
      "    \"bisc_idly1_align_nibble00\": 70,\n",
      "    \"f0_rddq_pqtr_right_fcrse_nibble05\": 172,\n",
      "    \"rdvref_left_vref_def_nibble12\": 0,\n",
      "    \"f1_wrcmplx_left_margin_byte6\": 0,\n",
      "    \"vttrack_rldlyqtr_min_nibble12\": 73,\n",
      "    \"f0_dqsgate_stg1_overflow_22\": 0,\n",
      "    \"rdvref_left_vref_upp_bound_nibble14\": 0,\n",
      "    \"f1_wrcmplx_odly_dq_final_bit60\": 0,\n",
      "    \"f0_rddq_pqtr_right_nibble03\": 162,\n",
      "    \"bisc_pqtr_align_nibble13\": 0,\n",
      "    \"f1_wrlvl_fine_left_rank0_byte6\": 0,\n",
      "    \"f0_wrdqdbi_stg6_dbi_odly_byte3\": 78,\n",
      "    \"f0_rddq_idelay_final_bit24\": 67,\n",
      "    \"f0_wrdqdbi_odly_dq_final_bit43\": 59,\n",
      "    \"rdvref_right_vref_upp_bound_nibble01\": 0,\n",
      "    \"f0_wrdqdbi_deskew_dq_odly_bit39\": 102,\n",
      "    \"f1_rddq_nqtr_right_nibble10\": 0,\n",
      "    \"f0_rd_simp_rise_ctp_nib_08\": [\n",
      "        90,\n",
      "        183\n",
      "    ],\n",
      "    \"f0_wrdqdbi_deskew_dq_odly_fcrse_bit34\": 99,\n",
      "    \"f1_wrdqdbi_stg1_dqs_delay_byte5\": 0,\n",
      "    \"cal_error_bit_phy_nibble_09\": 0,\n",
      "    \"f0_rddq_nqtr_right_nibble02\": 166,\n",
      "    \"f0_dqsgate_stg1_overflow_46\": 0,\n",
      "    \"f0_wrcmplx_odly_dbi_final_byte3\": 83,\n",
      "    \"f1_wrdqdbi_stg2_dq_odly_bit47\": 0,\n",
      "    \"f1_rdcmplx_pqtr_final_nibble12\": 0,\n",
      "    \"f0_wrcmplx_odly_dq_final_bit40\": 73,\n",
      "    \"f1_rdcmplx_nqtr_right_short_fcrse_nibble10\": 0,\n",
      "    \"f0_wrdqdbi_deskew_dq_odly_bit29\": 158,\n",
      "    \"f0_rdcmplx_pqtr_final_nibble00\": 88,\n",
      "    \"nsu2_perf_mon_1_2\": 0,\n",
      "    \"bisc_rl_dly_qtr_nibble15\": 75,\n",
      "    \"f1_wrdqdbi_stg2_dq_odly_bit61\": 0,\n",
      "    \"f0_wrcmplx_odly_dbi_final_byte5\": 65,\n",
      "    \"rdvref_left_vref_def_nibble08\": 0,\n",
      "    \"f0_wrlvl_crse_final_rank0_byte0\": 2,\n",
      "    \"f0_wr_simp_rm_byte_06\": [\n",
      "        65,\n",
      "        134\n",
      "    ],\n",
      "    \"f0_calbisc_rl_dly_nqtr_nibble13\": 76,\n",
      "    \"f1_rddq_nqtr_left_nibble10\": 0,\n",
      "    \"cal_error_data_nibble_8_0\": 0,\n",
      "    \"dqs_gate_underflow\": 0,\n",
      "    \"f0_dqsgate_stg1_overflow_34\": 0,\n",
      "    \"bisc_idly2_align_nibble02\": 68,\n",
      "    \"f1_wrlvl_noise_fcrse_rank0_byte2\": 0,\n",
      "    \"f0_dqsgate_stg1_overflow_35\": 0,\n",
      "    \"f0_wrdqdbi_stg2_dq_odly_bit52\": 44,\n",
      "    \"f0_wrcmplx_odly_dq_final_bit17\": 24,\n",
      "    \"bisc_idly1_align_nibble08\": 70,\n",
      "    \"f1_calbisc_rl_dly_qtr_nibble10\": 0,\n",
      "    \"f1_wrlvl_fine_right_rank0_byte7\": 0,\n",
      "    \"f1_wrlat_phy_oe_nib_final_byte2\": 0,\n",
      "    \"cal_stage.12_CAL_DONE\": \"Pass\",\n",
      "    \"f1_wrdqdbi_left_edge_dq_bit04\": 0,\n",
      "    \"f0_dqsgate_stg1_rldlyrnk_crse_rank0_byte7\": 5,\n",
      "    \"f0_dqsgate_stg2_rldlyrnk_crse_rank0_byte7\": 1,\n",
      "    \"f1_rdcmplx_nqtr_left_short_nibble10\": 0,\n",
      "    \"f0_wrdqdbi_deskew_dq_odly_bit04\": 129,\n",
      "    \"f1_wrdqdbi_deskew_dq_odly_bit42\": 0,\n",
      "    \"f0_wrdqdbi_stg3_dq_odly_bit36\": 29,\n",
      "    \"f1_wrcmplx_odly_dq_final_bit01\": 0,\n",
      "    \"f0_rdcmplx_pqtr_right_nibble14\": 153,\n",
      "    \"f0_rdprbs_nqtr_left_margin_nibble01\": 0,\n",
      "    \"f1_wrdqdbi_right_margin_byte0\": 0,\n",
      "    \"f1_wrdqdbi_stg3_dq_odly_bit04\": 0,\n",
      "    \"cal_seq_status_45\": 0,\n",
      "    \"f1_mr4_17_9\": 0,\n",
      "    \"f0_wrdqdbi_deskew_dq_odly_bit37\": 96,\n",
      "    \"f0_rddq_pqtr_right_nibble07\": 167,\n",
      "    \"f0_rdcmplx_pqtr_final_nibble07\": 85,\n",
      "    \"wrvref_left_vref_upp_bound_rank0_byte4\": 0,\n",
      "    \"bisc_pqtr_nibble13\": 76,\n",
      "    \"cal_stage_time_17\": 130,\n",
      "    \"f1_dqsgate_stg2_rldlyrnk_crse_rank0_byte6\": 0,\n",
      "    \"f1_rdcmplx_pqtr_right_short_fcrse_nibble14\": 0,\n",
      "    \"f1_rdcmplx_pqtr_final_nibble04\": 0,\n",
      "    \"cal_warning_62\": 0,\n",
      "    \"phy_ranks\": 1,\n",
      "    \"f1_wrdqdbi_deskew_dq_odly_bit57\": 0,\n",
      "    \"f0_rddq_idelay_final_bit36\": 76,\n",
      "    \"f0_wrprbs_right_margin_byte0\": 0,\n",
      "    \"f1_rdcmplx_nqtr_right_short_fcrse_nibble07\": 0,\n",
      "    \"f0_wrlat_xpi_wrdata_all_final\": 16,\n",
      "    \"f1_rdcmplx_pqtr_left_short_nibble02\": 0,\n",
      "    \"f1_wrcmplx_odly_dq_final_bit14\": 0,\n",
      "    \"f0_rddq_nqtr_final_nibble15\": 96,\n",
      "    \"f1_rddq_idelay_final_bit01\": 0,\n",
      "    \"f0_wrdqdbi_stg2_dq_odly_bit59\": 59,\n",
      "    \"f1_wrdqdbi_deskew_dq_odly_bit10\": 0,\n",
      "    \"f1_wrcmplx_odly_dq_final_bit12\": 0,\n",
      "    \"f0_wrdqdbi_stg3_dq_odly_bit58\": 59,\n",
      "    \"f1_wrlvl_noise_fcrse_rank0_byte3\": 0,\n",
      "    \"f0_wr_simp_ctp_byte_01\": [\n",
      "        310,\n",
      "        626\n",
      "    ],\n",
      "    \"f0_rddq_nqtr_left_nibble04\": 31,\n",
      "    \"f1_wrdqdbi_stg3_dq_odly_bit63\": 0,\n",
      "    \"cal_error_bit_phy_nibble_02\": 0,\n",
      "    \"f0_wrdqdbi_stg3_dq_odly_bit42\": 55,\n",
      "    \"f1_rddq_nqtr_final_nibble07\": 0,\n",
      "    \"f1_wrdqdbi_deskew_dq_odly_bit11\": 0,\n",
      "    \"f1_rdcmplx_pqtr_left_short_nibble05\": 0,\n",
      "    \"f1_wrdqdbi_stg3_dq_odly_bit23\": 0,\n",
      "    \"f0_rd_comp_rise_ctp_nib_13\": [\n",
      "        86,\n",
      "        177\n",
      "    ],\n",
      "    \"f1_wrdqdbi_odly_dq_final_bit53\": 0,\n",
      "    \"f0_wrcmplx_right_margin_fcrse_byte3\": 60,\n",
      "    \"f0_wrcmplx_odly_dq_final_bit20\": 34,\n",
      "    \"f0_wrlat_match_rank0_byte1\": 16,\n",
      "    \"cal_stage_time_30\": 0,\n",
      "    \"f0_rdprbs_nqtr_right_margin_nibble03\": 0,\n",
      "    \"f1_wrdqdbi_deskew_dq_odly_fcrse_bit21\": 0,\n",
      "    \"f0_wrdqdbi_deskew_dq_odly_fcrse_bit14\": 132,\n",
      "    \"f1_wrdqdbi_deskew_dq_odly_bit17\": 0,\n",
      "    \"f1_rdcmplx_nqtr_left_nibble15\": 0,\n",
      "    \"f1_wrdqdbi_left_edge_dq_bit60\": 0,\n",
      "    \"f0_rcd_rc3x\": 0,\n",
      "    \"nsu1_perf_mon_ctl_0_0\": 0,\n",
      "    \"f0_wrdqdbi_deskew_dq_odly_bit62\": 151,\n",
      "    \"f0_wrdqdbi_odly_dq_final_bit20\": 29,\n",
      "    \"f0_rd_comp_rise_ctp_nib_10\": [\n",
      "        91,\n",
      "        187\n",
      "    ],\n",
      "    \"rdmargin_pqtr_right_nibble02\": 0,\n",
      "    \"vttrack_rldlyqtr_nibble15\": 77,\n",
      "    \"f0_rddq_nqtr_left_nibble14\": 28,\n",
      "    \"f1_wrcmplx_odly_dq_final_bit03\": 0,\n",
      "    \"f0_wrdqdbi_deskew_dbi_odly_byte0\": 131,\n",
      "    \"f0_wrdqdbi_stg2_dq_odly_bit16\": 19,\n",
      "    \"f1_wrdqdbi_odly_dq_final_bit40\": 0,\n",
      "    \"f1_wrlvl_fine_final_rank0_byte7\": 0,\n",
      "    \"cal_stage_time_21\": 0,\n",
      "    \"cal_stage_time_63\": 0,\n",
      "    \"f1_wrdqdbi_left_edge_dbi_byte3\": 0,\n",
      "    \"f0_rd_comp_rise_lm_nib_12\": [\n",
      "        65,\n",
      "        135\n",
      "    ],\n",
      "    \"f1_wrdqdbi_left_edge_dq_bit10\": 0,\n",
      "    \"f1_wrdqdbi_deskew_dq_odly_fcrse_bit57\": 0,\n",
      "    \"f0_rd_comp_fall_ctp_nib_02\": [\n",
      "        87,\n",
      "        177\n",
      "    ],\n",
      "    \"cal_stage_time_41\": 0,\n",
      "    \"f1_wrdqdbi_deskew_dq_odly_fcrse_bit00\": 0,\n",
      "    \"sys_clk_8_0\": 392,\n",
      "    \"f1_rddq_idelay_final_bit02\": 0,\n",
      "    \"f1_rdcmplx_pqtr_left_nibble01\": 0,\n",
      "    \"f1_wrcmplx_odly_dq_final_bit55\": 0,\n",
      "    \"rdvref_left_vref_upp_bound_nibble15\": 0,\n",
      "    \"dc0_perf_mon_8\": 0,\n",
      "    \"vttrack_rldlyqtr_nibble04\": 76,\n",
      "    \"nsu1_perf_mon_0_2\": 0,\n",
      "    \"f1_wrlat_phy_data_nib_final_byte4\": 0,\n",
      "    \"f0_wrdqdbi_right_edge_dqs_byte4\": 115,\n",
      "    \"f0_rddq_idelay_final_bit60\": 81,\n",
      "    \"f0_wr_simp_ctp_byte_00\": [\n",
      "        218,\n",
      "        451\n",
      "    ],\n",
      "    \"f0_wrdqdbi_right_margin_byte1\": 70,\n",
      "    \"f1_wrdqdbi_left_edge_dq_bit52\": 0,\n",
      "    \"f1_wrcmplx_left_margin_fcrse_byte4\": 0,\n",
      "    \"f1_wrdqdbi_odly_dqs_final_byte6\": 0,\n",
      "    \"f1_rdcmplx_pqtr_right_short_nibble09\": 0,\n",
      "    \"f0_calbisc_rl_dly_pqtr_nibble08\": 77,\n",
      "    \"f0_calbisc_rl_dly_nqtr_nibble03\": 77,\n",
      "    \"f1_rddq_nqtr_left_nibble07\": 0,\n",
      "    \"cal_warning_54\": 0,\n",
      "    \"f0_rd_simp_fall_ctp_nib_03\": [\n",
      "        93,\n",
      "        189\n",
      "    ],\n",
      "    \"f0_rd_comp_fall_ctp_nib_04\": [\n",
      "        91,\n",
      "        182\n",
      "    ],\n",
      "    \"f1_wrdqdbi_odly_dq_final_bit01\": 0,\n",
      "    \"f1_rddq_idelay_final_bit60\": 0,\n",
      "    \"f0_wrdqdbi_stg4_byte_status_00\": 511,\n",
      "    \"f0_dqsgate_stg1_rldlyrnk_fine_rank0_byte7\": 34,\n",
      "    \"f0_rddq_idelay_final_bit12\": 74,\n",
      "    \"f0_rddq_idelay_final_bit30\": 77,\n",
      "    \"f0_rdcmplx_nqtr_right_short_fcrse_nibble01\": 171,\n",
      "    \"nsu0_perf_mon_1_0\": 0,\n",
      "    \"f1_rdprbs_nqtr_left_margin_nibble07\": 0,\n",
      "    \"f0_rdcmplx_nqtr_left_nibble00\": 25,\n",
      "    \"rdvref_left_vref_def_nibble09\": 0,\n",
      "    \"dqs_status\": \"Running\",\n",
      "    \"f0_rddq_idelay_final_bit56\": 81,\n",
      "    \"f0_wrdqdbi_stg1_bit_status_byte3\": 0,\n",
      "    \"cal_time_17_9\": 1,\n",
      "    \"vttrack_rldlyqtr_nibble13\": 76,\n",
      "    \"f0_wrdqdbi_stg2_dqs_odly_byte5\": 71,\n",
      "    \"rdmargin_pqtr_right_nibble07\": 0,\n",
      "    \"f0_rddq_nqtr_final_nibble14\": 98,\n",
      "    \"f1_dqsgate_stg1_overflow_16\": 0,\n",
      "    \"f0_dqsgate_read_lat_final_byte3\": 26,\n",
      "    \"f0_rddq_pqtr_right_nibble13\": 167,\n",
      "    \"iobmap_dqs_9\": 0,\n",
      "    \"f1_rddq_qtr_deskew_nibble09\": 0,\n",
      "    \"f1_wrlvl_fine_left_rank0_byte0\": 0,\n",
      "    \"f1_wrdqdbi_right_margin_fcrse_byte7\": 0,\n",
      "    \"f1_wrlvl_crse_final_rank0_byte2\": 0,\n",
      "    \"f1_wrdqdbi_deskew_dq_odly_fcrse_bit55\": 0,\n",
      "    \"f1_rdcmplx_nqtr_right_short_fcrse_nibble11\": 0,\n",
      "    \"f0_rddq_nqtr_right_fcrse_nibble00\": 178,\n",
      "    \"f0_wrdqdbi_deskew_dq_odly_bit32\": 102,\n",
      "    \"iobmap_dqs_7\": 0,\n",
      "    \"dqstrack_rldlyrnk_fine_byte6\": 73,\n",
      "    \"f0_wrdqdbi_deskew_dbi_odly_fcrse_byte6\": 114,\n",
      "    \"rdvref_left_vref_upp_bound_nibble12\": 0,\n",
      "    \"bisc_pqtr_nibble02\": 79,\n",
      "    \"f0_wrlvl_offset_rank0_byte7\": 78,\n",
      "    \"f0_wrdqdbi_left_edge_dq_bit12\": 64,\n",
      "    \"f1_calbisc_rl_dly_qtr_nibble12\": 0,\n",
      "    \"f0_rddq_nqtr_final_nibble04\": 101,\n",
      "    \"rdvref_left_vref_def_nibble03\": 0,\n",
      "    \"f0_rddq_idelay_final_bit07\": 82,\n",
      "    \"f0_wrprbs_left_margin_byte4\": 0,\n",
      "    \"f0_calbisc_rl_dly_pqtr_nibble09\": 77,\n",
      "    \"f1_rddq_nqtr_left_nibble12\": 0,\n",
      "    \"f1_wrdqdbi_stg3_dq_odly_bit17\": 0,\n",
      "    \"f0_wrdqdbi_odly_dq_final_bit27\": 88,\n",
      "    \"f0_rd_comp_rise_rm_nib_02\": [\n",
      "        63,\n",
      "        124\n",
      "    ],\n",
      "    \"f0_wrdqdbi_deskew_dq_odly_fcrse_bit40\": 135,\n",
      "    \"f0_wrdqdbi_odly_dqs_final_byte6\": 60,\n",
      "    \"f0_wrcmplx_odly_dq_final_bit52\": 53,\n",
      "    \"wrvref_right_vref_low_bound_rank0_byte2\": 0,\n",
      "    \"cal_stage_time_56\": 0,\n",
      "    \"f0_dqsgate_stg1_overflow_06\": 0,\n",
      "    \"ub_isntr_ue\": 0,\n",
      "    \"f0_wrdqdbi_deskew_dq_odly_fcrse_bit45\": 125,\n",
      "    \"f0_wrprbs_right_margin_byte3\": 0,\n",
      "    \"f1_wrlat_phy_oe_nib_final_byte6\": 0,\n",
      "    \"cal_stage_time_00\": 7,\n",
      "    \"f0_rdcmplx_nqtr_right_nibble06\": 143,\n",
      "    \"f0_wrlvl_fine_left_rank0_byte4\": 28,\n",
      "    \"f1_dqsgate_stg1_overflow_29\": 0,\n",
      "    \"f1_wrcmplx_right_margin_byte3\": 0,\n",
      "    \"f0_rddq_idelay_final_bit13\": 75,\n",
      "    \"f0_wrlat_match_rank0_byte5\": 17,\n",
      "    \"f0_rddq_pqtr_left_nibble05\": 17,\n",
      "    \"f1_wrdqdbi_deskew_dq_odly_bit14\": 0,\n",
      "    \"f0_rd_comp_fall_ctp_nib_06\": [\n",
      "        85,\n",
      "        172\n",
      "    ],\n",
      "    \"reg_safe_config5\": 68161558,\n",
      "    \"wrmargin_right_byte7\": 0,\n",
      "    \"f0_wrcmplx_left_margin_byte6\": 68,\n",
      "    \"f0_calbisc_rl_dly_pqtr_nibble10\": 76,\n",
      "    \"f0_rdcmplx_nqtr_final_nibble11\": 88,\n",
      "    \"f1_calbisc_rl_dly_qtr_nibble02\": 0,\n",
      "    \"iobmap_dq_67_66\": 0,\n",
      "    \"nsu3_perf_mon_0_0\": 0,\n",
      "    \"f1_wrcmplx_left_margin_fcrse_byte2\": 0,\n",
      "    \"0x3c_EN_VT_TRACK\": \"Pass\",\n",
      "    \"f0_rdcmplx_pqtr_right_short_fcrse_nibble08\": 169,\n",
      "    \"bisc_rl_dly_qtr_nibble01\": 75,\n",
      "    \"f1_rdprbs_pqtr_left_margin_nibble04\": 0,\n",
      "    \"wrvref_left_vref_def_rank0_byte7\": 0,\n",
      "    \"f0_wr_comp_rm_byte_04\": [\n",
      "        60,\n",
      "        123\n",
      "    ],\n",
      "    \"f0_rddq_idelay_final_bit54\": 80,\n",
      "    \"f0_wrdqdbi_stg2_dq_odly_bit47\": 55,\n",
      "    \"f0_wrdqdbi_left_margin_byte5\": 79,\n",
      "    \"f0_wr_comp_rm_byte_03\": [\n",
      "        60,\n",
      "        122\n",
      "    ],\n",
      "    \"f1_wrcmplx_odly_dq_final_bit26\": 0,\n",
      "    \"f0_wrcmplx_right_margin_byte6\": 59,\n",
      "    \"f1_wrdqdbi_deskew_dq_odly_bit45\": 0,\n",
      "    \"f1_wrlat_wldlyrnk_crse_final_rank0_byte0\": 0,\n",
      "    \"f0_rddq_nqtr_right_fcrse_nibble13\": 180,\n",
      "    \"f0_wrlat_phy_oe_nib_final_byte0\": 0,\n",
      "    \"cal_warning_04\": 0,\n",
      "    \"f0_wrdqdbi_right_margin_byte3\": 71,\n",
      "    \"f0_wrdqdbi_stg2_dq_odly_bit48\": 44,\n",
      "    \"reg_map_ver\": 5,\n",
      "    \"f0_rdprbs_nqtr_right_margin_nibble10\": 0,\n",
      "    \"f0_wrcmplx_odly_dq_final_bit08\": 66,\n",
      "    \"f0_rd_simp_rise_rm_nib_03\": [\n",
      "        73,\n",
      "        148\n",
      "    ],\n",
      "    \"f0_rd_comp_rise_ctp_nib_15\": [\n",
      "        87,\n",
      "        179\n",
      "    ],\n",
      "    \"vttrack_rldlyqtr_min_nibble11\": 73,\n",
      "    \"f0_wrdqdbi_deskew_dq_odly_bit46\": 141,\n",
      "    \"phy_oe_nib24_dly\": 0,\n",
      "    \"f0_wrdqdbi_left_edge_dq_bit54\": 45,\n",
      "    \"dqstrack_rldlyrnk_fine_byte4\": 41,\n",
      "    \"f1_wrdqdbi_odly_dq_final_bit33\": 0,\n",
      "    \"f1_rddq_pqtr_left_nibble03\": 0,\n",
      "    \"f0_rd_simp_rise_lm_nib_07\": [\n",
      "        75,\n",
      "        154\n",
      "    ],\n",
      "    \"f1_rddq_nqtr_right_nibble01\": 0,\n",
      "    \"f0_dqsgate_stg1_overflow_25\": 0,\n",
      "    \"f1_rdcmplx_nqtr_left_short_nibble06\": 0,\n",
      "    \"f1_rdcmplx_nqtr_left_short_nibble05\": 0,\n",
      "    \"f1_rddq_nqtr_right_nibble04\": 0,\n",
      "    \"rdvref_right_vref_final_nibble04\": 0,\n",
      "    \"f0_wrlat_match_rank0_byte0\": 16,\n",
      "    \"vttrack_rldlyqtr_max_nibble00\": 81,\n",
      "    \"wrvref_left_vref_final_rank0_byte2\": 0,\n",
      "    \"f0_wrdqdbi_deskew_dq_odly_fcrse_bit17\": 89,\n",
      "    \"f0_rdcmplx_pqtr_final_nibble01\": 89,\n",
      "    \"f1_wrdqdbi_odly_dq_final_bit14\": 0,\n",
      "    \"cal_seq_status_11\": 397,\n",
      "    \"f0_wrdqdbi_left_edge_dq_bit63\": 59,\n",
      "    \"f1_calbisc_rl_dly_pqtr_nibble07\": 0,\n",
      "    \"f0_wrdqdbi_deskew_dq_odly_bit48\": 124,\n",
      "    \"f0_wrdqdbi_stg2_dqs_odly_byte3\": 94,\n",
      "    \"f0_wrdqdbi_odly_dq_final_bit57\": 62,\n",
      "    \"f0_rdcmplx_pqtr_right_nibble04\": 148,\n",
      "    \"f0_wr_comp_rm_byte_02\": [\n",
      "        60,\n",
      "        124\n",
      "    ],\n",
      "    \"f1_rdcmplx_nqtr_right_short_nibble08\": 0,\n",
      "    \"f1_rddq_nqtr_left_nibble09\": 0,\n",
      "    \"f0_wr_simp_ctp_byte_06\": [\n",
      "        286,\n",
      "        593\n",
      "    ],\n",
      "    \"mgchk_start\": 0,\n",
      "    \"f0_dqsgate_stg1_read_lat_rank0_byte1\": 24,\n",
      "    \"cal_error_bit_phy_nibble_03\": 0,\n",
      "    \"f0_wrcmplx_odly_dq_final_bit59\": 63,\n",
      "    \"f0_mr1_8_0\": 257,\n",
      "    \"f0_rd_simp_rise_rm_nib_08\": [\n",
      "        74,\n",
      "        150\n",
      "    ],\n",
      "    \"iobmap_dqs_3\": 0,\n",
      "    \"f0_rd_simp_rise_ctp_nib_01\": [\n",
      "        87,\n",
      "        179\n",
      "    ],\n",
      "    \"f0_wrcmplx_odly_dq_final_bit41\": 59,\n",
      "    \"traf_power_down_en\": 0,\n",
      "    \"f0_rd_simp_rise_lm_nib_11\": [\n",
      "        75,\n",
      "        156\n",
      "    ],\n",
      "    \"phy_rden23_dly\": 25,\n",
      "    \"mem_type\": 1,\n",
      "    \"f1_wrcmplx_odly_dq_final_bit18\": 0,\n",
      "    \"f0_rddq_idelay_final_bit37\": 70,\n",
      "    \"cal_seq_status_32\": 303,\n",
      "    \"f0_rdprbs_nqtr_right_margin_nibble15\": 0,\n",
      "    \"f1_dqsgate_stg1_overflow_57\": 0,\n",
      "    \"f1_wrdqdbi_left_edge_dq_bit06\": 0,\n",
      "    \"f0_calbisc_rl_dly_pqtr_nibble04\": 76,\n",
      "    \"f0_rd_comp_fall_rm_nib_01\": [\n",
      "        62,\n",
      "        130\n",
      "    ],\n",
      "    \"f0_wrdqdbi_stg6_dbi_odly_byte7\": 59,\n",
      "    \"f1_wrdqdbi_deskew_dq_odly_bit32\": 0,\n",
      "    \"f1_calbisc_rl_dly_nqtr_nibble10\": 0,\n",
      "    \"f1_calbisc_rl_dly_qtr_nibble04\": 0,\n",
      "    \"f0_rdcmplx_pqtr_right_short_nibble01\": 164,\n",
      "    \"f1_rdcmplx_pqtr_left_short_nibble09\": 0,\n",
      "    \"f0_rddq_nqtr_right_nibble03\": 164,\n",
      "    \"f1_rddq_nqtr_right_fcrse_nibble02\": 0,\n",
      "    \"f1_rdcmplx_nqtr_left_nibble10\": 0,\n",
      "    \"wrvref_right_vref_def_rank0_byte3\": 0,\n",
      "    \"f1_rddq_pqtr_right_fcrse_nibble05\": 0,\n",
      "    \"f1_dqsgate_stg1_overflow_45\": 0,\n",
      "    \"f1_calbisc_rl_dly_pqtr_nibble02\": 0,\n",
      "    \"cal_seq_status_12\": 398,\n",
      "    \"f0_wrcmplx_odly_dbi_final_byte2\": 32,\n",
      "    \"f1_wrdqdbi_deskew_dq_odly_bit05\": 0,\n",
      "    \"dqstrack_rldlyrnk_fine_min_byte3\": 28,\n",
      "    \"f0_wrlvl_fine_final_rank0_byte0\": 51,\n",
      "    \"f0_ps_factor\": 2.049769260683013,\n",
      "    \"f0_rdcmplx_idelay_offset_nibble12\": 0,\n",
      "    \"cal_warning_72\": 0,\n",
      "    \"f1_calbisc_rl_dly_nqtr_nibble05\": 0,\n",
      "    \"xpi_read_dbi\": 0,\n",
      "    \"f1_dqsgate_stg2_rldlyrnk_crse_rank0_byte2\": 0,\n",
      "    \"f0_rd_simp_fall_rm_nib_04\": [\n",
      "        71,\n",
      "        142\n",
      "    ],\n",
      "    \"f1_rdprbs_pqtr_right_margin_nibble07\": 0,\n",
      "    \"f0_wrdqdbi_deskew_dq_odly_fcrse_bit10\": 112,\n",
      "    \"f0_wrdqdbi_right_margin_fcrse_byte4\": 70,\n",
      "    \"wrvref_vref_final_rank0_byte6\": 0,\n",
      "    \"bisc_idly3_align_nibble04\": 67,\n",
      "    \"f0_rddq_nqtr_left_nibble11\": 29,\n",
      "    \"f0_wrdqdbi_stg2_dq_odly_bit20\": 19,\n",
      "    \"cal_stage_time_20\": 0,\n",
      "    \"f1_rdprbs_nqtr_right_margin_nibble11\": 0,\n",
      "    \"f1_calbisc_rl_dly_pqtr_nibble15\": 0,\n",
      "    \"rdvref_left_vref_low_bound_nibble03\": 0,\n",
      "    \"ddrmc_isr_nsu_fatal2\": 0,\n",
      "    \"dqstrack_rldlyrnk_fine_max_byte0\": 3,\n",
      "    \"f0_wrcmplx_odly_dq_final_bit00\": 65,\n",
      "    \"f0_rddq_pqtr_right_nibble04\": 167,\n",
      "    \"phy_rden15_dly\": 26,\n",
      "    \"f0_rddq_qtr_deskew_nibble00\": 1,\n",
      "    \"f0_wrdqdbi_left_edge_dq_bit14\": 64,\n",
      "    \"f1_wrdqdbi_deskew_dq_odly_bit04\": 0,\n",
      "    \"rdmargin_pqtr_left_nibble03\": 0,\n",
      "    \"cal_seq_status_10\": 395,\n",
      "    \"dimm_type\": 1,\n",
      "    \"iobmap_dq_7_6\": 0,\n",
      "    \"f0_wrdqdbi_stg4_dqs_delay_byte7\": 14,\n",
      "    \"f0_rddq_qtr_deskew_nibble01\": 1,\n",
      "    \"f1_wrdqdbi_right_edge_dqs_byte6\": 0,\n",
      "    \"f1_dqsgate_stg1_overflow_38\": 0,\n",
      "    \"f1_wrdqdbi_stg2_dq_odly_bit03\": 0,\n",
      "    \"cal_error_bit_phy_nibble_14\": 0,\n",
      "    \"bisc_pqtr_nibble06\": 76,\n",
      "    \"dqstrack_rldlyrnk_crse_max_byte7\": 5,\n",
      "    \"f0_wrcmplx_odly_dq_final_bit47\": 59,\n",
      "    \"f0_wrlat_phy_oe_nib_final_byte4\": 1,\n",
      "    \"rdvref_left_vref_final_nibble06\": 0,\n",
      "    \"f0_wrprbs_left_margin_byte2\": 0,\n",
      "    \"bisc_idly0_align_nibble02\": 67,\n",
      "    \"f0_rd_comp_rise_rm_nib_14\": [\n",
      "        64,\n",
      "        131\n",
      "    ],\n",
      "    \"f0_rd_comp_rise_ctp_nib_08\": [\n",
      "        83,\n",
      "        168\n",
      "    ],\n",
      "    \"f0_wrcmplx_odly_dq_final_bit21\": 28,\n",
      "    \"f1_rdcmplx_pqtr_right_short_fcrse_nibble08\": 0,\n",
      "    \"cal_post_status_02\": 0,\n",
      "    \"f1_wrdqdbi_stg3_dq_odly_bit49\": 0,\n",
      "    \"rdvref_left_vref_upp_bound_nibble00\": 0,\n",
      "    \"f0_wrcmplx_odly_dq_final_bit18\": 36,\n",
      "    \"f1_dqsgate_rldlyrnk_crse_final_rank0_byte2\": 0,\n",
      "    \"f0_rddq_nqtr_right_fcrse_nibble01\": 178,\n",
      "    \"f0_wrdqdbi_left_edge_dq_bit27\": 88,\n",
      "    \"f0_wrdqdbi_stg2_dq_odly_bit26\": 78,\n",
      "    \"f0_rddq_idelay_final_bit31\": 79,\n",
      "    \"rdvref_vref_low_bound_nibble09\": 0,\n",
      "    \"f0_rdcmplx_pqtr_right_short_nibble15\": 162,\n",
      "    \"f0_rdprbs_nqtr_left_margin_nibble04\": 0,\n",
      "    \"f1_wrdqdbi_odly_dq_final_bit27\": 0,\n",
      "    \"f0_wrdqdbi_stg1_bit_status_byte6\": 0,\n",
      "    \"xpi_wrdata_all_nib_dly_offset\": 8,\n",
      "    \"bisc_idly2_align_nibble08\": 68,\n",
      "    \"rdmargin_nqtr_right_nibble11\": 0,\n",
      "    \"f0_wrdqdbi_deskew_dq_odly_bit57\": 131,\n",
      "    \"f0_rd_comp_fall_lm_nib_12\": [\n",
      "        59,\n",
      "        121\n",
      "    ],\n",
      "    \"f0_rd_comp_fall_lm_nib_01\": [\n",
      "        62,\n",
      "        130\n",
      "    ],\n",
      "    \"f0_wrcmplx_right_margin_byte0\": 57,\n",
      "    \"f1_wrcmplx_right_margin_byte2\": 0,\n",
      "    \"f0_rd_simp_fall_ctp_nib_12\": [\n",
      "        96,\n",
      "        197\n",
      "    ],\n",
      "    \"f0_rdprbs_pqtr_right_margin_nibble14\": 0,\n",
      "    \"f1_wrdqdbi_stg3_dq_odly_bit15\": 0,\n",
      "    \"f1_wrdqdbi_deskew_dq_odly_fcrse_bit05\": 0,\n",
      "    \"bisc_idly3_align_nibble10\": 69,\n",
      "    \"f1_wrdqdbi_deskew_dq_odly_bit07\": 0,\n",
      "    \"f0_rdcmplx_nqtr_right_nibble14\": 152,\n",
      "    \"f0_rdcmplx_nqtr_left_nibble12\": 25,\n",
      "    \"f1_dqsgate_stg1_overflow_53\": 0,\n",
      "    \"nsu0_perf_mon_ctl_1_1\": 0,\n",
      "    \"rdmargin_nqtr_left_nibble03\": 0,\n",
      "    \"ddrmc_isr_nsu_fatal0\": 0,\n",
      "    \"f1_wrdqdbi_stg4_dqs_delay_byte1\": 0,\n",
      "    \"rdvref_right_vref_upp_bound_nibble05\": 0,\n",
      "    \"f0_wrprbs_right_margin_byte1\": 0,\n",
      "    \"f0_calbisc_rl_dly_nqtr_nibble11\": 76,\n",
      "    \"f1_wrdqdbi_left_edge_dq_bit33\": 0,\n",
      "    \"f0_rddq_idelay_final_bit53\": 86,\n",
      "    \"bisc_idly0_align_nibble05\": 0,\n",
      "    \"f0_rd_simp_fall_rm_nib_10\": [\n",
      "        69,\n",
      "        134\n",
      "    ],\n",
      "    \"f0_wrcmplx_odly_dq_final_bit49\": 46,\n",
      "    \"wrvref_right_vref_upp_bound_rank0_byte5\": 0,\n",
      "    \"f0_wrdqdbi_stg2_dq_odly_bit19\": 19,\n",
      "    \"wrmargin_left_byte5\": 0,\n",
      "    \"f0_wrdqdbi_deskew_dq_odly_fcrse_bit48\": 124,\n",
      "    \"phy_rden16_dly\": 26,\n",
      "    \"rdvref_right_vref_low_bound_nibble00\": 0,\n",
      "    \"f1_wrdqdbi_deskew_dq_odly_bit13\": 0,\n",
      "    \"rdvref_left_vref_upp_bound_nibble01\": 0,\n",
      "    \"f0_rdcmplx_pqtr_left_short_nibble08\": 22,\n",
      "    \"phy_oe_nib16_dly\": 1,\n",
      "    \"f0_rd_simp_rise_lm_nib_05\": [\n",
      "        74,\n",
      "        156\n",
      "    ],\n",
      "    \"f1_wrdqdbi_stg3_dq_odly_bit47\": 0,\n",
      "    \"ddrmc_pcsr_status\": 23,\n",
      "    \"cal_warning_30\": 0,\n",
      "    \"iobmap_dq_39_38\": 0,\n",
      "    \"bisc_idly5_align_nibble13\": 79,\n",
      "    \"f1_wrdqdbi_deskew_dq_odly_bit34\": 0,\n",
      "    \"cal_stage_time_16\": 0,\n",
      "    \"bisc_idly4_align_nibble06\": 71,\n",
      "    \"wrvref_right_vref_final_rank0_byte3\": 0,\n",
      "    \"f0_wrprbs_right_margin_byte7\": 0,\n",
      "    \"nsu2_perf_mon_1_0\": 0,\n",
      "    \"f1_rddq_idelay_final_bit23\": 0,\n",
      "    \"f1_wrcmplx_odly_dq_final_bit15\": 0,\n",
      "    \"bisc_mon_align_nibble10\": 0,\n",
      "    \"vttrack_rldlyqtr_min_nibble10\": 73,\n",
      "    \"f1_dqsgate_stg1_overflow_54\": 0,\n",
      "    \"f1_wrdqdbi_deskew_dq_odly_bit48\": 0,\n",
      "    \"f1_wrlvl_noise_fcrse_rank0_byte4\": 0,\n",
      "    \"f0_rdcmplx_pqtr_left_nibble13\": 24,\n",
      "    \"f1_rddq_nqtr_final_nibble01\": 0,\n",
      "    \"f1_wrdqdbi_stg2_dq_odly_bit48\": 0,\n",
      "    \"f1_calbisc_rl_dly_nqtr_nibble12\": 0,\n",
      "    \"f1_wrlvl_crse_stg1_rank0_byte0\": 0,\n",
      "    \"f0_wrdqdbi_left_edge_dq_bit16\": 30,\n",
      "    \"f0_wr_simp_lm_byte_02\": [\n",
      "        79,\n",
      "        163\n",
      "    ],\n",
      "    \"f0_rdcmplx_idelay_offset_nibble09\": 0,\n",
      "    \"f1_wrdqdbi_deskew_dq_odly_bit59\": 0,\n",
      "    \"f1_wrdqdbi_stg2_dq_odly_bit31\": 0,\n",
      "    \"f1_tck_msb\": 1,\n",
      "    \"f1_calbisc_rl_dly_pqtr_nibble00\": 0,\n",
      "    \"f1_rdcmplx_pqtr_right_short_fcrse_nibble06\": 0,\n",
      "    \"f0_rd_simp_rise_ctp_nib_13\": [\n",
      "        92,\n",
      "        189\n",
      "    ],\n",
      "    \"rdvref_vref_low_bound_nibble12\": 0,\n",
      "    \"cal_error_bit_phy_nibble_10\": 0,\n",
      "    \"rdvref_vref_final_nibble11\": 0,\n",
      "    \"f1_calbisc_rl_dly_pqtr_nibble14\": 0,\n",
      "    \"f1_wrcmplx_odly_dq_final_bit32\": 0,\n",
      "    \"f1_wrdqdbi_deskew_dq_odly_fcrse_bit34\": 0,\n",
      "    \"f1_wrcmplx_odly_dq_final_bit25\": 0,\n",
      "    \"nsu3_perf_mon_1_2\": 0,\n",
      "    \"f0_rdcmplx_nqtr_right_short_nibble04\": 174,\n",
      "    \"ddrmc_isr_dram_parity_fatal_1\": 0,\n",
      "    \"rdmargin_pqtr_left_nibble15\": 0,\n",
      "    \"f0_dqsgate_stg1_overflow_55\": 0,\n",
      "    \"iobmap_dq_43_42\": 0,\n",
      "    \"f0_rddq_idelay_final_bit39\": 73,\n",
      "    \"rdmargin_nqtr_right_nibble06\": 0,\n",
      "    \"f0_wrcmplx_right_margin_byte5\": 61,\n",
      "    \"f0_wrcmplx_odly_dqs_final_byte5\": 71,\n",
      "    \"f0_wrdqdbi_stg3_dq_odly_bit25\": 78,\n",
      "    \"f0_wrcmplx_odly_dq_final_bit10\": 57,\n",
      "    \"f1_wrdqdbi_deskew_dq_odly_bit12\": 0,\n",
      "    \"f1_rdcmplx_pqtr_right_short_nibble02\": 0,\n",
      "    \"cal_warning_20\": 0,\n",
      "    \"bisc_rl_dly_qtr_nibble09\": 76,\n",
      "    \"mgchk_pattern_mode\": 0,\n",
      "    \"f1_wrdqdbi_stg3_dq_odly_bit36\": 0,\n",
      "    \"f0_dqsgate_stg1_overflow_30\": 0,\n",
      "    \"f0_rddq_nqtr_right_nibble15\": 169,\n",
      "    \"f0_wrdqdbi_left_edge_dq_bit26\": 80,\n",
      "    \"tag_ver_1\": 0,\n",
      "    \"f0_wrdqdbi_stg3_dq_odly_bit23\": 19,\n",
      "    \"f1_rdcmplx_nqtr_left_short_nibble02\": 0,\n",
      "    \"f0_dqsgate_stg2_read_lat_rank0_byte2\": 26,\n",
      "    \"f0_rddq_nqtr_final_nibble01\": 96,\n",
      "    \"nsu0_perf_filter_0_0\": 0,\n",
      "    \"wrvref_right_vref_upp_bound_rank0_byte3\": 0,\n",
      "    \"cal_warning_58\": 0,\n",
      "    \"mgchk_abort\": 0,\n",
      "    \"f1_rdcmplx_pqtr_left_short_nibble12\": 0,\n",
      "    \"cal_warning_44\": 0,\n",
      "    \"wrvref_left_vref_upp_bound_rank0_byte3\": 0,\n",
      "    \"f0_dqsgate_stg1_rldlyrnk_crse_rank0_byte1\": 8,\n",
      "    \"f0_wr_simp_rm_byte_02\": [\n",
      "        62,\n",
      "        128\n",
      "    ],\n",
      "    \"f0_dqsgate_stg1_overflow_62\": 0,\n",
      "    \"phy_rden18_dly\": 22,\n",
      "    \"ddrmc_isr_na_cmd\": 0,\n",
      "    \"f0_wrlat_phy_oe_nib_final_byte3\": 1,\n",
      "    \"cal_warning_43\": 0,\n",
      "    \"f1_wrdqdbi_right_margin_byte5\": 0,\n",
      "    \"f0_calbisc_rl_dly_pqtr_nibble06\": 76,\n",
      "    \"f1_wrdqdbi_odly_dq_final_bit56\": 0,\n",
      "    \"f0_wrdqdbi_stg2_dq_odly_bit63\": 59,\n",
      "    \"f0_rd_simp_rise_lm_nib_12\": [\n",
      "        72,\n",
      "        150\n",
      "    ],\n",
      "    \"dc0_perf_mon_7\": 0,\n",
      "    \"iobmap_dqs_1\": 0,\n",
      "    \"f0_wrdqdbi_stg2_dq_odly_bit56\": 59,\n",
      "    \"f0_rd_simp_fall_ctp_nib_04\": [\n",
      "        101,\n",
      "        202\n",
      "    ],\n",
      "    \"f1_wrdqdbi_deskew_dq_odly_fcrse_bit51\": 0,\n",
      "    \"f0_rdcmplx_nqtr_final_nibble03\": 82,\n",
      "    \"f1_wrdqdbi_stg2_dq_odly_bit41\": 0,\n",
      "    \"f1_wrcmplx_odly_dq_final_bit46\": 0,\n",
      "    \"f0_wrdqdbi_deskew_dq_odly_bit09\": 133,\n",
      "    \"phy_rank_read_override\": 0,\n",
      "    \"f0_wrcmplx_odly_dq_final_bit63\": 68,\n",
      "    \"cal_warning_27\": 0,\n",
      "    \"f0_wrcmplx_odly_dqs_final_byte0\": 67,\n",
      "    \"f0_bit_time\": 312,\n",
      "    \"f1_rddq_idelay_final_bit57\": 0,\n",
      "    \"f0_wrdqdbi_deskew_dq_odly_bit25\": 148,\n",
      "    \"f1_wrdqdbi_deskew_dbi_odly_byte7\": 0,\n",
      "    \"f0_wrdqdbi_left_edge_dq_bit50\": 48,\n",
      "    \"f0_rd_simp_fall_lm_nib_14\": [\n",
      "        70,\n",
      "        143\n",
      "    ],\n",
      "    \"f0_wrdqdbi_left_edge_dq_bit39\": 32,\n",
      "    \"f0_rdcmplx_nqtr_left_short_nibble15\": 25,\n",
      "    \"f1_wrdqdbi_stg6_dbi_odly_byte1\": 0,\n",
      "    \"ub_data_ce\": 0,\n",
      "    \"f0_wrdqdbi_stg2_dq_odly_bit29\": 78,\n",
      "    \"f0_wrdqdbi_odly_dbi_final_byte1\": 69,\n",
      "    \"f1_rdcmplx_pqtr_right_short_nibble10\": 0,\n",
      "    \"rdvref_right_vref_upp_bound_nibble10\": 0,\n",
      "    \"bisc_idly3_align_nibble13\": 77,\n",
      "    \"f0_dqsgate_stg1_overflow_09\": 0,\n",
      "    \"xpi_map_bitslip\": 0,\n",
      "    \"f0_rdcmplx_pqtr_left_nibble07\": 24,\n",
      "    \"f1_wrdqdbi_stg2_dq_odly_bit18\": 0,\n",
      "    \"f1_wrdqdbi_left_edge_dq_bit05\": 0,\n",
      "    \"freq_switch_restore_error\": 0,\n",
      "    \"f1_wrlat_phy_data_nib_final_byte0\": 0,\n",
      "    \"f1_wrdqdbi_stg3_dq_odly_bit35\": 0,\n",
      "    \"cal_post_status_tracking\": 1,\n",
      "    \"f1_wrcmplx_odly_dqs_final_byte1\": 0,\n",
      "    \"f1_wrdqdbi_deskew_dbi_odly_fcrse_byte3\": 0,\n",
      "    \"f1_wrcmplx_odly_dq_final_bit47\": 0,\n",
      "    \"f1_dqsgate_stg1_read_lat_rank0_byte0\": 0,\n",
      "    \"f0_rd_comp_rise_lm_nib_05\": [\n",
      "        62,\n",
      "        130\n",
      "    ],\n",
      "    \"f0_mr3_8_0\": 32,\n",
      "    \"f1_rdprbs_pqtr_left_margin_nibble06\": 0,\n",
      "    \"f0_wrcmplx_odly_dqs_final_byte3\": 95,\n",
      "    \"f0_wrdqdbi_deskew_dq_odly_fcrse_bit21\": 89,\n",
      "    \"f1_wrdqdbi_stg2_dqs_odly_byte2\": 0,\n",
      "    \"rdvref_left_vref_final_nibble05\": 0,\n",
      "    \"cal_error_bit_phy_nibble_20\": 0,\n",
      "    \"f0_wrdqdbi_odly_dq_final_bit46\": 68,\n",
      "    \"f1_rdcmplx_idelay_offset_nibble09\": 0,\n",
      "    \"cal_stage_time_62\": 0,\n",
      "    \"f1_wrlvl_fine_final_rank0_byte5\": 0,\n",
      "    \"f1_rddq_idelay_final_bit47\": 0,\n",
      "    \"f0_rdprbs_nqtr_right_margin_nibble00\": 0,\n",
      "    \"cal_warning_48\": 0,\n",
      "    \"f0_rd_simp_rise_rm_nib_06\": [\n",
      "        74,\n",
      "        152\n",
      "    ],\n",
      "    \"cal_stage_time_52\": 0,\n",
      "    \"f0_rdcmplx_pqtr_right_short_fcrse_nibble04\": 171,\n",
      "    \"cal_warning_11\": 0,\n",
      "    \"f1_wrdqdbi_deskew_dq_odly_fcrse_bit45\": 0,\n",
      "    \"ref_en\": 2,\n",
      "    \"f0_wrdqdbi_stg2_dq_odly_bit07\": 51,\n",
      "    \"f0_wrdqdbi_left_edge_dq_bit44\": 72,\n",
      "    \"f0_rdcmplx_nqtr_left_nibble09\": 27,\n",
      "    \"cal_warning_00\": 0,\n",
      "    \"f0_wrprbs_right_margin_byte2\": 0,\n",
      "    \"f0_rd_simp_fall_lm_nib_08\": [\n",
      "        70,\n",
      "        143\n",
      "    ],\n",
      "    \"f1_wrdqdbi_deskew_dbi_odly_fcrse_byte6\": 0,\n",
      "    \"rdmargin_pqtr_left_nibble13\": 0,\n",
      "    \"f1_rddq_nqtr_right_fcrse_nibble10\": 0,\n",
      "    \"f0_rdprbs_nqtr_left_margin_nibble09\": 0,\n",
      "    \"f0_wrcmplx_right_margin_fcrse_byte5\": 60,\n",
      "    \"f1_wrcmplx_odly_dbi_final_byte2\": 0,\n",
      "    \"f0_dqsgate_stg1_overflow_24\": 0,\n",
      "    \"bisc_nqtr_align_nibble05\": 4,\n",
      "    \"f0_wrdqdbi_stg3_dq_odly_bit45\": 55,\n",
      "    \"f0_rddq_idelay_final_bit49\": 68,\n",
      "    \"tag_ver_0\": 1,\n",
      "    \"f0_wrdqdbi_left_edge_dq_bit52\": 44,\n",
      "    \"f1_wrdqdbi_odly_dbi_final_byte5\": 0,\n",
      "    \"f1_wrcmplx_right_margin_byte7\": 0,\n",
      "    \"eye_scan_status\": \"NOT RUNNING\",\n",
      "    \"f0_rdprbs_pqtr_left_margin_nibble10\": 0,\n",
      "    \"cal_seq_status_23\": 294,\n",
      "    \"f1_wrcmplx_odly_dbi_final_byte7\": 0,\n",
      "    \"f0_wrdqdbi_deskew_dq_odly_bit15\": 131,\n",
      "    \"f0_wrdqdbi_deskew_dq_odly_bit18\": 102,\n",
      "    \"rdmargin_pqtr_left_nibble14\": 0,\n",
      "    \"f1_rdcmplx_nqtr_left_short_nibble13\": 0,\n",
      "    \"f0_calbisc_rl_dly_qtr_nibble14\": 76,\n",
      "    \"bisc_idly3_align_nibble11\": 77,\n",
      "    \"f0_wrdqdbi_left_edge_dq_bit42\": 57,\n",
      "    \"f0_rdcmplx_nqtr_left_nibble05\": 34,\n",
      "    \"ddrmc_isr_dram_parity_fatal_0\": 0,\n",
      "    \"f0_wrdqdbi_stg2_dq_odly_bit30\": 78,\n",
      "    \"f0_wrdqdbi_stg2_dq_odly_bit14\": 62,\n",
      "    \"f0_rddq_idelay_final_bit57\": 70,\n",
      "    \"f0_dqsgate_stg1_overflow_53\": 0,\n",
      "    \"f0_rdcmplx_nqtr_final_nibble13\": 87,\n",
      "    \"f1_dqsgate_stg2_read_lat_rank0_byte1\": 0,\n",
      "    \"f1_wrdqdbi_stg5_dqs_odly_byte0\": 0,\n",
      "    \"f1_wrcmplx_left_margin_fcrse_byte3\": 0,\n",
      "    \"f0_wrdqdbi_deskew_dq_odly_fcrse_bit36\": 109,\n",
      "    \"f0_wrdqdbi_stg4_dqs_delay_byte0\": 14,\n",
      "    \"f0_wrlvl_fine_final_rank0_byte7\": 59,\n",
      "    \"f1_wrlvl_crse_stg1_rank0_byte5\": 0,\n",
      "    \"nsu1_perf_filter_1_1\": 0,\n",
      "    \"f0_rdcmplx_pqtr_right_short_nibble05\": 169,\n",
      "    \"f1_wrdqdbi_stg2_dqs_odly_byte3\": 0,\n",
      "    \"f0_rdcmplx_nqtr_left_nibble10\": 31,\n",
      "    \"f0_wrcmplx_odly_dq_final_bit13\": 74,\n",
      "    \"f1_xpll_clkoutfb_ht\": 16,\n",
      "    \"f1_wrlvl_fine_left_rank0_byte3\": 0,\n",
      "    \"f0_rdcmplx_pqtr_left_nibble04\": 26,\n",
      "    \"f0_rddq_nqtr_left_nibble07\": 28,\n",
      "    \"f0_rdcmplx_pqtr_left_nibble10\": 33,\n",
      "    \"f0_wrdqdbi_left_edge_dq_bit05\": 58,\n",
      "    \"cal_warning_66\": 0,\n",
      "    \"rdvref_left_vref_upp_bound_nibble04\": 0,\n",
      "    \"f1_wrlvl_crse_stg1_rank0_byte1\": 0,\n",
      "    \"f0_wrdqdbi_odly_dq_final_bit01\": 54,\n",
      "    \"f1_rdprbs_nqtr_left_margin_nibble12\": 0,\n",
      "    \"f0_rd_comp_fall_ctp_nib_08\": [\n",
      "        85,\n",
      "        175\n",
      "    ],\n",
      "    \"cal_stage_time_43\": 0,\n",
      "    \"bisc_nqtr_nibble08\": 76,\n",
      "    \"bisc_rl_dly_qtr_nibble08\": 76,\n",
      "    \"f0_wrdqdbi_stg2_dq_odly_bit10\": 62,\n",
      "    \"f0_wrlat_phy_data_nib_final_byte7\": 1,\n",
      "    \"0x0b_F0_READ_DQ_CAL\": \"Pass\",\n",
      "    \"traf_self_ref_en\": 0,\n",
      "    \"cal_stage_time_31\": 0,\n",
      "    \"f1_rdcmplx_pqtr_right_nibble00\": 0,\n",
      "    \"f0_wrdqdbi_left_edge_dq_bit08\": 56,\n",
      "    \"f0_rdcmplx_pqtr_left_nibble11\": 29,\n",
      "    \"f0_wrdqdbi_deskew_dq_odly_bit26\": 150,\n",
      "    \"f0_dqsgate_stg2_rldlyrnk_crse_rank0_byte5\": 2,\n",
      "    \"f1_wrdqdbi_stg2_dq_odly_bit37\": 0,\n",
      "    \"f1_rdprbs_nqtr_left_margin_nibble01\": 0,\n",
      "    \"f0_rd_comp_rise_lm_nib_02\": [\n",
      "        63,\n",
      "        124\n",
      "    ],\n",
      "    \"f0_dqsgate_stg1_overflow_29\": 0,\n",
      "    \"f0_dqsgate_stg1_rldlyrnk_crse_rank0_byte6\": 15,\n",
      "    \"f1_wrlat_wldlyrnk_crse_final_rank0_byte1\": 0,\n",
      "    \"f0_wrdqdbi_deskew_dq_odly_fcrse_bit51\": 114,\n",
      "    \"f0_wrdqdbi_right_edge_dqs_byte2\": 97,\n",
      "    \"f1_wrdqdbi_left_edge_dq_bit35\": 0,\n",
      "    \"f1_wrdqdbi_left_edge_dq_bit36\": 0,\n",
      "    \"f0_rddq_nqtr_right_fcrse_nibble10\": 175,\n",
      "    \"f0_wrdqdbi_deskew_dq_odly_fcrse_bit13\": 132,\n",
      "    \"phy_rden20_dly\": 25,\n",
      "    \"f0_rd_comp_fall_ctp_nib_01\": [\n",
      "        88,\n",
      "        186\n",
      "    ],\n",
      "    \"f0_wrcmplx_odly_dq_final_bit04\": 61,\n",
      "    \"cal_seq_status_44\": 0,\n",
      "    \"f1_rddq_nqtr_final_nibble13\": 0,\n",
      "    \"f1_dqsgate_read_lat_final_byte4\": 0,\n",
      "    \"f1_wrdqdbi_deskew_dq_odly_fcrse_bit43\": 0,\n",
      "    \"f1_rdcmplx_pqtr_left_short_nibble01\": 0,\n",
      "    \"f1_wrdqdbi_stg1_bit_status_byte3\": 0,\n",
      "    \"f0_calbisc_rl_dly_pqtr_nibble02\": 79,\n",
      "    \"f1_wrdqdbi_deskew_dq_odly_fcrse_bit42\": 0,\n",
      "    \"f0_wrdqdbi_stg2_dq_odly_bit18\": 19,\n",
      "    \"cal_stage_time_59\": 0,\n",
      "    \"f0_rdcmplx_nqtr_left_nibble11\": 30,\n",
      "    \"f0_wrdqdbi_deskew_dq_odly_bit35\": 91,\n",
      "    \"f0_wrdqdbi_deskew_dq_odly_fcrse_bit42\": 135,\n",
      "    \"f0_rdcmplx_nqtr_left_nibble01\": 26,\n",
      "    \"f1_rddq_nqtr_right_fcrse_nibble12\": 0,\n",
      "    \"f1_wrdqdbi_left_edge_dq_bit55\": 0,\n",
      "    \"f1_wrdqdbi_odly_dq_final_bit58\": 0,\n",
      "    \"f1_rddq_pqtr_final_nibble14\": 0,\n",
      "    \"rdmargin_nqtr_left_nibble00\": 0,\n",
      "    \"f0_rddq_nqtr_right_fcrse_nibble03\": 168,\n",
      "    \"mgchk_mode\": 0,\n",
      "    \"f1_rdcmplx_nqtr_right_short_fcrse_nibble01\": 0,\n",
      "    \"rdvref_vref_low_bound_nibble13\": 0,\n",
      "    \"f0_rdcmplx_pqtr_right_short_nibble04\": 171,\n",
      "    \"f0_dqsgate_stg2_read_lat_rank0_byte7\": 28,\n",
      "    \"bisc_idly5_align_nibble09\": 77,\n",
      "    \"f0_rdprbs_pqtr_left_margin_nibble03\": 0,\n",
      "    \"f0_wrdqdbi_odly_dq_final_bit18\": 31,\n",
      "    \"f1_wrdqdbi_stg3_dq_odly_bit20\": 0,\n",
      "    \"f1_wrdqdbi_stg2_dqs_odly_byte7\": 0,\n",
      "    \"f1_dqsgate_stg2_rldlyrnk_crse_rank0_byte4\": 0,\n",
      "    \"f0_write_latency\": 1,\n",
      "    \"f1_rdcmplx_pqtr_right_short_nibble14\": 0,\n",
      "    \"f1_rdprbs_nqtr_right_margin_nibble09\": 0,\n",
      "    \"f0_calbisc_rl_dly_qtr_nibble06\": 76,\n",
      "    \"f0_wrdqdbi_odly_dq_final_bit36\": 39,\n",
      "    \"f1_wrdqdbi_deskew_dq_odly_bit62\": 0,\n",
      "    \"f0_rdcmplx_pqtr_left_short_nibble04\": 24,\n",
      "    \"f0_wrdqdbi_right_edge_dqs_byte0\": 137,\n",
      "    \"f0_rddq_pqtr_final_nibble15\": 87,\n",
      "    \"f1_rddq_idelay_final_bit49\": 0,\n",
      "    \"f1_wrdqdbi_stg2_dq_odly_bit08\": 0,\n",
      "    \"f0_par_alert_en\": 1,\n",
      "    \"bisc_idly4_align_nibble09\": 77,\n",
      "    \"power_down_exit_restore_error\": 0,\n",
      "    \"dqstrack_rldlyrnk_crse_min_byte3\": 2,\n",
      "    \"f0_rd_comp_rise_ctp_nib_11\": [\n",
      "        91,\n",
      "        190\n",
      "    ],\n",
      "    \"f1_rdcmplx_pqtr_left_nibble10\": 0,\n",
      "    \"f0_rd_simp_fall_ctp_nib_02\": [\n",
      "        97,\n",
      "        197\n",
      "    ],\n",
      "    \"cal_warning_68\": 0,\n",
      "    \"f0_rd_comp_rise_rm_nib_11\": [\n",
      "        62,\n",
      "        129\n",
      "    ],\n",
      "    \"f0_rcd_rc0f\": 0,\n",
      "    \"f0_wrlvl_fine_left_rank0_byte1\": 60,\n",
      "    \"f0_wrdqdbi_odly_dq_final_bit62\": 82,\n",
      "    \"f1_rdcmplx_pqtr_left_nibble15\": 0,\n",
      "    \"f0_wrdqdbi_deskew_dq_odly_fcrse_bit46\": 135,\n",
      "    \"f0_wrdqdbi_stg3_dq_odly_bit11\": 62,\n",
      "    \"rdvref_right_vref_low_bound_nibble08\": 0,\n",
      "    \"f1_wrlat_phy_data_nib_final_byte1\": 0,\n",
      "    \"f1_wrdqdbi_left_edge_dq_bit61\": 0,\n",
      "    \"cal_warning_15\": 0,\n",
      "    \"bisc_idly0_align_nibble15\": 76,\n",
      "    \"f0_wrdqdbi_odly_dq_final_bit00\": 58,\n",
      "    \"f0_wrdqdbi_deskew_dbi_odly_byte6\": 120,\n",
      "    \"f0_wrdqdbi_deskew_dq_odly_bit38\": 113,\n",
      "    \"bisc_idly5_align_nibble02\": 73,\n",
      "    \"f1_rdcmplx_idelay_offset_nibble11\": 0,\n",
      "    \"cal_stage_time_42\": 0,\n",
      "    \"f1_wrprbs_left_margin_byte5\": 0,\n",
      "    \"f0_wrdqdbi_deskew_dq_odly_fcrse_bit29\": 158,\n",
      "    \"f1_wrdqdbi_odly_dq_final_bit11\": 0,\n",
      "    \"f1_wrdqdbi_odly_dbi_final_byte4\": 0,\n",
      "    \"f0_wrdqdbi_deskew_dq_odly_fcrse_bit19\": 89,\n",
      "    \"f0_rdcmplx_idelay_offset_nibble11\": 0,\n",
      "    \"f1_wrdqdbi_stg2_dq_odly_bit06\": 0,\n",
      "    \"cal_status_map_ver\": 1,\n",
      "    \"rdvref_left_vref_def_nibble05\": 0,\n",
      "    \"f0_dqsgate_stg2_rldlyrnk_crse_rank0_byte6\": 3,\n",
      "    \"f0_rddq_pqtr_right_nibble12\": 162,\n",
      "    \"f0_rd_comp_fall_rm_nib_10\": [\n",
      "        58,\n",
      "        113\n",
      "    ],\n",
      "    \"f1_rddq_nqtr_right_nibble03\": 0,\n",
      "    \"nsu2_perf_mon_ctl_1_0\": 0,\n",
      "    \"rdmargin_nqtr_left_nibble10\": 0,\n",
      "    \"rdvref_left_vref_upp_bound_nibble08\": 0,\n",
      "    \"phy_oe_nib23_dly\": 0,\n",
      "    \"rdvref_vref_final_nibble10\": 0,\n",
      "    \"cal_stage.10_EN_VT_TRACK\": \"Pass\",\n",
      "    \"cal_warning_09\": 0,\n",
      "    \"dqstrack_rldlyrnk_crse_max_byte4\": 5,\n",
      "    \"f1_dqsgate_stg1_rldlyrnk_fine_rank0_byte4\": 0,\n",
      "    \"rdvref_vref_upp_bound_nibble01\": 0,\n",
      "    \"f0_rdcmplx_nqtr_right_nibble03\": 140,\n",
      "    \"rdmargin_pqtr_left_nibble00\": 0,\n",
      "    \"nsu3_perf_mon_ctl_0_0\": 0,\n",
      "    \"bisc_idly4_align_nibble00\": 70,\n",
      "    \"pcsr_control_ub_init\": 1,\n",
      "    \"f0_rddq_nqtr_final_nibble05\": 101,\n",
      "    \"f0_wrdqdbi_deskew_dq_odly_bit23\": 100,\n",
      "    \"nsu1_perf_filter_en_0\": 0,\n",
      "    \"f1_rddq_idelay_final_bit21\": 0,\n",
      "    \"f1_rddq_nqtr_right_fcrse_nibble11\": 0,\n",
      "    \"f1_rddq_pqtr_right_nibble06\": 0,\n",
      "    \"f1_wrdqdbi_deskew_dq_odly_fcrse_bit07\": 0,\n",
      "    \"phy_oe_nib5_dly\": 1,\n",
      "    \"ddrmc_pcsr_status_caldone\": 1,\n",
      "    \"rdvref_vref_upp_bound_nibble08\": 0,\n",
      "    \"f1_wrdqdbi_left_margin_byte7\": 0,\n",
      "    \"f1_rdcmplx_nqtr_right_short_nibble04\": 0,\n",
      "    \"f0_wrcmplx_odly_dq_final_bit53\": 63,\n",
      "    \"dqstrack_rldlyrnk_fine_max_byte4\": 41,\n",
      "    \"f1_rddq_qtr_deskew_nibble07\": 0,\n",
      "    \"f0_calbisc_rl_dly_nqtr_nibble01\": 74,\n",
      "    \"wrvref_vref_upp_bound_rank0_byte4\": 0,\n",
      "    \"f0_rdcmplx_pqtr_left_short_nibble03\": 21,\n",
      "    \"f1_rdcmplx_nqtr_final_nibble07\": 0,\n",
      "    \"f0_dqsgate_read_lat_final_byte7\": 28,\n",
      "    \"f1_rdcmplx_idelay_offset_nibble06\": 0,\n",
      "    \"f1_rdprbs_nqtr_left_margin_nibble05\": 0,\n",
      "    \"f0_wr_comp_ctp_byte_03\": [\n",
      "        95,\n",
      "        194\n",
      "    ],\n",
      "    \"f1_wrprbs_left_margin_byte6\": 0,\n",
      "    \"bisc_idly2_align_nibble12\": 65,\n",
      "    \"cal_stage.09_F0_WRITE_DQ_DBI_CAL_COMPLEX\": \"Pass\",\n",
      "    \"f1_rdcmplx_pqtr_left_nibble08\": 0,\n",
      "    \"f0_wrdqdbi_deskew_dq_odly_fcrse_bit15\": 122,\n",
      "    \"f1_wrdqdbi_odly_dqs_final_byte4\": 0,\n",
      "    \"f1_wrdqdbi_stg3_dq_odly_bit42\": 0,\n",
      "    \"f1_rddq_nqtr_left_nibble14\": 0,\n",
      "    \"f1_wrdqdbi_stg3_dq_odly_bit38\": 0,\n",
      "    \"f0_wrdqdbi_deskew_dq_odly_bit49\": 113,\n",
      "    \"f1_wrdqdbi_deskew_dq_odly_bit26\": 0,\n",
      "    \"bisc_idly5_align_nibble12\": 70,\n",
      "    \"rdvref_vref_low_bound_nibble00\": 0,\n",
      "    \"f1_dqsgate_stg1_overflow_46\": 0,\n",
      "    \"xpi_pmi_config\": 0,\n",
      "    \"wrvref_vref_final_rank0_byte2\": 0,\n",
      "    \"f1_dqsgate_rldlyrnk_crse_final_rank0_byte0\": 0,\n",
      "    \"f0_wrlvl_noise_fcrse_rank0_byte0\": 55,\n",
      "    \"f0_mr4_17_9\": 0,\n",
      "    \"f0_rdprbs_pqtr_left_margin_nibble07\": 0,\n",
      "    \"cal_error_bit_phy_nibble_23\": 0,\n",
      "    \"cal_stage_time_12\": 16,\n",
      "    \"f1_wrdqdbi_stg2_dq_odly_bit63\": 0,\n",
      "    \"bisc_mon_align_nibble01\": 0,\n",
      "    \"rdmargin_pqtr_right_nibble03\": 0,\n",
      "    \"nsu0_perf_mon_1_1\": 0,\n",
      "    \"dqstrack_rldlyrnk_fine_min_byte0\": 3,\n",
      "    \"f0_wrdqdbi_stg5_dqs_odly_byte1\": 78,\n",
      "    \"f0_wrcmplx_odly_dq_final_bit34\": 35,\n",
      "    \"cal_error_bit_phy_nibble_26\": 0,\n",
      "    \"f0_dqsgate_stg1_read_lat_rank0_byte3\": 24,\n",
      "    \"f1_rdcmplx_pqtr_right_short_fcrse_nibble13\": 0,\n",
      "    \"f1_dqsgate_stg1_overflow_32\": 0,\n",
      "    \"f0_wrdqdbi_stg3_dq_odly_bit12\": 62,\n",
      "    \"rdvref_vref_final_nibble04\": 0,\n",
      "    \"f0_rdprbs_nqtr_left_margin_nibble12\": 0,\n",
      "    \"f0_wrdqdbi_stg3_dq_odly_bit40\": 55,\n",
      "    \"f0_rd_simp_fall_rm_nib_00\": [\n",
      "        74,\n",
      "        152\n",
      "    ],\n",
      "    \"f0_rd_simp_rise_ctp_nib_11\": [\n",
      "        92,\n",
      "        192\n",
      "    ],\n",
      "    \"rdvref_vref_final_nibble14\": 0,\n",
      "    \"f1_wrdqdbi_stg2_dq_odly_bit45\": 0,\n",
      "    \"f0_wrdqdbi_stg3_dq_odly_bit02\": 51,\n",
      "    \"f0_rdcmplx_idelay_offset_nibble14\": 0,\n",
      "    \"f0_rddq_pqtr_right_nibble06\": 165,\n",
      "    \"bisc_idly2_align_nibble01\": 74,\n",
      "    \"f1_wrdqdbi_deskew_dq_odly_bit60\": 0,\n",
      "    \"ddrmc_clk_mux\": 1,\n",
      "    \"f0_rddq_idelay_final_bit32\": 70,\n",
      "    \"f1_wrlat_match_rank0_byte2\": 0,\n",
      "    \"nsu1_perf_mon_ctl_1_1\": 0,\n",
      "    \"f1_rdprbs_nqtr_right_margin_nibble10\": 0,\n",
      "    \"f0_wrdqdbi_stg1_bit_status_byte5\": 0,\n",
      "    \"f0_rddq_pqtr_right_fcrse_nibble04\": 172,\n",
      "    \"ddrmc_pcsr_status_incal\": 0,\n",
      "    \"f0_wrdqdbi_right_margin_byte5\": 67,\n",
      "    \"f0_wrcmplx_odly_dq_final_bit07\": 62,\n",
      "    \"f0_wrlat_match_rank0_byte3\": 17,\n",
      "    \"f1_rdcmplx_pqtr_left_short_nibble13\": 0,\n",
      "    \"f1_wrcmplx_odly_dq_final_bit08\": 0,\n",
      "    \"f1_dqsgate_stg1_overflow_56\": 0,\n",
      "    \"f0_rd_simp_rise_rm_nib_01\": [\n",
      "        71,\n",
      "        145\n",
      "    ],\n",
      "    \"f0_wrdqdbi_stg1_dqs_delay_byte7\": 75,\n",
      "    \"f0_wrdqdbi_odly_dq_final_bit55\": 53,\n",
      "    \"f0_wrdqdbi_deskew_dq_odly_fcrse_bit53\": 124,\n",
      "    \"f0_wrdqdbi_stg1_bit_status_byte4\": 0,\n",
      "    \"cal_seq_status_42\": 0,\n",
      "    \"wrvref_left_vref_def_rank0_byte3\": 0,\n",
      "    \"f1_rdcmplx_pqtr_right_short_fcrse_nibble05\": 0,\n",
      "    \"f0_wrdqdbi_deskew_dq_odly_bit00\": 133,\n",
      "    \"f0_rdcmplx_nqtr_left_short_nibble11\": 29,\n",
      "    \"rdmargin_nqtr_right_nibble09\": 0,\n",
      "    \"f1_wrcmplx_odly_dq_final_bit61\": 0,\n",
      "    \"f1_rddq_idelay_final_bit11\": 0,\n",
      "    \"xpi_read_offset_phy_rden\": 5,\n",
      "    \"f1_wrdqdbi_odly_dq_final_bit25\": 0,\n",
      "    \"f0_wrlvl_crse_final_rank0_byte4\": 3,\n",
      "    \"f1_wrdqdbi_odly_dq_final_bit48\": 0,\n",
      "    \"nsu1_perf_mon_0_1\": 0,\n",
      "    \"f1_wrdqdbi_deskew_dbi_odly_fcrse_byte7\": 0,\n",
      "    \"f1_rdcmplx_idelay_offset_nibble02\": 0,\n",
      "    \"f1_rddq_nqtr_right_fcrse_nibble03\": 0,\n",
      "    \"f0_rd_simp_rise_ctp_nib_00\": [\n",
      "        87,\n",
      "        177\n",
      "    ],\n",
      "    \"f1_dqsgate_stg2_read_lat_rank0_byte4\": 0,\n",
      "    \"f1_rdcmplx_nqtr_right_nibble15\": 0,\n",
      "    \"cal_warning_76\": 0,\n",
      "    \"f0_wrdqdbi_stg2_dq_odly_bit50\": 44,\n",
      "    \"f0_wrdqdbi_odly_dq_final_bit63\": 67,\n",
      "    \"f1_wrdqdbi_stg2_dq_odly_bit52\": 0,\n",
      "    \"f0_wrcmplx_left_margin_byte0\": 72,\n",
      "    \"f1_wrdqdbi_stg2_dq_odly_bit59\": 0,\n",
      "    \"cal_status_init_done\": 1,\n",
      "    \"f1_dqsgate_read_lat_final_byte0\": 0,\n",
      "    \"f0_rd_simp_rise_lm_nib_00\": [\n",
      "        70,\n",
      "        142\n",
      "    ],\n",
      "    \"bisc_nqtr_nibble13\": 77,\n",
      "    \"rdvref_left_vref_low_bound_nibble13\": 0,\n",
      "    \"f0_wrlat_match_rank0_byte4\": 17,\n",
      "    \"cal_warning_32\": 0,\n",
      "    \"f0_dqsgate_stg1_rldlyrnk_fine_rank0_byte3\": 22,\n",
      "    \"cal_stage_time_03\": 0,\n",
      "    \"f0_wrdqdbi_deskew_dq_odly_bit36\": 109,\n",
      "    \"mgchk_def_wr_vref\": 28,\n",
      "    \"f1_wrdqdbi_left_edge_dq_bit16\": 0,\n",
      "    \"f1_rdcmplx_nqtr_final_nibble05\": 0,\n",
      "    \"phy_oe_nib21_dly\": 1,\n",
      "    \"f1_rdcmplx_nqtr_left_nibble00\": 0,\n",
      "    \"f1_wrdqdbi_left_edge_dq_bit26\": 0,\n",
      "    \"f0_wrdqdbi_deskew_dbi_odly_fcrse_byte2\": 89,\n",
      "    \"f1_dqsgate_stg1_overflow_63\": 0,\n",
      "    \"f0_rdprbs_pqtr_right_margin_nibble02\": 0,\n",
      "    \"f0_rd_comp_fall_rm_nib_13\": [\n",
      "        60,\n",
      "        123\n",
      "    ],\n",
      "    \"f1_wrdqdbi_stg1_bit_status_byte6\": 0,\n",
      "    \"f1_rddq_idelay_final_bit28\": 0,\n",
      "    \"f0_wrdqdbi_deskew_dq_odly_bit45\": 128,\n",
      "    \"cal_warning_64\": 0,\n",
      "    \"f0_wrdqdbi_stg2_dqs_odly_byte2\": 35,\n",
      "    \"f0_wrdqdbi_left_edge_dq_bit10\": 47,\n",
      "    \"f1_wrcmplx_left_margin_fcrse_byte6\": 0,\n",
      "    \"f1_wrdqdbi_odly_dq_final_bit59\": 0,\n",
      "    \"f0_wrdqdbi_odly_dq_final_bit37\": 26,\n",
      "    \"cal_error_bit_phy_nibble_13\": 0,\n",
      "    \"rdvref_left_vref_final_nibble14\": 0,\n",
      "    \"f0_dqsgate_stg1_overflow_40\": 0,\n",
      "    \"f0_dqsgate_read_lat_final_byte2\": 26,\n",
      "    \"f0_wrlvl_noise_fcrse_rank0_byte3\": 85,\n",
      "    \"f0_rdcmplx_pqtr_right_short_fcrse_nibble10\": 168,\n",
      "    \"f1_wrdqdbi_right_margin_fcrse_byte5\": 0,\n",
      "    \"f0_wrlvl_fine_left_rank0_byte7\": 58,\n",
      "    \"f0_wrdqdbi_stg2_dq_odly_bit05\": 51,\n",
      "    \"f1_rddq_pqtr_right_nibble14\": 0,\n",
      "    \"cal_stage.01_F0_PHY_BISC\": \"Pass\",\n",
      "    \"f0_rd_simp_rise_lm_nib_15\": [\n",
      "        70,\n",
      "        143\n",
      "    ],\n",
      "    \"cal_warning_01\": 0,\n",
      "    \"f0_rd_simp_fall_rm_nib_01\": [\n",
      "        74,\n",
      "        156\n",
      "    ],\n",
      "    \"f0_wrdqdbi_stg3_dq_odly_bit18\": 19,\n",
      "    \"rdvref_left_vref_low_bound_nibble09\": 0,\n",
      "    \"rdmargin_nqtr_right_nibble07\": 0,\n",
      "    \"cal_seq_status_05\": 263,\n",
      "    \"f0_wrcmplx_odly_dq_final_bit27\": 93,\n",
      "    \"cal_warning_37\": 0,\n",
      "    \"f1_wrdqdbi_stg2_dq_odly_bit28\": 0,\n",
      "    \"f1_wrlvl_fine_right_rank0_byte3\": 0,\n",
      "    \"0x11_F0_READ_DQ_DBI_CAL_COMPLEX\": \"Pass\",\n",
      "    \"f0_rd_comp_fall_lm_nib_05\": [\n",
      "        55,\n",
      "        116\n",
      "    ],\n",
      "    \"f0_mr1_17_9\": 1,\n",
      "    \"0x0a_F0_DQS_GATE_CAL\": \"Pass\",\n",
      "    \"f0_rd_comp_rise_lm_nib_09\": [\n",
      "        61,\n",
      "        123\n",
      "    ],\n",
      "    \"es_vref_max\": 473,\n",
      "    \"rdmargin_nqtr_left_nibble14\": 0,\n",
      "    \"mgchk_rd_vref_0\": 0,\n",
      "    \"f0_dqsgate_stg2_read_lat_rank0_byte4\": 27,\n",
      "    \"nsu1_perf_mon_1_0\": 0,\n",
      "    \"bisc_idly3_align_nibble06\": 68,\n",
      "    \"f0_wrcmplx_left_margin_fcrse_byte5\": 70,\n",
      "    \"f0_rd_simp_fall_ctp_nib_05\": [\n",
      "        101,\n",
      "        213\n",
      "    ],\n",
      "    \"f1_wrdqdbi_stg3_dq_odly_bit05\": 0,\n",
      "    \"f1_wrdqdbi_stg4_dqs_delay_byte0\": 0,\n",
      "    \"f1_wrdqdbi_stg2_dq_odly_bit51\": 0,\n",
      "    \"f0_rddq_pqtr_right_nibble02\": 165,\n",
      "    \"f1_wrdqdbi_deskew_dq_odly_fcrse_bit52\": 0,\n",
      "    \"f1_wrdqdbi_deskew_dbi_odly_byte4\": 0,\n",
      "    \"f1_rdprbs_pqtr_left_margin_nibble00\": 0,\n",
      "    \"cal_warning_39\": 0,\n",
      "    \"f0_dqsgate_stg1_read_lat_rank0_byte4\": 24,\n",
      "    \"f0_wrdqdbi_stg3_dq_odly_bit00\": 51,\n",
      "    \"f0_rd_comp_fall_rm_nib_09\": [\n",
      "        58,\n",
      "        120\n",
      "    ],\n",
      "    \"f0_rdcmplx_pqtr_right_short_nibble13\": 167,\n",
      "    \"f0_rdcmplx_pqtr_left_short_nibble07\": 22,\n",
      "    \"f0_rd_comp_rise_rm_nib_03\": [\n",
      "        64,\n",
      "        129\n",
      "    ],\n",
      "    \"es_vref_min\": 273,\n",
      "    \"wrvref_right_vref_final_rank0_byte4\": 0,\n",
      "    \"f0_wrdqdbi_stg2_dqs_odly_byte1\": 78,\n",
      "    \"f1_dqsgate_stg1_overflow_60\": 0,\n",
      "    \"dc0_perf_mon_3\": 0,\n",
      "    \"f0_rddq_pqtr_right_nibble15\": 158,\n",
      "    \"f1_wrdqdbi_odly_dq_final_bit13\": 0,\n",
      "    \"rdvref_left_vref_final_nibble07\": 0,\n",
      "    \"f0_rdprbs_nqtr_right_margin_nibble11\": 0,\n",
      "    \"f1_wrdqdbi_deskew_dbi_odly_byte6\": 0,\n",
      "    \"f0_wrdqdbi_deskew_dq_odly_bit27\": 158,\n",
      "    \"f0_wrdqdbi_deskew_dq_odly_bit40\": 142,\n",
      "    \"f0_mr0_17_9\": 6,\n",
      "    \"f0_mr0_8_0\": 336,\n",
      "    \"f0_rdcmplx_pqtr_left_nibble00\": 22,\n",
      "    \"f0_wrdqdbi_deskew_dq_odly_bit59\": 131,\n",
      "    \"f0_wrcmplx_odly_dq_final_bit23\": 34,\n",
      "    \"cal_warning_12\": 0,\n",
      "    \"f1_rdcmplx_nqtr_left_nibble07\": 0,\n",
      "    \"f0_wr_simp_lm_byte_06\": [\n",
      "        76,\n",
      "        157\n",
      "    ],\n",
      "    \"f0_rdcmplx_nqtr_right_nibble09\": 143,\n",
      "    \"f1_rdcmplx_pqtr_right_nibble12\": 0,\n",
      "    \"f1_rddq_idelay_final_bit40\": 0,\n",
      "    \"f1_wrdqdbi_left_edge_dq_bit21\": 0,\n",
      "    \"f0_wrcmplx_odly_dq_final_bit62\": 83,\n",
      "    \"f1_wrcmplx_odly_dqs_final_byte6\": 0,\n",
      "    \"f0_rddq_pqtr_final_nibble00\": 87,\n",
      "    \"f0_wrdqdbi_deskew_dq_odly_fcrse_bit02\": 121,\n",
      "    \"f0_wrcmplx_odly_dq_final_bit31\": 99,\n",
      "    \"f1_rdcmplx_nqtr_right_short_nibble00\": 0,\n",
      "    \"f1_rddq_idelay_final_bit33\": 0,\n",
      "    \"dqstrack_rldlyrnk_crse_byte4\": 5,\n",
      "    \"dqstrack_rldlyrnk_crse_min_byte5\": 2,\n",
      "    \"f1_wrdqdbi_left_margin_byte1\": 0,\n",
      "    \"vttrack_rldlyqtr_nibble09\": 77,\n",
      "    \"f0_wrdqdbi_deskew_dq_odly_bit22\": 99,\n",
      "    \"f0_rdprbs_pqtr_right_margin_nibble06\": 0,\n",
      "    \"f1_dqsgate_stg1_read_lat_rank0_byte1\": 0,\n",
      "    \"f1_wrprbs_left_margin_byte0\": 0,\n",
      "    \"f1_rddq_nqtr_right_nibble08\": 0,\n",
      "    \"f0_rddq_pqtr_final_nibble13\": 92,\n",
      "    \"f1_rdprbs_nqtr_left_margin_nibble15\": 0,\n",
      "    \"f0_wrcmplx_odly_dq_final_bit12\": 74,\n",
      "    \"f0_wrdqdbi_stg3_dq_odly_bit59\": 59,\n",
      "    \"f1_wrdqdbi_odly_dq_final_bit16\": 0,\n",
      "    \"f0_rdcmplx_nqtr_left_short_nibble09\": 26,\n",
      "    \"f1_wrlvl_crse_final_rank0_byte5\": 0,\n",
      "    \"f0_rd_comp_rise_lm_nib_13\": [\n",
      "        62,\n",
      "        127\n",
      "    ],\n",
      "    \"bisc_rl_dly_qtr_nibble00\": 76,\n",
      "    \"nsu3_perf_mon_0_1\": 0,\n",
      "    \"f0_rddq_pqtr_final_nibble12\": 89,\n",
      "    \"wrvref_right_vref_final_rank0_byte5\": 0,\n",
      "    \"f1_rdcmplx_pqtr_right_short_nibble13\": 0,\n",
      "    \"f1_calbisc_rl_dly_nqtr_nibble07\": 0,\n",
      "    \"bisc_idly3_align_nibble00\": 68,\n",
      "    \"f0_dqsgate_stg1_overflow_38\": 0,\n",
      "    \"f1_wrlvl_crse_stg1_rank0_byte2\": 0,\n",
      "    \"f1_wrdqdbi_stg1_bit_status_byte2\": 0,\n",
      "    \"f0_rdcmplx_pqtr_right_short_nibble14\": 166,\n",
      "    \"f0_wrdqdbi_left_edge_dq_bit40\": 63,\n",
      "    \"f1_wrdqdbi_odly_dq_final_bit31\": 0,\n",
      "    \"f1_wrdqdbi_deskew_dq_odly_bit43\": 0,\n",
      "    \"ddrmc_isr_nsu_0\": 0,\n",
      "    \"f1_wrdqdbi_stg3_dq_odly_bit55\": 0,\n",
      "    \"f1_wrdqdbi_stg3_dq_odly_bit25\": 0,\n",
      "    \"bisc_pqtr_align_nibble05\": 0,\n",
      "    \"f0_wrdqdbi_stg2_dq_odly_bit53\": 44,\n",
      "    \"cal_error_bit_phy_nibble_06\": 0,\n",
      "    \"f0_wrcmplx_odly_dq_final_bit51\": 47,\n",
      "    \"f1_rdprbs_nqtr_left_margin_nibble02\": 0,\n",
      "    \"f0_wr_comp_ctp_byte_00\": [\n",
      "        218,\n",
      "        451\n",
      "    ],\n",
      "    \"f0_rd_comp_fall_lm_nib_14\": [\n",
      "        61,\n",
      "        125\n",
      "    ],\n",
      "    \"cal_seq_status_43\": 0,\n",
      "    \"f1_calbisc_rl_dly_qtr_nibble15\": 0,\n",
      "    \"f1_wrdqdbi_deskew_dq_odly_fcrse_bit35\": 0,\n",
      "    \"f0_rdcmplx_pqtr_final_nibble04\": 87,\n",
      "    \"f1_wrdqdbi_odly_dq_final_bit49\": 0,\n",
      "    \"f0_rdcmplx_pqtr_final_nibble08\": 83,\n",
      "    \"f0_rddq_qtr_deskew_nibble05\": 1,\n",
      "    \"f0_dqsgate_stg1_overflow_44\": 0,\n",
      "    \"rdvref_vref_low_bound_nibble07\": 0,\n",
      "    \"f1_wrdqdbi_deskew_dq_odly_fcrse_bit63\": 0,\n",
      "    \"f0_rdcmplx_nqtr_left_nibble14\": 29,\n",
      "    \"f0_dqsgate_stg2_rldlyrnk_crse_rank0_byte1\": 0,\n",
      "    \"cal_warning_57\": 0,\n",
      "    \"bisc_pqtr_align_nibble01\": 0,\n",
      "    \"bisc_idly1_align_nibble04\": 66,\n",
      "    \"f1_wrdqdbi_deskew_dq_odly_fcrse_bit01\": 0,\n",
      "    \"f1_rddq_pqtr_right_nibble07\": 0,\n",
      "    \"f1_wrdqdbi_stg2_dq_odly_bit25\": 0,\n",
      "    \"vttrack_rldlyqtr_min_nibble13\": 73,\n",
      "    \"f0_rdprbs_nqtr_left_margin_nibble14\": 0,\n",
      "    \"f1_wrdqdbi_stg2_dq_odly_bit36\": 0,\n",
      "    \"cal_warning_46\": 0,\n",
      "    \"cal_error_bit_phy_nibble_11\": 0,\n",
      "    \"f1_calbisc_rl_dly_qtr_nibble05\": 0,\n",
      "    \"f0_wrcmplx_odly_dbi_final_byte1\": 78,\n",
      "    \"f0_rddq_qtr_deskew_nibble07\": 1,\n",
      "    \"f0_wrcmplx_odly_dqs_final_byte1\": 78,\n",
      "    \"f1_rdcmplx_nqtr_right_nibble00\": 0,\n",
      "    \"f0_wrdqdbi_stg3_dq_odly_bit53\": 44,\n",
      "    \"rdvref_left_vref_low_bound_nibble01\": 0,\n",
      "    \"f0_rdprbs_nqtr_left_margin_nibble02\": 0,\n",
      "    \"f0_rd_simp_rise_rm_nib_07\": [\n",
      "        75,\n",
      "        154\n",
      "    ],\n",
      "    \"rdvref_left_vref_low_bound_nibble15\": 0,\n",
      "    \"f0_dqsgate_stg1_overflow_31\": 0,\n",
      "    \"wrvref_left_vref_def_rank0_byte1\": 0,\n",
      "    \"rdmargin_pqtr_right_nibble05\": 0,\n",
      "    \"f0_wrdqdbi_odly_dq_final_bit02\": 50,\n",
      "    \"f0_wrcmplx_odly_dbi_final_byte0\": 63,\n",
      "    \"rdvref_right_vref_final_nibble07\": 0,\n",
      "    \"f0_wrdqdbi_deskew_dq_odly_bit14\": 137,\n",
      "    \"f1_rdcmplx_idelay_offset_nibble10\": 0,\n",
      "    \"f1_wrcmplx_odly_dq_final_bit30\": 0,\n",
      "    \"f0_wrdqdbi_deskew_dq_odly_fcrse_bit43\": 125,\n",
      "    \"mgchk_rw_mode\": 0,\n",
      "    \"f1_wrdqdbi_deskew_dq_odly_fcrse_bit54\": 0,\n",
      "    \"f0_wrdqdbi_deskew_dq_odly_fcrse_bit57\": 129,\n",
      "    \"f0_rdprbs_pqtr_left_margin_nibble01\": 0,\n",
      "    \"f1_rddq_idelay_final_bit13\": 0,\n",
      "    \"phy_oe_nib13_dly\": 0,\n",
      "    \"f1_dqsgate_stg1_overflow_27\": 0,\n",
      "    \"f0_rddq_idelay_final_bit51\": 75,\n",
      "    \"f1_wrdqdbi_stg3_dq_odly_bit02\": 0,\n",
      "    \"f0_wrlat_init_latency\": 16,\n",
      "    \"cal_stage_time_50\": 0,\n",
      "    \"bisc_nqtr_nibble05\": 78,\n",
      "    \"f0_wrcmplx_odly_dq_final_bit42\": 67,\n",
      "    \"f0_mr6_8_0\": 28,\n",
      "    \"bisc_mon_align_nibble07\": 0,\n",
      "    \"f0_wrdqdbi_deskew_dq_odly_fcrse_bit06\": 131,\n",
      "    \"f0_rdprbs_nqtr_right_margin_nibble08\": 0,\n",
      "    \"f0_wrdqdbi_odly_dqs_final_byte4\": 45,\n",
      "    \"f1_wrdqdbi_left_edge_dq_bit32\": 0,\n",
      "    \"f1_wrdqdbi_left_edge_dq_bit63\": 0,\n",
      "    \"f0_rd_simp_fall_lm_nib_15\": [\n",
      "        72,\n",
      "        150\n",
      "    ],\n",
      "    \"f0_rddq_pqtr_right_fcrse_nibble15\": 162,\n",
      "    \"f0_wrlvl_fine_right_rank0_byte5\": 58,\n",
      "    \"f0_dqsgate_stg1_read_lat_rank0_byte5\": 24,\n",
      "    \"f1_wrdqdbi_stg3_dq_odly_bit51\": 0,\n",
      "    \"phy_oe_nib11_dly\": 0,\n",
      "    \"f1_wrdqdbi_odly_dqs_final_byte5\": 0,\n",
      "    \"f0_rdprbs_nqtr_right_margin_nibble14\": 0,\n",
      "    \"f0_rd_comp_rise_rm_nib_06\": [\n",
      "        60,\n",
      "        123\n",
      "    ],\n",
      "    \"f1_wrdqdbi_left_edge_dq_bit54\": 0,\n",
      "    \"cal_error_bit_phy_nibble_08\": 0,\n",
      "    \"wrvref_right_vref_upp_bound_rank0_byte6\": 0,\n",
      "    \"f0_rd_comp_rise_ctp_nib_06\": [\n",
      "        88,\n",
      "        181\n",
      "    ],\n",
      "    \"f0_rdcmplx_idelay_offset_nibble15\": 0,\n",
      "    \"f1_rddq_idelay_final_bit42\": 0,\n",
      "    \"f0_rddq_pqtr_right_nibble08\": 164,\n",
      "    \"dc1_perf_mon_4\": 0,\n",
      "    \"f1_rddq_pqtr_right_nibble08\": 0,\n",
      "    \"phy_rank_write_override\": 0,\n",
      "    \"f0_rddq_nqtr_right_fcrse_nibble06\": 172,\n",
      "    \"f0_wrdqdbi_stg2_dq_odly_bit03\": 51,\n",
      "    \"f1_wrdqdbi_stg2_dqs_odly_byte1\": 0,\n",
      "    \"f1_wrprbs_right_margin_byte4\": 0,\n",
      "    \"f1_lp4_mr13\": 0,\n",
      "    \"rdvref_right_vref_low_bound_nibble02\": 0,\n",
      "    \"f1_wrdqdbi_deskew_dq_odly_bit29\": 0,\n",
      "    \"lranks\": 1,\n",
      "    \"rdvref_right_vref_upp_bound_nibble02\": 0,\n",
      "    \"f0_wrlat_phy_oe_nib_final_byte7\": 0,\n",
      "    \"f1_wrdqdbi_deskew_dq_odly_bit03\": 0,\n",
      "    \"f1_wrdqdbi_left_edge_dq_bit07\": 0,\n",
      "    \"f0_wrdqdbi_stg3_dq_odly_bit48\": 44,\n",
      "    \"f1_rddq_nqtr_right_nibble14\": 0,\n",
      "    \"f0_rddq_idelay_final_bit42\": 82,\n",
      "    \"f0_wrdqdbi_stg2_dq_odly_bit34\": 29,\n",
      "    \"f0_wrdqdbi_stg3_dq_odly_bit04\": 51,\n",
      "    \"f0_wrdqdbi_odly_dbi_final_byte3\": 78,\n",
      "    \"f1_rdcmplx_nqtr_final_nibble15\": 0,\n",
      "    \"f0_dqsgate_rldlyrnk_crse_final_rank0_byte0\": 0,\n",
      "    \"cal_stage_time_19\": 103,\n",
      "    \"f0_wrdqdbi_deskew_dq_odly_bit60\": 139,\n",
      "    \"f1_lp4_mr23\": 0,\n",
      "    \"f0_wrdqdbi_deskew_dq_odly_fcrse_bit63\": 129,\n",
      "    \"f0_rddq_pqtr_left_nibble12\": 17,\n",
      "    \"f1_wrdqdbi_deskew_dq_odly_bit18\": 0,\n",
      "    \"f1_rddq_pqtr_left_nibble09\": 0,\n",
      "    \"f0_rddq_idelay_final_bit10\": 69,\n",
      "    \"f1_dqsgate_stg1_overflow_40\": 0,\n",
      "    \"f0_dqsgate_stg1_overflow_17\": 0,\n",
      "    \"wrvref_right_vref_low_bound_rank0_byte1\": 0,\n",
      "    \"f1_rddq_nqtr_final_nibble14\": 0,\n",
      "    \"f1_dqsgate_stg1_overflow_03\": 0,\n",
      "    \"rdmargin_pqtr_right_nibble13\": 0,\n",
      "    \"f0_rdcmplx_nqtr_right_short_fcrse_nibble10\": 166,\n",
      "    \"f0_wrdqdbi_deskew_dq_odly_bit63\": 136,\n",
      "    \"cal_seq_status_37\": 314,\n",
      "    \"f1_wrdqdbi_deskew_dq_odly_bit53\": 0,\n",
      "    \"rdmargin_nqtr_left_nibble07\": 0,\n",
      "    \"f0_rdcmplx_idelay_offset_nibble06\": 0,\n",
      "    \"f0_rdcmplx_pqtr_right_short_fcrse_nibble03\": 167,\n",
      "    \"bisc_nqtr_align_nibble07\": 0,\n",
      "    \"f1_dqsgate_stg1_overflow_07\": 0,\n",
      "    \"f0_wrprbs_right_margin_byte5\": 0,\n",
      "    \"f1_rdcmplx_nqtr_right_short_fcrse_nibble09\": 0,\n",
      "    \"bisc_nqtr_align_nibble02\": 1,\n",
      "    \"f0_wrdqdbi_left_edge_dq_bit19\": 15,\n",
      "    \"f0_rd_simp_fall_lm_nib_12\": [\n",
      "        71,\n",
      "        145\n",
      "    ],\n",
      "    \"cal_stage_time_25\": 0,\n",
      "    \"bisc_rl_dly_qtr_nibble07\": 77,\n",
      "    \"f1_wrdqdbi_odly_dqs_final_byte3\": 0,\n",
      "    \"rdvref_vref_upp_bound_nibble02\": 0,\n",
      "    \"rdmargin_pqtr_left_nibble04\": 0,\n",
      "    \"f0_wrlvl_crse_final_rank0_byte1\": 3,\n",
      "    \"cal_seq_status_47\": 0,\n",
      "    \"f0_rdcmplx_idelay_offset_nibble07\": 0,\n",
      "    \"f0_wrdqdbi_stg5_dqs_odly_byte3\": 94,\n",
      "    \"f1_wrcmplx_odly_dq_final_bit17\": 0,\n",
      "    \"cal_warning_78\": 0,\n",
      "    \"f0_rdprbs_pqtr_left_margin_nibble06\": 0,\n",
      "    \"f1_wrdqdbi_stg2_dq_odly_bit33\": 0,\n",
      "    \"f0_lp4_mr23\": 0,\n",
      "    \"f1_wrdqdbi_odly_dq_final_bit45\": 0,\n",
      "    \"f0_rd_simp_rise_lm_nib_03\": [\n",
      "        72,\n",
      "        146\n",
      "    ],\n",
      "    \"cal_pointer_stat\": 6,\n",
      "    \"f1_rdcmplx_nqtr_right_nibble08\": 0,\n",
      "    \"f1_rddq_idelay_final_bit58\": 0,\n",
      "    \"ub_clk_17_9\": 2,\n",
      "    \"f0_rddq_idelay_final_bit46\": 84,\n",
      "    \"nsu0_perf_filter_en_0\": 0,\n",
      "    \"f1_rddq_nqtr_right_fcrse_nibble01\": 0,\n",
      "    \"f0_rddq_nqtr_left_nibble06\": 27,\n",
      "    \"cal_stage_time_57\": 0,\n",
      "    \"f0_wrdqdbi_stg4_dqs_delay_byte1\": 14,\n",
      "    \"f0_rd_comp_rise_lm_nib_08\": [\n",
      "        59,\n",
      "        119\n",
      "    ],\n",
      "    \"f1_wrdqdbi_deskew_dq_odly_bit35\": 0,\n",
      "    \"f0_wr_comp_ctp_byte_01\": [\n",
      "        310,\n",
      "        626\n",
      "    ],\n",
      "    \"bisc_pqtr_align_nibble06\": 0,\n",
      "    \"bisc_idly5_align_nibble11\": 81,\n",
      "    \"f1_wrdqdbi_stg6_dbi_odly_byte5\": 0,\n",
      "    \"rdvref_right_vref_low_bound_nibble06\": 0,\n",
      "    \"bisc_nqtr_nibble11\": 78,\n",
      "    \"f1_dqsgate_stg1_rldlyrnk_crse_rank0_byte0\": 0,\n",
      "    \"bisc_idly2_align_nibble10\": 68,\n",
      "    \"f1_rddq_qtr_deskew_nibble02\": 0,\n",
      "    \"f0_rdcmplx_nqtr_right_short_nibble05\": 169,\n",
      "    \"cal_warning_40\": 0,\n",
      "    \"f1_wrdqdbi_stg2_dq_odly_bit30\": 0,\n",
      "    \"f1_dqsgate_stg1_rldlyrnk_fine_rank0_byte2\": 0,\n",
      "    \"f1_wrdqdbi_deskew_dq_odly_fcrse_bit50\": 0,\n",
      "    \"wrvref_left_vref_low_bound_rank0_byte2\": 0,\n",
      "    \"f0_rddq_idelay_final_bit47\": 77,\n",
      "    \"f0_rdcmplx_nqtr_final_nibble01\": 88,\n",
      "    \"vttrack_rldlyqtr_nibble02\": 76,\n",
      "    \"f1_par_alert_en\": 1,\n",
      "    \"rdvref_vref_final_nibble08\": 0,\n",
      "    \"f0_rddq_nqtr_right_fcrse_nibble07\": 173,\n",
      "    \"f1_dqsgate_stg1_overflow_58\": 0,\n",
      "    \"nsu3_perf_filter_1_0\": 0,\n",
      "    \"f1_rddq_idelay_final_bit27\": 0,\n",
      "    \"f1_wrdqdbi_deskew_dq_odly_bit38\": 0,\n",
      "    \"cal_status_cal_done\": 1,\n",
      "    \"f1_rdcmplx_nqtr_right_nibble06\": 0,\n",
      "    \"rdvref_left_vref_upp_bound_nibble02\": 0,\n",
      "    \"f1_wrlat_match_rank0_byte6\": 0,\n",
      "    \"rdvref_vref_low_bound_nibble04\": 0,\n",
      "    \"f1_wrdqdbi_deskew_dq_odly_fcrse_bit41\": 0,\n",
      "    \"nsu1_perf_mon_ctl_0_1\": 0,\n",
      "    \"f1_wrdqdbi_stg1_dqs_delay_byte7\": 0,\n",
      "    \"iobmap_dq_61_60\": 0,\n",
      "    \"rdmargin_nqtr_right_nibble13\": 0,\n",
      "    \"f0_wrcmplx_right_margin_fcrse_byte6\": 50,\n",
      "    \"f1_wrlat_wldlyrnk_crse_final_rank0_byte4\": 0,\n",
      "    \"f1_rdcmplx_idelay_offset_nibble08\": 0,\n",
      "    \"f0_wrdqdbi_deskew_dq_odly_bit13\": 137,\n",
      "    \"f0_wrcmplx_odly_dq_final_bit57\": 63,\n",
      "    \"f1_rddq_nqtr_final_nibble05\": 0,\n",
      "    \"f0_rdprbs_pqtr_left_margin_nibble12\": 0,\n",
      "    \"f1_wrdqdbi_deskew_dq_odly_fcrse_bit30\": 0,\n",
      "    \"f0_dqsgate_rldlyrnk_crse_final_rank0_byte1\": 0,\n",
      "    \"f1_wrcmplx_odly_dq_final_bit37\": 0,\n",
      "    \"f0_mr6_17_9\": 8,\n",
      "    \"dc1_perf_mon_7\": 0,\n",
      "    \"f0_rddq_pqtr_left_nibble11\": 17,\n",
      "    \"f1_wrprbs_left_margin_byte2\": 0,\n",
      "    \"f1_rddq_nqtr_left_nibble01\": 0,\n",
      "    \"f0_wrdqdbi_deskew_dq_odly_fcrse_bit16\": 109,\n",
      "    \"nsu3_perf_mon_ctl_1_0\": 0,\n",
      "    \"f0_wrlat_wldlyrnk_crse_final_rank0_byte6\": 3,\n",
      "    \"f0_rdcmplx_pqtr_right_short_nibble08\": 166,\n",
      "    \"cal_seq_status_02\": 260,\n",
      "    \"f0_rddq_pqtr_right_nibble14\": 164,\n",
      "    \"wrvref_left_vref_low_bound_rank0_byte7\": 0,\n",
      "    \"f1_wrlat_phy_data_nib_final_byte3\": 0,\n",
      "    \"f0_rd_comp_rise_lm_nib_01\": [\n",
      "        67,\n",
      "        137\n",
      "    ],\n",
      "    \"dqs_gate_overflow\": 0,\n",
      "    \"f0_wrdqdbi_left_edge_dq_bit17\": 11,\n",
      "    \"f1_dqsgate_stg1_overflow_00\": 0,\n",
      "    \"cal_seq_status_13\": 271,\n",
      "    \"f0_rddq_nqtr_final_nibble03\": 93,\n",
      "    \"rdmargin_pqtr_right_nibble01\": 0,\n",
      "    \"f0_calbisc_rl_dly_nqtr_nibble02\": 77,\n",
      "    \"iobmap_dqs_8\": 0,\n",
      "    \"f1_rdcmplx_pqtr_right_short_fcrse_nibble09\": 0,\n",
      "    \"f1_wrcmplx_left_margin_fcrse_byte7\": 0,\n",
      "    \"f0_wrdqdbi_stg6_dbi_odly_byte4\": 29,\n",
      "    \"f1_tck_lsb\": 113,\n",
      "    \"f0_calbisc_rl_dly_nqtr_nibble05\": 74,\n",
      "    \"f0_calbisc_rl_dly_qtr_nibble09\": 76,\n",
      "    \"f0_wrcmplx_left_margin_fcrse_byte1\": 60,\n",
      "    \"f0_wrdqdbi_left_margin_byte1\": 73,\n",
      "    \"iobmap_dqs_0\": 0,\n",
      "    \"f1_wrdqdbi_stg4_dqs_delay_byte7\": 0,\n",
      "    \"f0_rdcmplx_nqtr_left_short_nibble07\": 27,\n",
      "    \"f1_dqsgate_read_lat_final_byte6\": 0,\n",
      "    \"bisc_nqtr_align_nibble04\": 0,\n",
      "    \"dqstrack_rldlyrnk_crse_min_byte4\": 5,\n",
      "    \"f1_wrdqdbi_left_edge_dbi_byte1\": 0,\n",
      "    \"f0_rdcmplx_pqtr_final_nibble13\": 86,\n",
      "    \"wrvref_right_vref_final_rank0_byte1\": 0,\n",
      "    \"f1_wrcmplx_right_margin_fcrse_byte2\": 0,\n",
      "    \"f0_rdprbs_nqtr_right_margin_nibble04\": 0,\n",
      "    \"f0_wrdqdbi_stg2_dq_odly_bit43\": 55,\n",
      "    \"f1_wrdqdbi_deskew_dq_odly_bit54\": 0,\n",
      "    \"f1_rdcmplx_nqtr_right_short_fcrse_nibble04\": 0,\n",
      "    \"f1_wrdqdbi_odly_dq_final_bit34\": 0,\n",
      "    \"bisc_nqtr_align_nibble11\": 2,\n",
      "    \"f1_rddq_pqtr_right_nibble15\": 0,\n",
      "    \"f1_wrdqdbi_right_margin_fcrse_byte0\": 0,\n",
      "    \"f0_rd_comp_fall_rm_nib_04\": [\n",
      "        58,\n",
      "        116\n",
      "    ],\n",
      "    \"f0_wrdqdbi_left_edge_dq_bit22\": 20,\n",
      "    \"f1_wrcmplx_odly_dq_final_bit53\": 0,\n",
      "    \"f0_wr_comp_ctp_byte_04\": [\n",
      "        273,\n",
      "        561\n",
      "    ],\n",
      "    \"f1_mr2_8_0\": 0,\n",
      "    \"f1_wrlat_init_latency\": 0,\n",
      "    \"f0_rd_simp_rise_rm_nib_13\": [\n",
      "        75,\n",
      "        154\n",
      "    ],\n",
      "    \"f0_rdcmplx_nqtr_right_short_fcrse_nibble06\": 163,\n",
      "    \"bisc_idly3_align_nibble14\": 69,\n",
      "    \"f0_calbisc_rl_dly_nqtr_nibble08\": 76,\n",
      "    \"f1_wrdqdbi_stg4_dqs_delay_byte3\": 0,\n",
      "    \"rdmargin_pqtr_right_nibble14\": 0,\n",
      "    \"f1_rddq_idelay_final_bit10\": 0,\n",
      "    \"rdvref_left_vref_def_nibble11\": 0,\n",
      "    \"f1_wrdqdbi_deskew_dq_odly_bit33\": 0,\n",
      "    \"f1_rdcmplx_pqtr_right_short_fcrse_nibble15\": 0,\n",
      "    \"f0_wr_comp_ctp_byte_02\": [\n",
      "        35,\n",
      "        72\n",
      "    ],\n",
      "    \"f0_lp4_mr12\": 0,\n",
      "    \"f1_rddq_pqtr_left_nibble08\": 0,\n",
      "    \"f0_rd_simp_rise_ctp_nib_05\": [\n",
      "        91,\n",
      "        192\n",
      "    ],\n",
      "    \"f0_dqsgate_stg1_read_lat_rank0_byte0\": 24,\n",
      "    \"rdvref_right_vref_low_bound_nibble13\": 0,\n",
      "    \"f1_rddq_pqtr_left_nibble10\": 0,\n",
      "    \"bisc_nqtr_align_nibble13\": 0,\n",
      "    \"f1_wrdqdbi_left_edge_dq_bit31\": 0,\n",
      "    \"f1_wrlvl_crse_final_rank0_byte0\": 0,\n",
      "    \"f1_wrdqdbi_deskew_dq_odly_fcrse_bit08\": 0,\n",
      "    \"cal_stage_time_34\": 0,\n",
      "    \"dqstrack_rldlyrnk_fine_byte5\": 41,\n",
      "    \"cal_stage.05_F0_READ_DQ_CAL\": \"Pass\",\n",
      "    \"f1_wrdqdbi_stg1_bit_status_byte0\": 0,\n",
      "    \"bisc_mon_align_nibble06\": 0,\n",
      "    \"f0_rddq_nqtr_left_nibble15\": 24,\n",
      "    \"iobmap_dq_57_56\": 0,\n",
      "    \"f0_rd_comp_rise_rm_nib_09\": [\n",
      "        62,\n",
      "        125\n",
      "    ],\n",
      "    \"slots\": 1,\n",
      "    \"f1_wrdqdbi_deskew_dq_odly_fcrse_bit16\": 0,\n",
      "    \"f1_wrcmplx_odly_dq_final_bit34\": 0,\n",
      "    \"f0_rddq_pqtr_right_fcrse_nibble08\": 172,\n",
      "    \"f1_wrdqdbi_stg3_dq_odly_bit33\": 0,\n",
      "    \"cal_warning_79\": 0,\n",
      "    \"f0_wrdqdbi_left_edge_dbi_byte1\": 68,\n",
      "    \"f1_rdcmplx_pqtr_right_short_fcrse_nibble04\": 0,\n",
      "    \"f0_rd_simp_rise_rm_nib_05\": [\n",
      "        74,\n",
      "        156\n",
      "    ],\n",
      "    \"f1_wrlat_match_rank0_byte3\": 0,\n",
      "    \"f0_wrlvl_crse_stg1_rank0_byte4\": 3,\n",
      "    \"f1_dqsgate_stg1_overflow_50\": 0,\n",
      "    \"f0_rddq_pqtr_right_nibble09\": 165,\n",
      "    \"f0_tck_msb\": 1,\n",
      "    \"f0_wrlvl_fine_final_rank0_byte4\": 29,\n",
      "    \"f1_rdprbs_nqtr_right_margin_nibble03\": 0,\n",
      "    \"f0_rdcmplx_nqtr_right_short_fcrse_nibble11\": 175,\n",
      "    \"f0_wrdqdbi_stg3_dq_odly_bit50\": 44,\n",
      "    \"f1_wrcmplx_right_margin_fcrse_byte5\": 0,\n",
      "    \"f1_rdcmplx_pqtr_right_nibble15\": 0,\n",
      "    \"vttrack_rldlyqtr_min_nibble09\": 74,\n",
      "    \"f0_wrcmplx_odly_dq_final_bit29\": 93,\n",
      "    \"rdvref_left_vref_final_nibble10\": 0,\n",
      "    \"f0_wrlvl_fine_final_rank0_byte6\": 44,\n",
      "    \"f0_dqsgate_stg1_overflow_15\": 0,\n",
      "    \"ddrmc_isr_nsu_2\": 0,\n",
      "    \"cal_stage_time_51\": 0,\n",
      "    \"f0_rdcmplx_nqtr_final_nibble05\": 89,\n",
      "    \"f0_wrcmplx_odly_dq_final_bit58\": 61,\n",
      "    \"f1_calbisc_rl_dly_qtr_nibble11\": 0,\n",
      "    \"f0_rdcmplx_pqtr_right_nibble12\": 153,\n",
      "    \"f1_wrdqdbi_deskew_dq_odly_fcrse_bit09\": 0,\n",
      "    \"f0_wrdqdbi_left_edge_dq_bit29\": 88,\n",
      "    \"f1_wrdqdbi_left_edge_dbi_byte6\": 0,\n",
      "    \"bisc_idly1_align_nibble12\": 68,\n",
      "    \"f1_dqsgate_stg1_overflow_01\": 0,\n",
      "    \"cal_seq_status_34\": 305,\n",
      "    \"f0_wrdqdbi_deskew_dq_odly_bit50\": 124,\n",
      "    \"wrvref_vref_final_rank0_byte7\": 0,\n",
      "    \"f0_calbisc_rl_dly_nqtr_nibble15\": 75,\n",
      "    \"f0_rdcmplx_pqtr_right_short_nibble03\": 167,\n",
      "    \"rdmargin_pqtr_right_nibble04\": 0,\n",
      "    \"f0_dqsgate_stg1_rldlyrnk_fine_rank0_byte1\": 69,\n",
      "    \"f0_wrcmplx_left_margin_byte4\": 70,\n",
      "    \"f1_rddq_nqtr_right_nibble15\": 0,\n",
      "    \"f1_mr1_rtt_nom\": 0,\n",
      "    \"rdvref_right_vref_low_bound_nibble11\": 0,\n",
      "    \"f0_rddq_pqtr_left_nibble15\": 17,\n",
      "    \"sys_clk_17_9\": 9,\n",
      "    \"f1_wrdqdbi_left_edge_dq_bit37\": 0,\n",
      "    \"f1_wrdqdbi_odly_dq_final_bit17\": 0,\n",
      "    \"f1_rddq_nqtr_right_fcrse_nibble15\": 0,\n",
      "    \"f0_wrdqdbi_right_edge_dqs_byte1\": 148,\n",
      "    \"f1_rdcmplx_pqtr_right_nibble13\": 0,\n",
      "    \"wrvref_right_vref_final_rank0_byte6\": 0,\n",
      "    \"f0_wrcmplx_odly_dq_final_bit37\": 31,\n",
      "    \"f1_rddq_pqtr_final_nibble10\": 0,\n",
      "    \"bisc_idly3_align_nibble01\": 77,\n",
      "    \"f1_dqsgate_stg1_rldlyrnk_crse_rank0_byte6\": 0,\n",
      "    \"f0_wrcmplx_odly_dq_final_bit02\": 57,\n",
      "    \"f1_wrdqdbi_stg3_dq_odly_bit50\": 0,\n",
      "    \"cal_error_bit_phy_nibble_07\": 0,\n",
      "    \"f1_wrdqdbi_left_edge_dbi_byte2\": 0,\n",
      "    \"error_code_ver\": 2,\n",
      "    \"ddrmc_isr_ce0_ecc1\": 0,\n",
      "    \"f1_wrdqdbi_stg2_dq_odly_bit16\": 0,\n",
      "    \"f1_wrdqdbi_stg3_dq_odly_bit06\": 0,\n",
      "    \"f1_rdcmplx_pqtr_left_nibble11\": 0,\n",
      "    \"f0_wrlvl_offset_rank0_byte3\": 78,\n",
      "    \"f1_rddq_pqtr_left_nibble02\": 0,\n",
      "    \"f1_rdprbs_pqtr_left_margin_nibble08\": 0,\n",
      "    \"f0_calbisc_rl_dly_pqtr_nibble11\": 75,\n",
      "    \"f1_wrdqdbi_odly_dq_final_bit23\": 0,\n",
      "    \"f1_rdprbs_pqtr_right_margin_nibble06\": 0,\n",
      "    \"f0_wrdqdbi_left_edge_dq_bit28\": 79,\n",
      "    \"f0_wrdqdbi_stg2_dq_odly_bit39\": 29,\n",
      "    \"cal_post_status_04\": 0,\n",
      "    \"f0_wrdqdbi_stg3_dq_odly_bit32\": 29,\n",
      "    \"f1_wrdqdbi_deskew_dq_odly_bit20\": 0,\n",
      "    \"f0_dqsgate_stg2_read_lat_rank0_byte6\": 27,\n",
      "    \"cal_warning_10\": 0,\n",
      "    \"vttrack_rldlyqtr_max_nibble01\": 80,\n",
      "    \"dqstrack_rldlyrnk_crse_max_byte6\": 3,\n",
      "    \"f0_rddq_nqtr_right_fcrse_nibble09\": 169,\n",
      "    \"f0_rd_comp_rise_lm_nib_14\": [\n",
      "        63,\n",
      "        129\n",
      "    ],\n",
      "    \"rdvref_left_vref_low_bound_nibble10\": 0,\n",
      "    \"f0_wrdqdbi_stg1_bit_status_byte0\": 255,\n",
      "    \"f0_dqsgate_stg2_rldlyrnk_crse_rank0_byte2\": 1,\n",
      "    \"f0_rdcmplx_nqtr_right_short_nibble01\": 170,\n",
      "    \"f1_wrlvl_crse_stg1_rank0_byte6\": 0,\n",
      "    \"f1_wrcmplx_odly_dq_final_bit33\": 0,\n",
      "    \"f1_rdprbs_nqtr_right_margin_nibble04\": 0,\n",
      "    \"f1_rddq_qtr_deskew_nibble14\": 0,\n",
      "    \"cal_warning_16\": 0,\n",
      "    \"bisc_idly3_align_nibble03\": 75,\n",
      "    \"f0_wrlvl_crse_final_rank0_byte5\": 3,\n",
      "    \"f1_rdcmplx_nqtr_right_short_fcrse_nibble12\": 0,\n",
      "    \"bisc_idly4_align_nibble05\": 75,\n",
      "    \"f0_wrcmplx_odly_dbi_final_byte7\": 68,\n",
      "    \"f1_rdcmplx_nqtr_final_nibble13\": 0,\n",
      "    \"bisc_idly5_align_nibble15\": 80,\n",
      "    \"dqstrack_rldlyrnk_crse_min_byte7\": 5,\n",
      "    \"f0_wr_simp_ctp_byte_07\": [\n",
      "        302,\n",
      "        624\n",
      "    ],\n",
      "    \"f0_rdcmplx_pqtr_left_short_nibble14\": 25,\n",
      "    \"iobmap_dq_45_44\": 0,\n",
      "    \"f0_rddq_qtr_deskew_nibble09\": 1,\n",
      "    \"f1_rdprbs_nqtr_right_margin_nibble05\": 0,\n",
      "    \"cal_stage_time_22\": 0,\n",
      "    \"f1_wrdqdbi_left_edge_dq_bit62\": 0,\n",
      "    \"f1_wrdqdbi_odly_dqs_final_byte7\": 0,\n",
      "    \"rdvref_vref_low_bound_nibble10\": 0,\n",
      "    \"f0_wrdqdbi_deskew_dq_odly_fcrse_bit07\": 131,\n",
      "    \"nsu0_perf_mon_ctl_1_0\": 0,\n",
      "    \"cal_stage_time_35\": 0,\n",
      "    \"iobmap_dq_27_26\": 0,\n",
      "    \"f1_rdcmplx_nqtr_right_nibble04\": 0,\n",
      "    \"dqstrack_rldlyrnk_fine_max_byte3\": 28,\n",
      "    \"f0_wr_simp_rm_byte_00\": [\n",
      "        70,\n",
      "        144\n",
      "    ],\n",
      "    \"f1_rddq_pqtr_final_nibble08\": 0,\n",
      "    \"wrvref_vref_low_bound_rank0_byte7\": 0,\n",
      "    \"bisc_idly5_align_nibble08\": 72,\n",
      "    \"f0_wrlvl_fine_left_rank0_byte2\": 17,\n",
      "    \"f0_rddq_idelay_final_bit59\": 79,\n",
      "    \"wrvref_left_vref_def_rank0_byte5\": 0,\n",
      "    \"f0_wrdqdbi_left_edge_dq_bit34\": 30,\n",
      "    \"f0_wrdqdbi_odly_dq_final_bit47\": 55,\n",
      "    \"f1_rddq_idelay_final_bit17\": 0,\n",
      "    \"f1_wrdqdbi_stg2_dq_odly_bit43\": 0,\n",
      "    \"f1_calbisc_rl_dly_nqtr_nibble02\": 0,\n",
      "    \"f1_wrdqdbi_stg3_dq_odly_bit13\": 0,\n",
      "    \"write_data_bitslip_en\": 0,\n",
      "    \"f0_wrdqdbi_odly_dbi_final_byte6\": 49,\n",
      "    \"bisc_nqtr_nibble06\": 77,\n",
      "    \"bisc_pqtr_align_nibble15\": 0,\n",
      "    \"f0_wrdqdbi_stg1_dqs_delay_byte4\": 45,\n",
      "    \"vttrack_rldlyqtr_nibble10\": 76,\n",
      "    \"f1_wrdqdbi_odly_dq_final_bit29\": 0,\n",
      "    \"mgchk_error\": 0,\n",
      "    \"f1_wrdqdbi_deskew_dq_odly_bit00\": 0,\n",
      "    \"f0_wrcmplx_right_margin_byte3\": 60,\n",
      "    \"f0_db_bc0a\": 0,\n",
      "    \"f1_wrlvl_fine_right_rank0_byte4\": 0,\n",
      "    \"bisc_idly4_align_nibble15\": 81,\n",
      "    \"f0_rdprbs_nqtr_left_margin_nibble00\": 0,\n",
      "    \"bisc_idly5_align_nibble07\": 78,\n",
      "    \"bisc_idly0_align_nibble01\": 76,\n",
      "    \"f1_wrdqdbi_stg3_dq_odly_bit26\": 0,\n",
      "    \"f0_wrdqdbi_right_margin_fcrse_byte7\": 60,\n",
      "    \"f1_mr5_17_9\": 0,\n",
      "    \"f1_wrdqdbi_stg2_dqs_odly_byte0\": 0,\n",
      "    \"vttrack_rldlyqtr_max_nibble13\": 80,\n",
      "    \"f0_rdcmplx_pqtr_right_short_nibble06\": 167,\n",
      "    \"bisc_nqtr_align_nibble01\": 4,\n",
      "    \"f1_wrdqdbi_stg5_dqs_odly_byte2\": 0,\n",
      "    \"vttrack_rldlyqtr_nibble06\": 76,\n",
      "    \"dqstrack_rldlyrnk_crse_byte6\": 3,\n",
      "    \"bisc_rl_dly_qtr_nibble05\": 74,\n",
      "    \"bisc_idly2_align_nibble07\": 75,\n",
      "    \"f0_rd_simp_fall_lm_nib_13\": [\n",
      "        71,\n",
      "        145\n",
      "    ],\n",
      "    \"rdvref_vref_upp_bound_nibble03\": 0,\n",
      "    \"0x0d_F0_WRITE_DQ_DBI_CAL\": \"Pass\",\n",
      "    \"f1_wrdqdbi_stg4_dqs_delay_byte4\": 0,\n",
      "    \"f1_wrdqdbi_stg3_dq_odly_bit40\": 0,\n",
      "    \"f0_wr_comp_rm_byte_00\": [\n",
      "        57,\n",
      "        117\n",
      "    ],\n",
      "    \"f1_dqsgate_stg1_overflow_34\": 0,\n",
      "    \"f1_rddq_nqtr_left_nibble13\": 0,\n",
      "    \"ub_clk_8_0\": 2,\n",
      "    \"f1_wrdqdbi_left_edge_dq_bit48\": 0,\n",
      "    \"f1_rdprbs_pqtr_left_margin_nibble02\": 0,\n",
      "    \"f1_wrdqdbi_deskew_dq_odly_bit39\": 0,\n",
      "    \"f0_rdcmplx_pqtr_left_short_nibble10\": 32,\n",
      "    \"iobmap_dq_37_36\": 0,\n",
      "    \"wrvref_left_vref_def_rank0_byte4\": 0,\n",
      "    \"f0_rdcmplx_nqtr_left_nibble15\": 26,\n",
      "    \"phy_rden8_dly\": 22,\n",
      "    \"f1_wrdqdbi_stg2_dq_odly_bit42\": 0,\n",
      "    \"f1_wrcmplx_odly_dqs_final_byte2\": 0,\n",
      "    \"c_code_minor_ver\": 1,\n",
      "    \"bisc_idly4_align_nibble12\": 70,\n",
      "    \"f1_wrdqdbi_stg2_dqs_odly_byte4\": 0,\n",
      "    \"f0_rd_comp_fall_ctp_nib_10\": [\n",
      "        88,\n",
      "        172\n",
      "    ],\n",
      "    \"f1_rdcmplx_nqtr_left_short_nibble15\": 0,\n",
      "    \"f0_wrdqdbi_deskew_dq_odly_fcrse_bit60\": 139,\n",
      "    \"f1_wrdqdbi_odly_dqs_final_byte1\": 0,\n",
      "    \"wrmargin_right_byte1\": 0,\n",
      "    \"rdvref_right_vref_def_nibble01\": 0,\n",
      "    \"f0_wrdqdbi_stg3_dq_odly_bit43\": 55,\n",
      "    \"f0_wrdqdbi_deskew_dq_odly_bit06\": 139,\n",
      "    \"f1_wrdqdbi_deskew_dq_odly_bit02\": 0,\n",
      "    \"vttrack_rldlyqtr_max_nibble10\": 78,\n",
      "    \"f0_wrdqdbi_stg3_dq_odly_bit08\": 62,\n",
      "    \"nsu3_perf_filter_en_1\": 0,\n",
      "    \"nsu3_perf_mon_1_0\": 0,\n",
      "    \"f0_rdcmplx_idelay_offset_nibble10\": 0,\n",
      "    \"f0_db_f0bc6x\": 0,\n",
      "    \"f0_wrcmplx_odly_dqs_final_byte2\": 35,\n",
      "    \"rdvref_vref_final_nibble09\": 0,\n",
      "    \"f0_wrdqdbi_deskew_dq_odly_fcrse_bit23\": 99,\n",
      "    \"f0_dqsgate_stg2_read_lat_rank0_byte3\": 26,\n",
      "    \"iobmap_dq_59_58\": 0,\n",
      "    \"f0_qtr_time\": 156,\n",
      "    \"f1_dqsgate_stg1_overflow_22\": 0,\n",
      "    \"f0_wr_simp_lm_byte_07\": [\n",
      "        77,\n",
      "        159\n",
      "    ],\n",
      "    \"f0_rdcmplx_nqtr_right_short_nibble00\": 170,\n",
      "    \"f0_wrlvl_fine_right_rank0_byte7\": 60,\n",
      "    \"ddrmc_isr_ce0_ecc0\": 0,\n",
      "    \"mgchk_rank\": 0,\n",
      "    \"f0_rdprbs_pqtr_right_margin_nibble03\": 0,\n",
      "    \"cal_stage_time_38\": 0,\n",
      "    \"bisc_nqtr_nibble07\": 78,\n",
      "    \"f0_rdcmplx_pqtr_left_nibble05\": 24,\n",
      "    \"f0_dqsgate_stg1_rldlyrnk_crse_rank0_byte5\": 14,\n",
      "    \"f1_wrlvl_crse_stg1_rank0_byte4\": 0,\n",
      "    \"f1_rdcmplx_pqtr_right_short_nibble05\": 0,\n",
      "    \"f0_rddq_idelay_final_bit05\": 84,\n",
      "    \"cal_seq_status_00\": 384,\n",
      "    \"bisc_mon_align_nibble05\": 0,\n",
      "    \"f0_wrlat_match_rank0_byte7\": 17,\n",
      "    \"f0_rdcmplx_nqtr_right_nibble01\": 150,\n",
      "    \"f0_wrcmplx_right_margin_fcrse_byte2\": 60,\n",
      "    \"f1_rdprbs_pqtr_right_margin_nibble15\": 0,\n",
      "    \"f1_wrdqdbi_deskew_dq_odly_fcrse_bit02\": 0,\n",
      "    \"cal_warning_36\": 0,\n",
      "    \"bisc_nqtr_nibble04\": 78,\n",
      "    \"bisc_rl_dly_qtr_nibble12\": 75,\n",
      "    \"f1_mr3_17_9\": 0,\n",
      "    \"f0_wrdqdbi_odly_dbi_final_byte2\": 27,\n",
      "    \"f1_wrdqdbi_deskew_dq_odly_fcrse_bit26\": 0,\n",
      "    \"f1_rddq_pqtr_right_fcrse_nibble06\": 0,\n",
      "    \"wrvref_vref_upp_bound_rank0_byte3\": 0,\n",
      "    \"iobmap_dqs_2\": 0,\n",
      "    \"f0_rddq_pqtr_left_nibble10\": 17,\n",
      "    \"f1_wrlat_phy_data_nib_final_byte5\": 0,\n",
      "    \"0x00_F0_PHY_BISC\": \"Pass\",\n",
      "    \"rdvref_left_vref_upp_bound_nibble03\": 0,\n",
      "    \"rdvref_right_vref_upp_bound_nibble11\": 0,\n",
      "    \"f1_wrdqdbi_stg3_dq_odly_bit48\": 0,\n",
      "    \"f1_wrdqdbi_stg4_dqs_delay_byte6\": 0,\n",
      "    \"phy_rden6_dly\": 27,\n",
      "    \"f0_wr_comp_lm_byte_05\": [\n",
      "        70,\n",
      "        142\n",
      "    ],\n",
      "    \"f1_wrlat_phy_data_nib_final_byte6\": 0,\n",
      "    \"bisc_nqtr_nibble09\": 75,\n",
      "    \"f1_dqsgate_stg1_overflow_14\": 0,\n",
      "    \"cal_stage_time_54\": 0,\n",
      "    \"f1_wrcmplx_odly_dqs_final_byte5\": 0,\n",
      "    \"f0_rd_comp_fall_rm_nib_05\": [\n",
      "        55,\n",
      "        116\n",
      "    ],\n",
      "    \"f0_wrlvl_crse_stg1_rank0_byte0\": 2,\n",
      "    \"f0_rd_simp_fall_ctp_nib_15\": [\n",
      "        96,\n",
      "        200\n",
      "    ],\n",
      "    \"c_code_major_ver\": 4,\n",
      "    \"f1_wrdqdbi_deskew_dq_odly_bit40\": 0,\n",
      "    \"phy_rden14_dly\": 22,\n",
      "    \"f1_wrdqdbi_left_edge_dq_bit39\": 0,\n",
      "    \"f0_wrlat_phy_data_nib_final_byte5\": 1,\n",
      "    \"f1_rddq_pqtr_left_nibble15\": 0,\n",
      "    \"f0_wrcmplx_odly_dq_final_bit15\": 68,\n",
      "    \"f0_wrlvl_fine_right_rank0_byte4\": 30,\n",
      "    \"f0_wr_comp_lm_byte_00\": [\n",
      "        72,\n",
      "        149\n",
      "    ],\n",
      "    \"f0_wrcmplx_odly_dq_final_bit19\": 28,\n",
      "    \"f0_wrdqdbi_stg3_dq_odly_bit44\": 55,\n",
      "    \"nsu3_perf_filter_en_0\": 0,\n",
      "    \"f1_rdcmplx_pqtr_left_short_nibble07\": 0,\n",
      "    \"f1_wrdqdbi_deskew_dq_odly_bit22\": 0,\n",
      "    \"rdmargin_nqtr_left_nibble02\": 0,\n",
      "    \"f0_rddq_pqtr_final_nibble09\": 91,\n",
      "    \"f1_wrdqdbi_odly_dbi_final_byte0\": 0,\n",
      "    \"f0_rdprbs_nqtr_left_margin_nibble08\": 0,\n",
      "    \"rdmargin_nqtr_right_nibble04\": 0,\n",
      "    \"f0_rdcmplx_idelay_offset_nibble08\": 0,\n",
      "    \"f1_dqsgate_stg1_overflow_33\": 0,\n",
      "    \"f0_dqsgate_stg1_overflow_43\": 0,\n",
      "    \"f1_wrdqdbi_deskew_dbi_odly_fcrse_byte0\": 0,\n",
      "    \"mgchk_bitslect\": 0,\n",
      "    \"f1_rddq_nqtr_right_fcrse_nibble13\": 0,\n",
      "    \"pinout_select\": 17,\n",
      "    \"f0_rdcmplx_nqtr_left_short_nibble10\": 30,\n",
      "    \"f0_wrdqdbi_right_margin_fcrse_byte1\": 70,\n",
      "    \"dual_freq_en\": 0,\n",
      "    \"alert_parity_ch1_error\": 0,\n",
      "    \"f1_wrcmplx_odly_dq_final_bit59\": 0,\n",
      "    \"f0_calbisc_rl_dly_qtr_nibble12\": 75,\n",
      "    \"f0_rdprbs_pqtr_left_margin_nibble15\": 0,\n",
      "    \"f0_wrdqdbi_left_edge_dq_bit31\": 94,\n",
      "    \"f1_rdcmplx_nqtr_right_short_nibble03\": 0,\n",
      "    \"f0_rdprbs_pqtr_right_margin_nibble07\": 0,\n",
      "    \"nsu0_perf_mon_1_2\": 0,\n",
      "    \"f1_wrdqdbi_deskew_dq_odly_fcrse_bit14\": 0,\n",
      "    \"dc1_perf_mon_8\": 0,\n",
      "    \"f0_rdcmplx_nqtr_right_nibble15\": 148,\n",
      "    \"f1_wrdqdbi_odly_dq_final_bit39\": 0,\n",
      "    \"f0_rdcmplx_pqtr_left_nibble06\": 29,\n",
      "    \"f0_dqsgate_rldlyrnk_crse_final_rank0_byte5\": 2,\n",
      "    \"f1_rdcmplx_pqtr_left_short_nibble08\": 0,\n",
      "    \"rdvref_right_vref_upp_bound_nibble14\": 0,\n",
      "    \"f0_rdcmplx_pqtr_left_short_nibble15\": 21,\n",
      "    \"f1_wrcmplx_odly_dbi_final_byte3\": 0,\n",
      "    \"f0_rd_comp_fall_lm_nib_15\": [\n",
      "        61,\n",
      "        127\n",
      "    ],\n",
      "    \"f0_calbisc_rl_dly_nqtr_nibble00\": 76,\n",
      "    \"f1_dqsgate_stg1_rldlyrnk_crse_rank0_byte2\": 0,\n",
      "    \"rdvref_right_vref_low_bound_nibble01\": 0,\n",
      "    \"f0_lp4_mr14\": 0,\n",
      "    \"f1_wrlvl_fine_right_rank0_byte5\": 0,\n",
      "    \"f1_wrdqdbi_odly_dbi_final_byte2\": 0,\n",
      "    \"f1_dqsgate_stg1_overflow_09\": 0,\n",
      "    \"bisc_idly2_align_nibble11\": 76,\n",
      "    \"f1_wrdqdbi_stg2_dq_odly_bit11\": 0,\n",
      "    \"lp4_dqs_osc_track_en\": 0,\n",
      "    \"cal_seq_status_19\": 283,\n",
      "    \"f0_wrdqdbi_deskew_dq_odly_fcrse_bit55\": 124,\n",
      "    \"f1_wrdqdbi_deskew_dq_odly_fcrse_bit46\": 0,\n",
      "    \"f0_rddq_nqtr_right_fcrse_nibble12\": 180,\n",
      "    \"f0_wrdqdbi_deskew_dq_odly_bit54\": 121,\n",
      "    \"f0_rdcmplx_pqtr_final_nibble03\": 85,\n",
      "    \"mgchk_ctrl\": 0,\n",
      "    \"nsu2_perf_filter_1_1\": 0,\n",
      "    \"es_vref_steps\": 14,\n",
      "    \"phy_rden13_dly\": 22,\n",
      "    \"f0_dqsgate_stg1_overflow_56\": 0,\n",
      "    \"f1_wrcmplx_right_margin_byte4\": 0,\n",
      "    \"f0_rddq_idelay_final_bit34\": 73,\n",
      "    \"wrmargin_left_byte6\": 0,\n",
      "    \"wrvref_vref_low_bound_rank0_byte0\": 0,\n",
      "    \"f0_dqsgate_rldlyrnk_crse_final_rank0_byte3\": 2,\n",
      "    \"bisc_idly3_align_nibble05\": 75,\n",
      "    \"f1_wrdqdbi_stg6_dbi_odly_byte3\": 0,\n",
      "    \"bisc_idly4_align_nibble03\": 76,\n",
      "    \"f1_wrdqdbi_left_edge_dq_bit58\": 0,\n",
      "    \"f0_wrcmplx_odly_dq_final_bit09\": 70,\n",
      "    \"f1_rddq_nqtr_right_nibble02\": 0,\n",
      "    \"f0_dqsgate_stg2_rldlyrnk_crse_rank0_byte3\": 2,\n",
      "    \"f0_wrdqdbi_odly_dq_final_bit39\": 32,\n",
      "    \"f0_rdprbs_nqtr_right_margin_nibble05\": 0,\n",
      "    \"iobmap_dq_41_40\": 0,\n",
      "    \"f0_calbisc_rl_dly_pqtr_nibble12\": 75,\n",
      "    \"ddrmc_isr_uc0_ecc0\": 0,\n",
      "    \"f0_dqsgate_stg1_overflow_58\": 0,\n",
      "    \"f0_mr2_17_9\": 0,\n",
      "    \"f0_wrdqdbi_deskew_dq_odly_bit11\": 125,\n",
      "    \"rdvref_right_vref_def_nibble04\": 0,\n",
      "    \"f0_rddq_nqtr_left_nibble13\": 25,\n",
      "    \"f0_wrdqdbi_left_edge_dbi_byte0\": 51,\n",
      "    \"f0_rddq_pqtr_left_nibble00\": 17,\n",
      "    \"f0_wrdqdbi_deskew_dbi_odly_fcrse_byte0\": 121,\n",
      "    \"f0_wrcmplx_odly_dq_final_bit11\": 62,\n",
      "    \"f1_wrlat_match_rank0_byte0\": 0,\n",
      "    \"iobmap_dq_55_54\": 0,\n",
      "    \"f0_wrdqdbi_odly_dq_final_bit03\": 54,\n",
      "    \"f1_wrdqdbi_stg2_dq_odly_bit54\": 0,\n",
      "    \"f1_dqsgate_stg1_overflow_52\": 0,\n",
      "    \"f1_rdcmplx_nqtr_right_short_nibble09\": 0,\n",
      "    \"cal_stage_time_36\": 0,\n",
      "    \"ddrmc_isr_uc1_ecc1\": 0,\n",
      "    \"f0_rd_simp_rise_lm_nib_02\": [\n",
      "        74,\n",
      "        146\n",
      "    ],\n",
      "    \"f1_rdcmplx_nqtr_right_short_fcrse_nibble05\": 0,\n",
      "    \"iobmap_dqs_10\": 0,\n",
      "    \"rdvref_left_vref_final_nibble12\": 0,\n",
      "    \"f0_wrdqdbi_deskew_dq_odly_bit30\": 154,\n",
      "    \"f1_wrdqdbi_right_edge_dqs_byte4\": 0,\n",
      "    \"bisc_idly2_align_nibble05\": 71,\n",
      "    \"rdvref_vref_def\": 0,\n",
      "    \"f0_wrprbs_left_margin_byte0\": 0,\n",
      "    \"cal_stage_time_05\": 0,\n",
      "    \"f0_wrdqdbi_deskew_dbi_odly_byte2\": 98,\n",
      "    \"f0_rd_comp_fall_rm_nib_02\": [\n",
      "        56,\n",
      "        113\n",
      "    ],\n",
      "    \"f1_wrdqdbi_deskew_dq_odly_bit23\": 0,\n",
      "    \"cal_warning_71\": 0,\n",
      "    \"f0_wrcmplx_right_margin_fcrse_byte0\": 50,\n",
      "    \"bisc_idly5_align_nibble06\": 69,\n",
      "    \"f1_wrlat_phy_oe_nib_final_byte7\": 0,\n",
      "    \"wrvref_right_vref_def_rank0_byte1\": 0,\n",
      "    \"f0_wrdqdbi_stg2_dqs_odly_byte0\": 67,\n",
      "    \"vttrack_rldlyqtr_max_nibble05\": 81,\n",
      "    \"f0_wrprbs_right_margin_byte4\": 0,\n",
      "    \"bisc_idly0_align_nibble00\": 66,\n",
      "    \"f0_wrdqdbi_odly_dq_final_bit12\": 65,\n",
      "    \"f0_rddq_idelay_final_bit38\": 78,\n",
      "    \"f1_dqsgate_stg1_overflow_08\": 0,\n",
      "    \"vttrack_rldlyqtr_nibble08\": 76,\n",
      "    \"wrvref_right_vref_low_bound_rank0_byte3\": 0,\n",
      "    \"f1_wrdqdbi_stg3_dq_odly_bit43\": 0,\n",
      "    \"f1_rdcmplx_pqtr_right_short_nibble01\": 0,\n",
      "    \"f0_lp4_mr13\": 0,\n",
      "    \"cal_warning_75\": 0,\n",
      "    \"f0_rd_simp_fall_lm_nib_04\": [\n",
      "        70,\n",
      "        140\n",
      "    ],\n",
      "    \"f0_wrdqdbi_odly_dq_final_bit26\": 80,\n",
      "    \"f0_rdcmplx_pqtr_final_nibble15\": 87,\n",
      "    \"f1_dqsgate_stg1_overflow_18\": 0,\n",
      "    \"f1_ps_factor\": 0.0,\n",
      "    \"iobmap_dqs_13\": 0,\n",
      "    \"wrvref_left_vref_def_rank0_byte2\": 0,\n",
      "    \"f1_wrdqdbi_odly_dq_final_bit08\": 0,\n",
      "    \"f1_wrdqdbi_deskew_dbi_odly_byte5\": 0,\n",
      "    \"f0_rd_simp_rise_rm_nib_04\": [\n",
      "        75,\n",
      "        154\n",
      "    ],\n",
      "    \"f1_rdcmplx_nqtr_right_short_nibble05\": 0,\n",
      "    \"f0_wrdqdbi_left_margin_byte3\": 70,\n",
      "    \"f0_dqsgate_stg1_overflow_59\": 0,\n",
      "    \"f1_wrdqdbi_stg2_dq_odly_bit21\": 0,\n",
      "    \"f0_wrlvl_offset_rank0_byte5\": 78,\n",
      "    \"f0_wrdqdbi_left_edge_dq_bit57\": 54,\n",
      "    \"rdvref_left_vref_def_nibble13\": 0,\n",
      "    \"cal_error_msg\": \"None\",\n",
      "    \"f1_rdcmplx_pqtr_right_nibble03\": 0,\n",
      "    \"f1_rdprbs_nqtr_right_margin_nibble15\": 0,\n",
      "    \"f1_rdprbs_pqtr_left_margin_nibble03\": 0,\n",
      "    \"f1_rddq_nqtr_right_fcrse_nibble05\": 0,\n",
      "    \"f0_wrcmplx_odly_dq_final_bit48\": 57,\n",
      "    \"f1_wrlat_match_rank0_byte4\": 0,\n",
      "    \"cal_stage_time_13\": 73,\n",
      "    \"phy_rden24_dly\": 25,\n",
      "    \"f1_rddq_idelay_final_bit34\": 0,\n",
      "    \"f1_rddq_idelay_final_bit39\": 0,\n",
      "    \"f0_rddq_idelay_final_bit06\": 86,\n",
      "    \"f1_rddq_pqtr_final_nibble01\": 0,\n",
      "    \"f1_dqsgate_stg1_overflow_30\": 0,\n",
      "    \"f1_wrcmplx_right_margin_byte0\": 0,\n",
      "    \"f0_rd_comp_rise_rm_nib_13\": [\n",
      "        63,\n",
      "        129\n",
      "    ],\n",
      "    \"f0_wrdqdbi_stg3_dq_odly_bit30\": 78,\n",
      "    \"f0_wrdqdbi_odly_dq_final_bit38\": 43,\n",
      "    \"f1_wrdqdbi_stg4_dqs_delay_byte2\": 0,\n",
      "    \"f0_rddq_idelay_final_bit61\": 91,\n",
      "    \"iobmap_dq_3_2\": 0,\n",
      "    \"f0_dqsgate_read_lat_final_byte1\": 26,\n",
      "    \"f0_rdprbs_pqtr_left_margin_nibble00\": 0,\n",
      "    \"f1_rddq_pqtr_left_nibble04\": 0,\n",
      "    \"f1_wrdqdbi_stg3_dq_odly_bit12\": 0,\n",
      "    \"rdmargin_nqtr_left_nibble13\": 0,\n",
      "    \"perf_mon_timebase_scale\": 777975,\n",
      "    \"f0_rdcmplx_nqtr_right_short_fcrse_nibble04\": 178,\n",
      "    \"f1_wrlat_phy_oe_nib_final_byte4\": 0,\n",
      "    \"cal_seq_status_06\": 264,\n",
      "    \"bisc_rl_dly_qtr_nibble02\": 78,\n",
      "    \"rdvref_right_vref_def_nibble15\": 0,\n",
      "    \"rdmargin_nqtr_left_nibble06\": 0,\n",
      "    \"rdmargin_nqtr_right_nibble05\": 0,\n",
      "    \"f1_wrdqdbi_right_margin_fcrse_byte1\": 0,\n",
      "    \"f1_rdcmplx_pqtr_final_nibble02\": 0,\n",
      "    \"f0_wrdqdbi_stg2_dq_odly_bit11\": 62,\n",
      "    \"f1_rddq_pqtr_right_nibble03\": 0,\n",
      "    \"f1_dqsgate_stg1_overflow_43\": 0,\n",
      "    \"bisc_nqtr_align_nibble06\": 0,\n",
      "    \"wrvref_vref_low_bound_rank0_byte2\": 0,\n",
      "    \"f0_rddq_idelay_final_bit62\": 84,\n",
      "    \"f0_wrlvl_offset_rank0_byte2\": 78,\n",
      "    \"f0_wrlvl_offset_rank0_byte4\": 78,\n",
      "    \"f1_wrdqdbi_deskew_dq_odly_bit31\": 0,\n",
      "    \"f1_rdprbs_pqtr_left_margin_nibble05\": 0,\n",
      "    \"f1_wrcmplx_odly_dq_final_bit23\": 0,\n",
      "    \"f0_rddq_pqtr_right_fcrse_nibble09\": 172,\n",
      "    \"f0_wrdqdbi_stg2_dq_odly_bit55\": 44,\n",
      "    \"f1_wrdqdbi_left_edge_dbi_byte7\": 0,\n",
      "    \"f1_mr5_8_0\": 0,\n",
      "    \"f0_rddq_nqtr_right_nibble11\": 166,\n",
      "    \"f1_dqsgate_rldlyrnk_crse_final_rank0_byte6\": 0,\n",
      "    \"cal_post_status_self_ref\": 0,\n",
      "    \"f0_calbisc_rl_dly_qtr_nibble00\": 76,\n",
      "    \"f1_wrlvl_fine_final_rank0_byte3\": 0,\n",
      "    \"f1_wrdqdbi_stg2_dq_odly_bit01\": 0,\n",
      "    \"f0_wrdqdbi_deskew_dbi_odly_byte3\": 148,\n",
      "    \"f0_wrdqdbi_odly_dq_final_bit31\": 94,\n",
      "    \"nsu0_perf_mon_ctl_0_1\": 0,\n",
      "    \"iobmap_dqs_4\": 0,\n",
      "    \"vttrack_rldlyqtr_min_nibble14\": 72,\n",
      "    \"f0_rddq_nqtr_right_nibble13\": 168,\n",
      "    \"f1_wrdqdbi_deskew_dq_odly_bit28\": 0,\n",
      "    \"f0_wrdqdbi_left_edge_dbi_byte7\": 59,\n",
      "    \"f1_wrdqdbi_odly_dq_final_bit46\": 0,\n",
      "    \"ip_config_ver\": 1,\n",
      "    \"f0_mr5_8_0\": 0,\n",
      "    \"f0_wrdqdbi_left_edge_dq_bit06\": 59,\n",
      "    \"f0_wrdqdbi_left_edge_dq_bit61\": 72,\n",
      "    \"f1_wrdqdbi_stg4_byte_status_00\": 0,\n",
      "    \"f1_rddq_idelay_final_bit26\": 0,\n",
      "    \"f0_calbisc_rl_dly_pqtr_nibble15\": 76,\n",
      "    \"cal_error_bit_phy_nibble_18\": 0,\n",
      "    \"f1_wrdqdbi_stg3_dq_odly_bit07\": 0,\n",
      "    \"f1_rddq_idelay_final_bit04\": 0,\n",
      "    \"f1_dqsgate_stg1_overflow_44\": 0,\n",
      "    \"f1_calbisc_rl_dly_pqtr_nibble04\": 0,\n",
      "    \"f0_rd_comp_rise_ctp_nib_09\": [\n",
      "        86,\n",
      "        175\n",
      "    ],\n",
      "    \"f0_wrdqdbi_stg3_dq_odly_bit07\": 51,\n",
      "    \"f1_rdcmplx_pqtr_left_nibble12\": 0,\n",
      "    \"f0_dqsgate_stg1_overflow_12\": 0,\n",
      "    \"cal_error_bit_phy_nibble_00\": 0,\n",
      "    \"f1_wrcmplx_odly_dq_final_bit06\": 0,\n",
      "    \"f0_rdcmplx_pqtr_right_nibble06\": 148,\n",
      "    \"f0_dqsgate_rldlyrnk_crse_final_rank0_byte4\": 1,\n",
      "    \"f1_rddq_pqtr_left_nibble12\": 0,\n",
      "    \"f1_wrdqdbi_deskew_dq_odly_bit27\": 0,\n",
      "    \"f1_wrcmplx_odly_dq_final_bit54\": 0,\n",
      "    \"f1_wrdqdbi_stg3_dq_odly_bit53\": 0,\n",
      "    \"f0_wrdqdbi_stg3_dq_odly_bit57\": 59,\n",
      "    \"f0_rd_comp_fall_lm_nib_00\": [\n",
      "        62,\n",
      "        127\n",
      "    ],\n",
      "    \"f1_rdcmplx_idelay_offset_nibble13\": 0,\n",
      "    \"f0_rddq_pqtr_right_fcrse_nibble14\": 172,\n",
      "    \"f1_wrdqdbi_left_edge_dbi_byte4\": 0,\n",
      "    \"f0_wrdqdbi_right_margin_byte7\": 61,\n",
      "    \"f1_dqsgate_stg1_read_lat_rank0_byte3\": 0,\n",
      "    \"f1_wrdqdbi_stg1_dqs_delay_byte2\": 0,\n",
      "    \"f1_wrdqdbi_deskew_dq_odly_fcrse_bit62\": 0,\n",
      "    \"f0_rddq_pqtr_left_nibble01\": 17,\n",
      "    \"f0_wrdqdbi_deskew_dbi_odly_fcrse_byte3\": 148,\n",
      "    \"f0_wrdqdbi_odly_dq_final_bit11\": 53,\n",
      "    \"f0_wrcmplx_odly_dq_final_bit45\": 59,\n",
      "    \"f1_wrcmplx_odly_dq_final_bit63\": 0,\n",
      "    \"f1_rdprbs_pqtr_right_margin_nibble12\": 0,\n",
      "    \"rdvref_right_vref_upp_bound_nibble13\": 0,\n",
      "    \"f0_rddq_nqtr_right_nibble14\": 169,\n",
      "    \"f1_rddq_nqtr_right_fcrse_nibble14\": 0,\n",
      "    \"f1_wrdqdbi_odly_dq_final_bit05\": 0,\n",
      "    \"tag_ver_2\": 0,\n",
      "    \"f1_rddq_pqtr_right_nibble00\": 0,\n",
      "    \"f1_wrdqdbi_deskew_dq_odly_fcrse_bit44\": 0,\n",
      "    \"f1_rdcmplx_nqtr_left_nibble01\": 0,\n",
      "    \"f0_wrdqdbi_stg3_dq_odly_bit56\": 59,\n",
      "    \"f1_wrdqdbi_left_edge_dq_bit45\": 0,\n",
      "    \"f0_rddq_nqtr_right_nibble05\": 171,\n",
      "    \"f1_wrcmplx_odly_dq_final_bit49\": 0,\n",
      "    \"nsu1_perf_mon_1_1\": 0,\n",
      "    \"f0_calbisc_rl_dly_qtr_nibble13\": 76,\n",
      "    \"f1_wrlvl_fine_final_rank0_byte6\": 0,\n",
      "    \"f0_rddq_pqtr_right_nibble11\": 168,\n",
      "    \"f0_wrdqdbi_deskew_dq_odly_fcrse_bit35\": 89,\n",
      "    \"bisc_idly4_align_nibble04\": 69,\n",
      "    \"f1_wrcmplx_odly_dq_final_bit04\": 0,\n",
      "    \"f1_wrcmplx_odly_dq_final_bit51\": 0,\n",
      "    \"f0_wr_comp_ctp_byte_07\": [\n",
      "        302,\n",
      "        624\n",
      "    ],\n",
      "    \"f0_wrlvl_fine_final_rank0_byte3\": 78,\n",
      "    \"f0_rddq_nqtr_right_nibble12\": 168,\n",
      "    \"f0_dqsgate_stg1_overflow_05\": 0,\n",
      "    \"ddrmc_isr_dc_cmd1_fatal\": 0,\n",
      "    \"f1_mr4_8_0\": 0,\n",
      "    \"wrvref_right_vref_def_rank0_byte5\": 0,\n",
      "    \"f0_dqsgate_stg1_overflow_54\": 0,\n",
      "    \"f0_wrlvl_noise_fcrse_rank0_byte5\": 55,\n",
      "    \"f0_wrdqdbi_deskew_dq_odly_fcrse_bit20\": 99,\n",
      "    \"f1_rdprbs_pqtr_left_margin_nibble14\": 0,\n",
      "    \"f0_rddq_qtr_deskew_nibble11\": 1,\n",
      "    \"cal_warning_49\": 0,\n",
      "    \"f0_rddq_qtr_deskew_nibble06\": 1,\n",
      "    \"f0_rdcmplx_pqtr_final_nibble05\": 86,\n",
      "    \"f0_wrcmplx_odly_dq_final_bit36\": 44,\n",
      "    \"f0_rd_simp_rise_ctp_nib_06\": [\n",
      "        91,\n",
      "        187\n",
      "    ],\n",
      "    \"rdmargin_pqtr_left_nibble07\": 0,\n",
      "    \"f0_wrdqdbi_deskew_dq_odly_bit56\": 142,\n",
      "    \"f0_wrdqdbi_left_edge_dq_bit18\": 23,\n",
      "    \"f0_wrcmplx_odly_dq_final_bit33\": 27,\n",
      "    \"f1_rddq_qtr_deskew_nibble13\": 0,\n",
      "    \"f1_wrdqdbi_odly_dq_final_bit38\": 0,\n",
      "    \"f0_rd_comp_rise_ctp_nib_14\": [\n",
      "        89,\n",
      "        183\n",
      "    ],\n",
      "    \"f0_wrdqdbi_left_edge_dq_bit11\": 52,\n",
      "    \"bisc_idly2_align_nibble14\": 67,\n",
      "    \"f1_rddq_pqtr_final_nibble09\": 0,\n",
      "    \"f1_dqsgate_stg1_overflow_26\": 0,\n",
      "    \"f0_wrdqdbi_odly_dq_final_bit30\": 84,\n",
      "    \"f0_wrcmplx_odly_dq_final_bit22\": 33,\n",
      "    \"f1_wrcmplx_odly_dq_final_bit19\": 0,\n",
      "    \"f1_wrdqdbi_stg2_dq_odly_bit40\": 0,\n",
      "    \"bisc_nqtr_align_nibble10\": 0,\n",
      "    \"f0_wrdqdbi_stg3_dq_odly_bit38\": 29,\n",
      "    \"f0_wrdqdbi_stg2_dq_odly_bit22\": 19,\n",
      "    \"f0_wrdqdbi_stg2_dq_odly_bit36\": 29,\n",
      "    \"f0_calbisc_rl_dly_qtr_nibble05\": 74,\n",
      "    \"f0_wrdqdbi_stg2_dq_odly_bit31\": 78,\n",
      "    \"f0_wr_simp_lm_byte_03\": [\n",
      "        70,\n",
      "        142\n",
      "    ],\n",
      "    \"f1_rdcmplx_pqtr_left_short_nibble00\": 0,\n",
      "    \"f0_rdprbs_pqtr_right_margin_nibble01\": 0,\n",
      "    \"f1_wrdqdbi_stg2_dq_odly_bit00\": 0,\n",
      "    \"dc0_perf_mon_0\": 0,\n",
      "    \"cal_stage_time_39\": 0,\n",
      "    \"wrvref_right_vref_upp_bound_rank0_byte2\": 0,\n",
      "    \"f0_rdcmplx_nqtr_left_nibble02\": 32,\n",
      "    \"f1_wrdqdbi_stg2_dq_odly_bit38\": 0,\n",
      "    \"f0_rddq_qtr_deskew_nibble14\": 1,\n",
      "    \"f0_rdcmplx_nqtr_final_nibble10\": 88,\n",
      "    \"f0_dqsgate_stg1_overflow_16\": 0,\n",
      "    \"wrvref_left_vref_low_bound_rank0_byte1\": 0,\n",
      "    \"f0_wrlvl_fine_right_rank0_byte0\": 53,\n",
      "    \"f1_rddq_pqtr_right_fcrse_nibble07\": 0,\n",
      "    \"f1_wrdqdbi_stg2_dq_odly_bit20\": 0,\n",
      "    \"f0_rdcmplx_pqtr_right_nibble08\": 143,\n",
      "    \"f1_rddq_nqtr_left_nibble04\": 0,\n",
      "    \"cal_stage_time_15\": 0,\n",
      "    \"f0_calbisc_rl_dly_pqtr_nibble00\": 77,\n",
      "    \"f1_wrdqdbi_deskew_dq_odly_fcrse_bit53\": 0,\n",
      "    \"f1_wrlat_wldlyrnk_crse_final_rank0_byte6\": 0,\n",
      "    \"f0_wrdqdbi_left_edge_dq_bit41\": 49,\n",
      "    \"f1_read_latency\": 1,\n",
      "    \"f1_rddq_idelay_final_bit63\": 0,\n",
      "    \"cal_pre_status_8_0\": 255,\n",
      "    \"f0_wrdqdbi_deskew_dq_odly_fcrse_bit56\": 139,\n",
      "    \"f0_rdcmplx_nqtr_right_short_fcrse_nibble09\": 172,\n",
      "    \"f1_rddq_qtr_deskew_nibble05\": 0,\n",
      "    \"nsu3_perf_mon_ctl_1_1\": 0,\n",
      "    \"rdmargin_pqtr_left_nibble12\": 0,\n",
      "    \"f0_wrdqdbi_deskew_dq_odly_fcrse_bit28\": 148,\n",
      "    \"f1_dqsgate_stg1_overflow_25\": 0,\n",
      "    \"f1_wrdqdbi_left_edge_dq_bit46\": 0,\n",
      "    \"phy_oe_nib7_dly\": 1,\n",
      "    \"f1_rdcmplx_nqtr_right_short_fcrse_nibble13\": 0,\n",
      "    \"phy_rden3_dly\": 27,\n",
      "    \"f1_rdprbs_pqtr_left_margin_nibble15\": 0,\n",
      "    \"rdmargin_pqtr_right_nibble10\": 0,\n",
      "    \"rdvref_vref_final_nibble07\": 0,\n",
      "    \"f0_wrlat_phy_data_nib_final_byte0\": 0,\n",
      "    \"f1_wrdqdbi_stg1_bit_status_byte1\": 0,\n",
      "    \"f1_wrcmplx_odly_dq_final_bit52\": 0,\n",
      "    \"f1_wrdqdbi_stg3_dq_odly_bit28\": 0,\n",
      "    \"rdvref_vref_final_nibble13\": 0,\n",
      "    \"f1_dqsgate_stg1_overflow_02\": 0,\n",
      "    \"f0_wrdqdbi_deskew_dq_odly_bit55\": 124,\n",
      "    \"cal_error_bit_phy_nibble_21\": 0,\n",
      "    \"f0_rddq_nqtr_left_nibble00\": 23,\n",
      "    \"cal_error_rank\": 17,\n",
      "    \"f1_rdcmplx_nqtr_right_short_fcrse_nibble06\": 0,\n",
      "    \"f1_rdcmplx_nqtr_right_nibble03\": 0,\n",
      "    \"f1_wrdqdbi_odly_dbi_final_byte7\": 0,\n",
      "    \"f0_dqsgate_stg2_read_lat_rank0_byte1\": 26,\n",
      "    \"f0_wrdqdbi_deskew_dbi_odly_byte5\": 134,\n",
      "    \"f0_rdcmplx_idelay_offset_nibble00\": 0,\n",
      "    \"f1_wrlat_min_latency\": 0,\n",
      "    \"nsu2_perf_mon_0_2\": 0,\n",
      "    \"rdvref_left_vref_low_bound_nibble12\": 0,\n",
      "    \"wrvref_vref_low_bound_rank0_byte4\": 0,\n",
      "    \"f0_rdcmplx_nqtr_right_short_nibble03\": 165,\n",
      "    \"f1_wrdqdbi_deskew_dq_odly_fcrse_bit32\": 0,\n",
      "    \"f0_wrdqdbi_stg3_dq_odly_bit24\": 78,\n",
      "    \"f1_wrdqdbi_odly_dq_final_bit09\": 0,\n",
      "    \"f1_wrcmplx_odly_dq_final_bit02\": 0,\n",
      "    \"mgchk_pattern_config_0\": 0,\n",
      "    \"f0_wrdqdbi_deskew_dq_odly_fcrse_bit05\": 131,\n",
      "    \"f1_wrcmplx_odly_dq_final_bit00\": 0,\n",
      "    \"f0_rdcmplx_pqtr_final_nibble11\": 91,\n",
      "    \"f0_wrdqdbi_stg5_dqs_odly_byte5\": 71,\n",
      "    \"f1_rddq_pqtr_left_nibble05\": 0,\n",
      "    \"f0_wr_comp_lm_byte_06\": [\n",
      "        68,\n",
      "        140\n",
      "    ],\n",
      "    \"bisc_idly4_align_nibble13\": 80,\n",
      "    \"dqstrack_rldlyrnk_fine_max_byte7\": 36,\n",
      "    \"f0_wrdqdbi_left_edge_dq_bit32\": 32,\n",
      "    \"f1_wrdqdbi_stg2_dq_odly_bit04\": 0,\n",
      "    \"f1_wrcmplx_odly_dq_final_bit39\": 0,\n",
      "    \"nsu3_perf_filter_0_1\": 0,\n",
      "    \"f0_dqsgate_read_lat_final_byte4\": 27,\n",
      "    \"wrmargin_left_byte1\": 0,\n",
      "    \"f1_wrlvl_fine_final_rank0_byte2\": 0,\n",
      "    \"f1_wrdqdbi_left_edge_dq_bit27\": 0,\n",
      "    \"f1_dqsgate_stg2_rldlyrnk_crse_rank0_byte5\": 0,\n",
      "    \"f1_wrdqdbi_left_edge_dq_bit38\": 0,\n",
      "    \"f1_wrdqdbi_left_margin_byte6\": 0,\n",
      "    \"f0_wrdqdbi_odly_dq_final_bit41\": 55,\n",
      "    \"wrvref_left_vref_low_bound_rank0_byte3\": 0,\n",
      "    \"f0_rdcmplx_idelay_offset_nibble04\": 0,\n",
      "    \"f0_rdcmplx_pqtr_right_nibble09\": 148,\n",
      "    \"f1_dqsgate_stg2_rldlyrnk_crse_rank0_byte1\": 0,\n",
      "    \"f1_wrdqdbi_left_edge_dq_bit44\": 0,\n",
      "    \"f1_wrdqdbi_right_margin_fcrse_byte3\": 0,\n",
      "    \"f1_wrdqdbi_deskew_dq_odly_bit24\": 0,\n",
      "    \"f1_rdprbs_pqtr_right_margin_nibble00\": 0,\n",
      "    \"f0_wrdqdbi_odly_dqs_final_byte3\": 95,\n",
      "    \"f0_wrcmplx_right_margin_fcrse_byte1\": 50,\n",
      "    \"cal_error_phy_nibble_26_18\": 0,\n",
      "    \"rdvref_vref_upp_bound_nibble05\": 0,\n",
      "    \"rdvref_right_vref_upp_bound_nibble03\": 0,\n",
      "    \"f0_wrdqdbi_deskew_dq_odly_fcrse_bit49\": 104,\n",
      "    \"f0_dqsgate_stg2_read_lat_rank0_byte0\": 26,\n",
      "    \"f1_rddq_qtr_deskew_nibble15\": 0,\n",
      "    \"bisc_nqtr_align_nibble08\": 0,\n",
      "    \"f0_wrdqdbi_stg5_dqs_odly_byte0\": 67,\n",
      "    \"f0_wrdqdbi_left_edge_dq_bit49\": 37,\n",
      "    \"f1_wrlvl_fine_right_rank0_byte2\": 0,\n",
      "    \"f1_rdprbs_pqtr_right_margin_nibble04\": 0,\n",
      "    \"cal_seq_status_07\": 265,\n",
      "    \"f0_wrcmplx_odly_dq_final_bit61\": 81,\n",
      "    \"f0_wrdqdbi_deskew_dq_odly_fcrse_bit00\": 131,\n",
      "    \"f0_rddq_idelay_final_bit21\": 86,\n",
      "    \"f0_wrlat_match_rank0_byte2\": 17,\n",
      "    \"f1_dqsgate_stg1_overflow_42\": 0,\n",
      "    \"f1_rdcmplx_pqtr_right_nibble09\": 0,\n",
      "    \"wrvref_vref_low_bound_rank0_byte1\": 0,\n",
      "    \"f1_wrcmplx_right_margin_byte5\": 0,\n",
      "    \"f0_rddq_idelay_final_bit33\": 60,\n",
      "    \"bisc_nqtr_align_nibble15\": 3,\n",
      "    \"f0_wrdqdbi_odly_dq_final_bit40\": 69,\n",
      "    \"f1_wrdqdbi_odly_dbi_final_byte3\": 0,\n",
      "    \"vttrack_rldlyqtr_nibble03\": 77,\n",
      "    \"f0_rddq_pqtr_right_fcrse_nibble12\": 172,\n",
      "    \"f1_rddq_idelay_final_bit45\": 0,\n",
      "    \"f1_wrdqdbi_left_edge_dq_bit17\": 0,\n",
      "    \"f0_wrcmplx_odly_dq_final_bit50\": 57,\n",
      "    \"f0_rdcmplx_nqtr_right_short_fcrse_nibble08\": 172,\n",
      "    \"cal_stage_time_49\": 0,\n",
      "    \"f1_rddq_qtr_deskew_nibble10\": 0,\n",
      "    \"f0_rdcmplx_nqtr_right_short_nibble13\": 170,\n",
      "    \"f0_dqsgate_stg1_overflow_08\": 0,\n",
      "    \"wrvref_vref_upp_bound_rank0_byte7\": 0,\n",
      "    \"f0_mr4_8_0\": 0,\n",
      "    \"reg_safe_config0\": 440468484,\n",
      "    \"dc0_perf_mon\": 62,\n",
      "    \"f1_rdcmplx_idelay_offset_nibble12\": 0,\n",
      "    \"f1_calbisc_rl_dly_qtr_nibble09\": 0,\n",
      "    \"f0_rd_simp_fall_ctp_nib_08\": [\n",
      "        96,\n",
      "        197\n",
      "    ],\n",
      "    \"f1_wrdqdbi_stg3_dq_odly_bit58\": 0,\n",
      "    \"ddrmc_isr_na_cmd_fatal\": 0,\n",
      "    \"f0_rddq_idelay_final_bit29\": 82,\n",
      "    \"f1_wrprbs_left_margin_byte3\": 0,\n",
      "    \"f0_wrdqdbi_stg2_dq_odly_bit38\": 29,\n",
      "    \"iobmap_dq_19_18\": 0,\n",
      "    \"f1_wrdqdbi_deskew_dq_odly_fcrse_bit61\": 0,\n",
      "    \"rdvref_left_vref_def_nibble04\": 0,\n",
      "    \"f1_rddq_idelay_final_bit31\": 0,\n",
      "    \"f1_wrdqdbi_stg3_dq_odly_bit00\": 0,\n",
      "    \"f1_rdcmplx_pqtr_left_nibble06\": 0,\n",
      "    \"f1_rdcmplx_nqtr_right_nibble01\": 0,\n",
      "    \"f1_rdprbs_pqtr_left_margin_nibble01\": 0,\n",
      "    \"f1_wrprbs_left_margin_byte4\": 0,\n",
      "    \"f0_wrlvl_fine_final_rank0_byte2\": 19,\n",
      "    \"f0_rdcmplx_pqtr_right_short_fcrse_nibble13\": 169,\n",
      "    \"f0_wrdqdbi_stg2_dq_odly_bit23\": 19,\n",
      "    \"f1_dqsgate_stg1_overflow_41\": 0,\n",
      "    \"f0_dqsgate_stg1_overflow_28\": 0,\n",
      "    \"dqstrack_rldlyrnk_crse_byte0\": 4,\n",
      "    \"rdmargin_pqtr_right_nibble11\": 0,\n",
      "    \"f1_rdcmplx_pqtr_final_nibble15\": 0,\n",
      "    \"f0_wrlvl_fine_left_rank0_byte6\": 43,\n",
      "    \"wrvref_vref_upp_bound_rank0_byte2\": 0,\n",
      "    \"wrmargin_right_byte6\": 0,\n",
      "    \"f0_wrcmplx_left_margin_byte7\": 67,\n",
      "    \"f1_rddq_idelay_final_bit41\": 0,\n",
      "    \"f1_wrlat_xpi_wrdata_all_final\": 0,\n",
      "    \"rdvref_left_vref_final_nibble02\": 0,\n",
      "    \"f0_dqsgate_stg1_overflow_33\": 0,\n",
      "    \"f0_wrdqdbi_stg2_dq_odly_bit40\": 55,\n",
      "    \"f1_wrdqdbi_deskew_dq_odly_fcrse_bit15\": 0,\n",
      "    \"f0_wrdqdbi_deskew_dq_odly_fcrse_bit59\": 129,\n",
      "    \"f1_wrdqdbi_deskew_dq_odly_bit21\": 0,\n",
      "    \"f1_rddq_pqtr_left_nibble00\": 0,\n",
      "    \"bisc_idly1_align_nibble09\": 78,\n",
      "    \"f1_rdprbs_nqtr_left_margin_nibble09\": 0,\n",
      "    \"f1_wrlat_phy_oe_nib_final_byte0\": 0,\n",
      "    \"rdvref_right_vref_final_nibble12\": 0,\n",
      "    \"bisc_pqtr_align_nibble11\": 0,\n",
      "    \"bisc_idly5_align_nibble03\": 78,\n",
      "    \"f1_dqsgate_stg1_overflow_59\": 0,\n",
      "    \"f1_rddq_idelay_final_bit51\": 0,\n",
      "    \"f1_dqsgate_stg1_read_lat_rank0_byte2\": 0,\n",
      "    \"f0_dqsgate_stg1_overflow_19\": 0,\n",
      "    \"rdvref_left_vref_low_bound_nibble00\": 0,\n",
      "    \"f0_wrdqdbi_deskew_dq_odly_bit08\": 129,\n",
      "    \"f1_rddq_pqtr_right_fcrse_nibble04\": 0,\n",
      "    \"f1_rddq_nqtr_final_nibble08\": 0,\n",
      "    \"nsu0_perf_filter_1_0\": 0,\n",
      "    \"f1_wrcmplx_odly_dbi_final_byte6\": 0,\n",
      "    \"wrvref_vref_low_bound_rank0_byte5\": 0,\n",
      "    \"f0_rddq_pqtr_final_nibble03\": 89,\n",
      "    \"f0_dqsgate_stg1_overflow_07\": 0,\n",
      "    \"f1_wrdqdbi_stg2_dq_odly_bit35\": 0,\n",
      "    \"f0_wrdqdbi_left_edge_dq_bit13\": 64,\n",
      "    \"f1_calbisc_rl_dly_pqtr_nibble11\": 0,\n",
      "    \"f0_rddq_pqtr_left_nibble03\": 17,\n",
      "    \"f1_lp4_mr12\": 0,\n",
      "    \"f0_rdcmplx_nqtr_right_nibble07\": 142,\n",
      "    \"f0_rdprbs_pqtr_right_margin_nibble11\": 0,\n",
      "    \"f1_wrlat_wldlyrnk_crse_final_rank0_byte5\": 0,\n",
      "    \"f1_rdcmplx_nqtr_right_nibble05\": 0,\n",
      "    \"cal_stage_time_11\": 76,\n",
      "    \"cal_seq_status_46\": 0,\n",
      "    \"f1_rdcmplx_nqtr_right_short_fcrse_nibble00\": 0,\n",
      "    \"f1_wrcmplx_odly_dq_final_bit35\": 0,\n",
      "    \"cal_pointer\": 447,\n",
      "    \"phy_rden4_dly\": 27,\n",
      "    \"f0_rd_simp_rise_lm_nib_10\": [\n",
      "        75,\n",
      "        154\n",
      "    ],\n",
      "    \"f1_rdcmplx_nqtr_left_nibble06\": 0,\n",
      "    \"f0_wrlvl_crse_stg1_rank0_byte6\": 3,\n",
      "    \"f0_rdcmplx_pqtr_right_short_fcrse_nibble11\": 174,\n",
      "    \"reg_safe_config7\": 262696,\n",
      "    \"wrmargin_left_byte3\": 0,\n",
      "    \"f0_wrdqdbi_left_edge_dq_bit56\": 65,\n",
      "    \"f1_wrdqdbi_deskew_dq_odly_fcrse_bit04\": 0,\n",
      "    \"f1_rdprbs_nqtr_right_margin_nibble14\": 0,\n",
      "    \"cal_post_status_01\": 0,\n",
      "    \"f1_wrdqdbi_stg6_dbi_odly_byte4\": 0,\n",
      "    \"f1_calbisc_rl_dly_pqtr_nibble06\": 0,\n",
      "    \"f0_rddq_idelay_final_bit11\": 73,\n",
      "    \"f0_wrcmplx_odly_dq_final_bit35\": 26,\n",
      "    \"cal_error_bit_phy_nibble_24\": 0,\n",
      "    \"f0_wrlvl_crse_stg1_rank0_byte5\": 3,\n",
      "    \"f0_rd_simp_fall_rm_nib_02\": [\n",
      "        69,\n",
      "        140\n",
      "    ],\n",
      "    \"ub_instr_ce\": 0,\n",
      "    \"f1_rdcmplx_pqtr_right_nibble04\": 0,\n",
      "    \"f1_wrdqdbi_stg3_dq_odly_bit29\": 0,\n",
      "    \"f0_rd_comp_fall_ctp_nib_00\": [\n",
      "        87,\n",
      "        179\n",
      "    ],\n",
      "    \"f0_wrcmplx_right_margin_byte4\": 60,\n",
      "    \"f0_rdcmplx_pqtr_final_nibble10\": 91,\n",
      "    \"f1_wrdqdbi_left_edge_dq_bit01\": 0,\n",
      "    \"f0_rddq_pqtr_final_nibble04\": 92,\n",
      "    \"f1_rddq_nqtr_right_nibble11\": 0,\n",
      "    \"f1_rddq_idelay_final_bit25\": 0,\n",
      "    \"cal_seq_status_18\": 282,\n",
      "    \"f1_wrdqdbi_right_edge_dqs_byte0\": 0,\n",
      "    \"f0_wr_simp_rm_byte_01\": [\n",
      "        70,\n",
      "        141\n",
      "    ],\n",
      "    \"ddrmc_isr_dram_parity0\": 0,\n",
      "    \"f0_dqsgate_stg1_rldlyrnk_crse_rank0_byte2\": 9,\n",
      "    \"f0_wrdqdbi_odly_dq_final_bit07\": 55,\n",
      "    \"f1_wrdqdbi_left_margin_byte0\": 0,\n",
      "    \"f0_wrdqdbi_odly_dq_final_bit35\": 21,\n",
      "    \"cal_stage_time_09\": 0,\n",
      "    \"rdvref_left_vref_low_bound_nibble05\": 0,\n",
      "    \"f1_rdcmplx_idelay_offset_nibble07\": 0,\n",
      "    \"dqs_gate_xphy_ub\": 1,\n",
      "    \"ddrmc_isr_nsu_fatal3\": 0,\n",
      "    \"cal_seq_status_01\": 385,\n",
      "    \"f1_db_f0bc6x\": 0,\n",
      "    \"rdvref_right_vref_final_nibble06\": 0,\n",
      "    \"cal_warning_42\": 0,\n",
      "    \"f0_mr5_rtt_park\": 0,\n",
      "    \"f0_wrdqdbi_stg3_dq_odly_bit39\": 29,\n",
      "    \"f1_wrdqdbi_right_margin_byte6\": 0,\n",
      "    \"f0_dqsgate_stg1_overflow_61\": 0,\n",
      "    \"nsu3_perf_mon_1_1\": 0,\n",
      "    \"f0_wrdqdbi_stg1_bit_status_byte1\": 0,\n",
      "    \"f1_wrdqdbi_odly_dq_final_bit18\": 0,\n",
      "    \"iobmap_dq_71_70\": 0,\n",
      "    \"f1_wrlvl_noise_fcrse_rank0_byte6\": 0,\n",
      "    \"f0_wrdqdbi_odly_dq_final_bit29\": 88,\n",
      "    \"f1_wrdqdbi_stg1_bit_status_byte7\": 0,\n",
      "    \"f1_wrdqdbi_left_edge_dq_bit15\": 0,\n",
      "    \"f1_dqsgate_read_lat_final_byte1\": 0,\n",
      "    \"iobmap_dq_53_52\": 0,\n",
      "    \"f0_wrdqdbi_stg6_dbi_odly_byte1\": 62,\n",
      "    \"f1_wrdqdbi_deskew_dq_odly_fcrse_bit58\": 0,\n",
      "    \"f0_wrdqdbi_left_edge_dq_bit53\": 54,\n",
      "    \"f0_wrdqdbi_odly_dq_final_bit54\": 50,\n",
      "    \"f1_rdcmplx_nqtr_final_nibble00\": 0,\n",
      "    \"f1_wrdqdbi_deskew_dq_odly_bit06\": 0,\n",
      "    \"f1_rdprbs_nqtr_left_margin_nibble06\": 0,\n",
      "    \"f1_wrprbs_right_margin_byte3\": 0,\n",
      "    \"f0_wr_comp_ctp_byte_06\": [\n",
      "        286,\n",
      "        593\n",
      "    ],\n",
      "    \"cal_warning_55\": 0,\n",
      "    \"f0_wrdqdbi_left_edge_dq_bit36\": 39,\n",
      "    \"header_ver\": 1,\n",
      "    \"f0_calbisc_rl_dly_pqtr_nibble05\": 74,\n",
      "    \"f1_wrdqdbi_odly_dq_final_bit00\": 0,\n",
      "    \"f1_rdcmplx_pqtr_left_nibble00\": 0,\n",
      "    \"wrmargin_right_byte2\": 0,\n",
      "    \"rdmargin_nqtr_right_nibble15\": 0,\n",
      "    \"f1_wrdqdbi_odly_dq_final_bit60\": 0,\n",
      "    \"f0_rdcmplx_nqtr_right_nibble10\": 146,\n",
      "    \"wrvref_vref_final_rank0_byte1\": 0,\n",
      "    \"f0_wrdqdbi_left_edge_dq_bit46\": 62,\n",
      "    \"f0_rdcmplx_pqtr_left_short_nibble12\": 21,\n",
      "    \"f1_wrdqdbi_odly_dq_final_bit22\": 0,\n",
      "    \"f1_rdcmplx_pqtr_right_short_nibble15\": 0,\n",
      "    \"f1_wrdqdbi_left_edge_dq_bit19\": 0,\n",
      "    \"f1_dqsgate_stg1_overflow_06\": 0,\n",
      "    \"f1_rdcmplx_nqtr_left_nibble11\": 0,\n",
      "    \"f0_wrcmplx_odly_dq_final_bit44\": 82,\n",
      "    \"f1_rdcmplx_pqtr_final_nibble00\": 0,\n",
      "    \"f0_wrdqdbi_deskew_dq_odly_fcrse_bit54\": 114,\n",
      "    \"wrvref_vref_def\": 0,\n",
      "    \"f1_wrdqdbi_deskew_dq_odly_fcrse_bit03\": 0,\n",
      "    \"dc1_perf_mon_0\": 0,\n",
      "    \"f0_wrdqdbi_stg2_dq_odly_bit21\": 19,\n",
      "    \"cal_seq_status_22\": 293,\n",
      "    \"f0_rdcmplx_nqtr_left_nibble04\": 33,\n",
      "    \"f1_rddq_pqtr_final_nibble13\": 0,\n",
      "    \"f0_wrdqdbi_stg1_bit_status_byte7\": 0,\n",
      "    \"phy_rden7_dly\": 27,\n",
      "    \"rdvref_vref_upp_bound_nibble04\": 0,\n",
      "    \"f0_wrdqdbi_stg2_dq_odly_bit08\": 62,\n",
      "    \"f1_rddq_nqtr_right_nibble09\": 0,\n",
      "    \"f1_wrdqdbi_stg2_dq_odly_bit13\": 0,\n",
      "    \"f0_wrlvl_crse_stg1_rank0_byte7\": 3,\n",
      "    \"f0_wrdqdbi_left_edge_dq_bit37\": 26,\n",
      "    \"bisc_idly5_align_nibble14\": 70,\n",
      "    \"mem_ranks\": 1,\n",
      "    \"wrvref_left_vref_low_bound_rank0_byte4\": 0,\n",
      "    \"f1_wrdqdbi_odly_dq_final_bit50\": 0,\n",
      "    \"f0_rd_simp_rise_ctp_nib_12\": [\n",
      "        89,\n",
      "        185\n",
      "    ],\n",
      "    \"f0_wrdqdbi_odly_dq_final_bit16\": 38,\n",
      "    \"f1_rddq_idelay_final_bit03\": 0,\n",
      "    \"f0_rd_comp_fall_lm_nib_02\": [\n",
      "        55,\n",
      "        111\n",
      "    ],\n",
      "    \"f0_rd_simp_fall_rm_nib_07\": [\n",
      "        69,\n",
      "        138\n",
      "    ],\n",
      "    \"rdvref_vref_final_nibble15\": 0,\n",
      "    \"f1_wrcmplx_odly_dq_final_bit27\": 0,\n",
      "    \"f1_rdprbs_pqtr_left_margin_nibble10\": 0,\n",
      "    \"bisc_nqtr_nibble12\": 77,\n",
      "    \"f0_rddq_pqtr_right_fcrse_nibble06\": 172,\n",
      "    \"f0_wrdqdbi_deskew_dbi_odly_fcrse_byte5\": 125,\n",
      "    \"f0_wrlat_wldlyrnk_crse_final_rank0_byte0\": 2,\n",
      "    \"cal_seq_status_41\": 447,\n",
      "    \"f0_wrdqdbi_left_edge_dq_bit33\": 22,\n",
      "    \"f1_rdcmplx_pqtr_right_short_fcrse_nibble10\": 0,\n",
      "    \"rdvref_vref_final_nibble12\": 0,\n",
      "    \"dqstrack_rldlyrnk_fine_min_byte5\": 41,\n",
      "    \"bisc_pqtr_nibble05\": 74,\n",
      "    \"f0_rdcmplx_pqtr_right_short_nibble07\": 169,\n",
      "    \"f1_wrdqdbi_odly_dq_final_bit63\": 0,\n",
      "    \"f0_wrdqdbi_stg2_dq_odly_bit02\": 51,\n",
      "    \"f1_wrdqdbi_odly_dbi_final_byte6\": 0,\n",
      "    \"f1_wrdqdbi_odly_dq_final_bit42\": 0,\n",
      "    \"f1_calbisc_rl_dly_pqtr_nibble08\": 0,\n",
      "    \"f0_wrcmplx_odly_dq_final_bit05\": 70,\n",
      "    \"ddrmc_isr\": 0,\n",
      "    \"f1_wrcmplx_left_margin_byte1\": 0,\n",
      "    \"f0_rddq_nqtr_right_fcrse_nibble04\": 176,\n",
      "    \"cal_warning_59\": 0,\n",
      "    \"bits_per_byte\": 8,\n",
      "    \"cal_seq_status_27\": 298,\n",
      "    \"f0_dqsgate_stg1_overflow_41\": 0,\n",
      "    \"cal_error_bit_phy_nibble_17\": 0,\n",
      "    \"bisc_mon_align_nibble00\": 0,\n",
      "    \"f1_wrdqdbi_left_margin_byte4\": 0,\n",
      "    \"f0_rddq_pqtr_final_nibble10\": 92,\n",
      "    \"f0_wrdqdbi_stg3_dq_odly_bit17\": 19,\n",
      "    \"reg_config0\": 4198928,\n",
      "    \"ddrmc_isr_ce1_ecc1\": 0,\n",
      "    \"f0_rdcmplx_pqtr_right_short_nibble11\": 170,\n",
      "    \"f0_wrlvl_fine_final_rank0_byte1\": 62,\n",
      "    \"f0_wrcmplx_odly_dq_final_bit46\": 72,\n",
      "    \"cal_warning_26\": 0,\n",
      "    \"cal_stage_time_37\": 0,\n",
      "    \"f0_rddq_idelay_final_bit17\": 67,\n",
      "    \"f0_wrdqdbi_left_edge_dq_bit47\": 49,\n",
      "    \"rdvref_left_vref_upp_bound_nibble09\": 0,\n",
      "    \"f0_rddq_nqtr_final_nibble06\": 97,\n",
      "    \"f0_rd_simp_fall_lm_nib_11\": [\n",
      "        68,\n",
      "        139\n",
      "    ],\n",
      "    \"rdvref_vref_upp_bound_nibble14\": 0,\n",
      "    \"f1_wrcmplx_odly_dq_final_bit38\": 0,\n",
      "    \"vttrack_rldlyqtr_min_nibble02\": 73,\n",
      "    \"f0_wrlat_phy_data_nib_final_byte6\": 1,\n",
      "    \"f1_rddq_idelay_final_bit59\": 0,\n",
      "    \"f1_rddq_pqtr_right_fcrse_nibble01\": 0,\n",
      "    \"f1_rdcmplx_nqtr_right_nibble14\": 0,\n",
      "    \"f1_wrlvl_noise_fcrse_rank0_byte7\": 0,\n",
      "    \"f0_rd_comp_fall_lm_nib_06\": [\n",
      "        57,\n",
      "        115\n",
      "    ],\n",
      "    \"cal_error\": 0,\n",
      "    \"f1_rdcmplx_nqtr_right_short_fcrse_nibble03\": 0,\n",
      "    \"f1_wrdqdbi_left_margin_byte3\": 0,\n",
      "    \"nsu1_perf_filter_en_1\": 0,\n",
      "    \"f0_wrlat_min_latency\": 16,\n",
      "    \"f0_rd_comp_fall_lm_nib_09\": [\n",
      "        58,\n",
      "        120\n",
      "    ],\n",
      "    \"rdvref_right_vref_upp_bound_nibble04\": 0,\n",
      "    \"f0_dqsgate_stg1_overflow_42\": 0,\n",
      "    \"f0_wrdqdbi_stg1_dqs_delay_byte5\": 71,\n",
      "    \"f0_rd_comp_rise_lm_nib_04\": [\n",
      "        61,\n",
      "        125\n",
      "    ],\n",
      "    \"f0_wrdqdbi_stg3_dq_odly_bit28\": 78,\n",
      "    \"f0_rdcmplx_pqtr_left_nibble08\": 24,\n",
      "    \"f0_rdcmplx_idelay_offset_nibble02\": 0,\n",
      "    \"f0_rddq_idelay_final_bit41\": 69,\n",
      "    \"f1_rddq_pqtr_final_nibble03\": 0,\n",
      "    \"wrvref_left_vref_final_rank0_byte3\": 0,\n",
      "    \"f0_rdcmplx_pqtr_right_nibble15\": 152,\n",
      "    \"f1_wrdqdbi_right_margin_byte7\": 0,\n",
      "    \"f0_wrlat_wldlyrnk_crse_final_rank0_byte5\": 3,\n",
      "    \"f0_wrdqdbi_deskew_dq_odly_fcrse_bit09\": 132,\n",
      "    \"f1_rdcmplx_nqtr_final_nibble11\": 0,\n",
      "    \"f0_wrcmplx_odly_dq_final_bit28\": 84,\n",
      "    \"f1_wrcmplx_odly_dq_final_bit56\": 0,\n",
      "    \"f0_rddq_pqtr_right_nibble00\": 158,\n",
      "    \"f0_rdcmplx_pqtr_right_short_fcrse_nibble12\": 167,\n",
      "    \"f0_rd_comp_fall_lm_nib_04\": [\n",
      "        58,\n",
      "        116\n",
      "    ],\n",
      "    \"f0_rddq_idelay_final_bit16\": 75,\n",
      "    \"f1_rddq_pqtr_right_nibble11\": 0,\n",
      "    \"rdvref_left_vref_low_bound_nibble11\": 0,\n",
      "    \"vttrack_rldlyqtr_min_nibble03\": 74,\n",
      "    \"f0_wrdqdbi_stg2_dq_odly_bit41\": 55,\n",
      "    \"f0_wrdqdbi_right_margin_byte0\": 70,\n",
      "    \"f0_wrdqdbi_left_edge_dbi_byte3\": 78,\n",
      "    \"cal_seq_status_33\": 304,\n",
      "    \"f0_rd_comp_fall_ctp_nib_12\": [\n",
      "        84,\n",
      "        173\n",
      "    ],\n",
      "    \"cal_stage_time_32\": 0,\n",
      "    \"f0_rd_simp_rise_ctp_nib_14\": [\n",
      "        90,\n",
      "        185\n",
      "    ],\n",
      "    \"f1_wrdqdbi_left_edge_dq_bit56\": 0,\n",
      "    \"f0_wrdqdbi_stg5_dqs_odly_byte6\": 60,\n",
      "    \"wrvref_left_vref_final_rank0_byte5\": 0,\n",
      "    \"f0_wrdqdbi_deskew_dq_odly_bit05\": 138,\n",
      "    \"f0_wrdqdbi_odly_dq_final_bit34\": 30,\n",
      "    \"f1_rddq_idelay_final_bit07\": 0,\n",
      "    \"f1_wrdqdbi_stg3_dq_odly_bit22\": 0,\n",
      "    \"cal_warning_63\": 0,\n",
      "    \"f1_wrdqdbi_deskew_dq_odly_bit61\": 0,\n",
      "    \"f1_wrdqdbi_left_edge_dbi_byte5\": 0,\n",
      "    \"wrvref_vref_final_rank0_byte0\": 0,\n",
      "    \"f0_rddq_nqtr_right_fcrse_nibble05\": 176,\n",
      "    \"f0_wrdqdbi_stg3_dq_odly_bit33\": 29,\n",
      "    \"f1_rddq_idelay_final_bit14\": 0,\n",
      "    \"cal_stage_time_07\": 0,\n",
      "    \"nsu2_perf_mon_0_0\": 0,\n",
      "    \"f0_rddq_idelay_final_bit20\": 83,\n",
      "    \"cal_warning_52\": 0,\n",
      "    \"f0_wrdqdbi_left_margin_byte6\": 76,\n",
      "    \"f0_rdprbs_nqtr_left_margin_nibble13\": 0,\n",
      "    \"f0_rdcmplx_nqtr_final_nibble14\": 90,\n",
      "    \"f1_rddq_pqtr_final_nibble05\": 0,\n",
      "    \"f0_wr_comp_rm_byte_06\": [\n",
      "        59,\n",
      "        122\n",
      "    ],\n",
      "    \"f1_wrcmplx_odly_dq_final_bit48\": 0,\n",
      "    \"iobmap_dqs_12\": 0,\n",
      "    \"vttrack_rldlyqtr_nibble01\": 77,\n",
      "    \"f1_rddq_nqtr_right_fcrse_nibble04\": 0,\n",
      "    \"f1_rddq_qtr_deskew_nibble11\": 0,\n",
      "    \"f1_wrdqdbi_deskew_dq_odly_fcrse_bit37\": 0,\n",
      "    \"f1_wrdqdbi_odly_dq_final_bit19\": 0,\n",
      "    \"f1_wrdqdbi_stg2_dq_odly_bit12\": 0,\n",
      "    \"f0_rdprbs_nqtr_left_margin_nibble05\": 0,\n",
      "    \"f0_rddq_nqtr_right_nibble00\": 171,\n",
      "    \"f0_rdcmplx_nqtr_left_short_nibble06\": 27,\n",
      "    \"f0_rdcmplx_nqtr_right_short_nibble12\": 166,\n",
      "    \"f1_dqsgate_stg1_read_lat_rank0_byte4\": 0,\n",
      "    \"f1_dqsgate_read_lat_final_byte5\": 0,\n",
      "    \"bisc_mon_align_nibble15\": 0,\n",
      "    \"f1_rddq_pqtr_final_nibble07\": 0,\n",
      "    \"f0_rd_comp_rise_rm_nib_08\": [\n",
      "        60,\n",
      "        121\n",
      "    ],\n",
      "    \"f1_dqsgate_stg1_rldlyrnk_fine_rank0_byte5\": 0,\n",
      "    \"f0_rddq_pqtr_final_nibble08\": 90,\n",
      "    \"wrvref_right_vref_final_rank0_byte7\": 0,\n",
      "    \"f0_rddq_nqtr_final_nibble00\": 97,\n",
      "    \"f0_rdcmplx_pqtr_right_short_nibble00\": 164,\n",
      "    \"rdvref_vref_low_bound_nibble02\": 0,\n",
      "    \"bisc_pqtr_align_nibble03\": 0,\n",
      "    \"f1_rddq_idelay_final_bit06\": 0,\n",
      "    \"vttrack_rldlyqtr_min_nibble05\": 75,\n",
      "    \"f0_dqsgate_stg1_overflow_11\": 0,\n",
      "    \"dqstrack_rldlyrnk_fine_min_byte6\": 73,\n",
      "    \"rdvref_left_vref_low_bound_nibble02\": 0,\n",
      "    \"rdvref_left_vref_low_bound_nibble08\": 0,\n",
      "    \"f0_dqsgate_stg1_overflow_00\": 255,\n",
      "    \"cal_warning_61\": 0,\n",
      "    \"f0_wrdqdbi_stg3_dq_odly_bit27\": 78,\n",
      "    \"0x01_F0_MEM_INIT\": \"Pass\",\n",
      "    \"f1_wrdqdbi_stg2_dq_odly_bit32\": 0,\n",
      "    \"f0_rd_comp_fall_ctp_nib_03\": [\n",
      "        82,\n",
      "        166\n",
      "    ],\n",
      "    \"f0_rd_simp_rise_rm_nib_15\": [\n",
      "        71,\n",
      "        145\n",
      "    ],\n",
      "    \"f1_rddq_pqtr_final_nibble11\": 0,\n",
      "    \"f0_rd_simp_rise_rm_nib_09\": [\n",
      "        74,\n",
      "        150\n",
      "    ],\n",
      "    \"f1_wrdqdbi_stg2_dq_odly_bit14\": 0,\n",
      "    \"f1_wrdqdbi_left_edge_dq_bit03\": 0,\n",
      "    \"f0_wrdqdbi_deskew_dq_odly_bit47\": 128,\n",
      "    \"f1_wrdqdbi_odly_dq_final_bit57\": 0,\n",
      "    \"f0_rddq_idelay_final_bit03\": 79,\n",
      "    \"rdvref_right_vref_def_nibble03\": 0,\n",
      "    \"f0_wrdqdbi_right_margin_byte2\": 62,\n",
      "    \"f0_wrlat_phy_oe_nib_final_byte5\": 1,\n",
      "    \"f1_wrdqdbi_odly_dq_final_bit24\": 0,\n",
      "    \"f0_wrdqdbi_odly_dq_final_bit10\": 48,\n",
      "    \"f1_wrdqdbi_left_edge_dbi_byte0\": 0,\n",
      "    \"f1_wrdqdbi_odly_dq_final_bit07\": 0,\n",
      "    \"f1_rdcmplx_pqtr_right_nibble07\": 0,\n",
      "    \"rdvref_right_vref_upp_bound_nibble08\": 0,\n",
      "    \"f1_wrdqdbi_odly_dq_final_bit44\": 0,\n",
      "    \"f1_rdcmplx_pqtr_left_nibble14\": 0,\n",
      "    \"ddrmc_isr_nsu_1\": 0,\n",
      "    \"f1_dqsgate_stg1_overflow_20\": 0,\n",
      "    \"f0_wrdqdbi_odly_dq_final_bit19\": 23,\n",
      "    \"iobmap_dq_69_68\": 0,\n",
      "    \"bisc_rl_dly_qtr_nibble11\": 75,\n",
      "    \"f0_wrdqdbi_deskew_dq_odly_fcrse_bit26\": 148,\n",
      "    \"f0_wrdqdbi_odly_dq_final_bit15\": 59,\n",
      "    \"f0_rdcmplx_pqtr_left_nibble09\": 25,\n",
      "    \"f1_dqsgate_stg1_overflow_21\": 0,\n",
      "    \"f1_wrlvl_fine_left_rank0_byte7\": 0,\n",
      "    \"f1_dqsgate_stg1_rldlyrnk_fine_rank0_byte6\": 0,\n",
      "    \"f1_wrdqdbi_left_edge_dq_bit50\": 0,\n",
      "    \"f1_dqsgate_stg1_rldlyrnk_fine_rank0_byte7\": 0,\n",
      "    \"f0_rd_comp_fall_lm_nib_10\": [\n",
      "        57,\n",
      "        111\n",
      "    ],\n",
      "    \"f1_wrdqdbi_deskew_dq_odly_bit08\": 0,\n",
      "    \"rdvref_left_vref_final_nibble13\": 0,\n",
      "    \"f0_wrdqdbi_deskew_dbi_odly_fcrse_byte7\": 129,\n",
      "    \"f0_rddq_qtr_deskew_nibble13\": 1,\n",
      "    \"f0_rdcmplx_pqtr_right_short_fcrse_nibble07\": 169,\n",
      "    \"f0_wrdqdbi_odly_dq_final_bit13\": 65,\n",
      "    \"f0_rddq_pqtr_right_nibble10\": 168,\n",
      "    \"phy_rden22_dly\": 25,\n",
      "    \"cal_seq_status_38\": 315,\n",
      "    \"f1_wrdqdbi_deskew_dq_odly_fcrse_bit11\": 0,\n",
      "    \"f1_wrcmplx_odly_dbi_final_byte5\": 0,\n",
      "    \"f0_wrdqdbi_odly_dq_final_bit22\": 28,\n",
      "    \"rdvref_vref_low_bound_nibble15\": 0,\n",
      "    \"cal_stage.03_F0_DQS_GATE_CAL\": \"Pass\",\n",
      "    \"f0_wrdqdbi_stg2_dq_odly_bit45\": 55,\n",
      "    \"f1_wrcmplx_left_margin_fcrse_byte0\": 0,\n",
      "    \"f0_wrdqdbi_left_edge_dq_bit01\": 49,\n",
      "    \"f0_rd_comp_fall_ctp_nib_13\": [\n",
      "        87,\n",
      "        179\n",
      "    ],\n",
      "    \"f0_rdcmplx_nqtr_right_short_nibble10\": 166,\n",
      "    \"f0_rdcmplx_nqtr_right_short_fcrse_nibble07\": 173,\n",
      "    \"f0_wrcmplx_odly_dq_final_bit25\": 83,\n",
      "    \"f1_wrdqdbi_deskew_dq_odly_fcrse_bit40\": 0,\n",
      "    \"f1_wrdqdbi_stg3_dq_odly_bit14\": 0,\n",
      "    \"f0_rddq_idelay_final_bit63\": 75,\n",
      "    \"f1_rdcmplx_pqtr_final_nibble08\": 0,\n",
      "    \"rdvref_left_vref_low_bound_nibble06\": 0,\n",
      "    \"f0_rdcmplx_pqtr_final_nibble09\": 86,\n",
      "    \"rdvref_vref_low_bound_nibble06\": 0,\n",
      "    \"cal_error_bit_phy_nibble_15\": 0,\n",
      "    \"f0_rdprbs_nqtr_right_margin_nibble13\": 0,\n",
      "    \"f1_wrlvl_offset_rank0_byte6\": 0,\n",
      "    \"f1_wrcmplx_odly_dq_final_bit28\": 0,\n",
      "    \"f0_wrdqdbi_stg2_dq_odly_bit54\": 44,\n",
      "    \"f0_wrdqdbi_deskew_dq_odly_fcrse_bit58\": 129,\n",
      "    \"rdvref_left_vref_upp_bound_nibble05\": 0,\n",
      "    \"max_dbi_pins\": 9,\n",
      "    \"f0_wrdqdbi_right_margin_byte6\": 65,\n",
      "    \"f0_rddq_idelay_final_bit08\": 65,\n",
      "    \"f0_rdprbs_pqtr_left_margin_nibble08\": 0,\n",
      "    \"f1_rdcmplx_nqtr_left_short_nibble00\": 0,\n",
      "    \"f0_wrlat_phy_data_nib_final_byte1\": 0,\n",
      "    \"f0_rdcmplx_nqtr_right_nibble05\": 144,\n",
      "    \"f1_rdcmplx_nqtr_left_short_nibble07\": 0,\n",
      "    \"f1_rdcmplx_nqtr_final_nibble12\": 0,\n",
      "    \"nsu1_perf_filter_1_0\": 0,\n",
      "    \"f1_rdcmplx_pqtr_final_nibble13\": 0,\n",
      "    \"f1_wrlvl_fine_left_rank0_byte5\": 0,\n",
      "    \"rdmargin_nqtr_left_nibble15\": 0,\n",
      "    \"f0_wrdqdbi_deskew_dq_odly_bit52\": 120,\n",
      "    \"mgchk_wr_vref\": 0,\n",
      "    \"f0_rddq_idelay_final_bit45\": 82,\n",
      "    \"f1_rddq_idelay_final_bit61\": 0,\n",
      "    \"f0_dram_2t_mode\": 0,\n",
      "    \"f0_calbisc_rl_dly_nqtr_nibble09\": 75,\n",
      "    \"f1_wrdqdbi_deskew_dq_odly_fcrse_bit13\": 0,\n",
      "    \"f0_wrdqdbi_left_edge_dbi_byte4\": 29,\n",
      "    \"vttrack_rldlyqtr_max_nibble14\": 78,\n",
      "    \"f1_wrdqdbi_left_edge_dq_bit13\": 0,\n",
      "    \"f1_wrcmplx_odly_dq_final_bit24\": 0,\n",
      "    \"bisc_nqtr_nibble15\": 78,\n",
      "    \"f1_rdcmplx_nqtr_right_short_fcrse_nibble14\": 0,\n",
      "    \"cal_status\": \"PASS\",\n",
      "    \"rdmargin_pqtr_right_nibble12\": 0,\n",
      "    \"f1_calbisc_rl_dly_qtr_nibble00\": 0,\n",
      "    \"cal_stage_ran\": 63,\n",
      "    \"f1_wrdqdbi_stg2_dq_odly_bit46\": 0,\n",
      "    \"f1_rddq_nqtr_right_nibble05\": 0,\n",
      "    \"wrvref_right_vref_def_rank0_byte0\": 0,\n",
      "    \"rdvref_left_vref_final_nibble09\": 0,\n",
      "    \"f1_wrprbs_right_margin_byte2\": 0,\n",
      "    \"f0_dqsgate_read_lat_final_byte0\": 26,\n",
      "    \"iobmap_dq_11_10\": 0,\n",
      "    \"f0_rd_simp_rise_lm_nib_04\": [\n",
      "        75,\n",
      "        154\n",
      "    ],\n",
      "    \"f1_wrprbs_left_margin_byte7\": 0,\n",
      "    \"f1_rdcmplx_nqtr_final_nibble01\": 0,\n",
      "    \"phy_rden21_dly\": 25,\n",
      "    \"f1_rddq_idelay_final_bit18\": 0,\n",
      "    \"rdmargin_nqtr_left_nibble04\": 0,\n",
      "    \"f1_rdcmplx_pqtr_left_nibble07\": 0,\n",
      "    \"f1_rdcmplx_pqtr_final_nibble07\": 0,\n",
      "    \"f1_rdprbs_nqtr_right_margin_nibble12\": 0,\n",
      "    \"bisc_idly5_align_nibble04\": 68,\n",
      "    \"f0_wrdqdbi_odly_dq_final_bit32\": 32,\n",
      "    \"f1_dqsgate_rldlyrnk_crse_final_rank0_byte7\": 0,\n",
      "    \"isr_change_count\": 0,\n",
      "    \"f1_wrdqdbi_stg2_dq_odly_bit57\": 0,\n",
      "    \"f0_rddq_nqtr_right_nibble06\": 167,\n",
      "    \"f0_rdprbs_nqtr_right_margin_nibble01\": 0,\n",
      "    \"cal_warning_19\": 0,\n",
      "    \"f1_wrdqdbi_right_edge_dqs_byte7\": 0,\n",
      "    \"f1_wrlat_wldlyrnk_crse_final_rank0_byte7\": 0,\n",
      "    \"f1_wrcmplx_left_margin_byte3\": 0,\n",
      "    \"f0_rd_comp_fall_lm_nib_08\": [\n",
      "        58,\n",
      "        119\n",
      "    ],\n",
      "    \"f0_wrcmplx_odly_dq_final_bit60\": 71,\n",
      "    \"f1_wrdqdbi_right_margin_byte3\": 0,\n",
      "    \"f1_rddq_pqtr_left_nibble11\": 0,\n",
      "    \"f0_rdcmplx_pqtr_right_short_fcrse_nibble00\": 167,\n",
      "    \"cal_error_phy_nibble_8_0\": 0,\n",
      "    \"f0_rddq_idelay_final_bit58\": 73,\n",
      "    \"f0_rd_simp_fall_rm_nib_14\": [\n",
      "        71,\n",
      "        145\n",
      "    ],\n",
      "    \"iobmap_dqs_16\": 0,\n",
      "    \"mgchk_step\": 0,\n",
      "    \"f1_rdprbs_nqtr_right_margin_nibble02\": 0,\n",
      "    \"f1_dqsgate_rldlyrnk_crse_final_rank0_byte3\": 0,\n",
      "    \"rdmargin_nqtr_left_nibble08\": 0,\n",
      "    \"bisc_pqtr_align_nibble02\": 0,\n",
      "    \"f1_dqsgate_stg1_overflow_05\": 0,\n",
      "    \"f0_rd_simp_rise_lm_nib_14\": [\n",
      "        73,\n",
      "        150\n",
      "    ],\n",
      "    \"cal_warning_77\": 0,\n",
      "    \"cal_stage.02_F0_MEM_INIT\": \"Pass\",\n",
      "    \"f1_wrdqdbi_deskew_dq_odly_bit25\": 0,\n",
      "    \"cal_seq_status_24\": 295,\n",
      "    \"f0_rdcmplx_pqtr_right_nibble11\": 153,\n",
      "    \"f1_rdcmplx_pqtr_left_nibble13\": 0,\n",
      "    \"f1_wrcmplx_odly_dq_final_bit13\": 0,\n",
      "    \"bisc_idly0_align_nibble14\": 68,\n",
      "    \"bisc_idly5_align_nibble01\": 78,\n",
      "    \"f0_dqsgate_rldlyrnk_crse_final_rank0_byte6\": 3,\n",
      "    \"f0_rddq_pqtr_final_nibble05\": 91,\n",
      "    \"f1_wrdqdbi_odly_dq_final_bit36\": 0,\n",
      "    \"f0_rddq_nqtr_right_nibble09\": 165,\n",
      "    \"iobmap_dqs_14\": 0,\n",
      "    \"f1_dqsgate_stg1_rldlyrnk_fine_rank0_byte0\": 0,\n",
      "    \"f0_dqsgate_stg1_rldlyrnk_fine_rank0_byte2\": 42,\n",
      "    \"f0_wrcmplx_odly_dq_final_bit32\": 37,\n",
      "    \"f1_wrprbs_right_margin_byte0\": 0,\n",
      "    \"f1_wrdqdbi_stg2_dq_odly_bit15\": 0,\n",
      "    \"f0_rd_simp_fall_ctp_nib_13\": [\n",
      "        96,\n",
      "        197\n",
      "    ],\n",
      "    \"f1_wrdqdbi_odly_dq_final_bit37\": 0,\n",
      "    \"cal_stage_time_10\": 6,\n",
      "    \"bisc_idly0_align_nibble11\": 75,\n",
      "    \"f1_wrdqdbi_stg2_dq_odly_bit58\": 0,\n",
      "    \"f1_calbisc_rl_dly_qtr_nibble03\": 0,\n",
      "    \"f0_rdcmplx_pqtr_left_nibble15\": 22,\n",
      "    \"f0_wrcmplx_left_margin_byte5\": 70,\n",
      "    \"f1_wrcmplx_right_margin_fcrse_byte3\": 0,\n",
      "    \"f0_rd_comp_fall_rm_nib_08\": [\n",
      "        58,\n",
      "        119\n",
      "    ],\n",
      "    \"wrvref_left_vref_low_bound_rank0_byte5\": 0,\n",
      "    \"f0_wrdqdbi_left_edge_dq_bit15\": 58,\n",
      "    \"f0_rddq_pqtr_right_fcrse_nibble03\": 172,\n",
      "    \"f0_wrdqdbi_odly_dqs_final_byte0\": 67,\n",
      "    \"f0_wrdqdbi_odly_dqs_final_byte5\": 71,\n",
      "    \"f1_rddq_nqtr_final_nibble04\": 0,\n",
      "    \"bisc_idly2_align_nibble09\": 74,\n",
      "    \"vttrack_rldlyqtr_min_nibble04\": 73,\n",
      "    \"f1_wrdqdbi_deskew_dq_odly_bit50\": 0,\n",
      "    \"dc1_perf_mon\": 62,\n",
      "    \"f0_dqsgate_stg2_rldlyrnk_crse_rank0_byte0\": 0,\n",
      "    \"f1_wrdqdbi_deskew_dbi_odly_fcrse_byte5\": 0,\n",
      "    \"f0_wrcmplx_odly_dq_final_bit14\": 74,\n",
      "    \"rdvref_right_vref_upp_bound_nibble07\": 0,\n",
      "    \"cal_seq_status_20\": 287,\n",
      "    \"f0_wrlvl_fine_right_rank0_byte6\": 46,\n",
      "    \"f0_dqsgate_stg1_overflow_39\": 0,\n",
      "    \"rdmargin_pqtr_right_nibble09\": 0,\n",
      "    \"f1_wrlat_phy_oe_nib_final_byte3\": 0,\n",
      "    \"f0_wrdqdbi_deskew_dq_odly_fcrse_bit04\": 121,\n",
      "    \"f0_wrdqdbi_stg2_dq_odly_bit13\": 62,\n",
      "    \"f1_wrdqdbi_stg3_dq_odly_bit03\": 0,\n",
      "    \"f0_wrdqdbi_deskew_dq_odly_bit03\": 129,\n",
      "    \"f1_wrdqdbi_stg3_dq_odly_bit01\": 0,\n",
      "    \"f0_wrdqdbi_deskew_dq_odly_fcrse_bit47\": 125,\n",
      "    \"f0_rdcmplx_nqtr_final_nibble15\": 87,\n",
      "    \"wrmargin_left_byte4\": 0,\n",
      "    \"f1_wrdqdbi_stg3_dq_odly_bit54\": 0,\n",
      "    \"f1_wrlvl_offset_rank0_byte7\": 0,\n",
      "    \"f1_wrdqdbi_stg2_dq_odly_bit62\": 0,\n",
      "    \"f1_wrcmplx_right_margin_fcrse_byte1\": 0,\n",
      "    \"f1_rddq_qtr_deskew_nibble04\": 0,\n",
      "    \"f1_wrdqdbi_stg5_dqs_odly_byte6\": 0,\n",
      "    \"f1_wrcmplx_odly_dq_final_bit44\": 0,\n",
      "    \"f0_wrdqdbi_deskew_dq_odly_fcrse_bit27\": 158,\n",
      "    \"cal_seq_status_39\": 444,\n",
      "    \"health_status\": \"GOOD\",\n",
      "    \"f1_rddq_nqtr_right_fcrse_nibble00\": 0,\n",
      "    \"f0_dqsgate_stg1_overflow_10\": 0,\n",
      "    \"f0_rdcmplx_pqtr_final_nibble06\": 88,\n",
      "    \"wrvref_left_vref_final_rank0_byte1\": 0,\n",
      "    \"f0_dqsgate_stg1_overflow_57\": 0,\n",
      "    \"f1_wrcmplx_left_margin_fcrse_byte5\": 0,\n",
      "    \"f0_wrdqdbi_stg2_dq_odly_bit60\": 59,\n",
      "    \"dqstrack_rldlyrnk_fine_min_byte4\": 41,\n",
      "    \"f0_wrdqdbi_odly_dq_final_bit28\": 79,\n",
      "    \"f0_wrdqdbi_stg3_dq_odly_bit05\": 51,\n",
      "    \"f0_wrcmplx_odly_dbi_final_byte6\": 53,\n",
      "    \"f0_wrdqdbi_deskew_dq_odly_fcrse_bit03\": 121,\n",
      "    \"f1_rddq_pqtr_right_nibble09\": 0,\n",
      "    \"f0_wrcmplx_odly_dq_final_bit39\": 37,\n",
      "    \"wrvref_right_vref_upp_bound_rank0_byte7\": 0,\n",
      "    \"f1_rdcmplx_pqtr_left_short_nibble11\": 0,\n",
      "    \"f0_wrdqdbi_left_edge_dq_bit09\": 60,\n",
      "    \"phy_oe_nib18_dly\": 0,\n",
      "    \"rdvref_left_vref_upp_bound_nibble07\": 0,\n",
      "    \"iobmap_dq_25_24\": 0,\n",
      "    \"bisc_nqtr_nibble01\": 78,\n",
      "    \"f1_wrdqdbi_stg1_dqs_delay_byte1\": 0,\n",
      "    \"f1_dqsgate_stg1_rldlyrnk_fine_rank0_byte1\": 0,\n",
      "    \"rdvref_right_vref_final_nibble09\": 0,\n",
      "    \"phy_oe_nib19_dly\": 0,\n",
      "    \"phy_oe_nib0_dly\": 1,\n",
      "    \"wrvref_left_vref_final_rank0_byte0\": 0,\n",
      "    \"f1_rddq_idelay_final_bit48\": 0,\n",
      "    \"dbi_pins\": 8,\n",
      "    \"f1_rddq_nqtr_left_nibble02\": 0,\n",
      "    \"f0_dqsgate_read_lat_final_byte6\": 27,\n",
      "    \"f1_rddq_qtr_deskew_nibble12\": 0,\n",
      "    \"f0_calbisc_rl_dly_qtr_nibble07\": 77,\n",
      "    \"f0_wrdqdbi_deskew_dq_odly_fcrse_bit44\": 145,\n",
      "    \"vttrack_rldlyqtr_min_nibble06\": 73,\n",
      "    \"f0_rddq_pqtr_right_fcrse_nibble10\": 172,\n",
      "    \"f1_rddq_idelay_final_bit35\": 0,\n",
      "    \"f0_wrdqdbi_deskew_dbi_odly_fcrse_byte4\": 99,\n",
      "    \"f1_wrdqdbi_odly_dq_final_bit52\": 0,\n",
      "    \"f0_rd_comp_fall_rm_nib_12\": [\n",
      "        59,\n",
      "        121\n",
      "    ],\n",
      "    \"f1_wrlvl_fine_right_rank0_byte1\": 0,\n",
      "    \"f0_rdcmplx_nqtr_right_nibble11\": 147,\n",
      "    \"f1_rdcmplx_nqtr_left_short_nibble12\": 0,\n",
      "    \"f0_rdcmplx_nqtr_left_nibble03\": 25,\n",
      "    \"cal_stage_time_06\": 0,\n",
      "    \"f0_wr_comp_rm_byte_05\": [\n",
      "        61,\n",
      "        124\n",
      "    ],\n",
      "    \"f0_wr_comp_lm_byte_01\": [\n",
      "        69,\n",
      "        139\n",
      "    ],\n",
      "    \"f0_wrdqdbi_left_margin_byte7\": 77,\n",
      "    \"rdvref_vref_upp_bound_nibble09\": 0,\n",
      "    \"f1_rdprbs_nqtr_left_margin_nibble11\": 0,\n",
      "    \"f0_dqsgate_stg1_overflow_21\": 0,\n",
      "    \"f0_rdcmplx_nqtr_left_short_nibble03\": 24,\n",
      "    \"f1_wrdqdbi_right_edge_dqs_byte3\": 0,\n",
      "    \"bisc_pqtr_align_nibble14\": 0,\n",
      "    \"f0_wrdqdbi_stg3_dq_odly_bit19\": 19,\n",
      "    \"f1_wrdqdbi_deskew_dq_odly_fcrse_bit27\": 0,\n",
      "    \"f0_wrdqdbi_stg3_dq_odly_bit15\": 62,\n",
      "    \"f1_wrdqdbi_odly_dq_final_bit62\": 0,\n",
      "    \"f0_rd_simp_rise_ctp_nib_07\": [\n",
      "        92,\n",
      "        189\n",
      "    ],\n",
      "    \"f0_wrdqdbi_deskew_dq_odly_bit34\": 100,\n",
      "    \"phy_oe_nib2_dly\": 1,\n",
      "    \"f0_wrlvl_offset_rank0_byte0\": 78,\n",
      "    \"cal_stage_time_02\": 0,\n",
      "    \"f1_dqsgate_stg1_overflow_36\": 0,\n",
      "    \"f0_wrdqdbi_left_edge_dq_bit21\": 15,\n",
      "    \"f0_wrlvl_offset_rank0_byte6\": 78,\n",
      "    \"f0_rdcmplx_pqtr_right_nibble07\": 147,\n",
      "    \"f0_rd_simp_fall_rm_nib_06\": [\n",
      "        70,\n",
      "        142\n",
      "    ],\n",
      "    \"cal_seq_status_21\": 292,\n",
      "    \"f1_dqsgate_stg1_overflow_31\": 0,\n",
      "    \"f0_rddq_idelay_final_bit27\": 74,\n",
      "    \"f0_rddq_idelay_final_bit48\": 68,\n",
      "    \"f1_wrdqdbi_deskew_dbi_odly_fcrse_byte2\": 0,\n",
      "    \"f0_wrdqdbi_stg2_dqs_odly_byte4\": 45,\n",
      "    \"f1_wrdqdbi_left_edge_dq_bit18\": 0,\n",
      "    \"f0_wrdqdbi_stg3_dq_odly_bit06\": 51,\n",
      "    \"f1_wrdqdbi_stg3_dq_odly_bit39\": 0,\n",
      "    \"f1_wrdqdbi_stg2_dq_odly_bit23\": 0,\n",
      "    \"f1_wrdqdbi_right_margin_fcrse_byte4\": 0,\n",
      "    \"f0_rdcmplx_nqtr_left_short_nibble01\": 25,\n",
      "    \"f1_wrdqdbi_deskew_dq_odly_fcrse_bit12\": 0,\n",
      "    \"rdvref_right_vref_def_nibble00\": 0,\n",
      "    \"cal_warning_05\": 0,\n",
      "    \"f0_wrdqdbi_left_edge_dq_bit02\": 45,\n",
      "    \"phy_oe_nib6_dly\": 1,\n",
      "    \"f0_wrdqdbi_deskew_dq_odly_fcrse_bit41\": 125,\n",
      "    \"f1_rddq_idelay_final_bit24\": 0,\n",
      "    \"rdvref_right_vref_final_nibble08\": 0,\n",
      "    \"f1_calbisc_rl_dly_pqtr_nibble10\": 0,\n",
      "    \"cal_warning_35\": 0,\n",
      "    \"wrvref_right_vref_upp_bound_rank0_byte4\": 0,\n",
      "    \"f0_dqsgate_stg1_overflow_45\": 0,\n",
      "    \"rdvref_left_vref_upp_bound_nibble11\": 0,\n",
      "    \"f1_wrlvl_noise_fcrse_rank0_byte1\": 0,\n",
      "    \"phy_rden0_dly\": 26,\n",
      "    \"f0_wrdqdbi_stg2_dq_odly_bit57\": 59,\n",
      "    \"f1_wrdqdbi_deskew_dq_odly_fcrse_bit18\": 0,\n",
      "    \"f0_wrlvl_crse_final_rank0_byte7\": 3,\n",
      "    \"bisc_pqtr_nibble10\": 76,\n",
      "    \"rdmargin_pqtr_right_nibble08\": 0,\n",
      "    \"f0_wrdqdbi_stg4_dqs_delay_byte6\": 14,\n",
      "    \"f0_rdcmplx_pqtr_right_short_fcrse_nibble14\": 171,\n",
      "    \"xpi_oe_all_nib_dly_offset\": 8,\n",
      "    \"f1_rddq_pqtr_right_fcrse_nibble10\": 0,\n",
      "    \"cal_stage.04_F0_WRITE_LEVELING\": \"Pass\",\n",
      "    \"f1_wrdqdbi_stg3_dq_odly_bit24\": 0,\n",
      "    \"f0_rd_simp_rise_ctp_nib_02\": [\n",
      "        91,\n",
      "        180\n",
      "    ],\n",
      "    \"f1_wrprbs_right_margin_byte6\": 0,\n",
      "    \"f1_rdcmplx_pqtr_left_short_nibble15\": 0,\n",
      "    \"wrvref_vref_final_rank0_byte3\": 0,\n",
      "    \"mgchk_rd_vref_1\": 0,\n",
      "    \"rdvref_right_vref_def_nibble06\": 0,\n",
      "    \"f1_rdcmplx_nqtr_right_nibble09\": 0,\n",
      "    \"f1_wrdqdbi_odly_dq_final_bit30\": 0,\n",
      "    \"f1_rdcmplx_idelay_offset_nibble03\": 0,\n",
      "    \"f0_rddq_idelay_final_bit50\": 79,\n",
      "    \"f0_wrdqdbi_stg1_byte_status_00\": 511,\n",
      "    \"bisc_nqtr_nibble14\": 79,\n",
      "    \"f1_rdprbs_pqtr_right_margin_nibble14\": 0,\n",
      "    \"mgchk_unit\": 0,\n",
      "    \"f1_rdcmplx_pqtr_left_nibble04\": 0,\n",
      "    \"bisc_nqtr_align_nibble00\": 0,\n",
      "    \"bisc_idly5_align_nibble10\": 70,\n",
      "    \"f1_wrlvl_noise_fcrse_rank0_byte5\": 0,\n",
      "    \"f1_rddq_idelay_final_bit22\": 0,\n",
      "    \"wrvref_right_vref_def_rank0_byte6\": 0,\n",
      "    \"f1_rdcmplx_nqtr_right_short_nibble02\": 0,\n",
      "    \"f1_wrcmplx_odly_dq_final_bit36\": 0,\n",
      "    \"phy_rden5_dly\": 27,\n",
      "    \"f0_calbisc_rl_dly_pqtr_nibble03\": 77,\n",
      "    \"f0_rd_comp_rise_rm_nib_10\": [\n",
      "        59,\n",
      "        121\n",
      "    ],\n",
      "    \"cal_warning_18\": 0,\n",
      "    \"f1_rddq_pqtr_final_nibble06\": 0,\n",
      "    \"f1_rddq_idelay_final_bit36\": 0,\n",
      "    \"f0_rdprbs_nqtr_left_margin_nibble07\": 0,\n",
      "    \"f1_rddq_nqtr_right_fcrse_nibble09\": 0,\n",
      "    \"wrvref_vref_upp_bound_rank0_byte5\": 0,\n",
      "    \"f1_wrdqdbi_deskew_dq_odly_fcrse_bit31\": 0,\n",
      "    \"bisc_mon_align_nibble09\": 0,\n",
      "    \"f0_rd_comp_rise_lm_nib_00\": [\n",
      "        66,\n",
      "        133\n",
      "    ],\n",
      "    \"f0_rdcmplx_nqtr_left_short_nibble05\": 33,\n",
      "    \"f0_rd_simp_rise_lm_nib_08\": [\n",
      "        73,\n",
      "        148\n",
      "    ],\n",
      "    \"f1_wrdqdbi_stg2_dq_odly_bit50\": 0,\n",
      "    \"f1_rddq_qtr_deskew_nibble01\": 0,\n",
      "    \"wrvref_vref_final_rank0_byte4\": 0,\n",
      "    \"f1_wrdqdbi_stg3_dq_odly_bit32\": 0,\n",
      "    \"f1_rddq_nqtr_right_fcrse_nibble06\": 0,\n",
      "    \"f0_wr_comp_lm_byte_02\": [\n",
      "        70,\n",
      "        144\n",
      "    ],\n",
      "    \"bisc_idly3_align_nibble07\": 76,\n",
      "    \"f0_rdprbs_nqtr_left_margin_nibble03\": 0,\n",
      "    \"f0_rd_simp_fall_ctp_nib_11\": [\n",
      "        97,\n",
      "        199\n",
      "    ],\n",
      "    \"bisc_idly4_align_nibble11\": 79,\n",
      "    \"cal_warning_47\": 0,\n",
      "    \"f0_rdcmplx_pqtr_right_short_nibble10\": 168,\n",
      "    \"f0_wrdqdbi_stg2_dq_odly_bit15\": 62,\n",
      "    \"cal_warning_24\": 0,\n",
      "    \"f0_rddq_nqtr_final_nibble09\": 94,\n",
      "    \"f0_wrdqdbi_odly_dq_final_bit51\": 43,\n",
      "    \"rdvref_vref_final_nibble01\": 0,\n",
      "    \"f0_rdcmplx_nqtr_left_short_nibble00\": 24,\n",
      "    \"f0_wrdqdbi_odly_dq_final_bit24\": 75,\n",
      "    \"f0_wrcmplx_odly_dqs_final_byte4\": 45,\n",
      "    \"f0_rddq_qtr_deskew_nibble15\": 1,\n",
      "    \"f1_rdcmplx_nqtr_right_short_nibble07\": 0,\n",
      "    \"f0_rd_simp_fall_rm_nib_15\": [\n",
      "        73,\n",
      "        152\n",
      "    ],\n",
      "    \"f1_wrdqdbi_stg2_dq_odly_bit34\": 0,\n",
      "    \"f0_rddq_idelay_final_bit18\": 84,\n",
      "    \"f0_wrdqdbi_odly_dq_final_bit53\": 59,\n",
      "    \"f0_wrlvl_noise_fcrse_rank0_byte6\": 45,\n",
      "    \"cal_error_bit_phy_nibble_12\": 0,\n",
      "    \"dqstrack_rldlyrnk_crse_max_byte5\": 2,\n",
      "    \"f1_calbisc_rl_dly_qtr_nibble13\": 0,\n",
      "    \"f1_wrcmplx_left_margin_byte4\": 0,\n",
      "    \"f0_rdprbs_pqtr_right_margin_nibble10\": 0,\n",
      "    \"f1_rdprbs_pqtr_left_margin_nibble12\": 0,\n",
      "    \"iobmap_dq_13_12\": 0,\n",
      "    \"f1_wrdqdbi_deskew_dq_odly_fcrse_bit17\": 0,\n",
      "    \"f1_rdcmplx_pqtr_left_short_nibble14\": 0,\n",
      "    \"f0_rddq_nqtr_final_nibble13\": 96,\n",
      "    \"f0_wrdqdbi_deskew_dq_odly_fcrse_bit30\": 148,\n",
      "    \"f0_wrcmplx_right_margin_byte7\": 65,\n",
      "    \"f1_wrdqdbi_left_edge_dq_bit51\": 0,\n",
      "    \"f0_rd_comp_fall_rm_nib_03\": [\n",
      "        58,\n",
      "        117\n",
      "    ],\n",
      "    \"track_enable\": \"DDRMC ISR Tracking, UB ISR Tracking, DQS Gate Tracking, Post-Cal Status\",\n",
      "    \"bisc_idly0_align_nibble09\": 75,\n",
      "    \"f0_wrlvl_noise_fcrse_rank0_byte2\": 25,\n",
      "    \"f0_rddq_nqtr_right_fcrse_nibble02\": 174,\n",
      "    \"cal_error_bit_phy_nibble_19\": 0,\n",
      "    \"f0_rdcmplx_pqtr_left_short_nibble01\": 21,\n",
      "    \"f0_wrcmplx_odly_dq_final_bit16\": 43,\n",
      "    \"f0_rdprbs_nqtr_right_margin_nibble07\": 0,\n",
      "    \"cal_stage_time_29\": 0,\n",
      "    \"f1_dqsgate_stg1_overflow_48\": 0,\n",
      "    \"f0_calbisc_rl_dly_qtr_nibble02\": 78,\n",
      "    \"iobmap_dq_23_22\": 0,\n",
      "    \"f0_rd_comp_rise_ctp_nib_03\": [\n",
      "        85,\n",
      "        172\n",
      "    ],\n",
      "    \"wrvref_left_vref_upp_bound_rank0_byte7\": 0,\n",
      "    \"iobmap_dqs_6\": 0,\n",
      "    \"rdvref_right_vref_final_nibble00\": 0,\n",
      "    \"wrvref_left_vref_upp_bound_rank0_byte5\": 0,\n",
      "    \"f1_wrdqdbi_deskew_dq_odly_fcrse_bit48\": 0,\n",
      "    \"vttrack_rldlyqtr_nibble14\": 74,\n",
      "    \"f0_wrdqdbi_odly_dq_final_bit05\": 63,\n",
      "    \"cal_warning_02\": 0,\n",
      "    \"f1_dram_2t_mode\": 1,\n",
      "    \"f1_rdprbs_nqtr_right_margin_nibble06\": 0,\n",
      "    \"f0_rd_comp_fall_rm_nib_14\": [\n",
      "        62,\n",
      "        127\n",
      "    ],\n",
      "    \"f0_wrlat_wldlyrnk_crse_final_rank0_byte1\": 3,\n",
      "    \"f0_add_cmd_dly\": 0,\n",
      "    \"f0_dqsgate_stg1_overflow_32\": 0,\n",
      "    \"f1_calbisc_rl_dly_nqtr_nibble00\": 0,\n",
      "    \"f0_rdcmplx_pqtr_left_nibble01\": 22,\n",
      "    \"f0_rddq_pqtr_right_nibble01\": 158,\n",
      "    \"cal_warning_56\": 0,\n",
      "    \"f1_wrdqdbi_stg6_dbi_odly_byte2\": 0,\n",
      "    \"f0_rddq_pqtr_left_nibble02\": 17,\n",
      "    \"f0_wrdqdbi_right_margin_fcrse_byte6\": 60,\n",
      "    \"cal_post_status_00\": 0,\n",
      "    \"f0_wrdqdbi_stg3_dq_odly_bit09\": 62,\n",
      "    \"f0_wrdqdbi_stg3_dq_odly_bit51\": 44,\n",
      "    \"f0_wrdqdbi_stg3_dq_odly_bit03\": 51,\n",
      "    \"f0_wrdqdbi_stg2_dq_odly_bit44\": 55,\n",
      "    \"f0_rdprbs_nqtr_right_margin_nibble09\": 0,\n",
      "    \"rdvref_vref_upp_bound_nibble10\": 0,\n",
      "    \"f1_wrdqdbi_deskew_dq_odly_fcrse_bit29\": 0,\n",
      "    \"mgchk_def_rd_vref_1\": 0,\n",
      "    \"f1_wrlat_phy_data_nib_final_byte2\": 0,\n",
      "    \"bisc_nqtr_align_nibble03\": 0,\n",
      "    \"ub_isr_vt_track_err\": 0,\n",
      "    \"f0_wrlat_phy_oe_nib_final_byte1\": 1,\n",
      "    \"f1_rddq_nqtr_right_nibble12\": 0,\n",
      "    \"iobmap_dq_5_4\": 0,\n",
      "    \"f0_wrdqdbi_stg1_dqs_delay_byte6\": 60,\n",
      "    \"vttrack_rldlyqtr_min_nibble07\": 74,\n",
      "    \"wrvref_vref_low_bound_rank0_byte6\": 0,\n",
      "    \"mgchk_def_rd_vref_0\": 373,\n",
      "    \"f0_wrdqdbi_left_edge_dq_bit62\": 74,\n",
      "    \"f0_rdcmplx_nqtr_left_short_nibble12\": 24,\n",
      "    \"f1_rddq_nqtr_right_fcrse_nibble07\": 0,\n",
      "    \"f1_wrcmplx_odly_dbi_final_byte1\": 0,\n",
      "    \"f0_rddq_pqtr_left_nibble06\": 17,\n",
      "    \"phy_rden9_dly\": 22,\n",
      "    \"f1_dqsgate_stg1_rldlyrnk_crse_rank0_byte3\": 0,\n",
      "    \"f0_wrdqdbi_stg6_dbi_odly_byte2\": 19,\n",
      "    \"f1_wrdqdbi_stg5_dqs_odly_byte7\": 0,\n",
      "    \"vttrack_rldlyqtr_min_nibble08\": 73,\n",
      "    \"f0_wrcmplx_odly_dq_final_bit43\": 63,\n",
      "    \"f0_wrdqdbi_deskew_dq_odly_bit19\": 94,\n",
      "    \"wrmargin_left_byte2\": 0,\n",
      "    \"f1_rdcmplx_pqtr_right_short_fcrse_nibble03\": 0,\n",
      "    \"f1_wrlvl_fine_right_rank0_byte0\": 0,\n",
      "    \"rdvref_right_vref_def_nibble14\": 0,\n",
      "    \"bisc_idly1_align_nibble11\": 78,\n",
      "    \"f1_wrcmplx_right_margin_byte1\": 0,\n",
      "    \"f0_calbisc_rl_dly_qtr_nibble03\": 77,\n",
      "    \"bisc_rl_dly_qtr_nibble14\": 76,\n",
      "    \"wrmargin_right_byte3\": 0,\n",
      "    \"rdvref_left_vref_def_nibble00\": 0,\n",
      "    \"ddrmc_isr_uc1_ecc0\": 0,\n",
      "    \"rdvref_left_vref_upp_bound_nibble10\": 0,\n",
      "    \"f0_wrdqdbi_left_edge_dq_bit43\": 53,\n",
      "    \"f0_wrdqdbi_left_edge_dq_bit55\": 48,\n",
      "    \"f0_rddq_idelay_final_bit28\": 71,\n",
      "    \"f1_wrdqdbi_stg4_dqs_delay_byte5\": 0,\n",
      "    \"f1_rdcmplx_idelay_offset_nibble05\": 0,\n",
      "    \"vttrack_rldlyqtr_nibble07\": 77,\n",
      "    \"f0_rd_simp_rise_lm_nib_09\": [\n",
      "        74,\n",
      "        150\n",
      "    ],\n",
      "    \"cal_stage_time_26\": 0,\n",
      "    \"ddrmc_isr_na_cmd1\": 0,\n",
      "    \"f1_rdcmplx_nqtr_right_short_nibble13\": 0,\n",
      "    \"f1_wrdqdbi_stg1_dqs_delay_byte0\": 0,\n",
      "    \"rdvref_right_vref_low_bound_nibble07\": 0,\n",
      "    \"f1_wrdqdbi_deskew_dq_odly_fcrse_bit59\": 0,\n",
      "    \"f1_rdprbs_nqtr_right_margin_nibble07\": 0,\n",
      "    \"cal_warning_74\": 0,\n",
      "    \"f0_wrlvl_crse_stg1_rank0_byte3\": 0,\n",
      "    \"f1_write_latency\": 1,\n",
      "    \"f1_wrdqdbi_stg3_dq_odly_bit41\": 0,\n",
      "    \"f0_rddq_qtr_deskew_nibble10\": 1,\n",
      "    \"nsu3_perf_mon_0_2\": 0,\n",
      "    \"f0_wrdqdbi_stg3_dq_odly_bit29\": 78,\n",
      "    \"f0_wrdqdbi_stg3_dq_odly_bit63\": 59,\n",
      "    \"f0_period\": 625,\n",
      "    \"f0_wrdqdbi_stg4_dqs_delay_byte5\": 14,\n",
      "    \"f0_wrdqdbi_odly_dq_final_bit45\": 55,\n",
      "    \"f1_rcd_rc0a\": 0,\n",
      "    \"f1_rddq_idelay_final_bit62\": 0,\n",
      "    \"f0_wrlvl_crse_final_rank0_byte6\": 3,\n",
      "    \"f0_rdcmplx_pqtr_right_short_nibble09\": 166,\n",
      "    \"bisc_idly1_align_nibble03\": 77,\n",
      "    \"f1_wrdqdbi_stg5_dqs_odly_byte5\": 0,\n",
      "    \"f0_calbisc_rl_dly_qtr_nibble10\": 78,\n",
      "    \"cal_warning_69\": 0,\n",
      "    \"rdmargin_nqtr_left_nibble05\": 0,\n",
      "    \"f1_wrlvl_crse_stg1_rank0_byte7\": 0,\n",
      "    \"f0_wrcmplx_odly_dq_final_bit01\": 61,\n",
      "    \"rdmargin_pqtr_right_nibble15\": 0,\n",
      "    \"f0_dqsgate_stg1_overflow_63\": 0,\n",
      "    \"f1_rddq_idelay_final_bit46\": 0,\n",
      "    \"f1_dqsgate_stg2_rldlyrnk_crse_rank0_byte3\": 0,\n",
      "    \"f1_rddq_pqtr_left_nibble14\": 0,\n",
      "    \"f1_rdcmplx_pqtr_right_nibble14\": 0,\n",
      "    \"f1_rddq_idelay_final_bit54\": 0,\n",
      "    \"f1_rdprbs_pqtr_right_margin_nibble02\": 0,\n",
      "    \"cal_seq_status_03\": 261,\n",
      "    \"f0_rdprbs_pqtr_left_margin_nibble09\": 0,\n",
      "    \"f1_wrdqdbi_stg6_dbi_odly_byte7\": 0,\n",
      "    \"f1_wrdqdbi_odly_dq_final_bit10\": 0,\n",
      "    \"bisc_idly4_align_nibble10\": 73,\n",
      "    \"f1_wrlat_match_rank0_byte1\": 0,\n",
      "    \"nsu0_perf_mon_ctl_0_0\": 0,\n",
      "    \"f0_wrdqdbi_stg2_dq_odly_bit46\": 55,\n",
      "    \"f0_rddq_nqtr_left_nibble01\": 23,\n",
      "    \"dqstrack_rldlyrnk_fine_min_byte2\": 44,\n",
      "    \"f0_calbisc_rl_dly_qtr_nibble04\": 77,\n",
      "    \"f1_wrdqdbi_odly_dq_final_bit47\": 0,\n",
      "    \"f0_rddq_idelay_final_bit22\": 79,\n",
      "    \"f1_wrlvl_offset_rank0_byte5\": 0,\n",
      "    \"cal_warning_06\": 0,\n",
      "    \"f1_wrlat_xpi_oe_all_final\": 0,\n",
      "    \"cal_warning_67\": 0,\n",
      "    \"xpi_write_dm_dbi\": 1,\n",
      "    \"f0_dqsgate_stg1_overflow_51\": 0,\n",
      "    \"f0_rd_comp_rise_rm_nib_15\": [\n",
      "        65,\n",
      "        133\n",
      "    ],\n",
      "    \"xpi_oe\": 258,\n",
      "    \"f1_wrdqdbi_stg2_dq_odly_bit39\": 0,\n",
      "    \"f0_wrdqdbi_odly_dq_final_bit17\": 19,\n",
      "    \"f1_wrdqdbi_deskew_dq_odly_bit58\": 0,\n",
      "    \"f1_wrdqdbi_odly_dq_final_bit02\": 0,\n",
      "    \"rdvref_right_vref_def_nibble08\": 0,\n",
      "    \"f0_rddq_nqtr_final_nibble02\": 97,\n",
      "    \"f0_rddq_qtr_deskew_nibble02\": 1,\n",
      "    \"f1_rddq_idelay_final_bit53\": 0,\n",
      "    \"f0_wrdqdbi_stg3_dq_odly_bit31\": 78,\n",
      "    \"f0_rdcmplx_pqtr_right_nibble10\": 150,\n",
      "    \"f0_calbisc_rl_dly_nqtr_nibble10\": 80,\n",
      "    \"f0_wrdqdbi_left_edge_dq_bit07\": 50,\n",
      "    \"f1_wrlvl_fine_left_rank0_byte2\": 0,\n",
      "    \"f0_rdcmplx_nqtr_left_short_nibble02\": 31,\n",
      "    \"f1_wrlat_wldlyrnk_crse_final_rank0_byte3\": 0,\n",
      "    \"f0_wrcmplx_left_margin_byte2\": 70,\n",
      "    \"cal_seq_status_14\": 272,\n",
      "    \"f0_wrdqdbi_deskew_dq_odly_fcrse_bit32\": 99,\n",
      "    \"wrmargin_right_byte4\": 0,\n",
      "    \"f1_rddq_nqtr_left_nibble05\": 0,\n",
      "    \"f1_wrdqdbi_left_edge_dq_bit53\": 0,\n",
      "    \"cal_warning_50\": 0,\n",
      "    \"wrmargin_left_byte7\": 0,\n",
      "    \"f1_rddq_nqtr_left_nibble00\": 0,\n",
      "    \"bisc_mon_align_nibble03\": 0,\n",
      "    \"f1_wrdqdbi_stg2_dq_odly_bit27\": 0,\n",
      "    \"f1_rddq_qtr_deskew_nibble08\": 0,\n",
      "    \"f0_wr_simp_ctp_byte_05\": [\n",
      "        300,\n",
      "        614\n",
      "    ],\n",
      "    \"f1_dqsgate_stg1_overflow_24\": 0,\n",
      "    \"rdmargin_pqtr_left_nibble09\": 0,\n",
      "    \"f0_wrcmplx_left_margin_fcrse_byte0\": 70,\n",
      "    \"f1_wrdqdbi_stg3_dq_odly_bit19\": 0,\n",
      "    \"f0_wrdqdbi_left_margin_byte4\": 70,\n",
      "    \"f1_rdprbs_nqtr_left_margin_nibble13\": 0,\n",
      "    \"f0_rddq_pqtr_right_fcrse_nibble13\": 172,\n",
      "    \"f0_wrdqdbi_deskew_dq_odly_fcrse_bit18\": 99,\n",
      "    \"f0_wrdqdbi_odly_dq_final_bit08\": 57,\n",
      "    \"wrvref_vref_upp_bound_rank0_byte0\": 0,\n",
      "    \"f0_dqsgate_stg1_overflow_47\": 0,\n",
      "    \"f1_rdprbs_pqtr_left_margin_nibble09\": 0,\n",
      "    \"f1_wrlvl_fine_final_rank0_byte1\": 0,\n",
      "    \"f1_wrdqdbi_stg2_dq_odly_bit22\": 0,\n",
      "    \"max_bits\": 72,\n",
      "    \"f0_rd_simp_rise_rm_nib_14\": [\n",
      "        74,\n",
      "        152\n",
      "    ],\n",
      "    \"f1_rdcmplx_nqtr_right_short_nibble12\": 0,\n",
      "    \"cal_error_sub_stage\": 0,\n",
      "    \"f0_calbisc_rl_dly_pqtr_nibble13\": 76,\n",
      "    \"f0_wrlat_phy_oe_nib_final_byte2\": 1,\n",
      "    \"dqstrack_rldlyrnk_fine_max_byte6\": 73,\n",
      "    \"f1_rddq_nqtr_right_nibble00\": 0,\n",
      "    \"rdvref_left_vref_def_nibble15\": 0,\n",
      "    \"f0_tck_lsb\": 113,\n",
      "    \"rdvref_vref_upp_bound_nibble00\": 0,\n",
      "    \"f1_wrdqdbi_odly_dq_final_bit43\": 0,\n",
      "    \"cal_seq_status_31\": 302,\n",
      "    \"f0_calbisc_rl_dly_qtr_nibble08\": 76,\n",
      "    \"f0_dqsgate_stg1_rldlyrnk_fine_rank0_byte4\": 39,\n",
      "    \"f1_rddq_nqtr_left_nibble03\": 0,\n",
      "    \"f1_wrdqdbi_deskew_dbi_odly_fcrse_byte4\": 0,\n",
      "    \"f1_wrcmplx_odly_dqs_final_byte3\": 0,\n",
      "    \"cal_warning_14\": 0,\n",
      "    \"phy_oe_nib26_dly\": 0,\n",
      "    \"f1_wrdqdbi_stg3_dq_odly_bit61\": 0,\n",
      "    \"f1_rdcmplx_nqtr_final_nibble02\": 0,\n",
      "    \"f0_rdcmplx_nqtr_final_nibble07\": 85,\n",
      "    \"f0_calbisc_rl_dly_pqtr_nibble14\": 76,\n",
      "    \"f0_wrprbs_right_margin_byte6\": 0,\n",
      "    \"f1_rdprbs_nqtr_left_margin_nibble08\": 0,\n",
      "    \"f1_wrlvl_offset_rank0_byte2\": 0,\n",
      "    \"bisc_rl_dly_qtr_nibble13\": 76,\n",
      "    \"f1_rdcmplx_nqtr_final_nibble14\": 0,\n",
      "    \"vttrack_rldlyqtr_min_nibble01\": 74,\n",
      "    \"rdvref_vref_upp_bound_nibble13\": 0,\n",
      "    \"f0_calbisc_rl_dly_nqtr_nibble14\": 76,\n",
      "    \"f1_wrdqdbi_stg3_dq_odly_bit27\": 0,\n",
      "    \"phy_oe_nib25_dly\": 0,\n",
      "    \"f0_wrdqdbi_stg3_dq_odly_bit54\": 44,\n",
      "    \"f0_rd_simp_rise_ctp_nib_09\": [\n",
      "        91,\n",
      "        185\n",
      "    ],\n",
      "    \"phy_oe_nib12_dly\": 0,\n",
      "    \"f0_rd_comp_rise_rm_nib_05\": [\n",
      "        62,\n",
      "        130\n",
      "    ],\n",
      "    \"f1_rddq_pqtr_right_nibble01\": 0,\n",
      "    \"f0_wrlvl_crse_stg1_rank0_byte2\": 0,\n",
      "    \"f0_wrcmplx_left_margin_fcrse_byte7\": 60,\n",
      "    \"cal_post_status_05\": 0,\n",
      "    \"f0_wrdqdbi_left_edge_dbi_byte6\": 44,\n",
      "    \"f1_wrdqdbi_odly_dq_final_bit41\": 0,\n",
      "    \"f0_dqsgate_stg1_overflow_60\": 0,\n",
      "    \"f1_rddq_idelay_final_bit15\": 0,\n",
      "    \"f1_rddq_pqtr_right_fcrse_nibble00\": 0,\n",
      "    \"f1_wrlvl_fine_final_rank0_byte0\": 0,\n",
      "    \"f1_rddq_pqtr_right_fcrse_nibble03\": 0,\n",
      "    \"f1_rdcmplx_nqtr_right_nibble13\": 0,\n",
      "    \"f1_calbisc_rl_dly_pqtr_nibble13\": 0,\n",
      "    \"f0_wrcmplx_odly_dq_final_bit54\": 54,\n",
      "    \"f0_rddq_nqtr_final_nibble08\": 96,\n",
      "    \"f1_wrdqdbi_left_edge_dq_bit02\": 0,\n",
      "    \"f0_rdcmplx_nqtr_right_nibble08\": 143,\n",
      "    \"f0_rdprbs_pqtr_right_margin_nibble05\": 0,\n",
      "    \"f1_wrdqdbi_left_edge_dq_bit49\": 0,\n",
      "    \"f0_rd_simp_fall_ctp_nib_01\": [\n",
      "        96,\n",
      "        203\n",
      "    ],\n",
      "    \"f1_wrcmplx_odly_dq_final_bit42\": 0,\n",
      "    \"f0_wr_comp_ctp_byte_05\": [\n",
      "        300,\n",
      "        614\n",
      "    ],\n",
      "    \"f0_rdprbs_pqtr_left_margin_nibble02\": 0,\n",
      "    \"f0_rddq_idelay_final_bit01\": 74,\n",
      "    \"mc_loc\": \"x0y0\",\n",
      "    \"num_channels\": 1,\n",
      "    \"f0_wrdqdbi_deskew_dq_odly_bit28\": 149,\n",
      "    \"f0_wrcmplx_right_margin_fcrse_byte4\": 60,\n",
      "    \"f1_dqsgate_stg1_overflow_55\": 0,\n",
      "    \"rdmargin_nqtr_right_nibble12\": 0,\n",
      "    \"f1_rddq_idelay_final_bit32\": 0,\n",
      "    \"iobmap_dq_33_32\": 0,\n",
      "    \"nsu3_perf_filter_0_0\": 0,\n",
      "    \"rdvref_vref_final_nibble05\": 0,\n",
      "    \"f0_rd_simp_rise_rm_nib_10\": [\n",
      "        76,\n",
      "        156\n",
      "    ],\n",
      "    \"bisc_idly0_align_nibble07\": 74,\n",
      "    \"f1_rddq_idelay_final_bit37\": 0,\n",
      "    \"f0_rdcmplx_pqtr_right_short_fcrse_nibble15\": 167,\n",
      "    \"f0_rd_comp_rise_ctp_nib_04\": [\n",
      "        87,\n",
      "        179\n",
      "    ],\n",
      "    \"rdvref_right_vref_final_nibble14\": 0,\n",
      "    \"f1_wrdqdbi_deskew_dq_odly_fcrse_bit38\": 0,\n",
      "    \"iobmap_dq_63_62\": 0,\n",
      "    \"nsu3_perf_filter_1_1\": 0,\n",
      "    \"f1_wrlat_wldlyrnk_crse_final_rank0_byte2\": 0,\n",
      "    \"reg_safe_config3\": 16877592,\n",
      "    \"f0_rddq_nqtr_left_nibble08\": 26,\n",
      "    \"f1_rdcmplx_nqtr_left_short_nibble09\": 0,\n",
      "    \"f0_wr_simp_rm_byte_05\": [\n",
      "        67,\n",
      "        136\n",
      "    ],\n",
      "    \"f0_wrdqdbi_stg2_dq_odly_bit06\": 51,\n",
      "    \"iobmap_dqs_5\": 0,\n",
      "    \"f0_wrdqdbi_right_margin_fcrse_byte3\": 70,\n",
      "    \"f0_wrcmplx_right_margin_byte2\": 60,\n",
      "    \"f0_rd_simp_rise_ctp_nib_04\": [\n",
      "        92,\n",
      "        189\n",
      "    ],\n",
      "    \"bisc_idly4_align_nibble07\": 76,\n",
      "    \"f1_wrcmplx_odly_dq_final_bit40\": 0,\n",
      "    \"nsu2_perf_filter_0_1\": 0,\n",
      "    \"f1_dqsgate_stg1_rldlyrnk_fine_rank0_byte3\": 0,\n",
      "    \"f0_wrdqdbi_stg3_dq_odly_bit47\": 55,\n",
      "    \"f0_rdcmplx_pqtr_left_short_nibble13\": 22,\n",
      "    \"f0_rddq_nqtr_final_nibble12\": 96,\n",
      "    \"f1_wrdqdbi_deskew_dq_odly_fcrse_bit25\": 0,\n",
      "    \"f1_rdprbs_pqtr_right_margin_nibble01\": 0,\n",
      "    \"f1_rdcmplx_pqtr_right_short_nibble03\": 0,\n",
      "    \"f0_wr_simp_rm_byte_03\": [\n",
      "        71,\n",
      "        145\n",
      "    ],\n",
      "    \"wrvref_left_vref_low_bound_rank0_byte0\": 0,\n",
      "    \"f1_wrlvl_offset_rank0_byte4\": 0,\n",
      "    \"f0_wrcmplx_left_margin_fcrse_byte3\": 70,\n",
      "    \"bisc_mon_align_nibble13\": 0,\n",
      "    \"cal_stage_time_55\": 0,\n",
      "    \"self_refresh_entry_error\": 0,\n",
      "    \"f1_wrlvl_noise_fcrse_rank0_byte0\": 0,\n",
      "    \"f1_rdprbs_pqtr_left_margin_nibble13\": 0,\n",
      "    \"bisc_pqtr_align_nibble08\": 0,\n",
      "    \"cal_message\": \"No errors detected during calibration.\",\n",
      "    \"f0_wrlvl_noise_fcrse_rank0_byte7\": 65,\n",
      "    \"nsu2_perf_filter_0_0\": 0,\n",
      "    \"f1_rddq_nqtr_final_nibble03\": 0,\n",
      "    \"f1_rdcmplx_pqtr_left_nibble09\": 0,\n",
      "    \"f0_rd_simp_fall_lm_nib_05\": [\n",
      "        70,\n",
      "        147\n",
      "    ],\n",
      "    \"f1_rdcmplx_nqtr_left_nibble03\": 0,\n",
      "    \"mgchk_done\": 0,\n",
      "    \"iobmap_dq_21_20\": 0,\n",
      "    \"f1_wrdqdbi_deskew_dq_odly_bit16\": 0,\n",
      "    \"rdvref_right_vref_final_nibble10\": 0,\n",
      "    \"f0_wrdqdbi_left_edge_dq_bit20\": 21,\n",
      "    \"f1_rdcmplx_nqtr_left_short_nibble01\": 0,\n",
      "    \"bisc_nqtr_align_nibble09\": 0,\n",
      "    \"f0_rd_comp_rise_ctp_nib_05\": [\n",
      "        86,\n",
      "        182\n",
      "    ],\n",
      "    \"f0_mr2_8_0\": 232,\n",
      "    \"f0_rd_simp_fall_lm_nib_07\": [\n",
      "        68,\n",
      "        136\n",
      "    ],\n",
      "    \"phy_rden12_dly\": 22,\n",
      "    \"f1_wrdqdbi_stg3_dq_odly_bit56\": 0,\n",
      "    \"f0_rddq_pqtr_final_nibble11\": 92,\n",
      "    \"f0_wrdqdbi_stg2_dq_odly_bit01\": 51,\n",
      "    \"f0_wrdqdbi_stg2_dq_odly_bit61\": 59,\n",
      "    \"phy_oe_nib14_dly\": 0,\n",
      "    \"bisc_pqtr_nibble01\": 76,\n",
      "    \"f0_rddq_idelay_final_bit40\": 81,\n",
      "    \"f1_wrlat_match_rank0_byte5\": 0,\n",
      "    \"f0_wrdqdbi_deskew_dq_odly_fcrse_bit50\": 124,\n",
      "    \"f1_calbisc_rl_dly_qtr_nibble08\": 0,\n",
      "    \"f0_rddq_idelay_final_bit15\": 70,\n",
      "    \"vttrack_rldlyqtr_nibble05\": 78,\n",
      "    \"f0_wrdqdbi_odly_dbi_final_byte4\": 29,\n",
      "    \"f1_rdcmplx_pqtr_right_short_nibble00\": 0,\n",
      "    \"f0_dqsgate_stg1_rldlyrnk_fine_rank0_byte6\": 73,\n",
      "    \"f0_rddq_pqtr_final_nibble14\": 90,\n",
      "    \"f1_wrdqdbi_odly_dq_final_bit15\": 0,\n",
      "    \"f1_rdcmplx_pqtr_final_nibble03\": 0,\n",
      "    \"f1_rdprbs_pqtr_right_margin_nibble11\": 0,\n",
      "    \"f0_rdcmplx_nqtr_left_nibble08\": 27,\n",
      "    \"ddrmc_isr_ch1_data_par\": 0,\n",
      "    \"f1_wrdqdbi_stg5_dqs_odly_byte1\": 0,\n",
      "    \"f1_calbisc_rl_dly_pqtr_nibble01\": 0,\n",
      "    \"f0_rd_simp_fall_rm_nib_11\": [\n",
      "        69,\n",
      "        141\n",
      "    ],\n",
      "    \"reg_retry_0\": 194408526,\n",
      "    \"f1_wrdqdbi_stg2_dq_odly_bit49\": 0,\n",
      "    \"max_nibbles\": 18,\n",
      "    \"cal_warning_13\": 0,\n",
      "    \"f0_wrdqdbi_odly_dq_final_bit50\": 53,\n",
      "    \"dc0_perf_mon_1\": 0,\n",
      "    \"f0_rdcmplx_nqtr_right_nibble13\": 147,\n",
      "    \"f1_wrdqdbi_stg2_dqs_odly_byte5\": 0,\n",
      "    \"f1_wrdqdbi_left_edge_dq_bit09\": 0,\n",
      "    \"f1_rdcmplx_nqtr_left_nibble05\": 0,\n",
      "    \"f1_rddq_idelay_final_bit56\": 0,\n",
      "    \"f1_wrdqdbi_odly_dq_final_bit55\": 0,\n",
      "    \"f0_wrdqdbi_deskew_dq_odly_fcrse_bit62\": 149,\n",
      "    \"f0_calbisc_rl_dly_qtr_nibble11\": 75,\n",
      "    \"f0_wrlvl_fine_right_rank0_byte3\": 79,\n",
      "    \"f1_lp4_mr14\": 0,\n",
      "    \"cal_warning_51\": 0,\n",
      "    \"wrvref_left_vref_upp_bound_rank0_byte1\": 0,\n",
      "    \"f0_rdcmplx_nqtr_left_short_nibble08\": 26,\n",
      "    \"f1_wrcmplx_odly_dq_final_bit62\": 0,\n",
      "    \"f1_wrlvl_crse_final_rank0_byte7\": 0,\n",
      "    \"cal_seq_status_40\": 445,\n",
      "    \"bisc_idly5_align_nibble05\": 76,\n",
      "    \"f0_wrdqdbi_deskew_dq_odly_fcrse_bit12\": 132,\n",
      "    \"max_bytes\": 18,\n",
      "    \"cal_warning_07\": 0,\n",
      "    \"f1_wrdqdbi_deskew_dq_odly_bit15\": 0,\n",
      "    \"f0_dqsgate_stg1_overflow_01\": 0,\n",
      "    \"f1_wrcmplx_odly_dq_final_bit16\": 0,\n",
      "    \"f1_rdcmplx_nqtr_left_short_nibble11\": 0,\n",
      "    \"f1_mr1_8_0\": 0,\n",
      "    \"f0_wrdqdbi_stg3_dq_odly_bit60\": 59,\n",
      "    \"f0_dqsgate_stg1_overflow_36\": 0,\n",
      "    \"f0_wrdqdbi_deskew_dbi_odly_fcrse_byte1\": 132,\n",
      "    \"rdvref_vref_upp_bound_nibble06\": 0,\n",
      "    \"f0_wr_comp_rm_byte_01\": [\n",
      "        50,\n",
      "        100\n",
      "    ],\n",
      "    \"iobmap_dq_47_46\": 0,\n",
      "    \"f0_rddq_nqtr_right_fcrse_nibble15\": 179,\n",
      "    \"f0_wrdqdbi_stg2_dq_odly_bit25\": 78,\n",
      "    \"cal_stage_time_45\": 0,\n",
      "    \"rdvref_left_vref_def_nibble10\": 0,\n",
      "    \"f0_rddq_idelay_final_bit52\": 84,\n",
      "    \"f1_rdprbs_pqtr_right_margin_nibble05\": 0,\n",
      "    \"f0_rdcmplx_pqtr_right_short_fcrse_nibble02\": 169,\n",
      "    \"f1_wrdqdbi_deskew_dq_odly_fcrse_bit28\": 0,\n",
      "    \"vttrack_rldlyqtr_min_nibble15\": 75,\n",
      "    \"f0_rdprbs_pqtr_right_margin_nibble09\": 0,\n",
      "    \"f0_wrdqdbi_deskew_dq_odly_fcrse_bit24\": 138,\n",
      "    \"f1_rddq_nqtr_right_nibble07\": 0,\n",
      "    \"cal_warning_33\": 0,\n",
      "    \"f0_wrdqdbi_stg1_byte_status_01\": 511,\n",
      "    \"f0_rddq_pqtr_right_fcrse_nibble00\": 162,\n",
      "    \"f1_wrdqdbi_right_margin_byte4\": 0,\n",
      "    \"f0_rddq_qtr_deskew_nibble04\": 1,\n",
      "    \"mgchk_ack\": 0,\n",
      "    \"phy_oe_nib4_dly\": 1,\n",
      "    \"wrvref_vref_upp_bound_rank0_byte6\": 0,\n",
      "    \"phy_rden26_dly\": 22,\n",
      "    \"f1_mr6_17_9\": 0,\n",
      "    \"bisc_pqtr_nibble12\": 75,\n",
      "    \"f1_wrlvl_crse_final_rank0_byte1\": 0,\n",
      "    \"f1_wrdqdbi_odly_dq_final_bit03\": 0,\n",
      "    \"f0_wrdqdbi_deskew_dq_odly_bit01\": 129,\n",
      "    \"f0_wrcmplx_left_margin_fcrse_byte4\": 60,\n",
      "    \"f1_rdcmplx_pqtr_final_nibble01\": 0,\n",
      "    \"bisc_idly1_align_nibble07\": 76,\n",
      "    \"f1_wrdqdbi_stg4_byte_status_01\": 0,\n",
      "    \"f1_rdcmplx_pqtr_right_nibble08\": 0,\n",
      "    \"cal_seq_status_28\": 300,\n",
      "    \"f1_wrprbs_right_margin_byte1\": 0,\n",
      "    \"dqs_gate_running\": 1,\n",
      "    \"f0_wrlat_wldlyrnk_crse_final_rank0_byte3\": 0,\n",
      "    \"f0_wrdqdbi_stg3_dq_odly_bit61\": 59,\n",
      "    \"f1_wrdqdbi_right_edge_dqs_byte2\": 0,\n",
      "    \"cal_seq_status_48\": 0,\n",
      "    \"bisc_idly3_align_nibble15\": 78,\n",
      "    \"rdmargin_nqtr_right_nibble10\": 0,\n",
      "    \"f1_wrdqdbi_left_margin_byte5\": 0,\n",
      "    \"f1_wrdqdbi_odly_dqs_final_byte2\": 0,\n",
      "    \"f0_rd_comp_fall_ctp_nib_11\": [\n",
      "        88,\n",
      "        181\n",
      "    ],\n",
      "    \"bisc_idly4_align_nibble14\": 72,\n",
      "    \"f0_rdcmplx_pqtr_final_nibble12\": 87,\n",
      "    \"dqstrack_rldlyrnk_fine_max_byte5\": 41,\n",
      "    \"f0_rdprbs_pqtr_left_margin_nibble14\": 0,\n",
      "    \"cal_warning_60\": 0,\n",
      "    \"f0_rdcmplx_pqtr_right_short_fcrse_nibble05\": 169,\n",
      "    \"f1_rddq_nqtr_right_nibble13\": 0,\n",
      "    \"f0_wrdqdbi_stg3_dq_odly_bit62\": 59,\n",
      "    \"f0_wrdqdbi_odly_dqs_final_byte2\": 35,\n",
      "    \"cal_error_bit_phy_nibble_01\": 0,\n",
      "    \"f0_rddq_nqtr_final_nibble11\": 97,\n",
      "    \"f1_wrdqdbi_deskew_dbi_odly_byte0\": 0,\n",
      "    \"f0_wrdqdbi_stg2_dq_odly_bit51\": 44,\n",
      "    \"f0_rddq_nqtr_right_nibble07\": 165,\n",
      "    \"rdvref_right_vref_final_nibble03\": 0,\n",
      "    \"f1_rddq_pqtr_left_nibble06\": 0,\n",
      "    \"f1_wrdqdbi_stg3_dq_odly_bit34\": 0,\n",
      "    \"f1_rdcmplx_idelay_offset_nibble00\": 0,\n",
      "    \"rdvref_right_vref_low_bound_nibble03\": 0,\n",
      "    \"f0_wrdqdbi_stg2_dq_odly_bit28\": 78,\n",
      "    \"f1_calbisc_rl_dly_nqtr_nibble09\": 0,\n",
      "    \"f0_wrcmplx_odly_dq_final_bit24\": 80,\n",
      "    \"f1_rdprbs_pqtr_left_margin_nibble07\": 0,\n",
      "    \"cal_error_bit_phy_nibble_04\": 0,\n",
      "    \"f1_calbisc_rl_dly_nqtr_nibble03\": 0,\n",
      "    \"cal_stage_time_48\": 0,\n",
      "    \"f0_mr3_17_9\": 0,\n",
      "    \"bisc_pqtr_align_nibble07\": 0,\n",
      "    \"bisc_idly2_align_nibble06\": 65,\n",
      "    \"f0_wr_simp_ctp_byte_04\": [\n",
      "        273,\n",
      "        561\n",
      "    ],\n",
      "    \"f0_rdcmplx_pqtr_right_short_fcrse_nibble09\": 170,\n",
      "    \"rdvref_left_vref_def_nibble14\": 0,\n",
      "    \"dc1_perf_mon_5\": 0,\n",
      "    \"bisc_nqtr_nibble02\": 78,\n",
      "    \"f0_wrdqdbi_left_margin_byte0\": 80,\n",
      "    \"f1_rddq_idelay_final_bit19\": 0,\n",
      "    \"f0_wrcmplx_right_margin_byte1\": 50,\n",
      "    \"bisc_pqtr_nibble03\": 77,\n",
      "    \"f1_wrdqdbi_left_edge_dq_bit30\": 0,\n",
      "    \"mgchk_enable_status\": 0,\n",
      "    \"rdmargin_pqtr_right_nibble06\": 0,\n",
      "    \"f0_rdcmplx_idelay_offset_nibble05\": 0,\n",
      "    \"rdvref_left_vref_final_nibble15\": 0,\n",
      "    \"f0_rdprbs_pqtr_left_margin_nibble13\": 0,\n",
      "    \"f0_rd_comp_fall_ctp_nib_09\": [\n",
      "        85,\n",
      "        177\n",
      "    ],\n",
      "    \"iobmap_dq_35_34\": 0,\n",
      "    \"rdvref_right_vref_final_nibble01\": 0,\n",
      "    \"f0_dqsgate_stg1_overflow_02\": 255,\n",
      "    \"f0_wrdqdbi_stg4_byte_status_01\": 511,\n",
      "    \"dc0_perf_mon_6\": 0,\n",
      "    \"f0_wrdqdbi_deskew_dq_odly_bit31\": 164,\n",
      "    \"f0_rdcmplx_nqtr_right_short_fcrse_nibble03\": 170,\n",
      "    \"f0_rdcmplx_nqtr_right_short_nibble14\": 172,\n",
      "    \"f0_rdprbs_pqtr_left_margin_nibble04\": 0,\n",
      "    \"f1_wrlvl_fine_left_rank0_byte1\": 0,\n",
      "    \"f1_rdcmplx_nqtr_left_nibble04\": 0,\n",
      "    \"rdvref_left_vref_low_bound_nibble07\": 0,\n",
      "    \"bisc_idly0_align_nibble13\": 74,\n",
      "    \"cal_time_8_0\": 58,\n",
      "    \"bisc_pqtr_align_nibble04\": 0,\n",
      "    \"f0_rdcmplx_nqtr_right_short_fcrse_nibble13\": 172,\n",
      "    \"bisc_pqtr_align_nibble00\": 0,\n",
      "    \"vttrack_rldlyqtr_max_nibble15\": 81,\n",
      "    \"dqstrack_rldlyrnk_crse_max_byte3\": 2,\n",
      "    \"f1_rddq_pqtr_right_fcrse_nibble14\": 0,\n",
      "    \"f1_wrdqdbi_deskew_dq_odly_bit46\": 0,\n",
      "    \"f0_rddq_pqtr_right_fcrse_nibble11\": 172,\n",
      "    \"f1_wrcmplx_odly_dq_final_bit29\": 0,\n",
      "    \"f0_rddq_idelay_final_bit55\": 83,\n",
      "    \"cal_warning_25\": 0,\n",
      "    \"f0_wrdqdbi_stg2_dq_odly_bit09\": 62,\n",
      "    \"f0_wrdqdbi_deskew_dq_odly_bit20\": 100,\n",
      "    \"f0_wrdqdbi_left_edge_dq_bit45\": 49,\n",
      "    \"rdvref_left_vref_low_bound_nibble14\": 0,\n",
      "    \"f0_wrlat_phy_data_nib_final_byte4\": 1,\n",
      "    \"bisc_idly1_align_nibble05\": 75,\n",
      "    \"f1_wrdqdbi_stg1_bit_status_byte5\": 0,\n",
      "    \"f0_rdcmplx_pqtr_final_nibble02\": 87,\n",
      "    \"f1_wrdqdbi_deskew_dq_odly_bit44\": 0,\n",
      "    \"f1_rddq_pqtr_final_nibble04\": 0,\n",
      "    \"scrub_en\": 1,\n",
      "    \"f1_calbisc_rl_dly_nqtr_nibble06\": 0,\n",
      "    \"f1_wrdqdbi_stg3_dq_odly_bit11\": 0,\n",
      "    \"phy_oe_nib3_dly\": 1,\n",
      "    \"bisc_pqtr_nibble07\": 76,\n",
      "    \"bisc_idly2_align_nibble04\": 62,\n",
      "    \"f1_rddq_idelay_final_bit50\": 0,\n",
      "    \"f0_rdcmplx_pqtr_left_nibble02\": 24,\n",
      "    \"f0_rd_simp_fall_ctp_nib_00\": [\n",
      "        97,\n",
      "        199\n",
      "    ],\n",
      "    \"f1_rdprbs_nqtr_right_margin_nibble00\": 0,\n",
      "    \"f0_dqsgate_read_lat_final_byte5\": 27,\n",
      "    \"f0_rd_simp_fall_ctp_nib_07\": [\n",
      "        96,\n",
      "        192\n",
      "    ],\n",
      "    \"0x13_F0_WRITE_DQ_DBI_CAL_COMPLEX\": \"Pass\",\n",
      "    \"f0_rd_comp_fall_lm_nib_11\": [\n",
      "        58,\n",
      "        119\n",
      "    ],\n",
      "    \"cal_error_data_nibble_17_9\": 0,\n",
      "    \"f0_rdcmplx_nqtr_right_short_nibble02\": 166,\n",
      "    \"dqstrack_rldlyrnk_crse_min_byte6\": 3,\n",
      "    \"f0_rddq_pqtr_right_nibble05\": 165,\n",
      "    \"f0_wrdqdbi_stg2_dq_odly_bit17\": 19,\n",
      "    \"f1_wrdqdbi_deskew_dq_odly_bit49\": 0,\n",
      "    \"f1_rdcmplx_pqtr_left_short_nibble03\": 0,\n",
      "    \"f1_wrdqdbi_left_edge_dq_bit57\": 0,\n",
      "    \"vttrack_rldlyqtr_max_nibble12\": 79,\n",
      "    \"f0_rd_comp_rise_rm_nib_04\": [\n",
      "        61,\n",
      "        125\n",
      "    ],\n",
      "    \"f1_wrdqdbi_stg1_dqs_delay_byte3\": 0,\n",
      "    \"f0_rdcmplx_pqtr_right_short_fcrse_nibble01\": 167,\n",
      "    \"cal_stage_time_01\": 70,\n",
      "    \"f1_wrdqdbi_left_edge_dq_bit25\": 0,\n",
      "    \"f0_rddq_pqtr_right_fcrse_nibble02\": 172,\n",
      "    \"f1_wrdqdbi_deskew_dq_odly_fcrse_bit06\": 0,\n",
      "    \"rdvref_right_vref_low_bound_nibble12\": 0,\n",
      "    \"f0_wrcmplx_odly_dq_final_bit56\": 74,\n",
      "    \"f0_wrdqdbi_odly_dq_final_bit09\": 61,\n",
      "    \"f0_rd_simp_fall_rm_nib_09\": [\n",
      "        71,\n",
      "        147\n",
      "    ],\n",
      "    \"f0_rdprbs_nqtr_left_margin_nibble11\": 0,\n",
      "    \"f0_rddq_pqtr_final_nibble01\": 87,\n",
      "    \"f0_wrdqdbi_stg3_dq_odly_bit52\": 44,\n",
      "    \"f1_wrdqdbi_deskew_dq_odly_bit52\": 0,\n",
      "    \"f0_rd_simp_rise_ctp_nib_03\": [\n",
      "        89,\n",
      "        181\n",
      "    ],\n",
      "    \"f1_wrdqdbi_odly_dbi_final_byte1\": 0,\n",
      "    \"cal_seq_status_16\": 274,\n",
      "    \"f0_wrdqdbi_odly_dq_final_bit48\": 53,\n",
      "    \"bisc_idly0_align_nibble10\": 67,\n",
      "    \"wrvref_left_vref_upp_bound_rank0_byte0\": 0,\n",
      "    \"f1_rdcmplx_nqtr_final_nibble04\": 0,\n",
      "    \"f1_dqsgate_read_lat_final_byte7\": 0,\n",
      "    \"f1_rdcmplx_nqtr_right_short_fcrse_nibble15\": 0,\n",
      "    \"f1_wrdqdbi_stg3_dq_odly_bit09\": 0,\n",
      "    \"f1_wrdqdbi_stg3_dq_odly_bit62\": 0,\n",
      "    \"f0_dqsgate_stg1_overflow_26\": 0,\n",
      "    \"f0_dqsgate_stg1_overflow_52\": 0,\n",
      "    \"f1_wrprbs_right_margin_byte7\": 0,\n",
      "    \"f0_wrdqdbi_left_edge_dq_bit04\": 49,\n",
      "    \"f1_rddq_idelay_final_bit05\": 0,\n",
      "    \"mgchk_def_wr_vref_range\": 0,\n",
      "    \"bisc_pqtr_align_nibble09\": 0,\n",
      "    \"f0_wrdqdbi_stg2_dq_odly_bit62\": 59,\n",
      "    \"f0_wrprbs_left_margin_byte1\": 0,\n",
      "    \"rdmargin_nqtr_right_nibble02\": 0,\n",
      "    \"f0_dqsgate_max_read_lat\": 28,\n",
      "    \"bisc_idly0_align_nibble04\": 0,\n",
      "    \"f1_rdcmplx_idelay_offset_nibble01\": 0,\n",
      "    \"0x3f_CAL_DONE\": \"Pass\",\n",
      "    \"f1_rddq_pqtr_right_fcrse_nibble13\": 0,\n",
      "    \"dc1_perf_mon_6\": 0,\n",
      "    \"bisc_pqtr_nibble14\": 76,\n",
      "    \"f0_rddq_pqtr_right_fcrse_nibble07\": 172,\n",
      "    \"f0_dqsgate_stg1_read_lat_rank0_byte6\": 24,\n",
      "    \"f1_wrdqdbi_deskew_dq_odly_fcrse_bit19\": 0,\n",
      "    \"f0_wr_simp_lm_byte_05\": [\n",
      "        79,\n",
      "        161\n",
      "    ],\n",
      "    \"f1_xpll_divclk_ht\": 1,\n",
      "    \"nsu0_perf_mon_0_1\": 0,\n",
      "    \"f0_wrdqdbi_stg6_dbi_odly_byte5\": 55,\n",
      "    \"f1_dqsgate_stg1_overflow_39\": 0,\n",
      "    \"f1_rdcmplx_pqtr_right_short_fcrse_nibble11\": 0,\n",
      "    \"cal_stage_time_18\": 0,\n",
      "    \"cal_stage.07_F0_WRITE_LATENCY_CAL\": \"Pass\",\n",
      "    \"reg_safe_config4\": 604004710,\n",
      "    \"f0_calbisc_rl_dly_pqtr_nibble07\": 76,\n",
      "    \"cal_seq_status_09\": 396,\n",
      "    \"f1_wrdqdbi_deskew_dq_odly_bit47\": 0,\n",
      "    \"cal_pre_status_17_9\": 511,\n",
      "    \"wrmargin_right_byte5\": 0,\n",
      "    \"f0_rddq_idelay_final_bit19\": 80,\n",
      "    \"xpi_read_offset\": 2197,\n",
      "    \"f1_rddq_pqtr_final_nibble00\": 0,\n",
      "    \"f1_dqsgate_stg2_read_lat_rank0_byte2\": 0,\n",
      "    \"f0_wrdqdbi_stg1_bit_status_byte2\": 0,\n",
      "    \"f1_rdprbs_nqtr_right_margin_nibble13\": 0,\n",
      "    \"f0_wrcmplx_right_margin_fcrse_byte7\": 60,\n",
      "    \"ub_isr_calerror\": 0,\n",
      "    \"nsu3_perf_mon_ctl_0_1\": 0,\n",
      "    \"f0_wrdqdbi_right_edge_dqs_byte6\": 125,\n",
      "    \"f0_wrdqdbi_deskew_dbi_odly_byte4\": 99,\n",
      "    \"cal_stage_time_04\": 0,\n",
      "    \"nsu2_perf_mon_ctl_1_1\": 0,\n",
      "    \"f1_rddq_idelay_final_bit52\": 0,\n",
      "    \"phy_rden25_dly\": 25,\n",
      "    \"f0_rdcmplx_nqtr_right_nibble04\": 149,\n",
      "    \"f0_rdprbs_nqtr_left_margin_nibble10\": 0,\n",
      "    \"f1_rddq_pqtr_right_nibble02\": 0,\n",
      "    \"f1_dqsgate_read_lat_final_byte2\": 0,\n",
      "    \"f1_dqsgate_stg1_overflow_35\": 0,\n",
      "    \"f1_wrcmplx_left_margin_byte0\": 0,\n",
      "    \"f0_wrlvl_crse_final_rank0_byte2\": 0,\n",
      "    \"f0_wrdqdbi_odly_dq_final_bit52\": 49,\n",
      "    \"f1_dqsgate_stg1_rldlyrnk_crse_rank0_byte5\": 0,\n",
      "    \"dqstrack_rldlyrnk_crse_min_byte0\": 4,\n",
      "    \"f1_wrlvl_fine_right_rank0_byte6\": 0,\n",
      "    \"f1_rdcmplx_nqtr_left_short_nibble08\": 0,\n",
      "    \"f1_wrcmplx_odly_dqs_final_byte4\": 0,\n",
      "    \"f1_wrdqdbi_stg1_dqs_delay_byte4\": 0,\n",
      "    \"f0_rdcmplx_nqtr_left_nibble13\": 27,\n",
      "    \"rdmargin_nqtr_right_nibble03\": 0,\n",
      "    \"f0_rddq_idelay_final_bit35\": 69,\n",
      "    \"f1_dqsgate_stg2_read_lat_rank0_byte3\": 0,\n",
      "    \"f0_rd_simp_fall_lm_nib_06\": [\n",
      "        70,\n",
      "        142\n",
      "    ],\n",
      "    \"nsu2_perf_filter_en_1\": 0,\n",
      "    \"f1_rddq_qtr_deskew_nibble06\": 0,\n",
      "    \"f0_rdcmplx_nqtr_right_short_nibble15\": 169,\n",
      "    \"f0_wrdqdbi_stg6_dbi_odly_byte0\": 51,\n",
      "    \"f0_xpll_clkoutfb_lt\": 16,\n",
      "    \"f1_rdprbs_nqtr_right_margin_nibble01\": 0,\n",
      "    \"bisc_pqtr_nibble11\": 75,\n",
      "    \"per_rd_en\": 257,\n",
      "    \"f0_wrcmplx_odly_dqs_final_byte7\": 75,\n",
      "    \"cal_warning_65\": 0,\n",
      "    \"f0_wrprbs_left_margin_byte5\": 0,\n",
      "    \"eye_scan_error\": \"N/A\",\n",
      "    \"f0_rddq_idelay_final_bit09\": 69,\n",
      "    \"f0_dqsgate_stg1_overflow_14\": 0,\n",
      "    \"f1_wrdqdbi_stg6_dbi_odly_byte0\": 0,\n",
      "    \"wrvref_left_vref_low_bound_rank0_byte6\": 0,\n",
      "    \"rdmargin_nqtr_left_nibble01\": 0,\n",
      "    \"f1_wrlvl_offset_rank0_byte3\": 0,\n",
      "    \"dqstrack_rldlyrnk_crse_max_byte0\": 4,\n",
      "    \"f1_rdcmplx_nqtr_right_nibble12\": 0,\n",
      "    \"cal_stage_time_58\": 0,\n",
      "    \"bisc_idly1_align_nibble15\": 78,\n",
      "    \"bisc_idly0_align_nibble03\": 74,\n",
      "    \"f1_calbisc_rl_dly_pqtr_nibble03\": 0,\n",
      "    \"f0_wrdqdbi_stg3_dq_odly_bit14\": 62,\n",
      "    \"bisc_pqtr_nibble00\": 77,\n",
      "    \"f0_rddq_idelay_final_bit23\": 82,\n",
      "    \"f1_wrlvl_fine_left_rank0_byte4\": 0,\n",
      "    \"f1_wrdqdbi_odly_dq_final_bit04\": 0,\n",
      "    \"dc0_perf_mon_4\": 0,\n",
      "    \"rdmargin_pqtr_left_nibble06\": 0,\n",
      "    \"nibbles\": 16,\n",
      "    \"f0_rd_simp_rise_lm_nib_06\": [\n",
      "        74,\n",
      "        152\n",
      "    ],\n",
      "    \"f0_wrlvl_fine_right_rank0_byte2\": 22,\n",
      "    \"f0_rdcmplx_nqtr_right_short_fcrse_nibble14\": 174,\n",
      "    \"rdvref_left_vref_final_nibble01\": 0,\n",
      "    \"vttrack_rldlyqtr_nibble11\": 77,\n",
      "    \"vttrack_rldlyqtr_min_nibble00\": 74,\n",
      "    \"dqstrack_rldlyrnk_fine_byte1\": 71,\n",
      "    \"f0_rddq_nqtr_left_nibble09\": 24,\n",
      "    \"es_data_need_update\": 0,\n",
      "    \"ecc_en\": 0,\n",
      "    \"f1_wrcmplx_odly_dq_final_bit50\": 0,\n",
      "    \"f0_wrdqdbi_deskew_dq_odly_bit21\": 94,\n",
      "    \"dqstrack_rldlyrnk_crse_byte1\": 4,\n",
      "    \"f0_wrcmplx_odly_dq_final_bit26\": 85,\n",
      "    \"f1_rddq_idelay_final_bit20\": 0,\n",
      "    \"f0_wrdqdbi_deskew_dq_odly_bit02\": 125,\n",
      "    \"f1_wrdqdbi_stg5_dqs_odly_byte4\": 0,\n",
      "    \"f1_wrdqdbi_left_edge_dq_bit23\": 0,\n",
      "    \"wrvref_left_vref_final_rank0_byte4\": 0,\n",
      "    \"bisc_nqtr_nibble03\": 77,\n",
      "    \"f0_xpll_clkoutfb_ht\": 16,\n",
      "    \"rdvref_right_vref_upp_bound_nibble15\": 0,\n",
      "    \"f0_wrdqdbi_right_margin_fcrse_byte0\": 70,\n",
      "    \"f1_rddq_pqtr_right_nibble04\": 0,\n",
      "    \"rdmargin_pqtr_right_nibble00\": 0,\n",
      "    \"f1_rddq_pqtr_right_fcrse_nibble15\": 0,\n",
      "    \"f1_dqsgate_stg1_overflow_23\": 0,\n",
      "    \"f1_wrdqdbi_stg2_dq_odly_bit17\": 0,\n",
      "    \"f0_dqsgate_stg1_rldlyrnk_fine_rank0_byte0\": 1,\n",
      "    \"f0_rdprbs_nqtr_right_margin_nibble06\": 0,\n",
      "    \"bisc_nqtr_nibble10\": 80,\n",
      "    \"phy_oe_nib9_dly\": 0,\n",
      "    \"f0_rddq_nqtr_right_nibble01\": 170,\n",
      "    \"rdmargin_nqtr_right_nibble08\": 0,\n",
      "    \"f0_rd_simp_rise_lm_nib_01\": [\n",
      "        70,\n",
      "        143\n",
      "    ],\n",
      "    \"f0_rddq_nqtr_left_nibble10\": 30,\n",
      "    \"f1_wrdqdbi_left_edge_dq_bit41\": 0,\n",
      "    \"f0_dqsgate_rldlyrnk_crse_final_rank0_byte7\": 1,\n",
      "    \"f1_wrdqdbi_left_margin_byte2\": 0,\n",
      "    \"f0_rdcmplx_nqtr_final_nibble08\": 85,\n",
      "    \"f1_dqsgate_stg1_read_lat_rank0_byte6\": 0,\n",
      "    \"f0_rd_simp_rise_ctp_nib_10\": [\n",
      "        92,\n",
      "        189\n",
      "    ],\n",
      "    \"bisc_idly3_align_nibble12\": 68,\n",
      "    \"rdvref_right_vref_def_nibble09\": 0,\n",
      "    \"f1_wrdqdbi_deskew_dq_odly_fcrse_bit24\": 0,\n",
      "    \"f1_wrdqdbi_left_edge_dq_bit28\": 0,\n",
      "    \"f1_wrcmplx_odly_dbi_final_byte0\": 0,\n",
      "    \"wrvref_left_vref_def_rank0_byte6\": 0,\n",
      "    \"f1_rdcmplx_pqtr_final_nibble10\": 0,\n",
      "    \"f1_wrdqdbi_stg3_dq_odly_bit31\": 0,\n",
      "    \"f0_rdcmplx_nqtr_left_short_nibble04\": 32,\n",
      "    \"f0_rdcmplx_nqtr_right_short_nibble06\": 163,\n",
      "    \"f0_wrdqdbi_stg2_dq_odly_bit00\": 51,\n",
      "    \"bisc_idly4_align_nibble02\": 71,\n",
      "    \"f0_wrlvl_fine_right_rank0_byte1\": 65,\n",
      "    \"f0_rdprbs_pqtr_right_margin_nibble04\": 0,\n",
      "    \"f1_wrcmplx_odly_dq_final_bit05\": 0,\n",
      "    \"f0_wrdqdbi_left_edge_dq_bit24\": 75,\n",
      "    \"f0_rdcmplx_nqtr_final_nibble04\": 91,\n",
      "    \"f1_wrcmplx_odly_dq_final_bit11\": 0,\n",
      "    \"f1_wrcmplx_odly_dqs_final_byte0\": 0,\n",
      "    \"bisc_idly3_align_nibble09\": 75,\n",
      "    \"f1_rdcmplx_pqtr_right_short_nibble12\": 0,\n",
      "    \"f1_rddq_nqtr_left_nibble08\": 0,\n",
      "    \"f1_calbisc_rl_dly_nqtr_nibble14\": 0,\n",
      "    \"f1_calbisc_rl_dly_nqtr_nibble08\": 0,\n",
      "    \"f0_rdprbs_pqtr_right_margin_nibble15\": 0,\n",
      "    \"f0_wrdqdbi_stg3_dq_odly_bit22\": 19,\n",
      "    \"f0_dqsgate_stg1_overflow_04\": 128,\n",
      "    \"wrvref_left_vref_upp_bound_rank0_byte2\": 0,\n",
      "    \"wrvref_right_vref_low_bound_rank0_byte5\": 0,\n",
      "    \"f1_rdcmplx_nqtr_left_nibble08\": 0,\n",
      "    \"f0_rddq_pqtr_left_nibble04\": 17,\n",
      "    \"f0_rdcmplx_nqtr_right_short_fcrse_nibble15\": 171,\n",
      "    \"f1_wrcmplx_odly_dqs_final_byte7\": 0,\n",
      "    \"rdvref_left_vref_upp_bound_nibble06\": 0,\n",
      "    \"f1_rddq_pqtr_right_nibble12\": 0,\n",
      "    \"f1_wrdqdbi_odly_dq_final_bit20\": 0,\n",
      "    \"f1_rdcmplx_pqtr_right_short_fcrse_nibble07\": 0,\n",
      "    \"f0_rd_simp_fall_lm_nib_03\": [\n",
      "        70,\n",
      "        142\n",
      "    ],\n",
      "    \"f0_rd_simp_rise_rm_nib_12\": [\n",
      "        73,\n",
      "        152\n",
      "    ],\n",
      "    \"dqstrack_rldlyrnk_crse_min_byte2\": 5,\n",
      "    \"f0_rdcmplx_nqtr_left_nibble06\": 28,\n",
      "    \"f1_rdcmplx_idelay_offset_nibble04\": 0,\n",
      "    \"f1_rdcmplx_pqtr_right_short_nibble07\": 0,\n",
      "    \"f0_wr_simp_ctp_byte_03\": [\n",
      "        95,\n",
      "        194\n",
      "    ],\n",
      "    \"f0_rdcmplx_nqtr_left_short_nibble13\": 26,\n",
      "    \"f0_wr_comp_lm_byte_04\": [\n",
      "        70,\n",
      "        143\n",
      "    ],\n",
      "    \"f0_wrdqdbi_stg3_dq_odly_bit41\": 55,\n",
      "    \"bisc_pqtr_nibble15\": 76,\n",
      "    \"bisc_rl_dly_qtr_nibble03\": 77,\n",
      "    \"rdmargin_pqtr_left_nibble02\": 0,\n",
      "    \"f0_wrdqdbi_deskew_dq_odly_fcrse_bit37\": 89,\n",
      "    \"dqstrack_rldlyrnk_fine_max_byte2\": 44,\n",
      "    \"f0_rdcmplx_nqtr_right_short_fcrse_nibble02\": 167,\n",
      "    \"f1_wrdqdbi_stg1_byte_status_00\": 0,\n",
      "    \"f0_dqsgate_stg1_overflow_49\": 0,\n",
      "    \"f0_rd_comp_rise_ctp_nib_00\": [\n",
      "        88,\n",
      "        179\n",
      "    ],\n",
      "    \"f1_wrcmplx_odly_dq_final_bit21\": 0,\n",
      "    \"f0_calbisc_rl_dly_nqtr_nibble07\": 78,\n",
      "    \"f0_rd_comp_fall_rm_nib_07\": [\n",
      "        57,\n",
      "        114\n",
      "    ],\n",
      "    \"f0_wrlat_phy_oe_nib_final_byte6\": 1,\n",
      "    \"f1_wrdqdbi_odly_dq_final_bit54\": 0,\n",
      "    \"f0_rd_comp_rise_lm_nib_07\": [\n",
      "        61,\n",
      "        125\n",
      "    ],\n",
      "    \"f0_wr_simp_lm_byte_00\": [\n",
      "        80,\n",
      "        165\n",
      "    ],\n",
      "    \"iobmap_dq_9_8\": 0,\n",
      "    \"f1_wrdqdbi_stg2_dq_odly_bit26\": 0,\n",
      "    \"f0_rdcmplx_idelay_offset_nibble13\": 0,\n",
      "    \"f0_rd_comp_rise_rm_nib_00\": [\n",
      "        66,\n",
      "        133\n",
      "    ],\n",
      "    \"f0_rddq_idelay_final_bit44\": 91,\n",
      "    \"f0_wrcmplx_odly_dq_final_bit03\": 61,\n",
      "    \"f1_dqsgate_stg1_overflow_04\": 0,\n",
      "    \"bisc_idly0_align_nibble06\": 66,\n",
      "    \"f1_wrdqdbi_stg3_dq_odly_bit16\": 0,\n",
      "    \"f0_wrdqdbi_odly_dqs_final_byte7\": 75,\n",
      "    \"f1_rdcmplx_pqtr_right_nibble10\": 0,\n",
      "    \"ddrmc_ub_isr\": 0,\n",
      "    \"f1_wrcmplx_odly_dq_final_bit10\": 0,\n",
      "    \"f1_rdprbs_pqtr_left_margin_nibble11\": 0,\n",
      "    \"f1_wrdqdbi_left_edge_dq_bit47\": 0,\n",
      "    \"bisc_pqtr_align_nibble12\": 0,\n",
      "    \"f1_rddq_pqtr_left_nibble13\": 0,\n",
      "    \"f1_wrlvl_crse_stg1_rank0_byte3\": 0,\n",
      "    \"pre_post_cal_map_ver\": 1,\n",
      "    \"f1_wrdqdbi_odly_dq_final_bit51\": 0,\n",
      "    \"wrvref_right_vref_low_bound_rank0_byte0\": 0,\n",
      "    \"f0_rdcmplx_pqtr_final_nibble14\": 89,\n",
      "    \"f0_rd_comp_rise_lm_nib_11\": [\n",
      "        62,\n",
      "        129\n",
      "    ],\n",
      "    \"rdvref_left_vref_final_nibble04\": 0,\n",
      "    \"bisc_rl_dly_qtr_nibble10\": 78,\n",
      "    \"f0_wr_comp_lm_byte_03\": [\n",
      "        71,\n",
      "        145\n",
      "    ],\n",
      "    \"nsu1_perf_filter_0_0\": 0,\n",
      "    \"mgchk_pattern_config_2\": 0,\n",
      "    \"iobmap_dq_31_30\": 0,\n",
      "    \"f0_wrdqdbi_right_margin_byte4\": 70,\n",
      "    \"f0_rddq_nqtr_right_nibble04\": 172,\n",
      "    \"f0_rd_simp_fall_ctp_nib_09\": [\n",
      "        94,\n",
      "        196\n",
      "    ],\n",
      "    \"f0_wrlvl_fine_left_rank0_byte0\": 49,\n",
      "    \"f0_dqsgate_stg1_read_lat_rank0_byte7\": 27,\n",
      "    \"f0_rdprbs_nqtr_right_margin_nibble12\": 0,\n",
      "    \"rdvref_right_vref_low_bound_nibble14\": 0,\n",
      "    \"f1_rdcmplx_nqtr_final_nibble03\": 0,\n",
      "    \"f1_rdcmplx_pqtr_final_nibble09\": 0,\n",
      "    \"f0_rddq_idelay_final_bit00\": 74,\n",
      "    \"f0_rddq_pqtr_left_nibble08\": 17,\n",
      "    \"f0_calbisc_rl_dly_nqtr_nibble12\": 76,\n",
      "    \"f0_wrcmplx_left_margin_byte1\": 69,\n",
      "    \"iobmap_dqs_17\": 0,\n",
      "    \"f0_wrdqdbi_odly_dbi_final_byte5\": 61,\n",
      "    \"f0_rdcmplx_nqtr_right_short_fcrse_nibble12\": 170,\n",
      "    \"f0_wrdqdbi_stg2_dq_odly_bit32\": 29,\n",
      "    \"rdvref_vref_final_nibble02\": 0,\n",
      "    \"rdvref_right_vref_def_nibble02\": 0,\n",
      "    \"f1_rdcmplx_nqtr_right_short_nibble11\": 0,\n",
      "    \"f1_wrcmplx_odly_dq_final_bit20\": 0,\n",
      "    \"cal_warning_45\": 0,\n",
      "    \"f0_wrdqdbi_deskew_dq_odly_bit24\": 145,\n",
      "    \"f1_calbisc_rl_dly_pqtr_nibble09\": 0,\n",
      "    \"f1_rddq_nqtr_right_nibble06\": 0,\n",
      "    \"f0_wrdqdbi_deskew_dq_odly_fcrse_bit08\": 122,\n",
      "    \"f1_wrdqdbi_left_edge_dq_bit11\": 0,\n",
      "    \"cal_seq_status_25\": 296,\n",
      "    \"f0_rd_comp_fall_rm_nib_00\": [\n",
      "        63,\n",
      "        129\n",
      "    ],\n",
      "    \"f0_wrdqdbi_stg3_dq_odly_bit35\": 29,\n",
      "    \"f1_rddq_idelay_final_bit12\": 0,\n",
      "    \"f0_wrdqdbi_stg3_dq_odly_bit46\": 55,\n",
      "    \"f0_wrdqdbi_odly_dq_final_bit14\": 65,\n",
      "    \"bisc_pqtr_nibble04\": 76,\n",
      "    \"phy_oe_nib20_dly\": 1,\n",
      "    \"wrvref_right_vref_low_bound_rank0_byte7\": 0,\n",
      "    \"f0_wrdqdbi_deskew_dq_odly_bit07\": 130,\n",
      "    \"f1_wrdqdbi_left_edge_dq_bit59\": 0,\n",
      "    \"f1_rdcmplx_pqtr_final_nibble05\": 0,\n",
      "    \"bisc_idly2_align_nibble15\": 75,\n",
      "    \"f1_xpll_divclk_lt\": 1,\n",
      "    \"f1_rdcmplx_pqtr_final_nibble14\": 0,\n",
      "    \"f1_rdcmplx_nqtr_final_nibble09\": 0,\n",
      "    \"f0_rdprbs_pqtr_right_margin_nibble13\": 0,\n",
      "    \"f1_rcd_rc3x\": 0,\n",
      "    \"f0_rdcmplx_pqtr_left_short_nibble06\": 28,\n",
      "    \"cal_stage_time_46\": 0,\n",
      "    \"bisc_idly3_align_nibble08\": 69,\n",
      "    \"wrvref_right_vref_upp_bound_rank0_byte1\": 0,\n",
      "    \"iobmap_dqs_15\": 0,\n",
      "    \"reg_safe_config2\": 1099088782,\n",
      "    \"f0_wrdqdbi_deskew_dq_odly_fcrse_bit33\": 89,\n",
      "    \"f0_wrdqdbi_odly_dq_final_bit49\": 42,\n",
      "    \"f1_wrcmplx_odly_dq_final_bit57\": 0,\n",
      "    \"f0_read_latency\": 1,\n",
      "    \"f1_wrcmplx_odly_dq_final_bit07\": 0,\n",
      "    \"f0_rddq_qtr_deskew_nibble12\": 1,\n",
      "    \"f0_wrdqdbi_deskew_dq_odly_bit43\": 132,\n",
      "    \"f1_wrdqdbi_deskew_dq_odly_bit37\": 0,\n",
      "    \"f0_wrdqdbi_deskew_dq_odly_bit61\": 149,\n",
      "    \"vttrack_rldlyqtr_max_nibble02\": 79,\n",
      "    \"f0_rd_comp_fall_ctp_nib_07\": [\n",
      "        85,\n",
      "        170\n",
      "    ],\n",
      "    \"f0_wrdqdbi_odly_dq_final_bit58\": 60,\n",
      "    \"f1_wrdqdbi_deskew_dq_odly_fcrse_bit33\": 0,\n",
      "    \"rdmargin_pqtr_left_nibble08\": 0,\n",
      "    \"rdmargin_nqtr_right_nibble00\": 0,\n",
      "    \"f0_wrdqdbi_odly_dq_final_bit23\": 29,\n",
      "    \"f1_rdcmplx_pqtr_left_short_nibble06\": 0,\n",
      "    \"dqstrack_rldlyrnk_fine_byte3\": 28,\n",
      "    \"ddrmc_isr_uc0_ecc1\": 0,\n",
      "    \"f0_wrlat_xpi_oe_all_final\": 16,\n",
      "    \"f0_wrcmplx_odly_dbi_final_byte4\": 34,\n",
      "    \"f1_dqsgate_stg1_read_lat_rank0_byte7\": 0,\n",
      "    \"rdvref_vref_final_nibble03\": 0,\n",
      "    \"rdvref_right_vref_def_nibble11\": 0,\n",
      "    \"f0_wrlvl_fine_left_rank0_byte3\": 77,\n",
      "    \"dc1_perf_mon_3\": 0,\n",
      "    \"rdvref_left_vref_def_nibble01\": 0,\n",
      "    \"f0_rd_comp_rise_rm_nib_01\": [\n",
      "        67,\n",
      "        137\n",
      "    ],\n",
      "    \"dc1_perf_mon_2\": 0,\n",
      "    \"f0_wrdqdbi_stg3_dq_odly_bit34\": 29,\n",
      "    \"iobmap_dq_29_28\": 0,\n",
      "    \"f0_wrdqdbi_odly_dq_final_bit42\": 63,\n",
      "    \"f1_rddq_pqtr_left_nibble07\": 0,\n",
      "    \"f1_wrdqdbi_left_edge_dq_bit24\": 0,\n",
      "    \"f1_wrdqdbi_odly_dq_final_bit32\": 0,\n",
      "    \"bisc_nqtr_align_nibble12\": 1,\n",
      "    \"f0_rd_simp_fall_ctp_nib_10\": [\n",
      "        99,\n",
      "        193\n",
      "    ],\n",
      "    \"f1_rdcmplx_pqtr_right_short_nibble08\": 0,\n",
      "    \"nsu2_perf_filter_en_0\": 0,\n",
      "    \"f0_wrdqdbi_left_edge_dq_bit25\": 78,\n",
      "    \"f1_rddq_nqtr_left_nibble11\": 0,\n",
      "    \"phy_rden1_dly\": 26,\n",
      "    \"f0_rdcmplx_pqtr_right_short_fcrse_nibble06\": 174,\n",
      "    \"f1_rdcmplx_nqtr_right_short_fcrse_nibble02\": 0,\n",
      "    \"f1_rddq_pqtr_right_fcrse_nibble11\": 0,\n",
      "    \"f0_dqsgate_stg1_overflow_50\": 0,\n",
      "    \"f0_xpll_divclk_lt\": 1,\n",
      "    \"phy_oe_nib17_dly\": 0,\n",
      "    \"f0_wrcmplx_left_margin_fcrse_byte2\": 70,\n",
      "    \"f0_rddq_nqtr_left_nibble05\": 31,\n",
      "    \"f1_dqsgate_stg2_read_lat_rank0_byte6\": 0,\n",
      "    \"f1_wrdqdbi_deskew_dq_odly_fcrse_bit60\": 0,\n",
      "    \"cal_warning_34\": 0,\n",
      "    \"f0_wrdqdbi_stg1_dqs_delay_byte1\": 78,\n",
      "    \"f0_wrdqdbi_stg3_dq_odly_bit37\": 29,\n",
      "    \"f0_wrprbs_left_margin_byte6\": 0,\n",
      "    \"f1_dqsgate_stg1_overflow_10\": 0,\n",
      "    \"f0_wrdqdbi_left_edge_dq_bit00\": 53,\n",
      "    \"f1_rdcmplx_nqtr_final_nibble08\": 0,\n",
      "    \"f0_rdcmplx_pqtr_right_nibble01\": 156,\n",
      "    \"f0_wrdqdbi_left_edge_dq_bit03\": 49,\n",
      "    \"f1_rdcmplx_pqtr_left_short_nibble10\": 0,\n",
      "    \"f0_rdcmplx_nqtr_left_short_nibble14\": 28,\n",
      "    \"dqstrack_rldlyrnk_fine_min_byte1\": 71,\n",
      "    \"rdvref_right_vref_low_bound_nibble09\": 0,\n",
      "    \"f0_wrdqdbi_stg3_dq_odly_bit21\": 19,\n",
      "    \"pcsr_lock\": 1,\n",
      "    \"f0_rddq_nqtr_right_nibble08\": 167,\n",
      "    \"f0_wrdqdbi_stg2_dq_odly_bit42\": 55,\n",
      "    \"f1_wrdqdbi_stg2_dq_odly_bit53\": 0,\n",
      "    \"mgchk_enable\": 0,\n",
      "    \"f1_wrdqdbi_stg2_dq_odly_bit07\": 0,\n",
      "    \"f0_rdcmplx_nqtr_right_nibble12\": 143,\n",
      "    \"nsu1_perf_mon_1_2\": 0,\n",
      "    \"nsu2_perf_mon_ctl_0_1\": 0,\n",
      "    \"f0_rddq_nqtr_right_fcrse_nibble08\": 171,\n",
      "    \"f1_wrdqdbi_left_edge_dq_bit42\": 0,\n",
      "    \"f1_rddq_nqtr_left_nibble06\": 0,\n",
      "    \"f0_wrdqdbi_stg1_dqs_delay_byte3\": 94,\n",
      "    \"f1_rdcmplx_idelay_offset_nibble14\": 0,\n",
      "    \"f1_dqsgate_stg2_read_lat_rank0_byte0\": 0,\n",
      "    \"cal_stage_time_24\": 0,\n",
      "    \"f0_rcd_rc0a\": 0,\n",
      "    \"f0_dqsgate_stg1_overflow_37\": 0,\n",
      "    \"f1_wrdqdbi_deskew_dq_odly_fcrse_bit49\": 0,\n",
      "    \"f1_calbisc_rl_dly_nqtr_nibble01\": 0,\n",
      "    \"f1_wrdqdbi_stg1_dqs_delay_byte6\": 0,\n",
      "    \"wrvref_right_vref_upp_bound_rank0_byte0\": 0,\n",
      "    \"f1_wrdqdbi_deskew_dq_odly_bit55\": 0,\n",
      "    \"f1_wrdqdbi_odly_dqs_final_byte0\": 0,\n",
      "    \"cal_error_phy_nibble_17_9\": 0,\n",
      "    \"rdvref_left_vref_def_nibble02\": 0,\n",
      "    \"f1_wrdqdbi_stg2_dq_odly_bit55\": 0,\n",
      "    \"f0_rdcmplx_nqtr_left_nibble07\": 28,\n",
      "    \"f0_dqsgate_rldlyrnk_crse_final_rank0_byte2\": 1,\n",
      "    \"f0_wrlvl_crse_stg1_rank0_byte1\": 3,\n",
      "    \"f1_rddq_pqtr_right_fcrse_nibble09\": 0,\n",
      "    \"f1_wrdqdbi_right_margin_byte2\": 0,\n",
      "    \"xpi_oe_all_nib_dly\": 16,\n",
      "    \"wrvref_left_vref_def_rank0_byte0\": 0,\n",
      "    \"f0_rdprbs_pqtr_right_margin_nibble12\": 0,\n",
      "    \"f1_wrdqdbi_deskew_dbi_odly_byte3\": 0,\n",
      "    \"bisc_mon_align_nibble02\": 0,\n",
      "    \"rdvref_vref_upp_bound_nibble11\": 0,\n",
      "    \"f1_rdcmplx_nqtr_right_short_nibble06\": 0,\n",
      "    \"cal_seq_status_17\": 403,\n",
      "    \"rdvref_right_vref_final_nibble05\": 0,\n",
      "    \"wrvref_right_vref_low_bound_rank0_byte6\": 0,\n",
      "    \"f1_wrdqdbi_stg2_dq_odly_bit09\": 0,\n",
      "    \"f1_wrdqdbi_stg6_dbi_odly_byte6\": 0,\n",
      "    \"f1_wrdqdbi_odly_dq_final_bit26\": 0,\n",
      "    \"f1_wrdqdbi_left_edge_dq_bit34\": 0,\n",
      "    \"f1_wrcmplx_odly_dq_final_bit45\": 0,\n",
      "    \"f0_calbisc_rl_dly_nqtr_nibble04\": 78,\n",
      "    \"f1_wrdqdbi_deskew_dq_odly_fcrse_bit36\": 0,\n",
      "    \"f0_dqsgate_stg1_rldlyrnk_fine_rank0_byte5\": 41,\n",
      "    \"f1_dqsgate_stg2_rldlyrnk_crse_rank0_byte0\": 0,\n",
      "    \"f1_mr5_rtt_park\": 0,\n",
      "    \"dqstrack_rldlyrnk_fine_byte2\": 44,\n",
      "    \"f0_wrdqdbi_odly_dq_final_bit06\": 64,\n",
      "    \"f0_rd_comp_rise_ctp_nib_02\": [\n",
      "        87,\n",
      "        172\n",
      "    ],\n",
      "    \"bisc_mon_align_nibble08\": 0,\n",
      "    \"cal_stage_time_44\": 0,\n",
      "    \"bisc_idly1_align_nibble13\": 76,\n",
      "    \"f0_wrdqdbi_stg2_dq_odly_bit58\": 59,\n",
      "    \"f0_wrdqdbi_odly_dq_final_bit59\": 62,\n",
      "    \"f0_rd_comp_fall_ctp_nib_15\": [\n",
      "        87,\n",
      "        181\n",
      "    ],\n",
      "    \"nsu1_perf_filter_0_1\": 0,\n",
      "    \"f0_wrdqdbi_deskew_dq_odly_bit58\": 129,\n",
      "    \"f0_wrcmplx_odly_dq_final_bit30\": 89,\n",
      "    \"f0_rdcmplx_nqtr_final_nibble06\": 85,\n",
      "    \"f0_wrdqdbi_stg1_dqs_delay_byte0\": 67,\n",
      "    \"wrmargin_right_byte0\": 0,\n",
      "    \"f1_rdcmplx_pqtr_right_nibble01\": 0,\n",
      "    \"f1_rdcmplx_nqtr_left_short_nibble04\": 0,\n",
      "    \"f1_wrdqdbi_deskew_dq_odly_fcrse_bit39\": 0,\n",
      "    \"dc1_perf_mon_1\": 0,\n",
      "    \"f0_wrdqdbi_stg2_dq_odly_bit04\": 51,\n",
      "    \"f0_wrdqdbi_deskew_dq_odly_fcrse_bit01\": 121,\n",
      "    \"f1_rdcmplx_nqtr_left_short_nibble03\": 0,\n",
      "    \"dqstrack_rldlyrnk_fine_byte0\": 3,\n",
      "    \"dc0_perf_mon_5\": 0,\n",
      "    \"cal_post_status_03\": 0,\n",
      "    \"rdmargin_nqtr_left_nibble12\": 0,\n",
      "    \"rdvref_left_vref_def_nibble07\": 0,\n",
      "    \"f1_wrdqdbi_stg2_dqs_odly_byte6\": 0,\n",
      "    \"f0_wrdqdbi_stg3_dq_odly_bit20\": 19,\n",
      "    \"f0_rdcmplx_nqtr_final_nibble00\": 87,\n",
      "    \"f0_rd_comp_rise_ctp_nib_07\": [\n",
      "        85,\n",
      "        175\n",
      "    ],\n",
      "    \"f0_rddq_pqtr_left_nibble13\": 17,\n",
      "    \"cal_warning_23\": 0,\n",
      "    \"self_refresh_exit_error\": 0,\n",
      "    \"f1_rcd_rc0f\": 0,\n",
      "    \"f0_rd_comp_fall_lm_nib_03\": [\n",
      "        57,\n",
      "        115\n",
      "    ],\n",
      "    \"f0_rdcmplx_nqtr_right_short_nibble07\": 164,\n",
      "    \"f1_wrdqdbi_stg1_byte_status_01\": 0,\n",
      "    \"bisc_pqtr_nibble08\": 78,\n",
      "    \"phy_rden2_dly\": 27,\n",
      "    \"bisc_idly4_align_nibble08\": 71,\n",
      "    \"rdvref_left_vref_def_nibble06\": 0,\n",
      "    \"f1_wrdqdbi_deskew_dq_odly_fcrse_bit23\": 0,\n",
      "    \"iobmap_dq_49_48\": 0,\n",
      "    \"f0_rddq_nqtr_left_nibble12\": 25,\n",
      "    \"f0_rddq_pqtr_left_nibble07\": 17,\n",
      "    \"f1_rddq_nqtr_final_nibble10\": 0,\n",
      "    \"f1_rdprbs_nqtr_left_margin_nibble00\": 0,\n",
      "    \"bisc_mon_align_nibble04\": 0,\n",
      "    \"f0_rdcmplx_pqtr_right_nibble13\": 149,\n",
      "    \"dqstrack_rldlyrnk_fine_min_byte7\": 36,\n",
      "    \"f1_calbisc_rl_dly_qtr_nibble06\": 0,\n",
      "    \"f0_wrdqdbi_right_margin_fcrse_byte5\": 60,\n",
      "    \"f1_wrcmplx_right_margin_fcrse_byte4\": 0,\n",
      "    \"f0_rdcmplx_nqtr_right_short_fcrse_nibble00\": 170,\n",
      "    \"rdvref_right_vref_low_bound_nibble05\": 0,\n",
      "    \"bytes\": 8,\n",
      "    \"rdmargin_pqtr_left_nibble05\": 0,\n",
      "    \"f0_wrdqdbi_odly_dq_final_bit04\": 54,\n",
      "    \"f1_rddq_pqtr_right_nibble10\": 0,\n",
      "    \"f1_calbisc_rl_dly_pqtr_nibble12\": 0,\n",
      "    \"alert_parity_ch0_error\": 0,\n",
      "    \"f1_rddq_nqtr_final_nibble02\": 0,\n",
      "    \"bisc_idly2_align_nibble13\": 76,\n",
      "    \"bisc_idly2_align_nibble03\": 74,\n",
      "    \"f0_wrdqdbi_left_edge_dbi_byte2\": 19,\n",
      "    \"f1_rdprbs_pqtr_right_margin_nibble09\": 0,\n",
      "    \"f1_wrcmplx_right_margin_fcrse_byte0\": 0,\n",
      "    \"f1_wrdqdbi_stg3_dq_odly_bit45\": 0,\n",
      "    \"cal_stage_time_47\": 0,\n",
      "    \"f1_wrdqdbi_left_edge_dq_bit43\": 0,\n",
      "    \"f0_rddq_nqtr_final_nibble07\": 96,\n",
      "    \"f0_rd_comp_rise_lm_nib_15\": [\n",
      "        65,\n",
      "        133\n",
      "    ],\n",
      "    \"bisc_idly4_align_nibble01\": 78,\n",
      "    \"f0_rdcmplx_pqtr_left_nibble03\": 22,\n",
      "    \"f1_wrdqdbi_odly_dq_final_bit12\": 0,\n",
      "    \"f1_wrcmplx_odly_dbi_final_byte4\": 0,\n",
      "    \"f0_wrdqdbi_deskew_dq_odly_fcrse_bit31\": 158,\n",
      "    \"dqstrack_rldlyrnk_crse_byte5\": 2,\n",
      "    \"reg_safe_config1\": 1086456584,\n",
      "    \"f0_rd_comp_fall_rm_nib_06\": [\n",
      "        58,\n",
      "        117\n",
      "    ],\n",
      "    \"f1_rddq_nqtr_left_nibble15\": 0,\n",
      "    \"f0_rd_comp_fall_lm_nib_07\": [\n",
      "        57,\n",
      "        114\n",
      "    ],\n",
      "    \"f0_wrdqdbi_deskew_dq_odly_bit33\": 92,\n",
      "    \"f1_dqsgate_rldlyrnk_crse_final_rank0_byte4\": 0,\n",
      "    \"f0_rd_comp_fall_ctp_nib_05\": [\n",
      "        89,\n",
      "        188\n",
      "    ],\n",
      "    \"f1_wrdqdbi_deskew_dq_odly_bit63\": 0,\n",
      "    \"f0_wrcmplx_odly_dqs_final_byte6\": 60,\n",
      "    \"f1_dqsgate_stg1_overflow_37\": 0,\n",
      "    \"cal_warning_22\": 0,\n",
      "    \"f0_wrcmplx_odly_dq_final_bit06\": 71,\n",
      "    \"cal_stage_time_60\": 18,\n",
      "    \"cal_error_bit_phy_nibble_16\": 0,\n",
      "    \"f0_rd_comp_rise_ctp_nib_12\": [\n",
      "        87,\n",
      "        181\n",
      "    ],\n",
      "    \"wrvref_vref_low_bound_rank0_byte3\": 0,\n",
      "    \"f1_wrcmplx_odly_dq_final_bit31\": 0,\n",
      "    \"f1_rdprbs_nqtr_left_margin_nibble10\": 0,\n",
      "    \"f0_rddq_idelay_final_bit26\": 71,\n",
      "    \"f0_rddq_pqtr_final_nibble07\": 92,\n",
      "    \"nsu0_perf_mon_0_2\": 0,\n",
      "    \"bisc_idly1_align_nibble02\": 72,\n",
      "    \"f1_wrdqdbi_left_edge_dq_bit20\": 0,\n",
      "    \"f0_rd_simp_fall_rm_nib_03\": [\n",
      "        71,\n",
      "        144\n",
      "    ],\n",
      "    \"f0_rd_simp_fall_ctp_nib_14\": [\n",
      "        98,\n",
      "        201\n",
      "    ],\n",
      "    \"f1_wrdqdbi_stg3_dq_odly_bit37\": 0,\n",
      "    \"f1_rdprbs_nqtr_left_margin_nibble14\": 0,\n",
      "    \"wrvref_left_vref_upp_bound_rank0_byte6\": 0,\n",
      "    \"cal_warning_70\": 0,\n",
      "    \"bisc_nqtr_align_nibble14\": 3,\n",
      "    \"cal_seq_status_30\": 301,\n",
      "    \"f1_calbisc_rl_dly_qtr_nibble01\": 0,\n",
      "    \"cal_stage.08_F0_READ_DQ_DBI_CAL_COMPLEX\": \"Pass\",\n",
      "    \"f1_wrdqdbi_stg3_dq_odly_bit44\": 0,\n",
      "    \"f0_wr_simp_rm_byte_07\": [\n",
      "        61,\n",
      "        126\n",
      "    ],\n",
      "    \"vttrack_rldlyqtr_max_nibble03\": 81,\n",
      "    \"f1_rddq_pqtr_left_nibble01\": 0,\n",
      "    \"f1_wrdqdbi_deskew_dq_odly_bit41\": 0,\n",
      "    \"f1_wrlvl_crse_final_rank0_byte4\": 0,\n",
      "    \"f0_rdprbs_pqtr_right_margin_nibble08\": 0,\n",
      "    \"f0_wrlvl_noise_fcrse_rank0_byte4\": 35,\n",
      "    \"f1_rdcmplx_nqtr_left_nibble09\": 0,\n",
      "    \"ub_isr_watchdog\": 0,\n",
      "    \"nsu2_perf_mon_ctl_0_0\": 0,\n",
      "    \"f0_wrdqdbi_left_edge_dq_bit59\": 54,\n",
      "    \"f0_wrdqdbi_left_edge_dq_bit35\": 21,\n",
      "    \"cal_stage.06_F0_WRITE_DQ_DBI_CAL\": \"Pass\",\n",
      "    \"f0_wrdqdbi_stg5_dqs_odly_byte7\": 75,\n",
      "    \"f0_mr1_rtt_nom\": 219,\n",
      "    \"vttrack_rldlyqtr_max_nibble08\": 79,\n",
      "    \"f1_rddq_pqtr_right_fcrse_nibble02\": 0,\n",
      "    \"f1_wrdqdbi_stg2_dq_odly_bit60\": 0,\n",
      "    \"bisc_nqtr_nibble00\": 78,\n",
      "    \"cal_stage_time_53\": 0,\n",
      "    \"f0_wrdqdbi_stg5_dqs_odly_byte4\": 45,\n",
      "    \"f0_rdprbs_pqtr_left_margin_nibble11\": 0,\n",
      "    \"f0_rdcmplx_pqtr_right_short_nibble12\": 163,\n",
      "    \"f0_wrdqdbi_stg2_dq_odly_bit35\": 29,\n",
      "    \"f1_rdcmplx_pqtr_right_short_nibble11\": 0,\n",
      "    \"f0_rdcmplx_nqtr_right_nibble00\": 150,\n",
      "    \"f0_wrdqdbi_left_edge_dq_bit51\": 38,\n",
      "    \"wrvref_vref_final_rank0_byte5\": 0,\n",
      "    \"ddrmc_pcsr_status_calerror\": 0,\n",
      "    \"rdvref_right_vref_def_nibble10\": 0,\n",
      "    \"f1_wrdqdbi_left_edge_dq_bit22\": 0,\n",
      "    \"nsu2_perf_filter_1_0\": 0,\n",
      "    \"f0_rddq_idelay_final_bit43\": 76,\n",
      "    \"f1_wrdqdbi_deskew_dq_odly_fcrse_bit10\": 0,\n",
      "    \"f0_wrdqdbi_stg3_dq_odly_bit01\": 51,\n",
      "    \"f0_wrdqdbi_stg3_dq_odly_bit26\": 78,\n",
      "    \"f0_rd_comp_rise_lm_nib_10\": [\n",
      "        58,\n",
      "        119\n",
      "    ],\n",
      "    \"bisc_rl_dly_qtr_nibble04\": 77,\n",
      "    \"rdmargin_nqtr_left_nibble09\": 0,\n",
      "    \"f0_rddq_pqtr_final_nibble06\": 91,\n",
      "    \"f1_dqsgate_stg1_overflow_61\": 0,\n",
      "    \"f1_wrdqdbi_stg1_bit_status_byte4\": 0,\n",
      "    \"cal_stage.11_READ_DQS_TRACK\": \"Pass\",\n",
      "    \"f0_wrdqdbi_stg2_dq_odly_bit37\": 29,\n",
      "    \"f0_rd_comp_fall_ctp_nib_14\": [\n",
      "        90,\n",
      "        185\n",
      "    ],\n",
      "    \"ddrmc_isr_nsu_fatal1\": 0,\n",
      "    \"ub_data_ue\": 0,\n",
      "    \"rdmargin_pqtr_left_nibble11\": 0,\n",
      "    \"f0_rdcmplx_pqtr_right_nibble00\": 154,\n",
      "    \"f0_rd_simp_fall_rm_nib_12\": [\n",
      "        72,\n",
      "        148\n",
      "    ],\n",
      "    \"f1_rddq_nqtr_right_fcrse_nibble08\": 0,\n",
      "    \"nsu0_perf_mon_0_0\": 0,\n",
      "    \"f1_wrdqdbi_odly_dq_final_bit35\": 0,\n",
      "    \"cal_seq_status_36\": 307,\n",
      "    \"cal_warning_17\": 0,\n",
      "    \"f0_wrlat_wldlyrnk_crse_final_rank0_byte2\": 0,\n",
      "    \"f1_dqsgate_stg1_overflow_11\": 0,\n",
      "    \"f1_rdcmplx_nqtr_right_short_fcrse_nibble08\": 0,\n",
      "    \"f1_rdprbs_pqtr_right_margin_nibble13\": 0,\n",
      "    \"f1_dqsgate_stg2_read_lat_rank0_byte7\": 0,\n",
      "    \"f1_wrdqdbi_stg3_dq_odly_bit10\": 0,\n",
      "    \"f1_wrlat_phy_oe_nib_final_byte1\": 0,\n",
      "    \"f0_wr_simp_rm_byte_04\": [\n",
      "        70,\n",
      "        143\n",
      "    ],\n",
      "    \"f0_wrdqdbi_left_edge_dq_bit60\": 62,\n",
      "    \"wrvref_right_vref_low_bound_rank0_byte4\": 0,\n",
      "    \"f1_rddq_idelay_final_bit00\": 0,\n",
      "    \"cal_warning_31\": 0,\n",
      "    \"f1_rddq_idelay_final_bit16\": 0,\n",
      "    \"f0_wrdqdbi_stg2_dq_odly_bit49\": 44,\n",
      "    \"f0_rdcmplx_idelay_offset_nibble01\": 0,\n",
      "    \"f1_calbisc_rl_dly_nqtr_nibble15\": 0,\n",
      "    \"f1_rdcmplx_pqtr_right_nibble05\": 0,\n",
      "    \"cal_seq_status_26\": 297,\n",
      "    \"f0_rddq_nqtr_left_nibble03\": 23,\n",
      "    \"f0_wrprbs_left_margin_byte3\": 0,\n",
      "    \"f1_wrdqdbi_stg3_dq_odly_bit30\": 0,\n",
      "    \"dqstrack_rldlyrnk_crse_max_byte1\": 4,\n",
      "    \"phy_oe_nib10_dly\": 0,\n",
      "    \"f1_wrdqdbi_stg3_dq_odly_bit60\": 0,\n",
      "    \"f0_rddq_idelay_final_bit04\": 81,\n",
      "    \"f1_wrdqdbi_right_margin_fcrse_byte2\": 0,\n",
      "    \"f0_wrlat_phy_data_nib_final_byte2\": 1,\n",
      "    \"f0_wrlvl_crse_final_rank0_byte3\": 0,\n",
      "    \"f0_wrdqdbi_left_edge_dq_bit23\": 21,\n",
      "    \"phy_rank_write_override_dyn\": 81920,\n",
      "    \"f1_dqsgate_stg1_read_lat_rank0_byte5\": 0,\n",
      "    \"f1_rddq_idelay_final_bit44\": 0,\n",
      "    \"f0_wrdqdbi_right_edge_dqs_byte7\": 136,\n",
      "    \"f1_rdcmplx_pqtr_right_short_fcrse_nibble12\": 0,\n",
      "    \"f0_rd_simp_rise_lm_nib_13\": [\n",
      "        75,\n",
      "        154\n",
      "    ],\n",
      "    \"f0_rdprbs_nqtr_left_margin_nibble15\": 0,\n",
      "    \"cal_stage_time_40\": 0,\n",
      "    \"f1_dqsgate_stg2_read_lat_rank0_byte5\": 0,\n",
      "    \"f0_wrdqdbi_stg3_dq_odly_bit10\": 62\n",
      "}\n"
     ]
    }
   ],
   "source": [
    "props = ddr.ddr_node.get_property_group([])\n",
    "json_props = json.dumps(props, indent=4)\n",
    "print(json_props)"
   ]
  }
 ],
 "metadata": {
  "jupytext": {
   "cell_metadata_filter": "-all",
   "main_language": "python",
   "notebook_metadata_filter": "-all"
  },
  "kernelspec": {
   "display_name": "Python 3 (ipykernel)",
   "language": "python",
   "name": "python3"
  },
  "language_info": {
   "codemirror_mode": {
    "name": "ipython",
    "version": 3
   },
   "file_extension": ".py",
   "mimetype": "text/x-python",
   "name": "python",
   "nbconvert_exporter": "python",
   "pygments_lexer": "ipython3",
   "version": "3.10.5"
  },
  "papermill": {
   "default_parameters": {},
   "duration": 18.871356,
   "end_time": "2023-10-24T22:11:38.221735",
   "environment_variables": {},
   "exception": null,
   "input_path": "./chipscopy-examples/ddr/ddr_example.ipynb",
   "output_path": "./chipscopy-examples/ddr/ddr_example.ipynb",
   "parameters": {},
   "start_time": "2023-10-24T22:11:19.350379",
   "version": "2.4.0"
  },
  "widgets": {
   "application/vnd.jupyter.widget-state+json": {
    "state": {
     "d1a6b6d8e04d4d5aab133cea71b850bc": {
      "model_module": "@jupyter-widgets/base",
      "model_module_version": "2.0.0",
      "model_name": "LayoutModel",
      "state": {
       "_model_module": "@jupyter-widgets/base",
       "_model_module_version": "2.0.0",
       "_model_name": "LayoutModel",
       "_view_count": null,
       "_view_module": "@jupyter-widgets/base",
       "_view_module_version": "2.0.0",
       "_view_name": "LayoutView",
       "align_content": null,
       "align_items": null,
       "align_self": null,
       "border_bottom": null,
       "border_left": null,
       "border_right": null,
       "border_top": null,
       "bottom": null,
       "display": null,
       "flex": null,
       "flex_flow": null,
       "grid_area": null,
       "grid_auto_columns": null,
       "grid_auto_flow": null,
       "grid_auto_rows": null,
       "grid_column": null,
       "grid_gap": null,
       "grid_row": null,
       "grid_template_areas": null,
       "grid_template_columns": null,
       "grid_template_rows": null,
       "height": null,
       "justify_content": null,
       "justify_items": null,
       "left": null,
       "margin": null,
       "max_height": null,
       "max_width": null,
       "min_height": null,
       "min_width": null,
       "object_fit": null,
       "object_position": null,
       "order": null,
       "overflow": null,
       "padding": null,
       "right": null,
       "top": null,
       "visibility": null,
       "width": null
      }
     },
     "ead5d337c50d416e83a96a1b9e41808e": {
      "model_module": "@jupyter-widgets/output",
      "model_module_version": "1.0.0",
      "model_name": "OutputModel",
      "state": {
       "_dom_classes": [],
       "_model_module": "@jupyter-widgets/output",
       "_model_module_version": "1.0.0",
       "_model_name": "OutputModel",
       "_view_count": null,
       "_view_module": "@jupyter-widgets/output",
       "_view_module_version": "1.0.0",
       "_view_name": "OutputView",
       "layout": "IPY_MODEL_d1a6b6d8e04d4d5aab133cea71b850bc",
       "msg_id": "",
       "outputs": [
        {
         "data": {
          "text/html": "<pre style=\"white-space:pre;overflow-x:auto;line-height:normal;font-family:Menlo,'DejaVu Sans Mono',consolas,'Courier New',monospace\">Device program progress <span style=\"color: #729c1f; text-decoration-color: #729c1f\">━━━━━━━━━━━━━━━━━━━━━━━━━━━━━━━━━━━━━━━━</span> <span style=\"color: #ff00ff; text-decoration-color: #ff00ff; font-weight: bold\">100%</span> <span style=\"color: #008000; text-decoration-color: #008000; font-weight: bold\">Done</span>\n</pre>\n",
          "text/plain": "Device program progress \u001b[38;2;114;156;31m━━━━━━━━━━━━━━━━━━━━━━━━━━━━━━━━━━━━━━━━\u001b[0m \u001b[1;95m100%\u001b[0m \u001b[1;32mDone\u001b[0m\n"
         },
         "metadata": {},
         "output_type": "display_data"
        }
       ],
       "tabbable": null,
       "tooltip": null
      }
     }
    },
    "version_major": 2,
    "version_minor": 0
   }
  }
 },
 "nbformat": 4,
 "nbformat_minor": 5
}
