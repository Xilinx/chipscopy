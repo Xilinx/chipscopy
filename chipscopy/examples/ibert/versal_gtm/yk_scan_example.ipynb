{
 "cells": [
  {
   "cell_type": "markdown",
   "id": "c773ac0c",
   "metadata": {},
   "source": [
    "<link rel=\"preconnect\" href=\"https://fonts.gstatic.com\">\n",
    "<link href=\"https://fonts.googleapis.com/css2?family=Fira+Code&display=swap\" rel=\"stylesheet\">\n",
    "\n",
    "### License\n",
    "\n",
    "<p style=\"font-family: 'Fira Code', monospace; font-size: 1.2rem\">\n",
    "Copyright (C) 2022, Xilinx, Inc.\n",
    "Copyright (C) 2022-2023, Advanced Micro Devices, Inc.\n",
    "<br><br>\n",
    "Licensed under the Apache License, Version 2.0 (the \"License\");<br>\n",
    "you may not use this file except in compliance with the License.<br><br>\n",
    "You may obtain a copy of the License at <a href=\"http://www.apache.org/licenses/LICENSE-2.0\"?>http://www.apache.org/licenses/LICENSE-2.0</a><br><br>\n",
    "Unless required by applicable law or agreed to in writing, software<br>\n",
    "distributed under the License is distributed on an \"AS IS\" BASIS,<br>\n",
    "WITHOUT WARRANTIES OR CONDITIONS OF ANY KIND, either express or implied.<br>\n",
    "See the License for the specific language governing permissions and<br>\n",
    "limitations under the License.<br>\n",
    "</p>\n"
   ]
  },
  {
   "cell_type": "markdown",
   "id": "1fbadbb5",
   "metadata": {},
   "source": [
    "# IBERT yk scan example"
   ]
  },
  {
   "cell_type": "markdown",
   "id": "2751e658",
   "metadata": {},
   "source": [
    "## Description\n",
    "This example shows how to interact with the IBERT (Integrated Bit Error Ratio Tester) debug core service via ChipScoPy APIs.\n",
    "- Program the ChipScoPy CED design onto the XCVP1202 device on a VPK120 board\n",
    "- Verify that the expected IBERT quads are instantiated by the design\n",
    "- Run and plot YK scans\n",
    "\n",
    "## Requirements\n",
    "- Local or remote Xilinx Versal board, VPK120 or VHK158 (only)\n",
    "- Xilinx hw_server 2023.2 installed and running\n",
    "- Xilinx cs_server 2023.2 installed and running\n",
    "- Python 3.8 or greater installed\n",
    "- ChipScoPy 2023.2 installed\n",
    "- Jupyter notebook support installed - Please do so, using the command `pip install chipscopy[jupyter]`\n",
    "- Plotting support installed - Please do so, using the command `pip install chipscopy[core-addons]`\n",
    "- [External loopback](https://www.samtec.com/kits/optics-fpga/hspce-fmcp/)\n",
    "- This example assumes that the device has already been programmed with the example design (ie the debug cores have already been initialized)"
   ]
  },
  {
   "cell_type": "markdown",
   "id": "4f62a13a",
   "metadata": {},
   "source": [
    "## 1 - Initialization: Imports\n",
    "\n",
    "After this step,\n",
    "\n",
    "* Required functions and classes are imported\n",
    "* Paths to server(s) and files are set correctly"
   ]
  },
  {
   "cell_type": "code",
   "execution_count": 1,
   "id": "89c65a06",
   "metadata": {},
   "outputs": [],
   "source": [
    "import os\n",
    "from more_itertools import one\n",
    "import matplotlib.pyplot as plt\n",
    "\n",
    "from chipscopy import create_session, report_versions, report_hierarchy, get_design_files\n",
    "from chipscopy.api.ibert import create_yk_scans"
   ]
  },
  {
   "cell_type": "markdown",
   "id": "990a87bc",
   "metadata": {},
   "source": [
    "## 2 - Create a session and connect to the hw_server and cs_server\n",
    "\n",
    "The session is a container that keeps track of devices and debug cores.\n",
    "After this step,\n",
    "- Session is initialized and connected to server(s)\n",
    "- Versions are detected and reported to stdout"
   ]
  },
  {
   "cell_type": "code",
   "execution_count": 2,
   "id": "a5562a9f",
   "metadata": {},
   "outputs": [
    {
     "name": "stdout",
     "output_type": "stream",
     "text": [
      "PROGRAMMING_FILE: /wrk/xcohdnobkup3/dkopelov/chipscopy/chipscopy/examples/designs/vpk120/production/chipscopy_ced/chipscopy_wrapper.pdi\n"
     ]
    },
    {
     "data": {
      "text/html": [
       "<pre style=\"white-space:pre;overflow-x:auto;line-height:normal;font-family:Menlo,'DejaVu Sans Mono',consolas,'Courier New',monospace\">\n",
       "\n",
       "</pre>\n"
      ],
      "text/plain": [
       "\n",
       "\n"
      ]
     },
     "metadata": {},
     "output_type": "display_data"
    },
    {
     "data": {
      "text/html": [
       "<pre style=\"white-space:pre;overflow-x:auto;line-height:normal;font-family:Menlo,'DejaVu Sans Mono',consolas,'Courier New',monospace\"><span style=\"font-style: italic\">                      ChipScoPy Version Information                      </span>\n",
       "┌────────────────────────────┬──────────────────────────────────────────┐\n",
       "│<span style=\"font-weight: bold\">                     Entity </span>│<span style=\"font-weight: bold\"> Version                                  </span>│\n",
       "├────────────────────────────┼──────────────────────────────────────────┤\n",
       "│                  ChipScoPy │ ┌───────────┬──────────────────────┐     │\n",
       "│                            │ │<span style=\"font-weight: bold\"> Attribute </span>│<span style=\"font-weight: bold\"> Value                </span>│     │\n",
       "│                            │ ├───────────┼──────────────────────┤     │\n",
       "│                            │ │     Build │ 2023.2.1693353190    │     │\n",
       "│                            │ │ Timestamp │ Aug 29 2023-17:53:10 │     │\n",
       "│                            │ └───────────┴──────────────────────┘     │\n",
       "│                            │                                          │\n",
       "│ hw_server @ localhost:3121 │ ┌───────────┬──────────────────────────┐ │\n",
       "│                            │ │<span style=\"font-weight: bold\"> Attribute </span>│<span style=\"font-weight: bold\"> Value                    </span>│ │\n",
       "│                            │ ├───────────┼──────────────────────────┤ │\n",
       "│                            │ │    Status │ Connected                │ │\n",
       "│                            │ │     Build │ 1697249571               │ │\n",
       "│                            │ │   Version │ 2023.2                   │ │\n",
       "│                            │ │ Timestamp │ Fri Oct 13 20:12:51 2023 │ │\n",
       "│                            │ └───────────┴──────────────────────────┘ │\n",
       "│                            │                                          │\n",
       "│ cs_server @ localhost:3042 │ ┌───────────────┬──────────────────────┐ │\n",
       "│                            │ │<span style=\"font-weight: bold\">     Attribute </span>│<span style=\"font-weight: bold\"> Value                </span>│ │\n",
       "│                            │ ├───────────────┼──────────────────────┤ │\n",
       "│                            │ │        Status │ Connected            │ │\n",
       "│                            │ │         Build │ 1696910516           │ │\n",
       "│                            │ │       Version │ 2023.2.0             │ │\n",
       "│                            │ │     Timestamp │ Oct 09 2023-22:01:56 │ │\n",
       "│                            │ │       Package │ 2023.2.1696910516    │ │\n",
       "│                            │ │ Artifact type │ pyinstaller          │ │\n",
       "│                            │ └───────────────┴──────────────────────┘ │\n",
       "└────────────────────────────┴──────────────────────────────────────────┘\n",
       "</pre>\n"
      ],
      "text/plain": [
       "\u001b[3m                      ChipScoPy Version Information                      \u001b[0m\n",
       "┌────────────────────────────┬──────────────────────────────────────────┐\n",
       "│\u001b[1m \u001b[0m\u001b[1m                    Entity\u001b[0m\u001b[1m \u001b[0m│\u001b[1m \u001b[0m\u001b[1mVersion                                 \u001b[0m\u001b[1m \u001b[0m│\n",
       "├────────────────────────────┼──────────────────────────────────────────┤\n",
       "│                  ChipScoPy │ ┌───────────┬──────────────────────┐     │\n",
       "│                            │ │\u001b[1m \u001b[0m\u001b[1mAttribute\u001b[0m\u001b[1m \u001b[0m│\u001b[1m \u001b[0m\u001b[1mValue               \u001b[0m\u001b[1m \u001b[0m│     │\n",
       "│                            │ ├───────────┼──────────────────────┤     │\n",
       "│                            │ │     Build │ 2023.2.1693353190    │     │\n",
       "│                            │ │ Timestamp │ Aug 29 2023-17:53:10 │     │\n",
       "│                            │ └───────────┴──────────────────────┘     │\n",
       "│                            │                                          │\n",
       "│ hw_server @ localhost:3121 │ ┌───────────┬──────────────────────────┐ │\n",
       "│                            │ │\u001b[1m \u001b[0m\u001b[1mAttribute\u001b[0m\u001b[1m \u001b[0m│\u001b[1m \u001b[0m\u001b[1mValue                   \u001b[0m\u001b[1m \u001b[0m│ │\n",
       "│                            │ ├───────────┼──────────────────────────┤ │\n",
       "│                            │ │    Status │ Connected                │ │\n",
       "│                            │ │     Build │ 1697249571               │ │\n",
       "│                            │ │   Version │ 2023.2                   │ │\n",
       "│                            │ │ Timestamp │ Fri Oct 13 20:12:51 2023 │ │\n",
       "│                            │ └───────────┴──────────────────────────┘ │\n",
       "│                            │                                          │\n",
       "│ cs_server @ localhost:3042 │ ┌───────────────┬──────────────────────┐ │\n",
       "│                            │ │\u001b[1m \u001b[0m\u001b[1m    Attribute\u001b[0m\u001b[1m \u001b[0m│\u001b[1m \u001b[0m\u001b[1mValue               \u001b[0m\u001b[1m \u001b[0m│ │\n",
       "│                            │ ├───────────────┼──────────────────────┤ │\n",
       "│                            │ │        Status │ Connected            │ │\n",
       "│                            │ │         Build │ 1696910516           │ │\n",
       "│                            │ │       Version │ 2023.2.0             │ │\n",
       "│                            │ │     Timestamp │ Oct 09 2023-22:01:56 │ │\n",
       "│                            │ │       Package │ 2023.2.1696910516    │ │\n",
       "│                            │ │ Artifact type │ pyinstaller          │ │\n",
       "│                            │ └───────────────┴──────────────────────┘ │\n",
       "└────────────────────────────┴──────────────────────────────────────────┘\n"
      ]
     },
     "metadata": {},
     "output_type": "display_data"
    },
    {
     "data": {
      "text/html": [
       "<pre style=\"white-space:pre;overflow-x:auto;line-height:normal;font-family:Menlo,'DejaVu Sans Mono',consolas,'Courier New',monospace\">\n",
       "\n",
       "</pre>\n"
      ],
      "text/plain": [
       "\n",
       "\n"
      ]
     },
     "metadata": {},
     "output_type": "display_data"
    }
   ],
   "source": [
    "# Specify locations of the running hw_server and cs_server below.\n",
    "CS_URL = os.getenv(\"CS_SERVER_URL\", \"TCP:localhost:3042\")\n",
    "HW_URL = os.getenv(\"HW_SERVER_URL\", \"TCP:localhost:3121\")\n",
    "\n",
    "# specify hw and if programming is desired\n",
    "HW_PLATFORM = os.getenv(\"HW_PLATFORM\", \"vpk120\")\n",
    "PROG_DEVICE = os.getenv(\"PROG_DEVICE\", 'True').lower() in ('true', '1', 't')\n",
    "\n",
    "# The get_design_files() function tries to find the PDI and LTX files. In non-standard\n",
    "# configurations, you can put the path for PROGRAMMING_FILE and PROBES_FILE below.\n",
    "design_files = get_design_files(f\"{HW_PLATFORM}/production/chipscopy_ced\")\n",
    "PDI_FILE = design_files.programming_file\n",
    "\n",
    "print(f\"PROGRAMMING_FILE: {PDI_FILE}\")\n",
    "\n",
    "session = create_session(cs_server_url=CS_URL, hw_server_url=HW_URL)\n",
    "report_versions(session)"
   ]
  },
  {
   "cell_type": "markdown",
   "id": "fae15151",
   "metadata": {},
   "source": [
    "## 3 - Program the device with the example design\n",
    "After this step,\n",
    "* Device is programmed with the example programming file"
   ]
  },
  {
   "cell_type": "code",
   "execution_count": 3,
   "id": "8a597d97",
   "metadata": {},
   "outputs": [
    {
     "data": {
      "text/html": [
       "<pre style=\"white-space:pre;overflow-x:auto;line-height:normal;font-family:Menlo,'DejaVu Sans Mono',consolas,'Courier New',monospace\">\n",
       "<span style=\"font-weight: bold\">--&gt; INFO: </span>Programming device with: \n",
       "/wrk/xcohdnobkup3/dkopelov/chipscopy/chipscopy/examples/designs/vpk120/production/chipscopy_ced/chipscopy_wrapper.p\n",
       "di\n",
       "    \n",
       "</pre>\n"
      ],
      "text/plain": [
       "\n",
       "\u001b[1m--> INFO: \u001b[0mProgramming device with: \n",
       "/wrk/xcohdnobkup3/dkopelov/chipscopy/chipscopy/examples/designs/vpk120/production/chipscopy_ced/chipscopy_wrapper.p\n",
       "di\n",
       "    \n"
      ]
     },
     "metadata": {},
     "output_type": "display_data"
    },
    {
     "data": {
      "application/vnd.jupyter.widget-view+json": {
       "model_id": "68b88e2d731141c79d0e021f0c8ba2cf",
       "version_major": 2,
       "version_minor": 0
      },
      "text/plain": [
       "Output()"
      ]
     },
     "metadata": {},
     "output_type": "display_data"
    },
    {
     "data": {
      "text/html": [
       "<pre style=\"white-space:pre;overflow-x:auto;line-height:normal;font-family:Menlo,'DejaVu Sans Mono',consolas,'Courier New',monospace\"></pre>\n"
      ],
      "text/plain": []
     },
     "metadata": {},
     "output_type": "display_data"
    },
    {
     "data": {
      "text/html": [
       "<pre style=\"white-space:pre;overflow-x:auto;line-height:normal;font-family:Menlo,'DejaVu Sans Mono',consolas,'Courier New',monospace\">\n",
       "</pre>\n"
      ],
      "text/plain": [
       "\n"
      ]
     },
     "metadata": {},
     "output_type": "display_data"
    }
   ],
   "source": [
    "# Typical case - one device on the board - get it.\n",
    "device = session.devices.filter_by(family=\"versal\").get()\n",
    "if PROG_DEVICE:\n",
    "    device.program(PDI_FILE)\n",
    "else:\n",
    "    print(\"skipping programming\")"
   ]
  },
  {
   "cell_type": "markdown",
   "id": "7c38f075",
   "metadata": {},
   "source": [
    "## 4 - Discover and setup the IBERT core\n",
    "\n",
    "Debug core discovery initializes the chipscope server debug cores.\n",
    "\n",
    "After this step,\n",
    "\n",
    "- The cs_server is initialized and ready for use\n",
    "- The first ibert found is used"
   ]
  },
  {
   "cell_type": "code",
   "execution_count": 4,
   "id": "0bf7bf19",
   "metadata": {},
   "outputs": [
    {
     "name": "stdout",
     "output_type": "stream",
     "text": [
      "Discovering debug cores...\n"
     ]
    }
   ],
   "source": [
    "# # Set any params as needed\n",
    "# params_to_set = {\"IBERT.internal_mode\": True}\n",
    "# session.set_param(params_to_set)\n",
    "device = session.devices.filter_by(family=\"versal\").get()\n",
    "\n",
    "# Use the first available device and set up its debug cores\n",
    "\n",
    "print(f\"Discovering debug cores...\")\n",
    "device.discover_and_setup_cores(ibert_scan=True)\n",
    "\n",
    "if len(device.ibert_cores) == 0:\n",
    "    print(\"No IBERT core found! Exiting...\")\n",
    "    exit()"
   ]
  },
  {
   "cell_type": "markdown",
   "id": "6086df97",
   "metadata": {},
   "source": [
    "## 5 - Print the hierarchy of the IBERT core\n",
    "We also ensure that all the quads instantiated by the ChipScoPy CED design are found by the APIs"
   ]
  },
  {
   "cell_type": "code",
   "execution_count": 5,
   "id": "67031982",
   "metadata": {},
   "outputs": [
    {
     "name": "stdout",
     "output_type": "stream",
     "text": [
      "--> Found ['IBERT Versal GTM (IBERT_0)', 'IBERT Versal GTYP (IBERT_1)']\n",
      "\n",
      "--> Enabled GT Groups - [\n",
      "    'IBERT_0.Quad_205(GT_Group)',\n",
      "    'IBERT_0.Quad_204(GT_Group)'\n",
      "]\n"
     ]
    }
   ],
   "source": [
    "# Use the first available IBERT core from the device\n",
    "print(f\"--> Found {[f'{ibert.name} ({ibert.handle})' for ibert in device.ibert_cores]}\\n\")\n",
    "\n",
    "ibert_gtm = one(device.ibert_cores.filter_by(name=\"IBERT Versal GTM\"))\n",
    "\n",
    "if len(ibert_gtm.gt_groups) == 0:\n",
    "    print(\"No GT Groups available for use! Exiting...\")\n",
    "    exit()\n",
    "\n",
    "print(f\"--> Enabled GT Groups - {ibert_gtm.gt_groups}\")\n",
    "\n",
    "gt_group = ibert_gtm.gt_groups.filter_by(name=\"Quad_204\")[0]"
   ]
  },
  {
   "cell_type": "markdown",
   "id": "10433957",
   "metadata": {},
   "source": [
    "## 6 - Define YK Scan Update Method\n",
    "\n",
    "This method will be called each time the yk scan updates, allowing it to update its graphs in real time. "
   ]
  },
  {
   "cell_type": "code",
   "execution_count": 6,
   "id": "878154ff",
   "metadata": {},
   "outputs": [],
   "source": [
    "%matplotlib widget\n",
    "\n",
    "def yk_scan_updates(obj):\n",
    "    global count, figure, ax, ax2, ax3\n",
    "    if ax.lines:\n",
    "        for line in ax.lines:\n",
    "            line.set_xdata(range(len(obj.scan_data[-1].slicer)))\n",
    "            line.set_ydata(list(obj.scan_data[-1].slicer))\n",
    "    else:\n",
    "        ax.scatter(range(len(obj.scan_data[-1].slicer)), list(obj.scan_data[-1].slicer), color='blue')\n",
    "    \n",
    "    if ax2.lines:\n",
    "        for line2 in ax2.lines:\n",
    "            ax2.set_xlim(0, ax2.get_xlim()[1] + len(obj.scan_data[-1].slicer))\n",
    "            line2.set_xdata(list(line2.get_xdata()) + list(range(len(line2.get_xdata()), len(line2.get_xdata()) + len(obj.scan_data[-1].slicer))))\n",
    "            line2.set_ydata(list(line2.get_ydata()) + list(obj.scan_data[-1].slicer))\n",
    "    else:\n",
    "        ax2.scatter(range(len(obj.scan_data[-1].slicer)), list(obj.scan_data[-1].slicer), color='blue')\n",
    "        \n",
    "    if ax3.lines:\n",
    "        for line3 in ax3.lines:\n",
    "            if len(obj.scan_data) - 1 > ax3.get_xlim()[1]:\n",
    "                ax3.set_xlim(0, ax3.get_xlim()[1]+10)\n",
    "            line3.set_xdata(list(line3.get_xdata()) + [len(obj.scan_data) - 1])\n",
    "            line3.set_ydata(list(line3.get_ydata()) + [obj.scan_data[-1].snr])\n",
    "    else:\n",
    "        ax3.plot(len(obj.scan_data) - 1, obj.scan_data[-1].snr)\n",
    "\n",
    "\n",
    "    figure.canvas.draw_idle()"
   ]
  },
  {
   "cell_type": "markdown",
   "id": "20dd65e7",
   "metadata": {},
   "source": [
    "## 7 - Create YK Scan\n",
    "\n",
    "This step initializes the YK scan, setting its update method to the method we defined in the last step. "
   ]
  },
  {
   "cell_type": "code",
   "execution_count": 7,
   "id": "9aec742d",
   "metadata": {},
   "outputs": [],
   "source": [
    "yk = create_yk_scans(target_objs=gt_group.gts[0].rx)[0]\n",
    "\n",
    "yk.updates_callback = yk_scan_updates"
   ]
  },
  {
   "cell_type": "markdown",
   "id": "836b0ef2",
   "metadata": {},
   "source": [
    "## 8 - Run YK Scan\n",
    "\n",
    "Initialize the plots and start the YK Scan to begin updating the plots. \n",
    "YK Scan plot should contain three subplots, these plots should look something like:\n",
    "![yk_scan_example.png](./yk_scan_example.png)\n",
    "Note: Depending on the hardware setup and external loopback connection, the plot might look different."
   ]
  },
  {
   "cell_type": "code",
   "execution_count": 8,
   "id": "cdb98b19",
   "metadata": {},
   "outputs": [
    {
     "data": {
      "application/vnd.jupyter.widget-view+json": {
       "model_id": "625e51d17d834c059b3c0429535a5bac",
       "version_major": 2,
       "version_minor": 0
      },
      "image/png": "[encoded data removed]",
      "text/html": [
       "\n",
       "            <div style=\"display: inline-block;\">\n",
       "                <div class=\"jupyter-widgets widget-label\" style=\"text-align: center;\">\n",
       "                    YK Scan\n",
       "                </div>\n",
       "                <img src='data:image/png;base64,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' width=640.0/>\n",
       "            </div>\n",
       "        "
      ],
      "text/plain": [
       "Canvas(toolbar=Toolbar(toolitems=[('Home', 'Reset original view', 'home', 'home'), ('Back', 'Back to previous …"
      ]
     },
     "metadata": {},
     "output_type": "display_data"
    }
   ],
   "source": [
    "%matplotlib widget\n",
    "\n",
    "#This sets up the subplots necessary for the \n",
    "figure, (ax, ax2, ax3) = plt.subplots(3, constrained_layout = True, num=\"YK Scan\")\n",
    "\n",
    "ax.set_xlabel(\"ES Sample\")\n",
    "ax.set_ylabel(\"Amplitude (%)\")\n",
    "ax.set_xlim(0,2000)\n",
    "ax.set_ylim(0,100)\n",
    "ax.set_yticks(range(0, 100, 20))\n",
    "ax.set_title(\"Slicer eye\")\n",
    "\n",
    "ax2.set_xlabel(\"Count\")\n",
    "ax2.set_ylabel(\"Amplitude (%)\")\n",
    "ax2.set_xlim(0,2000)\n",
    "ax2.set_ylim(0,100)\n",
    "ax2.set_yticks(range(0, 100, 20))\n",
    "ax2.set_title(\"Histogram\")\n",
    "\n",
    "ax3.set_xlabel(\"SNR Sample\")\n",
    "ax3.set_ylabel(\"SNR (dB)\")\n",
    "ax3.set_xlim(0,10)\n",
    "ax3.set_ylim(-10,100)\n",
    "ax3.set_title(\"Signal-to-Noise Ratio\")\n",
    "\n",
    "yk.start()"
   ]
  },
  {
   "cell_type": "markdown",
   "id": "fa382983",
   "metadata": {},
   "source": [
    "## 9 - Stop YK Scan\n",
    "Stops the YK scan from running."
   ]
  },
  {
   "cell_type": "code",
   "execution_count": null,
   "id": "2f070a7a",
   "metadata": {},
   "outputs": [],
   "source": [
    "yk.stop()"
   ]
  }
 ],
 "metadata": {
  "jupytext": {
   "formats": "ipynb,py:percent"
  },
  "kernelspec": {
   "display_name": "Python 3 (ipykernel)",
   "language": "python",
   "name": "python3"
  },
  "language_info": {
   "codemirror_mode": {
    "name": "ipython",
    "version": 3
   },
   "file_extension": ".py",
   "mimetype": "text/x-python",
   "name": "python",
   "nbconvert_exporter": "python",
   "pygments_lexer": "ipython3",
   "version": "3.8.3"
  }
 },
 "nbformat": 4,
 "nbformat_minor": 5
}
