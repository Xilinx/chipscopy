{
 "cells": [
  {
   "cell_type": "markdown",
   "id": "e1008e94",
   "metadata": {
    "papermill": {
     "duration": 0.015954,
     "end_time": "2023-10-24T22:40:55.720158",
     "exception": false,
     "start_time": "2023-10-24T22:40:55.704204",
     "status": "completed"
    },
    "tags": []
   },
   "source": [
    "<link rel=\"preconnect\" href=\"https://fonts.gstatic.com\">\n",
    "<link href=\"https://fonts.googleapis.com/css2?family=Fira+Code&display=swap\" rel=\"stylesheet\">\n",
    "\n",
    "### License\n",
    "\n",
    "<p style=\"font-family: 'Fira Code', monospace; font-size: 1.2rem\">\n",
    "Copyright (C) 2021-2022, Xilinx, Inc.\n",
    "Copyright (C) 2022-2023, Advanced Micro Devices, Inc.\n",
    "<br><br>\n",
    "Licensed under the Apache License, Version 2.0 (the \"License\");<br>\n",
    "you may not use this file except in compliance with the License.<br><br>\n",
    "You may obtain a copy of the License at <a href=\"http://www.apache.org/licenses/LICENSE-2.0\"?>http://www.apache.org/licenses/LICENSE-2.0</a><br><br>\n",
    "Unless required by applicable law or agreed to in writing, software<br>\n",
    "distributed under the License is distributed on an \"AS IS\" BASIS,<br>\n",
    "WITHOUT WARRANTIES OR CONDITIONS OF ANY KIND, either express or implied.<br>\n",
    "See the License for the specific language governing permissions and<br>\n",
    "limitations under the License.<br>\n",
    "</p>\n"
   ]
  },
  {
   "cell_type": "markdown",
   "id": "b3ae6c31",
   "metadata": {
    "papermill": {
     "duration": 0.008446,
     "end_time": "2023-10-24T22:40:55.736278",
     "exception": false,
     "start_time": "2023-10-24T22:40:55.727832",
     "status": "completed"
    },
    "tags": []
   },
   "source": [
    "# IBERT Landlocked GTYP decoupling example"
   ]
  },
  {
   "cell_type": "markdown",
   "id": "2e1b13cf",
   "metadata": {
    "papermill": {
     "duration": 0.007036,
     "end_time": "2023-10-24T22:40:55.751724",
     "exception": false,
     "start_time": "2023-10-24T22:40:55.744688",
     "status": "completed"
    },
    "tags": []
   },
   "source": [
    "## Description\n",
    "This example shows how to interact with Landlocked (CPM5-controlled) GTYP with ChipScoPy APIs.\n",
    "- Program the pcie-ced design with Quad104 and Quad105 onto Production vpk120 board.\n",
    "- Verify that the expected IBERT quads are instantiated by the design\n",
    "- Decouple the quads from CPM5\n",
    "- Change rate for all the links in those quads\n",
    "- Plot Eye Scan diagram for these links\n",
    "\n",
    "## Requirements\n",
    "- Xilinx vpk120 production board\n",
    "- PCIE Loopback card\n",
    "- Xilinx hw_server 2023.2 installed and running\n",
    "- Xilinx cs_server 2023.2 installed and running\n",
    "- Python 3.8 or greater installed\n",
    "- ChipScoPy 2023.2 installed\n",
    "- Jupyter notebook support installed - Please do so, using the command `pip install chipscopy[jupyter]`\n",
    "- Plotting support installed - Please do so, using the command `pip install chipscopy[core-addons]`"
   ]
  },
  {
   "cell_type": "markdown",
   "id": "0ca6b89c",
   "metadata": {
    "papermill": {
     "duration": 0.007411,
     "end_time": "2023-10-24T22:40:55.766046",
     "exception": false,
     "start_time": "2023-10-24T22:40:55.758635",
     "status": "completed"
    },
    "tags": []
   },
   "source": [
    "## 1 - Initialization: Imports\n",
    "Import required functions and classes"
   ]
  },
  {
   "cell_type": "code",
   "execution_count": null,
   "id": "53ceb800",
   "metadata": {
    "lines_to_next_cell": 1,
    "papermill": {
     "duration": 0.960631,
     "end_time": "2023-10-24T22:40:56.734163",
     "exception": false,
     "start_time": "2023-10-24T22:40:55.773532",
     "status": "completed"
    },
    "tags": []
   },
   "outputs": [],
   "source": [
    "import os\n",
    "from more_itertools import one\n",
    "from itertools import product\n",
    "\n",
    "from chipscopy import create_session, report_versions, report_hierarchy, get_design_files\n",
    "from chipscopy.api.ibert.aliases import (\n",
    "    PATTERN,\n",
    "    RX_LOOPBACK,\n",
    "    EYE_SCAN_HORZ_STEP,\n",
    "    EYE_SCAN_VERT_STEP,\n",
    "    EYE_SCAN_HORZ_RANGE,\n",
    "    EYE_SCAN_VERT_RANGE,\n",
    "    EYE_SCAN_TARGET_BER,\n",
    ")\n",
    "from chipscopy.api.ibert import  create_links, create_eye_scans"
   ]
  },
  {
   "cell_type": "markdown",
   "id": "84d97f97",
   "metadata": {
    "papermill": {
     "duration": 0.009147,
     "end_time": "2023-10-24T22:40:56.754577",
     "exception": false,
     "start_time": "2023-10-24T22:40:56.745430",
     "status": "completed"
    },
    "tags": []
   },
   "source": [
    "## 2 - Define some helper functions to achieve decoupling\n"
   ]
  },
  {
   "cell_type": "code",
   "execution_count": null,
   "id": "e4eef47c",
   "metadata": {
    "lines_to_next_cell": 1,
    "papermill": {
     "duration": 0.017266,
     "end_time": "2023-10-24T22:40:56.779406",
     "exception": false,
     "start_time": "2023-10-24T22:40:56.762140",
     "status": "completed"
    },
    "tags": []
   },
   "outputs": [],
   "source": [
    "def is_quad_decoupled(quad):\n",
    "    prop_name = \"CAPTIVE_QUAD_DECOUPLED\"\n",
    "    prop_val = quad.property.refresh(prop_name)[prop_name]\n",
    "    print(f\"{prop_name} = {prop_val}\")\n",
    "    \n",
    "def decouple_quad_using_prop(quad):\n",
    "    props = {\n",
    "        \"CAPTIVE_QUAD_DECOUPLE\": 1,\n",
    "    }\n",
    "    quad.property.set(**props)\n",
    "    quad.property.commit(list(props.keys()))\n",
    "\n",
    "def decouple_gtyp_quad(quads):\n",
    "    print(f\"\\n--------> Decouple GTYPs from CPM5\")\n",
    "    for quad in quads:\n",
    "        decouple_quad_using_prop(quad)\n",
    "        is_quad_decoupled(quad)"
   ]
  },
  {
   "cell_type": "markdown",
   "id": "dd96417c",
   "metadata": {
    "papermill": {
     "duration": 0.007301,
     "end_time": "2023-10-24T22:40:56.795597",
     "exception": false,
     "start_time": "2023-10-24T22:40:56.788296",
     "status": "completed"
    },
    "tags": []
   },
   "source": [
    "## 3 - Define some helper functions to achieve rate change\n"
   ]
  },
  {
   "cell_type": "code",
   "execution_count": null,
   "id": "fc484ce0",
   "metadata": {
    "lines_to_next_cell": 1,
    "papermill": {
     "duration": 0.017986,
     "end_time": "2023-10-24T22:40:56.821008",
     "exception": false,
     "start_time": "2023-10-24T22:40:56.803022",
     "status": "completed"
    },
    "tags": []
   },
   "outputs": [],
   "source": [
    "def get_current_channel_rate(quad):\n",
    "    prop_name = \"CAPTIVE_QUAD_PCIE_RATE\"\n",
    "    prop_val = quad.property.refresh(prop_name)[prop_name]\n",
    "    print(f\"{prop_name} = {prop_val}\")\n",
    "\n",
    "def set_channel_rate_using_prop(quad, rate):\n",
    "    props = {\n",
    "        \"CAPTIVE_QUAD_PCIE_RATE\": rate,\n",
    "    }\n",
    "    quad.property.set(**props)\n",
    "    quad.property.commit(list(props.keys()))\n",
    "    \n",
    "def setRate(quads, rate):\n",
    "    print(f\"\\n--------> Setting line rate to {rate}\")\n",
    "    for quad in quads:\n",
    "        set_channel_rate_using_prop(quad, rate)\n",
    "        get_current_channel_rate(quad)"
   ]
  },
  {
   "cell_type": "markdown",
   "id": "32143f61",
   "metadata": {
    "papermill": {
     "duration": 0.007224,
     "end_time": "2023-10-24T22:40:56.835732",
     "exception": false,
     "start_time": "2023-10-24T22:40:56.828508",
     "status": "completed"
    },
    "tags": []
   },
   "source": [
    "## 4- Define helper functions to set and report link properties"
   ]
  },
  {
   "cell_type": "code",
   "execution_count": null,
   "id": "e1565764",
   "metadata": {
    "papermill": {
     "duration": 0.018453,
     "end_time": "2023-10-24T22:40:56.861455",
     "exception": false,
     "start_time": "2023-10-24T22:40:56.843002",
     "status": "completed"
    },
    "tags": []
   },
   "outputs": [],
   "source": [
    "def setLinkProperties(links):\n",
    "    print(\"--------> Setting both Tx and RX patterns to 'PRBS 7' & loopback to 'None' for all links\")\n",
    "    for link in links:\n",
    "        props = {link.tx.property_for_alias[PATTERN]: \"PRBS 7\"}\n",
    "        link.tx.property.set(**props)\n",
    "        link.tx.property.commit(list(props.keys()))\n",
    "\n",
    "        props = {\n",
    "            link.rx.property_for_alias[PATTERN]: \"PRBS 7\",\n",
    "            link.rx.property_for_alias[RX_LOOPBACK]: \"None\",\n",
    "        }\n",
    "        link.rx.property.set(**props)\n",
    "        link.rx.property.commit(list(props.keys()))\n",
    "\n",
    "def printLinkProperties(links):\n",
    "    for link in links:\n",
    "        current_txpattern = list(link.tx.property.refresh(link.tx.property_for_alias[PATTERN]).values())[0]\n",
    "        current_rxpattern = list(link.tx.property.refresh(link.rx.property_for_alias[PATTERN]).values())[0]\n",
    "        current_rxloopback = list(link.tx.property.refresh(link.rx.property_for_alias[RX_LOOPBACK]).values())[0]\n",
    "        print(f\"\\n----- {link.name} -----\")\n",
    "        print(f\"Current value of TX pattern - {current_txpattern}\")\n",
    "        print(f\"Current value of RX pattern - {current_rxpattern}\")\n",
    "        print(f\"Current value of RX loopback - {current_rxloopback}\")\n",
    "        print(f\"Line Rate Detected = {link.status}.\")"
   ]
  },
  {
   "cell_type": "markdown",
   "id": "721a4112",
   "metadata": {
    "papermill": {
     "duration": 0.069734,
     "end_time": "2023-10-24T22:40:56.940822",
     "exception": false,
     "start_time": "2023-10-24T22:40:56.871088",
     "status": "completed"
    },
    "tags": []
   },
   "source": [
    "## 5- Create a session and connect to the hw_server and cs_server\n",
    "\n",
    "The session is a container that keeps track of devices and debug cores.\n",
    "After this step,\n",
    "- Session is initialized and connected to server(s)\n",
    "- Versions are detected and reported to stdout"
   ]
  },
  {
   "cell_type": "code",
   "execution_count": null,
   "id": "4c7dd3f1",
   "metadata": {
    "papermill": {
     "duration": 9.670933,
     "end_time": "2023-10-24T22:41:06.620088",
     "exception": false,
     "start_time": "2023-10-24T22:40:56.949155",
     "status": "completed"
    },
    "tags": []
   },
   "outputs": [],
   "source": [
    "CS_URL = os.getenv(\"CS_SERVER_URL\", \"TCP:localhost:3042\")\n",
    "HW_URL = os.getenv(\"HW_SERVER_URL\", \"TCP:localhost:3121\")\n",
    "\n",
    "session = create_session(cs_server_url=CS_URL, hw_server_url=HW_URL)\n",
    "report_versions(session)"
   ]
  },
  {
   "cell_type": "markdown",
   "id": "73a4b8e3",
   "metadata": {
    "papermill": {
     "duration": 0.009791,
     "end_time": "2023-10-24T22:41:06.640201",
     "exception": false,
     "start_time": "2023-10-24T22:41:06.630410",
     "status": "completed"
    },
    "tags": []
   },
   "source": [
    "## 6 - Program the device with vpk120 pcie-ced design and discover cores"
   ]
  },
  {
   "cell_type": "code",
   "execution_count": null,
   "id": "4cd4d4c2",
   "metadata": {
    "papermill": {
     "duration": 3.629638,
     "end_time": "2023-10-24T22:41:10.279438",
     "exception": false,
     "start_time": "2023-10-24T22:41:06.649800",
     "status": "completed"
    },
    "tags": []
   },
   "outputs": [],
   "source": [
    "design_files = get_design_files(\"vpk120/production/pcie_pio_ced/\")\n",
    "\n",
    "PDI_FILE = design_files.programming_file\n",
    "\n",
    "print(f\"PROGRAMMING_FILE: {PDI_FILE}\")\n",
    "\n",
    "device = session.devices.filter_by(family=\"versal\").get()\n",
    "device.program(PDI_FILE)"
   ]
  },
  {
   "cell_type": "markdown",
   "id": "1e500ff1",
   "metadata": {
    "papermill": {
     "duration": 0.008729,
     "end_time": "2023-10-24T22:41:10.298339",
     "exception": false,
     "start_time": "2023-10-24T22:41:10.289610",
     "status": "completed"
    },
    "tags": []
   },
   "source": [
    "## 7 - Discover and setup the IBERT core\n",
    "\n",
    "Debug core discovery initializes the chipscope server debug cores.\n",
    "\n",
    "After this step,\n",
    "\n",
    "- The cs_server is initialized and ready for use\n",
    "- The first ibert found is used"
   ]
  },
  {
   "cell_type": "code",
   "execution_count": null,
   "id": "7d5145f4",
   "metadata": {
    "collapsed": false,
    "jupyter": {
     "outputs_hidden": false
    },
    "papermill": {
     "duration": 1.016555,
     "end_time": "2023-10-24T22:41:11.323183",
     "exception": false,
     "start_time": "2023-10-24T22:41:10.306628",
     "status": "completed"
    },
    "pycharm": {
     "name": "#%%\n"
    },
    "tags": []
   },
   "outputs": [
    {
     "name": "stdout",
     "output_type": "stream",
     "text": [
      "GT Groups available - ['Quad_104', 'Quad_105']\n"
     ]
    }
   ],
   "source": [
    "device.discover_and_setup_cores(ibert_scan=True)\n",
    "print(\"--> Debug core discovery done\")\n",
    "\n",
    "if len(device.ibert_cores) == 0:\n",
    "    print(\"No IBERT core found! Exiting...\")\n",
    "    exit()\n",
    "\n",
    "# Use the first available IBERT core from the device\n",
    "ibert_gtyp = one(device.ibert_cores.filter_by(name=\"IBERT Versal GTYP\"))\n",
    "\n",
    "if len(ibert_gtyp.gt_groups) == 0:\n",
    "    print(\"No GT Groups available for use! Exiting...\")\n",
    "    exit()\n",
    "\n",
    "print(f\"GT Groups available - {[gt_group_obj.name for gt_group_obj in ibert_gtyp.gt_groups]}\")"
   ]
  },
  {
   "cell_type": "markdown",
   "id": "d430a8b1",
   "metadata": {
    "papermill": {
     "duration": 0.008545,
     "end_time": "2023-10-24T22:41:11.341452",
     "exception": false,
     "start_time": "2023-10-24T22:41:11.332907",
     "status": "completed"
    },
    "tags": []
   },
   "source": [
    "## 8 - Print the hierarchy of the IBERT core\n",
    "\n",
    "We also ensure that all the quads instantiated by the ChipScoPy CED design are found by the APIs"
   ]
  },
  {
   "cell_type": "code",
   "execution_count": null,
   "id": "3f45ca31",
   "metadata": {
    "collapsed": false,
    "jupyter": {
     "outputs_hidden": false
    },
    "papermill": {
     "duration": 2.838407,
     "end_time": "2023-10-24T22:41:14.188217",
     "exception": false,
     "start_time": "2023-10-24T22:41:11.349810",
     "status": "completed"
    },
    "pycharm": {
     "name": "#%%\n"
    },
    "tags": []
   },
   "outputs": [],
   "source": [
    "report_hierarchy(ibert_gtyp)\n",
    "\n",
    "gt_group = ibert_gtyp.gt_groups.filter_by(name=\"Quad_104\")[0]\n",
    "\n",
    "q104 = one(ibert_gtyp.gt_groups.filter_by(name=\"Quad_104\"))\n",
    "q105 = one(ibert_gtyp.gt_groups.filter_by(name=\"Quad_105\"))"
   ]
  },
  {
   "cell_type": "markdown",
   "id": "f18b21f0",
   "metadata": {
    "papermill": {
     "duration": 0.008099,
     "end_time": "2023-10-24T22:41:14.205991",
     "exception": false,
     "start_time": "2023-10-24T22:41:14.197892",
     "status": "completed"
    },
    "tags": []
   },
   "source": [
    "## 9 - Create links between following TXs and RXs and set loopback mode\n",
    "\n",
    "- Quad 104 CH0 TX to Quad 104 CH0 RX\n",
    "- Quad 104 CH1 TX to Quad 104 CH1 RX\n",
    "- Quad 104 CH2 TX to Quad 104 CH3 RX\n",
    "- Quad 104 CH3 TX to Quad 104 CH3 RX\n",
    "- Quad 105 CH0 TX to Quad 105 CH0 RX\n",
    "- Quad 105 CH1 TX to Quad 105 CH1 RX\n",
    "- Quad 105 CH3 TX to Quad 105 CH3 RX\n",
    "- Quad 105 CH3 TX to Quad 105 CH3 RX"
   ]
  },
  {
   "cell_type": "code",
   "execution_count": null,
   "id": "76fc2c6b",
   "metadata": {
    "papermill": {
     "duration": 0.019084,
     "end_time": "2023-10-24T22:41:14.233175",
     "exception": false,
     "start_time": "2023-10-24T22:41:14.214091",
     "status": "completed"
    },
    "tags": []
   },
   "outputs": [],
   "source": [
    "links = create_links(\n",
    "    txs=[q104.gts[0].tx, q104.gts[1].tx, q104.gts[2].tx, q104.gts[3].tx, q105.gts[0].tx, q105.gts[1].tx, q105.gts[2].tx, q105.gts[3].tx],\n",
    "    rxs=[q104.gts[0].rx, q104.gts[1].rx, q104.gts[2].rx, q104.gts[3].rx, q105.gts[0].rx, q105.gts[1].rx, q105.gts[2].rx, q105.gts[3].rx],\n",
    ")\n",
    "\n",
    "print(\"--> Done creating links\")"
   ]
  },
  {
   "cell_type": "markdown",
   "id": "64bd9267",
   "metadata": {
    "papermill": {
     "duration": 0.008055,
     "end_time": "2023-10-24T22:41:14.249873",
     "exception": false,
     "start_time": "2023-10-24T22:41:14.241818",
     "status": "completed"
    },
    "tags": []
   },
   "source": [
    "## 10 - Decouple Quads from CPM5"
   ]
  },
  {
   "cell_type": "code",
   "execution_count": null,
   "id": "3f203af8",
   "metadata": {
    "papermill": {
     "duration": 3.723265,
     "end_time": "2023-10-24T22:41:17.981374",
     "exception": false,
     "start_time": "2023-10-24T22:41:14.258109",
     "status": "completed"
    },
    "pycharm": {
     "name": "#%%\n"
    },
    "tags": []
   },
   "outputs": [
    {
     "name": "stdout",
     "output_type": "stream",
     "text": [
      "CAPTIVE_QUAD_DECOUPLED = Yes\n"
     ]
    },
    {
     "name": "stdout",
     "output_type": "stream",
     "text": [
      "CAPTIVE_QUAD_DECOUPLED = Yes\n",
      "--------> Setting both Tx and RX patterns to 'PRBS 7' & loopback to 'None' for all links\n"
     ]
    }
   ],
   "source": [
    "land_Locked_Quads = [q104,q105]\n",
    "#Decouple GTYPs from CPM5\n",
    "decouple_gtyp_quad(land_Locked_Quads)\n",
    "\n",
    "#set loopback mode with Tx and Rx pattern\n",
    "setLinkProperties(links)"
   ]
  },
  {
   "cell_type": "markdown",
   "id": "c2a7ca82",
   "metadata": {
    "papermill": {
     "duration": 0.008756,
     "end_time": "2023-10-24T22:41:17.999823",
     "exception": false,
     "start_time": "2023-10-24T22:41:17.991067",
     "status": "completed"
    },
    "tags": []
   },
   "source": [
    "## 11 - Set rate to Gen1"
   ]
  },
  {
   "cell_type": "code",
   "execution_count": null,
   "id": "1337754c",
   "metadata": {
    "papermill": {
     "duration": 3.645192,
     "end_time": "2023-10-24T22:41:21.653570",
     "exception": false,
     "start_time": "2023-10-24T22:41:18.008378",
     "status": "completed"
    },
    "pycharm": {
     "name": "#%%\n"
    },
    "tags": []
   },
   "outputs": [
    {
     "name": "stdout",
     "output_type": "stream",
     "text": [
      "CAPTIVE_QUAD_PCIE_RATE = Gen1\n"
     ]
    },
    {
     "name": "stdout",
     "output_type": "stream",
     "text": [
      "CAPTIVE_QUAD_PCIE_RATE = Gen1\n",
      "\n",
      "----- Link_0 -----\n",
      "Current value of TX pattern - PRBS 7\n",
      "Current value of RX pattern - PRBS 7\n",
      "Current value of RX loopback - None\n"
     ]
    },
    {
     "name": "stdout",
     "output_type": "stream",
     "text": [
      "Line Rate Detected = 3.122 Gbps.\n",
      "\n",
      "----- Link_1 -----\n",
      "Current value of TX pattern - PRBS 7\n",
      "Current value of RX pattern - PRBS Disabled\n",
      "Current value of RX loopback - None\n"
     ]
    },
    {
     "name": "stdout",
     "output_type": "stream",
     "text": [
      "Line Rate Detected = No link.\n",
      "\n",
      "----- Link_2 -----\n",
      "Current value of TX pattern - PRBS 7\n",
      "Current value of RX pattern - PRBS Disabled\n",
      "Current value of RX loopback - None\n"
     ]
    },
    {
     "name": "stdout",
     "output_type": "stream",
     "text": [
      "Line Rate Detected = No link.\n"
     ]
    },
    {
     "name": "stdout",
     "output_type": "stream",
     "text": [
      "\n",
      "----- Link_3 -----\n",
      "Current value of TX pattern - PRBS 7\n",
      "Current value of RX pattern - PRBS Disabled\n",
      "Current value of RX loopback - None\n",
      "Line Rate Detected = No link.\n"
     ]
    },
    {
     "name": "stdout",
     "output_type": "stream",
     "text": [
      "\n",
      "----- Link_4 -----\n",
      "Current value of TX pattern - PRBS 7\n",
      "Current value of RX pattern - PRBS 7\n",
      "Current value of RX loopback - None\n",
      "Line Rate Detected = 3.124 Gbps.\n"
     ]
    },
    {
     "name": "stdout",
     "output_type": "stream",
     "text": [
      "\n",
      "----- Link_5 -----\n",
      "Current value of TX pattern - PRBS 7\n",
      "Current value of RX pattern - PRBS Disabled\n",
      "Current value of RX loopback - None\n",
      "Line Rate Detected = No link.\n"
     ]
    },
    {
     "name": "stdout",
     "output_type": "stream",
     "text": [
      "\n",
      "----- Link_6 -----\n",
      "Current value of TX pattern - PRBS 7\n",
      "Current value of RX pattern - PRBS Disabled\n",
      "Current value of RX loopback - None\n",
      "Line Rate Detected = No link.\n"
     ]
    },
    {
     "name": "stdout",
     "output_type": "stream",
     "text": [
      "\n",
      "----- Link_7 -----\n",
      "Current value of TX pattern - PRBS 7\n",
      "Current value of RX pattern - PRBS Disabled\n",
      "Current value of RX loopback - None\n",
      "Line Rate Detected = No link.\n"
     ]
    }
   ],
   "source": [
    "#set line rate\n",
    "setRate(land_Locked_Quads, 'Gen1')\n",
    "printLinkProperties(links)"
   ]
  },
  {
   "cell_type": "markdown",
   "id": "cdd42d3d",
   "metadata": {
    "papermill": {
     "duration": 0.008976,
     "end_time": "2023-10-24T22:41:21.673937",
     "exception": false,
     "start_time": "2023-10-24T22:41:21.664961",
     "status": "completed"
    },
    "tags": []
   },
   "source": [
    "## 12 - Create Eye Scan Diagrams"
   ]
  },
  {
   "cell_type": "code",
   "execution_count": null,
   "id": "a16f68b1",
   "metadata": {
    "papermill": {
     "duration": 130.617844,
     "end_time": "2023-10-24T22:43:32.301164",
     "exception": false,
     "start_time": "2023-10-24T22:41:21.683320",
     "status": "completed"
    },
    "tags": []
   },
   "outputs": [],
   "source": [
    "eye_scans = create_eye_scans(target_objs=[link for link in links])\n",
    "for eye_scan in eye_scans:\n",
    "    eye_scan.params[EYE_SCAN_HORZ_STEP].value = 2\n",
    "    eye_scan.params[EYE_SCAN_VERT_STEP].value = 2\n",
    "    eye_scan.params[EYE_SCAN_HORZ_RANGE].value = \"-0.500 UI to 0.500 UI\"\n",
    "    eye_scan.params[EYE_SCAN_VERT_RANGE].value = \"100%\"\n",
    "    eye_scan.params[EYE_SCAN_TARGET_BER].value = 1e-5\n",
    "\n",
    "    eye_scan.start()\n",
    "    print(f\"Started eye scan {eye_scan}\")"
   ]
  },
  {
   "cell_type": "markdown",
   "id": "90aedd32",
   "metadata": {
    "papermill": {
     "duration": null,
     "end_time": null,
     "exception": null,
     "start_time": null,
     "status": "completed"
    },
    "tags": []
   },
   "source": [
    "## 13 - Wait for all the eye scans to get done"
   ]
  },
  {
   "cell_type": "code",
   "execution_count": null,
   "id": "7e609b6e",
   "metadata": {
    "papermill": {
     "duration": null,
     "end_time": null,
     "exception": null,
     "start_time": null,
     "status": "completed"
    },
    "tags": []
   },
   "outputs": [],
   "source": [
    "eye_scans[0].wait_till_done()\n",
    "eye_scans[1].wait_till_done()\n",
    "eye_scans[2].wait_till_done()\n",
    "eye_scans[3].wait_till_done()\n",
    "eye_scans[4].wait_till_done()\n",
    "eye_scans[5].wait_till_done()\n",
    "eye_scans[6].wait_till_done()\n",
    "eye_scans[7].wait_till_done()"
   ]
  },
  {
   "cell_type": "markdown",
   "id": "897a3585",
   "metadata": {
    "papermill": {
     "duration": null,
     "end_time": null,
     "exception": null,
     "start_time": null,
     "status": "completed"
    },
    "tags": []
   },
   "source": [
    "## 14 - View Eye Scan Plot.\n",
    "\n",
    "This requires Plotly to be installed. See how to install it [here](https://pages.gitenterprise.xilinx.com/chipscope/chipscopy/2020.2/ibert/scan.html#scan-plots)\n",
    "\n",
    "NOTE - The plot may not display if this notebook is run in Jupyter Lab. For details, see [link](https://plotly.com/python/getting-started/#jupyterlab-support-python-35)"
   ]
  },
  {
   "cell_type": "code",
   "execution_count": null,
   "id": "ad1c8b1a",
   "metadata": {
    "papermill": {
     "duration": null,
     "end_time": null,
     "exception": null,
     "start_time": null,
     "status": "completed"
    },
    "tags": []
   },
   "outputs": [],
   "source": [
    "eye_scans[0].plot.show()\n",
    "eye_scans[1].plot.show()\n",
    "eye_scans[2].plot.show()\n",
    "eye_scans[3].plot.show()\n",
    "eye_scans[4].plot.show()\n",
    "eye_scans[5].plot.show()\n",
    "eye_scans[6].plot.show()\n",
    "eye_scans[7].plot.show()"
   ]
  },
  {
   "cell_type": "markdown",
   "id": "2e462716",
   "metadata": {
    "papermill": {
     "duration": null,
     "end_time": null,
     "exception": null,
     "start_time": null,
     "status": "completed"
    },
    "tags": []
   },
   "source": [
    "## 15 - Set rate to Gen2"
   ]
  },
  {
   "cell_type": "code",
   "execution_count": null,
   "id": "b7aba93c",
   "metadata": {
    "papermill": {
     "duration": null,
     "end_time": null,
     "exception": null,
     "start_time": null,
     "status": "completed"
    },
    "pycharm": {
     "name": "#%%\n"
    },
    "tags": []
   },
   "outputs": [],
   "source": [
    "#set line rate\n",
    "setRate(land_Locked_Quads, 'Gen2')\n",
    "printLinkProperties(links)"
   ]
  },
  {
   "cell_type": "markdown",
   "id": "861e70a0",
   "metadata": {
    "papermill": {
     "duration": null,
     "end_time": null,
     "exception": null,
     "start_time": null,
     "status": "completed"
    },
    "tags": []
   },
   "source": [
    "## 16 - Create Eye Scan Diagrams"
   ]
  },
  {
   "cell_type": "code",
   "execution_count": null,
   "id": "f75807df",
   "metadata": {
    "papermill": {
     "duration": null,
     "end_time": null,
     "exception": null,
     "start_time": null,
     "status": "completed"
    },
    "tags": []
   },
   "outputs": [],
   "source": [
    "eye_scans = create_eye_scans(target_objs=[link for link in links])\n",
    "for eye_scan in eye_scans:\n",
    "    eye_scan.params[EYE_SCAN_HORZ_STEP].value = 2\n",
    "    eye_scan.params[EYE_SCAN_VERT_STEP].value = 2\n",
    "    eye_scan.params[EYE_SCAN_HORZ_RANGE].value = \"-0.500 UI to 0.500 UI\"\n",
    "    eye_scan.params[EYE_SCAN_VERT_RANGE].value = \"100%\"\n",
    "    eye_scan.params[EYE_SCAN_TARGET_BER].value = 1e-5\n",
    "\n",
    "    eye_scan.start()\n",
    "    print(f\"Started eye scan {eye_scan}\")"
   ]
  },
  {
   "cell_type": "markdown",
   "id": "5d49ff1a",
   "metadata": {
    "papermill": {
     "duration": null,
     "end_time": null,
     "exception": null,
     "start_time": null,
     "status": "completed"
    },
    "tags": []
   },
   "source": [
    "## 17 - Wait for all the eye scans to get done"
   ]
  },
  {
   "cell_type": "code",
   "execution_count": null,
   "id": "bafc893d",
   "metadata": {
    "papermill": {
     "duration": null,
     "end_time": null,
     "exception": null,
     "start_time": null,
     "status": "completed"
    },
    "tags": []
   },
   "outputs": [],
   "source": [
    "eye_scans[0].wait_till_done()\n",
    "eye_scans[1].wait_till_done()\n",
    "eye_scans[2].wait_till_done()\n",
    "eye_scans[3].wait_till_done()\n",
    "eye_scans[4].wait_till_done()\n",
    "eye_scans[5].wait_till_done()\n",
    "eye_scans[6].wait_till_done()\n",
    "eye_scans[7].wait_till_done()"
   ]
  },
  {
   "cell_type": "markdown",
   "id": "cb2757d7",
   "metadata": {
    "papermill": {
     "duration": null,
     "end_time": null,
     "exception": null,
     "start_time": null,
     "status": "completed"
    },
    "tags": []
   },
   "source": [
    "## 18 - View Eye Scan Plot."
   ]
  },
  {
   "cell_type": "code",
   "execution_count": null,
   "id": "ebc9437e",
   "metadata": {
    "papermill": {
     "duration": null,
     "end_time": null,
     "exception": null,
     "start_time": null,
     "status": "completed"
    },
    "tags": []
   },
   "outputs": [],
   "source": [
    "eye_scans[0].plot.show()\n",
    "eye_scans[1].plot.show()\n",
    "eye_scans[2].plot.show()\n",
    "eye_scans[3].plot.show()\n",
    "eye_scans[4].plot.show()\n",
    "eye_scans[5].plot.show()\n",
    "eye_scans[6].plot.show()\n",
    "eye_scans[7].plot.show()"
   ]
  },
  {
   "cell_type": "markdown",
   "id": "77b83df6",
   "metadata": {
    "papermill": {
     "duration": null,
     "end_time": null,
     "exception": null,
     "start_time": null,
     "status": "completed"
    },
    "tags": []
   },
   "source": [
    "## 19 - Set rate to Gen3"
   ]
  },
  {
   "cell_type": "code",
   "execution_count": null,
   "id": "dc3f551c",
   "metadata": {
    "papermill": {
     "duration": null,
     "end_time": null,
     "exception": null,
     "start_time": null,
     "status": "completed"
    },
    "pycharm": {
     "name": "#%%\n"
    },
    "tags": []
   },
   "outputs": [],
   "source": [
    "#set line rate\n",
    "setRate(land_Locked_Quads, 'Gen3')\n",
    "printLinkProperties(links)"
   ]
  },
  {
   "cell_type": "markdown",
   "id": "a8ca76b9",
   "metadata": {
    "papermill": {
     "duration": null,
     "end_time": null,
     "exception": null,
     "start_time": null,
     "status": "completed"
    },
    "tags": []
   },
   "source": [
    "## 20 - Create Eye Scan Diagrams"
   ]
  },
  {
   "cell_type": "code",
   "execution_count": null,
   "id": "cdb18c19",
   "metadata": {
    "papermill": {
     "duration": null,
     "end_time": null,
     "exception": null,
     "start_time": null,
     "status": "completed"
    },
    "tags": []
   },
   "outputs": [],
   "source": [
    "eye_scans = create_eye_scans(target_objs=[link for link in links])\n",
    "for eye_scan in eye_scans:\n",
    "    eye_scan.params[EYE_SCAN_HORZ_STEP].value = 2\n",
    "    eye_scan.params[EYE_SCAN_VERT_STEP].value = 2\n",
    "    eye_scan.params[EYE_SCAN_HORZ_RANGE].value = \"-0.500 UI to 0.500 UI\"\n",
    "    eye_scan.params[EYE_SCAN_VERT_RANGE].value = \"100%\"\n",
    "    eye_scan.params[EYE_SCAN_TARGET_BER].value = 1e-5\n",
    "\n",
    "    eye_scan.start()\n",
    "    print(f\"Started eye scan {eye_scan}\")"
   ]
  },
  {
   "cell_type": "markdown",
   "id": "0705e089",
   "metadata": {
    "papermill": {
     "duration": null,
     "end_time": null,
     "exception": null,
     "start_time": null,
     "status": "completed"
    },
    "tags": []
   },
   "source": [
    "## 21 - Wait for all the eye scans to get done"
   ]
  },
  {
   "cell_type": "code",
   "execution_count": null,
   "id": "dff65817",
   "metadata": {
    "papermill": {
     "duration": null,
     "end_time": null,
     "exception": null,
     "start_time": null,
     "status": "completed"
    },
    "tags": []
   },
   "outputs": [],
   "source": [
    "eye_scans[0].wait_till_done()\n",
    "eye_scans[1].wait_till_done()\n",
    "eye_scans[2].wait_till_done()\n",
    "eye_scans[3].wait_till_done()\n",
    "eye_scans[4].wait_till_done()\n",
    "eye_scans[5].wait_till_done()\n",
    "eye_scans[6].wait_till_done()\n",
    "eye_scans[7].wait_till_done()"
   ]
  },
  {
   "cell_type": "markdown",
   "id": "526dc762",
   "metadata": {
    "papermill": {
     "duration": null,
     "end_time": null,
     "exception": null,
     "start_time": null,
     "status": "completed"
    },
    "tags": []
   },
   "source": [
    "## 22 - View Eye Scan Plot."
   ]
  },
  {
   "cell_type": "code",
   "execution_count": null,
   "id": "b99b3078",
   "metadata": {
    "papermill": {
     "duration": null,
     "end_time": null,
     "exception": null,
     "start_time": null,
     "status": "completed"
    },
    "tags": []
   },
   "outputs": [],
   "source": [
    "eye_scans[0].plot.show()\n",
    "eye_scans[1].plot.show()\n",
    "eye_scans[2].plot.show()\n",
    "eye_scans[3].plot.show()\n",
    "eye_scans[4].plot.show()\n",
    "eye_scans[5].plot.show()\n",
    "eye_scans[6].plot.show()\n",
    "eye_scans[7].plot.show()"
   ]
  },
  {
   "cell_type": "markdown",
   "id": "19262e27",
   "metadata": {
    "papermill": {
     "duration": null,
     "end_time": null,
     "exception": null,
     "start_time": null,
     "status": "completed"
    },
    "tags": []
   },
   "source": [
    "## 23 - Set rate to Gen4"
   ]
  },
  {
   "cell_type": "code",
   "execution_count": null,
   "id": "449eaf6d",
   "metadata": {
    "papermill": {
     "duration": null,
     "end_time": null,
     "exception": null,
     "start_time": null,
     "status": "completed"
    },
    "tags": []
   },
   "outputs": [],
   "source": [
    "#set line rate\n",
    "setRate(land_Locked_Quads, 'Gen4')\n",
    "printLinkProperties(links)"
   ]
  },
  {
   "cell_type": "markdown",
   "id": "6ff67daf",
   "metadata": {
    "papermill": {
     "duration": null,
     "end_time": null,
     "exception": null,
     "start_time": null,
     "status": "completed"
    },
    "tags": []
   },
   "source": [
    "## 24 - Create Eye Scan Diagrams"
   ]
  },
  {
   "cell_type": "code",
   "execution_count": null,
   "id": "7cee7bb3",
   "metadata": {
    "papermill": {
     "duration": null,
     "end_time": null,
     "exception": null,
     "start_time": null,
     "status": "completed"
    },
    "tags": []
   },
   "outputs": [],
   "source": [
    "eye_scans = create_eye_scans(target_objs=[link for link in links])\n",
    "for eye_scan in eye_scans:\n",
    "    eye_scan.params[EYE_SCAN_HORZ_STEP].value = 2\n",
    "    eye_scan.params[EYE_SCAN_VERT_STEP].value = 2\n",
    "    eye_scan.params[EYE_SCAN_HORZ_RANGE].value = \"-0.500 UI to 0.500 UI\"\n",
    "    eye_scan.params[EYE_SCAN_VERT_RANGE].value = \"100%\"\n",
    "    eye_scan.params[EYE_SCAN_TARGET_BER].value = 1e-5\n",
    "\n",
    "    eye_scan.start()\n",
    "    print(f\"Started eye scan {eye_scan}\")"
   ]
  },
  {
   "cell_type": "markdown",
   "id": "de70efa7",
   "metadata": {
    "papermill": {
     "duration": null,
     "end_time": null,
     "exception": null,
     "start_time": null,
     "status": "completed"
    },
    "tags": []
   },
   "source": [
    "## 25 - Wait for all the eye scans to get done"
   ]
  },
  {
   "cell_type": "code",
   "execution_count": null,
   "id": "74752ac8",
   "metadata": {
    "papermill": {
     "duration": null,
     "end_time": null,
     "exception": null,
     "start_time": null,
     "status": "completed"
    },
    "tags": []
   },
   "outputs": [],
   "source": [
    "eye_scans[0].wait_till_done()\n",
    "eye_scans[1].wait_till_done()\n",
    "eye_scans[2].wait_till_done()\n",
    "eye_scans[3].wait_till_done()\n",
    "eye_scans[4].wait_till_done()\n",
    "eye_scans[5].wait_till_done()\n",
    "eye_scans[6].wait_till_done()\n",
    "eye_scans[7].wait_till_done()"
   ]
  },
  {
   "cell_type": "markdown",
   "id": "27533847",
   "metadata": {
    "papermill": {
     "duration": null,
     "end_time": null,
     "exception": null,
     "start_time": null,
     "status": "completed"
    },
    "tags": []
   },
   "source": [
    "## 26 - View Eye Scan Plot"
   ]
  },
  {
   "cell_type": "code",
   "execution_count": null,
   "id": "23285c58",
   "metadata": {
    "papermill": {
     "duration": null,
     "end_time": null,
     "exception": null,
     "start_time": null,
     "status": "completed"
    },
    "tags": []
   },
   "outputs": [],
   "source": [
    "eye_scans[0].plot.show()\n",
    "eye_scans[1].plot.show()\n",
    "eye_scans[2].plot.show()\n",
    "eye_scans[3].plot.show()\n",
    "eye_scans[4].plot.show()\n",
    "eye_scans[5].plot.show()\n",
    "eye_scans[6].plot.show()\n",
    "eye_scans[7].plot.show()"
   ]
  }
 ],
 "metadata": {
  "jupytext": {
   "formats": "ipynb,py:percent"
  },
  "kernelspec": {
   "display_name": "Python 3 (ipykernel)",
   "language": "python",
   "name": "python3"
  },
  "language_info": {
   "codemirror_mode": {
    "name": "ipython",
    "version": 3
   },
   "file_extension": ".py",
   "mimetype": "text/x-python",
   "name": "python",
   "nbconvert_exporter": "python",
   "pygments_lexer": "ipython3",
   "version": "3.10.5"
  },
  "papermill": {
   "default_parameters": {},
   "duration": 159.819694,
   "end_time": "2023-10-24T22:43:33.812698",
   "environment_variables": {},
   "exception": null,
   "input_path": "chipscopy-examples/ibert/versal_gtyp/cpm_decoupling.ipynb",
   "output_path": "/wrk/xcohdnobkup3/dkopelov/chipscopy/chipscopy/examples/ibert/versal_gtyp/cpm_decoupling.ipynb",
   "parameters": {},
   "start_time": "2023-10-24T22:40:53.993004",
   "version": "2.4.0"
  }
 },
 "nbformat": 4,
 "nbformat_minor": 5
}
