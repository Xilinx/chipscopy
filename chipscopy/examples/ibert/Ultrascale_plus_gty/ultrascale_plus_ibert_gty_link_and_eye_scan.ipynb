{
  "cells": [
    {
      "cell_type": "markdown",
      "id": "super-hurricane",
      "metadata": {},
      "source": [
        "<link rel=\"preconnect\" href=\"https://fonts.gstatic.com\">\n",
        "<link href=\"https://fonts.googleapis.com/css2?family=Fira+Code&display=swap\" rel=\"stylesheet\">\n",
        "\n",
        "### License\n",
        "\n",
        "<p style=\"font-family: 'Fira Code', monospace; font-size: 1.2rem\">\n",
        "Copyright (C) 2024, Advanced Micro Devices, Inc.\n",
        "<br><br>\n",
        "Licensed under the Apache License, Version 2.0 (the \"License\");<br>\n",
        "you may not use this file except in compliance with the License.<br><br>\n",
        "You may obtain a copy of the License at <a href=\"http://www.apache.org/licenses/LICENSE-2.0\"?>http://www.apache.org/licenses/LICENSE-2.0</a><br><br>\n",
        "Unless required by applicable law or agreed to in writing, software<br>\n",
        "distributed under the License is distributed on an \"AS IS\" BASIS,<br>\n",
        "WITHOUT WARRANTIES OR CONDITIONS OF ANY KIND, either express or implied.<br>\n",
        "See the License for the specific language governing permissions and<br>\n",
        "limitations under the License.<br>\n",
        "</p>\n"
      ]
    },
    {
      "cell_type": "markdown",
      "id": "plastic-offset",
      "metadata": {},
      "source": [
        "# IBERT UltraScale-Plus GTY Example\n"
      ]
    },
    {
      "cell_type": "markdown",
      "id": "several-frederick",
      "metadata": {},
      "source": [
        "### Description\n",
        "This example shows how to use IBERT (Integrated Bit Error Ratio Tester) debug core service via ChipScoPy APIs with UltraScale-Plus GTY. The example shows following capabilities:\n",
        "- Program a design on VCU128\n",
        "- Verify that the expected IBERT quads are instantiated by the design\n",
        "- Read/Write register properties from GTY Quad\n",
        "\n",
        "### Requirements\n",
        "- VCU128 Board\n",
        "- Xilinx hw_server 2025.1 installed and running\n",
        "- Xilinx cs_server 2025.1 installed and running\n",
        "- Python 3.9 or greater installed\n",
        "- ChipScoPy 2025.1 installed\n",
        "- Jupyter notebook support installed - Please do so, using the command pip install chipscopy[jupyter]\n",
        "- Plotting support installed - Please do so, using the command pip install chipscopy[core-addons]\n"
      ]
    },
    {
      "cell_type": "markdown",
      "id": "continental-dressing",
      "metadata": {},
      "source": [
        "## 1 - Initialization: Imports and File Paths\n",
        "\n",
        "After this step,\n",
        "- Required functions and classes are imported\n",
        "- Paths to server(s) and files are set correctly"
      ]
    },
    {
      "cell_type": "code",
      "execution_count": null,
      "id": "capital-inside",
      "metadata": {},
      "outputs": [],
      "source": [
        "import os\n",
        "from more_itertools import one\n",
        "from itertools import product\n",
        "\n",
        "from chipscopy import create_session, report_versions, get_design_files, report_hierarchy\n",
        "from chipscopy.api.ibert.aliases import (\n",
        "    EYE_SCAN_HORZ_RANGE,\n",
        "    EYE_SCAN_VERT_RANGE,\n",
        "    EYE_SCAN_VERT_STEP,\n",
        "    EYE_SCAN_HORZ_STEP,\n",
        "    EYE_SCAN_TARGET_BER,\n",
        "    PATTERN,\n",
        "    RX_LOOPBACK,\n",
        "    TX_PRE_CURSOR,\n",
        "    TX_POST_CURSOR,\n",
        "    TX_DIFFERENTIAL_SWING,\n",
        "    RX_TERMINATION_VOLTAGE,\n",
        "    RX_COMMON_MODE\n",
        ")\n",
        "from chipscopy.api.ibert import  create_links, create_eye_scans"
      ]
    },
    {
      "cell_type": "code",
      "execution_count": null,
      "id": "blessed-incentive",
      "metadata": {},
      "outputs": [],
      "source": [
        "# Make sure to start the hw_server and cs_server prior to running.\n",
        "# Specify locations of the running hw_server and cs_server below.\n",
        "# The default is localhost - but can be other locations on the network.\n",
        "CS_URL = \"TCP:localhost:3042\"\n",
        "HW_URL = \"TCP:localhost:3121\"\n",
        "\n",
        "\n",
        "print(f\"HW_URL: {HW_URL}\")\n",
        "print(f\"CS_URL: {CS_URL}\")\n",
        "\n",
        "# The get_design_files() function tries to find the PDI and LTX files. In non-standard\n",
        "# configurations, you can put the path for PROGRAMMING_FILE and PROBES_FILE below.\n",
        "design_files = get_design_files(\"vcu128/example_design\")\n",
        "\n",
        "BIT_FILE = design_files.programming_file\n",
        "print(BIT_FILE)"
      ]
    },
    {
      "cell_type": "markdown",
      "id": "collect-world",
      "metadata": {},
      "source": [
        "## 2 - Create a session and connect to the hw_server and cs_server\n",
        "\n",
        "The session is a container that keeps track of devices and debug cores.\n",
        "After this step,\n",
        "- Session is initialized and connected to server(s)\n",
        "- Versions are detected and reported to stdout"
      ]
    },
    {
      "cell_type": "code",
      "execution_count": null,
      "id": "asian-illness",
      "metadata": {},
      "outputs": [],
      "source": [
        "session = create_session(cs_server_url=CS_URL, hw_server_url=HW_URL)\n",
        "report_versions(session)"
      ]
    },
    {
      "cell_type": "markdown",
      "id": "freelance-business",
      "metadata": {},
      "source": [
        "## 3 - Program the device with the example design\n",
        "\n",
        "After this step,\n",
        "- Device is programmed with the example programming file"
      ]
    },
    {
      "cell_type": "code",
      "execution_count": null,
      "id": "pretty-simon",
      "metadata": {},
      "outputs": [],
      "source": [
        "# Typical case - one device on the board - get it.\n",
        "device = session.devices[0]\n",
        "print(device)\n",
        "device.program(BIT_FILE, delay_after_program = 10)"
      ]
    },
    {
      "cell_type": "markdown",
      "id": "innovative-paint",
      "metadata": {},
      "source": [
        "## 4 - Discover  IBERT cores\n",
        "\n",
        "Debug core discovery initializes the chipscope server debug cores.\n",
        "\n",
        "After this step,\n",
        "\n",
        "- The cs_server is initialized and ready for use\n",
        "- The first ibert found is used"
      ]
    },
    {
      "cell_type": "code",
      "execution_count": null,
      "id": "uniform-commerce",
      "metadata": {},
      "outputs": [],
      "source": [
        "device.discover_and_setup_cores(ibert_scan=True)\n",
        "print(\"--> Debug core discovery done for board\")\n",
        "\n",
        "if len(device.ibert_cores) == 0:\n",
        "    print(\"No IBERT core found with board 1! Exiting...\")\n",
        "    exit()\n",
        "\n",
        "for ibert in device.ibert_cores:\n",
        "    print(f\"\\n-> {ibert} ({ibert.handle})\")"
      ]
    },
    {
      "cell_type": "markdown",
      "id": "bronze-consortium",
      "metadata": {},
      "source": [
        "## 5 - Discover all GT_Groups available under each IBERT Core"
      ]
    },
    {
      "cell_type": "code",
      "execution_count": null,
      "id": "a62b565e",
      "metadata": {},
      "outputs": [],
      "source": [
        "for ibert in device.ibert_cores:\n",
        "    for gt_group in ibert.gt_groups:\n",
        "        print(f\"GT Groups available with {ibert.handle} - {[gt_group_obj.name for gt_group_obj in ibert.gt_groups]}\")"
      ]
    },
    {
      "cell_type": "markdown",
      "id": "bcaa7600",
      "metadata": {},
      "source": [
        "## 6 - Print Hierarchy for each IBERT Core"
      ]
    },
    {
      "cell_type": "code",
      "execution_count": null,
      "id": "526de597",
      "metadata": {},
      "outputs": [],
      "source": [
        "for ibert in device.ibert_cores:\n",
        "    report_hierarchy(ibert)"
      ]
    },
    {
      "cell_type": "markdown",
      "id": "61ca7a6a",
      "metadata": {},
      "source": [
        "## 7 - Find all GT and GT_COMMON nodes under each GT Group"
      ]
    },
    {
      "cell_type": "code",
      "execution_count": null,
      "id": "ffd7ec7c",
      "metadata": {},
      "outputs": [],
      "source": [
        "for ibert in device.ibert_cores:\n",
        "    for child in gt_group.children:\n",
        "        print(f\"name = {child.name}\")\n",
        "        print(f\"type = {child.type}\")\n",
        "        print(f\"setup_done = {child.setup_done}\")\n",
        "        print(f\"children = {child.children}\")"
      ]
    },
    {
      "cell_type": "markdown",
      "id": "eb9539f7",
      "metadata": {},
      "source": [
        "## 8 - Select a GT Group to work with"
      ]
    },
    {
      "cell_type": "code",
      "execution_count": null,
      "id": "639dac27",
      "metadata": {},
      "outputs": [],
      "source": [
        "# Use the first available IBERT core from the device\n",
        "ibert = device.ibert_cores.at(index=0)\n",
        "\n",
        "if len(ibert.gt_groups) == 0:\n",
        "    print(\"No GT Groups available for use! Exiting...\")\n",
        "    exit()\n",
        "\n",
        "q131 = one(ibert.gt_groups.filter_by(name=\"Quad_131\"))\n",
        "print(f\"q131 ->-> {gt_group.name} | {gt_group.handle} | {gt_group.type}\")"
      ]
    },
    {
      "cell_type": "markdown",
      "id": "cdf4b6b2",
      "metadata": {},
      "source": [
        "## 9 - Create links between following TXs and RXs\n",
        "- Quad 131 CH0 TX to Quad 131 CH0 RX\n",
        "- Quad 131 CH1 TX to Quad 131 CH1 RX\n",
        "- Quad 131 CH2 TX to Quad 131 CH2 RX\n",
        "- Quad 131 CH3 TX to Quad 131 CH3 RX"
      ]
    },
    {
      "cell_type": "code",
      "execution_count": null,
      "id": "4b53e6aa",
      "metadata": {},
      "outputs": [],
      "source": [
        "links = create_links(\n",
        "    txs=[q131.gts[0].tx, q131.gts[1].tx, q131.gts[2].tx, q131.gts[3].tx],\n",
        "    rxs=[q131.gts[0].rx, q131.gts[1].rx, q131.gts[2].rx, q131.gts[3].rx],\n",
        ")"
      ]
    },
    {
      "cell_type": "markdown",
      "id": "7e2fb4a7",
      "metadata": {},
      "source": [
        "## 10 - Print the valid values for pattern and loopback, set the pattern for the TXs and RXs to \"PRBS 31\" and set loopback to \"Near-End PMA\"\n",
        "\n",
        "In order to lock the internal pattern checker, TX and RX patterns need to match. We also need to have some kind of loopback, internal/external.\n",
        "\n",
        "We are assuming that no external cable loopback is present and hence making use of internal loopback."
      ]
    },
    {
      "cell_type": "code",
      "execution_count": null,
      "id": "458aed1d",
      "metadata": {},
      "outputs": [],
      "source": [
        "for link in links:\n",
        "    print(f\"\\n----- {link.name} -----\")\n",
        "    _, tx_pattern_report = link.tx.property.report(link.tx.property_for_alias[PATTERN]).popitem()\n",
        "    _, rx_pattern_report = link.rx.property.report(link.rx.property_for_alias[PATTERN]).popitem()\n",
        "    _, rx_loopback_report = link.tx.property.report(\n",
        "        link.rx.property_for_alias[RX_LOOPBACK]\n",
        "    ).popitem()\n",
        "\n",
        "    print(f\"--> Valid values for TX pattern - {tx_pattern_report['Valid values']}\")\n",
        "    print(f\"--> Valid values for RX pattern - {rx_pattern_report['Valid values']}\")\n",
        "    print(f\"--> Valid values for RX loopback - {rx_loopback_report['Valid values']}\")\n",
        "\n",
        "    props = {link.tx.property_for_alias[PATTERN]: \"PRBS 31\"}\n",
        "    link.tx.property.set(**props)\n",
        "    link.tx.property.commit(list(props.keys()))\n",
        "\n",
        "    props = {\n",
        "        link.rx.property_for_alias[PATTERN]: \"PRBS 31\",\n",
        "        link.rx.property_for_alias[RX_LOOPBACK]: \"Near-End PMA\",\n",
        "    }\n",
        "    link.rx.property.set(**props)\n",
        "    link.rx.property.commit(list(props.keys()))\n",
        "    print(f\"\\n--> Set both patterns to 'PRBS 31' & loopback to 'Near-End PMA' for {link}\")\n",
        "\n",
        "    print(f\"link.rx.pll.locked = {link.rx.pll.locked} and link.tx.pll.locked = {link.tx.pll.locked}\")\n",
        "\n",
        "    print(f\"link.status= {link.status}\")\n",
        "\n",
        "    link.generate_report()"
      ]
    },
    {
      "cell_type": "markdown",
      "id": "93a9839e",
      "metadata": {},
      "source": [
        "## 11 - Create eye scan objects for all the links, set the scan params and start the scan\n",
        "\n",
        "The eye scans will be run in parallel"
      ]
    },
    {
      "cell_type": "code",
      "execution_count": null,
      "id": "15979c3a",
      "metadata": {},
      "outputs": [],
      "source": [
        "eye_scans = create_eye_scans(target_objs=[link for link in links])\n",
        "for eye_scan in eye_scans:\n",
        "    print (eye_scan.name)"
      ]
    },
    {
      "cell_type": "markdown",
      "id": "0c8895ff",
      "metadata": {},
      "source": [
        "## 12 - Start eye scans for all the links"
      ]
    },
    {
      "cell_type": "code",
      "execution_count": null,
      "id": "94572a1f",
      "metadata": {},
      "outputs": [],
      "source": [
        "for eye_scan in eye_scans:\n",
        "    eye_scan.params[EYE_SCAN_HORZ_STEP].value = 8\n",
        "    eye_scan.params[EYE_SCAN_VERT_STEP].value = 8\n",
        "    eye_scan.params[EYE_SCAN_HORZ_RANGE].value = \"-0.500 UI to 0.500 UI\"\n",
        "    eye_scan.params[EYE_SCAN_VERT_RANGE].value = \"100%\"\n",
        "    eye_scan.params[EYE_SCAN_TARGET_BER].value = 1e-5\n",
        "\n",
        "    eye_scan.start()\n",
        "    print(f\"Started eye scan {eye_scan}\")"
      ]
    },
    {
      "cell_type": "markdown",
      "id": "4f0f21c9",
      "metadata": {},
      "source": [
        "## 13 - Wait for all the eye scans to get done"
      ]
    },
    {
      "cell_type": "code",
      "execution_count": null,
      "id": "224745f9",
      "metadata": {},
      "outputs": [],
      "source": [
        "for eye_scan in eye_scans:\n",
        "    eye_scan.wait_till_done()"
      ]
    },
    {
      "cell_type": "markdown",
      "id": "621e247d",
      "metadata": {},
      "source": [
        "## 14 - View Eye Scan Plot.\n",
        "\n",
        "This requires Plotly to be installed. See how to install it [here](https://xilinx.github.io/chipscopy/2020.2/ibert/scan.html#scan-plots)\n",
        "\n",
        "NOTE - The plot may not display if this notebook is run in Jupyter Lab. For details, see [link](https://plotly.com/python/getting-started/#jupyterlab-support-python-35)"
      ]
    },
    {
      "cell_type": "code",
      "execution_count": null,
      "id": "f6e2eeda",
      "metadata": {},
      "outputs": [],
      "source": [
        "for eye_scan in eye_scans:\n",
        "    eye_scan.generate_report()"
      ]
    },
    {
      "cell_type": "code",
      "execution_count": null,
      "id": "fea3b3e6",
      "metadata": {},
      "outputs": [],
      "source": [
        "for eye_scan in eye_scans:\n",
        "    eye_scan.plot.show()"
      ]
    },
    {
      "cell_type": "code",
      "execution_count": null,
      "id": "acd984ca",
      "metadata": {},
      "outputs": [],
      "source": [
        "for eye_scan in eye_scans:\n",
        "    print(f\"{eye_scan.name} Open Area: {eye_scan.metric_data.open_area}\")"
      ]
    }
  ],
  "metadata": {
    "language_info": {
      "name": "python"
    }
  },
  "nbformat": 4,
  "nbformat_minor": 5
}
