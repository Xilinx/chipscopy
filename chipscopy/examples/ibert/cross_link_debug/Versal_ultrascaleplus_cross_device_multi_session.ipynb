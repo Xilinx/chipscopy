{
  "cells": [
    {
      "cell_type": "markdown",
      "id": "super-hurricane",
      "metadata": {},
      "source": [
        "<link rel=\"preconnect\" href=\"https://fonts.gstatic.com\">\n",
        "<link href=\"https://fonts.googleapis.com/css2?family=Fira+Code&display=swap\" rel=\"stylesheet\">\n",
        "\n",
        "### License\n",
        "\n",
        "<p style=\"font-family: 'Fira Code', monospace; font-size: 1.2rem\">\n",
        "Copyright (C) 2025 Advanced Micro Devices, Inc.<br><br>\n",
        "Licensed under the Apache License, Version 2.0 (the \"License\");<br>\n",
        "you may not use this file except in compliance with the License.<br><br>\n",
        "You may obtain a copy of the License at <a href=\"http://www.apache.org/licenses/LICENSE-2.0\"?>http://www.apache.org/licenses/LICENSE-2.0</a><br><br>\n",
        "Unless required by applicable law or agreed to in writing, software<br>\n",
        "distributed under the License is distributed on an \"AS IS\" BASIS,<br>\n",
        "WITHOUT WARRANTIES OR CONDITIONS OF ANY KIND, either express or implied.<br>\n",
        "See the License for the specific language governing permissions and<br>\n",
        "limitations under the License.<br>\n",
        "</p>\n"
      ]
    },
    {
      "cell_type": "markdown",
      "id": "plastic-offset",
      "metadata": {},
      "source": [
        "# IBERT link and eye scan example between VCK190 (Versal) and VCU128 (US+) boards\n"
      ]
    },
    {
      "cell_type": "markdown",
      "id": "several-frederick",
      "metadata": {},
      "source": [
        "### Description\n",
        "This example shows how to use IBERT (Integrated Bit Error Ratio Tester) debug core service via ChipScoPy APIs to create link between two different boards: Versal (VCK190) and  Ultrascale plus (VCU128). \n",
        "The example shows following capabilities:\n",
        "- Program a design on the two boards\n",
        "- Verify that the expected IBERT quads are instantiated by the design for each of the boards\n",
        "- Create links between the two boards and change link settings to get link lock\n",
        "- Run and plot eye scans for the links\n",
        "\n",
        "### Requirements\n",
        "- VCK190 and VCU128 board\n",
        "- Xilinx hw_server 2025.1 installed and running\n",
        "- Xilinx cs_server 2025.1 installed and running\n",
        "- Python 3.9 or greater installed\n",
        "- ChipScoPy 2025.1 installed\n",
        "- Jupyter notebook support installed - Please do so, using the command pip install chipscopy[jupyter]\n",
        "- Plotting support installed - Please do so, using the command pip install chipscopy[core-addons]\n",
        "\n",
        "### Setup\n",
        "The setup uses hw_server running on two different x86 machines to connect to the two boards over JTAG. A single instance of cs_server running on another host machine communicates with both these hw_servers to provide multi-board support.\n",
        "\n",
        "![setup.jpg](./vcu128-vck190-two-hwserver.jpg)"
      ]
    },
    {
      "cell_type": "markdown",
      "id": "continental-dressing",
      "metadata": {},
      "source": [
        "## 1 - Initialization: Imports and File Paths\n",
        "\n",
        "After this step,\n",
        "- Required functions and classes are imported\n",
        "- Paths to server(s) and files are set correctly"
      ]
    },
    {
      "cell_type": "code",
      "execution_count": null,
      "id": "capital-inside",
      "metadata": {},
      "outputs": [],
      "source": [
        "import os\n",
        "from more_itertools import one\n",
        "from itertools import product\n",
        "\n",
        "from chipscopy import create_session, delete_session, report_versions, report_hierarchy, get_design_files\n",
        "from chipscopy.api.ibert.aliases import (\n",
        "    EYE_SCAN_HORZ_RANGE,\n",
        "    EYE_SCAN_VERT_RANGE,\n",
        "    EYE_SCAN_VERT_STEP,\n",
        "    EYE_SCAN_HORZ_STEP,\n",
        "    EYE_SCAN_TARGET_BER,\n",
        "    PATTERN,\n",
        "    RX_LOOPBACK,\n",
        "    TX_PRE_CURSOR,\n",
        "    TX_POST_CURSOR,\n",
        "    TX_DIFFERENTIAL_SWING,\n",
        "    RX_TERMINATION_VOLTAGE,\n",
        "    RX_COMMON_MODE\n",
        ")\n",
        "from chipscopy.api.ibert import create_eye_scans, create_links, delete_links"
      ]
    },
    {
      "cell_type": "code",
      "execution_count": null,
      "id": "blessed-incentive",
      "metadata": {},
      "outputs": [],
      "source": [
        "# Make sure to start the hw_server and cs_server prior to running.\n",
        "# Specify locations of the running hw_server and cs_server below.\n",
        "# The default is localhost - but can be other locations on the network.\n",
        "CS_URL = os.getenv(\"CS_SERVER_URL\", \"TCP:localhost:3042\")\n",
        "# hw_server connected to board_1 (vck190)\n",
        "HW_URL_1 = os.getenv(\"HW_SERVER_URL\", \"TCP:localhost:3121\")\n",
        "\n",
        "print(f\"HW_URL for VCK190: {HW_URL_1}\")\n",
        "\n",
        "# specify hw and if programming is desired\n",
        "HW_PLATFORM_1 = os.getenv(\"HW_PLATFORM_1\", \"vck190\")\n",
        "PROG_DEVICE_1 = os.getenv(\"PROG_DEVICE_1\", True)\n",
        "\n",
        "# The get_design_files() function tries to find the PDI and LTX files. In non-standard\n",
        "# configurations, you can put the path for PROGRAMMING_FILE and PROBES_FILE below.\n",
        "design_files = get_design_files(f\"{HW_PLATFORM_1}/production/cross_link_debug\")\n",
        "PDI_FILE_1 = design_files.programming_file\n",
        "\n",
        "print(f\"PROGRAMMING_FILE: {PDI_FILE_1}\")"
      ]
    },
    {
      "cell_type": "code",
      "execution_count": null,
      "id": "3154394e-a836-43e8-9166-655c14e1119f",
      "metadata": {},
      "outputs": [],
      "source": [
        "# hw_server connected to board_2 (vcu128)\n",
        "HW_URL_2 = os.getenv(\"HW_SERVER_URL\", \"TCP:localhost:3121\")\n",
        "\n",
        "print(f\"HW_URL for VCU128: {HW_URL_2}\")\n",
        "\n",
        "# specify hw and if programming is desired\n",
        "HW_PLATFORM_2 = os.getenv(\"HW_PLATFORM_2\", \"vcu128\")\n",
        "PROG_DEVICE_2 = os.getenv(\"PROG_DEVICE_2\", True)\n",
        "\n",
        "# The get_design_files() function tries to find the PDI and LTX files. In non-standard\n",
        "# configurations, you can put the path for PROGRAMMING_FILE and PROBES_FILE below.\n",
        "design_files = get_design_files(f\"{HW_PLATFORM_2}/example_design\")\n",
        "\n",
        "BIT_FILE_2 = design_files.programming_file\n",
        "print(BIT_FILE_2)"
      ]
    },
    {
      "cell_type": "markdown",
      "id": "collect-world",
      "metadata": {},
      "source": [
        "## 2 - Create a session and connect to the hw_server and cs_server\n",
        "\n",
        "The session is a container that keeps track of devices and debug cores.\n",
        "After this step,\n",
        "- Session is initialized and connected to server(s)\n",
        "- Versions are detected and reported to stdout"
      ]
    },
    {
      "cell_type": "code",
      "execution_count": null,
      "id": "asian-illness",
      "metadata": {},
      "outputs": [],
      "source": [
        "session_1 = create_session(cs_server_url=CS_URL, hw_server_url=HW_URL_1)\n",
        "report_versions(session_1)"
      ]
    },
    {
      "cell_type": "markdown",
      "id": "aae7f8e7-0d08-4975-8f20-a202c1b748c9",
      "metadata": {},
      "source": [
        "## 3 - Program the device with the example design\n",
        "\n",
        "After this step,\n",
        "- Device is programmed with the example programming file"
      ]
    },
    {
      "cell_type": "code",
      "execution_count": null,
      "id": "9b56113e-24be-4ed9-87f0-384c9bcc8526",
      "metadata": {},
      "outputs": [],
      "source": [
        "# Typical case - one device on the board - get it.\n",
        "device_1 = session_1.devices.filter_by(family=\"versal\").get()\n",
        "if PROG_DEVICE_1:\n",
        "    device_1.program(PDI_FILE_1)\n",
        "else:\n",
        "    print(\"skipping programming\")\n",
        "print(device_1)"
      ]
    },
    {
      "cell_type": "markdown",
      "id": "b57e39d2-1b7a-42a2-8bdb-6a2e0ecd32cd",
      "metadata": {},
      "source": [
        "## 4 - Discover and setup the IBERT core\n",
        "\n",
        "Debug core discovery initializes the chipscope server debug cores.\n",
        "\n",
        "After this step,\n",
        "\n",
        "- The cs_server is initialized and ready for use\n",
        "- The first ibert found is used"
      ]
    },
    {
      "cell_type": "code",
      "execution_count": null,
      "id": "ce25bbe4-7bc7-45e0-ab16-55d325c2dd57",
      "metadata": {},
      "outputs": [],
      "source": [
        "device_1.discover_and_setup_cores(ibert_scan=True)\n",
        "print(\"--> Debug core discovery done for board 1\")\n",
        "\n",
        "if len(device_1.ibert_cores) == 0:\n",
        "    print(\"No IBERT core found with board 1! Exiting...\")\n",
        "    exit()\n",
        "\n",
        "# Use the first available IBERT core from the device\n",
        "ibert_0 = device_1.ibert_cores.at(index=0)\n",
        "\n",
        "if len(ibert_0.gt_groups) == 0:\n",
        "    print(\"No GT Groups available for use! Exiting...\")\n",
        "    exit()\n",
        "\n",
        "print(f\"GT Groups available with Board 1 - {[gt_group_obj.name for gt_group_obj in ibert_0.gt_groups]}\")"
      ]
    },
    {
      "cell_type": "markdown",
      "id": "5ffe4617-bdcb-42f5-8c8c-05186c084510",
      "metadata": {},
      "source": [
        "## 5 - Create a session and connect to the hw_server and cs_server\n",
        "\n",
        "The session is a container that keeps track of devices and debug cores.\n",
        "After this step,\n",
        "- Session is initialized and connected to server(s)\n",
        "- Versions are detected and reported to stdout"
      ]
    },
    {
      "cell_type": "code",
      "execution_count": null,
      "id": "926ec956-6b68-4fad-bfbd-5b188d4bbbdc",
      "metadata": {},
      "outputs": [],
      "source": [
        "session_2 = create_session(cs_server_url=CS_URL, hw_server_url=HW_URL_2)\n",
        "session = session_2\n",
        "report_versions(session_2)"
      ]
    },
    {
      "cell_type": "markdown",
      "id": "freelance-business",
      "metadata": {},
      "source": [
        "## 6 - Program the device with the example design\n",
        "\n",
        "After this step,\n",
        "- Device is programmed with the example programming file"
      ]
    },
    {
      "cell_type": "code",
      "execution_count": null,
      "id": "2ee68fd7",
      "metadata": {},
      "outputs": [],
      "source": [
        "# Typical case - one device on the board - get it.\n",
        "device_2 = session_2.devices.filter_by(family=\"virtexuplus\").get()\n",
        "if PROG_DEVICE_2:\n",
        "    device_2.program(BIT_FILE_2)\n",
        "else:\n",
        "    print(\"skipping programming\")\n",
        "print(device_2)"
      ]
    },
    {
      "cell_type": "markdown",
      "id": "innovative-paint",
      "metadata": {},
      "source": [
        "## 7 - Discover and setup the IBERT core\n",
        "\n",
        "Debug core discovery initializes the chipscope server debug cores.\n",
        "\n",
        "After this step,\n",
        "\n",
        "- The cs_server is initialized and ready for use\n",
        "- The first ibert found is used"
      ]
    },
    {
      "cell_type": "code",
      "execution_count": null,
      "id": "719da507",
      "metadata": {},
      "outputs": [],
      "source": [
        "device_2.discover_and_setup_cores(ibert_scan=True)\n",
        "print(\"--> Debug core discovery done for board 2\")\n",
        "\n",
        "if len(device_2.ibert_cores) == 0:\n",
        "    print(\"No IBERT core found with board 1! Exiting...\")\n",
        "    exit()\n",
        "\n",
        "# Use the first available IBERT core from the device\n",
        "ibert_2 = device_2.ibert_cores.at(index=1)\n",
        "\n",
        "if len(ibert_2.gt_groups) == 0:\n",
        "    print(\"No GT Groups available for use! Exiting...\")\n",
        "    exit()\n",
        "\n",
        "print(f\"GT Groups available with Board 1 - {[gt_group_obj.name for gt_group_obj in ibert_2.gt_groups]}\")"
      ]
    },
    {
      "cell_type": "markdown",
      "id": "bronze-consortium",
      "metadata": {},
      "source": [
        "## 8 - Print the hierarchy of the IBERT core\n",
        "\n",
        "We also ensure that all the quads instantiated by the ChipScoPy CED design are found by the APIs"
      ]
    },
    {
      "cell_type": "code",
      "execution_count": null,
      "id": "restricted-classics",
      "metadata": {},
      "outputs": [],
      "source": [
        "report_hierarchy(ibert_0)\n",
        "\n",
        "q200_1 = one(ibert_0.gt_groups.filter_by(name=\"Quad_200\"))"
      ]
    },
    {
      "cell_type": "code",
      "execution_count": null,
      "id": "cea8817c",
      "metadata": {},
      "outputs": [],
      "source": [
        "report_hierarchy(ibert_2)\n",
        "\n",
        "q134_2 = one(ibert_2.gt_groups.filter_by(name=\"Quad_134\"))"
      ]
    },
    {
      "cell_type": "markdown",
      "id": "spanish-manhattan",
      "metadata": {},
      "source": [
        "## 9 - Create links between following TXs and RXs\n",
        "- Quad 200 CH0 TX of VCK190 (versal) board to Quad 200 CH0 RX of VCK190 (versal)\n",
        "- Quad 134 CH0 TX of VCU128 (US+) board to Quad 134 CH0 RX of VCU128 (US+) board\n",
        "\n",
        "![internal-loopback.png](./internal_loopback.png)"
      ]
    },
    {
      "cell_type": "code",
      "execution_count": null,
      "id": "fae2604a-bee4-4bd0-8853-3d2bcb6ec95d",
      "metadata": {},
      "outputs": [],
      "source": [
        "internal_loopback_board1_board2_CH0_links = create_links(\n",
        "    txs=[q200_1.gts[0].tx, q134_2.gts[0].tx],\n",
        "    rxs=[q200_1.gts[0].rx, q134_2.gts[0].rx],\n",
        " )\n",
        "\n",
        "print(\"--> Done creating links for testing intrnal loopback for Versal and US+ GTY\")"
      ]
    },
    {
      "cell_type": "markdown",
      "id": "436e7d66-7fb2-49ec-94ff-e355f9ad8719",
      "metadata": {},
      "source": [
        "## 10 - Print the valid values for pattern and loopback, set the pattern for the TXs and RXs to \"PRBS 31\" and set loopback to \"Near-End PMA\"\n",
        "\n",
        "In order to lock the internal pattern checker, TX and RX patterns need to match.\n"
      ]
    },
    {
      "cell_type": "code",
      "execution_count": null,
      "id": "e23a94de-654e-427d-a7ff-012eae422810",
      "metadata": {},
      "outputs": [],
      "source": [
        "for link in internal_loopback_board1_board2_CH0_links:\n",
        "    print(f\"\\n----- {link.name} -----\")\n",
        "\n",
        "    props = {link.tx.property_for_alias[PATTERN]: \"PRBS 31\"}\n",
        "    link.tx.property.set(**props)\n",
        "    link.tx.property.commit(list(props.keys()))\n",
        "\n",
        "    props = {\n",
        "        link.rx.property_for_alias[PATTERN]: \"PRBS 31\",\n",
        "        link.rx.property_for_alias[RX_LOOPBACK]: \"Near-End PMA\",\n",
        "    }\n",
        "    link.rx.property.set(**props)\n",
        "    link.rx.property.commit(list(props.keys()))\n",
        "    print(f\"\\n--> Set both patterns to 'PRBS 31' & loopback to 'Near-End PMA' for {link}\")\n",
        "\n",
        "    print(f\"link.rx.pll.locked = {link.rx.pll.locked} and link.tx.pll.locked = {link.tx.pll.locked}\")\n",
        "\n",
        "    link.tx.reset()\n",
        "    link.rx.reset()\n",
        "    link.rx.reset_ber()\n",
        "\n",
        "    print(f\"link.status= {link.status}\")"
      ]
    },
    {
      "cell_type": "markdown",
      "id": "18858b09-7715-4a7b-a75a-02b28a3e7b28",
      "metadata": {},
      "source": [
        "## 11 - Create eye scan objects for all the links, set the scan params and start the scan\n",
        "\n",
        "The eye scans will be run in parallel"
      ]
    },
    {
      "cell_type": "code",
      "execution_count": null,
      "id": "3336f85d-fc58-4fe1-bc9f-d6df03f0e7c6",
      "metadata": {},
      "outputs": [],
      "source": [
        "eye_scans = create_eye_scans(target_objs=[link for link in internal_loopback_board1_board2_CH0_links])\n",
        "for eye_scan in eye_scans:\n",
        "    eye_scan.params[EYE_SCAN_HORZ_STEP].value = 10\n",
        "    eye_scan.params[EYE_SCAN_VERT_STEP].value = 10\n",
        "    eye_scan.params[EYE_SCAN_HORZ_RANGE].value = \"-0.500 UI to 0.500 UI\"\n",
        "    eye_scan.params[EYE_SCAN_VERT_RANGE].value = \"100%\"\n",
        "    eye_scan.params[EYE_SCAN_TARGET_BER].value = 1e-5\n",
        "\n",
        "    eye_scan.start()\n",
        "    print(f\"Started eye scan {eye_scan}\")"
      ]
    },
    {
      "cell_type": "markdown",
      "id": "de1bf38b-4ea1-4824-a4ab-f0e89984d909",
      "metadata": {},
      "source": [
        "## 12 - Wait for all the eye scans to get done"
      ]
    },
    {
      "cell_type": "code",
      "execution_count": null,
      "id": "9cd6ae40-f41b-41c4-8fa2-180977fc2f48",
      "metadata": {},
      "outputs": [],
      "source": [
        "eye_scans[0].wait_till_done()\n",
        "eye_scans[1].wait_till_done()"
      ]
    },
    {
      "cell_type": "markdown",
      "id": "5be3c9a1-f49f-460c-8023-57a18ae9cad5",
      "metadata": {},
      "source": [
        "## 13 - Show Eye Scan report and Eye Scan data"
      ]
    },
    {
      "cell_type": "code",
      "execution_count": null,
      "id": "566bcd27-a8aa-4095-89a7-e7bb43730750",
      "metadata": {},
      "outputs": [],
      "source": [
        "for eye_scan in eye_scans:\n",
        "    eye_scan.generate_report()\n",
        "    print(eye_scan.scan_data.processed)"
      ]
    },
    {
      "cell_type": "markdown",
      "id": "7f9b7dd2-c779-4ba5-b27e-5c006ffcb60a",
      "metadata": {},
      "source": [
        "## 14 - View Eye Scan Plot.\n",
        "\n",
        "This requires Plotly to be installed. See how to install it [here](https://xilinx.github.io/chipscopy/2020.2/ibert/scan.html#scan-plots)\n",
        "\n",
        "NOTE - The plot may not display if this notebook is run in Jupyter Lab. For details, see [link](https://plotly.com/python/getting-started/#jupyterlab-support-python-35)"
      ]
    },
    {
      "cell_type": "code",
      "execution_count": null,
      "id": "3cc76806-8e71-4612-b519-031612a098b7",
      "metadata": {},
      "outputs": [],
      "source": [
        "for eye_scan in eye_scans:\n",
        "    eye_scan.plot.show()"
      ]
    },
    {
      "cell_type": "markdown",
      "id": "4d8c8a0a-fb5e-4f34-b6f7-a7715572f7fe",
      "metadata": {},
      "source": [
        "## 15 - Get Eye Metric Data"
      ]
    },
    {
      "cell_type": "code",
      "execution_count": null,
      "id": "34aa22c0-d423-40b8-911e-f91898cdcdfb",
      "metadata": {},
      "outputs": [],
      "source": [
        "for eye_scan in eye_scans:\n",
        "    print(f\"{eye_scan.name} Open Area:                                      {eye_scan.metric_data.open_area}\")\n",
        "    print(f\"{eye_scan.name} Percentage Open Area:                           {eye_scan.metric_data.open_percentage}\")\n",
        "    print(f\"{eye_scan.name} Eye width at zero crossing:                     {eye_scan.metric_data.horizontal_opening}\")\n",
        "    print(f\"{eye_scan.name} Percentage horizontal opening at zero crossing: {eye_scan.metric_data.horizontal_percentage}\")\n",
        "    print(f\"{eye_scan.name} Eye height at zero crossing:                    {eye_scan.metric_data.vertical_opening}\")\n",
        "    print(f\"{eye_scan.name} Percentage vertical opening at zero crossing:   {eye_scan.metric_data.vertical_percentage}\")"
      ]
    },
    {
      "cell_type": "markdown",
      "id": "a874fef1-5f23-426e-902b-31988f8ce045",
      "metadata": {},
      "source": [
        "## 16 - Delete the links"
      ]
    },
    {
      "cell_type": "code",
      "execution_count": null,
      "id": "f1ae97db-6c82-4bcc-ac6d-914308a6f8e0",
      "metadata": {},
      "outputs": [],
      "source": [
        "delete_links(internal_loopback_board1_board2_CH0_links)"
      ]
    },
    {
      "cell_type": "markdown",
      "id": "96cc0ce8-07d8-49a3-a354-c45c6c3909c4",
      "metadata": {},
      "source": [
        "## 17 - Create links between following TXs and RXs\n",
        "- Quad 200 CH0 TX of VCK190 (versal) board to Quad 134 CH0 RX of VCU128 (US+) board\n",
        "- Quad 134 CH0 TX of VCU128 (US+) board to Quad 200 CH0 RX of VCK190 (versal) board\n",
        "\n",
        "![cross_link-loopback.png](./cross_link.png)"
      ]
    },
    {
      "cell_type": "code",
      "execution_count": null,
      "id": "2291bb9b-c3f1-47d8-b08e-8322fa3f8bdf",
      "metadata": {},
      "outputs": [],
      "source": [
        "board1_board2_CH0_cross_links = create_links(\n",
        "    txs=[q200_1.gts[0].tx, q134_2.gts[0].tx],\n",
        "    rxs=[q134_2.gts[0].rx, q200_1.gts[0].rx],\n",
        " )\n",
        "\n",
        "print(\"--> Done creating links between Versal GTY CH0 and US+ GTY CH0\")"
      ]
    },
    {
      "cell_type": "markdown",
      "id": "2a2928df-cb23-4396-a4de-5d1737133260",
      "metadata": {},
      "source": [
        "## 18 - Print the valid values for pattern and loopback, set the pattern for the TXs and RXs to \"PRBS 31\" and set loopback to \"None\"\n",
        "\n",
        "In order to lock the internal pattern checker, TX and RX patterns need to match."
      ]
    },
    {
      "cell_type": "code",
      "execution_count": null,
      "id": "7631ee01-56a5-4ca2-af80-88867c7b8a4d",
      "metadata": {},
      "outputs": [],
      "source": [
        "for link in board1_board2_CH0_cross_links:\n",
        "    print(f\"\\n----- {link.name} -----\")\n",
        "\n",
        "    props = {link.tx.property_for_alias[PATTERN]: \"PRBS 31\"}\n",
        "    link.tx.property.set(**props)\n",
        "    link.tx.property.commit(list(props.keys()))\n",
        "\n",
        "    props = {\n",
        "        link.rx.property_for_alias[PATTERN]: \"PRBS 31\",\n",
        "        link.rx.property_for_alias[RX_LOOPBACK]: \"None\",\n",
        "    }\n",
        "    link.rx.property.set(**props)\n",
        "    link.rx.property.commit(list(props.keys()))\n",
        "    print(f\"\\n--> Set both patterns to 'PRBS 31' & loopback to 'None' for {link}\")\n",
        "\n",
        "    print(f\"link.rx.pll.locked = {link.rx.pll.locked} and link.tx.pll.locked = {link.tx.pll.locked}\")\n",
        "\n",
        "    link.tx.reset()\n",
        "    link.rx.reset()\n",
        "    link.rx.reset_ber()\n",
        "\n",
        "    print(f\"link.status= {link.status}\")"
      ]
    },
    {
      "cell_type": "markdown",
      "id": "ffcb6aa5-e044-43d4-b180-1f6df58164d7",
      "metadata": {},
      "source": [
        "## 19 - Create eye scan objects for all the links, set the scan params and start the scan\n",
        "\n",
        "The eye scans will be run in parallel"
      ]
    },
    {
      "cell_type": "code",
      "execution_count": null,
      "id": "20e70712-54a7-4fcb-9d7d-cd2d12ec2fa4",
      "metadata": {},
      "outputs": [],
      "source": [
        "eye_scans = create_eye_scans(target_objs=[link for link in board1_board2_CH0_cross_links])\n",
        "for eye_scan in eye_scans:\n",
        "    eye_scan.params[EYE_SCAN_HORZ_STEP].value = 10\n",
        "    eye_scan.params[EYE_SCAN_VERT_STEP].value = 10\n",
        "    eye_scan.params[EYE_SCAN_HORZ_RANGE].value = \"-0.500 UI to 0.500 UI\"\n",
        "    eye_scan.params[EYE_SCAN_VERT_RANGE].value = \"100%\"\n",
        "    eye_scan.params[EYE_SCAN_TARGET_BER].value = 1e-5\n",
        "\n",
        "    eye_scan.start()\n",
        "    print(f\"Started eye scan {eye_scan}\")"
      ]
    },
    {
      "cell_type": "markdown",
      "id": "3b1148ac-a394-48ce-beb9-187f55a835aa",
      "metadata": {},
      "source": [
        "## 20 - Wait for all the eye scans to get done"
      ]
    },
    {
      "cell_type": "code",
      "execution_count": null,
      "id": "fd2d3144-70a4-4dd3-b95c-00682fba9bc3",
      "metadata": {},
      "outputs": [],
      "source": [
        "eye_scans[0].wait_till_done()\n",
        "eye_scans[1].wait_till_done()"
      ]
    },
    {
      "cell_type": "markdown",
      "id": "13fb291b-3359-495a-a2eb-023014fe215a",
      "metadata": {},
      "source": [
        "## 21 - Show Eye Scan report and Eye Scan data"
      ]
    },
    {
      "cell_type": "code",
      "execution_count": null,
      "id": "04a876f3-4a96-400a-8783-fa157536804e",
      "metadata": {},
      "outputs": [],
      "source": [
        "for eye_scan in eye_scans:\n",
        "    eye_scan.generate_report()\n",
        "    print(eye_scan.scan_data.processed)"
      ]
    },
    {
      "cell_type": "markdown",
      "id": "c981a5b2-15e2-42ad-a3f0-81ffaa2f7386",
      "metadata": {},
      "source": [
        "## 22 - View Eye Scan Plot.\n",
        "\n",
        "This requires Plotly to be installed. See how to install it [here](https://xilinx.github.io/chipscopy/2020.2/ibert/scan.html#scan-plots)\n",
        "\n",
        "NOTE - The plot may not display if this notebook is run in Jupyter Lab. For details, see [link](https://plotly.com/python/getting-started/#jupyterlab-support-python-35)"
      ]
    },
    {
      "cell_type": "code",
      "execution_count": null,
      "id": "1d7c40ea-6eb3-4bb4-a9b8-7647b17db913",
      "metadata": {},
      "outputs": [],
      "source": [
        "for eye_scan in eye_scans:\n",
        "    eye_scan.plot.show()"
      ]
    },
    {
      "cell_type": "markdown",
      "id": "ca0aca2d-49a1-457b-a3cb-faa619437218",
      "metadata": {},
      "source": [
        "## 23 - Get Eye Metric Data"
      ]
    },
    {
      "cell_type": "code",
      "execution_count": null,
      "id": "fa695e1f-2401-4398-bbd5-e3ddd21e3d94",
      "metadata": {},
      "outputs": [],
      "source": [
        "for eye_scan in eye_scans:\n",
        "    print(f\"{eye_scan.name} Open Area:                                      {eye_scan.metric_data.open_area}\")\n",
        "    print(f\"{eye_scan.name} Percentage Open Area:                           {eye_scan.metric_data.open_percentage}\")\n",
        "    print(f\"{eye_scan.name} Eye width at zero crossing:                     {eye_scan.metric_data.horizontal_opening}\")\n",
        "    print(f\"{eye_scan.name} Percentage horizontal opening at zero crossing: {eye_scan.metric_data.horizontal_percentage}\")\n",
        "    print(f\"{eye_scan.name} Eye height at zero crossing:                    {eye_scan.metric_data.vertical_opening}\")\n",
        "    print(f\"{eye_scan.name} Percentage vertical opening at zero crossing:   {eye_scan.metric_data.vertical_percentage}\")"
      ]
    },
    {
      "cell_type": "markdown",
      "id": "179b2e4d-2280-45ae-a77d-49823f9cd52c",
      "metadata": {},
      "source": [
        "## 24 - Delete the links"
      ]
    },
    {
      "cell_type": "code",
      "execution_count": null,
      "id": "be1b1052-342c-4e77-9752-4cccba31351e",
      "metadata": {},
      "outputs": [],
      "source": [
        "delete_links(board1_board2_CH0_cross_links)"
      ]
    },
    {
      "cell_type": "markdown",
      "id": "f1cc30f4-e9ad-465c-b6d0-b031fbd6d467",
      "metadata": {},
      "source": [
        "## 25 - Create links between following TXs and RXs\n",
        "- Quad 200 CH0 TX of VCK190 (versal) board to Quad 134 CH0 RX of VCU128 (US+) board\n",
        "- Quad 200 CH1 TX of VCK190 (versal) board to Quad 134 CH1 RX of VCU128 (US+) board\n",
        "- Quad 200 CH2 TX of VCK190 (versal) board to Quad 134 CH2 RX of VCU128 (US+) board\n",
        "- Quad 200 CH3 TX of VCK190 (versal) board to Quad 134 CH3 RX of VCU128 (US+) board\n",
        "- Quad 134 CH0 TX of VCU128 (US+) board to Quad 200 CH0 RX of VCK190 (versal) board\n",
        "- Quad 134 CH1 TX of VCU128 (US+) board to Quad 200 CH1 RX of VCK190 (versal) board\n",
        "- Quad 134 CH2 TX of VCU128 (US+) board to Quad 200 CH2 RX of VCK190 (versal) board\n",
        "- Quad 134 CH3 TX of VCU128 (US+) board to Quad 200 CH3 RX of VCK190 (versal) board\n",
        "\n",
        "![cross_link_all.png](./cross_link_all.png)"
      ]
    },
    {
      "cell_type": "code",
      "execution_count": null,
      "id": "confident-inspection",
      "metadata": {},
      "outputs": [],
      "source": [
        "links_board1_tx_board2_rx = create_links(\n",
        "    txs=[q200_1.gts[0].tx, q200_1.gts[1].tx, q200_1.gts[2].tx, q200_1.gts[3].tx, q134_2.gts[0].tx, q134_2.gts[1].tx, q134_2.gts[2].tx, q134_2.gts[3].tx],\n",
        "    rxs=[q134_2.gts[0].rx, q134_2.gts[1].rx, q134_2.gts[2].rx, q134_2.gts[3].rx, q200_1.gts[0].rx, q200_1.gts[1].rx, q200_1.gts[2].rx, q200_1.gts[3].rx],\n",
        " )\n",
        "\n",
        "print(\"--> Done creating links between board 1 tx and board 2 rx\")"
      ]
    },
    {
      "cell_type": "markdown",
      "id": "angry-spare",
      "metadata": {},
      "source": [
        "## 26 - Print the valid values for pattern and loopback, set the pattern for the TXs and RXs to \"PRBS 31\" and set loopback to \"None\"\n",
        "\n",
        "In order to lock the internal pattern checker, TX and RX patterns need to match. "
      ]
    },
    {
      "cell_type": "code",
      "execution_count": null,
      "id": "hindu-standard",
      "metadata": {},
      "outputs": [],
      "source": [
        "for link in links_board1_tx_board2_rx:\n",
        "    print(f\"\\n----- {link.name} -----\")\n",
        "\n",
        "    props = {link.tx.property_for_alias[PATTERN]: \"PRBS 31\"}\n",
        "    link.tx.property.set(**props)\n",
        "    link.tx.property.commit(list(props.keys()))\n",
        "\n",
        "    props = {\n",
        "        link.rx.property_for_alias[PATTERN]: \"PRBS 31\",\n",
        "        link.rx.property_for_alias[RX_LOOPBACK]: \"None\",\n",
        "    }\n",
        "    link.rx.property.set(**props)\n",
        "    link.rx.property.commit(list(props.keys()))\n",
        "    print(f\"\\n--> Set both patterns to 'PRBS 31' & loopback to 'None' for {link}\")\n",
        "\n",
        "    print(f\"link.rx.pll.locked = {link.rx.pll.locked} and link.tx.pll.locked = {link.tx.pll.locked}\")\n",
        "\n",
        "    link.tx.reset()\n",
        "    link.rx.reset()\n",
        "    link.rx.reset_ber()\n",
        "\n",
        "    print(f\"link.status= {link.status}\")"
      ]
    },
    {
      "cell_type": "markdown",
      "id": "23f5b7db",
      "metadata": {},
      "source": [
        "## 27 - Create eye scan objects for all the links, set the scan params and start the scan\n",
        "\n",
        "The eye scans will be run in parallel"
      ]
    },
    {
      "cell_type": "code",
      "execution_count": null,
      "id": "a593e4a9",
      "metadata": {},
      "outputs": [],
      "source": [
        "eye_scans = create_eye_scans(target_objs=[link for link in links_board1_tx_board2_rx])\n",
        "for eye_scan in eye_scans:\n",
        "    eye_scan.params[EYE_SCAN_HORZ_STEP].value = 10\n",
        "    eye_scan.params[EYE_SCAN_VERT_STEP].value = 10\n",
        "    eye_scan.params[EYE_SCAN_HORZ_RANGE].value = \"-0.500 UI to 0.500 UI\"\n",
        "    eye_scan.params[EYE_SCAN_VERT_RANGE].value = \"100%\"\n",
        "    eye_scan.params[EYE_SCAN_TARGET_BER].value = 1e-5\n",
        "\n",
        "    eye_scan.start()\n",
        "    print(f\"Started eye scan {eye_scan}\")"
      ]
    },
    {
      "cell_type": "markdown",
      "id": "aa0a1b6d",
      "metadata": {},
      "source": [
        "## 28 - Wait for all the eye scans to get done"
      ]
    },
    {
      "cell_type": "code",
      "execution_count": null,
      "id": "8ddc26d4",
      "metadata": {},
      "outputs": [],
      "source": [
        "eye_scans[0].wait_till_done()\n",
        "eye_scans[1].wait_till_done()\n",
        "eye_scans[2].wait_till_done()\n",
        "eye_scans[3].wait_till_done()\n",
        "eye_scans[4].wait_till_done()\n",
        "eye_scans[5].wait_till_done()\n",
        "eye_scans[6].wait_till_done()\n",
        "eye_scans[7].wait_till_done()"
      ]
    },
    {
      "cell_type": "markdown",
      "id": "d3bc3a4b-a5d0-4d05-9386-5d4fd74a1de5",
      "metadata": {},
      "source": [
        "## 29 - Get Eye Scan report and raw data"
      ]
    },
    {
      "cell_type": "code",
      "execution_count": null,
      "id": "6f357246-12ac-49f1-b7a3-5b3db547b100",
      "metadata": {},
      "outputs": [],
      "source": [
        "for eye_scan in eye_scans:\n",
        "    eye_scan.generate_report()\n",
        "    print(eye_scan.scan_data.processed)"
      ]
    },
    {
      "cell_type": "markdown",
      "id": "5029ecd1",
      "metadata": {},
      "source": [
        "## 30 - View Eye Scan Plot.\n",
        "\n",
        "This requires Plotly to be installed. See how to install it [here](https://xilinx.github.io/chipscopy/2020.2/ibert/scan.html#scan-plots)\n",
        "\n",
        "NOTE - The plot may not display if this notebook is run in Jupyter Lab. For details, see [link](https://plotly.com/python/getting-started/#jupyterlab-support-python-35)"
      ]
    },
    {
      "cell_type": "code",
      "execution_count": null,
      "id": "9c611e72",
      "metadata": {},
      "outputs": [],
      "source": [
        "for eye_scan in eye_scans:\n",
        "    eye_scan.plot.show()"
      ]
    },
    {
      "cell_type": "markdown",
      "id": "d69ae6f9-965b-442a-aa13-8ad1cf7036b4",
      "metadata": {},
      "source": [
        "## 31 - Get Eye Metric Data"
      ]
    },
    {
      "cell_type": "code",
      "execution_count": null,
      "id": "61843440-b903-43c1-ae0e-66c30359d855",
      "metadata": {},
      "outputs": [],
      "source": [
        "for eye_scan in eye_scans:\n",
        "    print(f\"{eye_scan.name} Open Area:                                      {eye_scan.metric_data.open_area}\")\n",
        "    print(f\"{eye_scan.name} Percentage Open Area:                           {eye_scan.metric_data.open_percentage}\")\n",
        "    print(f\"{eye_scan.name} Eye width at zero crossing:                     {eye_scan.metric_data.horizontal_opening}\")\n",
        "    print(f\"{eye_scan.name} Percentage horizontal opening at zero crossing: {eye_scan.metric_data.horizontal_percentage}\")\n",
        "    print(f\"{eye_scan.name} Eye height at zero crossing:                    {eye_scan.metric_data.vertical_opening}\")\n",
        "    print(f\"{eye_scan.name} Percentage vertical opening at zero crossing:   {eye_scan.metric_data.vertical_percentage}\")"
      ]
    },
    {
      "cell_type": "markdown",
      "id": "ef350536-8ad9-4114-a219-636b862bab88",
      "metadata": {},
      "source": [
        "## 32 - Delete the links"
      ]
    },
    {
      "cell_type": "code",
      "execution_count": null,
      "id": "23cb0c08-c95f-4b16-af86-f04873f5d130",
      "metadata": {},
      "outputs": [],
      "source": [
        "delete_links(links_board1_tx_board2_rx)"
      ]
    },
    {
      "cell_type": "markdown",
      "id": "94c55bca-8446-4ceb-91a5-51ce98144f58",
      "metadata": {},
      "source": [
        "## 33 - Delete session"
      ]
    },
    {
      "cell_type": "code",
      "execution_count": null,
      "id": "57072f10-a079-448b-b8d0-eb8d6aa0515a",
      "metadata": {},
      "outputs": [],
      "source": [
        "delete_session(session)"
      ]
    }
  ],
  "metadata": {
    "language_info": {
      "name": "python"
    }
  },
  "nbformat": 4,
  "nbformat_minor": 5
}
