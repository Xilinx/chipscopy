{
 "cells": [
  {
   "cell_type": "code",
   "execution_count": null,
   "metadata": {},
   "outputs": [],
   "source": [
    "# Copyright 2021 Xilinx, Inc.\n",
    "#\n",
    "# Licensed under the Apache License, Version 2.0 (the \"License\");\n",
    "# you may not use this file except in compliance with the License.\n",
    "# You may obtain a copy of the License at\n",
    "#\n",
    "#     http://www.apache.org/licenses/LICENSE-2.0\n",
    "#\n",
    "# Unless required by applicable law or agreed to in writing, software\n",
    "# distributed under the License is distributed on an \"AS IS\" BASIS,\n",
    "# WITHOUT WARRANTIES OR CONDITIONS OF ANY KIND, either express or implied.\n",
    "# See the License for the specific language governing permissions and\n",
    "# limitations under the License."
   ]
  },
  {
   "cell_type": "markdown",
   "metadata": {},
   "source": [
    "IBERT link example\n",
    "=================="
   ]
  },
  {
   "cell_type": "markdown",
   "metadata": {},
   "source": [
    "Description\n",
    "-----------\n",
    "This demo shows how to do four things:\n",
    "1. Connect to a Versal target device via ChipScope Server (cs_server) and Hardware Server (hw_server)\n",
    "2. Program a Versal target device using a design PDI file\n",
    "3. Create single and multiple links\n",
    "4. Do a simple loopback test for the links\n",
    "\n",
    "Requirements\n",
    "------------\n",
    "The following is required to run this demo:\n",
    "1. Local or remote access to a Versal device\n",
    "2. 2020.2 cs_server and hw_server applications\n",
    "3. Python 3.7 environment\n",
    "4. ChipScoPy pip installed\n",
    "5. Jupyter notebook support installed - Please do so, using the command `pip install chipscopy[jupyter]`"
   ]
  },
  {
   "cell_type": "markdown",
   "metadata": {},
   "source": [
    "## Step 1 - Setup the environment"
   ]
  },
  {
   "cell_type": "code",
   "execution_count": null,
   "metadata": {
    "pycharm": {
     "name": "#%%\n"
    }
   },
   "outputs": [],
   "source": [
    "from pathlib import Path\n",
    "from more_itertools import one\n",
    "\n",
    "from chipscopy import create_session, report_versions\n",
    "from chipscopy.api.ibert import create_links, get_all_links, create_link_groups, create_eye_scans\n",
    "from chipscopy.api.ibert.aliases import (\n",
    "    PATTERN,\n",
    "    RX_LOOPBACK,\n",
    "    EYE_SCAN_HORZ_RANGE,\n",
    "    EYE_SCAN_VERT_RANGE,\n",
    "    EYE_SCAN_VERT_STEP,\n",
    "    EYE_SCAN_HORZ_STEP,\n",
    "    EYE_SCAN_TARGET_BER,\n",
    ")\n",
    "from chipscopy.utils.printer import printer\n",
    "\n",
    "CS_URL = \"TCP:localhost:3042\"\n",
    "HW_URL = \"TCP:localhost:3121\"\n",
    "\n",
    "# NOTE - To get refclk info for this design,\n",
    "#  please see the DESIGN_INFO.txt file in the same folder as the PDI\n",
    "EXAMPLES_DIR = Path.cwd().parent.parent\n",
    "PDI_FILE = EXAMPLES_DIR.joinpath(\n",
    "    \"designs\", \"vck190\", \"production\", \"2.0\", \"GTY\", \"all_quads_10G\", \"all_quads_10G.pdi\"\n",
    ")"
   ]
  },
  {
   "cell_type": "markdown",
   "metadata": {},
   "source": [
    "## Step 2 - Create a session and connect to the server"
   ]
  },
  {
   "cell_type": "code",
   "execution_count": null,
   "metadata": {
    "pycharm": {
     "name": "#%%\n"
    }
   },
   "outputs": [],
   "source": [
    "session = create_session(cs_server_url=CS_URL, hw_server_url=HW_URL)\n",
    "report_versions(session)\n",
    "\n",
    "device = session.devices.at(index=0)"
   ]
  },
  {
   "cell_type": "markdown",
   "metadata": {},
   "source": [
    "## Step 3 - Program the device with our example PDI"
   ]
  },
  {
   "cell_type": "code",
   "execution_count": null,
   "metadata": {
    "pycharm": {
     "name": "#%%\n"
    }
   },
   "outputs": [],
   "source": [
    "device.program(PDI_FILE)"
   ]
  },
  {
   "cell_type": "markdown",
   "metadata": {},
   "source": [
    "## Step 4 - Discover and setup the IBERT core"
   ]
  },
  {
   "cell_type": "code",
   "execution_count": null,
   "metadata": {
    "pycharm": {
     "name": "#%%\n"
    }
   },
   "outputs": [],
   "source": [
    "device.discover_and_setup_cores(ibert_scan=True)\n",
    "\n",
    "if len(device.ibert_cores) == 0:\n",
    "    printer(\"No IBERT core found! Exiting...\", level=\"info\")\n",
    "    exit()\n",
    "\n",
    "# Use the first available IBERT core from the device\n",
    "ibert = device.ibert_cores.at(index=0)\n",
    "\n",
    "ibert.print_hierarchy()\n",
    "\n",
    "if len(ibert.gt_groups) == 0:\n",
    "    printer(\"No GT Groups available for use! Exiting...\", level=\"info\")\n",
    "    exit()\n",
    "\n",
    "printer(\n",
    "    f\"GT Groups available - {[gt_group_obj.name for gt_group_obj in ibert.gt_groups]}\", level=\"info\"\n",
    ")"
   ]
  },
  {
   "cell_type": "markdown",
   "metadata": {},
   "source": [
    "## Step 5 - Get first available Quad and all the 4 channels in it"
   ]
  },
  {
   "cell_type": "code",
   "execution_count": null,
   "metadata": {
    "pycharm": {
     "name": "#%%\n"
    }
   },
   "outputs": [],
   "source": [
    "first_quad = ibert.gt_groups.at(0)\n",
    "ch_0 = one(first_quad.gts.filter_by(name=\"CH_0\"))\n",
    "ch_1 = one(first_quad.gts.filter_by(name=\"CH_1\"))\n",
    "ch_2 = one(first_quad.gts.filter_by(name=\"CH_2\"))\n",
    "ch_3 = one(first_quad.gts.filter_by(name=\"CH_3\"))"
   ]
  },
  {
   "cell_type": "markdown",
   "metadata": {},
   "source": [
    "## Step 6 - Create links"
   ]
  },
  {
   "cell_type": "code",
   "execution_count": null,
   "metadata": {
    "pycharm": {
     "name": "#%%\n"
    }
   },
   "outputs": [],
   "source": [
    "all_links = create_links(\n",
    "    rxs=[ch_0.rx, ch_1.rx, ch_2.rx, ch_3.rx], txs=[ch_0.tx, ch_1.tx, ch_2.tx, ch_3.tx]\n",
    ")\n",
    "printer(f\"Created new links {all_links}\", level=\"info\")"
   ]
  },
  {
   "cell_type": "markdown",
   "metadata": {},
   "source": [
    "## Step 7 - Iterate over all links and do loopback test for each link\n",
    "#### Only if the PLLs are locked for the links, check for link lock. Without PLL lock there is no guarantee that links  will be locked when set to same RX and TX pattern"
   ]
  },
  {
   "cell_type": "code",
   "execution_count": null,
   "metadata": {
    "lines_to_next_cell": 2,
    "pycharm": {
     "name": "#%%\n"
    }
   },
   "outputs": [],
   "source": [
    "for link in get_all_links():\n",
    "    printer(\n",
    "        f\"Setting both patterns to 'PRBS 7' + Loopback to 'Near-End PCS' for {link}\", level=\"info\"\n",
    "    )\n",
    "\n",
    "    props = {\n",
    "        link.rx.property_for_alias[PATTERN]: \"PRBS 7\",\n",
    "        link.rx.property_for_alias[RX_LOOPBACK]: \"Near-End PCS\",\n",
    "    }\n",
    "    link.rx.property.set(**props)\n",
    "    link.rx.property.commit(list(props.keys()))\n",
    "\n",
    "    props = {link.tx.property_for_alias[PATTERN]: \"PRBS 7\"}\n",
    "    link.tx.property.set(**props)\n",
    "    link.tx.property.commit(list(props.keys()))\n",
    "\n",
    "    # Without PLL lock, the link will most likely not lock even if TX and RX patterns are the same\n",
    "    if link.rx.pll.locked and link.tx.pll.locked:\n",
    "        printer(f\"RX and TX PLLs are locked for {link}. Checking for link lock...\", level=\"info\")\n",
    "        assert link.status != \"No link\"\n",
    "        printer(f\"{link} is linked as expected\", level=\"info\")\n",
    "    else:\n",
    "        printer(\n",
    "            f\"RX and/or TX PLL are NOT locked for {link}. Skipping link lock check...\", level=\"info\"\n",
    "        )\n",
    "\n",
    "    link.refresh()\n",
    "    link.generate_report()"
   ]
  },
  {
   "cell_type": "markdown",
   "metadata": {},
   "source": [
    "## Step 8 - Organize the links by putting them into a link group"
   ]
  },
  {
   "cell_type": "code",
   "execution_count": null,
   "metadata": {},
   "outputs": [],
   "source": [
    "link_group_0 = one(create_link_groups(\"Link group with all loopback'd links\"))\n",
    "printer(f\"Created new link group {link_group_0}\", level=\"info\")\n",
    "link_group_0.add(all_links)"
   ]
  },
  {
   "cell_type": "markdown",
   "metadata": {},
   "source": [
    "## Step 9 - Create an eye scan for a link"
   ]
  },
  {
   "cell_type": "code",
   "execution_count": null,
   "metadata": {},
   "outputs": [],
   "source": [
    "# This will create the eye scan and attach it to the RX in the link\n",
    "create_eye_scans(target_objs=all_links.at(0))\n",
    "\n",
    "link_with_scan = all_links.at(0)\n",
    "eye_scan_for_link = link_with_scan.eye_scan\n",
    "printer(f\"Supported params for {eye_scan_for_link.name}\", level=\"info\")\n",
    "for param in eye_scan_for_link.params.values():\n",
    "    print(\n",
    "        f\"{param.name}\\n\"\n",
    "        f\"\\tModifiable: {param.modifiable}\\n\"\n",
    "        f\"\\tValid values: {param.valid_values}\\n\"\n",
    "        f\"\\tDefault value: {param.default_value}\\n\"\n",
    "    )"
   ]
  },
  {
   "cell_type": "markdown",
   "metadata": {},
   "source": [
    "## Step 10 - Set the eye scan params and run it"
   ]
  },
  {
   "cell_type": "code",
   "execution_count": null,
   "metadata": {},
   "outputs": [],
   "source": [
    "eye_scan_for_link.params[EYE_SCAN_HORZ_STEP].value = 4\n",
    "eye_scan_for_link.params[EYE_SCAN_VERT_STEP].value = 4\n",
    "eye_scan_for_link.params[EYE_SCAN_HORZ_RANGE].value = \"-0.500 UI to 0.500 UI\"\n",
    "eye_scan_for_link.params[EYE_SCAN_VERT_RANGE].value = \"100%\"\n",
    "eye_scan_for_link.params[EYE_SCAN_TARGET_BER].value = 1e-5\n",
    "\n",
    "eye_scan_for_link.start()\n",
    "\n",
    "eye_scan_for_link.wait_till_done()"
   ]
  },
  {
   "cell_type": "markdown",
   "metadata": {},
   "source": [
    "## Step 11 - View the scan\n",
    "#### This requires Plotly to be installed. See how to install it [here](https://pages.gitenterprise.xilinx.com/chipscope/chipscopy/2020.3/ibert/scan.html#scan-plots)\n",
    "#### The plot may not display if this notebook is run in Jupyter Lab. For details, see [link](https://plotly.com/python/getting-started/#jupyterlab-support-python-35)"
   ]
  },
  {
   "cell_type": "code",
   "execution_count": null,
   "metadata": {},
   "outputs": [],
   "source": [
    "eye_scan_for_link.plot.show()"
   ]
  },
  {
   "cell_type": "code",
   "execution_count": null,
   "metadata": {},
   "outputs": [],
   "source": []
  }
 ],
 "metadata": {
  "jupytext": {
   "encoding": "# -*- coding: utf-8 -*-",
   "formats": "ipynb,py:percent"
  },
  "kernelspec": {
   "display_name": "Python 3",
   "language": "python",
   "name": "python3"
  },
  "language_info": {
   "codemirror_mode": {
    "name": "ipython",
    "version": 3
   },
   "file_extension": ".py",
   "mimetype": "text/x-python",
   "name": "python",
   "nbconvert_exporter": "python",
   "pygments_lexer": "ipython3",
   "version": "3.8.8"
  }
 },
 "nbformat": 4,
 "nbformat_minor": 1
}
