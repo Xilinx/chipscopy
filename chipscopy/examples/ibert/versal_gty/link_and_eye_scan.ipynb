{
 "cells": [
  {
   "cell_type": "markdown",
   "id": "229f142a",
   "metadata": {
    "papermill": {
     "duration": null,
     "end_time": null,
     "exception": null,
     "start_time": null,
     "status": "completed"
    },
    "tags": []
   },
   "source": [
    "<link rel=\"preconnect\" href=\"https://fonts.gstatic.com\">\n",
    "<link href=\"https://fonts.googleapis.com/css2?family=Fira+Code&display=swap\" rel=\"stylesheet\">\n",
    "\n",
    "### License\n",
    "\n",
    "<p style=\"font-family: 'Fira Code', monospace; font-size: 1.2rem\">\n",
    "Copyright (C) 2021-2022, Xilinx, Inc.\n",
    "Copyright (C) 2022-2023, Advanced Micro Devices, Inc.\n",
    "<br><br>\n",
    "Licensed under the Apache License, Version 2.0 (the \"License\");<br>\n",
    "you may not use this file except in compliance with the License.<br><br>\n",
    "You may obtain a copy of the License at <a href=\"http://www.apache.org/licenses/LICENSE-2.0\"?>http://www.apache.org/licenses/LICENSE-2.0</a><br><br>\n",
    "Unless required by applicable law or agreed to in writing, software<br>\n",
    "distributed under the License is distributed on an \"AS IS\" BASIS,<br>\n",
    "WITHOUT WARRANTIES OR CONDITIONS OF ANY KIND, either express or implied.<br>\n",
    "See the License for the specific language governing permissions and<br>\n",
    "limitations under the License.<br>\n",
    "</p>\n"
   ]
  },
  {
   "cell_type": "markdown",
   "id": "d52776aa",
   "metadata": {
    "papermill": {
     "duration": null,
     "end_time": null,
     "exception": null,
     "start_time": null,
     "status": "completed"
    },
    "tags": []
   },
   "source": [
    "# IBERT link and eye scan example\n",
    "\n",
    "\n",
    "<img src=\"../../img/api_overview.png\" width=\"500\" align=\"left\">"
   ]
  },
  {
   "cell_type": "markdown",
   "id": "862a1951",
   "metadata": {
    "papermill": {
     "duration": null,
     "end_time": null,
     "exception": null,
     "start_time": null,
     "status": "completed"
    },
    "tags": []
   },
   "source": [
    "## Description\n",
    "This example shows how to interact with the IBERT (Integrated Bit Error Ratio Tester) debug core service via ChipScoPy APIs.\n",
    "- Program the ChipScoPy CED design onto the XCVC1902 device on a VCK190 board\n",
    "- Verify that the expected IBERT quads are instantiated by the design\n",
    "- Create links and change link settings to get link lock\n",
    "- Run and plot eye scans for the links\n",
    "- Run a sweep on a link\n",
    "\n",
    "\n",
    "## Requirements\n",
    "- Local or remote Xilinx Versal board, such as a VCK190\n",
    "- Xilinx hw_server 2022.2 installed and running\n",
    "- Xilinx cs_server 2022.2 installed and running\n",
    "- Python 3.8 or greater installed\n",
    "- ChipScoPy 2022.2 installed\n",
    "- Jupyter notebook support installed - Please do so, using the command `pip install chipscopy[jupyter]`\n",
    "- Plotting support installed - Please do so, using the command `pip install chipscopy[core-addons]`\n",
    "- Optional - [External loopback](https://www.samtec.com/kits/optics-fpga/hspce-fmcp/) (For the sweep example only)."
   ]
  },
  {
   "cell_type": "markdown",
   "id": "b9578481",
   "metadata": {
    "papermill": {
     "duration": null,
     "end_time": null,
     "exception": null,
     "start_time": null,
     "status": "completed"
    },
    "tags": []
   },
   "source": [
    "## 1 - Initialization: Imports and File Paths\n",
    "\n",
    "After this step,\n",
    "- Required functions and classes are imported\n",
    "- Paths to server(s) and files are set correctly"
   ]
  },
  {
   "cell_type": "code",
   "execution_count": null,
   "id": "da6f53d0",
   "metadata": {
    "execution": {
     "iopub.execute_input": "2023-10-20T19:29:53.323991Z",
     "iopub.status.busy": "2023-10-20T19:29:53.323044Z",
     "iopub.status.idle": "2023-10-20T19:29:54.374939Z",
     "shell.execute_reply": "2023-10-20T19:29:54.373812Z"
    },
    "jupyter": {
     "outputs_hidden": false
    },
    "lines_to_next_cell": 2,
    "papermill": {
     "duration": null,
     "end_time": null,
     "exception": null,
     "start_time": null,
     "status": "completed"
    },
    "tags": []
   },
   "outputs": [],
   "source": [
    "import os\n",
    "from more_itertools import one\n",
    "from itertools import product\n",
    "\n",
    "from chipscopy import create_session, report_versions, report_hierarchy, get_design_files\n",
    "from chipscopy.api.ibert.aliases import (\n",
    "    EYE_SCAN_HORZ_RANGE,\n",
    "    EYE_SCAN_VERT_RANGE,\n",
    "    EYE_SCAN_VERT_STEP,\n",
    "    EYE_SCAN_HORZ_STEP,\n",
    "    EYE_SCAN_TARGET_BER,\n",
    "    PATTERN,\n",
    "    RX_LOOPBACK,\n",
    "    TX_PRE_CURSOR,\n",
    "    TX_POST_CURSOR,\n",
    "    TX_DIFFERENTIAL_SWING,\n",
    "    RX_TERMINATION_VOLTAGE,\n",
    "    RX_COMMON_MODE\n",
    ")\n",
    "from chipscopy.api.ibert import create_eye_scans, create_links"
   ]
  },
  {
   "cell_type": "code",
   "execution_count": null,
   "id": "010c9983",
   "metadata": {
    "execution": {
     "iopub.execute_input": "2023-10-20T19:29:54.396455Z",
     "iopub.status.busy": "2023-10-20T19:29:54.396055Z",
     "iopub.status.idle": "2023-10-20T19:29:54.406190Z",
     "shell.execute_reply": "2023-10-20T19:29:54.405053Z"
    },
    "papermill": {
     "duration": null,
     "end_time": null,
     "exception": null,
     "start_time": null,
     "status": "completed"
    },
    "tags": []
   },
   "outputs": [],
   "source": [
    "# Make sure to start the hw_server and cs_server prior to running.\n",
    "# Specify locations of the running hw_server and cs_server below.\n",
    "# The default is localhost - but can be other locations on the network.\n",
    "CS_URL = os.getenv(\"CS_SERVER_URL\", \"TCP:localhost:3042\")\n",
    "HW_URL = os.getenv(\"HW_SERVER_URL\", \"TCP:localhost:3121\")\n",
    "\n",
    "# specify hw and if programming is desired\n",
    "HW_PLATFORM = os.getenv(\"HW_PLATFORM\", \"vck190\")\n",
    "PROG_DEVICE = os.getenv(\"PROG_DEVICE\", True)\n",
    "\n",
    "# The get_design_files() function tries to find the PDI and LTX files. In non-standard\n",
    "# configurations, you can put the path for PROGRAMMING_FILE and PROBES_FILE below.\n",
    "design_files = get_design_files(f\"{HW_PLATFORM}/production/chipscopy_ced\")\n",
    "PDI_FILE = design_files.programming_file\n",
    "\n",
    "print(f\"PROGRAMMING_FILE: {PDI_FILE}\")"
   ]
  },
  {
   "cell_type": "markdown",
   "id": "9beeb7c4",
   "metadata": {
    "papermill": {
     "duration": null,
     "end_time": null,
     "exception": null,
     "start_time": null,
     "status": "completed"
    },
    "tags": []
   },
   "source": [
    "## 2 - Create a session and connect to the hw_server and cs_server\n",
    "\n",
    "The session is a container that keeps track of devices and debug cores.\n",
    "After this step,\n",
    "- Session is initialized and connected to server(s)\n",
    "- Versions are detected and reported to stdout"
   ]
  },
  {
   "cell_type": "code",
   "execution_count": null,
   "id": "375480ed",
   "metadata": {
    "execution": {
     "iopub.execute_input": "2023-10-20T19:29:54.444851Z",
     "iopub.status.busy": "2023-10-20T19:29:54.443256Z",
     "iopub.status.idle": "2023-10-20T19:29:55.595907Z",
     "shell.execute_reply": "2023-10-20T19:29:55.595277Z"
    },
    "jupyter": {
     "outputs_hidden": false
    },
    "papermill": {
     "duration": null,
     "end_time": null,
     "exception": null,
     "start_time": null,
     "status": "completed"
    },
    "tags": []
   },
   "outputs": [],
   "source": [
    "session = create_session(cs_server_url=CS_URL, hw_server_url=HW_URL)\n",
    "report_versions(session)"
   ]
  },
  {
   "cell_type": "markdown",
   "id": "9c7eb4ee",
   "metadata": {
    "papermill": {
     "duration": null,
     "end_time": null,
     "exception": null,
     "start_time": null,
     "status": "completed"
    },
    "tags": []
   },
   "source": [
    "## 3 - Program the device with the example design\n",
    "\n",
    "After this step,\n",
    "- Device is programmed with the example programming file"
   ]
  },
  {
   "cell_type": "code",
   "execution_count": null,
   "id": "6af04dc1",
   "metadata": {
    "execution": {
     "iopub.execute_input": "2023-10-20T19:29:55.635617Z",
     "iopub.status.busy": "2023-10-20T19:29:55.634312Z",
     "iopub.status.idle": "2023-10-20T19:30:00.837617Z",
     "shell.execute_reply": "2023-10-20T19:30:00.836921Z"
    },
    "jupyter": {
     "outputs_hidden": false
    },
    "papermill": {
     "duration": null,
     "end_time": null,
     "exception": null,
     "start_time": null,
     "status": "completed"
    },
    "tags": []
   },
   "outputs": [],
   "source": [
    "# Typical case - one device on the board - get it.\n",
    "device = session.devices.filter_by(family=\"versal\").get()\n",
    "if PROG_DEVICE:\n",
    "    device.program(PDI_FILE)\n",
    "else:\n",
    "    print(\"skipping programming\")"
   ]
  },
  {
   "cell_type": "markdown",
   "id": "607bc8cf",
   "metadata": {
    "papermill": {
     "duration": null,
     "end_time": null,
     "exception": null,
     "start_time": null,
     "status": "completed"
    },
    "tags": []
   },
   "source": [
    "## 4 - Discover and setup the IBERT core\n",
    "\n",
    "Debug core discovery initializes the chipscope server debug cores.\n",
    "\n",
    "After this step,\n",
    "\n",
    "- The cs_server is initialized and ready for use\n",
    "- The first ibert found is used"
   ]
  },
  {
   "cell_type": "code",
   "execution_count": null,
   "id": "047404f9",
   "metadata": {
    "execution": {
     "iopub.execute_input": "2023-10-20T19:30:00.876333Z",
     "iopub.status.busy": "2023-10-20T19:30:00.876091Z",
     "iopub.status.idle": "2023-10-20T19:30:02.665879Z",
     "shell.execute_reply": "2023-10-20T19:30:02.664816Z"
    },
    "jupyter": {
     "outputs_hidden": false
    },
    "papermill": {
     "duration": null,
     "end_time": null,
     "exception": null,
     "start_time": null,
     "status": "completed"
    },
    "tags": []
   },
   "outputs": [],
   "source": [
    "device.discover_and_setup_cores(ibert_scan=True)\n",
    "print(\"--> Debug core discovery done\")\n",
    "\n",
    "if len(device.ibert_cores) == 0:\n",
    "    print(\"No IBERT core found! Exiting...\")\n",
    "    exit()\n",
    "\n",
    "# Use the first available IBERT core from the device\n",
    "ibert = device.ibert_cores.at(index=0)\n",
    "\n",
    "if len(ibert.gt_groups) == 0:\n",
    "    print(\"No GT Groups available for use! Exiting...\")\n",
    "    exit()\n",
    "\n",
    "print(f\"GT Groups available - {[gt_group_obj.name for gt_group_obj in ibert.gt_groups]}\")"
   ]
  },
  {
   "cell_type": "markdown",
   "id": "bd44220a",
   "metadata": {
    "papermill": {
     "duration": null,
     "end_time": null,
     "exception": null,
     "start_time": null,
     "status": "completed"
    },
    "tags": []
   },
   "source": [
    "## 5 - Print the hierarchy of the IBERT core\n",
    "\n",
    "We also ensure that all the quads instantiated by the ChipScoPy CED design are found by the APIs"
   ]
  },
  {
   "cell_type": "code",
   "execution_count": null,
   "id": "4f3f7ddc",
   "metadata": {
    "execution": {
     "iopub.execute_input": "2023-10-20T19:30:02.702205Z",
     "iopub.status.busy": "2023-10-20T19:30:02.701828Z",
     "iopub.status.idle": "2023-10-20T19:30:24.328640Z",
     "shell.execute_reply": "2023-10-20T19:30:24.327702Z"
    },
    "jupyter": {
     "outputs_hidden": false
    },
    "papermill": {
     "duration": null,
     "end_time": null,
     "exception": null,
     "start_time": null,
     "status": "completed"
    },
    "tags": []
   },
   "outputs": [],
   "source": [
    "report_hierarchy(ibert)\n",
    "\n",
    "assert len(ibert.gt_groups) == 4\n",
    "\n",
    "q205 = one(ibert.gt_groups.filter_by(name=\"Quad_205\"))\n",
    "q204 = one(ibert.gt_groups.filter_by(name=\"Quad_204\"))\n",
    "q201 = one(ibert.gt_groups.filter_by(name=\"Quad_201\"))\n",
    "q105 = one(ibert.gt_groups.filter_by(name=\"Quad_105\"))"
   ]
  },
  {
   "cell_type": "markdown",
   "id": "b9ecd22c",
   "metadata": {
    "papermill": {
     "duration": null,
     "end_time": null,
     "exception": null,
     "start_time": null,
     "status": "completed"
    },
    "tags": []
   },
   "source": [
    "## 6 - Create links between following TXs and RXs\n",
    "- Quad 205 CH0 TX to Quad 205 CH0 RX\n",
    "- Quad 204 CH1 TX to Quad 204 CH1 RX\n",
    "- Quad 201 CH2 TX to Quad 201 CH2 RX\n",
    "- Quad 105 CH3 TX to Quad 105 CH3 RX"
   ]
  },
  {
   "cell_type": "code",
   "execution_count": null,
   "id": "d720ee49",
   "metadata": {
    "execution": {
     "iopub.execute_input": "2023-10-20T19:30:24.368225Z",
     "iopub.status.busy": "2023-10-20T19:30:24.367243Z",
     "iopub.status.idle": "2023-10-20T19:30:24.375089Z",
     "shell.execute_reply": "2023-10-20T19:30:24.374244Z"
    },
    "papermill": {
     "duration": null,
     "end_time": null,
     "exception": null,
     "start_time": null,
     "status": "completed"
    },
    "tags": []
   },
   "outputs": [],
   "source": [
    "links = create_links(\n",
    "    txs=[q205.gts[0].tx, q204.gts[1].tx, q201.gts[2].tx, q105.gts[3].tx],\n",
    "    rxs=[q205.gts[0].rx, q204.gts[1].rx, q201.gts[2].rx, q105.gts[3].rx],\n",
    ")\n",
    "\n",
    "print(\"--> Done creating links\")"
   ]
  },
  {
   "cell_type": "markdown",
   "id": "0118e277",
   "metadata": {
    "papermill": {
     "duration": null,
     "end_time": null,
     "exception": null,
     "start_time": null,
     "status": "completed"
    },
    "raw_mimetype": "text/markdown",
    "tags": []
   },
   "source": [
    "## 7 - Print the valid values for pattern and loopback, set the pattern for the TXs and RXs to \"PRBS 31\" and set loopback to \"Near-End PMA\"\n",
    "\n",
    "In order to lock the internal pattern checker, TX and RX patterns need to match. We also need to have some kind of loopback, internal/external.\n",
    "\n",
    "We are assuming that no external cable loopback is present and hence making use of internal loopback."
   ]
  },
  {
   "cell_type": "code",
   "execution_count": null,
   "id": "fcb5965b",
   "metadata": {
    "execution": {
     "iopub.execute_input": "2023-10-20T19:30:24.409651Z",
     "iopub.status.busy": "2023-10-20T19:30:24.409251Z",
     "iopub.status.idle": "2023-10-20T19:30:32.705027Z",
     "shell.execute_reply": "2023-10-20T19:30:32.703421Z"
    },
    "papermill": {
     "duration": null,
     "end_time": null,
     "exception": null,
     "start_time": null,
     "status": "completed"
    },
    "raw_mimetype": "text/x-python",
    "tags": []
   },
   "outputs": [],
   "source": [
    "for link in links:\n",
    "    print(f\"\\n----- {link.name} -----\")\n",
    "    _, tx_pattern_report = link.tx.property.report(link.tx.property_for_alias[PATTERN]).popitem()\n",
    "    _, rx_pattern_report = link.rx.property.report(link.rx.property_for_alias[PATTERN]).popitem()\n",
    "    _, rx_loopback_report = link.tx.property.report(\n",
    "        link.rx.property_for_alias[RX_LOOPBACK]\n",
    "    ).popitem()\n",
    "\n",
    "    print(f\"--> Valid values for TX pattern - {tx_pattern_report['Valid values']}\")\n",
    "    print(f\"--> Valid values for RX pattern - {rx_pattern_report['Valid values']}\")\n",
    "    print(f\"--> Valid values for RX loopback - {rx_loopback_report['Valid values']}\")\n",
    "\n",
    "    props = {link.tx.property_for_alias[PATTERN]: \"PRBS 31\"}\n",
    "    link.tx.property.set(**props)\n",
    "    link.tx.property.commit(list(props.keys()))\n",
    "\n",
    "    props = {\n",
    "        link.rx.property_for_alias[PATTERN]: \"PRBS 31\",\n",
    "        link.rx.property_for_alias[RX_LOOPBACK]: \"Near-End PMA\",\n",
    "    }\n",
    "    link.rx.property.set(**props)\n",
    "    link.rx.property.commit(list(props.keys()))\n",
    "    print(f\"\\n--> Set both patterns to 'PRBS 31' & loopback to 'Near-End PMA' for {link}\")\n",
    "\n",
    "    assert link.rx.pll.locked and link.tx.pll.locked\n",
    "    print(f\"--> RX and TX PLLs are locked for {link}. Checking for link lock...\")\n",
    "    assert link.status != \"No link\"\n",
    "    print(f\"--> {link} is linked as expected\")"
   ]
  },
  {
   "cell_type": "markdown",
   "id": "342db7e7",
   "metadata": {
    "papermill": {
     "duration": null,
     "end_time": null,
     "exception": null,
     "start_time": null,
     "status": "completed"
    },
    "tags": []
   },
   "source": [
    "## 8 - Create eye scan objects for all the links, set the scan params and start the scan\n",
    "\n",
    "The eye scans will be run in parallel"
   ]
  },
  {
   "cell_type": "code",
   "execution_count": null,
   "id": "a9fe570f",
   "metadata": {
    "execution": {
     "iopub.execute_input": "2023-10-20T19:30:32.791472Z",
     "iopub.status.busy": "2023-10-20T19:30:32.790226Z",
     "iopub.status.idle": "2023-10-20T19:30:40.465150Z",
     "shell.execute_reply": "2023-10-20T19:30:40.463942Z"
    },
    "lines_to_next_cell": 2,
    "papermill": {
     "duration": null,
     "end_time": null,
     "exception": null,
     "start_time": null,
     "status": "completed"
    },
    "tags": []
   },
   "outputs": [],
   "source": [
    "eye_scans = create_eye_scans(target_objs=[link for link in links])\n",
    "for eye_scan in eye_scans:\n",
    "    eye_scan.params[EYE_SCAN_HORZ_STEP].value = 10\n",
    "    eye_scan.params[EYE_SCAN_VERT_STEP].value = 10\n",
    "    eye_scan.params[EYE_SCAN_HORZ_RANGE].value = \"-0.500 UI to 0.500 UI\"\n",
    "    eye_scan.params[EYE_SCAN_VERT_RANGE].value = \"100%\"\n",
    "    eye_scan.params[EYE_SCAN_TARGET_BER].value = 1e-5\n",
    "\n",
    "    eye_scan.start()\n",
    "    print(f\"Started eye scan {eye_scan}\")"
   ]
  },
  {
   "cell_type": "markdown",
   "id": "7d48b5c6",
   "metadata": {
    "papermill": {
     "duration": null,
     "end_time": null,
     "exception": null,
     "start_time": null,
     "status": "completed"
    },
    "tags": []
   },
   "source": [
    "## 9 - Wait for all the eye scans to get done"
   ]
  },
  {
   "cell_type": "code",
   "execution_count": null,
   "id": "5a7279ed",
   "metadata": {
    "execution": {
     "iopub.execute_input": "2023-10-20T19:30:40.507383Z",
     "iopub.status.busy": "2023-10-20T19:30:40.506732Z",
     "iopub.status.idle": "2023-10-20T19:30:41.237282Z",
     "shell.execute_reply": "2023-10-20T19:30:41.236166Z"
    },
    "papermill": {
     "duration": null,
     "end_time": null,
     "exception": null,
     "start_time": null,
     "status": "completed"
    },
    "tags": []
   },
   "outputs": [],
   "source": [
    "eye_scans[0].wait_till_done()\n",
    "eye_scans[1].wait_till_done()\n",
    "eye_scans[2].wait_till_done()\n",
    "eye_scans[3].wait_till_done()"
   ]
  },
  {
   "cell_type": "markdown",
   "id": "6b84fbb3",
   "metadata": {
    "lines_to_next_cell": 2,
    "papermill": {
     "duration": null,
     "end_time": null,
     "exception": null,
     "start_time": null,
     "status": "completed"
    },
    "tags": []
   },
   "source": [
    "## 10 - View Eye Scan Plot.\n",
    "\n",
    "This requires Plotly to be installed. See how to install it [here](https://pages.gitenterprise.xilinx.com/chipscope/chipscopy/2020.2/ibert/scan.html#scan-plots)\n",
    "\n",
    "NOTE - The plot may not display if this notebook is run in Jupyter Lab. For details, see [link](https://plotly.com/python/getting-started/#jupyterlab-support-python-35)"
   ]
  },
  {
   "cell_type": "code",
   "execution_count": null,
   "id": "0ce6be60",
   "metadata": {
    "execution": {
     "iopub.execute_input": "2023-10-20T19:30:41.279544Z",
     "iopub.status.busy": "2023-10-20T19:30:41.278853Z",
     "iopub.status.idle": "2023-10-20T19:30:43.875555Z",
     "shell.execute_reply": "2023-10-20T19:30:43.874549Z"
    },
    "papermill": {
     "duration": null,
     "end_time": null,
     "exception": null,
     "start_time": null,
     "status": "completed"
    },
    "tags": []
   },
   "outputs": [],
   "source": [
    "eye_scans[0].plot.show()\n",
    "eye_scans[1].plot.show()\n",
    "eye_scans[2].plot.show()\n",
    "eye_scans[3].plot.show()"
   ]
  },
  {
   "cell_type": "markdown",
   "id": "4e40c733",
   "metadata": {
    "papermill": {
     "duration": null,
     "end_time": null,
     "exception": null,
     "start_time": null,
     "status": "completed"
    },
    "tags": []
   },
   "source": [
    "# IBERT Sweep Example\n",
    "\n",
    "This step begins the sweep example, in which for a single link we iterate through valid property values for our desired TX/RX properties, creating an eye scan for each combination of values and allowing us to identify the property values corresponding to the best eye scan. \n",
    "\n",
    "Note that while the eye scan example assumed that no external cable loopback was present, this example was designed to work for devices with external loopback - regardless of the property values we are sweeping over, using internal loopback would likely cause there to not be any appreciable difference in the eye scans generated by the sweep. \n",
    "\n",
    "For an example of an external loopback module utilized in this example, click [here](https://www.samtec.com/kits/optics-fpga/hspce-fmcp/).\n",
    "\n",
    "Finally, for the purposes of this example, we will arbitrarily be using the Quad 205 CH0 TX to Quad 205 CH0 RX link."
   ]
  },
  {
   "cell_type": "markdown",
   "id": "438dcce7",
   "metadata": {
    "papermill": {
     "duration": null,
     "end_time": null,
     "exception": null,
     "start_time": null,
     "status": "completed"
    },
    "tags": []
   },
   "source": [
    "## 11 - Cache Properties for Sweep.\n",
    "\n",
    "As performing a sweep will continuously modify our RX and TX properties, we must begin our sweep by storing the current values in order to restore them after we are done."
   ]
  },
  {
   "cell_type": "code",
   "execution_count": null,
   "id": "0aa61b62",
   "metadata": {
    "execution": {
     "iopub.execute_input": "2023-10-20T19:30:43.963892Z",
     "iopub.status.busy": "2023-10-20T19:30:43.963232Z",
     "iopub.status.idle": "2023-10-20T19:30:45.308262Z",
     "shell.execute_reply": "2023-10-20T19:30:45.307186Z"
    },
    "papermill": {
     "duration": null,
     "end_time": null,
     "exception": null,
     "start_time": null,
     "status": "completed"
    },
    "tags": []
   },
   "outputs": [],
   "source": [
    "link = links[0]\n",
    "\n",
    "#Disabling internal loopback for the reasons outlined above\n",
    "props = {\n",
    "    link.rx.property_for_alias[RX_LOOPBACK]: \"None\"\n",
    "}\n",
    "link.rx.property.set(**props)\n",
    "link.rx.property.commit(list(props.keys()))\n",
    "\n",
    "print(f\"\\n----- {link.name} -----\")\n",
    "\n",
    "orig_precursor = list(link.tx.property.refresh(link.tx.property_for_alias[TX_PRE_CURSOR]).values())[0]\n",
    "orig_postcursor = list(link.tx.property.refresh(link.tx.property_for_alias[TX_POST_CURSOR]).values())[0]\n",
    "orig_diffswing = list(link.tx.property.refresh(link.tx.property_for_alias[TX_DIFFERENTIAL_SWING]).values())[0]\n",
    "orig_termvolt = list(link.tx.property.refresh(link.rx.property_for_alias[RX_TERMINATION_VOLTAGE]).values())[0]\n",
    "\n",
    "print(f\"--> Original value of TX Pre Cursor - {orig_precursor}\")\n",
    "print(f\"--> Original value of TX Post Cursor - {orig_postcursor}\")\n",
    "print(f\"--> Original value of TX Diff Swing - {orig_diffswing}\")\n",
    "print(f\"--> Original value of RX Termination Voltage - {orig_termvolt}\")"
   ]
  },
  {
   "cell_type": "markdown",
   "id": "ea9143ac",
   "metadata": {
    "papermill": {
     "duration": null,
     "end_time": null,
     "exception": null,
     "start_time": null,
     "status": "completed"
    },
    "tags": []
   },
   "source": [
    "## 12 - Find Properties for Sweep.\n",
    "In this step, we find all possible values of the properties we wish to sweep over. For the purposes of this example, only two possible values from each property are used."
   ]
  },
  {
   "cell_type": "code",
   "execution_count": null,
   "id": "60f8d85e",
   "metadata": {
    "execution": {
     "iopub.execute_input": "2023-10-20T19:30:45.370982Z",
     "iopub.status.busy": "2023-10-20T19:30:45.370608Z",
     "iopub.status.idle": "2023-10-20T19:30:45.516851Z",
     "shell.execute_reply": "2023-10-20T19:30:45.515792Z"
    },
    "lines_to_next_cell": 2,
    "papermill": {
     "duration": null,
     "end_time": null,
     "exception": null,
     "start_time": null,
     "status": "completed"
    },
    "tags": []
   },
   "outputs": [],
   "source": [
    "_, tx_precursor_report = link.tx.property.report(link.tx.property_for_alias[TX_PRE_CURSOR]).popitem()\n",
    "_, tx_postcursor_report = link.tx.property.report(link.tx.property_for_alias[TX_POST_CURSOR]).popitem()\n",
    "_, tx_diffswing_report = link.tx.property.report(link.tx.property_for_alias[TX_DIFFERENTIAL_SWING]).popitem()\n",
    "_, rx_termvolt_report = link.tx.property.report(link.rx.property_for_alias[RX_TERMINATION_VOLTAGE]).popitem()\n",
    "\n",
    "print(f\"\\n----- {link.name} -----\")\n",
    "print(f\"--> Valid values for TX Pre Cursor - {tx_precursor_report['Valid values']}\")\n",
    "print(f\"--> Valid values for TX Post Cursor - {tx_postcursor_report['Valid values']}\")\n",
    "print(f\"--> Valid values for TX Diff Swing - {tx_diffswing_report['Valid values']}\")\n",
    "print(f\"--> Valid values for RX Termination Voltage - {rx_termvolt_report['Valid values']}\")\n",
    "\n",
    "selected_precurs = tx_precursor_report['Valid values'][0:2]\n",
    "selected_postcurs = tx_postcursor_report['Valid values'][0:2]\n",
    "selected_diffswing = tx_diffswing_report['Valid values'][0:2]\n",
    "selected_termvolt = rx_termvolt_report['Valid values'][0:2]"
   ]
  },
  {
   "cell_type": "markdown",
   "id": "a8b5f765",
   "metadata": {
    "papermill": {
     "duration": null,
     "end_time": null,
     "exception": null,
     "start_time": null,
     "status": "completed"
    },
    "tags": []
   },
   "source": [
    "## 13 - Perform the Sweep.\n",
    "Iteration over combinations of property values is performed using the itertools product method, imported in the first cell of this example notebook.\n",
    "\n",
    "This step displays the resulting eye scans, completing the sweep."
   ]
  },
  {
   "cell_type": "code",
   "execution_count": null,
   "id": "3541b973",
   "metadata": {
    "execution": {
     "iopub.execute_input": "2023-10-20T19:30:45.583292Z",
     "iopub.status.busy": "2023-10-20T19:30:45.581968Z",
     "iopub.status.idle": "2023-10-20T19:31:44.006562Z",
     "shell.execute_reply": "2023-10-20T19:31:44.005376Z"
    },
    "papermill": {
     "duration": null,
     "end_time": null,
     "exception": null,
     "start_time": null,
     "status": "completed"
    },
    "tags": []
   },
   "outputs": [],
   "source": [
    "combinations = list(product(selected_precurs, \n",
    "                selected_postcurs, selected_diffswing, \n",
    "                    selected_termvolt))\n",
    "print(f\"-----Total Eye Scans in this Sweep: {len(combinations)}-----\")\n",
    "\n",
    "eye_scans = []\n",
    "for (precurs, poscurs, difswing, tervolt) in combinations:\n",
    "    props = {\n",
    "        link.tx.property_for_alias[TX_PRE_CURSOR]: precurs,\n",
    "        link.tx.property_for_alias[TX_POST_CURSOR]: poscurs,\n",
    "        link.tx.property_for_alias[TX_DIFFERENTIAL_SWING]: difswing\n",
    "    }\n",
    "    link.tx.property.set(**props)\n",
    "    link.tx.property.commit(list(props.keys()))\n",
    "    \n",
    "    props = {\n",
    "        link.rx.property_for_alias[RX_TERMINATION_VOLTAGE]: tervolt,\n",
    "    }\n",
    "    link.rx.property.set(**props)\n",
    "    link.rx.property.commit(list(props.keys()))\n",
    "    \n",
    "    eye_scan = create_eye_scans(target_objs=link)[0]\n",
    "    eye_scan.params[EYE_SCAN_HORZ_STEP].value = 10\n",
    "    eye_scan.params[EYE_SCAN_VERT_STEP].value = 10\n",
    "    eye_scan.params[EYE_SCAN_HORZ_RANGE].value = \"-0.500 UI to 0.500 UI\"\n",
    "    eye_scan.params[EYE_SCAN_VERT_RANGE].value = \"100%\"\n",
    "    eye_scan.params[EYE_SCAN_TARGET_BER].value = 1e-5\n",
    "    eye_scan.start()\n",
    "    eye_scan.wait_till_done()\n",
    "    print(f\"Finished eye scan {eye_scan}\")    \n",
    "    title_string = f\"Pre Cursor: {precurs}, Post Cursor: {poscurs}, Diff Swing: {difswing},\" + \"<br>\" + f\" Termination Voltage: {tervolt}\" #, Common mode: {commode}\n",
    "    eye_scans.append([eye_scan,title_string])\n",
    "    \n",
    "\n",
    "\n",
    "\n"
   ]
  },
  {
   "cell_type": "markdown",
   "id": "c4dec2d7",
   "metadata": {
    "papermill": {
     "duration": null,
     "end_time": null,
     "exception": null,
     "start_time": null,
     "status": "completed"
    },
    "tags": []
   },
   "source": [
    "## 14 - Find the Sweep's Best Eye Scan.\n",
    "Using the eye scans that we have created with the sweep, we can deduce which eye scan and its corresponding properties are the most desirable based on many different, often arbitrary metrics. In this example, we will use the proportion of 0 Bit Error Rate within each eye scan. Other ways of identifying eye-scan quality could include calculating the largest width of the dark blue area, or even simply eye-balling the area of the graph. \n",
    "\n",
    "In this cell, we calculate our metric using the eye scan's raw data, sorting the resulting eye scans in descending order and printing them out."
   ]
  },
  {
   "cell_type": "code",
   "execution_count": null,
   "id": "4d19bd5c",
   "metadata": {
    "execution": {
     "iopub.execute_input": "2023-10-20T19:31:44.085246Z",
     "iopub.status.busy": "2023-10-20T19:31:44.084598Z",
     "iopub.status.idle": "2023-10-20T19:31:45.316280Z",
     "shell.execute_reply": "2023-10-20T19:31:45.315301Z"
    },
    "papermill": {
     "duration": null,
     "end_time": null,
     "exception": null,
     "start_time": null,
     "status": "completed"
    },
    "tags": []
   },
   "outputs": [],
   "source": [
    "for scan in eye_scans:\n",
    "    scan.append(sum([1 for i in scan[0].scan_data.raw.error_count if i == 0])/len(scan[0].scan_data.raw.error_count))\n",
    "\n",
    "eye_scans.sort(key=lambda x: x[2], reverse=True)\n",
    "\n",
    "for scan in eye_scans:\n",
    "    scan[1] += f\", Zero Error Rate: {scan[2]}\"\n",
    "    scan[0].plot.show(title=scan[1])"
   ]
  },
  {
   "cell_type": "markdown",
   "id": "4a9c9bc0",
   "metadata": {
    "papermill": {
     "duration": null,
     "end_time": null,
     "exception": null,
     "start_time": null,
     "status": "completed"
    },
    "tags": []
   },
   "source": [
    "## 15 - Restore Original Property Values.\n",
    "After completing the sweep, we must finally restore each property to their original values, which we had cached in step 11."
   ]
  },
  {
   "cell_type": "code",
   "execution_count": null,
   "id": "dd4b21b3",
   "metadata": {
    "execution": {
     "iopub.execute_input": "2023-10-20T19:31:45.457006Z",
     "iopub.status.busy": "2023-10-20T19:31:45.456153Z",
     "iopub.status.idle": "2023-10-20T19:31:47.400407Z",
     "shell.execute_reply": "2023-10-20T19:31:47.398923Z"
    },
    "papermill": {
     "duration": null,
     "end_time": null,
     "exception": null,
     "start_time": null,
     "status": "completed"
    },
    "tags": []
   },
   "outputs": [],
   "source": [
    "props = {\n",
    "    link.tx.property_for_alias[TX_PRE_CURSOR]: orig_precursor,\n",
    "    link.tx.property_for_alias[TX_POST_CURSOR]: orig_postcursor,\n",
    "    link.tx.property_for_alias[TX_DIFFERENTIAL_SWING]: orig_diffswing,\n",
    "\n",
    "}    \n",
    "link.tx.property.set(**props)  \n",
    "link.tx.property.commit(list(props.keys()))\n",
    "\n",
    "props = {\n",
    "    link.rx.property_for_alias[RX_TERMINATION_VOLTAGE]: orig_termvolt,\n",
    "\n",
    "}    \n",
    "link.rx.property.set(**props)  \n",
    "link.rx.property.commit(list(props.keys()))\n",
    "\n",
    "\n",
    "print(f\"Post-sweep value of TX Pre Cursor: {list(link.tx.property.refresh(link.tx.property_for_alias[TX_PRE_CURSOR]).values())[0]}\")\n",
    "print(f\"Post-sweep value of TX Post Cursor: {list(link.tx.property.refresh(link.tx.property_for_alias[TX_POST_CURSOR]).values())[0]}\")\n",
    "print(f\"Post-sweep value of TX Diff Swing: {list(link.tx.property.refresh(link.tx.property_for_alias[TX_DIFFERENTIAL_SWING]).values())[0]}\")\n",
    "print(f\"Post-sweep value of RX Termination Voltage Cursor: {list(link.rx.property.refresh(link.rx.property_for_alias[RX_TERMINATION_VOLTAGE]).values())[0]}\")"
   ]
  }
 ],
 "metadata": {
  "jupytext": {
   "formats": "ipynb,py:percent"
  },
  "kernelspec": {
   "display_name": "Python 3",
   "language": "python",
   "name": "python3"
  },
  "language_info": {
   "codemirror_mode": {
    "name": "ipython",
    "version": 3
   },
   "file_extension": ".py",
   "mimetype": "text/x-python",
   "name": "python",
   "nbconvert_exporter": "python",
   "pygments_lexer": "ipython3",
   "version": "3.8.3"
  },
  "papermill": {
   "default_parameters": {},
   "duration": 0.019929,
   "end_time": "2023-10-20T19:34:11.666199",
   "environment_variables": {},
   "exception": null,
   "input_path": "chipscopy/examples/ibert/versal_gty/link_and_eye_scan.ipynb",
   "output_path": "chipscopy/examples/ibert/versal_gty/link_and_eye_scan.ipynb",
   "parameters": {},
   "start_time": "2023-10-20T19:34:11.646270",
   "version": "2.4.0"
  }
 },
 "nbformat": 4,
 "nbformat_minor": 5
}