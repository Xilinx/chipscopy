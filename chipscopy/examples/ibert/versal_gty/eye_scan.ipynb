{
 "cells": [
  {
   "cell_type": "code",
   "execution_count": null,
   "metadata": {},
   "outputs": [],
   "source": [
    "# Copyright 2021 Xilinx, Inc.\n",
    "# \n",
    "# Licensed under the Apache License, Version 2.0 (the \"License\");\n",
    "# you may not use this file except in compliance with the License.\n",
    "# You may obtain a copy of the License at\n",
    "# \n",
    "#     http://www.apache.org/licenses/LICENSE-2.0\n",
    "# \n",
    "# Unless required by applicable law or agreed to in writing, software\n",
    "# distributed under the License is distributed on an \"AS IS\" BASIS,\n",
    "# WITHOUT WARRANTIES OR CONDITIONS OF ANY KIND, either express or implied.\n",
    "# See the License for the specific language governing permissions and\n",
    "# limitations under the License."
   ]
  },
  {
   "cell_type": "markdown",
   "metadata": {},
   "source": [
    "# IBERT eye scan example"
   ]
  },
  {
   "cell_type": "markdown",
   "metadata": {},
   "source": [
    "## Description\n",
    "This demo shows how to do four things:\n",
    "1. Connect to a Versal target device via ChipScope Server (cs_server) and Hardware Server (hw_server)\n",
    "2. Program a Versal target device using a design PDI file\n",
    "3. Create eye scans + start/stop them\n",
    "4. View/Save eye scan plots\n",
    "\n",
    "## Requirements\n",
    "The following is required to run this demo:\n",
    "1. Local or remote access to a Versal device\n",
    "2. 2020.2 cs_server and hw_server applications\n",
    "3. Python 3.7 environment\n",
    "4. ChipScoPy pip installed\n",
    "5. Jupyter notebook support installed - Please do so, using the command `pip install chipscopy[jupyter]`\n",
    "6. Plotting support installed - Please do so, using the command `pip install chipscopy[plotly]`"
   ]
  },
  {
   "cell_type": "markdown",
   "metadata": {},
   "source": [
    "## Step 1 - Setup the environment"
   ]
  },
  {
   "cell_type": "code",
   "execution_count": null,
   "metadata": {
    "jupyter": {
     "outputs_hidden": false
    },
    "lines_to_next_cell": 2,
    "pycharm": {
     "name": "#%%\n"
    }
   },
   "outputs": [],
   "source": [
    "from pathlib import Path\n",
    "from more_itertools import one\n",
    "\n",
    "from rich.style import Style\n",
    "\n",
    "from chipscopy import create_session, report_versions, report_hierarchy\n",
    "from chipscopy.api.ibert.aliases import (\n",
    "    EYE_SCAN_HORZ_RANGE,\n",
    "    EYE_SCAN_VERT_RANGE,\n",
    "    EYE_SCAN_VERT_STEP,\n",
    "    EYE_SCAN_HORZ_STEP,\n",
    "    EYE_SCAN_TARGET_BER,\n",
    ")\n",
    "from chipscopy.api.ibert import create_eye_scans, create_links\n",
    "from chipscopy.utils.printer import printer\n",
    "\n",
    "CS_URL = \"TCP:localhost:3042\"\n",
    "HW_URL = \"TCP:xsjltlab40:3121\"\n",
    "\n",
    "# NOTE - To get refclk info for this design,\n",
    "#  please see the DESIGN_INFO.txt file in the same folder as the PDI\n",
    "EXAMPLES_DIR = Path.cwd().parent.parent\n",
    "PDI_FILE = EXAMPLES_DIR.joinpath(\n",
    "    \"designs\", \"vck190\", \"production\", \"2.0\", \"GTY\", \"all_quads_10G\", \"all_quads_10G.pdi\"\n",
    ")"
   ]
  },
  {
   "cell_type": "markdown",
   "metadata": {},
   "source": [
    "## Step 2 - Create a session and connect to the server"
   ]
  },
  {
   "cell_type": "code",
   "execution_count": null,
   "metadata": {
    "jupyter": {
     "outputs_hidden": false
    },
    "pycharm": {
     "name": "#%%\n"
    }
   },
   "outputs": [],
   "source": [
    "session = create_session(cs_server_url=CS_URL, hw_server_url=HW_URL)\n",
    "report_versions(session)\n",
    "\n",
    "device = session.devices.at(index=0)"
   ]
  },
  {
   "cell_type": "markdown",
   "metadata": {},
   "source": [
    "## Step 3 - Program the device with our example PDI"
   ]
  },
  {
   "cell_type": "code",
   "execution_count": null,
   "metadata": {
    "jupyter": {
     "outputs_hidden": false
    },
    "pycharm": {
     "name": "#%%\n"
    }
   },
   "outputs": [],
   "source": [
    "device.program(PDI_FILE)"
   ]
  },
  {
   "cell_type": "markdown",
   "metadata": {},
   "source": [
    "## Step 4 - Discover and setup the IBERT core"
   ]
  },
  {
   "cell_type": "code",
   "execution_count": null,
   "metadata": {
    "jupyter": {
     "outputs_hidden": false
    },
    "pycharm": {
     "name": "#%%\n"
    }
   },
   "outputs": [],
   "source": [
    "device.discover_and_setup_cores(ibert_scan=True)\n",
    "\n",
    "if len(device.ibert_cores) == 0:\n",
    "    printer(\"No IBERT core found! Exiting...\")\n",
    "    exit()\n",
    "\n",
    "# Use the first available IBERT core from the device\n",
    "ibert = device.ibert_cores.at(index=0)\n",
    "\n",
    "report_hierarchy(ibert)\n",
    "\n",
    "if len(ibert.gt_groups) == 0:\n",
    "    printer(\"No GT Groups available for use! Exiting...\")\n",
    "    exit()\n",
    "\n",
    "printer(f\"GT Groups available - {[gt_group_obj.name for gt_group_obj in ibert.gt_groups]}\")"
   ]
  },
  {
   "cell_type": "markdown",
   "metadata": {},
   "source": [
    "## Step 5 - Get first available Quad and all the 4 channels in it"
   ]
  },
  {
   "cell_type": "code",
   "execution_count": null,
   "metadata": {
    "jupyter": {
     "outputs_hidden": false
    },
    "pycharm": {
     "name": "#%%\n"
    }
   },
   "outputs": [],
   "source": [
    "first_quad = ibert.gt_groups.at(0)\n",
    "ch_0 = one(first_quad.gts.filter_by(name=\"CH_0\"))\n",
    "ch_1 = one(first_quad.gts.filter_by(name=\"CH_1\"))\n",
    "ch_2 = one(first_quad.gts.filter_by(name=\"CH_2\"))\n",
    "ch_3 = one(first_quad.gts.filter_by(name=\"CH_3\"))"
   ]
  },
  {
   "cell_type": "markdown",
   "metadata": {},
   "source": [
    "## Step 6 - Create scan using RX"
   ]
  },
  {
   "cell_type": "code",
   "execution_count": null,
   "metadata": {
    "lines_to_next_cell": 2,
    "pycharm": {
     "name": "#%%\n"
    }
   },
   "outputs": [],
   "source": [
    "eye_scan_0 = one(create_eye_scans(target_objs=ch_0.rx))\n",
    "\n",
    "printer([\"Created new eye scan \", f\"{eye_scan_0}\"], styles=[\"\", Style(bold=True)])\n",
    "\n",
    "printer(f\"Supported params for {eye_scan_0.name}\")\n",
    "for param in eye_scan_0.params.values():\n",
    "    print(\n",
    "        f\"{param.name}\\n\"\n",
    "        f\"\\tModifiable: {param.modifiable}\\n\"\n",
    "        f\"\\tValid values: {param.valid_values}\\n\"\n",
    "        f\"\\tDefault value: {param.default_value}\\n\"\n",
    "    )"
   ]
  },
  {
   "cell_type": "markdown",
   "metadata": {},
   "source": [
    "## Step 7 - Set the eye scan parameters, start the eye scan & wait for it to complete"
   ]
  },
  {
   "cell_type": "code",
   "execution_count": null,
   "metadata": {
    "pycharm": {
     "name": "#%%\n"
    }
   },
   "outputs": [],
   "source": [
    "eye_scan_0.params[EYE_SCAN_HORZ_STEP].value = 1\n",
    "eye_scan_0.params[EYE_SCAN_VERT_STEP].value = 1\n",
    "eye_scan_0.params[EYE_SCAN_HORZ_RANGE].value = \"-0.500 UI to 0.500 UI\"\n",
    "eye_scan_0.params[EYE_SCAN_VERT_RANGE].value = \"100%\"\n",
    "eye_scan_0.params[EYE_SCAN_TARGET_BER].value = 1e-5\n",
    "\n",
    "eye_scan_0.start()\n",
    "\n",
    "eye_scan_0.wait_till_done()"
   ]
  },
  {
   "cell_type": "markdown",
   "metadata": {},
   "source": [
    "## Step 8 - View eye_scan_0.\n",
    "#### This requires Plotly to be installed. See how to install it [here](https://pages.gitenterprise.xilinx.com/chipscope/chipscopy/2020.2/ibert/scan.html#scan-plots)\n",
    "#### The plot may not display if this notebook is run in Jupyter Lab. For details, see [link](https://plotly.com/python/getting-started/#jupyterlab-support-python-35)"
   ]
  },
  {
   "cell_type": "code",
   "execution_count": null,
   "metadata": {
    "pycharm": {
     "name": "#%%\n"
    }
   },
   "outputs": [],
   "source": [
    "eye_scan_0.plot.show()"
   ]
  },
  {
   "cell_type": "markdown",
   "metadata": {
    "pycharm": {
     "name": "#%% md\n"
    }
   },
   "source": [
    "## Step 9 - Generate report for the scan."
   ]
  },
  {
   "cell_type": "code",
   "execution_count": null,
   "metadata": {
    "lines_to_next_cell": 2,
    "pycharm": {
     "name": "#%%\n"
    }
   },
   "outputs": [],
   "source": [
    "eye_scan_0.generate_report()"
   ]
  },
  {
   "cell_type": "markdown",
   "metadata": {},
   "source": [
    "## Step 10 - Create scan using Link"
   ]
  },
  {
   "cell_type": "code",
   "execution_count": null,
   "metadata": {
    "jupyter": {
     "outputs_hidden": false
    },
    "pycharm": {
     "name": "#%%\n"
    }
   },
   "outputs": [],
   "source": [
    "link_0 = one(create_links(rxs=ch_1.rx, txs=ch_1.tx))\n",
    "\n",
    "eye_scan_1 = one(create_eye_scans(target_objs=link_0))\n",
    "\n",
    "printer([\"Created new eye scan \", f\"{eye_scan_1}\"], styles=[\"\", Style(bold=True)])\n",
    "\n",
    "printer(f\"Supported params for {eye_scan_1.name}\")\n",
    "for param in eye_scan_1.params.values():\n",
    "    print(\n",
    "        f\"{param.name}\\n\"\n",
    "        f\"\\tModifiable: {param.modifiable}\\n\"\n",
    "        f\"\\tValid values: {param.valid_values}\\n\"\n",
    "        f\"\\tDefault value: {param.default_value}\\n\"\n",
    "    )"
   ]
  },
  {
   "cell_type": "markdown",
   "metadata": {},
   "source": [
    "## Step 11 - Start the eye scan and wait till it's done"
   ]
  },
  {
   "cell_type": "code",
   "execution_count": null,
   "metadata": {
    "jupyter": {
     "outputs_hidden": false
    },
    "pycharm": {
     "name": "#%%\n"
    }
   },
   "outputs": [],
   "source": [
    "eye_scan_1.params[EYE_SCAN_HORZ_STEP].value = 1\n",
    "eye_scan_1.params[EYE_SCAN_VERT_STEP].value = 1\n",
    "eye_scan_1.params[EYE_SCAN_HORZ_RANGE].value = \"-0.500 UI to 0.500 UI\"\n",
    "eye_scan_1.params[EYE_SCAN_VERT_RANGE].value = \"100%\"\n",
    "eye_scan_1.params[EYE_SCAN_TARGET_BER].value = 1e-5\n",
    "\n",
    "eye_scan_1.start()\n",
    "\n",
    "eye_scan_1.wait_till_done()"
   ]
  },
  {
   "cell_type": "markdown",
   "metadata": {},
   "source": [
    "## Step 12 - View eye_scan_1.\n",
    "#### This requires Plotly to be installed. See how to install it [here](https://pages.gitenterprise.xilinx.com/chipscope/chipscopy/2020.3/ibert/scan.html#scan-plots)\n",
    "#### The plot may not display if this notebook is run in Jupyter Lab. For details, see [link](https://plotly.com/python/getting-started/#jupyterlab-support-python-35)"
   ]
  },
  {
   "cell_type": "code",
   "execution_count": null,
   "metadata": {
    "lines_to_next_cell": 2,
    "pycharm": {
     "name": "#%%\n"
    }
   },
   "outputs": [],
   "source": [
    "eye_scan_1.plot.show()"
   ]
  },
  {
   "cell_type": "markdown",
   "metadata": {},
   "source": [
    "## Step 13 - Generate report for the scan."
   ]
  },
  {
   "cell_type": "code",
   "execution_count": null,
   "metadata": {
    "pycharm": {
     "name": "#%%\n"
    }
   },
   "outputs": [],
   "source": [
    "eye_scan_1.generate_report()"
   ]
  },
  {
   "cell_type": "code",
   "execution_count": null,
   "metadata": {},
   "outputs": [],
   "source": []
  }
 ],
 "metadata": {
  "jupytext": {
   "formats": "ipynb,py:percent"
  },
  "kernelspec": {
   "display_name": "Python 3",
   "language": "python",
   "name": "python3"
  },
  "language_info": {
   "codemirror_mode": {
    "name": "ipython",
    "version": 3
   },
   "file_extension": ".py",
   "mimetype": "text/x-python",
   "name": "python",
   "nbconvert_exporter": "python",
   "pygments_lexer": "ipython3",
   "version": "3.8.8"
  }
 },
 "nbformat": 4,
 "nbformat_minor": 4
}
