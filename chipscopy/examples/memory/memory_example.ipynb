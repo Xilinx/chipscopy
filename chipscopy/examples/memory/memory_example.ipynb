{
 "cells": [
  {
   "cell_type": "markdown",
   "id": "776b166e",
   "metadata": {
    "collapsed": false,
    "papermill": {
     "duration": 0.003831,
     "end_time": "2023-06-07T20:52:48.138172",
     "exception": false,
     "start_time": "2023-06-07T20:52:48.134341",
     "status": "completed"
    },
    "tags": []
   },
   "source": [
    "<link rel=\"preconnect\" href=\"https://fonts.gstatic.com\">\n",
    "<link href=\"https://fonts.googleapis.com/css2?family=Fira+Code&display=swap\" rel=\"stylesheet\">\n",
    "\n",
    "### License\n",
    "\n",
    "<p style=\"font-family: 'Fira Code', monospace; font-size: 1.2rem\">\n",
    "Copyright (c) 2021-2022 Xilinx, Inc.<br>\n",
    "Copyright (c) 2022-2023 Advanced Micro Devices, Inc.<br><br>\n",
    "Licensed under the Apache License, Version 2.0 (the \"License\");<br>\n",
    "you may not use this file except in compliance with the License.<br><br>\n",
    "You may obtain a copy of the License at <a href=\"http://www.apache.org/licenses/LICENSE-2.0\"?>http://www.apache.org/licenses/LICENSE-2.0</a><br><br>\n",
    "Unless required by applicable law or agreed to in writing, software<br>\n",
    "distributed under the License is distributed on an \"AS IS\" BASIS,<br>\n",
    "WITHOUT WARRANTIES OR CONDITIONS OF ANY KIND, either express or implied.<br>\n",
    "See the License for the specific language governing permissions and<br>\n",
    "limitations under the License.<br>\n",
    "</p>\n"
   ]
  },
  {
   "cell_type": "markdown",
   "id": "0425717a",
   "metadata": {
    "papermill": {
     "duration": 0.002577,
     "end_time": "2023-06-07T20:52:48.143887",
     "exception": false,
     "start_time": "2023-06-07T20:52:48.141310",
     "status": "completed"
    },
    "tags": []
   },
   "source": [
    "# ChipScoPy Memory Read and Write Example\n",
    "\n",
    "\n",
    "<img src=\"../img/api_overview.png\" width=\"500\" align=\"left\">"
   ]
  },
  {
   "cell_type": "markdown",
   "id": "1f5d52e1",
   "metadata": {
    "papermill": {
     "duration": 0.006067,
     "end_time": "2023-06-07T20:52:48.152774",
     "exception": false,
     "start_time": "2023-06-07T20:52:48.146707",
     "status": "completed"
    },
    "tags": []
   },
   "source": [
    "## Description\n",
    "This demo shows how to read and write memory in the device using the ChipScoPy Python API.\n",
    "\n",
    "\n",
    "## Requirements\n",
    "- Local or remote Xilinx Versal board, such as a VCK190\n",
    "- Xilinx hw_server 2022.2 installed and running\n",
    "- Python 3.8 or greater installed\n",
    "- ChipScoPy 2022.2 installed\n",
    "- Jupyter notebook support installed - Please do so, using the command `pip install chipscopy[jupyter]`"
   ]
  },
  {
   "cell_type": "markdown",
   "id": "4082e372",
   "metadata": {
    "papermill": {
     "duration": 0.002554,
     "end_time": "2023-06-07T20:52:48.157979",
     "exception": false,
     "start_time": "2023-06-07T20:52:48.155425",
     "status": "completed"
    },
    "tags": []
   },
   "source": [
    "## 1 - Initialization: Imports and File Paths\n",
    "\n",
    "After this step,\n",
    "- Required functions and classes are imported\n",
    "- Paths to server(s) and files are set correctly"
   ]
  },
  {
   "cell_type": "code",
   "execution_count": 1,
   "id": "e0352fdf",
   "metadata": {
    "execution": {
     "iopub.execute_input": "2023-06-07T20:52:48.170909Z",
     "iopub.status.busy": "2023-06-07T20:52:48.170469Z",
     "iopub.status.idle": "2023-06-07T20:52:48.519101Z",
     "shell.execute_reply": "2023-06-07T20:52:48.519413Z"
    },
    "papermill": {
     "duration": 0.358963,
     "end_time": "2023-06-07T20:52:48.519591",
     "exception": false,
     "start_time": "2023-06-07T20:52:48.160628",
     "status": "completed"
    },
    "tags": []
   },
   "outputs": [],
   "source": [
    "import os\n",
    "from chipscopy import get_design_files\n",
    "from chipscopy import create_session, report_versions"
   ]
  },
  {
   "cell_type": "code",
   "execution_count": 2,
   "id": "6a37c63d",
   "metadata": {
    "execution": {
     "iopub.execute_input": "2023-06-07T20:52:48.528606Z",
     "iopub.status.busy": "2023-06-07T20:52:48.528228Z",
     "iopub.status.idle": "2023-06-07T20:52:48.531490Z",
     "shell.execute_reply": "2023-06-07T20:52:48.531130Z"
    },
    "papermill": {
     "duration": 0.008631,
     "end_time": "2023-06-07T20:52:48.531570",
     "exception": false,
     "start_time": "2023-06-07T20:52:48.522939",
     "status": "completed"
    },
    "tags": []
   },
   "outputs": [
    {
     "name": "stdout",
     "output_type": "stream",
     "text": [
      "HW_URL=TCP:localhost:3121\n"
     ]
    }
   ],
   "source": [
    "# Make sure to start the hw_server prior to running.\n",
    "# Specify location of the running hw_server below.\n",
    "# The default is localhost - but can be other locations on the network.\n",
    "HW_URL = os.getenv(\"HW_SERVER_URL\", \"TCP:localhost:3121\")\n",
    "print(f\"HW_URL={HW_URL}\")"
   ]
  },
  {
   "cell_type": "markdown",
   "id": "65040b30",
   "metadata": {
    "papermill": {
     "duration": 0.002819,
     "end_time": "2023-06-07T20:52:48.537250",
     "exception": false,
     "start_time": "2023-06-07T20:52:48.534431",
     "status": "completed"
    },
    "tags": []
   },
   "source": [
    "## 2 - Create a session and connect to the hw_server\n",
    "\n",
    "The session is a container that keeps track of devices and debug cores.\n",
    "After this step,\n",
    "- Session is initialized and connected to server(s)\n",
    "- Versions are detected and reported to stdout\n",
    "\n",
    "*NOTE*: No cs_server is required for this example."
   ]
  },
  {
   "cell_type": "code",
   "execution_count": 3,
   "id": "d793caa8",
   "metadata": {
    "execution": {
     "iopub.execute_input": "2023-06-07T20:52:48.546063Z",
     "iopub.status.busy": "2023-06-07T20:52:48.545720Z",
     "iopub.status.idle": "2023-06-07T20:52:49.287796Z",
     "shell.execute_reply": "2023-06-07T20:52:49.287410Z"
    },
    "papermill": {
     "duration": 0.747694,
     "end_time": "2023-06-07T20:52:49.287912",
     "exception": false,
     "start_time": "2023-06-07T20:52:48.540218",
     "status": "completed"
    },
    "tags": []
   },
   "outputs": [
    {
     "data": {
      "text/html": [
       "<pre style=\"white-space:pre;overflow-x:auto;line-height:normal;font-family:Menlo,'DejaVu Sans Mono',consolas,'Courier New',monospace\">\n",
       "\n",
       "</pre>\n"
      ],
      "text/plain": [
       "<rich.jupyter.JupyterRenderable at 0x7f9f11d68520>"
      ]
     },
     "metadata": {},
     "output_type": "display_data"
    },
    {
     "data": {
      "text/html": [
       "<pre style=\"white-space:pre;overflow-x:auto;line-height:normal;font-family:Menlo,'DejaVu Sans Mono',consolas,'Courier New',monospace\"><span style=\"font-style: italic\">                      ChipScoPy Version Information                      </span>\n",
       "┌────────────────────────────┬──────────────────────────────────────────┐\n",
       "│<span style=\"font-weight: bold\">                     Entity </span>│<span style=\"font-weight: bold\"> Version                                  </span>│\n",
       "├────────────────────────────┼──────────────────────────────────────────┤\n",
       "│                  ChipScoPy │ ┌───────────┬──────────────────────┐     │\n",
       "│                            │ │<span style=\"font-weight: bold\"> Attribute </span>│<span style=\"font-weight: bold\"> Value                </span>│     │\n",
       "│                            │ ├───────────┼──────────────────────┤     │\n",
       "│                            │ │     Build │ 2023.1.1685656083    │     │\n",
       "│                            │ │ Timestamp │ Jun 01 2023-15:48:03 │     │\n",
       "│                            │ └───────────┴──────────────────────┘     │\n",
       "│                            │                                          │\n",
       "│ hw_server @ localhost:3121 │ ┌───────────┬──────────────────────────┐ │\n",
       "│                            │ │<span style=\"font-weight: bold\"> Attribute </span>│<span style=\"font-weight: bold\"> Value                    </span>│ │\n",
       "│                            │ ├───────────┼──────────────────────────┤ │\n",
       "│                            │ │    Status │ Connected                │ │\n",
       "│                            │ │     Build │ 1683493450               │ │\n",
       "│                            │ │   Version │ 2023.1                   │ │\n",
       "│                            │ │ Timestamp │ Sun May  7 15:04:10 2023 │ │\n",
       "│                            │ └───────────┴──────────────────────────┘ │\n",
       "└────────────────────────────┴──────────────────────────────────────────┘\n",
       "</pre>\n"
      ],
      "text/plain": [
       "<rich.jupyter.JupyterRenderable at 0x7f9f11d68520>"
      ]
     },
     "metadata": {},
     "output_type": "display_data"
    },
    {
     "data": {
      "text/html": [
       "<pre style=\"white-space:pre;overflow-x:auto;line-height:normal;font-family:Menlo,'DejaVu Sans Mono',consolas,'Courier New',monospace\">\n",
       "\n",
       "</pre>\n"
      ],
      "text/plain": [
       "<rich.jupyter.JupyterRenderable at 0x7f9f11d73ca0>"
      ]
     },
     "metadata": {},
     "output_type": "display_data"
    }
   ],
   "source": [
    "session = create_session(hw_server_url=HW_URL)\n",
    "report_versions(session)"
   ]
  },
  {
   "cell_type": "markdown",
   "id": "a32fae26",
   "metadata": {
    "papermill": {
     "duration": 0.004415,
     "end_time": "2023-06-07T20:52:49.297472",
     "exception": false,
     "start_time": "2023-06-07T20:52:49.293057",
     "status": "completed"
    },
    "tags": []
   },
   "source": [
    "## Step 3 - Get the device from the session"
   ]
  },
  {
   "cell_type": "code",
   "execution_count": 4,
   "id": "d727f481",
   "metadata": {
    "execution": {
     "iopub.execute_input": "2023-06-07T20:52:49.309270Z",
     "iopub.status.busy": "2023-06-07T20:52:49.307007Z",
     "iopub.status.idle": "2023-06-07T20:52:49.582585Z",
     "shell.execute_reply": "2023-06-07T20:52:49.582240Z"
    },
    "papermill": {
     "duration": 0.281849,
     "end_time": "2023-06-07T20:52:49.582690",
     "exception": false,
     "start_time": "2023-06-07T20:52:49.300841",
     "status": "completed"
    },
    "tags": []
   },
   "outputs": [
    {
     "name": "stdout",
     "output_type": "stream",
     "text": [
      "xcvc1902:255211775190703847597622315241645843330:jsn-VC-E-A2197 FT4232H-12805005A064A-14ca8093-0\n"
     ]
    }
   ],
   "source": [
    "# Typical case - one device on the board - get it.\n",
    "versal_device = session.devices.filter_by(family=\"versal\").get()\n",
    "print(versal_device)"
   ]
  },
  {
   "cell_type": "markdown",
   "id": "11545b36",
   "metadata": {
    "papermill": {
     "duration": 0.003049,
     "end_time": "2023-06-07T20:52:49.589604",
     "exception": false,
     "start_time": "2023-06-07T20:52:49.586555",
     "status": "completed"
    },
    "tags": []
   },
   "source": [
    "## Step 4 - Reset the device"
   ]
  },
  {
   "cell_type": "code",
   "execution_count": 5,
   "id": "260e68ac",
   "metadata": {
    "execution": {
     "iopub.execute_input": "2023-06-07T20:52:49.599602Z",
     "iopub.status.busy": "2023-06-07T20:52:49.599234Z",
     "iopub.status.idle": "2023-06-07T20:52:50.640975Z",
     "shell.execute_reply": "2023-06-07T20:52:50.640605Z"
    },
    "papermill": {
     "duration": 1.048421,
     "end_time": "2023-06-07T20:52:50.641067",
     "exception": false,
     "start_time": "2023-06-07T20:52:49.592646",
     "status": "completed"
    },
    "tags": []
   },
   "outputs": [
    {
     "name": "stdout",
     "output_type": "stream",
     "text": [
      "Reset complete.\n"
     ]
    }
   ],
   "source": [
    "versal_device.reset()\n",
    "print(\"Reset complete.\")"
   ]
  },
  {
   "cell_type": "markdown",
   "id": "4a932d96",
   "metadata": {
    "papermill": {
     "duration": 0.00301,
     "end_time": "2023-06-07T20:52:50.647785",
     "exception": false,
     "start_time": "2023-06-07T20:52:50.644775",
     "status": "completed"
    },
    "tags": []
   },
   "source": [
    "## Step 5 - Write and Read memory\n",
    "\n",
    "\n",
    "ChipScoPy can be used to read and write memory using the hardware server.\n",
    "Memory reads and writes work similar to xsdb mrd and mwr commands.\n"
   ]
  },
  {
   "cell_type": "markdown",
   "id": "30abb175",
   "metadata": {
    "papermill": {
     "duration": 0.003078,
     "end_time": "2023-06-07T20:52:50.653973",
     "exception": false,
     "start_time": "2023-06-07T20:52:50.650895",
     "status": "completed"
    },
    "tags": []
   },
   "source": [
    "### Show the list of all memory targets\n",
    "\n",
    "Memory targets in this list can be used for memory_read and memory_write\n",
    "operations."
   ]
  },
  {
   "cell_type": "code",
   "execution_count": 6,
   "id": "47659d53",
   "metadata": {
    "execution": {
     "iopub.execute_input": "2023-06-07T20:52:50.666547Z",
     "iopub.status.busy": "2023-06-07T20:52:50.666183Z",
     "iopub.status.idle": "2023-06-07T20:52:50.672611Z",
     "shell.execute_reply": "2023-06-07T20:52:50.672267Z"
    },
    "papermill": {
     "duration": 0.015543,
     "end_time": "2023-06-07T20:52:50.672706",
     "exception": false,
     "start_time": "2023-06-07T20:52:50.657163",
     "status": "completed"
    },
    "tags": []
   },
   "outputs": [
    {
     "name": "stdout",
     "output_type": "stream",
     "text": [
      "\n",
      "Memory Targets:  ['DPC', 'Versal xcvc1902', 'PSM', 'PPU', 'MicroBlaze PPU', 'APU', 'Cortex-A72 #1', 'Cortex-A72 #0', 'RPU', 'Cortex-R5 #1', 'Cortex-R5 #0']\n"
     ]
    }
   ],
   "source": [
    "print(\"\\nMemory Targets: \", versal_device.memory_target_names)"
   ]
  },
  {
   "cell_type": "markdown",
   "id": "68590cd3",
   "metadata": {
    "papermill": {
     "duration": 0.00328,
     "end_time": "2023-06-07T20:52:50.679583",
     "exception": false,
     "start_time": "2023-06-07T20:52:50.676303",
     "status": "completed"
    },
    "tags": []
   },
   "source": [
    "### Simple Write and read memory example\n",
    "\n",
    "This is the most basic memory_read and memory_write example using the default\n",
    "DPC memory target.\n",
    "\n",
    "Below we write 32-bit values to the specified address and read them back."
   ]
  },
  {
   "cell_type": "code",
   "execution_count": 7,
   "id": "cb7ac710",
   "metadata": {
    "execution": {
     "iopub.execute_input": "2023-06-07T20:52:50.690268Z",
     "iopub.status.busy": "2023-06-07T20:52:50.689712Z",
     "iopub.status.idle": "2023-06-07T20:52:52.054813Z",
     "shell.execute_reply": "2023-06-07T20:52:52.054434Z"
    },
    "papermill": {
     "duration": 1.372144,
     "end_time": "2023-06-07T20:52:52.054904",
     "exception": false,
     "start_time": "2023-06-07T20:52:50.682760",
     "status": "completed"
    },
    "tags": []
   },
   "outputs": [
    {
     "name": "stdout",
     "output_type": "stream",
     "text": [
      "\n",
      "Writing [0x10111213, 0x14151617] to address: 0xf2010000\n"
     ]
    },
    {
     "name": "stdout",
     "output_type": "stream",
     "text": [
      "Reading 2 values from address: hex(addr)\n",
      "Readback result: [0x10111213, 0x14151617]\n"
     ]
    }
   ],
   "source": [
    "addr = 0xF2010000\n",
    "values_to_write = [0x10111213, 0x14151617]\n",
    "\n",
    "print(\"\\nWriting [{}]\".format(\", \".join(hex(x) for x in values_to_write)), \"to address:\", hex(addr))\n",
    "# Write to the DPC default target\n",
    "versal_device.memory_write(addr, values_to_write)\n",
    "\n",
    "print(f\"Reading {len(values_to_write)} values from address: hex(addr)\")\n",
    "read_values = versal_device.memory_read(address=addr, num=len(values_to_write))\n",
    "\n",
    "print(\"Readback result: [{}]\".format(\", \".join(hex(x) for x in read_values)))\n",
    "\n",
    "assert read_values == values_to_write"
   ]
  },
  {
   "cell_type": "markdown",
   "id": "0dc4bed1",
   "metadata": {
    "papermill": {
     "duration": 0.003549,
     "end_time": "2023-06-07T20:52:52.062652",
     "exception": false,
     "start_time": "2023-06-07T20:52:52.059103",
     "status": "completed"
    },
    "tags": []
   },
   "source": [
    "### Changing Memory Read/Write Word Sizes\n",
    "\n",
    "It is possible to specify the word size when reading and writing.\n",
    "Default is 'w'. Other sizes shown below.\n",
    "```\n",
    "'b'=byte\n",
    "'h'=half\n",
    "'w'=word\n",
    "'d'=double word\n",
    "```"
   ]
  },
  {
   "cell_type": "code",
   "execution_count": 8,
   "id": "bbcf2f56",
   "metadata": {
    "execution": {
     "iopub.execute_input": "2023-06-07T20:52:52.077293Z",
     "iopub.status.busy": "2023-06-07T20:52:52.076940Z",
     "iopub.status.idle": "2023-06-07T20:52:52.216901Z",
     "shell.execute_reply": "2023-06-07T20:52:52.216546Z"
    },
    "papermill": {
     "duration": 0.151126,
     "end_time": "2023-06-07T20:52:52.216990",
     "exception": false,
     "start_time": "2023-06-07T20:52:52.065864",
     "status": "completed"
    },
    "tags": []
   },
   "outputs": [
    {
     "name": "stdout",
     "output_type": "stream",
     "text": [
      "\n",
      "Writing [0x10, 0x11, 0x12, 0x13, 0x14, 0x15, 0x16, 0x17] to address: 0xf2010000\n",
      "Reading from address:  0xf2010000\n",
      "Readback result: [0x10, 0x11, 0x12, 0x13, 0x14, 0x15, 0x16, 0x17]\n",
      "\n",
      "Writing [0x1000, 0x1234, 0x4321, 0x1313, 0x1414, 0x1515, 0x1616, 0x1717] to address: 0xf2010000\n",
      "Reading from address:  0xf2010000\n",
      "Readback result: [0x1000, 0x1234, 0x4321, 0x1313, 0x1414, 0x1515, 0x1616, 0x1717]\n"
     ]
    }
   ],
   "source": [
    "addr = 0xF2010000\n",
    "values_to_write = [0x10, 0x11, 0x12, 0x13, 0x14, 0x15, 0x16, 0x17]\n",
    "\n",
    "print(\"\\nWriting [{}]\".format(\", \".join(hex(x) for x in values_to_write)), \"to address:\", hex(addr))\n",
    "versal_device.memory_write(addr, values_to_write, size=\"b\")\n",
    "\n",
    "print(\"Reading from address: \", hex(addr))\n",
    "read_values = versal_device.memory_read(address=addr, size=\"b\", num=len(values_to_write))\n",
    "print(\"Readback result: [{}]\".format(\", \".join(hex(x) for x in read_values)))\n",
    "assert read_values == values_to_write\n",
    "\n",
    "values_to_write = [0x1000, 0x1234, 0x4321, 0x1313, 0x1414, 0x1515, 0x1616, 0x1717]\n",
    "print(\"\\nWriting [{}]\".format(\", \".join(hex(x) for x in values_to_write)), \"to address:\", hex(addr))\n",
    "versal_device.memory_write(addr, values_to_write, size=\"h\")\n",
    "\n",
    "print(\"Reading from address: \", hex(addr))\n",
    "read_values = versal_device.memory_read(address=addr, size=\"h\", num=len(values_to_write))\n",
    "print(\"Readback result: [{}]\".format(\", \".join(hex(x) for x in read_values)))\n",
    "assert read_values == values_to_write"
   ]
  },
  {
   "cell_type": "markdown",
   "id": "5e75fa5b",
   "metadata": {
    "papermill": {
     "duration": 0.003661,
     "end_time": "2023-06-07T20:52:52.224341",
     "exception": false,
     "start_time": "2023-06-07T20:52:52.220680",
     "status": "completed"
    },
    "tags": []
   },
   "source": [
    "### Selecting different memory targets and improving performance\n",
    "\n",
    "The examples above use the device class for memory_read() and memory_write()\n",
    "operations. Using the device read and write is simple, but has additional\n",
    "overhead with each call to find the associated memory context.\n",
    "\n",
    "It is possible to explicitly request the memory context for a desired target.\n",
    "Once a memory context is obtained, memory_read and memory_write operations\n",
    "can be executed on that target repeatedly.\n",
    "\n",
    "This eliminate some of the additional overhead.\n",
    "\n",
    "The example below shows how to get a context to repeatedly read and write from\n",
    "different memory targets."
   ]
  },
  {
   "cell_type": "code",
   "execution_count": 9,
   "id": "8d399c2d",
   "metadata": {
    "execution": {
     "iopub.execute_input": "2023-06-07T20:52:52.240612Z",
     "iopub.status.busy": "2023-06-07T20:52:52.240059Z",
     "iopub.status.idle": "2023-06-07T20:52:52.947094Z",
     "shell.execute_reply": "2023-06-07T20:52:52.946687Z"
    },
    "papermill": {
     "duration": 0.719677,
     "end_time": "2023-06-07T20:52:52.947196",
     "exception": false,
     "start_time": "2023-06-07T20:52:52.227519",
     "status": "completed"
    },
    "tags": []
   },
   "outputs": [
    {
     "name": "stdout",
     "output_type": "stream",
     "text": [
      "\n",
      "DPC: Writing [0x12345678, 0xfedcba98] to address: 0xf2010000\n",
      "APU: Reading from address:  0xf2010000\n"
     ]
    },
    {
     "name": "stdout",
     "output_type": "stream",
     "text": [
      "Readback result: [0x12345678, 0xfedcba98]\n",
      "\n",
      "DPC: Writing [0x12345679, 0xfedcba97] to address: 0xf2010000\n",
      "APU: Reading from address:  0xf2010000\n",
      "Readback result: [0x12345679, 0xfedcba97]\n",
      "\n",
      "DPC: Writing [0x1234567a, 0xfedcba96] to address: 0xf2010000\n",
      "APU: Reading from address:  0xf2010000\n"
     ]
    },
    {
     "name": "stdout",
     "output_type": "stream",
     "text": [
      "Readback result: [0x1234567a, 0xfedcba96]\n",
      "\n",
      "DPC: Writing [0x1234567b, 0xfedcba95] to address: 0xf2010000\n",
      "APU: Reading from address:  0xf2010000\n"
     ]
    },
    {
     "name": "stdout",
     "output_type": "stream",
     "text": [
      "Readback result: [0x1234567b, 0xfedcba95]\n",
      "\n",
      "DPC: Writing [0x1234567c, 0xfedcba94] to address: 0xf2010000\n",
      "APU: Reading from address:  0xf2010000\n",
      "Readback result: [0x1234567c, 0xfedcba94]\n",
      "\n",
      "DPC: Writing [0x1234567d, 0xfedcba93] to address: 0xf2010000\n",
      "APU: Reading from address:  0xf2010000\n"
     ]
    },
    {
     "name": "stdout",
     "output_type": "stream",
     "text": [
      "Readback result: [0x1234567d, 0xfedcba93]\n",
      "\n",
      "DPC: Writing [0x1234567e, 0xfedcba92] to address: 0xf2010000\n",
      "APU: Reading from address:  0xf2010000\n"
     ]
    },
    {
     "name": "stdout",
     "output_type": "stream",
     "text": [
      "Readback result: [0x1234567e, 0xfedcba92]\n",
      "\n",
      "DPC: Writing [0x1234567f, 0xfedcba91] to address: 0xf2010000\n",
      "APU: Reading from address:  0xf2010000\n",
      "Readback result: [0x1234567f, 0xfedcba91]\n",
      "\n",
      "DPC: Writing [0x12345680, 0xfedcba90] to address: 0xf2010000\n",
      "APU: Reading from address:  0xf2010000\n"
     ]
    },
    {
     "name": "stdout",
     "output_type": "stream",
     "text": [
      "Readback result: [0x12345680, 0xfedcba90]\n",
      "\n",
      "DPC: Writing [0x12345681, 0xfedcba8f] to address: 0xf2010000\n",
      "APU: Reading from address:  0xf2010000\n"
     ]
    },
    {
     "name": "stdout",
     "output_type": "stream",
     "text": [
      "Readback result: [0x12345681, 0xfedcba8f]\n"
     ]
    }
   ],
   "source": [
    "addr = 0xF2010000\n",
    "dpc = versal_device.memory.get(name=\"DPC\")\n",
    "apu = versal_device.memory.get(name=\"APU\")\n",
    "for i in range(10):\n",
    "    values_to_write = [0x12345678 + i, 0xFEDCBA98 - i]\n",
    "    # Write to the DPC without context lookup overhead\n",
    "    print(\n",
    "        \"\\nDPC: Writing [{}]\".format(\", \".join(hex(x) for x in values_to_write)),\n",
    "        \"to address:\",\n",
    "        hex(addr),\n",
    "    )\n",
    "    dpc.memory_write(addr, values_to_write)\n",
    "    # Read from the APU without context lookup overhead\n",
    "    print(\"APU: Reading from address: \", hex(addr))\n",
    "    read_values = apu.memory_read(address=addr, num=len(values_to_write))\n",
    "    print(\"Readback result: [{}]\".format(\", \".join(hex(x) for x in read_values)))\n",
    "    assert read_values == values_to_write"
   ]
  }
 ],
 "metadata": {
  "jupytext": {
   "cell_metadata_filter": "pycharm,-all",
   "formats": "ipynb,py"
  },
  "kernelspec": {
   "display_name": "Python 3 (ipykernel)",
   "language": "python",
   "name": "python3"
  },
  "language_info": {
   "codemirror_mode": {
    "name": "ipython",
    "version": 3
   },
   "file_extension": ".py",
   "mimetype": "text/x-python",
   "name": "python",
   "nbconvert_exporter": "python",
   "pygments_lexer": "ipython3",
   "version": "3.9.16"
  },
  "papermill": {
   "default_parameters": {},
   "duration": 7.203686,
   "end_time": "2023-06-07T20:52:54.174245",
   "environment_variables": {},
   "exception": null,
   "input_path": "memory_example.ipynb",
   "output_path": "output",
   "parameters": {},
   "start_time": "2023-06-07T20:52:46.970559",
   "version": "2.4.0"
  }
 },
 "nbformat": 4,
 "nbformat_minor": 5
}
