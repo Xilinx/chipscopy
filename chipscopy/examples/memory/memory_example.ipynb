{
 "cells": [
  {
   "cell_type": "code",
   "execution_count": 1,
   "metadata": {},
   "outputs": [],
   "source": [
    "# Copyright 2021 Xilinx, Inc.\n",
    "# \n",
    "# Licensed under the Apache License, Version 2.0 (the \"License\");\n",
    "# you may not use this file except in compliance with the License.\n",
    "# You may obtain a copy of the License at\n",
    "# \n",
    "#     http://www.apache.org/licenses/LICENSE-2.0\n",
    "# \n",
    "# Unless required by applicable law or agreed to in writing, software\n",
    "# distributed under the License is distributed on an \"AS IS\" BASIS,\n",
    "# WITHOUT WARRANTIES OR CONDITIONS OF ANY KIND, either express or implied.\n",
    "# See the License for the specific language governing permissions and\n",
    "# limitations under the License."
   ]
  },
  {
   "cell_type": "markdown",
   "metadata": {},
   "source": [
    "Memory Read and Write Example\n",
    "=============================\n",
    "\n",
    "Description\n",
    "-----------\n",
    "This demo shows how to do three things:\n",
    "1. Connect to a Versal target device via ChipScope Server (cs_server)\n",
    "   and Hardware Server (hw_server)\n",
    "2. Program a Versal target device using a design PDI file\n",
    "3. Read and write memory locations in a design\n",
    "\n",
    "Requirements\n",
    "------------\n",
    "The following is required to run this demo:\n",
    "1. Local or remote access to a Versal device\n",
    "2. cs_server and hw_server applications\n",
    "3. Python 3.7 or better\n",
    "4. Pip-installed chipscopy python package\n",
    "\n",
    "---"
   ]
  },
  {
   "cell_type": "markdown",
   "metadata": {},
   "source": [
    "## Step 1 - Set up environment"
   ]
  },
  {
   "cell_type": "code",
   "execution_count": 2,
   "metadata": {},
   "outputs": [
    {
     "name": "stdout",
     "output_type": "stream",
     "text": [
      "HW_URL=TCP:xsjmdarnall40x:3121\n",
      "PDI=C:\\Users\\mdarnall\\dev\\git\\chipscopy\\chipscopy\\examples/designs/vck190/production/2.0/ks_demo/ks_demo_wrapper.pdi\n"
     ]
    }
   ],
   "source": [
    "import os\n",
    "from chipscopy import get_examples_dir_or_die\n",
    "\n",
    "# Specify locations of the running hw_server and cs_server below.\n",
    "# For memory transactions, cs_server is not required.\n",
    "HW_URL = os.getenv(\"HW_SERVER_URL\", \"TCP:localhost:3121\")\n",
    "BOARD = os.getenv(\"HW_SERVER_BOARD\", \"vck190/production/2.0\")\n",
    "\n",
    "EXAMPLES_DIR = get_examples_dir_or_die()\n",
    "PDI_FILE = f\"{EXAMPLES_DIR}/designs/{BOARD}/ks_demo/ks_demo_wrapper.pdi\"\n",
    "assert os.path.isfile(PDI_FILE)\n",
    "\n",
    "print(f\"HW_URL={HW_URL}\")\n",
    "print(f\"PDI={PDI_FILE}\")"
   ]
  },
  {
   "cell_type": "markdown",
   "metadata": {},
   "source": [
    "## Step 2 - Create a session and connect to the hardware server\n",
    "Here we create a new session and print out some versioning information for diagnostic purposes."
   ]
  },
  {
   "cell_type": "code",
   "execution_count": 3,
   "metadata": {},
   "outputs": [
    {
     "data": {
      "text/html": [
       "<pre style=\"white-space:pre;overflow-x:auto;line-height:normal;font-family:Menlo,'DejaVu Sans Mono',consolas,'Courier New',monospace\">\n",
       "\n",
       "</pre>\n"
      ],
      "text/plain": [
       "<rich.jupyter.JupyterRenderable at 0x18822653280>"
      ]
     },
     "metadata": {},
     "output_type": "display_data"
    },
    {
     "data": {
      "text/html": [
       "<pre style=\"white-space:pre;overflow-x:auto;line-height:normal;font-family:Menlo,'DejaVu Sans Mono',consolas,'Courier New',monospace\"><span style=\"font-style: italic\">                        ChipScoPy Version Information                         </span>\n",
       "┌─────────────────────────────────┬──────────────────────────────────────────┐\n",
       "│<span style=\"font-weight: bold\">                          Entity </span>│<span style=\"font-weight: bold\"> Version                                  </span>│\n",
       "├─────────────────────────────────┼──────────────────────────────────────────┤\n",
       "│                       ChipScoPy │ ┌───────────┬──────────────────────┐     │\n",
       "│                                 │ │<span style=\"font-weight: bold\"> Attribute </span>│<span style=\"font-weight: bold\"> Value                </span>│     │\n",
       "│                                 │ ├───────────┼──────────────────────┤     │\n",
       "│                                 │ │     Build │ 2021.1.1614310630    │     │\n",
       "│                                 │ │ Timestamp │ Feb 25 2021-19:37:10 │     │\n",
       "│                                 │ └───────────┴──────────────────────┘     │\n",
       "│                                 │                                          │\n",
       "│ hw_server @ xsjmdarnall40x:3121 │ ┌───────────┬──────────────────────────┐ │\n",
       "│                                 │ │<span style=\"font-weight: bold\"> Attribute </span>│<span style=\"font-weight: bold\"> Value                    </span>│ │\n",
       "│                                 │ ├───────────┼──────────────────────────┤ │\n",
       "│                                 │ │    Status │ Connected                │ │\n",
       "│                                 │ │     Build │ 1617048689               │ │\n",
       "│                                 │ │   Version │ 2021.1.0                 │ │\n",
       "│                                 │ │ Timestamp │ Mon Mar 29 14:11:29 2021 │ │\n",
       "│                                 │ └───────────┴──────────────────────────┘ │\n",
       "└─────────────────────────────────┴──────────────────────────────────────────┘\n",
       "</pre>\n"
      ],
      "text/plain": [
       "<rich.jupyter.JupyterRenderable at 0x18822653280>"
      ]
     },
     "metadata": {},
     "output_type": "display_data"
    },
    {
     "data": {
      "text/html": [
       "<pre style=\"white-space:pre;overflow-x:auto;line-height:normal;font-family:Menlo,'DejaVu Sans Mono',consolas,'Courier New',monospace\">\n",
       "\n",
       "</pre>\n"
      ],
      "text/plain": [
       "<rich.jupyter.JupyterRenderable at 0x188226463a0>"
      ]
     },
     "metadata": {},
     "output_type": "display_data"
    }
   ],
   "source": [
    "from chipscopy import create_session, report_versions\n",
    "\n",
    "session = create_session(hw_server_url=HW_URL)\n",
    "report_versions(session)"
   ]
  },
  {
   "cell_type": "markdown",
   "metadata": {},
   "source": [
    "## Step 3 - Get our device from the session\n",
    "The session is a container that keeps track of devices and debug cores."
   ]
  },
  {
   "cell_type": "code",
   "execution_count": 4,
   "metadata": {},
   "outputs": [],
   "source": [
    "from more_itertools import one"
   ]
  },
  {
   "cell_type": "code",
   "execution_count": 5,
   "metadata": {},
   "outputs": [],
   "source": [
    "# Assume we have exactly one device - get it.\n",
    "if not session.devices:\n",
    "    raise ValueError(\"No devices detected\")\n",
    "versal_device = one(session.devices)"
   ]
  },
  {
   "cell_type": "markdown",
   "metadata": {},
   "source": [
    "## Step 4 - Program the device with our example PDI"
   ]
  },
  {
   "cell_type": "code",
   "execution_count": 6,
   "metadata": {},
   "outputs": [
    {
     "name": "stdout",
     "output_type": "stream",
     "text": [
      "Programming C:\\Users\\mdarnall\\dev\\git\\chipscopy\\chipscopy\\examples/designs/vck190/production/2.0/ks_demo/ks_demo_wrapper.pdi...\n"
     ]
    },
    {
     "data": {
      "text/html": [
       "<pre style=\"white-space:pre;overflow-x:auto;line-height:normal;font-family:Menlo,'DejaVu Sans Mono',consolas,'Courier New',monospace\">\n",
       "<span style=\"font-weight: bold\">--&gt; INFO: </span>Programming PDI file C:\\Users\\mdarnall\\dev\\git\\chipscopy\\chipscopy\\examples\\designs\n",
       "\\vck190\\production\\2.0\\ks_demo\\ks_demo_wrapper.pdi\n",
       "    \n",
       "</pre>\n"
      ],
      "text/plain": [
       "<rich.jupyter.JupyterRenderable at 0x18822663f10>"
      ]
     },
     "metadata": {},
     "output_type": "display_data"
    },
    {
     "data": {
      "application/vnd.jupyter.widget-view+json": {
       "model_id": "bb7dac74da9547eca6d5b896f742c32a",
       "version_major": 2,
       "version_minor": 0
      },
      "text/plain": [
       "Output()"
      ]
     },
     "metadata": {},
     "output_type": "display_data"
    }
   ],
   "source": [
    "print(f\"Programming {PDI_FILE}...\")\n",
    "versal_device.program(PDI_FILE)"
   ]
  },
  {
   "cell_type": "markdown",
   "metadata": {},
   "source": [
    "## Step 5 - Write and Read memory\n",
    "Memory writes and reads work similar to xsdb."
   ]
  },
  {
   "cell_type": "markdown",
   "metadata": {
    "pycharm": {
     "name": "#%% md\n"
    }
   },
   "source": [
    "### Show the list of all memory targets"
   ]
  },
  {
   "cell_type": "code",
   "execution_count": 7,
   "metadata": {
    "lines_to_next_cell": 2,
    "pycharm": {
     "name": "#%%\n"
    }
   },
   "outputs": [
    {
     "name": "stdout",
     "output_type": "stream",
     "text": [
      "\n",
      "Memory Targets:  ['DPC', 'Versal xcvc1902', 'PSM', 'PPU', 'MicroBlaze PPU', 'APU', 'Cortex-A72 #1', 'Cortex-A72 #0', 'RPU', 'Cortex-R5 #1', 'Cortex-R5 #0']\n"
     ]
    }
   ],
   "source": [
    "print(\"\\nMemory Targets: \", versal_device.memory_target_names)"
   ]
  },
  {
   "cell_type": "markdown",
   "metadata": {
    "pycharm": {
     "name": "#%% md\n"
    }
   },
   "source": [
    "### DPC Write and read memory example\n",
    "You can specify any target in the memory_target_names list. Not specifying a memory target\n",
    "defaults to the DPC."
   ]
  },
  {
   "cell_type": "code",
   "execution_count": 8,
   "metadata": {
    "lines_to_next_cell": 2,
    "pycharm": {
     "name": "#%%\n"
    }
   },
   "outputs": [
    {
     "name": "stdout",
     "output_type": "stream",
     "text": [
      "\n",
      "Writing [0x10111213, 0x14151617] to address: 0xf2010000\n",
      "\n",
      "Reading from address:  0xf2010000\n",
      "Result= [0x10111213, 0x14151617]\n"
     ]
    }
   ],
   "source": [
    "addr = 0xF2010000\n",
    "values = [0x10111213, 0x14151617]\n",
    "print(\"\\nWriting [{}]\".format(\", \".join(hex(x) for x in values)), \"to address:\", hex(addr))\n",
    "versal_device.memory_write(addr, values)\n",
    "\n",
    "print(\"\\nReading from address: \", hex(addr))\n",
    "result = versal_device.memory_read(address=addr, num=2)\n",
    "print(\"Result= [{}]\".format(\", \".join(hex(x) for x in result)))"
   ]
  },
  {
   "cell_type": "markdown",
   "metadata": {
    "pycharm": {
     "name": "#%% md\n"
    }
   },
   "source": [
    "### APU Write and read memory example\n",
    "You can specify a different target in the memory_target_names list for memory access.\n",
    "Here we use the APU instead of default DPC."
   ]
  },
  {
   "cell_type": "code",
   "execution_count": 9,
   "metadata": {
    "lines_to_next_cell": 2,
    "pycharm": {
     "name": "#%%\n"
    }
   },
   "outputs": [
    {
     "name": "stdout",
     "output_type": "stream",
     "text": [
      "\n",
      "Writing [0x12345678, 0xfedcba98] to address: 0xf2010000\n",
      "\n",
      "Reading from address:  0xf2010000\n",
      "Result= [0x12345678, 0xfedcba98]\n"
     ]
    }
   ],
   "source": [
    "addr = 0xF2010000\n",
    "values = [0x12345678, 0xFEDCBA98]\n",
    "print(\"\\nWriting [{}]\".format(\", \".join(hex(x) for x in values)), \"to address:\", hex(addr))\n",
    "versal_device.memory_write(addr, values, target=\"APU\")\n",
    "\n",
    "print(\"\\nReading from address: \", hex(addr))\n",
    "result = versal_device.memory_read(address=addr, num=2, target=\"APU\")\n",
    "print(\"Result= [{}]\".format(\", \".join(hex(x) for x in result)))"
   ]
  },
  {
   "cell_type": "markdown",
   "metadata": {
    "pycharm": {
     "name": "#%% md\n"
    }
   },
   "source": [
    "### Memory Word Sizes\n",
    "\n",
    "It is possible to specify the word size when reading and writing.\n",
    "'b'=byte, 'h'=half, 'w'=word, 'd'=double word"
   ]
  },
  {
   "cell_type": "code",
   "execution_count": 10,
   "metadata": {
    "pycharm": {
     "name": "#%%\n"
    }
   },
   "outputs": [
    {
     "name": "stdout",
     "output_type": "stream",
     "text": [
      "\n",
      "Writing [0x10, 0x11, 0x12, 0x13, 0x14, 0x15, 0x16, 0x17] to address: 0xf2010000\n",
      "\n",
      "Reading from address:  0xf2010000\n",
      "Result= [0x10, 0x11, 0x12, 0x13, 0x14, 0x15, 0x16, 0x17]\n",
      "\n",
      "Writing [0x1000, 0x1234, 0x4321, 0x1313, 0x1414, 0x1515, 0x1616, 0x1717] to address: 0xf2010000\n",
      "\n",
      "Reading from address:  0xf2010000\n",
      "Result= [0x1000, 0x1234, 0x4321, 0x1313, 0x1414, 0x1515, 0x1616, 0x1717]\n"
     ]
    }
   ],
   "source": [
    "addr = 0xF2010000\n",
    "values = [0x10, 0x11, 0x12, 0x13, 0x14, 0x15, 0x16, 0x17]\n",
    "print(\"\\nWriting [{}]\".format(\", \".join(hex(x) for x in values)), \"to address:\", hex(addr))\n",
    "versal_device.memory_write(addr, values, size=\"b\")\n",
    "\n",
    "print(\"\\nReading from address: \", hex(addr))\n",
    "result = versal_device.memory_read(address=addr, size=\"b\", num=8)\n",
    "print(\"Result= [{}]\".format(\", \".join(hex(x) for x in result)))\n",
    "\n",
    "values = [0x1000, 0x1234, 0x4321, 0x1313, 0x1414, 0x1515, 0x1616, 0x1717]\n",
    "print(\"\\nWriting [{}]\".format(\", \".join(hex(x) for x in values)), \"to address:\", hex(addr))\n",
    "versal_device.memory_write(addr, values, size=\"h\")\n",
    "\n",
    "print(\"\\nReading from address: \", hex(addr))\n",
    "result = versal_device.memory_read(address=addr, size=\"h\", num=8)\n",
    "print(\"Result= [{}]\".format(\", \".join(hex(x) for x in result)))"
   ]
  }
 ],
 "metadata": {
  "jupytext": {
   "cell_metadata_filter": "pycharm,-all",
   "formats": "examples///ipynb,examples///py:percent",
   "main_language": "python",
   "notebook_metadata_filter": "-all"
  },
  "kernelspec": {
   "display_name": "Python 3",
   "language": "python",
   "name": "python3"
  },
  "language_info": {
   "codemirror_mode": {
    "name": "ipython",
    "version": 3
   },
   "file_extension": ".py",
   "mimetype": "text/x-python",
   "name": "python",
   "nbconvert_exporter": "python",
   "pygments_lexer": "ipython3",
   "version": "3.8.8"
  }
 },
 "nbformat": 4,
 "nbformat_minor": 2
}
