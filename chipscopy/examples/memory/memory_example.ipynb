{
 "cells": [
  {
   "cell_type": "markdown",
   "id": "7e967de9",
   "metadata": {
    "papermill": {
     "duration": 0.003668,
     "end_time": "2023-10-24T22:08:28.858910",
     "exception": false,
     "start_time": "2023-10-24T22:08:28.855242",
     "status": "completed"
    },
    "tags": []
   },
   "source": [
    "<link rel=\"preconnect\" href=\"https://fonts.gstatic.com\">\n",
    "<link href=\"https://fonts.googleapis.com/css2?family=Fira+Code&display=swap\" rel=\"stylesheet\">\n",
    "\n",
    "### License\n",
    "\n",
    "<p style=\"font-family: 'Fira Code', monospace; font-size: 1.2rem\">\n",
    "Copyright (C) 2021-2022, Xilinx, Inc.\n",
    "Copyright (C) 2022-2023, Advanced Micro Devices, Inc.\n",
    "<br><br>\n",
    "Licensed under the Apache License, Version 2.0 (the \"License\");<br>\n",
    "you may not use this file except in compliance with the License.<br><br>\n",
    "You may obtain a copy of the License at <a href=\"http://www.apache.org/licenses/LICENSE-2.0\"?>http://www.apache.org/licenses/LICENSE-2.0</a><br><br>\n",
    "Unless required by applicable law or agreed to in writing, software<br>\n",
    "distributed under the License is distributed on an \"AS IS\" BASIS,<br>\n",
    "WITHOUT WARRANTIES OR CONDITIONS OF ANY KIND, either express or implied.<br>\n",
    "See the License for the specific language governing permissions and<br>\n",
    "limitations under the License.<br>\n",
    "</p>\n"
   ]
  },
  {
   "cell_type": "markdown",
   "id": "9a9ecfb4",
   "metadata": {
    "papermill": {
     "duration": 0.002738,
     "end_time": "2023-10-24T22:08:28.864926",
     "exception": false,
     "start_time": "2023-10-24T22:08:28.862188",
     "status": "completed"
    },
    "tags": []
   },
   "source": [
    "# ChipScoPy Memory Read and Write Example\n",
    "\n",
    "\n",
    "<img src=\"../img/api_overview.png\" width=\"500\" align=\"left\">"
   ]
  },
  {
   "cell_type": "markdown",
   "id": "4b0e0a9d",
   "metadata": {
    "papermill": {
     "duration": 0.00353,
     "end_time": "2023-10-24T22:08:28.871171",
     "exception": false,
     "start_time": "2023-10-24T22:08:28.867641",
     "status": "completed"
    },
    "tags": []
   },
   "source": [
    "## Description\n",
    "This demo shows how to read and write memory in the device using the ChipScoPy Python API.\n",
    "\n",
    "\n",
    "## Requirements\n",
    "- Local or remote Xilinx Versal board, such as a VCK190\n",
    "- Xilinx hw_server 2023.2 installed and running\n",
    "- Python 3.8 or greater installed\n",
    "- ChipScoPy 2023.2 installed\n",
    "- Jupyter notebook support installed - Please do so, using the command `pip install chipscopy[jupyter]`"
   ]
  },
  {
   "cell_type": "markdown",
   "id": "77c122bf",
   "metadata": {
    "papermill": {
     "duration": 0.002643,
     "end_time": "2023-10-24T22:08:28.876511",
     "exception": false,
     "start_time": "2023-10-24T22:08:28.873868",
     "status": "completed"
    },
    "tags": []
   },
   "source": [
    "## 1 - Initialization: Imports and File Paths\n",
    "\n",
    "After this step,\n",
    "- Required functions and classes are imported\n",
    "- Paths to server(s) and files are set correctly"
   ]
  },
  {
   "cell_type": "code",
   "execution_count": 1,
   "id": "11fb5ffa",
   "metadata": {
    "execution": {
     "iopub.execute_input": "2023-10-24T22:08:28.883831Z",
     "iopub.status.busy": "2023-10-24T22:08:28.883093Z",
     "iopub.status.idle": "2023-10-24T22:08:29.556752Z",
     "shell.execute_reply": "2023-10-24T22:08:29.555860Z"
    },
    "papermill": {
     "duration": 0.679879,
     "end_time": "2023-10-24T22:08:29.559007",
     "exception": false,
     "start_time": "2023-10-24T22:08:28.879128",
     "status": "completed"
    },
    "tags": []
   },
   "outputs": [],
   "source": [
    "import os\n",
    "from chipscopy import get_design_files\n",
    "from chipscopy import create_session, report_versions"
   ]
  },
  {
   "cell_type": "code",
   "execution_count": 2,
   "id": "8300c5f7",
   "metadata": {
    "execution": {
     "iopub.execute_input": "2023-10-24T22:08:29.566656Z",
     "iopub.status.busy": "2023-10-24T22:08:29.566338Z",
     "iopub.status.idle": "2023-10-24T22:08:29.571528Z",
     "shell.execute_reply": "2023-10-24T22:08:29.570757Z"
    },
    "papermill": {
     "duration": 0.010167,
     "end_time": "2023-10-24T22:08:29.572713",
     "exception": false,
     "start_time": "2023-10-24T22:08:29.562546",
     "status": "completed"
    },
    "tags": []
   },
   "outputs": [
    {
     "name": "stdout",
     "output_type": "stream",
     "text": [
      "HW_URL=TCP:localhost:3121\n"
     ]
    }
   ],
   "source": [
    "# Make sure to start the hw_server prior to running.\n",
    "# Specify location of the running hw_server below.\n",
    "# The default is localhost - but can be other locations on the network.\n",
    "HW_URL = os.getenv(\"HW_SERVER_URL\", \"TCP:localhost:3121\")\n",
    "print(f\"HW_URL={HW_URL}\")"
   ]
  },
  {
   "cell_type": "markdown",
   "id": "ac66522a",
   "metadata": {
    "papermill": {
     "duration": 0.003016,
     "end_time": "2023-10-24T22:08:29.583327",
     "exception": false,
     "start_time": "2023-10-24T22:08:29.580311",
     "status": "completed"
    },
    "tags": []
   },
   "source": [
    "## 2 - Create a session and connect to the hw_server\n",
    "\n",
    "The session is a container that keeps track of devices and debug cores.\n",
    "After this step,\n",
    "- Session is initialized and connected to server(s)\n",
    "- Versions are detected and reported to stdout\n",
    "\n",
    "*NOTE*: No cs_server is required for this example."
   ]
  },
  {
   "cell_type": "code",
   "execution_count": 3,
   "id": "e42dcfb6",
   "metadata": {
    "execution": {
     "iopub.execute_input": "2023-10-24T22:08:29.591013Z",
     "iopub.status.busy": "2023-10-24T22:08:29.590774Z",
     "iopub.status.idle": "2023-10-24T22:08:30.925108Z",
     "shell.execute_reply": "2023-10-24T22:08:30.924151Z"
    },
    "papermill": {
     "duration": 1.340328,
     "end_time": "2023-10-24T22:08:30.926582",
     "exception": false,
     "start_time": "2023-10-24T22:08:29.586254",
     "status": "completed"
    },
    "tags": []
   },
   "outputs": [
    {
     "data": {
      "text/html": [
       "<pre style=\"white-space:pre;overflow-x:auto;line-height:normal;font-family:Menlo,'DejaVu Sans Mono',consolas,'Courier New',monospace\">\n",
       "\n",
       "</pre>\n"
      ],
      "text/plain": [
       "\n",
       "\n"
      ]
     },
     "metadata": {},
     "output_type": "display_data"
    },
    {
     "data": {
      "text/html": [
       "<pre style=\"white-space:pre;overflow-x:auto;line-height:normal;font-family:Menlo,'DejaVu Sans Mono',consolas,'Courier New',monospace\"><span style=\"font-style: italic\">                      ChipScoPy Version Information                      </span>\n",
       "┌────────────────────────────┬──────────────────────────────────────────┐\n",
       "│<span style=\"font-weight: bold\">                     Entity </span>│<span style=\"font-weight: bold\"> Version                                  </span>│\n",
       "├────────────────────────────┼──────────────────────────────────────────┤\n",
       "│                  ChipScoPy │ ┌───────────┬──────────────────────┐     │\n",
       "│                            │ │<span style=\"font-weight: bold\"> Attribute </span>│<span style=\"font-weight: bold\"> Value                </span>│     │\n",
       "│                            │ ├───────────┼──────────────────────┤     │\n",
       "│                            │ │     Build │ 2023.2.1697859156    │     │\n",
       "│                            │ │ Timestamp │ Oct 20 2023-21:32:36 │     │\n",
       "│                            │ └───────────┴──────────────────────┘     │\n",
       "│                            │                                          │\n",
       "│ hw_server @ localhost:3121 │ ┌───────────┬──────────────────────────┐ │\n",
       "│                            │ │<span style=\"font-weight: bold\"> Attribute </span>│<span style=\"font-weight: bold\"> Value                    </span>│ │\n",
       "│                            │ ├───────────┼──────────────────────────┤ │\n",
       "│                            │ │    Status │ Connected                │ │\n",
       "│                            │ │     Build │ 1683493450               │ │\n",
       "│                            │ │   Version │ 2023.1                   │ │\n",
       "│                            │ │ Timestamp │ Sun May  7 15:04:10 2023 │ │\n",
       "│                            │ └───────────┴──────────────────────────┘ │\n",
       "└────────────────────────────┴──────────────────────────────────────────┘\n",
       "</pre>\n"
      ],
      "text/plain": [
       "\u001b[3m                      ChipScoPy Version Information                      \u001b[0m\n",
       "┌────────────────────────────┬──────────────────────────────────────────┐\n",
       "│\u001b[1m \u001b[0m\u001b[1m                    Entity\u001b[0m\u001b[1m \u001b[0m│\u001b[1m \u001b[0m\u001b[1mVersion                                 \u001b[0m\u001b[1m \u001b[0m│\n",
       "├────────────────────────────┼──────────────────────────────────────────┤\n",
       "│                  ChipScoPy │ ┌───────────┬──────────────────────┐     │\n",
       "│                            │ │\u001b[1m \u001b[0m\u001b[1mAttribute\u001b[0m\u001b[1m \u001b[0m│\u001b[1m \u001b[0m\u001b[1mValue               \u001b[0m\u001b[1m \u001b[0m│     │\n",
       "│                            │ ├───────────┼──────────────────────┤     │\n",
       "│                            │ │     Build │ 2023.2.1697859156    │     │\n",
       "│                            │ │ Timestamp │ Oct 20 2023-21:32:36 │     │\n",
       "│                            │ └───────────┴──────────────────────┘     │\n",
       "│                            │                                          │\n",
       "│ hw_server @ localhost:3121 │ ┌───────────┬──────────────────────────┐ │\n",
       "│                            │ │\u001b[1m \u001b[0m\u001b[1mAttribute\u001b[0m\u001b[1m \u001b[0m│\u001b[1m \u001b[0m\u001b[1mValue                   \u001b[0m\u001b[1m \u001b[0m│ │\n",
       "│                            │ ├───────────┼──────────────────────────┤ │\n",
       "│                            │ │    Status │ Connected                │ │\n",
       "│                            │ │     Build │ 1683493450               │ │\n",
       "│                            │ │   Version │ 2023.1                   │ │\n",
       "│                            │ │ Timestamp │ Sun May  7 15:04:10 2023 │ │\n",
       "│                            │ └───────────┴──────────────────────────┘ │\n",
       "└────────────────────────────┴──────────────────────────────────────────┘\n"
      ]
     },
     "metadata": {},
     "output_type": "display_data"
    },
    {
     "data": {
      "text/html": [
       "<pre style=\"white-space:pre;overflow-x:auto;line-height:normal;font-family:Menlo,'DejaVu Sans Mono',consolas,'Courier New',monospace\">\n",
       "\n",
       "</pre>\n"
      ],
      "text/plain": [
       "\n",
       "\n"
      ]
     },
     "metadata": {},
     "output_type": "display_data"
    }
   ],
   "source": [
    "session = create_session(hw_server_url=HW_URL)\n",
    "report_versions(session)"
   ]
  },
  {
   "cell_type": "markdown",
   "id": "2ec9c4f0",
   "metadata": {
    "papermill": {
     "duration": 0.004462,
     "end_time": "2023-10-24T22:08:30.935048",
     "exception": false,
     "start_time": "2023-10-24T22:08:30.930586",
     "status": "completed"
    },
    "tags": []
   },
   "source": [
    "## Step 3 - Get the device from the session"
   ]
  },
  {
   "cell_type": "code",
   "execution_count": 4,
   "id": "451ee19f",
   "metadata": {
    "execution": {
     "iopub.execute_input": "2023-10-24T22:08:30.942751Z",
     "iopub.status.busy": "2023-10-24T22:08:30.942537Z",
     "iopub.status.idle": "2023-10-24T22:08:30.947232Z",
     "shell.execute_reply": "2023-10-24T22:08:30.946524Z"
    },
    "papermill": {
     "duration": 0.010174,
     "end_time": "2023-10-24T22:08:30.948468",
     "exception": false,
     "start_time": "2023-10-24T22:08:30.938294",
     "status": "completed"
    },
    "tags": []
   },
   "outputs": [
    {
     "name": "stdout",
     "output_type": "stream",
     "text": [
      "xcvc1902:255211775190703847597622246384315941442:jsn-VCK190 FT4232H-00500501A136A-14ca8093-0\n"
     ]
    }
   ],
   "source": [
    "# Typical case - one device on the board - get it.\n",
    "versal_device = session.devices.filter_by(family=\"versal\").get()\n",
    "print(versal_device)"
   ]
  },
  {
   "cell_type": "markdown",
   "id": "40c3abfe",
   "metadata": {
    "papermill": {
     "duration": 0.003149,
     "end_time": "2023-10-24T22:08:30.954788",
     "exception": false,
     "start_time": "2023-10-24T22:08:30.951639",
     "status": "completed"
    },
    "tags": []
   },
   "source": [
    "## Step 4 - Reset the device"
   ]
  },
  {
   "cell_type": "code",
   "execution_count": 5,
   "id": "f5806e94",
   "metadata": {
    "execution": {
     "iopub.execute_input": "2023-10-24T22:08:30.963662Z",
     "iopub.status.busy": "2023-10-24T22:08:30.963474Z",
     "iopub.status.idle": "2023-10-24T22:08:33.552755Z",
     "shell.execute_reply": "2023-10-24T22:08:33.551543Z"
    },
    "papermill": {
     "duration": 2.594489,
     "end_time": "2023-10-24T22:08:33.554045",
     "exception": false,
     "start_time": "2023-10-24T22:08:30.959556",
     "status": "completed"
    },
    "tags": []
   },
   "outputs": [
    {
     "name": "stdout",
     "output_type": "stream",
     "text": [
      "Reset complete.\n"
     ]
    }
   ],
   "source": [
    "versal_device.reset()\n",
    "print(\"Reset complete.\")"
   ]
  },
  {
   "cell_type": "markdown",
   "id": "7e3426da",
   "metadata": {
    "papermill": {
     "duration": 0.003271,
     "end_time": "2023-10-24T22:08:33.561135",
     "exception": false,
     "start_time": "2023-10-24T22:08:33.557864",
     "status": "completed"
    },
    "tags": []
   },
   "source": [
    "## Step 5 - Write and Read memory\n",
    "\n",
    "\n",
    "ChipScoPy can be used to read and write memory using the hardware server.\n",
    "Memory reads and writes work similar to xsdb mrd and mwr commands.\n"
   ]
  },
  {
   "cell_type": "markdown",
   "id": "aaf6bd59",
   "metadata": {
    "papermill": {
     "duration": 0.003229,
     "end_time": "2023-10-24T22:08:33.567575",
     "exception": false,
     "start_time": "2023-10-24T22:08:33.564346",
     "status": "completed"
    },
    "tags": []
   },
   "source": [
    "### Show the list of all memory targets\n",
    "\n",
    "Memory targets in this list can be used for memory_read and memory_write\n",
    "operations."
   ]
  },
  {
   "cell_type": "code",
   "execution_count": 6,
   "id": "c4e76f98",
   "metadata": {
    "execution": {
     "iopub.execute_input": "2023-10-24T22:08:33.575783Z",
     "iopub.status.busy": "2023-10-24T22:08:33.574962Z",
     "iopub.status.idle": "2023-10-24T22:08:33.586972Z",
     "shell.execute_reply": "2023-10-24T22:08:33.586359Z"
    },
    "papermill": {
     "duration": 0.017407,
     "end_time": "2023-10-24T22:08:33.588219",
     "exception": false,
     "start_time": "2023-10-24T22:08:33.570812",
     "status": "completed"
    },
    "tags": []
   },
   "outputs": [
    {
     "name": "stdout",
     "output_type": "stream",
     "text": [
      "\n",
      "Memory Targets:  ['DPC', 'Versal xcvc1902', 'PSM', 'PPU', 'MicroBlaze PPU', 'APU', 'Cortex-A72 #1', 'Cortex-A72 #0', 'RPU', 'Cortex-R5 #1', 'Cortex-R5 #0']\n"
     ]
    }
   ],
   "source": [
    "print(\"\\nMemory Targets: \", versal_device.memory_target_names)"
   ]
  },
  {
   "cell_type": "markdown",
   "id": "0ef51499",
   "metadata": {
    "papermill": {
     "duration": 0.003179,
     "end_time": "2023-10-24T22:08:33.595024",
     "exception": false,
     "start_time": "2023-10-24T22:08:33.591845",
     "status": "completed"
    },
    "tags": []
   },
   "source": [
    "### Simple Write and read memory example\n",
    "\n",
    "This is the most basic memory_read and memory_write example using the default\n",
    "DPC memory target.\n",
    "\n",
    "Below we write 32-bit values to the specified address and read them back."
   ]
  },
  {
   "cell_type": "code",
   "execution_count": 7,
   "id": "901a3833",
   "metadata": {
    "execution": {
     "iopub.execute_input": "2023-10-24T22:08:33.602421Z",
     "iopub.status.busy": "2023-10-24T22:08:33.602234Z",
     "iopub.status.idle": "2023-10-24T22:08:35.195720Z",
     "shell.execute_reply": "2023-10-24T22:08:35.194759Z"
    },
    "papermill": {
     "duration": 1.599034,
     "end_time": "2023-10-24T22:08:35.197226",
     "exception": false,
     "start_time": "2023-10-24T22:08:33.598192",
     "status": "completed"
    },
    "tags": []
   },
   "outputs": [
    {
     "name": "stdout",
     "output_type": "stream",
     "text": [
      "\n",
      "Writing [0x10111213, 0x14151617] to address: 0xf2010000\n"
     ]
    },
    {
     "name": "stdout",
     "output_type": "stream",
     "text": [
      "Reading 2 values from address: hex(addr)\n",
      "Readback result: [0x10111213, 0x14151617]\n"
     ]
    }
   ],
   "source": [
    "addr = 0xF2010000\n",
    "values_to_write = [0x10111213, 0x14151617]\n",
    "\n",
    "print(\"\\nWriting [{}]\".format(\", \".join(hex(x) for x in values_to_write)), \"to address:\", hex(addr))\n",
    "# Write to the DPC default target\n",
    "versal_device.memory_write(addr, values_to_write)\n",
    "\n",
    "print(f\"Reading {len(values_to_write)} values from address: hex(addr)\")\n",
    "read_values = versal_device.memory_read(address=addr, num=len(values_to_write))\n",
    "\n",
    "print(\"Readback result: [{}]\".format(\", \".join(hex(x) for x in read_values)))\n",
    "\n",
    "assert read_values == values_to_write"
   ]
  },
  {
   "cell_type": "markdown",
   "id": "43bd5932",
   "metadata": {
    "papermill": {
     "duration": 0.003706,
     "end_time": "2023-10-24T22:08:35.205879",
     "exception": false,
     "start_time": "2023-10-24T22:08:35.202173",
     "status": "completed"
    },
    "tags": []
   },
   "source": [
    "### Changing Memory Read/Write Word Sizes\n",
    "\n",
    "It is possible to specify the word size when reading and writing.\n",
    "Default is 'w'. Other sizes shown below.\n",
    "```\n",
    "'b'=byte\n",
    "'h'=half\n",
    "'w'=word\n",
    "'d'=double word\n",
    "```"
   ]
  },
  {
   "cell_type": "code",
   "execution_count": 8,
   "id": "e465f5a4",
   "metadata": {
    "execution": {
     "iopub.execute_input": "2023-10-24T22:08:35.214877Z",
     "iopub.status.busy": "2023-10-24T22:08:35.214575Z",
     "iopub.status.idle": "2023-10-24T22:08:35.373698Z",
     "shell.execute_reply": "2023-10-24T22:08:35.372802Z"
    },
    "papermill": {
     "duration": 0.165334,
     "end_time": "2023-10-24T22:08:35.374910",
     "exception": false,
     "start_time": "2023-10-24T22:08:35.209576",
     "status": "completed"
    },
    "tags": []
   },
   "outputs": [
    {
     "name": "stdout",
     "output_type": "stream",
     "text": [
      "\n",
      "Writing [0x10, 0x11, 0x12, 0x13, 0x14, 0x15, 0x16, 0x17] to address: 0xf2010000\n",
      "Reading from address:  0xf2010000\n",
      "Readback result: [0x10, 0x11, 0x12, 0x13, 0x14, 0x15, 0x16, 0x17]\n",
      "\n",
      "Writing [0x1000, 0x1234, 0x4321, 0x1313, 0x1414, 0x1515, 0x1616, 0x1717] to address: 0xf2010000\n",
      "Reading from address:  0xf2010000\n"
     ]
    },
    {
     "name": "stdout",
     "output_type": "stream",
     "text": [
      "Readback result: [0x1000, 0x1234, 0x4321, 0x1313, 0x1414, 0x1515, 0x1616, 0x1717]\n"
     ]
    }
   ],
   "source": [
    "addr = 0xF2010000\n",
    "values_to_write = [0x10, 0x11, 0x12, 0x13, 0x14, 0x15, 0x16, 0x17]\n",
    "\n",
    "print(\"\\nWriting [{}]\".format(\", \".join(hex(x) for x in values_to_write)), \"to address:\", hex(addr))\n",
    "versal_device.memory_write(addr, values_to_write, size=\"b\")\n",
    "\n",
    "print(\"Reading from address: \", hex(addr))\n",
    "read_values = versal_device.memory_read(address=addr, size=\"b\", num=len(values_to_write))\n",
    "print(\"Readback result: [{}]\".format(\", \".join(hex(x) for x in read_values)))\n",
    "assert read_values == values_to_write\n",
    "\n",
    "values_to_write = [0x1000, 0x1234, 0x4321, 0x1313, 0x1414, 0x1515, 0x1616, 0x1717]\n",
    "print(\"\\nWriting [{}]\".format(\", \".join(hex(x) for x in values_to_write)), \"to address:\", hex(addr))\n",
    "versal_device.memory_write(addr, values_to_write, size=\"h\")\n",
    "\n",
    "print(\"Reading from address: \", hex(addr))\n",
    "read_values = versal_device.memory_read(address=addr, size=\"h\", num=len(values_to_write))\n",
    "print(\"Readback result: [{}]\".format(\", \".join(hex(x) for x in read_values)))\n",
    "assert read_values == values_to_write"
   ]
  },
  {
   "cell_type": "markdown",
   "id": "533e1477",
   "metadata": {
    "papermill": {
     "duration": 0.003509,
     "end_time": "2023-10-24T22:08:35.382573",
     "exception": false,
     "start_time": "2023-10-24T22:08:35.379064",
     "status": "completed"
    },
    "tags": []
   },
   "source": [
    "### Selecting different memory targets and improving performance\n",
    "\n",
    "The examples above use the device class for memory_read() and memory_write()\n",
    "operations. Using the device read and write is simple, but has additional\n",
    "overhead with each call to find the associated memory context.\n",
    "\n",
    "It is possible to explicitly request the memory context for a desired target.\n",
    "Once a memory context is obtained, memory_read and memory_write operations\n",
    "can be executed on that target repeatedly.\n",
    "\n",
    "This eliminate some of the additional overhead.\n",
    "\n",
    "The example below shows how to get a context to repeatedly read and write from\n",
    "different memory targets."
   ]
  },
  {
   "cell_type": "code",
   "execution_count": 9,
   "id": "86e9b13c",
   "metadata": {
    "execution": {
     "iopub.execute_input": "2023-10-24T22:08:35.391253Z",
     "iopub.status.busy": "2023-10-24T22:08:35.390959Z",
     "iopub.status.idle": "2023-10-24T22:08:36.151374Z",
     "shell.execute_reply": "2023-10-24T22:08:36.150317Z"
    },
    "papermill": {
     "duration": 0.766723,
     "end_time": "2023-10-24T22:08:36.152828",
     "exception": false,
     "start_time": "2023-10-24T22:08:35.386105",
     "status": "completed"
    },
    "tags": []
   },
   "outputs": [
    {
     "name": "stdout",
     "output_type": "stream",
     "text": [
      "\n",
      "DPC: Writing [0x12345678, 0xfedcba98] to address: 0xf2010000\n"
     ]
    },
    {
     "name": "stdout",
     "output_type": "stream",
     "text": [
      "APU: Reading from address:  0xf2010000\n",
      "Readback result: [0x12345678, 0xfedcba98]\n",
      "\n",
      "DPC: Writing [0x12345679, 0xfedcba97] to address: 0xf2010000\n",
      "APU: Reading from address:  0xf2010000\n",
      "Readback result: [0x12345679, 0xfedcba97]\n",
      "\n",
      "DPC: Writing [0x1234567a, 0xfedcba96] to address: 0xf2010000\n"
     ]
    },
    {
     "name": "stdout",
     "output_type": "stream",
     "text": [
      "APU: Reading from address:  0xf2010000\n"
     ]
    },
    {
     "name": "stdout",
     "output_type": "stream",
     "text": [
      "Readback result: [0x1234567a, 0xfedcba96]\n",
      "\n",
      "DPC: Writing [0x1234567b, 0xfedcba95] to address: 0xf2010000\n"
     ]
    },
    {
     "name": "stdout",
     "output_type": "stream",
     "text": [
      "APU: Reading from address:  0xf2010000\n",
      "Readback result: [0x1234567b, 0xfedcba95]\n",
      "\n",
      "DPC: Writing [0x1234567c, 0xfedcba94] to address: 0xf2010000\n",
      "APU: Reading from address:  0xf2010000\n",
      "Readback result: [0x1234567c, 0xfedcba94]\n",
      "\n",
      "DPC: Writing [0x1234567d, 0xfedcba93] to address: 0xf2010000\n"
     ]
    },
    {
     "name": "stdout",
     "output_type": "stream",
     "text": [
      "APU: Reading from address:  0xf2010000\n"
     ]
    },
    {
     "name": "stdout",
     "output_type": "stream",
     "text": [
      "Readback result: [0x1234567d, 0xfedcba93]\n",
      "\n",
      "DPC: Writing [0x1234567e, 0xfedcba92] to address: 0xf2010000\n"
     ]
    },
    {
     "name": "stdout",
     "output_type": "stream",
     "text": [
      "APU: Reading from address:  0xf2010000\n",
      "Readback result: [0x1234567e, 0xfedcba92]\n",
      "\n",
      "DPC: Writing [0x1234567f, 0xfedcba91] to address: 0xf2010000\n",
      "APU: Reading from address:  0xf2010000\n",
      "Readback result: [0x1234567f, 0xfedcba91]\n",
      "\n",
      "DPC: Writing [0x12345680, 0xfedcba90] to address: 0xf2010000\n"
     ]
    },
    {
     "name": "stdout",
     "output_type": "stream",
     "text": [
      "APU: Reading from address:  0xf2010000\n"
     ]
    },
    {
     "name": "stdout",
     "output_type": "stream",
     "text": [
      "Readback result: [0x12345680, 0xfedcba90]\n",
      "\n",
      "DPC: Writing [0x12345681, 0xfedcba8f] to address: 0xf2010000\n"
     ]
    },
    {
     "name": "stdout",
     "output_type": "stream",
     "text": [
      "APU: Reading from address:  0xf2010000\n",
      "Readback result: [0x12345681, 0xfedcba8f]\n"
     ]
    }
   ],
   "source": [
    "addr = 0xF2010000\n",
    "dpc = versal_device.memory.get(name=\"DPC\")\n",
    "apu = versal_device.memory.get(name=\"APU\")\n",
    "for i in range(10):\n",
    "    values_to_write = [0x12345678 + i, 0xFEDCBA98 - i]\n",
    "    # Write to the DPC without context lookup overhead\n",
    "    print(\n",
    "        \"\\nDPC: Writing [{}]\".format(\", \".join(hex(x) for x in values_to_write)),\n",
    "        \"to address:\",\n",
    "        hex(addr),\n",
    "    )\n",
    "    dpc.memory_write(addr, values_to_write)\n",
    "    # Read from the APU without context lookup overhead\n",
    "    print(\"APU: Reading from address: \", hex(addr))\n",
    "    read_values = apu.memory_read(address=addr, num=len(values_to_write))\n",
    "    print(\"Readback result: [{}]\".format(\", \".join(hex(x) for x in read_values)))\n",
    "    assert read_values == values_to_write"
   ]
  }
 ],
 "metadata": {
  "jupytext": {
   "cell_metadata_filter": "-all",
   "main_language": "python",
   "notebook_metadata_filter": "-all"
  },
  "language_info": {
   "codemirror_mode": {
    "name": "ipython",
    "version": 3
   },
   "file_extension": ".py",
   "mimetype": "text/x-python",
   "name": "python",
   "nbconvert_exporter": "python",
   "pygments_lexer": "ipython3",
   "version": "3.10.10"
  },
  "papermill": {
   "default_parameters": {},
   "duration": 9.176846,
   "end_time": "2023-10-24T22:08:36.580870",
   "environment_variables": {},
   "exception": null,
   "input_path": "./chipscopy-examples/memory/memory_example.ipynb",
   "output_path": "./chipscopy-examples/memory/memory_example.ipynb",
   "parameters": {},
   "start_time": "2023-10-24T22:08:27.404024",
   "version": "2.4.0"
  }
 },
 "nbformat": 4,
 "nbformat_minor": 5
}