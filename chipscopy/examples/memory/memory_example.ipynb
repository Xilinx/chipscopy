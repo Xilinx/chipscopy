{
 "cells": [
  {
   "cell_type": "markdown",
   "id": "7e967de9",
   "metadata": {
    "papermill": {
     "duration": 0.006655,
     "end_time": "2023-10-20T19:05:29.061367",
     "exception": false,
     "start_time": "2023-10-20T19:05:29.054712",
     "status": "completed"
    },
    "tags": []
   },
   "source": [
    "<link rel=\"preconnect\" href=\"https://fonts.gstatic.com\">\n",
    "<link href=\"https://fonts.googleapis.com/css2?family=Fira+Code&display=swap\" rel=\"stylesheet\">\n",
    "\n",
    "### License\n",
    "\n",
    "<p style=\"font-family: 'Fira Code', monospace; font-size: 1.2rem\">\n",
    "Copyright (C) 2021-2022, Xilinx, Inc.\n",
    "Copyright (C) 2022-2023, Advanced Micro Devices, Inc.\n",
    "<br><br>\n",
    "Licensed under the Apache License, Version 2.0 (the \"License\");<br>\n",
    "you may not use this file except in compliance with the License.<br><br>\n",
    "You may obtain a copy of the License at <a href=\"http://www.apache.org/licenses/LICENSE-2.0\"?>http://www.apache.org/licenses/LICENSE-2.0</a><br><br>\n",
    "Unless required by applicable law or agreed to in writing, software<br>\n",
    "distributed under the License is distributed on an \"AS IS\" BASIS,<br>\n",
    "WITHOUT WARRANTIES OR CONDITIONS OF ANY KIND, either express or implied.<br>\n",
    "See the License for the specific language governing permissions and<br>\n",
    "limitations under the License.<br>\n",
    "</p>\n"
   ]
  },
  {
   "cell_type": "markdown",
   "id": "9a9ecfb4",
   "metadata": {
    "papermill": {
     "duration": 0.004128,
     "end_time": "2023-10-20T19:05:29.071082",
     "exception": false,
     "start_time": "2023-10-20T19:05:29.066954",
     "status": "completed"
    },
    "tags": []
   },
   "source": [
    "# ChipScoPy Memory Read and Write Example\n",
    "\n",
    "\n",
    "<img src=\"../img/api_overview.png\" width=\"500\" align=\"left\">"
   ]
  },
  {
   "cell_type": "markdown",
   "id": "4b0e0a9d",
   "metadata": {
    "papermill": {
     "duration": 0.003959,
     "end_time": "2023-10-20T19:05:29.079131",
     "exception": false,
     "start_time": "2023-10-20T19:05:29.075172",
     "status": "completed"
    },
    "tags": []
   },
   "source": [
    "## Description\n",
    "This demo shows how to read and write memory in the device using the ChipScoPy Python API.\n",
    "\n",
    "\n",
    "## Requirements\n",
    "- Local or remote Xilinx Versal board, such as a VCK190\n",
    "- Xilinx hw_server 2023.2 installed and running\n",
    "- Python 3.8 or greater installed\n",
    "- ChipScoPy 2023.2 installed\n",
    "- Jupyter notebook support installed - Please do so, using the command `pip install chipscopy[jupyter]`"
   ]
  },
  {
   "cell_type": "markdown",
   "id": "77c122bf",
   "metadata": {
    "papermill": {
     "duration": 0.004234,
     "end_time": "2023-10-20T19:05:29.087680",
     "exception": false,
     "start_time": "2023-10-20T19:05:29.083446",
     "status": "completed"
    },
    "tags": []
   },
   "source": [
    "## 1 - Initialization: Imports and File Paths\n",
    "\n",
    "After this step,\n",
    "- Required functions and classes are imported\n",
    "- Paths to server(s) and files are set correctly"
   ]
  },
  {
   "cell_type": "code",
   "execution_count": 1,
   "id": "11fb5ffa",
   "metadata": {
    "execution": {
     "iopub.execute_input": "2023-10-20T19:05:29.098567Z",
     "iopub.status.busy": "2023-10-20T19:05:29.097228Z",
     "iopub.status.idle": "2023-10-20T19:05:29.330184Z",
     "shell.execute_reply": "2023-10-20T19:05:29.329308Z"
    },
    "papermill": {
     "duration": 0.2409,
     "end_time": "2023-10-20T19:05:29.332552",
     "exception": false,
     "start_time": "2023-10-20T19:05:29.091652",
     "status": "completed"
    },
    "tags": []
   },
   "outputs": [],
   "source": [
    "import os\n",
    "from chipscopy import get_design_files\n",
    "from chipscopy import create_session, report_versions"
   ]
  },
  {
   "cell_type": "code",
   "execution_count": 2,
   "id": "8300c5f7",
   "metadata": {
    "execution": {
     "iopub.execute_input": "2023-10-20T19:05:29.344261Z",
     "iopub.status.busy": "2023-10-20T19:05:29.344055Z",
     "iopub.status.idle": "2023-10-20T19:05:29.349043Z",
     "shell.execute_reply": "2023-10-20T19:05:29.348261Z"
    },
    "papermill": {
     "duration": 0.011428,
     "end_time": "2023-10-20T19:05:29.350448",
     "exception": false,
     "start_time": "2023-10-20T19:05:29.339020",
     "status": "completed"
    },
    "tags": []
   },
   "outputs": [
    {
     "name": "stdout",
     "output_type": "stream",
     "text": [
      "HW_URL=TCP:localhost:3121\n"
     ]
    }
   ],
   "source": [
    "# Make sure to start the hw_server prior to running.\n",
    "# Specify location of the running hw_server below.\n",
    "# The default is localhost - but can be other locations on the network.\n",
    "HW_URL = os.getenv(\"HW_SERVER_URL\", \"TCP:localhost:3121\")\n",
    "print(f\"HW_URL={HW_URL}\")"
   ]
  },
  {
   "cell_type": "markdown",
   "id": "ac66522a",
   "metadata": {
    "papermill": {
     "duration": 0.005168,
     "end_time": "2023-10-20T19:05:29.361516",
     "exception": false,
     "start_time": "2023-10-20T19:05:29.356348",
     "status": "completed"
    },
    "tags": []
   },
   "source": [
    "## 2 - Create a session and connect to the hw_server\n",
    "\n",
    "The session is a container that keeps track of devices and debug cores.\n",
    "After this step,\n",
    "- Session is initialized and connected to server(s)\n",
    "- Versions are detected and reported to stdout\n",
    "\n",
    "*NOTE*: No cs_server is required for this example."
   ]
  },
  {
   "cell_type": "code",
   "execution_count": 3,
   "id": "e42dcfb6",
   "metadata": {
    "execution": {
     "iopub.execute_input": "2023-10-20T19:05:29.374805Z",
     "iopub.status.busy": "2023-10-20T19:05:29.373946Z",
     "iopub.status.idle": "2023-10-20T19:05:30.490635Z",
     "shell.execute_reply": "2023-10-20T19:05:30.489513Z"
    },
    "papermill": {
     "duration": 1.125849,
     "end_time": "2023-10-20T19:05:30.492458",
     "exception": false,
     "start_time": "2023-10-20T19:05:29.366609",
     "status": "completed"
    },
    "tags": []
   },
   "outputs": [
    {
     "data": {
      "text/html": [
       "<pre style=\"white-space:pre;overflow-x:auto;line-height:normal;font-family:Menlo,'DejaVu Sans Mono',consolas,'Courier New',monospace\">\n",
       "\n",
       "</pre>\n"
      ],
      "text/plain": [
       "<rich.jupyter.JupyterRenderable at 0x7fe8e4595e20>"
      ]
     },
     "metadata": {},
     "output_type": "display_data"
    },
    {
     "data": {
      "text/html": [
       "<pre style=\"white-space:pre;overflow-x:auto;line-height:normal;font-family:Menlo,'DejaVu Sans Mono',consolas,'Courier New',monospace\"><span style=\"font-style: italic\">                      ChipScoPy Version Information                      </span>\n",
       "┌────────────────────────────┬──────────────────────────────────────────┐\n",
       "│<span style=\"font-weight: bold\">                     Entity </span>│<span style=\"font-weight: bold\"> Version                                  </span>│\n",
       "├────────────────────────────┼──────────────────────────────────────────┤\n",
       "│                  ChipScoPy │ ┌───────────┬──────────────────────┐     │\n",
       "│                            │ │<span style=\"font-weight: bold\"> Attribute </span>│<span style=\"font-weight: bold\"> Value                </span>│     │\n",
       "│                            │ ├───────────┼──────────────────────┤     │\n",
       "│                            │ │     Build │ 2023.2.1693353190    │     │\n",
       "│                            │ │ Timestamp │ Aug 29 2023-17:53:10 │     │\n",
       "│                            │ └───────────┴──────────────────────┘     │\n",
       "│                            │                                          │\n",
       "│ hw_server @ localhost:3121 │ ┌───────────┬──────────────────────────┐ │\n",
       "│                            │ │<span style=\"font-weight: bold\"> Attribute </span>│<span style=\"font-weight: bold\"> Value                    </span>│ │\n",
       "│                            │ ├───────────┼──────────────────────────┤ │\n",
       "│                            │ │    Status │ Connected                │ │\n",
       "│                            │ │     Build │ 1683493450               │ │\n",
       "│                            │ │   Version │ 2023.1                   │ │\n",
       "│                            │ │ Timestamp │ Sun May  7 15:04:10 2023 │ │\n",
       "│                            │ └───────────┴──────────────────────────┘ │\n",
       "└────────────────────────────┴──────────────────────────────────────────┘\n",
       "</pre>\n"
      ],
      "text/plain": [
       "<rich.jupyter.JupyterRenderable at 0x7fe8d420f100>"
      ]
     },
     "metadata": {},
     "output_type": "display_data"
    },
    {
     "data": {
      "text/html": [
       "<pre style=\"white-space:pre;overflow-x:auto;line-height:normal;font-family:Menlo,'DejaVu Sans Mono',consolas,'Courier New',monospace\">\n",
       "\n",
       "</pre>\n"
      ],
      "text/plain": [
       "<rich.jupyter.JupyterRenderable at 0x7fe8d420f040>"
      ]
     },
     "metadata": {},
     "output_type": "display_data"
    }
   ],
   "source": [
    "session = create_session(hw_server_url=HW_URL)\n",
    "report_versions(session)"
   ]
  },
  {
   "cell_type": "markdown",
   "id": "2ec9c4f0",
   "metadata": {
    "papermill": {
     "duration": 0.004879,
     "end_time": "2023-10-20T19:05:30.503651",
     "exception": false,
     "start_time": "2023-10-20T19:05:30.498772",
     "status": "completed"
    },
    "tags": []
   },
   "source": [
    "## Step 3 - Get the device from the session"
   ]
  },
  {
   "cell_type": "code",
   "execution_count": 4,
   "id": "451ee19f",
   "metadata": {
    "execution": {
     "iopub.execute_input": "2023-10-20T19:05:30.514425Z",
     "iopub.status.busy": "2023-10-20T19:05:30.514171Z",
     "iopub.status.idle": "2023-10-20T19:05:30.521250Z",
     "shell.execute_reply": "2023-10-20T19:05:30.520061Z"
    },
    "papermill": {
     "duration": 0.01428,
     "end_time": "2023-10-20T19:05:30.522669",
     "exception": false,
     "start_time": "2023-10-20T19:05:30.508389",
     "status": "completed"
    },
    "tags": []
   },
   "outputs": [
    {
     "name": "stdout",
     "output_type": "stream",
     "text": [
      "xcvc1902:255211775190703847597622315241641681218:jsn-VCK190 FT4232H-802044124746A-14ca8093-0\n"
     ]
    }
   ],
   "source": [
    "# Typical case - one device on the board - get it.\n",
    "versal_device = session.devices.filter_by(family=\"versal\").get()\n",
    "print(versal_device)"
   ]
  },
  {
   "cell_type": "markdown",
   "id": "40c3abfe",
   "metadata": {
    "papermill": {
     "duration": 0.004691,
     "end_time": "2023-10-20T19:05:30.532418",
     "exception": false,
     "start_time": "2023-10-20T19:05:30.527727",
     "status": "completed"
    },
    "tags": []
   },
   "source": [
    "## Step 4 - Reset the device"
   ]
  },
  {
   "cell_type": "code",
   "execution_count": 5,
   "id": "f5806e94",
   "metadata": {
    "execution": {
     "iopub.execute_input": "2023-10-20T19:05:30.544440Z",
     "iopub.status.busy": "2023-10-20T19:05:30.543772Z",
     "iopub.status.idle": "2023-10-20T19:05:31.588943Z",
     "shell.execute_reply": "2023-10-20T19:05:31.587827Z"
    },
    "papermill": {
     "duration": 1.053472,
     "end_time": "2023-10-20T19:05:31.590901",
     "exception": false,
     "start_time": "2023-10-20T19:05:30.537429",
     "status": "completed"
    },
    "tags": []
   },
   "outputs": [
    {
     "name": "stdout",
     "output_type": "stream",
     "text": [
      "Reset complete.\n"
     ]
    }
   ],
   "source": [
    "versal_device.reset()\n",
    "print(\"Reset complete.\")"
   ]
  },
  {
   "cell_type": "markdown",
   "id": "7e3426da",
   "metadata": {
    "papermill": {
     "duration": 0.004985,
     "end_time": "2023-10-20T19:05:31.603974",
     "exception": false,
     "start_time": "2023-10-20T19:05:31.598989",
     "status": "completed"
    },
    "tags": []
   },
   "source": [
    "## Step 5 - Write and Read memory\n",
    "\n",
    "\n",
    "ChipScoPy can be used to read and write memory using the hardware server.\n",
    "Memory reads and writes work similar to xsdb mrd and mwr commands.\n"
   ]
  },
  {
   "cell_type": "markdown",
   "id": "aaf6bd59",
   "metadata": {
    "papermill": {
     "duration": 0.004709,
     "end_time": "2023-10-20T19:05:31.613683",
     "exception": false,
     "start_time": "2023-10-20T19:05:31.608974",
     "status": "completed"
    },
    "tags": []
   },
   "source": [
    "### Show the list of all memory targets\n",
    "\n",
    "Memory targets in this list can be used for memory_read and memory_write\n",
    "operations."
   ]
  },
  {
   "cell_type": "code",
   "execution_count": 6,
   "id": "c4e76f98",
   "metadata": {
    "execution": {
     "iopub.execute_input": "2023-10-20T19:05:31.626798Z",
     "iopub.status.busy": "2023-10-20T19:05:31.626388Z",
     "iopub.status.idle": "2023-10-20T19:05:31.643858Z",
     "shell.execute_reply": "2023-10-20T19:05:31.642675Z"
    },
    "papermill": {
     "duration": 0.026877,
     "end_time": "2023-10-20T19:05:31.645649",
     "exception": false,
     "start_time": "2023-10-20T19:05:31.618772",
     "status": "completed"
    },
    "tags": []
   },
   "outputs": [
    {
     "name": "stdout",
     "output_type": "stream",
     "text": [
      "\n",
      "Memory Targets:  ['DPC', 'Versal xcvc1902', 'PSM', 'PPU', 'MicroBlaze PPU', 'APU', 'Cortex-A72 #1', 'Cortex-A72 #0', 'RPU', 'Cortex-R5 #1', 'Cortex-R5 #0']\n"
     ]
    }
   ],
   "source": [
    "print(\"\\nMemory Targets: \", versal_device.memory_target_names)"
   ]
  },
  {
   "cell_type": "markdown",
   "id": "0ef51499",
   "metadata": {
    "papermill": {
     "duration": 0.005217,
     "end_time": "2023-10-20T19:05:31.656636",
     "exception": false,
     "start_time": "2023-10-20T19:05:31.651419",
     "status": "completed"
    },
    "tags": []
   },
   "source": [
    "### Simple Write and read memory example\n",
    "\n",
    "This is the most basic memory_read and memory_write example using the default\n",
    "DPC memory target.\n",
    "\n",
    "Below we write 32-bit values to the specified address and read them back."
   ]
  },
  {
   "cell_type": "code",
   "execution_count": 7,
   "id": "901a3833",
   "metadata": {
    "execution": {
     "iopub.execute_input": "2023-10-20T19:05:31.669287Z",
     "iopub.status.busy": "2023-10-20T19:05:31.668866Z",
     "iopub.status.idle": "2023-10-20T19:05:33.008033Z",
     "shell.execute_reply": "2023-10-20T19:05:33.006838Z"
    },
    "papermill": {
     "duration": 1.347699,
     "end_time": "2023-10-20T19:05:33.009564",
     "exception": false,
     "start_time": "2023-10-20T19:05:31.661865",
     "status": "completed"
    },
    "tags": []
   },
   "outputs": [
    {
     "name": "stdout",
     "output_type": "stream",
     "text": [
      "\n",
      "Writing [0x10111213, 0x14151617] to address: 0xf2010000\n"
     ]
    },
    {
     "name": "stdout",
     "output_type": "stream",
     "text": [
      "Reading 2 values from address: hex(addr)\n",
      "Readback result: [0x10111213, 0x14151617]\n"
     ]
    }
   ],
   "source": [
    "addr = 0xF2010000\n",
    "values_to_write = [0x10111213, 0x14151617]\n",
    "\n",
    "print(\"\\nWriting [{}]\".format(\", \".join(hex(x) for x in values_to_write)), \"to address:\", hex(addr))\n",
    "# Write to the DPC default target\n",
    "versal_device.memory_write(addr, values_to_write)\n",
    "\n",
    "print(f\"Reading {len(values_to_write)} values from address: hex(addr)\")\n",
    "read_values = versal_device.memory_read(address=addr, num=len(values_to_write))\n",
    "\n",
    "print(\"Readback result: [{}]\".format(\", \".join(hex(x) for x in read_values)))\n",
    "\n",
    "assert read_values == values_to_write"
   ]
  },
  {
   "cell_type": "markdown",
   "id": "43bd5932",
   "metadata": {
    "papermill": {
     "duration": 0.006706,
     "end_time": "2023-10-20T19:05:33.022551",
     "exception": false,
     "start_time": "2023-10-20T19:05:33.015845",
     "status": "completed"
    },
    "tags": []
   },
   "source": [
    "### Changing Memory Read/Write Word Sizes\n",
    "\n",
    "It is possible to specify the word size when reading and writing.\n",
    "Default is 'w'. Other sizes shown below.\n",
    "```\n",
    "'b'=byte\n",
    "'h'=half\n",
    "'w'=word\n",
    "'d'=double word\n",
    "```"
   ]
  },
  {
   "cell_type": "code",
   "execution_count": 8,
   "id": "e465f5a4",
   "metadata": {
    "execution": {
     "iopub.execute_input": "2023-10-20T19:05:33.040858Z",
     "iopub.status.busy": "2023-10-20T19:05:33.040258Z",
     "iopub.status.idle": "2023-10-20T19:05:33.192547Z",
     "shell.execute_reply": "2023-10-20T19:05:33.191499Z"
    },
    "papermill": {
     "duration": 0.162052,
     "end_time": "2023-10-20T19:05:33.194153",
     "exception": false,
     "start_time": "2023-10-20T19:05:33.032101",
     "status": "completed"
    },
    "tags": []
   },
   "outputs": [
    {
     "name": "stdout",
     "output_type": "stream",
     "text": [
      "\n",
      "Writing [0x10, 0x11, 0x12, 0x13, 0x14, 0x15, 0x16, 0x17] to address: 0xf2010000\n",
      "Reading from address:  0xf2010000\n",
      "Readback result: [0x10, 0x11, 0x12, 0x13, 0x14, 0x15, 0x16, 0x17]\n",
      "\n",
      "Writing [0x1000, 0x1234, 0x4321, 0x1313, 0x1414, 0x1515, 0x1616, 0x1717] to address: 0xf2010000\n",
      "Reading from address:  0xf2010000\n"
     ]
    },
    {
     "name": "stdout",
     "output_type": "stream",
     "text": [
      "Readback result: [0x1000, 0x1234, 0x4321, 0x1313, 0x1414, 0x1515, 0x1616, 0x1717]\n"
     ]
    }
   ],
   "source": [
    "addr = 0xF2010000\n",
    "values_to_write = [0x10, 0x11, 0x12, 0x13, 0x14, 0x15, 0x16, 0x17]\n",
    "\n",
    "print(\"\\nWriting [{}]\".format(\", \".join(hex(x) for x in values_to_write)), \"to address:\", hex(addr))\n",
    "versal_device.memory_write(addr, values_to_write, size=\"b\")\n",
    "\n",
    "print(\"Reading from address: \", hex(addr))\n",
    "read_values = versal_device.memory_read(address=addr, size=\"b\", num=len(values_to_write))\n",
    "print(\"Readback result: [{}]\".format(\", \".join(hex(x) for x in read_values)))\n",
    "assert read_values == values_to_write\n",
    "\n",
    "values_to_write = [0x1000, 0x1234, 0x4321, 0x1313, 0x1414, 0x1515, 0x1616, 0x1717]\n",
    "print(\"\\nWriting [{}]\".format(\", \".join(hex(x) for x in values_to_write)), \"to address:\", hex(addr))\n",
    "versal_device.memory_write(addr, values_to_write, size=\"h\")\n",
    "\n",
    "print(\"Reading from address: \", hex(addr))\n",
    "read_values = versal_device.memory_read(address=addr, size=\"h\", num=len(values_to_write))\n",
    "print(\"Readback result: [{}]\".format(\", \".join(hex(x) for x in read_values)))\n",
    "assert read_values == values_to_write"
   ]
  },
  {
   "cell_type": "markdown",
   "id": "533e1477",
   "metadata": {
    "papermill": {
     "duration": 0.005793,
     "end_time": "2023-10-20T19:05:33.206284",
     "exception": false,
     "start_time": "2023-10-20T19:05:33.200491",
     "status": "completed"
    },
    "tags": []
   },
   "source": [
    "### Selecting different memory targets and improving performance\n",
    "\n",
    "The examples above use the device class for memory_read() and memory_write()\n",
    "operations. Using the device read and write is simple, but has additional\n",
    "overhead with each call to find the associated memory context.\n",
    "\n",
    "It is possible to explicitly request the memory context for a desired target.\n",
    "Once a memory context is obtained, memory_read and memory_write operations\n",
    "can be executed on that target repeatedly.\n",
    "\n",
    "This eliminate some of the additional overhead.\n",
    "\n",
    "The example below shows how to get a context to repeatedly read and write from\n",
    "different memory targets."
   ]
  },
  {
   "cell_type": "code",
   "execution_count": 9,
   "id": "86e9b13c",
   "metadata": {
    "execution": {
     "iopub.execute_input": "2023-10-20T19:05:33.220563Z",
     "iopub.status.busy": "2023-10-20T19:05:33.220099Z",
     "iopub.status.idle": "2023-10-20T19:05:33.946763Z",
     "shell.execute_reply": "2023-10-20T19:05:33.945597Z"
    },
    "papermill": {
     "duration": 0.736438,
     "end_time": "2023-10-20T19:05:33.948644",
     "exception": false,
     "start_time": "2023-10-20T19:05:33.212206",
     "status": "completed"
    },
    "tags": []
   },
   "outputs": [
    {
     "name": "stdout",
     "output_type": "stream",
     "text": [
      "\n",
      "DPC: Writing [0x12345678, 0xfedcba98] to address: 0xf2010000\n"
     ]
    },
    {
     "name": "stdout",
     "output_type": "stream",
     "text": [
      "APU: Reading from address:  0xf2010000\n",
      "Readback result: [0x12345678, 0xfedcba98]\n",
      "\n",
      "DPC: Writing [0x12345679, 0xfedcba97] to address: 0xf2010000\n",
      "APU: Reading from address:  0xf2010000\n",
      "Readback result: [0x12345679, 0xfedcba97]\n",
      "\n",
      "DPC: Writing [0x1234567a, 0xfedcba96] to address: 0xf2010000\n"
     ]
    },
    {
     "name": "stdout",
     "output_type": "stream",
     "text": [
      "APU: Reading from address:  0xf2010000\n"
     ]
    },
    {
     "name": "stdout",
     "output_type": "stream",
     "text": [
      "Readback result: [0x1234567a, 0xfedcba96]\n",
      "\n",
      "DPC: Writing [0x1234567b, 0xfedcba95] to address: 0xf2010000\n"
     ]
    },
    {
     "name": "stdout",
     "output_type": "stream",
     "text": [
      "APU: Reading from address:  0xf2010000\n",
      "Readback result: [0x1234567b, 0xfedcba95]\n",
      "\n",
      "DPC: Writing [0x1234567c, 0xfedcba94] to address: 0xf2010000\n",
      "APU: Reading from address:  0xf2010000\n",
      "Readback result: [0x1234567c, 0xfedcba94]\n",
      "\n",
      "DPC: Writing [0x1234567d, 0xfedcba93] to address: 0xf2010000\n"
     ]
    },
    {
     "name": "stdout",
     "output_type": "stream",
     "text": [
      "APU: Reading from address:  0xf2010000\n"
     ]
    },
    {
     "name": "stdout",
     "output_type": "stream",
     "text": [
      "Readback result: [0x1234567d, 0xfedcba93]\n",
      "\n",
      "DPC: Writing [0x1234567e, 0xfedcba92] to address: 0xf2010000\n"
     ]
    },
    {
     "name": "stdout",
     "output_type": "stream",
     "text": [
      "APU: Reading from address:  0xf2010000\n",
      "Readback result: [0x1234567e, 0xfedcba92]\n",
      "\n",
      "DPC: Writing [0x1234567f, 0xfedcba91] to address: 0xf2010000\n",
      "APU: Reading from address:  0xf2010000\n",
      "Readback result: [0x1234567f, 0xfedcba91]\n",
      "\n",
      "DPC: Writing [0x12345680, 0xfedcba90] to address: 0xf2010000\n"
     ]
    },
    {
     "name": "stdout",
     "output_type": "stream",
     "text": [
      "APU: Reading from address:  0xf2010000\n"
     ]
    },
    {
     "name": "stdout",
     "output_type": "stream",
     "text": [
      "Readback result: [0x12345680, 0xfedcba90]\n",
      "\n",
      "DPC: Writing [0x12345681, 0xfedcba8f] to address: 0xf2010000\n"
     ]
    },
    {
     "name": "stdout",
     "output_type": "stream",
     "text": [
      "APU: Reading from address:  0xf2010000\n",
      "Readback result: [0x12345681, 0xfedcba8f]\n"
     ]
    }
   ],
   "source": [
    "addr = 0xF2010000\n",
    "dpc = versal_device.memory.get(name=\"DPC\")\n",
    "apu = versal_device.memory.get(name=\"APU\")\n",
    "for i in range(10):\n",
    "    values_to_write = [0x12345678 + i, 0xFEDCBA98 - i]\n",
    "    # Write to the DPC without context lookup overhead\n",
    "    print(\n",
    "        \"\\nDPC: Writing [{}]\".format(\", \".join(hex(x) for x in values_to_write)),\n",
    "        \"to address:\",\n",
    "        hex(addr),\n",
    "    )\n",
    "    dpc.memory_write(addr, values_to_write)\n",
    "    # Read from the APU without context lookup overhead\n",
    "    print(\"APU: Reading from address: \", hex(addr))\n",
    "    read_values = apu.memory_read(address=addr, num=len(values_to_write))\n",
    "    print(\"Readback result: [{}]\".format(\", \".join(hex(x) for x in read_values)))\n",
    "    assert read_values == values_to_write"
   ]
  }
 ],
 "metadata": {
  "jupytext": {
   "cell_metadata_filter": "-all",
   "main_language": "python",
   "notebook_metadata_filter": "-all"
  },
  "language_info": {
   "codemirror_mode": {
    "name": "ipython",
    "version": 3
   },
   "file_extension": ".py",
   "mimetype": "text/x-python",
   "name": "python",
   "nbconvert_exporter": "python",
   "pygments_lexer": "ipython3",
   "version": "3.8.3"
  },
  "papermill": {
   "default_parameters": {},
   "duration": 8.053909,
   "end_time": "2023-10-20T19:05:34.275165",
   "environment_variables": {},
   "exception": null,
   "input_path": "chipscopy/examples/memory/memory_example.ipynb",
   "output_path": "chipscopy/examples/memory/memory_example.ipynb",
   "parameters": {},
   "start_time": "2023-10-20T19:05:26.221256",
   "version": "2.4.0"
  }
 },
 "nbformat": 4,
 "nbformat_minor": 5
}