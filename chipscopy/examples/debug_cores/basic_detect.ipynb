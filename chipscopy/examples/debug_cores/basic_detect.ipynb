{
 "cells": [
  {
   "cell_type": "code",
   "execution_count": null,
   "metadata": {},
   "outputs": [],
   "source": [
    "# Copyright 2021 Xilinx, Inc.\n",
    "# \n",
    "# Licensed under the Apache License, Version 2.0 (the \"License\");\n",
    "# you may not use this file except in compliance with the License.\n",
    "# You may obtain a copy of the License at\n",
    "# \n",
    "#     http://www.apache.org/licenses/LICENSE-2.0\n",
    "# \n",
    "# Unless required by applicable law or agreed to in writing, software\n",
    "# distributed under the License is distributed on an \"AS IS\" BASIS,\n",
    "# WITHOUT WARRANTIES OR CONDITIONS OF ANY KIND, either express or implied.\n",
    "# See the License for the specific language governing permissions and\n",
    "# limitations under the License."
   ]
  },
  {
   "cell_type": "code",
   "execution_count": null,
   "metadata": {},
   "outputs": [],
   "source": [
    "\"\"\"\n",
    "basic_detect.py\n",
    "\n",
    "Description\n",
    "-----------\n",
    "This demo shows how to do three things:\n",
    "1) Connect to a Versal target device via ChipScope Server (cs_server)\n",
    "   and Hardware Server (hw_server)\n",
    "2) Program a Versal target device using a design PDI file (optional)\n",
    "3) Detect any and all fabric debug cores\n",
    "\n",
    "Requirements\n",
    "------------\n",
    "The following is required to run this demo:\n",
    "1) Local or remote access to a Versal device\n",
    "2) 2020.1 cs_server and hw_server applications\n",
    "3) Python 3.7 environment (i.e., Anaconda from\n",
    "   https://www.anaconda.com/distribution/)\n",
    "4) A clone of the chipscopy git enterprise repository:\n",
    "   - https://gitenterprise.xilinx.com/chipscope/chipscopy\n",
    "\"\"\""
   ]
  },
  {
   "cell_type": "code",
   "execution_count": null,
   "metadata": {},
   "outputs": [],
   "source": [
    "import os\n",
    "from chipscopy import create_session, report_versions\n",
    "from chipscopy import get_examples_dir_or_die\n",
    "\n",
    "# Specify locations of the running hw_server and cs_server below.\n",
    "CS_URL = os.getenv(\"CS_SERVER_URL\", \"TCP:localhost:3042\")\n",
    "HW_URL = os.getenv(\"HW_SERVER_URL\", \"TCP:localhost:3121\")\n",
    "BOARD = os.getenv(\"HW_SERVER_BOARD\", \"vck190/production/2.0\")\n",
    "EXAMPLES_DIR = get_examples_dir_or_die()\n",
    "PROGRAMMING_FILE = f\"{EXAMPLES_DIR}/designs/{BOARD}/ks_demo/ks_demo_wrapper.pdi\"\n",
    "PROBES_FILE = f\"{EXAMPLES_DIR}/designs/{BOARD}/ks_demo/ks_demo_wrapper.ltx\""
   ]
  },
  {
   "cell_type": "code",
   "execution_count": null,
   "metadata": {},
   "outputs": [],
   "source": [
    "session = create_session(cs_server_url=CS_URL, hw_server_url=HW_URL)\n",
    "report_versions(session)"
   ]
  },
  {
   "cell_type": "code",
   "execution_count": null,
   "metadata": {},
   "outputs": [],
   "source": [
    "# Use the first available device and setup its debug cores\n",
    "versal_device = session.devices[0]\n",
    "\n",
    "print(f\"Programming {PROGRAMMING_FILE}...\")\n",
    "versal_device.program(PROGRAMMING_FILE)\n",
    "\n",
    "print(f\"Discovering debug cores...\")\n",
    "versal_device.discover_and_setup_cores(ltx_file=PROBES_FILE)"
   ]
  },
  {
   "cell_type": "code",
   "execution_count": null,
   "metadata": {},
   "outputs": [],
   "source": [
    "ila_count = len(versal_device.ila_cores)\n",
    "print(f\"\\tFound {ila_count} ILA cores in design\")\n",
    "\n",
    "vio_count = len(versal_device.vio_cores)\n",
    "print(f\"\\tFound {vio_count} VIO cores in design\")"
   ]
  }
 ],
 "metadata": {
  "jupytext": {
   "cell_metadata_filter": "-all",
   "main_language": "python",
   "notebook_metadata_filter": "-all"
  },
  "kernelspec": {
   "display_name": "Python 3",
   "language": "python",
   "name": "python3"
  },
  "language_info": {
   "codemirror_mode": {
    "name": "ipython",
    "version": 3
   },
   "file_extension": ".py",
   "mimetype": "text/x-python",
   "name": "python",
   "nbconvert_exporter": "python",
   "pygments_lexer": "ipython3",
   "version": "3.8.8"
  }
 },
 "nbformat": 4,
 "nbformat_minor": 4
}
