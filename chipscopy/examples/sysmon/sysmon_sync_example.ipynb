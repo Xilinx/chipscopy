{
 "cells": [
  {
   "cell_type": "markdown",
   "id": "b2897831",
   "metadata": {
    "papermill": {
     "duration": 0.005322,
     "end_time": "2023-10-20T19:21:17.593037",
     "exception": false,
     "start_time": "2023-10-20T19:21:17.587715",
     "status": "completed"
    },
    "tags": []
   },
   "source": [
    "<link rel=\"preconnect\" href=\"https://fonts.gstatic.com\">\n",
    "<link href=\"https://fonts.googleapis.com/css2?family=Fira+Code&display=swap\" rel=\"stylesheet\">\n",
    "\n",
    "### License\n",
    "\n",
    "<p style=\"font-family: 'Fira Code', monospace; font-size: 1.2rem\">\n",
    "Copyright (C) 2021-2022, Xilinx, Inc.\n",
    "Copyright (C) 2022-2023, Advanced Micro Devices, Inc.\n",
    "<br><br>\n",
    "Licensed under the Apache License, Version 2.0 (the \"License\");<br>\n",
    "you may not use this file except in compliance with the License.<br><br>\n",
    "You may obtain a copy of the License at <a href=\"http://www.apache.org/licenses/LICENSE-2.0\"?>http://www.apache.org/licenses/LICENSE-2.0</a><br><br>\n",
    "Unless required by applicable law or agreed to in writing, software<br>\n",
    "distributed under the License is distributed on an \"AS IS\" BASIS,<br>\n",
    "WITHOUT WARRANTIES OR CONDITIONS OF ANY KIND, either express or implied.<br>\n",
    "See the License for the specific language governing permissions and<br>\n",
    "limitations under the License.<br>\n",
    "</p>\n"
   ]
  },
  {
   "cell_type": "markdown",
   "id": "c6c0e383",
   "metadata": {
    "papermill": {
     "duration": 0.005087,
     "end_time": "2023-10-20T19:21:17.602977",
     "exception": false,
     "start_time": "2023-10-20T19:21:17.597890",
     "status": "completed"
    },
    "tags": []
   },
   "source": [
    "# ChipScoPy System Monitor Example\n",
    "\n",
    "\n",
    "<img src=\"../img/api_overview.png\" width=\"500\" align=\"left\">"
   ]
  },
  {
   "cell_type": "markdown",
   "id": "e114a2aa",
   "metadata": {
    "papermill": {
     "duration": 0.00369,
     "end_time": "2023-10-20T19:21:17.610488",
     "exception": false,
     "start_time": "2023-10-20T19:21:17.606798",
     "status": "completed"
    },
    "tags": []
   },
   "source": [
    "## Description\n",
    "\n",
    "\n",
    "This demo shows how to take and display measurements with the System Monitor.\n",
    "\n",
    "\n",
    "## Requirements\n",
    "- Local or remote Xilinx Versal board, such as a VCK190\n",
    "- Xilinx hw_server 2023.2 installed and running\n",
    "- Xilinx cs_server 2023.2 installed and running\n",
    "- Python 3.8 or greater installed\n",
    "- ChipScoPy 2023.2 installed\n",
    "- Jupyter notebook support installed - Please do so, using the command `pip install chipscopy[jupyter]`"
   ]
  },
  {
   "cell_type": "markdown",
   "id": "d09f59d5",
   "metadata": {
    "papermill": {
     "duration": 0.003745,
     "end_time": "2023-10-20T19:21:17.618010",
     "exception": false,
     "start_time": "2023-10-20T19:21:17.614265",
     "status": "completed"
    },
    "tags": []
   },
   "source": [
    "## 1 - Initialization: Imports and File Paths\n",
    "\n",
    "After this step,\n",
    "- Required functions and classes are imported\n",
    "- URL paths are set correctly\n",
    "- File paths to example files are set correctly"
   ]
  },
  {
   "cell_type": "code",
   "execution_count": 1,
   "id": "03a55426",
   "metadata": {
    "execution": {
     "iopub.execute_input": "2023-10-20T19:21:17.627498Z",
     "iopub.status.busy": "2023-10-20T19:21:17.627167Z",
     "iopub.status.idle": "2023-10-20T19:21:17.901129Z",
     "shell.execute_reply": "2023-10-20T19:21:17.899695Z"
    },
    "papermill": {
     "duration": 0.281778,
     "end_time": "2023-10-20T19:21:17.903543",
     "exception": false,
     "start_time": "2023-10-20T19:21:17.621765",
     "status": "completed"
    },
    "tags": []
   },
   "outputs": [],
   "source": [
    "import os\n",
    "import time\n",
    "from chipscopy import get_design_files\n",
    "from chipscopy import __version__, dm\n",
    "from chipscopy import create_session, report_versions"
   ]
  },
  {
   "cell_type": "code",
   "execution_count": 2,
   "id": "d1ba9fa3",
   "metadata": {
    "execution": {
     "iopub.execute_input": "2023-10-20T19:21:17.915579Z",
     "iopub.status.busy": "2023-10-20T19:21:17.914312Z",
     "iopub.status.idle": "2023-10-20T19:21:17.932792Z",
     "shell.execute_reply": "2023-10-20T19:21:17.931455Z"
    },
    "papermill": {
     "duration": 0.026302,
     "end_time": "2023-10-20T19:21:17.934642",
     "exception": false,
     "start_time": "2023-10-20T19:21:17.908340",
     "status": "completed"
    },
    "tags": []
   },
   "outputs": [
    {
     "name": "stdout",
     "output_type": "stream",
     "text": [
      "HW_URL: TCP:localhost:3121\n",
      "CS_URL: TCP:localhost:3042\n",
      "PROGRAMMING_FILE: /wrk/xcohdnobkup3/dkopelov/chipscopy/chipscopy/examples/designs/vck190/production/chipscopy_ced/chipscopy_wrapper.pdi\n",
      "PROBES_FILE:/wrk/xcohdnobkup3/dkopelov/chipscopy/chipscopy/examples/designs/vck190/production/chipscopy_ced/chipscopy_wrapper.ltx\n"
     ]
    }
   ],
   "source": [
    "# Specify locations of the running hw_server and cs_server below.\n",
    "CS_URL = os.getenv(\"CS_SERVER_URL\", \"TCP:localhost:3042\")\n",
    "HW_URL = os.getenv(\"HW_SERVER_URL\", \"TCP:localhost:3121\")\n",
    "\n",
    "# specify hw and if programming is desired\n",
    "HW_PLATFORM = os.getenv(\"HW_PLATFORM\", \"vck190\")\n",
    "PROG_DEVICE = os.getenv(\"PROG_DEVICE\", 'True').lower() in ('true', '1', 't')\n",
    "\n",
    "# The get_design_files() function tries to find the PDI and LTX files. In non-standard\n",
    "# configurations, you can put the path for PROGRAMMING_FILE and PROBES_FILE below.\n",
    "design_files = get_design_files(f\"{HW_PLATFORM}/production/chipscopy_ced\")\n",
    "\n",
    "PROGRAMMING_FILE = design_files.programming_file\n",
    "PROBES_FILE = design_files.probes_file\n",
    "\n",
    "print(f\"HW_URL: {HW_URL}\")\n",
    "print(f\"CS_URL: {CS_URL}\")\n",
    "print(f\"PROGRAMMING_FILE: {PROGRAMMING_FILE}\")\n",
    "print(f\"PROBES_FILE:{PROBES_FILE}\")"
   ]
  },
  {
   "cell_type": "markdown",
   "id": "a0cd16a7",
   "metadata": {
    "papermill": {
     "duration": 0.004334,
     "end_time": "2023-10-20T19:21:17.944414",
     "exception": false,
     "start_time": "2023-10-20T19:21:17.940080",
     "status": "completed"
    },
    "tags": []
   },
   "source": [
    "## 2 - Create a session and connect to the hw_server and cs_server\n",
    "\n",
    "The session is a container that keeps track of devices and debug cores.\n",
    "After this step,\n",
    "- Session is initialized and connected to server(s)\n",
    "- Versions are detected and reported to stdout"
   ]
  },
  {
   "cell_type": "code",
   "execution_count": 3,
   "id": "47704d79",
   "metadata": {
    "execution": {
     "iopub.execute_input": "2023-10-20T19:21:17.955269Z",
     "iopub.status.busy": "2023-10-20T19:21:17.954210Z",
     "iopub.status.idle": "2023-10-20T19:21:19.211006Z",
     "shell.execute_reply": "2023-10-20T19:21:19.209935Z"
    },
    "papermill": {
     "duration": 1.264091,
     "end_time": "2023-10-20T19:21:19.212703",
     "exception": false,
     "start_time": "2023-10-20T19:21:17.948612",
     "status": "completed"
    },
    "tags": []
   },
   "outputs": [
    {
     "data": {
      "text/html": [
       "<pre style=\"white-space:pre;overflow-x:auto;line-height:normal;font-family:Menlo,'DejaVu Sans Mono',consolas,'Courier New',monospace\">\n",
       "\n",
       "</pre>\n"
      ],
      "text/plain": [
       "<rich.jupyter.JupyterRenderable at 0x7faf60febca0>"
      ]
     },
     "metadata": {},
     "output_type": "display_data"
    },
    {
     "data": {
      "text/html": [
       "<pre style=\"white-space:pre;overflow-x:auto;line-height:normal;font-family:Menlo,'DejaVu Sans Mono',consolas,'Courier New',monospace\"><span style=\"font-style: italic\">                      ChipScoPy Version Information                      </span>\n",
       "┌────────────────────────────┬──────────────────────────────────────────┐\n",
       "│<span style=\"font-weight: bold\">                     Entity </span>│<span style=\"font-weight: bold\"> Version                                  </span>│\n",
       "├────────────────────────────┼──────────────────────────────────────────┤\n",
       "│                  ChipScoPy │ ┌───────────┬──────────────────────┐     │\n",
       "│                            │ │<span style=\"font-weight: bold\"> Attribute </span>│<span style=\"font-weight: bold\"> Value                </span>│     │\n",
       "│                            │ ├───────────┼──────────────────────┤     │\n",
       "│                            │ │     Build │ 2023.2.1693353190    │     │\n",
       "│                            │ │ Timestamp │ Aug 29 2023-17:53:10 │     │\n",
       "│                            │ └───────────┴──────────────────────┘     │\n",
       "│                            │                                          │\n",
       "│ hw_server @ localhost:3121 │ ┌───────────┬──────────────────────────┐ │\n",
       "│                            │ │<span style=\"font-weight: bold\"> Attribute </span>│<span style=\"font-weight: bold\"> Value                    </span>│ │\n",
       "│                            │ ├───────────┼──────────────────────────┤ │\n",
       "│                            │ │    Status │ Connected                │ │\n",
       "│                            │ │     Build │ 1683493450               │ │\n",
       "│                            │ │   Version │ 2023.1                   │ │\n",
       "│                            │ │ Timestamp │ Sun May  7 15:04:10 2023 │ │\n",
       "│                            │ └───────────┴──────────────────────────┘ │\n",
       "│                            │                                          │\n",
       "│ cs_server @ localhost:3042 │ ┌───────────────┬──────────────────────┐ │\n",
       "│                            │ │<span style=\"font-weight: bold\">     Attribute </span>│<span style=\"font-weight: bold\"> Value                </span>│ │\n",
       "│                            │ ├───────────────┼──────────────────────┤ │\n",
       "│                            │ │        Status │ Connected            │ │\n",
       "│                            │ │         Build │ 1696910516           │ │\n",
       "│                            │ │       Version │ 2023.2.0             │ │\n",
       "│                            │ │     Timestamp │ Oct 09 2023-22:01:56 │ │\n",
       "│                            │ │       Package │ 2023.2.1696910516    │ │\n",
       "│                            │ │ Artifact type │ pyinstaller          │ │\n",
       "│                            │ └───────────────┴──────────────────────┘ │\n",
       "└────────────────────────────┴──────────────────────────────────────────┘\n",
       "</pre>\n"
      ],
      "text/plain": [
       "<rich.jupyter.JupyterRenderable at 0x7faf60febca0>"
      ]
     },
     "metadata": {},
     "output_type": "display_data"
    },
    {
     "data": {
      "text/html": [
       "<pre style=\"white-space:pre;overflow-x:auto;line-height:normal;font-family:Menlo,'DejaVu Sans Mono',consolas,'Courier New',monospace\">\n",
       "\n",
       "</pre>\n"
      ],
      "text/plain": [
       "<rich.jupyter.JupyterRenderable at 0x7faf60febca0>"
      ]
     },
     "metadata": {},
     "output_type": "display_data"
    }
   ],
   "source": [
    "session = create_session(cs_server_url=CS_URL, hw_server_url=HW_URL)\n",
    "report_versions(session)"
   ]
  },
  {
   "cell_type": "markdown",
   "id": "12ce820e",
   "metadata": {
    "papermill": {
     "duration": 0.004617,
     "end_time": "2023-10-20T19:21:19.222872",
     "exception": false,
     "start_time": "2023-10-20T19:21:19.218255",
     "status": "completed"
    },
    "tags": []
   },
   "source": [
    "## 3 - Program the device with the example design\n",
    "\n",
    "After this step,\n",
    "- Device is programmed with the example programming file"
   ]
  },
  {
   "cell_type": "code",
   "execution_count": 4,
   "id": "d1423766",
   "metadata": {
    "execution": {
     "iopub.execute_input": "2023-10-20T19:21:19.234798Z",
     "iopub.status.busy": "2023-10-20T19:21:19.233845Z",
     "iopub.status.idle": "2023-10-20T19:21:24.442401Z",
     "shell.execute_reply": "2023-10-20T19:21:24.441418Z"
    },
    "papermill": {
     "duration": 5.217473,
     "end_time": "2023-10-20T19:21:24.444861",
     "exception": false,
     "start_time": "2023-10-20T19:21:19.227388",
     "status": "completed"
    },
    "tags": []
   },
   "outputs": [
    {
     "data": {
      "text/html": [
       "<pre style=\"white-space:pre;overflow-x:auto;line-height:normal;font-family:Menlo,'DejaVu Sans Mono',consolas,'Courier New',monospace\">\n",
       "<span style=\"font-weight: bold\">--&gt; INFO: </span>Programming device with: /wrk/xcohdnobkup3/dkopelov/chipscopy/chipscopy/examples/de\n",
       "signs/vck190/production/chipscopy_ced/chipscopy_wrapper.pdi\n",
       "    \n",
       "</pre>\n"
      ],
      "text/plain": [
       "<rich.jupyter.JupyterRenderable at 0x7faf7c2fda90>"
      ]
     },
     "metadata": {},
     "output_type": "display_data"
    },
    {
     "name": "stderr",
     "output_type": "stream",
     "text": [
      "/wrk/xcohdnobkup3/dkopelov/chipscopy/chipscopy-venv-py38/lib/python3.8/site-packages/rich/live.py:216: UserWarning: install \"ipywidgets\" for Jupyter support\n",
      "  warnings.warn('install \"ipywidgets\" for Jupyter support')\n"
     ]
    }
   ],
   "source": [
    "# Typical case - one device on the board - get it.\n",
    "device = session.devices.filter_by(family=\"versal\").get()\n",
    "if PROG_DEVICE:\n",
    "    device.program(PROGRAMMING_FILE)\n",
    "else:\n",
    "    print(\"skipping programming\")"
   ]
  },
  {
   "cell_type": "markdown",
   "id": "e596c21f",
   "metadata": {
    "papermill": {
     "duration": 0.005021,
     "end_time": "2023-10-20T19:21:24.456390",
     "exception": false,
     "start_time": "2023-10-20T19:21:24.451369",
     "status": "completed"
    },
    "tags": []
   },
   "source": [
    "## 4 - Discover Debug Cores\n",
    "\n",
    "Debug core discovery initializes the chipscope server debug cores. This brings debug cores in the chipscope server online.\n",
    "\n",
    "After this step,\n",
    "\n",
    "- The cs_server is initialized and ready for use"
   ]
  },
  {
   "cell_type": "code",
   "execution_count": 5,
   "id": "67670db8",
   "metadata": {
    "execution": {
     "iopub.execute_input": "2023-10-20T19:21:24.468263Z",
     "iopub.status.busy": "2023-10-20T19:21:24.467343Z",
     "iopub.status.idle": "2023-10-20T19:21:24.520277Z",
     "shell.execute_reply": "2023-10-20T19:21:24.519234Z"
    },
    "papermill": {
     "duration": 0.060564,
     "end_time": "2023-10-20T19:21:24.521718",
     "exception": false,
     "start_time": "2023-10-20T19:21:24.461154",
     "status": "completed"
    },
    "tags": []
   },
   "outputs": [
    {
     "name": "stdout",
     "output_type": "stream",
     "text": [
      "System monitor setup and ready for use.\n"
     ]
    }
   ],
   "source": [
    "device.discover_and_setup_cores(sysmon_scan=True, ddr_scan=False)\n",
    "print(f\"System monitor setup and ready for use.\")"
   ]
  },
  {
   "cell_type": "markdown",
   "id": "1b9c60d8",
   "metadata": {
    "papermill": {
     "duration": 0.006454,
     "end_time": "2023-10-20T19:21:24.534563",
     "exception": false,
     "start_time": "2023-10-20T19:21:24.528109",
     "status": "completed"
    },
    "tags": []
   },
   "source": [
    "## 5 - Initialize System Monitor\n",
    "\n",
    "Get reference to the system monitor and initialize all sensors.\n",
    "grab the measurement schedule"
   ]
  },
  {
   "cell_type": "code",
   "execution_count": 6,
   "id": "71870922",
   "metadata": {
    "execution": {
     "iopub.execute_input": "2023-10-20T19:21:24.547226Z",
     "iopub.status.busy": "2023-10-20T19:21:24.546305Z",
     "iopub.status.idle": "2023-10-20T19:21:25.388502Z",
     "shell.execute_reply": "2023-10-20T19:21:25.387344Z"
    },
    "lines_to_next_cell": 2,
    "papermill": {
     "duration": 0.849944,
     "end_time": "2023-10-20T19:21:25.390109",
     "exception": false,
     "start_time": "2023-10-20T19:21:24.540165",
     "status": "completed"
    },
    "tags": []
   },
   "outputs": [
    {
     "name": "stdout",
     "output_type": "stream",
     "text": [
      "Initializing sensors\n"
     ]
    },
    {
     "name": "stdout",
     "output_type": "stream",
     "text": [
      "Refresh measurement schedule\n",
      "Sensor Schedule:\n",
      "  VCCAUX\n",
      "  VCCAUX_PMC\n",
      "  VCC_PMC\n",
      "  VCC_PSFP\n",
      "  VCC_PSLP\n",
      "  VCC_SOC\n",
      "  VP_VN\n",
      "\n"
     ]
    }
   ],
   "source": [
    "sysmon = device.sysmon_root[0]\n",
    "\n",
    "print(\"Initializing sensors\")\n",
    "active_nodes = sysmon.initialize_sensors()\n",
    "\n",
    "print(\"Refresh measurement schedule\")\n",
    "schedule = sysmon.refresh_measurement_schedule()\n",
    "\n",
    "print(\"Sensor Schedule:\")\n",
    "for sensor in schedule.values():\n",
    "    print(f\"  {sensor}\")\n",
    "print()"
   ]
  },
  {
   "cell_type": "markdown",
   "id": "61da7f7a",
   "metadata": {
    "lines_to_next_cell": 0,
    "papermill": {
     "duration": 0.006626,
     "end_time": "2023-10-20T19:21:25.402969",
     "exception": false,
     "start_time": "2023-10-20T19:21:25.396343",
     "status": "completed"
    },
    "tags": []
   },
   "source": [
    "## 6 - Refresh values from hardware\n",
    "\n",
    "Perform individual sensor read"
   ]
  },
  {
   "cell_type": "code",
   "execution_count": 7,
   "id": "7208308a",
   "metadata": {
    "execution": {
     "iopub.execute_input": "2023-10-20T19:21:25.417099Z",
     "iopub.status.busy": "2023-10-20T19:21:25.416459Z",
     "iopub.status.idle": "2023-10-20T19:21:25.504586Z",
     "shell.execute_reply": "2023-10-20T19:21:25.503546Z"
    },
    "papermill": {
     "duration": 0.097308,
     "end_time": "2023-10-20T19:21:25.506266",
     "exception": false,
     "start_time": "2023-10-20T19:21:25.408958",
     "status": "completed"
    },
    "tags": []
   },
   "outputs": [
    {
     "name": "stdout",
     "output_type": "stream",
     "text": [
      "Individual sensor read of VCCAUX\n",
      "->VCCAUX: 1.498V\n",
      "\n"
     ]
    }
   ],
   "source": [
    "sensor_to_read = 'VCCAUX'\n",
    "current_value = sysmon.read_sensor(sensor_to_read)\n",
    "print(f\"Individual sensor read of {sensor_to_read}\")\n",
    "print(f'->{sensor_to_read}: {current_value:.3f}V')\n",
    "print()"
   ]
  },
  {
   "cell_type": "markdown",
   "id": "f167a03a",
   "metadata": {
    "papermill": {
     "duration": 0.006669,
     "end_time": "2023-10-20T19:21:25.519794",
     "exception": false,
     "start_time": "2023-10-20T19:21:25.513125",
     "status": "completed"
    },
    "tags": []
   },
   "source": [
    "## 7 - Run measurement for 5 seconds\n",
    "\n",
    "Grab samples once a second for 5 seconds then exit."
   ]
  },
  {
   "cell_type": "code",
   "execution_count": 8,
   "id": "98a08be4",
   "metadata": {
    "execution": {
     "iopub.execute_input": "2023-10-20T19:21:25.534460Z",
     "iopub.status.busy": "2023-10-20T19:21:25.533267Z",
     "iopub.status.idle": "2023-10-20T19:21:31.246177Z",
     "shell.execute_reply": "2023-10-20T19:21:31.245132Z"
    },
    "papermill": {
     "duration": 5.722089,
     "end_time": "2023-10-20T19:21:31.247874",
     "exception": false,
     "start_time": "2023-10-20T19:21:25.525785",
     "status": "completed"
    },
    "tags": []
   },
   "outputs": [
    {
     "name": "stdout",
     "output_type": "stream",
     "text": [
      "Group of sensors read\n"
     ]
    },
    {
     "name": "stdout",
     "output_type": "stream",
     "text": [
      "  VCC_PMC: 0.798V\n",
      "  VCC_PSLP: 0.796V\n",
      "  VCC_PSFP: 0.797V\n",
      "  VCC_SOC: 0.825V\n"
     ]
    },
    {
     "name": "stdout",
     "output_type": "stream",
     "text": [
      "  device_temp_min_min: 30.1°C\n",
      "  device_temp: 32.9°C\n",
      "  device_temp_max_max: 33.6°C\n",
      "\n"
     ]
    },
    {
     "name": "stdout",
     "output_type": "stream",
     "text": [
      "  VCC_PMC: 0.797V\n",
      "  VCC_PSLP: 0.796V\n",
      "  VCC_PSFP: 0.799V\n",
      "  VCC_SOC: 0.809V\n",
      "  device_temp_min_min: 30.1°C\n",
      "  device_temp: 32.9°C\n",
      "  device_temp_max_max: 33.9°C\n",
      "\n"
     ]
    },
    {
     "name": "stdout",
     "output_type": "stream",
     "text": [
      "  VCC_PMC: 0.798V\n",
      "  VCC_PSLP: 0.797V\n",
      "  VCC_PSFP: 0.799V\n",
      "  VCC_SOC: 0.818V\n",
      "  device_temp_min_min: 30.1°C\n",
      "  device_temp: 33.0°C\n",
      "  device_temp_max_max: 34.0°C\n",
      "\n"
     ]
    },
    {
     "name": "stdout",
     "output_type": "stream",
     "text": [
      "  VCC_PMC: 0.797V\n",
      "  VCC_PSLP: 0.798V\n",
      "  VCC_PSFP: 0.797V\n",
      "  VCC_SOC: 0.795V\n",
      "  device_temp_min_min: 30.1°C\n",
      "  device_temp: 33.2°C\n",
      "  device_temp_max_max: 34.0°C\n",
      "\n"
     ]
    },
    {
     "name": "stdout",
     "output_type": "stream",
     "text": [
      "  VCC_PMC: 0.798V\n",
      "  VCC_PSLP: 0.796V\n",
      "  VCC_PSFP: 0.798V\n",
      "  VCC_SOC: 0.802V\n",
      "  device_temp_min_min: 30.1°C\n",
      "  device_temp: 33.4°C\n",
      "  device_temp_max_max: 34.0°C\n",
      "\n"
     ]
    },
    {
     "name": "stdout",
     "output_type": "stream",
     "text": [
      "Measurement done.\n"
     ]
    }
   ],
   "source": [
    "# Take measurements for 5 seconds then exit.\n",
    "print(\"Group of sensors read\")\n",
    "sensors_to_read = ['VCC_PMC', 'VCC_PSLP', 'VCC_PSFP', 'VCC_SOC']\n",
    "for x in range(5):\n",
    "    current_sensor_values = sysmon.read_sensors(sensors_to_read)\n",
    "    for sensor, value in current_sensor_values.items():\n",
    "        print(f'  {sensor}: {value:.3f}V')\n",
    "    temps = sysmon.read_temp()\n",
    "    for temp, value in temps.items():\n",
    "        print(f'  {temp}: {value:.1f}' + u\"\\u00b0C\")\n",
    "    print()\n",
    "    time.sleep(1)\n",
    "\n",
    "\n",
    "print(\"Measurement done.\")"
   ]
  }
 ],
 "metadata": {
  "jupytext": {
   "cell_metadata_filter": "-all",
   "main_language": "python",
   "notebook_metadata_filter": "-all"
  },
  "language_info": {
   "codemirror_mode": {
    "name": "ipython",
    "version": 3
   },
   "file_extension": ".py",
   "mimetype": "text/x-python",
   "name": "python",
   "nbconvert_exporter": "python",
   "pygments_lexer": "ipython3",
   "version": "3.8.3"
  },
  "papermill": {
   "default_parameters": {},
   "duration": 16.802741,
   "end_time": "2023-10-20T19:21:31.574566",
   "environment_variables": {},
   "exception": null,
   "input_path": "chipscopy/examples/sysmon/sysmon_sync_example.ipynb",
   "output_path": "chipscopy/examples/sysmon/sysmon_sync_example.ipynb",
   "parameters": {},
   "start_time": "2023-10-20T19:21:14.771825",
   "version": "2.4.0"
  }
 },
 "nbformat": 4,
 "nbformat_minor": 5
}