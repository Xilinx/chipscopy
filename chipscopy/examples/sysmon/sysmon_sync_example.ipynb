{
  "cells": [
    {
      "cell_type": "markdown",
      "id": "b2897831",
      "metadata": {},
      "source": [
        "<link rel=\"preconnect\" href=\"https://fonts.gstatic.com\">\n",
        "<link href=\"https://fonts.googleapis.com/css2?family=Fira+Code&display=swap\" rel=\"stylesheet\">\n",
        "\n",
        "### License\n",
        "\n",
        "<p style=\"font-family: 'Fira Code', monospace; font-size: 1.2rem\">\n",
        "Copyright (C) 2021-2022, Xilinx, Inc.<br>\n",
        "Copyright (C) 2022-2024, Advanced Micro Devices, Inc.\n",
        "<br><br>\n",
        "Licensed under the Apache License, Version 2.0 (the \"License\");<br>\n",
        "you may not use this file except in compliance with the License.<br><br>\n",
        "You may obtain a copy of the License at <a href=\"http://www.apache.org/licenses/LICENSE-2.0\"?>http://www.apache.org/licenses/LICENSE-2.0</a><br><br>\n",
        "Unless required by applicable law or agreed to in writing, software<br>\n",
        "distributed under the License is distributed on an \"AS IS\" BASIS,<br>\n",
        "WITHOUT WARRANTIES OR CONDITIONS OF ANY KIND, either express or implied.<br>\n",
        "See the License for the specific language governing permissions and<br>\n",
        "limitations under the License.<br>\n",
        "</p>\n"
      ],
      "outputs": [],
      "execution_count": null
    },
    {
      "cell_type": "markdown",
      "id": "c6c0e383",
      "metadata": {},
      "source": [
        "# ChipScoPy System Monitor Example\n",
        "\n",
        "\n",
        "<img src=\"../img/api_overview.png\" width=\"500\" align=\"left\">"
      ],
      "outputs": [],
      "execution_count": null
    },
    {
      "cell_type": "markdown",
      "id": "e114a2aa",
      "metadata": {},
      "source": [
        "## Description\n",
        "\n",
        "\n",
        "This demo shows how to take and display measurements with the System Monitor.\n",
        "\n",
        "\n",
        "## Requirements\n",
        "- Local or remote Xilinx Versal board, such as a VCK190\n",
        "- Xilinx hw_server 2023.2 installed and running\n",
        "- Xilinx cs_server 2023.2 installed and running\n",
        "- Python 3.8 or greater installed\n",
        "- ChipScoPy 2023.2 installed\n",
        "- Jupyter notebook support installed - Please do so, using the command `pip install chipscopy[jupyter]`"
      ],
      "outputs": [],
      "execution_count": null
    },
    {
      "cell_type": "markdown",
      "id": "d09f59d5",
      "metadata": {},
      "source": [
        "## 1 - Initialization: Imports and File Paths\n",
        "\n",
        "After this step,\n",
        "- Required functions and classes are imported\n",
        "- URL paths are set correctly\n",
        "- File paths to example files are set correctly"
      ],
      "outputs": [],
      "execution_count": null
    },
    {
      "cell_type": "code",
      "execution_count": null,
      "id": "03a55426",
      "metadata": {},
      "outputs": [],
      "source": [
        "import os\n",
        "import time\n",
        "from chipscopy import get_design_files\n",
        "from chipscopy import __version__, dm\n",
        "from chipscopy import create_session, report_versions, delete_session"
      ]
    },
    {
      "cell_type": "code",
      "execution_count": null,
      "id": "d1ba9fa3",
      "metadata": {},
      "outputs": [],
      "source": [
        "# Specify locations of the running hw_server and cs_server below.\n",
        "CS_URL = os.getenv(\"CS_SERVER_URL\", \"TCP:localhost:3042\")\n",
        "HW_URL = os.getenv(\"HW_SERVER_URL\", \"TCP:localhost:3121\")\n",
        "\n",
        "# specify hw and if programming is desired\n",
        "HW_PLATFORM = os.getenv(\"HW_PLATFORM\", \"vck190\")\n",
        "PROG_DEVICE = os.getenv(\"PROG_DEVICE\", 'True').lower() in ('true', '1', 't')\n",
        "\n",
        "# The get_design_files() function tries to find the PDI and LTX files. In non-standard\n",
        "# configurations, you can put the path for PROGRAMMING_FILE and PROBES_FILE below.\n",
        "design_files = get_design_files(f\"{HW_PLATFORM}/production/chipscopy_ced\")\n",
        "\n",
        "PROGRAMMING_FILE = design_files.programming_file\n",
        "PROBES_FILE = design_files.probes_file\n",
        "\n",
        "print(f\"HW_URL: {HW_URL}\")\n",
        "print(f\"CS_URL: {CS_URL}\")\n",
        "print(f\"PROGRAMMING_FILE: {PROGRAMMING_FILE}\")\n",
        "print(f\"PROBES_FILE:{PROBES_FILE}\")"
      ]
    },
    {
      "cell_type": "markdown",
      "id": "a0cd16a7",
      "metadata": {},
      "source": [
        "## 2 - Create a session and connect to the hw_server and cs_server\n",
        "\n",
        "The session is a container that keeps track of devices and debug cores.\n",
        "After this step,\n",
        "- Session is initialized and connected to server(s)\n",
        "- Versions are detected and reported to stdout"
      ],
      "outputs": [],
      "execution_count": null
    },
    {
      "cell_type": "code",
      "execution_count": null,
      "id": "47704d79",
      "metadata": {},
      "outputs": [],
      "source": [
        "session = create_session(cs_server_url=CS_URL, hw_server_url=HW_URL)\n",
        "report_versions(session)"
      ]
    },
    {
      "cell_type": "markdown",
      "id": "12ce820e",
      "metadata": {},
      "source": [
        "## 3 - Program the device with the example design\n",
        "\n",
        "After this step,\n",
        "- Device is programmed with the example programming file"
      ],
      "outputs": [],
      "execution_count": null
    },
    {
      "cell_type": "code",
      "execution_count": null,
      "id": "d1423766",
      "metadata": {},
      "outputs": [],
      "source": [
        "# Typical case - one device on the board - get it.\n",
        "device = session.devices.filter_by(family=\"versal\").get()\n",
        "if PROG_DEVICE:\n",
        "    device.program(PROGRAMMING_FILE)\n",
        "else:\n",
        "    print(\"skipping programming\")"
      ]
    },
    {
      "cell_type": "markdown",
      "id": "e596c21f",
      "metadata": {},
      "source": [
        "## 4 - Discover Debug Cores\n",
        "\n",
        "Debug core discovery initializes the chipscope server debug cores. This brings debug cores in the chipscope server online.\n",
        "\n",
        "After this step,\n",
        "\n",
        "- The cs_server is initialized and ready for use"
      ],
      "outputs": [],
      "execution_count": null
    },
    {
      "cell_type": "code",
      "execution_count": null,
      "id": "67670db8",
      "metadata": {},
      "outputs": [],
      "source": [
        "device.discover_and_setup_cores(sysmon_scan=True, ddr_scan=False)\n",
        "print(f\"System monitor setup and ready for use.\")"
      ]
    },
    {
      "cell_type": "markdown",
      "id": "1b9c60d8",
      "metadata": {},
      "source": [
        "## 5 - Initialize System Monitor\n",
        "\n",
        "Get reference to the system monitor and initialize all sensors.\n",
        "grab the measurement schedule"
      ],
      "outputs": [],
      "execution_count": null
    },
    {
      "cell_type": "code",
      "execution_count": null,
      "id": "71870922",
      "metadata": {},
      "outputs": [],
      "source": [
        "sysmon = device.sysmon_root[0]\n",
        "\n",
        "print(\"Initializing sensors\")\n",
        "active_nodes = sysmon.initialize_sensors()\n",
        "\n",
        "print(\"Refresh measurement schedule\")\n",
        "schedule = sysmon.refresh_measurement_schedule()\n",
        "\n",
        "print(\"Sensor Schedule:\")\n",
        "for sensor in schedule.values():\n",
        "    print(f\"  {sensor}\")\n",
        "print()"
      ]
    },
    {
      "cell_type": "markdown",
      "id": "61da7f7a",
      "metadata": {},
      "source": [
        "## 6 - Refresh values from hardware\n",
        "\n",
        "Perform individual sensor read"
      ],
      "outputs": [],
      "execution_count": null
    },
    {
      "cell_type": "code",
      "execution_count": null,
      "id": "7208308a",
      "metadata": {},
      "outputs": [],
      "source": [
        "sensor_to_read = 'VCCAUX'\n",
        "current_value = sysmon.read_sensor(sensor_to_read)\n",
        "print(f\"Individual sensor read of {sensor_to_read}\")\n",
        "print(f'->{sensor_to_read}: {current_value:.3f}V')\n",
        "print()"
      ]
    },
    {
      "cell_type": "markdown",
      "id": "f167a03a",
      "metadata": {},
      "source": [
        "## 7 - Run measurement for 5 seconds\n",
        "\n",
        "Grab samples once a second for 5 seconds then exit."
      ],
      "outputs": [],
      "execution_count": null
    },
    {
      "cell_type": "code",
      "execution_count": null,
      "id": "98a08be4",
      "metadata": {},
      "outputs": [],
      "source": [
        "# Take measurements for 5 seconds then exit.\n",
        "print(\"Group of sensors read\")\n",
        "sensors_to_read = ['VCC_PMC', 'VCC_PSLP', 'VCC_PSFP', 'VCC_SOC']\n",
        "for x in range(5):\n",
        "    current_sensor_values = sysmon.read_sensors(sensors_to_read)\n",
        "    for sensor, value in current_sensor_values.items():\n",
        "        print(f'  {sensor}: {value:.3f}V')\n",
        "    temps = sysmon.read_temp()\n",
        "    for temp, value in temps.items():\n",
        "        print(f'  {temp}: {value:.1f}' + u\"\\u00b0C\")\n",
        "    print()\n",
        "    time.sleep(1)\n",
        "\n",
        "\n",
        "print(\"Measurement done.\")"
      ]
    },
    {
      "cell_type": "code",
      "execution_count": null,
      "id": "909d3634",
      "metadata": {},
      "outputs": [],
      "source": [
        "## When done with testing, close the connection\n",
        "delete_session(session)"
      ]
    }
  ],
  "metadata": {},
  "nbformat": 4,
  "nbformat_minor": 5
}
