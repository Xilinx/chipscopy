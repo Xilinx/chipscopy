{
 "cells": [
  {
   "cell_type": "markdown",
   "id": "b2897831",
   "metadata": {
    "papermill": {
     "duration": 0.003387,
     "end_time": "2023-10-24T22:10:36.179626",
     "exception": false,
     "start_time": "2023-10-24T22:10:36.176239",
     "status": "completed"
    },
    "tags": []
   },
   "source": [
    "<link rel=\"preconnect\" href=\"https://fonts.gstatic.com\">\n",
    "<link href=\"https://fonts.googleapis.com/css2?family=Fira+Code&display=swap\" rel=\"stylesheet\">\n",
    "\n",
    "### License\n",
    "\n",
    "<p style=\"font-family: 'Fira Code', monospace; font-size: 1.2rem\">\n",
    "Copyright (C) 2021-2022, Xilinx, Inc.\n",
    "Copyright (C) 2022-2023, Advanced Micro Devices, Inc.\n",
    "<br><br>\n",
    "Licensed under the Apache License, Version 2.0 (the \"License\");<br>\n",
    "you may not use this file except in compliance with the License.<br><br>\n",
    "You may obtain a copy of the License at <a href=\"http://www.apache.org/licenses/LICENSE-2.0\"?>http://www.apache.org/licenses/LICENSE-2.0</a><br><br>\n",
    "Unless required by applicable law or agreed to in writing, software<br>\n",
    "distributed under the License is distributed on an \"AS IS\" BASIS,<br>\n",
    "WITHOUT WARRANTIES OR CONDITIONS OF ANY KIND, either express or implied.<br>\n",
    "See the License for the specific language governing permissions and<br>\n",
    "limitations under the License.<br>\n",
    "</p>\n"
   ]
  },
  {
   "cell_type": "markdown",
   "id": "c6c0e383",
   "metadata": {
    "papermill": {
     "duration": 0.003345,
     "end_time": "2023-10-24T22:10:36.185897",
     "exception": false,
     "start_time": "2023-10-24T22:10:36.182552",
     "status": "completed"
    },
    "tags": []
   },
   "source": [
    "# ChipScoPy System Monitor Example\n",
    "\n",
    "\n",
    "<img src=\"../img/api_overview.png\" width=\"500\" align=\"left\">"
   ]
  },
  {
   "cell_type": "markdown",
   "id": "e114a2aa",
   "metadata": {
    "papermill": {
     "duration": 0.00321,
     "end_time": "2023-10-24T22:10:36.192832",
     "exception": false,
     "start_time": "2023-10-24T22:10:36.189622",
     "status": "completed"
    },
    "tags": []
   },
   "source": [
    "## Description\n",
    "\n",
    "\n",
    "This demo shows how to take and display measurements with the System Monitor.\n",
    "\n",
    "\n",
    "## Requirements\n",
    "- Local or remote Xilinx Versal board, such as a VCK190\n",
    "- Xilinx hw_server 2023.2 installed and running\n",
    "- Xilinx cs_server 2023.2 installed and running\n",
    "- Python 3.8 or greater installed\n",
    "- ChipScoPy 2023.2 installed\n",
    "- Jupyter notebook support installed - Please do so, using the command `pip install chipscopy[jupyter]`"
   ]
  },
  {
   "cell_type": "markdown",
   "id": "d09f59d5",
   "metadata": {
    "papermill": {
     "duration": 0.002386,
     "end_time": "2023-10-24T22:10:36.197793",
     "exception": false,
     "start_time": "2023-10-24T22:10:36.195407",
     "status": "completed"
    },
    "tags": []
   },
   "source": [
    "## 1 - Initialization: Imports and File Paths\n",
    "\n",
    "After this step,\n",
    "- Required functions and classes are imported\n",
    "- URL paths are set correctly\n",
    "- File paths to example files are set correctly"
   ]
  },
  {
   "cell_type": "code",
   "execution_count": 1,
   "id": "03a55426",
   "metadata": {
    "execution": {
     "iopub.execute_input": "2023-10-24T22:10:36.205003Z",
     "iopub.status.busy": "2023-10-24T22:10:36.204369Z",
     "iopub.status.idle": "2023-10-24T22:10:36.849940Z",
     "shell.execute_reply": "2023-10-24T22:10:36.848942Z"
    },
    "papermill": {
     "duration": 0.651841,
     "end_time": "2023-10-24T22:10:36.852072",
     "exception": false,
     "start_time": "2023-10-24T22:10:36.200231",
     "status": "completed"
    },
    "tags": []
   },
   "outputs": [],
   "source": [
    "import os\n",
    "import time\n",
    "from chipscopy import get_design_files\n",
    "from chipscopy import __version__, dm\n",
    "from chipscopy import create_session, report_versions"
   ]
  },
  {
   "cell_type": "code",
   "execution_count": 2,
   "id": "d1ba9fa3",
   "metadata": {
    "execution": {
     "iopub.execute_input": "2023-10-24T22:10:36.859147Z",
     "iopub.status.busy": "2023-10-24T22:10:36.858837Z",
     "iopub.status.idle": "2023-10-24T22:10:36.866092Z",
     "shell.execute_reply": "2023-10-24T22:10:36.865418Z"
    },
    "papermill": {
     "duration": 0.012173,
     "end_time": "2023-10-24T22:10:36.867326",
     "exception": false,
     "start_time": "2023-10-24T22:10:36.855153",
     "status": "completed"
    },
    "tags": []
   },
   "outputs": [
    {
     "name": "stdout",
     "output_type": "stream",
     "text": [
      "HW_URL: TCP:localhost:3121\n",
      "CS_URL: TCP:localhost:3042\n",
      "PROGRAMMING_FILE: /scratch/2023.2/chipscopy-examples/designs/vck190/production/chipscopy_ced/chipscopy_wrapper.pdi\n",
      "PROBES_FILE:/scratch/2023.2/chipscopy-examples/designs/vck190/production/chipscopy_ced/chipscopy_wrapper.ltx\n"
     ]
    }
   ],
   "source": [
    "# Specify locations of the running hw_server and cs_server below.\n",
    "CS_URL = os.getenv(\"CS_SERVER_URL\", \"TCP:localhost:3042\")\n",
    "HW_URL = os.getenv(\"HW_SERVER_URL\", \"TCP:localhost:3121\")\n",
    "\n",
    "# specify hw and if programming is desired\n",
    "HW_PLATFORM = os.getenv(\"HW_PLATFORM\", \"vck190\")\n",
    "PROG_DEVICE = os.getenv(\"PROG_DEVICE\", 'True').lower() in ('true', '1', 't')\n",
    "\n",
    "# The get_design_files() function tries to find the PDI and LTX files. In non-standard\n",
    "# configurations, you can put the path for PROGRAMMING_FILE and PROBES_FILE below.\n",
    "design_files = get_design_files(f\"{HW_PLATFORM}/production/chipscopy_ced\")\n",
    "\n",
    "PROGRAMMING_FILE = design_files.programming_file\n",
    "PROBES_FILE = design_files.probes_file\n",
    "\n",
    "print(f\"HW_URL: {HW_URL}\")\n",
    "print(f\"CS_URL: {CS_URL}\")\n",
    "print(f\"PROGRAMMING_FILE: {PROGRAMMING_FILE}\")\n",
    "print(f\"PROBES_FILE:{PROBES_FILE}\")"
   ]
  },
  {
   "cell_type": "markdown",
   "id": "a0cd16a7",
   "metadata": {
    "papermill": {
     "duration": 0.002414,
     "end_time": "2023-10-24T22:10:36.872194",
     "exception": false,
     "start_time": "2023-10-24T22:10:36.869780",
     "status": "completed"
    },
    "tags": []
   },
   "source": [
    "## 2 - Create a session and connect to the hw_server and cs_server\n",
    "\n",
    "The session is a container that keeps track of devices and debug cores.\n",
    "After this step,\n",
    "- Session is initialized and connected to server(s)\n",
    "- Versions are detected and reported to stdout"
   ]
  },
  {
   "cell_type": "code",
   "execution_count": 3,
   "id": "47704d79",
   "metadata": {
    "execution": {
     "iopub.execute_input": "2023-10-24T22:10:36.880294Z",
     "iopub.status.busy": "2023-10-24T22:10:36.879724Z",
     "iopub.status.idle": "2023-10-24T22:10:37.953618Z",
     "shell.execute_reply": "2023-10-24T22:10:37.952810Z"
    },
    "papermill": {
     "duration": 1.080329,
     "end_time": "2023-10-24T22:10:37.954971",
     "exception": false,
     "start_time": "2023-10-24T22:10:36.874642",
     "status": "completed"
    },
    "tags": []
   },
   "outputs": [
    {
     "data": {
      "text/html": [
       "<pre style=\"white-space:pre;overflow-x:auto;line-height:normal;font-family:Menlo,'DejaVu Sans Mono',consolas,'Courier New',monospace\">\n",
       "\n",
       "</pre>\n"
      ],
      "text/plain": [
       "\n",
       "\n"
      ]
     },
     "metadata": {},
     "output_type": "display_data"
    },
    {
     "data": {
      "text/html": [
       "<pre style=\"white-space:pre;overflow-x:auto;line-height:normal;font-family:Menlo,'DejaVu Sans Mono',consolas,'Courier New',monospace\"><span style=\"font-style: italic\">                      ChipScoPy Version Information                      </span>\n",
       "┌────────────────────────────┬──────────────────────────────────────────┐\n",
       "│<span style=\"font-weight: bold\">                     Entity </span>│<span style=\"font-weight: bold\"> Version                                  </span>│\n",
       "├────────────────────────────┼──────────────────────────────────────────┤\n",
       "│                  ChipScoPy │ ┌───────────┬──────────────────────┐     │\n",
       "│                            │ │<span style=\"font-weight: bold\"> Attribute </span>│<span style=\"font-weight: bold\"> Value                </span>│     │\n",
       "│                            │ ├───────────┼──────────────────────┤     │\n",
       "│                            │ │     Build │ 2023.2.1697859156    │     │\n",
       "│                            │ │ Timestamp │ Oct 20 2023-21:32:36 │     │\n",
       "│                            │ └───────────┴──────────────────────┘     │\n",
       "│                            │                                          │\n",
       "│ hw_server @ localhost:3121 │ ┌───────────┬──────────────────────────┐ │\n",
       "│                            │ │<span style=\"font-weight: bold\"> Attribute </span>│<span style=\"font-weight: bold\"> Value                    </span>│ │\n",
       "│                            │ ├───────────┼──────────────────────────┤ │\n",
       "│                            │ │    Status │ Connected                │ │\n",
       "│                            │ │     Build │ 1683493450               │ │\n",
       "│                            │ │   Version │ 2023.1                   │ │\n",
       "│                            │ │ Timestamp │ Sun May  7 15:04:10 2023 │ │\n",
       "│                            │ └───────────┴──────────────────────────┘ │\n",
       "│                            │                                          │\n",
       "│ cs_server @ localhost:3042 │ ┌───────────────┬──────────────────────┐ │\n",
       "│                            │ │<span style=\"font-weight: bold\">     Attribute </span>│<span style=\"font-weight: bold\"> Value                </span>│ │\n",
       "│                            │ ├───────────────┼──────────────────────┤ │\n",
       "│                            │ │        Status │ Connected            │ │\n",
       "│                            │ │         Build │ 1696910516           │ │\n",
       "│                            │ │       Version │ 2023.2.0             │ │\n",
       "│                            │ │     Timestamp │ Oct 09 2023-22:01:56 │ │\n",
       "│                            │ │       Package │ 2023.2.1696910516    │ │\n",
       "│                            │ │ Artifact type │ pyinstaller          │ │\n",
       "│                            │ └───────────────┴──────────────────────┘ │\n",
       "└────────────────────────────┴──────────────────────────────────────────┘\n",
       "</pre>\n"
      ],
      "text/plain": [
       "\u001b[3m                      ChipScoPy Version Information                      \u001b[0m\n",
       "┌────────────────────────────┬──────────────────────────────────────────┐\n",
       "│\u001b[1m \u001b[0m\u001b[1m                    Entity\u001b[0m\u001b[1m \u001b[0m│\u001b[1m \u001b[0m\u001b[1mVersion                                 \u001b[0m\u001b[1m \u001b[0m│\n",
       "├────────────────────────────┼──────────────────────────────────────────┤\n",
       "│                  ChipScoPy │ ┌───────────┬──────────────────────┐     │\n",
       "│                            │ │\u001b[1m \u001b[0m\u001b[1mAttribute\u001b[0m\u001b[1m \u001b[0m│\u001b[1m \u001b[0m\u001b[1mValue               \u001b[0m\u001b[1m \u001b[0m│     │\n",
       "│                            │ ├───────────┼──────────────────────┤     │\n",
       "│                            │ │     Build │ 2023.2.1697859156    │     │\n",
       "│                            │ │ Timestamp │ Oct 20 2023-21:32:36 │     │\n",
       "│                            │ └───────────┴──────────────────────┘     │\n",
       "│                            │                                          │\n",
       "│ hw_server @ localhost:3121 │ ┌───────────┬──────────────────────────┐ │\n",
       "│                            │ │\u001b[1m \u001b[0m\u001b[1mAttribute\u001b[0m\u001b[1m \u001b[0m│\u001b[1m \u001b[0m\u001b[1mValue                   \u001b[0m\u001b[1m \u001b[0m│ │\n",
       "│                            │ ├───────────┼──────────────────────────┤ │\n",
       "│                            │ │    Status │ Connected                │ │\n",
       "│                            │ │     Build │ 1683493450               │ │\n",
       "│                            │ │   Version │ 2023.1                   │ │\n",
       "│                            │ │ Timestamp │ Sun May  7 15:04:10 2023 │ │\n",
       "│                            │ └───────────┴──────────────────────────┘ │\n",
       "│                            │                                          │\n",
       "│ cs_server @ localhost:3042 │ ┌───────────────┬──────────────────────┐ │\n",
       "│                            │ │\u001b[1m \u001b[0m\u001b[1m    Attribute\u001b[0m\u001b[1m \u001b[0m│\u001b[1m \u001b[0m\u001b[1mValue               \u001b[0m\u001b[1m \u001b[0m│ │\n",
       "│                            │ ├───────────────┼──────────────────────┤ │\n",
       "│                            │ │        Status │ Connected            │ │\n",
       "│                            │ │         Build │ 1696910516           │ │\n",
       "│                            │ │       Version │ 2023.2.0             │ │\n",
       "│                            │ │     Timestamp │ Oct 09 2023-22:01:56 │ │\n",
       "│                            │ │       Package │ 2023.2.1696910516    │ │\n",
       "│                            │ │ Artifact type │ pyinstaller          │ │\n",
       "│                            │ └───────────────┴──────────────────────┘ │\n",
       "└────────────────────────────┴──────────────────────────────────────────┘\n"
      ]
     },
     "metadata": {},
     "output_type": "display_data"
    },
    {
     "data": {
      "text/html": [
       "<pre style=\"white-space:pre;overflow-x:auto;line-height:normal;font-family:Menlo,'DejaVu Sans Mono',consolas,'Courier New',monospace\">\n",
       "\n",
       "</pre>\n"
      ],
      "text/plain": [
       "\n",
       "\n"
      ]
     },
     "metadata": {},
     "output_type": "display_data"
    }
   ],
   "source": [
    "session = create_session(cs_server_url=CS_URL, hw_server_url=HW_URL)\n",
    "report_versions(session)"
   ]
  },
  {
   "cell_type": "markdown",
   "id": "12ce820e",
   "metadata": {
    "papermill": {
     "duration": 0.002961,
     "end_time": "2023-10-24T22:10:37.962393",
     "exception": false,
     "start_time": "2023-10-24T22:10:37.959432",
     "status": "completed"
    },
    "tags": []
   },
   "source": [
    "## 3 - Program the device with the example design\n",
    "\n",
    "After this step,\n",
    "- Device is programmed with the example programming file"
   ]
  },
  {
   "cell_type": "code",
   "execution_count": 4,
   "id": "d1423766",
   "metadata": {
    "execution": {
     "iopub.execute_input": "2023-10-24T22:10:37.970535Z",
     "iopub.status.busy": "2023-10-24T22:10:37.970225Z",
     "iopub.status.idle": "2023-10-24T22:10:45.207318Z",
     "shell.execute_reply": "2023-10-24T22:10:45.206161Z"
    },
    "papermill": {
     "duration": 7.242544,
     "end_time": "2023-10-24T22:10:45.208762",
     "exception": false,
     "start_time": "2023-10-24T22:10:37.966218",
     "status": "completed"
    },
    "tags": []
   },
   "outputs": [
    {
     "data": {
      "text/html": [
       "<pre style=\"white-space:pre;overflow-x:auto;line-height:normal;font-family:Menlo,'DejaVu Sans Mono',consolas,'Courier New',monospace\">\n",
       "<span style=\"font-weight: bold\">--&gt; INFO: </span>Programming device with: \n",
       "/scratch/2023.2/chipscopy-examples/designs/vck190/production/chipscopy_ced/chipscopy_wrapper.pdi\n",
       "    \n",
       "</pre>\n"
      ],
      "text/plain": [
       "\n",
       "\u001b[1m--> INFO: \u001b[0mProgramming device with: \n",
       "/scratch/2023.2/chipscopy-examples/designs/vck190/production/chipscopy_ced/chipscopy_wrapper.pdi\n",
       "    \n"
      ]
     },
     "metadata": {},
     "output_type": "display_data"
    },
    {
     "data": {
      "application/vnd.jupyter.widget-view+json": {
       "model_id": "06c44cf3b5da41c38be3b5529ab22ae4",
       "version_major": 2,
       "version_minor": 0
      },
      "text/plain": [
       "Output()"
      ]
     },
     "metadata": {},
     "output_type": "display_data"
    },
    {
     "data": {
      "text/html": [
       "<pre style=\"white-space:pre;overflow-x:auto;line-height:normal;font-family:Menlo,'DejaVu Sans Mono',consolas,'Courier New',monospace\"></pre>\n"
      ],
      "text/plain": []
     },
     "metadata": {},
     "output_type": "display_data"
    },
    {
     "data": {
      "text/html": [
       "<pre style=\"white-space:pre;overflow-x:auto;line-height:normal;font-family:Menlo,'DejaVu Sans Mono',consolas,'Courier New',monospace\">\n",
       "</pre>\n"
      ],
      "text/plain": [
       "\n"
      ]
     },
     "metadata": {},
     "output_type": "display_data"
    }
   ],
   "source": [
    "# Typical case - one device on the board - get it.\n",
    "device = session.devices.filter_by(family=\"versal\").get()\n",
    "if PROG_DEVICE:\n",
    "    device.program(PROGRAMMING_FILE)\n",
    "else:\n",
    "    print(\"skipping programming\")"
   ]
  },
  {
   "cell_type": "markdown",
   "id": "e596c21f",
   "metadata": {
    "papermill": {
     "duration": 0.003434,
     "end_time": "2023-10-24T22:10:45.216514",
     "exception": false,
     "start_time": "2023-10-24T22:10:45.213080",
     "status": "completed"
    },
    "tags": []
   },
   "source": [
    "## 4 - Discover Debug Cores\n",
    "\n",
    "Debug core discovery initializes the chipscope server debug cores. This brings debug cores in the chipscope server online.\n",
    "\n",
    "After this step,\n",
    "\n",
    "- The cs_server is initialized and ready for use"
   ]
  },
  {
   "cell_type": "code",
   "execution_count": 5,
   "id": "67670db8",
   "metadata": {
    "execution": {
     "iopub.execute_input": "2023-10-24T22:10:45.876903Z",
     "iopub.status.busy": "2023-10-24T22:10:45.876728Z",
     "iopub.status.idle": "2023-10-24T22:10:45.974929Z",
     "shell.execute_reply": "2023-10-24T22:10:45.973799Z"
    },
    "papermill": {
     "duration": 0.756505,
     "end_time": "2023-10-24T22:10:45.976376",
     "exception": false,
     "start_time": "2023-10-24T22:10:45.219871",
     "status": "completed"
    },
    "tags": []
   },
   "outputs": [
    {
     "name": "stdout",
     "output_type": "stream",
     "text": [
      "System monitor setup and ready for use.\n"
     ]
    }
   ],
   "source": [
    "device.discover_and_setup_cores(sysmon_scan=True, ddr_scan=False)\n",
    "print(f\"System monitor setup and ready for use.\")"
   ]
  },
  {
   "cell_type": "markdown",
   "id": "1b9c60d8",
   "metadata": {
    "papermill": {
     "duration": 0.42142,
     "end_time": "2023-10-24T22:10:46.402192",
     "exception": false,
     "start_time": "2023-10-24T22:10:45.980772",
     "status": "completed"
    },
    "tags": []
   },
   "source": [
    "## 5 - Initialize System Monitor\n",
    "\n",
    "Get reference to the system monitor and initialize all sensors.\n",
    "grab the measurement schedule"
   ]
  },
  {
   "cell_type": "code",
   "execution_count": 6,
   "id": "71870922",
   "metadata": {
    "execution": {
     "iopub.execute_input": "2023-10-24T22:10:46.412549Z",
     "iopub.status.busy": "2023-10-24T22:10:46.412214Z",
     "iopub.status.idle": "2023-10-24T22:10:47.513263Z",
     "shell.execute_reply": "2023-10-24T22:10:47.512070Z"
    },
    "lines_to_next_cell": 2,
    "papermill": {
     "duration": 1.107802,
     "end_time": "2023-10-24T22:10:47.514557",
     "exception": false,
     "start_time": "2023-10-24T22:10:46.406755",
     "status": "completed"
    },
    "tags": []
   },
   "outputs": [
    {
     "name": "stdout",
     "output_type": "stream",
     "text": [
      "Initializing sensors\n"
     ]
    },
    {
     "name": "stdout",
     "output_type": "stream",
     "text": [
      "Refresh measurement schedule\n",
      "Sensor Schedule:\n",
      "  VCCAUX\n",
      "  VCCAUX_PMC\n",
      "  VCC_PMC\n",
      "  VCC_PSFP\n",
      "  VCC_PSLP\n",
      "  VCC_SOC\n",
      "  VP_VN\n",
      "\n"
     ]
    }
   ],
   "source": [
    "sysmon = device.sysmon_root[0]\n",
    "\n",
    "print(\"Initializing sensors\")\n",
    "active_nodes = sysmon.initialize_sensors()\n",
    "\n",
    "print(\"Refresh measurement schedule\")\n",
    "schedule = sysmon.refresh_measurement_schedule()\n",
    "\n",
    "print(\"Sensor Schedule:\")\n",
    "for sensor in schedule.values():\n",
    "    print(f\"  {sensor}\")\n",
    "print()"
   ]
  },
  {
   "cell_type": "markdown",
   "id": "61da7f7a",
   "metadata": {
    "lines_to_next_cell": 0,
    "papermill": {
     "duration": 0.003953,
     "end_time": "2023-10-24T22:10:47.523010",
     "exception": false,
     "start_time": "2023-10-24T22:10:47.519057",
     "status": "completed"
    },
    "tags": []
   },
   "source": [
    "## 6 - Refresh values from hardware\n",
    "\n",
    "Perform individual sensor read"
   ]
  },
  {
   "cell_type": "code",
   "execution_count": 7,
   "id": "7208308a",
   "metadata": {
    "execution": {
     "iopub.execute_input": "2023-10-24T22:10:47.531768Z",
     "iopub.status.busy": "2023-10-24T22:10:47.531326Z",
     "iopub.status.idle": "2023-10-24T22:10:47.617139Z",
     "shell.execute_reply": "2023-10-24T22:10:47.615722Z"
    },
    "papermill": {
     "duration": 0.092629,
     "end_time": "2023-10-24T22:10:47.619207",
     "exception": false,
     "start_time": "2023-10-24T22:10:47.526578",
     "status": "completed"
    },
    "tags": []
   },
   "outputs": [
    {
     "name": "stdout",
     "output_type": "stream",
     "text": [
      "Individual sensor read of VCCAUX\n",
      "->VCCAUX: 1.501V\n",
      "\n"
     ]
    }
   ],
   "source": [
    "sensor_to_read = 'VCCAUX'\n",
    "current_value = sysmon.read_sensor(sensor_to_read)\n",
    "print(f\"Individual sensor read of {sensor_to_read}\")\n",
    "print(f'->{sensor_to_read}: {current_value:.3f}V')\n",
    "print()"
   ]
  },
  {
   "cell_type": "markdown",
   "id": "f167a03a",
   "metadata": {
    "papermill": {
     "duration": 0.004194,
     "end_time": "2023-10-24T22:10:47.628236",
     "exception": false,
     "start_time": "2023-10-24T22:10:47.624042",
     "status": "completed"
    },
    "tags": []
   },
   "source": [
    "## 7 - Run measurement for 5 seconds\n",
    "\n",
    "Grab samples once a second for 5 seconds then exit."
   ]
  },
  {
   "cell_type": "code",
   "execution_count": 8,
   "id": "98a08be4",
   "metadata": {
    "execution": {
     "iopub.execute_input": "2023-10-24T22:10:47.638422Z",
     "iopub.status.busy": "2023-10-24T22:10:47.637474Z",
     "iopub.status.idle": "2023-10-24T22:10:53.421628Z",
     "shell.execute_reply": "2023-10-24T22:10:53.420731Z"
    },
    "papermill": {
     "duration": 5.790631,
     "end_time": "2023-10-24T22:10:53.423064",
     "exception": false,
     "start_time": "2023-10-24T22:10:47.632433",
     "status": "completed"
    },
    "tags": []
   },
   "outputs": [
    {
     "name": "stdout",
     "output_type": "stream",
     "text": [
      "Group of sensors read\n"
     ]
    },
    {
     "name": "stdout",
     "output_type": "stream",
     "text": [
      "  VCC_PMC: 0.799V\n",
      "  VCC_PSLP: 0.799V\n",
      "  VCC_PSFP: 0.797V\n",
      "  VCC_SOC: 0.808V\n",
      "  device_temp: 32.8°C\n",
      "  device_temp_min_min: 28.4°C\n",
      "  device_temp_max_max: 33.4°C\n",
      "\n"
     ]
    },
    {
     "name": "stdout",
     "output_type": "stream",
     "text": [
      "  VCC_PMC: 0.799V\n",
      "  VCC_PSLP: 0.800V\n",
      "  VCC_PSFP: 0.797V\n",
      "  VCC_SOC: 0.804V\n",
      "  device_temp: 32.8°C\n",
      "  device_temp_min_min: 28.4°C\n",
      "  device_temp_max_max: 33.6°C\n",
      "\n"
     ]
    },
    {
     "name": "stdout",
     "output_type": "stream",
     "text": [
      "  VCC_PMC: 0.799V\n",
      "  VCC_PSLP: 0.799V\n",
      "  VCC_PSFP: 0.797V\n",
      "  VCC_SOC: 0.813V\n",
      "  device_temp: 33.4°C\n",
      "  device_temp_min_min: 28.4°C\n",
      "  device_temp_max_max: 33.7°C\n",
      "\n"
     ]
    },
    {
     "name": "stdout",
     "output_type": "stream",
     "text": [
      "  VCC_PMC: 0.799V\n",
      "  VCC_PSLP: 0.797V\n",
      "  VCC_PSFP: 0.796V\n",
      "  VCC_SOC: 0.803V\n",
      "  device_temp: 32.7°C\n",
      "  device_temp_min_min: 28.4°C\n",
      "  device_temp_max_max: 33.8°C\n",
      "\n"
     ]
    },
    {
     "name": "stdout",
     "output_type": "stream",
     "text": [
      "  VCC_PMC: 0.799V\n",
      "  VCC_PSLP: 0.798V\n",
      "  VCC_PSFP: 0.798V\n",
      "  VCC_SOC: 0.803V\n",
      "  device_temp: 32.7°C\n",
      "  device_temp_min_min: 28.4°C\n",
      "  device_temp_max_max: 33.8°C\n",
      "\n"
     ]
    },
    {
     "name": "stdout",
     "output_type": "stream",
     "text": [
      "Measurement done.\n"
     ]
    }
   ],
   "source": [
    "# Take measurements for 5 seconds then exit.\n",
    "print(\"Group of sensors read\")\n",
    "sensors_to_read = ['VCC_PMC', 'VCC_PSLP', 'VCC_PSFP', 'VCC_SOC']\n",
    "for x in range(5):\n",
    "    current_sensor_values = sysmon.read_sensors(sensors_to_read)\n",
    "    for sensor, value in current_sensor_values.items():\n",
    "        print(f'  {sensor}: {value:.3f}V')\n",
    "    temps = sysmon.read_temp()\n",
    "    for temp, value in temps.items():\n",
    "        print(f'  {temp}: {value:.1f}' + u\"\\u00b0C\")\n",
    "    print()\n",
    "    time.sleep(1)\n",
    "\n",
    "\n",
    "print(\"Measurement done.\")"
   ]
  }
 ],
 "metadata": {
  "jupytext": {
   "cell_metadata_filter": "-all",
   "main_language": "python",
   "notebook_metadata_filter": "-all"
  },
  "language_info": {
   "codemirror_mode": {
    "name": "ipython",
    "version": 3
   },
   "file_extension": ".py",
   "mimetype": "text/x-python",
   "name": "python",
   "nbconvert_exporter": "python",
   "pygments_lexer": "ipython3",
   "version": "3.10.10"
  },
  "papermill": {
   "default_parameters": {},
   "duration": 19.228488,
   "end_time": "2023-10-24T22:10:53.946232",
   "environment_variables": {},
   "exception": null,
   "input_path": "./chipscopy-examples/sysmon/sysmon_sync_example.ipynb",
   "output_path": "./chipscopy-examples/sysmon/sysmon_sync_example.ipynb",
   "parameters": {},
   "start_time": "2023-10-24T22:10:34.717744",
   "version": "2.4.0"
  },
  "widgets": {
   "application/vnd.jupyter.widget-state+json": {
    "state": {
     "06c44cf3b5da41c38be3b5529ab22ae4": {
      "model_module": "@jupyter-widgets/output",
      "model_module_version": "1.0.0",
      "model_name": "OutputModel",
      "state": {
       "_dom_classes": [],
       "_model_module": "@jupyter-widgets/output",
       "_model_module_version": "1.0.0",
       "_model_name": "OutputModel",
       "_view_count": null,
       "_view_module": "@jupyter-widgets/output",
       "_view_module_version": "1.0.0",
       "_view_name": "OutputView",
       "layout": "IPY_MODEL_f3471cfd10a246c682908075e3f72639",
       "msg_id": "",
       "outputs": [
        {
         "data": {
          "text/html": "<pre style=\"white-space:pre;overflow-x:auto;line-height:normal;font-family:Menlo,'DejaVu Sans Mono',consolas,'Courier New',monospace\">Device program progress <span style=\"color: #729c1f; text-decoration-color: #729c1f\">━━━━━━━━━━━━━━━━━━━━━━━━━━━━━━━━━━━━━━━━</span> <span style=\"color: #ff00ff; text-decoration-color: #ff00ff; font-weight: bold\">100%</span> <span style=\"color: #008000; text-decoration-color: #008000; font-weight: bold\">Done</span>\n</pre>\n",
          "text/plain": "Device program progress \u001b[38;2;114;156;31m━━━━━━━━━━━━━━━━━━━━━━━━━━━━━━━━━━━━━━━━\u001b[0m \u001b[1;95m100%\u001b[0m \u001b[1;32mDone\u001b[0m\n"
         },
         "metadata": {},
         "output_type": "display_data"
        }
       ],
       "tabbable": null,
       "tooltip": null
      }
     },
     "f3471cfd10a246c682908075e3f72639": {
      "model_module": "@jupyter-widgets/base",
      "model_module_version": "2.0.0",
      "model_name": "LayoutModel",
      "state": {
       "_model_module": "@jupyter-widgets/base",
       "_model_module_version": "2.0.0",
       "_model_name": "LayoutModel",
       "_view_count": null,
       "_view_module": "@jupyter-widgets/base",
       "_view_module_version": "2.0.0",
       "_view_name": "LayoutView",
       "align_content": null,
       "align_items": null,
       "align_self": null,
       "border_bottom": null,
       "border_left": null,
       "border_right": null,
       "border_top": null,
       "bottom": null,
       "display": null,
       "flex": null,
       "flex_flow": null,
       "grid_area": null,
       "grid_auto_columns": null,
       "grid_auto_flow": null,
       "grid_auto_rows": null,
       "grid_column": null,
       "grid_gap": null,
       "grid_row": null,
       "grid_template_areas": null,
       "grid_template_columns": null,
       "grid_template_rows": null,
       "height": null,
       "justify_content": null,
       "justify_items": null,
       "left": null,
       "margin": null,
       "max_height": null,
       "max_width": null,
       "min_height": null,
       "min_width": null,
       "object_fit": null,
       "object_position": null,
       "order": null,
       "overflow": null,
       "padding": null,
       "right": null,
       "top": null,
       "visibility": null,
       "width": null
      }
     }
    },
    "version_major": 2,
    "version_minor": 0
   }
  }
 },
 "nbformat": 4,
 "nbformat_minor": 5
}