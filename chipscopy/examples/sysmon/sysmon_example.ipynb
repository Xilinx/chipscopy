{
 "cells": [
  {
   "cell_type": "markdown",
   "id": "ecb9f72d",
   "metadata": {
    "papermill": {
     "duration": 0.005561,
     "end_time": "2023-06-07T20:58:45.635723",
     "exception": false,
     "start_time": "2023-06-07T20:58:45.630162",
     "status": "completed"
    },
    "tags": []
   },
   "source": [
    "<link rel=\"preconnect\" href=\"https://fonts.gstatic.com\">\n",
    "<link href=\"https://fonts.googleapis.com/css2?family=Fira+Code&display=swap\" rel=\"stylesheet\">\n",
    "\n",
    "### License\n",
    "\n",
    "<p style=\"font-family: 'Fira Code', monospace; font-size: 1.2rem\">\n",
    "Copyright (c) 2021-2022 Xilinx, Inc.<br>\n",
    "Copyright (c) 2022-2023 Advanced Micro Devices, Inc.<br><br>\n",
    "Licensed under the Apache License, Version 2.0 (the \"License\");<br>\n",
    "you may not use this file except in compliance with the License.<br><br>\n",
    "You may obtain a copy of the License at <a href=\"http://www.apache.org/licenses/LICENSE-2.0\"?>http://www.apache.org/licenses/LICENSE-2.0</a><br><br>\n",
    "Unless required by applicable law or agreed to in writing, software<br>\n",
    "distributed under the License is distributed on an \"AS IS\" BASIS,<br>\n",
    "WITHOUT WARRANTIES OR CONDITIONS OF ANY KIND, either express or implied.<br>\n",
    "See the License for the specific language governing permissions and<br>\n",
    "limitations under the License.<br>\n",
    "</p>\n"
   ]
  },
  {
   "cell_type": "markdown",
   "id": "9a7dd0d8",
   "metadata": {
    "papermill": {
     "duration": 0.003599,
     "end_time": "2023-06-07T20:58:45.644461",
     "exception": false,
     "start_time": "2023-06-07T20:58:45.640862",
     "status": "completed"
    },
    "tags": []
   },
   "source": [
    "# ChipScoPy System Monitor Example\n",
    "\n",
    "\n",
    "<img src=\"../img/api_overview.png\" width=\"500\" align=\"left\">"
   ]
  },
  {
   "cell_type": "markdown",
   "id": "c3d86bf9",
   "metadata": {
    "papermill": {
     "duration": 0.002673,
     "end_time": "2023-06-07T20:58:45.649802",
     "exception": false,
     "start_time": "2023-06-07T20:58:45.647129",
     "status": "completed"
    },
    "tags": []
   },
   "source": [
    "## Description\n",
    "\n",
    "\n",
    "This demo shows how to take and display measurements with the System Monitor.\n",
    "\n",
    "\n",
    "## Requirements\n",
    "- Local or remote Xilinx Versal board, such as a VCK190\n",
    "- Xilinx hw_server 2022.2 installed and running\n",
    "- Xilinx cs_server 2022.2 installed and running\n",
    "- Python 3.8 or greater installed\n",
    "- ChipScoPy 2022.2 installed\n",
    "- Jupyter notebook support installed - Please do so, using the command `pip install chipscopy[jupyter]`"
   ]
  },
  {
   "cell_type": "markdown",
   "id": "87915caa",
   "metadata": {
    "papermill": {
     "duration": 0.002621,
     "end_time": "2023-06-07T20:58:45.655160",
     "exception": false,
     "start_time": "2023-06-07T20:58:45.652539",
     "status": "completed"
    },
    "tags": []
   },
   "source": [
    "## 1 - Initialization: Imports and File Paths\n",
    "\n",
    "After this step,\n",
    "- Required functions and classes are imported\n",
    "- URL paths are set correctly\n",
    "- File paths to example files are set correctly"
   ]
  },
  {
   "cell_type": "code",
   "execution_count": 1,
   "id": "8e08146d",
   "metadata": {
    "execution": {
     "iopub.execute_input": "2023-06-07T20:58:45.668557Z",
     "iopub.status.busy": "2023-06-07T20:58:45.668201Z",
     "iopub.status.idle": "2023-06-07T20:58:46.026936Z",
     "shell.execute_reply": "2023-06-07T20:58:46.026511Z"
    },
    "papermill": {
     "duration": 0.368951,
     "end_time": "2023-06-07T20:58:46.027061",
     "exception": false,
     "start_time": "2023-06-07T20:58:45.658110",
     "status": "completed"
    },
    "tags": []
   },
   "outputs": [],
   "source": [
    "import os\n",
    "import time\n",
    "from chipscopy import get_design_files\n",
    "from chipscopy import __version__, dm\n",
    "from chipscopy import create_session, report_versions"
   ]
  },
  {
   "cell_type": "code",
   "execution_count": 2,
   "id": "5aa3ad45",
   "metadata": {
    "execution": {
     "iopub.execute_input": "2023-06-07T20:58:46.039529Z",
     "iopub.status.busy": "2023-06-07T20:58:46.038993Z",
     "iopub.status.idle": "2023-06-07T20:58:46.042469Z",
     "shell.execute_reply": "2023-06-07T20:58:46.042074Z"
    },
    "papermill": {
     "duration": 0.011586,
     "end_time": "2023-06-07T20:58:46.042582",
     "exception": false,
     "start_time": "2023-06-07T20:58:46.030996",
     "status": "completed"
    },
    "tags": []
   },
   "outputs": [
    {
     "name": "stdout",
     "output_type": "stream",
     "text": [
      "HW_URL: TCP:localhost:3121\n",
      "CS_URL: TCP:localhost:3042\n",
      "PROGRAMMING_FILE: /scratch/chipscopy/chipscopy/examples/designs/vck190/production/chipscopy_ced/chipscopy_wrapper.pdi\n",
      "PROBES_FILE:/scratch/chipscopy/chipscopy/examples/designs/vck190/production/chipscopy_ced/chipscopy_wrapper.ltx\n"
     ]
    }
   ],
   "source": [
    "# Make sure to start the hw_server and cs_server prior to running.\n",
    "# Specify locations of the running hw_server and cs_server below.\n",
    "# The default is localhost - but can be other locations on the network.\n",
    "CS_URL = os.getenv(\"CS_SERVER_URL\", \"TCP:localhost:3042\")\n",
    "HW_URL = os.getenv(\"HW_SERVER_URL\", \"TCP:localhost:3121\")\n",
    "\n",
    "# The get_design_files() function tries to find the PDI and LTX files. In non-standard\n",
    "# configurations, you can put the path for PROGRAMMING_FILE and PROBES_FILE below.\n",
    "design_files = get_design_files(\"vck190/production/chipscopy_ced\")\n",
    "\n",
    "PROGRAMMING_FILE = design_files.programming_file\n",
    "PROBES_FILE = design_files.probes_file\n",
    "\n",
    "print(f\"HW_URL: {HW_URL}\")\n",
    "print(f\"CS_URL: {CS_URL}\")\n",
    "print(f\"PROGRAMMING_FILE: {PROGRAMMING_FILE}\")\n",
    "print(f\"PROBES_FILE:{PROBES_FILE}\")"
   ]
  },
  {
   "cell_type": "markdown",
   "id": "b5ae6d4d",
   "metadata": {
    "papermill": {
     "duration": 0.00288,
     "end_time": "2023-06-07T20:58:46.049658",
     "exception": false,
     "start_time": "2023-06-07T20:58:46.046778",
     "status": "completed"
    },
    "tags": []
   },
   "source": [
    "## 2 - Create a session and connect to the hw_server and cs_server\n",
    "\n",
    "The session is a container that keeps track of devices and debug cores.\n",
    "After this step,\n",
    "- Session is initialized and connected to server(s)\n",
    "- Versions are detected and reported to stdout"
   ]
  },
  {
   "cell_type": "code",
   "execution_count": 3,
   "id": "07595edd",
   "metadata": {
    "execution": {
     "iopub.execute_input": "2023-06-07T20:58:46.059422Z",
     "iopub.status.busy": "2023-06-07T20:58:46.058997Z",
     "iopub.status.idle": "2023-06-07T20:58:46.945706Z",
     "shell.execute_reply": "2023-06-07T20:58:46.945346Z"
    },
    "papermill": {
     "duration": 0.893139,
     "end_time": "2023-06-07T20:58:46.945815",
     "exception": false,
     "start_time": "2023-06-07T20:58:46.052676",
     "status": "completed"
    },
    "tags": []
   },
   "outputs": [
    {
     "data": {
      "text/html": [
       "<pre style=\"white-space:pre;overflow-x:auto;line-height:normal;font-family:Menlo,'DejaVu Sans Mono',consolas,'Courier New',monospace\">\n",
       "\n",
       "</pre>\n"
      ],
      "text/plain": [
       "<rich.jupyter.JupyterRenderable at 0x7f1c28d00430>"
      ]
     },
     "metadata": {},
     "output_type": "display_data"
    },
    {
     "data": {
      "text/html": [
       "<pre style=\"white-space:pre;overflow-x:auto;line-height:normal;font-family:Menlo,'DejaVu Sans Mono',consolas,'Courier New',monospace\"><span style=\"font-style: italic\">                      ChipScoPy Version Information                      </span>\n",
       "┌────────────────────────────┬──────────────────────────────────────────┐\n",
       "│<span style=\"font-weight: bold\">                     Entity </span>│<span style=\"font-weight: bold\"> Version                                  </span>│\n",
       "├────────────────────────────┼──────────────────────────────────────────┤\n",
       "│                  ChipScoPy │ ┌───────────┬──────────────────────┐     │\n",
       "│                            │ │<span style=\"font-weight: bold\"> Attribute </span>│<span style=\"font-weight: bold\"> Value                </span>│     │\n",
       "│                            │ ├───────────┼──────────────────────┤     │\n",
       "│                            │ │     Build │ 2023.1.1685656083    │     │\n",
       "│                            │ │ Timestamp │ Jun 01 2023-15:48:03 │     │\n",
       "│                            │ └───────────┴──────────────────────┘     │\n",
       "│                            │                                          │\n",
       "│ hw_server @ localhost:3121 │ ┌───────────┬──────────────────────────┐ │\n",
       "│                            │ │<span style=\"font-weight: bold\"> Attribute </span>│<span style=\"font-weight: bold\"> Value                    </span>│ │\n",
       "│                            │ ├───────────┼──────────────────────────┤ │\n",
       "│                            │ │    Status │ Connected                │ │\n",
       "│                            │ │     Build │ 1683493450               │ │\n",
       "│                            │ │   Version │ 2023.1                   │ │\n",
       "│                            │ │ Timestamp │ Sun May  7 15:04:10 2023 │ │\n",
       "│                            │ └───────────┴──────────────────────────┘ │\n",
       "│                            │                                          │\n",
       "│ cs_server @ localhost:3042 │ ┌───────────────┬──────────────────────┐ │\n",
       "│                            │ │<span style=\"font-weight: bold\">     Attribute </span>│<span style=\"font-weight: bold\"> Value                </span>│ │\n",
       "│                            │ ├───────────────┼──────────────────────┤ │\n",
       "│                            │ │        Status │ Connected            │ │\n",
       "│                            │ │         Build │ 1681142364           │ │\n",
       "│                            │ │       Version │ 2023.1.0             │ │\n",
       "│                            │ │     Timestamp │ Apr 10 2023-09:59:24 │ │\n",
       "│                            │ │       Package │ 2023.1.1681142364    │ │\n",
       "│                            │ │ Artifact type │ pyinstaller          │ │\n",
       "│                            │ └───────────────┴──────────────────────┘ │\n",
       "└────────────────────────────┴──────────────────────────────────────────┘\n",
       "</pre>\n"
      ],
      "text/plain": [
       "<rich.jupyter.JupyterRenderable at 0x7f1c28cefb80>"
      ]
     },
     "metadata": {},
     "output_type": "display_data"
    },
    {
     "data": {
      "text/html": [
       "<pre style=\"white-space:pre;overflow-x:auto;line-height:normal;font-family:Menlo,'DejaVu Sans Mono',consolas,'Courier New',monospace\">\n",
       "\n",
       "</pre>\n"
      ],
      "text/plain": [
       "<rich.jupyter.JupyterRenderable at 0x7f1c28d000d0>"
      ]
     },
     "metadata": {},
     "output_type": "display_data"
    }
   ],
   "source": [
    "session = create_session(cs_server_url=CS_URL, hw_server_url=HW_URL)\n",
    "report_versions(session)"
   ]
  },
  {
   "cell_type": "markdown",
   "id": "c91783a6",
   "metadata": {
    "papermill": {
     "duration": 0.003081,
     "end_time": "2023-06-07T20:58:46.952695",
     "exception": false,
     "start_time": "2023-06-07T20:58:46.949614",
     "status": "completed"
    },
    "tags": []
   },
   "source": [
    "## 3 - Program the device with the example design\n",
    "\n",
    "After this step,\n",
    "- Device is programmed with the example programming file"
   ]
  },
  {
   "cell_type": "code",
   "execution_count": 4,
   "id": "fdcace17",
   "metadata": {
    "execution": {
     "iopub.execute_input": "2023-06-07T20:58:46.963730Z",
     "iopub.status.busy": "2023-06-07T20:58:46.963382Z",
     "iopub.status.idle": "2023-06-07T20:58:52.526058Z",
     "shell.execute_reply": "2023-06-07T20:58:52.526320Z"
    },
    "papermill": {
     "duration": 5.570824,
     "end_time": "2023-06-07T20:58:52.526475",
     "exception": false,
     "start_time": "2023-06-07T20:58:46.955651",
     "status": "completed"
    },
    "tags": []
   },
   "outputs": [
    {
     "data": {
      "text/html": [
       "<pre style=\"white-space:pre;overflow-x:auto;line-height:normal;font-family:Menlo,'DejaVu Sans Mono',consolas,'Courier New',monospace\">\n",
       "<span style=\"font-weight: bold\">--&gt; INFO: </span>Programming device with: /scratch/chipscopy/chipscopy/examples/designs/vck190/produ\n",
       "ction/chipscopy_ced/chipscopy_wrapper.pdi\n",
       "    \n",
       "</pre>\n"
      ],
      "text/plain": [
       "<rich.jupyter.JupyterRenderable at 0x7f1c28caf070>"
      ]
     },
     "metadata": {},
     "output_type": "display_data"
    },
    {
     "data": {
      "application/vnd.jupyter.widget-view+json": {
       "model_id": "7dea34815f9942c09798eec9bd06bd7f",
       "version_major": 2,
       "version_minor": 0
      },
      "text/plain": [
       "Output()"
      ]
     },
     "metadata": {},
     "output_type": "display_data"
    }
   ],
   "source": [
    "# Typical case - one device on the board - get it.\n",
    "device = session.devices.filter_by(family=\"versal\").get()\n",
    "device.program(PROGRAMMING_FILE)"
   ]
  },
  {
   "cell_type": "markdown",
   "id": "8e6246a0",
   "metadata": {
    "papermill": {
     "duration": 0.003577,
     "end_time": "2023-06-07T20:58:52.534512",
     "exception": false,
     "start_time": "2023-06-07T20:58:52.530935",
     "status": "completed"
    },
    "tags": []
   },
   "source": [
    "## 4 - Discover Debug Cores\n",
    "\n",
    "Debug core discovery initializes the chipscope server debug cores. This brings debug cores in the chipscope server online.\n",
    "\n",
    "After this step,\n",
    "\n",
    "- The cs_server is initialized and ready for use"
   ]
  },
  {
   "cell_type": "code",
   "execution_count": 5,
   "id": "75034f2a",
   "metadata": {
    "execution": {
     "iopub.execute_input": "2023-06-07T20:58:52.923586Z",
     "iopub.status.busy": "2023-06-07T20:58:52.923242Z",
     "iopub.status.idle": "2023-06-07T20:58:53.019294Z",
     "shell.execute_reply": "2023-06-07T20:58:53.019562Z"
    },
    "papermill": {
     "duration": 0.481914,
     "end_time": "2023-06-07T20:58:53.019699",
     "exception": false,
     "start_time": "2023-06-07T20:58:52.537785",
     "status": "completed"
    },
    "tags": []
   },
   "outputs": [
    {
     "name": "stdout",
     "output_type": "stream",
     "text": [
      "System monitor setup and ready for use.\n"
     ]
    }
   ],
   "source": [
    "device.discover_and_setup_cores(sysmon_scan=True)\n",
    "print(f\"System monitor setup and ready for use.\")"
   ]
  },
  {
   "cell_type": "markdown",
   "id": "f89836f5",
   "metadata": {
    "papermill": {
     "duration": 0.003267,
     "end_time": "2023-06-07T20:58:53.027151",
     "exception": false,
     "start_time": "2023-06-07T20:58:53.023884",
     "status": "completed"
    },
    "tags": []
   },
   "source": [
    "## 5 - Initialize System Monitor\n",
    "\n",
    "Get reference to the system monitor and initialize all sensors."
   ]
  },
  {
   "cell_type": "code",
   "execution_count": 6,
   "id": "963e7993",
   "metadata": {
    "execution": {
     "iopub.execute_input": "2023-06-07T20:58:53.039089Z",
     "iopub.status.busy": "2023-06-07T20:58:53.038753Z",
     "iopub.status.idle": "2023-06-07T20:58:55.549549Z",
     "shell.execute_reply": "2023-06-07T20:58:55.549818Z"
    },
    "papermill": {
     "duration": 2.519654,
     "end_time": "2023-06-07T20:58:55.549952",
     "exception": false,
     "start_time": "2023-06-07T20:58:53.030298",
     "status": "completed"
    },
    "tags": []
   },
   "outputs": [
    {
     "name": "stdout",
     "output_type": "stream",
     "text": [
      "Initializing sensors\n"
     ]
    },
    {
     "name": "stdout",
     "output_type": "stream",
     "text": [
      "Refresh measurement schedule\n",
      "Sensors:\n",
      "  VCCAUX\n",
      "  VCCAUX_PMC\n",
      "  VCC_PMC\n",
      "  VCC_PSFP\n",
      "  VCC_PSLP\n",
      "  VCC_SOC\n",
      "  VP_VN\n",
      "Done.\n"
     ]
    }
   ],
   "source": [
    "sysmon = device.sysmon_root.get()\n",
    "\n",
    "print(\"Initializing sensors\")\n",
    "active_nodes = sysmon.initialize_sensors()\n",
    "\n",
    "print(\"Refresh measurement schedule\")\n",
    "schedule = sysmon.refresh_measurement_schedule()\n",
    "\n",
    "print(\"Sensors:\")\n",
    "for sensor in schedule.values():\n",
    "    print(f\"  {sensor}\")\n",
    "\n",
    "print(\"Done.\")"
   ]
  },
  {
   "cell_type": "markdown",
   "id": "c0d3ec90",
   "metadata": {
    "papermill": {
     "duration": 0.003598,
     "end_time": "2023-06-07T20:58:55.558812",
     "exception": false,
     "start_time": "2023-06-07T20:58:55.555214",
     "status": "completed"
    },
    "tags": []
   },
   "source": [
    "## 6 - Register a listener for System Monitor Events\n",
    "\n",
    "The SysMonNodeListener node_changed() will be called every 1000ms with updated system monitor values."
   ]
  },
  {
   "cell_type": "code",
   "execution_count": 7,
   "id": "1b0b89ce",
   "metadata": {
    "execution": {
     "iopub.execute_input": "2023-06-07T20:58:55.571900Z",
     "iopub.status.busy": "2023-06-07T20:58:55.571527Z",
     "iopub.status.idle": "2023-06-07T20:58:55.671464Z",
     "shell.execute_reply": "2023-06-07T20:58:55.671963Z"
    },
    "papermill": {
     "duration": 0.109994,
     "end_time": "2023-06-07T20:58:55.672214",
     "exception": false,
     "start_time": "2023-06-07T20:58:55.562220",
     "status": "completed"
    },
    "tags": []
   },
   "outputs": [
    {
     "name": "stdout",
     "output_type": "stream",
     "text": [
      "Node listener added.\n"
     ]
    }
   ],
   "source": [
    "class SysMonNodeListener(dm.NodeListener):\n",
    "    def node_changed(self, node, updated_keys):\n",
    "        if \"device_temp\" in node.props:\n",
    "            print(f\"Device Temp: {node.props['device_temp']}\")\n",
    "        for supply_idx, named_sensor in schedule.items():\n",
    "            supply = f\"supply{supply_idx}\"\n",
    "            if supply in node.props:\n",
    "                print(f\"{named_sensor}: {node.props[supply]}\")\n",
    "        print()\n",
    "\n",
    "\n",
    "node_listener = SysMonNodeListener()\n",
    "session.chipscope_view.add_node_listener(node_listener)\n",
    "\n",
    "sysmon.stream_sensor_data(1000)\n",
    "print(\"Node listener added.\")"
   ]
  },
  {
   "cell_type": "markdown",
   "id": "56fc0d0d",
   "metadata": {
    "papermill": {
     "duration": 0.00358,
     "end_time": "2023-06-07T20:58:55.679895",
     "exception": false,
     "start_time": "2023-06-07T20:58:55.676315",
     "status": "completed"
    },
    "tags": []
   },
   "source": [
    "## 7 - Run measurement for 5 seconds\n",
    "\n",
    "System Monitor will report results for 5 seconds then exit."
   ]
  },
  {
   "cell_type": "code",
   "execution_count": 8,
   "id": "ef5b6dee",
   "metadata": {
    "execution": {
     "iopub.execute_input": "2023-06-07T20:58:55.691933Z",
     "iopub.status.busy": "2023-06-07T20:58:55.691185Z",
     "iopub.status.idle": "2023-06-07T20:59:00.711022Z",
     "shell.execute_reply": "2023-06-07T20:59:00.710718Z"
    },
    "papermill": {
     "duration": 5.027442,
     "end_time": "2023-06-07T20:59:00.711119",
     "exception": false,
     "start_time": "2023-06-07T20:58:55.683677",
     "status": "completed"
    },
    "tags": []
   },
   "outputs": [
    {
     "name": "stdout",
     "output_type": "stream",
     "text": [
      "Device Temp: 41.984375\n",
      "VCCAUX: 1.49969482421875\n",
      "VCCAUX_PMC: 1.497314453125\n",
      "VCC_PMC: 0.7998046875\n",
      "VCC_PSFP: 0.796783447265625\n",
      "VCC_PSLP: 0.798675537109375\n",
      "VCC_SOC: 0.8089599609375\n",
      "VP_VN: 0.13037109375\n",
      "\n"
     ]
    },
    {
     "name": "stdout",
     "output_type": "stream",
     "text": [
      "Device Temp: 42.1796875\n",
      "VCCAUX: 1.50030517578125\n",
      "VCCAUX_PMC: 1.499114990234375\n",
      "VCC_PMC: 0.80047607421875\n",
      "VCC_PSFP: 0.796539306640625\n",
      "VCC_PSLP: 0.799102783203125\n",
      "VCC_SOC: 0.799163818359375\n",
      "VP_VN: 0.129913330078125\n",
      "\n"
     ]
    },
    {
     "name": "stdout",
     "output_type": "stream",
     "text": [
      "Device Temp: 41.875\n",
      "VCCAUX: 1.49884033203125\n",
      "VCCAUX_PMC: 1.49810791015625\n",
      "VCC_PMC: 0.800079345703125\n",
      "VCC_PSFP: 0.799041748046875\n",
      "VCC_PSLP: 0.800628662109375\n",
      "VCC_SOC: 0.796630859375\n",
      "VP_VN: 0.130157470703125\n",
      "\n"
     ]
    },
    {
     "name": "stdout",
     "output_type": "stream",
     "text": [
      "Device Temp: 42.53125\n",
      "VCCAUX: 1.49945068359375\n",
      "VCCAUX_PMC: 1.499114990234375\n",
      "VCC_PMC: 0.800872802734375\n",
      "VCC_PSFP: 0.7994384765625\n",
      "VCC_PSLP: 0.799224853515625\n",
      "VCC_SOC: 0.81097412109375\n",
      "VP_VN: 0.1302490234375\n",
      "\n"
     ]
    },
    {
     "name": "stdout",
     "output_type": "stream",
     "text": [
      "Device Temp: 42.6015625\n",
      "VCCAUX: 1.49932861328125\n",
      "VCCAUX_PMC: 1.49835205078125\n",
      "VCC_PMC: 0.79962158203125\n",
      "VCC_PSFP: 0.7967529296875\n",
      "VCC_PSLP: 0.799102783203125\n",
      "VCC_SOC: 0.809906005859375\n",
      "VP_VN: 0.12957763671875\n",
      "\n"
     ]
    },
    {
     "name": "stdout",
     "output_type": "stream",
     "text": [
      "Measurement done.\n"
     ]
    }
   ],
   "source": [
    "# Take measurements for 5 seconds then exit.\n",
    "\n",
    "time_end = time.time() + 5\n",
    "\n",
    "while time.time() < time_end:\n",
    "    session.chipscope_view.run_events()\n",
    "    time.sleep(0.1)\n",
    "\n",
    "print(\"Measurement done.\")"
   ]
  }
 ],
 "metadata": {
  "jupytext": {
   "cell_metadata_filter": "-all",
   "formats": "ipynb,py"
  },
  "kernelspec": {
   "display_name": "Python 3 (ipykernel)",
   "language": "python",
   "name": "python3"
  },
  "language_info": {
   "codemirror_mode": {
    "name": "ipython",
    "version": 3
   },
   "file_extension": ".py",
   "mimetype": "text/x-python",
   "name": "python",
   "nbconvert_exporter": "python",
   "pygments_lexer": "ipython3",
   "version": "3.9.16"
  },
  "papermill": {
   "default_parameters": {},
   "duration": 21.22774,
   "end_time": "2023-06-07T20:59:05.877652",
   "environment_variables": {},
   "exception": null,
   "input_path": "sysmon_example.ipynb",
   "output_path": "output",
   "parameters": {},
   "start_time": "2023-06-07T20:58:44.649912",
   "version": "2.4.0"
  },
  "widgets": {
   "application/vnd.jupyter.widget-state+json": {
    "state": {
     "7dea34815f9942c09798eec9bd06bd7f": {
      "model_module": "@jupyter-widgets/output",
      "model_module_version": "1.0.0",
      "model_name": "OutputModel",
      "state": {
       "_dom_classes": [],
       "_model_module": "@jupyter-widgets/output",
       "_model_module_version": "1.0.0",
       "_model_name": "OutputModel",
       "_view_count": null,
       "_view_module": "@jupyter-widgets/output",
       "_view_module_version": "1.0.0",
       "_view_name": "OutputView",
       "layout": "IPY_MODEL_c9210bc6f99f4d1a9e7bae7edfd1d465",
       "msg_id": "",
       "outputs": [
        {
         "data": {
          "text/html": "<pre style=\"white-space:pre;overflow-x:auto;line-height:normal;font-family:Menlo,'DejaVu Sans Mono',consolas,'Courier New',monospace\">Device program progress <span style=\"color: #729c1f; text-decoration-color: #729c1f\">━━━━━━━━━━━━━━━━━━━━━━━━━━━━━━━━━━━━━━━━</span> <span style=\"color: #ff00ff; text-decoration-color: #ff00ff; font-weight: bold\">100%</span> <span style=\"color: #008000; text-decoration-color: #008000; font-weight: bold\">Done</span>\n</pre>\n",
          "text/plain": "<rich.jupyter.JupyterRenderable at 0x7f1c28b9acd0>"
         },
         "metadata": {},
         "output_type": "display_data"
        }
       ]
      }
     },
     "c9210bc6f99f4d1a9e7bae7edfd1d465": {
      "model_module": "@jupyter-widgets/base",
      "model_module_version": "1.2.0",
      "model_name": "LayoutModel",
      "state": {
       "_model_module": "@jupyter-widgets/base",
       "_model_module_version": "1.2.0",
       "_model_name": "LayoutModel",
       "_view_count": null,
       "_view_module": "@jupyter-widgets/base",
       "_view_module_version": "1.2.0",
       "_view_name": "LayoutView",
       "align_content": null,
       "align_items": null,
       "align_self": null,
       "border": null,
       "bottom": null,
       "display": null,
       "flex": null,
       "flex_flow": null,
       "grid_area": null,
       "grid_auto_columns": null,
       "grid_auto_flow": null,
       "grid_auto_rows": null,
       "grid_column": null,
       "grid_gap": null,
       "grid_row": null,
       "grid_template_areas": null,
       "grid_template_columns": null,
       "grid_template_rows": null,
       "height": null,
       "justify_content": null,
       "justify_items": null,
       "left": null,
       "margin": null,
       "max_height": null,
       "max_width": null,
       "min_height": null,
       "min_width": null,
       "object_fit": null,
       "object_position": null,
       "order": null,
       "overflow": null,
       "overflow_x": null,
       "overflow_y": null,
       "padding": null,
       "right": null,
       "top": null,
       "visibility": null,
       "width": null
      }
     }
    },
    "version_major": 2,
    "version_minor": 0
   }
  }
 },
 "nbformat": 4,
 "nbformat_minor": 5
}
