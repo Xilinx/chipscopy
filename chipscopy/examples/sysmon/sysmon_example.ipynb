{
 "cells": [
  {
   "cell_type": "markdown",
   "id": "28bccc9c",
   "metadata": {
    "papermill": {
     "duration": 0.003248,
     "end_time": "2023-10-24T22:10:56.029574",
     "exception": false,
     "start_time": "2023-10-24T22:10:56.026326",
     "status": "completed"
    },
    "tags": []
   },
   "source": [
    "<link rel=\"preconnect\" href=\"https://fonts.gstatic.com\">\n",
    "<link href=\"https://fonts.googleapis.com/css2?family=Fira+Code&display=swap\" rel=\"stylesheet\">\n",
    "\n",
    "### License\n",
    "\n",
    "<p style=\"font-family: 'Fira Code', monospace; font-size: 1.2rem\">\n",
    "Copyright (C) 2021-2022, Xilinx, Inc.\n",
    "Copyright (C) 2022-2023, Advanced Micro Devices, Inc.\n",
    "<br><br>\n",
    "Licensed under the Apache License, Version 2.0 (the \"License\");<br>\n",
    "you may not use this file except in compliance with the License.<br><br>\n",
    "You may obtain a copy of the License at <a href=\"http://www.apache.org/licenses/LICENSE-2.0\"?>http://www.apache.org/licenses/LICENSE-2.0</a><br><br>\n",
    "Unless required by applicable law or agreed to in writing, software<br>\n",
    "distributed under the License is distributed on an \"AS IS\" BASIS,<br>\n",
    "WITHOUT WARRANTIES OR CONDITIONS OF ANY KIND, either express or implied.<br>\n",
    "See the License for the specific language governing permissions and<br>\n",
    "limitations under the License.<br>\n",
    "</p>\n"
   ]
  },
  {
   "cell_type": "markdown",
   "id": "b11f0196",
   "metadata": {
    "papermill": {
     "duration": 0.002351,
     "end_time": "2023-10-24T22:10:56.034990",
     "exception": false,
     "start_time": "2023-10-24T22:10:56.032639",
     "status": "completed"
    },
    "tags": []
   },
   "source": [
    "# ChipScoPy System Monitor Example\n",
    "\n",
    "\n",
    "<img src=\"../img/api_overview.png\" width=\"500\" align=\"left\">"
   ]
  },
  {
   "cell_type": "markdown",
   "id": "b289f613",
   "metadata": {
    "papermill": {
     "duration": 0.002345,
     "end_time": "2023-10-24T22:10:56.039753",
     "exception": false,
     "start_time": "2023-10-24T22:10:56.037408",
     "status": "completed"
    },
    "tags": []
   },
   "source": [
    "## Description\n",
    "\n",
    "\n",
    "This demo shows how to take and display measurements with the System Monitor.\n",
    "\n",
    "\n",
    "## Requirements\n",
    "- Local or remote Xilinx Versal board, such as a VCK190\n",
    "- Xilinx hw_server 2023.2 installed and running\n",
    "- Xilinx cs_server 2023.2 installed and running\n",
    "- Python 3.8 or greater installed\n",
    "- ChipScoPy 2023.2 installed\n",
    "- Jupyter notebook support installed - Please do so, using the command `pip install chipscopy[jupyter]`"
   ]
  },
  {
   "cell_type": "markdown",
   "id": "13cb5b4a",
   "metadata": {
    "papermill": {
     "duration": 0.002422,
     "end_time": "2023-10-24T22:10:56.044648",
     "exception": false,
     "start_time": "2023-10-24T22:10:56.042226",
     "status": "completed"
    },
    "tags": []
   },
   "source": [
    "## 1 - Initialization: Imports and File Paths\n",
    "\n",
    "After this step,\n",
    "- Required functions and classes are imported\n",
    "- URL paths are set correctly\n",
    "- File paths to example files are set correctly"
   ]
  },
  {
   "cell_type": "code",
   "execution_count": 1,
   "id": "47bb7e4d",
   "metadata": {
    "execution": {
     "iopub.execute_input": "2023-10-24T22:10:56.052499Z",
     "iopub.status.busy": "2023-10-24T22:10:56.051425Z",
     "iopub.status.idle": "2023-10-24T22:10:56.909982Z",
     "shell.execute_reply": "2023-10-24T22:10:56.909206Z"
    },
    "papermill": {
     "duration": 0.864904,
     "end_time": "2023-10-24T22:10:56.911901",
     "exception": false,
     "start_time": "2023-10-24T22:10:56.046997",
     "status": "completed"
    },
    "tags": []
   },
   "outputs": [],
   "source": [
    "import os\n",
    "import time\n",
    "from chipscopy import get_design_files\n",
    "from chipscopy import __version__, dm\n",
    "from chipscopy import create_session, report_versions"
   ]
  },
  {
   "cell_type": "code",
   "execution_count": 2,
   "id": "acbf3295",
   "metadata": {
    "execution": {
     "iopub.execute_input": "2023-10-24T22:10:56.923621Z",
     "iopub.status.busy": "2023-10-24T22:10:56.922350Z",
     "iopub.status.idle": "2023-10-24T22:10:56.930349Z",
     "shell.execute_reply": "2023-10-24T22:10:56.929791Z"
    },
    "papermill": {
     "duration": 0.013262,
     "end_time": "2023-10-24T22:10:56.931478",
     "exception": false,
     "start_time": "2023-10-24T22:10:56.918216",
     "status": "completed"
    },
    "tags": []
   },
   "outputs": [
    {
     "name": "stdout",
     "output_type": "stream",
     "text": [
      "HW_URL: TCP:localhost:3121\n",
      "CS_URL: TCP:localhost:3042\n",
      "PROGRAMMING_FILE: /scratch/2023.2/chipscopy-examples/designs/vck190/production/chipscopy_ced/chipscopy_wrapper.pdi\n",
      "PROBES_FILE:/scratch/2023.2/chipscopy-examples/designs/vck190/production/chipscopy_ced/chipscopy_wrapper.ltx\n"
     ]
    }
   ],
   "source": [
    "# Specify locations of the running hw_server and cs_server below.\n",
    "CS_URL = os.getenv(\"CS_SERVER_URL\", \"TCP:localhost:3042\")\n",
    "HW_URL = os.getenv(\"HW_SERVER_URL\", \"TCP:localhost:3121\")\n",
    "\n",
    "# specify hw and if programming is desired\n",
    "HW_PLATFORM = os.getenv(\"HW_PLATFORM\", \"vck190\")\n",
    "PROG_DEVICE = os.getenv(\"PROG_DEVICE\", 'True').lower() in ('true', '1', 't')\n",
    "\n",
    "# The get_design_files() function tries to find the PDI and LTX files. In non-standard\n",
    "# configurations, you can put the path for PROGRAMMING_FILE and PROBES_FILE below.\n",
    "design_files = get_design_files(f\"{HW_PLATFORM}/production/chipscopy_ced\")\n",
    "\n",
    "PROGRAMMING_FILE = design_files.programming_file\n",
    "PROBES_FILE = design_files.probes_file\n",
    "\n",
    "print(f\"HW_URL: {HW_URL}\")\n",
    "print(f\"CS_URL: {CS_URL}\")\n",
    "print(f\"PROGRAMMING_FILE: {PROGRAMMING_FILE}\")\n",
    "print(f\"PROBES_FILE:{PROBES_FILE}\")"
   ]
  },
  {
   "cell_type": "markdown",
   "id": "28b90d2a",
   "metadata": {
    "papermill": {
     "duration": 0.002647,
     "end_time": "2023-10-24T22:10:56.937066",
     "exception": false,
     "start_time": "2023-10-24T22:10:56.934419",
     "status": "completed"
    },
    "tags": []
   },
   "source": [
    "## 2 - Create a session and connect to the hw_server and cs_server\n",
    "\n",
    "The session is a container that keeps track of devices and debug cores.\n",
    "After this step,\n",
    "- Session is initialized and connected to server(s)\n",
    "- Versions are detected and reported to stdout"
   ]
  },
  {
   "cell_type": "code",
   "execution_count": 3,
   "id": "ddabcade",
   "metadata": {
    "execution": {
     "iopub.execute_input": "2023-10-24T22:10:56.944276Z",
     "iopub.status.busy": "2023-10-24T22:10:56.943465Z",
     "iopub.status.idle": "2023-10-24T22:10:59.153537Z",
     "shell.execute_reply": "2023-10-24T22:10:59.153007Z"
    },
    "papermill": {
     "duration": 2.215249,
     "end_time": "2023-10-24T22:10:59.154988",
     "exception": false,
     "start_time": "2023-10-24T22:10:56.939739",
     "status": "completed"
    },
    "tags": []
   },
   "outputs": [
    {
     "data": {
      "text/html": [
       "<pre style=\"white-space:pre;overflow-x:auto;line-height:normal;font-family:Menlo,'DejaVu Sans Mono',consolas,'Courier New',monospace\">\n",
       "\n",
       "</pre>\n"
      ],
      "text/plain": [
       "\n",
       "\n"
      ]
     },
     "metadata": {},
     "output_type": "display_data"
    },
    {
     "data": {
      "text/html": [
       "<pre style=\"white-space:pre;overflow-x:auto;line-height:normal;font-family:Menlo,'DejaVu Sans Mono',consolas,'Courier New',monospace\"><span style=\"font-style: italic\">                      ChipScoPy Version Information                      </span>\n",
       "┌────────────────────────────┬──────────────────────────────────────────┐\n",
       "│<span style=\"font-weight: bold\">                     Entity </span>│<span style=\"font-weight: bold\"> Version                                  </span>│\n",
       "├────────────────────────────┼──────────────────────────────────────────┤\n",
       "│                  ChipScoPy │ ┌───────────┬──────────────────────┐     │\n",
       "│                            │ │<span style=\"font-weight: bold\"> Attribute </span>│<span style=\"font-weight: bold\"> Value                </span>│     │\n",
       "│                            │ ├───────────┼──────────────────────┤     │\n",
       "│                            │ │     Build │ 2023.2.1697859156    │     │\n",
       "│                            │ │ Timestamp │ Oct 20 2023-21:32:36 │     │\n",
       "│                            │ └───────────┴──────────────────────┘     │\n",
       "│                            │                                          │\n",
       "│ hw_server @ localhost:3121 │ ┌───────────┬──────────────────────────┐ │\n",
       "│                            │ │<span style=\"font-weight: bold\"> Attribute </span>│<span style=\"font-weight: bold\"> Value                    </span>│ │\n",
       "│                            │ ├───────────┼──────────────────────────┤ │\n",
       "│                            │ │    Status │ Connected                │ │\n",
       "│                            │ │     Build │ 1683493450               │ │\n",
       "│                            │ │   Version │ 2023.1                   │ │\n",
       "│                            │ │ Timestamp │ Sun May  7 15:04:10 2023 │ │\n",
       "│                            │ └───────────┴──────────────────────────┘ │\n",
       "│                            │                                          │\n",
       "│ cs_server @ localhost:3042 │ ┌───────────────┬──────────────────────┐ │\n",
       "│                            │ │<span style=\"font-weight: bold\">     Attribute </span>│<span style=\"font-weight: bold\"> Value                </span>│ │\n",
       "│                            │ ├───────────────┼──────────────────────┤ │\n",
       "│                            │ │        Status │ Connected            │ │\n",
       "│                            │ │         Build │ 1696910516           │ │\n",
       "│                            │ │       Version │ 2023.2.0             │ │\n",
       "│                            │ │     Timestamp │ Oct 09 2023-22:01:56 │ │\n",
       "│                            │ │       Package │ 2023.2.1696910516    │ │\n",
       "│                            │ │ Artifact type │ pyinstaller          │ │\n",
       "│                            │ └───────────────┴──────────────────────┘ │\n",
       "└────────────────────────────┴──────────────────────────────────────────┘\n",
       "</pre>\n"
      ],
      "text/plain": [
       "\u001b[3m                      ChipScoPy Version Information                      \u001b[0m\n",
       "┌────────────────────────────┬──────────────────────────────────────────┐\n",
       "│\u001b[1m \u001b[0m\u001b[1m                    Entity\u001b[0m\u001b[1m \u001b[0m│\u001b[1m \u001b[0m\u001b[1mVersion                                 \u001b[0m\u001b[1m \u001b[0m│\n",
       "├────────────────────────────┼──────────────────────────────────────────┤\n",
       "│                  ChipScoPy │ ┌───────────┬──────────────────────┐     │\n",
       "│                            │ │\u001b[1m \u001b[0m\u001b[1mAttribute\u001b[0m\u001b[1m \u001b[0m│\u001b[1m \u001b[0m\u001b[1mValue               \u001b[0m\u001b[1m \u001b[0m│     │\n",
       "│                            │ ├───────────┼──────────────────────┤     │\n",
       "│                            │ │     Build │ 2023.2.1697859156    │     │\n",
       "│                            │ │ Timestamp │ Oct 20 2023-21:32:36 │     │\n",
       "│                            │ └───────────┴──────────────────────┘     │\n",
       "│                            │                                          │\n",
       "│ hw_server @ localhost:3121 │ ┌───────────┬──────────────────────────┐ │\n",
       "│                            │ │\u001b[1m \u001b[0m\u001b[1mAttribute\u001b[0m\u001b[1m \u001b[0m│\u001b[1m \u001b[0m\u001b[1mValue                   \u001b[0m\u001b[1m \u001b[0m│ │\n",
       "│                            │ ├───────────┼──────────────────────────┤ │\n",
       "│                            │ │    Status │ Connected                │ │\n",
       "│                            │ │     Build │ 1683493450               │ │\n",
       "│                            │ │   Version │ 2023.1                   │ │\n",
       "│                            │ │ Timestamp │ Sun May  7 15:04:10 2023 │ │\n",
       "│                            │ └───────────┴──────────────────────────┘ │\n",
       "│                            │                                          │\n",
       "│ cs_server @ localhost:3042 │ ┌───────────────┬──────────────────────┐ │\n",
       "│                            │ │\u001b[1m \u001b[0m\u001b[1m    Attribute\u001b[0m\u001b[1m \u001b[0m│\u001b[1m \u001b[0m\u001b[1mValue               \u001b[0m\u001b[1m \u001b[0m│ │\n",
       "│                            │ ├───────────────┼──────────────────────┤ │\n",
       "│                            │ │        Status │ Connected            │ │\n",
       "│                            │ │         Build │ 1696910516           │ │\n",
       "│                            │ │       Version │ 2023.2.0             │ │\n",
       "│                            │ │     Timestamp │ Oct 09 2023-22:01:56 │ │\n",
       "│                            │ │       Package │ 2023.2.1696910516    │ │\n",
       "│                            │ │ Artifact type │ pyinstaller          │ │\n",
       "│                            │ └───────────────┴──────────────────────┘ │\n",
       "└────────────────────────────┴──────────────────────────────────────────┘\n"
      ]
     },
     "metadata": {},
     "output_type": "display_data"
    },
    {
     "data": {
      "text/html": [
       "<pre style=\"white-space:pre;overflow-x:auto;line-height:normal;font-family:Menlo,'DejaVu Sans Mono',consolas,'Courier New',monospace\">\n",
       "\n",
       "</pre>\n"
      ],
      "text/plain": [
       "\n",
       "\n"
      ]
     },
     "metadata": {},
     "output_type": "display_data"
    }
   ],
   "source": [
    "session = create_session(cs_server_url=CS_URL, hw_server_url=HW_URL)\n",
    "report_versions(session)"
   ]
  },
  {
   "cell_type": "markdown",
   "id": "77a645f1",
   "metadata": {
    "papermill": {
     "duration": 0.003077,
     "end_time": "2023-10-24T22:10:59.162555",
     "exception": false,
     "start_time": "2023-10-24T22:10:59.159478",
     "status": "completed"
    },
    "tags": []
   },
   "source": [
    "## 3 - Program the device with the example design\n",
    "\n",
    "After this step,\n",
    "- Device is programmed with the example programming file"
   ]
  },
  {
   "cell_type": "code",
   "execution_count": 4,
   "id": "88a5bdcd",
   "metadata": {
    "execution": {
     "iopub.execute_input": "2023-10-24T22:10:59.173916Z",
     "iopub.status.busy": "2023-10-24T22:10:59.172661Z",
     "iopub.status.idle": "2023-10-24T22:11:06.349165Z",
     "shell.execute_reply": "2023-10-24T22:11:06.348580Z"
    },
    "papermill": {
     "duration": 7.186524,
     "end_time": "2023-10-24T22:11:06.353403",
     "exception": false,
     "start_time": "2023-10-24T22:10:59.166879",
     "status": "completed"
    },
    "tags": []
   },
   "outputs": [
    {
     "data": {
      "text/html": [
       "<pre style=\"white-space:pre;overflow-x:auto;line-height:normal;font-family:Menlo,'DejaVu Sans Mono',consolas,'Courier New',monospace\">\n",
       "<span style=\"font-weight: bold\">--&gt; INFO: </span>Programming device with: \n",
       "/scratch/2023.2/chipscopy-examples/designs/vck190/production/chipscopy_ced/chipscopy_wrapper.pdi\n",
       "    \n",
       "</pre>\n"
      ],
      "text/plain": [
       "\n",
       "\u001b[1m--> INFO: \u001b[0mProgramming device with: \n",
       "/scratch/2023.2/chipscopy-examples/designs/vck190/production/chipscopy_ced/chipscopy_wrapper.pdi\n",
       "    \n"
      ]
     },
     "metadata": {},
     "output_type": "display_data"
    },
    {
     "data": {
      "application/vnd.jupyter.widget-view+json": {
       "model_id": "aa5f20f0f2ba4ea1936917f3eeb538f0",
       "version_major": 2,
       "version_minor": 0
      },
      "text/plain": [
       "Output()"
      ]
     },
     "metadata": {},
     "output_type": "display_data"
    },
    {
     "data": {
      "text/html": [
       "<pre style=\"white-space:pre;overflow-x:auto;line-height:normal;font-family:Menlo,'DejaVu Sans Mono',consolas,'Courier New',monospace\"></pre>\n"
      ],
      "text/plain": []
     },
     "metadata": {},
     "output_type": "display_data"
    },
    {
     "data": {
      "text/html": [
       "<pre style=\"white-space:pre;overflow-x:auto;line-height:normal;font-family:Menlo,'DejaVu Sans Mono',consolas,'Courier New',monospace\">\n",
       "</pre>\n"
      ],
      "text/plain": [
       "\n"
      ]
     },
     "metadata": {},
     "output_type": "display_data"
    }
   ],
   "source": [
    "# Typical case - one device on the board - get it.\n",
    "device = session.devices.filter_by(family=\"versal\").get()\n",
    "if PROG_DEVICE:\n",
    "    device.program(PROGRAMMING_FILE)\n",
    "else:\n",
    "    print(\"skipping programming\")"
   ]
  },
  {
   "cell_type": "markdown",
   "id": "4964e17e",
   "metadata": {
    "papermill": {
     "duration": 0.003967,
     "end_time": "2023-10-24T22:11:06.361525",
     "exception": false,
     "start_time": "2023-10-24T22:11:06.357558",
     "status": "completed"
    },
    "tags": []
   },
   "source": [
    "## 4 - Discover Debug Cores\n",
    "\n",
    "Debug core discovery initializes the chipscope server debug cores. This brings debug cores in the chipscope server online.\n",
    "\n",
    "After this step,\n",
    "\n",
    "- The cs_server is initialized and ready for use"
   ]
  },
  {
   "cell_type": "code",
   "execution_count": 5,
   "id": "98b34df2",
   "metadata": {
    "execution": {
     "iopub.execute_input": "2023-10-24T22:11:07.051611Z",
     "iopub.status.busy": "2023-10-24T22:11:07.051426Z",
     "iopub.status.idle": "2023-10-24T22:11:07.116450Z",
     "shell.execute_reply": "2023-10-24T22:11:07.115393Z"
    },
    "papermill": {
     "duration": 0.757435,
     "end_time": "2023-10-24T22:11:07.122325",
     "exception": false,
     "start_time": "2023-10-24T22:11:06.364890",
     "status": "completed"
    },
    "tags": []
   },
   "outputs": [
    {
     "name": "stdout",
     "output_type": "stream",
     "text": [
      "System monitor setup and ready for use.\n"
     ]
    }
   ],
   "source": [
    "device.discover_and_setup_cores(sysmon_scan=True)\n",
    "print(f\"System monitor setup and ready for use.\")"
   ]
  },
  {
   "cell_type": "markdown",
   "id": "9863a1d0",
   "metadata": {
    "papermill": {
     "duration": 0.003291,
     "end_time": "2023-10-24T22:11:07.129875",
     "exception": false,
     "start_time": "2023-10-24T22:11:07.126584",
     "status": "completed"
    },
    "tags": []
   },
   "source": [
    "## 5 - Initialize System Monitor\n",
    "\n",
    "Get reference to the system monitor and initialize all sensors."
   ]
  },
  {
   "cell_type": "code",
   "execution_count": 6,
   "id": "fe370230",
   "metadata": {
    "execution": {
     "iopub.execute_input": "2023-10-24T22:11:07.138507Z",
     "iopub.status.busy": "2023-10-24T22:11:07.137936Z",
     "iopub.status.idle": "2023-10-24T22:11:09.299970Z",
     "shell.execute_reply": "2023-10-24T22:11:09.299044Z"
    },
    "papermill": {
     "duration": 2.168059,
     "end_time": "2023-10-24T22:11:09.301238",
     "exception": false,
     "start_time": "2023-10-24T22:11:07.133179",
     "status": "completed"
    },
    "tags": []
   },
   "outputs": [
    {
     "name": "stdout",
     "output_type": "stream",
     "text": [
      "Initializing sensors\n"
     ]
    },
    {
     "name": "stdout",
     "output_type": "stream",
     "text": [
      "Refresh measurement schedule\n",
      "Sensors:\n",
      "  VCCAUX\n",
      "  VCCAUX_PMC\n",
      "  VCC_PMC\n",
      "  VCC_PSFP\n",
      "  VCC_PSLP\n",
      "  VCC_SOC\n",
      "  VP_VN\n",
      "Done.\n"
     ]
    }
   ],
   "source": [
    "sysmon = device.sysmon_root[0]\n",
    "\n",
    "print(\"Initializing sensors\")\n",
    "active_nodes = sysmon.initialize_sensors()\n",
    "\n",
    "print(\"Refresh measurement schedule\")\n",
    "schedule = sysmon.refresh_measurement_schedule()\n",
    "\n",
    "print(\"Sensors:\")\n",
    "for sensor in schedule.values():\n",
    "    print(f\"  {sensor}\")\n",
    "\n",
    "print(\"Done.\")"
   ]
  },
  {
   "cell_type": "markdown",
   "id": "042c3847",
   "metadata": {
    "papermill": {
     "duration": 0.003439,
     "end_time": "2023-10-24T22:11:09.308928",
     "exception": false,
     "start_time": "2023-10-24T22:11:09.305489",
     "status": "completed"
    },
    "tags": []
   },
   "source": [
    "## 6 - Register a listener for System Monitor Events\n",
    "\n",
    "The SysMonNodeListener node_changed() will be called every 1000ms with updated system monitor values."
   ]
  },
  {
   "cell_type": "code",
   "execution_count": 7,
   "id": "21194961",
   "metadata": {
    "execution": {
     "iopub.execute_input": "2023-10-24T22:11:09.317118Z",
     "iopub.status.busy": "2023-10-24T22:11:09.316926Z",
     "iopub.status.idle": "2023-10-24T22:11:09.420874Z",
     "shell.execute_reply": "2023-10-24T22:11:09.419665Z"
    },
    "papermill": {
     "duration": 0.10974,
     "end_time": "2023-10-24T22:11:09.422223",
     "exception": false,
     "start_time": "2023-10-24T22:11:09.312483",
     "status": "completed"
    },
    "tags": []
   },
   "outputs": [
    {
     "name": "stdout",
     "output_type": "stream",
     "text": [
      "Node listener added.\n"
     ]
    }
   ],
   "source": [
    "class SysMonNodeListener(dm.NodeListener):\n",
    "    def node_changed(self, node, updated_keys):\n",
    "        if \"device_temp\" in node.props:\n",
    "            print(f\"Device Temp: {node.props['device_temp']}\")\n",
    "        for supply_idx, named_sensor in schedule.items():\n",
    "            supply = f\"supply{supply_idx}\"\n",
    "            if supply in node.props:\n",
    "                print(f\"{named_sensor}: {node.props[supply]}\")\n",
    "        print()\n",
    "\n",
    "\n",
    "node_listener = SysMonNodeListener()\n",
    "session.chipscope_view.add_node_listener(node_listener)\n",
    "\n",
    "sysmon.stream_sensor_data(1000)\n",
    "print(\"Node listener added.\")"
   ]
  },
  {
   "cell_type": "markdown",
   "id": "882a0571",
   "metadata": {
    "papermill": {
     "duration": 0.003706,
     "end_time": "2023-10-24T22:11:09.430228",
     "exception": false,
     "start_time": "2023-10-24T22:11:09.426522",
     "status": "completed"
    },
    "tags": []
   },
   "source": [
    "## 7 - Run measurement for 5 seconds\n",
    "\n",
    "System Monitor will report results for 5 seconds then exit."
   ]
  },
  {
   "cell_type": "code",
   "execution_count": 8,
   "id": "5c1fc6dd",
   "metadata": {
    "execution": {
     "iopub.execute_input": "2023-10-24T22:11:09.438747Z",
     "iopub.status.busy": "2023-10-24T22:11:09.438484Z",
     "iopub.status.idle": "2023-10-24T22:11:14.461242Z",
     "shell.execute_reply": "2023-10-24T22:11:14.460219Z"
    },
    "papermill": {
     "duration": 5.02885,
     "end_time": "2023-10-24T22:11:14.462637",
     "exception": false,
     "start_time": "2023-10-24T22:11:09.433787",
     "status": "completed"
    },
    "tags": []
   },
   "outputs": [
    {
     "name": "stdout",
     "output_type": "stream",
     "text": [
      "Device Temp: 32.78125\n",
      "VCCAUX: 1.50225830078125\n",
      "VCCAUX_PMC: 1.499298095703125\n",
      "VCC_PMC: 0.799560546875\n",
      "VCC_PSFP: 0.7974853515625\n",
      "VCC_PSLP: 0.799285888671875\n",
      "VCC_SOC: 0.8087158203125\n",
      "VP_VN: 0.1222991943359375\n",
      "\n"
     ]
    },
    {
     "name": "stdout",
     "output_type": "stream",
     "text": [
      "Device Temp: 32.8828125\n",
      "VCCAUX: 1.50262451171875\n",
      "VCCAUX_PMC: 1.4986572265625\n",
      "VCC_PMC: 0.799407958984375\n",
      "VCC_PSFP: 0.79608154296875\n",
      "VCC_PSLP: 0.79913330078125\n",
      "VCC_SOC: 0.807769775390625\n",
      "VP_VN: 0.12255859375\n",
      "\n"
     ]
    },
    {
     "name": "stdout",
     "output_type": "stream",
     "text": [
      "Device Temp: 33.0390625\n",
      "VCCAUX: 1.500244140625\n",
      "VCCAUX_PMC: 1.500335693359375\n",
      "VCC_PMC: 0.798858642578125\n",
      "VCC_PSFP: 0.796661376953125\n",
      "VCC_PSLP: 0.798828125\n",
      "VCC_SOC: 0.799041748046875\n",
      "VP_VN: 0.1228485107421875\n",
      "\n"
     ]
    },
    {
     "name": "stdout",
     "output_type": "stream",
     "text": [
      "Device Temp: 33.59375\n",
      "VCCAUX: 1.501495361328125\n",
      "VCCAUX_PMC: 1.49847412109375\n",
      "VCC_PMC: 0.799285888671875\n",
      "VCC_PSFP: 0.796844482421875\n",
      "VCC_PSLP: 0.797271728515625\n",
      "VCC_SOC: 0.814544677734375\n",
      "VP_VN: 0.122955322265625\n",
      "\n"
     ]
    },
    {
     "name": "stdout",
     "output_type": "stream",
     "text": [
      "Device Temp: 33.0390625\n",
      "VCCAUX: 1.49969482421875\n",
      "VCCAUX_PMC: 1.49786376953125\n",
      "VCC_PMC: 0.799072265625\n",
      "VCC_PSFP: 0.7965087890625\n",
      "VCC_PSLP: 0.798187255859375\n",
      "VCC_SOC: 0.80877685546875\n",
      "VP_VN: 0.12286376953125\n",
      "\n"
     ]
    },
    {
     "name": "stdout",
     "output_type": "stream",
     "text": [
      "Measurement done.\n"
     ]
    }
   ],
   "source": [
    "# Take measurements for 5 seconds then exit.\n",
    "\n",
    "time_end = time.time() + 5\n",
    "\n",
    "while time.time() < time_end:\n",
    "    session.chipscope_view.run_events()\n",
    "    time.sleep(0.1)\n",
    "\n",
    "print(\"Measurement done.\")"
   ]
  }
 ],
 "metadata": {
  "jupytext": {
   "cell_metadata_filter": "-all",
   "main_language": "python",
   "notebook_metadata_filter": "-all"
  },
  "language_info": {
   "codemirror_mode": {
    "name": "ipython",
    "version": 3
   },
   "file_extension": ".py",
   "mimetype": "text/x-python",
   "name": "python",
   "nbconvert_exporter": "python",
   "pygments_lexer": "ipython3",
   "version": "3.10.10"
  },
  "papermill": {
   "default_parameters": {},
   "duration": 20.231512,
   "end_time": "2023-10-24T22:11:14.985880",
   "environment_variables": {},
   "exception": null,
   "input_path": "./chipscopy-examples/sysmon/sysmon_example.ipynb",
   "output_path": "./chipscopy-examples/sysmon/sysmon_example.ipynb",
   "parameters": {},
   "start_time": "2023-10-24T22:10:54.754368",
   "version": "2.4.0"
  },
  "widgets": {
   "application/vnd.jupyter.widget-state+json": {
    "state": {
     "9f6388e657a2453c99cd1a149cef69bb": {
      "model_module": "@jupyter-widgets/base",
      "model_module_version": "2.0.0",
      "model_name": "LayoutModel",
      "state": {
       "_model_module": "@jupyter-widgets/base",
       "_model_module_version": "2.0.0",
       "_model_name": "LayoutModel",
       "_view_count": null,
       "_view_module": "@jupyter-widgets/base",
       "_view_module_version": "2.0.0",
       "_view_name": "LayoutView",
       "align_content": null,
       "align_items": null,
       "align_self": null,
       "border_bottom": null,
       "border_left": null,
       "border_right": null,
       "border_top": null,
       "bottom": null,
       "display": null,
       "flex": null,
       "flex_flow": null,
       "grid_area": null,
       "grid_auto_columns": null,
       "grid_auto_flow": null,
       "grid_auto_rows": null,
       "grid_column": null,
       "grid_gap": null,
       "grid_row": null,
       "grid_template_areas": null,
       "grid_template_columns": null,
       "grid_template_rows": null,
       "height": null,
       "justify_content": null,
       "justify_items": null,
       "left": null,
       "margin": null,
       "max_height": null,
       "max_width": null,
       "min_height": null,
       "min_width": null,
       "object_fit": null,
       "object_position": null,
       "order": null,
       "overflow": null,
       "padding": null,
       "right": null,
       "top": null,
       "visibility": null,
       "width": null
      }
     },
     "aa5f20f0f2ba4ea1936917f3eeb538f0": {
      "model_module": "@jupyter-widgets/output",
      "model_module_version": "1.0.0",
      "model_name": "OutputModel",
      "state": {
       "_dom_classes": [],
       "_model_module": "@jupyter-widgets/output",
       "_model_module_version": "1.0.0",
       "_model_name": "OutputModel",
       "_view_count": null,
       "_view_module": "@jupyter-widgets/output",
       "_view_module_version": "1.0.0",
       "_view_name": "OutputView",
       "layout": "IPY_MODEL_9f6388e657a2453c99cd1a149cef69bb",
       "msg_id": "",
       "outputs": [
        {
         "data": {
          "text/html": "<pre style=\"white-space:pre;overflow-x:auto;line-height:normal;font-family:Menlo,'DejaVu Sans Mono',consolas,'Courier New',monospace\">Device program progress <span style=\"color: #729c1f; text-decoration-color: #729c1f\">━━━━━━━━━━━━━━━━━━━━━━━━━━━━━━━━━━━━━━━━</span> <span style=\"color: #ff00ff; text-decoration-color: #ff00ff; font-weight: bold\">100%</span> <span style=\"color: #008000; text-decoration-color: #008000; font-weight: bold\">Done</span>\n</pre>\n",
          "text/plain": "Device program progress \u001b[38;2;114;156;31m━━━━━━━━━━━━━━━━━━━━━━━━━━━━━━━━━━━━━━━━\u001b[0m \u001b[1;95m100%\u001b[0m \u001b[1;32mDone\u001b[0m\n"
         },
         "metadata": {},
         "output_type": "display_data"
        }
       ],
       "tabbable": null,
       "tooltip": null
      }
     }
    },
    "version_major": 2,
    "version_minor": 0
   }
  }
 },
 "nbformat": 4,
 "nbformat_minor": 5
}