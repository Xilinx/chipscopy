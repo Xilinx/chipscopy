{
  "cells": [
    {
      "cell_type": "markdown",
      "id": "28bccc9c",
      "metadata": {},
      "source": [
        "<link rel=\"preconnect\" href=\"https://fonts.gstatic.com\">\n",
        "<link href=\"https://fonts.googleapis.com/css2?family=Fira+Code&display=swap\" rel=\"stylesheet\">\n",
        "\n",
        "### License\n",
        "\n",
        "<p style=\"font-family: 'Fira Code', monospace; font-size: 1.2rem\">\n",
        "Copyright (C) 2021-2022, Xilinx, Inc.\n",
        "Copyright (C) 2022-2023, Advanced Micro Devices, Inc.\n",
        "<br><br>\n",
        "Licensed under the Apache License, Version 2.0 (the \"License\");<br>\n",
        "you may not use this file except in compliance with the License.<br><br>\n",
        "You may obtain a copy of the License at <a href=\"http://www.apache.org/licenses/LICENSE-2.0\"?>http://www.apache.org/licenses/LICENSE-2.0</a><br><br>\n",
        "Unless required by applicable law or agreed to in writing, software<br>\n",
        "distributed under the License is distributed on an \"AS IS\" BASIS,<br>\n",
        "WITHOUT WARRANTIES OR CONDITIONS OF ANY KIND, either express or implied.<br>\n",
        "See the License for the specific language governing permissions and<br>\n",
        "limitations under the License.<br>\n",
        "</p>\n"
      ],
      "outputs": [],
      "execution_count": null
    },
    {
      "cell_type": "markdown",
      "id": "b11f0196",
      "metadata": {},
      "source": [
        "# ChipScoPy System Monitor Example\n",
        "\n",
        "\n",
        "<img src=\"../img/api_overview.png\" width=\"500\" align=\"left\">"
      ],
      "outputs": [],
      "execution_count": null
    },
    {
      "cell_type": "markdown",
      "id": "b289f613",
      "metadata": {},
      "source": [
        "## Description\n",
        "\n",
        "\n",
        "This demo shows how to take and display measurements with the System Monitor.\n",
        "\n",
        "\n",
        "## Requirements\n",
        "- Local or remote Xilinx Versal board, such as a VCK190\n",
        "- Xilinx hw_server 2023.2 installed and running\n",
        "- Xilinx cs_server 2023.2 installed and running\n",
        "- Python 3.8 or greater installed\n",
        "- ChipScoPy 2023.2 installed\n",
        "- Jupyter notebook support installed - Please do so, using the command `pip install chipscopy[jupyter]`"
      ],
      "outputs": [],
      "execution_count": null
    },
    {
      "cell_type": "markdown",
      "id": "13cb5b4a",
      "metadata": {},
      "source": [
        "## 1 - Initialization: Imports and File Paths\n",
        "\n",
        "After this step,\n",
        "- Required functions and classes are imported\n",
        "- URL paths are set correctly\n",
        "- File paths to example files are set correctly"
      ],
      "outputs": [],
      "execution_count": null
    },
    {
      "cell_type": "code",
      "execution_count": null,
      "id": "47bb7e4d",
      "metadata": {},
      "outputs": [],
      "source": [
        "import os\n",
        "import time\n",
        "from chipscopy import get_design_files\n",
        "from chipscopy import __version__, dm\n",
        "from chipscopy import create_session, report_versions"
      ]
    },
    {
      "cell_type": "code",
      "execution_count": null,
      "id": "acbf3295",
      "metadata": {},
      "outputs": [],
      "source": [
        "# Specify locations of the running hw_server and cs_server below.\n",
        "CS_URL = os.getenv(\"CS_SERVER_URL\", \"TCP:localhost:3042\")\n",
        "HW_URL = os.getenv(\"HW_SERVER_URL\", \"TCP:localhost:3121\")\n",
        "\n",
        "# specify hw and if programming is desired\n",
        "HW_PLATFORM = os.getenv(\"HW_PLATFORM\", \"vck190\")\n",
        "PROG_DEVICE = os.getenv(\"PROG_DEVICE\", 'True').lower() in ('true', '1', 't')\n",
        "\n",
        "# The get_design_files() function tries to find the PDI and LTX files. In non-standard\n",
        "# configurations, you can put the path for PROGRAMMING_FILE and PROBES_FILE below.\n",
        "design_files = get_design_files(f\"{HW_PLATFORM}/production/chipscopy_ced\")\n",
        "\n",
        "PROGRAMMING_FILE = design_files.programming_file\n",
        "PROBES_FILE = design_files.probes_file\n",
        "\n",
        "print(f\"HW_URL: {HW_URL}\")\n",
        "print(f\"CS_URL: {CS_URL}\")\n",
        "print(f\"PROGRAMMING_FILE: {PROGRAMMING_FILE}\")\n",
        "print(f\"PROBES_FILE:{PROBES_FILE}\")"
      ]
    },
    {
      "cell_type": "markdown",
      "id": "28b90d2a",
      "metadata": {},
      "source": [
        "## 2 - Create a session and connect to the hw_server and cs_server\n",
        "\n",
        "The session is a container that keeps track of devices and debug cores.\n",
        "After this step,\n",
        "- Session is initialized and connected to server(s)\n",
        "- Versions are detected and reported to stdout"
      ],
      "outputs": [],
      "execution_count": null
    },
    {
      "cell_type": "code",
      "execution_count": null,
      "id": "ddabcade",
      "metadata": {},
      "outputs": [],
      "source": [
        "session = create_session(cs_server_url=CS_URL, hw_server_url=HW_URL)\n",
        "report_versions(session)"
      ]
    },
    {
      "cell_type": "markdown",
      "id": "77a645f1",
      "metadata": {},
      "source": [
        "## 3 - Program the device with the example design\n",
        "\n",
        "After this step,\n",
        "- Device is programmed with the example programming file"
      ],
      "outputs": [],
      "execution_count": null
    },
    {
      "cell_type": "code",
      "execution_count": null,
      "id": "88a5bdcd",
      "metadata": {},
      "outputs": [],
      "source": [
        "# Typical case - one device on the board - get it.\n",
        "device = session.devices.filter_by(family=\"versal\").get()\n",
        "if PROG_DEVICE:\n",
        "    device.program(PROGRAMMING_FILE)\n",
        "else:\n",
        "    print(\"skipping programming\")"
      ]
    },
    {
      "cell_type": "markdown",
      "id": "4964e17e",
      "metadata": {},
      "source": [
        "## 4 - Discover Debug Cores\n",
        "\n",
        "Debug core discovery initializes the chipscope server debug cores. This brings debug cores in the chipscope server online.\n",
        "\n",
        "After this step,\n",
        "\n",
        "- The cs_server is initialized and ready for use"
      ],
      "outputs": [],
      "execution_count": null
    },
    {
      "cell_type": "code",
      "execution_count": null,
      "id": "98b34df2",
      "metadata": {},
      "outputs": [],
      "source": [
        "device.discover_and_setup_cores(sysmon_scan=True)\n",
        "print(f\"System monitor setup and ready for use.\")"
      ]
    },
    {
      "cell_type": "markdown",
      "id": "9863a1d0",
      "metadata": {},
      "source": [
        "## 5 - Initialize System Monitor\n",
        "\n",
        "Get reference to the system monitor and initialize all sensors."
      ],
      "outputs": [],
      "execution_count": null
    },
    {
      "cell_type": "code",
      "execution_count": null,
      "id": "fe370230",
      "metadata": {},
      "outputs": [],
      "source": [
        "sysmon = device.sysmon_root[0]\n",
        "\n",
        "print(\"Initializing sensors\")\n",
        "active_nodes = sysmon.initialize_sensors()\n",
        "\n",
        "print(\"Refresh measurement schedule\")\n",
        "schedule = sysmon.refresh_measurement_schedule()\n",
        "\n",
        "print(\"Sensors:\")\n",
        "for sensor in schedule.values():\n",
        "    print(f\"  {sensor}\")\n",
        "\n",
        "print(\"Done.\")"
      ]
    },
    {
      "cell_type": "markdown",
      "id": "042c3847",
      "metadata": {},
      "source": [
        "## 6 - Register a listener for System Monitor Events\n",
        "\n",
        "The SysMonNodeListener node_changed() will be called every 1000ms with updated system monitor values."
      ],
      "outputs": [],
      "execution_count": null
    },
    {
      "cell_type": "code",
      "execution_count": null,
      "id": "21194961",
      "metadata": {},
      "outputs": [],
      "source": [
        "class SysMonNodeListener(dm.NodeListener):\n",
        "    def node_changed(self, node, updated_keys):\n",
        "        if \"device_temp\" in node.props:\n",
        "            print(f\"Device Temp: {node.props['device_temp']}\")\n",
        "        for supply_idx, named_sensor in schedule.items():\n",
        "            supply = f\"supply{supply_idx}\"\n",
        "            if supply in node.props:\n",
        "                print(f\"{named_sensor}: {node.props[supply]}\")\n",
        "        print()\n",
        "\n",
        "\n",
        "node_listener = SysMonNodeListener()\n",
        "session.chipscope_view.add_node_listener(node_listener)\n",
        "\n",
        "sysmon.stream_sensor_data(1000)\n",
        "print(\"Node listener added.\")"
      ]
    },
    {
      "cell_type": "markdown",
      "id": "882a0571",
      "metadata": {},
      "source": [
        "## 7 - Run measurement for 5 seconds\n",
        "\n",
        "System Monitor will report results for 5 seconds then exit."
      ],
      "outputs": [],
      "execution_count": null
    },
    {
      "cell_type": "code",
      "execution_count": null,
      "id": "5c1fc6dd",
      "metadata": {},
      "outputs": [],
      "source": [
        "# Take measurements for 5 seconds then exit.\n",
        "\n",
        "time_end = time.time() + 5\n",
        "\n",
        "while time.time() < time_end:\n",
        "    session.chipscope_view.run_events()\n",
        "    time.sleep(0.1)\n",
        "\n",
        "print(\"Measurement done.\")"
      ]
    }
  ],
  "metadata": {},
  "nbformat": 4,
  "nbformat_minor": 5
}
