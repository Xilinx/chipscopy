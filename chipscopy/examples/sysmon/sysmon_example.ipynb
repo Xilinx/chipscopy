{
 "cells": [
  {
   "cell_type": "markdown",
   "id": "28bccc9c",
   "metadata": {
    "papermill": {
     "duration": 0.005125,
     "end_time": "2023-10-20T19:20:58.841704",
     "exception": false,
     "start_time": "2023-10-20T19:20:58.836579",
     "status": "completed"
    },
    "tags": []
   },
   "source": [
    "<link rel=\"preconnect\" href=\"https://fonts.gstatic.com\">\n",
    "<link href=\"https://fonts.googleapis.com/css2?family=Fira+Code&display=swap\" rel=\"stylesheet\">\n",
    "\n",
    "### License\n",
    "\n",
    "<p style=\"font-family: 'Fira Code', monospace; font-size: 1.2rem\">\n",
    "Copyright (C) 2021-2022, Xilinx, Inc.\n",
    "Copyright (C) 2022-2023, Advanced Micro Devices, Inc.\n",
    "<br><br>\n",
    "Licensed under the Apache License, Version 2.0 (the \"License\");<br>\n",
    "you may not use this file except in compliance with the License.<br><br>\n",
    "You may obtain a copy of the License at <a href=\"http://www.apache.org/licenses/LICENSE-2.0\"?>http://www.apache.org/licenses/LICENSE-2.0</a><br><br>\n",
    "Unless required by applicable law or agreed to in writing, software<br>\n",
    "distributed under the License is distributed on an \"AS IS\" BASIS,<br>\n",
    "WITHOUT WARRANTIES OR CONDITIONS OF ANY KIND, either express or implied.<br>\n",
    "See the License for the specific language governing permissions and<br>\n",
    "limitations under the License.<br>\n",
    "</p>\n"
   ]
  },
  {
   "cell_type": "markdown",
   "id": "b11f0196",
   "metadata": {
    "papermill": {
     "duration": 0.003997,
     "end_time": "2023-10-20T19:20:58.850410",
     "exception": false,
     "start_time": "2023-10-20T19:20:58.846413",
     "status": "completed"
    },
    "tags": []
   },
   "source": [
    "# ChipScoPy System Monitor Example\n",
    "\n",
    "\n",
    "<img src=\"../img/api_overview.png\" width=\"500\" align=\"left\">"
   ]
  },
  {
   "cell_type": "markdown",
   "id": "b289f613",
   "metadata": {
    "papermill": {
     "duration": 0.003656,
     "end_time": "2023-10-20T19:20:58.857979",
     "exception": false,
     "start_time": "2023-10-20T19:20:58.854323",
     "status": "completed"
    },
    "tags": []
   },
   "source": [
    "## Description\n",
    "\n",
    "\n",
    "This demo shows how to take and display measurements with the System Monitor.\n",
    "\n",
    "\n",
    "## Requirements\n",
    "- Local or remote Xilinx Versal board, such as a VCK190\n",
    "- Xilinx hw_server 2023.2 installed and running\n",
    "- Xilinx cs_server 2023.2 installed and running\n",
    "- Python 3.8 or greater installed\n",
    "- ChipScoPy 2023.2 installed\n",
    "- Jupyter notebook support installed - Please do so, using the command `pip install chipscopy[jupyter]`"
   ]
  },
  {
   "cell_type": "markdown",
   "id": "13cb5b4a",
   "metadata": {
    "papermill": {
     "duration": 0.004071,
     "end_time": "2023-10-20T19:20:58.865820",
     "exception": false,
     "start_time": "2023-10-20T19:20:58.861749",
     "status": "completed"
    },
    "tags": []
   },
   "source": [
    "## 1 - Initialization: Imports and File Paths\n",
    "\n",
    "After this step,\n",
    "- Required functions and classes are imported\n",
    "- URL paths are set correctly\n",
    "- File paths to example files are set correctly"
   ]
  },
  {
   "cell_type": "code",
   "execution_count": 1,
   "id": "47bb7e4d",
   "metadata": {
    "execution": {
     "iopub.execute_input": "2023-10-20T19:20:58.879363Z",
     "iopub.status.busy": "2023-10-20T19:20:58.878736Z",
     "iopub.status.idle": "2023-10-20T19:20:59.142394Z",
     "shell.execute_reply": "2023-10-20T19:20:59.141320Z"
    },
    "papermill": {
     "duration": 0.274052,
     "end_time": "2023-10-20T19:20:59.144855",
     "exception": false,
     "start_time": "2023-10-20T19:20:58.870803",
     "status": "completed"
    },
    "tags": []
   },
   "outputs": [],
   "source": [
    "import os\n",
    "import time\n",
    "from chipscopy import get_design_files\n",
    "from chipscopy import __version__, dm\n",
    "from chipscopy import create_session, report_versions"
   ]
  },
  {
   "cell_type": "code",
   "execution_count": 2,
   "id": "acbf3295",
   "metadata": {
    "execution": {
     "iopub.execute_input": "2023-10-20T19:20:59.157094Z",
     "iopub.status.busy": "2023-10-20T19:20:59.155514Z",
     "iopub.status.idle": "2023-10-20T19:20:59.167487Z",
     "shell.execute_reply": "2023-10-20T19:20:59.166549Z"
    },
    "papermill": {
     "duration": 0.019689,
     "end_time": "2023-10-20T19:20:59.169473",
     "exception": false,
     "start_time": "2023-10-20T19:20:59.149784",
     "status": "completed"
    },
    "tags": []
   },
   "outputs": [
    {
     "name": "stdout",
     "output_type": "stream",
     "text": [
      "HW_URL: TCP:localhost:3121\n",
      "CS_URL: TCP:localhost:3042\n",
      "PROGRAMMING_FILE: /wrk/xcohdnobkup3/dkopelov/chipscopy/chipscopy/examples/designs/vck190/production/chipscopy_ced/chipscopy_wrapper.pdi\n",
      "PROBES_FILE:/wrk/xcohdnobkup3/dkopelov/chipscopy/chipscopy/examples/designs/vck190/production/chipscopy_ced/chipscopy_wrapper.ltx\n"
     ]
    }
   ],
   "source": [
    "# Specify locations of the running hw_server and cs_server below.\n",
    "CS_URL = os.getenv(\"CS_SERVER_URL\", \"TCP:localhost:3042\")\n",
    "HW_URL = os.getenv(\"HW_SERVER_URL\", \"TCP:localhost:3121\")\n",
    "\n",
    "# specify hw and if programming is desired\n",
    "HW_PLATFORM = os.getenv(\"HW_PLATFORM\", \"vck190\")\n",
    "PROG_DEVICE = os.getenv(\"PROG_DEVICE\", 'True').lower() in ('true', '1', 't')\n",
    "\n",
    "# The get_design_files() function tries to find the PDI and LTX files. In non-standard\n",
    "# configurations, you can put the path for PROGRAMMING_FILE and PROBES_FILE below.\n",
    "design_files = get_design_files(f\"{HW_PLATFORM}/production/chipscopy_ced\")\n",
    "\n",
    "PROGRAMMING_FILE = design_files.programming_file\n",
    "PROBES_FILE = design_files.probes_file\n",
    "\n",
    "print(f\"HW_URL: {HW_URL}\")\n",
    "print(f\"CS_URL: {CS_URL}\")\n",
    "print(f\"PROGRAMMING_FILE: {PROGRAMMING_FILE}\")\n",
    "print(f\"PROBES_FILE:{PROBES_FILE}\")"
   ]
  },
  {
   "cell_type": "markdown",
   "id": "28b90d2a",
   "metadata": {
    "papermill": {
     "duration": 0.003943,
     "end_time": "2023-10-20T19:20:59.178399",
     "exception": false,
     "start_time": "2023-10-20T19:20:59.174456",
     "status": "completed"
    },
    "tags": []
   },
   "source": [
    "## 2 - Create a session and connect to the hw_server and cs_server\n",
    "\n",
    "The session is a container that keeps track of devices and debug cores.\n",
    "After this step,\n",
    "- Session is initialized and connected to server(s)\n",
    "- Versions are detected and reported to stdout"
   ]
  },
  {
   "cell_type": "code",
   "execution_count": 3,
   "id": "ddabcade",
   "metadata": {
    "execution": {
     "iopub.execute_input": "2023-10-20T19:20:59.188889Z",
     "iopub.status.busy": "2023-10-20T19:20:59.188075Z",
     "iopub.status.idle": "2023-10-20T19:21:00.433091Z",
     "shell.execute_reply": "2023-10-20T19:21:00.432309Z"
    },
    "papermill": {
     "duration": 1.254139,
     "end_time": "2023-10-20T19:21:00.436386",
     "exception": false,
     "start_time": "2023-10-20T19:20:59.182247",
     "status": "completed"
    },
    "tags": []
   },
   "outputs": [
    {
     "data": {
      "text/html": [
       "<pre style=\"white-space:pre;overflow-x:auto;line-height:normal;font-family:Menlo,'DejaVu Sans Mono',consolas,'Courier New',monospace\">\n",
       "\n",
       "</pre>\n"
      ],
      "text/plain": [
       "<rich.jupyter.JupyterRenderable at 0x7f78b834dcd0>"
      ]
     },
     "metadata": {},
     "output_type": "display_data"
    },
    {
     "data": {
      "text/html": [
       "<pre style=\"white-space:pre;overflow-x:auto;line-height:normal;font-family:Menlo,'DejaVu Sans Mono',consolas,'Courier New',monospace\"><span style=\"font-style: italic\">                      ChipScoPy Version Information                      </span>\n",
       "┌────────────────────────────┬──────────────────────────────────────────┐\n",
       "│<span style=\"font-weight: bold\">                     Entity </span>│<span style=\"font-weight: bold\"> Version                                  </span>│\n",
       "├────────────────────────────┼──────────────────────────────────────────┤\n",
       "│                  ChipScoPy │ ┌───────────┬──────────────────────┐     │\n",
       "│                            │ │<span style=\"font-weight: bold\"> Attribute </span>│<span style=\"font-weight: bold\"> Value                </span>│     │\n",
       "│                            │ ├───────────┼──────────────────────┤     │\n",
       "│                            │ │     Build │ 2023.2.1693353190    │     │\n",
       "│                            │ │ Timestamp │ Aug 29 2023-17:53:10 │     │\n",
       "│                            │ └───────────┴──────────────────────┘     │\n",
       "│                            │                                          │\n",
       "│ hw_server @ localhost:3121 │ ┌───────────┬──────────────────────────┐ │\n",
       "│                            │ │<span style=\"font-weight: bold\"> Attribute </span>│<span style=\"font-weight: bold\"> Value                    </span>│ │\n",
       "│                            │ ├───────────┼──────────────────────────┤ │\n",
       "│                            │ │    Status │ Connected                │ │\n",
       "│                            │ │     Build │ 1683493450               │ │\n",
       "│                            │ │   Version │ 2023.1                   │ │\n",
       "│                            │ │ Timestamp │ Sun May  7 15:04:10 2023 │ │\n",
       "│                            │ └───────────┴──────────────────────────┘ │\n",
       "│                            │                                          │\n",
       "│ cs_server @ localhost:3042 │ ┌───────────────┬──────────────────────┐ │\n",
       "│                            │ │<span style=\"font-weight: bold\">     Attribute </span>│<span style=\"font-weight: bold\"> Value                </span>│ │\n",
       "│                            │ ├───────────────┼──────────────────────┤ │\n",
       "│                            │ │        Status │ Connected            │ │\n",
       "│                            │ │         Build │ 1696910516           │ │\n",
       "│                            │ │       Version │ 2023.2.0             │ │\n",
       "│                            │ │     Timestamp │ Oct 09 2023-22:01:56 │ │\n",
       "│                            │ │       Package │ 2023.2.1696910516    │ │\n",
       "│                            │ │ Artifact type │ pyinstaller          │ │\n",
       "│                            │ └───────────────┴──────────────────────┘ │\n",
       "└────────────────────────────┴──────────────────────────────────────────┘\n",
       "</pre>\n"
      ],
      "text/plain": [
       "<rich.jupyter.JupyterRenderable at 0x7f78b834dcd0>"
      ]
     },
     "metadata": {},
     "output_type": "display_data"
    },
    {
     "data": {
      "text/html": [
       "<pre style=\"white-space:pre;overflow-x:auto;line-height:normal;font-family:Menlo,'DejaVu Sans Mono',consolas,'Courier New',monospace\">\n",
       "\n",
       "</pre>\n"
      ],
      "text/plain": [
       "<rich.jupyter.JupyterRenderable at 0x7f78b835f8e0>"
      ]
     },
     "metadata": {},
     "output_type": "display_data"
    }
   ],
   "source": [
    "session = create_session(cs_server_url=CS_URL, hw_server_url=HW_URL)\n",
    "report_versions(session)"
   ]
  },
  {
   "cell_type": "markdown",
   "id": "77a645f1",
   "metadata": {
    "papermill": {
     "duration": 0.004941,
     "end_time": "2023-10-20T19:21:00.447332",
     "exception": false,
     "start_time": "2023-10-20T19:21:00.442391",
     "status": "completed"
    },
    "tags": []
   },
   "source": [
    "## 3 - Program the device with the example design\n",
    "\n",
    "After this step,\n",
    "- Device is programmed with the example programming file"
   ]
  },
  {
   "cell_type": "code",
   "execution_count": 4,
   "id": "88a5bdcd",
   "metadata": {
    "execution": {
     "iopub.execute_input": "2023-10-20T19:21:00.462324Z",
     "iopub.status.busy": "2023-10-20T19:21:00.462105Z",
     "iopub.status.idle": "2023-10-20T19:21:05.658081Z",
     "shell.execute_reply": "2023-10-20T19:21:05.657196Z"
    },
    "papermill": {
     "duration": 5.206677,
     "end_time": "2023-10-20T19:21:05.660391",
     "exception": false,
     "start_time": "2023-10-20T19:21:00.453714",
     "status": "completed"
    },
    "tags": []
   },
   "outputs": [
    {
     "data": {
      "text/html": [
       "<pre style=\"white-space:pre;overflow-x:auto;line-height:normal;font-family:Menlo,'DejaVu Sans Mono',consolas,'Courier New',monospace\">\n",
       "<span style=\"font-weight: bold\">--&gt; INFO: </span>Programming device with: /wrk/xcohdnobkup3/dkopelov/chipscopy/chipscopy/examples/de\n",
       "signs/vck190/production/chipscopy_ced/chipscopy_wrapper.pdi\n",
       "    \n",
       "</pre>\n"
      ],
      "text/plain": [
       "<rich.jupyter.JupyterRenderable at 0x7f78d46dac10>"
      ]
     },
     "metadata": {},
     "output_type": "display_data"
    },
    {
     "name": "stderr",
     "output_type": "stream",
     "text": [
      "/wrk/xcohdnobkup3/dkopelov/chipscopy/chipscopy-venv-py38/lib/python3.8/site-packages/rich/live.py:216: UserWarning: install \"ipywidgets\" for Jupyter support\n",
      "  warnings.warn('install \"ipywidgets\" for Jupyter support')\n"
     ]
    }
   ],
   "source": [
    "# Typical case - one device on the board - get it.\n",
    "device = session.devices.filter_by(family=\"versal\").get()\n",
    "if PROG_DEVICE:\n",
    "    device.program(PROGRAMMING_FILE)\n",
    "else:\n",
    "    print(\"skipping programming\")"
   ]
  },
  {
   "cell_type": "markdown",
   "id": "4964e17e",
   "metadata": {
    "papermill": {
     "duration": 0.004661,
     "end_time": "2023-10-20T19:21:05.670843",
     "exception": false,
     "start_time": "2023-10-20T19:21:05.666182",
     "status": "completed"
    },
    "tags": []
   },
   "source": [
    "## 4 - Discover Debug Cores\n",
    "\n",
    "Debug core discovery initializes the chipscope server debug cores. This brings debug cores in the chipscope server online.\n",
    "\n",
    "After this step,\n",
    "\n",
    "- The cs_server is initialized and ready for use"
   ]
  },
  {
   "cell_type": "code",
   "execution_count": 5,
   "id": "98b34df2",
   "metadata": {
    "execution": {
     "iopub.execute_input": "2023-10-20T19:21:05.681317Z",
     "iopub.status.busy": "2023-10-20T19:21:05.681091Z",
     "iopub.status.idle": "2023-10-20T19:21:05.772616Z",
     "shell.execute_reply": "2023-10-20T19:21:05.771667Z"
    },
    "papermill": {
     "duration": 0.098672,
     "end_time": "2023-10-20T19:21:05.774106",
     "exception": false,
     "start_time": "2023-10-20T19:21:05.675434",
     "status": "completed"
    },
    "tags": []
   },
   "outputs": [
    {
     "name": "stdout",
     "output_type": "stream",
     "text": [
      "System monitor setup and ready for use.\n"
     ]
    }
   ],
   "source": [
    "device.discover_and_setup_cores(sysmon_scan=True)\n",
    "print(f\"System monitor setup and ready for use.\")"
   ]
  },
  {
   "cell_type": "markdown",
   "id": "9863a1d0",
   "metadata": {
    "papermill": {
     "duration": 0.004731,
     "end_time": "2023-10-20T19:21:05.784875",
     "exception": false,
     "start_time": "2023-10-20T19:21:05.780144",
     "status": "completed"
    },
    "tags": []
   },
   "source": [
    "## 5 - Initialize System Monitor\n",
    "\n",
    "Get reference to the system monitor and initialize all sensors."
   ]
  },
  {
   "cell_type": "code",
   "execution_count": 6,
   "id": "fe370230",
   "metadata": {
    "execution": {
     "iopub.execute_input": "2023-10-20T19:21:05.796188Z",
     "iopub.status.busy": "2023-10-20T19:21:05.795816Z",
     "iopub.status.idle": "2023-10-20T19:21:07.688175Z",
     "shell.execute_reply": "2023-10-20T19:21:07.687095Z"
    },
    "papermill": {
     "duration": 1.900512,
     "end_time": "2023-10-20T19:21:07.690014",
     "exception": false,
     "start_time": "2023-10-20T19:21:05.789502",
     "status": "completed"
    },
    "tags": []
   },
   "outputs": [
    {
     "name": "stdout",
     "output_type": "stream",
     "text": [
      "Initializing sensors\n"
     ]
    },
    {
     "name": "stdout",
     "output_type": "stream",
     "text": [
      "Refresh measurement schedule\n",
      "Sensors:\n",
      "  VCCAUX\n",
      "  VCCAUX_PMC\n",
      "  VCC_PMC\n",
      "  VCC_PSFP\n",
      "  VCC_PSLP\n",
      "  VCC_SOC\n",
      "  VP_VN\n",
      "Done.\n"
     ]
    }
   ],
   "source": [
    "sysmon = device.sysmon_root[0]\n",
    "\n",
    "print(\"Initializing sensors\")\n",
    "active_nodes = sysmon.initialize_sensors()\n",
    "\n",
    "print(\"Refresh measurement schedule\")\n",
    "schedule = sysmon.refresh_measurement_schedule()\n",
    "\n",
    "print(\"Sensors:\")\n",
    "for sensor in schedule.values():\n",
    "    print(f\"  {sensor}\")\n",
    "\n",
    "print(\"Done.\")"
   ]
  },
  {
   "cell_type": "markdown",
   "id": "042c3847",
   "metadata": {
    "papermill": {
     "duration": 0.005309,
     "end_time": "2023-10-20T19:21:07.702257",
     "exception": false,
     "start_time": "2023-10-20T19:21:07.696948",
     "status": "completed"
    },
    "tags": []
   },
   "source": [
    "## 6 - Register a listener for System Monitor Events\n",
    "\n",
    "The SysMonNodeListener node_changed() will be called every 1000ms with updated system monitor values."
   ]
  },
  {
   "cell_type": "code",
   "execution_count": 7,
   "id": "21194961",
   "metadata": {
    "execution": {
     "iopub.execute_input": "2023-10-20T19:21:07.714507Z",
     "iopub.status.busy": "2023-10-20T19:21:07.713760Z",
     "iopub.status.idle": "2023-10-20T19:21:07.815300Z",
     "shell.execute_reply": "2023-10-20T19:21:07.814119Z"
    },
    "papermill": {
     "duration": 0.10952,
     "end_time": "2023-10-20T19:21:07.816905",
     "exception": false,
     "start_time": "2023-10-20T19:21:07.707385",
     "status": "completed"
    },
    "tags": []
   },
   "outputs": [
    {
     "name": "stdout",
     "output_type": "stream",
     "text": [
      "Node listener added.\n"
     ]
    }
   ],
   "source": [
    "class SysMonNodeListener(dm.NodeListener):\n",
    "    def node_changed(self, node, updated_keys):\n",
    "        if \"device_temp\" in node.props:\n",
    "            print(f\"Device Temp: {node.props['device_temp']}\")\n",
    "        for supply_idx, named_sensor in schedule.items():\n",
    "            supply = f\"supply{supply_idx}\"\n",
    "            if supply in node.props:\n",
    "                print(f\"{named_sensor}: {node.props[supply]}\")\n",
    "        print()\n",
    "\n",
    "\n",
    "node_listener = SysMonNodeListener()\n",
    "session.chipscope_view.add_node_listener(node_listener)\n",
    "\n",
    "sysmon.stream_sensor_data(1000)\n",
    "print(\"Node listener added.\")"
   ]
  },
  {
   "cell_type": "markdown",
   "id": "882a0571",
   "metadata": {
    "papermill": {
     "duration": 0.005097,
     "end_time": "2023-10-20T19:21:07.827728",
     "exception": false,
     "start_time": "2023-10-20T19:21:07.822631",
     "status": "completed"
    },
    "tags": []
   },
   "source": [
    "## 7 - Run measurement for 5 seconds\n",
    "\n",
    "System Monitor will report results for 5 seconds then exit."
   ]
  },
  {
   "cell_type": "code",
   "execution_count": 8,
   "id": "5c1fc6dd",
   "metadata": {
    "execution": {
     "iopub.execute_input": "2023-10-20T19:21:07.840436Z",
     "iopub.status.busy": "2023-10-20T19:21:07.839431Z",
     "iopub.status.idle": "2023-10-20T19:21:12.864188Z",
     "shell.execute_reply": "2023-10-20T19:21:12.863009Z"
    },
    "papermill": {
     "duration": 5.033602,
     "end_time": "2023-10-20T19:21:12.866655",
     "exception": false,
     "start_time": "2023-10-20T19:21:07.833053",
     "status": "completed"
    },
    "tags": []
   },
   "outputs": [
    {
     "name": "stdout",
     "output_type": "stream",
     "text": [
      "Device Temp: 32.9921875\n",
      "VCCAUX: 1.49755859375\n",
      "VCCAUX_PMC: 1.4962158203125\n",
      "VCC_PMC: 0.79754638671875\n",
      "VCC_PSFP: 0.79669189453125\n",
      "VCC_PSLP: 0.796722412109375\n",
      "VCC_SOC: 0.7994384765625\n",
      "VP_VN: 0.12823486328125\n",
      "\n"
     ]
    },
    {
     "name": "stdout",
     "output_type": "stream",
     "text": [
      "Device Temp: 33.2265625\n",
      "VCCAUX: 1.499176025390625\n",
      "VCCAUX_PMC: 1.496368408203125\n",
      "VCC_PMC: 0.797515869140625\n",
      "VCC_PSFP: 0.79913330078125\n",
      "VCC_PSLP: 0.797515869140625\n",
      "VCC_SOC: 0.80517578125\n",
      "VP_VN: 0.1290283203125\n",
      "\n"
     ]
    },
    {
     "name": "stdout",
     "output_type": "stream",
     "text": [
      "Device Temp: 32.8984375\n",
      "VCCAUX: 1.497467041015625\n",
      "VCCAUX_PMC: 1.496734619140625\n",
      "VCC_PMC: 0.79827880859375\n",
      "VCC_PSFP: 0.7979736328125\n",
      "VCC_PSLP: 0.796234130859375\n",
      "VCC_SOC: 0.808502197265625\n",
      "VP_VN: 0.1286163330078125\n",
      "\n"
     ]
    },
    {
     "name": "stdout",
     "output_type": "stream",
     "text": [
      "Device Temp: 33.2734375\n",
      "VCCAUX: 1.49853515625\n",
      "VCCAUX_PMC: 1.49530029296875\n",
      "VCC_PMC: 0.797332763671875\n",
      "VCC_PSFP: 0.797149658203125\n",
      "VCC_PSLP: 0.7965087890625\n",
      "VCC_SOC: 0.807830810546875\n",
      "VP_VN: 0.128173828125\n",
      "\n"
     ]
    },
    {
     "name": "stdout",
     "output_type": "stream",
     "text": [
      "Device Temp: 33.203125\n",
      "VCCAUX: 1.4979248046875\n",
      "VCCAUX_PMC: 1.495574951171875\n",
      "VCC_PMC: 0.797149658203125\n",
      "VCC_PSFP: 0.796875\n",
      "VCC_PSLP: 0.796142578125\n",
      "VCC_SOC: 0.80206298828125\n",
      "VP_VN: 0.12860107421875\n",
      "\n"
     ]
    },
    {
     "name": "stdout",
     "output_type": "stream",
     "text": [
      "Measurement done.\n"
     ]
    }
   ],
   "source": [
    "# Take measurements for 5 seconds then exit.\n",
    "\n",
    "time_end = time.time() + 5\n",
    "\n",
    "while time.time() < time_end:\n",
    "    session.chipscope_view.run_events()\n",
    "    time.sleep(0.1)\n",
    "\n",
    "print(\"Measurement done.\")"
   ]
  }
 ],
 "metadata": {
  "jupytext": {
   "cell_metadata_filter": "-all",
   "main_language": "python",
   "notebook_metadata_filter": "-all"
  },
  "language_info": {
   "codemirror_mode": {
    "name": "ipython",
    "version": 3
   },
   "file_extension": ".py",
   "mimetype": "text/x-python",
   "name": "python",
   "nbconvert_exporter": "python",
   "pygments_lexer": "ipython3",
   "version": "3.8.3"
  },
  "papermill": {
   "default_parameters": {},
   "duration": 17.33292,
   "end_time": "2023-10-20T19:21:13.193481",
   "environment_variables": {},
   "exception": null,
   "input_path": "chipscopy/examples/sysmon/sysmon_example.ipynb",
   "output_path": "chipscopy/examples/sysmon/sysmon_example.ipynb",
   "parameters": {},
   "start_time": "2023-10-20T19:20:55.860561",
   "version": "2.4.0"
  }
 },
 "nbformat": 4,
 "nbformat_minor": 5
}