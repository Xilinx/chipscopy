{
 "cells": [
  {
   "cell_type": "markdown",
   "metadata": {},
   "source": [
    "<link rel=\"preconnect\" href=\"https://fonts.gstatic.com\">\n",
    "<link href=\"https://fonts.googleapis.com/css2?family=Fira+Code&display=swap\" rel=\"stylesheet\">\n",
    "\n",
    "### License\n",
    "\n",
    "<p style=\"font-family: 'Fira Code', monospace; font-size: 1.2rem\">\n",
    "Copyright 2021 Xilinx, Inc.<br><br>\n",
    "Licensed under the Apache License, Version 2.0 (the \"License\");<br>\n",
    "you may not use this file except in compliance with the License.<br><br>\n",
    "You may obtain a copy of the License at <a href=\"http://www.apache.org/licenses/LICENSE-2.0\"?>http://www.apache.org/licenses/LICENSE-2.0</a><br><br>\n",
    "Unless required by applicable law or agreed to in writing, software<br>\n",
    "distributed under the License is distributed on an \"AS IS\" BASIS,<br>\n",
    "WITHOUT WARRANTIES OR CONDITIONS OF ANY KIND, either express or implied.<br>\n",
    "See the License for the specific language governing permissions and<br>\n",
    "limitations under the License.<br>\n",
    "</p>\n"
   ]
  },
  {
   "cell_type": "markdown",
   "metadata": {},
   "source": [
    "# ChipScoPy System Monitor Example\n",
    "\n",
    "\n",
    "<img src=\"../img/api_overview.png\" width=\"500\" align=\"left\">"
   ]
  },
  {
   "cell_type": "markdown",
   "metadata": {},
   "source": [
    "## Description\n",
    "\n",
    "\n",
    "This demo shows how to take and display measurements with the System Monitor.\n",
    "\n",
    "\n",
    "## Requirements\n",
    "- Local or remote Xilinx Versal board, such as a VCK190\n",
    "- Xilinx hw_server 2021.2 installed and running\n",
    "- Xilinx cs_server 2021.2 installed and running\n",
    "- Python 3.8 or greater installed\n",
    "- ChipScoPy 2021.2 installed\n",
    "- Jupyter notebook support installed - Please do so, using the command `pip install chipscopy[jupyter]`"
   ]
  },
  {
   "cell_type": "markdown",
   "metadata": {},
   "source": [
    "## 1 - Initialization: Imports and File Paths\n",
    "\n",
    "After this step,\n",
    "- Required functions and classes are imported\n",
    "- URL paths are set correctly\n",
    "- File paths to example files are set correctly"
   ]
  },
  {
   "cell_type": "code",
   "execution_count": 1,
   "metadata": {},
   "outputs": [],
   "source": [
    "import os\n",
    "import time\n",
    "from chipscopy import get_design_files\n",
    "from chipscopy import __version__, dm\n",
    "from chipscopy import create_session, report_versions"
   ]
  },
  {
   "cell_type": "code",
   "execution_count": 2,
   "metadata": {},
   "outputs": [
    {
     "name": "stdout",
     "output_type": "stream",
     "text": [
      "HW_URL: TCP:localhost:3121\n",
      "CS_URL: TCP:localhost:3042\n",
      "PROGRAMMING_FILE: C:\\wrk\\chipscopy\\chipscopy\\examples\\designs\\vck190\\production\\chipscopy_ced\\chipscopy_wrapper.pdi\n",
      "PROBES_FILE:C:\\wrk\\chipscopy\\chipscopy\\examples\\designs\\vck190\\production\\chipscopy_ced\\chipscopy_wrapper.ltx\n"
     ]
    }
   ],
   "source": [
    "# Make sure to start the hw_server and cs_server prior to running.\n",
    "# Specify locations of the running hw_server and cs_server below.\n",
    "# The default is localhost - but can be other locations on the network.\n",
    "CS_URL = os.getenv(\"CS_SERVER_URL\", \"TCP:localhost:3042\")\n",
    "HW_URL = os.getenv(\"HW_SERVER_URL\", \"TCP:localhost:3121\")\n",
    "\n",
    "# The get_design_files() function tries to find the PDI and LTX files. In non-standard\n",
    "# configurations, you can put the path for PROGRAMMING_FILE and PROBES_FILE below.\n",
    "design_files = get_design_files(\"vck190/production/chipscopy_ced\")\n",
    "\n",
    "PROGRAMMING_FILE = design_files.programming_file\n",
    "PROBES_FILE = design_files.probes_file\n",
    "\n",
    "print(f\"HW_URL: {HW_URL}\")\n",
    "print(f\"CS_URL: {CS_URL}\")\n",
    "print(f\"PROGRAMMING_FILE: {PROGRAMMING_FILE}\")\n",
    "print(f\"PROBES_FILE:{PROBES_FILE}\")"
   ]
  },
  {
   "cell_type": "markdown",
   "metadata": {},
   "source": [
    "## 2 - Create a session and connect to the hw_server and cs_server\n",
    "\n",
    "The session is a container that keeps track of devices and debug cores.\n",
    "After this step,\n",
    "- Session is initialized and connected to server(s)\n",
    "- Versions are detected and reported to stdout"
   ]
  },
  {
   "cell_type": "code",
   "execution_count": 3,
   "metadata": {},
   "outputs": [
    {
     "data": {
      "text/html": [
       "<pre style=\"white-space:pre;overflow-x:auto;line-height:normal;font-family:Menlo,'DejaVu Sans Mono',consolas,'Courier New',monospace\">\n",
       "\n",
       "</pre>\n"
      ],
      "text/plain": [
       "<rich.jupyter.JupyterRenderable at 0x27c744f6ac0>"
      ]
     },
     "metadata": {},
     "output_type": "display_data"
    },
    {
     "data": {
      "text/html": [
       "<pre style=\"white-space:pre;overflow-x:auto;line-height:normal;font-family:Menlo,'DejaVu Sans Mono',consolas,'Courier New',monospace\"><span style=\"font-style: italic\">                      ChipScoPy Version Information                      </span>\n",
       "┌────────────────────────────┬──────────────────────────────────────────┐\n",
       "│<span style=\"font-weight: bold\">                     Entity </span>│<span style=\"font-weight: bold\"> Version                                  </span>│\n",
       "├────────────────────────────┼──────────────────────────────────────────┤\n",
       "│                  ChipScoPy │ ┌───────────┬──────────────────────┐     │\n",
       "│                            │ │<span style=\"font-weight: bold\"> Attribute </span>│<span style=\"font-weight: bold\"> Value                </span>│     │\n",
       "│                            │ ├───────────┼──────────────────────┤     │\n",
       "│                            │ │     Build │ 2021.2.1637785577    │     │\n",
       "│                            │ │ Timestamp │ Nov 24 2021-12:26:17 │     │\n",
       "│                            │ └───────────┴──────────────────────┘     │\n",
       "│                            │                                          │\n",
       "│ hw_server @ localhost:3121 │ ┌───────────┬──────────────────────────┐ │\n",
       "│                            │ │<span style=\"font-weight: bold\"> Attribute </span>│<span style=\"font-weight: bold\"> Value                    </span>│ │\n",
       "│                            │ ├───────────┼──────────────────────────┤ │\n",
       "│                            │ │    Status │ Connected                │ │\n",
       "│                            │ │     Build │ 1634633218               │ │\n",
       "│                            │ │   Version │ 2021.2                   │ │\n",
       "│                            │ │ Timestamp │ Tue Oct 19 02:46:58 2021 │ │\n",
       "│                            │ └───────────┴──────────────────────────┘ │\n",
       "│                            │                                          │\n",
       "│ cs_server @ localhost:3042 │ ┌───────────────┬──────────────────────┐ │\n",
       "│                            │ │<span style=\"font-weight: bold\">     Attribute </span>│<span style=\"font-weight: bold\"> Value                </span>│ │\n",
       "│                            │ ├───────────────┼──────────────────────┤ │\n",
       "│                            │ │        Status │ Connected            │ │\n",
       "│                            │ │         Build │ 1632779060           │ │\n",
       "│                            │ │       Version │ 2021.2.0             │ │\n",
       "│                            │ │     Timestamp │ Sep 27 2021-14:44:20 │ │\n",
       "│                            │ │       Package │ 2021.2.1632779060    │ │\n",
       "│                            │ │ Artifact type │ pyinstaller          │ │\n",
       "│                            │ └───────────────┴──────────────────────┘ │\n",
       "└────────────────────────────┴──────────────────────────────────────────┘\n",
       "</pre>\n"
      ],
      "text/plain": [
       "<rich.jupyter.JupyterRenderable at 0x27c744f6f10>"
      ]
     },
     "metadata": {},
     "output_type": "display_data"
    },
    {
     "data": {
      "text/html": [
       "<pre style=\"white-space:pre;overflow-x:auto;line-height:normal;font-family:Menlo,'DejaVu Sans Mono',consolas,'Courier New',monospace\">\n",
       "\n",
       "</pre>\n"
      ],
      "text/plain": [
       "<rich.jupyter.JupyterRenderable at 0x27c744f6f70>"
      ]
     },
     "metadata": {},
     "output_type": "display_data"
    }
   ],
   "source": [
    "session = create_session(cs_server_url=CS_URL, hw_server_url=HW_URL)\n",
    "report_versions(session)"
   ]
  },
  {
   "cell_type": "markdown",
   "metadata": {},
   "source": [
    "## 3 - Program the device with the example design\n",
    "\n",
    "After this step,\n",
    "- Device is programmed with the example programming file"
   ]
  },
  {
   "cell_type": "code",
   "execution_count": 4,
   "metadata": {},
   "outputs": [
    {
     "data": {
      "text/html": [
       "<pre style=\"white-space:pre;overflow-x:auto;line-height:normal;font-family:Menlo,'DejaVu Sans Mono',consolas,'Courier New',monospace\">\n",
       "<span style=\"font-weight: bold\">--&gt; INFO: </span>Programming PDI file C:\\wrk\\chipscopy\\chipscopy\\examples\\designs\\vck190\\production\\\n",
       "chipscopy_ced\\chipscopy_wrapper.pdi\n",
       "    \n",
       "</pre>\n"
      ],
      "text/plain": [
       "<rich.jupyter.JupyterRenderable at 0x27c746b1700>"
      ]
     },
     "metadata": {},
     "output_type": "display_data"
    },
    {
     "data": {
      "application/vnd.jupyter.widget-view+json": {
       "model_id": "d9b7caf265e249f9bd8af812e713ad51",
       "version_major": 2,
       "version_minor": 0
      },
      "text/plain": [
       "Output()"
      ]
     },
     "metadata": {},
     "output_type": "display_data"
    }
   ],
   "source": [
    "# Typical case - one device on the board - get it.\n",
    "device = session.devices.filter_by(family=\"versal\").get()\n",
    "device.program(PROGRAMMING_FILE)"
   ]
  },
  {
   "cell_type": "markdown",
   "metadata": {},
   "source": [
    "## 4 - Discover Debug Cores\n",
    "\n",
    "Debug core discovery initializes the chipscope server debug cores. This brings debug cores in the chipscope server online.\n",
    "\n",
    "After this step,\n",
    "\n",
    "- The cs_server is initialized and ready for use"
   ]
  },
  {
   "cell_type": "code",
   "execution_count": 5,
   "metadata": {},
   "outputs": [
    {
     "name": "stdout",
     "output_type": "stream",
     "text": [
      "System monitor setup and ready for use.\n"
     ]
    }
   ],
   "source": [
    "device.discover_and_setup_cores(sysmon_scan=True)\n",
    "print(f\"System monitor setup and ready for use.\")"
   ]
  },
  {
   "cell_type": "markdown",
   "metadata": {},
   "source": [
    "## 5 - Initialize System Monitor\n",
    "\n",
    "Get reference to the system monitor and initialize all sensors. "
   ]
  },
  {
   "cell_type": "code",
   "execution_count": 6,
   "metadata": {},
   "outputs": [
    {
     "name": "stdout",
     "output_type": "stream",
     "text": [
      "Initializing sensors\n",
      "Refresh measurement schedule\n",
      "Sensors:\n",
      "  VCCAUX\n",
      "  VCC_SOC\n",
      "  VCCAUX_PMC\n",
      "  VCC_PMC\n",
      "  VCC_PSFP\n",
      "  VCC_PSLP\n",
      "  VP_VN\n",
      "Done.\n"
     ]
    }
   ],
   "source": [
    "sysmon = device.sysmon_root.get()\n",
    "\n",
    "print(\"Initializing sensors\")\n",
    "active_nodes = sysmon.initialize_sensors()\n",
    "\n",
    "print(\"Refresh measurement schedule\")\n",
    "schedule = sysmon.refresh_measurement_schedule()\n",
    "\n",
    "print(\"Sensors:\")\n",
    "for sensor in schedule.values():\n",
    "    print(f\"  {sensor}\")\n",
    "    \n",
    "print(\"Done.\")"
   ]
  },
  {
   "cell_type": "markdown",
   "metadata": {},
   "source": [
    "## 6 - Register a listener for System Monitor Events\n",
    "\n",
    "The SysMonNodeListener node_changed() will be called every 1000ms with updated system monitor values."
   ]
  },
  {
   "cell_type": "code",
   "execution_count": 7,
   "metadata": {},
   "outputs": [
    {
     "name": "stdout",
     "output_type": "stream",
     "text": [
      "Node listener added.\n"
     ]
    }
   ],
   "source": [
    "class SysMonNodeListener(dm.NodeListener):\n",
    "    def node_changed(self, node, updated_keys):\n",
    "        if \"device_temp\" in node.props:\n",
    "            print(f\"Device Temp: {node.props['device_temp']}\")\n",
    "        for supply_idx, named_sensor in schedule.items():\n",
    "            supply = f\"supply{supply_idx}\"\n",
    "            if supply in node.props:\n",
    "                print(f\"{named_sensor}: {node.props[supply]}\")\n",
    "        print()\n",
    "\n",
    "\n",
    "node_listener = SysMonNodeListener()\n",
    "session.chipscope_view.add_node_listener(node_listener)\n",
    "\n",
    "sysmon.stream_sensor_data(1000)\n",
    "print(\"Node listener added.\")"
   ]
  },
  {
   "cell_type": "markdown",
   "metadata": {},
   "source": [
    "## 7 - Run measurement for 5 seconds\n",
    "\n",
    "System Monitor will report results for 5 seconds then exit."
   ]
  },
  {
   "cell_type": "code",
   "execution_count": 8,
   "metadata": {},
   "outputs": [
    {
     "name": "stdout",
     "output_type": "stream",
     "text": [
      "Device Temp: 33.3671875\n",
      "VCCAUX: 1.500518798828125\n",
      "VCC_SOC: 0.8150634765625\n",
      "VCCAUX_PMC: 1.49456787109375\n",
      "VCC_PMC: 0.79852294921875\n",
      "VCC_PSFP: 0.794647216796875\n",
      "VCC_PSLP: 0.799591064453125\n",
      "VP_VN: 0.119476318359375\n",
      "\n",
      "Device Temp: 33.8515625\n",
      "VCCAUX: 1.50054931640625\n",
      "VCC_SOC: 0.80902099609375\n",
      "VCCAUX_PMC: 1.495025634765625\n",
      "VCC_PMC: 0.798736572265625\n",
      "VCC_PSFP: 0.797393798828125\n",
      "VCC_PSLP: 0.798004150390625\n",
      "VP_VN: 0.11920166015625\n",
      "\n",
      "Device Temp: 33.84375\n",
      "VCCAUX: 1.500457763671875\n",
      "VCC_SOC: 0.798858642578125\n",
      "VCCAUX_PMC: 1.495330810546875\n",
      "VCC_PMC: 0.79815673828125\n",
      "VCC_PSFP: 0.7969970703125\n",
      "VCC_PSLP: 0.79632568359375\n",
      "VP_VN: 0.11907958984375\n",
      "\n",
      "Device Temp: 33.8125\n",
      "VCCAUX: 1.50042724609375\n",
      "VCC_SOC: 0.80499267578125\n",
      "VCCAUX_PMC: 1.494903564453125\n",
      "VCC_PMC: 0.797698974609375\n",
      "VCC_PSFP: 0.795654296875\n",
      "VCC_PSLP: 0.797576904296875\n",
      "VP_VN: 0.119049072265625\n",
      "\n",
      "Device Temp: 33.7890625\n",
      "VCCAUX: 1.5018310546875\n",
      "VCC_SOC: 0.8046875\n",
      "VCCAUX_PMC: 1.496307373046875\n",
      "VCC_PMC: 0.799102783203125\n",
      "VCC_PSFP: 0.796875\n",
      "VCC_PSLP: 0.798492431640625\n",
      "VP_VN: 0.118865966796875\n",
      "\n",
      "Measurement done.\n"
     ]
    }
   ],
   "source": [
    "# Take measurements for 5 seconds then exit.\n",
    "\n",
    "time_end = time.time() + 5\n",
    "\n",
    "while time.time() < time_end:\n",
    "    session.chipscope_view.run_events()\n",
    "    time.sleep(0.1)\n",
    "\n",
    "print(\"Measurement done.\")"
   ]
  }
 ],
 "metadata": {
  "jupytext": {
   "cell_metadata_filter": "-all",
   "main_language": "python",
   "notebook_metadata_filter": "-all"
  },
  "kernelspec": {
   "display_name": "Python 3 (ipykernel)",
   "language": "python",
   "name": "python3"
  },
  "language_info": {
   "codemirror_mode": {
    "name": "ipython",
    "version": 3
   },
   "file_extension": ".py",
   "mimetype": "text/x-python",
   "name": "python",
   "nbconvert_exporter": "python",
   "pygments_lexer": "ipython3",
   "version": "3.8.6"
  }
 },
 "nbformat": 4,
 "nbformat_minor": 4
}