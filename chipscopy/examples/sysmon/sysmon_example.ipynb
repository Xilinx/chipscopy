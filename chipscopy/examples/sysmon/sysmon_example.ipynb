{
 "cells": [
  {
   "cell_type": "markdown",
   "metadata": {},
   "source": [
    "<link rel=\"preconnect\" href=\"https://fonts.gstatic.com\">\n",
    "<link href=\"https://fonts.googleapis.com/css2?family=Fira+Code&display=swap\" rel=\"stylesheet\">\n",
    "\n",
    "### License\n",
    "\n",
    "<p style=\"font-family: 'Fira Code', monospace; font-size: 1.2rem\">\n",
    "Copyright 2021-2022 Xilinx, Inc.<br><br>\n",
    "Licensed under the Apache License, Version 2.0 (the \"License\");<br>\n",
    "you may not use this file except in compliance with the License.<br><br>\n",
    "You may obtain a copy of the License at <a href=\"http://www.apache.org/licenses/LICENSE-2.0\"?>http://www.apache.org/licenses/LICENSE-2.0</a><br><br>\n",
    "Unless required by applicable law or agreed to in writing, software<br>\n",
    "distributed under the License is distributed on an \"AS IS\" BASIS,<br>\n",
    "WITHOUT WARRANTIES OR CONDITIONS OF ANY KIND, either express or implied.<br>\n",
    "See the License for the specific language governing permissions and<br>\n",
    "limitations under the License.<br>\n",
    "</p>\n"
   ]
  },
  {
   "cell_type": "markdown",
   "metadata": {},
   "source": [
    "# ChipScoPy System Monitor Example\n",
    "\n",
    "\n",
    "<img src=\"../img/api_overview.png\" width=\"500\" align=\"left\">"
   ]
  },
  {
   "cell_type": "markdown",
   "metadata": {},
   "source": [
    "## Description\n",
    "\n",
    "\n",
    "This demo shows how to take and display measurements with the System Monitor.\n",
    "\n",
    "\n",
    "## Requirements\n",
    "- Local or remote Xilinx Versal board, such as a VCK190\n",
    "- Xilinx hw_server 2022.2 installed and running\n",
    "- Xilinx cs_server 2022.2 installed and running\n",
    "- Python 3.8 or greater installed\n",
    "- ChipScoPy 2022.2 installed\n",
    "- Jupyter notebook support installed - Please do so, using the command `pip install chipscopy[jupyter]`"
   ]
  },
  {
   "cell_type": "markdown",
   "metadata": {},
   "source": [
    "## 1 - Initialization: Imports and File Paths\n",
    "\n",
    "After this step,\n",
    "- Required functions and classes are imported\n",
    "- URL paths are set correctly\n",
    "- File paths to example files are set correctly"
   ]
  },
  {
   "cell_type": "code",
   "execution_count": 1,
   "metadata": {},
   "outputs": [],
   "source": [
    "import os\n",
    "import time\n",
    "from chipscopy import get_design_files\n",
    "from chipscopy import __version__, dm\n",
    "from chipscopy import create_session, report_versions"
   ]
  },
  {
   "cell_type": "code",
   "execution_count": 2,
   "metadata": {},
   "outputs": [
    {
     "name": "stdout",
     "output_type": "stream",
     "text": [
      "HW_URL: TCP:localhost:3121\n",
      "CS_URL: TCP:localhost:3042\n",
      "PROGRAMMING_FILE: C:\\wrk\\chipscopy\\chipscopy\\examples\\designs\\vck190\\production\\chipscopy_ced\\chipscopy_wrapper.pdi\n",
      "PROBES_FILE:C:\\wrk\\chipscopy\\chipscopy\\examples\\designs\\vck190\\production\\chipscopy_ced\\chipscopy_wrapper.ltx\n"
     ]
    }
   ],
   "source": [
    "# Make sure to start the hw_server and cs_server prior to running.\n",
    "# Specify locations of the running hw_server and cs_server below.\n",
    "# The default is localhost - but can be other locations on the network.\n",
    "CS_URL = os.getenv(\"CS_SERVER_URL\", \"TCP:localhost:3042\")\n",
    "HW_URL = os.getenv(\"HW_SERVER_URL\", \"TCP:localhost:3121\")\n",
    "\n",
    "# The get_design_files() function tries to find the PDI and LTX files. In non-standard\n",
    "# configurations, you can put the path for PROGRAMMING_FILE and PROBES_FILE below.\n",
    "design_files = get_design_files(\"vck190/production/chipscopy_ced\")\n",
    "\n",
    "PROGRAMMING_FILE = design_files.programming_file\n",
    "PROBES_FILE = design_files.probes_file\n",
    "\n",
    "print(f\"HW_URL: {HW_URL}\")\n",
    "print(f\"CS_URL: {CS_URL}\")\n",
    "print(f\"PROGRAMMING_FILE: {PROGRAMMING_FILE}\")\n",
    "print(f\"PROBES_FILE:{PROBES_FILE}\")"
   ]
  },
  {
   "cell_type": "markdown",
   "metadata": {},
   "source": [
    "## 2 - Create a session and connect to the hw_server and cs_server\n",
    "\n",
    "The session is a container that keeps track of devices and debug cores.\n",
    "After this step,\n",
    "- Session is initialized and connected to server(s)\n",
    "- Versions are detected and reported to stdout"
   ]
  },
  {
   "cell_type": "code",
   "execution_count": 3,
   "metadata": {},
   "outputs": [
    {
     "data": {
      "text/plain": "<rich.jupyter.JupyterRenderable at 0x27790aeb460>",
      "text/html": "<pre style=\"white-space:pre;overflow-x:auto;line-height:normal;font-family:Menlo,'DejaVu Sans Mono',consolas,'Courier New',monospace\">\n\n</pre>\n"
     },
     "metadata": {},
     "output_type": "display_data"
    },
    {
     "data": {
      "text/plain": "<rich.jupyter.JupyterRenderable at 0x27790a62440>",
      "text/html": "<pre style=\"white-space:pre;overflow-x:auto;line-height:normal;font-family:Menlo,'DejaVu Sans Mono',consolas,'Courier New',monospace\"><span style=\"font-style: italic\">                      ChipScoPy Version Information                      </span>\n┌────────────────────────────┬──────────────────────────────────────────┐\n│<span style=\"font-weight: bold\">                     Entity </span>│<span style=\"font-weight: bold\"> Version                                  </span>│\n├────────────────────────────┼──────────────────────────────────────────┤\n│                  ChipScoPy │ ┌───────────┬──────────────────────┐     │\n│                            │ │<span style=\"font-weight: bold\"> Attribute </span>│<span style=\"font-weight: bold\"> Value                </span>│     │\n│                            │ ├───────────┼──────────────────────┤     │\n│                            │ │     Build │ 2022.2.1668723891    │     │\n│                            │ │ Timestamp │ Nov 17 2022-14:24:51 │     │\n│                            │ └───────────┴──────────────────────┘     │\n│                            │                                          │\n│ hw_server @ localhost:3121 │ ┌───────────┬──────────────────────────┐ │\n│                            │ │<span style=\"font-weight: bold\"> Attribute </span>│<span style=\"font-weight: bold\"> Value                    </span>│ │\n│                            │ ├───────────┼──────────────────────────┤ │\n│                            │ │    Status │ Connected                │ │\n│                            │ │     Build │ 1665745151               │ │\n│                            │ │   Version │ 2022.2                   │ │\n│                            │ │ Timestamp │ Fri Oct 14 04:59:11 2022 │ │\n│                            │ └───────────┴──────────────────────────┘ │\n│                            │                                          │\n│ cs_server @ localhost:3042 │ ┌───────────────┬──────────────────────┐ │\n│                            │ │<span style=\"font-weight: bold\">     Attribute </span>│<span style=\"font-weight: bold\"> Value                </span>│ │\n│                            │ ├───────────────┼──────────────────────┤ │\n│                            │ │        Status │ Connected            │ │\n│                            │ │         Build │ 1664925937           │ │\n│                            │ │       Version │ 2022.2.0             │ │\n│                            │ │     Timestamp │ Oct 04 2022-16:25:37 │ │\n│                            │ │       Package │ 2022.2.1664925937    │ │\n│                            │ │ Artifact type │ pyinstaller          │ │\n│                            │ └───────────────┴──────────────────────┘ │\n└────────────────────────────┴──────────────────────────────────────────┘\n</pre>\n"
     },
     "metadata": {},
     "output_type": "display_data"
    },
    {
     "data": {
      "text/plain": "<rich.jupyter.JupyterRenderable at 0x27790aaecb0>",
      "text/html": "<pre style=\"white-space:pre;overflow-x:auto;line-height:normal;font-family:Menlo,'DejaVu Sans Mono',consolas,'Courier New',monospace\">\n\n</pre>\n"
     },
     "metadata": {},
     "output_type": "display_data"
    }
   ],
   "source": [
    "session = create_session(cs_server_url=CS_URL, hw_server_url=HW_URL)\n",
    "report_versions(session)"
   ]
  },
  {
   "cell_type": "markdown",
   "metadata": {},
   "source": [
    "## 3 - Program the device with the example design\n",
    "\n",
    "After this step,\n",
    "- Device is programmed with the example programming file"
   ]
  },
  {
   "cell_type": "code",
   "execution_count": 4,
   "metadata": {},
   "outputs": [
    {
     "data": {
      "text/plain": "<rich.jupyter.JupyterRenderable at 0x27790c25300>",
      "text/html": "<pre style=\"white-space:pre;overflow-x:auto;line-height:normal;font-family:Menlo,'DejaVu Sans Mono',consolas,'Courier New',monospace\">\n<span style=\"font-weight: bold\">--&gt; INFO: </span>Programming device with: C:\\wrk\\chipscopy\\chipscopy\\examples\\designs\\vck190\\product\nion\\chipscopy_ced\\chipscopy_wrapper.pdi\n    \n</pre>\n"
     },
     "metadata": {},
     "output_type": "display_data"
    },
    {
     "data": {
      "text/plain": "Output()",
      "application/vnd.jupyter.widget-view+json": {
       "version_major": 2,
       "version_minor": 0,
       "model_id": "c0210a3f26684a76937ce6b489123002"
      }
     },
     "metadata": {},
     "output_type": "display_data"
    }
   ],
   "source": [
    "# Typical case - one device on the board - get it.\n",
    "device = session.devices.filter_by(family=\"versal\").get()\n",
    "device.program(PROGRAMMING_FILE)"
   ]
  },
  {
   "cell_type": "markdown",
   "metadata": {},
   "source": [
    "## 4 - Discover Debug Cores\n",
    "\n",
    "Debug core discovery initializes the chipscope server debug cores. This brings debug cores in the chipscope server online.\n",
    "\n",
    "After this step,\n",
    "\n",
    "- The cs_server is initialized and ready for use"
   ]
  },
  {
   "cell_type": "code",
   "execution_count": 5,
   "metadata": {},
   "outputs": [
    {
     "name": "stdout",
     "output_type": "stream",
     "text": [
      "System monitor setup and ready for use.\n"
     ]
    }
   ],
   "source": [
    "device.discover_and_setup_cores(sysmon_scan=True)\n",
    "print(f\"System monitor setup and ready for use.\")"
   ]
  },
  {
   "cell_type": "markdown",
   "metadata": {},
   "source": [
    "## 5 - Initialize System Monitor\n",
    "\n",
    "Get reference to the system monitor and initialize all sensors."
   ]
  },
  {
   "cell_type": "code",
   "execution_count": 6,
   "metadata": {},
   "outputs": [
    {
     "name": "stdout",
     "output_type": "stream",
     "text": [
      "Initializing sensors\n",
      "Refresh measurement schedule\n",
      "Sensors:\n",
      "  VCCAUX\n",
      "  VCCAUX_PMC\n",
      "  VCC_PMC\n",
      "  VCC_PSFP\n",
      "  VCC_PSLP\n",
      "  VCC_SOC\n",
      "  VP_VN\n",
      "Done.\n"
     ]
    }
   ],
   "source": [
    "sysmon = device.sysmon_root.get()\n",
    "\n",
    "print(\"Initializing sensors\")\n",
    "active_nodes = sysmon.initialize_sensors()\n",
    "\n",
    "print(\"Refresh measurement schedule\")\n",
    "schedule = sysmon.refresh_measurement_schedule()\n",
    "\n",
    "print(\"Sensors:\")\n",
    "for sensor in schedule.values():\n",
    "    print(f\"  {sensor}\")\n",
    "\n",
    "print(\"Done.\")"
   ]
  },
  {
   "cell_type": "markdown",
   "metadata": {},
   "source": [
    "## 6 - Register a listener for System Monitor Events\n",
    "\n",
    "The SysMonNodeListener node_changed() will be called every 1000ms with updated system monitor values."
   ]
  },
  {
   "cell_type": "code",
   "execution_count": 7,
   "metadata": {},
   "outputs": [
    {
     "name": "stdout",
     "output_type": "stream",
     "text": [
      "Node listener added.\n"
     ]
    }
   ],
   "source": [
    "class SysMonNodeListener(dm.NodeListener):\n",
    "    def node_changed(self, node, updated_keys):\n",
    "        if \"device_temp\" in node.props:\n",
    "            print(f\"Device Temp: {node.props['device_temp']}\")\n",
    "        for supply_idx, named_sensor in schedule.items():\n",
    "            supply = f\"supply{supply_idx}\"\n",
    "            if supply in node.props:\n",
    "                print(f\"{named_sensor}: {node.props[supply]}\")\n",
    "        print()\n",
    "\n",
    "\n",
    "node_listener = SysMonNodeListener()\n",
    "session.chipscope_view.add_node_listener(node_listener)\n",
    "\n",
    "sysmon.stream_sensor_data(1000)\n",
    "print(\"Node listener added.\")"
   ]
  },
  {
   "cell_type": "markdown",
   "metadata": {},
   "source": [
    "## 7 - Run measurement for 5 seconds\n",
    "\n",
    "System Monitor will report results for 5 seconds then exit."
   ]
  },
  {
   "cell_type": "code",
   "execution_count": 8,
   "metadata": {},
   "outputs": [
    {
     "name": "stdout",
     "output_type": "stream",
     "text": [
      "Device Temp: 29.515625\n",
      "VCCAUX: 1.457977294921875\n",
      "VCCAUX_PMC: 1.49224853515625\n",
      "VCC_PMC: 0.776397705078125\n",
      "VCC_PSFP: 0.772003173828125\n",
      "VCC_PSLP: 0.776947021484375\n",
      "VCC_SOC: 0.771331787109375\n",
      "VP_VN: 0.129241943359375\n",
      "\n",
      "Device Temp: 29.5234375\n",
      "VCCAUX: 1.46331787109375\n",
      "VCCAUX_PMC: 1.4920654296875\n",
      "VCC_PMC: 0.776580810546875\n",
      "VCC_PSFP: 0.7750244140625\n",
      "VCC_PSLP: 0.777984619140625\n",
      "VCC_SOC: 0.767822265625\n",
      "VP_VN: 0.12939453125\n",
      "\n",
      "Device Temp: 30.2109375\n",
      "VCCAUX: 1.461334228515625\n",
      "VCCAUX_PMC: 1.490692138671875\n",
      "VCC_PMC: 0.77655029296875\n",
      "VCC_PSFP: 0.77349853515625\n",
      "VCC_PSLP: 0.777252197265625\n",
      "VCC_SOC: 0.772613525390625\n",
      "VP_VN: 0.12945556640625\n",
      "\n",
      "Device Temp: 29.6875\n",
      "VCCAUX: 1.461761474609375\n",
      "VCCAUX_PMC: 1.4918212890625\n",
      "VCC_PMC: 0.777069091796875\n",
      "VCC_PSFP: 0.77276611328125\n",
      "VCC_PSLP: 0.77679443359375\n",
      "VCC_SOC: 0.76922607421875\n",
      "VP_VN: 0.129547119140625\n",
      "\n",
      "Device Temp: 29.609375\n",
      "VCCAUX: 1.461456298828125\n",
      "VCCAUX_PMC: 1.4920654296875\n",
      "VCC_PMC: 0.777313232421875\n",
      "VCC_PSFP: 0.7735595703125\n",
      "VCC_PSLP: 0.7767333984375\n",
      "VCC_SOC: 0.769439697265625\n",
      "VP_VN: 0.12939453125\n",
      "\n",
      "Device Temp: 29.609375\n",
      "VCCAUX: 1.463592529296875\n",
      "VCCAUX_PMC: 1.491729736328125\n",
      "VCC_PMC: 0.77630615234375\n",
      "VCC_PSFP: 0.774322509765625\n",
      "VCC_PSLP: 0.77703857421875\n",
      "VCC_SOC: 0.76995849609375\n",
      "VP_VN: 0.12921142578125\n",
      "\n",
      "Measurement done.\n"
     ]
    }
   ],
   "source": [
    "# Take measurements for 5 seconds then exit.\n",
    "\n",
    "time_end = time.time() + 5\n",
    "\n",
    "while time.time() < time_end:\n",
    "    session.chipscope_view.run_events()\n",
    "    time.sleep(0.1)\n",
    "\n",
    "print(\"Measurement done.\")"
   ]
  }
 ],
 "metadata": {
  "jupytext": {
   "cell_metadata_filter": "-all",
   "main_language": "python",
   "notebook_metadata_filter": "-all"
  },
  "kernelspec": {
   "display_name": "Python 3 (ipykernel)",
   "language": "python",
   "name": "python3"
  },
  "language_info": {
   "codemirror_mode": {
    "name": "ipython",
    "version": 3
   },
   "file_extension": ".py",
   "mimetype": "text/x-python",
   "name": "python",
   "nbconvert_exporter": "python",
   "pygments_lexer": "ipython3",
   "version": "3.8.10"
  }
 },
 "nbformat": 4,
 "nbformat_minor": 4
}
