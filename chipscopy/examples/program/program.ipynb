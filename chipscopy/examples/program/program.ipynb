{
 "cells": [
  {
   "cell_type": "markdown",
   "id": "wound-helping",
   "metadata": {
    "papermill": {
     "duration": 0.004075,
     "end_time": "2023-06-07T20:58:14.891914",
     "exception": false,
     "start_time": "2023-06-07T20:58:14.887839",
     "status": "completed"
    },
    "tags": []
   },
   "source": [
    "<link rel=\"preconnect\" href=\"https://fonts.gstatic.com\">\n",
    "<link href=\"https://fonts.googleapis.com/css2?family=Fira+Code&display=swap\" rel=\"stylesheet\">\n",
    "\n",
    "### License\n",
    "\n",
    "<p style=\"font-family: 'Fira Code', monospace; font-size: 1.2rem\">\n",
    "Copyright (c) 2021-2022 Xilinx, Inc.<br>\n",
    "Copyright (c) 2022-2023 Advanced Micro Devices, Inc.<br><br>\n",
    "Licensed under the Apache License, Version 2.0 (the \"License\");<br>\n",
    "you may not use this file except in compliance with the License.<br><br>\n",
    "You may obtain a copy of the License at <a href=\"http://www.apache.org/licenses/LICENSE-2.0\"?>http://www.apache.org/licenses/LICENSE-2.0</a><br><br>\n",
    "Unless required by applicable law or agreed to in writing, software<br>\n",
    "distributed under the License is distributed on an \"AS IS\" BASIS,<br>\n",
    "WITHOUT WARRANTIES OR CONDITIONS OF ANY KIND, either express or implied.<br>\n",
    "See the License for the specific language governing permissions and<br>\n",
    "limitations under the License.<br>\n",
    "</p>\n"
   ]
  },
  {
   "cell_type": "markdown",
   "id": "olive-trademark",
   "metadata": {
    "papermill": {
     "duration": 0.001812,
     "end_time": "2023-06-07T20:58:14.896044",
     "exception": false,
     "start_time": "2023-06-07T20:58:14.894232",
     "status": "completed"
    },
    "tags": []
   },
   "source": [
    "# ChipScoPy Device Programming Example\n",
    "\n",
    "\n",
    "<img src=\"../img/api_overview.png\" width=\"500\" align=\"left\">"
   ]
  },
  {
   "cell_type": "markdown",
   "id": "christian-yield",
   "metadata": {
    "papermill": {
     "duration": 0.002367,
     "end_time": "2023-06-07T20:58:14.900254",
     "exception": false,
     "start_time": "2023-06-07T20:58:14.897887",
     "status": "completed"
    },
    "tags": []
   },
   "source": [
    "## Description\n",
    "This example demonstrates how to program a device using the ChipScoPy Python API.\n",
    "\n",
    "\n",
    "## Requirements\n",
    "- Local or remote Xilinx Versal board, such as a VCK190\n",
    "- Xilinx hw_server 2022.2 installed and running\n",
    "- Python 3.8 or greater installed\n",
    "- ChipScoPy 2022.2 installed\n",
    "- Jupyter notebook support installed - Please do so, using the command `pip install chipscopy[jupyter]`"
   ]
  },
  {
   "cell_type": "markdown",
   "id": "prerequisite-cisco",
   "metadata": {
    "papermill": {
     "duration": 0.001724,
     "end_time": "2023-06-07T20:58:14.903982",
     "exception": false,
     "start_time": "2023-06-07T20:58:14.902258",
     "status": "completed"
    },
    "tags": []
   },
   "source": [
    "## 1 - Initialization: Imports and File Paths\n",
    "\n",
    "After this step,\n",
    "- Required functions and classes are imported\n",
    "- Paths to server(s) and files are set correctly"
   ]
  },
  {
   "cell_type": "code",
   "execution_count": 1,
   "id": "polyphonic-subscriber",
   "metadata": {
    "execution": {
     "iopub.execute_input": "2023-06-07T20:58:14.915191Z",
     "iopub.status.busy": "2023-06-07T20:58:14.914845Z",
     "iopub.status.idle": "2023-06-07T20:58:15.252349Z",
     "shell.execute_reply": "2023-06-07T20:58:15.252667Z"
    },
    "papermill": {
     "duration": 0.347017,
     "end_time": "2023-06-07T20:58:15.252842",
     "exception": false,
     "start_time": "2023-06-07T20:58:14.905825",
     "status": "completed"
    },
    "tags": []
   },
   "outputs": [],
   "source": [
    "import os\n",
    "from chipscopy import get_design_files\n",
    "from chipscopy import create_session, report_versions"
   ]
  },
  {
   "cell_type": "code",
   "execution_count": 2,
   "id": "chicken-soldier",
   "metadata": {
    "execution": {
     "iopub.execute_input": "2023-06-07T20:58:15.267338Z",
     "iopub.status.busy": "2023-06-07T20:58:15.266771Z",
     "iopub.status.idle": "2023-06-07T20:58:15.268997Z",
     "shell.execute_reply": "2023-06-07T20:58:15.267676Z"
    },
    "lines_to_next_cell": 2,
    "papermill": {
     "duration": 0.013819,
     "end_time": "2023-06-07T20:58:15.269104",
     "exception": false,
     "start_time": "2023-06-07T20:58:15.255285",
     "status": "completed"
    },
    "tags": []
   },
   "outputs": [
    {
     "name": "stdout",
     "output_type": "stream",
     "text": [
      "HW_URL: TCP:localhost:3121\n",
      "PROGRAMMING_FILE: /scratch/chipscopy/chipscopy/examples/designs/vck190/production/chipscopy_ced/chipscopy_wrapper.pdi\n"
     ]
    }
   ],
   "source": [
    "# Make sure to start the hw_server prior to running.\n",
    "# Specify location of the running hw_server below.\n",
    "# The default is localhost - but can be other locations on the network.\n",
    "HW_URL = os.getenv(\"HW_SERVER_URL\", \"TCP:localhost:3121\")\n",
    "\n",
    "# The get_design_files() function tries to find the programming and probes\n",
    "# files for an included example design.\n",
    "PROGRAMMING_FILE = get_design_files(\"vck190/production/chipscopy_ced\").programming_file\n",
    "\n",
    "print(f\"HW_URL: {HW_URL}\")\n",
    "print(f\"PROGRAMMING_FILE: {PROGRAMMING_FILE}\")"
   ]
  },
  {
   "cell_type": "markdown",
   "id": "demonstrated-midwest",
   "metadata": {
    "papermill": {
     "duration": 0.001894,
     "end_time": "2023-06-07T20:58:15.273658",
     "exception": false,
     "start_time": "2023-06-07T20:58:15.271764",
     "status": "completed"
    },
    "tags": []
   },
   "source": [
    "## 2 - Create a session and connect to the hw_server\n",
    "\n",
    "The session is a container that keeps track of devices and debug cores.\n",
    "After this step,\n",
    "- Session is initialized and connected to server(s)\n",
    "- Versions are detected and reported to stdout\n",
    "\n",
    "*NOTE*: No cs_server is required for this example."
   ]
  },
  {
   "cell_type": "code",
   "execution_count": 3,
   "id": "dramatic-tobago",
   "metadata": {
    "execution": {
     "iopub.execute_input": "2023-06-07T20:58:15.280417Z",
     "iopub.status.busy": "2023-06-07T20:58:15.279732Z",
     "iopub.status.idle": "2023-06-07T20:58:16.020754Z",
     "shell.execute_reply": "2023-06-07T20:58:16.021029Z"
    },
    "papermill": {
     "duration": 0.745651,
     "end_time": "2023-06-07T20:58:16.021197",
     "exception": false,
     "start_time": "2023-06-07T20:58:15.275546",
     "status": "completed"
    },
    "tags": []
   },
   "outputs": [
    {
     "data": {
      "text/html": [
       "<pre style=\"white-space:pre;overflow-x:auto;line-height:normal;font-family:Menlo,'DejaVu Sans Mono',consolas,'Courier New',monospace\">\n",
       "\n",
       "</pre>\n"
      ],
      "text/plain": [
       "<rich.jupyter.JupyterRenderable at 0x7fc73dcf3e80>"
      ]
     },
     "metadata": {},
     "output_type": "display_data"
    },
    {
     "data": {
      "text/html": [
       "<pre style=\"white-space:pre;overflow-x:auto;line-height:normal;font-family:Menlo,'DejaVu Sans Mono',consolas,'Courier New',monospace\"><span style=\"font-style: italic\">                      ChipScoPy Version Information                      </span>\n",
       "┌────────────────────────────┬──────────────────────────────────────────┐\n",
       "│<span style=\"font-weight: bold\">                     Entity </span>│<span style=\"font-weight: bold\"> Version                                  </span>│\n",
       "├────────────────────────────┼──────────────────────────────────────────┤\n",
       "│                  ChipScoPy │ ┌───────────┬──────────────────────┐     │\n",
       "│                            │ │<span style=\"font-weight: bold\"> Attribute </span>│<span style=\"font-weight: bold\"> Value                </span>│     │\n",
       "│                            │ ├───────────┼──────────────────────┤     │\n",
       "│                            │ │     Build │ 2023.1.1685656083    │     │\n",
       "│                            │ │ Timestamp │ Jun 01 2023-15:48:03 │     │\n",
       "│                            │ └───────────┴──────────────────────┘     │\n",
       "│                            │                                          │\n",
       "│ hw_server @ localhost:3121 │ ┌───────────┬──────────────────────────┐ │\n",
       "│                            │ │<span style=\"font-weight: bold\"> Attribute </span>│<span style=\"font-weight: bold\"> Value                    </span>│ │\n",
       "│                            │ ├───────────┼──────────────────────────┤ │\n",
       "│                            │ │    Status │ Connected                │ │\n",
       "│                            │ │     Build │ 1683493450               │ │\n",
       "│                            │ │   Version │ 2023.1                   │ │\n",
       "│                            │ │ Timestamp │ Sun May  7 15:04:10 2023 │ │\n",
       "│                            │ └───────────┴──────────────────────────┘ │\n",
       "└────────────────────────────┴──────────────────────────────────────────┘\n",
       "</pre>\n"
      ],
      "text/plain": [
       "<rich.jupyter.JupyterRenderable at 0x7fc7785f2280>"
      ]
     },
     "metadata": {},
     "output_type": "display_data"
    },
    {
     "data": {
      "text/html": [
       "<pre style=\"white-space:pre;overflow-x:auto;line-height:normal;font-family:Menlo,'DejaVu Sans Mono',consolas,'Courier New',monospace\">\n",
       "\n",
       "</pre>\n"
      ],
      "text/plain": [
       "<rich.jupyter.JupyterRenderable at 0x7fc73dd31580>"
      ]
     },
     "metadata": {},
     "output_type": "display_data"
    }
   ],
   "source": [
    "session = create_session(hw_server_url=HW_URL)\n",
    "report_versions(session)"
   ]
  },
  {
   "cell_type": "markdown",
   "id": "rational-strengthening",
   "metadata": {
    "papermill": {
     "duration": 0.002343,
     "end_time": "2023-06-07T20:58:16.026886",
     "exception": false,
     "start_time": "2023-06-07T20:58:16.024543",
     "status": "completed"
    },
    "tags": []
   },
   "source": [
    "## 3 - Program the device with the example design\n",
    "\n",
    "After this step,\n",
    "- Device is programmed with the example programming file"
   ]
  },
  {
   "cell_type": "code",
   "execution_count": 4,
   "id": "reserved-establishment",
   "metadata": {
    "execution": {
     "iopub.execute_input": "2023-06-07T20:58:16.033124Z",
     "iopub.status.busy": "2023-06-07T20:58:16.032790Z",
     "iopub.status.idle": "2023-06-07T20:58:21.536067Z",
     "shell.execute_reply": "2023-06-07T20:58:21.535696Z"
    },
    "lines_to_next_cell": 2,
    "papermill": {
     "duration": 5.507103,
     "end_time": "2023-06-07T20:58:21.536194",
     "exception": false,
     "start_time": "2023-06-07T20:58:16.029091",
     "status": "completed"
    },
    "tags": []
   },
   "outputs": [
    {
     "data": {
      "text/html": [
       "<pre style=\"white-space:pre;overflow-x:auto;line-height:normal;font-family:Menlo,'DejaVu Sans Mono',consolas,'Courier New',monospace\">\n",
       "<span style=\"font-weight: bold\">--&gt; INFO: </span>Programming device with: /scratch/chipscopy/chipscopy/examples/designs/vck190/produ\n",
       "ction/chipscopy_ced/chipscopy_wrapper.pdi\n",
       "    \n",
       "</pre>\n"
      ],
      "text/plain": [
       "<rich.jupyter.JupyterRenderable at 0x7fc73dcefb20>"
      ]
     },
     "metadata": {},
     "output_type": "display_data"
    },
    {
     "data": {
      "application/vnd.jupyter.widget-view+json": {
       "model_id": "636c0600cc47483399cc45732ddd08b8",
       "version_major": 2,
       "version_minor": 0
      },
      "text/plain": [
       "Output()"
      ]
     },
     "metadata": {},
     "output_type": "display_data"
    }
   ],
   "source": [
    "# Typical case - one device on the board - get it.\n",
    "device = session.devices.filter_by(family=\"versal\").get()\n",
    "device.program(PROGRAMMING_FILE)"
   ]
  }
 ],
 "metadata": {
  "jupytext": {
   "cell_metadata_filter": "-all",
   "formats": "ipynb,py"
  },
  "kernelspec": {
   "display_name": "Python 3 (ipykernel)",
   "language": "python",
   "name": "python3"
  },
  "language_info": {
   "codemirror_mode": {
    "name": "ipython",
    "version": 3
   },
   "file_extension": ".py",
   "mimetype": "text/x-python",
   "name": "python",
   "nbconvert_exporter": "python",
   "pygments_lexer": "ipython3",
   "version": "3.9.16"
  },
  "papermill": {
   "default_parameters": {},
   "duration": 14.219449,
   "end_time": "2023-06-07T20:58:27.929548",
   "environment_variables": {},
   "exception": null,
   "input_path": "program.ipynb",
   "output_path": "output",
   "parameters": {},
   "start_time": "2023-06-07T20:58:13.710099",
   "version": "2.4.0"
  },
  "widgets": {
   "application/vnd.jupyter.widget-state+json": {
    "state": {
     "50e5200c78364098bfae832d9806d50b": {
      "model_module": "@jupyter-widgets/base",
      "model_module_version": "1.2.0",
      "model_name": "LayoutModel",
      "state": {
       "_model_module": "@jupyter-widgets/base",
       "_model_module_version": "1.2.0",
       "_model_name": "LayoutModel",
       "_view_count": null,
       "_view_module": "@jupyter-widgets/base",
       "_view_module_version": "1.2.0",
       "_view_name": "LayoutView",
       "align_content": null,
       "align_items": null,
       "align_self": null,
       "border": null,
       "bottom": null,
       "display": null,
       "flex": null,
       "flex_flow": null,
       "grid_area": null,
       "grid_auto_columns": null,
       "grid_auto_flow": null,
       "grid_auto_rows": null,
       "grid_column": null,
       "grid_gap": null,
       "grid_row": null,
       "grid_template_areas": null,
       "grid_template_columns": null,
       "grid_template_rows": null,
       "height": null,
       "justify_content": null,
       "justify_items": null,
       "left": null,
       "margin": null,
       "max_height": null,
       "max_width": null,
       "min_height": null,
       "min_width": null,
       "object_fit": null,
       "object_position": null,
       "order": null,
       "overflow": null,
       "overflow_x": null,
       "overflow_y": null,
       "padding": null,
       "right": null,
       "top": null,
       "visibility": null,
       "width": null
      }
     },
     "636c0600cc47483399cc45732ddd08b8": {
      "model_module": "@jupyter-widgets/output",
      "model_module_version": "1.0.0",
      "model_name": "OutputModel",
      "state": {
       "_dom_classes": [],
       "_model_module": "@jupyter-widgets/output",
       "_model_module_version": "1.0.0",
       "_model_name": "OutputModel",
       "_view_count": null,
       "_view_module": "@jupyter-widgets/output",
       "_view_module_version": "1.0.0",
       "_view_name": "OutputView",
       "layout": "IPY_MODEL_50e5200c78364098bfae832d9806d50b",
       "msg_id": "",
       "outputs": [
        {
         "data": {
          "text/html": "<pre style=\"white-space:pre;overflow-x:auto;line-height:normal;font-family:Menlo,'DejaVu Sans Mono',consolas,'Courier New',monospace\">Device program progress <span style=\"color: #729c1f; text-decoration-color: #729c1f\">━━━━━━━━━━━━━━━━━━━━━━━━━━━━━━━━━━━━━━━━</span> <span style=\"color: #ff00ff; text-decoration-color: #ff00ff; font-weight: bold\">100%</span> <span style=\"color: #008000; text-decoration-color: #008000; font-weight: bold\">Done</span>\n</pre>\n",
          "text/plain": "<rich.jupyter.JupyterRenderable at 0x7fc73db987f0>"
         },
         "metadata": {},
         "output_type": "display_data"
        }
       ]
      }
     }
    },
    "version_major": 2,
    "version_minor": 0
   }
  }
 },
 "nbformat": 4,
 "nbformat_minor": 5
}
