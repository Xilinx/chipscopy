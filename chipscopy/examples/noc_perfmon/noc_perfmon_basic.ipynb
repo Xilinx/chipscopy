{
 "cells": [
  {
   "cell_type": "markdown",
   "id": "c971ea06",
   "metadata": {
    "papermill": {
     "duration": 0.004147,
     "end_time": "2023-06-07T20:52:16.237091",
     "exception": false,
     "start_time": "2023-06-07T20:52:16.232944",
     "status": "completed"
    },
    "tags": []
   },
   "source": [
    "<link rel=\"preconnect\" href=\"https://fonts.gstatic.com\">\n",
    "<link href=\"https://fonts.googleapis.com/css2?family=Fira+Code&display=swap\" rel=\"stylesheet\">\n",
    "\n",
    "### License\n",
    "\n",
    "<p style=\"font-family: 'Fira Code', monospace; font-size: 1.2rem\">\n",
    "Copyright (c) 2021-2022 Xilinx, Inc.<br>\n",
    "Copyright (c) 2022-2023 Advanced Micro Devices, Inc.<br><br>\n",
    "Licensed under the Apache License, Version 2.0 (the \"License\");<br>\n",
    "you may not use this file except in compliance with the License.<br><br>\n",
    "You may obtain a copy of the License at <a href=\"http://www.apache.org/licenses/LICENSE-2.0\"?>http://www.apache.org/licenses/LICENSE-2.0</a><br><br>\n",
    "Unless required by applicable law or agreed to in writing, software<br>\n",
    "distributed under the License is distributed on an \"AS IS\" BASIS,<br>\n",
    "WITHOUT WARRANTIES OR CONDITIONS OF ANY KIND, either express or implied.<br>\n",
    "See the License for the specific language governing permissions and<br>\n",
    "limitations under the License.<br>\n",
    "</p>\n"
   ]
  },
  {
   "cell_type": "markdown",
   "id": "03aa916e",
   "metadata": {
    "papermill": {
     "duration": 0.003104,
     "end_time": "2023-06-07T20:52:16.243768",
     "exception": false,
     "start_time": "2023-06-07T20:52:16.240664",
     "status": "completed"
    },
    "tags": []
   },
   "source": [
    "# ChipScoPy NoC Perfmon Example\n",
    "\n",
    "\n",
    "<img src=\"../img/api_overview.png\" width=\"500\" align=\"left\">"
   ]
  },
  {
   "cell_type": "markdown",
   "id": "d10c81a2",
   "metadata": {
    "papermill": {
     "duration": 0.002979,
     "end_time": "2023-06-07T20:52:16.249779",
     "exception": false,
     "start_time": "2023-06-07T20:52:16.246800",
     "status": "completed"
    },
    "tags": []
   },
   "source": [
    "## Description\n",
    "This example demonstrates how to configure a Versal for taking NoC performance measurements.\n",
    "\n",
    "## Requirements\n",
    "- Local or remote Xilinx Versal board, such as a VCK190\n",
    "- Xilinx hw_server 2023.1 installed and running\n",
    "- Xilinx cs_server 2023.1 installed and running\n",
    "- Python 3.8 or greater installed\n",
    "- ChipScoPy 2023.1 installed\n",
    "- Jupyter notebook support installed - Please do so, using the command `pip install chipscopy[jupyter]`\n",
    "- Matplotlib support installed - Please do so, using the command `pip install chipscopy[core-addons]`"
   ]
  },
  {
   "cell_type": "markdown",
   "id": "87a9550f",
   "metadata": {
    "papermill": {
     "duration": 0.00298,
     "end_time": "2023-06-07T20:52:16.255761",
     "exception": false,
     "start_time": "2023-06-07T20:52:16.252781",
     "status": "completed"
    },
    "tags": []
   },
   "source": [
    "## 1 - Initialization: Imports and File Paths\n",
    "\n",
    "After this step,\n",
    "- Required functions and classes are imported\n",
    "- Paths to server(s) and files are set correctly"
   ]
  },
  {
   "cell_type": "code",
   "execution_count": 1,
   "id": "6dbec044",
   "metadata": {
    "execution": {
     "iopub.execute_input": "2023-06-07T20:52:16.269350Z",
     "iopub.status.busy": "2023-06-07T20:52:16.269001Z",
     "iopub.status.idle": "2023-06-07T20:52:16.901965Z",
     "shell.execute_reply": "2023-06-07T20:52:16.900942Z"
    },
    "papermill": {
     "duration": 0.643276,
     "end_time": "2023-06-07T20:52:16.902085",
     "exception": false,
     "start_time": "2023-06-07T20:52:16.258809",
     "status": "completed"
    },
    "tags": []
   },
   "outputs": [],
   "source": [
    "import os\n",
    "from time import sleep\n",
    "import matplotlib  # for nbconvert'd script\n",
    "from chipscopy.api.noc import (\n",
    "    TC_BEW,\n",
    "    TC_BER,\n",
    "    NoCPerfMonNodeListener,\n",
    ")\n",
    "from chipscopy.api.noc.plotting_utils import MeasurementPlot\n",
    "from chipscopy import create_session, report_versions\n",
    "from chipscopy import get_design_files"
   ]
  },
  {
   "cell_type": "code",
   "execution_count": 2,
   "id": "c4c70d6e",
   "metadata": {
    "execution": {
     "iopub.execute_input": "2023-06-07T20:52:16.913334Z",
     "iopub.status.busy": "2023-06-07T20:52:16.912974Z",
     "iopub.status.idle": "2023-06-07T20:52:16.918268Z",
     "shell.execute_reply": "2023-06-07T20:52:16.917911Z"
    },
    "papermill": {
     "duration": 0.012429,
     "end_time": "2023-06-07T20:52:16.918335",
     "exception": false,
     "start_time": "2023-06-07T20:52:16.905906",
     "status": "completed"
    },
    "tags": []
   },
   "outputs": [
    {
     "name": "stdout",
     "output_type": "stream",
     "text": [
      "HW_URL: TCP:localhost:3121\n",
      "CS_URL: TCP:localhost:3042\n",
      "PROGRAMMING_FILE: /scratch/chipscopy/chipscopy/examples/designs/vck190/production/chipscopy_ced/chipscopy_wrapper.pdi\n",
      "PROBES_FILE:/scratch/chipscopy/chipscopy/examples/designs/vck190/production/chipscopy_ced/chipscopy_wrapper.ltx\n"
     ]
    }
   ],
   "source": [
    "# Make sure to start the hw_server and cs_server prior to running.\n",
    "# Specify locations of the running hw_server and cs_server below.\n",
    "# The default is localhost - but can be other locations on the network.\n",
    "CS_URL = os.getenv(\"CS_SERVER_URL\", \"TCP:localhost:3042\")\n",
    "HW_URL = os.getenv(\"HW_SERVER_URL\", \"TCP:localhost:3121\")\n",
    "\n",
    "# The get_design_files() function tries to find the PDI and LTX files. In non-standard\n",
    "# configurations, you can put the path for PROGRAMMING_FILE and PROBES_FILE below.\n",
    "design_files = get_design_files(\"vck190/production/chipscopy_ced\")\n",
    "\n",
    "PROGRAMMING_FILE = design_files.programming_file\n",
    "PROBES_FILE = design_files.probes_file\n",
    "\n",
    "print(f\"HW_URL: {HW_URL}\")\n",
    "print(f\"CS_URL: {CS_URL}\")\n",
    "print(f\"PROGRAMMING_FILE: {PROGRAMMING_FILE}\")\n",
    "print(f\"PROBES_FILE:{PROBES_FILE}\")"
   ]
  },
  {
   "cell_type": "markdown",
   "id": "3cb1e1ac",
   "metadata": {
    "papermill": {
     "duration": 0.003091,
     "end_time": "2023-06-07T20:52:16.924858",
     "exception": false,
     "start_time": "2023-06-07T20:52:16.921767",
     "status": "completed"
    },
    "tags": []
   },
   "source": [
    "## 2 - Create a session and connect to the hw_server and cs_server\n",
    "\n",
    "The session is a container that keeps track of devices and debug cores.\n",
    "After this step,\n",
    "- Session is initialized and connected to server(s)\n",
    "- Versions are detected and reported to stdout"
   ]
  },
  {
   "cell_type": "code",
   "execution_count": 3,
   "id": "6782d6f4",
   "metadata": {
    "execution": {
     "iopub.execute_input": "2023-06-07T20:52:16.934421Z",
     "iopub.status.busy": "2023-06-07T20:52:16.934066Z",
     "iopub.status.idle": "2023-06-07T20:52:17.835736Z",
     "shell.execute_reply": "2023-06-07T20:52:17.835254Z"
    },
    "papermill": {
     "duration": 0.907933,
     "end_time": "2023-06-07T20:52:17.835832",
     "exception": false,
     "start_time": "2023-06-07T20:52:16.927899",
     "status": "completed"
    },
    "tags": []
   },
   "outputs": [
    {
     "data": {
      "text/html": [
       "<pre style=\"white-space:pre;overflow-x:auto;line-height:normal;font-family:Menlo,'DejaVu Sans Mono',consolas,'Courier New',monospace\">\n",
       "\n",
       "</pre>\n"
      ],
      "text/plain": [
       "<rich.jupyter.JupyterRenderable at 0x7f778c863fd0>"
      ]
     },
     "metadata": {},
     "output_type": "display_data"
    },
    {
     "data": {
      "text/html": [
       "<pre style=\"white-space:pre;overflow-x:auto;line-height:normal;font-family:Menlo,'DejaVu Sans Mono',consolas,'Courier New',monospace\"><span style=\"font-style: italic\">                      ChipScoPy Version Information                      </span>\n",
       "┌────────────────────────────┬──────────────────────────────────────────┐\n",
       "│<span style=\"font-weight: bold\">                     Entity </span>│<span style=\"font-weight: bold\"> Version                                  </span>│\n",
       "├────────────────────────────┼──────────────────────────────────────────┤\n",
       "│                  ChipScoPy │ ┌───────────┬──────────────────────┐     │\n",
       "│                            │ │<span style=\"font-weight: bold\"> Attribute </span>│<span style=\"font-weight: bold\"> Value                </span>│     │\n",
       "│                            │ ├───────────┼──────────────────────┤     │\n",
       "│                            │ │     Build │ 2023.1.1685656083    │     │\n",
       "│                            │ │ Timestamp │ Jun 01 2023-15:48:03 │     │\n",
       "│                            │ └───────────┴──────────────────────┘     │\n",
       "│                            │                                          │\n",
       "│ hw_server @ localhost:3121 │ ┌───────────┬──────────────────────────┐ │\n",
       "│                            │ │<span style=\"font-weight: bold\"> Attribute </span>│<span style=\"font-weight: bold\"> Value                    </span>│ │\n",
       "│                            │ ├───────────┼──────────────────────────┤ │\n",
       "│                            │ │    Status │ Connected                │ │\n",
       "│                            │ │     Build │ 1683493450               │ │\n",
       "│                            │ │   Version │ 2023.1                   │ │\n",
       "│                            │ │ Timestamp │ Sun May  7 15:04:10 2023 │ │\n",
       "│                            │ └───────────┴──────────────────────────┘ │\n",
       "│                            │                                          │\n",
       "│ cs_server @ localhost:3042 │ ┌───────────────┬──────────────────────┐ │\n",
       "│                            │ │<span style=\"font-weight: bold\">     Attribute </span>│<span style=\"font-weight: bold\"> Value                </span>│ │\n",
       "│                            │ ├───────────────┼──────────────────────┤ │\n",
       "│                            │ │        Status │ Connected            │ │\n",
       "│                            │ │         Build │ 1681142364           │ │\n",
       "│                            │ │       Version │ 2023.1.0             │ │\n",
       "│                            │ │     Timestamp │ Apr 10 2023-09:59:24 │ │\n",
       "│                            │ │       Package │ 2023.1.1681142364    │ │\n",
       "│                            │ │ Artifact type │ pyinstaller          │ │\n",
       "│                            │ └───────────────┴──────────────────────┘ │\n",
       "└────────────────────────────┴──────────────────────────────────────────┘\n",
       "</pre>\n"
      ],
      "text/plain": [
       "<rich.jupyter.JupyterRenderable at 0x7f778c8c3b50>"
      ]
     },
     "metadata": {},
     "output_type": "display_data"
    },
    {
     "data": {
      "text/html": [
       "<pre style=\"white-space:pre;overflow-x:auto;line-height:normal;font-family:Menlo,'DejaVu Sans Mono',consolas,'Courier New',monospace\">\n",
       "\n",
       "</pre>\n"
      ],
      "text/plain": [
       "<rich.jupyter.JupyterRenderable at 0x7f778c8c3520>"
      ]
     },
     "metadata": {},
     "output_type": "display_data"
    }
   ],
   "source": [
    "session = create_session(cs_server_url=CS_URL, hw_server_url=HW_URL)\n",
    "report_versions(session)"
   ]
  },
  {
   "cell_type": "markdown",
   "id": "eb1db18c",
   "metadata": {
    "papermill": {
     "duration": 0.003391,
     "end_time": "2023-06-07T20:52:17.843649",
     "exception": false,
     "start_time": "2023-06-07T20:52:17.840258",
     "status": "completed"
    },
    "tags": []
   },
   "source": [
    "## 3 - Program the device with the example design\n",
    "\n",
    "After this step,\n",
    "- Device is programmed with the example programming file"
   ]
  },
  {
   "cell_type": "code",
   "execution_count": 4,
   "id": "29286648",
   "metadata": {
    "execution": {
     "iopub.execute_input": "2023-06-07T20:52:17.855582Z",
     "iopub.status.busy": "2023-06-07T20:52:17.855171Z",
     "iopub.status.idle": "2023-06-07T20:52:23.369426Z",
     "shell.execute_reply": "2023-06-07T20:52:23.369074Z"
    },
    "papermill": {
     "duration": 5.522125,
     "end_time": "2023-06-07T20:52:23.369530",
     "exception": false,
     "start_time": "2023-06-07T20:52:17.847405",
     "status": "completed"
    },
    "tags": []
   },
   "outputs": [
    {
     "data": {
      "text/html": [
       "<pre style=\"white-space:pre;overflow-x:auto;line-height:normal;font-family:Menlo,'DejaVu Sans Mono',consolas,'Courier New',monospace\">\n",
       "<span style=\"font-weight: bold\">--&gt; INFO: </span>Programming device with: /scratch/chipscopy/chipscopy/examples/designs/vck190/produ\n",
       "ction/chipscopy_ced/chipscopy_wrapper.pdi\n",
       "    \n",
       "</pre>\n"
      ],
      "text/plain": [
       "<rich.jupyter.JupyterRenderable at 0x7f778c889070>"
      ]
     },
     "metadata": {},
     "output_type": "display_data"
    },
    {
     "data": {
      "application/vnd.jupyter.widget-view+json": {
       "model_id": "764e9f32d27a439dadca5b6d8185c6d8",
       "version_major": 2,
       "version_minor": 0
      },
      "text/plain": [
       "Output()"
      ]
     },
     "metadata": {},
     "output_type": "display_data"
    }
   ],
   "source": [
    "versal_device = session.devices.filter_by(family=\"versal\").get()\n",
    "versal_device.program(PROGRAMMING_FILE)"
   ]
  },
  {
   "cell_type": "markdown",
   "id": "d8fee173",
   "metadata": {
    "papermill": {
     "duration": 0.003567,
     "end_time": "2023-06-07T20:52:23.377625",
     "exception": false,
     "start_time": "2023-06-07T20:52:23.374058",
     "status": "completed"
    },
    "tags": []
   },
   "source": [
    "## 4 - Discover Debug Cores\n",
    "\n",
    "Debug core discovery initializes the chipscope server debug cores. This brings debug cores in the chipscope server online.\n",
    "\n",
    "After this step,\n",
    "\n",
    "- The cs_server is initialized and ready for use"
   ]
  },
  {
   "cell_type": "code",
   "execution_count": 5,
   "id": "cf63e5b8",
   "metadata": {
    "execution": {
     "iopub.execute_input": "2023-06-07T20:52:23.841383Z",
     "iopub.status.busy": "2023-06-07T20:52:23.841026Z",
     "iopub.status.idle": "2023-06-07T20:52:23.934339Z",
     "shell.execute_reply": "2023-06-07T20:52:23.933968Z"
    },
    "papermill": {
     "duration": 0.553334,
     "end_time": "2023-06-07T20:52:23.934459",
     "exception": false,
     "start_time": "2023-06-07T20:52:23.381125",
     "status": "completed"
    },
    "tags": []
   },
   "outputs": [
    {
     "name": "stdout",
     "output_type": "stream",
     "text": [
      "Debug cores setup and ready for use.\n"
     ]
    }
   ],
   "source": [
    "versal_device.discover_and_setup_cores(noc_scan=True)\n",
    "print(f\"Debug cores setup and ready for use.\")"
   ]
  },
  {
   "cell_type": "markdown",
   "id": "c6c74766",
   "metadata": {
    "papermill": {
     "duration": 0.003553,
     "end_time": "2023-06-07T20:52:23.942524",
     "exception": false,
     "start_time": "2023-06-07T20:52:23.938971",
     "status": "completed"
    },
    "tags": []
   },
   "source": [
    "## 5 - Setup NoC core\n",
    "\n",
    "Ensure scan nodes are enabled in the design."
   ]
  },
  {
   "cell_type": "code",
   "execution_count": 6,
   "id": "cf5c0bb5",
   "metadata": {
    "execution": {
     "iopub.execute_input": "2023-06-07T20:52:23.957410Z",
     "iopub.status.busy": "2023-06-07T20:52:23.957011Z",
     "iopub.status.idle": "2023-06-07T20:52:26.161978Z",
     "shell.execute_reply": "2023-06-07T20:52:26.162322Z"
    },
    "papermill": {
     "duration": 2.215207,
     "end_time": "2023-06-07T20:52:26.162445",
     "exception": false,
     "start_time": "2023-06-07T20:52:23.947238",
     "status": "completed"
    },
    "tags": []
   },
   "outputs": [
    {
     "name": "stdout",
     "output_type": "stream",
     "text": [
      "\n",
      "Enumerating nodes: DDRMC_X0Y0, NOC_NMU512_X0Y0, ..."
     ]
    },
    {
     "name": "stdout",
     "output_type": "stream",
     "text": [
      "complete!\n"
     ]
    }
   ],
   "source": [
    "# We begin by enumerating the debug cores (hard and soft) present in the design.\n",
    "# Then we ask the design for the supported timebases. And, finally:\n",
    "# The NoC is scanned to determine the activated elements.\n",
    "\n",
    "noc = versal_device.noc_core.get()\n",
    "\n",
    "scan_nodes = [\"DDRMC_X0Y0\", \"NOC_NMU512_X0Y0\"]\n",
    "print(\"\\nEnumerating nodes: \", end=\"\")\n",
    "for node in scan_nodes:\n",
    "    print(f\"{node}, \", end=\"\")\n",
    "print(\"...\", end=\"\")\n",
    "\n",
    "# this will setup the nodes on the server side and return the nodes successfully enumerated\n",
    "enable_list = noc.enumerate_noc_elements(scan_nodes)\n",
    "print(\"complete!\")"
   ]
  },
  {
   "cell_type": "code",
   "execution_count": 7,
   "id": "9793068d",
   "metadata": {
    "execution": {
     "iopub.execute_input": "2023-06-07T20:52:26.172909Z",
     "iopub.status.busy": "2023-06-07T20:52:26.172575Z",
     "iopub.status.idle": "2023-06-07T20:52:26.225304Z",
     "shell.execute_reply": "2023-06-07T20:52:26.225604Z"
    },
    "papermill": {
     "duration": 0.058917,
     "end_time": "2023-06-07T20:52:26.225769",
     "exception": false,
     "start_time": "2023-06-07T20:52:26.166852",
     "status": "completed"
    },
    "tags": []
   },
   "outputs": [
    {
     "name": "stdout",
     "output_type": "stream",
     "text": [
      "Supported sampling periods:\n",
      "  NoC:\n",
      "    67ms    134ms    268ms    537ms    1074ms    2147ms\n",
      "  NPI:\n",
      "    56ms    112ms    224ms    447ms    895ms    1790ms    3579ms    7158ms\n",
      "  DDRMC_X0Y0:\n",
      "    84ms    168ms    336ms    671ms    1342ms    2684ms\n"
     ]
    }
   ],
   "source": [
    "supported_periods = noc.get_supported_sampling_periods(\n",
    "    100/3, 100/3, {'DDRMC_X0Y0': 800.0}\n",
    ")\n",
    "print(\"Supported sampling periods:\")\n",
    "for domain, periods in supported_periods.items():\n",
    "    print(f\"  {domain}:\")\n",
    "    for p in periods:\n",
    "        print(f\"    {p:.0f}ms\", end=\"\")\n",
    "    print()"
   ]
  },
  {
   "cell_type": "code",
   "execution_count": 8,
   "id": "5fe40614",
   "metadata": {
    "execution": {
     "iopub.execute_input": "2023-06-07T20:52:26.237666Z",
     "iopub.status.busy": "2023-06-07T20:52:26.237327Z",
     "iopub.status.idle": "2023-06-07T20:52:26.241348Z",
     "shell.execute_reply": "2023-06-07T20:52:26.241663Z"
    },
    "papermill": {
     "duration": 0.010453,
     "end_time": "2023-06-07T20:52:26.241747",
     "exception": false,
     "start_time": "2023-06-07T20:52:26.231294",
     "status": "completed"
    },
    "tags": []
   },
   "outputs": [
    {
     "name": "stdout",
     "output_type": "stream",
     "text": [
      "Sampling period selection:\n",
      "  NoC: 537ms\n",
      "  NPI: 895ms\n",
      "  DDRMC_X0Y0: 671ms\n"
     ]
    }
   ],
   "source": [
    "# Select Timebase and Nodes to Monitor\n",
    "#\n",
    "# For the two clock domains we must select a sampling period from the hardware supported values. The debug cable used will dictate how much bandwidth is available, so high frequency sampling may not actually produce data at the specified rate. Recommendation is ~500ms for jtag.\n",
    "#\n",
    "# Then the user must decide what to monitor--again the bandwidth is a definite consideration here. Plot performance may become the bottleneck (Optimizations will come later in the renderer or agg backend). The guidance here is to pick up to 4 nodes to monitor.\n",
    "\n",
    "desired_period = 500  # ms\n",
    "sampling_intervals = {}\n",
    "\n",
    "for domain in supported_periods.keys():\n",
    "    sampling_intervals[domain] = 0\n",
    "    for sp in supported_periods[domain]:\n",
    "        if sp > desired_period:\n",
    "            sampling_intervals[domain] = sp\n",
    "            break\n",
    "\n",
    "    if sampling_intervals[domain] == 0:\n",
    "        print(\n",
    "            f\"Warning, desired period {desired_period}ms is slower than \"\n",
    "            f\"longest supported period {supported_periods[domain][-1]}ms [{domain} domain] \"\n",
    "            f\"defaulting to this value.\"\n",
    "        )\n",
    "        sampling_intervals[domain] = supported_periods[-1]\n",
    "\n",
    "print(f\"Sampling period selection:\")\n",
    "for domain, freq in sampling_intervals.items():\n",
    "    print(f\"  {domain}: {freq:.0f}ms\")"
   ]
  },
  {
   "cell_type": "code",
   "execution_count": 9,
   "id": "c8fbcca6",
   "metadata": {
    "execution": {
     "iopub.execute_input": "2023-06-07T20:52:26.251275Z",
     "iopub.status.busy": "2023-06-07T20:52:26.250884Z",
     "iopub.status.idle": "2023-06-07T20:52:26.340050Z",
     "shell.execute_reply": "2023-06-07T20:52:26.340370Z"
    },
    "lines_to_next_cell": 2,
    "papermill": {
     "duration": 0.09486,
     "end_time": "2023-06-07T20:52:26.340540",
     "exception": false,
     "start_time": "2023-06-07T20:52:26.245680",
     "status": "completed"
    },
    "tags": []
   },
   "outputs": [
    {
     "name": "stdout",
     "output_type": "stream",
     "text": [
      "Setting up monitors for: \n",
      "DDRMC_X0Y0\n",
      "NOC_NMU512_X0Y0\n"
     ]
    }
   ],
   "source": [
    "# Configure Monitors\n",
    "#\n",
    "# As a precaution, it's a good idea to validate the desired nodes are enabled for the design.\n",
    "# Using the set of nodes and the desired sampling periods it's time to ask the service to start pushing metric data. Two additional arguments are required to this API.\n",
    "#\n",
    "# Traffic class\n",
    "#\n",
    "# This is a bit-or field of the requested traffic classes. Note, One monitor is dedicated to read traffic classes and the other to write--so all read TCs will apply to one channel and all write TCs to the other. `Best effort` is a good place to start.\n",
    "#\n",
    "# Number of Samples\n",
    "#\n",
    "# The number of samples allows for a burst of measurements to be taken and then the underlying service will tear down the monitors and stop pumping data back to the client. `-1` denotes that sampling shall continue indefinitely.\n",
    "\n",
    "# total number of samples to capture (-1 for continuous mode)\n",
    "num_samples = 25\n",
    "\n",
    "print(\"Setting up monitors for: \")\n",
    "for node in enable_list:\n",
    "    print(node)\n",
    "\n",
    "# When overflow occurs the precision of the monitors must be traded for range\n",
    "# See the server API for more information\n",
    "extended_monitor_config = {\"NOC_NMU512_X0Y0\": {\"tslide\": 0x3}}  # or None\n",
    "noc.configure_monitors(\n",
    "    enable_list, sampling_intervals, (TC_BEW | TC_BER), num_samples, None, extended_monitor_config\n",
    ")"
   ]
  },
  {
   "cell_type": "markdown",
   "id": "0b6d9305",
   "metadata": {
    "papermill": {
     "duration": 0.004361,
     "end_time": "2023-06-07T20:52:26.350130",
     "exception": false,
     "start_time": "2023-06-07T20:52:26.345769",
     "status": "completed"
    },
    "tags": []
   },
   "source": [
    "## 6 - Create plotter and listener\n",
    "\n",
    "Attach both to running view"
   ]
  },
  {
   "cell_type": "code",
   "execution_count": 10,
   "id": "c567f8bc",
   "metadata": {
    "execution": {
     "iopub.execute_input": "2023-06-07T20:52:26.360661Z",
     "iopub.status.busy": "2023-06-07T20:52:26.360307Z",
     "iopub.status.idle": "2023-06-07T20:52:26.374813Z",
     "shell.execute_reply": "2023-06-07T20:52:26.374460Z"
    },
    "lines_to_next_cell": 2,
    "papermill": {
     "duration": 0.020364,
     "end_time": "2023-06-07T20:52:26.374913",
     "exception": false,
     "start_time": "2023-06-07T20:52:26.354549",
     "status": "completed"
    },
    "tags": []
   },
   "outputs": [],
   "source": [
    "record_to_file = False  # True | False\n",
    "node_listener = NoCPerfMonNodeListener(\n",
    "    sampling_intervals,\n",
    "    num_samples,\n",
    "    enable_list,\n",
    "    record_to_file,\n",
    "    extended_monitor_config=extended_monitor_config,\n",
    ")\n",
    "node_listener.change_log_level('INFO')\n",
    "session.chipscope_view.add_node_listener(node_listener)"
   ]
  },
  {
   "cell_type": "markdown",
   "id": "48c62458",
   "metadata": {
    "papermill": {
     "duration": 0.003877,
     "end_time": "2023-06-07T20:52:26.382863",
     "exception": false,
     "start_time": "2023-06-07T20:52:26.378986",
     "status": "completed"
    },
    "tags": []
   },
   "source": [
    "## 8 - Main Event Loop\n",
    "\n",
    "This loop runs until you close the plotter.\n",
    "If you are using a finite amount of measurement samples, you can uncomment the if --> break statement to automatically return from execution of this cell upon completion of the burst."
   ]
  },
  {
   "cell_type": "code",
   "execution_count": 11,
   "id": "5d4a2c6a",
   "metadata": {
    "execution": {
     "iopub.execute_input": "2023-06-07T20:52:26.394997Z",
     "iopub.status.busy": "2023-06-07T20:52:26.394653Z",
     "iopub.status.idle": "2023-06-07T20:52:26.506190Z",
     "shell.execute_reply": "2023-06-07T20:52:26.505696Z"
    },
    "papermill": {
     "duration": 0.119333,
     "end_time": "2023-06-07T20:52:26.506317",
     "exception": false,
     "start_time": "2023-06-07T20:52:26.386984",
     "status": "completed"
    },
    "tags": []
   },
   "outputs": [
    {
     "name": "stdout",
     "output_type": "stream",
     "text": [
      "2023-06-07 14:52:26.399 | INFO     |          noc_perfmon |                chipscopy.api.noc.noc_perfmon_utils | 125  | noc_nmu512_x0y0: rb: 0, wb: 0, rbw: 0.0, wbw: 0.0, arl: 0.0, awl: 0.0\n"
     ]
    },
    {
     "name": "stdout",
     "output_type": "stream",
     "text": [
      "2023-06-07 14:52:26.400 | INFO     |          noc_perfmon |                chipscopy.api.noc.noc_perfmon_utils | 125  | ddrmc_x0y0: rb: 0.0, wb: 0.0, rbw: 0.0, wbw: 0.0, arl: 0.0, awl: 0.0\n"
     ]
    },
    {
     "name": "stdout",
     "output_type": "stream",
     "text": [
      "2023-06-07 14:52:26.401 | INFO     |          noc_perfmon |                chipscopy.api.noc.noc_perfmon_utils | 125  | ddrmc_x0y0: rb: 0.0, wb: 0.0, rbw: 0.0, wbw: 0.0, arl: 0.0, awl: 0.0\n"
     ]
    }
   ],
   "source": [
    "# Run Main Event Loop\n",
    "loop_count = 0\n",
    "while True:\n",
    "    session.chipscope_view.run_events()\n",
    "    sleep(0.1)\n",
    "    # Below will return on burst completion - uncomment if you want to try.\n",
    "    if all([x <= 0 for x in node_listener.num_samples.values()]):\n",
    "        break"
   ]
  }
 ],
 "metadata": {
  "jupytext": {
   "cell_metadata_filter": "-all",
   "formats": "ipynb,py"
  },
  "kernelspec": {
   "display_name": "Python 3 (ipykernel)",
   "language": "python",
   "name": "python3"
  },
  "language_info": {
   "codemirror_mode": {
    "name": "ipython",
    "version": 3
   },
   "file_extension": ".py",
   "mimetype": "text/x-python",
   "name": "python",
   "nbconvert_exporter": "python",
   "pygments_lexer": "ipython3",
   "version": "3.9.16"
  },
  "papermill": {
   "default_parameters": {},
   "duration": 17.208653,
   "end_time": "2023-06-07T20:52:32.478339",
   "environment_variables": {},
   "exception": null,
   "input_path": "noc_perfmon_basic.ipynb",
   "output_path": "output",
   "parameters": {},
   "start_time": "2023-06-07T20:52:15.269686",
   "version": "2.4.0"
  },
  "widgets": {
   "application/vnd.jupyter.widget-state+json": {
    "state": {
     "764e9f32d27a439dadca5b6d8185c6d8": {
      "model_module": "@jupyter-widgets/output",
      "model_module_version": "1.0.0",
      "model_name": "OutputModel",
      "state": {
       "_dom_classes": [],
       "_model_module": "@jupyter-widgets/output",
       "_model_module_version": "1.0.0",
       "_model_name": "OutputModel",
       "_view_count": null,
       "_view_module": "@jupyter-widgets/output",
       "_view_module_version": "1.0.0",
       "_view_name": "OutputView",
       "layout": "IPY_MODEL_f2c547841c1343d4875373f5e565534c",
       "msg_id": "",
       "outputs": [
        {
         "data": {
          "text/html": "<pre style=\"white-space:pre;overflow-x:auto;line-height:normal;font-family:Menlo,'DejaVu Sans Mono',consolas,'Courier New',monospace\">Device program progress <span style=\"color: #729c1f; text-decoration-color: #729c1f\">━━━━━━━━━━━━━━━━━━━━━━━━━━━━━━━━━━━━━━━━</span> <span style=\"color: #ff00ff; text-decoration-color: #ff00ff; font-weight: bold\">100%</span> <span style=\"color: #008000; text-decoration-color: #008000; font-weight: bold\">Done</span>\n</pre>\n",
          "text/plain": "<rich.jupyter.JupyterRenderable at 0x7f778c8adca0>"
         },
         "metadata": {},
         "output_type": "display_data"
        }
       ]
      }
     },
     "f2c547841c1343d4875373f5e565534c": {
      "model_module": "@jupyter-widgets/base",
      "model_module_version": "1.2.0",
      "model_name": "LayoutModel",
      "state": {
       "_model_module": "@jupyter-widgets/base",
       "_model_module_version": "1.2.0",
       "_model_name": "LayoutModel",
       "_view_count": null,
       "_view_module": "@jupyter-widgets/base",
       "_view_module_version": "1.2.0",
       "_view_name": "LayoutView",
       "align_content": null,
       "align_items": null,
       "align_self": null,
       "border": null,
       "bottom": null,
       "display": null,
       "flex": null,
       "flex_flow": null,
       "grid_area": null,
       "grid_auto_columns": null,
       "grid_auto_flow": null,
       "grid_auto_rows": null,
       "grid_column": null,
       "grid_gap": null,
       "grid_row": null,
       "grid_template_areas": null,
       "grid_template_columns": null,
       "grid_template_rows": null,
       "height": null,
       "justify_content": null,
       "justify_items": null,
       "left": null,
       "margin": null,
       "max_height": null,
       "max_width": null,
       "min_height": null,
       "min_width": null,
       "object_fit": null,
       "object_position": null,
       "order": null,
       "overflow": null,
       "overflow_x": null,
       "overflow_y": null,
       "padding": null,
       "right": null,
       "top": null,
       "visibility": null,
       "width": null
      }
     }
    },
    "version_major": 2,
    "version_minor": 0
   }
  }
 },
 "nbformat": 4,
 "nbformat_minor": 5
}
