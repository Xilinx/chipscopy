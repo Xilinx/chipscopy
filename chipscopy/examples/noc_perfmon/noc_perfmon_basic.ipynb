{
  "cells": [
    {
      "cell_type": "markdown",
      "id": "209bf30f",
      "metadata": {},
      "source": [
        "<link rel=\"preconnect\" href=\"https://fonts.gstatic.com\">\n",
        "<link href=\"https://fonts.googleapis.com/css2?family=Fira+Code&display=swap\" rel=\"stylesheet\">\n",
        "\n",
        "### License\n",
        "\n",
        "<p style=\"font-family: 'Fira Code', monospace; font-size: 1.2rem\">\n",
        "Copyright (C) 2021-2022, Xilinx, Inc.\n",
        "Copyright (C) 2022-2024, Advanced Micro Devices, Inc.\n",
        "<br><br>\n",
        "Licensed under the Apache License, Version 2.0 (the \"License\");<br>\n",
        "you may not use this file except in compliance with the License.<br><br>\n",
        "You may obtain a copy of the License at <a href=\"http://www.apache.org/licenses/LICENSE-2.0\"?>http://www.apache.org/licenses/LICENSE-2.0</a><br><br>\n",
        "Unless required by applicable law or agreed to in writing, software<br>\n",
        "distributed under the License is distributed on an \"AS IS\" BASIS,<br>\n",
        "WITHOUT WARRANTIES OR CONDITIONS OF ANY KIND, either express or implied.<br>\n",
        "See the License for the specific language governing permissions and<br>\n",
        "limitations under the License.<br>\n",
        "</p>\n"
      ]
    },
    {
      "cell_type": "markdown",
      "id": "e2d5cb5f",
      "metadata": {},
      "source": [
        "# ChipScoPy NoC Perfmon Example\n",
        "\n",
        "\n",
        "<img src=\"../img/api_overview.png\" width=\"500\" align=\"left\">"
      ]
    },
    {
      "cell_type": "markdown",
      "id": "1d93fbbc",
      "metadata": {},
      "source": [
        "## Description\n",
        "This example demonstrates how to configure a Versal for taking NoC performance measurements.\n",
        "\n",
        "## Requirements\n",
        "- Local or remote Xilinx Versal board, such as a VCK190\n",
        "- Xilinx hw_server 2025.1 installed and running\n",
        "- Xilinx cs_server 2025.1 installed and running\n",
        "- Python 3.9 or greater installed\n",
        "- ChipScoPy 2025.1 installed\n",
        "- Jupyter notebook support installed - Please do so, using the command `pip install chipscopy[jupyter]`\n",
        "- Matplotlib support installed - Please do so, using the command `pip install chipscopy[core-addons]`"
      ]
    },
    {
      "cell_type": "markdown",
      "id": "f22774ac",
      "metadata": {},
      "source": [
        "## 1 - Initialization: Imports and File Paths\n",
        "\n",
        "After this step,\n",
        "- Required functions and classes are imported\n",
        "- Paths to server(s) and files are set correctly"
      ]
    },
    {
      "cell_type": "code",
      "execution_count": 1,
      "id": "b5101b21",
      "metadata": {},
      "outputs": [],
      "source": [
        "import os\n",
        "from time import sleep\n",
        "import matplotlib  # for nbconvert'd script\n",
        "from chipscopy.api.noc import (\n",
        "    TC_BEW,\n",
        "    TC_BER,\n",
        "    NoCPerfMonNodeListener,\n",
        ")\n",
        "from chipscopy.api.noc.plotting_utils import MeasurementPlot\n",
        "from chipscopy import create_session, report_versions\n",
        "from chipscopy import get_design_files"
      ]
    },
    {
      "cell_type": "code",
      "execution_count": 2,
      "id": "2bdd2a7f",
      "metadata": {},
      "outputs": [
        {
          "name": "stdout",
          "output_type": "stream",
          "text": [
            "HW_URL: TCP:localhost:3121\n",
            "CS_URL: TCP:localhost:3042\n",
            "PROGRAMMING_FILE: /scratch/wrk/chipscopy/chipscopy/examples/designs/vck190/production/chipscopy_ced/chipscopy_wrapper.pdi\n",
            "PROBES_FILE:/scratch/wrk/chipscopy/chipscopy/examples/designs/vck190/production/chipscopy_ced/chipscopy_wrapper.ltx\n"
          ]
        }
      ],
      "source": [
        "# Specify locations of the running hw_server and cs_server below.\n",
        "CS_URL = os.getenv(\"CS_SERVER_URL\", \"TCP:localhost:3042\")\n",
        "HW_URL = os.getenv(\"HW_SERVER_URL\", \"TCP:localhost:3121\")\n",
        "\n",
        "# specify hw and if programming is desired\n",
        "HW_PLATFORM = os.getenv(\"HW_PLATFORM\", \"vck190\")\n",
        "PROG_DEVICE = os.getenv(\"PROG_DEVICE\", 'True').lower() in ('true', '1', 't')\n",
        "\n",
        "# The get_design_files() function tries to find the PDI and LTX files. In non-standard\n",
        "# configurations, you can put the path for PROGRAMMING_FILE and PROBES_FILE below.\n",
        "design_files = get_design_files(f\"{HW_PLATFORM}/production/chipscopy_ced\")\n",
        "\n",
        "PROGRAMMING_FILE = design_files.programming_file\n",
        "PROBES_FILE = design_files.probes_file\n",
        "\n",
        "print(f\"HW_URL: {HW_URL}\")\n",
        "print(f\"CS_URL: {CS_URL}\")\n",
        "print(f\"PROGRAMMING_FILE: {PROGRAMMING_FILE}\")\n",
        "print(f\"PROBES_FILE:{PROBES_FILE}\")"
      ]
    },
    {
      "cell_type": "markdown",
      "id": "b16b68f7",
      "metadata": {},
      "source": [
        "## 2 - Create a session and connect to the hw_server and cs_server\n",
        "\n",
        "The session is a container that keeps track of devices and debug cores.\n",
        "After this step,\n",
        "- Session is initialized and connected to server(s)\n",
        "- Versions are detected and reported to stdout"
      ]
    },
    {
      "cell_type": "code",
      "execution_count": 3,
      "id": "fc774821",
      "metadata": {},
      "outputs": [
        {
          "data": {
            "text/html": [
              "<pre style=\"white-space:pre;overflow-x:auto;line-height:normal;font-family:Menlo,'DejaVu Sans Mono',consolas,'Courier New',monospace\">\n",
              "\n",
              "</pre>\n"
            ],
            "text/plain": [
              "\n",
              "\n"
            ]
          },
          "metadata": {},
          "output_type": "display_data"
        },
        {
          "data": {
            "text/html": [
              "<pre style=\"white-space:pre;overflow-x:auto;line-height:normal;font-family:Menlo,'DejaVu Sans Mono',consolas,'Courier New',monospace\"><span style=\"font-style: italic\">                      ChipScoPy Version Information                      </span>\n",
              "┌────────────────────────────┬──────────────────────────────────────────┐\n",
              "│<span style=\"font-weight: bold\">                     Entity </span>│<span style=\"font-weight: bold\"> Version                                  </span>│\n",
              "├────────────────────────────┼──────────────────────────────────────────┤\n",
              "│                  ChipScoPy │ ┌───────────┬──────────────────────┐     │\n",
              "│                            │ │<span style=\"font-weight: bold\"> Attribute </span>│<span style=\"font-weight: bold\"> Value                </span>│     │\n",
              "│                            │ ├───────────┼──────────────────────┤     │\n",
              "│                            │ │     Build │ 2025.1.1747162617    │     │\n",
              "│                            │ │ Timestamp │ May 13 2025-11:56:57 │     │\n",
              "│                            │ └───────────┴──────────────────────┘     │\n",
              "│                            │                                          │\n",
              "│ hw_server @ localhost:3121 │ ┌───────────┬───────────┐                │\n",
              "│                            │ │<span style=\"font-weight: bold\"> Attribute </span>│<span style=\"font-weight: bold\"> Value     </span>│                │\n",
              "│                            │ ├───────────┼───────────┤                │\n",
              "│                            │ │    Status │ Connected │                │\n",
              "│                            │ │     Build │ 0         │                │\n",
              "│                            │ │   Version │ 2025.1    │                │\n",
              "│                            │ │ Timestamp │           │                │\n",
              "│                            │ └───────────┴───────────┘                │\n",
              "│                            │                                          │\n",
              "│ cs_server @ localhost:3042 │ ┌───────────────┬──────────────────────┐ │\n",
              "│                            │ │<span style=\"font-weight: bold\">     Attribute </span>│<span style=\"font-weight: bold\"> Value                </span>│ │\n",
              "│                            │ ├───────────────┼──────────────────────┤ │\n",
              "│                            │ │        Status │ Connected            │ │\n",
              "│                            │ │         Build │ 1747163727           │ │\n",
              "│                            │ │       Version │ 2025.1.0             │ │\n",
              "│                            │ │     Timestamp │ May 13 2025-12:15:27 │ │\n",
              "│                            │ │       Package │ 2025.1.1747163727    │ │\n",
              "│                            │ │ Artifact type │ pyinstaller          │ │\n",
              "│                            │ └───────────────┴──────────────────────┘ │\n",
              "└────────────────────────────┴──────────────────────────────────────────┘\n",
              "</pre>\n"
            ],
            "text/plain": [
              "\u001b[3m                      ChipScoPy Version Information                      \u001b[0m\n",
              "┌────────────────────────────┬──────────────────────────────────────────┐\n",
              "│\u001b[1m \u001b[0m\u001b[1m                    Entity\u001b[0m\u001b[1m \u001b[0m│\u001b[1m \u001b[0m\u001b[1mVersion                                 \u001b[0m\u001b[1m \u001b[0m│\n",
              "├────────────────────────────┼──────────────────────────────────────────┤\n",
              "│                  ChipScoPy │ ┌───────────┬──────────────────────┐     │\n",
              "│                            │ │\u001b[1m \u001b[0m\u001b[1mAttribute\u001b[0m\u001b[1m \u001b[0m│\u001b[1m \u001b[0m\u001b[1mValue               \u001b[0m\u001b[1m \u001b[0m│     │\n",
              "│                            │ ├───────────┼──────────────────────┤     │\n",
              "│                            │ │     Build │ 2025.1.1747162617    │     │\n",
              "│                            │ │ Timestamp │ May 13 2025-11:56:57 │     │\n",
              "│                            │ └───────────┴──────────────────────┘     │\n",
              "│                            │                                          │\n",
              "│ hw_server @ localhost:3121 │ ┌───────────┬───────────┐                │\n",
              "│                            │ │\u001b[1m \u001b[0m\u001b[1mAttribute\u001b[0m\u001b[1m \u001b[0m│\u001b[1m \u001b[0m\u001b[1mValue    \u001b[0m\u001b[1m \u001b[0m│                │\n",
              "│                            │ ├───────────┼───────────┤                │\n",
              "│                            │ │    Status │ Connected │                │\n",
              "│                            │ │     Build │ 0         │                │\n",
              "│                            │ │   Version │ 2025.1    │                │\n",
              "│                            │ │ Timestamp │           │                │\n",
              "│                            │ └───────────┴───────────┘                │\n",
              "│                            │                                          │\n",
              "│ cs_server @ localhost:3042 │ ┌───────────────┬──────────────────────┐ │\n",
              "│                            │ │\u001b[1m \u001b[0m\u001b[1m    Attribute\u001b[0m\u001b[1m \u001b[0m│\u001b[1m \u001b[0m\u001b[1mValue               \u001b[0m\u001b[1m \u001b[0m│ │\n",
              "│                            │ ├───────────────┼──────────────────────┤ │\n",
              "│                            │ │        Status │ Connected            │ │\n",
              "│                            │ │         Build │ 1747163727           │ │\n",
              "│                            │ │       Version │ 2025.1.0             │ │\n",
              "│                            │ │     Timestamp │ May 13 2025-12:15:27 │ │\n",
              "│                            │ │       Package │ 2025.1.1747163727    │ │\n",
              "│                            │ │ Artifact type │ pyinstaller          │ │\n",
              "│                            │ └───────────────┴──────────────────────┘ │\n",
              "└────────────────────────────┴──────────────────────────────────────────┘\n"
            ]
          },
          "metadata": {},
          "output_type": "display_data"
        },
        {
          "data": {
            "text/html": [
              "<pre style=\"white-space:pre;overflow-x:auto;line-height:normal;font-family:Menlo,'DejaVu Sans Mono',consolas,'Courier New',monospace\">\n",
              "\n",
              "</pre>\n"
            ],
            "text/plain": [
              "\n",
              "\n"
            ]
          },
          "metadata": {},
          "output_type": "display_data"
        }
      ],
      "source": [
        "session = create_session(cs_server_url=CS_URL, hw_server_url=HW_URL)\n",
        "report_versions(session)"
      ]
    },
    {
      "cell_type": "markdown",
      "id": "f3f53f4b",
      "metadata": {},
      "source": [
        "## 3 - Program the device with the example design\n",
        "\n",
        "After this step,\n",
        "- Device is programmed with the example programming file"
      ]
    },
    {
      "cell_type": "code",
      "execution_count": 4,
      "id": "1dc321cc",
      "metadata": {},
      "outputs": [
        {
          "data": {
            "text/html": [
              "<pre style=\"white-space:pre;overflow-x:auto;line-height:normal;font-family:Menlo,'DejaVu Sans Mono',consolas,'Courier New',monospace\">\n",
              "<span style=\"font-weight: bold\">--&gt; INFO: </span>Programming device with: \n",
              "/scratch/wrk/chipscopy/chipscopy/examples/designs/vck190/production/chipscopy_ced/chipscopy_wrapper.pdi\n",
              "    \n",
              "</pre>\n"
            ],
            "text/plain": [
              "\n",
              "\u001b[1m--> INFO: \u001b[0mProgramming device with: \n",
              "/scratch/wrk/chipscopy/chipscopy/examples/designs/vck190/production/chipscopy_ced/chipscopy_wrapper.pdi\n",
              "    \n"
            ]
          },
          "metadata": {},
          "output_type": "display_data"
        },
        {
          "data": {
            "application/vnd.jupyter.widget-view+json": {
              "model_id": "9ffd0dd0406941efa161931b9d2b6e60",
              "version_major": 2,
              "version_minor": 0
            },
            "text/plain": [
              "Output()"
            ]
          },
          "metadata": {},
          "output_type": "display_data"
        },
        {
          "data": {
            "text/html": [
              "<pre style=\"white-space:pre;overflow-x:auto;line-height:normal;font-family:Menlo,'DejaVu Sans Mono',consolas,'Courier New',monospace\"></pre>\n"
            ],
            "text/plain": []
          },
          "metadata": {},
          "output_type": "display_data"
        }
      ],
      "source": [
        "versal_device = session.devices.filter_by(family=\"versal\").get()\n",
        "if PROG_DEVICE:\n",
        "    versal_device.program(PROGRAMMING_FILE)\n",
        "else:\n",
        "    print(\"skipping programming\")"
      ]
    },
    {
      "cell_type": "markdown",
      "id": "7a8b577a",
      "metadata": {},
      "source": [
        "## 4 - Discover Debug Cores\n",
        "\n",
        "Debug core discovery initializes the chipscope server debug cores. This brings debug cores in the chipscope server online.\n",
        "\n",
        "After this step,\n",
        "\n",
        "- The cs_server is initialized and ready for use"
      ]
    },
    {
      "cell_type": "code",
      "execution_count": 5,
      "id": "1276c830",
      "metadata": {},
      "outputs": [
        {
          "name": "stdout",
          "output_type": "stream",
          "text": [
            "Debug cores setup and ready for use.\n"
          ]
        }
      ],
      "source": [
        "versal_device.discover_and_setup_cores(noc_scan=True)\n",
        "print(f\"Debug cores setup and ready for use.\")"
      ]
    },
    {
      "cell_type": "markdown",
      "id": "85e9d808",
      "metadata": {},
      "source": [
        "## 5 - Setup NoC core\n",
        "\n",
        "Ensure scan nodes are enabled in the design."
      ]
    },
    {
      "cell_type": "code",
      "execution_count": 6,
      "id": "25b18d59",
      "metadata": {},
      "outputs": [
        {
          "name": "stdout",
          "output_type": "stream",
          "text": [
            "\n",
            "Enumerating nodes: DDRMC_X0Y0, NOC_NMU512_X0Y0, ...complete!\n"
          ]
        }
      ],
      "source": [
        "# We begin by enumerating the debug cores (hard and soft) present in the design.\n",
        "# Then we ask the design for the supported timebases. And, finally:\n",
        "# The NoC is scanned to determine the activated elements.\n",
        "\n",
        "noc = versal_device.noc_core[0]\n",
        "\n",
        "scan_nodes = [\"DDRMC_X0Y0\", \"NOC_NMU512_X0Y0\"]\n",
        "print(\"\\nEnumerating nodes: \", end=\"\")\n",
        "for node in scan_nodes:\n",
        "    print(f\"{node}, \", end=\"\")\n",
        "print(\"...\", end=\"\")\n",
        "\n",
        "# this will setup the nodes on the server side and return the nodes successfully enumerated\n",
        "enable_list = noc.enumerate_noc_elements(scan_nodes)\n",
        "print(\"complete!\")"
      ]
    },
    {
      "cell_type": "code",
      "execution_count": 7,
      "id": "82d1502d",
      "metadata": {},
      "outputs": [
        {
          "name": "stdout",
          "output_type": "stream",
          "text": [
            "Supported sampling periods:\n",
            "  NoC:\n",
            "    67ms    134ms    268ms    537ms    1074ms    2147ms\n",
            "  NPI:\n",
            "    56ms    112ms    224ms    447ms    895ms    1790ms    3579ms    7158ms\n",
            "  DDRMC_X0Y0:\n",
            "    84ms    168ms    336ms    671ms    1342ms    2684ms\n"
          ]
        }
      ],
      "source": [
        "supported_periods = noc.get_supported_sampling_periods(\n",
        "    100/3, {'DDRMC_X0Y0': 800.0}\n",
        ")\n",
        "print(\"Supported sampling periods:\")\n",
        "for domain, periods in supported_periods.items():\n",
        "    print(f\"  {domain}:\")\n",
        "    for p in periods:\n",
        "        print(f\"    {p:.0f}ms\", end=\"\")\n",
        "    print()"
      ]
    },
    {
      "cell_type": "code",
      "execution_count": 8,
      "id": "ea92e060",
      "metadata": {},
      "outputs": [
        {
          "name": "stdout",
          "output_type": "stream",
          "text": [
            "Sampling period selection:\n",
            "  NoC: 537ms\n",
            "  NPI: 895ms\n",
            "  DDRMC_X0Y0: 671ms\n"
          ]
        }
      ],
      "source": [
        "# Select Timebase and Nodes to Monitor\n",
        "#\n",
        "# For the two clock domains we must select a sampling period from the hardware supported values. The debug cable used will dictate how much bandwidth is available, so high frequency sampling may not actually produce data at the specified rate. Recommendation is ~500ms for jtag.\n",
        "#\n",
        "# Then the user must decide what to monitor--again the bandwidth is a definite consideration here. Plot performance may become the bottleneck (Optimizations will come later in the renderer or agg backend). The guidance here is to pick up to 4 nodes to monitor.\n",
        "\n",
        "desired_period = 500  # ms\n",
        "sampling_intervals = {}\n",
        "\n",
        "for domain in supported_periods.keys():\n",
        "    sampling_intervals[domain] = 0\n",
        "    for sp in supported_periods[domain]:\n",
        "        if sp > desired_period:\n",
        "            sampling_intervals[domain] = sp\n",
        "            break\n",
        "\n",
        "    if sampling_intervals[domain] == 0:\n",
        "        print(\n",
        "            f\"Warning, desired period {desired_period}ms is slower than \"\n",
        "            f\"longest supported period {supported_periods[domain][-1]}ms [{domain} domain] \"\n",
        "            f\"defaulting to this value.\"\n",
        "        )\n",
        "        sampling_intervals[domain] = supported_periods[-1]\n",
        "\n",
        "print(f\"Sampling period selection:\")\n",
        "for domain, freq in sampling_intervals.items():\n",
        "    print(f\"  {domain}: {freq:.0f}ms\")"
      ]
    },
    {
      "cell_type": "code",
      "execution_count": 9,
      "id": "77b03c7f",
      "metadata": {},
      "outputs": [
        {
          "name": "stdout",
          "output_type": "stream",
          "text": [
            "Setting up monitors for: \n",
            "DDRMC_X0Y0\n",
            "NOC_NMU512_X0Y0\n"
          ]
        }
      ],
      "source": [
        "# Configure Monitors\n",
        "#\n",
        "# As a precaution, it's a good idea to validate the desired nodes are enabled for the design.\n",
        "# Using the set of nodes and the desired sampling periods it's time to ask the service to start pushing metric data. Two additional arguments are required to this API.\n",
        "#\n",
        "# Traffic class\n",
        "#\n",
        "# This is a bit-or field of the requested traffic classes. Note, One monitor is dedicated to read traffic classes and the other to write--so all read TCs will apply to one channel and all write TCs to the other. `Best effort` is a good place to start.\n",
        "#\n",
        "# Number of Samples\n",
        "#\n",
        "# The number of samples allows for a burst of measurements to be taken and then the underlying service will tear down the monitors and stop pumping data back to the client. `-1` denotes that sampling shall continue indefinitely.\n",
        "\n",
        "# total number of samples to capture (-1 for continuous mode)\n",
        "num_samples = -1\n",
        "\n",
        "print(\"Setting up monitors for: \")\n",
        "for node in enable_list:\n",
        "    print(node)\n",
        "\n",
        "# When overflow occurs the precision of the monitors must be traded for range\n",
        "# See the server API for more information\n",
        "extended_monitor_config = {\"NOC_NMU512_X0Y0\": {\"tslide\": 0x3}}  # or None\n",
        "noc.configure_monitors(\n",
        "    enable_list, sampling_intervals, (TC_BEW | TC_BER), num_samples, None, extended_monitor_config\n",
        ")"
      ]
    },
    {
      "cell_type": "markdown",
      "id": "19fc4afe",
      "metadata": {},
      "source": [
        "## 7 - Create plotter and listener\n",
        "\n",
        "Attach both to running view"
      ]
    },
    {
      "cell_type": "code",
      "execution_count": 10,
      "id": "6c968f12",
      "metadata": {},
      "outputs": [],
      "source": [
        "record_to_file = False  # True | False\n",
        "node_listener = NoCPerfMonNodeListener(\n",
        "    sampling_intervals,\n",
        "    num_samples,\n",
        "    enable_list,\n",
        "    record_to_file,\n",
        "    extended_monitor_config=extended_monitor_config,\n",
        ")\n",
        "node_listener.change_log_level('INFO')\n",
        "session.chipscope_view.add_node_listener(node_listener)"
      ]
    },
    {
      "cell_type": "markdown",
      "id": "020caa1b",
      "metadata": {},
      "source": [
        "## 8 - Main Event Loop\n",
        "\n",
        "This loop runs until you close the plotter.\n",
        "If you are using a finite amount of measurement samples, you can uncomment the if --> break statement to automatically return from execution of this cell upon completion of the burst."
      ]
    },
    {
      "cell_type": "code",
      "execution_count": 11,
      "id": "5cc28478",
      "metadata": {},
      "outputs": [
        {
          "name": "stdout",
          "output_type": "stream",
          "text": [
            "\u001b[32m2025-05-29 14:43:08.053\u001b[0m | \u001b[1mINFO    \u001b[0m | \u001b[35m         noc_perfmon\u001b[0m | \u001b[36m               chipscopy.api.noc.noc_perfmon_utils\u001b[0m | \u001b[36m365 \u001b[0m | \u001b[1m{'dc0_activates': 0, 'dc0_read_cas': 0, 'dc0_write_cas': 0, 'dc0_precharge': 0, 'dc0_precharge_all': 0, 'dc0_refresh': 0, 'dc0_idle': 0, 'dc0_overhead': 0, 'dc0_bus_turnarounds': 0, 'dc1_activates': 0, 'dc1_read_cas': 62, 'dc1_write_cas': 0, 'dc1_precharge': 0, 'dc1_precharge_all': 0, 'dc1_refresh': 0, 'dc1_idle': 0, 'dc1_overhead': 0, 'dc1_bus_turnarounds': 0}\u001b[0m\n",
            "\u001b[32m2025-05-29 14:43:08.055\u001b[0m | \u001b[1mINFO    \u001b[0m | \u001b[35m         noc_perfmon\u001b[0m | \u001b[36m               chipscopy.api.noc.noc_perfmon_utils\u001b[0m | \u001b[36m145 \u001b[0m | \u001b[1mnoc_nmu512_x0y0: rb: 0, wb: 0, rbw: 0.0, wbw: 0.0, arl: 0.0, awl: 0.0\u001b[0m\n",
            "\u001b[32m2025-05-29 14:43:08.057\u001b[0m | \u001b[1mINFO    \u001b[0m | \u001b[35m         noc_perfmon\u001b[0m | \u001b[36m               chipscopy.api.noc.noc_perfmon_utils\u001b[0m | \u001b[36m145 \u001b[0m | \u001b[1mddrmc_x0y0: rb: 0.0, wb: 0.0, rbw: 0.0, wbw: 0.0, arl: 0.0, awl: 0.0\u001b[0m\n",
            "\u001b[32m2025-05-29 14:43:08.060\u001b[0m | \u001b[1mINFO    \u001b[0m | \u001b[35m         noc_perfmon\u001b[0m | \u001b[36m               chipscopy.api.noc.noc_perfmon_utils\u001b[0m | \u001b[36m365 \u001b[0m | \u001b[1m{'dc0_activates': 0, 'dc0_read_cas': 0, 'dc0_write_cas': 0, 'dc0_precharge': 0, 'dc0_precharge_all': 0, 'dc0_refresh': 0, 'dc0_idle': 0, 'dc0_overhead': 0, 'dc0_bus_turnarounds': 0, 'dc1_activates': 0, 'dc1_read_cas': 62, 'dc1_write_cas': 0, 'dc1_precharge': 0, 'dc1_precharge_all': 0, 'dc1_refresh': 0, 'dc1_idle': 0, 'dc1_overhead': 0, 'dc1_bus_turnarounds': 0}\u001b[0m\n",
            "\u001b[32m2025-05-29 14:43:08.062\u001b[0m | \u001b[1mINFO    \u001b[0m | \u001b[35m         noc_perfmon\u001b[0m | \u001b[36m               chipscopy.api.noc.noc_perfmon_utils\u001b[0m | \u001b[36m145 \u001b[0m | \u001b[1mnoc_nmu512_x0y0: rb: 0, wb: 0, rbw: 0.0, wbw: 0.0, arl: 0.0, awl: 0.0\u001b[0m\n",
            "\u001b[32m2025-05-29 14:43:08.063\u001b[0m | \u001b[1mINFO    \u001b[0m | \u001b[35m         noc_perfmon\u001b[0m | \u001b[36m               chipscopy.api.noc.noc_perfmon_utils\u001b[0m | \u001b[36m145 \u001b[0m | \u001b[1mddrmc_x0y0: rb: 0.0, wb: 0.0, rbw: 0.0, wbw: 0.0, arl: 0.0, awl: 0.0\u001b[0m\n",
            "\u001b[32m2025-05-29 14:43:08.065\u001b[0m | \u001b[1mINFO    \u001b[0m | \u001b[35m         noc_perfmon\u001b[0m | \u001b[36m               chipscopy.api.noc.noc_perfmon_utils\u001b[0m | \u001b[36m145 \u001b[0m | \u001b[1mddrmc_x0y0: rb: 0.0, wb: 0.0, rbw: 0.0, wbw: 0.0, arl: 0.0, awl: 0.0\u001b[0m\n",
            "\u001b[32m2025-05-29 14:43:08.567\u001b[0m | \u001b[1mINFO    \u001b[0m | \u001b[35m         noc_perfmon\u001b[0m | \u001b[36m               chipscopy.api.noc.noc_perfmon_utils\u001b[0m | \u001b[36m145 \u001b[0m | \u001b[1mddrmc_x0y0: rb: 0.0, wb: 0.0, rbw: 0.0, wbw: 0.0, arl: 0.0, awl: 0.0\u001b[0m\n",
            "\u001b[32m2025-05-29 14:43:08.670\u001b[0m | \u001b[1mINFO    \u001b[0m | \u001b[35m         noc_perfmon\u001b[0m | \u001b[36m               chipscopy.api.noc.noc_perfmon_utils\u001b[0m | \u001b[36m365 \u001b[0m | \u001b[1m{'dc0_activates': 0, 'dc0_read_cas': 0, 'dc0_write_cas': 0, 'dc0_precharge': 0, 'dc0_precharge_all': 0, 'dc0_refresh': 0, 'dc0_idle': 0, 'dc0_overhead': 0, 'dc0_bus_turnarounds': 0, 'dc1_activates': 0, 'dc1_read_cas': 59, 'dc1_write_cas': 0, 'dc1_precharge': 0, 'dc1_precharge_all': 0, 'dc1_refresh': 0, 'dc1_idle': 0, 'dc1_overhead': 0, 'dc1_bus_turnarounds': 0}\u001b[0m\n",
            "\u001b[32m2025-05-29 14:43:08.873\u001b[0m | \u001b[1mINFO    \u001b[0m | \u001b[35m         noc_perfmon\u001b[0m | \u001b[36m               chipscopy.api.noc.noc_perfmon_utils\u001b[0m | \u001b[36m145 \u001b[0m | \u001b[1mnoc_nmu512_x0y0: rb: 0, wb: 0, rbw: 0.0, wbw: 0.0, arl: 0.0, awl: 0.0\u001b[0m\n",
            "\u001b[32m2025-05-29 14:43:09.175\u001b[0m | \u001b[1mINFO    \u001b[0m | \u001b[35m         noc_perfmon\u001b[0m | \u001b[36m               chipscopy.api.noc.noc_perfmon_utils\u001b[0m | \u001b[36m145 \u001b[0m | \u001b[1mddrmc_x0y0: rb: 0.0, wb: 0.0, rbw: 0.0, wbw: 0.0, arl: 0.0, awl: 0.0\u001b[0m\n",
            "\u001b[32m2025-05-29 14:43:09.378\u001b[0m | \u001b[1mINFO    \u001b[0m | \u001b[35m         noc_perfmon\u001b[0m | \u001b[36m               chipscopy.api.noc.noc_perfmon_utils\u001b[0m | \u001b[36m365 \u001b[0m | \u001b[1m{'dc0_activates': 0, 'dc0_read_cas': 0, 'dc0_write_cas': 0, 'dc0_precharge': 0, 'dc0_precharge_all': 0, 'dc0_refresh': 0, 'dc0_idle': 0, 'dc0_overhead': 0, 'dc0_bus_turnarounds': 0, 'dc1_activates': 0, 'dc1_read_cas': 59, 'dc1_write_cas': 0, 'dc1_precharge': 0, 'dc1_precharge_all': 0, 'dc1_refresh': 0, 'dc1_idle': 0, 'dc1_overhead': 0, 'dc1_bus_turnarounds': 0}\u001b[0m\n",
            "\u001b[32m2025-05-29 14:43:09.682\u001b[0m | \u001b[1mINFO    \u001b[0m | \u001b[35m         noc_perfmon\u001b[0m | \u001b[36m               chipscopy.api.noc.noc_perfmon_utils\u001b[0m | \u001b[36m145 \u001b[0m | \u001b[1mddrmc_x0y0: rb: 0.0, wb: 0.0, rbw: 0.0, wbw: 0.0, arl: 0.0, awl: 0.0\u001b[0m\n",
            "\u001b[32m2025-05-29 14:43:09.785\u001b[0m | \u001b[1mINFO    \u001b[0m | \u001b[35m         noc_perfmon\u001b[0m | \u001b[36m               chipscopy.api.noc.noc_perfmon_utils\u001b[0m | \u001b[36m145 \u001b[0m | \u001b[1mnoc_nmu512_x0y0: rb: 0, wb: 0, rbw: 0.0, wbw: 0.0, arl: 0.0, awl: 0.0\u001b[0m\n",
            "\u001b[32m2025-05-29 14:43:10.089\u001b[0m | \u001b[1mINFO    \u001b[0m | \u001b[35m         noc_perfmon\u001b[0m | \u001b[36m               chipscopy.api.noc.noc_perfmon_utils\u001b[0m | \u001b[36m365 \u001b[0m | \u001b[1m{'dc0_activates': 0, 'dc0_read_cas': 0, 'dc0_write_cas': 0, 'dc0_precharge': 0, 'dc0_precharge_all': 0, 'dc0_refresh': 0, 'dc0_idle': 0, 'dc0_overhead': 0, 'dc0_bus_turnarounds': 0, 'dc1_activates': 0, 'dc1_read_cas': 59, 'dc1_write_cas': 0, 'dc1_precharge': 0, 'dc1_precharge_all': 0, 'dc1_refresh': 0, 'dc1_idle': 0, 'dc1_overhead': 0, 'dc1_bus_turnarounds': 0}\u001b[0m\n",
            "\u001b[32m2025-05-29 14:43:10.191\u001b[0m | \u001b[1mINFO    \u001b[0m | \u001b[35m         noc_perfmon\u001b[0m | \u001b[36m               chipscopy.api.noc.noc_perfmon_utils\u001b[0m | \u001b[36m145 \u001b[0m | \u001b[1mddrmc_x0y0: rb: 0.0, wb: 0.0, rbw: 0.0, wbw: 0.0, arl: 0.0, awl: 0.0\u001b[0m\n",
            "\u001b[32m2025-05-29 14:43:10.694\u001b[0m | \u001b[1mINFO    \u001b[0m | \u001b[35m         noc_perfmon\u001b[0m | \u001b[36m               chipscopy.api.noc.noc_perfmon_utils\u001b[0m | \u001b[36m145 \u001b[0m | \u001b[1mnoc_nmu512_x0y0: rb: 0, wb: 0, rbw: 0.0, wbw: 0.0, arl: 0.0, awl: 0.0\u001b[0m\n",
            "\u001b[32m2025-05-29 14:43:10.796\u001b[0m | \u001b[1mINFO    \u001b[0m | \u001b[35m         noc_perfmon\u001b[0m | \u001b[36m               chipscopy.api.noc.noc_perfmon_utils\u001b[0m | \u001b[36m365 \u001b[0m | \u001b[1m{'dc0_activates': 0, 'dc0_read_cas': 0, 'dc0_write_cas': 0, 'dc0_precharge': 0, 'dc0_precharge_all': 0, 'dc0_refresh': 344148, 'dc0_idle': 2147483647, 'dc0_overhead': 0, 'dc0_bus_turnarounds': 0, 'dc1_activates': 0, 'dc1_read_cas': 59, 'dc1_write_cas': 0, 'dc1_precharge': 0, 'dc1_precharge_all': 0, 'dc1_refresh': 0, 'dc1_idle': 0, 'dc1_overhead': 0, 'dc1_bus_turnarounds': 0}\u001b[0m\n",
            "\u001b[32m2025-05-29 14:43:10.798\u001b[0m | \u001b[1mINFO    \u001b[0m | \u001b[35m         noc_perfmon\u001b[0m | \u001b[36m               chipscopy.api.noc.noc_perfmon_utils\u001b[0m | \u001b[36m145 \u001b[0m | \u001b[1mddrmc_x0y0: rb: 0.0, wb: 0.0, rbw: 0.0, wbw: 0.0, arl: 0.0, awl: 0.0\u001b[0m\n",
            "\u001b[32m2025-05-29 14:43:11.301\u001b[0m | \u001b[1mINFO    \u001b[0m | \u001b[35m         noc_perfmon\u001b[0m | \u001b[36m               chipscopy.api.noc.noc_perfmon_utils\u001b[0m | \u001b[36m145 \u001b[0m | \u001b[1mddrmc_x0y0: rb: 0.0, wb: 0.0, rbw: 0.0, wbw: 0.0, arl: 0.0, awl: 0.0\u001b[0m\n",
            "\u001b[32m2025-05-29 14:43:11.404\u001b[0m | \u001b[1mINFO    \u001b[0m | \u001b[35m         noc_perfmon\u001b[0m | \u001b[36m               chipscopy.api.noc.noc_perfmon_utils\u001b[0m | \u001b[36m365 \u001b[0m | \u001b[1m{'dc0_activates': 0, 'dc0_read_cas': 0, 'dc0_write_cas': 0, 'dc0_precharge': 0, 'dc0_precharge_all': 0, 'dc0_refresh': 86037, 'dc0_idle': 536870912, 'dc0_overhead': 0, 'dc0_bus_turnarounds': 0, 'dc1_activates': 0, 'dc1_read_cas': 59, 'dc1_write_cas': 0, 'dc1_precharge': 0, 'dc1_precharge_all': 0, 'dc1_refresh': 0, 'dc1_idle': 0, 'dc1_overhead': 0, 'dc1_bus_turnarounds': 0}\u001b[0m\n",
            "\u001b[32m2025-05-29 14:43:11.606\u001b[0m | \u001b[1mINFO    \u001b[0m | \u001b[35m         noc_perfmon\u001b[0m | \u001b[36m               chipscopy.api.noc.noc_perfmon_utils\u001b[0m | \u001b[36m145 \u001b[0m | \u001b[1mnoc_nmu512_x0y0: rb: 0, wb: 0, rbw: 0.0, wbw: 0.0, arl: 0.0, awl: 0.0\u001b[0m\n",
            "\u001b[32m2025-05-29 14:43:11.908\u001b[0m | \u001b[1mINFO    \u001b[0m | \u001b[35m         noc_perfmon\u001b[0m | \u001b[36m               chipscopy.api.noc.noc_perfmon_utils\u001b[0m | \u001b[36m145 \u001b[0m | \u001b[1mddrmc_x0y0: rb: 0.0, wb: 0.0, rbw: 0.0, wbw: 0.0, arl: 0.0, awl: 0.0\u001b[0m\n",
            "\u001b[32m2025-05-29 14:43:12.111\u001b[0m | \u001b[1mINFO    \u001b[0m | \u001b[35m         noc_perfmon\u001b[0m | \u001b[36m               chipscopy.api.noc.noc_perfmon_utils\u001b[0m | \u001b[36m365 \u001b[0m | \u001b[1m{'dc0_activates': 0, 'dc0_read_cas': 0, 'dc0_write_cas': 0, 'dc0_precharge': 0, 'dc0_precharge_all': 0, 'dc0_refresh': 86037, 'dc0_idle': 536870912, 'dc0_overhead': 0, 'dc0_bus_turnarounds': 0, 'dc1_activates': 0, 'dc1_read_cas': 59, 'dc1_write_cas': 0, 'dc1_precharge': 0, 'dc1_precharge_all': 0, 'dc1_refresh': 0, 'dc1_idle': 0, 'dc1_overhead': 0, 'dc1_bus_turnarounds': 0}\u001b[0m\n",
            "\u001b[32m2025-05-29 14:43:12.415\u001b[0m | \u001b[1mINFO    \u001b[0m | \u001b[35m         noc_perfmon\u001b[0m | \u001b[36m               chipscopy.api.noc.noc_perfmon_utils\u001b[0m | \u001b[36m145 \u001b[0m | \u001b[1mddrmc_x0y0: rb: 0.0, wb: 0.0, rbw: 0.0, wbw: 0.0, arl: 0.0, awl: 0.0\u001b[0m\n",
            "\u001b[32m2025-05-29 14:43:12.518\u001b[0m | \u001b[1mINFO    \u001b[0m | \u001b[35m         noc_perfmon\u001b[0m | \u001b[36m               chipscopy.api.noc.noc_perfmon_utils\u001b[0m | \u001b[36m145 \u001b[0m | \u001b[1mnoc_nmu512_x0y0: rb: 0, wb: 0, rbw: 0.0, wbw: 0.0, arl: 0.0, awl: 0.0\u001b[0m\n",
            "\u001b[32m2025-05-29 14:43:12.821\u001b[0m | \u001b[1mINFO    \u001b[0m | \u001b[35m         noc_perfmon\u001b[0m | \u001b[36m               chipscopy.api.noc.noc_perfmon_utils\u001b[0m | \u001b[36m365 \u001b[0m | \u001b[1m{'dc0_activates': 0, 'dc0_read_cas': 0, 'dc0_write_cas': 0, 'dc0_precharge': 0, 'dc0_precharge_all': 0, 'dc0_refresh': 86037, 'dc0_idle': 536870912, 'dc0_overhead': 0, 'dc0_bus_turnarounds': 0, 'dc1_activates': 0, 'dc1_read_cas': 59, 'dc1_write_cas': 0, 'dc1_precharge': 0, 'dc1_precharge_all': 0, 'dc1_refresh': 0, 'dc1_idle': 0, 'dc1_overhead': 0, 'dc1_bus_turnarounds': 0}\u001b[0m\n",
            "\u001b[32m2025-05-29 14:43:13.023\u001b[0m | \u001b[1mINFO    \u001b[0m | \u001b[35m         noc_perfmon\u001b[0m | \u001b[36m               chipscopy.api.noc.noc_perfmon_utils\u001b[0m | \u001b[36m145 \u001b[0m | \u001b[1mddrmc_x0y0: rb: 0.0, wb: 0.0, rbw: 0.0, wbw: 0.0, arl: 0.0, awl: 0.0\u001b[0m\n",
            "\u001b[32m2025-05-29 14:43:13.426\u001b[0m | \u001b[1mINFO    \u001b[0m | \u001b[35m         noc_perfmon\u001b[0m | \u001b[36m               chipscopy.api.noc.noc_perfmon_utils\u001b[0m | \u001b[36m145 \u001b[0m | \u001b[1mnoc_nmu512_x0y0: rb: 0, wb: 0, rbw: 0.0, wbw: 0.0, arl: 0.0, awl: 0.0\u001b[0m\n",
            "\u001b[32m2025-05-29 14:43:13.529\u001b[0m | \u001b[1mINFO    \u001b[0m | \u001b[35m         noc_perfmon\u001b[0m | \u001b[36m               chipscopy.api.noc.noc_perfmon_utils\u001b[0m | \u001b[36m365 \u001b[0m | \u001b[1m{'dc0_activates': 0, 'dc0_read_cas': 0, 'dc0_write_cas': 0, 'dc0_precharge': 0, 'dc0_precharge_all': 0, 'dc0_refresh': 86037, 'dc0_idle': 536870912, 'dc0_overhead': 0, 'dc0_bus_turnarounds': 0, 'dc1_activates': 0, 'dc1_read_cas': 59, 'dc1_write_cas': 0, 'dc1_precharge': 0, 'dc1_precharge_all': 0, 'dc1_refresh': 0, 'dc1_idle': 0, 'dc1_overhead': 0, 'dc1_bus_turnarounds': 0}\u001b[0m\n",
            "\u001b[32m2025-05-29 14:43:13.531\u001b[0m | \u001b[1mINFO    \u001b[0m | \u001b[35m         noc_perfmon\u001b[0m | \u001b[36m               chipscopy.api.noc.noc_perfmon_utils\u001b[0m | \u001b[36m145 \u001b[0m | \u001b[1mddrmc_x0y0: rb: 0.0, wb: 0.0, rbw: 0.0, wbw: 0.0, arl: 0.0, awl: 0.0\u001b[0m\n",
            "\u001b[32m2025-05-29 14:43:14.134\u001b[0m | \u001b[1mINFO    \u001b[0m | \u001b[35m         noc_perfmon\u001b[0m | \u001b[36m               chipscopy.api.noc.noc_perfmon_utils\u001b[0m | \u001b[36m145 \u001b[0m | \u001b[1mddrmc_x0y0: rb: 0.0, wb: 0.0, rbw: 0.0, wbw: 0.0, arl: 0.0, awl: 0.0\u001b[0m\n",
            "\u001b[32m2025-05-29 14:43:14.136\u001b[0m | \u001b[1mINFO    \u001b[0m | \u001b[35m         noc_perfmon\u001b[0m | \u001b[36m               chipscopy.api.noc.noc_perfmon_utils\u001b[0m | \u001b[36m365 \u001b[0m | \u001b[1m{'dc0_activates': 0, 'dc0_read_cas': 0, 'dc0_write_cas': 0, 'dc0_precharge': 0, 'dc0_precharge_all': 0, 'dc0_refresh': 86037, 'dc0_idle': 536870912, 'dc0_overhead': 0, 'dc0_bus_turnarounds': 0, 'dc1_activates': 0, 'dc1_read_cas': 59, 'dc1_write_cas': 0, 'dc1_precharge': 0, 'dc1_precharge_all': 0, 'dc1_refresh': 0, 'dc1_idle': 0, 'dc1_overhead': 0, 'dc1_bus_turnarounds': 0}\u001b[0m\n",
            "\u001b[32m2025-05-29 14:43:14.338\u001b[0m | \u001b[1mINFO    \u001b[0m | \u001b[35m         noc_perfmon\u001b[0m | \u001b[36m               chipscopy.api.noc.noc_perfmon_utils\u001b[0m | \u001b[36m145 \u001b[0m | \u001b[1mnoc_nmu512_x0y0: rb: 0, wb: 0, rbw: 0.0, wbw: 0.0, arl: 0.0, awl: 0.0\u001b[0m\n",
            "\u001b[32m2025-05-29 14:43:14.641\u001b[0m | \u001b[1mINFO    \u001b[0m | \u001b[35m         noc_perfmon\u001b[0m | \u001b[36m               chipscopy.api.noc.noc_perfmon_utils\u001b[0m | \u001b[36m145 \u001b[0m | \u001b[1mddrmc_x0y0: rb: 0.0, wb: 0.0, rbw: 0.0, wbw: 0.0, arl: 0.0, awl: 0.0\u001b[0m\n",
            "\u001b[32m2025-05-29 14:43:14.843\u001b[0m | \u001b[1mINFO    \u001b[0m | \u001b[35m         noc_perfmon\u001b[0m | \u001b[36m               chipscopy.api.noc.noc_perfmon_utils\u001b[0m | \u001b[36m365 \u001b[0m | \u001b[1m{'dc0_activates': 0, 'dc0_read_cas': 0, 'dc0_write_cas': 0, 'dc0_precharge': 0, 'dc0_precharge_all': 0, 'dc0_refresh': 86037, 'dc0_idle': 536870912, 'dc0_overhead': 0, 'dc0_bus_turnarounds': 0, 'dc1_activates': 0, 'dc1_read_cas': 59, 'dc1_write_cas': 0, 'dc1_precharge': 0, 'dc1_precharge_all': 0, 'dc1_refresh': 0, 'dc1_idle': 0, 'dc1_overhead': 0, 'dc1_bus_turnarounds': 0}\u001b[0m\n",
            "\u001b[32m2025-05-29 14:43:15.246\u001b[0m | \u001b[1mINFO    \u001b[0m | \u001b[35m         noc_perfmon\u001b[0m | \u001b[36m               chipscopy.api.noc.noc_perfmon_utils\u001b[0m | \u001b[36m145 \u001b[0m | \u001b[1mddrmc_x0y0: rb: 0.0, wb: 0.0, rbw: 0.0, wbw: 0.0, arl: 0.0, awl: 0.0\u001b[0m\n",
            "\u001b[32m2025-05-29 14:43:15.247\u001b[0m | \u001b[1mINFO    \u001b[0m | \u001b[35m         noc_perfmon\u001b[0m | \u001b[36m               chipscopy.api.noc.noc_perfmon_utils\u001b[0m | \u001b[36m145 \u001b[0m | \u001b[1mnoc_nmu512_x0y0: rb: 0, wb: 0, rbw: 0.0, wbw: 0.0, arl: 0.0, awl: 0.0\u001b[0m\n",
            "\u001b[32m2025-05-29 14:43:15.550\u001b[0m | \u001b[1mINFO    \u001b[0m | \u001b[35m         noc_perfmon\u001b[0m | \u001b[36m               chipscopy.api.noc.noc_perfmon_utils\u001b[0m | \u001b[36m365 \u001b[0m | \u001b[1m{'dc0_activates': 0, 'dc0_read_cas': 0, 'dc0_write_cas': 0, 'dc0_precharge': 0, 'dc0_precharge_all': 0, 'dc0_refresh': 86037, 'dc0_idle': 536870912, 'dc0_overhead': 0, 'dc0_bus_turnarounds': 0, 'dc1_activates': 0, 'dc1_read_cas': 59, 'dc1_write_cas': 0, 'dc1_precharge': 0, 'dc1_precharge_all': 0, 'dc1_refresh': 0, 'dc1_idle': 0, 'dc1_overhead': 0, 'dc1_bus_turnarounds': 0}\u001b[0m\n",
            "\u001b[32m2025-05-29 14:43:15.724\u001b[0m | \u001b[1mINFO    \u001b[0m | \u001b[35m         noc_perfmon\u001b[0m | \u001b[36m               chipscopy.api.noc.noc_perfmon_utils\u001b[0m | \u001b[36m145 \u001b[0m | \u001b[1mddrmc_x0y0: rb: 0.0, wb: 0.0, rbw: 0.0, wbw: 0.0, arl: 0.0, awl: 0.0\u001b[0m\n",
            "\u001b[32m2025-05-29 14:43:16.127\u001b[0m | \u001b[1mINFO    \u001b[0m | \u001b[35m         noc_perfmon\u001b[0m | \u001b[36m               chipscopy.api.noc.noc_perfmon_utils\u001b[0m | \u001b[36m145 \u001b[0m | \u001b[1mnoc_nmu512_x0y0: rb: 0, wb: 0, rbw: 0.0, wbw: 0.0, arl: 0.0, awl: 0.0\u001b[0m\n",
            "\u001b[32m2025-05-29 14:43:16.230\u001b[0m | \u001b[1mINFO    \u001b[0m | \u001b[35m         noc_perfmon\u001b[0m | \u001b[36m               chipscopy.api.noc.noc_perfmon_utils\u001b[0m | \u001b[36m365 \u001b[0m | \u001b[1m{'dc0_activates': 0, 'dc0_read_cas': 0, 'dc0_write_cas': 0, 'dc0_precharge': 0, 'dc0_precharge_all': 0, 'dc0_refresh': 86037, 'dc0_idle': 536870912, 'dc0_overhead': 0, 'dc0_bus_turnarounds': 0, 'dc1_activates': 0, 'dc1_read_cas': 59, 'dc1_write_cas': 0, 'dc1_precharge': 0, 'dc1_precharge_all': 0, 'dc1_refresh': 0, 'dc1_idle': 0, 'dc1_overhead': 0, 'dc1_bus_turnarounds': 0}\u001b[0m\n",
            "\u001b[32m2025-05-29 14:43:16.234\u001b[0m | \u001b[1mINFO    \u001b[0m | \u001b[35m         noc_perfmon\u001b[0m | \u001b[36m               chipscopy.api.noc.noc_perfmon_utils\u001b[0m | \u001b[36m145 \u001b[0m | \u001b[1mddrmc_x0y0: rb: 0.0, wb: 0.0, rbw: 0.0, wbw: 0.0, arl: 0.0, awl: 0.0\u001b[0m\n",
            "\u001b[32m2025-05-29 14:43:16.839\u001b[0m | \u001b[1mINFO    \u001b[0m | \u001b[35m         noc_perfmon\u001b[0m | \u001b[36m               chipscopy.api.noc.noc_perfmon_utils\u001b[0m | \u001b[36m145 \u001b[0m | \u001b[1mddrmc_x0y0: rb: 0.0, wb: 0.0, rbw: 0.0, wbw: 0.0, arl: 0.0, awl: 0.0\u001b[0m\n",
            "\u001b[32m2025-05-29 14:43:16.942\u001b[0m | \u001b[1mINFO    \u001b[0m | \u001b[35m         noc_perfmon\u001b[0m | \u001b[36m               chipscopy.api.noc.noc_perfmon_utils\u001b[0m | \u001b[36m365 \u001b[0m | \u001b[1m{'dc0_activates': 0, 'dc0_read_cas': 0, 'dc0_write_cas': 0, 'dc0_precharge': 0, 'dc0_precharge_all': 0, 'dc0_refresh': 86037, 'dc0_idle': 536870912, 'dc0_overhead': 0, 'dc0_bus_turnarounds': 0, 'dc1_activates': 0, 'dc1_read_cas': 59, 'dc1_write_cas': 0, 'dc1_precharge': 0, 'dc1_precharge_all': 0, 'dc1_refresh': 0, 'dc1_idle': 0, 'dc1_overhead': 0, 'dc1_bus_turnarounds': 0}\u001b[0m\n",
            "\u001b[32m2025-05-29 14:43:16.944\u001b[0m | \u001b[1mINFO    \u001b[0m | \u001b[35m         noc_perfmon\u001b[0m | \u001b[36m               chipscopy.api.noc.noc_perfmon_utils\u001b[0m | \u001b[36m145 \u001b[0m | \u001b[1mnoc_nmu512_x0y0: rb: 0, wb: 0, rbw: 0.0, wbw: 0.0, arl: 0.0, awl: 0.0\u001b[0m\n",
            "\u001b[32m2025-05-29 14:43:17.347\u001b[0m | \u001b[1mINFO    \u001b[0m | \u001b[35m         noc_perfmon\u001b[0m | \u001b[36m               chipscopy.api.noc.noc_perfmon_utils\u001b[0m | \u001b[36m145 \u001b[0m | \u001b[1mddrmc_x0y0: rb: 0.0, wb: 0.0, rbw: 0.0, wbw: 0.0, arl: 0.0, awl: 0.0\u001b[0m\n",
            "\u001b[32m2025-05-29 14:43:17.650\u001b[0m | \u001b[1mINFO    \u001b[0m | \u001b[35m         noc_perfmon\u001b[0m | \u001b[36m               chipscopy.api.noc.noc_perfmon_utils\u001b[0m | \u001b[36m365 \u001b[0m | \u001b[1m{'dc0_activates': 0, 'dc0_read_cas': 0, 'dc0_write_cas': 0, 'dc0_precharge': 0, 'dc0_precharge_all': 0, 'dc0_refresh': 86037, 'dc0_idle': 536870912, 'dc0_overhead': 0, 'dc0_bus_turnarounds': 0, 'dc1_activates': 0, 'dc1_read_cas': 59, 'dc1_write_cas': 0, 'dc1_precharge': 0, 'dc1_precharge_all': 0, 'dc1_refresh': 0, 'dc1_idle': 0, 'dc1_overhead': 0, 'dc1_bus_turnarounds': 0}\u001b[0m\n",
            "\u001b[32m2025-05-29 14:43:17.853\u001b[0m | \u001b[1mINFO    \u001b[0m | \u001b[35m         noc_perfmon\u001b[0m | \u001b[36m               chipscopy.api.noc.noc_perfmon_utils\u001b[0m | \u001b[36m145 \u001b[0m | \u001b[1mnoc_nmu512_x0y0: rb: 0, wb: 0, rbw: 0.0, wbw: 0.0, arl: 0.0, awl: 0.0\u001b[0m\n",
            "\u001b[32m2025-05-29 14:43:17.956\u001b[0m | \u001b[1mINFO    \u001b[0m | \u001b[35m         noc_perfmon\u001b[0m | \u001b[36m               chipscopy.api.noc.noc_perfmon_utils\u001b[0m | \u001b[36m145 \u001b[0m | \u001b[1mddrmc_x0y0: rb: 0.0, wb: 0.0, rbw: 0.0, wbw: 0.0, arl: 0.0, awl: 0.0\u001b[0m\n",
            "\u001b[32m2025-05-29 14:43:18.260\u001b[0m | \u001b[1mINFO    \u001b[0m | \u001b[35m         noc_perfmon\u001b[0m | \u001b[36m               chipscopy.api.noc.noc_perfmon_utils\u001b[0m | \u001b[36m365 \u001b[0m | \u001b[1m{'dc0_activates': 0, 'dc0_read_cas': 0, 'dc0_write_cas': 0, 'dc0_precharge': 0, 'dc0_precharge_all': 0, 'dc0_refresh': 86037, 'dc0_idle': 536870912, 'dc0_overhead': 0, 'dc0_bus_turnarounds': 0, 'dc1_activates': 0, 'dc1_read_cas': 59, 'dc1_write_cas': 0, 'dc1_precharge': 0, 'dc1_precharge_all': 0, 'dc1_refresh': 0, 'dc1_idle': 0, 'dc1_overhead': 0, 'dc1_bus_turnarounds': 0}\u001b[0m\n",
            "\u001b[32m2025-05-29 14:43:18.463\u001b[0m | \u001b[1mINFO    \u001b[0m | \u001b[35m         noc_perfmon\u001b[0m | \u001b[36m               chipscopy.api.noc.noc_perfmon_utils\u001b[0m | \u001b[36m145 \u001b[0m | \u001b[1mddrmc_x0y0: rb: 0.0, wb: 0.0, rbw: 0.0, wbw: 0.0, arl: 0.0, awl: 0.0\u001b[0m\n",
            "\u001b[32m2025-05-29 14:43:18.767\u001b[0m | \u001b[1mINFO    \u001b[0m | \u001b[35m         noc_perfmon\u001b[0m | \u001b[36m               chipscopy.api.noc.noc_perfmon_utils\u001b[0m | \u001b[36m145 \u001b[0m | \u001b[1mnoc_nmu512_x0y0: rb: 0, wb: 0, rbw: 0.0, wbw: 0.0, arl: 0.0, awl: 0.0\u001b[0m\n",
            "\u001b[32m2025-05-29 14:43:18.970\u001b[0m | \u001b[1mINFO    \u001b[0m | \u001b[35m         noc_perfmon\u001b[0m | \u001b[36m               chipscopy.api.noc.noc_perfmon_utils\u001b[0m | \u001b[36m365 \u001b[0m | \u001b[1m{'dc0_activates': 0, 'dc0_read_cas': 0, 'dc0_write_cas': 0, 'dc0_precharge': 0, 'dc0_precharge_all': 0, 'dc0_refresh': 86037, 'dc0_idle': 536870912, 'dc0_overhead': 0, 'dc0_bus_turnarounds': 0, 'dc1_activates': 0, 'dc1_read_cas': 59, 'dc1_write_cas': 0, 'dc1_precharge': 0, 'dc1_precharge_all': 0, 'dc1_refresh': 0, 'dc1_idle': 0, 'dc1_overhead': 0, 'dc1_bus_turnarounds': 0}\u001b[0m\n",
            "\u001b[32m2025-05-29 14:43:18.973\u001b[0m | \u001b[1mINFO    \u001b[0m | \u001b[35m         noc_perfmon\u001b[0m | \u001b[36m               chipscopy.api.noc.noc_perfmon_utils\u001b[0m | \u001b[36m145 \u001b[0m | \u001b[1mddrmc_x0y0: rb: 0.0, wb: 0.0, rbw: 0.0, wbw: 0.0, arl: 0.0, awl: 0.0\u001b[0m\n",
            "\u001b[32m2025-05-29 14:43:19.576\u001b[0m | \u001b[1mINFO    \u001b[0m | \u001b[35m         noc_perfmon\u001b[0m | \u001b[36m               chipscopy.api.noc.noc_perfmon_utils\u001b[0m | \u001b[36m145 \u001b[0m | \u001b[1mddrmc_x0y0: rb: 0.0, wb: 0.0, rbw: 0.0, wbw: 0.0, arl: 0.0, awl: 0.0\u001b[0m\n",
            "\u001b[32m2025-05-29 14:43:19.678\u001b[0m | \u001b[1mINFO    \u001b[0m | \u001b[35m         noc_perfmon\u001b[0m | \u001b[36m               chipscopy.api.noc.noc_perfmon_utils\u001b[0m | \u001b[36m365 \u001b[0m | \u001b[1m{'dc0_activates': 0, 'dc0_read_cas': 0, 'dc0_write_cas': 0, 'dc0_precharge': 0, 'dc0_precharge_all': 0, 'dc0_refresh': 86037, 'dc0_idle': 536870912, 'dc0_overhead': 0, 'dc0_bus_turnarounds': 0, 'dc1_activates': 0, 'dc1_read_cas': 59, 'dc1_write_cas': 0, 'dc1_precharge': 0, 'dc1_precharge_all': 0, 'dc1_refresh': 0, 'dc1_idle': 0, 'dc1_overhead': 0, 'dc1_bus_turnarounds': 0}\u001b[0m\n",
            "\u001b[32m2025-05-29 14:43:19.680\u001b[0m | \u001b[1mINFO    \u001b[0m | \u001b[35m         noc_perfmon\u001b[0m | \u001b[36m               chipscopy.api.noc.noc_perfmon_utils\u001b[0m | \u001b[36m145 \u001b[0m | \u001b[1mnoc_nmu512_x0y0: rb: 0, wb: 0, rbw: 0.0, wbw: 0.0, arl: 0.0, awl: 0.0\u001b[0m\n",
            "\u001b[32m2025-05-29 14:43:20.083\u001b[0m | \u001b[1mINFO    \u001b[0m | \u001b[35m         noc_perfmon\u001b[0m | \u001b[36m               chipscopy.api.noc.noc_perfmon_utils\u001b[0m | \u001b[36m145 \u001b[0m | \u001b[1mddrmc_x0y0: rb: 0.0, wb: 0.0, rbw: 0.0, wbw: 0.0, arl: 0.0, awl: 0.0\u001b[0m\n",
            "\u001b[32m2025-05-29 14:43:20.286\u001b[0m | \u001b[1mINFO    \u001b[0m | \u001b[35m         noc_perfmon\u001b[0m | \u001b[36m               chipscopy.api.noc.noc_perfmon_utils\u001b[0m | \u001b[36m365 \u001b[0m | \u001b[1m{'dc0_activates': 0, 'dc0_read_cas': 0, 'dc0_write_cas': 0, 'dc0_precharge': 0, 'dc0_precharge_all': 0, 'dc0_refresh': 86037, 'dc0_idle': 536870912, 'dc0_overhead': 0, 'dc0_bus_turnarounds': 0, 'dc1_activates': 0, 'dc1_read_cas': 59, 'dc1_write_cas': 0, 'dc1_precharge': 0, 'dc1_precharge_all': 0, 'dc1_refresh': 0, 'dc1_idle': 0, 'dc1_overhead': 0, 'dc1_bus_turnarounds': 0}\u001b[0m\n",
            "\u001b[32m2025-05-29 14:43:20.590\u001b[0m | \u001b[1mINFO    \u001b[0m | \u001b[35m         noc_perfmon\u001b[0m | \u001b[36m               chipscopy.api.noc.noc_perfmon_utils\u001b[0m | \u001b[36m145 \u001b[0m | \u001b[1mnoc_nmu512_x0y0: rb: 0, wb: 0, rbw: 0.0, wbw: 0.0, arl: 0.0, awl: 0.0\u001b[0m\n",
            "\u001b[32m2025-05-29 14:43:20.692\u001b[0m | \u001b[1mINFO    \u001b[0m | \u001b[35m         noc_perfmon\u001b[0m | \u001b[36m               chipscopy.api.noc.noc_perfmon_utils\u001b[0m | \u001b[36m145 \u001b[0m | \u001b[1mddrmc_x0y0: rb: 0.0, wb: 0.0, rbw: 0.0, wbw: 0.0, arl: 0.0, awl: 0.0\u001b[0m\n",
            "\u001b[32m2025-05-29 14:43:20.995\u001b[0m | \u001b[1mINFO    \u001b[0m | \u001b[35m         noc_perfmon\u001b[0m | \u001b[36m               chipscopy.api.noc.noc_perfmon_utils\u001b[0m | \u001b[36m365 \u001b[0m | \u001b[1m{'dc0_activates': 0, 'dc0_read_cas': 0, 'dc0_write_cas': 0, 'dc0_precharge': 0, 'dc0_precharge_all': 0, 'dc0_refresh': 86037, 'dc0_idle': 536870912, 'dc0_overhead': 0, 'dc0_bus_turnarounds': 0, 'dc1_activates': 0, 'dc1_read_cas': 59, 'dc1_write_cas': 0, 'dc1_precharge': 0, 'dc1_precharge_all': 0, 'dc1_refresh': 0, 'dc1_idle': 0, 'dc1_overhead': 0, 'dc1_bus_turnarounds': 0}\u001b[0m\n",
            "\u001b[32m2025-05-29 14:43:21.198\u001b[0m | \u001b[1mINFO    \u001b[0m | \u001b[35m         noc_perfmon\u001b[0m | \u001b[36m               chipscopy.api.noc.noc_perfmon_utils\u001b[0m | \u001b[36m145 \u001b[0m | \u001b[1mddrmc_x0y0: rb: 0.0, wb: 0.0, rbw: 0.0, wbw: 0.0, arl: 0.0, awl: 0.0\u001b[0m\n",
            "\u001b[32m2025-05-29 14:43:21.501\u001b[0m | \u001b[1mINFO    \u001b[0m | \u001b[35m         noc_perfmon\u001b[0m | \u001b[36m               chipscopy.api.noc.noc_perfmon_utils\u001b[0m | \u001b[36m145 \u001b[0m | \u001b[1mnoc_nmu512_x0y0: rb: 0, wb: 0, rbw: 0.0, wbw: 0.0, arl: 0.0, awl: 0.0\u001b[0m\n",
            "\u001b[32m2025-05-29 14:43:21.704\u001b[0m | \u001b[1mINFO    \u001b[0m | \u001b[35m         noc_perfmon\u001b[0m | \u001b[36m               chipscopy.api.noc.noc_perfmon_utils\u001b[0m | \u001b[36m365 \u001b[0m | \u001b[1m{'dc0_activates': 0, 'dc0_read_cas': 0, 'dc0_write_cas': 0, 'dc0_precharge': 0, 'dc0_precharge_all': 0, 'dc0_refresh': 86037, 'dc0_idle': 536870912, 'dc0_overhead': 0, 'dc0_bus_turnarounds': 0, 'dc1_activates': 0, 'dc1_read_cas': 59, 'dc1_write_cas': 0, 'dc1_precharge': 0, 'dc1_precharge_all': 0, 'dc1_refresh': 0, 'dc1_idle': 0, 'dc1_overhead': 0, 'dc1_bus_turnarounds': 0}\u001b[0m\n",
            "\u001b[32m2025-05-29 14:43:21.707\u001b[0m | \u001b[1mINFO    \u001b[0m | \u001b[35m         noc_perfmon\u001b[0m | \u001b[36m               chipscopy.api.noc.noc_perfmon_utils\u001b[0m | \u001b[36m145 \u001b[0m | \u001b[1mddrmc_x0y0: rb: 0.0, wb: 0.0, rbw: 0.0, wbw: 0.0, arl: 0.0, awl: 0.0\u001b[0m\n",
            "\u001b[32m2025-05-29 14:43:22.310\u001b[0m | \u001b[1mINFO    \u001b[0m | \u001b[35m         noc_perfmon\u001b[0m | \u001b[36m               chipscopy.api.noc.noc_perfmon_utils\u001b[0m | \u001b[36m145 \u001b[0m | \u001b[1mddrmc_x0y0: rb: 0.0, wb: 0.0, rbw: 0.0, wbw: 0.0, arl: 0.0, awl: 0.0\u001b[0m\n",
            "\u001b[32m2025-05-29 14:43:22.312\u001b[0m | \u001b[1mINFO    \u001b[0m | \u001b[35m         noc_perfmon\u001b[0m | \u001b[36m               chipscopy.api.noc.noc_perfmon_utils\u001b[0m | \u001b[36m365 \u001b[0m | \u001b[1m{'dc0_activates': 0, 'dc0_read_cas': 0, 'dc0_write_cas': 0, 'dc0_precharge': 0, 'dc0_precharge_all': 0, 'dc0_refresh': 86037, 'dc0_idle': 536870912, 'dc0_overhead': 0, 'dc0_bus_turnarounds': 0, 'dc1_activates': 0, 'dc1_read_cas': 59, 'dc1_write_cas': 0, 'dc1_precharge': 0, 'dc1_precharge_all': 0, 'dc1_refresh': 0, 'dc1_idle': 0, 'dc1_overhead': 0, 'dc1_bus_turnarounds': 0}\u001b[0m\n",
            "\u001b[32m2025-05-29 14:43:22.414\u001b[0m | \u001b[1mINFO    \u001b[0m | \u001b[35m         noc_perfmon\u001b[0m | \u001b[36m               chipscopy.api.noc.noc_perfmon_utils\u001b[0m | \u001b[36m145 \u001b[0m | \u001b[1mnoc_nmu512_x0y0: rb: 0, wb: 0, rbw: 0.0, wbw: 0.0, arl: 0.0, awl: 0.0\u001b[0m\n",
            "\u001b[32m2025-05-29 14:43:22.817\u001b[0m | \u001b[1mINFO    \u001b[0m | \u001b[35m         noc_perfmon\u001b[0m | \u001b[36m               chipscopy.api.noc.noc_perfmon_utils\u001b[0m | \u001b[36m145 \u001b[0m | \u001b[1mddrmc_x0y0: rb: 0.0, wb: 0.0, rbw: 0.0, wbw: 0.0, arl: 0.0, awl: 0.0\u001b[0m\n",
            "\u001b[32m2025-05-29 14:43:23.021\u001b[0m | \u001b[1mINFO    \u001b[0m | \u001b[35m         noc_perfmon\u001b[0m | \u001b[36m               chipscopy.api.noc.noc_perfmon_utils\u001b[0m | \u001b[36m365 \u001b[0m | \u001b[1m{'dc0_activates': 0, 'dc0_read_cas': 0, 'dc0_write_cas': 0, 'dc0_precharge': 0, 'dc0_precharge_all': 0, 'dc0_refresh': 86037, 'dc0_idle': 536870912, 'dc0_overhead': 0, 'dc0_bus_turnarounds': 0, 'dc1_activates': 0, 'dc1_read_cas': 59, 'dc1_write_cas': 0, 'dc1_precharge': 0, 'dc1_precharge_all': 0, 'dc1_refresh': 0, 'dc1_idle': 0, 'dc1_overhead': 0, 'dc1_bus_turnarounds': 0}\u001b[0m\n",
            "\u001b[32m2025-05-29 14:43:23.325\u001b[0m | \u001b[1mINFO    \u001b[0m | \u001b[35m         noc_perfmon\u001b[0m | \u001b[36m               chipscopy.api.noc.noc_perfmon_utils\u001b[0m | \u001b[36m145 \u001b[0m | \u001b[1mnoc_nmu512_x0y0: rb: 0, wb: 0, rbw: 0.0, wbw: 0.0, arl: 0.0, awl: 0.0\u001b[0m\n",
            "\u001b[32m2025-05-29 14:43:23.328\u001b[0m | \u001b[1mINFO    \u001b[0m | \u001b[35m         noc_perfmon\u001b[0m | \u001b[36m               chipscopy.api.noc.noc_perfmon_utils\u001b[0m | \u001b[36m145 \u001b[0m | \u001b[1mddrmc_x0y0: rb: 0.0, wb: 0.0, rbw: 0.0, wbw: 0.0, arl: 0.0, awl: 0.0\u001b[0m\n",
            "\u001b[32m2025-05-29 14:43:23.731\u001b[0m | \u001b[1mINFO    \u001b[0m | \u001b[35m         noc_perfmon\u001b[0m | \u001b[36m               chipscopy.api.noc.noc_perfmon_utils\u001b[0m | \u001b[36m365 \u001b[0m | \u001b[1m{'dc0_activates': 0, 'dc0_read_cas': 0, 'dc0_write_cas': 0, 'dc0_precharge': 0, 'dc0_precharge_all': 0, 'dc0_refresh': 86037, 'dc0_idle': 536870912, 'dc0_overhead': 0, 'dc0_bus_turnarounds': 0, 'dc1_activates': 0, 'dc1_read_cas': 59, 'dc1_write_cas': 0, 'dc1_precharge': 0, 'dc1_precharge_all': 0, 'dc1_refresh': 0, 'dc1_idle': 0, 'dc1_overhead': 0, 'dc1_bus_turnarounds': 0}\u001b[0m\n",
            "\u001b[32m2025-05-29 14:43:23.935\u001b[0m | \u001b[1mINFO    \u001b[0m | \u001b[35m         noc_perfmon\u001b[0m | \u001b[36m               chipscopy.api.noc.noc_perfmon_utils\u001b[0m | \u001b[36m145 \u001b[0m | \u001b[1mddrmc_x0y0: rb: 0.0, wb: 0.0, rbw: 0.0, wbw: 0.0, arl: 0.0, awl: 0.0\u001b[0m\n",
            "\u001b[32m2025-05-29 14:43:24.238\u001b[0m | \u001b[1mINFO    \u001b[0m | \u001b[35m         noc_perfmon\u001b[0m | \u001b[36m               chipscopy.api.noc.noc_perfmon_utils\u001b[0m | \u001b[36m145 \u001b[0m | \u001b[1mnoc_nmu512_x0y0: rb: 0, wb: 0, rbw: 0.0, wbw: 0.0, arl: 0.0, awl: 0.0\u001b[0m\n",
            "\u001b[32m2025-05-29 14:43:24.342\u001b[0m | \u001b[1mINFO    \u001b[0m | \u001b[35m         noc_perfmon\u001b[0m | \u001b[36m               chipscopy.api.noc.noc_perfmon_utils\u001b[0m | \u001b[36m365 \u001b[0m | \u001b[1m{'dc0_activates': 0, 'dc0_read_cas': 0, 'dc0_write_cas': 0, 'dc0_precharge': 0, 'dc0_precharge_all': 0, 'dc0_refresh': 86037, 'dc0_idle': 536870912, 'dc0_overhead': 0, 'dc0_bus_turnarounds': 0, 'dc1_activates': 0, 'dc1_read_cas': 59, 'dc1_write_cas': 0, 'dc1_precharge': 0, 'dc1_precharge_all': 0, 'dc1_refresh': 0, 'dc1_idle': 0, 'dc1_overhead': 0, 'dc1_bus_turnarounds': 0}\u001b[0m\n",
            "\u001b[32m2025-05-29 14:43:24.444\u001b[0m | \u001b[1mINFO    \u001b[0m | \u001b[35m         noc_perfmon\u001b[0m | \u001b[36m               chipscopy.api.noc.noc_perfmon_utils\u001b[0m | \u001b[36m145 \u001b[0m | \u001b[1mddrmc_x0y0: rb: 0.0, wb: 0.0, rbw: 0.0, wbw: 0.0, arl: 0.0, awl: 0.0\u001b[0m\n",
            "\u001b[32m2025-05-29 14:43:24.948\u001b[0m | \u001b[1mINFO    \u001b[0m | \u001b[35m         noc_perfmon\u001b[0m | \u001b[36m               chipscopy.api.noc.noc_perfmon_utils\u001b[0m | \u001b[36m145 \u001b[0m | \u001b[1mddrmc_x0y0: rb: 0.0, wb: 0.0, rbw: 0.0, wbw: 0.0, arl: 0.0, awl: 0.0\u001b[0m\n",
            "\u001b[32m2025-05-29 14:43:25.051\u001b[0m | \u001b[1mINFO    \u001b[0m | \u001b[35m         noc_perfmon\u001b[0m | \u001b[36m               chipscopy.api.noc.noc_perfmon_utils\u001b[0m | \u001b[36m365 \u001b[0m | \u001b[1m{'dc0_activates': 0, 'dc0_read_cas': 0, 'dc0_write_cas': 0, 'dc0_precharge': 0, 'dc0_precharge_all': 0, 'dc0_refresh': 86037, 'dc0_idle': 536870912, 'dc0_overhead': 0, 'dc0_bus_turnarounds': 0, 'dc1_activates': 0, 'dc1_read_cas': 59, 'dc1_write_cas': 0, 'dc1_precharge': 0, 'dc1_precharge_all': 0, 'dc1_refresh': 0, 'dc1_idle': 0, 'dc1_overhead': 0, 'dc1_bus_turnarounds': 0}\u001b[0m\n",
            "\u001b[32m2025-05-29 14:43:25.154\u001b[0m | \u001b[1mINFO    \u001b[0m | \u001b[35m         noc_perfmon\u001b[0m | \u001b[36m               chipscopy.api.noc.noc_perfmon_utils\u001b[0m | \u001b[36m145 \u001b[0m | \u001b[1mnoc_nmu512_x0y0: rb: 0, wb: 0, rbw: 0.0, wbw: 0.0, arl: 0.0, awl: 0.0\u001b[0m\n",
            "\u001b[32m2025-05-29 14:43:25.557\u001b[0m | \u001b[1mINFO    \u001b[0m | \u001b[35m         noc_perfmon\u001b[0m | \u001b[36m               chipscopy.api.noc.noc_perfmon_utils\u001b[0m | \u001b[36m145 \u001b[0m | \u001b[1mddrmc_x0y0: rb: 0.0, wb: 0.0, rbw: 0.0, wbw: 0.0, arl: 0.0, awl: 0.0\u001b[0m\n",
            "\u001b[32m2025-05-29 14:43:25.760\u001b[0m | \u001b[1mINFO    \u001b[0m | \u001b[35m         noc_perfmon\u001b[0m | \u001b[36m               chipscopy.api.noc.noc_perfmon_utils\u001b[0m | \u001b[36m365 \u001b[0m | \u001b[1m{'dc0_activates': 0, 'dc0_read_cas': 0, 'dc0_write_cas': 0, 'dc0_precharge': 0, 'dc0_precharge_all': 0, 'dc0_refresh': 86037, 'dc0_idle': 536870912, 'dc0_overhead': 0, 'dc0_bus_turnarounds': 0, 'dc1_activates': 0, 'dc1_read_cas': 59, 'dc1_write_cas': 0, 'dc1_precharge': 0, 'dc1_precharge_all': 0, 'dc1_refresh': 0, 'dc1_idle': 0, 'dc1_overhead': 0, 'dc1_bus_turnarounds': 0}\u001b[0m\n",
            "\u001b[32m2025-05-29 14:43:26.064\u001b[0m | \u001b[1mINFO    \u001b[0m | \u001b[35m         noc_perfmon\u001b[0m | \u001b[36m               chipscopy.api.noc.noc_perfmon_utils\u001b[0m | \u001b[36m145 \u001b[0m | \u001b[1mnoc_nmu512_x0y0: rb: 0, wb: 0, rbw: 0.0, wbw: 0.0, arl: 0.0, awl: 0.0\u001b[0m\n",
            "\u001b[32m2025-05-29 14:43:26.066\u001b[0m | \u001b[1mINFO    \u001b[0m | \u001b[35m         noc_perfmon\u001b[0m | \u001b[36m               chipscopy.api.noc.noc_perfmon_utils\u001b[0m | \u001b[36m145 \u001b[0m | \u001b[1mddrmc_x0y0: rb: 0.0, wb: 0.0, rbw: 0.0, wbw: 0.0, arl: 0.0, awl: 0.0\u001b[0m\n",
            "\u001b[32m2025-05-29 14:43:26.369\u001b[0m | \u001b[1mINFO    \u001b[0m | \u001b[35m         noc_perfmon\u001b[0m | \u001b[36m               chipscopy.api.noc.noc_perfmon_utils\u001b[0m | \u001b[36m365 \u001b[0m | \u001b[1m{'dc0_activates': 0, 'dc0_read_cas': 0, 'dc0_write_cas': 0, 'dc0_precharge': 0, 'dc0_precharge_all': 0, 'dc0_refresh': 86037, 'dc0_idle': 536870912, 'dc0_overhead': 0, 'dc0_bus_turnarounds': 0, 'dc1_activates': 0, 'dc1_read_cas': 59, 'dc1_write_cas': 0, 'dc1_precharge': 0, 'dc1_precharge_all': 0, 'dc1_refresh': 0, 'dc1_idle': 0, 'dc1_overhead': 0, 'dc1_bus_turnarounds': 0}\u001b[0m\n",
            "\u001b[32m2025-05-29 14:43:26.571\u001b[0m | \u001b[1mINFO    \u001b[0m | \u001b[35m         noc_perfmon\u001b[0m | \u001b[36m               chipscopy.api.noc.noc_perfmon_utils\u001b[0m | \u001b[36m145 \u001b[0m | \u001b[1mddrmc_x0y0: rb: 0.0, wb: 0.0, rbw: 0.0, wbw: 0.0, arl: 0.0, awl: 0.0\u001b[0m\n",
            "\u001b[32m2025-05-29 14:43:26.975\u001b[0m | \u001b[1mINFO    \u001b[0m | \u001b[35m         noc_perfmon\u001b[0m | \u001b[36m               chipscopy.api.noc.noc_perfmon_utils\u001b[0m | \u001b[36m145 \u001b[0m | \u001b[1mnoc_nmu512_x0y0: rb: 0, wb: 0, rbw: 0.0, wbw: 0.0, arl: 0.0, awl: 0.0\u001b[0m\n",
            "\u001b[32m2025-05-29 14:43:27.077\u001b[0m | \u001b[1mINFO    \u001b[0m | \u001b[35m         noc_perfmon\u001b[0m | \u001b[36m               chipscopy.api.noc.noc_perfmon_utils\u001b[0m | \u001b[36m365 \u001b[0m | \u001b[1m{'dc0_activates': 0, 'dc0_read_cas': 0, 'dc0_write_cas': 0, 'dc0_precharge': 0, 'dc0_precharge_all': 0, 'dc0_refresh': 86037, 'dc0_idle': 536870912, 'dc0_overhead': 0, 'dc0_bus_turnarounds': 0, 'dc1_activates': 0, 'dc1_read_cas': 59, 'dc1_write_cas': 0, 'dc1_precharge': 0, 'dc1_precharge_all': 0, 'dc1_refresh': 0, 'dc1_idle': 0, 'dc1_overhead': 0, 'dc1_bus_turnarounds': 0}\u001b[0m\n",
            "\u001b[32m2025-05-29 14:43:27.180\u001b[0m | \u001b[1mINFO    \u001b[0m | \u001b[35m         noc_perfmon\u001b[0m | \u001b[36m               chipscopy.api.noc.noc_perfmon_utils\u001b[0m | \u001b[36m145 \u001b[0m | \u001b[1mddrmc_x0y0: rb: 0.0, wb: 0.0, rbw: 0.0, wbw: 0.0, arl: 0.0, awl: 0.0\u001b[0m\n",
            "\u001b[32m2025-05-29 14:43:27.684\u001b[0m | \u001b[1mINFO    \u001b[0m | \u001b[35m         noc_perfmon\u001b[0m | \u001b[36m               chipscopy.api.noc.noc_perfmon_utils\u001b[0m | \u001b[36m145 \u001b[0m | \u001b[1mddrmc_x0y0: rb: 0.0, wb: 0.0, rbw: 0.0, wbw: 0.0, arl: 0.0, awl: 0.0\u001b[0m\n",
            "\u001b[32m2025-05-29 14:43:27.786\u001b[0m | \u001b[1mINFO    \u001b[0m | \u001b[35m         noc_perfmon\u001b[0m | \u001b[36m               chipscopy.api.noc.noc_perfmon_utils\u001b[0m | \u001b[36m365 \u001b[0m | \u001b[1m{'dc0_activates': 0, 'dc0_read_cas': 0, 'dc0_write_cas': 0, 'dc0_precharge': 0, 'dc0_precharge_all': 0, 'dc0_refresh': 86037, 'dc0_idle': 536870912, 'dc0_overhead': 0, 'dc0_bus_turnarounds': 0, 'dc1_activates': 0, 'dc1_read_cas': 59, 'dc1_write_cas': 0, 'dc1_precharge': 0, 'dc1_precharge_all': 0, 'dc1_refresh': 0, 'dc1_idle': 0, 'dc1_overhead': 0, 'dc1_bus_turnarounds': 0}\u001b[0m\n",
            "\u001b[32m2025-05-29 14:43:27.787\u001b[0m | \u001b[1mINFO    \u001b[0m | \u001b[35m         noc_perfmon\u001b[0m | \u001b[36m               chipscopy.api.noc.noc_perfmon_utils\u001b[0m | \u001b[36m145 \u001b[0m | \u001b[1mnoc_nmu512_x0y0: rb: 0, wb: 0, rbw: 0.0, wbw: 0.0, arl: 0.0, awl: 0.0\u001b[0m\n",
            "\u001b[32m2025-05-29 14:43:28.291\u001b[0m | \u001b[1mINFO    \u001b[0m | \u001b[35m         noc_perfmon\u001b[0m | \u001b[36m               chipscopy.api.noc.noc_perfmon_utils\u001b[0m | \u001b[36m145 \u001b[0m | \u001b[1mddrmc_x0y0: rb: 0.0, wb: 0.0, rbw: 0.0, wbw: 0.0, arl: 0.0, awl: 0.0\u001b[0m\n",
            "\u001b[32m2025-05-29 14:43:28.394\u001b[0m | \u001b[1mINFO    \u001b[0m | \u001b[35m         noc_perfmon\u001b[0m | \u001b[36m               chipscopy.api.noc.noc_perfmon_utils\u001b[0m | \u001b[36m365 \u001b[0m | \u001b[1m{'dc0_activates': 0, 'dc0_read_cas': 0, 'dc0_write_cas': 0, 'dc0_precharge': 0, 'dc0_precharge_all': 0, 'dc0_refresh': 86037, 'dc0_idle': 536870912, 'dc0_overhead': 0, 'dc0_bus_turnarounds': 0, 'dc1_activates': 0, 'dc1_read_cas': 59, 'dc1_write_cas': 0, 'dc1_precharge': 0, 'dc1_precharge_all': 0, 'dc1_refresh': 0, 'dc1_idle': 0, 'dc1_overhead': 0, 'dc1_bus_turnarounds': 0}\u001b[0m\n",
            "\u001b[32m2025-05-29 14:43:28.698\u001b[0m | \u001b[1mINFO    \u001b[0m | \u001b[35m         noc_perfmon\u001b[0m | \u001b[36m               chipscopy.api.noc.noc_perfmon_utils\u001b[0m | \u001b[36m145 \u001b[0m | \u001b[1mnoc_nmu512_x0y0: rb: 0, wb: 0, rbw: 0.0, wbw: 0.0, arl: 0.0, awl: 0.0\u001b[0m\n",
            "\u001b[32m2025-05-29 14:43:28.802\u001b[0m | \u001b[1mINFO    \u001b[0m | \u001b[35m         noc_perfmon\u001b[0m | \u001b[36m               chipscopy.api.noc.noc_perfmon_utils\u001b[0m | \u001b[36m145 \u001b[0m | \u001b[1mddrmc_x0y0: rb: 0.0, wb: 0.0, rbw: 0.0, wbw: 0.0, arl: 0.0, awl: 0.0\u001b[0m\n",
            "\u001b[32m2025-05-29 14:43:29.105\u001b[0m | \u001b[1mINFO    \u001b[0m | \u001b[35m         noc_perfmon\u001b[0m | \u001b[36m               chipscopy.api.noc.noc_perfmon_utils\u001b[0m | \u001b[36m365 \u001b[0m | \u001b[1m{'dc0_activates': 0, 'dc0_read_cas': 0, 'dc0_write_cas': 0, 'dc0_precharge': 0, 'dc0_precharge_all': 0, 'dc0_refresh': 86037, 'dc0_idle': 536870912, 'dc0_overhead': 0, 'dc0_bus_turnarounds': 0, 'dc1_activates': 0, 'dc1_read_cas': 59, 'dc1_write_cas': 0, 'dc1_precharge': 0, 'dc1_precharge_all': 0, 'dc1_refresh': 0, 'dc1_idle': 0, 'dc1_overhead': 0, 'dc1_bus_turnarounds': 0}\u001b[0m\n",
            "\u001b[32m2025-05-29 14:43:29.308\u001b[0m | \u001b[1mINFO    \u001b[0m | \u001b[35m         noc_perfmon\u001b[0m | \u001b[36m               chipscopy.api.noc.noc_perfmon_utils\u001b[0m | \u001b[36m145 \u001b[0m | \u001b[1mddrmc_x0y0: rb: 0.0, wb: 0.0, rbw: 0.0, wbw: 0.0, arl: 0.0, awl: 0.0\u001b[0m\n",
            "\u001b[32m2025-05-29 14:43:29.612\u001b[0m | \u001b[1mINFO    \u001b[0m | \u001b[35m         noc_perfmon\u001b[0m | \u001b[36m               chipscopy.api.noc.noc_perfmon_utils\u001b[0m | \u001b[36m145 \u001b[0m | \u001b[1mnoc_nmu512_x0y0: rb: 0, wb: 0, rbw: 0.0, wbw: 0.0, arl: 0.0, awl: 0.0\u001b[0m\n",
            "\u001b[32m2025-05-29 14:43:29.816\u001b[0m | \u001b[1mINFO    \u001b[0m | \u001b[35m         noc_perfmon\u001b[0m | \u001b[36m               chipscopy.api.noc.noc_perfmon_utils\u001b[0m | \u001b[36m365 \u001b[0m | \u001b[1m{'dc0_activates': 0, 'dc0_read_cas': 0, 'dc0_write_cas': 0, 'dc0_precharge': 0, 'dc0_precharge_all': 0, 'dc0_refresh': 86037, 'dc0_idle': 536870912, 'dc0_overhead': 0, 'dc0_bus_turnarounds': 0, 'dc1_activates': 0, 'dc1_read_cas': 59, 'dc1_write_cas': 0, 'dc1_precharge': 0, 'dc1_precharge_all': 0, 'dc1_refresh': 0, 'dc1_idle': 0, 'dc1_overhead': 0, 'dc1_bus_turnarounds': 0}\u001b[0m\n",
            "\u001b[32m2025-05-29 14:43:29.819\u001b[0m | \u001b[1mINFO    \u001b[0m | \u001b[35m         noc_perfmon\u001b[0m | \u001b[36m               chipscopy.api.noc.noc_perfmon_utils\u001b[0m | \u001b[36m145 \u001b[0m | \u001b[1mddrmc_x0y0: rb: 0.0, wb: 0.0, rbw: 0.0, wbw: 0.0, arl: 0.0, awl: 0.0\u001b[0m\n",
            "\u001b[32m2025-05-29 14:43:30.423\u001b[0m | \u001b[1mINFO    \u001b[0m | \u001b[35m         noc_perfmon\u001b[0m | \u001b[36m               chipscopy.api.noc.noc_perfmon_utils\u001b[0m | \u001b[36m145 \u001b[0m | \u001b[1mddrmc_x0y0: rb: 0.0, wb: 0.0, rbw: 0.0, wbw: 0.0, arl: 0.0, awl: 0.0\u001b[0m\n",
            "\u001b[32m2025-05-29 14:43:30.425\u001b[0m | \u001b[1mINFO    \u001b[0m | \u001b[35m         noc_perfmon\u001b[0m | \u001b[36m               chipscopy.api.noc.noc_perfmon_utils\u001b[0m | \u001b[36m365 \u001b[0m | \u001b[1m{'dc0_activates': 0, 'dc0_read_cas': 0, 'dc0_write_cas': 0, 'dc0_precharge': 0, 'dc0_precharge_all': 0, 'dc0_refresh': 86037, 'dc0_idle': 536870912, 'dc0_overhead': 0, 'dc0_bus_turnarounds': 0, 'dc1_activates': 0, 'dc1_read_cas': 59, 'dc1_write_cas': 0, 'dc1_precharge': 0, 'dc1_precharge_all': 0, 'dc1_refresh': 0, 'dc1_idle': 0, 'dc1_overhead': 0, 'dc1_bus_turnarounds': 0}\u001b[0m\n",
            "\u001b[32m2025-05-29 14:43:30.527\u001b[0m | \u001b[1mINFO    \u001b[0m | \u001b[35m         noc_perfmon\u001b[0m | \u001b[36m               chipscopy.api.noc.noc_perfmon_utils\u001b[0m | \u001b[36m145 \u001b[0m | \u001b[1mnoc_nmu512_x0y0: rb: 0, wb: 0, rbw: 0.0, wbw: 0.0, arl: 0.0, awl: 0.0\u001b[0m\n",
            "\u001b[32m2025-05-29 14:43:30.931\u001b[0m | \u001b[1mINFO    \u001b[0m | \u001b[35m         noc_perfmon\u001b[0m | \u001b[36m               chipscopy.api.noc.noc_perfmon_utils\u001b[0m | \u001b[36m145 \u001b[0m | \u001b[1mddrmc_x0y0: rb: 0.0, wb: 0.0, rbw: 0.0, wbw: 0.0, arl: 0.0, awl: 0.0\u001b[0m\n",
            "\u001b[32m2025-05-29 14:43:31.134\u001b[0m | \u001b[1mINFO    \u001b[0m | \u001b[35m         noc_perfmon\u001b[0m | \u001b[36m               chipscopy.api.noc.noc_perfmon_utils\u001b[0m | \u001b[36m365 \u001b[0m | \u001b[1m{'dc0_activates': 0, 'dc0_read_cas': 0, 'dc0_write_cas': 0, 'dc0_precharge': 0, 'dc0_precharge_all': 0, 'dc0_refresh': 86037, 'dc0_idle': 536870912, 'dc0_overhead': 0, 'dc0_bus_turnarounds': 0, 'dc1_activates': 0, 'dc1_read_cas': 59, 'dc1_write_cas': 0, 'dc1_precharge': 0, 'dc1_precharge_all': 0, 'dc1_refresh': 0, 'dc1_idle': 0, 'dc1_overhead': 0, 'dc1_bus_turnarounds': 0}\u001b[0m\n",
            "\u001b[32m2025-05-29 14:43:31.437\u001b[0m | \u001b[1mINFO    \u001b[0m | \u001b[35m         noc_perfmon\u001b[0m | \u001b[36m               chipscopy.api.noc.noc_perfmon_utils\u001b[0m | \u001b[36m145 \u001b[0m | \u001b[1mnoc_nmu512_x0y0: rb: 0, wb: 0, rbw: 0.0, wbw: 0.0, arl: 0.0, awl: 0.0\u001b[0m\n",
            "\u001b[32m2025-05-29 14:43:31.540\u001b[0m | \u001b[1mINFO    \u001b[0m | \u001b[35m         noc_perfmon\u001b[0m | \u001b[36m               chipscopy.api.noc.noc_perfmon_utils\u001b[0m | \u001b[36m145 \u001b[0m | \u001b[1mddrmc_x0y0: rb: 0.0, wb: 0.0, rbw: 0.0, wbw: 0.0, arl: 0.0, awl: 0.0\u001b[0m\n",
            "\u001b[32m2025-05-29 14:43:31.843\u001b[0m | \u001b[1mINFO    \u001b[0m | \u001b[35m         noc_perfmon\u001b[0m | \u001b[36m               chipscopy.api.noc.noc_perfmon_utils\u001b[0m | \u001b[36m365 \u001b[0m | \u001b[1m{'dc0_activates': 0, 'dc0_read_cas': 0, 'dc0_write_cas': 0, 'dc0_precharge': 0, 'dc0_precharge_all': 0, 'dc0_refresh': 86037, 'dc0_idle': 536870912, 'dc0_overhead': 0, 'dc0_bus_turnarounds': 0, 'dc1_activates': 0, 'dc1_read_cas': 59, 'dc1_write_cas': 0, 'dc1_precharge': 0, 'dc1_precharge_all': 0, 'dc1_refresh': 0, 'dc1_idle': 0, 'dc1_overhead': 0, 'dc1_bus_turnarounds': 0}\u001b[0m\n",
            "\u001b[32m2025-05-29 14:43:32.047\u001b[0m | \u001b[1mINFO    \u001b[0m | \u001b[35m         noc_perfmon\u001b[0m | \u001b[36m               chipscopy.api.noc.noc_perfmon_utils\u001b[0m | \u001b[36m145 \u001b[0m | \u001b[1mddrmc_x0y0: rb: 0.0, wb: 0.0, rbw: 0.0, wbw: 0.0, arl: 0.0, awl: 0.0\u001b[0m\n",
            "\u001b[32m2025-05-29 14:43:32.349\u001b[0m | \u001b[1mINFO    \u001b[0m | \u001b[35m         noc_perfmon\u001b[0m | \u001b[36m               chipscopy.api.noc.noc_perfmon_utils\u001b[0m | \u001b[36m145 \u001b[0m | \u001b[1mnoc_nmu512_x0y0: rb: 0, wb: 0, rbw: 0.0, wbw: 0.0, arl: 0.0, awl: 0.0\u001b[0m\n",
            "\u001b[32m2025-05-29 14:43:32.452\u001b[0m | \u001b[1mINFO    \u001b[0m | \u001b[35m         noc_perfmon\u001b[0m | \u001b[36m               chipscopy.api.noc.noc_perfmon_utils\u001b[0m | \u001b[36m365 \u001b[0m | \u001b[1m{'dc0_activates': 0, 'dc0_read_cas': 0, 'dc0_write_cas': 0, 'dc0_precharge': 0, 'dc0_precharge_all': 0, 'dc0_refresh': 86037, 'dc0_idle': 536870912, 'dc0_overhead': 0, 'dc0_bus_turnarounds': 0, 'dc1_activates': 0, 'dc1_read_cas': 59, 'dc1_write_cas': 0, 'dc1_precharge': 0, 'dc1_precharge_all': 0, 'dc1_refresh': 0, 'dc1_idle': 0, 'dc1_overhead': 0, 'dc1_bus_turnarounds': 0}\u001b[0m\n",
            "\u001b[32m2025-05-29 14:43:32.554\u001b[0m | \u001b[1mINFO    \u001b[0m | \u001b[35m         noc_perfmon\u001b[0m | \u001b[36m               chipscopy.api.noc.noc_perfmon_utils\u001b[0m | \u001b[36m145 \u001b[0m | \u001b[1mddrmc_x0y0: rb: 0.0, wb: 0.0, rbw: 0.0, wbw: 0.0, arl: 0.0, awl: 0.0\u001b[0m\n",
            "\u001b[32m2025-05-29 14:43:33.159\u001b[0m | \u001b[1mINFO    \u001b[0m | \u001b[35m         noc_perfmon\u001b[0m | \u001b[36m               chipscopy.api.noc.noc_perfmon_utils\u001b[0m | \u001b[36m145 \u001b[0m | \u001b[1mddrmc_x0y0: rb: 0.0, wb: 0.0, rbw: 0.0, wbw: 0.0, arl: 0.0, awl: 0.0\u001b[0m\n",
            "\u001b[32m2025-05-29 14:43:33.161\u001b[0m | \u001b[1mINFO    \u001b[0m | \u001b[35m         noc_perfmon\u001b[0m | \u001b[36m               chipscopy.api.noc.noc_perfmon_utils\u001b[0m | \u001b[36m365 \u001b[0m | \u001b[1m{'dc0_activates': 0, 'dc0_read_cas': 0, 'dc0_write_cas': 0, 'dc0_precharge': 0, 'dc0_precharge_all': 0, 'dc0_refresh': 86037, 'dc0_idle': 536870912, 'dc0_overhead': 0, 'dc0_bus_turnarounds': 0, 'dc1_activates': 0, 'dc1_read_cas': 59, 'dc1_write_cas': 0, 'dc1_precharge': 0, 'dc1_precharge_all': 0, 'dc1_refresh': 0, 'dc1_idle': 0, 'dc1_overhead': 0, 'dc1_bus_turnarounds': 0}\u001b[0m\n",
            "\u001b[32m2025-05-29 14:43:33.264\u001b[0m | \u001b[1mINFO    \u001b[0m | \u001b[35m         noc_perfmon\u001b[0m | \u001b[36m               chipscopy.api.noc.noc_perfmon_utils\u001b[0m | \u001b[36m145 \u001b[0m | \u001b[1mnoc_nmu512_x0y0: rb: 0, wb: 0, rbw: 0.0, wbw: 0.0, arl: 0.0, awl: 0.0\u001b[0m\n",
            "\u001b[32m2025-05-29 14:43:33.668\u001b[0m | \u001b[1mINFO    \u001b[0m | \u001b[35m         noc_perfmon\u001b[0m | \u001b[36m               chipscopy.api.noc.noc_perfmon_utils\u001b[0m | \u001b[36m145 \u001b[0m | \u001b[1mddrmc_x0y0: rb: 0.0, wb: 0.0, rbw: 0.0, wbw: 0.0, arl: 0.0, awl: 0.0\u001b[0m\n",
            "\u001b[32m2025-05-29 14:43:33.871\u001b[0m | \u001b[1mINFO    \u001b[0m | \u001b[35m         noc_perfmon\u001b[0m | \u001b[36m               chipscopy.api.noc.noc_perfmon_utils\u001b[0m | \u001b[36m365 \u001b[0m | \u001b[1m{'dc0_activates': 0, 'dc0_read_cas': 0, 'dc0_write_cas': 0, 'dc0_precharge': 0, 'dc0_precharge_all': 0, 'dc0_refresh': 86037, 'dc0_idle': 536870912, 'dc0_overhead': 0, 'dc0_bus_turnarounds': 0, 'dc1_activates': 0, 'dc1_read_cas': 59, 'dc1_write_cas': 0, 'dc1_precharge': 0, 'dc1_precharge_all': 0, 'dc1_refresh': 0, 'dc1_idle': 0, 'dc1_overhead': 0, 'dc1_bus_turnarounds': 0}\u001b[0m\n",
            "\u001b[32m2025-05-29 14:43:34.074\u001b[0m | \u001b[1mINFO    \u001b[0m | \u001b[35m         noc_perfmon\u001b[0m | \u001b[36m               chipscopy.api.noc.noc_perfmon_utils\u001b[0m | \u001b[36m145 \u001b[0m | \u001b[1mnoc_nmu512_x0y0: rb: 0, wb: 0, rbw: 0.0, wbw: 0.0, arl: 0.0, awl: 0.0\u001b[0m\n",
            "\u001b[32m2025-05-29 14:43:34.178\u001b[0m | \u001b[1mINFO    \u001b[0m | \u001b[35m         noc_perfmon\u001b[0m | \u001b[36m               chipscopy.api.noc.noc_perfmon_utils\u001b[0m | \u001b[36m145 \u001b[0m | \u001b[1mddrmc_x0y0: rb: 0.0, wb: 0.0, rbw: 0.0, wbw: 0.0, arl: 0.0, awl: 0.0\u001b[0m\n",
            "\u001b[32m2025-05-29 14:43:34.481\u001b[0m | \u001b[1mINFO    \u001b[0m | \u001b[35m         noc_perfmon\u001b[0m | \u001b[36m               chipscopy.api.noc.noc_perfmon_utils\u001b[0m | \u001b[36m365 \u001b[0m | \u001b[1m{'dc0_activates': 0, 'dc0_read_cas': 0, 'dc0_write_cas': 0, 'dc0_precharge': 0, 'dc0_precharge_all': 0, 'dc0_refresh': 86037, 'dc0_idle': 536870912, 'dc0_overhead': 0, 'dc0_bus_turnarounds': 0, 'dc1_activates': 0, 'dc1_read_cas': 59, 'dc1_write_cas': 0, 'dc1_precharge': 0, 'dc1_precharge_all': 0, 'dc1_refresh': 0, 'dc1_idle': 0, 'dc1_overhead': 0, 'dc1_bus_turnarounds': 0}\u001b[0m\n",
            "\u001b[32m2025-05-29 14:43:34.785\u001b[0m | \u001b[1mINFO    \u001b[0m | \u001b[35m         noc_perfmon\u001b[0m | \u001b[36m               chipscopy.api.noc.noc_perfmon_utils\u001b[0m | \u001b[36m145 \u001b[0m | \u001b[1mddrmc_x0y0: rb: 0.0, wb: 0.0, rbw: 0.0, wbw: 0.0, arl: 0.0, awl: 0.0\u001b[0m\n",
            "\u001b[32m2025-05-29 14:43:34.988\u001b[0m | \u001b[1mINFO    \u001b[0m | \u001b[35m         noc_perfmon\u001b[0m | \u001b[36m               chipscopy.api.noc.noc_perfmon_utils\u001b[0m | \u001b[36m145 \u001b[0m | \u001b[1mnoc_nmu512_x0y0: rb: 0, wb: 0, rbw: 0.0, wbw: 0.0, arl: 0.0, awl: 0.0\u001b[0m\n",
            "\u001b[32m2025-05-29 14:43:35.190\u001b[0m | \u001b[1mINFO    \u001b[0m | \u001b[35m         noc_perfmon\u001b[0m | \u001b[36m               chipscopy.api.noc.noc_perfmon_utils\u001b[0m | \u001b[36m365 \u001b[0m | \u001b[1m{'dc0_activates': 0, 'dc0_read_cas': 0, 'dc0_write_cas': 0, 'dc0_precharge': 0, 'dc0_precharge_all': 0, 'dc0_refresh': 86037, 'dc0_idle': 536870912, 'dc0_overhead': 0, 'dc0_bus_turnarounds': 0, 'dc1_activates': 0, 'dc1_read_cas': 59, 'dc1_write_cas': 0, 'dc1_precharge': 0, 'dc1_precharge_all': 0, 'dc1_refresh': 0, 'dc1_idle': 0, 'dc1_overhead': 0, 'dc1_bus_turnarounds': 0}\u001b[0m\n",
            "\u001b[32m2025-05-29 14:43:35.295\u001b[0m | \u001b[1mINFO    \u001b[0m | \u001b[35m         noc_perfmon\u001b[0m | \u001b[36m               chipscopy.api.noc.noc_perfmon_utils\u001b[0m | \u001b[36m145 \u001b[0m | \u001b[1mddrmc_x0y0: rb: 0.0, wb: 0.0, rbw: 0.0, wbw: 0.0, arl: 0.0, awl: 0.0\u001b[0m\n",
            "\u001b[32m2025-05-29 14:43:35.799\u001b[0m | \u001b[1mINFO    \u001b[0m | \u001b[35m         noc_perfmon\u001b[0m | \u001b[36m               chipscopy.api.noc.noc_perfmon_utils\u001b[0m | \u001b[36m145 \u001b[0m | \u001b[1mddrmc_x0y0: rb: 0.0, wb: 0.0, rbw: 0.0, wbw: 0.0, arl: 0.0, awl: 0.0\u001b[0m\n",
            "\u001b[32m2025-05-29 14:43:35.902\u001b[0m | \u001b[1mINFO    \u001b[0m | \u001b[35m         noc_perfmon\u001b[0m | \u001b[36m               chipscopy.api.noc.noc_perfmon_utils\u001b[0m | \u001b[36m365 \u001b[0m | \u001b[1m{'dc0_activates': 0, 'dc0_read_cas': 0, 'dc0_write_cas': 0, 'dc0_precharge': 0, 'dc0_precharge_all': 0, 'dc0_refresh': 86037, 'dc0_idle': 536870912, 'dc0_overhead': 0, 'dc0_bus_turnarounds': 0, 'dc1_activates': 0, 'dc1_read_cas': 59, 'dc1_write_cas': 0, 'dc1_precharge': 0, 'dc1_precharge_all': 0, 'dc1_refresh': 0, 'dc1_idle': 0, 'dc1_overhead': 0, 'dc1_bus_turnarounds': 0}\u001b[0m\n",
            "\u001b[32m2025-05-29 14:43:35.905\u001b[0m | \u001b[1mINFO    \u001b[0m | \u001b[35m         noc_perfmon\u001b[0m | \u001b[36m               chipscopy.api.noc.noc_perfmon_utils\u001b[0m | \u001b[36m145 \u001b[0m | \u001b[1mnoc_nmu512_x0y0: rb: 0, wb: 0, rbw: 0.0, wbw: 0.0, arl: 0.0, awl: 0.0\u001b[0m\n",
            "\u001b[32m2025-05-29 14:43:36.408\u001b[0m | \u001b[1mINFO    \u001b[0m | \u001b[35m         noc_perfmon\u001b[0m | \u001b[36m               chipscopy.api.noc.noc_perfmon_utils\u001b[0m | \u001b[36m145 \u001b[0m | \u001b[1mddrmc_x0y0: rb: 0.0, wb: 0.0, rbw: 0.0, wbw: 0.0, arl: 0.0, awl: 0.0\u001b[0m\n",
            "\u001b[32m2025-05-29 14:43:36.511\u001b[0m | \u001b[1mINFO    \u001b[0m | \u001b[35m         noc_perfmon\u001b[0m | \u001b[36m               chipscopy.api.noc.noc_perfmon_utils\u001b[0m | \u001b[36m365 \u001b[0m | \u001b[1m{'dc0_activates': 0, 'dc0_read_cas': 0, 'dc0_write_cas': 0, 'dc0_precharge': 0, 'dc0_precharge_all': 0, 'dc0_refresh': 86037, 'dc0_idle': 536870912, 'dc0_overhead': 0, 'dc0_bus_turnarounds': 0, 'dc1_activates': 0, 'dc1_read_cas': 59, 'dc1_write_cas': 0, 'dc1_precharge': 0, 'dc1_precharge_all': 0, 'dc1_refresh': 0, 'dc1_idle': 0, 'dc1_overhead': 0, 'dc1_bus_turnarounds': 0}\u001b[0m\n",
            "\u001b[32m2025-05-29 14:43:36.814\u001b[0m | \u001b[1mINFO    \u001b[0m | \u001b[35m         noc_perfmon\u001b[0m | \u001b[36m               chipscopy.api.noc.noc_perfmon_utils\u001b[0m | \u001b[36m145 \u001b[0m | \u001b[1mnoc_nmu512_x0y0: rb: 0, wb: 0, rbw: 0.0, wbw: 0.0, arl: 0.0, awl: 0.0\u001b[0m\n",
            "\u001b[32m2025-05-29 14:43:36.917\u001b[0m | \u001b[1mINFO    \u001b[0m | \u001b[35m         noc_perfmon\u001b[0m | \u001b[36m               chipscopy.api.noc.noc_perfmon_utils\u001b[0m | \u001b[36m145 \u001b[0m | \u001b[1mddrmc_x0y0: rb: 0.0, wb: 0.0, rbw: 0.0, wbw: 0.0, arl: 0.0, awl: 0.0\u001b[0m\n",
            "\u001b[32m2025-05-29 14:43:37.222\u001b[0m | \u001b[1mINFO    \u001b[0m | \u001b[35m         noc_perfmon\u001b[0m | \u001b[36m               chipscopy.api.noc.noc_perfmon_utils\u001b[0m | \u001b[36m365 \u001b[0m | \u001b[1m{'dc0_activates': 0, 'dc0_read_cas': 0, 'dc0_write_cas': 0, 'dc0_precharge': 0, 'dc0_precharge_all': 0, 'dc0_refresh': 86037, 'dc0_idle': 536870912, 'dc0_overhead': 0, 'dc0_bus_turnarounds': 0, 'dc1_activates': 0, 'dc1_read_cas': 59, 'dc1_write_cas': 0, 'dc1_precharge': 0, 'dc1_precharge_all': 0, 'dc1_refresh': 0, 'dc1_idle': 0, 'dc1_overhead': 0, 'dc1_bus_turnarounds': 0}\u001b[0m\n",
            "\u001b[32m2025-05-29 14:43:37.526\u001b[0m | \u001b[1mINFO    \u001b[0m | \u001b[35m         noc_perfmon\u001b[0m | \u001b[36m               chipscopy.api.noc.noc_perfmon_utils\u001b[0m | \u001b[36m145 \u001b[0m | \u001b[1mddrmc_x0y0: rb: 0.0, wb: 0.0, rbw: 0.0, wbw: 0.0, arl: 0.0, awl: 0.0\u001b[0m\n",
            "\u001b[32m2025-05-29 14:43:37.730\u001b[0m | \u001b[1mINFO    \u001b[0m | \u001b[35m         noc_perfmon\u001b[0m | \u001b[36m               chipscopy.api.noc.noc_perfmon_utils\u001b[0m | \u001b[36m145 \u001b[0m | \u001b[1mnoc_nmu512_x0y0: rb: 0, wb: 0, rbw: 0.0, wbw: 0.0, arl: 0.0, awl: 0.0\u001b[0m\n",
            "\u001b[32m2025-05-29 14:43:37.933\u001b[0m | \u001b[1mINFO    \u001b[0m | \u001b[35m         noc_perfmon\u001b[0m | \u001b[36m               chipscopy.api.noc.noc_perfmon_utils\u001b[0m | \u001b[36m365 \u001b[0m | \u001b[1m{'dc0_activates': 0, 'dc0_read_cas': 0, 'dc0_write_cas': 0, 'dc0_precharge': 0, 'dc0_precharge_all': 0, 'dc0_refresh': 86037, 'dc0_idle': 536870912, 'dc0_overhead': 0, 'dc0_bus_turnarounds': 0, 'dc1_activates': 0, 'dc1_read_cas': 59, 'dc1_write_cas': 0, 'dc1_precharge': 0, 'dc1_precharge_all': 0, 'dc1_refresh': 0, 'dc1_idle': 0, 'dc1_overhead': 0, 'dc1_bus_turnarounds': 0}\u001b[0m\n",
            "\u001b[32m2025-05-29 14:43:38.035\u001b[0m | \u001b[1mINFO    \u001b[0m | \u001b[35m         noc_perfmon\u001b[0m | \u001b[36m               chipscopy.api.noc.noc_perfmon_utils\u001b[0m | \u001b[36m145 \u001b[0m | \u001b[1mddrmc_x0y0: rb: 0.0, wb: 0.0, rbw: 0.0, wbw: 0.0, arl: 0.0, awl: 0.0\u001b[0m\n",
            "\u001b[32m2025-05-29 14:43:38.539\u001b[0m | \u001b[1mINFO    \u001b[0m | \u001b[35m         noc_perfmon\u001b[0m | \u001b[36m               chipscopy.api.noc.noc_perfmon_utils\u001b[0m | \u001b[36m365 \u001b[0m | \u001b[1m{'dc0_activates': 0, 'dc0_read_cas': 0, 'dc0_write_cas': 0, 'dc0_precharge': 0, 'dc0_precharge_all': 0, 'dc0_refresh': 86037, 'dc0_idle': 536870912, 'dc0_overhead': 0, 'dc0_bus_turnarounds': 0, 'dc1_activates': 0, 'dc1_read_cas': 59, 'dc1_write_cas': 0, 'dc1_precharge': 0, 'dc1_precharge_all': 0, 'dc1_refresh': 0, 'dc1_idle': 0, 'dc1_overhead': 0, 'dc1_bus_turnarounds': 0}\u001b[0m\n",
            "\u001b[32m2025-05-29 14:43:38.541\u001b[0m | \u001b[1mINFO    \u001b[0m | \u001b[35m         noc_perfmon\u001b[0m | \u001b[36m               chipscopy.api.noc.noc_perfmon_utils\u001b[0m | \u001b[36m145 \u001b[0m | \u001b[1mddrmc_x0y0: rb: 0.0, wb: 0.0, rbw: 0.0, wbw: 0.0, arl: 0.0, awl: 0.0\u001b[0m\n",
            "\u001b[32m2025-05-29 14:43:38.643\u001b[0m | \u001b[1mINFO    \u001b[0m | \u001b[35m         noc_perfmon\u001b[0m | \u001b[36m               chipscopy.api.noc.noc_perfmon_utils\u001b[0m | \u001b[36m145 \u001b[0m | \u001b[1mnoc_nmu512_x0y0: rb: 0, wb: 0, rbw: 0.0, wbw: 0.0, arl: 0.0, awl: 0.0\u001b[0m\n",
            "\u001b[32m2025-05-29 14:43:39.147\u001b[0m | \u001b[1mINFO    \u001b[0m | \u001b[35m         noc_perfmon\u001b[0m | \u001b[36m               chipscopy.api.noc.noc_perfmon_utils\u001b[0m | \u001b[36m145 \u001b[0m | \u001b[1mddrmc_x0y0: rb: 0.0, wb: 0.0, rbw: 0.0, wbw: 0.0, arl: 0.0, awl: 0.0\u001b[0m\n",
            "\u001b[32m2025-05-29 14:43:39.249\u001b[0m | \u001b[1mINFO    \u001b[0m | \u001b[35m         noc_perfmon\u001b[0m | \u001b[36m               chipscopy.api.noc.noc_perfmon_utils\u001b[0m | \u001b[36m365 \u001b[0m | \u001b[1m{'dc0_activates': 0, 'dc0_read_cas': 0, 'dc0_write_cas': 0, 'dc0_precharge': 0, 'dc0_precharge_all': 0, 'dc0_refresh': 86037, 'dc0_idle': 536870912, 'dc0_overhead': 0, 'dc0_bus_turnarounds': 0, 'dc1_activates': 0, 'dc1_read_cas': 59, 'dc1_write_cas': 0, 'dc1_precharge': 0, 'dc1_precharge_all': 0, 'dc1_refresh': 0, 'dc1_idle': 0, 'dc1_overhead': 0, 'dc1_bus_turnarounds': 0}\u001b[0m\n",
            "\u001b[32m2025-05-29 14:43:39.552\u001b[0m | \u001b[1mINFO    \u001b[0m | \u001b[35m         noc_perfmon\u001b[0m | \u001b[36m               chipscopy.api.noc.noc_perfmon_utils\u001b[0m | \u001b[36m145 \u001b[0m | \u001b[1mnoc_nmu512_x0y0: rb: 0, wb: 0, rbw: 0.0, wbw: 0.0, arl: 0.0, awl: 0.0\u001b[0m\n",
            "\u001b[32m2025-05-29 14:43:39.655\u001b[0m | \u001b[1mINFO    \u001b[0m | \u001b[35m         noc_perfmon\u001b[0m | \u001b[36m               chipscopy.api.noc.noc_perfmon_utils\u001b[0m | \u001b[36m145 \u001b[0m | \u001b[1mddrmc_x0y0: rb: 0.0, wb: 0.0, rbw: 0.0, wbw: 0.0, arl: 0.0, awl: 0.0\u001b[0m\n",
            "\u001b[32m2025-05-29 14:43:39.958\u001b[0m | \u001b[1mINFO    \u001b[0m | \u001b[35m         noc_perfmon\u001b[0m | \u001b[36m               chipscopy.api.noc.noc_perfmon_utils\u001b[0m | \u001b[36m365 \u001b[0m | \u001b[1m{'dc0_activates': 0, 'dc0_read_cas': 0, 'dc0_write_cas': 0, 'dc0_precharge': 0, 'dc0_precharge_all': 0, 'dc0_refresh': 86037, 'dc0_idle': 536870912, 'dc0_overhead': 0, 'dc0_bus_turnarounds': 0, 'dc1_activates': 0, 'dc1_read_cas': 59, 'dc1_write_cas': 0, 'dc1_precharge': 0, 'dc1_precharge_all': 0, 'dc1_refresh': 0, 'dc1_idle': 0, 'dc1_overhead': 0, 'dc1_bus_turnarounds': 0}\u001b[0m\n",
            "\u001b[32m2025-05-29 14:43:40.161\u001b[0m | \u001b[1mINFO    \u001b[0m | \u001b[35m         noc_perfmon\u001b[0m | \u001b[36m               chipscopy.api.noc.noc_perfmon_utils\u001b[0m | \u001b[36m145 \u001b[0m | \u001b[1mddrmc_x0y0: rb: 0.0, wb: 0.0, rbw: 0.0, wbw: 0.0, arl: 0.0, awl: 0.0\u001b[0m\n",
            "\u001b[32m2025-05-29 14:43:40.464\u001b[0m | \u001b[1mINFO    \u001b[0m | \u001b[35m         noc_perfmon\u001b[0m | \u001b[36m               chipscopy.api.noc.noc_perfmon_utils\u001b[0m | \u001b[36m145 \u001b[0m | \u001b[1mnoc_nmu512_x0y0: rb: 0, wb: 0, rbw: 0.0, wbw: 0.0, arl: 0.0, awl: 0.0\u001b[0m\n",
            "\u001b[32m2025-05-29 14:43:40.567\u001b[0m | \u001b[1mINFO    \u001b[0m | \u001b[35m         noc_perfmon\u001b[0m | \u001b[36m               chipscopy.api.noc.noc_perfmon_utils\u001b[0m | \u001b[36m365 \u001b[0m | \u001b[1m{'dc0_activates': 0, 'dc0_read_cas': 0, 'dc0_write_cas': 0, 'dc0_precharge': 0, 'dc0_precharge_all': 0, 'dc0_refresh': 86037, 'dc0_idle': 536870912, 'dc0_overhead': 0, 'dc0_bus_turnarounds': 0, 'dc1_activates': 0, 'dc1_read_cas': 59, 'dc1_write_cas': 0, 'dc1_precharge': 0, 'dc1_precharge_all': 0, 'dc1_refresh': 0, 'dc1_idle': 0, 'dc1_overhead': 0, 'dc1_bus_turnarounds': 0}\u001b[0m\n",
            "\u001b[32m2025-05-29 14:43:40.770\u001b[0m | \u001b[1mINFO    \u001b[0m | \u001b[35m         noc_perfmon\u001b[0m | \u001b[36m               chipscopy.api.noc.noc_perfmon_utils\u001b[0m | \u001b[36m145 \u001b[0m | \u001b[1mddrmc_x0y0: rb: 0.0, wb: 0.0, rbw: 0.0, wbw: 0.0, arl: 0.0, awl: 0.0\u001b[0m\n",
            "\u001b[32m2025-05-29 14:43:41.274\u001b[0m | \u001b[1mINFO    \u001b[0m | \u001b[35m         noc_perfmon\u001b[0m | \u001b[36m               chipscopy.api.noc.noc_perfmon_utils\u001b[0m | \u001b[36m365 \u001b[0m | \u001b[1m{'dc0_activates': 0, 'dc0_read_cas': 0, 'dc0_write_cas': 0, 'dc0_precharge': 0, 'dc0_precharge_all': 0, 'dc0_refresh': 86037, 'dc0_idle': 536870912, 'dc0_overhead': 0, 'dc0_bus_turnarounds': 0, 'dc1_activates': 0, 'dc1_read_cas': 59, 'dc1_write_cas': 0, 'dc1_precharge': 0, 'dc1_precharge_all': 0, 'dc1_refresh': 0, 'dc1_idle': 0, 'dc1_overhead': 0, 'dc1_bus_turnarounds': 0}\u001b[0m\n",
            "\u001b[32m2025-05-29 14:43:41.278\u001b[0m | \u001b[1mINFO    \u001b[0m | \u001b[35m         noc_perfmon\u001b[0m | \u001b[36m               chipscopy.api.noc.noc_perfmon_utils\u001b[0m | \u001b[36m145 \u001b[0m | \u001b[1mddrmc_x0y0: rb: 0.0, wb: 0.0, rbw: 0.0, wbw: 0.0, arl: 0.0, awl: 0.0\u001b[0m\n",
            "\u001b[32m2025-05-29 14:43:41.379\u001b[0m | \u001b[1mINFO    \u001b[0m | \u001b[35m         noc_perfmon\u001b[0m | \u001b[36m               chipscopy.api.noc.noc_perfmon_utils\u001b[0m | \u001b[36m145 \u001b[0m | \u001b[1mnoc_nmu512_x0y0: rb: 0, wb: 0, rbw: 0.0, wbw: 0.0, arl: 0.0, awl: 0.0\u001b[0m\n",
            "\u001b[32m2025-05-29 14:43:41.782\u001b[0m | \u001b[1mINFO    \u001b[0m | \u001b[35m         noc_perfmon\u001b[0m | \u001b[36m               chipscopy.api.noc.noc_perfmon_utils\u001b[0m | \u001b[36m145 \u001b[0m | \u001b[1mddrmc_x0y0: rb: 0.0, wb: 0.0, rbw: 0.0, wbw: 0.0, arl: 0.0, awl: 0.0\u001b[0m\n",
            "\u001b[32m2025-05-29 14:43:41.985\u001b[0m | \u001b[1mINFO    \u001b[0m | \u001b[35m         noc_perfmon\u001b[0m | \u001b[36m               chipscopy.api.noc.noc_perfmon_utils\u001b[0m | \u001b[36m365 \u001b[0m | \u001b[1m{'dc0_activates': 0, 'dc0_read_cas': 0, 'dc0_write_cas': 0, 'dc0_precharge': 0, 'dc0_precharge_all': 0, 'dc0_refresh': 86037, 'dc0_idle': 536870912, 'dc0_overhead': 0, 'dc0_bus_turnarounds': 0, 'dc1_activates': 0, 'dc1_read_cas': 59, 'dc1_write_cas': 0, 'dc1_precharge': 0, 'dc1_precharge_all': 0, 'dc1_refresh': 0, 'dc1_idle': 0, 'dc1_overhead': 0, 'dc1_bus_turnarounds': 0}\u001b[0m\n",
            "\u001b[32m2025-05-29 14:43:42.288\u001b[0m | \u001b[1mINFO    \u001b[0m | \u001b[35m         noc_perfmon\u001b[0m | \u001b[36m               chipscopy.api.noc.noc_perfmon_utils\u001b[0m | \u001b[36m145 \u001b[0m | \u001b[1mnoc_nmu512_x0y0: rb: 0, wb: 0, rbw: 0.0, wbw: 0.0, arl: 0.0, awl: 0.0\u001b[0m\n",
            "\u001b[32m2025-05-29 14:43:42.391\u001b[0m | \u001b[1mINFO    \u001b[0m | \u001b[35m         noc_perfmon\u001b[0m | \u001b[36m               chipscopy.api.noc.noc_perfmon_utils\u001b[0m | \u001b[36m145 \u001b[0m | \u001b[1mddrmc_x0y0: rb: 0.0, wb: 0.0, rbw: 0.0, wbw: 0.0, arl: 0.0, awl: 0.0\u001b[0m\n",
            "\u001b[32m2025-05-29 14:43:42.695\u001b[0m | \u001b[1mINFO    \u001b[0m | \u001b[35m         noc_perfmon\u001b[0m | \u001b[36m               chipscopy.api.noc.noc_perfmon_utils\u001b[0m | \u001b[36m365 \u001b[0m | \u001b[1m{'dc0_activates': 0, 'dc0_read_cas': 0, 'dc0_write_cas': 0, 'dc0_precharge': 0, 'dc0_precharge_all': 0, 'dc0_refresh': 86037, 'dc0_idle': 536870912, 'dc0_overhead': 0, 'dc0_bus_turnarounds': 0, 'dc1_activates': 0, 'dc1_read_cas': 59, 'dc1_write_cas': 0, 'dc1_precharge': 0, 'dc1_precharge_all': 0, 'dc1_refresh': 0, 'dc1_idle': 0, 'dc1_overhead': 0, 'dc1_bus_turnarounds': 0}\u001b[0m\n",
            "\u001b[32m2025-05-29 14:43:42.898\u001b[0m | \u001b[1mINFO    \u001b[0m | \u001b[35m         noc_perfmon\u001b[0m | \u001b[36m               chipscopy.api.noc.noc_perfmon_utils\u001b[0m | \u001b[36m145 \u001b[0m | \u001b[1mddrmc_x0y0: rb: 0.0, wb: 0.0, rbw: 0.0, wbw: 0.0, arl: 0.0, awl: 0.0\u001b[0m\n",
            "\u001b[32m2025-05-29 14:43:43.201\u001b[0m | \u001b[1mINFO    \u001b[0m | \u001b[35m         noc_perfmon\u001b[0m | \u001b[36m               chipscopy.api.noc.noc_perfmon_utils\u001b[0m | \u001b[36m145 \u001b[0m | \u001b[1mnoc_nmu512_x0y0: rb: 0, wb: 0, rbw: 0.0, wbw: 0.0, arl: 0.0, awl: 0.0\u001b[0m\n",
            "\u001b[32m2025-05-29 14:43:43.303\u001b[0m | \u001b[1mINFO    \u001b[0m | \u001b[35m         noc_perfmon\u001b[0m | \u001b[36m               chipscopy.api.noc.noc_perfmon_utils\u001b[0m | \u001b[36m365 \u001b[0m | \u001b[1m{'dc0_activates': 0, 'dc0_read_cas': 0, 'dc0_write_cas': 0, 'dc0_precharge': 0, 'dc0_precharge_all': 0, 'dc0_refresh': 86037, 'dc0_idle': 536870912, 'dc0_overhead': 0, 'dc0_bus_turnarounds': 0, 'dc1_activates': 0, 'dc1_read_cas': 59, 'dc1_write_cas': 0, 'dc1_precharge': 0, 'dc1_precharge_all': 0, 'dc1_refresh': 0, 'dc1_idle': 0, 'dc1_overhead': 0, 'dc1_bus_turnarounds': 0}\u001b[0m\n",
            "\u001b[32m2025-05-29 14:43:43.406\u001b[0m | \u001b[1mINFO    \u001b[0m | \u001b[35m         noc_perfmon\u001b[0m | \u001b[36m               chipscopy.api.noc.noc_perfmon_utils\u001b[0m | \u001b[36m145 \u001b[0m | \u001b[1mddrmc_x0y0: rb: 0.0, wb: 0.0, rbw: 0.0, wbw: 0.0, arl: 0.0, awl: 0.0\u001b[0m\n",
            "\u001b[32m2025-05-29 14:43:44.009\u001b[0m | \u001b[1mINFO    \u001b[0m | \u001b[35m         noc_perfmon\u001b[0m | \u001b[36m               chipscopy.api.noc.noc_perfmon_utils\u001b[0m | \u001b[36m145 \u001b[0m | \u001b[1mddrmc_x0y0: rb: 0.0, wb: 0.0, rbw: 0.0, wbw: 0.0, arl: 0.0, awl: 0.0\u001b[0m\n",
            "\u001b[32m2025-05-29 14:43:44.011\u001b[0m | \u001b[1mINFO    \u001b[0m | \u001b[35m         noc_perfmon\u001b[0m | \u001b[36m               chipscopy.api.noc.noc_perfmon_utils\u001b[0m | \u001b[36m365 \u001b[0m | \u001b[1m{'dc0_activates': 0, 'dc0_read_cas': 0, 'dc0_write_cas': 0, 'dc0_precharge': 0, 'dc0_precharge_all': 0, 'dc0_refresh': 86037, 'dc0_idle': 536870912, 'dc0_overhead': 0, 'dc0_bus_turnarounds': 0, 'dc1_activates': 0, 'dc1_read_cas': 59, 'dc1_write_cas': 0, 'dc1_precharge': 0, 'dc1_precharge_all': 0, 'dc1_refresh': 0, 'dc1_idle': 0, 'dc1_overhead': 0, 'dc1_bus_turnarounds': 0}\u001b[0m\n",
            "\u001b[32m2025-05-29 14:43:44.113\u001b[0m | \u001b[1mINFO    \u001b[0m | \u001b[35m         noc_perfmon\u001b[0m | \u001b[36m               chipscopy.api.noc.noc_perfmon_utils\u001b[0m | \u001b[36m145 \u001b[0m | \u001b[1mnoc_nmu512_x0y0: rb: 0, wb: 0, rbw: 0.0, wbw: 0.0, arl: 0.0, awl: 0.0\u001b[0m\n",
            "\u001b[32m2025-05-29 14:43:44.517\u001b[0m | \u001b[1mINFO    \u001b[0m | \u001b[35m         noc_perfmon\u001b[0m | \u001b[36m               chipscopy.api.noc.noc_perfmon_utils\u001b[0m | \u001b[36m145 \u001b[0m | \u001b[1mddrmc_x0y0: rb: 0.0, wb: 0.0, rbw: 0.0, wbw: 0.0, arl: 0.0, awl: 0.0\u001b[0m\n",
            "\u001b[32m2025-05-29 14:43:44.720\u001b[0m | \u001b[1mINFO    \u001b[0m | \u001b[35m         noc_perfmon\u001b[0m | \u001b[36m               chipscopy.api.noc.noc_perfmon_utils\u001b[0m | \u001b[36m365 \u001b[0m | \u001b[1m{'dc0_activates': 0, 'dc0_read_cas': 0, 'dc0_write_cas': 0, 'dc0_precharge': 0, 'dc0_precharge_all': 0, 'dc0_refresh': 86037, 'dc0_idle': 536870912, 'dc0_overhead': 0, 'dc0_bus_turnarounds': 0, 'dc1_activates': 0, 'dc1_read_cas': 59, 'dc1_write_cas': 0, 'dc1_precharge': 0, 'dc1_precharge_all': 0, 'dc1_refresh': 0, 'dc1_idle': 0, 'dc1_overhead': 0, 'dc1_bus_turnarounds': 0}\u001b[0m\n",
            "\u001b[32m2025-05-29 14:43:45.023\u001b[0m | \u001b[1mINFO    \u001b[0m | \u001b[35m         noc_perfmon\u001b[0m | \u001b[36m               chipscopy.api.noc.noc_perfmon_utils\u001b[0m | \u001b[36m145 \u001b[0m | \u001b[1mnoc_nmu512_x0y0: rb: 0, wb: 0, rbw: 0.0, wbw: 0.0, arl: 0.0, awl: 0.0\u001b[0m\n",
            "\u001b[32m2025-05-29 14:43:45.024\u001b[0m | \u001b[1mINFO    \u001b[0m | \u001b[35m         noc_perfmon\u001b[0m | \u001b[36m               chipscopy.api.noc.noc_perfmon_utils\u001b[0m | \u001b[36m145 \u001b[0m | \u001b[1mddrmc_x0y0: rb: 0.0, wb: 0.0, rbw: 0.0, wbw: 0.0, arl: 0.0, awl: 0.0\u001b[0m\n",
            "\u001b[32m2025-05-29 14:43:45.326\u001b[0m | \u001b[1mINFO    \u001b[0m | \u001b[35m         noc_perfmon\u001b[0m | \u001b[36m               chipscopy.api.noc.noc_perfmon_utils\u001b[0m | \u001b[36m365 \u001b[0m | \u001b[1m{'dc0_activates': 0, 'dc0_read_cas': 0, 'dc0_write_cas': 0, 'dc0_precharge': 0, 'dc0_precharge_all': 0, 'dc0_refresh': 86037, 'dc0_idle': 536870912, 'dc0_overhead': 0, 'dc0_bus_turnarounds': 0, 'dc1_activates': 0, 'dc1_read_cas': 59, 'dc1_write_cas': 0, 'dc1_precharge': 0, 'dc1_precharge_all': 0, 'dc1_refresh': 0, 'dc1_idle': 0, 'dc1_overhead': 0, 'dc1_bus_turnarounds': 0}\u001b[0m\n",
            "\u001b[32m2025-05-29 14:43:45.629\u001b[0m | \u001b[1mINFO    \u001b[0m | \u001b[35m         noc_perfmon\u001b[0m | \u001b[36m               chipscopy.api.noc.noc_perfmon_utils\u001b[0m | \u001b[36m145 \u001b[0m | \u001b[1mddrmc_x0y0: rb: 0.0, wb: 0.0, rbw: 0.0, wbw: 0.0, arl: 0.0, awl: 0.0\u001b[0m\n",
            "\u001b[32m2025-05-29 14:43:45.832\u001b[0m | \u001b[1mINFO    \u001b[0m | \u001b[35m         noc_perfmon\u001b[0m | \u001b[36m               chipscopy.api.noc.noc_perfmon_utils\u001b[0m | \u001b[36m145 \u001b[0m | \u001b[1mnoc_nmu512_x0y0: rb: 0, wb: 0, rbw: 0.0, wbw: 0.0, arl: 0.0, awl: 0.0\u001b[0m\n",
            "\u001b[32m2025-05-29 14:43:46.035\u001b[0m | \u001b[1mINFO    \u001b[0m | \u001b[35m         noc_perfmon\u001b[0m | \u001b[36m               chipscopy.api.noc.noc_perfmon_utils\u001b[0m | \u001b[36m365 \u001b[0m | \u001b[1m{'dc0_activates': 0, 'dc0_read_cas': 0, 'dc0_write_cas': 0, 'dc0_precharge': 0, 'dc0_precharge_all': 0, 'dc0_refresh': 86037, 'dc0_idle': 536870912, 'dc0_overhead': 0, 'dc0_bus_turnarounds': 0, 'dc1_activates': 0, 'dc1_read_cas': 59, 'dc1_write_cas': 0, 'dc1_precharge': 0, 'dc1_precharge_all': 0, 'dc1_refresh': 0, 'dc1_idle': 0, 'dc1_overhead': 0, 'dc1_bus_turnarounds': 0}\u001b[0m\n",
            "\u001b[32m2025-05-29 14:43:46.138\u001b[0m | \u001b[1mINFO    \u001b[0m | \u001b[35m         noc_perfmon\u001b[0m | \u001b[36m               chipscopy.api.noc.noc_perfmon_utils\u001b[0m | \u001b[36m145 \u001b[0m | \u001b[1mddrmc_x0y0: rb: 0.0, wb: 0.0, rbw: 0.0, wbw: 0.0, arl: 0.0, awl: 0.0\u001b[0m\n",
            "\u001b[32m2025-05-29 14:43:46.742\u001b[0m | \u001b[1mINFO    \u001b[0m | \u001b[35m         noc_perfmon\u001b[0m | \u001b[36m               chipscopy.api.noc.noc_perfmon_utils\u001b[0m | \u001b[36m145 \u001b[0m | \u001b[1mddrmc_x0y0: rb: 0.0, wb: 0.0, rbw: 0.0, wbw: 0.0, arl: 0.0, awl: 0.0\u001b[0m\n",
            "\u001b[32m2025-05-29 14:43:46.745\u001b[0m | \u001b[1mINFO    \u001b[0m | \u001b[35m         noc_perfmon\u001b[0m | \u001b[36m               chipscopy.api.noc.noc_perfmon_utils\u001b[0m | \u001b[36m365 \u001b[0m | \u001b[1m{'dc0_activates': 0, 'dc0_read_cas': 0, 'dc0_write_cas': 0, 'dc0_precharge': 0, 'dc0_precharge_all': 0, 'dc0_refresh': 86037, 'dc0_idle': 536870912, 'dc0_overhead': 0, 'dc0_bus_turnarounds': 0, 'dc1_activates': 0, 'dc1_read_cas': 59, 'dc1_write_cas': 0, 'dc1_precharge': 0, 'dc1_precharge_all': 0, 'dc1_refresh': 0, 'dc1_idle': 0, 'dc1_overhead': 0, 'dc1_bus_turnarounds': 0}\u001b[0m\n",
            "\u001b[32m2025-05-29 14:43:46.747\u001b[0m | \u001b[1mINFO    \u001b[0m | \u001b[35m         noc_perfmon\u001b[0m | \u001b[36m               chipscopy.api.noc.noc_perfmon_utils\u001b[0m | \u001b[36m145 \u001b[0m | \u001b[1mnoc_nmu512_x0y0: rb: 0, wb: 0, rbw: 0.0, wbw: 0.0, arl: 0.0, awl: 0.0\u001b[0m\n",
            "\u001b[32m2025-05-29 14:43:47.251\u001b[0m | \u001b[1mINFO    \u001b[0m | \u001b[35m         noc_perfmon\u001b[0m | \u001b[36m               chipscopy.api.noc.noc_perfmon_utils\u001b[0m | \u001b[36m145 \u001b[0m | \u001b[1mddrmc_x0y0: rb: 0.0, wb: 0.0, rbw: 0.0, wbw: 0.0, arl: 0.0, awl: 0.0\u001b[0m\n",
            "\u001b[32m2025-05-29 14:43:47.354\u001b[0m | \u001b[1mINFO    \u001b[0m | \u001b[35m         noc_perfmon\u001b[0m | \u001b[36m               chipscopy.api.noc.noc_perfmon_utils\u001b[0m | \u001b[36m365 \u001b[0m | \u001b[1m{'dc0_activates': 0, 'dc0_read_cas': 0, 'dc0_write_cas': 0, 'dc0_precharge': 0, 'dc0_precharge_all': 0, 'dc0_refresh': 86037, 'dc0_idle': 536870912, 'dc0_overhead': 0, 'dc0_bus_turnarounds': 0, 'dc1_activates': 0, 'dc1_read_cas': 59, 'dc1_write_cas': 0, 'dc1_precharge': 0, 'dc1_precharge_all': 0, 'dc1_refresh': 0, 'dc1_idle': 0, 'dc1_overhead': 0, 'dc1_bus_turnarounds': 0}\u001b[0m\n",
            "\u001b[32m2025-05-29 14:43:47.657\u001b[0m | \u001b[1mINFO    \u001b[0m | \u001b[35m         noc_perfmon\u001b[0m | \u001b[36m               chipscopy.api.noc.noc_perfmon_utils\u001b[0m | \u001b[36m145 \u001b[0m | \u001b[1mnoc_nmu512_x0y0: rb: 0, wb: 0, rbw: 0.0, wbw: 0.0, arl: 0.0, awl: 0.0\u001b[0m\n",
            "\u001b[32m2025-05-29 14:43:47.759\u001b[0m | \u001b[1mINFO    \u001b[0m | \u001b[35m         noc_perfmon\u001b[0m | \u001b[36m               chipscopy.api.noc.noc_perfmon_utils\u001b[0m | \u001b[36m145 \u001b[0m | \u001b[1mddrmc_x0y0: rb: 0.0, wb: 0.0, rbw: 0.0, wbw: 0.0, arl: 0.0, awl: 0.0\u001b[0m\n",
            "\u001b[32m2025-05-29 14:43:48.062\u001b[0m | \u001b[1mINFO    \u001b[0m | \u001b[35m         noc_perfmon\u001b[0m | \u001b[36m               chipscopy.api.noc.noc_perfmon_utils\u001b[0m | \u001b[36m365 \u001b[0m | \u001b[1m{'dc0_activates': 0, 'dc0_read_cas': 0, 'dc0_write_cas': 0, 'dc0_precharge': 0, 'dc0_precharge_all': 0, 'dc0_refresh': 86037, 'dc0_idle': 536870912, 'dc0_overhead': 0, 'dc0_bus_turnarounds': 0, 'dc1_activates': 0, 'dc1_read_cas': 59, 'dc1_write_cas': 0, 'dc1_precharge': 0, 'dc1_precharge_all': 0, 'dc1_refresh': 0, 'dc1_idle': 0, 'dc1_overhead': 0, 'dc1_bus_turnarounds': 0}\u001b[0m\n",
            "\u001b[32m2025-05-29 14:43:48.366\u001b[0m | \u001b[1mINFO    \u001b[0m | \u001b[35m         noc_perfmon\u001b[0m | \u001b[36m               chipscopy.api.noc.noc_perfmon_utils\u001b[0m | \u001b[36m145 \u001b[0m | \u001b[1mddrmc_x0y0: rb: 0.0, wb: 0.0, rbw: 0.0, wbw: 0.0, arl: 0.0, awl: 0.0\u001b[0m\n",
            "\u001b[32m2025-05-29 14:43:48.569\u001b[0m | \u001b[1mINFO    \u001b[0m | \u001b[35m         noc_perfmon\u001b[0m | \u001b[36m               chipscopy.api.noc.noc_perfmon_utils\u001b[0m | \u001b[36m145 \u001b[0m | \u001b[1mnoc_nmu512_x0y0: rb: 0, wb: 0, rbw: 0.0, wbw: 0.0, arl: 0.0, awl: 0.0\u001b[0m\n",
            "\u001b[32m2025-05-29 14:43:48.772\u001b[0m | \u001b[1mINFO    \u001b[0m | \u001b[35m         noc_perfmon\u001b[0m | \u001b[36m               chipscopy.api.noc.noc_perfmon_utils\u001b[0m | \u001b[36m365 \u001b[0m | \u001b[1m{'dc0_activates': 0, 'dc0_read_cas': 0, 'dc0_write_cas': 0, 'dc0_precharge': 0, 'dc0_precharge_all': 0, 'dc0_refresh': 86037, 'dc0_idle': 536870912, 'dc0_overhead': 0, 'dc0_bus_turnarounds': 0, 'dc1_activates': 0, 'dc1_read_cas': 59, 'dc1_write_cas': 0, 'dc1_precharge': 0, 'dc1_precharge_all': 0, 'dc1_refresh': 0, 'dc1_idle': 0, 'dc1_overhead': 0, 'dc1_bus_turnarounds': 0}\u001b[0m\n",
            "\u001b[32m2025-05-29 14:43:48.874\u001b[0m | \u001b[1mINFO    \u001b[0m | \u001b[35m         noc_perfmon\u001b[0m | \u001b[36m               chipscopy.api.noc.noc_perfmon_utils\u001b[0m | \u001b[36m145 \u001b[0m | \u001b[1mddrmc_x0y0: rb: 0.0, wb: 0.0, rbw: 0.0, wbw: 0.0, arl: 0.0, awl: 0.0\u001b[0m\n",
            "\u001b[32m2025-05-29 14:43:49.380\u001b[0m | \u001b[1mINFO    \u001b[0m | \u001b[35m         noc_perfmon\u001b[0m | \u001b[36m               chipscopy.api.noc.noc_perfmon_utils\u001b[0m | \u001b[36m145 \u001b[0m | \u001b[1mddrmc_x0y0: rb: 0.0, wb: 0.0, rbw: 0.0, wbw: 0.0, arl: 0.0, awl: 0.0\u001b[0m\n",
            "\u001b[32m2025-05-29 14:43:49.483\u001b[0m | \u001b[1mINFO    \u001b[0m | \u001b[35m         noc_perfmon\u001b[0m | \u001b[36m               chipscopy.api.noc.noc_perfmon_utils\u001b[0m | \u001b[36m365 \u001b[0m | \u001b[1m{'dc0_activates': 0, 'dc0_read_cas': 0, 'dc0_write_cas': 0, 'dc0_precharge': 0, 'dc0_precharge_all': 0, 'dc0_refresh': 86037, 'dc0_idle': 536870912, 'dc0_overhead': 0, 'dc0_bus_turnarounds': 0, 'dc1_activates': 0, 'dc1_read_cas': 59, 'dc1_write_cas': 0, 'dc1_precharge': 0, 'dc1_precharge_all': 0, 'dc1_refresh': 0, 'dc1_idle': 0, 'dc1_overhead': 0, 'dc1_bus_turnarounds': 0}\u001b[0m\n",
            "\u001b[32m2025-05-29 14:43:49.485\u001b[0m | \u001b[1mINFO    \u001b[0m | \u001b[35m         noc_perfmon\u001b[0m | \u001b[36m               chipscopy.api.noc.noc_perfmon_utils\u001b[0m | \u001b[36m145 \u001b[0m | \u001b[1mnoc_nmu512_x0y0: rb: 0, wb: 0, rbw: 0.0, wbw: 0.0, arl: 0.0, awl: 0.0\u001b[0m\n",
            "\u001b[32m2025-05-29 14:43:49.888\u001b[0m | \u001b[1mINFO    \u001b[0m | \u001b[35m         noc_perfmon\u001b[0m | \u001b[36m               chipscopy.api.noc.noc_perfmon_utils\u001b[0m | \u001b[36m145 \u001b[0m | \u001b[1mddrmc_x0y0: rb: 0.0, wb: 0.0, rbw: 0.0, wbw: 0.0, arl: 0.0, awl: 0.0\u001b[0m\n",
            "\u001b[32m2025-05-29 14:43:50.091\u001b[0m | \u001b[1mINFO    \u001b[0m | \u001b[35m         noc_perfmon\u001b[0m | \u001b[36m               chipscopy.api.noc.noc_perfmon_utils\u001b[0m | \u001b[36m365 \u001b[0m | \u001b[1m{'dc0_activates': 0, 'dc0_read_cas': 0, 'dc0_write_cas': 0, 'dc0_precharge': 0, 'dc0_precharge_all': 0, 'dc0_refresh': 86037, 'dc0_idle': 536870912, 'dc0_overhead': 0, 'dc0_bus_turnarounds': 0, 'dc1_activates': 0, 'dc1_read_cas': 59, 'dc1_write_cas': 0, 'dc1_precharge': 0, 'dc1_precharge_all': 0, 'dc1_refresh': 0, 'dc1_idle': 0, 'dc1_overhead': 0, 'dc1_bus_turnarounds': 0}\u001b[0m\n",
            "\u001b[32m2025-05-29 14:43:50.394\u001b[0m | \u001b[1mINFO    \u001b[0m | \u001b[35m         noc_perfmon\u001b[0m | \u001b[36m               chipscopy.api.noc.noc_perfmon_utils\u001b[0m | \u001b[36m145 \u001b[0m | \u001b[1mnoc_nmu512_x0y0: rb: 0, wb: 0, rbw: 0.0, wbw: 0.0, arl: 0.0, awl: 0.0\u001b[0m\n",
            "\u001b[32m2025-05-29 14:43:50.497\u001b[0m | \u001b[1mINFO    \u001b[0m | \u001b[35m         noc_perfmon\u001b[0m | \u001b[36m               chipscopy.api.noc.noc_perfmon_utils\u001b[0m | \u001b[36m145 \u001b[0m | \u001b[1mddrmc_x0y0: rb: 0.0, wb: 0.0, rbw: 0.0, wbw: 0.0, arl: 0.0, awl: 0.0\u001b[0m\n",
            "\u001b[32m2025-05-29 14:43:50.801\u001b[0m | \u001b[1mINFO    \u001b[0m | \u001b[35m         noc_perfmon\u001b[0m | \u001b[36m               chipscopy.api.noc.noc_perfmon_utils\u001b[0m | \u001b[36m365 \u001b[0m | \u001b[1m{'dc0_activates': 0, 'dc0_read_cas': 0, 'dc0_write_cas': 0, 'dc0_precharge': 0, 'dc0_precharge_all': 0, 'dc0_refresh': 86037, 'dc0_idle': 536870912, 'dc0_overhead': 0, 'dc0_bus_turnarounds': 0, 'dc1_activates': 0, 'dc1_read_cas': 59, 'dc1_write_cas': 0, 'dc1_precharge': 0, 'dc1_precharge_all': 0, 'dc1_refresh': 0, 'dc1_idle': 0, 'dc1_overhead': 0, 'dc1_bus_turnarounds': 0}\u001b[0m\n",
            "\u001b[32m2025-05-29 14:43:51.004\u001b[0m | \u001b[1mINFO    \u001b[0m | \u001b[35m         noc_perfmon\u001b[0m | \u001b[36m               chipscopy.api.noc.noc_perfmon_utils\u001b[0m | \u001b[36m145 \u001b[0m | \u001b[1mddrmc_x0y0: rb: 0.0, wb: 0.0, rbw: 0.0, wbw: 0.0, arl: 0.0, awl: 0.0\u001b[0m\n",
            "\u001b[32m2025-05-29 14:43:51.307\u001b[0m | \u001b[1mINFO    \u001b[0m | \u001b[35m         noc_perfmon\u001b[0m | \u001b[36m               chipscopy.api.noc.noc_perfmon_utils\u001b[0m | \u001b[36m145 \u001b[0m | \u001b[1mnoc_nmu512_x0y0: rb: 0, wb: 0, rbw: 0.0, wbw: 0.0, arl: 0.0, awl: 0.0\u001b[0m\n",
            "\u001b[32m2025-05-29 14:43:51.509\u001b[0m | \u001b[1mINFO    \u001b[0m | \u001b[35m         noc_perfmon\u001b[0m | \u001b[36m               chipscopy.api.noc.noc_perfmon_utils\u001b[0m | \u001b[36m365 \u001b[0m | \u001b[1m{'dc0_activates': 0, 'dc0_read_cas': 0, 'dc0_write_cas': 0, 'dc0_precharge': 0, 'dc0_precharge_all': 0, 'dc0_refresh': 86037, 'dc0_idle': 536870912, 'dc0_overhead': 0, 'dc0_bus_turnarounds': 0, 'dc1_activates': 0, 'dc1_read_cas': 59, 'dc1_write_cas': 0, 'dc1_precharge': 0, 'dc1_precharge_all': 0, 'dc1_refresh': 0, 'dc1_idle': 0, 'dc1_overhead': 0, 'dc1_bus_turnarounds': 0}\u001b[0m\n",
            "\u001b[32m2025-05-29 14:43:51.512\u001b[0m | \u001b[1mINFO    \u001b[0m | \u001b[35m         noc_perfmon\u001b[0m | \u001b[36m               chipscopy.api.noc.noc_perfmon_utils\u001b[0m | \u001b[36m145 \u001b[0m | \u001b[1mddrmc_x0y0: rb: 0.0, wb: 0.0, rbw: 0.0, wbw: 0.0, arl: 0.0, awl: 0.0\u001b[0m\n",
            "\u001b[32m2025-05-29 14:43:52.116\u001b[0m | \u001b[1mINFO    \u001b[0m | \u001b[35m         noc_perfmon\u001b[0m | \u001b[36m               chipscopy.api.noc.noc_perfmon_utils\u001b[0m | \u001b[36m145 \u001b[0m | \u001b[1mddrmc_x0y0: rb: 0.0, wb: 0.0, rbw: 0.0, wbw: 0.0, arl: 0.0, awl: 0.0\u001b[0m\n",
            "\u001b[32m2025-05-29 14:43:52.218\u001b[0m | \u001b[1mINFO    \u001b[0m | \u001b[35m         noc_perfmon\u001b[0m | \u001b[36m               chipscopy.api.noc.noc_perfmon_utils\u001b[0m | \u001b[36m365 \u001b[0m | \u001b[1m{'dc0_activates': 0, 'dc0_read_cas': 0, 'dc0_write_cas': 0, 'dc0_precharge': 0, 'dc0_precharge_all': 0, 'dc0_refresh': 86037, 'dc0_idle': 536870912, 'dc0_overhead': 0, 'dc0_bus_turnarounds': 0, 'dc1_activates': 0, 'dc1_read_cas': 59, 'dc1_write_cas': 0, 'dc1_precharge': 0, 'dc1_precharge_all': 0, 'dc1_refresh': 0, 'dc1_idle': 0, 'dc1_overhead': 0, 'dc1_bus_turnarounds': 0}\u001b[0m\n",
            "\u001b[32m2025-05-29 14:43:52.220\u001b[0m | \u001b[1mINFO    \u001b[0m | \u001b[35m         noc_perfmon\u001b[0m | \u001b[36m               chipscopy.api.noc.noc_perfmon_utils\u001b[0m | \u001b[36m145 \u001b[0m | \u001b[1mnoc_nmu512_x0y0: rb: 0, wb: 0, rbw: 0.0, wbw: 0.0, arl: 0.0, awl: 0.0\u001b[0m\n",
            "\u001b[32m2025-05-29 14:43:52.623\u001b[0m | \u001b[1mINFO    \u001b[0m | \u001b[35m         noc_perfmon\u001b[0m | \u001b[36m               chipscopy.api.noc.noc_perfmon_utils\u001b[0m | \u001b[36m145 \u001b[0m | \u001b[1mddrmc_x0y0: rb: 0.0, wb: 0.0, rbw: 0.0, wbw: 0.0, arl: 0.0, awl: 0.0\u001b[0m\n",
            "\u001b[32m2025-05-29 14:43:52.827\u001b[0m | \u001b[1mINFO    \u001b[0m | \u001b[35m         noc_perfmon\u001b[0m | \u001b[36m               chipscopy.api.noc.noc_perfmon_utils\u001b[0m | \u001b[36m365 \u001b[0m | \u001b[1m{'dc0_activates': 0, 'dc0_read_cas': 0, 'dc0_write_cas': 0, 'dc0_precharge': 0, 'dc0_precharge_all': 0, 'dc0_refresh': 86037, 'dc0_idle': 536870912, 'dc0_overhead': 0, 'dc0_bus_turnarounds': 0, 'dc1_activates': 0, 'dc1_read_cas': 59, 'dc1_write_cas': 0, 'dc1_precharge': 0, 'dc1_precharge_all': 0, 'dc1_refresh': 0, 'dc1_idle': 0, 'dc1_overhead': 0, 'dc1_bus_turnarounds': 0}\u001b[0m\n",
            "\u001b[32m2025-05-29 14:43:53.130\u001b[0m | \u001b[1mINFO    \u001b[0m | \u001b[35m         noc_perfmon\u001b[0m | \u001b[36m               chipscopy.api.noc.noc_perfmon_utils\u001b[0m | \u001b[36m145 \u001b[0m | \u001b[1mnoc_nmu512_x0y0: rb: 0, wb: 0, rbw: 0.0, wbw: 0.0, arl: 0.0, awl: 0.0\u001b[0m\n",
            "\u001b[32m2025-05-29 14:43:53.232\u001b[0m | \u001b[1mINFO    \u001b[0m | \u001b[35m         noc_perfmon\u001b[0m | \u001b[36m               chipscopy.api.noc.noc_perfmon_utils\u001b[0m | \u001b[36m145 \u001b[0m | \u001b[1mddrmc_x0y0: rb: 0.0, wb: 0.0, rbw: 0.0, wbw: 0.0, arl: 0.0, awl: 0.0\u001b[0m\n",
            "\u001b[32m2025-05-29 14:43:53.536\u001b[0m | \u001b[1mINFO    \u001b[0m | \u001b[35m         noc_perfmon\u001b[0m | \u001b[36m               chipscopy.api.noc.noc_perfmon_utils\u001b[0m | \u001b[36m365 \u001b[0m | \u001b[1m{'dc0_activates': 0, 'dc0_read_cas': 0, 'dc0_write_cas': 0, 'dc0_precharge': 0, 'dc0_precharge_all': 0, 'dc0_refresh': 86037, 'dc0_idle': 536870912, 'dc0_overhead': 0, 'dc0_bus_turnarounds': 0, 'dc1_activates': 0, 'dc1_read_cas': 59, 'dc1_write_cas': 0, 'dc1_precharge': 0, 'dc1_precharge_all': 0, 'dc1_refresh': 0, 'dc1_idle': 0, 'dc1_overhead': 0, 'dc1_bus_turnarounds': 0}\u001b[0m\n",
            "\u001b[32m2025-05-29 14:43:53.739\u001b[0m | \u001b[1mINFO    \u001b[0m | \u001b[35m         noc_perfmon\u001b[0m | \u001b[36m               chipscopy.api.noc.noc_perfmon_utils\u001b[0m | \u001b[36m145 \u001b[0m | \u001b[1mddrmc_x0y0: rb: 0.0, wb: 0.0, rbw: 0.0, wbw: 0.0, arl: 0.0, awl: 0.0\u001b[0m\n",
            "\u001b[32m2025-05-29 14:43:54.042\u001b[0m | \u001b[1mINFO    \u001b[0m | \u001b[35m         noc_perfmon\u001b[0m | \u001b[36m               chipscopy.api.noc.noc_perfmon_utils\u001b[0m | \u001b[36m145 \u001b[0m | \u001b[1mnoc_nmu512_x0y0: rb: 0, wb: 0, rbw: 0.0, wbw: 0.0, arl: 0.0, awl: 0.0\u001b[0m\n",
            "\u001b[32m2025-05-29 14:43:54.145\u001b[0m | \u001b[1mINFO    \u001b[0m | \u001b[35m         noc_perfmon\u001b[0m | \u001b[36m               chipscopy.api.noc.noc_perfmon_utils\u001b[0m | \u001b[36m365 \u001b[0m | \u001b[1m{'dc0_activates': 0, 'dc0_read_cas': 0, 'dc0_write_cas': 0, 'dc0_precharge': 0, 'dc0_precharge_all': 0, 'dc0_refresh': 86037, 'dc0_idle': 536870912, 'dc0_overhead': 0, 'dc0_bus_turnarounds': 0, 'dc1_activates': 0, 'dc1_read_cas': 59, 'dc1_write_cas': 0, 'dc1_precharge': 0, 'dc1_precharge_all': 0, 'dc1_refresh': 0, 'dc1_idle': 0, 'dc1_overhead': 0, 'dc1_bus_turnarounds': 0}\u001b[0m\n",
            "\u001b[32m2025-05-29 14:43:54.247\u001b[0m | \u001b[1mINFO    \u001b[0m | \u001b[35m         noc_perfmon\u001b[0m | \u001b[36m               chipscopy.api.noc.noc_perfmon_utils\u001b[0m | \u001b[36m145 \u001b[0m | \u001b[1mddrmc_x0y0: rb: 0.0, wb: 0.0, rbw: 0.0, wbw: 0.0, arl: 0.0, awl: 0.0\u001b[0m\n",
            "\u001b[32m2025-05-29 14:43:54.851\u001b[0m | \u001b[1mINFO    \u001b[0m | \u001b[35m         noc_perfmon\u001b[0m | \u001b[36m               chipscopy.api.noc.noc_perfmon_utils\u001b[0m | \u001b[36m145 \u001b[0m | \u001b[1mddrmc_x0y0: rb: 0.0, wb: 0.0, rbw: 0.0, wbw: 0.0, arl: 0.0, awl: 0.0\u001b[0m\n",
            "\u001b[32m2025-05-29 14:43:54.853\u001b[0m | \u001b[1mINFO    \u001b[0m | \u001b[35m         noc_perfmon\u001b[0m | \u001b[36m               chipscopy.api.noc.noc_perfmon_utils\u001b[0m | \u001b[36m365 \u001b[0m | \u001b[1m{'dc0_activates': 0, 'dc0_read_cas': 0, 'dc0_write_cas': 0, 'dc0_precharge': 0, 'dc0_precharge_all': 0, 'dc0_refresh': 86037, 'dc0_idle': 536870912, 'dc0_overhead': 0, 'dc0_bus_turnarounds': 0, 'dc1_activates': 0, 'dc1_read_cas': 59, 'dc1_write_cas': 0, 'dc1_precharge': 0, 'dc1_precharge_all': 0, 'dc1_refresh': 0, 'dc1_idle': 0, 'dc1_overhead': 0, 'dc1_bus_turnarounds': 0}\u001b[0m\n",
            "\u001b[32m2025-05-29 14:43:54.956\u001b[0m | \u001b[1mINFO    \u001b[0m | \u001b[35m         noc_perfmon\u001b[0m | \u001b[36m               chipscopy.api.noc.noc_perfmon_utils\u001b[0m | \u001b[36m145 \u001b[0m | \u001b[1mnoc_nmu512_x0y0: rb: 0, wb: 0, rbw: 0.0, wbw: 0.0, arl: 0.0, awl: 0.0\u001b[0m\n",
            "\u001b[32m2025-05-29 14:43:55.359\u001b[0m | \u001b[1mINFO    \u001b[0m | \u001b[35m         noc_perfmon\u001b[0m | \u001b[36m               chipscopy.api.noc.noc_perfmon_utils\u001b[0m | \u001b[36m145 \u001b[0m | \u001b[1mddrmc_x0y0: rb: 0.0, wb: 0.0, rbw: 0.0, wbw: 0.0, arl: 0.0, awl: 0.0\u001b[0m\n",
            "\u001b[32m2025-05-29 14:43:55.562\u001b[0m | \u001b[1mINFO    \u001b[0m | \u001b[35m         noc_perfmon\u001b[0m | \u001b[36m               chipscopy.api.noc.noc_perfmon_utils\u001b[0m | \u001b[36m365 \u001b[0m | \u001b[1m{'dc0_activates': 0, 'dc0_read_cas': 0, 'dc0_write_cas': 0, 'dc0_precharge': 0, 'dc0_precharge_all': 0, 'dc0_refresh': 86037, 'dc0_idle': 536870912, 'dc0_overhead': 0, 'dc0_bus_turnarounds': 0, 'dc1_activates': 0, 'dc1_read_cas': 59, 'dc1_write_cas': 0, 'dc1_precharge': 0, 'dc1_precharge_all': 0, 'dc1_refresh': 0, 'dc1_idle': 0, 'dc1_overhead': 0, 'dc1_bus_turnarounds': 0}\u001b[0m\n",
            "\u001b[32m2025-05-29 14:43:55.765\u001b[0m | \u001b[1mINFO    \u001b[0m | \u001b[35m         noc_perfmon\u001b[0m | \u001b[36m               chipscopy.api.noc.noc_perfmon_utils\u001b[0m | \u001b[36m145 \u001b[0m | \u001b[1mnoc_nmu512_x0y0: rb: 0, wb: 0, rbw: 0.0, wbw: 0.0, arl: 0.0, awl: 0.0\u001b[0m\n",
            "\u001b[32m2025-05-29 14:43:55.867\u001b[0m | \u001b[1mINFO    \u001b[0m | \u001b[35m         noc_perfmon\u001b[0m | \u001b[36m               chipscopy.api.noc.noc_perfmon_utils\u001b[0m | \u001b[36m145 \u001b[0m | \u001b[1mddrmc_x0y0: rb: 0.0, wb: 0.0, rbw: 0.0, wbw: 0.0, arl: 0.0, awl: 0.0\u001b[0m\n",
            "\u001b[32m2025-05-29 14:43:56.170\u001b[0m | \u001b[1mINFO    \u001b[0m | \u001b[35m         noc_perfmon\u001b[0m | \u001b[36m               chipscopy.api.noc.noc_perfmon_utils\u001b[0m | \u001b[36m365 \u001b[0m | \u001b[1m{'dc0_activates': 0, 'dc0_read_cas': 0, 'dc0_write_cas': 0, 'dc0_precharge': 0, 'dc0_precharge_all': 0, 'dc0_refresh': 86037, 'dc0_idle': 536870912, 'dc0_overhead': 0, 'dc0_bus_turnarounds': 0, 'dc1_activates': 0, 'dc1_read_cas': 59, 'dc1_write_cas': 0, 'dc1_precharge': 0, 'dc1_precharge_all': 0, 'dc1_refresh': 0, 'dc1_idle': 0, 'dc1_overhead': 0, 'dc1_bus_turnarounds': 0}\u001b[0m\n",
            "\u001b[32m2025-05-29 14:43:56.473\u001b[0m | \u001b[1mINFO    \u001b[0m | \u001b[35m         noc_perfmon\u001b[0m | \u001b[36m               chipscopy.api.noc.noc_perfmon_utils\u001b[0m | \u001b[36m145 \u001b[0m | \u001b[1mddrmc_x0y0: rb: 0.0, wb: 0.0, rbw: 0.0, wbw: 0.0, arl: 0.0, awl: 0.0\u001b[0m\n",
            "\u001b[32m2025-05-29 14:43:56.676\u001b[0m | \u001b[1mINFO    \u001b[0m | \u001b[35m         noc_perfmon\u001b[0m | \u001b[36m               chipscopy.api.noc.noc_perfmon_utils\u001b[0m | \u001b[36m145 \u001b[0m | \u001b[1mnoc_nmu512_x0y0: rb: 0, wb: 0, rbw: 0.0, wbw: 0.0, arl: 0.0, awl: 0.0\u001b[0m\n",
            "\u001b[32m2025-05-29 14:43:56.879\u001b[0m | \u001b[1mINFO    \u001b[0m | \u001b[35m         noc_perfmon\u001b[0m | \u001b[36m               chipscopy.api.noc.noc_perfmon_utils\u001b[0m | \u001b[36m365 \u001b[0m | \u001b[1m{'dc0_activates': 0, 'dc0_read_cas': 0, 'dc0_write_cas': 0, 'dc0_precharge': 0, 'dc0_precharge_all': 0, 'dc0_refresh': 86037, 'dc0_idle': 536870912, 'dc0_overhead': 0, 'dc0_bus_turnarounds': 0, 'dc1_activates': 0, 'dc1_read_cas': 59, 'dc1_write_cas': 0, 'dc1_precharge': 0, 'dc1_precharge_all': 0, 'dc1_refresh': 0, 'dc1_idle': 0, 'dc1_overhead': 0, 'dc1_bus_turnarounds': 0}\u001b[0m\n",
            "\u001b[32m2025-05-29 14:43:56.981\u001b[0m | \u001b[1mINFO    \u001b[0m | \u001b[35m         noc_perfmon\u001b[0m | \u001b[36m               chipscopy.api.noc.noc_perfmon_utils\u001b[0m | \u001b[36m145 \u001b[0m | \u001b[1mddrmc_x0y0: rb: 0.0, wb: 0.0, rbw: 0.0, wbw: 0.0, arl: 0.0, awl: 0.0\u001b[0m\n",
            "\u001b[32m2025-05-29 14:43:57.586\u001b[0m | \u001b[1mINFO    \u001b[0m | \u001b[35m         noc_perfmon\u001b[0m | \u001b[36m               chipscopy.api.noc.noc_perfmon_utils\u001b[0m | \u001b[36m145 \u001b[0m | \u001b[1mddrmc_x0y0: rb: 0.0, wb: 0.0, rbw: 0.0, wbw: 0.0, arl: 0.0, awl: 0.0\u001b[0m\n",
            "\u001b[32m2025-05-29 14:43:57.588\u001b[0m | \u001b[1mINFO    \u001b[0m | \u001b[35m         noc_perfmon\u001b[0m | \u001b[36m               chipscopy.api.noc.noc_perfmon_utils\u001b[0m | \u001b[36m365 \u001b[0m | \u001b[1m{'dc0_activates': 0, 'dc0_read_cas': 0, 'dc0_write_cas': 0, 'dc0_precharge': 0, 'dc0_precharge_all': 0, 'dc0_refresh': 86037, 'dc0_idle': 536870912, 'dc0_overhead': 0, 'dc0_bus_turnarounds': 0, 'dc1_activates': 0, 'dc1_read_cas': 59, 'dc1_write_cas': 0, 'dc1_precharge': 0, 'dc1_precharge_all': 0, 'dc1_refresh': 0, 'dc1_idle': 0, 'dc1_overhead': 0, 'dc1_bus_turnarounds': 0}\u001b[0m\n",
            "\u001b[32m2025-05-29 14:43:57.589\u001b[0m | \u001b[1mINFO    \u001b[0m | \u001b[35m         noc_perfmon\u001b[0m | \u001b[36m               chipscopy.api.noc.noc_perfmon_utils\u001b[0m | \u001b[36m145 \u001b[0m | \u001b[1mnoc_nmu512_x0y0: rb: 0, wb: 0, rbw: 0.0, wbw: 0.0, arl: 0.0, awl: 0.0\u001b[0m\n",
            "\u001b[32m2025-05-29 14:43:58.092\u001b[0m | \u001b[1mINFO    \u001b[0m | \u001b[35m         noc_perfmon\u001b[0m | \u001b[36m               chipscopy.api.noc.noc_perfmon_utils\u001b[0m | \u001b[36m145 \u001b[0m | \u001b[1mddrmc_x0y0: rb: 0.0, wb: 0.0, rbw: 0.0, wbw: 0.0, arl: 0.0, awl: 0.0\u001b[0m\n",
            "\u001b[32m2025-05-29 14:43:58.295\u001b[0m | \u001b[1mINFO    \u001b[0m | \u001b[35m         noc_perfmon\u001b[0m | \u001b[36m               chipscopy.api.noc.noc_perfmon_utils\u001b[0m | \u001b[36m365 \u001b[0m | \u001b[1m{'dc0_activates': 0, 'dc0_read_cas': 0, 'dc0_write_cas': 0, 'dc0_precharge': 0, 'dc0_precharge_all': 0, 'dc0_refresh': 86037, 'dc0_idle': 536870912, 'dc0_overhead': 0, 'dc0_bus_turnarounds': 0, 'dc1_activates': 0, 'dc1_read_cas': 59, 'dc1_write_cas': 0, 'dc1_precharge': 0, 'dc1_precharge_all': 0, 'dc1_refresh': 0, 'dc1_idle': 0, 'dc1_overhead': 0, 'dc1_bus_turnarounds': 0}\u001b[0m\n",
            "\u001b[32m2025-05-29 14:43:58.498\u001b[0m | \u001b[1mINFO    \u001b[0m | \u001b[35m         noc_perfmon\u001b[0m | \u001b[36m               chipscopy.api.noc.noc_perfmon_utils\u001b[0m | \u001b[36m145 \u001b[0m | \u001b[1mnoc_nmu512_x0y0: rb: 0, wb: 0, rbw: 0.0, wbw: 0.0, arl: 0.0, awl: 0.0\u001b[0m\n",
            "\u001b[32m2025-05-29 14:43:58.702\u001b[0m | \u001b[1mINFO    \u001b[0m | \u001b[35m         noc_perfmon\u001b[0m | \u001b[36m               chipscopy.api.noc.noc_perfmon_utils\u001b[0m | \u001b[36m145 \u001b[0m | \u001b[1mddrmc_x0y0: rb: 0.0, wb: 0.0, rbw: 0.0, wbw: 0.0, arl: 0.0, awl: 0.0\u001b[0m\n",
            "\u001b[32m2025-05-29 14:43:58.904\u001b[0m | \u001b[1mINFO    \u001b[0m | \u001b[35m         noc_perfmon\u001b[0m | \u001b[36m               chipscopy.api.noc.noc_perfmon_utils\u001b[0m | \u001b[36m365 \u001b[0m | \u001b[1m{'dc0_activates': 0, 'dc0_read_cas': 0, 'dc0_write_cas': 0, 'dc0_precharge': 0, 'dc0_precharge_all': 0, 'dc0_refresh': 86037, 'dc0_idle': 536870912, 'dc0_overhead': 0, 'dc0_bus_turnarounds': 0, 'dc1_activates': 0, 'dc1_read_cas': 59, 'dc1_write_cas': 0, 'dc1_precharge': 0, 'dc1_precharge_all': 0, 'dc1_refresh': 0, 'dc1_idle': 0, 'dc1_overhead': 0, 'dc1_bus_turnarounds': 0}\u001b[0m\n",
            "\u001b[32m2025-05-29 14:43:59.208\u001b[0m | \u001b[1mINFO    \u001b[0m | \u001b[35m         noc_perfmon\u001b[0m | \u001b[36m               chipscopy.api.noc.noc_perfmon_utils\u001b[0m | \u001b[36m145 \u001b[0m | \u001b[1mddrmc_x0y0: rb: 0.0, wb: 0.0, rbw: 0.0, wbw: 0.0, arl: 0.0, awl: 0.0\u001b[0m\n",
            "\u001b[32m2025-05-29 14:43:59.411\u001b[0m | \u001b[1mINFO    \u001b[0m | \u001b[35m         noc_perfmon\u001b[0m | \u001b[36m               chipscopy.api.noc.noc_perfmon_utils\u001b[0m | \u001b[36m145 \u001b[0m | \u001b[1mnoc_nmu512_x0y0: rb: 0, wb: 0, rbw: 0.0, wbw: 0.0, arl: 0.0, awl: 0.0\u001b[0m\n",
            "\u001b[32m2025-05-29 14:43:59.615\u001b[0m | \u001b[1mINFO    \u001b[0m | \u001b[35m         noc_perfmon\u001b[0m | \u001b[36m               chipscopy.api.noc.noc_perfmon_utils\u001b[0m | \u001b[36m365 \u001b[0m | \u001b[1m{'dc0_activates': 0, 'dc0_read_cas': 0, 'dc0_write_cas': 0, 'dc0_precharge': 0, 'dc0_precharge_all': 0, 'dc0_refresh': 86037, 'dc0_idle': 536870912, 'dc0_overhead': 0, 'dc0_bus_turnarounds': 0, 'dc1_activates': 0, 'dc1_read_cas': 59, 'dc1_write_cas': 0, 'dc1_precharge': 0, 'dc1_precharge_all': 0, 'dc1_refresh': 0, 'dc1_idle': 0, 'dc1_overhead': 0, 'dc1_bus_turnarounds': 0}\u001b[0m\n",
            "\u001b[32m2025-05-29 14:43:59.719\u001b[0m | \u001b[1mINFO    \u001b[0m | \u001b[35m         noc_perfmon\u001b[0m | \u001b[36m               chipscopy.api.noc.noc_perfmon_utils\u001b[0m | \u001b[36m145 \u001b[0m | \u001b[1mddrmc_x0y0: rb: 0.0, wb: 0.0, rbw: 0.0, wbw: 0.0, arl: 0.0, awl: 0.0\u001b[0m\n",
            "\u001b[32m2025-05-29 14:44:00.222\u001b[0m | \u001b[1mINFO    \u001b[0m | \u001b[35m         noc_perfmon\u001b[0m | \u001b[36m               chipscopy.api.noc.noc_perfmon_utils\u001b[0m | \u001b[36m365 \u001b[0m | \u001b[1m{'dc0_activates': 0, 'dc0_read_cas': 0, 'dc0_write_cas': 0, 'dc0_precharge': 0, 'dc0_precharge_all': 0, 'dc0_refresh': 86037, 'dc0_idle': 536870912, 'dc0_overhead': 0, 'dc0_bus_turnarounds': 0, 'dc1_activates': 0, 'dc1_read_cas': 59, 'dc1_write_cas': 0, 'dc1_precharge': 0, 'dc1_precharge_all': 0, 'dc1_refresh': 0, 'dc1_idle': 0, 'dc1_overhead': 0, 'dc1_bus_turnarounds': 0}\u001b[0m\n",
            "\u001b[32m2025-05-29 14:44:00.324\u001b[0m | \u001b[1mINFO    \u001b[0m | \u001b[35m         noc_perfmon\u001b[0m | \u001b[36m               chipscopy.api.noc.noc_perfmon_utils\u001b[0m | \u001b[36m145 \u001b[0m | \u001b[1mnoc_nmu512_x0y0: rb: 0, wb: 0, rbw: 0.0, wbw: 0.0, arl: 0.0, awl: 0.0\u001b[0m\n",
            "\u001b[32m2025-05-29 14:44:00.326\u001b[0m | \u001b[1mINFO    \u001b[0m | \u001b[35m         noc_perfmon\u001b[0m | \u001b[36m               chipscopy.api.noc.noc_perfmon_utils\u001b[0m | \u001b[36m145 \u001b[0m | \u001b[1mddrmc_x0y0: rb: 0.0, wb: 0.0, rbw: 0.0, wbw: 0.0, arl: 0.0, awl: 0.0\u001b[0m\n",
            "\u001b[32m2025-05-29 14:44:00.829\u001b[0m | \u001b[1mINFO    \u001b[0m | \u001b[35m         noc_perfmon\u001b[0m | \u001b[36m               chipscopy.api.noc.noc_perfmon_utils\u001b[0m | \u001b[36m145 \u001b[0m | \u001b[1mddrmc_x0y0: rb: 0.0, wb: 0.0, rbw: 0.0, wbw: 0.0, arl: 0.0, awl: 0.0\u001b[0m\n",
            "\u001b[32m2025-05-29 14:44:00.931\u001b[0m | \u001b[1mINFO    \u001b[0m | \u001b[35m         noc_perfmon\u001b[0m | \u001b[36m               chipscopy.api.noc.noc_perfmon_utils\u001b[0m | \u001b[36m365 \u001b[0m | \u001b[1m{'dc0_activates': 0, 'dc0_read_cas': 0, 'dc0_write_cas': 0, 'dc0_precharge': 0, 'dc0_precharge_all': 0, 'dc0_refresh': 86037, 'dc0_idle': 536870912, 'dc0_overhead': 0, 'dc0_bus_turnarounds': 0, 'dc1_activates': 0, 'dc1_read_cas': 59, 'dc1_write_cas': 0, 'dc1_precharge': 0, 'dc1_precharge_all': 0, 'dc1_refresh': 0, 'dc1_idle': 0, 'dc1_overhead': 0, 'dc1_bus_turnarounds': 0}\u001b[0m\n",
            "\u001b[32m2025-05-29 14:44:01.134\u001b[0m | \u001b[1mINFO    \u001b[0m | \u001b[35m         noc_perfmon\u001b[0m | \u001b[36m               chipscopy.api.noc.noc_perfmon_utils\u001b[0m | \u001b[36m145 \u001b[0m | \u001b[1mnoc_nmu512_x0y0: rb: 0, wb: 0, rbw: 0.0, wbw: 0.0, arl: 0.0, awl: 0.0\u001b[0m\n",
            "\u001b[32m2025-05-29 14:44:01.436\u001b[0m | \u001b[1mINFO    \u001b[0m | \u001b[35m         noc_perfmon\u001b[0m | \u001b[36m               chipscopy.api.noc.noc_perfmon_utils\u001b[0m | \u001b[36m145 \u001b[0m | \u001b[1mddrmc_x0y0: rb: 0.0, wb: 0.0, rbw: 0.0, wbw: 0.0, arl: 0.0, awl: 0.0\u001b[0m\n",
            "\u001b[32m2025-05-29 14:44:01.639\u001b[0m | \u001b[1mINFO    \u001b[0m | \u001b[35m         noc_perfmon\u001b[0m | \u001b[36m               chipscopy.api.noc.noc_perfmon_utils\u001b[0m | \u001b[36m365 \u001b[0m | \u001b[1m{'dc0_activates': 0, 'dc0_read_cas': 0, 'dc0_write_cas': 0, 'dc0_precharge': 0, 'dc0_precharge_all': 0, 'dc0_refresh': 86037, 'dc0_idle': 536870912, 'dc0_overhead': 0, 'dc0_bus_turnarounds': 0, 'dc1_activates': 0, 'dc1_read_cas': 59, 'dc1_write_cas': 0, 'dc1_precharge': 0, 'dc1_precharge_all': 0, 'dc1_refresh': 0, 'dc1_idle': 0, 'dc1_overhead': 0, 'dc1_bus_turnarounds': 0}\u001b[0m\n",
            "\u001b[32m2025-05-29 14:44:01.942\u001b[0m | \u001b[1mINFO    \u001b[0m | \u001b[35m         noc_perfmon\u001b[0m | \u001b[36m               chipscopy.api.noc.noc_perfmon_utils\u001b[0m | \u001b[36m145 \u001b[0m | \u001b[1mddrmc_x0y0: rb: 0.0, wb: 0.0, rbw: 0.0, wbw: 0.0, arl: 0.0, awl: 0.0\u001b[0m\n",
            "\u001b[32m2025-05-29 14:44:02.044\u001b[0m | \u001b[1mINFO    \u001b[0m | \u001b[35m         noc_perfmon\u001b[0m | \u001b[36m               chipscopy.api.noc.noc_perfmon_utils\u001b[0m | \u001b[36m145 \u001b[0m | \u001b[1mnoc_nmu512_x0y0: rb: 0, wb: 0, rbw: 0.0, wbw: 0.0, arl: 0.0, awl: 0.0\u001b[0m\n",
            "\u001b[32m2025-05-29 14:44:02.247\u001b[0m | \u001b[1mINFO    \u001b[0m | \u001b[35m         noc_perfmon\u001b[0m | \u001b[36m               chipscopy.api.noc.noc_perfmon_utils\u001b[0m | \u001b[36m365 \u001b[0m | \u001b[1m{'dc0_activates': 0, 'dc0_read_cas': 0, 'dc0_write_cas': 0, 'dc0_precharge': 0, 'dc0_precharge_all': 0, 'dc0_refresh': 86037, 'dc0_idle': 536870912, 'dc0_overhead': 0, 'dc0_bus_turnarounds': 0, 'dc1_activates': 0, 'dc1_read_cas': 59, 'dc1_write_cas': 0, 'dc1_precharge': 0, 'dc1_precharge_all': 0, 'dc1_refresh': 0, 'dc1_idle': 0, 'dc1_overhead': 0, 'dc1_bus_turnarounds': 0}\u001b[0m\n",
            "\u001b[32m2025-05-29 14:44:02.450\u001b[0m | \u001b[1mINFO    \u001b[0m | \u001b[35m         noc_perfmon\u001b[0m | \u001b[36m               chipscopy.api.noc.noc_perfmon_utils\u001b[0m | \u001b[36m145 \u001b[0m | \u001b[1mddrmc_x0y0: rb: 0.0, wb: 0.0, rbw: 0.0, wbw: 0.0, arl: 0.0, awl: 0.0\u001b[0m\n",
            "\u001b[32m2025-05-29 14:44:02.953\u001b[0m | \u001b[1mINFO    \u001b[0m | \u001b[35m         noc_perfmon\u001b[0m | \u001b[36m               chipscopy.api.noc.noc_perfmon_utils\u001b[0m | \u001b[36m365 \u001b[0m | \u001b[1m{'dc0_activates': 0, 'dc0_read_cas': 0, 'dc0_write_cas': 0, 'dc0_precharge': 0, 'dc0_precharge_all': 0, 'dc0_refresh': 86037, 'dc0_idle': 536870912, 'dc0_overhead': 0, 'dc0_bus_turnarounds': 0, 'dc1_activates': 0, 'dc1_read_cas': 59, 'dc1_write_cas': 0, 'dc1_precharge': 0, 'dc1_precharge_all': 0, 'dc1_refresh': 0, 'dc1_idle': 0, 'dc1_overhead': 0, 'dc1_bus_turnarounds': 0}\u001b[0m\n",
            "\u001b[32m2025-05-29 14:44:02.955\u001b[0m | \u001b[1mINFO    \u001b[0m | \u001b[35m         noc_perfmon\u001b[0m | \u001b[36m               chipscopy.api.noc.noc_perfmon_utils\u001b[0m | \u001b[36m145 \u001b[0m | \u001b[1mnoc_nmu512_x0y0: rb: 0, wb: 0, rbw: 0.0, wbw: 0.0, arl: 0.0, awl: 0.0\u001b[0m\n",
            "\u001b[32m2025-05-29 14:44:03.057\u001b[0m | \u001b[1mINFO    \u001b[0m | \u001b[35m         noc_perfmon\u001b[0m | \u001b[36m               chipscopy.api.noc.noc_perfmon_utils\u001b[0m | \u001b[36m145 \u001b[0m | \u001b[1mddrmc_x0y0: rb: 0.0, wb: 0.0, rbw: 0.0, wbw: 0.0, arl: 0.0, awl: 0.0\u001b[0m\n",
            "\u001b[32m2025-05-29 14:44:03.560\u001b[0m | \u001b[1mINFO    \u001b[0m | \u001b[35m         noc_perfmon\u001b[0m | \u001b[36m               chipscopy.api.noc.noc_perfmon_utils\u001b[0m | \u001b[36m145 \u001b[0m | \u001b[1mddrmc_x0y0: rb: 0.0, wb: 0.0, rbw: 0.0, wbw: 0.0, arl: 0.0, awl: 0.0\u001b[0m\n",
            "\u001b[32m2025-05-29 14:44:03.663\u001b[0m | \u001b[1mINFO    \u001b[0m | \u001b[35m         noc_perfmon\u001b[0m | \u001b[36m               chipscopy.api.noc.noc_perfmon_utils\u001b[0m | \u001b[36m365 \u001b[0m | \u001b[1m{'dc0_activates': 0, 'dc0_read_cas': 0, 'dc0_write_cas': 0, 'dc0_precharge': 0, 'dc0_precharge_all': 0, 'dc0_refresh': 86037, 'dc0_idle': 536870912, 'dc0_overhead': 0, 'dc0_bus_turnarounds': 0, 'dc1_activates': 0, 'dc1_read_cas': 59, 'dc1_write_cas': 0, 'dc1_precharge': 0, 'dc1_precharge_all': 0, 'dc1_refresh': 0, 'dc1_idle': 0, 'dc1_overhead': 0, 'dc1_bus_turnarounds': 0}\u001b[0m\n",
            "\u001b[32m2025-05-29 14:44:03.866\u001b[0m | \u001b[1mINFO    \u001b[0m | \u001b[35m         noc_perfmon\u001b[0m | \u001b[36m               chipscopy.api.noc.noc_perfmon_utils\u001b[0m | \u001b[36m145 \u001b[0m | \u001b[1mnoc_nmu512_x0y0: rb: 0, wb: 0, rbw: 0.0, wbw: 0.0, arl: 0.0, awl: 0.0\u001b[0m\n",
            "\u001b[32m2025-05-29 14:44:04.169\u001b[0m | \u001b[1mINFO    \u001b[0m | \u001b[35m         noc_perfmon\u001b[0m | \u001b[36m               chipscopy.api.noc.noc_perfmon_utils\u001b[0m | \u001b[36m145 \u001b[0m | \u001b[1mddrmc_x0y0: rb: 0.0, wb: 0.0, rbw: 0.0, wbw: 0.0, arl: 0.0, awl: 0.0\u001b[0m\n",
            "\u001b[32m2025-05-29 14:44:04.271\u001b[0m | \u001b[1mINFO    \u001b[0m | \u001b[35m         noc_perfmon\u001b[0m | \u001b[36m               chipscopy.api.noc.noc_perfmon_utils\u001b[0m | \u001b[36m365 \u001b[0m | \u001b[1m{'dc0_activates': 0, 'dc0_read_cas': 0, 'dc0_write_cas': 0, 'dc0_precharge': 0, 'dc0_precharge_all': 0, 'dc0_refresh': 86037, 'dc0_idle': 536870912, 'dc0_overhead': 0, 'dc0_bus_turnarounds': 0, 'dc1_activates': 0, 'dc1_read_cas': 59, 'dc1_write_cas': 0, 'dc1_precharge': 0, 'dc1_precharge_all': 0, 'dc1_refresh': 0, 'dc1_idle': 0, 'dc1_overhead': 0, 'dc1_bus_turnarounds': 0}\u001b[0m\n",
            "\u001b[32m2025-05-29 14:44:04.676\u001b[0m | \u001b[1mINFO    \u001b[0m | \u001b[35m         noc_perfmon\u001b[0m | \u001b[36m               chipscopy.api.noc.noc_perfmon_utils\u001b[0m | \u001b[36m145 \u001b[0m | \u001b[1mddrmc_x0y0: rb: 0.0, wb: 0.0, rbw: 0.0, wbw: 0.0, arl: 0.0, awl: 0.0\u001b[0m\n",
            "\u001b[32m2025-05-29 14:44:04.778\u001b[0m | \u001b[1mINFO    \u001b[0m | \u001b[35m         noc_perfmon\u001b[0m | \u001b[36m               chipscopy.api.noc.noc_perfmon_utils\u001b[0m | \u001b[36m145 \u001b[0m | \u001b[1mnoc_nmu512_x0y0: rb: 0, wb: 0, rbw: 0.0, wbw: 0.0, arl: 0.0, awl: 0.0\u001b[0m\n",
            "\u001b[32m2025-05-29 14:44:04.981\u001b[0m | \u001b[1mINFO    \u001b[0m | \u001b[35m         noc_perfmon\u001b[0m | \u001b[36m               chipscopy.api.noc.noc_perfmon_utils\u001b[0m | \u001b[36m365 \u001b[0m | \u001b[1m{'dc0_activates': 0, 'dc0_read_cas': 0, 'dc0_write_cas': 0, 'dc0_precharge': 0, 'dc0_precharge_all': 0, 'dc0_refresh': 86037, 'dc0_idle': 536870912, 'dc0_overhead': 0, 'dc0_bus_turnarounds': 0, 'dc1_activates': 0, 'dc1_read_cas': 59, 'dc1_write_cas': 0, 'dc1_precharge': 0, 'dc1_precharge_all': 0, 'dc1_refresh': 0, 'dc1_idle': 0, 'dc1_overhead': 0, 'dc1_bus_turnarounds': 0}\u001b[0m\n",
            "\u001b[32m2025-05-29 14:44:05.185\u001b[0m | \u001b[1mINFO    \u001b[0m | \u001b[35m         noc_perfmon\u001b[0m | \u001b[36m               chipscopy.api.noc.noc_perfmon_utils\u001b[0m | \u001b[36m145 \u001b[0m | \u001b[1mddrmc_x0y0: rb: 0.0, wb: 0.0, rbw: 0.0, wbw: 0.0, arl: 0.0, awl: 0.0\u001b[0m\n",
            "\u001b[32m2025-05-29 14:44:05.689\u001b[0m | \u001b[1mINFO    \u001b[0m | \u001b[35m         noc_perfmon\u001b[0m | \u001b[36m               chipscopy.api.noc.noc_perfmon_utils\u001b[0m | \u001b[36m365 \u001b[0m | \u001b[1m{'dc0_activates': 0, 'dc0_read_cas': 0, 'dc0_write_cas': 0, 'dc0_precharge': 0, 'dc0_precharge_all': 0, 'dc0_refresh': 86037, 'dc0_idle': 536870912, 'dc0_overhead': 0, 'dc0_bus_turnarounds': 0, 'dc1_activates': 0, 'dc1_read_cas': 59, 'dc1_write_cas': 0, 'dc1_precharge': 0, 'dc1_precharge_all': 0, 'dc1_refresh': 0, 'dc1_idle': 0, 'dc1_overhead': 0, 'dc1_bus_turnarounds': 0}\u001b[0m\n",
            "\u001b[32m2025-05-29 14:44:05.692\u001b[0m | \u001b[1mINFO    \u001b[0m | \u001b[35m         noc_perfmon\u001b[0m | \u001b[36m               chipscopy.api.noc.noc_perfmon_utils\u001b[0m | \u001b[36m145 \u001b[0m | \u001b[1mnoc_nmu512_x0y0: rb: 0, wb: 0, rbw: 0.0, wbw: 0.0, arl: 0.0, awl: 0.0\u001b[0m\n",
            "\u001b[32m2025-05-29 14:44:05.795\u001b[0m | \u001b[1mINFO    \u001b[0m | \u001b[35m         noc_perfmon\u001b[0m | \u001b[36m               chipscopy.api.noc.noc_perfmon_utils\u001b[0m | \u001b[36m145 \u001b[0m | \u001b[1mddrmc_x0y0: rb: 0.0, wb: 0.0, rbw: 0.0, wbw: 0.0, arl: 0.0, awl: 0.0\u001b[0m\n",
            "\u001b[32m2025-05-29 14:44:06.298\u001b[0m | \u001b[1mINFO    \u001b[0m | \u001b[35m         noc_perfmon\u001b[0m | \u001b[36m               chipscopy.api.noc.noc_perfmon_utils\u001b[0m | \u001b[36m145 \u001b[0m | \u001b[1mddrmc_x0y0: rb: 0.0, wb: 0.0, rbw: 0.0, wbw: 0.0, arl: 0.0, awl: 0.0\u001b[0m\n",
            "\u001b[32m2025-05-29 14:44:06.300\u001b[0m | \u001b[1mINFO    \u001b[0m | \u001b[35m         noc_perfmon\u001b[0m | \u001b[36m               chipscopy.api.noc.noc_perfmon_utils\u001b[0m | \u001b[36m365 \u001b[0m | \u001b[1m{'dc0_activates': 0, 'dc0_read_cas': 0, 'dc0_write_cas': 0, 'dc0_precharge': 0, 'dc0_precharge_all': 0, 'dc0_refresh': 86037, 'dc0_idle': 536870912, 'dc0_overhead': 0, 'dc0_bus_turnarounds': 0, 'dc1_activates': 0, 'dc1_read_cas': 59, 'dc1_write_cas': 0, 'dc1_precharge': 0, 'dc1_precharge_all': 0, 'dc1_refresh': 0, 'dc1_idle': 0, 'dc1_overhead': 0, 'dc1_bus_turnarounds': 0}\u001b[0m\n",
            "\u001b[32m2025-05-29 14:44:06.603\u001b[0m | \u001b[1mINFO    \u001b[0m | \u001b[35m         noc_perfmon\u001b[0m | \u001b[36m               chipscopy.api.noc.noc_perfmon_utils\u001b[0m | \u001b[36m145 \u001b[0m | \u001b[1mnoc_nmu512_x0y0: rb: 0, wb: 0, rbw: 0.0, wbw: 0.0, arl: 0.0, awl: 0.0\u001b[0m\n",
            "\u001b[32m2025-05-29 14:44:06.806\u001b[0m | \u001b[1mINFO    \u001b[0m | \u001b[35m         noc_perfmon\u001b[0m | \u001b[36m               chipscopy.api.noc.noc_perfmon_utils\u001b[0m | \u001b[36m145 \u001b[0m | \u001b[1mddrmc_x0y0: rb: 0.0, wb: 0.0, rbw: 0.0, wbw: 0.0, arl: 0.0, awl: 0.0\u001b[0m\n",
            "\u001b[32m2025-05-29 14:44:07.008\u001b[0m | \u001b[1mINFO    \u001b[0m | \u001b[35m         noc_perfmon\u001b[0m | \u001b[36m               chipscopy.api.noc.noc_perfmon_utils\u001b[0m | \u001b[36m365 \u001b[0m | \u001b[1m{'dc0_activates': 0, 'dc0_read_cas': 0, 'dc0_write_cas': 0, 'dc0_precharge': 0, 'dc0_precharge_all': 0, 'dc0_refresh': 86037, 'dc0_idle': 536870912, 'dc0_overhead': 0, 'dc0_bus_turnarounds': 0, 'dc1_activates': 0, 'dc1_read_cas': 59, 'dc1_write_cas': 0, 'dc1_precharge': 0, 'dc1_precharge_all': 0, 'dc1_refresh': 0, 'dc1_idle': 0, 'dc1_overhead': 0, 'dc1_bus_turnarounds': 0}\u001b[0m\n",
            "\u001b[32m2025-05-29 14:44:07.411\u001b[0m | \u001b[1mINFO    \u001b[0m | \u001b[35m         noc_perfmon\u001b[0m | \u001b[36m               chipscopy.api.noc.noc_perfmon_utils\u001b[0m | \u001b[36m145 \u001b[0m | \u001b[1mddrmc_x0y0: rb: 0.0, wb: 0.0, rbw: 0.0, wbw: 0.0, arl: 0.0, awl: 0.0\u001b[0m\n",
            "\u001b[32m2025-05-29 14:44:07.513\u001b[0m | \u001b[1mINFO    \u001b[0m | \u001b[35m         noc_perfmon\u001b[0m | \u001b[36m               chipscopy.api.noc.noc_perfmon_utils\u001b[0m | \u001b[36m145 \u001b[0m | \u001b[1mnoc_nmu512_x0y0: rb: 0, wb: 0, rbw: 0.0, wbw: 0.0, arl: 0.0, awl: 0.0\u001b[0m\n",
            "\u001b[32m2025-05-29 14:44:07.716\u001b[0m | \u001b[1mINFO    \u001b[0m | \u001b[35m         noc_perfmon\u001b[0m | \u001b[36m               chipscopy.api.noc.noc_perfmon_utils\u001b[0m | \u001b[36m365 \u001b[0m | \u001b[1m{'dc0_activates': 0, 'dc0_read_cas': 0, 'dc0_write_cas': 0, 'dc0_precharge': 0, 'dc0_precharge_all': 0, 'dc0_refresh': 86038, 'dc0_idle': 536870912, 'dc0_overhead': 0, 'dc0_bus_turnarounds': 0, 'dc1_activates': 0, 'dc1_read_cas': 59, 'dc1_write_cas': 0, 'dc1_precharge': 0, 'dc1_precharge_all': 0, 'dc1_refresh': 0, 'dc1_idle': 0, 'dc1_overhead': 0, 'dc1_bus_turnarounds': 0}\u001b[0m\n",
            "\u001b[32m2025-05-29 14:44:07.919\u001b[0m | \u001b[1mINFO    \u001b[0m | \u001b[35m         noc_perfmon\u001b[0m | \u001b[36m               chipscopy.api.noc.noc_perfmon_utils\u001b[0m | \u001b[36m145 \u001b[0m | \u001b[1mddrmc_x0y0: rb: 0.0, wb: 0.0, rbw: 0.0, wbw: 0.0, arl: 0.0, awl: 0.0\u001b[0m\n",
            "\u001b[32m2025-05-29 14:44:08.323\u001b[0m | \u001b[1mINFO    \u001b[0m | \u001b[35m         noc_perfmon\u001b[0m | \u001b[36m               chipscopy.api.noc.noc_perfmon_utils\u001b[0m | \u001b[36m145 \u001b[0m | \u001b[1mnoc_nmu512_x0y0: rb: 0, wb: 0, rbw: 0.0, wbw: 0.0, arl: 0.0, awl: 0.0\u001b[0m\n",
            "\u001b[32m2025-05-29 14:44:08.426\u001b[0m | \u001b[1mINFO    \u001b[0m | \u001b[35m         noc_perfmon\u001b[0m | \u001b[36m               chipscopy.api.noc.noc_perfmon_utils\u001b[0m | \u001b[36m365 \u001b[0m | \u001b[1m{'dc0_activates': 0, 'dc0_read_cas': 0, 'dc0_write_cas': 0, 'dc0_precharge': 0, 'dc0_precharge_all': 0, 'dc0_refresh': 86037, 'dc0_idle': 536870912, 'dc0_overhead': 0, 'dc0_bus_turnarounds': 0, 'dc1_activates': 0, 'dc1_read_cas': 59, 'dc1_write_cas': 0, 'dc1_precharge': 0, 'dc1_precharge_all': 0, 'dc1_refresh': 0, 'dc1_idle': 0, 'dc1_overhead': 0, 'dc1_bus_turnarounds': 0}\u001b[0m\n",
            "\u001b[32m2025-05-29 14:44:08.429\u001b[0m | \u001b[1mINFO    \u001b[0m | \u001b[35m         noc_perfmon\u001b[0m | \u001b[36m               chipscopy.api.noc.noc_perfmon_utils\u001b[0m | \u001b[36m145 \u001b[0m | \u001b[1mddrmc_x0y0: rb: 0.0, wb: 0.0, rbw: 0.0, wbw: 0.0, arl: 0.0, awl: 0.0\u001b[0m\n",
            "\u001b[32m2025-05-29 14:44:09.032\u001b[0m | \u001b[1mINFO    \u001b[0m | \u001b[35m         noc_perfmon\u001b[0m | \u001b[36m               chipscopy.api.noc.noc_perfmon_utils\u001b[0m | \u001b[36m145 \u001b[0m | \u001b[1mddrmc_x0y0: rb: 0.0, wb: 0.0, rbw: 0.0, wbw: 0.0, arl: 0.0, awl: 0.0\u001b[0m\n",
            "\u001b[32m2025-05-29 14:44:09.035\u001b[0m | \u001b[1mINFO    \u001b[0m | \u001b[35m         noc_perfmon\u001b[0m | \u001b[36m               chipscopy.api.noc.noc_perfmon_utils\u001b[0m | \u001b[36m365 \u001b[0m | \u001b[1m{'dc0_activates': 0, 'dc0_read_cas': 0, 'dc0_write_cas': 0, 'dc0_precharge': 0, 'dc0_precharge_all': 0, 'dc0_refresh': 86037, 'dc0_idle': 536870912, 'dc0_overhead': 0, 'dc0_bus_turnarounds': 0, 'dc1_activates': 0, 'dc1_read_cas': 59, 'dc1_write_cas': 0, 'dc1_precharge': 0, 'dc1_precharge_all': 0, 'dc1_refresh': 0, 'dc1_idle': 0, 'dc1_overhead': 0, 'dc1_bus_turnarounds': 0}\u001b[0m\n",
            "\u001b[32m2025-05-29 14:44:09.238\u001b[0m | \u001b[1mINFO    \u001b[0m | \u001b[35m         noc_perfmon\u001b[0m | \u001b[36m               chipscopy.api.noc.noc_perfmon_utils\u001b[0m | \u001b[36m145 \u001b[0m | \u001b[1mnoc_nmu512_x0y0: rb: 0, wb: 0, rbw: 0.0, wbw: 0.0, arl: 0.0, awl: 0.0\u001b[0m\n",
            "\u001b[32m2025-05-29 14:44:09.541\u001b[0m | \u001b[1mINFO    \u001b[0m | \u001b[35m         noc_perfmon\u001b[0m | \u001b[36m               chipscopy.api.noc.noc_perfmon_utils\u001b[0m | \u001b[36m145 \u001b[0m | \u001b[1mddrmc_x0y0: rb: 0.0, wb: 0.0, rbw: 0.0, wbw: 0.0, arl: 0.0, awl: 0.0\u001b[0m\n",
            "\u001b[32m2025-05-29 14:44:09.744\u001b[0m | \u001b[1mINFO    \u001b[0m | \u001b[35m         noc_perfmon\u001b[0m | \u001b[36m               chipscopy.api.noc.noc_perfmon_utils\u001b[0m | \u001b[36m365 \u001b[0m | \u001b[1m{'dc0_activates': 0, 'dc0_read_cas': 0, 'dc0_write_cas': 0, 'dc0_precharge': 0, 'dc0_precharge_all': 0, 'dc0_refresh': 86037, 'dc0_idle': 536870912, 'dc0_overhead': 0, 'dc0_bus_turnarounds': 0, 'dc1_activates': 0, 'dc1_read_cas': 59, 'dc1_write_cas': 0, 'dc1_precharge': 0, 'dc1_precharge_all': 0, 'dc1_refresh': 0, 'dc1_idle': 0, 'dc1_overhead': 0, 'dc1_bus_turnarounds': 0}\u001b[0m\n",
            "\u001b[32m2025-05-29 14:44:10.047\u001b[0m | \u001b[1mINFO    \u001b[0m | \u001b[35m         noc_perfmon\u001b[0m | \u001b[36m               chipscopy.api.noc.noc_perfmon_utils\u001b[0m | \u001b[36m145 \u001b[0m | \u001b[1mddrmc_x0y0: rb: 0.0, wb: 0.0, rbw: 0.0, wbw: 0.0, arl: 0.0, awl: 0.0\u001b[0m\n",
            "\u001b[32m2025-05-29 14:44:10.151\u001b[0m | \u001b[1mINFO    \u001b[0m | \u001b[35m         noc_perfmon\u001b[0m | \u001b[36m               chipscopy.api.noc.noc_perfmon_utils\u001b[0m | \u001b[36m145 \u001b[0m | \u001b[1mnoc_nmu512_x0y0: rb: 0, wb: 0, rbw: 0.0, wbw: 0.0, arl: 0.0, awl: 0.0\u001b[0m\n",
            "\u001b[32m2025-05-29 14:44:10.454\u001b[0m | \u001b[1mINFO    \u001b[0m | \u001b[35m         noc_perfmon\u001b[0m | \u001b[36m               chipscopy.api.noc.noc_perfmon_utils\u001b[0m | \u001b[36m365 \u001b[0m | \u001b[1m{'dc0_activates': 0, 'dc0_read_cas': 0, 'dc0_write_cas': 0, 'dc0_precharge': 0, 'dc0_precharge_all': 0, 'dc0_refresh': 86037, 'dc0_idle': 536870912, 'dc0_overhead': 0, 'dc0_bus_turnarounds': 0, 'dc1_activates': 0, 'dc1_read_cas': 59, 'dc1_write_cas': 0, 'dc1_precharge': 0, 'dc1_precharge_all': 0, 'dc1_refresh': 0, 'dc1_idle': 0, 'dc1_overhead': 0, 'dc1_bus_turnarounds': 0}\u001b[0m\n",
            "\u001b[32m2025-05-29 14:44:10.657\u001b[0m | \u001b[1mINFO    \u001b[0m | \u001b[35m         noc_perfmon\u001b[0m | \u001b[36m               chipscopy.api.noc.noc_perfmon_utils\u001b[0m | \u001b[36m145 \u001b[0m | \u001b[1mddrmc_x0y0: rb: 0.0, wb: 0.0, rbw: 0.0, wbw: 0.0, arl: 0.0, awl: 0.0\u001b[0m\n",
            "\u001b[32m2025-05-29 14:44:11.061\u001b[0m | \u001b[1mINFO    \u001b[0m | \u001b[35m         noc_perfmon\u001b[0m | \u001b[36m               chipscopy.api.noc.noc_perfmon_utils\u001b[0m | \u001b[36m145 \u001b[0m | \u001b[1mnoc_nmu512_x0y0: rb: 0, wb: 0, rbw: 0.0, wbw: 0.0, arl: 0.0, awl: 0.0\u001b[0m\n",
            "\u001b[32m2025-05-29 14:44:11.063\u001b[0m | \u001b[1mINFO    \u001b[0m | \u001b[35m         noc_perfmon\u001b[0m | \u001b[36m               chipscopy.api.noc.noc_perfmon_utils\u001b[0m | \u001b[36m365 \u001b[0m | \u001b[1m{'dc0_activates': 0, 'dc0_read_cas': 0, 'dc0_write_cas': 0, 'dc0_precharge': 0, 'dc0_precharge_all': 0, 'dc0_refresh': 86037, 'dc0_idle': 536870912, 'dc0_overhead': 0, 'dc0_bus_turnarounds': 0, 'dc1_activates': 0, 'dc1_read_cas': 59, 'dc1_write_cas': 0, 'dc1_precharge': 0, 'dc1_precharge_all': 0, 'dc1_refresh': 0, 'dc1_idle': 0, 'dc1_overhead': 0, 'dc1_bus_turnarounds': 0}\u001b[0m\n",
            "\u001b[32m2025-05-29 14:44:11.165\u001b[0m | \u001b[1mINFO    \u001b[0m | \u001b[35m         noc_perfmon\u001b[0m | \u001b[36m               chipscopy.api.noc.noc_perfmon_utils\u001b[0m | \u001b[36m145 \u001b[0m | \u001b[1mddrmc_x0y0: rb: 0.0, wb: 0.0, rbw: 0.0, wbw: 0.0, arl: 0.0, awl: 0.0\u001b[0m\n",
            "\u001b[32m2025-05-29 14:44:11.770\u001b[0m | \u001b[1mINFO    \u001b[0m | \u001b[35m         noc_perfmon\u001b[0m | \u001b[36m               chipscopy.api.noc.noc_perfmon_utils\u001b[0m | \u001b[36m145 \u001b[0m | \u001b[1mddrmc_x0y0: rb: 0.0, wb: 0.0, rbw: 0.0, wbw: 0.0, arl: 0.0, awl: 0.0\u001b[0m\n",
            "\u001b[32m2025-05-29 14:44:11.773\u001b[0m | \u001b[1mINFO    \u001b[0m | \u001b[35m         noc_perfmon\u001b[0m | \u001b[36m               chipscopy.api.noc.noc_perfmon_utils\u001b[0m | \u001b[36m365 \u001b[0m | \u001b[1m{'dc0_activates': 0, 'dc0_read_cas': 0, 'dc0_write_cas': 0, 'dc0_precharge': 0, 'dc0_precharge_all': 0, 'dc0_refresh': 86037, 'dc0_idle': 536870912, 'dc0_overhead': 0, 'dc0_bus_turnarounds': 0, 'dc1_activates': 0, 'dc1_read_cas': 59, 'dc1_write_cas': 0, 'dc1_precharge': 0, 'dc1_precharge_all': 0, 'dc1_refresh': 0, 'dc1_idle': 0, 'dc1_overhead': 0, 'dc1_bus_turnarounds': 0}\u001b[0m\n",
            "\u001b[32m2025-05-29 14:44:11.976\u001b[0m | \u001b[1mINFO    \u001b[0m | \u001b[35m         noc_perfmon\u001b[0m | \u001b[36m               chipscopy.api.noc.noc_perfmon_utils\u001b[0m | \u001b[36m145 \u001b[0m | \u001b[1mnoc_nmu512_x0y0: rb: 0, wb: 0, rbw: 0.0, wbw: 0.0, arl: 0.0, awl: 0.0\u001b[0m\n",
            "\u001b[32m2025-05-29 14:44:12.279\u001b[0m | \u001b[1mINFO    \u001b[0m | \u001b[35m         noc_perfmon\u001b[0m | \u001b[36m               chipscopy.api.noc.noc_perfmon_utils\u001b[0m | \u001b[36m145 \u001b[0m | \u001b[1mddrmc_x0y0: rb: 0.0, wb: 0.0, rbw: 0.0, wbw: 0.0, arl: 0.0, awl: 0.0\u001b[0m\n",
            "\u001b[32m2025-05-29 14:44:12.482\u001b[0m | \u001b[1mINFO    \u001b[0m | \u001b[35m         noc_perfmon\u001b[0m | \u001b[36m               chipscopy.api.noc.noc_perfmon_utils\u001b[0m | \u001b[36m365 \u001b[0m | \u001b[1m{'dc0_activates': 0, 'dc0_read_cas': 0, 'dc0_write_cas': 0, 'dc0_precharge': 0, 'dc0_precharge_all': 0, 'dc0_refresh': 86037, 'dc0_idle': 536870912, 'dc0_overhead': 0, 'dc0_bus_turnarounds': 0, 'dc1_activates': 0, 'dc1_read_cas': 59, 'dc1_write_cas': 0, 'dc1_precharge': 0, 'dc1_precharge_all': 0, 'dc1_refresh': 0, 'dc1_idle': 0, 'dc1_overhead': 0, 'dc1_bus_turnarounds': 0}\u001b[0m\n",
            "\u001b[32m2025-05-29 14:44:12.785\u001b[0m | \u001b[1mINFO    \u001b[0m | \u001b[35m         noc_perfmon\u001b[0m | \u001b[36m               chipscopy.api.noc.noc_perfmon_utils\u001b[0m | \u001b[36m145 \u001b[0m | \u001b[1mddrmc_x0y0: rb: 0.0, wb: 0.0, rbw: 0.0, wbw: 0.0, arl: 0.0, awl: 0.0\u001b[0m\n",
            "\u001b[32m2025-05-29 14:44:12.888\u001b[0m | \u001b[1mINFO    \u001b[0m | \u001b[35m         noc_perfmon\u001b[0m | \u001b[36m               chipscopy.api.noc.noc_perfmon_utils\u001b[0m | \u001b[36m145 \u001b[0m | \u001b[1mnoc_nmu512_x0y0: rb: 0, wb: 0, rbw: 0.0, wbw: 0.0, arl: 0.0, awl: 0.0\u001b[0m\n"
          ]
        },
        {
          "ename": "KeyboardInterrupt",
          "evalue": "",
          "output_type": "error",
          "traceback": [
            "\u001b[0;31m---------------------------------------------------------------------------\u001b[0m",
            "\u001b[0;31mKeyboardInterrupt\u001b[0m                         Traceback (most recent call last)",
            "Cell \u001b[0;32mIn[11], line 5\u001b[0m\n\u001b[1;32m      3\u001b[0m \u001b[38;5;28;01mwhile\u001b[39;00m \u001b[38;5;28;01mTrue\u001b[39;00m:\n\u001b[1;32m      4\u001b[0m     session\u001b[38;5;241m.\u001b[39mchipscope_view\u001b[38;5;241m.\u001b[39mrun_events()\n\u001b[0;32m----> 5\u001b[0m     \u001b[43msleep\u001b[49m\u001b[43m(\u001b[49m\u001b[38;5;241;43m0.1\u001b[39;49m\u001b[43m)\u001b[49m\n\u001b[1;32m      6\u001b[0m     \u001b[38;5;66;03m# Below will return on burst completion - uncomment if you want to try.\u001b[39;00m\n\u001b[1;32m      7\u001b[0m     \u001b[38;5;66;03m# if all([x <= 0 for x in node_listener.num_samples.values()]):\u001b[39;00m\n\u001b[1;32m      8\u001b[0m     \u001b[38;5;66;03m#     break\u001b[39;00m\n",
            "\u001b[0;31mKeyboardInterrupt\u001b[0m: "
          ]
        }
      ],
      "source": [
        "# Run Main Event Loop\n",
        "loop_count = 0\n",
        "while True:\n",
        "    session.chipscope_view.run_events()\n",
        "    sleep(0.1)\n",
        "    # Below will return on burst completion - uncomment if you want to try.\n",
        "    # if all([x <= 0 for x in node_listener.num_samples.values()]):\n",
        "    #     break"
      ]
    }
  ],
  "metadata": {
    "kernelspec": {
      "display_name": "venv",
      "language": "python",
      "name": "python3"
    },
    "language_info": {
      "codemirror_mode": {
        "name": "ipython",
        "version": 3
      },
      "file_extension": ".py",
      "mimetype": "text/x-python",
      "name": "python",
      "nbconvert_exporter": "python",
      "pygments_lexer": "ipython3",
      "version": "3.10.12"
    }
  },
  "nbformat": 4,
  "nbformat_minor": 5
}
