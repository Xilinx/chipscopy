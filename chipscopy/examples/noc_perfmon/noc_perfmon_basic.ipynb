{
 "cells": [
  {
   "cell_type": "markdown",
   "id": "209bf30f",
   "metadata": {
    "papermill": {
     "duration": 0.004838,
     "end_time": "2023-10-24T22:08:02.191133",
     "exception": false,
     "start_time": "2023-10-24T22:08:02.186295",
     "status": "completed"
    },
    "tags": []
   },
   "source": [
    "<link rel=\"preconnect\" href=\"https://fonts.gstatic.com\">\n",
    "<link href=\"https://fonts.googleapis.com/css2?family=Fira+Code&display=swap\" rel=\"stylesheet\">\n",
    "\n",
    "### License\n",
    "\n",
    "<p style=\"font-family: 'Fira Code', monospace; font-size: 1.2rem\">\n",
    "Copyright (C) 2021-2022, Xilinx, Inc.\n",
    "Copyright (C) 2022-2023, Advanced Micro Devices, Inc.\n",
    "<br><br>\n",
    "Licensed under the Apache License, Version 2.0 (the \"License\");<br>\n",
    "you may not use this file except in compliance with the License.<br><br>\n",
    "You may obtain a copy of the License at <a href=\"http://www.apache.org/licenses/LICENSE-2.0\"?>http://www.apache.org/licenses/LICENSE-2.0</a><br><br>\n",
    "Unless required by applicable law or agreed to in writing, software<br>\n",
    "distributed under the License is distributed on an \"AS IS\" BASIS,<br>\n",
    "WITHOUT WARRANTIES OR CONDITIONS OF ANY KIND, either express or implied.<br>\n",
    "See the License for the specific language governing permissions and<br>\n",
    "limitations under the License.<br>\n",
    "</p>\n"
   ]
  },
  {
   "cell_type": "markdown",
   "id": "e2d5cb5f",
   "metadata": {
    "papermill": {
     "duration": 0.002797,
     "end_time": "2023-10-24T22:08:02.197244",
     "exception": false,
     "start_time": "2023-10-24T22:08:02.194447",
     "status": "completed"
    },
    "tags": []
   },
   "source": [
    "# ChipScoPy NoC Perfmon Example\n",
    "\n",
    "\n",
    "<img src=\"../img/api_overview.png\" width=\"500\" align=\"left\">"
   ]
  },
  {
   "cell_type": "markdown",
   "id": "1d93fbbc",
   "metadata": {
    "papermill": {
     "duration": 0.002729,
     "end_time": "2023-10-24T22:08:02.202813",
     "exception": false,
     "start_time": "2023-10-24T22:08:02.200084",
     "status": "completed"
    },
    "tags": []
   },
   "source": [
    "## Description\n",
    "This example demonstrates how to configure a Versal for taking NoC performance measurements.\n",
    "\n",
    "## Requirements\n",
    "- Local or remote Xilinx Versal board, such as a VCK190\n",
    "- Xilinx hw_server 2023.2 installed and running\n",
    "- Xilinx cs_server 2023.2 installed and running\n",
    "- Python 3.8 or greater installed\n",
    "- ChipScoPy 2023.2 installed\n",
    "- Jupyter notebook support installed - Please do so, using the command `pip install chipscopy[jupyter]`\n",
    "- Matplotlib support installed - Please do so, using the command `pip install chipscopy[core-addons]`"
   ]
  },
  {
   "cell_type": "markdown",
   "id": "f22774ac",
   "metadata": {
    "papermill": {
     "duration": 0.002731,
     "end_time": "2023-10-24T22:08:02.208427",
     "exception": false,
     "start_time": "2023-10-24T22:08:02.205696",
     "status": "completed"
    },
    "tags": []
   },
   "source": [
    "## 1 - Initialization: Imports and File Paths\n",
    "\n",
    "After this step,\n",
    "- Required functions and classes are imported\n",
    "- Paths to server(s) and files are set correctly"
   ]
  },
  {
   "cell_type": "code",
   "execution_count": 1,
   "id": "b5101b21",
   "metadata": {
    "execution": {
     "iopub.execute_input": "2023-10-24T22:08:02.216271Z",
     "iopub.status.busy": "2023-10-24T22:08:02.215388Z",
     "iopub.status.idle": "2023-10-24T22:08:03.244078Z",
     "shell.execute_reply": "2023-10-24T22:08:03.243049Z"
    },
    "papermill": {
     "duration": 1.03496,
     "end_time": "2023-10-24T22:08:03.246160",
     "exception": false,
     "start_time": "2023-10-24T22:08:02.211200",
     "status": "completed"
    },
    "tags": []
   },
   "outputs": [],
   "source": [
    "import os\n",
    "from time import sleep\n",
    "import matplotlib  # for nbconvert'd script\n",
    "from chipscopy.api.noc import (\n",
    "    TC_BEW,\n",
    "    TC_BER,\n",
    "    NoCPerfMonNodeListener,\n",
    ")\n",
    "from chipscopy.api.noc.plotting_utils import MeasurementPlot\n",
    "from chipscopy import create_session, report_versions\n",
    "from chipscopy import get_design_files"
   ]
  },
  {
   "cell_type": "code",
   "execution_count": 2,
   "id": "2bdd2a7f",
   "metadata": {
    "execution": {
     "iopub.execute_input": "2023-10-24T22:08:03.926180Z",
     "iopub.status.busy": "2023-10-24T22:08:03.925096Z",
     "iopub.status.idle": "2023-10-24T22:08:03.932939Z",
     "shell.execute_reply": "2023-10-24T22:08:03.932212Z"
    },
    "papermill": {
     "duration": 0.684309,
     "end_time": "2023-10-24T22:08:03.934277",
     "exception": false,
     "start_time": "2023-10-24T22:08:03.249968",
     "status": "completed"
    },
    "tags": []
   },
   "outputs": [
    {
     "name": "stdout",
     "output_type": "stream",
     "text": [
      "HW_URL: TCP:localhost:3121\n",
      "CS_URL: TCP:localhost:3042\n",
      "PROGRAMMING_FILE: /scratch/2023.2/chipscopy-examples/designs/vck190/production/chipscopy_ced/chipscopy_wrapper.pdi\n",
      "PROBES_FILE:/scratch/2023.2/chipscopy-examples/designs/vck190/production/chipscopy_ced/chipscopy_wrapper.ltx\n"
     ]
    }
   ],
   "source": [
    "# Specify locations of the running hw_server and cs_server below.\n",
    "CS_URL = os.getenv(\"CS_SERVER_URL\", \"TCP:localhost:3042\")\n",
    "HW_URL = os.getenv(\"HW_SERVER_URL\", \"TCP:localhost:3121\")\n",
    "\n",
    "# specify hw and if programming is desired\n",
    "HW_PLATFORM = os.getenv(\"HW_PLATFORM\", \"vck190\")\n",
    "PROG_DEVICE = os.getenv(\"PROG_DEVICE\", 'True').lower() in ('true', '1', 't')\n",
    "\n",
    "# The get_design_files() function tries to find the PDI and LTX files. In non-standard\n",
    "# configurations, you can put the path for PROGRAMMING_FILE and PROBES_FILE below.\n",
    "design_files = get_design_files(f\"{HW_PLATFORM}/production/chipscopy_ced\")\n",
    "\n",
    "PROGRAMMING_FILE = design_files.programming_file\n",
    "PROBES_FILE = design_files.probes_file\n",
    "\n",
    "print(f\"HW_URL: {HW_URL}\")\n",
    "print(f\"CS_URL: {CS_URL}\")\n",
    "print(f\"PROGRAMMING_FILE: {PROGRAMMING_FILE}\")\n",
    "print(f\"PROBES_FILE:{PROBES_FILE}\")"
   ]
  },
  {
   "cell_type": "markdown",
   "id": "b16b68f7",
   "metadata": {
    "papermill": {
     "duration": 0.002807,
     "end_time": "2023-10-24T22:08:03.940591",
     "exception": false,
     "start_time": "2023-10-24T22:08:03.937784",
     "status": "completed"
    },
    "tags": []
   },
   "source": [
    "## 2 - Create a session and connect to the hw_server and cs_server\n",
    "\n",
    "The session is a container that keeps track of devices and debug cores.\n",
    "After this step,\n",
    "- Session is initialized and connected to server(s)\n",
    "- Versions are detected and reported to stdout"
   ]
  },
  {
   "cell_type": "code",
   "execution_count": 3,
   "id": "fc774821",
   "metadata": {
    "execution": {
     "iopub.execute_input": "2023-10-24T22:08:03.948384Z",
     "iopub.status.busy": "2023-10-24T22:08:03.948065Z",
     "iopub.status.idle": "2023-10-24T22:08:07.115159Z",
     "shell.execute_reply": "2023-10-24T22:08:07.114067Z"
    },
    "papermill": {
     "duration": 3.172966,
     "end_time": "2023-10-24T22:08:07.116516",
     "exception": false,
     "start_time": "2023-10-24T22:08:03.943550",
     "status": "completed"
    },
    "tags": []
   },
   "outputs": [
    {
     "data": {
      "text/html": [
       "<pre style=\"white-space:pre;overflow-x:auto;line-height:normal;font-family:Menlo,'DejaVu Sans Mono',consolas,'Courier New',monospace\">\n",
       "\n",
       "</pre>\n"
      ],
      "text/plain": [
       "\n",
       "\n"
      ]
     },
     "metadata": {},
     "output_type": "display_data"
    },
    {
     "data": {
      "text/html": [
       "<pre style=\"white-space:pre;overflow-x:auto;line-height:normal;font-family:Menlo,'DejaVu Sans Mono',consolas,'Courier New',monospace\"><span style=\"font-style: italic\">                      ChipScoPy Version Information                      </span>\n",
       "┌────────────────────────────┬──────────────────────────────────────────┐\n",
       "│<span style=\"font-weight: bold\">                     Entity </span>│<span style=\"font-weight: bold\"> Version                                  </span>│\n",
       "├────────────────────────────┼──────────────────────────────────────────┤\n",
       "│                  ChipScoPy │ ┌───────────┬──────────────────────┐     │\n",
       "│                            │ │<span style=\"font-weight: bold\"> Attribute </span>│<span style=\"font-weight: bold\"> Value                </span>│     │\n",
       "│                            │ ├───────────┼──────────────────────┤     │\n",
       "│                            │ │     Build │ 2023.2.1697859156    │     │\n",
       "│                            │ │ Timestamp │ Oct 20 2023-21:32:36 │     │\n",
       "│                            │ └───────────┴──────────────────────┘     │\n",
       "│                            │                                          │\n",
       "│ hw_server @ localhost:3121 │ ┌───────────┬──────────────────────────┐ │\n",
       "│                            │ │<span style=\"font-weight: bold\"> Attribute </span>│<span style=\"font-weight: bold\"> Value                    </span>│ │\n",
       "│                            │ ├───────────┼──────────────────────────┤ │\n",
       "│                            │ │    Status │ Connected                │ │\n",
       "│                            │ │     Build │ 1683493450               │ │\n",
       "│                            │ │   Version │ 2023.1                   │ │\n",
       "│                            │ │ Timestamp │ Sun May  7 15:04:10 2023 │ │\n",
       "│                            │ └───────────┴──────────────────────────┘ │\n",
       "│                            │                                          │\n",
       "│ cs_server @ localhost:3042 │ ┌───────────────┬──────────────────────┐ │\n",
       "│                            │ │<span style=\"font-weight: bold\">     Attribute </span>│<span style=\"font-weight: bold\"> Value                </span>│ │\n",
       "│                            │ ├───────────────┼──────────────────────┤ │\n",
       "│                            │ │        Status │ Connected            │ │\n",
       "│                            │ │         Build │ 1696910516           │ │\n",
       "│                            │ │       Version │ 2023.2.0             │ │\n",
       "│                            │ │     Timestamp │ Oct 09 2023-22:01:56 │ │\n",
       "│                            │ │       Package │ 2023.2.1696910516    │ │\n",
       "│                            │ │ Artifact type │ pyinstaller          │ │\n",
       "│                            │ └───────────────┴──────────────────────┘ │\n",
       "└────────────────────────────┴──────────────────────────────────────────┘\n",
       "</pre>\n"
      ],
      "text/plain": [
       "\u001b[3m                      ChipScoPy Version Information                      \u001b[0m\n",
       "┌────────────────────────────┬──────────────────────────────────────────┐\n",
       "│\u001b[1m \u001b[0m\u001b[1m                    Entity\u001b[0m\u001b[1m \u001b[0m│\u001b[1m \u001b[0m\u001b[1mVersion                                 \u001b[0m\u001b[1m \u001b[0m│\n",
       "├────────────────────────────┼──────────────────────────────────────────┤\n",
       "│                  ChipScoPy │ ┌───────────┬──────────────────────┐     │\n",
       "│                            │ │\u001b[1m \u001b[0m\u001b[1mAttribute\u001b[0m\u001b[1m \u001b[0m│\u001b[1m \u001b[0m\u001b[1mValue               \u001b[0m\u001b[1m \u001b[0m│     │\n",
       "│                            │ ├───────────┼──────────────────────┤     │\n",
       "│                            │ │     Build │ 2023.2.1697859156    │     │\n",
       "│                            │ │ Timestamp │ Oct 20 2023-21:32:36 │     │\n",
       "│                            │ └───────────┴──────────────────────┘     │\n",
       "│                            │                                          │\n",
       "│ hw_server @ localhost:3121 │ ┌───────────┬──────────────────────────┐ │\n",
       "│                            │ │\u001b[1m \u001b[0m\u001b[1mAttribute\u001b[0m\u001b[1m \u001b[0m│\u001b[1m \u001b[0m\u001b[1mValue                   \u001b[0m\u001b[1m \u001b[0m│ │\n",
       "│                            │ ├───────────┼──────────────────────────┤ │\n",
       "│                            │ │    Status │ Connected                │ │\n",
       "│                            │ │     Build │ 1683493450               │ │\n",
       "│                            │ │   Version │ 2023.1                   │ │\n",
       "│                            │ │ Timestamp │ Sun May  7 15:04:10 2023 │ │\n",
       "│                            │ └───────────┴──────────────────────────┘ │\n",
       "│                            │                                          │\n",
       "│ cs_server @ localhost:3042 │ ┌───────────────┬──────────────────────┐ │\n",
       "│                            │ │\u001b[1m \u001b[0m\u001b[1m    Attribute\u001b[0m\u001b[1m \u001b[0m│\u001b[1m \u001b[0m\u001b[1mValue               \u001b[0m\u001b[1m \u001b[0m│ │\n",
       "│                            │ ├───────────────┼──────────────────────┤ │\n",
       "│                            │ │        Status │ Connected            │ │\n",
       "│                            │ │         Build │ 1696910516           │ │\n",
       "│                            │ │       Version │ 2023.2.0             │ │\n",
       "│                            │ │     Timestamp │ Oct 09 2023-22:01:56 │ │\n",
       "│                            │ │       Package │ 2023.2.1696910516    │ │\n",
       "│                            │ │ Artifact type │ pyinstaller          │ │\n",
       "│                            │ └───────────────┴──────────────────────┘ │\n",
       "└────────────────────────────┴──────────────────────────────────────────┘\n"
      ]
     },
     "metadata": {},
     "output_type": "display_data"
    },
    {
     "data": {
      "text/html": [
       "<pre style=\"white-space:pre;overflow-x:auto;line-height:normal;font-family:Menlo,'DejaVu Sans Mono',consolas,'Courier New',monospace\">\n",
       "\n",
       "</pre>\n"
      ],
      "text/plain": [
       "\n",
       "\n"
      ]
     },
     "metadata": {},
     "output_type": "display_data"
    }
   ],
   "source": [
    "session = create_session(cs_server_url=CS_URL, hw_server_url=HW_URL)\n",
    "report_versions(session)"
   ]
  },
  {
   "cell_type": "markdown",
   "id": "f3f53f4b",
   "metadata": {
    "papermill": {
     "duration": 0.004384,
     "end_time": "2023-10-24T22:08:07.125208",
     "exception": false,
     "start_time": "2023-10-24T22:08:07.120824",
     "status": "completed"
    },
    "tags": []
   },
   "source": [
    "## 3 - Program the device with the example design\n",
    "\n",
    "After this step,\n",
    "- Device is programmed with the example programming file"
   ]
  },
  {
   "cell_type": "code",
   "execution_count": 4,
   "id": "1dc321cc",
   "metadata": {
    "execution": {
     "iopub.execute_input": "2023-10-24T22:08:07.137853Z",
     "iopub.status.busy": "2023-10-24T22:08:07.137055Z",
     "iopub.status.idle": "2023-10-24T22:08:14.301726Z",
     "shell.execute_reply": "2023-10-24T22:08:14.300710Z"
    },
    "papermill": {
     "duration": 7.172395,
     "end_time": "2023-10-24T22:08:14.303078",
     "exception": false,
     "start_time": "2023-10-24T22:08:07.130683",
     "status": "completed"
    },
    "tags": []
   },
   "outputs": [
    {
     "data": {
      "text/html": [
       "<pre style=\"white-space:pre;overflow-x:auto;line-height:normal;font-family:Menlo,'DejaVu Sans Mono',consolas,'Courier New',monospace\">\n",
       "<span style=\"font-weight: bold\">--&gt; INFO: </span>Programming device with: \n",
       "/scratch/2023.2/chipscopy-examples/designs/vck190/production/chipscopy_ced/chipscopy_wrapper.pdi\n",
       "    \n",
       "</pre>\n"
      ],
      "text/plain": [
       "\n",
       "\u001b[1m--> INFO: \u001b[0mProgramming device with: \n",
       "/scratch/2023.2/chipscopy-examples/designs/vck190/production/chipscopy_ced/chipscopy_wrapper.pdi\n",
       "    \n"
      ]
     },
     "metadata": {},
     "output_type": "display_data"
    },
    {
     "data": {
      "application/vnd.jupyter.widget-view+json": {
       "model_id": "7e3dfb458c634c60a291e09ac84a4e59",
       "version_major": 2,
       "version_minor": 0
      },
      "text/plain": [
       "Output()"
      ]
     },
     "metadata": {},
     "output_type": "display_data"
    },
    {
     "data": {
      "text/html": [
       "<pre style=\"white-space:pre;overflow-x:auto;line-height:normal;font-family:Menlo,'DejaVu Sans Mono',consolas,'Courier New',monospace\"></pre>\n"
      ],
      "text/plain": []
     },
     "metadata": {},
     "output_type": "display_data"
    },
    {
     "data": {
      "text/html": [
       "<pre style=\"white-space:pre;overflow-x:auto;line-height:normal;font-family:Menlo,'DejaVu Sans Mono',consolas,'Courier New',monospace\">\n",
       "</pre>\n"
      ],
      "text/plain": [
       "\n"
      ]
     },
     "metadata": {},
     "output_type": "display_data"
    }
   ],
   "source": [
    "versal_device = session.devices.filter_by(family=\"versal\").get()\n",
    "if PROG_DEVICE:\n",
    "    versal_device.program(PROGRAMMING_FILE)\n",
    "else:\n",
    "    print(\"skipping programming\")"
   ]
  },
  {
   "cell_type": "markdown",
   "id": "7a8b577a",
   "metadata": {
    "papermill": {
     "duration": 0.0044,
     "end_time": "2023-10-24T22:08:14.313017",
     "exception": false,
     "start_time": "2023-10-24T22:08:14.308617",
     "status": "completed"
    },
    "tags": []
   },
   "source": [
    "## 4 - Discover Debug Cores\n",
    "\n",
    "Debug core discovery initializes the chipscope server debug cores. This brings debug cores in the chipscope server online.\n",
    "\n",
    "After this step,\n",
    "\n",
    "- The cs_server is initialized and ready for use"
   ]
  },
  {
   "cell_type": "code",
   "execution_count": 5,
   "id": "1276c830",
   "metadata": {
    "execution": {
     "iopub.execute_input": "2023-10-24T22:08:14.948788Z",
     "iopub.status.busy": "2023-10-24T22:08:14.948624Z",
     "iopub.status.idle": "2023-10-24T22:08:15.014819Z",
     "shell.execute_reply": "2023-10-24T22:08:15.013761Z"
    },
    "papermill": {
     "duration": 0.699352,
     "end_time": "2023-10-24T22:08:15.016265",
     "exception": false,
     "start_time": "2023-10-24T22:08:14.316913",
     "status": "completed"
    },
    "tags": []
   },
   "outputs": [
    {
     "name": "stdout",
     "output_type": "stream",
     "text": [
      "Debug cores setup and ready for use.\n"
     ]
    }
   ],
   "source": [
    "versal_device.discover_and_setup_cores(noc_scan=True)\n",
    "print(f\"Debug cores setup and ready for use.\")"
   ]
  },
  {
   "cell_type": "markdown",
   "id": "85e9d808",
   "metadata": {
    "papermill": {
     "duration": 0.003704,
     "end_time": "2023-10-24T22:08:15.024688",
     "exception": false,
     "start_time": "2023-10-24T22:08:15.020984",
     "status": "completed"
    },
    "tags": []
   },
   "source": [
    "## 5 - Setup NoC core\n",
    "\n",
    "Ensure scan nodes are enabled in the design."
   ]
  },
  {
   "cell_type": "code",
   "execution_count": 6,
   "id": "25b18d59",
   "metadata": {
    "execution": {
     "iopub.execute_input": "2023-10-24T22:08:15.033794Z",
     "iopub.status.busy": "2023-10-24T22:08:15.033565Z",
     "iopub.status.idle": "2023-10-24T22:08:17.265016Z",
     "shell.execute_reply": "2023-10-24T22:08:17.263880Z"
    },
    "papermill": {
     "duration": 2.238213,
     "end_time": "2023-10-24T22:08:17.266495",
     "exception": false,
     "start_time": "2023-10-24T22:08:15.028282",
     "status": "completed"
    },
    "tags": []
   },
   "outputs": [
    {
     "name": "stdout",
     "output_type": "stream",
     "text": [
      "\n",
      "Enumerating nodes: DDRMC_X0Y0, NOC_NMU512_X0Y0, ..."
     ]
    },
    {
     "name": "stdout",
     "output_type": "stream",
     "text": [
      "complete!\n"
     ]
    }
   ],
   "source": [
    "# We begin by enumerating the debug cores (hard and soft) present in the design.\n",
    "# Then we ask the design for the supported timebases. And, finally:\n",
    "# The NoC is scanned to determine the activated elements.\n",
    "\n",
    "noc = versal_device.noc_core[0]\n",
    "\n",
    "scan_nodes = [\"DDRMC_X0Y0\", \"NOC_NMU512_X0Y0\"]\n",
    "print(\"\\nEnumerating nodes: \", end=\"\")\n",
    "for node in scan_nodes:\n",
    "    print(f\"{node}, \", end=\"\")\n",
    "print(\"...\", end=\"\")\n",
    "\n",
    "# this will setup the nodes on the server side and return the nodes successfully enumerated\n",
    "enable_list = noc.enumerate_noc_elements(scan_nodes)\n",
    "print(\"complete!\")"
   ]
  },
  {
   "cell_type": "code",
   "execution_count": 7,
   "id": "82d1502d",
   "metadata": {
    "execution": {
     "iopub.execute_input": "2023-10-24T22:08:17.277717Z",
     "iopub.status.busy": "2023-10-24T22:08:17.276529Z",
     "iopub.status.idle": "2023-10-24T22:08:17.327889Z",
     "shell.execute_reply": "2023-10-24T22:08:17.327079Z"
    },
    "papermill": {
     "duration": 0.057729,
     "end_time": "2023-10-24T22:08:17.329193",
     "exception": false,
     "start_time": "2023-10-24T22:08:17.271464",
     "status": "completed"
    },
    "tags": []
   },
   "outputs": [
    {
     "name": "stdout",
     "output_type": "stream",
     "text": [
      "Supported sampling periods:\n",
      "  NoC:\n",
      "    67ms    134ms    268ms    537ms    1074ms    2147ms\n",
      "  NPI:\n",
      "    56ms    112ms    224ms    447ms    895ms    1790ms    3579ms    7158ms\n",
      "  DDRMC_X0Y0:\n",
      "    84ms    168ms    336ms    671ms    1342ms    2684ms\n"
     ]
    }
   ],
   "source": [
    "supported_periods = noc.get_supported_sampling_periods(\n",
    "    100/3, 100/3, {'DDRMC_X0Y0': 800.0}\n",
    ")\n",
    "print(\"Supported sampling periods:\")\n",
    "for domain, periods in supported_periods.items():\n",
    "    print(f\"  {domain}:\")\n",
    "    for p in periods:\n",
    "        print(f\"    {p:.0f}ms\", end=\"\")\n",
    "    print()"
   ]
  },
  {
   "cell_type": "code",
   "execution_count": 8,
   "id": "ea92e060",
   "metadata": {
    "execution": {
     "iopub.execute_input": "2023-10-24T22:08:17.339080Z",
     "iopub.status.busy": "2023-10-24T22:08:17.338326Z",
     "iopub.status.idle": "2023-10-24T22:08:17.344233Z",
     "shell.execute_reply": "2023-10-24T22:08:17.343505Z"
    },
    "papermill": {
     "duration": 0.012324,
     "end_time": "2023-10-24T22:08:17.345340",
     "exception": false,
     "start_time": "2023-10-24T22:08:17.333016",
     "status": "completed"
    },
    "tags": []
   },
   "outputs": [
    {
     "name": "stdout",
     "output_type": "stream",
     "text": [
      "Sampling period selection:\n",
      "  NoC: 537ms\n",
      "  NPI: 895ms\n",
      "  DDRMC_X0Y0: 671ms\n"
     ]
    }
   ],
   "source": [
    "# Select Timebase and Nodes to Monitor\n",
    "#\n",
    "# For the two clock domains we must select a sampling period from the hardware supported values. The debug cable used will dictate how much bandwidth is available, so high frequency sampling may not actually produce data at the specified rate. Recommendation is ~500ms for jtag.\n",
    "#\n",
    "# Then the user must decide what to monitor--again the bandwidth is a definite consideration here. Plot performance may become the bottleneck (Optimizations will come later in the renderer or agg backend). The guidance here is to pick up to 4 nodes to monitor.\n",
    "\n",
    "desired_period = 500  # ms\n",
    "sampling_intervals = {}\n",
    "\n",
    "for domain in supported_periods.keys():\n",
    "    sampling_intervals[domain] = 0\n",
    "    for sp in supported_periods[domain]:\n",
    "        if sp > desired_period:\n",
    "            sampling_intervals[domain] = sp\n",
    "            break\n",
    "\n",
    "    if sampling_intervals[domain] == 0:\n",
    "        print(\n",
    "            f\"Warning, desired period {desired_period}ms is slower than \"\n",
    "            f\"longest supported period {supported_periods[domain][-1]}ms [{domain} domain] \"\n",
    "            f\"defaulting to this value.\"\n",
    "        )\n",
    "        sampling_intervals[domain] = supported_periods[-1]\n",
    "\n",
    "print(f\"Sampling period selection:\")\n",
    "for domain, freq in sampling_intervals.items():\n",
    "    print(f\"  {domain}: {freq:.0f}ms\")"
   ]
  },
  {
   "cell_type": "code",
   "execution_count": 9,
   "id": "77b03c7f",
   "metadata": {
    "execution": {
     "iopub.execute_input": "2023-10-24T22:08:17.355354Z",
     "iopub.status.busy": "2023-10-24T22:08:17.354662Z",
     "iopub.status.idle": "2023-10-24T22:08:17.452416Z",
     "shell.execute_reply": "2023-10-24T22:08:17.451185Z"
    },
    "lines_to_next_cell": 2,
    "papermill": {
     "duration": 0.104894,
     "end_time": "2023-10-24T22:08:17.454177",
     "exception": false,
     "start_time": "2023-10-24T22:08:17.349283",
     "status": "completed"
    },
    "tags": []
   },
   "outputs": [
    {
     "name": "stdout",
     "output_type": "stream",
     "text": [
      "Setting up monitors for: \n",
      "DDRMC_X0Y0\n",
      "NOC_NMU512_X0Y0\n"
     ]
    }
   ],
   "source": [
    "# Configure Monitors\n",
    "#\n",
    "# As a precaution, it's a good idea to validate the desired nodes are enabled for the design.\n",
    "# Using the set of nodes and the desired sampling periods it's time to ask the service to start pushing metric data. Two additional arguments are required to this API.\n",
    "#\n",
    "# Traffic class\n",
    "#\n",
    "# This is a bit-or field of the requested traffic classes. Note, One monitor is dedicated to read traffic classes and the other to write--so all read TCs will apply to one channel and all write TCs to the other. `Best effort` is a good place to start.\n",
    "#\n",
    "# Number of Samples\n",
    "#\n",
    "# The number of samples allows for a burst of measurements to be taken and then the underlying service will tear down the monitors and stop pumping data back to the client. `-1` denotes that sampling shall continue indefinitely.\n",
    "\n",
    "# total number of samples to capture (-1 for continuous mode)\n",
    "num_samples = -1\n",
    "\n",
    "print(\"Setting up monitors for: \")\n",
    "for node in enable_list:\n",
    "    print(node)\n",
    "\n",
    "# When overflow occurs the precision of the monitors must be traded for range\n",
    "# See the server API for more information\n",
    "extended_monitor_config = {\"NOC_NMU512_X0Y0\": {\"tslide\": 0x3}}  # or None\n",
    "noc.configure_monitors(\n",
    "    enable_list, sampling_intervals, (TC_BEW | TC_BER), num_samples, None, extended_monitor_config\n",
    ")"
   ]
  },
  {
   "cell_type": "markdown",
   "id": "19fc4afe",
   "metadata": {
    "papermill": {
     "duration": 0.00401,
     "end_time": "2023-10-24T22:08:17.463592",
     "exception": false,
     "start_time": "2023-10-24T22:08:17.459582",
     "status": "completed"
    },
    "tags": []
   },
   "source": [
    "## 7 - Create plotter and listener\n",
    "\n",
    "Attach both to running view"
   ]
  },
  {
   "cell_type": "code",
   "execution_count": 10,
   "id": "6c968f12",
   "metadata": {
    "execution": {
     "iopub.execute_input": "2023-10-24T22:08:17.473926Z",
     "iopub.status.busy": "2023-10-24T22:08:17.473069Z",
     "iopub.status.idle": "2023-10-24T22:08:17.489267Z",
     "shell.execute_reply": "2023-10-24T22:08:17.488147Z"
    },
    "papermill": {
     "duration": 0.023136,
     "end_time": "2023-10-24T22:08:17.490683",
     "exception": false,
     "start_time": "2023-10-24T22:08:17.467547",
     "status": "completed"
    },
    "tags": []
   },
   "outputs": [],
   "source": [
    "record_to_file = False  # True | False\n",
    "node_listener = NoCPerfMonNodeListener(\n",
    "    sampling_intervals,\n",
    "    num_samples,\n",
    "    enable_list,\n",
    "    record_to_file,\n",
    "    extended_monitor_config=extended_monitor_config,\n",
    ")\n",
    "node_listener.change_log_level('INFO')\n",
    "session.chipscope_view.add_node_listener(node_listener)"
   ]
  },
  {
   "cell_type": "markdown",
   "id": "020caa1b",
   "metadata": {
    "papermill": {
     "duration": 0.004054,
     "end_time": "2023-10-24T22:08:17.498945",
     "exception": false,
     "start_time": "2023-10-24T22:08:17.494891",
     "status": "completed"
    },
    "tags": []
   },
   "source": [
    "## 8 - Main Event Loop\n",
    "\n",
    "This loop runs until you close the plotter.\n",
    "If you are using a finite amount of measurement samples, you can uncomment the if --> break statement to automatically return from execution of this cell upon completion of the burst."
   ]
  },
  {
   "cell_type": "code",
   "execution_count": 11,
   "id": "5cc28478",
   "metadata": {
    "execution": {
     "iopub.execute_input": "2023-10-24T22:08:17.508917Z",
     "iopub.status.busy": "2023-10-24T22:08:17.508321Z",
     "iopub.status.idle": "2023-10-24T22:08:25.831211Z",
     "shell.execute_reply": "2023-10-24T22:08:25.830204Z"
    },
    "papermill": {
     "duration": 7.824355,
     "end_time": "2023-10-24T22:08:25.327199",
     "exception": false,
     "start_time": "2023-10-24T22:08:17.502844",
     "status": "completed"
    },
    "tags": []
   },
   "outputs": [
    {
     "name": "stdout",
     "output_type": "stream",
     "text": [
      "\u001b[32m2023-10-24 16:08:17.516\u001b[0m | \u001b[1mINFO    \u001b[0m | \u001b[35m         noc_perfmon\u001b[0m | \u001b[36m               chipscopy.api.noc.noc_perfmon_utils\u001b[0m | \u001b[36m125 \u001b[0m | \u001b[1mnoc_nmu512_x0y0: rb: 0, wb: 0, rbw: 0.0, wbw: 0.0, arl: 0.0, awl: 0.0\u001b[0m\n"
     ]
    },
    {
     "name": "stdout",
     "output_type": "stream",
     "text": [
      "\u001b[32m2023-10-24 16:08:17.519\u001b[0m | \u001b[1mINFO    \u001b[0m | \u001b[35m         noc_perfmon\u001b[0m | \u001b[36m               chipscopy.api.noc.noc_perfmon_utils\u001b[0m | \u001b[36m125 \u001b[0m | \u001b[1mddrmc_x0y0: rb: 0.0, wb: 0.0, rbw: 0.0, wbw: 0.0, arl: 0.0, awl: 0.0\u001b[0m\n"
     ]
    },
    {
     "name": "stdout",
     "output_type": "stream",
     "text": [
      "\u001b[32m2023-10-24 16:08:17.520\u001b[0m | \u001b[1mINFO    \u001b[0m | \u001b[35m         noc_perfmon\u001b[0m | \u001b[36m               chipscopy.api.noc.noc_perfmon_utils\u001b[0m | \u001b[36m125 \u001b[0m | \u001b[1mnoc_nmu512_x0y0: rb: 0, wb: 0, rbw: 0.0, wbw: 0.0, arl: 0.0, awl: 0.0\u001b[0m\n"
     ]
    },
    {
     "name": "stdout",
     "output_type": "stream",
     "text": [
      "\u001b[32m2023-10-24 16:08:17.522\u001b[0m | \u001b[1mINFO    \u001b[0m | \u001b[35m         noc_perfmon\u001b[0m | \u001b[36m               chipscopy.api.noc.noc_perfmon_utils\u001b[0m | \u001b[36m125 \u001b[0m | \u001b[1mddrmc_x0y0: rb: 0.0, wb: 0.0, rbw: 0.0, wbw: 0.0, arl: 0.0, awl: 0.0\u001b[0m\n"
     ]
    },
    {
     "name": "stdout",
     "output_type": "stream",
     "text": [
      "\u001b[32m2023-10-24 16:08:18.025\u001b[0m | \u001b[1mINFO    \u001b[0m | \u001b[35m         noc_perfmon\u001b[0m | \u001b[36m               chipscopy.api.noc.noc_perfmon_utils\u001b[0m | \u001b[36m125 \u001b[0m | \u001b[1mddrmc_x0y0: rb: 0.0, wb: 0.0, rbw: 0.0, wbw: 0.0, arl: 0.0, awl: 0.0\u001b[0m\n"
     ]
    },
    {
     "name": "stdout",
     "output_type": "stream",
     "text": [
      "\u001b[32m2023-10-24 16:08:18.329\u001b[0m | \u001b[1mINFO    \u001b[0m | \u001b[35m         noc_perfmon\u001b[0m | \u001b[36m               chipscopy.api.noc.noc_perfmon_utils\u001b[0m | \u001b[36m125 \u001b[0m | \u001b[1mnoc_nmu512_x0y0: rb: 0, wb: 0, rbw: 0.0, wbw: 0.0, arl: 0.0, awl: 0.0\u001b[0m\n"
     ]
    },
    {
     "name": "stdout",
     "output_type": "stream",
     "text": [
      "\u001b[32m2023-10-24 16:08:18.534\u001b[0m | \u001b[1mINFO    \u001b[0m | \u001b[35m         noc_perfmon\u001b[0m | \u001b[36m               chipscopy.api.noc.noc_perfmon_utils\u001b[0m | \u001b[36m125 \u001b[0m | \u001b[1mddrmc_x0y0: rb: 0.0, wb: 0.0, rbw: 0.0, wbw: 0.0, arl: 0.0, awl: 0.0\u001b[0m\n"
     ]
    },
    {
     "name": "stdout",
     "output_type": "stream",
     "text": [
      "\u001b[32m2023-10-24 16:08:19.139\u001b[0m | \u001b[1mINFO    \u001b[0m | \u001b[35m         noc_perfmon\u001b[0m | \u001b[36m               chipscopy.api.noc.noc_perfmon_utils\u001b[0m | \u001b[36m125 \u001b[0m | \u001b[1mddrmc_x0y0: rb: 0.0, wb: 0.0, rbw: 0.0, wbw: 0.0, arl: 0.0, awl: 0.0\u001b[0m\n"
     ]
    },
    {
     "name": "stdout",
     "output_type": "stream",
     "text": [
      "\u001b[32m2023-10-24 16:08:19.242\u001b[0m | \u001b[1mINFO    \u001b[0m | \u001b[35m         noc_perfmon\u001b[0m | \u001b[36m               chipscopy.api.noc.noc_perfmon_utils\u001b[0m | \u001b[36m125 \u001b[0m | \u001b[1mnoc_nmu512_x0y0: rb: 0, wb: 0, rbw: 0.0, wbw: 0.0, arl: 0.0, awl: 0.0\u001b[0m\n"
     ]
    },
    {
     "name": "stdout",
     "output_type": "stream",
     "text": [
      "\u001b[32m2023-10-24 16:08:19.647\u001b[0m | \u001b[1mINFO    \u001b[0m | \u001b[35m         noc_perfmon\u001b[0m | \u001b[36m               chipscopy.api.noc.noc_perfmon_utils\u001b[0m | \u001b[36m125 \u001b[0m | \u001b[1mddrmc_x0y0: rb: 0.0, wb: 0.0, rbw: 0.0, wbw: 0.0, arl: 0.0, awl: 0.0\u001b[0m\n"
     ]
    },
    {
     "name": "stdout",
     "output_type": "stream",
     "text": [
      "\u001b[32m2023-10-24 16:08:20.150\u001b[0m | \u001b[1mINFO    \u001b[0m | \u001b[35m         noc_perfmon\u001b[0m | \u001b[36m               chipscopy.api.noc.noc_perfmon_utils\u001b[0m | \u001b[36m125 \u001b[0m | \u001b[1mnoc_nmu512_x0y0: rb: 0, wb: 0, rbw: 0.0, wbw: 0.0, arl: 0.0, awl: 0.0\u001b[0m\n"
     ]
    },
    {
     "name": "stdout",
     "output_type": "stream",
     "text": [
      "\u001b[32m2023-10-24 16:08:20.152\u001b[0m | \u001b[1mINFO    \u001b[0m | \u001b[35m         noc_perfmon\u001b[0m | \u001b[36m               chipscopy.api.noc.noc_perfmon_utils\u001b[0m | \u001b[36m125 \u001b[0m | \u001b[1mddrmc_x0y0: rb: 0.0, wb: 0.0, rbw: 0.0, wbw: 0.0, arl: 0.0, awl: 0.0\u001b[0m\n"
     ]
    },
    {
     "name": "stdout",
     "output_type": "stream",
     "text": [
      "\u001b[32m2023-10-24 16:08:20.755\u001b[0m | \u001b[1mINFO    \u001b[0m | \u001b[35m         noc_perfmon\u001b[0m | \u001b[36m               chipscopy.api.noc.noc_perfmon_utils\u001b[0m | \u001b[36m125 \u001b[0m | \u001b[1mddrmc_x0y0: rb: 0.0, wb: 0.0, rbw: 0.0, wbw: 0.0, arl: 0.0, awl: 0.0\u001b[0m\n"
     ]
    },
    {
     "name": "stdout",
     "output_type": "stream",
     "text": [
      "\u001b[32m2023-10-24 16:08:21.059\u001b[0m | \u001b[1mINFO    \u001b[0m | \u001b[35m         noc_perfmon\u001b[0m | \u001b[36m               chipscopy.api.noc.noc_perfmon_utils\u001b[0m | \u001b[36m125 \u001b[0m | \u001b[1mnoc_nmu512_x0y0: rb: 0, wb: 0, rbw: 0.0, wbw: 0.0, arl: 0.0, awl: 0.0\u001b[0m\n"
     ]
    },
    {
     "name": "stdout",
     "output_type": "stream",
     "text": [
      "\u001b[32m2023-10-24 16:08:21.262\u001b[0m | \u001b[1mINFO    \u001b[0m | \u001b[35m         noc_perfmon\u001b[0m | \u001b[36m               chipscopy.api.noc.noc_perfmon_utils\u001b[0m | \u001b[36m125 \u001b[0m | \u001b[1mddrmc_x0y0: rb: 0.0, wb: 0.0, rbw: 0.0, wbw: 0.0, arl: 0.0, awl: 0.0\u001b[0m\n"
     ]
    },
    {
     "name": "stdout",
     "output_type": "stream",
     "text": [
      "\u001b[32m2023-10-24 16:08:21.867\u001b[0m | \u001b[1mINFO    \u001b[0m | \u001b[35m         noc_perfmon\u001b[0m | \u001b[36m               chipscopy.api.noc.noc_perfmon_utils\u001b[0m | \u001b[36m125 \u001b[0m | \u001b[1mddrmc_x0y0: rb: 0.0, wb: 0.0, rbw: 0.0, wbw: 0.0, arl: 0.0, awl: 0.0\u001b[0m\n"
     ]
    },
    {
     "name": "stdout",
     "output_type": "stream",
     "text": [
      "\u001b[32m2023-10-24 16:08:21.970\u001b[0m | \u001b[1mINFO    \u001b[0m | \u001b[35m         noc_perfmon\u001b[0m | \u001b[36m               chipscopy.api.noc.noc_perfmon_utils\u001b[0m | \u001b[36m125 \u001b[0m | \u001b[1mnoc_nmu512_x0y0: rb: 0, wb: 0, rbw: 0.0, wbw: 0.0, arl: 0.0, awl: 0.0\u001b[0m\n"
     ]
    },
    {
     "name": "stdout",
     "output_type": "stream",
     "text": [
      "\u001b[32m2023-10-24 16:08:22.375\u001b[0m | \u001b[1mINFO    \u001b[0m | \u001b[35m         noc_perfmon\u001b[0m | \u001b[36m               chipscopy.api.noc.noc_perfmon_utils\u001b[0m | \u001b[36m125 \u001b[0m | \u001b[1mddrmc_x0y0: rb: 0.0, wb: 0.0, rbw: 0.0, wbw: 0.0, arl: 0.0, awl: 0.0\u001b[0m\n"
     ]
    },
    {
     "name": "stdout",
     "output_type": "stream",
     "text": [
      "\u001b[32m2023-10-24 16:08:22.880\u001b[0m | \u001b[1mINFO    \u001b[0m | \u001b[35m         noc_perfmon\u001b[0m | \u001b[36m               chipscopy.api.noc.noc_perfmon_utils\u001b[0m | \u001b[36m125 \u001b[0m | \u001b[1mnoc_nmu512_x0y0: rb: 0, wb: 0, rbw: 0.0, wbw: 0.0, arl: 0.0, awl: 0.0\u001b[0m\n"
     ]
    },
    {
     "name": "stdout",
     "output_type": "stream",
     "text": [
      "\u001b[32m2023-10-24 16:08:22.883\u001b[0m | \u001b[1mINFO    \u001b[0m | \u001b[35m         noc_perfmon\u001b[0m | \u001b[36m               chipscopy.api.noc.noc_perfmon_utils\u001b[0m | \u001b[36m125 \u001b[0m | \u001b[1mddrmc_x0y0: rb: 0.0, wb: 0.0, rbw: 0.0, wbw: 0.0, arl: 0.0, awl: 0.0\u001b[0m\n"
     ]
    },
    {
     "name": "stdout",
     "output_type": "stream",
     "text": [
      "\u001b[32m2023-10-24 16:08:23.486\u001b[0m | \u001b[1mINFO    \u001b[0m | \u001b[35m         noc_perfmon\u001b[0m | \u001b[36m               chipscopy.api.noc.noc_perfmon_utils\u001b[0m | \u001b[36m125 \u001b[0m | \u001b[1mddrmc_x0y0: rb: 0.0, wb: 0.0, rbw: 0.0, wbw: 0.0, arl: 0.0, awl: 0.0\u001b[0m\n"
     ]
    },
    {
     "name": "stdout",
     "output_type": "stream",
     "text": [
      "\u001b[32m2023-10-24 16:08:23.790\u001b[0m | \u001b[1mINFO    \u001b[0m | \u001b[35m         noc_perfmon\u001b[0m | \u001b[36m               chipscopy.api.noc.noc_perfmon_utils\u001b[0m | \u001b[36m125 \u001b[0m | \u001b[1mnoc_nmu512_x0y0: rb: 0, wb: 0, rbw: 0.0, wbw: 0.0, arl: 0.0, awl: 0.0\u001b[0m\n"
     ]
    },
    {
     "name": "stdout",
     "output_type": "stream",
     "text": [
      "\u001b[32m2023-10-24 16:08:23.993\u001b[0m | \u001b[1mINFO    \u001b[0m | \u001b[35m         noc_perfmon\u001b[0m | \u001b[36m               chipscopy.api.noc.noc_perfmon_utils\u001b[0m | \u001b[36m125 \u001b[0m | \u001b[1mddrmc_x0y0: rb: 0.0, wb: 0.0, rbw: 0.0, wbw: 0.0, arl: 0.0, awl: 0.0\u001b[0m\n"
     ]
    },
    {
     "name": "stdout",
     "output_type": "stream",
     "text": [
      "\u001b[32m2023-10-24 16:08:24.498\u001b[0m | \u001b[1mINFO    \u001b[0m | \u001b[35m         noc_perfmon\u001b[0m | \u001b[36m               chipscopy.api.noc.noc_perfmon_utils\u001b[0m | \u001b[36m125 \u001b[0m | \u001b[1mddrmc_x0y0: rb: 0.0, wb: 0.0, rbw: 0.0, wbw: 0.0, arl: 0.0, awl: 0.0\u001b[0m\n"
     ]
    },
    {
     "name": "stdout",
     "output_type": "stream",
     "text": [
      "\u001b[32m2023-10-24 16:08:24.601\u001b[0m | \u001b[1mINFO    \u001b[0m | \u001b[35m         noc_perfmon\u001b[0m | \u001b[36m               chipscopy.api.noc.noc_perfmon_utils\u001b[0m | \u001b[36m125 \u001b[0m | \u001b[1mnoc_nmu512_x0y0: rb: 0, wb: 0, rbw: 0.0, wbw: 0.0, arl: 0.0, awl: 0.0\u001b[0m\n"
     ]
    },
    {
     "name": "stdout",
     "output_type": "stream",
     "text": [
      "\u001b[32m2023-10-24 16:08:25.106\u001b[0m | \u001b[1mINFO    \u001b[0m | \u001b[35m         noc_perfmon\u001b[0m | \u001b[36m               chipscopy.api.noc.noc_perfmon_utils\u001b[0m | \u001b[36m125 \u001b[0m | \u001b[1mddrmc_x0y0: rb: 0.0, wb: 0.0, rbw: 0.0, wbw: 0.0, arl: 0.0, awl: 0.0\u001b[0m\n"
     ]
    },
    {
     "ename": "KeyboardInterrupt",
     "evalue": "",
     "output_type": "error",
     "traceback": [
      "\u001b[0;31m---------------------------------------------------------------------------\u001b[0m",
      "\u001b[0;31mKeyboardInterrupt\u001b[0m                         Traceback (most recent call last)",
      "Cell \u001b[0;32mIn[11], line 5\u001b[0m\n\u001b[1;32m      3\u001b[0m \u001b[38;5;28;01mwhile\u001b[39;00m \u001b[38;5;28;01mTrue\u001b[39;00m:\n\u001b[1;32m      4\u001b[0m     session\u001b[38;5;241m.\u001b[39mchipscope_view\u001b[38;5;241m.\u001b[39mrun_events()\n\u001b[0;32m----> 5\u001b[0m     \u001b[43msleep\u001b[49m\u001b[43m(\u001b[49m\u001b[38;5;241;43m0.1\u001b[39;49m\u001b[43m)\u001b[49m\n\u001b[1;32m      6\u001b[0m     \u001b[38;5;66;03m# Below will return on burst completion - uncomment if you want to try.\u001b[39;00m\n\u001b[1;32m      7\u001b[0m     \u001b[38;5;66;03m# if all([x <= 0 for x in node_listener.num_samples.values()]):\u001b[39;00m\n\u001b[1;32m      8\u001b[0m     \u001b[38;5;66;03m#     break\u001b[39;00m\n",
      "\u001b[0;31mKeyboardInterrupt\u001b[0m: "
     ]
    }
   ],
   "source": [
    "# Run Main Event Loop\n",
    "loop_count = 0\n",
    "while True:\n",
    "    session.chipscope_view.run_events()\n",
    "    sleep(0.1)\n",
    "    # Below will return on burst completion - uncomment if you want to try.\n",
    "    # if all([x <= 0 for x in node_listener.num_samples.values()]):\n",
    "    #     break"
   ]
  }
 ],
 "metadata": {
  "jupytext": {
   "cell_metadata_filter": "-all",
   "main_language": "python",
   "notebook_metadata_filter": "-all"
  },
  "papermill": {
   "default_parameters": {},
   "duration": 25.995027,
   "end_time": "2023-10-24T22:08:26.551298",
   "environment_variables": {},
   "exception": null,
   "input_path": "./chipscopy-examples/noc_perfmon/noc_perfmon_basic.ipynb",
   "output_path": "./chipscopy-examples/noc_perfmon/noc_perfmon_basic.ipynb",
   "parameters": {},
   "start_time": "2023-10-24T22:08:00.556271",
   "version": "2.4.0"
  }
 },
 "nbformat": 4,
 "nbformat_minor": 5
}