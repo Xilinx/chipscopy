{
 "cells": [
  {
   "cell_type": "markdown",
   "id": "c32cfc08",
   "metadata": {
    "papermill": {
     "duration": 0.004543,
     "end_time": "2023-06-08T03:08:52.242120",
     "exception": false,
     "start_time": "2023-06-08T03:08:52.237577",
     "status": "completed"
    },
    "tags": []
   },
   "source": [
    "<link rel=\"preconnect\" href=\"https://fonts.gstatic.com\">\n",
    "<link href=\"https://fonts.googleapis.com/css2?family=Fira+Code&display=swap\" rel=\"stylesheet\">\n",
    "\n",
    "### License\n",
    "\n",
    "<p style=\"font-family: 'Fira Code', monospace; font-size: 1.2rem\">\n",
    "Copyright (c) 2021-2022 Xilinx, Inc.<br>\n",
    "Copyright (c) 2022-2023 Advanced Micro Devices, Inc.<br><br>\n",
    "Licensed under the Apache License, Version 2.0 (the \"License\");<br>\n",
    "you may not use this file except in compliance with the License.<br><br>\n",
    "You may obtain a copy of the License at <a href=\"http://www.apache.org/licenses/LICENSE-2.0\"?>http://www.apache.org/licenses/LICENSE-2.0</a><br><br>\n",
    "Unless required by applicable law or agreed to in writing, software<br>\n",
    "distributed under the License is distributed on an \"AS IS\" BASIS,<br>\n",
    "WITHOUT WARRANTIES OR CONDITIONS OF ANY KIND, either express or implied.<br>\n",
    "See the License for the specific language governing permissions and<br>\n",
    "limitations under the License.<br>\n",
    "</p>\n"
   ]
  },
  {
   "cell_type": "markdown",
   "id": "8b3f448b",
   "metadata": {
    "papermill": {
     "duration": 0.003117,
     "end_time": "2023-06-08T03:08:52.249017",
     "exception": false,
     "start_time": "2023-06-08T03:08:52.245900",
     "status": "completed"
    },
    "tags": []
   },
   "source": [
    "# ChipScoPy NoC Perfmon Example\n",
    "\n",
    "\n",
    "<img src=\"../img/api_overview.png\" width=\"500\" align=\"left\">"
   ]
  },
  {
   "cell_type": "markdown",
   "id": "0148dc10",
   "metadata": {
    "papermill": {
     "duration": 0.00323,
     "end_time": "2023-06-08T03:08:52.255574",
     "exception": false,
     "start_time": "2023-06-08T03:08:52.252344",
     "status": "completed"
    },
    "tags": []
   },
   "source": [
    "## Description\n",
    "This example demonstrates how to configure a Versal for taking NoC performance measurements.\n",
    "\n",
    "## Requirements\n",
    "- Local or remote Xilinx Versal HBM2E board/part, for example VHK158\n",
    "- Xilinx hw_server 2022.2 installed and running\n",
    "- Xilinx cs_server 2022.2 installed and running\n",
    "- Python 3.8 or greater installed\n",
    "- ChipScoPy 2022.2 installed\n",
    "- Jupyter notebook support installed - Please do so, using the command `pip install chipscopy[jupyter]`\n",
    "- Matplotlib support installed - Please do so, using the command `pip install chipscopy[core-addons]`"
   ]
  },
  {
   "cell_type": "markdown",
   "id": "f288847f",
   "metadata": {
    "papermill": {
     "duration": 0.003459,
     "end_time": "2023-06-08T03:08:52.266259",
     "exception": false,
     "start_time": "2023-06-08T03:08:52.262800",
     "status": "completed"
    },
    "tags": []
   },
   "source": [
    "## 1 - Initialization: Imports and File Paths\n",
    "\n",
    "After this step,\n",
    "- Required functions and classes are imported\n",
    "- Paths to server(s) and files are set correctly"
   ]
  },
  {
   "cell_type": "code",
   "execution_count": 1,
   "id": "59d27cb0",
   "metadata": {
    "execution": {
     "iopub.execute_input": "2023-06-08T03:08:52.280416Z",
     "iopub.status.busy": "2023-06-08T03:08:52.280042Z",
     "iopub.status.idle": "2023-06-08T03:08:52.895349Z",
     "shell.execute_reply": "2023-06-08T03:08:52.894954Z"
    },
    "lines_to_next_cell": 2,
    "papermill": {
     "duration": 0.62615,
     "end_time": "2023-06-08T03:08:52.895484",
     "exception": false,
     "start_time": "2023-06-08T03:08:52.269334",
     "status": "completed"
    },
    "tags": []
   },
   "outputs": [],
   "source": [
    "import os\n",
    "from time import sleep\n",
    "import matplotlib  # for nbconvert'd script\n",
    "from chipscopy.api.noc import (\n",
    "    TC_BEW,\n",
    "    TC_BER,\n",
    "    NoCPerfMonNodeListener,\n",
    ")\n",
    "from chipscopy.api.noc.plotting_utils import MeasurementPlot\n",
    "from chipscopy import create_session, report_versions\n",
    "from chipscopy import get_design_files"
   ]
  },
  {
   "cell_type": "code",
   "execution_count": 2,
   "id": "f17d31b0",
   "metadata": {
    "execution": {
     "iopub.execute_input": "2023-06-08T03:08:52.906642Z",
     "iopub.status.busy": "2023-06-08T03:08:52.906273Z",
     "iopub.status.idle": "2023-06-08T03:08:52.909333Z",
     "shell.execute_reply": "2023-06-08T03:08:52.908994Z"
    },
    "papermill": {
     "duration": 0.00999,
     "end_time": "2023-06-08T03:08:52.909399",
     "exception": false,
     "start_time": "2023-06-08T03:08:52.899409",
     "status": "completed"
    },
    "tags": []
   },
   "outputs": [
    {
     "name": "stdout",
     "output_type": "stream",
     "text": [
      "INFO: HBM design not included in chipscopy, user must provide design!!\n",
      "HW_URL: TCP:localhost:3121\n",
      "CS_URL: TCP:localhost:3042\n"
     ]
    }
   ],
   "source": [
    "# Make sure to start the hw_server and cs_server prior to running.\n",
    "# Specify locations of the running hw_server and cs_server below.\n",
    "# The default is localhost - but can be other locations on the network.\n",
    "CS_URL = os.getenv(\"CS_SERVER_URL\", \"TCP:localhost:3042\")\n",
    "HW_URL = os.getenv(\"HW_SERVER_URL\", \"TCP:localhost:3121\")\n",
    "\n",
    "print(\"INFO: HBM design not included in chipscopy, user must provide design!!\")\n",
    "\n",
    "print(f\"HW_URL: {HW_URL}\")\n",
    "print(f\"CS_URL: {CS_URL}\")"
   ]
  },
  {
   "cell_type": "markdown",
   "id": "20e8998b",
   "metadata": {
    "papermill": {
     "duration": 0.00318,
     "end_time": "2023-06-08T03:08:52.915904",
     "exception": false,
     "start_time": "2023-06-08T03:08:52.912724",
     "status": "completed"
    },
    "tags": []
   },
   "source": [
    "## 2 - Create a session and connect to the hw_server and cs_server\n",
    "\n",
    "The session is a container that keeps track of devices and debug cores.\n",
    "After this step,\n",
    "- Session is initialized and connected to server(s)\n",
    "- Versions are detected and reported to stdout"
   ]
  },
  {
   "cell_type": "code",
   "execution_count": 3,
   "id": "4c0a09fc",
   "metadata": {
    "execution": {
     "iopub.execute_input": "2023-06-08T03:08:52.925091Z",
     "iopub.status.busy": "2023-06-08T03:08:52.924734Z",
     "iopub.status.idle": "2023-06-08T03:08:53.422804Z",
     "shell.execute_reply": "2023-06-08T03:08:53.423092Z"
    },
    "lines_to_next_cell": 2,
    "papermill": {
     "duration": 0.504224,
     "end_time": "2023-06-08T03:08:53.423240",
     "exception": false,
     "start_time": "2023-06-08T03:08:52.919016",
     "status": "completed"
    },
    "tags": []
   },
   "outputs": [
    {
     "data": {
      "text/html": [
       "<pre style=\"white-space:pre;overflow-x:auto;line-height:normal;font-family:Menlo,'DejaVu Sans Mono',consolas,'Courier New',monospace\">\n",
       "\n",
       "</pre>\n"
      ],
      "text/plain": [
       "<rich.jupyter.JupyterRenderable at 0x7fc66472a190>"
      ]
     },
     "metadata": {},
     "output_type": "display_data"
    },
    {
     "data": {
      "text/html": [
       "<pre style=\"white-space:pre;overflow-x:auto;line-height:normal;font-family:Menlo,'DejaVu Sans Mono',consolas,'Courier New',monospace\"><span style=\"font-style: italic\">                      ChipScoPy Version Information                      </span>\n",
       "┌────────────────────────────┬──────────────────────────────────────────┐\n",
       "│<span style=\"font-weight: bold\">                     Entity </span>│<span style=\"font-weight: bold\"> Version                                  </span>│\n",
       "├────────────────────────────┼──────────────────────────────────────────┤\n",
       "│                  ChipScoPy │ ┌───────────┬──────────────────────┐     │\n",
       "│                            │ │<span style=\"font-weight: bold\"> Attribute </span>│<span style=\"font-weight: bold\"> Value                </span>│     │\n",
       "│                            │ ├───────────┼──────────────────────┤     │\n",
       "│                            │ │     Build │ 2023.1.1685656083    │     │\n",
       "│                            │ │ Timestamp │ Jun 01 2023-15:48:03 │     │\n",
       "│                            │ └───────────┴──────────────────────┘     │\n",
       "│                            │                                          │\n",
       "│ hw_server @ localhost:3121 │ ┌───────────┬──────────────────────────┐ │\n",
       "│                            │ │<span style=\"font-weight: bold\"> Attribute </span>│<span style=\"font-weight: bold\"> Value                    </span>│ │\n",
       "│                            │ ├───────────┼──────────────────────────┤ │\n",
       "│                            │ │    Status │ Connected                │ │\n",
       "│                            │ │     Build │ 1672194119               │ │\n",
       "│                            │ │   Version │ 2023.1.0                 │ │\n",
       "│                            │ │ Timestamp │ Tue Dec 27 19:21:59 2022 │ │\n",
       "│                            │ └───────────┴──────────────────────────┘ │\n",
       "│                            │                                          │\n",
       "│ cs_server @ localhost:3042 │ ┌───────────────┬──────────────────────┐ │\n",
       "│                            │ │<span style=\"font-weight: bold\">     Attribute </span>│<span style=\"font-weight: bold\"> Value                </span>│ │\n",
       "│                            │ ├───────────────┼──────────────────────┤ │\n",
       "│                            │ │        Status │ Connected            │ │\n",
       "│                            │ │         Build │ 1681142364           │ │\n",
       "│                            │ │       Version │ 2023.1.0             │ │\n",
       "│                            │ │     Timestamp │ Apr 10 2023-09:59:24 │ │\n",
       "│                            │ │       Package │ 2023.1.1681142364    │ │\n",
       "│                            │ │ Artifact type │ pyinstaller          │ │\n",
       "│                            │ └───────────────┴──────────────────────┘ │\n",
       "└────────────────────────────┴──────────────────────────────────────────┘\n",
       "</pre>\n"
      ],
      "text/plain": [
       "<rich.jupyter.JupyterRenderable at 0x7fc66472f1f0>"
      ]
     },
     "metadata": {},
     "output_type": "display_data"
    },
    {
     "data": {
      "text/html": [
       "<pre style=\"white-space:pre;overflow-x:auto;line-height:normal;font-family:Menlo,'DejaVu Sans Mono',consolas,'Courier New',monospace\">\n",
       "\n",
       "</pre>\n"
      ],
      "text/plain": [
       "<rich.jupyter.JupyterRenderable at 0x7fc66472f490>"
      ]
     },
     "metadata": {},
     "output_type": "display_data"
    }
   ],
   "source": [
    "session = create_session(cs_server_url=CS_URL, hw_server_url=HW_URL)\n",
    "report_versions(session)"
   ]
  },
  {
   "cell_type": "markdown",
   "id": "75fe0dc5",
   "metadata": {
    "papermill": {
     "duration": 0.003368,
     "end_time": "2023-06-08T03:08:53.430872",
     "exception": false,
     "start_time": "2023-06-08T03:08:53.427504",
     "status": "completed"
    },
    "tags": []
   },
   "source": [
    "## 3 - Select the device and program\n",
    "\n",
    "After this step,\n",
    "- Device is programmed with the example programming file (for this example the user must supply the design)"
   ]
  },
  {
   "cell_type": "code",
   "execution_count": 4,
   "id": "dc41041b",
   "metadata": {
    "execution": {
     "iopub.execute_input": "2023-06-08T03:08:53.442495Z",
     "iopub.status.busy": "2023-06-08T03:08:53.442022Z",
     "iopub.status.idle": "2023-06-08T03:08:53.458949Z",
     "shell.execute_reply": "2023-06-08T03:08:53.459248Z"
    },
    "lines_to_next_cell": 2,
    "papermill": {
     "duration": 0.025145,
     "end_time": "2023-06-08T03:08:53.459417",
     "exception": false,
     "start_time": "2023-06-08T03:08:53.434272",
     "status": "completed"
    },
    "tags": []
   },
   "outputs": [],
   "source": [
    "versal_device = session.devices.filter_by(family=\"versal\").get()\n",
    "# use this to program your design\n",
    "# versal_device.program(\"filename.pdi\")"
   ]
  },
  {
   "cell_type": "markdown",
   "id": "8fce0e94",
   "metadata": {
    "papermill": {
     "duration": 0.003426,
     "end_time": "2023-06-08T03:08:53.467338",
     "exception": false,
     "start_time": "2023-06-08T03:08:53.463912",
     "status": "completed"
    },
    "tags": []
   },
   "source": [
    "## 4 - Discover Debug Cores\n",
    "\n",
    "Debug core discovery initializes the chipscope server debug cores. This brings debug cores in the chipscope server online.\n",
    "\n",
    "After this step,\n",
    "\n",
    "- The cs_server is initialized and ready for use"
   ]
  },
  {
   "cell_type": "code",
   "execution_count": 5,
   "id": "5196bbc2",
   "metadata": {
    "execution": {
     "iopub.execute_input": "2023-06-08T03:08:53.479089Z",
     "iopub.status.busy": "2023-06-08T03:08:53.478745Z",
     "iopub.status.idle": "2023-06-08T03:08:53.538408Z",
     "shell.execute_reply": "2023-06-08T03:08:53.537972Z"
    },
    "lines_to_next_cell": 2,
    "papermill": {
     "duration": 0.067767,
     "end_time": "2023-06-08T03:08:53.538541",
     "exception": false,
     "start_time": "2023-06-08T03:08:53.470774",
     "status": "completed"
    },
    "tags": []
   },
   "outputs": [
    {
     "name": "stdout",
     "output_type": "stream",
     "text": [
      "Debug cores setup and ready for use.\n"
     ]
    }
   ],
   "source": [
    "versal_device.discover_and_setup_cores(\n",
    "    noc_scan=True, ila_scan=False, vio_scan=False, pcie_scan=False\n",
    ")\n",
    "print(f\"Debug cores setup and ready for use.\")"
   ]
  },
  {
   "cell_type": "markdown",
   "id": "4b660dc9",
   "metadata": {
    "papermill": {
     "duration": 0.003545,
     "end_time": "2023-06-08T03:08:53.546814",
     "exception": false,
     "start_time": "2023-06-08T03:08:53.543269",
     "status": "completed"
    },
    "tags": []
   },
   "source": [
    "## 5 - Setup NoC core\n",
    "\n",
    "Ensure scan nodes are enabled in the design.\n",
    "\n",
    "We begin by enumerating the debug cores (hard and soft) present in the design.\n",
    "Then we ask the design for the supported timebases. And, finally:\n",
    "The NoC is scanned to determine the activated elements."
   ]
  },
  {
   "cell_type": "code",
   "execution_count": 6,
   "id": "2154c02e",
   "metadata": {
    "execution": {
     "iopub.execute_input": "2023-06-08T03:08:53.558156Z",
     "iopub.status.busy": "2023-06-08T03:08:53.557796Z",
     "iopub.status.idle": "2023-06-08T03:08:54.487139Z",
     "shell.execute_reply": "2023-06-08T03:08:54.486798Z"
    },
    "lines_to_next_cell": 2,
    "papermill": {
     "duration": 0.937033,
     "end_time": "2023-06-08T03:08:54.487292",
     "exception": false,
     "start_time": "2023-06-08T03:08:53.550259",
     "status": "completed"
    },
    "tags": []
   },
   "outputs": [
    {
     "name": "stdout",
     "output_type": "stream",
     "text": [
      "NPI_NIR_X0Y0\n"
     ]
    }
   ],
   "source": [
    "nocs = versal_device.noc_core\n",
    "base_noc = nocs[0]\n",
    "print(base_noc.name)"
   ]
  },
  {
   "cell_type": "code",
   "execution_count": 7,
   "id": "8e06b7fe",
   "metadata": {
    "execution": {
     "iopub.execute_input": "2023-06-08T03:08:54.561567Z",
     "iopub.status.busy": "2023-06-08T03:08:54.561082Z",
     "iopub.status.idle": "2023-06-08T03:08:54.632672Z",
     "shell.execute_reply": "2023-06-08T03:08:54.632303Z"
    },
    "lines_to_next_cell": 2,
    "papermill": {
     "duration": 0.140866,
     "end_time": "2023-06-08T03:08:54.632813",
     "exception": false,
     "start_time": "2023-06-08T03:08:54.491947",
     "status": "completed"
    },
    "tags": []
   },
   "outputs": [
    {
     "name": "stdout",
     "output_type": "stream",
     "text": [
      "\n",
      "Enumerating nodes: HBM_MC_X0Y0, NOC_NMU_HBM2E_X0Y0, NOC_NMU_HBM2E_X1Y0, ...complete!\n"
     ]
    }
   ],
   "source": [
    "# this will setup the nodes on the server side and return the nodes successfully enumerated\n",
    "# print(\"Discovering NoC, this may take some time...\")\n",
    "# hbm_enable_list = base_noc.discover_noc_elements()\n",
    "# or enumerate!\n",
    "scan_nodes = [\"HBM_MC_X0Y0\", \"NOC_NMU_HBM2E_X0Y0\", \"NOC_NMU_HBM2E_X1Y0\"]\n",
    "print(\"\\nEnumerating nodes: \", end=\"\")\n",
    "for node in scan_nodes:\n",
    "    print(f\"{node}, \", end=\"\")\n",
    "print(\"...\", end=\"\")\n",
    "\n",
    "hbm_enable_list = base_noc.enumerate_noc_elements(scan_nodes)\n",
    "print(\"complete!\")"
   ]
  },
  {
   "cell_type": "code",
   "execution_count": 8,
   "id": "8eb7128c",
   "metadata": {
    "execution": {
     "iopub.execute_input": "2023-06-08T03:08:54.646007Z",
     "iopub.status.busy": "2023-06-08T03:08:54.645654Z",
     "iopub.status.idle": "2023-06-08T03:08:54.720174Z",
     "shell.execute_reply": "2023-06-08T03:08:54.720447Z"
    },
    "lines_to_next_cell": 2,
    "papermill": {
     "duration": 0.083276,
     "end_time": "2023-06-08T03:08:54.720558",
     "exception": false,
     "start_time": "2023-06-08T03:08:54.637282",
     "status": "completed"
    },
    "tags": []
   },
   "outputs": [
    {
     "name": "stdout",
     "output_type": "stream",
     "text": [
      "Supported sampling periods:\n",
      "  NoC:\n",
      "    70ms    140ms    280ms    560ms    1120ms    2241ms\n",
      "  NPI:\n",
      "    56ms    112ms    224ms    447ms    895ms    1790ms    3579ms    7158ms\n",
      "  HBM_MC_X0Y0:\n",
      "    50ms    100ms    150ms    200ms    250ms    300ms    350ms    400ms    450ms    500ms    550ms    600ms    650ms    700ms    750ms    800ms    850ms    900ms    950ms    1000ms    1050ms    1100ms    1150ms    1200ms    1250ms    1300ms    1350ms    1400ms    1450ms    1500ms    1550ms    1600ms    1650ms    1700ms    1750ms    1800ms    1850ms    1900ms    1950ms    2000ms    2050ms    2100ms    2150ms    2200ms    2250ms    2300ms    2350ms    2400ms    2450ms    2500ms    2550ms    2600ms    2650ms    2700ms    2750ms    2800ms    2850ms    2900ms    2950ms    3000ms    3050ms    3100ms    3150ms    3200ms    3250ms    3300ms    3350ms    3400ms    3450ms    3500ms    3550ms    3600ms    3650ms    3700ms    3750ms    3800ms    3850ms    3900ms    3950ms    4000ms    4050ms    4100ms    4150ms    4200ms    4250ms    4300ms    4350ms    4400ms    4450ms    4500ms    4550ms    4600ms    4650ms    4700ms    4750ms    4800ms    4850ms    4900ms    4950ms    5000ms    5050ms    5100ms    5150ms    5200ms    5250ms    5300ms    5350ms    5400ms    5450ms    5500ms    5550ms    5600ms    5650ms    5700ms    5750ms    5800ms    5850ms    5900ms    5950ms    6000ms    6050ms    6100ms    6150ms    6200ms    6250ms    6300ms    6350ms    6400ms    6450ms    6500ms    6550ms    6600ms    6650ms    6700ms    6750ms    6800ms    6850ms    6900ms    6950ms    7000ms    7050ms    7100ms    7150ms    7200ms    7250ms    7300ms    7350ms    7400ms    7450ms    7500ms    7550ms    7600ms    7650ms    7700ms    7750ms    7800ms    7850ms    7900ms    7950ms    8000ms    8050ms    8100ms    8150ms    8200ms    8250ms    8300ms    8350ms    8400ms    8450ms    8500ms    8550ms    8600ms    8650ms    8700ms    8750ms    8800ms    8850ms    8900ms    8950ms    9000ms    9050ms    9100ms    9150ms    9200ms    9250ms    9300ms    9350ms    9400ms    9450ms    9500ms    9550ms    9600ms    9650ms    9700ms    9750ms    9800ms    9850ms    9900ms    9950ms    10000ms    10050ms    10100ms    10150ms    10200ms    10250ms    10300ms    10350ms    10400ms    10450ms    10500ms    10550ms    10600ms    10650ms    10700ms    10750ms    10800ms    10850ms    10900ms    10950ms    11000ms    11050ms    11100ms    11150ms    11200ms    11250ms    11300ms    11350ms    11400ms    11450ms    11500ms    11550ms    11600ms    11650ms    11700ms    11750ms    11800ms    11850ms    11900ms    11950ms    12000ms    12050ms    12100ms    12150ms    12200ms    12250ms    12300ms    12350ms    12400ms    12450ms    12500ms    12550ms    12600ms    12650ms    12700ms    12750ms    12800ms    12850ms    12900ms    12950ms    13000ms    13050ms    13100ms    13150ms    13200ms    13250ms    13300ms    13350ms    13400ms    13450ms    13500ms    13550ms    13600ms    13650ms    13700ms    13750ms    13800ms    13850ms    13900ms    13950ms    14000ms    14050ms    14100ms    14150ms    14200ms    14250ms    14300ms\n"
     ]
    }
   ],
   "source": [
    "supported_periods = base_noc.get_supported_sampling_periods(100 / 3, 100 / 3, {})\n",
    "print(\"Supported sampling periods:\")\n",
    "for domain, periods in supported_periods.items():\n",
    "    print(f\"  {domain}:\")\n",
    "    for p in periods:\n",
    "        print(f\"    {p:.0f}ms\", end=\"\")\n",
    "    print()"
   ]
  },
  {
   "cell_type": "markdown",
   "id": "c797ef2e",
   "metadata": {
    "papermill": {
     "duration": 0.004505,
     "end_time": "2023-06-08T03:08:54.729251",
     "exception": false,
     "start_time": "2023-06-08T03:08:54.724746",
     "status": "completed"
    },
    "tags": []
   },
   "source": [
    "Select Timebase and Nodes to Monitor\n",
    "\n",
    "For the various clock domains we must select a sampling period from the hardware supported values. The debug cable used will dictate how much bandwidth is available, so high frequency sampling may not actually produce data at the specified rate. Recommendation is ~500ms for jtag.\n",
    "\n",
    "Then the user must decide what to monitor--again the bandwidth is a definite consideration here. Plot performance may become the bottleneck (Optimizations will come later in the renderer or agg backend). The guidance here is to pick up to 4 nodes to monitor."
   ]
  },
  {
   "cell_type": "code",
   "execution_count": 9,
   "id": "1bcc1e3d",
   "metadata": {
    "execution": {
     "iopub.execute_input": "2023-06-08T03:08:54.741960Z",
     "iopub.status.busy": "2023-06-08T03:08:54.741607Z",
     "iopub.status.idle": "2023-06-08T03:08:54.744623Z",
     "shell.execute_reply": "2023-06-08T03:08:54.744279Z"
    },
    "lines_to_next_cell": 2,
    "papermill": {
     "duration": 0.011493,
     "end_time": "2023-06-08T03:08:54.744692",
     "exception": false,
     "start_time": "2023-06-08T03:08:54.733199",
     "status": "completed"
    },
    "tags": []
   },
   "outputs": [
    {
     "name": "stdout",
     "output_type": "stream",
     "text": [
      "Sampling period selection:\n",
      "  NoC: 560ms\n",
      "  NPI: 895ms\n",
      "  HBM_MC_X0Y0: 500ms\n"
     ]
    }
   ],
   "source": [
    "desired_period = 500  # ms\n",
    "sampling_intervals = {}\n",
    "\n",
    "for domain in supported_periods.keys():\n",
    "    sampling_intervals[domain] = 0\n",
    "    for sp in supported_periods[domain]:\n",
    "        if sp >= desired_period:\n",
    "            sampling_intervals[domain] = sp\n",
    "            break\n",
    "\n",
    "    if sampling_intervals[domain] == 0:\n",
    "        print(\n",
    "            f\"Warning, desired period {desired_period}ms is slower than \"\n",
    "            f\"longest supported period {supported_periods[domain][-1]}ms [{domain} domain] \"\n",
    "            f\"defaulting to this value.\"\n",
    "        )\n",
    "        sampling_intervals[domain] = supported_periods[-1]\n",
    "\n",
    "print(f\"Sampling period selection:\")\n",
    "for domain, freq in sampling_intervals.items():\n",
    "    print(f\"  {domain}: {freq:.0f}ms\")"
   ]
  },
  {
   "cell_type": "markdown",
   "id": "b3ccd843",
   "metadata": {
    "papermill": {
     "duration": 0.00366,
     "end_time": "2023-06-08T03:08:54.752078",
     "exception": false,
     "start_time": "2023-06-08T03:08:54.748418",
     "status": "completed"
    },
    "tags": []
   },
   "source": [
    "##  6 - Configure Monitors\n",
    "\n",
    "As a precaution, it's a good idea to validate the desired nodes are enabled for the design.\n",
    "Using the set of nodes and the desired sampling periods it's time to ask the service to start pushing metric data. Two additional arguments are required to this API.\n",
    "\n",
    "Traffic class\n",
    "\n",
    "This is a bit-or field of the requested traffic classes. Note, One monitor is dedicated to read traffic classes and the other to write--so all read TCs will apply to one channel and all write TCs to the other. `Best effort` is a good place to start.\n",
    "\n",
    "Number of Samples\n",
    "\n",
    "The number of samples allows for a burst of measurements to be taken and then the underlying service will tear down the monitors and stop pumping data back to the client. `-1` denotes that sampling shall continue indefinitely."
   ]
  },
  {
   "cell_type": "code",
   "execution_count": 10,
   "id": "1f1e5eaf",
   "metadata": {
    "execution": {
     "iopub.execute_input": "2023-06-08T03:08:54.771226Z",
     "iopub.status.busy": "2023-06-08T03:08:54.770784Z",
     "iopub.status.idle": "2023-06-08T03:08:54.792334Z",
     "shell.execute_reply": "2023-06-08T03:08:54.791893Z"
    },
    "lines_to_next_cell": 2,
    "papermill": {
     "duration": 0.036505,
     "end_time": "2023-06-08T03:08:54.792444",
     "exception": false,
     "start_time": "2023-06-08T03:08:54.755939",
     "status": "completed"
    },
    "tags": []
   },
   "outputs": [
    {
     "name": "stdout",
     "output_type": "stream",
     "text": [
      "Setting up monitors for: \n",
      "HBM_MC_X0Y0\n",
      "NOC_NMU_HBM2E_X0Y0\n",
      "NOC_NMU_HBM2E_X1Y0\n"
     ]
    }
   ],
   "source": [
    "# total number of samples to capture (-1 for continuous mode)\n",
    "num_samples = -1\n",
    "\n",
    "enable_list = hbm_enable_list\n",
    "print(\"Setting up monitors for: \")\n",
    "for node in enable_list:\n",
    "    print(node)\n",
    "\n",
    "# When overflow occurs the precision of the monitors must be traded for range\n",
    "# See the server API for more information\n",
    "extended_monitor_config = {\n",
    "    \"NOC_NMU_HBM2E_X0Y0\": {\"tslide\": 0x3},\n",
    "    \"NOC_NMU_HBM2E_X1Y0\": {\"tslide\": 0x3},\n",
    "}  # or None\n",
    "base_noc.configure_monitors(\n",
    "    enable_list, sampling_intervals, (TC_BEW | TC_BER), num_samples, None, extended_monitor_config\n",
    ")"
   ]
  },
  {
   "cell_type": "markdown",
   "id": "11bb54bb",
   "metadata": {
    "papermill": {
     "duration": 0.004008,
     "end_time": "2023-06-08T03:08:54.801261",
     "exception": false,
     "start_time": "2023-06-08T03:08:54.797253",
     "status": "completed"
    },
    "tags": []
   },
   "source": [
    "## 7 - Create plotter and listener\n",
    "\n",
    "Attach both to running view"
   ]
  },
  {
   "cell_type": "code",
   "execution_count": 11,
   "id": "81c69c4b",
   "metadata": {
    "execution": {
     "iopub.execute_input": "2023-06-08T03:08:54.820019Z",
     "iopub.status.busy": "2023-06-08T03:08:54.817069Z",
     "iopub.status.idle": "2023-06-08T03:08:54.822302Z",
     "shell.execute_reply": "2023-06-08T03:08:54.822574Z"
    },
    "papermill": {
     "duration": 0.017512,
     "end_time": "2023-06-08T03:08:54.822783",
     "exception": false,
     "start_time": "2023-06-08T03:08:54.805271",
     "status": "completed"
    },
    "tags": []
   },
   "outputs": [],
   "source": [
    "record_to_file = False  # True | False\n",
    "node_listener = NoCPerfMonNodeListener(\n",
    "    sampling_intervals,\n",
    "    num_samples,\n",
    "    enable_list,\n",
    "    record_to_file,\n",
    "    extended_monitor_config=extended_monitor_config,\n",
    ")\n",
    "session.chipscope_view.add_node_listener(node_listener)\n",
    "\n",
    "plotter = MeasurementPlot(enable_list, mock=False, figsize=(10, 7.5))\n",
    "node_listener.link_plotter(plotter)"
   ]
  },
  {
   "cell_type": "code",
   "execution_count": 12,
   "id": "2793878b",
   "metadata": {
    "execution": {
     "iopub.execute_input": "2023-06-08T03:08:54.841926Z",
     "iopub.status.busy": "2023-06-08T03:08:54.841541Z",
     "iopub.status.idle": "2023-06-08T03:08:55.090560Z",
     "shell.execute_reply": "2023-06-08T03:08:55.090090Z"
    },
    "papermill": {
     "duration": 0.262395,
     "end_time": "2023-06-08T03:08:55.090692",
     "exception": false,
     "start_time": "2023-06-08T03:08:54.828297",
     "status": "completed"
    },
    "tags": []
   },
   "outputs": [],
   "source": [
    "# Build Plotting Graphs\n",
    "matplotlib.use(\"Qt5Agg\")\n",
    "plotter.build_graphs()"
   ]
  },
  {
   "cell_type": "markdown",
   "id": "7fcf2c5d",
   "metadata": {
    "papermill": {
     "duration": 0.003916,
     "end_time": "2023-06-08T03:08:55.101338",
     "exception": false,
     "start_time": "2023-06-08T03:08:55.097422",
     "status": "completed"
    },
    "tags": []
   },
   "source": [
    "## 8 - Main Event Loop\n",
    "\n",
    "This loop runs until you close the plotter.\n",
    "\n",
    "If you are using a finite amount of measurement samples, you can uncomment the if --> break statement to automatically return from execution of this cell upon completion of the burst."
   ]
  },
  {
   "cell_type": "code",
   "execution_count": 13,
   "id": "6b954ba2",
   "metadata": {
    "execution": {
     "iopub.execute_input": "2023-06-08T03:08:55.121285Z",
     "iopub.status.busy": "2023-06-08T03:08:55.120934Z",
     "iopub.status.idle": "2023-06-08T03:08:59.060960Z",
     "shell.execute_reply": "2023-06-08T03:08:59.061261Z"
    },
    "papermill": {
     "duration": 3.955768,
     "end_time": "2023-06-08T03:08:59.061403",
     "exception": false,
     "start_time": "2023-06-08T03:08:55.105635",
     "status": "completed"
    },
    "tags": []
   },
   "outputs": [],
   "source": [
    "# Run Main Event Loop\n",
    "while True:\n",
    "    session.chipscope_view.run_events()\n",
    "    sleep(0.1)\n",
    "    plotter.fig.canvas.draw()\n",
    "    plotter.fig.canvas.flush_events()\n",
    "    if not plotter.alive:\n",
    "        break\n",
    "    # Below will return on burst completion - uncomment if you want to try.\n",
    "    # if all([x <= 0 for x in node_listener.num_samples.values()]):\n",
    "    #     break"
   ]
  }
 ],
 "metadata": {
  "jupytext": {
   "cell_metadata_filter": "-all",
   "formats": "ipynb,py"
  },
  "kernelspec": {
   "display_name": "Python 3 (ipykernel)",
   "language": "python",
   "name": "python3"
  },
  "language_info": {
   "codemirror_mode": {
    "name": "ipython",
    "version": 3
   },
   "file_extension": ".py",
   "mimetype": "text/x-python",
   "name": "python",
   "nbconvert_exporter": "python",
   "pygments_lexer": "ipython3",
   "version": "3.9.16"
  },
  "papermill": {
   "default_parameters": {},
   "duration": 8.609758,
   "end_time": "2023-06-08T03:08:59.674997",
   "environment_variables": {},
   "exception": null,
   "input_path": "hbm_perfmon.ipynb",
   "output_path": "output.ipynb",
   "parameters": {},
   "start_time": "2023-06-08T03:08:51.065239",
   "version": "2.4.0"
  }
 },
 "nbformat": 4,
 "nbformat_minor": 5
}
