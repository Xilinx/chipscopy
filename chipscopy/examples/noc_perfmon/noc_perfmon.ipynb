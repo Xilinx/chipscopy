{
 "cells": [
  {
   "cell_type": "markdown",
   "id": "2d131ecd",
   "metadata": {
    "papermill": {
     "duration": 0.004618,
     "end_time": "2023-06-07T20:50:48.719383",
     "exception": false,
     "start_time": "2023-06-07T20:50:48.714765",
     "status": "completed"
    },
    "tags": []
   },
   "source": [
    "<link rel=\"preconnect\" href=\"https://fonts.gstatic.com\">\n",
    "<link href=\"https://fonts.googleapis.com/css2?family=Fira+Code&display=swap\" rel=\"stylesheet\">\n",
    "\n",
    "### License\n",
    "\n",
    "<p style=\"font-family: 'Fira Code', monospace; font-size: 1.2rem\">\n",
    "Copyright (c) 2021-2022 Xilinx, Inc.<br>\n",
    "Copyright (c) 2022-2023 Advanced Micro Devices, Inc.<br><br>\n",
    "Licensed under the Apache License, Version 2.0 (the \"License\");<br>\n",
    "you may not use this file except in compliance with the License.<br><br>\n",
    "You may obtain a copy of the License at <a href=\"http://www.apache.org/licenses/LICENSE-2.0\"?>http://www.apache.org/licenses/LICENSE-2.0</a><br><br>\n",
    "Unless required by applicable law or agreed to in writing, software<br>\n",
    "distributed under the License is distributed on an \"AS IS\" BASIS,<br>\n",
    "WITHOUT WARRANTIES OR CONDITIONS OF ANY KIND, either express or implied.<br>\n",
    "See the License for the specific language governing permissions and<br>\n",
    "limitations under the License.<br>\n",
    "</p>\n"
   ]
  },
  {
   "cell_type": "markdown",
   "id": "1158421c",
   "metadata": {
    "papermill": {
     "duration": 0.003522,
     "end_time": "2023-06-07T20:50:48.832443",
     "exception": false,
     "start_time": "2023-06-07T20:50:48.828921",
     "status": "completed"
    },
    "tags": []
   },
   "source": [
    "# ChipScoPy NoC Perfmon Example\n",
    "\n",
    "\n",
    "<img src=\"../img/api_overview.png\" width=\"500\" align=\"left\">"
   ]
  },
  {
   "cell_type": "markdown",
   "id": "4e2bbdd5",
   "metadata": {
    "papermill": {
     "duration": 0.003375,
     "end_time": "2023-06-07T20:50:48.838948",
     "exception": false,
     "start_time": "2023-06-07T20:50:48.835573",
     "status": "completed"
    },
    "tags": []
   },
   "source": [
    "## Description\n",
    "This example demonstrates how to configure a Versal for taking NoC performance measurements.\n",
    "\n",
    "## Requirements\n",
    "- Local or remote Xilinx Versal board, such as a VCK190\n",
    "- Xilinx hw_server 2022.2 installed and running\n",
    "- Xilinx cs_server 2022.2 installed and running\n",
    "- Python 3.8 or greater installed\n",
    "- ChipScoPy 2022.2 installed\n",
    "- Jupyter notebook support installed - Please do so, using the command `pip install chipscopy[jupyter]`\n",
    "- Matplotlib support installed - Please do so, using the command `pip install chipscopy[core-addons]`"
   ]
  },
  {
   "cell_type": "markdown",
   "id": "ae2a8966",
   "metadata": {
    "papermill": {
     "duration": 0.003153,
     "end_time": "2023-06-07T20:50:48.845448",
     "exception": false,
     "start_time": "2023-06-07T20:50:48.842295",
     "status": "completed"
    },
    "tags": []
   },
   "source": [
    "## 1 - Initialization: Imports and File Paths\n",
    "\n",
    "After this step,\n",
    "- Required functions and classes are imported\n",
    "- Paths to server(s) and files are set correctly"
   ]
  },
  {
   "cell_type": "code",
   "execution_count": 1,
   "id": "80ab3d6f",
   "metadata": {
    "execution": {
     "iopub.execute_input": "2023-06-07T20:50:48.859117Z",
     "iopub.status.busy": "2023-06-07T20:50:48.858766Z",
     "iopub.status.idle": "2023-06-07T20:50:49.474087Z",
     "shell.execute_reply": "2023-06-07T20:50:49.473466Z"
    },
    "papermill": {
     "duration": 0.625708,
     "end_time": "2023-06-07T20:50:49.474220",
     "exception": false,
     "start_time": "2023-06-07T20:50:48.848512",
     "status": "completed"
    },
    "tags": []
   },
   "outputs": [],
   "source": [
    "import os\n",
    "from time import sleep\n",
    "import matplotlib  # for nbconvert'd script\n",
    "from chipscopy.api.noc import (\n",
    "    TC_BEW,\n",
    "    TC_BER,\n",
    "    NoCPerfMonNodeListener,\n",
    ")\n",
    "from chipscopy.api.noc.plotting_utils import MeasurementPlot\n",
    "from chipscopy import create_session, report_versions\n",
    "from chipscopy import get_design_files"
   ]
  },
  {
   "cell_type": "code",
   "execution_count": 2,
   "id": "dacdda95",
   "metadata": {
    "execution": {
     "iopub.execute_input": "2023-06-07T20:50:49.486796Z",
     "iopub.status.busy": "2023-06-07T20:50:49.486429Z",
     "iopub.status.idle": "2023-06-07T20:50:49.490958Z",
     "shell.execute_reply": "2023-06-07T20:50:49.490664Z"
    },
    "papermill": {
     "duration": 0.011722,
     "end_time": "2023-06-07T20:50:49.491046",
     "exception": false,
     "start_time": "2023-06-07T20:50:49.479324",
     "status": "completed"
    },
    "tags": []
   },
   "outputs": [
    {
     "name": "stdout",
     "output_type": "stream",
     "text": [
      "HW_URL: TCP:localhost:3121\n",
      "CS_URL: TCP:localhost:3042\n",
      "PROGRAMMING_FILE: /scratch/chipscopy/chipscopy/examples/designs/vck190/production/chipscopy_ced/chipscopy_wrapper.pdi\n",
      "PROBES_FILE:/scratch/chipscopy/chipscopy/examples/designs/vck190/production/chipscopy_ced/chipscopy_wrapper.ltx\n"
     ]
    }
   ],
   "source": [
    "# Make sure to start the hw_server and cs_server prior to running.\n",
    "# Specify locations of the running hw_server and cs_server below.\n",
    "# The default is localhost - but can be other locations on the network.\n",
    "CS_URL = os.getenv(\"CS_SERVER_URL\", \"TCP:localhost:3042\")\n",
    "HW_URL = os.getenv(\"HW_SERVER_URL\", \"TCP:localhost:3121\")\n",
    "\n",
    "# The get_design_files() function tries to find the PDI and LTX files. In non-standard\n",
    "# configurations, you can put the path for PROGRAMMING_FILE and PROBES_FILE below.\n",
    "design_files = get_design_files(\"vck190/production/chipscopy_ced\")\n",
    "\n",
    "PROGRAMMING_FILE = design_files.programming_file\n",
    "PROBES_FILE = design_files.probes_file\n",
    "\n",
    "print(f\"HW_URL: {HW_URL}\")\n",
    "print(f\"CS_URL: {CS_URL}\")\n",
    "print(f\"PROGRAMMING_FILE: {PROGRAMMING_FILE}\")\n",
    "print(f\"PROBES_FILE:{PROBES_FILE}\")"
   ]
  },
  {
   "cell_type": "markdown",
   "id": "f429011d",
   "metadata": {
    "papermill": {
     "duration": 0.003164,
     "end_time": "2023-06-07T20:50:49.497538",
     "exception": false,
     "start_time": "2023-06-07T20:50:49.494374",
     "status": "completed"
    },
    "tags": []
   },
   "source": [
    "## 2 - Create a session and connect to the hw_server and cs_server\n",
    "\n",
    "The session is a container that keeps track of devices and debug cores.\n",
    "After this step,\n",
    "- Session is initialized and connected to server(s)\n",
    "- Versions are detected and reported to stdout"
   ]
  },
  {
   "cell_type": "code",
   "execution_count": 3,
   "id": "75c35c28",
   "metadata": {
    "execution": {
     "iopub.execute_input": "2023-06-07T20:50:49.507383Z",
     "iopub.status.busy": "2023-06-07T20:50:49.506987Z",
     "iopub.status.idle": "2023-06-07T20:50:50.415069Z",
     "shell.execute_reply": "2023-06-07T20:50:50.415350Z"
    },
    "papermill": {
     "duration": 0.914813,
     "end_time": "2023-06-07T20:50:50.415482",
     "exception": false,
     "start_time": "2023-06-07T20:50:49.500669",
     "status": "completed"
    },
    "tags": []
   },
   "outputs": [
    {
     "data": {
      "text/html": [
       "<pre style=\"white-space:pre;overflow-x:auto;line-height:normal;font-family:Menlo,'DejaVu Sans Mono',consolas,'Courier New',monospace\">\n",
       "\n",
       "</pre>\n"
      ],
      "text/plain": [
       "<rich.jupyter.JupyterRenderable at 0x7fb32f79b3a0>"
      ]
     },
     "metadata": {},
     "output_type": "display_data"
    },
    {
     "data": {
      "text/html": [
       "<pre style=\"white-space:pre;overflow-x:auto;line-height:normal;font-family:Menlo,'DejaVu Sans Mono',consolas,'Courier New',monospace\"><span style=\"font-style: italic\">                      ChipScoPy Version Information                      </span>\n",
       "┌────────────────────────────┬──────────────────────────────────────────┐\n",
       "│<span style=\"font-weight: bold\">                     Entity </span>│<span style=\"font-weight: bold\"> Version                                  </span>│\n",
       "├────────────────────────────┼──────────────────────────────────────────┤\n",
       "│                  ChipScoPy │ ┌───────────┬──────────────────────┐     │\n",
       "│                            │ │<span style=\"font-weight: bold\"> Attribute </span>│<span style=\"font-weight: bold\"> Value                </span>│     │\n",
       "│                            │ ├───────────┼──────────────────────┤     │\n",
       "│                            │ │     Build │ 2023.1.1685656083    │     │\n",
       "│                            │ │ Timestamp │ Jun 01 2023-15:48:03 │     │\n",
       "│                            │ └───────────┴──────────────────────┘     │\n",
       "│                            │                                          │\n",
       "│ hw_server @ localhost:3121 │ ┌───────────┬──────────────────────────┐ │\n",
       "│                            │ │<span style=\"font-weight: bold\"> Attribute </span>│<span style=\"font-weight: bold\"> Value                    </span>│ │\n",
       "│                            │ ├───────────┼──────────────────────────┤ │\n",
       "│                            │ │    Status │ Connected                │ │\n",
       "│                            │ │     Build │ 1683493450               │ │\n",
       "│                            │ │   Version │ 2023.1                   │ │\n",
       "│                            │ │ Timestamp │ Sun May  7 15:04:10 2023 │ │\n",
       "│                            │ └───────────┴──────────────────────────┘ │\n",
       "│                            │                                          │\n",
       "│ cs_server @ localhost:3042 │ ┌───────────────┬──────────────────────┐ │\n",
       "│                            │ │<span style=\"font-weight: bold\">     Attribute </span>│<span style=\"font-weight: bold\"> Value                </span>│ │\n",
       "│                            │ ├───────────────┼──────────────────────┤ │\n",
       "│                            │ │        Status │ Connected            │ │\n",
       "│                            │ │         Build │ 1681142364           │ │\n",
       "│                            │ │       Version │ 2023.1.0             │ │\n",
       "│                            │ │     Timestamp │ Apr 10 2023-09:59:24 │ │\n",
       "│                            │ │       Package │ 2023.1.1681142364    │ │\n",
       "│                            │ │ Artifact type │ pyinstaller          │ │\n",
       "│                            │ └───────────────┴──────────────────────┘ │\n",
       "└────────────────────────────┴──────────────────────────────────────────┘\n",
       "</pre>\n"
      ],
      "text/plain": [
       "<rich.jupyter.JupyterRenderable at 0x7fb32f7edd90>"
      ]
     },
     "metadata": {},
     "output_type": "display_data"
    },
    {
     "data": {
      "text/html": [
       "<pre style=\"white-space:pre;overflow-x:auto;line-height:normal;font-family:Menlo,'DejaVu Sans Mono',consolas,'Courier New',monospace\">\n",
       "\n",
       "</pre>\n"
      ],
      "text/plain": [
       "<rich.jupyter.JupyterRenderable at 0x7fb32f7edb80>"
      ]
     },
     "metadata": {},
     "output_type": "display_data"
    }
   ],
   "source": [
    "session = create_session(cs_server_url=CS_URL, hw_server_url=HW_URL)\n",
    "report_versions(session)"
   ]
  },
  {
   "cell_type": "markdown",
   "id": "76615562",
   "metadata": {
    "papermill": {
     "duration": 0.00342,
     "end_time": "2023-06-07T20:50:50.424343",
     "exception": false,
     "start_time": "2023-06-07T20:50:50.420923",
     "status": "completed"
    },
    "tags": []
   },
   "source": [
    "## 3 - Program the device with the example design\n",
    "\n",
    "After this step,\n",
    "- Device is programmed with the example programming file"
   ]
  },
  {
   "cell_type": "code",
   "execution_count": 4,
   "id": "71141d8b",
   "metadata": {
    "execution": {
     "iopub.execute_input": "2023-06-07T20:50:50.435589Z",
     "iopub.status.busy": "2023-06-07T20:50:50.434907Z",
     "iopub.status.idle": "2023-06-07T20:50:55.942862Z",
     "shell.execute_reply": "2023-06-07T20:50:55.942469Z"
    },
    "papermill": {
     "duration": 5.515231,
     "end_time": "2023-06-07T20:50:55.942994",
     "exception": false,
     "start_time": "2023-06-07T20:50:50.427763",
     "status": "completed"
    },
    "tags": []
   },
   "outputs": [
    {
     "data": {
      "text/html": [
       "<pre style=\"white-space:pre;overflow-x:auto;line-height:normal;font-family:Menlo,'DejaVu Sans Mono',consolas,'Courier New',monospace\">\n",
       "<span style=\"font-weight: bold\">--&gt; INFO: </span>Programming device with: /scratch/chipscopy/chipscopy/examples/designs/vck190/produ\n",
       "ction/chipscopy_ced/chipscopy_wrapper.pdi\n",
       "    \n",
       "</pre>\n"
      ],
      "text/plain": [
       "<rich.jupyter.JupyterRenderable at 0x7fb344043310>"
      ]
     },
     "metadata": {},
     "output_type": "display_data"
    },
    {
     "data": {
      "application/vnd.jupyter.widget-view+json": {
       "model_id": "de08e7d82e9b405485c30cbc1679e9db",
       "version_major": 2,
       "version_minor": 0
      },
      "text/plain": [
       "Output()"
      ]
     },
     "metadata": {},
     "output_type": "display_data"
    }
   ],
   "source": [
    "versal_device = session.devices.filter_by(family=\"versal\").get()\n",
    "versal_device.program(PROGRAMMING_FILE)"
   ]
  },
  {
   "cell_type": "markdown",
   "id": "e8d8b38a",
   "metadata": {
    "papermill": {
     "duration": 0.003806,
     "end_time": "2023-06-07T20:50:55.951679",
     "exception": false,
     "start_time": "2023-06-07T20:50:55.947873",
     "status": "completed"
    },
    "tags": []
   },
   "source": [
    "## 4 - Discover Debug Cores\n",
    "\n",
    "Debug core discovery initializes the chipscope server debug cores. This brings debug cores in the chipscope server online.\n",
    "\n",
    "After this step,\n",
    "\n",
    "- The cs_server is initialized and ready for use"
   ]
  },
  {
   "cell_type": "code",
   "execution_count": 5,
   "id": "86c96bf8",
   "metadata": {
    "execution": {
     "iopub.execute_input": "2023-06-07T20:50:56.403425Z",
     "iopub.status.busy": "2023-06-07T20:50:56.403064Z",
     "iopub.status.idle": "2023-06-07T20:50:56.509936Z",
     "shell.execute_reply": "2023-06-07T20:50:56.509609Z"
    },
    "papermill": {
     "duration": 0.554635,
     "end_time": "2023-06-07T20:50:56.510044",
     "exception": false,
     "start_time": "2023-06-07T20:50:55.955409",
     "status": "completed"
    },
    "tags": []
   },
   "outputs": [
    {
     "name": "stdout",
     "output_type": "stream",
     "text": [
      "Debug cores setup and ready for use.\n"
     ]
    }
   ],
   "source": [
    "versal_device.discover_and_setup_cores(noc_scan=True, ltx_file=PROBES_FILE)\n",
    "print(f\"Debug cores setup and ready for use.\")"
   ]
  },
  {
   "cell_type": "markdown",
   "id": "967970c8",
   "metadata": {
    "papermill": {
     "duration": 0.003701,
     "end_time": "2023-06-07T20:50:56.518277",
     "exception": false,
     "start_time": "2023-06-07T20:50:56.514576",
     "status": "completed"
    },
    "tags": []
   },
   "source": [
    "## 5 - Setup NoC core\n",
    "\n",
    "Ensure scan nodes are enabled in the design."
   ]
  },
  {
   "cell_type": "code",
   "execution_count": 6,
   "id": "c6d6e2b2",
   "metadata": {
    "execution": {
     "iopub.execute_input": "2023-06-07T20:50:56.532660Z",
     "iopub.status.busy": "2023-06-07T20:50:56.531085Z",
     "iopub.status.idle": "2023-06-07T20:50:59.673071Z",
     "shell.execute_reply": "2023-06-07T20:50:59.672745Z"
    },
    "papermill": {
     "duration": 3.151165,
     "end_time": "2023-06-07T20:50:59.673180",
     "exception": false,
     "start_time": "2023-06-07T20:50:56.522015",
     "status": "completed"
    },
    "tags": []
   },
   "outputs": [
    {
     "name": "stdout",
     "output_type": "stream",
     "text": [
      "\n",
      "Enumerating nodes: DDRMC_X0Y0, NOC_NMU512_X0Y0, ..."
     ]
    },
    {
     "name": "stdout",
     "output_type": "stream",
     "text": [
      "complete!\n"
     ]
    }
   ],
   "source": [
    "# We begin by enumerating the debug cores (hard and soft) present in the design.\n",
    "# Then we ask the design for the supported timebases. And, finally:\n",
    "# The NoC is scanned to determine the activated elements.\n",
    "\n",
    "noc = versal_device.noc_core.get()\n",
    "\n",
    "scan_nodes = [\"DDRMC_X0Y0\", \"NOC_NMU512_X0Y0\"]\n",
    "print(\"\\nEnumerating nodes: \", end=\"\")\n",
    "for node in scan_nodes:\n",
    "    print(f\"{node}, \", end=\"\")\n",
    "print(\"...\", end=\"\")\n",
    "\n",
    "# this will setup the nodes on the server side and return the nodes successfully enumerated\n",
    "enable_list = noc.enumerate_noc_elements(scan_nodes)\n",
    "print(\"complete!\")"
   ]
  },
  {
   "cell_type": "code",
   "execution_count": 7,
   "id": "30611945",
   "metadata": {
    "execution": {
     "iopub.execute_input": "2023-06-07T20:50:59.687568Z",
     "iopub.status.busy": "2023-06-07T20:50:59.687084Z",
     "iopub.status.idle": "2023-06-07T20:50:59.735135Z",
     "shell.execute_reply": "2023-06-07T20:50:59.734694Z"
    },
    "papermill": {
     "duration": 0.057613,
     "end_time": "2023-06-07T20:50:59.735249",
     "exception": false,
     "start_time": "2023-06-07T20:50:59.677636",
     "status": "completed"
    },
    "tags": []
   },
   "outputs": [
    {
     "name": "stdout",
     "output_type": "stream",
     "text": [
      "Supported sampling periods:\n",
      "  NoC:\n",
      "    67ms    134ms    268ms    537ms    1074ms    2147ms\n",
      "  NPI:\n",
      "    56ms    112ms    224ms    447ms    895ms    1790ms    3579ms    7158ms\n",
      "  DDRMC_X0Y0:\n",
      "    84ms    168ms    336ms    671ms    1342ms    2684ms\n"
     ]
    }
   ],
   "source": [
    "supported_periods = noc.get_supported_sampling_periods(\n",
    "    100/3, 100/3, {'DDRMC_X0Y0': 800.0}\n",
    ")\n",
    "print(\"Supported sampling periods:\")\n",
    "for domain, periods in supported_periods.items():\n",
    "    print(f\"  {domain}:\")\n",
    "    for p in periods:\n",
    "        print(f\"    {p:.0f}ms\", end=\"\")\n",
    "    print()"
   ]
  },
  {
   "cell_type": "code",
   "execution_count": 8,
   "id": "df3fc2ac",
   "metadata": {
    "execution": {
     "iopub.execute_input": "2023-06-07T20:50:59.748652Z",
     "iopub.status.busy": "2023-06-07T20:50:59.748304Z",
     "iopub.status.idle": "2023-06-07T20:50:59.750839Z",
     "shell.execute_reply": "2023-06-07T20:50:59.750562Z"
    },
    "papermill": {
     "duration": 0.01026,
     "end_time": "2023-06-07T20:50:59.750930",
     "exception": false,
     "start_time": "2023-06-07T20:50:59.740670",
     "status": "completed"
    },
    "tags": []
   },
   "outputs": [
    {
     "name": "stdout",
     "output_type": "stream",
     "text": [
      "Sampling period selection:\n",
      "  NoC: 537ms\n",
      "  NPI: 895ms\n",
      "  DDRMC_X0Y0: 671ms\n"
     ]
    }
   ],
   "source": [
    "# Select Timebase and Nodes to Monitor\n",
    "#\n",
    "# For the two clock domains we must select a sampling period from the hardware supported values. The debug cable used will dictate how much bandwidth is available, so high frequency sampling may not actually produce data at the specified rate. Recommendation is ~500ms for jtag.\n",
    "#\n",
    "# Then the user must decide what to monitor--again the bandwidth is a definite consideration here. Plot performance may become the bottleneck (Optimizations will come later in the renderer or agg backend). The guidance here is to pick up to 4 nodes to monitor.\n",
    "\n",
    "desired_period = 500  # ms\n",
    "sampling_intervals = {}\n",
    "\n",
    "for domain in supported_periods.keys():\n",
    "    sampling_intervals[domain] = 0\n",
    "    for sp in supported_periods[domain]:\n",
    "        if sp > desired_period:\n",
    "            sampling_intervals[domain] = sp\n",
    "            break\n",
    "\n",
    "    if sampling_intervals[domain] == 0:\n",
    "        print(\n",
    "            f\"Warning, desired period {desired_period}ms is slower than \"\n",
    "            f\"longest supported period {supported_periods[domain][-1]}ms [{domain} domain] \"\n",
    "            f\"defaulting to this value.\"\n",
    "        )\n",
    "        sampling_intervals[domain] = supported_periods[-1]\n",
    "\n",
    "print(f\"Sampling period selection:\")\n",
    "for domain, freq in sampling_intervals.items():\n",
    "    print(f\"  {domain}: {freq:.0f}ms\")"
   ]
  },
  {
   "cell_type": "code",
   "execution_count": 9,
   "id": "61929776",
   "metadata": {
    "execution": {
     "iopub.execute_input": "2023-06-07T20:50:59.768139Z",
     "iopub.status.busy": "2023-06-07T20:50:59.767753Z",
     "iopub.status.idle": "2023-06-07T20:50:59.851206Z",
     "shell.execute_reply": "2023-06-07T20:50:59.850817Z"
    },
    "lines_to_next_cell": 2,
    "papermill": {
     "duration": 0.096077,
     "end_time": "2023-06-07T20:50:59.851304",
     "exception": false,
     "start_time": "2023-06-07T20:50:59.755227",
     "status": "completed"
    },
    "tags": []
   },
   "outputs": [
    {
     "name": "stdout",
     "output_type": "stream",
     "text": [
      "Setting up monitors for: \n",
      "DDRMC_X0Y0\n",
      "NOC_NMU512_X0Y0\n"
     ]
    }
   ],
   "source": [
    "# Configure Monitors\n",
    "#\n",
    "# As a precaution, it's a good idea to validate the desired nodes are enabled for the design.\n",
    "# Using the set of nodes and the desired sampling periods it's time to ask the service to start pushing metric data. Two additional arguments are required to this API.\n",
    "#\n",
    "# Traffic class\n",
    "#\n",
    "# This is a bit-or field of the requested traffic classes. Note, One monitor is dedicated to read traffic classes and the other to write--so all read TCs will apply to one channel and all write TCs to the other. `Best effort` is a good place to start.\n",
    "#\n",
    "# Number of Samples\n",
    "#\n",
    "# The number of samples allows for a burst of measurements to be taken and then the underlying service will tear down the monitors and stop pumping data back to the client. `-1` denotes that sampling shall continue indefinitely.\n",
    "\n",
    "# total number of samples to capture (-1 for continuous mode)\n",
    "num_samples = -1\n",
    "\n",
    "print(\"Setting up monitors for: \")\n",
    "for node in enable_list:\n",
    "    print(node)\n",
    "\n",
    "# When overflow occurs the precision of the monitors must be traded for range\n",
    "# See the server API for more information\n",
    "extended_monitor_config = {\"NOC_NMU512_X0Y0\": {\"tslide\": 0x3}}  # or None\n",
    "noc.configure_monitors(\n",
    "    enable_list, sampling_intervals, (TC_BEW | TC_BER), num_samples, None, extended_monitor_config\n",
    ")"
   ]
  },
  {
   "cell_type": "markdown",
   "id": "f2a6deb7",
   "metadata": {
    "papermill": {
     "duration": 0.003895,
     "end_time": "2023-06-07T20:50:59.860405",
     "exception": false,
     "start_time": "2023-06-07T20:50:59.856510",
     "status": "completed"
    },
    "tags": []
   },
   "source": [
    "## 7 - Create plotter and listener\n",
    "\n",
    "Attach both to running view"
   ]
  },
  {
   "cell_type": "code",
   "execution_count": 10,
   "id": "1832662b",
   "metadata": {
    "execution": {
     "iopub.execute_input": "2023-06-07T20:50:59.884993Z",
     "iopub.status.busy": "2023-06-07T20:50:59.879095Z",
     "iopub.status.idle": "2023-06-07T20:51:00.189867Z",
     "shell.execute_reply": "2023-06-07T20:51:00.189396Z"
    },
    "papermill": {
     "duration": 0.325752,
     "end_time": "2023-06-07T20:51:00.189988",
     "exception": false,
     "start_time": "2023-06-07T20:50:59.864236",
     "status": "completed"
    },
    "tags": []
   },
   "outputs": [],
   "source": [
    "record_to_file = False  # True | False\n",
    "node_listener = NoCPerfMonNodeListener(\n",
    "    sampling_intervals,\n",
    "    num_samples,\n",
    "    enable_list,\n",
    "    record_to_file,\n",
    "    extended_monitor_config=extended_monitor_config,\n",
    ")\n",
    "session.chipscope_view.add_node_listener(node_listener)\n",
    "\n",
    "plotter = MeasurementPlot(enable_list, mock=False, figsize=(10, 7.5))\n",
    "node_listener.link_plotter(plotter)\n",
    "\n",
    "# Build Plotting Graphs\n",
    "matplotlib.use(\"Qt5Agg\")\n",
    "plotter.build_graphs()"
   ]
  },
  {
   "cell_type": "markdown",
   "id": "20791a86",
   "metadata": {
    "papermill": {
     "duration": 0.004016,
     "end_time": "2023-06-07T20:51:00.200161",
     "exception": false,
     "start_time": "2023-06-07T20:51:00.196145",
     "status": "completed"
    },
    "tags": []
   },
   "source": [
    "## 8 - Main Event Loop\n",
    "\n",
    "This loop runs until you close the plotter.\n",
    "If you are using a finite amount of measurement samples, you can uncomment the if --> break statement to automatically return from execution of this cell upon completion of the burst."
   ]
  },
  {
   "cell_type": "code",
   "execution_count": 11,
   "id": "c879215e",
   "metadata": {
    "execution": {
     "iopub.execute_input": "2023-06-07T20:51:00.219625Z",
     "iopub.status.busy": "2023-06-07T20:51:00.218793Z",
     "iopub.status.idle": "2023-06-07T20:51:03.672682Z",
     "shell.execute_reply": "2023-06-07T20:51:03.672318Z"
    },
    "papermill": {
     "duration": 3.468755,
     "end_time": "2023-06-07T20:51:03.672782",
     "exception": false,
     "start_time": "2023-06-07T20:51:00.204027",
     "status": "completed"
    },
    "tags": []
   },
   "outputs": [],
   "source": [
    "# Run Main Event Loop\n",
    "loop_count = 0\n",
    "while True:\n",
    "    session.chipscope_view.run_events()\n",
    "    sleep(0.1)\n",
    "    plotter.fig.canvas.draw()\n",
    "    plotter.fig.canvas.flush_events()\n",
    "    if not plotter.alive:\n",
    "        break\n",
    "    # Below will return on burst completion - uncomment if you want to try.\n",
    "    # if all([x <= 0 for x in node_listener.num_samples.values()]):\n",
    "    #     break"
   ]
  }
 ],
 "metadata": {
  "jupytext": {
   "cell_metadata_filter": "-all",
   "formats": "ipynb,py"
  },
  "kernelspec": {
   "display_name": "Python 3 (ipykernel)",
   "language": "python",
   "name": "python3"
  },
  "language_info": {
   "codemirror_mode": {
    "name": "ipython",
    "version": 3
   },
   "file_extension": ".py",
   "mimetype": "text/x-python",
   "name": "python",
   "nbconvert_exporter": "python",
   "pygments_lexer": "ipython3",
   "version": "3.9.16"
  },
  "papermill": {
   "default_parameters": {},
   "duration": 21.209399,
   "end_time": "2023-06-07T20:51:08.964958",
   "environment_variables": {},
   "exception": null,
   "input_path": "noc_perfmon.ipynb",
   "output_path": "output",
   "parameters": {},
   "start_time": "2023-06-07T20:50:47.755559",
   "version": "2.4.0"
  },
  "widgets": {
   "application/vnd.jupyter.widget-state+json": {
    "state": {
     "de08e7d82e9b405485c30cbc1679e9db": {
      "model_module": "@jupyter-widgets/output",
      "model_module_version": "1.0.0",
      "model_name": "OutputModel",
      "state": {
       "_dom_classes": [],
       "_model_module": "@jupyter-widgets/output",
       "_model_module_version": "1.0.0",
       "_model_name": "OutputModel",
       "_view_count": null,
       "_view_module": "@jupyter-widgets/output",
       "_view_module_version": "1.0.0",
       "_view_name": "OutputView",
       "layout": "IPY_MODEL_f327513c8fbc479ba6950138dbf970ac",
       "msg_id": "",
       "outputs": [
        {
         "data": {
          "text/html": "<pre style=\"white-space:pre;overflow-x:auto;line-height:normal;font-family:Menlo,'DejaVu Sans Mono',consolas,'Courier New',monospace\">Device program progress <span style=\"color: #729c1f; text-decoration-color: #729c1f\">━━━━━━━━━━━━━━━━━━━━━━━━━━━━━━━━━━━━━━━━</span> <span style=\"color: #ff00ff; text-decoration-color: #ff00ff; font-weight: bold\">100%</span> <span style=\"color: #008000; text-decoration-color: #008000; font-weight: bold\">Done</span>\n</pre>\n",
          "text/plain": "<rich.jupyter.JupyterRenderable at 0x7fb32f640880>"
         },
         "metadata": {},
         "output_type": "display_data"
        }
       ]
      }
     },
     "f327513c8fbc479ba6950138dbf970ac": {
      "model_module": "@jupyter-widgets/base",
      "model_module_version": "1.2.0",
      "model_name": "LayoutModel",
      "state": {
       "_model_module": "@jupyter-widgets/base",
       "_model_module_version": "1.2.0",
       "_model_name": "LayoutModel",
       "_view_count": null,
       "_view_module": "@jupyter-widgets/base",
       "_view_module_version": "1.2.0",
       "_view_name": "LayoutView",
       "align_content": null,
       "align_items": null,
       "align_self": null,
       "border": null,
       "bottom": null,
       "display": null,
       "flex": null,
       "flex_flow": null,
       "grid_area": null,
       "grid_auto_columns": null,
       "grid_auto_flow": null,
       "grid_auto_rows": null,
       "grid_column": null,
       "grid_gap": null,
       "grid_row": null,
       "grid_template_areas": null,
       "grid_template_columns": null,
       "grid_template_rows": null,
       "height": null,
       "justify_content": null,
       "justify_items": null,
       "left": null,
       "margin": null,
       "max_height": null,
       "max_width": null,
       "min_height": null,
       "min_width": null,
       "object_fit": null,
       "object_position": null,
       "order": null,
       "overflow": null,
       "overflow_x": null,
       "overflow_y": null,
       "padding": null,
       "right": null,
       "top": null,
       "visibility": null,
       "width": null
      }
     }
    },
    "version_major": 2,
    "version_minor": 0
   }
  }
 },
 "nbformat": 4,
 "nbformat_minor": 5
}
