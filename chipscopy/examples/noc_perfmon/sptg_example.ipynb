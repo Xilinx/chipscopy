{
 "cells": [
  {
   "cell_type": "markdown",
   "id": "aa270984",
   "metadata": {
    "papermill": {
     "duration": 0.005179,
     "end_time": "2023-06-07T20:51:27.251694",
     "exception": false,
     "start_time": "2023-06-07T20:51:27.246515",
     "status": "completed"
    },
    "tags": []
   },
   "source": [
    "<link rel=\"preconnect\" href=\"https://fonts.gstatic.com\">\n",
    "<link href=\"https://fonts.googleapis.com/css2?family=Fira+Code&display=swap\" rel=\"stylesheet\">\n",
    "\n",
    "### License\n",
    "\n",
    "<p style=\"font-family: 'Fira Code', monospace; font-size: 1.2rem\">\n",
    "Copyright (c) 2021-2022 Xilinx, Inc.<br>\n",
    "Copyright (c) 2022-2023 Advanced Micro Devices, Inc.<br><br>\n",
    "Licensed under the Apache License, Version 2.0 (the \"License\");<br>\n",
    "you may not use this file except in compliance with the License.<br><br>\n",
    "You may obtain a copy of the License at <a href=\"http://www.apache.org/licenses/LICENSE-2.0\"?>http://www.apache.org/licenses/LICENSE-2.0</a><br><br>\n",
    "Unless required by applicable law or agreed to in writing, software<br>\n",
    "distributed under the License is distributed on an \"AS IS\" BASIS,<br>\n",
    "WITHOUT WARRANTIES OR CONDITIONS OF ANY KIND, either express or implied.<br>\n",
    "See the License for the specific language governing permissions and<br>\n",
    "limitations under the License.<br>\n",
    "</p>\n"
   ]
  },
  {
   "cell_type": "markdown",
   "id": "61b597e8",
   "metadata": {
    "papermill": {
     "duration": 0.003364,
     "end_time": "2023-06-07T20:51:27.259380",
     "exception": false,
     "start_time": "2023-06-07T20:51:27.256016",
     "status": "completed"
    },
    "tags": []
   },
   "source": [
    "# ChipScoPy SPTG Perfmon Example\n",
    "\n",
    "\n",
    "<img src=\"../img/api_overview.png\" width=\"500\" align=\"left\">"
   ]
  },
  {
   "cell_type": "markdown",
   "id": "8740d409",
   "metadata": {
    "papermill": {
     "duration": 0.003689,
     "end_time": "2023-06-07T20:51:27.271691",
     "exception": false,
     "start_time": "2023-06-07T20:51:27.268002",
     "status": "completed"
    },
    "tags": []
   },
   "source": [
    "## Description\n",
    "This example demonstrates how to configure a Versal for taking NoC performance measurements.\n",
    "\n",
    "## Requirements\n",
    "- Local or remote Xilinx Versal board, such as a VCK190\n",
    "- Xilinx hw_server 2022.2 installed and running\n",
    "- Xilinx cs_server 2022.2 installed and running\n",
    "- Python 3.8 or greater installed\n",
    "- ChipScoPy 2022.2 installed\n",
    "- Jupyter notebook support installed - Please do so, using the command `pip install chipscopy[jupyter]`\n",
    "- Matplotlib support installed - Please do so, using the command `pip install chipscopy[core-addons]`"
   ]
  },
  {
   "cell_type": "markdown",
   "id": "399a946f",
   "metadata": {
    "papermill": {
     "duration": 0.003582,
     "end_time": "2023-06-07T20:51:27.279200",
     "exception": false,
     "start_time": "2023-06-07T20:51:27.275618",
     "status": "completed"
    },
    "tags": []
   },
   "source": [
    "## 1 - Initialization: Imports and File Paths\n",
    "\n",
    "After this step,\n",
    "- Required functions and classes are imported\n",
    "- Paths to server(s) and files are set correctly"
   ]
  },
  {
   "cell_type": "code",
   "execution_count": 1,
   "id": "4f370943",
   "metadata": {
    "execution": {
     "iopub.execute_input": "2023-06-07T20:51:27.297071Z",
     "iopub.status.busy": "2023-06-07T20:51:27.296695Z",
     "iopub.status.idle": "2023-06-07T20:51:27.933556Z",
     "shell.execute_reply": "2023-06-07T20:51:27.933052Z"
    },
    "papermill": {
     "duration": 0.650991,
     "end_time": "2023-06-07T20:51:27.933686",
     "exception": false,
     "start_time": "2023-06-07T20:51:27.282695",
     "status": "completed"
    },
    "tags": []
   },
   "outputs": [],
   "source": [
    "import os\n",
    "from time import sleep\n",
    "import matplotlib  # for nbconvert'd script\n",
    "from chipscopy.api.noc import (\n",
    "    TC_BEW,\n",
    "    TC_BER,\n",
    "    NoCPerfMonNodeListener,\n",
    "    PerfTGController,\n",
    ")\n",
    "from chipscopy.api.noc.plotting_utils import MeasurementPlot\n",
    "from chipscopy import create_session, report_versions\n",
    "from chipscopy import get_design_files"
   ]
  },
  {
   "cell_type": "code",
   "execution_count": 2,
   "id": "8022522c",
   "metadata": {
    "execution": {
     "iopub.execute_input": "2023-06-07T20:51:27.945481Z",
     "iopub.status.busy": "2023-06-07T20:51:27.945077Z",
     "iopub.status.idle": "2023-06-07T20:51:27.949747Z",
     "shell.execute_reply": "2023-06-07T20:51:27.949408Z"
    },
    "papermill": {
     "duration": 0.011958,
     "end_time": "2023-06-07T20:51:27.949982",
     "exception": false,
     "start_time": "2023-06-07T20:51:27.938024",
     "status": "completed"
    },
    "tags": []
   },
   "outputs": [
    {
     "name": "stdout",
     "output_type": "stream",
     "text": [
      "HW_URL: TCP:localhost:3121\n",
      "CS_URL: TCP:localhost:3042\n",
      "PROGRAMMING_FILE: /scratch/chipscopy/chipscopy/examples/designs/vck190/production/chipscopy_ced/chipscopy_wrapper.pdi\n",
      "PROBES_FILE:/scratch/chipscopy/chipscopy/examples/designs/vck190/production/chipscopy_ced/chipscopy_wrapper.ltx\n"
     ]
    }
   ],
   "source": [
    "# Make sure to start the hw_server and cs_server prior to running.\n",
    "# Specify locations of the running hw_server and cs_server below.\n",
    "# The default is localhost - but can be other locations on the network.\n",
    "CS_URL = os.getenv(\"CS_SERVER_URL\", \"TCP:localhost:3042\")\n",
    "HW_URL = os.getenv(\"HW_SERVER_URL\", \"TCP:localhost:3121\")\n",
    "\n",
    "# The get_design_files() function tries to find the PDI and LTX files. In non-standard\n",
    "# configurations, you can put the path for PROGRAMMING_FILE and PROBES_FILE below.\n",
    "design_files = get_design_files(\"vck190/production/chipscopy_ced\")\n",
    "\n",
    "PROGRAMMING_FILE = design_files.programming_file\n",
    "PROBES_FILE = design_files.probes_file\n",
    "\n",
    "print(f\"HW_URL: {HW_URL}\")\n",
    "print(f\"CS_URL: {CS_URL}\")\n",
    "print(f\"PROGRAMMING_FILE: {PROGRAMMING_FILE}\")\n",
    "print(f\"PROBES_FILE:{PROBES_FILE}\")"
   ]
  },
  {
   "cell_type": "markdown",
   "id": "7efb26cb",
   "metadata": {
    "papermill": {
     "duration": 0.00385,
     "end_time": "2023-06-07T20:51:27.957384",
     "exception": false,
     "start_time": "2023-06-07T20:51:27.953534",
     "status": "completed"
    },
    "tags": []
   },
   "source": [
    "## 2 - Create a session and connect to the hw_server and cs_server\n",
    "\n",
    "The session is a container that keeps track of devices and debug cores.\n",
    "After this step,\n",
    "- Session is initialized and connected to server(s)\n",
    "- Versions are detected and reported to stdout"
   ]
  },
  {
   "cell_type": "code",
   "execution_count": 3,
   "id": "4b79bfe1",
   "metadata": {
    "execution": {
     "iopub.execute_input": "2023-06-07T20:51:27.969382Z",
     "iopub.status.busy": "2023-06-07T20:51:27.969015Z",
     "iopub.status.idle": "2023-06-07T20:51:28.864751Z",
     "shell.execute_reply": "2023-06-07T20:51:28.865045Z"
    },
    "papermill": {
     "duration": 0.904285,
     "end_time": "2023-06-07T20:51:28.865216",
     "exception": false,
     "start_time": "2023-06-07T20:51:27.960931",
     "status": "completed"
    },
    "tags": []
   },
   "outputs": [
    {
     "data": {
      "text/html": [
       "<pre style=\"white-space:pre;overflow-x:auto;line-height:normal;font-family:Menlo,'DejaVu Sans Mono',consolas,'Courier New',monospace\">\n",
       "\n",
       "</pre>\n"
      ],
      "text/plain": [
       "<rich.jupyter.JupyterRenderable at 0x7fa2804d5e20>"
      ]
     },
     "metadata": {},
     "output_type": "display_data"
    },
    {
     "data": {
      "text/html": [
       "<pre style=\"white-space:pre;overflow-x:auto;line-height:normal;font-family:Menlo,'DejaVu Sans Mono',consolas,'Courier New',monospace\"><span style=\"font-style: italic\">                      ChipScoPy Version Information                      </span>\n",
       "┌────────────────────────────┬──────────────────────────────────────────┐\n",
       "│<span style=\"font-weight: bold\">                     Entity </span>│<span style=\"font-weight: bold\"> Version                                  </span>│\n",
       "├────────────────────────────┼──────────────────────────────────────────┤\n",
       "│                  ChipScoPy │ ┌───────────┬──────────────────────┐     │\n",
       "│                            │ │<span style=\"font-weight: bold\"> Attribute </span>│<span style=\"font-weight: bold\"> Value                </span>│     │\n",
       "│                            │ ├───────────┼──────────────────────┤     │\n",
       "│                            │ │     Build │ 2023.1.1685656083    │     │\n",
       "│                            │ │ Timestamp │ Jun 01 2023-15:48:03 │     │\n",
       "│                            │ └───────────┴──────────────────────┘     │\n",
       "│                            │                                          │\n",
       "│ hw_server @ localhost:3121 │ ┌───────────┬──────────────────────────┐ │\n",
       "│                            │ │<span style=\"font-weight: bold\"> Attribute </span>│<span style=\"font-weight: bold\"> Value                    </span>│ │\n",
       "│                            │ ├───────────┼──────────────────────────┤ │\n",
       "│                            │ │    Status │ Connected                │ │\n",
       "│                            │ │     Build │ 1683493450               │ │\n",
       "│                            │ │   Version │ 2023.1                   │ │\n",
       "│                            │ │ Timestamp │ Sun May  7 15:04:10 2023 │ │\n",
       "│                            │ └───────────┴──────────────────────────┘ │\n",
       "│                            │                                          │\n",
       "│ cs_server @ localhost:3042 │ ┌───────────────┬──────────────────────┐ │\n",
       "│                            │ │<span style=\"font-weight: bold\">     Attribute </span>│<span style=\"font-weight: bold\"> Value                </span>│ │\n",
       "│                            │ ├───────────────┼──────────────────────┤ │\n",
       "│                            │ │        Status │ Connected            │ │\n",
       "│                            │ │         Build │ 1681142364           │ │\n",
       "│                            │ │       Version │ 2023.1.0             │ │\n",
       "│                            │ │     Timestamp │ Apr 10 2023-09:59:24 │ │\n",
       "│                            │ │       Package │ 2023.1.1681142364    │ │\n",
       "│                            │ │ Artifact type │ pyinstaller          │ │\n",
       "│                            │ └───────────────┴──────────────────────┘ │\n",
       "└────────────────────────────┴──────────────────────────────────────────┘\n",
       "</pre>\n"
      ],
      "text/plain": [
       "<rich.jupyter.JupyterRenderable at 0x7fa28041aaf0>"
      ]
     },
     "metadata": {},
     "output_type": "display_data"
    },
    {
     "data": {
      "text/html": [
       "<pre style=\"white-space:pre;overflow-x:auto;line-height:normal;font-family:Menlo,'DejaVu Sans Mono',consolas,'Courier New',monospace\">\n",
       "\n",
       "</pre>\n"
      ],
      "text/plain": [
       "<rich.jupyter.JupyterRenderable at 0x7fa28041ad90>"
      ]
     },
     "metadata": {},
     "output_type": "display_data"
    }
   ],
   "source": [
    "session = create_session(cs_server_url=CS_URL, hw_server_url=HW_URL)\n",
    "report_versions(session)"
   ]
  },
  {
   "cell_type": "markdown",
   "id": "e44ca2cc",
   "metadata": {
    "papermill": {
     "duration": 0.00367,
     "end_time": "2023-06-07T20:51:28.874058",
     "exception": false,
     "start_time": "2023-06-07T20:51:28.870388",
     "status": "completed"
    },
    "tags": []
   },
   "source": [
    "## 3 - Program the device with the example design\n",
    "\n",
    "After this step,\n",
    "- Device is programmed with the example programming file"
   ]
  },
  {
   "cell_type": "code",
   "execution_count": 4,
   "id": "1dbebd28",
   "metadata": {
    "execution": {
     "iopub.execute_input": "2023-06-07T20:51:28.887415Z",
     "iopub.status.busy": "2023-06-07T20:51:28.886964Z",
     "iopub.status.idle": "2023-06-07T20:51:34.367401Z",
     "shell.execute_reply": "2023-06-07T20:51:34.367765Z"
    },
    "papermill": {
     "duration": 5.490198,
     "end_time": "2023-06-07T20:51:34.367908",
     "exception": false,
     "start_time": "2023-06-07T20:51:28.877710",
     "status": "completed"
    },
    "tags": []
   },
   "outputs": [
    {
     "data": {
      "text/html": [
       "<pre style=\"white-space:pre;overflow-x:auto;line-height:normal;font-family:Menlo,'DejaVu Sans Mono',consolas,'Courier New',monospace\">\n",
       "<span style=\"font-weight: bold\">--&gt; INFO: </span>Programming device with: /scratch/chipscopy/chipscopy/examples/designs/vck190/produ\n",
       "ction/chipscopy_ced/chipscopy_wrapper.pdi\n",
       "    \n",
       "</pre>\n"
      ],
      "text/plain": [
       "<rich.jupyter.JupyterRenderable at 0x7fa2804579a0>"
      ]
     },
     "metadata": {},
     "output_type": "display_data"
    },
    {
     "data": {
      "application/vnd.jupyter.widget-view+json": {
       "model_id": "e2637c54526b452d808af902d5e56bc5",
       "version_major": 2,
       "version_minor": 0
      },
      "text/plain": [
       "Output()"
      ]
     },
     "metadata": {},
     "output_type": "display_data"
    }
   ],
   "source": [
    "versal_device = session.devices.filter_by(family=\"versal\").get()\n",
    "versal_device.program(PROGRAMMING_FILE)"
   ]
  },
  {
   "cell_type": "markdown",
   "id": "764cceb4",
   "metadata": {
    "papermill": {
     "duration": 0.004209,
     "end_time": "2023-06-07T20:51:34.377383",
     "exception": false,
     "start_time": "2023-06-07T20:51:34.373174",
     "status": "completed"
    },
    "tags": []
   },
   "source": [
    "## 4 - Discover Debug Cores\n",
    "\n",
    "Debug core discovery initializes the chipscope server debug cores. This brings debug cores in the chipscope server online.\n",
    "\n",
    "After this step,\n",
    "\n",
    "- The cs_server is initialized and ready for use"
   ]
  },
  {
   "cell_type": "code",
   "execution_count": 5,
   "id": "d0e46318",
   "metadata": {
    "execution": {
     "iopub.execute_input": "2023-06-07T20:51:34.862411Z",
     "iopub.status.busy": "2023-06-07T20:51:34.862027Z",
     "iopub.status.idle": "2023-06-07T20:51:34.970244Z",
     "shell.execute_reply": "2023-06-07T20:51:34.969852Z"
    },
    "papermill": {
     "duration": 0.586179,
     "end_time": "2023-06-07T20:51:34.970362",
     "exception": false,
     "start_time": "2023-06-07T20:51:34.384183",
     "status": "completed"
    },
    "tags": []
   },
   "outputs": [
    {
     "name": "stdout",
     "output_type": "stream",
     "text": [
      "Debug cores setup and ready for use.\n"
     ]
    }
   ],
   "source": [
    "versal_device.discover_and_setup_cores(noc_scan=True, ltx_file=PROBES_FILE)\n",
    "print(f\"Debug cores setup and ready for use.\")"
   ]
  },
  {
   "cell_type": "markdown",
   "id": "af2b3dfc",
   "metadata": {
    "papermill": {
     "duration": 0.004023,
     "end_time": "2023-06-07T20:51:34.979526",
     "exception": false,
     "start_time": "2023-06-07T20:51:34.975503",
     "status": "completed"
    },
    "tags": []
   },
   "source": [
    "## 5 - Setup NoC core\n",
    "\n",
    "Ensure scan nodes are enabled in the design."
   ]
  },
  {
   "cell_type": "code",
   "execution_count": 6,
   "id": "ca65db55",
   "metadata": {
    "execution": {
     "iopub.execute_input": "2023-06-07T20:51:34.993936Z",
     "iopub.status.busy": "2023-06-07T20:51:34.993464Z",
     "iopub.status.idle": "2023-06-07T20:51:37.932627Z",
     "shell.execute_reply": "2023-06-07T20:51:37.932915Z"
    },
    "papermill": {
     "duration": 2.949168,
     "end_time": "2023-06-07T20:51:37.933053",
     "exception": false,
     "start_time": "2023-06-07T20:51:34.983885",
     "status": "completed"
    },
    "tags": []
   },
   "outputs": [
    {
     "name": "stdout",
     "output_type": "stream",
     "text": [
      "\n",
      "Enumerating nodes: DDRMC_X0Y0, NOC_NMU512_X0Y0, ..."
     ]
    },
    {
     "name": "stdout",
     "output_type": "stream",
     "text": [
      "complete!\n"
     ]
    }
   ],
   "source": [
    "# We begin by enumerating the debug cores (hard and soft) present in the design.\n",
    "# Then we ask the design for the supported timebases. And, finally:\n",
    "# The NoC is scanned to determine the activated elements.\n",
    "\n",
    "noc = versal_device.noc_core.get()\n",
    "\n",
    "scan_nodes = [\"DDRMC_X0Y0\", \"NOC_NMU512_X0Y0\"]\n",
    "print(\"\\nEnumerating nodes: \", end=\"\")\n",
    "for node in scan_nodes:\n",
    "    print(f\"{node}, \", end=\"\")\n",
    "print(\"...\", end=\"\")\n",
    "\n",
    "# this will setup the nodes on the server side and return the nodes successfully enumerated\n",
    "enable_list = noc.enumerate_noc_elements(scan_nodes)\n",
    "print(\"complete!\")"
   ]
  },
  {
   "cell_type": "code",
   "execution_count": 7,
   "id": "46d9f121",
   "metadata": {
    "execution": {
     "iopub.execute_input": "2023-06-07T20:51:37.946280Z",
     "iopub.status.busy": "2023-06-07T20:51:37.945937Z",
     "iopub.status.idle": "2023-06-07T20:51:37.995043Z",
     "shell.execute_reply": "2023-06-07T20:51:37.995329Z"
    },
    "papermill": {
     "duration": 0.057702,
     "end_time": "2023-06-07T20:51:37.995475",
     "exception": false,
     "start_time": "2023-06-07T20:51:37.937773",
     "status": "completed"
    },
    "tags": []
   },
   "outputs": [
    {
     "name": "stdout",
     "output_type": "stream",
     "text": [
      "Supported sampling periods:\n",
      "  NoC:\n",
      "    67ms    134ms    268ms    537ms    1074ms    2147ms\n",
      "  NPI:\n",
      "    56ms    112ms    224ms    447ms    895ms    1790ms    3579ms    7158ms\n",
      "  DDRMC_X0Y0:\n",
      "    84ms    168ms    336ms    671ms    1342ms    2684ms\n"
     ]
    }
   ],
   "source": [
    "supported_periods = noc.get_supported_sampling_periods(\n",
    "    100/3, 100/3, {'DDRMC_X0Y0': 800.0}\n",
    ")\n",
    "print(\"Supported sampling periods:\")\n",
    "for domain, periods in supported_periods.items():\n",
    "    print(f\"  {domain}:\")\n",
    "    for p in periods:\n",
    "        print(f\"    {p:.0f}ms\", end=\"\")\n",
    "    print()"
   ]
  },
  {
   "cell_type": "code",
   "execution_count": 8,
   "id": "6f7b7434",
   "metadata": {
    "execution": {
     "iopub.execute_input": "2023-06-07T20:51:38.011181Z",
     "iopub.status.busy": "2023-06-07T20:51:38.010790Z",
     "iopub.status.idle": "2023-06-07T20:51:38.013214Z",
     "shell.execute_reply": "2023-06-07T20:51:38.012833Z"
    },
    "papermill": {
     "duration": 0.011571,
     "end_time": "2023-06-07T20:51:38.013299",
     "exception": false,
     "start_time": "2023-06-07T20:51:38.001728",
     "status": "completed"
    },
    "tags": []
   },
   "outputs": [
    {
     "name": "stdout",
     "output_type": "stream",
     "text": [
      "Sampling period selection:\n",
      "  NoC: 537ms\n",
      "  NPI: 895ms\n",
      "  DDRMC_X0Y0: 671ms\n"
     ]
    }
   ],
   "source": [
    "# Select Timebase and Nodes to Monitor\n",
    "#\n",
    "# For the two clock domains we must select a sampling period from the hardware supported values. The debug cable used will dictate how much bandwidth is available, so high frequency sampling may not actually produce data at the specified rate. Recommendation is ~500ms for jtag.\n",
    "#\n",
    "# Then the user must decide what to monitor--again the bandwidth is a definite consideration here. Plot performance may become the bottleneck (Optimizations will come later in the renderer or agg backend). The guidance here is to pick up to 4 nodes to monitor.\n",
    "\n",
    "desired_period = 500  # ms\n",
    "sampling_intervals = {}\n",
    "\n",
    "for domain in supported_periods.keys():\n",
    "    sampling_intervals[domain] = 0\n",
    "    for sp in supported_periods[domain]:\n",
    "        if sp > desired_period:\n",
    "            sampling_intervals[domain] = sp\n",
    "            break\n",
    "\n",
    "    if sampling_intervals[domain] == 0:\n",
    "        print(\n",
    "            f\"Warning, desired period {desired_period}ms is slower than \"\n",
    "            f\"longest supported period {supported_periods[domain][-1]}ms [{domain} domain] \"\n",
    "            f\"defaulting to this value.\"\n",
    "        )\n",
    "        sampling_intervals[domain] = supported_periods[-1]\n",
    "\n",
    "print(f\"Sampling period selection:\")\n",
    "for domain, freq in sampling_intervals.items():\n",
    "    print(f\"  {domain}: {freq:.0f}ms\")"
   ]
  },
  {
   "cell_type": "code",
   "execution_count": 9,
   "id": "4b3b0e0b",
   "metadata": {
    "execution": {
     "iopub.execute_input": "2023-06-07T20:51:38.026918Z",
     "iopub.status.busy": "2023-06-07T20:51:38.026517Z",
     "iopub.status.idle": "2023-06-07T20:51:38.112851Z",
     "shell.execute_reply": "2023-06-07T20:51:38.112504Z"
    },
    "lines_to_next_cell": 2,
    "papermill": {
     "duration": 0.095153,
     "end_time": "2023-06-07T20:51:38.112963",
     "exception": false,
     "start_time": "2023-06-07T20:51:38.017810",
     "status": "completed"
    },
    "tags": []
   },
   "outputs": [
    {
     "name": "stdout",
     "output_type": "stream",
     "text": [
      "Setting up monitors for: \n",
      "DDRMC_X0Y0\n",
      "NOC_NMU512_X0Y0\n"
     ]
    }
   ],
   "source": [
    "# Configure Monitors\n",
    "#\n",
    "# As a precaution, it's a good idea to validate the desired nodes are enabled for the design.\n",
    "# Using the set of nodes and the desired sampling periods it's time to ask the service to start pushing metric data. Two additional arguments are required to this API.\n",
    "#\n",
    "# Traffic class\n",
    "#\n",
    "# This is a bit-or field of the requested traffic classes. Note, One monitor is dedicated to read traffic classes and the other to write--so all read TCs will apply to one channel and all write TCs to the other. `Best effort` is a good place to start.\n",
    "#\n",
    "# Number of Samples\n",
    "#\n",
    "# The number of samples allows for a burst of measurements to be taken and then the underlying service will tear down the monitors and stop pumping data back to the client. `-1` denotes that sampling shall continue indefinitely.\n",
    "\n",
    "# total number of samples to capture (-1 for continuous mode)\n",
    "num_samples = -1\n",
    "\n",
    "print(\"Setting up monitors for: \")\n",
    "for node in enable_list:\n",
    "    print(node)\n",
    "\n",
    "# When overflow occurs the precision of the monitors must be traded for range\n",
    "# See the server API for more information\n",
    "extended_monitor_config = {\"NOC_NMU512_X0Y0\": {\"tslide\": 0x3}}  # or None\n",
    "noc.configure_monitors(\n",
    "    enable_list, sampling_intervals, (TC_BEW | TC_BER), num_samples, None, extended_monitor_config\n",
    ")"
   ]
  },
  {
   "cell_type": "markdown",
   "id": "b9b944f3",
   "metadata": {
    "papermill": {
     "duration": 0.004103,
     "end_time": "2023-06-07T20:51:38.122109",
     "exception": false,
     "start_time": "2023-06-07T20:51:38.118006",
     "status": "completed"
    },
    "tags": []
   },
   "source": [
    "## 6 - Traffic Generator Configuration\n",
    "\n",
    "Release the traffic generator from reset."
   ]
  },
  {
   "cell_type": "code",
   "execution_count": 10,
   "id": "8b0fd410",
   "metadata": {
    "execution": {
     "iopub.execute_input": "2023-06-07T20:51:38.144981Z",
     "iopub.status.busy": "2023-06-07T20:51:38.143198Z",
     "iopub.status.idle": "2023-06-07T20:51:39.902252Z",
     "shell.execute_reply": "2023-06-07T20:51:39.901907Z"
    },
    "papermill": {
     "duration": 1.776113,
     "end_time": "2023-06-07T20:51:39.902350",
     "exception": false,
     "start_time": "2023-06-07T20:51:38.126237",
     "status": "completed"
    },
    "tags": []
   },
   "outputs": [
    {
     "name": "stdout",
     "output_type": "stream",
     "text": [
      "\n",
      "VIO Core Index 0\n",
      "NAME       : chipscopy_i/counters/vio_fast_counter_0\n",
      "UUID       : 718A03DBCD265D969EA5C15840AEFD17\n",
      "PORT_NAMES : ['probe_in0', 'probe_out0', 'probe_out1', 'probe_out2', 'probe_out3', 'probe_out4']\n",
      "PROBE_NAMES: ['chipscopy_i/counters/fast_counter_0_Q', 'chipscopy_i/counters/fast_counter_0_CE', 'chipscopy_i/counters/fast_counter_0_SCLR', 'chipscopy_i/counters/fast_counter_0_UP', 'chipscopy_i/counters/fast_counter_0_LOAD', 'chipscopy_i/counters/fast_counter_0_L']\n",
      "\n",
      "VIO Core Index 1\n",
      "NAME       : chipscopy_i/counters/vio_slow_counter_0\n",
      "UUID       : 22BC7ED6C4145AAB88C58EAEDFF2B04C\n",
      "PORT_NAMES : ['probe_in0', 'probe_out0', 'probe_out1', 'probe_out2', 'probe_out3', 'probe_out4']\n",
      "PROBE_NAMES: ['chipscopy_i/counters/slow_counter_0_Q', 'chipscopy_i/counters/slow_counter_0_CE', 'chipscopy_i/counters/slow_counter_0_SCLR', 'chipscopy_i/counters/slow_counter_0_UP', 'chipscopy_i/counters/slow_counter_0_LOAD', 'chipscopy_i/counters/slow_counter_0_L']\n",
      "\n",
      "VIO Core Index 2\n",
      "NAME       : chipscopy_i/noc_tg_bc/axis_vio_0\n",
      "UUID       : 021098F58FE659EFAD76657E635E53FE\n",
      "PORT_NAMES : ['probe_in0', 'probe_in1', 'probe_out0', 'probe_out1']\n",
      "PROBE_NAMES: ['chipscopy_i/noc_tg_bc/noc_tg_axi_tg_done', 'chipscopy_i/noc_tg_bc/noc_tg_axi_tg_error', 'chipscopy_i/noc_tg_bc/noc_sim_trig_rst_n', 'chipscopy_i/noc_tg_bc/noc_tg_tg_rst_n']\n",
      "\n",
      "VIO Core Index 3\n",
      "NAME       : chipscopy_i/noc_tg_bc/noc_tg/inst/u_top_axi_mst/u_tg_top/gen_aximm_reg_space.u_reg_space/gen_vio_status_monitor.u_vio_status_monitor\n",
      "UUID       : 0E76DEFA789D564080CFA5332A88DB12\n",
      "PORT_NAMES : ['probe_in0', 'probe_in1', 'probe_in2', 'probe_in3', 'probe_in4', 'probe_in5', 'probe_in6', 'probe_in7', 'probe_in8', 'probe_in9', 'probe_out0']\n",
      "PROBE_NAMES: ['chipscopy_i/noc_tg_bc/noc_tg/inst/u_top_axi_mst/u_tg_top/gen_aximm_reg_space.u_reg_space/tg_done_sl_ff', 'chipscopy_i/noc_tg_bc/noc_tg/inst/u_top_axi_mst/u_tg_top/gen_aximm_reg_space.u_reg_space/tg_error_sl_ff', 'chipscopy_i/noc_tg_bc/noc_tg/inst/u_top_axi_mst/u_tg_top/gen_aximm_reg_space.u_reg_space/wrch_done_sl_ff', 'chipscopy_i/noc_tg_bc/noc_tg/inst/u_top_axi_mst/u_tg_top/gen_aximm_reg_space.u_reg_space/rdch_done_sl_ff', 'chipscopy_i/noc_tg_bc/noc_tg/inst/u_top_axi_mst/u_tg_top/gen_aximm_reg_space.u_reg_space/wr_err_pclk', 'chipscopy_i/noc_tg_bc/noc_tg/inst/u_top_axi_mst/u_tg_top/gen_aximm_reg_space.u_reg_space/rd_err_pclk', 'chipscopy_i/noc_tg_bc/noc_tg/inst/u_top_axi_mst/u_tg_top/gen_aximm_reg_space.u_reg_space/rcvd_byte_vio', 'chipscopy_i/noc_tg_bc/noc_tg/inst/u_top_axi_mst/u_tg_top/gen_aximm_reg_space.u_reg_space/exp_byte_vio', 'chipscopy_i/noc_tg_bc/noc_tg/inst/u_top_axi_mst/u_tg_top/gen_aximm_reg_space.u_reg_space/di_err_addr_lsb', 'chipscopy_i/noc_tg_bc/noc_tg/inst/u_top_axi_mst/u_tg_top/gen_aximm_reg_space.u_reg_space/di_err_addr_msb', 'chipscopy_i/noc_tg_bc/noc_tg/inst/u_top_axi_mst/u_tg_top/gen_aximm_reg_space.u_reg_space/probe_out0']\n",
      "chipscopy_i/noc_tg_bc/axis_vio_0\n"
     ]
    }
   ],
   "source": [
    "vio_cores = versal_device.vio_cores\n",
    "for index, vio_core in enumerate(vio_cores):\n",
    "    print(f\"\\nVIO Core Index {index}\")\n",
    "    print(\"NAME       :\", vio_core.name)\n",
    "    print(\"UUID       :\", vio_core.uuid)\n",
    "    print(\"PORT_NAMES :\", vio_core.port_names)\n",
    "    print(\"PROBE_NAMES:\", vio_core.probe_names)\n",
    "\n",
    "# tg_vio_bc = \"sptg_axi_i\"\n",
    "tg_vio_bc = \"chipscopy_i/noc_tg_bc\"\n",
    "tg_vio_name = f\"{tg_vio_bc}/axis_vio_0\"\n",
    "print(tg_vio_name)\n",
    "tg_vio = versal_device.vio_cores.get(name=tg_vio_name)\n",
    "\n",
    "tg_vio.reset_vio()\n",
    "tg_vio.write_probes(\n",
    "    {f\"{tg_vio_bc}/noc_sim_trig_rst_n\": 0x1, f\"{tg_vio_bc}/noc_tg_tg_rst_n\": 0x1}\n",
    ")  # clear nrst on trigger and tg\n",
    "\n",
    "first_tg_ba = 0x201_8000_0000\n",
    "tg = PerfTGController(first_tg_ba, versal_device, vio=tg_vio)"
   ]
  },
  {
   "cell_type": "markdown",
   "id": "2a17bc56",
   "metadata": {
    "papermill": {
     "duration": 0.004432,
     "end_time": "2023-06-07T20:51:39.911847",
     "exception": false,
     "start_time": "2023-06-07T20:51:39.907415",
     "status": "completed"
    },
    "tags": []
   },
   "source": [
    "## 7 - Create plotter and listener\n",
    "\n",
    "Attach both to running view"
   ]
  },
  {
   "cell_type": "code",
   "execution_count": 11,
   "id": "677c0fa9",
   "metadata": {
    "execution": {
     "iopub.execute_input": "2023-06-07T20:51:39.939116Z",
     "iopub.status.busy": "2023-06-07T20:51:39.938614Z",
     "iopub.status.idle": "2023-06-07T20:51:40.265957Z",
     "shell.execute_reply": "2023-06-07T20:51:40.266897Z"
    },
    "papermill": {
     "duration": 0.351001,
     "end_time": "2023-06-07T20:51:40.267057",
     "exception": false,
     "start_time": "2023-06-07T20:51:39.916056",
     "status": "completed"
    },
    "tags": []
   },
   "outputs": [],
   "source": [
    "record_to_file = False  # True | False\n",
    "node_listener = NoCPerfMonNodeListener(\n",
    "    sampling_intervals,\n",
    "    num_samples,\n",
    "    enable_list,\n",
    "    record_to_file,\n",
    "    extended_monitor_config=extended_monitor_config,\n",
    ")\n",
    "session.chipscope_view.add_node_listener(node_listener)\n",
    "\n",
    "plotter = MeasurementPlot(enable_list, mock=False, figsize=(10, 7.5), tg=tg)\n",
    "node_listener.link_plotter(plotter)\n",
    "\n",
    "# Build Plotting Graphs\n",
    "matplotlib.use(\"Qt5Agg\")\n",
    "plotter.build_graphs()"
   ]
  },
  {
   "cell_type": "markdown",
   "id": "9c3f3dd2",
   "metadata": {
    "papermill": {
     "duration": 0.006886,
     "end_time": "2023-06-07T20:51:40.278872",
     "exception": false,
     "start_time": "2023-06-07T20:51:40.271986",
     "status": "completed"
    },
    "tags": []
   },
   "source": [
    "## 8 - Main Event Loop\n",
    "\n",
    "This loop runs until you close the plotter.\n",
    "If you are using a finite amount of measurement samples, you can uncomment the if --> break statement to automatically return from execution of this cell upon completion of the burst."
   ]
  },
  {
   "cell_type": "code",
   "execution_count": 12,
   "id": "c3643f0f",
   "metadata": {
    "execution": {
     "iopub.execute_input": "2023-06-07T20:51:40.298066Z",
     "iopub.status.busy": "2023-06-07T20:51:40.295572Z",
     "iopub.status.idle": "2023-06-07T20:51:48.711545Z",
     "shell.execute_reply": "2023-06-07T20:51:48.710884Z"
    },
    "papermill": {
     "duration": 8.427827,
     "end_time": "2023-06-07T20:51:48.711654",
     "exception": false,
     "start_time": "2023-06-07T20:51:40.283827",
     "status": "completed"
    },
    "tags": []
   },
   "outputs": [
    {
     "name": "stdout",
     "output_type": "stream",
     "text": [
      "PerfTG start\n"
     ]
    }
   ],
   "source": [
    "# Run Main Event Loop\n",
    "loop_count = 0\n",
    "while True:\n",
    "    session.chipscope_view.run_events()\n",
    "    sleep(0.1)\n",
    "    plotter.fig.canvas.draw()\n",
    "    plotter.fig.canvas.flush_events()\n",
    "    if not plotter.alive:\n",
    "        break\n",
    "    # Below will return on burst completion - uncomment if you want to try.\n",
    "    # if all([x <= 0 for x in node_listener.num_samples.values()]):\n",
    "    #     break"
   ]
  },
  {
   "cell_type": "code",
   "execution_count": 13,
   "id": "6f35a993",
   "metadata": {
    "execution": {
     "iopub.execute_input": "2023-06-07T20:51:48.736633Z",
     "iopub.status.busy": "2023-06-07T20:51:48.736287Z",
     "iopub.status.idle": "2023-06-07T20:51:48.999156Z",
     "shell.execute_reply": "2023-06-07T20:51:48.998754Z"
    },
    "papermill": {
     "duration": 0.281984,
     "end_time": "2023-06-07T20:51:48.999276",
     "exception": false,
     "start_time": "2023-06-07T20:51:48.717292",
     "status": "completed"
    },
    "tags": []
   },
   "outputs": [],
   "source": [
    "# Reset Traffic Generator\n",
    "# This allows for a hard block-level reset of the traffic generator.\n",
    "\n",
    "tg.block_reset()"
   ]
  }
 ],
 "metadata": {
  "jupytext": {
   "cell_metadata_filter": "-all",
   "formats": "ipynb,py"
  },
  "kernelspec": {
   "display_name": "Python 3 (ipykernel)",
   "language": "python",
   "name": "python3"
  },
  "language_info": {
   "codemirror_mode": {
    "name": "ipython",
    "version": 3
   },
   "file_extension": ".py",
   "mimetype": "text/x-python",
   "name": "python",
   "nbconvert_exporter": "python",
   "pygments_lexer": "ipython3",
   "version": "3.9.16"
  },
  "papermill": {
   "default_parameters": {},
   "duration": 28.239539,
   "end_time": "2023-06-07T20:51:54.497054",
   "environment_variables": {},
   "exception": null,
   "input_path": "sptg_example.ipynb",
   "output_path": "output",
   "parameters": {},
   "start_time": "2023-06-07T20:51:26.257515",
   "version": "2.4.0"
  },
  "widgets": {
   "application/vnd.jupyter.widget-state+json": {
    "state": {
     "cbb198fd6347477bb6e96b206326b408": {
      "model_module": "@jupyter-widgets/base",
      "model_module_version": "1.2.0",
      "model_name": "LayoutModel",
      "state": {
       "_model_module": "@jupyter-widgets/base",
       "_model_module_version": "1.2.0",
       "_model_name": "LayoutModel",
       "_view_count": null,
       "_view_module": "@jupyter-widgets/base",
       "_view_module_version": "1.2.0",
       "_view_name": "LayoutView",
       "align_content": null,
       "align_items": null,
       "align_self": null,
       "border": null,
       "bottom": null,
       "display": null,
       "flex": null,
       "flex_flow": null,
       "grid_area": null,
       "grid_auto_columns": null,
       "grid_auto_flow": null,
       "grid_auto_rows": null,
       "grid_column": null,
       "grid_gap": null,
       "grid_row": null,
       "grid_template_areas": null,
       "grid_template_columns": null,
       "grid_template_rows": null,
       "height": null,
       "justify_content": null,
       "justify_items": null,
       "left": null,
       "margin": null,
       "max_height": null,
       "max_width": null,
       "min_height": null,
       "min_width": null,
       "object_fit": null,
       "object_position": null,
       "order": null,
       "overflow": null,
       "overflow_x": null,
       "overflow_y": null,
       "padding": null,
       "right": null,
       "top": null,
       "visibility": null,
       "width": null
      }
     },
     "e2637c54526b452d808af902d5e56bc5": {
      "model_module": "@jupyter-widgets/output",
      "model_module_version": "1.0.0",
      "model_name": "OutputModel",
      "state": {
       "_dom_classes": [],
       "_model_module": "@jupyter-widgets/output",
       "_model_module_version": "1.0.0",
       "_model_name": "OutputModel",
       "_view_count": null,
       "_view_module": "@jupyter-widgets/output",
       "_view_module_version": "1.0.0",
       "_view_name": "OutputView",
       "layout": "IPY_MODEL_cbb198fd6347477bb6e96b206326b408",
       "msg_id": "",
       "outputs": [
        {
         "data": {
          "text/html": "<pre style=\"white-space:pre;overflow-x:auto;line-height:normal;font-family:Menlo,'DejaVu Sans Mono',consolas,'Courier New',monospace\">Device program progress <span style=\"color: #729c1f; text-decoration-color: #729c1f\">━━━━━━━━━━━━━━━━━━━━━━━━━━━━━━━━━━━━━━━━</span> <span style=\"color: #ff00ff; text-decoration-color: #ff00ff; font-weight: bold\">100%</span> <span style=\"color: #008000; text-decoration-color: #008000; font-weight: bold\">Done</span>\n</pre>\n",
          "text/plain": "<rich.jupyter.JupyterRenderable at 0x7fa2803c96a0>"
         },
         "metadata": {},
         "output_type": "display_data"
        }
       ]
      }
     }
    },
    "version_major": 2,
    "version_minor": 0
   }
  }
 },
 "nbformat": 4,
 "nbformat_minor": 5
}
