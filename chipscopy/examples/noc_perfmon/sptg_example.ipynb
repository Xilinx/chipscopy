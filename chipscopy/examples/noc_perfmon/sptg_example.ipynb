{
 "cells": [
  {
   "cell_type": "markdown",
   "id": "79c0afc3",
   "metadata": {
    "papermill": {
     "duration": 0.004462,
     "end_time": "2023-10-24T22:07:34.698355",
     "exception": false,
     "start_time": "2023-10-24T22:07:34.693893",
     "status": "completed"
    },
    "tags": []
   },
   "source": [
    "<link rel=\"preconnect\" href=\"https://fonts.gstatic.com\">\n",
    "<link href=\"https://fonts.googleapis.com/css2?family=Fira+Code&display=swap\" rel=\"stylesheet\">\n",
    "\n",
    "### License\n",
    "\n",
    "<p style=\"font-family: 'Fira Code', monospace; font-size: 1.2rem\">\n",
    "Copyright (C) 2021-2022, Xilinx, Inc.\n",
    "Copyright (C) 2022-2023, Advanced Micro Devices, Inc.\n",
    "<br><br>\n",
    "Licensed under the Apache License, Version 2.0 (the \"License\");<br>\n",
    "you may not use this file except in compliance with the License.<br><br>\n",
    "You may obtain a copy of the License at <a href=\"http://www.apache.org/licenses/LICENSE-2.0\"?>http://www.apache.org/licenses/LICENSE-2.0</a><br><br>\n",
    "Unless required by applicable law or agreed to in writing, software<br>\n",
    "distributed under the License is distributed on an \"AS IS\" BASIS,<br>\n",
    "WITHOUT WARRANTIES OR CONDITIONS OF ANY KIND, either express or implied.<br>\n",
    "See the License for the specific language governing permissions and<br>\n",
    "limitations under the License.<br>\n",
    "</p>\n"
   ]
  },
  {
   "cell_type": "markdown",
   "id": "79a6a4d7",
   "metadata": {
    "papermill": {
     "duration": 0.003087,
     "end_time": "2023-10-24T22:07:34.705110",
     "exception": false,
     "start_time": "2023-10-24T22:07:34.702023",
     "status": "completed"
    },
    "tags": []
   },
   "source": [
    "# ChipScoPy SPTG Perfmon Example\n",
    "\n",
    "\n",
    "<img src=\"../img/api_overview.png\" width=\"500\" align=\"left\">"
   ]
  },
  {
   "cell_type": "markdown",
   "id": "8947f419",
   "metadata": {
    "papermill": {
     "duration": 0.003248,
     "end_time": "2023-10-24T22:07:34.711482",
     "exception": false,
     "start_time": "2023-10-24T22:07:34.708234",
     "status": "completed"
    },
    "tags": []
   },
   "source": [
    "## Description\n",
    "This example demonstrates how to configure a Versal for taking NoC performance measurements.\n",
    "\n",
    "## Requirements\n",
    "- Local or remote Xilinx Versal board, such as a VCK190\n",
    "- Xilinx hw_server 2023.2 installed and running\n",
    "- Xilinx cs_server 2023.2 installed and running\n",
    "- Python 3.8 or greater installed\n",
    "- ChipScoPy 2023.2 installed\n",
    "- Jupyter notebook support installed - Please do so, using the command `pip install chipscopy[jupyter]`\n",
    "- Matplotlib support installed - Please do so, using the command `pip install chipscopy[core-addons]`"
   ]
  },
  {
   "cell_type": "markdown",
   "id": "1c9d43c2",
   "metadata": {
    "papermill": {
     "duration": 0.003185,
     "end_time": "2023-10-24T22:07:34.718623",
     "exception": false,
     "start_time": "2023-10-24T22:07:34.715438",
     "status": "completed"
    },
    "tags": []
   },
   "source": [
    "## 1 - Initialization: Imports and File Paths\n",
    "\n",
    "After this step,\n",
    "- Required functions and classes are imported\n",
    "- Paths to server(s) and files are set correctly"
   ]
  },
  {
   "cell_type": "code",
   "execution_count": 1,
   "id": "8ad6f942",
   "metadata": {
    "execution": {
     "iopub.execute_input": "2023-10-24T22:07:34.728129Z",
     "iopub.status.busy": "2023-10-24T22:07:34.726850Z",
     "iopub.status.idle": "2023-10-24T22:07:35.781616Z",
     "shell.execute_reply": "2023-10-24T22:07:35.780734Z"
    },
    "papermill": {
     "duration": 1.062388,
     "end_time": "2023-10-24T22:07:35.784185",
     "exception": false,
     "start_time": "2023-10-24T22:07:34.721797",
     "status": "completed"
    },
    "tags": []
   },
   "outputs": [],
   "source": [
    "import os\n",
    "from time import sleep\n",
    "import matplotlib  # for nbconvert'd script\n",
    "from chipscopy.api.noc import (\n",
    "    TC_BEW,\n",
    "    TC_BER,\n",
    "    NoCPerfMonNodeListener,\n",
    "    PerfTGController,\n",
    ")\n",
    "from chipscopy.api.noc.plotting_utils import MeasurementPlot\n",
    "from chipscopy import create_session, report_versions\n",
    "from chipscopy import get_design_files"
   ]
  },
  {
   "cell_type": "code",
   "execution_count": 2,
   "id": "c206c306",
   "metadata": {
    "execution": {
     "iopub.execute_input": "2023-10-24T22:07:35.794329Z",
     "iopub.status.busy": "2023-10-24T22:07:35.793846Z",
     "iopub.status.idle": "2023-10-24T22:07:35.803078Z",
     "shell.execute_reply": "2023-10-24T22:07:35.802135Z"
    },
    "papermill": {
     "duration": 0.015435,
     "end_time": "2023-10-24T22:07:35.804483",
     "exception": false,
     "start_time": "2023-10-24T22:07:35.789048",
     "status": "completed"
    },
    "tags": []
   },
   "outputs": [
    {
     "name": "stdout",
     "output_type": "stream",
     "text": [
      "HW_URL: TCP:localhost:3121\n",
      "CS_URL: TCP:localhost:3042\n",
      "PROGRAMMING_FILE: /scratch/2023.2/chipscopy-examples/designs/vck190/production/chipscopy_ced/chipscopy_wrapper.pdi\n",
      "PROBES_FILE:/scratch/2023.2/chipscopy-examples/designs/vck190/production/chipscopy_ced/chipscopy_wrapper.ltx\n"
     ]
    }
   ],
   "source": [
    "# Specify locations of the running hw_server and cs_server below.\n",
    "CS_URL = os.getenv(\"CS_SERVER_URL\", \"TCP:localhost:3042\")\n",
    "HW_URL = os.getenv(\"HW_SERVER_URL\", \"TCP:localhost:3121\")\n",
    "\n",
    "# specify hw and if programming is desired\n",
    "HW_PLATFORM = os.getenv(\"HW_PLATFORM\", \"vck190\")\n",
    "PROG_DEVICE = os.getenv(\"PROG_DEVICE\", 'True').lower() in ('true', '1', 't')\n",
    "\n",
    "# The get_design_files() function tries to find the PDI and LTX files. In non-standard\n",
    "# configurations, you can put the path for PROGRAMMING_FILE and PROBES_FILE below.\n",
    "design_files = get_design_files(f\"{HW_PLATFORM}/production/chipscopy_ced\")\n",
    "\n",
    "PROGRAMMING_FILE = design_files.programming_file\n",
    "PROBES_FILE = design_files.probes_file\n",
    "\n",
    "print(f\"HW_URL: {HW_URL}\")\n",
    "print(f\"CS_URL: {CS_URL}\")\n",
    "print(f\"PROGRAMMING_FILE: {PROGRAMMING_FILE}\")\n",
    "print(f\"PROBES_FILE:{PROBES_FILE}\")"
   ]
  },
  {
   "cell_type": "markdown",
   "id": "64285ac3",
   "metadata": {
    "papermill": {
     "duration": 0.00334,
     "end_time": "2023-10-24T22:07:35.811842",
     "exception": false,
     "start_time": "2023-10-24T22:07:35.808502",
     "status": "completed"
    },
    "tags": []
   },
   "source": [
    "## 2 - Create a session and connect to the hw_server and cs_server\n",
    "\n",
    "The session is a container that keeps track of devices and debug cores.\n",
    "After this step,\n",
    "- Session is initialized and connected to server(s)\n",
    "- Versions are detected and reported to stdout"
   ]
  },
  {
   "cell_type": "code",
   "execution_count": 3,
   "id": "59a134bf",
   "metadata": {
    "execution": {
     "iopub.execute_input": "2023-10-24T22:07:35.822649Z",
     "iopub.status.busy": "2023-10-24T22:07:35.821872Z",
     "iopub.status.idle": "2023-10-24T22:07:37.959926Z",
     "shell.execute_reply": "2023-10-24T22:07:37.959172Z"
    },
    "papermill": {
     "duration": 2.145033,
     "end_time": "2023-10-24T22:07:37.961389",
     "exception": false,
     "start_time": "2023-10-24T22:07:35.816356",
     "status": "completed"
    },
    "tags": []
   },
   "outputs": [
    {
     "data": {
      "text/html": [
       "<pre style=\"white-space:pre;overflow-x:auto;line-height:normal;font-family:Menlo,'DejaVu Sans Mono',consolas,'Courier New',monospace\">\n",
       "\n",
       "</pre>\n"
      ],
      "text/plain": [
       "\n",
       "\n"
      ]
     },
     "metadata": {},
     "output_type": "display_data"
    },
    {
     "data": {
      "text/html": [
       "<pre style=\"white-space:pre;overflow-x:auto;line-height:normal;font-family:Menlo,'DejaVu Sans Mono',consolas,'Courier New',monospace\"><span style=\"font-style: italic\">                      ChipScoPy Version Information                      </span>\n",
       "┌────────────────────────────┬──────────────────────────────────────────┐\n",
       "│<span style=\"font-weight: bold\">                     Entity </span>│<span style=\"font-weight: bold\"> Version                                  </span>│\n",
       "├────────────────────────────┼──────────────────────────────────────────┤\n",
       "│                  ChipScoPy │ ┌───────────┬──────────────────────┐     │\n",
       "│                            │ │<span style=\"font-weight: bold\"> Attribute </span>│<span style=\"font-weight: bold\"> Value                </span>│     │\n",
       "│                            │ ├───────────┼──────────────────────┤     │\n",
       "│                            │ │     Build │ 2023.2.1697859156    │     │\n",
       "│                            │ │ Timestamp │ Oct 20 2023-21:32:36 │     │\n",
       "│                            │ └───────────┴──────────────────────┘     │\n",
       "│                            │                                          │\n",
       "│ hw_server @ localhost:3121 │ ┌───────────┬──────────────────────────┐ │\n",
       "│                            │ │<span style=\"font-weight: bold\"> Attribute </span>│<span style=\"font-weight: bold\"> Value                    </span>│ │\n",
       "│                            │ ├───────────┼──────────────────────────┤ │\n",
       "│                            │ │    Status │ Connected                │ │\n",
       "│                            │ │     Build │ 1683493450               │ │\n",
       "│                            │ │   Version │ 2023.1                   │ │\n",
       "│                            │ │ Timestamp │ Sun May  7 15:04:10 2023 │ │\n",
       "│                            │ └───────────┴──────────────────────────┘ │\n",
       "│                            │                                          │\n",
       "│ cs_server @ localhost:3042 │ ┌───────────────┬──────────────────────┐ │\n",
       "│                            │ │<span style=\"font-weight: bold\">     Attribute </span>│<span style=\"font-weight: bold\"> Value                </span>│ │\n",
       "│                            │ ├───────────────┼──────────────────────┤ │\n",
       "│                            │ │        Status │ Connected            │ │\n",
       "│                            │ │         Build │ 1696910516           │ │\n",
       "│                            │ │       Version │ 2023.2.0             │ │\n",
       "│                            │ │     Timestamp │ Oct 09 2023-22:01:56 │ │\n",
       "│                            │ │       Package │ 2023.2.1696910516    │ │\n",
       "│                            │ │ Artifact type │ pyinstaller          │ │\n",
       "│                            │ └───────────────┴──────────────────────┘ │\n",
       "└────────────────────────────┴──────────────────────────────────────────┘\n",
       "</pre>\n"
      ],
      "text/plain": [
       "\u001B[3m                      ChipScoPy Version Information                      \u001B[0m\n",
       "┌────────────────────────────┬──────────────────────────────────────────┐\n",
       "│\u001B[1m \u001B[0m\u001B[1m                    Entity\u001B[0m\u001B[1m \u001B[0m│\u001B[1m \u001B[0m\u001B[1mVersion                                 \u001B[0m\u001B[1m \u001B[0m│\n",
       "├────────────────────────────┼──────────────────────────────────────────┤\n",
       "│                  ChipScoPy │ ┌───────────┬──────────────────────┐     │\n",
       "│                            │ │\u001B[1m \u001B[0m\u001B[1mAttribute\u001B[0m\u001B[1m \u001B[0m│\u001B[1m \u001B[0m\u001B[1mValue               \u001B[0m\u001B[1m \u001B[0m│     │\n",
       "│                            │ ├───────────┼──────────────────────┤     │\n",
       "│                            │ │     Build │ 2023.2.1697859156    │     │\n",
       "│                            │ │ Timestamp │ Oct 20 2023-21:32:36 │     │\n",
       "│                            │ └───────────┴──────────────────────┘     │\n",
       "│                            │                                          │\n",
       "│ hw_server @ localhost:3121 │ ┌───────────┬──────────────────────────┐ │\n",
       "│                            │ │\u001B[1m \u001B[0m\u001B[1mAttribute\u001B[0m\u001B[1m \u001B[0m│\u001B[1m \u001B[0m\u001B[1mValue                   \u001B[0m\u001B[1m \u001B[0m│ │\n",
       "│                            │ ├───────────┼──────────────────────────┤ │\n",
       "│                            │ │    Status │ Connected                │ │\n",
       "│                            │ │     Build │ 1683493450               │ │\n",
       "│                            │ │   Version │ 2023.1                   │ │\n",
       "│                            │ │ Timestamp │ Sun May  7 15:04:10 2023 │ │\n",
       "│                            │ └───────────┴──────────────────────────┘ │\n",
       "│                            │                                          │\n",
       "│ cs_server @ localhost:3042 │ ┌───────────────┬──────────────────────┐ │\n",
       "│                            │ │\u001B[1m \u001B[0m\u001B[1m    Attribute\u001B[0m\u001B[1m \u001B[0m│\u001B[1m \u001B[0m\u001B[1mValue               \u001B[0m\u001B[1m \u001B[0m│ │\n",
       "│                            │ ├───────────────┼──────────────────────┤ │\n",
       "│                            │ │        Status │ Connected            │ │\n",
       "│                            │ │         Build │ 1696910516           │ │\n",
       "│                            │ │       Version │ 2023.2.0             │ │\n",
       "│                            │ │     Timestamp │ Oct 09 2023-22:01:56 │ │\n",
       "│                            │ │       Package │ 2023.2.1696910516    │ │\n",
       "│                            │ │ Artifact type │ pyinstaller          │ │\n",
       "│                            │ └───────────────┴──────────────────────┘ │\n",
       "└────────────────────────────┴──────────────────────────────────────────┘\n"
      ]
     },
     "metadata": {},
     "output_type": "display_data"
    },
    {
     "data": {
      "text/html": [
       "<pre style=\"white-space:pre;overflow-x:auto;line-height:normal;font-family:Menlo,'DejaVu Sans Mono',consolas,'Courier New',monospace\">\n",
       "\n",
       "</pre>\n"
      ],
      "text/plain": [
       "\n",
       "\n"
      ]
     },
     "metadata": {},
     "output_type": "display_data"
    }
   ],
   "source": [
    "session = create_session(cs_server_url=CS_URL, hw_server_url=HW_URL)\n",
    "report_versions(session)"
   ]
  },
  {
   "cell_type": "markdown",
   "id": "bd9194fc",
   "metadata": {
    "papermill": {
     "duration": 0.003975,
     "end_time": "2023-10-24T22:07:37.969867",
     "exception": false,
     "start_time": "2023-10-24T22:07:37.965892",
     "status": "completed"
    },
    "tags": []
   },
   "source": [
    "## 3 - Program the device with the example design\n",
    "\n",
    "After this step,\n",
    "- Device is programmed with the example programming file"
   ]
  },
  {
   "cell_type": "code",
   "execution_count": 4,
   "id": "fb9aa7ca",
   "metadata": {
    "execution": {
     "iopub.execute_input": "2023-10-24T22:07:37.978714Z",
     "iopub.status.busy": "2023-10-24T22:07:37.978524Z",
     "iopub.status.idle": "2023-10-24T22:07:45.135385Z",
     "shell.execute_reply": "2023-10-24T22:07:45.134669Z"
    },
    "papermill": {
     "duration": 7.16333,
     "end_time": "2023-10-24T22:07:45.136901",
     "exception": false,
     "start_time": "2023-10-24T22:07:37.973571",
     "status": "completed"
    },
    "tags": []
   },
   "outputs": [
    {
     "data": {
      "text/html": [
       "<pre style=\"white-space:pre;overflow-x:auto;line-height:normal;font-family:Menlo,'DejaVu Sans Mono',consolas,'Courier New',monospace\">\n",
       "<span style=\"font-weight: bold\">--&gt; INFO: </span>Programming device with: \n",
       "/scratch/2023.2/chipscopy-examples/designs/vck190/production/chipscopy_ced/chipscopy_wrapper.pdi\n",
       "    \n",
       "</pre>\n"
      ],
      "text/plain": [
       "\n",
       "\u001B[1m--> INFO: \u001B[0mProgramming device with: \n",
       "/scratch/2023.2/chipscopy-examples/designs/vck190/production/chipscopy_ced/chipscopy_wrapper.pdi\n",
       "    \n"
      ]
     },
     "metadata": {},
     "output_type": "display_data"
    },
    {
     "data": {
      "application/vnd.jupyter.widget-view+json": {
       "model_id": "fa380caf33d74839b248ded248fe8245",
       "version_major": 2,
       "version_minor": 0
      },
      "text/plain": [
       "Output()"
      ]
     },
     "metadata": {},
     "output_type": "display_data"
    },
    {
     "data": {
      "text/html": [
       "<pre style=\"white-space:pre;overflow-x:auto;line-height:normal;font-family:Menlo,'DejaVu Sans Mono',consolas,'Courier New',monospace\"></pre>\n"
      ],
      "text/plain": []
     },
     "metadata": {},
     "output_type": "display_data"
    },
    {
     "data": {
      "text/html": [
       "<pre style=\"white-space:pre;overflow-x:auto;line-height:normal;font-family:Menlo,'DejaVu Sans Mono',consolas,'Courier New',monospace\">\n",
       "</pre>\n"
      ],
      "text/plain": [
       "\n"
      ]
     },
     "metadata": {},
     "output_type": "display_data"
    }
   ],
   "source": [
    "versal_device = session.devices.filter_by(family=\"versal\").get()\n",
    "if PROG_DEVICE:\n",
    "    versal_device.program(PROGRAMMING_FILE)\n",
    "else:\n",
    "    print(\"skipping programming\")"
   ]
  },
  {
   "cell_type": "markdown",
   "id": "693231b1",
   "metadata": {
    "papermill": {
     "duration": 0.004035,
     "end_time": "2023-10-24T22:07:45.146191",
     "exception": false,
     "start_time": "2023-10-24T22:07:45.142156",
     "status": "completed"
    },
    "tags": []
   },
   "source": [
    "## 4 - Discover Debug Cores\n",
    "\n",
    "Debug core discovery initializes the chipscope server debug cores. This brings debug cores in the chipscope server online.\n",
    "\n",
    "After this step,\n",
    "\n",
    "- The cs_server is initialized and ready for use"
   ]
  },
  {
   "cell_type": "code",
   "execution_count": 5,
   "id": "13a0080b",
   "metadata": {
    "execution": {
     "iopub.execute_input": "2023-10-24T22:07:45.761962Z",
     "iopub.status.busy": "2023-10-24T22:07:45.761795Z",
     "iopub.status.idle": "2023-10-24T22:07:45.855487Z",
     "shell.execute_reply": "2023-10-24T22:07:45.854549Z"
    },
    "papermill": {
     "duration": 0.706633,
     "end_time": "2023-10-24T22:07:45.856817",
     "exception": false,
     "start_time": "2023-10-24T22:07:45.150184",
     "status": "completed"
    },
    "tags": []
   },
   "outputs": [
    {
     "name": "stdout",
     "output_type": "stream",
     "text": [
      "Debug cores setup and ready for use.\n"
     ]
    }
   ],
   "source": [
    "versal_device.discover_and_setup_cores(noc_scan=True, ltx_file=PROBES_FILE)\n",
    "print(f\"Debug cores setup and ready for use.\")"
   ]
  },
  {
   "cell_type": "markdown",
   "id": "45ac7dcc",
   "metadata": {
    "papermill": {
     "duration": 0.00432,
     "end_time": "2023-10-24T22:07:45.866463",
     "exception": false,
     "start_time": "2023-10-24T22:07:45.862143",
     "status": "completed"
    },
    "tags": []
   },
   "source": [
    "## 5 - Setup NoC core\n",
    "\n",
    "Ensure scan nodes are enabled in the design."
   ]
  },
  {
   "cell_type": "code",
   "execution_count": 6,
   "id": "d930b97a",
   "metadata": {
    "execution": {
     "iopub.execute_input": "2023-10-24T22:07:45.876606Z",
     "iopub.status.busy": "2023-10-24T22:07:45.876195Z",
     "iopub.status.idle": "2023-10-24T22:07:48.581733Z",
     "shell.execute_reply": "2023-10-24T22:07:48.580531Z"
    },
    "papermill": {
     "duration": 2.712512,
     "end_time": "2023-10-24T22:07:48.583300",
     "exception": false,
     "start_time": "2023-10-24T22:07:45.870788",
     "status": "completed"
    },
    "tags": []
   },
   "outputs": [
    {
     "name": "stdout",
     "output_type": "stream",
     "text": [
      "\n",
      "Enumerating nodes: DDRMC_X0Y0, NOC_NMU512_X0Y0, ..."
     ]
    },
    {
     "name": "stdout",
     "output_type": "stream",
     "text": [
      "complete!\n"
     ]
    }
   ],
   "source": [
    "# We begin by enumerating the debug cores (hard and soft) present in the design.\n",
    "# Then we ask the design for the supported timebases. And, finally:\n",
    "# The NoC is scanned to determine the activated elements.\n",
    "\n",
    "noc = versal_device.noc_core.get()\n",
    "\n",
    "scan_nodes = [\"DDRMC_X0Y0\", \"NOC_NMU512_X0Y0\"]\n",
    "print(\"\\nEnumerating nodes: \", end=\"\")\n",
    "for node in scan_nodes:\n",
    "    print(f\"{node}, \", end=\"\")\n",
    "print(\"...\", end=\"\")\n",
    "\n",
    "# this will setup the nodes on the server side and return the nodes successfully enumerated\n",
    "enable_list = noc.enumerate_noc_elements(scan_nodes)\n",
    "print(\"complete!\")"
   ]
  },
  {
   "cell_type": "code",
   "execution_count": 7,
   "id": "93e17d8d",
   "metadata": {
    "execution": {
     "iopub.execute_input": "2023-10-24T22:07:48.595632Z",
     "iopub.status.busy": "2023-10-24T22:07:48.595332Z",
     "iopub.status.idle": "2023-10-24T22:07:48.648420Z",
     "shell.execute_reply": "2023-10-24T22:07:48.647558Z"
    },
    "papermill": {
     "duration": 0.060362,
     "end_time": "2023-10-24T22:07:48.649898",
     "exception": false,
     "start_time": "2023-10-24T22:07:48.589536",
     "status": "completed"
    },
    "tags": []
   },
   "outputs": [
    {
     "name": "stdout",
     "output_type": "stream",
     "text": [
      "Supported sampling periods:\n",
      "  NoC:\n",
      "    67ms    134ms    268ms    537ms    1074ms    2147ms\n",
      "  NPI:\n",
      "    56ms    112ms    224ms    447ms    895ms    1790ms    3579ms    7158ms\n",
      "  DDRMC_X0Y0:\n",
      "    84ms    168ms    336ms    671ms    1342ms    2684ms\n"
     ]
    }
   ],
   "source": [
    "supported_periods = noc.get_supported_sampling_periods(\n",
    "    100/3, 100/3, {'DDRMC_X0Y0': 800.0}\n",
    ")\n",
    "print(\"Supported sampling periods:\")\n",
    "for domain, periods in supported_periods.items():\n",
    "    print(f\"  {domain}:\")\n",
    "    for p in periods:\n",
    "        print(f\"    {p:.0f}ms\", end=\"\")\n",
    "    print()"
   ]
  },
  {
   "cell_type": "code",
   "execution_count": 8,
   "id": "b0b25d57",
   "metadata": {
    "execution": {
     "iopub.execute_input": "2023-10-24T22:07:48.662047Z",
     "iopub.status.busy": "2023-10-24T22:07:48.661862Z",
     "iopub.status.idle": "2023-10-24T22:07:48.667939Z",
     "shell.execute_reply": "2023-10-24T22:07:48.667185Z"
    },
    "papermill": {
     "duration": 0.013077,
     "end_time": "2023-10-24T22:07:48.669114",
     "exception": false,
     "start_time": "2023-10-24T22:07:48.656037",
     "status": "completed"
    },
    "tags": []
   },
   "outputs": [
    {
     "name": "stdout",
     "output_type": "stream",
     "text": [
      "Sampling period selection:\n",
      "  NoC: 537ms\n",
      "  NPI: 895ms\n",
      "  DDRMC_X0Y0: 671ms\n"
     ]
    }
   ],
   "source": [
    "# Select Timebase and Nodes to Monitor\n",
    "#\n",
    "# For the two clock domains we must select a sampling period from the hardware supported values. The debug cable used will dictate how much bandwidth is available, so high frequency sampling may not actually produce data at the specified rate. Recommendation is ~500ms for jtag.\n",
    "#\n",
    "# Then the user must decide what to monitor--again the bandwidth is a definite consideration here. Plot performance may become the bottleneck (Optimizations will come later in the renderer or agg backend). The guidance here is to pick up to 4 nodes to monitor.\n",
    "\n",
    "desired_period = 500  # ms\n",
    "sampling_intervals = {}\n",
    "\n",
    "for domain in supported_periods.keys():\n",
    "    sampling_intervals[domain] = 0\n",
    "    for sp in supported_periods[domain]:\n",
    "        if sp > desired_period:\n",
    "            sampling_intervals[domain] = sp\n",
    "            break\n",
    "\n",
    "    if sampling_intervals[domain] == 0:\n",
    "        print(\n",
    "            f\"Warning, desired period {desired_period}ms is slower than \"\n",
    "            f\"longest supported period {supported_periods[domain][-1]}ms [{domain} domain] \"\n",
    "            f\"defaulting to this value.\"\n",
    "        )\n",
    "        sampling_intervals[domain] = supported_periods[-1]\n",
    "\n",
    "print(f\"Sampling period selection:\")\n",
    "for domain, freq in sampling_intervals.items():\n",
    "    print(f\"  {domain}: {freq:.0f}ms\")"
   ]
  },
  {
   "cell_type": "code",
   "execution_count": 9,
   "id": "8b5b43da",
   "metadata": {
    "execution": {
     "iopub.execute_input": "2023-10-24T22:07:48.679264Z",
     "iopub.status.busy": "2023-10-24T22:07:48.679088Z",
     "iopub.status.idle": "2023-10-24T22:07:48.769705Z",
     "shell.execute_reply": "2023-10-24T22:07:48.768861Z"
    },
    "lines_to_next_cell": 2,
    "papermill": {
     "duration": 0.097539,
     "end_time": "2023-10-24T22:07:48.771060",
     "exception": false,
     "start_time": "2023-10-24T22:07:48.673521",
     "status": "completed"
    },
    "tags": []
   },
   "outputs": [
    {
     "name": "stdout",
     "output_type": "stream",
     "text": [
      "Setting up monitors for: \n",
      "DDRMC_X0Y0\n",
      "NOC_NMU512_X0Y0\n"
     ]
    }
   ],
   "source": [
    "# Configure Monitors\n",
    "#\n",
    "# As a precaution, it's a good idea to validate the desired nodes are enabled for the design.\n",
    "# Using the set of nodes and the desired sampling periods it's time to ask the service to start pushing metric data. Two additional arguments are required to this API.\n",
    "#\n",
    "# Traffic class\n",
    "#\n",
    "# This is a bit-or field of the requested traffic classes. Note, One monitor is dedicated to read traffic classes and the other to write--so all read TCs will apply to one channel and all write TCs to the other. `Best effort` is a good place to start.\n",
    "#\n",
    "# Number of Samples\n",
    "#\n",
    "# The number of samples allows for a burst of measurements to be taken and then the underlying service will tear down the monitors and stop pumping data back to the client. `-1` denotes that sampling shall continue indefinitely.\n",
    "\n",
    "# total number of samples to capture (-1 for continuous mode)\n",
    "num_samples = -1\n",
    "\n",
    "print(\"Setting up monitors for: \")\n",
    "for node in enable_list:\n",
    "    print(node)\n",
    "\n",
    "# When overflow occurs the precision of the monitors must be traded for range\n",
    "# See the server API for more information\n",
    "extended_monitor_config = {\"NOC_NMU512_X0Y0\": {\"tslide\": 0x3}}  # or None\n",
    "noc.configure_monitors(\n",
    "    enable_list, sampling_intervals, (TC_BEW | TC_BER), num_samples, None, extended_monitor_config\n",
    ")"
   ]
  },
  {
   "cell_type": "markdown",
   "id": "8ae29bd4",
   "metadata": {
    "papermill": {
     "duration": 0.012384,
     "end_time": "2023-10-24T22:07:48.788461",
     "exception": false,
     "start_time": "2023-10-24T22:07:48.776077",
     "status": "completed"
    },
    "tags": []
   },
   "source": [
    "## 6 - Traffic Generator Configuration\n",
    "\n",
    "Release the traffic generator from reset."
   ]
  },
  {
   "cell_type": "code",
   "execution_count": 10,
   "id": "8aea0cae",
   "metadata": {
    "execution": {
     "iopub.execute_input": "2023-10-24T22:07:48.801294Z",
     "iopub.status.busy": "2023-10-24T22:07:48.800554Z",
     "iopub.status.idle": "2023-10-24T22:07:50.519685Z",
     "shell.execute_reply": "2023-10-24T22:07:50.518743Z"
    },
    "papermill": {
     "duration": 1.727504,
     "end_time": "2023-10-24T22:07:50.521038",
     "exception": false,
     "start_time": "2023-10-24T22:07:48.793534",
     "status": "completed"
    },
    "tags": []
   },
   "outputs": [
    {
     "name": "stdout",
     "output_type": "stream",
     "text": [
      "\n",
      "VIO Core Index 0\n",
      "NAME       : chipscopy_i/counters/vio_fast_counter_0\n",
      "UUID       : 718A03DBCD265D969EA5C15840AEFD17\n",
      "PORT_NAMES : ['probe_in0', 'probe_out0', 'probe_out1', 'probe_out2', 'probe_out3', 'probe_out4']\n",
      "PROBE_NAMES: ['chipscopy_i/counters/fast_counter_0_Q', 'chipscopy_i/counters/fast_counter_0_CE', 'chipscopy_i/counters/fast_counter_0_SCLR', 'chipscopy_i/counters/fast_counter_0_UP', 'chipscopy_i/counters/fast_counter_0_LOAD', 'chipscopy_i/counters/fast_counter_0_L']\n",
      "\n",
      "VIO Core Index 1\n",
      "NAME       : chipscopy_i/counters/vio_slow_counter_0\n",
      "UUID       : 22BC7ED6C4145AAB88C58EAEDFF2B04C\n",
      "PORT_NAMES : ['probe_in0', 'probe_out0', 'probe_out1', 'probe_out2', 'probe_out3', 'probe_out4']\n",
      "PROBE_NAMES: ['chipscopy_i/counters/slow_counter_0_Q', 'chipscopy_i/counters/slow_counter_0_CE', 'chipscopy_i/counters/slow_counter_0_SCLR', 'chipscopy_i/counters/slow_counter_0_UP', 'chipscopy_i/counters/slow_counter_0_LOAD', 'chipscopy_i/counters/slow_counter_0_L']\n",
      "\n",
      "VIO Core Index 2\n",
      "NAME       : chipscopy_i/noc_tg_bc/axis_vio_0\n",
      "UUID       : 021098F58FE659EFAD76657E635E53FE\n",
      "PORT_NAMES : ['probe_in0', 'probe_in1', 'probe_out0', 'probe_out1']\n",
      "PROBE_NAMES: ['chipscopy_i/noc_tg_bc/noc_tg_axi_tg_done', 'chipscopy_i/noc_tg_bc/noc_tg_axi_tg_error', 'chipscopy_i/noc_tg_bc/noc_sim_trig_rst_n', 'chipscopy_i/noc_tg_bc/noc_tg_tg_rst_n']\n",
      "\n",
      "VIO Core Index 3\n",
      "NAME       : chipscopy_i/noc_tg_bc/noc_tg/inst/u_top_axi_mst/u_tg_top/gen_aximm_reg_space.u_reg_space/gen_vio_status_monitor.u_vio_status_monitor\n",
      "UUID       : 0E76DEFA789D564080CFA5332A88DB12\n",
      "PORT_NAMES : ['probe_in0', 'probe_in1', 'probe_in2', 'probe_in3', 'probe_in4', 'probe_in5', 'probe_in6', 'probe_in7', 'probe_in8', 'probe_in9', 'probe_out0']\n",
      "PROBE_NAMES: ['chipscopy_i/noc_tg_bc/noc_tg/inst/u_top_axi_mst/u_tg_top/gen_aximm_reg_space.u_reg_space/tg_done_sl_ff', 'chipscopy_i/noc_tg_bc/noc_tg/inst/u_top_axi_mst/u_tg_top/gen_aximm_reg_space.u_reg_space/tg_error_sl_ff', 'chipscopy_i/noc_tg_bc/noc_tg/inst/u_top_axi_mst/u_tg_top/gen_aximm_reg_space.u_reg_space/wrch_done_sl_ff', 'chipscopy_i/noc_tg_bc/noc_tg/inst/u_top_axi_mst/u_tg_top/gen_aximm_reg_space.u_reg_space/rdch_done_sl_ff', 'chipscopy_i/noc_tg_bc/noc_tg/inst/u_top_axi_mst/u_tg_top/gen_aximm_reg_space.u_reg_space/wr_err_pclk', 'chipscopy_i/noc_tg_bc/noc_tg/inst/u_top_axi_mst/u_tg_top/gen_aximm_reg_space.u_reg_space/rd_err_pclk', 'chipscopy_i/noc_tg_bc/noc_tg/inst/u_top_axi_mst/u_tg_top/gen_aximm_reg_space.u_reg_space/rcvd_byte_vio', 'chipscopy_i/noc_tg_bc/noc_tg/inst/u_top_axi_mst/u_tg_top/gen_aximm_reg_space.u_reg_space/exp_byte_vio', 'chipscopy_i/noc_tg_bc/noc_tg/inst/u_top_axi_mst/u_tg_top/gen_aximm_reg_space.u_reg_space/di_err_addr_lsb', 'chipscopy_i/noc_tg_bc/noc_tg/inst/u_top_axi_mst/u_tg_top/gen_aximm_reg_space.u_reg_space/di_err_addr_msb', 'chipscopy_i/noc_tg_bc/noc_tg/inst/u_top_axi_mst/u_tg_top/gen_aximm_reg_space.u_reg_space/probe_out0']\n",
      "chipscopy_i/noc_tg_bc/axis_vio_0\n"
     ]
    }
   ],
   "source": [
    "vio_cores = versal_device.vio_cores\n",
    "for index, vio_core in enumerate(vio_cores):\n",
    "    print(f\"\\nVIO Core Index {index}\")\n",
    "    print(\"NAME       :\", vio_core.name)\n",
    "    print(\"UUID       :\", vio_core.uuid)\n",
    "    print(\"PORT_NAMES :\", vio_core.port_names)\n",
    "    print(\"PROBE_NAMES:\", vio_core.probe_names)\n",
    "\n",
    "# tg_vio_bc = \"sptg_axi_i\"\n",
    "tg_vio_bc = \"chipscopy_i/noc_tg_bc\"\n",
    "tg_vio_name = f\"{tg_vio_bc}/axis_vio_0\"\n",
    "print(tg_vio_name)\n",
    "tg_vio = versal_device.vio_cores.get(name=tg_vio_name)\n",
    "\n",
    "tg_vio.reset_vio()\n",
    "tg_vio.write_probes(\n",
    "    {f\"{tg_vio_bc}/noc_sim_trig_rst_n\": 0x1, f\"{tg_vio_bc}/noc_tg_tg_rst_n\": 0x1}\n",
    ")  # clear nrst on trigger and tg\n",
    "\n",
    "first_tg_ba = 0x201_8000_0000\n",
    "tg = PerfTGController(first_tg_ba, versal_device, vio=tg_vio)"
   ]
  },
  {
   "cell_type": "markdown",
   "id": "bcb55e0f",
   "metadata": {
    "papermill": {
     "duration": 0.004306,
     "end_time": "2023-10-24T22:07:50.530561",
     "exception": false,
     "start_time": "2023-10-24T22:07:50.526255",
     "status": "completed"
    },
    "tags": []
   },
   "source": [
    "## 7 - Create plotter and listener\n",
    "\n",
    "Attach both to running view"
   ]
  },
  {
   "cell_type": "code",
   "execution_count": 11,
   "id": "f386ed88",
   "metadata": {
    "execution": {
     "iopub.execute_input": "2023-10-24T22:07:50.540445Z",
     "iopub.status.busy": "2023-10-24T22:07:50.540241Z",
     "iopub.status.idle": "2023-10-24T22:07:50.903778Z",
     "shell.execute_reply": "2023-10-24T22:07:50.902878Z"
    },
    "papermill": {
     "duration": 0.371008,
     "end_time": "2023-10-24T22:07:50.905948",
     "exception": false,
     "start_time": "2023-10-24T22:07:50.534940",
     "status": "completed"
    },
    "tags": []
   },
   "outputs": [
    {
     "name": "stderr",
     "output_type": "stream",
     "text": [
      "qt.qpa.xcb: failed to initialize XRandr\n",
      "qt.qpa.xcb: X server does not support XInput 2\n"
     ]
    }
   ],
   "source": [
    "record_to_file = False  # True | False\n",
    "node_listener = NoCPerfMonNodeListener(\n",
    "    sampling_intervals,\n",
    "    num_samples,\n",
    "    enable_list,\n",
    "    record_to_file,\n",
    "    extended_monitor_config=extended_monitor_config,\n",
    ")\n",
    "session.chipscope_view.add_node_listener(node_listener)\n",
    "\n",
    "plotter = MeasurementPlot(enable_list, mock=False, figsize=(10, 7.5), tg=tg)\n",
    "node_listener.link_plotter(plotter)\n",
    "\n",
    "# Build Plotting Graphs\n",
    "matplotlib.use(\"Qt5Agg\")\n",
    "plotter.build_graphs()"
   ]
  },
  {
   "cell_type": "markdown",
   "id": "43971f50",
   "metadata": {
    "papermill": {
     "duration": 0.004509,
     "end_time": "2023-10-24T22:07:50.916577",
     "exception": false,
     "start_time": "2023-10-24T22:07:50.912068",
     "status": "completed"
    },
    "tags": []
   },
   "source": [
    "## 8 - Main Event Loop\n",
    "\n",
    "This loop runs until you close the plotter.\n",
    "If you are using a finite amount of measurement samples, you can uncomment the if --> break statement to automatically return from execution of this cell upon completion of the burst."
   ]
  },
  {
   "cell_type": "code",
   "execution_count": 12,
   "id": "3e8c96f2",
   "metadata": {
    "execution": {
     "iopub.execute_input": "2023-10-24T22:07:50.975661Z",
     "iopub.status.busy": "2023-10-24T22:07:50.974766Z",
     "iopub.status.idle": "2023-10-24T22:07:58.553788Z",
     "shell.execute_reply": "2023-10-24T22:07:58.552900Z"
    },
    "papermill": {
     "duration": 7.634467,
     "end_time": "2023-10-24T22:07:58.555812",
     "exception": false,
     "start_time": "2023-10-24T22:07:50.921345",
     "status": "completed"
    },
    "tags": []
   },
   "outputs": [
    {
     "name": "stderr",
     "output_type": "stream",
     "text": [
      "qt.qpa.xcb: QXcbConnection: XCB error: 1 (BadRequest), sequence: 170, resource id: 53, major code: 131 (Unknown), minor code: 47\n"
     ]
    }
   ],
   "source": [
    "# Run Main Event Loop\n",
    "loop_count = 0\n",
    "while True:\n",
    "    session.chipscope_view.run_events()\n",
    "    sleep(0.1)\n",
    "    plotter.fig.canvas.draw()\n",
    "    plotter.fig.canvas.flush_events()\n",
    "    if not plotter.alive:\n",
    "        break\n",
    "    # Below will return on burst completion - uncomment if you want to try.\n",
    "    # if all([x <= 0 for x in node_listener.num_samples.values()]):\n",
    "    #     break"
   ]
  },
  {
   "cell_type": "code",
   "execution_count": 13,
   "id": "f6c69748",
   "metadata": {
    "execution": {
     "iopub.execute_input": "2023-10-24T22:07:58.584433Z",
     "iopub.status.busy": "2023-10-24T22:07:58.583449Z",
     "iopub.status.idle": "2023-10-24T22:07:58.926955Z",
     "shell.execute_reply": "2023-10-24T22:07:58.925977Z"
    },
    "papermill": {
     "duration": 0.367932,
     "end_time": "2023-10-24T22:07:58.929118",
     "exception": false,
     "start_time": "2023-10-24T22:07:58.561186",
     "status": "completed"
    },
    "tags": []
   },
   "outputs": [],
   "source": [
    "# Reset Traffic Generator\n",
    "# This allows for a hard block-level reset of the traffic generator.\n",
    "\n",
    "tg.block_reset()"
   ]
  }
 ],
 "metadata": {
  "jupytext": {
   "cell_metadata_filter": "-all",
   "main_language": "python",
   "notebook_metadata_filter": "-all"
  },
  "language_info": {
   "codemirror_mode": {
    "name": "ipython",
    "version": 3
   },
   "file_extension": ".py",
   "mimetype": "text/x-python",
   "name": "python",
   "nbconvert_exporter": "python",
   "pygments_lexer": "ipython3",
   "version": "3.10.10"
  },
  "papermill": {
   "default_parameters": {},
   "duration": 26.51968,
   "end_time": "2023-10-24T22:07:59.756144",
   "environment_variables": {},
   "exception": null,
   "input_path": "./chipscopy-examples/noc_perfmon/sptg_example.ipynb",
   "output_path": "./chipscopy-examples/noc_perfmon/sptg_example.ipynb",
   "parameters": {},
   "start_time": "2023-10-24T22:07:33.236464",
   "version": "2.4.0"
  },
  "widgets": {
   "application/vnd.jupyter.widget-state+json": {
    "state": {
     "bb4c8cdde7b74d29ac8aff39ba178718": {
      "model_module": "@jupyter-widgets/base",
      "model_module_version": "2.0.0",
      "model_name": "LayoutModel",
      "state": {
       "_model_module": "@jupyter-widgets/base",
       "_model_module_version": "2.0.0",
       "_model_name": "LayoutModel",
       "_view_count": null,
       "_view_module": "@jupyter-widgets/base",
       "_view_module_version": "2.0.0",
       "_view_name": "LayoutView",
       "align_content": null,
       "align_items": null,
       "align_self": null,
       "border_bottom": null,
       "border_left": null,
       "border_right": null,
       "border_top": null,
       "bottom": null,
       "display": null,
       "flex": null,
       "flex_flow": null,
       "grid_area": null,
       "grid_auto_columns": null,
       "grid_auto_flow": null,
       "grid_auto_rows": null,
       "grid_column": null,
       "grid_gap": null,
       "grid_row": null,
       "grid_template_areas": null,
       "grid_template_columns": null,
       "grid_template_rows": null,
       "height": null,
       "justify_content": null,
       "justify_items": null,
       "left": null,
       "margin": null,
       "max_height": null,
       "max_width": null,
       "min_height": null,
       "min_width": null,
       "object_fit": null,
       "object_position": null,
       "order": null,
       "overflow": null,
       "padding": null,
       "right": null,
       "top": null,
       "visibility": null,
       "width": null
      }
     },
     "fa380caf33d74839b248ded248fe8245": {
      "model_module": "@jupyter-widgets/output",
      "model_module_version": "1.0.0",
      "model_name": "OutputModel",
      "state": {
       "_dom_classes": [],
       "_model_module": "@jupyter-widgets/output",
       "_model_module_version": "1.0.0",
       "_model_name": "OutputModel",
       "_view_count": null,
       "_view_module": "@jupyter-widgets/output",
       "_view_module_version": "1.0.0",
       "_view_name": "OutputView",
       "layout": "IPY_MODEL_bb4c8cdde7b74d29ac8aff39ba178718",
       "msg_id": "",
       "outputs": [
        {
         "data": {
          "text/html": "<pre style=\"white-space:pre;overflow-x:auto;line-height:normal;font-family:Menlo,'DejaVu Sans Mono',consolas,'Courier New',monospace\">Device program progress <span style=\"color: #729c1f; text-decoration-color: #729c1f\">━━━━━━━━━━━━━━━━━━━━━━━━━━━━━━━━━━━━━━━━</span> <span style=\"color: #ff00ff; text-decoration-color: #ff00ff; font-weight: bold\">100%</span> <span style=\"color: #008000; text-decoration-color: #008000; font-weight: bold\">Done</span>\n</pre>\n",
          "text/plain": "Device program progress \u001B[38;2;114;156;31m━━━━━━━━━━━━━━━━━━━━━━━━━━━━━━━━━━━━━━━━\u001B[0m \u001B[1;95m100%\u001B[0m \u001B[1;32mDone\u001B[0m\n"
         },
         "metadata": {},
         "output_type": "display_data"
        }
       ],
       "tabbable": null,
       "tooltip": null
      }
     }
    },
    "version_major": 2,
    "version_minor": 0
   }
  }
 },
 "nbformat": 4,
 "nbformat_minor": 5
}
