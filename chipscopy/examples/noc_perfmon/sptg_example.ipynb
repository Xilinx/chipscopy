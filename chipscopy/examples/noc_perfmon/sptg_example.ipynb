{
 "cells": [
  {
   "cell_type": "markdown",
   "id": "79c0afc3",
   "metadata": {
    "papermill": {
     "duration": 0.006723,
     "end_time": "2023-10-20T19:20:23.659562",
     "exception": false,
     "start_time": "2023-10-20T19:20:23.652839",
     "status": "completed"
    },
    "tags": []
   },
   "source": [
    "<link rel=\"preconnect\" href=\"https://fonts.gstatic.com\">\n",
    "<link href=\"https://fonts.googleapis.com/css2?family=Fira+Code&display=swap\" rel=\"stylesheet\">\n",
    "\n",
    "### License\n",
    "\n",
    "<p style=\"font-family: 'Fira Code', monospace; font-size: 1.2rem\">\n",
    "Copyright (C) 2021-2022, Xilinx, Inc.\n",
    "Copyright (C) 2022-2023, Advanced Micro Devices, Inc.\n",
    "<br><br>\n",
    "Licensed under the Apache License, Version 2.0 (the \"License\");<br>\n",
    "you may not use this file except in compliance with the License.<br><br>\n",
    "You may obtain a copy of the License at <a href=\"http://www.apache.org/licenses/LICENSE-2.0\"?>http://www.apache.org/licenses/LICENSE-2.0</a><br><br>\n",
    "Unless required by applicable law or agreed to in writing, software<br>\n",
    "distributed under the License is distributed on an \"AS IS\" BASIS,<br>\n",
    "WITHOUT WARRANTIES OR CONDITIONS OF ANY KIND, either express or implied.<br>\n",
    "See the License for the specific language governing permissions and<br>\n",
    "limitations under the License.<br>\n",
    "</p>\n"
   ]
  },
  {
   "cell_type": "markdown",
   "id": "79a6a4d7",
   "metadata": {
    "papermill": {
     "duration": 0.00498,
     "end_time": "2023-10-20T19:20:23.669807",
     "exception": false,
     "start_time": "2023-10-20T19:20:23.664827",
     "status": "completed"
    },
    "tags": []
   },
   "source": [
    "# ChipScoPy SPTG Perfmon Example\n",
    "\n",
    "\n",
    "<img src=\"../img/api_overview.png\" width=\"500\" align=\"left\">"
   ]
  },
  {
   "cell_type": "markdown",
   "id": "8947f419",
   "metadata": {
    "papermill": {
     "duration": 0.004593,
     "end_time": "2023-10-20T19:20:23.679143",
     "exception": false,
     "start_time": "2023-10-20T19:20:23.674550",
     "status": "completed"
    },
    "tags": []
   },
   "source": [
    "## Description\n",
    "This example demonstrates how to configure a Versal for taking NoC performance measurements.\n",
    "\n",
    "## Requirements\n",
    "- Local or remote Xilinx Versal board, such as a VCK190\n",
    "- Xilinx hw_server 2023.2 installed and running\n",
    "- Xilinx cs_server 2023.2 installed and running\n",
    "- Python 3.8 or greater installed\n",
    "- ChipScoPy 2023.2 installed\n",
    "- Jupyter notebook support installed - Please do so, using the command `pip install chipscopy[jupyter]`\n",
    "- Matplotlib support installed - Please do so, using the command `pip install chipscopy[core-addons]`"
   ]
  },
  {
   "cell_type": "markdown",
   "id": "1c9d43c2",
   "metadata": {
    "papermill": {
     "duration": 0.004936,
     "end_time": "2023-10-20T19:20:23.688627",
     "exception": false,
     "start_time": "2023-10-20T19:20:23.683691",
     "status": "completed"
    },
    "tags": []
   },
   "source": [
    "## 1 - Initialization: Imports and File Paths\n",
    "\n",
    "After this step,\n",
    "- Required functions and classes are imported\n",
    "- Paths to server(s) and files are set correctly"
   ]
  },
  {
   "cell_type": "code",
   "execution_count": 1,
   "id": "8ad6f942",
   "metadata": {
    "execution": {
     "iopub.execute_input": "2023-10-20T19:20:23.702026Z",
     "iopub.status.busy": "2023-10-20T19:20:23.701704Z",
     "iopub.status.idle": "2023-10-20T19:20:24.540089Z",
     "shell.execute_reply": "2023-10-20T19:20:24.539129Z"
    },
    "papermill": {
     "duration": 0.848089,
     "end_time": "2023-10-20T19:20:24.542606",
     "exception": false,
     "start_time": "2023-10-20T19:20:23.694517",
     "status": "completed"
    },
    "tags": []
   },
   "outputs": [],
   "source": [
    "import os\n",
    "from time import sleep\n",
    "import matplotlib  # for nbconvert'd script\n",
    "from chipscopy.api.noc import (\n",
    "    TC_BEW,\n",
    "    TC_BER,\n",
    "    NoCPerfMonNodeListener,\n",
    "    PerfTGController,\n",
    ")\n",
    "from chipscopy.api.noc.plotting_utils import MeasurementPlot\n",
    "from chipscopy import create_session, report_versions\n",
    "from chipscopy import get_design_files"
   ]
  },
  {
   "cell_type": "code",
   "execution_count": 2,
   "id": "c206c306",
   "metadata": {
    "execution": {
     "iopub.execute_input": "2023-10-20T19:20:24.555577Z",
     "iopub.status.busy": "2023-10-20T19:20:24.555285Z",
     "iopub.status.idle": "2023-10-20T19:20:24.565533Z",
     "shell.execute_reply": "2023-10-20T19:20:24.564317Z"
    },
    "papermill": {
     "duration": 0.018471,
     "end_time": "2023-10-20T19:20:24.567172",
     "exception": false,
     "start_time": "2023-10-20T19:20:24.548701",
     "status": "completed"
    },
    "tags": []
   },
   "outputs": [
    {
     "name": "stdout",
     "output_type": "stream",
     "text": [
      "HW_URL: TCP:localhost:3121\n",
      "CS_URL: TCP:localhost:3042\n",
      "PROGRAMMING_FILE: /wrk/xcohdnobkup3/dkopelov/chipscopy/chipscopy/examples/designs/vck190/production/chipscopy_ced/chipscopy_wrapper.pdi\n",
      "PROBES_FILE:/wrk/xcohdnobkup3/dkopelov/chipscopy/chipscopy/examples/designs/vck190/production/chipscopy_ced/chipscopy_wrapper.ltx\n"
     ]
    }
   ],
   "source": [
    "# Specify locations of the running hw_server and cs_server below.\n",
    "CS_URL = os.getenv(\"CS_SERVER_URL\", \"TCP:localhost:3042\")\n",
    "HW_URL = os.getenv(\"HW_SERVER_URL\", \"TCP:localhost:3121\")\n",
    "\n",
    "# specify hw and if programming is desired\n",
    "HW_PLATFORM = os.getenv(\"HW_PLATFORM\", \"vck190\")\n",
    "PROG_DEVICE = os.getenv(\"PROG_DEVICE\", 'True').lower() in ('true', '1', 't')\n",
    "\n",
    "# The get_design_files() function tries to find the PDI and LTX files. In non-standard\n",
    "# configurations, you can put the path for PROGRAMMING_FILE and PROBES_FILE below.\n",
    "design_files = get_design_files(f\"{HW_PLATFORM}/production/chipscopy_ced\")\n",
    "\n",
    "PROGRAMMING_FILE = design_files.programming_file\n",
    "PROBES_FILE = design_files.probes_file\n",
    "\n",
    "print(f\"HW_URL: {HW_URL}\")\n",
    "print(f\"CS_URL: {CS_URL}\")\n",
    "print(f\"PROGRAMMING_FILE: {PROGRAMMING_FILE}\")\n",
    "print(f\"PROBES_FILE:{PROBES_FILE}\")"
   ]
  },
  {
   "cell_type": "markdown",
   "id": "64285ac3",
   "metadata": {
    "papermill": {
     "duration": 0.004825,
     "end_time": "2023-10-20T19:20:24.577164",
     "exception": false,
     "start_time": "2023-10-20T19:20:24.572339",
     "status": "completed"
    },
    "tags": []
   },
   "source": [
    "## 2 - Create a session and connect to the hw_server and cs_server\n",
    "\n",
    "The session is a container that keeps track of devices and debug cores.\n",
    "After this step,\n",
    "- Session is initialized and connected to server(s)\n",
    "- Versions are detected and reported to stdout"
   ]
  },
  {
   "cell_type": "code",
   "execution_count": 3,
   "id": "59a134bf",
   "metadata": {
    "execution": {
     "iopub.execute_input": "2023-10-20T19:20:24.592068Z",
     "iopub.status.busy": "2023-10-20T19:20:24.591500Z",
     "iopub.status.idle": "2023-10-20T19:20:25.792492Z",
     "shell.execute_reply": "2023-10-20T19:20:25.791278Z"
    },
    "papermill": {
     "duration": 1.210905,
     "end_time": "2023-10-20T19:20:25.794126",
     "exception": false,
     "start_time": "2023-10-20T19:20:24.583221",
     "status": "completed"
    },
    "tags": []
   },
   "outputs": [
    {
     "data": {
      "text/html": [
       "<pre style=\"white-space:pre;overflow-x:auto;line-height:normal;font-family:Menlo,'DejaVu Sans Mono',consolas,'Courier New',monospace\">\n",
       "\n",
       "</pre>\n"
      ],
      "text/plain": [
       "<rich.jupyter.JupyterRenderable at 0x7f11ac313100>"
      ]
     },
     "metadata": {},
     "output_type": "display_data"
    },
    {
     "data": {
      "text/html": [
       "<pre style=\"white-space:pre;overflow-x:auto;line-height:normal;font-family:Menlo,'DejaVu Sans Mono',consolas,'Courier New',monospace\"><span style=\"font-style: italic\">                      ChipScoPy Version Information                      </span>\n",
       "┌────────────────────────────┬──────────────────────────────────────────┐\n",
       "│<span style=\"font-weight: bold\">                     Entity </span>│<span style=\"font-weight: bold\"> Version                                  </span>│\n",
       "├────────────────────────────┼──────────────────────────────────────────┤\n",
       "│                  ChipScoPy │ ┌───────────┬──────────────────────┐     │\n",
       "│                            │ │<span style=\"font-weight: bold\"> Attribute </span>│<span style=\"font-weight: bold\"> Value                </span>│     │\n",
       "│                            │ ├───────────┼──────────────────────┤     │\n",
       "│                            │ │     Build │ 2023.2.1693353190    │     │\n",
       "│                            │ │ Timestamp │ Aug 29 2023-17:53:10 │     │\n",
       "│                            │ └───────────┴──────────────────────┘     │\n",
       "│                            │                                          │\n",
       "│ hw_server @ localhost:3121 │ ┌───────────┬──────────────────────────┐ │\n",
       "│                            │ │<span style=\"font-weight: bold\"> Attribute </span>│<span style=\"font-weight: bold\"> Value                    </span>│ │\n",
       "│                            │ ├───────────┼──────────────────────────┤ │\n",
       "│                            │ │    Status │ Connected                │ │\n",
       "│                            │ │     Build │ 1683493450               │ │\n",
       "│                            │ │   Version │ 2023.1                   │ │\n",
       "│                            │ │ Timestamp │ Sun May  7 15:04:10 2023 │ │\n",
       "│                            │ └───────────┴──────────────────────────┘ │\n",
       "│                            │                                          │\n",
       "│ cs_server @ localhost:3042 │ ┌───────────────┬──────────────────────┐ │\n",
       "│                            │ │<span style=\"font-weight: bold\">     Attribute </span>│<span style=\"font-weight: bold\"> Value                </span>│ │\n",
       "│                            │ ├───────────────┼──────────────────────┤ │\n",
       "│                            │ │        Status │ Connected            │ │\n",
       "│                            │ │         Build │ 1696910516           │ │\n",
       "│                            │ │       Version │ 2023.2.0             │ │\n",
       "│                            │ │     Timestamp │ Oct 09 2023-22:01:56 │ │\n",
       "│                            │ │       Package │ 2023.2.1696910516    │ │\n",
       "│                            │ │ Artifact type │ pyinstaller          │ │\n",
       "│                            │ └───────────────┴──────────────────────┘ │\n",
       "└────────────────────────────┴──────────────────────────────────────────┘\n",
       "</pre>\n"
      ],
      "text/plain": [
       "<rich.jupyter.JupyterRenderable at 0x7f11af5a3fd0>"
      ]
     },
     "metadata": {},
     "output_type": "display_data"
    },
    {
     "data": {
      "text/html": [
       "<pre style=\"white-space:pre;overflow-x:auto;line-height:normal;font-family:Menlo,'DejaVu Sans Mono',consolas,'Courier New',monospace\">\n",
       "\n",
       "</pre>\n"
      ],
      "text/plain": [
       "<rich.jupyter.JupyterRenderable at 0x7f11af5a3fd0>"
      ]
     },
     "metadata": {},
     "output_type": "display_data"
    }
   ],
   "source": [
    "session = create_session(cs_server_url=CS_URL, hw_server_url=HW_URL)\n",
    "report_versions(session)"
   ]
  },
  {
   "cell_type": "markdown",
   "id": "bd9194fc",
   "metadata": {
    "papermill": {
     "duration": 0.005773,
     "end_time": "2023-10-20T19:20:25.806745",
     "exception": false,
     "start_time": "2023-10-20T19:20:25.800972",
     "status": "completed"
    },
    "tags": []
   },
   "source": [
    "## 3 - Program the device with the example design\n",
    "\n",
    "After this step,\n",
    "- Device is programmed with the example programming file"
   ]
  },
  {
   "cell_type": "code",
   "execution_count": 4,
   "id": "fb9aa7ca",
   "metadata": {
    "execution": {
     "iopub.execute_input": "2023-10-20T19:20:25.822313Z",
     "iopub.status.busy": "2023-10-20T19:20:25.821157Z",
     "iopub.status.idle": "2023-10-20T19:20:31.034800Z",
     "shell.execute_reply": "2023-10-20T19:20:31.033559Z"
    },
    "papermill": {
     "duration": 5.224198,
     "end_time": "2023-10-20T19:20:31.037725",
     "exception": false,
     "start_time": "2023-10-20T19:20:25.813527",
     "status": "completed"
    },
    "tags": []
   },
   "outputs": [
    {
     "data": {
      "text/html": [
       "<pre style=\"white-space:pre;overflow-x:auto;line-height:normal;font-family:Menlo,'DejaVu Sans Mono',consolas,'Courier New',monospace\">\n",
       "<span style=\"font-weight: bold\">--&gt; INFO: </span>Programming device with: /wrk/xcohdnobkup3/dkopelov/chipscopy/chipscopy/examples/de\n",
       "signs/vck190/production/chipscopy_ced/chipscopy_wrapper.pdi\n",
       "    \n",
       "</pre>\n"
      ],
      "text/plain": [
       "<rich.jupyter.JupyterRenderable at 0x7f11ac3130a0>"
      ]
     },
     "metadata": {},
     "output_type": "display_data"
    },
    {
     "name": "stderr",
     "output_type": "stream",
     "text": [
      "/wrk/xcohdnobkup3/dkopelov/chipscopy/chipscopy-venv-py38/lib/python3.8/site-packages/rich/live.py:216: UserWarning: install \"ipywidgets\" for Jupyter support\n",
      "  warnings.warn('install \"ipywidgets\" for Jupyter support')\n"
     ]
    }
   ],
   "source": [
    "versal_device = session.devices.filter_by(family=\"versal\").get()\n",
    "if PROG_DEVICE:\n",
    "    versal_device.program(PROGRAMMING_FILE)\n",
    "else:\n",
    "    print(\"skipping programming\")"
   ]
  },
  {
   "cell_type": "markdown",
   "id": "693231b1",
   "metadata": {
    "papermill": {
     "duration": 0.005505,
     "end_time": "2023-10-20T19:20:31.050362",
     "exception": false,
     "start_time": "2023-10-20T19:20:31.044857",
     "status": "completed"
    },
    "tags": []
   },
   "source": [
    "## 4 - Discover Debug Cores\n",
    "\n",
    "Debug core discovery initializes the chipscope server debug cores. This brings debug cores in the chipscope server online.\n",
    "\n",
    "After this step,\n",
    "\n",
    "- The cs_server is initialized and ready for use"
   ]
  },
  {
   "cell_type": "code",
   "execution_count": 5,
   "id": "13a0080b",
   "metadata": {
    "execution": {
     "iopub.execute_input": "2023-10-20T19:20:31.064553Z",
     "iopub.status.busy": "2023-10-20T19:20:31.063183Z",
     "iopub.status.idle": "2023-10-20T19:20:31.145107Z",
     "shell.execute_reply": "2023-10-20T19:20:31.144010Z"
    },
    "papermill": {
     "duration": 0.090765,
     "end_time": "2023-10-20T19:20:31.146595",
     "exception": false,
     "start_time": "2023-10-20T19:20:31.055830",
     "status": "completed"
    },
    "tags": []
   },
   "outputs": [
    {
     "name": "stdout",
     "output_type": "stream",
     "text": [
      "Debug cores setup and ready for use.\n"
     ]
    }
   ],
   "source": [
    "versal_device.discover_and_setup_cores(noc_scan=True, ltx_file=PROBES_FILE)\n",
    "print(f\"Debug cores setup and ready for use.\")"
   ]
  },
  {
   "cell_type": "markdown",
   "id": "45ac7dcc",
   "metadata": {
    "papermill": {
     "duration": 0.005462,
     "end_time": "2023-10-20T19:20:31.158460",
     "exception": false,
     "start_time": "2023-10-20T19:20:31.152998",
     "status": "completed"
    },
    "tags": []
   },
   "source": [
    "## 5 - Setup NoC core\n",
    "\n",
    "Ensure scan nodes are enabled in the design."
   ]
  },
  {
   "cell_type": "code",
   "execution_count": 6,
   "id": "d930b97a",
   "metadata": {
    "execution": {
     "iopub.execute_input": "2023-10-20T19:20:31.171654Z",
     "iopub.status.busy": "2023-10-20T19:20:31.170793Z",
     "iopub.status.idle": "2023-10-20T19:20:33.564498Z",
     "shell.execute_reply": "2023-10-20T19:20:33.563314Z"
    },
    "papermill": {
     "duration": 2.402384,
     "end_time": "2023-10-20T19:20:33.566265",
     "exception": false,
     "start_time": "2023-10-20T19:20:31.163881",
     "status": "completed"
    },
    "tags": []
   },
   "outputs": [
    {
     "name": "stdout",
     "output_type": "stream",
     "text": [
      "\n",
      "Enumerating nodes: DDRMC_X0Y0, NOC_NMU512_X0Y0, ..."
     ]
    },
    {
     "name": "stdout",
     "output_type": "stream",
     "text": [
      "complete!\n"
     ]
    }
   ],
   "source": [
    "# We begin by enumerating the debug cores (hard and soft) present in the design.\n",
    "# Then we ask the design for the supported timebases. And, finally:\n",
    "# The NoC is scanned to determine the activated elements.\n",
    "\n",
    "noc = versal_device.noc_core.get()\n",
    "\n",
    "scan_nodes = [\"DDRMC_X0Y0\", \"NOC_NMU512_X0Y0\"]\n",
    "print(\"\\nEnumerating nodes: \", end=\"\")\n",
    "for node in scan_nodes:\n",
    "    print(f\"{node}, \", end=\"\")\n",
    "print(\"...\", end=\"\")\n",
    "\n",
    "# this will setup the nodes on the server side and return the nodes successfully enumerated\n",
    "enable_list = noc.enumerate_noc_elements(scan_nodes)\n",
    "print(\"complete!\")"
   ]
  },
  {
   "cell_type": "code",
   "execution_count": 7,
   "id": "93e17d8d",
   "metadata": {
    "execution": {
     "iopub.execute_input": "2023-10-20T19:20:33.591211Z",
     "iopub.status.busy": "2023-10-20T19:20:33.590825Z",
     "iopub.status.idle": "2023-10-20T19:20:33.644463Z",
     "shell.execute_reply": "2023-10-20T19:20:33.643601Z"
    },
    "papermill": {
     "duration": 0.071202,
     "end_time": "2023-10-20T19:20:33.646127",
     "exception": false,
     "start_time": "2023-10-20T19:20:33.574925",
     "status": "completed"
    },
    "tags": []
   },
   "outputs": [
    {
     "name": "stdout",
     "output_type": "stream",
     "text": [
      "Supported sampling periods:\n",
      "  NoC:\n",
      "    67ms    134ms    268ms    537ms    1074ms    2147ms\n",
      "  NPI:\n",
      "    56ms    112ms    224ms    447ms    895ms    1790ms    3579ms    7158ms\n",
      "  DDRMC_X0Y0:\n",
      "    84ms    168ms    336ms    671ms    1342ms    2684ms\n"
     ]
    }
   ],
   "source": [
    "supported_periods = noc.get_supported_sampling_periods(\n",
    "    100/3, 100/3, {'DDRMC_X0Y0': 800.0}\n",
    ")\n",
    "print(\"Supported sampling periods:\")\n",
    "for domain, periods in supported_periods.items():\n",
    "    print(f\"  {domain}:\")\n",
    "    for p in periods:\n",
    "        print(f\"    {p:.0f}ms\", end=\"\")\n",
    "    print()"
   ]
  },
  {
   "cell_type": "code",
   "execution_count": 8,
   "id": "b0b25d57",
   "metadata": {
    "execution": {
     "iopub.execute_input": "2023-10-20T19:20:33.659643Z",
     "iopub.status.busy": "2023-10-20T19:20:33.659445Z",
     "iopub.status.idle": "2023-10-20T19:20:33.665453Z",
     "shell.execute_reply": "2023-10-20T19:20:33.664719Z"
    },
    "papermill": {
     "duration": 0.014302,
     "end_time": "2023-10-20T19:20:33.666799",
     "exception": false,
     "start_time": "2023-10-20T19:20:33.652497",
     "status": "completed"
    },
    "tags": []
   },
   "outputs": [
    {
     "name": "stdout",
     "output_type": "stream",
     "text": [
      "Sampling period selection:\n",
      "  NoC: 537ms\n",
      "  NPI: 895ms\n",
      "  DDRMC_X0Y0: 671ms\n"
     ]
    }
   ],
   "source": [
    "# Select Timebase and Nodes to Monitor\n",
    "#\n",
    "# For the two clock domains we must select a sampling period from the hardware supported values. The debug cable used will dictate how much bandwidth is available, so high frequency sampling may not actually produce data at the specified rate. Recommendation is ~500ms for jtag.\n",
    "#\n",
    "# Then the user must decide what to monitor--again the bandwidth is a definite consideration here. Plot performance may become the bottleneck (Optimizations will come later in the renderer or agg backend). The guidance here is to pick up to 4 nodes to monitor.\n",
    "\n",
    "desired_period = 500  # ms\n",
    "sampling_intervals = {}\n",
    "\n",
    "for domain in supported_periods.keys():\n",
    "    sampling_intervals[domain] = 0\n",
    "    for sp in supported_periods[domain]:\n",
    "        if sp > desired_period:\n",
    "            sampling_intervals[domain] = sp\n",
    "            break\n",
    "\n",
    "    if sampling_intervals[domain] == 0:\n",
    "        print(\n",
    "            f\"Warning, desired period {desired_period}ms is slower than \"\n",
    "            f\"longest supported period {supported_periods[domain][-1]}ms [{domain} domain] \"\n",
    "            f\"defaulting to this value.\"\n",
    "        )\n",
    "        sampling_intervals[domain] = supported_periods[-1]\n",
    "\n",
    "print(f\"Sampling period selection:\")\n",
    "for domain, freq in sampling_intervals.items():\n",
    "    print(f\"  {domain}: {freq:.0f}ms\")"
   ]
  },
  {
   "cell_type": "code",
   "execution_count": 9,
   "id": "8b5b43da",
   "metadata": {
    "execution": {
     "iopub.execute_input": "2023-10-20T19:20:33.679526Z",
     "iopub.status.busy": "2023-10-20T19:20:33.679344Z",
     "iopub.status.idle": "2023-10-20T19:20:33.770604Z",
     "shell.execute_reply": "2023-10-20T19:20:33.769476Z"
    },
    "lines_to_next_cell": 2,
    "papermill": {
     "duration": 0.099792,
     "end_time": "2023-10-20T19:20:33.772352",
     "exception": false,
     "start_time": "2023-10-20T19:20:33.672560",
     "status": "completed"
    },
    "tags": []
   },
   "outputs": [
    {
     "name": "stdout",
     "output_type": "stream",
     "text": [
      "Setting up monitors for: \n",
      "DDRMC_X0Y0\n",
      "NOC_NMU512_X0Y0\n"
     ]
    }
   ],
   "source": [
    "# Configure Monitors\n",
    "#\n",
    "# As a precaution, it's a good idea to validate the desired nodes are enabled for the design.\n",
    "# Using the set of nodes and the desired sampling periods it's time to ask the service to start pushing metric data. Two additional arguments are required to this API.\n",
    "#\n",
    "# Traffic class\n",
    "#\n",
    "# This is a bit-or field of the requested traffic classes. Note, One monitor is dedicated to read traffic classes and the other to write--so all read TCs will apply to one channel and all write TCs to the other. `Best effort` is a good place to start.\n",
    "#\n",
    "# Number of Samples\n",
    "#\n",
    "# The number of samples allows for a burst of measurements to be taken and then the underlying service will tear down the monitors and stop pumping data back to the client. `-1` denotes that sampling shall continue indefinitely.\n",
    "\n",
    "# total number of samples to capture (-1 for continuous mode)\n",
    "num_samples = -1\n",
    "\n",
    "print(\"Setting up monitors for: \")\n",
    "for node in enable_list:\n",
    "    print(node)\n",
    "\n",
    "# When overflow occurs the precision of the monitors must be traded for range\n",
    "# See the server API for more information\n",
    "extended_monitor_config = {\"NOC_NMU512_X0Y0\": {\"tslide\": 0x3}}  # or None\n",
    "noc.configure_monitors(\n",
    "    enable_list, sampling_intervals, (TC_BEW | TC_BER), num_samples, None, extended_monitor_config\n",
    ")"
   ]
  },
  {
   "cell_type": "markdown",
   "id": "8ae29bd4",
   "metadata": {
    "papermill": {
     "duration": 0.007205,
     "end_time": "2023-10-20T19:20:33.788704",
     "exception": false,
     "start_time": "2023-10-20T19:20:33.781499",
     "status": "completed"
    },
    "tags": []
   },
   "source": [
    "## 6 - Traffic Generator Configuration\n",
    "\n",
    "Release the traffic generator from reset."
   ]
  },
  {
   "cell_type": "code",
   "execution_count": 10,
   "id": "8aea0cae",
   "metadata": {
    "execution": {
     "iopub.execute_input": "2023-10-20T19:20:33.803304Z",
     "iopub.status.busy": "2023-10-20T19:20:33.803066Z",
     "iopub.status.idle": "2023-10-20T19:20:35.593473Z",
     "shell.execute_reply": "2023-10-20T19:20:35.592382Z"
    },
    "papermill": {
     "duration": 1.800004,
     "end_time": "2023-10-20T19:20:35.595557",
     "exception": false,
     "start_time": "2023-10-20T19:20:33.795553",
     "status": "completed"
    },
    "tags": []
   },
   "outputs": [
    {
     "name": "stdout",
     "output_type": "stream",
     "text": [
      "\n",
      "VIO Core Index 0\n",
      "NAME       : chipscopy_i/counters/vio_fast_counter_0\n",
      "UUID       : 718A03DBCD265D969EA5C15840AEFD17\n",
      "PORT_NAMES : ['probe_in0', 'probe_out0', 'probe_out1', 'probe_out2', 'probe_out3', 'probe_out4']\n",
      "PROBE_NAMES: ['chipscopy_i/counters/fast_counter_0_Q', 'chipscopy_i/counters/fast_counter_0_CE', 'chipscopy_i/counters/fast_counter_0_SCLR', 'chipscopy_i/counters/fast_counter_0_UP', 'chipscopy_i/counters/fast_counter_0_LOAD', 'chipscopy_i/counters/fast_counter_0_L']\n",
      "\n",
      "VIO Core Index 1\n",
      "NAME       : chipscopy_i/counters/vio_slow_counter_0\n",
      "UUID       : 22BC7ED6C4145AAB88C58EAEDFF2B04C\n",
      "PORT_NAMES : ['probe_in0', 'probe_out0', 'probe_out1', 'probe_out2', 'probe_out3', 'probe_out4']\n",
      "PROBE_NAMES: ['chipscopy_i/counters/slow_counter_0_Q', 'chipscopy_i/counters/slow_counter_0_CE', 'chipscopy_i/counters/slow_counter_0_SCLR', 'chipscopy_i/counters/slow_counter_0_UP', 'chipscopy_i/counters/slow_counter_0_LOAD', 'chipscopy_i/counters/slow_counter_0_L']\n",
      "\n",
      "VIO Core Index 2\n",
      "NAME       : chipscopy_i/noc_tg_bc/axis_vio_0\n",
      "UUID       : 021098F58FE659EFAD76657E635E53FE\n",
      "PORT_NAMES : ['probe_in0', 'probe_in1', 'probe_out0', 'probe_out1']\n",
      "PROBE_NAMES: ['chipscopy_i/noc_tg_bc/noc_tg_axi_tg_done', 'chipscopy_i/noc_tg_bc/noc_tg_axi_tg_error', 'chipscopy_i/noc_tg_bc/noc_sim_trig_rst_n', 'chipscopy_i/noc_tg_bc/noc_tg_tg_rst_n']\n",
      "\n",
      "VIO Core Index 3\n",
      "NAME       : chipscopy_i/noc_tg_bc/noc_tg/inst/u_top_axi_mst/u_tg_top/gen_aximm_reg_space.u_reg_space/gen_vio_status_monitor.u_vio_status_monitor\n",
      "UUID       : 0E76DEFA789D564080CFA5332A88DB12\n",
      "PORT_NAMES : ['probe_in0', 'probe_in1', 'probe_in2', 'probe_in3', 'probe_in4', 'probe_in5', 'probe_in6', 'probe_in7', 'probe_in8', 'probe_in9', 'probe_out0']\n",
      "PROBE_NAMES: ['chipscopy_i/noc_tg_bc/noc_tg/inst/u_top_axi_mst/u_tg_top/gen_aximm_reg_space.u_reg_space/tg_done_sl_ff', 'chipscopy_i/noc_tg_bc/noc_tg/inst/u_top_axi_mst/u_tg_top/gen_aximm_reg_space.u_reg_space/tg_error_sl_ff', 'chipscopy_i/noc_tg_bc/noc_tg/inst/u_top_axi_mst/u_tg_top/gen_aximm_reg_space.u_reg_space/wrch_done_sl_ff', 'chipscopy_i/noc_tg_bc/noc_tg/inst/u_top_axi_mst/u_tg_top/gen_aximm_reg_space.u_reg_space/rdch_done_sl_ff', 'chipscopy_i/noc_tg_bc/noc_tg/inst/u_top_axi_mst/u_tg_top/gen_aximm_reg_space.u_reg_space/wr_err_pclk', 'chipscopy_i/noc_tg_bc/noc_tg/inst/u_top_axi_mst/u_tg_top/gen_aximm_reg_space.u_reg_space/rd_err_pclk', 'chipscopy_i/noc_tg_bc/noc_tg/inst/u_top_axi_mst/u_tg_top/gen_aximm_reg_space.u_reg_space/rcvd_byte_vio', 'chipscopy_i/noc_tg_bc/noc_tg/inst/u_top_axi_mst/u_tg_top/gen_aximm_reg_space.u_reg_space/exp_byte_vio', 'chipscopy_i/noc_tg_bc/noc_tg/inst/u_top_axi_mst/u_tg_top/gen_aximm_reg_space.u_reg_space/di_err_addr_lsb', 'chipscopy_i/noc_tg_bc/noc_tg/inst/u_top_axi_mst/u_tg_top/gen_aximm_reg_space.u_reg_space/di_err_addr_msb', 'chipscopy_i/noc_tg_bc/noc_tg/inst/u_top_axi_mst/u_tg_top/gen_aximm_reg_space.u_reg_space/probe_out0']\n",
      "chipscopy_i/noc_tg_bc/axis_vio_0\n"
     ]
    }
   ],
   "source": [
    "vio_cores = versal_device.vio_cores\n",
    "for index, vio_core in enumerate(vio_cores):\n",
    "    print(f\"\\nVIO Core Index {index}\")\n",
    "    print(\"NAME       :\", vio_core.name)\n",
    "    print(\"UUID       :\", vio_core.uuid)\n",
    "    print(\"PORT_NAMES :\", vio_core.port_names)\n",
    "    print(\"PROBE_NAMES:\", vio_core.probe_names)\n",
    "\n",
    "# tg_vio_bc = \"sptg_axi_i\"\n",
    "tg_vio_bc = \"chipscopy_i/noc_tg_bc\"\n",
    "tg_vio_name = f\"{tg_vio_bc}/axis_vio_0\"\n",
    "print(tg_vio_name)\n",
    "tg_vio = versal_device.vio_cores.get(name=tg_vio_name)\n",
    "\n",
    "tg_vio.reset_vio()\n",
    "tg_vio.write_probes(\n",
    "    {f\"{tg_vio_bc}/noc_sim_trig_rst_n\": 0x1, f\"{tg_vio_bc}/noc_tg_tg_rst_n\": 0x1}\n",
    ")  # clear nrst on trigger and tg\n",
    "\n",
    "first_tg_ba = 0x201_8000_0000\n",
    "tg = PerfTGController(first_tg_ba, versal_device, vio=tg_vio)"
   ]
  },
  {
   "cell_type": "markdown",
   "id": "bcb55e0f",
   "metadata": {
    "papermill": {
     "duration": 0.006898,
     "end_time": "2023-10-20T19:20:35.610442",
     "exception": false,
     "start_time": "2023-10-20T19:20:35.603544",
     "status": "completed"
    },
    "tags": []
   },
   "source": [
    "## 7 - Create plotter and listener\n",
    "\n",
    "Attach both to running view"
   ]
  },
  {
   "cell_type": "code",
   "execution_count": 11,
   "id": "f386ed88",
   "metadata": {
    "execution": {
     "iopub.execute_input": "2023-10-20T19:20:35.628424Z",
     "iopub.status.busy": "2023-10-20T19:20:35.627878Z",
     "iopub.status.idle": "2023-10-20T19:20:36.132564Z",
     "shell.execute_reply": "2023-10-20T19:20:36.131365Z"
    },
    "papermill": {
     "duration": 0.516006,
     "end_time": "2023-10-20T19:20:36.135087",
     "exception": false,
     "start_time": "2023-10-20T19:20:35.619081",
     "status": "completed"
    },
    "tags": []
   },
   "outputs": [
    {
     "name": "stderr",
     "output_type": "stream",
     "text": [
      "qt.qpa.xcb: failed to initialize XRandr\n",
      "qt.qpa.xcb: X server does not support XInput 2\n"
     ]
    }
   ],
   "source": [
    "record_to_file = False  # True | False\n",
    "node_listener = NoCPerfMonNodeListener(\n",
    "    sampling_intervals,\n",
    "    num_samples,\n",
    "    enable_list,\n",
    "    record_to_file,\n",
    "    extended_monitor_config=extended_monitor_config,\n",
    ")\n",
    "session.chipscope_view.add_node_listener(node_listener)\n",
    "\n",
    "plotter = MeasurementPlot(enable_list, mock=False, figsize=(10, 7.5), tg=tg)\n",
    "node_listener.link_plotter(plotter)\n",
    "\n",
    "# Build Plotting Graphs\n",
    "matplotlib.use(\"Qt5Agg\")\n",
    "plotter.build_graphs()"
   ]
  },
  {
   "cell_type": "markdown",
   "id": "43971f50",
   "metadata": {
    "papermill": {
     "duration": 0.007326,
     "end_time": "2023-10-20T19:20:36.150494",
     "exception": false,
     "start_time": "2023-10-20T19:20:36.143168",
     "status": "completed"
    },
    "tags": []
   },
   "source": [
    "## 8 - Main Event Loop\n",
    "\n",
    "This loop runs until you close the plotter.\n",
    "If you are using a finite amount of measurement samples, you can uncomment the if --> break statement to automatically return from execution of this cell upon completion of the burst."
   ]
  },
  {
   "cell_type": "code",
   "execution_count": 12,
   "id": "3e8c96f2",
   "metadata": {
    "execution": {
     "iopub.execute_input": "2023-10-20T19:20:36.211536Z",
     "iopub.status.busy": "2023-10-20T19:20:36.210342Z",
     "iopub.status.idle": "2023-10-20T19:20:46.172345Z",
     "shell.execute_reply": "2023-10-20T19:20:46.171377Z"
    },
    "papermill": {
     "duration": 10.017751,
     "end_time": "2023-10-20T19:20:46.175099",
     "exception": false,
     "start_time": "2023-10-20T19:20:36.157348",
     "status": "completed"
    },
    "tags": []
   },
   "outputs": [
    {
     "name": "stderr",
     "output_type": "stream",
     "text": [
      "qt.qpa.xcb: QXcbConnection: XCB error: 1 (BadRequest), sequence: 170, resource id: 53, major code: 131 (Unknown), minor code: 47\n"
     ]
    }
   ],
   "source": [
    "# Run Main Event Loop\n",
    "loop_count = 0\n",
    "while True:\n",
    "    session.chipscope_view.run_events()\n",
    "    sleep(0.1)\n",
    "    plotter.fig.canvas.draw()\n",
    "    plotter.fig.canvas.flush_events()\n",
    "    if not plotter.alive:\n",
    "        break\n",
    "    # Below will return on burst completion - uncomment if you want to try.\n",
    "    # if all([x <= 0 for x in node_listener.num_samples.values()]):\n",
    "    #     break"
   ]
  },
  {
   "cell_type": "code",
   "execution_count": 13,
   "id": "f6c69748",
   "metadata": {
    "execution": {
     "iopub.execute_input": "2023-10-20T19:20:46.191576Z",
     "iopub.status.busy": "2023-10-20T19:20:46.190599Z",
     "iopub.status.idle": "2023-10-20T19:20:46.562958Z",
     "shell.execute_reply": "2023-10-20T19:20:46.562122Z"
    },
    "papermill": {
     "duration": 0.382791,
     "end_time": "2023-10-20T19:20:46.565548",
     "exception": false,
     "start_time": "2023-10-20T19:20:46.182757",
     "status": "completed"
    },
    "tags": []
   },
   "outputs": [],
   "source": [
    "# Reset Traffic Generator\n",
    "# This allows for a hard block-level reset of the traffic generator.\n",
    "\n",
    "tg.block_reset()"
   ]
  }
 ],
 "metadata": {
  "jupytext": {
   "cell_metadata_filter": "-all",
   "main_language": "python",
   "notebook_metadata_filter": "-all"
  },
  "language_info": {
   "codemirror_mode": {
    "name": "ipython",
    "version": 3
   },
   "file_extension": ".py",
   "mimetype": "text/x-python",
   "name": "python",
   "nbconvert_exporter": "python",
   "pygments_lexer": "ipython3",
   "version": "3.8.3"
  },
  "papermill": {
   "default_parameters": {},
   "duration": 26.358415,
   "end_time": "2023-10-20T19:20:47.201554",
   "environment_variables": {},
   "exception": null,
   "input_path": "chipscopy/examples/noc_perfmon/sptg_example.ipynb",
   "output_path": "chipscopy/examples/noc_perfmon/sptg_example.ipynb",
   "parameters": {},
   "start_time": "2023-10-20T19:20:20.843139",
   "version": "2.4.0"
  }
 },
 "nbformat": 4,
 "nbformat_minor": 5
}